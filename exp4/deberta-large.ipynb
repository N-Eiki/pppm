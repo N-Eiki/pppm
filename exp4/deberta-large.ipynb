{
 "cells": [
  {
   "cell_type": "markdown",
   "id": "70f90ffb",
   "metadata": {
    "id": "e460cbb5",
    "papermill": {
     "duration": 0.027808,
     "end_time": "2022-03-22T09:40:01.410751",
     "exception": false,
     "start_time": "2022-03-22T09:40:01.382943",
     "status": "completed"
    },
    "tags": []
   },
   "source": [
    "# About this notebook\n",
    "- Deberta-v3-large starter code\n",
    "- pip wheels is [here](https://www.kaggle.com/code/yasufuminakama/pppm-pip-wheels)\n",
    "- Inference notebook is [here](https://www.kaggle.com/code/yasufuminakama/pppm-deberta-v3-large-baseline-inference)\n",
    "\n",
    "If this notebook is helpful, feel free to upvote :)"
   ]
  },
  {
   "cell_type": "code",
   "execution_count": 1,
   "id": "4b6835d2-9fc4-4e64-8eb9-1f8eebb143bf",
   "metadata": {},
   "outputs": [],
   "source": [
    "import os\n",
    "import time\n",
    "\n",
    "# wait_to_make = \"trained_list/mpnet-base-trans.txt\"\n",
    "# count = 0\n",
    "# while 1:\n",
    "#     if os.path.exists(wait_to_make):\n",
    "#         break\n",
    "#     print(f'sleep {count} h')\n",
    "#     time.sleep(3600)\n",
    "#     count+=1\n",
    "    \n"
   ]
  },
  {
   "cell_type": "code",
   "execution_count": 2,
   "id": "7df63313-5526-4691-94ae-12ea4bf25bde",
   "metadata": {},
   "outputs": [],
   "source": [
    "_mixout = 0.9\n",
    "EXP_NAME = f\"microsoft-deberta-v3-base-mixout{_mixout}-transformer-all\"\n"
   ]
  },
  {
   "cell_type": "code",
   "execution_count": 3,
   "id": "d14ce8ab",
   "metadata": {},
   "outputs": [
    {
     "name": "stdout",
     "output_type": "stream",
     "text": [
      "Looking in links: https://download.pytorch.org/whl/torch_stable.html\n",
      "Requirement already satisfied: torch==1.9.0+cu111 in /opt/conda/lib/python3.7/site-packages (1.9.0+cu111)\n",
      "Requirement already satisfied: torchvision==0.10.0+cu111 in /opt/conda/lib/python3.7/site-packages (0.10.0+cu111)\n",
      "Requirement already satisfied: torchaudio===0.9.0 in /opt/conda/lib/python3.7/site-packages (0.9.0)\n",
      "Requirement already satisfied: typing-extensions in /opt/conda/lib/python3.7/site-packages (from torch==1.9.0+cu111) (4.1.1)\n",
      "Requirement already satisfied: pillow>=5.3.0 in /opt/conda/lib/python3.7/site-packages (from torchvision==0.10.0+cu111) (9.0.1)\n",
      "Requirement already satisfied: numpy in /opt/conda/lib/python3.7/site-packages (from torchvision==0.10.0+cu111) (1.21.5)\n",
      "\u001b[33mWARNING: Running pip as the 'root' user can result in broken permissions and conflicting behaviour with the system package manager. It is recommended to use a virtual environment instead: https://pip.pypa.io/warnings/venv\u001b[0m\u001b[33m\n",
      "\u001b[0m"
     ]
    }
   ],
   "source": [
    "# !nvidia-smi\n",
    "! pip install torch==1.9.0+cu111 torchvision==0.10.0+cu111 torchaudio===0.9.0 -f https://download.pytorch.org/whl/torch_stable.html"
   ]
  },
  {
   "cell_type": "code",
   "execution_count": 4,
   "id": "c13809d2",
   "metadata": {},
   "outputs": [
    {
     "name": "stdout",
     "output_type": "stream",
     "text": [
      "1.9.0+cu111\n",
      "True\n"
     ]
    }
   ],
   "source": [
    "import torch\n",
    "print(torch.__version__)\n",
    "print(torch.cuda.is_available())"
   ]
  },
  {
   "cell_type": "code",
   "execution_count": null,
   "id": "d2cd7afb-e1c1-4e33-bd6b-7128ebd52aba",
   "metadata": {},
   "outputs": [],
   "source": []
  },
  {
   "cell_type": "markdown",
   "id": "263c913e",
   "metadata": {
    "papermill": {
     "duration": 0.024515,
     "end_time": "2022-03-22T09:40:01.460332",
     "exception": false,
     "start_time": "2022-03-22T09:40:01.435817",
     "status": "completed"
    },
    "tags": []
   },
   "source": [
    "# Directory settings"
   ]
  },
  {
   "cell_type": "code",
   "execution_count": 5,
   "id": "46d8c76e",
   "metadata": {
    "id": "fa3b873b",
    "papermill": {
     "duration": 0.041313,
     "end_time": "2022-03-22T09:40:01.526545",
     "exception": false,
     "start_time": "2022-03-22T09:40:01.485232",
     "status": "completed"
    },
    "tags": []
   },
   "outputs": [],
   "source": [
    "# ====================================================\n",
    "# Directory settings\n",
    "# ====================================================\n",
    "\n",
    "import os\n",
    "import datetime\n",
    "\n",
    "INPUT_DIR = '../../data/us-patent-phrase-to-phrase-matching/'\n",
    "dt_now = datetime.datetime.now()\n",
    "\n",
    "date = dt_now.strftime('%Y-%m-%d-%H-%M-%S')\n",
    " \n",
    "OUTPUT_DIR = f'./output/{EXP_NAME}/'\n",
    "# if not os.path.exists(OUTPUT_DIR):\n",
    "os.makedirs(OUTPUT_DIR, exist_ok=True)\n"
   ]
  },
  {
   "cell_type": "markdown",
   "id": "c75f6918",
   "metadata": {
    "id": "1d0c4430",
    "papermill": {
     "duration": 0.024609,
     "end_time": "2022-03-22T09:40:01.576366",
     "exception": false,
     "start_time": "2022-03-22T09:40:01.551757",
     "status": "completed"
    },
    "tags": []
   },
   "source": [
    "# CFG"
   ]
  },
  {
   "cell_type": "code",
   "execution_count": 6,
   "id": "80d58afe",
   "metadata": {
    "id": "48dd82bb",
    "papermill": {
     "duration": 0.033949,
     "end_time": "2022-03-22T09:40:01.634977",
     "exception": false,
     "start_time": "2022-03-22T09:40:01.601028",
     "status": "completed"
    },
    "tags": []
   },
   "outputs": [],
   "source": [
    "# ====================================================\n",
    "# CFG\n",
    "# ====================================================\n",
    "class CFG:\n",
    "    wandb=False\n",
    "    competition='PPPM'\n",
    "    _wandb_kernel='nakama'\n",
    "    debug=False\n",
    "    apex=True\n",
    "    print_freq=100\n",
    "    num_workers=4\n",
    "    # model=\"microsoft/deberta-v3-large\"\n",
    "    model = \"microsoft/deberta-v3-base\"\n",
    "    # size = \"large\n",
    "    # model = f\"{model}-{size}\"\n",
    "    if \"small\" in model:\n",
    "        hidden_state = hiddden_state_fix = 512\n",
    "    elif \"base\" in model:\n",
    "        hidden_state = hiddden_state_fix = 768\n",
    "    elif \"large\" in model:\n",
    "        hidden_state = hiddden_state_fix = 1024\n",
    "    elif \"xlarge\" in model:\n",
    "        hidden_state =  1536\n",
    "        \n",
    "    scheduler='cosine' # ['linear', 'cosine']\n",
    "    batch_scheduler=True\n",
    "    num_cycles=0.5\n",
    "    num_warmup_steps=0\n",
    "    epochs=6\n",
    "    encoder_lr=2e-5\n",
    "    decoder_lr=2e-5\n",
    "    min_lr=1e-6\n",
    "    eps=1e-6\n",
    "    betas=(0.9, 0.999)\n",
    "    \n",
    "    batch_size=8\n",
    "    mixout = True\n",
    "    mixout_prob = _mixout\n",
    "    \n",
    "    fc_dropout=0.2\n",
    "    target_size=1\n",
    "    max_len=512\n",
    "    weight_decay=0.01\n",
    "    gradient_accumulation_steps=1\n",
    "    max_grad_norm=1000\n",
    "    seed=42\n",
    "    n_fold=4\n",
    "    trn_fold=[i for i in range(n_fold)]\n",
    "    train=True\n",
    "    \n",
    "if CFG.debug:\n",
    "    CFG.epochs = 2\n",
    "    CFG.trn_fold = [0]"
   ]
  },
  {
   "cell_type": "code",
   "execution_count": 7,
   "id": "b7de2887",
   "metadata": {
    "id": "b88c983e",
    "papermill": {
     "duration": 8.873453,
     "end_time": "2022-03-22T09:40:10.532922",
     "exception": false,
     "start_time": "2022-03-22T09:40:01.659469",
     "status": "completed"
    },
    "tags": []
   },
   "outputs": [],
   "source": [
    "# ====================================================\n",
    "# wandb\n",
    "# ====================================================\n",
    "if CFG.wandb:\n",
    "    \n",
    "    import wandb\n",
    "\n",
    "    try:\n",
    "        from kaggle_secrets import UserSecretsClient\n",
    "        user_secrets = UserSecretsClient()\n",
    "        secret_value_0 = user_secrets.get_secret(\"wandb_api\")\n",
    "        wandb.login(key=secret_value_0)\n",
    "        anony = None\n",
    "    except:\n",
    "        anony = \"must\"\n",
    "        print('If you want to use your W&B account, go to Add-ons -> Secrets and provide your W&B access token. Use the Label name as wandb_api. \\nGet your W&B access token from here: https://wandb.ai/authorize')\n",
    "\n",
    "\n",
    "    def class2dict(f):\n",
    "        return dict((name, getattr(f, name)) for name in dir(f) if not name.startswith('__'))\n",
    "\n",
    "    run = wandb.init(project='PPPM-Public', \n",
    "                     name=CFG.model,\n",
    "                     config=class2dict(CFG),\n",
    "                     group=CFG.model,\n",
    "                     job_type=\"train\",\n",
    "                     anonymous=anony)"
   ]
  },
  {
   "cell_type": "code",
   "execution_count": 8,
   "id": "9f7d6f8c",
   "metadata": {},
   "outputs": [],
   "source": [
    "# !pip install transformers==4.16.2\n",
    "# !pip install tokenizers==0.11.0"
   ]
  },
  {
   "cell_type": "markdown",
   "id": "5ed638be",
   "metadata": {
    "id": "f2ed8ef2",
    "papermill": {
     "duration": 0.038261,
     "end_time": "2022-03-22T09:40:10.626926",
     "exception": false,
     "start_time": "2022-03-22T09:40:10.588665",
     "status": "completed"
    },
    "tags": []
   },
   "source": [
    "# Library"
   ]
  },
  {
   "cell_type": "code",
   "execution_count": 9,
   "id": "ebee5bbe",
   "metadata": {
    "executionInfo": {
     "elapsed": 20123,
     "status": "ok",
     "timestamp": 1644920080956,
     "user": {
      "displayName": "Yasufumi Nakama",
      "photoUrl": "https://lh3.googleusercontent.com/a/default-user=s64",
      "userId": "17486303986134302670"
     },
     "user_tz": -540
    },
    "id": "35916341",
    "outputId": "06fa0ab8-a380-4f54-a98d-b7015b79d9e2",
    "papermill": {
     "duration": 26.143536,
     "end_time": "2022-03-22T09:40:36.798853",
     "exception": false,
     "start_time": "2022-03-22T09:40:10.655317",
     "status": "completed"
    },
    "tags": []
   },
   "outputs": [
    {
     "name": "stdout",
     "output_type": "stream",
     "text": [
      "torch.__version__: 1.9.0+cu111\n",
      "tokenizers.__version__: 0.11.6\n",
      "transformers.__version__: 4.17.0\n",
      "env: TOKENIZERS_PARALLELISM=true\n",
      "cuda\n"
     ]
    }
   ],
   "source": [
    "# ====================================================\n",
    "# Library\n",
    "# ====================================================\n",
    "import os\n",
    "import gc\n",
    "import re\n",
    "import ast\n",
    "import sys\n",
    "import copy\n",
    "import json\n",
    "import time\n",
    "import math\n",
    "import shutil\n",
    "import string\n",
    "import pickle\n",
    "import random\n",
    "import joblib\n",
    "import itertools\n",
    "from pathlib import Path\n",
    "import warnings\n",
    "warnings.filterwarnings(\"ignore\")\n",
    "\n",
    "import scipy as sp\n",
    "import numpy as np\n",
    "import pandas as pd\n",
    "pd.set_option('display.max_rows', 500)\n",
    "pd.set_option('display.max_columns', 500)\n",
    "pd.set_option('display.width', 1000)\n",
    "from tqdm.auto import tqdm\n",
    "from sklearn.metrics import f1_score\n",
    "from sklearn.model_selection import StratifiedKFold, GroupKFold, KFold\n",
    "\n",
    "import torch\n",
    "print(f\"torch.__version__: {torch.__version__}\")\n",
    "import torch.nn as nn\n",
    "from torch.nn import Parameter\n",
    "import torch.nn.functional as F\n",
    "from torch.optim import Adam, SGD, AdamW\n",
    "from torch.utils.data import DataLoader, Dataset\n",
    "\n",
    "import tokenizers\n",
    "import transformers\n",
    "print(f\"tokenizers.__version__: {tokenizers.__version__}\")\n",
    "print(f\"transformers.__version__: {transformers.__version__}\")\n",
    "from transformers import AutoTokenizer, AutoModel, AutoConfig,AutoModelForTokenClassification\n",
    "from transformers import get_linear_schedule_with_warmup, get_cosine_schedule_with_warmup\n",
    "%env TOKENIZERS_PARALLELISM=true\n",
    "\n",
    "device = torch.device('cuda' if torch.cuda.is_available() else 'cpu')\n",
    "print(device)\n",
    "\n",
    "start = time.time()"
   ]
  },
  {
   "cell_type": "markdown",
   "id": "dcc0106a",
   "metadata": {
    "id": "fd586614",
    "papermill": {
     "duration": 0.032888,
     "end_time": "2022-03-22T09:40:36.865209",
     "exception": false,
     "start_time": "2022-03-22T09:40:36.832321",
     "status": "completed"
    },
    "tags": []
   },
   "source": [
    "# Utils"
   ]
  },
  {
   "cell_type": "code",
   "execution_count": 10,
   "id": "540df385",
   "metadata": {
    "id": "d5c0ccc6",
    "papermill": {
     "duration": 0.21551,
     "end_time": "2022-03-22T09:40:37.116848",
     "exception": false,
     "start_time": "2022-03-22T09:40:36.901338",
     "status": "completed"
    },
    "tags": []
   },
   "outputs": [],
   "source": [
    "# ====================================================\n",
    "# Utils\n",
    "# ====================================================\n",
    "def get_score(y_true, y_pred):\n",
    "    score = sp.stats.pearsonr(y_true, y_pred)[0]\n",
    "    return score\n",
    "\n",
    "\n",
    "def get_logger(filename=OUTPUT_DIR+'train'):\n",
    "    if os.path.exists(filename):\n",
    "        os.remove(filename)\n",
    "    from logging import getLogger, INFO, StreamHandler, FileHandler, Formatter\n",
    "    logger = getLogger(__name__)\n",
    "    logger.setLevel(INFO)\n",
    "    handler1 = StreamHandler()\n",
    "    handler1.setFormatter(Formatter(\"%(message)s\"))\n",
    "    handler2 = FileHandler(filename=f\"{filename}.log\")\n",
    "    handler2.setFormatter(Formatter(\"%(message)s\"))\n",
    "    logger.addHandler(handler1)\n",
    "    logger.addHandler(handler2)\n",
    "    return logger\n",
    "\n",
    "LOGGER = get_logger()\n",
    "\n",
    "def seed_everything(seed=42):\n",
    "    random.seed(seed)\n",
    "    os.environ['PYTHONHASHSEED'] = str(seed)\n",
    "    np.random.seed(seed)\n",
    "    torch.manual_seed(seed)\n",
    "    torch.cuda.manual_seed(seed)\n",
    "    torch.backends.cudnn.deterministic = True\n",
    "    \n",
    "seed_everything(seed=42)"
   ]
  },
  {
   "cell_type": "markdown",
   "id": "32170fde",
   "metadata": {
    "id": "cb3d8e1e",
    "papermill": {
     "duration": 0.032614,
     "end_time": "2022-03-22T09:40:37.184739",
     "exception": false,
     "start_time": "2022-03-22T09:40:37.152125",
     "status": "completed"
    },
    "tags": []
   },
   "source": [
    "# Data Loading"
   ]
  },
  {
   "cell_type": "code",
   "execution_count": 11,
   "id": "a903a50f",
   "metadata": {
    "executionInfo": {
     "elapsed": 2627,
     "status": "ok",
     "timestamp": 1644920084001,
     "user": {
      "displayName": "Yasufumi Nakama",
      "photoUrl": "https://lh3.googleusercontent.com/a/default-user=s64",
      "userId": "17486303986134302670"
     },
     "user_tz": -540
    },
    "id": "bef012d3",
    "outputId": "d4d60dbc-510c-4f34-8d64-dd1d88c4808c",
    "papermill": {
     "duration": 0.154829,
     "end_time": "2022-03-22T09:40:37.374453",
     "exception": false,
     "start_time": "2022-03-22T09:40:37.219624",
     "status": "completed"
    },
    "tags": []
   },
   "outputs": [
    {
     "name": "stdout",
     "output_type": "stream",
     "text": [
      "train.shape: (36473, 5)\n",
      "test.shape: (36, 4)\n",
      "submission.shape: (36, 2)\n"
     ]
    },
    {
     "data": {
      "text/html": [
       "<div>\n",
       "<style scoped>\n",
       "    .dataframe tbody tr th:only-of-type {\n",
       "        vertical-align: middle;\n",
       "    }\n",
       "\n",
       "    .dataframe tbody tr th {\n",
       "        vertical-align: top;\n",
       "    }\n",
       "\n",
       "    .dataframe thead th {\n",
       "        text-align: right;\n",
       "    }\n",
       "</style>\n",
       "<table border=\"1\" class=\"dataframe\">\n",
       "  <thead>\n",
       "    <tr style=\"text-align: right;\">\n",
       "      <th></th>\n",
       "      <th>id</th>\n",
       "      <th>anchor</th>\n",
       "      <th>target</th>\n",
       "      <th>context</th>\n",
       "      <th>score</th>\n",
       "    </tr>\n",
       "  </thead>\n",
       "  <tbody>\n",
       "    <tr>\n",
       "      <th>0</th>\n",
       "      <td>37d61fd2272659b1</td>\n",
       "      <td>abatement</td>\n",
       "      <td>abatement of pollution</td>\n",
       "      <td>A47</td>\n",
       "      <td>0.50</td>\n",
       "    </tr>\n",
       "    <tr>\n",
       "      <th>1</th>\n",
       "      <td>7b9652b17b68b7a4</td>\n",
       "      <td>abatement</td>\n",
       "      <td>act of abating</td>\n",
       "      <td>A47</td>\n",
       "      <td>0.75</td>\n",
       "    </tr>\n",
       "    <tr>\n",
       "      <th>2</th>\n",
       "      <td>36d72442aefd8232</td>\n",
       "      <td>abatement</td>\n",
       "      <td>active catalyst</td>\n",
       "      <td>A47</td>\n",
       "      <td>0.25</td>\n",
       "    </tr>\n",
       "    <tr>\n",
       "      <th>3</th>\n",
       "      <td>5296b0c19e1ce60e</td>\n",
       "      <td>abatement</td>\n",
       "      <td>eliminating process</td>\n",
       "      <td>A47</td>\n",
       "      <td>0.50</td>\n",
       "    </tr>\n",
       "    <tr>\n",
       "      <th>4</th>\n",
       "      <td>54c1e3b9184cb5b6</td>\n",
       "      <td>abatement</td>\n",
       "      <td>forest region</td>\n",
       "      <td>A47</td>\n",
       "      <td>0.00</td>\n",
       "    </tr>\n",
       "  </tbody>\n",
       "</table>\n",
       "</div>"
      ],
      "text/plain": [
       "                 id     anchor                  target context  score\n",
       "0  37d61fd2272659b1  abatement  abatement of pollution     A47   0.50\n",
       "1  7b9652b17b68b7a4  abatement          act of abating     A47   0.75\n",
       "2  36d72442aefd8232  abatement         active catalyst     A47   0.25\n",
       "3  5296b0c19e1ce60e  abatement     eliminating process     A47   0.50\n",
       "4  54c1e3b9184cb5b6  abatement           forest region     A47   0.00"
      ]
     },
     "metadata": {},
     "output_type": "display_data"
    },
    {
     "data": {
      "text/html": [
       "<div>\n",
       "<style scoped>\n",
       "    .dataframe tbody tr th:only-of-type {\n",
       "        vertical-align: middle;\n",
       "    }\n",
       "\n",
       "    .dataframe tbody tr th {\n",
       "        vertical-align: top;\n",
       "    }\n",
       "\n",
       "    .dataframe thead th {\n",
       "        text-align: right;\n",
       "    }\n",
       "</style>\n",
       "<table border=\"1\" class=\"dataframe\">\n",
       "  <thead>\n",
       "    <tr style=\"text-align: right;\">\n",
       "      <th></th>\n",
       "      <th>id</th>\n",
       "      <th>anchor</th>\n",
       "      <th>target</th>\n",
       "      <th>context</th>\n",
       "    </tr>\n",
       "  </thead>\n",
       "  <tbody>\n",
       "    <tr>\n",
       "      <th>0</th>\n",
       "      <td>4112d61851461f60</td>\n",
       "      <td>opc drum</td>\n",
       "      <td>inorganic photoconductor drum</td>\n",
       "      <td>G02</td>\n",
       "    </tr>\n",
       "    <tr>\n",
       "      <th>1</th>\n",
       "      <td>09e418c93a776564</td>\n",
       "      <td>adjust gas flow</td>\n",
       "      <td>altering gas flow</td>\n",
       "      <td>F23</td>\n",
       "    </tr>\n",
       "    <tr>\n",
       "      <th>2</th>\n",
       "      <td>36baf228038e314b</td>\n",
       "      <td>lower trunnion</td>\n",
       "      <td>lower locating</td>\n",
       "      <td>B60</td>\n",
       "    </tr>\n",
       "    <tr>\n",
       "      <th>3</th>\n",
       "      <td>1f37ead645e7f0c8</td>\n",
       "      <td>cap component</td>\n",
       "      <td>upper portion</td>\n",
       "      <td>D06</td>\n",
       "    </tr>\n",
       "    <tr>\n",
       "      <th>4</th>\n",
       "      <td>71a5b6ad068d531f</td>\n",
       "      <td>neural stimulation</td>\n",
       "      <td>artificial neural network</td>\n",
       "      <td>H04</td>\n",
       "    </tr>\n",
       "  </tbody>\n",
       "</table>\n",
       "</div>"
      ],
      "text/plain": [
       "                 id              anchor                         target context\n",
       "0  4112d61851461f60            opc drum  inorganic photoconductor drum     G02\n",
       "1  09e418c93a776564     adjust gas flow              altering gas flow     F23\n",
       "2  36baf228038e314b      lower trunnion                 lower locating     B60\n",
       "3  1f37ead645e7f0c8       cap component                  upper portion     D06\n",
       "4  71a5b6ad068d531f  neural stimulation      artificial neural network     H04"
      ]
     },
     "metadata": {},
     "output_type": "display_data"
    },
    {
     "data": {
      "text/html": [
       "<div>\n",
       "<style scoped>\n",
       "    .dataframe tbody tr th:only-of-type {\n",
       "        vertical-align: middle;\n",
       "    }\n",
       "\n",
       "    .dataframe tbody tr th {\n",
       "        vertical-align: top;\n",
       "    }\n",
       "\n",
       "    .dataframe thead th {\n",
       "        text-align: right;\n",
       "    }\n",
       "</style>\n",
       "<table border=\"1\" class=\"dataframe\">\n",
       "  <thead>\n",
       "    <tr style=\"text-align: right;\">\n",
       "      <th></th>\n",
       "      <th>id</th>\n",
       "      <th>score</th>\n",
       "    </tr>\n",
       "  </thead>\n",
       "  <tbody>\n",
       "    <tr>\n",
       "      <th>0</th>\n",
       "      <td>4112d61851461f60</td>\n",
       "      <td>0</td>\n",
       "    </tr>\n",
       "    <tr>\n",
       "      <th>1</th>\n",
       "      <td>09e418c93a776564</td>\n",
       "      <td>0</td>\n",
       "    </tr>\n",
       "    <tr>\n",
       "      <th>2</th>\n",
       "      <td>36baf228038e314b</td>\n",
       "      <td>0</td>\n",
       "    </tr>\n",
       "    <tr>\n",
       "      <th>3</th>\n",
       "      <td>1f37ead645e7f0c8</td>\n",
       "      <td>0</td>\n",
       "    </tr>\n",
       "    <tr>\n",
       "      <th>4</th>\n",
       "      <td>71a5b6ad068d531f</td>\n",
       "      <td>0</td>\n",
       "    </tr>\n",
       "  </tbody>\n",
       "</table>\n",
       "</div>"
      ],
      "text/plain": [
       "                 id  score\n",
       "0  4112d61851461f60      0\n",
       "1  09e418c93a776564      0\n",
       "2  36baf228038e314b      0\n",
       "3  1f37ead645e7f0c8      0\n",
       "4  71a5b6ad068d531f      0"
      ]
     },
     "metadata": {},
     "output_type": "display_data"
    }
   ],
   "source": [
    "# ====================================================\n",
    "# Data Loading\n",
    "# ====================================================\n",
    "train = pd.read_csv(INPUT_DIR+'train.csv')\n",
    "test = pd.read_csv(INPUT_DIR+'test.csv')\n",
    "submission = pd.read_csv(INPUT_DIR+'sample_submission.csv')\n",
    "print(f\"train.shape: {train.shape}\")\n",
    "print(f\"test.shape: {test.shape}\")\n",
    "print(f\"submission.shape: {submission.shape}\")\n",
    "display(train.head())\n",
    "display(test.head())\n",
    "display(submission.head())"
   ]
  },
  {
   "cell_type": "code",
   "execution_count": 12,
   "id": "fa85ac77",
   "metadata": {
    "papermill": {
     "duration": 0.848818,
     "end_time": "2022-03-22T09:40:38.260255",
     "exception": false,
     "start_time": "2022-03-22T09:40:37.411437",
     "status": "completed"
    },
    "tags": []
   },
   "outputs": [
    {
     "data": {
      "text/html": [
       "<div>\n",
       "<style scoped>\n",
       "    .dataframe tbody tr th:only-of-type {\n",
       "        vertical-align: middle;\n",
       "    }\n",
       "\n",
       "    .dataframe tbody tr th {\n",
       "        vertical-align: top;\n",
       "    }\n",
       "\n",
       "    .dataframe thead th {\n",
       "        text-align: right;\n",
       "    }\n",
       "</style>\n",
       "<table border=\"1\" class=\"dataframe\">\n",
       "  <thead>\n",
       "    <tr style=\"text-align: right;\">\n",
       "      <th></th>\n",
       "      <th>id</th>\n",
       "      <th>anchor</th>\n",
       "      <th>target</th>\n",
       "      <th>context</th>\n",
       "      <th>score</th>\n",
       "      <th>context_text</th>\n",
       "    </tr>\n",
       "  </thead>\n",
       "  <tbody>\n",
       "    <tr>\n",
       "      <th>0</th>\n",
       "      <td>37d61fd2272659b1</td>\n",
       "      <td>abatement</td>\n",
       "      <td>abatement of pollution</td>\n",
       "      <td>A47</td>\n",
       "      <td>0.50</td>\n",
       "      <td>HUMAN NECESSITIES. FURNITURE; DOMESTIC ARTICLE...</td>\n",
       "    </tr>\n",
       "    <tr>\n",
       "      <th>1</th>\n",
       "      <td>7b9652b17b68b7a4</td>\n",
       "      <td>abatement</td>\n",
       "      <td>act of abating</td>\n",
       "      <td>A47</td>\n",
       "      <td>0.75</td>\n",
       "      <td>HUMAN NECESSITIES. FURNITURE; DOMESTIC ARTICLE...</td>\n",
       "    </tr>\n",
       "    <tr>\n",
       "      <th>2</th>\n",
       "      <td>36d72442aefd8232</td>\n",
       "      <td>abatement</td>\n",
       "      <td>active catalyst</td>\n",
       "      <td>A47</td>\n",
       "      <td>0.25</td>\n",
       "      <td>HUMAN NECESSITIES. FURNITURE; DOMESTIC ARTICLE...</td>\n",
       "    </tr>\n",
       "    <tr>\n",
       "      <th>3</th>\n",
       "      <td>5296b0c19e1ce60e</td>\n",
       "      <td>abatement</td>\n",
       "      <td>eliminating process</td>\n",
       "      <td>A47</td>\n",
       "      <td>0.50</td>\n",
       "      <td>HUMAN NECESSITIES. FURNITURE; DOMESTIC ARTICLE...</td>\n",
       "    </tr>\n",
       "    <tr>\n",
       "      <th>4</th>\n",
       "      <td>54c1e3b9184cb5b6</td>\n",
       "      <td>abatement</td>\n",
       "      <td>forest region</td>\n",
       "      <td>A47</td>\n",
       "      <td>0.00</td>\n",
       "      <td>HUMAN NECESSITIES. FURNITURE; DOMESTIC ARTICLE...</td>\n",
       "    </tr>\n",
       "  </tbody>\n",
       "</table>\n",
       "</div>"
      ],
      "text/plain": [
       "                 id     anchor                  target context  score                                       context_text\n",
       "0  37d61fd2272659b1  abatement  abatement of pollution     A47   0.50  HUMAN NECESSITIES. FURNITURE; DOMESTIC ARTICLE...\n",
       "1  7b9652b17b68b7a4  abatement          act of abating     A47   0.75  HUMAN NECESSITIES. FURNITURE; DOMESTIC ARTICLE...\n",
       "2  36d72442aefd8232  abatement         active catalyst     A47   0.25  HUMAN NECESSITIES. FURNITURE; DOMESTIC ARTICLE...\n",
       "3  5296b0c19e1ce60e  abatement     eliminating process     A47   0.50  HUMAN NECESSITIES. FURNITURE; DOMESTIC ARTICLE...\n",
       "4  54c1e3b9184cb5b6  abatement           forest region     A47   0.00  HUMAN NECESSITIES. FURNITURE; DOMESTIC ARTICLE..."
      ]
     },
     "metadata": {},
     "output_type": "display_data"
    },
    {
     "data": {
      "text/html": [
       "<div>\n",
       "<style scoped>\n",
       "    .dataframe tbody tr th:only-of-type {\n",
       "        vertical-align: middle;\n",
       "    }\n",
       "\n",
       "    .dataframe tbody tr th {\n",
       "        vertical-align: top;\n",
       "    }\n",
       "\n",
       "    .dataframe thead th {\n",
       "        text-align: right;\n",
       "    }\n",
       "</style>\n",
       "<table border=\"1\" class=\"dataframe\">\n",
       "  <thead>\n",
       "    <tr style=\"text-align: right;\">\n",
       "      <th></th>\n",
       "      <th>id</th>\n",
       "      <th>anchor</th>\n",
       "      <th>target</th>\n",
       "      <th>context</th>\n",
       "      <th>context_text</th>\n",
       "    </tr>\n",
       "  </thead>\n",
       "  <tbody>\n",
       "    <tr>\n",
       "      <th>0</th>\n",
       "      <td>4112d61851461f60</td>\n",
       "      <td>opc drum</td>\n",
       "      <td>inorganic photoconductor drum</td>\n",
       "      <td>G02</td>\n",
       "      <td>PHYSICS. OPTICS</td>\n",
       "    </tr>\n",
       "    <tr>\n",
       "      <th>1</th>\n",
       "      <td>09e418c93a776564</td>\n",
       "      <td>adjust gas flow</td>\n",
       "      <td>altering gas flow</td>\n",
       "      <td>F23</td>\n",
       "      <td>MECHANICAL ENGINEERING; LIGHTING; HEATING; WEA...</td>\n",
       "    </tr>\n",
       "    <tr>\n",
       "      <th>2</th>\n",
       "      <td>36baf228038e314b</td>\n",
       "      <td>lower trunnion</td>\n",
       "      <td>lower locating</td>\n",
       "      <td>B60</td>\n",
       "      <td>PERFORMING OPERATIONS; TRANSPORTING. VEHICLES ...</td>\n",
       "    </tr>\n",
       "    <tr>\n",
       "      <th>3</th>\n",
       "      <td>1f37ead645e7f0c8</td>\n",
       "      <td>cap component</td>\n",
       "      <td>upper portion</td>\n",
       "      <td>D06</td>\n",
       "      <td>TEXTILES; PAPER. TREATMENT OF TEXTILES OR THE ...</td>\n",
       "    </tr>\n",
       "    <tr>\n",
       "      <th>4</th>\n",
       "      <td>71a5b6ad068d531f</td>\n",
       "      <td>neural stimulation</td>\n",
       "      <td>artificial neural network</td>\n",
       "      <td>H04</td>\n",
       "      <td>ELECTRICITY. ELECTRIC COMMUNICATION TECHNIQUE</td>\n",
       "    </tr>\n",
       "  </tbody>\n",
       "</table>\n",
       "</div>"
      ],
      "text/plain": [
       "                 id              anchor                         target context                                       context_text\n",
       "0  4112d61851461f60            opc drum  inorganic photoconductor drum     G02                                    PHYSICS. OPTICS\n",
       "1  09e418c93a776564     adjust gas flow              altering gas flow     F23  MECHANICAL ENGINEERING; LIGHTING; HEATING; WEA...\n",
       "2  36baf228038e314b      lower trunnion                 lower locating     B60  PERFORMING OPERATIONS; TRANSPORTING. VEHICLES ...\n",
       "3  1f37ead645e7f0c8       cap component                  upper portion     D06  TEXTILES; PAPER. TREATMENT OF TEXTILES OR THE ...\n",
       "4  71a5b6ad068d531f  neural stimulation      artificial neural network     H04      ELECTRICITY. ELECTRIC COMMUNICATION TECHNIQUE"
      ]
     },
     "metadata": {},
     "output_type": "display_data"
    }
   ],
   "source": [
    "# ====================================================\n",
    "# CPC Data\n",
    "# ====================================================\n",
    "def get_cpc_texts():\n",
    "    contexts = []\n",
    "    pattern = '[A-Z]\\d+'\n",
    "    for file_name in os.listdir(INPUT_DIR+'CPCSchemeXML202105'):\n",
    "        result = re.findall(pattern, file_name)\n",
    "        if result:\n",
    "            contexts.append(result)\n",
    "    contexts = sorted(set(sum(contexts, [])))\n",
    "    results = {}\n",
    "    for cpc in ['A', 'B', 'C', 'D', 'E', 'F', 'G', 'H', 'Y']:\n",
    "        with open(f'{INPUT_DIR}CPCTitleList202202/cpc-section-{cpc}_20220201.txt') as f:\n",
    "            s = f.read()\n",
    "        pattern = f'{cpc}\\t\\t.+'\n",
    "        result = re.findall(pattern, s)\n",
    "        cpc_result = result[0].lstrip(pattern)\n",
    "        for context in [c for c in contexts if c[0] == cpc]:\n",
    "            pattern = f'{context}\\t\\t.+'\n",
    "            result = re.findall(pattern, s)\n",
    "            results[context] = cpc_result + \". \" + result[0].lstrip(pattern)\n",
    "    return results\n",
    "\n",
    "\n",
    "# cpc_texts = get_cpc_texts()\n",
    "# torch.save(cpc_texts, OUTPUT_DIR+\"cpc_texts.pth\")\n",
    "cpc_texts = torch.load(INPUT_DIR+\"cpc_texts.pth\")\n",
    "train['context_text'] = train['context'].map(cpc_texts)\n",
    "test['context_text'] = test['context'].map(cpc_texts)\n",
    "display(train.head())\n",
    "display(test.head())"
   ]
  },
  {
   "cell_type": "code",
   "execution_count": 13,
   "id": "7bb73eb6",
   "metadata": {
    "papermill": {
     "duration": 0.084831,
     "end_time": "2022-03-22T09:40:38.384239",
     "exception": false,
     "start_time": "2022-03-22T09:40:38.299408",
     "status": "completed"
    },
    "tags": []
   },
   "outputs": [
    {
     "data": {
      "text/html": [
       "<div>\n",
       "<style scoped>\n",
       "    .dataframe tbody tr th:only-of-type {\n",
       "        vertical-align: middle;\n",
       "    }\n",
       "\n",
       "    .dataframe tbody tr th {\n",
       "        vertical-align: top;\n",
       "    }\n",
       "\n",
       "    .dataframe thead th {\n",
       "        text-align: right;\n",
       "    }\n",
       "</style>\n",
       "<table border=\"1\" class=\"dataframe\">\n",
       "  <thead>\n",
       "    <tr style=\"text-align: right;\">\n",
       "      <th></th>\n",
       "      <th>id</th>\n",
       "      <th>anchor</th>\n",
       "      <th>target</th>\n",
       "      <th>context</th>\n",
       "      <th>score</th>\n",
       "      <th>context_text</th>\n",
       "      <th>text</th>\n",
       "    </tr>\n",
       "  </thead>\n",
       "  <tbody>\n",
       "    <tr>\n",
       "      <th>0</th>\n",
       "      <td>37d61fd2272659b1</td>\n",
       "      <td>abatement</td>\n",
       "      <td>abatement of pollution</td>\n",
       "      <td>A47</td>\n",
       "      <td>0.50</td>\n",
       "      <td>HUMAN NECESSITIES. FURNITURE; DOMESTIC ARTICLE...</td>\n",
       "      <td>abatement[SEP]abatement of pollution[SEP]HUMAN...</td>\n",
       "    </tr>\n",
       "    <tr>\n",
       "      <th>1</th>\n",
       "      <td>7b9652b17b68b7a4</td>\n",
       "      <td>abatement</td>\n",
       "      <td>act of abating</td>\n",
       "      <td>A47</td>\n",
       "      <td>0.75</td>\n",
       "      <td>HUMAN NECESSITIES. FURNITURE; DOMESTIC ARTICLE...</td>\n",
       "      <td>abatement[SEP]act of abating[SEP]HUMAN NECESSI...</td>\n",
       "    </tr>\n",
       "    <tr>\n",
       "      <th>2</th>\n",
       "      <td>36d72442aefd8232</td>\n",
       "      <td>abatement</td>\n",
       "      <td>active catalyst</td>\n",
       "      <td>A47</td>\n",
       "      <td>0.25</td>\n",
       "      <td>HUMAN NECESSITIES. FURNITURE; DOMESTIC ARTICLE...</td>\n",
       "      <td>abatement[SEP]active catalyst[SEP]HUMAN NECESS...</td>\n",
       "    </tr>\n",
       "    <tr>\n",
       "      <th>3</th>\n",
       "      <td>5296b0c19e1ce60e</td>\n",
       "      <td>abatement</td>\n",
       "      <td>eliminating process</td>\n",
       "      <td>A47</td>\n",
       "      <td>0.50</td>\n",
       "      <td>HUMAN NECESSITIES. FURNITURE; DOMESTIC ARTICLE...</td>\n",
       "      <td>abatement[SEP]eliminating process[SEP]HUMAN NE...</td>\n",
       "    </tr>\n",
       "    <tr>\n",
       "      <th>4</th>\n",
       "      <td>54c1e3b9184cb5b6</td>\n",
       "      <td>abatement</td>\n",
       "      <td>forest region</td>\n",
       "      <td>A47</td>\n",
       "      <td>0.00</td>\n",
       "      <td>HUMAN NECESSITIES. FURNITURE; DOMESTIC ARTICLE...</td>\n",
       "      <td>abatement[SEP]forest region[SEP]HUMAN NECESSIT...</td>\n",
       "    </tr>\n",
       "  </tbody>\n",
       "</table>\n",
       "</div>"
      ],
      "text/plain": [
       "                 id     anchor                  target context  score                                       context_text                                               text\n",
       "0  37d61fd2272659b1  abatement  abatement of pollution     A47   0.50  HUMAN NECESSITIES. FURNITURE; DOMESTIC ARTICLE...  abatement[SEP]abatement of pollution[SEP]HUMAN...\n",
       "1  7b9652b17b68b7a4  abatement          act of abating     A47   0.75  HUMAN NECESSITIES. FURNITURE; DOMESTIC ARTICLE...  abatement[SEP]act of abating[SEP]HUMAN NECESSI...\n",
       "2  36d72442aefd8232  abatement         active catalyst     A47   0.25  HUMAN NECESSITIES. FURNITURE; DOMESTIC ARTICLE...  abatement[SEP]active catalyst[SEP]HUMAN NECESS...\n",
       "3  5296b0c19e1ce60e  abatement     eliminating process     A47   0.50  HUMAN NECESSITIES. FURNITURE; DOMESTIC ARTICLE...  abatement[SEP]eliminating process[SEP]HUMAN NE...\n",
       "4  54c1e3b9184cb5b6  abatement           forest region     A47   0.00  HUMAN NECESSITIES. FURNITURE; DOMESTIC ARTICLE...  abatement[SEP]forest region[SEP]HUMAN NECESSIT..."
      ]
     },
     "metadata": {},
     "output_type": "display_data"
    },
    {
     "data": {
      "text/html": [
       "<div>\n",
       "<style scoped>\n",
       "    .dataframe tbody tr th:only-of-type {\n",
       "        vertical-align: middle;\n",
       "    }\n",
       "\n",
       "    .dataframe tbody tr th {\n",
       "        vertical-align: top;\n",
       "    }\n",
       "\n",
       "    .dataframe thead th {\n",
       "        text-align: right;\n",
       "    }\n",
       "</style>\n",
       "<table border=\"1\" class=\"dataframe\">\n",
       "  <thead>\n",
       "    <tr style=\"text-align: right;\">\n",
       "      <th></th>\n",
       "      <th>id</th>\n",
       "      <th>anchor</th>\n",
       "      <th>target</th>\n",
       "      <th>context</th>\n",
       "      <th>context_text</th>\n",
       "      <th>text</th>\n",
       "    </tr>\n",
       "  </thead>\n",
       "  <tbody>\n",
       "    <tr>\n",
       "      <th>0</th>\n",
       "      <td>4112d61851461f60</td>\n",
       "      <td>opc drum</td>\n",
       "      <td>inorganic photoconductor drum</td>\n",
       "      <td>G02</td>\n",
       "      <td>PHYSICS. OPTICS</td>\n",
       "      <td>opc drum[SEP]inorganic photoconductor drum[SEP...</td>\n",
       "    </tr>\n",
       "    <tr>\n",
       "      <th>1</th>\n",
       "      <td>09e418c93a776564</td>\n",
       "      <td>adjust gas flow</td>\n",
       "      <td>altering gas flow</td>\n",
       "      <td>F23</td>\n",
       "      <td>MECHANICAL ENGINEERING; LIGHTING; HEATING; WEA...</td>\n",
       "      <td>adjust gas flow[SEP]altering gas flow[SEP]MECH...</td>\n",
       "    </tr>\n",
       "    <tr>\n",
       "      <th>2</th>\n",
       "      <td>36baf228038e314b</td>\n",
       "      <td>lower trunnion</td>\n",
       "      <td>lower locating</td>\n",
       "      <td>B60</td>\n",
       "      <td>PERFORMING OPERATIONS; TRANSPORTING. VEHICLES ...</td>\n",
       "      <td>lower trunnion[SEP]lower locating[SEP]PERFORMI...</td>\n",
       "    </tr>\n",
       "    <tr>\n",
       "      <th>3</th>\n",
       "      <td>1f37ead645e7f0c8</td>\n",
       "      <td>cap component</td>\n",
       "      <td>upper portion</td>\n",
       "      <td>D06</td>\n",
       "      <td>TEXTILES; PAPER. TREATMENT OF TEXTILES OR THE ...</td>\n",
       "      <td>cap component[SEP]upper portion[SEP]TEXTILES; ...</td>\n",
       "    </tr>\n",
       "    <tr>\n",
       "      <th>4</th>\n",
       "      <td>71a5b6ad068d531f</td>\n",
       "      <td>neural stimulation</td>\n",
       "      <td>artificial neural network</td>\n",
       "      <td>H04</td>\n",
       "      <td>ELECTRICITY. ELECTRIC COMMUNICATION TECHNIQUE</td>\n",
       "      <td>neural stimulation[SEP]artificial neural netwo...</td>\n",
       "    </tr>\n",
       "  </tbody>\n",
       "</table>\n",
       "</div>"
      ],
      "text/plain": [
       "                 id              anchor                         target context                                       context_text                                               text\n",
       "0  4112d61851461f60            opc drum  inorganic photoconductor drum     G02                                    PHYSICS. OPTICS  opc drum[SEP]inorganic photoconductor drum[SEP...\n",
       "1  09e418c93a776564     adjust gas flow              altering gas flow     F23  MECHANICAL ENGINEERING; LIGHTING; HEATING; WEA...  adjust gas flow[SEP]altering gas flow[SEP]MECH...\n",
       "2  36baf228038e314b      lower trunnion                 lower locating     B60  PERFORMING OPERATIONS; TRANSPORTING. VEHICLES ...  lower trunnion[SEP]lower locating[SEP]PERFORMI...\n",
       "3  1f37ead645e7f0c8       cap component                  upper portion     D06  TEXTILES; PAPER. TREATMENT OF TEXTILES OR THE ...  cap component[SEP]upper portion[SEP]TEXTILES; ...\n",
       "4  71a5b6ad068d531f  neural stimulation      artificial neural network     H04      ELECTRICITY. ELECTRIC COMMUNICATION TECHNIQUE  neural stimulation[SEP]artificial neural netwo..."
      ]
     },
     "metadata": {},
     "output_type": "display_data"
    }
   ],
   "source": [
    "pad = \"[SEP]\"\n",
    "train['text'] = train['anchor'] + pad + train['target'] +pad  + train['context_text']\n",
    "test['text'] = test['anchor'] + pad + test['target'] +pad  + test['context_text']\n",
    "display(train.head())\n",
    "display(test.head())"
   ]
  },
  {
   "cell_type": "markdown",
   "id": "b01d622c",
   "metadata": {
    "papermill": {
     "duration": 0.040462,
     "end_time": "2022-03-22T09:40:38.462517",
     "exception": false,
     "start_time": "2022-03-22T09:40:38.422055",
     "status": "completed"
    },
    "tags": []
   },
   "source": [
    "# EDA"
   ]
  },
  {
   "cell_type": "code",
   "execution_count": 14,
   "id": "560906cd",
   "metadata": {
    "papermill": {
     "duration": 0.298955,
     "end_time": "2022-03-22T09:40:38.799273",
     "exception": false,
     "start_time": "2022-03-22T09:40:38.500318",
     "status": "completed"
    },
    "tags": []
   },
   "outputs": [
    {
     "data": {
      "text/plain": [
       "<AxesSubplot:>"
      ]
     },
     "execution_count": 14,
     "metadata": {},
     "output_type": "execute_result"
    },
    {
     "data": {
      "image/png": "[encoded data removed]",
      "text/plain": [
       "<Figure size 432x288 with 1 Axes>"
      ]
     },
     "metadata": {
      "needs_background": "light"
     },
     "output_type": "display_data"
    }
   ],
   "source": [
    "train['score'].hist()"
   ]
  },
  {
   "cell_type": "code",
   "execution_count": 15,
   "id": "bb2122ec",
   "metadata": {
    "papermill": {
     "duration": 0.072329,
     "end_time": "2022-03-22T09:40:38.914779",
     "exception": false,
     "start_time": "2022-03-22T09:40:38.842450",
     "status": "completed"
    },
    "tags": []
   },
   "outputs": [
    {
     "data": {
      "text/plain": [
       "B    8019\n",
       "H    6195\n",
       "G    6013\n",
       "C    5288\n",
       "A    4094\n",
       "F    4054\n",
       "E    1531\n",
       "D    1279\n",
       "Name: context, dtype: int64"
      ]
     },
     "metadata": {},
     "output_type": "display_data"
    }
   ],
   "source": [
    "display(train['context'].apply(lambda x: x[0]).value_counts())"
   ]
  },
  {
   "cell_type": "markdown",
   "id": "fdc1e4e5",
   "metadata": {
    "papermill": {
     "duration": 0.040834,
     "end_time": "2022-03-22T09:40:38.997435",
     "exception": false,
     "start_time": "2022-03-22T09:40:38.956601",
     "status": "completed"
    },
    "tags": []
   },
   "source": [
    "- Y is not in training data, but may be in test data?"
   ]
  },
  {
   "cell_type": "markdown",
   "id": "9249864a",
   "metadata": {
    "id": "9e05b6c4",
    "papermill": {
     "duration": 0.041734,
     "end_time": "2022-03-22T09:40:39.084284",
     "exception": false,
     "start_time": "2022-03-22T09:40:39.042550",
     "status": "completed"
    },
    "tags": []
   },
   "source": [
    "# CV split"
   ]
  },
  {
   "cell_type": "code",
   "execution_count": 16,
   "id": "44a41536",
   "metadata": {
    "executionInfo": {
     "elapsed": 12,
     "status": "ok",
     "timestamp": 1644920084528,
     "user": {
      "displayName": "Yasufumi Nakama",
      "photoUrl": "https://lh3.googleusercontent.com/a/default-user=s64",
      "userId": "17486303986134302670"
     },
     "user_tz": -540
    },
    "id": "3ba287c4",
    "outputId": "307dc0e2-17d6-4bfe-9e95-fdd9b6303974",
    "papermill": {
     "duration": 0.074115,
     "end_time": "2022-03-22T09:40:39.201383",
     "exception": false,
     "start_time": "2022-03-22T09:40:39.127268",
     "status": "completed"
    },
    "tags": []
   },
   "outputs": [
    {
     "data": {
      "text/plain": [
       "fold\n",
       "0    9119\n",
       "1    9118\n",
       "2    9118\n",
       "3    9118\n",
       "dtype: int64"
      ]
     },
     "metadata": {},
     "output_type": "display_data"
    }
   ],
   "source": [
    "# ====================================================\n",
    "# CV split\n",
    "# ====================================================\n",
    "train['score_map'] = train['score'].map({0.00: 0, 0.25: 1, 0.50: 2, 0.75: 3, 1.00: 4})\n",
    "Fold = StratifiedKFold(n_splits=CFG.n_fold, shuffle=True, random_state=CFG.seed)\n",
    "for n, (train_index, val_index) in enumerate(Fold.split(train, train['score_map'])):\n",
    "    train.loc[val_index, 'fold'] = int(n)\n",
    "train['fold'] = train['fold'].astype(int)\n",
    "display(train.groupby('fold').size())"
   ]
  },
  {
   "cell_type": "code",
   "execution_count": 17,
   "id": "bb9ce665",
   "metadata": {
    "id": "4c3ce877",
    "papermill": {
     "duration": 0.049441,
     "end_time": "2022-03-22T09:40:39.291307",
     "exception": false,
     "start_time": "2022-03-22T09:40:39.241866",
     "status": "completed"
    },
    "tags": []
   },
   "outputs": [],
   "source": [
    "if CFG.debug:\n",
    "    display(train.groupby('fold').size())\n",
    "    train = train.sample(n=1000, random_state=0).reset_index(drop=True)\n",
    "    display(train.groupby('fold').size())"
   ]
  },
  {
   "cell_type": "markdown",
   "id": "a7adea75",
   "metadata": {
    "id": "918a28aa",
    "papermill": {
     "duration": 0.039494,
     "end_time": "2022-03-22T09:40:39.374931",
     "exception": false,
     "start_time": "2022-03-22T09:40:39.335437",
     "status": "completed"
    },
    "tags": []
   },
   "source": [
    "# tokenizer"
   ]
  },
  {
   "cell_type": "code",
   "execution_count": 18,
   "id": "4efc387f",
   "metadata": {},
   "outputs": [],
   "source": [
    "# !pip install --no-cache-dir sentencepiece"
   ]
  },
  {
   "cell_type": "code",
   "execution_count": 19,
   "id": "54f8891e",
   "metadata": {
    "papermill": {
     "duration": 5.198604,
     "end_time": "2022-03-22T09:40:44.612849",
     "exception": false,
     "start_time": "2022-03-22T09:40:39.414245",
     "status": "completed"
    },
    "tags": []
   },
   "outputs": [
    {
     "name": "stderr",
     "output_type": "stream",
     "text": [
      "Special tokens have been added in the vocabulary, make sure the associated word embeddings are fine-tuned or trained.\n"
     ]
    }
   ],
   "source": [
    "# ====================================================\n",
    "# tokenizer\n",
    "# ====================================================\n",
    "# tokenizer = AutoTokenizer.from_pretrained(CFG.model,use_fast=False)\n",
    "tokenizer = AutoTokenizer.from_pretrained(CFG.model,use_fast=False)\n",
    "tokenizer.save_pretrained(OUTPUT_DIR+'tokenizer/')\n",
    "CFG.tokenizer = tokenizer\n",
    "\n"
   ]
  },
  {
   "cell_type": "code",
   "execution_count": null,
   "id": "7cf880ca-b3fb-4603-9194-fc20c0f93e59",
   "metadata": {},
   "outputs": [],
   "source": []
  },
  {
   "cell_type": "markdown",
   "id": "d9fca227",
   "metadata": {
    "id": "14da40cf",
    "papermill": {
     "duration": 0.04897,
     "end_time": "2022-03-22T09:40:44.706931",
     "exception": false,
     "start_time": "2022-03-22T09:40:44.657961",
     "status": "completed"
    },
    "tags": []
   },
   "source": [
    "# Dataset"
   ]
  },
  {
   "cell_type": "code",
   "execution_count": 20,
   "id": "2671471a",
   "metadata": {
    "executionInfo": {
     "elapsed": 32827,
     "status": "ok",
     "timestamp": 1644920122500,
     "user": {
      "displayName": "Yasufumi Nakama",
      "photoUrl": "https://lh3.googleusercontent.com/a/default-user=s64",
      "userId": "17486303986134302670"
     },
     "user_tz": -540
    },
    "id": "c00327b0",
    "outputId": "26e947da-b73a-494d-e776-906b037ac08a",
    "papermill": {
     "duration": 7.208379,
     "end_time": "2022-03-22T09:40:51.959343",
     "exception": false,
     "start_time": "2022-03-22T09:40:44.750964",
     "status": "completed"
    },
    "tags": []
   },
   "outputs": [
    {
     "data": {
      "application/vnd.jupyter.widget-view+json": {
       "model_id": "771f8371b4ce49cfa9380208337d2858",
       "version_major": 2,
       "version_minor": 0
      },
      "text/plain": [
       "  0%|          | 0/136 [00:00<?, ?it/s]"
      ]
     },
     "metadata": {},
     "output_type": "display_data"
    },
    {
     "data": {
      "application/vnd.jupyter.widget-view+json": {
       "model_id": "4cde7783cbda423b9b7aaad1d088fbca",
       "version_major": 2,
       "version_minor": 0
      },
      "text/plain": [
       "  0%|          | 0/36473 [00:00<?, ?it/s]"
      ]
     },
     "metadata": {},
     "output_type": "display_data"
    },
    {
     "data": {
      "application/vnd.jupyter.widget-view+json": {
       "model_id": "f3ee59381742400cb9b50f5a0372ea43",
       "version_major": 2,
       "version_minor": 0
      },
      "text/plain": [
       "  0%|          | 0/36473 [00:00<?, ?it/s]"
      ]
     },
     "metadata": {},
     "output_type": "display_data"
    },
    {
     "name": "stderr",
     "output_type": "stream",
     "text": [
      "max_len: 133\n"
     ]
    }
   ],
   "source": [
    "# ====================================================\n",
    "# Define max_len\n",
    "# ====================================================\n",
    "lengths_dict = {}\n",
    "\n",
    "lengths = []\n",
    "tk0 = tqdm(cpc_texts.values(), total=len(cpc_texts))\n",
    "for text in tk0:\n",
    "    length = len(tokenizer(text, add_special_tokens=False)['input_ids'])\n",
    "    lengths.append(length)\n",
    "lengths_dict['context_text'] = lengths\n",
    "\n",
    "for text_col in ['anchor', 'target']:\n",
    "    lengths = []\n",
    "    tk0 = tqdm(train[text_col].fillna(\"\").values, total=len(train))\n",
    "    for text in tk0:\n",
    "        length = len(tokenizer(text, add_special_tokens=False)['input_ids'])\n",
    "        lengths.append(length)\n",
    "    lengths_dict[text_col] = lengths\n",
    "    \n",
    "CFG.max_len = max(lengths_dict['anchor']) + max(lengths_dict['target'])\\\n",
    "                + max(lengths_dict['context_text']) + 4 # CLS + SEP + SEP + SEP\n",
    "LOGGER.info(f\"max_len: {CFG.max_len}\")"
   ]
  },
  {
   "cell_type": "code",
   "execution_count": 21,
   "id": "49be5a92",
   "metadata": {
    "id": "9f791a19",
    "papermill": {
     "duration": 0.055528,
     "end_time": "2022-03-22T09:40:52.072178",
     "exception": false,
     "start_time": "2022-03-22T09:40:52.016650",
     "status": "completed"
    },
    "tags": []
   },
   "outputs": [
    {
     "name": "stdout",
     "output_type": "stream",
     "text": [
      "torch.__version__: 1.9.0+cu111\n"
     ]
    }
   ],
   "source": [
    "# ====================================================\n",
    "# Dataset\n",
    "# ====================================================\n",
    "def prepare_input(cfg, text):\n",
    "    inputs = cfg.tokenizer(text,\n",
    "                           add_special_tokens=True,\n",
    "                           max_length=cfg.max_len,\n",
    "                           padding=\"max_length\",\n",
    "                           return_offsets_mapping=False)\n",
    "    for k, v in inputs.items():\n",
    "        inputs[k] = torch.tensor(v, dtype=torch.long)\n",
    "    return inputs\n",
    "\n",
    "sys.path.append('../dataset')\n",
    "from dataset import TrainDataset"
   ]
  },
  {
   "cell_type": "code",
   "execution_count": 22,
   "id": "a459997d",
   "metadata": {
    "executionInfo": {
     "elapsed": 8,
     "status": "ok",
     "timestamp": 1644920122808,
     "user": {
      "displayName": "Yasufumi Nakama",
      "photoUrl": "https://lh3.googleusercontent.com/a/default-user=s64",
      "userId": "17486303986134302670"
     },
     "user_tz": -540
    },
    "id": "a200bd5b",
    "outputId": "a30fde2b-86f9-4ebd-ae81-33f467b69836",
    "papermill": {
     "duration": 0.05166,
     "end_time": "2022-03-22T09:40:52.171272",
     "exception": false,
     "start_time": "2022-03-22T09:40:52.119612",
     "status": "completed"
    },
    "tags": []
   },
   "outputs": [
    {
     "data": {
      "text/plain": [
       "'\\ntrain_dataset = TrainDataset(CFG, train)\\ninputs, label = train_dataset[0]\\nprint(inputs)\\nprint(label)\\n'"
      ]
     },
     "execution_count": 22,
     "metadata": {},
     "output_type": "execute_result"
    }
   ],
   "source": [
    "\"\"\"\n",
    "train_dataset = TrainDataset(CFG, train)\n",
    "inputs, label = train_dataset[0]\n",
    "print(inputs)\n",
    "print(label)\n",
    "\"\"\""
   ]
  },
  {
   "cell_type": "markdown",
   "id": "44d28ba3",
   "metadata": {
    "id": "e04d6363",
    "papermill": {
     "duration": 0.044161,
     "end_time": "2022-03-22T09:40:52.262022",
     "exception": false,
     "start_time": "2022-03-22T09:40:52.217861",
     "status": "completed"
    },
    "tags": []
   },
   "source": [
    "# Model"
   ]
  },
  {
   "cell_type": "code",
   "execution_count": 23,
   "id": "872e6567",
   "metadata": {
    "id": "4c5bab44",
    "papermill": {
     "duration": 0.066203,
     "end_time": "2022-03-22T09:40:52.372030",
     "exception": false,
     "start_time": "2022-03-22T09:40:52.305827",
     "status": "completed"
    },
    "tags": []
   },
   "outputs": [],
   "source": [
    "class CustomModel(nn.Module):\n",
    "    def __init__(self, cfg, config_path=None, pretrained=False):\n",
    "        super().__init__()\n",
    "        self.cfg = cfg\n",
    "        \n",
    "        if config_path is None:\n",
    "            self.config = AutoConfig.from_pretrained(cfg.model, output_hidden_states=True)\n",
    "        else:\n",
    "            self.config = torch.load(config_path)\n",
    "        if pretrained:\n",
    "            self.model = AutoModel.from_pretrained(cfg.model, config=self.config)\n",
    "        else:\n",
    "            self.model = AutoModel.from_config(self.config)\n",
    "        self.fc_dropout = nn.Dropout(cfg.fc_dropout)\n",
    "        self.fc = nn.Linear(self.config.hidden_size, self.cfg.target_size)\n",
    "        self._init_weights(self.fc)\n",
    "        self.attention = nn.Sequential(\n",
    "            nn.Linear(self.config.hidden_size, 512),\n",
    "            nn.Tanh(),\n",
    "            nn.Linear(512, 1),\n",
    "            nn.Softmax(dim=1)\n",
    "        )\n",
    "        self._init_weights(self.attention)\n",
    "        \n",
    "        \n",
    "    def _init_weights(self, module):\n",
    "        if isinstance(module, nn.Linear):\n",
    "            module.weight.data.normal_(mean=0.0, std=self.config.initializer_range)\n",
    "            if module.bias is not None:\n",
    "                module.bias.data.zero_()\n",
    "        elif isinstance(module, nn.Embedding):\n",
    "            module.weight.data.normal_(mean=0.0, std=self.config.initializer_range)\n",
    "            if module.padding_idx is not None:\n",
    "                module.weight.data[module.padding_idx].zero_()\n",
    "        elif isinstance(module, nn.LayerNorm):\n",
    "            module.bias.data.zero_()\n",
    "            module.weight.data.fill_(1.0)\n",
    "        \n",
    "    def feature(self, inputs):\n",
    "        outputs = self.model(**inputs)\n",
    "        last_hidden_states = outputs[0]\n",
    "        # feature = torch.mean(last_hidden_states, 1)\n",
    "        weights = self.attention(last_hidden_states)\n",
    "        feature = torch.sum(weights * last_hidden_states, dim=1)\n",
    "        return feature\n",
    "\n",
    "    def forward(self, inputs):\n",
    "        feature = self.feature(inputs)\n",
    "        output = self.fc(self.fc_dropout(feature))\n",
    "        return output"
   ]
  },
  {
   "cell_type": "code",
   "execution_count": 24,
   "id": "1cfeca5b-be0a-4bf1-a1a9-ff847c44a3ad",
   "metadata": {},
   "outputs": [],
   "source": [
    "class TransformerHead(nn.Module):\n",
    "    def __init__(self, in_features, max_length, num_layers=1, nhead=8, num_targets=1):\n",
    "        super().__init__()\n",
    "\n",
    "        self.transformer = nn.TransformerEncoder(encoder_layer=nn.TransformerEncoderLayer(d_model=in_features,\n",
    "                                                                                          nhead=nhead),\n",
    "                                                 num_layers=num_layers)\n",
    "        self.row_fc = nn.Linear(in_features, 1)\n",
    "        self.out_features = max_length\n",
    "\n",
    "    def forward(self, x):\n",
    "        out = self.transformer(x)\n",
    "        out = self.row_fc(out).squeeze(-1)\n",
    "        return out"
   ]
  },
  {
   "cell_type": "code",
   "execution_count": 25,
   "id": "709df140-f894-448e-8445-c3105dc6d590",
   "metadata": {},
   "outputs": [],
   "source": [
    "# class CustomModel(nn.Module):\n",
    "#     def __init__(self, cfg, config_path=None, pretrained=False):\n",
    "#         super().__init__()\n",
    "#         self.cfg = cfg\n",
    "#         if config_path is None:\n",
    "#             self.config = AutoConfig.from_pretrained(cfg.model, output_hidden_states=True)\n",
    "#         else:\n",
    "#             self.config = torch.load(config_path)\n",
    "#         if pretrained:\n",
    "#             self.model = AutoModel.from_pretrained(cfg.model, config=self.config)\n",
    "#         else:\n",
    "#             self.model = AutoModel.from_config(self.config)\n",
    "#         self.fc_dropout = nn.Dropout(cfg.fc_dropout)\n",
    "#         self.fc = nn.Linear(self.config.hidden_size, self.cfg.target_size)\n",
    "#         self._init_weights(self.fc)\n",
    "#         self.feature_extractor = AutoModelForTokenClassification.from_pretrained(\"microsoft/deberta-v3-large\")\n",
    "#         self.feature_extractor.save_pretrained(OUTPUT_DIR+'extractor/')\n",
    "#         # self.feature_extractor = AutoModelForTokenClassification.from_pretrained(OUTPUT_DIR+'extractor/')\n",
    "#         in_features = self.feature_extractor.classifier.in_features\n",
    "#         self.attention = TransformerHead(in_features=in_features, max_length=133, num_layers=1, nhead=8, num_targets=1)\n",
    "                \n",
    "#         self._init_weights(self.attention)\n",
    "        \n",
    "#     def _init_weights(self, module):\n",
    "#         if isinstance(module, nn.Linear):\n",
    "#             module.weight.data.normal_(mean=0.0, std=self.config.initializer_range)\n",
    "#             if module.bias is not None:\n",
    "#                 module.bias.data.zero_()\n",
    "#         elif isinstance(module, nn.Embedding):\n",
    "#             module.weight.data.normal_(mean=0.0, std=self.config.initializer_range)\n",
    "#             if module.padding_idx is not None:\n",
    "#                 module.weight.data[module.padding_idx].zero_()\n",
    "#         elif isinstance(module, nn.LayerNorm):\n",
    "#             module.bias.data.zero_()\n",
    "#             module.weight.data.fill_(1.0)\n",
    "        \n",
    "#     def feature(self, inputs):\n",
    "#         outputs = self.model(**inputs)\n",
    "#         last_hidden_states = outputs[0]\n",
    "#         # feature = torch.mean(last_hidden_states, 1)\n",
    "#         weights = self.attention(last_hidden_states)\n",
    "#         weights = self.attention(weights)\n",
    "#         feature = torch.sum(weights * last_hidden_states, dim=1)\n",
    "#         return feature\n",
    "\n",
    "#     def forward(self, inputs):\n",
    "#         feature = self.feature(inputs)\n",
    "#         output = self.fc(self.fc_dropout(feature))\n",
    "#         return output"
   ]
  },
  {
   "cell_type": "code",
   "execution_count": 26,
   "id": "4cc2318c-1f83-40cd-853c-017489395132",
   "metadata": {},
   "outputs": [],
   "source": [
    "import sys\n",
    "sys.path.append(\"../../modules/mixout\")\n",
    "from mixout import MixLinear, Mixout"
   ]
  },
  {
   "cell_type": "code",
   "execution_count": 27,
   "id": "0ce5baee-f399-41d0-ad34-958aa8be1ce3",
   "metadata": {},
   "outputs": [],
   "source": [
    "class CustomModelTransformer(nn.Module):\n",
    "    def __init__(self, cfg, config_path=None, pretrained=False):\n",
    "        super().__init__()\n",
    "        self.cfg = cfg\n",
    "        if config_path is None:\n",
    "            self.config = AutoConfig.from_pretrained(cfg.model, output_hidden_states=True)\n",
    "        else:\n",
    "            self.config = torch.load(config_path)\n",
    "        if pretrained:\n",
    "            self.model = AutoModel.from_pretrained(cfg.model, config=self.config)\n",
    "        else:\n",
    "            self.model = AutoModel.from_config(self.config)\n",
    "        \n",
    "        try:\n",
    "            self.feature_extractor = AutoModelForTokenClassification.from_pretrained(OUTPUT_DIR+'extractor/')\n",
    "        except:\n",
    "            self.feature_extractor = AutoModelForTokenClassification.from_pretrained(CFG.model,)\n",
    "            self.feature_extractor.save_pretrained(OUTPUT_DIR+'extractor/')\n",
    "        in_features = self.feature_extractor.classifier.in_features\n",
    "        self.attention = TransformerHead(in_features=in_features, max_length=133, num_layers=1, nhead=8, num_targets=1)\n",
    "        self.fc_dropout = nn.Dropout(cfg.fc_dropout)\n",
    "        self.fc = nn.Linear(self.attention.out_features, self.cfg.target_size)\n",
    "        self._init_weights(self.fc)\n",
    "        self._init_weights(self.attention)\n",
    "        \n",
    "    def _init_weights(self, module):\n",
    "        if isinstance(module, nn.Linear):\n",
    "            module.weight.data.normal_(mean=0.0, std=self.config.initializer_range)\n",
    "            if module.bias is not None:\n",
    "                module.bias.data.zero_()\n",
    "        elif isinstance(module, nn.Embedding):\n",
    "            module.weight.data.normal_(mean=0.0, std=self.config.initializer_range)\n",
    "            if module.padding_idx is not None:\n",
    "                module.weight.data[module.padding_idx].zero_()\n",
    "        elif isinstance(module, nn.LayerNorm):\n",
    "            module.bias.data.zero_()\n",
    "            module.weight.data.fill_(1.0)\n",
    "        \n",
    "    def feature(self, inputs):\n",
    "        outputs = self.model(**inputs)\n",
    "        last_hidden_states = outputs[0]\n",
    "        # feature = torch.mean(last_hidden_states, 1)\n",
    "        feature = self.attention(last_hidden_states)\n",
    "        \n",
    "        return feature\n",
    "\n",
    "\n",
    "    def forward(self, inputs):\n",
    "        feature = self.feature(inputs)\n",
    "        #print(feature.shape)\n",
    "        output = self.fc(self.fc_dropout(feature))\n",
    "        return output"
   ]
  },
  {
   "cell_type": "markdown",
   "id": "d58eee04",
   "metadata": {
    "id": "deee9675",
    "papermill": {
     "duration": 0.044158,
     "end_time": "2022-03-22T09:40:52.460401",
     "exception": false,
     "start_time": "2022-03-22T09:40:52.416243",
     "status": "completed"
    },
    "tags": []
   },
   "source": [
    "# Helpler functions"
   ]
  },
  {
   "cell_type": "code",
   "execution_count": null,
   "id": "5d616fd9-8127-40ca-9a09-dc124a4e5e9a",
   "metadata": {},
   "outputs": [],
   "source": []
  },
  {
   "cell_type": "code",
   "execution_count": 28,
   "id": "53d5903c",
   "metadata": {
    "id": "c8263b0c",
    "papermill": {
     "duration": 0.078567,
     "end_time": "2022-03-22T09:40:52.582474",
     "exception": false,
     "start_time": "2022-03-22T09:40:52.503907",
     "status": "completed"
    },
    "tags": []
   },
   "outputs": [],
   "source": [
    "# ====================================================\n",
    "# Helper functions\n",
    "# ====================================================\n",
    "class AverageMeter(object):\n",
    "    \"\"\"Computes and stores the average and current value\"\"\"\n",
    "    def __init__(self):\n",
    "        self.reset()\n",
    "\n",
    "    def reset(self):\n",
    "        self.val = 0\n",
    "        self.avg = 0\n",
    "        self.sum = 0\n",
    "        self.count = 0\n",
    "\n",
    "    def update(self, val, n=1):\n",
    "        self.val = val\n",
    "        self.sum += val * n\n",
    "        self.count += n\n",
    "        self.avg = self.sum / self.count\n",
    "\n",
    "\n",
    "def asMinutes(s):\n",
    "    m = math.floor(s / 60)\n",
    "    s -= m * 60\n",
    "    return '%dm %ds' % (m, s)\n",
    "\n",
    "\n",
    "def timeSince(since, percent):\n",
    "    now = time.time()\n",
    "    s = now - since\n",
    "    es = s / (percent)\n",
    "    rs = es - s\n",
    "    return '%s (remain %s)' % (asMinutes(s), asMinutes(rs))\n",
    "\n",
    "\n",
    "def train_fn(fold, train_loader, model, criterion, optimizer, epoch, scheduler, device):\n",
    "    if \"train\" in EXP_NAME:\n",
    "        for sup_module in model.modules():\n",
    "            for name, module in sup_module.named_children():\n",
    "                if isinstance(module, nn.Dropout):\n",
    "                    module.p = 0.0\n",
    "                if isinstance(module, nn.Linear):\n",
    "                    target_state_dict = module.state_dict()\n",
    "                    bias = True if module.bias is not None else False\n",
    "                    new_module = MixLinear(\n",
    "                        module.in_features, module.out_features, bias, target_state_dict[\"weight\"], CFG.mixout_prob\n",
    "                    )\n",
    "                    new_module.load_state_dict(target_state_dict)\n",
    "                    setattr(sup_module, name, new_module)\n",
    "\n",
    "        model.to(device)                \n",
    "    model.train()\n",
    "    scaler = torch.cuda.amp.GradScaler(enabled=CFG.apex)\n",
    "    losses = AverageMeter()\n",
    "    start = end = time.time()\n",
    "    global_step = 0\n",
    "    for step, (inputs, labels) in enumerate(train_loader):\n",
    "        for k, v in inputs.items():\n",
    "            inputs[k] = v.to(device)\n",
    "        labels = labels.to(device)\n",
    "        batch_size = labels.size(0)\n",
    "        with torch.cuda.amp.autocast(enabled=CFG.apex):\n",
    "            y_preds = model(inputs)\n",
    "        loss = criterion(y_preds.view(-1, 1), labels.view(-1, 1))\n",
    "        if CFG.gradient_accumulation_steps > 1:\n",
    "            loss = loss / CFG.gradient_accumulation_steps\n",
    "        losses.update(loss.item(), batch_size)\n",
    "        scaler.scale(loss).backward()\n",
    "        grad_norm = torch.nn.utils.clip_grad_norm_(model.parameters(), CFG.max_grad_norm)\n",
    "        if (step + 1) % CFG.gradient_accumulation_steps == 0:\n",
    "            scaler.step(optimizer)\n",
    "            scaler.update()\n",
    "            optimizer.zero_grad()\n",
    "            global_step += 1\n",
    "            if CFG.batch_scheduler:\n",
    "                scheduler.step()\n",
    "        end = time.time()\n",
    "        if step % CFG.print_freq == 0 or step == (len(train_loader)-1):\n",
    "            print('Epoch: [{0}][{1}/{2}] '\n",
    "                  'Elapsed {remain:s} '\n",
    "                  'Loss: {loss.val:.4f}({loss.avg:.4f}) '\n",
    "                  'Grad: {grad_norm:.4f}  '\n",
    "                  'LR: {lr:.8f}  '\n",
    "                  .format(epoch+1, step, len(train_loader), \n",
    "                          remain=timeSince(start, float(step+1)/len(train_loader)),\n",
    "                          loss=losses,\n",
    "                          grad_norm=grad_norm,\n",
    "                          lr=scheduler.get_lr()[0]))\n",
    "        if CFG.wandb:\n",
    "            wandb.log({f\"[fold{fold}] loss\": losses.val,\n",
    "                       f\"[fold{fold}] lr\": scheduler.get_lr()[0]})\n",
    "    return losses.avg\n",
    "\n",
    "\n",
    "def valid_fn(valid_loader, model, criterion, device):\n",
    "    losses = AverageMeter()\n",
    "    model.eval()\n",
    "    preds = []\n",
    "    start = end = time.time()\n",
    "    for step, (inputs, labels) in enumerate(valid_loader):\n",
    "        for k, v in inputs.items():\n",
    "            inputs[k] = v.to(device)\n",
    "        labels = labels.to(device)\n",
    "        batch_size = labels.size(0)\n",
    "        with torch.no_grad():\n",
    "            y_preds = model(inputs)\n",
    "        loss = criterion(y_preds.view(-1, 1), labels.view(-1, 1))\n",
    "        if CFG.gradient_accumulation_steps > 1:\n",
    "            loss = loss / CFG.gradient_accumulation_steps\n",
    "        losses.update(loss.item(), batch_size)\n",
    "        preds.append(y_preds.sigmoid().to('cpu').numpy())\n",
    "        end = time.time()\n",
    "        if step % CFG.print_freq == 0 or step == (len(valid_loader)-1):\n",
    "            print('EVAL: [{0}/{1}] '\n",
    "                  'Elapsed {remain:s} '\n",
    "                  'Loss: {loss.val:.4f}({loss.avg:.4f}) '\n",
    "                  .format(step, len(valid_loader),\n",
    "                          loss=losses,\n",
    "                          remain=timeSince(start, float(step+1)/len(valid_loader))))\n",
    "    predictions = np.concatenate(preds)\n",
    "    predictions = np.concatenate(predictions)\n",
    "    return losses.avg, predictions\n",
    "\n",
    "\n",
    "def inference_fn(test_loader, model, device):\n",
    "    preds = []\n",
    "    model.eval()\n",
    "    model.to(device)\n",
    "    tk0 = tqdm(test_loader, total=len(test_loader))\n",
    "    for inputs in tk0:\n",
    "        for k, v in inputs.items():\n",
    "            inputs[k] = v.to(device)\n",
    "        with torch.no_grad():\n",
    "            y_preds = model(inputs)\n",
    "        preds.append(y_preds.sigmoid().to('cpu').numpy())\n",
    "    predictions = np.concatenate(preds)\n",
    "    return predictions"
   ]
  },
  {
   "cell_type": "code",
   "execution_count": 29,
   "id": "e3e9d570",
   "metadata": {
    "id": "bed940e1",
    "papermill": {
     "duration": 0.071348,
     "end_time": "2022-03-22T09:40:52.697940",
     "exception": false,
     "start_time": "2022-03-22T09:40:52.626592",
     "status": "completed"
    },
    "tags": []
   },
   "outputs": [],
   "source": [
    "# ====================================================\n",
    "# train loop\n",
    "# ====================================================\n",
    "# def train_loop(folds, fold):\n",
    "def train_loop(train_loader, valid_loader):\n",
    "\n",
    "    # ====================================================\n",
    "    # model & optimizer\n",
    "    # ====================================================\n",
    "    if \"transformer\" in EXP_NAME:\n",
    "        model = CustomModelTransformer(CFG, config_path=None, pretrained=True)\n",
    "    else:\n",
    "        model = CustomModel(CFG, config_path=None, pretrained=True)\n",
    "    if \"all\" in EXP_NAME:\n",
    "        for sup_module in model.modules():\n",
    "            for name, module in sup_module.named_children():\n",
    "                if isinstance(module, nn.Dropout):\n",
    "                    module.p = 0.0\n",
    "                if isinstance(module, nn.Linear):\n",
    "                    target_state_dict = module.state_dict()\n",
    "                    bias = True if module.bias is not None else False\n",
    "                    new_module = MixLinear(\n",
    "                        module.in_features, module.out_features, bias, target_state_dict[\"weight\"], CFG.mixout_prob\n",
    "                    )\n",
    "                    new_module.load_state_dict(target_state_dict)\n",
    "                    setattr(sup_module, name, new_module)\n",
    "        model.to(device)\n",
    "                \n",
    "    torch.save(model.config, OUTPUT_DIR+'config.pth')\n",
    "    \n",
    "    def get_optimizer_params(model, encoder_lr, decoder_lr, weight_decay=0.0):\n",
    "        param_optimizer = list(model.named_parameters())\n",
    "        no_decay = [\"bias\", \"LayerNorm.bias\", \"LayerNorm.weight\"]\n",
    "        optimizer_parameters = [\n",
    "            {'params': [p for n, p in model.model.named_parameters() if not any(nd in n for nd in no_decay)],\n",
    "             'lr': encoder_lr, 'weight_decay': weight_decay},\n",
    "            {'params': [p for n, p in model.model.named_parameters() if any(nd in n for nd in no_decay)],\n",
    "             'lr': encoder_lr, 'weight_decay': 0.0},\n",
    "            {'params': [p for n, p in model.named_parameters() if \"model\" not in n],\n",
    "             'lr': decoder_lr, 'weight_decay': 0.0}\n",
    "        ]\n",
    "        return optimizer_parameters\n",
    "\n",
    "    optimizer_parameters = get_optimizer_params(model,\n",
    "                                                encoder_lr=CFG.encoder_lr, \n",
    "                                                decoder_lr=CFG.decoder_lr,\n",
    "                                                weight_decay=CFG.weight_decay)\n",
    "    optimizer = AdamW(optimizer_parameters, lr=CFG.encoder_lr, eps=CFG.eps, betas=CFG.betas)\n",
    "    \n",
    "    # ====================================================\n",
    "    # scheduler\n",
    "    # ====================================================\n",
    "    def get_scheduler(cfg, optimizer, num_train_steps):\n",
    "        if cfg.scheduler == 'linear':\n",
    "            scheduler = get_linear_schedule_with_warmup(\n",
    "                optimizer, num_warmup_steps=cfg.num_warmup_steps, num_training_steps=num_train_steps\n",
    "            )\n",
    "        elif cfg.scheduler == 'cosine':\n",
    "            scheduler = get_cosine_schedule_with_warmup(\n",
    "                optimizer, num_warmup_steps=cfg.num_warmup_steps, num_training_steps=num_train_steps, num_cycles=cfg.num_cycles\n",
    "            )\n",
    "        return scheduler\n",
    "    \n",
    "    num_train_steps = int(len(train_folds) / CFG.batch_size * CFG.epochs)\n",
    "    scheduler = get_scheduler(CFG, optimizer, num_train_steps)\n",
    "\n",
    "    # ====================================================\n",
    "    # loop\n",
    "    # ====================================================\n",
    "    criterion = nn.BCEWithLogitsLoss(reduction=\"mean\")\n",
    "    \n",
    "    best_score = 0.\n",
    "\n",
    "    for epoch in range(CFG.epochs):\n",
    "        start_time = time.time()\n",
    "\n",
    "        # train\n",
    "        avg_loss = train_fn(fold, train_loader, model, criterion, optimizer, epoch, scheduler, device)\n",
    "\n",
    "        # eval\n",
    "        avg_val_loss, predictions = valid_fn(valid_loader, model, criterion, device)\n",
    "        \n",
    "        # scoring\n",
    "        score = get_score(valid_labels, predictions)\n",
    "\n",
    "        elapsed = time.time() - start_time\n",
    "\n",
    "        LOGGER.info(f'Epoch {epoch+1} - avg_train_loss: {avg_loss:.4f}  avg_val_loss: {avg_val_loss:.4f}  time: {elapsed:.0f}s')\n",
    "        LOGGER.info(f'Epoch {epoch+1} - Score: {score:.4f}')\n",
    "        if CFG.wandb:\n",
    "            wandb.log({f\"[fold{fold}] epoch\": epoch+1, \n",
    "                       f\"[fold{fold}] avg_train_loss\": avg_loss, \n",
    "                       f\"[fold{fold}] avg_val_loss\": avg_val_loss,\n",
    "                       f\"[fold{fold}] score\": score})\n",
    "        \n",
    "        if best_score < score:\n",
    "            best_score = score\n",
    "            LOGGER.info(f'Epoch {epoch+1} - Save Best Score: {best_score:.4f} Model')\n",
    "            torch.save({'model': model.state_dict(),\n",
    "                        'predictions': predictions},\n",
    "                        OUTPUT_DIR+f\"{CFG.model.replace('/', '-')}_fold{fold}_best.pth\")\n",
    "\n",
    "    predictions = torch.load(OUTPUT_DIR+f\"{CFG.model.replace('/', '-')}_fold{fold}_best.pth\", \n",
    "                             map_location=torch.device('cpu'))['predictions']\n",
    "    valid_folds['pred'] = predictions\n",
    "\n",
    "    torch.cuda.empty_cache()\n",
    "    gc.collect()\n",
    "    \n",
    "    return valid_folds"
   ]
  },
  {
   "cell_type": "code",
   "execution_count": 30,
   "id": "13eeaf68",
   "metadata": {
    "id": "6cc76b1e",
    "papermill": {
     "duration": 30265.411984,
     "end_time": "2022-03-22T18:05:18.155447",
     "exception": false,
     "start_time": "2022-03-22T09:40:52.743463",
     "status": "completed"
    },
    "scrolled": true,
    "tags": []
   },
   "outputs": [
    {
     "name": "stderr",
     "output_type": "stream",
     "text": [
      "========== fold: 0 training ==========\n"
     ]
    },
    {
     "name": "stdout",
     "output_type": "stream",
     "text": [
      "\u001b[38;5;40m========== fold: 0 training ==========\u001b[0m\n"
     ]
    },
    {
     "name": "stderr",
     "output_type": "stream",
     "text": [
      "Some weights of the model checkpoint at microsoft/deberta-v3-base were not used when initializing DebertaV2Model: ['mask_predictions.classifier.bias', 'mask_predictions.dense.weight', 'mask_predictions.LayerNorm.bias', 'lm_predictions.lm_head.dense.bias', 'mask_predictions.dense.bias', 'lm_predictions.lm_head.LayerNorm.weight', 'mask_predictions.classifier.weight', 'lm_predictions.lm_head.bias', 'mask_predictions.LayerNorm.weight', 'lm_predictions.lm_head.dense.weight', 'lm_predictions.lm_head.LayerNorm.bias']\n",
      "- This IS expected if you are initializing DebertaV2Model from the checkpoint of a model trained on another task or with another architecture (e.g. initializing a BertForSequenceClassification model from a BertForPreTraining model).\n",
      "- This IS NOT expected if you are initializing DebertaV2Model from the checkpoint of a model that you expect to be exactly identical (initializing a BertForSequenceClassification model from a BertForSequenceClassification model).\n"
     ]
    },
    {
     "name": "stdout",
     "output_type": "stream",
     "text": [
      "Epoch: [1][0/3419] Elapsed 0m 0s (remain 42m 59s) Loss: 0.6677(0.6677) Grad: 29417.7559  LR: 0.00002000  \n",
      "Epoch: [1][100/3419] Elapsed 0m 28s (remain 15m 20s) Loss: 0.6603(0.6513) Grad: 15457.6895  LR: 0.00002000  \n",
      "Epoch: [1][200/3419] Elapsed 0m 54s (remain 14m 39s) Loss: 0.6396(0.6562) Grad: 18684.9629  LR: 0.00002000  \n",
      "Epoch: [1][300/3419] Elapsed 1m 21s (remain 14m 7s) Loss: 0.6618(0.6571) Grad: 30090.8242  LR: 0.00001999  \n",
      "Epoch: [1][400/3419] Elapsed 1m 48s (remain 13m 36s) Loss: 0.6437(0.6588) Grad: 1258.5530  LR: 0.00001998  \n",
      "Epoch: [1][500/3419] Elapsed 2m 15s (remain 13m 8s) Loss: 0.6023(0.6587) Grad: 6956.3706  LR: 0.00001997  \n",
      "Epoch: [1][600/3419] Elapsed 2m 42s (remain 12m 41s) Loss: 0.6284(0.6560) Grad: 2406.1868  LR: 0.00001996  \n",
      "Epoch: [1][700/3419] Elapsed 3m 9s (remain 12m 13s) Loss: 0.7132(0.6517) Grad: 6573.3198  LR: 0.00001994  \n",
      "Epoch: [1][800/3419] Elapsed 3m 36s (remain 11m 46s) Loss: 0.6533(0.6471) Grad: 5571.0601  LR: 0.00001992  \n",
      "Epoch: [1][900/3419] Elapsed 4m 3s (remain 11m 19s) Loss: 0.6047(0.6436) Grad: 4736.7500  LR: 0.00001990  \n",
      "Epoch: [1][1000/3419] Elapsed 4m 29s (remain 10m 52s) Loss: 0.6501(0.6401) Grad: 3053.0356  LR: 0.00001988  \n",
      "Epoch: [1][1100/3419] Elapsed 4m 56s (remain 10m 24s) Loss: 0.6052(0.6374) Grad: 3025.1917  LR: 0.00001986  \n",
      "Epoch: [1][1200/3419] Elapsed 5m 23s (remain 9m 57s) Loss: 0.5777(0.6354) Grad: 5552.4858  LR: 0.00001983  \n",
      "Epoch: [1][1300/3419] Elapsed 5m 50s (remain 9m 30s) Loss: 0.5982(0.6332) Grad: 3017.4089  LR: 0.00001980  \n",
      "Epoch: [1][1400/3419] Elapsed 6m 17s (remain 9m 3s) Loss: 0.5674(0.6312) Grad: 3198.0566  LR: 0.00001977  \n",
      "Epoch: [1][1500/3419] Elapsed 6m 44s (remain 8m 36s) Loss: 0.4484(0.6287) Grad: 2104.4326  LR: 0.00001974  \n",
      "Epoch: [1][1600/3419] Elapsed 7m 11s (remain 8m 9s) Loss: 0.5148(0.6261) Grad: 3386.3164  LR: 0.00001970  \n",
      "Epoch: [1][1700/3419] Elapsed 7m 38s (remain 7m 42s) Loss: 0.4273(0.6235) Grad: 2270.6995  LR: 0.00001966  \n",
      "Epoch: [1][1800/3419] Elapsed 8m 5s (remain 7m 15s) Loss: 0.5698(0.6213) Grad: 2477.9167  LR: 0.00001962  \n",
      "Epoch: [1][1900/3419] Elapsed 8m 32s (remain 6m 48s) Loss: 0.5936(0.6200) Grad: 1162.6455  LR: 0.00001958  \n",
      "Epoch: [1][2000/3419] Elapsed 8m 58s (remain 6m 21s) Loss: 0.4887(0.6189) Grad: 1620.4227  LR: 0.00001953  \n",
      "Epoch: [1][2100/3419] Elapsed 9m 25s (remain 5m 54s) Loss: 0.6316(0.6175) Grad: 1017.5171  LR: 0.00001949  \n",
      "Epoch: [1][2200/3419] Elapsed 9m 52s (remain 5m 27s) Loss: 0.5717(0.6161) Grad: 945.9583  LR: 0.00001944  \n",
      "Epoch: [1][2300/3419] Elapsed 10m 19s (remain 5m 0s) Loss: 0.4717(0.6148) Grad: 2311.4226  LR: 0.00001939  \n",
      "Epoch: [1][2400/3419] Elapsed 10m 46s (remain 4m 34s) Loss: 0.6714(0.6137) Grad: 13149.3809  LR: 0.00001933  \n",
      "Epoch: [1][2500/3419] Elapsed 11m 13s (remain 4m 7s) Loss: 0.6693(0.6126) Grad: 3199.9187  LR: 0.00001928  \n",
      "Epoch: [1][2600/3419] Elapsed 11m 40s (remain 3m 40s) Loss: 0.5609(0.6110) Grad: 1678.4548  LR: 0.00001922  \n",
      "Epoch: [1][2700/3419] Elapsed 12m 7s (remain 3m 13s) Loss: 0.6557(0.6097) Grad: 4721.2710  LR: 0.00001916  \n",
      "Epoch: [1][2800/3419] Elapsed 12m 33s (remain 2m 46s) Loss: 0.5780(0.6091) Grad: 1651.7660  LR: 0.00001909  \n",
      "Epoch: [1][2900/3419] Elapsed 13m 0s (remain 2m 19s) Loss: 0.5240(0.6078) Grad: 4474.3735  LR: 0.00001903  \n",
      "Epoch: [1][3000/3419] Elapsed 13m 27s (remain 1m 52s) Loss: 0.4953(0.6067) Grad: 1730.5095  LR: 0.00001896  \n",
      "Epoch: [1][3100/3419] Elapsed 13m 54s (remain 1m 25s) Loss: 0.4752(0.6054) Grad: 4449.2441  LR: 0.00001889  \n",
      "Epoch: [1][3200/3419] Elapsed 14m 21s (remain 0m 58s) Loss: 0.4309(0.6046) Grad: 2449.8123  LR: 0.00001882  \n",
      "Epoch: [1][3300/3419] Elapsed 14m 48s (remain 0m 31s) Loss: 0.5207(0.6035) Grad: 4258.1509  LR: 0.00001875  \n",
      "Epoch: [1][3400/3419] Elapsed 15m 14s (remain 0m 4s) Loss: 0.5405(0.6024) Grad: 4096.0781  LR: 0.00001867  \n",
      "Epoch: [1][3418/3419] Elapsed 15m 19s (remain 0m 0s) Loss: 0.5536(0.6022) Grad: 3075.9888  LR: 0.00001866  \n"
     ]
    },
    {
     "name": "stderr",
     "output_type": "stream",
     "text": [
      "[W pthreadpool-cpp.cc:90] Warning: Leaking Caffe2 thread-pool after fork. (function pthreadpool)\n",
      "[W pthreadpool-cpp.cc:90] Warning: Leaking Caffe2 thread-pool after fork. (function pthreadpool)\n",
      "[W pthreadpool-cpp.cc:90] Warning: Leaking Caffe2 thread-pool after fork. (function pthreadpool)\n",
      "[W pthreadpool-cpp.cc:90] Warning: Leaking Caffe2 thread-pool after fork. (function pthreadpool)\n"
     ]
    },
    {
     "name": "stdout",
     "output_type": "stream",
     "text": [
      "EVAL: [0/1140] Elapsed 0m 0s (remain 5m 35s) Loss: 0.4583(0.4583) \n",
      "EVAL: [100/1140] Elapsed 0m 11s (remain 1m 59s) Loss: 0.5636(0.5587) \n",
      "EVAL: [200/1140] Elapsed 0m 22s (remain 1m 47s) Loss: 0.5007(0.5602) \n",
      "EVAL: [300/1140] Elapsed 0m 34s (remain 1m 35s) Loss: 0.7449(0.5583) \n",
      "EVAL: [400/1140] Elapsed 0m 45s (remain 1m 23s) Loss: 0.5776(0.5585) \n",
      "EVAL: [500/1140] Elapsed 0m 56s (remain 1m 12s) Loss: 0.6091(0.5633) \n",
      "EVAL: [600/1140] Elapsed 1m 7s (remain 1m 0s) Loss: 0.5566(0.5607) \n",
      "EVAL: [700/1140] Elapsed 1m 19s (remain 0m 49s) Loss: 0.6876(0.5614) \n",
      "EVAL: [800/1140] Elapsed 1m 30s (remain 0m 38s) Loss: 0.6703(0.5611) \n",
      "EVAL: [900/1140] Elapsed 1m 41s (remain 0m 26s) Loss: 0.4278(0.5605) \n",
      "EVAL: [1000/1140] Elapsed 1m 52s (remain 0m 15s) Loss: 0.5126(0.5621) \n",
      "EVAL: [1100/1140] Elapsed 2m 4s (remain 0m 4s) Loss: 0.4882(0.5618) \n"
     ]
    },
    {
     "name": "stderr",
     "output_type": "stream",
     "text": [
      "Epoch 1 - avg_train_loss: 0.6022  avg_val_loss: 0.5614  time: 1048s\n",
      "Epoch 1 - Score: 0.7904\n",
      "Epoch 1 - Save Best Score: 0.7904 Model\n"
     ]
    },
    {
     "name": "stdout",
     "output_type": "stream",
     "text": [
      "EVAL: [1139/1140] Elapsed 2m 8s (remain 0m 0s) Loss: 0.6189(0.5614) \n"
     ]
    },
    {
     "name": "stderr",
     "output_type": "stream",
     "text": [
      "[W pthreadpool-cpp.cc:90] Warning: Leaking Caffe2 thread-pool after fork. (function pthreadpool)\n",
      "[W pthreadpool-cpp.cc:90] Warning: Leaking Caffe2 thread-pool after fork. (function pthreadpool)\n",
      "[W pthreadpool-cpp.cc:90] Warning: Leaking Caffe2 thread-pool after fork. (function pthreadpool)\n",
      "[W pthreadpool-cpp.cc:90] Warning: Leaking Caffe2 thread-pool after fork. (function pthreadpool)\n"
     ]
    },
    {
     "name": "stdout",
     "output_type": "stream",
     "text": [
      "Epoch: [2][0/3419] Elapsed 0m 0s (remain 39m 32s) Loss: 0.6342(0.6342) Grad: 29363.4238  LR: 0.00001866  \n",
      "Epoch: [2][100/3419] Elapsed 0m 29s (remain 16m 19s) Loss: 0.6353(0.5646) Grad: 46517.8633  LR: 0.00001858  \n",
      "Epoch: [2][200/3419] Elapsed 0m 56s (remain 15m 7s) Loss: 0.5404(0.5616) Grad: 39774.3750  LR: 0.00001850  \n",
      "Epoch: [2][300/3419] Elapsed 1m 23s (remain 14m 24s) Loss: 0.7155(0.5668) Grad: 70436.3359  LR: 0.00001842  \n",
      "Epoch: [2][400/3419] Elapsed 1m 50s (remain 13m 49s) Loss: 0.4132(0.5671) Grad: 5675.3853  LR: 0.00001834  \n",
      "Epoch: [2][500/3419] Elapsed 2m 17s (remain 13m 18s) Loss: 0.6888(0.5674) Grad: 12709.4707  LR: 0.00001825  \n",
      "Epoch: [2][600/3419] Elapsed 2m 44s (remain 12m 49s) Loss: 0.5025(0.5673) Grad: 7331.6284  LR: 0.00001816  \n",
      "Epoch: [2][700/3419] Elapsed 3m 10s (remain 12m 20s) Loss: 0.5653(0.5653) Grad: 5855.5386  LR: 0.00001807  \n",
      "Epoch: [2][800/3419] Elapsed 3m 37s (remain 11m 51s) Loss: 0.5497(0.5649) Grad: 7373.6133  LR: 0.00001798  \n",
      "Epoch: [2][900/3419] Elapsed 4m 4s (remain 11m 23s) Loss: 0.3567(0.5634) Grad: 5237.8486  LR: 0.00001789  \n",
      "Epoch: [2][1000/3419] Elapsed 4m 31s (remain 10m 56s) Loss: 0.6796(0.5646) Grad: 5504.3447  LR: 0.00001780  \n",
      "Epoch: [2][1100/3419] Elapsed 4m 58s (remain 10m 28s) Loss: 0.2444(0.5651) Grad: 4754.6484  LR: 0.00001770  \n",
      "Epoch: [2][1200/3419] Elapsed 5m 25s (remain 10m 0s) Loss: 0.6457(0.5644) Grad: 4020.8723  LR: 0.00001760  \n",
      "Epoch: [2][1300/3419] Elapsed 5m 52s (remain 9m 33s) Loss: 0.5486(0.5646) Grad: 3324.0156  LR: 0.00001750  \n",
      "Epoch: [2][1400/3419] Elapsed 6m 19s (remain 9m 6s) Loss: 0.5855(0.5648) Grad: 3966.8269  LR: 0.00001740  \n",
      "Epoch: [2][1500/3419] Elapsed 6m 46s (remain 8m 38s) Loss: 0.8298(0.5646) Grad: 11749.6250  LR: 0.00001729  \n",
      "Epoch: [2][1600/3419] Elapsed 7m 13s (remain 8m 11s) Loss: 0.6101(0.5636) Grad: 1413.7094  LR: 0.00001719  \n",
      "Epoch: [2][1700/3419] Elapsed 7m 39s (remain 7m 44s) Loss: 0.5627(0.5622) Grad: 3245.1467  LR: 0.00001708  \n",
      "Epoch: [2][1800/3419] Elapsed 8m 6s (remain 7m 17s) Loss: 0.7272(0.5621) Grad: 9513.1729  LR: 0.00001697  \n",
      "Epoch: [2][1900/3419] Elapsed 8m 33s (remain 6m 50s) Loss: 0.5750(0.5620) Grad: 2603.9072  LR: 0.00001686  \n",
      "Epoch: [2][2000/3419] Elapsed 9m 0s (remain 6m 23s) Loss: 0.5428(0.5624) Grad: 1505.2161  LR: 0.00001675  \n",
      "Epoch: [2][2100/3419] Elapsed 9m 27s (remain 5m 55s) Loss: 0.6097(0.5621) Grad: 5067.2827  LR: 0.00001663  \n",
      "Epoch: [2][2200/3419] Elapsed 9m 54s (remain 5m 28s) Loss: 0.4518(0.5628) Grad: 12062.7715  LR: 0.00001652  \n",
      "Epoch: [2][2300/3419] Elapsed 10m 21s (remain 5m 1s) Loss: 0.6919(0.5623) Grad: 7949.5186  LR: 0.00001640  \n",
      "Epoch: [2][2400/3419] Elapsed 10m 48s (remain 4m 34s) Loss: 0.4404(0.5622) Grad: 1102.5547  LR: 0.00001628  \n",
      "Epoch: [2][2500/3419] Elapsed 11m 14s (remain 4m 7s) Loss: 0.4788(0.5618) Grad: 3545.9431  LR: 0.00001616  \n",
      "Epoch: [2][2600/3419] Elapsed 11m 41s (remain 3m 40s) Loss: 0.3583(0.5613) Grad: 2015.9946  LR: 0.00001604  \n",
      "Epoch: [2][2700/3419] Elapsed 12m 8s (remain 3m 13s) Loss: 0.4309(0.5609) Grad: 6709.8306  LR: 0.00001592  \n",
      "Epoch: [2][2800/3419] Elapsed 12m 35s (remain 2m 46s) Loss: 0.5591(0.5616) Grad: 622.1567  LR: 0.00001580  \n",
      "Epoch: [2][2900/3419] Elapsed 13m 2s (remain 2m 19s) Loss: 0.6380(0.5613) Grad: 2793.9897  LR: 0.00001567  \n",
      "Epoch: [2][3000/3419] Elapsed 13m 29s (remain 1m 52s) Loss: 0.5442(0.5617) Grad: 1340.3513  LR: 0.00001554  \n",
      "Epoch: [2][3100/3419] Elapsed 13m 56s (remain 1m 25s) Loss: 0.5930(0.5619) Grad: 1603.9769  LR: 0.00001542  \n",
      "Epoch: [2][3200/3419] Elapsed 14m 23s (remain 0m 58s) Loss: 0.6277(0.5619) Grad: 2850.4158  LR: 0.00001529  \n",
      "Epoch: [2][3300/3419] Elapsed 14m 49s (remain 0m 31s) Loss: 0.6783(0.5619) Grad: 2816.2107  LR: 0.00001516  \n",
      "Epoch: [2][3400/3419] Elapsed 15m 16s (remain 0m 4s) Loss: 0.3645(0.5618) Grad: 3244.6216  LR: 0.00001502  \n",
      "Epoch: [2][3418/3419] Elapsed 15m 21s (remain 0m 0s) Loss: 0.7185(0.5617) Grad: 3053.2908  LR: 0.00001500  \n"
     ]
    },
    {
     "name": "stderr",
     "output_type": "stream",
     "text": [
      "[W pthreadpool-cpp.cc:90] Warning: Leaking Caffe2 thread-pool after fork. (function pthreadpool)\n",
      "[W pthreadpool-cpp.cc:90] Warning: Leaking Caffe2 thread-pool after fork. (function pthreadpool)\n",
      "[W pthreadpool-cpp.cc:90] Warning: Leaking Caffe2 thread-pool after fork. (function pthreadpool)\n",
      "[W pthreadpool-cpp.cc:90] Warning: Leaking Caffe2 thread-pool after fork. (function pthreadpool)\n"
     ]
    },
    {
     "name": "stdout",
     "output_type": "stream",
     "text": [
      "EVAL: [0/1140] Elapsed 0m 0s (remain 5m 29s) Loss: 0.4533(0.4533) \n",
      "EVAL: [100/1140] Elapsed 0m 11s (remain 1m 58s) Loss: 0.5400(0.5531) \n",
      "EVAL: [200/1140] Elapsed 0m 22s (remain 1m 46s) Loss: 0.4617(0.5535) \n",
      "EVAL: [300/1140] Elapsed 0m 34s (remain 1m 34s) Loss: 0.7661(0.5502) \n",
      "EVAL: [400/1140] Elapsed 0m 45s (remain 1m 23s) Loss: 0.5299(0.5494) \n",
      "EVAL: [500/1140] Elapsed 0m 56s (remain 1m 12s) Loss: 0.5851(0.5536) \n",
      "EVAL: [600/1140] Elapsed 1m 7s (remain 1m 0s) Loss: 0.5369(0.5505) \n",
      "EVAL: [700/1140] Elapsed 1m 19s (remain 0m 49s) Loss: 0.6608(0.5517) \n",
      "EVAL: [800/1140] Elapsed 1m 30s (remain 0m 38s) Loss: 0.6895(0.5513) \n",
      "EVAL: [900/1140] Elapsed 1m 41s (remain 0m 26s) Loss: 0.4113(0.5506) \n",
      "EVAL: [1000/1140] Elapsed 1m 52s (remain 0m 15s) Loss: 0.4911(0.5521) \n",
      "EVAL: [1100/1140] Elapsed 2m 4s (remain 0m 4s) Loss: 0.4955(0.5516) \n"
     ]
    },
    {
     "name": "stderr",
     "output_type": "stream",
     "text": [
      "Epoch 2 - avg_train_loss: 0.5617  avg_val_loss: 0.5514  time: 1050s\n",
      "Epoch 2 - Score: 0.8162\n",
      "Epoch 2 - Save Best Score: 0.8162 Model\n"
     ]
    },
    {
     "name": "stdout",
     "output_type": "stream",
     "text": [
      "EVAL: [1139/1140] Elapsed 2m 8s (remain 0m 0s) Loss: 0.6253(0.5514) \n"
     ]
    },
    {
     "name": "stderr",
     "output_type": "stream",
     "text": [
      "[W pthreadpool-cpp.cc:90] Warning: Leaking Caffe2 thread-pool after fork. (function pthreadpool)\n",
      "[W pthreadpool-cpp.cc:90] Warning: Leaking Caffe2 thread-pool after fork. (function pthreadpool)\n",
      "[W pthreadpool-cpp.cc:90] Warning: Leaking Caffe2 thread-pool after fork. (function pthreadpool)\n",
      "[W pthreadpool-cpp.cc:90] Warning: Leaking Caffe2 thread-pool after fork. (function pthreadpool)\n"
     ]
    },
    {
     "name": "stdout",
     "output_type": "stream",
     "text": [
      "Epoch: [3][0/3419] Elapsed 0m 0s (remain 39m 19s) Loss: 0.5735(0.5735) Grad: 35175.2734  LR: 0.00001500  \n",
      "Epoch: [3][100/3419] Elapsed 0m 27s (remain 15m 4s) Loss: 0.4205(0.5570) Grad: 72526.6250  LR: 0.00001487  \n",
      "Epoch: [3][200/3419] Elapsed 0m 54s (remain 14m 31s) Loss: 0.5582(0.5445) Grad: 27988.9004  LR: 0.00001473  \n",
      "Epoch: [3][300/3419] Elapsed 1m 21s (remain 14m 1s) Loss: 0.7952(0.5521) Grad: 45711.4922  LR: 0.00001460  \n",
      "Epoch: [3][400/3419] Elapsed 1m 48s (remain 13m 33s) Loss: 0.3346(0.5554) Grad: 11149.4746  LR: 0.00001446  \n",
      "Epoch: [3][500/3419] Elapsed 2m 15s (remain 13m 6s) Loss: 0.4692(0.5522) Grad: 13527.6973  LR: 0.00001432  \n",
      "Epoch: [3][600/3419] Elapsed 2m 41s (remain 12m 38s) Loss: 0.4977(0.5495) Grad: 9270.6572  LR: 0.00001418  \n",
      "Epoch: [3][700/3419] Elapsed 3m 8s (remain 12m 11s) Loss: 0.5651(0.5507) Grad: 16094.8662  LR: 0.00001404  \n",
      "Epoch: [3][800/3419] Elapsed 3m 35s (remain 11m 44s) Loss: 0.5507(0.5511) Grad: 19238.6250  LR: 0.00001390  \n",
      "Epoch: [3][900/3419] Elapsed 4m 2s (remain 11m 17s) Loss: 0.5029(0.5496) Grad: 12207.9150  LR: 0.00001376  \n",
      "Epoch: [3][1000/3419] Elapsed 4m 29s (remain 10m 50s) Loss: 0.4879(0.5498) Grad: 11302.0928  LR: 0.00001362  \n",
      "Epoch: [3][1100/3419] Elapsed 4m 56s (remain 10m 23s) Loss: 0.6534(0.5500) Grad: 15617.5527  LR: 0.00001348  \n",
      "Epoch: [3][1200/3419] Elapsed 5m 23s (remain 9m 56s) Loss: 0.5222(0.5499) Grad: 13474.1230  LR: 0.00001333  \n",
      "Epoch: [3][1300/3419] Elapsed 5m 49s (remain 9m 29s) Loss: 0.5157(0.5503) Grad: 11988.2871  LR: 0.00001319  \n",
      "Epoch: [3][1400/3419] Elapsed 6m 16s (remain 9m 2s) Loss: 0.6765(0.5497) Grad: 15353.5117  LR: 0.00001304  \n",
      "Epoch: [3][1500/3419] Elapsed 6m 43s (remain 8m 35s) Loss: 0.5931(0.5490) Grad: 22691.8320  LR: 0.00001290  \n",
      "Epoch: [3][1600/3419] Elapsed 7m 10s (remain 8m 8s) Loss: 0.6614(0.5486) Grad: 12322.6270  LR: 0.00001275  \n",
      "Epoch: [3][1700/3419] Elapsed 7m 37s (remain 7m 41s) Loss: 0.5389(0.5494) Grad: 18000.5879  LR: 0.00001260  \n",
      "Epoch: [3][1800/3419] Elapsed 8m 4s (remain 7m 15s) Loss: 0.5332(0.5491) Grad: 17895.4043  LR: 0.00001245  \n",
      "Epoch: [3][1900/3419] Elapsed 8m 31s (remain 6m 48s) Loss: 0.5011(0.5501) Grad: 30009.2070  LR: 0.00001230  \n",
      "Epoch: [3][2000/3419] Elapsed 8m 57s (remain 6m 21s) Loss: 0.6127(0.5500) Grad: 12065.7139  LR: 0.00001216  \n",
      "Epoch: [3][2100/3419] Elapsed 9m 24s (remain 5m 54s) Loss: 0.6018(0.5496) Grad: 12855.0811  LR: 0.00001201  \n",
      "Epoch: [3][2200/3419] Elapsed 9m 51s (remain 5m 27s) Loss: 0.4827(0.5496) Grad: 4731.1235  LR: 0.00001186  \n",
      "Epoch: [3][2300/3419] Elapsed 10m 18s (remain 5m 0s) Loss: 0.5139(0.5500) Grad: 9736.5537  LR: 0.00001170  \n",
      "Epoch: [3][2400/3419] Elapsed 10m 45s (remain 4m 33s) Loss: 0.4310(0.5502) Grad: 8801.3633  LR: 0.00001155  \n",
      "Epoch: [3][2500/3419] Elapsed 11m 12s (remain 4m 6s) Loss: 0.5696(0.5508) Grad: 4399.6299  LR: 0.00001140  \n",
      "Epoch: [3][2600/3419] Elapsed 11m 39s (remain 3m 39s) Loss: 0.6079(0.5506) Grad: 7859.5596  LR: 0.00001125  \n",
      "Epoch: [3][2700/3419] Elapsed 12m 5s (remain 3m 12s) Loss: 0.6311(0.5502) Grad: 13713.3477  LR: 0.00001110  \n",
      "Epoch: [3][2800/3419] Elapsed 12m 32s (remain 2m 46s) Loss: 0.5409(0.5502) Grad: 7959.1689  LR: 0.00001095  \n",
      "Epoch: [3][2900/3419] Elapsed 12m 59s (remain 2m 19s) Loss: 0.4998(0.5499) Grad: 4511.8716  LR: 0.00001079  \n",
      "Epoch: [3][3000/3419] Elapsed 13m 26s (remain 1m 52s) Loss: 0.4352(0.5494) Grad: 13273.1045  LR: 0.00001064  \n",
      "Epoch: [3][3100/3419] Elapsed 13m 53s (remain 1m 25s) Loss: 0.6163(0.5496) Grad: 14635.3291  LR: 0.00001049  \n",
      "Epoch: [3][3200/3419] Elapsed 14m 20s (remain 0m 58s) Loss: 0.5005(0.5493) Grad: 10984.6074  LR: 0.00001033  \n",
      "Epoch: [3][3300/3419] Elapsed 14m 47s (remain 0m 31s) Loss: 0.5548(0.5492) Grad: 21907.6152  LR: 0.00001018  \n",
      "Epoch: [3][3400/3419] Elapsed 15m 13s (remain 0m 4s) Loss: 0.4154(0.5490) Grad: 4265.9658  LR: 0.00001003  \n",
      "Epoch: [3][3418/3419] Elapsed 15m 18s (remain 0m 0s) Loss: 0.5095(0.5489) Grad: 7998.8433  LR: 0.00001000  \n"
     ]
    },
    {
     "name": "stderr",
     "output_type": "stream",
     "text": [
      "[W pthreadpool-cpp.cc:90] Warning: Leaking Caffe2 thread-pool after fork. (function pthreadpool)\n",
      "[W pthreadpool-cpp.cc:90] Warning: Leaking Caffe2 thread-pool after fork. (function pthreadpool)\n",
      "[W pthreadpool-cpp.cc:90] Warning: Leaking Caffe2 thread-pool after fork. (function pthreadpool)\n",
      "[W pthreadpool-cpp.cc:90] Warning: Leaking Caffe2 thread-pool after fork. (function pthreadpool)\n"
     ]
    },
    {
     "name": "stdout",
     "output_type": "stream",
     "text": [
      "EVAL: [0/1140] Elapsed 0m 0s (remain 5m 38s) Loss: 0.4354(0.4354) \n",
      "EVAL: [100/1140] Elapsed 0m 11s (remain 1m 58s) Loss: 0.5312(0.5455) \n",
      "EVAL: [200/1140] Elapsed 0m 22s (remain 1m 47s) Loss: 0.4527(0.5489) \n",
      "EVAL: [300/1140] Elapsed 0m 34s (remain 1m 35s) Loss: 0.7744(0.5467) \n",
      "EVAL: [400/1140] Elapsed 0m 45s (remain 1m 23s) Loss: 0.5178(0.5462) \n",
      "EVAL: [500/1140] Elapsed 0m 56s (remain 1m 12s) Loss: 0.6252(0.5501) \n",
      "EVAL: [600/1140] Elapsed 1m 8s (remain 1m 0s) Loss: 0.5355(0.5474) \n",
      "EVAL: [700/1140] Elapsed 1m 19s (remain 0m 49s) Loss: 0.6433(0.5488) \n",
      "EVAL: [800/1140] Elapsed 1m 30s (remain 0m 38s) Loss: 0.6866(0.5483) \n",
      "EVAL: [900/1140] Elapsed 1m 41s (remain 0m 26s) Loss: 0.4082(0.5475) \n",
      "EVAL: [1000/1140] Elapsed 1m 53s (remain 0m 15s) Loss: 0.4841(0.5489) \n",
      "EVAL: [1100/1140] Elapsed 2m 4s (remain 0m 4s) Loss: 0.4983(0.5485) \n"
     ]
    },
    {
     "name": "stderr",
     "output_type": "stream",
     "text": [
      "Epoch 3 - avg_train_loss: 0.5489  avg_val_loss: 0.5484  time: 1048s\n",
      "Epoch 3 - Score: 0.8239\n",
      "Epoch 3 - Save Best Score: 0.8239 Model\n"
     ]
    },
    {
     "name": "stdout",
     "output_type": "stream",
     "text": [
      "EVAL: [1139/1140] Elapsed 2m 8s (remain 0m 0s) Loss: 0.6188(0.5484) \n"
     ]
    },
    {
     "name": "stderr",
     "output_type": "stream",
     "text": [
      "[W pthreadpool-cpp.cc:90] Warning: Leaking Caffe2 thread-pool after fork. (function pthreadpool)\n",
      "[W pthreadpool-cpp.cc:90] Warning: Leaking Caffe2 thread-pool after fork. (function pthreadpool)\n",
      "[W pthreadpool-cpp.cc:90] Warning: Leaking Caffe2 thread-pool after fork. (function pthreadpool)\n",
      "[W pthreadpool-cpp.cc:90] Warning: Leaking Caffe2 thread-pool after fork. (function pthreadpool)\n"
     ]
    },
    {
     "name": "stdout",
     "output_type": "stream",
     "text": [
      "Epoch: [4][0/3419] Elapsed 0m 0s (remain 39m 17s) Loss: 0.5543(0.5543) Grad: 90078.2109  LR: 0.00001000  \n",
      "Epoch: [4][100/3419] Elapsed 0m 27s (remain 15m 2s) Loss: 0.5483(0.5539) Grad: 20704.2324  LR: 0.00000985  \n",
      "Epoch: [4][200/3419] Elapsed 0m 54s (remain 14m 30s) Loss: 0.5703(0.5517) Grad: 11554.9287  LR: 0.00000969  \n",
      "Epoch: [4][300/3419] Elapsed 1m 21s (remain 14m 1s) Loss: 0.4745(0.5475) Grad: 13878.5898  LR: 0.00000954  \n",
      "Epoch: [4][400/3419] Elapsed 1m 48s (remain 13m 33s) Loss: 0.5152(0.5510) Grad: 12385.9932  LR: 0.00000939  \n",
      "Epoch: [4][500/3419] Elapsed 2m 14s (remain 13m 6s) Loss: 0.4694(0.5510) Grad: 27801.5547  LR: 0.00000923  \n",
      "Epoch: [4][600/3419] Elapsed 2m 41s (remain 12m 38s) Loss: 0.6560(0.5515) Grad: 26523.6406  LR: 0.00000908  \n",
      "Epoch: [4][700/3419] Elapsed 3m 8s (remain 12m 11s) Loss: 0.6660(0.5502) Grad: 21704.8184  LR: 0.00000893  \n",
      "Epoch: [4][800/3419] Elapsed 3m 35s (remain 11m 44s) Loss: 0.7127(0.5496) Grad: 11016.2080  LR: 0.00000878  \n",
      "Epoch: [4][900/3419] Elapsed 4m 2s (remain 11m 17s) Loss: 0.4822(0.5487) Grad: 15197.8682  LR: 0.00000863  \n",
      "Epoch: [4][1000/3419] Elapsed 4m 29s (remain 10m 50s) Loss: 0.5569(0.5485) Grad: 8139.3350  LR: 0.00000847  \n",
      "Epoch: [4][1100/3419] Elapsed 4m 56s (remain 10m 23s) Loss: 0.5159(0.5480) Grad: 3966.3345  LR: 0.00000832  \n",
      "Epoch: [4][1200/3419] Elapsed 5m 23s (remain 9m 56s) Loss: 0.5710(0.5478) Grad: 14680.3135  LR: 0.00000817  \n",
      "Epoch: [4][1300/3419] Elapsed 5m 49s (remain 9m 29s) Loss: 0.3823(0.5464) Grad: 2481.6399  LR: 0.00000802  \n",
      "Epoch: [4][1400/3419] Elapsed 6m 16s (remain 9m 2s) Loss: 0.7523(0.5463) Grad: 7783.1797  LR: 0.00000787  \n",
      "Epoch: [4][1500/3419] Elapsed 6m 43s (remain 8m 35s) Loss: 0.4844(0.5456) Grad: 2877.9023  LR: 0.00000772  \n",
      "Epoch: [4][1600/3419] Elapsed 7m 10s (remain 8m 9s) Loss: 0.4975(0.5462) Grad: 2335.8025  LR: 0.00000757  \n",
      "Epoch: [4][1700/3419] Elapsed 7m 37s (remain 7m 42s) Loss: 0.5777(0.5464) Grad: 9704.6982  LR: 0.00000743  \n",
      "Epoch: [4][1800/3419] Elapsed 8m 4s (remain 7m 15s) Loss: 0.3833(0.5467) Grad: 5724.7217  LR: 0.00000728  \n",
      "Epoch: [4][1900/3419] Elapsed 8m 31s (remain 6m 48s) Loss: 0.4372(0.5465) Grad: 6506.4336  LR: 0.00000713  \n",
      "Epoch: [4][2000/3419] Elapsed 8m 58s (remain 6m 21s) Loss: 0.5983(0.5472) Grad: 3918.8271  LR: 0.00000698  \n",
      "Epoch: [4][2100/3419] Elapsed 9m 25s (remain 5m 54s) Loss: 0.5216(0.5478) Grad: 4146.1250  LR: 0.00000684  \n",
      "Epoch: [4][2200/3419] Elapsed 9m 52s (remain 5m 27s) Loss: 0.4838(0.5476) Grad: 15735.1689  LR: 0.00000669  \n",
      "Epoch: [4][2300/3419] Elapsed 10m 18s (remain 5m 0s) Loss: 0.4698(0.5471) Grad: 5257.8926  LR: 0.00000655  \n",
      "Epoch: [4][2400/3419] Elapsed 10m 45s (remain 4m 33s) Loss: 0.4498(0.5467) Grad: 5501.8159  LR: 0.00000641  \n",
      "Epoch: [4][2500/3419] Elapsed 11m 12s (remain 4m 6s) Loss: 0.4476(0.5463) Grad: 2530.3855  LR: 0.00000626  \n",
      "Epoch: [4][2600/3419] Elapsed 11m 39s (remain 3m 40s) Loss: 0.5796(0.5457) Grad: 4064.8362  LR: 0.00000612  \n",
      "Epoch: [4][2700/3419] Elapsed 12m 6s (remain 3m 13s) Loss: 0.4442(0.5456) Grad: 4725.0552  LR: 0.00000598  \n",
      "Epoch: [4][2800/3419] Elapsed 12m 33s (remain 2m 46s) Loss: 0.5745(0.5450) Grad: 3082.2856  LR: 0.00000584  \n",
      "Epoch: [4][2900/3419] Elapsed 13m 0s (remain 2m 19s) Loss: 0.4593(0.5452) Grad: 5991.6807  LR: 0.00000570  \n",
      "Epoch: [4][3000/3419] Elapsed 13m 27s (remain 1m 52s) Loss: 0.4031(0.5450) Grad: 3582.1506  LR: 0.00000557  \n",
      "Epoch: [4][3100/3419] Elapsed 13m 54s (remain 1m 25s) Loss: 0.6674(0.5456) Grad: 8413.0684  LR: 0.00000543  \n",
      "Epoch: [4][3200/3419] Elapsed 14m 20s (remain 0m 58s) Loss: 0.5131(0.5454) Grad: 1737.2775  LR: 0.00000529  \n",
      "Epoch: [4][3300/3419] Elapsed 14m 47s (remain 0m 31s) Loss: 0.6609(0.5453) Grad: 4133.7969  LR: 0.00000516  \n",
      "Epoch: [4][3400/3419] Elapsed 15m 14s (remain 0m 4s) Loss: 0.5898(0.5453) Grad: 1363.8583  LR: 0.00000502  \n",
      "Epoch: [4][3418/3419] Elapsed 15m 19s (remain 0m 0s) Loss: 0.5277(0.5453) Grad: 3919.9495  LR: 0.00000500  \n"
     ]
    },
    {
     "name": "stderr",
     "output_type": "stream",
     "text": [
      "[W pthreadpool-cpp.cc:90] Warning: Leaking Caffe2 thread-pool after fork. (function pthreadpool)\n",
      "[W pthreadpool-cpp.cc:90] Warning: Leaking Caffe2 thread-pool after fork. (function pthreadpool)\n",
      "[W pthreadpool-cpp.cc:90] Warning: Leaking Caffe2 thread-pool after fork. (function pthreadpool)\n",
      "[W pthreadpool-cpp.cc:90] Warning: Leaking Caffe2 thread-pool after fork. (function pthreadpool)\n"
     ]
    },
    {
     "name": "stdout",
     "output_type": "stream",
     "text": [
      "EVAL: [0/1140] Elapsed 0m 0s (remain 5m 43s) Loss: 0.4570(0.4570) \n",
      "EVAL: [100/1140] Elapsed 0m 11s (remain 1m 59s) Loss: 0.5322(0.5405) \n",
      "EVAL: [200/1140] Elapsed 0m 22s (remain 1m 46s) Loss: 0.4621(0.5430) \n",
      "EVAL: [300/1140] Elapsed 0m 34s (remain 1m 35s) Loss: 0.7693(0.5399) \n",
      "EVAL: [400/1140] Elapsed 0m 45s (remain 1m 24s) Loss: 0.5159(0.5402) \n",
      "EVAL: [500/1140] Elapsed 0m 56s (remain 1m 12s) Loss: 0.5799(0.5437) \n",
      "EVAL: [600/1140] Elapsed 1m 8s (remain 1m 1s) Loss: 0.5377(0.5415) \n",
      "EVAL: [700/1140] Elapsed 1m 19s (remain 0m 49s) Loss: 0.6049(0.5427) \n",
      "EVAL: [800/1140] Elapsed 1m 30s (remain 0m 38s) Loss: 0.6875(0.5420) \n",
      "EVAL: [900/1140] Elapsed 1m 42s (remain 0m 27s) Loss: 0.4079(0.5407) \n",
      "EVAL: [1000/1140] Elapsed 1m 53s (remain 0m 15s) Loss: 0.4844(0.5422) \n",
      "EVAL: [1100/1140] Elapsed 2m 4s (remain 0m 4s) Loss: 0.4942(0.5418) \n"
     ]
    },
    {
     "name": "stderr",
     "output_type": "stream",
     "text": [
      "Epoch 4 - avg_train_loss: 0.5453  avg_val_loss: 0.5417  time: 1049s\n",
      "Epoch 4 - Score: 0.8358\n",
      "Epoch 4 - Save Best Score: 0.8358 Model\n"
     ]
    },
    {
     "name": "stdout",
     "output_type": "stream",
     "text": [
      "EVAL: [1139/1140] Elapsed 2m 9s (remain 0m 0s) Loss: 0.6152(0.5417) \n"
     ]
    },
    {
     "name": "stderr",
     "output_type": "stream",
     "text": [
      "[W pthreadpool-cpp.cc:90] Warning: Leaking Caffe2 thread-pool after fork. (function pthreadpool)\n",
      "[W pthreadpool-cpp.cc:90] Warning: Leaking Caffe2 thread-pool after fork. (function pthreadpool)\n",
      "[W pthreadpool-cpp.cc:90] Warning: Leaking Caffe2 thread-pool after fork. (function pthreadpool)\n",
      "[W pthreadpool-cpp.cc:90] Warning: Leaking Caffe2 thread-pool after fork. (function pthreadpool)\n"
     ]
    },
    {
     "name": "stdout",
     "output_type": "stream",
     "text": [
      "Epoch: [5][0/3419] Elapsed 0m 0s (remain 41m 42s) Loss: 0.5051(0.5051) Grad: 21255.4395  LR: 0.00000500  \n",
      "Epoch: [5][100/3419] Elapsed 0m 27s (remain 15m 7s) Loss: 0.5260(0.5350) Grad: 23231.4141  LR: 0.00000487  \n",
      "Epoch: [5][200/3419] Elapsed 0m 54s (remain 14m 33s) Loss: 0.4718(0.5376) Grad: 25818.4805  LR: 0.00000474  \n",
      "Epoch: [5][300/3419] Elapsed 1m 21s (remain 14m 3s) Loss: 0.3838(0.5402) Grad: 8824.6396  LR: 0.00000461  \n",
      "Epoch: [5][400/3419] Elapsed 1m 48s (remain 13m 35s) Loss: 0.5908(0.5390) Grad: 4662.5757  LR: 0.00000448  \n",
      "Epoch: [5][500/3419] Elapsed 2m 15s (remain 13m 7s) Loss: 0.6167(0.5416) Grad: 7813.0439  LR: 0.00000435  \n",
      "Epoch: [5][600/3419] Elapsed 2m 42s (remain 12m 40s) Loss: 0.7187(0.5419) Grad: 8897.3965  LR: 0.00000423  \n",
      "Epoch: [5][700/3419] Elapsed 3m 9s (remain 12m 12s) Loss: 0.5753(0.5401) Grad: 13035.7646  LR: 0.00000410  \n",
      "Epoch: [5][800/3419] Elapsed 3m 35s (remain 11m 45s) Loss: 0.4923(0.5415) Grad: 3791.7231  LR: 0.00000398  \n",
      "Epoch: [5][900/3419] Elapsed 4m 2s (remain 11m 18s) Loss: 0.5941(0.5416) Grad: 13933.8623  LR: 0.00000386  \n",
      "Epoch: [5][1000/3419] Elapsed 4m 29s (remain 10m 51s) Loss: 0.4510(0.5423) Grad: 3672.6489  LR: 0.00000374  \n",
      "Epoch: [5][1100/3419] Elapsed 4m 56s (remain 10m 24s) Loss: 0.5764(0.5407) Grad: 26804.3828  LR: 0.00000362  \n",
      "Epoch: [5][1200/3419] Elapsed 5m 23s (remain 9m 57s) Loss: 0.5593(0.5402) Grad: 1616.6879  LR: 0.00000350  \n",
      "Epoch: [5][1300/3419] Elapsed 5m 50s (remain 9m 30s) Loss: 0.3786(0.5409) Grad: 4998.8530  LR: 0.00000339  \n",
      "Epoch: [5][1400/3419] Elapsed 6m 17s (remain 9m 3s) Loss: 0.5343(0.5405) Grad: 2963.6143  LR: 0.00000327  \n",
      "Epoch: [5][1500/3419] Elapsed 6m 44s (remain 8m 36s) Loss: 0.3917(0.5405) Grad: 2450.7595  LR: 0.00000316  \n",
      "Epoch: [5][1600/3419] Elapsed 7m 11s (remain 8m 9s) Loss: 0.5570(0.5392) Grad: 6261.8989  LR: 0.00000305  \n",
      "Epoch: [5][1700/3419] Elapsed 7m 37s (remain 7m 42s) Loss: 0.5792(0.5395) Grad: 3384.9036  LR: 0.00000294  \n",
      "Epoch: [5][1800/3419] Elapsed 8m 4s (remain 7m 15s) Loss: 0.4943(0.5397) Grad: 2987.5566  LR: 0.00000283  \n",
      "Epoch: [5][1900/3419] Elapsed 8m 31s (remain 6m 48s) Loss: 0.4834(0.5389) Grad: 1838.1284  LR: 0.00000273  \n",
      "Epoch: [5][2000/3419] Elapsed 8m 58s (remain 6m 21s) Loss: 0.4257(0.5388) Grad: 7149.3501  LR: 0.00000262  \n",
      "Epoch: [5][2100/3419] Elapsed 9m 25s (remain 5m 54s) Loss: 0.6138(0.5384) Grad: 5496.8442  LR: 0.00000252  \n",
      "Epoch: [5][2200/3419] Elapsed 9m 52s (remain 5m 27s) Loss: 0.5936(0.5388) Grad: 7376.4771  LR: 0.00000242  \n",
      "Epoch: [5][2300/3419] Elapsed 10m 19s (remain 5m 0s) Loss: 0.6617(0.5389) Grad: 8559.4932  LR: 0.00000232  \n",
      "Epoch: [5][2400/3419] Elapsed 10m 46s (remain 4m 34s) Loss: 0.6487(0.5390) Grad: 3400.5581  LR: 0.00000222  \n",
      "Epoch: [5][2500/3419] Elapsed 11m 13s (remain 4m 7s) Loss: 0.5357(0.5391) Grad: 4624.5469  LR: 0.00000213  \n",
      "Epoch: [5][2600/3419] Elapsed 11m 40s (remain 3m 40s) Loss: 0.5711(0.5387) Grad: 7577.2920  LR: 0.00000203  \n",
      "Epoch: [5][2700/3419] Elapsed 12m 7s (remain 3m 13s) Loss: 0.3415(0.5388) Grad: 3524.1523  LR: 0.00000194  \n",
      "Epoch: [5][2800/3419] Elapsed 12m 33s (remain 2m 46s) Loss: 0.4318(0.5386) Grad: 1606.2791  LR: 0.00000185  \n",
      "Epoch: [5][2900/3419] Elapsed 13m 0s (remain 2m 19s) Loss: 0.4926(0.5383) Grad: 4447.4331  LR: 0.00000176  \n",
      "Epoch: [5][3000/3419] Elapsed 13m 27s (remain 1m 52s) Loss: 0.4972(0.5388) Grad: 5140.9902  LR: 0.00000168  \n",
      "Epoch: [5][3100/3419] Elapsed 13m 54s (remain 1m 25s) Loss: 0.4949(0.5387) Grad: 13670.7012  LR: 0.00000159  \n",
      "Epoch: [5][3200/3419] Elapsed 14m 21s (remain 0m 58s) Loss: 0.4227(0.5388) Grad: 7510.3467  LR: 0.00000151  \n",
      "Epoch: [5][3300/3419] Elapsed 14m 48s (remain 0m 31s) Loss: 0.5728(0.5388) Grad: 5176.6504  LR: 0.00000143  \n",
      "Epoch: [5][3400/3419] Elapsed 15m 15s (remain 0m 4s) Loss: 0.5138(0.5388) Grad: 11468.8828  LR: 0.00000135  \n",
      "Epoch: [5][3418/3419] Elapsed 15m 20s (remain 0m 0s) Loss: 0.3549(0.5388) Grad: 3794.5752  LR: 0.00000134  \n"
     ]
    },
    {
     "name": "stderr",
     "output_type": "stream",
     "text": [
      "[W pthreadpool-cpp.cc:90] Warning: Leaking Caffe2 thread-pool after fork. (function pthreadpool)\n",
      "[W pthreadpool-cpp.cc:90] Warning: Leaking Caffe2 thread-pool after fork. (function pthreadpool)\n",
      "[W pthreadpool-cpp.cc:90] Warning: Leaking Caffe2 thread-pool after fork. (function pthreadpool)\n",
      "[W pthreadpool-cpp.cc:90] Warning: Leaking Caffe2 thread-pool after fork. (function pthreadpool)\n"
     ]
    },
    {
     "name": "stdout",
     "output_type": "stream",
     "text": [
      "EVAL: [0/1140] Elapsed 0m 0s (remain 5m 32s) Loss: 0.4402(0.4402) \n",
      "EVAL: [100/1140] Elapsed 0m 11s (remain 1m 58s) Loss: 0.5298(0.5397) \n",
      "EVAL: [200/1140] Elapsed 0m 22s (remain 1m 46s) Loss: 0.4551(0.5426) \n",
      "EVAL: [300/1140] Elapsed 0m 34s (remain 1m 35s) Loss: 0.7696(0.5401) \n",
      "EVAL: [400/1140] Elapsed 0m 45s (remain 1m 23s) Loss: 0.5164(0.5403) \n",
      "EVAL: [500/1140] Elapsed 0m 56s (remain 1m 12s) Loss: 0.5779(0.5442) \n",
      "EVAL: [600/1140] Elapsed 1m 7s (remain 1m 0s) Loss: 0.5349(0.5419) \n",
      "EVAL: [700/1140] Elapsed 1m 19s (remain 0m 49s) Loss: 0.6144(0.5432) \n",
      "EVAL: [800/1140] Elapsed 1m 30s (remain 0m 38s) Loss: 0.6936(0.5425) \n",
      "EVAL: [900/1140] Elapsed 1m 41s (remain 0m 27s) Loss: 0.4058(0.5411) \n",
      "EVAL: [1000/1140] Elapsed 1m 53s (remain 0m 15s) Loss: 0.4814(0.5425) \n",
      "EVAL: [1100/1140] Elapsed 2m 4s (remain 0m 4s) Loss: 0.4965(0.5420) \n"
     ]
    },
    {
     "name": "stderr",
     "output_type": "stream",
     "text": [
      "Epoch 5 - avg_train_loss: 0.5388  avg_val_loss: 0.5419  time: 1049s\n",
      "Epoch 5 - Score: 0.8363\n",
      "Epoch 5 - Save Best Score: 0.8363 Model\n"
     ]
    },
    {
     "name": "stdout",
     "output_type": "stream",
     "text": [
      "EVAL: [1139/1140] Elapsed 2m 8s (remain 0m 0s) Loss: 0.6183(0.5419) \n"
     ]
    },
    {
     "name": "stderr",
     "output_type": "stream",
     "text": [
      "[W pthreadpool-cpp.cc:90] Warning: Leaking Caffe2 thread-pool after fork. (function pthreadpool)\n",
      "[W pthreadpool-cpp.cc:90] Warning: Leaking Caffe2 thread-pool after fork. (function pthreadpool)\n",
      "[W pthreadpool-cpp.cc:90] Warning: Leaking Caffe2 thread-pool after fork. (function pthreadpool)\n",
      "[W pthreadpool-cpp.cc:90] Warning: Leaking Caffe2 thread-pool after fork. (function pthreadpool)\n"
     ]
    },
    {
     "name": "stdout",
     "output_type": "stream",
     "text": [
      "Epoch: [6][0/3419] Elapsed 0m 0s (remain 36m 17s) Loss: 0.4644(0.4644) Grad: 81420.1094  LR: 0.00000134  \n",
      "Epoch: [6][100/3419] Elapsed 0m 27s (remain 15m 4s) Loss: 0.3621(0.5496) Grad: 31737.0059  LR: 0.00000126  \n",
      "Epoch: [6][200/3419] Elapsed 0m 54s (remain 14m 30s) Loss: 0.5423(0.5390) Grad: 15747.8457  LR: 0.00000119  \n",
      "Epoch: [6][300/3419] Elapsed 1m 21s (remain 14m 2s) Loss: 0.4298(0.5392) Grad: 21327.7910  LR: 0.00000112  \n",
      "Epoch: [6][400/3419] Elapsed 1m 48s (remain 13m 34s) Loss: 0.3304(0.5411) Grad: 11242.0918  LR: 0.00000105  \n",
      "Epoch: [6][500/3419] Elapsed 2m 15s (remain 13m 6s) Loss: 0.5248(0.5414) Grad: 71192.4453  LR: 0.00000098  \n",
      "Epoch: [6][600/3419] Elapsed 2m 41s (remain 12m 39s) Loss: 0.5257(0.5404) Grad: 27442.3535  LR: 0.00000092  \n",
      "Epoch: [6][700/3419] Elapsed 3m 8s (remain 12m 12s) Loss: 0.5097(0.5394) Grad: 32399.7324  LR: 0.00000085  \n",
      "Epoch: [6][800/3419] Elapsed 3m 35s (remain 11m 45s) Loss: 0.4852(0.5396) Grad: 29364.5352  LR: 0.00000079  \n",
      "Epoch: [6][900/3419] Elapsed 4m 2s (remain 11m 18s) Loss: 0.4921(0.5387) Grad: 11686.7461  LR: 0.00000073  \n",
      "Epoch: [6][1000/3419] Elapsed 4m 29s (remain 10m 51s) Loss: 0.5326(0.5400) Grad: 24897.4727  LR: 0.00000068  \n",
      "Epoch: [6][1100/3419] Elapsed 4m 56s (remain 10m 24s) Loss: 0.6863(0.5392) Grad: 19552.6484  LR: 0.00000062  \n",
      "Epoch: [6][1200/3419] Elapsed 5m 23s (remain 9m 57s) Loss: 0.5710(0.5404) Grad: 42536.6172  LR: 0.00000057  \n",
      "Epoch: [6][1300/3419] Elapsed 5m 50s (remain 9m 30s) Loss: 0.5442(0.5402) Grad: 21007.9219  LR: 0.00000052  \n",
      "Epoch: [6][1400/3419] Elapsed 6m 17s (remain 9m 3s) Loss: 0.5944(0.5407) Grad: 10473.3008  LR: 0.00000047  \n",
      "Epoch: [6][1500/3419] Elapsed 6m 43s (remain 8m 36s) Loss: 0.5821(0.5402) Grad: 47446.5273  LR: 0.00000043  \n",
      "Epoch: [6][1600/3419] Elapsed 7m 10s (remain 8m 9s) Loss: 0.6157(0.5395) Grad: 9200.4863  LR: 0.00000039  \n",
      "Epoch: [6][1700/3419] Elapsed 7m 37s (remain 7m 42s) Loss: 0.4587(0.5389) Grad: 5950.6616  LR: 0.00000034  \n",
      "Epoch: [6][1800/3419] Elapsed 8m 4s (remain 7m 15s) Loss: 0.5156(0.5386) Grad: 2492.9675  LR: 0.00000031  \n",
      "Epoch: [6][1900/3419] Elapsed 8m 31s (remain 6m 48s) Loss: 0.4810(0.5388) Grad: 4383.9883  LR: 0.00000027  \n",
      "Epoch: [6][2000/3419] Elapsed 8m 58s (remain 6m 21s) Loss: 0.5291(0.5391) Grad: 7469.1841  LR: 0.00000024  \n",
      "Epoch: [6][2100/3419] Elapsed 9m 25s (remain 5m 54s) Loss: 0.5550(0.5387) Grad: 1673.1125  LR: 0.00000020  \n",
      "Epoch: [6][2200/3419] Elapsed 9m 52s (remain 5m 27s) Loss: 0.6447(0.5381) Grad: 3004.8335  LR: 0.00000017  \n",
      "Epoch: [6][2300/3419] Elapsed 10m 19s (remain 5m 0s) Loss: 0.6724(0.5385) Grad: 3365.5542  LR: 0.00000015  \n",
      "Epoch: [6][2400/3419] Elapsed 10m 45s (remain 4m 33s) Loss: 0.5292(0.5380) Grad: 4375.9307  LR: 0.00000012  \n",
      "Epoch: [6][2500/3419] Elapsed 11m 12s (remain 4m 6s) Loss: 0.4176(0.5372) Grad: 2206.1897  LR: 0.00000010  \n",
      "Epoch: [6][2600/3419] Elapsed 11m 39s (remain 3m 40s) Loss: 0.6412(0.5372) Grad: 759.8658  LR: 0.00000008  \n",
      "Epoch: [6][2700/3419] Elapsed 12m 6s (remain 3m 13s) Loss: 0.5717(0.5365) Grad: 1032.5355  LR: 0.00000006  \n",
      "Epoch: [6][2800/3419] Elapsed 12m 33s (remain 2m 46s) Loss: 0.6118(0.5365) Grad: 1143.8037  LR: 0.00000004  \n",
      "Epoch: [6][2900/3419] Elapsed 13m 0s (remain 2m 19s) Loss: 0.6409(0.5366) Grad: 3107.0461  LR: 0.00000003  \n",
      "Epoch: [6][3000/3419] Elapsed 13m 27s (remain 1m 52s) Loss: 0.4725(0.5372) Grad: 2223.2056  LR: 0.00000002  \n",
      "Epoch: [6][3100/3419] Elapsed 13m 54s (remain 1m 25s) Loss: 0.5069(0.5378) Grad: 2559.5100  LR: 0.00000001  \n",
      "Epoch: [6][3200/3419] Elapsed 14m 20s (remain 0m 58s) Loss: 0.6799(0.5379) Grad: 2740.9968  LR: 0.00000001  \n",
      "Epoch: [6][3300/3419] Elapsed 14m 47s (remain 0m 31s) Loss: 0.5075(0.5373) Grad: 3901.7124  LR: 0.00000000  \n",
      "Epoch: [6][3400/3419] Elapsed 15m 14s (remain 0m 4s) Loss: 0.3869(0.5372) Grad: 4699.1021  LR: 0.00000000  \n"
     ]
    },
    {
     "name": "stderr",
     "output_type": "stream",
     "text": [
      "[W pthreadpool-cpp.cc:90] Warning: Leaking Caffe2 thread-pool after fork. (function pthreadpool)\n"
     ]
    },
    {
     "name": "stdout",
     "output_type": "stream",
     "text": [
      "Epoch: [6][3418/3419] Elapsed 15m 19s (remain 0m 0s) Loss: 0.6269(0.5372) Grad: 11397.1016  LR: 0.00000000  \n"
     ]
    },
    {
     "name": "stderr",
     "output_type": "stream",
     "text": [
      "[W pthreadpool-cpp.cc:90] Warning: Leaking Caffe2 thread-pool after fork. (function pthreadpool)\n",
      "[W pthreadpool-cpp.cc:90] Warning: Leaking Caffe2 thread-pool after fork. (function pthreadpool)\n",
      "[W pthreadpool-cpp.cc:90] Warning: Leaking Caffe2 thread-pool after fork. (function pthreadpool)\n",
      "[W pthreadpool-cpp.cc:90] Warning: Leaking Caffe2 thread-pool after fork. (function pthreadpool)\n"
     ]
    },
    {
     "name": "stdout",
     "output_type": "stream",
     "text": [
      "EVAL: [0/1140] Elapsed 0m 0s (remain 5m 44s) Loss: 0.4371(0.4371) \n",
      "EVAL: [100/1140] Elapsed 0m 11s (remain 2m 0s) Loss: 0.5286(0.5402) \n",
      "EVAL: [200/1140] Elapsed 0m 23s (remain 1m 47s) Loss: 0.4562(0.5430) \n",
      "EVAL: [300/1140] Elapsed 0m 34s (remain 1m 35s) Loss: 0.7728(0.5408) \n",
      "EVAL: [400/1140] Elapsed 0m 45s (remain 1m 24s) Loss: 0.5164(0.5411) \n",
      "EVAL: [500/1140] Elapsed 0m 57s (remain 1m 12s) Loss: 0.5780(0.5450) \n",
      "EVAL: [600/1140] Elapsed 1m 8s (remain 1m 1s) Loss: 0.5327(0.5425) \n",
      "EVAL: [700/1140] Elapsed 1m 19s (remain 0m 49s) Loss: 0.6138(0.5439) \n",
      "EVAL: [800/1140] Elapsed 1m 31s (remain 0m 38s) Loss: 0.6949(0.5434) \n",
      "EVAL: [900/1140] Elapsed 1m 42s (remain 0m 27s) Loss: 0.4059(0.5418) \n",
      "EVAL: [1000/1140] Elapsed 1m 53s (remain 0m 15s) Loss: 0.4812(0.5433) \n",
      "EVAL: [1100/1140] Elapsed 2m 5s (remain 0m 4s) Loss: 0.4959(0.5427) \n"
     ]
    },
    {
     "name": "stderr",
     "output_type": "stream",
     "text": [
      "Epoch 6 - avg_train_loss: 0.5372  avg_val_loss: 0.5427  time: 1049s\n",
      "Epoch 6 - Score: 0.8362\n"
     ]
    },
    {
     "name": "stdout",
     "output_type": "stream",
     "text": [
      "EVAL: [1139/1140] Elapsed 2m 9s (remain 0m 0s) Loss: 0.6201(0.5427) \n"
     ]
    },
    {
     "name": "stderr",
     "output_type": "stream",
     "text": [
      "========== fold: 0 result ==========\n",
      "Score: 0.8363\n",
      "========== fold: 1 training ==========\n"
     ]
    },
    {
     "name": "stdout",
     "output_type": "stream",
     "text": [
      "\u001b[38;5;40m========== fold: 1 training ==========\u001b[0m\n"
     ]
    },
    {
     "name": "stderr",
     "output_type": "stream",
     "text": [
      "Some weights of the model checkpoint at microsoft/deberta-v3-base were not used when initializing DebertaV2Model: ['mask_predictions.classifier.bias', 'mask_predictions.dense.weight', 'mask_predictions.LayerNorm.bias', 'lm_predictions.lm_head.dense.bias', 'mask_predictions.dense.bias', 'lm_predictions.lm_head.LayerNorm.weight', 'mask_predictions.classifier.weight', 'lm_predictions.lm_head.bias', 'mask_predictions.LayerNorm.weight', 'lm_predictions.lm_head.dense.weight', 'lm_predictions.lm_head.LayerNorm.bias']\n",
      "- This IS expected if you are initializing DebertaV2Model from the checkpoint of a model trained on another task or with another architecture (e.g. initializing a BertForSequenceClassification model from a BertForPreTraining model).\n",
      "- This IS NOT expected if you are initializing DebertaV2Model from the checkpoint of a model that you expect to be exactly identical (initializing a BertForSequenceClassification model from a BertForSequenceClassification model).\n",
      "[W pthreadpool-cpp.cc:90] Warning: Leaking Caffe2 thread-pool after fork. (function pthreadpool)\n",
      "[W pthreadpool-cpp.cc:90] Warning: Leaking Caffe2 thread-pool after fork. (function pthreadpool)\n",
      "[W pthreadpool-cpp.cc:90] Warning: Leaking Caffe2 thread-pool after fork. (function pthreadpool)\n",
      "[W pthreadpool-cpp.cc:90] Warning: Leaking Caffe2 thread-pool after fork. (function pthreadpool)\n"
     ]
    },
    {
     "name": "stdout",
     "output_type": "stream",
     "text": [
      "Epoch: [1][0/3419] Elapsed 0m 0s (remain 32m 10s) Loss: 0.6995(0.6995) Grad: 17160.1543  LR: 0.00002000  \n",
      "Epoch: [1][100/3419] Elapsed 0m 27s (remain 15m 8s) Loss: 0.6783(0.6593) Grad: 11902.8555  LR: 0.00002000  \n",
      "Epoch: [1][200/3419] Elapsed 0m 54s (remain 14m 33s) Loss: 0.5731(0.6595) Grad: 79617.2578  LR: 0.00002000  \n",
      "Epoch: [1][300/3419] Elapsed 1m 21s (remain 14m 4s) Loss: 0.6804(0.6583) Grad: 20991.1289  LR: 0.00001999  \n",
      "Epoch: [1][400/3419] Elapsed 1m 48s (remain 13m 36s) Loss: 0.6930(0.6550) Grad: 57518.8867  LR: 0.00001998  \n",
      "Epoch: [1][500/3419] Elapsed 2m 15s (remain 13m 9s) Loss: 0.6261(0.6540) Grad: 38320.8281  LR: 0.00001997  \n",
      "Epoch: [1][600/3419] Elapsed 2m 42s (remain 12m 41s) Loss: 0.5782(0.6524) Grad: 50294.5859  LR: 0.00001996  \n",
      "Epoch: [1][700/3419] Elapsed 3m 9s (remain 12m 14s) Loss: 0.7221(0.6499) Grad: 79382.5391  LR: 0.00001994  \n",
      "Epoch: [1][800/3419] Elapsed 3m 36s (remain 11m 46s) Loss: 0.5353(0.6467) Grad: 99647.9141  LR: 0.00001992  \n",
      "Epoch: [1][900/3419] Elapsed 4m 3s (remain 11m 19s) Loss: 0.5700(0.6437) Grad: 9463.5947  LR: 0.00001990  \n",
      "Epoch: [1][1000/3419] Elapsed 4m 30s (remain 10m 52s) Loss: 0.6997(0.6409) Grad: 30879.3926  LR: 0.00001988  \n",
      "Epoch: [1][1100/3419] Elapsed 4m 57s (remain 10m 25s) Loss: 0.7361(0.6383) Grad: 54288.7070  LR: 0.00001986  \n",
      "Epoch: [1][1200/3419] Elapsed 5m 24s (remain 9m 58s) Loss: 0.6019(0.6357) Grad: 36775.3906  LR: 0.00001983  \n",
      "Epoch: [1][1300/3419] Elapsed 5m 51s (remain 9m 31s) Loss: 0.5775(0.6330) Grad: 32922.0703  LR: 0.00001980  \n",
      "Epoch: [1][1400/3419] Elapsed 6m 17s (remain 9m 4s) Loss: 0.6731(0.6312) Grad: 19023.9707  LR: 0.00001977  \n",
      "Epoch: [1][1500/3419] Elapsed 6m 44s (remain 8m 37s) Loss: 0.6368(0.6298) Grad: 8773.0146  LR: 0.00001974  \n",
      "Epoch: [1][1600/3419] Elapsed 7m 11s (remain 8m 10s) Loss: 0.6304(0.6288) Grad: 4763.2446  LR: 0.00001970  \n",
      "Epoch: [1][1700/3419] Elapsed 7m 38s (remain 7m 43s) Loss: 0.5944(0.6265) Grad: 7338.4248  LR: 0.00001966  \n",
      "Epoch: [1][1800/3419] Elapsed 8m 5s (remain 7m 16s) Loss: 0.6180(0.6246) Grad: 5858.7837  LR: 0.00001962  \n",
      "Epoch: [1][1900/3419] Elapsed 8m 32s (remain 6m 49s) Loss: 0.5503(0.6238) Grad: 6339.3257  LR: 0.00001958  \n",
      "Epoch: [1][2000/3419] Elapsed 8m 59s (remain 6m 22s) Loss: 0.6658(0.6219) Grad: 8232.0898  LR: 0.00001953  \n",
      "Epoch: [1][2100/3419] Elapsed 9m 26s (remain 5m 55s) Loss: 0.6061(0.6208) Grad: 7648.7900  LR: 0.00001949  \n",
      "Epoch: [1][2200/3419] Elapsed 9m 53s (remain 5m 28s) Loss: 0.6100(0.6189) Grad: 17442.7051  LR: 0.00001944  \n",
      "Epoch: [1][2300/3419] Elapsed 10m 20s (remain 5m 1s) Loss: 0.7446(0.6180) Grad: 9438.9092  LR: 0.00001939  \n",
      "Epoch: [1][2400/3419] Elapsed 10m 47s (remain 4m 34s) Loss: 0.7127(0.6169) Grad: 15224.3730  LR: 0.00001933  \n",
      "Epoch: [1][2500/3419] Elapsed 11m 14s (remain 4m 7s) Loss: 0.6417(0.6154) Grad: 9737.8320  LR: 0.00001928  \n",
      "Epoch: [1][2600/3419] Elapsed 11m 41s (remain 3m 40s) Loss: 0.6123(0.6141) Grad: 7444.0225  LR: 0.00001922  \n",
      "Epoch: [1][2700/3419] Elapsed 12m 8s (remain 3m 13s) Loss: 0.6729(0.6129) Grad: 2727.4092  LR: 0.00001916  \n",
      "Epoch: [1][2800/3419] Elapsed 12m 35s (remain 2m 46s) Loss: 0.6109(0.6116) Grad: 15380.5059  LR: 0.00001909  \n",
      "Epoch: [1][2900/3419] Elapsed 13m 2s (remain 2m 19s) Loss: 0.5413(0.6104) Grad: 8290.4678  LR: 0.00001903  \n",
      "Epoch: [1][3000/3419] Elapsed 13m 29s (remain 1m 52s) Loss: 0.4638(0.6090) Grad: 9302.4658  LR: 0.00001896  \n",
      "Epoch: [1][3100/3419] Elapsed 13m 56s (remain 1m 25s) Loss: 0.4713(0.6079) Grad: 12828.0332  LR: 0.00001889  \n",
      "Epoch: [1][3200/3419] Elapsed 14m 23s (remain 0m 58s) Loss: 0.5806(0.6072) Grad: 4291.7197  LR: 0.00001882  \n",
      "Epoch: [1][3300/3419] Elapsed 14m 49s (remain 0m 31s) Loss: 0.4243(0.6059) Grad: 3128.2275  LR: 0.00001875  \n",
      "Epoch: [1][3400/3419] Elapsed 15m 16s (remain 0m 4s) Loss: 0.6537(0.6050) Grad: 24100.0332  LR: 0.00001867  \n",
      "Epoch: [1][3418/3419] Elapsed 15m 21s (remain 0m 0s) Loss: 0.5302(0.6049) Grad: 9702.0918  LR: 0.00001866  \n"
     ]
    },
    {
     "name": "stderr",
     "output_type": "stream",
     "text": [
      "[W pthreadpool-cpp.cc:90] Warning: Leaking Caffe2 thread-pool after fork. (function pthreadpool)\n",
      "[W pthreadpool-cpp.cc:90] Warning: Leaking Caffe2 thread-pool after fork. (function pthreadpool)\n",
      "[W pthreadpool-cpp.cc:90] Warning: Leaking Caffe2 thread-pool after fork. (function pthreadpool)\n",
      "[W pthreadpool-cpp.cc:90] Warning: Leaking Caffe2 thread-pool after fork. (function pthreadpool)\n"
     ]
    },
    {
     "name": "stdout",
     "output_type": "stream",
     "text": [
      "EVAL: [0/1140] Elapsed 0m 0s (remain 6m 18s) Loss: 0.4978(0.4978) \n",
      "EVAL: [100/1140] Elapsed 0m 11s (remain 2m 0s) Loss: 0.5684(0.5407) \n",
      "EVAL: [200/1140] Elapsed 0m 23s (remain 1m 47s) Loss: 0.5068(0.5480) \n",
      "EVAL: [300/1140] Elapsed 0m 34s (remain 1m 35s) Loss: 0.6087(0.5519) \n",
      "EVAL: [400/1140] Elapsed 0m 45s (remain 1m 24s) Loss: 0.3841(0.5542) \n",
      "EVAL: [500/1140] Elapsed 0m 57s (remain 1m 12s) Loss: 0.6094(0.5574) \n",
      "EVAL: [600/1140] Elapsed 1m 8s (remain 1m 1s) Loss: 0.6036(0.5576) \n",
      "EVAL: [700/1140] Elapsed 1m 19s (remain 0m 49s) Loss: 0.6948(0.5563) \n",
      "EVAL: [800/1140] Elapsed 1m 31s (remain 0m 38s) Loss: 0.5409(0.5574) \n",
      "EVAL: [900/1140] Elapsed 1m 42s (remain 0m 27s) Loss: 0.4969(0.5565) \n",
      "EVAL: [1000/1140] Elapsed 1m 53s (remain 0m 15s) Loss: 0.5441(0.5553) \n",
      "EVAL: [1100/1140] Elapsed 2m 5s (remain 0m 4s) Loss: 0.4019(0.5540) \n"
     ]
    },
    {
     "name": "stderr",
     "output_type": "stream",
     "text": [
      "Epoch 1 - avg_train_loss: 0.6049  avg_val_loss: 0.5546  time: 1051s\n",
      "Epoch 1 - Score: 0.7941\n",
      "Epoch 1 - Save Best Score: 0.7941 Model\n"
     ]
    },
    {
     "name": "stdout",
     "output_type": "stream",
     "text": [
      "EVAL: [1139/1140] Elapsed 2m 9s (remain 0m 0s) Loss: 0.7478(0.5546) \n"
     ]
    },
    {
     "name": "stderr",
     "output_type": "stream",
     "text": [
      "[W pthreadpool-cpp.cc:90] Warning: Leaking Caffe2 thread-pool after fork. (function pthreadpool)\n",
      "[W pthreadpool-cpp.cc:90] Warning: Leaking Caffe2 thread-pool after fork. (function pthreadpool)\n",
      "[W pthreadpool-cpp.cc:90] Warning: Leaking Caffe2 thread-pool after fork. (function pthreadpool)\n",
      "[W pthreadpool-cpp.cc:90] Warning: Leaking Caffe2 thread-pool after fork. (function pthreadpool)\n"
     ]
    },
    {
     "name": "stdout",
     "output_type": "stream",
     "text": [
      "Epoch: [2][0/3419] Elapsed 0m 0s (remain 44m 1s) Loss: 0.6328(0.6328) Grad: 64614.3867  LR: 0.00001866  \n",
      "Epoch: [2][100/3419] Elapsed 0m 27s (remain 15m 8s) Loss: 0.4134(0.5674) Grad: 40903.8672  LR: 0.00001858  \n",
      "Epoch: [2][200/3419] Elapsed 0m 54s (remain 14m 33s) Loss: 0.5239(0.5651) Grad: 83909.0703  LR: 0.00001850  \n",
      "Epoch: [2][300/3419] Elapsed 1m 21s (remain 14m 4s) Loss: 0.5771(0.5637) Grad: 38264.6719  LR: 0.00001842  \n",
      "Epoch: [2][400/3419] Elapsed 1m 48s (remain 13m 35s) Loss: 0.6093(0.5629) Grad: 36589.2656  LR: 0.00001834  \n",
      "Epoch: [2][500/3419] Elapsed 2m 15s (remain 13m 8s) Loss: 0.7024(0.5628) Grad: 97821.6797  LR: 0.00001825  \n",
      "Epoch: [2][600/3419] Elapsed 2m 42s (remain 12m 40s) Loss: 0.6106(0.5624) Grad: 47330.7812  LR: 0.00001816  \n",
      "Epoch: [2][700/3419] Elapsed 3m 9s (remain 12m 13s) Loss: 0.4016(0.5625) Grad: 33494.0625  LR: 0.00001808  \n",
      "Epoch: [2][800/3419] Elapsed 3m 36s (remain 11m 46s) Loss: 0.4862(0.5631) Grad: 22142.8047  LR: 0.00001798  \n",
      "Epoch: [2][900/3419] Elapsed 4m 3s (remain 11m 19s) Loss: 0.5989(0.5609) Grad: 32115.1152  LR: 0.00001789  \n",
      "Epoch: [2][1000/3419] Elapsed 4m 29s (remain 10m 52s) Loss: 0.7478(0.5607) Grad: 32542.6895  LR: 0.00001780  \n",
      "Epoch: [2][1100/3419] Elapsed 4m 56s (remain 10m 25s) Loss: 0.6081(0.5595) Grad: 8109.3950  LR: 0.00001770  \n",
      "Epoch: [2][1200/3419] Elapsed 5m 23s (remain 9m 58s) Loss: 0.4725(0.5586) Grad: 16124.4248  LR: 0.00001760  \n",
      "Epoch: [2][1300/3419] Elapsed 5m 50s (remain 9m 30s) Loss: 0.5569(0.5578) Grad: 17090.7227  LR: 0.00001750  \n",
      "Epoch: [2][1400/3419] Elapsed 6m 17s (remain 9m 4s) Loss: 0.5444(0.5576) Grad: 54755.7773  LR: 0.00001740  \n",
      "Epoch: [2][1500/3419] Elapsed 6m 44s (remain 8m 37s) Loss: 0.6322(0.5588) Grad: 18237.9160  LR: 0.00001729  \n",
      "Epoch: [2][1600/3419] Elapsed 7m 11s (remain 8m 10s) Loss: 0.5602(0.5591) Grad: 16271.6680  LR: 0.00001719  \n",
      "Epoch: [2][1700/3419] Elapsed 7m 38s (remain 7m 43s) Loss: 0.6161(0.5590) Grad: 9281.4824  LR: 0.00001708  \n",
      "Epoch: [2][1800/3419] Elapsed 8m 5s (remain 7m 16s) Loss: 0.6350(0.5590) Grad: 18091.9023  LR: 0.00001697  \n",
      "Epoch: [2][1900/3419] Elapsed 8m 32s (remain 6m 49s) Loss: 0.6328(0.5589) Grad: 17021.9297  LR: 0.00001686  \n",
      "Epoch: [2][2000/3419] Elapsed 8m 59s (remain 6m 22s) Loss: 0.6522(0.5599) Grad: 10898.0957  LR: 0.00001675  \n",
      "Epoch: [2][2100/3419] Elapsed 9m 26s (remain 5m 55s) Loss: 0.6560(0.5602) Grad: 11385.9990  LR: 0.00001664  \n",
      "Epoch: [2][2200/3419] Elapsed 9m 53s (remain 5m 28s) Loss: 0.5304(0.5604) Grad: 23646.9570  LR: 0.00001652  \n",
      "Epoch: [2][2300/3419] Elapsed 10m 20s (remain 5m 1s) Loss: 0.5142(0.5607) Grad: 33251.2461  LR: 0.00001640  \n",
      "Epoch: [2][2400/3419] Elapsed 10m 46s (remain 4m 34s) Loss: 0.6310(0.5608) Grad: 7237.1509  LR: 0.00001628  \n",
      "Epoch: [2][2500/3419] Elapsed 11m 13s (remain 4m 7s) Loss: 0.6157(0.5607) Grad: 14988.2734  LR: 0.00001616  \n",
      "Epoch: [2][2600/3419] Elapsed 11m 40s (remain 3m 40s) Loss: 0.5766(0.5606) Grad: 41338.9688  LR: 0.00001604  \n",
      "Epoch: [2][2700/3419] Elapsed 12m 7s (remain 3m 13s) Loss: 0.6521(0.5606) Grad: 9867.7871  LR: 0.00001592  \n",
      "Epoch: [2][2800/3419] Elapsed 12m 34s (remain 2m 46s) Loss: 0.6786(0.5603) Grad: 17630.2051  LR: 0.00001580  \n",
      "Epoch: [2][2900/3419] Elapsed 13m 1s (remain 2m 19s) Loss: 0.4309(0.5604) Grad: 14931.9316  LR: 0.00001567  \n",
      "Epoch: [2][3000/3419] Elapsed 13m 28s (remain 1m 52s) Loss: 0.3826(0.5600) Grad: 39263.0156  LR: 0.00001554  \n",
      "Epoch: [2][3100/3419] Elapsed 13m 55s (remain 1m 25s) Loss: 0.5518(0.5605) Grad: 37055.0586  LR: 0.00001542  \n",
      "Epoch: [2][3200/3419] Elapsed 14m 22s (remain 0m 58s) Loss: 0.6279(0.5606) Grad: 46169.5898  LR: 0.00001529  \n",
      "Epoch: [2][3300/3419] Elapsed 14m 49s (remain 0m 31s) Loss: 0.4318(0.5603) Grad: 26799.1289  LR: 0.00001516  \n",
      "Epoch: [2][3400/3419] Elapsed 15m 16s (remain 0m 4s) Loss: 0.6535(0.5599) Grad: 35013.6484  LR: 0.00001502  \n",
      "Epoch: [2][3418/3419] Elapsed 15m 21s (remain 0m 0s) Loss: 0.6144(0.5599) Grad: 19094.6191  LR: 0.00001500  \n"
     ]
    },
    {
     "name": "stderr",
     "output_type": "stream",
     "text": [
      "[W pthreadpool-cpp.cc:90] Warning: Leaking Caffe2 thread-pool after fork. (function pthreadpool)\n",
      "[W pthreadpool-cpp.cc:90] Warning: Leaking Caffe2 thread-pool after fork. (function pthreadpool)\n",
      "[W pthreadpool-cpp.cc:90] Warning: Leaking Caffe2 thread-pool after fork. (function pthreadpool)\n",
      "[W pthreadpool-cpp.cc:90] Warning: Leaking Caffe2 thread-pool after fork. (function pthreadpool)\n"
     ]
    },
    {
     "name": "stdout",
     "output_type": "stream",
     "text": [
      "EVAL: [0/1140] Elapsed 0m 0s (remain 6m 19s) Loss: 0.4512(0.4512) \n",
      "EVAL: [100/1140] Elapsed 0m 11s (remain 1m 59s) Loss: 0.5533(0.5305) \n",
      "EVAL: [200/1140] Elapsed 0m 22s (remain 1m 47s) Loss: 0.4864(0.5423) \n",
      "EVAL: [300/1140] Elapsed 0m 34s (remain 1m 35s) Loss: 0.6035(0.5433) \n",
      "EVAL: [400/1140] Elapsed 0m 45s (remain 1m 23s) Loss: 0.3600(0.5454) \n",
      "EVAL: [500/1140] Elapsed 0m 56s (remain 1m 12s) Loss: 0.6777(0.5494) \n",
      "EVAL: [600/1140] Elapsed 1m 8s (remain 1m 1s) Loss: 0.5960(0.5501) \n",
      "EVAL: [700/1140] Elapsed 1m 19s (remain 0m 49s) Loss: 0.6919(0.5483) \n",
      "EVAL: [800/1140] Elapsed 1m 30s (remain 0m 38s) Loss: 0.5456(0.5497) \n",
      "EVAL: [900/1140] Elapsed 1m 42s (remain 0m 27s) Loss: 0.4917(0.5487) \n",
      "EVAL: [1000/1140] Elapsed 1m 53s (remain 0m 15s) Loss: 0.5398(0.5477) \n",
      "EVAL: [1100/1140] Elapsed 2m 4s (remain 0m 4s) Loss: 0.3801(0.5466) \n"
     ]
    },
    {
     "name": "stderr",
     "output_type": "stream",
     "text": [
      "Epoch 2 - avg_train_loss: 0.5599  avg_val_loss: 0.5474  time: 1051s\n",
      "Epoch 2 - Score: 0.8192\n",
      "Epoch 2 - Save Best Score: 0.8192 Model\n"
     ]
    },
    {
     "name": "stdout",
     "output_type": "stream",
     "text": [
      "EVAL: [1139/1140] Elapsed 2m 9s (remain 0m 0s) Loss: 0.7757(0.5474) \n"
     ]
    },
    {
     "name": "stderr",
     "output_type": "stream",
     "text": [
      "[W pthreadpool-cpp.cc:90] Warning: Leaking Caffe2 thread-pool after fork. (function pthreadpool)\n",
      "[W pthreadpool-cpp.cc:90] Warning: Leaking Caffe2 thread-pool after fork. (function pthreadpool)\n",
      "[W pthreadpool-cpp.cc:90] Warning: Leaking Caffe2 thread-pool after fork. (function pthreadpool)\n",
      "[W pthreadpool-cpp.cc:90] Warning: Leaking Caffe2 thread-pool after fork. (function pthreadpool)\n"
     ]
    },
    {
     "name": "stdout",
     "output_type": "stream",
     "text": [
      "Epoch: [3][0/3419] Elapsed 0m 0s (remain 44m 3s) Loss: 0.5991(0.5991) Grad: 138315.7344  LR: 0.00001500  \n",
      "Epoch: [3][100/3419] Elapsed 0m 27s (remain 15m 8s) Loss: 0.4213(0.5388) Grad: 41678.8359  LR: 0.00001487  \n",
      "Epoch: [3][200/3419] Elapsed 0m 54s (remain 14m 33s) Loss: 0.5235(0.5397) Grad: 64608.9492  LR: 0.00001473  \n",
      "Epoch: [3][300/3419] Elapsed 1m 21s (remain 14m 4s) Loss: 0.4642(0.5399) Grad: 60121.5781  LR: 0.00001460  \n",
      "Epoch: [3][400/3419] Elapsed 1m 48s (remain 13m 36s) Loss: 0.6126(0.5428) Grad: 137958.9219  LR: 0.00001446  \n",
      "Epoch: [3][500/3419] Elapsed 2m 15s (remain 13m 8s) Loss: 0.5065(0.5421) Grad: 23203.2793  LR: 0.00001432  \n",
      "Epoch: [3][600/3419] Elapsed 2m 42s (remain 12m 41s) Loss: 0.6157(0.5443) Grad: 36822.4102  LR: 0.00001418  \n",
      "Epoch: [3][700/3419] Elapsed 3m 9s (remain 12m 13s) Loss: 0.6428(0.5454) Grad: 24159.0723  LR: 0.00001404  \n",
      "Epoch: [3][800/3419] Elapsed 3m 36s (remain 11m 46s) Loss: 0.6777(0.5475) Grad: 14455.8008  LR: 0.00001390  \n",
      "Epoch: [3][900/3419] Elapsed 4m 3s (remain 11m 19s) Loss: 0.5119(0.5493) Grad: 8701.4619  LR: 0.00001376  \n",
      "Epoch: [3][1000/3419] Elapsed 4m 29s (remain 10m 52s) Loss: 0.4867(0.5505) Grad: 15425.7812  LR: 0.00001362  \n",
      "Epoch: [3][1100/3419] Elapsed 4m 56s (remain 10m 25s) Loss: 0.5057(0.5506) Grad: 7528.1807  LR: 0.00001348  \n",
      "Epoch: [3][1200/3419] Elapsed 5m 23s (remain 9m 58s) Loss: 0.4187(0.5510) Grad: 51095.6719  LR: 0.00001333  \n",
      "Epoch: [3][1300/3419] Elapsed 5m 50s (remain 9m 30s) Loss: 0.5592(0.5501) Grad: 23419.8984  LR: 0.00001319  \n",
      "Epoch: [3][1400/3419] Elapsed 6m 17s (remain 9m 3s) Loss: 0.3434(0.5497) Grad: 14263.6104  LR: 0.00001304  \n",
      "Epoch: [3][1500/3419] Elapsed 6m 44s (remain 8m 36s) Loss: 0.7120(0.5504) Grad: 27327.2402  LR: 0.00001290  \n",
      "Epoch: [3][1600/3419] Elapsed 7m 11s (remain 8m 9s) Loss: 0.4001(0.5504) Grad: 9907.8906  LR: 0.00001275  \n",
      "Epoch: [3][1700/3419] Elapsed 7m 38s (remain 7m 43s) Loss: 0.5464(0.5498) Grad: 73676.1641  LR: 0.00001260  \n",
      "Epoch: [3][1800/3419] Elapsed 8m 5s (remain 7m 16s) Loss: 0.5164(0.5497) Grad: 10921.5713  LR: 0.00001245  \n",
      "Epoch: [3][1900/3419] Elapsed 8m 32s (remain 6m 49s) Loss: 0.5784(0.5498) Grad: 15128.7891  LR: 0.00001231  \n",
      "Epoch: [3][2000/3419] Elapsed 8m 59s (remain 6m 22s) Loss: 0.5264(0.5501) Grad: 11378.3945  LR: 0.00001216  \n",
      "Epoch: [3][2100/3419] Elapsed 9m 26s (remain 5m 55s) Loss: 0.5326(0.5494) Grad: 22391.5098  LR: 0.00001201  \n",
      "Epoch: [3][2200/3419] Elapsed 9m 53s (remain 5m 28s) Loss: 0.6356(0.5498) Grad: 27384.9316  LR: 0.00001186  \n",
      "Epoch: [3][2300/3419] Elapsed 10m 20s (remain 5m 1s) Loss: 0.3957(0.5490) Grad: 5623.5283  LR: 0.00001171  \n",
      "Epoch: [3][2400/3419] Elapsed 10m 46s (remain 4m 34s) Loss: 0.5801(0.5500) Grad: 5489.3335  LR: 0.00001155  \n",
      "Epoch: [3][2500/3419] Elapsed 11m 13s (remain 4m 7s) Loss: 0.5486(0.5501) Grad: 7485.1387  LR: 0.00001140  \n",
      "Epoch: [3][2600/3419] Elapsed 11m 40s (remain 3m 40s) Loss: 0.5169(0.5501) Grad: 10571.8535  LR: 0.00001125  \n",
      "Epoch: [3][2700/3419] Elapsed 12m 7s (remain 3m 13s) Loss: 0.5178(0.5501) Grad: 18346.2246  LR: 0.00001110  \n",
      "Epoch: [3][2800/3419] Elapsed 12m 34s (remain 2m 46s) Loss: 0.4714(0.5495) Grad: 11765.1094  LR: 0.00001095  \n",
      "Epoch: [3][2900/3419] Elapsed 13m 1s (remain 2m 19s) Loss: 0.5143(0.5493) Grad: 13279.4316  LR: 0.00001079  \n",
      "Epoch: [3][3000/3419] Elapsed 13m 28s (remain 1m 52s) Loss: 0.4278(0.5488) Grad: 5024.7227  LR: 0.00001064  \n",
      "Epoch: [3][3100/3419] Elapsed 13m 55s (remain 1m 25s) Loss: 0.4773(0.5489) Grad: 8339.8018  LR: 0.00001049  \n",
      "Epoch: [3][3200/3419] Elapsed 14m 22s (remain 0m 58s) Loss: 0.3288(0.5491) Grad: 3268.9236  LR: 0.00001034  \n",
      "Epoch: [3][3300/3419] Elapsed 14m 49s (remain 0m 31s) Loss: 0.6873(0.5490) Grad: 4283.2588  LR: 0.00001018  \n",
      "Epoch: [3][3400/3419] Elapsed 15m 16s (remain 0m 4s) Loss: 0.5489(0.5489) Grad: 2766.8291  LR: 0.00001003  \n",
      "Epoch: [3][3418/3419] Elapsed 15m 21s (remain 0m 0s) Loss: 0.4191(0.5489) Grad: 5330.2192  LR: 0.00001000  \n"
     ]
    },
    {
     "name": "stderr",
     "output_type": "stream",
     "text": [
      "[W pthreadpool-cpp.cc:90] Warning: Leaking Caffe2 thread-pool after fork. (function pthreadpool)\n",
      "[W pthreadpool-cpp.cc:90] Warning: Leaking Caffe2 thread-pool after fork. (function pthreadpool)\n",
      "[W pthreadpool-cpp.cc:90] Warning: Leaking Caffe2 thread-pool after fork. (function pthreadpool)\n",
      "[W pthreadpool-cpp.cc:90] Warning: Leaking Caffe2 thread-pool after fork. (function pthreadpool)\n"
     ]
    },
    {
     "name": "stdout",
     "output_type": "stream",
     "text": [
      "EVAL: [0/1140] Elapsed 0m 0s (remain 6m 17s) Loss: 0.4484(0.4484) \n",
      "EVAL: [100/1140] Elapsed 0m 11s (remain 1m 59s) Loss: 0.5385(0.5307) \n",
      "EVAL: [200/1140] Elapsed 0m 22s (remain 1m 47s) Loss: 0.4869(0.5381) \n",
      "EVAL: [300/1140] Elapsed 0m 34s (remain 1m 35s) Loss: 0.6000(0.5414) \n",
      "EVAL: [400/1140] Elapsed 0m 45s (remain 1m 24s) Loss: 0.3989(0.5435) \n",
      "EVAL: [500/1140] Elapsed 0m 56s (remain 1m 12s) Loss: 0.6978(0.5467) \n",
      "EVAL: [600/1140] Elapsed 1m 8s (remain 1m 1s) Loss: 0.6013(0.5473) \n",
      "EVAL: [700/1140] Elapsed 1m 19s (remain 0m 49s) Loss: 0.6921(0.5457) \n",
      "EVAL: [800/1140] Elapsed 1m 31s (remain 0m 38s) Loss: 0.5486(0.5462) \n",
      "EVAL: [900/1140] Elapsed 1m 42s (remain 0m 27s) Loss: 0.4907(0.5449) \n",
      "EVAL: [1000/1140] Elapsed 1m 53s (remain 0m 15s) Loss: 0.5448(0.5443) \n",
      "EVAL: [1100/1140] Elapsed 2m 5s (remain 0m 4s) Loss: 0.4056(0.5428) \n"
     ]
    },
    {
     "name": "stderr",
     "output_type": "stream",
     "text": [
      "Epoch 3 - avg_train_loss: 0.5489  avg_val_loss: 0.5433  time: 1051s\n",
      "Epoch 3 - Score: 0.8296\n",
      "Epoch 3 - Save Best Score: 0.8296 Model\n"
     ]
    },
    {
     "name": "stdout",
     "output_type": "stream",
     "text": [
      "EVAL: [1139/1140] Elapsed 2m 9s (remain 0m 0s) Loss: 0.6338(0.5433) \n"
     ]
    },
    {
     "name": "stderr",
     "output_type": "stream",
     "text": [
      "[W pthreadpool-cpp.cc:90] Warning: Leaking Caffe2 thread-pool after fork. (function pthreadpool)\n",
      "[W pthreadpool-cpp.cc:90] Warning: Leaking Caffe2 thread-pool after fork. (function pthreadpool)\n",
      "[W pthreadpool-cpp.cc:90] Warning: Leaking Caffe2 thread-pool after fork. (function pthreadpool)\n",
      "[W pthreadpool-cpp.cc:90] Warning: Leaking Caffe2 thread-pool after fork. (function pthreadpool)\n"
     ]
    },
    {
     "name": "stdout",
     "output_type": "stream",
     "text": [
      "Epoch: [4][0/3419] Elapsed 0m 0s (remain 41m 42s) Loss: 0.4993(0.4993) Grad: 44339.4844  LR: 0.00001000  \n",
      "Epoch: [4][100/3419] Elapsed 0m 27s (remain 15m 6s) Loss: 0.6782(0.5354) Grad: 2161.4829  LR: 0.00000985  \n",
      "Epoch: [4][200/3419] Elapsed 0m 54s (remain 14m 33s) Loss: 0.3071(0.5333) Grad: 6673.5254  LR: 0.00000969  \n",
      "Epoch: [4][300/3419] Elapsed 1m 21s (remain 14m 3s) Loss: 0.4487(0.5367) Grad: 13326.9004  LR: 0.00000954  \n",
      "Epoch: [4][400/3419] Elapsed 1m 48s (remain 13m 35s) Loss: 0.4534(0.5418) Grad: 13178.9209  LR: 0.00000939  \n",
      "Epoch: [4][500/3419] Elapsed 2m 15s (remain 13m 7s) Loss: 0.5022(0.5420) Grad: 10990.3975  LR: 0.00000924  \n",
      "Epoch: [4][600/3419] Elapsed 2m 42s (remain 12m 40s) Loss: 0.7127(0.5416) Grad: 18069.5859  LR: 0.00000908  \n",
      "Epoch: [4][700/3419] Elapsed 3m 9s (remain 12m 13s) Loss: 0.7192(0.5426) Grad: 28361.8945  LR: 0.00000893  \n",
      "Epoch: [4][800/3419] Elapsed 3m 36s (remain 11m 45s) Loss: 0.2794(0.5424) Grad: 20867.5488  LR: 0.00000878  \n",
      "Epoch: [4][900/3419] Elapsed 4m 2s (remain 11m 18s) Loss: 0.6653(0.5414) Grad: 47992.4492  LR: 0.00000863  \n",
      "Epoch: [4][1000/3419] Elapsed 4m 29s (remain 10m 51s) Loss: 0.5842(0.5420) Grad: 11743.1123  LR: 0.00000847  \n",
      "Epoch: [4][1100/3419] Elapsed 4m 56s (remain 10m 24s) Loss: 0.6547(0.5422) Grad: 37032.5234  LR: 0.00000832  \n",
      "Epoch: [4][1200/3419] Elapsed 5m 23s (remain 9m 57s) Loss: 0.3801(0.5426) Grad: 29869.4141  LR: 0.00000817  \n",
      "Epoch: [4][1300/3419] Elapsed 5m 50s (remain 9m 30s) Loss: 0.6799(0.5417) Grad: 21198.9258  LR: 0.00000802  \n",
      "Epoch: [4][1400/3419] Elapsed 6m 17s (remain 9m 3s) Loss: 0.6432(0.5417) Grad: 21311.6816  LR: 0.00000787  \n",
      "Epoch: [4][1500/3419] Elapsed 6m 44s (remain 8m 36s) Loss: 0.5253(0.5428) Grad: 26729.2969  LR: 0.00000772  \n",
      "Epoch: [4][1600/3419] Elapsed 7m 11s (remain 8m 9s) Loss: 0.5971(0.5423) Grad: 12962.0293  LR: 0.00000757  \n",
      "Epoch: [4][1700/3419] Elapsed 7m 38s (remain 7m 42s) Loss: 0.5624(0.5422) Grad: 10561.5693  LR: 0.00000743  \n",
      "Epoch: [4][1800/3419] Elapsed 8m 5s (remain 7m 15s) Loss: 0.4675(0.5420) Grad: 8934.9053  LR: 0.00000728  \n",
      "Epoch: [4][1900/3419] Elapsed 8m 32s (remain 6m 48s) Loss: 0.5263(0.5417) Grad: 27899.2480  LR: 0.00000713  \n",
      "Epoch: [4][2000/3419] Elapsed 8m 59s (remain 6m 22s) Loss: 0.3525(0.5419) Grad: 23913.7168  LR: 0.00000699  \n",
      "Epoch: [4][2100/3419] Elapsed 9m 26s (remain 5m 55s) Loss: 0.5288(0.5415) Grad: 16906.3027  LR: 0.00000684  \n",
      "Epoch: [4][2200/3419] Elapsed 9m 53s (remain 5m 28s) Loss: 0.6613(0.5415) Grad: 13508.2920  LR: 0.00000669  \n",
      "Epoch: [4][2300/3419] Elapsed 10m 20s (remain 5m 1s) Loss: 0.6457(0.5416) Grad: 7096.4624  LR: 0.00000655  \n",
      "Epoch: [4][2400/3419] Elapsed 10m 47s (remain 4m 34s) Loss: 0.5634(0.5422) Grad: 23319.7168  LR: 0.00000641  \n",
      "Epoch: [4][2500/3419] Elapsed 11m 13s (remain 4m 7s) Loss: 0.5429(0.5425) Grad: 13648.2188  LR: 0.00000626  \n",
      "Epoch: [4][2600/3419] Elapsed 11m 40s (remain 3m 40s) Loss: 0.7168(0.5424) Grad: 14959.4053  LR: 0.00000612  \n",
      "Epoch: [4][2700/3419] Elapsed 12m 7s (remain 3m 13s) Loss: 0.5802(0.5424) Grad: 24420.9824  LR: 0.00000598  \n",
      "Epoch: [4][2800/3419] Elapsed 12m 34s (remain 2m 46s) Loss: 0.6594(0.5423) Grad: 5479.6445  LR: 0.00000584  \n",
      "Epoch: [4][2900/3419] Elapsed 13m 1s (remain 2m 19s) Loss: 0.4043(0.5429) Grad: 1761.7529  LR: 0.00000570  \n",
      "Epoch: [4][3000/3419] Elapsed 13m 28s (remain 1m 52s) Loss: 0.5828(0.5426) Grad: 42355.3281  LR: 0.00000557  \n",
      "Epoch: [4][3100/3419] Elapsed 13m 55s (remain 1m 25s) Loss: 0.5463(0.5426) Grad: 18939.4531  LR: 0.00000543  \n",
      "Epoch: [4][3200/3419] Elapsed 14m 22s (remain 0m 58s) Loss: 0.5419(0.5430) Grad: 36122.4609  LR: 0.00000529  \n",
      "Epoch: [4][3300/3419] Elapsed 14m 49s (remain 0m 31s) Loss: 0.6164(0.5428) Grad: 4407.4805  LR: 0.00000516  \n",
      "Epoch: [4][3400/3419] Elapsed 15m 16s (remain 0m 4s) Loss: 0.3937(0.5424) Grad: 7621.5342  LR: 0.00000503  \n",
      "Epoch: [4][3418/3419] Elapsed 15m 21s (remain 0m 0s) Loss: 0.5055(0.5424) Grad: 15984.5254  LR: 0.00000500  \n"
     ]
    },
    {
     "name": "stderr",
     "output_type": "stream",
     "text": [
      "[W pthreadpool-cpp.cc:90] Warning: Leaking Caffe2 thread-pool after fork. (function pthreadpool)\n",
      "[W pthreadpool-cpp.cc:90] Warning: Leaking Caffe2 thread-pool after fork. (function pthreadpool)\n",
      "[W pthreadpool-cpp.cc:90] Warning: Leaking Caffe2 thread-pool after fork. (function pthreadpool)\n",
      "[W pthreadpool-cpp.cc:90] Warning: Leaking Caffe2 thread-pool after fork. (function pthreadpool)\n"
     ]
    },
    {
     "name": "stdout",
     "output_type": "stream",
     "text": [
      "EVAL: [0/1140] Elapsed 0m 0s (remain 6m 17s) Loss: 0.4600(0.4600) \n",
      "EVAL: [100/1140] Elapsed 0m 11s (remain 1m 59s) Loss: 0.5434(0.5272) \n",
      "EVAL: [200/1140] Elapsed 0m 22s (remain 1m 46s) Loss: 0.4809(0.5396) \n",
      "EVAL: [300/1140] Elapsed 0m 34s (remain 1m 35s) Loss: 0.6062(0.5414) \n",
      "EVAL: [400/1140] Elapsed 0m 45s (remain 1m 23s) Loss: 0.3629(0.5434) \n",
      "EVAL: [500/1140] Elapsed 0m 56s (remain 1m 12s) Loss: 0.7226(0.5463) \n",
      "EVAL: [600/1140] Elapsed 1m 8s (remain 1m 1s) Loss: 0.5935(0.5468) \n",
      "EVAL: [700/1140] Elapsed 1m 19s (remain 0m 49s) Loss: 0.7026(0.5456) \n",
      "EVAL: [800/1140] Elapsed 1m 30s (remain 0m 38s) Loss: 0.5541(0.5465) \n",
      "EVAL: [900/1140] Elapsed 1m 41s (remain 0m 27s) Loss: 0.4903(0.5453) \n",
      "EVAL: [1000/1140] Elapsed 1m 53s (remain 0m 15s) Loss: 0.5384(0.5446) \n",
      "EVAL: [1100/1140] Elapsed 2m 4s (remain 0m 4s) Loss: 0.3956(0.5436) \n"
     ]
    },
    {
     "name": "stderr",
     "output_type": "stream",
     "text": [
      "Epoch 4 - avg_train_loss: 0.5424  avg_val_loss: 0.5442  time: 1050s\n",
      "Epoch 4 - Score: 0.8327\n",
      "Epoch 4 - Save Best Score: 0.8327 Model\n"
     ]
    },
    {
     "name": "stdout",
     "output_type": "stream",
     "text": [
      "EVAL: [1139/1140] Elapsed 2m 9s (remain 0m 0s) Loss: 0.6901(0.5442) \n"
     ]
    },
    {
     "name": "stderr",
     "output_type": "stream",
     "text": [
      "[W pthreadpool-cpp.cc:90] Warning: Leaking Caffe2 thread-pool after fork. (function pthreadpool)\n",
      "[W pthreadpool-cpp.cc:90] Warning: Leaking Caffe2 thread-pool after fork. (function pthreadpool)\n",
      "[W pthreadpool-cpp.cc:90] Warning: Leaking Caffe2 thread-pool after fork. (function pthreadpool)\n",
      "[W pthreadpool-cpp.cc:90] Warning: Leaking Caffe2 thread-pool after fork. (function pthreadpool)\n"
     ]
    },
    {
     "name": "stdout",
     "output_type": "stream",
     "text": [
      "Epoch: [5][0/3419] Elapsed 0m 0s (remain 39m 35s) Loss: 0.5006(0.5006) Grad: 60321.4219  LR: 0.00000500  \n",
      "Epoch: [5][100/3419] Elapsed 0m 27s (remain 15m 7s) Loss: 0.5077(0.5355) Grad: 66192.0625  LR: 0.00000487  \n",
      "Epoch: [5][200/3419] Elapsed 0m 54s (remain 14m 32s) Loss: 0.5767(0.5371) Grad: 17182.2012  LR: 0.00000474  \n",
      "Epoch: [5][300/3419] Elapsed 1m 21s (remain 14m 3s) Loss: 0.4182(0.5325) Grad: 8220.5605  LR: 0.00000461  \n",
      "Epoch: [5][400/3419] Elapsed 1m 48s (remain 13m 35s) Loss: 0.2576(0.5355) Grad: 11367.5010  LR: 0.00000448  \n",
      "Epoch: [5][500/3419] Elapsed 2m 15s (remain 13m 8s) Loss: 0.5818(0.5357) Grad: 115981.9844  LR: 0.00000435  \n",
      "Epoch: [5][600/3419] Elapsed 2m 42s (remain 12m 40s) Loss: 0.6125(0.5344) Grad: 26427.3184  LR: 0.00000423  \n",
      "Epoch: [5][700/3419] Elapsed 3m 9s (remain 12m 13s) Loss: 0.4936(0.5335) Grad: 14701.1904  LR: 0.00000410  \n",
      "Epoch: [5][800/3419] Elapsed 3m 36s (remain 11m 46s) Loss: 0.5377(0.5325) Grad: 27653.1758  LR: 0.00000398  \n",
      "Epoch: [5][900/3419] Elapsed 4m 3s (remain 11m 19s) Loss: 0.6314(0.5341) Grad: 7706.7812  LR: 0.00000386  \n",
      "Epoch: [5][1000/3419] Elapsed 4m 30s (remain 10m 52s) Loss: 0.5545(0.5350) Grad: 25612.8008  LR: 0.00000374  \n",
      "Epoch: [5][1100/3419] Elapsed 4m 57s (remain 10m 25s) Loss: 0.7098(0.5353) Grad: 28612.1777  LR: 0.00000362  \n",
      "Epoch: [5][1200/3419] Elapsed 5m 23s (remain 9m 58s) Loss: 0.7003(0.5360) Grad: 26042.2559  LR: 0.00000350  \n",
      "Epoch: [5][1300/3419] Elapsed 5m 51s (remain 9m 31s) Loss: 0.4658(0.5359) Grad: 8225.3262  LR: 0.00000339  \n",
      "Epoch: [5][1400/3419] Elapsed 6m 17s (remain 9m 4s) Loss: 0.5851(0.5355) Grad: 8526.9863  LR: 0.00000327  \n",
      "Epoch: [5][1500/3419] Elapsed 6m 44s (remain 8m 37s) Loss: 0.5692(0.5360) Grad: 12922.6240  LR: 0.00000316  \n",
      "Epoch: [5][1600/3419] Elapsed 7m 11s (remain 8m 10s) Loss: 0.5983(0.5356) Grad: 4905.9072  LR: 0.00000305  \n",
      "Epoch: [5][1700/3419] Elapsed 7m 38s (remain 7m 43s) Loss: 0.6485(0.5348) Grad: 37923.0000  LR: 0.00000294  \n",
      "Epoch: [5][1800/3419] Elapsed 8m 5s (remain 7m 16s) Loss: 0.5741(0.5350) Grad: 18404.1309  LR: 0.00000283  \n",
      "Epoch: [5][1900/3419] Elapsed 8m 32s (remain 6m 49s) Loss: 0.5948(0.5365) Grad: 10938.1455  LR: 0.00000273  \n",
      "Epoch: [5][2000/3419] Elapsed 8m 59s (remain 6m 22s) Loss: 0.5668(0.5361) Grad: 15437.1172  LR: 0.00000262  \n",
      "Epoch: [5][2100/3419] Elapsed 9m 26s (remain 5m 55s) Loss: 0.5738(0.5365) Grad: 50524.8594  LR: 0.00000252  \n",
      "Epoch: [5][2200/3419] Elapsed 9m 53s (remain 5m 28s) Loss: 0.4472(0.5363) Grad: 20688.4570  LR: 0.00000242  \n",
      "Epoch: [5][2300/3419] Elapsed 10m 20s (remain 5m 1s) Loss: 0.6046(0.5367) Grad: 17745.0723  LR: 0.00000232  \n",
      "Epoch: [5][2400/3419] Elapsed 10m 47s (remain 4m 34s) Loss: 0.6414(0.5366) Grad: 92739.4297  LR: 0.00000222  \n",
      "Epoch: [5][2500/3419] Elapsed 11m 14s (remain 4m 7s) Loss: 0.6001(0.5373) Grad: 16592.1973  LR: 0.00000213  \n",
      "Epoch: [5][2600/3419] Elapsed 11m 41s (remain 3m 40s) Loss: 0.5670(0.5368) Grad: 3093.5354  LR: 0.00000203  \n",
      "Epoch: [5][2700/3419] Elapsed 12m 7s (remain 3m 13s) Loss: 0.6213(0.5372) Grad: 11262.0381  LR: 0.00000194  \n",
      "Epoch: [5][2800/3419] Elapsed 12m 34s (remain 2m 46s) Loss: 0.6169(0.5369) Grad: 39849.5078  LR: 0.00000185  \n",
      "Epoch: [5][2900/3419] Elapsed 13m 1s (remain 2m 19s) Loss: 0.5550(0.5374) Grad: 23655.2227  LR: 0.00000176  \n",
      "Epoch: [5][3000/3419] Elapsed 13m 28s (remain 1m 52s) Loss: 0.4051(0.5374) Grad: 11255.1396  LR: 0.00000168  \n",
      "Epoch: [5][3100/3419] Elapsed 13m 55s (remain 1m 25s) Loss: 0.5391(0.5373) Grad: 7186.0020  LR: 0.00000159  \n",
      "Epoch: [5][3200/3419] Elapsed 14m 22s (remain 0m 58s) Loss: 0.5449(0.5374) Grad: 21082.0723  LR: 0.00000151  \n",
      "Epoch: [5][3300/3419] Elapsed 14m 49s (remain 0m 31s) Loss: 0.4805(0.5375) Grad: 4174.9541  LR: 0.00000143  \n",
      "Epoch: [5][3400/3419] Elapsed 15m 16s (remain 0m 4s) Loss: 0.4947(0.5375) Grad: 20022.2969  LR: 0.00000135  \n"
     ]
    },
    {
     "name": "stderr",
     "output_type": "stream",
     "text": [
      "[W pthreadpool-cpp.cc:90] Warning: Leaking Caffe2 thread-pool after fork. (function pthreadpool)\n"
     ]
    },
    {
     "name": "stdout",
     "output_type": "stream",
     "text": [
      "Epoch: [5][3418/3419] Elapsed 15m 21s (remain 0m 0s) Loss: 0.5377(0.5375) Grad: 5047.9116  LR: 0.00000134  \n"
     ]
    },
    {
     "name": "stderr",
     "output_type": "stream",
     "text": [
      "[W pthreadpool-cpp.cc:90] Warning: Leaking Caffe2 thread-pool after fork. (function pthreadpool)\n",
      "[W pthreadpool-cpp.cc:90] Warning: Leaking Caffe2 thread-pool after fork. (function pthreadpool)\n",
      "[W pthreadpool-cpp.cc:90] Warning: Leaking Caffe2 thread-pool after fork. (function pthreadpool)\n",
      "[W pthreadpool-cpp.cc:90] Warning: Leaking Caffe2 thread-pool after fork. (function pthreadpool)\n"
     ]
    },
    {
     "name": "stdout",
     "output_type": "stream",
     "text": [
      "EVAL: [0/1140] Elapsed 0m 0s (remain 6m 13s) Loss: 0.4654(0.4654) \n",
      "EVAL: [100/1140] Elapsed 0m 11s (remain 1m 59s) Loss: 0.5407(0.5270) \n",
      "EVAL: [200/1140] Elapsed 0m 22s (remain 1m 47s) Loss: 0.4800(0.5407) \n",
      "EVAL: [300/1140] Elapsed 0m 34s (remain 1m 35s) Loss: 0.6043(0.5426) \n",
      "EVAL: [400/1140] Elapsed 0m 45s (remain 1m 24s) Loss: 0.3641(0.5446) \n",
      "EVAL: [500/1140] Elapsed 0m 56s (remain 1m 12s) Loss: 0.7348(0.5475) \n",
      "EVAL: [600/1140] Elapsed 1m 8s (remain 1m 1s) Loss: 0.5892(0.5483) \n",
      "EVAL: [700/1140] Elapsed 1m 19s (remain 0m 49s) Loss: 0.7133(0.5473) \n",
      "EVAL: [800/1140] Elapsed 1m 31s (remain 0m 38s) Loss: 0.5554(0.5480) \n",
      "EVAL: [900/1140] Elapsed 1m 42s (remain 0m 27s) Loss: 0.4887(0.5467) \n",
      "EVAL: [1000/1140] Elapsed 1m 53s (remain 0m 15s) Loss: 0.5361(0.5460) \n",
      "EVAL: [1100/1140] Elapsed 2m 5s (remain 0m 4s) Loss: 0.3994(0.5450) \n"
     ]
    },
    {
     "name": "stderr",
     "output_type": "stream",
     "text": [
      "Epoch 5 - avg_train_loss: 0.5375  avg_val_loss: 0.5457  time: 1051s\n",
      "Epoch 5 - Score: 0.8337\n",
      "Epoch 5 - Save Best Score: 0.8337 Model\n"
     ]
    },
    {
     "name": "stdout",
     "output_type": "stream",
     "text": [
      "EVAL: [1139/1140] Elapsed 2m 9s (remain 0m 0s) Loss: 0.7575(0.5457) \n"
     ]
    },
    {
     "name": "stderr",
     "output_type": "stream",
     "text": [
      "[W pthreadpool-cpp.cc:90] Warning: Leaking Caffe2 thread-pool after fork. (function pthreadpool)\n",
      "[W pthreadpool-cpp.cc:90] Warning: Leaking Caffe2 thread-pool after fork. (function pthreadpool)\n",
      "[W pthreadpool-cpp.cc:90] Warning: Leaking Caffe2 thread-pool after fork. (function pthreadpool)\n",
      "[W pthreadpool-cpp.cc:90] Warning: Leaking Caffe2 thread-pool after fork. (function pthreadpool)\n"
     ]
    },
    {
     "name": "stdout",
     "output_type": "stream",
     "text": [
      "Epoch: [6][0/3419] Elapsed 0m 0s (remain 43m 23s) Loss: 0.5731(0.5731) Grad: 38952.0508  LR: 0.00000134  \n",
      "Epoch: [6][100/3419] Elapsed 0m 27s (remain 15m 9s) Loss: 0.5867(0.5397) Grad: 19431.7148  LR: 0.00000126  \n",
      "Epoch: [6][200/3419] Elapsed 0m 54s (remain 14m 33s) Loss: 0.4116(0.5471) Grad: 6994.2593  LR: 0.00000119  \n",
      "Epoch: [6][300/3419] Elapsed 1m 21s (remain 14m 3s) Loss: 0.5538(0.5441) Grad: 9746.3721  LR: 0.00000112  \n",
      "Epoch: [6][400/3419] Elapsed 1m 48s (remain 13m 35s) Loss: 0.6677(0.5414) Grad: 3034.6318  LR: 0.00000105  \n",
      "Epoch: [6][500/3419] Elapsed 2m 15s (remain 13m 8s) Loss: 0.5806(0.5416) Grad: 9118.4775  LR: 0.00000098  \n",
      "Epoch: [6][600/3419] Elapsed 2m 42s (remain 12m 40s) Loss: 0.3827(0.5431) Grad: 14138.2773  LR: 0.00000092  \n",
      "Epoch: [6][700/3419] Elapsed 3m 9s (remain 12m 13s) Loss: 0.5559(0.5400) Grad: 35030.1211  LR: 0.00000085  \n",
      "Epoch: [6][800/3419] Elapsed 3m 36s (remain 11m 46s) Loss: 0.6084(0.5414) Grad: 20971.5801  LR: 0.00000079  \n",
      "Epoch: [6][900/3419] Elapsed 4m 3s (remain 11m 19s) Loss: 0.5482(0.5409) Grad: 16656.5254  LR: 0.00000074  \n",
      "Epoch: [6][1000/3419] Elapsed 4m 30s (remain 10m 52s) Loss: 0.5628(0.5410) Grad: 8598.7695  LR: 0.00000068  \n",
      "Epoch: [6][1100/3419] Elapsed 4m 56s (remain 10m 25s) Loss: 0.6471(0.5394) Grad: 16297.4619  LR: 0.00000062  \n",
      "Epoch: [6][1200/3419] Elapsed 5m 23s (remain 9m 58s) Loss: 0.3483(0.5400) Grad: 20024.7676  LR: 0.00000057  \n",
      "Epoch: [6][1300/3419] Elapsed 5m 50s (remain 9m 31s) Loss: 0.5462(0.5385) Grad: 17059.4492  LR: 0.00000052  \n",
      "Epoch: [6][1400/3419] Elapsed 6m 17s (remain 9m 3s) Loss: 0.6407(0.5389) Grad: 30630.1953  LR: 0.00000047  \n",
      "Epoch: [6][1500/3419] Elapsed 6m 44s (remain 8m 37s) Loss: 0.5666(0.5385) Grad: 7987.2651  LR: 0.00000043  \n",
      "Epoch: [6][1600/3419] Elapsed 7m 11s (remain 8m 10s) Loss: 0.3903(0.5387) Grad: 62511.9688  LR: 0.00000039  \n",
      "Epoch: [6][1700/3419] Elapsed 7m 38s (remain 7m 43s) Loss: 0.4383(0.5382) Grad: 7744.1870  LR: 0.00000034  \n",
      "Epoch: [6][1800/3419] Elapsed 8m 5s (remain 7m 16s) Loss: 0.3610(0.5382) Grad: 14417.9443  LR: 0.00000031  \n",
      "Epoch: [6][1900/3419] Elapsed 8m 32s (remain 6m 49s) Loss: 0.5158(0.5384) Grad: 26198.5371  LR: 0.00000027  \n",
      "Epoch: [6][2000/3419] Elapsed 8m 59s (remain 6m 22s) Loss: 0.4821(0.5383) Grad: 10516.6992  LR: 0.00000024  \n",
      "Epoch: [6][2100/3419] Elapsed 9m 26s (remain 5m 55s) Loss: 0.3946(0.5373) Grad: 15582.1953  LR: 0.00000020  \n",
      "Epoch: [6][2200/3419] Elapsed 9m 53s (remain 5m 28s) Loss: 0.6370(0.5373) Grad: 51959.4492  LR: 0.00000017  \n",
      "Epoch: [6][2300/3419] Elapsed 10m 20s (remain 5m 1s) Loss: 0.4067(0.5374) Grad: 41765.6992  LR: 0.00000015  \n",
      "Epoch: [6][2400/3419] Elapsed 10m 46s (remain 4m 34s) Loss: 0.6690(0.5369) Grad: 23368.0234  LR: 0.00000012  \n",
      "Epoch: [6][2500/3419] Elapsed 11m 13s (remain 4m 7s) Loss: 0.5459(0.5358) Grad: 29420.9141  LR: 0.00000010  \n",
      "Epoch: [6][2600/3419] Elapsed 11m 40s (remain 3m 40s) Loss: 0.4486(0.5362) Grad: 20383.7168  LR: 0.00000008  \n",
      "Epoch: [6][2700/3419] Elapsed 12m 7s (remain 3m 13s) Loss: 0.6447(0.5360) Grad: 3808.2957  LR: 0.00000006  \n",
      "Epoch: [6][2800/3419] Elapsed 12m 34s (remain 2m 46s) Loss: 0.4500(0.5365) Grad: 52286.4922  LR: 0.00000005  \n",
      "Epoch: [6][2900/3419] Elapsed 13m 1s (remain 2m 19s) Loss: 0.4629(0.5362) Grad: 48260.5391  LR: 0.00000003  \n",
      "Epoch: [6][3000/3419] Elapsed 13m 28s (remain 1m 52s) Loss: 0.9451(0.5364) Grad: 77432.5859  LR: 0.00000002  \n",
      "Epoch: [6][3100/3419] Elapsed 13m 55s (remain 1m 25s) Loss: 0.4854(0.5363) Grad: 10225.2236  LR: 0.00000001  \n",
      "Epoch: [6][3200/3419] Elapsed 14m 22s (remain 0m 58s) Loss: 0.5868(0.5365) Grad: 25766.8262  LR: 0.00000001  \n",
      "Epoch: [6][3300/3419] Elapsed 14m 49s (remain 0m 31s) Loss: 0.3829(0.5364) Grad: 51635.0469  LR: 0.00000000  \n",
      "Epoch: [6][3400/3419] Elapsed 15m 16s (remain 0m 4s) Loss: 0.5376(0.5362) Grad: 9560.4648  LR: 0.00000000  \n",
      "Epoch: [6][3418/3419] Elapsed 15m 21s (remain 0m 0s) Loss: 0.6332(0.5362) Grad: 69841.1172  LR: 0.00000000  \n"
     ]
    },
    {
     "name": "stderr",
     "output_type": "stream",
     "text": [
      "[W pthreadpool-cpp.cc:90] Warning: Leaking Caffe2 thread-pool after fork. (function pthreadpool)\n",
      "[W pthreadpool-cpp.cc:90] Warning: Leaking Caffe2 thread-pool after fork. (function pthreadpool)\n",
      "[W pthreadpool-cpp.cc:90] Warning: Leaking Caffe2 thread-pool after fork. (function pthreadpool)\n",
      "[W pthreadpool-cpp.cc:90] Warning: Leaking Caffe2 thread-pool after fork. (function pthreadpool)\n"
     ]
    },
    {
     "name": "stdout",
     "output_type": "stream",
     "text": [
      "EVAL: [0/1140] Elapsed 0m 0s (remain 6m 17s) Loss: 0.4638(0.4638) \n",
      "EVAL: [100/1140] Elapsed 0m 11s (remain 2m 0s) Loss: 0.5280(0.5258) \n",
      "EVAL: [200/1140] Elapsed 0m 23s (remain 1m 47s) Loss: 0.4807(0.5388) \n",
      "EVAL: [300/1140] Elapsed 0m 34s (remain 1m 35s) Loss: 0.6043(0.5411) \n",
      "EVAL: [400/1140] Elapsed 0m 45s (remain 1m 24s) Loss: 0.3673(0.5432) \n",
      "EVAL: [500/1140] Elapsed 0m 56s (remain 1m 12s) Loss: 0.7204(0.5462) \n",
      "EVAL: [600/1140] Elapsed 1m 8s (remain 1m 1s) Loss: 0.5901(0.5469) \n",
      "EVAL: [700/1140] Elapsed 1m 19s (remain 0m 49s) Loss: 0.7115(0.5459) \n",
      "EVAL: [800/1140] Elapsed 1m 30s (remain 0m 38s) Loss: 0.5494(0.5466) \n",
      "EVAL: [900/1140] Elapsed 1m 42s (remain 0m 27s) Loss: 0.4889(0.5453) \n",
      "EVAL: [1000/1140] Elapsed 1m 53s (remain 0m 15s) Loss: 0.5345(0.5446) \n",
      "EVAL: [1100/1140] Elapsed 2m 4s (remain 0m 4s) Loss: 0.3983(0.5436) \n"
     ]
    },
    {
     "name": "stderr",
     "output_type": "stream",
     "text": [
      "Epoch 6 - avg_train_loss: 0.5362  avg_val_loss: 0.5442  time: 1051s\n",
      "Epoch 6 - Score: 0.8344\n",
      "Epoch 6 - Save Best Score: 0.8344 Model\n"
     ]
    },
    {
     "name": "stdout",
     "output_type": "stream",
     "text": [
      "EVAL: [1139/1140] Elapsed 2m 9s (remain 0m 0s) Loss: 0.7082(0.5442) \n"
     ]
    },
    {
     "name": "stderr",
     "output_type": "stream",
     "text": [
      "========== fold: 1 result ==========\n",
      "Score: 0.8344\n",
      "========== fold: 2 training ==========\n"
     ]
    },
    {
     "name": "stdout",
     "output_type": "stream",
     "text": [
      "\u001b[38;5;40m========== fold: 2 training ==========\u001b[0m\n"
     ]
    },
    {
     "name": "stderr",
     "output_type": "stream",
     "text": [
      "Some weights of the model checkpoint at microsoft/deberta-v3-base were not used when initializing DebertaV2Model: ['mask_predictions.classifier.bias', 'mask_predictions.dense.weight', 'mask_predictions.LayerNorm.bias', 'lm_predictions.lm_head.dense.bias', 'mask_predictions.dense.bias', 'lm_predictions.lm_head.LayerNorm.weight', 'mask_predictions.classifier.weight', 'lm_predictions.lm_head.bias', 'mask_predictions.LayerNorm.weight', 'lm_predictions.lm_head.dense.weight', 'lm_predictions.lm_head.LayerNorm.bias']\n",
      "- This IS expected if you are initializing DebertaV2Model from the checkpoint of a model trained on another task or with another architecture (e.g. initializing a BertForSequenceClassification model from a BertForPreTraining model).\n",
      "- This IS NOT expected if you are initializing DebertaV2Model from the checkpoint of a model that you expect to be exactly identical (initializing a BertForSequenceClassification model from a BertForSequenceClassification model).\n",
      "[W pthreadpool-cpp.cc:90] Warning: Leaking Caffe2 thread-pool after fork. (function pthreadpool)\n",
      "[W pthreadpool-cpp.cc:90] Warning: Leaking Caffe2 thread-pool after fork. (function pthreadpool)\n",
      "[W pthreadpool-cpp.cc:90] Warning: Leaking Caffe2 thread-pool after fork. (function pthreadpool)\n",
      "[W pthreadpool-cpp.cc:90] Warning: Leaking Caffe2 thread-pool after fork. (function pthreadpool)\n"
     ]
    },
    {
     "name": "stdout",
     "output_type": "stream",
     "text": [
      "Epoch: [1][0/3419] Elapsed 0m 0s (remain 26m 48s) Loss: 0.6718(0.6718) Grad: 34899.4609  LR: 0.00002000  \n",
      "Epoch: [1][100/3419] Elapsed 0m 27s (remain 15m 0s) Loss: 0.6937(0.6631) Grad: 14519.3594  LR: 0.00002000  \n",
      "Epoch: [1][200/3419] Elapsed 0m 54s (remain 14m 29s) Loss: 0.6653(0.6628) Grad: 4090.6895  LR: 0.00002000  \n",
      "Epoch: [1][300/3419] Elapsed 1m 21s (remain 14m 1s) Loss: 0.6027(0.6579) Grad: 5525.7842  LR: 0.00001999  \n",
      "Epoch: [1][400/3419] Elapsed 1m 48s (remain 13m 33s) Loss: 0.6764(0.6580) Grad: 7825.4199  LR: 0.00001998  \n",
      "Epoch: [1][500/3419] Elapsed 2m 15s (remain 13m 6s) Loss: 0.6551(0.6548) Grad: 4780.7944  LR: 0.00001997  \n",
      "Epoch: [1][600/3419] Elapsed 2m 41s (remain 12m 39s) Loss: 0.7415(0.6518) Grad: 42972.1680  LR: 0.00001996  \n",
      "Epoch: [1][700/3419] Elapsed 3m 8s (remain 12m 12s) Loss: 0.6542(0.6503) Grad: 17843.2012  LR: 0.00001994  \n",
      "Epoch: [1][800/3419] Elapsed 3m 35s (remain 11m 45s) Loss: 0.5971(0.6470) Grad: 18953.6055  LR: 0.00001992  \n",
      "Epoch: [1][900/3419] Elapsed 4m 2s (remain 11m 18s) Loss: 0.5924(0.6437) Grad: 11278.9199  LR: 0.00001990  \n",
      "Epoch: [1][1000/3419] Elapsed 4m 29s (remain 10m 51s) Loss: 0.7469(0.6406) Grad: 16934.2129  LR: 0.00001988  \n",
      "Epoch: [1][1100/3419] Elapsed 4m 56s (remain 10m 24s) Loss: 0.5422(0.6372) Grad: 23236.6133  LR: 0.00001986  \n",
      "Epoch: [1][1200/3419] Elapsed 5m 23s (remain 9m 57s) Loss: 0.6820(0.6343) Grad: 29466.9062  LR: 0.00001983  \n",
      "Epoch: [1][1300/3419] Elapsed 5m 50s (remain 9m 30s) Loss: 0.5851(0.6325) Grad: 39719.9922  LR: 0.00001980  \n",
      "Epoch: [1][1400/3419] Elapsed 6m 17s (remain 9m 3s) Loss: 0.5801(0.6304) Grad: 14652.8350  LR: 0.00001977  \n",
      "Epoch: [1][1500/3419] Elapsed 6m 44s (remain 8m 36s) Loss: 0.5824(0.6278) Grad: 21184.7871  LR: 0.00001974  \n",
      "Epoch: [1][1600/3419] Elapsed 7m 11s (remain 8m 9s) Loss: 0.5903(0.6257) Grad: 6050.3188  LR: 0.00001970  \n",
      "Epoch: [1][1700/3419] Elapsed 7m 38s (remain 7m 42s) Loss: 0.4748(0.6235) Grad: 23770.5117  LR: 0.00001966  \n",
      "Epoch: [1][1800/3419] Elapsed 8m 5s (remain 7m 15s) Loss: 0.5922(0.6223) Grad: 10961.7930  LR: 0.00001962  \n",
      "Epoch: [1][1900/3419] Elapsed 8m 32s (remain 6m 48s) Loss: 0.5838(0.6205) Grad: 9453.5273  LR: 0.00001958  \n",
      "Epoch: [1][2000/3419] Elapsed 8m 58s (remain 6m 21s) Loss: 0.5671(0.6184) Grad: 12210.8467  LR: 0.00001953  \n",
      "Epoch: [1][2100/3419] Elapsed 9m 25s (remain 5m 55s) Loss: 0.3764(0.6167) Grad: 18312.4551  LR: 0.00001949  \n",
      "Epoch: [1][2200/3419] Elapsed 9m 52s (remain 5m 28s) Loss: 0.6869(0.6150) Grad: 33694.1211  LR: 0.00001944  \n",
      "Epoch: [1][2300/3419] Elapsed 10m 19s (remain 5m 1s) Loss: 0.6185(0.6139) Grad: 28280.3945  LR: 0.00001939  \n",
      "Epoch: [1][2400/3419] Elapsed 10m 46s (remain 4m 34s) Loss: 0.6415(0.6126) Grad: 21117.9043  LR: 0.00001933  \n",
      "Epoch: [1][2500/3419] Elapsed 11m 13s (remain 4m 7s) Loss: 0.4914(0.6107) Grad: 28613.2852  LR: 0.00001928  \n",
      "Epoch: [1][2600/3419] Elapsed 11m 40s (remain 3m 40s) Loss: 0.5961(0.6093) Grad: 40674.7773  LR: 0.00001922  \n",
      "Epoch: [1][2700/3419] Elapsed 12m 7s (remain 3m 13s) Loss: 0.6295(0.6083) Grad: 26975.0137  LR: 0.00001916  \n",
      "Epoch: [1][2800/3419] Elapsed 12m 34s (remain 2m 46s) Loss: 0.5996(0.6070) Grad: 20780.6523  LR: 0.00001909  \n",
      "Epoch: [1][2900/3419] Elapsed 13m 1s (remain 2m 19s) Loss: 0.6091(0.6060) Grad: 32897.5977  LR: 0.00001903  \n",
      "Epoch: [1][3000/3419] Elapsed 13m 28s (remain 1m 52s) Loss: 0.5763(0.6046) Grad: 42636.5977  LR: 0.00001896  \n",
      "Epoch: [1][3100/3419] Elapsed 13m 55s (remain 1m 25s) Loss: 0.5917(0.6035) Grad: 10253.0381  LR: 0.00001889  \n",
      "Epoch: [1][3200/3419] Elapsed 14m 22s (remain 0m 58s) Loss: 0.7074(0.6027) Grad: 37556.0156  LR: 0.00001882  \n",
      "Epoch: [1][3300/3419] Elapsed 14m 48s (remain 0m 31s) Loss: 0.5613(0.6017) Grad: 38298.4648  LR: 0.00001875  \n",
      "Epoch: [1][3400/3419] Elapsed 15m 15s (remain 0m 4s) Loss: 0.5645(0.6009) Grad: 11703.7666  LR: 0.00001867  \n",
      "Epoch: [1][3418/3419] Elapsed 15m 20s (remain 0m 0s) Loss: 0.5488(0.6009) Grad: 24080.9453  LR: 0.00001866  \n"
     ]
    },
    {
     "name": "stderr",
     "output_type": "stream",
     "text": [
      "[W pthreadpool-cpp.cc:90] Warning: Leaking Caffe2 thread-pool after fork. (function pthreadpool)\n",
      "[W pthreadpool-cpp.cc:90] Warning: Leaking Caffe2 thread-pool after fork. (function pthreadpool)\n",
      "[W pthreadpool-cpp.cc:90] Warning: Leaking Caffe2 thread-pool after fork. (function pthreadpool)\n",
      "[W pthreadpool-cpp.cc:90] Warning: Leaking Caffe2 thread-pool after fork. (function pthreadpool)\n"
     ]
    },
    {
     "name": "stdout",
     "output_type": "stream",
     "text": [
      "EVAL: [0/1140] Elapsed 0m 0s (remain 6m 22s) Loss: 0.5336(0.5336) \n",
      "EVAL: [100/1140] Elapsed 0m 11s (remain 2m 0s) Loss: 0.7144(0.5641) \n",
      "EVAL: [200/1140] Elapsed 0m 23s (remain 1m 47s) Loss: 0.6645(0.5632) \n",
      "EVAL: [300/1140] Elapsed 0m 34s (remain 1m 35s) Loss: 0.5552(0.5688) \n",
      "EVAL: [400/1140] Elapsed 0m 45s (remain 1m 24s) Loss: 0.5375(0.5724) \n",
      "EVAL: [500/1140] Elapsed 0m 57s (remain 1m 12s) Loss: 0.5116(0.5692) \n",
      "EVAL: [600/1140] Elapsed 1m 8s (remain 1m 1s) Loss: 0.3632(0.5705) \n",
      "EVAL: [700/1140] Elapsed 1m 19s (remain 0m 49s) Loss: 0.5947(0.5710) \n",
      "EVAL: [800/1140] Elapsed 1m 31s (remain 0m 38s) Loss: 0.2533(0.5718) \n",
      "EVAL: [900/1140] Elapsed 1m 42s (remain 0m 27s) Loss: 0.6163(0.5708) \n",
      "EVAL: [1000/1140] Elapsed 1m 53s (remain 0m 15s) Loss: 0.5158(0.5703) \n",
      "EVAL: [1100/1140] Elapsed 2m 5s (remain 0m 4s) Loss: 0.6589(0.5692) \n"
     ]
    },
    {
     "name": "stderr",
     "output_type": "stream",
     "text": [
      "Epoch 1 - avg_train_loss: 0.6009  avg_val_loss: 0.5694  time: 1051s\n",
      "Epoch 1 - Score: 0.7539\n",
      "Epoch 1 - Save Best Score: 0.7539 Model\n"
     ]
    },
    {
     "name": "stdout",
     "output_type": "stream",
     "text": [
      "EVAL: [1139/1140] Elapsed 2m 9s (remain 0m 0s) Loss: 0.4669(0.5694) \n"
     ]
    },
    {
     "name": "stderr",
     "output_type": "stream",
     "text": [
      "[W pthreadpool-cpp.cc:90] Warning: Leaking Caffe2 thread-pool after fork. (function pthreadpool)\n",
      "[W pthreadpool-cpp.cc:90] Warning: Leaking Caffe2 thread-pool after fork. (function pthreadpool)\n",
      "[W pthreadpool-cpp.cc:90] Warning: Leaking Caffe2 thread-pool after fork. (function pthreadpool)\n",
      "[W pthreadpool-cpp.cc:90] Warning: Leaking Caffe2 thread-pool after fork. (function pthreadpool)\n"
     ]
    },
    {
     "name": "stdout",
     "output_type": "stream",
     "text": [
      "Epoch: [2][0/3419] Elapsed 0m 0s (remain 38m 49s) Loss: 0.5462(0.5462) Grad: 85764.5938  LR: 0.00001866  \n",
      "Epoch: [2][100/3419] Elapsed 0m 27s (remain 15m 5s) Loss: 0.7907(0.5544) Grad: 114699.5000  LR: 0.00001858  \n",
      "Epoch: [2][200/3419] Elapsed 0m 54s (remain 14m 32s) Loss: 0.5864(0.5588) Grad: 12147.0674  LR: 0.00001850  \n",
      "Epoch: [2][300/3419] Elapsed 1m 21s (remain 14m 3s) Loss: 0.5958(0.5616) Grad: 28758.7441  LR: 0.00001842  \n",
      "Epoch: [2][400/3419] Elapsed 1m 48s (remain 13m 35s) Loss: 0.5283(0.5636) Grad: 14323.6377  LR: 0.00001834  \n",
      "Epoch: [2][500/3419] Elapsed 2m 15s (remain 13m 7s) Loss: 0.5155(0.5652) Grad: 22574.0391  LR: 0.00001825  \n",
      "Epoch: [2][600/3419] Elapsed 2m 42s (remain 12m 40s) Loss: 0.5311(0.5635) Grad: 36311.5977  LR: 0.00001816  \n",
      "Epoch: [2][700/3419] Elapsed 3m 9s (remain 12m 13s) Loss: 0.6533(0.5642) Grad: 31108.1035  LR: 0.00001808  \n",
      "Epoch: [2][800/3419] Elapsed 3m 36s (remain 11m 46s) Loss: 0.5640(0.5637) Grad: 38373.6445  LR: 0.00001798  \n",
      "Epoch: [2][900/3419] Elapsed 4m 3s (remain 11m 19s) Loss: 0.4637(0.5641) Grad: 30043.7168  LR: 0.00001789  \n",
      "Epoch: [2][1000/3419] Elapsed 4m 29s (remain 10m 52s) Loss: 0.5370(0.5651) Grad: 36423.4062  LR: 0.00001780  \n",
      "Epoch: [2][1100/3419] Elapsed 4m 56s (remain 10m 25s) Loss: 0.4298(0.5635) Grad: 35576.6680  LR: 0.00001770  \n",
      "Epoch: [2][1200/3419] Elapsed 5m 23s (remain 9m 57s) Loss: 0.6667(0.5640) Grad: 95712.2812  LR: 0.00001760  \n",
      "Epoch: [2][1300/3419] Elapsed 5m 50s (remain 9m 30s) Loss: 0.6519(0.5628) Grad: 15388.8467  LR: 0.00001750  \n",
      "Epoch: [2][1400/3419] Elapsed 6m 17s (remain 9m 4s) Loss: 0.5844(0.5618) Grad: 17005.8633  LR: 0.00001740  \n",
      "Epoch: [2][1500/3419] Elapsed 6m 44s (remain 8m 36s) Loss: 0.5261(0.5618) Grad: 9593.0908  LR: 0.00001729  \n",
      "Epoch: [2][1600/3419] Elapsed 7m 11s (remain 8m 9s) Loss: 0.5122(0.5618) Grad: 26815.1660  LR: 0.00001719  \n",
      "Epoch: [2][1700/3419] Elapsed 7m 38s (remain 7m 43s) Loss: 0.5259(0.5617) Grad: 18655.0508  LR: 0.00001708  \n",
      "Epoch: [2][1800/3419] Elapsed 8m 5s (remain 7m 16s) Loss: 0.5044(0.5622) Grad: 14789.9980  LR: 0.00001697  \n",
      "Epoch: [2][1900/3419] Elapsed 8m 32s (remain 6m 49s) Loss: 0.6818(0.5625) Grad: 9571.8525  LR: 0.00001686  \n",
      "Epoch: [2][2000/3419] Elapsed 8m 59s (remain 6m 22s) Loss: 0.5871(0.5622) Grad: 5721.0781  LR: 0.00001675  \n",
      "Epoch: [2][2100/3419] Elapsed 9m 26s (remain 5m 55s) Loss: 0.7136(0.5617) Grad: 26503.8984  LR: 0.00001664  \n",
      "Epoch: [2][2200/3419] Elapsed 9m 53s (remain 5m 28s) Loss: 0.6809(0.5616) Grad: 42788.4648  LR: 0.00001652  \n",
      "Epoch: [2][2300/3419] Elapsed 10m 20s (remain 5m 1s) Loss: 0.4381(0.5612) Grad: 17135.6465  LR: 0.00001640  \n",
      "Epoch: [2][2400/3419] Elapsed 10m 47s (remain 4m 34s) Loss: 0.5992(0.5617) Grad: 25627.5586  LR: 0.00001628  \n",
      "Epoch: [2][2500/3419] Elapsed 11m 13s (remain 4m 7s) Loss: 0.7302(0.5612) Grad: 68964.5156  LR: 0.00001616  \n",
      "Epoch: [2][2600/3419] Elapsed 11m 40s (remain 3m 40s) Loss: 0.5285(0.5615) Grad: 9865.3438  LR: 0.00001604  \n",
      "Epoch: [2][2700/3419] Elapsed 12m 7s (remain 3m 13s) Loss: 0.3555(0.5610) Grad: 12587.0254  LR: 0.00001592  \n",
      "Epoch: [2][2800/3419] Elapsed 12m 34s (remain 2m 46s) Loss: 0.5258(0.5604) Grad: 29249.2188  LR: 0.00001580  \n",
      "Epoch: [2][2900/3419] Elapsed 13m 1s (remain 2m 19s) Loss: 0.7350(0.5606) Grad: 63206.5898  LR: 0.00001567  \n",
      "Epoch: [2][3000/3419] Elapsed 13m 28s (remain 1m 52s) Loss: 0.6478(0.5609) Grad: 11910.9238  LR: 0.00001554  \n",
      "Epoch: [2][3100/3419] Elapsed 13m 55s (remain 1m 25s) Loss: 0.3674(0.5606) Grad: 9458.9727  LR: 0.00001542  \n",
      "Epoch: [2][3200/3419] Elapsed 14m 22s (remain 0m 58s) Loss: 0.6427(0.5607) Grad: 11572.0391  LR: 0.00001529  \n",
      "Epoch: [2][3300/3419] Elapsed 14m 49s (remain 0m 31s) Loss: 0.5197(0.5601) Grad: 12088.8711  LR: 0.00001516  \n",
      "Epoch: [2][3400/3419] Elapsed 15m 16s (remain 0m 4s) Loss: 0.8738(0.5601) Grad: 109240.6016  LR: 0.00001502  \n",
      "Epoch: [2][3418/3419] Elapsed 15m 21s (remain 0m 0s) Loss: 0.5226(0.5603) Grad: 9009.9092  LR: 0.00001500  \n"
     ]
    },
    {
     "name": "stderr",
     "output_type": "stream",
     "text": [
      "[W pthreadpool-cpp.cc:90] Warning: Leaking Caffe2 thread-pool after fork. (function pthreadpool)\n",
      "[W pthreadpool-cpp.cc:90] Warning: Leaking Caffe2 thread-pool after fork. (function pthreadpool)\n",
      "[W pthreadpool-cpp.cc:90] Warning: Leaking Caffe2 thread-pool after fork. (function pthreadpool)\n",
      "[W pthreadpool-cpp.cc:90] Warning: Leaking Caffe2 thread-pool after fork. (function pthreadpool)\n"
     ]
    },
    {
     "name": "stdout",
     "output_type": "stream",
     "text": [
      "EVAL: [0/1140] Elapsed 0m 0s (remain 6m 23s) Loss: 0.4817(0.4817) \n",
      "EVAL: [100/1140] Elapsed 0m 11s (remain 2m 0s) Loss: 0.6991(0.5469) \n",
      "EVAL: [200/1140] Elapsed 0m 23s (remain 1m 47s) Loss: 0.6515(0.5464) \n",
      "EVAL: [300/1140] Elapsed 0m 34s (remain 1m 35s) Loss: 0.5683(0.5557) \n",
      "EVAL: [400/1140] Elapsed 0m 45s (remain 1m 24s) Loss: 0.5001(0.5602) \n",
      "EVAL: [500/1140] Elapsed 0m 57s (remain 1m 12s) Loss: 0.4732(0.5563) \n",
      "EVAL: [600/1140] Elapsed 1m 8s (remain 1m 1s) Loss: 0.2998(0.5576) \n",
      "EVAL: [700/1140] Elapsed 1m 19s (remain 0m 49s) Loss: 0.5428(0.5577) \n",
      "EVAL: [800/1140] Elapsed 1m 31s (remain 0m 38s) Loss: 0.2492(0.5581) \n",
      "EVAL: [900/1140] Elapsed 1m 42s (remain 0m 27s) Loss: 0.6139(0.5576) \n",
      "EVAL: [1000/1140] Elapsed 1m 53s (remain 0m 15s) Loss: 0.4852(0.5569) \n",
      "EVAL: [1100/1140] Elapsed 2m 5s (remain 0m 4s) Loss: 0.6424(0.5555) \n"
     ]
    },
    {
     "name": "stderr",
     "output_type": "stream",
     "text": [
      "Epoch 2 - avg_train_loss: 0.5603  avg_val_loss: 0.5561  time: 1051s\n",
      "Epoch 2 - Score: 0.8015\n",
      "Epoch 2 - Save Best Score: 0.8015 Model\n"
     ]
    },
    {
     "name": "stdout",
     "output_type": "stream",
     "text": [
      "EVAL: [1139/1140] Elapsed 2m 9s (remain 0m 0s) Loss: 0.4571(0.5561) \n"
     ]
    },
    {
     "name": "stderr",
     "output_type": "stream",
     "text": [
      "[W pthreadpool-cpp.cc:90] Warning: Leaking Caffe2 thread-pool after fork. (function pthreadpool)\n",
      "[W pthreadpool-cpp.cc:90] Warning: Leaking Caffe2 thread-pool after fork. (function pthreadpool)\n",
      "[W pthreadpool-cpp.cc:90] Warning: Leaking Caffe2 thread-pool after fork. (function pthreadpool)\n",
      "[W pthreadpool-cpp.cc:90] Warning: Leaking Caffe2 thread-pool after fork. (function pthreadpool)\n"
     ]
    },
    {
     "name": "stdout",
     "output_type": "stream",
     "text": [
      "Epoch: [3][0/3419] Elapsed 0m 0s (remain 44m 28s) Loss: 0.5106(0.5106) Grad: 45547.5664  LR: 0.00001500  \n",
      "Epoch: [3][100/3419] Elapsed 0m 27s (remain 15m 6s) Loss: 0.4820(0.5390) Grad: 13710.6943  LR: 0.00001487  \n",
      "Epoch: [3][200/3419] Elapsed 0m 54s (remain 14m 32s) Loss: 0.6273(0.5429) Grad: 22844.9395  LR: 0.00001473  \n",
      "Epoch: [3][300/3419] Elapsed 1m 21s (remain 14m 3s) Loss: 0.5101(0.5422) Grad: 9842.7188  LR: 0.00001460  \n",
      "Epoch: [3][400/3419] Elapsed 1m 48s (remain 13m 35s) Loss: 0.3602(0.5433) Grad: 12429.0410  LR: 0.00001446  \n",
      "Epoch: [3][500/3419] Elapsed 2m 15s (remain 13m 8s) Loss: 0.5857(0.5445) Grad: 9073.8359  LR: 0.00001432  \n",
      "Epoch: [3][600/3419] Elapsed 2m 42s (remain 12m 40s) Loss: 0.6325(0.5451) Grad: 10295.0488  LR: 0.00001418  \n",
      "Epoch: [3][700/3419] Elapsed 3m 9s (remain 12m 13s) Loss: 0.5700(0.5451) Grad: 8807.3604  LR: 0.00001404  \n",
      "Epoch: [3][800/3419] Elapsed 3m 36s (remain 11m 46s) Loss: 0.3962(0.5451) Grad: 18553.8223  LR: 0.00001390  \n",
      "Epoch: [3][900/3419] Elapsed 4m 3s (remain 11m 19s) Loss: 0.5662(0.5464) Grad: 6467.5410  LR: 0.00001376  \n",
      "Epoch: [3][1000/3419] Elapsed 4m 30s (remain 10m 52s) Loss: 0.4366(0.5475) Grad: 15210.0244  LR: 0.00001362  \n",
      "Epoch: [3][1100/3419] Elapsed 4m 56s (remain 10m 25s) Loss: 0.5662(0.5480) Grad: 21319.3496  LR: 0.00001348  \n",
      "Epoch: [3][1200/3419] Elapsed 5m 23s (remain 9m 58s) Loss: 0.5186(0.5487) Grad: 10573.0889  LR: 0.00001333  \n",
      "Epoch: [3][1300/3419] Elapsed 5m 50s (remain 9m 31s) Loss: 0.4932(0.5488) Grad: 12249.7842  LR: 0.00001319  \n",
      "Epoch: [3][1400/3419] Elapsed 6m 17s (remain 9m 4s) Loss: 0.4970(0.5482) Grad: 20626.6641  LR: 0.00001304  \n",
      "Epoch: [3][1500/3419] Elapsed 6m 44s (remain 8m 37s) Loss: 0.5349(0.5485) Grad: 4773.3428  LR: 0.00001290  \n",
      "Epoch: [3][1600/3419] Elapsed 7m 11s (remain 8m 10s) Loss: 0.5845(0.5478) Grad: 13508.4580  LR: 0.00001275  \n",
      "Epoch: [3][1700/3419] Elapsed 7m 38s (remain 7m 43s) Loss: 0.6338(0.5484) Grad: 7738.0405  LR: 0.00001260  \n",
      "Epoch: [3][1800/3419] Elapsed 8m 5s (remain 7m 16s) Loss: 0.3268(0.5491) Grad: 11732.6543  LR: 0.00001245  \n",
      "Epoch: [3][1900/3419] Elapsed 8m 32s (remain 6m 49s) Loss: 0.4128(0.5492) Grad: 3135.1025  LR: 0.00001231  \n",
      "Epoch: [3][2000/3419] Elapsed 8m 59s (remain 6m 22s) Loss: 0.4813(0.5488) Grad: 7512.4062  LR: 0.00001216  \n",
      "Epoch: [3][2100/3419] Elapsed 9m 26s (remain 5m 55s) Loss: 0.6715(0.5492) Grad: 55350.5234  LR: 0.00001201  \n",
      "Epoch: [3][2200/3419] Elapsed 9m 53s (remain 5m 28s) Loss: 0.3248(0.5494) Grad: 7744.5527  LR: 0.00001186  \n",
      "Epoch: [3][2300/3419] Elapsed 10m 20s (remain 5m 1s) Loss: 0.6267(0.5491) Grad: 49793.3086  LR: 0.00001171  \n",
      "Epoch: [3][2400/3419] Elapsed 10m 47s (remain 4m 34s) Loss: 0.6399(0.5493) Grad: 24551.1836  LR: 0.00001155  \n",
      "Epoch: [3][2500/3419] Elapsed 11m 14s (remain 4m 7s) Loss: 0.5107(0.5492) Grad: 28443.3418  LR: 0.00001140  \n",
      "Epoch: [3][2600/3419] Elapsed 11m 41s (remain 3m 40s) Loss: 0.6867(0.5490) Grad: 35133.2031  LR: 0.00001125  \n",
      "Epoch: [3][2700/3419] Elapsed 12m 8s (remain 3m 13s) Loss: 0.5578(0.5485) Grad: 23866.0859  LR: 0.00001110  \n",
      "Epoch: [3][2800/3419] Elapsed 12m 35s (remain 2m 46s) Loss: 0.5056(0.5485) Grad: 16947.6758  LR: 0.00001095  \n",
      "Epoch: [3][2900/3419] Elapsed 13m 2s (remain 2m 19s) Loss: 0.5791(0.5487) Grad: 42593.7109  LR: 0.00001079  \n",
      "Epoch: [3][3000/3419] Elapsed 13m 29s (remain 1m 52s) Loss: 0.5463(0.5483) Grad: 16055.6836  LR: 0.00001064  \n",
      "Epoch: [3][3100/3419] Elapsed 13m 56s (remain 1m 25s) Loss: 0.7026(0.5480) Grad: 47281.3164  LR: 0.00001049  \n",
      "Epoch: [3][3200/3419] Elapsed 14m 22s (remain 0m 58s) Loss: 0.6880(0.5478) Grad: 23327.8379  LR: 0.00001034  \n",
      "Epoch: [3][3300/3419] Elapsed 14m 50s (remain 0m 31s) Loss: 0.6926(0.5470) Grad: 23669.3945  LR: 0.00001018  \n",
      "Epoch: [3][3400/3419] Elapsed 15m 17s (remain 0m 4s) Loss: 0.5573(0.5473) Grad: 58548.4648  LR: 0.00001003  \n"
     ]
    },
    {
     "name": "stderr",
     "output_type": "stream",
     "text": [
      "[W pthreadpool-cpp.cc:90] Warning: Leaking Caffe2 thread-pool after fork. (function pthreadpool)\n"
     ]
    },
    {
     "name": "stdout",
     "output_type": "stream",
     "text": [
      "Epoch: [3][3418/3419] Elapsed 15m 21s (remain 0m 0s) Loss: 0.4596(0.5472) Grad: 16408.1738  LR: 0.00001000  \n"
     ]
    },
    {
     "name": "stderr",
     "output_type": "stream",
     "text": [
      "[W pthreadpool-cpp.cc:90] Warning: Leaking Caffe2 thread-pool after fork. (function pthreadpool)\n",
      "[W pthreadpool-cpp.cc:90] Warning: Leaking Caffe2 thread-pool after fork. (function pthreadpool)\n",
      "[W pthreadpool-cpp.cc:90] Warning: Leaking Caffe2 thread-pool after fork. (function pthreadpool)\n",
      "[W pthreadpool-cpp.cc:90] Warning: Leaking Caffe2 thread-pool after fork. (function pthreadpool)\n"
     ]
    },
    {
     "name": "stdout",
     "output_type": "stream",
     "text": [
      "EVAL: [0/1140] Elapsed 0m 0s (remain 6m 25s) Loss: 0.4820(0.4820) \n",
      "EVAL: [100/1140] Elapsed 0m 11s (remain 2m 1s) Loss: 0.6923(0.5461) \n",
      "EVAL: [200/1140] Elapsed 0m 23s (remain 1m 48s) Loss: 0.6489(0.5437) \n",
      "EVAL: [300/1140] Elapsed 0m 34s (remain 1m 36s) Loss: 0.5851(0.5510) \n",
      "EVAL: [400/1140] Elapsed 0m 45s (remain 1m 24s) Loss: 0.4865(0.5554) \n",
      "EVAL: [500/1140] Elapsed 0m 57s (remain 1m 13s) Loss: 0.4739(0.5521) \n",
      "EVAL: [600/1140] Elapsed 1m 8s (remain 1m 1s) Loss: 0.2718(0.5540) \n",
      "EVAL: [700/1140] Elapsed 1m 20s (remain 0m 50s) Loss: 0.5925(0.5541) \n",
      "EVAL: [800/1140] Elapsed 1m 31s (remain 0m 38s) Loss: 0.2419(0.5544) \n",
      "EVAL: [900/1140] Elapsed 1m 42s (remain 0m 27s) Loss: 0.6155(0.5541) \n",
      "EVAL: [1000/1140] Elapsed 1m 54s (remain 0m 15s) Loss: 0.4681(0.5534) \n",
      "EVAL: [1100/1140] Elapsed 2m 5s (remain 0m 4s) Loss: 0.6484(0.5518) \n"
     ]
    },
    {
     "name": "stderr",
     "output_type": "stream",
     "text": [
      "Epoch 3 - avg_train_loss: 0.5472  avg_val_loss: 0.5523  time: 1052s\n",
      "Epoch 3 - Score: 0.8104\n",
      "Epoch 3 - Save Best Score: 0.8104 Model\n"
     ]
    },
    {
     "name": "stdout",
     "output_type": "stream",
     "text": [
      "EVAL: [1139/1140] Elapsed 2m 10s (remain 0m 0s) Loss: 0.4519(0.5523) \n"
     ]
    },
    {
     "name": "stderr",
     "output_type": "stream",
     "text": [
      "[W pthreadpool-cpp.cc:90] Warning: Leaking Caffe2 thread-pool after fork. (function pthreadpool)\n",
      "[W pthreadpool-cpp.cc:90] Warning: Leaking Caffe2 thread-pool after fork. (function pthreadpool)\n",
      "[W pthreadpool-cpp.cc:90] Warning: Leaking Caffe2 thread-pool after fork. (function pthreadpool)\n",
      "[W pthreadpool-cpp.cc:90] Warning: Leaking Caffe2 thread-pool after fork. (function pthreadpool)\n"
     ]
    },
    {
     "name": "stdout",
     "output_type": "stream",
     "text": [
      "Epoch: [4][0/3419] Elapsed 0m 0s (remain 45m 57s) Loss: 0.4920(0.4920) Grad: 21605.1191  LR: 0.00001000  \n",
      "Epoch: [4][100/3419] Elapsed 0m 27s (remain 15m 8s) Loss: 0.5176(0.5270) Grad: 9496.6045  LR: 0.00000985  \n",
      "Epoch: [4][200/3419] Elapsed 0m 54s (remain 14m 34s) Loss: 0.5689(0.5333) Grad: 7333.4883  LR: 0.00000969  \n",
      "Epoch: [4][300/3419] Elapsed 1m 21s (remain 14m 5s) Loss: 0.3659(0.5394) Grad: 17144.2930  LR: 0.00000954  \n",
      "Epoch: [4][400/3419] Elapsed 1m 48s (remain 13m 36s) Loss: 0.5970(0.5416) Grad: 17760.5938  LR: 0.00000939  \n",
      "Epoch: [4][500/3419] Elapsed 2m 15s (remain 13m 9s) Loss: 0.4886(0.5411) Grad: 10140.3789  LR: 0.00000924  \n",
      "Epoch: [4][600/3419] Elapsed 2m 42s (remain 12m 41s) Loss: 0.4196(0.5423) Grad: 8681.3350  LR: 0.00000908  \n",
      "Epoch: [4][700/3419] Elapsed 3m 9s (remain 12m 14s) Loss: 0.5718(0.5422) Grad: 12804.9062  LR: 0.00000893  \n",
      "Epoch: [4][800/3419] Elapsed 3m 36s (remain 11m 47s) Loss: 0.3527(0.5438) Grad: 11840.5146  LR: 0.00000878  \n",
      "Epoch: [4][900/3419] Elapsed 4m 3s (remain 11m 20s) Loss: 0.5729(0.5443) Grad: 52205.1992  LR: 0.00000863  \n",
      "Epoch: [4][1000/3419] Elapsed 4m 30s (remain 10m 52s) Loss: 0.4971(0.5425) Grad: 10348.3174  LR: 0.00000847  \n",
      "Epoch: [4][1100/3419] Elapsed 4m 57s (remain 10m 25s) Loss: 0.5418(0.5422) Grad: 7615.6724  LR: 0.00000832  \n",
      "Epoch: [4][1200/3419] Elapsed 5m 24s (remain 9m 58s) Loss: 0.5745(0.5421) Grad: 20288.0527  LR: 0.00000817  \n",
      "Epoch: [4][1300/3419] Elapsed 5m 51s (remain 9m 31s) Loss: 0.4670(0.5425) Grad: 8770.8779  LR: 0.00000802  \n",
      "Epoch: [4][1400/3419] Elapsed 6m 18s (remain 9m 4s) Loss: 0.4963(0.5423) Grad: 38246.9883  LR: 0.00000787  \n",
      "Epoch: [4][1500/3419] Elapsed 6m 45s (remain 8m 37s) Loss: 0.9222(0.5437) Grad: 42305.6406  LR: 0.00000772  \n",
      "Epoch: [4][1600/3419] Elapsed 7m 12s (remain 8m 10s) Loss: 0.4800(0.5434) Grad: 40446.4688  LR: 0.00000757  \n",
      "Epoch: [4][1700/3419] Elapsed 7m 39s (remain 7m 43s) Loss: 0.6822(0.5441) Grad: 8258.1016  LR: 0.00000743  \n",
      "Epoch: [4][1800/3419] Elapsed 8m 6s (remain 7m 16s) Loss: 0.6886(0.5438) Grad: 33352.0898  LR: 0.00000728  \n",
      "Epoch: [4][1900/3419] Elapsed 8m 33s (remain 6m 49s) Loss: 0.6307(0.5428) Grad: 42908.9062  LR: 0.00000713  \n",
      "Epoch: [4][2000/3419] Elapsed 9m 0s (remain 6m 22s) Loss: 0.5504(0.5419) Grad: 16769.7441  LR: 0.00000699  \n",
      "Epoch: [4][2100/3419] Elapsed 9m 27s (remain 5m 55s) Loss: 0.4356(0.5410) Grad: 40724.8008  LR: 0.00000684  \n",
      "Epoch: [4][2200/3419] Elapsed 9m 54s (remain 5m 28s) Loss: 0.5555(0.5408) Grad: 11475.8818  LR: 0.00000669  \n",
      "Epoch: [4][2300/3419] Elapsed 10m 20s (remain 5m 1s) Loss: 0.7912(0.5412) Grad: 72758.0078  LR: 0.00000655  \n",
      "Epoch: [4][2400/3419] Elapsed 10m 47s (remain 4m 34s) Loss: 0.5281(0.5416) Grad: 13895.3369  LR: 0.00000641  \n",
      "Epoch: [4][2500/3419] Elapsed 11m 14s (remain 4m 7s) Loss: 0.4596(0.5409) Grad: 27003.0645  LR: 0.00000626  \n",
      "Epoch: [4][2600/3419] Elapsed 11m 41s (remain 3m 40s) Loss: 0.5277(0.5408) Grad: 18083.6934  LR: 0.00000612  \n",
      "Epoch: [4][2700/3419] Elapsed 12m 8s (remain 3m 13s) Loss: 0.6415(0.5407) Grad: 16551.2441  LR: 0.00000598  \n",
      "Epoch: [4][2800/3419] Elapsed 12m 35s (remain 2m 46s) Loss: 0.5405(0.5406) Grad: 3021.4331  LR: 0.00000584  \n",
      "Epoch: [4][2900/3419] Elapsed 13m 2s (remain 2m 19s) Loss: 0.4057(0.5399) Grad: 18570.4824  LR: 0.00000570  \n",
      "Epoch: [4][3000/3419] Elapsed 13m 29s (remain 1m 52s) Loss: 0.5655(0.5403) Grad: 7837.7568  LR: 0.00000557  \n",
      "Epoch: [4][3100/3419] Elapsed 13m 56s (remain 1m 25s) Loss: 0.6564(0.5403) Grad: 4435.9355  LR: 0.00000543  \n",
      "Epoch: [4][3200/3419] Elapsed 14m 23s (remain 0m 58s) Loss: 0.6997(0.5402) Grad: 11230.8877  LR: 0.00000529  \n",
      "Epoch: [4][3300/3419] Elapsed 14m 50s (remain 0m 31s) Loss: 0.6628(0.5402) Grad: 12179.9561  LR: 0.00000516  \n",
      "Epoch: [4][3400/3419] Elapsed 15m 17s (remain 0m 4s) Loss: 0.6270(0.5404) Grad: 29447.0781  LR: 0.00000503  \n"
     ]
    },
    {
     "name": "stderr",
     "output_type": "stream",
     "text": [
      "[W pthreadpool-cpp.cc:90] Warning: Leaking Caffe2 thread-pool after fork. (function pthreadpool)\n",
      "[W pthreadpool-cpp.cc:90] Warning: Leaking Caffe2 thread-pool after fork. (function pthreadpool)\n"
     ]
    },
    {
     "name": "stdout",
     "output_type": "stream",
     "text": [
      "Epoch: [4][3418/3419] Elapsed 15m 22s (remain 0m 0s) Loss: 0.6295(0.5405) Grad: 14365.5869  LR: 0.00000500  \n"
     ]
    },
    {
     "name": "stderr",
     "output_type": "stream",
     "text": [
      "[W pthreadpool-cpp.cc:90] Warning: Leaking Caffe2 thread-pool after fork. (function pthreadpool)\n",
      "[W pthreadpool-cpp.cc:90] Warning: Leaking Caffe2 thread-pool after fork. (function pthreadpool)\n",
      "[W pthreadpool-cpp.cc:90] Warning: Leaking Caffe2 thread-pool after fork. (function pthreadpool)\n",
      "[W pthreadpool-cpp.cc:90] Warning: Leaking Caffe2 thread-pool after fork. (function pthreadpool)\n"
     ]
    },
    {
     "name": "stdout",
     "output_type": "stream",
     "text": [
      "EVAL: [0/1140] Elapsed 0m 0s (remain 6m 26s) Loss: 0.4816(0.4816) \n",
      "EVAL: [100/1140] Elapsed 0m 11s (remain 2m 1s) Loss: 0.6983(0.5414) \n",
      "EVAL: [200/1140] Elapsed 0m 23s (remain 1m 49s) Loss: 0.6481(0.5417) \n",
      "EVAL: [300/1140] Elapsed 0m 34s (remain 1m 37s) Loss: 0.5868(0.5498) \n",
      "EVAL: [400/1140] Elapsed 0m 46s (remain 1m 25s) Loss: 0.4846(0.5538) \n",
      "EVAL: [500/1140] Elapsed 0m 57s (remain 1m 13s) Loss: 0.4683(0.5508) \n",
      "EVAL: [600/1140] Elapsed 1m 9s (remain 1m 1s) Loss: 0.2677(0.5524) \n",
      "EVAL: [700/1140] Elapsed 1m 20s (remain 0m 50s) Loss: 0.5801(0.5526) \n",
      "EVAL: [800/1140] Elapsed 1m 31s (remain 0m 38s) Loss: 0.2389(0.5531) \n",
      "EVAL: [900/1140] Elapsed 1m 43s (remain 0m 27s) Loss: 0.5856(0.5527) \n",
      "EVAL: [1000/1140] Elapsed 1m 54s (remain 0m 15s) Loss: 0.4687(0.5521) \n",
      "EVAL: [1100/1140] Elapsed 2m 6s (remain 0m 4s) Loss: 0.6432(0.5503) \n"
     ]
    },
    {
     "name": "stderr",
     "output_type": "stream",
     "text": [
      "Epoch 4 - avg_train_loss: 0.5405  avg_val_loss: 0.5508  time: 1053s\n",
      "Epoch 4 - Score: 0.8177\n",
      "Epoch 4 - Save Best Score: 0.8177 Model\n"
     ]
    },
    {
     "name": "stdout",
     "output_type": "stream",
     "text": [
      "EVAL: [1139/1140] Elapsed 2m 10s (remain 0m 0s) Loss: 0.4590(0.5508) \n"
     ]
    },
    {
     "name": "stderr",
     "output_type": "stream",
     "text": [
      "[W pthreadpool-cpp.cc:90] Warning: Leaking Caffe2 thread-pool after fork. (function pthreadpool)\n",
      "[W pthreadpool-cpp.cc:90] Warning: Leaking Caffe2 thread-pool after fork. (function pthreadpool)\n",
      "[W pthreadpool-cpp.cc:90] Warning: Leaking Caffe2 thread-pool after fork. (function pthreadpool)\n",
      "[W pthreadpool-cpp.cc:90] Warning: Leaking Caffe2 thread-pool after fork. (function pthreadpool)\n"
     ]
    },
    {
     "name": "stdout",
     "output_type": "stream",
     "text": [
      "Epoch: [5][0/3419] Elapsed 0m 0s (remain 38m 45s) Loss: 0.4942(0.4942) Grad: 17392.0449  LR: 0.00000500  \n",
      "Epoch: [5][100/3419] Elapsed 0m 27s (remain 15m 6s) Loss: 0.3881(0.5293) Grad: 32989.4375  LR: 0.00000487  \n",
      "Epoch: [5][200/3419] Elapsed 0m 54s (remain 14m 31s) Loss: 0.5046(0.5376) Grad: 10757.8174  LR: 0.00000474  \n",
      "Epoch: [5][300/3419] Elapsed 1m 21s (remain 14m 2s) Loss: 0.4624(0.5399) Grad: 11225.3730  LR: 0.00000461  \n",
      "Epoch: [5][400/3419] Elapsed 1m 48s (remain 13m 35s) Loss: 0.4872(0.5387) Grad: 11731.8545  LR: 0.00000448  \n",
      "Epoch: [5][500/3419] Elapsed 2m 15s (remain 13m 7s) Loss: 0.5023(0.5350) Grad: 12064.0938  LR: 0.00000435  \n",
      "Epoch: [5][600/3419] Elapsed 2m 42s (remain 12m 40s) Loss: 0.5699(0.5355) Grad: 14532.3125  LR: 0.00000423  \n",
      "Epoch: [5][700/3419] Elapsed 3m 9s (remain 12m 13s) Loss: 0.4537(0.5340) Grad: 9658.0107  LR: 0.00000410  \n",
      "Epoch: [5][800/3419] Elapsed 3m 36s (remain 11m 46s) Loss: 0.5744(0.5361) Grad: 17460.2480  LR: 0.00000398  \n",
      "Epoch: [5][900/3419] Elapsed 4m 3s (remain 11m 19s) Loss: 0.3582(0.5347) Grad: 17657.7910  LR: 0.00000386  \n",
      "Epoch: [5][1000/3419] Elapsed 4m 29s (remain 10m 52s) Loss: 0.6120(0.5350) Grad: 8685.5088  LR: 0.00000374  \n",
      "Epoch: [5][1100/3419] Elapsed 4m 56s (remain 10m 25s) Loss: 0.4894(0.5347) Grad: 13465.3438  LR: 0.00000362  \n",
      "Epoch: [5][1200/3419] Elapsed 5m 23s (remain 9m 58s) Loss: 0.4681(0.5355) Grad: 8171.6099  LR: 0.00000350  \n",
      "Epoch: [5][1300/3419] Elapsed 5m 50s (remain 9m 31s) Loss: 0.5257(0.5345) Grad: 7216.6270  LR: 0.00000339  \n",
      "Epoch: [5][1400/3419] Elapsed 6m 17s (remain 9m 4s) Loss: 0.3415(0.5345) Grad: 9526.5068  LR: 0.00000327  \n",
      "Epoch: [5][1500/3419] Elapsed 6m 44s (remain 8m 37s) Loss: 0.4310(0.5342) Grad: 20381.7676  LR: 0.00000316  \n",
      "Epoch: [5][1600/3419] Elapsed 7m 11s (remain 8m 10s) Loss: 0.3577(0.5337) Grad: 14291.7754  LR: 0.00000305  \n",
      "Epoch: [5][1700/3419] Elapsed 7m 38s (remain 7m 43s) Loss: 0.3613(0.5349) Grad: 6974.2471  LR: 0.00000294  \n",
      "Epoch: [5][1800/3419] Elapsed 8m 5s (remain 7m 16s) Loss: 0.6037(0.5358) Grad: 4229.2129  LR: 0.00000283  \n",
      "Epoch: [5][1900/3419] Elapsed 8m 32s (remain 6m 49s) Loss: 0.6196(0.5359) Grad: 3420.9602  LR: 0.00000273  \n",
      "Epoch: [5][2000/3419] Elapsed 8m 59s (remain 6m 22s) Loss: 0.4333(0.5361) Grad: 10237.0059  LR: 0.00000262  \n",
      "Epoch: [5][2100/3419] Elapsed 9m 26s (remain 5m 55s) Loss: 0.5817(0.5365) Grad: 1783.1967  LR: 0.00000252  \n",
      "Epoch: [5][2200/3419] Elapsed 9m 53s (remain 5m 28s) Loss: 0.5947(0.5361) Grad: 23338.0137  LR: 0.00000242  \n",
      "Epoch: [5][2300/3419] Elapsed 10m 20s (remain 5m 1s) Loss: 0.5099(0.5356) Grad: 6408.0894  LR: 0.00000232  \n",
      "Epoch: [5][2400/3419] Elapsed 10m 47s (remain 4m 34s) Loss: 0.5694(0.5360) Grad: 8596.0566  LR: 0.00000222  \n",
      "Epoch: [5][2500/3419] Elapsed 11m 14s (remain 4m 7s) Loss: 0.5036(0.5363) Grad: 21176.7012  LR: 0.00000213  \n",
      "Epoch: [5][2600/3419] Elapsed 11m 41s (remain 3m 40s) Loss: 0.4155(0.5362) Grad: 8389.9033  LR: 0.00000203  \n",
      "Epoch: [5][2700/3419] Elapsed 12m 8s (remain 3m 13s) Loss: 0.6307(0.5364) Grad: 37752.3477  LR: 0.00000194  \n",
      "Epoch: [5][2800/3419] Elapsed 12m 35s (remain 2m 46s) Loss: 0.5817(0.5356) Grad: 15435.7773  LR: 0.00000185  \n",
      "Epoch: [5][2900/3419] Elapsed 13m 2s (remain 2m 19s) Loss: 0.4383(0.5354) Grad: 9756.5664  LR: 0.00000176  \n",
      "Epoch: [5][3000/3419] Elapsed 13m 29s (remain 1m 52s) Loss: 0.2129(0.5353) Grad: 15797.1182  LR: 0.00000168  \n",
      "Epoch: [5][3100/3419] Elapsed 13m 56s (remain 1m 25s) Loss: 0.5916(0.5352) Grad: 22418.9551  LR: 0.00000159  \n",
      "Epoch: [5][3200/3419] Elapsed 14m 23s (remain 0m 58s) Loss: 0.5984(0.5350) Grad: 6388.2310  LR: 0.00000151  \n",
      "Epoch: [5][3300/3419] Elapsed 14m 50s (remain 0m 31s) Loss: 0.5659(0.5351) Grad: 14915.9180  LR: 0.00000143  \n",
      "Epoch: [5][3400/3419] Elapsed 15m 17s (remain 0m 4s) Loss: 0.5249(0.5351) Grad: 13090.1699  LR: 0.00000135  \n",
      "Epoch: [5][3418/3419] Elapsed 15m 22s (remain 0m 0s) Loss: 0.5836(0.5352) Grad: 11979.1348  LR: 0.00000134  \n"
     ]
    },
    {
     "name": "stderr",
     "output_type": "stream",
     "text": [
      "[W pthreadpool-cpp.cc:90] Warning: Leaking Caffe2 thread-pool after fork. (function pthreadpool)\n",
      "[W pthreadpool-cpp.cc:90] Warning: Leaking Caffe2 thread-pool after fork. (function pthreadpool)\n",
      "[W pthreadpool-cpp.cc:90] Warning: Leaking Caffe2 thread-pool after fork. (function pthreadpool)\n",
      "[W pthreadpool-cpp.cc:90] Warning: Leaking Caffe2 thread-pool after fork. (function pthreadpool)\n"
     ]
    },
    {
     "name": "stdout",
     "output_type": "stream",
     "text": [
      "EVAL: [0/1140] Elapsed 0m 0s (remain 6m 23s) Loss: 0.4922(0.4922) \n",
      "EVAL: [100/1140] Elapsed 0m 11s (remain 2m 0s) Loss: 0.7097(0.5443) \n",
      "EVAL: [200/1140] Elapsed 0m 23s (remain 1m 47s) Loss: 0.6470(0.5436) \n",
      "EVAL: [300/1140] Elapsed 0m 34s (remain 1m 35s) Loss: 0.5824(0.5515) \n",
      "EVAL: [400/1140] Elapsed 0m 45s (remain 1m 24s) Loss: 0.4835(0.5570) \n",
      "EVAL: [500/1140] Elapsed 0m 57s (remain 1m 12s) Loss: 0.4704(0.5537) \n",
      "EVAL: [600/1140] Elapsed 1m 8s (remain 1m 1s) Loss: 0.2659(0.5551) \n",
      "EVAL: [700/1140] Elapsed 1m 19s (remain 0m 50s) Loss: 0.5947(0.5549) \n",
      "EVAL: [800/1140] Elapsed 1m 31s (remain 0m 38s) Loss: 0.2373(0.5547) \n",
      "EVAL: [900/1140] Elapsed 1m 42s (remain 0m 27s) Loss: 0.5788(0.5543) \n",
      "EVAL: [1000/1140] Elapsed 1m 54s (remain 0m 15s) Loss: 0.4663(0.5536) \n",
      "EVAL: [1100/1140] Elapsed 2m 5s (remain 0m 4s) Loss: 0.6448(0.5519) \n"
     ]
    },
    {
     "name": "stderr",
     "output_type": "stream",
     "text": [
      "Epoch 5 - avg_train_loss: 0.5352  avg_val_loss: 0.5524  time: 1052s\n",
      "Epoch 5 - Score: 0.8173\n"
     ]
    },
    {
     "name": "stdout",
     "output_type": "stream",
     "text": [
      "EVAL: [1139/1140] Elapsed 2m 9s (remain 0m 0s) Loss: 0.4610(0.5524) \n"
     ]
    },
    {
     "name": "stderr",
     "output_type": "stream",
     "text": [
      "[W pthreadpool-cpp.cc:90] Warning: Leaking Caffe2 thread-pool after fork. (function pthreadpool)\n",
      "[W pthreadpool-cpp.cc:90] Warning: Leaking Caffe2 thread-pool after fork. (function pthreadpool)\n",
      "[W pthreadpool-cpp.cc:90] Warning: Leaking Caffe2 thread-pool after fork. (function pthreadpool)\n",
      "[W pthreadpool-cpp.cc:90] Warning: Leaking Caffe2 thread-pool after fork. (function pthreadpool)\n"
     ]
    },
    {
     "name": "stdout",
     "output_type": "stream",
     "text": [
      "Epoch: [6][0/3419] Elapsed 0m 0s (remain 25m 26s) Loss: 0.4835(0.4835) Grad: 64518.7656  LR: 0.00000134  \n",
      "Epoch: [6][100/3419] Elapsed 0m 27s (remain 14m 58s) Loss: 0.6664(0.5361) Grad: 12896.2744  LR: 0.00000126  \n",
      "Epoch: [6][200/3419] Elapsed 0m 54s (remain 14m 28s) Loss: 0.5654(0.5334) Grad: 29444.1777  LR: 0.00000119  \n",
      "Epoch: [6][300/3419] Elapsed 1m 21s (remain 14m 0s) Loss: 0.5144(0.5427) Grad: 15293.3428  LR: 0.00000112  \n",
      "Epoch: [6][400/3419] Elapsed 1m 48s (remain 13m 33s) Loss: 0.6282(0.5402) Grad: 19413.6094  LR: 0.00000105  \n",
      "Epoch: [6][500/3419] Elapsed 2m 15s (remain 13m 6s) Loss: 0.4848(0.5386) Grad: 5718.6611  LR: 0.00000098  \n",
      "Epoch: [6][600/3419] Elapsed 2m 42s (remain 12m 39s) Loss: 0.4649(0.5342) Grad: 9295.3193  LR: 0.00000092  \n",
      "Epoch: [6][700/3419] Elapsed 3m 8s (remain 12m 12s) Loss: 0.5534(0.5320) Grad: 10854.5654  LR: 0.00000085  \n",
      "Epoch: [6][800/3419] Elapsed 3m 35s (remain 11m 45s) Loss: 0.4010(0.5331) Grad: 19282.4473  LR: 0.00000079  \n",
      "Epoch: [6][900/3419] Elapsed 4m 2s (remain 11m 18s) Loss: 0.5137(0.5336) Grad: 11459.8740  LR: 0.00000074  \n",
      "Epoch: [6][1000/3419] Elapsed 4m 29s (remain 10m 51s) Loss: 0.5901(0.5325) Grad: 69497.6094  LR: 0.00000068  \n",
      "Epoch: [6][1100/3419] Elapsed 4m 56s (remain 10m 24s) Loss: 0.5641(0.5306) Grad: 12539.9512  LR: 0.00000062  \n",
      "Epoch: [6][1200/3419] Elapsed 5m 23s (remain 9m 57s) Loss: 0.5563(0.5314) Grad: 18306.7148  LR: 0.00000057  \n",
      "Epoch: [6][1300/3419] Elapsed 5m 50s (remain 9m 30s) Loss: 0.5920(0.5310) Grad: 195360.8750  LR: 0.00000052  \n",
      "Epoch: [6][1400/3419] Elapsed 6m 17s (remain 9m 3s) Loss: 0.7739(0.5315) Grad: 28950.9629  LR: 0.00000047  \n",
      "Epoch: [6][1500/3419] Elapsed 6m 44s (remain 8m 36s) Loss: 0.7998(0.5317) Grad: 80931.4453  LR: 0.00000043  \n",
      "Epoch: [6][1600/3419] Elapsed 7m 11s (remain 8m 9s) Loss: 0.5829(0.5315) Grad: 58117.4062  LR: 0.00000039  \n",
      "Epoch: [6][1700/3419] Elapsed 7m 38s (remain 7m 42s) Loss: 0.5107(0.5324) Grad: 5414.9048  LR: 0.00000034  \n",
      "Epoch: [6][1800/3419] Elapsed 8m 5s (remain 7m 15s) Loss: 0.4494(0.5320) Grad: 32280.8594  LR: 0.00000031  \n",
      "Epoch: [6][1900/3419] Elapsed 8m 32s (remain 6m 48s) Loss: 0.6412(0.5315) Grad: 46547.4961  LR: 0.00000027  \n",
      "Epoch: [6][2000/3419] Elapsed 8m 59s (remain 6m 22s) Loss: 0.5054(0.5327) Grad: 11565.0195  LR: 0.00000024  \n",
      "Epoch: [6][2100/3419] Elapsed 9m 25s (remain 5m 55s) Loss: 0.4275(0.5321) Grad: 5360.9976  LR: 0.00000020  \n",
      "Epoch: [6][2200/3419] Elapsed 9m 52s (remain 5m 28s) Loss: 0.5029(0.5322) Grad: 8416.0869  LR: 0.00000017  \n",
      "Epoch: [6][2300/3419] Elapsed 10m 19s (remain 5m 1s) Loss: 0.6035(0.5324) Grad: 7490.3145  LR: 0.00000015  \n",
      "Epoch: [6][2400/3419] Elapsed 10m 46s (remain 4m 34s) Loss: 0.5524(0.5325) Grad: 2267.7830  LR: 0.00000012  \n",
      "Epoch: [6][2500/3419] Elapsed 11m 13s (remain 4m 7s) Loss: 0.4081(0.5318) Grad: 7153.5234  LR: 0.00000010  \n",
      "Epoch: [6][2600/3419] Elapsed 11m 40s (remain 3m 40s) Loss: 0.6416(0.5321) Grad: 3926.5093  LR: 0.00000008  \n",
      "Epoch: [6][2700/3419] Elapsed 12m 7s (remain 3m 13s) Loss: 0.4984(0.5323) Grad: 31585.8320  LR: 0.00000006  \n",
      "Epoch: [6][2800/3419] Elapsed 12m 34s (remain 2m 46s) Loss: 0.5238(0.5324) Grad: 2253.4116  LR: 0.00000005  \n",
      "Epoch: [6][2900/3419] Elapsed 13m 1s (remain 2m 19s) Loss: 0.6775(0.5331) Grad: 19868.5312  LR: 0.00000003  \n",
      "Epoch: [6][3000/3419] Elapsed 13m 28s (remain 1m 52s) Loss: 0.4475(0.5332) Grad: 4608.4121  LR: 0.00000002  \n",
      "Epoch: [6][3100/3419] Elapsed 13m 55s (remain 1m 25s) Loss: 0.5715(0.5329) Grad: 4044.2939  LR: 0.00000001  \n",
      "Epoch: [6][3200/3419] Elapsed 14m 22s (remain 0m 58s) Loss: 0.5347(0.5332) Grad: 7507.1050  LR: 0.00000001  \n",
      "Epoch: [6][3300/3419] Elapsed 14m 49s (remain 0m 31s) Loss: 0.4393(0.5332) Grad: 5485.8081  LR: 0.00000000  \n",
      "Epoch: [6][3400/3419] Elapsed 15m 16s (remain 0m 4s) Loss: 0.6192(0.5331) Grad: 5818.9507  LR: 0.00000000  \n",
      "Epoch: [6][3418/3419] Elapsed 15m 21s (remain 0m 0s) Loss: 0.5436(0.5332) Grad: 14499.1787  LR: 0.00000000  \n"
     ]
    },
    {
     "name": "stderr",
     "output_type": "stream",
     "text": [
      "[W pthreadpool-cpp.cc:90] Warning: Leaking Caffe2 thread-pool after fork. (function pthreadpool)\n",
      "[W pthreadpool-cpp.cc:90] Warning: Leaking Caffe2 thread-pool after fork. (function pthreadpool)\n",
      "[W pthreadpool-cpp.cc:90] Warning: Leaking Caffe2 thread-pool after fork. (function pthreadpool)\n",
      "[W pthreadpool-cpp.cc:90] Warning: Leaking Caffe2 thread-pool after fork. (function pthreadpool)\n"
     ]
    },
    {
     "name": "stdout",
     "output_type": "stream",
     "text": [
      "EVAL: [0/1140] Elapsed 0m 0s (remain 6m 29s) Loss: 0.4888(0.4888) \n",
      "EVAL: [100/1140] Elapsed 0m 11s (remain 2m 0s) Loss: 0.7147(0.5459) \n",
      "EVAL: [200/1140] Elapsed 0m 23s (remain 1m 47s) Loss: 0.6474(0.5451) \n",
      "EVAL: [300/1140] Elapsed 0m 34s (remain 1m 36s) Loss: 0.5860(0.5529) \n",
      "EVAL: [400/1140] Elapsed 0m 45s (remain 1m 24s) Loss: 0.4843(0.5583) \n",
      "EVAL: [500/1140] Elapsed 0m 57s (remain 1m 12s) Loss: 0.4725(0.5551) \n",
      "EVAL: [600/1140] Elapsed 1m 8s (remain 1m 1s) Loss: 0.2664(0.5565) \n",
      "EVAL: [700/1140] Elapsed 1m 19s (remain 0m 50s) Loss: 0.5889(0.5562) \n",
      "EVAL: [800/1140] Elapsed 1m 31s (remain 0m 38s) Loss: 0.2380(0.5560) \n",
      "EVAL: [900/1140] Elapsed 1m 42s (remain 0m 27s) Loss: 0.5795(0.5556) \n",
      "EVAL: [1000/1140] Elapsed 1m 54s (remain 0m 15s) Loss: 0.4661(0.5547) \n",
      "EVAL: [1100/1140] Elapsed 2m 5s (remain 0m 4s) Loss: 0.6446(0.5530) \n"
     ]
    },
    {
     "name": "stderr",
     "output_type": "stream",
     "text": [
      "Epoch 6 - avg_train_loss: 0.5332  avg_val_loss: 0.5535  time: 1051s\n",
      "Epoch 6 - Score: 0.8181\n",
      "Epoch 6 - Save Best Score: 0.8181 Model\n"
     ]
    },
    {
     "name": "stdout",
     "output_type": "stream",
     "text": [
      "EVAL: [1139/1140] Elapsed 2m 9s (remain 0m 0s) Loss: 0.4611(0.5535) \n"
     ]
    },
    {
     "name": "stderr",
     "output_type": "stream",
     "text": [
      "========== fold: 2 result ==========\n",
      "Score: 0.8181\n",
      "========== fold: 3 training ==========\n"
     ]
    },
    {
     "name": "stdout",
     "output_type": "stream",
     "text": [
      "\u001b[38;5;40m========== fold: 3 training ==========\u001b[0m\n"
     ]
    },
    {
     "name": "stderr",
     "output_type": "stream",
     "text": [
      "Some weights of the model checkpoint at microsoft/deberta-v3-base were not used when initializing DebertaV2Model: ['mask_predictions.classifier.bias', 'mask_predictions.dense.weight', 'mask_predictions.LayerNorm.bias', 'lm_predictions.lm_head.dense.bias', 'mask_predictions.dense.bias', 'lm_predictions.lm_head.LayerNorm.weight', 'mask_predictions.classifier.weight', 'lm_predictions.lm_head.bias', 'mask_predictions.LayerNorm.weight', 'lm_predictions.lm_head.dense.weight', 'lm_predictions.lm_head.LayerNorm.bias']\n",
      "- This IS expected if you are initializing DebertaV2Model from the checkpoint of a model trained on another task or with another architecture (e.g. initializing a BertForSequenceClassification model from a BertForPreTraining model).\n",
      "- This IS NOT expected if you are initializing DebertaV2Model from the checkpoint of a model that you expect to be exactly identical (initializing a BertForSequenceClassification model from a BertForSequenceClassification model).\n",
      "[W pthreadpool-cpp.cc:90] Warning: Leaking Caffe2 thread-pool after fork. (function pthreadpool)\n",
      "[W pthreadpool-cpp.cc:90] Warning: Leaking Caffe2 thread-pool after fork. (function pthreadpool)\n",
      "[W pthreadpool-cpp.cc:90] Warning: Leaking Caffe2 thread-pool after fork. (function pthreadpool)\n",
      "[W pthreadpool-cpp.cc:90] Warning: Leaking Caffe2 thread-pool after fork. (function pthreadpool)\n"
     ]
    },
    {
     "name": "stdout",
     "output_type": "stream",
     "text": [
      "Epoch: [1][0/3419] Elapsed 0m 0s (remain 26m 46s) Loss: 0.6889(0.6889) Grad: 18018.2949  LR: 0.00002000  \n",
      "Epoch: [1][100/3419] Elapsed 0m 27s (remain 15m 1s) Loss: 0.6671(0.6654) Grad: 12188.2842  LR: 0.00002000  \n",
      "Epoch: [1][200/3419] Elapsed 0m 54s (remain 14m 28s) Loss: 0.6233(0.6625) Grad: 16826.1055  LR: 0.00002000  \n",
      "Epoch: [1][300/3419] Elapsed 1m 21s (remain 13m 59s) Loss: 0.6562(0.6588) Grad: 3574.0295  LR: 0.00001999  \n",
      "Epoch: [1][400/3419] Elapsed 1m 47s (remain 13m 32s) Loss: 0.6970(0.6583) Grad: 1795.4724  LR: 0.00001998  \n",
      "Epoch: [1][500/3419] Elapsed 2m 14s (remain 13m 5s) Loss: 0.7113(0.6567) Grad: 6721.9844  LR: 0.00001997  \n",
      "Epoch: [1][600/3419] Elapsed 2m 41s (remain 12m 38s) Loss: 0.6836(0.6540) Grad: 5626.8203  LR: 0.00001996  \n",
      "Epoch: [1][700/3419] Elapsed 3m 8s (remain 12m 11s) Loss: 0.5815(0.6498) Grad: 5472.7549  LR: 0.00001994  \n",
      "Epoch: [1][800/3419] Elapsed 3m 35s (remain 11m 44s) Loss: 0.6257(0.6444) Grad: 1945.6361  LR: 0.00001992  \n",
      "Epoch: [1][900/3419] Elapsed 4m 2s (remain 11m 17s) Loss: 0.6816(0.6408) Grad: 6187.5376  LR: 0.00001990  \n",
      "Epoch: [1][1000/3419] Elapsed 4m 29s (remain 10m 50s) Loss: 0.5756(0.6383) Grad: 13420.4004  LR: 0.00001988  \n",
      "Epoch: [1][1100/3419] Elapsed 4m 56s (remain 10m 23s) Loss: 0.7175(0.6359) Grad: 2601.0508  LR: 0.00001986  \n",
      "Epoch: [1][1200/3419] Elapsed 5m 23s (remain 9m 56s) Loss: 0.6188(0.6334) Grad: 2297.3792  LR: 0.00001983  \n",
      "Epoch: [1][1300/3419] Elapsed 5m 49s (remain 9m 29s) Loss: 0.6430(0.6316) Grad: 1855.9825  LR: 0.00001980  \n",
      "Epoch: [1][1400/3419] Elapsed 6m 16s (remain 9m 2s) Loss: 0.5618(0.6299) Grad: 1595.8932  LR: 0.00001977  \n",
      "Epoch: [1][1500/3419] Elapsed 6m 43s (remain 8m 35s) Loss: 0.7418(0.6272) Grad: 3702.1880  LR: 0.00001974  \n",
      "Epoch: [1][1600/3419] Elapsed 7m 10s (remain 8m 8s) Loss: 0.6067(0.6259) Grad: 816.8108  LR: 0.00001970  \n",
      "Epoch: [1][1700/3419] Elapsed 7m 37s (remain 7m 41s) Loss: 0.6140(0.6242) Grad: 2619.3235  LR: 0.00001966  \n",
      "Epoch: [1][1800/3419] Elapsed 8m 4s (remain 7m 15s) Loss: 0.5539(0.6229) Grad: 1719.9315  LR: 0.00001962  \n",
      "Epoch: [1][1900/3419] Elapsed 8m 31s (remain 6m 48s) Loss: 0.6216(0.6208) Grad: 3250.1538  LR: 0.00001958  \n",
      "Epoch: [1][2000/3419] Elapsed 8m 58s (remain 6m 21s) Loss: 0.6201(0.6187) Grad: 2296.9563  LR: 0.00001953  \n",
      "Epoch: [1][2100/3419] Elapsed 9m 25s (remain 5m 54s) Loss: 0.6787(0.6171) Grad: 2153.3252  LR: 0.00001949  \n",
      "Epoch: [1][2200/3419] Elapsed 9m 51s (remain 5m 27s) Loss: 0.5966(0.6156) Grad: 1474.3792  LR: 0.00001944  \n",
      "Epoch: [1][2300/3419] Elapsed 10m 18s (remain 5m 0s) Loss: 0.5816(0.6141) Grad: 3505.5352  LR: 0.00001939  \n",
      "Epoch: [1][2400/3419] Elapsed 10m 45s (remain 4m 33s) Loss: 0.6466(0.6126) Grad: 1008.6899  LR: 0.00001933  \n",
      "Epoch: [1][2500/3419] Elapsed 11m 12s (remain 4m 6s) Loss: 0.5357(0.6113) Grad: 6766.9180  LR: 0.00001928  \n",
      "Epoch: [1][2600/3419] Elapsed 11m 39s (remain 3m 40s) Loss: 0.5471(0.6102) Grad: 1837.8109  LR: 0.00001922  \n",
      "Epoch: [1][2700/3419] Elapsed 12m 6s (remain 3m 13s) Loss: 0.6106(0.6085) Grad: 3592.4175  LR: 0.00001916  \n",
      "Epoch: [1][2800/3419] Elapsed 12m 33s (remain 2m 46s) Loss: 0.6217(0.6076) Grad: 1136.0728  LR: 0.00001909  \n",
      "Epoch: [1][2900/3419] Elapsed 13m 0s (remain 2m 19s) Loss: 0.5335(0.6069) Grad: 2312.6167  LR: 0.00001903  \n",
      "Epoch: [1][3000/3419] Elapsed 13m 27s (remain 1m 52s) Loss: 0.6587(0.6054) Grad: 4906.4233  LR: 0.00001896  \n",
      "Epoch: [1][3100/3419] Elapsed 13m 53s (remain 1m 25s) Loss: 0.5518(0.6046) Grad: 5627.4673  LR: 0.00001889  \n",
      "Epoch: [1][3200/3419] Elapsed 14m 20s (remain 0m 58s) Loss: 0.4830(0.6032) Grad: 9605.9590  LR: 0.00001882  \n",
      "Epoch: [1][3300/3419] Elapsed 14m 47s (remain 0m 31s) Loss: 0.6550(0.6025) Grad: 4512.8809  LR: 0.00001875  \n",
      "Epoch: [1][3400/3419] Elapsed 15m 14s (remain 0m 4s) Loss: 0.4545(0.6016) Grad: 8970.4541  LR: 0.00001867  \n",
      "Epoch: [1][3418/3419] Elapsed 15m 19s (remain 0m 0s) Loss: 0.5969(0.6014) Grad: 4450.1406  LR: 0.00001866  \n"
     ]
    },
    {
     "name": "stderr",
     "output_type": "stream",
     "text": [
      "[W pthreadpool-cpp.cc:90] Warning: Leaking Caffe2 thread-pool after fork. (function pthreadpool)\n",
      "[W pthreadpool-cpp.cc:90] Warning: Leaking Caffe2 thread-pool after fork. (function pthreadpool)\n",
      "[W pthreadpool-cpp.cc:90] Warning: Leaking Caffe2 thread-pool after fork. (function pthreadpool)\n",
      "[W pthreadpool-cpp.cc:90] Warning: Leaking Caffe2 thread-pool after fork. (function pthreadpool)\n"
     ]
    },
    {
     "name": "stdout",
     "output_type": "stream",
     "text": [
      "EVAL: [0/1140] Elapsed 0m 0s (remain 6m 21s) Loss: 0.6468(0.6468) \n",
      "EVAL: [100/1140] Elapsed 0m 11s (remain 2m 1s) Loss: 0.6919(0.5574) \n",
      "EVAL: [200/1140] Elapsed 0m 23s (remain 1m 48s) Loss: 0.7212(0.5671) \n",
      "EVAL: [300/1140] Elapsed 0m 34s (remain 1m 36s) Loss: 0.5126(0.5646) \n",
      "EVAL: [400/1140] Elapsed 0m 46s (remain 1m 25s) Loss: 0.6321(0.5660) \n",
      "EVAL: [500/1140] Elapsed 0m 57s (remain 1m 13s) Loss: 0.6559(0.5647) \n",
      "EVAL: [600/1140] Elapsed 1m 9s (remain 1m 2s) Loss: 0.7110(0.5647) \n",
      "EVAL: [700/1140] Elapsed 1m 20s (remain 0m 50s) Loss: 0.5213(0.5639) \n",
      "EVAL: [800/1140] Elapsed 1m 31s (remain 0m 38s) Loss: 0.6280(0.5632) \n",
      "EVAL: [900/1140] Elapsed 1m 43s (remain 0m 27s) Loss: 0.8937(0.5631) \n",
      "EVAL: [1000/1140] Elapsed 1m 54s (remain 0m 15s) Loss: 0.4838(0.5636) \n",
      "EVAL: [1100/1140] Elapsed 2m 5s (remain 0m 4s) Loss: 0.6813(0.5643) \n"
     ]
    },
    {
     "name": "stderr",
     "output_type": "stream",
     "text": [
      "Epoch 1 - avg_train_loss: 0.6014  avg_val_loss: 0.5649  time: 1050s\n",
      "Epoch 1 - Score: 0.7619\n",
      "Epoch 1 - Save Best Score: 0.7619 Model\n"
     ]
    },
    {
     "name": "stdout",
     "output_type": "stream",
     "text": [
      "EVAL: [1139/1140] Elapsed 2m 10s (remain 0m 0s) Loss: 0.4895(0.5649) \n"
     ]
    },
    {
     "name": "stderr",
     "output_type": "stream",
     "text": [
      "[W pthreadpool-cpp.cc:90] Warning: Leaking Caffe2 thread-pool after fork. (function pthreadpool)\n",
      "[W pthreadpool-cpp.cc:90] Warning: Leaking Caffe2 thread-pool after fork. (function pthreadpool)\n",
      "[W pthreadpool-cpp.cc:90] Warning: Leaking Caffe2 thread-pool after fork. (function pthreadpool)\n",
      "[W pthreadpool-cpp.cc:90] Warning: Leaking Caffe2 thread-pool after fork. (function pthreadpool)\n"
     ]
    },
    {
     "name": "stdout",
     "output_type": "stream",
     "text": [
      "Epoch: [2][0/3419] Elapsed 0m 0s (remain 43m 12s) Loss: 0.6218(0.6218) Grad: 102295.2500  LR: 0.00001866  \n",
      "Epoch: [2][100/3419] Elapsed 0m 27s (remain 15m 7s) Loss: 0.5325(0.5488) Grad: 53296.3086  LR: 0.00001858  \n",
      "Epoch: [2][200/3419] Elapsed 0m 54s (remain 14m 33s) Loss: 0.6058(0.5598) Grad: 70231.1094  LR: 0.00001850  \n",
      "Epoch: [2][300/3419] Elapsed 1m 21s (remain 14m 2s) Loss: 0.6624(0.5609) Grad: 11990.3750  LR: 0.00001842  \n",
      "Epoch: [2][400/3419] Elapsed 1m 48s (remain 13m 35s) Loss: 0.6270(0.5626) Grad: 18990.7031  LR: 0.00001834  \n",
      "Epoch: [2][500/3419] Elapsed 2m 15s (remain 13m 7s) Loss: 0.5854(0.5618) Grad: 34355.7500  LR: 0.00001825  \n",
      "Epoch: [2][600/3419] Elapsed 2m 42s (remain 12m 40s) Loss: 0.4678(0.5618) Grad: 47241.4609  LR: 0.00001816  \n",
      "Epoch: [2][700/3419] Elapsed 3m 9s (remain 12m 12s) Loss: 0.4744(0.5632) Grad: 6259.9248  LR: 0.00001808  \n",
      "Epoch: [2][800/3419] Elapsed 3m 35s (remain 11m 45s) Loss: 0.6711(0.5652) Grad: 28783.7090  LR: 0.00001798  \n",
      "Epoch: [2][900/3419] Elapsed 4m 2s (remain 11m 18s) Loss: 0.5931(0.5661) Grad: 5670.3774  LR: 0.00001789  \n",
      "Epoch: [2][1000/3419] Elapsed 4m 29s (remain 10m 51s) Loss: 0.6601(0.5650) Grad: 38067.4062  LR: 0.00001780  \n",
      "Epoch: [2][1100/3419] Elapsed 4m 56s (remain 10m 24s) Loss: 0.5109(0.5638) Grad: 10345.5234  LR: 0.00001770  \n",
      "Epoch: [2][1200/3419] Elapsed 5m 23s (remain 9m 57s) Loss: 0.5989(0.5641) Grad: 25847.2539  LR: 0.00001760  \n",
      "Epoch: [2][1300/3419] Elapsed 5m 50s (remain 9m 30s) Loss: 0.7416(0.5645) Grad: 57186.4570  LR: 0.00001750  \n",
      "Epoch: [2][1400/3419] Elapsed 6m 17s (remain 9m 3s) Loss: 0.4526(0.5629) Grad: 42773.5547  LR: 0.00001740  \n",
      "Epoch: [2][1500/3419] Elapsed 6m 44s (remain 8m 36s) Loss: 0.6669(0.5623) Grad: 27819.4160  LR: 0.00001729  \n",
      "Epoch: [2][1600/3419] Elapsed 7m 11s (remain 8m 9s) Loss: 0.5769(0.5629) Grad: 25847.1582  LR: 0.00001719  \n",
      "Epoch: [2][1700/3419] Elapsed 7m 38s (remain 7m 42s) Loss: 0.5335(0.5628) Grad: 20232.9609  LR: 0.00001708  \n",
      "Epoch: [2][1800/3419] Elapsed 8m 5s (remain 7m 15s) Loss: 0.3719(0.5627) Grad: 26659.7852  LR: 0.00001697  \n",
      "Epoch: [2][1900/3419] Elapsed 8m 31s (remain 6m 48s) Loss: 0.4253(0.5622) Grad: 14733.4072  LR: 0.00001686  \n",
      "Epoch: [2][2000/3419] Elapsed 8m 58s (remain 6m 21s) Loss: 0.5905(0.5626) Grad: 25957.9355  LR: 0.00001675  \n",
      "Epoch: [2][2100/3419] Elapsed 9m 25s (remain 5m 54s) Loss: 0.5722(0.5628) Grad: 14854.0361  LR: 0.00001664  \n",
      "Epoch: [2][2200/3419] Elapsed 9m 52s (remain 5m 28s) Loss: 0.4237(0.5631) Grad: 25692.4785  LR: 0.00001652  \n",
      "Epoch: [2][2300/3419] Elapsed 10m 19s (remain 5m 1s) Loss: 0.5958(0.5632) Grad: 17333.3125  LR: 0.00001640  \n",
      "Epoch: [2][2400/3419] Elapsed 10m 46s (remain 4m 34s) Loss: 0.5523(0.5635) Grad: 9768.6826  LR: 0.00001628  \n",
      "Epoch: [2][2500/3419] Elapsed 11m 13s (remain 4m 7s) Loss: 0.5335(0.5629) Grad: 20875.6680  LR: 0.00001616  \n",
      "Epoch: [2][2600/3419] Elapsed 11m 40s (remain 3m 40s) Loss: 0.6171(0.5628) Grad: 30580.0586  LR: 0.00001604  \n",
      "Epoch: [2][2700/3419] Elapsed 12m 7s (remain 3m 13s) Loss: 0.5848(0.5629) Grad: 37035.9375  LR: 0.00001592  \n",
      "Epoch: [2][2800/3419] Elapsed 12m 34s (remain 2m 46s) Loss: 0.6925(0.5632) Grad: 43516.6055  LR: 0.00001580  \n",
      "Epoch: [2][2900/3419] Elapsed 13m 1s (remain 2m 19s) Loss: 0.5547(0.5624) Grad: 27555.5996  LR: 0.00001567  \n",
      "Epoch: [2][3000/3419] Elapsed 13m 28s (remain 1m 52s) Loss: 0.6839(0.5625) Grad: 40728.9648  LR: 0.00001554  \n",
      "Epoch: [2][3100/3419] Elapsed 13m 55s (remain 1m 25s) Loss: 0.4736(0.5625) Grad: 23712.8555  LR: 0.00001542  \n",
      "Epoch: [2][3200/3419] Elapsed 14m 22s (remain 0m 58s) Loss: 0.4681(0.5623) Grad: 10301.5586  LR: 0.00001529  \n",
      "Epoch: [2][3300/3419] Elapsed 14m 49s (remain 0m 31s) Loss: 0.7245(0.5626) Grad: 74650.9922  LR: 0.00001516  \n",
      "Epoch: [2][3400/3419] Elapsed 15m 16s (remain 0m 4s) Loss: 0.5324(0.5625) Grad: 46784.1953  LR: 0.00001502  \n",
      "Epoch: [2][3418/3419] Elapsed 15m 20s (remain 0m 0s) Loss: 0.4306(0.5624) Grad: 40024.3555  LR: 0.00001500  \n"
     ]
    },
    {
     "name": "stderr",
     "output_type": "stream",
     "text": [
      "[W pthreadpool-cpp.cc:90] Warning: Leaking Caffe2 thread-pool after fork. (function pthreadpool)\n",
      "[W pthreadpool-cpp.cc:90] Warning: Leaking Caffe2 thread-pool after fork. (function pthreadpool)\n",
      "[W pthreadpool-cpp.cc:90] Warning: Leaking Caffe2 thread-pool after fork. (function pthreadpool)\n",
      "[W pthreadpool-cpp.cc:90] Warning: Leaking Caffe2 thread-pool after fork. (function pthreadpool)\n"
     ]
    },
    {
     "name": "stdout",
     "output_type": "stream",
     "text": [
      "EVAL: [0/1140] Elapsed 0m 0s (remain 6m 28s) Loss: 0.6372(0.6372) \n",
      "EVAL: [100/1140] Elapsed 0m 11s (remain 2m 0s) Loss: 0.6959(0.5494) \n",
      "EVAL: [200/1140] Elapsed 0m 22s (remain 1m 47s) Loss: 0.7159(0.5577) \n",
      "EVAL: [300/1140] Elapsed 0m 34s (remain 1m 35s) Loss: 0.5299(0.5567) \n",
      "EVAL: [400/1140] Elapsed 0m 45s (remain 1m 23s) Loss: 0.6245(0.5578) \n",
      "EVAL: [500/1140] Elapsed 0m 56s (remain 1m 12s) Loss: 0.6493(0.5563) \n",
      "EVAL: [600/1140] Elapsed 1m 8s (remain 1m 1s) Loss: 0.6793(0.5557) \n",
      "EVAL: [700/1140] Elapsed 1m 19s (remain 0m 49s) Loss: 0.5056(0.5548) \n",
      "EVAL: [800/1140] Elapsed 1m 31s (remain 0m 38s) Loss: 0.6209(0.5539) \n",
      "EVAL: [900/1140] Elapsed 1m 42s (remain 0m 27s) Loss: 0.8970(0.5539) \n",
      "EVAL: [1000/1140] Elapsed 1m 53s (remain 0m 15s) Loss: 0.4758(0.5539) \n",
      "EVAL: [1100/1140] Elapsed 2m 4s (remain 0m 4s) Loss: 0.6696(0.5545) \n"
     ]
    },
    {
     "name": "stderr",
     "output_type": "stream",
     "text": [
      "Epoch 2 - avg_train_loss: 0.5624  avg_val_loss: 0.5552  time: 1050s\n",
      "Epoch 2 - Score: 0.7923\n",
      "Epoch 2 - Save Best Score: 0.7923 Model\n"
     ]
    },
    {
     "name": "stdout",
     "output_type": "stream",
     "text": [
      "EVAL: [1139/1140] Elapsed 2m 9s (remain 0m 0s) Loss: 0.4923(0.5552) \n"
     ]
    },
    {
     "name": "stderr",
     "output_type": "stream",
     "text": [
      "[W pthreadpool-cpp.cc:90] Warning: Leaking Caffe2 thread-pool after fork. (function pthreadpool)\n",
      "[W pthreadpool-cpp.cc:90] Warning: Leaking Caffe2 thread-pool after fork. (function pthreadpool)\n",
      "[W pthreadpool-cpp.cc:90] Warning: Leaking Caffe2 thread-pool after fork. (function pthreadpool)\n",
      "[W pthreadpool-cpp.cc:90] Warning: Leaking Caffe2 thread-pool after fork. (function pthreadpool)\n"
     ]
    },
    {
     "name": "stdout",
     "output_type": "stream",
     "text": [
      "Epoch: [3][0/3419] Elapsed 0m 0s (remain 37m 32s) Loss: 0.4901(0.4901) Grad: 34125.0078  LR: 0.00001500  \n",
      "Epoch: [3][100/3419] Elapsed 0m 27s (remain 15m 2s) Loss: 0.4887(0.5286) Grad: 51033.0625  LR: 0.00001487  \n",
      "Epoch: [3][200/3419] Elapsed 0m 54s (remain 14m 30s) Loss: 0.4848(0.5443) Grad: 51679.8281  LR: 0.00001473  \n",
      "Epoch: [3][300/3419] Elapsed 1m 21s (remain 14m 1s) Loss: 0.7565(0.5427) Grad: 45310.1992  LR: 0.00001460  \n",
      "Epoch: [3][400/3419] Elapsed 1m 48s (remain 13m 34s) Loss: 0.4410(0.5427) Grad: 42495.3281  LR: 0.00001446  \n",
      "Epoch: [3][500/3419] Elapsed 2m 15s (remain 13m 6s) Loss: 0.5233(0.5466) Grad: 14561.3555  LR: 0.00001432  \n",
      "Epoch: [3][600/3419] Elapsed 2m 41s (remain 12m 39s) Loss: 0.5412(0.5469) Grad: 21991.7617  LR: 0.00001418  \n",
      "Epoch: [3][700/3419] Elapsed 3m 8s (remain 12m 12s) Loss: 0.6982(0.5495) Grad: 24224.7305  LR: 0.00001404  \n",
      "Epoch: [3][800/3419] Elapsed 3m 35s (remain 11m 45s) Loss: 0.4933(0.5507) Grad: 29546.1074  LR: 0.00001390  \n",
      "Epoch: [3][900/3419] Elapsed 4m 2s (remain 11m 18s) Loss: 0.4803(0.5514) Grad: 23941.2930  LR: 0.00001376  \n",
      "Epoch: [3][1000/3419] Elapsed 4m 29s (remain 10m 51s) Loss: 0.4303(0.5529) Grad: 20883.3516  LR: 0.00001362  \n",
      "Epoch: [3][1100/3419] Elapsed 4m 56s (remain 10m 24s) Loss: 0.5898(0.5513) Grad: 18780.7012  LR: 0.00001348  \n",
      "Epoch: [3][1200/3419] Elapsed 5m 23s (remain 9m 57s) Loss: 0.5101(0.5508) Grad: 15773.7441  LR: 0.00001333  \n",
      "Epoch: [3][1300/3419] Elapsed 5m 50s (remain 9m 30s) Loss: 0.3433(0.5513) Grad: 21459.9805  LR: 0.00001319  \n",
      "Epoch: [3][1400/3419] Elapsed 6m 17s (remain 9m 3s) Loss: 0.5472(0.5523) Grad: 18287.4473  LR: 0.00001304  \n",
      "Epoch: [3][1500/3419] Elapsed 6m 43s (remain 8m 36s) Loss: 0.4733(0.5525) Grad: 12588.0020  LR: 0.00001290  \n",
      "Epoch: [3][1600/3419] Elapsed 7m 10s (remain 8m 9s) Loss: 0.5977(0.5524) Grad: 14429.4043  LR: 0.00001275  \n",
      "Epoch: [3][1700/3419] Elapsed 7m 37s (remain 7m 42s) Loss: 0.6267(0.5534) Grad: 16119.9727  LR: 0.00001260  \n",
      "Epoch: [3][1800/3419] Elapsed 8m 4s (remain 7m 15s) Loss: 0.3330(0.5535) Grad: 4509.6582  LR: 0.00001245  \n",
      "Epoch: [3][1900/3419] Elapsed 8m 31s (remain 6m 48s) Loss: 0.5736(0.5541) Grad: 6022.2227  LR: 0.00001231  \n",
      "Epoch: [3][2000/3419] Elapsed 8m 58s (remain 6m 21s) Loss: 0.5704(0.5542) Grad: 11753.7070  LR: 0.00001216  \n",
      "Epoch: [3][2100/3419] Elapsed 9m 25s (remain 5m 54s) Loss: 0.4221(0.5546) Grad: 16150.6484  LR: 0.00001201  \n",
      "Epoch: [3][2200/3419] Elapsed 9m 52s (remain 5m 27s) Loss: 0.5759(0.5545) Grad: 4253.6406  LR: 0.00001186  \n",
      "Epoch: [3][2300/3419] Elapsed 10m 19s (remain 5m 0s) Loss: 0.5024(0.5542) Grad: 14576.9971  LR: 0.00001171  \n",
      "Epoch: [3][2400/3419] Elapsed 10m 46s (remain 4m 33s) Loss: 0.7439(0.5540) Grad: 15789.5293  LR: 0.00001155  \n",
      "Epoch: [3][2500/3419] Elapsed 11m 12s (remain 4m 6s) Loss: 0.6833(0.5544) Grad: 12780.6299  LR: 0.00001140  \n",
      "Epoch: [3][2600/3419] Elapsed 11m 39s (remain 3m 40s) Loss: 0.4367(0.5544) Grad: 8498.6816  LR: 0.00001125  \n",
      "Epoch: [3][2700/3419] Elapsed 12m 6s (remain 3m 13s) Loss: 0.5567(0.5544) Grad: 7245.4438  LR: 0.00001110  \n",
      "Epoch: [3][2800/3419] Elapsed 12m 33s (remain 2m 46s) Loss: 0.4309(0.5541) Grad: 4055.1230  LR: 0.00001095  \n",
      "Epoch: [3][2900/3419] Elapsed 13m 0s (remain 2m 19s) Loss: 0.5814(0.5545) Grad: 4828.3823  LR: 0.00001079  \n",
      "Epoch: [3][3000/3419] Elapsed 13m 27s (remain 1m 52s) Loss: 0.5812(0.5550) Grad: 5199.8940  LR: 0.00001064  \n",
      "Epoch: [3][3100/3419] Elapsed 13m 54s (remain 1m 25s) Loss: 0.5995(0.5548) Grad: 19156.1035  LR: 0.00001049  \n",
      "Epoch: [3][3200/3419] Elapsed 14m 21s (remain 0m 58s) Loss: 0.6561(0.5545) Grad: 21913.1074  LR: 0.00001034  \n",
      "Epoch: [3][3300/3419] Elapsed 14m 48s (remain 0m 31s) Loss: 0.5491(0.5553) Grad: 54129.1875  LR: 0.00001018  \n",
      "Epoch: [3][3400/3419] Elapsed 15m 15s (remain 0m 4s) Loss: 0.4873(0.5552) Grad: 13052.8086  LR: 0.00001003  \n",
      "Epoch: [3][3418/3419] Elapsed 15m 19s (remain 0m 0s) Loss: 0.5311(0.5552) Grad: 11304.4629  LR: 0.00001000  \n"
     ]
    },
    {
     "name": "stderr",
     "output_type": "stream",
     "text": [
      "[W pthreadpool-cpp.cc:90] Warning: Leaking Caffe2 thread-pool after fork. (function pthreadpool)\n",
      "[W pthreadpool-cpp.cc:90] Warning: Leaking Caffe2 thread-pool after fork. (function pthreadpool)\n",
      "[W pthreadpool-cpp.cc:90] Warning: Leaking Caffe2 thread-pool after fork. (function pthreadpool)\n",
      "[W pthreadpool-cpp.cc:90] Warning: Leaking Caffe2 thread-pool after fork. (function pthreadpool)\n"
     ]
    },
    {
     "name": "stdout",
     "output_type": "stream",
     "text": [
      "EVAL: [0/1140] Elapsed 0m 0s (remain 6m 22s) Loss: 0.6391(0.6391) \n",
      "EVAL: [100/1140] Elapsed 0m 11s (remain 1m 59s) Loss: 0.6906(0.5479) \n",
      "EVAL: [200/1140] Elapsed 0m 22s (remain 1m 47s) Loss: 0.7267(0.5579) \n",
      "EVAL: [300/1140] Elapsed 0m 34s (remain 1m 35s) Loss: 0.5134(0.5535) \n",
      "EVAL: [400/1140] Elapsed 0m 45s (remain 1m 23s) Loss: 0.6008(0.5542) \n",
      "EVAL: [500/1140] Elapsed 0m 56s (remain 1m 12s) Loss: 0.6692(0.5522) \n",
      "EVAL: [600/1140] Elapsed 1m 8s (remain 1m 1s) Loss: 0.7013(0.5518) \n",
      "EVAL: [700/1140] Elapsed 1m 19s (remain 0m 49s) Loss: 0.5043(0.5505) \n",
      "EVAL: [800/1140] Elapsed 1m 30s (remain 0m 38s) Loss: 0.6392(0.5502) \n",
      "EVAL: [900/1140] Elapsed 1m 42s (remain 0m 27s) Loss: 0.9529(0.5500) \n",
      "EVAL: [1000/1140] Elapsed 1m 53s (remain 0m 15s) Loss: 0.4701(0.5498) \n",
      "EVAL: [1100/1140] Elapsed 2m 4s (remain 0m 4s) Loss: 0.6726(0.5505) \n"
     ]
    },
    {
     "name": "stderr",
     "output_type": "stream",
     "text": [
      "Epoch 3 - avg_train_loss: 0.5552  avg_val_loss: 0.5511  time: 1049s\n",
      "Epoch 3 - Score: 0.8059\n",
      "Epoch 3 - Save Best Score: 0.8059 Model\n"
     ]
    },
    {
     "name": "stdout",
     "output_type": "stream",
     "text": [
      "EVAL: [1139/1140] Elapsed 2m 9s (remain 0m 0s) Loss: 0.4797(0.5511) \n"
     ]
    },
    {
     "name": "stderr",
     "output_type": "stream",
     "text": [
      "[W pthreadpool-cpp.cc:90] Warning: Leaking Caffe2 thread-pool after fork. (function pthreadpool)\n",
      "[W pthreadpool-cpp.cc:90] Warning: Leaking Caffe2 thread-pool after fork. (function pthreadpool)\n",
      "[W pthreadpool-cpp.cc:90] Warning: Leaking Caffe2 thread-pool after fork. (function pthreadpool)\n",
      "[W pthreadpool-cpp.cc:90] Warning: Leaking Caffe2 thread-pool after fork. (function pthreadpool)\n"
     ]
    },
    {
     "name": "stdout",
     "output_type": "stream",
     "text": [
      "Epoch: [4][0/3419] Elapsed 0m 0s (remain 46m 37s) Loss: 0.2205(0.2205) Grad: 63029.5859  LR: 0.00001000  \n",
      "Epoch: [4][100/3419] Elapsed 0m 27s (remain 15m 8s) Loss: 0.5360(0.5360) Grad: 19682.6719  LR: 0.00000985  \n",
      "Epoch: [4][200/3419] Elapsed 0m 54s (remain 14m 33s) Loss: 0.4558(0.5399) Grad: 16908.1133  LR: 0.00000969  \n",
      "Epoch: [4][300/3419] Elapsed 1m 21s (remain 14m 3s) Loss: 0.7588(0.5420) Grad: 95071.6250  LR: 0.00000954  \n",
      "Epoch: [4][400/3419] Elapsed 1m 48s (remain 13m 35s) Loss: 0.6017(0.5396) Grad: 17548.0332  LR: 0.00000939  \n",
      "Epoch: [4][500/3419] Elapsed 2m 15s (remain 13m 8s) Loss: 0.5689(0.5401) Grad: 13282.6387  LR: 0.00000924  \n",
      "Epoch: [4][600/3419] Elapsed 2m 42s (remain 12m 40s) Loss: 0.5862(0.5400) Grad: 13424.6719  LR: 0.00000908  \n",
      "Epoch: [4][700/3419] Elapsed 3m 9s (remain 12m 13s) Loss: 0.9863(0.5423) Grad: 123276.1094  LR: 0.00000893  \n",
      "Epoch: [4][800/3419] Elapsed 3m 36s (remain 11m 45s) Loss: 0.6300(0.5425) Grad: 24805.7988  LR: 0.00000878  \n",
      "Epoch: [4][900/3419] Elapsed 4m 2s (remain 11m 18s) Loss: 0.5003(0.5411) Grad: 14553.9727  LR: 0.00000863  \n",
      "Epoch: [4][1000/3419] Elapsed 4m 29s (remain 10m 51s) Loss: 0.5362(0.5410) Grad: 21802.6641  LR: 0.00000847  \n",
      "Epoch: [4][1100/3419] Elapsed 4m 56s (remain 10m 24s) Loss: 0.4541(0.5419) Grad: 7068.9795  LR: 0.00000832  \n",
      "Epoch: [4][1200/3419] Elapsed 5m 23s (remain 9m 57s) Loss: 0.3389(0.5418) Grad: 27251.1348  LR: 0.00000817  \n",
      "Epoch: [4][1300/3419] Elapsed 5m 50s (remain 9m 30s) Loss: 0.6465(0.5423) Grad: 15852.6895  LR: 0.00000802  \n",
      "Epoch: [4][1400/3419] Elapsed 6m 17s (remain 9m 3s) Loss: 0.5484(0.5438) Grad: 68183.0000  LR: 0.00000787  \n",
      "Epoch: [4][1500/3419] Elapsed 6m 44s (remain 8m 36s) Loss: 0.4443(0.5446) Grad: 9580.4980  LR: 0.00000772  \n",
      "Epoch: [4][1600/3419] Elapsed 7m 11s (remain 8m 9s) Loss: 0.6757(0.5447) Grad: 64039.9570  LR: 0.00000757  \n",
      "Epoch: [4][1700/3419] Elapsed 7m 38s (remain 7m 42s) Loss: 0.4620(0.5448) Grad: 7036.1274  LR: 0.00000743  \n",
      "Epoch: [4][1800/3419] Elapsed 8m 4s (remain 7m 15s) Loss: 0.5612(0.5450) Grad: 6998.2139  LR: 0.00000728  \n",
      "Epoch: [4][1900/3419] Elapsed 8m 31s (remain 6m 48s) Loss: 0.4932(0.5445) Grad: 3538.7998  LR: 0.00000713  \n",
      "Epoch: [4][2000/3419] Elapsed 8m 58s (remain 6m 21s) Loss: 0.4954(0.5446) Grad: 11193.7100  LR: 0.00000699  \n",
      "Epoch: [4][2100/3419] Elapsed 9m 25s (remain 5m 54s) Loss: 0.4857(0.5448) Grad: 6982.0884  LR: 0.00000684  \n",
      "Epoch: [4][2200/3419] Elapsed 9m 52s (remain 5m 27s) Loss: 0.6318(0.5451) Grad: 4861.1812  LR: 0.00000669  \n",
      "Epoch: [4][2300/3419] Elapsed 10m 19s (remain 5m 1s) Loss: 0.4897(0.5448) Grad: 4907.7246  LR: 0.00000655  \n",
      "Epoch: [4][2400/3419] Elapsed 10m 46s (remain 4m 34s) Loss: 0.5591(0.5455) Grad: 7519.9058  LR: 0.00000641  \n",
      "Epoch: [4][2500/3419] Elapsed 11m 13s (remain 4m 7s) Loss: 0.4917(0.5459) Grad: 12748.4766  LR: 0.00000626  \n",
      "Epoch: [4][2600/3419] Elapsed 11m 40s (remain 3m 40s) Loss: 0.5831(0.5461) Grad: 8828.0449  LR: 0.00000612  \n",
      "Epoch: [4][2700/3419] Elapsed 12m 7s (remain 3m 13s) Loss: 0.5930(0.5459) Grad: 20643.3125  LR: 0.00000598  \n",
      "Epoch: [4][2800/3419] Elapsed 12m 34s (remain 2m 46s) Loss: 0.4992(0.5460) Grad: 14543.0576  LR: 0.00000584  \n",
      "Epoch: [4][2900/3419] Elapsed 13m 1s (remain 2m 19s) Loss: 0.5117(0.5455) Grad: 6331.2192  LR: 0.00000570  \n",
      "Epoch: [4][3000/3419] Elapsed 13m 28s (remain 1m 52s) Loss: 0.6487(0.5455) Grad: 7795.2197  LR: 0.00000557  \n",
      "Epoch: [4][3100/3419] Elapsed 13m 55s (remain 1m 25s) Loss: 0.4854(0.5458) Grad: 6661.5933  LR: 0.00000543  \n",
      "Epoch: [4][3200/3419] Elapsed 14m 21s (remain 0m 58s) Loss: 0.5328(0.5458) Grad: 38128.2148  LR: 0.00000529  \n",
      "Epoch: [4][3300/3419] Elapsed 14m 48s (remain 0m 31s) Loss: 0.5478(0.5457) Grad: 9658.2412  LR: 0.00000516  \n",
      "Epoch: [4][3400/3419] Elapsed 15m 15s (remain 0m 4s) Loss: 0.5878(0.5458) Grad: 13870.9961  LR: 0.00000503  \n",
      "Epoch: [4][3418/3419] Elapsed 15m 20s (remain 0m 0s) Loss: 0.6564(0.5459) Grad: 11416.7744  LR: 0.00000500  \n"
     ]
    },
    {
     "name": "stderr",
     "output_type": "stream",
     "text": [
      "[W pthreadpool-cpp.cc:90] Warning: Leaking Caffe2 thread-pool after fork. (function pthreadpool)\n",
      "[W pthreadpool-cpp.cc:90] Warning: Leaking Caffe2 thread-pool after fork. (function pthreadpool)\n",
      "[W pthreadpool-cpp.cc:90] Warning: Leaking Caffe2 thread-pool after fork. (function pthreadpool)\n",
      "[W pthreadpool-cpp.cc:90] Warning: Leaking Caffe2 thread-pool after fork. (function pthreadpool)\n"
     ]
    },
    {
     "name": "stdout",
     "output_type": "stream",
     "text": [
      "EVAL: [0/1140] Elapsed 0m 0s (remain 6m 22s) Loss: 0.6261(0.6261) \n",
      "EVAL: [100/1140] Elapsed 0m 11s (remain 1m 59s) Loss: 0.6939(0.5509) \n",
      "EVAL: [200/1140] Elapsed 0m 22s (remain 1m 47s) Loss: 0.7220(0.5582) \n",
      "EVAL: [300/1140] Elapsed 0m 34s (remain 1m 35s) Loss: 0.5135(0.5536) \n",
      "EVAL: [400/1140] Elapsed 0m 45s (remain 1m 24s) Loss: 0.6012(0.5541) \n",
      "EVAL: [500/1140] Elapsed 0m 57s (remain 1m 12s) Loss: 0.6656(0.5522) \n",
      "EVAL: [600/1140] Elapsed 1m 8s (remain 1m 1s) Loss: 0.6902(0.5513) \n",
      "EVAL: [700/1140] Elapsed 1m 19s (remain 0m 49s) Loss: 0.5072(0.5502) \n",
      "EVAL: [800/1140] Elapsed 1m 31s (remain 0m 38s) Loss: 0.6390(0.5497) \n",
      "EVAL: [900/1140] Elapsed 1m 42s (remain 0m 27s) Loss: 1.0044(0.5497) \n",
      "EVAL: [1000/1140] Elapsed 1m 53s (remain 0m 15s) Loss: 0.4678(0.5492) \n",
      "EVAL: [1100/1140] Elapsed 2m 5s (remain 0m 4s) Loss: 0.6701(0.5498) \n"
     ]
    },
    {
     "name": "stderr",
     "output_type": "stream",
     "text": [
      "Epoch 4 - avg_train_loss: 0.5459  avg_val_loss: 0.5504  time: 1050s\n",
      "Epoch 4 - Score: 0.8105\n",
      "Epoch 4 - Save Best Score: 0.8105 Model\n"
     ]
    },
    {
     "name": "stdout",
     "output_type": "stream",
     "text": [
      "EVAL: [1139/1140] Elapsed 2m 9s (remain 0m 0s) Loss: 0.4933(0.5504) \n"
     ]
    },
    {
     "name": "stderr",
     "output_type": "stream",
     "text": [
      "[W pthreadpool-cpp.cc:90] Warning: Leaking Caffe2 thread-pool after fork. (function pthreadpool)\n",
      "[W pthreadpool-cpp.cc:90] Warning: Leaking Caffe2 thread-pool after fork. (function pthreadpool)\n",
      "[W pthreadpool-cpp.cc:90] Warning: Leaking Caffe2 thread-pool after fork. (function pthreadpool)\n",
      "[W pthreadpool-cpp.cc:90] Warning: Leaking Caffe2 thread-pool after fork. (function pthreadpool)\n"
     ]
    },
    {
     "name": "stdout",
     "output_type": "stream",
     "text": [
      "Epoch: [5][0/3419] Elapsed 0m 0s (remain 38m 33s) Loss: 0.4404(0.4404) Grad: 88463.6016  LR: 0.00000500  \n",
      "Epoch: [5][100/3419] Elapsed 0m 27s (remain 15m 5s) Loss: 0.5615(0.5480) Grad: 40675.7070  LR: 0.00000487  \n",
      "Epoch: [5][200/3419] Elapsed 0m 54s (remain 14m 31s) Loss: 0.6012(0.5431) Grad: 19122.4551  LR: 0.00000474  \n",
      "Epoch: [5][300/3419] Elapsed 1m 21s (remain 14m 2s) Loss: 0.5700(0.5425) Grad: 15223.5801  LR: 0.00000461  \n",
      "Epoch: [5][400/3419] Elapsed 1m 48s (remain 13m 34s) Loss: 0.5345(0.5451) Grad: 12395.5068  LR: 0.00000448  \n",
      "Epoch: [5][500/3419] Elapsed 2m 15s (remain 13m 7s) Loss: 0.5841(0.5463) Grad: 11137.9023  LR: 0.00000435  \n",
      "Epoch: [5][600/3419] Elapsed 2m 42s (remain 12m 40s) Loss: 0.5665(0.5457) Grad: 21042.7930  LR: 0.00000423  \n",
      "Epoch: [5][700/3419] Elapsed 3m 9s (remain 12m 12s) Loss: 0.4978(0.5460) Grad: 28162.1152  LR: 0.00000410  \n",
      "Epoch: [5][800/3419] Elapsed 3m 35s (remain 11m 45s) Loss: 0.3614(0.5442) Grad: 10626.1729  LR: 0.00000398  \n",
      "Epoch: [5][900/3419] Elapsed 4m 2s (remain 11m 18s) Loss: 0.4074(0.5424) Grad: 6797.8428  LR: 0.00000386  \n",
      "Epoch: [5][1000/3419] Elapsed 4m 29s (remain 10m 51s) Loss: 0.3837(0.5423) Grad: 11456.8359  LR: 0.00000374  \n",
      "Epoch: [5][1100/3419] Elapsed 4m 56s (remain 10m 24s) Loss: 0.4176(0.5407) Grad: 39130.6719  LR: 0.00000362  \n",
      "Epoch: [5][1200/3419] Elapsed 5m 23s (remain 9m 57s) Loss: 0.3022(0.5409) Grad: 38567.8945  LR: 0.00000350  \n",
      "Epoch: [5][1300/3419] Elapsed 5m 50s (remain 9m 30s) Loss: 0.4313(0.5408) Grad: 15362.1719  LR: 0.00000339  \n",
      "Epoch: [5][1400/3419] Elapsed 6m 17s (remain 9m 3s) Loss: 0.6493(0.5398) Grad: 15512.2334  LR: 0.00000327  \n",
      "Epoch: [5][1500/3419] Elapsed 6m 44s (remain 8m 36s) Loss: 0.3273(0.5393) Grad: 11605.6797  LR: 0.00000316  \n",
      "Epoch: [5][1600/3419] Elapsed 7m 11s (remain 8m 9s) Loss: 0.5036(0.5397) Grad: 7417.2900  LR: 0.00000305  \n",
      "Epoch: [5][1700/3419] Elapsed 7m 38s (remain 7m 42s) Loss: 0.6466(0.5398) Grad: 5842.4917  LR: 0.00000294  \n",
      "Epoch: [5][1800/3419] Elapsed 8m 5s (remain 7m 15s) Loss: 0.3106(0.5401) Grad: 3351.4114  LR: 0.00000283  \n",
      "Epoch: [5][1900/3419] Elapsed 8m 31s (remain 6m 48s) Loss: 0.6470(0.5406) Grad: 18621.7012  LR: 0.00000273  \n",
      "Epoch: [5][2000/3419] Elapsed 8m 58s (remain 6m 21s) Loss: 0.5249(0.5406) Grad: 11028.4355  LR: 0.00000262  \n",
      "Epoch: [5][2100/3419] Elapsed 9m 25s (remain 5m 54s) Loss: 0.7128(0.5408) Grad: 16769.9648  LR: 0.00000252  \n",
      "Epoch: [5][2200/3419] Elapsed 9m 52s (remain 5m 28s) Loss: 0.4133(0.5410) Grad: 19938.9512  LR: 0.00000242  \n",
      "Epoch: [5][2300/3419] Elapsed 10m 19s (remain 5m 1s) Loss: 0.6621(0.5418) Grad: 26065.6445  LR: 0.00000232  \n",
      "Epoch: [5][2400/3419] Elapsed 10m 46s (remain 4m 34s) Loss: 0.4471(0.5414) Grad: 7219.1660  LR: 0.00000222  \n",
      "Epoch: [5][2500/3419] Elapsed 11m 13s (remain 4m 7s) Loss: 0.5019(0.5415) Grad: 6552.8110  LR: 0.00000213  \n",
      "Epoch: [5][2600/3419] Elapsed 11m 40s (remain 3m 40s) Loss: 0.4402(0.5407) Grad: 11879.7783  LR: 0.00000203  \n",
      "Epoch: [5][2700/3419] Elapsed 12m 7s (remain 3m 13s) Loss: 0.4047(0.5407) Grad: 11562.1123  LR: 0.00000194  \n",
      "Epoch: [5][2800/3419] Elapsed 12m 34s (remain 2m 46s) Loss: 0.2891(0.5407) Grad: 13448.6836  LR: 0.00000185  \n",
      "Epoch: [5][2900/3419] Elapsed 13m 1s (remain 2m 19s) Loss: 0.4214(0.5404) Grad: 4942.6069  LR: 0.00000176  \n",
      "Epoch: [5][3000/3419] Elapsed 13m 28s (remain 1m 52s) Loss: 0.6001(0.5407) Grad: 14967.8438  LR: 0.00000168  \n",
      "Epoch: [5][3100/3419] Elapsed 13m 55s (remain 1m 25s) Loss: 0.4571(0.5406) Grad: 4937.3423  LR: 0.00000159  \n",
      "Epoch: [5][3200/3419] Elapsed 14m 22s (remain 0m 58s) Loss: 0.5625(0.5406) Grad: 12475.8779  LR: 0.00000151  \n",
      "Epoch: [5][3300/3419] Elapsed 14m 49s (remain 0m 31s) Loss: 0.5413(0.5406) Grad: 15043.8350  LR: 0.00000143  \n",
      "Epoch: [5][3400/3419] Elapsed 15m 16s (remain 0m 4s) Loss: 0.5861(0.5404) Grad: 28338.9355  LR: 0.00000135  \n"
     ]
    },
    {
     "name": "stderr",
     "output_type": "stream",
     "text": [
      "[W pthreadpool-cpp.cc:90] Warning: Leaking Caffe2 thread-pool after fork. (function pthreadpool)\n"
     ]
    },
    {
     "name": "stdout",
     "output_type": "stream",
     "text": [
      "Epoch: [5][3418/3419] Elapsed 15m 21s (remain 0m 0s) Loss: 0.5016(0.5404) Grad: 3952.9424  LR: 0.00000134  \n"
     ]
    },
    {
     "name": "stderr",
     "output_type": "stream",
     "text": [
      "[W pthreadpool-cpp.cc:90] Warning: Leaking Caffe2 thread-pool after fork. (function pthreadpool)\n",
      "[W pthreadpool-cpp.cc:90] Warning: Leaking Caffe2 thread-pool after fork. (function pthreadpool)\n",
      "[W pthreadpool-cpp.cc:90] Warning: Leaking Caffe2 thread-pool after fork. (function pthreadpool)\n",
      "[W pthreadpool-cpp.cc:90] Warning: Leaking Caffe2 thread-pool after fork. (function pthreadpool)\n"
     ]
    },
    {
     "name": "stdout",
     "output_type": "stream",
     "text": [
      "EVAL: [0/1140] Elapsed 0m 0s (remain 6m 30s) Loss: 0.6180(0.6180) \n",
      "EVAL: [100/1140] Elapsed 0m 11s (remain 1m 59s) Loss: 0.6950(0.5504) \n",
      "EVAL: [200/1140] Elapsed 0m 23s (remain 1m 47s) Loss: 0.7191(0.5590) \n",
      "EVAL: [300/1140] Elapsed 0m 34s (remain 1m 35s) Loss: 0.5182(0.5549) \n",
      "EVAL: [400/1140] Elapsed 0m 45s (remain 1m 24s) Loss: 0.6033(0.5557) \n",
      "EVAL: [500/1140] Elapsed 0m 57s (remain 1m 12s) Loss: 0.6651(0.5534) \n",
      "EVAL: [600/1140] Elapsed 1m 8s (remain 1m 1s) Loss: 0.6900(0.5524) \n",
      "EVAL: [700/1140] Elapsed 1m 19s (remain 0m 49s) Loss: 0.5047(0.5512) \n",
      "EVAL: [800/1140] Elapsed 1m 31s (remain 0m 38s) Loss: 0.6514(0.5507) \n",
      "EVAL: [900/1140] Elapsed 1m 42s (remain 0m 27s) Loss: 1.0565(0.5507) \n",
      "EVAL: [1000/1140] Elapsed 1m 53s (remain 0m 15s) Loss: 0.4681(0.5502) \n",
      "EVAL: [1100/1140] Elapsed 2m 5s (remain 0m 4s) Loss: 0.6679(0.5508) \n"
     ]
    },
    {
     "name": "stderr",
     "output_type": "stream",
     "text": [
      "Epoch 5 - avg_train_loss: 0.5404  avg_val_loss: 0.5514  time: 1051s\n",
      "Epoch 5 - Score: 0.8138\n",
      "Epoch 5 - Save Best Score: 0.8138 Model\n"
     ]
    },
    {
     "name": "stdout",
     "output_type": "stream",
     "text": [
      "EVAL: [1139/1140] Elapsed 2m 9s (remain 0m 0s) Loss: 0.4948(0.5514) \n"
     ]
    },
    {
     "name": "stderr",
     "output_type": "stream",
     "text": [
      "[W pthreadpool-cpp.cc:90] Warning: Leaking Caffe2 thread-pool after fork. (function pthreadpool)\n",
      "[W pthreadpool-cpp.cc:90] Warning: Leaking Caffe2 thread-pool after fork. (function pthreadpool)\n",
      "[W pthreadpool-cpp.cc:90] Warning: Leaking Caffe2 thread-pool after fork. (function pthreadpool)\n",
      "[W pthreadpool-cpp.cc:90] Warning: Leaking Caffe2 thread-pool after fork. (function pthreadpool)\n"
     ]
    },
    {
     "name": "stdout",
     "output_type": "stream",
     "text": [
      "Epoch: [6][0/3419] Elapsed 0m 0s (remain 41m 39s) Loss: 0.5692(0.5692) Grad: 82928.1406  LR: 0.00000134  \n",
      "Epoch: [6][100/3419] Elapsed 0m 27s (remain 15m 10s) Loss: 0.5812(0.5506) Grad: 15796.0127  LR: 0.00000126  \n",
      "Epoch: [6][200/3419] Elapsed 0m 55s (remain 14m 41s) Loss: 0.3697(0.5461) Grad: 8195.2021  LR: 0.00000119  \n",
      "Epoch: [6][300/3419] Elapsed 1m 22s (remain 14m 13s) Loss: 0.4368(0.5465) Grad: 12574.1592  LR: 0.00000112  \n",
      "Epoch: [6][400/3419] Elapsed 1m 49s (remain 13m 45s) Loss: 0.4419(0.5494) Grad: 23119.5195  LR: 0.00000105  \n",
      "Epoch: [6][500/3419] Elapsed 2m 16s (remain 13m 17s) Loss: 0.6415(0.5463) Grad: 13045.1416  LR: 0.00000098  \n",
      "Epoch: [6][600/3419] Elapsed 2m 44s (remain 12m 49s) Loss: 0.5685(0.5438) Grad: 13211.2666  LR: 0.00000092  \n",
      "Epoch: [6][700/3419] Elapsed 3m 11s (remain 12m 21s) Loss: 0.5805(0.5445) Grad: 35514.4062  LR: 0.00000085  \n",
      "Epoch: [6][800/3419] Elapsed 3m 38s (remain 11m 53s) Loss: 0.5038(0.5447) Grad: 13350.6758  LR: 0.00000079  \n",
      "Epoch: [6][900/3419] Elapsed 4m 5s (remain 11m 26s) Loss: 0.5745(0.5423) Grad: 4390.4766  LR: 0.00000074  \n",
      "Epoch: [6][1000/3419] Elapsed 4m 34s (remain 11m 2s) Loss: 0.5098(0.5413) Grad: 11317.1689  LR: 0.00000068  \n",
      "Epoch: [6][1100/3419] Elapsed 5m 2s (remain 10m 36s) Loss: 0.5296(0.5411) Grad: 12673.5811  LR: 0.00000062  \n",
      "Epoch: [6][1200/3419] Elapsed 5m 29s (remain 10m 8s) Loss: 0.3510(0.5417) Grad: 3998.9001  LR: 0.00000057  \n",
      "Epoch: [6][1300/3419] Elapsed 5m 57s (remain 9m 41s) Loss: 0.4884(0.5415) Grad: 4319.9956  LR: 0.00000052  \n",
      "Epoch: [6][1400/3419] Elapsed 6m 25s (remain 9m 14s) Loss: 0.5803(0.5419) Grad: 5197.5913  LR: 0.00000047  \n",
      "Epoch: [6][1500/3419] Elapsed 6m 52s (remain 8m 47s) Loss: 0.5144(0.5418) Grad: 6827.9932  LR: 0.00000043  \n",
      "Epoch: [6][1600/3419] Elapsed 7m 20s (remain 8m 20s) Loss: 0.4968(0.5415) Grad: 17697.1113  LR: 0.00000039  \n",
      "Epoch: [6][1700/3419] Elapsed 7m 48s (remain 7m 53s) Loss: 0.3923(0.5411) Grad: 8517.3633  LR: 0.00000034  \n",
      "Epoch: [6][1800/3419] Elapsed 8m 16s (remain 7m 25s) Loss: 0.6796(0.5414) Grad: 16613.2500  LR: 0.00000031  \n",
      "Epoch: [6][1900/3419] Elapsed 8m 43s (remain 6m 58s) Loss: 0.3674(0.5415) Grad: 17621.9785  LR: 0.00000027  \n",
      "Epoch: [6][2000/3419] Elapsed 9m 11s (remain 6m 30s) Loss: 0.5482(0.5409) Grad: 7566.0547  LR: 0.00000024  \n",
      "Epoch: [6][2100/3419] Elapsed 9m 38s (remain 6m 3s) Loss: 0.4479(0.5403) Grad: 1748.9978  LR: 0.00000020  \n",
      "Epoch: [6][2200/3419] Elapsed 10m 6s (remain 5m 35s) Loss: 0.4406(0.5405) Grad: 9366.0977  LR: 0.00000017  \n",
      "Epoch: [6][2300/3419] Elapsed 10m 33s (remain 5m 7s) Loss: 0.5748(0.5408) Grad: 14650.6592  LR: 0.00000015  \n",
      "Epoch: [6][2400/3419] Elapsed 11m 0s (remain 4m 40s) Loss: 0.6107(0.5407) Grad: 5701.5898  LR: 0.00000012  \n",
      "Epoch: [6][2500/3419] Elapsed 11m 28s (remain 4m 12s) Loss: 0.5450(0.5406) Grad: 8857.6562  LR: 0.00000010  \n",
      "Epoch: [6][2600/3419] Elapsed 11m 55s (remain 3m 45s) Loss: 0.5002(0.5404) Grad: 6777.5371  LR: 0.00000008  \n",
      "Epoch: [6][2700/3419] Elapsed 12m 23s (remain 3m 17s) Loss: 0.5786(0.5399) Grad: 27798.6270  LR: 0.00000006  \n",
      "Epoch: [6][2800/3419] Elapsed 12m 51s (remain 2m 50s) Loss: 0.4612(0.5399) Grad: 10365.0342  LR: 0.00000005  \n",
      "Epoch: [6][2900/3419] Elapsed 13m 18s (remain 2m 22s) Loss: 0.6373(0.5397) Grad: 9052.2842  LR: 0.00000003  \n",
      "Epoch: [6][3000/3419] Elapsed 13m 45s (remain 1m 54s) Loss: 0.5627(0.5391) Grad: 14784.5479  LR: 0.00000002  \n",
      "Epoch: [6][3100/3419] Elapsed 14m 12s (remain 1m 27s) Loss: 0.5827(0.5382) Grad: 22250.5664  LR: 0.00000001  \n",
      "Epoch: [6][3200/3419] Elapsed 14m 40s (remain 0m 59s) Loss: 0.6628(0.5385) Grad: 33478.2617  LR: 0.00000001  \n",
      "Epoch: [6][3300/3419] Elapsed 15m 7s (remain 0m 32s) Loss: 0.6312(0.5385) Grad: 35542.0820  LR: 0.00000000  \n",
      "Epoch: [6][3400/3419] Elapsed 15m 34s (remain 0m 4s) Loss: 0.5169(0.5388) Grad: 41920.8398  LR: 0.00000000  \n",
      "Epoch: [6][3418/3419] Elapsed 15m 38s (remain 0m 0s) Loss: 0.5624(0.5390) Grad: 15463.0098  LR: 0.00000000  \n"
     ]
    },
    {
     "name": "stderr",
     "output_type": "stream",
     "text": [
      "[W pthreadpool-cpp.cc:90] Warning: Leaking Caffe2 thread-pool after fork. (function pthreadpool)\n",
      "[W pthreadpool-cpp.cc:90] Warning: Leaking Caffe2 thread-pool after fork. (function pthreadpool)\n",
      "[W pthreadpool-cpp.cc:90] Warning: Leaking Caffe2 thread-pool after fork. (function pthreadpool)\n",
      "[W pthreadpool-cpp.cc:90] Warning: Leaking Caffe2 thread-pool after fork. (function pthreadpool)\n"
     ]
    },
    {
     "name": "stdout",
     "output_type": "stream",
     "text": [
      "EVAL: [0/1140] Elapsed 0m 0s (remain 6m 26s) Loss: 0.6234(0.6234) \n",
      "EVAL: [100/1140] Elapsed 0m 11s (remain 2m 0s) Loss: 0.6923(0.5485) \n",
      "EVAL: [200/1140] Elapsed 0m 22s (remain 1m 47s) Loss: 0.7144(0.5572) \n",
      "EVAL: [300/1140] Elapsed 0m 34s (remain 1m 35s) Loss: 0.5094(0.5530) \n",
      "EVAL: [400/1140] Elapsed 0m 45s (remain 1m 24s) Loss: 0.6004(0.5540) \n",
      "EVAL: [500/1140] Elapsed 0m 57s (remain 1m 12s) Loss: 0.6663(0.5518) \n",
      "EVAL: [600/1140] Elapsed 1m 8s (remain 1m 1s) Loss: 0.6880(0.5508) \n",
      "EVAL: [700/1140] Elapsed 1m 19s (remain 0m 49s) Loss: 0.5047(0.5496) \n",
      "EVAL: [800/1140] Elapsed 1m 31s (remain 0m 38s) Loss: 0.6501(0.5490) \n",
      "EVAL: [900/1140] Elapsed 1m 42s (remain 0m 27s) Loss: 1.0605(0.5491) \n",
      "EVAL: [1000/1140] Elapsed 1m 53s (remain 0m 15s) Loss: 0.4682(0.5485) \n",
      "EVAL: [1100/1140] Elapsed 2m 5s (remain 0m 4s) Loss: 0.6667(0.5492) \n"
     ]
    },
    {
     "name": "stderr",
     "output_type": "stream",
     "text": [
      "Epoch 6 - avg_train_loss: 0.5390  avg_val_loss: 0.5498  time: 1069s\n",
      "Epoch 6 - Score: 0.8153\n",
      "Epoch 6 - Save Best Score: 0.8153 Model\n"
     ]
    },
    {
     "name": "stdout",
     "output_type": "stream",
     "text": [
      "EVAL: [1139/1140] Elapsed 2m 9s (remain 0m 0s) Loss: 0.4921(0.5498) \n"
     ]
    },
    {
     "name": "stderr",
     "output_type": "stream",
     "text": [
      "========== fold: 3 result ==========\n",
      "Score: 0.8153\n",
      "========== CV ==========\n",
      "Score: 0.8257\n"
     ]
    }
   ],
   "source": [
    "if __name__ == '__main__':\n",
    "    \n",
    "    def get_result(oof_df):\n",
    "        labels = oof_df['score'].values\n",
    "        preds = oof_df['pred'].values\n",
    "        score = get_score(labels, preds)\n",
    "        LOGGER.info(f'Score: {score:<.4f}')\n",
    "    \n",
    "    if CFG.train:\n",
    "        oof_df = pd.DataFrame()\n",
    "        for fold in range(CFG.n_fold):\n",
    "            LOGGER.info(f\"========== fold: {fold} training ==========\")\n",
    "            print(f\"\\033[38;5;40m========== fold: {fold} training ==========\\033[0m\");\n",
    "            if fold in CFG.trn_fold:\n",
    "                # ====================================================\n",
    "                # loader\n",
    "                # ====================================================\n",
    "                folds = train\n",
    "                train_folds = folds[folds['fold'] != fold].reset_index(drop=True)\n",
    "                valid_folds = folds[folds['fold'] == fold].reset_index(drop=True)\n",
    "                valid_labels = valid_folds['score'].values\n",
    "\n",
    "                train_dataset = TrainDataset(CFG, train_folds)\n",
    "                valid_dataset = TrainDataset(CFG, valid_folds)\n",
    "\n",
    "                train_loader = DataLoader(train_dataset,\n",
    "                                          batch_size=CFG.batch_size,\n",
    "                                          shuffle=True,\n",
    "                                          num_workers=CFG.num_workers, pin_memory=True, drop_last=True)\n",
    "                valid_loader = DataLoader(valid_dataset,\n",
    "                                          batch_size=CFG.batch_size,\n",
    "                                          shuffle=False,\n",
    "                                          num_workers=CFG.num_workers, pin_memory=True, drop_last=False)\n",
    "\n",
    "#                 _oof_df = train_loop(train, fold)\n",
    "                _oof_df = train_loop(train_loader, valid_loader)\n",
    "                oof_df = pd.concat([oof_df, _oof_df])\n",
    "                LOGGER.info(f\"========== fold: {fold} result ==========\")\n",
    "                get_result(_oof_df)\n",
    "        oof_df = oof_df.reset_index(drop=True)\n",
    "        LOGGER.info(f\"========== CV ==========\")\n",
    "        get_result(oof_df)\n",
    "        oof_df.to_pickle(OUTPUT_DIR+'oof_df.pkl')\n",
    "        \n",
    "    if CFG.wandb:\n",
    "        wandb.finish()"
   ]
  },
  {
   "cell_type": "code",
   "execution_count": 31,
   "id": "6b65b21c",
   "metadata": {},
   "outputs": [
    {
     "name": "stdout",
     "output_type": "stream",
     "text": [
      "25428.500453710556 hour\n"
     ]
    }
   ],
   "source": [
    "print(f'{time.time()-start} hour')"
   ]
  },
  {
   "cell_type": "code",
   "execution_count": 32,
   "id": "5c638e57",
   "metadata": {},
   "outputs": [],
   "source": [
    "\n",
    "!touch trained_list/deberta-custom.txt"
   ]
  },
  {
   "cell_type": "code",
   "execution_count": 33,
   "id": "9343b101-0c9b-456d-b0c8-cc5e8b8b1317",
   "metadata": {},
   "outputs": [
    {
     "data": {
      "text/plain": [
       "'microsoft-deberta-v3-base-mixout0.9-transformer-all'"
      ]
     },
     "execution_count": 33,
     "metadata": {},
     "output_type": "execute_result"
    }
   ],
   "source": [
    "EXP_NAME"
   ]
  },
  {
   "cell_type": "code",
   "execution_count": 34,
   "id": "2e30d85c-df17-4211-ab0f-3886dd942276",
   "metadata": {},
   "outputs": [],
   "source": [
    "# model = AutoModel.from_pretrained(CFG.model, config=AutoConfig.from_pretrained(CFG.model, output_hidden_states=True))"
   ]
  },
  {
   "cell_type": "code",
   "execution_count": 35,
   "id": "060989e4-10a2-4eeb-b39e-1451aab2e77c",
   "metadata": {},
   "outputs": [],
   "source": [
    "# model.modules()"
   ]
  },
  {
   "cell_type": "code",
   "execution_count": 36,
   "id": "2f2cb436-b039-4232-9e65-cbf3b509e79b",
   "metadata": {},
   "outputs": [],
   "source": [
    "# for sup_module in model.modules():\n",
    "#         for name, module in sup_module.named_children():\n",
    "#             if isinstance(module, nn.Dropout):\n",
    "#                 module.p = 0.0\n",
    "#             if isinstance(module, nn.Linear):\n",
    "#                 target_state_dict = module.state_dict()\n",
    "#                 bias = True if module.bias is not None else False\n",
    "#                 new_module = MixLinear(\n",
    "#                     module.in_features, module.out_features, bias, target_state_dict[\"weight\"], cfg.mixout_prob\n",
    "#                 )\n",
    "#                 new_module.load_state_dict(target_state_dict)\n",
    "#                 setattr(sup_module, name, new_module)\n",
    "                            "
   ]
  },
  {
   "cell_type": "code",
   "execution_count": 37,
   "id": "cd2afeb9-6924-47cc-a138-3af2a28fe70b",
   "metadata": {},
   "outputs": [],
   "source": [
    "! touch trained_list/microsoft-deberta-v3-base-mixout0.3-transformer-all.txt"
   ]
  },
  {
   "cell_type": "code",
   "execution_count": null,
   "id": "b537d6f3-6592-4ab1-ae39-261a2393df4c",
   "metadata": {},
   "outputs": [],
   "source": []
  }
 ],
 "metadata": {
  "kernelspec": {
   "display_name": "Python 3 (ipykernel)",
   "language": "python",
   "name": "python3"
  },
  "language_info": {
   "codemirror_mode": {
    "name": "ipython",
    "version": 3
   },
   "file_extension": ".py",
   "mimetype": "text/x-python",
   "name": "python",
   "nbconvert_exporter": "python",
   "pygments_lexer": "ipython3",
   "version": "3.7.12"
  },
  "papermill": {
   "default_parameters": {},
   "duration": 30329.017674,
   "end_time": "2022-03-22T18:05:22.040486",
   "environment_variables": {},
   "exception": null,
   "input_path": "__notebook__.ipynb",
   "output_path": "__notebook__.ipynb",
   "parameters": {},
   "start_time": "2022-03-22T09:39:53.022812",
   "version": "2.3.3"
  },
  "widgets": {
   "application/vnd.jupyter.widget-state+json": {
    "state": {
     "126a1e5f24e44838a03204815209c5dc": {
      "model_module": "@jupyter-widgets/controls",
      "model_module_version": "1.5.0",
      "model_name": "ProgressStyleModel",
      "state": {
       "_model_module": "@jupyter-widgets/controls",
       "_model_module_version": "1.5.0",
       "_model_name": "ProgressStyleModel",
       "_view_count": null,
       "_view_module": "@jupyter-widgets/base",
       "_view_module_version": "1.2.0",
       "_view_name": "StyleView",
       "bar_color": null,
       "description_width": ""
      }
     },
     "12d0d3a78caf4f8c93da02229f2185df": {
      "model_module": "@jupyter-widgets/base",
      "model_module_version": "1.2.0",
      "model_name": "LayoutModel",
      "state": {
       "_model_module": "@jupyter-widgets/base",
       "_model_module_version": "1.2.0",
       "_model_name": "LayoutModel",
       "_view_count": null,
       "_view_module": "@jupyter-widgets/base",
       "_view_module_version": "1.2.0",
       "_view_name": "LayoutView",
       "align_content": null,
       "align_items": null,
       "align_self": null,
       "border": null,
       "bottom": null,
       "display": null,
       "flex": null,
       "flex_flow": null,
       "grid_area": null,
       "grid_auto_columns": null,
       "grid_auto_flow": null,
       "grid_auto_rows": null,
       "grid_column": null,
       "grid_gap": null,
       "grid_row": null,
       "grid_template_areas": null,
       "grid_template_columns": null,
       "grid_template_rows": null,
       "height": null,
       "justify_content": null,
       "justify_items": null,
       "left": null,
       "margin": null,
       "max_height": null,
       "max_width": null,
       "min_height": null,
       "min_width": null,
       "object_fit": null,
       "object_position": null,
       "order": null,
       "overflow": null,
       "overflow_x": null,
       "overflow_y": null,
       "padding": null,
       "right": null,
       "top": null,
       "visibility": null,
       "width": null
      }
     },
     "14972cafd36646939e742a987e1d0ec7": {
      "model_module": "@jupyter-widgets/base",
      "model_module_version": "1.2.0",
      "model_name": "LayoutModel",
      "state": {
       "_model_module": "@jupyter-widgets/base",
       "_model_module_version": "1.2.0",
       "_model_name": "LayoutModel",
       "_view_count": null,
       "_view_module": "@jupyter-widgets/base",
       "_view_module_version": "1.2.0",
       "_view_name": "LayoutView",
       "align_content": null,
       "align_items": null,
       "align_self": null,
       "border": null,
       "bottom": null,
       "display": null,
       "flex": null,
       "flex_flow": null,
       "grid_area": null,
       "grid_auto_columns": null,
       "grid_auto_flow": null,
       "grid_auto_rows": null,
       "grid_column": null,
       "grid_gap": null,
       "grid_row": null,
       "grid_template_areas": null,
       "grid_template_columns": null,
       "grid_template_rows": null,
       "height": null,
       "justify_content": null,
       "justify_items": null,
       "left": null,
       "margin": null,
       "max_height": null,
       "max_width": null,
       "min_height": null,
       "min_width": null,
       "object_fit": null,
       "object_position": null,
       "order": null,
       "overflow": null,
       "overflow_x": null,
       "overflow_y": null,
       "padding": null,
       "right": null,
       "top": null,
       "visibility": null,
       "width": null
      }
     },
     "181ebde2d0064fb99b8ec32e9dc76836": {
      "model_module": "@jupyter-widgets/controls",
      "model_module_version": "1.5.0",
      "model_name": "HTMLModel",
      "state": {
       "_dom_classes": [],
       "_model_module": "@jupyter-widgets/controls",
       "_model_module_version": "1.5.0",
       "_model_name": "HTMLModel",
       "_view_count": null,
       "_view_module": "@jupyter-widgets/controls",
       "_view_module_version": "1.5.0",
       "_view_name": "HTMLView",
       "description": "",
       "description_tooltip": null,
       "layout": "IPY_MODEL_c1e8e53062324cf38fbd75eab01e066a",
       "placeholder": "​",
       "style": "IPY_MODEL_3feaf01a7f7b43ed923effab61b93ac4",
       "value": " 36473/36473 [00:03&lt;00:00, 12012.58it/s]"
      }
     },
     "1c5d07635bff4f7999e3e8486f648aaf": {
      "model_module": "@jupyter-widgets/controls",
      "model_module_version": "1.5.0",
      "model_name": "FloatProgressModel",
      "state": {
       "_dom_classes": [],
       "_model_module": "@jupyter-widgets/controls",
       "_model_module_version": "1.5.0",
       "_model_name": "FloatProgressModel",
       "_view_count": null,
       "_view_module": "@jupyter-widgets/controls",
       "_view_module_version": "1.5.0",
       "_view_name": "ProgressView",
       "bar_style": "success",
       "description": "",
       "description_tooltip": null,
       "layout": "IPY_MODEL_87214ce12c1f422481a0fe3caf5a3ce8",
       "max": 2464616,
       "min": 0,
       "orientation": "horizontal",
       "style": "IPY_MODEL_d9f0d96d140a4115aadfdfc9ce5ba608",
       "value": 2464616
      }
     },
     "1d83ae8940534922833de4d1fdd71216": {
      "model_module": "@jupyter-widgets/base",
      "model_module_version": "1.2.0",
      "model_name": "LayoutModel",
      "state": {
       "_model_module": "@jupyter-widgets/base",
       "_model_module_version": "1.2.0",
       "_model_name": "LayoutModel",
       "_view_count": null,
       "_view_module": "@jupyter-widgets/base",
       "_view_module_version": "1.2.0",
       "_view_name": "LayoutView",
       "align_content": null,
       "align_items": null,
       "align_self": null,
       "border": null,
       "bottom": null,
       "display": null,
       "flex": null,
       "flex_flow": null,
       "grid_area": null,
       "grid_auto_columns": null,
       "grid_auto_flow": null,
       "grid_auto_rows": null,
       "grid_column": null,
       "grid_gap": null,
       "grid_row": null,
       "grid_template_areas": null,
       "grid_template_columns": null,
       "grid_template_rows": null,
       "height": null,
       "justify_content": null,
       "justify_items": null,
       "left": null,
       "margin": null,
       "max_height": null,
       "max_width": null,
       "min_height": null,
       "min_width": null,
       "object_fit": null,
       "object_position": null,
       "order": null,
       "overflow": null,
       "overflow_x": null,
       "overflow_y": null,
       "padding": null,
       "right": null,
       "top": null,
       "visibility": null,
       "width": null
      }
     },
     "2373dbe30aca4d64b94b5bb64216151e": {
      "model_module": "@jupyter-widgets/base",
      "model_module_version": "1.2.0",
      "model_name": "LayoutModel",
      "state": {
       "_model_module": "@jupyter-widgets/base",
       "_model_module_version": "1.2.0",
       "_model_name": "LayoutModel",
       "_view_count": null,
       "_view_module": "@jupyter-widgets/base",
       "_view_module_version": "1.2.0",
       "_view_name": "LayoutView",
       "align_content": null,
       "align_items": null,
       "align_self": null,
       "border": null,
       "bottom": null,
       "display": null,
       "flex": null,
       "flex_flow": null,
       "grid_area": null,
       "grid_auto_columns": null,
       "grid_auto_flow": null,
       "grid_auto_rows": null,
       "grid_column": null,
       "grid_gap": null,
       "grid_row": null,
       "grid_template_areas": null,
       "grid_template_columns": null,
       "grid_template_rows": null,
       "height": null,
       "justify_content": null,
       "justify_items": null,
       "left": null,
       "margin": null,
       "max_height": null,
       "max_width": null,
       "min_height": null,
       "min_width": null,
       "object_fit": null,
       "object_position": null,
       "order": null,
       "overflow": null,
       "overflow_x": null,
       "overflow_y": null,
       "padding": null,
       "right": null,
       "top": null,
       "visibility": null,
       "width": null
      }
     },
     "251e902150c543d2a2212b4250931617": {
      "model_module": "@jupyter-widgets/controls",
      "model_module_version": "1.5.0",
      "model_name": "HBoxModel",
      "state": {
       "_dom_classes": [],
       "_model_module": "@jupyter-widgets/controls",
       "_model_module_version": "1.5.0",
       "_model_name": "HBoxModel",
       "_view_count": null,
       "_view_module": "@jupyter-widgets/controls",
       "_view_module_version": "1.5.0",
       "_view_name": "HBoxView",
       "box_style": "",
       "children": [
        "IPY_MODEL_7d211c0746b64a0b935fa964ad7bd858",
        "IPY_MODEL_432a848a161c4a0888dad1ac9c5408c3",
        "IPY_MODEL_181ebde2d0064fb99b8ec32e9dc76836"
       ],
       "layout": "IPY_MODEL_5d82f1a2cf554609ba65dfb95dc152e5"
      }
     },
     "2866d577bb3049b283da7c969f175d91": {
      "model_module": "@jupyter-widgets/controls",
      "model_module_version": "1.5.0",
      "model_name": "HBoxModel",
      "state": {
       "_dom_classes": [],
       "_model_module": "@jupyter-widgets/controls",
       "_model_module_version": "1.5.0",
       "_model_name": "HBoxModel",
       "_view_count": null,
       "_view_module": "@jupyter-widgets/controls",
       "_view_module_version": "1.5.0",
       "_view_name": "HBoxView",
       "box_style": "",
       "children": [
        "IPY_MODEL_673fb48e7dca47f4a3754d06af7dcf1f",
        "IPY_MODEL_bba517b096dd460cb764ccd71b57f148",
        "IPY_MODEL_362ef79e65894ea9aaae390562257f58"
       ],
       "layout": "IPY_MODEL_9d403276e05f4c368e46f353070b9d9a"
      }
     },
     "291ab6d32ec345ee8adaa6f354bfcfb4": {
      "model_module": "@jupyter-widgets/controls",
      "model_module_version": "1.5.0",
      "model_name": "HTMLModel",
      "state": {
       "_dom_classes": [],
       "_model_module": "@jupyter-widgets/controls",
       "_model_module_version": "1.5.0",
       "_model_name": "HTMLModel",
       "_view_count": null,
       "_view_module": "@jupyter-widgets/controls",
       "_view_module_version": "1.5.0",
       "_view_name": "HTMLView",
       "description": "",
       "description_tooltip": null,
       "layout": "IPY_MODEL_12d0d3a78caf4f8c93da02229f2185df",
       "placeholder": "​",
       "style": "IPY_MODEL_de3e60ed24f04a7ab49a05b98b7cf0f0",
       "value": " 36473/36473 [00:03&lt;00:00, 7261.90it/s]"
      }
     },
     "341389680b6a43d8b6b3de95dffca671": {
      "model_module": "@jupyter-widgets/base",
      "model_module_version": "1.2.0",
      "model_name": "LayoutModel",
      "state": {
       "_model_module": "@jupyter-widgets/base",
       "_model_module_version": "1.2.0",
       "_model_name": "LayoutModel",
       "_view_count": null,
       "_view_module": "@jupyter-widgets/base",
       "_view_module_version": "1.2.0",
       "_view_name": "LayoutView",
       "align_content": null,
       "align_items": null,
       "align_self": null,
       "border": null,
       "bottom": null,
       "display": null,
       "flex": null,
       "flex_flow": null,
       "grid_area": null,
       "grid_auto_columns": null,
       "grid_auto_flow": null,
       "grid_auto_rows": null,
       "grid_column": null,
       "grid_gap": null,
       "grid_row": null,
       "grid_template_areas": null,
       "grid_template_columns": null,
       "grid_template_rows": null,
       "height": null,
       "justify_content": null,
       "justify_items": null,
       "left": null,
       "margin": null,
       "max_height": null,
       "max_width": null,
       "min_height": null,
       "min_width": null,
       "object_fit": null,
       "object_position": null,
       "order": null,
       "overflow": null,
       "overflow_x": null,
       "overflow_y": null,
       "padding": null,
       "right": null,
       "top": null,
       "visibility": null,
       "width": null
      }
     },
     "349e43c8d4114c36823434cef63fc567": {
      "model_module": "@jupyter-widgets/controls",
      "model_module_version": "1.5.0",
      "model_name": "ProgressStyleModel",
      "state": {
       "_model_module": "@jupyter-widgets/controls",
       "_model_module_version": "1.5.0",
       "_model_name": "ProgressStyleModel",
       "_view_count": null,
       "_view_module": "@jupyter-widgets/base",
       "_view_module_version": "1.2.0",
       "_view_name": "StyleView",
       "bar_color": null,
       "description_width": ""
      }
     },
     "35cb92ba1b2d4932bc3a0b0640f71b0c": {
      "model_module": "@jupyter-widgets/controls",
      "model_module_version": "1.5.0",
      "model_name": "DescriptionStyleModel",
      "state": {
       "_model_module": "@jupyter-widgets/controls",
       "_model_module_version": "1.5.0",
       "_model_name": "DescriptionStyleModel",
       "_view_count": null,
       "_view_module": "@jupyter-widgets/base",
       "_view_module_version": "1.2.0",
       "_view_name": "StyleView",
       "description_width": ""
      }
     },
     "360314d0f3254b66818b8a62223c2b0b": {
      "model_module": "@jupyter-widgets/base",
      "model_module_version": "1.2.0",
      "model_name": "LayoutModel",
      "state": {
       "_model_module": "@jupyter-widgets/base",
       "_model_module_version": "1.2.0",
       "_model_name": "LayoutModel",
       "_view_count": null,
       "_view_module": "@jupyter-widgets/base",
       "_view_module_version": "1.2.0",
       "_view_name": "LayoutView",
       "align_content": null,
       "align_items": null,
       "align_self": null,
       "border": null,
       "bottom": null,
       "display": null,
       "flex": null,
       "flex_flow": null,
       "grid_area": null,
       "grid_auto_columns": null,
       "grid_auto_flow": null,
       "grid_auto_rows": null,
       "grid_column": null,
       "grid_gap": null,
       "grid_row": null,
       "grid_template_areas": null,
       "grid_template_columns": null,
       "grid_template_rows": null,
       "height": null,
       "justify_content": null,
       "justify_items": null,
       "left": null,
       "margin": null,
       "max_height": null,
       "max_width": null,
       "min_height": null,
       "min_width": null,
       "object_fit": null,
       "object_position": null,
       "order": null,
       "overflow": null,
       "overflow_x": null,
       "overflow_y": null,
       "padding": null,
       "right": null,
       "top": null,
       "visibility": null,
       "width": null
      }
     },
     "362ef79e65894ea9aaae390562257f58": {
      "model_module": "@jupyter-widgets/controls",
      "model_module_version": "1.5.0",
      "model_name": "HTMLModel",
      "state": {
       "_dom_classes": [],
       "_model_module": "@jupyter-widgets/controls",
       "_model_module_version": "1.5.0",
       "_model_name": "HTMLModel",
       "_view_count": null,
       "_view_module": "@jupyter-widgets/controls",
       "_view_module_version": "1.5.0",
       "_view_name": "HTMLView",
       "description": "",
       "description_tooltip": null,
       "layout": "IPY_MODEL_4e94a902a0d44b1eacfaeee99cd470d2",
       "placeholder": "​",
       "style": "IPY_MODEL_ad6386dafce545c48eac271bb2a3c0dd",
       "value": " 136/136 [00:00&lt;00:00, 2149.45it/s]"
      }
     },
     "39512e7ede884ec1b6fe92f794e1d74d": {
      "model_module": "@jupyter-widgets/base",
      "model_module_version": "1.2.0",
      "model_name": "LayoutModel",
      "state": {
       "_model_module": "@jupyter-widgets/base",
       "_model_module_version": "1.2.0",
       "_model_name": "LayoutModel",
       "_view_count": null,
       "_view_module": "@jupyter-widgets/base",
       "_view_module_version": "1.2.0",
       "_view_name": "LayoutView",
       "align_content": null,
       "align_items": null,
       "align_self": null,
       "border": null,
       "bottom": null,
       "display": null,
       "flex": null,
       "flex_flow": null,
       "grid_area": null,
       "grid_auto_columns": null,
       "grid_auto_flow": null,
       "grid_auto_rows": null,
       "grid_column": null,
       "grid_gap": null,
       "grid_row": null,
       "grid_template_areas": null,
       "grid_template_columns": null,
       "grid_template_rows": null,
       "height": null,
       "justify_content": null,
       "justify_items": null,
       "left": null,
       "margin": null,
       "max_height": null,
       "max_width": null,
       "min_height": null,
       "min_width": null,
       "object_fit": null,
       "object_position": null,
       "order": null,
       "overflow": null,
       "overflow_x": null,
       "overflow_y": null,
       "padding": null,
       "right": null,
       "top": null,
       "visibility": null,
       "width": null
      }
     },
     "3b0ebe22bd154b01bcb4d6b2ab2dec83": {
      "model_module": "@jupyter-widgets/controls",
      "model_module_version": "1.5.0",
      "model_name": "HTMLModel",
      "state": {
       "_dom_classes": [],
       "_model_module": "@jupyter-widgets/controls",
       "_model_module_version": "1.5.0",
       "_model_name": "HTMLModel",
       "_view_count": null,
       "_view_module": "@jupyter-widgets/controls",
       "_view_module_version": "1.5.0",
       "_view_name": "HTMLView",
       "description": "",
       "description_tooltip": null,
       "layout": "IPY_MODEL_ad4745f1eca942009bdf6cf12913f34a",
       "placeholder": "​",
       "style": "IPY_MODEL_d3b6e4a4aac943b79ba51bbacd77907e",
       "value": " 2.35M/2.35M [00:00&lt;00:00, 4.49MB/s]"
      }
     },
     "3e601d15c9ef4bd1b05e70f9267e1dfe": {
      "model_module": "@jupyter-widgets/controls",
      "model_module_version": "1.5.0",
      "model_name": "DescriptionStyleModel",
      "state": {
       "_model_module": "@jupyter-widgets/controls",
       "_model_module_version": "1.5.0",
       "_model_name": "DescriptionStyleModel",
       "_view_count": null,
       "_view_module": "@jupyter-widgets/base",
       "_view_module_version": "1.2.0",
       "_view_name": "StyleView",
       "description_width": ""
      }
     },
     "3feaf01a7f7b43ed923effab61b93ac4": {
      "model_module": "@jupyter-widgets/controls",
      "model_module_version": "1.5.0",
      "model_name": "DescriptionStyleModel",
      "state": {
       "_model_module": "@jupyter-widgets/controls",
       "_model_module_version": "1.5.0",
       "_model_name": "DescriptionStyleModel",
       "_view_count": null,
       "_view_module": "@jupyter-widgets/base",
       "_view_module_version": "1.2.0",
       "_view_name": "StyleView",
       "description_width": ""
      }
     },
     "4133e3e34f97426c9bebda989ec7e167": {
      "model_module": "@jupyter-widgets/controls",
      "model_module_version": "1.5.0",
      "model_name": "HBoxModel",
      "state": {
       "_dom_classes": [],
       "_model_module": "@jupyter-widgets/controls",
       "_model_module_version": "1.5.0",
       "_model_name": "HBoxModel",
       "_view_count": null,
       "_view_module": "@jupyter-widgets/controls",
       "_view_module_version": "1.5.0",
       "_view_name": "HBoxView",
       "box_style": "",
       "children": [
        "IPY_MODEL_48b36757767f4ff39f262dd63e844057",
        "IPY_MODEL_a03e24ff8fc54bccaa69e36839b36bab",
        "IPY_MODEL_e3e17f880bab4d47a1531bebac861fda"
       ],
       "layout": "IPY_MODEL_da88817e8aed48399b1948f8e004ee97"
      }
     },
     "43014906a0084e288ab06cb3ebf57538": {
      "model_module": "@jupyter-widgets/controls",
      "model_module_version": "1.5.0",
      "model_name": "HTMLModel",
      "state": {
       "_dom_classes": [],
       "_model_module": "@jupyter-widgets/controls",
       "_model_module_version": "1.5.0",
       "_model_name": "HTMLModel",
       "_view_count": null,
       "_view_module": "@jupyter-widgets/controls",
       "_view_module_version": "1.5.0",
       "_view_name": "HTMLView",
       "description": "",
       "description_tooltip": null,
       "layout": "IPY_MODEL_968e2989cea6490d9ee08b6700291242",
       "placeholder": "​",
       "style": "IPY_MODEL_929108014ee94c9092394cf7ef09134f",
       "value": "Downloading: 100%"
      }
     },
     "432a848a161c4a0888dad1ac9c5408c3": {
      "model_module": "@jupyter-widgets/controls",
      "model_module_version": "1.5.0",
      "model_name": "FloatProgressModel",
      "state": {
       "_dom_classes": [],
       "_model_module": "@jupyter-widgets/controls",
       "_model_module_version": "1.5.0",
       "_model_name": "FloatProgressModel",
       "_view_count": null,
       "_view_module": "@jupyter-widgets/controls",
       "_view_module_version": "1.5.0",
       "_view_name": "ProgressView",
       "bar_style": "success",
       "description": "",
       "description_tooltip": null,
       "layout": "IPY_MODEL_39512e7ede884ec1b6fe92f794e1d74d",
       "max": 36473,
       "min": 0,
       "orientation": "horizontal",
       "style": "IPY_MODEL_466a744f951d433da986e75bc9fd3b69",
       "value": 36473
      }
     },
     "466a744f951d433da986e75bc9fd3b69": {
      "model_module": "@jupyter-widgets/controls",
      "model_module_version": "1.5.0",
      "model_name": "ProgressStyleModel",
      "state": {
       "_model_module": "@jupyter-widgets/controls",
       "_model_module_version": "1.5.0",
       "_model_name": "ProgressStyleModel",
       "_view_count": null,
       "_view_module": "@jupyter-widgets/base",
       "_view_module_version": "1.2.0",
       "_view_name": "StyleView",
       "bar_color": null,
       "description_width": ""
      }
     },
     "46ab7441760642718f381e7f430e16a0": {
      "model_module": "@jupyter-widgets/controls",
      "model_module_version": "1.5.0",
      "model_name": "DescriptionStyleModel",
      "state": {
       "_model_module": "@jupyter-widgets/controls",
       "_model_module_version": "1.5.0",
       "_model_name": "DescriptionStyleModel",
       "_view_count": null,
       "_view_module": "@jupyter-widgets/base",
       "_view_module_version": "1.2.0",
       "_view_name": "StyleView",
       "description_width": ""
      }
     },
     "48b36757767f4ff39f262dd63e844057": {
      "model_module": "@jupyter-widgets/controls",
      "model_module_version": "1.5.0",
      "model_name": "HTMLModel",
      "state": {
       "_dom_classes": [],
       "_model_module": "@jupyter-widgets/controls",
       "_model_module_version": "1.5.0",
       "_model_name": "HTMLModel",
       "_view_count": null,
       "_view_module": "@jupyter-widgets/controls",
       "_view_module_version": "1.5.0",
       "_view_name": "HTMLView",
       "description": "",
       "description_tooltip": null,
       "layout": "IPY_MODEL_14972cafd36646939e742a987e1d0ec7",
       "placeholder": "​",
       "style": "IPY_MODEL_3e601d15c9ef4bd1b05e70f9267e1dfe",
       "value": "Downloading: 100%"
      }
     },
     "4c514a00a080445da009d272716b3577": {
      "model_module": "@jupyter-widgets/controls",
      "model_module_version": "1.5.0",
      "model_name": "HTMLModel",
      "state": {
       "_dom_classes": [],
       "_model_module": "@jupyter-widgets/controls",
       "_model_module_version": "1.5.0",
       "_model_name": "HTMLModel",
       "_view_count": null,
       "_view_module": "@jupyter-widgets/controls",
       "_view_module_version": "1.5.0",
       "_view_name": "HTMLView",
       "description": "",
       "description_tooltip": null,
       "layout": "IPY_MODEL_81b1213eb9dc4aa083951352d9f6beaf",
       "placeholder": "​",
       "style": "IPY_MODEL_7603cb9268524ed3821b4f307f74d15e",
       "value": "Downloading: 100%"
      }
     },
     "4e94a902a0d44b1eacfaeee99cd470d2": {
      "model_module": "@jupyter-widgets/base",
      "model_module_version": "1.2.0",
      "model_name": "LayoutModel",
      "state": {
       "_model_module": "@jupyter-widgets/base",
       "_model_module_version": "1.2.0",
       "_model_name": "LayoutModel",
       "_view_count": null,
       "_view_module": "@jupyter-widgets/base",
       "_view_module_version": "1.2.0",
       "_view_name": "LayoutView",
       "align_content": null,
       "align_items": null,
       "align_self": null,
       "border": null,
       "bottom": null,
       "display": null,
       "flex": null,
       "flex_flow": null,
       "grid_area": null,
       "grid_auto_columns": null,
       "grid_auto_flow": null,
       "grid_auto_rows": null,
       "grid_column": null,
       "grid_gap": null,
       "grid_row": null,
       "grid_template_areas": null,
       "grid_template_columns": null,
       "grid_template_rows": null,
       "height": null,
       "justify_content": null,
       "justify_items": null,
       "left": null,
       "margin": null,
       "max_height": null,
       "max_width": null,
       "min_height": null,
       "min_width": null,
       "object_fit": null,
       "object_position": null,
       "order": null,
       "overflow": null,
       "overflow_x": null,
       "overflow_y": null,
       "padding": null,
       "right": null,
       "top": null,
       "visibility": null,
       "width": null
      }
     },
     "5235854cc7964193afec8b3316b36ef7": {
      "model_module": "@jupyter-widgets/controls",
      "model_module_version": "1.5.0",
      "model_name": "HBoxModel",
      "state": {
       "_dom_classes": [],
       "_model_module": "@jupyter-widgets/controls",
       "_model_module_version": "1.5.0",
       "_model_name": "HBoxModel",
       "_view_count": null,
       "_view_module": "@jupyter-widgets/controls",
       "_view_module_version": "1.5.0",
       "_view_name": "HBoxView",
       "box_style": "",
       "children": [
        "IPY_MODEL_58c973b1ea8a446e9993f32d3612c8b9",
        "IPY_MODEL_b849e52bd84942e583de4b9325c96afe",
        "IPY_MODEL_291ab6d32ec345ee8adaa6f354bfcfb4"
       ],
       "layout": "IPY_MODEL_fb6b7fc69b2549ab9d80d71017422178"
      }
     },
     "58c973b1ea8a446e9993f32d3612c8b9": {
      "model_module": "@jupyter-widgets/controls",
      "model_module_version": "1.5.0",
      "model_name": "HTMLModel",
      "state": {
       "_dom_classes": [],
       "_model_module": "@jupyter-widgets/controls",
       "_model_module_version": "1.5.0",
       "_model_name": "HTMLModel",
       "_view_count": null,
       "_view_module": "@jupyter-widgets/controls",
       "_view_module_version": "1.5.0",
       "_view_name": "HTMLView",
       "description": "",
       "description_tooltip": null,
       "layout": "IPY_MODEL_360314d0f3254b66818b8a62223c2b0b",
       "placeholder": "​",
       "style": "IPY_MODEL_c5de80b22af543edb57e65780298069e",
       "value": "100%"
      }
     },
     "5a2b3274110a42159fcfb2e01ceea10a": {
      "model_module": "@jupyter-widgets/controls",
      "model_module_version": "1.5.0",
      "model_name": "HBoxModel",
      "state": {
       "_dom_classes": [],
       "_model_module": "@jupyter-widgets/controls",
       "_model_module_version": "1.5.0",
       "_model_name": "HBoxModel",
       "_view_count": null,
       "_view_module": "@jupyter-widgets/controls",
       "_view_module_version": "1.5.0",
       "_view_name": "HBoxView",
       "box_style": "",
       "children": [
        "IPY_MODEL_43014906a0084e288ab06cb3ebf57538",
        "IPY_MODEL_1c5d07635bff4f7999e3e8486f648aaf",
        "IPY_MODEL_3b0ebe22bd154b01bcb4d6b2ab2dec83"
       ],
       "layout": "IPY_MODEL_2373dbe30aca4d64b94b5bb64216151e"
      }
     },
     "5d82f1a2cf554609ba65dfb95dc152e5": {
      "model_module": "@jupyter-widgets/base",
      "model_module_version": "1.2.0",
      "model_name": "LayoutModel",
      "state": {
       "_model_module": "@jupyter-widgets/base",
       "_model_module_version": "1.2.0",
       "_model_name": "LayoutModel",
       "_view_count": null,
       "_view_module": "@jupyter-widgets/base",
       "_view_module_version": "1.2.0",
       "_view_name": "LayoutView",
       "align_content": null,
       "align_items": null,
       "align_self": null,
       "border": null,
       "bottom": null,
       "display": null,
       "flex": null,
       "flex_flow": null,
       "grid_area": null,
       "grid_auto_columns": null,
       "grid_auto_flow": null,
       "grid_auto_rows": null,
       "grid_column": null,
       "grid_gap": null,
       "grid_row": null,
       "grid_template_areas": null,
       "grid_template_columns": null,
       "grid_template_rows": null,
       "height": null,
       "justify_content": null,
       "justify_items": null,
       "left": null,
       "margin": null,
       "max_height": null,
       "max_width": null,
       "min_height": null,
       "min_width": null,
       "object_fit": null,
       "object_position": null,
       "order": null,
       "overflow": null,
       "overflow_x": null,
       "overflow_y": null,
       "padding": null,
       "right": null,
       "top": null,
       "visibility": null,
       "width": null
      }
     },
     "5ffb53b010e948a0918366a7721dd7a9": {
      "model_module": "@jupyter-widgets/controls",
      "model_module_version": "1.5.0",
      "model_name": "LabelModel",
      "state": {
       "_dom_classes": [],
       "_model_module": "@jupyter-widgets/controls",
       "_model_module_version": "1.5.0",
       "_model_name": "LabelModel",
       "_view_count": null,
       "_view_module": "@jupyter-widgets/controls",
       "_view_module_version": "1.5.0",
       "_view_name": "LabelView",
       "description": "",
       "description_tooltip": null,
       "layout": "IPY_MODEL_aaf4c8e1ae794178bd2db64c5c27edcd",
       "placeholder": "​",
       "style": "IPY_MODEL_ff0d93c0f2a54cae8698028db31d1454",
       "value": "0.065 MB of 0.065 MB uploaded (0.000 MB deduped)\r"
      }
     },
     "65f9dfd885184f818373dcaf8b820da7": {
      "model_module": "@jupyter-widgets/base",
      "model_module_version": "1.2.0",
      "model_name": "LayoutModel",
      "state": {
       "_model_module": "@jupyter-widgets/base",
       "_model_module_version": "1.2.0",
       "_model_name": "LayoutModel",
       "_view_count": null,
       "_view_module": "@jupyter-widgets/base",
       "_view_module_version": "1.2.0",
       "_view_name": "LayoutView",
       "align_content": null,
       "align_items": null,
       "align_self": null,
       "border": null,
       "bottom": null,
       "display": null,
       "flex": null,
       "flex_flow": null,
       "grid_area": null,
       "grid_auto_columns": null,
       "grid_auto_flow": null,
       "grid_auto_rows": null,
       "grid_column": null,
       "grid_gap": null,
       "grid_row": null,
       "grid_template_areas": null,
       "grid_template_columns": null,
       "grid_template_rows": null,
       "height": null,
       "justify_content": null,
       "justify_items": null,
       "left": null,
       "margin": null,
       "max_height": null,
       "max_width": null,
       "min_height": null,
       "min_width": null,
       "object_fit": null,
       "object_position": null,
       "order": null,
       "overflow": null,
       "overflow_x": null,
       "overflow_y": null,
       "padding": null,
       "right": null,
       "top": null,
       "visibility": null,
       "width": null
      }
     },
     "673fb48e7dca47f4a3754d06af7dcf1f": {
      "model_module": "@jupyter-widgets/controls",
      "model_module_version": "1.5.0",
      "model_name": "HTMLModel",
      "state": {
       "_dom_classes": [],
       "_model_module": "@jupyter-widgets/controls",
       "_model_module_version": "1.5.0",
       "_model_name": "HTMLModel",
       "_view_count": null,
       "_view_module": "@jupyter-widgets/controls",
       "_view_module_version": "1.5.0",
       "_view_name": "HTMLView",
       "description": "",
       "description_tooltip": null,
       "layout": "IPY_MODEL_749c407f4aa34689954d06117f699f3c",
       "placeholder": "​",
       "style": "IPY_MODEL_bb944cd3fb694105a4d535f4e9c333a8",
       "value": "100%"
      }
     },
     "6947506e822e46d99b4dd82a8a4209cd": {
      "model_module": "@jupyter-widgets/base",
      "model_module_version": "1.2.0",
      "model_name": "LayoutModel",
      "state": {
       "_model_module": "@jupyter-widgets/base",
       "_model_module_version": "1.2.0",
       "_model_name": "LayoutModel",
       "_view_count": null,
       "_view_module": "@jupyter-widgets/base",
       "_view_module_version": "1.2.0",
       "_view_name": "LayoutView",
       "align_content": null,
       "align_items": null,
       "align_self": null,
       "border": null,
       "bottom": null,
       "display": null,
       "flex": null,
       "flex_flow": null,
       "grid_area": null,
       "grid_auto_columns": null,
       "grid_auto_flow": null,
       "grid_auto_rows": null,
       "grid_column": null,
       "grid_gap": null,
       "grid_row": null,
       "grid_template_areas": null,
       "grid_template_columns": null,
       "grid_template_rows": null,
       "height": null,
       "justify_content": null,
       "justify_items": null,
       "left": null,
       "margin": null,
       "max_height": null,
       "max_width": null,
       "min_height": null,
       "min_width": null,
       "object_fit": null,
       "object_position": null,
       "order": null,
       "overflow": null,
       "overflow_x": null,
       "overflow_y": null,
       "padding": null,
       "right": null,
       "top": null,
       "visibility": null,
       "width": null
      }
     },
     "749c407f4aa34689954d06117f699f3c": {
      "model_module": "@jupyter-widgets/base",
      "model_module_version": "1.2.0",
      "model_name": "LayoutModel",
      "state": {
       "_model_module": "@jupyter-widgets/base",
       "_model_module_version": "1.2.0",
       "_model_name": "LayoutModel",
       "_view_count": null,
       "_view_module": "@jupyter-widgets/base",
       "_view_module_version": "1.2.0",
       "_view_name": "LayoutView",
       "align_content": null,
       "align_items": null,
       "align_self": null,
       "border": null,
       "bottom": null,
       "display": null,
       "flex": null,
       "flex_flow": null,
       "grid_area": null,
       "grid_auto_columns": null,
       "grid_auto_flow": null,
       "grid_auto_rows": null,
       "grid_column": null,
       "grid_gap": null,
       "grid_row": null,
       "grid_template_areas": null,
       "grid_template_columns": null,
       "grid_template_rows": null,
       "height": null,
       "justify_content": null,
       "justify_items": null,
       "left": null,
       "margin": null,
       "max_height": null,
       "max_width": null,
       "min_height": null,
       "min_width": null,
       "object_fit": null,
       "object_position": null,
       "order": null,
       "overflow": null,
       "overflow_x": null,
       "overflow_y": null,
       "padding": null,
       "right": null,
       "top": null,
       "visibility": null,
       "width": null
      }
     },
     "7603cb9268524ed3821b4f307f74d15e": {
      "model_module": "@jupyter-widgets/controls",
      "model_module_version": "1.5.0",
      "model_name": "DescriptionStyleModel",
      "state": {
       "_model_module": "@jupyter-widgets/controls",
       "_model_module_version": "1.5.0",
       "_model_name": "DescriptionStyleModel",
       "_view_count": null,
       "_view_module": "@jupyter-widgets/base",
       "_view_module_version": "1.2.0",
       "_view_name": "StyleView",
       "description_width": ""
      }
     },
     "7d211c0746b64a0b935fa964ad7bd858": {
      "model_module": "@jupyter-widgets/controls",
      "model_module_version": "1.5.0",
      "model_name": "HTMLModel",
      "state": {
       "_dom_classes": [],
       "_model_module": "@jupyter-widgets/controls",
       "_model_module_version": "1.5.0",
       "_model_name": "HTMLModel",
       "_view_count": null,
       "_view_module": "@jupyter-widgets/controls",
       "_view_module_version": "1.5.0",
       "_view_name": "HTMLView",
       "description": "",
       "description_tooltip": null,
       "layout": "IPY_MODEL_f836cfd56e0d4d7188f1b263a5845bff",
       "placeholder": "​",
       "style": "IPY_MODEL_a87f939ae9cb44bf8d9eed523f5cb995",
       "value": "100%"
      }
     },
     "7fb6ee0e688440bab23c07808e5cef8b": {
      "model_module": "@jupyter-widgets/controls",
      "model_module_version": "1.5.0",
      "model_name": "FloatProgressModel",
      "state": {
       "_dom_classes": [],
       "_model_module": "@jupyter-widgets/controls",
       "_model_module_version": "1.5.0",
       "_model_name": "FloatProgressModel",
       "_view_count": null,
       "_view_module": "@jupyter-widgets/controls",
       "_view_module_version": "1.5.0",
       "_view_name": "ProgressView",
       "bar_style": "success",
       "description": "",
       "description_tooltip": null,
       "layout": "IPY_MODEL_c0dcc3eeec934d289bf99c7d14bab090",
       "max": 873673253,
       "min": 0,
       "orientation": "horizontal",
       "style": "IPY_MODEL_c4ff773d63e34e0c93e23aa455a97958",
       "value": 873673253
      }
     },
     "80f827d24b2e421bbe84d92c8dcc002b": {
      "model_module": "@jupyter-widgets/base",
      "model_module_version": "1.2.0",
      "model_name": "LayoutModel",
      "state": {
       "_model_module": "@jupyter-widgets/base",
       "_model_module_version": "1.2.0",
       "_model_name": "LayoutModel",
       "_view_count": null,
       "_view_module": "@jupyter-widgets/base",
       "_view_module_version": "1.2.0",
       "_view_name": "LayoutView",
       "align_content": null,
       "align_items": null,
       "align_self": null,
       "border": null,
       "bottom": null,
       "display": null,
       "flex": null,
       "flex_flow": null,
       "grid_area": null,
       "grid_auto_columns": null,
       "grid_auto_flow": null,
       "grid_auto_rows": null,
       "grid_column": null,
       "grid_gap": null,
       "grid_row": null,
       "grid_template_areas": null,
       "grid_template_columns": null,
       "grid_template_rows": null,
       "height": null,
       "justify_content": null,
       "justify_items": null,
       "left": null,
       "margin": null,
       "max_height": null,
       "max_width": null,
       "min_height": null,
       "min_width": null,
       "object_fit": null,
       "object_position": null,
       "order": null,
       "overflow": null,
       "overflow_x": null,
       "overflow_y": null,
       "padding": null,
       "right": null,
       "top": null,
       "visibility": null,
       "width": null
      }
     },
     "81b1213eb9dc4aa083951352d9f6beaf": {
      "model_module": "@jupyter-widgets/base",
      "model_module_version": "1.2.0",
      "model_name": "LayoutModel",
      "state": {
       "_model_module": "@jupyter-widgets/base",
       "_model_module_version": "1.2.0",
       "_model_name": "LayoutModel",
       "_view_count": null,
       "_view_module": "@jupyter-widgets/base",
       "_view_module_version": "1.2.0",
       "_view_name": "LayoutView",
       "align_content": null,
       "align_items": null,
       "align_self": null,
       "border": null,
       "bottom": null,
       "display": null,
       "flex": null,
       "flex_flow": null,
       "grid_area": null,
       "grid_auto_columns": null,
       "grid_auto_flow": null,
       "grid_auto_rows": null,
       "grid_column": null,
       "grid_gap": null,
       "grid_row": null,
       "grid_template_areas": null,
       "grid_template_columns": null,
       "grid_template_rows": null,
       "height": null,
       "justify_content": null,
       "justify_items": null,
       "left": null,
       "margin": null,
       "max_height": null,
       "max_width": null,
       "min_height": null,
       "min_width": null,
       "object_fit": null,
       "object_position": null,
       "order": null,
       "overflow": null,
       "overflow_x": null,
       "overflow_y": null,
       "padding": null,
       "right": null,
       "top": null,
       "visibility": null,
       "width": null
      }
     },
     "82f268442b1349268246323595e0f371": {
      "model_module": "@jupyter-widgets/controls",
      "model_module_version": "1.5.0",
      "model_name": "HBoxModel",
      "state": {
       "_dom_classes": [],
       "_model_module": "@jupyter-widgets/controls",
       "_model_module_version": "1.5.0",
       "_model_name": "HBoxModel",
       "_view_count": null,
       "_view_module": "@jupyter-widgets/controls",
       "_view_module_version": "1.5.0",
       "_view_name": "HBoxView",
       "box_style": "",
       "children": [
        "IPY_MODEL_4c514a00a080445da009d272716b3577",
        "IPY_MODEL_b4e52efc58b54c81a39fa8e5fc26eedd",
        "IPY_MODEL_a1cafe17bdf945aa8a33875d0590f7a2"
       ],
       "layout": "IPY_MODEL_65f9dfd885184f818373dcaf8b820da7"
      }
     },
     "842a840396ab4cefb93cc2733bf00cf7": {
      "model_module": "@jupyter-widgets/controls",
      "model_module_version": "1.5.0",
      "model_name": "DescriptionStyleModel",
      "state": {
       "_model_module": "@jupyter-widgets/controls",
       "_model_module_version": "1.5.0",
       "_model_name": "DescriptionStyleModel",
       "_view_count": null,
       "_view_module": "@jupyter-widgets/base",
       "_view_module_version": "1.2.0",
       "_view_name": "StyleView",
       "description_width": ""
      }
     },
     "86af7db3cea442beb67da28063f15ed6": {
      "model_module": "@jupyter-widgets/controls",
      "model_module_version": "1.5.0",
      "model_name": "FloatProgressModel",
      "state": {
       "_dom_classes": [],
       "_model_module": "@jupyter-widgets/controls",
       "_model_module_version": "1.5.0",
       "_model_name": "FloatProgressModel",
       "_view_count": null,
       "_view_module": "@jupyter-widgets/controls",
       "_view_module_version": "1.5.0",
       "_view_name": "ProgressView",
       "bar_style": "",
       "description": "",
       "description_tooltip": null,
       "layout": "IPY_MODEL_be8bbaca794c4ab0b387c44fc3d2637f",
       "max": 1,
       "min": 0,
       "orientation": "horizontal",
       "style": "IPY_MODEL_126a1e5f24e44838a03204815209c5dc",
       "value": 1
      }
     },
     "87214ce12c1f422481a0fe3caf5a3ce8": {
      "model_module": "@jupyter-widgets/base",
      "model_module_version": "1.2.0",
      "model_name": "LayoutModel",
      "state": {
       "_model_module": "@jupyter-widgets/base",
       "_model_module_version": "1.2.0",
       "_model_name": "LayoutModel",
       "_view_count": null,
       "_view_module": "@jupyter-widgets/base",
       "_view_module_version": "1.2.0",
       "_view_name": "LayoutView",
       "align_content": null,
       "align_items": null,
       "align_self": null,
       "border": null,
       "bottom": null,
       "display": null,
       "flex": null,
       "flex_flow": null,
       "grid_area": null,
       "grid_auto_columns": null,
       "grid_auto_flow": null,
       "grid_auto_rows": null,
       "grid_column": null,
       "grid_gap": null,
       "grid_row": null,
       "grid_template_areas": null,
       "grid_template_columns": null,
       "grid_template_rows": null,
       "height": null,
       "justify_content": null,
       "justify_items": null,
       "left": null,
       "margin": null,
       "max_height": null,
       "max_width": null,
       "min_height": null,
       "min_width": null,
       "object_fit": null,
       "object_position": null,
       "order": null,
       "overflow": null,
       "overflow_x": null,
       "overflow_y": null,
       "padding": null,
       "right": null,
       "top": null,
       "visibility": null,
       "width": null
      }
     },
     "874dcbcfa5c94b938abebb1c7d00007c": {
      "model_module": "@jupyter-widgets/controls",
      "model_module_version": "1.5.0",
      "model_name": "ProgressStyleModel",
      "state": {
       "_model_module": "@jupyter-widgets/controls",
       "_model_module_version": "1.5.0",
       "_model_name": "ProgressStyleModel",
       "_view_count": null,
       "_view_module": "@jupyter-widgets/base",
       "_view_module_version": "1.2.0",
       "_view_name": "StyleView",
       "bar_color": null,
       "description_width": ""
      }
     },
     "8ae7b72a5b9f4533a2076af3fb7786bd": {
      "model_module": "@jupyter-widgets/controls",
      "model_module_version": "1.5.0",
      "model_name": "DescriptionStyleModel",
      "state": {
       "_model_module": "@jupyter-widgets/controls",
       "_model_module_version": "1.5.0",
       "_model_name": "DescriptionStyleModel",
       "_view_count": null,
       "_view_module": "@jupyter-widgets/base",
       "_view_module_version": "1.2.0",
       "_view_name": "StyleView",
       "description_width": ""
      }
     },
     "929108014ee94c9092394cf7ef09134f": {
      "model_module": "@jupyter-widgets/controls",
      "model_module_version": "1.5.0",
      "model_name": "DescriptionStyleModel",
      "state": {
       "_model_module": "@jupyter-widgets/controls",
       "_model_module_version": "1.5.0",
       "_model_name": "DescriptionStyleModel",
       "_view_count": null,
       "_view_module": "@jupyter-widgets/base",
       "_view_module_version": "1.2.0",
       "_view_name": "StyleView",
       "description_width": ""
      }
     },
     "968e2989cea6490d9ee08b6700291242": {
      "model_module": "@jupyter-widgets/base",
      "model_module_version": "1.2.0",
      "model_name": "LayoutModel",
      "state": {
       "_model_module": "@jupyter-widgets/base",
       "_model_module_version": "1.2.0",
       "_model_name": "LayoutModel",
       "_view_count": null,
       "_view_module": "@jupyter-widgets/base",
       "_view_module_version": "1.2.0",
       "_view_name": "LayoutView",
       "align_content": null,
       "align_items": null,
       "align_self": null,
       "border": null,
       "bottom": null,
       "display": null,
       "flex": null,
       "flex_flow": null,
       "grid_area": null,
       "grid_auto_columns": null,
       "grid_auto_flow": null,
       "grid_auto_rows": null,
       "grid_column": null,
       "grid_gap": null,
       "grid_row": null,
       "grid_template_areas": null,
       "grid_template_columns": null,
       "grid_template_rows": null,
       "height": null,
       "justify_content": null,
       "justify_items": null,
       "left": null,
       "margin": null,
       "max_height": null,
       "max_width": null,
       "min_height": null,
       "min_width": null,
       "object_fit": null,
       "object_position": null,
       "order": null,
       "overflow": null,
       "overflow_x": null,
       "overflow_y": null,
       "padding": null,
       "right": null,
       "top": null,
       "visibility": null,
       "width": null
      }
     },
     "9901f18e7e5841b8bfcb918c432ef718": {
      "model_module": "@jupyter-widgets/base",
      "model_module_version": "1.2.0",
      "model_name": "LayoutModel",
      "state": {
       "_model_module": "@jupyter-widgets/base",
       "_model_module_version": "1.2.0",
       "_model_name": "LayoutModel",
       "_view_count": null,
       "_view_module": "@jupyter-widgets/base",
       "_view_module_version": "1.2.0",
       "_view_name": "LayoutView",
       "align_content": null,
       "align_items": null,
       "align_self": null,
       "border": null,
       "bottom": null,
       "display": null,
       "flex": null,
       "flex_flow": null,
       "grid_area": null,
       "grid_auto_columns": null,
       "grid_auto_flow": null,
       "grid_auto_rows": null,
       "grid_column": null,
       "grid_gap": null,
       "grid_row": null,
       "grid_template_areas": null,
       "grid_template_columns": null,
       "grid_template_rows": null,
       "height": null,
       "justify_content": null,
       "justify_items": null,
       "left": null,
       "margin": null,
       "max_height": null,
       "max_width": null,
       "min_height": null,
       "min_width": null,
       "object_fit": null,
       "object_position": null,
       "order": null,
       "overflow": null,
       "overflow_x": null,
       "overflow_y": null,
       "padding": null,
       "right": null,
       "top": null,
       "visibility": null,
       "width": null
      }
     },
     "9d403276e05f4c368e46f353070b9d9a": {
      "model_module": "@jupyter-widgets/base",
      "model_module_version": "1.2.0",
      "model_name": "LayoutModel",
      "state": {
       "_model_module": "@jupyter-widgets/base",
       "_model_module_version": "1.2.0",
       "_model_name": "LayoutModel",
       "_view_count": null,
       "_view_module": "@jupyter-widgets/base",
       "_view_module_version": "1.2.0",
       "_view_name": "LayoutView",
       "align_content": null,
       "align_items": null,
       "align_self": null,
       "border": null,
       "bottom": null,
       "display": null,
       "flex": null,
       "flex_flow": null,
       "grid_area": null,
       "grid_auto_columns": null,
       "grid_auto_flow": null,
       "grid_auto_rows": null,
       "grid_column": null,
       "grid_gap": null,
       "grid_row": null,
       "grid_template_areas": null,
       "grid_template_columns": null,
       "grid_template_rows": null,
       "height": null,
       "justify_content": null,
       "justify_items": null,
       "left": null,
       "margin": null,
       "max_height": null,
       "max_width": null,
       "min_height": null,
       "min_width": null,
       "object_fit": null,
       "object_position": null,
       "order": null,
       "overflow": null,
       "overflow_x": null,
       "overflow_y": null,
       "padding": null,
       "right": null,
       "top": null,
       "visibility": null,
       "width": null
      }
     },
     "a03e24ff8fc54bccaa69e36839b36bab": {
      "model_module": "@jupyter-widgets/controls",
      "model_module_version": "1.5.0",
      "model_name": "FloatProgressModel",
      "state": {
       "_dom_classes": [],
       "_model_module": "@jupyter-widgets/controls",
       "_model_module_version": "1.5.0",
       "_model_name": "FloatProgressModel",
       "_view_count": null,
       "_view_module": "@jupyter-widgets/controls",
       "_view_module_version": "1.5.0",
       "_view_name": "ProgressView",
       "bar_style": "success",
       "description": "",
       "description_tooltip": null,
       "layout": "IPY_MODEL_80f827d24b2e421bbe84d92c8dcc002b",
       "max": 580,
       "min": 0,
       "orientation": "horizontal",
       "style": "IPY_MODEL_349e43c8d4114c36823434cef63fc567",
       "value": 580
      }
     },
     "a1cafe17bdf945aa8a33875d0590f7a2": {
      "model_module": "@jupyter-widgets/controls",
      "model_module_version": "1.5.0",
      "model_name": "HTMLModel",
      "state": {
       "_dom_classes": [],
       "_model_module": "@jupyter-widgets/controls",
       "_model_module_version": "1.5.0",
       "_model_name": "HTMLModel",
       "_view_count": null,
       "_view_module": "@jupyter-widgets/controls",
       "_view_module_version": "1.5.0",
       "_view_name": "HTMLView",
       "description": "",
       "description_tooltip": null,
       "layout": "IPY_MODEL_dd68281fe7ea499882e5d23a5bbfb9f0",
       "placeholder": "​",
       "style": "IPY_MODEL_8ae7b72a5b9f4533a2076af3fb7786bd",
       "value": " 52.0/52.0 [00:00&lt;00:00, 2.03kB/s]"
      }
     },
     "a3f3db4032b54ac49421d5cbd31a9533": {
      "model_module": "@jupyter-widgets/base",
      "model_module_version": "1.2.0",
      "model_name": "LayoutModel",
      "state": {
       "_model_module": "@jupyter-widgets/base",
       "_model_module_version": "1.2.0",
       "_model_name": "LayoutModel",
       "_view_count": null,
       "_view_module": "@jupyter-widgets/base",
       "_view_module_version": "1.2.0",
       "_view_name": "LayoutView",
       "align_content": null,
       "align_items": null,
       "align_self": null,
       "border": null,
       "bottom": null,
       "display": null,
       "flex": null,
       "flex_flow": null,
       "grid_area": null,
       "grid_auto_columns": null,
       "grid_auto_flow": null,
       "grid_auto_rows": null,
       "grid_column": null,
       "grid_gap": null,
       "grid_row": null,
       "grid_template_areas": null,
       "grid_template_columns": null,
       "grid_template_rows": null,
       "height": null,
       "justify_content": null,
       "justify_items": null,
       "left": null,
       "margin": null,
       "max_height": null,
       "max_width": null,
       "min_height": null,
       "min_width": null,
       "object_fit": null,
       "object_position": null,
       "order": null,
       "overflow": null,
       "overflow_x": null,
       "overflow_y": null,
       "padding": null,
       "right": null,
       "top": null,
       "visibility": null,
       "width": null
      }
     },
     "a87f939ae9cb44bf8d9eed523f5cb995": {
      "model_module": "@jupyter-widgets/controls",
      "model_module_version": "1.5.0",
      "model_name": "DescriptionStyleModel",
      "state": {
       "_model_module": "@jupyter-widgets/controls",
       "_model_module_version": "1.5.0",
       "_model_name": "DescriptionStyleModel",
       "_view_count": null,
       "_view_module": "@jupyter-widgets/base",
       "_view_module_version": "1.2.0",
       "_view_name": "StyleView",
       "description_width": ""
      }
     },
     "aaf4c8e1ae794178bd2db64c5c27edcd": {
      "model_module": "@jupyter-widgets/base",
      "model_module_version": "1.2.0",
      "model_name": "LayoutModel",
      "state": {
       "_model_module": "@jupyter-widgets/base",
       "_model_module_version": "1.2.0",
       "_model_name": "LayoutModel",
       "_view_count": null,
       "_view_module": "@jupyter-widgets/base",
       "_view_module_version": "1.2.0",
       "_view_name": "LayoutView",
       "align_content": null,
       "align_items": null,
       "align_self": null,
       "border": null,
       "bottom": null,
       "display": null,
       "flex": null,
       "flex_flow": null,
       "grid_area": null,
       "grid_auto_columns": null,
       "grid_auto_flow": null,
       "grid_auto_rows": null,
       "grid_column": null,
       "grid_gap": null,
       "grid_row": null,
       "grid_template_areas": null,
       "grid_template_columns": null,
       "grid_template_rows": null,
       "height": null,
       "justify_content": null,
       "justify_items": null,
       "left": null,
       "margin": null,
       "max_height": null,
       "max_width": null,
       "min_height": null,
       "min_width": null,
       "object_fit": null,
       "object_position": null,
       "order": null,
       "overflow": null,
       "overflow_x": null,
       "overflow_y": null,
       "padding": null,
       "right": null,
       "top": null,
       "visibility": null,
       "width": null
      }
     },
     "ab615699cb634117a739e8673396b52d": {
      "model_module": "@jupyter-widgets/controls",
      "model_module_version": "1.5.0",
      "model_name": "ProgressStyleModel",
      "state": {
       "_model_module": "@jupyter-widgets/controls",
       "_model_module_version": "1.5.0",
       "_model_name": "ProgressStyleModel",
       "_view_count": null,
       "_view_module": "@jupyter-widgets/base",
       "_view_module_version": "1.2.0",
       "_view_name": "StyleView",
       "bar_color": null,
       "description_width": ""
      }
     },
     "ad4745f1eca942009bdf6cf12913f34a": {
      "model_module": "@jupyter-widgets/base",
      "model_module_version": "1.2.0",
      "model_name": "LayoutModel",
      "state": {
       "_model_module": "@jupyter-widgets/base",
       "_model_module_version": "1.2.0",
       "_model_name": "LayoutModel",
       "_view_count": null,
       "_view_module": "@jupyter-widgets/base",
       "_view_module_version": "1.2.0",
       "_view_name": "LayoutView",
       "align_content": null,
       "align_items": null,
       "align_self": null,
       "border": null,
       "bottom": null,
       "display": null,
       "flex": null,
       "flex_flow": null,
       "grid_area": null,
       "grid_auto_columns": null,
       "grid_auto_flow": null,
       "grid_auto_rows": null,
       "grid_column": null,
       "grid_gap": null,
       "grid_row": null,
       "grid_template_areas": null,
       "grid_template_columns": null,
       "grid_template_rows": null,
       "height": null,
       "justify_content": null,
       "justify_items": null,
       "left": null,
       "margin": null,
       "max_height": null,
       "max_width": null,
       "min_height": null,
       "min_width": null,
       "object_fit": null,
       "object_position": null,
       "order": null,
       "overflow": null,
       "overflow_x": null,
       "overflow_y": null,
       "padding": null,
       "right": null,
       "top": null,
       "visibility": null,
       "width": null
      }
     },
     "ad6386dafce545c48eac271bb2a3c0dd": {
      "model_module": "@jupyter-widgets/controls",
      "model_module_version": "1.5.0",
      "model_name": "DescriptionStyleModel",
      "state": {
       "_model_module": "@jupyter-widgets/controls",
       "_model_module_version": "1.5.0",
       "_model_name": "DescriptionStyleModel",
       "_view_count": null,
       "_view_module": "@jupyter-widgets/base",
       "_view_module_version": "1.2.0",
       "_view_name": "StyleView",
       "description_width": ""
      }
     },
     "b4e52efc58b54c81a39fa8e5fc26eedd": {
      "model_module": "@jupyter-widgets/controls",
      "model_module_version": "1.5.0",
      "model_name": "FloatProgressModel",
      "state": {
       "_dom_classes": [],
       "_model_module": "@jupyter-widgets/controls",
       "_model_module_version": "1.5.0",
       "_model_name": "FloatProgressModel",
       "_view_count": null,
       "_view_module": "@jupyter-widgets/controls",
       "_view_module_version": "1.5.0",
       "_view_name": "ProgressView",
       "bar_style": "success",
       "description": "",
       "description_tooltip": null,
       "layout": "IPY_MODEL_6947506e822e46d99b4dd82a8a4209cd",
       "max": 52,
       "min": 0,
       "orientation": "horizontal",
       "style": "IPY_MODEL_874dcbcfa5c94b938abebb1c7d00007c",
       "value": 52
      }
     },
     "b6f3605957844ac0b026ef0593befbae": {
      "model_module": "@jupyter-widgets/base",
      "model_module_version": "1.2.0",
      "model_name": "LayoutModel",
      "state": {
       "_model_module": "@jupyter-widgets/base",
       "_model_module_version": "1.2.0",
       "_model_name": "LayoutModel",
       "_view_count": null,
       "_view_module": "@jupyter-widgets/base",
       "_view_module_version": "1.2.0",
       "_view_name": "LayoutView",
       "align_content": null,
       "align_items": null,
       "align_self": null,
       "border": null,
       "bottom": null,
       "display": null,
       "flex": null,
       "flex_flow": null,
       "grid_area": null,
       "grid_auto_columns": null,
       "grid_auto_flow": null,
       "grid_auto_rows": null,
       "grid_column": null,
       "grid_gap": null,
       "grid_row": null,
       "grid_template_areas": null,
       "grid_template_columns": null,
       "grid_template_rows": null,
       "height": null,
       "justify_content": null,
       "justify_items": null,
       "left": null,
       "margin": null,
       "max_height": null,
       "max_width": null,
       "min_height": null,
       "min_width": null,
       "object_fit": null,
       "object_position": null,
       "order": null,
       "overflow": null,
       "overflow_x": null,
       "overflow_y": null,
       "padding": null,
       "right": null,
       "top": null,
       "visibility": null,
       "width": null
      }
     },
     "b849e52bd84942e583de4b9325c96afe": {
      "model_module": "@jupyter-widgets/controls",
      "model_module_version": "1.5.0",
      "model_name": "FloatProgressModel",
      "state": {
       "_dom_classes": [],
       "_model_module": "@jupyter-widgets/controls",
       "_model_module_version": "1.5.0",
       "_model_name": "FloatProgressModel",
       "_view_count": null,
       "_view_module": "@jupyter-widgets/controls",
       "_view_module_version": "1.5.0",
       "_view_name": "ProgressView",
       "bar_style": "success",
       "description": "",
       "description_tooltip": null,
       "layout": "IPY_MODEL_341389680b6a43d8b6b3de95dffca671",
       "max": 36473,
       "min": 0,
       "orientation": "horizontal",
       "style": "IPY_MODEL_ab615699cb634117a739e8673396b52d",
       "value": 36473
      }
     },
     "ba8f6b6e291a4d6faae41e5e6921f4aa": {
      "model_module": "@jupyter-widgets/base",
      "model_module_version": "1.2.0",
      "model_name": "LayoutModel",
      "state": {
       "_model_module": "@jupyter-widgets/base",
       "_model_module_version": "1.2.0",
       "_model_name": "LayoutModel",
       "_view_count": null,
       "_view_module": "@jupyter-widgets/base",
       "_view_module_version": "1.2.0",
       "_view_name": "LayoutView",
       "align_content": null,
       "align_items": null,
       "align_self": null,
       "border": null,
       "bottom": null,
       "display": null,
       "flex": null,
       "flex_flow": null,
       "grid_area": null,
       "grid_auto_columns": null,
       "grid_auto_flow": null,
       "grid_auto_rows": null,
       "grid_column": null,
       "grid_gap": null,
       "grid_row": null,
       "grid_template_areas": null,
       "grid_template_columns": null,
       "grid_template_rows": null,
       "height": null,
       "justify_content": null,
       "justify_items": null,
       "left": null,
       "margin": null,
       "max_height": null,
       "max_width": null,
       "min_height": null,
       "min_width": null,
       "object_fit": null,
       "object_position": null,
       "order": null,
       "overflow": null,
       "overflow_x": null,
       "overflow_y": null,
       "padding": null,
       "right": null,
       "top": null,
       "visibility": null,
       "width": null
      }
     },
     "bb944cd3fb694105a4d535f4e9c333a8": {
      "model_module": "@jupyter-widgets/controls",
      "model_module_version": "1.5.0",
      "model_name": "DescriptionStyleModel",
      "state": {
       "_model_module": "@jupyter-widgets/controls",
       "_model_module_version": "1.5.0",
       "_model_name": "DescriptionStyleModel",
       "_view_count": null,
       "_view_module": "@jupyter-widgets/base",
       "_view_module_version": "1.2.0",
       "_view_name": "StyleView",
       "description_width": ""
      }
     },
     "bba517b096dd460cb764ccd71b57f148": {
      "model_module": "@jupyter-widgets/controls",
      "model_module_version": "1.5.0",
      "model_name": "FloatProgressModel",
      "state": {
       "_dom_classes": [],
       "_model_module": "@jupyter-widgets/controls",
       "_model_module_version": "1.5.0",
       "_model_name": "FloatProgressModel",
       "_view_count": null,
       "_view_module": "@jupyter-widgets/controls",
       "_view_module_version": "1.5.0",
       "_view_name": "ProgressView",
       "bar_style": "success",
       "description": "",
       "description_tooltip": null,
       "layout": "IPY_MODEL_ba8f6b6e291a4d6faae41e5e6921f4aa",
       "max": 136,
       "min": 0,
       "orientation": "horizontal",
       "style": "IPY_MODEL_ec381745899e4ce7900c973c72d2ff3b",
       "value": 136
      }
     },
     "be8bbaca794c4ab0b387c44fc3d2637f": {
      "model_module": "@jupyter-widgets/base",
      "model_module_version": "1.2.0",
      "model_name": "LayoutModel",
      "state": {
       "_model_module": "@jupyter-widgets/base",
       "_model_module_version": "1.2.0",
       "_model_name": "LayoutModel",
       "_view_count": null,
       "_view_module": "@jupyter-widgets/base",
       "_view_module_version": "1.2.0",
       "_view_name": "LayoutView",
       "align_content": null,
       "align_items": null,
       "align_self": null,
       "border": null,
       "bottom": null,
       "display": null,
       "flex": null,
       "flex_flow": null,
       "grid_area": null,
       "grid_auto_columns": null,
       "grid_auto_flow": null,
       "grid_auto_rows": null,
       "grid_column": null,
       "grid_gap": null,
       "grid_row": null,
       "grid_template_areas": null,
       "grid_template_columns": null,
       "grid_template_rows": null,
       "height": null,
       "justify_content": null,
       "justify_items": null,
       "left": null,
       "margin": null,
       "max_height": null,
       "max_width": null,
       "min_height": null,
       "min_width": null,
       "object_fit": null,
       "object_position": null,
       "order": null,
       "overflow": null,
       "overflow_x": null,
       "overflow_y": null,
       "padding": null,
       "right": null,
       "top": null,
       "visibility": null,
       "width": null
      }
     },
     "c0dcc3eeec934d289bf99c7d14bab090": {
      "model_module": "@jupyter-widgets/base",
      "model_module_version": "1.2.0",
      "model_name": "LayoutModel",
      "state": {
       "_model_module": "@jupyter-widgets/base",
       "_model_module_version": "1.2.0",
       "_model_name": "LayoutModel",
       "_view_count": null,
       "_view_module": "@jupyter-widgets/base",
       "_view_module_version": "1.2.0",
       "_view_name": "LayoutView",
       "align_content": null,
       "align_items": null,
       "align_self": null,
       "border": null,
       "bottom": null,
       "display": null,
       "flex": null,
       "flex_flow": null,
       "grid_area": null,
       "grid_auto_columns": null,
       "grid_auto_flow": null,
       "grid_auto_rows": null,
       "grid_column": null,
       "grid_gap": null,
       "grid_row": null,
       "grid_template_areas": null,
       "grid_template_columns": null,
       "grid_template_rows": null,
       "height": null,
       "justify_content": null,
       "justify_items": null,
       "left": null,
       "margin": null,
       "max_height": null,
       "max_width": null,
       "min_height": null,
       "min_width": null,
       "object_fit": null,
       "object_position": null,
       "order": null,
       "overflow": null,
       "overflow_x": null,
       "overflow_y": null,
       "padding": null,
       "right": null,
       "top": null,
       "visibility": null,
       "width": null
      }
     },
     "c1e8e53062324cf38fbd75eab01e066a": {
      "model_module": "@jupyter-widgets/base",
      "model_module_version": "1.2.0",
      "model_name": "LayoutModel",
      "state": {
       "_model_module": "@jupyter-widgets/base",
       "_model_module_version": "1.2.0",
       "_model_name": "LayoutModel",
       "_view_count": null,
       "_view_module": "@jupyter-widgets/base",
       "_view_module_version": "1.2.0",
       "_view_name": "LayoutView",
       "align_content": null,
       "align_items": null,
       "align_self": null,
       "border": null,
       "bottom": null,
       "display": null,
       "flex": null,
       "flex_flow": null,
       "grid_area": null,
       "grid_auto_columns": null,
       "grid_auto_flow": null,
       "grid_auto_rows": null,
       "grid_column": null,
       "grid_gap": null,
       "grid_row": null,
       "grid_template_areas": null,
       "grid_template_columns": null,
       "grid_template_rows": null,
       "height": null,
       "justify_content": null,
       "justify_items": null,
       "left": null,
       "margin": null,
       "max_height": null,
       "max_width": null,
       "min_height": null,
       "min_width": null,
       "object_fit": null,
       "object_position": null,
       "order": null,
       "overflow": null,
       "overflow_x": null,
       "overflow_y": null,
       "padding": null,
       "right": null,
       "top": null,
       "visibility": null,
       "width": null
      }
     },
     "c4ff773d63e34e0c93e23aa455a97958": {
      "model_module": "@jupyter-widgets/controls",
      "model_module_version": "1.5.0",
      "model_name": "ProgressStyleModel",
      "state": {
       "_model_module": "@jupyter-widgets/controls",
       "_model_module_version": "1.5.0",
       "_model_name": "ProgressStyleModel",
       "_view_count": null,
       "_view_module": "@jupyter-widgets/base",
       "_view_module_version": "1.2.0",
       "_view_name": "StyleView",
       "bar_color": null,
       "description_width": ""
      }
     },
     "c5de80b22af543edb57e65780298069e": {
      "model_module": "@jupyter-widgets/controls",
      "model_module_version": "1.5.0",
      "model_name": "DescriptionStyleModel",
      "state": {
       "_model_module": "@jupyter-widgets/controls",
       "_model_module_version": "1.5.0",
       "_model_name": "DescriptionStyleModel",
       "_view_count": null,
       "_view_module": "@jupyter-widgets/base",
       "_view_module_version": "1.2.0",
       "_view_name": "StyleView",
       "description_width": ""
      }
     },
     "d21724e187b94518ad3cc61f1daa73cf": {
      "model_module": "@jupyter-widgets/controls",
      "model_module_version": "1.5.0",
      "model_name": "HBoxModel",
      "state": {
       "_dom_classes": [],
       "_model_module": "@jupyter-widgets/controls",
       "_model_module_version": "1.5.0",
       "_model_name": "HBoxModel",
       "_view_count": null,
       "_view_module": "@jupyter-widgets/controls",
       "_view_module_version": "1.5.0",
       "_view_name": "HBoxView",
       "box_style": "",
       "children": [
        "IPY_MODEL_e13e1ad96b5648588ba7a5b2e3771179",
        "IPY_MODEL_7fb6ee0e688440bab23c07808e5cef8b",
        "IPY_MODEL_f9081778edc6436c9d1bc9a886ac922c"
       ],
       "layout": "IPY_MODEL_9901f18e7e5841b8bfcb918c432ef718"
      }
     },
     "d3b6e4a4aac943b79ba51bbacd77907e": {
      "model_module": "@jupyter-widgets/controls",
      "model_module_version": "1.5.0",
      "model_name": "DescriptionStyleModel",
      "state": {
       "_model_module": "@jupyter-widgets/controls",
       "_model_module_version": "1.5.0",
       "_model_name": "DescriptionStyleModel",
       "_view_count": null,
       "_view_module": "@jupyter-widgets/base",
       "_view_module_version": "1.2.0",
       "_view_name": "StyleView",
       "description_width": ""
      }
     },
     "d9f0d96d140a4115aadfdfc9ce5ba608": {
      "model_module": "@jupyter-widgets/controls",
      "model_module_version": "1.5.0",
      "model_name": "ProgressStyleModel",
      "state": {
       "_model_module": "@jupyter-widgets/controls",
       "_model_module_version": "1.5.0",
       "_model_name": "ProgressStyleModel",
       "_view_count": null,
       "_view_module": "@jupyter-widgets/base",
       "_view_module_version": "1.2.0",
       "_view_name": "StyleView",
       "bar_color": null,
       "description_width": ""
      }
     },
     "da88817e8aed48399b1948f8e004ee97": {
      "model_module": "@jupyter-widgets/base",
      "model_module_version": "1.2.0",
      "model_name": "LayoutModel",
      "state": {
       "_model_module": "@jupyter-widgets/base",
       "_model_module_version": "1.2.0",
       "_model_name": "LayoutModel",
       "_view_count": null,
       "_view_module": "@jupyter-widgets/base",
       "_view_module_version": "1.2.0",
       "_view_name": "LayoutView",
       "align_content": null,
       "align_items": null,
       "align_self": null,
       "border": null,
       "bottom": null,
       "display": null,
       "flex": null,
       "flex_flow": null,
       "grid_area": null,
       "grid_auto_columns": null,
       "grid_auto_flow": null,
       "grid_auto_rows": null,
       "grid_column": null,
       "grid_gap": null,
       "grid_row": null,
       "grid_template_areas": null,
       "grid_template_columns": null,
       "grid_template_rows": null,
       "height": null,
       "justify_content": null,
       "justify_items": null,
       "left": null,
       "margin": null,
       "max_height": null,
       "max_width": null,
       "min_height": null,
       "min_width": null,
       "object_fit": null,
       "object_position": null,
       "order": null,
       "overflow": null,
       "overflow_x": null,
       "overflow_y": null,
       "padding": null,
       "right": null,
       "top": null,
       "visibility": null,
       "width": null
      }
     },
     "dd68281fe7ea499882e5d23a5bbfb9f0": {
      "model_module": "@jupyter-widgets/base",
      "model_module_version": "1.2.0",
      "model_name": "LayoutModel",
      "state": {
       "_model_module": "@jupyter-widgets/base",
       "_model_module_version": "1.2.0",
       "_model_name": "LayoutModel",
       "_view_count": null,
       "_view_module": "@jupyter-widgets/base",
       "_view_module_version": "1.2.0",
       "_view_name": "LayoutView",
       "align_content": null,
       "align_items": null,
       "align_self": null,
       "border": null,
       "bottom": null,
       "display": null,
       "flex": null,
       "flex_flow": null,
       "grid_area": null,
       "grid_auto_columns": null,
       "grid_auto_flow": null,
       "grid_auto_rows": null,
       "grid_column": null,
       "grid_gap": null,
       "grid_row": null,
       "grid_template_areas": null,
       "grid_template_columns": null,
       "grid_template_rows": null,
       "height": null,
       "justify_content": null,
       "justify_items": null,
       "left": null,
       "margin": null,
       "max_height": null,
       "max_width": null,
       "min_height": null,
       "min_width": null,
       "object_fit": null,
       "object_position": null,
       "order": null,
       "overflow": null,
       "overflow_x": null,
       "overflow_y": null,
       "padding": null,
       "right": null,
       "top": null,
       "visibility": null,
       "width": null
      }
     },
     "de3e60ed24f04a7ab49a05b98b7cf0f0": {
      "model_module": "@jupyter-widgets/controls",
      "model_module_version": "1.5.0",
      "model_name": "DescriptionStyleModel",
      "state": {
       "_model_module": "@jupyter-widgets/controls",
       "_model_module_version": "1.5.0",
       "_model_name": "DescriptionStyleModel",
       "_view_count": null,
       "_view_module": "@jupyter-widgets/base",
       "_view_module_version": "1.2.0",
       "_view_name": "StyleView",
       "description_width": ""
      }
     },
     "e13e1ad96b5648588ba7a5b2e3771179": {
      "model_module": "@jupyter-widgets/controls",
      "model_module_version": "1.5.0",
      "model_name": "HTMLModel",
      "state": {
       "_dom_classes": [],
       "_model_module": "@jupyter-widgets/controls",
       "_model_module_version": "1.5.0",
       "_model_name": "HTMLModel",
       "_view_count": null,
       "_view_module": "@jupyter-widgets/controls",
       "_view_module_version": "1.5.0",
       "_view_name": "HTMLView",
       "description": "",
       "description_tooltip": null,
       "layout": "IPY_MODEL_1d83ae8940534922833de4d1fdd71216",
       "placeholder": "​",
       "style": "IPY_MODEL_46ab7441760642718f381e7f430e16a0",
       "value": "Downloading: 100%"
      }
     },
     "e3e17f880bab4d47a1531bebac861fda": {
      "model_module": "@jupyter-widgets/controls",
      "model_module_version": "1.5.0",
      "model_name": "HTMLModel",
      "state": {
       "_dom_classes": [],
       "_model_module": "@jupyter-widgets/controls",
       "_model_module_version": "1.5.0",
       "_model_name": "HTMLModel",
       "_view_count": null,
       "_view_module": "@jupyter-widgets/controls",
       "_view_module_version": "1.5.0",
       "_view_name": "HTMLView",
       "description": "",
       "description_tooltip": null,
       "layout": "IPY_MODEL_a3f3db4032b54ac49421d5cbd31a9533",
       "placeholder": "​",
       "style": "IPY_MODEL_35cb92ba1b2d4932bc3a0b0640f71b0c",
       "value": " 580/580 [00:00&lt;00:00, 23.1kB/s]"
      }
     },
     "ec381745899e4ce7900c973c72d2ff3b": {
      "model_module": "@jupyter-widgets/controls",
      "model_module_version": "1.5.0",
      "model_name": "ProgressStyleModel",
      "state": {
       "_model_module": "@jupyter-widgets/controls",
       "_model_module_version": "1.5.0",
       "_model_name": "ProgressStyleModel",
       "_view_count": null,
       "_view_module": "@jupyter-widgets/base",
       "_view_module_version": "1.2.0",
       "_view_name": "StyleView",
       "bar_color": null,
       "description_width": ""
      }
     },
     "f3e6058e180d40b8bc25ff82940789f1": {
      "model_module": "@jupyter-widgets/base",
      "model_module_version": "1.2.0",
      "model_name": "LayoutModel",
      "state": {
       "_model_module": "@jupyter-widgets/base",
       "_model_module_version": "1.2.0",
       "_model_name": "LayoutModel",
       "_view_count": null,
       "_view_module": "@jupyter-widgets/base",
       "_view_module_version": "1.2.0",
       "_view_name": "LayoutView",
       "align_content": null,
       "align_items": null,
       "align_self": null,
       "border": null,
       "bottom": null,
       "display": null,
       "flex": null,
       "flex_flow": null,
       "grid_area": null,
       "grid_auto_columns": null,
       "grid_auto_flow": null,
       "grid_auto_rows": null,
       "grid_column": null,
       "grid_gap": null,
       "grid_row": null,
       "grid_template_areas": null,
       "grid_template_columns": null,
       "grid_template_rows": null,
       "height": null,
       "justify_content": null,
       "justify_items": null,
       "left": null,
       "margin": null,
       "max_height": null,
       "max_width": null,
       "min_height": null,
       "min_width": null,
       "object_fit": null,
       "object_position": null,
       "order": null,
       "overflow": null,
       "overflow_x": null,
       "overflow_y": null,
       "padding": null,
       "right": null,
       "top": null,
       "visibility": null,
       "width": null
      }
     },
     "f7cdf444f3c041cda9b6bd5a47ca87c5": {
      "model_module": "@jupyter-widgets/controls",
      "model_module_version": "1.5.0",
      "model_name": "VBoxModel",
      "state": {
       "_dom_classes": [],
       "_model_module": "@jupyter-widgets/controls",
       "_model_module_version": "1.5.0",
       "_model_name": "VBoxModel",
       "_view_count": null,
       "_view_module": "@jupyter-widgets/controls",
       "_view_module_version": "1.5.0",
       "_view_name": "VBoxView",
       "box_style": "",
       "children": [
        "IPY_MODEL_5ffb53b010e948a0918366a7721dd7a9",
        "IPY_MODEL_86af7db3cea442beb67da28063f15ed6"
       ],
       "layout": "IPY_MODEL_b6f3605957844ac0b026ef0593befbae"
      }
     },
     "f836cfd56e0d4d7188f1b263a5845bff": {
      "model_module": "@jupyter-widgets/base",
      "model_module_version": "1.2.0",
      "model_name": "LayoutModel",
      "state": {
       "_model_module": "@jupyter-widgets/base",
       "_model_module_version": "1.2.0",
       "_model_name": "LayoutModel",
       "_view_count": null,
       "_view_module": "@jupyter-widgets/base",
       "_view_module_version": "1.2.0",
       "_view_name": "LayoutView",
       "align_content": null,
       "align_items": null,
       "align_self": null,
       "border": null,
       "bottom": null,
       "display": null,
       "flex": null,
       "flex_flow": null,
       "grid_area": null,
       "grid_auto_columns": null,
       "grid_auto_flow": null,
       "grid_auto_rows": null,
       "grid_column": null,
       "grid_gap": null,
       "grid_row": null,
       "grid_template_areas": null,
       "grid_template_columns": null,
       "grid_template_rows": null,
       "height": null,
       "justify_content": null,
       "justify_items": null,
       "left": null,
       "margin": null,
       "max_height": null,
       "max_width": null,
       "min_height": null,
       "min_width": null,
       "object_fit": null,
       "object_position": null,
       "order": null,
       "overflow": null,
       "overflow_x": null,
       "overflow_y": null,
       "padding": null,
       "right": null,
       "top": null,
       "visibility": null,
       "width": null
      }
     },
     "f9081778edc6436c9d1bc9a886ac922c": {
      "model_module": "@jupyter-widgets/controls",
      "model_module_version": "1.5.0",
      "model_name": "HTMLModel",
      "state": {
       "_dom_classes": [],
       "_model_module": "@jupyter-widgets/controls",
       "_model_module_version": "1.5.0",
       "_model_name": "HTMLModel",
       "_view_count": null,
       "_view_module": "@jupyter-widgets/controls",
       "_view_module_version": "1.5.0",
       "_view_name": "HTMLView",
       "description": "",
       "description_tooltip": null,
       "layout": "IPY_MODEL_f3e6058e180d40b8bc25ff82940789f1",
       "placeholder": "​",
       "style": "IPY_MODEL_842a840396ab4cefb93cc2733bf00cf7",
       "value": " 833M/833M [00:19&lt;00:00, 43.1MB/s]"
      }
     },
     "fb6b7fc69b2549ab9d80d71017422178": {
      "model_module": "@jupyter-widgets/base",
      "model_module_version": "1.2.0",
      "model_name": "LayoutModel",
      "state": {
       "_model_module": "@jupyter-widgets/base",
       "_model_module_version": "1.2.0",
       "_model_name": "LayoutModel",
       "_view_count": null,
       "_view_module": "@jupyter-widgets/base",
       "_view_module_version": "1.2.0",
       "_view_name": "LayoutView",
       "align_content": null,
       "align_items": null,
       "align_self": null,
       "border": null,
       "bottom": null,
       "display": null,
       "flex": null,
       "flex_flow": null,
       "grid_area": null,
       "grid_auto_columns": null,
       "grid_auto_flow": null,
       "grid_auto_rows": null,
       "grid_column": null,
       "grid_gap": null,
       "grid_row": null,
       "grid_template_areas": null,
       "grid_template_columns": null,
       "grid_template_rows": null,
       "height": null,
       "justify_content": null,
       "justify_items": null,
       "left": null,
       "margin": null,
       "max_height": null,
       "max_width": null,
       "min_height": null,
       "min_width": null,
       "object_fit": null,
       "object_position": null,
       "order": null,
       "overflow": null,
       "overflow_x": null,
       "overflow_y": null,
       "padding": null,
       "right": null,
       "top": null,
       "visibility": null,
       "width": null
      }
     },
     "ff0d93c0f2a54cae8698028db31d1454": {
      "model_module": "@jupyter-widgets/controls",
      "model_module_version": "1.5.0",
      "model_name": "DescriptionStyleModel",
      "state": {
       "_model_module": "@jupyter-widgets/controls",
       "_model_module_version": "1.5.0",
       "_model_name": "DescriptionStyleModel",
       "_view_count": null,
       "_view_module": "@jupyter-widgets/base",
       "_view_module_version": "1.2.0",
       "_view_name": "StyleView",
       "description_width": ""
      }
     }
    },
    "version_major": 2,
    "version_minor": 0
   }
  }
 },
 "nbformat": 4,
 "nbformat_minor": 5
}
