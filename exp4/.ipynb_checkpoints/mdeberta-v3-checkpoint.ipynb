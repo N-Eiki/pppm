{
 "cells": [
  {
   "cell_type": "markdown",
   "id": "70f90ffb",
   "metadata": {
    "id": "e460cbb5",
    "papermill": {
     "duration": 0.027808,
     "end_time": "2022-03-22T09:40:01.410751",
     "exception": false,
     "start_time": "2022-03-22T09:40:01.382943",
     "status": "completed"
    },
    "tags": []
   },
   "source": [
    "# About this notebook\n",
    "- Deberta-v3-large starter code\n",
    "- pip wheels is [here](https://www.kaggle.com/code/yasufuminakama/pppm-pip-wheels)\n",
    "- Inference notebook is [here](https://www.kaggle.com/code/yasufuminakama/pppm-deberta-v3-large-baseline-inference)\n",
    "\n",
    "If this notebook is helpful, feel free to upvote :)"
   ]
  },
  {
   "cell_type": "code",
   "execution_count": 1,
   "id": "4b6835d2-9fc4-4e64-8eb9-1f8eebb143bf",
   "metadata": {},
   "outputs": [
    {
     "name": "stdout",
     "output_type": "stream",
     "text": [
      "sleep 0 h\n",
      "sleep 1 h\n"
     ]
    }
   ],
   "source": [
    "import os\n",
    "import time\n",
    "\n",
    "wait_to_make = \"trained_list/roberta-large.txt\"\n",
    "count = 0\n",
    "while 1:\n",
    "    if os.path.exists(wait_to_make):\n",
    "        break\n",
    "    print(f'sleep {count} h')\n",
    "    time.sleep(3600)\n",
    "    count+=1\n",
    "    \n"
   ]
  },
  {
   "cell_type": "code",
   "execution_count": 2,
   "id": "7df63313-5526-4691-94ae-12ea4bf25bde",
   "metadata": {},
   "outputs": [],
   "source": [
    "EXP_NAME = \"microsoft-mpnet-large\"\n"
   ]
  },
  {
   "cell_type": "code",
   "execution_count": 3,
   "id": "d14ce8ab",
   "metadata": {},
   "outputs": [],
   "source": [
    "# !nvidia-smi"
   ]
  },
  {
   "cell_type": "code",
   "execution_count": 4,
   "id": "7d511eeb",
   "metadata": {},
   "outputs": [],
   "source": [
    "# ! pip install torch==1.9.0+cu111 torchvision==0.10.0+cu111 torchaudio===0.9.0 -f https://download.pytorch.org/whl/torch_stable.html"
   ]
  },
  {
   "cell_type": "code",
   "execution_count": 5,
   "id": "c13809d2",
   "metadata": {},
   "outputs": [
    {
     "name": "stdout",
     "output_type": "stream",
     "text": [
      "1.9.0+cu111\n",
      "True\n"
     ]
    }
   ],
   "source": [
    "import torch\n",
    "print(torch.__version__)\n",
    "print(torch.cuda.is_available())"
   ]
  },
  {
   "cell_type": "markdown",
   "id": "263c913e",
   "metadata": {
    "papermill": {
     "duration": 0.024515,
     "end_time": "2022-03-22T09:40:01.460332",
     "exception": false,
     "start_time": "2022-03-22T09:40:01.435817",
     "status": "completed"
    },
    "tags": []
   },
   "source": [
    "# Directory settings"
   ]
  },
  {
   "cell_type": "code",
   "execution_count": 6,
   "id": "46d8c76e",
   "metadata": {
    "id": "fa3b873b",
    "papermill": {
     "duration": 0.041313,
     "end_time": "2022-03-22T09:40:01.526545",
     "exception": false,
     "start_time": "2022-03-22T09:40:01.485232",
     "status": "completed"
    },
    "tags": []
   },
   "outputs": [],
   "source": [
    "# ====================================================\n",
    "# Directory settings\n",
    "# ====================================================\n",
    "\n",
    "import os\n",
    "import datetime\n",
    "\n",
    "# INPUT_DIR = '../../data/us-patent-phrase-to-phrase-matching/'\n",
    "\n",
    "# OUTPUT_DIR = f'./output/{EXP_NAME}/'\n",
    "# # if not os.path.exists(OUTPUT_DIR):\n",
    "# os.makedirs(OUTPUT_DIR, exist_ok=True)\n"
   ]
  },
  {
   "cell_type": "markdown",
   "id": "c75f6918",
   "metadata": {
    "id": "1d0c4430",
    "papermill": {
     "duration": 0.024609,
     "end_time": "2022-03-22T09:40:01.576366",
     "exception": false,
     "start_time": "2022-03-22T09:40:01.551757",
     "status": "completed"
    },
    "tags": []
   },
   "source": [
    "# CFG"
   ]
  },
  {
   "cell_type": "code",
   "execution_count": 7,
   "id": "80d58afe",
   "metadata": {
    "id": "48dd82bb",
    "papermill": {
     "duration": 0.033949,
     "end_time": "2022-03-22T09:40:01.634977",
     "exception": false,
     "start_time": "2022-03-22T09:40:01.601028",
     "status": "completed"
    },
    "tags": []
   },
   "outputs": [],
   "source": [
    "# ====================================================\n",
    "# CFG\n",
    "# ====================================================\n",
    "class CFG:\n",
    "    wandb=False\n",
    "    competition='PPPM'\n",
    "    _wandb_kernel='nakama'\n",
    "    debug=False\n",
    "    apex=True\n",
    "    print_freq=100\n",
    "    num_workers=4\n",
    "    # model=\"microsoft/deberta-v3-large\"\n",
    "    model = \"microsoft/mpnet-base\"\n",
    "    # size = \"large\n",
    "    # model = f\"{model}-{size}\"\n",
    "    if \"small\" in model:\n",
    "        hidden_state = hiddden_state_fix = 512\n",
    "    elif \"base\" in model:\n",
    "        hidden_state = hiddden_state_fix = 768\n",
    "    elif \"large\" in model:\n",
    "        hidden_state = hiddden_state_fix = 1024\n",
    "    elif \"xlarge\" in model:\n",
    "        hidden_state =  1536\n",
    "        \n",
    "    scheduler='cosine' # ['linear', 'cosine']\n",
    "    batch_scheduler=True\n",
    "    num_cycles=0.5\n",
    "    num_warmup_steps=0\n",
    "    epochs=4\n",
    "    encoder_lr=2e-5\n",
    "    decoder_lr=2e-5\n",
    "    min_lr=1e-6\n",
    "    eps=1e-6\n",
    "    betas=(0.9, 0.999)\n",
    "    \n",
    "    batch_size=8\n",
    "    \n",
    "    fc_dropout=0.2\n",
    "    target_size=1\n",
    "    max_len=512\n",
    "    weight_decay=0.01\n",
    "    gradient_accumulation_steps=1\n",
    "    max_grad_norm=1000\n",
    "    seed=42\n",
    "    n_fold=4\n",
    "    trn_fold=[i for i in range(n_fold)]\n",
    "    train=True\n",
    "    pass_fold = [0]\n",
    "    \n",
    "if CFG.debug:\n",
    "    CFG.epochs = 2\n",
    "    CFG.trn_fold = [0]"
   ]
  },
  {
   "cell_type": "code",
   "execution_count": 8,
   "id": "b7de2887",
   "metadata": {
    "id": "b88c983e",
    "papermill": {
     "duration": 8.873453,
     "end_time": "2022-03-22T09:40:10.532922",
     "exception": false,
     "start_time": "2022-03-22T09:40:01.659469",
     "status": "completed"
    },
    "tags": []
   },
   "outputs": [],
   "source": [
    "# ====================================================\n",
    "# wandb\n",
    "# ====================================================\n",
    "if CFG.wandb:\n",
    "    \n",
    "    import wandb\n",
    "\n",
    "    try:\n",
    "        from kaggle_secrets import UserSecretsClient\n",
    "        user_secrets = UserSecretsClient()\n",
    "        secret_value_0 = user_secrets.get_secret(\"wandb_api\")\n",
    "        wandb.login(key=secret_value_0)\n",
    "        anony = None\n",
    "    except:\n",
    "        anony = \"must\"\n",
    "        print('If you want to use your W&B account, go to Add-ons -> Secrets and provide your W&B access token. Use the Label name as wandb_api. \\nGet your W&B access token from here: https://wandb.ai/authorize')\n",
    "\n",
    "\n",
    "    def class2dict(f):\n",
    "        return dict((name, getattr(f, name)) for name in dir(f) if not name.startswith('__'))\n",
    "\n",
    "    run = wandb.init(project='PPPM-Public', \n",
    "                     name=CFG.model,\n",
    "                     config=class2dict(CFG),\n",
    "                     group=CFG.model,\n",
    "                     job_type=\"train\",\n",
    "                     anonymous=anony)"
   ]
  },
  {
   "cell_type": "code",
   "execution_count": 9,
   "id": "9f7d6f8c",
   "metadata": {},
   "outputs": [],
   "source": [
    "# !pip install transformers==4.16.2\n",
    "# !pip install tokenizers==0.11.0"
   ]
  },
  {
   "cell_type": "markdown",
   "id": "5ed638be",
   "metadata": {
    "id": "f2ed8ef2",
    "papermill": {
     "duration": 0.038261,
     "end_time": "2022-03-22T09:40:10.626926",
     "exception": false,
     "start_time": "2022-03-22T09:40:10.588665",
     "status": "completed"
    },
    "tags": []
   },
   "source": [
    "# Library"
   ]
  },
  {
   "cell_type": "code",
   "execution_count": 10,
   "id": "ebee5bbe",
   "metadata": {
    "executionInfo": {
     "elapsed": 20123,
     "status": "ok",
     "timestamp": 1644920080956,
     "user": {
      "displayName": "Yasufumi Nakama",
      "photoUrl": "https://lh3.googleusercontent.com/a/default-user=s64",
      "userId": "17486303986134302670"
     },
     "user_tz": -540
    },
    "id": "35916341",
    "outputId": "06fa0ab8-a380-4f54-a98d-b7015b79d9e2",
    "papermill": {
     "duration": 26.143536,
     "end_time": "2022-03-22T09:40:36.798853",
     "exception": false,
     "start_time": "2022-03-22T09:40:10.655317",
     "status": "completed"
    },
    "tags": []
   },
   "outputs": [
    {
     "name": "stdout",
     "output_type": "stream",
     "text": [
      "torch.__version__: 1.9.0+cu111\n",
      "tokenizers.__version__: 0.11.0\n",
      "transformers.__version__: 4.16.2\n",
      "env: TOKENIZERS_PARALLELISM=true\n",
      "cuda\n"
     ]
    }
   ],
   "source": [
    "# ====================================================\n",
    "# Library\n",
    "# ====================================================\n",
    "import os\n",
    "import gc\n",
    "import re\n",
    "import ast\n",
    "import sys\n",
    "import copy\n",
    "import json\n",
    "import time\n",
    "import math\n",
    "import shutil\n",
    "import string\n",
    "import pickle\n",
    "import random\n",
    "import joblib\n",
    "import itertools\n",
    "from pathlib import Path\n",
    "import warnings\n",
    "warnings.filterwarnings(\"ignore\")\n",
    "\n",
    "import scipy as sp\n",
    "import numpy as np\n",
    "import pandas as pd\n",
    "pd.set_option('display.max_rows', 500)\n",
    "pd.set_option('display.max_columns', 500)\n",
    "pd.set_option('display.width', 1000)\n",
    "from tqdm.auto import tqdm\n",
    "from sklearn.metrics import f1_score\n",
    "from sklearn.model_selection import StratifiedKFold, GroupKFold, KFold\n",
    "\n",
    "import torch\n",
    "print(f\"torch.__version__: {torch.__version__}\")\n",
    "import torch.nn as nn\n",
    "from torch.nn import Parameter\n",
    "import torch.nn.functional as F\n",
    "from torch.optim import Adam, SGD, AdamW\n",
    "from torch.utils.data import DataLoader, Dataset\n",
    "\n",
    "import tokenizers\n",
    "import transformers\n",
    "print(f\"tokenizers.__version__: {tokenizers.__version__}\")\n",
    "print(f\"transformers.__version__: {transformers.__version__}\")\n",
    "from transformers import AutoTokenizer, AutoModel, AutoConfig\n",
    "from transformers import get_linear_schedule_with_warmup, get_cosine_schedule_with_warmup\n",
    "%env TOKENIZERS_PARALLELISM=true\n",
    "\n",
    "device = torch.device('cuda' if torch.cuda.is_available() else 'cpu')\n",
    "# device = torch.device('cpu')\n",
    "print(device)\n",
    "\n",
    "start = time.time()"
   ]
  },
  {
   "cell_type": "markdown",
   "id": "dcc0106a",
   "metadata": {
    "id": "fd586614",
    "papermill": {
     "duration": 0.032888,
     "end_time": "2022-03-22T09:40:36.865209",
     "exception": false,
     "start_time": "2022-03-22T09:40:36.832321",
     "status": "completed"
    },
    "tags": []
   },
   "source": [
    "# Utils"
   ]
  },
  {
   "cell_type": "code",
   "execution_count": 11,
   "id": "540df385",
   "metadata": {
    "id": "d5c0ccc6",
    "papermill": {
     "duration": 0.21551,
     "end_time": "2022-03-22T09:40:37.116848",
     "exception": false,
     "start_time": "2022-03-22T09:40:36.901338",
     "status": "completed"
    },
    "tags": []
   },
   "outputs": [],
   "source": [
    "# ====================================================\n",
    "# Utils\n",
    "# ====================================================\n",
    "def get_score(y_true, y_pred):\n",
    "    score = sp.stats.pearsonr(y_true, y_pred)[0]\n",
    "    return score\n",
    "\n",
    "\n",
    "def get_logger(filename=OUTPUT_DIR+'train'):\n",
    "    from logging import getLogger, INFO, StreamHandler, FileHandler, Formatter\n",
    "    logger = getLogger(__name__)\n",
    "    logger.setLevel(INFO)\n",
    "    handler1 = StreamHandler()\n",
    "    handler1.setFormatter(Formatter(\"%(message)s\"))\n",
    "    handler2 = FileHandler(filename=f\"{filename}.log\")\n",
    "    handler2.setFormatter(Formatter(\"%(message)s\"))\n",
    "    logger.addHandler(handler1)\n",
    "    logger.addHandler(handler2)\n",
    "    return logger\n",
    "\n",
    "LOGGER = get_logger()\n",
    "\n",
    "def seed_everything(seed=42):\n",
    "    random.seed(seed)\n",
    "    os.environ['PYTHONHASHSEED'] = str(seed)\n",
    "    np.random.seed(seed)\n",
    "    torch.manual_seed(seed)\n",
    "    torch.cuda.manual_seed(seed)\n",
    "    torch.backends.cudnn.deterministic = True\n",
    "    \n",
    "seed_everything(seed=42)"
   ]
  },
  {
   "cell_type": "markdown",
   "id": "32170fde",
   "metadata": {
    "id": "cb3d8e1e",
    "papermill": {
     "duration": 0.032614,
     "end_time": "2022-03-22T09:40:37.184739",
     "exception": false,
     "start_time": "2022-03-22T09:40:37.152125",
     "status": "completed"
    },
    "tags": []
   },
   "source": [
    "# Data Loading"
   ]
  },
  {
   "cell_type": "code",
   "execution_count": 12,
   "id": "a903a50f",
   "metadata": {
    "executionInfo": {
     "elapsed": 2627,
     "status": "ok",
     "timestamp": 1644920084001,
     "user": {
      "displayName": "Yasufumi Nakama",
      "photoUrl": "https://lh3.googleusercontent.com/a/default-user=s64",
      "userId": "17486303986134302670"
     },
     "user_tz": -540
    },
    "id": "bef012d3",
    "outputId": "d4d60dbc-510c-4f34-8d64-dd1d88c4808c",
    "papermill": {
     "duration": 0.154829,
     "end_time": "2022-03-22T09:40:37.374453",
     "exception": false,
     "start_time": "2022-03-22T09:40:37.219624",
     "status": "completed"
    },
    "tags": []
   },
   "outputs": [
    {
     "name": "stdout",
     "output_type": "stream",
     "text": [
      "train.shape: (36473, 5)\n",
      "test.shape: (36, 4)\n",
      "submission.shape: (36, 2)\n"
     ]
    },
    {
     "data": {
      "text/html": [
       "<div>\n",
       "<style scoped>\n",
       "    .dataframe tbody tr th:only-of-type {\n",
       "        vertical-align: middle;\n",
       "    }\n",
       "\n",
       "    .dataframe tbody tr th {\n",
       "        vertical-align: top;\n",
       "    }\n",
       "\n",
       "    .dataframe thead th {\n",
       "        text-align: right;\n",
       "    }\n",
       "</style>\n",
       "<table border=\"1\" class=\"dataframe\">\n",
       "  <thead>\n",
       "    <tr style=\"text-align: right;\">\n",
       "      <th></th>\n",
       "      <th>id</th>\n",
       "      <th>anchor</th>\n",
       "      <th>target</th>\n",
       "      <th>context</th>\n",
       "      <th>score</th>\n",
       "    </tr>\n",
       "  </thead>\n",
       "  <tbody>\n",
       "    <tr>\n",
       "      <th>0</th>\n",
       "      <td>37d61fd2272659b1</td>\n",
       "      <td>abatement</td>\n",
       "      <td>abatement of pollution</td>\n",
       "      <td>A47</td>\n",
       "      <td>0.50</td>\n",
       "    </tr>\n",
       "    <tr>\n",
       "      <th>1</th>\n",
       "      <td>7b9652b17b68b7a4</td>\n",
       "      <td>abatement</td>\n",
       "      <td>act of abating</td>\n",
       "      <td>A47</td>\n",
       "      <td>0.75</td>\n",
       "    </tr>\n",
       "    <tr>\n",
       "      <th>2</th>\n",
       "      <td>36d72442aefd8232</td>\n",
       "      <td>abatement</td>\n",
       "      <td>active catalyst</td>\n",
       "      <td>A47</td>\n",
       "      <td>0.25</td>\n",
       "    </tr>\n",
       "    <tr>\n",
       "      <th>3</th>\n",
       "      <td>5296b0c19e1ce60e</td>\n",
       "      <td>abatement</td>\n",
       "      <td>eliminating process</td>\n",
       "      <td>A47</td>\n",
       "      <td>0.50</td>\n",
       "    </tr>\n",
       "    <tr>\n",
       "      <th>4</th>\n",
       "      <td>54c1e3b9184cb5b6</td>\n",
       "      <td>abatement</td>\n",
       "      <td>forest region</td>\n",
       "      <td>A47</td>\n",
       "      <td>0.00</td>\n",
       "    </tr>\n",
       "  </tbody>\n",
       "</table>\n",
       "</div>"
      ],
      "text/plain": [
       "                 id     anchor                  target context  score\n",
       "0  37d61fd2272659b1  abatement  abatement of pollution     A47   0.50\n",
       "1  7b9652b17b68b7a4  abatement          act of abating     A47   0.75\n",
       "2  36d72442aefd8232  abatement         active catalyst     A47   0.25\n",
       "3  5296b0c19e1ce60e  abatement     eliminating process     A47   0.50\n",
       "4  54c1e3b9184cb5b6  abatement           forest region     A47   0.00"
      ]
     },
     "metadata": {},
     "output_type": "display_data"
    },
    {
     "data": {
      "text/html": [
       "<div>\n",
       "<style scoped>\n",
       "    .dataframe tbody tr th:only-of-type {\n",
       "        vertical-align: middle;\n",
       "    }\n",
       "\n",
       "    .dataframe tbody tr th {\n",
       "        vertical-align: top;\n",
       "    }\n",
       "\n",
       "    .dataframe thead th {\n",
       "        text-align: right;\n",
       "    }\n",
       "</style>\n",
       "<table border=\"1\" class=\"dataframe\">\n",
       "  <thead>\n",
       "    <tr style=\"text-align: right;\">\n",
       "      <th></th>\n",
       "      <th>id</th>\n",
       "      <th>anchor</th>\n",
       "      <th>target</th>\n",
       "      <th>context</th>\n",
       "    </tr>\n",
       "  </thead>\n",
       "  <tbody>\n",
       "    <tr>\n",
       "      <th>0</th>\n",
       "      <td>4112d61851461f60</td>\n",
       "      <td>opc drum</td>\n",
       "      <td>inorganic photoconductor drum</td>\n",
       "      <td>G02</td>\n",
       "    </tr>\n",
       "    <tr>\n",
       "      <th>1</th>\n",
       "      <td>09e418c93a776564</td>\n",
       "      <td>adjust gas flow</td>\n",
       "      <td>altering gas flow</td>\n",
       "      <td>F23</td>\n",
       "    </tr>\n",
       "    <tr>\n",
       "      <th>2</th>\n",
       "      <td>36baf228038e314b</td>\n",
       "      <td>lower trunnion</td>\n",
       "      <td>lower locating</td>\n",
       "      <td>B60</td>\n",
       "    </tr>\n",
       "    <tr>\n",
       "      <th>3</th>\n",
       "      <td>1f37ead645e7f0c8</td>\n",
       "      <td>cap component</td>\n",
       "      <td>upper portion</td>\n",
       "      <td>D06</td>\n",
       "    </tr>\n",
       "    <tr>\n",
       "      <th>4</th>\n",
       "      <td>71a5b6ad068d531f</td>\n",
       "      <td>neural stimulation</td>\n",
       "      <td>artificial neural network</td>\n",
       "      <td>H04</td>\n",
       "    </tr>\n",
       "  </tbody>\n",
       "</table>\n",
       "</div>"
      ],
      "text/plain": [
       "                 id              anchor                         target context\n",
       "0  4112d61851461f60            opc drum  inorganic photoconductor drum     G02\n",
       "1  09e418c93a776564     adjust gas flow              altering gas flow     F23\n",
       "2  36baf228038e314b      lower trunnion                 lower locating     B60\n",
       "3  1f37ead645e7f0c8       cap component                  upper portion     D06\n",
       "4  71a5b6ad068d531f  neural stimulation      artificial neural network     H04"
      ]
     },
     "metadata": {},
     "output_type": "display_data"
    },
    {
     "data": {
      "text/html": [
       "<div>\n",
       "<style scoped>\n",
       "    .dataframe tbody tr th:only-of-type {\n",
       "        vertical-align: middle;\n",
       "    }\n",
       "\n",
       "    .dataframe tbody tr th {\n",
       "        vertical-align: top;\n",
       "    }\n",
       "\n",
       "    .dataframe thead th {\n",
       "        text-align: right;\n",
       "    }\n",
       "</style>\n",
       "<table border=\"1\" class=\"dataframe\">\n",
       "  <thead>\n",
       "    <tr style=\"text-align: right;\">\n",
       "      <th></th>\n",
       "      <th>id</th>\n",
       "      <th>score</th>\n",
       "    </tr>\n",
       "  </thead>\n",
       "  <tbody>\n",
       "    <tr>\n",
       "      <th>0</th>\n",
       "      <td>4112d61851461f60</td>\n",
       "      <td>0</td>\n",
       "    </tr>\n",
       "    <tr>\n",
       "      <th>1</th>\n",
       "      <td>09e418c93a776564</td>\n",
       "      <td>0</td>\n",
       "    </tr>\n",
       "    <tr>\n",
       "      <th>2</th>\n",
       "      <td>36baf228038e314b</td>\n",
       "      <td>0</td>\n",
       "    </tr>\n",
       "    <tr>\n",
       "      <th>3</th>\n",
       "      <td>1f37ead645e7f0c8</td>\n",
       "      <td>0</td>\n",
       "    </tr>\n",
       "    <tr>\n",
       "      <th>4</th>\n",
       "      <td>71a5b6ad068d531f</td>\n",
       "      <td>0</td>\n",
       "    </tr>\n",
       "  </tbody>\n",
       "</table>\n",
       "</div>"
      ],
      "text/plain": [
       "                 id  score\n",
       "0  4112d61851461f60      0\n",
       "1  09e418c93a776564      0\n",
       "2  36baf228038e314b      0\n",
       "3  1f37ead645e7f0c8      0\n",
       "4  71a5b6ad068d531f      0"
      ]
     },
     "metadata": {},
     "output_type": "display_data"
    }
   ],
   "source": [
    "# ====================================================\n",
    "# Data Loading\n",
    "# ====================================================\n",
    "train = pd.read_csv(INPUT_DIR+'train.csv')\n",
    "test = pd.read_csv(INPUT_DIR+'test.csv')\n",
    "submission = pd.read_csv(INPUT_DIR+'sample_submission.csv')\n",
    "print(f\"train.shape: {train.shape}\")\n",
    "print(f\"test.shape: {test.shape}\")\n",
    "print(f\"submission.shape: {submission.shape}\")\n",
    "display(train.head())\n",
    "display(test.head())\n",
    "display(submission.head())"
   ]
  },
  {
   "cell_type": "code",
   "execution_count": 13,
   "id": "fa85ac77",
   "metadata": {
    "papermill": {
     "duration": 0.848818,
     "end_time": "2022-03-22T09:40:38.260255",
     "exception": false,
     "start_time": "2022-03-22T09:40:37.411437",
     "status": "completed"
    },
    "tags": []
   },
   "outputs": [
    {
     "data": {
      "text/html": [
       "<div>\n",
       "<style scoped>\n",
       "    .dataframe tbody tr th:only-of-type {\n",
       "        vertical-align: middle;\n",
       "    }\n",
       "\n",
       "    .dataframe tbody tr th {\n",
       "        vertical-align: top;\n",
       "    }\n",
       "\n",
       "    .dataframe thead th {\n",
       "        text-align: right;\n",
       "    }\n",
       "</style>\n",
       "<table border=\"1\" class=\"dataframe\">\n",
       "  <thead>\n",
       "    <tr style=\"text-align: right;\">\n",
       "      <th></th>\n",
       "      <th>id</th>\n",
       "      <th>anchor</th>\n",
       "      <th>target</th>\n",
       "      <th>context</th>\n",
       "      <th>score</th>\n",
       "      <th>context_text</th>\n",
       "    </tr>\n",
       "  </thead>\n",
       "  <tbody>\n",
       "    <tr>\n",
       "      <th>0</th>\n",
       "      <td>37d61fd2272659b1</td>\n",
       "      <td>abatement</td>\n",
       "      <td>abatement of pollution</td>\n",
       "      <td>A47</td>\n",
       "      <td>0.50</td>\n",
       "      <td>HUMAN NECESSITIES. FURNITURE; DOMESTIC ARTICLE...</td>\n",
       "    </tr>\n",
       "    <tr>\n",
       "      <th>1</th>\n",
       "      <td>7b9652b17b68b7a4</td>\n",
       "      <td>abatement</td>\n",
       "      <td>act of abating</td>\n",
       "      <td>A47</td>\n",
       "      <td>0.75</td>\n",
       "      <td>HUMAN NECESSITIES. FURNITURE; DOMESTIC ARTICLE...</td>\n",
       "    </tr>\n",
       "    <tr>\n",
       "      <th>2</th>\n",
       "      <td>36d72442aefd8232</td>\n",
       "      <td>abatement</td>\n",
       "      <td>active catalyst</td>\n",
       "      <td>A47</td>\n",
       "      <td>0.25</td>\n",
       "      <td>HUMAN NECESSITIES. FURNITURE; DOMESTIC ARTICLE...</td>\n",
       "    </tr>\n",
       "    <tr>\n",
       "      <th>3</th>\n",
       "      <td>5296b0c19e1ce60e</td>\n",
       "      <td>abatement</td>\n",
       "      <td>eliminating process</td>\n",
       "      <td>A47</td>\n",
       "      <td>0.50</td>\n",
       "      <td>HUMAN NECESSITIES. FURNITURE; DOMESTIC ARTICLE...</td>\n",
       "    </tr>\n",
       "    <tr>\n",
       "      <th>4</th>\n",
       "      <td>54c1e3b9184cb5b6</td>\n",
       "      <td>abatement</td>\n",
       "      <td>forest region</td>\n",
       "      <td>A47</td>\n",
       "      <td>0.00</td>\n",
       "      <td>HUMAN NECESSITIES. FURNITURE; DOMESTIC ARTICLE...</td>\n",
       "    </tr>\n",
       "  </tbody>\n",
       "</table>\n",
       "</div>"
      ],
      "text/plain": [
       "                 id     anchor                  target context  score                                       context_text\n",
       "0  37d61fd2272659b1  abatement  abatement of pollution     A47   0.50  HUMAN NECESSITIES. FURNITURE; DOMESTIC ARTICLE...\n",
       "1  7b9652b17b68b7a4  abatement          act of abating     A47   0.75  HUMAN NECESSITIES. FURNITURE; DOMESTIC ARTICLE...\n",
       "2  36d72442aefd8232  abatement         active catalyst     A47   0.25  HUMAN NECESSITIES. FURNITURE; DOMESTIC ARTICLE...\n",
       "3  5296b0c19e1ce60e  abatement     eliminating process     A47   0.50  HUMAN NECESSITIES. FURNITURE; DOMESTIC ARTICLE...\n",
       "4  54c1e3b9184cb5b6  abatement           forest region     A47   0.00  HUMAN NECESSITIES. FURNITURE; DOMESTIC ARTICLE..."
      ]
     },
     "metadata": {},
     "output_type": "display_data"
    },
    {
     "data": {
      "text/html": [
       "<div>\n",
       "<style scoped>\n",
       "    .dataframe tbody tr th:only-of-type {\n",
       "        vertical-align: middle;\n",
       "    }\n",
       "\n",
       "    .dataframe tbody tr th {\n",
       "        vertical-align: top;\n",
       "    }\n",
       "\n",
       "    .dataframe thead th {\n",
       "        text-align: right;\n",
       "    }\n",
       "</style>\n",
       "<table border=\"1\" class=\"dataframe\">\n",
       "  <thead>\n",
       "    <tr style=\"text-align: right;\">\n",
       "      <th></th>\n",
       "      <th>id</th>\n",
       "      <th>anchor</th>\n",
       "      <th>target</th>\n",
       "      <th>context</th>\n",
       "      <th>context_text</th>\n",
       "    </tr>\n",
       "  </thead>\n",
       "  <tbody>\n",
       "    <tr>\n",
       "      <th>0</th>\n",
       "      <td>4112d61851461f60</td>\n",
       "      <td>opc drum</td>\n",
       "      <td>inorganic photoconductor drum</td>\n",
       "      <td>G02</td>\n",
       "      <td>PHYSICS. OPTICS</td>\n",
       "    </tr>\n",
       "    <tr>\n",
       "      <th>1</th>\n",
       "      <td>09e418c93a776564</td>\n",
       "      <td>adjust gas flow</td>\n",
       "      <td>altering gas flow</td>\n",
       "      <td>F23</td>\n",
       "      <td>MECHANICAL ENGINEERING; LIGHTING; HEATING; WEA...</td>\n",
       "    </tr>\n",
       "    <tr>\n",
       "      <th>2</th>\n",
       "      <td>36baf228038e314b</td>\n",
       "      <td>lower trunnion</td>\n",
       "      <td>lower locating</td>\n",
       "      <td>B60</td>\n",
       "      <td>PERFORMING OPERATIONS; TRANSPORTING. VEHICLES ...</td>\n",
       "    </tr>\n",
       "    <tr>\n",
       "      <th>3</th>\n",
       "      <td>1f37ead645e7f0c8</td>\n",
       "      <td>cap component</td>\n",
       "      <td>upper portion</td>\n",
       "      <td>D06</td>\n",
       "      <td>TEXTILES; PAPER. TREATMENT OF TEXTILES OR THE ...</td>\n",
       "    </tr>\n",
       "    <tr>\n",
       "      <th>4</th>\n",
       "      <td>71a5b6ad068d531f</td>\n",
       "      <td>neural stimulation</td>\n",
       "      <td>artificial neural network</td>\n",
       "      <td>H04</td>\n",
       "      <td>ELECTRICITY. ELECTRIC COMMUNICATION TECHNIQUE</td>\n",
       "    </tr>\n",
       "  </tbody>\n",
       "</table>\n",
       "</div>"
      ],
      "text/plain": [
       "                 id              anchor                         target context                                       context_text\n",
       "0  4112d61851461f60            opc drum  inorganic photoconductor drum     G02                                    PHYSICS. OPTICS\n",
       "1  09e418c93a776564     adjust gas flow              altering gas flow     F23  MECHANICAL ENGINEERING; LIGHTING; HEATING; WEA...\n",
       "2  36baf228038e314b      lower trunnion                 lower locating     B60  PERFORMING OPERATIONS; TRANSPORTING. VEHICLES ...\n",
       "3  1f37ead645e7f0c8       cap component                  upper portion     D06  TEXTILES; PAPER. TREATMENT OF TEXTILES OR THE ...\n",
       "4  71a5b6ad068d531f  neural stimulation      artificial neural network     H04      ELECTRICITY. ELECTRIC COMMUNICATION TECHNIQUE"
      ]
     },
     "metadata": {},
     "output_type": "display_data"
    }
   ],
   "source": [
    "# ====================================================\n",
    "# CPC Data\n",
    "# ====================================================\n",
    "def get_cpc_texts():\n",
    "    contexts = []\n",
    "    pattern = '[A-Z]\\d+'\n",
    "    for file_name in os.listdir(INPUT_DIR+'CPCSchemeXML202105'):\n",
    "        result = re.findall(pattern, file_name)\n",
    "        if result:\n",
    "            contexts.append(result)\n",
    "    contexts = sorted(set(sum(contexts, [])))\n",
    "    results = {}\n",
    "    for cpc in ['A', 'B', 'C', 'D', 'E', 'F', 'G', 'H', 'Y']:\n",
    "        with open(f'{INPUT_DIR}CPCTitleList202202/cpc-section-{cpc}_20220201.txt') as f:\n",
    "            s = f.read()\n",
    "        pattern = f'{cpc}\\t\\t.+'\n",
    "        result = re.findall(pattern, s)\n",
    "        cpc_result = result[0].lstrip(pattern)\n",
    "        for context in [c for c in contexts if c[0] == cpc]:\n",
    "            pattern = f'{context}\\t\\t.+'\n",
    "            result = re.findall(pattern, s)\n",
    "            results[context] = cpc_result + \". \" + result[0].lstrip(pattern)\n",
    "    return results\n",
    "\n",
    "\n",
    "# cpc_texts = get_cpc_texts()\n",
    "# torch.save(cpc_texts, OUTPUT_DIR+\"cpc_texts.pth\")\n",
    "cpc_texts = torch.load(INPUT_DIR+\"cpc_texts.pth\")\n",
    "train['context_text'] = train['context'].map(cpc_texts)\n",
    "test['context_text'] = test['context'].map(cpc_texts)\n",
    "display(train.head())\n",
    "display(test.head())"
   ]
  },
  {
   "cell_type": "code",
   "execution_count": 14,
   "id": "7bb73eb6",
   "metadata": {
    "papermill": {
     "duration": 0.084831,
     "end_time": "2022-03-22T09:40:38.384239",
     "exception": false,
     "start_time": "2022-03-22T09:40:38.299408",
     "status": "completed"
    },
    "tags": []
   },
   "outputs": [
    {
     "data": {
      "text/html": [
       "<div>\n",
       "<style scoped>\n",
       "    .dataframe tbody tr th:only-of-type {\n",
       "        vertical-align: middle;\n",
       "    }\n",
       "\n",
       "    .dataframe tbody tr th {\n",
       "        vertical-align: top;\n",
       "    }\n",
       "\n",
       "    .dataframe thead th {\n",
       "        text-align: right;\n",
       "    }\n",
       "</style>\n",
       "<table border=\"1\" class=\"dataframe\">\n",
       "  <thead>\n",
       "    <tr style=\"text-align: right;\">\n",
       "      <th></th>\n",
       "      <th>id</th>\n",
       "      <th>anchor</th>\n",
       "      <th>target</th>\n",
       "      <th>context</th>\n",
       "      <th>score</th>\n",
       "      <th>context_text</th>\n",
       "      <th>text</th>\n",
       "    </tr>\n",
       "  </thead>\n",
       "  <tbody>\n",
       "    <tr>\n",
       "      <th>0</th>\n",
       "      <td>37d61fd2272659b1</td>\n",
       "      <td>abatement</td>\n",
       "      <td>abatement of pollution</td>\n",
       "      <td>A47</td>\n",
       "      <td>0.50</td>\n",
       "      <td>HUMAN NECESSITIES. FURNITURE; DOMESTIC ARTICLE...</td>\n",
       "      <td>abatement[SEP]abatement of pollution[SEP]HUMAN...</td>\n",
       "    </tr>\n",
       "    <tr>\n",
       "      <th>1</th>\n",
       "      <td>7b9652b17b68b7a4</td>\n",
       "      <td>abatement</td>\n",
       "      <td>act of abating</td>\n",
       "      <td>A47</td>\n",
       "      <td>0.75</td>\n",
       "      <td>HUMAN NECESSITIES. FURNITURE; DOMESTIC ARTICLE...</td>\n",
       "      <td>abatement[SEP]act of abating[SEP]HUMAN NECESSI...</td>\n",
       "    </tr>\n",
       "    <tr>\n",
       "      <th>2</th>\n",
       "      <td>36d72442aefd8232</td>\n",
       "      <td>abatement</td>\n",
       "      <td>active catalyst</td>\n",
       "      <td>A47</td>\n",
       "      <td>0.25</td>\n",
       "      <td>HUMAN NECESSITIES. FURNITURE; DOMESTIC ARTICLE...</td>\n",
       "      <td>abatement[SEP]active catalyst[SEP]HUMAN NECESS...</td>\n",
       "    </tr>\n",
       "    <tr>\n",
       "      <th>3</th>\n",
       "      <td>5296b0c19e1ce60e</td>\n",
       "      <td>abatement</td>\n",
       "      <td>eliminating process</td>\n",
       "      <td>A47</td>\n",
       "      <td>0.50</td>\n",
       "      <td>HUMAN NECESSITIES. FURNITURE; DOMESTIC ARTICLE...</td>\n",
       "      <td>abatement[SEP]eliminating process[SEP]HUMAN NE...</td>\n",
       "    </tr>\n",
       "    <tr>\n",
       "      <th>4</th>\n",
       "      <td>54c1e3b9184cb5b6</td>\n",
       "      <td>abatement</td>\n",
       "      <td>forest region</td>\n",
       "      <td>A47</td>\n",
       "      <td>0.00</td>\n",
       "      <td>HUMAN NECESSITIES. FURNITURE; DOMESTIC ARTICLE...</td>\n",
       "      <td>abatement[SEP]forest region[SEP]HUMAN NECESSIT...</td>\n",
       "    </tr>\n",
       "  </tbody>\n",
       "</table>\n",
       "</div>"
      ],
      "text/plain": [
       "                 id     anchor                  target context  score                                       context_text                                               text\n",
       "0  37d61fd2272659b1  abatement  abatement of pollution     A47   0.50  HUMAN NECESSITIES. FURNITURE; DOMESTIC ARTICLE...  abatement[SEP]abatement of pollution[SEP]HUMAN...\n",
       "1  7b9652b17b68b7a4  abatement          act of abating     A47   0.75  HUMAN NECESSITIES. FURNITURE; DOMESTIC ARTICLE...  abatement[SEP]act of abating[SEP]HUMAN NECESSI...\n",
       "2  36d72442aefd8232  abatement         active catalyst     A47   0.25  HUMAN NECESSITIES. FURNITURE; DOMESTIC ARTICLE...  abatement[SEP]active catalyst[SEP]HUMAN NECESS...\n",
       "3  5296b0c19e1ce60e  abatement     eliminating process     A47   0.50  HUMAN NECESSITIES. FURNITURE; DOMESTIC ARTICLE...  abatement[SEP]eliminating process[SEP]HUMAN NE...\n",
       "4  54c1e3b9184cb5b6  abatement           forest region     A47   0.00  HUMAN NECESSITIES. FURNITURE; DOMESTIC ARTICLE...  abatement[SEP]forest region[SEP]HUMAN NECESSIT..."
      ]
     },
     "metadata": {},
     "output_type": "display_data"
    },
    {
     "data": {
      "text/html": [
       "<div>\n",
       "<style scoped>\n",
       "    .dataframe tbody tr th:only-of-type {\n",
       "        vertical-align: middle;\n",
       "    }\n",
       "\n",
       "    .dataframe tbody tr th {\n",
       "        vertical-align: top;\n",
       "    }\n",
       "\n",
       "    .dataframe thead th {\n",
       "        text-align: right;\n",
       "    }\n",
       "</style>\n",
       "<table border=\"1\" class=\"dataframe\">\n",
       "  <thead>\n",
       "    <tr style=\"text-align: right;\">\n",
       "      <th></th>\n",
       "      <th>id</th>\n",
       "      <th>anchor</th>\n",
       "      <th>target</th>\n",
       "      <th>context</th>\n",
       "      <th>context_text</th>\n",
       "      <th>text</th>\n",
       "    </tr>\n",
       "  </thead>\n",
       "  <tbody>\n",
       "    <tr>\n",
       "      <th>0</th>\n",
       "      <td>4112d61851461f60</td>\n",
       "      <td>opc drum</td>\n",
       "      <td>inorganic photoconductor drum</td>\n",
       "      <td>G02</td>\n",
       "      <td>PHYSICS. OPTICS</td>\n",
       "      <td>opc drum[SEP]inorganic photoconductor drum[SEP...</td>\n",
       "    </tr>\n",
       "    <tr>\n",
       "      <th>1</th>\n",
       "      <td>09e418c93a776564</td>\n",
       "      <td>adjust gas flow</td>\n",
       "      <td>altering gas flow</td>\n",
       "      <td>F23</td>\n",
       "      <td>MECHANICAL ENGINEERING; LIGHTING; HEATING; WEA...</td>\n",
       "      <td>adjust gas flow[SEP]altering gas flow[SEP]MECH...</td>\n",
       "    </tr>\n",
       "    <tr>\n",
       "      <th>2</th>\n",
       "      <td>36baf228038e314b</td>\n",
       "      <td>lower trunnion</td>\n",
       "      <td>lower locating</td>\n",
       "      <td>B60</td>\n",
       "      <td>PERFORMING OPERATIONS; TRANSPORTING. VEHICLES ...</td>\n",
       "      <td>lower trunnion[SEP]lower locating[SEP]PERFORMI...</td>\n",
       "    </tr>\n",
       "    <tr>\n",
       "      <th>3</th>\n",
       "      <td>1f37ead645e7f0c8</td>\n",
       "      <td>cap component</td>\n",
       "      <td>upper portion</td>\n",
       "      <td>D06</td>\n",
       "      <td>TEXTILES; PAPER. TREATMENT OF TEXTILES OR THE ...</td>\n",
       "      <td>cap component[SEP]upper portion[SEP]TEXTILES; ...</td>\n",
       "    </tr>\n",
       "    <tr>\n",
       "      <th>4</th>\n",
       "      <td>71a5b6ad068d531f</td>\n",
       "      <td>neural stimulation</td>\n",
       "      <td>artificial neural network</td>\n",
       "      <td>H04</td>\n",
       "      <td>ELECTRICITY. ELECTRIC COMMUNICATION TECHNIQUE</td>\n",
       "      <td>neural stimulation[SEP]artificial neural netwo...</td>\n",
       "    </tr>\n",
       "  </tbody>\n",
       "</table>\n",
       "</div>"
      ],
      "text/plain": [
       "                 id              anchor                         target context                                       context_text                                               text\n",
       "0  4112d61851461f60            opc drum  inorganic photoconductor drum     G02                                    PHYSICS. OPTICS  opc drum[SEP]inorganic photoconductor drum[SEP...\n",
       "1  09e418c93a776564     adjust gas flow              altering gas flow     F23  MECHANICAL ENGINEERING; LIGHTING; HEATING; WEA...  adjust gas flow[SEP]altering gas flow[SEP]MECH...\n",
       "2  36baf228038e314b      lower trunnion                 lower locating     B60  PERFORMING OPERATIONS; TRANSPORTING. VEHICLES ...  lower trunnion[SEP]lower locating[SEP]PERFORMI...\n",
       "3  1f37ead645e7f0c8       cap component                  upper portion     D06  TEXTILES; PAPER. TREATMENT OF TEXTILES OR THE ...  cap component[SEP]upper portion[SEP]TEXTILES; ...\n",
       "4  71a5b6ad068d531f  neural stimulation      artificial neural network     H04      ELECTRICITY. ELECTRIC COMMUNICATION TECHNIQUE  neural stimulation[SEP]artificial neural netwo..."
      ]
     },
     "metadata": {},
     "output_type": "display_data"
    }
   ],
   "source": [
    "pad = \"[SEP]\"\n",
    "train['text'] = train['anchor'] + pad + train['target'] +pad  + train['context_text']\n",
    "test['text'] = test['anchor'] + pad + test['target'] +pad  + test['context_text']\n",
    "display(train.head())\n",
    "display(test.head())"
   ]
  },
  {
   "cell_type": "markdown",
   "id": "b01d622c",
   "metadata": {
    "papermill": {
     "duration": 0.040462,
     "end_time": "2022-03-22T09:40:38.462517",
     "exception": false,
     "start_time": "2022-03-22T09:40:38.422055",
     "status": "completed"
    },
    "tags": []
   },
   "source": [
    "# EDA"
   ]
  },
  {
   "cell_type": "code",
   "execution_count": 15,
   "id": "560906cd",
   "metadata": {
    "papermill": {
     "duration": 0.298955,
     "end_time": "2022-03-22T09:40:38.799273",
     "exception": false,
     "start_time": "2022-03-22T09:40:38.500318",
     "status": "completed"
    },
    "tags": []
   },
   "outputs": [
    {
     "data": {
      "text/plain": [
       "<AxesSubplot:>"
      ]
     },
     "execution_count": 15,
     "metadata": {},
     "output_type": "execute_result"
    },
    {
     "data": {
      "image/png": "[encoded data removed]",
      "text/plain": [
       "<Figure size 432x288 with 1 Axes>"
      ]
     },
     "metadata": {
      "needs_background": "light"
     },
     "output_type": "display_data"
    }
   ],
   "source": [
    "train['score'].hist()"
   ]
  },
  {
   "cell_type": "code",
   "execution_count": 16,
   "id": "bb2122ec",
   "metadata": {
    "papermill": {
     "duration": 0.072329,
     "end_time": "2022-03-22T09:40:38.914779",
     "exception": false,
     "start_time": "2022-03-22T09:40:38.842450",
     "status": "completed"
    },
    "tags": []
   },
   "outputs": [
    {
     "data": {
      "text/plain": [
       "B    8019\n",
       "H    6195\n",
       "G    6013\n",
       "C    5288\n",
       "A    4094\n",
       "F    4054\n",
       "E    1531\n",
       "D    1279\n",
       "Name: context, dtype: int64"
      ]
     },
     "metadata": {},
     "output_type": "display_data"
    }
   ],
   "source": [
    "display(train['context'].apply(lambda x: x[0]).value_counts())"
   ]
  },
  {
   "cell_type": "markdown",
   "id": "fdc1e4e5",
   "metadata": {
    "papermill": {
     "duration": 0.040834,
     "end_time": "2022-03-22T09:40:38.997435",
     "exception": false,
     "start_time": "2022-03-22T09:40:38.956601",
     "status": "completed"
    },
    "tags": []
   },
   "source": [
    "- Y is not in training data, but may be in test data?"
   ]
  },
  {
   "cell_type": "markdown",
   "id": "9249864a",
   "metadata": {
    "id": "9e05b6c4",
    "papermill": {
     "duration": 0.041734,
     "end_time": "2022-03-22T09:40:39.084284",
     "exception": false,
     "start_time": "2022-03-22T09:40:39.042550",
     "status": "completed"
    },
    "tags": []
   },
   "source": [
    "# CV split"
   ]
  },
  {
   "cell_type": "code",
   "execution_count": 17,
   "id": "44a41536",
   "metadata": {
    "executionInfo": {
     "elapsed": 12,
     "status": "ok",
     "timestamp": 1644920084528,
     "user": {
      "displayName": "Yasufumi Nakama",
      "photoUrl": "https://lh3.googleusercontent.com/a/default-user=s64",
      "userId": "17486303986134302670"
     },
     "user_tz": -540
    },
    "id": "3ba287c4",
    "outputId": "307dc0e2-17d6-4bfe-9e95-fdd9b6303974",
    "papermill": {
     "duration": 0.074115,
     "end_time": "2022-03-22T09:40:39.201383",
     "exception": false,
     "start_time": "2022-03-22T09:40:39.127268",
     "status": "completed"
    },
    "tags": []
   },
   "outputs": [
    {
     "data": {
      "text/plain": [
       "fold\n",
       "0    9119\n",
       "1    9118\n",
       "2    9118\n",
       "3    9118\n",
       "dtype: int64"
      ]
     },
     "metadata": {},
     "output_type": "display_data"
    }
   ],
   "source": [
    "# ====================================================\n",
    "# CV split\n",
    "# ====================================================\n",
    "train['score_map'] = train['score'].map({0.00: 0, 0.25: 1, 0.50: 2, 0.75: 3, 1.00: 4})\n",
    "Fold = StratifiedKFold(n_splits=CFG.n_fold, shuffle=True, random_state=CFG.seed)\n",
    "for n, (train_index, val_index) in enumerate(Fold.split(train, train['score_map'])):\n",
    "    train.loc[val_index, 'fold'] = int(n)\n",
    "train['fold'] = train['fold'].astype(int)\n",
    "display(train.groupby('fold').size())"
   ]
  },
  {
   "cell_type": "code",
   "execution_count": 18,
   "id": "bb9ce665",
   "metadata": {
    "id": "4c3ce877",
    "papermill": {
     "duration": 0.049441,
     "end_time": "2022-03-22T09:40:39.291307",
     "exception": false,
     "start_time": "2022-03-22T09:40:39.241866",
     "status": "completed"
    },
    "tags": []
   },
   "outputs": [],
   "source": [
    "if CFG.debug:\n",
    "    display(train.groupby('fold').size())\n",
    "    train = train.sample(n=1000, random_state=0).reset_index(drop=True)\n",
    "    display(train.groupby('fold').size())"
   ]
  },
  {
   "cell_type": "markdown",
   "id": "a7adea75",
   "metadata": {
    "id": "918a28aa",
    "papermill": {
     "duration": 0.039494,
     "end_time": "2022-03-22T09:40:39.374931",
     "exception": false,
     "start_time": "2022-03-22T09:40:39.335437",
     "status": "completed"
    },
    "tags": []
   },
   "source": [
    "# tokenizer"
   ]
  },
  {
   "cell_type": "code",
   "execution_count": 19,
   "id": "4efc387f",
   "metadata": {},
   "outputs": [],
   "source": [
    "# !pip install --no-cache-dir sentencepiece"
   ]
  },
  {
   "cell_type": "code",
   "execution_count": 20,
   "id": "54f8891e",
   "metadata": {
    "papermill": {
     "duration": 5.198604,
     "end_time": "2022-03-22T09:40:44.612849",
     "exception": false,
     "start_time": "2022-03-22T09:40:39.414245",
     "status": "completed"
    },
    "tags": []
   },
   "outputs": [],
   "source": [
    "# ====================================================\n",
    "# tokenizer\n",
    "# ====================================================\n",
    "# tokenizer = AutoTokenizer.from_pretrained(CFG.model,use_fast=False)\n",
    "tokenizer = AutoTokenizer.from_pretrained(CFG.model,use_fast=False)\n",
    "tokenizer.save_pretrained(OUTPUT_DIR+'tokenizer/')\n",
    "CFG.tokenizer = tokenizer\n",
    "\n"
   ]
  },
  {
   "cell_type": "code",
   "execution_count": 21,
   "id": "7cf880ca-b3fb-4603-9194-fc20c0f93e59",
   "metadata": {},
   "outputs": [
    {
     "data": {
      "text/plain": [
       "PreTrainedTokenizerFast(name_or_path='./output/microsoft-mpnet-base/tokenizer/', vocab_size=30527, model_max_len=512, is_fast=True, padding_side='right', truncation_side='right', special_tokens={'bos_token': AddedToken(\"<s>\", rstrip=False, lstrip=False, single_word=False, normalized=True), 'eos_token': AddedToken(\"</s>\", rstrip=False, lstrip=False, single_word=False, normalized=True), 'unk_token': AddedToken(\"[UNK]\", rstrip=False, lstrip=False, single_word=False, normalized=True), 'sep_token': AddedToken(\"</s>\", rstrip=False, lstrip=False, single_word=False, normalized=True), 'pad_token': AddedToken(\"<pad>\", rstrip=False, lstrip=False, single_word=False, normalized=True), 'cls_token': AddedToken(\"<s>\", rstrip=False, lstrip=False, single_word=False, normalized=True), 'mask_token': AddedToken(\"<mask>\", rstrip=False, lstrip=True, single_word=False, normalized=True)})"
      ]
     },
     "execution_count": 21,
     "metadata": {},
     "output_type": "execute_result"
    }
   ],
   "source": [
    "# CFG.tokenizer = AutoTokenizer.from_pretrained(OUTPUT_DIR+'tokenizer/')\n",
    "# CFG.tokenizer\n",
    "AutoTokenizer.from_pretrained(OUTPUT_DIR+'tokenizer/')"
   ]
  },
  {
   "cell_type": "markdown",
   "id": "d9fca227",
   "metadata": {
    "id": "14da40cf",
    "papermill": {
     "duration": 0.04897,
     "end_time": "2022-03-22T09:40:44.706931",
     "exception": false,
     "start_time": "2022-03-22T09:40:44.657961",
     "status": "completed"
    },
    "tags": []
   },
   "source": [
    "# Dataset"
   ]
  },
  {
   "cell_type": "code",
   "execution_count": 22,
   "id": "2671471a",
   "metadata": {
    "executionInfo": {
     "elapsed": 32827,
     "status": "ok",
     "timestamp": 1644920122500,
     "user": {
      "displayName": "Yasufumi Nakama",
      "photoUrl": "https://lh3.googleusercontent.com/a/default-user=s64",
      "userId": "17486303986134302670"
     },
     "user_tz": -540
    },
    "id": "c00327b0",
    "outputId": "26e947da-b73a-494d-e776-906b037ac08a",
    "papermill": {
     "duration": 7.208379,
     "end_time": "2022-03-22T09:40:51.959343",
     "exception": false,
     "start_time": "2022-03-22T09:40:44.750964",
     "status": "completed"
    },
    "tags": []
   },
   "outputs": [
    {
     "data": {
      "application/vnd.jupyter.widget-view+json": {
       "model_id": "5219425be5df4673ae37f49d851a931a",
       "version_major": 2,
       "version_minor": 0
      },
      "text/plain": [
       "  0%|          | 0/136 [00:00<?, ?it/s]"
      ]
     },
     "metadata": {},
     "output_type": "display_data"
    },
    {
     "data": {
      "application/vnd.jupyter.widget-view+json": {
       "model_id": "089301dd6b7049ebbdabb2b96ad1d56f",
       "version_major": 2,
       "version_minor": 0
      },
      "text/plain": [
       "  0%|          | 0/36473 [00:00<?, ?it/s]"
      ]
     },
     "metadata": {},
     "output_type": "display_data"
    },
    {
     "data": {
      "application/vnd.jupyter.widget-view+json": {
       "model_id": "b8d12d35122a460f8ddc25cad70a672d",
       "version_major": 2,
       "version_minor": 0
      },
      "text/plain": [
       "  0%|          | 0/36473 [00:00<?, ?it/s]"
      ]
     },
     "metadata": {},
     "output_type": "display_data"
    },
    {
     "name": "stderr",
     "output_type": "stream",
     "text": [
      "max_len: 125\n"
     ]
    }
   ],
   "source": [
    "# ====================================================\n",
    "# Define max_len\n",
    "# ====================================================\n",
    "lengths_dict = {}\n",
    "\n",
    "lengths = []\n",
    "tk0 = tqdm(cpc_texts.values(), total=len(cpc_texts))\n",
    "for text in tk0:\n",
    "    length = len(tokenizer(text, add_special_tokens=False)['input_ids'])\n",
    "    lengths.append(length)\n",
    "lengths_dict['context_text'] = lengths\n",
    "\n",
    "for text_col in ['anchor', 'target']:\n",
    "    lengths = []\n",
    "    tk0 = tqdm(train[text_col].fillna(\"\").values, total=len(train))\n",
    "    for text in tk0:\n",
    "        length = len(tokenizer(text, add_special_tokens=False)['input_ids'])\n",
    "        lengths.append(length)\n",
    "    lengths_dict[text_col] = lengths\n",
    "    \n",
    "CFG.max_len = max(lengths_dict['anchor']) + max(lengths_dict['target'])\\\n",
    "                + max(lengths_dict['context_text']) + 4 # CLS + SEP + SEP + SEP\n",
    "LOGGER.info(f\"max_len: {CFG.max_len}\")"
   ]
  },
  {
   "cell_type": "code",
   "execution_count": 23,
   "id": "49be5a92",
   "metadata": {
    "id": "9f791a19",
    "papermill": {
     "duration": 0.055528,
     "end_time": "2022-03-22T09:40:52.072178",
     "exception": false,
     "start_time": "2022-03-22T09:40:52.016650",
     "status": "completed"
    },
    "tags": []
   },
   "outputs": [
    {
     "name": "stdout",
     "output_type": "stream",
     "text": [
      "torch.__version__: 1.9.0+cu111\n"
     ]
    }
   ],
   "source": [
    "# ====================================================\n",
    "# Dataset\n",
    "# ====================================================\n",
    "def prepare_input(cfg, text):\n",
    "    inputs = cfg.tokenizer(text,\n",
    "                           add_special_tokens=True,\n",
    "                           max_length=cfg.max_len,\n",
    "                           padding=\"max_length\",\n",
    "                           return_offsets_mapping=False)\n",
    "    for k, v in inputs.items():\n",
    "        inputs[k] = torch.tensor(v, dtype=torch.long)\n",
    "    return inputs\n",
    "\n",
    "sys.path.append('../dataset')\n",
    "from dataset import TrainDataset"
   ]
  },
  {
   "cell_type": "code",
   "execution_count": 24,
   "id": "a459997d",
   "metadata": {
    "executionInfo": {
     "elapsed": 8,
     "status": "ok",
     "timestamp": 1644920122808,
     "user": {
      "displayName": "Yasufumi Nakama",
      "photoUrl": "https://lh3.googleusercontent.com/a/default-user=s64",
      "userId": "17486303986134302670"
     },
     "user_tz": -540
    },
    "id": "a200bd5b",
    "outputId": "a30fde2b-86f9-4ebd-ae81-33f467b69836",
    "papermill": {
     "duration": 0.05166,
     "end_time": "2022-03-22T09:40:52.171272",
     "exception": false,
     "start_time": "2022-03-22T09:40:52.119612",
     "status": "completed"
    },
    "tags": []
   },
   "outputs": [
    {
     "data": {
      "text/plain": [
       "'\\ntrain_dataset = TrainDataset(CFG, train)\\ninputs, label = train_dataset[0]\\nprint(inputs)\\nprint(label)\\n'"
      ]
     },
     "execution_count": 24,
     "metadata": {},
     "output_type": "execute_result"
    }
   ],
   "source": [
    "\"\"\"\n",
    "train_dataset = TrainDataset(CFG, train)\n",
    "inputs, label = train_dataset[0]\n",
    "print(inputs)\n",
    "print(label)\n",
    "\"\"\""
   ]
  },
  {
   "cell_type": "markdown",
   "id": "44d28ba3",
   "metadata": {
    "id": "e04d6363",
    "papermill": {
     "duration": 0.044161,
     "end_time": "2022-03-22T09:40:52.262022",
     "exception": false,
     "start_time": "2022-03-22T09:40:52.217861",
     "status": "completed"
    },
    "tags": []
   },
   "source": [
    "# Model"
   ]
  },
  {
   "cell_type": "code",
   "execution_count": 25,
   "id": "872e6567",
   "metadata": {
    "id": "4c5bab44",
    "papermill": {
     "duration": 0.066203,
     "end_time": "2022-03-22T09:40:52.372030",
     "exception": false,
     "start_time": "2022-03-22T09:40:52.305827",
     "status": "completed"
    },
    "tags": []
   },
   "outputs": [],
   "source": [
    "# ====================================================\n",
    "# Model\n",
    "# ====================================================\n",
    "class CustomModel(nn.Module):\n",
    "    def __init__(self, cfg, config_path=None, pretrained=False):\n",
    "        super().__init__()\n",
    "        self.cfg = cfg\n",
    "        if config_path is None:\n",
    "            self.config = AutoConfig.from_pretrained(cfg.model, output_hidden_states=True)\n",
    "        else:\n",
    "            self.config = torch.load(config_path)\n",
    "        if pretrained:\n",
    "            self.model = AutoModel.from_pretrained(cfg.model, config=self.config)\n",
    "        else:\n",
    "            self.model = AutoModel.from_config(self.config)\n",
    "        self.fc_dropout = nn.Dropout(cfg.fc_dropout)\n",
    "        self.fc = nn.Linear(self.config.hidden_size, self.cfg.target_size)\n",
    "        self._init_weights(self.fc)\n",
    "        self.attention = nn.Sequential(\n",
    "            nn.Linear(self.config.hidden_size, 512),\n",
    "            nn.Tanh(),\n",
    "            nn.Linear(512, 1),\n",
    "            nn.Softmax(dim=1)\n",
    "        )\n",
    "        self._init_weights(self.attention)\n",
    "        \n",
    "    def _init_weights(self, module):\n",
    "        if isinstance(module, nn.Linear):\n",
    "            module.weight.data.normal_(mean=0.0, std=self.config.initializer_range)\n",
    "            if module.bias is not None:\n",
    "                module.bias.data.zero_()\n",
    "        elif isinstance(module, nn.Embedding):\n",
    "            module.weight.data.normal_(mean=0.0, std=self.config.initializer_range)\n",
    "            if module.padding_idx is not None:\n",
    "                module.weight.data[module.padding_idx].zero_()\n",
    "        elif isinstance(module, nn.LayerNorm):\n",
    "            module.bias.data.zero_()\n",
    "            module.weight.data.fill_(1.0)\n",
    "        \n",
    "    def feature(self, inputs):\n",
    "        outputs = self.model(**inputs)\n",
    "        last_hidden_states = outputs[0]\n",
    "        # feature = torch.mean(last_hidden_states, 1)\n",
    "        weights = self.attention(last_hidden_states)\n",
    "        feature = torch.sum(weights * last_hidden_states, dim=1)\n",
    "        return feature\n",
    "\n",
    "    def forward(self, inputs):\n",
    "        feature = self.feature(inputs)\n",
    "        output = self.fc(self.fc_dropout(feature))\n",
    "        return output\n",
    "    \n"
   ]
  },
  {
   "cell_type": "markdown",
   "id": "d58eee04",
   "metadata": {
    "id": "deee9675",
    "papermill": {
     "duration": 0.044158,
     "end_time": "2022-03-22T09:40:52.460401",
     "exception": false,
     "start_time": "2022-03-22T09:40:52.416243",
     "status": "completed"
    },
    "tags": []
   },
   "source": [
    "# Helpler functions"
   ]
  },
  {
   "cell_type": "code",
   "execution_count": 26,
   "id": "53d5903c",
   "metadata": {
    "id": "c8263b0c",
    "papermill": {
     "duration": 0.078567,
     "end_time": "2022-03-22T09:40:52.582474",
     "exception": false,
     "start_time": "2022-03-22T09:40:52.503907",
     "status": "completed"
    },
    "tags": []
   },
   "outputs": [],
   "source": [
    "# ====================================================\n",
    "# Helper functions\n",
    "# ====================================================\n",
    "class AverageMeter(object):\n",
    "    \"\"\"Computes and stores the average and current value\"\"\"\n",
    "    def __init__(self):\n",
    "        self.reset()\n",
    "\n",
    "    def reset(self):\n",
    "        self.val = 0\n",
    "        self.avg = 0\n",
    "        self.sum = 0\n",
    "        self.count = 0\n",
    "\n",
    "    def update(self, val, n=1):\n",
    "        self.val = val\n",
    "        self.sum += val * n\n",
    "        self.count += n\n",
    "        self.avg = self.sum / self.count\n",
    "\n",
    "\n",
    "def asMinutes(s):\n",
    "    m = math.floor(s / 60)\n",
    "    s -= m * 60\n",
    "    return '%dm %ds' % (m, s)\n",
    "\n",
    "\n",
    "def timeSince(since, percent):\n",
    "    now = time.time()\n",
    "    s = now - since\n",
    "    es = s / (percent)\n",
    "    rs = es - s\n",
    "    return '%s (remain %s)' % (asMinutes(s), asMinutes(rs))\n",
    "\n",
    "\n",
    "def train_fn(fold, train_loader, model, criterion, optimizer, epoch, scheduler, device):\n",
    "    model.train()\n",
    "    scaler = torch.cuda.amp.GradScaler(enabled=CFG.apex)\n",
    "    losses = AverageMeter()\n",
    "    start = end = time.time()\n",
    "    global_step = 0\n",
    "    for step, (inputs, labels) in enumerate(train_loader):\n",
    "        for k, v in inputs.items():\n",
    "            inputs[k] = v.to(device)\n",
    "        labels = labels.to(device)\n",
    "        batch_size = labels.size(0)\n",
    "        with torch.cuda.amp.autocast(enabled=CFG.apex):\n",
    "            y_preds = model(inputs)\n",
    "        loss = criterion(y_preds.view(-1, 1), labels.view(-1, 1))\n",
    "        if CFG.gradient_accumulation_steps > 1:\n",
    "            loss = loss / CFG.gradient_accumulation_steps\n",
    "        losses.update(loss.item(), batch_size)\n",
    "        scaler.scale(loss).backward()\n",
    "        grad_norm = torch.nn.utils.clip_grad_norm_(model.parameters(), CFG.max_grad_norm)\n",
    "        if (step + 1) % CFG.gradient_accumulation_steps == 0:\n",
    "            scaler.step(optimizer)\n",
    "            scaler.update()\n",
    "            optimizer.zero_grad()\n",
    "            global_step += 1\n",
    "            if CFG.batch_scheduler:\n",
    "                scheduler.step()\n",
    "        end = time.time()\n",
    "        if step % CFG.print_freq == 0 or step == (len(train_loader)-1):\n",
    "            print('Epoch: [{0}][{1}/{2}] '\n",
    "                  'Elapsed {remain:s} '\n",
    "                  'Loss: {loss.val:.4f}({loss.avg:.4f}) '\n",
    "                  'Grad: {grad_norm:.4f}  '\n",
    "                  'LR: {lr:.8f}  '\n",
    "                  .format(epoch+1, step, len(train_loader), \n",
    "                          remain=timeSince(start, float(step+1)/len(train_loader)),\n",
    "                          loss=losses,\n",
    "                          grad_norm=grad_norm,\n",
    "                          lr=scheduler.get_lr()[0]))\n",
    "        if CFG.wandb:\n",
    "            wandb.log({f\"[fold{fold}] loss\": losses.val,\n",
    "                       f\"[fold{fold}] lr\": scheduler.get_lr()[0]})\n",
    "    return losses.avg\n",
    "\n",
    "\n",
    "def valid_fn(valid_loader, model, criterion, device):\n",
    "    losses = AverageMeter()\n",
    "    model.eval()\n",
    "    preds = []\n",
    "    start = end = time.time()\n",
    "    for step, (inputs, labels) in enumerate(valid_loader):\n",
    "        for k, v in inputs.items():\n",
    "            inputs[k] = v.to(device)\n",
    "        labels = labels.to(device)\n",
    "        batch_size = labels.size(0)\n",
    "        with torch.no_grad():\n",
    "            y_preds = model(inputs)\n",
    "        loss = criterion(y_preds.view(-1, 1), labels.view(-1, 1))\n",
    "        if CFG.gradient_accumulation_steps > 1:\n",
    "            loss = loss / CFG.gradient_accumulation_steps\n",
    "        losses.update(loss.item(), batch_size)\n",
    "        preds.append(y_preds.sigmoid().to('cpu').numpy())\n",
    "        end = time.time()\n",
    "        if step % CFG.print_freq == 0 or step == (len(valid_loader)-1):\n",
    "            print('EVAL: [{0}/{1}] '\n",
    "                  'Elapsed {remain:s} '\n",
    "                  'Loss: {loss.val:.4f}({loss.avg:.4f}) '\n",
    "                  .format(step, len(valid_loader),\n",
    "                          loss=losses,\n",
    "                          remain=timeSince(start, float(step+1)/len(valid_loader))))\n",
    "    predictions = np.concatenate(preds)\n",
    "    predictions = np.concatenate(predictions)\n",
    "    return losses.avg, predictions\n",
    "\n",
    "\n",
    "def inference_fn(test_loader, model, device):\n",
    "    preds = []\n",
    "    model.eval()\n",
    "    model.to(device)\n",
    "    tk0 = tqdm(test_loader, total=len(test_loader))\n",
    "    for inputs in tk0:\n",
    "        for k, v in inputs.items():\n",
    "            inputs[k] = v.to(device)\n",
    "        with torch.no_grad():\n",
    "            y_preds = model(inputs)\n",
    "        preds.append(y_preds.sigmoid().to('cpu').numpy())\n",
    "    predictions = np.concatenate(preds)\n",
    "    return predictions"
   ]
  },
  {
   "cell_type": "code",
   "execution_count": 27,
   "id": "e3e9d570",
   "metadata": {
    "id": "bed940e1",
    "papermill": {
     "duration": 0.071348,
     "end_time": "2022-03-22T09:40:52.697940",
     "exception": false,
     "start_time": "2022-03-22T09:40:52.626592",
     "status": "completed"
    },
    "tags": []
   },
   "outputs": [],
   "source": [
    "# ====================================================\n",
    "# train loop\n",
    "# ====================================================\n",
    "# def train_loop(folds, fold):\n",
    "def train_loop(train_loader, valid_loader):\n",
    "#     LOGGER.info(f\"========== fold: {fold} training ==========\")\n",
    "\n",
    "#     # ====================================================\n",
    "#     # loader\n",
    "#     # ====================================================\n",
    "#     train_folds = folds[folds['fold'] != fold].reset_index(drop=True)\n",
    "#     valid_folds = folds[folds['fold'] == fold].reset_index(drop=True)\n",
    "#     valid_labels = valid_folds['score'].values\n",
    "    \n",
    "#     train_dataset = TrainDataset(CFG, train_folds)\n",
    "#     valid_dataset = TrainDataset(CFG, valid_folds)\n",
    "\n",
    "#     train_loader = DataLoader(train_dataset,\n",
    "#                               batch_size=CFG.batch_size,\n",
    "#                               shuffle=True,\n",
    "#                               num_workers=CFG.num_workers, pin_memory=True, drop_last=True)\n",
    "#     valid_loader = DataLoader(valid_dataset,\n",
    "#                               batch_size=CFG.batch_size,\n",
    "#                               shuffle=False,\n",
    "#                               num_workers=CFG.num_workers, pin_memory=True, drop_last=False)\n",
    "\n",
    "    # ====================================================\n",
    "    # model & optimizer\n",
    "    # ====================================================\n",
    "    model = CustomModel(CFG, config_path=None, pretrained=True)\n",
    "    torch.save(model.config, OUTPUT_DIR+'config.pth')\n",
    "    model.to(device)\n",
    "    \n",
    "    def get_optimizer_params(model, encoder_lr, decoder_lr, weight_decay=0.0):\n",
    "        param_optimizer = list(model.named_parameters())\n",
    "        no_decay = [\"bias\", \"LayerNorm.bias\", \"LayerNorm.weight\"]\n",
    "        optimizer_parameters = [\n",
    "            {'params': [p for n, p in model.model.named_parameters() if not any(nd in n for nd in no_decay)],\n",
    "             'lr': encoder_lr, 'weight_decay': weight_decay},\n",
    "            {'params': [p for n, p in model.model.named_parameters() if any(nd in n for nd in no_decay)],\n",
    "             'lr': encoder_lr, 'weight_decay': 0.0},\n",
    "            {'params': [p for n, p in model.named_parameters() if \"model\" not in n],\n",
    "             'lr': decoder_lr, 'weight_decay': 0.0}\n",
    "        ]\n",
    "        return optimizer_parameters\n",
    "\n",
    "    optimizer_parameters = get_optimizer_params(model,\n",
    "                                                encoder_lr=CFG.encoder_lr, \n",
    "                                                decoder_lr=CFG.decoder_lr,\n",
    "                                                weight_decay=CFG.weight_decay)\n",
    "    optimizer = AdamW(optimizer_parameters, lr=CFG.encoder_lr, eps=CFG.eps, betas=CFG.betas)\n",
    "    \n",
    "    # ====================================================\n",
    "    # scheduler\n",
    "    # ====================================================\n",
    "    def get_scheduler(cfg, optimizer, num_train_steps):\n",
    "        if cfg.scheduler == 'linear':\n",
    "            scheduler = get_linear_schedule_with_warmup(\n",
    "                optimizer, num_warmup_steps=cfg.num_warmup_steps, num_training_steps=num_train_steps\n",
    "            )\n",
    "        elif cfg.scheduler == 'cosine':\n",
    "            scheduler = get_cosine_schedule_with_warmup(\n",
    "                optimizer, num_warmup_steps=cfg.num_warmup_steps, num_training_steps=num_train_steps, num_cycles=cfg.num_cycles\n",
    "            )\n",
    "        return scheduler\n",
    "    \n",
    "    num_train_steps = int(len(train_folds) / CFG.batch_size * CFG.epochs)\n",
    "    scheduler = get_scheduler(CFG, optimizer, num_train_steps)\n",
    "\n",
    "    # ====================================================\n",
    "    # loop\n",
    "    # ====================================================\n",
    "    criterion = nn.BCEWithLogitsLoss(reduction=\"mean\")\n",
    "    \n",
    "    best_score = 0.\n",
    "\n",
    "    for epoch in range(CFG.epochs):\n",
    "        start_time = time.time()\n",
    "\n",
    "        # train\n",
    "        avg_loss = train_fn(fold, train_loader, model, criterion, optimizer, epoch, scheduler, device)\n",
    "\n",
    "        # eval\n",
    "        avg_val_loss, predictions = valid_fn(valid_loader, model, criterion, device)\n",
    "        \n",
    "        # scoring\n",
    "        score = get_score(valid_labels, predictions)\n",
    "\n",
    "        elapsed = time.time() - start_time\n",
    "\n",
    "        LOGGER.info(f'Epoch {epoch+1} - avg_train_loss: {avg_loss:.4f}  avg_val_loss: {avg_val_loss:.4f}  time: {elapsed:.0f}s')\n",
    "        LOGGER.info(f'Epoch {epoch+1} - Score: {score:.4f}')\n",
    "        if CFG.wandb:\n",
    "            wandb.log({f\"[fold{fold}] epoch\": epoch+1, \n",
    "                       f\"[fold{fold}] avg_train_loss\": avg_loss, \n",
    "                       f\"[fold{fold}] avg_val_loss\": avg_val_loss,\n",
    "                       f\"[fold{fold}] score\": score})\n",
    "        \n",
    "        if best_score < score:\n",
    "            best_score = score\n",
    "            LOGGER.info(f'Epoch {epoch+1} - Save Best Score: {best_score:.4f} Model')\n",
    "            torch.save({'model': model.state_dict(),\n",
    "                        'predictions': predictions},\n",
    "                        OUTPUT_DIR+f\"{CFG.model.replace('/', '-')}_fold{fold}_best.pth\")\n",
    "\n",
    "    predictions = torch.load(OUTPUT_DIR+f\"{CFG.model.replace('/', '-')}_fold{fold}_best.pth\", \n",
    "                             map_location=torch.device('cpu'))['predictions']\n",
    "    valid_folds['pred'] = predictions\n",
    "\n",
    "    torch.cuda.empty_cache()\n",
    "    gc.collect()\n",
    "    \n",
    "    return valid_folds"
   ]
  },
  {
   "cell_type": "code",
   "execution_count": 28,
   "id": "13eeaf68",
   "metadata": {
    "id": "6cc76b1e",
    "papermill": {
     "duration": 30265.411984,
     "end_time": "2022-03-22T18:05:18.155447",
     "exception": false,
     "start_time": "2022-03-22T09:40:52.743463",
     "status": "completed"
    },
    "scrolled": true,
    "tags": []
   },
   "outputs": [
    {
     "name": "stderr",
     "output_type": "stream",
     "text": [
      "========== fold: 0 training ==========\n"
     ]
    },
    {
     "name": "stdout",
     "output_type": "stream",
     "text": [
      "\u001b[38;5;40m========== fold: 0 training ==========\u001b[0m\n"
     ]
    },
    {
     "name": "stderr",
     "output_type": "stream",
     "text": [
      "Some weights of the model checkpoint at microsoft/mpnet-base were not used when initializing MPNetModel: ['lm_head.layer_norm.weight', 'lm_head.decoder.bias', 'lm_head.layer_norm.bias', 'lm_head.dense.bias', 'lm_head.dense.weight', 'lm_head.decoder.weight', 'lm_head.bias']\n",
      "- This IS expected if you are initializing MPNetModel from the checkpoint of a model trained on another task or with another architecture (e.g. initializing a BertForSequenceClassification model from a BertForPreTraining model).\n",
      "- This IS NOT expected if you are initializing MPNetModel from the checkpoint of a model that you expect to be exactly identical (initializing a BertForSequenceClassification model from a BertForSequenceClassification model).\n",
      "Some weights of MPNetModel were not initialized from the model checkpoint at microsoft/mpnet-base and are newly initialized: ['mpnet.pooler.dense.weight', 'mpnet.pooler.dense.bias']\n",
      "You should probably TRAIN this model on a down-stream task to be able to use it for predictions and inference.\n"
     ]
    },
    {
     "name": "stdout",
     "output_type": "stream",
     "text": [
      "Epoch: [1][0/3419] Elapsed 0m 0s (remain 25m 44s) Loss: 0.7029(0.7029) Grad: 78111.0000  LR: 0.00002000  \n",
      "Epoch: [1][100/3419] Elapsed 0m 11s (remain 6m 27s) Loss: 0.7058(0.6509) Grad: 32974.4961  LR: 0.00002000  \n",
      "Epoch: [1][200/3419] Elapsed 0m 24s (remain 6m 28s) Loss: 0.6068(0.6391) Grad: 25768.2539  LR: 0.00001999  \n",
      "Epoch: [1][300/3419] Elapsed 0m 35s (remain 6m 8s) Loss: 0.6163(0.6328) Grad: 24269.6953  LR: 0.00001998  \n",
      "Epoch: [1][400/3419] Elapsed 0m 47s (remain 5m 53s) Loss: 0.6384(0.6243) Grad: 41934.4102  LR: 0.00001996  \n",
      "Epoch: [1][500/3419] Elapsed 0m 58s (remain 5m 39s) Loss: 0.5587(0.6210) Grad: 19527.0918  LR: 0.00001993  \n",
      "Epoch: [1][600/3419] Elapsed 1m 9s (remain 5m 26s) Loss: 0.6562(0.6168) Grad: 36404.9336  LR: 0.00001990  \n",
      "Epoch: [1][700/3419] Elapsed 1m 21s (remain 5m 14s) Loss: 0.6239(0.6143) Grad: 64591.6680  LR: 0.00001987  \n",
      "Epoch: [1][800/3419] Elapsed 1m 32s (remain 5m 1s) Loss: 0.6735(0.6126) Grad: 27097.1387  LR: 0.00001983  \n",
      "Epoch: [1][900/3419] Elapsed 1m 43s (remain 4m 49s) Loss: 0.5094(0.6095) Grad: 83348.1641  LR: 0.00001979  \n",
      "Epoch: [1][1000/3419] Elapsed 1m 55s (remain 4m 38s) Loss: 0.7900(0.6070) Grad: 85045.5469  LR: 0.00001974  \n",
      "Epoch: [1][1100/3419] Elapsed 2m 6s (remain 4m 26s) Loss: 0.4910(0.6050) Grad: 48917.3164  LR: 0.00001968  \n",
      "Epoch: [1][1200/3419] Elapsed 2m 17s (remain 4m 14s) Loss: 0.6712(0.6028) Grad: 62857.0820  LR: 0.00001962  \n",
      "Epoch: [1][1300/3419] Elapsed 2m 29s (remain 4m 2s) Loss: 0.4931(0.6017) Grad: 33807.2734  LR: 0.00001956  \n",
      "Epoch: [1][1400/3419] Elapsed 2m 40s (remain 3m 51s) Loss: 0.5896(0.6002) Grad: 85338.9375  LR: 0.00001949  \n",
      "Epoch: [1][1500/3419] Elapsed 2m 51s (remain 3m 39s) Loss: 0.6782(0.5984) Grad: 20209.1445  LR: 0.00001941  \n",
      "Epoch: [1][1600/3419] Elapsed 3m 3s (remain 3m 27s) Loss: 0.5518(0.5987) Grad: 32289.8086  LR: 0.00001933  \n",
      "Epoch: [1][1700/3419] Elapsed 3m 14s (remain 3m 16s) Loss: 0.5407(0.5969) Grad: 12603.0674  LR: 0.00001925  \n",
      "Epoch: [1][1800/3419] Elapsed 3m 25s (remain 3m 4s) Loss: 0.5675(0.5953) Grad: 18334.8770  LR: 0.00001916  \n",
      "Epoch: [1][1900/3419] Elapsed 3m 37s (remain 2m 53s) Loss: 0.4684(0.5946) Grad: 39008.7305  LR: 0.00001906  \n",
      "Epoch: [1][2000/3419] Elapsed 3m 48s (remain 2m 41s) Loss: 0.5661(0.5937) Grad: 9914.7695  LR: 0.00001896  \n",
      "Epoch: [1][2100/3419] Elapsed 3m 59s (remain 2m 30s) Loss: 0.4680(0.5928) Grad: 57042.2852  LR: 0.00001886  \n",
      "Epoch: [1][2200/3419] Elapsed 4m 11s (remain 2m 19s) Loss: 0.6542(0.5919) Grad: 64445.6562  LR: 0.00001875  \n",
      "Epoch: [1][2300/3419] Elapsed 4m 22s (remain 2m 7s) Loss: 0.6343(0.5920) Grad: 58827.4961  LR: 0.00001864  \n",
      "Epoch: [1][2400/3419] Elapsed 4m 33s (remain 1m 56s) Loss: 0.5747(0.5915) Grad: 45947.1016  LR: 0.00001852  \n",
      "Epoch: [1][2500/3419] Elapsed 4m 45s (remain 1m 44s) Loss: 0.6369(0.5903) Grad: 70558.1641  LR: 0.00001839  \n",
      "Epoch: [1][2600/3419] Elapsed 4m 56s (remain 1m 33s) Loss: 0.5782(0.5886) Grad: 215489.1250  LR: 0.00001827  \n",
      "Epoch: [1][2700/3419] Elapsed 5m 7s (remain 1m 21s) Loss: 0.6073(0.5884) Grad: 81096.4141  LR: 0.00001814  \n",
      "Epoch: [1][2800/3419] Elapsed 5m 19s (remain 1m 10s) Loss: 0.6345(0.5874) Grad: 33369.2695  LR: 0.00001800  \n",
      "Epoch: [1][2900/3419] Elapsed 5m 30s (remain 0m 58s) Loss: 0.6411(0.5872) Grad: 99578.1250  LR: 0.00001786  \n",
      "Epoch: [1][3000/3419] Elapsed 5m 41s (remain 0m 47s) Loss: 0.5071(0.5865) Grad: 14281.9385  LR: 0.00001772  \n",
      "Epoch: [1][3100/3419] Elapsed 5m 52s (remain 0m 36s) Loss: 0.6236(0.5863) Grad: 14212.7090  LR: 0.00001757  \n",
      "Epoch: [1][3200/3419] Elapsed 6m 4s (remain 0m 24s) Loss: 0.5948(0.5860) Grad: 49351.1289  LR: 0.00001742  \n",
      "Epoch: [1][3300/3419] Elapsed 6m 15s (remain 0m 13s) Loss: 0.6750(0.5856) Grad: 30753.2207  LR: 0.00001726  \n",
      "Epoch: [1][3400/3419] Elapsed 6m 26s (remain 0m 2s) Loss: 0.5763(0.5845) Grad: 18129.8242  LR: 0.00001710  \n",
      "Epoch: [1][3418/3419] Elapsed 6m 28s (remain 0m 0s) Loss: 0.4487(0.5843) Grad: 15031.3740  LR: 0.00001707  \n"
     ]
    },
    {
     "name": "stderr",
     "output_type": "stream",
     "text": [
      "[W pthreadpool-cpp.cc:90] Warning: Leaking Caffe2 thread-pool after fork. (function pthreadpool)\n",
      "[W pthreadpool-cpp.cc:90] Warning: Leaking Caffe2 thread-pool after fork. (function pthreadpool)\n",
      "[W pthreadpool-cpp.cc:90] Warning: Leaking Caffe2 thread-pool after fork. (function pthreadpool)\n",
      "[W pthreadpool-cpp.cc:90] Warning: Leaking Caffe2 thread-pool after fork. (function pthreadpool)\n"
     ]
    },
    {
     "name": "stdout",
     "output_type": "stream",
     "text": [
      "EVAL: [0/1140] Elapsed 0m 0s (remain 2m 51s) Loss: 0.6085(0.6085) \n",
      "EVAL: [100/1140] Elapsed 0m 2s (remain 0m 29s) Loss: 0.5934(0.5616) \n",
      "EVAL: [200/1140] Elapsed 0m 5s (remain 0m 26s) Loss: 0.4341(0.5674) \n",
      "EVAL: [300/1140] Elapsed 0m 8s (remain 0m 23s) Loss: 0.7709(0.5636) \n",
      "EVAL: [400/1140] Elapsed 0m 11s (remain 0m 20s) Loss: 0.5012(0.5633) \n",
      "EVAL: [500/1140] Elapsed 0m 14s (remain 0m 17s) Loss: 0.5875(0.5682) \n",
      "EVAL: [600/1140] Elapsed 0m 16s (remain 0m 15s) Loss: 0.5855(0.5677) \n",
      "EVAL: [700/1140] Elapsed 0m 19s (remain 0m 12s) Loss: 0.6288(0.5686) \n",
      "EVAL: [800/1140] Elapsed 0m 22s (remain 0m 9s) Loss: 0.6551(0.5674) \n",
      "EVAL: [900/1140] Elapsed 0m 25s (remain 0m 6s) Loss: 0.4380(0.5669) \n",
      "EVAL: [1000/1140] Elapsed 0m 29s (remain 0m 4s) Loss: 0.5832(0.5680) \n",
      "EVAL: [1100/1140] Elapsed 0m 31s (remain 0m 1s) Loss: 0.5585(0.5677) \n"
     ]
    },
    {
     "name": "stderr",
     "output_type": "stream",
     "text": [
      "Epoch 1 - avg_train_loss: 0.5843  avg_val_loss: 0.5672  time: 422s\n",
      "Epoch 1 - Score: 0.7640\n",
      "Epoch 1 - Save Best Score: 0.7640 Model\n"
     ]
    },
    {
     "name": "stdout",
     "output_type": "stream",
     "text": [
      "EVAL: [1139/1140] Elapsed 0m 32s (remain 0m 0s) Loss: 0.6095(0.5672) \n"
     ]
    },
    {
     "name": "stderr",
     "output_type": "stream",
     "text": [
      "[W pthreadpool-cpp.cc:90] Warning: Leaking Caffe2 thread-pool after fork. (function pthreadpool)\n",
      "[W pthreadpool-cpp.cc:90] Warning: Leaking Caffe2 thread-pool after fork. (function pthreadpool)\n",
      "[W pthreadpool-cpp.cc:90] Warning: Leaking Caffe2 thread-pool after fork. (function pthreadpool)\n",
      "[W pthreadpool-cpp.cc:90] Warning: Leaking Caffe2 thread-pool after fork. (function pthreadpool)\n"
     ]
    },
    {
     "name": "stdout",
     "output_type": "stream",
     "text": [
      "Epoch: [2][0/3419] Elapsed 0m 0s (remain 28m 12s) Loss: 0.3753(0.3753) Grad: 101505.0312  LR: 0.00001707  \n",
      "Epoch: [2][100/3419] Elapsed 0m 12s (remain 6m 36s) Loss: 0.5836(0.5594) Grad: 145123.1094  LR: 0.00001691  \n",
      "Epoch: [2][200/3419] Elapsed 0m 23s (remain 6m 18s) Loss: 0.4700(0.5579) Grad: 87876.2734  LR: 0.00001674  \n",
      "Epoch: [2][300/3419] Elapsed 0m 35s (remain 6m 10s) Loss: 0.5176(0.5571) Grad: 49159.5352  LR: 0.00001657  \n",
      "Epoch: [2][400/3419] Elapsed 0m 47s (remain 5m 59s) Loss: 0.6453(0.5568) Grad: 59828.5508  LR: 0.00001639  \n",
      "Epoch: [2][500/3419] Elapsed 0m 59s (remain 5m 47s) Loss: 0.3652(0.5575) Grad: 28359.6387  LR: 0.00001621  \n",
      "Epoch: [2][600/3419] Elapsed 1m 11s (remain 5m 33s) Loss: 0.5542(0.5565) Grad: 98674.7188  LR: 0.00001603  \n",
      "Epoch: [2][700/3419] Elapsed 1m 22s (remain 5m 20s) Loss: 0.5539(0.5564) Grad: 39335.1836  LR: 0.00001585  \n",
      "Epoch: [2][800/3419] Elapsed 1m 33s (remain 5m 7s) Loss: 0.5289(0.5559) Grad: 39371.5703  LR: 0.00001566  \n",
      "Epoch: [2][900/3419] Elapsed 1m 45s (remain 4m 54s) Loss: 0.5635(0.5530) Grad: 93709.4375  LR: 0.00001547  \n",
      "Epoch: [2][1000/3419] Elapsed 1m 56s (remain 4m 42s) Loss: 0.5156(0.5536) Grad: 57991.0039  LR: 0.00001527  \n",
      "Epoch: [2][1100/3419] Elapsed 2m 8s (remain 4m 29s) Loss: 0.6654(0.5537) Grad: 23378.3066  LR: 0.00001508  \n",
      "Epoch: [2][1200/3419] Elapsed 2m 19s (remain 4m 17s) Loss: 0.5586(0.5533) Grad: 26767.1855  LR: 0.00001488  \n",
      "Epoch: [2][1300/3419] Elapsed 2m 30s (remain 4m 5s) Loss: 0.6113(0.5545) Grad: 58499.2695  LR: 0.00001468  \n",
      "Epoch: [2][1400/3419] Elapsed 2m 42s (remain 3m 53s) Loss: 0.5463(0.5542) Grad: 26024.7793  LR: 0.00001447  \n",
      "Epoch: [2][1500/3419] Elapsed 2m 53s (remain 3m 41s) Loss: 0.5559(0.5545) Grad: 36337.7695  LR: 0.00001427  \n",
      "Epoch: [2][1600/3419] Elapsed 3m 4s (remain 3m 29s) Loss: 0.6294(0.5547) Grad: 54988.4492  LR: 0.00001406  \n",
      "Epoch: [2][1700/3419] Elapsed 3m 16s (remain 3m 18s) Loss: 0.5327(0.5538) Grad: 46071.1914  LR: 0.00001385  \n",
      "Epoch: [2][1800/3419] Elapsed 3m 36s (remain 3m 14s) Loss: 0.5749(0.5538) Grad: 12580.4971  LR: 0.00001363  \n",
      "Epoch: [2][1900/3419] Elapsed 3m 47s (remain 3m 1s) Loss: 0.6390(0.5533) Grad: 17729.6953  LR: 0.00001342  \n",
      "Epoch: [2][2000/3419] Elapsed 3m 59s (remain 2m 49s) Loss: 0.5607(0.5531) Grad: 38065.8750  LR: 0.00001320  \n",
      "Epoch: [2][2100/3419] Elapsed 4m 10s (remain 2m 37s) Loss: 0.5625(0.5529) Grad: 19360.7910  LR: 0.00001298  \n",
      "Epoch: [2][2200/3419] Elapsed 4m 22s (remain 2m 25s) Loss: 0.5779(0.5531) Grad: 15396.4189  LR: 0.00001276  \n",
      "Epoch: [2][2300/3419] Elapsed 4m 33s (remain 2m 12s) Loss: 0.5327(0.5535) Grad: 88753.5156  LR: 0.00001254  \n",
      "Epoch: [2][2400/3419] Elapsed 4m 46s (remain 2m 1s) Loss: 0.5247(0.5531) Grad: 26389.8926  LR: 0.00001232  \n",
      "Epoch: [2][2500/3419] Elapsed 4m 58s (remain 1m 49s) Loss: 0.4456(0.5539) Grad: 38483.1133  LR: 0.00001209  \n",
      "Epoch: [2][2600/3419] Elapsed 5m 10s (remain 1m 37s) Loss: 0.5013(0.5539) Grad: 11152.8887  LR: 0.00001187  \n",
      "Epoch: [2][2700/3419] Elapsed 5m 21s (remain 1m 25s) Loss: 0.5748(0.5534) Grad: 32718.7676  LR: 0.00001164  \n",
      "Epoch: [2][2800/3419] Elapsed 5m 33s (remain 1m 13s) Loss: 0.6482(0.5531) Grad: 40768.5352  LR: 0.00001142  \n",
      "Epoch: [2][2900/3419] Elapsed 5m 44s (remain 1m 1s) Loss: 0.6616(0.5531) Grad: 33451.1133  LR: 0.00001119  \n",
      "Epoch: [2][3000/3419] Elapsed 5m 55s (remain 0m 49s) Loss: 0.5050(0.5531) Grad: 35446.5312  LR: 0.00001096  \n",
      "Epoch: [2][3100/3419] Elapsed 6m 7s (remain 0m 37s) Loss: 0.5869(0.5527) Grad: 13720.4287  LR: 0.00001073  \n",
      "Epoch: [2][3200/3419] Elapsed 6m 18s (remain 0m 25s) Loss: 0.5803(0.5525) Grad: 282906.0312  LR: 0.00001050  \n",
      "Epoch: [2][3300/3419] Elapsed 6m 30s (remain 0m 13s) Loss: 0.5176(0.5528) Grad: 88464.1562  LR: 0.00001027  \n",
      "Epoch: [2][3400/3419] Elapsed 6m 42s (remain 0m 2s) Loss: 0.4644(0.5525) Grad: 26957.6875  LR: 0.00001004  \n"
     ]
    },
    {
     "name": "stderr",
     "output_type": "stream",
     "text": [
      "[W pthreadpool-cpp.cc:90] Warning: Leaking Caffe2 thread-pool after fork. (function pthreadpool)\n"
     ]
    },
    {
     "name": "stdout",
     "output_type": "stream",
     "text": [
      "Epoch: [2][3418/3419] Elapsed 6m 44s (remain 0m 0s) Loss: 0.7864(0.5525) Grad: 33782.3555  LR: 0.00001000  \n"
     ]
    },
    {
     "name": "stderr",
     "output_type": "stream",
     "text": [
      "[W pthreadpool-cpp.cc:90] Warning: Leaking Caffe2 thread-pool after fork. (function pthreadpool)\n",
      "[W pthreadpool-cpp.cc:90] Warning: Leaking Caffe2 thread-pool after fork. (function pthreadpool)\n",
      "[W pthreadpool-cpp.cc:90] Warning: Leaking Caffe2 thread-pool after fork. (function pthreadpool)\n",
      "[W pthreadpool-cpp.cc:90] Warning: Leaking Caffe2 thread-pool after fork. (function pthreadpool)\n"
     ]
    },
    {
     "name": "stdout",
     "output_type": "stream",
     "text": [
      "EVAL: [0/1140] Elapsed 0m 0s (remain 3m 41s) Loss: 0.5470(0.5470) \n",
      "EVAL: [100/1140] Elapsed 0m 2s (remain 0m 30s) Loss: 0.5714(0.5418) \n",
      "EVAL: [200/1140] Elapsed 0m 5s (remain 0m 26s) Loss: 0.4454(0.5435) \n",
      "EVAL: [300/1140] Elapsed 0m 8s (remain 0m 23s) Loss: 0.7199(0.5414) \n",
      "EVAL: [400/1140] Elapsed 0m 11s (remain 0m 20s) Loss: 0.4883(0.5435) \n",
      "EVAL: [500/1140] Elapsed 0m 14s (remain 0m 18s) Loss: 0.5842(0.5491) \n",
      "EVAL: [600/1140] Elapsed 0m 16s (remain 0m 15s) Loss: 0.5413(0.5483) \n",
      "EVAL: [700/1140] Elapsed 0m 19s (remain 0m 12s) Loss: 0.6635(0.5495) \n",
      "EVAL: [800/1140] Elapsed 0m 22s (remain 0m 9s) Loss: 0.6648(0.5487) \n",
      "EVAL: [900/1140] Elapsed 0m 25s (remain 0m 6s) Loss: 0.4373(0.5481) \n",
      "EVAL: [1000/1140] Elapsed 0m 28s (remain 0m 3s) Loss: 0.5760(0.5495) \n",
      "EVAL: [1100/1140] Elapsed 0m 30s (remain 0m 1s) Loss: 0.5183(0.5491) \n"
     ]
    },
    {
     "name": "stderr",
     "output_type": "stream",
     "text": [
      "Epoch 2 - avg_train_loss: 0.5525  avg_val_loss: 0.5490  time: 437s\n",
      "Epoch 2 - Score: 0.8065\n",
      "Epoch 2 - Save Best Score: 0.8065 Model\n"
     ]
    },
    {
     "name": "stdout",
     "output_type": "stream",
     "text": [
      "EVAL: [1139/1140] Elapsed 0m 31s (remain 0m 0s) Loss: 0.6264(0.5490) \n"
     ]
    },
    {
     "name": "stderr",
     "output_type": "stream",
     "text": [
      "[W pthreadpool-cpp.cc:90] Warning: Leaking Caffe2 thread-pool after fork. (function pthreadpool)\n",
      "[W pthreadpool-cpp.cc:90] Warning: Leaking Caffe2 thread-pool after fork. (function pthreadpool)\n",
      "[W pthreadpool-cpp.cc:90] Warning: Leaking Caffe2 thread-pool after fork. (function pthreadpool)\n",
      "[W pthreadpool-cpp.cc:90] Warning: Leaking Caffe2 thread-pool after fork. (function pthreadpool)\n"
     ]
    },
    {
     "name": "stdout",
     "output_type": "stream",
     "text": [
      "Epoch: [3][0/3419] Elapsed 0m 0s (remain 32m 16s) Loss: 0.3366(0.3366) Grad: 105362.4375  LR: 0.00001000  \n",
      "Epoch: [3][100/3419] Elapsed 0m 11s (remain 6m 30s) Loss: 0.6134(0.5197) Grad: 542385.6875  LR: 0.00000977  \n",
      "Epoch: [3][200/3419] Elapsed 0m 23s (remain 6m 11s) Loss: 0.5898(0.5271) Grad: 16921.5137  LR: 0.00000954  \n",
      "Epoch: [3][300/3419] Elapsed 0m 34s (remain 5m 58s) Loss: 0.5010(0.5302) Grad: 19863.6797  LR: 0.00000931  \n",
      "Epoch: [3][400/3419] Elapsed 0m 45s (remain 5m 45s) Loss: 0.6538(0.5316) Grad: 21437.5430  LR: 0.00000908  \n",
      "Epoch: [3][500/3419] Elapsed 0m 57s (remain 5m 34s) Loss: 0.5362(0.5314) Grad: 72225.0547  LR: 0.00000885  \n",
      "Epoch: [3][600/3419] Elapsed 1m 8s (remain 5m 22s) Loss: 0.4740(0.5318) Grad: 42217.9453  LR: 0.00000863  \n",
      "Epoch: [3][700/3419] Elapsed 1m 20s (remain 5m 11s) Loss: 0.4378(0.5304) Grad: 9158.2568  LR: 0.00000840  \n",
      "Epoch: [3][800/3419] Elapsed 1m 31s (remain 5m 0s) Loss: 0.4869(0.5295) Grad: 19698.7930  LR: 0.00000817  \n",
      "Epoch: [3][900/3419] Elapsed 1m 43s (remain 4m 48s) Loss: 0.6442(0.5324) Grad: 58863.6875  LR: 0.00000795  \n",
      "Epoch: [3][1000/3419] Elapsed 1m 54s (remain 4m 37s) Loss: 0.6209(0.5323) Grad: 69610.1406  LR: 0.00000772  \n",
      "Epoch: [3][1100/3419] Elapsed 2m 6s (remain 4m 25s) Loss: 0.3908(0.5310) Grad: 30107.9551  LR: 0.00000750  \n",
      "Epoch: [3][1200/3419] Elapsed 2m 17s (remain 4m 13s) Loss: 0.4439(0.5317) Grad: 12840.2930  LR: 0.00000728  \n",
      "Epoch: [3][1300/3419] Elapsed 2m 28s (remain 4m 2s) Loss: 0.8044(0.5315) Grad: 21999.5215  LR: 0.00000706  \n",
      "Epoch: [3][1400/3419] Elapsed 2m 40s (remain 3m 50s) Loss: 0.3734(0.5320) Grad: 93826.3672  LR: 0.00000684  \n",
      "Epoch: [3][1500/3419] Elapsed 2m 51s (remain 3m 39s) Loss: 0.4696(0.5323) Grad: 9257.2031  LR: 0.00000662  \n",
      "Epoch: [3][1600/3419] Elapsed 3m 2s (remain 3m 27s) Loss: 0.4547(0.5331) Grad: 55006.8086  LR: 0.00000641  \n",
      "Epoch: [3][1700/3419] Elapsed 3m 14s (remain 3m 16s) Loss: 0.6146(0.5334) Grad: 24409.7480  LR: 0.00000619  \n",
      "Epoch: [3][1800/3419] Elapsed 3m 25s (remain 3m 4s) Loss: 0.2388(0.5341) Grad: 29956.6895  LR: 0.00000598  \n",
      "Epoch: [3][1900/3419] Elapsed 3m 37s (remain 2m 53s) Loss: 0.5163(0.5345) Grad: 26331.0762  LR: 0.00000577  \n",
      "Epoch: [3][2000/3419] Elapsed 3m 48s (remain 2m 41s) Loss: 0.4236(0.5353) Grad: 13507.1582  LR: 0.00000556  \n",
      "Epoch: [3][2100/3419] Elapsed 3m 59s (remain 2m 30s) Loss: 0.6216(0.5346) Grad: 24923.4688  LR: 0.00000536  \n",
      "Epoch: [3][2200/3419] Elapsed 4m 10s (remain 2m 18s) Loss: 0.5188(0.5340) Grad: 48083.1328  LR: 0.00000516  \n",
      "Epoch: [3][2300/3419] Elapsed 4m 21s (remain 2m 6s) Loss: 0.5340(0.5344) Grad: 44128.1836  LR: 0.00000496  \n",
      "Epoch: [3][2400/3419] Elapsed 4m 32s (remain 1m 55s) Loss: 0.5857(0.5344) Grad: 17185.9883  LR: 0.00000476  \n",
      "Epoch: [3][2500/3419] Elapsed 4m 43s (remain 1m 44s) Loss: 0.4214(0.5343) Grad: 59241.9453  LR: 0.00000457  \n",
      "Epoch: [3][2600/3419] Elapsed 4m 54s (remain 1m 32s) Loss: 0.5989(0.5341) Grad: 89338.7109  LR: 0.00000438  \n",
      "Epoch: [3][2700/3419] Elapsed 5m 5s (remain 1m 21s) Loss: 0.5318(0.5347) Grad: 67115.1250  LR: 0.00000419  \n",
      "Epoch: [3][2800/3419] Elapsed 5m 16s (remain 1m 9s) Loss: 0.4655(0.5343) Grad: 136726.3594  LR: 0.00000400  \n",
      "Epoch: [3][2900/3419] Elapsed 5m 27s (remain 0m 58s) Loss: 0.5796(0.5346) Grad: 39948.9258  LR: 0.00000382  \n",
      "Epoch: [3][3000/3419] Elapsed 5m 38s (remain 0m 47s) Loss: 0.6255(0.5348) Grad: 33053.8164  LR: 0.00000364  \n",
      "Epoch: [3][3100/3419] Elapsed 5m 49s (remain 0m 35s) Loss: 0.6359(0.5351) Grad: 51932.0352  LR: 0.00000347  \n",
      "Epoch: [3][3200/3419] Elapsed 6m 0s (remain 0m 24s) Loss: 0.6209(0.5349) Grad: 120809.2188  LR: 0.00000329  \n",
      "Epoch: [3][3300/3419] Elapsed 6m 11s (remain 0m 13s) Loss: 0.6470(0.5348) Grad: 7114.7119  LR: 0.00000312  \n",
      "Epoch: [3][3400/3419] Elapsed 6m 22s (remain 0m 2s) Loss: 0.6522(0.5348) Grad: 16235.6172  LR: 0.00000296  \n",
      "Epoch: [3][3418/3419] Elapsed 6m 24s (remain 0m 0s) Loss: 0.6761(0.5347) Grad: 44987.9805  LR: 0.00000293  \n"
     ]
    },
    {
     "name": "stderr",
     "output_type": "stream",
     "text": [
      "[W pthreadpool-cpp.cc:90] Warning: Leaking Caffe2 thread-pool after fork. (function pthreadpool)\n",
      "[W pthreadpool-cpp.cc:90] Warning: Leaking Caffe2 thread-pool after fork. (function pthreadpool)\n"
     ]
    },
    {
     "name": "stdout",
     "output_type": "stream",
     "text": [
      "EVAL: [0/1140] Elapsed 0m 0s (remain 2m 50s) Loss: 0.5004(0.5004) \n"
     ]
    },
    {
     "name": "stderr",
     "output_type": "stream",
     "text": [
      "[W pthreadpool-cpp.cc:90] Warning: Leaking Caffe2 thread-pool after fork. (function pthreadpool)\n",
      "[W pthreadpool-cpp.cc:90] Warning: Leaking Caffe2 thread-pool after fork. (function pthreadpool)\n"
     ]
    },
    {
     "name": "stdout",
     "output_type": "stream",
     "text": [
      "EVAL: [100/1140] Elapsed 0m 2s (remain 0m 28s) Loss: 0.5662(0.5448) \n",
      "EVAL: [200/1140] Elapsed 0m 5s (remain 0m 25s) Loss: 0.4421(0.5471) \n",
      "EVAL: [300/1140] Elapsed 0m 8s (remain 0m 22s) Loss: 0.7620(0.5462) \n",
      "EVAL: [400/1140] Elapsed 0m 10s (remain 0m 19s) Loss: 0.4878(0.5475) \n",
      "EVAL: [500/1140] Elapsed 0m 13s (remain 0m 17s) Loss: 0.5749(0.5513) \n",
      "EVAL: [600/1140] Elapsed 0m 16s (remain 0m 14s) Loss: 0.5332(0.5498) \n",
      "EVAL: [700/1140] Elapsed 0m 18s (remain 0m 11s) Loss: 0.6504(0.5511) \n",
      "EVAL: [800/1140] Elapsed 0m 21s (remain 0m 9s) Loss: 0.6745(0.5498) \n",
      "EVAL: [900/1140] Elapsed 0m 24s (remain 0m 6s) Loss: 0.4182(0.5493) \n",
      "EVAL: [1000/1140] Elapsed 0m 26s (remain 0m 3s) Loss: 0.5277(0.5507) \n",
      "EVAL: [1100/1140] Elapsed 0m 29s (remain 0m 1s) Loss: 0.5126(0.5497) \n"
     ]
    },
    {
     "name": "stderr",
     "output_type": "stream",
     "text": [
      "Epoch 3 - avg_train_loss: 0.5347  avg_val_loss: 0.5495  time: 415s\n",
      "Epoch 3 - Score: 0.8189\n",
      "Epoch 3 - Save Best Score: 0.8189 Model\n"
     ]
    },
    {
     "name": "stdout",
     "output_type": "stream",
     "text": [
      "EVAL: [1139/1140] Elapsed 0m 30s (remain 0m 0s) Loss: 0.6051(0.5495) \n"
     ]
    },
    {
     "name": "stderr",
     "output_type": "stream",
     "text": [
      "[W pthreadpool-cpp.cc:90] Warning: Leaking Caffe2 thread-pool after fork. (function pthreadpool)\n",
      "[W pthreadpool-cpp.cc:90] Warning: Leaking Caffe2 thread-pool after fork. (function pthreadpool)\n",
      "[W pthreadpool-cpp.cc:90] Warning: Leaking Caffe2 thread-pool after fork. (function pthreadpool)\n",
      "[W pthreadpool-cpp.cc:90] Warning: Leaking Caffe2 thread-pool after fork. (function pthreadpool)\n"
     ]
    },
    {
     "name": "stdout",
     "output_type": "stream",
     "text": [
      "Epoch: [4][0/3419] Elapsed 0m 0s (remain 11m 59s) Loss: 0.6677(0.6677) Grad: nan  LR: 0.00000293  \n",
      "Epoch: [4][100/3419] Elapsed 0m 11s (remain 6m 9s) Loss: 0.5792(0.5383) Grad: 122102.3359  LR: 0.00000277  \n",
      "Epoch: [4][200/3419] Elapsed 0m 22s (remain 5m 57s) Loss: 0.5488(0.5324) Grad: 26705.1582  LR: 0.00000261  \n",
      "Epoch: [4][300/3419] Elapsed 0m 33s (remain 5m 45s) Loss: 0.5351(0.5340) Grad: 52103.3750  LR: 0.00000246  \n",
      "Epoch: [4][400/3419] Elapsed 0m 44s (remain 5m 34s) Loss: 0.4930(0.5296) Grad: 12534.6289  LR: 0.00000231  \n",
      "Epoch: [4][500/3419] Elapsed 0m 55s (remain 5m 23s) Loss: 0.7310(0.5278) Grad: 31376.6797  LR: 0.00000216  \n",
      "Epoch: [4][600/3419] Elapsed 1m 6s (remain 5m 12s) Loss: 0.4036(0.5279) Grad: 8877.9502  LR: 0.00000202  \n",
      "Epoch: [4][700/3419] Elapsed 1m 17s (remain 5m 0s) Loss: 0.5745(0.5287) Grad: 7978.8706  LR: 0.00000189  \n",
      "Epoch: [4][800/3419] Elapsed 1m 28s (remain 4m 49s) Loss: 0.5564(0.5284) Grad: 6314.9551  LR: 0.00000176  \n",
      "Epoch: [4][900/3419] Elapsed 1m 39s (remain 4m 38s) Loss: 0.6002(0.5275) Grad: 8148.4751  LR: 0.00000163  \n",
      "Epoch: [4][1000/3419] Elapsed 1m 50s (remain 4m 27s) Loss: 0.4699(0.5267) Grad: 13641.0479  LR: 0.00000150  \n",
      "Epoch: [4][1100/3419] Elapsed 2m 1s (remain 4m 16s) Loss: 0.4438(0.5267) Grad: 23467.7168  LR: 0.00000139  \n",
      "Epoch: [4][1200/3419] Elapsed 2m 12s (remain 4m 5s) Loss: 0.3893(0.5269) Grad: 15627.6367  LR: 0.00000127  \n",
      "Epoch: [4][1300/3419] Elapsed 2m 23s (remain 3m 54s) Loss: 0.6009(0.5265) Grad: 7646.7080  LR: 0.00000116  \n",
      "Epoch: [4][1400/3419] Elapsed 2m 35s (remain 3m 43s) Loss: 0.6077(0.5265) Grad: 14790.6455  LR: 0.00000106  \n",
      "Epoch: [4][1500/3419] Elapsed 2m 46s (remain 3m 32s) Loss: 0.4300(0.5272) Grad: 8707.6416  LR: 0.00000096  \n",
      "Epoch: [4][1600/3419] Elapsed 2m 57s (remain 3m 21s) Loss: 0.5346(0.5280) Grad: 8811.9014  LR: 0.00000086  \n",
      "Epoch: [4][1700/3419] Elapsed 3m 8s (remain 3m 10s) Loss: 0.6066(0.5274) Grad: 20579.1406  LR: 0.00000077  \n",
      "Epoch: [4][1800/3419] Elapsed 3m 19s (remain 2m 59s) Loss: 0.4719(0.5261) Grad: 14264.5498  LR: 0.00000068  \n",
      "Epoch: [4][1900/3419] Elapsed 3m 30s (remain 2m 47s) Loss: 0.5528(0.5263) Grad: 9904.3857  LR: 0.00000060  \n",
      "Epoch: [4][2000/3419] Elapsed 3m 41s (remain 2m 36s) Loss: 0.5797(0.5258) Grad: 4863.1670  LR: 0.00000053  \n",
      "Epoch: [4][2100/3419] Elapsed 3m 52s (remain 2m 25s) Loss: 0.5917(0.5256) Grad: 9825.0488  LR: 0.00000046  \n",
      "Epoch: [4][2200/3419] Elapsed 4m 3s (remain 2m 14s) Loss: 0.6921(0.5252) Grad: 26934.1543  LR: 0.00000039  \n",
      "Epoch: [4][2300/3419] Elapsed 4m 14s (remain 2m 3s) Loss: 0.5944(0.5261) Grad: 11492.5830  LR: 0.00000033  \n",
      "Epoch: [4][2400/3419] Elapsed 4m 25s (remain 1m 52s) Loss: 0.4559(0.5260) Grad: 6672.7920  LR: 0.00000027  \n",
      "Epoch: [4][2500/3419] Elapsed 4m 36s (remain 1m 41s) Loss: 0.4976(0.5258) Grad: 8171.4663  LR: 0.00000022  \n",
      "Epoch: [4][2600/3419] Elapsed 4m 47s (remain 1m 30s) Loss: 0.4758(0.5262) Grad: 9512.3105  LR: 0.00000018  \n",
      "Epoch: [4][2700/3419] Elapsed 4m 58s (remain 1m 19s) Loss: 0.4926(0.5266) Grad: 18335.6094  LR: 0.00000014  \n",
      "Epoch: [4][2800/3419] Elapsed 5m 9s (remain 1m 8s) Loss: 0.4127(0.5268) Grad: 21583.7871  LR: 0.00000010  \n",
      "Epoch: [4][2900/3419] Elapsed 5m 21s (remain 0m 57s) Loss: 0.5893(0.5268) Grad: 14608.9004  LR: 0.00000007  \n",
      "Epoch: [4][3000/3419] Elapsed 5m 32s (remain 0m 46s) Loss: 0.5088(0.5268) Grad: 32734.2285  LR: 0.00000005  \n",
      "Epoch: [4][3100/3419] Elapsed 5m 43s (remain 0m 35s) Loss: 0.4417(0.5269) Grad: 22604.5898  LR: 0.00000003  \n",
      "Epoch: [4][3200/3419] Elapsed 5m 54s (remain 0m 24s) Loss: 0.6658(0.5265) Grad: 5532.6934  LR: 0.00000001  \n",
      "Epoch: [4][3300/3419] Elapsed 6m 5s (remain 0m 13s) Loss: 0.5619(0.5267) Grad: 8893.4834  LR: 0.00000000  \n",
      "Epoch: [4][3400/3419] Elapsed 6m 16s (remain 0m 1s) Loss: 0.6085(0.5262) Grad: 9710.8799  LR: 0.00000000  \n",
      "Epoch: [4][3418/3419] Elapsed 6m 18s (remain 0m 0s) Loss: 0.6636(0.5264) Grad: 171894.5000  LR: 0.00000000  \n"
     ]
    },
    {
     "name": "stderr",
     "output_type": "stream",
     "text": [
      "[W pthreadpool-cpp.cc:90] Warning: Leaking Caffe2 thread-pool after fork. (function pthreadpool)\n",
      "[W pthreadpool-cpp.cc:90] Warning: Leaking Caffe2 thread-pool after fork. (function pthreadpool)\n"
     ]
    },
    {
     "name": "stdout",
     "output_type": "stream",
     "text": [
      "EVAL: [0/1140] Elapsed 0m 0s (remain 2m 51s) Loss: 0.5018(0.5018) \n"
     ]
    },
    {
     "name": "stderr",
     "output_type": "stream",
     "text": [
      "[W pthreadpool-cpp.cc:90] Warning: Leaking Caffe2 thread-pool after fork. (function pthreadpool)\n",
      "[W pthreadpool-cpp.cc:90] Warning: Leaking Caffe2 thread-pool after fork. (function pthreadpool)\n"
     ]
    },
    {
     "name": "stdout",
     "output_type": "stream",
     "text": [
      "EVAL: [100/1140] Elapsed 0m 2s (remain 0m 28s) Loss: 0.5612(0.5437) \n",
      "EVAL: [200/1140] Elapsed 0m 5s (remain 0m 25s) Loss: 0.4388(0.5458) \n",
      "EVAL: [300/1140] Elapsed 0m 8s (remain 0m 22s) Loss: 0.7499(0.5436) \n",
      "EVAL: [400/1140] Elapsed 0m 10s (remain 0m 19s) Loss: 0.4896(0.5452) \n",
      "EVAL: [500/1140] Elapsed 0m 13s (remain 0m 17s) Loss: 0.5703(0.5496) \n",
      "EVAL: [600/1140] Elapsed 0m 16s (remain 0m 14s) Loss: 0.5311(0.5479) \n",
      "EVAL: [700/1140] Elapsed 0m 18s (remain 0m 11s) Loss: 0.6506(0.5494) \n",
      "EVAL: [800/1140] Elapsed 0m 21s (remain 0m 9s) Loss: 0.6771(0.5483) \n",
      "EVAL: [900/1140] Elapsed 0m 24s (remain 0m 6s) Loss: 0.4151(0.5477) \n",
      "EVAL: [1000/1140] Elapsed 0m 26s (remain 0m 3s) Loss: 0.5134(0.5489) \n",
      "EVAL: [1100/1140] Elapsed 0m 29s (remain 0m 1s) Loss: 0.5137(0.5481) \n"
     ]
    },
    {
     "name": "stderr",
     "output_type": "stream",
     "text": [
      "Epoch 4 - avg_train_loss: 0.5264  avg_val_loss: 0.5480  time: 409s\n",
      "Epoch 4 - Score: 0.8203\n",
      "Epoch 4 - Save Best Score: 0.8203 Model\n"
     ]
    },
    {
     "name": "stdout",
     "output_type": "stream",
     "text": [
      "EVAL: [1139/1140] Elapsed 0m 30s (remain 0m 0s) Loss: 0.6050(0.5480) \n"
     ]
    },
    {
     "name": "stderr",
     "output_type": "stream",
     "text": [
      "========== fold: 0 result ==========\n",
      "Score: 0.8203\n",
      "========== fold: 1 training ==========\n"
     ]
    },
    {
     "name": "stdout",
     "output_type": "stream",
     "text": [
      "\u001b[38;5;40m========== fold: 1 training ==========\u001b[0m\n"
     ]
    },
    {
     "name": "stderr",
     "output_type": "stream",
     "text": [
      "Some weights of the model checkpoint at microsoft/mpnet-base were not used when initializing MPNetModel: ['lm_head.layer_norm.weight', 'lm_head.decoder.bias', 'lm_head.layer_norm.bias', 'lm_head.dense.bias', 'lm_head.dense.weight', 'lm_head.decoder.weight', 'lm_head.bias']\n",
      "- This IS expected if you are initializing MPNetModel from the checkpoint of a model trained on another task or with another architecture (e.g. initializing a BertForSequenceClassification model from a BertForPreTraining model).\n",
      "- This IS NOT expected if you are initializing MPNetModel from the checkpoint of a model that you expect to be exactly identical (initializing a BertForSequenceClassification model from a BertForSequenceClassification model).\n",
      "Some weights of MPNetModel were not initialized from the model checkpoint at microsoft/mpnet-base and are newly initialized: ['mpnet.pooler.dense.weight', 'mpnet.pooler.dense.bias']\n",
      "You should probably TRAIN this model on a down-stream task to be able to use it for predictions and inference.\n",
      "[W pthreadpool-cpp.cc:90] Warning: Leaking Caffe2 thread-pool after fork. (function pthreadpool)\n",
      "[W pthreadpool-cpp.cc:90] Warning: Leaking Caffe2 thread-pool after fork. (function pthreadpool)\n",
      "[W pthreadpool-cpp.cc:90] Warning: Leaking Caffe2 thread-pool after fork. (function pthreadpool)\n",
      "[W pthreadpool-cpp.cc:90] Warning: Leaking Caffe2 thread-pool after fork. (function pthreadpool)\n"
     ]
    },
    {
     "name": "stdout",
     "output_type": "stream",
     "text": [
      "Epoch: [1][0/3419] Elapsed 0m 0s (remain 28m 6s) Loss: 0.6907(0.6907) Grad: 36874.3945  LR: 0.00002000  \n",
      "Epoch: [1][100/3419] Elapsed 0m 11s (remain 6m 16s) Loss: 0.5924(0.6505) Grad: 47183.1406  LR: 0.00002000  \n",
      "Epoch: [1][200/3419] Elapsed 0m 22s (remain 6m 0s) Loss: 0.6832(0.6361) Grad: 71156.9453  LR: 0.00001999  \n",
      "Epoch: [1][300/3419] Elapsed 0m 33s (remain 5m 47s) Loss: 0.7203(0.6303) Grad: 20071.4102  LR: 0.00001998  \n",
      "Epoch: [1][400/3419] Elapsed 0m 44s (remain 5m 35s) Loss: 0.6019(0.6237) Grad: 14573.6338  LR: 0.00001996  \n",
      "Epoch: [1][500/3419] Elapsed 0m 55s (remain 5m 23s) Loss: 0.6473(0.6232) Grad: 25515.6582  LR: 0.00001993  \n",
      "Epoch: [1][600/3419] Elapsed 1m 6s (remain 5m 12s) Loss: 0.6953(0.6207) Grad: 22122.0527  LR: 0.00001990  \n",
      "Epoch: [1][700/3419] Elapsed 1m 17s (remain 5m 1s) Loss: 0.7024(0.6196) Grad: 42960.3594  LR: 0.00001987  \n",
      "Epoch: [1][800/3419] Elapsed 1m 28s (remain 4m 50s) Loss: 0.6513(0.6167) Grad: 37288.1641  LR: 0.00001983  \n",
      "Epoch: [1][900/3419] Elapsed 1m 39s (remain 4m 38s) Loss: 0.5310(0.6147) Grad: 31059.9785  LR: 0.00001979  \n",
      "Epoch: [1][1000/3419] Elapsed 1m 50s (remain 4m 27s) Loss: 0.6863(0.6123) Grad: 38338.9688  LR: 0.00001974  \n",
      "Epoch: [1][1100/3419] Elapsed 2m 1s (remain 4m 16s) Loss: 0.6678(0.6108) Grad: 43836.7812  LR: 0.00001968  \n",
      "Epoch: [1][1200/3419] Elapsed 2m 12s (remain 4m 5s) Loss: 0.5950(0.6084) Grad: 69230.7188  LR: 0.00001962  \n",
      "Epoch: [1][1300/3419] Elapsed 2m 23s (remain 3m 54s) Loss: 0.5592(0.6051) Grad: 31361.7402  LR: 0.00001956  \n",
      "Epoch: [1][1400/3419] Elapsed 2m 34s (remain 3m 43s) Loss: 0.6251(0.6041) Grad: 26439.1230  LR: 0.00001949  \n",
      "Epoch: [1][1500/3419] Elapsed 2m 45s (remain 3m 32s) Loss: 0.5255(0.6033) Grad: 31393.8965  LR: 0.00001941  \n",
      "Epoch: [1][1600/3419] Elapsed 2m 56s (remain 3m 20s) Loss: 0.5684(0.6022) Grad: 25760.1523  LR: 0.00001933  \n",
      "Epoch: [1][1700/3419] Elapsed 3m 8s (remain 3m 9s) Loss: 0.6292(0.6017) Grad: 59146.0195  LR: 0.00001925  \n",
      "Epoch: [1][1800/3419] Elapsed 3m 19s (remain 2m 58s) Loss: 0.6424(0.6010) Grad: 3268.7830  LR: 0.00001916  \n",
      "Epoch: [1][1900/3419] Elapsed 3m 30s (remain 2m 47s) Loss: 0.4619(0.6002) Grad: 8712.0859  LR: 0.00001906  \n",
      "Epoch: [1][2000/3419] Elapsed 3m 41s (remain 2m 36s) Loss: 0.5516(0.5997) Grad: 18738.5801  LR: 0.00001896  \n",
      "Epoch: [1][2100/3419] Elapsed 3m 52s (remain 2m 25s) Loss: 0.5074(0.5985) Grad: 11641.4756  LR: 0.00001886  \n",
      "Epoch: [1][2200/3419] Elapsed 4m 3s (remain 2m 14s) Loss: 0.5317(0.5980) Grad: 4114.0161  LR: 0.00001875  \n",
      "Epoch: [1][2300/3419] Elapsed 4m 14s (remain 2m 3s) Loss: 0.6223(0.5975) Grad: 12411.5518  LR: 0.00001864  \n",
      "Epoch: [1][2400/3419] Elapsed 4m 25s (remain 1m 52s) Loss: 0.5281(0.5965) Grad: 13634.5312  LR: 0.00001852  \n",
      "Epoch: [1][2500/3419] Elapsed 4m 36s (remain 1m 41s) Loss: 0.6106(0.5958) Grad: 16335.5537  LR: 0.00001839  \n",
      "Epoch: [1][2600/3419] Elapsed 4m 47s (remain 1m 30s) Loss: 0.5102(0.5951) Grad: 60590.8203  LR: 0.00001827  \n",
      "Epoch: [1][2700/3419] Elapsed 4m 58s (remain 1m 19s) Loss: 0.6245(0.5945) Grad: 11657.7051  LR: 0.00001814  \n",
      "Epoch: [1][2800/3419] Elapsed 5m 9s (remain 1m 8s) Loss: 0.6290(0.5935) Grad: 28261.8926  LR: 0.00001800  \n",
      "Epoch: [1][2900/3419] Elapsed 5m 20s (remain 0m 57s) Loss: 0.4575(0.5933) Grad: 32682.5957  LR: 0.00001786  \n",
      "Epoch: [1][3000/3419] Elapsed 5m 31s (remain 0m 46s) Loss: 0.5097(0.5928) Grad: 6376.8794  LR: 0.00001772  \n",
      "Epoch: [1][3100/3419] Elapsed 5m 42s (remain 0m 35s) Loss: 0.5515(0.5921) Grad: 26050.8984  LR: 0.00001757  \n",
      "Epoch: [1][3200/3419] Elapsed 5m 53s (remain 0m 24s) Loss: 0.5697(0.5915) Grad: 12788.5840  LR: 0.00001742  \n",
      "Epoch: [1][3300/3419] Elapsed 6m 4s (remain 0m 13s) Loss: 0.6148(0.5912) Grad: 9143.2930  LR: 0.00001726  \n",
      "Epoch: [1][3400/3419] Elapsed 6m 16s (remain 0m 1s) Loss: 0.4694(0.5904) Grad: 40503.9336  LR: 0.00001710  \n",
      "Epoch: [1][3418/3419] Elapsed 6m 18s (remain 0m 0s) Loss: 0.4450(0.5903) Grad: 5951.3228  LR: 0.00001707  \n"
     ]
    },
    {
     "name": "stderr",
     "output_type": "stream",
     "text": [
      "[W pthreadpool-cpp.cc:90] Warning: Leaking Caffe2 thread-pool after fork. (function pthreadpool)\n",
      "[W pthreadpool-cpp.cc:90] Warning: Leaking Caffe2 thread-pool after fork. (function pthreadpool)\n",
      "[W pthreadpool-cpp.cc:90] Warning: Leaking Caffe2 thread-pool after fork. (function pthreadpool)\n",
      "[W pthreadpool-cpp.cc:90] Warning: Leaking Caffe2 thread-pool after fork. (function pthreadpool)\n"
     ]
    },
    {
     "name": "stdout",
     "output_type": "stream",
     "text": [
      "EVAL: [0/1140] Elapsed 0m 0s (remain 3m 24s) Loss: 0.5265(0.5265) \n",
      "EVAL: [100/1140] Elapsed 0m 2s (remain 0m 29s) Loss: 0.5737(0.5590) \n",
      "EVAL: [200/1140] Elapsed 0m 5s (remain 0m 25s) Loss: 0.5519(0.5679) \n",
      "EVAL: [300/1140] Elapsed 0m 8s (remain 0m 22s) Loss: 0.6295(0.5710) \n",
      "EVAL: [400/1140] Elapsed 0m 10s (remain 0m 19s) Loss: 0.3767(0.5725) \n",
      "EVAL: [500/1140] Elapsed 0m 13s (remain 0m 17s) Loss: 0.6308(0.5746) \n",
      "EVAL: [600/1140] Elapsed 0m 16s (remain 0m 14s) Loss: 0.5917(0.5738) \n",
      "EVAL: [700/1140] Elapsed 0m 18s (remain 0m 11s) Loss: 0.7136(0.5731) \n",
      "EVAL: [800/1140] Elapsed 0m 21s (remain 0m 9s) Loss: 0.5740(0.5746) \n",
      "EVAL: [900/1140] Elapsed 0m 24s (remain 0m 6s) Loss: 0.5065(0.5737) \n",
      "EVAL: [1000/1140] Elapsed 0m 26s (remain 0m 3s) Loss: 0.5851(0.5725) \n",
      "EVAL: [1100/1140] Elapsed 0m 29s (remain 0m 1s) Loss: 0.4409(0.5714) \n"
     ]
    },
    {
     "name": "stderr",
     "output_type": "stream",
     "text": [
      "Epoch 1 - avg_train_loss: 0.5903  avg_val_loss: 0.5719  time: 409s\n",
      "Epoch 1 - Score: 0.7756\n",
      "Epoch 1 - Save Best Score: 0.7756 Model\n"
     ]
    },
    {
     "name": "stdout",
     "output_type": "stream",
     "text": [
      "EVAL: [1139/1140] Elapsed 0m 30s (remain 0m 0s) Loss: 0.7424(0.5719) \n"
     ]
    },
    {
     "name": "stderr",
     "output_type": "stream",
     "text": [
      "[W pthreadpool-cpp.cc:90] Warning: Leaking Caffe2 thread-pool after fork. (function pthreadpool)\n",
      "[W pthreadpool-cpp.cc:90] Warning: Leaking Caffe2 thread-pool after fork. (function pthreadpool)\n",
      "[W pthreadpool-cpp.cc:90] Warning: Leaking Caffe2 thread-pool after fork. (function pthreadpool)\n",
      "[W pthreadpool-cpp.cc:90] Warning: Leaking Caffe2 thread-pool after fork. (function pthreadpool)\n"
     ]
    },
    {
     "name": "stdout",
     "output_type": "stream",
     "text": [
      "Epoch: [2][0/3419] Elapsed 0m 0s (remain 18m 25s) Loss: 0.6668(0.6668) Grad: 119449.2812  LR: 0.00001707  \n",
      "Epoch: [2][100/3419] Elapsed 0m 11s (remain 6m 14s) Loss: 0.4904(0.5589) Grad: 141712.2812  LR: 0.00001691  \n",
      "Epoch: [2][200/3419] Elapsed 0m 22s (remain 5m 59s) Loss: 0.5615(0.5560) Grad: 324480.3438  LR: 0.00001674  \n",
      "Epoch: [2][300/3419] Elapsed 0m 33s (remain 5m 46s) Loss: 0.6074(0.5576) Grad: 50010.5352  LR: 0.00001657  \n",
      "Epoch: [2][400/3419] Elapsed 0m 44s (remain 5m 35s) Loss: 0.6588(0.5561) Grad: 88188.4141  LR: 0.00001639  \n",
      "Epoch: [2][500/3419] Elapsed 0m 55s (remain 5m 23s) Loss: 0.4411(0.5565) Grad: 26897.6895  LR: 0.00001621  \n",
      "Epoch: [2][600/3419] Elapsed 1m 6s (remain 5m 12s) Loss: 0.4638(0.5560) Grad: 25051.8672  LR: 0.00001603  \n",
      "Epoch: [2][700/3419] Elapsed 1m 17s (remain 5m 1s) Loss: 0.5679(0.5565) Grad: 18618.9434  LR: 0.00001585  \n",
      "Epoch: [2][800/3419] Elapsed 1m 28s (remain 4m 49s) Loss: 0.5819(0.5572) Grad: 8257.4004  LR: 0.00001566  \n",
      "Epoch: [2][900/3419] Elapsed 1m 39s (remain 4m 38s) Loss: 0.6661(0.5568) Grad: 37425.4414  LR: 0.00001547  \n",
      "Epoch: [2][1000/3419] Elapsed 1m 50s (remain 4m 27s) Loss: 0.5358(0.5571) Grad: 27758.9414  LR: 0.00001527  \n",
      "Epoch: [2][1100/3419] Elapsed 2m 1s (remain 4m 16s) Loss: 0.5442(0.5558) Grad: 23346.1074  LR: 0.00001508  \n",
      "Epoch: [2][1200/3419] Elapsed 2m 12s (remain 4m 5s) Loss: 0.4786(0.5549) Grad: 13578.6543  LR: 0.00001488  \n",
      "Epoch: [2][1300/3419] Elapsed 2m 23s (remain 3m 54s) Loss: 0.6797(0.5535) Grad: 9196.5137  LR: 0.00001468  \n",
      "Epoch: [2][1400/3419] Elapsed 2m 34s (remain 3m 43s) Loss: 0.5713(0.5536) Grad: 146089.5625  LR: 0.00001447  \n",
      "Epoch: [2][1500/3419] Elapsed 2m 46s (remain 3m 32s) Loss: 0.6527(0.5539) Grad: 63513.4258  LR: 0.00001427  \n",
      "Epoch: [2][1600/3419] Elapsed 2m 57s (remain 3m 21s) Loss: 0.4490(0.5541) Grad: 64079.8672  LR: 0.00001406  \n",
      "Epoch: [2][1700/3419] Elapsed 3m 8s (remain 3m 10s) Loss: 0.4840(0.5532) Grad: 23015.6348  LR: 0.00001385  \n",
      "Epoch: [2][1800/3419] Elapsed 3m 19s (remain 2m 58s) Loss: 0.6315(0.5529) Grad: 15960.9912  LR: 0.00001363  \n",
      "Epoch: [2][1900/3419] Elapsed 3m 30s (remain 2m 47s) Loss: 0.4012(0.5539) Grad: 32093.2422  LR: 0.00001342  \n",
      "Epoch: [2][2000/3419] Elapsed 3m 41s (remain 2m 36s) Loss: 0.4688(0.5537) Grad: 50387.0820  LR: 0.00001320  \n",
      "Epoch: [2][2100/3419] Elapsed 3m 52s (remain 2m 25s) Loss: 0.5080(0.5542) Grad: 1474.9261  LR: 0.00001298  \n",
      "Epoch: [2][2200/3419] Elapsed 4m 3s (remain 2m 14s) Loss: 0.6761(0.5546) Grad: 9883.7900  LR: 0.00001276  \n",
      "Epoch: [2][2300/3419] Elapsed 4m 14s (remain 2m 3s) Loss: 0.4576(0.5554) Grad: 38409.8438  LR: 0.00001254  \n",
      "Epoch: [2][2400/3419] Elapsed 4m 25s (remain 1m 52s) Loss: 0.6378(0.5555) Grad: 15273.7061  LR: 0.00001232  \n",
      "Epoch: [2][2500/3419] Elapsed 4m 36s (remain 1m 41s) Loss: 0.4047(0.5550) Grad: 34276.8789  LR: 0.00001209  \n",
      "Epoch: [2][2600/3419] Elapsed 4m 47s (remain 1m 30s) Loss: 0.6375(0.5547) Grad: 7426.5972  LR: 0.00001187  \n",
      "Epoch: [2][2700/3419] Elapsed 4m 58s (remain 1m 19s) Loss: 0.5587(0.5544) Grad: 20703.5898  LR: 0.00001164  \n",
      "Epoch: [2][2800/3419] Elapsed 5m 9s (remain 1m 8s) Loss: 0.6027(0.5537) Grad: 15149.4258  LR: 0.00001142  \n",
      "Epoch: [2][2900/3419] Elapsed 5m 20s (remain 0m 57s) Loss: 0.5309(0.5532) Grad: 12382.8477  LR: 0.00001119  \n",
      "Epoch: [2][3000/3419] Elapsed 5m 31s (remain 0m 46s) Loss: 0.5103(0.5532) Grad: 10806.9131  LR: 0.00001096  \n",
      "Epoch: [2][3100/3419] Elapsed 5m 42s (remain 0m 35s) Loss: 0.4949(0.5532) Grad: 12550.9844  LR: 0.00001073  \n",
      "Epoch: [2][3200/3419] Elapsed 5m 53s (remain 0m 24s) Loss: 0.4551(0.5528) Grad: 16158.9541  LR: 0.00001050  \n",
      "Epoch: [2][3300/3419] Elapsed 6m 4s (remain 0m 13s) Loss: 0.4356(0.5520) Grad: 8080.2100  LR: 0.00001027  \n",
      "Epoch: [2][3400/3419] Elapsed 6m 15s (remain 0m 1s) Loss: 0.5661(0.5517) Grad: 3575.8455  LR: 0.00001004  \n",
      "Epoch: [2][3418/3419] Elapsed 6m 17s (remain 0m 0s) Loss: 0.5104(0.5517) Grad: 19138.8652  LR: 0.00001000  \n"
     ]
    },
    {
     "name": "stderr",
     "output_type": "stream",
     "text": [
      "[W pthreadpool-cpp.cc:90] Warning: Leaking Caffe2 thread-pool after fork. (function pthreadpool)\n",
      "[W pthreadpool-cpp.cc:90] Warning: Leaking Caffe2 thread-pool after fork. (function pthreadpool)\n",
      "[W pthreadpool-cpp.cc:90] Warning: Leaking Caffe2 thread-pool after fork. (function pthreadpool)\n",
      "[W pthreadpool-cpp.cc:90] Warning: Leaking Caffe2 thread-pool after fork. (function pthreadpool)\n"
     ]
    },
    {
     "name": "stdout",
     "output_type": "stream",
     "text": [
      "EVAL: [0/1140] Elapsed 0m 0s (remain 3m 28s) Loss: 0.4886(0.4886) \n",
      "EVAL: [100/1140] Elapsed 0m 2s (remain 0m 29s) Loss: 0.5793(0.5398) \n",
      "EVAL: [200/1140] Elapsed 0m 5s (remain 0m 25s) Loss: 0.5466(0.5479) \n",
      "EVAL: [300/1140] Elapsed 0m 8s (remain 0m 22s) Loss: 0.6055(0.5503) \n",
      "EVAL: [400/1140] Elapsed 0m 10s (remain 0m 20s) Loss: 0.3808(0.5539) \n",
      "EVAL: [500/1140] Elapsed 0m 13s (remain 0m 17s) Loss: 0.7150(0.5568) \n",
      "EVAL: [600/1140] Elapsed 0m 16s (remain 0m 14s) Loss: 0.5832(0.5562) \n",
      "EVAL: [700/1140] Elapsed 0m 18s (remain 0m 11s) Loss: 0.7034(0.5544) \n",
      "EVAL: [800/1140] Elapsed 0m 21s (remain 0m 9s) Loss: 0.5412(0.5552) \n",
      "EVAL: [900/1140] Elapsed 0m 24s (remain 0m 6s) Loss: 0.5280(0.5538) \n",
      "EVAL: [1000/1140] Elapsed 0m 26s (remain 0m 3s) Loss: 0.5104(0.5526) \n",
      "EVAL: [1100/1140] Elapsed 0m 29s (remain 0m 1s) Loss: 0.4161(0.5511) \n"
     ]
    },
    {
     "name": "stderr",
     "output_type": "stream",
     "text": [
      "Epoch 2 - avg_train_loss: 0.5517  avg_val_loss: 0.5517  time: 409s\n",
      "Epoch 2 - Score: 0.7988\n",
      "Epoch 2 - Save Best Score: 0.7988 Model\n"
     ]
    },
    {
     "name": "stdout",
     "output_type": "stream",
     "text": [
      "EVAL: [1139/1140] Elapsed 0m 30s (remain 0m 0s) Loss: 0.7160(0.5517) \n"
     ]
    },
    {
     "name": "stderr",
     "output_type": "stream",
     "text": [
      "[W pthreadpool-cpp.cc:90] Warning: Leaking Caffe2 thread-pool after fork. (function pthreadpool)\n",
      "[W pthreadpool-cpp.cc:90] Warning: Leaking Caffe2 thread-pool after fork. (function pthreadpool)\n",
      "[W pthreadpool-cpp.cc:90] Warning: Leaking Caffe2 thread-pool after fork. (function pthreadpool)\n",
      "[W pthreadpool-cpp.cc:90] Warning: Leaking Caffe2 thread-pool after fork. (function pthreadpool)\n"
     ]
    },
    {
     "name": "stdout",
     "output_type": "stream",
     "text": [
      "Epoch: [3][0/3419] Elapsed 0m 0s (remain 20m 52s) Loss: 0.6415(0.6415) Grad: 156379.7812  LR: 0.00001000  \n",
      "Epoch: [3][100/3419] Elapsed 0m 11s (remain 6m 14s) Loss: 0.4462(0.5226) Grad: 50014.6133  LR: 0.00000977  \n",
      "Epoch: [3][200/3419] Elapsed 0m 22s (remain 5m 59s) Loss: 0.5243(0.5262) Grad: 72566.2109  LR: 0.00000954  \n",
      "Epoch: [3][300/3419] Elapsed 0m 33s (remain 5m 46s) Loss: 0.5663(0.5298) Grad: 66158.6797  LR: 0.00000931  \n",
      "Epoch: [3][400/3419] Elapsed 0m 44s (remain 5m 35s) Loss: 0.6002(0.5372) Grad: 21271.5801  LR: 0.00000908  \n",
      "Epoch: [3][500/3419] Elapsed 0m 55s (remain 5m 23s) Loss: 0.5225(0.5354) Grad: 26171.5410  LR: 0.00000885  \n",
      "Epoch: [3][600/3419] Elapsed 1m 6s (remain 5m 12s) Loss: 0.5399(0.5344) Grad: 19448.7461  LR: 0.00000863  \n",
      "Epoch: [3][700/3419] Elapsed 1m 17s (remain 5m 1s) Loss: 0.7029(0.5341) Grad: 107671.8438  LR: 0.00000840  \n",
      "Epoch: [3][800/3419] Elapsed 1m 28s (remain 4m 49s) Loss: 0.6005(0.5356) Grad: 119372.4375  LR: 0.00000817  \n",
      "Epoch: [3][900/3419] Elapsed 1m 39s (remain 4m 38s) Loss: 0.4912(0.5355) Grad: 13987.3555  LR: 0.00000795  \n",
      "Epoch: [3][1000/3419] Elapsed 1m 50s (remain 4m 27s) Loss: 0.6160(0.5374) Grad: 48894.7930  LR: 0.00000772  \n",
      "Epoch: [3][1100/3419] Elapsed 2m 1s (remain 4m 16s) Loss: 0.5926(0.5368) Grad: 19359.8379  LR: 0.00000750  \n",
      "Epoch: [3][1200/3419] Elapsed 2m 12s (remain 4m 5s) Loss: 0.5652(0.5355) Grad: 13112.2090  LR: 0.00000728  \n",
      "Epoch: [3][1300/3419] Elapsed 2m 23s (remain 3m 54s) Loss: 0.5164(0.5348) Grad: 31969.8242  LR: 0.00000706  \n",
      "Epoch: [3][1400/3419] Elapsed 2m 35s (remain 3m 43s) Loss: 0.5716(0.5351) Grad: 63744.2383  LR: 0.00000684  \n",
      "Epoch: [3][1500/3419] Elapsed 2m 46s (remain 3m 32s) Loss: 0.4747(0.5357) Grad: 48298.0078  LR: 0.00000662  \n",
      "Epoch: [3][1600/3419] Elapsed 2m 57s (remain 3m 21s) Loss: 0.5537(0.5357) Grad: 10888.1914  LR: 0.00000641  \n",
      "Epoch: [3][1700/3419] Elapsed 3m 8s (remain 3m 10s) Loss: 0.5826(0.5361) Grad: 40456.3945  LR: 0.00000619  \n",
      "Epoch: [3][1800/3419] Elapsed 3m 19s (remain 2m 59s) Loss: 0.5249(0.5364) Grad: 111399.8594  LR: 0.00000598  \n",
      "Epoch: [3][1900/3419] Elapsed 3m 30s (remain 2m 47s) Loss: 0.4306(0.5363) Grad: 39906.2891  LR: 0.00000577  \n",
      "Epoch: [3][2000/3419] Elapsed 3m 41s (remain 2m 36s) Loss: 0.5195(0.5367) Grad: 58475.2227  LR: 0.00000556  \n",
      "Epoch: [3][2100/3419] Elapsed 3m 52s (remain 2m 25s) Loss: 0.5052(0.5369) Grad: 64054.6289  LR: 0.00000536  \n",
      "Epoch: [3][2200/3419] Elapsed 4m 3s (remain 2m 14s) Loss: 0.6265(0.5365) Grad: 102037.8672  LR: 0.00000516  \n",
      "Epoch: [3][2300/3419] Elapsed 4m 14s (remain 2m 3s) Loss: 0.5968(0.5367) Grad: 20570.6074  LR: 0.00000496  \n",
      "Epoch: [3][2400/3419] Elapsed 4m 25s (remain 1m 52s) Loss: 0.6827(0.5368) Grad: 4821.0488  LR: 0.00000476  \n",
      "Epoch: [3][2500/3419] Elapsed 4m 36s (remain 1m 41s) Loss: 0.4224(0.5367) Grad: 12101.2930  LR: 0.00000457  \n",
      "Epoch: [3][2600/3419] Elapsed 4m 47s (remain 1m 30s) Loss: 0.5279(0.5368) Grad: 9742.9082  LR: 0.00000438  \n",
      "Epoch: [3][2700/3419] Elapsed 4m 58s (remain 1m 19s) Loss: 0.5553(0.5363) Grad: 34428.2656  LR: 0.00000419  \n",
      "Epoch: [3][2800/3419] Elapsed 5m 9s (remain 1m 8s) Loss: 0.5337(0.5356) Grad: 26373.4609  LR: 0.00000400  \n",
      "Epoch: [3][2900/3419] Elapsed 5m 20s (remain 0m 57s) Loss: 0.6423(0.5357) Grad: 13193.5889  LR: 0.00000382  \n",
      "Epoch: [3][3000/3419] Elapsed 5m 31s (remain 0m 46s) Loss: 0.6384(0.5356) Grad: 50704.3867  LR: 0.00000364  \n",
      "Epoch: [3][3100/3419] Elapsed 5m 42s (remain 0m 35s) Loss: 0.4974(0.5354) Grad: 7283.1079  LR: 0.00000347  \n",
      "Epoch: [3][3200/3419] Elapsed 5m 54s (remain 0m 24s) Loss: 0.4183(0.5356) Grad: 11557.8145  LR: 0.00000329  \n",
      "Epoch: [3][3300/3419] Elapsed 6m 5s (remain 0m 13s) Loss: 0.5960(0.5357) Grad: 13792.5684  LR: 0.00000312  \n",
      "Epoch: [3][3400/3419] Elapsed 6m 16s (remain 0m 1s) Loss: 0.3949(0.5357) Grad: 7094.0962  LR: 0.00000296  \n",
      "Epoch: [3][3418/3419] Elapsed 6m 18s (remain 0m 0s) Loss: 0.4747(0.5356) Grad: 26243.3379  LR: 0.00000293  \n"
     ]
    },
    {
     "name": "stderr",
     "output_type": "stream",
     "text": [
      "[W pthreadpool-cpp.cc:90] Warning: Leaking Caffe2 thread-pool after fork. (function pthreadpool)\n",
      "[W pthreadpool-cpp.cc:90] Warning: Leaking Caffe2 thread-pool after fork. (function pthreadpool)\n",
      "[W pthreadpool-cpp.cc:90] Warning: Leaking Caffe2 thread-pool after fork. (function pthreadpool)\n",
      "[W pthreadpool-cpp.cc:90] Warning: Leaking Caffe2 thread-pool after fork. (function pthreadpool)\n"
     ]
    },
    {
     "name": "stdout",
     "output_type": "stream",
     "text": [
      "EVAL: [0/1140] Elapsed 0m 0s (remain 3m 26s) Loss: 0.4895(0.4895) \n",
      "EVAL: [100/1140] Elapsed 0m 2s (remain 0m 30s) Loss: 0.5684(0.5393) \n",
      "EVAL: [200/1140] Elapsed 0m 5s (remain 0m 26s) Loss: 0.5374(0.5454) \n",
      "EVAL: [300/1140] Elapsed 0m 8s (remain 0m 23s) Loss: 0.6140(0.5486) \n",
      "EVAL: [400/1140] Elapsed 0m 10s (remain 0m 20s) Loss: 0.3714(0.5511) \n",
      "EVAL: [500/1140] Elapsed 0m 13s (remain 0m 17s) Loss: 0.6824(0.5538) \n",
      "EVAL: [600/1140] Elapsed 0m 16s (remain 0m 14s) Loss: 0.5504(0.5531) \n",
      "EVAL: [700/1140] Elapsed 0m 18s (remain 0m 11s) Loss: 0.7431(0.5517) \n",
      "EVAL: [800/1140] Elapsed 0m 21s (remain 0m 9s) Loss: 0.5885(0.5527) \n",
      "EVAL: [900/1140] Elapsed 0m 24s (remain 0m 6s) Loss: 0.4994(0.5515) \n",
      "EVAL: [1000/1140] Elapsed 0m 26s (remain 0m 3s) Loss: 0.5616(0.5503) \n",
      "EVAL: [1100/1140] Elapsed 0m 29s (remain 0m 1s) Loss: 0.4075(0.5492) \n"
     ]
    },
    {
     "name": "stderr",
     "output_type": "stream",
     "text": [
      "Epoch 3 - avg_train_loss: 0.5356  avg_val_loss: 0.5499  time: 409s\n",
      "Epoch 3 - Score: 0.8155\n",
      "Epoch 3 - Save Best Score: 0.8155 Model\n"
     ]
    },
    {
     "name": "stdout",
     "output_type": "stream",
     "text": [
      "EVAL: [1139/1140] Elapsed 0m 30s (remain 0m 0s) Loss: 0.7739(0.5499) \n"
     ]
    },
    {
     "name": "stderr",
     "output_type": "stream",
     "text": [
      "[W pthreadpool-cpp.cc:90] Warning: Leaking Caffe2 thread-pool after fork. (function pthreadpool)\n",
      "[W pthreadpool-cpp.cc:90] Warning: Leaking Caffe2 thread-pool after fork. (function pthreadpool)\n",
      "[W pthreadpool-cpp.cc:90] Warning: Leaking Caffe2 thread-pool after fork. (function pthreadpool)\n",
      "[W pthreadpool-cpp.cc:90] Warning: Leaking Caffe2 thread-pool after fork. (function pthreadpool)\n"
     ]
    },
    {
     "name": "stdout",
     "output_type": "stream",
     "text": [
      "Epoch: [4][0/3419] Elapsed 0m 0s (remain 19m 0s) Loss: 0.4384(0.4384) Grad: 100797.3516  LR: 0.00000293  \n",
      "Epoch: [4][100/3419] Elapsed 0m 11s (remain 6m 15s) Loss: 0.5112(0.5144) Grad: 182601.7188  LR: 0.00000277  \n",
      "Epoch: [4][200/3419] Elapsed 0m 22s (remain 5m 59s) Loss: 0.3675(0.5222) Grad: 47868.2852  LR: 0.00000261  \n",
      "Epoch: [4][300/3419] Elapsed 0m 33s (remain 5m 46s) Loss: 0.4829(0.5248) Grad: 40775.0977  LR: 0.00000246  \n",
      "Epoch: [4][400/3419] Elapsed 0m 44s (remain 5m 35s) Loss: 0.4852(0.5242) Grad: 9637.3740  LR: 0.00000231  \n",
      "Epoch: [4][500/3419] Elapsed 0m 55s (remain 5m 23s) Loss: 0.6241(0.5246) Grad: 25450.9277  LR: 0.00000216  \n",
      "Epoch: [4][600/3419] Elapsed 1m 6s (remain 5m 12s) Loss: 0.5129(0.5261) Grad: 17055.2461  LR: 0.00000202  \n",
      "Epoch: [4][700/3419] Elapsed 1m 17s (remain 5m 1s) Loss: 0.5522(0.5271) Grad: 28818.4004  LR: 0.00000189  \n",
      "Epoch: [4][800/3419] Elapsed 1m 28s (remain 4m 50s) Loss: 0.6001(0.5259) Grad: 36134.9375  LR: 0.00000176  \n",
      "Epoch: [4][900/3419] Elapsed 1m 39s (remain 4m 39s) Loss: 0.4567(0.5264) Grad: 34037.8594  LR: 0.00000163  \n",
      "Epoch: [4][1000/3419] Elapsed 1m 50s (remain 4m 27s) Loss: 0.6831(0.5276) Grad: 263470.0625  LR: 0.00000150  \n",
      "Epoch: [4][1100/3419] Elapsed 2m 1s (remain 4m 16s) Loss: 0.6094(0.5281) Grad: 20531.9434  LR: 0.00000139  \n",
      "Epoch: [4][1200/3419] Elapsed 2m 13s (remain 4m 5s) Loss: 0.5248(0.5295) Grad: 70861.4609  LR: 0.00000127  \n",
      "Epoch: [4][1300/3419] Elapsed 2m 24s (remain 3m 54s) Loss: 0.4874(0.5305) Grad: 31687.8691  LR: 0.00000116  \n",
      "Epoch: [4][1400/3419] Elapsed 2m 35s (remain 3m 43s) Loss: 0.5011(0.5292) Grad: 14391.5957  LR: 0.00000106  \n",
      "Epoch: [4][1500/3419] Elapsed 2m 46s (remain 3m 32s) Loss: 0.4647(0.5292) Grad: 10128.8574  LR: 0.00000096  \n",
      "Epoch: [4][1600/3419] Elapsed 2m 57s (remain 3m 21s) Loss: 0.4280(0.5278) Grad: 13852.3643  LR: 0.00000086  \n",
      "Epoch: [4][1700/3419] Elapsed 3m 8s (remain 3m 10s) Loss: 0.5828(0.5274) Grad: 17858.1055  LR: 0.00000077  \n",
      "Epoch: [4][1800/3419] Elapsed 3m 19s (remain 2m 59s) Loss: 0.5787(0.5276) Grad: 11603.6660  LR: 0.00000068  \n",
      "Epoch: [4][1900/3419] Elapsed 3m 30s (remain 2m 48s) Loss: 0.5986(0.5267) Grad: 31032.4375  LR: 0.00000060  \n",
      "Epoch: [4][2000/3419] Elapsed 3m 41s (remain 2m 36s) Loss: 0.6709(0.5268) Grad: 25331.6543  LR: 0.00000053  \n",
      "Epoch: [4][2100/3419] Elapsed 3m 52s (remain 2m 25s) Loss: 0.4869(0.5267) Grad: 49242.9414  LR: 0.00000046  \n",
      "Epoch: [4][2200/3419] Elapsed 4m 3s (remain 2m 14s) Loss: 0.5859(0.5267) Grad: 96821.8828  LR: 0.00000039  \n",
      "Epoch: [4][2300/3419] Elapsed 4m 14s (remain 2m 3s) Loss: 0.4733(0.5270) Grad: 21491.0430  LR: 0.00000033  \n",
      "Epoch: [4][2400/3419] Elapsed 4m 25s (remain 1m 52s) Loss: 0.5906(0.5268) Grad: 10375.3584  LR: 0.00000027  \n",
      "Epoch: [4][2500/3419] Elapsed 4m 36s (remain 1m 41s) Loss: 0.5614(0.5264) Grad: 39092.1953  LR: 0.00000022  \n",
      "Epoch: [4][2600/3419] Elapsed 4m 47s (remain 1m 30s) Loss: 0.4931(0.5260) Grad: 17765.3887  LR: 0.00000018  \n",
      "Epoch: [4][2700/3419] Elapsed 4m 58s (remain 1m 19s) Loss: 0.5368(0.5258) Grad: 13116.1133  LR: 0.00000014  \n",
      "Epoch: [4][2800/3419] Elapsed 5m 9s (remain 1m 8s) Loss: 0.4850(0.5253) Grad: 13606.2031  LR: 0.00000010  \n",
      "Epoch: [4][2900/3419] Elapsed 5m 20s (remain 0m 57s) Loss: 0.5980(0.5255) Grad: 34660.4961  LR: 0.00000007  \n",
      "Epoch: [4][3000/3419] Elapsed 5m 32s (remain 0m 46s) Loss: 0.4444(0.5257) Grad: 8939.3096  LR: 0.00000005  \n",
      "Epoch: [4][3100/3419] Elapsed 5m 43s (remain 0m 35s) Loss: 0.5760(0.5261) Grad: 14337.0693  LR: 0.00000003  \n",
      "Epoch: [4][3200/3419] Elapsed 5m 54s (remain 0m 24s) Loss: 0.5763(0.5263) Grad: 6531.0815  LR: 0.00000001  \n",
      "Epoch: [4][3300/3419] Elapsed 6m 5s (remain 0m 13s) Loss: 0.5388(0.5259) Grad: 11279.2969  LR: 0.00000000  \n",
      "Epoch: [4][3400/3419] Elapsed 6m 16s (remain 0m 1s) Loss: 0.4304(0.5261) Grad: 17294.2129  LR: 0.00000000  \n",
      "Epoch: [4][3418/3419] Elapsed 6m 18s (remain 0m 0s) Loss: 0.6753(0.5263) Grad: 7492.9419  LR: 0.00000000  \n"
     ]
    },
    {
     "name": "stderr",
     "output_type": "stream",
     "text": [
      "[W pthreadpool-cpp.cc:90] Warning: Leaking Caffe2 thread-pool after fork. (function pthreadpool)\n",
      "[W pthreadpool-cpp.cc:90] Warning: Leaking Caffe2 thread-pool after fork. (function pthreadpool)\n",
      "[W pthreadpool-cpp.cc:90] Warning: Leaking Caffe2 thread-pool after fork. (function pthreadpool)\n",
      "[W pthreadpool-cpp.cc:90] Warning: Leaking Caffe2 thread-pool after fork. (function pthreadpool)\n"
     ]
    },
    {
     "name": "stdout",
     "output_type": "stream",
     "text": [
      "EVAL: [0/1140] Elapsed 0m 0s (remain 3m 29s) Loss: 0.5003(0.5003) \n",
      "EVAL: [100/1140] Elapsed 0m 2s (remain 0m 29s) Loss: 0.5714(0.5398) \n",
      "EVAL: [200/1140] Elapsed 0m 5s (remain 0m 25s) Loss: 0.5371(0.5458) \n",
      "EVAL: [300/1140] Elapsed 0m 8s (remain 0m 22s) Loss: 0.6138(0.5490) \n",
      "EVAL: [400/1140] Elapsed 0m 10s (remain 0m 20s) Loss: 0.3662(0.5512) \n",
      "EVAL: [500/1140] Elapsed 0m 13s (remain 0m 17s) Loss: 0.6876(0.5537) \n",
      "EVAL: [600/1140] Elapsed 0m 16s (remain 0m 14s) Loss: 0.5428(0.5530) \n",
      "EVAL: [700/1140] Elapsed 0m 18s (remain 0m 11s) Loss: 0.7356(0.5517) \n",
      "EVAL: [800/1140] Elapsed 0m 21s (remain 0m 9s) Loss: 0.5873(0.5530) \n",
      "EVAL: [900/1140] Elapsed 0m 24s (remain 0m 6s) Loss: 0.5001(0.5517) \n",
      "EVAL: [1000/1140] Elapsed 0m 26s (remain 0m 3s) Loss: 0.5590(0.5503) \n",
      "EVAL: [1100/1140] Elapsed 0m 29s (remain 0m 1s) Loss: 0.4115(0.5489) \n"
     ]
    },
    {
     "name": "stderr",
     "output_type": "stream",
     "text": [
      "[W pthreadpool-cpp.cc:90] Warning: Leaking Caffe2 thread-pool after fork. (function pthreadpool)\n",
      "Epoch 4 - avg_train_loss: 0.5263  avg_val_loss: 0.5496  time: 409s\n",
      "Epoch 4 - Score: 0.8175\n",
      "Epoch 4 - Save Best Score: 0.8175 Model\n"
     ]
    },
    {
     "name": "stdout",
     "output_type": "stream",
     "text": [
      "EVAL: [1139/1140] Elapsed 0m 30s (remain 0m 0s) Loss: 0.7699(0.5496) \n"
     ]
    },
    {
     "name": "stderr",
     "output_type": "stream",
     "text": [
      "========== fold: 1 result ==========\n",
      "Score: 0.8175\n",
      "========== fold: 2 training ==========\n"
     ]
    },
    {
     "name": "stdout",
     "output_type": "stream",
     "text": [
      "\u001b[38;5;40m========== fold: 2 training ==========\u001b[0m\n"
     ]
    },
    {
     "name": "stderr",
     "output_type": "stream",
     "text": [
      "Some weights of the model checkpoint at microsoft/mpnet-base were not used when initializing MPNetModel: ['lm_head.layer_norm.weight', 'lm_head.decoder.bias', 'lm_head.layer_norm.bias', 'lm_head.dense.bias', 'lm_head.dense.weight', 'lm_head.decoder.weight', 'lm_head.bias']\n",
      "- This IS expected if you are initializing MPNetModel from the checkpoint of a model trained on another task or with another architecture (e.g. initializing a BertForSequenceClassification model from a BertForPreTraining model).\n",
      "- This IS NOT expected if you are initializing MPNetModel from the checkpoint of a model that you expect to be exactly identical (initializing a BertForSequenceClassification model from a BertForSequenceClassification model).\n",
      "Some weights of MPNetModel were not initialized from the model checkpoint at microsoft/mpnet-base and are newly initialized: ['mpnet.pooler.dense.weight', 'mpnet.pooler.dense.bias']\n",
      "You should probably TRAIN this model on a down-stream task to be able to use it for predictions and inference.\n",
      "[W pthreadpool-cpp.cc:90] Warning: Leaking Caffe2 thread-pool after fork. (function pthreadpool)\n",
      "[W pthreadpool-cpp.cc:90] Warning: Leaking Caffe2 thread-pool after fork. (function pthreadpool)\n",
      "[W pthreadpool-cpp.cc:90] Warning: Leaking Caffe2 thread-pool after fork. (function pthreadpool)\n",
      "[W pthreadpool-cpp.cc:90] Warning: Leaking Caffe2 thread-pool after fork. (function pthreadpool)\n"
     ]
    },
    {
     "name": "stdout",
     "output_type": "stream",
     "text": [
      "Epoch: [1][0/3419] Elapsed 0m 0s (remain 27m 47s) Loss: 0.6838(0.6838) Grad: 90776.8906  LR: 0.00002000  \n",
      "Epoch: [1][100/3419] Elapsed 0m 11s (remain 6m 16s) Loss: 0.6991(0.6484) Grad: 46141.2852  LR: 0.00002000  \n",
      "Epoch: [1][200/3419] Elapsed 0m 22s (remain 5m 59s) Loss: 0.5675(0.6413) Grad: 15979.4189  LR: 0.00001999  \n",
      "Epoch: [1][300/3419] Elapsed 0m 33s (remain 5m 47s) Loss: 0.6251(0.6344) Grad: 14895.5117  LR: 0.00001998  \n",
      "Epoch: [1][400/3419] Elapsed 0m 44s (remain 5m 35s) Loss: 0.6839(0.6280) Grad: 26814.7285  LR: 0.00001996  \n",
      "Epoch: [1][500/3419] Elapsed 0m 55s (remain 5m 23s) Loss: 0.6064(0.6253) Grad: 22988.8594  LR: 0.00001993  \n",
      "Epoch: [1][600/3419] Elapsed 1m 6s (remain 5m 12s) Loss: 0.6326(0.6202) Grad: 19664.5664  LR: 0.00001990  \n",
      "Epoch: [1][700/3419] Elapsed 1m 17s (remain 5m 0s) Loss: 0.5768(0.6166) Grad: 31702.5684  LR: 0.00001987  \n",
      "Epoch: [1][800/3419] Elapsed 1m 28s (remain 4m 49s) Loss: 0.5601(0.6141) Grad: 47725.9023  LR: 0.00001983  \n",
      "Epoch: [1][900/3419] Elapsed 1m 39s (remain 4m 38s) Loss: 0.6728(0.6127) Grad: 36408.9414  LR: 0.00001979  \n",
      "Epoch: [1][1000/3419] Elapsed 1m 50s (remain 4m 27s) Loss: 0.5259(0.6109) Grad: 36950.3008  LR: 0.00001974  \n",
      "Epoch: [1][1100/3419] Elapsed 2m 1s (remain 4m 16s) Loss: 0.4847(0.6089) Grad: 27141.9766  LR: 0.00001968  \n",
      "Epoch: [1][1200/3419] Elapsed 2m 12s (remain 4m 5s) Loss: 0.5500(0.6075) Grad: 24881.2070  LR: 0.00001962  \n",
      "Epoch: [1][1300/3419] Elapsed 2m 23s (remain 3m 54s) Loss: 0.6787(0.6063) Grad: 18094.6855  LR: 0.00001956  \n",
      "Epoch: [1][1400/3419] Elapsed 2m 34s (remain 3m 42s) Loss: 0.7123(0.6046) Grad: 39710.5039  LR: 0.00001949  \n",
      "Epoch: [1][1500/3419] Elapsed 2m 45s (remain 3m 31s) Loss: 0.6751(0.6037) Grad: 43263.9688  LR: 0.00001941  \n",
      "Epoch: [1][1600/3419] Elapsed 2m 56s (remain 3m 20s) Loss: 0.6430(0.6034) Grad: 28836.0195  LR: 0.00001933  \n",
      "Epoch: [1][1700/3419] Elapsed 3m 7s (remain 3m 9s) Loss: 0.5178(0.6020) Grad: 18157.0938  LR: 0.00001925  \n",
      "Epoch: [1][1800/3419] Elapsed 3m 18s (remain 2m 58s) Loss: 0.6257(0.6000) Grad: 31379.6914  LR: 0.00001916  \n",
      "Epoch: [1][1900/3419] Elapsed 3m 29s (remain 2m 47s) Loss: 0.5954(0.5985) Grad: 14111.1719  LR: 0.00001906  \n",
      "Epoch: [1][2000/3419] Elapsed 3m 40s (remain 2m 36s) Loss: 0.6127(0.5978) Grad: 54973.7891  LR: 0.00001896  \n",
      "Epoch: [1][2100/3419] Elapsed 3m 51s (remain 2m 25s) Loss: 0.5967(0.5966) Grad: 69739.8750  LR: 0.00001886  \n",
      "Epoch: [1][2200/3419] Elapsed 4m 2s (remain 2m 14s) Loss: 0.6741(0.5950) Grad: 46391.5625  LR: 0.00001875  \n",
      "Epoch: [1][2300/3419] Elapsed 4m 13s (remain 2m 3s) Loss: 0.5233(0.5937) Grad: 16283.0938  LR: 0.00001864  \n",
      "Epoch: [1][2400/3419] Elapsed 4m 24s (remain 1m 52s) Loss: 0.6816(0.5926) Grad: 58936.3047  LR: 0.00001852  \n",
      "Epoch: [1][2500/3419] Elapsed 4m 35s (remain 1m 41s) Loss: 0.5420(0.5915) Grad: 55382.0469  LR: 0.00001839  \n",
      "Epoch: [1][2600/3419] Elapsed 4m 47s (remain 1m 30s) Loss: 0.5510(0.5907) Grad: 54868.3750  LR: 0.00001827  \n",
      "Epoch: [1][2700/3419] Elapsed 4m 58s (remain 1m 19s) Loss: 0.5813(0.5894) Grad: 49662.3398  LR: 0.00001814  \n",
      "Epoch: [1][2800/3419] Elapsed 5m 9s (remain 1m 8s) Loss: 0.6756(0.5886) Grad: 66936.3828  LR: 0.00001800  \n",
      "Epoch: [1][2900/3419] Elapsed 5m 20s (remain 0m 57s) Loss: 0.5893(0.5875) Grad: 37191.0664  LR: 0.00001786  \n",
      "Epoch: [1][3000/3419] Elapsed 5m 31s (remain 0m 46s) Loss: 0.5593(0.5867) Grad: 52610.5078  LR: 0.00001772  \n",
      "Epoch: [1][3100/3419] Elapsed 5m 42s (remain 0m 35s) Loss: 0.4709(0.5857) Grad: 107139.3281  LR: 0.00001757  \n",
      "Epoch: [1][3200/3419] Elapsed 5m 53s (remain 0m 24s) Loss: 0.4380(0.5849) Grad: 43392.0078  LR: 0.00001742  \n",
      "Epoch: [1][3300/3419] Elapsed 6m 4s (remain 0m 13s) Loss: 0.6908(0.5848) Grad: 39182.7539  LR: 0.00001726  \n",
      "Epoch: [1][3400/3419] Elapsed 6m 15s (remain 0m 1s) Loss: 0.4960(0.5840) Grad: 37563.8984  LR: 0.00001710  \n"
     ]
    },
    {
     "name": "stderr",
     "output_type": "stream",
     "text": [
      "[W pthreadpool-cpp.cc:90] Warning: Leaking Caffe2 thread-pool after fork. (function pthreadpool)\n"
     ]
    },
    {
     "name": "stdout",
     "output_type": "stream",
     "text": [
      "Epoch: [1][3418/3419] Elapsed 6m 17s (remain 0m 0s) Loss: 0.5560(0.5840) Grad: 139393.5625  LR: 0.00001707  \n"
     ]
    },
    {
     "name": "stderr",
     "output_type": "stream",
     "text": [
      "[W pthreadpool-cpp.cc:90] Warning: Leaking Caffe2 thread-pool after fork. (function pthreadpool)\n",
      "[W pthreadpool-cpp.cc:90] Warning: Leaking Caffe2 thread-pool after fork. (function pthreadpool)\n",
      "[W pthreadpool-cpp.cc:90] Warning: Leaking Caffe2 thread-pool after fork. (function pthreadpool)\n",
      "[W pthreadpool-cpp.cc:90] Warning: Leaking Caffe2 thread-pool after fork. (function pthreadpool)\n"
     ]
    },
    {
     "name": "stdout",
     "output_type": "stream",
     "text": [
      "EVAL: [0/1140] Elapsed 0m 0s (remain 3m 34s) Loss: 0.5178(0.5178) \n",
      "EVAL: [100/1140] Elapsed 0m 2s (remain 0m 29s) Loss: 0.7325(0.5615) \n",
      "EVAL: [200/1140] Elapsed 0m 5s (remain 0m 25s) Loss: 0.6329(0.5545) \n",
      "EVAL: [300/1140] Elapsed 0m 8s (remain 0m 22s) Loss: 0.5917(0.5634) \n",
      "EVAL: [400/1140] Elapsed 0m 10s (remain 0m 19s) Loss: 0.5111(0.5676) \n",
      "EVAL: [500/1140] Elapsed 0m 13s (remain 0m 17s) Loss: 0.4869(0.5642) \n",
      "EVAL: [600/1140] Elapsed 0m 16s (remain 0m 14s) Loss: 0.3240(0.5645) \n",
      "EVAL: [700/1140] Elapsed 0m 18s (remain 0m 11s) Loss: 0.6795(0.5642) \n",
      "EVAL: [800/1140] Elapsed 0m 21s (remain 0m 9s) Loss: 0.3094(0.5649) \n",
      "EVAL: [900/1140] Elapsed 0m 24s (remain 0m 6s) Loss: 0.7971(0.5645) \n",
      "EVAL: [1000/1140] Elapsed 0m 26s (remain 0m 3s) Loss: 0.4940(0.5639) \n",
      "EVAL: [1100/1140] Elapsed 0m 29s (remain 0m 1s) Loss: 0.6551(0.5622) \n"
     ]
    },
    {
     "name": "stderr",
     "output_type": "stream",
     "text": [
      "Epoch 1 - avg_train_loss: 0.5840  avg_val_loss: 0.5623  time: 408s\n",
      "Epoch 1 - Score: 0.7730\n",
      "Epoch 1 - Save Best Score: 0.7730 Model\n"
     ]
    },
    {
     "name": "stdout",
     "output_type": "stream",
     "text": [
      "EVAL: [1139/1140] Elapsed 0m 30s (remain 0m 0s) Loss: 0.4538(0.5623) \n"
     ]
    },
    {
     "name": "stderr",
     "output_type": "stream",
     "text": [
      "[W pthreadpool-cpp.cc:90] Warning: Leaking Caffe2 thread-pool after fork. (function pthreadpool)\n",
      "[W pthreadpool-cpp.cc:90] Warning: Leaking Caffe2 thread-pool after fork. (function pthreadpool)\n",
      "[W pthreadpool-cpp.cc:90] Warning: Leaking Caffe2 thread-pool after fork. (function pthreadpool)\n",
      "[W pthreadpool-cpp.cc:90] Warning: Leaking Caffe2 thread-pool after fork. (function pthreadpool)\n"
     ]
    },
    {
     "name": "stdout",
     "output_type": "stream",
     "text": [
      "Epoch: [2][0/3419] Elapsed 0m 0s (remain 20m 2s) Loss: 0.6791(0.6791) Grad: 44306.3086  LR: 0.00001707  \n",
      "Epoch: [2][100/3419] Elapsed 0m 11s (remain 6m 15s) Loss: 0.6153(0.5524) Grad: 60129.3320  LR: 0.00001691  \n",
      "Epoch: [2][200/3419] Elapsed 0m 22s (remain 5m 59s) Loss: 0.5971(0.5515) Grad: 36196.1836  LR: 0.00001674  \n",
      "Epoch: [2][300/3419] Elapsed 0m 33s (remain 5m 46s) Loss: 0.5550(0.5488) Grad: 16860.7715  LR: 0.00001657  \n",
      "Epoch: [2][400/3419] Elapsed 0m 44s (remain 5m 35s) Loss: 0.4416(0.5493) Grad: 28162.4883  LR: 0.00001639  \n",
      "Epoch: [2][500/3419] Elapsed 0m 55s (remain 5m 23s) Loss: 0.3044(0.5499) Grad: 14297.0205  LR: 0.00001621  \n",
      "Epoch: [2][600/3419] Elapsed 1m 6s (remain 5m 12s) Loss: 0.4413(0.5509) Grad: 21873.9160  LR: 0.00001603  \n",
      "Epoch: [2][700/3419] Elapsed 1m 17s (remain 5m 1s) Loss: 0.5078(0.5526) Grad: 9132.6240  LR: 0.00001585  \n",
      "Epoch: [2][800/3419] Elapsed 1m 28s (remain 4m 50s) Loss: 0.5882(0.5548) Grad: 22980.1016  LR: 0.00001566  \n",
      "Epoch: [2][900/3419] Elapsed 1m 39s (remain 4m 38s) Loss: 0.5401(0.5555) Grad: 20661.0391  LR: 0.00001547  \n",
      "Epoch: [2][1000/3419] Elapsed 1m 50s (remain 4m 27s) Loss: 0.4899(0.5568) Grad: 15657.3652  LR: 0.00001527  \n",
      "Epoch: [2][1100/3419] Elapsed 2m 1s (remain 4m 16s) Loss: 0.6386(0.5566) Grad: 49216.9453  LR: 0.00001508  \n",
      "Epoch: [2][1200/3419] Elapsed 2m 12s (remain 4m 5s) Loss: 0.5904(0.5561) Grad: 20822.3320  LR: 0.00001488  \n",
      "Epoch: [2][1300/3419] Elapsed 2m 24s (remain 3m 54s) Loss: 0.4852(0.5561) Grad: 6836.4487  LR: 0.00001468  \n",
      "Epoch: [2][1400/3419] Elapsed 2m 35s (remain 3m 43s) Loss: 0.5171(0.5555) Grad: 34479.1211  LR: 0.00001447  \n",
      "Epoch: [2][1500/3419] Elapsed 2m 46s (remain 3m 32s) Loss: 0.5916(0.5545) Grad: 17640.7051  LR: 0.00001427  \n",
      "Epoch: [2][1600/3419] Elapsed 2m 57s (remain 3m 21s) Loss: 0.5403(0.5551) Grad: 89503.1953  LR: 0.00001406  \n",
      "Epoch: [2][1700/3419] Elapsed 3m 8s (remain 3m 10s) Loss: 0.6961(0.5548) Grad: 77078.8281  LR: 0.00001385  \n",
      "Epoch: [2][1800/3419] Elapsed 3m 19s (remain 2m 59s) Loss: 0.4320(0.5551) Grad: 17984.9512  LR: 0.00001363  \n",
      "Epoch: [2][1900/3419] Elapsed 3m 30s (remain 2m 47s) Loss: 0.4795(0.5551) Grad: 33998.9102  LR: 0.00001342  \n",
      "Epoch: [2][2000/3419] Elapsed 3m 41s (remain 2m 36s) Loss: 0.6542(0.5562) Grad: 26849.7852  LR: 0.00001320  \n",
      "Epoch: [2][2100/3419] Elapsed 3m 52s (remain 2m 25s) Loss: 0.5005(0.5560) Grad: 83936.6016  LR: 0.00001298  \n",
      "Epoch: [2][2200/3419] Elapsed 4m 3s (remain 2m 14s) Loss: 0.6365(0.5553) Grad: 211257.1719  LR: 0.00001276  \n",
      "Epoch: [2][2300/3419] Elapsed 4m 14s (remain 2m 3s) Loss: 0.6913(0.5553) Grad: 25707.2188  LR: 0.00001254  \n",
      "Epoch: [2][2400/3419] Elapsed 4m 25s (remain 1m 52s) Loss: 0.6777(0.5546) Grad: 234554.9844  LR: 0.00001232  \n",
      "Epoch: [2][2500/3419] Elapsed 4m 36s (remain 1m 41s) Loss: 0.5433(0.5547) Grad: 48124.6172  LR: 0.00001209  \n",
      "Epoch: [2][2600/3419] Elapsed 4m 47s (remain 1m 30s) Loss: 0.4108(0.5544) Grad: 23140.8379  LR: 0.00001187  \n",
      "Epoch: [2][2700/3419] Elapsed 4m 58s (remain 1m 19s) Loss: 0.4777(0.5536) Grad: 17768.0859  LR: 0.00001164  \n",
      "Epoch: [2][2800/3419] Elapsed 5m 9s (remain 1m 8s) Loss: 0.4356(0.5536) Grad: 30505.0645  LR: 0.00001142  \n",
      "Epoch: [2][2900/3419] Elapsed 5m 20s (remain 0m 57s) Loss: 0.5846(0.5531) Grad: 17083.8262  LR: 0.00001119  \n",
      "Epoch: [2][3000/3419] Elapsed 5m 31s (remain 0m 46s) Loss: 0.4725(0.5533) Grad: 20929.4102  LR: 0.00001096  \n",
      "Epoch: [2][3100/3419] Elapsed 5m 42s (remain 0m 35s) Loss: 0.6088(0.5534) Grad: 40580.6445  LR: 0.00001073  \n",
      "Epoch: [2][3200/3419] Elapsed 5m 53s (remain 0m 24s) Loss: 0.6520(0.5531) Grad: 30270.5547  LR: 0.00001050  \n",
      "Epoch: [2][3300/3419] Elapsed 6m 4s (remain 0m 13s) Loss: 0.6629(0.5525) Grad: 11516.7871  LR: 0.00001027  \n",
      "Epoch: [2][3400/3419] Elapsed 6m 16s (remain 0m 1s) Loss: 0.5224(0.5521) Grad: 88978.5547  LR: 0.00001004  \n"
     ]
    },
    {
     "name": "stderr",
     "output_type": "stream",
     "text": [
      "[W pthreadpool-cpp.cc:90] Warning: Leaking Caffe2 thread-pool after fork. (function pthreadpool)\n"
     ]
    },
    {
     "name": "stdout",
     "output_type": "stream",
     "text": [
      "Epoch: [2][3418/3419] Elapsed 6m 18s (remain 0m 0s) Loss: 0.6731(0.5522) Grad: 110052.0859  LR: 0.00001000  \n"
     ]
    },
    {
     "name": "stderr",
     "output_type": "stream",
     "text": [
      "[W pthreadpool-cpp.cc:90] Warning: Leaking Caffe2 thread-pool after fork. (function pthreadpool)\n",
      "[W pthreadpool-cpp.cc:90] Warning: Leaking Caffe2 thread-pool after fork. (function pthreadpool)\n",
      "[W pthreadpool-cpp.cc:90] Warning: Leaking Caffe2 thread-pool after fork. (function pthreadpool)\n",
      "[W pthreadpool-cpp.cc:90] Warning: Leaking Caffe2 thread-pool after fork. (function pthreadpool)\n"
     ]
    },
    {
     "name": "stdout",
     "output_type": "stream",
     "text": [
      "EVAL: [0/1140] Elapsed 0m 0s (remain 3m 33s) Loss: 0.4736(0.4736) \n",
      "EVAL: [100/1140] Elapsed 0m 2s (remain 0m 29s) Loss: 0.7800(0.5526) \n",
      "EVAL: [200/1140] Elapsed 0m 5s (remain 0m 25s) Loss: 0.6192(0.5447) \n",
      "EVAL: [300/1140] Elapsed 0m 8s (remain 0m 22s) Loss: 0.5524(0.5523) \n",
      "EVAL: [400/1140] Elapsed 0m 10s (remain 0m 19s) Loss: 0.4916(0.5570) \n",
      "EVAL: [500/1140] Elapsed 0m 13s (remain 0m 17s) Loss: 0.4708(0.5529) \n",
      "EVAL: [600/1140] Elapsed 0m 16s (remain 0m 14s) Loss: 0.2761(0.5540) \n",
      "EVAL: [700/1140] Elapsed 0m 18s (remain 0m 11s) Loss: 0.5779(0.5533) \n",
      "EVAL: [800/1140] Elapsed 0m 21s (remain 0m 9s) Loss: 0.3156(0.5538) \n",
      "EVAL: [900/1140] Elapsed 0m 24s (remain 0m 6s) Loss: 0.5826(0.5530) \n",
      "EVAL: [1000/1140] Elapsed 0m 26s (remain 0m 3s) Loss: 0.4719(0.5526) \n",
      "EVAL: [1100/1140] Elapsed 0m 29s (remain 0m 1s) Loss: 0.6382(0.5510) \n"
     ]
    },
    {
     "name": "stderr",
     "output_type": "stream",
     "text": [
      "Epoch 2 - avg_train_loss: 0.5522  avg_val_loss: 0.5511  time: 409s\n",
      "Epoch 2 - Score: 0.8000\n",
      "Epoch 2 - Save Best Score: 0.8000 Model\n"
     ]
    },
    {
     "name": "stdout",
     "output_type": "stream",
     "text": [
      "EVAL: [1139/1140] Elapsed 0m 30s (remain 0m 0s) Loss: 0.4503(0.5511) \n"
     ]
    },
    {
     "name": "stderr",
     "output_type": "stream",
     "text": [
      "[W pthreadpool-cpp.cc:90] Warning: Leaking Caffe2 thread-pool after fork. (function pthreadpool)\n",
      "[W pthreadpool-cpp.cc:90] Warning: Leaking Caffe2 thread-pool after fork. (function pthreadpool)\n",
      "[W pthreadpool-cpp.cc:90] Warning: Leaking Caffe2 thread-pool after fork. (function pthreadpool)\n",
      "[W pthreadpool-cpp.cc:90] Warning: Leaking Caffe2 thread-pool after fork. (function pthreadpool)\n"
     ]
    },
    {
     "name": "stdout",
     "output_type": "stream",
     "text": [
      "Epoch: [3][0/3419] Elapsed 0m 0s (remain 19m 23s) Loss: 0.4523(0.4523) Grad: 46513.8047  LR: 0.00001000  \n",
      "Epoch: [3][100/3419] Elapsed 0m 11s (remain 6m 14s) Loss: 0.5666(0.5502) Grad: 110908.1328  LR: 0.00000977  \n",
      "Epoch: [3][200/3419] Elapsed 0m 22s (remain 5m 59s) Loss: 0.5088(0.5448) Grad: 149440.6562  LR: 0.00000954  \n",
      "Epoch: [3][300/3419] Elapsed 0m 33s (remain 5m 46s) Loss: 0.3908(0.5430) Grad: 131012.0234  LR: 0.00000931  \n",
      "Epoch: [3][400/3419] Elapsed 0m 44s (remain 5m 35s) Loss: 0.5771(0.5450) Grad: 33873.6094  LR: 0.00000908  \n",
      "Epoch: [3][500/3419] Elapsed 0m 55s (remain 5m 23s) Loss: 0.4521(0.5403) Grad: 43401.7383  LR: 0.00000885  \n",
      "Epoch: [3][600/3419] Elapsed 1m 6s (remain 5m 12s) Loss: 0.4919(0.5421) Grad: 41536.9883  LR: 0.00000863  \n",
      "Epoch: [3][700/3419] Elapsed 1m 17s (remain 5m 1s) Loss: 0.6189(0.5399) Grad: 15051.4492  LR: 0.00000840  \n",
      "Epoch: [3][800/3419] Elapsed 1m 28s (remain 4m 49s) Loss: 0.3908(0.5383) Grad: 46188.3359  LR: 0.00000817  \n",
      "Epoch: [3][900/3419] Elapsed 1m 39s (remain 4m 38s) Loss: 0.6163(0.5376) Grad: 29492.5195  LR: 0.00000795  \n",
      "Epoch: [3][1000/3419] Elapsed 1m 50s (remain 4m 27s) Loss: 0.3312(0.5384) Grad: 26617.8438  LR: 0.00000772  \n",
      "Epoch: [3][1100/3419] Elapsed 2m 1s (remain 4m 16s) Loss: 0.5537(0.5373) Grad: 19662.8984  LR: 0.00000750  \n",
      "Epoch: [3][1200/3419] Elapsed 2m 12s (remain 4m 5s) Loss: 0.3530(0.5370) Grad: 36951.9492  LR: 0.00000728  \n",
      "Epoch: [3][1300/3419] Elapsed 2m 23s (remain 3m 54s) Loss: 0.7116(0.5366) Grad: 36080.7656  LR: 0.00000706  \n",
      "Epoch: [3][1400/3419] Elapsed 2m 34s (remain 3m 43s) Loss: 0.6071(0.5363) Grad: 27959.4746  LR: 0.00000684  \n",
      "Epoch: [3][1500/3419] Elapsed 2m 46s (remain 3m 32s) Loss: 0.5279(0.5359) Grad: 16048.6689  LR: 0.00000662  \n",
      "Epoch: [3][1600/3419] Elapsed 2m 57s (remain 3m 21s) Loss: 0.3394(0.5355) Grad: 6626.5498  LR: 0.00000641  \n",
      "Epoch: [3][1700/3419] Elapsed 3m 8s (remain 3m 10s) Loss: 0.4329(0.5350) Grad: 28707.4277  LR: 0.00000619  \n",
      "Epoch: [3][1800/3419] Elapsed 3m 19s (remain 2m 58s) Loss: 0.5853(0.5349) Grad: 2893.8508  LR: 0.00000598  \n",
      "Epoch: [3][1900/3419] Elapsed 3m 30s (remain 2m 47s) Loss: 0.6001(0.5343) Grad: 15962.4932  LR: 0.00000577  \n",
      "Epoch: [3][2000/3419] Elapsed 3m 41s (remain 2m 36s) Loss: 0.4534(0.5350) Grad: 55887.3984  LR: 0.00000556  \n",
      "Epoch: [3][2100/3419] Elapsed 3m 52s (remain 2m 25s) Loss: 0.5185(0.5345) Grad: 25753.3184  LR: 0.00000536  \n",
      "Epoch: [3][2200/3419] Elapsed 4m 3s (remain 2m 14s) Loss: 0.6054(0.5347) Grad: 11124.4072  LR: 0.00000516  \n",
      "Epoch: [3][2300/3419] Elapsed 4m 14s (remain 2m 3s) Loss: 0.5039(0.5351) Grad: 8861.3701  LR: 0.00000496  \n",
      "Epoch: [3][2400/3419] Elapsed 4m 25s (remain 1m 52s) Loss: 0.5449(0.5351) Grad: 6842.8237  LR: 0.00000476  \n",
      "Epoch: [3][2500/3419] Elapsed 4m 36s (remain 1m 41s) Loss: 0.5919(0.5349) Grad: 6129.4321  LR: 0.00000457  \n",
      "Epoch: [3][2600/3419] Elapsed 4m 47s (remain 1m 30s) Loss: 0.6453(0.5353) Grad: 15548.2451  LR: 0.00000438  \n",
      "Epoch: [3][2700/3419] Elapsed 4m 58s (remain 1m 19s) Loss: 0.6383(0.5350) Grad: 15919.1621  LR: 0.00000419  \n",
      "Epoch: [3][2800/3419] Elapsed 5m 9s (remain 1m 8s) Loss: 0.4332(0.5347) Grad: 15948.2529  LR: 0.00000400  \n",
      "Epoch: [3][2900/3419] Elapsed 5m 20s (remain 0m 57s) Loss: 0.5109(0.5350) Grad: 11786.5439  LR: 0.00000382  \n",
      "Epoch: [3][3000/3419] Elapsed 5m 31s (remain 0m 46s) Loss: 0.5614(0.5350) Grad: 5024.0903  LR: 0.00000364  \n",
      "Epoch: [3][3100/3419] Elapsed 5m 42s (remain 0m 35s) Loss: 0.5672(0.5347) Grad: 15631.5020  LR: 0.00000347  \n",
      "Epoch: [3][3200/3419] Elapsed 5m 53s (remain 0m 24s) Loss: 0.4555(0.5344) Grad: 7805.8428  LR: 0.00000329  \n",
      "Epoch: [3][3300/3419] Elapsed 6m 4s (remain 0m 13s) Loss: 0.5836(0.5345) Grad: 30205.6328  LR: 0.00000312  \n",
      "Epoch: [3][3400/3419] Elapsed 6m 15s (remain 0m 1s) Loss: 0.6309(0.5342) Grad: 6881.7427  LR: 0.00000296  \n",
      "Epoch: [3][3418/3419] Elapsed 6m 17s (remain 0m 0s) Loss: 0.5461(0.5340) Grad: 14374.9404  LR: 0.00000293  \n"
     ]
    },
    {
     "name": "stderr",
     "output_type": "stream",
     "text": [
      "[W pthreadpool-cpp.cc:90] Warning: Leaking Caffe2 thread-pool after fork. (function pthreadpool)\n",
      "[W pthreadpool-cpp.cc:90] Warning: Leaking Caffe2 thread-pool after fork. (function pthreadpool)\n",
      "[W pthreadpool-cpp.cc:90] Warning: Leaking Caffe2 thread-pool after fork. (function pthreadpool)\n",
      "[W pthreadpool-cpp.cc:90] Warning: Leaking Caffe2 thread-pool after fork. (function pthreadpool)\n"
     ]
    },
    {
     "name": "stdout",
     "output_type": "stream",
     "text": [
      "EVAL: [0/1140] Elapsed 0m 0s (remain 3m 36s) Loss: 0.4540(0.4540) \n",
      "EVAL: [100/1140] Elapsed 0m 2s (remain 0m 29s) Loss: 0.8148(0.5552) \n",
      "EVAL: [200/1140] Elapsed 0m 5s (remain 0m 25s) Loss: 0.6280(0.5449) \n",
      "EVAL: [300/1140] Elapsed 0m 8s (remain 0m 22s) Loss: 0.5659(0.5509) \n",
      "EVAL: [400/1140] Elapsed 0m 10s (remain 0m 20s) Loss: 0.4934(0.5552) \n",
      "EVAL: [500/1140] Elapsed 0m 13s (remain 0m 17s) Loss: 0.4644(0.5511) \n",
      "EVAL: [600/1140] Elapsed 0m 16s (remain 0m 14s) Loss: 0.2771(0.5527) \n",
      "EVAL: [700/1140] Elapsed 0m 18s (remain 0m 11s) Loss: 0.5833(0.5524) \n",
      "EVAL: [800/1140] Elapsed 0m 21s (remain 0m 9s) Loss: 0.2548(0.5530) \n",
      "EVAL: [900/1140] Elapsed 0m 24s (remain 0m 6s) Loss: 0.6679(0.5527) \n",
      "EVAL: [1000/1140] Elapsed 0m 26s (remain 0m 3s) Loss: 0.4662(0.5522) \n",
      "EVAL: [1100/1140] Elapsed 0m 29s (remain 0m 1s) Loss: 0.6352(0.5506) \n"
     ]
    },
    {
     "name": "stderr",
     "output_type": "stream",
     "text": [
      "Epoch 3 - avg_train_loss: 0.5340  avg_val_loss: 0.5506  time: 409s\n",
      "Epoch 3 - Score: 0.8139\n",
      "Epoch 3 - Save Best Score: 0.8139 Model\n"
     ]
    },
    {
     "name": "stdout",
     "output_type": "stream",
     "text": [
      "EVAL: [1139/1140] Elapsed 0m 30s (remain 0m 0s) Loss: 0.4533(0.5506) \n"
     ]
    },
    {
     "name": "stderr",
     "output_type": "stream",
     "text": [
      "[W pthreadpool-cpp.cc:90] Warning: Leaking Caffe2 thread-pool after fork. (function pthreadpool)\n",
      "[W pthreadpool-cpp.cc:90] Warning: Leaking Caffe2 thread-pool after fork. (function pthreadpool)\n",
      "[W pthreadpool-cpp.cc:90] Warning: Leaking Caffe2 thread-pool after fork. (function pthreadpool)\n",
      "[W pthreadpool-cpp.cc:90] Warning: Leaking Caffe2 thread-pool after fork. (function pthreadpool)\n"
     ]
    },
    {
     "name": "stdout",
     "output_type": "stream",
     "text": [
      "Epoch: [4][0/3419] Elapsed 0m 0s (remain 18m 26s) Loss: 0.8405(0.8405) Grad: nan  LR: 0.00000293  \n",
      "Epoch: [4][100/3419] Elapsed 0m 11s (remain 6m 14s) Loss: 0.5645(0.5327) Grad: 38087.9336  LR: 0.00000277  \n",
      "Epoch: [4][200/3419] Elapsed 0m 22s (remain 5m 59s) Loss: 0.5464(0.5168) Grad: 8642.0283  LR: 0.00000261  \n",
      "Epoch: [4][300/3419] Elapsed 0m 33s (remain 5m 46s) Loss: 0.2566(0.5228) Grad: 13269.9795  LR: 0.00000246  \n",
      "Epoch: [4][400/3419] Elapsed 0m 44s (remain 5m 35s) Loss: 0.4045(0.5269) Grad: 11039.6953  LR: 0.00000231  \n",
      "Epoch: [4][500/3419] Elapsed 0m 55s (remain 5m 23s) Loss: 0.5723(0.5301) Grad: 52849.7266  LR: 0.00000216  \n",
      "Epoch: [4][600/3419] Elapsed 1m 6s (remain 5m 12s) Loss: 0.4219(0.5300) Grad: 13751.8516  LR: 0.00000202  \n",
      "Epoch: [4][700/3419] Elapsed 1m 17s (remain 5m 1s) Loss: 0.6704(0.5291) Grad: 31843.8691  LR: 0.00000189  \n",
      "Epoch: [4][800/3419] Elapsed 1m 28s (remain 4m 50s) Loss: 0.5282(0.5284) Grad: 29321.7207  LR: 0.00000176  \n",
      "Epoch: [4][900/3419] Elapsed 1m 39s (remain 4m 38s) Loss: 0.5532(0.5275) Grad: 9705.4766  LR: 0.00000163  \n",
      "Epoch: [4][1000/3419] Elapsed 1m 50s (remain 4m 27s) Loss: 0.4908(0.5280) Grad: 11128.8926  LR: 0.00000150  \n",
      "Epoch: [4][1100/3419] Elapsed 2m 1s (remain 4m 16s) Loss: 0.6577(0.5275) Grad: 13681.4277  LR: 0.00000139  \n",
      "Epoch: [4][1200/3419] Elapsed 2m 12s (remain 4m 5s) Loss: 0.5169(0.5276) Grad: 50657.8125  LR: 0.00000127  \n",
      "Epoch: [4][1300/3419] Elapsed 2m 24s (remain 3m 54s) Loss: 0.6571(0.5275) Grad: 83466.2266  LR: 0.00000116  \n",
      "Epoch: [4][1400/3419] Elapsed 2m 35s (remain 3m 43s) Loss: 0.5888(0.5269) Grad: 16290.9082  LR: 0.00000106  \n",
      "Epoch: [4][1500/3419] Elapsed 2m 46s (remain 3m 32s) Loss: 0.6854(0.5264) Grad: 18868.7305  LR: 0.00000096  \n",
      "Epoch: [4][1600/3419] Elapsed 2m 57s (remain 3m 21s) Loss: 0.4675(0.5260) Grad: 9466.8066  LR: 0.00000086  \n",
      "Epoch: [4][1700/3419] Elapsed 3m 8s (remain 3m 10s) Loss: 0.5341(0.5255) Grad: 26562.5547  LR: 0.00000077  \n",
      "Epoch: [4][1800/3419] Elapsed 3m 19s (remain 2m 59s) Loss: 0.6650(0.5255) Grad: 28034.8203  LR: 0.00000068  \n",
      "Epoch: [4][1900/3419] Elapsed 3m 30s (remain 2m 47s) Loss: 0.4227(0.5257) Grad: 23600.4043  LR: 0.00000060  \n",
      "Epoch: [4][2000/3419] Elapsed 3m 41s (remain 2m 36s) Loss: 0.3965(0.5249) Grad: 9509.8662  LR: 0.00000053  \n",
      "Epoch: [4][2100/3419] Elapsed 3m 52s (remain 2m 25s) Loss: 0.5693(0.5246) Grad: 187293.8594  LR: 0.00000046  \n",
      "Epoch: [4][2200/3419] Elapsed 4m 3s (remain 2m 14s) Loss: 0.5237(0.5247) Grad: 110343.8594  LR: 0.00000039  \n",
      "Epoch: [4][2300/3419] Elapsed 4m 14s (remain 2m 3s) Loss: 0.5326(0.5247) Grad: 45275.1680  LR: 0.00000033  \n",
      "Epoch: [4][2400/3419] Elapsed 4m 25s (remain 1m 52s) Loss: 0.4500(0.5247) Grad: 24984.1211  LR: 0.00000027  \n",
      "Epoch: [4][2500/3419] Elapsed 4m 36s (remain 1m 41s) Loss: 0.5176(0.5245) Grad: 25978.2539  LR: 0.00000022  \n",
      "Epoch: [4][2600/3419] Elapsed 4m 47s (remain 1m 30s) Loss: 0.3850(0.5250) Grad: 23366.9648  LR: 0.00000018  \n",
      "Epoch: [4][2700/3419] Elapsed 4m 58s (remain 1m 19s) Loss: 0.2491(0.5250) Grad: 7213.6050  LR: 0.00000014  \n",
      "Epoch: [4][2800/3419] Elapsed 5m 9s (remain 1m 8s) Loss: 0.6851(0.5246) Grad: 33711.5703  LR: 0.00000010  \n",
      "Epoch: [4][2900/3419] Elapsed 5m 20s (remain 0m 57s) Loss: 0.6156(0.5247) Grad: 12720.3984  LR: 0.00000007  \n",
      "Epoch: [4][3000/3419] Elapsed 5m 31s (remain 0m 46s) Loss: 0.3897(0.5245) Grad: 13851.2529  LR: 0.00000005  \n",
      "Epoch: [4][3100/3419] Elapsed 5m 42s (remain 0m 35s) Loss: 0.4930(0.5244) Grad: 6565.4751  LR: 0.00000003  \n",
      "Epoch: [4][3200/3419] Elapsed 5m 53s (remain 0m 24s) Loss: 0.4514(0.5244) Grad: 4734.9390  LR: 0.00000001  \n",
      "Epoch: [4][3300/3419] Elapsed 6m 4s (remain 0m 13s) Loss: 0.5470(0.5244) Grad: 69573.0938  LR: 0.00000000  \n",
      "Epoch: [4][3400/3419] Elapsed 6m 16s (remain 0m 1s) Loss: 0.6479(0.5240) Grad: 24052.4336  LR: 0.00000000  \n",
      "Epoch: [4][3418/3419] Elapsed 6m 17s (remain 0m 0s) Loss: 0.4922(0.5239) Grad: 8283.0498  LR: 0.00000000  \n"
     ]
    },
    {
     "name": "stderr",
     "output_type": "stream",
     "text": [
      "[W pthreadpool-cpp.cc:90] Warning: Leaking Caffe2 thread-pool after fork. (function pthreadpool)\n",
      "[W pthreadpool-cpp.cc:90] Warning: Leaking Caffe2 thread-pool after fork. (function pthreadpool)\n",
      "[W pthreadpool-cpp.cc:90] Warning: Leaking Caffe2 thread-pool after fork. (function pthreadpool)\n",
      "[W pthreadpool-cpp.cc:90] Warning: Leaking Caffe2 thread-pool after fork. (function pthreadpool)\n"
     ]
    },
    {
     "name": "stdout",
     "output_type": "stream",
     "text": [
      "EVAL: [0/1140] Elapsed 0m 0s (remain 3m 40s) Loss: 0.4648(0.4648) \n",
      "EVAL: [100/1140] Elapsed 0m 2s (remain 0m 29s) Loss: 0.8081(0.5512) \n",
      "EVAL: [200/1140] Elapsed 0m 5s (remain 0m 25s) Loss: 0.6287(0.5427) \n",
      "EVAL: [300/1140] Elapsed 0m 8s (remain 0m 22s) Loss: 0.5649(0.5484) \n",
      "EVAL: [400/1140] Elapsed 0m 10s (remain 0m 19s) Loss: 0.4957(0.5535) \n",
      "EVAL: [500/1140] Elapsed 0m 13s (remain 0m 17s) Loss: 0.4653(0.5497) \n",
      "EVAL: [600/1140] Elapsed 0m 16s (remain 0m 14s) Loss: 0.2772(0.5508) \n",
      "EVAL: [700/1140] Elapsed 0m 18s (remain 0m 11s) Loss: 0.5840(0.5506) \n",
      "EVAL: [800/1140] Elapsed 0m 21s (remain 0m 9s) Loss: 0.2505(0.5513) \n",
      "EVAL: [900/1140] Elapsed 0m 24s (remain 0m 6s) Loss: 0.5804(0.5507) \n",
      "EVAL: [1000/1140] Elapsed 0m 26s (remain 0m 3s) Loss: 0.4674(0.5502) \n",
      "EVAL: [1100/1140] Elapsed 0m 29s (remain 0m 1s) Loss: 0.6259(0.5484) \n"
     ]
    },
    {
     "name": "stderr",
     "output_type": "stream",
     "text": [
      "Epoch 4 - avg_train_loss: 0.5239  avg_val_loss: 0.5485  time: 409s\n",
      "Epoch 4 - Score: 0.8176\n",
      "Epoch 4 - Save Best Score: 0.8176 Model\n"
     ]
    },
    {
     "name": "stdout",
     "output_type": "stream",
     "text": [
      "EVAL: [1139/1140] Elapsed 0m 30s (remain 0m 0s) Loss: 0.4508(0.5485) \n"
     ]
    },
    {
     "name": "stderr",
     "output_type": "stream",
     "text": [
      "========== fold: 2 result ==========\n",
      "Score: 0.8176\n",
      "========== fold: 3 training ==========\n"
     ]
    },
    {
     "name": "stdout",
     "output_type": "stream",
     "text": [
      "\u001b[38;5;40m========== fold: 3 training ==========\u001b[0m\n"
     ]
    },
    {
     "name": "stderr",
     "output_type": "stream",
     "text": [
      "Some weights of the model checkpoint at microsoft/mpnet-base were not used when initializing MPNetModel: ['lm_head.layer_norm.weight', 'lm_head.decoder.bias', 'lm_head.layer_norm.bias', 'lm_head.dense.bias', 'lm_head.dense.weight', 'lm_head.decoder.weight', 'lm_head.bias']\n",
      "- This IS expected if you are initializing MPNetModel from the checkpoint of a model trained on another task or with another architecture (e.g. initializing a BertForSequenceClassification model from a BertForPreTraining model).\n",
      "- This IS NOT expected if you are initializing MPNetModel from the checkpoint of a model that you expect to be exactly identical (initializing a BertForSequenceClassification model from a BertForSequenceClassification model).\n",
      "Some weights of MPNetModel were not initialized from the model checkpoint at microsoft/mpnet-base and are newly initialized: ['mpnet.pooler.dense.weight', 'mpnet.pooler.dense.bias']\n",
      "You should probably TRAIN this model on a down-stream task to be able to use it for predictions and inference.\n",
      "[W pthreadpool-cpp.cc:90] Warning: Leaking Caffe2 thread-pool after fork. (function pthreadpool)\n",
      "[W pthreadpool-cpp.cc:90] Warning: Leaking Caffe2 thread-pool after fork. (function pthreadpool)\n",
      "[W pthreadpool-cpp.cc:90] Warning: Leaking Caffe2 thread-pool after fork. (function pthreadpool)\n",
      "[W pthreadpool-cpp.cc:90] Warning: Leaking Caffe2 thread-pool after fork. (function pthreadpool)\n"
     ]
    },
    {
     "name": "stdout",
     "output_type": "stream",
     "text": [
      "Epoch: [1][0/3419] Elapsed 0m 0s (remain 28m 24s) Loss: 0.7300(0.7300) Grad: inf  LR: 0.00002000  \n",
      "Epoch: [1][100/3419] Elapsed 0m 11s (remain 6m 18s) Loss: 0.6460(0.6608) Grad: 14407.7832  LR: 0.00002000  \n",
      "Epoch: [1][200/3419] Elapsed 0m 22s (remain 6m 0s) Loss: 0.6162(0.6538) Grad: 21517.7891  LR: 0.00001999  \n",
      "Epoch: [1][300/3419] Elapsed 0m 33s (remain 5m 47s) Loss: 0.5633(0.6431) Grad: 29609.5645  LR: 0.00001998  \n",
      "Epoch: [1][400/3419] Elapsed 0m 44s (remain 5m 35s) Loss: 0.7064(0.6361) Grad: 43325.1836  LR: 0.00001996  \n",
      "Epoch: [1][500/3419] Elapsed 0m 55s (remain 5m 23s) Loss: 0.5783(0.6315) Grad: 47926.2539  LR: 0.00001993  \n",
      "Epoch: [1][600/3419] Elapsed 1m 6s (remain 5m 12s) Loss: 0.4472(0.6290) Grad: 46640.2031  LR: 0.00001990  \n",
      "Epoch: [1][700/3419] Elapsed 1m 17s (remain 5m 0s) Loss: 0.6022(0.6234) Grad: 176797.9688  LR: 0.00001987  \n",
      "Epoch: [1][800/3419] Elapsed 1m 28s (remain 4m 49s) Loss: 0.5978(0.6212) Grad: 34588.0312  LR: 0.00001983  \n",
      "Epoch: [1][900/3419] Elapsed 1m 39s (remain 4m 38s) Loss: 0.5452(0.6192) Grad: 22347.4102  LR: 0.00001979  \n",
      "Epoch: [1][1000/3419] Elapsed 1m 50s (remain 4m 27s) Loss: 0.5419(0.6170) Grad: 31455.0938  LR: 0.00001974  \n",
      "Epoch: [1][1100/3419] Elapsed 2m 1s (remain 4m 16s) Loss: 0.5342(0.6154) Grad: 41588.5938  LR: 0.00001968  \n",
      "Epoch: [1][1200/3419] Elapsed 2m 12s (remain 4m 5s) Loss: 0.5815(0.6128) Grad: 70875.6797  LR: 0.00001962  \n",
      "Epoch: [1][1300/3419] Elapsed 2m 23s (remain 3m 54s) Loss: 0.5679(0.6107) Grad: 34773.3789  LR: 0.00001956  \n",
      "Epoch: [1][1400/3419] Elapsed 2m 34s (remain 3m 43s) Loss: 0.4455(0.6090) Grad: 105350.3906  LR: 0.00001949  \n",
      "Epoch: [1][1500/3419] Elapsed 2m 45s (remain 3m 31s) Loss: 0.4940(0.6063) Grad: 55557.0742  LR: 0.00001941  \n",
      "Epoch: [1][1600/3419] Elapsed 2m 56s (remain 3m 20s) Loss: 0.5163(0.6050) Grad: 30971.2285  LR: 0.00001933  \n",
      "Epoch: [1][1700/3419] Elapsed 3m 7s (remain 3m 9s) Loss: 0.6245(0.6030) Grad: 72112.7422  LR: 0.00001925  \n",
      "Epoch: [1][1800/3419] Elapsed 3m 18s (remain 2m 58s) Loss: 0.6249(0.6024) Grad: 97762.0391  LR: 0.00001916  \n",
      "Epoch: [1][1900/3419] Elapsed 3m 29s (remain 2m 47s) Loss: 0.5474(0.6009) Grad: 31232.7441  LR: 0.00001906  \n",
      "Epoch: [1][2000/3419] Elapsed 3m 40s (remain 2m 36s) Loss: 0.5820(0.6001) Grad: 22849.2539  LR: 0.00001896  \n",
      "Epoch: [1][2100/3419] Elapsed 3m 52s (remain 2m 25s) Loss: 0.6506(0.5990) Grad: 40484.5469  LR: 0.00001886  \n",
      "Epoch: [1][2200/3419] Elapsed 4m 3s (remain 2m 14s) Loss: 0.5774(0.5983) Grad: 32579.4629  LR: 0.00001875  \n",
      "Epoch: [1][2300/3419] Elapsed 4m 14s (remain 2m 3s) Loss: 0.6052(0.5973) Grad: 35457.4609  LR: 0.00001864  \n",
      "Epoch: [1][2400/3419] Elapsed 4m 25s (remain 1m 52s) Loss: 0.3922(0.5953) Grad: 56757.3203  LR: 0.00001852  \n",
      "Epoch: [1][2500/3419] Elapsed 4m 36s (remain 1m 41s) Loss: 0.6164(0.5946) Grad: 28671.9863  LR: 0.00001839  \n",
      "Epoch: [1][2600/3419] Elapsed 4m 47s (remain 1m 30s) Loss: 0.5418(0.5942) Grad: 39244.1484  LR: 0.00001827  \n",
      "Epoch: [1][2700/3419] Elapsed 4m 58s (remain 1m 19s) Loss: 0.6480(0.5937) Grad: 93206.4453  LR: 0.00001814  \n",
      "Epoch: [1][2800/3419] Elapsed 5m 9s (remain 1m 8s) Loss: 0.5848(0.5936) Grad: 36588.1289  LR: 0.00001800  \n",
      "Epoch: [1][2900/3419] Elapsed 5m 20s (remain 0m 57s) Loss: 0.6535(0.5932) Grad: 11294.0703  LR: 0.00001786  \n",
      "Epoch: [1][3000/3419] Elapsed 5m 31s (remain 0m 46s) Loss: 0.6037(0.5922) Grad: 8958.3574  LR: 0.00001772  \n",
      "Epoch: [1][3100/3419] Elapsed 5m 42s (remain 0m 35s) Loss: 0.5244(0.5917) Grad: 16229.2881  LR: 0.00001757  \n",
      "Epoch: [1][3200/3419] Elapsed 5m 53s (remain 0m 24s) Loss: 0.6143(0.5908) Grad: 9310.1094  LR: 0.00001742  \n",
      "Epoch: [1][3300/3419] Elapsed 6m 4s (remain 0m 13s) Loss: 0.6455(0.5900) Grad: 6163.1831  LR: 0.00001726  \n",
      "Epoch: [1][3400/3419] Elapsed 6m 15s (remain 0m 1s) Loss: 0.5771(0.5902) Grad: 4572.7397  LR: 0.00001710  \n"
     ]
    },
    {
     "name": "stderr",
     "output_type": "stream",
     "text": [
      "[W pthreadpool-cpp.cc:90] Warning: Leaking Caffe2 thread-pool after fork. (function pthreadpool)\n"
     ]
    },
    {
     "name": "stdout",
     "output_type": "stream",
     "text": [
      "Epoch: [1][3418/3419] Elapsed 6m 17s (remain 0m 0s) Loss: 0.5208(0.5900) Grad: 46459.9023  LR: 0.00001707  \n"
     ]
    },
    {
     "name": "stderr",
     "output_type": "stream",
     "text": [
      "[W pthreadpool-cpp.cc:90] Warning: Leaking Caffe2 thread-pool after fork. (function pthreadpool)\n",
      "[W pthreadpool-cpp.cc:90] Warning: Leaking Caffe2 thread-pool after fork. (function pthreadpool)\n",
      "[W pthreadpool-cpp.cc:90] Warning: Leaking Caffe2 thread-pool after fork. (function pthreadpool)\n",
      "[W pthreadpool-cpp.cc:90] Warning: Leaking Caffe2 thread-pool after fork. (function pthreadpool)\n"
     ]
    },
    {
     "name": "stdout",
     "output_type": "stream",
     "text": [
      "EVAL: [0/1140] Elapsed 0m 0s (remain 3m 33s) Loss: 0.6653(0.6653) \n",
      "EVAL: [100/1140] Elapsed 0m 2s (remain 0m 29s) Loss: 0.7025(0.5547) \n",
      "EVAL: [200/1140] Elapsed 0m 5s (remain 0m 25s) Loss: 0.7153(0.5629) \n",
      "EVAL: [300/1140] Elapsed 0m 8s (remain 0m 22s) Loss: 0.5138(0.5610) \n",
      "EVAL: [400/1140] Elapsed 0m 10s (remain 0m 19s) Loss: 0.5909(0.5616) \n",
      "EVAL: [500/1140] Elapsed 0m 13s (remain 0m 17s) Loss: 0.6588(0.5594) \n",
      "EVAL: [600/1140] Elapsed 0m 16s (remain 0m 14s) Loss: 0.6423(0.5596) \n",
      "EVAL: [700/1140] Elapsed 0m 18s (remain 0m 11s) Loss: 0.5745(0.5602) \n",
      "EVAL: [800/1140] Elapsed 0m 21s (remain 0m 9s) Loss: 0.6335(0.5611) \n",
      "EVAL: [900/1140] Elapsed 0m 24s (remain 0m 6s) Loss: 0.7814(0.5606) \n",
      "EVAL: [1000/1140] Elapsed 0m 26s (remain 0m 3s) Loss: 0.5215(0.5604) \n",
      "EVAL: [1100/1140] Elapsed 0m 29s (remain 0m 1s) Loss: 0.6932(0.5613) \n"
     ]
    },
    {
     "name": "stderr",
     "output_type": "stream",
     "text": [
      "Epoch 1 - avg_train_loss: 0.5900  avg_val_loss: 0.5620  time: 408s\n",
      "Epoch 1 - Score: 0.7677\n",
      "Epoch 1 - Save Best Score: 0.7677 Model\n"
     ]
    },
    {
     "name": "stdout",
     "output_type": "stream",
     "text": [
      "EVAL: [1139/1140] Elapsed 0m 30s (remain 0m 0s) Loss: 0.5419(0.5620) \n"
     ]
    },
    {
     "name": "stderr",
     "output_type": "stream",
     "text": [
      "[W pthreadpool-cpp.cc:90] Warning: Leaking Caffe2 thread-pool after fork. (function pthreadpool)\n",
      "[W pthreadpool-cpp.cc:90] Warning: Leaking Caffe2 thread-pool after fork. (function pthreadpool)\n",
      "[W pthreadpool-cpp.cc:90] Warning: Leaking Caffe2 thread-pool after fork. (function pthreadpool)\n",
      "[W pthreadpool-cpp.cc:90] Warning: Leaking Caffe2 thread-pool after fork. (function pthreadpool)\n"
     ]
    },
    {
     "name": "stdout",
     "output_type": "stream",
     "text": [
      "Epoch: [2][0/3419] Elapsed 0m 0s (remain 23m 15s) Loss: 0.7045(0.7045) Grad: 99599.1328  LR: 0.00001707  \n",
      "Epoch: [2][100/3419] Elapsed 0m 11s (remain 6m 14s) Loss: 0.6145(0.5426) Grad: 49539.9336  LR: 0.00001691  \n",
      "Epoch: [2][200/3419] Elapsed 0m 22s (remain 5m 59s) Loss: 0.5663(0.5527) Grad: 68955.3203  LR: 0.00001674  \n",
      "Epoch: [2][300/3419] Elapsed 0m 33s (remain 5m 46s) Loss: 0.4123(0.5507) Grad: 38419.3086  LR: 0.00001657  \n",
      "Epoch: [2][400/3419] Elapsed 0m 44s (remain 5m 34s) Loss: 0.4404(0.5533) Grad: 119440.6562  LR: 0.00001639  \n",
      "Epoch: [2][500/3419] Elapsed 0m 55s (remain 5m 23s) Loss: 0.5383(0.5529) Grad: 152715.5156  LR: 0.00001621  \n",
      "Epoch: [2][600/3419] Elapsed 1m 6s (remain 5m 12s) Loss: 0.6211(0.5518) Grad: 78661.2891  LR: 0.00001603  \n",
      "Epoch: [2][700/3419] Elapsed 1m 17s (remain 5m 0s) Loss: 0.4166(0.5517) Grad: 88980.5391  LR: 0.00001585  \n",
      "Epoch: [2][800/3419] Elapsed 1m 28s (remain 4m 49s) Loss: 0.5453(0.5512) Grad: 72412.0078  LR: 0.00001566  \n",
      "Epoch: [2][900/3419] Elapsed 1m 39s (remain 4m 38s) Loss: 0.5223(0.5527) Grad: 17659.2148  LR: 0.00001547  \n",
      "Epoch: [2][1000/3419] Elapsed 1m 50s (remain 4m 27s) Loss: 0.4827(0.5521) Grad: 51883.5742  LR: 0.00001527  \n",
      "Epoch: [2][1100/3419] Elapsed 2m 1s (remain 4m 16s) Loss: 0.6380(0.5527) Grad: 16785.5703  LR: 0.00001508  \n",
      "Epoch: [2][1200/3419] Elapsed 2m 12s (remain 4m 5s) Loss: 0.4133(0.5540) Grad: 38413.9375  LR: 0.00001488  \n",
      "Epoch: [2][1300/3419] Elapsed 2m 23s (remain 3m 54s) Loss: 0.5806(0.5539) Grad: 84163.8281  LR: 0.00001468  \n",
      "Epoch: [2][1400/3419] Elapsed 2m 34s (remain 3m 42s) Loss: 0.6021(0.5542) Grad: 27662.4180  LR: 0.00001447  \n",
      "Epoch: [2][1500/3419] Elapsed 2m 45s (remain 3m 31s) Loss: 0.4966(0.5548) Grad: 22945.6348  LR: 0.00001427  \n",
      "Epoch: [2][1600/3419] Elapsed 2m 56s (remain 3m 20s) Loss: 0.4650(0.5547) Grad: 62870.5742  LR: 0.00001406  \n",
      "Epoch: [2][1700/3419] Elapsed 3m 7s (remain 3m 9s) Loss: 0.6665(0.5546) Grad: 18641.1113  LR: 0.00001385  \n",
      "Epoch: [2][1800/3419] Elapsed 3m 18s (remain 2m 58s) Loss: 0.6822(0.5546) Grad: 129297.6797  LR: 0.00001363  \n",
      "Epoch: [2][1900/3419] Elapsed 3m 29s (remain 2m 47s) Loss: 0.5757(0.5546) Grad: 14427.9697  LR: 0.00001342  \n",
      "Epoch: [2][2000/3419] Elapsed 3m 40s (remain 2m 36s) Loss: 0.4871(0.5545) Grad: 14267.0605  LR: 0.00001320  \n",
      "Epoch: [2][2100/3419] Elapsed 3m 52s (remain 2m 25s) Loss: 0.5811(0.5547) Grad: 67974.9922  LR: 0.00001298  \n",
      "Epoch: [2][2200/3419] Elapsed 4m 3s (remain 2m 14s) Loss: 0.7069(0.5549) Grad: 464140.1562  LR: 0.00001276  \n",
      "Epoch: [2][2300/3419] Elapsed 4m 14s (remain 2m 3s) Loss: 0.4552(0.5543) Grad: 48078.4336  LR: 0.00001254  \n",
      "Epoch: [2][2400/3419] Elapsed 4m 25s (remain 1m 52s) Loss: 0.5630(0.5547) Grad: 53057.2539  LR: 0.00001232  \n",
      "Epoch: [2][2500/3419] Elapsed 4m 36s (remain 1m 41s) Loss: 0.5884(0.5542) Grad: 18706.2344  LR: 0.00001209  \n",
      "Epoch: [2][2600/3419] Elapsed 4m 47s (remain 1m 30s) Loss: 0.5669(0.5541) Grad: 23452.4004  LR: 0.00001187  \n",
      "Epoch: [2][2700/3419] Elapsed 4m 58s (remain 1m 19s) Loss: 0.6707(0.5539) Grad: 13179.0205  LR: 0.00001164  \n",
      "Epoch: [2][2800/3419] Elapsed 5m 9s (remain 1m 8s) Loss: 0.5861(0.5535) Grad: 23909.2109  LR: 0.00001142  \n",
      "Epoch: [2][2900/3419] Elapsed 5m 20s (remain 0m 57s) Loss: 0.5737(0.5535) Grad: 41856.0977  LR: 0.00001119  \n",
      "Epoch: [2][3000/3419] Elapsed 5m 31s (remain 0m 46s) Loss: 0.6261(0.5533) Grad: 15479.0420  LR: 0.00001096  \n",
      "Epoch: [2][3100/3419] Elapsed 5m 42s (remain 0m 35s) Loss: 0.4931(0.5530) Grad: 140842.2969  LR: 0.00001073  \n",
      "Epoch: [2][3200/3419] Elapsed 5m 53s (remain 0m 24s) Loss: 0.3480(0.5531) Grad: 15463.1523  LR: 0.00001050  \n",
      "Epoch: [2][3300/3419] Elapsed 6m 4s (remain 0m 13s) Loss: 0.5672(0.5530) Grad: 41709.1055  LR: 0.00001027  \n",
      "Epoch: [2][3400/3419] Elapsed 6m 15s (remain 0m 1s) Loss: 0.4128(0.5528) Grad: 82719.9688  LR: 0.00001004  \n",
      "Epoch: [2][3418/3419] Elapsed 6m 17s (remain 0m 0s) Loss: 0.4876(0.5527) Grad: 25644.9023  LR: 0.00001000  \n"
     ]
    },
    {
     "name": "stderr",
     "output_type": "stream",
     "text": [
      "[W pthreadpool-cpp.cc:90] Warning: Leaking Caffe2 thread-pool after fork. (function pthreadpool)\n",
      "[W pthreadpool-cpp.cc:90] Warning: Leaking Caffe2 thread-pool after fork. (function pthreadpool)\n",
      "[W pthreadpool-cpp.cc:90] Warning: Leaking Caffe2 thread-pool after fork. (function pthreadpool)\n",
      "[W pthreadpool-cpp.cc:90] Warning: Leaking Caffe2 thread-pool after fork. (function pthreadpool)\n"
     ]
    },
    {
     "name": "stdout",
     "output_type": "stream",
     "text": [
      "EVAL: [0/1140] Elapsed 0m 0s (remain 3m 38s) Loss: 0.6075(0.6075) \n",
      "EVAL: [100/1140] Elapsed 0m 2s (remain 0m 29s) Loss: 0.6909(0.5476) \n",
      "EVAL: [200/1140] Elapsed 0m 5s (remain 0m 25s) Loss: 0.7087(0.5578) \n",
      "EVAL: [300/1140] Elapsed 0m 8s (remain 0m 22s) Loss: 0.5032(0.5547) \n",
      "EVAL: [400/1140] Elapsed 0m 10s (remain 0m 19s) Loss: 0.5857(0.5557) \n",
      "EVAL: [500/1140] Elapsed 0m 13s (remain 0m 17s) Loss: 0.6638(0.5536) \n",
      "EVAL: [600/1140] Elapsed 0m 16s (remain 0m 14s) Loss: 0.7473(0.5534) \n",
      "EVAL: [700/1140] Elapsed 0m 18s (remain 0m 11s) Loss: 0.5281(0.5529) \n",
      "EVAL: [800/1140] Elapsed 0m 21s (remain 0m 9s) Loss: 0.6202(0.5524) \n",
      "EVAL: [900/1140] Elapsed 0m 24s (remain 0m 6s) Loss: 0.8052(0.5521) \n",
      "EVAL: [1000/1140] Elapsed 0m 26s (remain 0m 3s) Loss: 0.5123(0.5516) \n",
      "EVAL: [1100/1140] Elapsed 0m 29s (remain 0m 1s) Loss: 0.6675(0.5525) \n"
     ]
    },
    {
     "name": "stderr",
     "output_type": "stream",
     "text": [
      "Epoch 2 - avg_train_loss: 0.5527  avg_val_loss: 0.5532  time: 408s\n",
      "Epoch 2 - Score: 0.7942\n",
      "Epoch 2 - Save Best Score: 0.7942 Model\n"
     ]
    },
    {
     "name": "stdout",
     "output_type": "stream",
     "text": [
      "EVAL: [1139/1140] Elapsed 0m 30s (remain 0m 0s) Loss: 0.5066(0.5532) \n"
     ]
    },
    {
     "name": "stderr",
     "output_type": "stream",
     "text": [
      "[W pthreadpool-cpp.cc:90] Warning: Leaking Caffe2 thread-pool after fork. (function pthreadpool)\n",
      "[W pthreadpool-cpp.cc:90] Warning: Leaking Caffe2 thread-pool after fork. (function pthreadpool)\n",
      "[W pthreadpool-cpp.cc:90] Warning: Leaking Caffe2 thread-pool after fork. (function pthreadpool)\n",
      "[W pthreadpool-cpp.cc:90] Warning: Leaking Caffe2 thread-pool after fork. (function pthreadpool)\n"
     ]
    },
    {
     "name": "stdout",
     "output_type": "stream",
     "text": [
      "Epoch: [3][0/3419] Elapsed 0m 0s (remain 20m 55s) Loss: 0.4826(0.4826) Grad: 85850.5000  LR: 0.00001000  \n",
      "Epoch: [3][100/3419] Elapsed 0m 11s (remain 6m 16s) Loss: 0.6628(0.5323) Grad: 91990.0469  LR: 0.00000977  \n",
      "Epoch: [3][200/3419] Elapsed 0m 22s (remain 5m 59s) Loss: 0.4767(0.5336) Grad: 32273.1211  LR: 0.00000954  \n",
      "Epoch: [3][300/3419] Elapsed 0m 33s (remain 5m 47s) Loss: 0.6791(0.5352) Grad: 62577.6172  LR: 0.00000931  \n",
      "Epoch: [3][400/3419] Elapsed 0m 44s (remain 5m 35s) Loss: 0.6101(0.5320) Grad: 28907.0391  LR: 0.00000908  \n",
      "Epoch: [3][500/3419] Elapsed 0m 55s (remain 5m 23s) Loss: 0.5767(0.5351) Grad: 44546.8594  LR: 0.00000885  \n",
      "Epoch: [3][600/3419] Elapsed 1m 6s (remain 5m 12s) Loss: 0.6225(0.5352) Grad: 32425.4668  LR: 0.00000863  \n",
      "Epoch: [3][700/3419] Elapsed 1m 17s (remain 5m 1s) Loss: 0.4789(0.5349) Grad: 36298.1523  LR: 0.00000840  \n",
      "Epoch: [3][800/3419] Elapsed 1m 28s (remain 4m 49s) Loss: 0.4380(0.5340) Grad: 45175.1094  LR: 0.00000817  \n",
      "Epoch: [3][900/3419] Elapsed 1m 39s (remain 4m 38s) Loss: 0.4251(0.5349) Grad: 36327.9688  LR: 0.00000795  \n",
      "Epoch: [3][1000/3419] Elapsed 1m 50s (remain 4m 27s) Loss: 0.4231(0.5344) Grad: 52552.8438  LR: 0.00000772  \n",
      "Epoch: [3][1100/3419] Elapsed 2m 1s (remain 4m 16s) Loss: 0.3658(0.5335) Grad: 32763.4551  LR: 0.00000750  \n",
      "Epoch: [3][1200/3419] Elapsed 2m 12s (remain 4m 5s) Loss: 0.7023(0.5333) Grad: 185877.3906  LR: 0.00000728  \n",
      "Epoch: [3][1300/3419] Elapsed 2m 23s (remain 3m 54s) Loss: 0.5612(0.5336) Grad: 55736.2969  LR: 0.00000706  \n",
      "Epoch: [3][1400/3419] Elapsed 2m 34s (remain 3m 43s) Loss: 0.6768(0.5348) Grad: 28870.3672  LR: 0.00000684  \n",
      "Epoch: [3][1500/3419] Elapsed 2m 45s (remain 3m 32s) Loss: 0.5017(0.5349) Grad: 15383.2305  LR: 0.00000662  \n",
      "Epoch: [3][1600/3419] Elapsed 2m 56s (remain 3m 20s) Loss: 0.4837(0.5355) Grad: 76431.0938  LR: 0.00000641  \n",
      "Epoch: [3][1700/3419] Elapsed 3m 8s (remain 3m 9s) Loss: 0.4522(0.5360) Grad: 46616.5469  LR: 0.00000619  \n",
      "Epoch: [3][1800/3419] Elapsed 3m 19s (remain 2m 58s) Loss: 0.4352(0.5369) Grad: 20402.1191  LR: 0.00000598  \n",
      "Epoch: [3][1900/3419] Elapsed 3m 30s (remain 2m 47s) Loss: 0.6364(0.5378) Grad: 11578.9316  LR: 0.00000577  \n",
      "Epoch: [3][2000/3419] Elapsed 3m 41s (remain 2m 36s) Loss: 0.6745(0.5376) Grad: 42861.2539  LR: 0.00000556  \n",
      "Epoch: [3][2100/3419] Elapsed 3m 52s (remain 2m 25s) Loss: 0.6838(0.5371) Grad: 23504.4277  LR: 0.00000536  \n",
      "Epoch: [3][2200/3419] Elapsed 4m 3s (remain 2m 14s) Loss: 0.5510(0.5370) Grad: 15445.2900  LR: 0.00000516  \n",
      "Epoch: [3][2300/3419] Elapsed 4m 14s (remain 2m 3s) Loss: 0.4567(0.5368) Grad: 67163.8281  LR: 0.00000496  \n",
      "Epoch: [3][2400/3419] Elapsed 4m 25s (remain 1m 52s) Loss: 0.5623(0.5366) Grad: 21872.7051  LR: 0.00000476  \n",
      "Epoch: [3][2500/3419] Elapsed 4m 36s (remain 1m 41s) Loss: 0.5258(0.5370) Grad: 44580.4727  LR: 0.00000457  \n",
      "Epoch: [3][2600/3419] Elapsed 4m 47s (remain 1m 30s) Loss: 0.5086(0.5370) Grad: 64758.6641  LR: 0.00000438  \n",
      "Epoch: [3][2700/3419] Elapsed 4m 58s (remain 1m 19s) Loss: 0.5255(0.5372) Grad: 14882.7275  LR: 0.00000419  \n",
      "Epoch: [3][2800/3419] Elapsed 5m 9s (remain 1m 8s) Loss: 0.6062(0.5368) Grad: 13832.8398  LR: 0.00000400  \n",
      "Epoch: [3][2900/3419] Elapsed 5m 20s (remain 0m 57s) Loss: 0.4908(0.5365) Grad: 10554.0029  LR: 0.00000382  \n",
      "Epoch: [3][3000/3419] Elapsed 5m 31s (remain 0m 46s) Loss: 0.5964(0.5361) Grad: 21614.4395  LR: 0.00000364  \n",
      "Epoch: [3][3100/3419] Elapsed 5m 42s (remain 0m 35s) Loss: 0.4698(0.5360) Grad: 28164.6152  LR: 0.00000347  \n",
      "Epoch: [3][3200/3419] Elapsed 5m 53s (remain 0m 24s) Loss: 0.4959(0.5360) Grad: 33562.0703  LR: 0.00000329  \n",
      "Epoch: [3][3300/3419] Elapsed 6m 4s (remain 0m 13s) Loss: 0.5284(0.5359) Grad: 22198.2441  LR: 0.00000312  \n",
      "Epoch: [3][3400/3419] Elapsed 6m 15s (remain 0m 1s) Loss: 0.4308(0.5358) Grad: 24376.3242  LR: 0.00000296  \n",
      "Epoch: [3][3418/3419] Elapsed 6m 17s (remain 0m 0s) Loss: 0.6660(0.5359) Grad: 175546.6875  LR: 0.00000293  \n"
     ]
    },
    {
     "name": "stderr",
     "output_type": "stream",
     "text": [
      "[W pthreadpool-cpp.cc:90] Warning: Leaking Caffe2 thread-pool after fork. (function pthreadpool)\n",
      "[W pthreadpool-cpp.cc:90] Warning: Leaking Caffe2 thread-pool after fork. (function pthreadpool)\n",
      "[W pthreadpool-cpp.cc:90] Warning: Leaking Caffe2 thread-pool after fork. (function pthreadpool)\n",
      "[W pthreadpool-cpp.cc:90] Warning: Leaking Caffe2 thread-pool after fork. (function pthreadpool)\n"
     ]
    },
    {
     "name": "stdout",
     "output_type": "stream",
     "text": [
      "EVAL: [0/1140] Elapsed 0m 0s (remain 3m 38s) Loss: 0.5900(0.5900) \n",
      "EVAL: [100/1140] Elapsed 0m 2s (remain 0m 29s) Loss: 0.7063(0.5429) \n",
      "EVAL: [200/1140] Elapsed 0m 5s (remain 0m 25s) Loss: 0.7185(0.5550) \n",
      "EVAL: [300/1140] Elapsed 0m 8s (remain 0m 22s) Loss: 0.5050(0.5513) \n",
      "EVAL: [400/1140] Elapsed 0m 10s (remain 0m 20s) Loss: 0.5919(0.5526) \n",
      "EVAL: [500/1140] Elapsed 0m 13s (remain 0m 17s) Loss: 0.6600(0.5498) \n",
      "EVAL: [600/1140] Elapsed 0m 16s (remain 0m 14s) Loss: 0.7763(0.5493) \n",
      "EVAL: [700/1140] Elapsed 0m 18s (remain 0m 11s) Loss: 0.5221(0.5491) \n",
      "EVAL: [800/1140] Elapsed 0m 21s (remain 0m 9s) Loss: 0.6167(0.5490) \n",
      "EVAL: [900/1140] Elapsed 0m 24s (remain 0m 6s) Loss: 0.8298(0.5494) \n",
      "EVAL: [1000/1140] Elapsed 0m 26s (remain 0m 3s) Loss: 0.4729(0.5489) \n",
      "EVAL: [1100/1140] Elapsed 0m 29s (remain 0m 1s) Loss: 0.6975(0.5501) \n"
     ]
    },
    {
     "name": "stderr",
     "output_type": "stream",
     "text": [
      "Epoch 3 - avg_train_loss: 0.5359  avg_val_loss: 0.5508  time: 408s\n",
      "Epoch 3 - Score: 0.8091\n",
      "Epoch 3 - Save Best Score: 0.8091 Model\n"
     ]
    },
    {
     "name": "stdout",
     "output_type": "stream",
     "text": [
      "EVAL: [1139/1140] Elapsed 0m 30s (remain 0m 0s) Loss: 0.5178(0.5508) \n"
     ]
    },
    {
     "name": "stderr",
     "output_type": "stream",
     "text": [
      "[W pthreadpool-cpp.cc:90] Warning: Leaking Caffe2 thread-pool after fork. (function pthreadpool)\n",
      "[W pthreadpool-cpp.cc:90] Warning: Leaking Caffe2 thread-pool after fork. (function pthreadpool)\n",
      "[W pthreadpool-cpp.cc:90] Warning: Leaking Caffe2 thread-pool after fork. (function pthreadpool)\n",
      "[W pthreadpool-cpp.cc:90] Warning: Leaking Caffe2 thread-pool after fork. (function pthreadpool)\n"
     ]
    },
    {
     "name": "stdout",
     "output_type": "stream",
     "text": [
      "Epoch: [4][0/3419] Elapsed 0m 0s (remain 20m 50s) Loss: 0.7009(0.7009) Grad: 149420.8750  LR: 0.00000293  \n",
      "Epoch: [4][100/3419] Elapsed 0m 11s (remain 6m 17s) Loss: 0.6361(0.5343) Grad: 266786.0000  LR: 0.00000277  \n",
      "Epoch: [4][200/3419] Elapsed 0m 22s (remain 6m 0s) Loss: 0.5674(0.5296) Grad: 43913.8164  LR: 0.00000261  \n",
      "Epoch: [4][300/3419] Elapsed 0m 33s (remain 5m 47s) Loss: 0.4915(0.5320) Grad: 12225.3438  LR: 0.00000246  \n",
      "Epoch: [4][400/3419] Elapsed 0m 44s (remain 5m 35s) Loss: 0.5850(0.5268) Grad: 690801.1250  LR: 0.00000231  \n",
      "Epoch: [4][500/3419] Elapsed 0m 55s (remain 5m 24s) Loss: 0.5073(0.5248) Grad: 106490.0703  LR: 0.00000216  \n",
      "Epoch: [4][600/3419] Elapsed 1m 6s (remain 5m 12s) Loss: 0.6405(0.5265) Grad: 20064.0254  LR: 0.00000202  \n",
      "Epoch: [4][700/3419] Elapsed 1m 17s (remain 5m 1s) Loss: 0.5827(0.5264) Grad: 24308.6035  LR: 0.00000189  \n",
      "Epoch: [4][800/3419] Elapsed 1m 28s (remain 4m 50s) Loss: 0.5260(0.5241) Grad: 31582.2480  LR: 0.00000176  \n",
      "Epoch: [4][900/3419] Elapsed 1m 39s (remain 4m 39s) Loss: 0.6245(0.5232) Grad: 32532.0898  LR: 0.00000163  \n",
      "Epoch: [4][1000/3419] Elapsed 1m 50s (remain 4m 27s) Loss: 0.4407(0.5239) Grad: 10304.4219  LR: 0.00000150  \n",
      "Epoch: [4][1100/3419] Elapsed 2m 1s (remain 4m 16s) Loss: 0.5177(0.5248) Grad: 81770.0000  LR: 0.00000139  \n",
      "Epoch: [4][1200/3419] Elapsed 2m 12s (remain 4m 5s) Loss: 0.4745(0.5247) Grad: 16959.2930  LR: 0.00000127  \n",
      "Epoch: [4][1300/3419] Elapsed 2m 24s (remain 3m 54s) Loss: 0.3599(0.5252) Grad: 52417.0195  LR: 0.00000116  \n",
      "Epoch: [4][1400/3419] Elapsed 2m 35s (remain 3m 43s) Loss: 0.5504(0.5249) Grad: 17263.1094  LR: 0.00000106  \n",
      "Epoch: [4][1500/3419] Elapsed 2m 46s (remain 3m 32s) Loss: 0.5556(0.5242) Grad: 19080.1758  LR: 0.00000096  \n",
      "Epoch: [4][1600/3419] Elapsed 2m 57s (remain 3m 21s) Loss: 0.6308(0.5244) Grad: 11963.3750  LR: 0.00000086  \n",
      "Epoch: [4][1700/3419] Elapsed 3m 8s (remain 3m 10s) Loss: 0.6115(0.5247) Grad: 13524.5781  LR: 0.00000077  \n",
      "Epoch: [4][1800/3419] Elapsed 3m 19s (remain 2m 59s) Loss: 0.5550(0.5248) Grad: 6191.3618  LR: 0.00000068  \n",
      "Epoch: [4][1900/3419] Elapsed 3m 30s (remain 2m 47s) Loss: 0.6077(0.5258) Grad: 15582.1982  LR: 0.00000060  \n",
      "Epoch: [4][2000/3419] Elapsed 3m 41s (remain 2m 36s) Loss: 0.6195(0.5266) Grad: 9826.1562  LR: 0.00000053  \n",
      "Epoch: [4][2100/3419] Elapsed 3m 52s (remain 2m 25s) Loss: 0.5320(0.5267) Grad: 40841.7227  LR: 0.00000046  \n",
      "Epoch: [4][2200/3419] Elapsed 4m 3s (remain 2m 14s) Loss: 0.5008(0.5262) Grad: 26441.0605  LR: 0.00000039  \n",
      "Epoch: [4][2300/3419] Elapsed 4m 14s (remain 2m 3s) Loss: 0.5824(0.5258) Grad: 4548.7192  LR: 0.00000033  \n",
      "Epoch: [4][2400/3419] Elapsed 4m 25s (remain 1m 52s) Loss: 0.5927(0.5260) Grad: 96041.2266  LR: 0.00000027  \n",
      "Epoch: [4][2500/3419] Elapsed 4m 36s (remain 1m 41s) Loss: 0.5088(0.5265) Grad: 7922.8618  LR: 0.00000022  \n",
      "Epoch: [4][2600/3419] Elapsed 4m 47s (remain 1m 30s) Loss: 0.6870(0.5262) Grad: 10763.3975  LR: 0.00000018  \n",
      "Epoch: [4][2700/3419] Elapsed 4m 58s (remain 1m 19s) Loss: 0.5703(0.5266) Grad: 21962.8652  LR: 0.00000014  \n",
      "Epoch: [4][2800/3419] Elapsed 5m 9s (remain 1m 8s) Loss: 0.4893(0.5270) Grad: 4826.5679  LR: 0.00000010  \n",
      "Epoch: [4][2900/3419] Elapsed 5m 20s (remain 0m 57s) Loss: 0.5594(0.5268) Grad: 13415.1484  LR: 0.00000007  \n",
      "Epoch: [4][3000/3419] Elapsed 5m 31s (remain 0m 46s) Loss: 0.5758(0.5272) Grad: 30375.2207  LR: 0.00000005  \n",
      "Epoch: [4][3100/3419] Elapsed 5m 42s (remain 0m 35s) Loss: 0.4236(0.5265) Grad: 6325.3833  LR: 0.00000003  \n",
      "Epoch: [4][3200/3419] Elapsed 5m 53s (remain 0m 24s) Loss: 0.5204(0.5267) Grad: 10312.5674  LR: 0.00000001  \n",
      "Epoch: [4][3300/3419] Elapsed 6m 4s (remain 0m 13s) Loss: 0.5379(0.5273) Grad: 5162.4434  LR: 0.00000000  \n",
      "Epoch: [4][3400/3419] Elapsed 6m 15s (remain 0m 1s) Loss: 0.6266(0.5268) Grad: 6175.7725  LR: 0.00000000  \n",
      "Epoch: [4][3418/3419] Elapsed 6m 17s (remain 0m 0s) Loss: 0.4716(0.5268) Grad: 5325.8755  LR: 0.00000000  \n"
     ]
    },
    {
     "name": "stderr",
     "output_type": "stream",
     "text": [
      "[W pthreadpool-cpp.cc:90] Warning: Leaking Caffe2 thread-pool after fork. (function pthreadpool)\n",
      "[W pthreadpool-cpp.cc:90] Warning: Leaking Caffe2 thread-pool after fork. (function pthreadpool)\n",
      "[W pthreadpool-cpp.cc:90] Warning: Leaking Caffe2 thread-pool after fork. (function pthreadpool)\n",
      "[W pthreadpool-cpp.cc:90] Warning: Leaking Caffe2 thread-pool after fork. (function pthreadpool)\n"
     ]
    },
    {
     "name": "stdout",
     "output_type": "stream",
     "text": [
      "EVAL: [0/1140] Elapsed 0m 0s (remain 3m 42s) Loss: 0.5878(0.5878) \n",
      "EVAL: [100/1140] Elapsed 0m 2s (remain 0m 29s) Loss: 0.7100(0.5433) \n",
      "EVAL: [200/1140] Elapsed 0m 5s (remain 0m 25s) Loss: 0.7179(0.5555) \n",
      "EVAL: [300/1140] Elapsed 0m 8s (remain 0m 22s) Loss: 0.5082(0.5524) \n",
      "EVAL: [400/1140] Elapsed 0m 10s (remain 0m 20s) Loss: 0.5938(0.5538) \n",
      "EVAL: [500/1140] Elapsed 0m 13s (remain 0m 17s) Loss: 0.6580(0.5508) \n",
      "EVAL: [600/1140] Elapsed 0m 16s (remain 0m 14s) Loss: 0.7741(0.5504) \n",
      "EVAL: [700/1140] Elapsed 0m 18s (remain 0m 11s) Loss: 0.5224(0.5503) \n",
      "EVAL: [800/1140] Elapsed 0m 21s (remain 0m 9s) Loss: 0.6162(0.5505) \n",
      "EVAL: [900/1140] Elapsed 0m 24s (remain 0m 6s) Loss: 0.8365(0.5509) \n",
      "EVAL: [1000/1140] Elapsed 0m 26s (remain 0m 3s) Loss: 0.4790(0.5504) \n",
      "EVAL: [1100/1140] Elapsed 0m 29s (remain 0m 1s) Loss: 0.7000(0.5517) \n"
     ]
    },
    {
     "name": "stderr",
     "output_type": "stream",
     "text": [
      "Epoch 4 - avg_train_loss: 0.5268  avg_val_loss: 0.5523  time: 409s\n",
      "Epoch 4 - Score: 0.8086\n"
     ]
    },
    {
     "name": "stdout",
     "output_type": "stream",
     "text": [
      "EVAL: [1139/1140] Elapsed 0m 30s (remain 0m 0s) Loss: 0.5177(0.5523) \n"
     ]
    },
    {
     "name": "stderr",
     "output_type": "stream",
     "text": [
      "========== fold: 3 result ==========\n",
      "Score: 0.8091\n",
      "========== CV ==========\n",
      "Score: 0.8159\n"
     ]
    }
   ],
   "source": [
    "if __name__ == '__main__':\n",
    "    \n",
    "    def get_result(oof_df):\n",
    "        labels = oof_df['score'].values\n",
    "        preds = oof_df['pred'].values\n",
    "        score = get_score(labels, preds)\n",
    "        LOGGER.info(f'Score: {score:<.4f}')\n",
    "    \n",
    "    if CFG.train:\n",
    "        oof_df = pd.DataFrame()\n",
    "        for fold in range(CFG.n_fold):\n",
    "            # if fold in CFG.pass_fold:\n",
    "            #     continue\n",
    "            LOGGER.info(f\"========== fold: {fold} training ==========\")\n",
    "            print(f\"\\033[38;5;40m========== fold: {fold} training ==========\\033[0m\");\n",
    "            if fold in CFG.trn_fold:\n",
    "                # ====================================================\n",
    "                # loader\n",
    "                # ====================================================\n",
    "                folds = train\n",
    "                train_folds = folds[folds['fold'] != fold].reset_index(drop=True)\n",
    "                valid_folds = folds[folds['fold'] == fold].reset_index(drop=True)\n",
    "                valid_labels = valid_folds['score'].values\n",
    "\n",
    "                train_dataset = TrainDataset(CFG, train_folds)\n",
    "                valid_dataset = TrainDataset(CFG, valid_folds)\n",
    "\n",
    "                train_loader = DataLoader(train_dataset,\n",
    "                                          batch_size=CFG.batch_size,\n",
    "                                          shuffle=True,\n",
    "                                          num_workers=CFG.num_workers, pin_memory=True, drop_last=True)\n",
    "                valid_loader = DataLoader(valid_dataset,\n",
    "                                          batch_size=CFG.batch_size,\n",
    "                                          shuffle=False,\n",
    "                                          num_workers=CFG.num_workers, pin_memory=True, drop_last=False)\n",
    "\n",
    "#                 _oof_df = train_loop(train, fold)\n",
    "                _oof_df = train_loop(train_loader, valid_loader)\n",
    "                oof_df = pd.concat([oof_df, _oof_df])\n",
    "                LOGGER.info(f\"========== fold: {fold} result ==========\")\n",
    "                get_result(_oof_df)\n",
    "        oof_df = oof_df.reset_index(drop=True)\n",
    "        LOGGER.info(f\"========== CV ==========\")\n",
    "        get_result(oof_df)\n",
    "        oof_df.to_pickle(OUTPUT_DIR+'oof_df.pkl')\n",
    "        \n",
    "    if CFG.wandb:\n",
    "        wandb.finish()"
   ]
  },
  {
   "cell_type": "code",
   "execution_count": 29,
   "id": "6b65b21c",
   "metadata": {},
   "outputs": [
    {
     "name": "stdout",
     "output_type": "stream",
     "text": [
      "6870.722482204437 hour\n"
     ]
    }
   ],
   "source": [
    "print(f'{time.time()-start} hour')"
   ]
  },
  {
   "cell_type": "code",
   "execution_count": 30,
   "id": "5c638e57",
   "metadata": {},
   "outputs": [],
   "source": [
    "!touch trained_list/mpnet.txt"
   ]
  },
  {
   "cell_type": "code",
   "execution_count": 31,
   "id": "9343b101-0c9b-456d-b0c8-cc5e8b8b1317",
   "metadata": {},
   "outputs": [
    {
     "name": "stderr",
     "output_type": "stream",
     "text": [
      "max_len: 125\n"
     ]
    }
   ],
   "source": [
    "LOGGER.info(f\"max_len: {CFG.max_len}\")"
   ]
  },
  {
   "cell_type": "code",
   "execution_count": null,
   "id": "10743e3c-5bff-46c5-8e9d-0f4b3f051a79",
   "metadata": {},
   "outputs": [],
   "source": []
  },
  {
   "cell_type": "code",
   "execution_count": null,
   "id": "5ffc0430-37d5-4e3c-937c-a24c6c5c96dc",
   "metadata": {},
   "outputs": [],
   "source": []
  },
  {
   "cell_type": "code",
   "execution_count": null,
   "id": "2e30d85c-df17-4211-ab0f-3886dd942276",
   "metadata": {},
   "outputs": [],
   "source": []
  },
  {
   "cell_type": "code",
   "execution_count": null,
   "id": "060989e4-10a2-4eeb-b39e-1451aab2e77c",
   "metadata": {},
   "outputs": [],
   "source": []
  },
  {
   "cell_type": "code",
   "execution_count": null,
   "id": "2f2cb436-b039-4232-9e65-cbf3b509e79b",
   "metadata": {},
   "outputs": [],
   "source": []
  }
 ],
 "metadata": {
  "kernelspec": {
   "display_name": "Python 3 (ipykernel)",
   "language": "python",
   "name": "python3"
  },
  "language_info": {
   "codemirror_mode": {
    "name": "ipython",
    "version": 3
   },
   "file_extension": ".py",
   "mimetype": "text/x-python",
   "name": "python",
   "nbconvert_exporter": "python",
   "pygments_lexer": "ipython3",
   "version": "3.7.12"
  },
  "papermill": {
   "default_parameters": {},
   "duration": 30329.017674,
   "end_time": "2022-03-22T18:05:22.040486",
   "environment_variables": {},
   "exception": null,
   "input_path": "__notebook__.ipynb",
   "output_path": "__notebook__.ipynb",
   "parameters": {},
   "start_time": "2022-03-22T09:39:53.022812",
   "version": "2.3.3"
  },
  "widgets": {
   "application/vnd.jupyter.widget-state+json": {
    "state": {
     "126a1e5f24e44838a03204815209c5dc": {
      "model_module": "@jupyter-widgets/controls",
      "model_module_version": "1.5.0",
      "model_name": "ProgressStyleModel",
      "state": {
       "_model_module": "@jupyter-widgets/controls",
       "_model_module_version": "1.5.0",
       "_model_name": "ProgressStyleModel",
       "_view_count": null,
       "_view_module": "@jupyter-widgets/base",
       "_view_module_version": "1.2.0",
       "_view_name": "StyleView",
       "bar_color": null,
       "description_width": ""
      }
     },
     "12d0d3a78caf4f8c93da02229f2185df": {
      "model_module": "@jupyter-widgets/base",
      "model_module_version": "1.2.0",
      "model_name": "LayoutModel",
      "state": {
       "_model_module": "@jupyter-widgets/base",
       "_model_module_version": "1.2.0",
       "_model_name": "LayoutModel",
       "_view_count": null,
       "_view_module": "@jupyter-widgets/base",
       "_view_module_version": "1.2.0",
       "_view_name": "LayoutView",
       "align_content": null,
       "align_items": null,
       "align_self": null,
       "border": null,
       "bottom": null,
       "display": null,
       "flex": null,
       "flex_flow": null,
       "grid_area": null,
       "grid_auto_columns": null,
       "grid_auto_flow": null,
       "grid_auto_rows": null,
       "grid_column": null,
       "grid_gap": null,
       "grid_row": null,
       "grid_template_areas": null,
       "grid_template_columns": null,
       "grid_template_rows": null,
       "height": null,
       "justify_content": null,
       "justify_items": null,
       "left": null,
       "margin": null,
       "max_height": null,
       "max_width": null,
       "min_height": null,
       "min_width": null,
       "object_fit": null,
       "object_position": null,
       "order": null,
       "overflow": null,
       "overflow_x": null,
       "overflow_y": null,
       "padding": null,
       "right": null,
       "top": null,
       "visibility": null,
       "width": null
      }
     },
     "14972cafd36646939e742a987e1d0ec7": {
      "model_module": "@jupyter-widgets/base",
      "model_module_version": "1.2.0",
      "model_name": "LayoutModel",
      "state": {
       "_model_module": "@jupyter-widgets/base",
       "_model_module_version": "1.2.0",
       "_model_name": "LayoutModel",
       "_view_count": null,
       "_view_module": "@jupyter-widgets/base",
       "_view_module_version": "1.2.0",
       "_view_name": "LayoutView",
       "align_content": null,
       "align_items": null,
       "align_self": null,
       "border": null,
       "bottom": null,
       "display": null,
       "flex": null,
       "flex_flow": null,
       "grid_area": null,
       "grid_auto_columns": null,
       "grid_auto_flow": null,
       "grid_auto_rows": null,
       "grid_column": null,
       "grid_gap": null,
       "grid_row": null,
       "grid_template_areas": null,
       "grid_template_columns": null,
       "grid_template_rows": null,
       "height": null,
       "justify_content": null,
       "justify_items": null,
       "left": null,
       "margin": null,
       "max_height": null,
       "max_width": null,
       "min_height": null,
       "min_width": null,
       "object_fit": null,
       "object_position": null,
       "order": null,
       "overflow": null,
       "overflow_x": null,
       "overflow_y": null,
       "padding": null,
       "right": null,
       "top": null,
       "visibility": null,
       "width": null
      }
     },
     "181ebde2d0064fb99b8ec32e9dc76836": {
      "model_module": "@jupyter-widgets/controls",
      "model_module_version": "1.5.0",
      "model_name": "HTMLModel",
      "state": {
       "_dom_classes": [],
       "_model_module": "@jupyter-widgets/controls",
       "_model_module_version": "1.5.0",
       "_model_name": "HTMLModel",
       "_view_count": null,
       "_view_module": "@jupyter-widgets/controls",
       "_view_module_version": "1.5.0",
       "_view_name": "HTMLView",
       "description": "",
       "description_tooltip": null,
       "layout": "IPY_MODEL_c1e8e53062324cf38fbd75eab01e066a",
       "placeholder": "​",
       "style": "IPY_MODEL_3feaf01a7f7b43ed923effab61b93ac4",
       "value": " 36473/36473 [00:03&lt;00:00, 12012.58it/s]"
      }
     },
     "1c5d07635bff4f7999e3e8486f648aaf": {
      "model_module": "@jupyter-widgets/controls",
      "model_module_version": "1.5.0",
      "model_name": "FloatProgressModel",
      "state": {
       "_dom_classes": [],
       "_model_module": "@jupyter-widgets/controls",
       "_model_module_version": "1.5.0",
       "_model_name": "FloatProgressModel",
       "_view_count": null,
       "_view_module": "@jupyter-widgets/controls",
       "_view_module_version": "1.5.0",
       "_view_name": "ProgressView",
       "bar_style": "success",
       "description": "",
       "description_tooltip": null,
       "layout": "IPY_MODEL_87214ce12c1f422481a0fe3caf5a3ce8",
       "max": 2464616,
       "min": 0,
       "orientation": "horizontal",
       "style": "IPY_MODEL_d9f0d96d140a4115aadfdfc9ce5ba608",
       "value": 2464616
      }
     },
     "1d83ae8940534922833de4d1fdd71216": {
      "model_module": "@jupyter-widgets/base",
      "model_module_version": "1.2.0",
      "model_name": "LayoutModel",
      "state": {
       "_model_module": "@jupyter-widgets/base",
       "_model_module_version": "1.2.0",
       "_model_name": "LayoutModel",
       "_view_count": null,
       "_view_module": "@jupyter-widgets/base",
       "_view_module_version": "1.2.0",
       "_view_name": "LayoutView",
       "align_content": null,
       "align_items": null,
       "align_self": null,
       "border": null,
       "bottom": null,
       "display": null,
       "flex": null,
       "flex_flow": null,
       "grid_area": null,
       "grid_auto_columns": null,
       "grid_auto_flow": null,
       "grid_auto_rows": null,
       "grid_column": null,
       "grid_gap": null,
       "grid_row": null,
       "grid_template_areas": null,
       "grid_template_columns": null,
       "grid_template_rows": null,
       "height": null,
       "justify_content": null,
       "justify_items": null,
       "left": null,
       "margin": null,
       "max_height": null,
       "max_width": null,
       "min_height": null,
       "min_width": null,
       "object_fit": null,
       "object_position": null,
       "order": null,
       "overflow": null,
       "overflow_x": null,
       "overflow_y": null,
       "padding": null,
       "right": null,
       "top": null,
       "visibility": null,
       "width": null
      }
     },
     "2373dbe30aca4d64b94b5bb64216151e": {
      "model_module": "@jupyter-widgets/base",
      "model_module_version": "1.2.0",
      "model_name": "LayoutModel",
      "state": {
       "_model_module": "@jupyter-widgets/base",
       "_model_module_version": "1.2.0",
       "_model_name": "LayoutModel",
       "_view_count": null,
       "_view_module": "@jupyter-widgets/base",
       "_view_module_version": "1.2.0",
       "_view_name": "LayoutView",
       "align_content": null,
       "align_items": null,
       "align_self": null,
       "border": null,
       "bottom": null,
       "display": null,
       "flex": null,
       "flex_flow": null,
       "grid_area": null,
       "grid_auto_columns": null,
       "grid_auto_flow": null,
       "grid_auto_rows": null,
       "grid_column": null,
       "grid_gap": null,
       "grid_row": null,
       "grid_template_areas": null,
       "grid_template_columns": null,
       "grid_template_rows": null,
       "height": null,
       "justify_content": null,
       "justify_items": null,
       "left": null,
       "margin": null,
       "max_height": null,
       "max_width": null,
       "min_height": null,
       "min_width": null,
       "object_fit": null,
       "object_position": null,
       "order": null,
       "overflow": null,
       "overflow_x": null,
       "overflow_y": null,
       "padding": null,
       "right": null,
       "top": null,
       "visibility": null,
       "width": null
      }
     },
     "251e902150c543d2a2212b4250931617": {
      "model_module": "@jupyter-widgets/controls",
      "model_module_version": "1.5.0",
      "model_name": "HBoxModel",
      "state": {
       "_dom_classes": [],
       "_model_module": "@jupyter-widgets/controls",
       "_model_module_version": "1.5.0",
       "_model_name": "HBoxModel",
       "_view_count": null,
       "_view_module": "@jupyter-widgets/controls",
       "_view_module_version": "1.5.0",
       "_view_name": "HBoxView",
       "box_style": "",
       "children": [
        "IPY_MODEL_7d211c0746b64a0b935fa964ad7bd858",
        "IPY_MODEL_432a848a161c4a0888dad1ac9c5408c3",
        "IPY_MODEL_181ebde2d0064fb99b8ec32e9dc76836"
       ],
       "layout": "IPY_MODEL_5d82f1a2cf554609ba65dfb95dc152e5"
      }
     },
     "2866d577bb3049b283da7c969f175d91": {
      "model_module": "@jupyter-widgets/controls",
      "model_module_version": "1.5.0",
      "model_name": "HBoxModel",
      "state": {
       "_dom_classes": [],
       "_model_module": "@jupyter-widgets/controls",
       "_model_module_version": "1.5.0",
       "_model_name": "HBoxModel",
       "_view_count": null,
       "_view_module": "@jupyter-widgets/controls",
       "_view_module_version": "1.5.0",
       "_view_name": "HBoxView",
       "box_style": "",
       "children": [
        "IPY_MODEL_673fb48e7dca47f4a3754d06af7dcf1f",
        "IPY_MODEL_bba517b096dd460cb764ccd71b57f148",
        "IPY_MODEL_362ef79e65894ea9aaae390562257f58"
       ],
       "layout": "IPY_MODEL_9d403276e05f4c368e46f353070b9d9a"
      }
     },
     "291ab6d32ec345ee8adaa6f354bfcfb4": {
      "model_module": "@jupyter-widgets/controls",
      "model_module_version": "1.5.0",
      "model_name": "HTMLModel",
      "state": {
       "_dom_classes": [],
       "_model_module": "@jupyter-widgets/controls",
       "_model_module_version": "1.5.0",
       "_model_name": "HTMLModel",
       "_view_count": null,
       "_view_module": "@jupyter-widgets/controls",
       "_view_module_version": "1.5.0",
       "_view_name": "HTMLView",
       "description": "",
       "description_tooltip": null,
       "layout": "IPY_MODEL_12d0d3a78caf4f8c93da02229f2185df",
       "placeholder": "​",
       "style": "IPY_MODEL_de3e60ed24f04a7ab49a05b98b7cf0f0",
       "value": " 36473/36473 [00:03&lt;00:00, 7261.90it/s]"
      }
     },
     "341389680b6a43d8b6b3de95dffca671": {
      "model_module": "@jupyter-widgets/base",
      "model_module_version": "1.2.0",
      "model_name": "LayoutModel",
      "state": {
       "_model_module": "@jupyter-widgets/base",
       "_model_module_version": "1.2.0",
       "_model_name": "LayoutModel",
       "_view_count": null,
       "_view_module": "@jupyter-widgets/base",
       "_view_module_version": "1.2.0",
       "_view_name": "LayoutView",
       "align_content": null,
       "align_items": null,
       "align_self": null,
       "border": null,
       "bottom": null,
       "display": null,
       "flex": null,
       "flex_flow": null,
       "grid_area": null,
       "grid_auto_columns": null,
       "grid_auto_flow": null,
       "grid_auto_rows": null,
       "grid_column": null,
       "grid_gap": null,
       "grid_row": null,
       "grid_template_areas": null,
       "grid_template_columns": null,
       "grid_template_rows": null,
       "height": null,
       "justify_content": null,
       "justify_items": null,
       "left": null,
       "margin": null,
       "max_height": null,
       "max_width": null,
       "min_height": null,
       "min_width": null,
       "object_fit": null,
       "object_position": null,
       "order": null,
       "overflow": null,
       "overflow_x": null,
       "overflow_y": null,
       "padding": null,
       "right": null,
       "top": null,
       "visibility": null,
       "width": null
      }
     },
     "349e43c8d4114c36823434cef63fc567": {
      "model_module": "@jupyter-widgets/controls",
      "model_module_version": "1.5.0",
      "model_name": "ProgressStyleModel",
      "state": {
       "_model_module": "@jupyter-widgets/controls",
       "_model_module_version": "1.5.0",
       "_model_name": "ProgressStyleModel",
       "_view_count": null,
       "_view_module": "@jupyter-widgets/base",
       "_view_module_version": "1.2.0",
       "_view_name": "StyleView",
       "bar_color": null,
       "description_width": ""
      }
     },
     "35cb92ba1b2d4932bc3a0b0640f71b0c": {
      "model_module": "@jupyter-widgets/controls",
      "model_module_version": "1.5.0",
      "model_name": "DescriptionStyleModel",
      "state": {
       "_model_module": "@jupyter-widgets/controls",
       "_model_module_version": "1.5.0",
       "_model_name": "DescriptionStyleModel",
       "_view_count": null,
       "_view_module": "@jupyter-widgets/base",
       "_view_module_version": "1.2.0",
       "_view_name": "StyleView",
       "description_width": ""
      }
     },
     "360314d0f3254b66818b8a62223c2b0b": {
      "model_module": "@jupyter-widgets/base",
      "model_module_version": "1.2.0",
      "model_name": "LayoutModel",
      "state": {
       "_model_module": "@jupyter-widgets/base",
       "_model_module_version": "1.2.0",
       "_model_name": "LayoutModel",
       "_view_count": null,
       "_view_module": "@jupyter-widgets/base",
       "_view_module_version": "1.2.0",
       "_view_name": "LayoutView",
       "align_content": null,
       "align_items": null,
       "align_self": null,
       "border": null,
       "bottom": null,
       "display": null,
       "flex": null,
       "flex_flow": null,
       "grid_area": null,
       "grid_auto_columns": null,
       "grid_auto_flow": null,
       "grid_auto_rows": null,
       "grid_column": null,
       "grid_gap": null,
       "grid_row": null,
       "grid_template_areas": null,
       "grid_template_columns": null,
       "grid_template_rows": null,
       "height": null,
       "justify_content": null,
       "justify_items": null,
       "left": null,
       "margin": null,
       "max_height": null,
       "max_width": null,
       "min_height": null,
       "min_width": null,
       "object_fit": null,
       "object_position": null,
       "order": null,
       "overflow": null,
       "overflow_x": null,
       "overflow_y": null,
       "padding": null,
       "right": null,
       "top": null,
       "visibility": null,
       "width": null
      }
     },
     "362ef79e65894ea9aaae390562257f58": {
      "model_module": "@jupyter-widgets/controls",
      "model_module_version": "1.5.0",
      "model_name": "HTMLModel",
      "state": {
       "_dom_classes": [],
       "_model_module": "@jupyter-widgets/controls",
       "_model_module_version": "1.5.0",
       "_model_name": "HTMLModel",
       "_view_count": null,
       "_view_module": "@jupyter-widgets/controls",
       "_view_module_version": "1.5.0",
       "_view_name": "HTMLView",
       "description": "",
       "description_tooltip": null,
       "layout": "IPY_MODEL_4e94a902a0d44b1eacfaeee99cd470d2",
       "placeholder": "​",
       "style": "IPY_MODEL_ad6386dafce545c48eac271bb2a3c0dd",
       "value": " 136/136 [00:00&lt;00:00, 2149.45it/s]"
      }
     },
     "39512e7ede884ec1b6fe92f794e1d74d": {
      "model_module": "@jupyter-widgets/base",
      "model_module_version": "1.2.0",
      "model_name": "LayoutModel",
      "state": {
       "_model_module": "@jupyter-widgets/base",
       "_model_module_version": "1.2.0",
       "_model_name": "LayoutModel",
       "_view_count": null,
       "_view_module": "@jupyter-widgets/base",
       "_view_module_version": "1.2.0",
       "_view_name": "LayoutView",
       "align_content": null,
       "align_items": null,
       "align_self": null,
       "border": null,
       "bottom": null,
       "display": null,
       "flex": null,
       "flex_flow": null,
       "grid_area": null,
       "grid_auto_columns": null,
       "grid_auto_flow": null,
       "grid_auto_rows": null,
       "grid_column": null,
       "grid_gap": null,
       "grid_row": null,
       "grid_template_areas": null,
       "grid_template_columns": null,
       "grid_template_rows": null,
       "height": null,
       "justify_content": null,
       "justify_items": null,
       "left": null,
       "margin": null,
       "max_height": null,
       "max_width": null,
       "min_height": null,
       "min_width": null,
       "object_fit": null,
       "object_position": null,
       "order": null,
       "overflow": null,
       "overflow_x": null,
       "overflow_y": null,
       "padding": null,
       "right": null,
       "top": null,
       "visibility": null,
       "width": null
      }
     },
     "3b0ebe22bd154b01bcb4d6b2ab2dec83": {
      "model_module": "@jupyter-widgets/controls",
      "model_module_version": "1.5.0",
      "model_name": "HTMLModel",
      "state": {
       "_dom_classes": [],
       "_model_module": "@jupyter-widgets/controls",
       "_model_module_version": "1.5.0",
       "_model_name": "HTMLModel",
       "_view_count": null,
       "_view_module": "@jupyter-widgets/controls",
       "_view_module_version": "1.5.0",
       "_view_name": "HTMLView",
       "description": "",
       "description_tooltip": null,
       "layout": "IPY_MODEL_ad4745f1eca942009bdf6cf12913f34a",
       "placeholder": "​",
       "style": "IPY_MODEL_d3b6e4a4aac943b79ba51bbacd77907e",
       "value": " 2.35M/2.35M [00:00&lt;00:00, 4.49MB/s]"
      }
     },
     "3e601d15c9ef4bd1b05e70f9267e1dfe": {
      "model_module": "@jupyter-widgets/controls",
      "model_module_version": "1.5.0",
      "model_name": "DescriptionStyleModel",
      "state": {
       "_model_module": "@jupyter-widgets/controls",
       "_model_module_version": "1.5.0",
       "_model_name": "DescriptionStyleModel",
       "_view_count": null,
       "_view_module": "@jupyter-widgets/base",
       "_view_module_version": "1.2.0",
       "_view_name": "StyleView",
       "description_width": ""
      }
     },
     "3feaf01a7f7b43ed923effab61b93ac4": {
      "model_module": "@jupyter-widgets/controls",
      "model_module_version": "1.5.0",
      "model_name": "DescriptionStyleModel",
      "state": {
       "_model_module": "@jupyter-widgets/controls",
       "_model_module_version": "1.5.0",
       "_model_name": "DescriptionStyleModel",
       "_view_count": null,
       "_view_module": "@jupyter-widgets/base",
       "_view_module_version": "1.2.0",
       "_view_name": "StyleView",
       "description_width": ""
      }
     },
     "4133e3e34f97426c9bebda989ec7e167": {
      "model_module": "@jupyter-widgets/controls",
      "model_module_version": "1.5.0",
      "model_name": "HBoxModel",
      "state": {
       "_dom_classes": [],
       "_model_module": "@jupyter-widgets/controls",
       "_model_module_version": "1.5.0",
       "_model_name": "HBoxModel",
       "_view_count": null,
       "_view_module": "@jupyter-widgets/controls",
       "_view_module_version": "1.5.0",
       "_view_name": "HBoxView",
       "box_style": "",
       "children": [
        "IPY_MODEL_48b36757767f4ff39f262dd63e844057",
        "IPY_MODEL_a03e24ff8fc54bccaa69e36839b36bab",
        "IPY_MODEL_e3e17f880bab4d47a1531bebac861fda"
       ],
       "layout": "IPY_MODEL_da88817e8aed48399b1948f8e004ee97"
      }
     },
     "43014906a0084e288ab06cb3ebf57538": {
      "model_module": "@jupyter-widgets/controls",
      "model_module_version": "1.5.0",
      "model_name": "HTMLModel",
      "state": {
       "_dom_classes": [],
       "_model_module": "@jupyter-widgets/controls",
       "_model_module_version": "1.5.0",
       "_model_name": "HTMLModel",
       "_view_count": null,
       "_view_module": "@jupyter-widgets/controls",
       "_view_module_version": "1.5.0",
       "_view_name": "HTMLView",
       "description": "",
       "description_tooltip": null,
       "layout": "IPY_MODEL_968e2989cea6490d9ee08b6700291242",
       "placeholder": "​",
       "style": "IPY_MODEL_929108014ee94c9092394cf7ef09134f",
       "value": "Downloading: 100%"
      }
     },
     "432a848a161c4a0888dad1ac9c5408c3": {
      "model_module": "@jupyter-widgets/controls",
      "model_module_version": "1.5.0",
      "model_name": "FloatProgressModel",
      "state": {
       "_dom_classes": [],
       "_model_module": "@jupyter-widgets/controls",
       "_model_module_version": "1.5.0",
       "_model_name": "FloatProgressModel",
       "_view_count": null,
       "_view_module": "@jupyter-widgets/controls",
       "_view_module_version": "1.5.0",
       "_view_name": "ProgressView",
       "bar_style": "success",
       "description": "",
       "description_tooltip": null,
       "layout": "IPY_MODEL_39512e7ede884ec1b6fe92f794e1d74d",
       "max": 36473,
       "min": 0,
       "orientation": "horizontal",
       "style": "IPY_MODEL_466a744f951d433da986e75bc9fd3b69",
       "value": 36473
      }
     },
     "466a744f951d433da986e75bc9fd3b69": {
      "model_module": "@jupyter-widgets/controls",
      "model_module_version": "1.5.0",
      "model_name": "ProgressStyleModel",
      "state": {
       "_model_module": "@jupyter-widgets/controls",
       "_model_module_version": "1.5.0",
       "_model_name": "ProgressStyleModel",
       "_view_count": null,
       "_view_module": "@jupyter-widgets/base",
       "_view_module_version": "1.2.0",
       "_view_name": "StyleView",
       "bar_color": null,
       "description_width": ""
      }
     },
     "46ab7441760642718f381e7f430e16a0": {
      "model_module": "@jupyter-widgets/controls",
      "model_module_version": "1.5.0",
      "model_name": "DescriptionStyleModel",
      "state": {
       "_model_module": "@jupyter-widgets/controls",
       "_model_module_version": "1.5.0",
       "_model_name": "DescriptionStyleModel",
       "_view_count": null,
       "_view_module": "@jupyter-widgets/base",
       "_view_module_version": "1.2.0",
       "_view_name": "StyleView",
       "description_width": ""
      }
     },
     "48b36757767f4ff39f262dd63e844057": {
      "model_module": "@jupyter-widgets/controls",
      "model_module_version": "1.5.0",
      "model_name": "HTMLModel",
      "state": {
       "_dom_classes": [],
       "_model_module": "@jupyter-widgets/controls",
       "_model_module_version": "1.5.0",
       "_model_name": "HTMLModel",
       "_view_count": null,
       "_view_module": "@jupyter-widgets/controls",
       "_view_module_version": "1.5.0",
       "_view_name": "HTMLView",
       "description": "",
       "description_tooltip": null,
       "layout": "IPY_MODEL_14972cafd36646939e742a987e1d0ec7",
       "placeholder": "​",
       "style": "IPY_MODEL_3e601d15c9ef4bd1b05e70f9267e1dfe",
       "value": "Downloading: 100%"
      }
     },
     "4c514a00a080445da009d272716b3577": {
      "model_module": "@jupyter-widgets/controls",
      "model_module_version": "1.5.0",
      "model_name": "HTMLModel",
      "state": {
       "_dom_classes": [],
       "_model_module": "@jupyter-widgets/controls",
       "_model_module_version": "1.5.0",
       "_model_name": "HTMLModel",
       "_view_count": null,
       "_view_module": "@jupyter-widgets/controls",
       "_view_module_version": "1.5.0",
       "_view_name": "HTMLView",
       "description": "",
       "description_tooltip": null,
       "layout": "IPY_MODEL_81b1213eb9dc4aa083951352d9f6beaf",
       "placeholder": "​",
       "style": "IPY_MODEL_7603cb9268524ed3821b4f307f74d15e",
       "value": "Downloading: 100%"
      }
     },
     "4e94a902a0d44b1eacfaeee99cd470d2": {
      "model_module": "@jupyter-widgets/base",
      "model_module_version": "1.2.0",
      "model_name": "LayoutModel",
      "state": {
       "_model_module": "@jupyter-widgets/base",
       "_model_module_version": "1.2.0",
       "_model_name": "LayoutModel",
       "_view_count": null,
       "_view_module": "@jupyter-widgets/base",
       "_view_module_version": "1.2.0",
       "_view_name": "LayoutView",
       "align_content": null,
       "align_items": null,
       "align_self": null,
       "border": null,
       "bottom": null,
       "display": null,
       "flex": null,
       "flex_flow": null,
       "grid_area": null,
       "grid_auto_columns": null,
       "grid_auto_flow": null,
       "grid_auto_rows": null,
       "grid_column": null,
       "grid_gap": null,
       "grid_row": null,
       "grid_template_areas": null,
       "grid_template_columns": null,
       "grid_template_rows": null,
       "height": null,
       "justify_content": null,
       "justify_items": null,
       "left": null,
       "margin": null,
       "max_height": null,
       "max_width": null,
       "min_height": null,
       "min_width": null,
       "object_fit": null,
       "object_position": null,
       "order": null,
       "overflow": null,
       "overflow_x": null,
       "overflow_y": null,
       "padding": null,
       "right": null,
       "top": null,
       "visibility": null,
       "width": null
      }
     },
     "5235854cc7964193afec8b3316b36ef7": {
      "model_module": "@jupyter-widgets/controls",
      "model_module_version": "1.5.0",
      "model_name": "HBoxModel",
      "state": {
       "_dom_classes": [],
       "_model_module": "@jupyter-widgets/controls",
       "_model_module_version": "1.5.0",
       "_model_name": "HBoxModel",
       "_view_count": null,
       "_view_module": "@jupyter-widgets/controls",
       "_view_module_version": "1.5.0",
       "_view_name": "HBoxView",
       "box_style": "",
       "children": [
        "IPY_MODEL_58c973b1ea8a446e9993f32d3612c8b9",
        "IPY_MODEL_b849e52bd84942e583de4b9325c96afe",
        "IPY_MODEL_291ab6d32ec345ee8adaa6f354bfcfb4"
       ],
       "layout": "IPY_MODEL_fb6b7fc69b2549ab9d80d71017422178"
      }
     },
     "58c973b1ea8a446e9993f32d3612c8b9": {
      "model_module": "@jupyter-widgets/controls",
      "model_module_version": "1.5.0",
      "model_name": "HTMLModel",
      "state": {
       "_dom_classes": [],
       "_model_module": "@jupyter-widgets/controls",
       "_model_module_version": "1.5.0",
       "_model_name": "HTMLModel",
       "_view_count": null,
       "_view_module": "@jupyter-widgets/controls",
       "_view_module_version": "1.5.0",
       "_view_name": "HTMLView",
       "description": "",
       "description_tooltip": null,
       "layout": "IPY_MODEL_360314d0f3254b66818b8a62223c2b0b",
       "placeholder": "​",
       "style": "IPY_MODEL_c5de80b22af543edb57e65780298069e",
       "value": "100%"
      }
     },
     "5a2b3274110a42159fcfb2e01ceea10a": {
      "model_module": "@jupyter-widgets/controls",
      "model_module_version": "1.5.0",
      "model_name": "HBoxModel",
      "state": {
       "_dom_classes": [],
       "_model_module": "@jupyter-widgets/controls",
       "_model_module_version": "1.5.0",
       "_model_name": "HBoxModel",
       "_view_count": null,
       "_view_module": "@jupyter-widgets/controls",
       "_view_module_version": "1.5.0",
       "_view_name": "HBoxView",
       "box_style": "",
       "children": [
        "IPY_MODEL_43014906a0084e288ab06cb3ebf57538",
        "IPY_MODEL_1c5d07635bff4f7999e3e8486f648aaf",
        "IPY_MODEL_3b0ebe22bd154b01bcb4d6b2ab2dec83"
       ],
       "layout": "IPY_MODEL_2373dbe30aca4d64b94b5bb64216151e"
      }
     },
     "5d82f1a2cf554609ba65dfb95dc152e5": {
      "model_module": "@jupyter-widgets/base",
      "model_module_version": "1.2.0",
      "model_name": "LayoutModel",
      "state": {
       "_model_module": "@jupyter-widgets/base",
       "_model_module_version": "1.2.0",
       "_model_name": "LayoutModel",
       "_view_count": null,
       "_view_module": "@jupyter-widgets/base",
       "_view_module_version": "1.2.0",
       "_view_name": "LayoutView",
       "align_content": null,
       "align_items": null,
       "align_self": null,
       "border": null,
       "bottom": null,
       "display": null,
       "flex": null,
       "flex_flow": null,
       "grid_area": null,
       "grid_auto_columns": null,
       "grid_auto_flow": null,
       "grid_auto_rows": null,
       "grid_column": null,
       "grid_gap": null,
       "grid_row": null,
       "grid_template_areas": null,
       "grid_template_columns": null,
       "grid_template_rows": null,
       "height": null,
       "justify_content": null,
       "justify_items": null,
       "left": null,
       "margin": null,
       "max_height": null,
       "max_width": null,
       "min_height": null,
       "min_width": null,
       "object_fit": null,
       "object_position": null,
       "order": null,
       "overflow": null,
       "overflow_x": null,
       "overflow_y": null,
       "padding": null,
       "right": null,
       "top": null,
       "visibility": null,
       "width": null
      }
     },
     "5ffb53b010e948a0918366a7721dd7a9": {
      "model_module": "@jupyter-widgets/controls",
      "model_module_version": "1.5.0",
      "model_name": "LabelModel",
      "state": {
       "_dom_classes": [],
       "_model_module": "@jupyter-widgets/controls",
       "_model_module_version": "1.5.0",
       "_model_name": "LabelModel",
       "_view_count": null,
       "_view_module": "@jupyter-widgets/controls",
       "_view_module_version": "1.5.0",
       "_view_name": "LabelView",
       "description": "",
       "description_tooltip": null,
       "layout": "IPY_MODEL_aaf4c8e1ae794178bd2db64c5c27edcd",
       "placeholder": "​",
       "style": "IPY_MODEL_ff0d93c0f2a54cae8698028db31d1454",
       "value": "0.065 MB of 0.065 MB uploaded (0.000 MB deduped)\r"
      }
     },
     "65f9dfd885184f818373dcaf8b820da7": {
      "model_module": "@jupyter-widgets/base",
      "model_module_version": "1.2.0",
      "model_name": "LayoutModel",
      "state": {
       "_model_module": "@jupyter-widgets/base",
       "_model_module_version": "1.2.0",
       "_model_name": "LayoutModel",
       "_view_count": null,
       "_view_module": "@jupyter-widgets/base",
       "_view_module_version": "1.2.0",
       "_view_name": "LayoutView",
       "align_content": null,
       "align_items": null,
       "align_self": null,
       "border": null,
       "bottom": null,
       "display": null,
       "flex": null,
       "flex_flow": null,
       "grid_area": null,
       "grid_auto_columns": null,
       "grid_auto_flow": null,
       "grid_auto_rows": null,
       "grid_column": null,
       "grid_gap": null,
       "grid_row": null,
       "grid_template_areas": null,
       "grid_template_columns": null,
       "grid_template_rows": null,
       "height": null,
       "justify_content": null,
       "justify_items": null,
       "left": null,
       "margin": null,
       "max_height": null,
       "max_width": null,
       "min_height": null,
       "min_width": null,
       "object_fit": null,
       "object_position": null,
       "order": null,
       "overflow": null,
       "overflow_x": null,
       "overflow_y": null,
       "padding": null,
       "right": null,
       "top": null,
       "visibility": null,
       "width": null
      }
     },
     "673fb48e7dca47f4a3754d06af7dcf1f": {
      "model_module": "@jupyter-widgets/controls",
      "model_module_version": "1.5.0",
      "model_name": "HTMLModel",
      "state": {
       "_dom_classes": [],
       "_model_module": "@jupyter-widgets/controls",
       "_model_module_version": "1.5.0",
       "_model_name": "HTMLModel",
       "_view_count": null,
       "_view_module": "@jupyter-widgets/controls",
       "_view_module_version": "1.5.0",
       "_view_name": "HTMLView",
       "description": "",
       "description_tooltip": null,
       "layout": "IPY_MODEL_749c407f4aa34689954d06117f699f3c",
       "placeholder": "​",
       "style": "IPY_MODEL_bb944cd3fb694105a4d535f4e9c333a8",
       "value": "100%"
      }
     },
     "6947506e822e46d99b4dd82a8a4209cd": {
      "model_module": "@jupyter-widgets/base",
      "model_module_version": "1.2.0",
      "model_name": "LayoutModel",
      "state": {
       "_model_module": "@jupyter-widgets/base",
       "_model_module_version": "1.2.0",
       "_model_name": "LayoutModel",
       "_view_count": null,
       "_view_module": "@jupyter-widgets/base",
       "_view_module_version": "1.2.0",
       "_view_name": "LayoutView",
       "align_content": null,
       "align_items": null,
       "align_self": null,
       "border": null,
       "bottom": null,
       "display": null,
       "flex": null,
       "flex_flow": null,
       "grid_area": null,
       "grid_auto_columns": null,
       "grid_auto_flow": null,
       "grid_auto_rows": null,
       "grid_column": null,
       "grid_gap": null,
       "grid_row": null,
       "grid_template_areas": null,
       "grid_template_columns": null,
       "grid_template_rows": null,
       "height": null,
       "justify_content": null,
       "justify_items": null,
       "left": null,
       "margin": null,
       "max_height": null,
       "max_width": null,
       "min_height": null,
       "min_width": null,
       "object_fit": null,
       "object_position": null,
       "order": null,
       "overflow": null,
       "overflow_x": null,
       "overflow_y": null,
       "padding": null,
       "right": null,
       "top": null,
       "visibility": null,
       "width": null
      }
     },
     "749c407f4aa34689954d06117f699f3c": {
      "model_module": "@jupyter-widgets/base",
      "model_module_version": "1.2.0",
      "model_name": "LayoutModel",
      "state": {
       "_model_module": "@jupyter-widgets/base",
       "_model_module_version": "1.2.0",
       "_model_name": "LayoutModel",
       "_view_count": null,
       "_view_module": "@jupyter-widgets/base",
       "_view_module_version": "1.2.0",
       "_view_name": "LayoutView",
       "align_content": null,
       "align_items": null,
       "align_self": null,
       "border": null,
       "bottom": null,
       "display": null,
       "flex": null,
       "flex_flow": null,
       "grid_area": null,
       "grid_auto_columns": null,
       "grid_auto_flow": null,
       "grid_auto_rows": null,
       "grid_column": null,
       "grid_gap": null,
       "grid_row": null,
       "grid_template_areas": null,
       "grid_template_columns": null,
       "grid_template_rows": null,
       "height": null,
       "justify_content": null,
       "justify_items": null,
       "left": null,
       "margin": null,
       "max_height": null,
       "max_width": null,
       "min_height": null,
       "min_width": null,
       "object_fit": null,
       "object_position": null,
       "order": null,
       "overflow": null,
       "overflow_x": null,
       "overflow_y": null,
       "padding": null,
       "right": null,
       "top": null,
       "visibility": null,
       "width": null
      }
     },
     "7603cb9268524ed3821b4f307f74d15e": {
      "model_module": "@jupyter-widgets/controls",
      "model_module_version": "1.5.0",
      "model_name": "DescriptionStyleModel",
      "state": {
       "_model_module": "@jupyter-widgets/controls",
       "_model_module_version": "1.5.0",
       "_model_name": "DescriptionStyleModel",
       "_view_count": null,
       "_view_module": "@jupyter-widgets/base",
       "_view_module_version": "1.2.0",
       "_view_name": "StyleView",
       "description_width": ""
      }
     },
     "7d211c0746b64a0b935fa964ad7bd858": {
      "model_module": "@jupyter-widgets/controls",
      "model_module_version": "1.5.0",
      "model_name": "HTMLModel",
      "state": {
       "_dom_classes": [],
       "_model_module": "@jupyter-widgets/controls",
       "_model_module_version": "1.5.0",
       "_model_name": "HTMLModel",
       "_view_count": null,
       "_view_module": "@jupyter-widgets/controls",
       "_view_module_version": "1.5.0",
       "_view_name": "HTMLView",
       "description": "",
       "description_tooltip": null,
       "layout": "IPY_MODEL_f836cfd56e0d4d7188f1b263a5845bff",
       "placeholder": "​",
       "style": "IPY_MODEL_a87f939ae9cb44bf8d9eed523f5cb995",
       "value": "100%"
      }
     },
     "7fb6ee0e688440bab23c07808e5cef8b": {
      "model_module": "@jupyter-widgets/controls",
      "model_module_version": "1.5.0",
      "model_name": "FloatProgressModel",
      "state": {
       "_dom_classes": [],
       "_model_module": "@jupyter-widgets/controls",
       "_model_module_version": "1.5.0",
       "_model_name": "FloatProgressModel",
       "_view_count": null,
       "_view_module": "@jupyter-widgets/controls",
       "_view_module_version": "1.5.0",
       "_view_name": "ProgressView",
       "bar_style": "success",
       "description": "",
       "description_tooltip": null,
       "layout": "IPY_MODEL_c0dcc3eeec934d289bf99c7d14bab090",
       "max": 873673253,
       "min": 0,
       "orientation": "horizontal",
       "style": "IPY_MODEL_c4ff773d63e34e0c93e23aa455a97958",
       "value": 873673253
      }
     },
     "80f827d24b2e421bbe84d92c8dcc002b": {
      "model_module": "@jupyter-widgets/base",
      "model_module_version": "1.2.0",
      "model_name": "LayoutModel",
      "state": {
       "_model_module": "@jupyter-widgets/base",
       "_model_module_version": "1.2.0",
       "_model_name": "LayoutModel",
       "_view_count": null,
       "_view_module": "@jupyter-widgets/base",
       "_view_module_version": "1.2.0",
       "_view_name": "LayoutView",
       "align_content": null,
       "align_items": null,
       "align_self": null,
       "border": null,
       "bottom": null,
       "display": null,
       "flex": null,
       "flex_flow": null,
       "grid_area": null,
       "grid_auto_columns": null,
       "grid_auto_flow": null,
       "grid_auto_rows": null,
       "grid_column": null,
       "grid_gap": null,
       "grid_row": null,
       "grid_template_areas": null,
       "grid_template_columns": null,
       "grid_template_rows": null,
       "height": null,
       "justify_content": null,
       "justify_items": null,
       "left": null,
       "margin": null,
       "max_height": null,
       "max_width": null,
       "min_height": null,
       "min_width": null,
       "object_fit": null,
       "object_position": null,
       "order": null,
       "overflow": null,
       "overflow_x": null,
       "overflow_y": null,
       "padding": null,
       "right": null,
       "top": null,
       "visibility": null,
       "width": null
      }
     },
     "81b1213eb9dc4aa083951352d9f6beaf": {
      "model_module": "@jupyter-widgets/base",
      "model_module_version": "1.2.0",
      "model_name": "LayoutModel",
      "state": {
       "_model_module": "@jupyter-widgets/base",
       "_model_module_version": "1.2.0",
       "_model_name": "LayoutModel",
       "_view_count": null,
       "_view_module": "@jupyter-widgets/base",
       "_view_module_version": "1.2.0",
       "_view_name": "LayoutView",
       "align_content": null,
       "align_items": null,
       "align_self": null,
       "border": null,
       "bottom": null,
       "display": null,
       "flex": null,
       "flex_flow": null,
       "grid_area": null,
       "grid_auto_columns": null,
       "grid_auto_flow": null,
       "grid_auto_rows": null,
       "grid_column": null,
       "grid_gap": null,
       "grid_row": null,
       "grid_template_areas": null,
       "grid_template_columns": null,
       "grid_template_rows": null,
       "height": null,
       "justify_content": null,
       "justify_items": null,
       "left": null,
       "margin": null,
       "max_height": null,
       "max_width": null,
       "min_height": null,
       "min_width": null,
       "object_fit": null,
       "object_position": null,
       "order": null,
       "overflow": null,
       "overflow_x": null,
       "overflow_y": null,
       "padding": null,
       "right": null,
       "top": null,
       "visibility": null,
       "width": null
      }
     },
     "82f268442b1349268246323595e0f371": {
      "model_module": "@jupyter-widgets/controls",
      "model_module_version": "1.5.0",
      "model_name": "HBoxModel",
      "state": {
       "_dom_classes": [],
       "_model_module": "@jupyter-widgets/controls",
       "_model_module_version": "1.5.0",
       "_model_name": "HBoxModel",
       "_view_count": null,
       "_view_module": "@jupyter-widgets/controls",
       "_view_module_version": "1.5.0",
       "_view_name": "HBoxView",
       "box_style": "",
       "children": [
        "IPY_MODEL_4c514a00a080445da009d272716b3577",
        "IPY_MODEL_b4e52efc58b54c81a39fa8e5fc26eedd",
        "IPY_MODEL_a1cafe17bdf945aa8a33875d0590f7a2"
       ],
       "layout": "IPY_MODEL_65f9dfd885184f818373dcaf8b820da7"
      }
     },
     "842a840396ab4cefb93cc2733bf00cf7": {
      "model_module": "@jupyter-widgets/controls",
      "model_module_version": "1.5.0",
      "model_name": "DescriptionStyleModel",
      "state": {
       "_model_module": "@jupyter-widgets/controls",
       "_model_module_version": "1.5.0",
       "_model_name": "DescriptionStyleModel",
       "_view_count": null,
       "_view_module": "@jupyter-widgets/base",
       "_view_module_version": "1.2.0",
       "_view_name": "StyleView",
       "description_width": ""
      }
     },
     "86af7db3cea442beb67da28063f15ed6": {
      "model_module": "@jupyter-widgets/controls",
      "model_module_version": "1.5.0",
      "model_name": "FloatProgressModel",
      "state": {
       "_dom_classes": [],
       "_model_module": "@jupyter-widgets/controls",
       "_model_module_version": "1.5.0",
       "_model_name": "FloatProgressModel",
       "_view_count": null,
       "_view_module": "@jupyter-widgets/controls",
       "_view_module_version": "1.5.0",
       "_view_name": "ProgressView",
       "bar_style": "",
       "description": "",
       "description_tooltip": null,
       "layout": "IPY_MODEL_be8bbaca794c4ab0b387c44fc3d2637f",
       "max": 1,
       "min": 0,
       "orientation": "horizontal",
       "style": "IPY_MODEL_126a1e5f24e44838a03204815209c5dc",
       "value": 1
      }
     },
     "87214ce12c1f422481a0fe3caf5a3ce8": {
      "model_module": "@jupyter-widgets/base",
      "model_module_version": "1.2.0",
      "model_name": "LayoutModel",
      "state": {
       "_model_module": "@jupyter-widgets/base",
       "_model_module_version": "1.2.0",
       "_model_name": "LayoutModel",
       "_view_count": null,
       "_view_module": "@jupyter-widgets/base",
       "_view_module_version": "1.2.0",
       "_view_name": "LayoutView",
       "align_content": null,
       "align_items": null,
       "align_self": null,
       "border": null,
       "bottom": null,
       "display": null,
       "flex": null,
       "flex_flow": null,
       "grid_area": null,
       "grid_auto_columns": null,
       "grid_auto_flow": null,
       "grid_auto_rows": null,
       "grid_column": null,
       "grid_gap": null,
       "grid_row": null,
       "grid_template_areas": null,
       "grid_template_columns": null,
       "grid_template_rows": null,
       "height": null,
       "justify_content": null,
       "justify_items": null,
       "left": null,
       "margin": null,
       "max_height": null,
       "max_width": null,
       "min_height": null,
       "min_width": null,
       "object_fit": null,
       "object_position": null,
       "order": null,
       "overflow": null,
       "overflow_x": null,
       "overflow_y": null,
       "padding": null,
       "right": null,
       "top": null,
       "visibility": null,
       "width": null
      }
     },
     "874dcbcfa5c94b938abebb1c7d00007c": {
      "model_module": "@jupyter-widgets/controls",
      "model_module_version": "1.5.0",
      "model_name": "ProgressStyleModel",
      "state": {
       "_model_module": "@jupyter-widgets/controls",
       "_model_module_version": "1.5.0",
       "_model_name": "ProgressStyleModel",
       "_view_count": null,
       "_view_module": "@jupyter-widgets/base",
       "_view_module_version": "1.2.0",
       "_view_name": "StyleView",
       "bar_color": null,
       "description_width": ""
      }
     },
     "8ae7b72a5b9f4533a2076af3fb7786bd": {
      "model_module": "@jupyter-widgets/controls",
      "model_module_version": "1.5.0",
      "model_name": "DescriptionStyleModel",
      "state": {
       "_model_module": "@jupyter-widgets/controls",
       "_model_module_version": "1.5.0",
       "_model_name": "DescriptionStyleModel",
       "_view_count": null,
       "_view_module": "@jupyter-widgets/base",
       "_view_module_version": "1.2.0",
       "_view_name": "StyleView",
       "description_width": ""
      }
     },
     "929108014ee94c9092394cf7ef09134f": {
      "model_module": "@jupyter-widgets/controls",
      "model_module_version": "1.5.0",
      "model_name": "DescriptionStyleModel",
      "state": {
       "_model_module": "@jupyter-widgets/controls",
       "_model_module_version": "1.5.0",
       "_model_name": "DescriptionStyleModel",
       "_view_count": null,
       "_view_module": "@jupyter-widgets/base",
       "_view_module_version": "1.2.0",
       "_view_name": "StyleView",
       "description_width": ""
      }
     },
     "968e2989cea6490d9ee08b6700291242": {
      "model_module": "@jupyter-widgets/base",
      "model_module_version": "1.2.0",
      "model_name": "LayoutModel",
      "state": {
       "_model_module": "@jupyter-widgets/base",
       "_model_module_version": "1.2.0",
       "_model_name": "LayoutModel",
       "_view_count": null,
       "_view_module": "@jupyter-widgets/base",
       "_view_module_version": "1.2.0",
       "_view_name": "LayoutView",
       "align_content": null,
       "align_items": null,
       "align_self": null,
       "border": null,
       "bottom": null,
       "display": null,
       "flex": null,
       "flex_flow": null,
       "grid_area": null,
       "grid_auto_columns": null,
       "grid_auto_flow": null,
       "grid_auto_rows": null,
       "grid_column": null,
       "grid_gap": null,
       "grid_row": null,
       "grid_template_areas": null,
       "grid_template_columns": null,
       "grid_template_rows": null,
       "height": null,
       "justify_content": null,
       "justify_items": null,
       "left": null,
       "margin": null,
       "max_height": null,
       "max_width": null,
       "min_height": null,
       "min_width": null,
       "object_fit": null,
       "object_position": null,
       "order": null,
       "overflow": null,
       "overflow_x": null,
       "overflow_y": null,
       "padding": null,
       "right": null,
       "top": null,
       "visibility": null,
       "width": null
      }
     },
     "9901f18e7e5841b8bfcb918c432ef718": {
      "model_module": "@jupyter-widgets/base",
      "model_module_version": "1.2.0",
      "model_name": "LayoutModel",
      "state": {
       "_model_module": "@jupyter-widgets/base",
       "_model_module_version": "1.2.0",
       "_model_name": "LayoutModel",
       "_view_count": null,
       "_view_module": "@jupyter-widgets/base",
       "_view_module_version": "1.2.0",
       "_view_name": "LayoutView",
       "align_content": null,
       "align_items": null,
       "align_self": null,
       "border": null,
       "bottom": null,
       "display": null,
       "flex": null,
       "flex_flow": null,
       "grid_area": null,
       "grid_auto_columns": null,
       "grid_auto_flow": null,
       "grid_auto_rows": null,
       "grid_column": null,
       "grid_gap": null,
       "grid_row": null,
       "grid_template_areas": null,
       "grid_template_columns": null,
       "grid_template_rows": null,
       "height": null,
       "justify_content": null,
       "justify_items": null,
       "left": null,
       "margin": null,
       "max_height": null,
       "max_width": null,
       "min_height": null,
       "min_width": null,
       "object_fit": null,
       "object_position": null,
       "order": null,
       "overflow": null,
       "overflow_x": null,
       "overflow_y": null,
       "padding": null,
       "right": null,
       "top": null,
       "visibility": null,
       "width": null
      }
     },
     "9d403276e05f4c368e46f353070b9d9a": {
      "model_module": "@jupyter-widgets/base",
      "model_module_version": "1.2.0",
      "model_name": "LayoutModel",
      "state": {
       "_model_module": "@jupyter-widgets/base",
       "_model_module_version": "1.2.0",
       "_model_name": "LayoutModel",
       "_view_count": null,
       "_view_module": "@jupyter-widgets/base",
       "_view_module_version": "1.2.0",
       "_view_name": "LayoutView",
       "align_content": null,
       "align_items": null,
       "align_self": null,
       "border": null,
       "bottom": null,
       "display": null,
       "flex": null,
       "flex_flow": null,
       "grid_area": null,
       "grid_auto_columns": null,
       "grid_auto_flow": null,
       "grid_auto_rows": null,
       "grid_column": null,
       "grid_gap": null,
       "grid_row": null,
       "grid_template_areas": null,
       "grid_template_columns": null,
       "grid_template_rows": null,
       "height": null,
       "justify_content": null,
       "justify_items": null,
       "left": null,
       "margin": null,
       "max_height": null,
       "max_width": null,
       "min_height": null,
       "min_width": null,
       "object_fit": null,
       "object_position": null,
       "order": null,
       "overflow": null,
       "overflow_x": null,
       "overflow_y": null,
       "padding": null,
       "right": null,
       "top": null,
       "visibility": null,
       "width": null
      }
     },
     "a03e24ff8fc54bccaa69e36839b36bab": {
      "model_module": "@jupyter-widgets/controls",
      "model_module_version": "1.5.0",
      "model_name": "FloatProgressModel",
      "state": {
       "_dom_classes": [],
       "_model_module": "@jupyter-widgets/controls",
       "_model_module_version": "1.5.0",
       "_model_name": "FloatProgressModel",
       "_view_count": null,
       "_view_module": "@jupyter-widgets/controls",
       "_view_module_version": "1.5.0",
       "_view_name": "ProgressView",
       "bar_style": "success",
       "description": "",
       "description_tooltip": null,
       "layout": "IPY_MODEL_80f827d24b2e421bbe84d92c8dcc002b",
       "max": 580,
       "min": 0,
       "orientation": "horizontal",
       "style": "IPY_MODEL_349e43c8d4114c36823434cef63fc567",
       "value": 580
      }
     },
     "a1cafe17bdf945aa8a33875d0590f7a2": {
      "model_module": "@jupyter-widgets/controls",
      "model_module_version": "1.5.0",
      "model_name": "HTMLModel",
      "state": {
       "_dom_classes": [],
       "_model_module": "@jupyter-widgets/controls",
       "_model_module_version": "1.5.0",
       "_model_name": "HTMLModel",
       "_view_count": null,
       "_view_module": "@jupyter-widgets/controls",
       "_view_module_version": "1.5.0",
       "_view_name": "HTMLView",
       "description": "",
       "description_tooltip": null,
       "layout": "IPY_MODEL_dd68281fe7ea499882e5d23a5bbfb9f0",
       "placeholder": "​",
       "style": "IPY_MODEL_8ae7b72a5b9f4533a2076af3fb7786bd",
       "value": " 52.0/52.0 [00:00&lt;00:00, 2.03kB/s]"
      }
     },
     "a3f3db4032b54ac49421d5cbd31a9533": {
      "model_module": "@jupyter-widgets/base",
      "model_module_version": "1.2.0",
      "model_name": "LayoutModel",
      "state": {
       "_model_module": "@jupyter-widgets/base",
       "_model_module_version": "1.2.0",
       "_model_name": "LayoutModel",
       "_view_count": null,
       "_view_module": "@jupyter-widgets/base",
       "_view_module_version": "1.2.0",
       "_view_name": "LayoutView",
       "align_content": null,
       "align_items": null,
       "align_self": null,
       "border": null,
       "bottom": null,
       "display": null,
       "flex": null,
       "flex_flow": null,
       "grid_area": null,
       "grid_auto_columns": null,
       "grid_auto_flow": null,
       "grid_auto_rows": null,
       "grid_column": null,
       "grid_gap": null,
       "grid_row": null,
       "grid_template_areas": null,
       "grid_template_columns": null,
       "grid_template_rows": null,
       "height": null,
       "justify_content": null,
       "justify_items": null,
       "left": null,
       "margin": null,
       "max_height": null,
       "max_width": null,
       "min_height": null,
       "min_width": null,
       "object_fit": null,
       "object_position": null,
       "order": null,
       "overflow": null,
       "overflow_x": null,
       "overflow_y": null,
       "padding": null,
       "right": null,
       "top": null,
       "visibility": null,
       "width": null
      }
     },
     "a87f939ae9cb44bf8d9eed523f5cb995": {
      "model_module": "@jupyter-widgets/controls",
      "model_module_version": "1.5.0",
      "model_name": "DescriptionStyleModel",
      "state": {
       "_model_module": "@jupyter-widgets/controls",
       "_model_module_version": "1.5.0",
       "_model_name": "DescriptionStyleModel",
       "_view_count": null,
       "_view_module": "@jupyter-widgets/base",
       "_view_module_version": "1.2.0",
       "_view_name": "StyleView",
       "description_width": ""
      }
     },
     "aaf4c8e1ae794178bd2db64c5c27edcd": {
      "model_module": "@jupyter-widgets/base",
      "model_module_version": "1.2.0",
      "model_name": "LayoutModel",
      "state": {
       "_model_module": "@jupyter-widgets/base",
       "_model_module_version": "1.2.0",
       "_model_name": "LayoutModel",
       "_view_count": null,
       "_view_module": "@jupyter-widgets/base",
       "_view_module_version": "1.2.0",
       "_view_name": "LayoutView",
       "align_content": null,
       "align_items": null,
       "align_self": null,
       "border": null,
       "bottom": null,
       "display": null,
       "flex": null,
       "flex_flow": null,
       "grid_area": null,
       "grid_auto_columns": null,
       "grid_auto_flow": null,
       "grid_auto_rows": null,
       "grid_column": null,
       "grid_gap": null,
       "grid_row": null,
       "grid_template_areas": null,
       "grid_template_columns": null,
       "grid_template_rows": null,
       "height": null,
       "justify_content": null,
       "justify_items": null,
       "left": null,
       "margin": null,
       "max_height": null,
       "max_width": null,
       "min_height": null,
       "min_width": null,
       "object_fit": null,
       "object_position": null,
       "order": null,
       "overflow": null,
       "overflow_x": null,
       "overflow_y": null,
       "padding": null,
       "right": null,
       "top": null,
       "visibility": null,
       "width": null
      }
     },
     "ab615699cb634117a739e8673396b52d": {
      "model_module": "@jupyter-widgets/controls",
      "model_module_version": "1.5.0",
      "model_name": "ProgressStyleModel",
      "state": {
       "_model_module": "@jupyter-widgets/controls",
       "_model_module_version": "1.5.0",
       "_model_name": "ProgressStyleModel",
       "_view_count": null,
       "_view_module": "@jupyter-widgets/base",
       "_view_module_version": "1.2.0",
       "_view_name": "StyleView",
       "bar_color": null,
       "description_width": ""
      }
     },
     "ad4745f1eca942009bdf6cf12913f34a": {
      "model_module": "@jupyter-widgets/base",
      "model_module_version": "1.2.0",
      "model_name": "LayoutModel",
      "state": {
       "_model_module": "@jupyter-widgets/base",
       "_model_module_version": "1.2.0",
       "_model_name": "LayoutModel",
       "_view_count": null,
       "_view_module": "@jupyter-widgets/base",
       "_view_module_version": "1.2.0",
       "_view_name": "LayoutView",
       "align_content": null,
       "align_items": null,
       "align_self": null,
       "border": null,
       "bottom": null,
       "display": null,
       "flex": null,
       "flex_flow": null,
       "grid_area": null,
       "grid_auto_columns": null,
       "grid_auto_flow": null,
       "grid_auto_rows": null,
       "grid_column": null,
       "grid_gap": null,
       "grid_row": null,
       "grid_template_areas": null,
       "grid_template_columns": null,
       "grid_template_rows": null,
       "height": null,
       "justify_content": null,
       "justify_items": null,
       "left": null,
       "margin": null,
       "max_height": null,
       "max_width": null,
       "min_height": null,
       "min_width": null,
       "object_fit": null,
       "object_position": null,
       "order": null,
       "overflow": null,
       "overflow_x": null,
       "overflow_y": null,
       "padding": null,
       "right": null,
       "top": null,
       "visibility": null,
       "width": null
      }
     },
     "ad6386dafce545c48eac271bb2a3c0dd": {
      "model_module": "@jupyter-widgets/controls",
      "model_module_version": "1.5.0",
      "model_name": "DescriptionStyleModel",
      "state": {
       "_model_module": "@jupyter-widgets/controls",
       "_model_module_version": "1.5.0",
       "_model_name": "DescriptionStyleModel",
       "_view_count": null,
       "_view_module": "@jupyter-widgets/base",
       "_view_module_version": "1.2.0",
       "_view_name": "StyleView",
       "description_width": ""
      }
     },
     "b4e52efc58b54c81a39fa8e5fc26eedd": {
      "model_module": "@jupyter-widgets/controls",
      "model_module_version": "1.5.0",
      "model_name": "FloatProgressModel",
      "state": {
       "_dom_classes": [],
       "_model_module": "@jupyter-widgets/controls",
       "_model_module_version": "1.5.0",
       "_model_name": "FloatProgressModel",
       "_view_count": null,
       "_view_module": "@jupyter-widgets/controls",
       "_view_module_version": "1.5.0",
       "_view_name": "ProgressView",
       "bar_style": "success",
       "description": "",
       "description_tooltip": null,
       "layout": "IPY_MODEL_6947506e822e46d99b4dd82a8a4209cd",
       "max": 52,
       "min": 0,
       "orientation": "horizontal",
       "style": "IPY_MODEL_874dcbcfa5c94b938abebb1c7d00007c",
       "value": 52
      }
     },
     "b6f3605957844ac0b026ef0593befbae": {
      "model_module": "@jupyter-widgets/base",
      "model_module_version": "1.2.0",
      "model_name": "LayoutModel",
      "state": {
       "_model_module": "@jupyter-widgets/base",
       "_model_module_version": "1.2.0",
       "_model_name": "LayoutModel",
       "_view_count": null,
       "_view_module": "@jupyter-widgets/base",
       "_view_module_version": "1.2.0",
       "_view_name": "LayoutView",
       "align_content": null,
       "align_items": null,
       "align_self": null,
       "border": null,
       "bottom": null,
       "display": null,
       "flex": null,
       "flex_flow": null,
       "grid_area": null,
       "grid_auto_columns": null,
       "grid_auto_flow": null,
       "grid_auto_rows": null,
       "grid_column": null,
       "grid_gap": null,
       "grid_row": null,
       "grid_template_areas": null,
       "grid_template_columns": null,
       "grid_template_rows": null,
       "height": null,
       "justify_content": null,
       "justify_items": null,
       "left": null,
       "margin": null,
       "max_height": null,
       "max_width": null,
       "min_height": null,
       "min_width": null,
       "object_fit": null,
       "object_position": null,
       "order": null,
       "overflow": null,
       "overflow_x": null,
       "overflow_y": null,
       "padding": null,
       "right": null,
       "top": null,
       "visibility": null,
       "width": null
      }
     },
     "b849e52bd84942e583de4b9325c96afe": {
      "model_module": "@jupyter-widgets/controls",
      "model_module_version": "1.5.0",
      "model_name": "FloatProgressModel",
      "state": {
       "_dom_classes": [],
       "_model_module": "@jupyter-widgets/controls",
       "_model_module_version": "1.5.0",
       "_model_name": "FloatProgressModel",
       "_view_count": null,
       "_view_module": "@jupyter-widgets/controls",
       "_view_module_version": "1.5.0",
       "_view_name": "ProgressView",
       "bar_style": "success",
       "description": "",
       "description_tooltip": null,
       "layout": "IPY_MODEL_341389680b6a43d8b6b3de95dffca671",
       "max": 36473,
       "min": 0,
       "orientation": "horizontal",
       "style": "IPY_MODEL_ab615699cb634117a739e8673396b52d",
       "value": 36473
      }
     },
     "ba8f6b6e291a4d6faae41e5e6921f4aa": {
      "model_module": "@jupyter-widgets/base",
      "model_module_version": "1.2.0",
      "model_name": "LayoutModel",
      "state": {
       "_model_module": "@jupyter-widgets/base",
       "_model_module_version": "1.2.0",
       "_model_name": "LayoutModel",
       "_view_count": null,
       "_view_module": "@jupyter-widgets/base",
       "_view_module_version": "1.2.0",
       "_view_name": "LayoutView",
       "align_content": null,
       "align_items": null,
       "align_self": null,
       "border": null,
       "bottom": null,
       "display": null,
       "flex": null,
       "flex_flow": null,
       "grid_area": null,
       "grid_auto_columns": null,
       "grid_auto_flow": null,
       "grid_auto_rows": null,
       "grid_column": null,
       "grid_gap": null,
       "grid_row": null,
       "grid_template_areas": null,
       "grid_template_columns": null,
       "grid_template_rows": null,
       "height": null,
       "justify_content": null,
       "justify_items": null,
       "left": null,
       "margin": null,
       "max_height": null,
       "max_width": null,
       "min_height": null,
       "min_width": null,
       "object_fit": null,
       "object_position": null,
       "order": null,
       "overflow": null,
       "overflow_x": null,
       "overflow_y": null,
       "padding": null,
       "right": null,
       "top": null,
       "visibility": null,
       "width": null
      }
     },
     "bb944cd3fb694105a4d535f4e9c333a8": {
      "model_module": "@jupyter-widgets/controls",
      "model_module_version": "1.5.0",
      "model_name": "DescriptionStyleModel",
      "state": {
       "_model_module": "@jupyter-widgets/controls",
       "_model_module_version": "1.5.0",
       "_model_name": "DescriptionStyleModel",
       "_view_count": null,
       "_view_module": "@jupyter-widgets/base",
       "_view_module_version": "1.2.0",
       "_view_name": "StyleView",
       "description_width": ""
      }
     },
     "bba517b096dd460cb764ccd71b57f148": {
      "model_module": "@jupyter-widgets/controls",
      "model_module_version": "1.5.0",
      "model_name": "FloatProgressModel",
      "state": {
       "_dom_classes": [],
       "_model_module": "@jupyter-widgets/controls",
       "_model_module_version": "1.5.0",
       "_model_name": "FloatProgressModel",
       "_view_count": null,
       "_view_module": "@jupyter-widgets/controls",
       "_view_module_version": "1.5.0",
       "_view_name": "ProgressView",
       "bar_style": "success",
       "description": "",
       "description_tooltip": null,
       "layout": "IPY_MODEL_ba8f6b6e291a4d6faae41e5e6921f4aa",
       "max": 136,
       "min": 0,
       "orientation": "horizontal",
       "style": "IPY_MODEL_ec381745899e4ce7900c973c72d2ff3b",
       "value": 136
      }
     },
     "be8bbaca794c4ab0b387c44fc3d2637f": {
      "model_module": "@jupyter-widgets/base",
      "model_module_version": "1.2.0",
      "model_name": "LayoutModel",
      "state": {
       "_model_module": "@jupyter-widgets/base",
       "_model_module_version": "1.2.0",
       "_model_name": "LayoutModel",
       "_view_count": null,
       "_view_module": "@jupyter-widgets/base",
       "_view_module_version": "1.2.0",
       "_view_name": "LayoutView",
       "align_content": null,
       "align_items": null,
       "align_self": null,
       "border": null,
       "bottom": null,
       "display": null,
       "flex": null,
       "flex_flow": null,
       "grid_area": null,
       "grid_auto_columns": null,
       "grid_auto_flow": null,
       "grid_auto_rows": null,
       "grid_column": null,
       "grid_gap": null,
       "grid_row": null,
       "grid_template_areas": null,
       "grid_template_columns": null,
       "grid_template_rows": null,
       "height": null,
       "justify_content": null,
       "justify_items": null,
       "left": null,
       "margin": null,
       "max_height": null,
       "max_width": null,
       "min_height": null,
       "min_width": null,
       "object_fit": null,
       "object_position": null,
       "order": null,
       "overflow": null,
       "overflow_x": null,
       "overflow_y": null,
       "padding": null,
       "right": null,
       "top": null,
       "visibility": null,
       "width": null
      }
     },
     "c0dcc3eeec934d289bf99c7d14bab090": {
      "model_module": "@jupyter-widgets/base",
      "model_module_version": "1.2.0",
      "model_name": "LayoutModel",
      "state": {
       "_model_module": "@jupyter-widgets/base",
       "_model_module_version": "1.2.0",
       "_model_name": "LayoutModel",
       "_view_count": null,
       "_view_module": "@jupyter-widgets/base",
       "_view_module_version": "1.2.0",
       "_view_name": "LayoutView",
       "align_content": null,
       "align_items": null,
       "align_self": null,
       "border": null,
       "bottom": null,
       "display": null,
       "flex": null,
       "flex_flow": null,
       "grid_area": null,
       "grid_auto_columns": null,
       "grid_auto_flow": null,
       "grid_auto_rows": null,
       "grid_column": null,
       "grid_gap": null,
       "grid_row": null,
       "grid_template_areas": null,
       "grid_template_columns": null,
       "grid_template_rows": null,
       "height": null,
       "justify_content": null,
       "justify_items": null,
       "left": null,
       "margin": null,
       "max_height": null,
       "max_width": null,
       "min_height": null,
       "min_width": null,
       "object_fit": null,
       "object_position": null,
       "order": null,
       "overflow": null,
       "overflow_x": null,
       "overflow_y": null,
       "padding": null,
       "right": null,
       "top": null,
       "visibility": null,
       "width": null
      }
     },
     "c1e8e53062324cf38fbd75eab01e066a": {
      "model_module": "@jupyter-widgets/base",
      "model_module_version": "1.2.0",
      "model_name": "LayoutModel",
      "state": {
       "_model_module": "@jupyter-widgets/base",
       "_model_module_version": "1.2.0",
       "_model_name": "LayoutModel",
       "_view_count": null,
       "_view_module": "@jupyter-widgets/base",
       "_view_module_version": "1.2.0",
       "_view_name": "LayoutView",
       "align_content": null,
       "align_items": null,
       "align_self": null,
       "border": null,
       "bottom": null,
       "display": null,
       "flex": null,
       "flex_flow": null,
       "grid_area": null,
       "grid_auto_columns": null,
       "grid_auto_flow": null,
       "grid_auto_rows": null,
       "grid_column": null,
       "grid_gap": null,
       "grid_row": null,
       "grid_template_areas": null,
       "grid_template_columns": null,
       "grid_template_rows": null,
       "height": null,
       "justify_content": null,
       "justify_items": null,
       "left": null,
       "margin": null,
       "max_height": null,
       "max_width": null,
       "min_height": null,
       "min_width": null,
       "object_fit": null,
       "object_position": null,
       "order": null,
       "overflow": null,
       "overflow_x": null,
       "overflow_y": null,
       "padding": null,
       "right": null,
       "top": null,
       "visibility": null,
       "width": null
      }
     },
     "c4ff773d63e34e0c93e23aa455a97958": {
      "model_module": "@jupyter-widgets/controls",
      "model_module_version": "1.5.0",
      "model_name": "ProgressStyleModel",
      "state": {
       "_model_module": "@jupyter-widgets/controls",
       "_model_module_version": "1.5.0",
       "_model_name": "ProgressStyleModel",
       "_view_count": null,
       "_view_module": "@jupyter-widgets/base",
       "_view_module_version": "1.2.0",
       "_view_name": "StyleView",
       "bar_color": null,
       "description_width": ""
      }
     },
     "c5de80b22af543edb57e65780298069e": {
      "model_module": "@jupyter-widgets/controls",
      "model_module_version": "1.5.0",
      "model_name": "DescriptionStyleModel",
      "state": {
       "_model_module": "@jupyter-widgets/controls",
       "_model_module_version": "1.5.0",
       "_model_name": "DescriptionStyleModel",
       "_view_count": null,
       "_view_module": "@jupyter-widgets/base",
       "_view_module_version": "1.2.0",
       "_view_name": "StyleView",
       "description_width": ""
      }
     },
     "d21724e187b94518ad3cc61f1daa73cf": {
      "model_module": "@jupyter-widgets/controls",
      "model_module_version": "1.5.0",
      "model_name": "HBoxModel",
      "state": {
       "_dom_classes": [],
       "_model_module": "@jupyter-widgets/controls",
       "_model_module_version": "1.5.0",
       "_model_name": "HBoxModel",
       "_view_count": null,
       "_view_module": "@jupyter-widgets/controls",
       "_view_module_version": "1.5.0",
       "_view_name": "HBoxView",
       "box_style": "",
       "children": [
        "IPY_MODEL_e13e1ad96b5648588ba7a5b2e3771179",
        "IPY_MODEL_7fb6ee0e688440bab23c07808e5cef8b",
        "IPY_MODEL_f9081778edc6436c9d1bc9a886ac922c"
       ],
       "layout": "IPY_MODEL_9901f18e7e5841b8bfcb918c432ef718"
      }
     },
     "d3b6e4a4aac943b79ba51bbacd77907e": {
      "model_module": "@jupyter-widgets/controls",
      "model_module_version": "1.5.0",
      "model_name": "DescriptionStyleModel",
      "state": {
       "_model_module": "@jupyter-widgets/controls",
       "_model_module_version": "1.5.0",
       "_model_name": "DescriptionStyleModel",
       "_view_count": null,
       "_view_module": "@jupyter-widgets/base",
       "_view_module_version": "1.2.0",
       "_view_name": "StyleView",
       "description_width": ""
      }
     },
     "d9f0d96d140a4115aadfdfc9ce5ba608": {
      "model_module": "@jupyter-widgets/controls",
      "model_module_version": "1.5.0",
      "model_name": "ProgressStyleModel",
      "state": {
       "_model_module": "@jupyter-widgets/controls",
       "_model_module_version": "1.5.0",
       "_model_name": "ProgressStyleModel",
       "_view_count": null,
       "_view_module": "@jupyter-widgets/base",
       "_view_module_version": "1.2.0",
       "_view_name": "StyleView",
       "bar_color": null,
       "description_width": ""
      }
     },
     "da88817e8aed48399b1948f8e004ee97": {
      "model_module": "@jupyter-widgets/base",
      "model_module_version": "1.2.0",
      "model_name": "LayoutModel",
      "state": {
       "_model_module": "@jupyter-widgets/base",
       "_model_module_version": "1.2.0",
       "_model_name": "LayoutModel",
       "_view_count": null,
       "_view_module": "@jupyter-widgets/base",
       "_view_module_version": "1.2.0",
       "_view_name": "LayoutView",
       "align_content": null,
       "align_items": null,
       "align_self": null,
       "border": null,
       "bottom": null,
       "display": null,
       "flex": null,
       "flex_flow": null,
       "grid_area": null,
       "grid_auto_columns": null,
       "grid_auto_flow": null,
       "grid_auto_rows": null,
       "grid_column": null,
       "grid_gap": null,
       "grid_row": null,
       "grid_template_areas": null,
       "grid_template_columns": null,
       "grid_template_rows": null,
       "height": null,
       "justify_content": null,
       "justify_items": null,
       "left": null,
       "margin": null,
       "max_height": null,
       "max_width": null,
       "min_height": null,
       "min_width": null,
       "object_fit": null,
       "object_position": null,
       "order": null,
       "overflow": null,
       "overflow_x": null,
       "overflow_y": null,
       "padding": null,
       "right": null,
       "top": null,
       "visibility": null,
       "width": null
      }
     },
     "dd68281fe7ea499882e5d23a5bbfb9f0": {
      "model_module": "@jupyter-widgets/base",
      "model_module_version": "1.2.0",
      "model_name": "LayoutModel",
      "state": {
       "_model_module": "@jupyter-widgets/base",
       "_model_module_version": "1.2.0",
       "_model_name": "LayoutModel",
       "_view_count": null,
       "_view_module": "@jupyter-widgets/base",
       "_view_module_version": "1.2.0",
       "_view_name": "LayoutView",
       "align_content": null,
       "align_items": null,
       "align_self": null,
       "border": null,
       "bottom": null,
       "display": null,
       "flex": null,
       "flex_flow": null,
       "grid_area": null,
       "grid_auto_columns": null,
       "grid_auto_flow": null,
       "grid_auto_rows": null,
       "grid_column": null,
       "grid_gap": null,
       "grid_row": null,
       "grid_template_areas": null,
       "grid_template_columns": null,
       "grid_template_rows": null,
       "height": null,
       "justify_content": null,
       "justify_items": null,
       "left": null,
       "margin": null,
       "max_height": null,
       "max_width": null,
       "min_height": null,
       "min_width": null,
       "object_fit": null,
       "object_position": null,
       "order": null,
       "overflow": null,
       "overflow_x": null,
       "overflow_y": null,
       "padding": null,
       "right": null,
       "top": null,
       "visibility": null,
       "width": null
      }
     },
     "de3e60ed24f04a7ab49a05b98b7cf0f0": {
      "model_module": "@jupyter-widgets/controls",
      "model_module_version": "1.5.0",
      "model_name": "DescriptionStyleModel",
      "state": {
       "_model_module": "@jupyter-widgets/controls",
       "_model_module_version": "1.5.0",
       "_model_name": "DescriptionStyleModel",
       "_view_count": null,
       "_view_module": "@jupyter-widgets/base",
       "_view_module_version": "1.2.0",
       "_view_name": "StyleView",
       "description_width": ""
      }
     },
     "e13e1ad96b5648588ba7a5b2e3771179": {
      "model_module": "@jupyter-widgets/controls",
      "model_module_version": "1.5.0",
      "model_name": "HTMLModel",
      "state": {
       "_dom_classes": [],
       "_model_module": "@jupyter-widgets/controls",
       "_model_module_version": "1.5.0",
       "_model_name": "HTMLModel",
       "_view_count": null,
       "_view_module": "@jupyter-widgets/controls",
       "_view_module_version": "1.5.0",
       "_view_name": "HTMLView",
       "description": "",
       "description_tooltip": null,
       "layout": "IPY_MODEL_1d83ae8940534922833de4d1fdd71216",
       "placeholder": "​",
       "style": "IPY_MODEL_46ab7441760642718f381e7f430e16a0",
       "value": "Downloading: 100%"
      }
     },
     "e3e17f880bab4d47a1531bebac861fda": {
      "model_module": "@jupyter-widgets/controls",
      "model_module_version": "1.5.0",
      "model_name": "HTMLModel",
      "state": {
       "_dom_classes": [],
       "_model_module": "@jupyter-widgets/controls",
       "_model_module_version": "1.5.0",
       "_model_name": "HTMLModel",
       "_view_count": null,
       "_view_module": "@jupyter-widgets/controls",
       "_view_module_version": "1.5.0",
       "_view_name": "HTMLView",
       "description": "",
       "description_tooltip": null,
       "layout": "IPY_MODEL_a3f3db4032b54ac49421d5cbd31a9533",
       "placeholder": "​",
       "style": "IPY_MODEL_35cb92ba1b2d4932bc3a0b0640f71b0c",
       "value": " 580/580 [00:00&lt;00:00, 23.1kB/s]"
      }
     },
     "ec381745899e4ce7900c973c72d2ff3b": {
      "model_module": "@jupyter-widgets/controls",
      "model_module_version": "1.5.0",
      "model_name": "ProgressStyleModel",
      "state": {
       "_model_module": "@jupyter-widgets/controls",
       "_model_module_version": "1.5.0",
       "_model_name": "ProgressStyleModel",
       "_view_count": null,
       "_view_module": "@jupyter-widgets/base",
       "_view_module_version": "1.2.0",
       "_view_name": "StyleView",
       "bar_color": null,
       "description_width": ""
      }
     },
     "f3e6058e180d40b8bc25ff82940789f1": {
      "model_module": "@jupyter-widgets/base",
      "model_module_version": "1.2.0",
      "model_name": "LayoutModel",
      "state": {
       "_model_module": "@jupyter-widgets/base",
       "_model_module_version": "1.2.0",
       "_model_name": "LayoutModel",
       "_view_count": null,
       "_view_module": "@jupyter-widgets/base",
       "_view_module_version": "1.2.0",
       "_view_name": "LayoutView",
       "align_content": null,
       "align_items": null,
       "align_self": null,
       "border": null,
       "bottom": null,
       "display": null,
       "flex": null,
       "flex_flow": null,
       "grid_area": null,
       "grid_auto_columns": null,
       "grid_auto_flow": null,
       "grid_auto_rows": null,
       "grid_column": null,
       "grid_gap": null,
       "grid_row": null,
       "grid_template_areas": null,
       "grid_template_columns": null,
       "grid_template_rows": null,
       "height": null,
       "justify_content": null,
       "justify_items": null,
       "left": null,
       "margin": null,
       "max_height": null,
       "max_width": null,
       "min_height": null,
       "min_width": null,
       "object_fit": null,
       "object_position": null,
       "order": null,
       "overflow": null,
       "overflow_x": null,
       "overflow_y": null,
       "padding": null,
       "right": null,
       "top": null,
       "visibility": null,
       "width": null
      }
     },
     "f7cdf444f3c041cda9b6bd5a47ca87c5": {
      "model_module": "@jupyter-widgets/controls",
      "model_module_version": "1.5.0",
      "model_name": "VBoxModel",
      "state": {
       "_dom_classes": [],
       "_model_module": "@jupyter-widgets/controls",
       "_model_module_version": "1.5.0",
       "_model_name": "VBoxModel",
       "_view_count": null,
       "_view_module": "@jupyter-widgets/controls",
       "_view_module_version": "1.5.0",
       "_view_name": "VBoxView",
       "box_style": "",
       "children": [
        "IPY_MODEL_5ffb53b010e948a0918366a7721dd7a9",
        "IPY_MODEL_86af7db3cea442beb67da28063f15ed6"
       ],
       "layout": "IPY_MODEL_b6f3605957844ac0b026ef0593befbae"
      }
     },
     "f836cfd56e0d4d7188f1b263a5845bff": {
      "model_module": "@jupyter-widgets/base",
      "model_module_version": "1.2.0",
      "model_name": "LayoutModel",
      "state": {
       "_model_module": "@jupyter-widgets/base",
       "_model_module_version": "1.2.0",
       "_model_name": "LayoutModel",
       "_view_count": null,
       "_view_module": "@jupyter-widgets/base",
       "_view_module_version": "1.2.0",
       "_view_name": "LayoutView",
       "align_content": null,
       "align_items": null,
       "align_self": null,
       "border": null,
       "bottom": null,
       "display": null,
       "flex": null,
       "flex_flow": null,
       "grid_area": null,
       "grid_auto_columns": null,
       "grid_auto_flow": null,
       "grid_auto_rows": null,
       "grid_column": null,
       "grid_gap": null,
       "grid_row": null,
       "grid_template_areas": null,
       "grid_template_columns": null,
       "grid_template_rows": null,
       "height": null,
       "justify_content": null,
       "justify_items": null,
       "left": null,
       "margin": null,
       "max_height": null,
       "max_width": null,
       "min_height": null,
       "min_width": null,
       "object_fit": null,
       "object_position": null,
       "order": null,
       "overflow": null,
       "overflow_x": null,
       "overflow_y": null,
       "padding": null,
       "right": null,
       "top": null,
       "visibility": null,
       "width": null
      }
     },
     "f9081778edc6436c9d1bc9a886ac922c": {
      "model_module": "@jupyter-widgets/controls",
      "model_module_version": "1.5.0",
      "model_name": "HTMLModel",
      "state": {
       "_dom_classes": [],
       "_model_module": "@jupyter-widgets/controls",
       "_model_module_version": "1.5.0",
       "_model_name": "HTMLModel",
       "_view_count": null,
       "_view_module": "@jupyter-widgets/controls",
       "_view_module_version": "1.5.0",
       "_view_name": "HTMLView",
       "description": "",
       "description_tooltip": null,
       "layout": "IPY_MODEL_f3e6058e180d40b8bc25ff82940789f1",
       "placeholder": "​",
       "style": "IPY_MODEL_842a840396ab4cefb93cc2733bf00cf7",
       "value": " 833M/833M [00:19&lt;00:00, 43.1MB/s]"
      }
     },
     "fb6b7fc69b2549ab9d80d71017422178": {
      "model_module": "@jupyter-widgets/base",
      "model_module_version": "1.2.0",
      "model_name": "LayoutModel",
      "state": {
       "_model_module": "@jupyter-widgets/base",
       "_model_module_version": "1.2.0",
       "_model_name": "LayoutModel",
       "_view_count": null,
       "_view_module": "@jupyter-widgets/base",
       "_view_module_version": "1.2.0",
       "_view_name": "LayoutView",
       "align_content": null,
       "align_items": null,
       "align_self": null,
       "border": null,
       "bottom": null,
       "display": null,
       "flex": null,
       "flex_flow": null,
       "grid_area": null,
       "grid_auto_columns": null,
       "grid_auto_flow": null,
       "grid_auto_rows": null,
       "grid_column": null,
       "grid_gap": null,
       "grid_row": null,
       "grid_template_areas": null,
       "grid_template_columns": null,
       "grid_template_rows": null,
       "height": null,
       "justify_content": null,
       "justify_items": null,
       "left": null,
       "margin": null,
       "max_height": null,
       "max_width": null,
       "min_height": null,
       "min_width": null,
       "object_fit": null,
       "object_position": null,
       "order": null,
       "overflow": null,
       "overflow_x": null,
       "overflow_y": null,
       "padding": null,
       "right": null,
       "top": null,
       "visibility": null,
       "width": null
      }
     },
     "ff0d93c0f2a54cae8698028db31d1454": {
      "model_module": "@jupyter-widgets/controls",
      "model_module_version": "1.5.0",
      "model_name": "DescriptionStyleModel",
      "state": {
       "_model_module": "@jupyter-widgets/controls",
       "_model_module_version": "1.5.0",
       "_model_name": "DescriptionStyleModel",
       "_view_count": null,
       "_view_module": "@jupyter-widgets/base",
       "_view_module_version": "1.2.0",
       "_view_name": "StyleView",
       "description_width": ""
      }
     }
    },
    "version_major": 2,
    "version_minor": 0
   }
  }
 },
 "nbformat": 4,
 "nbformat_minor": 5
}
