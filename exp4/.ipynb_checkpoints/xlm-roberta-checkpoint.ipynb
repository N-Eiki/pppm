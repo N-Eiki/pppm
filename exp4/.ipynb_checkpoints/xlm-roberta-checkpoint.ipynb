{
 "cells": [
  {
   "cell_type": "markdown",
   "id": "70f90ffb",
   "metadata": {
    "id": "e460cbb5",
    "papermill": {
     "duration": 0.027808,
     "end_time": "2022-03-22T09:40:01.410751",
     "exception": false,
     "start_time": "2022-03-22T09:40:01.382943",
     "status": "completed"
    },
    "tags": []
   },
   "source": [
    "# About this notebook\n",
    "- Deberta-v3-large starter code\n",
    "- pip wheels is [here](https://www.kaggle.com/code/yasufuminakama/pppm-pip-wheels)\n",
    "- Inference notebook is [here](https://www.kaggle.com/code/yasufuminakama/pppm-deberta-v3-large-baseline-inference)\n",
    "\n",
    "If this notebook is helpful, feel free to upvote :)"
   ]
  },
  {
   "cell_type": "code",
   "execution_count": 1,
   "id": "4b6835d2-9fc4-4e64-8eb9-1f8eebb143bf",
   "metadata": {},
   "outputs": [],
   "source": [
    "import os\n",
    "import time\n",
    "wait_to_make = \"trained_list/albert-base-v2.txt\"\n",
    "count = 0\n",
    "while 1:\n",
    "    if os.path.exists(wait_to_make):\n",
    "        break\n",
    "    print(f'sleep {count} h')\n",
    "    time.sleep(3600)\n",
    "    count+=1\n",
    "    \n",
    "local = True"
   ]
  },
  {
   "cell_type": "code",
   "execution_count": 2,
   "id": "7df63313-5526-4691-94ae-12ea4bf25bde",
   "metadata": {},
   "outputs": [],
   "source": [
    "EXP_NAME = \"roberta-base\"\n"
   ]
  },
  {
   "cell_type": "code",
   "execution_count": 3,
   "id": "d14ce8ab",
   "metadata": {},
   "outputs": [],
   "source": [
    "# !nvidia-smi"
   ]
  },
  {
   "cell_type": "code",
   "execution_count": 4,
   "id": "7d511eeb",
   "metadata": {},
   "outputs": [],
   "source": [
    "# ! pip install torch==1.9.0+cu111 torchvision==0.10.0+cu111 torchaudio===0.9.0 -f https://download.pytorch.org/whl/torch_stable.html"
   ]
  },
  {
   "cell_type": "code",
   "execution_count": 5,
   "id": "c13809d2",
   "metadata": {},
   "outputs": [
    {
     "name": "stdout",
     "output_type": "stream",
     "text": [
      "1.9.0+cu111\n",
      "True\n"
     ]
    }
   ],
   "source": [
    "import torch\n",
    "print(torch.__version__)\n",
    "print(torch.cuda.is_available())"
   ]
  },
  {
   "cell_type": "markdown",
   "id": "263c913e",
   "metadata": {
    "papermill": {
     "duration": 0.024515,
     "end_time": "2022-03-22T09:40:01.460332",
     "exception": false,
     "start_time": "2022-03-22T09:40:01.435817",
     "status": "completed"
    },
    "tags": []
   },
   "source": [
    "# Directory settings"
   ]
  },
  {
   "cell_type": "code",
   "execution_count": 6,
   "id": "46d8c76e",
   "metadata": {
    "id": "fa3b873b",
    "papermill": {
     "duration": 0.041313,
     "end_time": "2022-03-22T09:40:01.526545",
     "exception": false,
     "start_time": "2022-03-22T09:40:01.485232",
     "status": "completed"
    },
    "tags": []
   },
   "outputs": [],
   "source": [
    "# ====================================================\n",
    "# Directory settings\n",
    "# ====================================================\n",
    "\n",
    "import os\n",
    "import datetime\n",
    "if local:\n",
    "    INPUT_DIR = '../../data/us-patent-phrase-to-phrase-matching/'\n",
    "else:\n",
    "    INPUT_DIR = '../../data/us-patent-phrase-to-phrase-matching/'\n",
    "\n",
    "OUTPUT_DIR = f'./output/{EXP_NAME}/'\n",
    "# if not os.path.exists(OUTPUT_DIR):\n",
    "os.makedirs(OUTPUT_DIR, exist_ok=True)\n"
   ]
  },
  {
   "cell_type": "markdown",
   "id": "c75f6918",
   "metadata": {
    "id": "1d0c4430",
    "papermill": {
     "duration": 0.024609,
     "end_time": "2022-03-22T09:40:01.576366",
     "exception": false,
     "start_time": "2022-03-22T09:40:01.551757",
     "status": "completed"
    },
    "tags": []
   },
   "source": [
    "# CFG"
   ]
  },
  {
   "cell_type": "code",
   "execution_count": 7,
   "id": "80d58afe",
   "metadata": {
    "id": "48dd82bb",
    "papermill": {
     "duration": 0.033949,
     "end_time": "2022-03-22T09:40:01.634977",
     "exception": false,
     "start_time": "2022-03-22T09:40:01.601028",
     "status": "completed"
    },
    "tags": []
   },
   "outputs": [],
   "source": [
    "# ====================================================\n",
    "# CFG\n",
    "# ====================================================\n",
    "class CFG:\n",
    "    wandb=False\n",
    "    competition='PPPM'\n",
    "    _wandb_kernel='nakama'\n",
    "    debug=False\n",
    "    apex=True\n",
    "    print_freq=100\n",
    "    num_workers=4\n",
    "    # model=\"microsoft/deberta-v3-large\"\n",
    "    model = \"roberta-base\"\n",
    "    # size = \"large\n",
    "    # model = f\"{model}-{size}\"\n",
    "    if \"small\" in model:\n",
    "        hidden_state = hiddden_state_fix = 512\n",
    "    elif \"base\" in model or \"medium\" in model:\n",
    "        hidden_state = hiddden_state_fix = 768\n",
    "    elif \"large\" in model:\n",
    "        hidden_state = hiddden_state_fix = 1024\n",
    "    elif \"xlarge\" in model:\n",
    "        hidden_state =  1536\n",
    "        \n",
    "    scheduler='cosine' # ['linear', 'cosine']\n",
    "    batch_scheduler=True\n",
    "    num_cycles=0.5\n",
    "    num_warmup_steps=0\n",
    "    epochs=4\n",
    "    encoder_lr=2e-5\n",
    "    decoder_lr=2e-5\n",
    "    min_lr=1e-6\n",
    "    eps=1e-6\n",
    "    betas=(0.9, 0.999)\n",
    "    \n",
    "    batch_size=8\n",
    "    \n",
    "    fc_dropout=0.2\n",
    "    target_size=1\n",
    "    max_len=512\n",
    "    weight_decay=0.01\n",
    "    gradient_accumulation_steps=1\n",
    "    max_grad_norm=1000\n",
    "    seed=42\n",
    "    n_fold=4\n",
    "    trn_fold=[i for i in range(n_fold)]\n",
    "    train=True\n",
    "    \n",
    "if CFG.debug:\n",
    "    CFG.epochs = 2\n",
    "    CFG.trn_fold = [0]"
   ]
  },
  {
   "cell_type": "code",
   "execution_count": 8,
   "id": "b7de2887",
   "metadata": {
    "id": "b88c983e",
    "papermill": {
     "duration": 8.873453,
     "end_time": "2022-03-22T09:40:10.532922",
     "exception": false,
     "start_time": "2022-03-22T09:40:01.659469",
     "status": "completed"
    },
    "tags": []
   },
   "outputs": [],
   "source": [
    "# ====================================================\n",
    "# wandb\n",
    "# ====================================================\n",
    "if CFG.wandb:\n",
    "    \n",
    "    import wandb\n",
    "\n",
    "    try:\n",
    "        from kaggle_secrets import UserSecretsClient\n",
    "        user_secrets = UserSecretsClient()\n",
    "        secret_value_0 = user_secrets.get_secret(\"wandb_api\")\n",
    "        wandb.login(key=secret_value_0)\n",
    "        anony = None\n",
    "    except:\n",
    "        anony = \"must\"\n",
    "        print('If you want to use your W&B account, go to Add-ons -> Secrets and provide your W&B access token. Use the Label name as wandb_api. \\nGet your W&B access token from here: https://wandb.ai/authorize')\n",
    "\n",
    "\n",
    "    def class2dict(f):\n",
    "        return dict((name, getattr(f, name)) for name in dir(f) if not name.startswith('__'))\n",
    "\n",
    "    run = wandb.init(project='PPPM-Public', \n",
    "                     name=CFG.model,\n",
    "                     config=class2dict(CFG),\n",
    "                     group=CFG.model,\n",
    "                     job_type=\"train\",\n",
    "                     anonymous=anony)"
   ]
  },
  {
   "cell_type": "code",
   "execution_count": 9,
   "id": "9f7d6f8c",
   "metadata": {},
   "outputs": [],
   "source": [
    "# !pip install transformers==4.16.2\n",
    "# !pip install tokenizers==0.11.0"
   ]
  },
  {
   "cell_type": "markdown",
   "id": "5ed638be",
   "metadata": {
    "id": "f2ed8ef2",
    "papermill": {
     "duration": 0.038261,
     "end_time": "2022-03-22T09:40:10.626926",
     "exception": false,
     "start_time": "2022-03-22T09:40:10.588665",
     "status": "completed"
    },
    "tags": []
   },
   "source": [
    "# Library"
   ]
  },
  {
   "cell_type": "code",
   "execution_count": 10,
   "id": "ebee5bbe",
   "metadata": {
    "executionInfo": {
     "elapsed": 20123,
     "status": "ok",
     "timestamp": 1644920080956,
     "user": {
      "displayName": "Yasufumi Nakama",
      "photoUrl": "https://lh3.googleusercontent.com/a/default-user=s64",
      "userId": "17486303986134302670"
     },
     "user_tz": -540
    },
    "id": "35916341",
    "outputId": "06fa0ab8-a380-4f54-a98d-b7015b79d9e2",
    "papermill": {
     "duration": 26.143536,
     "end_time": "2022-03-22T09:40:36.798853",
     "exception": false,
     "start_time": "2022-03-22T09:40:10.655317",
     "status": "completed"
    },
    "tags": []
   },
   "outputs": [
    {
     "name": "stdout",
     "output_type": "stream",
     "text": [
      "torch.__version__: 1.9.0+cu111\n",
      "tokenizers.__version__: 0.11.0\n",
      "transformers.__version__: 4.16.2\n",
      "env: TOKENIZERS_PARALLELISM=true\n",
      "cuda\n"
     ]
    }
   ],
   "source": [
    "# ====================================================\n",
    "# Library\n",
    "# ====================================================\n",
    "import os\n",
    "import gc\n",
    "import re\n",
    "import ast\n",
    "import sys\n",
    "import copy\n",
    "import json\n",
    "import time\n",
    "import math\n",
    "import shutil\n",
    "import string\n",
    "import pickle\n",
    "import random\n",
    "import joblib\n",
    "import itertools\n",
    "from pathlib import Path\n",
    "import warnings\n",
    "warnings.filterwarnings(\"ignore\")\n",
    "\n",
    "import scipy as sp\n",
    "import numpy as np\n",
    "import pandas as pd\n",
    "pd.set_option('display.max_rows', 500)\n",
    "pd.set_option('display.max_columns', 500)\n",
    "pd.set_option('display.width', 1000)\n",
    "from tqdm.auto import tqdm\n",
    "from sklearn.metrics import f1_score\n",
    "from sklearn.model_selection import StratifiedKFold, GroupKFold, KFold\n",
    "\n",
    "import torch\n",
    "print(f\"torch.__version__: {torch.__version__}\")\n",
    "import torch.nn as nn\n",
    "from torch.nn import Parameter\n",
    "import torch.nn.functional as F\n",
    "from torch.optim import Adam, SGD, AdamW\n",
    "from torch.utils.data import DataLoader, Dataset\n",
    "\n",
    "import tokenizers\n",
    "import transformers\n",
    "print(f\"tokenizers.__version__: {tokenizers.__version__}\")\n",
    "print(f\"transformers.__version__: {transformers.__version__}\")\n",
    "from transformers import AutoTokenizer, AutoModel, AutoConfig\n",
    "from transformers import get_linear_schedule_with_warmup, get_cosine_schedule_with_warmup\n",
    "%env TOKENIZERS_PARALLELISM=true\n",
    "\n",
    "device = torch.device('cuda' if torch.cuda.is_available() else 'cpu')\n",
    "\n",
    "# device = torch.device('cpu')\n",
    "print(device)\n",
    "\n",
    "start = time.time()"
   ]
  },
  {
   "cell_type": "markdown",
   "id": "dcc0106a",
   "metadata": {
    "id": "fd586614",
    "papermill": {
     "duration": 0.032888,
     "end_time": "2022-03-22T09:40:36.865209",
     "exception": false,
     "start_time": "2022-03-22T09:40:36.832321",
     "status": "completed"
    },
    "tags": []
   },
   "source": [
    "# Utils"
   ]
  },
  {
   "cell_type": "code",
   "execution_count": 11,
   "id": "540df385",
   "metadata": {
    "id": "d5c0ccc6",
    "papermill": {
     "duration": 0.21551,
     "end_time": "2022-03-22T09:40:37.116848",
     "exception": false,
     "start_time": "2022-03-22T09:40:36.901338",
     "status": "completed"
    },
    "tags": []
   },
   "outputs": [],
   "source": [
    "# ====================================================\n",
    "# Utils\n",
    "# ====================================================\n",
    "def get_score(y_true, y_pred):\n",
    "    score = sp.stats.pearsonr(y_true, y_pred)[0]\n",
    "    return score\n",
    "\n",
    "\n",
    "def get_logger(filename=OUTPUT_DIR+'train'):\n",
    "    from logging import getLogger, INFO, StreamHandler, FileHandler, Formatter\n",
    "    logger = getLogger(__name__)\n",
    "    logger.setLevel(INFO)\n",
    "    handler1 = StreamHandler()\n",
    "    handler1.setFormatter(Formatter(\"%(message)s\"))\n",
    "    handler2 = FileHandler(filename=f\"{filename}.log\")\n",
    "    handler2.setFormatter(Formatter(\"%(message)s\"))\n",
    "    logger.addHandler(handler1)\n",
    "    logger.addHandler(handler2)\n",
    "    return logger\n",
    "\n",
    "LOGGER = get_logger()\n",
    "\n",
    "def seed_everything(seed=42):\n",
    "    random.seed(seed)\n",
    "    os.environ['PYTHONHASHSEED'] = str(seed)\n",
    "    np.random.seed(seed)\n",
    "    torch.manual_seed(seed)\n",
    "    torch.cuda.manual_seed(seed)\n",
    "    torch.backends.cudnn.deterministic = True\n",
    "    \n",
    "seed_everything(seed=42)"
   ]
  },
  {
   "cell_type": "markdown",
   "id": "32170fde",
   "metadata": {
    "id": "cb3d8e1e",
    "papermill": {
     "duration": 0.032614,
     "end_time": "2022-03-22T09:40:37.184739",
     "exception": false,
     "start_time": "2022-03-22T09:40:37.152125",
     "status": "completed"
    },
    "tags": []
   },
   "source": [
    "# Data Loading"
   ]
  },
  {
   "cell_type": "code",
   "execution_count": 12,
   "id": "a903a50f",
   "metadata": {
    "executionInfo": {
     "elapsed": 2627,
     "status": "ok",
     "timestamp": 1644920084001,
     "user": {
      "displayName": "Yasufumi Nakama",
      "photoUrl": "https://lh3.googleusercontent.com/a/default-user=s64",
      "userId": "17486303986134302670"
     },
     "user_tz": -540
    },
    "id": "bef012d3",
    "outputId": "d4d60dbc-510c-4f34-8d64-dd1d88c4808c",
    "papermill": {
     "duration": 0.154829,
     "end_time": "2022-03-22T09:40:37.374453",
     "exception": false,
     "start_time": "2022-03-22T09:40:37.219624",
     "status": "completed"
    },
    "tags": []
   },
   "outputs": [
    {
     "name": "stdout",
     "output_type": "stream",
     "text": [
      "train.shape: (36473, 5)\n",
      "test.shape: (36, 4)\n",
      "submission.shape: (36, 2)\n"
     ]
    },
    {
     "data": {
      "text/html": [
       "<div>\n",
       "<style scoped>\n",
       "    .dataframe tbody tr th:only-of-type {\n",
       "        vertical-align: middle;\n",
       "    }\n",
       "\n",
       "    .dataframe tbody tr th {\n",
       "        vertical-align: top;\n",
       "    }\n",
       "\n",
       "    .dataframe thead th {\n",
       "        text-align: right;\n",
       "    }\n",
       "</style>\n",
       "<table border=\"1\" class=\"dataframe\">\n",
       "  <thead>\n",
       "    <tr style=\"text-align: right;\">\n",
       "      <th></th>\n",
       "      <th>id</th>\n",
       "      <th>anchor</th>\n",
       "      <th>target</th>\n",
       "      <th>context</th>\n",
       "      <th>score</th>\n",
       "    </tr>\n",
       "  </thead>\n",
       "  <tbody>\n",
       "    <tr>\n",
       "      <th>0</th>\n",
       "      <td>37d61fd2272659b1</td>\n",
       "      <td>abatement</td>\n",
       "      <td>abatement of pollution</td>\n",
       "      <td>A47</td>\n",
       "      <td>0.50</td>\n",
       "    </tr>\n",
       "    <tr>\n",
       "      <th>1</th>\n",
       "      <td>7b9652b17b68b7a4</td>\n",
       "      <td>abatement</td>\n",
       "      <td>act of abating</td>\n",
       "      <td>A47</td>\n",
       "      <td>0.75</td>\n",
       "    </tr>\n",
       "    <tr>\n",
       "      <th>2</th>\n",
       "      <td>36d72442aefd8232</td>\n",
       "      <td>abatement</td>\n",
       "      <td>active catalyst</td>\n",
       "      <td>A47</td>\n",
       "      <td>0.25</td>\n",
       "    </tr>\n",
       "    <tr>\n",
       "      <th>3</th>\n",
       "      <td>5296b0c19e1ce60e</td>\n",
       "      <td>abatement</td>\n",
       "      <td>eliminating process</td>\n",
       "      <td>A47</td>\n",
       "      <td>0.50</td>\n",
       "    </tr>\n",
       "    <tr>\n",
       "      <th>4</th>\n",
       "      <td>54c1e3b9184cb5b6</td>\n",
       "      <td>abatement</td>\n",
       "      <td>forest region</td>\n",
       "      <td>A47</td>\n",
       "      <td>0.00</td>\n",
       "    </tr>\n",
       "  </tbody>\n",
       "</table>\n",
       "</div>"
      ],
      "text/plain": [
       "                 id     anchor                  target context  score\n",
       "0  37d61fd2272659b1  abatement  abatement of pollution     A47   0.50\n",
       "1  7b9652b17b68b7a4  abatement          act of abating     A47   0.75\n",
       "2  36d72442aefd8232  abatement         active catalyst     A47   0.25\n",
       "3  5296b0c19e1ce60e  abatement     eliminating process     A47   0.50\n",
       "4  54c1e3b9184cb5b6  abatement           forest region     A47   0.00"
      ]
     },
     "metadata": {},
     "output_type": "display_data"
    },
    {
     "data": {
      "text/html": [
       "<div>\n",
       "<style scoped>\n",
       "    .dataframe tbody tr th:only-of-type {\n",
       "        vertical-align: middle;\n",
       "    }\n",
       "\n",
       "    .dataframe tbody tr th {\n",
       "        vertical-align: top;\n",
       "    }\n",
       "\n",
       "    .dataframe thead th {\n",
       "        text-align: right;\n",
       "    }\n",
       "</style>\n",
       "<table border=\"1\" class=\"dataframe\">\n",
       "  <thead>\n",
       "    <tr style=\"text-align: right;\">\n",
       "      <th></th>\n",
       "      <th>id</th>\n",
       "      <th>anchor</th>\n",
       "      <th>target</th>\n",
       "      <th>context</th>\n",
       "    </tr>\n",
       "  </thead>\n",
       "  <tbody>\n",
       "    <tr>\n",
       "      <th>0</th>\n",
       "      <td>4112d61851461f60</td>\n",
       "      <td>opc drum</td>\n",
       "      <td>inorganic photoconductor drum</td>\n",
       "      <td>G02</td>\n",
       "    </tr>\n",
       "    <tr>\n",
       "      <th>1</th>\n",
       "      <td>09e418c93a776564</td>\n",
       "      <td>adjust gas flow</td>\n",
       "      <td>altering gas flow</td>\n",
       "      <td>F23</td>\n",
       "    </tr>\n",
       "    <tr>\n",
       "      <th>2</th>\n",
       "      <td>36baf228038e314b</td>\n",
       "      <td>lower trunnion</td>\n",
       "      <td>lower locating</td>\n",
       "      <td>B60</td>\n",
       "    </tr>\n",
       "    <tr>\n",
       "      <th>3</th>\n",
       "      <td>1f37ead645e7f0c8</td>\n",
       "      <td>cap component</td>\n",
       "      <td>upper portion</td>\n",
       "      <td>D06</td>\n",
       "    </tr>\n",
       "    <tr>\n",
       "      <th>4</th>\n",
       "      <td>71a5b6ad068d531f</td>\n",
       "      <td>neural stimulation</td>\n",
       "      <td>artificial neural network</td>\n",
       "      <td>H04</td>\n",
       "    </tr>\n",
       "  </tbody>\n",
       "</table>\n",
       "</div>"
      ],
      "text/plain": [
       "                 id              anchor                         target context\n",
       "0  4112d61851461f60            opc drum  inorganic photoconductor drum     G02\n",
       "1  09e418c93a776564     adjust gas flow              altering gas flow     F23\n",
       "2  36baf228038e314b      lower trunnion                 lower locating     B60\n",
       "3  1f37ead645e7f0c8       cap component                  upper portion     D06\n",
       "4  71a5b6ad068d531f  neural stimulation      artificial neural network     H04"
      ]
     },
     "metadata": {},
     "output_type": "display_data"
    },
    {
     "data": {
      "text/html": [
       "<div>\n",
       "<style scoped>\n",
       "    .dataframe tbody tr th:only-of-type {\n",
       "        vertical-align: middle;\n",
       "    }\n",
       "\n",
       "    .dataframe tbody tr th {\n",
       "        vertical-align: top;\n",
       "    }\n",
       "\n",
       "    .dataframe thead th {\n",
       "        text-align: right;\n",
       "    }\n",
       "</style>\n",
       "<table border=\"1\" class=\"dataframe\">\n",
       "  <thead>\n",
       "    <tr style=\"text-align: right;\">\n",
       "      <th></th>\n",
       "      <th>id</th>\n",
       "      <th>score</th>\n",
       "    </tr>\n",
       "  </thead>\n",
       "  <tbody>\n",
       "    <tr>\n",
       "      <th>0</th>\n",
       "      <td>4112d61851461f60</td>\n",
       "      <td>0</td>\n",
       "    </tr>\n",
       "    <tr>\n",
       "      <th>1</th>\n",
       "      <td>09e418c93a776564</td>\n",
       "      <td>0</td>\n",
       "    </tr>\n",
       "    <tr>\n",
       "      <th>2</th>\n",
       "      <td>36baf228038e314b</td>\n",
       "      <td>0</td>\n",
       "    </tr>\n",
       "    <tr>\n",
       "      <th>3</th>\n",
       "      <td>1f37ead645e7f0c8</td>\n",
       "      <td>0</td>\n",
       "    </tr>\n",
       "    <tr>\n",
       "      <th>4</th>\n",
       "      <td>71a5b6ad068d531f</td>\n",
       "      <td>0</td>\n",
       "    </tr>\n",
       "  </tbody>\n",
       "</table>\n",
       "</div>"
      ],
      "text/plain": [
       "                 id  score\n",
       "0  4112d61851461f60      0\n",
       "1  09e418c93a776564      0\n",
       "2  36baf228038e314b      0\n",
       "3  1f37ead645e7f0c8      0\n",
       "4  71a5b6ad068d531f      0"
      ]
     },
     "metadata": {},
     "output_type": "display_data"
    }
   ],
   "source": [
    "# ====================================================\n",
    "# Data Loading\n",
    "# ====================================================\n",
    "train = pd.read_csv(INPUT_DIR+'train.csv')\n",
    "test = pd.read_csv(INPUT_DIR+'test.csv')\n",
    "submission = pd.read_csv(INPUT_DIR+'sample_submission.csv')\n",
    "print(f\"train.shape: {train.shape}\")\n",
    "print(f\"test.shape: {test.shape}\")\n",
    "print(f\"submission.shape: {submission.shape}\")\n",
    "display(train.head())\n",
    "display(test.head())\n",
    "display(submission.head())"
   ]
  },
  {
   "cell_type": "code",
   "execution_count": 13,
   "id": "fa85ac77",
   "metadata": {
    "papermill": {
     "duration": 0.848818,
     "end_time": "2022-03-22T09:40:38.260255",
     "exception": false,
     "start_time": "2022-03-22T09:40:37.411437",
     "status": "completed"
    },
    "tags": []
   },
   "outputs": [
    {
     "data": {
      "text/html": [
       "<div>\n",
       "<style scoped>\n",
       "    .dataframe tbody tr th:only-of-type {\n",
       "        vertical-align: middle;\n",
       "    }\n",
       "\n",
       "    .dataframe tbody tr th {\n",
       "        vertical-align: top;\n",
       "    }\n",
       "\n",
       "    .dataframe thead th {\n",
       "        text-align: right;\n",
       "    }\n",
       "</style>\n",
       "<table border=\"1\" class=\"dataframe\">\n",
       "  <thead>\n",
       "    <tr style=\"text-align: right;\">\n",
       "      <th></th>\n",
       "      <th>id</th>\n",
       "      <th>anchor</th>\n",
       "      <th>target</th>\n",
       "      <th>context</th>\n",
       "      <th>score</th>\n",
       "      <th>context_text</th>\n",
       "    </tr>\n",
       "  </thead>\n",
       "  <tbody>\n",
       "    <tr>\n",
       "      <th>0</th>\n",
       "      <td>37d61fd2272659b1</td>\n",
       "      <td>abatement</td>\n",
       "      <td>abatement of pollution</td>\n",
       "      <td>A47</td>\n",
       "      <td>0.50</td>\n",
       "      <td>HUMAN NECESSITIES. FURNITURE; DOMESTIC ARTICLE...</td>\n",
       "    </tr>\n",
       "    <tr>\n",
       "      <th>1</th>\n",
       "      <td>7b9652b17b68b7a4</td>\n",
       "      <td>abatement</td>\n",
       "      <td>act of abating</td>\n",
       "      <td>A47</td>\n",
       "      <td>0.75</td>\n",
       "      <td>HUMAN NECESSITIES. FURNITURE; DOMESTIC ARTICLE...</td>\n",
       "    </tr>\n",
       "    <tr>\n",
       "      <th>2</th>\n",
       "      <td>36d72442aefd8232</td>\n",
       "      <td>abatement</td>\n",
       "      <td>active catalyst</td>\n",
       "      <td>A47</td>\n",
       "      <td>0.25</td>\n",
       "      <td>HUMAN NECESSITIES. FURNITURE; DOMESTIC ARTICLE...</td>\n",
       "    </tr>\n",
       "    <tr>\n",
       "      <th>3</th>\n",
       "      <td>5296b0c19e1ce60e</td>\n",
       "      <td>abatement</td>\n",
       "      <td>eliminating process</td>\n",
       "      <td>A47</td>\n",
       "      <td>0.50</td>\n",
       "      <td>HUMAN NECESSITIES. FURNITURE; DOMESTIC ARTICLE...</td>\n",
       "    </tr>\n",
       "    <tr>\n",
       "      <th>4</th>\n",
       "      <td>54c1e3b9184cb5b6</td>\n",
       "      <td>abatement</td>\n",
       "      <td>forest region</td>\n",
       "      <td>A47</td>\n",
       "      <td>0.00</td>\n",
       "      <td>HUMAN NECESSITIES. FURNITURE; DOMESTIC ARTICLE...</td>\n",
       "    </tr>\n",
       "  </tbody>\n",
       "</table>\n",
       "</div>"
      ],
      "text/plain": [
       "                 id     anchor                  target context  score                                       context_text\n",
       "0  37d61fd2272659b1  abatement  abatement of pollution     A47   0.50  HUMAN NECESSITIES. FURNITURE; DOMESTIC ARTICLE...\n",
       "1  7b9652b17b68b7a4  abatement          act of abating     A47   0.75  HUMAN NECESSITIES. FURNITURE; DOMESTIC ARTICLE...\n",
       "2  36d72442aefd8232  abatement         active catalyst     A47   0.25  HUMAN NECESSITIES. FURNITURE; DOMESTIC ARTICLE...\n",
       "3  5296b0c19e1ce60e  abatement     eliminating process     A47   0.50  HUMAN NECESSITIES. FURNITURE; DOMESTIC ARTICLE...\n",
       "4  54c1e3b9184cb5b6  abatement           forest region     A47   0.00  HUMAN NECESSITIES. FURNITURE; DOMESTIC ARTICLE..."
      ]
     },
     "metadata": {},
     "output_type": "display_data"
    },
    {
     "data": {
      "text/html": [
       "<div>\n",
       "<style scoped>\n",
       "    .dataframe tbody tr th:only-of-type {\n",
       "        vertical-align: middle;\n",
       "    }\n",
       "\n",
       "    .dataframe tbody tr th {\n",
       "        vertical-align: top;\n",
       "    }\n",
       "\n",
       "    .dataframe thead th {\n",
       "        text-align: right;\n",
       "    }\n",
       "</style>\n",
       "<table border=\"1\" class=\"dataframe\">\n",
       "  <thead>\n",
       "    <tr style=\"text-align: right;\">\n",
       "      <th></th>\n",
       "      <th>id</th>\n",
       "      <th>anchor</th>\n",
       "      <th>target</th>\n",
       "      <th>context</th>\n",
       "      <th>context_text</th>\n",
       "    </tr>\n",
       "  </thead>\n",
       "  <tbody>\n",
       "    <tr>\n",
       "      <th>0</th>\n",
       "      <td>4112d61851461f60</td>\n",
       "      <td>opc drum</td>\n",
       "      <td>inorganic photoconductor drum</td>\n",
       "      <td>G02</td>\n",
       "      <td>PHYSICS. OPTICS</td>\n",
       "    </tr>\n",
       "    <tr>\n",
       "      <th>1</th>\n",
       "      <td>09e418c93a776564</td>\n",
       "      <td>adjust gas flow</td>\n",
       "      <td>altering gas flow</td>\n",
       "      <td>F23</td>\n",
       "      <td>MECHANICAL ENGINEERING; LIGHTING; HEATING; WEA...</td>\n",
       "    </tr>\n",
       "    <tr>\n",
       "      <th>2</th>\n",
       "      <td>36baf228038e314b</td>\n",
       "      <td>lower trunnion</td>\n",
       "      <td>lower locating</td>\n",
       "      <td>B60</td>\n",
       "      <td>PERFORMING OPERATIONS; TRANSPORTING. VEHICLES ...</td>\n",
       "    </tr>\n",
       "    <tr>\n",
       "      <th>3</th>\n",
       "      <td>1f37ead645e7f0c8</td>\n",
       "      <td>cap component</td>\n",
       "      <td>upper portion</td>\n",
       "      <td>D06</td>\n",
       "      <td>TEXTILES; PAPER. TREATMENT OF TEXTILES OR THE ...</td>\n",
       "    </tr>\n",
       "    <tr>\n",
       "      <th>4</th>\n",
       "      <td>71a5b6ad068d531f</td>\n",
       "      <td>neural stimulation</td>\n",
       "      <td>artificial neural network</td>\n",
       "      <td>H04</td>\n",
       "      <td>ELECTRICITY. ELECTRIC COMMUNICATION TECHNIQUE</td>\n",
       "    </tr>\n",
       "  </tbody>\n",
       "</table>\n",
       "</div>"
      ],
      "text/plain": [
       "                 id              anchor                         target context                                       context_text\n",
       "0  4112d61851461f60            opc drum  inorganic photoconductor drum     G02                                    PHYSICS. OPTICS\n",
       "1  09e418c93a776564     adjust gas flow              altering gas flow     F23  MECHANICAL ENGINEERING; LIGHTING; HEATING; WEA...\n",
       "2  36baf228038e314b      lower trunnion                 lower locating     B60  PERFORMING OPERATIONS; TRANSPORTING. VEHICLES ...\n",
       "3  1f37ead645e7f0c8       cap component                  upper portion     D06  TEXTILES; PAPER. TREATMENT OF TEXTILES OR THE ...\n",
       "4  71a5b6ad068d531f  neural stimulation      artificial neural network     H04      ELECTRICITY. ELECTRIC COMMUNICATION TECHNIQUE"
      ]
     },
     "metadata": {},
     "output_type": "display_data"
    }
   ],
   "source": [
    "# ====================================================\n",
    "# CPC Data\n",
    "# ====================================================\n",
    "def get_cpc_texts():\n",
    "    contexts = []\n",
    "    pattern = '[A-Z]\\d+'\n",
    "    for file_name in os.listdir(INPUT_DIR+'CPCSchemeXML202105'):\n",
    "        result = re.findall(pattern, file_name)\n",
    "        if result:\n",
    "            contexts.append(result)\n",
    "    contexts = sorted(set(sum(contexts, [])))\n",
    "    results = {}\n",
    "    for cpc in ['A', 'B', 'C', 'D', 'E', 'F', 'G', 'H', 'Y']:\n",
    "        with open(f'{INPUT_DIR}CPCTitleList202202/cpc-section-{cpc}_20220201.txt') as f:\n",
    "            s = f.read()\n",
    "        pattern = f'{cpc}\\t\\t.+'\n",
    "        result = re.findall(pattern, s)\n",
    "        cpc_result = result[0].lstrip(pattern)\n",
    "        for context in [c for c in contexts if c[0] == cpc]:\n",
    "            pattern = f'{context}\\t\\t.+'\n",
    "            result = re.findall(pattern, s)\n",
    "            results[context] = cpc_result + \". \" + result[0].lstrip(pattern)\n",
    "    return results\n",
    "\n",
    "\n",
    "# cpc_texts = get_cpc_texts()\n",
    "# torch.save(cpc_texts, OUTPUT_DIR+\"cpc_texts.pth\")\n",
    "cpc_texts = torch.load(INPUT_DIR+\"cpc_texts.pth\")\n",
    "train['context_text'] = train['context'].map(cpc_texts)\n",
    "test['context_text'] = test['context'].map(cpc_texts)\n",
    "display(train.head())\n",
    "display(test.head())"
   ]
  },
  {
   "cell_type": "code",
   "execution_count": 14,
   "id": "7bb73eb6",
   "metadata": {
    "papermill": {
     "duration": 0.084831,
     "end_time": "2022-03-22T09:40:38.384239",
     "exception": false,
     "start_time": "2022-03-22T09:40:38.299408",
     "status": "completed"
    },
    "tags": []
   },
   "outputs": [
    {
     "data": {
      "text/html": [
       "<div>\n",
       "<style scoped>\n",
       "    .dataframe tbody tr th:only-of-type {\n",
       "        vertical-align: middle;\n",
       "    }\n",
       "\n",
       "    .dataframe tbody tr th {\n",
       "        vertical-align: top;\n",
       "    }\n",
       "\n",
       "    .dataframe thead th {\n",
       "        text-align: right;\n",
       "    }\n",
       "</style>\n",
       "<table border=\"1\" class=\"dataframe\">\n",
       "  <thead>\n",
       "    <tr style=\"text-align: right;\">\n",
       "      <th></th>\n",
       "      <th>id</th>\n",
       "      <th>anchor</th>\n",
       "      <th>target</th>\n",
       "      <th>context</th>\n",
       "      <th>score</th>\n",
       "      <th>context_text</th>\n",
       "      <th>text</th>\n",
       "    </tr>\n",
       "  </thead>\n",
       "  <tbody>\n",
       "    <tr>\n",
       "      <th>0</th>\n",
       "      <td>37d61fd2272659b1</td>\n",
       "      <td>abatement</td>\n",
       "      <td>abatement of pollution</td>\n",
       "      <td>A47</td>\n",
       "      <td>0.50</td>\n",
       "      <td>HUMAN NECESSITIES. FURNITURE; DOMESTIC ARTICLE...</td>\n",
       "      <td>abatement[SEP]abatement of pollution[SEP]HUMAN...</td>\n",
       "    </tr>\n",
       "    <tr>\n",
       "      <th>1</th>\n",
       "      <td>7b9652b17b68b7a4</td>\n",
       "      <td>abatement</td>\n",
       "      <td>act of abating</td>\n",
       "      <td>A47</td>\n",
       "      <td>0.75</td>\n",
       "      <td>HUMAN NECESSITIES. FURNITURE; DOMESTIC ARTICLE...</td>\n",
       "      <td>abatement[SEP]act of abating[SEP]HUMAN NECESSI...</td>\n",
       "    </tr>\n",
       "    <tr>\n",
       "      <th>2</th>\n",
       "      <td>36d72442aefd8232</td>\n",
       "      <td>abatement</td>\n",
       "      <td>active catalyst</td>\n",
       "      <td>A47</td>\n",
       "      <td>0.25</td>\n",
       "      <td>HUMAN NECESSITIES. FURNITURE; DOMESTIC ARTICLE...</td>\n",
       "      <td>abatement[SEP]active catalyst[SEP]HUMAN NECESS...</td>\n",
       "    </tr>\n",
       "    <tr>\n",
       "      <th>3</th>\n",
       "      <td>5296b0c19e1ce60e</td>\n",
       "      <td>abatement</td>\n",
       "      <td>eliminating process</td>\n",
       "      <td>A47</td>\n",
       "      <td>0.50</td>\n",
       "      <td>HUMAN NECESSITIES. FURNITURE; DOMESTIC ARTICLE...</td>\n",
       "      <td>abatement[SEP]eliminating process[SEP]HUMAN NE...</td>\n",
       "    </tr>\n",
       "    <tr>\n",
       "      <th>4</th>\n",
       "      <td>54c1e3b9184cb5b6</td>\n",
       "      <td>abatement</td>\n",
       "      <td>forest region</td>\n",
       "      <td>A47</td>\n",
       "      <td>0.00</td>\n",
       "      <td>HUMAN NECESSITIES. FURNITURE; DOMESTIC ARTICLE...</td>\n",
       "      <td>abatement[SEP]forest region[SEP]HUMAN NECESSIT...</td>\n",
       "    </tr>\n",
       "  </tbody>\n",
       "</table>\n",
       "</div>"
      ],
      "text/plain": [
       "                 id     anchor                  target context  score                                       context_text                                               text\n",
       "0  37d61fd2272659b1  abatement  abatement of pollution     A47   0.50  HUMAN NECESSITIES. FURNITURE; DOMESTIC ARTICLE...  abatement[SEP]abatement of pollution[SEP]HUMAN...\n",
       "1  7b9652b17b68b7a4  abatement          act of abating     A47   0.75  HUMAN NECESSITIES. FURNITURE; DOMESTIC ARTICLE...  abatement[SEP]act of abating[SEP]HUMAN NECESSI...\n",
       "2  36d72442aefd8232  abatement         active catalyst     A47   0.25  HUMAN NECESSITIES. FURNITURE; DOMESTIC ARTICLE...  abatement[SEP]active catalyst[SEP]HUMAN NECESS...\n",
       "3  5296b0c19e1ce60e  abatement     eliminating process     A47   0.50  HUMAN NECESSITIES. FURNITURE; DOMESTIC ARTICLE...  abatement[SEP]eliminating process[SEP]HUMAN NE...\n",
       "4  54c1e3b9184cb5b6  abatement           forest region     A47   0.00  HUMAN NECESSITIES. FURNITURE; DOMESTIC ARTICLE...  abatement[SEP]forest region[SEP]HUMAN NECESSIT..."
      ]
     },
     "metadata": {},
     "output_type": "display_data"
    },
    {
     "data": {
      "text/html": [
       "<div>\n",
       "<style scoped>\n",
       "    .dataframe tbody tr th:only-of-type {\n",
       "        vertical-align: middle;\n",
       "    }\n",
       "\n",
       "    .dataframe tbody tr th {\n",
       "        vertical-align: top;\n",
       "    }\n",
       "\n",
       "    .dataframe thead th {\n",
       "        text-align: right;\n",
       "    }\n",
       "</style>\n",
       "<table border=\"1\" class=\"dataframe\">\n",
       "  <thead>\n",
       "    <tr style=\"text-align: right;\">\n",
       "      <th></th>\n",
       "      <th>id</th>\n",
       "      <th>anchor</th>\n",
       "      <th>target</th>\n",
       "      <th>context</th>\n",
       "      <th>context_text</th>\n",
       "      <th>text</th>\n",
       "    </tr>\n",
       "  </thead>\n",
       "  <tbody>\n",
       "    <tr>\n",
       "      <th>0</th>\n",
       "      <td>4112d61851461f60</td>\n",
       "      <td>opc drum</td>\n",
       "      <td>inorganic photoconductor drum</td>\n",
       "      <td>G02</td>\n",
       "      <td>PHYSICS. OPTICS</td>\n",
       "      <td>opc drum[SEP]inorganic photoconductor drum[SEP...</td>\n",
       "    </tr>\n",
       "    <tr>\n",
       "      <th>1</th>\n",
       "      <td>09e418c93a776564</td>\n",
       "      <td>adjust gas flow</td>\n",
       "      <td>altering gas flow</td>\n",
       "      <td>F23</td>\n",
       "      <td>MECHANICAL ENGINEERING; LIGHTING; HEATING; WEA...</td>\n",
       "      <td>adjust gas flow[SEP]altering gas flow[SEP]MECH...</td>\n",
       "    </tr>\n",
       "    <tr>\n",
       "      <th>2</th>\n",
       "      <td>36baf228038e314b</td>\n",
       "      <td>lower trunnion</td>\n",
       "      <td>lower locating</td>\n",
       "      <td>B60</td>\n",
       "      <td>PERFORMING OPERATIONS; TRANSPORTING. VEHICLES ...</td>\n",
       "      <td>lower trunnion[SEP]lower locating[SEP]PERFORMI...</td>\n",
       "    </tr>\n",
       "    <tr>\n",
       "      <th>3</th>\n",
       "      <td>1f37ead645e7f0c8</td>\n",
       "      <td>cap component</td>\n",
       "      <td>upper portion</td>\n",
       "      <td>D06</td>\n",
       "      <td>TEXTILES; PAPER. TREATMENT OF TEXTILES OR THE ...</td>\n",
       "      <td>cap component[SEP]upper portion[SEP]TEXTILES; ...</td>\n",
       "    </tr>\n",
       "    <tr>\n",
       "      <th>4</th>\n",
       "      <td>71a5b6ad068d531f</td>\n",
       "      <td>neural stimulation</td>\n",
       "      <td>artificial neural network</td>\n",
       "      <td>H04</td>\n",
       "      <td>ELECTRICITY. ELECTRIC COMMUNICATION TECHNIQUE</td>\n",
       "      <td>neural stimulation[SEP]artificial neural netwo...</td>\n",
       "    </tr>\n",
       "  </tbody>\n",
       "</table>\n",
       "</div>"
      ],
      "text/plain": [
       "                 id              anchor                         target context                                       context_text                                               text\n",
       "0  4112d61851461f60            opc drum  inorganic photoconductor drum     G02                                    PHYSICS. OPTICS  opc drum[SEP]inorganic photoconductor drum[SEP...\n",
       "1  09e418c93a776564     adjust gas flow              altering gas flow     F23  MECHANICAL ENGINEERING; LIGHTING; HEATING; WEA...  adjust gas flow[SEP]altering gas flow[SEP]MECH...\n",
       "2  36baf228038e314b      lower trunnion                 lower locating     B60  PERFORMING OPERATIONS; TRANSPORTING. VEHICLES ...  lower trunnion[SEP]lower locating[SEP]PERFORMI...\n",
       "3  1f37ead645e7f0c8       cap component                  upper portion     D06  TEXTILES; PAPER. TREATMENT OF TEXTILES OR THE ...  cap component[SEP]upper portion[SEP]TEXTILES; ...\n",
       "4  71a5b6ad068d531f  neural stimulation      artificial neural network     H04      ELECTRICITY. ELECTRIC COMMUNICATION TECHNIQUE  neural stimulation[SEP]artificial neural netwo..."
      ]
     },
     "metadata": {},
     "output_type": "display_data"
    }
   ],
   "source": [
    "pad = \"[SEP]\"\n",
    "train['text'] = train['anchor'] + pad + train['target'] +pad  + train['context_text']\n",
    "test['text'] = test['anchor'] + pad + test['target'] +pad  + test['context_text']\n",
    "display(train.head())\n",
    "display(test.head())"
   ]
  },
  {
   "cell_type": "markdown",
   "id": "b01d622c",
   "metadata": {
    "papermill": {
     "duration": 0.040462,
     "end_time": "2022-03-22T09:40:38.462517",
     "exception": false,
     "start_time": "2022-03-22T09:40:38.422055",
     "status": "completed"
    },
    "tags": []
   },
   "source": [
    "# EDA"
   ]
  },
  {
   "cell_type": "code",
   "execution_count": 15,
   "id": "560906cd",
   "metadata": {
    "papermill": {
     "duration": 0.298955,
     "end_time": "2022-03-22T09:40:38.799273",
     "exception": false,
     "start_time": "2022-03-22T09:40:38.500318",
     "status": "completed"
    },
    "tags": []
   },
   "outputs": [
    {
     "data": {
      "text/plain": [
       "<AxesSubplot:>"
      ]
     },
     "execution_count": 15,
     "metadata": {},
     "output_type": "execute_result"
    },
    {
     "data": {
      "image/png": "[encoded data removed]",
      "text/plain": [
       "<Figure size 432x288 with 1 Axes>"
      ]
     },
     "metadata": {
      "needs_background": "light"
     },
     "output_type": "display_data"
    }
   ],
   "source": [
    "train['score'].hist()"
   ]
  },
  {
   "cell_type": "code",
   "execution_count": 16,
   "id": "bb2122ec",
   "metadata": {
    "papermill": {
     "duration": 0.072329,
     "end_time": "2022-03-22T09:40:38.914779",
     "exception": false,
     "start_time": "2022-03-22T09:40:38.842450",
     "status": "completed"
    },
    "tags": []
   },
   "outputs": [
    {
     "data": {
      "text/plain": [
       "B    8019\n",
       "H    6195\n",
       "G    6013\n",
       "C    5288\n",
       "A    4094\n",
       "F    4054\n",
       "E    1531\n",
       "D    1279\n",
       "Name: context, dtype: int64"
      ]
     },
     "metadata": {},
     "output_type": "display_data"
    }
   ],
   "source": [
    "display(train['context'].apply(lambda x: x[0]).value_counts())"
   ]
  },
  {
   "cell_type": "markdown",
   "id": "fdc1e4e5",
   "metadata": {
    "papermill": {
     "duration": 0.040834,
     "end_time": "2022-03-22T09:40:38.997435",
     "exception": false,
     "start_time": "2022-03-22T09:40:38.956601",
     "status": "completed"
    },
    "tags": []
   },
   "source": [
    "- Y is not in training data, but may be in test data?"
   ]
  },
  {
   "cell_type": "markdown",
   "id": "9249864a",
   "metadata": {
    "id": "9e05b6c4",
    "papermill": {
     "duration": 0.041734,
     "end_time": "2022-03-22T09:40:39.084284",
     "exception": false,
     "start_time": "2022-03-22T09:40:39.042550",
     "status": "completed"
    },
    "tags": []
   },
   "source": [
    "# CV split"
   ]
  },
  {
   "cell_type": "code",
   "execution_count": 17,
   "id": "44a41536",
   "metadata": {
    "executionInfo": {
     "elapsed": 12,
     "status": "ok",
     "timestamp": 1644920084528,
     "user": {
      "displayName": "Yasufumi Nakama",
      "photoUrl": "https://lh3.googleusercontent.com/a/default-user=s64",
      "userId": "17486303986134302670"
     },
     "user_tz": -540
    },
    "id": "3ba287c4",
    "outputId": "307dc0e2-17d6-4bfe-9e95-fdd9b6303974",
    "papermill": {
     "duration": 0.074115,
     "end_time": "2022-03-22T09:40:39.201383",
     "exception": false,
     "start_time": "2022-03-22T09:40:39.127268",
     "status": "completed"
    },
    "tags": []
   },
   "outputs": [
    {
     "data": {
      "text/plain": [
       "fold\n",
       "0    9119\n",
       "1    9118\n",
       "2    9118\n",
       "3    9118\n",
       "dtype: int64"
      ]
     },
     "metadata": {},
     "output_type": "display_data"
    }
   ],
   "source": [
    "# ====================================================\n",
    "# CV split\n",
    "# ====================================================\n",
    "train['score_map'] = train['score'].map({0.00: 0, 0.25: 1, 0.50: 2, 0.75: 3, 1.00: 4})\n",
    "Fold = StratifiedKFold(n_splits=CFG.n_fold, shuffle=True, random_state=CFG.seed)\n",
    "for n, (train_index, val_index) in enumerate(Fold.split(train, train['score_map'])):\n",
    "    train.loc[val_index, 'fold'] = int(n)\n",
    "train['fold'] = train['fold'].astype(int)\n",
    "display(train.groupby('fold').size())"
   ]
  },
  {
   "cell_type": "code",
   "execution_count": 18,
   "id": "bb9ce665",
   "metadata": {
    "id": "4c3ce877",
    "papermill": {
     "duration": 0.049441,
     "end_time": "2022-03-22T09:40:39.291307",
     "exception": false,
     "start_time": "2022-03-22T09:40:39.241866",
     "status": "completed"
    },
    "tags": []
   },
   "outputs": [],
   "source": [
    "if CFG.debug:\n",
    "    display(train.groupby('fold').size())\n",
    "    train = train.sample(n=1000, random_state=0).reset_index(drop=True)\n",
    "    display(train.groupby('fold').size())"
   ]
  },
  {
   "cell_type": "markdown",
   "id": "a7adea75",
   "metadata": {
    "id": "918a28aa",
    "papermill": {
     "duration": 0.039494,
     "end_time": "2022-03-22T09:40:39.374931",
     "exception": false,
     "start_time": "2022-03-22T09:40:39.335437",
     "status": "completed"
    },
    "tags": []
   },
   "source": [
    "# tokenizer"
   ]
  },
  {
   "cell_type": "code",
   "execution_count": 19,
   "id": "4efc387f",
   "metadata": {},
   "outputs": [],
   "source": [
    "# !pip install --no-cache-dir sentencepiece"
   ]
  },
  {
   "cell_type": "code",
   "execution_count": 20,
   "id": "54f8891e",
   "metadata": {
    "papermill": {
     "duration": 5.198604,
     "end_time": "2022-03-22T09:40:44.612849",
     "exception": false,
     "start_time": "2022-03-22T09:40:39.414245",
     "status": "completed"
    },
    "tags": []
   },
   "outputs": [],
   "source": [
    "# ====================================================\n",
    "# tokenizer\n",
    "# ====================================================\n",
    "# tokenizer = AutoTokenizer.from_pretrained(CFG.model,use_fast=False)\n",
    "tokenizer = AutoTokenizer.from_pretrained(CFG.model,use_fast=False)\n",
    "tokenizer.save_pretrained(OUTPUT_DIR+'tokenizer/')\n",
    "CFG.tokenizer = tokenizer\n",
    "\n"
   ]
  },
  {
   "cell_type": "code",
   "execution_count": null,
   "id": "7cf880ca-b3fb-4603-9194-fc20c0f93e59",
   "metadata": {},
   "outputs": [],
   "source": []
  },
  {
   "cell_type": "markdown",
   "id": "d9fca227",
   "metadata": {
    "id": "14da40cf",
    "papermill": {
     "duration": 0.04897,
     "end_time": "2022-03-22T09:40:44.706931",
     "exception": false,
     "start_time": "2022-03-22T09:40:44.657961",
     "status": "completed"
    },
    "tags": []
   },
   "source": [
    "# Dataset"
   ]
  },
  {
   "cell_type": "code",
   "execution_count": 21,
   "id": "2671471a",
   "metadata": {
    "executionInfo": {
     "elapsed": 32827,
     "status": "ok",
     "timestamp": 1644920122500,
     "user": {
      "displayName": "Yasufumi Nakama",
      "photoUrl": "https://lh3.googleusercontent.com/a/default-user=s64",
      "userId": "17486303986134302670"
     },
     "user_tz": -540
    },
    "id": "c00327b0",
    "outputId": "26e947da-b73a-494d-e776-906b037ac08a",
    "papermill": {
     "duration": 7.208379,
     "end_time": "2022-03-22T09:40:51.959343",
     "exception": false,
     "start_time": "2022-03-22T09:40:44.750964",
     "status": "completed"
    },
    "tags": []
   },
   "outputs": [
    {
     "data": {
      "application/vnd.jupyter.widget-view+json": {
       "model_id": "a68803f132c349e7b9348c55b559e999",
       "version_major": 2,
       "version_minor": 0
      },
      "text/plain": [
       "  0%|          | 0/136 [00:00<?, ?it/s]"
      ]
     },
     "metadata": {},
     "output_type": "display_data"
    },
    {
     "data": {
      "application/vnd.jupyter.widget-view+json": {
       "model_id": "e771d3254b91420cb6d8e06000fde3c1",
       "version_major": 2,
       "version_minor": 0
      },
      "text/plain": [
       "  0%|          | 0/36473 [00:00<?, ?it/s]"
      ]
     },
     "metadata": {},
     "output_type": "display_data"
    },
    {
     "data": {
      "application/vnd.jupyter.widget-view+json": {
       "model_id": "8d3091185c784b608fe291bd9759a582",
       "version_major": 2,
       "version_minor": 0
      },
      "text/plain": [
       "  0%|          | 0/36473 [00:00<?, ?it/s]"
      ]
     },
     "metadata": {},
     "output_type": "display_data"
    },
    {
     "name": "stderr",
     "output_type": "stream",
     "text": [
      "max_len: 175\n"
     ]
    }
   ],
   "source": [
    "# ====================================================\n",
    "# Define max_len\n",
    "# ====================================================\n",
    "lengths_dict = {}\n",
    "\n",
    "lengths = []\n",
    "tk0 = tqdm(cpc_texts.values(), total=len(cpc_texts))\n",
    "for text in tk0:\n",
    "    length = len(tokenizer(text, add_special_tokens=False)['input_ids'])\n",
    "    lengths.append(length)\n",
    "lengths_dict['context_text'] = lengths\n",
    "\n",
    "for text_col in ['anchor', 'target']:\n",
    "    lengths = []\n",
    "    tk0 = tqdm(train[text_col].fillna(\"\").values, total=len(train))\n",
    "    for text in tk0:\n",
    "        length = len(tokenizer(text, add_special_tokens=False)['input_ids'])\n",
    "        lengths.append(length)\n",
    "    lengths_dict[text_col] = lengths\n",
    "    \n",
    "CFG.max_len = max(lengths_dict['anchor']) + max(lengths_dict['target'])\\\n",
    "                + max(lengths_dict['context_text']) + 4 # CLS + SEP + SEP + SEP\n",
    "LOGGER.info(f\"max_len: {CFG.max_len}\")"
   ]
  },
  {
   "cell_type": "code",
   "execution_count": 22,
   "id": "49be5a92",
   "metadata": {
    "id": "9f791a19",
    "papermill": {
     "duration": 0.055528,
     "end_time": "2022-03-22T09:40:52.072178",
     "exception": false,
     "start_time": "2022-03-22T09:40:52.016650",
     "status": "completed"
    },
    "tags": []
   },
   "outputs": [
    {
     "name": "stdout",
     "output_type": "stream",
     "text": [
      "torch.__version__: 1.9.0+cu111\n"
     ]
    }
   ],
   "source": [
    "# ====================================================\n",
    "# Dataset\n",
    "# ====================================================\n",
    "def prepare_input(cfg, text):\n",
    "    inputs = cfg.tokenizer(text,\n",
    "                           add_special_tokens=True,\n",
    "                           max_length=cfg.max_len,\n",
    "                           padding=\"max_length\",\n",
    "                           return_offsets_mapping=False)\n",
    "    for k, v in inputs.items():\n",
    "        inputs[k] = torch.tensor(v, dtype=torch.long)\n",
    "    return inputs\n",
    "\n",
    "sys.path.append('../dataset')\n",
    "from dataset import TrainDataset"
   ]
  },
  {
   "cell_type": "code",
   "execution_count": 23,
   "id": "a459997d",
   "metadata": {
    "executionInfo": {
     "elapsed": 8,
     "status": "ok",
     "timestamp": 1644920122808,
     "user": {
      "displayName": "Yasufumi Nakama",
      "photoUrl": "https://lh3.googleusercontent.com/a/default-user=s64",
      "userId": "17486303986134302670"
     },
     "user_tz": -540
    },
    "id": "a200bd5b",
    "outputId": "a30fde2b-86f9-4ebd-ae81-33f467b69836",
    "papermill": {
     "duration": 0.05166,
     "end_time": "2022-03-22T09:40:52.171272",
     "exception": false,
     "start_time": "2022-03-22T09:40:52.119612",
     "status": "completed"
    },
    "tags": []
   },
   "outputs": [
    {
     "data": {
      "text/plain": [
       "'\\ntrain_dataset = TrainDataset(CFG, train)\\ninputs, label = train_dataset[0]\\nprint(inputs)\\nprint(label)\\n'"
      ]
     },
     "execution_count": 23,
     "metadata": {},
     "output_type": "execute_result"
    }
   ],
   "source": [
    "\"\"\"\n",
    "train_dataset = TrainDataset(CFG, train)\n",
    "inputs, label = train_dataset[0]\n",
    "print(inputs)\n",
    "print(label)\n",
    "\"\"\""
   ]
  },
  {
   "cell_type": "markdown",
   "id": "44d28ba3",
   "metadata": {
    "id": "e04d6363",
    "papermill": {
     "duration": 0.044161,
     "end_time": "2022-03-22T09:40:52.262022",
     "exception": false,
     "start_time": "2022-03-22T09:40:52.217861",
     "status": "completed"
    },
    "tags": []
   },
   "source": [
    "# Model"
   ]
  },
  {
   "cell_type": "code",
   "execution_count": 24,
   "id": "872e6567",
   "metadata": {
    "id": "4c5bab44",
    "papermill": {
     "duration": 0.066203,
     "end_time": "2022-03-22T09:40:52.372030",
     "exception": false,
     "start_time": "2022-03-22T09:40:52.305827",
     "status": "completed"
    },
    "tags": []
   },
   "outputs": [],
   "source": [
    "# ====================================================\n",
    "# Model\n",
    "# ====================================================\n",
    "class CustomModel(nn.Module):\n",
    "    def __init__(self, cfg, config_path=None, pretrained=False):\n",
    "        super().__init__()\n",
    "        self.cfg = cfg\n",
    "        if config_path is None:\n",
    "            self.config = AutoConfig.from_pretrained(cfg.model, output_hidden_states=True)\n",
    "        else:\n",
    "            self.config = torch.load(config_path)\n",
    "        if pretrained:\n",
    "            self.model = AutoModel.from_pretrained(cfg.model, config=self.config)\n",
    "        else:\n",
    "            self.model = AutoModel.from_config(self.config)\n",
    "        self.fc_dropout = nn.Dropout(cfg.fc_dropout)\n",
    "        self.fc = nn.Linear(self.config.hidden_size, self.cfg.target_size)\n",
    "        self._init_weights(self.fc)\n",
    "        self.attention = nn.Sequential(\n",
    "            nn.Linear(self.config.hidden_size, 512),\n",
    "            nn.Tanh(),\n",
    "            nn.Linear(512, 1),\n",
    "            nn.Softmax(dim=1)\n",
    "        )\n",
    "        self._init_weights(self.attention)\n",
    "        \n",
    "    def _init_weights(self, module):\n",
    "        if isinstance(module, nn.Linear):\n",
    "            module.weight.data.normal_(mean=0.0, std=self.config.initializer_range)\n",
    "            if module.bias is not None:\n",
    "                module.bias.data.zero_()\n",
    "        elif isinstance(module, nn.Embedding):\n",
    "            module.weight.data.normal_(mean=0.0, std=self.config.initializer_range)\n",
    "            if module.padding_idx is not None:\n",
    "                module.weight.data[module.padding_idx].zero_()\n",
    "        elif isinstance(module, nn.LayerNorm):\n",
    "            module.bias.data.zero_()\n",
    "            module.weight.data.fill_(1.0)\n",
    "        \n",
    "    def feature(self, inputs):\n",
    "        outputs = self.model(**inputs)\n",
    "        last_hidden_states = outputs[0]\n",
    "        # feature = torch.mean(last_hidden_states, 1)\n",
    "        weights = self.attention(last_hidden_states)\n",
    "        feature = torch.sum(weights * last_hidden_states, dim=1)\n",
    "        return feature\n",
    "\n",
    "    def forward(self, inputs):\n",
    "        feature = self.feature(inputs)\n",
    "        output = self.fc(self.fc_dropout(feature))\n",
    "        return output\n",
    "    \n"
   ]
  },
  {
   "cell_type": "markdown",
   "id": "d58eee04",
   "metadata": {
    "id": "deee9675",
    "papermill": {
     "duration": 0.044158,
     "end_time": "2022-03-22T09:40:52.460401",
     "exception": false,
     "start_time": "2022-03-22T09:40:52.416243",
     "status": "completed"
    },
    "tags": []
   },
   "source": [
    "# Helpler functions"
   ]
  },
  {
   "cell_type": "code",
   "execution_count": 25,
   "id": "53d5903c",
   "metadata": {
    "id": "c8263b0c",
    "papermill": {
     "duration": 0.078567,
     "end_time": "2022-03-22T09:40:52.582474",
     "exception": false,
     "start_time": "2022-03-22T09:40:52.503907",
     "status": "completed"
    },
    "tags": []
   },
   "outputs": [],
   "source": [
    "# ====================================================\n",
    "# Helper functions\n",
    "# ====================================================\n",
    "class AverageMeter(object):\n",
    "    \"\"\"Computes and stores the average and current value\"\"\"\n",
    "    def __init__(self):\n",
    "        self.reset()\n",
    "\n",
    "    def reset(self):\n",
    "        self.val = 0\n",
    "        self.avg = 0\n",
    "        self.sum = 0\n",
    "        self.count = 0\n",
    "\n",
    "    def update(self, val, n=1):\n",
    "        self.val = val\n",
    "        self.sum += val * n\n",
    "        self.count += n\n",
    "        self.avg = self.sum / self.count\n",
    "\n",
    "\n",
    "def asMinutes(s):\n",
    "    m = math.floor(s / 60)\n",
    "    s -= m * 60\n",
    "    return '%dm %ds' % (m, s)\n",
    "\n",
    "\n",
    "def timeSince(since, percent):\n",
    "    now = time.time()\n",
    "    s = now - since\n",
    "    es = s / (percent)\n",
    "    rs = es - s\n",
    "    return '%s (remain %s)' % (asMinutes(s), asMinutes(rs))\n",
    "\n",
    "\n",
    "def train_fn(fold, train_loader, model, criterion, optimizer, epoch, scheduler, device):\n",
    "    model.train()\n",
    "    scaler = torch.cuda.amp.GradScaler(enabled=CFG.apex)\n",
    "    losses = AverageMeter()\n",
    "    start = end = time.time()\n",
    "    global_step = 0\n",
    "    for step, (inputs, labels) in enumerate(train_loader):\n",
    "        for k, v in inputs.items():\n",
    "            inputs[k] = v.to(device)\n",
    "        labels = labels.to(device)\n",
    "        batch_size = labels.size(0)\n",
    "        with torch.cuda.amp.autocast(enabled=CFG.apex):\n",
    "            y_preds = model(inputs)\n",
    "        loss = criterion(y_preds.view(-1, 1), labels.view(-1, 1))\n",
    "        if CFG.gradient_accumulation_steps > 1:\n",
    "            loss = loss / CFG.gradient_accumulation_steps\n",
    "        losses.update(loss.item(), batch_size)\n",
    "        scaler.scale(loss).backward()\n",
    "        grad_norm = torch.nn.utils.clip_grad_norm_(model.parameters(), CFG.max_grad_norm)\n",
    "        if (step + 1) % CFG.gradient_accumulation_steps == 0:\n",
    "            scaler.step(optimizer)\n",
    "            scaler.update()\n",
    "            optimizer.zero_grad()\n",
    "            global_step += 1\n",
    "            if CFG.batch_scheduler:\n",
    "                scheduler.step()\n",
    "        end = time.time()\n",
    "        if step % CFG.print_freq == 0 or step == (len(train_loader)-1):\n",
    "            print('Epoch: [{0}][{1}/{2}] '\n",
    "                  'Elapsed {remain:s} '\n",
    "                  'Loss: {loss.val:.4f}({loss.avg:.4f}) '\n",
    "                  'Grad: {grad_norm:.4f}  '\n",
    "                  'LR: {lr:.8f}  '\n",
    "                  .format(epoch+1, step, len(train_loader), \n",
    "                          remain=timeSince(start, float(step+1)/len(train_loader)),\n",
    "                          loss=losses,\n",
    "                          grad_norm=grad_norm,\n",
    "                          lr=scheduler.get_lr()[0]))\n",
    "        if CFG.wandb:\n",
    "            wandb.log({f\"[fold{fold}] loss\": losses.val,\n",
    "                       f\"[fold{fold}] lr\": scheduler.get_lr()[0]})\n",
    "    return losses.avg\n",
    "\n",
    "\n",
    "def valid_fn(valid_loader, model, criterion, device):\n",
    "    losses = AverageMeter()\n",
    "    model.eval()\n",
    "    preds = []\n",
    "    start = end = time.time()\n",
    "    for step, (inputs, labels) in enumerate(valid_loader):\n",
    "        for k, v in inputs.items():\n",
    "            inputs[k] = v.to(device)\n",
    "        labels = labels.to(device)\n",
    "        batch_size = labels.size(0)\n",
    "        with torch.no_grad():\n",
    "            y_preds = model(inputs)\n",
    "        loss = criterion(y_preds.view(-1, 1), labels.view(-1, 1))\n",
    "        if CFG.gradient_accumulation_steps > 1:\n",
    "            loss = loss / CFG.gradient_accumulation_steps\n",
    "        losses.update(loss.item(), batch_size)\n",
    "        preds.append(y_preds.sigmoid().to('cpu').numpy())\n",
    "        end = time.time()\n",
    "        if step % CFG.print_freq == 0 or step == (len(valid_loader)-1):\n",
    "            print('EVAL: [{0}/{1}] '\n",
    "                  'Elapsed {remain:s} '\n",
    "                  'Loss: {loss.val:.4f}({loss.avg:.4f}) '\n",
    "                  .format(step, len(valid_loader),\n",
    "                          loss=losses,\n",
    "                          remain=timeSince(start, float(step+1)/len(valid_loader))))\n",
    "    predictions = np.concatenate(preds)\n",
    "    predictions = np.concatenate(predictions)\n",
    "    return losses.avg, predictions\n",
    "\n",
    "\n",
    "def inference_fn(test_loader, model, device):\n",
    "    preds = []\n",
    "    model.eval()\n",
    "    model.to(device)\n",
    "    tk0 = tqdm(test_loader, total=len(test_loader))\n",
    "    for inputs in tk0:\n",
    "        for k, v in inputs.items():\n",
    "            inputs[k] = v.to(device)\n",
    "        with torch.no_grad():\n",
    "            y_preds = model(inputs)\n",
    "        preds.append(y_preds.sigmoid().to('cpu').numpy())\n",
    "    predictions = np.concatenate(preds)\n",
    "    return predictions"
   ]
  },
  {
   "cell_type": "code",
   "execution_count": 26,
   "id": "e3e9d570",
   "metadata": {
    "id": "bed940e1",
    "papermill": {
     "duration": 0.071348,
     "end_time": "2022-03-22T09:40:52.697940",
     "exception": false,
     "start_time": "2022-03-22T09:40:52.626592",
     "status": "completed"
    },
    "tags": []
   },
   "outputs": [],
   "source": [
    "# ====================================================\n",
    "# train loop\n",
    "# ====================================================\n",
    "# def train_loop(folds, fold):\n",
    "def train_loop(train_loader, valid_loader):\n",
    "#     LOGGER.info(f\"========== fold: {fold} training ==========\")\n",
    "\n",
    "#     # ====================================================\n",
    "#     # loader\n",
    "#     # ====================================================\n",
    "#     train_folds = folds[folds['fold'] != fold].reset_index(drop=True)\n",
    "#     valid_folds = folds[folds['fold'] == fold].reset_index(drop=True)\n",
    "#     valid_labels = valid_folds['score'].values\n",
    "    \n",
    "#     train_dataset = TrainDataset(CFG, train_folds)\n",
    "#     valid_dataset = TrainDataset(CFG, valid_folds)\n",
    "\n",
    "#     train_loader = DataLoader(train_dataset,\n",
    "#                               batch_size=CFG.batch_size,\n",
    "#                               shuffle=True,\n",
    "#                               num_workers=CFG.num_workers, pin_memory=True, drop_last=True)\n",
    "#     valid_loader = DataLoader(valid_dataset,\n",
    "#                               batch_size=CFG.batch_size,\n",
    "#                               shuffle=False,\n",
    "#                               num_workers=CFG.num_workers, pin_memory=True, drop_last=False)\n",
    "\n",
    "    # ====================================================\n",
    "    # model & optimizer\n",
    "    # ====================================================\n",
    "    model = CustomModel(CFG, config_path=None, pretrained=True)\n",
    "    torch.save(model.config, OUTPUT_DIR+'config.pth')\n",
    "    model.to(device)\n",
    "    \n",
    "    def get_optimizer_params(model, encoder_lr, decoder_lr, weight_decay=0.0):\n",
    "        param_optimizer = list(model.named_parameters())\n",
    "        no_decay = [\"bias\", \"LayerNorm.bias\", \"LayerNorm.weight\"]\n",
    "        optimizer_parameters = [\n",
    "            {'params': [p for n, p in model.model.named_parameters() if not any(nd in n for nd in no_decay)],\n",
    "             'lr': encoder_lr, 'weight_decay': weight_decay},\n",
    "            {'params': [p for n, p in model.model.named_parameters() if any(nd in n for nd in no_decay)],\n",
    "             'lr': encoder_lr, 'weight_decay': 0.0},\n",
    "            {'params': [p for n, p in model.named_parameters() if \"model\" not in n],\n",
    "             'lr': decoder_lr, 'weight_decay': 0.0}\n",
    "        ]\n",
    "        return optimizer_parameters\n",
    "\n",
    "    optimizer_parameters = get_optimizer_params(model,\n",
    "                                                encoder_lr=CFG.encoder_lr, \n",
    "                                                decoder_lr=CFG.decoder_lr,\n",
    "                                                weight_decay=CFG.weight_decay)\n",
    "    optimizer = AdamW(optimizer_parameters, lr=CFG.encoder_lr, eps=CFG.eps, betas=CFG.betas)\n",
    "    \n",
    "    # ====================================================\n",
    "    # scheduler\n",
    "    # ====================================================\n",
    "    def get_scheduler(cfg, optimizer, num_train_steps):\n",
    "        if cfg.scheduler == 'linear':\n",
    "            scheduler = get_linear_schedule_with_warmup(\n",
    "                optimizer, num_warmup_steps=cfg.num_warmup_steps, num_training_steps=num_train_steps\n",
    "            )\n",
    "        elif cfg.scheduler == 'cosine':\n",
    "            scheduler = get_cosine_schedule_with_warmup(\n",
    "                optimizer, num_warmup_steps=cfg.num_warmup_steps, num_training_steps=num_train_steps, num_cycles=cfg.num_cycles\n",
    "            )\n",
    "        return scheduler\n",
    "    \n",
    "    num_train_steps = int(len(train_folds) / CFG.batch_size * CFG.epochs)\n",
    "    scheduler = get_scheduler(CFG, optimizer, num_train_steps)\n",
    "\n",
    "    # ====================================================\n",
    "    # loop\n",
    "    # ====================================================\n",
    "    criterion = nn.BCEWithLogitsLoss(reduction=\"mean\")\n",
    "    \n",
    "    best_score = 0.\n",
    "\n",
    "    for epoch in range(CFG.epochs):\n",
    "        start_time = time.time()\n",
    "\n",
    "        # train\n",
    "        avg_loss = train_fn(fold, train_loader, model, criterion, optimizer, epoch, scheduler, device)\n",
    "\n",
    "        # eval\n",
    "        avg_val_loss, predictions = valid_fn(valid_loader, model, criterion, device)\n",
    "        \n",
    "        # scoring\n",
    "        score = get_score(valid_labels, predictions)\n",
    "\n",
    "        elapsed = time.time() - start_time\n",
    "\n",
    "        LOGGER.info(f'Epoch {epoch+1} - avg_train_loss: {avg_loss:.4f}  avg_val_loss: {avg_val_loss:.4f}  time: {elapsed:.0f}s')\n",
    "        LOGGER.info(f'Epoch {epoch+1} - Score: {score:.4f}')\n",
    "        if CFG.wandb:\n",
    "            wandb.log({f\"[fold{fold}] epoch\": epoch+1, \n",
    "                       f\"[fold{fold}] avg_train_loss\": avg_loss, \n",
    "                       f\"[fold{fold}] avg_val_loss\": avg_val_loss,\n",
    "                       f\"[fold{fold}] score\": score})\n",
    "        \n",
    "        if best_score < score:\n",
    "            best_score = score\n",
    "            LOGGER.info(f'Epoch {epoch+1} - Save Best Score: {best_score:.4f} Model')\n",
    "            torch.save({'model': model.state_dict(),\n",
    "                        'predictions': predictions},\n",
    "                        OUTPUT_DIR+f\"{CFG.model.replace('/', '-')}_fold{fold}_best.pth\")\n",
    "\n",
    "    predictions = torch.load(OUTPUT_DIR+f\"{CFG.model.replace('/', '-')}_fold{fold}_best.pth\", \n",
    "                             map_location=torch.device('cpu'))['predictions']\n",
    "    valid_folds['pred'] = predictions\n",
    "\n",
    "    torch.cuda.empty_cache()\n",
    "    gc.collect()\n",
    "    \n",
    "    return valid_folds"
   ]
  },
  {
   "cell_type": "code",
   "execution_count": 27,
   "id": "13eeaf68",
   "metadata": {
    "id": "6cc76b1e",
    "papermill": {
     "duration": 30265.411984,
     "end_time": "2022-03-22T18:05:18.155447",
     "exception": false,
     "start_time": "2022-03-22T09:40:52.743463",
     "status": "completed"
    },
    "scrolled": true,
    "tags": []
   },
   "outputs": [
    {
     "name": "stderr",
     "output_type": "stream",
     "text": [
      "========== fold: 0 training ==========\n"
     ]
    },
    {
     "name": "stdout",
     "output_type": "stream",
     "text": [
      "\u001b[38;5;40m========== fold: 0 training ==========\u001b[0m\n"
     ]
    },
    {
     "name": "stderr",
     "output_type": "stream",
     "text": [
      "Some weights of the model checkpoint at roberta-base were not used when initializing RobertaModel: ['lm_head.dense.bias', 'lm_head.layer_norm.weight', 'lm_head.layer_norm.bias', 'lm_head.bias', 'lm_head.decoder.weight', 'lm_head.dense.weight']\n",
      "- This IS expected if you are initializing RobertaModel from the checkpoint of a model trained on another task or with another architecture (e.g. initializing a BertForSequenceClassification model from a BertForPreTraining model).\n",
      "- This IS NOT expected if you are initializing RobertaModel from the checkpoint of a model that you expect to be exactly identical (initializing a BertForSequenceClassification model from a BertForSequenceClassification model).\n"
     ]
    },
    {
     "name": "stdout",
     "output_type": "stream",
     "text": [
      "Epoch: [1][0/3419] Elapsed 0m 0s (remain 20m 51s) Loss: 0.7478(0.7478) Grad: inf  LR: 0.00002000  \n",
      "Epoch: [1][100/3419] Elapsed 0m 19s (remain 10m 26s) Loss: 0.4886(0.6455) Grad: 73258.2656  LR: 0.00002000  \n",
      "Epoch: [1][200/3419] Elapsed 0m 37s (remain 10m 7s) Loss: 0.5718(0.6301) Grad: 102024.9062  LR: 0.00001999  \n",
      "Epoch: [1][300/3419] Elapsed 0m 56s (remain 9m 49s) Loss: 0.6632(0.6288) Grad: 68735.7109  LR: 0.00001998  \n",
      "Epoch: [1][400/3419] Elapsed 1m 16s (remain 9m 32s) Loss: 0.6078(0.6260) Grad: 80738.6250  LR: 0.00001996  \n",
      "Epoch: [1][500/3419] Elapsed 1m 35s (remain 9m 14s) Loss: 0.6178(0.6215) Grad: 48847.8555  LR: 0.00001993  \n",
      "Epoch: [1][600/3419] Elapsed 1m 54s (remain 8m 55s) Loss: 0.6137(0.6209) Grad: 34973.4492  LR: 0.00001990  \n",
      "Epoch: [1][700/3419] Elapsed 2m 13s (remain 8m 36s) Loss: 0.6297(0.6177) Grad: 51383.5156  LR: 0.00001987  \n",
      "Epoch: [1][800/3419] Elapsed 2m 31s (remain 8m 13s) Loss: 0.5552(0.6171) Grad: 14009.4434  LR: 0.00001983  \n",
      "Epoch: [1][900/3419] Elapsed 2m 50s (remain 7m 56s) Loss: 0.6267(0.6158) Grad: 48422.6992  LR: 0.00001979  \n",
      "Epoch: [1][1000/3419] Elapsed 3m 9s (remain 7m 38s) Loss: 0.7363(0.6147) Grad: 38177.1484  LR: 0.00001974  \n",
      "Epoch: [1][1100/3419] Elapsed 3m 28s (remain 7m 19s) Loss: 0.5513(0.6138) Grad: 50543.2500  LR: 0.00001968  \n",
      "Epoch: [1][1200/3419] Elapsed 3m 47s (remain 7m 0s) Loss: 0.6700(0.6119) Grad: 53855.0898  LR: 0.00001962  \n",
      "Epoch: [1][1300/3419] Elapsed 4m 6s (remain 6m 41s) Loss: 0.6011(0.6104) Grad: 18173.3652  LR: 0.00001956  \n",
      "Epoch: [1][1400/3419] Elapsed 4m 25s (remain 6m 22s) Loss: 0.4182(0.6087) Grad: 32702.2090  LR: 0.00001949  \n",
      "Epoch: [1][1500/3419] Elapsed 4m 44s (remain 6m 3s) Loss: 0.5817(0.6083) Grad: 26809.4863  LR: 0.00001941  \n",
      "Epoch: [1][1600/3419] Elapsed 5m 3s (remain 5m 44s) Loss: 0.5534(0.6070) Grad: 10267.2021  LR: 0.00001933  \n",
      "Epoch: [1][1700/3419] Elapsed 5m 23s (remain 5m 26s) Loss: 0.8494(0.6052) Grad: 172471.8125  LR: 0.00001925  \n",
      "Epoch: [1][1800/3419] Elapsed 5m 42s (remain 5m 7s) Loss: 0.5474(0.6040) Grad: 29979.8008  LR: 0.00001916  \n",
      "Epoch: [1][1900/3419] Elapsed 6m 1s (remain 4m 48s) Loss: 0.6577(0.6030) Grad: 93756.2344  LR: 0.00001906  \n",
      "Epoch: [1][2000/3419] Elapsed 6m 21s (remain 4m 30s) Loss: 0.4867(0.6029) Grad: 20324.4355  LR: 0.00001896  \n",
      "Epoch: [1][2100/3419] Elapsed 6m 40s (remain 4m 11s) Loss: 0.6360(0.6021) Grad: 56336.3047  LR: 0.00001886  \n",
      "Epoch: [1][2200/3419] Elapsed 6m 59s (remain 3m 52s) Loss: 0.5435(0.6007) Grad: 14607.0430  LR: 0.00001875  \n",
      "Epoch: [1][2300/3419] Elapsed 7m 18s (remain 3m 33s) Loss: 0.5607(0.5995) Grad: 52200.0195  LR: 0.00001864  \n",
      "Epoch: [1][2400/3419] Elapsed 7m 38s (remain 3m 14s) Loss: 0.4478(0.5985) Grad: 46568.2617  LR: 0.00001852  \n",
      "Epoch: [1][2500/3419] Elapsed 7m 57s (remain 2m 55s) Loss: 0.4302(0.5974) Grad: 55093.1250  LR: 0.00001839  \n",
      "Epoch: [1][2600/3419] Elapsed 8m 16s (remain 2m 36s) Loss: 0.4738(0.5967) Grad: 32320.3887  LR: 0.00001827  \n",
      "Epoch: [1][2700/3419] Elapsed 8m 35s (remain 2m 17s) Loss: 0.9147(0.5970) Grad: 108399.3203  LR: 0.00001814  \n",
      "Epoch: [1][2800/3419] Elapsed 8m 55s (remain 1m 58s) Loss: 0.5597(0.5959) Grad: 32689.2480  LR: 0.00001800  \n",
      "Epoch: [1][2900/3419] Elapsed 9m 14s (remain 1m 38s) Loss: 0.3572(0.5949) Grad: 94629.9297  LR: 0.00001786  \n",
      "Epoch: [1][3000/3419] Elapsed 9m 33s (remain 1m 19s) Loss: 0.7485(0.5946) Grad: 79921.4453  LR: 0.00001772  \n",
      "Epoch: [1][3100/3419] Elapsed 9m 52s (remain 1m 0s) Loss: 0.4867(0.5937) Grad: 208465.0312  LR: 0.00001757  \n",
      "Epoch: [1][3200/3419] Elapsed 10m 11s (remain 0m 41s) Loss: 0.9606(0.5931) Grad: 122343.9844  LR: 0.00001742  \n",
      "Epoch: [1][3300/3419] Elapsed 10m 30s (remain 0m 22s) Loss: 0.5812(0.5924) Grad: 33359.0469  LR: 0.00001726  \n",
      "Epoch: [1][3400/3419] Elapsed 10m 49s (remain 0m 3s) Loss: 0.5639(0.5920) Grad: 40112.8750  LR: 0.00001710  \n",
      "Epoch: [1][3418/3419] Elapsed 10m 53s (remain 0m 0s) Loss: 0.6588(0.5921) Grad: 120104.1562  LR: 0.00001707  \n"
     ]
    },
    {
     "name": "stderr",
     "output_type": "stream",
     "text": [
      "[W pthreadpool-cpp.cc:90] Warning: Leaking Caffe2 thread-pool after fork. (function pthreadpool)\n",
      "[W pthreadpool-cpp.cc:90] Warning: Leaking Caffe2 thread-pool after fork. (function pthreadpool)\n",
      "[W pthreadpool-cpp.cc:90] Warning: Leaking Caffe2 thread-pool after fork. (function pthreadpool)\n",
      "[W pthreadpool-cpp.cc:90] Warning: Leaking Caffe2 thread-pool after fork. (function pthreadpool)\n"
     ]
    },
    {
     "name": "stdout",
     "output_type": "stream",
     "text": [
      "EVAL: [0/1140] Elapsed 0m 0s (remain 3m 18s) Loss: 0.5043(0.5043) \n",
      "EVAL: [100/1140] Elapsed 0m 5s (remain 0m 54s) Loss: 0.5834(0.5672) \n",
      "EVAL: [200/1140] Elapsed 0m 10s (remain 0m 48s) Loss: 0.4182(0.5671) \n",
      "EVAL: [300/1140] Elapsed 0m 15s (remain 0m 42s) Loss: 0.7038(0.5619) \n",
      "EVAL: [400/1140] Elapsed 0m 20s (remain 0m 37s) Loss: 0.5660(0.5615) \n",
      "EVAL: [500/1140] Elapsed 0m 25s (remain 0m 32s) Loss: 0.5751(0.5643) \n",
      "EVAL: [600/1140] Elapsed 0m 30s (remain 0m 27s) Loss: 0.5622(0.5631) \n",
      "EVAL: [700/1140] Elapsed 0m 35s (remain 0m 22s) Loss: 0.7247(0.5632) \n",
      "EVAL: [800/1140] Elapsed 0m 40s (remain 0m 17s) Loss: 0.6484(0.5624) \n",
      "EVAL: [900/1140] Elapsed 0m 45s (remain 0m 12s) Loss: 0.4628(0.5629) \n",
      "EVAL: [1000/1140] Elapsed 0m 50s (remain 0m 7s) Loss: 0.5951(0.5663) \n",
      "EVAL: [1100/1140] Elapsed 0m 55s (remain 0m 1s) Loss: 0.5300(0.5663) \n"
     ]
    },
    {
     "name": "stderr",
     "output_type": "stream",
     "text": [
      "Epoch 1 - avg_train_loss: 0.5921  avg_val_loss: 0.5659  time: 712s\n",
      "Epoch 1 - Score: 0.7597\n",
      "Epoch 1 - Save Best Score: 0.7597 Model\n"
     ]
    },
    {
     "name": "stdout",
     "output_type": "stream",
     "text": [
      "EVAL: [1139/1140] Elapsed 0m 57s (remain 0m 0s) Loss: 0.6721(0.5659) \n"
     ]
    },
    {
     "name": "stderr",
     "output_type": "stream",
     "text": [
      "[W pthreadpool-cpp.cc:90] Warning: Leaking Caffe2 thread-pool after fork. (function pthreadpool)\n",
      "[W pthreadpool-cpp.cc:90] Warning: Leaking Caffe2 thread-pool after fork. (function pthreadpool)\n",
      "[W pthreadpool-cpp.cc:90] Warning: Leaking Caffe2 thread-pool after fork. (function pthreadpool)\n",
      "[W pthreadpool-cpp.cc:90] Warning: Leaking Caffe2 thread-pool after fork. (function pthreadpool)\n"
     ]
    },
    {
     "name": "stdout",
     "output_type": "stream",
     "text": [
      "Epoch: [2][0/3419] Elapsed 0m 0s (remain 15m 57s) Loss: 0.6091(0.6091) Grad: 219165.8906  LR: 0.00001707  \n",
      "Epoch: [2][100/3419] Elapsed 0m 18s (remain 10m 23s) Loss: 0.4309(0.5596) Grad: 52347.9180  LR: 0.00001691  \n",
      "Epoch: [2][200/3419] Elapsed 0m 38s (remain 10m 8s) Loss: 0.5502(0.5623) Grad: 8715.4658  LR: 0.00001674  \n",
      "Epoch: [2][300/3419] Elapsed 0m 57s (remain 9m 52s) Loss: 0.6135(0.5597) Grad: 54826.0312  LR: 0.00001657  \n",
      "Epoch: [2][400/3419] Elapsed 1m 16s (remain 9m 34s) Loss: 0.4936(0.5630) Grad: 10776.0059  LR: 0.00001639  \n",
      "Epoch: [2][500/3419] Elapsed 1m 35s (remain 9m 15s) Loss: 0.7497(0.5658) Grad: 112171.9922  LR: 0.00001621  \n",
      "Epoch: [2][600/3419] Elapsed 1m 54s (remain 8m 57s) Loss: 0.5751(0.5669) Grad: 2818.5007  LR: 0.00001603  \n",
      "Epoch: [2][700/3419] Elapsed 2m 13s (remain 8m 37s) Loss: 0.7571(0.5666) Grad: 41328.7656  LR: 0.00001585  \n",
      "Epoch: [2][800/3419] Elapsed 2m 32s (remain 8m 18s) Loss: 0.6765(0.5688) Grad: 14520.7930  LR: 0.00001566  \n",
      "Epoch: [2][900/3419] Elapsed 2m 51s (remain 7m 59s) Loss: 0.6682(0.5681) Grad: 53329.6992  LR: 0.00001547  \n",
      "Epoch: [2][1000/3419] Elapsed 3m 10s (remain 7m 40s) Loss: 0.5306(0.5684) Grad: 15845.3174  LR: 0.00001527  \n",
      "Epoch: [2][1100/3419] Elapsed 3m 29s (remain 7m 21s) Loss: 0.6738(0.5665) Grad: 78230.9453  LR: 0.00001508  \n",
      "Epoch: [2][1200/3419] Elapsed 3m 48s (remain 7m 2s) Loss: 0.6120(0.5670) Grad: 11094.9834  LR: 0.00001488  \n",
      "Epoch: [2][1300/3419] Elapsed 4m 8s (remain 6m 44s) Loss: 0.6101(0.5668) Grad: 21218.6895  LR: 0.00001468  \n",
      "Epoch: [2][1400/3419] Elapsed 4m 27s (remain 6m 25s) Loss: 0.5920(0.5662) Grad: 14763.5469  LR: 0.00001447  \n",
      "Epoch: [2][1500/3419] Elapsed 4m 46s (remain 6m 5s) Loss: 0.5652(0.5669) Grad: 30829.6367  LR: 0.00001427  \n",
      "Epoch: [2][1600/3419] Elapsed 5m 5s (remain 5m 46s) Loss: 0.3396(0.5676) Grad: 15806.9922  LR: 0.00001406  \n",
      "Epoch: [2][1700/3419] Elapsed 5m 24s (remain 5m 27s) Loss: 0.6070(0.5673) Grad: 5355.3501  LR: 0.00001385  \n",
      "Epoch: [2][1800/3419] Elapsed 5m 42s (remain 5m 8s) Loss: 0.4950(0.5670) Grad: 33137.9414  LR: 0.00001363  \n",
      "Epoch: [2][1900/3419] Elapsed 6m 1s (remain 4m 48s) Loss: 0.6989(0.5670) Grad: 16245.1787  LR: 0.00001342  \n",
      "Epoch: [2][2000/3419] Elapsed 6m 20s (remain 4m 29s) Loss: 0.5566(0.5666) Grad: 73477.7812  LR: 0.00001320  \n",
      "Epoch: [2][2100/3419] Elapsed 6m 39s (remain 4m 10s) Loss: 0.5701(0.5658) Grad: 3307.5728  LR: 0.00001298  \n",
      "Epoch: [2][2200/3419] Elapsed 6m 58s (remain 3m 51s) Loss: 0.5062(0.5655) Grad: 34418.1719  LR: 0.00001276  \n",
      "Epoch: [2][2300/3419] Elapsed 7m 16s (remain 3m 32s) Loss: 0.6961(0.5644) Grad: 19901.0312  LR: 0.00001254  \n",
      "Epoch: [2][2400/3419] Elapsed 7m 35s (remain 3m 13s) Loss: 0.6822(0.5647) Grad: 25787.9434  LR: 0.00001232  \n",
      "Epoch: [2][2500/3419] Elapsed 7m 54s (remain 2m 54s) Loss: 0.4365(0.5648) Grad: 11126.5254  LR: 0.00001209  \n",
      "Epoch: [2][2600/3419] Elapsed 8m 13s (remain 2m 35s) Loss: 0.6035(0.5651) Grad: 6180.8398  LR: 0.00001187  \n",
      "Epoch: [2][2700/3419] Elapsed 8m 31s (remain 2m 16s) Loss: 0.5857(0.5652) Grad: 4986.2979  LR: 0.00001164  \n",
      "Epoch: [2][2800/3419] Elapsed 8m 50s (remain 1m 57s) Loss: 0.4329(0.5651) Grad: 4074.6055  LR: 0.00001142  \n",
      "Epoch: [2][2900/3419] Elapsed 9m 9s (remain 1m 38s) Loss: 0.4922(0.5646) Grad: 4253.6318  LR: 0.00001119  \n",
      "Epoch: [2][3000/3419] Elapsed 9m 28s (remain 1m 19s) Loss: 0.4696(0.5644) Grad: 8995.9766  LR: 0.00001096  \n",
      "Epoch: [2][3100/3419] Elapsed 9m 46s (remain 1m 0s) Loss: 0.5594(0.5647) Grad: 12703.2266  LR: 0.00001073  \n",
      "Epoch: [2][3200/3419] Elapsed 10m 5s (remain 0m 41s) Loss: 0.5952(0.5645) Grad: 3522.3513  LR: 0.00001050  \n",
      "Epoch: [2][3300/3419] Elapsed 10m 24s (remain 0m 22s) Loss: 0.6121(0.5640) Grad: 7829.0625  LR: 0.00001027  \n",
      "Epoch: [2][3400/3419] Elapsed 10m 42s (remain 0m 3s) Loss: 0.4339(0.5639) Grad: 4374.5171  LR: 0.00001004  \n",
      "Epoch: [2][3418/3419] Elapsed 10m 46s (remain 0m 0s) Loss: 0.6655(0.5639) Grad: 34455.9336  LR: 0.00001000  \n"
     ]
    },
    {
     "name": "stderr",
     "output_type": "stream",
     "text": [
      "[W pthreadpool-cpp.cc:90] Warning: Leaking Caffe2 thread-pool after fork. (function pthreadpool)\n",
      "[W pthreadpool-cpp.cc:90] Warning: Leaking Caffe2 thread-pool after fork. (function pthreadpool)\n"
     ]
    },
    {
     "name": "stdout",
     "output_type": "stream",
     "text": [
      "EVAL: [0/1140] Elapsed 0m 0s (remain 3m 1s) Loss: 0.5142(0.5142) \n"
     ]
    },
    {
     "name": "stderr",
     "output_type": "stream",
     "text": [
      "[W pthreadpool-cpp.cc:90] Warning: Leaking Caffe2 thread-pool after fork. (function pthreadpool)\n",
      "[W pthreadpool-cpp.cc:90] Warning: Leaking Caffe2 thread-pool after fork. (function pthreadpool)\n"
     ]
    },
    {
     "name": "stdout",
     "output_type": "stream",
     "text": [
      "EVAL: [100/1140] Elapsed 0m 5s (remain 0m 51s) Loss: 0.6663(0.5658) \n",
      "EVAL: [200/1140] Elapsed 0m 9s (remain 0m 46s) Loss: 0.4004(0.5668) \n",
      "EVAL: [300/1140] Elapsed 0m 14s (remain 0m 41s) Loss: 0.8571(0.5675) \n",
      "EVAL: [400/1140] Elapsed 0m 19s (remain 0m 36s) Loss: 0.4994(0.5676) \n",
      "EVAL: [500/1140] Elapsed 0m 24s (remain 0m 31s) Loss: 0.5744(0.5716) \n",
      "EVAL: [600/1140] Elapsed 0m 29s (remain 0m 26s) Loss: 0.5878(0.5703) \n",
      "EVAL: [700/1140] Elapsed 0m 34s (remain 0m 21s) Loss: 0.6757(0.5688) \n",
      "EVAL: [800/1140] Elapsed 0m 39s (remain 0m 16s) Loss: 0.7123(0.5686) \n",
      "EVAL: [900/1140] Elapsed 0m 44s (remain 0m 11s) Loss: 0.4464(0.5697) \n",
      "EVAL: [1000/1140] Elapsed 0m 49s (remain 0m 6s) Loss: 0.5699(0.5717) \n",
      "EVAL: [1100/1140] Elapsed 0m 54s (remain 0m 1s) Loss: 0.4723(0.5709) \n"
     ]
    },
    {
     "name": "stderr",
     "output_type": "stream",
     "text": [
      "Epoch 2 - avg_train_loss: 0.5639  avg_val_loss: 0.5701  time: 703s\n",
      "Epoch 2 - Score: 0.7783\n",
      "Epoch 2 - Save Best Score: 0.7783 Model\n"
     ]
    },
    {
     "name": "stdout",
     "output_type": "stream",
     "text": [
      "EVAL: [1139/1140] Elapsed 0m 56s (remain 0m 0s) Loss: 0.6821(0.5701) \n"
     ]
    },
    {
     "name": "stderr",
     "output_type": "stream",
     "text": [
      "[W pthreadpool-cpp.cc:90] Warning: Leaking Caffe2 thread-pool after fork. (function pthreadpool)\n",
      "[W pthreadpool-cpp.cc:90] Warning: Leaking Caffe2 thread-pool after fork. (function pthreadpool)\n",
      "[W pthreadpool-cpp.cc:90] Warning: Leaking Caffe2 thread-pool after fork. (function pthreadpool)\n",
      "[W pthreadpool-cpp.cc:90] Warning: Leaking Caffe2 thread-pool after fork. (function pthreadpool)\n"
     ]
    },
    {
     "name": "stdout",
     "output_type": "stream",
     "text": [
      "Epoch: [3][0/3419] Elapsed 0m 0s (remain 12m 59s) Loss: 0.4855(0.4855) Grad: 75189.5391  LR: 0.00001000  \n",
      "Epoch: [3][100/3419] Elapsed 0m 18s (remain 10m 1s) Loss: 0.2802(0.5414) Grad: 193939.9375  LR: 0.00000977  \n",
      "Epoch: [3][200/3419] Elapsed 0m 37s (remain 9m 53s) Loss: 0.4263(0.5425) Grad: 24083.5215  LR: 0.00000954  \n",
      "Epoch: [3][300/3419] Elapsed 0m 55s (remain 9m 37s) Loss: 0.5581(0.5467) Grad: 140504.6094  LR: 0.00000931  \n",
      "Epoch: [3][400/3419] Elapsed 1m 14s (remain 9m 19s) Loss: 0.6064(0.5449) Grad: 50957.1602  LR: 0.00000908  \n",
      "Epoch: [3][500/3419] Elapsed 1m 33s (remain 9m 1s) Loss: 0.5256(0.5438) Grad: 38278.3828  LR: 0.00000885  \n",
      "Epoch: [3][600/3419] Elapsed 1m 51s (remain 8m 43s) Loss: 0.6250(0.5419) Grad: 18051.6055  LR: 0.00000863  \n",
      "Epoch: [3][700/3419] Elapsed 2m 10s (remain 8m 25s) Loss: 0.5591(0.5424) Grad: 22844.4785  LR: 0.00000840  \n",
      "Epoch: [3][800/3419] Elapsed 2m 29s (remain 8m 8s) Loss: 0.4511(0.5393) Grad: 51803.1875  LR: 0.00000817  \n",
      "Epoch: [3][900/3419] Elapsed 2m 48s (remain 7m 50s) Loss: 0.5181(0.5388) Grad: 41373.8867  LR: 0.00000795  \n",
      "Epoch: [3][1000/3419] Elapsed 3m 6s (remain 7m 31s) Loss: 0.5260(0.5403) Grad: 15576.2178  LR: 0.00000772  \n",
      "Epoch: [3][1100/3419] Elapsed 3m 25s (remain 7m 12s) Loss: 0.4890(0.5401) Grad: 32289.7754  LR: 0.00000750  \n",
      "Epoch: [3][1200/3419] Elapsed 3m 44s (remain 6m 54s) Loss: 0.5002(0.5402) Grad: 10848.2393  LR: 0.00000728  \n",
      "Epoch: [3][1300/3419] Elapsed 4m 3s (remain 6m 35s) Loss: 0.6455(0.5402) Grad: 12649.9463  LR: 0.00000706  \n",
      "Epoch: [3][1400/3419] Elapsed 4m 22s (remain 6m 17s) Loss: 0.6547(0.5412) Grad: 11209.2363  LR: 0.00000684  \n",
      "Epoch: [3][1500/3419] Elapsed 4m 40s (remain 5m 58s) Loss: 0.6181(0.5398) Grad: 29073.4395  LR: 0.00000662  \n",
      "Epoch: [3][1600/3419] Elapsed 4m 59s (remain 5m 40s) Loss: 0.5232(0.5400) Grad: 5770.9517  LR: 0.00000641  \n",
      "Epoch: [3][1700/3419] Elapsed 5m 18s (remain 5m 21s) Loss: 0.5720(0.5388) Grad: 12246.0146  LR: 0.00000619  \n",
      "Epoch: [3][1800/3419] Elapsed 5m 36s (remain 5m 2s) Loss: 0.5756(0.5389) Grad: 15016.6592  LR: 0.00000598  \n",
      "Epoch: [3][1900/3419] Elapsed 5m 55s (remain 4m 43s) Loss: 0.3720(0.5385) Grad: 9163.0811  LR: 0.00000577  \n",
      "Epoch: [3][2000/3419] Elapsed 6m 14s (remain 4m 25s) Loss: 0.6730(0.5385) Grad: 14125.1455  LR: 0.00000556  \n",
      "Epoch: [3][2100/3419] Elapsed 6m 33s (remain 4m 6s) Loss: 0.6317(0.5375) Grad: 18582.9512  LR: 0.00000536  \n",
      "Epoch: [3][2200/3419] Elapsed 6m 51s (remain 3m 47s) Loss: 0.4542(0.5372) Grad: 35154.2891  LR: 0.00000516  \n",
      "Epoch: [3][2300/3419] Elapsed 7m 10s (remain 3m 29s) Loss: 0.6097(0.5378) Grad: 6625.2573  LR: 0.00000496  \n",
      "Epoch: [3][2400/3419] Elapsed 7m 29s (remain 3m 10s) Loss: 0.6053(0.5374) Grad: 3035.0908  LR: 0.00000476  \n",
      "Epoch: [3][2500/3419] Elapsed 7m 48s (remain 2m 51s) Loss: 0.6769(0.5371) Grad: 10445.2861  LR: 0.00000457  \n",
      "Epoch: [3][2600/3419] Elapsed 8m 6s (remain 2m 33s) Loss: 0.4406(0.5364) Grad: 27768.9590  LR: 0.00000438  \n",
      "Epoch: [3][2700/3419] Elapsed 8m 25s (remain 2m 14s) Loss: 0.5271(0.5362) Grad: 35921.8711  LR: 0.00000419  \n",
      "Epoch: [3][2800/3419] Elapsed 8m 44s (remain 1m 55s) Loss: 0.5936(0.5365) Grad: 9378.1543  LR: 0.00000400  \n",
      "Epoch: [3][2900/3419] Elapsed 9m 3s (remain 1m 36s) Loss: 0.5402(0.5365) Grad: 11904.0596  LR: 0.00000382  \n",
      "Epoch: [3][3000/3419] Elapsed 9m 21s (remain 1m 18s) Loss: 0.4409(0.5359) Grad: 1563.4565  LR: 0.00000364  \n",
      "Epoch: [3][3100/3419] Elapsed 9m 40s (remain 0m 59s) Loss: 0.4116(0.5358) Grad: 20640.8047  LR: 0.00000347  \n",
      "Epoch: [3][3200/3419] Elapsed 9m 59s (remain 0m 40s) Loss: 0.5305(0.5365) Grad: 63354.5625  LR: 0.00000329  \n",
      "Epoch: [3][3300/3419] Elapsed 10m 18s (remain 0m 22s) Loss: 0.5744(0.5365) Grad: 17099.6602  LR: 0.00000312  \n",
      "Epoch: [3][3400/3419] Elapsed 10m 36s (remain 0m 3s) Loss: 0.5542(0.5363) Grad: 9488.4238  LR: 0.00000296  \n",
      "Epoch: [3][3418/3419] Elapsed 10m 40s (remain 0m 0s) Loss: 0.4744(0.5363) Grad: 17715.7695  LR: 0.00000293  \n"
     ]
    },
    {
     "name": "stderr",
     "output_type": "stream",
     "text": [
      "[W pthreadpool-cpp.cc:90] Warning: Leaking Caffe2 thread-pool after fork. (function pthreadpool)\n",
      "[W pthreadpool-cpp.cc:90] Warning: Leaking Caffe2 thread-pool after fork. (function pthreadpool)\n",
      "[W pthreadpool-cpp.cc:90] Warning: Leaking Caffe2 thread-pool after fork. (function pthreadpool)\n",
      "[W pthreadpool-cpp.cc:90] Warning: Leaking Caffe2 thread-pool after fork. (function pthreadpool)\n"
     ]
    },
    {
     "name": "stdout",
     "output_type": "stream",
     "text": [
      "EVAL: [0/1140] Elapsed 0m 0s (remain 3m 16s) Loss: 0.5189(0.5189) \n",
      "EVAL: [100/1140] Elapsed 0m 5s (remain 0m 52s) Loss: 0.5767(0.5715) \n",
      "EVAL: [200/1140] Elapsed 0m 10s (remain 0m 47s) Loss: 0.3849(0.5743) \n",
      "EVAL: [300/1140] Elapsed 0m 15s (remain 0m 42s) Loss: 0.8483(0.5748) \n",
      "EVAL: [400/1140] Elapsed 0m 20s (remain 0m 36s) Loss: 0.4763(0.5720) \n",
      "EVAL: [500/1140] Elapsed 0m 25s (remain 0m 31s) Loss: 0.5647(0.5761) \n",
      "EVAL: [600/1140] Elapsed 0m 30s (remain 0m 26s) Loss: 0.5605(0.5734) \n",
      "EVAL: [700/1140] Elapsed 0m 35s (remain 0m 21s) Loss: 0.6550(0.5726) \n",
      "EVAL: [800/1140] Elapsed 0m 39s (remain 0m 16s) Loss: 0.7843(0.5735) \n",
      "EVAL: [900/1140] Elapsed 0m 44s (remain 0m 11s) Loss: 0.4411(0.5738) \n",
      "EVAL: [1000/1140] Elapsed 0m 49s (remain 0m 6s) Loss: 0.5501(0.5767) \n",
      "EVAL: [1100/1140] Elapsed 0m 54s (remain 0m 1s) Loss: 0.4728(0.5759) \n"
     ]
    },
    {
     "name": "stderr",
     "output_type": "stream",
     "text": [
      "Epoch 3 - avg_train_loss: 0.5363  avg_val_loss: 0.5753  time: 697s\n",
      "Epoch 3 - Score: 0.7935\n",
      "Epoch 3 - Save Best Score: 0.7935 Model\n"
     ]
    },
    {
     "name": "stdout",
     "output_type": "stream",
     "text": [
      "EVAL: [1139/1140] Elapsed 0m 56s (remain 0m 0s) Loss: 0.6493(0.5753) \n"
     ]
    },
    {
     "name": "stderr",
     "output_type": "stream",
     "text": [
      "[W pthreadpool-cpp.cc:90] Warning: Leaking Caffe2 thread-pool after fork. (function pthreadpool)\n",
      "[W pthreadpool-cpp.cc:90] Warning: Leaking Caffe2 thread-pool after fork. (function pthreadpool)\n",
      "[W pthreadpool-cpp.cc:90] Warning: Leaking Caffe2 thread-pool after fork. (function pthreadpool)\n",
      "[W pthreadpool-cpp.cc:90] Warning: Leaking Caffe2 thread-pool after fork. (function pthreadpool)\n"
     ]
    },
    {
     "name": "stdout",
     "output_type": "stream",
     "text": [
      "Epoch: [4][0/3419] Elapsed 0m 0s (remain 14m 49s) Loss: 0.3132(0.3132) Grad: 239835.3281  LR: 0.00000293  \n",
      "Epoch: [4][100/3419] Elapsed 0m 18s (remain 10m 19s) Loss: 0.4719(0.5319) Grad: 181040.2656  LR: 0.00000277  \n",
      "Epoch: [4][200/3419] Elapsed 0m 37s (remain 9m 59s) Loss: 0.5483(0.5262) Grad: 74878.0312  LR: 0.00000261  \n",
      "Epoch: [4][300/3419] Elapsed 0m 56s (remain 9m 42s) Loss: 0.6090(0.5265) Grad: 14892.3496  LR: 0.00000246  \n",
      "Epoch: [4][400/3419] Elapsed 1m 15s (remain 9m 24s) Loss: 0.3896(0.5237) Grad: 96575.9297  LR: 0.00000231  \n",
      "Epoch: [4][500/3419] Elapsed 1m 33s (remain 9m 6s) Loss: 0.3787(0.5245) Grad: 37247.0234  LR: 0.00000216  \n",
      "Epoch: [4][600/3419] Elapsed 1m 52s (remain 8m 46s) Loss: 0.5734(0.5244) Grad: 9782.9580  LR: 0.00000202  \n",
      "Epoch: [4][700/3419] Elapsed 2m 10s (remain 8m 27s) Loss: 0.3805(0.5244) Grad: 18167.7324  LR: 0.00000189  \n",
      "Epoch: [4][800/3419] Elapsed 2m 29s (remain 8m 8s) Loss: 0.4918(0.5245) Grad: 9269.9561  LR: 0.00000176  \n",
      "Epoch: [4][900/3419] Elapsed 2m 48s (remain 7m 50s) Loss: 0.5894(0.5263) Grad: 9733.1680  LR: 0.00000163  \n",
      "Epoch: [4][1000/3419] Elapsed 3m 7s (remain 7m 31s) Loss: 0.4769(0.5253) Grad: 11179.4873  LR: 0.00000150  \n",
      "Epoch: [4][1100/3419] Elapsed 3m 25s (remain 7m 13s) Loss: 0.5057(0.5257) Grad: 10873.6104  LR: 0.00000139  \n",
      "Epoch: [4][1200/3419] Elapsed 3m 44s (remain 6m 54s) Loss: 0.4766(0.5256) Grad: 19184.6797  LR: 0.00000127  \n",
      "Epoch: [4][1300/3419] Elapsed 4m 3s (remain 6m 36s) Loss: 0.5211(0.5268) Grad: 11324.7354  LR: 0.00000116  \n",
      "Epoch: [4][1400/3419] Elapsed 4m 22s (remain 6m 17s) Loss: 0.4739(0.5255) Grad: 35954.6484  LR: 0.00000106  \n",
      "Epoch: [4][1500/3419] Elapsed 4m 40s (remain 5m 58s) Loss: 0.4611(0.5256) Grad: 51166.8359  LR: 0.00000096  \n",
      "Epoch: [4][1600/3419] Elapsed 4m 59s (remain 5m 40s) Loss: 0.4770(0.5257) Grad: 56789.6797  LR: 0.00000086  \n",
      "Epoch: [4][1700/3419] Elapsed 5m 18s (remain 5m 21s) Loss: 0.5655(0.5256) Grad: 29794.4785  LR: 0.00000077  \n",
      "Epoch: [4][1800/3419] Elapsed 5m 36s (remain 5m 2s) Loss: 0.6197(0.5255) Grad: 8586.0947  LR: 0.00000068  \n",
      "Epoch: [4][1900/3419] Elapsed 5m 55s (remain 4m 43s) Loss: 0.5239(0.5264) Grad: 62661.8555  LR: 0.00000060  \n",
      "Epoch: [4][2000/3419] Elapsed 6m 14s (remain 4m 25s) Loss: 0.5175(0.5265) Grad: 48664.4609  LR: 0.00000053  \n",
      "Epoch: [4][2100/3419] Elapsed 6m 33s (remain 4m 6s) Loss: 0.4006(0.5260) Grad: 40383.5703  LR: 0.00000046  \n",
      "Epoch: [4][2200/3419] Elapsed 6m 51s (remain 3m 47s) Loss: 0.5919(0.5261) Grad: 16275.5205  LR: 0.00000039  \n",
      "Epoch: [4][2300/3419] Elapsed 7m 10s (remain 3m 29s) Loss: 0.4135(0.5258) Grad: 35540.1133  LR: 0.00000033  \n",
      "Epoch: [4][2400/3419] Elapsed 7m 29s (remain 3m 10s) Loss: 0.4726(0.5261) Grad: 16617.9473  LR: 0.00000027  \n",
      "Epoch: [4][2500/3419] Elapsed 7m 47s (remain 2m 51s) Loss: 0.4871(0.5264) Grad: 12126.5596  LR: 0.00000022  \n",
      "Epoch: [4][2600/3419] Elapsed 8m 6s (remain 2m 32s) Loss: 0.5212(0.5266) Grad: 16705.0078  LR: 0.00000018  \n",
      "Epoch: [4][2700/3419] Elapsed 8m 25s (remain 2m 14s) Loss: 0.3742(0.5268) Grad: 14586.1143  LR: 0.00000014  \n",
      "Epoch: [4][2800/3419] Elapsed 8m 43s (remain 1m 55s) Loss: 0.6162(0.5273) Grad: 32366.1055  LR: 0.00000010  \n",
      "Epoch: [4][2900/3419] Elapsed 9m 2s (remain 1m 36s) Loss: 0.3728(0.5274) Grad: 7001.3164  LR: 0.00000007  \n",
      "Epoch: [4][3000/3419] Elapsed 9m 21s (remain 1m 18s) Loss: 0.3785(0.5273) Grad: 42585.7695  LR: 0.00000005  \n",
      "Epoch: [4][3100/3419] Elapsed 9m 39s (remain 0m 59s) Loss: 0.5018(0.5277) Grad: 36750.1367  LR: 0.00000003  \n",
      "Epoch: [4][3200/3419] Elapsed 9m 58s (remain 0m 40s) Loss: 0.4198(0.5273) Grad: 10446.1201  LR: 0.00000001  \n",
      "Epoch: [4][3300/3419] Elapsed 10m 17s (remain 0m 22s) Loss: 0.6301(0.5273) Grad: 26754.3418  LR: 0.00000000  \n",
      "Epoch: [4][3400/3419] Elapsed 10m 36s (remain 0m 3s) Loss: 0.5329(0.5271) Grad: 23493.1191  LR: 0.00000000  \n",
      "Epoch: [4][3418/3419] Elapsed 10m 39s (remain 0m 0s) Loss: 0.3148(0.5270) Grad: 19004.3281  LR: 0.00000000  \n"
     ]
    },
    {
     "name": "stderr",
     "output_type": "stream",
     "text": [
      "[W pthreadpool-cpp.cc:90] Warning: Leaking Caffe2 thread-pool after fork. (function pthreadpool)\n",
      "[W pthreadpool-cpp.cc:90] Warning: Leaking Caffe2 thread-pool after fork. (function pthreadpool)\n"
     ]
    },
    {
     "name": "stdout",
     "output_type": "stream",
     "text": [
      "EVAL: [0/1140] Elapsed 0m 0s (remain 3m 7s) Loss: 0.5139(0.5139) \n"
     ]
    },
    {
     "name": "stderr",
     "output_type": "stream",
     "text": [
      "[W pthreadpool-cpp.cc:90] Warning: Leaking Caffe2 thread-pool after fork. (function pthreadpool)\n",
      "[W pthreadpool-cpp.cc:90] Warning: Leaking Caffe2 thread-pool after fork. (function pthreadpool)\n"
     ]
    },
    {
     "name": "stdout",
     "output_type": "stream",
     "text": [
      "EVAL: [100/1140] Elapsed 0m 5s (remain 0m 52s) Loss: 0.5786(0.5686) \n",
      "EVAL: [200/1140] Elapsed 0m 10s (remain 0m 47s) Loss: 0.3850(0.5709) \n",
      "EVAL: [300/1140] Elapsed 0m 15s (remain 0m 41s) Loss: 0.8343(0.5698) \n",
      "EVAL: [400/1140] Elapsed 0m 19s (remain 0m 36s) Loss: 0.4839(0.5666) \n",
      "EVAL: [500/1140] Elapsed 0m 24s (remain 0m 31s) Loss: 0.5668(0.5706) \n",
      "EVAL: [600/1140] Elapsed 0m 29s (remain 0m 26s) Loss: 0.5917(0.5682) \n",
      "EVAL: [700/1140] Elapsed 0m 34s (remain 0m 21s) Loss: 0.6416(0.5675) \n",
      "EVAL: [800/1140] Elapsed 0m 39s (remain 0m 16s) Loss: 0.7823(0.5689) \n",
      "EVAL: [900/1140] Elapsed 0m 44s (remain 0m 11s) Loss: 0.4412(0.5686) \n",
      "EVAL: [1000/1140] Elapsed 0m 49s (remain 0m 6s) Loss: 0.5493(0.5717) \n",
      "EVAL: [1100/1140] Elapsed 0m 54s (remain 0m 1s) Loss: 0.4727(0.5712) \n"
     ]
    },
    {
     "name": "stderr",
     "output_type": "stream",
     "text": [
      "Epoch 4 - avg_train_loss: 0.5270  avg_val_loss: 0.5707  time: 696s\n",
      "Epoch 4 - Score: 0.7987\n",
      "Epoch 4 - Save Best Score: 0.7987 Model\n"
     ]
    },
    {
     "name": "stdout",
     "output_type": "stream",
     "text": [
      "EVAL: [1139/1140] Elapsed 0m 56s (remain 0m 0s) Loss: 0.6500(0.5707) \n"
     ]
    },
    {
     "name": "stderr",
     "output_type": "stream",
     "text": [
      "========== fold: 0 result ==========\n",
      "Score: 0.7987\n",
      "========== fold: 1 training ==========\n"
     ]
    },
    {
     "name": "stdout",
     "output_type": "stream",
     "text": [
      "\u001b[38;5;40m========== fold: 1 training ==========\u001b[0m\n"
     ]
    },
    {
     "name": "stderr",
     "output_type": "stream",
     "text": [
      "Some weights of the model checkpoint at roberta-base were not used when initializing RobertaModel: ['lm_head.dense.bias', 'lm_head.layer_norm.weight', 'lm_head.layer_norm.bias', 'lm_head.bias', 'lm_head.decoder.weight', 'lm_head.dense.weight']\n",
      "- This IS expected if you are initializing RobertaModel from the checkpoint of a model trained on another task or with another architecture (e.g. initializing a BertForSequenceClassification model from a BertForPreTraining model).\n",
      "- This IS NOT expected if you are initializing RobertaModel from the checkpoint of a model that you expect to be exactly identical (initializing a BertForSequenceClassification model from a BertForSequenceClassification model).\n",
      "[W pthreadpool-cpp.cc:90] Warning: Leaking Caffe2 thread-pool after fork. (function pthreadpool)\n",
      "[W pthreadpool-cpp.cc:90] Warning: Leaking Caffe2 thread-pool after fork. (function pthreadpool)\n",
      "[W pthreadpool-cpp.cc:90] Warning: Leaking Caffe2 thread-pool after fork. (function pthreadpool)\n",
      "[W pthreadpool-cpp.cc:90] Warning: Leaking Caffe2 thread-pool after fork. (function pthreadpool)\n"
     ]
    },
    {
     "name": "stdout",
     "output_type": "stream",
     "text": [
      "Epoch: [1][0/3419] Elapsed 0m 0s (remain 14m 45s) Loss: 0.6904(0.6904) Grad: inf  LR: 0.00002000  \n",
      "Epoch: [1][100/3419] Elapsed 0m 18s (remain 10m 22s) Loss: 0.7381(0.6555) Grad: 104991.2188  LR: 0.00002000  \n",
      "Epoch: [1][200/3419] Elapsed 0m 37s (remain 10m 2s) Loss: 0.6611(0.6431) Grad: 111482.6562  LR: 0.00001999  \n",
      "Epoch: [1][300/3419] Elapsed 0m 56s (remain 9m 43s) Loss: 0.5551(0.6344) Grad: 97030.6406  LR: 0.00001998  \n",
      "Epoch: [1][400/3419] Elapsed 1m 15s (remain 9m 25s) Loss: 0.5507(0.6309) Grad: 57655.2930  LR: 0.00001996  \n",
      "Epoch: [1][500/3419] Elapsed 1m 33s (remain 9m 6s) Loss: 0.6038(0.6261) Grad: 82858.7812  LR: 0.00001993  \n",
      "Epoch: [1][600/3419] Elapsed 1m 52s (remain 8m 46s) Loss: 0.6976(0.6213) Grad: 92136.6562  LR: 0.00001990  \n",
      "Epoch: [1][700/3419] Elapsed 2m 10s (remain 8m 27s) Loss: 0.6283(0.6177) Grad: 43909.6758  LR: 0.00001987  \n",
      "Epoch: [1][800/3419] Elapsed 2m 29s (remain 8m 9s) Loss: 0.6903(0.6153) Grad: 121567.6719  LR: 0.00001983  \n",
      "Epoch: [1][900/3419] Elapsed 2m 48s (remain 7m 50s) Loss: 0.6306(0.6135) Grad: 131151.9219  LR: 0.00001979  \n",
      "Epoch: [1][1000/3419] Elapsed 3m 7s (remain 7m 31s) Loss: 0.6445(0.6128) Grad: 32149.3672  LR: 0.00001974  \n",
      "Epoch: [1][1100/3419] Elapsed 3m 25s (remain 7m 13s) Loss: 0.6304(0.6120) Grad: 54116.3555  LR: 0.00001968  \n",
      "Epoch: [1][1200/3419] Elapsed 3m 44s (remain 6m 54s) Loss: 0.5847(0.6113) Grad: 90562.7969  LR: 0.00001962  \n",
      "Epoch: [1][1300/3419] Elapsed 4m 3s (remain 6m 36s) Loss: 0.5922(0.6104) Grad: 31299.6562  LR: 0.00001956  \n",
      "Epoch: [1][1400/3419] Elapsed 4m 21s (remain 6m 17s) Loss: 0.7189(0.6113) Grad: 130750.5547  LR: 0.00001949  \n",
      "Epoch: [1][1500/3419] Elapsed 4m 40s (remain 5m 58s) Loss: 0.7407(0.6108) Grad: 107144.4922  LR: 0.00001941  \n",
      "Epoch: [1][1600/3419] Elapsed 4m 59s (remain 5m 39s) Loss: 0.4474(0.6099) Grad: 39026.9141  LR: 0.00001933  \n",
      "Epoch: [1][1700/3419] Elapsed 5m 17s (remain 5m 20s) Loss: 0.6474(0.6094) Grad: 82078.8750  LR: 0.00001925  \n",
      "Epoch: [1][1800/3419] Elapsed 5m 36s (remain 5m 2s) Loss: 0.6479(0.6084) Grad: 37271.9297  LR: 0.00001916  \n",
      "Epoch: [1][1900/3419] Elapsed 5m 55s (remain 4m 43s) Loss: 0.5589(0.6077) Grad: 9431.3311  LR: 0.00001906  \n",
      "Epoch: [1][2000/3419] Elapsed 6m 13s (remain 4m 24s) Loss: 0.5475(0.6068) Grad: 63866.5625  LR: 0.00001896  \n",
      "Epoch: [1][2100/3419] Elapsed 6m 32s (remain 4m 6s) Loss: 0.7516(0.6064) Grad: 204963.9375  LR: 0.00001886  \n",
      "Epoch: [1][2200/3419] Elapsed 6m 51s (remain 3m 47s) Loss: 0.6217(0.6056) Grad: 31353.3359  LR: 0.00001875  \n",
      "Epoch: [1][2300/3419] Elapsed 7m 9s (remain 3m 28s) Loss: 0.5758(0.6048) Grad: 18034.9902  LR: 0.00001864  \n",
      "Epoch: [1][2400/3419] Elapsed 7m 28s (remain 3m 10s) Loss: 0.5731(0.6041) Grad: 15056.4902  LR: 0.00001852  \n",
      "Epoch: [1][2500/3419] Elapsed 7m 47s (remain 2m 51s) Loss: 0.5516(0.6031) Grad: 23148.2578  LR: 0.00001839  \n",
      "Epoch: [1][2600/3419] Elapsed 8m 5s (remain 2m 32s) Loss: 0.5249(0.6025) Grad: 21602.6250  LR: 0.00001827  \n",
      "Epoch: [1][2700/3419] Elapsed 8m 24s (remain 2m 14s) Loss: 0.3824(0.6022) Grad: 249405.7188  LR: 0.00001814  \n",
      "Epoch: [1][2800/3419] Elapsed 8m 43s (remain 1m 55s) Loss: 0.5829(0.6016) Grad: 33459.5352  LR: 0.00001800  \n",
      "Epoch: [1][2900/3419] Elapsed 9m 1s (remain 1m 36s) Loss: 0.5822(0.6015) Grad: 4669.5732  LR: 0.00001786  \n",
      "Epoch: [1][3000/3419] Elapsed 9m 20s (remain 1m 18s) Loss: 0.5916(0.6012) Grad: 37886.2227  LR: 0.00001772  \n",
      "Epoch: [1][3100/3419] Elapsed 9m 38s (remain 0m 59s) Loss: 0.5784(0.6007) Grad: 14409.9795  LR: 0.00001757  \n",
      "Epoch: [1][3200/3419] Elapsed 9m 57s (remain 0m 40s) Loss: 0.5529(0.6005) Grad: 7728.0371  LR: 0.00001742  \n",
      "Epoch: [1][3300/3419] Elapsed 10m 16s (remain 0m 22s) Loss: 0.5494(0.5999) Grad: 3889.7642  LR: 0.00001726  \n",
      "Epoch: [1][3400/3419] Elapsed 10m 34s (remain 0m 3s) Loss: 0.6518(0.5991) Grad: 22981.2227  LR: 0.00001710  \n"
     ]
    },
    {
     "name": "stderr",
     "output_type": "stream",
     "text": [
      "[W pthreadpool-cpp.cc:90] Warning: Leaking Caffe2 thread-pool after fork. (function pthreadpool)\n",
      "[W pthreadpool-cpp.cc:90] Warning: Leaking Caffe2 thread-pool after fork. (function pthreadpool)\n"
     ]
    },
    {
     "name": "stdout",
     "output_type": "stream",
     "text": [
      "Epoch: [1][3418/3419] Elapsed 10m 38s (remain 0m 0s) Loss: 0.6491(0.5990) Grad: 25764.9434  LR: 0.00001707  \n"
     ]
    },
    {
     "name": "stderr",
     "output_type": "stream",
     "text": [
      "[W pthreadpool-cpp.cc:90] Warning: Leaking Caffe2 thread-pool after fork. (function pthreadpool)\n",
      "[W pthreadpool-cpp.cc:90] Warning: Leaking Caffe2 thread-pool after fork. (function pthreadpool)\n",
      "[W pthreadpool-cpp.cc:90] Warning: Leaking Caffe2 thread-pool after fork. (function pthreadpool)\n",
      "[W pthreadpool-cpp.cc:90] Warning: Leaking Caffe2 thread-pool after fork. (function pthreadpool)\n"
     ]
    },
    {
     "name": "stdout",
     "output_type": "stream",
     "text": [
      "EVAL: [0/1140] Elapsed 0m 0s (remain 3m 19s) Loss: 0.7496(0.7496) \n",
      "EVAL: [100/1140] Elapsed 0m 5s (remain 0m 52s) Loss: 0.5369(0.5540) \n",
      "EVAL: [200/1140] Elapsed 0m 9s (remain 0m 46s) Loss: 0.5822(0.5700) \n",
      "EVAL: [300/1140] Elapsed 0m 14s (remain 0m 41s) Loss: 0.6204(0.5700) \n",
      "EVAL: [400/1140] Elapsed 0m 19s (remain 0m 36s) Loss: 0.3810(0.5751) \n",
      "EVAL: [500/1140] Elapsed 0m 24s (remain 0m 31s) Loss: 0.8394(0.5760) \n",
      "EVAL: [600/1140] Elapsed 0m 29s (remain 0m 26s) Loss: 0.5841(0.5756) \n",
      "EVAL: [700/1140] Elapsed 0m 34s (remain 0m 21s) Loss: 0.6869(0.5777) \n",
      "EVAL: [800/1140] Elapsed 0m 39s (remain 0m 16s) Loss: 0.5828(0.5784) \n",
      "EVAL: [900/1140] Elapsed 0m 44s (remain 0m 11s) Loss: 0.5137(0.5768) \n",
      "EVAL: [1000/1140] Elapsed 0m 49s (remain 0m 6s) Loss: 0.5724(0.5756) \n",
      "EVAL: [1100/1140] Elapsed 0m 54s (remain 0m 1s) Loss: 0.5199(0.5740) \n"
     ]
    },
    {
     "name": "stderr",
     "output_type": "stream",
     "text": [
      "Epoch 1 - avg_train_loss: 0.5990  avg_val_loss: 0.5746  time: 695s\n",
      "Epoch 1 - Score: 0.7288\n",
      "Epoch 1 - Save Best Score: 0.7288 Model\n"
     ]
    },
    {
     "name": "stdout",
     "output_type": "stream",
     "text": [
      "EVAL: [1139/1140] Elapsed 0m 56s (remain 0m 0s) Loss: 0.8291(0.5746) \n"
     ]
    },
    {
     "name": "stderr",
     "output_type": "stream",
     "text": [
      "[W pthreadpool-cpp.cc:90] Warning: Leaking Caffe2 thread-pool after fork. (function pthreadpool)\n",
      "[W pthreadpool-cpp.cc:90] Warning: Leaking Caffe2 thread-pool after fork. (function pthreadpool)\n",
      "[W pthreadpool-cpp.cc:90] Warning: Leaking Caffe2 thread-pool after fork. (function pthreadpool)\n",
      "[W pthreadpool-cpp.cc:90] Warning: Leaking Caffe2 thread-pool after fork. (function pthreadpool)\n"
     ]
    },
    {
     "name": "stdout",
     "output_type": "stream",
     "text": [
      "Epoch: [2][0/3419] Elapsed 0m 0s (remain 15m 45s) Loss: 0.4614(0.4614) Grad: 142741.5156  LR: 0.00001707  \n",
      "Epoch: [2][100/3419] Elapsed 0m 18s (remain 10m 18s) Loss: 0.5849(0.5689) Grad: 30591.6816  LR: 0.00001691  \n",
      "Epoch: [2][200/3419] Elapsed 0m 37s (remain 9m 59s) Loss: 0.5915(0.5702) Grad: 92627.7031  LR: 0.00001674  \n",
      "Epoch: [2][300/3419] Elapsed 0m 56s (remain 9m 40s) Loss: 0.5781(0.5679) Grad: 36827.0352  LR: 0.00001657  \n",
      "Epoch: [2][400/3419] Elapsed 1m 14s (remain 9m 22s) Loss: 0.4372(0.5634) Grad: 42486.2812  LR: 0.00001639  \n",
      "Epoch: [2][500/3419] Elapsed 1m 33s (remain 9m 4s) Loss: 0.5582(0.5659) Grad: 39523.0039  LR: 0.00001621  \n",
      "Epoch: [2][600/3419] Elapsed 1m 52s (remain 8m 45s) Loss: 0.4816(0.5626) Grad: 47431.5742  LR: 0.00001603  \n",
      "Epoch: [2][700/3419] Elapsed 2m 10s (remain 8m 27s) Loss: 0.5747(0.5642) Grad: 41225.4375  LR: 0.00001585  \n",
      "Epoch: [2][800/3419] Elapsed 2m 29s (remain 8m 8s) Loss: 0.5389(0.5646) Grad: 32035.7930  LR: 0.00001566  \n",
      "Epoch: [2][900/3419] Elapsed 2m 48s (remain 7m 49s) Loss: 0.5071(0.5634) Grad: 226467.8750  LR: 0.00001547  \n",
      "Epoch: [2][1000/3419] Elapsed 3m 6s (remain 7m 31s) Loss: 0.6190(0.5648) Grad: 55170.1289  LR: 0.00001527  \n",
      "Epoch: [2][1100/3419] Elapsed 3m 25s (remain 7m 12s) Loss: 0.6455(0.5647) Grad: 67426.8516  LR: 0.00001508  \n",
      "Epoch: [2][1200/3419] Elapsed 3m 44s (remain 6m 54s) Loss: 0.4947(0.5658) Grad: 19749.2070  LR: 0.00001488  \n",
      "Epoch: [2][1300/3419] Elapsed 4m 2s (remain 6m 35s) Loss: 0.4462(0.5650) Grad: 120166.1094  LR: 0.00001468  \n",
      "Epoch: [2][1400/3419] Elapsed 4m 21s (remain 6m 16s) Loss: 0.5417(0.5644) Grad: 77469.5234  LR: 0.00001447  \n",
      "Epoch: [2][1500/3419] Elapsed 4m 39s (remain 5m 57s) Loss: 0.4895(0.5634) Grad: 22890.0957  LR: 0.00001427  \n",
      "Epoch: [2][1600/3419] Elapsed 4m 58s (remain 5m 39s) Loss: 0.5921(0.5631) Grad: 21647.2422  LR: 0.00001406  \n",
      "Epoch: [2][1700/3419] Elapsed 5m 17s (remain 5m 20s) Loss: 0.6057(0.5635) Grad: 78814.9688  LR: 0.00001385  \n",
      "Epoch: [2][1800/3419] Elapsed 5m 36s (remain 5m 1s) Loss: 0.4757(0.5637) Grad: 111893.4609  LR: 0.00001363  \n",
      "Epoch: [2][1900/3419] Elapsed 5m 54s (remain 4m 43s) Loss: 0.4793(0.5632) Grad: 33073.6914  LR: 0.00001342  \n",
      "Epoch: [2][2000/3419] Elapsed 6m 13s (remain 4m 24s) Loss: 0.4852(0.5631) Grad: 86611.2344  LR: 0.00001320  \n",
      "Epoch: [2][2100/3419] Elapsed 6m 32s (remain 4m 6s) Loss: 0.5547(0.5626) Grad: 163025.4375  LR: 0.00001298  \n",
      "Epoch: [2][2200/3419] Elapsed 6m 50s (remain 3m 47s) Loss: 0.6519(0.5620) Grad: 38477.3320  LR: 0.00001276  \n",
      "Epoch: [2][2300/3419] Elapsed 7m 9s (remain 3m 28s) Loss: 0.5623(0.5612) Grad: 13913.1582  LR: 0.00001254  \n",
      "Epoch: [2][2400/3419] Elapsed 7m 28s (remain 3m 10s) Loss: 0.5314(0.5616) Grad: 40439.1406  LR: 0.00001232  \n",
      "Epoch: [2][2500/3419] Elapsed 7m 46s (remain 2m 51s) Loss: 0.5315(0.5616) Grad: 26045.8477  LR: 0.00001209  \n",
      "Epoch: [2][2600/3419] Elapsed 8m 5s (remain 2m 32s) Loss: 0.5583(0.5612) Grad: 29799.1172  LR: 0.00001187  \n",
      "Epoch: [2][2700/3419] Elapsed 8m 24s (remain 2m 14s) Loss: 0.4633(0.5609) Grad: 20287.0566  LR: 0.00001164  \n",
      "Epoch: [2][2800/3419] Elapsed 8m 42s (remain 1m 55s) Loss: 0.4745(0.5604) Grad: 7128.0918  LR: 0.00001142  \n",
      "Epoch: [2][2900/3419] Elapsed 9m 1s (remain 1m 36s) Loss: 0.5335(0.5602) Grad: 22319.5078  LR: 0.00001119  \n",
      "Epoch: [2][3000/3419] Elapsed 9m 20s (remain 1m 18s) Loss: 0.6678(0.5604) Grad: 13804.4297  LR: 0.00001096  \n",
      "Epoch: [2][3100/3419] Elapsed 9m 38s (remain 0m 59s) Loss: 0.6045(0.5607) Grad: 24865.9961  LR: 0.00001073  \n",
      "Epoch: [2][3200/3419] Elapsed 9m 57s (remain 0m 40s) Loss: 0.4894(0.5606) Grad: 15155.7510  LR: 0.00001050  \n",
      "Epoch: [2][3300/3419] Elapsed 10m 14s (remain 0m 21s) Loss: 0.4802(0.5598) Grad: 100451.0469  LR: 0.00001027  \n",
      "Epoch: [2][3400/3419] Elapsed 10m 28s (remain 0m 3s) Loss: 0.4130(0.5596) Grad: 12751.8887  LR: 0.00001004  \n"
     ]
    },
    {
     "name": "stderr",
     "output_type": "stream",
     "text": [
      "[W pthreadpool-cpp.cc:90] Warning: Leaking Caffe2 thread-pool after fork. (function pthreadpool)\n"
     ]
    },
    {
     "name": "stdout",
     "output_type": "stream",
     "text": [
      "Epoch: [2][3418/3419] Elapsed 10m 30s (remain 0m 0s) Loss: 0.5208(0.5597) Grad: 7826.7915  LR: 0.00001000  \n"
     ]
    },
    {
     "name": "stderr",
     "output_type": "stream",
     "text": [
      "[W pthreadpool-cpp.cc:90] Warning: Leaking Caffe2 thread-pool after fork. (function pthreadpool)\n",
      "[W pthreadpool-cpp.cc:90] Warning: Leaking Caffe2 thread-pool after fork. (function pthreadpool)\n"
     ]
    },
    {
     "name": "stdout",
     "output_type": "stream",
     "text": [
      "EVAL: [0/1140] Elapsed 0m 0s (remain 3m 6s) Loss: 0.5368(0.5368) \n"
     ]
    },
    {
     "name": "stderr",
     "output_type": "stream",
     "text": [
      "[W pthreadpool-cpp.cc:90] Warning: Leaking Caffe2 thread-pool after fork. (function pthreadpool)\n",
      "[W pthreadpool-cpp.cc:90] Warning: Leaking Caffe2 thread-pool after fork. (function pthreadpool)\n"
     ]
    },
    {
     "name": "stdout",
     "output_type": "stream",
     "text": [
      "EVAL: [100/1140] Elapsed 0m 3s (remain 0m 39s) Loss: 0.5492(0.5423) \n",
      "EVAL: [200/1140] Elapsed 0m 7s (remain 0m 35s) Loss: 0.5653(0.5487) \n",
      "EVAL: [300/1140] Elapsed 0m 11s (remain 0m 31s) Loss: 0.6161(0.5509) \n",
      "EVAL: [400/1140] Elapsed 0m 14s (remain 0m 27s) Loss: 0.3684(0.5540) \n",
      "EVAL: [500/1140] Elapsed 0m 18s (remain 0m 23s) Loss: 0.7117(0.5565) \n",
      "EVAL: [600/1140] Elapsed 0m 22s (remain 0m 19s) Loss: 0.5730(0.5570) \n",
      "EVAL: [700/1140] Elapsed 0m 25s (remain 0m 16s) Loss: 0.7616(0.5577) \n",
      "EVAL: [800/1140] Elapsed 0m 29s (remain 0m 12s) Loss: 0.6215(0.5594) \n",
      "EVAL: [900/1140] Elapsed 0m 33s (remain 0m 8s) Loss: 0.4946(0.5585) \n",
      "EVAL: [1000/1140] Elapsed 0m 37s (remain 0m 5s) Loss: 0.5405(0.5582) \n",
      "EVAL: [1100/1140] Elapsed 0m 40s (remain 0m 1s) Loss: 0.4856(0.5565) \n"
     ]
    },
    {
     "name": "stderr",
     "output_type": "stream",
     "text": [
      "Epoch 2 - avg_train_loss: 0.5597  avg_val_loss: 0.5566  time: 673s\n",
      "Epoch 2 - Score: 0.7772\n",
      "Epoch 2 - Save Best Score: 0.7772 Model\n"
     ]
    },
    {
     "name": "stdout",
     "output_type": "stream",
     "text": [
      "EVAL: [1139/1140] Elapsed 0m 42s (remain 0m 0s) Loss: 0.5985(0.5566) \n"
     ]
    },
    {
     "name": "stderr",
     "output_type": "stream",
     "text": [
      "[W pthreadpool-cpp.cc:90] Warning: Leaking Caffe2 thread-pool after fork. (function pthreadpool)\n",
      "[W pthreadpool-cpp.cc:90] Warning: Leaking Caffe2 thread-pool after fork. (function pthreadpool)\n",
      "[W pthreadpool-cpp.cc:90] Warning: Leaking Caffe2 thread-pool after fork. (function pthreadpool)\n",
      "[W pthreadpool-cpp.cc:90] Warning: Leaking Caffe2 thread-pool after fork. (function pthreadpool)\n"
     ]
    },
    {
     "name": "stdout",
     "output_type": "stream",
     "text": [
      "Epoch: [3][0/3419] Elapsed 0m 0s (remain 27m 24s) Loss: 0.2889(0.2889) Grad: 195136.8281  LR: 0.00001000  \n",
      "Epoch: [3][100/3419] Elapsed 0m 13s (remain 7m 26s) Loss: 0.6101(0.5247) Grad: 97031.7109  LR: 0.00000977  \n",
      "Epoch: [3][200/3419] Elapsed 0m 26s (remain 7m 8s) Loss: 0.4898(0.5442) Grad: 59145.3516  LR: 0.00000954  \n",
      "Epoch: [3][300/3419] Elapsed 0m 39s (remain 6m 53s) Loss: 0.6281(0.5443) Grad: 463751.1250  LR: 0.00000931  \n",
      "Epoch: [3][400/3419] Elapsed 0m 53s (remain 6m 38s) Loss: 0.6335(0.5409) Grad: 203734.8125  LR: 0.00000908  \n",
      "Epoch: [3][500/3419] Elapsed 1m 6s (remain 6m 25s) Loss: 0.4753(0.5398) Grad: 10475.3916  LR: 0.00000885  \n",
      "Epoch: [3][600/3419] Elapsed 1m 19s (remain 6m 12s) Loss: 0.5628(0.5426) Grad: 41856.3945  LR: 0.00000863  \n",
      "Epoch: [3][700/3419] Elapsed 1m 32s (remain 5m 58s) Loss: 0.3921(0.5442) Grad: 13935.8359  LR: 0.00000840  \n",
      "Epoch: [3][800/3419] Elapsed 1m 45s (remain 5m 45s) Loss: 0.6697(0.5421) Grad: 52435.5000  LR: 0.00000817  \n",
      "Epoch: [3][900/3419] Elapsed 1m 58s (remain 5m 32s) Loss: 0.5233(0.5400) Grad: 71338.3203  LR: 0.00000795  \n",
      "Epoch: [3][1000/3419] Elapsed 2m 12s (remain 5m 19s) Loss: 0.4359(0.5385) Grad: 27335.2793  LR: 0.00000772  \n",
      "Epoch: [3][1100/3419] Elapsed 2m 25s (remain 5m 6s) Loss: 0.3921(0.5377) Grad: 16733.2168  LR: 0.00000750  \n",
      "Epoch: [3][1200/3419] Elapsed 2m 38s (remain 4m 52s) Loss: 0.5552(0.5385) Grad: 81872.7188  LR: 0.00000728  \n",
      "Epoch: [3][1300/3419] Elapsed 2m 51s (remain 4m 39s) Loss: 0.4665(0.5392) Grad: 139385.9844  LR: 0.00000706  \n",
      "Epoch: [3][1400/3419] Elapsed 3m 4s (remain 4m 26s) Loss: 0.4407(0.5401) Grad: 60030.6133  LR: 0.00000684  \n",
      "Epoch: [3][1500/3419] Elapsed 3m 18s (remain 4m 13s) Loss: 0.5561(0.5413) Grad: 8495.7383  LR: 0.00000662  \n",
      "Epoch: [3][1600/3419] Elapsed 3m 31s (remain 4m 0s) Loss: 0.5665(0.5418) Grad: 10038.6230  LR: 0.00000641  \n",
      "Epoch: [3][1700/3419] Elapsed 3m 44s (remain 3m 46s) Loss: 0.8354(0.5429) Grad: 86053.2656  LR: 0.00000619  \n",
      "Epoch: [3][1800/3419] Elapsed 3m 57s (remain 3m 33s) Loss: 0.6106(0.5429) Grad: 24679.4766  LR: 0.00000598  \n",
      "Epoch: [3][1900/3419] Elapsed 4m 10s (remain 3m 20s) Loss: 0.3626(0.5427) Grad: 39931.7891  LR: 0.00000577  \n",
      "Epoch: [3][2000/3419] Elapsed 4m 24s (remain 3m 7s) Loss: 0.5211(0.5431) Grad: 34169.8359  LR: 0.00000556  \n",
      "Epoch: [3][2100/3419] Elapsed 4m 37s (remain 2m 54s) Loss: 0.4851(0.5430) Grad: 20641.5840  LR: 0.00000536  \n",
      "Epoch: [3][2200/3419] Elapsed 4m 50s (remain 2m 40s) Loss: 0.4899(0.5430) Grad: 19556.9258  LR: 0.00000516  \n",
      "Epoch: [3][2300/3419] Elapsed 5m 3s (remain 2m 27s) Loss: 0.5440(0.5423) Grad: 49549.9219  LR: 0.00000496  \n",
      "Epoch: [3][2400/3419] Elapsed 5m 17s (remain 2m 14s) Loss: 0.6541(0.5414) Grad: 21332.0078  LR: 0.00000476  \n",
      "Epoch: [3][2500/3419] Elapsed 5m 30s (remain 2m 1s) Loss: 0.5763(0.5424) Grad: 21360.3750  LR: 0.00000457  \n",
      "Epoch: [3][2600/3419] Elapsed 5m 43s (remain 1m 48s) Loss: 0.3218(0.5416) Grad: 23456.6602  LR: 0.00000438  \n",
      "Epoch: [3][2700/3419] Elapsed 5m 56s (remain 1m 34s) Loss: 0.4502(0.5417) Grad: 122922.2188  LR: 0.00000419  \n",
      "Epoch: [3][2800/3419] Elapsed 6m 9s (remain 1m 21s) Loss: 0.4702(0.5409) Grad: 13512.9414  LR: 0.00000400  \n",
      "Epoch: [3][2900/3419] Elapsed 6m 23s (remain 1m 8s) Loss: 0.4680(0.5414) Grad: 43060.9766  LR: 0.00000382  \n",
      "Epoch: [3][3000/3419] Elapsed 6m 36s (remain 0m 55s) Loss: 0.4235(0.5415) Grad: 11168.3037  LR: 0.00000364  \n",
      "Epoch: [3][3100/3419] Elapsed 6m 49s (remain 0m 41s) Loss: 0.5711(0.5421) Grad: 6684.5020  LR: 0.00000347  \n",
      "Epoch: [3][3200/3419] Elapsed 7m 2s (remain 0m 28s) Loss: 0.5412(0.5421) Grad: 122723.5156  LR: 0.00000329  \n",
      "Epoch: [3][3300/3419] Elapsed 7m 15s (remain 0m 15s) Loss: 0.5217(0.5420) Grad: 19471.8574  LR: 0.00000312  \n",
      "Epoch: [3][3400/3419] Elapsed 7m 29s (remain 0m 2s) Loss: 0.5055(0.5424) Grad: 11305.0342  LR: 0.00000296  \n",
      "Epoch: [3][3418/3419] Elapsed 7m 31s (remain 0m 0s) Loss: 0.6080(0.5426) Grad: 38845.6094  LR: 0.00000293  \n"
     ]
    },
    {
     "name": "stderr",
     "output_type": "stream",
     "text": [
      "[W pthreadpool-cpp.cc:90] Warning: Leaking Caffe2 thread-pool after fork. (function pthreadpool)\n",
      "[W pthreadpool-cpp.cc:90] Warning: Leaking Caffe2 thread-pool after fork. (function pthreadpool)\n"
     ]
    },
    {
     "name": "stdout",
     "output_type": "stream",
     "text": [
      "EVAL: [0/1140] Elapsed 0m 0s (remain 3m 3s) Loss: 0.8412(0.8412) \n"
     ]
    },
    {
     "name": "stderr",
     "output_type": "stream",
     "text": [
      "[W pthreadpool-cpp.cc:90] Warning: Leaking Caffe2 thread-pool after fork. (function pthreadpool)\n",
      "[W pthreadpool-cpp.cc:90] Warning: Leaking Caffe2 thread-pool after fork. (function pthreadpool)\n"
     ]
    },
    {
     "name": "stdout",
     "output_type": "stream",
     "text": [
      "EVAL: [100/1140] Elapsed 0m 3s (remain 0m 39s) Loss: 0.5956(0.5446) \n",
      "EVAL: [200/1140] Elapsed 0m 7s (remain 0m 35s) Loss: 0.5482(0.5517) \n",
      "EVAL: [300/1140] Elapsed 0m 11s (remain 0m 31s) Loss: 0.6119(0.5545) \n",
      "EVAL: [400/1140] Elapsed 0m 14s (remain 0m 27s) Loss: 0.3487(0.5586) \n",
      "EVAL: [500/1140] Elapsed 0m 18s (remain 0m 23s) Loss: 0.8895(0.5607) \n",
      "EVAL: [600/1140] Elapsed 0m 22s (remain 0m 20s) Loss: 0.5558(0.5611) \n",
      "EVAL: [700/1140] Elapsed 0m 26s (remain 0m 16s) Loss: 0.7517(0.5608) \n",
      "EVAL: [800/1140] Elapsed 0m 29s (remain 0m 12s) Loss: 0.6200(0.5624) \n",
      "EVAL: [900/1140] Elapsed 0m 33s (remain 0m 8s) Loss: 0.4990(0.5606) \n",
      "EVAL: [1000/1140] Elapsed 0m 37s (remain 0m 5s) Loss: 0.5512(0.5599) \n",
      "EVAL: [1100/1140] Elapsed 0m 40s (remain 0m 1s) Loss: 0.4795(0.5578) \n"
     ]
    },
    {
     "name": "stderr",
     "output_type": "stream",
     "text": [
      "Epoch 3 - avg_train_loss: 0.5426  avg_val_loss: 0.5581  time: 494s\n",
      "Epoch 3 - Score: 0.7981\n",
      "Epoch 3 - Save Best Score: 0.7981 Model\n"
     ]
    },
    {
     "name": "stdout",
     "output_type": "stream",
     "text": [
      "EVAL: [1139/1140] Elapsed 0m 42s (remain 0m 0s) Loss: 0.5647(0.5581) \n"
     ]
    },
    {
     "name": "stderr",
     "output_type": "stream",
     "text": [
      "[W pthreadpool-cpp.cc:90] Warning: Leaking Caffe2 thread-pool after fork. (function pthreadpool)\n",
      "[W pthreadpool-cpp.cc:90] Warning: Leaking Caffe2 thread-pool after fork. (function pthreadpool)\n",
      "[W pthreadpool-cpp.cc:90] Warning: Leaking Caffe2 thread-pool after fork. (function pthreadpool)\n",
      "[W pthreadpool-cpp.cc:90] Warning: Leaking Caffe2 thread-pool after fork. (function pthreadpool)\n"
     ]
    },
    {
     "name": "stdout",
     "output_type": "stream",
     "text": [
      "Epoch: [4][0/3419] Elapsed 0m 0s (remain 32m 29s) Loss: 0.6294(0.6294) Grad: 59404.5000  LR: 0.00000293  \n",
      "Epoch: [4][100/3419] Elapsed 0m 13s (remain 7m 29s) Loss: 0.4898(0.5345) Grad: 145359.6094  LR: 0.00000277  \n",
      "Epoch: [4][200/3419] Elapsed 0m 26s (remain 7m 10s) Loss: 0.4154(0.5362) Grad: 66630.9141  LR: 0.00000261  \n",
      "Epoch: [4][300/3419] Elapsed 0m 39s (remain 6m 54s) Loss: 0.3229(0.5286) Grad: 70688.0000  LR: 0.00000246  \n",
      "Epoch: [4][400/3419] Elapsed 0m 53s (remain 6m 40s) Loss: 0.4617(0.5272) Grad: 55950.1953  LR: 0.00000231  \n",
      "Epoch: [4][500/3419] Elapsed 1m 6s (remain 6m 26s) Loss: 0.5520(0.5285) Grad: 172500.8906  LR: 0.00000216  \n",
      "Epoch: [4][600/3419] Elapsed 1m 19s (remain 6m 12s) Loss: 0.4823(0.5323) Grad: 21417.1445  LR: 0.00000202  \n",
      "Epoch: [4][700/3419] Elapsed 1m 32s (remain 5m 59s) Loss: 0.6559(0.5343) Grad: 68965.7812  LR: 0.00000189  \n",
      "Epoch: [4][800/3419] Elapsed 1m 45s (remain 5m 46s) Loss: 0.4011(0.5343) Grad: 22091.1250  LR: 0.00000176  \n",
      "Epoch: [4][900/3419] Elapsed 1m 59s (remain 5m 32s) Loss: 0.5762(0.5352) Grad: 103279.1797  LR: 0.00000163  \n",
      "Epoch: [4][1000/3419] Elapsed 2m 12s (remain 5m 19s) Loss: 0.5789(0.5341) Grad: 11417.5225  LR: 0.00000150  \n",
      "Epoch: [4][1100/3419] Elapsed 2m 25s (remain 5m 6s) Loss: 0.4626(0.5345) Grad: 56449.4922  LR: 0.00000139  \n",
      "Epoch: [4][1200/3419] Elapsed 2m 38s (remain 4m 52s) Loss: 0.7232(0.5351) Grad: 40001.3047  LR: 0.00000127  \n",
      "Epoch: [4][1300/3419] Elapsed 2m 51s (remain 4m 39s) Loss: 0.5365(0.5346) Grad: 13862.4121  LR: 0.00000116  \n",
      "Epoch: [4][1400/3419] Elapsed 3m 5s (remain 4m 26s) Loss: 0.4576(0.5338) Grad: 34543.3398  LR: 0.00000106  \n",
      "Epoch: [4][1500/3419] Elapsed 3m 18s (remain 4m 13s) Loss: 0.5929(0.5340) Grad: 17195.4102  LR: 0.00000096  \n",
      "Epoch: [4][1600/3419] Elapsed 3m 31s (remain 4m 0s) Loss: 0.4729(0.5325) Grad: 33523.0625  LR: 0.00000086  \n",
      "Epoch: [4][1700/3419] Elapsed 3m 44s (remain 3m 46s) Loss: 0.4920(0.5324) Grad: 54965.4688  LR: 0.00000077  \n",
      "Epoch: [4][1800/3419] Elapsed 3m 57s (remain 3m 33s) Loss: 0.4283(0.5326) Grad: 32607.9902  LR: 0.00000068  \n",
      "Epoch: [4][1900/3419] Elapsed 4m 10s (remain 3m 20s) Loss: 0.5584(0.5330) Grad: 10885.4521  LR: 0.00000060  \n",
      "Epoch: [4][2000/3419] Elapsed 4m 24s (remain 3m 7s) Loss: 0.5966(0.5329) Grad: 29379.0020  LR: 0.00000053  \n",
      "Epoch: [4][2100/3419] Elapsed 4m 37s (remain 2m 53s) Loss: 0.4073(0.5322) Grad: 3149.8032  LR: 0.00000046  \n",
      "Epoch: [4][2200/3419] Elapsed 4m 50s (remain 2m 40s) Loss: 0.4691(0.5320) Grad: 17502.3418  LR: 0.00000039  \n",
      "Epoch: [4][2300/3419] Elapsed 5m 3s (remain 2m 27s) Loss: 0.3737(0.5321) Grad: 3951.5950  LR: 0.00000033  \n",
      "Epoch: [4][2400/3419] Elapsed 5m 16s (remain 2m 14s) Loss: 0.6486(0.5322) Grad: 38955.4297  LR: 0.00000027  \n",
      "Epoch: [4][2500/3419] Elapsed 5m 30s (remain 2m 1s) Loss: 0.4319(0.5319) Grad: 3801.7544  LR: 0.00000022  \n",
      "Epoch: [4][2600/3419] Elapsed 5m 43s (remain 1m 47s) Loss: 0.2873(0.5310) Grad: 8583.3936  LR: 0.00000018  \n",
      "Epoch: [4][2700/3419] Elapsed 5m 56s (remain 1m 34s) Loss: 0.6739(0.5313) Grad: 13383.6650  LR: 0.00000014  \n",
      "Epoch: [4][2800/3419] Elapsed 6m 9s (remain 1m 21s) Loss: 0.5267(0.5306) Grad: 5463.4961  LR: 0.00000010  \n",
      "Epoch: [4][2900/3419] Elapsed 6m 22s (remain 1m 8s) Loss: 0.5450(0.5307) Grad: 6827.3228  LR: 0.00000007  \n",
      "Epoch: [4][3000/3419] Elapsed 6m 36s (remain 0m 55s) Loss: 0.4083(0.5302) Grad: 10695.4043  LR: 0.00000005  \n",
      "Epoch: [4][3100/3419] Elapsed 6m 49s (remain 0m 41s) Loss: 0.4869(0.5303) Grad: 5998.1362  LR: 0.00000003  \n",
      "Epoch: [4][3200/3419] Elapsed 7m 2s (remain 0m 28s) Loss: 0.5541(0.5304) Grad: 9609.0576  LR: 0.00000001  \n",
      "Epoch: [4][3300/3419] Elapsed 7m 15s (remain 0m 15s) Loss: 0.6340(0.5308) Grad: 35430.6406  LR: 0.00000000  \n",
      "Epoch: [4][3400/3419] Elapsed 7m 28s (remain 0m 2s) Loss: 0.5145(0.5303) Grad: 23202.0684  LR: 0.00000000  \n",
      "Epoch: [4][3418/3419] Elapsed 7m 31s (remain 0m 0s) Loss: 0.5250(0.5304) Grad: 11358.0605  LR: 0.00000000  \n"
     ]
    },
    {
     "name": "stderr",
     "output_type": "stream",
     "text": [
      "[W pthreadpool-cpp.cc:90] Warning: Leaking Caffe2 thread-pool after fork. (function pthreadpool)\n",
      "[W pthreadpool-cpp.cc:90] Warning: Leaking Caffe2 thread-pool after fork. (function pthreadpool)\n"
     ]
    },
    {
     "name": "stdout",
     "output_type": "stream",
     "text": [
      "EVAL: [0/1140] Elapsed 0m 0s (remain 2m 57s) Loss: 0.8342(0.8342) \n"
     ]
    },
    {
     "name": "stderr",
     "output_type": "stream",
     "text": [
      "[W pthreadpool-cpp.cc:90] Warning: Leaking Caffe2 thread-pool after fork. (function pthreadpool)\n",
      "[W pthreadpool-cpp.cc:90] Warning: Leaking Caffe2 thread-pool after fork. (function pthreadpool)\n"
     ]
    },
    {
     "name": "stdout",
     "output_type": "stream",
     "text": [
      "EVAL: [100/1140] Elapsed 0m 3s (remain 0m 39s) Loss: 0.6579(0.5548) \n",
      "EVAL: [200/1140] Elapsed 0m 7s (remain 0m 35s) Loss: 0.5529(0.5588) \n",
      "EVAL: [300/1140] Elapsed 0m 11s (remain 0m 31s) Loss: 0.6076(0.5608) \n",
      "EVAL: [400/1140] Elapsed 0m 14s (remain 0m 27s) Loss: 0.3421(0.5648) \n",
      "EVAL: [500/1140] Elapsed 0m 18s (remain 0m 23s) Loss: 0.8786(0.5663) \n",
      "EVAL: [600/1140] Elapsed 0m 22s (remain 0m 19s) Loss: 0.5569(0.5666) \n",
      "EVAL: [700/1140] Elapsed 0m 25s (remain 0m 16s) Loss: 0.7638(0.5665) \n",
      "EVAL: [800/1140] Elapsed 0m 29s (remain 0m 12s) Loss: 0.6226(0.5681) \n",
      "EVAL: [900/1140] Elapsed 0m 33s (remain 0m 8s) Loss: 0.4950(0.5660) \n",
      "EVAL: [1000/1140] Elapsed 0m 37s (remain 0m 5s) Loss: 0.5615(0.5653) \n",
      "EVAL: [1100/1140] Elapsed 0m 40s (remain 0m 1s) Loss: 0.4779(0.5627) \n"
     ]
    },
    {
     "name": "stderr",
     "output_type": "stream",
     "text": [
      "Epoch 4 - avg_train_loss: 0.5304  avg_val_loss: 0.5629  time: 493s\n",
      "Epoch 4 - Score: 0.8006\n",
      "Epoch 4 - Save Best Score: 0.8006 Model\n"
     ]
    },
    {
     "name": "stdout",
     "output_type": "stream",
     "text": [
      "EVAL: [1139/1140] Elapsed 0m 42s (remain 0m 0s) Loss: 0.5661(0.5629) \n"
     ]
    },
    {
     "name": "stderr",
     "output_type": "stream",
     "text": [
      "========== fold: 1 result ==========\n",
      "Score: 0.8006\n",
      "========== fold: 2 training ==========\n"
     ]
    },
    {
     "name": "stdout",
     "output_type": "stream",
     "text": [
      "\u001b[38;5;40m========== fold: 2 training ==========\u001b[0m\n"
     ]
    },
    {
     "name": "stderr",
     "output_type": "stream",
     "text": [
      "Some weights of the model checkpoint at roberta-base were not used when initializing RobertaModel: ['lm_head.dense.bias', 'lm_head.layer_norm.weight', 'lm_head.layer_norm.bias', 'lm_head.bias', 'lm_head.decoder.weight', 'lm_head.dense.weight']\n",
      "- This IS expected if you are initializing RobertaModel from the checkpoint of a model trained on another task or with another architecture (e.g. initializing a BertForSequenceClassification model from a BertForPreTraining model).\n",
      "- This IS NOT expected if you are initializing RobertaModel from the checkpoint of a model that you expect to be exactly identical (initializing a BertForSequenceClassification model from a BertForSequenceClassification model).\n",
      "[W pthreadpool-cpp.cc:90] Warning: Leaking Caffe2 thread-pool after fork. (function pthreadpool)\n",
      "[W pthreadpool-cpp.cc:90] Warning: Leaking Caffe2 thread-pool after fork. (function pthreadpool)\n",
      "[W pthreadpool-cpp.cc:90] Warning: Leaking Caffe2 thread-pool after fork. (function pthreadpool)\n",
      "[W pthreadpool-cpp.cc:90] Warning: Leaking Caffe2 thread-pool after fork. (function pthreadpool)\n"
     ]
    },
    {
     "name": "stdout",
     "output_type": "stream",
     "text": [
      "Epoch: [1][0/3419] Elapsed 0m 0s (remain 22m 42s) Loss: 0.8222(0.8222) Grad: inf  LR: 0.00002000  \n",
      "Epoch: [1][100/3419] Elapsed 0m 13s (remain 7m 23s) Loss: 0.6322(0.6722) Grad: 11255.0830  LR: 0.00002000  \n",
      "Epoch: [1][200/3419] Elapsed 0m 26s (remain 7m 6s) Loss: 0.6790(0.6692) Grad: 59579.0898  LR: 0.00001999  \n",
      "Epoch: [1][300/3419] Elapsed 0m 39s (remain 6m 52s) Loss: 0.7900(0.6570) Grad: 153353.4219  LR: 0.00001998  \n",
      "Epoch: [1][400/3419] Elapsed 0m 52s (remain 6m 38s) Loss: 0.6666(0.6496) Grad: 28888.8809  LR: 0.00001996  \n",
      "Epoch: [1][500/3419] Elapsed 1m 6s (remain 6m 25s) Loss: 0.4597(0.6443) Grad: 41631.2148  LR: 0.00001993  \n",
      "Epoch: [1][600/3419] Elapsed 1m 19s (remain 6m 11s) Loss: 0.6076(0.6380) Grad: 56396.2930  LR: 0.00001990  \n",
      "Epoch: [1][700/3419] Elapsed 1m 32s (remain 5m 58s) Loss: 0.6904(0.6353) Grad: 36137.2188  LR: 0.00001987  \n",
      "Epoch: [1][800/3419] Elapsed 1m 45s (remain 5m 45s) Loss: 0.6009(0.6336) Grad: 41443.1719  LR: 0.00001983  \n",
      "Epoch: [1][900/3419] Elapsed 1m 58s (remain 5m 32s) Loss: 0.5627(0.6303) Grad: 42672.0586  LR: 0.00001979  \n",
      "Epoch: [1][1000/3419] Elapsed 2m 12s (remain 5m 19s) Loss: 0.5803(0.6267) Grad: 76182.8438  LR: 0.00001974  \n",
      "Epoch: [1][1100/3419] Elapsed 2m 25s (remain 5m 5s) Loss: 0.5624(0.6244) Grad: 65921.9531  LR: 0.00001968  \n",
      "Epoch: [1][1200/3419] Elapsed 2m 38s (remain 4m 52s) Loss: 0.6480(0.6224) Grad: 38091.9727  LR: 0.00001962  \n",
      "Epoch: [1][1300/3419] Elapsed 2m 51s (remain 4m 39s) Loss: 0.6593(0.6209) Grad: 77651.4453  LR: 0.00001956  \n",
      "Epoch: [1][1400/3419] Elapsed 3m 4s (remain 4m 26s) Loss: 0.5884(0.6184) Grad: 95458.7031  LR: 0.00001949  \n",
      "Epoch: [1][1500/3419] Elapsed 3m 18s (remain 4m 13s) Loss: 0.5636(0.6163) Grad: 87128.4062  LR: 0.00001941  \n",
      "Epoch: [1][1600/3419] Elapsed 3m 31s (remain 3m 59s) Loss: 0.5727(0.6142) Grad: 24850.3867  LR: 0.00001933  \n",
      "Epoch: [1][1700/3419] Elapsed 3m 44s (remain 3m 46s) Loss: 0.4731(0.6130) Grad: 82074.3125  LR: 0.00001925  \n",
      "Epoch: [1][1800/3419] Elapsed 3m 57s (remain 3m 33s) Loss: 0.4874(0.6127) Grad: 26846.4668  LR: 0.00001916  \n",
      "Epoch: [1][1900/3419] Elapsed 4m 10s (remain 3m 20s) Loss: 0.7318(0.6118) Grad: 54218.4961  LR: 0.00001906  \n",
      "Epoch: [1][2000/3419] Elapsed 4m 24s (remain 3m 7s) Loss: 0.4829(0.6107) Grad: 23764.7949  LR: 0.00001896  \n",
      "Epoch: [1][2100/3419] Elapsed 4m 37s (remain 2m 53s) Loss: 0.6682(0.6098) Grad: 23376.5332  LR: 0.00001886  \n",
      "Epoch: [1][2200/3419] Elapsed 4m 50s (remain 2m 40s) Loss: 0.5953(0.6089) Grad: 14894.2822  LR: 0.00001875  \n",
      "Epoch: [1][2300/3419] Elapsed 5m 3s (remain 2m 27s) Loss: 0.5123(0.6077) Grad: 17071.5352  LR: 0.00001864  \n",
      "Epoch: [1][2400/3419] Elapsed 5m 16s (remain 2m 14s) Loss: 0.6012(0.6068) Grad: 24636.1641  LR: 0.00001852  \n",
      "Epoch: [1][2500/3419] Elapsed 5m 29s (remain 2m 1s) Loss: 0.5634(0.6058) Grad: 22082.4355  LR: 0.00001839  \n",
      "Epoch: [1][2600/3419] Elapsed 5m 43s (remain 1m 47s) Loss: 0.6807(0.6049) Grad: 14255.4619  LR: 0.00001827  \n",
      "Epoch: [1][2700/3419] Elapsed 5m 56s (remain 1m 34s) Loss: 0.7091(0.6038) Grad: 46733.5781  LR: 0.00001814  \n",
      "Epoch: [1][2800/3419] Elapsed 6m 9s (remain 1m 21s) Loss: 0.7252(0.6026) Grad: 103144.2031  LR: 0.00001800  \n",
      "Epoch: [1][2900/3419] Elapsed 6m 22s (remain 1m 8s) Loss: 0.4453(0.6019) Grad: 32749.6914  LR: 0.00001786  \n",
      "Epoch: [1][3000/3419] Elapsed 6m 35s (remain 0m 55s) Loss: 0.6072(0.6013) Grad: 99804.7891  LR: 0.00001772  \n",
      "Epoch: [1][3100/3419] Elapsed 6m 49s (remain 0m 41s) Loss: 0.8037(0.6008) Grad: 51461.7227  LR: 0.00001757  \n",
      "Epoch: [1][3200/3419] Elapsed 7m 2s (remain 0m 28s) Loss: 0.5934(0.5996) Grad: 18400.5645  LR: 0.00001742  \n",
      "Epoch: [1][3300/3419] Elapsed 7m 15s (remain 0m 15s) Loss: 0.5469(0.5988) Grad: 19714.0430  LR: 0.00001726  \n",
      "Epoch: [1][3400/3419] Elapsed 7m 28s (remain 0m 2s) Loss: 0.6988(0.5986) Grad: 55439.2852  LR: 0.00001710  \n",
      "Epoch: [1][3418/3419] Elapsed 7m 31s (remain 0m 0s) Loss: 0.5607(0.5987) Grad: 18559.1699  LR: 0.00001707  \n"
     ]
    },
    {
     "name": "stderr",
     "output_type": "stream",
     "text": [
      "[W pthreadpool-cpp.cc:90] Warning: Leaking Caffe2 thread-pool after fork. (function pthreadpool)\n",
      "[W pthreadpool-cpp.cc:90] Warning: Leaking Caffe2 thread-pool after fork. (function pthreadpool)\n"
     ]
    },
    {
     "name": "stdout",
     "output_type": "stream",
     "text": [
      "EVAL: [0/1140] Elapsed 0m 0s (remain 3m 0s) Loss: 0.5898(0.5898) \n"
     ]
    },
    {
     "name": "stderr",
     "output_type": "stream",
     "text": [
      "[W pthreadpool-cpp.cc:90] Warning: Leaking Caffe2 thread-pool after fork. (function pthreadpool)\n",
      "[W pthreadpool-cpp.cc:90] Warning: Leaking Caffe2 thread-pool after fork. (function pthreadpool)\n"
     ]
    },
    {
     "name": "stdout",
     "output_type": "stream",
     "text": [
      "EVAL: [100/1140] Elapsed 0m 3s (remain 0m 39s) Loss: 0.8273(0.5737) \n",
      "EVAL: [200/1140] Elapsed 0m 7s (remain 0m 35s) Loss: 0.6525(0.5682) \n",
      "EVAL: [300/1140] Elapsed 0m 11s (remain 0m 31s) Loss: 0.6458(0.5735) \n",
      "EVAL: [400/1140] Elapsed 0m 14s (remain 0m 27s) Loss: 0.5679(0.5788) \n",
      "EVAL: [500/1140] Elapsed 0m 18s (remain 0m 23s) Loss: 0.5255(0.5772) \n",
      "EVAL: [600/1140] Elapsed 0m 22s (remain 0m 20s) Loss: 0.4093(0.5764) \n",
      "EVAL: [700/1140] Elapsed 0m 26s (remain 0m 16s) Loss: 0.5702(0.5781) \n",
      "EVAL: [800/1140] Elapsed 0m 29s (remain 0m 12s) Loss: 0.3660(0.5794) \n",
      "EVAL: [900/1140] Elapsed 0m 33s (remain 0m 8s) Loss: 0.5786(0.5787) \n",
      "EVAL: [1000/1140] Elapsed 0m 37s (remain 0m 5s) Loss: 0.4869(0.5788) \n",
      "EVAL: [1100/1140] Elapsed 0m 40s (remain 0m 1s) Loss: 0.6404(0.5770) \n"
     ]
    },
    {
     "name": "stderr",
     "output_type": "stream",
     "text": [
      "Epoch 1 - avg_train_loss: 0.5987  avg_val_loss: 0.5772  time: 494s\n",
      "Epoch 1 - Score: 0.7271\n",
      "Epoch 1 - Save Best Score: 0.7271 Model\n"
     ]
    },
    {
     "name": "stdout",
     "output_type": "stream",
     "text": [
      "EVAL: [1139/1140] Elapsed 0m 42s (remain 0m 0s) Loss: 0.5414(0.5772) \n"
     ]
    },
    {
     "name": "stderr",
     "output_type": "stream",
     "text": [
      "[W pthreadpool-cpp.cc:90] Warning: Leaking Caffe2 thread-pool after fork. (function pthreadpool)\n",
      "[W pthreadpool-cpp.cc:90] Warning: Leaking Caffe2 thread-pool after fork. (function pthreadpool)\n",
      "[W pthreadpool-cpp.cc:90] Warning: Leaking Caffe2 thread-pool after fork. (function pthreadpool)\n",
      "[W pthreadpool-cpp.cc:90] Warning: Leaking Caffe2 thread-pool after fork. (function pthreadpool)\n"
     ]
    },
    {
     "name": "stdout",
     "output_type": "stream",
     "text": [
      "Epoch: [2][0/3419] Elapsed 0m 0s (remain 23m 18s) Loss: 0.6266(0.6266) Grad: 449301.6875  LR: 0.00001707  \n",
      "Epoch: [2][100/3419] Elapsed 0m 13s (remain 7m 25s) Loss: 0.4834(0.5897) Grad: 76105.5234  LR: 0.00001691  \n",
      "Epoch: [2][200/3419] Elapsed 0m 26s (remain 7m 7s) Loss: 0.5734(0.5749) Grad: 163199.2969  LR: 0.00001674  \n",
      "Epoch: [2][300/3419] Elapsed 0m 39s (remain 6m 53s) Loss: 0.4613(0.5766) Grad: 64337.5352  LR: 0.00001657  \n",
      "Epoch: [2][400/3419] Elapsed 0m 53s (remain 6m 39s) Loss: 0.7745(0.5746) Grad: 297448.2188  LR: 0.00001639  \n",
      "Epoch: [2][500/3419] Elapsed 1m 6s (remain 6m 25s) Loss: 0.5570(0.5696) Grad: 61638.1055  LR: 0.00001621  \n",
      "Epoch: [2][600/3419] Elapsed 1m 19s (remain 6m 12s) Loss: 0.6142(0.5703) Grad: 28797.4414  LR: 0.00001603  \n",
      "Epoch: [2][700/3419] Elapsed 1m 32s (remain 5m 59s) Loss: 0.5520(0.5701) Grad: 49798.7695  LR: 0.00001585  \n",
      "Epoch: [2][800/3419] Elapsed 1m 45s (remain 5m 46s) Loss: 0.7058(0.5681) Grad: 237894.1094  LR: 0.00001566  \n",
      "Epoch: [2][900/3419] Elapsed 1m 59s (remain 5m 32s) Loss: 0.6553(0.5672) Grad: 36354.9961  LR: 0.00001547  \n",
      "Epoch: [2][1000/3419] Elapsed 2m 12s (remain 5m 19s) Loss: 0.7184(0.5660) Grad: 25707.7715  LR: 0.00001527  \n",
      "Epoch: [2][1100/3419] Elapsed 2m 25s (remain 5m 6s) Loss: 0.3863(0.5652) Grad: 48179.4531  LR: 0.00001508  \n",
      "Epoch: [2][1200/3419] Elapsed 2m 38s (remain 4m 53s) Loss: 0.5565(0.5668) Grad: 52182.8281  LR: 0.00001488  \n",
      "Epoch: [2][1300/3419] Elapsed 2m 51s (remain 4m 39s) Loss: 0.5438(0.5663) Grad: 83757.0859  LR: 0.00001468  \n",
      "Epoch: [2][1400/3419] Elapsed 3m 5s (remain 4m 26s) Loss: 0.6548(0.5657) Grad: 104142.5156  LR: 0.00001447  \n",
      "Epoch: [2][1500/3419] Elapsed 3m 18s (remain 4m 13s) Loss: 0.5785(0.5652) Grad: 37792.8906  LR: 0.00001427  \n",
      "Epoch: [2][1600/3419] Elapsed 3m 31s (remain 4m 0s) Loss: 0.5289(0.5651) Grad: 123728.1406  LR: 0.00001406  \n",
      "Epoch: [2][1700/3419] Elapsed 3m 44s (remain 3m 47s) Loss: 0.5224(0.5656) Grad: 18732.5176  LR: 0.00001385  \n",
      "Epoch: [2][1800/3419] Elapsed 3m 58s (remain 3m 33s) Loss: 0.4944(0.5649) Grad: 11591.0996  LR: 0.00001363  \n",
      "Epoch: [2][1900/3419] Elapsed 4m 11s (remain 3m 20s) Loss: 0.4560(0.5652) Grad: 37788.1133  LR: 0.00001342  \n",
      "Epoch: [2][2000/3419] Elapsed 4m 24s (remain 3m 7s) Loss: 0.4683(0.5645) Grad: 24814.0059  LR: 0.00001320  \n",
      "Epoch: [2][2100/3419] Elapsed 4m 37s (remain 2m 54s) Loss: 0.5189(0.5638) Grad: 20764.0684  LR: 0.00001298  \n",
      "Epoch: [2][2200/3419] Elapsed 4m 50s (remain 2m 41s) Loss: 0.5533(0.5636) Grad: 41640.7109  LR: 0.00001276  \n",
      "Epoch: [2][2300/3419] Elapsed 5m 4s (remain 2m 27s) Loss: 0.6475(0.5631) Grad: 12852.0693  LR: 0.00001254  \n",
      "Epoch: [2][2400/3419] Elapsed 5m 17s (remain 2m 14s) Loss: 0.4699(0.5629) Grad: 20320.5332  LR: 0.00001232  \n",
      "Epoch: [2][2500/3419] Elapsed 5m 30s (remain 2m 1s) Loss: 0.6898(0.5628) Grad: 9923.8701  LR: 0.00001209  \n",
      "Epoch: [2][2600/3419] Elapsed 5m 43s (remain 1m 48s) Loss: 0.5682(0.5626) Grad: 39508.2422  LR: 0.00001187  \n",
      "Epoch: [2][2700/3419] Elapsed 5m 57s (remain 1m 34s) Loss: 0.6362(0.5622) Grad: 112007.8359  LR: 0.00001164  \n",
      "Epoch: [2][2800/3419] Elapsed 6m 10s (remain 1m 21s) Loss: 0.5095(0.5615) Grad: 72715.1172  LR: 0.00001142  \n",
      "Epoch: [2][2900/3419] Elapsed 6m 23s (remain 1m 8s) Loss: 0.2341(0.5612) Grad: 26346.1777  LR: 0.00001119  \n",
      "Epoch: [2][3000/3419] Elapsed 6m 36s (remain 0m 55s) Loss: 0.6712(0.5612) Grad: 20472.5508  LR: 0.00001096  \n",
      "Epoch: [2][3100/3419] Elapsed 6m 49s (remain 0m 42s) Loss: 0.5996(0.5606) Grad: 41549.1367  LR: 0.00001073  \n",
      "Epoch: [2][3200/3419] Elapsed 7m 3s (remain 0m 28s) Loss: 0.5269(0.5605) Grad: 23893.7031  LR: 0.00001050  \n",
      "Epoch: [2][3300/3419] Elapsed 7m 16s (remain 0m 15s) Loss: 0.5326(0.5608) Grad: 14413.1807  LR: 0.00001027  \n",
      "Epoch: [2][3400/3419] Elapsed 7m 29s (remain 0m 2s) Loss: 0.5530(0.5607) Grad: 19455.4238  LR: 0.00001004  \n",
      "Epoch: [2][3418/3419] Elapsed 7m 31s (remain 0m 0s) Loss: 0.5595(0.5606) Grad: 35503.4648  LR: 0.00001000  \n"
     ]
    },
    {
     "name": "stderr",
     "output_type": "stream",
     "text": [
      "[W pthreadpool-cpp.cc:90] Warning: Leaking Caffe2 thread-pool after fork. (function pthreadpool)\n",
      "[W pthreadpool-cpp.cc:90] Warning: Leaking Caffe2 thread-pool after fork. (function pthreadpool)\n"
     ]
    },
    {
     "name": "stdout",
     "output_type": "stream",
     "text": [
      "EVAL: [0/1140] Elapsed 0m 0s (remain 3m 2s) Loss: 0.5691(0.5691) \n"
     ]
    },
    {
     "name": "stderr",
     "output_type": "stream",
     "text": [
      "[W pthreadpool-cpp.cc:90] Warning: Leaking Caffe2 thread-pool after fork. (function pthreadpool)\n",
      "[W pthreadpool-cpp.cc:90] Warning: Leaking Caffe2 thread-pool after fork. (function pthreadpool)\n"
     ]
    },
    {
     "name": "stdout",
     "output_type": "stream",
     "text": [
      "EVAL: [100/1140] Elapsed 0m 3s (remain 0m 39s) Loss: 0.7506(0.5561) \n",
      "EVAL: [200/1140] Elapsed 0m 7s (remain 0m 35s) Loss: 0.6399(0.5493) \n",
      "EVAL: [300/1140] Elapsed 0m 11s (remain 0m 31s) Loss: 0.5481(0.5547) \n",
      "EVAL: [400/1140] Elapsed 0m 14s (remain 0m 27s) Loss: 0.4912(0.5592) \n",
      "EVAL: [500/1140] Elapsed 0m 18s (remain 0m 23s) Loss: 0.4720(0.5563) \n",
      "EVAL: [600/1140] Elapsed 0m 22s (remain 0m 20s) Loss: 0.4090(0.5578) \n",
      "EVAL: [700/1140] Elapsed 0m 26s (remain 0m 16s) Loss: 0.5740(0.5586) \n",
      "EVAL: [800/1140] Elapsed 0m 29s (remain 0m 12s) Loss: 0.2592(0.5588) \n",
      "EVAL: [900/1140] Elapsed 0m 33s (remain 0m 8s) Loss: 0.5605(0.5573) \n",
      "EVAL: [1000/1140] Elapsed 0m 37s (remain 0m 5s) Loss: 0.4752(0.5570) \n",
      "EVAL: [1100/1140] Elapsed 0m 40s (remain 0m 1s) Loss: 0.6474(0.5552) \n"
     ]
    },
    {
     "name": "stderr",
     "output_type": "stream",
     "text": [
      "Epoch 2 - avg_train_loss: 0.5606  avg_val_loss: 0.5552  time: 494s\n",
      "Epoch 2 - Score: 0.7829\n",
      "Epoch 2 - Save Best Score: 0.7829 Model\n"
     ]
    },
    {
     "name": "stdout",
     "output_type": "stream",
     "text": [
      "EVAL: [1139/1140] Elapsed 0m 42s (remain 0m 0s) Loss: 0.4482(0.5552) \n"
     ]
    },
    {
     "name": "stderr",
     "output_type": "stream",
     "text": [
      "[W pthreadpool-cpp.cc:90] Warning: Leaking Caffe2 thread-pool after fork. (function pthreadpool)\n",
      "[W pthreadpool-cpp.cc:90] Warning: Leaking Caffe2 thread-pool after fork. (function pthreadpool)\n",
      "[W pthreadpool-cpp.cc:90] Warning: Leaking Caffe2 thread-pool after fork. (function pthreadpool)\n",
      "[W pthreadpool-cpp.cc:90] Warning: Leaking Caffe2 thread-pool after fork. (function pthreadpool)\n"
     ]
    },
    {
     "name": "stdout",
     "output_type": "stream",
     "text": [
      "Epoch: [3][0/3419] Elapsed 0m 0s (remain 27m 44s) Loss: 0.5308(0.5308) Grad: 67963.1641  LR: 0.00001000  \n",
      "Epoch: [3][100/3419] Elapsed 0m 13s (remain 7m 26s) Loss: 0.5992(0.5535) Grad: 187630.1094  LR: 0.00000977  \n",
      "Epoch: [3][200/3419] Elapsed 0m 26s (remain 7m 8s) Loss: 0.5693(0.5427) Grad: 238504.5156  LR: 0.00000954  \n",
      "Epoch: [3][300/3419] Elapsed 0m 39s (remain 6m 53s) Loss: 0.4853(0.5418) Grad: 19460.4434  LR: 0.00000931  \n",
      "Epoch: [3][400/3419] Elapsed 0m 53s (remain 6m 39s) Loss: 0.5357(0.5455) Grad: 19674.0020  LR: 0.00000908  \n",
      "Epoch: [3][500/3419] Elapsed 1m 6s (remain 6m 25s) Loss: 0.4952(0.5403) Grad: 61284.9258  LR: 0.00000885  \n",
      "Epoch: [3][600/3419] Elapsed 1m 19s (remain 6m 12s) Loss: 0.5064(0.5396) Grad: 42371.5000  LR: 0.00000863  \n",
      "Epoch: [3][700/3419] Elapsed 1m 32s (remain 5m 59s) Loss: 0.5669(0.5395) Grad: 50071.6016  LR: 0.00000840  \n",
      "Epoch: [3][800/3419] Elapsed 1m 45s (remain 5m 45s) Loss: 0.5267(0.5381) Grad: 102937.0000  LR: 0.00000817  \n",
      "Epoch: [3][900/3419] Elapsed 1m 58s (remain 5m 32s) Loss: 0.5862(0.5393) Grad: 19099.9980  LR: 0.00000795  \n",
      "Epoch: [3][1000/3419] Elapsed 2m 12s (remain 5m 19s) Loss: 0.5622(0.5399) Grad: 6540.4233  LR: 0.00000772  \n",
      "Epoch: [3][1100/3419] Elapsed 2m 25s (remain 5m 5s) Loss: 0.4576(0.5396) Grad: 80647.7422  LR: 0.00000750  \n",
      "Epoch: [3][1200/3419] Elapsed 2m 38s (remain 4m 52s) Loss: 0.7390(0.5399) Grad: 62583.7617  LR: 0.00000728  \n",
      "Epoch: [3][1300/3419] Elapsed 2m 51s (remain 4m 39s) Loss: 0.4740(0.5399) Grad: 116574.4375  LR: 0.00000706  \n",
      "Epoch: [3][1400/3419] Elapsed 3m 4s (remain 4m 26s) Loss: 0.6871(0.5398) Grad: 12333.2383  LR: 0.00000684  \n",
      "Epoch: [3][1500/3419] Elapsed 3m 18s (remain 4m 13s) Loss: 0.4548(0.5398) Grad: 7531.3926  LR: 0.00000662  \n",
      "Epoch: [3][1600/3419] Elapsed 3m 31s (remain 3m 59s) Loss: 0.5405(0.5404) Grad: 137448.8594  LR: 0.00000641  \n",
      "Epoch: [3][1700/3419] Elapsed 3m 44s (remain 3m 46s) Loss: 0.3922(0.5404) Grad: 13070.4395  LR: 0.00000619  \n",
      "Epoch: [3][1800/3419] Elapsed 3m 57s (remain 3m 33s) Loss: 0.4876(0.5410) Grad: 9171.2266  LR: 0.00000598  \n",
      "Epoch: [3][1900/3419] Elapsed 4m 10s (remain 3m 20s) Loss: 0.5137(0.5408) Grad: 28721.1816  LR: 0.00000577  \n",
      "Epoch: [3][2000/3419] Elapsed 4m 24s (remain 3m 7s) Loss: 0.5383(0.5404) Grad: 18702.3438  LR: 0.00000556  \n",
      "Epoch: [3][2100/3419] Elapsed 4m 37s (remain 2m 53s) Loss: 0.3989(0.5396) Grad: 18563.8730  LR: 0.00000536  \n",
      "Epoch: [3][2200/3419] Elapsed 4m 50s (remain 2m 40s) Loss: 0.6544(0.5392) Grad: 95087.8516  LR: 0.00000516  \n",
      "Epoch: [3][2300/3419] Elapsed 5m 3s (remain 2m 27s) Loss: 0.6508(0.5395) Grad: 12428.7510  LR: 0.00000496  \n",
      "Epoch: [3][2400/3419] Elapsed 5m 16s (remain 2m 14s) Loss: 0.4444(0.5389) Grad: 37191.1797  LR: 0.00000476  \n",
      "Epoch: [3][2500/3419] Elapsed 5m 30s (remain 2m 1s) Loss: 0.5147(0.5392) Grad: 8513.4746  LR: 0.00000457  \n",
      "Epoch: [3][2600/3419] Elapsed 5m 43s (remain 1m 47s) Loss: 0.4600(0.5395) Grad: 66603.2656  LR: 0.00000438  \n",
      "Epoch: [3][2700/3419] Elapsed 5m 56s (remain 1m 34s) Loss: 0.7115(0.5393) Grad: 77012.9766  LR: 0.00000419  \n",
      "Epoch: [3][2800/3419] Elapsed 6m 9s (remain 1m 21s) Loss: 0.5107(0.5387) Grad: 69940.6094  LR: 0.00000400  \n",
      "Epoch: [3][2900/3419] Elapsed 6m 22s (remain 1m 8s) Loss: 0.5482(0.5383) Grad: 43020.2539  LR: 0.00000382  \n",
      "Epoch: [3][3000/3419] Elapsed 6m 36s (remain 0m 55s) Loss: 0.6025(0.5382) Grad: 28527.5273  LR: 0.00000364  \n",
      "Epoch: [3][3100/3419] Elapsed 6m 49s (remain 0m 41s) Loss: 0.5340(0.5382) Grad: 37882.6836  LR: 0.00000347  \n",
      "Epoch: [3][3200/3419] Elapsed 7m 2s (remain 0m 28s) Loss: 0.6127(0.5383) Grad: 65430.6211  LR: 0.00000329  \n",
      "Epoch: [3][3300/3419] Elapsed 7m 15s (remain 0m 15s) Loss: 0.4778(0.5385) Grad: 83125.8438  LR: 0.00000312  \n",
      "Epoch: [3][3400/3419] Elapsed 7m 29s (remain 0m 2s) Loss: 0.5931(0.5386) Grad: 78160.4141  LR: 0.00000296  \n",
      "Epoch: [3][3418/3419] Elapsed 7m 31s (remain 0m 0s) Loss: 0.6540(0.5387) Grad: 123808.6250  LR: 0.00000293  \n"
     ]
    },
    {
     "name": "stderr",
     "output_type": "stream",
     "text": [
      "[W pthreadpool-cpp.cc:90] Warning: Leaking Caffe2 thread-pool after fork. (function pthreadpool)\n",
      "[W pthreadpool-cpp.cc:90] Warning: Leaking Caffe2 thread-pool after fork. (function pthreadpool)\n",
      "[W pthreadpool-cpp.cc:90] Warning: Leaking Caffe2 thread-pool after fork. (function pthreadpool)\n",
      "[W pthreadpool-cpp.cc:90] Warning: Leaking Caffe2 thread-pool after fork. (function pthreadpool)\n"
     ]
    },
    {
     "name": "stdout",
     "output_type": "stream",
     "text": [
      "EVAL: [0/1140] Elapsed 0m 0s (remain 3m 39s) Loss: 0.5611(0.5611) \n",
      "EVAL: [100/1140] Elapsed 0m 3s (remain 0m 40s) Loss: 0.8451(0.5593) \n",
      "EVAL: [200/1140] Elapsed 0m 7s (remain 0m 35s) Loss: 0.6488(0.5516) \n",
      "EVAL: [300/1140] Elapsed 0m 11s (remain 0m 31s) Loss: 0.6195(0.5602) \n",
      "EVAL: [400/1140] Elapsed 0m 15s (remain 0m 27s) Loss: 0.4904(0.5660) \n",
      "EVAL: [500/1140] Elapsed 0m 18s (remain 0m 23s) Loss: 0.4616(0.5618) \n",
      "EVAL: [600/1140] Elapsed 0m 22s (remain 0m 20s) Loss: 0.3688(0.5629) \n",
      "EVAL: [700/1140] Elapsed 0m 26s (remain 0m 16s) Loss: 0.5687(0.5647) \n",
      "EVAL: [800/1140] Elapsed 0m 29s (remain 0m 12s) Loss: 0.2493(0.5643) \n",
      "EVAL: [900/1140] Elapsed 0m 33s (remain 0m 8s) Loss: 0.5461(0.5625) \n",
      "EVAL: [1000/1140] Elapsed 0m 37s (remain 0m 5s) Loss: 0.4817(0.5619) \n",
      "EVAL: [1100/1140] Elapsed 0m 40s (remain 0m 1s) Loss: 0.6332(0.5607) \n"
     ]
    },
    {
     "name": "stderr",
     "output_type": "stream",
     "text": [
      "Epoch 3 - avg_train_loss: 0.5387  avg_val_loss: 0.5610  time: 494s\n",
      "Epoch 3 - Score: 0.7994\n",
      "Epoch 3 - Save Best Score: 0.7994 Model\n"
     ]
    },
    {
     "name": "stdout",
     "output_type": "stream",
     "text": [
      "EVAL: [1139/1140] Elapsed 0m 42s (remain 0m 0s) Loss: 0.4272(0.5610) \n"
     ]
    },
    {
     "name": "stderr",
     "output_type": "stream",
     "text": [
      "[W pthreadpool-cpp.cc:90] Warning: Leaking Caffe2 thread-pool after fork. (function pthreadpool)\n",
      "[W pthreadpool-cpp.cc:90] Warning: Leaking Caffe2 thread-pool after fork. (function pthreadpool)\n",
      "[W pthreadpool-cpp.cc:90] Warning: Leaking Caffe2 thread-pool after fork. (function pthreadpool)\n",
      "[W pthreadpool-cpp.cc:90] Warning: Leaking Caffe2 thread-pool after fork. (function pthreadpool)\n"
     ]
    },
    {
     "name": "stdout",
     "output_type": "stream",
     "text": [
      "Epoch: [4][0/3419] Elapsed 0m 0s (remain 25m 3s) Loss: 0.5249(0.5249) Grad: 121084.2266  LR: 0.00000293  \n",
      "Epoch: [4][100/3419] Elapsed 0m 13s (remain 7m 24s) Loss: 0.6655(0.5426) Grad: 46770.7891  LR: 0.00000277  \n",
      "Epoch: [4][200/3419] Elapsed 0m 26s (remain 7m 6s) Loss: 0.5144(0.5349) Grad: 15697.1729  LR: 0.00000261  \n",
      "Epoch: [4][300/3419] Elapsed 0m 39s (remain 6m 52s) Loss: 0.5151(0.5320) Grad: 149925.3125  LR: 0.00000246  \n",
      "Epoch: [4][400/3419] Elapsed 0m 53s (remain 6m 39s) Loss: 0.4713(0.5292) Grad: 172991.7812  LR: 0.00000231  \n",
      "Epoch: [4][500/3419] Elapsed 1m 6s (remain 6m 25s) Loss: 0.6637(0.5293) Grad: 108491.3906  LR: 0.00000216  \n",
      "Epoch: [4][600/3419] Elapsed 1m 19s (remain 6m 12s) Loss: 0.6701(0.5269) Grad: 137162.0781  LR: 0.00000202  \n",
      "Epoch: [4][700/3419] Elapsed 1m 32s (remain 5m 58s) Loss: 0.6783(0.5261) Grad: 61175.3633  LR: 0.00000189  \n",
      "Epoch: [4][800/3419] Elapsed 1m 45s (remain 5m 45s) Loss: 0.5393(0.5277) Grad: 15268.1895  LR: 0.00000176  \n",
      "Epoch: [4][900/3419] Elapsed 1m 58s (remain 5m 32s) Loss: 0.3992(0.5272) Grad: 83023.9375  LR: 0.00000163  \n",
      "Epoch: [4][1000/3419] Elapsed 2m 12s (remain 5m 19s) Loss: 0.5023(0.5279) Grad: 8711.7510  LR: 0.00000150  \n",
      "Epoch: [4][1100/3419] Elapsed 2m 25s (remain 5m 6s) Loss: 0.3740(0.5271) Grad: 15876.5381  LR: 0.00000139  \n",
      "Epoch: [4][1200/3419] Elapsed 2m 38s (remain 4m 52s) Loss: 0.2817(0.5261) Grad: 33746.5352  LR: 0.00000127  \n",
      "Epoch: [4][1300/3419] Elapsed 2m 51s (remain 4m 39s) Loss: 0.5928(0.5259) Grad: 21096.8574  LR: 0.00000116  \n",
      "Epoch: [4][1400/3419] Elapsed 3m 4s (remain 4m 26s) Loss: 0.3905(0.5260) Grad: 56333.9844  LR: 0.00000106  \n",
      "Epoch: [4][1500/3419] Elapsed 3m 18s (remain 4m 13s) Loss: 0.4478(0.5267) Grad: 16338.7041  LR: 0.00000096  \n",
      "Epoch: [4][1600/3419] Elapsed 3m 31s (remain 4m 0s) Loss: 0.3468(0.5266) Grad: 30132.0293  LR: 0.00000086  \n",
      "Epoch: [4][1700/3419] Elapsed 3m 44s (remain 3m 46s) Loss: 0.6524(0.5272) Grad: 53135.6875  LR: 0.00000077  \n",
      "Epoch: [4][1800/3419] Elapsed 3m 57s (remain 3m 33s) Loss: 0.6201(0.5274) Grad: 79114.6094  LR: 0.00000068  \n",
      "Epoch: [4][1900/3419] Elapsed 4m 11s (remain 3m 20s) Loss: 0.5665(0.5277) Grad: 30181.6152  LR: 0.00000060  \n",
      "Epoch: [4][2000/3419] Elapsed 4m 24s (remain 3m 7s) Loss: 0.6171(0.5281) Grad: 17866.7754  LR: 0.00000053  \n",
      "Epoch: [4][2100/3419] Elapsed 4m 37s (remain 2m 54s) Loss: 0.3803(0.5278) Grad: 58857.9258  LR: 0.00000046  \n",
      "Epoch: [4][2200/3419] Elapsed 4m 50s (remain 2m 40s) Loss: 0.7049(0.5277) Grad: 215697.2188  LR: 0.00000039  \n",
      "Epoch: [4][2300/3419] Elapsed 5m 3s (remain 2m 27s) Loss: 0.5081(0.5284) Grad: 32139.1113  LR: 0.00000033  \n",
      "Epoch: [4][2400/3419] Elapsed 5m 17s (remain 2m 14s) Loss: 0.5195(0.5288) Grad: 23422.2520  LR: 0.00000027  \n",
      "Epoch: [4][2500/3419] Elapsed 5m 30s (remain 2m 1s) Loss: 0.6875(0.5296) Grad: 12618.0586  LR: 0.00000022  \n",
      "Epoch: [4][2600/3419] Elapsed 5m 43s (remain 1m 48s) Loss: 0.4186(0.5294) Grad: 31535.1543  LR: 0.00000018  \n",
      "Epoch: [4][2700/3419] Elapsed 5m 56s (remain 1m 34s) Loss: 0.5495(0.5288) Grad: 20593.1289  LR: 0.00000014  \n",
      "Epoch: [4][2800/3419] Elapsed 6m 9s (remain 1m 21s) Loss: 0.6726(0.5285) Grad: 25599.4629  LR: 0.00000010  \n",
      "Epoch: [4][2900/3419] Elapsed 6m 23s (remain 1m 8s) Loss: 0.4530(0.5288) Grad: 21708.0371  LR: 0.00000007  \n",
      "Epoch: [4][3000/3419] Elapsed 6m 36s (remain 0m 55s) Loss: 0.4006(0.5288) Grad: 57274.7266  LR: 0.00000005  \n",
      "Epoch: [4][3100/3419] Elapsed 6m 49s (remain 0m 42s) Loss: 0.3374(0.5280) Grad: 45970.5195  LR: 0.00000003  \n",
      "Epoch: [4][3200/3419] Elapsed 7m 2s (remain 0m 28s) Loss: 0.4731(0.5283) Grad: 37321.6914  LR: 0.00000001  \n",
      "Epoch: [4][3300/3419] Elapsed 7m 15s (remain 0m 15s) Loss: 0.6972(0.5285) Grad: 63323.1719  LR: 0.00000000  \n",
      "Epoch: [4][3400/3419] Elapsed 7m 29s (remain 0m 2s) Loss: 0.5743(0.5279) Grad: 14301.1621  LR: 0.00000000  \n",
      "Epoch: [4][3418/3419] Elapsed 7m 31s (remain 0m 0s) Loss: 0.6519(0.5279) Grad: 64840.0508  LR: 0.00000000  \n"
     ]
    },
    {
     "name": "stderr",
     "output_type": "stream",
     "text": [
      "[W pthreadpool-cpp.cc:90] Warning: Leaking Caffe2 thread-pool after fork. (function pthreadpool)\n",
      "[W pthreadpool-cpp.cc:90] Warning: Leaking Caffe2 thread-pool after fork. (function pthreadpool)\n"
     ]
    },
    {
     "name": "stdout",
     "output_type": "stream",
     "text": [
      "EVAL: [0/1140] Elapsed 0m 0s (remain 3m 7s) Loss: 0.5599(0.5599) \n"
     ]
    },
    {
     "name": "stderr",
     "output_type": "stream",
     "text": [
      "[W pthreadpool-cpp.cc:90] Warning: Leaking Caffe2 thread-pool after fork. (function pthreadpool)\n",
      "[W pthreadpool-cpp.cc:90] Warning: Leaking Caffe2 thread-pool after fork. (function pthreadpool)\n"
     ]
    },
    {
     "name": "stdout",
     "output_type": "stream",
     "text": [
      "EVAL: [100/1140] Elapsed 0m 3s (remain 0m 39s) Loss: 0.8276(0.5656) \n",
      "EVAL: [200/1140] Elapsed 0m 7s (remain 0m 35s) Loss: 0.6378(0.5553) \n",
      "EVAL: [300/1140] Elapsed 0m 11s (remain 0m 31s) Loss: 0.5603(0.5625) \n",
      "EVAL: [400/1140] Elapsed 0m 14s (remain 0m 27s) Loss: 0.4885(0.5678) \n",
      "EVAL: [500/1140] Elapsed 0m 18s (remain 0m 23s) Loss: 0.4612(0.5629) \n",
      "EVAL: [600/1140] Elapsed 0m 22s (remain 0m 20s) Loss: 0.4060(0.5648) \n",
      "EVAL: [700/1140] Elapsed 0m 26s (remain 0m 16s) Loss: 0.5645(0.5662) \n",
      "EVAL: [800/1140] Elapsed 0m 29s (remain 0m 12s) Loss: 0.2466(0.5657) \n",
      "EVAL: [900/1140] Elapsed 0m 33s (remain 0m 8s) Loss: 0.5333(0.5638) \n",
      "EVAL: [1000/1140] Elapsed 0m 37s (remain 0m 5s) Loss: 0.4716(0.5634) \n",
      "EVAL: [1100/1140] Elapsed 0m 40s (remain 0m 1s) Loss: 0.6304(0.5621) \n"
     ]
    },
    {
     "name": "stderr",
     "output_type": "stream",
     "text": [
      "Epoch 4 - avg_train_loss: 0.5279  avg_val_loss: 0.5623  time: 494s\n",
      "Epoch 4 - Score: 0.8019\n",
      "Epoch 4 - Save Best Score: 0.8019 Model\n"
     ]
    },
    {
     "name": "stdout",
     "output_type": "stream",
     "text": [
      "EVAL: [1139/1140] Elapsed 0m 42s (remain 0m 0s) Loss: 0.4138(0.5623) \n"
     ]
    },
    {
     "name": "stderr",
     "output_type": "stream",
     "text": [
      "========== fold: 2 result ==========\n",
      "Score: 0.8019\n",
      "========== fold: 3 training ==========\n"
     ]
    },
    {
     "name": "stdout",
     "output_type": "stream",
     "text": [
      "\u001b[38;5;40m========== fold: 3 training ==========\u001b[0m\n"
     ]
    },
    {
     "name": "stderr",
     "output_type": "stream",
     "text": [
      "Some weights of the model checkpoint at roberta-base were not used when initializing RobertaModel: ['lm_head.dense.bias', 'lm_head.layer_norm.weight', 'lm_head.layer_norm.bias', 'lm_head.bias', 'lm_head.decoder.weight', 'lm_head.dense.weight']\n",
      "- This IS expected if you are initializing RobertaModel from the checkpoint of a model trained on another task or with another architecture (e.g. initializing a BertForSequenceClassification model from a BertForPreTraining model).\n",
      "- This IS NOT expected if you are initializing RobertaModel from the checkpoint of a model that you expect to be exactly identical (initializing a BertForSequenceClassification model from a BertForSequenceClassification model).\n",
      "[W pthreadpool-cpp.cc:90] Warning: Leaking Caffe2 thread-pool after fork. (function pthreadpool)\n",
      "[W pthreadpool-cpp.cc:90] Warning: Leaking Caffe2 thread-pool after fork. (function pthreadpool)\n",
      "[W pthreadpool-cpp.cc:90] Warning: Leaking Caffe2 thread-pool after fork. (function pthreadpool)\n",
      "[W pthreadpool-cpp.cc:90] Warning: Leaking Caffe2 thread-pool after fork. (function pthreadpool)\n"
     ]
    },
    {
     "name": "stdout",
     "output_type": "stream",
     "text": [
      "Epoch: [1][0/3419] Elapsed 0m 0s (remain 26m 25s) Loss: 0.6897(0.6897) Grad: 39968.4727  LR: 0.00002000  \n",
      "Epoch: [1][100/3419] Elapsed 0m 13s (remain 7m 25s) Loss: 0.7024(0.6507) Grad: 57576.7148  LR: 0.00002000  \n",
      "Epoch: [1][200/3419] Elapsed 0m 26s (remain 7m 7s) Loss: 0.6577(0.6363) Grad: 28194.2344  LR: 0.00001999  \n",
      "Epoch: [1][300/3419] Elapsed 0m 39s (remain 6m 53s) Loss: 0.7512(0.6363) Grad: 47602.3242  LR: 0.00001998  \n",
      "Epoch: [1][400/3419] Elapsed 0m 53s (remain 6m 39s) Loss: 0.6503(0.6315) Grad: 32166.3672  LR: 0.00001996  \n",
      "Epoch: [1][500/3419] Elapsed 1m 6s (remain 6m 26s) Loss: 0.6854(0.6282) Grad: 23972.2832  LR: 0.00001993  \n",
      "Epoch: [1][600/3419] Elapsed 1m 19s (remain 6m 12s) Loss: 0.6925(0.6246) Grad: 52941.1523  LR: 0.00001990  \n",
      "Epoch: [1][700/3419] Elapsed 1m 32s (remain 5m 59s) Loss: 0.6674(0.6240) Grad: 23646.5742  LR: 0.00001987  \n",
      "Epoch: [1][800/3419] Elapsed 1m 45s (remain 5m 46s) Loss: 0.6489(0.6195) Grad: 60961.5625  LR: 0.00001983  \n",
      "Epoch: [1][900/3419] Elapsed 1m 59s (remain 5m 33s) Loss: 0.5800(0.6160) Grad: 17340.4648  LR: 0.00001979  \n",
      "Epoch: [1][1000/3419] Elapsed 2m 12s (remain 5m 19s) Loss: 0.4663(0.6147) Grad: 19990.5723  LR: 0.00001974  \n",
      "Epoch: [1][1100/3419] Elapsed 2m 25s (remain 5m 6s) Loss: 0.5512(0.6125) Grad: 29394.8242  LR: 0.00001968  \n",
      "Epoch: [1][1200/3419] Elapsed 2m 38s (remain 4m 53s) Loss: 0.6283(0.6103) Grad: 27363.6973  LR: 0.00001962  \n",
      "Epoch: [1][1300/3419] Elapsed 2m 52s (remain 4m 40s) Loss: 0.7124(0.6095) Grad: 30780.5801  LR: 0.00001956  \n",
      "Epoch: [1][1400/3419] Elapsed 3m 5s (remain 4m 26s) Loss: 0.5343(0.6079) Grad: 17125.4531  LR: 0.00001949  \n",
      "Epoch: [1][1500/3419] Elapsed 3m 18s (remain 4m 13s) Loss: 0.6136(0.6060) Grad: 99006.9453  LR: 0.00001941  \n",
      "Epoch: [1][1600/3419] Elapsed 3m 31s (remain 4m 0s) Loss: 0.5536(0.6055) Grad: 16030.4541  LR: 0.00001933  \n",
      "Epoch: [1][1700/3419] Elapsed 3m 44s (remain 3m 47s) Loss: 0.5575(0.6037) Grad: 12825.1465  LR: 0.00001925  \n",
      "Epoch: [1][1800/3419] Elapsed 3m 58s (remain 3m 33s) Loss: 0.5937(0.6026) Grad: 48544.3008  LR: 0.00001916  \n",
      "Epoch: [1][1900/3419] Elapsed 4m 11s (remain 3m 20s) Loss: 0.5387(0.6014) Grad: 9669.8984  LR: 0.00001906  \n",
      "Epoch: [1][2000/3419] Elapsed 4m 24s (remain 3m 7s) Loss: 0.5375(0.6003) Grad: 51235.1172  LR: 0.00001896  \n",
      "Epoch: [1][2100/3419] Elapsed 4m 37s (remain 2m 54s) Loss: 0.5856(0.5994) Grad: 11727.5098  LR: 0.00001886  \n",
      "Epoch: [1][2200/3419] Elapsed 4m 51s (remain 2m 41s) Loss: 0.5213(0.5980) Grad: 58556.5234  LR: 0.00001875  \n",
      "Epoch: [1][2300/3419] Elapsed 5m 4s (remain 2m 27s) Loss: 0.3854(0.5967) Grad: 49762.1094  LR: 0.00001864  \n",
      "Epoch: [1][2400/3419] Elapsed 5m 17s (remain 2m 14s) Loss: 0.7052(0.5961) Grad: 46528.6680  LR: 0.00001852  \n",
      "Epoch: [1][2500/3419] Elapsed 5m 30s (remain 2m 1s) Loss: 0.4786(0.5948) Grad: 126582.3750  LR: 0.00001839  \n",
      "Epoch: [1][2600/3419] Elapsed 5m 43s (remain 1m 48s) Loss: 0.4002(0.5941) Grad: 11771.8848  LR: 0.00001827  \n",
      "Epoch: [1][2700/3419] Elapsed 5m 57s (remain 1m 34s) Loss: 0.5093(0.5930) Grad: 18460.9668  LR: 0.00001814  \n",
      "Epoch: [1][2800/3419] Elapsed 6m 10s (remain 1m 21s) Loss: 0.6243(0.5928) Grad: 9869.4746  LR: 0.00001800  \n",
      "Epoch: [1][2900/3419] Elapsed 6m 23s (remain 1m 8s) Loss: 0.6645(0.5929) Grad: 21368.0898  LR: 0.00001786  \n",
      "Epoch: [1][3000/3419] Elapsed 6m 36s (remain 0m 55s) Loss: 0.7601(0.5925) Grad: 68418.1797  LR: 0.00001772  \n",
      "Epoch: [1][3100/3419] Elapsed 6m 50s (remain 0m 42s) Loss: 0.5985(0.5923) Grad: 31398.3008  LR: 0.00001757  \n",
      "Epoch: [1][3200/3419] Elapsed 7m 3s (remain 0m 28s) Loss: 0.6022(0.5924) Grad: 28948.0664  LR: 0.00001742  \n",
      "Epoch: [1][3300/3419] Elapsed 7m 16s (remain 0m 15s) Loss: 0.5682(0.5915) Grad: 8642.5039  LR: 0.00001726  \n",
      "Epoch: [1][3400/3419] Elapsed 7m 29s (remain 0m 2s) Loss: 0.6105(0.5914) Grad: 9009.2354  LR: 0.00001710  \n",
      "Epoch: [1][3418/3419] Elapsed 7m 32s (remain 0m 0s) Loss: 0.6022(0.5914) Grad: 14028.4580  LR: 0.00001707  \n"
     ]
    },
    {
     "name": "stderr",
     "output_type": "stream",
     "text": [
      "[W pthreadpool-cpp.cc:90] Warning: Leaking Caffe2 thread-pool after fork. (function pthreadpool)\n",
      "[W pthreadpool-cpp.cc:90] Warning: Leaking Caffe2 thread-pool after fork. (function pthreadpool)\n",
      "[W pthreadpool-cpp.cc:90] Warning: Leaking Caffe2 thread-pool after fork. (function pthreadpool)\n",
      "[W pthreadpool-cpp.cc:90] Warning: Leaking Caffe2 thread-pool after fork. (function pthreadpool)\n"
     ]
    },
    {
     "name": "stdout",
     "output_type": "stream",
     "text": [
      "EVAL: [0/1140] Elapsed 0m 0s (remain 3m 11s) Loss: 0.6794(0.6794) \n",
      "EVAL: [100/1140] Elapsed 0m 3s (remain 0m 39s) Loss: 0.7313(0.5732) \n",
      "EVAL: [200/1140] Elapsed 0m 7s (remain 0m 35s) Loss: 0.6941(0.5800) \n",
      "EVAL: [300/1140] Elapsed 0m 11s (remain 0m 31s) Loss: 0.8465(0.5787) \n",
      "EVAL: [400/1140] Elapsed 0m 14s (remain 0m 27s) Loss: 0.6046(0.5813) \n",
      "EVAL: [500/1140] Elapsed 0m 18s (remain 0m 23s) Loss: 0.6690(0.5785) \n",
      "EVAL: [600/1140] Elapsed 0m 22s (remain 0m 20s) Loss: 0.7367(0.5785) \n",
      "EVAL: [700/1140] Elapsed 0m 26s (remain 0m 16s) Loss: 0.5732(0.5789) \n",
      "EVAL: [800/1140] Elapsed 0m 29s (remain 0m 12s) Loss: 0.6617(0.5792) \n",
      "EVAL: [900/1140] Elapsed 0m 33s (remain 0m 8s) Loss: 0.9257(0.5817) \n",
      "EVAL: [1000/1140] Elapsed 0m 37s (remain 0m 5s) Loss: 0.5285(0.5818) \n",
      "EVAL: [1100/1140] Elapsed 0m 40s (remain 0m 1s) Loss: 0.6839(0.5823) \n"
     ]
    },
    {
     "name": "stderr",
     "output_type": "stream",
     "text": [
      "Epoch 1 - avg_train_loss: 0.5914  avg_val_loss: 0.5830  time: 495s\n",
      "Epoch 1 - Score: 0.7261\n",
      "Epoch 1 - Save Best Score: 0.7261 Model\n"
     ]
    },
    {
     "name": "stdout",
     "output_type": "stream",
     "text": [
      "EVAL: [1139/1140] Elapsed 0m 42s (remain 0m 0s) Loss: 0.5342(0.5830) \n"
     ]
    },
    {
     "name": "stderr",
     "output_type": "stream",
     "text": [
      "[W pthreadpool-cpp.cc:90] Warning: Leaking Caffe2 thread-pool after fork. (function pthreadpool)\n",
      "[W pthreadpool-cpp.cc:90] Warning: Leaking Caffe2 thread-pool after fork. (function pthreadpool)\n",
      "[W pthreadpool-cpp.cc:90] Warning: Leaking Caffe2 thread-pool after fork. (function pthreadpool)\n",
      "[W pthreadpool-cpp.cc:90] Warning: Leaking Caffe2 thread-pool after fork. (function pthreadpool)\n"
     ]
    },
    {
     "name": "stdout",
     "output_type": "stream",
     "text": [
      "Epoch: [2][0/3419] Elapsed 0m 0s (remain 24m 50s) Loss: 0.5552(0.5552) Grad: 327022.8125  LR: 0.00001707  \n",
      "Epoch: [2][100/3419] Elapsed 0m 13s (remain 7m 26s) Loss: 0.6034(0.5660) Grad: 27309.4531  LR: 0.00001691  \n",
      "Epoch: [2][200/3419] Elapsed 0m 26s (remain 7m 8s) Loss: 0.5014(0.5606) Grad: 64927.9531  LR: 0.00001674  \n",
      "Epoch: [2][300/3419] Elapsed 0m 40s (remain 6m 54s) Loss: 0.5920(0.5618) Grad: 10650.9629  LR: 0.00001657  \n",
      "Epoch: [2][400/3419] Elapsed 0m 53s (remain 6m 40s) Loss: 0.5903(0.5622) Grad: 23735.8906  LR: 0.00001639  \n",
      "Epoch: [2][500/3419] Elapsed 1m 6s (remain 6m 27s) Loss: 0.5108(0.5595) Grad: 24935.2871  LR: 0.00001621  \n",
      "Epoch: [2][600/3419] Elapsed 1m 19s (remain 6m 13s) Loss: 0.5283(0.5580) Grad: 86484.8672  LR: 0.00001603  \n",
      "Epoch: [2][700/3419] Elapsed 1m 33s (remain 6m 0s) Loss: 0.4766(0.5576) Grad: 31116.0293  LR: 0.00001585  \n",
      "Epoch: [2][800/3419] Elapsed 1m 46s (remain 5m 47s) Loss: 0.5588(0.5570) Grad: 62699.0430  LR: 0.00001566  \n",
      "Epoch: [2][900/3419] Elapsed 1m 59s (remain 5m 33s) Loss: 0.8805(0.5587) Grad: 72093.3125  LR: 0.00001547  \n",
      "Epoch: [2][1000/3419] Elapsed 2m 12s (remain 5m 20s) Loss: 0.5275(0.5595) Grad: 8707.3301  LR: 0.00001527  \n",
      "Epoch: [2][1100/3419] Elapsed 2m 25s (remain 5m 7s) Loss: 0.5533(0.5604) Grad: 29385.0820  LR: 0.00001508  \n",
      "Epoch: [2][1200/3419] Elapsed 2m 39s (remain 4m 53s) Loss: 0.5098(0.5600) Grad: 21182.7363  LR: 0.00001488  \n",
      "Epoch: [2][1300/3419] Elapsed 2m 52s (remain 4m 40s) Loss: 0.5881(0.5586) Grad: 22150.4941  LR: 0.00001468  \n",
      "Epoch: [2][1400/3419] Elapsed 3m 5s (remain 4m 27s) Loss: 0.6545(0.5603) Grad: 91434.7734  LR: 0.00001447  \n",
      "Epoch: [2][1500/3419] Elapsed 3m 18s (remain 4m 14s) Loss: 0.5402(0.5597) Grad: 174507.3438  LR: 0.00001427  \n",
      "Epoch: [2][1600/3419] Elapsed 3m 32s (remain 4m 0s) Loss: 0.4424(0.5602) Grad: 26042.6074  LR: 0.00001406  \n",
      "Epoch: [2][1700/3419] Elapsed 3m 45s (remain 3m 47s) Loss: 0.5979(0.5601) Grad: 13201.4404  LR: 0.00001385  \n",
      "Epoch: [2][1800/3419] Elapsed 3m 58s (remain 3m 34s) Loss: 0.4076(0.5601) Grad: 18101.0312  LR: 0.00001363  \n",
      "Epoch: [2][1900/3419] Elapsed 4m 11s (remain 3m 21s) Loss: 0.5297(0.5597) Grad: 22384.1113  LR: 0.00001342  \n",
      "Epoch: [2][2000/3419] Elapsed 4m 25s (remain 3m 7s) Loss: 0.5058(0.5597) Grad: 9480.9521  LR: 0.00001320  \n",
      "Epoch: [2][2100/3419] Elapsed 4m 38s (remain 2m 54s) Loss: 0.4623(0.5588) Grad: 38262.2852  LR: 0.00001298  \n",
      "Epoch: [2][2200/3419] Elapsed 4m 51s (remain 2m 41s) Loss: 0.4014(0.5589) Grad: 230059.3438  LR: 0.00001276  \n",
      "Epoch: [2][2300/3419] Elapsed 5m 4s (remain 2m 28s) Loss: 0.5639(0.5579) Grad: 88595.4609  LR: 0.00001254  \n",
      "Epoch: [2][2400/3419] Elapsed 5m 17s (remain 2m 14s) Loss: 0.6260(0.5582) Grad: 24666.8359  LR: 0.00001232  \n",
      "Epoch: [2][2500/3419] Elapsed 5m 31s (remain 2m 1s) Loss: 0.5957(0.5579) Grad: 32073.2832  LR: 0.00001209  \n",
      "Epoch: [2][2600/3419] Elapsed 5m 44s (remain 1m 48s) Loss: 0.7152(0.5576) Grad: 25857.3633  LR: 0.00001187  \n",
      "Epoch: [2][2700/3419] Elapsed 5m 57s (remain 1m 35s) Loss: 0.6734(0.5576) Grad: 59386.7070  LR: 0.00001164  \n",
      "Epoch: [2][2800/3419] Elapsed 6m 10s (remain 1m 21s) Loss: 0.3553(0.5576) Grad: 14753.5508  LR: 0.00001142  \n",
      "Epoch: [2][2900/3419] Elapsed 6m 24s (remain 1m 8s) Loss: 0.4677(0.5579) Grad: 25721.3555  LR: 0.00001119  \n",
      "Epoch: [2][3000/3419] Elapsed 6m 37s (remain 0m 55s) Loss: 0.6973(0.5578) Grad: 24153.4492  LR: 0.00001096  \n",
      "Epoch: [2][3100/3419] Elapsed 6m 50s (remain 0m 42s) Loss: 0.6199(0.5578) Grad: 44656.0898  LR: 0.00001073  \n",
      "Epoch: [2][3200/3419] Elapsed 7m 3s (remain 0m 28s) Loss: 0.5030(0.5576) Grad: 69370.5703  LR: 0.00001050  \n",
      "Epoch: [2][3300/3419] Elapsed 7m 17s (remain 0m 15s) Loss: 0.4494(0.5574) Grad: 45450.8359  LR: 0.00001027  \n",
      "Epoch: [2][3400/3419] Elapsed 7m 30s (remain 0m 2s) Loss: 0.5042(0.5574) Grad: 28731.3730  LR: 0.00001004  \n",
      "Epoch: [2][3418/3419] Elapsed 7m 32s (remain 0m 0s) Loss: 0.6317(0.5574) Grad: 23564.2520  LR: 0.00001000  \n"
     ]
    },
    {
     "name": "stderr",
     "output_type": "stream",
     "text": [
      "[W pthreadpool-cpp.cc:90] Warning: Leaking Caffe2 thread-pool after fork. (function pthreadpool)\n",
      "[W pthreadpool-cpp.cc:90] Warning: Leaking Caffe2 thread-pool after fork. (function pthreadpool)\n",
      "[W pthreadpool-cpp.cc:90] Warning: Leaking Caffe2 thread-pool after fork. (function pthreadpool)\n",
      "[W pthreadpool-cpp.cc:90] Warning: Leaking Caffe2 thread-pool after fork. (function pthreadpool)\n"
     ]
    },
    {
     "name": "stdout",
     "output_type": "stream",
     "text": [
      "EVAL: [0/1140] Elapsed 0m 0s (remain 3m 9s) Loss: 0.8917(0.8917) \n",
      "EVAL: [100/1140] Elapsed 0m 3s (remain 0m 39s) Loss: 0.6744(0.5664) \n",
      "EVAL: [200/1140] Elapsed 0m 7s (remain 0m 35s) Loss: 0.6828(0.5702) \n",
      "EVAL: [300/1140] Elapsed 0m 11s (remain 0m 31s) Loss: 0.6104(0.5654) \n",
      "EVAL: [400/1140] Elapsed 0m 14s (remain 0m 27s) Loss: 0.5800(0.5688) \n",
      "EVAL: [500/1140] Elapsed 0m 18s (remain 0m 23s) Loss: 0.6626(0.5643) \n",
      "EVAL: [600/1140] Elapsed 0m 22s (remain 0m 20s) Loss: 0.6931(0.5675) \n",
      "EVAL: [700/1140] Elapsed 0m 26s (remain 0m 16s) Loss: 0.5296(0.5675) \n",
      "EVAL: [800/1140] Elapsed 0m 29s (remain 0m 12s) Loss: 0.7080(0.5698) \n",
      "EVAL: [900/1140] Elapsed 0m 33s (remain 0m 8s) Loss: 0.9965(0.5720) \n",
      "EVAL: [1000/1140] Elapsed 0m 37s (remain 0m 5s) Loss: 0.5345(0.5709) \n",
      "EVAL: [1100/1140] Elapsed 0m 40s (remain 0m 1s) Loss: 0.6733(0.5703) \n"
     ]
    },
    {
     "name": "stderr",
     "output_type": "stream",
     "text": [
      "[W pthreadpool-cpp.cc:90] Warning: Leaking Caffe2 thread-pool after fork. (function pthreadpool)\n",
      "Epoch 2 - avg_train_loss: 0.5574  avg_val_loss: 0.5704  time: 495s\n",
      "Epoch 2 - Score: 0.7785\n",
      "Epoch 2 - Save Best Score: 0.7785 Model\n"
     ]
    },
    {
     "name": "stdout",
     "output_type": "stream",
     "text": [
      "EVAL: [1139/1140] Elapsed 0m 42s (remain 0m 0s) Loss: 0.5076(0.5704) \n"
     ]
    },
    {
     "name": "stderr",
     "output_type": "stream",
     "text": [
      "[W pthreadpool-cpp.cc:90] Warning: Leaking Caffe2 thread-pool after fork. (function pthreadpool)\n",
      "[W pthreadpool-cpp.cc:90] Warning: Leaking Caffe2 thread-pool after fork. (function pthreadpool)\n",
      "[W pthreadpool-cpp.cc:90] Warning: Leaking Caffe2 thread-pool after fork. (function pthreadpool)\n",
      "[W pthreadpool-cpp.cc:90] Warning: Leaking Caffe2 thread-pool after fork. (function pthreadpool)\n"
     ]
    },
    {
     "name": "stdout",
     "output_type": "stream",
     "text": [
      "Epoch: [3][0/3419] Elapsed 0m 0s (remain 22m 16s) Loss: 0.5747(0.5747) Grad: 147451.6094  LR: 0.00001000  \n",
      "Epoch: [3][100/3419] Elapsed 0m 13s (remain 7m 26s) Loss: 0.4784(0.5393) Grad: 16795.5938  LR: 0.00000977  \n",
      "Epoch: [3][200/3419] Elapsed 0m 26s (remain 7m 9s) Loss: 0.5866(0.5413) Grad: 149690.4375  LR: 0.00000954  \n",
      "Epoch: [3][300/3419] Elapsed 0m 40s (remain 6m 54s) Loss: 0.5816(0.5369) Grad: 12681.3389  LR: 0.00000931  \n",
      "Epoch: [3][400/3419] Elapsed 0m 53s (remain 6m 40s) Loss: 0.6754(0.5405) Grad: 52958.6836  LR: 0.00000908  \n",
      "Epoch: [3][500/3419] Elapsed 1m 6s (remain 6m 26s) Loss: 0.4977(0.5390) Grad: 31939.2441  LR: 0.00000885  \n",
      "Epoch: [3][600/3419] Elapsed 1m 19s (remain 6m 13s) Loss: 0.5358(0.5387) Grad: 67218.6250  LR: 0.00000863  \n",
      "Epoch: [3][700/3419] Elapsed 1m 32s (remain 6m 0s) Loss: 0.7251(0.5368) Grad: inf  LR: 0.00000840  \n",
      "Epoch: [3][800/3419] Elapsed 1m 46s (remain 5m 46s) Loss: 0.5412(0.5376) Grad: 46105.4258  LR: 0.00000817  \n",
      "Epoch: [3][900/3419] Elapsed 1m 59s (remain 5m 33s) Loss: 0.6788(0.5364) Grad: 249655.5000  LR: 0.00000795  \n",
      "Epoch: [3][1000/3419] Elapsed 2m 12s (remain 5m 19s) Loss: 0.6596(0.5374) Grad: 80447.0391  LR: 0.00000772  \n",
      "Epoch: [3][1100/3419] Elapsed 2m 25s (remain 5m 6s) Loss: 0.6549(0.5378) Grad: 66276.8125  LR: 0.00000750  \n",
      "Epoch: [3][1200/3419] Elapsed 2m 38s (remain 4m 53s) Loss: 0.6383(0.5377) Grad: 85671.0781  LR: 0.00000728  \n",
      "Epoch: [3][1300/3419] Elapsed 2m 52s (remain 4m 40s) Loss: 0.6174(0.5359) Grad: 51606.9141  LR: 0.00000706  \n",
      "Epoch: [3][1400/3419] Elapsed 3m 5s (remain 4m 26s) Loss: 0.6033(0.5358) Grad: 30124.9473  LR: 0.00000684  \n",
      "Epoch: [3][1500/3419] Elapsed 3m 18s (remain 4m 13s) Loss: 0.4143(0.5365) Grad: 48894.0547  LR: 0.00000662  \n",
      "Epoch: [3][1600/3419] Elapsed 3m 31s (remain 4m 0s) Loss: 0.5289(0.5368) Grad: 10619.6191  LR: 0.00000641  \n",
      "Epoch: [3][1700/3419] Elapsed 3m 44s (remain 3m 47s) Loss: 0.5772(0.5368) Grad: 15043.5273  LR: 0.00000619  \n",
      "Epoch: [3][1800/3419] Elapsed 3m 58s (remain 3m 33s) Loss: 0.4134(0.5366) Grad: 45276.7344  LR: 0.00000598  \n",
      "Epoch: [3][1900/3419] Elapsed 4m 11s (remain 3m 20s) Loss: 0.7903(0.5371) Grad: 75782.1250  LR: 0.00000577  \n",
      "Epoch: [3][2000/3419] Elapsed 4m 24s (remain 3m 7s) Loss: 0.4097(0.5370) Grad: 25785.5566  LR: 0.00000556  \n",
      "Epoch: [3][2100/3419] Elapsed 4m 37s (remain 2m 54s) Loss: 0.5910(0.5367) Grad: 81986.4844  LR: 0.00000536  \n",
      "Epoch: [3][2200/3419] Elapsed 4m 51s (remain 2m 41s) Loss: 0.3827(0.5361) Grad: 14670.2891  LR: 0.00000516  \n",
      "Epoch: [3][2300/3419] Elapsed 5m 4s (remain 2m 27s) Loss: 0.5132(0.5359) Grad: 87286.1250  LR: 0.00000496  \n",
      "Epoch: [3][2400/3419] Elapsed 5m 17s (remain 2m 14s) Loss: 0.5619(0.5364) Grad: 17367.6406  LR: 0.00000476  \n",
      "Epoch: [3][2500/3419] Elapsed 5m 30s (remain 2m 1s) Loss: 0.6284(0.5361) Grad: 21163.8672  LR: 0.00000457  \n",
      "Epoch: [3][2600/3419] Elapsed 5m 43s (remain 1m 48s) Loss: 0.5449(0.5361) Grad: 126303.8516  LR: 0.00000438  \n",
      "Epoch: [3][2700/3419] Elapsed 5m 57s (remain 1m 34s) Loss: 0.5695(0.5366) Grad: 37909.1484  LR: 0.00000419  \n",
      "Epoch: [3][2800/3419] Elapsed 6m 10s (remain 1m 21s) Loss: 0.4800(0.5371) Grad: 42478.2656  LR: 0.00000400  \n",
      "Epoch: [3][2900/3419] Elapsed 6m 23s (remain 1m 8s) Loss: 0.6843(0.5369) Grad: 40397.3125  LR: 0.00000382  \n",
      "Epoch: [3][3000/3419] Elapsed 6m 36s (remain 0m 55s) Loss: 0.4516(0.5371) Grad: 17015.8926  LR: 0.00000364  \n",
      "Epoch: [3][3100/3419] Elapsed 6m 49s (remain 0m 42s) Loss: 0.6566(0.5366) Grad: 26329.1055  LR: 0.00000347  \n",
      "Epoch: [3][3200/3419] Elapsed 7m 3s (remain 0m 28s) Loss: 0.3509(0.5365) Grad: 11956.1074  LR: 0.00000329  \n",
      "Epoch: [3][3300/3419] Elapsed 7m 16s (remain 0m 15s) Loss: 0.5767(0.5366) Grad: 10241.3184  LR: 0.00000312  \n",
      "Epoch: [3][3400/3419] Elapsed 7m 29s (remain 0m 2s) Loss: 0.6158(0.5363) Grad: 111398.5469  LR: 0.00000296  \n",
      "Epoch: [3][3418/3419] Elapsed 7m 31s (remain 0m 0s) Loss: 0.5437(0.5363) Grad: 70554.4062  LR: 0.00000293  \n"
     ]
    },
    {
     "name": "stderr",
     "output_type": "stream",
     "text": [
      "[W pthreadpool-cpp.cc:90] Warning: Leaking Caffe2 thread-pool after fork. (function pthreadpool)\n",
      "[W pthreadpool-cpp.cc:90] Warning: Leaking Caffe2 thread-pool after fork. (function pthreadpool)\n",
      "[W pthreadpool-cpp.cc:90] Warning: Leaking Caffe2 thread-pool after fork. (function pthreadpool)\n",
      "[W pthreadpool-cpp.cc:90] Warning: Leaking Caffe2 thread-pool after fork. (function pthreadpool)\n"
     ]
    },
    {
     "name": "stdout",
     "output_type": "stream",
     "text": [
      "EVAL: [0/1140] Elapsed 0m 0s (remain 3m 14s) Loss: 0.8688(0.8688) \n",
      "EVAL: [100/1140] Elapsed 0m 3s (remain 0m 39s) Loss: 0.6973(0.5622) \n",
      "EVAL: [200/1140] Elapsed 0m 7s (remain 0m 35s) Loss: 0.6796(0.5674) \n",
      "EVAL: [300/1140] Elapsed 0m 11s (remain 0m 31s) Loss: 0.6730(0.5621) \n",
      "EVAL: [400/1140] Elapsed 0m 14s (remain 0m 27s) Loss: 0.5886(0.5666) \n",
      "EVAL: [500/1140] Elapsed 0m 18s (remain 0m 23s) Loss: 0.7023(0.5650) \n",
      "EVAL: [600/1140] Elapsed 0m 22s (remain 0m 20s) Loss: 0.6908(0.5672) \n",
      "EVAL: [700/1140] Elapsed 0m 26s (remain 0m 16s) Loss: 0.5247(0.5680) \n",
      "EVAL: [800/1140] Elapsed 0m 29s (remain 0m 12s) Loss: 0.6325(0.5699) \n",
      "EVAL: [900/1140] Elapsed 0m 33s (remain 0m 8s) Loss: 1.0823(0.5721) \n",
      "EVAL: [1000/1140] Elapsed 0m 37s (remain 0m 5s) Loss: 0.6238(0.5711) \n",
      "EVAL: [1100/1140] Elapsed 0m 40s (remain 0m 1s) Loss: 0.6589(0.5714) \n"
     ]
    },
    {
     "name": "stderr",
     "output_type": "stream",
     "text": [
      "Epoch 3 - avg_train_loss: 0.5363  avg_val_loss: 0.5721  time: 494s\n",
      "Epoch 3 - Score: 0.7907\n",
      "Epoch 3 - Save Best Score: 0.7907 Model\n"
     ]
    },
    {
     "name": "stdout",
     "output_type": "stream",
     "text": [
      "EVAL: [1139/1140] Elapsed 0m 42s (remain 0m 0s) Loss: 0.5036(0.5721) \n"
     ]
    },
    {
     "name": "stderr",
     "output_type": "stream",
     "text": [
      "[W pthreadpool-cpp.cc:90] Warning: Leaking Caffe2 thread-pool after fork. (function pthreadpool)\n",
      "[W pthreadpool-cpp.cc:90] Warning: Leaking Caffe2 thread-pool after fork. (function pthreadpool)\n",
      "[W pthreadpool-cpp.cc:90] Warning: Leaking Caffe2 thread-pool after fork. (function pthreadpool)\n",
      "[W pthreadpool-cpp.cc:90] Warning: Leaking Caffe2 thread-pool after fork. (function pthreadpool)\n"
     ]
    },
    {
     "name": "stdout",
     "output_type": "stream",
     "text": [
      "Epoch: [4][0/3419] Elapsed 0m 0s (remain 28m 49s) Loss: 0.4706(0.4706) Grad: 92204.9531  LR: 0.00000293  \n",
      "Epoch: [4][100/3419] Elapsed 0m 13s (remain 7m 26s) Loss: 0.5734(0.5296) Grad: 32471.5410  LR: 0.00000277  \n",
      "Epoch: [4][200/3419] Elapsed 0m 26s (remain 7m 8s) Loss: 0.6703(0.5227) Grad: 142544.3125  LR: 0.00000261  \n",
      "Epoch: [4][300/3419] Elapsed 0m 39s (remain 6m 53s) Loss: 0.5187(0.5256) Grad: 21695.9805  LR: 0.00000246  \n",
      "Epoch: [4][400/3419] Elapsed 0m 53s (remain 6m 39s) Loss: 0.4232(0.5227) Grad: 19255.2637  LR: 0.00000231  \n",
      "Epoch: [4][500/3419] Elapsed 1m 6s (remain 6m 26s) Loss: 0.6189(0.5233) Grad: 35286.3125  LR: 0.00000216  \n",
      "Epoch: [4][600/3419] Elapsed 1m 19s (remain 6m 12s) Loss: 0.5721(0.5238) Grad: 28497.6543  LR: 0.00000202  \n",
      "Epoch: [4][700/3419] Elapsed 1m 32s (remain 5m 59s) Loss: 0.5351(0.5238) Grad: 19558.4609  LR: 0.00000189  \n",
      "Epoch: [4][800/3419] Elapsed 1m 45s (remain 5m 46s) Loss: 0.6153(0.5262) Grad: 39539.0508  LR: 0.00000176  \n",
      "Epoch: [4][900/3419] Elapsed 1m 59s (remain 5m 32s) Loss: 0.5353(0.5253) Grad: 16638.9883  LR: 0.00000163  \n",
      "Epoch: [4][1000/3419] Elapsed 2m 12s (remain 5m 19s) Loss: 0.4163(0.5265) Grad: 15103.5508  LR: 0.00000150  \n",
      "Epoch: [4][1100/3419] Elapsed 2m 25s (remain 5m 6s) Loss: 0.5007(0.5267) Grad: 11767.8525  LR: 0.00000139  \n",
      "Epoch: [4][1200/3419] Elapsed 2m 38s (remain 4m 53s) Loss: 0.6889(0.5254) Grad: 444351.0312  LR: 0.00000127  \n",
      "Epoch: [4][1300/3419] Elapsed 2m 51s (remain 4m 40s) Loss: 0.5232(0.5249) Grad: 21530.2207  LR: 0.00000116  \n",
      "Epoch: [4][1400/3419] Elapsed 3m 5s (remain 4m 26s) Loss: 0.5310(0.5236) Grad: 8522.6387  LR: 0.00000106  \n",
      "Epoch: [4][1500/3419] Elapsed 3m 18s (remain 4m 13s) Loss: 0.5865(0.5236) Grad: 34317.5234  LR: 0.00000096  \n",
      "Epoch: [4][1600/3419] Elapsed 3m 31s (remain 4m 0s) Loss: 0.4810(0.5238) Grad: 26020.8008  LR: 0.00000086  \n",
      "Epoch: [4][1700/3419] Elapsed 3m 44s (remain 3m 47s) Loss: 0.6317(0.5242) Grad: 12133.7725  LR: 0.00000077  \n",
      "Epoch: [4][1800/3419] Elapsed 3m 58s (remain 3m 33s) Loss: 0.5814(0.5249) Grad: 6964.9609  LR: 0.00000068  \n",
      "Epoch: [4][1900/3419] Elapsed 4m 11s (remain 3m 20s) Loss: 0.2392(0.5243) Grad: 32569.4395  LR: 0.00000060  \n",
      "Epoch: [4][2000/3419] Elapsed 4m 24s (remain 3m 7s) Loss: 0.5856(0.5245) Grad: 11160.9951  LR: 0.00000053  \n",
      "Epoch: [4][2100/3419] Elapsed 4m 37s (remain 2m 54s) Loss: 0.4501(0.5245) Grad: 17723.0098  LR: 0.00000046  \n",
      "Epoch: [4][2200/3419] Elapsed 4m 50s (remain 2m 40s) Loss: 0.4768(0.5248) Grad: 14733.3945  LR: 0.00000039  \n",
      "Epoch: [4][2300/3419] Elapsed 5m 4s (remain 2m 27s) Loss: 0.5629(0.5251) Grad: 49244.0039  LR: 0.00000033  \n",
      "Epoch: [4][2400/3419] Elapsed 5m 17s (remain 2m 14s) Loss: 0.4223(0.5246) Grad: 234987.8281  LR: 0.00000027  \n",
      "Epoch: [4][2500/3419] Elapsed 5m 30s (remain 2m 1s) Loss: 0.4732(0.5246) Grad: 59015.1719  LR: 0.00000022  \n",
      "Epoch: [4][2600/3419] Elapsed 5m 43s (remain 1m 48s) Loss: 0.5157(0.5243) Grad: 199992.7188  LR: 0.00000018  \n",
      "Epoch: [4][2700/3419] Elapsed 5m 56s (remain 1m 34s) Loss: 0.3951(0.5244) Grad: 38307.7500  LR: 0.00000014  \n",
      "Epoch: [4][2800/3419] Elapsed 6m 10s (remain 1m 21s) Loss: 0.5098(0.5243) Grad: 36437.3320  LR: 0.00000010  \n",
      "Epoch: [4][2900/3419] Elapsed 6m 23s (remain 1m 8s) Loss: 0.4047(0.5246) Grad: 96526.7656  LR: 0.00000007  \n",
      "Epoch: [4][3000/3419] Elapsed 6m 36s (remain 0m 55s) Loss: 0.4990(0.5246) Grad: 7789.4478  LR: 0.00000005  \n",
      "Epoch: [4][3100/3419] Elapsed 6m 49s (remain 0m 42s) Loss: 0.4595(0.5249) Grad: 25115.3906  LR: 0.00000003  \n",
      "Epoch: [4][3200/3419] Elapsed 7m 3s (remain 0m 28s) Loss: 0.5616(0.5250) Grad: 26036.8906  LR: 0.00000001  \n",
      "Epoch: [4][3300/3419] Elapsed 7m 16s (remain 0m 15s) Loss: 0.2449(0.5249) Grad: 31625.6055  LR: 0.00000000  \n",
      "Epoch: [4][3400/3419] Elapsed 7m 29s (remain 0m 2s) Loss: 0.7342(0.5252) Grad: 67853.5859  LR: 0.00000000  \n",
      "Epoch: [4][3418/3419] Elapsed 7m 31s (remain 0m 0s) Loss: 0.6468(0.5252) Grad: 10847.6729  LR: 0.00000000  \n"
     ]
    },
    {
     "name": "stderr",
     "output_type": "stream",
     "text": [
      "[W pthreadpool-cpp.cc:90] Warning: Leaking Caffe2 thread-pool after fork. (function pthreadpool)\n",
      "[W pthreadpool-cpp.cc:90] Warning: Leaking Caffe2 thread-pool after fork. (function pthreadpool)\n",
      "[W pthreadpool-cpp.cc:90] Warning: Leaking Caffe2 thread-pool after fork. (function pthreadpool)\n",
      "[W pthreadpool-cpp.cc:90] Warning: Leaking Caffe2 thread-pool after fork. (function pthreadpool)\n"
     ]
    },
    {
     "name": "stdout",
     "output_type": "stream",
     "text": [
      "EVAL: [0/1140] Elapsed 0m 0s (remain 3m 13s) Loss: 0.8811(0.8811) \n",
      "EVAL: [100/1140] Elapsed 0m 3s (remain 0m 39s) Loss: 0.6921(0.5613) \n",
      "EVAL: [200/1140] Elapsed 0m 7s (remain 0m 35s) Loss: 0.6810(0.5675) \n",
      "EVAL: [300/1140] Elapsed 0m 11s (remain 0m 31s) Loss: 0.6924(0.5617) \n",
      "EVAL: [400/1140] Elapsed 0m 14s (remain 0m 27s) Loss: 0.5853(0.5656) \n",
      "EVAL: [500/1140] Elapsed 0m 18s (remain 0m 23s) Loss: 0.6854(0.5631) \n",
      "EVAL: [600/1140] Elapsed 0m 22s (remain 0m 20s) Loss: 0.6855(0.5657) \n",
      "EVAL: [700/1140] Elapsed 0m 26s (remain 0m 16s) Loss: 0.5153(0.5662) \n",
      "EVAL: [800/1140] Elapsed 0m 29s (remain 0m 12s) Loss: 0.6293(0.5682) \n",
      "EVAL: [900/1140] Elapsed 0m 33s (remain 0m 8s) Loss: 1.1983(0.5699) \n",
      "EVAL: [1000/1140] Elapsed 0m 37s (remain 0m 5s) Loss: 0.6309(0.5688) \n",
      "EVAL: [1100/1140] Elapsed 0m 40s (remain 0m 1s) Loss: 0.6599(0.5691) \n"
     ]
    },
    {
     "name": "stderr",
     "output_type": "stream",
     "text": [
      "Epoch 4 - avg_train_loss: 0.5252  avg_val_loss: 0.5695  time: 494s\n",
      "Epoch 4 - Score: 0.7951\n",
      "Epoch 4 - Save Best Score: 0.7951 Model\n"
     ]
    },
    {
     "name": "stdout",
     "output_type": "stream",
     "text": [
      "EVAL: [1139/1140] Elapsed 0m 42s (remain 0m 0s) Loss: 0.4937(0.5695) \n"
     ]
    },
    {
     "name": "stderr",
     "output_type": "stream",
     "text": [
      "========== fold: 3 result ==========\n",
      "Score: 0.7951\n",
      "========== CV ==========\n",
      "Score: 0.7990\n"
     ]
    }
   ],
   "source": [
    "if __name__ == '__main__':\n",
    "    \n",
    "    def get_result(oof_df):\n",
    "        labels = oof_df['score'].values\n",
    "        preds = oof_df['pred'].values\n",
    "        score = get_score(labels, preds)\n",
    "        LOGGER.info(f'Score: {score:<.4f}')\n",
    "    \n",
    "    if CFG.train:\n",
    "        oof_df = pd.DataFrame()\n",
    "        for fold in range(CFG.n_fold):\n",
    "            # if fold in [0,1,2]:\n",
    "                #continue\n",
    "               # print（f”￥０r３３［３８；５；４０m＝＝＝＝＝＝＝＝＝＝ this fold is pass ￥ontinue\n",
    "            LOGGER.info(f\"========== fold: {fold} training ==========\")\n",
    "            print(f\"\\033[38;5;40m========== fold: {fold} training ==========\\033[0m\");\n",
    "            if fold in CFG.trn_fold:\n",
    "                # ====================================================\n",
    "                # loader\n",
    "                # ====================================================\n",
    "                folds = train\n",
    "                train_folds = folds[folds['fold'] != fold].reset_index(drop=True)\n",
    "                valid_folds = folds[folds['fold'] == fold].reset_index(drop=True)\n",
    "                valid_labels = valid_folds['score'].values\n",
    "\n",
    "                train_dataset = TrainDataset(CFG, train_folds)\n",
    "                valid_dataset = TrainDataset(CFG, valid_folds)\n",
    "\n",
    "                train_loader = DataLoader(train_dataset,\n",
    "                                          batch_size=CFG.batch_size,\n",
    "                                          shuffle=True,\n",
    "                                          num_workers=CFG.num_workers, pin_memory=True, drop_last=True)\n",
    "                valid_loader = DataLoader(valid_dataset,\n",
    "                                          batch_size=CFG.batch_size,\n",
    "                                          shuffle=False,\n",
    "                                          num_workers=CFG.num_workers, pin_memory=True, drop_last=False)\n",
    "\n",
    "#                 _oof_df = train_loop(train, fold)\n",
    "                _oof_df = train_loop(train_loader, valid_loader)\n",
    "                oof_df = pd.concat([oof_df, _oof_df])\n",
    "                LOGGER.info(f\"========== fold: {fold} result ==========\")\n",
    "                get_result(_oof_df)\n",
    "        oof_df = oof_df.reset_index(drop=True)\n",
    "        LOGGER.info(f\"========== CV ==========\")\n",
    "        get_result(oof_df)\n",
    "        oof_df.to_pickle(OUTPUT_DIR+'oof_df.pkl')\n",
    "        \n",
    "    if CFG.wandb:\n",
    "        wandb.finish()"
   ]
  },
  {
   "cell_type": "code",
   "execution_count": 28,
   "id": "6b65b21c",
   "metadata": {},
   "outputs": [
    {
     "name": "stdout",
     "output_type": "stream",
     "text": [
      "9917.542499542236 hour\n"
     ]
    }
   ],
   "source": [
    "print(f'{time.time()-start} hour')"
   ]
  },
  {
   "cell_type": "code",
   "execution_count": 29,
   "id": "5c638e57",
   "metadata": {},
   "outputs": [],
   "source": [
    "!touch trained_list/roberta-base.txt"
   ]
  },
  {
   "cell_type": "code",
   "execution_count": 30,
   "id": "9343b101-0c9b-456d-b0c8-cc5e8b8b1317",
   "metadata": {},
   "outputs": [],
   "source": [
    "#roberta のふぉｌｄ１は雑魚"
   ]
  },
  {
   "cell_type": "code",
   "execution_count": 31,
   "id": "10743e3c-5bff-46c5-8e9d-0f4b3f051a79",
   "metadata": {},
   "outputs": [
    {
     "name": "stderr",
     "output_type": "stream",
     "text": [
      "max_len: 175\n"
     ]
    }
   ],
   "source": [
    "LOGGER.info(f\"max_len: {CFG.max_len}\")"
   ]
  },
  {
   "cell_type": "code",
   "execution_count": null,
   "id": "5ffc0430-37d5-4e3c-937c-a24c6c5c96dc",
   "metadata": {},
   "outputs": [],
   "source": []
  },
  {
   "cell_type": "code",
   "execution_count": null,
   "id": "2e30d85c-df17-4211-ab0f-3886dd942276",
   "metadata": {},
   "outputs": [],
   "source": []
  },
  {
   "cell_type": "code",
   "execution_count": null,
   "id": "060989e4-10a2-4eeb-b39e-1451aab2e77c",
   "metadata": {},
   "outputs": [],
   "source": []
  },
  {
   "cell_type": "code",
   "execution_count": null,
   "id": "2f2cb436-b039-4232-9e65-cbf3b509e79b",
   "metadata": {},
   "outputs": [],
   "source": []
  },
  {
   "cell_type": "code",
   "execution_count": null,
   "id": "cd2afeb9-6924-47cc-a138-3af2a28fe70b",
   "metadata": {},
   "outputs": [],
   "source": []
  }
 ],
 "metadata": {
  "kernelspec": {
   "display_name": "Python 3 (ipykernel)",
   "language": "python",
   "name": "python3"
  },
  "language_info": {
   "codemirror_mode": {
    "name": "ipython",
    "version": 3
   },
   "file_extension": ".py",
   "mimetype": "text/x-python",
   "name": "python",
   "nbconvert_exporter": "python",
   "pygments_lexer": "ipython3",
   "version": "3.7.12"
  },
  "papermill": {
   "default_parameters": {},
   "duration": 30329.017674,
   "end_time": "2022-03-22T18:05:22.040486",
   "environment_variables": {},
   "exception": null,
   "input_path": "__notebook__.ipynb",
   "output_path": "__notebook__.ipynb",
   "parameters": {},
   "start_time": "2022-03-22T09:39:53.022812",
   "version": "2.3.3"
  },
  "widgets": {
   "application/vnd.jupyter.widget-state+json": {
    "state": {
     "126a1e5f24e44838a03204815209c5dc": {
      "model_module": "@jupyter-widgets/controls",
      "model_module_version": "1.5.0",
      "model_name": "ProgressStyleModel",
      "state": {
       "_model_module": "@jupyter-widgets/controls",
       "_model_module_version": "1.5.0",
       "_model_name": "ProgressStyleModel",
       "_view_count": null,
       "_view_module": "@jupyter-widgets/base",
       "_view_module_version": "1.2.0",
       "_view_name": "StyleView",
       "bar_color": null,
       "description_width": ""
      }
     },
     "12d0d3a78caf4f8c93da02229f2185df": {
      "model_module": "@jupyter-widgets/base",
      "model_module_version": "1.2.0",
      "model_name": "LayoutModel",
      "state": {
       "_model_module": "@jupyter-widgets/base",
       "_model_module_version": "1.2.0",
       "_model_name": "LayoutModel",
       "_view_count": null,
       "_view_module": "@jupyter-widgets/base",
       "_view_module_version": "1.2.0",
       "_view_name": "LayoutView",
       "align_content": null,
       "align_items": null,
       "align_self": null,
       "border": null,
       "bottom": null,
       "display": null,
       "flex": null,
       "flex_flow": null,
       "grid_area": null,
       "grid_auto_columns": null,
       "grid_auto_flow": null,
       "grid_auto_rows": null,
       "grid_column": null,
       "grid_gap": null,
       "grid_row": null,
       "grid_template_areas": null,
       "grid_template_columns": null,
       "grid_template_rows": null,
       "height": null,
       "justify_content": null,
       "justify_items": null,
       "left": null,
       "margin": null,
       "max_height": null,
       "max_width": null,
       "min_height": null,
       "min_width": null,
       "object_fit": null,
       "object_position": null,
       "order": null,
       "overflow": null,
       "overflow_x": null,
       "overflow_y": null,
       "padding": null,
       "right": null,
       "top": null,
       "visibility": null,
       "width": null
      }
     },
     "14972cafd36646939e742a987e1d0ec7": {
      "model_module": "@jupyter-widgets/base",
      "model_module_version": "1.2.0",
      "model_name": "LayoutModel",
      "state": {
       "_model_module": "@jupyter-widgets/base",
       "_model_module_version": "1.2.0",
       "_model_name": "LayoutModel",
       "_view_count": null,
       "_view_module": "@jupyter-widgets/base",
       "_view_module_version": "1.2.0",
       "_view_name": "LayoutView",
       "align_content": null,
       "align_items": null,
       "align_self": null,
       "border": null,
       "bottom": null,
       "display": null,
       "flex": null,
       "flex_flow": null,
       "grid_area": null,
       "grid_auto_columns": null,
       "grid_auto_flow": null,
       "grid_auto_rows": null,
       "grid_column": null,
       "grid_gap": null,
       "grid_row": null,
       "grid_template_areas": null,
       "grid_template_columns": null,
       "grid_template_rows": null,
       "height": null,
       "justify_content": null,
       "justify_items": null,
       "left": null,
       "margin": null,
       "max_height": null,
       "max_width": null,
       "min_height": null,
       "min_width": null,
       "object_fit": null,
       "object_position": null,
       "order": null,
       "overflow": null,
       "overflow_x": null,
       "overflow_y": null,
       "padding": null,
       "right": null,
       "top": null,
       "visibility": null,
       "width": null
      }
     },
     "181ebde2d0064fb99b8ec32e9dc76836": {
      "model_module": "@jupyter-widgets/controls",
      "model_module_version": "1.5.0",
      "model_name": "HTMLModel",
      "state": {
       "_dom_classes": [],
       "_model_module": "@jupyter-widgets/controls",
       "_model_module_version": "1.5.0",
       "_model_name": "HTMLModel",
       "_view_count": null,
       "_view_module": "@jupyter-widgets/controls",
       "_view_module_version": "1.5.0",
       "_view_name": "HTMLView",
       "description": "",
       "description_tooltip": null,
       "layout": "IPY_MODEL_c1e8e53062324cf38fbd75eab01e066a",
       "placeholder": "​",
       "style": "IPY_MODEL_3feaf01a7f7b43ed923effab61b93ac4",
       "value": " 36473/36473 [00:03&lt;00:00, 12012.58it/s]"
      }
     },
     "1c5d07635bff4f7999e3e8486f648aaf": {
      "model_module": "@jupyter-widgets/controls",
      "model_module_version": "1.5.0",
      "model_name": "FloatProgressModel",
      "state": {
       "_dom_classes": [],
       "_model_module": "@jupyter-widgets/controls",
       "_model_module_version": "1.5.0",
       "_model_name": "FloatProgressModel",
       "_view_count": null,
       "_view_module": "@jupyter-widgets/controls",
       "_view_module_version": "1.5.0",
       "_view_name": "ProgressView",
       "bar_style": "success",
       "description": "",
       "description_tooltip": null,
       "layout": "IPY_MODEL_87214ce12c1f422481a0fe3caf5a3ce8",
       "max": 2464616,
       "min": 0,
       "orientation": "horizontal",
       "style": "IPY_MODEL_d9f0d96d140a4115aadfdfc9ce5ba608",
       "value": 2464616
      }
     },
     "1d83ae8940534922833de4d1fdd71216": {
      "model_module": "@jupyter-widgets/base",
      "model_module_version": "1.2.0",
      "model_name": "LayoutModel",
      "state": {
       "_model_module": "@jupyter-widgets/base",
       "_model_module_version": "1.2.0",
       "_model_name": "LayoutModel",
       "_view_count": null,
       "_view_module": "@jupyter-widgets/base",
       "_view_module_version": "1.2.0",
       "_view_name": "LayoutView",
       "align_content": null,
       "align_items": null,
       "align_self": null,
       "border": null,
       "bottom": null,
       "display": null,
       "flex": null,
       "flex_flow": null,
       "grid_area": null,
       "grid_auto_columns": null,
       "grid_auto_flow": null,
       "grid_auto_rows": null,
       "grid_column": null,
       "grid_gap": null,
       "grid_row": null,
       "grid_template_areas": null,
       "grid_template_columns": null,
       "grid_template_rows": null,
       "height": null,
       "justify_content": null,
       "justify_items": null,
       "left": null,
       "margin": null,
       "max_height": null,
       "max_width": null,
       "min_height": null,
       "min_width": null,
       "object_fit": null,
       "object_position": null,
       "order": null,
       "overflow": null,
       "overflow_x": null,
       "overflow_y": null,
       "padding": null,
       "right": null,
       "top": null,
       "visibility": null,
       "width": null
      }
     },
     "2373dbe30aca4d64b94b5bb64216151e": {
      "model_module": "@jupyter-widgets/base",
      "model_module_version": "1.2.0",
      "model_name": "LayoutModel",
      "state": {
       "_model_module": "@jupyter-widgets/base",
       "_model_module_version": "1.2.0",
       "_model_name": "LayoutModel",
       "_view_count": null,
       "_view_module": "@jupyter-widgets/base",
       "_view_module_version": "1.2.0",
       "_view_name": "LayoutView",
       "align_content": null,
       "align_items": null,
       "align_self": null,
       "border": null,
       "bottom": null,
       "display": null,
       "flex": null,
       "flex_flow": null,
       "grid_area": null,
       "grid_auto_columns": null,
       "grid_auto_flow": null,
       "grid_auto_rows": null,
       "grid_column": null,
       "grid_gap": null,
       "grid_row": null,
       "grid_template_areas": null,
       "grid_template_columns": null,
       "grid_template_rows": null,
       "height": null,
       "justify_content": null,
       "justify_items": null,
       "left": null,
       "margin": null,
       "max_height": null,
       "max_width": null,
       "min_height": null,
       "min_width": null,
       "object_fit": null,
       "object_position": null,
       "order": null,
       "overflow": null,
       "overflow_x": null,
       "overflow_y": null,
       "padding": null,
       "right": null,
       "top": null,
       "visibility": null,
       "width": null
      }
     },
     "251e902150c543d2a2212b4250931617": {
      "model_module": "@jupyter-widgets/controls",
      "model_module_version": "1.5.0",
      "model_name": "HBoxModel",
      "state": {
       "_dom_classes": [],
       "_model_module": "@jupyter-widgets/controls",
       "_model_module_version": "1.5.0",
       "_model_name": "HBoxModel",
       "_view_count": null,
       "_view_module": "@jupyter-widgets/controls",
       "_view_module_version": "1.5.0",
       "_view_name": "HBoxView",
       "box_style": "",
       "children": [
        "IPY_MODEL_7d211c0746b64a0b935fa964ad7bd858",
        "IPY_MODEL_432a848a161c4a0888dad1ac9c5408c3",
        "IPY_MODEL_181ebde2d0064fb99b8ec32e9dc76836"
       ],
       "layout": "IPY_MODEL_5d82f1a2cf554609ba65dfb95dc152e5"
      }
     },
     "2866d577bb3049b283da7c969f175d91": {
      "model_module": "@jupyter-widgets/controls",
      "model_module_version": "1.5.0",
      "model_name": "HBoxModel",
      "state": {
       "_dom_classes": [],
       "_model_module": "@jupyter-widgets/controls",
       "_model_module_version": "1.5.0",
       "_model_name": "HBoxModel",
       "_view_count": null,
       "_view_module": "@jupyter-widgets/controls",
       "_view_module_version": "1.5.0",
       "_view_name": "HBoxView",
       "box_style": "",
       "children": [
        "IPY_MODEL_673fb48e7dca47f4a3754d06af7dcf1f",
        "IPY_MODEL_bba517b096dd460cb764ccd71b57f148",
        "IPY_MODEL_362ef79e65894ea9aaae390562257f58"
       ],
       "layout": "IPY_MODEL_9d403276e05f4c368e46f353070b9d9a"
      }
     },
     "291ab6d32ec345ee8adaa6f354bfcfb4": {
      "model_module": "@jupyter-widgets/controls",
      "model_module_version": "1.5.0",
      "model_name": "HTMLModel",
      "state": {
       "_dom_classes": [],
       "_model_module": "@jupyter-widgets/controls",
       "_model_module_version": "1.5.0",
       "_model_name": "HTMLModel",
       "_view_count": null,
       "_view_module": "@jupyter-widgets/controls",
       "_view_module_version": "1.5.0",
       "_view_name": "HTMLView",
       "description": "",
       "description_tooltip": null,
       "layout": "IPY_MODEL_12d0d3a78caf4f8c93da02229f2185df",
       "placeholder": "​",
       "style": "IPY_MODEL_de3e60ed24f04a7ab49a05b98b7cf0f0",
       "value": " 36473/36473 [00:03&lt;00:00, 7261.90it/s]"
      }
     },
     "341389680b6a43d8b6b3de95dffca671": {
      "model_module": "@jupyter-widgets/base",
      "model_module_version": "1.2.0",
      "model_name": "LayoutModel",
      "state": {
       "_model_module": "@jupyter-widgets/base",
       "_model_module_version": "1.2.0",
       "_model_name": "LayoutModel",
       "_view_count": null,
       "_view_module": "@jupyter-widgets/base",
       "_view_module_version": "1.2.0",
       "_view_name": "LayoutView",
       "align_content": null,
       "align_items": null,
       "align_self": null,
       "border": null,
       "bottom": null,
       "display": null,
       "flex": null,
       "flex_flow": null,
       "grid_area": null,
       "grid_auto_columns": null,
       "grid_auto_flow": null,
       "grid_auto_rows": null,
       "grid_column": null,
       "grid_gap": null,
       "grid_row": null,
       "grid_template_areas": null,
       "grid_template_columns": null,
       "grid_template_rows": null,
       "height": null,
       "justify_content": null,
       "justify_items": null,
       "left": null,
       "margin": null,
       "max_height": null,
       "max_width": null,
       "min_height": null,
       "min_width": null,
       "object_fit": null,
       "object_position": null,
       "order": null,
       "overflow": null,
       "overflow_x": null,
       "overflow_y": null,
       "padding": null,
       "right": null,
       "top": null,
       "visibility": null,
       "width": null
      }
     },
     "349e43c8d4114c36823434cef63fc567": {
      "model_module": "@jupyter-widgets/controls",
      "model_module_version": "1.5.0",
      "model_name": "ProgressStyleModel",
      "state": {
       "_model_module": "@jupyter-widgets/controls",
       "_model_module_version": "1.5.0",
       "_model_name": "ProgressStyleModel",
       "_view_count": null,
       "_view_module": "@jupyter-widgets/base",
       "_view_module_version": "1.2.0",
       "_view_name": "StyleView",
       "bar_color": null,
       "description_width": ""
      }
     },
     "35cb92ba1b2d4932bc3a0b0640f71b0c": {
      "model_module": "@jupyter-widgets/controls",
      "model_module_version": "1.5.0",
      "model_name": "DescriptionStyleModel",
      "state": {
       "_model_module": "@jupyter-widgets/controls",
       "_model_module_version": "1.5.0",
       "_model_name": "DescriptionStyleModel",
       "_view_count": null,
       "_view_module": "@jupyter-widgets/base",
       "_view_module_version": "1.2.0",
       "_view_name": "StyleView",
       "description_width": ""
      }
     },
     "360314d0f3254b66818b8a62223c2b0b": {
      "model_module": "@jupyter-widgets/base",
      "model_module_version": "1.2.0",
      "model_name": "LayoutModel",
      "state": {
       "_model_module": "@jupyter-widgets/base",
       "_model_module_version": "1.2.0",
       "_model_name": "LayoutModel",
       "_view_count": null,
       "_view_module": "@jupyter-widgets/base",
       "_view_module_version": "1.2.0",
       "_view_name": "LayoutView",
       "align_content": null,
       "align_items": null,
       "align_self": null,
       "border": null,
       "bottom": null,
       "display": null,
       "flex": null,
       "flex_flow": null,
       "grid_area": null,
       "grid_auto_columns": null,
       "grid_auto_flow": null,
       "grid_auto_rows": null,
       "grid_column": null,
       "grid_gap": null,
       "grid_row": null,
       "grid_template_areas": null,
       "grid_template_columns": null,
       "grid_template_rows": null,
       "height": null,
       "justify_content": null,
       "justify_items": null,
       "left": null,
       "margin": null,
       "max_height": null,
       "max_width": null,
       "min_height": null,
       "min_width": null,
       "object_fit": null,
       "object_position": null,
       "order": null,
       "overflow": null,
       "overflow_x": null,
       "overflow_y": null,
       "padding": null,
       "right": null,
       "top": null,
       "visibility": null,
       "width": null
      }
     },
     "362ef79e65894ea9aaae390562257f58": {
      "model_module": "@jupyter-widgets/controls",
      "model_module_version": "1.5.0",
      "model_name": "HTMLModel",
      "state": {
       "_dom_classes": [],
       "_model_module": "@jupyter-widgets/controls",
       "_model_module_version": "1.5.0",
       "_model_name": "HTMLModel",
       "_view_count": null,
       "_view_module": "@jupyter-widgets/controls",
       "_view_module_version": "1.5.0",
       "_view_name": "HTMLView",
       "description": "",
       "description_tooltip": null,
       "layout": "IPY_MODEL_4e94a902a0d44b1eacfaeee99cd470d2",
       "placeholder": "​",
       "style": "IPY_MODEL_ad6386dafce545c48eac271bb2a3c0dd",
       "value": " 136/136 [00:00&lt;00:00, 2149.45it/s]"
      }
     },
     "39512e7ede884ec1b6fe92f794e1d74d": {
      "model_module": "@jupyter-widgets/base",
      "model_module_version": "1.2.0",
      "model_name": "LayoutModel",
      "state": {
       "_model_module": "@jupyter-widgets/base",
       "_model_module_version": "1.2.0",
       "_model_name": "LayoutModel",
       "_view_count": null,
       "_view_module": "@jupyter-widgets/base",
       "_view_module_version": "1.2.0",
       "_view_name": "LayoutView",
       "align_content": null,
       "align_items": null,
       "align_self": null,
       "border": null,
       "bottom": null,
       "display": null,
       "flex": null,
       "flex_flow": null,
       "grid_area": null,
       "grid_auto_columns": null,
       "grid_auto_flow": null,
       "grid_auto_rows": null,
       "grid_column": null,
       "grid_gap": null,
       "grid_row": null,
       "grid_template_areas": null,
       "grid_template_columns": null,
       "grid_template_rows": null,
       "height": null,
       "justify_content": null,
       "justify_items": null,
       "left": null,
       "margin": null,
       "max_height": null,
       "max_width": null,
       "min_height": null,
       "min_width": null,
       "object_fit": null,
       "object_position": null,
       "order": null,
       "overflow": null,
       "overflow_x": null,
       "overflow_y": null,
       "padding": null,
       "right": null,
       "top": null,
       "visibility": null,
       "width": null
      }
     },
     "3b0ebe22bd154b01bcb4d6b2ab2dec83": {
      "model_module": "@jupyter-widgets/controls",
      "model_module_version": "1.5.0",
      "model_name": "HTMLModel",
      "state": {
       "_dom_classes": [],
       "_model_module": "@jupyter-widgets/controls",
       "_model_module_version": "1.5.0",
       "_model_name": "HTMLModel",
       "_view_count": null,
       "_view_module": "@jupyter-widgets/controls",
       "_view_module_version": "1.5.0",
       "_view_name": "HTMLView",
       "description": "",
       "description_tooltip": null,
       "layout": "IPY_MODEL_ad4745f1eca942009bdf6cf12913f34a",
       "placeholder": "​",
       "style": "IPY_MODEL_d3b6e4a4aac943b79ba51bbacd77907e",
       "value": " 2.35M/2.35M [00:00&lt;00:00, 4.49MB/s]"
      }
     },
     "3e601d15c9ef4bd1b05e70f9267e1dfe": {
      "model_module": "@jupyter-widgets/controls",
      "model_module_version": "1.5.0",
      "model_name": "DescriptionStyleModel",
      "state": {
       "_model_module": "@jupyter-widgets/controls",
       "_model_module_version": "1.5.0",
       "_model_name": "DescriptionStyleModel",
       "_view_count": null,
       "_view_module": "@jupyter-widgets/base",
       "_view_module_version": "1.2.0",
       "_view_name": "StyleView",
       "description_width": ""
      }
     },
     "3feaf01a7f7b43ed923effab61b93ac4": {
      "model_module": "@jupyter-widgets/controls",
      "model_module_version": "1.5.0",
      "model_name": "DescriptionStyleModel",
      "state": {
       "_model_module": "@jupyter-widgets/controls",
       "_model_module_version": "1.5.0",
       "_model_name": "DescriptionStyleModel",
       "_view_count": null,
       "_view_module": "@jupyter-widgets/base",
       "_view_module_version": "1.2.0",
       "_view_name": "StyleView",
       "description_width": ""
      }
     },
     "4133e3e34f97426c9bebda989ec7e167": {
      "model_module": "@jupyter-widgets/controls",
      "model_module_version": "1.5.0",
      "model_name": "HBoxModel",
      "state": {
       "_dom_classes": [],
       "_model_module": "@jupyter-widgets/controls",
       "_model_module_version": "1.5.0",
       "_model_name": "HBoxModel",
       "_view_count": null,
       "_view_module": "@jupyter-widgets/controls",
       "_view_module_version": "1.5.0",
       "_view_name": "HBoxView",
       "box_style": "",
       "children": [
        "IPY_MODEL_48b36757767f4ff39f262dd63e844057",
        "IPY_MODEL_a03e24ff8fc54bccaa69e36839b36bab",
        "IPY_MODEL_e3e17f880bab4d47a1531bebac861fda"
       ],
       "layout": "IPY_MODEL_da88817e8aed48399b1948f8e004ee97"
      }
     },
     "43014906a0084e288ab06cb3ebf57538": {
      "model_module": "@jupyter-widgets/controls",
      "model_module_version": "1.5.0",
      "model_name": "HTMLModel",
      "state": {
       "_dom_classes": [],
       "_model_module": "@jupyter-widgets/controls",
       "_model_module_version": "1.5.0",
       "_model_name": "HTMLModel",
       "_view_count": null,
       "_view_module": "@jupyter-widgets/controls",
       "_view_module_version": "1.5.0",
       "_view_name": "HTMLView",
       "description": "",
       "description_tooltip": null,
       "layout": "IPY_MODEL_968e2989cea6490d9ee08b6700291242",
       "placeholder": "​",
       "style": "IPY_MODEL_929108014ee94c9092394cf7ef09134f",
       "value": "Downloading: 100%"
      }
     },
     "432a848a161c4a0888dad1ac9c5408c3": {
      "model_module": "@jupyter-widgets/controls",
      "model_module_version": "1.5.0",
      "model_name": "FloatProgressModel",
      "state": {
       "_dom_classes": [],
       "_model_module": "@jupyter-widgets/controls",
       "_model_module_version": "1.5.0",
       "_model_name": "FloatProgressModel",
       "_view_count": null,
       "_view_module": "@jupyter-widgets/controls",
       "_view_module_version": "1.5.0",
       "_view_name": "ProgressView",
       "bar_style": "success",
       "description": "",
       "description_tooltip": null,
       "layout": "IPY_MODEL_39512e7ede884ec1b6fe92f794e1d74d",
       "max": 36473,
       "min": 0,
       "orientation": "horizontal",
       "style": "IPY_MODEL_466a744f951d433da986e75bc9fd3b69",
       "value": 36473
      }
     },
     "466a744f951d433da986e75bc9fd3b69": {
      "model_module": "@jupyter-widgets/controls",
      "model_module_version": "1.5.0",
      "model_name": "ProgressStyleModel",
      "state": {
       "_model_module": "@jupyter-widgets/controls",
       "_model_module_version": "1.5.0",
       "_model_name": "ProgressStyleModel",
       "_view_count": null,
       "_view_module": "@jupyter-widgets/base",
       "_view_module_version": "1.2.0",
       "_view_name": "StyleView",
       "bar_color": null,
       "description_width": ""
      }
     },
     "46ab7441760642718f381e7f430e16a0": {
      "model_module": "@jupyter-widgets/controls",
      "model_module_version": "1.5.0",
      "model_name": "DescriptionStyleModel",
      "state": {
       "_model_module": "@jupyter-widgets/controls",
       "_model_module_version": "1.5.0",
       "_model_name": "DescriptionStyleModel",
       "_view_count": null,
       "_view_module": "@jupyter-widgets/base",
       "_view_module_version": "1.2.0",
       "_view_name": "StyleView",
       "description_width": ""
      }
     },
     "48b36757767f4ff39f262dd63e844057": {
      "model_module": "@jupyter-widgets/controls",
      "model_module_version": "1.5.0",
      "model_name": "HTMLModel",
      "state": {
       "_dom_classes": [],
       "_model_module": "@jupyter-widgets/controls",
       "_model_module_version": "1.5.0",
       "_model_name": "HTMLModel",
       "_view_count": null,
       "_view_module": "@jupyter-widgets/controls",
       "_view_module_version": "1.5.0",
       "_view_name": "HTMLView",
       "description": "",
       "description_tooltip": null,
       "layout": "IPY_MODEL_14972cafd36646939e742a987e1d0ec7",
       "placeholder": "​",
       "style": "IPY_MODEL_3e601d15c9ef4bd1b05e70f9267e1dfe",
       "value": "Downloading: 100%"
      }
     },
     "4c514a00a080445da009d272716b3577": {
      "model_module": "@jupyter-widgets/controls",
      "model_module_version": "1.5.0",
      "model_name": "HTMLModel",
      "state": {
       "_dom_classes": [],
       "_model_module": "@jupyter-widgets/controls",
       "_model_module_version": "1.5.0",
       "_model_name": "HTMLModel",
       "_view_count": null,
       "_view_module": "@jupyter-widgets/controls",
       "_view_module_version": "1.5.0",
       "_view_name": "HTMLView",
       "description": "",
       "description_tooltip": null,
       "layout": "IPY_MODEL_81b1213eb9dc4aa083951352d9f6beaf",
       "placeholder": "​",
       "style": "IPY_MODEL_7603cb9268524ed3821b4f307f74d15e",
       "value": "Downloading: 100%"
      }
     },
     "4e94a902a0d44b1eacfaeee99cd470d2": {
      "model_module": "@jupyter-widgets/base",
      "model_module_version": "1.2.0",
      "model_name": "LayoutModel",
      "state": {
       "_model_module": "@jupyter-widgets/base",
       "_model_module_version": "1.2.0",
       "_model_name": "LayoutModel",
       "_view_count": null,
       "_view_module": "@jupyter-widgets/base",
       "_view_module_version": "1.2.0",
       "_view_name": "LayoutView",
       "align_content": null,
       "align_items": null,
       "align_self": null,
       "border": null,
       "bottom": null,
       "display": null,
       "flex": null,
       "flex_flow": null,
       "grid_area": null,
       "grid_auto_columns": null,
       "grid_auto_flow": null,
       "grid_auto_rows": null,
       "grid_column": null,
       "grid_gap": null,
       "grid_row": null,
       "grid_template_areas": null,
       "grid_template_columns": null,
       "grid_template_rows": null,
       "height": null,
       "justify_content": null,
       "justify_items": null,
       "left": null,
       "margin": null,
       "max_height": null,
       "max_width": null,
       "min_height": null,
       "min_width": null,
       "object_fit": null,
       "object_position": null,
       "order": null,
       "overflow": null,
       "overflow_x": null,
       "overflow_y": null,
       "padding": null,
       "right": null,
       "top": null,
       "visibility": null,
       "width": null
      }
     },
     "5235854cc7964193afec8b3316b36ef7": {
      "model_module": "@jupyter-widgets/controls",
      "model_module_version": "1.5.0",
      "model_name": "HBoxModel",
      "state": {
       "_dom_classes": [],
       "_model_module": "@jupyter-widgets/controls",
       "_model_module_version": "1.5.0",
       "_model_name": "HBoxModel",
       "_view_count": null,
       "_view_module": "@jupyter-widgets/controls",
       "_view_module_version": "1.5.0",
       "_view_name": "HBoxView",
       "box_style": "",
       "children": [
        "IPY_MODEL_58c973b1ea8a446e9993f32d3612c8b9",
        "IPY_MODEL_b849e52bd84942e583de4b9325c96afe",
        "IPY_MODEL_291ab6d32ec345ee8adaa6f354bfcfb4"
       ],
       "layout": "IPY_MODEL_fb6b7fc69b2549ab9d80d71017422178"
      }
     },
     "58c973b1ea8a446e9993f32d3612c8b9": {
      "model_module": "@jupyter-widgets/controls",
      "model_module_version": "1.5.0",
      "model_name": "HTMLModel",
      "state": {
       "_dom_classes": [],
       "_model_module": "@jupyter-widgets/controls",
       "_model_module_version": "1.5.0",
       "_model_name": "HTMLModel",
       "_view_count": null,
       "_view_module": "@jupyter-widgets/controls",
       "_view_module_version": "1.5.0",
       "_view_name": "HTMLView",
       "description": "",
       "description_tooltip": null,
       "layout": "IPY_MODEL_360314d0f3254b66818b8a62223c2b0b",
       "placeholder": "​",
       "style": "IPY_MODEL_c5de80b22af543edb57e65780298069e",
       "value": "100%"
      }
     },
     "5a2b3274110a42159fcfb2e01ceea10a": {
      "model_module": "@jupyter-widgets/controls",
      "model_module_version": "1.5.0",
      "model_name": "HBoxModel",
      "state": {
       "_dom_classes": [],
       "_model_module": "@jupyter-widgets/controls",
       "_model_module_version": "1.5.0",
       "_model_name": "HBoxModel",
       "_view_count": null,
       "_view_module": "@jupyter-widgets/controls",
       "_view_module_version": "1.5.0",
       "_view_name": "HBoxView",
       "box_style": "",
       "children": [
        "IPY_MODEL_43014906a0084e288ab06cb3ebf57538",
        "IPY_MODEL_1c5d07635bff4f7999e3e8486f648aaf",
        "IPY_MODEL_3b0ebe22bd154b01bcb4d6b2ab2dec83"
       ],
       "layout": "IPY_MODEL_2373dbe30aca4d64b94b5bb64216151e"
      }
     },
     "5d82f1a2cf554609ba65dfb95dc152e5": {
      "model_module": "@jupyter-widgets/base",
      "model_module_version": "1.2.0",
      "model_name": "LayoutModel",
      "state": {
       "_model_module": "@jupyter-widgets/base",
       "_model_module_version": "1.2.0",
       "_model_name": "LayoutModel",
       "_view_count": null,
       "_view_module": "@jupyter-widgets/base",
       "_view_module_version": "1.2.0",
       "_view_name": "LayoutView",
       "align_content": null,
       "align_items": null,
       "align_self": null,
       "border": null,
       "bottom": null,
       "display": null,
       "flex": null,
       "flex_flow": null,
       "grid_area": null,
       "grid_auto_columns": null,
       "grid_auto_flow": null,
       "grid_auto_rows": null,
       "grid_column": null,
       "grid_gap": null,
       "grid_row": null,
       "grid_template_areas": null,
       "grid_template_columns": null,
       "grid_template_rows": null,
       "height": null,
       "justify_content": null,
       "justify_items": null,
       "left": null,
       "margin": null,
       "max_height": null,
       "max_width": null,
       "min_height": null,
       "min_width": null,
       "object_fit": null,
       "object_position": null,
       "order": null,
       "overflow": null,
       "overflow_x": null,
       "overflow_y": null,
       "padding": null,
       "right": null,
       "top": null,
       "visibility": null,
       "width": null
      }
     },
     "5ffb53b010e948a0918366a7721dd7a9": {
      "model_module": "@jupyter-widgets/controls",
      "model_module_version": "1.5.0",
      "model_name": "LabelModel",
      "state": {
       "_dom_classes": [],
       "_model_module": "@jupyter-widgets/controls",
       "_model_module_version": "1.5.0",
       "_model_name": "LabelModel",
       "_view_count": null,
       "_view_module": "@jupyter-widgets/controls",
       "_view_module_version": "1.5.0",
       "_view_name": "LabelView",
       "description": "",
       "description_tooltip": null,
       "layout": "IPY_MODEL_aaf4c8e1ae794178bd2db64c5c27edcd",
       "placeholder": "​",
       "style": "IPY_MODEL_ff0d93c0f2a54cae8698028db31d1454",
       "value": "0.065 MB of 0.065 MB uploaded (0.000 MB deduped)\r"
      }
     },
     "65f9dfd885184f818373dcaf8b820da7": {
      "model_module": "@jupyter-widgets/base",
      "model_module_version": "1.2.0",
      "model_name": "LayoutModel",
      "state": {
       "_model_module": "@jupyter-widgets/base",
       "_model_module_version": "1.2.0",
       "_model_name": "LayoutModel",
       "_view_count": null,
       "_view_module": "@jupyter-widgets/base",
       "_view_module_version": "1.2.0",
       "_view_name": "LayoutView",
       "align_content": null,
       "align_items": null,
       "align_self": null,
       "border": null,
       "bottom": null,
       "display": null,
       "flex": null,
       "flex_flow": null,
       "grid_area": null,
       "grid_auto_columns": null,
       "grid_auto_flow": null,
       "grid_auto_rows": null,
       "grid_column": null,
       "grid_gap": null,
       "grid_row": null,
       "grid_template_areas": null,
       "grid_template_columns": null,
       "grid_template_rows": null,
       "height": null,
       "justify_content": null,
       "justify_items": null,
       "left": null,
       "margin": null,
       "max_height": null,
       "max_width": null,
       "min_height": null,
       "min_width": null,
       "object_fit": null,
       "object_position": null,
       "order": null,
       "overflow": null,
       "overflow_x": null,
       "overflow_y": null,
       "padding": null,
       "right": null,
       "top": null,
       "visibility": null,
       "width": null
      }
     },
     "673fb48e7dca47f4a3754d06af7dcf1f": {
      "model_module": "@jupyter-widgets/controls",
      "model_module_version": "1.5.0",
      "model_name": "HTMLModel",
      "state": {
       "_dom_classes": [],
       "_model_module": "@jupyter-widgets/controls",
       "_model_module_version": "1.5.0",
       "_model_name": "HTMLModel",
       "_view_count": null,
       "_view_module": "@jupyter-widgets/controls",
       "_view_module_version": "1.5.0",
       "_view_name": "HTMLView",
       "description": "",
       "description_tooltip": null,
       "layout": "IPY_MODEL_749c407f4aa34689954d06117f699f3c",
       "placeholder": "​",
       "style": "IPY_MODEL_bb944cd3fb694105a4d535f4e9c333a8",
       "value": "100%"
      }
     },
     "6947506e822e46d99b4dd82a8a4209cd": {
      "model_module": "@jupyter-widgets/base",
      "model_module_version": "1.2.0",
      "model_name": "LayoutModel",
      "state": {
       "_model_module": "@jupyter-widgets/base",
       "_model_module_version": "1.2.0",
       "_model_name": "LayoutModel",
       "_view_count": null,
       "_view_module": "@jupyter-widgets/base",
       "_view_module_version": "1.2.0",
       "_view_name": "LayoutView",
       "align_content": null,
       "align_items": null,
       "align_self": null,
       "border": null,
       "bottom": null,
       "display": null,
       "flex": null,
       "flex_flow": null,
       "grid_area": null,
       "grid_auto_columns": null,
       "grid_auto_flow": null,
       "grid_auto_rows": null,
       "grid_column": null,
       "grid_gap": null,
       "grid_row": null,
       "grid_template_areas": null,
       "grid_template_columns": null,
       "grid_template_rows": null,
       "height": null,
       "justify_content": null,
       "justify_items": null,
       "left": null,
       "margin": null,
       "max_height": null,
       "max_width": null,
       "min_height": null,
       "min_width": null,
       "object_fit": null,
       "object_position": null,
       "order": null,
       "overflow": null,
       "overflow_x": null,
       "overflow_y": null,
       "padding": null,
       "right": null,
       "top": null,
       "visibility": null,
       "width": null
      }
     },
     "749c407f4aa34689954d06117f699f3c": {
      "model_module": "@jupyter-widgets/base",
      "model_module_version": "1.2.0",
      "model_name": "LayoutModel",
      "state": {
       "_model_module": "@jupyter-widgets/base",
       "_model_module_version": "1.2.0",
       "_model_name": "LayoutModel",
       "_view_count": null,
       "_view_module": "@jupyter-widgets/base",
       "_view_module_version": "1.2.0",
       "_view_name": "LayoutView",
       "align_content": null,
       "align_items": null,
       "align_self": null,
       "border": null,
       "bottom": null,
       "display": null,
       "flex": null,
       "flex_flow": null,
       "grid_area": null,
       "grid_auto_columns": null,
       "grid_auto_flow": null,
       "grid_auto_rows": null,
       "grid_column": null,
       "grid_gap": null,
       "grid_row": null,
       "grid_template_areas": null,
       "grid_template_columns": null,
       "grid_template_rows": null,
       "height": null,
       "justify_content": null,
       "justify_items": null,
       "left": null,
       "margin": null,
       "max_height": null,
       "max_width": null,
       "min_height": null,
       "min_width": null,
       "object_fit": null,
       "object_position": null,
       "order": null,
       "overflow": null,
       "overflow_x": null,
       "overflow_y": null,
       "padding": null,
       "right": null,
       "top": null,
       "visibility": null,
       "width": null
      }
     },
     "7603cb9268524ed3821b4f307f74d15e": {
      "model_module": "@jupyter-widgets/controls",
      "model_module_version": "1.5.0",
      "model_name": "DescriptionStyleModel",
      "state": {
       "_model_module": "@jupyter-widgets/controls",
       "_model_module_version": "1.5.0",
       "_model_name": "DescriptionStyleModel",
       "_view_count": null,
       "_view_module": "@jupyter-widgets/base",
       "_view_module_version": "1.2.0",
       "_view_name": "StyleView",
       "description_width": ""
      }
     },
     "7d211c0746b64a0b935fa964ad7bd858": {
      "model_module": "@jupyter-widgets/controls",
      "model_module_version": "1.5.0",
      "model_name": "HTMLModel",
      "state": {
       "_dom_classes": [],
       "_model_module": "@jupyter-widgets/controls",
       "_model_module_version": "1.5.0",
       "_model_name": "HTMLModel",
       "_view_count": null,
       "_view_module": "@jupyter-widgets/controls",
       "_view_module_version": "1.5.0",
       "_view_name": "HTMLView",
       "description": "",
       "description_tooltip": null,
       "layout": "IPY_MODEL_f836cfd56e0d4d7188f1b263a5845bff",
       "placeholder": "​",
       "style": "IPY_MODEL_a87f939ae9cb44bf8d9eed523f5cb995",
       "value": "100%"
      }
     },
     "7fb6ee0e688440bab23c07808e5cef8b": {
      "model_module": "@jupyter-widgets/controls",
      "model_module_version": "1.5.0",
      "model_name": "FloatProgressModel",
      "state": {
       "_dom_classes": [],
       "_model_module": "@jupyter-widgets/controls",
       "_model_module_version": "1.5.0",
       "_model_name": "FloatProgressModel",
       "_view_count": null,
       "_view_module": "@jupyter-widgets/controls",
       "_view_module_version": "1.5.0",
       "_view_name": "ProgressView",
       "bar_style": "success",
       "description": "",
       "description_tooltip": null,
       "layout": "IPY_MODEL_c0dcc3eeec934d289bf99c7d14bab090",
       "max": 873673253,
       "min": 0,
       "orientation": "horizontal",
       "style": "IPY_MODEL_c4ff773d63e34e0c93e23aa455a97958",
       "value": 873673253
      }
     },
     "80f827d24b2e421bbe84d92c8dcc002b": {
      "model_module": "@jupyter-widgets/base",
      "model_module_version": "1.2.0",
      "model_name": "LayoutModel",
      "state": {
       "_model_module": "@jupyter-widgets/base",
       "_model_module_version": "1.2.0",
       "_model_name": "LayoutModel",
       "_view_count": null,
       "_view_module": "@jupyter-widgets/base",
       "_view_module_version": "1.2.0",
       "_view_name": "LayoutView",
       "align_content": null,
       "align_items": null,
       "align_self": null,
       "border": null,
       "bottom": null,
       "display": null,
       "flex": null,
       "flex_flow": null,
       "grid_area": null,
       "grid_auto_columns": null,
       "grid_auto_flow": null,
       "grid_auto_rows": null,
       "grid_column": null,
       "grid_gap": null,
       "grid_row": null,
       "grid_template_areas": null,
       "grid_template_columns": null,
       "grid_template_rows": null,
       "height": null,
       "justify_content": null,
       "justify_items": null,
       "left": null,
       "margin": null,
       "max_height": null,
       "max_width": null,
       "min_height": null,
       "min_width": null,
       "object_fit": null,
       "object_position": null,
       "order": null,
       "overflow": null,
       "overflow_x": null,
       "overflow_y": null,
       "padding": null,
       "right": null,
       "top": null,
       "visibility": null,
       "width": null
      }
     },
     "81b1213eb9dc4aa083951352d9f6beaf": {
      "model_module": "@jupyter-widgets/base",
      "model_module_version": "1.2.0",
      "model_name": "LayoutModel",
      "state": {
       "_model_module": "@jupyter-widgets/base",
       "_model_module_version": "1.2.0",
       "_model_name": "LayoutModel",
       "_view_count": null,
       "_view_module": "@jupyter-widgets/base",
       "_view_module_version": "1.2.0",
       "_view_name": "LayoutView",
       "align_content": null,
       "align_items": null,
       "align_self": null,
       "border": null,
       "bottom": null,
       "display": null,
       "flex": null,
       "flex_flow": null,
       "grid_area": null,
       "grid_auto_columns": null,
       "grid_auto_flow": null,
       "grid_auto_rows": null,
       "grid_column": null,
       "grid_gap": null,
       "grid_row": null,
       "grid_template_areas": null,
       "grid_template_columns": null,
       "grid_template_rows": null,
       "height": null,
       "justify_content": null,
       "justify_items": null,
       "left": null,
       "margin": null,
       "max_height": null,
       "max_width": null,
       "min_height": null,
       "min_width": null,
       "object_fit": null,
       "object_position": null,
       "order": null,
       "overflow": null,
       "overflow_x": null,
       "overflow_y": null,
       "padding": null,
       "right": null,
       "top": null,
       "visibility": null,
       "width": null
      }
     },
     "82f268442b1349268246323595e0f371": {
      "model_module": "@jupyter-widgets/controls",
      "model_module_version": "1.5.0",
      "model_name": "HBoxModel",
      "state": {
       "_dom_classes": [],
       "_model_module": "@jupyter-widgets/controls",
       "_model_module_version": "1.5.0",
       "_model_name": "HBoxModel",
       "_view_count": null,
       "_view_module": "@jupyter-widgets/controls",
       "_view_module_version": "1.5.0",
       "_view_name": "HBoxView",
       "box_style": "",
       "children": [
        "IPY_MODEL_4c514a00a080445da009d272716b3577",
        "IPY_MODEL_b4e52efc58b54c81a39fa8e5fc26eedd",
        "IPY_MODEL_a1cafe17bdf945aa8a33875d0590f7a2"
       ],
       "layout": "IPY_MODEL_65f9dfd885184f818373dcaf8b820da7"
      }
     },
     "842a840396ab4cefb93cc2733bf00cf7": {
      "model_module": "@jupyter-widgets/controls",
      "model_module_version": "1.5.0",
      "model_name": "DescriptionStyleModel",
      "state": {
       "_model_module": "@jupyter-widgets/controls",
       "_model_module_version": "1.5.0",
       "_model_name": "DescriptionStyleModel",
       "_view_count": null,
       "_view_module": "@jupyter-widgets/base",
       "_view_module_version": "1.2.0",
       "_view_name": "StyleView",
       "description_width": ""
      }
     },
     "86af7db3cea442beb67da28063f15ed6": {
      "model_module": "@jupyter-widgets/controls",
      "model_module_version": "1.5.0",
      "model_name": "FloatProgressModel",
      "state": {
       "_dom_classes": [],
       "_model_module": "@jupyter-widgets/controls",
       "_model_module_version": "1.5.0",
       "_model_name": "FloatProgressModel",
       "_view_count": null,
       "_view_module": "@jupyter-widgets/controls",
       "_view_module_version": "1.5.0",
       "_view_name": "ProgressView",
       "bar_style": "",
       "description": "",
       "description_tooltip": null,
       "layout": "IPY_MODEL_be8bbaca794c4ab0b387c44fc3d2637f",
       "max": 1,
       "min": 0,
       "orientation": "horizontal",
       "style": "IPY_MODEL_126a1e5f24e44838a03204815209c5dc",
       "value": 1
      }
     },
     "87214ce12c1f422481a0fe3caf5a3ce8": {
      "model_module": "@jupyter-widgets/base",
      "model_module_version": "1.2.0",
      "model_name": "LayoutModel",
      "state": {
       "_model_module": "@jupyter-widgets/base",
       "_model_module_version": "1.2.0",
       "_model_name": "LayoutModel",
       "_view_count": null,
       "_view_module": "@jupyter-widgets/base",
       "_view_module_version": "1.2.0",
       "_view_name": "LayoutView",
       "align_content": null,
       "align_items": null,
       "align_self": null,
       "border": null,
       "bottom": null,
       "display": null,
       "flex": null,
       "flex_flow": null,
       "grid_area": null,
       "grid_auto_columns": null,
       "grid_auto_flow": null,
       "grid_auto_rows": null,
       "grid_column": null,
       "grid_gap": null,
       "grid_row": null,
       "grid_template_areas": null,
       "grid_template_columns": null,
       "grid_template_rows": null,
       "height": null,
       "justify_content": null,
       "justify_items": null,
       "left": null,
       "margin": null,
       "max_height": null,
       "max_width": null,
       "min_height": null,
       "min_width": null,
       "object_fit": null,
       "object_position": null,
       "order": null,
       "overflow": null,
       "overflow_x": null,
       "overflow_y": null,
       "padding": null,
       "right": null,
       "top": null,
       "visibility": null,
       "width": null
      }
     },
     "874dcbcfa5c94b938abebb1c7d00007c": {
      "model_module": "@jupyter-widgets/controls",
      "model_module_version": "1.5.0",
      "model_name": "ProgressStyleModel",
      "state": {
       "_model_module": "@jupyter-widgets/controls",
       "_model_module_version": "1.5.0",
       "_model_name": "ProgressStyleModel",
       "_view_count": null,
       "_view_module": "@jupyter-widgets/base",
       "_view_module_version": "1.2.0",
       "_view_name": "StyleView",
       "bar_color": null,
       "description_width": ""
      }
     },
     "8ae7b72a5b9f4533a2076af3fb7786bd": {
      "model_module": "@jupyter-widgets/controls",
      "model_module_version": "1.5.0",
      "model_name": "DescriptionStyleModel",
      "state": {
       "_model_module": "@jupyter-widgets/controls",
       "_model_module_version": "1.5.0",
       "_model_name": "DescriptionStyleModel",
       "_view_count": null,
       "_view_module": "@jupyter-widgets/base",
       "_view_module_version": "1.2.0",
       "_view_name": "StyleView",
       "description_width": ""
      }
     },
     "929108014ee94c9092394cf7ef09134f": {
      "model_module": "@jupyter-widgets/controls",
      "model_module_version": "1.5.0",
      "model_name": "DescriptionStyleModel",
      "state": {
       "_model_module": "@jupyter-widgets/controls",
       "_model_module_version": "1.5.0",
       "_model_name": "DescriptionStyleModel",
       "_view_count": null,
       "_view_module": "@jupyter-widgets/base",
       "_view_module_version": "1.2.0",
       "_view_name": "StyleView",
       "description_width": ""
      }
     },
     "968e2989cea6490d9ee08b6700291242": {
      "model_module": "@jupyter-widgets/base",
      "model_module_version": "1.2.0",
      "model_name": "LayoutModel",
      "state": {
       "_model_module": "@jupyter-widgets/base",
       "_model_module_version": "1.2.0",
       "_model_name": "LayoutModel",
       "_view_count": null,
       "_view_module": "@jupyter-widgets/base",
       "_view_module_version": "1.2.0",
       "_view_name": "LayoutView",
       "align_content": null,
       "align_items": null,
       "align_self": null,
       "border": null,
       "bottom": null,
       "display": null,
       "flex": null,
       "flex_flow": null,
       "grid_area": null,
       "grid_auto_columns": null,
       "grid_auto_flow": null,
       "grid_auto_rows": null,
       "grid_column": null,
       "grid_gap": null,
       "grid_row": null,
       "grid_template_areas": null,
       "grid_template_columns": null,
       "grid_template_rows": null,
       "height": null,
       "justify_content": null,
       "justify_items": null,
       "left": null,
       "margin": null,
       "max_height": null,
       "max_width": null,
       "min_height": null,
       "min_width": null,
       "object_fit": null,
       "object_position": null,
       "order": null,
       "overflow": null,
       "overflow_x": null,
       "overflow_y": null,
       "padding": null,
       "right": null,
       "top": null,
       "visibility": null,
       "width": null
      }
     },
     "9901f18e7e5841b8bfcb918c432ef718": {
      "model_module": "@jupyter-widgets/base",
      "model_module_version": "1.2.0",
      "model_name": "LayoutModel",
      "state": {
       "_model_module": "@jupyter-widgets/base",
       "_model_module_version": "1.2.0",
       "_model_name": "LayoutModel",
       "_view_count": null,
       "_view_module": "@jupyter-widgets/base",
       "_view_module_version": "1.2.0",
       "_view_name": "LayoutView",
       "align_content": null,
       "align_items": null,
       "align_self": null,
       "border": null,
       "bottom": null,
       "display": null,
       "flex": null,
       "flex_flow": null,
       "grid_area": null,
       "grid_auto_columns": null,
       "grid_auto_flow": null,
       "grid_auto_rows": null,
       "grid_column": null,
       "grid_gap": null,
       "grid_row": null,
       "grid_template_areas": null,
       "grid_template_columns": null,
       "grid_template_rows": null,
       "height": null,
       "justify_content": null,
       "justify_items": null,
       "left": null,
       "margin": null,
       "max_height": null,
       "max_width": null,
       "min_height": null,
       "min_width": null,
       "object_fit": null,
       "object_position": null,
       "order": null,
       "overflow": null,
       "overflow_x": null,
       "overflow_y": null,
       "padding": null,
       "right": null,
       "top": null,
       "visibility": null,
       "width": null
      }
     },
     "9d403276e05f4c368e46f353070b9d9a": {
      "model_module": "@jupyter-widgets/base",
      "model_module_version": "1.2.0",
      "model_name": "LayoutModel",
      "state": {
       "_model_module": "@jupyter-widgets/base",
       "_model_module_version": "1.2.0",
       "_model_name": "LayoutModel",
       "_view_count": null,
       "_view_module": "@jupyter-widgets/base",
       "_view_module_version": "1.2.0",
       "_view_name": "LayoutView",
       "align_content": null,
       "align_items": null,
       "align_self": null,
       "border": null,
       "bottom": null,
       "display": null,
       "flex": null,
       "flex_flow": null,
       "grid_area": null,
       "grid_auto_columns": null,
       "grid_auto_flow": null,
       "grid_auto_rows": null,
       "grid_column": null,
       "grid_gap": null,
       "grid_row": null,
       "grid_template_areas": null,
       "grid_template_columns": null,
       "grid_template_rows": null,
       "height": null,
       "justify_content": null,
       "justify_items": null,
       "left": null,
       "margin": null,
       "max_height": null,
       "max_width": null,
       "min_height": null,
       "min_width": null,
       "object_fit": null,
       "object_position": null,
       "order": null,
       "overflow": null,
       "overflow_x": null,
       "overflow_y": null,
       "padding": null,
       "right": null,
       "top": null,
       "visibility": null,
       "width": null
      }
     },
     "a03e24ff8fc54bccaa69e36839b36bab": {
      "model_module": "@jupyter-widgets/controls",
      "model_module_version": "1.5.0",
      "model_name": "FloatProgressModel",
      "state": {
       "_dom_classes": [],
       "_model_module": "@jupyter-widgets/controls",
       "_model_module_version": "1.5.0",
       "_model_name": "FloatProgressModel",
       "_view_count": null,
       "_view_module": "@jupyter-widgets/controls",
       "_view_module_version": "1.5.0",
       "_view_name": "ProgressView",
       "bar_style": "success",
       "description": "",
       "description_tooltip": null,
       "layout": "IPY_MODEL_80f827d24b2e421bbe84d92c8dcc002b",
       "max": 580,
       "min": 0,
       "orientation": "horizontal",
       "style": "IPY_MODEL_349e43c8d4114c36823434cef63fc567",
       "value": 580
      }
     },
     "a1cafe17bdf945aa8a33875d0590f7a2": {
      "model_module": "@jupyter-widgets/controls",
      "model_module_version": "1.5.0",
      "model_name": "HTMLModel",
      "state": {
       "_dom_classes": [],
       "_model_module": "@jupyter-widgets/controls",
       "_model_module_version": "1.5.0",
       "_model_name": "HTMLModel",
       "_view_count": null,
       "_view_module": "@jupyter-widgets/controls",
       "_view_module_version": "1.5.0",
       "_view_name": "HTMLView",
       "description": "",
       "description_tooltip": null,
       "layout": "IPY_MODEL_dd68281fe7ea499882e5d23a5bbfb9f0",
       "placeholder": "​",
       "style": "IPY_MODEL_8ae7b72a5b9f4533a2076af3fb7786bd",
       "value": " 52.0/52.0 [00:00&lt;00:00, 2.03kB/s]"
      }
     },
     "a3f3db4032b54ac49421d5cbd31a9533": {
      "model_module": "@jupyter-widgets/base",
      "model_module_version": "1.2.0",
      "model_name": "LayoutModel",
      "state": {
       "_model_module": "@jupyter-widgets/base",
       "_model_module_version": "1.2.0",
       "_model_name": "LayoutModel",
       "_view_count": null,
       "_view_module": "@jupyter-widgets/base",
       "_view_module_version": "1.2.0",
       "_view_name": "LayoutView",
       "align_content": null,
       "align_items": null,
       "align_self": null,
       "border": null,
       "bottom": null,
       "display": null,
       "flex": null,
       "flex_flow": null,
       "grid_area": null,
       "grid_auto_columns": null,
       "grid_auto_flow": null,
       "grid_auto_rows": null,
       "grid_column": null,
       "grid_gap": null,
       "grid_row": null,
       "grid_template_areas": null,
       "grid_template_columns": null,
       "grid_template_rows": null,
       "height": null,
       "justify_content": null,
       "justify_items": null,
       "left": null,
       "margin": null,
       "max_height": null,
       "max_width": null,
       "min_height": null,
       "min_width": null,
       "object_fit": null,
       "object_position": null,
       "order": null,
       "overflow": null,
       "overflow_x": null,
       "overflow_y": null,
       "padding": null,
       "right": null,
       "top": null,
       "visibility": null,
       "width": null
      }
     },
     "a87f939ae9cb44bf8d9eed523f5cb995": {
      "model_module": "@jupyter-widgets/controls",
      "model_module_version": "1.5.0",
      "model_name": "DescriptionStyleModel",
      "state": {
       "_model_module": "@jupyter-widgets/controls",
       "_model_module_version": "1.5.0",
       "_model_name": "DescriptionStyleModel",
       "_view_count": null,
       "_view_module": "@jupyter-widgets/base",
       "_view_module_version": "1.2.0",
       "_view_name": "StyleView",
       "description_width": ""
      }
     },
     "aaf4c8e1ae794178bd2db64c5c27edcd": {
      "model_module": "@jupyter-widgets/base",
      "model_module_version": "1.2.0",
      "model_name": "LayoutModel",
      "state": {
       "_model_module": "@jupyter-widgets/base",
       "_model_module_version": "1.2.0",
       "_model_name": "LayoutModel",
       "_view_count": null,
       "_view_module": "@jupyter-widgets/base",
       "_view_module_version": "1.2.0",
       "_view_name": "LayoutView",
       "align_content": null,
       "align_items": null,
       "align_self": null,
       "border": null,
       "bottom": null,
       "display": null,
       "flex": null,
       "flex_flow": null,
       "grid_area": null,
       "grid_auto_columns": null,
       "grid_auto_flow": null,
       "grid_auto_rows": null,
       "grid_column": null,
       "grid_gap": null,
       "grid_row": null,
       "grid_template_areas": null,
       "grid_template_columns": null,
       "grid_template_rows": null,
       "height": null,
       "justify_content": null,
       "justify_items": null,
       "left": null,
       "margin": null,
       "max_height": null,
       "max_width": null,
       "min_height": null,
       "min_width": null,
       "object_fit": null,
       "object_position": null,
       "order": null,
       "overflow": null,
       "overflow_x": null,
       "overflow_y": null,
       "padding": null,
       "right": null,
       "top": null,
       "visibility": null,
       "width": null
      }
     },
     "ab615699cb634117a739e8673396b52d": {
      "model_module": "@jupyter-widgets/controls",
      "model_module_version": "1.5.0",
      "model_name": "ProgressStyleModel",
      "state": {
       "_model_module": "@jupyter-widgets/controls",
       "_model_module_version": "1.5.0",
       "_model_name": "ProgressStyleModel",
       "_view_count": null,
       "_view_module": "@jupyter-widgets/base",
       "_view_module_version": "1.2.0",
       "_view_name": "StyleView",
       "bar_color": null,
       "description_width": ""
      }
     },
     "ad4745f1eca942009bdf6cf12913f34a": {
      "model_module": "@jupyter-widgets/base",
      "model_module_version": "1.2.0",
      "model_name": "LayoutModel",
      "state": {
       "_model_module": "@jupyter-widgets/base",
       "_model_module_version": "1.2.0",
       "_model_name": "LayoutModel",
       "_view_count": null,
       "_view_module": "@jupyter-widgets/base",
       "_view_module_version": "1.2.0",
       "_view_name": "LayoutView",
       "align_content": null,
       "align_items": null,
       "align_self": null,
       "border": null,
       "bottom": null,
       "display": null,
       "flex": null,
       "flex_flow": null,
       "grid_area": null,
       "grid_auto_columns": null,
       "grid_auto_flow": null,
       "grid_auto_rows": null,
       "grid_column": null,
       "grid_gap": null,
       "grid_row": null,
       "grid_template_areas": null,
       "grid_template_columns": null,
       "grid_template_rows": null,
       "height": null,
       "justify_content": null,
       "justify_items": null,
       "left": null,
       "margin": null,
       "max_height": null,
       "max_width": null,
       "min_height": null,
       "min_width": null,
       "object_fit": null,
       "object_position": null,
       "order": null,
       "overflow": null,
       "overflow_x": null,
       "overflow_y": null,
       "padding": null,
       "right": null,
       "top": null,
       "visibility": null,
       "width": null
      }
     },
     "ad6386dafce545c48eac271bb2a3c0dd": {
      "model_module": "@jupyter-widgets/controls",
      "model_module_version": "1.5.0",
      "model_name": "DescriptionStyleModel",
      "state": {
       "_model_module": "@jupyter-widgets/controls",
       "_model_module_version": "1.5.0",
       "_model_name": "DescriptionStyleModel",
       "_view_count": null,
       "_view_module": "@jupyter-widgets/base",
       "_view_module_version": "1.2.0",
       "_view_name": "StyleView",
       "description_width": ""
      }
     },
     "b4e52efc58b54c81a39fa8e5fc26eedd": {
      "model_module": "@jupyter-widgets/controls",
      "model_module_version": "1.5.0",
      "model_name": "FloatProgressModel",
      "state": {
       "_dom_classes": [],
       "_model_module": "@jupyter-widgets/controls",
       "_model_module_version": "1.5.0",
       "_model_name": "FloatProgressModel",
       "_view_count": null,
       "_view_module": "@jupyter-widgets/controls",
       "_view_module_version": "1.5.0",
       "_view_name": "ProgressView",
       "bar_style": "success",
       "description": "",
       "description_tooltip": null,
       "layout": "IPY_MODEL_6947506e822e46d99b4dd82a8a4209cd",
       "max": 52,
       "min": 0,
       "orientation": "horizontal",
       "style": "IPY_MODEL_874dcbcfa5c94b938abebb1c7d00007c",
       "value": 52
      }
     },
     "b6f3605957844ac0b026ef0593befbae": {
      "model_module": "@jupyter-widgets/base",
      "model_module_version": "1.2.0",
      "model_name": "LayoutModel",
      "state": {
       "_model_module": "@jupyter-widgets/base",
       "_model_module_version": "1.2.0",
       "_model_name": "LayoutModel",
       "_view_count": null,
       "_view_module": "@jupyter-widgets/base",
       "_view_module_version": "1.2.0",
       "_view_name": "LayoutView",
       "align_content": null,
       "align_items": null,
       "align_self": null,
       "border": null,
       "bottom": null,
       "display": null,
       "flex": null,
       "flex_flow": null,
       "grid_area": null,
       "grid_auto_columns": null,
       "grid_auto_flow": null,
       "grid_auto_rows": null,
       "grid_column": null,
       "grid_gap": null,
       "grid_row": null,
       "grid_template_areas": null,
       "grid_template_columns": null,
       "grid_template_rows": null,
       "height": null,
       "justify_content": null,
       "justify_items": null,
       "left": null,
       "margin": null,
       "max_height": null,
       "max_width": null,
       "min_height": null,
       "min_width": null,
       "object_fit": null,
       "object_position": null,
       "order": null,
       "overflow": null,
       "overflow_x": null,
       "overflow_y": null,
       "padding": null,
       "right": null,
       "top": null,
       "visibility": null,
       "width": null
      }
     },
     "b849e52bd84942e583de4b9325c96afe": {
      "model_module": "@jupyter-widgets/controls",
      "model_module_version": "1.5.0",
      "model_name": "FloatProgressModel",
      "state": {
       "_dom_classes": [],
       "_model_module": "@jupyter-widgets/controls",
       "_model_module_version": "1.5.0",
       "_model_name": "FloatProgressModel",
       "_view_count": null,
       "_view_module": "@jupyter-widgets/controls",
       "_view_module_version": "1.5.0",
       "_view_name": "ProgressView",
       "bar_style": "success",
       "description": "",
       "description_tooltip": null,
       "layout": "IPY_MODEL_341389680b6a43d8b6b3de95dffca671",
       "max": 36473,
       "min": 0,
       "orientation": "horizontal",
       "style": "IPY_MODEL_ab615699cb634117a739e8673396b52d",
       "value": 36473
      }
     },
     "ba8f6b6e291a4d6faae41e5e6921f4aa": {
      "model_module": "@jupyter-widgets/base",
      "model_module_version": "1.2.0",
      "model_name": "LayoutModel",
      "state": {
       "_model_module": "@jupyter-widgets/base",
       "_model_module_version": "1.2.0",
       "_model_name": "LayoutModel",
       "_view_count": null,
       "_view_module": "@jupyter-widgets/base",
       "_view_module_version": "1.2.0",
       "_view_name": "LayoutView",
       "align_content": null,
       "align_items": null,
       "align_self": null,
       "border": null,
       "bottom": null,
       "display": null,
       "flex": null,
       "flex_flow": null,
       "grid_area": null,
       "grid_auto_columns": null,
       "grid_auto_flow": null,
       "grid_auto_rows": null,
       "grid_column": null,
       "grid_gap": null,
       "grid_row": null,
       "grid_template_areas": null,
       "grid_template_columns": null,
       "grid_template_rows": null,
       "height": null,
       "justify_content": null,
       "justify_items": null,
       "left": null,
       "margin": null,
       "max_height": null,
       "max_width": null,
       "min_height": null,
       "min_width": null,
       "object_fit": null,
       "object_position": null,
       "order": null,
       "overflow": null,
       "overflow_x": null,
       "overflow_y": null,
       "padding": null,
       "right": null,
       "top": null,
       "visibility": null,
       "width": null
      }
     },
     "bb944cd3fb694105a4d535f4e9c333a8": {
      "model_module": "@jupyter-widgets/controls",
      "model_module_version": "1.5.0",
      "model_name": "DescriptionStyleModel",
      "state": {
       "_model_module": "@jupyter-widgets/controls",
       "_model_module_version": "1.5.0",
       "_model_name": "DescriptionStyleModel",
       "_view_count": null,
       "_view_module": "@jupyter-widgets/base",
       "_view_module_version": "1.2.0",
       "_view_name": "StyleView",
       "description_width": ""
      }
     },
     "bba517b096dd460cb764ccd71b57f148": {
      "model_module": "@jupyter-widgets/controls",
      "model_module_version": "1.5.0",
      "model_name": "FloatProgressModel",
      "state": {
       "_dom_classes": [],
       "_model_module": "@jupyter-widgets/controls",
       "_model_module_version": "1.5.0",
       "_model_name": "FloatProgressModel",
       "_view_count": null,
       "_view_module": "@jupyter-widgets/controls",
       "_view_module_version": "1.5.0",
       "_view_name": "ProgressView",
       "bar_style": "success",
       "description": "",
       "description_tooltip": null,
       "layout": "IPY_MODEL_ba8f6b6e291a4d6faae41e5e6921f4aa",
       "max": 136,
       "min": 0,
       "orientation": "horizontal",
       "style": "IPY_MODEL_ec381745899e4ce7900c973c72d2ff3b",
       "value": 136
      }
     },
     "be8bbaca794c4ab0b387c44fc3d2637f": {
      "model_module": "@jupyter-widgets/base",
      "model_module_version": "1.2.0",
      "model_name": "LayoutModel",
      "state": {
       "_model_module": "@jupyter-widgets/base",
       "_model_module_version": "1.2.0",
       "_model_name": "LayoutModel",
       "_view_count": null,
       "_view_module": "@jupyter-widgets/base",
       "_view_module_version": "1.2.0",
       "_view_name": "LayoutView",
       "align_content": null,
       "align_items": null,
       "align_self": null,
       "border": null,
       "bottom": null,
       "display": null,
       "flex": null,
       "flex_flow": null,
       "grid_area": null,
       "grid_auto_columns": null,
       "grid_auto_flow": null,
       "grid_auto_rows": null,
       "grid_column": null,
       "grid_gap": null,
       "grid_row": null,
       "grid_template_areas": null,
       "grid_template_columns": null,
       "grid_template_rows": null,
       "height": null,
       "justify_content": null,
       "justify_items": null,
       "left": null,
       "margin": null,
       "max_height": null,
       "max_width": null,
       "min_height": null,
       "min_width": null,
       "object_fit": null,
       "object_position": null,
       "order": null,
       "overflow": null,
       "overflow_x": null,
       "overflow_y": null,
       "padding": null,
       "right": null,
       "top": null,
       "visibility": null,
       "width": null
      }
     },
     "c0dcc3eeec934d289bf99c7d14bab090": {
      "model_module": "@jupyter-widgets/base",
      "model_module_version": "1.2.0",
      "model_name": "LayoutModel",
      "state": {
       "_model_module": "@jupyter-widgets/base",
       "_model_module_version": "1.2.0",
       "_model_name": "LayoutModel",
       "_view_count": null,
       "_view_module": "@jupyter-widgets/base",
       "_view_module_version": "1.2.0",
       "_view_name": "LayoutView",
       "align_content": null,
       "align_items": null,
       "align_self": null,
       "border": null,
       "bottom": null,
       "display": null,
       "flex": null,
       "flex_flow": null,
       "grid_area": null,
       "grid_auto_columns": null,
       "grid_auto_flow": null,
       "grid_auto_rows": null,
       "grid_column": null,
       "grid_gap": null,
       "grid_row": null,
       "grid_template_areas": null,
       "grid_template_columns": null,
       "grid_template_rows": null,
       "height": null,
       "justify_content": null,
       "justify_items": null,
       "left": null,
       "margin": null,
       "max_height": null,
       "max_width": null,
       "min_height": null,
       "min_width": null,
       "object_fit": null,
       "object_position": null,
       "order": null,
       "overflow": null,
       "overflow_x": null,
       "overflow_y": null,
       "padding": null,
       "right": null,
       "top": null,
       "visibility": null,
       "width": null
      }
     },
     "c1e8e53062324cf38fbd75eab01e066a": {
      "model_module": "@jupyter-widgets/base",
      "model_module_version": "1.2.0",
      "model_name": "LayoutModel",
      "state": {
       "_model_module": "@jupyter-widgets/base",
       "_model_module_version": "1.2.0",
       "_model_name": "LayoutModel",
       "_view_count": null,
       "_view_module": "@jupyter-widgets/base",
       "_view_module_version": "1.2.0",
       "_view_name": "LayoutView",
       "align_content": null,
       "align_items": null,
       "align_self": null,
       "border": null,
       "bottom": null,
       "display": null,
       "flex": null,
       "flex_flow": null,
       "grid_area": null,
       "grid_auto_columns": null,
       "grid_auto_flow": null,
       "grid_auto_rows": null,
       "grid_column": null,
       "grid_gap": null,
       "grid_row": null,
       "grid_template_areas": null,
       "grid_template_columns": null,
       "grid_template_rows": null,
       "height": null,
       "justify_content": null,
       "justify_items": null,
       "left": null,
       "margin": null,
       "max_height": null,
       "max_width": null,
       "min_height": null,
       "min_width": null,
       "object_fit": null,
       "object_position": null,
       "order": null,
       "overflow": null,
       "overflow_x": null,
       "overflow_y": null,
       "padding": null,
       "right": null,
       "top": null,
       "visibility": null,
       "width": null
      }
     },
     "c4ff773d63e34e0c93e23aa455a97958": {
      "model_module": "@jupyter-widgets/controls",
      "model_module_version": "1.5.0",
      "model_name": "ProgressStyleModel",
      "state": {
       "_model_module": "@jupyter-widgets/controls",
       "_model_module_version": "1.5.0",
       "_model_name": "ProgressStyleModel",
       "_view_count": null,
       "_view_module": "@jupyter-widgets/base",
       "_view_module_version": "1.2.0",
       "_view_name": "StyleView",
       "bar_color": null,
       "description_width": ""
      }
     },
     "c5de80b22af543edb57e65780298069e": {
      "model_module": "@jupyter-widgets/controls",
      "model_module_version": "1.5.0",
      "model_name": "DescriptionStyleModel",
      "state": {
       "_model_module": "@jupyter-widgets/controls",
       "_model_module_version": "1.5.0",
       "_model_name": "DescriptionStyleModel",
       "_view_count": null,
       "_view_module": "@jupyter-widgets/base",
       "_view_module_version": "1.2.0",
       "_view_name": "StyleView",
       "description_width": ""
      }
     },
     "d21724e187b94518ad3cc61f1daa73cf": {
      "model_module": "@jupyter-widgets/controls",
      "model_module_version": "1.5.0",
      "model_name": "HBoxModel",
      "state": {
       "_dom_classes": [],
       "_model_module": "@jupyter-widgets/controls",
       "_model_module_version": "1.5.0",
       "_model_name": "HBoxModel",
       "_view_count": null,
       "_view_module": "@jupyter-widgets/controls",
       "_view_module_version": "1.5.0",
       "_view_name": "HBoxView",
       "box_style": "",
       "children": [
        "IPY_MODEL_e13e1ad96b5648588ba7a5b2e3771179",
        "IPY_MODEL_7fb6ee0e688440bab23c07808e5cef8b",
        "IPY_MODEL_f9081778edc6436c9d1bc9a886ac922c"
       ],
       "layout": "IPY_MODEL_9901f18e7e5841b8bfcb918c432ef718"
      }
     },
     "d3b6e4a4aac943b79ba51bbacd77907e": {
      "model_module": "@jupyter-widgets/controls",
      "model_module_version": "1.5.0",
      "model_name": "DescriptionStyleModel",
      "state": {
       "_model_module": "@jupyter-widgets/controls",
       "_model_module_version": "1.5.0",
       "_model_name": "DescriptionStyleModel",
       "_view_count": null,
       "_view_module": "@jupyter-widgets/base",
       "_view_module_version": "1.2.0",
       "_view_name": "StyleView",
       "description_width": ""
      }
     },
     "d9f0d96d140a4115aadfdfc9ce5ba608": {
      "model_module": "@jupyter-widgets/controls",
      "model_module_version": "1.5.0",
      "model_name": "ProgressStyleModel",
      "state": {
       "_model_module": "@jupyter-widgets/controls",
       "_model_module_version": "1.5.0",
       "_model_name": "ProgressStyleModel",
       "_view_count": null,
       "_view_module": "@jupyter-widgets/base",
       "_view_module_version": "1.2.0",
       "_view_name": "StyleView",
       "bar_color": null,
       "description_width": ""
      }
     },
     "da88817e8aed48399b1948f8e004ee97": {
      "model_module": "@jupyter-widgets/base",
      "model_module_version": "1.2.0",
      "model_name": "LayoutModel",
      "state": {
       "_model_module": "@jupyter-widgets/base",
       "_model_module_version": "1.2.0",
       "_model_name": "LayoutModel",
       "_view_count": null,
       "_view_module": "@jupyter-widgets/base",
       "_view_module_version": "1.2.0",
       "_view_name": "LayoutView",
       "align_content": null,
       "align_items": null,
       "align_self": null,
       "border": null,
       "bottom": null,
       "display": null,
       "flex": null,
       "flex_flow": null,
       "grid_area": null,
       "grid_auto_columns": null,
       "grid_auto_flow": null,
       "grid_auto_rows": null,
       "grid_column": null,
       "grid_gap": null,
       "grid_row": null,
       "grid_template_areas": null,
       "grid_template_columns": null,
       "grid_template_rows": null,
       "height": null,
       "justify_content": null,
       "justify_items": null,
       "left": null,
       "margin": null,
       "max_height": null,
       "max_width": null,
       "min_height": null,
       "min_width": null,
       "object_fit": null,
       "object_position": null,
       "order": null,
       "overflow": null,
       "overflow_x": null,
       "overflow_y": null,
       "padding": null,
       "right": null,
       "top": null,
       "visibility": null,
       "width": null
      }
     },
     "dd68281fe7ea499882e5d23a5bbfb9f0": {
      "model_module": "@jupyter-widgets/base",
      "model_module_version": "1.2.0",
      "model_name": "LayoutModel",
      "state": {
       "_model_module": "@jupyter-widgets/base",
       "_model_module_version": "1.2.0",
       "_model_name": "LayoutModel",
       "_view_count": null,
       "_view_module": "@jupyter-widgets/base",
       "_view_module_version": "1.2.0",
       "_view_name": "LayoutView",
       "align_content": null,
       "align_items": null,
       "align_self": null,
       "border": null,
       "bottom": null,
       "display": null,
       "flex": null,
       "flex_flow": null,
       "grid_area": null,
       "grid_auto_columns": null,
       "grid_auto_flow": null,
       "grid_auto_rows": null,
       "grid_column": null,
       "grid_gap": null,
       "grid_row": null,
       "grid_template_areas": null,
       "grid_template_columns": null,
       "grid_template_rows": null,
       "height": null,
       "justify_content": null,
       "justify_items": null,
       "left": null,
       "margin": null,
       "max_height": null,
       "max_width": null,
       "min_height": null,
       "min_width": null,
       "object_fit": null,
       "object_position": null,
       "order": null,
       "overflow": null,
       "overflow_x": null,
       "overflow_y": null,
       "padding": null,
       "right": null,
       "top": null,
       "visibility": null,
       "width": null
      }
     },
     "de3e60ed24f04a7ab49a05b98b7cf0f0": {
      "model_module": "@jupyter-widgets/controls",
      "model_module_version": "1.5.0",
      "model_name": "DescriptionStyleModel",
      "state": {
       "_model_module": "@jupyter-widgets/controls",
       "_model_module_version": "1.5.0",
       "_model_name": "DescriptionStyleModel",
       "_view_count": null,
       "_view_module": "@jupyter-widgets/base",
       "_view_module_version": "1.2.0",
       "_view_name": "StyleView",
       "description_width": ""
      }
     },
     "e13e1ad96b5648588ba7a5b2e3771179": {
      "model_module": "@jupyter-widgets/controls",
      "model_module_version": "1.5.0",
      "model_name": "HTMLModel",
      "state": {
       "_dom_classes": [],
       "_model_module": "@jupyter-widgets/controls",
       "_model_module_version": "1.5.0",
       "_model_name": "HTMLModel",
       "_view_count": null,
       "_view_module": "@jupyter-widgets/controls",
       "_view_module_version": "1.5.0",
       "_view_name": "HTMLView",
       "description": "",
       "description_tooltip": null,
       "layout": "IPY_MODEL_1d83ae8940534922833de4d1fdd71216",
       "placeholder": "​",
       "style": "IPY_MODEL_46ab7441760642718f381e7f430e16a0",
       "value": "Downloading: 100%"
      }
     },
     "e3e17f880bab4d47a1531bebac861fda": {
      "model_module": "@jupyter-widgets/controls",
      "model_module_version": "1.5.0",
      "model_name": "HTMLModel",
      "state": {
       "_dom_classes": [],
       "_model_module": "@jupyter-widgets/controls",
       "_model_module_version": "1.5.0",
       "_model_name": "HTMLModel",
       "_view_count": null,
       "_view_module": "@jupyter-widgets/controls",
       "_view_module_version": "1.5.0",
       "_view_name": "HTMLView",
       "description": "",
       "description_tooltip": null,
       "layout": "IPY_MODEL_a3f3db4032b54ac49421d5cbd31a9533",
       "placeholder": "​",
       "style": "IPY_MODEL_35cb92ba1b2d4932bc3a0b0640f71b0c",
       "value": " 580/580 [00:00&lt;00:00, 23.1kB/s]"
      }
     },
     "ec381745899e4ce7900c973c72d2ff3b": {
      "model_module": "@jupyter-widgets/controls",
      "model_module_version": "1.5.0",
      "model_name": "ProgressStyleModel",
      "state": {
       "_model_module": "@jupyter-widgets/controls",
       "_model_module_version": "1.5.0",
       "_model_name": "ProgressStyleModel",
       "_view_count": null,
       "_view_module": "@jupyter-widgets/base",
       "_view_module_version": "1.2.0",
       "_view_name": "StyleView",
       "bar_color": null,
       "description_width": ""
      }
     },
     "f3e6058e180d40b8bc25ff82940789f1": {
      "model_module": "@jupyter-widgets/base",
      "model_module_version": "1.2.0",
      "model_name": "LayoutModel",
      "state": {
       "_model_module": "@jupyter-widgets/base",
       "_model_module_version": "1.2.0",
       "_model_name": "LayoutModel",
       "_view_count": null,
       "_view_module": "@jupyter-widgets/base",
       "_view_module_version": "1.2.0",
       "_view_name": "LayoutView",
       "align_content": null,
       "align_items": null,
       "align_self": null,
       "border": null,
       "bottom": null,
       "display": null,
       "flex": null,
       "flex_flow": null,
       "grid_area": null,
       "grid_auto_columns": null,
       "grid_auto_flow": null,
       "grid_auto_rows": null,
       "grid_column": null,
       "grid_gap": null,
       "grid_row": null,
       "grid_template_areas": null,
       "grid_template_columns": null,
       "grid_template_rows": null,
       "height": null,
       "justify_content": null,
       "justify_items": null,
       "left": null,
       "margin": null,
       "max_height": null,
       "max_width": null,
       "min_height": null,
       "min_width": null,
       "object_fit": null,
       "object_position": null,
       "order": null,
       "overflow": null,
       "overflow_x": null,
       "overflow_y": null,
       "padding": null,
       "right": null,
       "top": null,
       "visibility": null,
       "width": null
      }
     },
     "f7cdf444f3c041cda9b6bd5a47ca87c5": {
      "model_module": "@jupyter-widgets/controls",
      "model_module_version": "1.5.0",
      "model_name": "VBoxModel",
      "state": {
       "_dom_classes": [],
       "_model_module": "@jupyter-widgets/controls",
       "_model_module_version": "1.5.0",
       "_model_name": "VBoxModel",
       "_view_count": null,
       "_view_module": "@jupyter-widgets/controls",
       "_view_module_version": "1.5.0",
       "_view_name": "VBoxView",
       "box_style": "",
       "children": [
        "IPY_MODEL_5ffb53b010e948a0918366a7721dd7a9",
        "IPY_MODEL_86af7db3cea442beb67da28063f15ed6"
       ],
       "layout": "IPY_MODEL_b6f3605957844ac0b026ef0593befbae"
      }
     },
     "f836cfd56e0d4d7188f1b263a5845bff": {
      "model_module": "@jupyter-widgets/base",
      "model_module_version": "1.2.0",
      "model_name": "LayoutModel",
      "state": {
       "_model_module": "@jupyter-widgets/base",
       "_model_module_version": "1.2.0",
       "_model_name": "LayoutModel",
       "_view_count": null,
       "_view_module": "@jupyter-widgets/base",
       "_view_module_version": "1.2.0",
       "_view_name": "LayoutView",
       "align_content": null,
       "align_items": null,
       "align_self": null,
       "border": null,
       "bottom": null,
       "display": null,
       "flex": null,
       "flex_flow": null,
       "grid_area": null,
       "grid_auto_columns": null,
       "grid_auto_flow": null,
       "grid_auto_rows": null,
       "grid_column": null,
       "grid_gap": null,
       "grid_row": null,
       "grid_template_areas": null,
       "grid_template_columns": null,
       "grid_template_rows": null,
       "height": null,
       "justify_content": null,
       "justify_items": null,
       "left": null,
       "margin": null,
       "max_height": null,
       "max_width": null,
       "min_height": null,
       "min_width": null,
       "object_fit": null,
       "object_position": null,
       "order": null,
       "overflow": null,
       "overflow_x": null,
       "overflow_y": null,
       "padding": null,
       "right": null,
       "top": null,
       "visibility": null,
       "width": null
      }
     },
     "f9081778edc6436c9d1bc9a886ac922c": {
      "model_module": "@jupyter-widgets/controls",
      "model_module_version": "1.5.0",
      "model_name": "HTMLModel",
      "state": {
       "_dom_classes": [],
       "_model_module": "@jupyter-widgets/controls",
       "_model_module_version": "1.5.0",
       "_model_name": "HTMLModel",
       "_view_count": null,
       "_view_module": "@jupyter-widgets/controls",
       "_view_module_version": "1.5.0",
       "_view_name": "HTMLView",
       "description": "",
       "description_tooltip": null,
       "layout": "IPY_MODEL_f3e6058e180d40b8bc25ff82940789f1",
       "placeholder": "​",
       "style": "IPY_MODEL_842a840396ab4cefb93cc2733bf00cf7",
       "value": " 833M/833M [00:19&lt;00:00, 43.1MB/s]"
      }
     },
     "fb6b7fc69b2549ab9d80d71017422178": {
      "model_module": "@jupyter-widgets/base",
      "model_module_version": "1.2.0",
      "model_name": "LayoutModel",
      "state": {
       "_model_module": "@jupyter-widgets/base",
       "_model_module_version": "1.2.0",
       "_model_name": "LayoutModel",
       "_view_count": null,
       "_view_module": "@jupyter-widgets/base",
       "_view_module_version": "1.2.0",
       "_view_name": "LayoutView",
       "align_content": null,
       "align_items": null,
       "align_self": null,
       "border": null,
       "bottom": null,
       "display": null,
       "flex": null,
       "flex_flow": null,
       "grid_area": null,
       "grid_auto_columns": null,
       "grid_auto_flow": null,
       "grid_auto_rows": null,
       "grid_column": null,
       "grid_gap": null,
       "grid_row": null,
       "grid_template_areas": null,
       "grid_template_columns": null,
       "grid_template_rows": null,
       "height": null,
       "justify_content": null,
       "justify_items": null,
       "left": null,
       "margin": null,
       "max_height": null,
       "max_width": null,
       "min_height": null,
       "min_width": null,
       "object_fit": null,
       "object_position": null,
       "order": null,
       "overflow": null,
       "overflow_x": null,
       "overflow_y": null,
       "padding": null,
       "right": null,
       "top": null,
       "visibility": null,
       "width": null
      }
     },
     "ff0d93c0f2a54cae8698028db31d1454": {
      "model_module": "@jupyter-widgets/controls",
      "model_module_version": "1.5.0",
      "model_name": "DescriptionStyleModel",
      "state": {
       "_model_module": "@jupyter-widgets/controls",
       "_model_module_version": "1.5.0",
       "_model_name": "DescriptionStyleModel",
       "_view_count": null,
       "_view_module": "@jupyter-widgets/base",
       "_view_module_version": "1.2.0",
       "_view_name": "StyleView",
       "description_width": ""
      }
     }
    },
    "version_major": 2,
    "version_minor": 0
   }
  }
 },
 "nbformat": 4,
 "nbformat_minor": 5
}
