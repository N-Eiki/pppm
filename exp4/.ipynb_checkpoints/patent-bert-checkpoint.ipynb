{
 "cells": [
  {
   "cell_type": "markdown",
   "id": "70f90ffb",
   "metadata": {
    "id": "e460cbb5",
    "papermill": {
     "duration": 0.027808,
     "end_time": "2022-03-22T09:40:01.410751",
     "exception": false,
     "start_time": "2022-03-22T09:40:01.382943",
     "status": "completed"
    },
    "tags": []
   },
   "source": [
    "# About this notebook\n",
    "- Deberta-v3-large starter code\n",
    "- pip wheels is [here](https://www.kaggle.com/code/yasufuminakama/pppm-pip-wheels)\n",
    "- Inference notebook is [here](https://www.kaggle.com/code/yasufuminakama/pppm-deberta-v3-large-baseline-inference)\n",
    "\n",
    "If this notebook is helpful, feel free to upvote :)"
   ]
  },
  {
   "cell_type": "code",
   "execution_count": 1,
   "id": "4b6835d2-9fc4-4e64-8eb9-1f8eebb143bf",
   "metadata": {},
   "outputs": [],
   "source": [
    "import os\n",
    "import time\n",
    "# wait_to_make = \"trained_list/funnnel_trans.txt\"\n",
    "# count = 0\n",
    "# while 1:\n",
    "#     if os.path.exists(wait_to_make):\n",
    "#         break\n",
    "#     print(f'sleep {count} h')\n",
    "#     time.sleep(3600)\n",
    "#     count+=1\n",
    "    \n",
    "local = True"
   ]
  },
  {
   "cell_type": "code",
   "execution_count": 2,
   "id": "7df63313-5526-4691-94ae-12ea4bf25bde",
   "metadata": {},
   "outputs": [],
   "source": [
    "EXP_NAME = \"microsoft-mpnet-base-transformer\"\n"
   ]
  },
  {
   "cell_type": "code",
   "execution_count": 3,
   "id": "d14ce8ab",
   "metadata": {},
   "outputs": [],
   "source": [
    "# !nvidia-smi"
   ]
  },
  {
   "cell_type": "code",
   "execution_count": 4,
   "id": "7d511eeb",
   "metadata": {},
   "outputs": [],
   "source": [
    "# ! pip install torch==1.9.0+cu111 torchvision==0.10.0+cu111 torchaudio===0.9.0 -f https://download.pytorch.org/whl/torch_stable.html"
   ]
  },
  {
   "cell_type": "code",
   "execution_count": 5,
   "id": "c13809d2",
   "metadata": {},
   "outputs": [
    {
     "name": "stdout",
     "output_type": "stream",
     "text": [
      "1.9.0+cu111\n",
      "True\n"
     ]
    }
   ],
   "source": [
    "import torch\n",
    "print(torch.__version__)\n",
    "print(torch.cuda.is_available())"
   ]
  },
  {
   "cell_type": "markdown",
   "id": "263c913e",
   "metadata": {
    "papermill": {
     "duration": 0.024515,
     "end_time": "2022-03-22T09:40:01.460332",
     "exception": false,
     "start_time": "2022-03-22T09:40:01.435817",
     "status": "completed"
    },
    "tags": []
   },
   "source": [
    "# Directory settings"
   ]
  },
  {
   "cell_type": "code",
   "execution_count": 6,
   "id": "46d8c76e",
   "metadata": {
    "id": "fa3b873b",
    "papermill": {
     "duration": 0.041313,
     "end_time": "2022-03-22T09:40:01.526545",
     "exception": false,
     "start_time": "2022-03-22T09:40:01.485232",
     "status": "completed"
    },
    "tags": []
   },
   "outputs": [],
   "source": [
    "# ====================================================\n",
    "# Directory settings\n",
    "# ====================================================\n",
    "\n",
    "import os\n",
    "import datetime\n",
    "if local:\n",
    "    INPUT_DIR = '../../data/us-patent-phrase-to-phrase-matching/'\n",
    "else:\n",
    "    INPUT_DIR = '../../data/us-patent-phrase-to-phrase-matching/'\n",
    "\n",
    "OUTPUT_DIR = f'./output/{EXP_NAME}/'\n",
    "# if not os.path.exists(OUTPUT_DIR):\n",
    "os.makedirs(OUTPUT_DIR, exist_ok=True)\n"
   ]
  },
  {
   "cell_type": "markdown",
   "id": "c75f6918",
   "metadata": {
    "id": "1d0c4430",
    "papermill": {
     "duration": 0.024609,
     "end_time": "2022-03-22T09:40:01.576366",
     "exception": false,
     "start_time": "2022-03-22T09:40:01.551757",
     "status": "completed"
    },
    "tags": []
   },
   "source": [
    "# CFG"
   ]
  },
  {
   "cell_type": "code",
   "execution_count": 7,
   "id": "80d58afe",
   "metadata": {
    "id": "48dd82bb",
    "papermill": {
     "duration": 0.033949,
     "end_time": "2022-03-22T09:40:01.634977",
     "exception": false,
     "start_time": "2022-03-22T09:40:01.601028",
     "status": "completed"
    },
    "tags": []
   },
   "outputs": [],
   "source": [
    "# ====================================================\n",
    "# CFG\n",
    "# ====================================================\n",
    "class CFG:\n",
    "    wandb=False\n",
    "    competition='PPPM'\n",
    "    _wandb_kernel='nakama'\n",
    "    debug=False\n",
    "    apex=True\n",
    "    print_freq=100\n",
    "    num_workers=4\n",
    "    # model=\"microsoft/deberta-v3-large\"\n",
    "    model = \"microsoft/mpnet-base\"\n",
    "    # size = \"large\n",
    "    # model = f\"{model}-{size}\"\n",
    "    if \"small\" in model:\n",
    "        hidden_state = hiddden_state_fix = 512\n",
    "    elif \"base\" in model or \"medium\" in model:\n",
    "        hidden_state = hiddden_state_fix = 768\n",
    "    elif \"large\" in model:\n",
    "        hidden_state = hiddden_state_fix = 1024\n",
    "    elif \"xlarge\" in model:\n",
    "        hidden_state =  1536\n",
    "        \n",
    "    scheduler='cosine' # ['linear', 'cosine']\n",
    "    batch_scheduler=True\n",
    "    num_cycles=0.5\n",
    "    num_warmup_steps=0\n",
    "    epochs=8\n",
    "    encoder_lr=2e-5\n",
    "    decoder_lr=2e-5\n",
    "    min_lr=1e-6\n",
    "    eps=1e-6\n",
    "    betas=(0.9, 0.999)\n",
    "    \n",
    "    batch_size=16\n",
    "    \n",
    "    \n",
    "    fc_dropout=0.2\n",
    "    target_size=1\n",
    "    max_len=512\n",
    "    weight_decay=0.01\n",
    "    gradient_accumulation_steps=1\n",
    "    max_grad_norm=1000\n",
    "    seed=42\n",
    "    n_fold=4\n",
    "    trn_fold=[i for i in range(n_fold)]\n",
    "    train=True\n",
    "    \n",
    "if CFG.debug:\n",
    "    CFG.epochs = 2\n",
    "    CFG.trn_fold = [0]"
   ]
  },
  {
   "cell_type": "code",
   "execution_count": 8,
   "id": "b7de2887",
   "metadata": {
    "id": "b88c983e",
    "papermill": {
     "duration": 8.873453,
     "end_time": "2022-03-22T09:40:10.532922",
     "exception": false,
     "start_time": "2022-03-22T09:40:01.659469",
     "status": "completed"
    },
    "tags": []
   },
   "outputs": [],
   "source": [
    "# ====================================================\n",
    "# wandb\n",
    "# ====================================================\n",
    "if CFG.wandb:\n",
    "    \n",
    "    import wandb\n",
    "\n",
    "    try:\n",
    "        from kaggle_secrets import UserSecretsClient\n",
    "        user_secrets = UserSecretsClient()\n",
    "        secret_value_0 = user_secrets.get_secret(\"wandb_api\")\n",
    "        wandb.login(key=secret_value_0)\n",
    "        anony = None\n",
    "    except:\n",
    "        anony = \"must\"\n",
    "        print('If you want to use your W&B account, go to Add-ons -> Secrets and provide your W&B access token. Use the Label name as wandb_api. \\nGet your W&B access token from here: https://wandb.ai/authorize')\n",
    "\n",
    "\n",
    "    def class2dict(f):\n",
    "        return dict((name, getattr(f, name)) for name in dir(f) if not name.startswith('__'))\n",
    "\n",
    "    run = wandb.init(project='PPPM-Public', \n",
    "                     name=CFG.model,\n",
    "                     config=class2dict(CFG),\n",
    "                     group=CFG.model,\n",
    "                     job_type=\"train\",\n",
    "                     anonymous=anony)"
   ]
  },
  {
   "cell_type": "code",
   "execution_count": 9,
   "id": "9f7d6f8c",
   "metadata": {},
   "outputs": [],
   "source": [
    "# !pip install transformers==4.16.2\n",
    "# !pip install tokenizers==0.11.0"
   ]
  },
  {
   "cell_type": "markdown",
   "id": "5ed638be",
   "metadata": {
    "id": "f2ed8ef2",
    "papermill": {
     "duration": 0.038261,
     "end_time": "2022-03-22T09:40:10.626926",
     "exception": false,
     "start_time": "2022-03-22T09:40:10.588665",
     "status": "completed"
    },
    "tags": []
   },
   "source": [
    "# Library"
   ]
  },
  {
   "cell_type": "code",
   "execution_count": 10,
   "id": "ebee5bbe",
   "metadata": {
    "executionInfo": {
     "elapsed": 20123,
     "status": "ok",
     "timestamp": 1644920080956,
     "user": {
      "displayName": "Yasufumi Nakama",
      "photoUrl": "https://lh3.googleusercontent.com/a/default-user=s64",
      "userId": "17486303986134302670"
     },
     "user_tz": -540
    },
    "id": "35916341",
    "outputId": "06fa0ab8-a380-4f54-a98d-b7015b79d9e2",
    "papermill": {
     "duration": 26.143536,
     "end_time": "2022-03-22T09:40:36.798853",
     "exception": false,
     "start_time": "2022-03-22T09:40:10.655317",
     "status": "completed"
    },
    "tags": []
   },
   "outputs": [
    {
     "name": "stdout",
     "output_type": "stream",
     "text": [
      "torch.__version__: 1.9.0+cu111\n",
      "tokenizers.__version__: 0.11.0\n",
      "transformers.__version__: 4.16.2\n",
      "env: TOKENIZERS_PARALLELISM=true\n",
      "cuda\n"
     ]
    }
   ],
   "source": [
    "# ====================================================\n",
    "# Library\n",
    "# ====================================================\n",
    "import os\n",
    "import gc\n",
    "import re\n",
    "import ast\n",
    "import sys\n",
    "import copy\n",
    "import json\n",
    "import time\n",
    "import math\n",
    "import shutil\n",
    "import string\n",
    "import pickle\n",
    "import random\n",
    "import joblib\n",
    "import itertools\n",
    "from pathlib import Path\n",
    "import warnings\n",
    "warnings.filterwarnings(\"ignore\")\n",
    "\n",
    "import scipy as sp\n",
    "import numpy as np\n",
    "import pandas as pd\n",
    "pd.set_option('display.max_rows', 500)\n",
    "pd.set_option('display.max_columns', 500)\n",
    "pd.set_option('display.width', 1000)\n",
    "from tqdm.auto import tqdm\n",
    "from sklearn.metrics import f1_score\n",
    "from sklearn.model_selection import StratifiedKFold, GroupKFold, KFold\n",
    "\n",
    "import torch\n",
    "print(f\"torch.__version__: {torch.__version__}\")\n",
    "import torch.nn as nn\n",
    "from torch.nn import Parameter\n",
    "import torch.nn.functional as F\n",
    "from torch.optim import Adam, SGD, AdamW\n",
    "from torch.utils.data import DataLoader, Dataset\n",
    "\n",
    "import tokenizers\n",
    "import transformers\n",
    "print(f\"tokenizers.__version__: {tokenizers.__version__}\")\n",
    "print(f\"transformers.__version__: {transformers.__version__}\")\n",
    "from transformers import AutoTokenizer, AutoModel, AutoConfig,AutoModelForTokenClassification\n",
    "from transformers import get_linear_schedule_with_warmup, get_cosine_schedule_with_warmup\n",
    "%env TOKENIZERS_PARALLELISM=true\n",
    "\n",
    "device = torch.device('cuda' if torch.cuda.is_available() else 'cpu')\n",
    "\n",
    "# device = torch.device('cpu')\n",
    "print(device)\n",
    "\n",
    "start = time.time()"
   ]
  },
  {
   "cell_type": "markdown",
   "id": "dcc0106a",
   "metadata": {
    "id": "fd586614",
    "papermill": {
     "duration": 0.032888,
     "end_time": "2022-03-22T09:40:36.865209",
     "exception": false,
     "start_time": "2022-03-22T09:40:36.832321",
     "status": "completed"
    },
    "tags": []
   },
   "source": [
    "# Utils"
   ]
  },
  {
   "cell_type": "code",
   "execution_count": 11,
   "id": "540df385",
   "metadata": {
    "id": "d5c0ccc6",
    "papermill": {
     "duration": 0.21551,
     "end_time": "2022-03-22T09:40:37.116848",
     "exception": false,
     "start_time": "2022-03-22T09:40:36.901338",
     "status": "completed"
    },
    "tags": []
   },
   "outputs": [],
   "source": [
    "# ====================================================\n",
    "# Utils\n",
    "# ====================================================\n",
    "def get_score(y_true, y_pred):\n",
    "    score = sp.stats.pearsonr(y_true, y_pred)[0]\n",
    "    return score\n",
    "\n",
    "\n",
    "def get_logger(filename=OUTPUT_DIR+'train'):\n",
    "    from logging import getLogger, INFO, StreamHandler, FileHandler, Formatter\n",
    "    logger = getLogger(__name__)\n",
    "    logger.setLevel(INFO)\n",
    "    handler1 = StreamHandler()\n",
    "    handler1.setFormatter(Formatter(\"%(message)s\"))\n",
    "    handler2 = FileHandler(filename=f\"{filename}.log\")\n",
    "    handler2.setFormatter(Formatter(\"%(message)s\"))\n",
    "    logger.addHandler(handler1)\n",
    "    logger.addHandler(handler2)\n",
    "    return logger\n",
    "\n",
    "LOGGER = get_logger()\n",
    "\n",
    "def seed_everything(seed=42):\n",
    "    random.seed(seed)\n",
    "    os.environ['PYTHONHASHSEED'] = str(seed)\n",
    "    np.random.seed(seed)\n",
    "    torch.manual_seed(seed)\n",
    "    torch.cuda.manual_seed(seed)\n",
    "    torch.backends.cudnn.deterministic = True\n",
    "    \n",
    "seed_everything(seed=42)"
   ]
  },
  {
   "cell_type": "markdown",
   "id": "32170fde",
   "metadata": {
    "id": "cb3d8e1e",
    "papermill": {
     "duration": 0.032614,
     "end_time": "2022-03-22T09:40:37.184739",
     "exception": false,
     "start_time": "2022-03-22T09:40:37.152125",
     "status": "completed"
    },
    "tags": []
   },
   "source": [
    "# Data Loading"
   ]
  },
  {
   "cell_type": "code",
   "execution_count": 12,
   "id": "a903a50f",
   "metadata": {
    "executionInfo": {
     "elapsed": 2627,
     "status": "ok",
     "timestamp": 1644920084001,
     "user": {
      "displayName": "Yasufumi Nakama",
      "photoUrl": "https://lh3.googleusercontent.com/a/default-user=s64",
      "userId": "17486303986134302670"
     },
     "user_tz": -540
    },
    "id": "bef012d3",
    "outputId": "d4d60dbc-510c-4f34-8d64-dd1d88c4808c",
    "papermill": {
     "duration": 0.154829,
     "end_time": "2022-03-22T09:40:37.374453",
     "exception": false,
     "start_time": "2022-03-22T09:40:37.219624",
     "status": "completed"
    },
    "tags": []
   },
   "outputs": [
    {
     "name": "stdout",
     "output_type": "stream",
     "text": [
      "train.shape: (36473, 5)\n",
      "test.shape: (36, 4)\n",
      "submission.shape: (36, 2)\n"
     ]
    },
    {
     "data": {
      "text/html": [
       "<div>\n",
       "<style scoped>\n",
       "    .dataframe tbody tr th:only-of-type {\n",
       "        vertical-align: middle;\n",
       "    }\n",
       "\n",
       "    .dataframe tbody tr th {\n",
       "        vertical-align: top;\n",
       "    }\n",
       "\n",
       "    .dataframe thead th {\n",
       "        text-align: right;\n",
       "    }\n",
       "</style>\n",
       "<table border=\"1\" class=\"dataframe\">\n",
       "  <thead>\n",
       "    <tr style=\"text-align: right;\">\n",
       "      <th></th>\n",
       "      <th>id</th>\n",
       "      <th>anchor</th>\n",
       "      <th>target</th>\n",
       "      <th>context</th>\n",
       "      <th>score</th>\n",
       "    </tr>\n",
       "  </thead>\n",
       "  <tbody>\n",
       "    <tr>\n",
       "      <th>0</th>\n",
       "      <td>37d61fd2272659b1</td>\n",
       "      <td>abatement</td>\n",
       "      <td>abatement of pollution</td>\n",
       "      <td>A47</td>\n",
       "      <td>0.50</td>\n",
       "    </tr>\n",
       "    <tr>\n",
       "      <th>1</th>\n",
       "      <td>7b9652b17b68b7a4</td>\n",
       "      <td>abatement</td>\n",
       "      <td>act of abating</td>\n",
       "      <td>A47</td>\n",
       "      <td>0.75</td>\n",
       "    </tr>\n",
       "    <tr>\n",
       "      <th>2</th>\n",
       "      <td>36d72442aefd8232</td>\n",
       "      <td>abatement</td>\n",
       "      <td>active catalyst</td>\n",
       "      <td>A47</td>\n",
       "      <td>0.25</td>\n",
       "    </tr>\n",
       "    <tr>\n",
       "      <th>3</th>\n",
       "      <td>5296b0c19e1ce60e</td>\n",
       "      <td>abatement</td>\n",
       "      <td>eliminating process</td>\n",
       "      <td>A47</td>\n",
       "      <td>0.50</td>\n",
       "    </tr>\n",
       "    <tr>\n",
       "      <th>4</th>\n",
       "      <td>54c1e3b9184cb5b6</td>\n",
       "      <td>abatement</td>\n",
       "      <td>forest region</td>\n",
       "      <td>A47</td>\n",
       "      <td>0.00</td>\n",
       "    </tr>\n",
       "  </tbody>\n",
       "</table>\n",
       "</div>"
      ],
      "text/plain": [
       "                 id     anchor                  target context  score\n",
       "0  37d61fd2272659b1  abatement  abatement of pollution     A47   0.50\n",
       "1  7b9652b17b68b7a4  abatement          act of abating     A47   0.75\n",
       "2  36d72442aefd8232  abatement         active catalyst     A47   0.25\n",
       "3  5296b0c19e1ce60e  abatement     eliminating process     A47   0.50\n",
       "4  54c1e3b9184cb5b6  abatement           forest region     A47   0.00"
      ]
     },
     "metadata": {},
     "output_type": "display_data"
    },
    {
     "data": {
      "text/html": [
       "<div>\n",
       "<style scoped>\n",
       "    .dataframe tbody tr th:only-of-type {\n",
       "        vertical-align: middle;\n",
       "    }\n",
       "\n",
       "    .dataframe tbody tr th {\n",
       "        vertical-align: top;\n",
       "    }\n",
       "\n",
       "    .dataframe thead th {\n",
       "        text-align: right;\n",
       "    }\n",
       "</style>\n",
       "<table border=\"1\" class=\"dataframe\">\n",
       "  <thead>\n",
       "    <tr style=\"text-align: right;\">\n",
       "      <th></th>\n",
       "      <th>id</th>\n",
       "      <th>anchor</th>\n",
       "      <th>target</th>\n",
       "      <th>context</th>\n",
       "    </tr>\n",
       "  </thead>\n",
       "  <tbody>\n",
       "    <tr>\n",
       "      <th>0</th>\n",
       "      <td>4112d61851461f60</td>\n",
       "      <td>opc drum</td>\n",
       "      <td>inorganic photoconductor drum</td>\n",
       "      <td>G02</td>\n",
       "    </tr>\n",
       "    <tr>\n",
       "      <th>1</th>\n",
       "      <td>09e418c93a776564</td>\n",
       "      <td>adjust gas flow</td>\n",
       "      <td>altering gas flow</td>\n",
       "      <td>F23</td>\n",
       "    </tr>\n",
       "    <tr>\n",
       "      <th>2</th>\n",
       "      <td>36baf228038e314b</td>\n",
       "      <td>lower trunnion</td>\n",
       "      <td>lower locating</td>\n",
       "      <td>B60</td>\n",
       "    </tr>\n",
       "    <tr>\n",
       "      <th>3</th>\n",
       "      <td>1f37ead645e7f0c8</td>\n",
       "      <td>cap component</td>\n",
       "      <td>upper portion</td>\n",
       "      <td>D06</td>\n",
       "    </tr>\n",
       "    <tr>\n",
       "      <th>4</th>\n",
       "      <td>71a5b6ad068d531f</td>\n",
       "      <td>neural stimulation</td>\n",
       "      <td>artificial neural network</td>\n",
       "      <td>H04</td>\n",
       "    </tr>\n",
       "  </tbody>\n",
       "</table>\n",
       "</div>"
      ],
      "text/plain": [
       "                 id              anchor                         target context\n",
       "0  4112d61851461f60            opc drum  inorganic photoconductor drum     G02\n",
       "1  09e418c93a776564     adjust gas flow              altering gas flow     F23\n",
       "2  36baf228038e314b      lower trunnion                 lower locating     B60\n",
       "3  1f37ead645e7f0c8       cap component                  upper portion     D06\n",
       "4  71a5b6ad068d531f  neural stimulation      artificial neural network     H04"
      ]
     },
     "metadata": {},
     "output_type": "display_data"
    },
    {
     "data": {
      "text/html": [
       "<div>\n",
       "<style scoped>\n",
       "    .dataframe tbody tr th:only-of-type {\n",
       "        vertical-align: middle;\n",
       "    }\n",
       "\n",
       "    .dataframe tbody tr th {\n",
       "        vertical-align: top;\n",
       "    }\n",
       "\n",
       "    .dataframe thead th {\n",
       "        text-align: right;\n",
       "    }\n",
       "</style>\n",
       "<table border=\"1\" class=\"dataframe\">\n",
       "  <thead>\n",
       "    <tr style=\"text-align: right;\">\n",
       "      <th></th>\n",
       "      <th>id</th>\n",
       "      <th>score</th>\n",
       "    </tr>\n",
       "  </thead>\n",
       "  <tbody>\n",
       "    <tr>\n",
       "      <th>0</th>\n",
       "      <td>4112d61851461f60</td>\n",
       "      <td>0</td>\n",
       "    </tr>\n",
       "    <tr>\n",
       "      <th>1</th>\n",
       "      <td>09e418c93a776564</td>\n",
       "      <td>0</td>\n",
       "    </tr>\n",
       "    <tr>\n",
       "      <th>2</th>\n",
       "      <td>36baf228038e314b</td>\n",
       "      <td>0</td>\n",
       "    </tr>\n",
       "    <tr>\n",
       "      <th>3</th>\n",
       "      <td>1f37ead645e7f0c8</td>\n",
       "      <td>0</td>\n",
       "    </tr>\n",
       "    <tr>\n",
       "      <th>4</th>\n",
       "      <td>71a5b6ad068d531f</td>\n",
       "      <td>0</td>\n",
       "    </tr>\n",
       "  </tbody>\n",
       "</table>\n",
       "</div>"
      ],
      "text/plain": [
       "                 id  score\n",
       "0  4112d61851461f60      0\n",
       "1  09e418c93a776564      0\n",
       "2  36baf228038e314b      0\n",
       "3  1f37ead645e7f0c8      0\n",
       "4  71a5b6ad068d531f      0"
      ]
     },
     "metadata": {},
     "output_type": "display_data"
    }
   ],
   "source": [
    "# ====================================================\n",
    "# Data Loading\n",
    "# ====================================================\n",
    "train = pd.read_csv(INPUT_DIR+'train.csv')\n",
    "test = pd.read_csv(INPUT_DIR+'test.csv')\n",
    "submission = pd.read_csv(INPUT_DIR+'sample_submission.csv')\n",
    "print(f\"train.shape: {train.shape}\")\n",
    "print(f\"test.shape: {test.shape}\")\n",
    "print(f\"submission.shape: {submission.shape}\")\n",
    "display(train.head())\n",
    "display(test.head())\n",
    "display(submission.head())"
   ]
  },
  {
   "cell_type": "code",
   "execution_count": 13,
   "id": "fa85ac77",
   "metadata": {
    "papermill": {
     "duration": 0.848818,
     "end_time": "2022-03-22T09:40:38.260255",
     "exception": false,
     "start_time": "2022-03-22T09:40:37.411437",
     "status": "completed"
    },
    "tags": []
   },
   "outputs": [
    {
     "data": {
      "text/html": [
       "<div>\n",
       "<style scoped>\n",
       "    .dataframe tbody tr th:only-of-type {\n",
       "        vertical-align: middle;\n",
       "    }\n",
       "\n",
       "    .dataframe tbody tr th {\n",
       "        vertical-align: top;\n",
       "    }\n",
       "\n",
       "    .dataframe thead th {\n",
       "        text-align: right;\n",
       "    }\n",
       "</style>\n",
       "<table border=\"1\" class=\"dataframe\">\n",
       "  <thead>\n",
       "    <tr style=\"text-align: right;\">\n",
       "      <th></th>\n",
       "      <th>id</th>\n",
       "      <th>anchor</th>\n",
       "      <th>target</th>\n",
       "      <th>context</th>\n",
       "      <th>score</th>\n",
       "      <th>context_text</th>\n",
       "    </tr>\n",
       "  </thead>\n",
       "  <tbody>\n",
       "    <tr>\n",
       "      <th>0</th>\n",
       "      <td>37d61fd2272659b1</td>\n",
       "      <td>abatement</td>\n",
       "      <td>abatement of pollution</td>\n",
       "      <td>A47</td>\n",
       "      <td>0.50</td>\n",
       "      <td>HUMAN NECESSITIES. FURNITURE; DOMESTIC ARTICLE...</td>\n",
       "    </tr>\n",
       "    <tr>\n",
       "      <th>1</th>\n",
       "      <td>7b9652b17b68b7a4</td>\n",
       "      <td>abatement</td>\n",
       "      <td>act of abating</td>\n",
       "      <td>A47</td>\n",
       "      <td>0.75</td>\n",
       "      <td>HUMAN NECESSITIES. FURNITURE; DOMESTIC ARTICLE...</td>\n",
       "    </tr>\n",
       "    <tr>\n",
       "      <th>2</th>\n",
       "      <td>36d72442aefd8232</td>\n",
       "      <td>abatement</td>\n",
       "      <td>active catalyst</td>\n",
       "      <td>A47</td>\n",
       "      <td>0.25</td>\n",
       "      <td>HUMAN NECESSITIES. FURNITURE; DOMESTIC ARTICLE...</td>\n",
       "    </tr>\n",
       "    <tr>\n",
       "      <th>3</th>\n",
       "      <td>5296b0c19e1ce60e</td>\n",
       "      <td>abatement</td>\n",
       "      <td>eliminating process</td>\n",
       "      <td>A47</td>\n",
       "      <td>0.50</td>\n",
       "      <td>HUMAN NECESSITIES. FURNITURE; DOMESTIC ARTICLE...</td>\n",
       "    </tr>\n",
       "    <tr>\n",
       "      <th>4</th>\n",
       "      <td>54c1e3b9184cb5b6</td>\n",
       "      <td>abatement</td>\n",
       "      <td>forest region</td>\n",
       "      <td>A47</td>\n",
       "      <td>0.00</td>\n",
       "      <td>HUMAN NECESSITIES. FURNITURE; DOMESTIC ARTICLE...</td>\n",
       "    </tr>\n",
       "  </tbody>\n",
       "</table>\n",
       "</div>"
      ],
      "text/plain": [
       "                 id     anchor                  target context  score                                       context_text\n",
       "0  37d61fd2272659b1  abatement  abatement of pollution     A47   0.50  HUMAN NECESSITIES. FURNITURE; DOMESTIC ARTICLE...\n",
       "1  7b9652b17b68b7a4  abatement          act of abating     A47   0.75  HUMAN NECESSITIES. FURNITURE; DOMESTIC ARTICLE...\n",
       "2  36d72442aefd8232  abatement         active catalyst     A47   0.25  HUMAN NECESSITIES. FURNITURE; DOMESTIC ARTICLE...\n",
       "3  5296b0c19e1ce60e  abatement     eliminating process     A47   0.50  HUMAN NECESSITIES. FURNITURE; DOMESTIC ARTICLE...\n",
       "4  54c1e3b9184cb5b6  abatement           forest region     A47   0.00  HUMAN NECESSITIES. FURNITURE; DOMESTIC ARTICLE..."
      ]
     },
     "metadata": {},
     "output_type": "display_data"
    },
    {
     "data": {
      "text/html": [
       "<div>\n",
       "<style scoped>\n",
       "    .dataframe tbody tr th:only-of-type {\n",
       "        vertical-align: middle;\n",
       "    }\n",
       "\n",
       "    .dataframe tbody tr th {\n",
       "        vertical-align: top;\n",
       "    }\n",
       "\n",
       "    .dataframe thead th {\n",
       "        text-align: right;\n",
       "    }\n",
       "</style>\n",
       "<table border=\"1\" class=\"dataframe\">\n",
       "  <thead>\n",
       "    <tr style=\"text-align: right;\">\n",
       "      <th></th>\n",
       "      <th>id</th>\n",
       "      <th>anchor</th>\n",
       "      <th>target</th>\n",
       "      <th>context</th>\n",
       "      <th>context_text</th>\n",
       "    </tr>\n",
       "  </thead>\n",
       "  <tbody>\n",
       "    <tr>\n",
       "      <th>0</th>\n",
       "      <td>4112d61851461f60</td>\n",
       "      <td>opc drum</td>\n",
       "      <td>inorganic photoconductor drum</td>\n",
       "      <td>G02</td>\n",
       "      <td>PHYSICS. OPTICS</td>\n",
       "    </tr>\n",
       "    <tr>\n",
       "      <th>1</th>\n",
       "      <td>09e418c93a776564</td>\n",
       "      <td>adjust gas flow</td>\n",
       "      <td>altering gas flow</td>\n",
       "      <td>F23</td>\n",
       "      <td>MECHANICAL ENGINEERING; LIGHTING; HEATING; WEA...</td>\n",
       "    </tr>\n",
       "    <tr>\n",
       "      <th>2</th>\n",
       "      <td>36baf228038e314b</td>\n",
       "      <td>lower trunnion</td>\n",
       "      <td>lower locating</td>\n",
       "      <td>B60</td>\n",
       "      <td>PERFORMING OPERATIONS; TRANSPORTING. VEHICLES ...</td>\n",
       "    </tr>\n",
       "    <tr>\n",
       "      <th>3</th>\n",
       "      <td>1f37ead645e7f0c8</td>\n",
       "      <td>cap component</td>\n",
       "      <td>upper portion</td>\n",
       "      <td>D06</td>\n",
       "      <td>TEXTILES; PAPER. TREATMENT OF TEXTILES OR THE ...</td>\n",
       "    </tr>\n",
       "    <tr>\n",
       "      <th>4</th>\n",
       "      <td>71a5b6ad068d531f</td>\n",
       "      <td>neural stimulation</td>\n",
       "      <td>artificial neural network</td>\n",
       "      <td>H04</td>\n",
       "      <td>ELECTRICITY. ELECTRIC COMMUNICATION TECHNIQUE</td>\n",
       "    </tr>\n",
       "  </tbody>\n",
       "</table>\n",
       "</div>"
      ],
      "text/plain": [
       "                 id              anchor                         target context                                       context_text\n",
       "0  4112d61851461f60            opc drum  inorganic photoconductor drum     G02                                    PHYSICS. OPTICS\n",
       "1  09e418c93a776564     adjust gas flow              altering gas flow     F23  MECHANICAL ENGINEERING; LIGHTING; HEATING; WEA...\n",
       "2  36baf228038e314b      lower trunnion                 lower locating     B60  PERFORMING OPERATIONS; TRANSPORTING. VEHICLES ...\n",
       "3  1f37ead645e7f0c8       cap component                  upper portion     D06  TEXTILES; PAPER. TREATMENT OF TEXTILES OR THE ...\n",
       "4  71a5b6ad068d531f  neural stimulation      artificial neural network     H04      ELECTRICITY. ELECTRIC COMMUNICATION TECHNIQUE"
      ]
     },
     "metadata": {},
     "output_type": "display_data"
    }
   ],
   "source": [
    "# ====================================================\n",
    "# CPC Data\n",
    "# ====================================================\n",
    "def get_cpc_texts():\n",
    "    contexts = []\n",
    "    pattern = '[A-Z]\\d+'\n",
    "    for file_name in os.listdir(INPUT_DIR+'CPCSchemeXML202105'):\n",
    "        result = re.findall(pattern, file_name)\n",
    "        if result:\n",
    "            contexts.append(result)\n",
    "    contexts = sorted(set(sum(contexts, [])))\n",
    "    results = {}\n",
    "    for cpc in ['A', 'B', 'C', 'D', 'E', 'F', 'G', 'H', 'Y']:\n",
    "        with open(f'{INPUT_DIR}CPCTitleList202202/cpc-section-{cpc}_20220201.txt') as f:\n",
    "            s = f.read()\n",
    "        pattern = f'{cpc}\\t\\t.+'\n",
    "        result = re.findall(pattern, s)\n",
    "        cpc_result = result[0].lstrip(pattern)\n",
    "        for context in [c for c in contexts if c[0] == cpc]:\n",
    "            pattern = f'{context}\\t\\t.+'\n",
    "            result = re.findall(pattern, s)\n",
    "            results[context] = cpc_result + \". \" + result[0].lstrip(pattern)\n",
    "    return results\n",
    "\n",
    "\n",
    "# cpc_texts = get_cpc_texts()\n",
    "# torch.save(cpc_texts, OUTPUT_DIR+\"cpc_texts.pth\")\n",
    "cpc_texts = torch.load(INPUT_DIR+\"cpc_texts.pth\")\n",
    "train['context_text'] = train['context'].map(cpc_texts)\n",
    "test['context_text'] = test['context'].map(cpc_texts)\n",
    "display(train.head())\n",
    "display(test.head())"
   ]
  },
  {
   "cell_type": "code",
   "execution_count": 14,
   "id": "7bb73eb6",
   "metadata": {
    "papermill": {
     "duration": 0.084831,
     "end_time": "2022-03-22T09:40:38.384239",
     "exception": false,
     "start_time": "2022-03-22T09:40:38.299408",
     "status": "completed"
    },
    "tags": []
   },
   "outputs": [
    {
     "data": {
      "text/html": [
       "<div>\n",
       "<style scoped>\n",
       "    .dataframe tbody tr th:only-of-type {\n",
       "        vertical-align: middle;\n",
       "    }\n",
       "\n",
       "    .dataframe tbody tr th {\n",
       "        vertical-align: top;\n",
       "    }\n",
       "\n",
       "    .dataframe thead th {\n",
       "        text-align: right;\n",
       "    }\n",
       "</style>\n",
       "<table border=\"1\" class=\"dataframe\">\n",
       "  <thead>\n",
       "    <tr style=\"text-align: right;\">\n",
       "      <th></th>\n",
       "      <th>id</th>\n",
       "      <th>anchor</th>\n",
       "      <th>target</th>\n",
       "      <th>context</th>\n",
       "      <th>score</th>\n",
       "      <th>context_text</th>\n",
       "      <th>text</th>\n",
       "    </tr>\n",
       "  </thead>\n",
       "  <tbody>\n",
       "    <tr>\n",
       "      <th>0</th>\n",
       "      <td>37d61fd2272659b1</td>\n",
       "      <td>abatement</td>\n",
       "      <td>abatement of pollution</td>\n",
       "      <td>A47</td>\n",
       "      <td>0.50</td>\n",
       "      <td>HUMAN NECESSITIES. FURNITURE; DOMESTIC ARTICLE...</td>\n",
       "      <td>abatement[SEP]abatement of pollution[SEP]HUMAN...</td>\n",
       "    </tr>\n",
       "    <tr>\n",
       "      <th>1</th>\n",
       "      <td>7b9652b17b68b7a4</td>\n",
       "      <td>abatement</td>\n",
       "      <td>act of abating</td>\n",
       "      <td>A47</td>\n",
       "      <td>0.75</td>\n",
       "      <td>HUMAN NECESSITIES. FURNITURE; DOMESTIC ARTICLE...</td>\n",
       "      <td>abatement[SEP]act of abating[SEP]HUMAN NECESSI...</td>\n",
       "    </tr>\n",
       "    <tr>\n",
       "      <th>2</th>\n",
       "      <td>36d72442aefd8232</td>\n",
       "      <td>abatement</td>\n",
       "      <td>active catalyst</td>\n",
       "      <td>A47</td>\n",
       "      <td>0.25</td>\n",
       "      <td>HUMAN NECESSITIES. FURNITURE; DOMESTIC ARTICLE...</td>\n",
       "      <td>abatement[SEP]active catalyst[SEP]HUMAN NECESS...</td>\n",
       "    </tr>\n",
       "    <tr>\n",
       "      <th>3</th>\n",
       "      <td>5296b0c19e1ce60e</td>\n",
       "      <td>abatement</td>\n",
       "      <td>eliminating process</td>\n",
       "      <td>A47</td>\n",
       "      <td>0.50</td>\n",
       "      <td>HUMAN NECESSITIES. FURNITURE; DOMESTIC ARTICLE...</td>\n",
       "      <td>abatement[SEP]eliminating process[SEP]HUMAN NE...</td>\n",
       "    </tr>\n",
       "    <tr>\n",
       "      <th>4</th>\n",
       "      <td>54c1e3b9184cb5b6</td>\n",
       "      <td>abatement</td>\n",
       "      <td>forest region</td>\n",
       "      <td>A47</td>\n",
       "      <td>0.00</td>\n",
       "      <td>HUMAN NECESSITIES. FURNITURE; DOMESTIC ARTICLE...</td>\n",
       "      <td>abatement[SEP]forest region[SEP]HUMAN NECESSIT...</td>\n",
       "    </tr>\n",
       "  </tbody>\n",
       "</table>\n",
       "</div>"
      ],
      "text/plain": [
       "                 id     anchor                  target context  score                                       context_text                                               text\n",
       "0  37d61fd2272659b1  abatement  abatement of pollution     A47   0.50  HUMAN NECESSITIES. FURNITURE; DOMESTIC ARTICLE...  abatement[SEP]abatement of pollution[SEP]HUMAN...\n",
       "1  7b9652b17b68b7a4  abatement          act of abating     A47   0.75  HUMAN NECESSITIES. FURNITURE; DOMESTIC ARTICLE...  abatement[SEP]act of abating[SEP]HUMAN NECESSI...\n",
       "2  36d72442aefd8232  abatement         active catalyst     A47   0.25  HUMAN NECESSITIES. FURNITURE; DOMESTIC ARTICLE...  abatement[SEP]active catalyst[SEP]HUMAN NECESS...\n",
       "3  5296b0c19e1ce60e  abatement     eliminating process     A47   0.50  HUMAN NECESSITIES. FURNITURE; DOMESTIC ARTICLE...  abatement[SEP]eliminating process[SEP]HUMAN NE...\n",
       "4  54c1e3b9184cb5b6  abatement           forest region     A47   0.00  HUMAN NECESSITIES. FURNITURE; DOMESTIC ARTICLE...  abatement[SEP]forest region[SEP]HUMAN NECESSIT..."
      ]
     },
     "metadata": {},
     "output_type": "display_data"
    },
    {
     "data": {
      "text/html": [
       "<div>\n",
       "<style scoped>\n",
       "    .dataframe tbody tr th:only-of-type {\n",
       "        vertical-align: middle;\n",
       "    }\n",
       "\n",
       "    .dataframe tbody tr th {\n",
       "        vertical-align: top;\n",
       "    }\n",
       "\n",
       "    .dataframe thead th {\n",
       "        text-align: right;\n",
       "    }\n",
       "</style>\n",
       "<table border=\"1\" class=\"dataframe\">\n",
       "  <thead>\n",
       "    <tr style=\"text-align: right;\">\n",
       "      <th></th>\n",
       "      <th>id</th>\n",
       "      <th>anchor</th>\n",
       "      <th>target</th>\n",
       "      <th>context</th>\n",
       "      <th>context_text</th>\n",
       "      <th>text</th>\n",
       "    </tr>\n",
       "  </thead>\n",
       "  <tbody>\n",
       "    <tr>\n",
       "      <th>0</th>\n",
       "      <td>4112d61851461f60</td>\n",
       "      <td>opc drum</td>\n",
       "      <td>inorganic photoconductor drum</td>\n",
       "      <td>G02</td>\n",
       "      <td>PHYSICS. OPTICS</td>\n",
       "      <td>opc drum[SEP]inorganic photoconductor drum[SEP...</td>\n",
       "    </tr>\n",
       "    <tr>\n",
       "      <th>1</th>\n",
       "      <td>09e418c93a776564</td>\n",
       "      <td>adjust gas flow</td>\n",
       "      <td>altering gas flow</td>\n",
       "      <td>F23</td>\n",
       "      <td>MECHANICAL ENGINEERING; LIGHTING; HEATING; WEA...</td>\n",
       "      <td>adjust gas flow[SEP]altering gas flow[SEP]MECH...</td>\n",
       "    </tr>\n",
       "    <tr>\n",
       "      <th>2</th>\n",
       "      <td>36baf228038e314b</td>\n",
       "      <td>lower trunnion</td>\n",
       "      <td>lower locating</td>\n",
       "      <td>B60</td>\n",
       "      <td>PERFORMING OPERATIONS; TRANSPORTING. VEHICLES ...</td>\n",
       "      <td>lower trunnion[SEP]lower locating[SEP]PERFORMI...</td>\n",
       "    </tr>\n",
       "    <tr>\n",
       "      <th>3</th>\n",
       "      <td>1f37ead645e7f0c8</td>\n",
       "      <td>cap component</td>\n",
       "      <td>upper portion</td>\n",
       "      <td>D06</td>\n",
       "      <td>TEXTILES; PAPER. TREATMENT OF TEXTILES OR THE ...</td>\n",
       "      <td>cap component[SEP]upper portion[SEP]TEXTILES; ...</td>\n",
       "    </tr>\n",
       "    <tr>\n",
       "      <th>4</th>\n",
       "      <td>71a5b6ad068d531f</td>\n",
       "      <td>neural stimulation</td>\n",
       "      <td>artificial neural network</td>\n",
       "      <td>H04</td>\n",
       "      <td>ELECTRICITY. ELECTRIC COMMUNICATION TECHNIQUE</td>\n",
       "      <td>neural stimulation[SEP]artificial neural netwo...</td>\n",
       "    </tr>\n",
       "  </tbody>\n",
       "</table>\n",
       "</div>"
      ],
      "text/plain": [
       "                 id              anchor                         target context                                       context_text                                               text\n",
       "0  4112d61851461f60            opc drum  inorganic photoconductor drum     G02                                    PHYSICS. OPTICS  opc drum[SEP]inorganic photoconductor drum[SEP...\n",
       "1  09e418c93a776564     adjust gas flow              altering gas flow     F23  MECHANICAL ENGINEERING; LIGHTING; HEATING; WEA...  adjust gas flow[SEP]altering gas flow[SEP]MECH...\n",
       "2  36baf228038e314b      lower trunnion                 lower locating     B60  PERFORMING OPERATIONS; TRANSPORTING. VEHICLES ...  lower trunnion[SEP]lower locating[SEP]PERFORMI...\n",
       "3  1f37ead645e7f0c8       cap component                  upper portion     D06  TEXTILES; PAPER. TREATMENT OF TEXTILES OR THE ...  cap component[SEP]upper portion[SEP]TEXTILES; ...\n",
       "4  71a5b6ad068d531f  neural stimulation      artificial neural network     H04      ELECTRICITY. ELECTRIC COMMUNICATION TECHNIQUE  neural stimulation[SEP]artificial neural netwo..."
      ]
     },
     "metadata": {},
     "output_type": "display_data"
    }
   ],
   "source": [
    "pad = \"[SEP]\"\n",
    "train['text'] = train['anchor'] + pad + train['target'] +pad  + train['context_text']\n",
    "test['text'] = test['anchor'] + pad + test['target'] +pad  + test['context_text']\n",
    "display(train.head())\n",
    "display(test.head())"
   ]
  },
  {
   "cell_type": "markdown",
   "id": "b01d622c",
   "metadata": {
    "papermill": {
     "duration": 0.040462,
     "end_time": "2022-03-22T09:40:38.462517",
     "exception": false,
     "start_time": "2022-03-22T09:40:38.422055",
     "status": "completed"
    },
    "tags": []
   },
   "source": [
    "# EDA"
   ]
  },
  {
   "cell_type": "code",
   "execution_count": 15,
   "id": "560906cd",
   "metadata": {
    "papermill": {
     "duration": 0.298955,
     "end_time": "2022-03-22T09:40:38.799273",
     "exception": false,
     "start_time": "2022-03-22T09:40:38.500318",
     "status": "completed"
    },
    "tags": []
   },
   "outputs": [
    {
     "data": {
      "text/plain": [
       "<AxesSubplot:>"
      ]
     },
     "execution_count": 15,
     "metadata": {},
     "output_type": "execute_result"
    },
    {
     "data": {
      "image/png": "[encoded data removed]",
      "text/plain": [
       "<Figure size 432x288 with 1 Axes>"
      ]
     },
     "metadata": {
      "needs_background": "light"
     },
     "output_type": "display_data"
    }
   ],
   "source": [
    "train['score'].hist()"
   ]
  },
  {
   "cell_type": "code",
   "execution_count": 16,
   "id": "bb2122ec",
   "metadata": {
    "papermill": {
     "duration": 0.072329,
     "end_time": "2022-03-22T09:40:38.914779",
     "exception": false,
     "start_time": "2022-03-22T09:40:38.842450",
     "status": "completed"
    },
    "tags": []
   },
   "outputs": [
    {
     "data": {
      "text/plain": [
       "B    8019\n",
       "H    6195\n",
       "G    6013\n",
       "C    5288\n",
       "A    4094\n",
       "F    4054\n",
       "E    1531\n",
       "D    1279\n",
       "Name: context, dtype: int64"
      ]
     },
     "metadata": {},
     "output_type": "display_data"
    }
   ],
   "source": [
    "display(train['context'].apply(lambda x: x[0]).value_counts())"
   ]
  },
  {
   "cell_type": "markdown",
   "id": "fdc1e4e5",
   "metadata": {
    "papermill": {
     "duration": 0.040834,
     "end_time": "2022-03-22T09:40:38.997435",
     "exception": false,
     "start_time": "2022-03-22T09:40:38.956601",
     "status": "completed"
    },
    "tags": []
   },
   "source": [
    "- Y is not in training data, but may be in test data?"
   ]
  },
  {
   "cell_type": "markdown",
   "id": "9249864a",
   "metadata": {
    "id": "9e05b6c4",
    "papermill": {
     "duration": 0.041734,
     "end_time": "2022-03-22T09:40:39.084284",
     "exception": false,
     "start_time": "2022-03-22T09:40:39.042550",
     "status": "completed"
    },
    "tags": []
   },
   "source": [
    "# CV split"
   ]
  },
  {
   "cell_type": "code",
   "execution_count": 17,
   "id": "44a41536",
   "metadata": {
    "executionInfo": {
     "elapsed": 12,
     "status": "ok",
     "timestamp": 1644920084528,
     "user": {
      "displayName": "Yasufumi Nakama",
      "photoUrl": "https://lh3.googleusercontent.com/a/default-user=s64",
      "userId": "17486303986134302670"
     },
     "user_tz": -540
    },
    "id": "3ba287c4",
    "outputId": "307dc0e2-17d6-4bfe-9e95-fdd9b6303974",
    "papermill": {
     "duration": 0.074115,
     "end_time": "2022-03-22T09:40:39.201383",
     "exception": false,
     "start_time": "2022-03-22T09:40:39.127268",
     "status": "completed"
    },
    "tags": []
   },
   "outputs": [
    {
     "data": {
      "text/plain": [
       "fold\n",
       "0    9119\n",
       "1    9118\n",
       "2    9118\n",
       "3    9118\n",
       "dtype: int64"
      ]
     },
     "metadata": {},
     "output_type": "display_data"
    }
   ],
   "source": [
    "# ====================================================\n",
    "# CV split\n",
    "# ====================================================\n",
    "train['score_map'] = train['score'].map({0.00: 0, 0.25: 1, 0.50: 2, 0.75: 3, 1.00: 4})\n",
    "Fold = StratifiedKFold(n_splits=CFG.n_fold, shuffle=True, random_state=CFG.seed)\n",
    "for n, (train_index, val_index) in enumerate(Fold.split(train, train['score_map'])):\n",
    "    train.loc[val_index, 'fold'] = int(n)\n",
    "train['fold'] = train['fold'].astype(int)\n",
    "display(train.groupby('fold').size())"
   ]
  },
  {
   "cell_type": "code",
   "execution_count": 18,
   "id": "bb9ce665",
   "metadata": {
    "id": "4c3ce877",
    "papermill": {
     "duration": 0.049441,
     "end_time": "2022-03-22T09:40:39.291307",
     "exception": false,
     "start_time": "2022-03-22T09:40:39.241866",
     "status": "completed"
    },
    "tags": []
   },
   "outputs": [],
   "source": [
    "if CFG.debug:\n",
    "    display(train.groupby('fold').size())\n",
    "    train = train.sample(n=1000, random_state=0).reset_index(drop=True)\n",
    "    display(train.groupby('fold').size())"
   ]
  },
  {
   "cell_type": "markdown",
   "id": "a7adea75",
   "metadata": {
    "id": "918a28aa",
    "papermill": {
     "duration": 0.039494,
     "end_time": "2022-03-22T09:40:39.374931",
     "exception": false,
     "start_time": "2022-03-22T09:40:39.335437",
     "status": "completed"
    },
    "tags": []
   },
   "source": [
    "# tokenizer"
   ]
  },
  {
   "cell_type": "code",
   "execution_count": 19,
   "id": "4efc387f",
   "metadata": {},
   "outputs": [],
   "source": [
    "# !pip install --no-cache-dir sentencepiece"
   ]
  },
  {
   "cell_type": "code",
   "execution_count": 20,
   "id": "54f8891e",
   "metadata": {
    "papermill": {
     "duration": 5.198604,
     "end_time": "2022-03-22T09:40:44.612849",
     "exception": false,
     "start_time": "2022-03-22T09:40:39.414245",
     "status": "completed"
    },
    "tags": []
   },
   "outputs": [],
   "source": [
    "# ====================================================\n",
    "# tokenizer\n",
    "# ====================================================\n",
    "# tokenizer = AutoTokenizer.from_pretrained(CFG.model,use_fast=False)\n",
    "tokenizer = AutoTokenizer.from_pretrained(CFG.model,use_fast=False)\n",
    "tokenizer.save_pretrained(OUTPUT_DIR+'tokenizer/')\n",
    "CFG.tokenizer = tokenizer\n",
    "\n"
   ]
  },
  {
   "cell_type": "code",
   "execution_count": null,
   "id": "7cf880ca-b3fb-4603-9194-fc20c0f93e59",
   "metadata": {},
   "outputs": [],
   "source": []
  },
  {
   "cell_type": "markdown",
   "id": "d9fca227",
   "metadata": {
    "id": "14da40cf",
    "papermill": {
     "duration": 0.04897,
     "end_time": "2022-03-22T09:40:44.706931",
     "exception": false,
     "start_time": "2022-03-22T09:40:44.657961",
     "status": "completed"
    },
    "tags": []
   },
   "source": [
    "# Dataset"
   ]
  },
  {
   "cell_type": "code",
   "execution_count": 21,
   "id": "2671471a",
   "metadata": {
    "executionInfo": {
     "elapsed": 32827,
     "status": "ok",
     "timestamp": 1644920122500,
     "user": {
      "displayName": "Yasufumi Nakama",
      "photoUrl": "https://lh3.googleusercontent.com/a/default-user=s64",
      "userId": "17486303986134302670"
     },
     "user_tz": -540
    },
    "id": "c00327b0",
    "outputId": "26e947da-b73a-494d-e776-906b037ac08a",
    "papermill": {
     "duration": 7.208379,
     "end_time": "2022-03-22T09:40:51.959343",
     "exception": false,
     "start_time": "2022-03-22T09:40:44.750964",
     "status": "completed"
    },
    "tags": []
   },
   "outputs": [
    {
     "data": {
      "application/vnd.jupyter.widget-view+json": {
       "model_id": "785d96b4d908440a9895393d592d8060",
       "version_major": 2,
       "version_minor": 0
      },
      "text/plain": [
       "  0%|          | 0/136 [00:00<?, ?it/s]"
      ]
     },
     "metadata": {},
     "output_type": "display_data"
    },
    {
     "data": {
      "application/vnd.jupyter.widget-view+json": {
       "model_id": "42fccdccc25c49558cfcc79339eaa855",
       "version_major": 2,
       "version_minor": 0
      },
      "text/plain": [
       "  0%|          | 0/36473 [00:00<?, ?it/s]"
      ]
     },
     "metadata": {},
     "output_type": "display_data"
    },
    {
     "data": {
      "application/vnd.jupyter.widget-view+json": {
       "model_id": "d448d2a1f43b42b9b37f7d0bd7c7694a",
       "version_major": 2,
       "version_minor": 0
      },
      "text/plain": [
       "  0%|          | 0/36473 [00:00<?, ?it/s]"
      ]
     },
     "metadata": {},
     "output_type": "display_data"
    },
    {
     "name": "stderr",
     "output_type": "stream",
     "text": [
      "max_len: 125\n"
     ]
    }
   ],
   "source": [
    "# ====================================================\n",
    "# Define max_len\n",
    "# ====================================================\n",
    "lengths_dict = {}\n",
    "\n",
    "lengths = []\n",
    "tk0 = tqdm(cpc_texts.values(), total=len(cpc_texts))\n",
    "for text in tk0:\n",
    "    length = len(tokenizer(text, add_special_tokens=False)['input_ids'])\n",
    "    lengths.append(length)\n",
    "lengths_dict['context_text'] = lengths\n",
    "\n",
    "for text_col in ['anchor', 'target']:\n",
    "    lengths = []\n",
    "    tk0 = tqdm(train[text_col].fillna(\"\").values, total=len(train))\n",
    "    for text in tk0:\n",
    "        length = len(tokenizer(text, add_special_tokens=False)['input_ids'])\n",
    "        lengths.append(length)\n",
    "    lengths_dict[text_col] = lengths\n",
    "    \n",
    "CFG.max_len = max(lengths_dict['anchor']) + max(lengths_dict['target'])\\\n",
    "                + max(lengths_dict['context_text']) + 4 # CLS + SEP + SEP + SEP\n",
    "LOGGER.info(f\"max_len: {CFG.max_len}\")"
   ]
  },
  {
   "cell_type": "code",
   "execution_count": 22,
   "id": "49be5a92",
   "metadata": {
    "id": "9f791a19",
    "papermill": {
     "duration": 0.055528,
     "end_time": "2022-03-22T09:40:52.072178",
     "exception": false,
     "start_time": "2022-03-22T09:40:52.016650",
     "status": "completed"
    },
    "tags": []
   },
   "outputs": [
    {
     "name": "stdout",
     "output_type": "stream",
     "text": [
      "torch.__version__: 1.9.0+cu111\n"
     ]
    }
   ],
   "source": [
    "# ====================================================\n",
    "# Dataset\n",
    "# ====================================================\n",
    "def prepare_input(cfg, text):\n",
    "    inputs = cfg.tokenizer(text,\n",
    "                           add_special_tokens=True,\n",
    "                           max_length=cfg.max_len,\n",
    "                           padding=\"max_length\",\n",
    "                           return_offsets_mapping=False)\n",
    "    for k, v in inputs.items():\n",
    "        inputs[k] = torch.tensor(v, dtype=torch.long)\n",
    "    return inputs\n",
    "\n",
    "sys.path.append('../dataset')\n",
    "from dataset import TrainDataset"
   ]
  },
  {
   "cell_type": "code",
   "execution_count": 23,
   "id": "a459997d",
   "metadata": {
    "executionInfo": {
     "elapsed": 8,
     "status": "ok",
     "timestamp": 1644920122808,
     "user": {
      "displayName": "Yasufumi Nakama",
      "photoUrl": "https://lh3.googleusercontent.com/a/default-user=s64",
      "userId": "17486303986134302670"
     },
     "user_tz": -540
    },
    "id": "a200bd5b",
    "outputId": "a30fde2b-86f9-4ebd-ae81-33f467b69836",
    "papermill": {
     "duration": 0.05166,
     "end_time": "2022-03-22T09:40:52.171272",
     "exception": false,
     "start_time": "2022-03-22T09:40:52.119612",
     "status": "completed"
    },
    "tags": []
   },
   "outputs": [
    {
     "data": {
      "text/plain": [
       "'\\ntrain_dataset = TrainDataset(CFG, train)\\ninputs, label = train_dataset[0]\\nprint(inputs)\\nprint(label)\\n'"
      ]
     },
     "execution_count": 23,
     "metadata": {},
     "output_type": "execute_result"
    }
   ],
   "source": [
    "\"\"\"\n",
    "train_dataset = TrainDataset(CFG, train)\n",
    "inputs, label = train_dataset[0]\n",
    "print(inputs)\n",
    "print(label)\n",
    "\"\"\""
   ]
  },
  {
   "cell_type": "markdown",
   "id": "44d28ba3",
   "metadata": {
    "id": "e04d6363",
    "papermill": {
     "duration": 0.044161,
     "end_time": "2022-03-22T09:40:52.262022",
     "exception": false,
     "start_time": "2022-03-22T09:40:52.217861",
     "status": "completed"
    },
    "tags": []
   },
   "source": [
    "# Model"
   ]
  },
  {
   "cell_type": "code",
   "execution_count": 24,
   "id": "9d2de216-beae-4520-a024-ffefdd688417",
   "metadata": {},
   "outputs": [],
   "source": [
    "class TransformerHead(nn.Module):\n",
    "    def __init__(self, in_features, max_length, num_layers=1, nhead=8, num_targets=1):\n",
    "        super().__init__()\n",
    "\n",
    "        self.transformer = nn.TransformerEncoder(encoder_layer=nn.TransformerEncoderLayer(d_model=in_features,\n",
    "                                                                                          nhead=nhead),\n",
    "                                                 num_layers=num_layers)\n",
    "        self.row_fc = nn.Linear(in_features, 1)\n",
    "        self.out_features = max_length\n",
    "\n",
    "    def forward(self, x):\n",
    "        out = self.transformer(x)\n",
    "        out = self.row_fc(out).squeeze(-1)\n",
    "        return out"
   ]
  },
  {
   "cell_type": "code",
   "execution_count": 25,
   "id": "872e6567",
   "metadata": {
    "id": "4c5bab44",
    "papermill": {
     "duration": 0.066203,
     "end_time": "2022-03-22T09:40:52.372030",
     "exception": false,
     "start_time": "2022-03-22T09:40:52.305827",
     "status": "completed"
    },
    "tags": []
   },
   "outputs": [],
   "source": [
    "class CustomModel(nn.Module):\n",
    "    def __init__(self, cfg, config_path=None, pretrained=False):\n",
    "        super().__init__()\n",
    "        self.cfg = cfg\n",
    "        if config_path is None:\n",
    "            self.config = AutoConfig.from_pretrained(cfg.model, output_hidden_states=True)\n",
    "        else:\n",
    "            self.config = torch.load(config_path)\n",
    "        if pretrained:\n",
    "            self.model = AutoModel.from_pretrained(cfg.model, config=self.config)\n",
    "        else:\n",
    "            self.model = AutoModel.from_config(self.config)\n",
    "        \n",
    "        # self.feature_extractor = AutoModelForTokenClassification.from_pretrained(OUTPUT_DIR+'extractor/')\n",
    "        self.feature_extractor = AutoModelForTokenClassification.from_pretrained(CFG.model,)\n",
    "        self.feature_extractor.save_pretrained(OUTPUT_DIR+'extractor/')\n",
    "        in_features = self.feature_extractor.classifier.in_features\n",
    "        self.attention = TransformerHead(in_features=in_features, max_length=cfg.max_len, num_layers=1, nhead=8, num_targets=1)\n",
    "        self.fc_dropout = nn.Dropout(cfg.fc_dropout)\n",
    "        self.fc = nn.Linear(self.attention.out_features, self.cfg.target_size)\n",
    "        self._init_weights(self.fc)\n",
    "        self._init_weights(self.attention)\n",
    "        \n",
    "    def _init_weights(self, module):\n",
    "        if isinstance(module, nn.Linear):\n",
    "            module.weight.data.normal_(mean=0.0, std=self.config.initializer_range)\n",
    "            if module.bias is not None:\n",
    "                module.bias.data.zero_()\n",
    "        elif isinstance(module, nn.Embedding):\n",
    "            module.weight.data.normal_(mean=0.0, std=self.config.initializer_range)\n",
    "            if module.padding_idx is not None:\n",
    "                module.weight.data[module.padding_idx].zero_()\n",
    "        elif isinstance(module, nn.LayerNorm):\n",
    "            module.bias.data.zero_()\n",
    "            module.weight.data.fill_(1.0)\n",
    "        \n",
    "    def feature(self, inputs):\n",
    "        outputs = self.model(**inputs)\n",
    "        last_hidden_states = outputs[0]\n",
    "        # feature = torch.mean(last_hidden_states, 1)\n",
    "        feature = self.attention(last_hidden_states)\n",
    "        \n",
    "        return feature\n",
    "\n",
    "\n",
    "    def forward(self, inputs):\n",
    "        feature = self.feature(inputs)\n",
    "        try:\n",
    "            output = self.fc(self.fc_dropout(feature))\n",
    "        except Exception as e:\n",
    "            print(feature.shape)\n",
    "            print(e)\n",
    "            exit()\n",
    "        return output"
   ]
  },
  {
   "cell_type": "markdown",
   "id": "d58eee04",
   "metadata": {
    "id": "deee9675",
    "papermill": {
     "duration": 0.044158,
     "end_time": "2022-03-22T09:40:52.460401",
     "exception": false,
     "start_time": "2022-03-22T09:40:52.416243",
     "status": "completed"
    },
    "tags": []
   },
   "source": [
    "# Helpler functions"
   ]
  },
  {
   "cell_type": "code",
   "execution_count": 26,
   "id": "53d5903c",
   "metadata": {
    "id": "c8263b0c",
    "papermill": {
     "duration": 0.078567,
     "end_time": "2022-03-22T09:40:52.582474",
     "exception": false,
     "start_time": "2022-03-22T09:40:52.503907",
     "status": "completed"
    },
    "tags": []
   },
   "outputs": [],
   "source": [
    "# ====================================================\n",
    "# Helper functions\n",
    "# ====================================================\n",
    "class AverageMeter(object):\n",
    "    \"\"\"Computes and stores the average and current value\"\"\"\n",
    "    def __init__(self):\n",
    "        self.reset()\n",
    "\n",
    "    def reset(self):\n",
    "        self.val = 0\n",
    "        self.avg = 0\n",
    "        self.sum = 0\n",
    "        self.count = 0\n",
    "\n",
    "    def update(self, val, n=1):\n",
    "        self.val = val\n",
    "        self.sum += val * n\n",
    "        self.count += n\n",
    "        self.avg = self.sum / self.count\n",
    "\n",
    "\n",
    "def asMinutes(s):\n",
    "    m = math.floor(s / 60)\n",
    "    s -= m * 60\n",
    "    return '%dm %ds' % (m, s)\n",
    "\n",
    "\n",
    "def timeSince(since, percent):\n",
    "    now = time.time()\n",
    "    s = now - since\n",
    "    es = s / (percent)\n",
    "    rs = es - s\n",
    "    return '%s (remain %s)' % (asMinutes(s), asMinutes(rs))\n",
    "\n",
    "\n",
    "def train_fn(fold, train_loader, model, criterion, optimizer, epoch, scheduler, device):\n",
    "    model.train()\n",
    "    scaler = torch.cuda.amp.GradScaler(enabled=CFG.apex)\n",
    "    losses = AverageMeter()\n",
    "    start = end = time.time()\n",
    "    global_step = 0\n",
    "    for step, (inputs, labels) in enumerate(train_loader):\n",
    "        for k, v in inputs.items():\n",
    "            inputs[k] = v.to(device)\n",
    "        labels = labels.to(device)\n",
    "        batch_size = labels.size(0)\n",
    "        with torch.cuda.amp.autocast(enabled=CFG.apex):\n",
    "            y_preds = model(inputs)\n",
    "        loss = criterion(y_preds.view(-1, 1), labels.view(-1, 1))\n",
    "        if CFG.gradient_accumulation_steps > 1:\n",
    "            loss = loss / CFG.gradient_accumulation_steps\n",
    "        losses.update(loss.item(), batch_size)\n",
    "        scaler.scale(loss).backward()\n",
    "        grad_norm = torch.nn.utils.clip_grad_norm_(model.parameters(), CFG.max_grad_norm)\n",
    "        if (step + 1) % CFG.gradient_accumulation_steps == 0:\n",
    "            scaler.step(optimizer)\n",
    "            scaler.update()\n",
    "            optimizer.zero_grad()\n",
    "            global_step += 1\n",
    "            if CFG.batch_scheduler:\n",
    "                scheduler.step()\n",
    "        end = time.time()\n",
    "        if step % CFG.print_freq == 0 or step == (len(train_loader)-1):\n",
    "            print('Epoch: [{0}][{1}/{2}] '\n",
    "                  'Elapsed {remain:s} '\n",
    "                  'Loss: {loss.val:.4f}({loss.avg:.4f}) '\n",
    "                  'Grad: {grad_norm:.4f}  '\n",
    "                  'LR: {lr:.8f}  '\n",
    "                  .format(epoch+1, step, len(train_loader), \n",
    "                          remain=timeSince(start, float(step+1)/len(train_loader)),\n",
    "                          loss=losses,\n",
    "                          grad_norm=grad_norm,\n",
    "                          lr=scheduler.get_lr()[0]))\n",
    "        if CFG.wandb:\n",
    "            wandb.log({f\"[fold{fold}] loss\": losses.val,\n",
    "                       f\"[fold{fold}] lr\": scheduler.get_lr()[0]})\n",
    "    return losses.avg\n",
    "\n",
    "\n",
    "def valid_fn(valid_loader, model, criterion, device):\n",
    "    losses = AverageMeter()\n",
    "    model.eval()\n",
    "    preds = []\n",
    "    start = end = time.time()\n",
    "    for step, (inputs, labels) in enumerate(valid_loader):\n",
    "        for k, v in inputs.items():\n",
    "            inputs[k] = v.to(device)\n",
    "        labels = labels.to(device)\n",
    "        batch_size = labels.size(0)\n",
    "        with torch.no_grad():\n",
    "            y_preds = model(inputs)\n",
    "        loss = criterion(y_preds.view(-1, 1), labels.view(-1, 1))\n",
    "        if CFG.gradient_accumulation_steps > 1:\n",
    "            loss = loss / CFG.gradient_accumulation_steps\n",
    "        losses.update(loss.item(), batch_size)\n",
    "        preds.append(y_preds.sigmoid().to('cpu').numpy())\n",
    "        end = time.time()\n",
    "        if step % CFG.print_freq == 0 or step == (len(valid_loader)-1):\n",
    "            print('EVAL: [{0}/{1}] '\n",
    "                  'Elapsed {remain:s} '\n",
    "                  'Loss: {loss.val:.4f}({loss.avg:.4f}) '\n",
    "                  .format(step, len(valid_loader),\n",
    "                          loss=losses,\n",
    "                          remain=timeSince(start, float(step+1)/len(valid_loader))))\n",
    "    predictions = np.concatenate(preds)\n",
    "    predictions = np.concatenate(predictions)\n",
    "    return losses.avg, predictions\n",
    "\n",
    "\n",
    "def inference_fn(test_loader, model, device):\n",
    "    preds = []\n",
    "    model.eval()\n",
    "    model.to(device)\n",
    "    tk0 = tqdm(test_loader, total=len(test_loader))\n",
    "    for inputs in tk0:\n",
    "        for k, v in inputs.items():\n",
    "            inputs[k] = v.to(device)\n",
    "        with torch.no_grad():\n",
    "            y_preds = model(inputs)\n",
    "        preds.append(y_preds.sigmoid().to('cpu').numpy())\n",
    "    predictions = np.concatenate(preds)\n",
    "    return predictions"
   ]
  },
  {
   "cell_type": "code",
   "execution_count": 27,
   "id": "e3e9d570",
   "metadata": {
    "id": "bed940e1",
    "papermill": {
     "duration": 0.071348,
     "end_time": "2022-03-22T09:40:52.697940",
     "exception": false,
     "start_time": "2022-03-22T09:40:52.626592",
     "status": "completed"
    },
    "tags": []
   },
   "outputs": [],
   "source": [
    "# ====================================================\n",
    "# train loop\n",
    "# ====================================================\n",
    "# def train_loop(folds, fold):\n",
    "def train_loop(train_loader, valid_loader):\n",
    "#     LOGGER.info(f\"========== fold: {fold} training ==========\")\n",
    "\n",
    "#     # ====================================================\n",
    "#     # loader\n",
    "#     # ====================================================\n",
    "#     train_folds = folds[folds['fold'] != fold].reset_index(drop=True)\n",
    "#     valid_folds = folds[folds['fold'] == fold].reset_index(drop=True)\n",
    "#     valid_labels = valid_folds['score'].values\n",
    "    \n",
    "#     train_dataset = TrainDataset(CFG, train_folds)\n",
    "#     valid_dataset = TrainDataset(CFG, valid_folds)\n",
    "\n",
    "#     train_loader = DataLoader(train_dataset,\n",
    "#                               batch_size=CFG.batch_size,\n",
    "#                               shuffle=True,\n",
    "#                               num_workers=CFG.num_workers, pin_memory=True, drop_last=True)\n",
    "#     valid_loader = DataLoader(valid_dataset,\n",
    "#                               batch_size=CFG.batch_size,\n",
    "#                               shuffle=False,\n",
    "#                               num_workers=CFG.num_workers, pin_memory=True, drop_last=False)\n",
    "\n",
    "    # ====================================================\n",
    "    # model & optimizer\n",
    "    # ====================================================\n",
    "    model = CustomModel(CFG, config_path=None, pretrained=True)\n",
    "    torch.save(model.config, OUTPUT_DIR+'config.pth')\n",
    "    model.to(device)\n",
    "    \n",
    "    def get_optimizer_params(model, encoder_lr, decoder_lr, weight_decay=0.0):\n",
    "        param_optimizer = list(model.named_parameters())\n",
    "        no_decay = [\"bias\", \"LayerNorm.bias\", \"LayerNorm.weight\"]\n",
    "        optimizer_parameters = [\n",
    "            {'params': [p for n, p in model.model.named_parameters() if not any(nd in n for nd in no_decay)],\n",
    "             'lr': encoder_lr, 'weight_decay': weight_decay},\n",
    "            {'params': [p for n, p in model.model.named_parameters() if any(nd in n for nd in no_decay)],\n",
    "             'lr': encoder_lr, 'weight_decay': 0.0},\n",
    "            {'params': [p for n, p in model.named_parameters() if \"model\" not in n],\n",
    "             'lr': decoder_lr, 'weight_decay': 0.0}\n",
    "        ]\n",
    "        return optimizer_parameters\n",
    "\n",
    "    optimizer_parameters = get_optimizer_params(model,\n",
    "                                                encoder_lr=CFG.encoder_lr, \n",
    "                                                decoder_lr=CFG.decoder_lr,\n",
    "                                                weight_decay=CFG.weight_decay)\n",
    "    optimizer = AdamW(optimizer_parameters, lr=CFG.encoder_lr, eps=CFG.eps, betas=CFG.betas)\n",
    "    \n",
    "    # ====================================================\n",
    "    # scheduler\n",
    "    # ====================================================\n",
    "    def get_scheduler(cfg, optimizer, num_train_steps):\n",
    "        if cfg.scheduler == 'linear':\n",
    "            scheduler = get_linear_schedule_with_warmup(\n",
    "                optimizer, num_warmup_steps=cfg.num_warmup_steps, num_training_steps=num_train_steps\n",
    "            )\n",
    "        elif cfg.scheduler == 'cosine':\n",
    "            scheduler = get_cosine_schedule_with_warmup(\n",
    "                optimizer, num_warmup_steps=cfg.num_warmup_steps, num_training_steps=num_train_steps, num_cycles=cfg.num_cycles\n",
    "            )\n",
    "        return scheduler\n",
    "    \n",
    "    num_train_steps = int(len(train_folds) / CFG.batch_size * CFG.epochs)\n",
    "    scheduler = get_scheduler(CFG, optimizer, num_train_steps)\n",
    "\n",
    "    # ====================================================\n",
    "    # loop\n",
    "    # ====================================================\n",
    "    criterion = nn.BCEWithLogitsLoss(reduction=\"mean\")\n",
    "    \n",
    "    best_score = 0.\n",
    "\n",
    "    for epoch in range(CFG.epochs):\n",
    "        start_time = time.time()\n",
    "\n",
    "        # train\n",
    "        avg_loss = train_fn(fold, train_loader, model, criterion, optimizer, epoch, scheduler, device)\n",
    "\n",
    "        # eval\n",
    "        avg_val_loss, predictions = valid_fn(valid_loader, model, criterion, device)\n",
    "        \n",
    "        # scoring\n",
    "        score = get_score(valid_labels, predictions)\n",
    "\n",
    "        elapsed = time.time() - start_time\n",
    "\n",
    "        LOGGER.info(f'Epoch {epoch+1} - avg_train_loss: {avg_loss:.4f}  avg_val_loss: {avg_val_loss:.4f}  time: {elapsed:.0f}s')\n",
    "        LOGGER.info(f'Epoch {epoch+1} - Score: {score:.4f}')\n",
    "        if CFG.wandb:\n",
    "            wandb.log({f\"[fold{fold}] epoch\": epoch+1, \n",
    "                       f\"[fold{fold}] avg_train_loss\": avg_loss, \n",
    "                       f\"[fold{fold}] avg_val_loss\": avg_val_loss,\n",
    "                       f\"[fold{fold}] score\": score})\n",
    "        \n",
    "        if best_score < score:\n",
    "            best_score = score\n",
    "            LOGGER.info(f'Epoch {epoch+1} - Save Best Score: {best_score:.4f} Model')\n",
    "            torch.save({'model': model.state_dict(),\n",
    "                        'predictions': predictions},\n",
    "                        OUTPUT_DIR+f\"{CFG.model.replace('/', '-')}_fold{fold}_best.pth\")\n",
    "\n",
    "    predictions = torch.load(OUTPUT_DIR+f\"{CFG.model.replace('/', '-')}_fold{fold}_best.pth\", \n",
    "                             map_location=torch.device('cpu'))['predictions']\n",
    "    valid_folds['pred'] = predictions\n",
    "\n",
    "    torch.cuda.empty_cache()\n",
    "    gc.collect()\n",
    "    \n",
    "    return valid_folds"
   ]
  },
  {
   "cell_type": "code",
   "execution_count": 28,
   "id": "13eeaf68",
   "metadata": {
    "id": "6cc76b1e",
    "papermill": {
     "duration": 30265.411984,
     "end_time": "2022-03-22T18:05:18.155447",
     "exception": false,
     "start_time": "2022-03-22T09:40:52.743463",
     "status": "completed"
    },
    "scrolled": true,
    "tags": []
   },
   "outputs": [
    {
     "name": "stderr",
     "output_type": "stream",
     "text": [
      "========== fold: 0 training ==========\n"
     ]
    },
    {
     "name": "stdout",
     "output_type": "stream",
     "text": [
      "\u001b[38;5;40m========== fold: 0 training ==========\u001b[0m\n"
     ]
    },
    {
     "name": "stderr",
     "output_type": "stream",
     "text": [
      "Some weights of the model checkpoint at microsoft/mpnet-base were not used when initializing MPNetModel: ['lm_head.dense.bias', 'lm_head.bias', 'lm_head.decoder.weight', 'lm_head.decoder.bias', 'lm_head.dense.weight', 'lm_head.layer_norm.bias', 'lm_head.layer_norm.weight']\n",
      "- This IS expected if you are initializing MPNetModel from the checkpoint of a model trained on another task or with another architecture (e.g. initializing a BertForSequenceClassification model from a BertForPreTraining model).\n",
      "- This IS NOT expected if you are initializing MPNetModel from the checkpoint of a model that you expect to be exactly identical (initializing a BertForSequenceClassification model from a BertForSequenceClassification model).\n",
      "Some weights of MPNetModel were not initialized from the model checkpoint at microsoft/mpnet-base and are newly initialized: ['mpnet.pooler.dense.weight', 'mpnet.pooler.dense.bias']\n",
      "You should probably TRAIN this model on a down-stream task to be able to use it for predictions and inference.\n",
      "Some weights of the model checkpoint at microsoft/mpnet-base were not used when initializing MPNetForTokenClassification: ['lm_head.dense.bias', 'lm_head.bias', 'lm_head.decoder.weight', 'lm_head.decoder.bias', 'lm_head.dense.weight', 'lm_head.layer_norm.bias', 'lm_head.layer_norm.weight']\n",
      "- This IS expected if you are initializing MPNetForTokenClassification from the checkpoint of a model trained on another task or with another architecture (e.g. initializing a BertForSequenceClassification model from a BertForPreTraining model).\n",
      "- This IS NOT expected if you are initializing MPNetForTokenClassification from the checkpoint of a model that you expect to be exactly identical (initializing a BertForSequenceClassification model from a BertForSequenceClassification model).\n",
      "Some weights of MPNetForTokenClassification were not initialized from the model checkpoint at microsoft/mpnet-base and are newly initialized: ['classifier.weight', 'classifier.bias']\n",
      "You should probably TRAIN this model on a down-stream task to be able to use it for predictions and inference.\n"
     ]
    },
    {
     "name": "stdout",
     "output_type": "stream",
     "text": [
      "Epoch: [1][0/1709] Elapsed 0m 43s (remain 1225m 57s) Loss: 0.7077(0.7077) Grad: nan  LR: 0.00002000  \n",
      "Epoch: [1][100/1709] Elapsed 3m 19s (remain 52m 57s) Loss: 0.6350(0.6624) Grad: 3424.1055  LR: 0.00002000  \n",
      "Epoch: [1][200/1709] Elapsed 4m 42s (remain 35m 17s) Loss: 0.6694(0.6495) Grad: 3364.6162  LR: 0.00001999  \n",
      "Epoch: [1][300/1709] Elapsed 6m 10s (remain 28m 53s) Loss: 0.6484(0.6412) Grad: 2191.7217  LR: 0.00001998  \n",
      "Epoch: [1][400/1709] Elapsed 7m 43s (remain 25m 11s) Loss: 0.6740(0.6339) Grad: 2314.0171  LR: 0.00001996  \n",
      "Epoch: [1][500/1709] Elapsed 9m 17s (remain 22m 24s) Loss: 0.5973(0.6287) Grad: 1325.5529  LR: 0.00001993  \n",
      "Epoch: [1][600/1709] Elapsed 10m 52s (remain 20m 2s) Loss: 0.6263(0.6230) Grad: 2773.1428  LR: 0.00001990  \n",
      "Epoch: [1][700/1709] Elapsed 12m 26s (remain 17m 53s) Loss: 0.5188(0.6193) Grad: 3836.9314  LR: 0.00001987  \n",
      "Epoch: [1][800/1709] Elapsed 14m 8s (remain 16m 1s) Loss: 0.6290(0.6153) Grad: 1329.5582  LR: 0.00001983  \n",
      "Epoch: [1][900/1709] Elapsed 15m 15s (remain 13m 40s) Loss: 0.5895(0.6115) Grad: 1835.8406  LR: 0.00001979  \n",
      "Epoch: [1][1000/1709] Elapsed 16m 23s (remain 11m 35s) Loss: 0.5354(0.6086) Grad: 1505.5237  LR: 0.00001974  \n",
      "Epoch: [1][1100/1709] Elapsed 17m 30s (remain 9m 39s) Loss: 0.5943(0.6061) Grad: 3580.4590  LR: 0.00001968  \n",
      "Epoch: [1][1200/1709] Elapsed 18m 45s (remain 7m 55s) Loss: 0.5770(0.6041) Grad: 4577.5908  LR: 0.00001962  \n",
      "Epoch: [1][1300/1709] Elapsed 19m 55s (remain 6m 14s) Loss: 0.5614(0.6022) Grad: 5036.6768  LR: 0.00001956  \n",
      "Epoch: [1][1400/1709] Elapsed 21m 11s (remain 4m 39s) Loss: 0.5166(0.6003) Grad: 2312.5369  LR: 0.00001949  \n",
      "Epoch: [1][1500/1709] Elapsed 22m 30s (remain 3m 7s) Loss: 0.5937(0.5988) Grad: 1514.1644  LR: 0.00001941  \n",
      "Epoch: [1][1600/1709] Elapsed 23m 40s (remain 1m 35s) Loss: 0.5799(0.5966) Grad: 1569.4691  LR: 0.00001933  \n",
      "Epoch: [1][1700/1709] Elapsed 24m 54s (remain 0m 7s) Loss: 0.5191(0.5950) Grad: 3078.1670  LR: 0.00001925  \n",
      "Epoch: [1][1708/1709] Elapsed 24m 58s (remain 0m 0s) Loss: 0.6154(0.5950) Grad: 1195.8248  LR: 0.00001924  \n"
     ]
    },
    {
     "name": "stderr",
     "output_type": "stream",
     "text": [
      "[W pthreadpool-cpp.cc:90] Warning: Leaking Caffe2 thread-pool after fork. (function pthreadpool)\n",
      "[W pthreadpool-cpp.cc:90] Warning: Leaking Caffe2 thread-pool after fork. (function pthreadpool)\n",
      "[W pthreadpool-cpp.cc:90] Warning: Leaking Caffe2 thread-pool after fork. (function pthreadpool)\n",
      "[W pthreadpool-cpp.cc:90] Warning: Leaking Caffe2 thread-pool after fork. (function pthreadpool)\n"
     ]
    },
    {
     "name": "stdout",
     "output_type": "stream",
     "text": [
      "EVAL: [0/570] Elapsed 0m 3s (remain 37m 55s) Loss: 0.6461(0.6461) \n",
      "EVAL: [100/570] Elapsed 0m 24s (remain 1m 51s) Loss: 0.4700(0.5627) \n",
      "EVAL: [200/570] Elapsed 0m 46s (remain 1m 25s) Loss: 0.5523(0.5642) \n",
      "EVAL: [300/570] Elapsed 1m 22s (remain 1m 13s) Loss: 0.7468(0.5691) \n",
      "EVAL: [400/570] Elapsed 1m 38s (remain 0m 41s) Loss: 0.6773(0.5679) \n",
      "EVAL: [500/570] Elapsed 1m 52s (remain 0m 15s) Loss: 0.5898(0.5672) \n"
     ]
    },
    {
     "name": "stderr",
     "output_type": "stream",
     "text": [
      "Epoch 1 - avg_train_loss: 0.5950  avg_val_loss: 0.5662  time: 1624s\n",
      "Epoch 1 - Score: 0.7712\n",
      "Epoch 1 - Save Best Score: 0.7712 Model\n"
     ]
    },
    {
     "name": "stdout",
     "output_type": "stream",
     "text": [
      "EVAL: [569/570] Elapsed 2m 4s (remain 0m 0s) Loss: 0.5081(0.5662) \n"
     ]
    },
    {
     "name": "stderr",
     "output_type": "stream",
     "text": [
      "[W pthreadpool-cpp.cc:90] Warning: Leaking Caffe2 thread-pool after fork. (function pthreadpool)\n",
      "[W pthreadpool-cpp.cc:90] Warning: Leaking Caffe2 thread-pool after fork. (function pthreadpool)\n",
      "[W pthreadpool-cpp.cc:90] Warning: Leaking Caffe2 thread-pool after fork. (function pthreadpool)\n",
      "[W pthreadpool-cpp.cc:90] Warning: Leaking Caffe2 thread-pool after fork. (function pthreadpool)\n"
     ]
    },
    {
     "name": "stdout",
     "output_type": "stream",
     "text": [
      "Epoch: [2][0/1709] Elapsed 0m 0s (remain 13m 47s) Loss: 0.5196(0.5196) Grad: 154583.6250  LR: 0.00001924  \n",
      "Epoch: [2][100/1709] Elapsed 0m 58s (remain 15m 27s) Loss: 0.5492(0.5625) Grad: 304491.9375  LR: 0.00001915  \n",
      "Epoch: [2][200/1709] Elapsed 1m 54s (remain 14m 15s) Loss: 0.5777(0.5619) Grad: 61665.3789  LR: 0.00001905  \n",
      "Epoch: [2][300/1709] Elapsed 2m 51s (remain 13m 20s) Loss: 0.5506(0.5590) Grad: 65588.3984  LR: 0.00001895  \n",
      "Epoch: [2][400/1709] Elapsed 3m 47s (remain 12m 20s) Loss: 0.5434(0.5540) Grad: 49994.5664  LR: 0.00001885  \n",
      "Epoch: [2][500/1709] Elapsed 4m 46s (remain 11m 31s) Loss: 0.5513(0.5538) Grad: 52201.6367  LR: 0.00001874  \n",
      "Epoch: [2][600/1709] Elapsed 5m 43s (remain 10m 33s) Loss: 0.6373(0.5541) Grad: 97290.1719  LR: 0.00001863  \n",
      "Epoch: [2][700/1709] Elapsed 6m 40s (remain 9m 35s) Loss: 0.3997(0.5535) Grad: 38089.7227  LR: 0.00001851  \n",
      "Epoch: [2][800/1709] Elapsed 7m 40s (remain 8m 42s) Loss: 0.5663(0.5540) Grad: 75051.8906  LR: 0.00001838  \n",
      "Epoch: [2][900/1709] Elapsed 8m 32s (remain 7m 39s) Loss: 0.5050(0.5528) Grad: 20220.6504  LR: 0.00001826  \n",
      "Epoch: [2][1000/1709] Elapsed 9m 24s (remain 6m 39s) Loss: 0.5726(0.5525) Grad: 29445.5508  LR: 0.00001812  \n",
      "Epoch: [2][1100/1709] Elapsed 10m 19s (remain 5m 41s) Loss: 0.4793(0.5525) Grad: 30481.5098  LR: 0.00001799  \n",
      "Epoch: [2][1200/1709] Elapsed 11m 15s (remain 4m 45s) Loss: 0.6354(0.5522) Grad: 44068.3555  LR: 0.00001785  \n",
      "Epoch: [2][1300/1709] Elapsed 12m 13s (remain 3m 50s) Loss: 0.5434(0.5523) Grad: 16291.3086  LR: 0.00001770  \n",
      "Epoch: [2][1400/1709] Elapsed 13m 9s (remain 2m 53s) Loss: 0.5355(0.5525) Grad: 13347.7383  LR: 0.00001756  \n",
      "Epoch: [2][1500/1709] Elapsed 14m 3s (remain 1m 56s) Loss: 0.5967(0.5522) Grad: 31234.1094  LR: 0.00001740  \n",
      "Epoch: [2][1600/1709] Elapsed 14m 52s (remain 1m 0s) Loss: 0.5337(0.5518) Grad: 11434.6133  LR: 0.00001725  \n",
      "Epoch: [2][1700/1709] Elapsed 15m 43s (remain 0m 4s) Loss: 0.5788(0.5519) Grad: 14083.6094  LR: 0.00001709  \n",
      "Epoch: [2][1708/1709] Elapsed 15m 49s (remain 0m 0s) Loss: 0.6774(0.5520) Grad: 3800.7939  LR: 0.00001707  \n"
     ]
    },
    {
     "name": "stderr",
     "output_type": "stream",
     "text": [
      "[W pthreadpool-cpp.cc:90] Warning: Leaking Caffe2 thread-pool after fork. (function pthreadpool)\n",
      "[W pthreadpool-cpp.cc:90] Warning: Leaking Caffe2 thread-pool after fork. (function pthreadpool)\n",
      "[W pthreadpool-cpp.cc:90] Warning: Leaking Caffe2 thread-pool after fork. (function pthreadpool)\n",
      "[W pthreadpool-cpp.cc:90] Warning: Leaking Caffe2 thread-pool after fork. (function pthreadpool)\n"
     ]
    },
    {
     "name": "stdout",
     "output_type": "stream",
     "text": [
      "EVAL: [0/570] Elapsed 0m 0s (remain 3m 28s) Loss: 0.6146(0.6146) \n",
      "EVAL: [100/570] Elapsed 0m 18s (remain 1m 26s) Loss: 0.4718(0.5554) \n",
      "EVAL: [200/570] Elapsed 0m 33s (remain 1m 1s) Loss: 0.5345(0.5563) \n",
      "EVAL: [300/570] Elapsed 0m 49s (remain 0m 44s) Loss: 0.6777(0.5621) \n",
      "EVAL: [400/570] Elapsed 1m 8s (remain 0m 28s) Loss: 0.6742(0.5605) \n",
      "EVAL: [500/570] Elapsed 1m 24s (remain 0m 11s) Loss: 0.5753(0.5602) \n"
     ]
    },
    {
     "name": "stderr",
     "output_type": "stream",
     "text": [
      "Epoch 2 - avg_train_loss: 0.5520  avg_val_loss: 0.5590  time: 1047s\n",
      "Epoch 2 - Score: 0.7969\n",
      "Epoch 2 - Save Best Score: 0.7969 Model\n"
     ]
    },
    {
     "name": "stdout",
     "output_type": "stream",
     "text": [
      "EVAL: [569/570] Elapsed 1m 36s (remain 0m 0s) Loss: 0.5060(0.5590) \n"
     ]
    },
    {
     "name": "stderr",
     "output_type": "stream",
     "text": [
      "[W pthreadpool-cpp.cc:90] Warning: Leaking Caffe2 thread-pool after fork. (function pthreadpool)\n",
      "[W pthreadpool-cpp.cc:90] Warning: Leaking Caffe2 thread-pool after fork. (function pthreadpool)\n",
      "[W pthreadpool-cpp.cc:90] Warning: Leaking Caffe2 thread-pool after fork. (function pthreadpool)\n",
      "[W pthreadpool-cpp.cc:90] Warning: Leaking Caffe2 thread-pool after fork. (function pthreadpool)\n"
     ]
    },
    {
     "name": "stdout",
     "output_type": "stream",
     "text": [
      "Epoch: [3][0/1709] Elapsed 0m 2s (remain 81m 30s) Loss: 0.4344(0.4344) Grad: 101520.2500  LR: 0.00001707  \n",
      "Epoch: [3][100/1709] Elapsed 0m 59s (remain 15m 43s) Loss: 0.5042(0.5394) Grad: 92109.6562  LR: 0.00001691  \n",
      "Epoch: [3][200/1709] Elapsed 1m 57s (remain 14m 40s) Loss: 0.5760(0.5383) Grad: 19850.5762  LR: 0.00001674  \n",
      "Epoch: [3][300/1709] Elapsed 2m 57s (remain 13m 49s) Loss: 0.4588(0.5432) Grad: 9703.1904  LR: 0.00001657  \n",
      "Epoch: [3][400/1709] Elapsed 3m 55s (remain 12m 49s) Loss: 0.5015(0.5410) Grad: 9669.2773  LR: 0.00001639  \n",
      "Epoch: [3][500/1709] Elapsed 4m 56s (remain 11m 55s) Loss: 0.5504(0.5424) Grad: 6023.2666  LR: 0.00001621  \n",
      "Epoch: [3][600/1709] Elapsed 5m 56s (remain 10m 57s) Loss: 0.4797(0.5440) Grad: 6480.5615  LR: 0.00001603  \n",
      "Epoch: [3][700/1709] Elapsed 6m 53s (remain 9m 55s) Loss: 0.4751(0.5444) Grad: 7627.0181  LR: 0.00001585  \n",
      "Epoch: [3][800/1709] Elapsed 7m 46s (remain 8m 48s) Loss: 0.5031(0.5445) Grad: 7517.4463  LR: 0.00001566  \n",
      "Epoch: [3][900/1709] Elapsed 8m 42s (remain 7m 48s) Loss: 0.4799(0.5449) Grad: 3972.5901  LR: 0.00001547  \n",
      "Epoch: [3][1000/1709] Elapsed 9m 38s (remain 6m 48s) Loss: 0.5066(0.5464) Grad: 6361.6914  LR: 0.00001528  \n",
      "Epoch: [3][1100/1709] Elapsed 10m 37s (remain 5m 52s) Loss: 0.4102(0.5472) Grad: 3861.9717  LR: 0.00001508  \n",
      "Epoch: [3][1200/1709] Elapsed 11m 36s (remain 4m 54s) Loss: 0.6699(0.5470) Grad: 12795.3320  LR: 0.00001488  \n",
      "Epoch: [3][1300/1709] Elapsed 12m 36s (remain 3m 57s) Loss: 0.5115(0.5477) Grad: 2532.0896  LR: 0.00001468  \n",
      "Epoch: [3][1400/1709] Elapsed 13m 36s (remain 2m 59s) Loss: 0.6289(0.5483) Grad: 6592.6260  LR: 0.00001447  \n",
      "Epoch: [3][1500/1709] Elapsed 14m 40s (remain 2m 1s) Loss: 0.5802(0.5491) Grad: 2876.4214  LR: 0.00001427  \n",
      "Epoch: [3][1600/1709] Elapsed 15m 36s (remain 1m 3s) Loss: 0.5251(0.5494) Grad: 3322.3113  LR: 0.00001406  \n",
      "Epoch: [3][1700/1709] Elapsed 16m 29s (remain 0m 4s) Loss: 0.5005(0.5496) Grad: 4304.3481  LR: 0.00001385  \n"
     ]
    },
    {
     "name": "stderr",
     "output_type": "stream",
     "text": [
      "[W pthreadpool-cpp.cc:90] Warning: Leaking Caffe2 thread-pool after fork. (function pthreadpool)\n",
      "[W pthreadpool-cpp.cc:90] Warning: Leaking Caffe2 thread-pool after fork. (function pthreadpool)\n"
     ]
    },
    {
     "name": "stdout",
     "output_type": "stream",
     "text": [
      "Epoch: [3][1708/1709] Elapsed 16m 35s (remain 0m 0s) Loss: 0.5142(0.5495) Grad: 3704.8408  LR: 0.00001383  \n"
     ]
    },
    {
     "name": "stderr",
     "output_type": "stream",
     "text": [
      "[W pthreadpool-cpp.cc:90] Warning: Leaking Caffe2 thread-pool after fork. (function pthreadpool)\n",
      "[W pthreadpool-cpp.cc:90] Warning: Leaking Caffe2 thread-pool after fork. (function pthreadpool)\n",
      "[W pthreadpool-cpp.cc:90] Warning: Leaking Caffe2 thread-pool after fork. (function pthreadpool)\n",
      "[W pthreadpool-cpp.cc:90] Warning: Leaking Caffe2 thread-pool after fork. (function pthreadpool)\n"
     ]
    },
    {
     "name": "stdout",
     "output_type": "stream",
     "text": [
      "EVAL: [0/570] Elapsed 0m 0s (remain 2m 47s) Loss: 0.5529(0.5529) \n",
      "EVAL: [100/570] Elapsed 0m 17s (remain 1m 19s) Loss: 0.4641(0.5607) \n",
      "EVAL: [200/570] Elapsed 0m 35s (remain 1m 5s) Loss: 0.5391(0.5602) \n",
      "EVAL: [300/570] Elapsed 0m 49s (remain 0m 44s) Loss: 0.7146(0.5655) \n",
      "EVAL: [400/570] Elapsed 1m 3s (remain 0m 26s) Loss: 0.6849(0.5645) \n",
      "EVAL: [500/570] Elapsed 1m 19s (remain 0m 10s) Loss: 0.5827(0.5642) \n"
     ]
    },
    {
     "name": "stderr",
     "output_type": "stream",
     "text": [
      "Epoch 3 - avg_train_loss: 0.5495  avg_val_loss: 0.5632  time: 1084s\n",
      "Epoch 3 - Score: 0.7977\n",
      "Epoch 3 - Save Best Score: 0.7977 Model\n"
     ]
    },
    {
     "name": "stdout",
     "output_type": "stream",
     "text": [
      "EVAL: [569/570] Elapsed 1m 28s (remain 0m 0s) Loss: 0.4986(0.5632) \n"
     ]
    },
    {
     "name": "stderr",
     "output_type": "stream",
     "text": [
      "[W pthreadpool-cpp.cc:90] Warning: Leaking Caffe2 thread-pool after fork. (function pthreadpool)\n",
      "[W pthreadpool-cpp.cc:90] Warning: Leaking Caffe2 thread-pool after fork. (function pthreadpool)\n",
      "[W pthreadpool-cpp.cc:90] Warning: Leaking Caffe2 thread-pool after fork. (function pthreadpool)\n",
      "[W pthreadpool-cpp.cc:90] Warning: Leaking Caffe2 thread-pool after fork. (function pthreadpool)\n"
     ]
    },
    {
     "name": "stdout",
     "output_type": "stream",
     "text": [
      "Epoch: [4][0/1709] Elapsed 0m 0s (remain 10m 34s) Loss: 0.5972(0.5972) Grad: 88114.1328  LR: 0.00001383  \n",
      "Epoch: [4][100/1709] Elapsed 0m 48s (remain 12m 54s) Loss: 0.4517(0.5529) Grad: 150959.8281  LR: 0.00001362  \n",
      "Epoch: [4][200/1709] Elapsed 1m 38s (remain 12m 17s) Loss: 0.5826(0.5408) Grad: 22059.5625  LR: 0.00001340  \n",
      "Epoch: [4][300/1709] Elapsed 2m 27s (remain 11m 28s) Loss: 0.5380(0.5390) Grad: 122924.7344  LR: 0.00001318  \n",
      "Epoch: [4][400/1709] Elapsed 3m 17s (remain 10m 42s) Loss: 0.4610(0.5377) Grad: 67021.4297  LR: 0.00001296  \n",
      "Epoch: [4][500/1709] Elapsed 4m 8s (remain 9m 59s) Loss: 0.6908(0.5370) Grad: 119831.1875  LR: 0.00001274  \n",
      "Epoch: [4][600/1709] Elapsed 5m 3s (remain 9m 20s) Loss: 0.5080(0.5359) Grad: 27103.1797  LR: 0.00001252  \n",
      "Epoch: [4][700/1709] Elapsed 6m 0s (remain 8m 38s) Loss: 0.4985(0.5360) Grad: 28914.9082  LR: 0.00001230  \n",
      "Epoch: [4][800/1709] Elapsed 6m 58s (remain 7m 54s) Loss: 0.3930(0.5357) Grad: 22473.0117  LR: 0.00001208  \n",
      "Epoch: [4][900/1709] Elapsed 7m 49s (remain 7m 0s) Loss: 0.5713(0.5354) Grad: 13273.8477  LR: 0.00001185  \n",
      "Epoch: [4][1000/1709] Elapsed 8m 36s (remain 6m 5s) Loss: 0.4717(0.5352) Grad: 35450.5898  LR: 0.00001162  \n",
      "Epoch: [4][1100/1709] Elapsed 9m 30s (remain 5m 15s) Loss: 0.5014(0.5352) Grad: 23847.0625  LR: 0.00001140  \n",
      "Epoch: [4][1200/1709] Elapsed 10m 26s (remain 4m 25s) Loss: 0.5065(0.5359) Grad: 22964.7969  LR: 0.00001117  \n",
      "Epoch: [4][1300/1709] Elapsed 11m 16s (remain 3m 32s) Loss: 0.5253(0.5356) Grad: 29197.5957  LR: 0.00001094  \n",
      "Epoch: [4][1400/1709] Elapsed 12m 8s (remain 2m 40s) Loss: 0.4946(0.5355) Grad: 13596.9062  LR: 0.00001071  \n",
      "Epoch: [4][1500/1709] Elapsed 12m 58s (remain 1m 47s) Loss: 0.6219(0.5349) Grad: 6297.5015  LR: 0.00001048  \n",
      "Epoch: [4][1600/1709] Elapsed 13m 50s (remain 0m 56s) Loss: 0.4661(0.5342) Grad: 25439.9531  LR: 0.00001025  \n",
      "Epoch: [4][1700/1709] Elapsed 14m 41s (remain 0m 4s) Loss: 0.5452(0.5349) Grad: 47239.1914  LR: 0.00001002  \n"
     ]
    },
    {
     "name": "stderr",
     "output_type": "stream",
     "text": [
      "[W pthreadpool-cpp.cc:90] Warning: Leaking Caffe2 thread-pool after fork. (function pthreadpool)\n"
     ]
    },
    {
     "name": "stdout",
     "output_type": "stream",
     "text": [
      "Epoch: [4][1708/1709] Elapsed 14m 44s (remain 0m 0s) Loss: 0.4523(0.5350) Grad: 6866.7944  LR: 0.00001001  \n"
     ]
    },
    {
     "name": "stderr",
     "output_type": "stream",
     "text": [
      "[W pthreadpool-cpp.cc:90] Warning: Leaking Caffe2 thread-pool after fork. (function pthreadpool)\n",
      "[W pthreadpool-cpp.cc:90] Warning: Leaking Caffe2 thread-pool after fork. (function pthreadpool)\n",
      "[W pthreadpool-cpp.cc:90] Warning: Leaking Caffe2 thread-pool after fork. (function pthreadpool)\n",
      "[W pthreadpool-cpp.cc:90] Warning: Leaking Caffe2 thread-pool after fork. (function pthreadpool)\n"
     ]
    },
    {
     "name": "stdout",
     "output_type": "stream",
     "text": [
      "EVAL: [0/570] Elapsed 0m 1s (remain 18m 56s) Loss: 0.5648(0.5648) \n",
      "EVAL: [100/570] Elapsed 0m 17s (remain 1m 22s) Loss: 0.4926(0.5550) \n",
      "EVAL: [200/570] Elapsed 0m 33s (remain 1m 0s) Loss: 0.5236(0.5543) \n",
      "EVAL: [300/570] Elapsed 0m 48s (remain 0m 43s) Loss: 0.7338(0.5610) \n",
      "EVAL: [400/570] Elapsed 1m 5s (remain 0m 27s) Loss: 0.7131(0.5608) \n",
      "EVAL: [500/570] Elapsed 1m 21s (remain 0m 11s) Loss: 0.5541(0.5605) \n"
     ]
    },
    {
     "name": "stderr",
     "output_type": "stream",
     "text": [
      "Epoch 4 - avg_train_loss: 0.5350  avg_val_loss: 0.5589  time: 978s\n",
      "Epoch 4 - Score: 0.8125\n",
      "Epoch 4 - Save Best Score: 0.8125 Model\n"
     ]
    },
    {
     "name": "stdout",
     "output_type": "stream",
     "text": [
      "EVAL: [569/570] Elapsed 1m 32s (remain 0m 0s) Loss: 0.5034(0.5589) \n"
     ]
    },
    {
     "name": "stderr",
     "output_type": "stream",
     "text": [
      "[W pthreadpool-cpp.cc:90] Warning: Leaking Caffe2 thread-pool after fork. (function pthreadpool)\n",
      "[W pthreadpool-cpp.cc:90] Warning: Leaking Caffe2 thread-pool after fork. (function pthreadpool)\n",
      "[W pthreadpool-cpp.cc:90] Warning: Leaking Caffe2 thread-pool after fork. (function pthreadpool)\n",
      "[W pthreadpool-cpp.cc:90] Warning: Leaking Caffe2 thread-pool after fork. (function pthreadpool)\n"
     ]
    },
    {
     "name": "stdout",
     "output_type": "stream",
     "text": [
      "Epoch: [5][0/1709] Elapsed 0m 0s (remain 9m 56s) Loss: 0.4961(0.4961) Grad: 61874.4648  LR: 0.00001000  \n",
      "Epoch: [5][100/1709] Elapsed 0m 51s (remain 13m 43s) Loss: 0.3549(0.5339) Grad: 12710.1387  LR: 0.00000977  \n",
      "Epoch: [5][200/1709] Elapsed 1m 44s (remain 13m 7s) Loss: 0.5784(0.5327) Grad: 37306.6289  LR: 0.00000954  \n",
      "Epoch: [5][300/1709] Elapsed 2m 35s (remain 12m 8s) Loss: 0.5341(0.5295) Grad: 11149.9834  LR: 0.00000931  \n",
      "Epoch: [5][400/1709] Elapsed 3m 28s (remain 11m 19s) Loss: 0.5079(0.5261) Grad: 29292.7012  LR: 0.00000909  \n",
      "Epoch: [5][500/1709] Elapsed 4m 22s (remain 10m 32s) Loss: 0.3873(0.5301) Grad: 12991.9287  LR: 0.00000886  \n",
      "Epoch: [5][600/1709] Elapsed 5m 11s (remain 9m 34s) Loss: 0.5352(0.5316) Grad: 15178.2158  LR: 0.00000863  \n",
      "Epoch: [5][700/1709] Elapsed 6m 3s (remain 8m 42s) Loss: 0.6332(0.5315) Grad: 13241.2383  LR: 0.00000840  \n",
      "Epoch: [5][800/1709] Elapsed 6m 55s (remain 7m 50s) Loss: 0.5224(0.5319) Grad: 8166.5215  LR: 0.00000818  \n",
      "Epoch: [5][900/1709] Elapsed 7m 52s (remain 7m 3s) Loss: 0.4631(0.5313) Grad: 13299.3457  LR: 0.00000795  \n",
      "Epoch: [5][1000/1709] Elapsed 8m 41s (remain 6m 8s) Loss: 0.4880(0.5318) Grad: 16615.1562  LR: 0.00000773  \n",
      "Epoch: [5][1100/1709] Elapsed 9m 31s (remain 5m 15s) Loss: 0.4877(0.5314) Grad: 14236.0459  LR: 0.00000750  \n",
      "Epoch: [5][1200/1709] Elapsed 10m 19s (remain 4m 21s) Loss: 0.5610(0.5315) Grad: 21963.9297  LR: 0.00000728  \n",
      "Epoch: [5][1300/1709] Elapsed 11m 11s (remain 3m 30s) Loss: 0.6184(0.5314) Grad: 85330.7266  LR: 0.00000706  \n",
      "Epoch: [5][1400/1709] Elapsed 12m 7s (remain 2m 39s) Loss: 0.5135(0.5302) Grad: 7304.3315  LR: 0.00000684  \n",
      "Epoch: [5][1500/1709] Elapsed 12m 58s (remain 1m 47s) Loss: 0.5603(0.5294) Grad: 6358.4336  LR: 0.00000663  \n",
      "Epoch: [5][1600/1709] Elapsed 13m 53s (remain 0m 56s) Loss: 0.6712(0.5293) Grad: 66307.5547  LR: 0.00000641  \n",
      "Epoch: [5][1700/1709] Elapsed 14m 41s (remain 0m 4s) Loss: 0.5026(0.5294) Grad: 52293.4375  LR: 0.00000620  \n",
      "Epoch: [5][1708/1709] Elapsed 14m 47s (remain 0m 0s) Loss: 0.5958(0.5293) Grad: 20000.7520  LR: 0.00000618  \n"
     ]
    },
    {
     "name": "stderr",
     "output_type": "stream",
     "text": [
      "[W pthreadpool-cpp.cc:90] Warning: Leaking Caffe2 thread-pool after fork. (function pthreadpool)\n",
      "[W pthreadpool-cpp.cc:90] Warning: Leaking Caffe2 thread-pool after fork. (function pthreadpool)\n",
      "[W pthreadpool-cpp.cc:90] Warning: Leaking Caffe2 thread-pool after fork. (function pthreadpool)\n",
      "[W pthreadpool-cpp.cc:90] Warning: Leaking Caffe2 thread-pool after fork. (function pthreadpool)\n"
     ]
    },
    {
     "name": "stdout",
     "output_type": "stream",
     "text": [
      "EVAL: [0/570] Elapsed 0m 0s (remain 2m 40s) Loss: 0.5872(0.5872) \n",
      "EVAL: [100/570] Elapsed 0m 15s (remain 1m 10s) Loss: 0.4591(0.5534) \n",
      "EVAL: [200/570] Elapsed 0m 31s (remain 0m 58s) Loss: 0.5221(0.5530) \n",
      "EVAL: [300/570] Elapsed 0m 47s (remain 0m 42s) Loss: 0.7591(0.5599) \n",
      "EVAL: [400/570] Elapsed 1m 3s (remain 0m 26s) Loss: 0.7138(0.5596) \n",
      "EVAL: [500/570] Elapsed 1m 22s (remain 0m 11s) Loss: 0.5577(0.5597) \n"
     ]
    },
    {
     "name": "stderr",
     "output_type": "stream",
     "text": [
      "[W pthreadpool-cpp.cc:90] Warning: Leaking Caffe2 thread-pool after fork. (function pthreadpool)\n",
      "Epoch 5 - avg_train_loss: 0.5293  avg_val_loss: 0.5581  time: 981s\n",
      "Epoch 5 - Score: 0.8183\n",
      "Epoch 5 - Save Best Score: 0.8183 Model\n"
     ]
    },
    {
     "name": "stdout",
     "output_type": "stream",
     "text": [
      "EVAL: [569/570] Elapsed 1m 33s (remain 0m 0s) Loss: 0.4995(0.5581) \n"
     ]
    },
    {
     "name": "stderr",
     "output_type": "stream",
     "text": [
      "[W pthreadpool-cpp.cc:90] Warning: Leaking Caffe2 thread-pool after fork. (function pthreadpool)\n",
      "[W pthreadpool-cpp.cc:90] Warning: Leaking Caffe2 thread-pool after fork. (function pthreadpool)\n",
      "[W pthreadpool-cpp.cc:90] Warning: Leaking Caffe2 thread-pool after fork. (function pthreadpool)\n",
      "[W pthreadpool-cpp.cc:90] Warning: Leaking Caffe2 thread-pool after fork. (function pthreadpool)\n"
     ]
    },
    {
     "name": "stdout",
     "output_type": "stream",
     "text": [
      "Epoch: [6][0/1709] Elapsed 0m 0s (remain 10m 23s) Loss: 0.5625(0.5625) Grad: 94723.8438  LR: 0.00000618  \n",
      "Epoch: [6][100/1709] Elapsed 0m 50s (remain 13m 16s) Loss: 0.5870(0.5280) Grad: 89679.9766  LR: 0.00000597  \n",
      "Epoch: [6][200/1709] Elapsed 1m 43s (remain 12m 58s) Loss: 0.5268(0.5280) Grad: 72421.0078  LR: 0.00000576  \n",
      "Epoch: [6][300/1709] Elapsed 2m 39s (remain 12m 27s) Loss: 0.4939(0.5252) Grad: 29075.5215  LR: 0.00000555  \n",
      "Epoch: [6][400/1709] Elapsed 3m 35s (remain 11m 44s) Loss: 0.5517(0.5254) Grad: 23015.0508  LR: 0.00000535  \n",
      "Epoch: [6][500/1709] Elapsed 4m 30s (remain 10m 51s) Loss: 0.5197(0.5247) Grad: 33157.9883  LR: 0.00000514  \n",
      "Epoch: [6][600/1709] Elapsed 5m 25s (remain 9m 59s) Loss: 0.5617(0.5262) Grad: 10365.6660  LR: 0.00000494  \n",
      "Epoch: [6][700/1709] Elapsed 6m 20s (remain 9m 7s) Loss: 0.6087(0.5273) Grad: 120162.5703  LR: 0.00000475  \n",
      "Epoch: [6][800/1709] Elapsed 7m 12s (remain 8m 9s) Loss: 0.5467(0.5257) Grad: 32986.2070  LR: 0.00000455  \n",
      "Epoch: [6][900/1709] Elapsed 8m 4s (remain 7m 14s) Loss: 0.5087(0.5243) Grad: 10695.2549  LR: 0.00000436  \n",
      "Epoch: [6][1000/1709] Elapsed 8m 55s (remain 6m 18s) Loss: 0.5537(0.5239) Grad: 119703.9531  LR: 0.00000417  \n",
      "Epoch: [6][1100/1709] Elapsed 9m 48s (remain 5m 24s) Loss: 0.6007(0.5234) Grad: 74974.2891  LR: 0.00000399  \n",
      "Epoch: [6][1200/1709] Elapsed 10m 41s (remain 4m 31s) Loss: 0.5300(0.5233) Grad: 26449.0332  LR: 0.00000381  \n",
      "Epoch: [6][1300/1709] Elapsed 11m 28s (remain 3m 35s) Loss: 0.3390(0.5230) Grad: 21382.6562  LR: 0.00000363  \n",
      "Epoch: [6][1400/1709] Elapsed 12m 17s (remain 2m 42s) Loss: 0.4960(0.5230) Grad: 42983.2109  LR: 0.00000345  \n",
      "Epoch: [6][1500/1709] Elapsed 13m 4s (remain 1m 48s) Loss: 0.4024(0.5223) Grad: 43572.9414  LR: 0.00000328  \n",
      "Epoch: [6][1600/1709] Elapsed 13m 56s (remain 0m 56s) Loss: 0.5396(0.5222) Grad: 22622.2031  LR: 0.00000311  \n",
      "Epoch: [6][1700/1709] Elapsed 14m 48s (remain 0m 4s) Loss: 0.5843(0.5228) Grad: 7878.1997  LR: 0.00000295  \n",
      "Epoch: [6][1708/1709] Elapsed 14m 52s (remain 0m 0s) Loss: 0.5737(0.5227) Grad: 18659.8633  LR: 0.00000294  \n"
     ]
    },
    {
     "name": "stderr",
     "output_type": "stream",
     "text": [
      "[W pthreadpool-cpp.cc:90] Warning: Leaking Caffe2 thread-pool after fork. (function pthreadpool)\n",
      "[W pthreadpool-cpp.cc:90] Warning: Leaking Caffe2 thread-pool after fork. (function pthreadpool)\n",
      "[W pthreadpool-cpp.cc:90] Warning: Leaking Caffe2 thread-pool after fork. (function pthreadpool)\n",
      "[W pthreadpool-cpp.cc:90] Warning: Leaking Caffe2 thread-pool after fork. (function pthreadpool)\n"
     ]
    },
    {
     "name": "stdout",
     "output_type": "stream",
     "text": [
      "EVAL: [0/570] Elapsed 0m 0s (remain 2m 30s) Loss: 0.5620(0.5620) \n",
      "EVAL: [100/570] Elapsed 0m 14s (remain 1m 6s) Loss: 0.4635(0.5568) \n",
      "EVAL: [200/570] Elapsed 0m 28s (remain 0m 52s) Loss: 0.5255(0.5552) \n",
      "EVAL: [300/570] Elapsed 0m 46s (remain 0m 41s) Loss: 0.7259(0.5619) \n",
      "EVAL: [400/570] Elapsed 1m 2s (remain 0m 26s) Loss: 0.7301(0.5623) \n",
      "EVAL: [500/570] Elapsed 1m 18s (remain 0m 10s) Loss: 0.5521(0.5621) \n"
     ]
    },
    {
     "name": "stderr",
     "output_type": "stream",
     "text": [
      "Epoch 6 - avg_train_loss: 0.5227  avg_val_loss: 0.5603  time: 985s\n",
      "Epoch 6 - Score: 0.8211\n",
      "Epoch 6 - Save Best Score: 0.8211 Model\n"
     ]
    },
    {
     "name": "stdout",
     "output_type": "stream",
     "text": [
      "EVAL: [569/570] Elapsed 1m 30s (remain 0m 0s) Loss: 0.4943(0.5603) \n"
     ]
    },
    {
     "name": "stderr",
     "output_type": "stream",
     "text": [
      "[W pthreadpool-cpp.cc:90] Warning: Leaking Caffe2 thread-pool after fork. (function pthreadpool)\n",
      "[W pthreadpool-cpp.cc:90] Warning: Leaking Caffe2 thread-pool after fork. (function pthreadpool)\n",
      "[W pthreadpool-cpp.cc:90] Warning: Leaking Caffe2 thread-pool after fork. (function pthreadpool)\n",
      "[W pthreadpool-cpp.cc:90] Warning: Leaking Caffe2 thread-pool after fork. (function pthreadpool)\n"
     ]
    },
    {
     "name": "stdout",
     "output_type": "stream",
     "text": [
      "Epoch: [7][0/1709] Elapsed 0m 0s (remain 10m 8s) Loss: 0.5387(0.5387) Grad: 131741.0312  LR: 0.00000293  \n",
      "Epoch: [7][100/1709] Elapsed 0m 52s (remain 13m 53s) Loss: 0.4899(0.5166) Grad: 70692.6797  LR: 0.00000277  \n",
      "Epoch: [7][200/1709] Elapsed 1m 44s (remain 13m 1s) Loss: 0.5314(0.5190) Grad: 37767.9102  LR: 0.00000262  \n",
      "Epoch: [7][300/1709] Elapsed 2m 35s (remain 12m 9s) Loss: 0.5084(0.5184) Grad: 41124.0312  LR: 0.00000246  \n",
      "Epoch: [7][400/1709] Elapsed 3m 25s (remain 11m 8s) Loss: 0.4610(0.5192) Grad: 10988.7881  LR: 0.00000231  \n",
      "Epoch: [7][500/1709] Elapsed 4m 17s (remain 10m 21s) Loss: 0.6420(0.5221) Grad: 63604.1133  LR: 0.00000217  \n",
      "Epoch: [7][600/1709] Elapsed 5m 8s (remain 9m 27s) Loss: 0.5100(0.5192) Grad: 11400.6660  LR: 0.00000203  \n",
      "Epoch: [7][700/1709] Elapsed 5m 57s (remain 8m 34s) Loss: 0.5187(0.5193) Grad: 28003.2812  LR: 0.00000189  \n",
      "Epoch: [7][800/1709] Elapsed 6m 46s (remain 7m 40s) Loss: 0.4794(0.5189) Grad: 11783.4844  LR: 0.00000176  \n",
      "Epoch: [7][900/1709] Elapsed 7m 38s (remain 6m 51s) Loss: 0.4586(0.5195) Grad: 64959.7383  LR: 0.00000163  \n",
      "Epoch: [7][1000/1709] Elapsed 8m 29s (remain 6m 0s) Loss: 0.4390(0.5201) Grad: 28110.7734  LR: 0.00000151  \n",
      "Epoch: [7][1100/1709] Elapsed 9m 20s (remain 5m 9s) Loss: 0.5032(0.5195) Grad: 41694.5664  LR: 0.00000139  \n",
      "Epoch: [7][1200/1709] Elapsed 10m 11s (remain 4m 18s) Loss: 0.3448(0.5198) Grad: 16284.3604  LR: 0.00000127  \n",
      "Epoch: [7][1300/1709] Elapsed 11m 2s (remain 3m 27s) Loss: 0.4368(0.5195) Grad: 17257.6172  LR: 0.00000116  \n",
      "Epoch: [7][1400/1709] Elapsed 11m 52s (remain 2m 36s) Loss: 0.6736(0.5199) Grad: 74318.4766  LR: 0.00000106  \n",
      "Epoch: [7][1500/1709] Elapsed 12m 41s (remain 1m 45s) Loss: 0.4834(0.5192) Grad: 6538.0137  LR: 0.00000096  \n",
      "Epoch: [7][1600/1709] Elapsed 13m 33s (remain 0m 54s) Loss: 0.5731(0.5194) Grad: 6762.4160  LR: 0.00000086  \n",
      "Epoch: [7][1700/1709] Elapsed 14m 24s (remain 0m 4s) Loss: 0.5734(0.5193) Grad: 8387.8857  LR: 0.00000077  \n",
      "Epoch: [7][1708/1709] Elapsed 14m 30s (remain 0m 0s) Loss: 0.5585(0.5194) Grad: 11218.5010  LR: 0.00000077  \n"
     ]
    },
    {
     "name": "stderr",
     "output_type": "stream",
     "text": [
      "[W pthreadpool-cpp.cc:90] Warning: Leaking Caffe2 thread-pool after fork. (function pthreadpool)\n",
      "[W pthreadpool-cpp.cc:90] Warning: Leaking Caffe2 thread-pool after fork. (function pthreadpool)\n",
      "[W pthreadpool-cpp.cc:90] Warning: Leaking Caffe2 thread-pool after fork. (function pthreadpool)\n",
      "[W pthreadpool-cpp.cc:90] Warning: Leaking Caffe2 thread-pool after fork. (function pthreadpool)\n"
     ]
    },
    {
     "name": "stdout",
     "output_type": "stream",
     "text": [
      "EVAL: [0/570] Elapsed 0m 0s (remain 2m 34s) Loss: 0.5779(0.5779) \n",
      "EVAL: [100/570] Elapsed 0m 15s (remain 1m 11s) Loss: 0.4618(0.5612) \n",
      "EVAL: [200/570] Elapsed 0m 33s (remain 1m 1s) Loss: 0.5206(0.5589) \n",
      "EVAL: [300/570] Elapsed 0m 48s (remain 0m 43s) Loss: 0.7505(0.5661) \n",
      "EVAL: [400/570] Elapsed 1m 3s (remain 0m 26s) Loss: 0.7316(0.5666) \n",
      "EVAL: [500/570] Elapsed 1m 20s (remain 0m 11s) Loss: 0.5438(0.5670) \n"
     ]
    },
    {
     "name": "stderr",
     "output_type": "stream",
     "text": [
      "Epoch 7 - avg_train_loss: 0.5194  avg_val_loss: 0.5647  time: 960s\n",
      "Epoch 7 - Score: 0.8237\n",
      "Epoch 7 - Save Best Score: 0.8237 Model\n"
     ]
    },
    {
     "name": "stdout",
     "output_type": "stream",
     "text": [
      "EVAL: [569/570] Elapsed 1m 29s (remain 0m 0s) Loss: 0.4950(0.5647) \n"
     ]
    },
    {
     "name": "stderr",
     "output_type": "stream",
     "text": [
      "[W pthreadpool-cpp.cc:90] Warning: Leaking Caffe2 thread-pool after fork. (function pthreadpool)\n",
      "[W pthreadpool-cpp.cc:90] Warning: Leaking Caffe2 thread-pool after fork. (function pthreadpool)\n",
      "[W pthreadpool-cpp.cc:90] Warning: Leaking Caffe2 thread-pool after fork. (function pthreadpool)\n",
      "[W pthreadpool-cpp.cc:90] Warning: Leaking Caffe2 thread-pool after fork. (function pthreadpool)\n"
     ]
    },
    {
     "name": "stdout",
     "output_type": "stream",
     "text": [
      "Epoch: [8][0/1709] Elapsed 0m 2s (remain 72m 43s) Loss: 0.4425(0.4425) Grad: 221693.4375  LR: 0.00000076  \n",
      "Epoch: [8][100/1709] Elapsed 0m 53s (remain 14m 6s) Loss: 0.4736(0.5289) Grad: 111702.5156  LR: 0.00000068  \n",
      "Epoch: [8][200/1709] Elapsed 1m 46s (remain 13m 15s) Loss: 0.5570(0.5205) Grad: 50231.2461  LR: 0.00000060  \n",
      "Epoch: [8][300/1709] Elapsed 2m 38s (remain 12m 20s) Loss: 0.5628(0.5252) Grad: 13085.4570  LR: 0.00000052  \n",
      "Epoch: [8][400/1709] Elapsed 3m 27s (remain 11m 17s) Loss: 0.4754(0.5213) Grad: 32625.8281  LR: 0.00000045  \n",
      "Epoch: [8][500/1709] Elapsed 4m 18s (remain 10m 24s) Loss: 0.5730(0.5203) Grad: 15679.6309  LR: 0.00000039  \n",
      "Epoch: [8][600/1709] Elapsed 5m 10s (remain 9m 31s) Loss: 0.5425(0.5196) Grad: 22987.2070  LR: 0.00000033  \n",
      "Epoch: [8][700/1709] Elapsed 6m 1s (remain 8m 40s) Loss: 0.5539(0.5213) Grad: 89351.0391  LR: 0.00000027  \n",
      "Epoch: [8][800/1709] Elapsed 6m 52s (remain 7m 47s) Loss: 0.4921(0.5224) Grad: 17978.1934  LR: 0.00000022  \n",
      "Epoch: [8][900/1709] Elapsed 7m 45s (remain 6m 57s) Loss: 0.4571(0.5221) Grad: 16169.9893  LR: 0.00000017  \n",
      "Epoch: [8][1000/1709] Elapsed 8m 38s (remain 6m 6s) Loss: 0.6270(0.5210) Grad: 39135.4492  LR: 0.00000013  \n",
      "Epoch: [8][1100/1709] Elapsed 9m 31s (remain 5m 15s) Loss: 0.4278(0.5199) Grad: 17712.1641  LR: 0.00000010  \n",
      "Epoch: [8][1200/1709] Elapsed 10m 23s (remain 4m 23s) Loss: 0.5187(0.5199) Grad: 22101.3359  LR: 0.00000007  \n",
      "Epoch: [8][1300/1709] Elapsed 11m 18s (remain 3m 32s) Loss: 0.5164(0.5182) Grad: 100023.2266  LR: 0.00000004  \n",
      "Epoch: [8][1400/1709] Elapsed 12m 13s (remain 2m 41s) Loss: 0.3776(0.5175) Grad: 23203.1855  LR: 0.00000003  \n",
      "Epoch: [8][1500/1709] Elapsed 13m 9s (remain 1m 49s) Loss: 0.2932(0.5178) Grad: 7514.0967  LR: 0.00000001  \n",
      "Epoch: [8][1600/1709] Elapsed 14m 0s (remain 0m 56s) Loss: 0.5742(0.5179) Grad: 39425.7305  LR: 0.00000000  \n",
      "Epoch: [8][1700/1709] Elapsed 14m 47s (remain 0m 4s) Loss: 0.6045(0.5171) Grad: 17114.0566  LR: 0.00000000  \n"
     ]
    },
    {
     "name": "stderr",
     "output_type": "stream",
     "text": [
      "[W pthreadpool-cpp.cc:90] Warning: Leaking Caffe2 thread-pool after fork. (function pthreadpool)\n"
     ]
    },
    {
     "name": "stdout",
     "output_type": "stream",
     "text": [
      "Epoch: [8][1708/1709] Elapsed 14m 52s (remain 0m 0s) Loss: 0.4486(0.5171) Grad: 23427.4453  LR: 0.00000000  \n"
     ]
    },
    {
     "name": "stderr",
     "output_type": "stream",
     "text": [
      "[W pthreadpool-cpp.cc:90] Warning: Leaking Caffe2 thread-pool after fork. (function pthreadpool)\n",
      "[W pthreadpool-cpp.cc:90] Warning: Leaking Caffe2 thread-pool after fork. (function pthreadpool)\n",
      "[W pthreadpool-cpp.cc:90] Warning: Leaking Caffe2 thread-pool after fork. (function pthreadpool)\n",
      "[W pthreadpool-cpp.cc:90] Warning: Leaking Caffe2 thread-pool after fork. (function pthreadpool)\n"
     ]
    },
    {
     "name": "stdout",
     "output_type": "stream",
     "text": [
      "EVAL: [0/570] Elapsed 0m 0s (remain 2m 44s) Loss: 0.5779(0.5779) \n",
      "EVAL: [100/570] Elapsed 0m 15s (remain 1m 11s) Loss: 0.4626(0.5608) \n",
      "EVAL: [200/570] Elapsed 0m 32s (remain 1m 0s) Loss: 0.5212(0.5584) \n",
      "EVAL: [300/570] Elapsed 0m 48s (remain 0m 43s) Loss: 0.7570(0.5657) \n",
      "EVAL: [400/570] Elapsed 1m 3s (remain 0m 26s) Loss: 0.7329(0.5661) \n",
      "EVAL: [500/570] Elapsed 1m 18s (remain 0m 10s) Loss: 0.5430(0.5665) \n"
     ]
    },
    {
     "name": "stderr",
     "output_type": "stream",
     "text": [
      "Epoch 8 - avg_train_loss: 0.5171  avg_val_loss: 0.5642  time: 983s\n",
      "Epoch 8 - Score: 0.8241\n",
      "Epoch 8 - Save Best Score: 0.8241 Model\n"
     ]
    },
    {
     "name": "stdout",
     "output_type": "stream",
     "text": [
      "EVAL: [569/570] Elapsed 1m 30s (remain 0m 0s) Loss: 0.4943(0.5642) \n"
     ]
    },
    {
     "name": "stderr",
     "output_type": "stream",
     "text": [
      "========== fold: 0 result ==========\n",
      "Score: 0.8241\n",
      "========== fold: 1 training ==========\n"
     ]
    },
    {
     "name": "stdout",
     "output_type": "stream",
     "text": [
      "\u001b[38;5;40m========== fold: 1 training ==========\u001b[0m\n"
     ]
    },
    {
     "name": "stderr",
     "output_type": "stream",
     "text": [
      "Some weights of the model checkpoint at microsoft/mpnet-base were not used when initializing MPNetModel: ['lm_head.dense.bias', 'lm_head.bias', 'lm_head.decoder.weight', 'lm_head.decoder.bias', 'lm_head.dense.weight', 'lm_head.layer_norm.bias', 'lm_head.layer_norm.weight']\n",
      "- This IS expected if you are initializing MPNetModel from the checkpoint of a model trained on another task or with another architecture (e.g. initializing a BertForSequenceClassification model from a BertForPreTraining model).\n",
      "- This IS NOT expected if you are initializing MPNetModel from the checkpoint of a model that you expect to be exactly identical (initializing a BertForSequenceClassification model from a BertForSequenceClassification model).\n",
      "Some weights of MPNetModel were not initialized from the model checkpoint at microsoft/mpnet-base and are newly initialized: ['mpnet.pooler.dense.weight', 'mpnet.pooler.dense.bias']\n",
      "You should probably TRAIN this model on a down-stream task to be able to use it for predictions and inference.\n",
      "Some weights of the model checkpoint at microsoft/mpnet-base were not used when initializing MPNetForTokenClassification: ['lm_head.dense.bias', 'lm_head.bias', 'lm_head.decoder.weight', 'lm_head.decoder.bias', 'lm_head.dense.weight', 'lm_head.layer_norm.bias', 'lm_head.layer_norm.weight']\n",
      "- This IS expected if you are initializing MPNetForTokenClassification from the checkpoint of a model trained on another task or with another architecture (e.g. initializing a BertForSequenceClassification model from a BertForPreTraining model).\n",
      "- This IS NOT expected if you are initializing MPNetForTokenClassification from the checkpoint of a model that you expect to be exactly identical (initializing a BertForSequenceClassification model from a BertForSequenceClassification model).\n",
      "Some weights of MPNetForTokenClassification were not initialized from the model checkpoint at microsoft/mpnet-base and are newly initialized: ['classifier.weight', 'classifier.bias']\n",
      "You should probably TRAIN this model on a down-stream task to be able to use it for predictions and inference.\n",
      "[W pthreadpool-cpp.cc:90] Warning: Leaking Caffe2 thread-pool after fork. (function pthreadpool)\n",
      "[W pthreadpool-cpp.cc:90] Warning: Leaking Caffe2 thread-pool after fork. (function pthreadpool)\n",
      "[W pthreadpool-cpp.cc:90] Warning: Leaking Caffe2 thread-pool after fork. (function pthreadpool)\n",
      "[W pthreadpool-cpp.cc:90] Warning: Leaking Caffe2 thread-pool after fork. (function pthreadpool)\n"
     ]
    },
    {
     "name": "stdout",
     "output_type": "stream",
     "text": [
      "Epoch: [1][0/1709] Elapsed 0m 0s (remain 12m 51s) Loss: 0.7094(0.7094) Grad: 94888.2734  LR: 0.00002000  \n",
      "Epoch: [1][100/1709] Elapsed 0m 52s (remain 13m 58s) Loss: 0.6717(0.6642) Grad: 45908.9414  LR: 0.00002000  \n",
      "Epoch: [1][200/1709] Elapsed 1m 41s (remain 12m 40s) Loss: 0.6617(0.6629) Grad: 4040.1543  LR: 0.00001999  \n",
      "Epoch: [1][300/1709] Elapsed 2m 29s (remain 11m 37s) Loss: 0.5709(0.6550) Grad: 8999.5596  LR: 0.00001998  \n",
      "Epoch: [1][400/1709] Elapsed 3m 15s (remain 10m 36s) Loss: 0.6555(0.6479) Grad: 12326.5342  LR: 0.00001996  \n",
      "Epoch: [1][500/1709] Elapsed 4m 2s (remain 9m 45s) Loss: 0.6672(0.6439) Grad: 6906.4106  LR: 0.00001993  \n",
      "Epoch: [1][600/1709] Elapsed 4m 49s (remain 8m 53s) Loss: 0.6025(0.6377) Grad: 7492.2822  LR: 0.00001990  \n",
      "Epoch: [1][700/1709] Elapsed 5m 37s (remain 8m 5s) Loss: 0.7096(0.6336) Grad: 5532.4619  LR: 0.00001987  \n",
      "Epoch: [1][800/1709] Elapsed 6m 27s (remain 7m 18s) Loss: 0.5925(0.6299) Grad: 5290.7593  LR: 0.00001983  \n",
      "Epoch: [1][900/1709] Elapsed 7m 16s (remain 6m 31s) Loss: 0.5777(0.6271) Grad: 3778.1201  LR: 0.00001979  \n",
      "Epoch: [1][1000/1709] Elapsed 8m 0s (remain 5m 39s) Loss: 0.5651(0.6250) Grad: 5093.4297  LR: 0.00001974  \n",
      "Epoch: [1][1100/1709] Elapsed 8m 46s (remain 4m 50s) Loss: 0.6694(0.6214) Grad: 4480.1831  LR: 0.00001968  \n",
      "Epoch: [1][1200/1709] Elapsed 9m 33s (remain 4m 2s) Loss: 0.6802(0.6192) Grad: 4513.8359  LR: 0.00001962  \n",
      "Epoch: [1][1300/1709] Elapsed 10m 22s (remain 3m 15s) Loss: 0.6312(0.6170) Grad: 17377.4141  LR: 0.00001956  \n",
      "Epoch: [1][1400/1709] Elapsed 11m 9s (remain 2m 27s) Loss: 0.6031(0.6144) Grad: 4935.6753  LR: 0.00001949  \n",
      "Epoch: [1][1500/1709] Elapsed 11m 56s (remain 1m 39s) Loss: 0.5407(0.6122) Grad: 3329.7849  LR: 0.00001941  \n",
      "Epoch: [1][1600/1709] Elapsed 12m 42s (remain 0m 51s) Loss: 0.6039(0.6099) Grad: 4435.6484  LR: 0.00001933  \n",
      "Epoch: [1][1700/1709] Elapsed 13m 31s (remain 0m 3s) Loss: 0.5707(0.6073) Grad: 5700.6714  LR: 0.00001925  \n",
      "Epoch: [1][1708/1709] Elapsed 13m 34s (remain 0m 0s) Loss: 0.4890(0.6070) Grad: 2035.0128  LR: 0.00001924  \n"
     ]
    },
    {
     "name": "stderr",
     "output_type": "stream",
     "text": [
      "[W pthreadpool-cpp.cc:90] Warning: Leaking Caffe2 thread-pool after fork. (function pthreadpool)\n",
      "[W pthreadpool-cpp.cc:90] Warning: Leaking Caffe2 thread-pool after fork. (function pthreadpool)\n",
      "[W pthreadpool-cpp.cc:90] Warning: Leaking Caffe2 thread-pool after fork. (function pthreadpool)\n",
      "[W pthreadpool-cpp.cc:90] Warning: Leaking Caffe2 thread-pool after fork. (function pthreadpool)\n"
     ]
    },
    {
     "name": "stdout",
     "output_type": "stream",
     "text": [
      "EVAL: [0/570] Elapsed 0m 0s (remain 2m 21s) Loss: 0.6260(0.6260) \n",
      "EVAL: [100/570] Elapsed 0m 17s (remain 1m 21s) Loss: 0.6065(0.5675) \n",
      "EVAL: [200/570] Elapsed 0m 31s (remain 0m 57s) Loss: 0.4033(0.5790) \n",
      "EVAL: [300/570] Elapsed 0m 45s (remain 0m 40s) Loss: 0.7084(0.5827) \n",
      "EVAL: [400/570] Elapsed 1m 2s (remain 0m 26s) Loss: 0.4759(0.5811) \n",
      "EVAL: [500/570] Elapsed 1m 16s (remain 0m 10s) Loss: 0.4632(0.5789) \n"
     ]
    },
    {
     "name": "stderr",
     "output_type": "stream",
     "text": [
      "Epoch 1 - avg_train_loss: 0.6070  avg_val_loss: 0.5791  time: 903s\n",
      "Epoch 1 - Score: 0.7564\n",
      "Epoch 1 - Save Best Score: 0.7564 Model\n"
     ]
    },
    {
     "name": "stdout",
     "output_type": "stream",
     "text": [
      "EVAL: [569/570] Elapsed 1m 28s (remain 0m 0s) Loss: 0.5928(0.5791) \n"
     ]
    },
    {
     "name": "stderr",
     "output_type": "stream",
     "text": [
      "[W pthreadpool-cpp.cc:90] Warning: Leaking Caffe2 thread-pool after fork. (function pthreadpool)\n",
      "[W pthreadpool-cpp.cc:90] Warning: Leaking Caffe2 thread-pool after fork. (function pthreadpool)\n",
      "[W pthreadpool-cpp.cc:90] Warning: Leaking Caffe2 thread-pool after fork. (function pthreadpool)\n",
      "[W pthreadpool-cpp.cc:90] Warning: Leaking Caffe2 thread-pool after fork. (function pthreadpool)\n"
     ]
    },
    {
     "name": "stdout",
     "output_type": "stream",
     "text": [
      "Epoch: [2][0/1709] Elapsed 0m 2s (remain 72m 6s) Loss: 0.5586(0.5586) Grad: 136262.7812  LR: 0.00001924  \n",
      "Epoch: [2][100/1709] Elapsed 0m 51s (remain 13m 36s) Loss: 0.6097(0.5647) Grad: 76688.2891  LR: 0.00001915  \n",
      "Epoch: [2][200/1709] Elapsed 1m 37s (remain 12m 14s) Loss: 0.4815(0.5607) Grad: 22294.4766  LR: 0.00001905  \n",
      "Epoch: [2][300/1709] Elapsed 2m 24s (remain 11m 15s) Loss: 0.5180(0.5611) Grad: 43777.3906  LR: 0.00001895  \n",
      "Epoch: [2][400/1709] Elapsed 3m 13s (remain 10m 29s) Loss: 0.5601(0.5616) Grad: 37041.1328  LR: 0.00001885  \n",
      "Epoch: [2][500/1709] Elapsed 4m 0s (remain 9m 39s) Loss: 0.5837(0.5620) Grad: 41106.2578  LR: 0.00001874  \n",
      "Epoch: [2][600/1709] Elapsed 4m 48s (remain 8m 52s) Loss: 0.6240(0.5604) Grad: 22050.2344  LR: 0.00001863  \n",
      "Epoch: [2][700/1709] Elapsed 5m 36s (remain 8m 4s) Loss: 0.4326(0.5597) Grad: 24260.4199  LR: 0.00001851  \n",
      "Epoch: [2][800/1709] Elapsed 6m 23s (remain 7m 15s) Loss: 0.5458(0.5592) Grad: 26741.7090  LR: 0.00001838  \n",
      "Epoch: [2][900/1709] Elapsed 7m 12s (remain 6m 28s) Loss: 0.5262(0.5592) Grad: 21986.0234  LR: 0.00001826  \n",
      "Epoch: [2][1000/1709] Elapsed 8m 2s (remain 5m 41s) Loss: 0.5287(0.5594) Grad: 14785.6367  LR: 0.00001812  \n",
      "Epoch: [2][1100/1709] Elapsed 8m 50s (remain 4m 52s) Loss: 0.4818(0.5593) Grad: 28414.5547  LR: 0.00001799  \n",
      "Epoch: [2][1200/1709] Elapsed 9m 38s (remain 4m 4s) Loss: 0.4917(0.5577) Grad: 31462.0059  LR: 0.00001785  \n",
      "Epoch: [2][1300/1709] Elapsed 10m 28s (remain 3m 16s) Loss: 0.5515(0.5578) Grad: 19439.1992  LR: 0.00001770  \n",
      "Epoch: [2][1400/1709] Elapsed 11m 16s (remain 2m 28s) Loss: 0.5065(0.5580) Grad: 14629.7344  LR: 0.00001756  \n",
      "Epoch: [2][1500/1709] Elapsed 12m 3s (remain 1m 40s) Loss: 0.5402(0.5576) Grad: 28523.7793  LR: 0.00001740  \n",
      "Epoch: [2][1600/1709] Elapsed 12m 50s (remain 0m 51s) Loss: 0.5589(0.5570) Grad: 27911.0020  LR: 0.00001725  \n",
      "Epoch: [2][1700/1709] Elapsed 13m 37s (remain 0m 3s) Loss: 0.4505(0.5577) Grad: 30710.5352  LR: 0.00001709  \n",
      "Epoch: [2][1708/1709] Elapsed 13m 40s (remain 0m 0s) Loss: 0.5432(0.5576) Grad: 17673.5293  LR: 0.00001707  \n"
     ]
    },
    {
     "name": "stderr",
     "output_type": "stream",
     "text": [
      "[W pthreadpool-cpp.cc:90] Warning: Leaking Caffe2 thread-pool after fork. (function pthreadpool)\n",
      "[W pthreadpool-cpp.cc:90] Warning: Leaking Caffe2 thread-pool after fork. (function pthreadpool)\n",
      "[W pthreadpool-cpp.cc:90] Warning: Leaking Caffe2 thread-pool after fork. (function pthreadpool)\n",
      "[W pthreadpool-cpp.cc:90] Warning: Leaking Caffe2 thread-pool after fork. (function pthreadpool)\n"
     ]
    },
    {
     "name": "stdout",
     "output_type": "stream",
     "text": [
      "EVAL: [0/570] Elapsed 0m 2s (remain 19m 43s) Loss: 0.5458(0.5458) \n",
      "EVAL: [100/570] Elapsed 0m 16s (remain 1m 17s) Loss: 0.5976(0.5523) \n",
      "EVAL: [200/570] Elapsed 0m 31s (remain 0m 57s) Loss: 0.3828(0.5611) \n",
      "EVAL: [300/570] Elapsed 0m 45s (remain 0m 41s) Loss: 0.6317(0.5648) \n",
      "EVAL: [400/570] Elapsed 1m 3s (remain 0m 26s) Loss: 0.5100(0.5648) \n",
      "EVAL: [500/570] Elapsed 1m 16s (remain 0m 10s) Loss: 0.4640(0.5631) \n"
     ]
    },
    {
     "name": "stderr",
     "output_type": "stream",
     "text": [
      "[W pthreadpool-cpp.cc:90] Warning: Leaking Caffe2 thread-pool after fork. (function pthreadpool)\n",
      "Epoch 2 - avg_train_loss: 0.5576  avg_val_loss: 0.5624  time: 907s\n",
      "Epoch 2 - Score: 0.7920\n",
      "Epoch 2 - Save Best Score: 0.7920 Model\n"
     ]
    },
    {
     "name": "stdout",
     "output_type": "stream",
     "text": [
      "EVAL: [569/570] Elapsed 1m 26s (remain 0m 0s) Loss: 0.6317(0.5624) \n"
     ]
    },
    {
     "name": "stderr",
     "output_type": "stream",
     "text": [
      "[W pthreadpool-cpp.cc:90] Warning: Leaking Caffe2 thread-pool after fork. (function pthreadpool)\n",
      "[W pthreadpool-cpp.cc:90] Warning: Leaking Caffe2 thread-pool after fork. (function pthreadpool)\n",
      "[W pthreadpool-cpp.cc:90] Warning: Leaking Caffe2 thread-pool after fork. (function pthreadpool)\n",
      "[W pthreadpool-cpp.cc:90] Warning: Leaking Caffe2 thread-pool after fork. (function pthreadpool)\n"
     ]
    },
    {
     "name": "stdout",
     "output_type": "stream",
     "text": [
      "Epoch: [3][0/1709] Elapsed 0m 0s (remain 9m 47s) Loss: 0.5816(0.5816) Grad: 70742.3203  LR: 0.00001707  \n",
      "Epoch: [3][100/1709] Elapsed 0m 46s (remain 12m 19s) Loss: 0.6143(0.5583) Grad: 25087.9531  LR: 0.00001691  \n",
      "Epoch: [3][200/1709] Elapsed 1m 34s (remain 11m 51s) Loss: 0.4475(0.5573) Grad: 35930.7148  LR: 0.00001674  \n",
      "Epoch: [3][300/1709] Elapsed 2m 25s (remain 11m 18s) Loss: 0.4712(0.5559) Grad: 61131.3086  LR: 0.00001657  \n",
      "Epoch: [3][400/1709] Elapsed 3m 14s (remain 10m 35s) Loss: 0.5565(0.5533) Grad: 22574.6035  LR: 0.00001639  \n",
      "Epoch: [3][500/1709] Elapsed 4m 2s (remain 9m 43s) Loss: 0.5554(0.5523) Grad: 29682.1055  LR: 0.00001621  \n",
      "Epoch: [3][600/1709] Elapsed 4m 51s (remain 8m 57s) Loss: 0.4516(0.5517) Grad: 47766.5078  LR: 0.00001603  \n",
      "Epoch: [3][700/1709] Elapsed 5m 38s (remain 8m 6s) Loss: 0.5414(0.5516) Grad: 50490.0742  LR: 0.00001585  \n",
      "Epoch: [3][800/1709] Elapsed 6m 25s (remain 7m 17s) Loss: 0.7212(0.5516) Grad: 112406.8281  LR: 0.00001566  \n",
      "Epoch: [3][900/1709] Elapsed 7m 12s (remain 6m 27s) Loss: 0.5533(0.5519) Grad: 24308.5000  LR: 0.00001547  \n",
      "Epoch: [3][1000/1709] Elapsed 7m 57s (remain 5m 37s) Loss: 0.5399(0.5516) Grad: 30481.7930  LR: 0.00001528  \n",
      "Epoch: [3][1100/1709] Elapsed 8m 45s (remain 4m 50s) Loss: 0.5744(0.5515) Grad: 46641.6172  LR: 0.00001508  \n",
      "Epoch: [3][1200/1709] Elapsed 9m 32s (remain 4m 2s) Loss: 0.5322(0.5508) Grad: 20872.4258  LR: 0.00001488  \n",
      "Epoch: [3][1300/1709] Elapsed 10m 23s (remain 3m 15s) Loss: 0.5182(0.5498) Grad: 24841.7734  LR: 0.00001468  \n",
      "Epoch: [3][1400/1709] Elapsed 11m 12s (remain 2m 27s) Loss: 0.5581(0.5497) Grad: 144198.2969  LR: 0.00001447  \n",
      "Epoch: [3][1500/1709] Elapsed 12m 0s (remain 1m 39s) Loss: 0.5553(0.5500) Grad: 41549.9336  LR: 0.00001427  \n",
      "Epoch: [3][1600/1709] Elapsed 12m 49s (remain 0m 51s) Loss: 0.6686(0.5499) Grad: 197287.7031  LR: 0.00001406  \n",
      "Epoch: [3][1700/1709] Elapsed 13m 36s (remain 0m 3s) Loss: 0.5824(0.5496) Grad: 12506.8047  LR: 0.00001385  \n"
     ]
    },
    {
     "name": "stderr",
     "output_type": "stream",
     "text": [
      "[W pthreadpool-cpp.cc:90] Warning: Leaking Caffe2 thread-pool after fork. (function pthreadpool)\n"
     ]
    },
    {
     "name": "stdout",
     "output_type": "stream",
     "text": [
      "Epoch: [3][1708/1709] Elapsed 13m 41s (remain 0m 0s) Loss: 0.5248(0.5495) Grad: 16976.4844  LR: 0.00001383  \n"
     ]
    },
    {
     "name": "stderr",
     "output_type": "stream",
     "text": [
      "[W pthreadpool-cpp.cc:90] Warning: Leaking Caffe2 thread-pool after fork. (function pthreadpool)\n",
      "[W pthreadpool-cpp.cc:90] Warning: Leaking Caffe2 thread-pool after fork. (function pthreadpool)\n",
      "[W pthreadpool-cpp.cc:90] Warning: Leaking Caffe2 thread-pool after fork. (function pthreadpool)\n",
      "[W pthreadpool-cpp.cc:90] Warning: Leaking Caffe2 thread-pool after fork. (function pthreadpool)\n"
     ]
    },
    {
     "name": "stdout",
     "output_type": "stream",
     "text": [
      "EVAL: [0/570] Elapsed 0m 0s (remain 2m 27s) Loss: 0.5260(0.5260) \n",
      "EVAL: [100/570] Elapsed 0m 14s (remain 1m 7s) Loss: 0.5812(0.5562) \n",
      "EVAL: [200/570] Elapsed 0m 31s (remain 0m 57s) Loss: 0.3792(0.5641) \n",
      "EVAL: [300/570] Elapsed 0m 45s (remain 0m 41s) Loss: 0.6427(0.5692) \n",
      "EVAL: [400/570] Elapsed 1m 0s (remain 0m 25s) Loss: 0.5165(0.5692) \n",
      "EVAL: [500/570] Elapsed 1m 18s (remain 0m 10s) Loss: 0.4439(0.5665) \n"
     ]
    },
    {
     "name": "stderr",
     "output_type": "stream",
     "text": [
      "Epoch 3 - avg_train_loss: 0.5495  avg_val_loss: 0.5664  time: 909s\n",
      "Epoch 3 - Score: 0.7935\n",
      "Epoch 3 - Save Best Score: 0.7935 Model\n"
     ]
    },
    {
     "name": "stdout",
     "output_type": "stream",
     "text": [
      "EVAL: [569/570] Elapsed 1m 26s (remain 0m 0s) Loss: 0.5919(0.5664) \n"
     ]
    },
    {
     "name": "stderr",
     "output_type": "stream",
     "text": [
      "[W pthreadpool-cpp.cc:90] Warning: Leaking Caffe2 thread-pool after fork. (function pthreadpool)\n",
      "[W pthreadpool-cpp.cc:90] Warning: Leaking Caffe2 thread-pool after fork. (function pthreadpool)\n",
      "[W pthreadpool-cpp.cc:90] Warning: Leaking Caffe2 thread-pool after fork. (function pthreadpool)\n",
      "[W pthreadpool-cpp.cc:90] Warning: Leaking Caffe2 thread-pool after fork. (function pthreadpool)\n"
     ]
    },
    {
     "name": "stdout",
     "output_type": "stream",
     "text": [
      "Epoch: [4][0/1709] Elapsed 0m 2s (remain 59m 45s) Loss: 0.5017(0.5017) Grad: 241208.0938  LR: 0.00001383  \n",
      "Epoch: [4][100/1709] Elapsed 0m 50s (remain 13m 29s) Loss: 0.5638(0.5431) Grad: 101593.8594  LR: 0.00001362  \n",
      "Epoch: [4][200/1709] Elapsed 1m 38s (remain 12m 22s) Loss: 0.6192(0.5461) Grad: 105215.6562  LR: 0.00001340  \n",
      "Epoch: [4][300/1709] Elapsed 2m 30s (remain 11m 42s) Loss: 0.5653(0.5440) Grad: 89592.3516  LR: 0.00001318  \n",
      "Epoch: [4][400/1709] Elapsed 3m 16s (remain 10m 41s) Loss: 0.5426(0.5427) Grad: 35436.7578  LR: 0.00001296  \n",
      "Epoch: [4][500/1709] Elapsed 4m 2s (remain 9m 45s) Loss: 0.5623(0.5436) Grad: 45703.9766  LR: 0.00001274  \n",
      "Epoch: [4][600/1709] Elapsed 4m 51s (remain 8m 57s) Loss: 0.4369(0.5422) Grad: 96356.5938  LR: 0.00001252  \n",
      "Epoch: [4][700/1709] Elapsed 5m 39s (remain 8m 7s) Loss: 0.4105(0.5403) Grad: 33998.5273  LR: 0.00001230  \n",
      "Epoch: [4][800/1709] Elapsed 6m 26s (remain 7m 18s) Loss: 0.5247(0.5391) Grad: 67723.6172  LR: 0.00001208  \n",
      "Epoch: [4][900/1709] Elapsed 7m 16s (remain 6m 31s) Loss: 0.5433(0.5381) Grad: 55424.3047  LR: 0.00001185  \n",
      "Epoch: [4][1000/1709] Elapsed 8m 6s (remain 5m 44s) Loss: 0.5892(0.5386) Grad: 341067.9688  LR: 0.00001162  \n",
      "Epoch: [4][1100/1709] Elapsed 8m 53s (remain 4m 54s) Loss: 0.5727(0.5379) Grad: 94372.2656  LR: 0.00001140  \n",
      "Epoch: [4][1200/1709] Elapsed 9m 41s (remain 4m 6s) Loss: 0.5052(0.5380) Grad: 20709.4414  LR: 0.00001117  \n",
      "Epoch: [4][1300/1709] Elapsed 10m 28s (remain 3m 17s) Loss: 0.5688(0.5384) Grad: 76949.5391  LR: 0.00001094  \n",
      "Epoch: [4][1400/1709] Elapsed 11m 16s (remain 2m 28s) Loss: 0.6539(0.5386) Grad: 68007.4844  LR: 0.00001071  \n",
      "Epoch: [4][1500/1709] Elapsed 12m 3s (remain 1m 40s) Loss: 0.5616(0.5385) Grad: 126417.8438  LR: 0.00001048  \n",
      "Epoch: [4][1600/1709] Elapsed 12m 53s (remain 0m 52s) Loss: 0.5931(0.5386) Grad: 95301.7500  LR: 0.00001025  \n",
      "Epoch: [4][1700/1709] Elapsed 13m 40s (remain 0m 3s) Loss: 0.5023(0.5382) Grad: 62945.5430  LR: 0.00001002  \n",
      "Epoch: [4][1708/1709] Elapsed 13m 43s (remain 0m 0s) Loss: 0.3803(0.5381) Grad: 132636.3281  LR: 0.00001001  \n"
     ]
    },
    {
     "name": "stderr",
     "output_type": "stream",
     "text": [
      "[W pthreadpool-cpp.cc:90] Warning: Leaking Caffe2 thread-pool after fork. (function pthreadpool)\n",
      "[W pthreadpool-cpp.cc:90] Warning: Leaking Caffe2 thread-pool after fork. (function pthreadpool)\n",
      "[W pthreadpool-cpp.cc:90] Warning: Leaking Caffe2 thread-pool after fork. (function pthreadpool)\n",
      "[W pthreadpool-cpp.cc:90] Warning: Leaking Caffe2 thread-pool after fork. (function pthreadpool)\n"
     ]
    },
    {
     "name": "stdout",
     "output_type": "stream",
     "text": [
      "EVAL: [0/570] Elapsed 0m 2s (remain 19m 8s) Loss: 0.5115(0.5115) \n",
      "EVAL: [100/570] Elapsed 0m 16s (remain 1m 14s) Loss: 0.5786(0.5623) \n",
      "EVAL: [200/570] Elapsed 0m 30s (remain 0m 56s) Loss: 0.3779(0.5712) \n",
      "EVAL: [300/570] Elapsed 0m 45s (remain 0m 40s) Loss: 0.6246(0.5752) \n",
      "EVAL: [400/570] Elapsed 1m 2s (remain 0m 26s) Loss: 0.5339(0.5754) \n",
      "EVAL: [500/570] Elapsed 1m 17s (remain 0m 10s) Loss: 0.4629(0.5731) \n"
     ]
    },
    {
     "name": "stderr",
     "output_type": "stream",
     "text": [
      "Epoch 4 - avg_train_loss: 0.5381  avg_val_loss: 0.5727  time: 910s\n",
      "Epoch 4 - Score: 0.8072\n",
      "Epoch 4 - Save Best Score: 0.8072 Model\n"
     ]
    },
    {
     "name": "stdout",
     "output_type": "stream",
     "text": [
      "EVAL: [569/570] Elapsed 1m 26s (remain 0m 0s) Loss: 0.6119(0.5727) \n"
     ]
    },
    {
     "name": "stderr",
     "output_type": "stream",
     "text": [
      "[W pthreadpool-cpp.cc:90] Warning: Leaking Caffe2 thread-pool after fork. (function pthreadpool)\n",
      "[W pthreadpool-cpp.cc:90] Warning: Leaking Caffe2 thread-pool after fork. (function pthreadpool)\n",
      "[W pthreadpool-cpp.cc:90] Warning: Leaking Caffe2 thread-pool after fork. (function pthreadpool)\n",
      "[W pthreadpool-cpp.cc:90] Warning: Leaking Caffe2 thread-pool after fork. (function pthreadpool)\n"
     ]
    },
    {
     "name": "stdout",
     "output_type": "stream",
     "text": [
      "Epoch: [5][0/1709] Elapsed 0m 0s (remain 9m 57s) Loss: 0.6079(0.6079) Grad: 297035.8750  LR: 0.00001000  \n",
      "Epoch: [5][100/1709] Elapsed 0m 48s (remain 12m 46s) Loss: 0.5876(0.5284) Grad: 65828.0781  LR: 0.00000977  \n",
      "Epoch: [5][200/1709] Elapsed 1m 36s (remain 12m 2s) Loss: 0.4523(0.5232) Grad: 40779.3242  LR: 0.00000954  \n",
      "Epoch: [5][300/1709] Elapsed 2m 24s (remain 11m 15s) Loss: 0.4351(0.5273) Grad: 123496.0469  LR: 0.00000931  \n",
      "Epoch: [5][400/1709] Elapsed 3m 10s (remain 10m 20s) Loss: 0.6159(0.5291) Grad: 96632.8359  LR: 0.00000909  \n",
      "Epoch: [5][500/1709] Elapsed 3m 58s (remain 9m 36s) Loss: 0.5484(0.5302) Grad: 45939.9219  LR: 0.00000886  \n",
      "Epoch: [5][600/1709] Elapsed 4m 46s (remain 8m 48s) Loss: 0.4559(0.5286) Grad: 55678.2695  LR: 0.00000863  \n",
      "Epoch: [5][700/1709] Elapsed 5m 36s (remain 8m 3s) Loss: 0.3724(0.5299) Grad: 21307.2852  LR: 0.00000840  \n",
      "Epoch: [5][800/1709] Elapsed 6m 24s (remain 7m 15s) Loss: 0.5706(0.5307) Grad: 25128.2070  LR: 0.00000818  \n",
      "Epoch: [5][900/1709] Elapsed 7m 12s (remain 6m 27s) Loss: 0.6303(0.5319) Grad: 59886.4180  LR: 0.00000795  \n",
      "Epoch: [5][1000/1709] Elapsed 8m 1s (remain 5m 40s) Loss: 0.5496(0.5326) Grad: 29392.4316  LR: 0.00000773  \n",
      "Epoch: [5][1100/1709] Elapsed 8m 48s (remain 4m 52s) Loss: 0.5165(0.5322) Grad: 50360.3945  LR: 0.00000750  \n",
      "Epoch: [5][1200/1709] Elapsed 9m 37s (remain 4m 4s) Loss: 0.4509(0.5325) Grad: 22549.1816  LR: 0.00000728  \n",
      "Epoch: [5][1300/1709] Elapsed 10m 26s (remain 3m 16s) Loss: 0.6314(0.5326) Grad: 130217.9688  LR: 0.00000706  \n",
      "Epoch: [5][1400/1709] Elapsed 11m 14s (remain 2m 28s) Loss: 0.5207(0.5328) Grad: 12044.1094  LR: 0.00000684  \n",
      "Epoch: [5][1500/1709] Elapsed 12m 1s (remain 1m 40s) Loss: 0.6119(0.5328) Grad: 67533.1484  LR: 0.00000663  \n",
      "Epoch: [5][1600/1709] Elapsed 12m 49s (remain 0m 51s) Loss: 0.4977(0.5330) Grad: 16477.8223  LR: 0.00000641  \n",
      "Epoch: [5][1700/1709] Elapsed 13m 39s (remain 0m 3s) Loss: 0.5067(0.5335) Grad: 17789.5664  LR: 0.00000620  \n",
      "Epoch: [5][1708/1709] Elapsed 13m 42s (remain 0m 0s) Loss: 0.5475(0.5335) Grad: 29031.7891  LR: 0.00000618  \n"
     ]
    },
    {
     "name": "stderr",
     "output_type": "stream",
     "text": [
      "[W pthreadpool-cpp.cc:90] Warning: Leaking Caffe2 thread-pool after fork. (function pthreadpool)\n",
      "[W pthreadpool-cpp.cc:90] Warning: Leaking Caffe2 thread-pool after fork. (function pthreadpool)\n",
      "[W pthreadpool-cpp.cc:90] Warning: Leaking Caffe2 thread-pool after fork. (function pthreadpool)\n",
      "[W pthreadpool-cpp.cc:90] Warning: Leaking Caffe2 thread-pool after fork. (function pthreadpool)\n"
     ]
    },
    {
     "name": "stdout",
     "output_type": "stream",
     "text": [
      "EVAL: [0/570] Elapsed 0m 0s (remain 2m 24s) Loss: 0.5048(0.5048) \n",
      "EVAL: [100/570] Elapsed 0m 18s (remain 1m 24s) Loss: 0.5803(0.5474) \n",
      "EVAL: [200/570] Elapsed 0m 32s (remain 0m 59s) Loss: 0.3706(0.5572) \n",
      "EVAL: [300/570] Elapsed 0m 47s (remain 0m 42s) Loss: 0.6101(0.5615) \n",
      "EVAL: [400/570] Elapsed 1m 3s (remain 0m 26s) Loss: 0.5131(0.5625) \n",
      "EVAL: [500/570] Elapsed 1m 18s (remain 0m 10s) Loss: 0.4615(0.5602) \n"
     ]
    },
    {
     "name": "stderr",
     "output_type": "stream",
     "text": [
      "Epoch 5 - avg_train_loss: 0.5335  avg_val_loss: 0.5595  time: 910s\n",
      "Epoch 5 - Score: 0.8154\n",
      "Epoch 5 - Save Best Score: 0.8154 Model\n"
     ]
    },
    {
     "name": "stdout",
     "output_type": "stream",
     "text": [
      "EVAL: [569/570] Elapsed 1m 27s (remain 0m 0s) Loss: 0.6059(0.5595) \n"
     ]
    },
    {
     "name": "stderr",
     "output_type": "stream",
     "text": [
      "[W pthreadpool-cpp.cc:90] Warning: Leaking Caffe2 thread-pool after fork. (function pthreadpool)\n",
      "[W pthreadpool-cpp.cc:90] Warning: Leaking Caffe2 thread-pool after fork. (function pthreadpool)\n",
      "[W pthreadpool-cpp.cc:90] Warning: Leaking Caffe2 thread-pool after fork. (function pthreadpool)\n",
      "[W pthreadpool-cpp.cc:90] Warning: Leaking Caffe2 thread-pool after fork. (function pthreadpool)\n"
     ]
    },
    {
     "name": "stdout",
     "output_type": "stream",
     "text": [
      "Epoch: [6][0/1709] Elapsed 0m 0s (remain 10m 44s) Loss: 0.4826(0.4826) Grad: 173283.1250  LR: 0.00000618  \n",
      "Epoch: [6][100/1709] Elapsed 0m 47s (remain 12m 41s) Loss: 0.5626(0.5341) Grad: 33169.2969  LR: 0.00000597  \n",
      "Epoch: [6][200/1709] Elapsed 1m 34s (remain 11m 49s) Loss: 0.5860(0.5290) Grad: 56046.6133  LR: 0.00000576  \n",
      "Epoch: [6][300/1709] Elapsed 2m 23s (remain 11m 11s) Loss: 0.4860(0.5290) Grad: 27868.2656  LR: 0.00000555  \n",
      "Epoch: [6][400/1709] Elapsed 3m 13s (remain 10m 31s) Loss: 0.6658(0.5261) Grad: 36258.1758  LR: 0.00000535  \n",
      "Epoch: [6][500/1709] Elapsed 3m 58s (remain 9m 35s) Loss: 0.5461(0.5261) Grad: 11149.9170  LR: 0.00000514  \n",
      "Epoch: [6][600/1709] Elapsed 4m 46s (remain 8m 48s) Loss: 0.6313(0.5243) Grad: 106681.0312  LR: 0.00000494  \n",
      "Epoch: [6][700/1709] Elapsed 5m 35s (remain 8m 2s) Loss: 0.5995(0.5244) Grad: 12847.0605  LR: 0.00000475  \n",
      "Epoch: [6][800/1709] Elapsed 6m 24s (remain 7m 16s) Loss: 0.5289(0.5257) Grad: 11763.5225  LR: 0.00000455  \n",
      "Epoch: [6][900/1709] Elapsed 7m 16s (remain 6m 30s) Loss: 0.6199(0.5264) Grad: 23224.7812  LR: 0.00000436  \n",
      "Epoch: [6][1000/1709] Elapsed 8m 3s (remain 5m 42s) Loss: 0.5883(0.5269) Grad: 13721.8809  LR: 0.00000417  \n",
      "Epoch: [6][1100/1709] Elapsed 8m 53s (remain 4m 54s) Loss: 0.5912(0.5271) Grad: 12597.1094  LR: 0.00000399  \n",
      "Epoch: [6][1200/1709] Elapsed 9m 43s (remain 4m 6s) Loss: 0.4988(0.5270) Grad: 10202.1357  LR: 0.00000381  \n",
      "Epoch: [6][1300/1709] Elapsed 10m 32s (remain 3m 18s) Loss: 0.4514(0.5270) Grad: 17572.3965  LR: 0.00000363  \n",
      "Epoch: [6][1400/1709] Elapsed 11m 22s (remain 2m 30s) Loss: 0.5506(0.5271) Grad: 21762.4297  LR: 0.00000345  \n",
      "Epoch: [6][1500/1709] Elapsed 12m 13s (remain 1m 41s) Loss: 0.4705(0.5273) Grad: 10461.1240  LR: 0.00000328  \n",
      "Epoch: [6][1600/1709] Elapsed 13m 2s (remain 0m 52s) Loss: 0.5618(0.5274) Grad: 15870.2285  LR: 0.00000311  \n",
      "Epoch: [6][1700/1709] Elapsed 13m 48s (remain 0m 3s) Loss: 0.5373(0.5277) Grad: 14818.9883  LR: 0.00000295  \n",
      "Epoch: [6][1708/1709] Elapsed 13m 52s (remain 0m 0s) Loss: 0.4477(0.5275) Grad: 21204.5078  LR: 0.00000294  \n"
     ]
    },
    {
     "name": "stderr",
     "output_type": "stream",
     "text": [
      "[W pthreadpool-cpp.cc:90] Warning: Leaking Caffe2 thread-pool after fork. (function pthreadpool)\n",
      "[W pthreadpool-cpp.cc:90] Warning: Leaking Caffe2 thread-pool after fork. (function pthreadpool)\n",
      "[W pthreadpool-cpp.cc:90] Warning: Leaking Caffe2 thread-pool after fork. (function pthreadpool)\n",
      "[W pthreadpool-cpp.cc:90] Warning: Leaking Caffe2 thread-pool after fork. (function pthreadpool)\n"
     ]
    },
    {
     "name": "stdout",
     "output_type": "stream",
     "text": [
      "EVAL: [0/570] Elapsed 0m 1s (remain 17m 35s) Loss: 0.5016(0.5016) \n",
      "EVAL: [100/570] Elapsed 0m 16s (remain 1m 14s) Loss: 0.5770(0.5468) \n",
      "EVAL: [200/570] Elapsed 0m 30s (remain 0m 56s) Loss: 0.3687(0.5579) \n",
      "EVAL: [300/570] Elapsed 0m 47s (remain 0m 42s) Loss: 0.6279(0.5631) \n",
      "EVAL: [400/570] Elapsed 1m 2s (remain 0m 26s) Loss: 0.5124(0.5643) \n",
      "EVAL: [500/570] Elapsed 1m 16s (remain 0m 10s) Loss: 0.4637(0.5615) \n"
     ]
    },
    {
     "name": "stderr",
     "output_type": "stream",
     "text": [
      "Epoch 6 - avg_train_loss: 0.5275  avg_val_loss: 0.5607  time: 920s\n",
      "Epoch 6 - Score: 0.8159\n",
      "Epoch 6 - Save Best Score: 0.8159 Model\n"
     ]
    },
    {
     "name": "stdout",
     "output_type": "stream",
     "text": [
      "EVAL: [569/570] Elapsed 1m 27s (remain 0m 0s) Loss: 0.6319(0.5607) \n"
     ]
    },
    {
     "name": "stderr",
     "output_type": "stream",
     "text": [
      "[W pthreadpool-cpp.cc:90] Warning: Leaking Caffe2 thread-pool after fork. (function pthreadpool)\n",
      "[W pthreadpool-cpp.cc:90] Warning: Leaking Caffe2 thread-pool after fork. (function pthreadpool)\n",
      "[W pthreadpool-cpp.cc:90] Warning: Leaking Caffe2 thread-pool after fork. (function pthreadpool)\n",
      "[W pthreadpool-cpp.cc:90] Warning: Leaking Caffe2 thread-pool after fork. (function pthreadpool)\n"
     ]
    },
    {
     "name": "stdout",
     "output_type": "stream",
     "text": [
      "Epoch: [7][0/1709] Elapsed 0m 0s (remain 10m 43s) Loss: 0.5708(0.5708) Grad: 140636.7812  LR: 0.00000293  \n",
      "Epoch: [7][100/1709] Elapsed 0m 48s (remain 12m 55s) Loss: 0.5365(0.5163) Grad: 55064.8047  LR: 0.00000277  \n",
      "Epoch: [7][200/1709] Elapsed 1m 37s (remain 12m 10s) Loss: 0.5115(0.5185) Grad: 44120.5195  LR: 0.00000262  \n",
      "Epoch: [7][300/1709] Elapsed 2m 23s (remain 11m 11s) Loss: 0.5608(0.5215) Grad: 57379.2969  LR: 0.00000246  \n",
      "Epoch: [7][400/1709] Elapsed 3m 12s (remain 10m 27s) Loss: 0.6484(0.5205) Grad: 94811.1406  LR: 0.00000231  \n",
      "Epoch: [7][500/1709] Elapsed 4m 3s (remain 9m 48s) Loss: 0.6271(0.5211) Grad: 117010.0938  LR: 0.00000217  \n",
      "Epoch: [7][600/1709] Elapsed 4m 52s (remain 8m 58s) Loss: 0.4498(0.5216) Grad: 37029.9180  LR: 0.00000203  \n",
      "Epoch: [7][700/1709] Elapsed 5m 40s (remain 8m 9s) Loss: 0.5211(0.5204) Grad: 86480.7188  LR: 0.00000189  \n",
      "Epoch: [7][800/1709] Elapsed 6m 28s (remain 7m 20s) Loss: 0.4555(0.5206) Grad: 24088.2090  LR: 0.00000176  \n",
      "Epoch: [7][900/1709] Elapsed 7m 16s (remain 6m 31s) Loss: 0.4519(0.5215) Grad: 75045.7344  LR: 0.00000163  \n",
      "Epoch: [7][1000/1709] Elapsed 8m 5s (remain 5m 43s) Loss: 0.5284(0.5211) Grad: 37894.6836  LR: 0.00000151  \n",
      "Epoch: [7][1100/1709] Elapsed 8m 52s (remain 4m 53s) Loss: 0.5493(0.5216) Grad: 29877.9648  LR: 0.00000139  \n",
      "Epoch: [7][1200/1709] Elapsed 9m 39s (remain 4m 5s) Loss: 0.5185(0.5216) Grad: 321822.7812  LR: 0.00000127  \n",
      "Epoch: [7][1300/1709] Elapsed 10m 27s (remain 3m 16s) Loss: 0.5831(0.5213) Grad: 178267.4844  LR: 0.00000116  \n",
      "Epoch: [7][1400/1709] Elapsed 11m 15s (remain 2m 28s) Loss: 0.3798(0.5210) Grad: 21991.5723  LR: 0.00000106  \n",
      "Epoch: [7][1500/1709] Elapsed 12m 5s (remain 1m 40s) Loss: 0.5310(0.5209) Grad: 25637.4160  LR: 0.00000096  \n",
      "Epoch: [7][1600/1709] Elapsed 12m 55s (remain 0m 52s) Loss: 0.4685(0.5205) Grad: 10302.2246  LR: 0.00000086  \n",
      "Epoch: [7][1700/1709] Elapsed 13m 43s (remain 0m 3s) Loss: 0.5475(0.5206) Grad: 39140.1328  LR: 0.00000077  \n",
      "Epoch: [7][1708/1709] Elapsed 13m 46s (remain 0m 0s) Loss: 0.4743(0.5207) Grad: 31090.0469  LR: 0.00000077  \n"
     ]
    },
    {
     "name": "stderr",
     "output_type": "stream",
     "text": [
      "[W pthreadpool-cpp.cc:90] Warning: Leaking Caffe2 thread-pool after fork. (function pthreadpool)\n",
      "[W pthreadpool-cpp.cc:90] Warning: Leaking Caffe2 thread-pool after fork. (function pthreadpool)\n",
      "[W pthreadpool-cpp.cc:90] Warning: Leaking Caffe2 thread-pool after fork. (function pthreadpool)\n",
      "[W pthreadpool-cpp.cc:90] Warning: Leaking Caffe2 thread-pool after fork. (function pthreadpool)\n"
     ]
    },
    {
     "name": "stdout",
     "output_type": "stream",
     "text": [
      "EVAL: [0/570] Elapsed 0m 0s (remain 2m 39s) Loss: 0.5106(0.5106) \n",
      "EVAL: [100/570] Elapsed 0m 17s (remain 1m 19s) Loss: 0.5874(0.5483) \n",
      "EVAL: [200/570] Elapsed 0m 32s (remain 0m 59s) Loss: 0.3735(0.5586) \n",
      "EVAL: [300/570] Elapsed 0m 46s (remain 0m 41s) Loss: 0.6062(0.5636) \n",
      "EVAL: [400/570] Elapsed 1m 3s (remain 0m 26s) Loss: 0.5242(0.5652) \n",
      "EVAL: [500/570] Elapsed 1m 18s (remain 0m 10s) Loss: 0.4674(0.5629) \n"
     ]
    },
    {
     "name": "stderr",
     "output_type": "stream",
     "text": [
      "Epoch 7 - avg_train_loss: 0.5207  avg_val_loss: 0.5623  time: 916s\n",
      "Epoch 7 - Score: 0.8195\n",
      "Epoch 7 - Save Best Score: 0.8195 Model\n"
     ]
    },
    {
     "name": "stdout",
     "output_type": "stream",
     "text": [
      "EVAL: [569/570] Elapsed 1m 29s (remain 0m 0s) Loss: 0.6492(0.5623) \n"
     ]
    },
    {
     "name": "stderr",
     "output_type": "stream",
     "text": [
      "[W pthreadpool-cpp.cc:90] Warning: Leaking Caffe2 thread-pool after fork. (function pthreadpool)\n",
      "[W pthreadpool-cpp.cc:90] Warning: Leaking Caffe2 thread-pool after fork. (function pthreadpool)\n",
      "[W pthreadpool-cpp.cc:90] Warning: Leaking Caffe2 thread-pool after fork. (function pthreadpool)\n",
      "[W pthreadpool-cpp.cc:90] Warning: Leaking Caffe2 thread-pool after fork. (function pthreadpool)\n"
     ]
    },
    {
     "name": "stdout",
     "output_type": "stream",
     "text": [
      "Epoch: [8][0/1709] Elapsed 0m 0s (remain 10m 21s) Loss: 0.4281(0.4281) Grad: 102104.6719  LR: 0.00000076  \n",
      "Epoch: [8][100/1709] Elapsed 0m 49s (remain 13m 4s) Loss: 0.5483(0.5051) Grad: 144829.5938  LR: 0.00000068  \n",
      "Epoch: [8][200/1709] Elapsed 1m 35s (remain 11m 58s) Loss: 0.5980(0.5139) Grad: 16000.4951  LR: 0.00000060  \n",
      "Epoch: [8][300/1709] Elapsed 2m 23s (remain 11m 10s) Loss: 0.5502(0.5162) Grad: 132661.2031  LR: 0.00000052  \n",
      "Epoch: [8][400/1709] Elapsed 3m 12s (remain 10m 27s) Loss: 0.5190(0.5155) Grad: 41831.7266  LR: 0.00000045  \n",
      "Epoch: [8][500/1709] Elapsed 4m 2s (remain 9m 44s) Loss: 0.3124(0.5150) Grad: 14088.6182  LR: 0.00000039  \n",
      "Epoch: [8][600/1709] Elapsed 4m 48s (remain 8m 52s) Loss: 0.5209(0.5155) Grad: 10592.8232  LR: 0.00000033  \n",
      "Epoch: [8][700/1709] Elapsed 5m 35s (remain 8m 2s) Loss: 0.5428(0.5166) Grad: 21909.9629  LR: 0.00000027  \n",
      "Epoch: [8][800/1709] Elapsed 6m 25s (remain 7m 16s) Loss: 0.4832(0.5176) Grad: 51428.2578  LR: 0.00000022  \n",
      "Epoch: [8][900/1709] Elapsed 7m 13s (remain 6m 29s) Loss: 0.5417(0.5179) Grad: 27888.1875  LR: 0.00000017  \n",
      "Epoch: [8][1000/1709] Elapsed 8m 2s (remain 5m 41s) Loss: 0.4799(0.5176) Grad: 10934.8447  LR: 0.00000013  \n",
      "Epoch: [8][1100/1709] Elapsed 8m 50s (remain 4m 53s) Loss: 0.4972(0.5177) Grad: 17038.7852  LR: 0.00000010  \n",
      "Epoch: [8][1200/1709] Elapsed 9m 40s (remain 4m 5s) Loss: 0.4500(0.5182) Grad: 17826.1934  LR: 0.00000007  \n",
      "Epoch: [8][1300/1709] Elapsed 10m 25s (remain 3m 16s) Loss: 0.6064(0.5188) Grad: 16378.2803  LR: 0.00000004  \n",
      "Epoch: [8][1400/1709] Elapsed 11m 13s (remain 2m 28s) Loss: 0.5475(0.5187) Grad: 12747.0078  LR: 0.00000003  \n",
      "Epoch: [8][1500/1709] Elapsed 11m 59s (remain 1m 39s) Loss: 0.5279(0.5192) Grad: 14754.7539  LR: 0.00000001  \n",
      "Epoch: [8][1600/1709] Elapsed 12m 47s (remain 0m 51s) Loss: 0.4475(0.5192) Grad: 6802.6494  LR: 0.00000000  \n",
      "Epoch: [8][1700/1709] Elapsed 13m 37s (remain 0m 3s) Loss: 0.5848(0.5193) Grad: 3454.2432  LR: 0.00000000  \n",
      "Epoch: [8][1708/1709] Elapsed 13m 40s (remain 0m 0s) Loss: 0.5319(0.5193) Grad: 2895.2998  LR: 0.00000000  \n"
     ]
    },
    {
     "name": "stderr",
     "output_type": "stream",
     "text": [
      "[W pthreadpool-cpp.cc:90] Warning: Leaking Caffe2 thread-pool after fork. (function pthreadpool)\n",
      "[W pthreadpool-cpp.cc:90] Warning: Leaking Caffe2 thread-pool after fork. (function pthreadpool)\n",
      "[W pthreadpool-cpp.cc:90] Warning: Leaking Caffe2 thread-pool after fork. (function pthreadpool)\n",
      "[W pthreadpool-cpp.cc:90] Warning: Leaking Caffe2 thread-pool after fork. (function pthreadpool)\n"
     ]
    },
    {
     "name": "stdout",
     "output_type": "stream",
     "text": [
      "EVAL: [0/570] Elapsed 0m 1s (remain 18m 6s) Loss: 0.5137(0.5137) \n",
      "EVAL: [100/570] Elapsed 0m 16s (remain 1m 15s) Loss: 0.5820(0.5493) \n",
      "EVAL: [200/570] Elapsed 0m 31s (remain 0m 57s) Loss: 0.3726(0.5598) \n",
      "EVAL: [300/570] Elapsed 0m 48s (remain 0m 43s) Loss: 0.6091(0.5648) \n",
      "EVAL: [400/570] Elapsed 1m 3s (remain 0m 26s) Loss: 0.5195(0.5665) \n",
      "EVAL: [500/570] Elapsed 1m 16s (remain 0m 10s) Loss: 0.4649(0.5643) \n"
     ]
    },
    {
     "name": "stderr",
     "output_type": "stream",
     "text": [
      "[W pthreadpool-cpp.cc:90] Warning: Leaking Caffe2 thread-pool after fork. (function pthreadpool)\n",
      "Epoch 8 - avg_train_loss: 0.5193  avg_val_loss: 0.5636  time: 908s\n",
      "Epoch 8 - Score: 0.8199\n",
      "Epoch 8 - Save Best Score: 0.8199 Model\n"
     ]
    },
    {
     "name": "stdout",
     "output_type": "stream",
     "text": [
      "EVAL: [569/570] Elapsed 1m 26s (remain 0m 0s) Loss: 0.6563(0.5636) \n"
     ]
    },
    {
     "name": "stderr",
     "output_type": "stream",
     "text": [
      "========== fold: 1 result ==========\n",
      "Score: 0.8199\n",
      "========== fold: 2 training ==========\n"
     ]
    },
    {
     "name": "stdout",
     "output_type": "stream",
     "text": [
      "\u001b[38;5;40m========== fold: 2 training ==========\u001b[0m\n"
     ]
    },
    {
     "name": "stderr",
     "output_type": "stream",
     "text": [
      "Some weights of the model checkpoint at microsoft/mpnet-base were not used when initializing MPNetModel: ['lm_head.dense.bias', 'lm_head.bias', 'lm_head.decoder.weight', 'lm_head.decoder.bias', 'lm_head.dense.weight', 'lm_head.layer_norm.bias', 'lm_head.layer_norm.weight']\n",
      "- This IS expected if you are initializing MPNetModel from the checkpoint of a model trained on another task or with another architecture (e.g. initializing a BertForSequenceClassification model from a BertForPreTraining model).\n",
      "- This IS NOT expected if you are initializing MPNetModel from the checkpoint of a model that you expect to be exactly identical (initializing a BertForSequenceClassification model from a BertForSequenceClassification model).\n",
      "Some weights of MPNetModel were not initialized from the model checkpoint at microsoft/mpnet-base and are newly initialized: ['mpnet.pooler.dense.weight', 'mpnet.pooler.dense.bias']\n",
      "You should probably TRAIN this model on a down-stream task to be able to use it for predictions and inference.\n",
      "Some weights of the model checkpoint at microsoft/mpnet-base were not used when initializing MPNetForTokenClassification: ['lm_head.dense.bias', 'lm_head.bias', 'lm_head.decoder.weight', 'lm_head.decoder.bias', 'lm_head.dense.weight', 'lm_head.layer_norm.bias', 'lm_head.layer_norm.weight']\n",
      "- This IS expected if you are initializing MPNetForTokenClassification from the checkpoint of a model trained on another task or with another architecture (e.g. initializing a BertForSequenceClassification model from a BertForPreTraining model).\n",
      "- This IS NOT expected if you are initializing MPNetForTokenClassification from the checkpoint of a model that you expect to be exactly identical (initializing a BertForSequenceClassification model from a BertForSequenceClassification model).\n",
      "Some weights of MPNetForTokenClassification were not initialized from the model checkpoint at microsoft/mpnet-base and are newly initialized: ['classifier.weight', 'classifier.bias']\n",
      "You should probably TRAIN this model on a down-stream task to be able to use it for predictions and inference.\n",
      "[W pthreadpool-cpp.cc:90] Warning: Leaking Caffe2 thread-pool after fork. (function pthreadpool)\n",
      "[W pthreadpool-cpp.cc:90] Warning: Leaking Caffe2 thread-pool after fork. (function pthreadpool)\n",
      "[W pthreadpool-cpp.cc:90] Warning: Leaking Caffe2 thread-pool after fork. (function pthreadpool)\n",
      "[W pthreadpool-cpp.cc:90] Warning: Leaking Caffe2 thread-pool after fork. (function pthreadpool)\n"
     ]
    },
    {
     "name": "stdout",
     "output_type": "stream",
     "text": [
      "Epoch: [1][0/1709] Elapsed 0m 0s (remain 9m 40s) Loss: 0.6775(0.6775) Grad: nan  LR: 0.00002000  \n",
      "Epoch: [1][100/1709] Elapsed 0m 48s (remain 12m 58s) Loss: 0.6337(0.6564) Grad: 92413.0859  LR: 0.00002000  \n",
      "Epoch: [1][200/1709] Elapsed 1m 37s (remain 12m 9s) Loss: 0.6231(0.6519) Grad: 37653.2578  LR: 0.00001999  \n",
      "Epoch: [1][300/1709] Elapsed 2m 24s (remain 11m 14s) Loss: 0.6503(0.6421) Grad: 14005.1621  LR: 0.00001998  \n",
      "Epoch: [1][400/1709] Elapsed 3m 8s (remain 10m 15s) Loss: 0.5946(0.6376) Grad: 4124.6118  LR: 0.00001996  \n",
      "Epoch: [1][500/1709] Elapsed 3m 54s (remain 9m 26s) Loss: 0.6183(0.6324) Grad: 2694.0835  LR: 0.00001993  \n",
      "Epoch: [1][600/1709] Elapsed 4m 43s (remain 8m 42s) Loss: 0.6116(0.6271) Grad: 7233.6372  LR: 0.00001990  \n",
      "Epoch: [1][700/1709] Elapsed 5m 32s (remain 7m 57s) Loss: 0.6453(0.6234) Grad: 4094.3176  LR: 0.00001987  \n",
      "Epoch: [1][800/1709] Elapsed 6m 20s (remain 7m 11s) Loss: 0.6034(0.6194) Grad: 4422.5620  LR: 0.00001983  \n",
      "Epoch: [1][900/1709] Elapsed 7m 9s (remain 6m 25s) Loss: 0.4667(0.6159) Grad: 3667.0879  LR: 0.00001979  \n",
      "Epoch: [1][1000/1709] Elapsed 7m 58s (remain 5m 38s) Loss: 0.5568(0.6121) Grad: 3682.5771  LR: 0.00001974  \n",
      "Epoch: [1][1100/1709] Elapsed 8m 44s (remain 4m 49s) Loss: 0.5925(0.6093) Grad: 7037.2559  LR: 0.00001968  \n",
      "Epoch: [1][1200/1709] Elapsed 9m 34s (remain 4m 3s) Loss: 0.5022(0.6066) Grad: 4087.3025  LR: 0.00001962  \n",
      "Epoch: [1][1300/1709] Elapsed 10m 22s (remain 3m 15s) Loss: 0.5530(0.6043) Grad: 5533.2842  LR: 0.00001956  \n",
      "Epoch: [1][1400/1709] Elapsed 11m 11s (remain 2m 27s) Loss: 0.5426(0.6021) Grad: 2868.1982  LR: 0.00001949  \n",
      "Epoch: [1][1500/1709] Elapsed 12m 0s (remain 1m 39s) Loss: 0.5522(0.6001) Grad: 9474.0293  LR: 0.00001941  \n",
      "Epoch: [1][1600/1709] Elapsed 12m 48s (remain 0m 51s) Loss: 0.4882(0.5977) Grad: 4823.1523  LR: 0.00001933  \n",
      "Epoch: [1][1700/1709] Elapsed 13m 34s (remain 0m 3s) Loss: 0.6134(0.5964) Grad: 4307.1060  LR: 0.00001925  \n"
     ]
    },
    {
     "name": "stderr",
     "output_type": "stream",
     "text": [
      "[W pthreadpool-cpp.cc:90] Warning: Leaking Caffe2 thread-pool after fork. (function pthreadpool)\n"
     ]
    },
    {
     "name": "stdout",
     "output_type": "stream",
     "text": [
      "Epoch: [1][1708/1709] Elapsed 13m 38s (remain 0m 0s) Loss: 0.4618(0.5962) Grad: 14755.4951  LR: 0.00001924  \n"
     ]
    },
    {
     "name": "stderr",
     "output_type": "stream",
     "text": [
      "[W pthreadpool-cpp.cc:90] Warning: Leaking Caffe2 thread-pool after fork. (function pthreadpool)\n",
      "[W pthreadpool-cpp.cc:90] Warning: Leaking Caffe2 thread-pool after fork. (function pthreadpool)\n",
      "[W pthreadpool-cpp.cc:90] Warning: Leaking Caffe2 thread-pool after fork. (function pthreadpool)\n",
      "[W pthreadpool-cpp.cc:90] Warning: Leaking Caffe2 thread-pool after fork. (function pthreadpool)\n"
     ]
    },
    {
     "name": "stdout",
     "output_type": "stream",
     "text": [
      "EVAL: [0/570] Elapsed 0m 1s (remain 17m 4s) Loss: 0.5894(0.5894) \n",
      "EVAL: [100/570] Elapsed 0m 16s (remain 1m 16s) Loss: 0.6176(0.5618) \n",
      "EVAL: [200/570] Elapsed 0m 30s (remain 0m 56s) Loss: 0.5699(0.5720) \n",
      "EVAL: [300/570] Elapsed 0m 45s (remain 0m 40s) Loss: 0.4545(0.5704) \n",
      "EVAL: [400/570] Elapsed 1m 1s (remain 0m 26s) Loss: 0.4973(0.5711) \n",
      "EVAL: [500/570] Elapsed 1m 16s (remain 0m 10s) Loss: 0.4518(0.5686) \n"
     ]
    },
    {
     "name": "stderr",
     "output_type": "stream",
     "text": [
      "Epoch 1 - avg_train_loss: 0.5962  avg_val_loss: 0.5666  time: 906s\n",
      "Epoch 1 - Score: 0.7649\n",
      "Epoch 1 - Save Best Score: 0.7649 Model\n"
     ]
    },
    {
     "name": "stdout",
     "output_type": "stream",
     "text": [
      "EVAL: [569/570] Elapsed 1m 27s (remain 0m 0s) Loss: 0.4649(0.5666) \n"
     ]
    },
    {
     "name": "stderr",
     "output_type": "stream",
     "text": [
      "[W pthreadpool-cpp.cc:90] Warning: Leaking Caffe2 thread-pool after fork. (function pthreadpool)\n",
      "[W pthreadpool-cpp.cc:90] Warning: Leaking Caffe2 thread-pool after fork. (function pthreadpool)\n",
      "[W pthreadpool-cpp.cc:90] Warning: Leaking Caffe2 thread-pool after fork. (function pthreadpool)\n",
      "[W pthreadpool-cpp.cc:90] Warning: Leaking Caffe2 thread-pool after fork. (function pthreadpool)\n"
     ]
    },
    {
     "name": "stdout",
     "output_type": "stream",
     "text": [
      "Epoch: [2][0/1709] Elapsed 0m 2s (remain 70m 29s) Loss: 0.5363(0.5363) Grad: 77103.8672  LR: 0.00001924  \n",
      "Epoch: [2][100/1709] Elapsed 0m 51s (remain 13m 37s) Loss: 0.5078(0.5823) Grad: 26140.1152  LR: 0.00001915  \n",
      "Epoch: [2][200/1709] Elapsed 1m 36s (remain 12m 3s) Loss: 0.6838(0.5664) Grad: 18364.6797  LR: 0.00001905  \n",
      "Epoch: [2][300/1709] Elapsed 2m 26s (remain 11m 25s) Loss: 0.5928(0.5582) Grad: 11463.0791  LR: 0.00001895  \n",
      "Epoch: [2][400/1709] Elapsed 3m 14s (remain 10m 35s) Loss: 0.5945(0.5569) Grad: 53689.1211  LR: 0.00001885  \n",
      "Epoch: [2][500/1709] Elapsed 4m 4s (remain 9m 49s) Loss: 0.4943(0.5538) Grad: 42222.7617  LR: 0.00001874  \n",
      "Epoch: [2][600/1709] Elapsed 4m 52s (remain 8m 59s) Loss: 0.5564(0.5526) Grad: 63012.4609  LR: 0.00001863  \n",
      "Epoch: [2][700/1709] Elapsed 5m 42s (remain 8m 12s) Loss: 0.6030(0.5532) Grad: 24588.4570  LR: 0.00001851  \n",
      "Epoch: [2][800/1709] Elapsed 6m 30s (remain 7m 23s) Loss: 0.5371(0.5521) Grad: 34401.4844  LR: 0.00001838  \n",
      "Epoch: [2][900/1709] Elapsed 7m 19s (remain 6m 34s) Loss: 0.6337(0.5517) Grad: 23998.0293  LR: 0.00001826  \n",
      "Epoch: [2][1000/1709] Elapsed 8m 6s (remain 5m 43s) Loss: 0.5191(0.5518) Grad: 32715.9062  LR: 0.00001812  \n",
      "Epoch: [2][1100/1709] Elapsed 8m 55s (remain 4m 55s) Loss: 0.4779(0.5518) Grad: 37438.8633  LR: 0.00001799  \n",
      "Epoch: [2][1200/1709] Elapsed 9m 43s (remain 4m 6s) Loss: 0.5339(0.5508) Grad: 31425.9023  LR: 0.00001785  \n",
      "Epoch: [2][1300/1709] Elapsed 10m 31s (remain 3m 18s) Loss: 0.3481(0.5505) Grad: 31670.4609  LR: 0.00001770  \n",
      "Epoch: [2][1400/1709] Elapsed 11m 20s (remain 2m 29s) Loss: 0.4571(0.5505) Grad: 14356.9199  LR: 0.00001756  \n",
      "Epoch: [2][1500/1709] Elapsed 12m 7s (remain 1m 40s) Loss: 0.4779(0.5510) Grad: 8175.1694  LR: 0.00001740  \n",
      "Epoch: [2][1600/1709] Elapsed 12m 55s (remain 0m 52s) Loss: 0.6113(0.5512) Grad: 26570.3457  LR: 0.00001725  \n",
      "Epoch: [2][1700/1709] Elapsed 13m 43s (remain 0m 3s) Loss: 0.5254(0.5516) Grad: 14643.6104  LR: 0.00001709  \n",
      "Epoch: [2][1708/1709] Elapsed 13m 48s (remain 0m 0s) Loss: 0.6415(0.5516) Grad: 39421.2812  LR: 0.00001707  \n"
     ]
    },
    {
     "name": "stderr",
     "output_type": "stream",
     "text": [
      "[W pthreadpool-cpp.cc:90] Warning: Leaking Caffe2 thread-pool after fork. (function pthreadpool)\n",
      "[W pthreadpool-cpp.cc:90] Warning: Leaking Caffe2 thread-pool after fork. (function pthreadpool)\n",
      "[W pthreadpool-cpp.cc:90] Warning: Leaking Caffe2 thread-pool after fork. (function pthreadpool)\n",
      "[W pthreadpool-cpp.cc:90] Warning: Leaking Caffe2 thread-pool after fork. (function pthreadpool)\n"
     ]
    },
    {
     "name": "stdout",
     "output_type": "stream",
     "text": [
      "EVAL: [0/570] Elapsed 0m 0s (remain 2m 23s) Loss: 0.5456(0.5456) \n",
      "EVAL: [100/570] Elapsed 0m 15s (remain 1m 10s) Loss: 0.6256(0.5530) \n",
      "EVAL: [200/570] Elapsed 0m 29s (remain 0m 53s) Loss: 0.5615(0.5663) \n",
      "EVAL: [300/570] Elapsed 0m 45s (remain 0m 40s) Loss: 0.4307(0.5661) \n",
      "EVAL: [400/570] Elapsed 1m 0s (remain 0m 25s) Loss: 0.4690(0.5664) \n",
      "EVAL: [500/570] Elapsed 1m 15s (remain 0m 10s) Loss: 0.4488(0.5642) \n"
     ]
    },
    {
     "name": "stderr",
     "output_type": "stream",
     "text": [
      "Epoch 2 - avg_train_loss: 0.5516  avg_val_loss: 0.5620  time: 915s\n",
      "Epoch 2 - Score: 0.7892\n",
      "Epoch 2 - Save Best Score: 0.7892 Model\n"
     ]
    },
    {
     "name": "stdout",
     "output_type": "stream",
     "text": [
      "EVAL: [569/570] Elapsed 1m 26s (remain 0m 0s) Loss: 0.5016(0.5620) \n"
     ]
    },
    {
     "name": "stderr",
     "output_type": "stream",
     "text": [
      "[W pthreadpool-cpp.cc:90] Warning: Leaking Caffe2 thread-pool after fork. (function pthreadpool)\n",
      "[W pthreadpool-cpp.cc:90] Warning: Leaking Caffe2 thread-pool after fork. (function pthreadpool)\n",
      "[W pthreadpool-cpp.cc:90] Warning: Leaking Caffe2 thread-pool after fork. (function pthreadpool)\n",
      "[W pthreadpool-cpp.cc:90] Warning: Leaking Caffe2 thread-pool after fork. (function pthreadpool)\n"
     ]
    },
    {
     "name": "stdout",
     "output_type": "stream",
     "text": [
      "Epoch: [3][0/1709] Elapsed 0m 0s (remain 9m 44s) Loss: 0.5688(0.5688) Grad: 161472.9062  LR: 0.00001707  \n",
      "Epoch: [3][100/1709] Elapsed 0m 49s (remain 13m 12s) Loss: 0.6511(0.5399) Grad: 146254.7812  LR: 0.00001691  \n",
      "Epoch: [3][200/1709] Elapsed 1m 40s (remain 12m 36s) Loss: 0.5063(0.5340) Grad: 206159.4688  LR: 0.00001674  \n",
      "Epoch: [3][300/1709] Elapsed 2m 28s (remain 11m 34s) Loss: 0.4794(0.5354) Grad: 88885.2578  LR: 0.00001657  \n",
      "Epoch: [3][400/1709] Elapsed 3m 17s (remain 10m 44s) Loss: 0.3674(0.5372) Grad: 68057.1953  LR: 0.00001639  \n",
      "Epoch: [3][500/1709] Elapsed 4m 6s (remain 9m 54s) Loss: 0.4793(0.5381) Grad: 17821.4746  LR: 0.00001621  \n",
      "Epoch: [3][600/1709] Elapsed 4m 55s (remain 9m 5s) Loss: 0.3971(0.5387) Grad: 34183.5625  LR: 0.00001603  \n",
      "Epoch: [3][700/1709] Elapsed 5m 41s (remain 8m 10s) Loss: 0.5506(0.5382) Grad: 22479.4941  LR: 0.00001585  \n",
      "Epoch: [3][800/1709] Elapsed 6m 26s (remain 7m 18s) Loss: 0.5066(0.5394) Grad: 18656.9395  LR: 0.00001566  \n",
      "Epoch: [3][900/1709] Elapsed 7m 12s (remain 6m 28s) Loss: 0.4293(0.5395) Grad: 13673.1602  LR: 0.00001547  \n",
      "Epoch: [3][1000/1709] Elapsed 8m 0s (remain 5m 39s) Loss: 0.5145(0.5412) Grad: 3110.8247  LR: 0.00001528  \n",
      "Epoch: [3][1100/1709] Elapsed 8m 49s (remain 4m 52s) Loss: 0.5654(0.5420) Grad: 6581.9849  LR: 0.00001508  \n",
      "Epoch: [3][1200/1709] Elapsed 9m 37s (remain 4m 4s) Loss: 0.4367(0.5426) Grad: 6760.5151  LR: 0.00001488  \n",
      "Epoch: [3][1300/1709] Elapsed 10m 27s (remain 3m 16s) Loss: 0.6340(0.5420) Grad: 4971.8667  LR: 0.00001468  \n",
      "Epoch: [3][1400/1709] Elapsed 11m 15s (remain 2m 28s) Loss: 0.5820(0.5431) Grad: 6138.9639  LR: 0.00001447  \n",
      "Epoch: [3][1500/1709] Elapsed 12m 5s (remain 1m 40s) Loss: 0.4883(0.5432) Grad: 8458.0088  LR: 0.00001427  \n",
      "Epoch: [3][1600/1709] Elapsed 12m 55s (remain 0m 52s) Loss: 0.5475(0.5436) Grad: 9841.5215  LR: 0.00001406  \n",
      "Epoch: [3][1700/1709] Elapsed 13m 41s (remain 0m 3s) Loss: 0.4910(0.5440) Grad: 11363.2139  LR: 0.00001385  \n",
      "Epoch: [3][1708/1709] Elapsed 13m 44s (remain 0m 0s) Loss: 0.5091(0.5441) Grad: 6818.1172  LR: 0.00001383  \n"
     ]
    },
    {
     "name": "stderr",
     "output_type": "stream",
     "text": [
      "[W pthreadpool-cpp.cc:90] Warning: Leaking Caffe2 thread-pool after fork. (function pthreadpool)\n",
      "[W pthreadpool-cpp.cc:90] Warning: Leaking Caffe2 thread-pool after fork. (function pthreadpool)\n",
      "[W pthreadpool-cpp.cc:90] Warning: Leaking Caffe2 thread-pool after fork. (function pthreadpool)\n",
      "[W pthreadpool-cpp.cc:90] Warning: Leaking Caffe2 thread-pool after fork. (function pthreadpool)\n"
     ]
    },
    {
     "name": "stdout",
     "output_type": "stream",
     "text": [
      "EVAL: [0/570] Elapsed 0m 1s (remain 18m 25s) Loss: 0.5544(0.5544) \n",
      "EVAL: [100/570] Elapsed 0m 16s (remain 1m 14s) Loss: 0.5884(0.5436) \n",
      "EVAL: [200/570] Elapsed 0m 29s (remain 0m 54s) Loss: 0.5512(0.5567) \n",
      "EVAL: [300/570] Elapsed 0m 43s (remain 0m 39s) Loss: 0.4152(0.5550) \n",
      "EVAL: [400/570] Elapsed 0m 59s (remain 0m 25s) Loss: 0.4732(0.5562) \n",
      "EVAL: [500/570] Elapsed 1m 13s (remain 0m 10s) Loss: 0.4490(0.5545) \n"
     ]
    },
    {
     "name": "stderr",
     "output_type": "stream",
     "text": [
      "Epoch 3 - avg_train_loss: 0.5441  avg_val_loss: 0.5528  time: 907s\n",
      "Epoch 3 - Score: 0.7983\n",
      "Epoch 3 - Save Best Score: 0.7983 Model\n"
     ]
    },
    {
     "name": "stdout",
     "output_type": "stream",
     "text": [
      "EVAL: [569/570] Elapsed 1m 22s (remain 0m 0s) Loss: 0.4573(0.5528) \n"
     ]
    },
    {
     "name": "stderr",
     "output_type": "stream",
     "text": [
      "[W pthreadpool-cpp.cc:90] Warning: Leaking Caffe2 thread-pool after fork. (function pthreadpool)\n",
      "[W pthreadpool-cpp.cc:90] Warning: Leaking Caffe2 thread-pool after fork. (function pthreadpool)\n",
      "[W pthreadpool-cpp.cc:90] Warning: Leaking Caffe2 thread-pool after fork. (function pthreadpool)\n",
      "[W pthreadpool-cpp.cc:90] Warning: Leaking Caffe2 thread-pool after fork. (function pthreadpool)\n"
     ]
    },
    {
     "name": "stdout",
     "output_type": "stream",
     "text": [
      "Epoch: [4][0/1709] Elapsed 0m 0s (remain 9m 36s) Loss: 0.3895(0.3895) Grad: 70079.2031  LR: 0.00001383  \n",
      "Epoch: [4][100/1709] Elapsed 0m 48s (remain 12m 51s) Loss: 0.5479(0.5287) Grad: 88060.1016  LR: 0.00001362  \n",
      "Epoch: [4][200/1709] Elapsed 1m 34s (remain 11m 46s) Loss: 0.6273(0.5289) Grad: 301584.6875  LR: 0.00001340  \n",
      "Epoch: [4][300/1709] Elapsed 2m 22s (remain 11m 8s) Loss: 0.5673(0.5312) Grad: 62359.7422  LR: 0.00001318  \n",
      "Epoch: [4][400/1709] Elapsed 3m 10s (remain 10m 20s) Loss: 0.4727(0.5309) Grad: 101871.9297  LR: 0.00001296  \n",
      "Epoch: [4][500/1709] Elapsed 3m 58s (remain 9m 34s) Loss: 0.4947(0.5294) Grad: 72308.2188  LR: 0.00001274  \n",
      "Epoch: [4][600/1709] Elapsed 4m 47s (remain 8m 49s) Loss: 0.5271(0.5295) Grad: 65029.9922  LR: 0.00001252  \n",
      "Epoch: [4][700/1709] Elapsed 5m 33s (remain 7m 59s) Loss: 0.4518(0.5298) Grad: 62761.7891  LR: 0.00001230  \n",
      "Epoch: [4][800/1709] Elapsed 6m 20s (remain 7m 11s) Loss: 0.3467(0.5291) Grad: 70944.5391  LR: 0.00001208  \n",
      "Epoch: [4][900/1709] Elapsed 7m 6s (remain 6m 22s) Loss: 0.6012(0.5297) Grad: 282251.6562  LR: 0.00001185  \n",
      "Epoch: [4][1000/1709] Elapsed 7m 53s (remain 5m 34s) Loss: 0.3433(0.5302) Grad: 110508.4375  LR: 0.00001162  \n",
      "Epoch: [4][1100/1709] Elapsed 8m 42s (remain 4m 48s) Loss: 0.4379(0.5309) Grad: 10811.8340  LR: 0.00001140  \n",
      "Epoch: [4][1200/1709] Elapsed 9m 31s (remain 4m 1s) Loss: 0.5152(0.5298) Grad: 49966.8789  LR: 0.00001117  \n",
      "Epoch: [4][1300/1709] Elapsed 10m 22s (remain 3m 15s) Loss: 0.4878(0.5299) Grad: 16512.4863  LR: 0.00001094  \n",
      "Epoch: [4][1400/1709] Elapsed 11m 8s (remain 2m 27s) Loss: 0.4509(0.5304) Grad: 53931.6641  LR: 0.00001071  \n",
      "Epoch: [4][1500/1709] Elapsed 11m 56s (remain 1m 39s) Loss: 0.5640(0.5306) Grad: 17548.7148  LR: 0.00001048  \n",
      "Epoch: [4][1600/1709] Elapsed 12m 43s (remain 0m 51s) Loss: 0.5595(0.5311) Grad: 7532.3711  LR: 0.00001025  \n",
      "Epoch: [4][1700/1709] Elapsed 13m 32s (remain 0m 3s) Loss: 0.5941(0.5321) Grad: 19526.2383  LR: 0.00001002  \n",
      "Epoch: [4][1708/1709] Elapsed 13m 36s (remain 0m 0s) Loss: 0.5601(0.5321) Grad: 13140.3174  LR: 0.00001001  \n"
     ]
    },
    {
     "name": "stderr",
     "output_type": "stream",
     "text": [
      "[W pthreadpool-cpp.cc:90] Warning: Leaking Caffe2 thread-pool after fork. (function pthreadpool)\n",
      "[W pthreadpool-cpp.cc:90] Warning: Leaking Caffe2 thread-pool after fork. (function pthreadpool)\n",
      "[W pthreadpool-cpp.cc:90] Warning: Leaking Caffe2 thread-pool after fork. (function pthreadpool)\n",
      "[W pthreadpool-cpp.cc:90] Warning: Leaking Caffe2 thread-pool after fork. (function pthreadpool)\n"
     ]
    },
    {
     "name": "stdout",
     "output_type": "stream",
     "text": [
      "EVAL: [0/570] Elapsed 0m 2s (remain 19m 42s) Loss: 0.5652(0.5652) \n",
      "EVAL: [100/570] Elapsed 0m 17s (remain 1m 19s) Loss: 0.6130(0.5496) \n",
      "EVAL: [200/570] Elapsed 0m 32s (remain 1m 0s) Loss: 0.5427(0.5664) \n",
      "EVAL: [300/570] Elapsed 0m 48s (remain 0m 43s) Loss: 0.4096(0.5673) \n",
      "EVAL: [400/570] Elapsed 1m 4s (remain 0m 27s) Loss: 0.4553(0.5673) \n",
      "EVAL: [500/570] Elapsed 1m 19s (remain 0m 10s) Loss: 0.4451(0.5652) \n"
     ]
    },
    {
     "name": "stderr",
     "output_type": "stream",
     "text": [
      "Epoch 4 - avg_train_loss: 0.5321  avg_val_loss: 0.5637  time: 905s\n",
      "Epoch 4 - Score: 0.8047\n",
      "Epoch 4 - Save Best Score: 0.8047 Model\n"
     ]
    },
    {
     "name": "stdout",
     "output_type": "stream",
     "text": [
      "EVAL: [569/570] Elapsed 1m 28s (remain 0m 0s) Loss: 0.4504(0.5637) \n"
     ]
    },
    {
     "name": "stderr",
     "output_type": "stream",
     "text": [
      "[W pthreadpool-cpp.cc:90] Warning: Leaking Caffe2 thread-pool after fork. (function pthreadpool)\n",
      "[W pthreadpool-cpp.cc:90] Warning: Leaking Caffe2 thread-pool after fork. (function pthreadpool)\n",
      "[W pthreadpool-cpp.cc:90] Warning: Leaking Caffe2 thread-pool after fork. (function pthreadpool)\n",
      "[W pthreadpool-cpp.cc:90] Warning: Leaking Caffe2 thread-pool after fork. (function pthreadpool)\n"
     ]
    },
    {
     "name": "stdout",
     "output_type": "stream",
     "text": [
      "Epoch: [5][0/1709] Elapsed 0m 0s (remain 11m 36s) Loss: 0.5467(0.5467) Grad: 217582.3438  LR: 0.00001000  \n",
      "Epoch: [5][100/1709] Elapsed 0m 48s (remain 12m 48s) Loss: 0.5915(0.5221) Grad: 167761.5000  LR: 0.00000977  \n",
      "Epoch: [5][200/1709] Elapsed 1m 36s (remain 12m 5s) Loss: 0.5401(0.5232) Grad: 45917.5117  LR: 0.00000954  \n",
      "Epoch: [5][300/1709] Elapsed 2m 24s (remain 11m 16s) Loss: 0.5809(0.5228) Grad: 165648.2812  LR: 0.00000931  \n",
      "Epoch: [5][400/1709] Elapsed 3m 11s (remain 10m 25s) Loss: 0.6318(0.5233) Grad: 38240.0859  LR: 0.00000909  \n",
      "Epoch: [5][500/1709] Elapsed 4m 1s (remain 9m 41s) Loss: 0.6045(0.5234) Grad: 89017.6094  LR: 0.00000886  \n",
      "Epoch: [5][600/1709] Elapsed 4m 49s (remain 8m 53s) Loss: 0.5909(0.5257) Grad: 11524.7275  LR: 0.00000863  \n",
      "Epoch: [5][700/1709] Elapsed 5m 35s (remain 8m 1s) Loss: 0.6154(0.5259) Grad: 29653.3477  LR: 0.00000840  \n",
      "Epoch: [5][800/1709] Elapsed 6m 22s (remain 7m 13s) Loss: 0.5342(0.5248) Grad: 17694.9219  LR: 0.00000818  \n",
      "Epoch: [5][900/1709] Elapsed 7m 8s (remain 6m 24s) Loss: 0.4994(0.5253) Grad: 33269.7148  LR: 0.00000795  \n",
      "Epoch: [5][1000/1709] Elapsed 7m 57s (remain 5m 37s) Loss: 0.5076(0.5259) Grad: 20896.1953  LR: 0.00000773  \n",
      "Epoch: [5][1100/1709] Elapsed 8m 43s (remain 4m 48s) Loss: 0.5910(0.5268) Grad: 32577.6152  LR: 0.00000750  \n",
      "Epoch: [5][1200/1709] Elapsed 9m 31s (remain 4m 1s) Loss: 0.5023(0.5259) Grad: 25298.1602  LR: 0.00000728  \n",
      "Epoch: [5][1300/1709] Elapsed 10m 20s (remain 3m 14s) Loss: 0.5825(0.5256) Grad: 160048.9531  LR: 0.00000706  \n",
      "Epoch: [5][1400/1709] Elapsed 11m 9s (remain 2m 27s) Loss: 0.4802(0.5258) Grad: 32556.4414  LR: 0.00000684  \n",
      "Epoch: [5][1500/1709] Elapsed 11m 58s (remain 1m 39s) Loss: 0.5832(0.5265) Grad: 64098.8750  LR: 0.00000663  \n",
      "Epoch: [5][1600/1709] Elapsed 12m 45s (remain 0m 51s) Loss: 0.6222(0.5264) Grad: 41779.5273  LR: 0.00000641  \n",
      "Epoch: [5][1700/1709] Elapsed 13m 32s (remain 0m 3s) Loss: 0.5122(0.5266) Grad: 44730.8906  LR: 0.00000620  \n"
     ]
    },
    {
     "name": "stderr",
     "output_type": "stream",
     "text": [
      "[W pthreadpool-cpp.cc:90] Warning: Leaking Caffe2 thread-pool after fork. (function pthreadpool)\n"
     ]
    },
    {
     "name": "stdout",
     "output_type": "stream",
     "text": [
      "Epoch: [5][1708/1709] Elapsed 13m 37s (remain 0m 0s) Loss: 0.5332(0.5265) Grad: 14954.1445  LR: 0.00000618  \n"
     ]
    },
    {
     "name": "stderr",
     "output_type": "stream",
     "text": [
      "[W pthreadpool-cpp.cc:90] Warning: Leaking Caffe2 thread-pool after fork. (function pthreadpool)\n",
      "[W pthreadpool-cpp.cc:90] Warning: Leaking Caffe2 thread-pool after fork. (function pthreadpool)\n",
      "[W pthreadpool-cpp.cc:90] Warning: Leaking Caffe2 thread-pool after fork. (function pthreadpool)\n",
      "[W pthreadpool-cpp.cc:90] Warning: Leaking Caffe2 thread-pool after fork. (function pthreadpool)\n"
     ]
    },
    {
     "name": "stdout",
     "output_type": "stream",
     "text": [
      "EVAL: [0/570] Elapsed 0m 0s (remain 2m 31s) Loss: 0.5645(0.5645) \n",
      "EVAL: [100/570] Elapsed 0m 14s (remain 1m 8s) Loss: 0.6288(0.5551) \n",
      "EVAL: [200/570] Elapsed 0m 29s (remain 0m 53s) Loss: 0.5584(0.5709) \n",
      "EVAL: [300/570] Elapsed 0m 45s (remain 0m 40s) Loss: 0.4104(0.5723) \n",
      "EVAL: [400/570] Elapsed 1m 0s (remain 0m 25s) Loss: 0.4670(0.5723) \n",
      "EVAL: [500/570] Elapsed 1m 15s (remain 0m 10s) Loss: 0.4444(0.5698) \n"
     ]
    },
    {
     "name": "stderr",
     "output_type": "stream",
     "text": [
      "Epoch 5 - avg_train_loss: 0.5265  avg_val_loss: 0.5675  time: 902s\n",
      "Epoch 5 - Score: 0.8135\n",
      "Epoch 5 - Save Best Score: 0.8135 Model\n"
     ]
    },
    {
     "name": "stdout",
     "output_type": "stream",
     "text": [
      "EVAL: [569/570] Elapsed 1m 24s (remain 0m 0s) Loss: 0.4568(0.5675) \n"
     ]
    },
    {
     "name": "stderr",
     "output_type": "stream",
     "text": [
      "[W pthreadpool-cpp.cc:90] Warning: Leaking Caffe2 thread-pool after fork. (function pthreadpool)\n",
      "[W pthreadpool-cpp.cc:90] Warning: Leaking Caffe2 thread-pool after fork. (function pthreadpool)\n",
      "[W pthreadpool-cpp.cc:90] Warning: Leaking Caffe2 thread-pool after fork. (function pthreadpool)\n",
      "[W pthreadpool-cpp.cc:90] Warning: Leaking Caffe2 thread-pool after fork. (function pthreadpool)\n"
     ]
    },
    {
     "name": "stdout",
     "output_type": "stream",
     "text": [
      "Epoch: [6][0/1709] Elapsed 0m 0s (remain 9m 43s) Loss: 0.4017(0.4017) Grad: 56900.3867  LR: 0.00000618  \n",
      "Epoch: [6][100/1709] Elapsed 0m 47s (remain 12m 29s) Loss: 0.5190(0.5330) Grad: 30676.9590  LR: 0.00000597  \n",
      "Epoch: [6][200/1709] Elapsed 1m 31s (remain 11m 27s) Loss: 0.7736(0.5298) Grad: 545462.6250  LR: 0.00000576  \n",
      "Epoch: [6][300/1709] Elapsed 2m 20s (remain 10m 55s) Loss: 0.4878(0.5269) Grad: 66951.4609  LR: 0.00000555  \n",
      "Epoch: [6][400/1709] Elapsed 3m 6s (remain 10m 8s) Loss: 0.3784(0.5251) Grad: 31045.9355  LR: 0.00000535  \n",
      "Epoch: [6][500/1709] Elapsed 3m 55s (remain 9m 27s) Loss: 0.6173(0.5242) Grad: 34970.2305  LR: 0.00000514  \n",
      "Epoch: [6][600/1709] Elapsed 4m 42s (remain 8m 40s) Loss: 0.5291(0.5212) Grad: 32602.5430  LR: 0.00000494  \n",
      "Epoch: [6][700/1709] Elapsed 5m 30s (remain 7m 55s) Loss: 0.4928(0.5226) Grad: 101062.6797  LR: 0.00000475  \n",
      "Epoch: [6][800/1709] Elapsed 6m 15s (remain 7m 5s) Loss: 0.4987(0.5228) Grad: 140474.4531  LR: 0.00000455  \n",
      "Epoch: [6][900/1709] Elapsed 7m 2s (remain 6m 19s) Loss: 0.5282(0.5228) Grad: 66357.7969  LR: 0.00000436  \n",
      "Epoch: [6][1000/1709] Elapsed 7m 47s (remain 5m 30s) Loss: 0.5987(0.5218) Grad: 63880.3672  LR: 0.00000417  \n",
      "Epoch: [6][1100/1709] Elapsed 8m 36s (remain 4m 45s) Loss: 0.7222(0.5208) Grad: 254430.9688  LR: 0.00000399  \n",
      "Epoch: [6][1200/1709] Elapsed 9m 24s (remain 3m 58s) Loss: 0.5418(0.5207) Grad: 406043.5938  LR: 0.00000381  \n",
      "Epoch: [6][1300/1709] Elapsed 10m 13s (remain 3m 12s) Loss: 0.5044(0.5210) Grad: 50542.2891  LR: 0.00000363  \n",
      "Epoch: [6][1400/1709] Elapsed 11m 0s (remain 2m 25s) Loss: 0.5286(0.5215) Grad: 25906.9668  LR: 0.00000345  \n",
      "Epoch: [6][1500/1709] Elapsed 11m 47s (remain 1m 38s) Loss: 0.5636(0.5215) Grad: 27608.1504  LR: 0.00000328  \n",
      "Epoch: [6][1600/1709] Elapsed 12m 35s (remain 0m 50s) Loss: 0.4842(0.5218) Grad: 53401.8320  LR: 0.00000311  \n",
      "Epoch: [6][1700/1709] Elapsed 13m 26s (remain 0m 3s) Loss: 0.5230(0.5216) Grad: 43457.7969  LR: 0.00000295  \n",
      "Epoch: [6][1708/1709] Elapsed 13m 30s (remain 0m 0s) Loss: 0.6025(0.5216) Grad: 26940.2129  LR: 0.00000294  \n"
     ]
    },
    {
     "name": "stderr",
     "output_type": "stream",
     "text": [
      "[W pthreadpool-cpp.cc:90] Warning: Leaking Caffe2 thread-pool after fork. (function pthreadpool)\n",
      "[W pthreadpool-cpp.cc:90] Warning: Leaking Caffe2 thread-pool after fork. (function pthreadpool)\n",
      "[W pthreadpool-cpp.cc:90] Warning: Leaking Caffe2 thread-pool after fork. (function pthreadpool)\n",
      "[W pthreadpool-cpp.cc:90] Warning: Leaking Caffe2 thread-pool after fork. (function pthreadpool)\n"
     ]
    },
    {
     "name": "stdout",
     "output_type": "stream",
     "text": [
      "EVAL: [0/570] Elapsed 0m 0s (remain 2m 38s) Loss: 0.5692(0.5692) \n",
      "EVAL: [100/570] Elapsed 0m 17s (remain 1m 22s) Loss: 0.6260(0.5531) \n",
      "EVAL: [200/570] Elapsed 0m 32s (remain 1m 0s) Loss: 0.5595(0.5671) \n",
      "EVAL: [300/570] Elapsed 0m 49s (remain 0m 44s) Loss: 0.4115(0.5677) \n",
      "EVAL: [400/570] Elapsed 1m 2s (remain 0m 26s) Loss: 0.4453(0.5682) \n",
      "EVAL: [500/570] Elapsed 1m 18s (remain 0m 10s) Loss: 0.4399(0.5657) \n"
     ]
    },
    {
     "name": "stderr",
     "output_type": "stream",
     "text": [
      "Epoch 6 - avg_train_loss: 0.5216  avg_val_loss: 0.5637  time: 898s\n",
      "Epoch 6 - Score: 0.8190\n",
      "Epoch 6 - Save Best Score: 0.8190 Model\n"
     ]
    },
    {
     "name": "stdout",
     "output_type": "stream",
     "text": [
      "EVAL: [569/570] Elapsed 1m 27s (remain 0m 0s) Loss: 0.4483(0.5637) \n"
     ]
    },
    {
     "name": "stderr",
     "output_type": "stream",
     "text": [
      "[W pthreadpool-cpp.cc:90] Warning: Leaking Caffe2 thread-pool after fork. (function pthreadpool)\n",
      "[W pthreadpool-cpp.cc:90] Warning: Leaking Caffe2 thread-pool after fork. (function pthreadpool)\n",
      "[W pthreadpool-cpp.cc:90] Warning: Leaking Caffe2 thread-pool after fork. (function pthreadpool)\n",
      "[W pthreadpool-cpp.cc:90] Warning: Leaking Caffe2 thread-pool after fork. (function pthreadpool)\n"
     ]
    },
    {
     "name": "stdout",
     "output_type": "stream",
     "text": [
      "Epoch: [7][0/1709] Elapsed 0m 2s (remain 58m 41s) Loss: 0.4969(0.4969) Grad: 53240.9180  LR: 0.00000293  \n",
      "Epoch: [7][100/1709] Elapsed 0m 47s (remain 12m 31s) Loss: 0.4603(0.5212) Grad: 190925.1250  LR: 0.00000277  \n",
      "Epoch: [7][200/1709] Elapsed 1m 35s (remain 11m 55s) Loss: 0.6330(0.5203) Grad: 28956.5469  LR: 0.00000262  \n",
      "Epoch: [7][300/1709] Elapsed 2m 23s (remain 11m 9s) Loss: 0.4063(0.5168) Grad: 42287.3633  LR: 0.00000246  \n",
      "Epoch: [7][400/1709] Elapsed 3m 8s (remain 10m 15s) Loss: 0.5167(0.5165) Grad: 32681.8984  LR: 0.00000231  \n",
      "Epoch: [7][500/1709] Elapsed 3m 58s (remain 9m 34s) Loss: 0.5569(0.5195) Grad: 132468.2344  LR: 0.00000217  \n",
      "Epoch: [7][600/1709] Elapsed 4m 43s (remain 8m 41s) Loss: 0.4958(0.5184) Grad: 66307.2969  LR: 0.00000203  \n",
      "Epoch: [7][700/1709] Elapsed 5m 31s (remain 7m 57s) Loss: 0.5308(0.5186) Grad: 34868.6172  LR: 0.00000189  \n",
      "Epoch: [7][800/1709] Elapsed 6m 18s (remain 7m 9s) Loss: 0.5010(0.5191) Grad: 19696.8965  LR: 0.00000176  \n",
      "Epoch: [7][900/1709] Elapsed 7m 5s (remain 6m 21s) Loss: 0.6187(0.5188) Grad: 226979.3750  LR: 0.00000163  \n",
      "Epoch: [7][1000/1709] Elapsed 7m 56s (remain 5m 36s) Loss: 0.5521(0.5191) Grad: 91876.3672  LR: 0.00000151  \n",
      "Epoch: [7][1100/1709] Elapsed 8m 39s (remain 4m 47s) Loss: 0.5954(0.5189) Grad: 36865.2422  LR: 0.00000139  \n",
      "Epoch: [7][1200/1709] Elapsed 9m 28s (remain 4m 0s) Loss: 0.4319(0.5175) Grad: 60771.4336  LR: 0.00000127  \n",
      "Epoch: [7][1300/1709] Elapsed 10m 17s (remain 3m 13s) Loss: 0.5617(0.5170) Grad: 12645.4219  LR: 0.00000116  \n",
      "Epoch: [7][1400/1709] Elapsed 11m 8s (remain 2m 26s) Loss: 0.4648(0.5174) Grad: 94867.8750  LR: 0.00000106  \n",
      "Epoch: [7][1500/1709] Elapsed 11m 54s (remain 1m 39s) Loss: 0.4296(0.5173) Grad: 41450.5391  LR: 0.00000096  \n",
      "Epoch: [7][1600/1709] Elapsed 12m 41s (remain 0m 51s) Loss: 0.5198(0.5172) Grad: 13748.8027  LR: 0.00000086  \n",
      "Epoch: [7][1700/1709] Elapsed 13m 28s (remain 0m 3s) Loss: 0.5456(0.5178) Grad: 30346.6484  LR: 0.00000077  \n",
      "Epoch: [7][1708/1709] Elapsed 13m 31s (remain 0m 0s) Loss: 0.4158(0.5179) Grad: 51695.2852  LR: 0.00000077  \n"
     ]
    },
    {
     "name": "stderr",
     "output_type": "stream",
     "text": [
      "[W pthreadpool-cpp.cc:90] Warning: Leaking Caffe2 thread-pool after fork. (function pthreadpool)\n",
      "[W pthreadpool-cpp.cc:90] Warning: Leaking Caffe2 thread-pool after fork. (function pthreadpool)\n",
      "[W pthreadpool-cpp.cc:90] Warning: Leaking Caffe2 thread-pool after fork. (function pthreadpool)\n",
      "[W pthreadpool-cpp.cc:90] Warning: Leaking Caffe2 thread-pool after fork. (function pthreadpool)\n"
     ]
    },
    {
     "name": "stdout",
     "output_type": "stream",
     "text": [
      "EVAL: [0/570] Elapsed 0m 1s (remain 18m 7s) Loss: 0.5743(0.5743) \n",
      "EVAL: [100/570] Elapsed 0m 16s (remain 1m 15s) Loss: 0.6070(0.5500) \n",
      "EVAL: [200/570] Elapsed 0m 30s (remain 0m 56s) Loss: 0.5535(0.5656) \n",
      "EVAL: [300/570] Elapsed 0m 44s (remain 0m 39s) Loss: 0.4076(0.5670) \n",
      "EVAL: [400/570] Elapsed 1m 1s (remain 0m 25s) Loss: 0.4436(0.5668) \n",
      "EVAL: [500/570] Elapsed 1m 15s (remain 0m 10s) Loss: 0.4381(0.5638) \n"
     ]
    },
    {
     "name": "stderr",
     "output_type": "stream",
     "text": [
      "Epoch 7 - avg_train_loss: 0.5179  avg_val_loss: 0.5618  time: 897s\n",
      "Epoch 7 - Score: 0.8215\n",
      "Epoch 7 - Save Best Score: 0.8215 Model\n"
     ]
    },
    {
     "name": "stdout",
     "output_type": "stream",
     "text": [
      "EVAL: [569/570] Elapsed 1m 24s (remain 0m 0s) Loss: 0.4473(0.5618) \n"
     ]
    },
    {
     "name": "stderr",
     "output_type": "stream",
     "text": [
      "[W pthreadpool-cpp.cc:90] Warning: Leaking Caffe2 thread-pool after fork. (function pthreadpool)\n",
      "[W pthreadpool-cpp.cc:90] Warning: Leaking Caffe2 thread-pool after fork. (function pthreadpool)\n",
      "[W pthreadpool-cpp.cc:90] Warning: Leaking Caffe2 thread-pool after fork. (function pthreadpool)\n",
      "[W pthreadpool-cpp.cc:90] Warning: Leaking Caffe2 thread-pool after fork. (function pthreadpool)\n"
     ]
    },
    {
     "name": "stdout",
     "output_type": "stream",
     "text": [
      "Epoch: [8][0/1709] Elapsed 0m 0s (remain 10m 57s) Loss: 0.4929(0.4929) Grad: 99862.4375  LR: 0.00000076  \n",
      "Epoch: [8][100/1709] Elapsed 0m 48s (remain 12m 50s) Loss: 0.3950(0.5100) Grad: 38309.7148  LR: 0.00000068  \n",
      "Epoch: [8][200/1709] Elapsed 1m 35s (remain 12m 0s) Loss: 0.5845(0.5129) Grad: 41348.5391  LR: 0.00000060  \n",
      "Epoch: [8][300/1709] Elapsed 2m 26s (remain 11m 25s) Loss: 0.6068(0.5144) Grad: 79643.6172  LR: 0.00000052  \n",
      "Epoch: [8][400/1709] Elapsed 3m 14s (remain 10m 35s) Loss: 0.5924(0.5140) Grad: 242272.7656  LR: 0.00000045  \n",
      "Epoch: [8][500/1709] Elapsed 4m 3s (remain 9m 47s) Loss: 0.3545(0.5131) Grad: 51053.3789  LR: 0.00000039  \n",
      "Epoch: [8][600/1709] Elapsed 4m 50s (remain 8m 55s) Loss: 0.4560(0.5143) Grad: 47276.1836  LR: 0.00000033  \n",
      "Epoch: [8][700/1709] Elapsed 5m 37s (remain 8m 5s) Loss: 0.4108(0.5136) Grad: 46145.9180  LR: 0.00000027  \n",
      "Epoch: [8][800/1709] Elapsed 6m 27s (remain 7m 18s) Loss: 0.5233(0.5137) Grad: 44162.8320  LR: 0.00000022  \n",
      "Epoch: [8][900/1709] Elapsed 7m 15s (remain 6m 30s) Loss: 0.4390(0.5145) Grad: 38170.8281  LR: 0.00000017  \n",
      "Epoch: [8][1000/1709] Elapsed 8m 2s (remain 5m 41s) Loss: 0.5591(0.5148) Grad: 33686.3242  LR: 0.00000013  \n",
      "Epoch: [8][1100/1709] Elapsed 8m 49s (remain 4m 52s) Loss: 0.4500(0.5144) Grad: 46060.5391  LR: 0.00000010  \n",
      "Epoch: [8][1200/1709] Elapsed 9m 35s (remain 4m 3s) Loss: 0.5045(0.5142) Grad: 36078.6523  LR: 0.00000007  \n",
      "Epoch: [8][1300/1709] Elapsed 10m 22s (remain 3m 15s) Loss: 0.5008(0.5144) Grad: 59469.6484  LR: 0.00000004  \n",
      "Epoch: [8][1400/1709] Elapsed 11m 12s (remain 2m 27s) Loss: 0.4496(0.5138) Grad: 20734.8418  LR: 0.00000003  \n",
      "Epoch: [8][1500/1709] Elapsed 12m 0s (remain 1m 39s) Loss: 0.5657(0.5147) Grad: 42872.3477  LR: 0.00000001  \n",
      "Epoch: [8][1600/1709] Elapsed 12m 48s (remain 0m 51s) Loss: 0.4925(0.5154) Grad: 83807.3359  LR: 0.00000000  \n",
      "Epoch: [8][1700/1709] Elapsed 13m 36s (remain 0m 3s) Loss: 0.4629(0.5155) Grad: 16404.4668  LR: 0.00000000  \n",
      "Epoch: [8][1708/1709] Elapsed 13m 41s (remain 0m 0s) Loss: 0.5920(0.5155) Grad: 31381.5195  LR: 0.00000000  \n"
     ]
    },
    {
     "name": "stderr",
     "output_type": "stream",
     "text": [
      "[W pthreadpool-cpp.cc:90] Warning: Leaking Caffe2 thread-pool after fork. (function pthreadpool)\n",
      "[W pthreadpool-cpp.cc:90] Warning: Leaking Caffe2 thread-pool after fork. (function pthreadpool)\n",
      "[W pthreadpool-cpp.cc:90] Warning: Leaking Caffe2 thread-pool after fork. (function pthreadpool)\n",
      "[W pthreadpool-cpp.cc:90] Warning: Leaking Caffe2 thread-pool after fork. (function pthreadpool)\n"
     ]
    },
    {
     "name": "stdout",
     "output_type": "stream",
     "text": [
      "EVAL: [0/570] Elapsed 0m 0s (remain 2m 22s) Loss: 0.5747(0.5747) \n",
      "EVAL: [100/570] Elapsed 0m 13s (remain 1m 4s) Loss: 0.6122(0.5532) \n",
      "EVAL: [200/570] Elapsed 0m 27s (remain 0m 51s) Loss: 0.5541(0.5688) \n",
      "EVAL: [300/570] Elapsed 0m 44s (remain 0m 39s) Loss: 0.4104(0.5700) \n",
      "EVAL: [400/570] Elapsed 1m 0s (remain 0m 25s) Loss: 0.4442(0.5696) \n",
      "EVAL: [500/570] Elapsed 1m 15s (remain 0m 10s) Loss: 0.4387(0.5666) \n"
     ]
    },
    {
     "name": "stderr",
     "output_type": "stream",
     "text": [
      "Epoch 8 - avg_train_loss: 0.5155  avg_val_loss: 0.5647  time: 909s\n",
      "Epoch 8 - Score: 0.8212\n"
     ]
    },
    {
     "name": "stdout",
     "output_type": "stream",
     "text": [
      "EVAL: [569/570] Elapsed 1m 27s (remain 0m 0s) Loss: 0.4460(0.5647) \n"
     ]
    },
    {
     "name": "stderr",
     "output_type": "stream",
     "text": [
      "========== fold: 2 result ==========\n",
      "Score: 0.8215\n",
      "========== fold: 3 training ==========\n"
     ]
    },
    {
     "name": "stdout",
     "output_type": "stream",
     "text": [
      "\u001b[38;5;40m========== fold: 3 training ==========\u001b[0m\n"
     ]
    },
    {
     "name": "stderr",
     "output_type": "stream",
     "text": [
      "Some weights of the model checkpoint at microsoft/mpnet-base were not used when initializing MPNetModel: ['lm_head.dense.bias', 'lm_head.bias', 'lm_head.decoder.weight', 'lm_head.decoder.bias', 'lm_head.dense.weight', 'lm_head.layer_norm.bias', 'lm_head.layer_norm.weight']\n",
      "- This IS expected if you are initializing MPNetModel from the checkpoint of a model trained on another task or with another architecture (e.g. initializing a BertForSequenceClassification model from a BertForPreTraining model).\n",
      "- This IS NOT expected if you are initializing MPNetModel from the checkpoint of a model that you expect to be exactly identical (initializing a BertForSequenceClassification model from a BertForSequenceClassification model).\n",
      "Some weights of MPNetModel were not initialized from the model checkpoint at microsoft/mpnet-base and are newly initialized: ['mpnet.pooler.dense.weight', 'mpnet.pooler.dense.bias']\n",
      "You should probably TRAIN this model on a down-stream task to be able to use it for predictions and inference.\n",
      "Some weights of the model checkpoint at microsoft/mpnet-base were not used when initializing MPNetForTokenClassification: ['lm_head.dense.bias', 'lm_head.bias', 'lm_head.decoder.weight', 'lm_head.decoder.bias', 'lm_head.dense.weight', 'lm_head.layer_norm.bias', 'lm_head.layer_norm.weight']\n",
      "- This IS expected if you are initializing MPNetForTokenClassification from the checkpoint of a model trained on another task or with another architecture (e.g. initializing a BertForSequenceClassification model from a BertForPreTraining model).\n",
      "- This IS NOT expected if you are initializing MPNetForTokenClassification from the checkpoint of a model that you expect to be exactly identical (initializing a BertForSequenceClassification model from a BertForSequenceClassification model).\n",
      "Some weights of MPNetForTokenClassification were not initialized from the model checkpoint at microsoft/mpnet-base and are newly initialized: ['classifier.weight', 'classifier.bias']\n",
      "You should probably TRAIN this model on a down-stream task to be able to use it for predictions and inference.\n",
      "[W pthreadpool-cpp.cc:90] Warning: Leaking Caffe2 thread-pool after fork. (function pthreadpool)\n",
      "[W pthreadpool-cpp.cc:90] Warning: Leaking Caffe2 thread-pool after fork. (function pthreadpool)\n",
      "[W pthreadpool-cpp.cc:90] Warning: Leaking Caffe2 thread-pool after fork. (function pthreadpool)\n",
      "[W pthreadpool-cpp.cc:90] Warning: Leaking Caffe2 thread-pool after fork. (function pthreadpool)\n"
     ]
    },
    {
     "name": "stdout",
     "output_type": "stream",
     "text": [
      "Epoch: [1][0/1709] Elapsed 0m 0s (remain 10m 19s) Loss: 0.6914(0.6914) Grad: 120050.7656  LR: 0.00002000  \n",
      "Epoch: [1][100/1709] Elapsed 0m 50s (remain 13m 25s) Loss: 0.7205(0.6639) Grad: 44922.6719  LR: 0.00002000  \n",
      "Epoch: [1][200/1709] Elapsed 1m 36s (remain 12m 3s) Loss: 0.5978(0.6550) Grad: 22099.8750  LR: 0.00001999  \n",
      "Epoch: [1][300/1709] Elapsed 2m 22s (remain 11m 8s) Loss: 0.6358(0.6441) Grad: 26249.6523  LR: 0.00001998  \n",
      "Epoch: [1][400/1709] Elapsed 3m 7s (remain 10m 10s) Loss: 0.5416(0.6353) Grad: 52953.9609  LR: 0.00001996  \n",
      "Epoch: [1][500/1709] Elapsed 3m 56s (remain 9m 29s) Loss: 0.5578(0.6296) Grad: 15726.6553  LR: 0.00001993  \n",
      "Epoch: [1][600/1709] Elapsed 4m 44s (remain 8m 44s) Loss: 0.4012(0.6247) Grad: 26760.0762  LR: 0.00001990  \n",
      "Epoch: [1][700/1709] Elapsed 5m 30s (remain 7m 54s) Loss: 0.6690(0.6210) Grad: 27414.9453  LR: 0.00001987  \n",
      "Epoch: [1][800/1709] Elapsed 6m 16s (remain 7m 7s) Loss: 0.6912(0.6175) Grad: 22326.6348  LR: 0.00001983  \n",
      "Epoch: [1][900/1709] Elapsed 7m 3s (remain 6m 20s) Loss: 0.5715(0.6147) Grad: 23870.4629  LR: 0.00001979  \n",
      "Epoch: [1][1000/1709] Elapsed 7m 48s (remain 5m 31s) Loss: 0.4800(0.6122) Grad: 19368.6367  LR: 0.00001974  \n",
      "Epoch: [1][1100/1709] Elapsed 8m 36s (remain 4m 45s) Loss: 0.6682(0.6094) Grad: 38025.4062  LR: 0.00001968  \n",
      "Epoch: [1][1200/1709] Elapsed 9m 25s (remain 3m 59s) Loss: 0.5515(0.6074) Grad: 18012.3633  LR: 0.00001962  \n",
      "Epoch: [1][1300/1709] Elapsed 10m 11s (remain 3m 11s) Loss: 0.5232(0.6049) Grad: 24891.3008  LR: 0.00001956  \n",
      "Epoch: [1][1400/1709] Elapsed 10m 57s (remain 2m 24s) Loss: 0.6765(0.6019) Grad: 21562.6523  LR: 0.00001949  \n",
      "Epoch: [1][1500/1709] Elapsed 11m 47s (remain 1m 38s) Loss: 0.4957(0.5998) Grad: 30303.7930  LR: 0.00001941  \n",
      "Epoch: [1][1600/1709] Elapsed 12m 35s (remain 0m 50s) Loss: 0.5541(0.5981) Grad: 17321.1973  LR: 0.00001933  \n",
      "Epoch: [1][1700/1709] Elapsed 13m 22s (remain 0m 3s) Loss: 0.5160(0.5963) Grad: 11920.6963  LR: 0.00001925  \n",
      "Epoch: [1][1708/1709] Elapsed 13m 25s (remain 0m 0s) Loss: 0.9607(0.5963) Grad: 133259.8750  LR: 0.00001924  \n"
     ]
    },
    {
     "name": "stderr",
     "output_type": "stream",
     "text": [
      "[W pthreadpool-cpp.cc:90] Warning: Leaking Caffe2 thread-pool after fork. (function pthreadpool)\n",
      "[W pthreadpool-cpp.cc:90] Warning: Leaking Caffe2 thread-pool after fork. (function pthreadpool)\n",
      "[W pthreadpool-cpp.cc:90] Warning: Leaking Caffe2 thread-pool after fork. (function pthreadpool)\n",
      "[W pthreadpool-cpp.cc:90] Warning: Leaking Caffe2 thread-pool after fork. (function pthreadpool)\n"
     ]
    },
    {
     "name": "stdout",
     "output_type": "stream",
     "text": [
      "EVAL: [0/570] Elapsed 0m 0s (remain 2m 25s) Loss: 0.7127(0.7127) \n",
      "EVAL: [100/570] Elapsed 0m 15s (remain 1m 12s) Loss: 0.7479(0.5840) \n",
      "EVAL: [200/570] Elapsed 0m 29s (remain 0m 54s) Loss: 0.4900(0.5808) \n",
      "EVAL: [300/570] Elapsed 0m 43s (remain 0m 38s) Loss: 0.7274(0.5778) \n",
      "EVAL: [400/570] Elapsed 0m 57s (remain 0m 24s) Loss: 0.4509(0.5795) \n",
      "EVAL: [500/570] Elapsed 1m 14s (remain 0m 10s) Loss: 0.5512(0.5794) \n"
     ]
    },
    {
     "name": "stderr",
     "output_type": "stream",
     "text": [
      "Epoch 1 - avg_train_loss: 0.5963  avg_val_loss: 0.5821  time: 889s\n",
      "Epoch 1 - Score: 0.7631\n",
      "Epoch 1 - Save Best Score: 0.7631 Model\n"
     ]
    },
    {
     "name": "stdout",
     "output_type": "stream",
     "text": [
      "EVAL: [569/570] Elapsed 1m 22s (remain 0m 0s) Loss: 0.6232(0.5821) \n"
     ]
    },
    {
     "name": "stderr",
     "output_type": "stream",
     "text": [
      "[W pthreadpool-cpp.cc:90] Warning: Leaking Caffe2 thread-pool after fork. (function pthreadpool)\n",
      "[W pthreadpool-cpp.cc:90] Warning: Leaking Caffe2 thread-pool after fork. (function pthreadpool)\n",
      "[W pthreadpool-cpp.cc:90] Warning: Leaking Caffe2 thread-pool after fork. (function pthreadpool)\n",
      "[W pthreadpool-cpp.cc:90] Warning: Leaking Caffe2 thread-pool after fork. (function pthreadpool)\n"
     ]
    },
    {
     "name": "stdout",
     "output_type": "stream",
     "text": [
      "Epoch: [2][0/1709] Elapsed 0m 1s (remain 56m 23s) Loss: 0.6053(0.6053) Grad: 214241.4844  LR: 0.00001924  \n",
      "Epoch: [2][100/1709] Elapsed 0m 48s (remain 12m 50s) Loss: 0.5959(0.5523) Grad: 56902.8711  LR: 0.00001915  \n",
      "Epoch: [2][200/1709] Elapsed 1m 37s (remain 12m 9s) Loss: 0.4946(0.5505) Grad: 64537.2500  LR: 0.00001905  \n",
      "Epoch: [2][300/1709] Elapsed 2m 25s (remain 11m 21s) Loss: 0.5660(0.5522) Grad: 90048.6094  LR: 0.00001895  \n",
      "Epoch: [2][400/1709] Elapsed 3m 15s (remain 10m 36s) Loss: 0.5064(0.5511) Grad: 42149.6211  LR: 0.00001885  \n",
      "Epoch: [2][500/1709] Elapsed 4m 2s (remain 9m 44s) Loss: 0.5433(0.5519) Grad: 34423.7031  LR: 0.00001874  \n",
      "Epoch: [2][600/1709] Elapsed 4m 48s (remain 8m 52s) Loss: 0.4738(0.5528) Grad: 16896.1426  LR: 0.00001863  \n",
      "Epoch: [2][700/1709] Elapsed 5m 38s (remain 8m 7s) Loss: 0.5796(0.5535) Grad: 42928.9414  LR: 0.00001851  \n",
      "Epoch: [2][800/1709] Elapsed 6m 21s (remain 7m 12s) Loss: 0.5663(0.5542) Grad: 35286.9336  LR: 0.00001838  \n",
      "Epoch: [2][900/1709] Elapsed 7m 11s (remain 6m 26s) Loss: 0.5201(0.5551) Grad: 21886.9688  LR: 0.00001826  \n",
      "Epoch: [2][1000/1709] Elapsed 7m 56s (remain 5m 36s) Loss: 0.4641(0.5551) Grad: 30879.3203  LR: 0.00001812  \n",
      "Epoch: [2][1100/1709] Elapsed 8m 44s (remain 4m 49s) Loss: 0.4579(0.5550) Grad: 6809.0615  LR: 0.00001799  \n",
      "Epoch: [2][1200/1709] Elapsed 9m 29s (remain 4m 0s) Loss: 0.5160(0.5560) Grad: 20887.0547  LR: 0.00001785  \n",
      "Epoch: [2][1300/1709] Elapsed 10m 17s (remain 3m 13s) Loss: 0.6510(0.5558) Grad: 4356.8706  LR: 0.00001770  \n",
      "Epoch: [2][1400/1709] Elapsed 11m 4s (remain 2m 26s) Loss: 0.5520(0.5555) Grad: 13939.9834  LR: 0.00001756  \n",
      "Epoch: [2][1500/1709] Elapsed 11m 53s (remain 1m 38s) Loss: 0.5761(0.5551) Grad: 57103.5156  LR: 0.00001740  \n",
      "Epoch: [2][1600/1709] Elapsed 12m 39s (remain 0m 51s) Loss: 0.4957(0.5557) Grad: 25722.3027  LR: 0.00001725  \n",
      "Epoch: [2][1700/1709] Elapsed 13m 27s (remain 0m 3s) Loss: 0.5919(0.5556) Grad: 17484.7246  LR: 0.00001709  \n",
      "Epoch: [2][1708/1709] Elapsed 13m 31s (remain 0m 0s) Loss: 0.6491(0.5556) Grad: 29590.9707  LR: 0.00001707  \n"
     ]
    },
    {
     "name": "stderr",
     "output_type": "stream",
     "text": [
      "[W pthreadpool-cpp.cc:90] Warning: Leaking Caffe2 thread-pool after fork. (function pthreadpool)\n",
      "[W pthreadpool-cpp.cc:90] Warning: Leaking Caffe2 thread-pool after fork. (function pthreadpool)\n",
      "[W pthreadpool-cpp.cc:90] Warning: Leaking Caffe2 thread-pool after fork. (function pthreadpool)\n",
      "[W pthreadpool-cpp.cc:90] Warning: Leaking Caffe2 thread-pool after fork. (function pthreadpool)\n"
     ]
    },
    {
     "name": "stdout",
     "output_type": "stream",
     "text": [
      "EVAL: [0/570] Elapsed 0m 0s (remain 2m 38s) Loss: 0.5926(0.5926) \n",
      "EVAL: [100/570] Elapsed 0m 17s (remain 1m 19s) Loss: 0.6963(0.5587) \n",
      "EVAL: [200/570] Elapsed 0m 32s (remain 1m 0s) Loss: 0.4695(0.5562) \n",
      "EVAL: [300/570] Elapsed 0m 46s (remain 0m 41s) Loss: 0.6476(0.5559) \n",
      "EVAL: [400/570] Elapsed 1m 0s (remain 0m 25s) Loss: 0.4402(0.5569) \n",
      "EVAL: [500/570] Elapsed 1m 14s (remain 0m 10s) Loss: 0.5531(0.5565) \n"
     ]
    },
    {
     "name": "stderr",
     "output_type": "stream",
     "text": [
      "Epoch 2 - avg_train_loss: 0.5556  avg_val_loss: 0.5587  time: 897s\n",
      "Epoch 2 - Score: 0.7992\n",
      "Epoch 2 - Save Best Score: 0.7992 Model\n"
     ]
    },
    {
     "name": "stdout",
     "output_type": "stream",
     "text": [
      "EVAL: [569/570] Elapsed 1m 25s (remain 0m 0s) Loss: 0.5822(0.5587) \n"
     ]
    },
    {
     "name": "stderr",
     "output_type": "stream",
     "text": [
      "[W pthreadpool-cpp.cc:90] Warning: Leaking Caffe2 thread-pool after fork. (function pthreadpool)\n",
      "[W pthreadpool-cpp.cc:90] Warning: Leaking Caffe2 thread-pool after fork. (function pthreadpool)\n",
      "[W pthreadpool-cpp.cc:90] Warning: Leaking Caffe2 thread-pool after fork. (function pthreadpool)\n",
      "[W pthreadpool-cpp.cc:90] Warning: Leaking Caffe2 thread-pool after fork. (function pthreadpool)\n"
     ]
    },
    {
     "name": "stdout",
     "output_type": "stream",
     "text": [
      "Epoch: [3][0/1709] Elapsed 0m 2s (remain 59m 3s) Loss: 0.4889(0.4889) Grad: 78310.7266  LR: 0.00001707  \n",
      "Epoch: [3][100/1709] Elapsed 0m 46s (remain 12m 22s) Loss: 0.5914(0.5377) Grad: 62262.9336  LR: 0.00001691  \n",
      "Epoch: [3][200/1709] Elapsed 1m 33s (remain 11m 43s) Loss: 0.6229(0.5343) Grad: 247132.7500  LR: 0.00001674  \n",
      "Epoch: [3][300/1709] Elapsed 2m 21s (remain 10m 59s) Loss: 0.5793(0.5373) Grad: 76404.4375  LR: 0.00001657  \n",
      "Epoch: [3][400/1709] Elapsed 3m 8s (remain 10m 13s) Loss: 0.4546(0.5375) Grad: 109828.9062  LR: 0.00001639  \n",
      "Epoch: [3][500/1709] Elapsed 3m 53s (remain 9m 24s) Loss: 0.4801(0.5366) Grad: 66062.5469  LR: 0.00001621  \n",
      "Epoch: [3][600/1709] Elapsed 4m 39s (remain 8m 36s) Loss: 0.5332(0.5352) Grad: 47715.7695  LR: 0.00001603  \n",
      "Epoch: [3][700/1709] Elapsed 5m 27s (remain 7m 51s) Loss: 0.3787(0.5354) Grad: 62368.0000  LR: 0.00001585  \n",
      "Epoch: [3][800/1709] Elapsed 6m 13s (remain 7m 3s) Loss: 0.5786(0.5330) Grad: 37805.3008  LR: 0.00001566  \n",
      "Epoch: [3][900/1709] Elapsed 7m 0s (remain 6m 16s) Loss: 0.5167(0.5316) Grad: 63770.3633  LR: 0.00001547  \n",
      "Epoch: [3][1000/1709] Elapsed 7m 48s (remain 5m 31s) Loss: 0.5010(0.5326) Grad: 53524.0742  LR: 0.00001528  \n",
      "Epoch: [3][1100/1709] Elapsed 8m 33s (remain 4m 43s) Loss: 0.6214(0.5340) Grad: 43290.6602  LR: 0.00001508  \n",
      "Epoch: [3][1200/1709] Elapsed 9m 21s (remain 3m 57s) Loss: 0.5157(0.5347) Grad: 47226.0430  LR: 0.00001488  \n",
      "Epoch: [3][1300/1709] Elapsed 10m 7s (remain 3m 10s) Loss: 0.6237(0.5355) Grad: 28610.8555  LR: 0.00001468  \n",
      "Epoch: [3][1400/1709] Elapsed 10m 53s (remain 2m 23s) Loss: 0.5229(0.5362) Grad: 46991.9141  LR: 0.00001447  \n",
      "Epoch: [3][1500/1709] Elapsed 11m 40s (remain 1m 37s) Loss: 0.4430(0.5362) Grad: 4661.9990  LR: 0.00001427  \n",
      "Epoch: [3][1600/1709] Elapsed 12m 28s (remain 0m 50s) Loss: 0.6069(0.5359) Grad: 22673.1387  LR: 0.00001406  \n",
      "Epoch: [3][1700/1709] Elapsed 13m 14s (remain 0m 3s) Loss: 0.6454(0.5368) Grad: 172099.1562  LR: 0.00001385  \n",
      "Epoch: [3][1708/1709] Elapsed 13m 19s (remain 0m 0s) Loss: 0.3031(0.5367) Grad: 42305.2031  LR: 0.00001383  \n"
     ]
    },
    {
     "name": "stderr",
     "output_type": "stream",
     "text": [
      "[W pthreadpool-cpp.cc:90] Warning: Leaking Caffe2 thread-pool after fork. (function pthreadpool)\n",
      "[W pthreadpool-cpp.cc:90] Warning: Leaking Caffe2 thread-pool after fork. (function pthreadpool)\n",
      "[W pthreadpool-cpp.cc:90] Warning: Leaking Caffe2 thread-pool after fork. (function pthreadpool)\n",
      "[W pthreadpool-cpp.cc:90] Warning: Leaking Caffe2 thread-pool after fork. (function pthreadpool)\n"
     ]
    },
    {
     "name": "stdout",
     "output_type": "stream",
     "text": [
      "EVAL: [0/570] Elapsed 0m 0s (remain 2m 37s) Loss: 0.5803(0.5803) \n",
      "EVAL: [100/570] Elapsed 0m 14s (remain 1m 6s) Loss: 0.6883(0.5582) \n",
      "EVAL: [200/570] Elapsed 0m 29s (remain 0m 54s) Loss: 0.4622(0.5539) \n",
      "EVAL: [300/570] Elapsed 0m 46s (remain 0m 41s) Loss: 0.6289(0.5521) \n",
      "EVAL: [400/570] Elapsed 1m 0s (remain 0m 25s) Loss: 0.4457(0.5505) \n",
      "EVAL: [500/570] Elapsed 1m 15s (remain 0m 10s) Loss: 0.5584(0.5505) \n"
     ]
    },
    {
     "name": "stderr",
     "output_type": "stream",
     "text": [
      "Epoch 3 - avg_train_loss: 0.5367  avg_val_loss: 0.5524  time: 887s\n",
      "Epoch 3 - Score: 0.8076\n",
      "Epoch 3 - Save Best Score: 0.8076 Model\n"
     ]
    },
    {
     "name": "stdout",
     "output_type": "stream",
     "text": [
      "EVAL: [569/570] Elapsed 1m 27s (remain 0m 0s) Loss: 0.6601(0.5524) \n"
     ]
    },
    {
     "name": "stderr",
     "output_type": "stream",
     "text": [
      "[W pthreadpool-cpp.cc:90] Warning: Leaking Caffe2 thread-pool after fork. (function pthreadpool)\n",
      "[W pthreadpool-cpp.cc:90] Warning: Leaking Caffe2 thread-pool after fork. (function pthreadpool)\n",
      "[W pthreadpool-cpp.cc:90] Warning: Leaking Caffe2 thread-pool after fork. (function pthreadpool)\n",
      "[W pthreadpool-cpp.cc:90] Warning: Leaking Caffe2 thread-pool after fork. (function pthreadpool)\n"
     ]
    },
    {
     "name": "stdout",
     "output_type": "stream",
     "text": [
      "Epoch: [4][0/1709] Elapsed 0m 0s (remain 10m 36s) Loss: 0.5128(0.5128) Grad: 41998.6562  LR: 0.00001383  \n",
      "Epoch: [4][100/1709] Elapsed 0m 48s (remain 12m 59s) Loss: 0.5132(0.5215) Grad: 161853.7344  LR: 0.00001362  \n",
      "Epoch: [4][200/1709] Elapsed 1m 35s (remain 11m 56s) Loss: 0.5707(0.5297) Grad: 19510.6328  LR: 0.00001340  \n",
      "Epoch: [4][300/1709] Elapsed 2m 21s (remain 11m 4s) Loss: 0.5354(0.5324) Grad: 36648.5703  LR: 0.00001318  \n",
      "Epoch: [4][400/1709] Elapsed 3m 9s (remain 10m 18s) Loss: 0.4387(0.5328) Grad: 40959.6523  LR: 0.00001296  \n",
      "Epoch: [4][500/1709] Elapsed 3m 55s (remain 9m 28s) Loss: 0.5770(0.5317) Grad: 43568.8164  LR: 0.00001274  \n",
      "Epoch: [4][600/1709] Elapsed 4m 45s (remain 8m 45s) Loss: 0.5737(0.5307) Grad: 25868.1465  LR: 0.00001252  \n",
      "Epoch: [4][700/1709] Elapsed 5m 32s (remain 7m 57s) Loss: 0.4283(0.5310) Grad: 43293.4023  LR: 0.00001230  \n",
      "Epoch: [4][800/1709] Elapsed 6m 17s (remain 7m 8s) Loss: 0.5588(0.5309) Grad: 40365.8203  LR: 0.00001208  \n",
      "Epoch: [4][900/1709] Elapsed 7m 6s (remain 6m 22s) Loss: 0.6034(0.5310) Grad: 38995.3086  LR: 0.00001185  \n",
      "Epoch: [4][1000/1709] Elapsed 7m 53s (remain 5m 34s) Loss: 0.4027(0.5300) Grad: 64553.9492  LR: 0.00001162  \n",
      "Epoch: [4][1100/1709] Elapsed 8m 40s (remain 4m 47s) Loss: 0.6616(0.5298) Grad: 117697.0859  LR: 0.00001140  \n",
      "Epoch: [4][1200/1709] Elapsed 9m 24s (remain 3m 58s) Loss: 0.6471(0.5297) Grad: 19355.0137  LR: 0.00001117  \n",
      "Epoch: [4][1300/1709] Elapsed 10m 9s (remain 3m 11s) Loss: 0.4636(0.5295) Grad: 17083.4531  LR: 0.00001094  \n",
      "Epoch: [4][1400/1709] Elapsed 10m 55s (remain 2m 24s) Loss: 0.5684(0.5306) Grad: 13330.7295  LR: 0.00001071  \n",
      "Epoch: [4][1500/1709] Elapsed 11m 43s (remain 1m 37s) Loss: 0.5870(0.5313) Grad: 50012.7695  LR: 0.00001048  \n",
      "Epoch: [4][1600/1709] Elapsed 12m 33s (remain 0m 50s) Loss: 0.6503(0.5302) Grad: 47427.1094  LR: 0.00001025  \n",
      "Epoch: [4][1700/1709] Elapsed 13m 20s (remain 0m 3s) Loss: 0.5314(0.5297) Grad: 11337.7490  LR: 0.00001002  \n",
      "Epoch: [4][1708/1709] Elapsed 13m 23s (remain 0m 0s) Loss: 0.6495(0.5297) Grad: 18865.0723  LR: 0.00001001  \n"
     ]
    },
    {
     "name": "stderr",
     "output_type": "stream",
     "text": [
      "[W pthreadpool-cpp.cc:90] Warning: Leaking Caffe2 thread-pool after fork. (function pthreadpool)\n",
      "[W pthreadpool-cpp.cc:90] Warning: Leaking Caffe2 thread-pool after fork. (function pthreadpool)\n",
      "[W pthreadpool-cpp.cc:90] Warning: Leaking Caffe2 thread-pool after fork. (function pthreadpool)\n",
      "[W pthreadpool-cpp.cc:90] Warning: Leaking Caffe2 thread-pool after fork. (function pthreadpool)\n"
     ]
    },
    {
     "name": "stdout",
     "output_type": "stream",
     "text": [
      "EVAL: [0/570] Elapsed 0m 0s (remain 2m 28s) Loss: 0.5798(0.5798) \n",
      "EVAL: [100/570] Elapsed 0m 14s (remain 1m 7s) Loss: 0.6985(0.5699) \n",
      "EVAL: [200/570] Elapsed 0m 29s (remain 0m 53s) Loss: 0.4607(0.5632) \n",
      "EVAL: [300/570] Elapsed 0m 43s (remain 0m 39s) Loss: 0.6394(0.5618) \n",
      "EVAL: [400/570] Elapsed 1m 0s (remain 0m 25s) Loss: 0.4304(0.5611) \n",
      "EVAL: [500/570] Elapsed 1m 16s (remain 0m 10s) Loss: 0.5615(0.5601) \n"
     ]
    },
    {
     "name": "stderr",
     "output_type": "stream",
     "text": [
      "Epoch 4 - avg_train_loss: 0.5297  avg_val_loss: 0.5626  time: 890s\n",
      "Epoch 4 - Score: 0.8141\n",
      "Epoch 4 - Save Best Score: 0.8141 Model\n"
     ]
    },
    {
     "name": "stdout",
     "output_type": "stream",
     "text": [
      "EVAL: [569/570] Elapsed 1m 24s (remain 0m 0s) Loss: 0.5810(0.5626) \n"
     ]
    },
    {
     "name": "stderr",
     "output_type": "stream",
     "text": [
      "[W pthreadpool-cpp.cc:90] Warning: Leaking Caffe2 thread-pool after fork. (function pthreadpool)\n",
      "[W pthreadpool-cpp.cc:90] Warning: Leaking Caffe2 thread-pool after fork. (function pthreadpool)\n",
      "[W pthreadpool-cpp.cc:90] Warning: Leaking Caffe2 thread-pool after fork. (function pthreadpool)\n",
      "[W pthreadpool-cpp.cc:90] Warning: Leaking Caffe2 thread-pool after fork. (function pthreadpool)\n"
     ]
    },
    {
     "name": "stdout",
     "output_type": "stream",
     "text": [
      "Epoch: [5][0/1709] Elapsed 0m 1s (remain 56m 6s) Loss: 0.5991(0.5991) Grad: 74114.0312  LR: 0.00001000  \n",
      "Epoch: [5][100/1709] Elapsed 0m 47s (remain 12m 31s) Loss: 0.4676(0.5308) Grad: 170166.5156  LR: 0.00000977  \n",
      "Epoch: [5][200/1709] Elapsed 1m 36s (remain 12m 1s) Loss: 0.5681(0.5272) Grad: 29364.6641  LR: 0.00000954  \n",
      "Epoch: [5][300/1709] Elapsed 2m 23s (remain 11m 13s) Loss: 0.5914(0.5195) Grad: 37933.5820  LR: 0.00000931  \n",
      "Epoch: [5][400/1709] Elapsed 3m 10s (remain 10m 22s) Loss: 0.5140(0.5176) Grad: 44436.2422  LR: 0.00000909  \n",
      "Epoch: [5][500/1709] Elapsed 3m 57s (remain 9m 31s) Loss: 0.3313(0.5168) Grad: 27547.8594  LR: 0.00000886  \n",
      "Epoch: [5][600/1709] Elapsed 4m 44s (remain 8m 44s) Loss: 0.4550(0.5182) Grad: 34671.2891  LR: 0.00000863  \n",
      "Epoch: [5][700/1709] Elapsed 5m 32s (remain 7m 58s) Loss: 0.4220(0.5178) Grad: 18198.6641  LR: 0.00000840  \n",
      "Epoch: [5][800/1709] Elapsed 6m 19s (remain 7m 10s) Loss: 0.4695(0.5177) Grad: 6833.8208  LR: 0.00000818  \n",
      "Epoch: [5][900/1709] Elapsed 7m 9s (remain 6m 25s) Loss: 0.5896(0.5177) Grad: 9000.8770  LR: 0.00000795  \n",
      "Epoch: [5][1000/1709] Elapsed 7m 56s (remain 5m 36s) Loss: 0.4050(0.5188) Grad: 21702.1816  LR: 0.00000773  \n",
      "Epoch: [5][1100/1709] Elapsed 8m 44s (remain 4m 49s) Loss: 0.4760(0.5191) Grad: 29420.8555  LR: 0.00000750  \n",
      "Epoch: [5][1200/1709] Elapsed 9m 30s (remain 4m 1s) Loss: 0.5141(0.5202) Grad: 19208.2305  LR: 0.00000728  \n",
      "Epoch: [5][1300/1709] Elapsed 10m 18s (remain 3m 14s) Loss: 0.4634(0.5200) Grad: 60919.9531  LR: 0.00000706  \n",
      "Epoch: [5][1400/1709] Elapsed 11m 6s (remain 2m 26s) Loss: 0.4622(0.5208) Grad: 10211.1152  LR: 0.00000684  \n",
      "Epoch: [5][1500/1709] Elapsed 11m 50s (remain 1m 38s) Loss: 0.6057(0.5204) Grad: 44966.3555  LR: 0.00000663  \n",
      "Epoch: [5][1600/1709] Elapsed 12m 35s (remain 0m 50s) Loss: 0.5026(0.5202) Grad: 17874.4199  LR: 0.00000641  \n",
      "Epoch: [5][1700/1709] Elapsed 13m 22s (remain 0m 3s) Loss: 0.3826(0.5205) Grad: 22661.4609  LR: 0.00000620  \n",
      "Epoch: [5][1708/1709] Elapsed 13m 25s (remain 0m 0s) Loss: 0.5280(0.5205) Grad: 34001.2422  LR: 0.00000618  \n"
     ]
    },
    {
     "name": "stderr",
     "output_type": "stream",
     "text": [
      "[W pthreadpool-cpp.cc:90] Warning: Leaking Caffe2 thread-pool after fork. (function pthreadpool)\n",
      "[W pthreadpool-cpp.cc:90] Warning: Leaking Caffe2 thread-pool after fork. (function pthreadpool)\n",
      "[W pthreadpool-cpp.cc:90] Warning: Leaking Caffe2 thread-pool after fork. (function pthreadpool)\n",
      "[W pthreadpool-cpp.cc:90] Warning: Leaking Caffe2 thread-pool after fork. (function pthreadpool)\n"
     ]
    },
    {
     "name": "stdout",
     "output_type": "stream",
     "text": [
      "EVAL: [0/570] Elapsed 0m 0s (remain 2m 25s) Loss: 0.5775(0.5775) \n",
      "EVAL: [100/570] Elapsed 0m 15s (remain 1m 13s) Loss: 0.6928(0.5621) \n",
      "EVAL: [200/570] Elapsed 0m 30s (remain 0m 55s) Loss: 0.4528(0.5573) \n",
      "EVAL: [300/570] Elapsed 0m 44s (remain 0m 40s) Loss: 0.6368(0.5559) \n",
      "EVAL: [400/570] Elapsed 0m 59s (remain 0m 25s) Loss: 0.4264(0.5556) \n",
      "EVAL: [500/570] Elapsed 1m 13s (remain 0m 10s) Loss: 0.5628(0.5555) \n"
     ]
    },
    {
     "name": "stderr",
     "output_type": "stream",
     "text": [
      "Epoch 5 - avg_train_loss: 0.5205  avg_val_loss: 0.5579  time: 888s\n",
      "Epoch 5 - Score: 0.8213\n",
      "Epoch 5 - Save Best Score: 0.8213 Model\n"
     ]
    },
    {
     "name": "stdout",
     "output_type": "stream",
     "text": [
      "EVAL: [569/570] Elapsed 1m 22s (remain 0m 0s) Loss: 0.5284(0.5579) \n"
     ]
    },
    {
     "name": "stderr",
     "output_type": "stream",
     "text": [
      "[W pthreadpool-cpp.cc:90] Warning: Leaking Caffe2 thread-pool after fork. (function pthreadpool)\n",
      "[W pthreadpool-cpp.cc:90] Warning: Leaking Caffe2 thread-pool after fork. (function pthreadpool)\n",
      "[W pthreadpool-cpp.cc:90] Warning: Leaking Caffe2 thread-pool after fork. (function pthreadpool)\n",
      "[W pthreadpool-cpp.cc:90] Warning: Leaking Caffe2 thread-pool after fork. (function pthreadpool)\n"
     ]
    },
    {
     "name": "stdout",
     "output_type": "stream",
     "text": [
      "Epoch: [6][0/1709] Elapsed 0m 2s (remain 61m 20s) Loss: 0.5239(0.5239) Grad: 59296.0781  LR: 0.00000618  \n",
      "Epoch: [6][100/1709] Elapsed 0m 51s (remain 13m 40s) Loss: 0.6071(0.5170) Grad: 23158.7422  LR: 0.00000597  \n",
      "Epoch: [6][200/1709] Elapsed 1m 38s (remain 12m 17s) Loss: 0.5454(0.5132) Grad: 42193.9570  LR: 0.00000576  \n",
      "Epoch: [6][300/1709] Elapsed 2m 24s (remain 11m 16s) Loss: 0.4626(0.5175) Grad: 24018.6484  LR: 0.00000555  \n",
      "Epoch: [6][400/1709] Elapsed 3m 12s (remain 10m 27s) Loss: 0.4872(0.5166) Grad: 24669.1836  LR: 0.00000535  \n",
      "Epoch: [6][500/1709] Elapsed 3m 57s (remain 9m 33s) Loss: 0.5068(0.5162) Grad: 68363.9844  LR: 0.00000514  \n",
      "Epoch: [6][600/1709] Elapsed 4m 45s (remain 8m 47s) Loss: 0.5013(0.5152) Grad: 33080.0039  LR: 0.00000494  \n",
      "Epoch: [6][700/1709] Elapsed 5m 31s (remain 7m 56s) Loss: 0.5494(0.5151) Grad: 18156.1152  LR: 0.00000475  \n",
      "Epoch: [6][800/1709] Elapsed 6m 18s (remain 7m 9s) Loss: 0.5247(0.5151) Grad: 25981.0449  LR: 0.00000455  \n",
      "Epoch: [6][900/1709] Elapsed 7m 5s (remain 6m 22s) Loss: 0.6400(0.5150) Grad: 140965.7500  LR: 0.00000436  \n",
      "Epoch: [6][1000/1709] Elapsed 7m 53s (remain 5m 35s) Loss: 0.5542(0.5157) Grad: 18839.7266  LR: 0.00000417  \n",
      "Epoch: [6][1100/1709] Elapsed 8m 42s (remain 4m 48s) Loss: 0.3646(0.5169) Grad: 62547.1875  LR: 0.00000399  \n",
      "Epoch: [6][1200/1709] Elapsed 9m 31s (remain 4m 1s) Loss: 0.5164(0.5173) Grad: 71043.9609  LR: 0.00000381  \n",
      "Epoch: [6][1300/1709] Elapsed 10m 18s (remain 3m 14s) Loss: 0.4945(0.5167) Grad: 64628.1016  LR: 0.00000363  \n",
      "Epoch: [6][1400/1709] Elapsed 11m 5s (remain 2m 26s) Loss: 0.5461(0.5157) Grad: 23621.0918  LR: 0.00000345  \n",
      "Epoch: [6][1500/1709] Elapsed 11m 51s (remain 1m 38s) Loss: 0.5064(0.5152) Grad: 36862.9570  LR: 0.00000328  \n",
      "Epoch: [6][1600/1709] Elapsed 12m 40s (remain 0m 51s) Loss: 0.4975(0.5153) Grad: 44760.8438  LR: 0.00000311  \n",
      "Epoch: [6][1700/1709] Elapsed 13m 30s (remain 0m 3s) Loss: 0.4935(0.5147) Grad: 62462.3945  LR: 0.00000295  \n",
      "Epoch: [6][1708/1709] Elapsed 13m 33s (remain 0m 0s) Loss: 0.5359(0.5148) Grad: 32490.7070  LR: 0.00000294  \n"
     ]
    },
    {
     "name": "stderr",
     "output_type": "stream",
     "text": [
      "[W pthreadpool-cpp.cc:90] Warning: Leaking Caffe2 thread-pool after fork. (function pthreadpool)\n",
      "[W pthreadpool-cpp.cc:90] Warning: Leaking Caffe2 thread-pool after fork. (function pthreadpool)\n",
      "[W pthreadpool-cpp.cc:90] Warning: Leaking Caffe2 thread-pool after fork. (function pthreadpool)\n",
      "[W pthreadpool-cpp.cc:90] Warning: Leaking Caffe2 thread-pool after fork. (function pthreadpool)\n"
     ]
    },
    {
     "name": "stdout",
     "output_type": "stream",
     "text": [
      "EVAL: [0/570] Elapsed 0m 0s (remain 2m 23s) Loss: 0.5867(0.5867) \n",
      "EVAL: [100/570] Elapsed 0m 15s (remain 1m 10s) Loss: 0.7033(0.5621) \n",
      "EVAL: [200/570] Elapsed 0m 28s (remain 0m 52s) Loss: 0.4559(0.5581) \n",
      "EVAL: [300/570] Elapsed 0m 42s (remain 0m 38s) Loss: 0.6473(0.5559) \n",
      "EVAL: [400/570] Elapsed 0m 56s (remain 0m 23s) Loss: 0.4303(0.5552) \n",
      "EVAL: [500/570] Elapsed 1m 11s (remain 0m 9s) Loss: 0.5549(0.5549) \n"
     ]
    },
    {
     "name": "stderr",
     "output_type": "stream",
     "text": [
      "Epoch 6 - avg_train_loss: 0.5148  avg_val_loss: 0.5574  time: 896s\n",
      "Epoch 6 - Score: 0.8220\n",
      "Epoch 6 - Save Best Score: 0.8220 Model\n"
     ]
    },
    {
     "name": "stdout",
     "output_type": "stream",
     "text": [
      "EVAL: [569/570] Elapsed 1m 21s (remain 0m 0s) Loss: 0.5389(0.5574) \n"
     ]
    },
    {
     "name": "stderr",
     "output_type": "stream",
     "text": [
      "[W pthreadpool-cpp.cc:90] Warning: Leaking Caffe2 thread-pool after fork. (function pthreadpool)\n",
      "[W pthreadpool-cpp.cc:90] Warning: Leaking Caffe2 thread-pool after fork. (function pthreadpool)\n",
      "[W pthreadpool-cpp.cc:90] Warning: Leaking Caffe2 thread-pool after fork. (function pthreadpool)\n",
      "[W pthreadpool-cpp.cc:90] Warning: Leaking Caffe2 thread-pool after fork. (function pthreadpool)\n"
     ]
    },
    {
     "name": "stdout",
     "output_type": "stream",
     "text": [
      "Epoch: [7][0/1709] Elapsed 0m 1s (remain 55m 29s) Loss: 0.5495(0.5495) Grad: 125303.3750  LR: 0.00000293  \n",
      "Epoch: [7][100/1709] Elapsed 0m 45s (remain 12m 11s) Loss: 0.5368(0.5243) Grad: 22972.1777  LR: 0.00000277  \n",
      "Epoch: [7][200/1709] Elapsed 1m 34s (remain 11m 46s) Loss: 0.4434(0.5087) Grad: 45562.8594  LR: 0.00000262  \n",
      "Epoch: [7][300/1709] Elapsed 2m 20s (remain 10m 58s) Loss: 0.4783(0.5109) Grad: 50043.1367  LR: 0.00000246  \n",
      "Epoch: [7][400/1709] Elapsed 3m 9s (remain 10m 17s) Loss: 0.5262(0.5126) Grad: 35779.1992  LR: 0.00000231  \n",
      "Epoch: [7][500/1709] Elapsed 3m 56s (remain 9m 29s) Loss: 0.4932(0.5098) Grad: 97858.0234  LR: 0.00000217  \n",
      "Epoch: [7][600/1709] Elapsed 4m 42s (remain 8m 40s) Loss: 0.4927(0.5080) Grad: 64876.3398  LR: 0.00000203  \n",
      "Epoch: [7][700/1709] Elapsed 5m 28s (remain 7m 52s) Loss: 0.4372(0.5081) Grad: 98774.4297  LR: 0.00000189  \n",
      "Epoch: [7][800/1709] Elapsed 6m 13s (remain 7m 3s) Loss: 0.3277(0.5094) Grad: 4453.4839  LR: 0.00000176  \n",
      "Epoch: [7][900/1709] Elapsed 7m 3s (remain 6m 20s) Loss: 0.3845(0.5099) Grad: 73184.9375  LR: 0.00000163  \n",
      "Epoch: [7][1000/1709] Elapsed 7m 54s (remain 5m 35s) Loss: 0.4017(0.5080) Grad: 14832.1826  LR: 0.00000151  \n",
      "Epoch: [7][1100/1709] Elapsed 8m 43s (remain 4m 49s) Loss: 0.5541(0.5086) Grad: 15748.3496  LR: 0.00000139  \n",
      "Epoch: [7][1200/1709] Elapsed 9m 28s (remain 4m 0s) Loss: 0.5973(0.5095) Grad: 21856.0879  LR: 0.00000127  \n",
      "Epoch: [7][1300/1709] Elapsed 10m 14s (remain 3m 12s) Loss: 0.4458(0.5100) Grad: 20995.4727  LR: 0.00000116  \n",
      "Epoch: [7][1400/1709] Elapsed 11m 0s (remain 2m 25s) Loss: 0.4858(0.5108) Grad: 40008.3594  LR: 0.00000106  \n",
      "Epoch: [7][1500/1709] Elapsed 11m 48s (remain 1m 38s) Loss: 0.5161(0.5101) Grad: 15144.1494  LR: 0.00000096  \n",
      "Epoch: [7][1600/1709] Elapsed 12m 36s (remain 0m 51s) Loss: 0.4900(0.5097) Grad: 62218.6094  LR: 0.00000086  \n",
      "Epoch: [7][1700/1709] Elapsed 13m 24s (remain 0m 3s) Loss: 0.6176(0.5101) Grad: 26613.9707  LR: 0.00000077  \n"
     ]
    },
    {
     "name": "stderr",
     "output_type": "stream",
     "text": [
      "[W pthreadpool-cpp.cc:90] Warning: Leaking Caffe2 thread-pool after fork. (function pthreadpool)\n"
     ]
    },
    {
     "name": "stdout",
     "output_type": "stream",
     "text": [
      "Epoch: [7][1708/1709] Elapsed 13m 27s (remain 0m 0s) Loss: 0.4783(0.5100) Grad: 28536.3242  LR: 0.00000077  \n"
     ]
    },
    {
     "name": "stderr",
     "output_type": "stream",
     "text": [
      "[W pthreadpool-cpp.cc:90] Warning: Leaking Caffe2 thread-pool after fork. (function pthreadpool)\n",
      "[W pthreadpool-cpp.cc:90] Warning: Leaking Caffe2 thread-pool after fork. (function pthreadpool)\n",
      "[W pthreadpool-cpp.cc:90] Warning: Leaking Caffe2 thread-pool after fork. (function pthreadpool)\n",
      "[W pthreadpool-cpp.cc:90] Warning: Leaking Caffe2 thread-pool after fork. (function pthreadpool)\n"
     ]
    },
    {
     "name": "stdout",
     "output_type": "stream",
     "text": [
      "EVAL: [0/570] Elapsed 0m 0s (remain 2m 24s) Loss: 0.5803(0.5803) \n",
      "EVAL: [100/570] Elapsed 0m 14s (remain 1m 6s) Loss: 0.6991(0.5658) \n",
      "EVAL: [200/570] Elapsed 0m 28s (remain 0m 52s) Loss: 0.4546(0.5610) \n",
      "EVAL: [300/570] Elapsed 0m 44s (remain 0m 40s) Loss: 0.6632(0.5591) \n",
      "EVAL: [400/570] Elapsed 1m 0s (remain 0m 25s) Loss: 0.4267(0.5592) \n",
      "EVAL: [500/570] Elapsed 1m 15s (remain 0m 10s) Loss: 0.5600(0.5588) \n"
     ]
    },
    {
     "name": "stderr",
     "output_type": "stream",
     "text": [
      "Epoch 7 - avg_train_loss: 0.5100  avg_val_loss: 0.5617  time: 896s\n",
      "Epoch 7 - Score: 0.8243\n",
      "Epoch 7 - Save Best Score: 0.8243 Model\n"
     ]
    },
    {
     "name": "stdout",
     "output_type": "stream",
     "text": [
      "EVAL: [569/570] Elapsed 1m 27s (remain 0m 0s) Loss: 0.5357(0.5617) \n"
     ]
    },
    {
     "name": "stderr",
     "output_type": "stream",
     "text": [
      "[W pthreadpool-cpp.cc:90] Warning: Leaking Caffe2 thread-pool after fork. (function pthreadpool)\n",
      "[W pthreadpool-cpp.cc:90] Warning: Leaking Caffe2 thread-pool after fork. (function pthreadpool)\n",
      "[W pthreadpool-cpp.cc:90] Warning: Leaking Caffe2 thread-pool after fork. (function pthreadpool)\n",
      "[W pthreadpool-cpp.cc:90] Warning: Leaking Caffe2 thread-pool after fork. (function pthreadpool)\n"
     ]
    },
    {
     "name": "stdout",
     "output_type": "stream",
     "text": [
      "Epoch: [8][0/1709] Elapsed 0m 0s (remain 9m 51s) Loss: 0.5726(0.5726) Grad: 111426.0000  LR: 0.00000076  \n",
      "Epoch: [8][100/1709] Elapsed 0m 49s (remain 13m 6s) Loss: 0.5176(0.5031) Grad: 56223.8398  LR: 0.00000068  \n",
      "Epoch: [8][200/1709] Elapsed 1m 38s (remain 12m 15s) Loss: 0.3860(0.5033) Grad: 49564.1523  LR: 0.00000060  \n",
      "Epoch: [8][300/1709] Elapsed 2m 23s (remain 11m 9s) Loss: 0.5736(0.5068) Grad: 46549.1680  LR: 0.00000052  \n",
      "Epoch: [8][400/1709] Elapsed 3m 9s (remain 10m 19s) Loss: 0.4410(0.5038) Grad: 26689.5254  LR: 0.00000045  \n",
      "Epoch: [8][500/1709] Elapsed 3m 58s (remain 9m 33s) Loss: 0.4594(0.5043) Grad: 17131.1191  LR: 0.00000039  \n",
      "Epoch: [8][600/1709] Elapsed 4m 43s (remain 8m 42s) Loss: 0.6455(0.5063) Grad: 15380.0332  LR: 0.00000033  \n",
      "Epoch: [8][700/1709] Elapsed 5m 32s (remain 7m 57s) Loss: 0.5668(0.5071) Grad: 113262.8594  LR: 0.00000027  \n",
      "Epoch: [8][800/1709] Elapsed 6m 19s (remain 7m 10s) Loss: 0.4627(0.5082) Grad: 22351.8496  LR: 0.00000022  \n",
      "Epoch: [8][900/1709] Elapsed 7m 8s (remain 6m 23s) Loss: 0.5046(0.5086) Grad: 8307.4785  LR: 0.00000017  \n",
      "Epoch: [8][1000/1709] Elapsed 7m 55s (remain 5m 36s) Loss: 0.5597(0.5090) Grad: 41825.4297  LR: 0.00000013  \n",
      "Epoch: [8][1100/1709] Elapsed 8m 43s (remain 4m 49s) Loss: 0.7203(0.5095) Grad: 99995.9375  LR: 0.00000010  \n",
      "Epoch: [8][1200/1709] Elapsed 9m 31s (remain 4m 1s) Loss: 0.3333(0.5080) Grad: 22579.7656  LR: 0.00000007  \n",
      "Epoch: [8][1300/1709] Elapsed 10m 17s (remain 3m 13s) Loss: 0.4931(0.5088) Grad: 31819.3652  LR: 0.00000004  \n",
      "Epoch: [8][1400/1709] Elapsed 11m 4s (remain 2m 26s) Loss: 0.4688(0.5095) Grad: 15769.9365  LR: 0.00000003  \n",
      "Epoch: [8][1500/1709] Elapsed 11m 52s (remain 1m 38s) Loss: 0.5254(0.5098) Grad: 20821.2363  LR: 0.00000001  \n",
      "Epoch: [8][1600/1709] Elapsed 12m 40s (remain 0m 51s) Loss: 0.5018(0.5091) Grad: 20795.3711  LR: 0.00000000  \n",
      "Epoch: [8][1700/1709] Elapsed 13m 27s (remain 0m 3s) Loss: 0.5848(0.5087) Grad: 84908.9688  LR: 0.00000000  \n"
     ]
    },
    {
     "name": "stderr",
     "output_type": "stream",
     "text": [
      "[W pthreadpool-cpp.cc:90] Warning: Leaking Caffe2 thread-pool after fork. (function pthreadpool)\n"
     ]
    },
    {
     "name": "stdout",
     "output_type": "stream",
     "text": [
      "Epoch: [8][1708/1709] Elapsed 13m 33s (remain 0m 0s) Loss: 0.4927(0.5087) Grad: 64912.5430  LR: 0.00000000  \n"
     ]
    },
    {
     "name": "stderr",
     "output_type": "stream",
     "text": [
      "[W pthreadpool-cpp.cc:90] Warning: Leaking Caffe2 thread-pool after fork. (function pthreadpool)\n",
      "[W pthreadpool-cpp.cc:90] Warning: Leaking Caffe2 thread-pool after fork. (function pthreadpool)\n",
      "[W pthreadpool-cpp.cc:90] Warning: Leaking Caffe2 thread-pool after fork. (function pthreadpool)\n",
      "[W pthreadpool-cpp.cc:90] Warning: Leaking Caffe2 thread-pool after fork. (function pthreadpool)\n"
     ]
    },
    {
     "name": "stdout",
     "output_type": "stream",
     "text": [
      "EVAL: [0/570] Elapsed 0m 0s (remain 2m 47s) Loss: 0.5764(0.5764) \n",
      "EVAL: [100/570] Elapsed 0m 16s (remain 1m 18s) Loss: 0.6970(0.5699) \n",
      "EVAL: [200/570] Elapsed 0m 30s (remain 0m 56s) Loss: 0.4541(0.5640) \n",
      "EVAL: [300/570] Elapsed 0m 46s (remain 0m 41s) Loss: 0.6649(0.5621) \n",
      "EVAL: [400/570] Elapsed 1m 1s (remain 0m 25s) Loss: 0.4258(0.5631) \n",
      "EVAL: [500/570] Elapsed 1m 15s (remain 0m 10s) Loss: 0.5659(0.5627) \n"
     ]
    },
    {
     "name": "stderr",
     "output_type": "stream",
     "text": [
      "Epoch 8 - avg_train_loss: 0.5087  avg_val_loss: 0.5659  time: 901s\n",
      "Epoch 8 - Score: 0.8243\n"
     ]
    },
    {
     "name": "stdout",
     "output_type": "stream",
     "text": [
      "EVAL: [569/570] Elapsed 1m 26s (remain 0m 0s) Loss: 0.5356(0.5659) \n"
     ]
    },
    {
     "name": "stderr",
     "output_type": "stream",
     "text": [
      "========== fold: 3 result ==========\n",
      "Score: 0.8243\n",
      "========== CV ==========\n",
      "Score: 0.8223\n"
     ]
    }
   ],
   "source": [
    "if __name__ == '__main__':\n",
    "    \n",
    "    def get_result(oof_df):\n",
    "        labels = oof_df['score'].values\n",
    "        preds = oof_df['pred'].values\n",
    "        score = get_score(labels, preds)\n",
    "        LOGGER.info(f'Score: {score:<.4f}')\n",
    "    \n",
    "    if CFG.train:\n",
    "        oof_df = pd.DataFrame()\n",
    "        for fold in range(CFG.n_fold):\n",
    "            # if fold in [0,1,2]:\n",
    "                #continue\n",
    "               # print（f”￥０r３３［３８；５；４０m＝＝＝＝＝＝＝＝＝＝ this fold is pass ￥ontinue\n",
    "            LOGGER.info(f\"========== fold: {fold} training ==========\")\n",
    "            print(f\"\\033[38;5;40m========== fold: {fold} training ==========\\033[0m\");\n",
    "            if fold in CFG.trn_fold:\n",
    "                # ====================================================\n",
    "                # loader\n",
    "                # ====================================================\n",
    "                folds = train\n",
    "                train_folds = folds[folds['fold'] != fold].reset_index(drop=True)\n",
    "                valid_folds = folds[folds['fold'] == fold].reset_index(drop=True)\n",
    "                valid_labels = valid_folds['score'].values\n",
    "\n",
    "                train_dataset = TrainDataset(CFG, train_folds)\n",
    "                valid_dataset = TrainDataset(CFG, valid_folds)\n",
    "\n",
    "                train_loader = DataLoader(train_dataset,\n",
    "                                          batch_size=CFG.batch_size,\n",
    "                                          shuffle=True,\n",
    "                                          num_workers=CFG.num_workers, pin_memory=True, drop_last=True)\n",
    "                valid_loader = DataLoader(valid_dataset,\n",
    "                                          batch_size=CFG.batch_size,\n",
    "                                          shuffle=False,\n",
    "                                          num_workers=CFG.num_workers, pin_memory=True, drop_last=False)\n",
    "\n",
    "#                 _oof_df = train_loop(train, fold)\n",
    "                _oof_df = train_loop(train_loader, valid_loader)\n",
    "                oof_df = pd.concat([oof_df, _oof_df])\n",
    "                LOGGER.info(f\"========== fold: {fold} result ==========\")\n",
    "                get_result(_oof_df)\n",
    "        oof_df = oof_df.reset_index(drop=True)\n",
    "        LOGGER.info(f\"========== CV ==========\")\n",
    "        get_result(oof_df)\n",
    "        oof_df.to_pickle(OUTPUT_DIR+'oof_df.pkl')\n",
    "        \n",
    "    if CFG.wandb:\n",
    "        wandb.finish()"
   ]
  },
  {
   "cell_type": "code",
   "execution_count": 29,
   "id": "6b65b21c",
   "metadata": {},
   "outputs": [
    {
     "name": "stdout",
     "output_type": "stream",
     "text": [
      "30951.727733373642 hour\n"
     ]
    }
   ],
   "source": [
    "print(f'{time.time()-start} hour')"
   ]
  },
  {
   "cell_type": "code",
   "execution_count": 30,
   "id": "5c638e57",
   "metadata": {},
   "outputs": [],
   "source": [
    "!touch trained_list/mpnet-base-trans.txt"
   ]
  },
  {
   "cell_type": "code",
   "execution_count": 31,
   "id": "10743e3c-5bff-46c5-8e9d-0f4b3f051a79",
   "metadata": {},
   "outputs": [
    {
     "name": "stderr",
     "output_type": "stream",
     "text": [
      "max_len: 125\n"
     ]
    }
   ],
   "source": [
    "LOGGER.info(f\"max_len: {CFG.max_len}\")"
   ]
  },
  {
   "cell_type": "code",
   "execution_count": null,
   "id": "5ffc0430-37d5-4e3c-937c-a24c6c5c96dc",
   "metadata": {},
   "outputs": [],
   "source": []
  },
  {
   "cell_type": "code",
   "execution_count": null,
   "id": "2e30d85c-df17-4211-ab0f-3886dd942276",
   "metadata": {},
   "outputs": [],
   "source": []
  },
  {
   "cell_type": "code",
   "execution_count": null,
   "id": "060989e4-10a2-4eeb-b39e-1451aab2e77c",
   "metadata": {},
   "outputs": [],
   "source": []
  },
  {
   "cell_type": "code",
   "execution_count": null,
   "id": "2f2cb436-b039-4232-9e65-cbf3b509e79b",
   "metadata": {},
   "outputs": [],
   "source": []
  },
  {
   "cell_type": "code",
   "execution_count": null,
   "id": "cd2afeb9-6924-47cc-a138-3af2a28fe70b",
   "metadata": {},
   "outputs": [],
   "source": []
  }
 ],
 "metadata": {
  "kernelspec": {
   "display_name": "Python 3 (ipykernel)",
   "language": "python",
   "name": "python3"
  },
  "language_info": {
   "codemirror_mode": {
    "name": "ipython",
    "version": 3
   },
   "file_extension": ".py",
   "mimetype": "text/x-python",
   "name": "python",
   "nbconvert_exporter": "python",
   "pygments_lexer": "ipython3",
   "version": "3.7.12"
  },
  "papermill": {
   "default_parameters": {},
   "duration": 30329.017674,
   "end_time": "2022-03-22T18:05:22.040486",
   "environment_variables": {},
   "exception": null,
   "input_path": "__notebook__.ipynb",
   "output_path": "__notebook__.ipynb",
   "parameters": {},
   "start_time": "2022-03-22T09:39:53.022812",
   "version": "2.3.3"
  },
  "widgets": {
   "application/vnd.jupyter.widget-state+json": {
    "state": {
     "126a1e5f24e44838a03204815209c5dc": {
      "model_module": "@jupyter-widgets/controls",
      "model_module_version": "1.5.0",
      "model_name": "ProgressStyleModel",
      "state": {
       "_model_module": "@jupyter-widgets/controls",
       "_model_module_version": "1.5.0",
       "_model_name": "ProgressStyleModel",
       "_view_count": null,
       "_view_module": "@jupyter-widgets/base",
       "_view_module_version": "1.2.0",
       "_view_name": "StyleView",
       "bar_color": null,
       "description_width": ""
      }
     },
     "12d0d3a78caf4f8c93da02229f2185df": {
      "model_module": "@jupyter-widgets/base",
      "model_module_version": "1.2.0",
      "model_name": "LayoutModel",
      "state": {
       "_model_module": "@jupyter-widgets/base",
       "_model_module_version": "1.2.0",
       "_model_name": "LayoutModel",
       "_view_count": null,
       "_view_module": "@jupyter-widgets/base",
       "_view_module_version": "1.2.0",
       "_view_name": "LayoutView",
       "align_content": null,
       "align_items": null,
       "align_self": null,
       "border": null,
       "bottom": null,
       "display": null,
       "flex": null,
       "flex_flow": null,
       "grid_area": null,
       "grid_auto_columns": null,
       "grid_auto_flow": null,
       "grid_auto_rows": null,
       "grid_column": null,
       "grid_gap": null,
       "grid_row": null,
       "grid_template_areas": null,
       "grid_template_columns": null,
       "grid_template_rows": null,
       "height": null,
       "justify_content": null,
       "justify_items": null,
       "left": null,
       "margin": null,
       "max_height": null,
       "max_width": null,
       "min_height": null,
       "min_width": null,
       "object_fit": null,
       "object_position": null,
       "order": null,
       "overflow": null,
       "overflow_x": null,
       "overflow_y": null,
       "padding": null,
       "right": null,
       "top": null,
       "visibility": null,
       "width": null
      }
     },
     "14972cafd36646939e742a987e1d0ec7": {
      "model_module": "@jupyter-widgets/base",
      "model_module_version": "1.2.0",
      "model_name": "LayoutModel",
      "state": {
       "_model_module": "@jupyter-widgets/base",
       "_model_module_version": "1.2.0",
       "_model_name": "LayoutModel",
       "_view_count": null,
       "_view_module": "@jupyter-widgets/base",
       "_view_module_version": "1.2.0",
       "_view_name": "LayoutView",
       "align_content": null,
       "align_items": null,
       "align_self": null,
       "border": null,
       "bottom": null,
       "display": null,
       "flex": null,
       "flex_flow": null,
       "grid_area": null,
       "grid_auto_columns": null,
       "grid_auto_flow": null,
       "grid_auto_rows": null,
       "grid_column": null,
       "grid_gap": null,
       "grid_row": null,
       "grid_template_areas": null,
       "grid_template_columns": null,
       "grid_template_rows": null,
       "height": null,
       "justify_content": null,
       "justify_items": null,
       "left": null,
       "margin": null,
       "max_height": null,
       "max_width": null,
       "min_height": null,
       "min_width": null,
       "object_fit": null,
       "object_position": null,
       "order": null,
       "overflow": null,
       "overflow_x": null,
       "overflow_y": null,
       "padding": null,
       "right": null,
       "top": null,
       "visibility": null,
       "width": null
      }
     },
     "181ebde2d0064fb99b8ec32e9dc76836": {
      "model_module": "@jupyter-widgets/controls",
      "model_module_version": "1.5.0",
      "model_name": "HTMLModel",
      "state": {
       "_dom_classes": [],
       "_model_module": "@jupyter-widgets/controls",
       "_model_module_version": "1.5.0",
       "_model_name": "HTMLModel",
       "_view_count": null,
       "_view_module": "@jupyter-widgets/controls",
       "_view_module_version": "1.5.0",
       "_view_name": "HTMLView",
       "description": "",
       "description_tooltip": null,
       "layout": "IPY_MODEL_c1e8e53062324cf38fbd75eab01e066a",
       "placeholder": "​",
       "style": "IPY_MODEL_3feaf01a7f7b43ed923effab61b93ac4",
       "value": " 36473/36473 [00:03&lt;00:00, 12012.58it/s]"
      }
     },
     "1c5d07635bff4f7999e3e8486f648aaf": {
      "model_module": "@jupyter-widgets/controls",
      "model_module_version": "1.5.0",
      "model_name": "FloatProgressModel",
      "state": {
       "_dom_classes": [],
       "_model_module": "@jupyter-widgets/controls",
       "_model_module_version": "1.5.0",
       "_model_name": "FloatProgressModel",
       "_view_count": null,
       "_view_module": "@jupyter-widgets/controls",
       "_view_module_version": "1.5.0",
       "_view_name": "ProgressView",
       "bar_style": "success",
       "description": "",
       "description_tooltip": null,
       "layout": "IPY_MODEL_87214ce12c1f422481a0fe3caf5a3ce8",
       "max": 2464616,
       "min": 0,
       "orientation": "horizontal",
       "style": "IPY_MODEL_d9f0d96d140a4115aadfdfc9ce5ba608",
       "value": 2464616
      }
     },
     "1d83ae8940534922833de4d1fdd71216": {
      "model_module": "@jupyter-widgets/base",
      "model_module_version": "1.2.0",
      "model_name": "LayoutModel",
      "state": {
       "_model_module": "@jupyter-widgets/base",
       "_model_module_version": "1.2.0",
       "_model_name": "LayoutModel",
       "_view_count": null,
       "_view_module": "@jupyter-widgets/base",
       "_view_module_version": "1.2.0",
       "_view_name": "LayoutView",
       "align_content": null,
       "align_items": null,
       "align_self": null,
       "border": null,
       "bottom": null,
       "display": null,
       "flex": null,
       "flex_flow": null,
       "grid_area": null,
       "grid_auto_columns": null,
       "grid_auto_flow": null,
       "grid_auto_rows": null,
       "grid_column": null,
       "grid_gap": null,
       "grid_row": null,
       "grid_template_areas": null,
       "grid_template_columns": null,
       "grid_template_rows": null,
       "height": null,
       "justify_content": null,
       "justify_items": null,
       "left": null,
       "margin": null,
       "max_height": null,
       "max_width": null,
       "min_height": null,
       "min_width": null,
       "object_fit": null,
       "object_position": null,
       "order": null,
       "overflow": null,
       "overflow_x": null,
       "overflow_y": null,
       "padding": null,
       "right": null,
       "top": null,
       "visibility": null,
       "width": null
      }
     },
     "2373dbe30aca4d64b94b5bb64216151e": {
      "model_module": "@jupyter-widgets/base",
      "model_module_version": "1.2.0",
      "model_name": "LayoutModel",
      "state": {
       "_model_module": "@jupyter-widgets/base",
       "_model_module_version": "1.2.0",
       "_model_name": "LayoutModel",
       "_view_count": null,
       "_view_module": "@jupyter-widgets/base",
       "_view_module_version": "1.2.0",
       "_view_name": "LayoutView",
       "align_content": null,
       "align_items": null,
       "align_self": null,
       "border": null,
       "bottom": null,
       "display": null,
       "flex": null,
       "flex_flow": null,
       "grid_area": null,
       "grid_auto_columns": null,
       "grid_auto_flow": null,
       "grid_auto_rows": null,
       "grid_column": null,
       "grid_gap": null,
       "grid_row": null,
       "grid_template_areas": null,
       "grid_template_columns": null,
       "grid_template_rows": null,
       "height": null,
       "justify_content": null,
       "justify_items": null,
       "left": null,
       "margin": null,
       "max_height": null,
       "max_width": null,
       "min_height": null,
       "min_width": null,
       "object_fit": null,
       "object_position": null,
       "order": null,
       "overflow": null,
       "overflow_x": null,
       "overflow_y": null,
       "padding": null,
       "right": null,
       "top": null,
       "visibility": null,
       "width": null
      }
     },
     "251e902150c543d2a2212b4250931617": {
      "model_module": "@jupyter-widgets/controls",
      "model_module_version": "1.5.0",
      "model_name": "HBoxModel",
      "state": {
       "_dom_classes": [],
       "_model_module": "@jupyter-widgets/controls",
       "_model_module_version": "1.5.0",
       "_model_name": "HBoxModel",
       "_view_count": null,
       "_view_module": "@jupyter-widgets/controls",
       "_view_module_version": "1.5.0",
       "_view_name": "HBoxView",
       "box_style": "",
       "children": [
        "IPY_MODEL_7d211c0746b64a0b935fa964ad7bd858",
        "IPY_MODEL_432a848a161c4a0888dad1ac9c5408c3",
        "IPY_MODEL_181ebde2d0064fb99b8ec32e9dc76836"
       ],
       "layout": "IPY_MODEL_5d82f1a2cf554609ba65dfb95dc152e5"
      }
     },
     "2866d577bb3049b283da7c969f175d91": {
      "model_module": "@jupyter-widgets/controls",
      "model_module_version": "1.5.0",
      "model_name": "HBoxModel",
      "state": {
       "_dom_classes": [],
       "_model_module": "@jupyter-widgets/controls",
       "_model_module_version": "1.5.0",
       "_model_name": "HBoxModel",
       "_view_count": null,
       "_view_module": "@jupyter-widgets/controls",
       "_view_module_version": "1.5.0",
       "_view_name": "HBoxView",
       "box_style": "",
       "children": [
        "IPY_MODEL_673fb48e7dca47f4a3754d06af7dcf1f",
        "IPY_MODEL_bba517b096dd460cb764ccd71b57f148",
        "IPY_MODEL_362ef79e65894ea9aaae390562257f58"
       ],
       "layout": "IPY_MODEL_9d403276e05f4c368e46f353070b9d9a"
      }
     },
     "291ab6d32ec345ee8adaa6f354bfcfb4": {
      "model_module": "@jupyter-widgets/controls",
      "model_module_version": "1.5.0",
      "model_name": "HTMLModel",
      "state": {
       "_dom_classes": [],
       "_model_module": "@jupyter-widgets/controls",
       "_model_module_version": "1.5.0",
       "_model_name": "HTMLModel",
       "_view_count": null,
       "_view_module": "@jupyter-widgets/controls",
       "_view_module_version": "1.5.0",
       "_view_name": "HTMLView",
       "description": "",
       "description_tooltip": null,
       "layout": "IPY_MODEL_12d0d3a78caf4f8c93da02229f2185df",
       "placeholder": "​",
       "style": "IPY_MODEL_de3e60ed24f04a7ab49a05b98b7cf0f0",
       "value": " 36473/36473 [00:03&lt;00:00, 7261.90it/s]"
      }
     },
     "341389680b6a43d8b6b3de95dffca671": {
      "model_module": "@jupyter-widgets/base",
      "model_module_version": "1.2.0",
      "model_name": "LayoutModel",
      "state": {
       "_model_module": "@jupyter-widgets/base",
       "_model_module_version": "1.2.0",
       "_model_name": "LayoutModel",
       "_view_count": null,
       "_view_module": "@jupyter-widgets/base",
       "_view_module_version": "1.2.0",
       "_view_name": "LayoutView",
       "align_content": null,
       "align_items": null,
       "align_self": null,
       "border": null,
       "bottom": null,
       "display": null,
       "flex": null,
       "flex_flow": null,
       "grid_area": null,
       "grid_auto_columns": null,
       "grid_auto_flow": null,
       "grid_auto_rows": null,
       "grid_column": null,
       "grid_gap": null,
       "grid_row": null,
       "grid_template_areas": null,
       "grid_template_columns": null,
       "grid_template_rows": null,
       "height": null,
       "justify_content": null,
       "justify_items": null,
       "left": null,
       "margin": null,
       "max_height": null,
       "max_width": null,
       "min_height": null,
       "min_width": null,
       "object_fit": null,
       "object_position": null,
       "order": null,
       "overflow": null,
       "overflow_x": null,
       "overflow_y": null,
       "padding": null,
       "right": null,
       "top": null,
       "visibility": null,
       "width": null
      }
     },
     "349e43c8d4114c36823434cef63fc567": {
      "model_module": "@jupyter-widgets/controls",
      "model_module_version": "1.5.0",
      "model_name": "ProgressStyleModel",
      "state": {
       "_model_module": "@jupyter-widgets/controls",
       "_model_module_version": "1.5.0",
       "_model_name": "ProgressStyleModel",
       "_view_count": null,
       "_view_module": "@jupyter-widgets/base",
       "_view_module_version": "1.2.0",
       "_view_name": "StyleView",
       "bar_color": null,
       "description_width": ""
      }
     },
     "35cb92ba1b2d4932bc3a0b0640f71b0c": {
      "model_module": "@jupyter-widgets/controls",
      "model_module_version": "1.5.0",
      "model_name": "DescriptionStyleModel",
      "state": {
       "_model_module": "@jupyter-widgets/controls",
       "_model_module_version": "1.5.0",
       "_model_name": "DescriptionStyleModel",
       "_view_count": null,
       "_view_module": "@jupyter-widgets/base",
       "_view_module_version": "1.2.0",
       "_view_name": "StyleView",
       "description_width": ""
      }
     },
     "360314d0f3254b66818b8a62223c2b0b": {
      "model_module": "@jupyter-widgets/base",
      "model_module_version": "1.2.0",
      "model_name": "LayoutModel",
      "state": {
       "_model_module": "@jupyter-widgets/base",
       "_model_module_version": "1.2.0",
       "_model_name": "LayoutModel",
       "_view_count": null,
       "_view_module": "@jupyter-widgets/base",
       "_view_module_version": "1.2.0",
       "_view_name": "LayoutView",
       "align_content": null,
       "align_items": null,
       "align_self": null,
       "border": null,
       "bottom": null,
       "display": null,
       "flex": null,
       "flex_flow": null,
       "grid_area": null,
       "grid_auto_columns": null,
       "grid_auto_flow": null,
       "grid_auto_rows": null,
       "grid_column": null,
       "grid_gap": null,
       "grid_row": null,
       "grid_template_areas": null,
       "grid_template_columns": null,
       "grid_template_rows": null,
       "height": null,
       "justify_content": null,
       "justify_items": null,
       "left": null,
       "margin": null,
       "max_height": null,
       "max_width": null,
       "min_height": null,
       "min_width": null,
       "object_fit": null,
       "object_position": null,
       "order": null,
       "overflow": null,
       "overflow_x": null,
       "overflow_y": null,
       "padding": null,
       "right": null,
       "top": null,
       "visibility": null,
       "width": null
      }
     },
     "362ef79e65894ea9aaae390562257f58": {
      "model_module": "@jupyter-widgets/controls",
      "model_module_version": "1.5.0",
      "model_name": "HTMLModel",
      "state": {
       "_dom_classes": [],
       "_model_module": "@jupyter-widgets/controls",
       "_model_module_version": "1.5.0",
       "_model_name": "HTMLModel",
       "_view_count": null,
       "_view_module": "@jupyter-widgets/controls",
       "_view_module_version": "1.5.0",
       "_view_name": "HTMLView",
       "description": "",
       "description_tooltip": null,
       "layout": "IPY_MODEL_4e94a902a0d44b1eacfaeee99cd470d2",
       "placeholder": "​",
       "style": "IPY_MODEL_ad6386dafce545c48eac271bb2a3c0dd",
       "value": " 136/136 [00:00&lt;00:00, 2149.45it/s]"
      }
     },
     "39512e7ede884ec1b6fe92f794e1d74d": {
      "model_module": "@jupyter-widgets/base",
      "model_module_version": "1.2.0",
      "model_name": "LayoutModel",
      "state": {
       "_model_module": "@jupyter-widgets/base",
       "_model_module_version": "1.2.0",
       "_model_name": "LayoutModel",
       "_view_count": null,
       "_view_module": "@jupyter-widgets/base",
       "_view_module_version": "1.2.0",
       "_view_name": "LayoutView",
       "align_content": null,
       "align_items": null,
       "align_self": null,
       "border": null,
       "bottom": null,
       "display": null,
       "flex": null,
       "flex_flow": null,
       "grid_area": null,
       "grid_auto_columns": null,
       "grid_auto_flow": null,
       "grid_auto_rows": null,
       "grid_column": null,
       "grid_gap": null,
       "grid_row": null,
       "grid_template_areas": null,
       "grid_template_columns": null,
       "grid_template_rows": null,
       "height": null,
       "justify_content": null,
       "justify_items": null,
       "left": null,
       "margin": null,
       "max_height": null,
       "max_width": null,
       "min_height": null,
       "min_width": null,
       "object_fit": null,
       "object_position": null,
       "order": null,
       "overflow": null,
       "overflow_x": null,
       "overflow_y": null,
       "padding": null,
       "right": null,
       "top": null,
       "visibility": null,
       "width": null
      }
     },
     "3b0ebe22bd154b01bcb4d6b2ab2dec83": {
      "model_module": "@jupyter-widgets/controls",
      "model_module_version": "1.5.0",
      "model_name": "HTMLModel",
      "state": {
       "_dom_classes": [],
       "_model_module": "@jupyter-widgets/controls",
       "_model_module_version": "1.5.0",
       "_model_name": "HTMLModel",
       "_view_count": null,
       "_view_module": "@jupyter-widgets/controls",
       "_view_module_version": "1.5.0",
       "_view_name": "HTMLView",
       "description": "",
       "description_tooltip": null,
       "layout": "IPY_MODEL_ad4745f1eca942009bdf6cf12913f34a",
       "placeholder": "​",
       "style": "IPY_MODEL_d3b6e4a4aac943b79ba51bbacd77907e",
       "value": " 2.35M/2.35M [00:00&lt;00:00, 4.49MB/s]"
      }
     },
     "3e601d15c9ef4bd1b05e70f9267e1dfe": {
      "model_module": "@jupyter-widgets/controls",
      "model_module_version": "1.5.0",
      "model_name": "DescriptionStyleModel",
      "state": {
       "_model_module": "@jupyter-widgets/controls",
       "_model_module_version": "1.5.0",
       "_model_name": "DescriptionStyleModel",
       "_view_count": null,
       "_view_module": "@jupyter-widgets/base",
       "_view_module_version": "1.2.0",
       "_view_name": "StyleView",
       "description_width": ""
      }
     },
     "3feaf01a7f7b43ed923effab61b93ac4": {
      "model_module": "@jupyter-widgets/controls",
      "model_module_version": "1.5.0",
      "model_name": "DescriptionStyleModel",
      "state": {
       "_model_module": "@jupyter-widgets/controls",
       "_model_module_version": "1.5.0",
       "_model_name": "DescriptionStyleModel",
       "_view_count": null,
       "_view_module": "@jupyter-widgets/base",
       "_view_module_version": "1.2.0",
       "_view_name": "StyleView",
       "description_width": ""
      }
     },
     "4133e3e34f97426c9bebda989ec7e167": {
      "model_module": "@jupyter-widgets/controls",
      "model_module_version": "1.5.0",
      "model_name": "HBoxModel",
      "state": {
       "_dom_classes": [],
       "_model_module": "@jupyter-widgets/controls",
       "_model_module_version": "1.5.0",
       "_model_name": "HBoxModel",
       "_view_count": null,
       "_view_module": "@jupyter-widgets/controls",
       "_view_module_version": "1.5.0",
       "_view_name": "HBoxView",
       "box_style": "",
       "children": [
        "IPY_MODEL_48b36757767f4ff39f262dd63e844057",
        "IPY_MODEL_a03e24ff8fc54bccaa69e36839b36bab",
        "IPY_MODEL_e3e17f880bab4d47a1531bebac861fda"
       ],
       "layout": "IPY_MODEL_da88817e8aed48399b1948f8e004ee97"
      }
     },
     "43014906a0084e288ab06cb3ebf57538": {
      "model_module": "@jupyter-widgets/controls",
      "model_module_version": "1.5.0",
      "model_name": "HTMLModel",
      "state": {
       "_dom_classes": [],
       "_model_module": "@jupyter-widgets/controls",
       "_model_module_version": "1.5.0",
       "_model_name": "HTMLModel",
       "_view_count": null,
       "_view_module": "@jupyter-widgets/controls",
       "_view_module_version": "1.5.0",
       "_view_name": "HTMLView",
       "description": "",
       "description_tooltip": null,
       "layout": "IPY_MODEL_968e2989cea6490d9ee08b6700291242",
       "placeholder": "​",
       "style": "IPY_MODEL_929108014ee94c9092394cf7ef09134f",
       "value": "Downloading: 100%"
      }
     },
     "432a848a161c4a0888dad1ac9c5408c3": {
      "model_module": "@jupyter-widgets/controls",
      "model_module_version": "1.5.0",
      "model_name": "FloatProgressModel",
      "state": {
       "_dom_classes": [],
       "_model_module": "@jupyter-widgets/controls",
       "_model_module_version": "1.5.0",
       "_model_name": "FloatProgressModel",
       "_view_count": null,
       "_view_module": "@jupyter-widgets/controls",
       "_view_module_version": "1.5.0",
       "_view_name": "ProgressView",
       "bar_style": "success",
       "description": "",
       "description_tooltip": null,
       "layout": "IPY_MODEL_39512e7ede884ec1b6fe92f794e1d74d",
       "max": 36473,
       "min": 0,
       "orientation": "horizontal",
       "style": "IPY_MODEL_466a744f951d433da986e75bc9fd3b69",
       "value": 36473
      }
     },
     "466a744f951d433da986e75bc9fd3b69": {
      "model_module": "@jupyter-widgets/controls",
      "model_module_version": "1.5.0",
      "model_name": "ProgressStyleModel",
      "state": {
       "_model_module": "@jupyter-widgets/controls",
       "_model_module_version": "1.5.0",
       "_model_name": "ProgressStyleModel",
       "_view_count": null,
       "_view_module": "@jupyter-widgets/base",
       "_view_module_version": "1.2.0",
       "_view_name": "StyleView",
       "bar_color": null,
       "description_width": ""
      }
     },
     "46ab7441760642718f381e7f430e16a0": {
      "model_module": "@jupyter-widgets/controls",
      "model_module_version": "1.5.0",
      "model_name": "DescriptionStyleModel",
      "state": {
       "_model_module": "@jupyter-widgets/controls",
       "_model_module_version": "1.5.0",
       "_model_name": "DescriptionStyleModel",
       "_view_count": null,
       "_view_module": "@jupyter-widgets/base",
       "_view_module_version": "1.2.0",
       "_view_name": "StyleView",
       "description_width": ""
      }
     },
     "48b36757767f4ff39f262dd63e844057": {
      "model_module": "@jupyter-widgets/controls",
      "model_module_version": "1.5.0",
      "model_name": "HTMLModel",
      "state": {
       "_dom_classes": [],
       "_model_module": "@jupyter-widgets/controls",
       "_model_module_version": "1.5.0",
       "_model_name": "HTMLModel",
       "_view_count": null,
       "_view_module": "@jupyter-widgets/controls",
       "_view_module_version": "1.5.0",
       "_view_name": "HTMLView",
       "description": "",
       "description_tooltip": null,
       "layout": "IPY_MODEL_14972cafd36646939e742a987e1d0ec7",
       "placeholder": "​",
       "style": "IPY_MODEL_3e601d15c9ef4bd1b05e70f9267e1dfe",
       "value": "Downloading: 100%"
      }
     },
     "4c514a00a080445da009d272716b3577": {
      "model_module": "@jupyter-widgets/controls",
      "model_module_version": "1.5.0",
      "model_name": "HTMLModel",
      "state": {
       "_dom_classes": [],
       "_model_module": "@jupyter-widgets/controls",
       "_model_module_version": "1.5.0",
       "_model_name": "HTMLModel",
       "_view_count": null,
       "_view_module": "@jupyter-widgets/controls",
       "_view_module_version": "1.5.0",
       "_view_name": "HTMLView",
       "description": "",
       "description_tooltip": null,
       "layout": "IPY_MODEL_81b1213eb9dc4aa083951352d9f6beaf",
       "placeholder": "​",
       "style": "IPY_MODEL_7603cb9268524ed3821b4f307f74d15e",
       "value": "Downloading: 100%"
      }
     },
     "4e94a902a0d44b1eacfaeee99cd470d2": {
      "model_module": "@jupyter-widgets/base",
      "model_module_version": "1.2.0",
      "model_name": "LayoutModel",
      "state": {
       "_model_module": "@jupyter-widgets/base",
       "_model_module_version": "1.2.0",
       "_model_name": "LayoutModel",
       "_view_count": null,
       "_view_module": "@jupyter-widgets/base",
       "_view_module_version": "1.2.0",
       "_view_name": "LayoutView",
       "align_content": null,
       "align_items": null,
       "align_self": null,
       "border": null,
       "bottom": null,
       "display": null,
       "flex": null,
       "flex_flow": null,
       "grid_area": null,
       "grid_auto_columns": null,
       "grid_auto_flow": null,
       "grid_auto_rows": null,
       "grid_column": null,
       "grid_gap": null,
       "grid_row": null,
       "grid_template_areas": null,
       "grid_template_columns": null,
       "grid_template_rows": null,
       "height": null,
       "justify_content": null,
       "justify_items": null,
       "left": null,
       "margin": null,
       "max_height": null,
       "max_width": null,
       "min_height": null,
       "min_width": null,
       "object_fit": null,
       "object_position": null,
       "order": null,
       "overflow": null,
       "overflow_x": null,
       "overflow_y": null,
       "padding": null,
       "right": null,
       "top": null,
       "visibility": null,
       "width": null
      }
     },
     "5235854cc7964193afec8b3316b36ef7": {
      "model_module": "@jupyter-widgets/controls",
      "model_module_version": "1.5.0",
      "model_name": "HBoxModel",
      "state": {
       "_dom_classes": [],
       "_model_module": "@jupyter-widgets/controls",
       "_model_module_version": "1.5.0",
       "_model_name": "HBoxModel",
       "_view_count": null,
       "_view_module": "@jupyter-widgets/controls",
       "_view_module_version": "1.5.0",
       "_view_name": "HBoxView",
       "box_style": "",
       "children": [
        "IPY_MODEL_58c973b1ea8a446e9993f32d3612c8b9",
        "IPY_MODEL_b849e52bd84942e583de4b9325c96afe",
        "IPY_MODEL_291ab6d32ec345ee8adaa6f354bfcfb4"
       ],
       "layout": "IPY_MODEL_fb6b7fc69b2549ab9d80d71017422178"
      }
     },
     "58c973b1ea8a446e9993f32d3612c8b9": {
      "model_module": "@jupyter-widgets/controls",
      "model_module_version": "1.5.0",
      "model_name": "HTMLModel",
      "state": {
       "_dom_classes": [],
       "_model_module": "@jupyter-widgets/controls",
       "_model_module_version": "1.5.0",
       "_model_name": "HTMLModel",
       "_view_count": null,
       "_view_module": "@jupyter-widgets/controls",
       "_view_module_version": "1.5.0",
       "_view_name": "HTMLView",
       "description": "",
       "description_tooltip": null,
       "layout": "IPY_MODEL_360314d0f3254b66818b8a62223c2b0b",
       "placeholder": "​",
       "style": "IPY_MODEL_c5de80b22af543edb57e65780298069e",
       "value": "100%"
      }
     },
     "5a2b3274110a42159fcfb2e01ceea10a": {
      "model_module": "@jupyter-widgets/controls",
      "model_module_version": "1.5.0",
      "model_name": "HBoxModel",
      "state": {
       "_dom_classes": [],
       "_model_module": "@jupyter-widgets/controls",
       "_model_module_version": "1.5.0",
       "_model_name": "HBoxModel",
       "_view_count": null,
       "_view_module": "@jupyter-widgets/controls",
       "_view_module_version": "1.5.0",
       "_view_name": "HBoxView",
       "box_style": "",
       "children": [
        "IPY_MODEL_43014906a0084e288ab06cb3ebf57538",
        "IPY_MODEL_1c5d07635bff4f7999e3e8486f648aaf",
        "IPY_MODEL_3b0ebe22bd154b01bcb4d6b2ab2dec83"
       ],
       "layout": "IPY_MODEL_2373dbe30aca4d64b94b5bb64216151e"
      }
     },
     "5d82f1a2cf554609ba65dfb95dc152e5": {
      "model_module": "@jupyter-widgets/base",
      "model_module_version": "1.2.0",
      "model_name": "LayoutModel",
      "state": {
       "_model_module": "@jupyter-widgets/base",
       "_model_module_version": "1.2.0",
       "_model_name": "LayoutModel",
       "_view_count": null,
       "_view_module": "@jupyter-widgets/base",
       "_view_module_version": "1.2.0",
       "_view_name": "LayoutView",
       "align_content": null,
       "align_items": null,
       "align_self": null,
       "border": null,
       "bottom": null,
       "display": null,
       "flex": null,
       "flex_flow": null,
       "grid_area": null,
       "grid_auto_columns": null,
       "grid_auto_flow": null,
       "grid_auto_rows": null,
       "grid_column": null,
       "grid_gap": null,
       "grid_row": null,
       "grid_template_areas": null,
       "grid_template_columns": null,
       "grid_template_rows": null,
       "height": null,
       "justify_content": null,
       "justify_items": null,
       "left": null,
       "margin": null,
       "max_height": null,
       "max_width": null,
       "min_height": null,
       "min_width": null,
       "object_fit": null,
       "object_position": null,
       "order": null,
       "overflow": null,
       "overflow_x": null,
       "overflow_y": null,
       "padding": null,
       "right": null,
       "top": null,
       "visibility": null,
       "width": null
      }
     },
     "5ffb53b010e948a0918366a7721dd7a9": {
      "model_module": "@jupyter-widgets/controls",
      "model_module_version": "1.5.0",
      "model_name": "LabelModel",
      "state": {
       "_dom_classes": [],
       "_model_module": "@jupyter-widgets/controls",
       "_model_module_version": "1.5.0",
       "_model_name": "LabelModel",
       "_view_count": null,
       "_view_module": "@jupyter-widgets/controls",
       "_view_module_version": "1.5.0",
       "_view_name": "LabelView",
       "description": "",
       "description_tooltip": null,
       "layout": "IPY_MODEL_aaf4c8e1ae794178bd2db64c5c27edcd",
       "placeholder": "​",
       "style": "IPY_MODEL_ff0d93c0f2a54cae8698028db31d1454",
       "value": "0.065 MB of 0.065 MB uploaded (0.000 MB deduped)\r"
      }
     },
     "65f9dfd885184f818373dcaf8b820da7": {
      "model_module": "@jupyter-widgets/base",
      "model_module_version": "1.2.0",
      "model_name": "LayoutModel",
      "state": {
       "_model_module": "@jupyter-widgets/base",
       "_model_module_version": "1.2.0",
       "_model_name": "LayoutModel",
       "_view_count": null,
       "_view_module": "@jupyter-widgets/base",
       "_view_module_version": "1.2.0",
       "_view_name": "LayoutView",
       "align_content": null,
       "align_items": null,
       "align_self": null,
       "border": null,
       "bottom": null,
       "display": null,
       "flex": null,
       "flex_flow": null,
       "grid_area": null,
       "grid_auto_columns": null,
       "grid_auto_flow": null,
       "grid_auto_rows": null,
       "grid_column": null,
       "grid_gap": null,
       "grid_row": null,
       "grid_template_areas": null,
       "grid_template_columns": null,
       "grid_template_rows": null,
       "height": null,
       "justify_content": null,
       "justify_items": null,
       "left": null,
       "margin": null,
       "max_height": null,
       "max_width": null,
       "min_height": null,
       "min_width": null,
       "object_fit": null,
       "object_position": null,
       "order": null,
       "overflow": null,
       "overflow_x": null,
       "overflow_y": null,
       "padding": null,
       "right": null,
       "top": null,
       "visibility": null,
       "width": null
      }
     },
     "673fb48e7dca47f4a3754d06af7dcf1f": {
      "model_module": "@jupyter-widgets/controls",
      "model_module_version": "1.5.0",
      "model_name": "HTMLModel",
      "state": {
       "_dom_classes": [],
       "_model_module": "@jupyter-widgets/controls",
       "_model_module_version": "1.5.0",
       "_model_name": "HTMLModel",
       "_view_count": null,
       "_view_module": "@jupyter-widgets/controls",
       "_view_module_version": "1.5.0",
       "_view_name": "HTMLView",
       "description": "",
       "description_tooltip": null,
       "layout": "IPY_MODEL_749c407f4aa34689954d06117f699f3c",
       "placeholder": "​",
       "style": "IPY_MODEL_bb944cd3fb694105a4d535f4e9c333a8",
       "value": "100%"
      }
     },
     "6947506e822e46d99b4dd82a8a4209cd": {
      "model_module": "@jupyter-widgets/base",
      "model_module_version": "1.2.0",
      "model_name": "LayoutModel",
      "state": {
       "_model_module": "@jupyter-widgets/base",
       "_model_module_version": "1.2.0",
       "_model_name": "LayoutModel",
       "_view_count": null,
       "_view_module": "@jupyter-widgets/base",
       "_view_module_version": "1.2.0",
       "_view_name": "LayoutView",
       "align_content": null,
       "align_items": null,
       "align_self": null,
       "border": null,
       "bottom": null,
       "display": null,
       "flex": null,
       "flex_flow": null,
       "grid_area": null,
       "grid_auto_columns": null,
       "grid_auto_flow": null,
       "grid_auto_rows": null,
       "grid_column": null,
       "grid_gap": null,
       "grid_row": null,
       "grid_template_areas": null,
       "grid_template_columns": null,
       "grid_template_rows": null,
       "height": null,
       "justify_content": null,
       "justify_items": null,
       "left": null,
       "margin": null,
       "max_height": null,
       "max_width": null,
       "min_height": null,
       "min_width": null,
       "object_fit": null,
       "object_position": null,
       "order": null,
       "overflow": null,
       "overflow_x": null,
       "overflow_y": null,
       "padding": null,
       "right": null,
       "top": null,
       "visibility": null,
       "width": null
      }
     },
     "749c407f4aa34689954d06117f699f3c": {
      "model_module": "@jupyter-widgets/base",
      "model_module_version": "1.2.0",
      "model_name": "LayoutModel",
      "state": {
       "_model_module": "@jupyter-widgets/base",
       "_model_module_version": "1.2.0",
       "_model_name": "LayoutModel",
       "_view_count": null,
       "_view_module": "@jupyter-widgets/base",
       "_view_module_version": "1.2.0",
       "_view_name": "LayoutView",
       "align_content": null,
       "align_items": null,
       "align_self": null,
       "border": null,
       "bottom": null,
       "display": null,
       "flex": null,
       "flex_flow": null,
       "grid_area": null,
       "grid_auto_columns": null,
       "grid_auto_flow": null,
       "grid_auto_rows": null,
       "grid_column": null,
       "grid_gap": null,
       "grid_row": null,
       "grid_template_areas": null,
       "grid_template_columns": null,
       "grid_template_rows": null,
       "height": null,
       "justify_content": null,
       "justify_items": null,
       "left": null,
       "margin": null,
       "max_height": null,
       "max_width": null,
       "min_height": null,
       "min_width": null,
       "object_fit": null,
       "object_position": null,
       "order": null,
       "overflow": null,
       "overflow_x": null,
       "overflow_y": null,
       "padding": null,
       "right": null,
       "top": null,
       "visibility": null,
       "width": null
      }
     },
     "7603cb9268524ed3821b4f307f74d15e": {
      "model_module": "@jupyter-widgets/controls",
      "model_module_version": "1.5.0",
      "model_name": "DescriptionStyleModel",
      "state": {
       "_model_module": "@jupyter-widgets/controls",
       "_model_module_version": "1.5.0",
       "_model_name": "DescriptionStyleModel",
       "_view_count": null,
       "_view_module": "@jupyter-widgets/base",
       "_view_module_version": "1.2.0",
       "_view_name": "StyleView",
       "description_width": ""
      }
     },
     "7d211c0746b64a0b935fa964ad7bd858": {
      "model_module": "@jupyter-widgets/controls",
      "model_module_version": "1.5.0",
      "model_name": "HTMLModel",
      "state": {
       "_dom_classes": [],
       "_model_module": "@jupyter-widgets/controls",
       "_model_module_version": "1.5.0",
       "_model_name": "HTMLModel",
       "_view_count": null,
       "_view_module": "@jupyter-widgets/controls",
       "_view_module_version": "1.5.0",
       "_view_name": "HTMLView",
       "description": "",
       "description_tooltip": null,
       "layout": "IPY_MODEL_f836cfd56e0d4d7188f1b263a5845bff",
       "placeholder": "​",
       "style": "IPY_MODEL_a87f939ae9cb44bf8d9eed523f5cb995",
       "value": "100%"
      }
     },
     "7fb6ee0e688440bab23c07808e5cef8b": {
      "model_module": "@jupyter-widgets/controls",
      "model_module_version": "1.5.0",
      "model_name": "FloatProgressModel",
      "state": {
       "_dom_classes": [],
       "_model_module": "@jupyter-widgets/controls",
       "_model_module_version": "1.5.0",
       "_model_name": "FloatProgressModel",
       "_view_count": null,
       "_view_module": "@jupyter-widgets/controls",
       "_view_module_version": "1.5.0",
       "_view_name": "ProgressView",
       "bar_style": "success",
       "description": "",
       "description_tooltip": null,
       "layout": "IPY_MODEL_c0dcc3eeec934d289bf99c7d14bab090",
       "max": 873673253,
       "min": 0,
       "orientation": "horizontal",
       "style": "IPY_MODEL_c4ff773d63e34e0c93e23aa455a97958",
       "value": 873673253
      }
     },
     "80f827d24b2e421bbe84d92c8dcc002b": {
      "model_module": "@jupyter-widgets/base",
      "model_module_version": "1.2.0",
      "model_name": "LayoutModel",
      "state": {
       "_model_module": "@jupyter-widgets/base",
       "_model_module_version": "1.2.0",
       "_model_name": "LayoutModel",
       "_view_count": null,
       "_view_module": "@jupyter-widgets/base",
       "_view_module_version": "1.2.0",
       "_view_name": "LayoutView",
       "align_content": null,
       "align_items": null,
       "align_self": null,
       "border": null,
       "bottom": null,
       "display": null,
       "flex": null,
       "flex_flow": null,
       "grid_area": null,
       "grid_auto_columns": null,
       "grid_auto_flow": null,
       "grid_auto_rows": null,
       "grid_column": null,
       "grid_gap": null,
       "grid_row": null,
       "grid_template_areas": null,
       "grid_template_columns": null,
       "grid_template_rows": null,
       "height": null,
       "justify_content": null,
       "justify_items": null,
       "left": null,
       "margin": null,
       "max_height": null,
       "max_width": null,
       "min_height": null,
       "min_width": null,
       "object_fit": null,
       "object_position": null,
       "order": null,
       "overflow": null,
       "overflow_x": null,
       "overflow_y": null,
       "padding": null,
       "right": null,
       "top": null,
       "visibility": null,
       "width": null
      }
     },
     "81b1213eb9dc4aa083951352d9f6beaf": {
      "model_module": "@jupyter-widgets/base",
      "model_module_version": "1.2.0",
      "model_name": "LayoutModel",
      "state": {
       "_model_module": "@jupyter-widgets/base",
       "_model_module_version": "1.2.0",
       "_model_name": "LayoutModel",
       "_view_count": null,
       "_view_module": "@jupyter-widgets/base",
       "_view_module_version": "1.2.0",
       "_view_name": "LayoutView",
       "align_content": null,
       "align_items": null,
       "align_self": null,
       "border": null,
       "bottom": null,
       "display": null,
       "flex": null,
       "flex_flow": null,
       "grid_area": null,
       "grid_auto_columns": null,
       "grid_auto_flow": null,
       "grid_auto_rows": null,
       "grid_column": null,
       "grid_gap": null,
       "grid_row": null,
       "grid_template_areas": null,
       "grid_template_columns": null,
       "grid_template_rows": null,
       "height": null,
       "justify_content": null,
       "justify_items": null,
       "left": null,
       "margin": null,
       "max_height": null,
       "max_width": null,
       "min_height": null,
       "min_width": null,
       "object_fit": null,
       "object_position": null,
       "order": null,
       "overflow": null,
       "overflow_x": null,
       "overflow_y": null,
       "padding": null,
       "right": null,
       "top": null,
       "visibility": null,
       "width": null
      }
     },
     "82f268442b1349268246323595e0f371": {
      "model_module": "@jupyter-widgets/controls",
      "model_module_version": "1.5.0",
      "model_name": "HBoxModel",
      "state": {
       "_dom_classes": [],
       "_model_module": "@jupyter-widgets/controls",
       "_model_module_version": "1.5.0",
       "_model_name": "HBoxModel",
       "_view_count": null,
       "_view_module": "@jupyter-widgets/controls",
       "_view_module_version": "1.5.0",
       "_view_name": "HBoxView",
       "box_style": "",
       "children": [
        "IPY_MODEL_4c514a00a080445da009d272716b3577",
        "IPY_MODEL_b4e52efc58b54c81a39fa8e5fc26eedd",
        "IPY_MODEL_a1cafe17bdf945aa8a33875d0590f7a2"
       ],
       "layout": "IPY_MODEL_65f9dfd885184f818373dcaf8b820da7"
      }
     },
     "842a840396ab4cefb93cc2733bf00cf7": {
      "model_module": "@jupyter-widgets/controls",
      "model_module_version": "1.5.0",
      "model_name": "DescriptionStyleModel",
      "state": {
       "_model_module": "@jupyter-widgets/controls",
       "_model_module_version": "1.5.0",
       "_model_name": "DescriptionStyleModel",
       "_view_count": null,
       "_view_module": "@jupyter-widgets/base",
       "_view_module_version": "1.2.0",
       "_view_name": "StyleView",
       "description_width": ""
      }
     },
     "86af7db3cea442beb67da28063f15ed6": {
      "model_module": "@jupyter-widgets/controls",
      "model_module_version": "1.5.0",
      "model_name": "FloatProgressModel",
      "state": {
       "_dom_classes": [],
       "_model_module": "@jupyter-widgets/controls",
       "_model_module_version": "1.5.0",
       "_model_name": "FloatProgressModel",
       "_view_count": null,
       "_view_module": "@jupyter-widgets/controls",
       "_view_module_version": "1.5.0",
       "_view_name": "ProgressView",
       "bar_style": "",
       "description": "",
       "description_tooltip": null,
       "layout": "IPY_MODEL_be8bbaca794c4ab0b387c44fc3d2637f",
       "max": 1,
       "min": 0,
       "orientation": "horizontal",
       "style": "IPY_MODEL_126a1e5f24e44838a03204815209c5dc",
       "value": 1
      }
     },
     "87214ce12c1f422481a0fe3caf5a3ce8": {
      "model_module": "@jupyter-widgets/base",
      "model_module_version": "1.2.0",
      "model_name": "LayoutModel",
      "state": {
       "_model_module": "@jupyter-widgets/base",
       "_model_module_version": "1.2.0",
       "_model_name": "LayoutModel",
       "_view_count": null,
       "_view_module": "@jupyter-widgets/base",
       "_view_module_version": "1.2.0",
       "_view_name": "LayoutView",
       "align_content": null,
       "align_items": null,
       "align_self": null,
       "border": null,
       "bottom": null,
       "display": null,
       "flex": null,
       "flex_flow": null,
       "grid_area": null,
       "grid_auto_columns": null,
       "grid_auto_flow": null,
       "grid_auto_rows": null,
       "grid_column": null,
       "grid_gap": null,
       "grid_row": null,
       "grid_template_areas": null,
       "grid_template_columns": null,
       "grid_template_rows": null,
       "height": null,
       "justify_content": null,
       "justify_items": null,
       "left": null,
       "margin": null,
       "max_height": null,
       "max_width": null,
       "min_height": null,
       "min_width": null,
       "object_fit": null,
       "object_position": null,
       "order": null,
       "overflow": null,
       "overflow_x": null,
       "overflow_y": null,
       "padding": null,
       "right": null,
       "top": null,
       "visibility": null,
       "width": null
      }
     },
     "874dcbcfa5c94b938abebb1c7d00007c": {
      "model_module": "@jupyter-widgets/controls",
      "model_module_version": "1.5.0",
      "model_name": "ProgressStyleModel",
      "state": {
       "_model_module": "@jupyter-widgets/controls",
       "_model_module_version": "1.5.0",
       "_model_name": "ProgressStyleModel",
       "_view_count": null,
       "_view_module": "@jupyter-widgets/base",
       "_view_module_version": "1.2.0",
       "_view_name": "StyleView",
       "bar_color": null,
       "description_width": ""
      }
     },
     "8ae7b72a5b9f4533a2076af3fb7786bd": {
      "model_module": "@jupyter-widgets/controls",
      "model_module_version": "1.5.0",
      "model_name": "DescriptionStyleModel",
      "state": {
       "_model_module": "@jupyter-widgets/controls",
       "_model_module_version": "1.5.0",
       "_model_name": "DescriptionStyleModel",
       "_view_count": null,
       "_view_module": "@jupyter-widgets/base",
       "_view_module_version": "1.2.0",
       "_view_name": "StyleView",
       "description_width": ""
      }
     },
     "929108014ee94c9092394cf7ef09134f": {
      "model_module": "@jupyter-widgets/controls",
      "model_module_version": "1.5.0",
      "model_name": "DescriptionStyleModel",
      "state": {
       "_model_module": "@jupyter-widgets/controls",
       "_model_module_version": "1.5.0",
       "_model_name": "DescriptionStyleModel",
       "_view_count": null,
       "_view_module": "@jupyter-widgets/base",
       "_view_module_version": "1.2.0",
       "_view_name": "StyleView",
       "description_width": ""
      }
     },
     "968e2989cea6490d9ee08b6700291242": {
      "model_module": "@jupyter-widgets/base",
      "model_module_version": "1.2.0",
      "model_name": "LayoutModel",
      "state": {
       "_model_module": "@jupyter-widgets/base",
       "_model_module_version": "1.2.0",
       "_model_name": "LayoutModel",
       "_view_count": null,
       "_view_module": "@jupyter-widgets/base",
       "_view_module_version": "1.2.0",
       "_view_name": "LayoutView",
       "align_content": null,
       "align_items": null,
       "align_self": null,
       "border": null,
       "bottom": null,
       "display": null,
       "flex": null,
       "flex_flow": null,
       "grid_area": null,
       "grid_auto_columns": null,
       "grid_auto_flow": null,
       "grid_auto_rows": null,
       "grid_column": null,
       "grid_gap": null,
       "grid_row": null,
       "grid_template_areas": null,
       "grid_template_columns": null,
       "grid_template_rows": null,
       "height": null,
       "justify_content": null,
       "justify_items": null,
       "left": null,
       "margin": null,
       "max_height": null,
       "max_width": null,
       "min_height": null,
       "min_width": null,
       "object_fit": null,
       "object_position": null,
       "order": null,
       "overflow": null,
       "overflow_x": null,
       "overflow_y": null,
       "padding": null,
       "right": null,
       "top": null,
       "visibility": null,
       "width": null
      }
     },
     "9901f18e7e5841b8bfcb918c432ef718": {
      "model_module": "@jupyter-widgets/base",
      "model_module_version": "1.2.0",
      "model_name": "LayoutModel",
      "state": {
       "_model_module": "@jupyter-widgets/base",
       "_model_module_version": "1.2.0",
       "_model_name": "LayoutModel",
       "_view_count": null,
       "_view_module": "@jupyter-widgets/base",
       "_view_module_version": "1.2.0",
       "_view_name": "LayoutView",
       "align_content": null,
       "align_items": null,
       "align_self": null,
       "border": null,
       "bottom": null,
       "display": null,
       "flex": null,
       "flex_flow": null,
       "grid_area": null,
       "grid_auto_columns": null,
       "grid_auto_flow": null,
       "grid_auto_rows": null,
       "grid_column": null,
       "grid_gap": null,
       "grid_row": null,
       "grid_template_areas": null,
       "grid_template_columns": null,
       "grid_template_rows": null,
       "height": null,
       "justify_content": null,
       "justify_items": null,
       "left": null,
       "margin": null,
       "max_height": null,
       "max_width": null,
       "min_height": null,
       "min_width": null,
       "object_fit": null,
       "object_position": null,
       "order": null,
       "overflow": null,
       "overflow_x": null,
       "overflow_y": null,
       "padding": null,
       "right": null,
       "top": null,
       "visibility": null,
       "width": null
      }
     },
     "9d403276e05f4c368e46f353070b9d9a": {
      "model_module": "@jupyter-widgets/base",
      "model_module_version": "1.2.0",
      "model_name": "LayoutModel",
      "state": {
       "_model_module": "@jupyter-widgets/base",
       "_model_module_version": "1.2.0",
       "_model_name": "LayoutModel",
       "_view_count": null,
       "_view_module": "@jupyter-widgets/base",
       "_view_module_version": "1.2.0",
       "_view_name": "LayoutView",
       "align_content": null,
       "align_items": null,
       "align_self": null,
       "border": null,
       "bottom": null,
       "display": null,
       "flex": null,
       "flex_flow": null,
       "grid_area": null,
       "grid_auto_columns": null,
       "grid_auto_flow": null,
       "grid_auto_rows": null,
       "grid_column": null,
       "grid_gap": null,
       "grid_row": null,
       "grid_template_areas": null,
       "grid_template_columns": null,
       "grid_template_rows": null,
       "height": null,
       "justify_content": null,
       "justify_items": null,
       "left": null,
       "margin": null,
       "max_height": null,
       "max_width": null,
       "min_height": null,
       "min_width": null,
       "object_fit": null,
       "object_position": null,
       "order": null,
       "overflow": null,
       "overflow_x": null,
       "overflow_y": null,
       "padding": null,
       "right": null,
       "top": null,
       "visibility": null,
       "width": null
      }
     },
     "a03e24ff8fc54bccaa69e36839b36bab": {
      "model_module": "@jupyter-widgets/controls",
      "model_module_version": "1.5.0",
      "model_name": "FloatProgressModel",
      "state": {
       "_dom_classes": [],
       "_model_module": "@jupyter-widgets/controls",
       "_model_module_version": "1.5.0",
       "_model_name": "FloatProgressModel",
       "_view_count": null,
       "_view_module": "@jupyter-widgets/controls",
       "_view_module_version": "1.5.0",
       "_view_name": "ProgressView",
       "bar_style": "success",
       "description": "",
       "description_tooltip": null,
       "layout": "IPY_MODEL_80f827d24b2e421bbe84d92c8dcc002b",
       "max": 580,
       "min": 0,
       "orientation": "horizontal",
       "style": "IPY_MODEL_349e43c8d4114c36823434cef63fc567",
       "value": 580
      }
     },
     "a1cafe17bdf945aa8a33875d0590f7a2": {
      "model_module": "@jupyter-widgets/controls",
      "model_module_version": "1.5.0",
      "model_name": "HTMLModel",
      "state": {
       "_dom_classes": [],
       "_model_module": "@jupyter-widgets/controls",
       "_model_module_version": "1.5.0",
       "_model_name": "HTMLModel",
       "_view_count": null,
       "_view_module": "@jupyter-widgets/controls",
       "_view_module_version": "1.5.0",
       "_view_name": "HTMLView",
       "description": "",
       "description_tooltip": null,
       "layout": "IPY_MODEL_dd68281fe7ea499882e5d23a5bbfb9f0",
       "placeholder": "​",
       "style": "IPY_MODEL_8ae7b72a5b9f4533a2076af3fb7786bd",
       "value": " 52.0/52.0 [00:00&lt;00:00, 2.03kB/s]"
      }
     },
     "a3f3db4032b54ac49421d5cbd31a9533": {
      "model_module": "@jupyter-widgets/base",
      "model_module_version": "1.2.0",
      "model_name": "LayoutModel",
      "state": {
       "_model_module": "@jupyter-widgets/base",
       "_model_module_version": "1.2.0",
       "_model_name": "LayoutModel",
       "_view_count": null,
       "_view_module": "@jupyter-widgets/base",
       "_view_module_version": "1.2.0",
       "_view_name": "LayoutView",
       "align_content": null,
       "align_items": null,
       "align_self": null,
       "border": null,
       "bottom": null,
       "display": null,
       "flex": null,
       "flex_flow": null,
       "grid_area": null,
       "grid_auto_columns": null,
       "grid_auto_flow": null,
       "grid_auto_rows": null,
       "grid_column": null,
       "grid_gap": null,
       "grid_row": null,
       "grid_template_areas": null,
       "grid_template_columns": null,
       "grid_template_rows": null,
       "height": null,
       "justify_content": null,
       "justify_items": null,
       "left": null,
       "margin": null,
       "max_height": null,
       "max_width": null,
       "min_height": null,
       "min_width": null,
       "object_fit": null,
       "object_position": null,
       "order": null,
       "overflow": null,
       "overflow_x": null,
       "overflow_y": null,
       "padding": null,
       "right": null,
       "top": null,
       "visibility": null,
       "width": null
      }
     },
     "a87f939ae9cb44bf8d9eed523f5cb995": {
      "model_module": "@jupyter-widgets/controls",
      "model_module_version": "1.5.0",
      "model_name": "DescriptionStyleModel",
      "state": {
       "_model_module": "@jupyter-widgets/controls",
       "_model_module_version": "1.5.0",
       "_model_name": "DescriptionStyleModel",
       "_view_count": null,
       "_view_module": "@jupyter-widgets/base",
       "_view_module_version": "1.2.0",
       "_view_name": "StyleView",
       "description_width": ""
      }
     },
     "aaf4c8e1ae794178bd2db64c5c27edcd": {
      "model_module": "@jupyter-widgets/base",
      "model_module_version": "1.2.0",
      "model_name": "LayoutModel",
      "state": {
       "_model_module": "@jupyter-widgets/base",
       "_model_module_version": "1.2.0",
       "_model_name": "LayoutModel",
       "_view_count": null,
       "_view_module": "@jupyter-widgets/base",
       "_view_module_version": "1.2.0",
       "_view_name": "LayoutView",
       "align_content": null,
       "align_items": null,
       "align_self": null,
       "border": null,
       "bottom": null,
       "display": null,
       "flex": null,
       "flex_flow": null,
       "grid_area": null,
       "grid_auto_columns": null,
       "grid_auto_flow": null,
       "grid_auto_rows": null,
       "grid_column": null,
       "grid_gap": null,
       "grid_row": null,
       "grid_template_areas": null,
       "grid_template_columns": null,
       "grid_template_rows": null,
       "height": null,
       "justify_content": null,
       "justify_items": null,
       "left": null,
       "margin": null,
       "max_height": null,
       "max_width": null,
       "min_height": null,
       "min_width": null,
       "object_fit": null,
       "object_position": null,
       "order": null,
       "overflow": null,
       "overflow_x": null,
       "overflow_y": null,
       "padding": null,
       "right": null,
       "top": null,
       "visibility": null,
       "width": null
      }
     },
     "ab615699cb634117a739e8673396b52d": {
      "model_module": "@jupyter-widgets/controls",
      "model_module_version": "1.5.0",
      "model_name": "ProgressStyleModel",
      "state": {
       "_model_module": "@jupyter-widgets/controls",
       "_model_module_version": "1.5.0",
       "_model_name": "ProgressStyleModel",
       "_view_count": null,
       "_view_module": "@jupyter-widgets/base",
       "_view_module_version": "1.2.0",
       "_view_name": "StyleView",
       "bar_color": null,
       "description_width": ""
      }
     },
     "ad4745f1eca942009bdf6cf12913f34a": {
      "model_module": "@jupyter-widgets/base",
      "model_module_version": "1.2.0",
      "model_name": "LayoutModel",
      "state": {
       "_model_module": "@jupyter-widgets/base",
       "_model_module_version": "1.2.0",
       "_model_name": "LayoutModel",
       "_view_count": null,
       "_view_module": "@jupyter-widgets/base",
       "_view_module_version": "1.2.0",
       "_view_name": "LayoutView",
       "align_content": null,
       "align_items": null,
       "align_self": null,
       "border": null,
       "bottom": null,
       "display": null,
       "flex": null,
       "flex_flow": null,
       "grid_area": null,
       "grid_auto_columns": null,
       "grid_auto_flow": null,
       "grid_auto_rows": null,
       "grid_column": null,
       "grid_gap": null,
       "grid_row": null,
       "grid_template_areas": null,
       "grid_template_columns": null,
       "grid_template_rows": null,
       "height": null,
       "justify_content": null,
       "justify_items": null,
       "left": null,
       "margin": null,
       "max_height": null,
       "max_width": null,
       "min_height": null,
       "min_width": null,
       "object_fit": null,
       "object_position": null,
       "order": null,
       "overflow": null,
       "overflow_x": null,
       "overflow_y": null,
       "padding": null,
       "right": null,
       "top": null,
       "visibility": null,
       "width": null
      }
     },
     "ad6386dafce545c48eac271bb2a3c0dd": {
      "model_module": "@jupyter-widgets/controls",
      "model_module_version": "1.5.0",
      "model_name": "DescriptionStyleModel",
      "state": {
       "_model_module": "@jupyter-widgets/controls",
       "_model_module_version": "1.5.0",
       "_model_name": "DescriptionStyleModel",
       "_view_count": null,
       "_view_module": "@jupyter-widgets/base",
       "_view_module_version": "1.2.0",
       "_view_name": "StyleView",
       "description_width": ""
      }
     },
     "b4e52efc58b54c81a39fa8e5fc26eedd": {
      "model_module": "@jupyter-widgets/controls",
      "model_module_version": "1.5.0",
      "model_name": "FloatProgressModel",
      "state": {
       "_dom_classes": [],
       "_model_module": "@jupyter-widgets/controls",
       "_model_module_version": "1.5.0",
       "_model_name": "FloatProgressModel",
       "_view_count": null,
       "_view_module": "@jupyter-widgets/controls",
       "_view_module_version": "1.5.0",
       "_view_name": "ProgressView",
       "bar_style": "success",
       "description": "",
       "description_tooltip": null,
       "layout": "IPY_MODEL_6947506e822e46d99b4dd82a8a4209cd",
       "max": 52,
       "min": 0,
       "orientation": "horizontal",
       "style": "IPY_MODEL_874dcbcfa5c94b938abebb1c7d00007c",
       "value": 52
      }
     },
     "b6f3605957844ac0b026ef0593befbae": {
      "model_module": "@jupyter-widgets/base",
      "model_module_version": "1.2.0",
      "model_name": "LayoutModel",
      "state": {
       "_model_module": "@jupyter-widgets/base",
       "_model_module_version": "1.2.0",
       "_model_name": "LayoutModel",
       "_view_count": null,
       "_view_module": "@jupyter-widgets/base",
       "_view_module_version": "1.2.0",
       "_view_name": "LayoutView",
       "align_content": null,
       "align_items": null,
       "align_self": null,
       "border": null,
       "bottom": null,
       "display": null,
       "flex": null,
       "flex_flow": null,
       "grid_area": null,
       "grid_auto_columns": null,
       "grid_auto_flow": null,
       "grid_auto_rows": null,
       "grid_column": null,
       "grid_gap": null,
       "grid_row": null,
       "grid_template_areas": null,
       "grid_template_columns": null,
       "grid_template_rows": null,
       "height": null,
       "justify_content": null,
       "justify_items": null,
       "left": null,
       "margin": null,
       "max_height": null,
       "max_width": null,
       "min_height": null,
       "min_width": null,
       "object_fit": null,
       "object_position": null,
       "order": null,
       "overflow": null,
       "overflow_x": null,
       "overflow_y": null,
       "padding": null,
       "right": null,
       "top": null,
       "visibility": null,
       "width": null
      }
     },
     "b849e52bd84942e583de4b9325c96afe": {
      "model_module": "@jupyter-widgets/controls",
      "model_module_version": "1.5.0",
      "model_name": "FloatProgressModel",
      "state": {
       "_dom_classes": [],
       "_model_module": "@jupyter-widgets/controls",
       "_model_module_version": "1.5.0",
       "_model_name": "FloatProgressModel",
       "_view_count": null,
       "_view_module": "@jupyter-widgets/controls",
       "_view_module_version": "1.5.0",
       "_view_name": "ProgressView",
       "bar_style": "success",
       "description": "",
       "description_tooltip": null,
       "layout": "IPY_MODEL_341389680b6a43d8b6b3de95dffca671",
       "max": 36473,
       "min": 0,
       "orientation": "horizontal",
       "style": "IPY_MODEL_ab615699cb634117a739e8673396b52d",
       "value": 36473
      }
     },
     "ba8f6b6e291a4d6faae41e5e6921f4aa": {
      "model_module": "@jupyter-widgets/base",
      "model_module_version": "1.2.0",
      "model_name": "LayoutModel",
      "state": {
       "_model_module": "@jupyter-widgets/base",
       "_model_module_version": "1.2.0",
       "_model_name": "LayoutModel",
       "_view_count": null,
       "_view_module": "@jupyter-widgets/base",
       "_view_module_version": "1.2.0",
       "_view_name": "LayoutView",
       "align_content": null,
       "align_items": null,
       "align_self": null,
       "border": null,
       "bottom": null,
       "display": null,
       "flex": null,
       "flex_flow": null,
       "grid_area": null,
       "grid_auto_columns": null,
       "grid_auto_flow": null,
       "grid_auto_rows": null,
       "grid_column": null,
       "grid_gap": null,
       "grid_row": null,
       "grid_template_areas": null,
       "grid_template_columns": null,
       "grid_template_rows": null,
       "height": null,
       "justify_content": null,
       "justify_items": null,
       "left": null,
       "margin": null,
       "max_height": null,
       "max_width": null,
       "min_height": null,
       "min_width": null,
       "object_fit": null,
       "object_position": null,
       "order": null,
       "overflow": null,
       "overflow_x": null,
       "overflow_y": null,
       "padding": null,
       "right": null,
       "top": null,
       "visibility": null,
       "width": null
      }
     },
     "bb944cd3fb694105a4d535f4e9c333a8": {
      "model_module": "@jupyter-widgets/controls",
      "model_module_version": "1.5.0",
      "model_name": "DescriptionStyleModel",
      "state": {
       "_model_module": "@jupyter-widgets/controls",
       "_model_module_version": "1.5.0",
       "_model_name": "DescriptionStyleModel",
       "_view_count": null,
       "_view_module": "@jupyter-widgets/base",
       "_view_module_version": "1.2.0",
       "_view_name": "StyleView",
       "description_width": ""
      }
     },
     "bba517b096dd460cb764ccd71b57f148": {
      "model_module": "@jupyter-widgets/controls",
      "model_module_version": "1.5.0",
      "model_name": "FloatProgressModel",
      "state": {
       "_dom_classes": [],
       "_model_module": "@jupyter-widgets/controls",
       "_model_module_version": "1.5.0",
       "_model_name": "FloatProgressModel",
       "_view_count": null,
       "_view_module": "@jupyter-widgets/controls",
       "_view_module_version": "1.5.0",
       "_view_name": "ProgressView",
       "bar_style": "success",
       "description": "",
       "description_tooltip": null,
       "layout": "IPY_MODEL_ba8f6b6e291a4d6faae41e5e6921f4aa",
       "max": 136,
       "min": 0,
       "orientation": "horizontal",
       "style": "IPY_MODEL_ec381745899e4ce7900c973c72d2ff3b",
       "value": 136
      }
     },
     "be8bbaca794c4ab0b387c44fc3d2637f": {
      "model_module": "@jupyter-widgets/base",
      "model_module_version": "1.2.0",
      "model_name": "LayoutModel",
      "state": {
       "_model_module": "@jupyter-widgets/base",
       "_model_module_version": "1.2.0",
       "_model_name": "LayoutModel",
       "_view_count": null,
       "_view_module": "@jupyter-widgets/base",
       "_view_module_version": "1.2.0",
       "_view_name": "LayoutView",
       "align_content": null,
       "align_items": null,
       "align_self": null,
       "border": null,
       "bottom": null,
       "display": null,
       "flex": null,
       "flex_flow": null,
       "grid_area": null,
       "grid_auto_columns": null,
       "grid_auto_flow": null,
       "grid_auto_rows": null,
       "grid_column": null,
       "grid_gap": null,
       "grid_row": null,
       "grid_template_areas": null,
       "grid_template_columns": null,
       "grid_template_rows": null,
       "height": null,
       "justify_content": null,
       "justify_items": null,
       "left": null,
       "margin": null,
       "max_height": null,
       "max_width": null,
       "min_height": null,
       "min_width": null,
       "object_fit": null,
       "object_position": null,
       "order": null,
       "overflow": null,
       "overflow_x": null,
       "overflow_y": null,
       "padding": null,
       "right": null,
       "top": null,
       "visibility": null,
       "width": null
      }
     },
     "c0dcc3eeec934d289bf99c7d14bab090": {
      "model_module": "@jupyter-widgets/base",
      "model_module_version": "1.2.0",
      "model_name": "LayoutModel",
      "state": {
       "_model_module": "@jupyter-widgets/base",
       "_model_module_version": "1.2.0",
       "_model_name": "LayoutModel",
       "_view_count": null,
       "_view_module": "@jupyter-widgets/base",
       "_view_module_version": "1.2.0",
       "_view_name": "LayoutView",
       "align_content": null,
       "align_items": null,
       "align_self": null,
       "border": null,
       "bottom": null,
       "display": null,
       "flex": null,
       "flex_flow": null,
       "grid_area": null,
       "grid_auto_columns": null,
       "grid_auto_flow": null,
       "grid_auto_rows": null,
       "grid_column": null,
       "grid_gap": null,
       "grid_row": null,
       "grid_template_areas": null,
       "grid_template_columns": null,
       "grid_template_rows": null,
       "height": null,
       "justify_content": null,
       "justify_items": null,
       "left": null,
       "margin": null,
       "max_height": null,
       "max_width": null,
       "min_height": null,
       "min_width": null,
       "object_fit": null,
       "object_position": null,
       "order": null,
       "overflow": null,
       "overflow_x": null,
       "overflow_y": null,
       "padding": null,
       "right": null,
       "top": null,
       "visibility": null,
       "width": null
      }
     },
     "c1e8e53062324cf38fbd75eab01e066a": {
      "model_module": "@jupyter-widgets/base",
      "model_module_version": "1.2.0",
      "model_name": "LayoutModel",
      "state": {
       "_model_module": "@jupyter-widgets/base",
       "_model_module_version": "1.2.0",
       "_model_name": "LayoutModel",
       "_view_count": null,
       "_view_module": "@jupyter-widgets/base",
       "_view_module_version": "1.2.0",
       "_view_name": "LayoutView",
       "align_content": null,
       "align_items": null,
       "align_self": null,
       "border": null,
       "bottom": null,
       "display": null,
       "flex": null,
       "flex_flow": null,
       "grid_area": null,
       "grid_auto_columns": null,
       "grid_auto_flow": null,
       "grid_auto_rows": null,
       "grid_column": null,
       "grid_gap": null,
       "grid_row": null,
       "grid_template_areas": null,
       "grid_template_columns": null,
       "grid_template_rows": null,
       "height": null,
       "justify_content": null,
       "justify_items": null,
       "left": null,
       "margin": null,
       "max_height": null,
       "max_width": null,
       "min_height": null,
       "min_width": null,
       "object_fit": null,
       "object_position": null,
       "order": null,
       "overflow": null,
       "overflow_x": null,
       "overflow_y": null,
       "padding": null,
       "right": null,
       "top": null,
       "visibility": null,
       "width": null
      }
     },
     "c4ff773d63e34e0c93e23aa455a97958": {
      "model_module": "@jupyter-widgets/controls",
      "model_module_version": "1.5.0",
      "model_name": "ProgressStyleModel",
      "state": {
       "_model_module": "@jupyter-widgets/controls",
       "_model_module_version": "1.5.0",
       "_model_name": "ProgressStyleModel",
       "_view_count": null,
       "_view_module": "@jupyter-widgets/base",
       "_view_module_version": "1.2.0",
       "_view_name": "StyleView",
       "bar_color": null,
       "description_width": ""
      }
     },
     "c5de80b22af543edb57e65780298069e": {
      "model_module": "@jupyter-widgets/controls",
      "model_module_version": "1.5.0",
      "model_name": "DescriptionStyleModel",
      "state": {
       "_model_module": "@jupyter-widgets/controls",
       "_model_module_version": "1.5.0",
       "_model_name": "DescriptionStyleModel",
       "_view_count": null,
       "_view_module": "@jupyter-widgets/base",
       "_view_module_version": "1.2.0",
       "_view_name": "StyleView",
       "description_width": ""
      }
     },
     "d21724e187b94518ad3cc61f1daa73cf": {
      "model_module": "@jupyter-widgets/controls",
      "model_module_version": "1.5.0",
      "model_name": "HBoxModel",
      "state": {
       "_dom_classes": [],
       "_model_module": "@jupyter-widgets/controls",
       "_model_module_version": "1.5.0",
       "_model_name": "HBoxModel",
       "_view_count": null,
       "_view_module": "@jupyter-widgets/controls",
       "_view_module_version": "1.5.0",
       "_view_name": "HBoxView",
       "box_style": "",
       "children": [
        "IPY_MODEL_e13e1ad96b5648588ba7a5b2e3771179",
        "IPY_MODEL_7fb6ee0e688440bab23c07808e5cef8b",
        "IPY_MODEL_f9081778edc6436c9d1bc9a886ac922c"
       ],
       "layout": "IPY_MODEL_9901f18e7e5841b8bfcb918c432ef718"
      }
     },
     "d3b6e4a4aac943b79ba51bbacd77907e": {
      "model_module": "@jupyter-widgets/controls",
      "model_module_version": "1.5.0",
      "model_name": "DescriptionStyleModel",
      "state": {
       "_model_module": "@jupyter-widgets/controls",
       "_model_module_version": "1.5.0",
       "_model_name": "DescriptionStyleModel",
       "_view_count": null,
       "_view_module": "@jupyter-widgets/base",
       "_view_module_version": "1.2.0",
       "_view_name": "StyleView",
       "description_width": ""
      }
     },
     "d9f0d96d140a4115aadfdfc9ce5ba608": {
      "model_module": "@jupyter-widgets/controls",
      "model_module_version": "1.5.0",
      "model_name": "ProgressStyleModel",
      "state": {
       "_model_module": "@jupyter-widgets/controls",
       "_model_module_version": "1.5.0",
       "_model_name": "ProgressStyleModel",
       "_view_count": null,
       "_view_module": "@jupyter-widgets/base",
       "_view_module_version": "1.2.0",
       "_view_name": "StyleView",
       "bar_color": null,
       "description_width": ""
      }
     },
     "da88817e8aed48399b1948f8e004ee97": {
      "model_module": "@jupyter-widgets/base",
      "model_module_version": "1.2.0",
      "model_name": "LayoutModel",
      "state": {
       "_model_module": "@jupyter-widgets/base",
       "_model_module_version": "1.2.0",
       "_model_name": "LayoutModel",
       "_view_count": null,
       "_view_module": "@jupyter-widgets/base",
       "_view_module_version": "1.2.0",
       "_view_name": "LayoutView",
       "align_content": null,
       "align_items": null,
       "align_self": null,
       "border": null,
       "bottom": null,
       "display": null,
       "flex": null,
       "flex_flow": null,
       "grid_area": null,
       "grid_auto_columns": null,
       "grid_auto_flow": null,
       "grid_auto_rows": null,
       "grid_column": null,
       "grid_gap": null,
       "grid_row": null,
       "grid_template_areas": null,
       "grid_template_columns": null,
       "grid_template_rows": null,
       "height": null,
       "justify_content": null,
       "justify_items": null,
       "left": null,
       "margin": null,
       "max_height": null,
       "max_width": null,
       "min_height": null,
       "min_width": null,
       "object_fit": null,
       "object_position": null,
       "order": null,
       "overflow": null,
       "overflow_x": null,
       "overflow_y": null,
       "padding": null,
       "right": null,
       "top": null,
       "visibility": null,
       "width": null
      }
     },
     "dd68281fe7ea499882e5d23a5bbfb9f0": {
      "model_module": "@jupyter-widgets/base",
      "model_module_version": "1.2.0",
      "model_name": "LayoutModel",
      "state": {
       "_model_module": "@jupyter-widgets/base",
       "_model_module_version": "1.2.0",
       "_model_name": "LayoutModel",
       "_view_count": null,
       "_view_module": "@jupyter-widgets/base",
       "_view_module_version": "1.2.0",
       "_view_name": "LayoutView",
       "align_content": null,
       "align_items": null,
       "align_self": null,
       "border": null,
       "bottom": null,
       "display": null,
       "flex": null,
       "flex_flow": null,
       "grid_area": null,
       "grid_auto_columns": null,
       "grid_auto_flow": null,
       "grid_auto_rows": null,
       "grid_column": null,
       "grid_gap": null,
       "grid_row": null,
       "grid_template_areas": null,
       "grid_template_columns": null,
       "grid_template_rows": null,
       "height": null,
       "justify_content": null,
       "justify_items": null,
       "left": null,
       "margin": null,
       "max_height": null,
       "max_width": null,
       "min_height": null,
       "min_width": null,
       "object_fit": null,
       "object_position": null,
       "order": null,
       "overflow": null,
       "overflow_x": null,
       "overflow_y": null,
       "padding": null,
       "right": null,
       "top": null,
       "visibility": null,
       "width": null
      }
     },
     "de3e60ed24f04a7ab49a05b98b7cf0f0": {
      "model_module": "@jupyter-widgets/controls",
      "model_module_version": "1.5.0",
      "model_name": "DescriptionStyleModel",
      "state": {
       "_model_module": "@jupyter-widgets/controls",
       "_model_module_version": "1.5.0",
       "_model_name": "DescriptionStyleModel",
       "_view_count": null,
       "_view_module": "@jupyter-widgets/base",
       "_view_module_version": "1.2.0",
       "_view_name": "StyleView",
       "description_width": ""
      }
     },
     "e13e1ad96b5648588ba7a5b2e3771179": {
      "model_module": "@jupyter-widgets/controls",
      "model_module_version": "1.5.0",
      "model_name": "HTMLModel",
      "state": {
       "_dom_classes": [],
       "_model_module": "@jupyter-widgets/controls",
       "_model_module_version": "1.5.0",
       "_model_name": "HTMLModel",
       "_view_count": null,
       "_view_module": "@jupyter-widgets/controls",
       "_view_module_version": "1.5.0",
       "_view_name": "HTMLView",
       "description": "",
       "description_tooltip": null,
       "layout": "IPY_MODEL_1d83ae8940534922833de4d1fdd71216",
       "placeholder": "​",
       "style": "IPY_MODEL_46ab7441760642718f381e7f430e16a0",
       "value": "Downloading: 100%"
      }
     },
     "e3e17f880bab4d47a1531bebac861fda": {
      "model_module": "@jupyter-widgets/controls",
      "model_module_version": "1.5.0",
      "model_name": "HTMLModel",
      "state": {
       "_dom_classes": [],
       "_model_module": "@jupyter-widgets/controls",
       "_model_module_version": "1.5.0",
       "_model_name": "HTMLModel",
       "_view_count": null,
       "_view_module": "@jupyter-widgets/controls",
       "_view_module_version": "1.5.0",
       "_view_name": "HTMLView",
       "description": "",
       "description_tooltip": null,
       "layout": "IPY_MODEL_a3f3db4032b54ac49421d5cbd31a9533",
       "placeholder": "​",
       "style": "IPY_MODEL_35cb92ba1b2d4932bc3a0b0640f71b0c",
       "value": " 580/580 [00:00&lt;00:00, 23.1kB/s]"
      }
     },
     "ec381745899e4ce7900c973c72d2ff3b": {
      "model_module": "@jupyter-widgets/controls",
      "model_module_version": "1.5.0",
      "model_name": "ProgressStyleModel",
      "state": {
       "_model_module": "@jupyter-widgets/controls",
       "_model_module_version": "1.5.0",
       "_model_name": "ProgressStyleModel",
       "_view_count": null,
       "_view_module": "@jupyter-widgets/base",
       "_view_module_version": "1.2.0",
       "_view_name": "StyleView",
       "bar_color": null,
       "description_width": ""
      }
     },
     "f3e6058e180d40b8bc25ff82940789f1": {
      "model_module": "@jupyter-widgets/base",
      "model_module_version": "1.2.0",
      "model_name": "LayoutModel",
      "state": {
       "_model_module": "@jupyter-widgets/base",
       "_model_module_version": "1.2.0",
       "_model_name": "LayoutModel",
       "_view_count": null,
       "_view_module": "@jupyter-widgets/base",
       "_view_module_version": "1.2.0",
       "_view_name": "LayoutView",
       "align_content": null,
       "align_items": null,
       "align_self": null,
       "border": null,
       "bottom": null,
       "display": null,
       "flex": null,
       "flex_flow": null,
       "grid_area": null,
       "grid_auto_columns": null,
       "grid_auto_flow": null,
       "grid_auto_rows": null,
       "grid_column": null,
       "grid_gap": null,
       "grid_row": null,
       "grid_template_areas": null,
       "grid_template_columns": null,
       "grid_template_rows": null,
       "height": null,
       "justify_content": null,
       "justify_items": null,
       "left": null,
       "margin": null,
       "max_height": null,
       "max_width": null,
       "min_height": null,
       "min_width": null,
       "object_fit": null,
       "object_position": null,
       "order": null,
       "overflow": null,
       "overflow_x": null,
       "overflow_y": null,
       "padding": null,
       "right": null,
       "top": null,
       "visibility": null,
       "width": null
      }
     },
     "f7cdf444f3c041cda9b6bd5a47ca87c5": {
      "model_module": "@jupyter-widgets/controls",
      "model_module_version": "1.5.0",
      "model_name": "VBoxModel",
      "state": {
       "_dom_classes": [],
       "_model_module": "@jupyter-widgets/controls",
       "_model_module_version": "1.5.0",
       "_model_name": "VBoxModel",
       "_view_count": null,
       "_view_module": "@jupyter-widgets/controls",
       "_view_module_version": "1.5.0",
       "_view_name": "VBoxView",
       "box_style": "",
       "children": [
        "IPY_MODEL_5ffb53b010e948a0918366a7721dd7a9",
        "IPY_MODEL_86af7db3cea442beb67da28063f15ed6"
       ],
       "layout": "IPY_MODEL_b6f3605957844ac0b026ef0593befbae"
      }
     },
     "f836cfd56e0d4d7188f1b263a5845bff": {
      "model_module": "@jupyter-widgets/base",
      "model_module_version": "1.2.0",
      "model_name": "LayoutModel",
      "state": {
       "_model_module": "@jupyter-widgets/base",
       "_model_module_version": "1.2.0",
       "_model_name": "LayoutModel",
       "_view_count": null,
       "_view_module": "@jupyter-widgets/base",
       "_view_module_version": "1.2.0",
       "_view_name": "LayoutView",
       "align_content": null,
       "align_items": null,
       "align_self": null,
       "border": null,
       "bottom": null,
       "display": null,
       "flex": null,
       "flex_flow": null,
       "grid_area": null,
       "grid_auto_columns": null,
       "grid_auto_flow": null,
       "grid_auto_rows": null,
       "grid_column": null,
       "grid_gap": null,
       "grid_row": null,
       "grid_template_areas": null,
       "grid_template_columns": null,
       "grid_template_rows": null,
       "height": null,
       "justify_content": null,
       "justify_items": null,
       "left": null,
       "margin": null,
       "max_height": null,
       "max_width": null,
       "min_height": null,
       "min_width": null,
       "object_fit": null,
       "object_position": null,
       "order": null,
       "overflow": null,
       "overflow_x": null,
       "overflow_y": null,
       "padding": null,
       "right": null,
       "top": null,
       "visibility": null,
       "width": null
      }
     },
     "f9081778edc6436c9d1bc9a886ac922c": {
      "model_module": "@jupyter-widgets/controls",
      "model_module_version": "1.5.0",
      "model_name": "HTMLModel",
      "state": {
       "_dom_classes": [],
       "_model_module": "@jupyter-widgets/controls",
       "_model_module_version": "1.5.0",
       "_model_name": "HTMLModel",
       "_view_count": null,
       "_view_module": "@jupyter-widgets/controls",
       "_view_module_version": "1.5.0",
       "_view_name": "HTMLView",
       "description": "",
       "description_tooltip": null,
       "layout": "IPY_MODEL_f3e6058e180d40b8bc25ff82940789f1",
       "placeholder": "​",
       "style": "IPY_MODEL_842a840396ab4cefb93cc2733bf00cf7",
       "value": " 833M/833M [00:19&lt;00:00, 43.1MB/s]"
      }
     },
     "fb6b7fc69b2549ab9d80d71017422178": {
      "model_module": "@jupyter-widgets/base",
      "model_module_version": "1.2.0",
      "model_name": "LayoutModel",
      "state": {
       "_model_module": "@jupyter-widgets/base",
       "_model_module_version": "1.2.0",
       "_model_name": "LayoutModel",
       "_view_count": null,
       "_view_module": "@jupyter-widgets/base",
       "_view_module_version": "1.2.0",
       "_view_name": "LayoutView",
       "align_content": null,
       "align_items": null,
       "align_self": null,
       "border": null,
       "bottom": null,
       "display": null,
       "flex": null,
       "flex_flow": null,
       "grid_area": null,
       "grid_auto_columns": null,
       "grid_auto_flow": null,
       "grid_auto_rows": null,
       "grid_column": null,
       "grid_gap": null,
       "grid_row": null,
       "grid_template_areas": null,
       "grid_template_columns": null,
       "grid_template_rows": null,
       "height": null,
       "justify_content": null,
       "justify_items": null,
       "left": null,
       "margin": null,
       "max_height": null,
       "max_width": null,
       "min_height": null,
       "min_width": null,
       "object_fit": null,
       "object_position": null,
       "order": null,
       "overflow": null,
       "overflow_x": null,
       "overflow_y": null,
       "padding": null,
       "right": null,
       "top": null,
       "visibility": null,
       "width": null
      }
     },
     "ff0d93c0f2a54cae8698028db31d1454": {
      "model_module": "@jupyter-widgets/controls",
      "model_module_version": "1.5.0",
      "model_name": "DescriptionStyleModel",
      "state": {
       "_model_module": "@jupyter-widgets/controls",
       "_model_module_version": "1.5.0",
       "_model_name": "DescriptionStyleModel",
       "_view_count": null,
       "_view_module": "@jupyter-widgets/base",
       "_view_module_version": "1.2.0",
       "_view_name": "StyleView",
       "description_width": ""
      }
     }
    },
    "version_major": 2,
    "version_minor": 0
   }
  }
 },
 "nbformat": 4,
 "nbformat_minor": 5
}
