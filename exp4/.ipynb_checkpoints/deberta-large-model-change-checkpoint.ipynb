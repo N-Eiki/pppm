{
 "cells": [
  {
   "cell_type": "markdown",
   "id": "70f90ffb",
   "metadata": {
    "id": "e460cbb5",
    "papermill": {
     "duration": 0.027808,
     "end_time": "2022-03-22T09:40:01.410751",
     "exception": false,
     "start_time": "2022-03-22T09:40:01.382943",
     "status": "completed"
    },
    "tags": []
   },
   "source": [
    "# About this notebook\n",
    "- Deberta-v3-large starter code\n",
    "- pip wheels is [here](https://www.kaggle.com/code/yasufuminakama/pppm-pip-wheels)\n",
    "- Inference notebook is [here](https://www.kaggle.com/code/yasufuminakama/pppm-deberta-v3-large-baseline-inference)\n",
    "\n",
    "If this notebook is helpful, feel free to upvote :)"
   ]
  },
  {
   "cell_type": "code",
   "execution_count": 1,
   "id": "4b6835d2-9fc4-4e64-8eb9-1f8eebb143bf",
   "metadata": {},
   "outputs": [],
   "source": [
    "import os\n",
    "import time\n",
    "# wait_to_make = \"trained_list/xlnet.txt\"\n",
    "# count = 0\n",
    "# while 1:\n",
    "#     if os.path.exists(wait_to_make):\n",
    "#         break\n",
    "#     print(f'sleep {count} h')\n",
    "#     time.sleep(3600)\n",
    "#     count+=1\n",
    "    \n",
    "local = True"
   ]
  },
  {
   "cell_type": "code",
   "execution_count": 2,
   "id": "7df63313-5526-4691-94ae-12ea4bf25bde",
   "metadata": {},
   "outputs": [],
   "source": [
    "EXP_NAME = \"bert-base-uncased\"\n"
   ]
  },
  {
   "cell_type": "code",
   "execution_count": 3,
   "id": "d14ce8ab",
   "metadata": {},
   "outputs": [],
   "source": [
    "# !nvidia-smi"
   ]
  },
  {
   "cell_type": "code",
   "execution_count": 4,
   "id": "7d511eeb",
   "metadata": {},
   "outputs": [],
   "source": [
    "# ! pip install torch==1.9.0+cu111 torchvision==0.10.0+cu111 torchaudio===0.9.0 -f https://download.pytorch.org/whl/torch_stable.html"
   ]
  },
  {
   "cell_type": "code",
   "execution_count": 5,
   "id": "c13809d2",
   "metadata": {},
   "outputs": [
    {
     "name": "stdout",
     "output_type": "stream",
     "text": [
      "1.9.0+cu111\n",
      "True\n"
     ]
    }
   ],
   "source": [
    "import torch\n",
    "print(torch.__version__)\n",
    "print(torch.cuda.is_available())"
   ]
  },
  {
   "cell_type": "markdown",
   "id": "263c913e",
   "metadata": {
    "papermill": {
     "duration": 0.024515,
     "end_time": "2022-03-22T09:40:01.460332",
     "exception": false,
     "start_time": "2022-03-22T09:40:01.435817",
     "status": "completed"
    },
    "tags": []
   },
   "source": [
    "# Directory settings"
   ]
  },
  {
   "cell_type": "code",
   "execution_count": 6,
   "id": "46d8c76e",
   "metadata": {
    "id": "fa3b873b",
    "papermill": {
     "duration": 0.041313,
     "end_time": "2022-03-22T09:40:01.526545",
     "exception": false,
     "start_time": "2022-03-22T09:40:01.485232",
     "status": "completed"
    },
    "tags": []
   },
   "outputs": [],
   "source": [
    "# ====================================================\n",
    "# Directory settings\n",
    "# ====================================================\n",
    "\n",
    "import os\n",
    "import datetime\n",
    "if local:\n",
    "    INPUT_DIR = '../../data/us-patent-phrase-to-phrase-matching/'\n",
    "else:\n",
    "    INPUT_DIR = '../../data/us-patent-phrase-to-phrase-matching/'\n",
    "\n",
    "OUTPUT_DIR = f'./output/{EXP_NAME}/'\n",
    "# if not os.path.exists(OUTPUT_DIR):\n",
    "os.makedirs(OUTPUT_DIR, exist_ok=True)\n"
   ]
  },
  {
   "cell_type": "markdown",
   "id": "c75f6918",
   "metadata": {
    "id": "1d0c4430",
    "papermill": {
     "duration": 0.024609,
     "end_time": "2022-03-22T09:40:01.576366",
     "exception": false,
     "start_time": "2022-03-22T09:40:01.551757",
     "status": "completed"
    },
    "tags": []
   },
   "source": [
    "# CFG"
   ]
  },
  {
   "cell_type": "code",
   "execution_count": 7,
   "id": "80d58afe",
   "metadata": {
    "id": "48dd82bb",
    "papermill": {
     "duration": 0.033949,
     "end_time": "2022-03-22T09:40:01.634977",
     "exception": false,
     "start_time": "2022-03-22T09:40:01.601028",
     "status": "completed"
    },
    "tags": []
   },
   "outputs": [],
   "source": [
    "# ====================================================\n",
    "# CFG\n",
    "# ====================================================\n",
    "class CFG:\n",
    "    wandb=False\n",
    "    competition='PPPM'\n",
    "    _wandb_kernel='nakama'\n",
    "    debug=False\n",
    "    apex=True\n",
    "    print_freq=100\n",
    "    num_workers=4\n",
    "    # model=\"microsoft/deberta-v3-large\"\n",
    "    model = \"bert-base-uncased\"\n",
    "    # size = \"large\n",
    "    # model = f\"{model}-{size}\"\n",
    "    if \"small\" in model:\n",
    "        hidden_state = hiddden_state_fix = 512\n",
    "    elif \"base\" in model or \"medium\" in model:\n",
    "        hidden_state = hiddden_state_fix = 768\n",
    "    elif \"large\" in model:\n",
    "        hidden_state = hiddden_state_fix = 1024\n",
    "    elif \"xlarge\" in model:\n",
    "        hidden_state =  1536\n",
    "        \n",
    "    scheduler='cosine' # ['linear', 'cosine']\n",
    "    batch_scheduler=True\n",
    "    num_cycles=0.5\n",
    "    num_warmup_steps=0\n",
    "    epochs=8\n",
    "    encoder_lr=2e-5\n",
    "    decoder_lr=2e-5\n",
    "    min_lr=1e-6\n",
    "    eps=1e-6\n",
    "    betas=(0.9, 0.999)\n",
    "    \n",
    "    batch_size=16\n",
    "    \n",
    "    \n",
    "    fc_dropout=0.2\n",
    "    target_size=1\n",
    "    max_len=512\n",
    "    weight_decay=0.01\n",
    "    gradient_accumulation_steps=1\n",
    "    max_grad_norm=1000\n",
    "    seed=42\n",
    "    n_fold=4\n",
    "    trn_fold=[i for i in range(n_fold)]\n",
    "    train=True\n",
    "    \n",
    "if CFG.debug:\n",
    "    CFG.epochs = 2\n",
    "    CFG.trn_fold = [0]"
   ]
  },
  {
   "cell_type": "code",
   "execution_count": 8,
   "id": "b7de2887",
   "metadata": {
    "id": "b88c983e",
    "papermill": {
     "duration": 8.873453,
     "end_time": "2022-03-22T09:40:10.532922",
     "exception": false,
     "start_time": "2022-03-22T09:40:01.659469",
     "status": "completed"
    },
    "tags": []
   },
   "outputs": [],
   "source": [
    "# ====================================================\n",
    "# wandb\n",
    "# ====================================================\n",
    "if CFG.wandb:\n",
    "    \n",
    "    import wandb\n",
    "\n",
    "    try:\n",
    "        from kaggle_secrets import UserSecretsClient\n",
    "        user_secrets = UserSecretsClient()\n",
    "        secret_value_0 = user_secrets.get_secret(\"wandb_api\")\n",
    "        wandb.login(key=secret_value_0)\n",
    "        anony = None\n",
    "    except:\n",
    "        anony = \"must\"\n",
    "        print('If you want to use your W&B account, go to Add-ons -> Secrets and provide your W&B access token. Use the Label name as wandb_api. \\nGet your W&B access token from here: https://wandb.ai/authorize')\n",
    "\n",
    "\n",
    "    def class2dict(f):\n",
    "        return dict((name, getattr(f, name)) for name in dir(f) if not name.startswith('__'))\n",
    "\n",
    "    run = wandb.init(project='PPPM-Public', \n",
    "                     name=CFG.model,\n",
    "                     config=class2dict(CFG),\n",
    "                     group=CFG.model,\n",
    "                     job_type=\"train\",\n",
    "                     anonymous=anony)"
   ]
  },
  {
   "cell_type": "code",
   "execution_count": 9,
   "id": "9f7d6f8c",
   "metadata": {},
   "outputs": [],
   "source": [
    "# !pip install transformers==4.16.2\n",
    "# !pip install tokenizers==0.11.0"
   ]
  },
  {
   "cell_type": "markdown",
   "id": "5ed638be",
   "metadata": {
    "id": "f2ed8ef2",
    "papermill": {
     "duration": 0.038261,
     "end_time": "2022-03-22T09:40:10.626926",
     "exception": false,
     "start_time": "2022-03-22T09:40:10.588665",
     "status": "completed"
    },
    "tags": []
   },
   "source": [
    "# Library"
   ]
  },
  {
   "cell_type": "code",
   "execution_count": 10,
   "id": "ebee5bbe",
   "metadata": {
    "executionInfo": {
     "elapsed": 20123,
     "status": "ok",
     "timestamp": 1644920080956,
     "user": {
      "displayName": "Yasufumi Nakama",
      "photoUrl": "https://lh3.googleusercontent.com/a/default-user=s64",
      "userId": "17486303986134302670"
     },
     "user_tz": -540
    },
    "id": "35916341",
    "outputId": "06fa0ab8-a380-4f54-a98d-b7015b79d9e2",
    "papermill": {
     "duration": 26.143536,
     "end_time": "2022-03-22T09:40:36.798853",
     "exception": false,
     "start_time": "2022-03-22T09:40:10.655317",
     "status": "completed"
    },
    "tags": []
   },
   "outputs": [
    {
     "name": "stdout",
     "output_type": "stream",
     "text": [
      "torch.__version__: 1.9.0+cu111\n",
      "tokenizers.__version__: 0.11.0\n",
      "transformers.__version__: 4.16.2\n",
      "env: TOKENIZERS_PARALLELISM=true\n",
      "cuda\n"
     ]
    }
   ],
   "source": [
    "# ====================================================\n",
    "# Library\n",
    "# ====================================================\n",
    "import os\n",
    "import gc\n",
    "import re\n",
    "import ast\n",
    "import sys\n",
    "import copy\n",
    "import json\n",
    "import time\n",
    "import math\n",
    "import shutil\n",
    "import string\n",
    "import pickle\n",
    "import random\n",
    "import joblib\n",
    "import itertools\n",
    "from pathlib import Path\n",
    "import warnings\n",
    "warnings.filterwarnings(\"ignore\")\n",
    "\n",
    "import scipy as sp\n",
    "import numpy as np\n",
    "import pandas as pd\n",
    "pd.set_option('display.max_rows', 500)\n",
    "pd.set_option('display.max_columns', 500)\n",
    "pd.set_option('display.width', 1000)\n",
    "from tqdm.auto import tqdm\n",
    "from sklearn.metrics import f1_score\n",
    "from sklearn.model_selection import StratifiedKFold, GroupKFold, KFold\n",
    "\n",
    "import torch\n",
    "print(f\"torch.__version__: {torch.__version__}\")\n",
    "import torch.nn as nn\n",
    "from torch.nn import Parameter\n",
    "import torch.nn.functional as F\n",
    "from torch.optim import Adam, SGD, AdamW\n",
    "from torch.utils.data import DataLoader, Dataset\n",
    "\n",
    "import tokenizers\n",
    "import transformers\n",
    "print(f\"tokenizers.__version__: {tokenizers.__version__}\")\n",
    "print(f\"transformers.__version__: {transformers.__version__}\")\n",
    "from transformers import AutoTokenizer, AutoModel, AutoConfig\n",
    "from transformers import get_linear_schedule_with_warmup, get_cosine_schedule_with_warmup\n",
    "%env TOKENIZERS_PARALLELISM=true\n",
    "\n",
    "device = torch.device('cuda' if torch.cuda.is_available() else 'cpu')\n",
    "\n",
    "# device = torch.device('cpu')\n",
    "print(device)\n",
    "\n",
    "start = time.time()"
   ]
  },
  {
   "cell_type": "markdown",
   "id": "dcc0106a",
   "metadata": {
    "id": "fd586614",
    "papermill": {
     "duration": 0.032888,
     "end_time": "2022-03-22T09:40:36.865209",
     "exception": false,
     "start_time": "2022-03-22T09:40:36.832321",
     "status": "completed"
    },
    "tags": []
   },
   "source": [
    "# Utils"
   ]
  },
  {
   "cell_type": "code",
   "execution_count": 11,
   "id": "540df385",
   "metadata": {
    "id": "d5c0ccc6",
    "papermill": {
     "duration": 0.21551,
     "end_time": "2022-03-22T09:40:37.116848",
     "exception": false,
     "start_time": "2022-03-22T09:40:36.901338",
     "status": "completed"
    },
    "tags": []
   },
   "outputs": [],
   "source": [
    "# ====================================================\n",
    "# Utils\n",
    "# ====================================================\n",
    "def get_score(y_true, y_pred):\n",
    "    score = sp.stats.pearsonr(y_true, y_pred)[0]\n",
    "    return score\n",
    "\n",
    "\n",
    "def get_logger(filename=OUTPUT_DIR+'train'):\n",
    "    from logging import getLogger, INFO, StreamHandler, FileHandler, Formatter\n",
    "    logger = getLogger(__name__)\n",
    "    logger.setLevel(INFO)\n",
    "    handler1 = StreamHandler()\n",
    "    handler1.setFormatter(Formatter(\"%(message)s\"))\n",
    "    handler2 = FileHandler(filename=f\"{filename}.log\")\n",
    "    handler2.setFormatter(Formatter(\"%(message)s\"))\n",
    "    logger.addHandler(handler1)\n",
    "    logger.addHandler(handler2)\n",
    "    return logger\n",
    "\n",
    "LOGGER = get_logger()\n",
    "\n",
    "def seed_everything(seed=42):\n",
    "    random.seed(seed)\n",
    "    os.environ['PYTHONHASHSEED'] = str(seed)\n",
    "    np.random.seed(seed)\n",
    "    torch.manual_seed(seed)\n",
    "    torch.cuda.manual_seed(seed)\n",
    "    torch.backends.cudnn.deterministic = True\n",
    "    \n",
    "seed_everything(seed=42)"
   ]
  },
  {
   "cell_type": "markdown",
   "id": "32170fde",
   "metadata": {
    "id": "cb3d8e1e",
    "papermill": {
     "duration": 0.032614,
     "end_time": "2022-03-22T09:40:37.184739",
     "exception": false,
     "start_time": "2022-03-22T09:40:37.152125",
     "status": "completed"
    },
    "tags": []
   },
   "source": [
    "# Data Loading"
   ]
  },
  {
   "cell_type": "code",
   "execution_count": 12,
   "id": "a903a50f",
   "metadata": {
    "executionInfo": {
     "elapsed": 2627,
     "status": "ok",
     "timestamp": 1644920084001,
     "user": {
      "displayName": "Yasufumi Nakama",
      "photoUrl": "https://lh3.googleusercontent.com/a/default-user=s64",
      "userId": "17486303986134302670"
     },
     "user_tz": -540
    },
    "id": "bef012d3",
    "outputId": "d4d60dbc-510c-4f34-8d64-dd1d88c4808c",
    "papermill": {
     "duration": 0.154829,
     "end_time": "2022-03-22T09:40:37.374453",
     "exception": false,
     "start_time": "2022-03-22T09:40:37.219624",
     "status": "completed"
    },
    "tags": []
   },
   "outputs": [
    {
     "name": "stdout",
     "output_type": "stream",
     "text": [
      "train.shape: (36473, 5)\n",
      "test.shape: (36, 4)\n",
      "submission.shape: (36, 2)\n"
     ]
    },
    {
     "data": {
      "text/html": [
       "<div>\n",
       "<style scoped>\n",
       "    .dataframe tbody tr th:only-of-type {\n",
       "        vertical-align: middle;\n",
       "    }\n",
       "\n",
       "    .dataframe tbody tr th {\n",
       "        vertical-align: top;\n",
       "    }\n",
       "\n",
       "    .dataframe thead th {\n",
       "        text-align: right;\n",
       "    }\n",
       "</style>\n",
       "<table border=\"1\" class=\"dataframe\">\n",
       "  <thead>\n",
       "    <tr style=\"text-align: right;\">\n",
       "      <th></th>\n",
       "      <th>id</th>\n",
       "      <th>anchor</th>\n",
       "      <th>target</th>\n",
       "      <th>context</th>\n",
       "      <th>score</th>\n",
       "    </tr>\n",
       "  </thead>\n",
       "  <tbody>\n",
       "    <tr>\n",
       "      <th>0</th>\n",
       "      <td>37d61fd2272659b1</td>\n",
       "      <td>abatement</td>\n",
       "      <td>abatement of pollution</td>\n",
       "      <td>A47</td>\n",
       "      <td>0.50</td>\n",
       "    </tr>\n",
       "    <tr>\n",
       "      <th>1</th>\n",
       "      <td>7b9652b17b68b7a4</td>\n",
       "      <td>abatement</td>\n",
       "      <td>act of abating</td>\n",
       "      <td>A47</td>\n",
       "      <td>0.75</td>\n",
       "    </tr>\n",
       "    <tr>\n",
       "      <th>2</th>\n",
       "      <td>36d72442aefd8232</td>\n",
       "      <td>abatement</td>\n",
       "      <td>active catalyst</td>\n",
       "      <td>A47</td>\n",
       "      <td>0.25</td>\n",
       "    </tr>\n",
       "    <tr>\n",
       "      <th>3</th>\n",
       "      <td>5296b0c19e1ce60e</td>\n",
       "      <td>abatement</td>\n",
       "      <td>eliminating process</td>\n",
       "      <td>A47</td>\n",
       "      <td>0.50</td>\n",
       "    </tr>\n",
       "    <tr>\n",
       "      <th>4</th>\n",
       "      <td>54c1e3b9184cb5b6</td>\n",
       "      <td>abatement</td>\n",
       "      <td>forest region</td>\n",
       "      <td>A47</td>\n",
       "      <td>0.00</td>\n",
       "    </tr>\n",
       "  </tbody>\n",
       "</table>\n",
       "</div>"
      ],
      "text/plain": [
       "                 id     anchor                  target context  score\n",
       "0  37d61fd2272659b1  abatement  abatement of pollution     A47   0.50\n",
       "1  7b9652b17b68b7a4  abatement          act of abating     A47   0.75\n",
       "2  36d72442aefd8232  abatement         active catalyst     A47   0.25\n",
       "3  5296b0c19e1ce60e  abatement     eliminating process     A47   0.50\n",
       "4  54c1e3b9184cb5b6  abatement           forest region     A47   0.00"
      ]
     },
     "metadata": {},
     "output_type": "display_data"
    },
    {
     "data": {
      "text/html": [
       "<div>\n",
       "<style scoped>\n",
       "    .dataframe tbody tr th:only-of-type {\n",
       "        vertical-align: middle;\n",
       "    }\n",
       "\n",
       "    .dataframe tbody tr th {\n",
       "        vertical-align: top;\n",
       "    }\n",
       "\n",
       "    .dataframe thead th {\n",
       "        text-align: right;\n",
       "    }\n",
       "</style>\n",
       "<table border=\"1\" class=\"dataframe\">\n",
       "  <thead>\n",
       "    <tr style=\"text-align: right;\">\n",
       "      <th></th>\n",
       "      <th>id</th>\n",
       "      <th>anchor</th>\n",
       "      <th>target</th>\n",
       "      <th>context</th>\n",
       "    </tr>\n",
       "  </thead>\n",
       "  <tbody>\n",
       "    <tr>\n",
       "      <th>0</th>\n",
       "      <td>4112d61851461f60</td>\n",
       "      <td>opc drum</td>\n",
       "      <td>inorganic photoconductor drum</td>\n",
       "      <td>G02</td>\n",
       "    </tr>\n",
       "    <tr>\n",
       "      <th>1</th>\n",
       "      <td>09e418c93a776564</td>\n",
       "      <td>adjust gas flow</td>\n",
       "      <td>altering gas flow</td>\n",
       "      <td>F23</td>\n",
       "    </tr>\n",
       "    <tr>\n",
       "      <th>2</th>\n",
       "      <td>36baf228038e314b</td>\n",
       "      <td>lower trunnion</td>\n",
       "      <td>lower locating</td>\n",
       "      <td>B60</td>\n",
       "    </tr>\n",
       "    <tr>\n",
       "      <th>3</th>\n",
       "      <td>1f37ead645e7f0c8</td>\n",
       "      <td>cap component</td>\n",
       "      <td>upper portion</td>\n",
       "      <td>D06</td>\n",
       "    </tr>\n",
       "    <tr>\n",
       "      <th>4</th>\n",
       "      <td>71a5b6ad068d531f</td>\n",
       "      <td>neural stimulation</td>\n",
       "      <td>artificial neural network</td>\n",
       "      <td>H04</td>\n",
       "    </tr>\n",
       "  </tbody>\n",
       "</table>\n",
       "</div>"
      ],
      "text/plain": [
       "                 id              anchor                         target context\n",
       "0  4112d61851461f60            opc drum  inorganic photoconductor drum     G02\n",
       "1  09e418c93a776564     adjust gas flow              altering gas flow     F23\n",
       "2  36baf228038e314b      lower trunnion                 lower locating     B60\n",
       "3  1f37ead645e7f0c8       cap component                  upper portion     D06\n",
       "4  71a5b6ad068d531f  neural stimulation      artificial neural network     H04"
      ]
     },
     "metadata": {},
     "output_type": "display_data"
    },
    {
     "data": {
      "text/html": [
       "<div>\n",
       "<style scoped>\n",
       "    .dataframe tbody tr th:only-of-type {\n",
       "        vertical-align: middle;\n",
       "    }\n",
       "\n",
       "    .dataframe tbody tr th {\n",
       "        vertical-align: top;\n",
       "    }\n",
       "\n",
       "    .dataframe thead th {\n",
       "        text-align: right;\n",
       "    }\n",
       "</style>\n",
       "<table border=\"1\" class=\"dataframe\">\n",
       "  <thead>\n",
       "    <tr style=\"text-align: right;\">\n",
       "      <th></th>\n",
       "      <th>id</th>\n",
       "      <th>score</th>\n",
       "    </tr>\n",
       "  </thead>\n",
       "  <tbody>\n",
       "    <tr>\n",
       "      <th>0</th>\n",
       "      <td>4112d61851461f60</td>\n",
       "      <td>0</td>\n",
       "    </tr>\n",
       "    <tr>\n",
       "      <th>1</th>\n",
       "      <td>09e418c93a776564</td>\n",
       "      <td>0</td>\n",
       "    </tr>\n",
       "    <tr>\n",
       "      <th>2</th>\n",
       "      <td>36baf228038e314b</td>\n",
       "      <td>0</td>\n",
       "    </tr>\n",
       "    <tr>\n",
       "      <th>3</th>\n",
       "      <td>1f37ead645e7f0c8</td>\n",
       "      <td>0</td>\n",
       "    </tr>\n",
       "    <tr>\n",
       "      <th>4</th>\n",
       "      <td>71a5b6ad068d531f</td>\n",
       "      <td>0</td>\n",
       "    </tr>\n",
       "  </tbody>\n",
       "</table>\n",
       "</div>"
      ],
      "text/plain": [
       "                 id  score\n",
       "0  4112d61851461f60      0\n",
       "1  09e418c93a776564      0\n",
       "2  36baf228038e314b      0\n",
       "3  1f37ead645e7f0c8      0\n",
       "4  71a5b6ad068d531f      0"
      ]
     },
     "metadata": {},
     "output_type": "display_data"
    }
   ],
   "source": [
    "# ====================================================\n",
    "# Data Loading\n",
    "# ====================================================\n",
    "train = pd.read_csv(INPUT_DIR+'train.csv')\n",
    "test = pd.read_csv(INPUT_DIR+'test.csv')\n",
    "submission = pd.read_csv(INPUT_DIR+'sample_submission.csv')\n",
    "print(f\"train.shape: {train.shape}\")\n",
    "print(f\"test.shape: {test.shape}\")\n",
    "print(f\"submission.shape: {submission.shape}\")\n",
    "display(train.head())\n",
    "display(test.head())\n",
    "display(submission.head())"
   ]
  },
  {
   "cell_type": "code",
   "execution_count": 13,
   "id": "fa85ac77",
   "metadata": {
    "papermill": {
     "duration": 0.848818,
     "end_time": "2022-03-22T09:40:38.260255",
     "exception": false,
     "start_time": "2022-03-22T09:40:37.411437",
     "status": "completed"
    },
    "tags": []
   },
   "outputs": [
    {
     "data": {
      "text/html": [
       "<div>\n",
       "<style scoped>\n",
       "    .dataframe tbody tr th:only-of-type {\n",
       "        vertical-align: middle;\n",
       "    }\n",
       "\n",
       "    .dataframe tbody tr th {\n",
       "        vertical-align: top;\n",
       "    }\n",
       "\n",
       "    .dataframe thead th {\n",
       "        text-align: right;\n",
       "    }\n",
       "</style>\n",
       "<table border=\"1\" class=\"dataframe\">\n",
       "  <thead>\n",
       "    <tr style=\"text-align: right;\">\n",
       "      <th></th>\n",
       "      <th>id</th>\n",
       "      <th>anchor</th>\n",
       "      <th>target</th>\n",
       "      <th>context</th>\n",
       "      <th>score</th>\n",
       "      <th>context_text</th>\n",
       "    </tr>\n",
       "  </thead>\n",
       "  <tbody>\n",
       "    <tr>\n",
       "      <th>0</th>\n",
       "      <td>37d61fd2272659b1</td>\n",
       "      <td>abatement</td>\n",
       "      <td>abatement of pollution</td>\n",
       "      <td>A47</td>\n",
       "      <td>0.50</td>\n",
       "      <td>HUMAN NECESSITIES. FURNITURE; DOMESTIC ARTICLE...</td>\n",
       "    </tr>\n",
       "    <tr>\n",
       "      <th>1</th>\n",
       "      <td>7b9652b17b68b7a4</td>\n",
       "      <td>abatement</td>\n",
       "      <td>act of abating</td>\n",
       "      <td>A47</td>\n",
       "      <td>0.75</td>\n",
       "      <td>HUMAN NECESSITIES. FURNITURE; DOMESTIC ARTICLE...</td>\n",
       "    </tr>\n",
       "    <tr>\n",
       "      <th>2</th>\n",
       "      <td>36d72442aefd8232</td>\n",
       "      <td>abatement</td>\n",
       "      <td>active catalyst</td>\n",
       "      <td>A47</td>\n",
       "      <td>0.25</td>\n",
       "      <td>HUMAN NECESSITIES. FURNITURE; DOMESTIC ARTICLE...</td>\n",
       "    </tr>\n",
       "    <tr>\n",
       "      <th>3</th>\n",
       "      <td>5296b0c19e1ce60e</td>\n",
       "      <td>abatement</td>\n",
       "      <td>eliminating process</td>\n",
       "      <td>A47</td>\n",
       "      <td>0.50</td>\n",
       "      <td>HUMAN NECESSITIES. FURNITURE; DOMESTIC ARTICLE...</td>\n",
       "    </tr>\n",
       "    <tr>\n",
       "      <th>4</th>\n",
       "      <td>54c1e3b9184cb5b6</td>\n",
       "      <td>abatement</td>\n",
       "      <td>forest region</td>\n",
       "      <td>A47</td>\n",
       "      <td>0.00</td>\n",
       "      <td>HUMAN NECESSITIES. FURNITURE; DOMESTIC ARTICLE...</td>\n",
       "    </tr>\n",
       "  </tbody>\n",
       "</table>\n",
       "</div>"
      ],
      "text/plain": [
       "                 id     anchor                  target context  score                                       context_text\n",
       "0  37d61fd2272659b1  abatement  abatement of pollution     A47   0.50  HUMAN NECESSITIES. FURNITURE; DOMESTIC ARTICLE...\n",
       "1  7b9652b17b68b7a4  abatement          act of abating     A47   0.75  HUMAN NECESSITIES. FURNITURE; DOMESTIC ARTICLE...\n",
       "2  36d72442aefd8232  abatement         active catalyst     A47   0.25  HUMAN NECESSITIES. FURNITURE; DOMESTIC ARTICLE...\n",
       "3  5296b0c19e1ce60e  abatement     eliminating process     A47   0.50  HUMAN NECESSITIES. FURNITURE; DOMESTIC ARTICLE...\n",
       "4  54c1e3b9184cb5b6  abatement           forest region     A47   0.00  HUMAN NECESSITIES. FURNITURE; DOMESTIC ARTICLE..."
      ]
     },
     "metadata": {},
     "output_type": "display_data"
    },
    {
     "data": {
      "text/html": [
       "<div>\n",
       "<style scoped>\n",
       "    .dataframe tbody tr th:only-of-type {\n",
       "        vertical-align: middle;\n",
       "    }\n",
       "\n",
       "    .dataframe tbody tr th {\n",
       "        vertical-align: top;\n",
       "    }\n",
       "\n",
       "    .dataframe thead th {\n",
       "        text-align: right;\n",
       "    }\n",
       "</style>\n",
       "<table border=\"1\" class=\"dataframe\">\n",
       "  <thead>\n",
       "    <tr style=\"text-align: right;\">\n",
       "      <th></th>\n",
       "      <th>id</th>\n",
       "      <th>anchor</th>\n",
       "      <th>target</th>\n",
       "      <th>context</th>\n",
       "      <th>context_text</th>\n",
       "    </tr>\n",
       "  </thead>\n",
       "  <tbody>\n",
       "    <tr>\n",
       "      <th>0</th>\n",
       "      <td>4112d61851461f60</td>\n",
       "      <td>opc drum</td>\n",
       "      <td>inorganic photoconductor drum</td>\n",
       "      <td>G02</td>\n",
       "      <td>PHYSICS. OPTICS</td>\n",
       "    </tr>\n",
       "    <tr>\n",
       "      <th>1</th>\n",
       "      <td>09e418c93a776564</td>\n",
       "      <td>adjust gas flow</td>\n",
       "      <td>altering gas flow</td>\n",
       "      <td>F23</td>\n",
       "      <td>MECHANICAL ENGINEERING; LIGHTING; HEATING; WEA...</td>\n",
       "    </tr>\n",
       "    <tr>\n",
       "      <th>2</th>\n",
       "      <td>36baf228038e314b</td>\n",
       "      <td>lower trunnion</td>\n",
       "      <td>lower locating</td>\n",
       "      <td>B60</td>\n",
       "      <td>PERFORMING OPERATIONS; TRANSPORTING. VEHICLES ...</td>\n",
       "    </tr>\n",
       "    <tr>\n",
       "      <th>3</th>\n",
       "      <td>1f37ead645e7f0c8</td>\n",
       "      <td>cap component</td>\n",
       "      <td>upper portion</td>\n",
       "      <td>D06</td>\n",
       "      <td>TEXTILES; PAPER. TREATMENT OF TEXTILES OR THE ...</td>\n",
       "    </tr>\n",
       "    <tr>\n",
       "      <th>4</th>\n",
       "      <td>71a5b6ad068d531f</td>\n",
       "      <td>neural stimulation</td>\n",
       "      <td>artificial neural network</td>\n",
       "      <td>H04</td>\n",
       "      <td>ELECTRICITY. ELECTRIC COMMUNICATION TECHNIQUE</td>\n",
       "    </tr>\n",
       "  </tbody>\n",
       "</table>\n",
       "</div>"
      ],
      "text/plain": [
       "                 id              anchor                         target context                                       context_text\n",
       "0  4112d61851461f60            opc drum  inorganic photoconductor drum     G02                                    PHYSICS. OPTICS\n",
       "1  09e418c93a776564     adjust gas flow              altering gas flow     F23  MECHANICAL ENGINEERING; LIGHTING; HEATING; WEA...\n",
       "2  36baf228038e314b      lower trunnion                 lower locating     B60  PERFORMING OPERATIONS; TRANSPORTING. VEHICLES ...\n",
       "3  1f37ead645e7f0c8       cap component                  upper portion     D06  TEXTILES; PAPER. TREATMENT OF TEXTILES OR THE ...\n",
       "4  71a5b6ad068d531f  neural stimulation      artificial neural network     H04      ELECTRICITY. ELECTRIC COMMUNICATION TECHNIQUE"
      ]
     },
     "metadata": {},
     "output_type": "display_data"
    }
   ],
   "source": [
    "# ====================================================\n",
    "# CPC Data\n",
    "# ====================================================\n",
    "def get_cpc_texts():\n",
    "    contexts = []\n",
    "    pattern = '[A-Z]\\d+'\n",
    "    for file_name in os.listdir(INPUT_DIR+'CPCSchemeXML202105'):\n",
    "        result = re.findall(pattern, file_name)\n",
    "        if result:\n",
    "            contexts.append(result)\n",
    "    contexts = sorted(set(sum(contexts, [])))\n",
    "    results = {}\n",
    "    for cpc in ['A', 'B', 'C', 'D', 'E', 'F', 'G', 'H', 'Y']:\n",
    "        with open(f'{INPUT_DIR}CPCTitleList202202/cpc-section-{cpc}_20220201.txt') as f:\n",
    "            s = f.read()\n",
    "        pattern = f'{cpc}\\t\\t.+'\n",
    "        result = re.findall(pattern, s)\n",
    "        cpc_result = result[0].lstrip(pattern)\n",
    "        for context in [c for c in contexts if c[0] == cpc]:\n",
    "            pattern = f'{context}\\t\\t.+'\n",
    "            result = re.findall(pattern, s)\n",
    "            results[context] = cpc_result + \". \" + result[0].lstrip(pattern)\n",
    "    return results\n",
    "\n",
    "\n",
    "# cpc_texts = get_cpc_texts()\n",
    "# torch.save(cpc_texts, OUTPUT_DIR+\"cpc_texts.pth\")\n",
    "cpc_texts = torch.load(INPUT_DIR+\"cpc_texts.pth\")\n",
    "train['context_text'] = train['context'].map(cpc_texts)\n",
    "test['context_text'] = test['context'].map(cpc_texts)\n",
    "display(train.head())\n",
    "display(test.head())"
   ]
  },
  {
   "cell_type": "code",
   "execution_count": 14,
   "id": "7bb73eb6",
   "metadata": {
    "papermill": {
     "duration": 0.084831,
     "end_time": "2022-03-22T09:40:38.384239",
     "exception": false,
     "start_time": "2022-03-22T09:40:38.299408",
     "status": "completed"
    },
    "tags": []
   },
   "outputs": [
    {
     "data": {
      "text/html": [
       "<div>\n",
       "<style scoped>\n",
       "    .dataframe tbody tr th:only-of-type {\n",
       "        vertical-align: middle;\n",
       "    }\n",
       "\n",
       "    .dataframe tbody tr th {\n",
       "        vertical-align: top;\n",
       "    }\n",
       "\n",
       "    .dataframe thead th {\n",
       "        text-align: right;\n",
       "    }\n",
       "</style>\n",
       "<table border=\"1\" class=\"dataframe\">\n",
       "  <thead>\n",
       "    <tr style=\"text-align: right;\">\n",
       "      <th></th>\n",
       "      <th>id</th>\n",
       "      <th>anchor</th>\n",
       "      <th>target</th>\n",
       "      <th>context</th>\n",
       "      <th>score</th>\n",
       "      <th>context_text</th>\n",
       "      <th>text</th>\n",
       "    </tr>\n",
       "  </thead>\n",
       "  <tbody>\n",
       "    <tr>\n",
       "      <th>0</th>\n",
       "      <td>37d61fd2272659b1</td>\n",
       "      <td>abatement</td>\n",
       "      <td>abatement of pollution</td>\n",
       "      <td>A47</td>\n",
       "      <td>0.50</td>\n",
       "      <td>HUMAN NECESSITIES. FURNITURE; DOMESTIC ARTICLE...</td>\n",
       "      <td>abatement[SEP]abatement of pollution[SEP]HUMAN...</td>\n",
       "    </tr>\n",
       "    <tr>\n",
       "      <th>1</th>\n",
       "      <td>7b9652b17b68b7a4</td>\n",
       "      <td>abatement</td>\n",
       "      <td>act of abating</td>\n",
       "      <td>A47</td>\n",
       "      <td>0.75</td>\n",
       "      <td>HUMAN NECESSITIES. FURNITURE; DOMESTIC ARTICLE...</td>\n",
       "      <td>abatement[SEP]act of abating[SEP]HUMAN NECESSI...</td>\n",
       "    </tr>\n",
       "    <tr>\n",
       "      <th>2</th>\n",
       "      <td>36d72442aefd8232</td>\n",
       "      <td>abatement</td>\n",
       "      <td>active catalyst</td>\n",
       "      <td>A47</td>\n",
       "      <td>0.25</td>\n",
       "      <td>HUMAN NECESSITIES. FURNITURE; DOMESTIC ARTICLE...</td>\n",
       "      <td>abatement[SEP]active catalyst[SEP]HUMAN NECESS...</td>\n",
       "    </tr>\n",
       "    <tr>\n",
       "      <th>3</th>\n",
       "      <td>5296b0c19e1ce60e</td>\n",
       "      <td>abatement</td>\n",
       "      <td>eliminating process</td>\n",
       "      <td>A47</td>\n",
       "      <td>0.50</td>\n",
       "      <td>HUMAN NECESSITIES. FURNITURE; DOMESTIC ARTICLE...</td>\n",
       "      <td>abatement[SEP]eliminating process[SEP]HUMAN NE...</td>\n",
       "    </tr>\n",
       "    <tr>\n",
       "      <th>4</th>\n",
       "      <td>54c1e3b9184cb5b6</td>\n",
       "      <td>abatement</td>\n",
       "      <td>forest region</td>\n",
       "      <td>A47</td>\n",
       "      <td>0.00</td>\n",
       "      <td>HUMAN NECESSITIES. FURNITURE; DOMESTIC ARTICLE...</td>\n",
       "      <td>abatement[SEP]forest region[SEP]HUMAN NECESSIT...</td>\n",
       "    </tr>\n",
       "  </tbody>\n",
       "</table>\n",
       "</div>"
      ],
      "text/plain": [
       "                 id     anchor                  target context  score                                       context_text                                               text\n",
       "0  37d61fd2272659b1  abatement  abatement of pollution     A47   0.50  HUMAN NECESSITIES. FURNITURE; DOMESTIC ARTICLE...  abatement[SEP]abatement of pollution[SEP]HUMAN...\n",
       "1  7b9652b17b68b7a4  abatement          act of abating     A47   0.75  HUMAN NECESSITIES. FURNITURE; DOMESTIC ARTICLE...  abatement[SEP]act of abating[SEP]HUMAN NECESSI...\n",
       "2  36d72442aefd8232  abatement         active catalyst     A47   0.25  HUMAN NECESSITIES. FURNITURE; DOMESTIC ARTICLE...  abatement[SEP]active catalyst[SEP]HUMAN NECESS...\n",
       "3  5296b0c19e1ce60e  abatement     eliminating process     A47   0.50  HUMAN NECESSITIES. FURNITURE; DOMESTIC ARTICLE...  abatement[SEP]eliminating process[SEP]HUMAN NE...\n",
       "4  54c1e3b9184cb5b6  abatement           forest region     A47   0.00  HUMAN NECESSITIES. FURNITURE; DOMESTIC ARTICLE...  abatement[SEP]forest region[SEP]HUMAN NECESSIT..."
      ]
     },
     "metadata": {},
     "output_type": "display_data"
    },
    {
     "data": {
      "text/html": [
       "<div>\n",
       "<style scoped>\n",
       "    .dataframe tbody tr th:only-of-type {\n",
       "        vertical-align: middle;\n",
       "    }\n",
       "\n",
       "    .dataframe tbody tr th {\n",
       "        vertical-align: top;\n",
       "    }\n",
       "\n",
       "    .dataframe thead th {\n",
       "        text-align: right;\n",
       "    }\n",
       "</style>\n",
       "<table border=\"1\" class=\"dataframe\">\n",
       "  <thead>\n",
       "    <tr style=\"text-align: right;\">\n",
       "      <th></th>\n",
       "      <th>id</th>\n",
       "      <th>anchor</th>\n",
       "      <th>target</th>\n",
       "      <th>context</th>\n",
       "      <th>context_text</th>\n",
       "      <th>text</th>\n",
       "    </tr>\n",
       "  </thead>\n",
       "  <tbody>\n",
       "    <tr>\n",
       "      <th>0</th>\n",
       "      <td>4112d61851461f60</td>\n",
       "      <td>opc drum</td>\n",
       "      <td>inorganic photoconductor drum</td>\n",
       "      <td>G02</td>\n",
       "      <td>PHYSICS. OPTICS</td>\n",
       "      <td>opc drum[SEP]inorganic photoconductor drum[SEP...</td>\n",
       "    </tr>\n",
       "    <tr>\n",
       "      <th>1</th>\n",
       "      <td>09e418c93a776564</td>\n",
       "      <td>adjust gas flow</td>\n",
       "      <td>altering gas flow</td>\n",
       "      <td>F23</td>\n",
       "      <td>MECHANICAL ENGINEERING; LIGHTING; HEATING; WEA...</td>\n",
       "      <td>adjust gas flow[SEP]altering gas flow[SEP]MECH...</td>\n",
       "    </tr>\n",
       "    <tr>\n",
       "      <th>2</th>\n",
       "      <td>36baf228038e314b</td>\n",
       "      <td>lower trunnion</td>\n",
       "      <td>lower locating</td>\n",
       "      <td>B60</td>\n",
       "      <td>PERFORMING OPERATIONS; TRANSPORTING. VEHICLES ...</td>\n",
       "      <td>lower trunnion[SEP]lower locating[SEP]PERFORMI...</td>\n",
       "    </tr>\n",
       "    <tr>\n",
       "      <th>3</th>\n",
       "      <td>1f37ead645e7f0c8</td>\n",
       "      <td>cap component</td>\n",
       "      <td>upper portion</td>\n",
       "      <td>D06</td>\n",
       "      <td>TEXTILES; PAPER. TREATMENT OF TEXTILES OR THE ...</td>\n",
       "      <td>cap component[SEP]upper portion[SEP]TEXTILES; ...</td>\n",
       "    </tr>\n",
       "    <tr>\n",
       "      <th>4</th>\n",
       "      <td>71a5b6ad068d531f</td>\n",
       "      <td>neural stimulation</td>\n",
       "      <td>artificial neural network</td>\n",
       "      <td>H04</td>\n",
       "      <td>ELECTRICITY. ELECTRIC COMMUNICATION TECHNIQUE</td>\n",
       "      <td>neural stimulation[SEP]artificial neural netwo...</td>\n",
       "    </tr>\n",
       "  </tbody>\n",
       "</table>\n",
       "</div>"
      ],
      "text/plain": [
       "                 id              anchor                         target context                                       context_text                                               text\n",
       "0  4112d61851461f60            opc drum  inorganic photoconductor drum     G02                                    PHYSICS. OPTICS  opc drum[SEP]inorganic photoconductor drum[SEP...\n",
       "1  09e418c93a776564     adjust gas flow              altering gas flow     F23  MECHANICAL ENGINEERING; LIGHTING; HEATING; WEA...  adjust gas flow[SEP]altering gas flow[SEP]MECH...\n",
       "2  36baf228038e314b      lower trunnion                 lower locating     B60  PERFORMING OPERATIONS; TRANSPORTING. VEHICLES ...  lower trunnion[SEP]lower locating[SEP]PERFORMI...\n",
       "3  1f37ead645e7f0c8       cap component                  upper portion     D06  TEXTILES; PAPER. TREATMENT OF TEXTILES OR THE ...  cap component[SEP]upper portion[SEP]TEXTILES; ...\n",
       "4  71a5b6ad068d531f  neural stimulation      artificial neural network     H04      ELECTRICITY. ELECTRIC COMMUNICATION TECHNIQUE  neural stimulation[SEP]artificial neural netwo..."
      ]
     },
     "metadata": {},
     "output_type": "display_data"
    }
   ],
   "source": [
    "pad = \"[SEP]\"\n",
    "train['text'] = train['anchor'] + pad + train['target'] +pad  + train['context_text']\n",
    "test['text'] = test['anchor'] + pad + test['target'] +pad  + test['context_text']\n",
    "display(train.head())\n",
    "display(test.head())"
   ]
  },
  {
   "cell_type": "markdown",
   "id": "b01d622c",
   "metadata": {
    "papermill": {
     "duration": 0.040462,
     "end_time": "2022-03-22T09:40:38.462517",
     "exception": false,
     "start_time": "2022-03-22T09:40:38.422055",
     "status": "completed"
    },
    "tags": []
   },
   "source": [
    "# EDA"
   ]
  },
  {
   "cell_type": "code",
   "execution_count": 15,
   "id": "560906cd",
   "metadata": {
    "papermill": {
     "duration": 0.298955,
     "end_time": "2022-03-22T09:40:38.799273",
     "exception": false,
     "start_time": "2022-03-22T09:40:38.500318",
     "status": "completed"
    },
    "tags": []
   },
   "outputs": [
    {
     "data": {
      "text/plain": [
       "<AxesSubplot:>"
      ]
     },
     "execution_count": 15,
     "metadata": {},
     "output_type": "execute_result"
    },
    {
     "data": {
      "image/png": "[encoded data removed]",
      "text/plain": [
       "<Figure size 432x288 with 1 Axes>"
      ]
     },
     "metadata": {
      "needs_background": "light"
     },
     "output_type": "display_data"
    }
   ],
   "source": [
    "train['score'].hist()"
   ]
  },
  {
   "cell_type": "code",
   "execution_count": 16,
   "id": "bb2122ec",
   "metadata": {
    "papermill": {
     "duration": 0.072329,
     "end_time": "2022-03-22T09:40:38.914779",
     "exception": false,
     "start_time": "2022-03-22T09:40:38.842450",
     "status": "completed"
    },
    "tags": []
   },
   "outputs": [
    {
     "data": {
      "text/plain": [
       "B    8019\n",
       "H    6195\n",
       "G    6013\n",
       "C    5288\n",
       "A    4094\n",
       "F    4054\n",
       "E    1531\n",
       "D    1279\n",
       "Name: context, dtype: int64"
      ]
     },
     "metadata": {},
     "output_type": "display_data"
    }
   ],
   "source": [
    "display(train['context'].apply(lambda x: x[0]).value_counts())"
   ]
  },
  {
   "cell_type": "markdown",
   "id": "fdc1e4e5",
   "metadata": {
    "papermill": {
     "duration": 0.040834,
     "end_time": "2022-03-22T09:40:38.997435",
     "exception": false,
     "start_time": "2022-03-22T09:40:38.956601",
     "status": "completed"
    },
    "tags": []
   },
   "source": [
    "- Y is not in training data, but may be in test data?"
   ]
  },
  {
   "cell_type": "markdown",
   "id": "9249864a",
   "metadata": {
    "id": "9e05b6c4",
    "papermill": {
     "duration": 0.041734,
     "end_time": "2022-03-22T09:40:39.084284",
     "exception": false,
     "start_time": "2022-03-22T09:40:39.042550",
     "status": "completed"
    },
    "tags": []
   },
   "source": [
    "# CV split"
   ]
  },
  {
   "cell_type": "code",
   "execution_count": 17,
   "id": "44a41536",
   "metadata": {
    "executionInfo": {
     "elapsed": 12,
     "status": "ok",
     "timestamp": 1644920084528,
     "user": {
      "displayName": "Yasufumi Nakama",
      "photoUrl": "https://lh3.googleusercontent.com/a/default-user=s64",
      "userId": "17486303986134302670"
     },
     "user_tz": -540
    },
    "id": "3ba287c4",
    "outputId": "307dc0e2-17d6-4bfe-9e95-fdd9b6303974",
    "papermill": {
     "duration": 0.074115,
     "end_time": "2022-03-22T09:40:39.201383",
     "exception": false,
     "start_time": "2022-03-22T09:40:39.127268",
     "status": "completed"
    },
    "tags": []
   },
   "outputs": [
    {
     "data": {
      "text/plain": [
       "fold\n",
       "0    9119\n",
       "1    9118\n",
       "2    9118\n",
       "3    9118\n",
       "dtype: int64"
      ]
     },
     "metadata": {},
     "output_type": "display_data"
    }
   ],
   "source": [
    "# ====================================================\n",
    "# CV split\n",
    "# ====================================================\n",
    "train['score_map'] = train['score'].map({0.00: 0, 0.25: 1, 0.50: 2, 0.75: 3, 1.00: 4})\n",
    "Fold = StratifiedKFold(n_splits=CFG.n_fold, shuffle=True, random_state=CFG.seed)\n",
    "for n, (train_index, val_index) in enumerate(Fold.split(train, train['score_map'])):\n",
    "    train.loc[val_index, 'fold'] = int(n)\n",
    "train['fold'] = train['fold'].astype(int)\n",
    "display(train.groupby('fold').size())"
   ]
  },
  {
   "cell_type": "code",
   "execution_count": 18,
   "id": "bb9ce665",
   "metadata": {
    "id": "4c3ce877",
    "papermill": {
     "duration": 0.049441,
     "end_time": "2022-03-22T09:40:39.291307",
     "exception": false,
     "start_time": "2022-03-22T09:40:39.241866",
     "status": "completed"
    },
    "tags": []
   },
   "outputs": [],
   "source": [
    "if CFG.debug:\n",
    "    display(train.groupby('fold').size())\n",
    "    train = train.sample(n=1000, random_state=0).reset_index(drop=True)\n",
    "    display(train.groupby('fold').size())"
   ]
  },
  {
   "cell_type": "markdown",
   "id": "a7adea75",
   "metadata": {
    "id": "918a28aa",
    "papermill": {
     "duration": 0.039494,
     "end_time": "2022-03-22T09:40:39.374931",
     "exception": false,
     "start_time": "2022-03-22T09:40:39.335437",
     "status": "completed"
    },
    "tags": []
   },
   "source": [
    "# tokenizer"
   ]
  },
  {
   "cell_type": "code",
   "execution_count": 19,
   "id": "4efc387f",
   "metadata": {},
   "outputs": [],
   "source": [
    "# !pip install --no-cache-dir sentencepiece"
   ]
  },
  {
   "cell_type": "code",
   "execution_count": 20,
   "id": "54f8891e",
   "metadata": {
    "papermill": {
     "duration": 5.198604,
     "end_time": "2022-03-22T09:40:44.612849",
     "exception": false,
     "start_time": "2022-03-22T09:40:39.414245",
     "status": "completed"
    },
    "tags": []
   },
   "outputs": [],
   "source": [
    "# ====================================================\n",
    "# tokenizer\n",
    "# ====================================================\n",
    "# tokenizer = AutoTokenizer.from_pretrained(CFG.model,use_fast=False)\n",
    "tokenizer = AutoTokenizer.from_pretrained(CFG.model,use_fast=False)\n",
    "tokenizer.save_pretrained(OUTPUT_DIR+'tokenizer/')\n",
    "CFG.tokenizer = tokenizer\n",
    "\n"
   ]
  },
  {
   "cell_type": "code",
   "execution_count": null,
   "id": "7cf880ca-b3fb-4603-9194-fc20c0f93e59",
   "metadata": {},
   "outputs": [],
   "source": []
  },
  {
   "cell_type": "markdown",
   "id": "d9fca227",
   "metadata": {
    "id": "14da40cf",
    "papermill": {
     "duration": 0.04897,
     "end_time": "2022-03-22T09:40:44.706931",
     "exception": false,
     "start_time": "2022-03-22T09:40:44.657961",
     "status": "completed"
    },
    "tags": []
   },
   "source": [
    "# Dataset"
   ]
  },
  {
   "cell_type": "code",
   "execution_count": 21,
   "id": "2671471a",
   "metadata": {
    "executionInfo": {
     "elapsed": 32827,
     "status": "ok",
     "timestamp": 1644920122500,
     "user": {
      "displayName": "Yasufumi Nakama",
      "photoUrl": "https://lh3.googleusercontent.com/a/default-user=s64",
      "userId": "17486303986134302670"
     },
     "user_tz": -540
    },
    "id": "c00327b0",
    "outputId": "26e947da-b73a-494d-e776-906b037ac08a",
    "papermill": {
     "duration": 7.208379,
     "end_time": "2022-03-22T09:40:51.959343",
     "exception": false,
     "start_time": "2022-03-22T09:40:44.750964",
     "status": "completed"
    },
    "tags": []
   },
   "outputs": [
    {
     "data": {
      "application/vnd.jupyter.widget-view+json": {
       "model_id": "c7c07a089a0e4b0d9c74ae750ebfc024",
       "version_major": 2,
       "version_minor": 0
      },
      "text/plain": [
       "  0%|          | 0/136 [00:00<?, ?it/s]"
      ]
     },
     "metadata": {},
     "output_type": "display_data"
    },
    {
     "data": {
      "application/vnd.jupyter.widget-view+json": {
       "model_id": "91b0704830c54467aac63207324c6a69",
       "version_major": 2,
       "version_minor": 0
      },
      "text/plain": [
       "  0%|          | 0/36473 [00:00<?, ?it/s]"
      ]
     },
     "metadata": {},
     "output_type": "display_data"
    },
    {
     "data": {
      "application/vnd.jupyter.widget-view+json": {
       "model_id": "2d7f700050014c258e9dfcbd93efc5f1",
       "version_major": 2,
       "version_minor": 0
      },
      "text/plain": [
       "  0%|          | 0/36473 [00:00<?, ?it/s]"
      ]
     },
     "metadata": {},
     "output_type": "display_data"
    },
    {
     "name": "stderr",
     "output_type": "stream",
     "text": [
      "max_len: 125\n"
     ]
    }
   ],
   "source": [
    "# ====================================================\n",
    "# Define max_len\n",
    "# ====================================================\n",
    "lengths_dict = {}\n",
    "\n",
    "lengths = []\n",
    "tk0 = tqdm(cpc_texts.values(), total=len(cpc_texts))\n",
    "for text in tk0:\n",
    "    length = len(tokenizer(text, add_special_tokens=False)['input_ids'])\n",
    "    lengths.append(length)\n",
    "lengths_dict['context_text'] = lengths\n",
    "\n",
    "for text_col in ['anchor', 'target']:\n",
    "    lengths = []\n",
    "    tk0 = tqdm(train[text_col].fillna(\"\").values, total=len(train))\n",
    "    for text in tk0:\n",
    "        length = len(tokenizer(text, add_special_tokens=False)['input_ids'])\n",
    "        lengths.append(length)\n",
    "    lengths_dict[text_col] = lengths\n",
    "    \n",
    "CFG.max_len = max(lengths_dict['anchor']) + max(lengths_dict['target'])\\\n",
    "                + max(lengths_dict['context_text']) + 4 # CLS + SEP + SEP + SEP\n",
    "LOGGER.info(f\"max_len: {CFG.max_len}\")"
   ]
  },
  {
   "cell_type": "code",
   "execution_count": 22,
   "id": "49be5a92",
   "metadata": {
    "id": "9f791a19",
    "papermill": {
     "duration": 0.055528,
     "end_time": "2022-03-22T09:40:52.072178",
     "exception": false,
     "start_time": "2022-03-22T09:40:52.016650",
     "status": "completed"
    },
    "tags": []
   },
   "outputs": [
    {
     "name": "stdout",
     "output_type": "stream",
     "text": [
      "torch.__version__: 1.9.0+cu111\n"
     ]
    }
   ],
   "source": [
    "# ====================================================\n",
    "# Dataset\n",
    "# ====================================================\n",
    "def prepare_input(cfg, text):\n",
    "    inputs = cfg.tokenizer(text,\n",
    "                           add_special_tokens=True,\n",
    "                           max_length=cfg.max_len,\n",
    "                           padding=\"max_length\",\n",
    "                           return_offsets_mapping=False)\n",
    "    for k, v in inputs.items():\n",
    "        inputs[k] = torch.tensor(v, dtype=torch.long)\n",
    "    return inputs\n",
    "\n",
    "sys.path.append('../dataset')\n",
    "from dataset import TrainDataset"
   ]
  },
  {
   "cell_type": "code",
   "execution_count": 23,
   "id": "a459997d",
   "metadata": {
    "executionInfo": {
     "elapsed": 8,
     "status": "ok",
     "timestamp": 1644920122808,
     "user": {
      "displayName": "Yasufumi Nakama",
      "photoUrl": "https://lh3.googleusercontent.com/a/default-user=s64",
      "userId": "17486303986134302670"
     },
     "user_tz": -540
    },
    "id": "a200bd5b",
    "outputId": "a30fde2b-86f9-4ebd-ae81-33f467b69836",
    "papermill": {
     "duration": 0.05166,
     "end_time": "2022-03-22T09:40:52.171272",
     "exception": false,
     "start_time": "2022-03-22T09:40:52.119612",
     "status": "completed"
    },
    "tags": []
   },
   "outputs": [
    {
     "data": {
      "text/plain": [
       "'\\ntrain_dataset = TrainDataset(CFG, train)\\ninputs, label = train_dataset[0]\\nprint(inputs)\\nprint(label)\\n'"
      ]
     },
     "execution_count": 23,
     "metadata": {},
     "output_type": "execute_result"
    }
   ],
   "source": [
    "\"\"\"\n",
    "train_dataset = TrainDataset(CFG, train)\n",
    "inputs, label = train_dataset[0]\n",
    "print(inputs)\n",
    "print(label)\n",
    "\"\"\""
   ]
  },
  {
   "cell_type": "markdown",
   "id": "44d28ba3",
   "metadata": {
    "id": "e04d6363",
    "papermill": {
     "duration": 0.044161,
     "end_time": "2022-03-22T09:40:52.262022",
     "exception": false,
     "start_time": "2022-03-22T09:40:52.217861",
     "status": "completed"
    },
    "tags": []
   },
   "source": [
    "# Model"
   ]
  },
  {
   "cell_type": "code",
   "execution_count": 24,
   "id": "872e6567",
   "metadata": {
    "id": "4c5bab44",
    "papermill": {
     "duration": 0.066203,
     "end_time": "2022-03-22T09:40:52.372030",
     "exception": false,
     "start_time": "2022-03-22T09:40:52.305827",
     "status": "completed"
    },
    "tags": []
   },
   "outputs": [],
   "source": [
    "# ====================================================\n",
    "# Model\n",
    "# ====================================================\n",
    "class CustomModel(nn.Module):\n",
    "    def __init__(self, cfg, config_path=None, pretrained=False):\n",
    "        super().__init__()\n",
    "        self.cfg = cfg\n",
    "        if config_path is None:\n",
    "            self.config = AutoConfig.from_pretrained(cfg.model, output_hidden_states=True)\n",
    "        else:\n",
    "            self.config = torch.load(config_path)\n",
    "        if pretrained:\n",
    "            self.model = AutoModel.from_pretrained(cfg.model, config=self.config)\n",
    "        else:\n",
    "            self.model = AutoModel.from_config(self.config)\n",
    "        self.fc_dropout = nn.Dropout(cfg.fc_dropout)\n",
    "        self.fc = nn.Linear(self.config.hidden_size, self.cfg.target_size)\n",
    "        self._init_weights(self.fc)\n",
    "        self.attention = nn.Sequential(\n",
    "            nn.Linear(self.config.hidden_size, 512),\n",
    "            nn.Tanh(),\n",
    "            nn.Linear(512, 1),\n",
    "            nn.Softmax(dim=1)\n",
    "        )\n",
    "        self._init_weights(self.attention)\n",
    "        \n",
    "    def _init_weights(self, module):\n",
    "        try:\n",
    "                if isinstance(module, nn.Linear):\n",
    "                    module.weight.data.normal_(mean=0.0, std=self.config.initializer_range)\n",
    "                    if module.bias is not None:\n",
    "                        module.bias.data.zero_()\n",
    "                elif isinstance(module, nn.Embedding):\n",
    "                    module.weight.data.normal_(mean=0.0, std=self.config.initializer_range)\n",
    "                    if module.padding_idx is not None:\n",
    "                        module.weight.data[module.padding_idx].zero_()\n",
    "                elif isinstance(module, nn.LayerNorm):\n",
    "                    module.bias.data.zero_()\n",
    "                    module.weight.data.fill_(1.0)\n",
    "        except:\n",
    "            if isinstance(module, nn.Linear):\n",
    "                module.weight.data.normal_(mean=0.0, std=0.02)\n",
    "                if module.bias is not None:\n",
    "                    module.bias.data.zero_()\n",
    "            elif isinstance(module, nn.Embedding):\n",
    "                module.weight.data.normal_(mean=0.0, std=0.02)\n",
    "                if module.padding_idx is not None:\n",
    "                    module.weight.data[module.padding_idx].zero_()\n",
    "            elif isinstance(module, nn.LayerNorm):\n",
    "                module.bias.data.zero_()\n",
    "                module.weight.data.fill_(1.0)\n",
    "\n",
    "    def feature(self, inputs):\n",
    "        outputs = self.model(**inputs)\n",
    "        last_hidden_states = outputs[0]\n",
    "        # feature = torch.mean(last_hidden_states, 1)\n",
    "        weights = self.attention(last_hidden_states)\n",
    "        feature = torch.sum(weights * last_hidden_states, dim=1)\n",
    "        return feature\n",
    "\n",
    "    def forward(self, inputs):\n",
    "        feature = self.feature(inputs)\n",
    "        output = self.fc(self.fc_dropout(feature))\n",
    "        return output\n",
    "    \n"
   ]
  },
  {
   "cell_type": "markdown",
   "id": "d58eee04",
   "metadata": {
    "id": "deee9675",
    "papermill": {
     "duration": 0.044158,
     "end_time": "2022-03-22T09:40:52.460401",
     "exception": false,
     "start_time": "2022-03-22T09:40:52.416243",
     "status": "completed"
    },
    "tags": []
   },
   "source": [
    "# Helpler functions"
   ]
  },
  {
   "cell_type": "code",
   "execution_count": 25,
   "id": "53d5903c",
   "metadata": {
    "id": "c8263b0c",
    "papermill": {
     "duration": 0.078567,
     "end_time": "2022-03-22T09:40:52.582474",
     "exception": false,
     "start_time": "2022-03-22T09:40:52.503907",
     "status": "completed"
    },
    "tags": []
   },
   "outputs": [],
   "source": [
    "# ====================================================\n",
    "# Helper functions\n",
    "# ====================================================\n",
    "class AverageMeter(object):\n",
    "    \"\"\"Computes and stores the average and current value\"\"\"\n",
    "    def __init__(self):\n",
    "        self.reset()\n",
    "\n",
    "    def reset(self):\n",
    "        self.val = 0\n",
    "        self.avg = 0\n",
    "        self.sum = 0\n",
    "        self.count = 0\n",
    "\n",
    "    def update(self, val, n=1):\n",
    "        self.val = val\n",
    "        self.sum += val * n\n",
    "        self.count += n\n",
    "        self.avg = self.sum / self.count\n",
    "\n",
    "\n",
    "def asMinutes(s):\n",
    "    m = math.floor(s / 60)\n",
    "    s -= m * 60\n",
    "    return '%dm %ds' % (m, s)\n",
    "\n",
    "\n",
    "def timeSince(since, percent):\n",
    "    now = time.time()\n",
    "    s = now - since\n",
    "    es = s / (percent)\n",
    "    rs = es - s\n",
    "    return '%s (remain %s)' % (asMinutes(s), asMinutes(rs))\n",
    "\n",
    "\n",
    "def train_fn(fold, train_loader, model, criterion, optimizer, epoch, scheduler, device):\n",
    "    model.train()\n",
    "    scaler = torch.cuda.amp.GradScaler(enabled=CFG.apex)\n",
    "    losses = AverageMeter()\n",
    "    start = end = time.time()\n",
    "    global_step = 0\n",
    "    for step, (inputs, labels) in enumerate(train_loader):\n",
    "        for k, v in inputs.items():\n",
    "            inputs[k] = v.to(device)\n",
    "        labels = labels.to(device)\n",
    "        batch_size = labels.size(0)\n",
    "        with torch.cuda.amp.autocast(enabled=CFG.apex):\n",
    "            y_preds = model(inputs)\n",
    "        loss = criterion(y_preds.view(-1, 1), labels.view(-1, 1))\n",
    "        if CFG.gradient_accumulation_steps > 1:\n",
    "            loss = loss / CFG.gradient_accumulation_steps\n",
    "        losses.update(loss.item(), batch_size)\n",
    "        scaler.scale(loss).backward()\n",
    "        grad_norm = torch.nn.utils.clip_grad_norm_(model.parameters(), CFG.max_grad_norm)\n",
    "        if (step + 1) % CFG.gradient_accumulation_steps == 0:\n",
    "            scaler.step(optimizer)\n",
    "            scaler.update()\n",
    "            optimizer.zero_grad()\n",
    "            global_step += 1\n",
    "            if CFG.batch_scheduler:\n",
    "                scheduler.step()\n",
    "        end = time.time()\n",
    "        if step % CFG.print_freq == 0 or step == (len(train_loader)-1):\n",
    "            print('Epoch: [{0}][{1}/{2}] '\n",
    "                  'Elapsed {remain:s} '\n",
    "                  'Loss: {loss.val:.4f}({loss.avg:.4f}) '\n",
    "                  'Grad: {grad_norm:.4f}  '\n",
    "                  'LR: {lr:.8f}  '\n",
    "                  .format(epoch+1, step, len(train_loader), \n",
    "                          remain=timeSince(start, float(step+1)/len(train_loader)),\n",
    "                          loss=losses,\n",
    "                          grad_norm=grad_norm,\n",
    "                          lr=scheduler.get_lr()[0]))\n",
    "        if CFG.wandb:\n",
    "            wandb.log({f\"[fold{fold}] loss\": losses.val,\n",
    "                       f\"[fold{fold}] lr\": scheduler.get_lr()[0]})\n",
    "    return losses.avg\n",
    "\n",
    "\n",
    "def valid_fn(valid_loader, model, criterion, device):\n",
    "    losses = AverageMeter()\n",
    "    model.eval()\n",
    "    preds = []\n",
    "    start = end = time.time()\n",
    "    for step, (inputs, labels) in enumerate(valid_loader):\n",
    "        for k, v in inputs.items():\n",
    "            inputs[k] = v.to(device)\n",
    "        labels = labels.to(device)\n",
    "        batch_size = labels.size(0)\n",
    "        with torch.no_grad():\n",
    "            y_preds = model(inputs)\n",
    "        loss = criterion(y_preds.view(-1, 1), labels.view(-1, 1))\n",
    "        if CFG.gradient_accumulation_steps > 1:\n",
    "            loss = loss / CFG.gradient_accumulation_steps\n",
    "        losses.update(loss.item(), batch_size)\n",
    "        preds.append(y_preds.sigmoid().to('cpu').numpy())\n",
    "        end = time.time()\n",
    "        if step % CFG.print_freq == 0 or step == (len(valid_loader)-1):\n",
    "            print('EVAL: [{0}/{1}] '\n",
    "                  'Elapsed {remain:s} '\n",
    "                  'Loss: {loss.val:.4f}({loss.avg:.4f}) '\n",
    "                  .format(step, len(valid_loader),\n",
    "                          loss=losses,\n",
    "                          remain=timeSince(start, float(step+1)/len(valid_loader))))\n",
    "    predictions = np.concatenate(preds)\n",
    "    predictions = np.concatenate(predictions)\n",
    "    return losses.avg, predictions\n",
    "\n",
    "\n",
    "def inference_fn(test_loader, model, device):\n",
    "    preds = []\n",
    "    model.eval()\n",
    "    model.to(device)\n",
    "    tk0 = tqdm(test_loader, total=len(test_loader))\n",
    "    for inputs in tk0:\n",
    "        for k, v in inputs.items():\n",
    "            inputs[k] = v.to(device)\n",
    "        with torch.no_grad():\n",
    "            y_preds = model(inputs)\n",
    "        preds.append(y_preds.sigmoid().to('cpu').numpy())\n",
    "    predictions = np.concatenate(preds)\n",
    "    return predictions"
   ]
  },
  {
   "cell_type": "code",
   "execution_count": 26,
   "id": "e3e9d570",
   "metadata": {
    "id": "bed940e1",
    "papermill": {
     "duration": 0.071348,
     "end_time": "2022-03-22T09:40:52.697940",
     "exception": false,
     "start_time": "2022-03-22T09:40:52.626592",
     "status": "completed"
    },
    "tags": []
   },
   "outputs": [],
   "source": [
    "# ====================================================\n",
    "# train loop\n",
    "# ====================================================\n",
    "# def train_loop(folds, fold):\n",
    "def train_loop(train_loader, valid_loader):\n",
    "#     LOGGER.info(f\"========== fold: {fold} training ==========\")\n",
    "\n",
    "#     # ====================================================\n",
    "#     # loader\n",
    "#     # ====================================================\n",
    "#     train_folds = folds[folds['fold'] != fold].reset_index(drop=True)\n",
    "#     valid_folds = folds[folds['fold'] == fold].reset_index(drop=True)\n",
    "#     valid_labels = valid_folds['score'].values\n",
    "    \n",
    "#     train_dataset = TrainDataset(CFG, train_folds)\n",
    "#     valid_dataset = TrainDataset(CFG, valid_folds)\n",
    "\n",
    "#     train_loader = DataLoader(train_dataset,\n",
    "#                               batch_size=CFG.batch_size,\n",
    "#                               shuffle=True,\n",
    "#                               num_workers=CFG.num_workers, pin_memory=True, drop_last=True)\n",
    "#     valid_loader = DataLoader(valid_dataset,\n",
    "#                               batch_size=CFG.batch_size,\n",
    "#                               shuffle=False,\n",
    "#                               num_workers=CFG.num_workers, pin_memory=True, drop_last=False)\n",
    "\n",
    "    # ====================================================\n",
    "    # model & optimizer\n",
    "    # ====================================================\n",
    "    model = CustomModel(CFG, config_path=None, pretrained=True)\n",
    "    torch.save(model.config, OUTPUT_DIR+'config.pth')\n",
    "    model.to(device)\n",
    "    \n",
    "    def get_optimizer_params(model, encoder_lr, decoder_lr, weight_decay=0.0):\n",
    "        param_optimizer = list(model.named_parameters())\n",
    "        no_decay = [\"bias\", \"LayerNorm.bias\", \"LayerNorm.weight\"]\n",
    "        optimizer_parameters = [\n",
    "            {'params': [p for n, p in model.model.named_parameters() if not any(nd in n for nd in no_decay)],\n",
    "             'lr': encoder_lr, 'weight_decay': weight_decay},\n",
    "            {'params': [p for n, p in model.model.named_parameters() if any(nd in n for nd in no_decay)],\n",
    "             'lr': encoder_lr, 'weight_decay': 0.0},\n",
    "            {'params': [p for n, p in model.named_parameters() if \"model\" not in n],\n",
    "             'lr': decoder_lr, 'weight_decay': 0.0}\n",
    "        ]\n",
    "        return optimizer_parameters\n",
    "\n",
    "    optimizer_parameters = get_optimizer_params(model,\n",
    "                                                encoder_lr=CFG.encoder_lr, \n",
    "                                                decoder_lr=CFG.decoder_lr,\n",
    "                                                weight_decay=CFG.weight_decay)\n",
    "    optimizer = AdamW(optimizer_parameters, lr=CFG.encoder_lr, eps=CFG.eps, betas=CFG.betas)\n",
    "    \n",
    "    # ====================================================\n",
    "    # scheduler\n",
    "    # ====================================================\n",
    "    def get_scheduler(cfg, optimizer, num_train_steps):\n",
    "        if cfg.scheduler == 'linear':\n",
    "            scheduler = get_linear_schedule_with_warmup(\n",
    "                optimizer, num_warmup_steps=cfg.num_warmup_steps, num_training_steps=num_train_steps\n",
    "            )\n",
    "        elif cfg.scheduler == 'cosine':\n",
    "            scheduler = get_cosine_schedule_with_warmup(\n",
    "                optimizer, num_warmup_steps=cfg.num_warmup_steps, num_training_steps=num_train_steps, num_cycles=cfg.num_cycles\n",
    "            )\n",
    "        return scheduler\n",
    "    \n",
    "    num_train_steps = int(len(train_folds) / CFG.batch_size * CFG.epochs)\n",
    "    scheduler = get_scheduler(CFG, optimizer, num_train_steps)\n",
    "\n",
    "    # ====================================================\n",
    "    # loop\n",
    "    # ====================================================\n",
    "    criterion = nn.BCEWithLogitsLoss(reduction=\"mean\")\n",
    "    \n",
    "    best_score = 0.\n",
    "\n",
    "    for epoch in range(CFG.epochs):\n",
    "        start_time = time.time()\n",
    "\n",
    "        # train\n",
    "        avg_loss = train_fn(fold, train_loader, model, criterion, optimizer, epoch, scheduler, device)\n",
    "\n",
    "        # eval\n",
    "        avg_val_loss, predictions = valid_fn(valid_loader, model, criterion, device)\n",
    "        \n",
    "        # scoring\n",
    "        score = get_score(valid_labels, predictions)\n",
    "\n",
    "        elapsed = time.time() - start_time\n",
    "\n",
    "        LOGGER.info(f'Epoch {epoch+1} - avg_train_loss: {avg_loss:.4f}  avg_val_loss: {avg_val_loss:.4f}  time: {elapsed:.0f}s')\n",
    "        LOGGER.info(f'Epoch {epoch+1} - Score: {score:.4f}')\n",
    "        if CFG.wandb:\n",
    "            wandb.log({f\"[fold{fold}] epoch\": epoch+1, \n",
    "                       f\"[fold{fold}] avg_train_loss\": avg_loss, \n",
    "                       f\"[fold{fold}] avg_val_loss\": avg_val_loss,\n",
    "                       f\"[fold{fold}] score\": score})\n",
    "        \n",
    "        if best_score < score:\n",
    "            best_score = score\n",
    "            LOGGER.info(f'Epoch {epoch+1} - Save Best Score: {best_score:.4f} Model')\n",
    "            torch.save({'model': model.state_dict(),\n",
    "                        'predictions': predictions},\n",
    "                        OUTPUT_DIR+f\"{CFG.model.replace('/', '-')}_fold{fold}_best.pth\")\n",
    "\n",
    "    predictions = torch.load(OUTPUT_DIR+f\"{CFG.model.replace('/', '-')}_fold{fold}_best.pth\", \n",
    "                             map_location=torch.device('cpu'))['predictions']\n",
    "    valid_folds['pred'] = predictions\n",
    "\n",
    "    torch.cuda.empty_cache()\n",
    "    gc.collect()\n",
    "    \n",
    "    return valid_folds"
   ]
  },
  {
   "cell_type": "code",
   "execution_count": 27,
   "id": "13eeaf68",
   "metadata": {
    "id": "6cc76b1e",
    "papermill": {
     "duration": 30265.411984,
     "end_time": "2022-03-22T18:05:18.155447",
     "exception": false,
     "start_time": "2022-03-22T09:40:52.743463",
     "status": "completed"
    },
    "scrolled": true,
    "tags": []
   },
   "outputs": [
    {
     "name": "stderr",
     "output_type": "stream",
     "text": [
      "========== fold: 0 training ==========\n"
     ]
    },
    {
     "name": "stdout",
     "output_type": "stream",
     "text": [
      "\u001b[38;5;40m========== fold: 0 training ==========\u001b[0m\n"
     ]
    },
    {
     "name": "stderr",
     "output_type": "stream",
     "text": [
      "Some weights of the model checkpoint at bert-base-uncased were not used when initializing BertModel: ['cls.predictions.bias', 'cls.seq_relationship.bias', 'cls.predictions.transform.dense.weight', 'cls.seq_relationship.weight', 'cls.predictions.transform.dense.bias', 'cls.predictions.transform.LayerNorm.weight', 'cls.predictions.transform.LayerNorm.bias', 'cls.predictions.decoder.weight']\n",
      "- This IS expected if you are initializing BertModel from the checkpoint of a model trained on another task or with another architecture (e.g. initializing a BertForSequenceClassification model from a BertForPreTraining model).\n",
      "- This IS NOT expected if you are initializing BertModel from the checkpoint of a model that you expect to be exactly identical (initializing a BertForSequenceClassification model from a BertForSequenceClassification model).\n"
     ]
    },
    {
     "name": "stdout",
     "output_type": "stream",
     "text": [
      "Epoch: [1][0/1709] Elapsed 0m 0s (remain 22m 21s) Loss: 0.6955(0.6955) Grad: 120566.7109  LR: 0.00002000  \n",
      "Epoch: [1][100/1709] Elapsed 0m 15s (remain 4m 10s) Loss: 0.6006(0.6548) Grad: 41878.3750  LR: 0.00002000  \n",
      "Epoch: [1][200/1709] Elapsed 0m 30s (remain 3m 49s) Loss: 0.6907(0.6431) Grad: 94315.6719  LR: 0.00001999  \n",
      "Epoch: [1][300/1709] Elapsed 0m 45s (remain 3m 33s) Loss: 0.5672(0.6350) Grad: 76867.7031  LR: 0.00001998  \n",
      "Epoch: [1][400/1709] Elapsed 1m 0s (remain 3m 17s) Loss: 0.5955(0.6288) Grad: 51155.7969  LR: 0.00001996  \n",
      "Epoch: [1][500/1709] Elapsed 1m 15s (remain 3m 1s) Loss: 0.5978(0.6260) Grad: 47942.7578  LR: 0.00001993  \n",
      "Epoch: [1][600/1709] Elapsed 1m 30s (remain 2m 46s) Loss: 0.5274(0.6193) Grad: 41387.4922  LR: 0.00001990  \n",
      "Epoch: [1][700/1709] Elapsed 1m 45s (remain 2m 31s) Loss: 0.6488(0.6159) Grad: 102521.5000  LR: 0.00001987  \n",
      "Epoch: [1][800/1709] Elapsed 2m 0s (remain 2m 16s) Loss: 0.5644(0.6136) Grad: 77376.9688  LR: 0.00001983  \n",
      "Epoch: [1][900/1709] Elapsed 2m 15s (remain 2m 1s) Loss: 0.5781(0.6115) Grad: 50177.4609  LR: 0.00001979  \n",
      "Epoch: [1][1000/1709] Elapsed 2m 30s (remain 1m 46s) Loss: 0.5758(0.6083) Grad: 75823.4609  LR: 0.00001974  \n",
      "Epoch: [1][1100/1709] Elapsed 2m 45s (remain 1m 31s) Loss: 0.5077(0.6069) Grad: 55874.5078  LR: 0.00001968  \n",
      "Epoch: [1][1200/1709] Elapsed 3m 0s (remain 1m 16s) Loss: 0.5168(0.6040) Grad: 37220.7539  LR: 0.00001962  \n",
      "Epoch: [1][1300/1709] Elapsed 3m 15s (remain 1m 1s) Loss: 0.5113(0.6019) Grad: 80616.2500  LR: 0.00001956  \n",
      "Epoch: [1][1400/1709] Elapsed 3m 30s (remain 0m 46s) Loss: 0.5810(0.5999) Grad: 57180.7500  LR: 0.00001949  \n",
      "Epoch: [1][1500/1709] Elapsed 3m 44s (remain 0m 31s) Loss: 0.6479(0.5981) Grad: 106950.6250  LR: 0.00001941  \n",
      "Epoch: [1][1600/1709] Elapsed 3m 59s (remain 0m 16s) Loss: 0.4833(0.5961) Grad: 82375.9375  LR: 0.00001933  \n",
      "Epoch: [1][1700/1709] Elapsed 4m 14s (remain 0m 1s) Loss: 0.6104(0.5950) Grad: 46531.8477  LR: 0.00001925  \n",
      "Epoch: [1][1708/1709] Elapsed 4m 16s (remain 0m 0s) Loss: 0.6419(0.5948) Grad: 28970.5957  LR: 0.00001924  \n"
     ]
    },
    {
     "name": "stderr",
     "output_type": "stream",
     "text": [
      "[W pthreadpool-cpp.cc:90] Warning: Leaking Caffe2 thread-pool after fork. (function pthreadpool)\n",
      "[W pthreadpool-cpp.cc:90] Warning: Leaking Caffe2 thread-pool after fork. (function pthreadpool)\n"
     ]
    },
    {
     "name": "stdout",
     "output_type": "stream",
     "text": [
      "EVAL: [0/570] Elapsed 0m 0s (remain 1m 37s) Loss: 0.6204(0.6204) \n"
     ]
    },
    {
     "name": "stderr",
     "output_type": "stream",
     "text": [
      "[W pthreadpool-cpp.cc:90] Warning: Leaking Caffe2 thread-pool after fork. (function pthreadpool)\n",
      "[W pthreadpool-cpp.cc:90] Warning: Leaking Caffe2 thread-pool after fork. (function pthreadpool)\n"
     ]
    },
    {
     "name": "stdout",
     "output_type": "stream",
     "text": [
      "EVAL: [100/570] Elapsed 0m 5s (remain 0m 23s) Loss: 0.4968(0.5596) \n",
      "EVAL: [200/570] Elapsed 0m 9s (remain 0m 18s) Loss: 0.5484(0.5594) \n",
      "EVAL: [300/570] Elapsed 0m 14s (remain 0m 13s) Loss: 0.6210(0.5646) \n",
      "EVAL: [400/570] Elapsed 0m 19s (remain 0m 8s) Loss: 0.6486(0.5650) \n",
      "EVAL: [500/570] Elapsed 0m 24s (remain 0m 3s) Loss: 0.6158(0.5656) \n"
     ]
    },
    {
     "name": "stderr",
     "output_type": "stream",
     "text": [
      "Epoch 1 - avg_train_loss: 0.5948  avg_val_loss: 0.5650  time: 284s\n",
      "Epoch 1 - Score: 0.7512\n",
      "Epoch 1 - Save Best Score: 0.7512 Model\n"
     ]
    },
    {
     "name": "stdout",
     "output_type": "stream",
     "text": [
      "EVAL: [569/570] Elapsed 0m 27s (remain 0m 0s) Loss: 0.5522(0.5650) \n"
     ]
    },
    {
     "name": "stderr",
     "output_type": "stream",
     "text": [
      "[W pthreadpool-cpp.cc:90] Warning: Leaking Caffe2 thread-pool after fork. (function pthreadpool)\n",
      "[W pthreadpool-cpp.cc:90] Warning: Leaking Caffe2 thread-pool after fork. (function pthreadpool)\n",
      "[W pthreadpool-cpp.cc:90] Warning: Leaking Caffe2 thread-pool after fork. (function pthreadpool)\n",
      "[W pthreadpool-cpp.cc:90] Warning: Leaking Caffe2 thread-pool after fork. (function pthreadpool)\n"
     ]
    },
    {
     "name": "stdout",
     "output_type": "stream",
     "text": [
      "Epoch: [2][0/1709] Elapsed 0m 0s (remain 7m 12s) Loss: 0.4878(0.4878) Grad: 140226.7969  LR: 0.00001924  \n",
      "Epoch: [2][100/1709] Elapsed 0m 15s (remain 4m 2s) Loss: 0.5624(0.5567) Grad: 88065.3672  LR: 0.00001915  \n",
      "Epoch: [2][200/1709] Elapsed 0m 30s (remain 3m 46s) Loss: 0.5562(0.5545) Grad: 218388.1406  LR: 0.00001905  \n",
      "Epoch: [2][300/1709] Elapsed 0m 45s (remain 3m 31s) Loss: 0.5453(0.5533) Grad: 64983.5312  LR: 0.00001895  \n",
      "Epoch: [2][400/1709] Elapsed 1m 0s (remain 3m 16s) Loss: 0.6294(0.5513) Grad: 110877.2891  LR: 0.00001885  \n",
      "Epoch: [2][500/1709] Elapsed 1m 15s (remain 3m 1s) Loss: 0.6760(0.5485) Grad: 528349.8750  LR: 0.00001874  \n",
      "Epoch: [2][600/1709] Elapsed 1m 30s (remain 2m 45s) Loss: 0.6046(0.5514) Grad: 72929.2344  LR: 0.00001863  \n",
      "Epoch: [2][700/1709] Elapsed 1m 44s (remain 2m 30s) Loss: 0.5447(0.5519) Grad: 239427.9844  LR: 0.00001851  \n",
      "Epoch: [2][800/1709] Elapsed 1m 59s (remain 2m 15s) Loss: 0.5179(0.5531) Grad: 109847.9297  LR: 0.00001838  \n",
      "Epoch: [2][900/1709] Elapsed 2m 14s (remain 2m 0s) Loss: 0.4623(0.5539) Grad: 44243.6133  LR: 0.00001826  \n",
      "Epoch: [2][1000/1709] Elapsed 2m 29s (remain 1m 45s) Loss: 0.5596(0.5535) Grad: 65010.2500  LR: 0.00001812  \n",
      "Epoch: [2][1100/1709] Elapsed 2m 44s (remain 1m 31s) Loss: 0.6513(0.5533) Grad: 59123.4414  LR: 0.00001799  \n",
      "Epoch: [2][1200/1709] Elapsed 2m 59s (remain 1m 16s) Loss: 0.4800(0.5532) Grad: 55493.3594  LR: 0.00001785  \n",
      "Epoch: [2][1300/1709] Elapsed 3m 14s (remain 1m 1s) Loss: 0.5919(0.5536) Grad: 52965.7227  LR: 0.00001770  \n",
      "Epoch: [2][1400/1709] Elapsed 3m 29s (remain 0m 46s) Loss: 0.5633(0.5538) Grad: 41052.9258  LR: 0.00001756  \n",
      "Epoch: [2][1500/1709] Elapsed 3m 44s (remain 0m 31s) Loss: 0.5748(0.5537) Grad: 41423.1133  LR: 0.00001740  \n",
      "Epoch: [2][1600/1709] Elapsed 3m 59s (remain 0m 16s) Loss: 0.5335(0.5538) Grad: 46447.8164  LR: 0.00001725  \n",
      "Epoch: [2][1700/1709] Elapsed 4m 14s (remain 0m 1s) Loss: 0.6542(0.5531) Grad: 71364.7812  LR: 0.00001709  \n",
      "Epoch: [2][1708/1709] Elapsed 4m 15s (remain 0m 0s) Loss: 0.5295(0.5531) Grad: 64994.2383  LR: 0.00001707  \n"
     ]
    },
    {
     "name": "stderr",
     "output_type": "stream",
     "text": [
      "[W pthreadpool-cpp.cc:90] Warning: Leaking Caffe2 thread-pool after fork. (function pthreadpool)\n",
      "[W pthreadpool-cpp.cc:90] Warning: Leaking Caffe2 thread-pool after fork. (function pthreadpool)\n"
     ]
    },
    {
     "name": "stdout",
     "output_type": "stream",
     "text": [
      "EVAL: [0/570] Elapsed 0m 0s (remain 1m 36s) Loss: 0.5680(0.5680) \n"
     ]
    },
    {
     "name": "stderr",
     "output_type": "stream",
     "text": [
      "[W pthreadpool-cpp.cc:90] Warning: Leaking Caffe2 thread-pool after fork. (function pthreadpool)\n",
      "[W pthreadpool-cpp.cc:90] Warning: Leaking Caffe2 thread-pool after fork. (function pthreadpool)\n"
     ]
    },
    {
     "name": "stdout",
     "output_type": "stream",
     "text": [
      "EVAL: [100/570] Elapsed 0m 5s (remain 0m 23s) Loss: 0.4806(0.5546) \n",
      "EVAL: [200/570] Elapsed 0m 9s (remain 0m 18s) Loss: 0.5452(0.5556) \n",
      "EVAL: [300/570] Elapsed 0m 14s (remain 0m 13s) Loss: 0.7246(0.5612) \n",
      "EVAL: [400/570] Elapsed 0m 19s (remain 0m 8s) Loss: 0.6872(0.5606) \n",
      "EVAL: [500/570] Elapsed 0m 24s (remain 0m 3s) Loss: 0.6134(0.5603) \n"
     ]
    },
    {
     "name": "stderr",
     "output_type": "stream",
     "text": [
      "Epoch 2 - avg_train_loss: 0.5531  avg_val_loss: 0.5600  time: 284s\n",
      "Epoch 2 - Score: 0.7791\n",
      "Epoch 2 - Save Best Score: 0.7791 Model\n"
     ]
    },
    {
     "name": "stdout",
     "output_type": "stream",
     "text": [
      "EVAL: [569/570] Elapsed 0m 27s (remain 0m 0s) Loss: 0.5127(0.5600) \n"
     ]
    },
    {
     "name": "stderr",
     "output_type": "stream",
     "text": [
      "[W pthreadpool-cpp.cc:90] Warning: Leaking Caffe2 thread-pool after fork. (function pthreadpool)\n",
      "[W pthreadpool-cpp.cc:90] Warning: Leaking Caffe2 thread-pool after fork. (function pthreadpool)\n",
      "[W pthreadpool-cpp.cc:90] Warning: Leaking Caffe2 thread-pool after fork. (function pthreadpool)\n",
      "[W pthreadpool-cpp.cc:90] Warning: Leaking Caffe2 thread-pool after fork. (function pthreadpool)\n"
     ]
    },
    {
     "name": "stdout",
     "output_type": "stream",
     "text": [
      "Epoch: [3][0/1709] Elapsed 0m 0s (remain 8m 33s) Loss: 0.5803(0.5803) Grad: 69445.7031  LR: 0.00001707  \n",
      "Epoch: [3][100/1709] Elapsed 0m 15s (remain 4m 3s) Loss: 0.4718(0.5256) Grad: 75174.8438  LR: 0.00001691  \n",
      "Epoch: [3][200/1709] Elapsed 0m 30s (remain 3m 46s) Loss: 0.6075(0.5299) Grad: 79598.5234  LR: 0.00001674  \n",
      "Epoch: [3][300/1709] Elapsed 0m 45s (remain 3m 31s) Loss: 0.6440(0.5306) Grad: 79200.1719  LR: 0.00001657  \n",
      "Epoch: [3][400/1709] Elapsed 1m 0s (remain 3m 16s) Loss: 0.5133(0.5325) Grad: 83283.5156  LR: 0.00001639  \n",
      "Epoch: [3][500/1709] Elapsed 1m 15s (remain 3m 1s) Loss: 0.6587(0.5355) Grad: 151885.4531  LR: 0.00001621  \n",
      "Epoch: [3][600/1709] Elapsed 1m 30s (remain 2m 46s) Loss: 0.4830(0.5355) Grad: 52251.5352  LR: 0.00001603  \n",
      "Epoch: [3][700/1709] Elapsed 1m 44s (remain 2m 30s) Loss: 0.4761(0.5344) Grad: 74482.8281  LR: 0.00001585  \n",
      "Epoch: [3][800/1709] Elapsed 1m 59s (remain 2m 15s) Loss: 0.5452(0.5331) Grad: 284964.4375  LR: 0.00001566  \n",
      "Epoch: [3][900/1709] Elapsed 2m 14s (remain 2m 0s) Loss: 0.5097(0.5337) Grad: 113060.8672  LR: 0.00001547  \n",
      "Epoch: [3][1000/1709] Elapsed 2m 29s (remain 1m 45s) Loss: 0.6694(0.5337) Grad: 73059.4453  LR: 0.00001528  \n",
      "Epoch: [3][1100/1709] Elapsed 2m 44s (remain 1m 30s) Loss: 0.5717(0.5346) Grad: 19632.9355  LR: 0.00001508  \n",
      "Epoch: [3][1200/1709] Elapsed 2m 59s (remain 1m 15s) Loss: 0.5255(0.5345) Grad: 52224.6406  LR: 0.00001488  \n",
      "Epoch: [3][1300/1709] Elapsed 3m 14s (remain 1m 1s) Loss: 0.3565(0.5350) Grad: 23313.4629  LR: 0.00001468  \n",
      "Epoch: [3][1400/1709] Elapsed 3m 29s (remain 0m 46s) Loss: 0.4963(0.5347) Grad: 22780.9648  LR: 0.00001447  \n",
      "Epoch: [3][1500/1709] Elapsed 3m 44s (remain 0m 31s) Loss: 0.4928(0.5346) Grad: 24355.8027  LR: 0.00001427  \n",
      "Epoch: [3][1600/1709] Elapsed 3m 59s (remain 0m 16s) Loss: 0.5842(0.5351) Grad: 14650.2705  LR: 0.00001406  \n",
      "Epoch: [3][1700/1709] Elapsed 4m 14s (remain 0m 1s) Loss: 0.5207(0.5360) Grad: 32089.7559  LR: 0.00001385  \n",
      "Epoch: [3][1708/1709] Elapsed 4m 15s (remain 0m 0s) Loss: 0.2961(0.5361) Grad: 25290.5488  LR: 0.00001383  \n"
     ]
    },
    {
     "name": "stderr",
     "output_type": "stream",
     "text": [
      "[W pthreadpool-cpp.cc:90] Warning: Leaking Caffe2 thread-pool after fork. (function pthreadpool)\n",
      "[W pthreadpool-cpp.cc:90] Warning: Leaking Caffe2 thread-pool after fork. (function pthreadpool)\n"
     ]
    },
    {
     "name": "stdout",
     "output_type": "stream",
     "text": [
      "EVAL: [0/570] Elapsed 0m 0s (remain 1m 32s) Loss: 0.5900(0.5900) \n"
     ]
    },
    {
     "name": "stderr",
     "output_type": "stream",
     "text": [
      "[W pthreadpool-cpp.cc:90] Warning: Leaking Caffe2 thread-pool after fork. (function pthreadpool)\n",
      "[W pthreadpool-cpp.cc:90] Warning: Leaking Caffe2 thread-pool after fork. (function pthreadpool)\n"
     ]
    },
    {
     "name": "stdout",
     "output_type": "stream",
     "text": [
      "EVAL: [100/570] Elapsed 0m 4s (remain 0m 23s) Loss: 0.4549(0.5541) \n",
      "EVAL: [200/570] Elapsed 0m 9s (remain 0m 17s) Loss: 0.5386(0.5544) \n",
      "EVAL: [300/570] Elapsed 0m 14s (remain 0m 13s) Loss: 0.7189(0.5592) \n",
      "EVAL: [400/570] Elapsed 0m 19s (remain 0m 8s) Loss: 0.6974(0.5584) \n",
      "EVAL: [500/570] Elapsed 0m 24s (remain 0m 3s) Loss: 0.6001(0.5587) \n"
     ]
    },
    {
     "name": "stderr",
     "output_type": "stream",
     "text": [
      "Epoch 3 - avg_train_loss: 0.5361  avg_val_loss: 0.5590  time: 283s\n",
      "Epoch 3 - Score: 0.7876\n",
      "Epoch 3 - Save Best Score: 0.7876 Model\n"
     ]
    },
    {
     "name": "stdout",
     "output_type": "stream",
     "text": [
      "EVAL: [569/570] Elapsed 0m 27s (remain 0m 0s) Loss: 0.4769(0.5590) \n"
     ]
    },
    {
     "name": "stderr",
     "output_type": "stream",
     "text": [
      "[W pthreadpool-cpp.cc:90] Warning: Leaking Caffe2 thread-pool after fork. (function pthreadpool)\n",
      "[W pthreadpool-cpp.cc:90] Warning: Leaking Caffe2 thread-pool after fork. (function pthreadpool)\n",
      "[W pthreadpool-cpp.cc:90] Warning: Leaking Caffe2 thread-pool after fork. (function pthreadpool)\n",
      "[W pthreadpool-cpp.cc:90] Warning: Leaking Caffe2 thread-pool after fork. (function pthreadpool)\n"
     ]
    },
    {
     "name": "stdout",
     "output_type": "stream",
     "text": [
      "Epoch: [4][0/1709] Elapsed 0m 0s (remain 9m 52s) Loss: 0.5227(0.5227) Grad: 146657.0781  LR: 0.00001383  \n",
      "Epoch: [4][100/1709] Elapsed 0m 15s (remain 4m 3s) Loss: 0.5479(0.5128) Grad: 237608.0312  LR: 0.00001362  \n",
      "Epoch: [4][200/1709] Elapsed 0m 30s (remain 3m 46s) Loss: 0.4818(0.5116) Grad: 128891.7422  LR: 0.00001340  \n",
      "Epoch: [4][300/1709] Elapsed 0m 45s (remain 3m 31s) Loss: 0.4929(0.5140) Grad: 51622.5430  LR: 0.00001318  \n",
      "Epoch: [4][400/1709] Elapsed 1m 0s (remain 3m 15s) Loss: 0.5261(0.5173) Grad: 65766.3516  LR: 0.00001296  \n",
      "Epoch: [4][500/1709] Elapsed 1m 14s (remain 3m 0s) Loss: 0.4180(0.5177) Grad: 90228.6719  LR: 0.00001274  \n",
      "Epoch: [4][600/1709] Elapsed 1m 29s (remain 2m 45s) Loss: 0.5715(0.5171) Grad: 83094.3906  LR: 0.00001252  \n",
      "Epoch: [4][700/1709] Elapsed 1m 44s (remain 2m 30s) Loss: 0.5708(0.5165) Grad: 29171.1484  LR: 0.00001230  \n",
      "Epoch: [4][800/1709] Elapsed 1m 59s (remain 2m 15s) Loss: 0.4115(0.5159) Grad: 85830.8516  LR: 0.00001208  \n",
      "Epoch: [4][900/1709] Elapsed 2m 14s (remain 2m 0s) Loss: 0.5767(0.5158) Grad: 56198.0195  LR: 0.00001185  \n",
      "Epoch: [4][1000/1709] Elapsed 2m 29s (remain 1m 45s) Loss: 0.5045(0.5161) Grad: 71877.6641  LR: 0.00001162  \n",
      "Epoch: [4][1100/1709] Elapsed 2m 44s (remain 1m 30s) Loss: 0.4859(0.5162) Grad: 171095.2188  LR: 0.00001140  \n",
      "Epoch: [4][1200/1709] Elapsed 2m 59s (remain 1m 15s) Loss: 0.4325(0.5164) Grad: 46038.6289  LR: 0.00001117  \n",
      "Epoch: [4][1300/1709] Elapsed 3m 14s (remain 1m 0s) Loss: 0.5646(0.5169) Grad: 63992.8711  LR: 0.00001094  \n",
      "Epoch: [4][1400/1709] Elapsed 3m 29s (remain 0m 46s) Loss: 0.5580(0.5171) Grad: 92484.7422  LR: 0.00001071  \n",
      "Epoch: [4][1500/1709] Elapsed 3m 44s (remain 0m 31s) Loss: 0.5041(0.5173) Grad: 71055.1797  LR: 0.00001048  \n",
      "Epoch: [4][1600/1709] Elapsed 3m 59s (remain 0m 16s) Loss: 0.5677(0.5173) Grad: 98308.7422  LR: 0.00001025  \n",
      "Epoch: [4][1700/1709] Elapsed 4m 14s (remain 0m 1s) Loss: 0.5770(0.5171) Grad: 103006.0859  LR: 0.00001002  \n",
      "Epoch: [4][1708/1709] Elapsed 4m 15s (remain 0m 0s) Loss: 0.4029(0.5170) Grad: 80438.9922  LR: 0.00001001  \n"
     ]
    },
    {
     "name": "stderr",
     "output_type": "stream",
     "text": [
      "[W pthreadpool-cpp.cc:90] Warning: Leaking Caffe2 thread-pool after fork. (function pthreadpool)\n",
      "[W pthreadpool-cpp.cc:90] Warning: Leaking Caffe2 thread-pool after fork. (function pthreadpool)\n"
     ]
    },
    {
     "name": "stdout",
     "output_type": "stream",
     "text": [
      "EVAL: [0/570] Elapsed 0m 0s (remain 1m 32s) Loss: 0.5579(0.5579) \n"
     ]
    },
    {
     "name": "stderr",
     "output_type": "stream",
     "text": [
      "[W pthreadpool-cpp.cc:90] Warning: Leaking Caffe2 thread-pool after fork. (function pthreadpool)\n",
      "[W pthreadpool-cpp.cc:90] Warning: Leaking Caffe2 thread-pool after fork. (function pthreadpool)\n"
     ]
    },
    {
     "name": "stdout",
     "output_type": "stream",
     "text": [
      "EVAL: [100/570] Elapsed 0m 4s (remain 0m 23s) Loss: 0.4496(0.5564) \n",
      "EVAL: [200/570] Elapsed 0m 9s (remain 0m 17s) Loss: 0.5261(0.5575) \n",
      "EVAL: [300/570] Elapsed 0m 14s (remain 0m 13s) Loss: 0.7817(0.5651) \n",
      "EVAL: [400/570] Elapsed 0m 19s (remain 0m 8s) Loss: 0.7087(0.5645) \n",
      "EVAL: [500/570] Elapsed 0m 24s (remain 0m 3s) Loss: 0.5957(0.5638) \n"
     ]
    },
    {
     "name": "stderr",
     "output_type": "stream",
     "text": [
      "Epoch 4 - avg_train_loss: 0.5170  avg_val_loss: 0.5633  time: 283s\n",
      "Epoch 4 - Score: 0.8008\n",
      "Epoch 4 - Save Best Score: 0.8008 Model\n"
     ]
    },
    {
     "name": "stdout",
     "output_type": "stream",
     "text": [
      "EVAL: [569/570] Elapsed 0m 27s (remain 0m 0s) Loss: 0.4831(0.5633) \n"
     ]
    },
    {
     "name": "stderr",
     "output_type": "stream",
     "text": [
      "[W pthreadpool-cpp.cc:90] Warning: Leaking Caffe2 thread-pool after fork. (function pthreadpool)\n",
      "[W pthreadpool-cpp.cc:90] Warning: Leaking Caffe2 thread-pool after fork. (function pthreadpool)\n",
      "[W pthreadpool-cpp.cc:90] Warning: Leaking Caffe2 thread-pool after fork. (function pthreadpool)\n",
      "[W pthreadpool-cpp.cc:90] Warning: Leaking Caffe2 thread-pool after fork. (function pthreadpool)\n"
     ]
    },
    {
     "name": "stdout",
     "output_type": "stream",
     "text": [
      "Epoch: [5][0/1709] Elapsed 0m 0s (remain 10m 34s) Loss: 0.5016(0.5016) Grad: 61587.1562  LR: 0.00001000  \n",
      "Epoch: [5][100/1709] Elapsed 0m 15s (remain 4m 3s) Loss: 0.4474(0.5023) Grad: 22200.4863  LR: 0.00000977  \n",
      "Epoch: [5][200/1709] Elapsed 0m 30s (remain 3m 46s) Loss: 0.5076(0.5061) Grad: 31670.5059  LR: 0.00000954  \n",
      "Epoch: [5][300/1709] Elapsed 0m 45s (remain 3m 31s) Loss: 0.5818(0.5083) Grad: 120873.1719  LR: 0.00000931  \n",
      "Epoch: [5][400/1709] Elapsed 1m 0s (remain 3m 15s) Loss: 0.5545(0.5088) Grad: 98313.3359  LR: 0.00000909  \n",
      "Epoch: [5][500/1709] Elapsed 1m 14s (remain 3m 0s) Loss: 0.5435(0.5078) Grad: 36069.6641  LR: 0.00000886  \n",
      "Epoch: [5][600/1709] Elapsed 1m 29s (remain 2m 45s) Loss: 0.4961(0.5104) Grad: 30686.2227  LR: 0.00000863  \n",
      "Epoch: [5][700/1709] Elapsed 1m 44s (remain 2m 30s) Loss: 0.5592(0.5103) Grad: 96386.0703  LR: 0.00000840  \n",
      "Epoch: [5][800/1709] Elapsed 1m 59s (remain 2m 15s) Loss: 0.3806(0.5111) Grad: 40878.7930  LR: 0.00000818  \n",
      "Epoch: [5][900/1709] Elapsed 2m 14s (remain 2m 0s) Loss: 0.5602(0.5113) Grad: 112626.8203  LR: 0.00000795  \n",
      "Epoch: [5][1000/1709] Elapsed 2m 29s (remain 1m 45s) Loss: 0.5567(0.5110) Grad: 15690.0459  LR: 0.00000773  \n",
      "Epoch: [5][1100/1709] Elapsed 2m 44s (remain 1m 30s) Loss: 0.5517(0.5106) Grad: 47107.6367  LR: 0.00000750  \n",
      "Epoch: [5][1200/1709] Elapsed 2m 59s (remain 1m 15s) Loss: 0.6185(0.5120) Grad: 163218.5625  LR: 0.00000728  \n",
      "Epoch: [5][1300/1709] Elapsed 3m 14s (remain 1m 0s) Loss: 0.6076(0.5122) Grad: 81183.9453  LR: 0.00000706  \n",
      "Epoch: [5][1400/1709] Elapsed 3m 29s (remain 0m 46s) Loss: 0.4188(0.5125) Grad: 17225.7910  LR: 0.00000684  \n",
      "Epoch: [5][1500/1709] Elapsed 3m 44s (remain 0m 31s) Loss: 0.4949(0.5126) Grad: 76385.9766  LR: 0.00000663  \n",
      "Epoch: [5][1600/1709] Elapsed 3m 59s (remain 0m 16s) Loss: 0.5195(0.5123) Grad: 37122.3320  LR: 0.00000641  \n",
      "Epoch: [5][1700/1709] Elapsed 4m 14s (remain 0m 1s) Loss: 0.5302(0.5124) Grad: 56916.7891  LR: 0.00000620  \n",
      "Epoch: [5][1708/1709] Elapsed 4m 15s (remain 0m 0s) Loss: 0.4745(0.5123) Grad: 107135.8672  LR: 0.00000618  \n"
     ]
    },
    {
     "name": "stderr",
     "output_type": "stream",
     "text": [
      "[W pthreadpool-cpp.cc:90] Warning: Leaking Caffe2 thread-pool after fork. (function pthreadpool)\n",
      "[W pthreadpool-cpp.cc:90] Warning: Leaking Caffe2 thread-pool after fork. (function pthreadpool)\n"
     ]
    },
    {
     "name": "stdout",
     "output_type": "stream",
     "text": [
      "EVAL: [0/570] Elapsed 0m 0s (remain 1m 33s) Loss: 0.5573(0.5573) \n"
     ]
    },
    {
     "name": "stderr",
     "output_type": "stream",
     "text": [
      "[W pthreadpool-cpp.cc:90] Warning: Leaking Caffe2 thread-pool after fork. (function pthreadpool)\n",
      "[W pthreadpool-cpp.cc:90] Warning: Leaking Caffe2 thread-pool after fork. (function pthreadpool)\n"
     ]
    },
    {
     "name": "stdout",
     "output_type": "stream",
     "text": [
      "EVAL: [100/570] Elapsed 0m 4s (remain 0m 23s) Loss: 0.4368(0.5692) \n",
      "EVAL: [200/570] Elapsed 0m 9s (remain 0m 17s) Loss: 0.5244(0.5690) \n",
      "EVAL: [300/570] Elapsed 0m 14s (remain 0m 13s) Loss: 0.8757(0.5769) \n",
      "EVAL: [400/570] Elapsed 0m 19s (remain 0m 8s) Loss: 0.7151(0.5762) \n",
      "EVAL: [500/570] Elapsed 0m 24s (remain 0m 3s) Loss: 0.5890(0.5756) \n"
     ]
    },
    {
     "name": "stderr",
     "output_type": "stream",
     "text": [
      "[W pthreadpool-cpp.cc:90] Warning: Leaking Caffe2 thread-pool after fork. (function pthreadpool)\n",
      "Epoch 5 - avg_train_loss: 0.5123  avg_val_loss: 0.5751  time: 283s\n",
      "Epoch 5 - Score: 0.7995\n"
     ]
    },
    {
     "name": "stdout",
     "output_type": "stream",
     "text": [
      "EVAL: [569/570] Elapsed 0m 27s (remain 0m 0s) Loss: 0.4678(0.5751) \n"
     ]
    },
    {
     "name": "stderr",
     "output_type": "stream",
     "text": [
      "[W pthreadpool-cpp.cc:90] Warning: Leaking Caffe2 thread-pool after fork. (function pthreadpool)\n",
      "[W pthreadpool-cpp.cc:90] Warning: Leaking Caffe2 thread-pool after fork. (function pthreadpool)\n",
      "[W pthreadpool-cpp.cc:90] Warning: Leaking Caffe2 thread-pool after fork. (function pthreadpool)\n",
      "[W pthreadpool-cpp.cc:90] Warning: Leaking Caffe2 thread-pool after fork. (function pthreadpool)\n"
     ]
    },
    {
     "name": "stdout",
     "output_type": "stream",
     "text": [
      "Epoch: [6][0/1709] Elapsed 0m 0s (remain 7m 2s) Loss: 0.4435(0.4435) Grad: 119853.3906  LR: 0.00000618  \n",
      "Epoch: [6][100/1709] Elapsed 0m 15s (remain 4m 1s) Loss: 0.5160(0.5122) Grad: 93513.3281  LR: 0.00000597  \n",
      "Epoch: [6][200/1709] Elapsed 0m 30s (remain 3m 45s) Loss: 0.5307(0.5120) Grad: 106294.6484  LR: 0.00000576  \n",
      "Epoch: [6][300/1709] Elapsed 0m 45s (remain 3m 30s) Loss: 0.4818(0.5080) Grad: 62848.4883  LR: 0.00000555  \n",
      "Epoch: [6][400/1709] Elapsed 0m 59s (remain 3m 15s) Loss: 0.6235(0.5079) Grad: 37868.9492  LR: 0.00000535  \n",
      "Epoch: [6][500/1709] Elapsed 1m 14s (remain 3m 0s) Loss: 0.4178(0.5080) Grad: 59171.3242  LR: 0.00000514  \n",
      "Epoch: [6][600/1709] Elapsed 1m 29s (remain 2m 45s) Loss: 0.4712(0.5088) Grad: 290492.5938  LR: 0.00000494  \n",
      "Epoch: [6][700/1709] Elapsed 1m 44s (remain 2m 30s) Loss: 0.5339(0.5089) Grad: 47117.3359  LR: 0.00000475  \n",
      "Epoch: [6][800/1709] Elapsed 1m 59s (remain 2m 15s) Loss: 0.5286(0.5089) Grad: 78153.8516  LR: 0.00000455  \n",
      "Epoch: [6][900/1709] Elapsed 2m 14s (remain 2m 0s) Loss: 0.5285(0.5083) Grad: 35203.8750  LR: 0.00000436  \n",
      "Epoch: [6][1000/1709] Elapsed 2m 29s (remain 1m 45s) Loss: 0.5144(0.5078) Grad: 246173.9531  LR: 0.00000417  \n",
      "Epoch: [6][1100/1709] Elapsed 2m 44s (remain 1m 30s) Loss: 0.5272(0.5060) Grad: 89658.2109  LR: 0.00000399  \n",
      "Epoch: [6][1200/1709] Elapsed 2m 59s (remain 1m 15s) Loss: 0.5733(0.5059) Grad: 29113.5977  LR: 0.00000381  \n",
      "Epoch: [6][1300/1709] Elapsed 3m 14s (remain 1m 0s) Loss: 0.5532(0.5059) Grad: 76686.0156  LR: 0.00000363  \n",
      "Epoch: [6][1400/1709] Elapsed 3m 29s (remain 0m 45s) Loss: 0.3988(0.5052) Grad: 111744.5781  LR: 0.00000345  \n",
      "Epoch: [6][1500/1709] Elapsed 3m 44s (remain 0m 31s) Loss: 0.5894(0.5051) Grad: 108595.2812  LR: 0.00000328  \n",
      "Epoch: [6][1600/1709] Elapsed 3m 59s (remain 0m 16s) Loss: 0.5711(0.5056) Grad: 81111.2109  LR: 0.00000311  \n",
      "Epoch: [6][1700/1709] Elapsed 4m 14s (remain 0m 1s) Loss: 0.3624(0.5049) Grad: 48267.3555  LR: 0.00000295  \n"
     ]
    },
    {
     "name": "stderr",
     "output_type": "stream",
     "text": [
      "[W pthreadpool-cpp.cc:90] Warning: Leaking Caffe2 thread-pool after fork. (function pthreadpool)\n"
     ]
    },
    {
     "name": "stdout",
     "output_type": "stream",
     "text": [
      "Epoch: [6][1708/1709] Elapsed 4m 15s (remain 0m 0s) Loss: 0.5359(0.5049) Grad: 95664.9375  LR: 0.00000294  \n"
     ]
    },
    {
     "name": "stderr",
     "output_type": "stream",
     "text": [
      "[W pthreadpool-cpp.cc:90] Warning: Leaking Caffe2 thread-pool after fork. (function pthreadpool)\n",
      "[W pthreadpool-cpp.cc:90] Warning: Leaking Caffe2 thread-pool after fork. (function pthreadpool)\n"
     ]
    },
    {
     "name": "stdout",
     "output_type": "stream",
     "text": [
      "EVAL: [0/570] Elapsed 0m 0s (remain 1m 37s) Loss: 0.5528(0.5528) \n"
     ]
    },
    {
     "name": "stderr",
     "output_type": "stream",
     "text": [
      "[W pthreadpool-cpp.cc:90] Warning: Leaking Caffe2 thread-pool after fork. (function pthreadpool)\n",
      "[W pthreadpool-cpp.cc:90] Warning: Leaking Caffe2 thread-pool after fork. (function pthreadpool)\n"
     ]
    },
    {
     "name": "stdout",
     "output_type": "stream",
     "text": [
      "EVAL: [100/570] Elapsed 0m 4s (remain 0m 23s) Loss: 0.4369(0.5619) \n",
      "EVAL: [200/570] Elapsed 0m 9s (remain 0m 18s) Loss: 0.5294(0.5628) \n",
      "EVAL: [300/570] Elapsed 0m 14s (remain 0m 13s) Loss: 0.9135(0.5703) \n",
      "EVAL: [400/570] Elapsed 0m 19s (remain 0m 8s) Loss: 0.7157(0.5703) \n",
      "EVAL: [500/570] Elapsed 0m 24s (remain 0m 3s) Loss: 0.5835(0.5700) \n"
     ]
    },
    {
     "name": "stderr",
     "output_type": "stream",
     "text": [
      "Epoch 6 - avg_train_loss: 0.5049  avg_val_loss: 0.5696  time: 283s\n",
      "Epoch 6 - Score: 0.8059\n",
      "Epoch 6 - Save Best Score: 0.8059 Model\n"
     ]
    },
    {
     "name": "stdout",
     "output_type": "stream",
     "text": [
      "EVAL: [569/570] Elapsed 0m 27s (remain 0m 0s) Loss: 0.4727(0.5696) \n"
     ]
    },
    {
     "name": "stderr",
     "output_type": "stream",
     "text": [
      "[W pthreadpool-cpp.cc:90] Warning: Leaking Caffe2 thread-pool after fork. (function pthreadpool)\n",
      "[W pthreadpool-cpp.cc:90] Warning: Leaking Caffe2 thread-pool after fork. (function pthreadpool)\n",
      "[W pthreadpool-cpp.cc:90] Warning: Leaking Caffe2 thread-pool after fork. (function pthreadpool)\n",
      "[W pthreadpool-cpp.cc:90] Warning: Leaking Caffe2 thread-pool after fork. (function pthreadpool)\n"
     ]
    },
    {
     "name": "stdout",
     "output_type": "stream",
     "text": [
      "Epoch: [7][0/1709] Elapsed 0m 0s (remain 7m 15s) Loss: 0.5925(0.5925) Grad: 62431.8242  LR: 0.00000293  \n",
      "Epoch: [7][100/1709] Elapsed 0m 15s (remain 4m 2s) Loss: 0.5228(0.5070) Grad: 34469.6758  LR: 0.00000277  \n",
      "Epoch: [7][200/1709] Elapsed 0m 30s (remain 3m 46s) Loss: 0.5791(0.5055) Grad: 59104.2578  LR: 0.00000262  \n",
      "Epoch: [7][300/1709] Elapsed 0m 45s (remain 3m 30s) Loss: 0.4908(0.5012) Grad: 83504.3047  LR: 0.00000246  \n",
      "Epoch: [7][400/1709] Elapsed 0m 59s (remain 3m 15s) Loss: 0.4472(0.5016) Grad: 47332.3711  LR: 0.00000231  \n",
      "Epoch: [7][500/1709] Elapsed 1m 14s (remain 3m 0s) Loss: 0.5118(0.4990) Grad: 42097.4531  LR: 0.00000217  \n",
      "Epoch: [7][600/1709] Elapsed 1m 29s (remain 2m 45s) Loss: 0.4696(0.4997) Grad: 92726.9375  LR: 0.00000203  \n",
      "Epoch: [7][700/1709] Elapsed 1m 44s (remain 2m 30s) Loss: 0.5725(0.4989) Grad: 24916.9453  LR: 0.00000189  \n",
      "Epoch: [7][800/1709] Elapsed 1m 59s (remain 2m 15s) Loss: 0.4571(0.4993) Grad: 38662.7695  LR: 0.00000176  \n",
      "Epoch: [7][900/1709] Elapsed 2m 14s (remain 2m 0s) Loss: 0.6061(0.5006) Grad: 85879.5469  LR: 0.00000163  \n",
      "Epoch: [7][1000/1709] Elapsed 2m 29s (remain 1m 45s) Loss: 0.5737(0.4999) Grad: 159341.3281  LR: 0.00000151  \n",
      "Epoch: [7][1100/1709] Elapsed 2m 44s (remain 1m 30s) Loss: 0.5002(0.5008) Grad: 68534.8828  LR: 0.00000139  \n",
      "Epoch: [7][1200/1709] Elapsed 2m 59s (remain 1m 15s) Loss: 0.5832(0.5011) Grad: 68729.8750  LR: 0.00000127  \n",
      "Epoch: [7][1300/1709] Elapsed 3m 14s (remain 1m 0s) Loss: 0.4347(0.5008) Grad: 22052.0039  LR: 0.00000116  \n",
      "Epoch: [7][1400/1709] Elapsed 3m 29s (remain 0m 45s) Loss: 0.5389(0.5001) Grad: 20800.6680  LR: 0.00000106  \n",
      "Epoch: [7][1500/1709] Elapsed 3m 44s (remain 0m 31s) Loss: 0.4907(0.5008) Grad: 40936.5625  LR: 0.00000096  \n",
      "Epoch: [7][1600/1709] Elapsed 3m 59s (remain 0m 16s) Loss: 0.4348(0.5003) Grad: 19157.8711  LR: 0.00000086  \n",
      "Epoch: [7][1700/1709] Elapsed 4m 13s (remain 0m 1s) Loss: 0.4152(0.5004) Grad: 80623.5312  LR: 0.00000077  \n",
      "Epoch: [7][1708/1709] Elapsed 4m 15s (remain 0m 0s) Loss: 0.5406(0.5005) Grad: 27254.5410  LR: 0.00000077  \n"
     ]
    },
    {
     "name": "stderr",
     "output_type": "stream",
     "text": [
      "[W pthreadpool-cpp.cc:90] Warning: Leaking Caffe2 thread-pool after fork. (function pthreadpool)\n",
      "[W pthreadpool-cpp.cc:90] Warning: Leaking Caffe2 thread-pool after fork. (function pthreadpool)\n",
      "[W pthreadpool-cpp.cc:90] Warning: Leaking Caffe2 thread-pool after fork. (function pthreadpool)\n",
      "[W pthreadpool-cpp.cc:90] Warning: Leaking Caffe2 thread-pool after fork. (function pthreadpool)\n"
     ]
    },
    {
     "name": "stdout",
     "output_type": "stream",
     "text": [
      "EVAL: [0/570] Elapsed 0m 0s (remain 1m 37s) Loss: 0.5616(0.5616) \n",
      "EVAL: [100/570] Elapsed 0m 4s (remain 0m 23s) Loss: 0.4368(0.5648) \n",
      "EVAL: [200/570] Elapsed 0m 9s (remain 0m 18s) Loss: 0.5269(0.5643) \n",
      "EVAL: [300/570] Elapsed 0m 14s (remain 0m 13s) Loss: 0.9259(0.5734) \n",
      "EVAL: [400/570] Elapsed 0m 19s (remain 0m 8s) Loss: 0.7138(0.5731) \n",
      "EVAL: [500/570] Elapsed 0m 24s (remain 0m 3s) Loss: 0.5854(0.5724) \n"
     ]
    },
    {
     "name": "stderr",
     "output_type": "stream",
     "text": [
      "Epoch 7 - avg_train_loss: 0.5005  avg_val_loss: 0.5722  time: 283s\n",
      "Epoch 7 - Score: 0.8058\n"
     ]
    },
    {
     "name": "stdout",
     "output_type": "stream",
     "text": [
      "EVAL: [569/570] Elapsed 0m 27s (remain 0m 0s) Loss: 0.4719(0.5722) \n"
     ]
    },
    {
     "name": "stderr",
     "output_type": "stream",
     "text": [
      "[W pthreadpool-cpp.cc:90] Warning: Leaking Caffe2 thread-pool after fork. (function pthreadpool)\n",
      "[W pthreadpool-cpp.cc:90] Warning: Leaking Caffe2 thread-pool after fork. (function pthreadpool)\n",
      "[W pthreadpool-cpp.cc:90] Warning: Leaking Caffe2 thread-pool after fork. (function pthreadpool)\n",
      "[W pthreadpool-cpp.cc:90] Warning: Leaking Caffe2 thread-pool after fork. (function pthreadpool)\n"
     ]
    },
    {
     "name": "stdout",
     "output_type": "stream",
     "text": [
      "Epoch: [8][0/1709] Elapsed 0m 0s (remain 7m 4s) Loss: 0.4320(0.4320) Grad: 170058.3281  LR: 0.00000076  \n",
      "Epoch: [8][100/1709] Elapsed 0m 15s (remain 4m 1s) Loss: 0.4767(0.4986) Grad: 55669.3555  LR: 0.00000068  \n",
      "Epoch: [8][200/1709] Elapsed 0m 30s (remain 3m 45s) Loss: 0.5465(0.4983) Grad: 637682.6250  LR: 0.00000060  \n",
      "Epoch: [8][300/1709] Elapsed 0m 45s (remain 3m 30s) Loss: 0.5374(0.4988) Grad: 82828.6484  LR: 0.00000052  \n",
      "Epoch: [8][400/1709] Elapsed 0m 59s (remain 3m 15s) Loss: 0.5343(0.4989) Grad: 80803.2031  LR: 0.00000045  \n",
      "Epoch: [8][500/1709] Elapsed 1m 14s (remain 3m 0s) Loss: 0.5071(0.4980) Grad: 75747.1250  LR: 0.00000039  \n",
      "Epoch: [8][600/1709] Elapsed 1m 29s (remain 2m 45s) Loss: 0.5357(0.5006) Grad: 63418.9766  LR: 0.00000033  \n",
      "Epoch: [8][700/1709] Elapsed 1m 44s (remain 2m 30s) Loss: 0.5031(0.5009) Grad: 23255.4414  LR: 0.00000027  \n",
      "Epoch: [8][800/1709] Elapsed 1m 59s (remain 2m 15s) Loss: 0.5277(0.5015) Grad: 25800.4883  LR: 0.00000022  \n",
      "Epoch: [8][900/1709] Elapsed 2m 14s (remain 2m 0s) Loss: 0.4811(0.5012) Grad: 133053.1562  LR: 0.00000017  \n",
      "Epoch: [8][1000/1709] Elapsed 2m 29s (remain 1m 45s) Loss: 0.5619(0.5017) Grad: 30389.5527  LR: 0.00000013  \n",
      "Epoch: [8][1100/1709] Elapsed 2m 44s (remain 1m 30s) Loss: 0.5140(0.5010) Grad: 627818.3750  LR: 0.00000010  \n",
      "Epoch: [8][1200/1709] Elapsed 2m 59s (remain 1m 15s) Loss: 0.5462(0.5010) Grad: 77200.8359  LR: 0.00000007  \n",
      "Epoch: [8][1300/1709] Elapsed 3m 14s (remain 1m 0s) Loss: 0.4391(0.5007) Grad: 21814.9785  LR: 0.00000004  \n",
      "Epoch: [8][1400/1709] Elapsed 3m 29s (remain 0m 46s) Loss: 0.3898(0.4997) Grad: 61573.8281  LR: 0.00000003  \n",
      "Epoch: [8][1500/1709] Elapsed 3m 44s (remain 0m 31s) Loss: 0.4857(0.4995) Grad: 131647.7812  LR: 0.00000001  \n",
      "Epoch: [8][1600/1709] Elapsed 3m 59s (remain 0m 16s) Loss: 0.5127(0.4994) Grad: 23810.0000  LR: 0.00000000  \n",
      "Epoch: [8][1700/1709] Elapsed 4m 14s (remain 0m 1s) Loss: 0.4859(0.4989) Grad: 56588.2539  LR: 0.00000000  \n"
     ]
    },
    {
     "name": "stderr",
     "output_type": "stream",
     "text": [
      "[W pthreadpool-cpp.cc:90] Warning: Leaking Caffe2 thread-pool after fork. (function pthreadpool)\n"
     ]
    },
    {
     "name": "stdout",
     "output_type": "stream",
     "text": [
      "Epoch: [8][1708/1709] Elapsed 4m 15s (remain 0m 0s) Loss: 0.3840(0.4988) Grad: 15779.1924  LR: 0.00000000  \n"
     ]
    },
    {
     "name": "stderr",
     "output_type": "stream",
     "text": [
      "[W pthreadpool-cpp.cc:90] Warning: Leaking Caffe2 thread-pool after fork. (function pthreadpool)\n",
      "[W pthreadpool-cpp.cc:90] Warning: Leaking Caffe2 thread-pool after fork. (function pthreadpool)\n"
     ]
    },
    {
     "name": "stdout",
     "output_type": "stream",
     "text": [
      "EVAL: [0/570] Elapsed 0m 0s (remain 1m 34s) Loss: 0.5602(0.5602) \n"
     ]
    },
    {
     "name": "stderr",
     "output_type": "stream",
     "text": [
      "[W pthreadpool-cpp.cc:90] Warning: Leaking Caffe2 thread-pool after fork. (function pthreadpool)\n",
      "[W pthreadpool-cpp.cc:90] Warning: Leaking Caffe2 thread-pool after fork. (function pthreadpool)\n"
     ]
    },
    {
     "name": "stdout",
     "output_type": "stream",
     "text": [
      "EVAL: [100/570] Elapsed 0m 4s (remain 0m 23s) Loss: 0.4361(0.5660) \n",
      "EVAL: [200/570] Elapsed 0m 9s (remain 0m 18s) Loss: 0.5271(0.5657) \n",
      "EVAL: [300/570] Elapsed 0m 14s (remain 0m 13s) Loss: 0.9353(0.5745) \n",
      "EVAL: [400/570] Elapsed 0m 19s (remain 0m 8s) Loss: 0.7144(0.5742) \n",
      "EVAL: [500/570] Elapsed 0m 24s (remain 0m 3s) Loss: 0.5848(0.5735) \n"
     ]
    },
    {
     "name": "stderr",
     "output_type": "stream",
     "text": [
      "Epoch 8 - avg_train_loss: 0.4988  avg_val_loss: 0.5732  time: 283s\n",
      "Epoch 8 - Score: 0.8053\n"
     ]
    },
    {
     "name": "stdout",
     "output_type": "stream",
     "text": [
      "EVAL: [569/570] Elapsed 0m 27s (remain 0m 0s) Loss: 0.4714(0.5732) \n"
     ]
    },
    {
     "name": "stderr",
     "output_type": "stream",
     "text": [
      "========== fold: 0 result ==========\n",
      "Score: 0.8059\n",
      "========== fold: 1 training ==========\n"
     ]
    },
    {
     "name": "stdout",
     "output_type": "stream",
     "text": [
      "\u001b[38;5;40m========== fold: 1 training ==========\u001b[0m\n"
     ]
    },
    {
     "name": "stderr",
     "output_type": "stream",
     "text": [
      "Some weights of the model checkpoint at bert-base-uncased were not used when initializing BertModel: ['cls.predictions.bias', 'cls.seq_relationship.bias', 'cls.predictions.transform.dense.weight', 'cls.seq_relationship.weight', 'cls.predictions.transform.dense.bias', 'cls.predictions.transform.LayerNorm.weight', 'cls.predictions.transform.LayerNorm.bias', 'cls.predictions.decoder.weight']\n",
      "- This IS expected if you are initializing BertModel from the checkpoint of a model trained on another task or with another architecture (e.g. initializing a BertForSequenceClassification model from a BertForPreTraining model).\n",
      "- This IS NOT expected if you are initializing BertModel from the checkpoint of a model that you expect to be exactly identical (initializing a BertForSequenceClassification model from a BertForSequenceClassification model).\n",
      "[W pthreadpool-cpp.cc:90] Warning: Leaking Caffe2 thread-pool after fork. (function pthreadpool)\n",
      "[W pthreadpool-cpp.cc:90] Warning: Leaking Caffe2 thread-pool after fork. (function pthreadpool)\n",
      "[W pthreadpool-cpp.cc:90] Warning: Leaking Caffe2 thread-pool after fork. (function pthreadpool)\n",
      "[W pthreadpool-cpp.cc:90] Warning: Leaking Caffe2 thread-pool after fork. (function pthreadpool)\n"
     ]
    },
    {
     "name": "stdout",
     "output_type": "stream",
     "text": [
      "Epoch: [1][0/1709] Elapsed 0m 0s (remain 14m 22s) Loss: 0.6879(0.6879) Grad: 58641.8828  LR: 0.00002000  \n",
      "Epoch: [1][100/1709] Elapsed 0m 15s (remain 4m 5s) Loss: 0.6171(0.6516) Grad: 19591.5156  LR: 0.00002000  \n",
      "Epoch: [1][200/1709] Elapsed 0m 30s (remain 3m 47s) Loss: 0.6152(0.6452) Grad: 101404.4062  LR: 0.00001999  \n",
      "Epoch: [1][300/1709] Elapsed 0m 45s (remain 3m 31s) Loss: 0.5722(0.6392) Grad: 78618.4297  LR: 0.00001998  \n",
      "Epoch: [1][400/1709] Elapsed 1m 0s (remain 3m 16s) Loss: 0.5564(0.6325) Grad: 42624.5195  LR: 0.00001996  \n",
      "Epoch: [1][500/1709] Elapsed 1m 15s (remain 3m 1s) Loss: 0.5603(0.6250) Grad: 65404.1836  LR: 0.00001993  \n",
      "Epoch: [1][600/1709] Elapsed 1m 30s (remain 2m 45s) Loss: 0.6423(0.6207) Grad: 50918.2891  LR: 0.00001990  \n",
      "Epoch: [1][700/1709] Elapsed 1m 44s (remain 2m 30s) Loss: 0.6289(0.6155) Grad: 137335.9531  LR: 0.00001987  \n",
      "Epoch: [1][800/1709] Elapsed 1m 59s (remain 2m 15s) Loss: 0.6057(0.6122) Grad: 169670.7969  LR: 0.00001983  \n",
      "Epoch: [1][900/1709] Elapsed 2m 14s (remain 2m 0s) Loss: 0.5649(0.6080) Grad: 43787.6875  LR: 0.00001979  \n",
      "Epoch: [1][1000/1709] Elapsed 2m 29s (remain 1m 45s) Loss: 0.6997(0.6057) Grad: 223335.9844  LR: 0.00001974  \n",
      "Epoch: [1][1100/1709] Elapsed 2m 44s (remain 1m 30s) Loss: 0.5673(0.6050) Grad: 32021.2246  LR: 0.00001968  \n",
      "Epoch: [1][1200/1709] Elapsed 2m 59s (remain 1m 15s) Loss: 0.7150(0.6028) Grad: 168680.9219  LR: 0.00001962  \n",
      "Epoch: [1][1300/1709] Elapsed 3m 14s (remain 1m 0s) Loss: 0.5568(0.6009) Grad: 51707.5156  LR: 0.00001956  \n",
      "Epoch: [1][1400/1709] Elapsed 3m 29s (remain 0m 46s) Loss: 0.6580(0.5989) Grad: 133561.1562  LR: 0.00001949  \n",
      "Epoch: [1][1500/1709] Elapsed 3m 44s (remain 0m 31s) Loss: 0.5753(0.5979) Grad: 45793.3906  LR: 0.00001941  \n",
      "Epoch: [1][1600/1709] Elapsed 3m 59s (remain 0m 16s) Loss: 0.5743(0.5965) Grad: 54034.8906  LR: 0.00001933  \n",
      "Epoch: [1][1700/1709] Elapsed 4m 14s (remain 0m 1s) Loss: 0.5850(0.5951) Grad: 37354.5039  LR: 0.00001925  \n"
     ]
    },
    {
     "name": "stderr",
     "output_type": "stream",
     "text": [
      "[W pthreadpool-cpp.cc:90] Warning: Leaking Caffe2 thread-pool after fork. (function pthreadpool)\n",
      "[W pthreadpool-cpp.cc:90] Warning: Leaking Caffe2 thread-pool after fork. (function pthreadpool)\n"
     ]
    },
    {
     "name": "stdout",
     "output_type": "stream",
     "text": [
      "Epoch: [1][1708/1709] Elapsed 4m 15s (remain 0m 0s) Loss: 0.5284(0.5949) Grad: 48633.6094  LR: 0.00001924  \n"
     ]
    },
    {
     "name": "stderr",
     "output_type": "stream",
     "text": [
      "[W pthreadpool-cpp.cc:90] Warning: Leaking Caffe2 thread-pool after fork. (function pthreadpool)\n",
      "[W pthreadpool-cpp.cc:90] Warning: Leaking Caffe2 thread-pool after fork. (function pthreadpool)\n",
      "[W pthreadpool-cpp.cc:90] Warning: Leaking Caffe2 thread-pool after fork. (function pthreadpool)\n",
      "[W pthreadpool-cpp.cc:90] Warning: Leaking Caffe2 thread-pool after fork. (function pthreadpool)\n"
     ]
    },
    {
     "name": "stdout",
     "output_type": "stream",
     "text": [
      "EVAL: [0/570] Elapsed 0m 0s (remain 1m 38s) Loss: 0.5304(0.5304) \n",
      "EVAL: [100/570] Elapsed 0m 4s (remain 0m 23s) Loss: 0.5860(0.5557) \n",
      "EVAL: [200/570] Elapsed 0m 9s (remain 0m 18s) Loss: 0.4498(0.5605) \n",
      "EVAL: [300/570] Elapsed 0m 14s (remain 0m 13s) Loss: 0.6641(0.5657) \n",
      "EVAL: [400/570] Elapsed 0m 19s (remain 0m 8s) Loss: 0.5565(0.5680) \n",
      "EVAL: [500/570] Elapsed 0m 24s (remain 0m 3s) Loss: 0.5083(0.5650) \n"
     ]
    },
    {
     "name": "stderr",
     "output_type": "stream",
     "text": [
      "Epoch 1 - avg_train_loss: 0.5949  avg_val_loss: 0.5642  time: 283s\n",
      "Epoch 1 - Score: 0.7483\n",
      "Epoch 1 - Save Best Score: 0.7483 Model\n"
     ]
    },
    {
     "name": "stdout",
     "output_type": "stream",
     "text": [
      "EVAL: [569/570] Elapsed 0m 27s (remain 0m 0s) Loss: 0.4049(0.5642) \n"
     ]
    },
    {
     "name": "stderr",
     "output_type": "stream",
     "text": [
      "[W pthreadpool-cpp.cc:90] Warning: Leaking Caffe2 thread-pool after fork. (function pthreadpool)\n",
      "[W pthreadpool-cpp.cc:90] Warning: Leaking Caffe2 thread-pool after fork. (function pthreadpool)\n",
      "[W pthreadpool-cpp.cc:90] Warning: Leaking Caffe2 thread-pool after fork. (function pthreadpool)\n",
      "[W pthreadpool-cpp.cc:90] Warning: Leaking Caffe2 thread-pool after fork. (function pthreadpool)\n"
     ]
    },
    {
     "name": "stdout",
     "output_type": "stream",
     "text": [
      "Epoch: [2][0/1709] Elapsed 0m 0s (remain 7m 4s) Loss: 0.6225(0.6225) Grad: 70200.0078  LR: 0.00001924  \n",
      "Epoch: [2][100/1709] Elapsed 0m 15s (remain 4m 1s) Loss: 0.6593(0.5414) Grad: 150539.6250  LR: 0.00001915  \n",
      "Epoch: [2][200/1709] Elapsed 0m 30s (remain 3m 45s) Loss: 0.6165(0.5474) Grad: 90151.8438  LR: 0.00001905  \n",
      "Epoch: [2][300/1709] Elapsed 0m 45s (remain 3m 30s) Loss: 0.5392(0.5505) Grad: 104790.3906  LR: 0.00001895  \n",
      "Epoch: [2][400/1709] Elapsed 0m 59s (remain 3m 15s) Loss: 0.4570(0.5523) Grad: 71568.6875  LR: 0.00001885  \n",
      "Epoch: [2][500/1709] Elapsed 1m 14s (remain 3m 0s) Loss: 0.5966(0.5525) Grad: 512344.5312  LR: 0.00001874  \n",
      "Epoch: [2][600/1709] Elapsed 1m 29s (remain 2m 45s) Loss: 0.5310(0.5505) Grad: 88728.5156  LR: 0.00001863  \n",
      "Epoch: [2][700/1709] Elapsed 1m 44s (remain 2m 30s) Loss: 0.4500(0.5503) Grad: 79654.0703  LR: 0.00001851  \n",
      "Epoch: [2][800/1709] Elapsed 1m 59s (remain 2m 15s) Loss: 0.4747(0.5510) Grad: 91657.3125  LR: 0.00001838  \n",
      "Epoch: [2][900/1709] Elapsed 2m 14s (remain 2m 0s) Loss: 0.5549(0.5493) Grad: 137708.9844  LR: 0.00001826  \n",
      "Epoch: [2][1000/1709] Elapsed 2m 29s (remain 1m 45s) Loss: 0.5539(0.5508) Grad: 98739.5625  LR: 0.00001812  \n",
      "Epoch: [2][1100/1709] Elapsed 2m 44s (remain 1m 30s) Loss: 0.6776(0.5505) Grad: 63213.0039  LR: 0.00001799  \n",
      "Epoch: [2][1200/1709] Elapsed 2m 59s (remain 1m 15s) Loss: 0.5070(0.5507) Grad: 45585.2578  LR: 0.00001785  \n",
      "Epoch: [2][1300/1709] Elapsed 3m 14s (remain 1m 0s) Loss: 0.5190(0.5518) Grad: 24633.5859  LR: 0.00001770  \n",
      "Epoch: [2][1400/1709] Elapsed 3m 29s (remain 0m 45s) Loss: 0.4891(0.5511) Grad: 68512.5312  LR: 0.00001756  \n",
      "Epoch: [2][1500/1709] Elapsed 3m 44s (remain 0m 31s) Loss: 0.5129(0.5509) Grad: 161700.9688  LR: 0.00001740  \n",
      "Epoch: [2][1600/1709] Elapsed 3m 59s (remain 0m 16s) Loss: 0.4598(0.5507) Grad: 56701.5547  LR: 0.00001725  \n",
      "Epoch: [2][1700/1709] Elapsed 4m 13s (remain 0m 1s) Loss: 0.5182(0.5506) Grad: 144340.5000  LR: 0.00001709  \n",
      "Epoch: [2][1708/1709] Elapsed 4m 15s (remain 0m 0s) Loss: 0.5316(0.5505) Grad: 51090.1719  LR: 0.00001707  \n"
     ]
    },
    {
     "name": "stderr",
     "output_type": "stream",
     "text": [
      "[W pthreadpool-cpp.cc:90] Warning: Leaking Caffe2 thread-pool after fork. (function pthreadpool)\n",
      "[W pthreadpool-cpp.cc:90] Warning: Leaking Caffe2 thread-pool after fork. (function pthreadpool)\n"
     ]
    },
    {
     "name": "stdout",
     "output_type": "stream",
     "text": [
      "EVAL: [0/570] Elapsed 0m 0s (remain 1m 36s) Loss: 0.4890(0.4890) \n"
     ]
    },
    {
     "name": "stderr",
     "output_type": "stream",
     "text": [
      "[W pthreadpool-cpp.cc:90] Warning: Leaking Caffe2 thread-pool after fork. (function pthreadpool)\n",
      "[W pthreadpool-cpp.cc:90] Warning: Leaking Caffe2 thread-pool after fork. (function pthreadpool)\n"
     ]
    },
    {
     "name": "stdout",
     "output_type": "stream",
     "text": [
      "EVAL: [100/570] Elapsed 0m 4s (remain 0m 23s) Loss: 0.5958(0.5493) \n",
      "EVAL: [200/570] Elapsed 0m 9s (remain 0m 18s) Loss: 0.4199(0.5559) \n",
      "EVAL: [300/570] Elapsed 0m 14s (remain 0m 13s) Loss: 0.6308(0.5605) \n",
      "EVAL: [400/570] Elapsed 0m 19s (remain 0m 8s) Loss: 0.5578(0.5619) \n",
      "EVAL: [500/570] Elapsed 0m 24s (remain 0m 3s) Loss: 0.4724(0.5593) \n"
     ]
    },
    {
     "name": "stderr",
     "output_type": "stream",
     "text": [
      "[W pthreadpool-cpp.cc:90] Warning: Leaking Caffe2 thread-pool after fork. (function pthreadpool)\n",
      "Epoch 2 - avg_train_loss: 0.5505  avg_val_loss: 0.5591  time: 283s\n",
      "Epoch 2 - Score: 0.7796\n",
      "Epoch 2 - Save Best Score: 0.7796 Model\n"
     ]
    },
    {
     "name": "stdout",
     "output_type": "stream",
     "text": [
      "EVAL: [569/570] Elapsed 0m 27s (remain 0m 0s) Loss: 0.5302(0.5591) \n"
     ]
    },
    {
     "name": "stderr",
     "output_type": "stream",
     "text": [
      "[W pthreadpool-cpp.cc:90] Warning: Leaking Caffe2 thread-pool after fork. (function pthreadpool)\n",
      "[W pthreadpool-cpp.cc:90] Warning: Leaking Caffe2 thread-pool after fork. (function pthreadpool)\n",
      "[W pthreadpool-cpp.cc:90] Warning: Leaking Caffe2 thread-pool after fork. (function pthreadpool)\n",
      "[W pthreadpool-cpp.cc:90] Warning: Leaking Caffe2 thread-pool after fork. (function pthreadpool)\n"
     ]
    },
    {
     "name": "stdout",
     "output_type": "stream",
     "text": [
      "Epoch: [3][0/1709] Elapsed 0m 0s (remain 7m 10s) Loss: 0.4802(0.4802) Grad: 96398.3828  LR: 0.00001707  \n",
      "Epoch: [3][100/1709] Elapsed 0m 15s (remain 4m 1s) Loss: 0.5551(0.5249) Grad: 75340.9219  LR: 0.00001691  \n",
      "Epoch: [3][200/1709] Elapsed 0m 30s (remain 3m 46s) Loss: 0.5401(0.5281) Grad: 44148.3164  LR: 0.00001674  \n",
      "Epoch: [3][300/1709] Elapsed 0m 45s (remain 3m 30s) Loss: 0.4520(0.5300) Grad: 94702.6719  LR: 0.00001657  \n",
      "Epoch: [3][400/1709] Elapsed 0m 59s (remain 3m 15s) Loss: 0.5676(0.5298) Grad: 76939.1562  LR: 0.00001639  \n",
      "Epoch: [3][500/1709] Elapsed 1m 14s (remain 3m 0s) Loss: 0.5852(0.5297) Grad: 76430.5547  LR: 0.00001621  \n",
      "Epoch: [3][600/1709] Elapsed 1m 29s (remain 2m 45s) Loss: 0.4791(0.5306) Grad: 93065.2578  LR: 0.00001603  \n",
      "Epoch: [3][700/1709] Elapsed 1m 44s (remain 2m 30s) Loss: 0.4682(0.5326) Grad: 77516.6250  LR: 0.00001585  \n",
      "Epoch: [3][800/1709] Elapsed 1m 59s (remain 2m 15s) Loss: 0.5886(0.5321) Grad: 176078.4531  LR: 0.00001566  \n",
      "Epoch: [3][900/1709] Elapsed 2m 14s (remain 2m 0s) Loss: 0.6462(0.5328) Grad: 109254.4141  LR: 0.00001547  \n",
      "Epoch: [3][1000/1709] Elapsed 2m 29s (remain 1m 45s) Loss: 0.6245(0.5327) Grad: 195514.3594  LR: 0.00001528  \n",
      "Epoch: [3][1100/1709] Elapsed 2m 44s (remain 1m 30s) Loss: 0.5197(0.5323) Grad: 94599.7812  LR: 0.00001508  \n",
      "Epoch: [3][1200/1709] Elapsed 2m 59s (remain 1m 15s) Loss: 0.4585(0.5323) Grad: 58897.0898  LR: 0.00001488  \n",
      "Epoch: [3][1300/1709] Elapsed 3m 14s (remain 1m 0s) Loss: 0.4706(0.5316) Grad: 87768.9453  LR: 0.00001468  \n",
      "Epoch: [3][1400/1709] Elapsed 3m 29s (remain 0m 46s) Loss: 0.5073(0.5311) Grad: 116382.7656  LR: 0.00001447  \n",
      "Epoch: [3][1500/1709] Elapsed 3m 44s (remain 0m 31s) Loss: 0.5500(0.5307) Grad: 159074.4531  LR: 0.00001427  \n",
      "Epoch: [3][1600/1709] Elapsed 3m 59s (remain 0m 16s) Loss: 0.3586(0.5311) Grad: 75633.5156  LR: 0.00001406  \n",
      "Epoch: [3][1700/1709] Elapsed 4m 14s (remain 0m 1s) Loss: 0.5477(0.5309) Grad: 172637.8906  LR: 0.00001385  \n"
     ]
    },
    {
     "name": "stderr",
     "output_type": "stream",
     "text": [
      "[W pthreadpool-cpp.cc:90] Warning: Leaking Caffe2 thread-pool after fork. (function pthreadpool)\n"
     ]
    },
    {
     "name": "stdout",
     "output_type": "stream",
     "text": [
      "Epoch: [3][1708/1709] Elapsed 4m 15s (remain 0m 0s) Loss: 0.6371(0.5310) Grad: 299958.4688  LR: 0.00001383  \n"
     ]
    },
    {
     "name": "stderr",
     "output_type": "stream",
     "text": [
      "[W pthreadpool-cpp.cc:90] Warning: Leaking Caffe2 thread-pool after fork. (function pthreadpool)\n",
      "[W pthreadpool-cpp.cc:90] Warning: Leaking Caffe2 thread-pool after fork. (function pthreadpool)\n"
     ]
    },
    {
     "name": "stdout",
     "output_type": "stream",
     "text": [
      "EVAL: [0/570] Elapsed 0m 0s (remain 1m 36s) Loss: 0.4932(0.4932) \n"
     ]
    },
    {
     "name": "stderr",
     "output_type": "stream",
     "text": [
      "[W pthreadpool-cpp.cc:90] Warning: Leaking Caffe2 thread-pool after fork. (function pthreadpool)\n",
      "[W pthreadpool-cpp.cc:90] Warning: Leaking Caffe2 thread-pool after fork. (function pthreadpool)\n"
     ]
    },
    {
     "name": "stdout",
     "output_type": "stream",
     "text": [
      "EVAL: [100/570] Elapsed 0m 4s (remain 0m 23s) Loss: 0.6052(0.5493) \n",
      "EVAL: [200/570] Elapsed 0m 9s (remain 0m 18s) Loss: 0.3975(0.5536) \n",
      "EVAL: [300/570] Elapsed 0m 14s (remain 0m 13s) Loss: 0.6049(0.5590) \n",
      "EVAL: [400/570] Elapsed 0m 19s (remain 0m 8s) Loss: 0.5958(0.5615) \n",
      "EVAL: [500/570] Elapsed 0m 24s (remain 0m 3s) Loss: 0.5092(0.5586) \n"
     ]
    },
    {
     "name": "stderr",
     "output_type": "stream",
     "text": [
      "Epoch 3 - avg_train_loss: 0.5310  avg_val_loss: 0.5581  time: 283s\n",
      "Epoch 3 - Score: 0.7944\n",
      "Epoch 3 - Save Best Score: 0.7944 Model\n"
     ]
    },
    {
     "name": "stdout",
     "output_type": "stream",
     "text": [
      "EVAL: [569/570] Elapsed 0m 27s (remain 0m 0s) Loss: 0.5221(0.5581) \n"
     ]
    },
    {
     "name": "stderr",
     "output_type": "stream",
     "text": [
      "[W pthreadpool-cpp.cc:90] Warning: Leaking Caffe2 thread-pool after fork. (function pthreadpool)\n",
      "[W pthreadpool-cpp.cc:90] Warning: Leaking Caffe2 thread-pool after fork. (function pthreadpool)\n",
      "[W pthreadpool-cpp.cc:90] Warning: Leaking Caffe2 thread-pool after fork. (function pthreadpool)\n",
      "[W pthreadpool-cpp.cc:90] Warning: Leaking Caffe2 thread-pool after fork. (function pthreadpool)\n"
     ]
    },
    {
     "name": "stdout",
     "output_type": "stream",
     "text": [
      "Epoch: [4][0/1709] Elapsed 0m 0s (remain 10m 30s) Loss: 0.5614(0.5614) Grad: 89561.5078  LR: 0.00001383  \n",
      "Epoch: [4][100/1709] Elapsed 0m 15s (remain 4m 3s) Loss: 0.4547(0.5149) Grad: 452654.1875  LR: 0.00001362  \n",
      "Epoch: [4][200/1709] Elapsed 0m 30s (remain 3m 46s) Loss: 0.5949(0.5197) Grad: 265444.9062  LR: 0.00001340  \n",
      "Epoch: [4][300/1709] Elapsed 0m 45s (remain 3m 31s) Loss: 0.4402(0.5214) Grad: 55599.9961  LR: 0.00001318  \n",
      "Epoch: [4][400/1709] Elapsed 1m 0s (remain 3m 15s) Loss: 0.3672(0.5229) Grad: 81068.3750  LR: 0.00001296  \n",
      "Epoch: [4][500/1709] Elapsed 1m 14s (remain 3m 0s) Loss: 0.5198(0.5196) Grad: 117882.7266  LR: 0.00001274  \n",
      "Epoch: [4][600/1709] Elapsed 1m 29s (remain 2m 45s) Loss: 0.4147(0.5212) Grad: 33622.6367  LR: 0.00001252  \n",
      "Epoch: [4][700/1709] Elapsed 1m 44s (remain 2m 30s) Loss: 0.5184(0.5218) Grad: 102397.7188  LR: 0.00001230  \n",
      "Epoch: [4][800/1709] Elapsed 1m 59s (remain 2m 15s) Loss: 0.5238(0.5213) Grad: 44869.8711  LR: 0.00001208  \n",
      "Epoch: [4][900/1709] Elapsed 2m 14s (remain 2m 0s) Loss: 0.5331(0.5222) Grad: 15606.9639  LR: 0.00001185  \n",
      "Epoch: [4][1000/1709] Elapsed 2m 29s (remain 1m 45s) Loss: 0.5737(0.5236) Grad: 77351.1641  LR: 0.00001162  \n",
      "Epoch: [4][1100/1709] Elapsed 2m 44s (remain 1m 30s) Loss: 0.5706(0.5229) Grad: 71428.4922  LR: 0.00001140  \n",
      "Epoch: [4][1200/1709] Elapsed 2m 59s (remain 1m 15s) Loss: 0.4610(0.5224) Grad: 26457.7070  LR: 0.00001117  \n",
      "Epoch: [4][1300/1709] Elapsed 3m 14s (remain 1m 0s) Loss: 0.6097(0.5225) Grad: 77552.2578  LR: 0.00001094  \n",
      "Epoch: [4][1400/1709] Elapsed 3m 29s (remain 0m 46s) Loss: 0.6130(0.5222) Grad: 20108.1582  LR: 0.00001071  \n",
      "Epoch: [4][1500/1709] Elapsed 3m 44s (remain 0m 31s) Loss: 0.4007(0.5217) Grad: 29383.7676  LR: 0.00001048  \n",
      "Epoch: [4][1600/1709] Elapsed 3m 59s (remain 0m 16s) Loss: 0.5210(0.5221) Grad: 38306.7773  LR: 0.00001025  \n",
      "Epoch: [4][1700/1709] Elapsed 4m 14s (remain 0m 1s) Loss: 0.5587(0.5222) Grad: 64139.8594  LR: 0.00001002  \n",
      "Epoch: [4][1708/1709] Elapsed 4m 15s (remain 0m 0s) Loss: 0.6222(0.5222) Grad: 39432.8672  LR: 0.00001001  \n"
     ]
    },
    {
     "name": "stderr",
     "output_type": "stream",
     "text": [
      "[W pthreadpool-cpp.cc:90] Warning: Leaking Caffe2 thread-pool after fork. (function pthreadpool)\n",
      "[W pthreadpool-cpp.cc:90] Warning: Leaking Caffe2 thread-pool after fork. (function pthreadpool)\n",
      "[W pthreadpool-cpp.cc:90] Warning: Leaking Caffe2 thread-pool after fork. (function pthreadpool)\n",
      "[W pthreadpool-cpp.cc:90] Warning: Leaking Caffe2 thread-pool after fork. (function pthreadpool)\n"
     ]
    },
    {
     "name": "stdout",
     "output_type": "stream",
     "text": [
      "EVAL: [0/570] Elapsed 0m 0s (remain 1m 35s) Loss: 0.5046(0.5046) \n",
      "EVAL: [100/570] Elapsed 0m 4s (remain 0m 23s) Loss: 0.5928(0.5600) \n",
      "EVAL: [200/570] Elapsed 0m 9s (remain 0m 17s) Loss: 0.3913(0.5652) \n",
      "EVAL: [300/570] Elapsed 0m 14s (remain 0m 13s) Loss: 0.6046(0.5671) \n",
      "EVAL: [400/570] Elapsed 0m 19s (remain 0m 8s) Loss: 0.5735(0.5707) \n",
      "EVAL: [500/570] Elapsed 0m 24s (remain 0m 3s) Loss: 0.4703(0.5671) \n"
     ]
    },
    {
     "name": "stderr",
     "output_type": "stream",
     "text": [
      "Epoch 4 - avg_train_loss: 0.5222  avg_val_loss: 0.5664  time: 283s\n",
      "Epoch 4 - Score: 0.7994\n",
      "Epoch 4 - Save Best Score: 0.7994 Model\n"
     ]
    },
    {
     "name": "stdout",
     "output_type": "stream",
     "text": [
      "EVAL: [569/570] Elapsed 0m 27s (remain 0m 0s) Loss: 0.5709(0.5664) \n"
     ]
    },
    {
     "name": "stderr",
     "output_type": "stream",
     "text": [
      "[W pthreadpool-cpp.cc:90] Warning: Leaking Caffe2 thread-pool after fork. (function pthreadpool)\n",
      "[W pthreadpool-cpp.cc:90] Warning: Leaking Caffe2 thread-pool after fork. (function pthreadpool)\n",
      "[W pthreadpool-cpp.cc:90] Warning: Leaking Caffe2 thread-pool after fork. (function pthreadpool)\n",
      "[W pthreadpool-cpp.cc:90] Warning: Leaking Caffe2 thread-pool after fork. (function pthreadpool)\n"
     ]
    },
    {
     "name": "stdout",
     "output_type": "stream",
     "text": [
      "Epoch: [5][0/1709] Elapsed 0m 0s (remain 7m 23s) Loss: 0.5796(0.5796) Grad: 282702.8125  LR: 0.00001000  \n",
      "Epoch: [5][100/1709] Elapsed 0m 15s (remain 4m 2s) Loss: 0.5353(0.5112) Grad: 168579.8281  LR: 0.00000977  \n",
      "Epoch: [5][200/1709] Elapsed 0m 30s (remain 3m 46s) Loss: 0.5003(0.5133) Grad: 51725.7695  LR: 0.00000954  \n",
      "Epoch: [5][300/1709] Elapsed 0m 45s (remain 3m 30s) Loss: 0.5702(0.5127) Grad: 69891.5781  LR: 0.00000931  \n",
      "Epoch: [5][400/1709] Elapsed 1m 0s (remain 3m 15s) Loss: 0.3798(0.5123) Grad: 114130.3828  LR: 0.00000909  \n",
      "Epoch: [5][500/1709] Elapsed 1m 14s (remain 3m 0s) Loss: 0.6265(0.5103) Grad: 47039.3320  LR: 0.00000886  \n",
      "Epoch: [5][600/1709] Elapsed 1m 29s (remain 2m 45s) Loss: 0.6693(0.5105) Grad: 50195.5312  LR: 0.00000863  \n",
      "Epoch: [5][700/1709] Elapsed 1m 44s (remain 2m 30s) Loss: 0.3699(0.5103) Grad: 66390.5547  LR: 0.00000840  \n",
      "Epoch: [5][800/1709] Elapsed 1m 59s (remain 2m 15s) Loss: 0.4937(0.5105) Grad: 71342.9609  LR: 0.00000818  \n",
      "Epoch: [5][900/1709] Elapsed 2m 14s (remain 2m 0s) Loss: 0.5824(0.5114) Grad: 290211.9688  LR: 0.00000795  \n",
      "Epoch: [5][1000/1709] Elapsed 2m 29s (remain 1m 45s) Loss: 0.4629(0.5114) Grad: 22749.6855  LR: 0.00000773  \n",
      "Epoch: [5][1100/1709] Elapsed 2m 44s (remain 1m 30s) Loss: 0.5721(0.5111) Grad: 39733.2773  LR: 0.00000750  \n",
      "Epoch: [5][1200/1709] Elapsed 2m 59s (remain 1m 15s) Loss: 0.4456(0.5104) Grad: 27236.2422  LR: 0.00000728  \n",
      "Epoch: [5][1300/1709] Elapsed 3m 14s (remain 1m 0s) Loss: 0.5473(0.5102) Grad: 203628.7344  LR: 0.00000706  \n",
      "Epoch: [5][1400/1709] Elapsed 3m 29s (remain 0m 46s) Loss: 0.4249(0.5105) Grad: 65838.8594  LR: 0.00000684  \n",
      "Epoch: [5][1500/1709] Elapsed 3m 44s (remain 0m 31s) Loss: 0.5007(0.5105) Grad: 258035.3750  LR: 0.00000663  \n",
      "Epoch: [5][1600/1709] Elapsed 3m 59s (remain 0m 16s) Loss: 0.5981(0.5106) Grad: 25389.9863  LR: 0.00000641  \n",
      "Epoch: [5][1700/1709] Elapsed 4m 14s (remain 0m 1s) Loss: 0.5549(0.5107) Grad: 25889.5898  LR: 0.00000620  \n",
      "Epoch: [5][1708/1709] Elapsed 4m 15s (remain 0m 0s) Loss: 0.3966(0.5107) Grad: 30600.3008  LR: 0.00000618  \n"
     ]
    },
    {
     "name": "stderr",
     "output_type": "stream",
     "text": [
      "[W pthreadpool-cpp.cc:90] Warning: Leaking Caffe2 thread-pool after fork. (function pthreadpool)\n",
      "[W pthreadpool-cpp.cc:90] Warning: Leaking Caffe2 thread-pool after fork. (function pthreadpool)\n",
      "[W pthreadpool-cpp.cc:90] Warning: Leaking Caffe2 thread-pool after fork. (function pthreadpool)\n",
      "[W pthreadpool-cpp.cc:90] Warning: Leaking Caffe2 thread-pool after fork. (function pthreadpool)\n"
     ]
    },
    {
     "name": "stdout",
     "output_type": "stream",
     "text": [
      "EVAL: [0/570] Elapsed 0m 0s (remain 1m 36s) Loss: 0.4979(0.4979) \n",
      "EVAL: [100/570] Elapsed 0m 4s (remain 0m 23s) Loss: 0.5980(0.5595) \n",
      "EVAL: [200/570] Elapsed 0m 9s (remain 0m 18s) Loss: 0.3931(0.5633) \n",
      "EVAL: [300/570] Elapsed 0m 14s (remain 0m 13s) Loss: 0.6137(0.5661) \n",
      "EVAL: [400/570] Elapsed 0m 19s (remain 0m 8s) Loss: 0.5930(0.5699) \n",
      "EVAL: [500/570] Elapsed 0m 24s (remain 0m 3s) Loss: 0.5057(0.5674) \n"
     ]
    },
    {
     "name": "stderr",
     "output_type": "stream",
     "text": [
      "Epoch 5 - avg_train_loss: 0.5107  avg_val_loss: 0.5665  time: 283s\n",
      "Epoch 5 - Score: 0.8017\n",
      "Epoch 5 - Save Best Score: 0.8017 Model\n"
     ]
    },
    {
     "name": "stdout",
     "output_type": "stream",
     "text": [
      "EVAL: [569/570] Elapsed 0m 27s (remain 0m 0s) Loss: 0.5840(0.5665) \n"
     ]
    },
    {
     "name": "stderr",
     "output_type": "stream",
     "text": [
      "[W pthreadpool-cpp.cc:90] Warning: Leaking Caffe2 thread-pool after fork. (function pthreadpool)\n",
      "[W pthreadpool-cpp.cc:90] Warning: Leaking Caffe2 thread-pool after fork. (function pthreadpool)\n",
      "[W pthreadpool-cpp.cc:90] Warning: Leaking Caffe2 thread-pool after fork. (function pthreadpool)\n",
      "[W pthreadpool-cpp.cc:90] Warning: Leaking Caffe2 thread-pool after fork. (function pthreadpool)\n"
     ]
    },
    {
     "name": "stdout",
     "output_type": "stream",
     "text": [
      "Epoch: [6][0/1709] Elapsed 0m 0s (remain 7m 7s) Loss: 0.6077(0.6077) Grad: 55230.3164  LR: 0.00000618  \n",
      "Epoch: [6][100/1709] Elapsed 0m 15s (remain 4m 1s) Loss: 0.5541(0.4963) Grad: 398125.4375  LR: 0.00000597  \n",
      "Epoch: [6][200/1709] Elapsed 0m 30s (remain 3m 45s) Loss: 0.5254(0.5050) Grad: 87080.7422  LR: 0.00000576  \n",
      "Epoch: [6][300/1709] Elapsed 0m 45s (remain 3m 30s) Loss: 0.5624(0.5082) Grad: 141735.8125  LR: 0.00000555  \n",
      "Epoch: [6][400/1709] Elapsed 0m 59s (remain 3m 15s) Loss: 0.5700(0.5098) Grad: 35196.0469  LR: 0.00000535  \n",
      "Epoch: [6][500/1709] Elapsed 1m 14s (remain 3m 0s) Loss: 0.5428(0.5077) Grad: 147955.6875  LR: 0.00000514  \n",
      "Epoch: [6][600/1709] Elapsed 1m 29s (remain 2m 45s) Loss: 0.5465(0.5066) Grad: 284130.0938  LR: 0.00000494  \n",
      "Epoch: [6][700/1709] Elapsed 1m 44s (remain 2m 30s) Loss: 0.3557(0.5061) Grad: 71730.8281  LR: 0.00000475  \n",
      "Epoch: [6][800/1709] Elapsed 1m 59s (remain 2m 15s) Loss: 0.5584(0.5074) Grad: 160016.7344  LR: 0.00000455  \n",
      "Epoch: [6][900/1709] Elapsed 2m 14s (remain 2m 0s) Loss: 0.5541(0.5063) Grad: 424082.0312  LR: 0.00000436  \n",
      "Epoch: [6][1000/1709] Elapsed 2m 29s (remain 1m 45s) Loss: 0.5323(0.5048) Grad: 16453.6055  LR: 0.00000417  \n",
      "Epoch: [6][1100/1709] Elapsed 2m 44s (remain 1m 30s) Loss: 0.4942(0.5056) Grad: 84777.4922  LR: 0.00000399  \n",
      "Epoch: [6][1200/1709] Elapsed 2m 59s (remain 1m 15s) Loss: 0.4805(0.5051) Grad: 32989.4141  LR: 0.00000381  \n",
      "Epoch: [6][1300/1709] Elapsed 3m 14s (remain 1m 0s) Loss: 0.4654(0.5044) Grad: 34179.3164  LR: 0.00000363  \n",
      "Epoch: [6][1400/1709] Elapsed 3m 29s (remain 0m 45s) Loss: 0.4984(0.5050) Grad: 24857.8594  LR: 0.00000345  \n",
      "Epoch: [6][1500/1709] Elapsed 3m 44s (remain 0m 31s) Loss: 0.5584(0.5049) Grad: 27983.8301  LR: 0.00000328  \n",
      "Epoch: [6][1600/1709] Elapsed 3m 59s (remain 0m 16s) Loss: 0.4133(0.5047) Grad: 24378.6211  LR: 0.00000311  \n",
      "Epoch: [6][1700/1709] Elapsed 4m 13s (remain 0m 1s) Loss: 0.5706(0.5045) Grad: 35176.6758  LR: 0.00000295  \n",
      "Epoch: [6][1708/1709] Elapsed 4m 15s (remain 0m 0s) Loss: 0.4822(0.5044) Grad: 32772.0742  LR: 0.00000294  \n"
     ]
    },
    {
     "name": "stderr",
     "output_type": "stream",
     "text": [
      "[W pthreadpool-cpp.cc:90] Warning: Leaking Caffe2 thread-pool after fork. (function pthreadpool)\n",
      "[W pthreadpool-cpp.cc:90] Warning: Leaking Caffe2 thread-pool after fork. (function pthreadpool)\n",
      "[W pthreadpool-cpp.cc:90] Warning: Leaking Caffe2 thread-pool after fork. (function pthreadpool)\n",
      "[W pthreadpool-cpp.cc:90] Warning: Leaking Caffe2 thread-pool after fork. (function pthreadpool)\n"
     ]
    },
    {
     "name": "stdout",
     "output_type": "stream",
     "text": [
      "EVAL: [0/570] Elapsed 0m 0s (remain 1m 37s) Loss: 0.4893(0.4893) \n",
      "EVAL: [100/570] Elapsed 0m 4s (remain 0m 23s) Loss: 0.5937(0.5583) \n",
      "EVAL: [200/570] Elapsed 0m 9s (remain 0m 18s) Loss: 0.3767(0.5629) \n",
      "EVAL: [300/570] Elapsed 0m 14s (remain 0m 13s) Loss: 0.6116(0.5669) \n",
      "EVAL: [400/570] Elapsed 0m 19s (remain 0m 8s) Loss: 0.5905(0.5707) \n",
      "EVAL: [500/570] Elapsed 0m 24s (remain 0m 3s) Loss: 0.4906(0.5674) \n"
     ]
    },
    {
     "name": "stderr",
     "output_type": "stream",
     "text": [
      "Epoch 6 - avg_train_loss: 0.5044  avg_val_loss: 0.5663  time: 283s\n",
      "Epoch 6 - Score: 0.8074\n",
      "Epoch 6 - Save Best Score: 0.8074 Model\n"
     ]
    },
    {
     "name": "stdout",
     "output_type": "stream",
     "text": [
      "EVAL: [569/570] Elapsed 0m 27s (remain 0m 0s) Loss: 0.5554(0.5663) \n"
     ]
    },
    {
     "name": "stderr",
     "output_type": "stream",
     "text": [
      "[W pthreadpool-cpp.cc:90] Warning: Leaking Caffe2 thread-pool after fork. (function pthreadpool)\n",
      "[W pthreadpool-cpp.cc:90] Warning: Leaking Caffe2 thread-pool after fork. (function pthreadpool)\n",
      "[W pthreadpool-cpp.cc:90] Warning: Leaking Caffe2 thread-pool after fork. (function pthreadpool)\n",
      "[W pthreadpool-cpp.cc:90] Warning: Leaking Caffe2 thread-pool after fork. (function pthreadpool)\n"
     ]
    },
    {
     "name": "stdout",
     "output_type": "stream",
     "text": [
      "Epoch: [7][0/1709] Elapsed 0m 0s (remain 10m 41s) Loss: 0.4651(0.4651) Grad: 221489.7812  LR: 0.00000293  \n",
      "Epoch: [7][100/1709] Elapsed 0m 15s (remain 4m 4s) Loss: 0.4435(0.4818) Grad: 71638.8516  LR: 0.00000277  \n",
      "Epoch: [7][200/1709] Elapsed 0m 30s (remain 3m 47s) Loss: 0.4333(0.4916) Grad: 107364.2891  LR: 0.00000262  \n",
      "Epoch: [7][300/1709] Elapsed 0m 45s (remain 3m 31s) Loss: 0.6699(0.4954) Grad: 640933.7500  LR: 0.00000246  \n",
      "Epoch: [7][400/1709] Elapsed 1m 0s (remain 3m 16s) Loss: 0.5639(0.4958) Grad: 71787.3047  LR: 0.00000231  \n",
      "Epoch: [7][500/1709] Elapsed 1m 15s (remain 3m 0s) Loss: 0.5086(0.4991) Grad: 68383.3125  LR: 0.00000217  \n",
      "Epoch: [7][600/1709] Elapsed 1m 29s (remain 2m 45s) Loss: 0.4469(0.5015) Grad: 53592.8359  LR: 0.00000203  \n",
      "Epoch: [7][700/1709] Elapsed 1m 44s (remain 2m 30s) Loss: 0.4376(0.5013) Grad: 159649.8438  LR: 0.00000189  \n",
      "Epoch: [7][800/1709] Elapsed 1m 59s (remain 2m 15s) Loss: 0.5049(0.5001) Grad: 81625.9609  LR: 0.00000176  \n",
      "Epoch: [7][900/1709] Elapsed 2m 14s (remain 2m 0s) Loss: 0.3465(0.4984) Grad: 66078.2969  LR: 0.00000163  \n",
      "Epoch: [7][1000/1709] Elapsed 2m 29s (remain 1m 45s) Loss: 0.5637(0.4987) Grad: 53631.0000  LR: 0.00000151  \n",
      "Epoch: [7][1100/1709] Elapsed 2m 44s (remain 1m 30s) Loss: 0.4818(0.4996) Grad: 39419.7305  LR: 0.00000139  \n",
      "Epoch: [7][1200/1709] Elapsed 2m 59s (remain 1m 15s) Loss: 0.4851(0.4991) Grad: 24897.1680  LR: 0.00000127  \n",
      "Epoch: [7][1300/1709] Elapsed 3m 14s (remain 1m 0s) Loss: 0.5607(0.5005) Grad: 16343.4551  LR: 0.00000116  \n",
      "Epoch: [7][1400/1709] Elapsed 3m 29s (remain 0m 46s) Loss: 0.4884(0.5005) Grad: 105342.6797  LR: 0.00000106  \n",
      "Epoch: [7][1500/1709] Elapsed 3m 44s (remain 0m 31s) Loss: 0.5242(0.5005) Grad: 20564.4238  LR: 0.00000096  \n",
      "Epoch: [7][1600/1709] Elapsed 3m 59s (remain 0m 16s) Loss: 0.5802(0.5010) Grad: 42684.0000  LR: 0.00000086  \n",
      "Epoch: [7][1700/1709] Elapsed 4m 14s (remain 0m 1s) Loss: 0.4101(0.5009) Grad: 26295.7949  LR: 0.00000077  \n",
      "Epoch: [7][1708/1709] Elapsed 4m 15s (remain 0m 0s) Loss: 0.4359(0.5009) Grad: 26102.0488  LR: 0.00000077  \n"
     ]
    },
    {
     "name": "stderr",
     "output_type": "stream",
     "text": [
      "[W pthreadpool-cpp.cc:90] Warning: Leaking Caffe2 thread-pool after fork. (function pthreadpool)\n",
      "[W pthreadpool-cpp.cc:90] Warning: Leaking Caffe2 thread-pool after fork. (function pthreadpool)\n",
      "[W pthreadpool-cpp.cc:90] Warning: Leaking Caffe2 thread-pool after fork. (function pthreadpool)\n",
      "[W pthreadpool-cpp.cc:90] Warning: Leaking Caffe2 thread-pool after fork. (function pthreadpool)\n"
     ]
    },
    {
     "name": "stdout",
     "output_type": "stream",
     "text": [
      "EVAL: [0/570] Elapsed 0m 0s (remain 1m 37s) Loss: 0.4886(0.4886) \n",
      "EVAL: [100/570] Elapsed 0m 4s (remain 0m 23s) Loss: 0.5926(0.5620) \n",
      "EVAL: [200/570] Elapsed 0m 9s (remain 0m 18s) Loss: 0.3788(0.5656) \n",
      "EVAL: [300/570] Elapsed 0m 14s (remain 0m 13s) Loss: 0.6087(0.5697) \n",
      "EVAL: [400/570] Elapsed 0m 19s (remain 0m 8s) Loss: 0.5939(0.5731) \n",
      "EVAL: [500/570] Elapsed 0m 24s (remain 0m 3s) Loss: 0.4825(0.5703) \n"
     ]
    },
    {
     "name": "stderr",
     "output_type": "stream",
     "text": [
      "Epoch 7 - avg_train_loss: 0.5009  avg_val_loss: 0.5692  time: 283s\n",
      "Epoch 7 - Score: 0.8082\n",
      "Epoch 7 - Save Best Score: 0.8082 Model\n"
     ]
    },
    {
     "name": "stdout",
     "output_type": "stream",
     "text": [
      "EVAL: [569/570] Elapsed 0m 27s (remain 0m 0s) Loss: 0.5973(0.5692) \n"
     ]
    },
    {
     "name": "stderr",
     "output_type": "stream",
     "text": [
      "[W pthreadpool-cpp.cc:90] Warning: Leaking Caffe2 thread-pool after fork. (function pthreadpool)\n",
      "[W pthreadpool-cpp.cc:90] Warning: Leaking Caffe2 thread-pool after fork. (function pthreadpool)\n",
      "[W pthreadpool-cpp.cc:90] Warning: Leaking Caffe2 thread-pool after fork. (function pthreadpool)\n",
      "[W pthreadpool-cpp.cc:90] Warning: Leaking Caffe2 thread-pool after fork. (function pthreadpool)\n"
     ]
    },
    {
     "name": "stdout",
     "output_type": "stream",
     "text": [
      "Epoch: [8][0/1709] Elapsed 0m 0s (remain 8m 44s) Loss: 0.4494(0.4494) Grad: 70605.0469  LR: 0.00000076  \n",
      "Epoch: [8][100/1709] Elapsed 0m 15s (remain 4m 2s) Loss: 0.5718(0.4887) Grad: 51831.2930  LR: 0.00000068  \n",
      "Epoch: [8][200/1709] Elapsed 0m 30s (remain 3m 46s) Loss: 0.5674(0.4977) Grad: 61292.6133  LR: 0.00000060  \n",
      "Epoch: [8][300/1709] Elapsed 0m 45s (remain 3m 31s) Loss: 0.3693(0.4956) Grad: 16927.4277  LR: 0.00000052  \n",
      "Epoch: [8][400/1709] Elapsed 1m 0s (remain 3m 15s) Loss: 0.5220(0.4939) Grad: 158214.2031  LR: 0.00000045  \n",
      "Epoch: [8][500/1709] Elapsed 1m 14s (remain 3m 0s) Loss: 0.4966(0.4948) Grad: 113456.3672  LR: 0.00000039  \n",
      "Epoch: [8][600/1709] Elapsed 1m 29s (remain 2m 45s) Loss: 0.4457(0.4974) Grad: 84617.1406  LR: 0.00000033  \n",
      "Epoch: [8][700/1709] Elapsed 1m 44s (remain 2m 30s) Loss: 0.4989(0.4998) Grad: 151141.0156  LR: 0.00000027  \n",
      "Epoch: [8][800/1709] Elapsed 1m 59s (remain 2m 15s) Loss: 0.4765(0.4999) Grad: 121311.3281  LR: 0.00000022  \n",
      "Epoch: [8][900/1709] Elapsed 2m 14s (remain 2m 0s) Loss: 0.5766(0.5008) Grad: 172171.6875  LR: 0.00000017  \n",
      "Epoch: [8][1000/1709] Elapsed 2m 29s (remain 1m 45s) Loss: 0.5227(0.4995) Grad: 52136.9297  LR: 0.00000013  \n",
      "Epoch: [8][1100/1709] Elapsed 2m 44s (remain 1m 30s) Loss: 0.4718(0.4989) Grad: 891976.4375  LR: 0.00000010  \n",
      "Epoch: [8][1200/1709] Elapsed 2m 59s (remain 1m 15s) Loss: 0.4437(0.4986) Grad: 187325.5781  LR: 0.00000007  \n",
      "Epoch: [8][1300/1709] Elapsed 3m 14s (remain 1m 0s) Loss: 0.5343(0.4993) Grad: 55472.3789  LR: 0.00000004  \n",
      "Epoch: [8][1400/1709] Elapsed 3m 29s (remain 0m 46s) Loss: 0.4612(0.4980) Grad: 148544.2344  LR: 0.00000003  \n",
      "Epoch: [8][1500/1709] Elapsed 3m 44s (remain 0m 31s) Loss: 0.5262(0.4974) Grad: 47657.7695  LR: 0.00000001  \n",
      "Epoch: [8][1600/1709] Elapsed 3m 59s (remain 0m 16s) Loss: 0.5276(0.4983) Grad: 180219.5000  LR: 0.00000000  \n",
      "Epoch: [8][1700/1709] Elapsed 4m 14s (remain 0m 1s) Loss: 0.5236(0.4989) Grad: 44354.2539  LR: 0.00000000  \n"
     ]
    },
    {
     "name": "stderr",
     "output_type": "stream",
     "text": [
      "[W pthreadpool-cpp.cc:90] Warning: Leaking Caffe2 thread-pool after fork. (function pthreadpool)\n"
     ]
    },
    {
     "name": "stdout",
     "output_type": "stream",
     "text": [
      "Epoch: [8][1708/1709] Elapsed 4m 15s (remain 0m 0s) Loss: 0.4756(0.4989) Grad: 54425.4492  LR: 0.00000000  \n"
     ]
    },
    {
     "name": "stderr",
     "output_type": "stream",
     "text": [
      "[W pthreadpool-cpp.cc:90] Warning: Leaking Caffe2 thread-pool after fork. (function pthreadpool)\n",
      "[W pthreadpool-cpp.cc:90] Warning: Leaking Caffe2 thread-pool after fork. (function pthreadpool)\n"
     ]
    },
    {
     "name": "stdout",
     "output_type": "stream",
     "text": [
      "EVAL: [0/570] Elapsed 0m 0s (remain 1m 37s) Loss: 0.4888(0.4888) \n"
     ]
    },
    {
     "name": "stderr",
     "output_type": "stream",
     "text": [
      "[W pthreadpool-cpp.cc:90] Warning: Leaking Caffe2 thread-pool after fork. (function pthreadpool)\n",
      "[W pthreadpool-cpp.cc:90] Warning: Leaking Caffe2 thread-pool after fork. (function pthreadpool)\n"
     ]
    },
    {
     "name": "stdout",
     "output_type": "stream",
     "text": [
      "EVAL: [100/570] Elapsed 0m 4s (remain 0m 23s) Loss: 0.5899(0.5635) \n",
      "EVAL: [200/570] Elapsed 0m 9s (remain 0m 18s) Loss: 0.3772(0.5675) \n",
      "EVAL: [300/570] Elapsed 0m 14s (remain 0m 13s) Loss: 0.6075(0.5717) \n",
      "EVAL: [400/570] Elapsed 0m 19s (remain 0m 8s) Loss: 0.5899(0.5755) \n",
      "EVAL: [500/570] Elapsed 0m 24s (remain 0m 3s) Loss: 0.4797(0.5724) \n"
     ]
    },
    {
     "name": "stderr",
     "output_type": "stream",
     "text": [
      "Epoch 8 - avg_train_loss: 0.4989  avg_val_loss: 0.5713  time: 283s\n",
      "Epoch 8 - Score: 0.8082\n",
      "Epoch 8 - Save Best Score: 0.8082 Model\n"
     ]
    },
    {
     "name": "stdout",
     "output_type": "stream",
     "text": [
      "EVAL: [569/570] Elapsed 0m 27s (remain 0m 0s) Loss: 0.5999(0.5713) \n"
     ]
    },
    {
     "name": "stderr",
     "output_type": "stream",
     "text": [
      "========== fold: 1 result ==========\n",
      "Score: 0.8082\n",
      "========== fold: 2 training ==========\n"
     ]
    },
    {
     "name": "stdout",
     "output_type": "stream",
     "text": [
      "\u001b[38;5;40m========== fold: 2 training ==========\u001b[0m\n"
     ]
    },
    {
     "name": "stderr",
     "output_type": "stream",
     "text": [
      "Some weights of the model checkpoint at bert-base-uncased were not used when initializing BertModel: ['cls.predictions.bias', 'cls.seq_relationship.bias', 'cls.predictions.transform.dense.weight', 'cls.seq_relationship.weight', 'cls.predictions.transform.dense.bias', 'cls.predictions.transform.LayerNorm.weight', 'cls.predictions.transform.LayerNorm.bias', 'cls.predictions.decoder.weight']\n",
      "- This IS expected if you are initializing BertModel from the checkpoint of a model trained on another task or with another architecture (e.g. initializing a BertForSequenceClassification model from a BertForPreTraining model).\n",
      "- This IS NOT expected if you are initializing BertModel from the checkpoint of a model that you expect to be exactly identical (initializing a BertForSequenceClassification model from a BertForSequenceClassification model).\n",
      "[W pthreadpool-cpp.cc:90] Warning: Leaking Caffe2 thread-pool after fork. (function pthreadpool)\n",
      "[W pthreadpool-cpp.cc:90] Warning: Leaking Caffe2 thread-pool after fork. (function pthreadpool)\n",
      "[W pthreadpool-cpp.cc:90] Warning: Leaking Caffe2 thread-pool after fork. (function pthreadpool)\n",
      "[W pthreadpool-cpp.cc:90] Warning: Leaking Caffe2 thread-pool after fork. (function pthreadpool)\n"
     ]
    },
    {
     "name": "stdout",
     "output_type": "stream",
     "text": [
      "Epoch: [1][0/1709] Elapsed 0m 0s (remain 13m 0s) Loss: 0.7193(0.7193) Grad: inf  LR: 0.00002000  \n",
      "Epoch: [1][100/1709] Elapsed 0m 15s (remain 4m 4s) Loss: 0.6288(0.6608) Grad: 16054.1934  LR: 0.00002000  \n",
      "Epoch: [1][200/1709] Elapsed 0m 30s (remain 3m 47s) Loss: 0.6967(0.6505) Grad: 56937.4336  LR: 0.00001999  \n",
      "Epoch: [1][300/1709] Elapsed 0m 45s (remain 3m 31s) Loss: 0.6314(0.6387) Grad: 71789.9297  LR: 0.00001998  \n",
      "Epoch: [1][400/1709] Elapsed 1m 0s (remain 3m 16s) Loss: 0.5781(0.6321) Grad: 127232.6328  LR: 0.00001996  \n",
      "Epoch: [1][500/1709] Elapsed 1m 15s (remain 3m 0s) Loss: 0.6162(0.6275) Grad: 46109.1445  LR: 0.00001993  \n",
      "Epoch: [1][600/1709] Elapsed 1m 29s (remain 2m 45s) Loss: 0.6397(0.6215) Grad: 76489.2031  LR: 0.00001990  \n",
      "Epoch: [1][700/1709] Elapsed 1m 44s (remain 2m 30s) Loss: 0.6438(0.6173) Grad: 79931.8828  LR: 0.00001987  \n",
      "Epoch: [1][800/1709] Elapsed 1m 59s (remain 2m 15s) Loss: 0.5993(0.6136) Grad: 26932.6309  LR: 0.00001983  \n",
      "Epoch: [1][900/1709] Elapsed 2m 14s (remain 2m 0s) Loss: 0.5880(0.6100) Grad: 51195.3555  LR: 0.00001979  \n",
      "Epoch: [1][1000/1709] Elapsed 2m 29s (remain 1m 45s) Loss: 0.6714(0.6074) Grad: 103404.0703  LR: 0.00001974  \n",
      "Epoch: [1][1100/1709] Elapsed 2m 44s (remain 1m 30s) Loss: 0.4711(0.6053) Grad: 69339.0000  LR: 0.00001968  \n",
      "Epoch: [1][1200/1709] Elapsed 2m 59s (remain 1m 15s) Loss: 0.5920(0.6022) Grad: 49562.6836  LR: 0.00001962  \n",
      "Epoch: [1][1300/1709] Elapsed 3m 14s (remain 1m 0s) Loss: 0.5689(0.6006) Grad: 38123.4297  LR: 0.00001956  \n",
      "Epoch: [1][1400/1709] Elapsed 3m 29s (remain 0m 46s) Loss: 0.6390(0.5985) Grad: 75149.5781  LR: 0.00001949  \n",
      "Epoch: [1][1500/1709] Elapsed 3m 44s (remain 0m 31s) Loss: 0.6397(0.5968) Grad: 81584.5156  LR: 0.00001941  \n",
      "Epoch: [1][1600/1709] Elapsed 3m 59s (remain 0m 16s) Loss: 0.5446(0.5952) Grad: 97824.4531  LR: 0.00001933  \n",
      "Epoch: [1][1700/1709] Elapsed 4m 14s (remain 0m 1s) Loss: 0.6313(0.5935) Grad: 227942.1094  LR: 0.00001925  \n",
      "Epoch: [1][1708/1709] Elapsed 4m 15s (remain 0m 0s) Loss: 0.6766(0.5933) Grad: 73923.6250  LR: 0.00001924  \n"
     ]
    },
    {
     "name": "stderr",
     "output_type": "stream",
     "text": [
      "[W pthreadpool-cpp.cc:90] Warning: Leaking Caffe2 thread-pool after fork. (function pthreadpool)\n",
      "[W pthreadpool-cpp.cc:90] Warning: Leaking Caffe2 thread-pool after fork. (function pthreadpool)\n"
     ]
    },
    {
     "name": "stdout",
     "output_type": "stream",
     "text": [
      "EVAL: [0/570] Elapsed 0m 0s (remain 1m 34s) Loss: 0.6086(0.6086) \n"
     ]
    },
    {
     "name": "stderr",
     "output_type": "stream",
     "text": [
      "[W pthreadpool-cpp.cc:90] Warning: Leaking Caffe2 thread-pool after fork. (function pthreadpool)\n",
      "[W pthreadpool-cpp.cc:90] Warning: Leaking Caffe2 thread-pool after fork. (function pthreadpool)\n"
     ]
    },
    {
     "name": "stdout",
     "output_type": "stream",
     "text": [
      "EVAL: [100/570] Elapsed 0m 4s (remain 0m 23s) Loss: 0.5690(0.5519) \n",
      "EVAL: [200/570] Elapsed 0m 9s (remain 0m 18s) Loss: 0.5707(0.5659) \n",
      "EVAL: [300/570] Elapsed 0m 14s (remain 0m 13s) Loss: 0.4412(0.5643) \n",
      "EVAL: [400/570] Elapsed 0m 19s (remain 0m 8s) Loss: 0.4863(0.5660) \n",
      "EVAL: [500/570] Elapsed 0m 24s (remain 0m 3s) Loss: 0.4577(0.5644) \n"
     ]
    },
    {
     "name": "stderr",
     "output_type": "stream",
     "text": [
      "Epoch 1 - avg_train_loss: 0.5933  avg_val_loss: 0.5634  time: 283s\n",
      "Epoch 1 - Score: 0.7489\n",
      "Epoch 1 - Save Best Score: 0.7489 Model\n"
     ]
    },
    {
     "name": "stdout",
     "output_type": "stream",
     "text": [
      "EVAL: [569/570] Elapsed 0m 27s (remain 0m 0s) Loss: 0.4854(0.5634) \n"
     ]
    },
    {
     "name": "stderr",
     "output_type": "stream",
     "text": [
      "[W pthreadpool-cpp.cc:90] Warning: Leaking Caffe2 thread-pool after fork. (function pthreadpool)\n",
      "[W pthreadpool-cpp.cc:90] Warning: Leaking Caffe2 thread-pool after fork. (function pthreadpool)\n",
      "[W pthreadpool-cpp.cc:90] Warning: Leaking Caffe2 thread-pool after fork. (function pthreadpool)\n",
      "[W pthreadpool-cpp.cc:90] Warning: Leaking Caffe2 thread-pool after fork. (function pthreadpool)\n"
     ]
    },
    {
     "name": "stdout",
     "output_type": "stream",
     "text": [
      "Epoch: [2][0/1709] Elapsed 0m 0s (remain 11m 12s) Loss: 0.5734(0.5734) Grad: 145400.0000  LR: 0.00001924  \n",
      "Epoch: [2][100/1709] Elapsed 0m 15s (remain 4m 4s) Loss: 0.5470(0.5462) Grad: 169136.7031  LR: 0.00001915  \n",
      "Epoch: [2][200/1709] Elapsed 0m 30s (remain 3m 47s) Loss: 0.5544(0.5498) Grad: 109105.6016  LR: 0.00001905  \n",
      "Epoch: [2][300/1709] Elapsed 0m 45s (remain 3m 31s) Loss: 0.5270(0.5466) Grad: 157663.5781  LR: 0.00001895  \n",
      "Epoch: [2][400/1709] Elapsed 1m 0s (remain 3m 16s) Loss: 0.4637(0.5465) Grad: 160055.1719  LR: 0.00001885  \n",
      "Epoch: [2][500/1709] Elapsed 1m 15s (remain 3m 1s) Loss: 0.3347(0.5466) Grad: 94535.9297  LR: 0.00001874  \n",
      "Epoch: [2][600/1709] Elapsed 1m 30s (remain 2m 46s) Loss: 0.5040(0.5466) Grad: 286934.3438  LR: 0.00001863  \n",
      "Epoch: [2][700/1709] Elapsed 1m 45s (remain 2m 31s) Loss: 0.5131(0.5469) Grad: 66102.9453  LR: 0.00001851  \n",
      "Epoch: [2][800/1709] Elapsed 2m 0s (remain 2m 16s) Loss: 0.5560(0.5475) Grad: 116302.6641  LR: 0.00001838  \n",
      "Epoch: [2][900/1709] Elapsed 2m 14s (remain 2m 1s) Loss: 0.4969(0.5480) Grad: 129721.5469  LR: 0.00001826  \n",
      "Epoch: [2][1000/1709] Elapsed 2m 29s (remain 1m 46s) Loss: 0.4902(0.5484) Grad: 118372.6953  LR: 0.00001812  \n",
      "Epoch: [2][1100/1709] Elapsed 2m 44s (remain 1m 31s) Loss: 0.5250(0.5482) Grad: 104580.1797  LR: 0.00001799  \n",
      "Epoch: [2][1200/1709] Elapsed 2m 59s (remain 1m 16s) Loss: 0.6305(0.5475) Grad: 95877.9609  LR: 0.00001785  \n",
      "Epoch: [2][1300/1709] Elapsed 3m 14s (remain 1m 1s) Loss: 0.5802(0.5484) Grad: 388736.5000  LR: 0.00001770  \n",
      "Epoch: [2][1400/1709] Elapsed 3m 29s (remain 0m 46s) Loss: 0.4955(0.5483) Grad: 122226.1406  LR: 0.00001756  \n",
      "Epoch: [2][1500/1709] Elapsed 3m 44s (remain 0m 31s) Loss: 0.5033(0.5485) Grad: 92405.5781  LR: 0.00001740  \n",
      "Epoch: [2][1600/1709] Elapsed 3m 59s (remain 0m 16s) Loss: 0.4680(0.5484) Grad: 107953.8047  LR: 0.00001725  \n",
      "Epoch: [2][1700/1709] Elapsed 4m 14s (remain 0m 1s) Loss: 0.5286(0.5484) Grad: 75503.5625  LR: 0.00001709  \n",
      "Epoch: [2][1708/1709] Elapsed 4m 15s (remain 0m 0s) Loss: 0.5769(0.5483) Grad: 376757.2188  LR: 0.00001707  \n"
     ]
    },
    {
     "name": "stderr",
     "output_type": "stream",
     "text": [
      "[W pthreadpool-cpp.cc:90] Warning: Leaking Caffe2 thread-pool after fork. (function pthreadpool)\n",
      "[W pthreadpool-cpp.cc:90] Warning: Leaking Caffe2 thread-pool after fork. (function pthreadpool)\n",
      "[W pthreadpool-cpp.cc:90] Warning: Leaking Caffe2 thread-pool after fork. (function pthreadpool)\n",
      "[W pthreadpool-cpp.cc:90] Warning: Leaking Caffe2 thread-pool after fork. (function pthreadpool)\n"
     ]
    },
    {
     "name": "stdout",
     "output_type": "stream",
     "text": [
      "EVAL: [0/570] Elapsed 0m 0s (remain 1m 37s) Loss: 0.5569(0.5569) \n",
      "EVAL: [100/570] Elapsed 0m 4s (remain 0m 23s) Loss: 0.5934(0.5579) \n",
      "EVAL: [200/570] Elapsed 0m 9s (remain 0m 17s) Loss: 0.5651(0.5747) \n",
      "EVAL: [300/570] Elapsed 0m 14s (remain 0m 13s) Loss: 0.4465(0.5734) \n",
      "EVAL: [400/570] Elapsed 0m 19s (remain 0m 8s) Loss: 0.4667(0.5730) \n",
      "EVAL: [500/570] Elapsed 0m 24s (remain 0m 3s) Loss: 0.4594(0.5702) \n"
     ]
    },
    {
     "name": "stderr",
     "output_type": "stream",
     "text": [
      "Epoch 2 - avg_train_loss: 0.5483  avg_val_loss: 0.5694  time: 283s\n",
      "Epoch 2 - Score: 0.7760\n",
      "Epoch 2 - Save Best Score: 0.7760 Model\n"
     ]
    },
    {
     "name": "stdout",
     "output_type": "stream",
     "text": [
      "EVAL: [569/570] Elapsed 0m 27s (remain 0m 0s) Loss: 0.5073(0.5694) \n"
     ]
    },
    {
     "name": "stderr",
     "output_type": "stream",
     "text": [
      "[W pthreadpool-cpp.cc:90] Warning: Leaking Caffe2 thread-pool after fork. (function pthreadpool)\n",
      "[W pthreadpool-cpp.cc:90] Warning: Leaking Caffe2 thread-pool after fork. (function pthreadpool)\n",
      "[W pthreadpool-cpp.cc:90] Warning: Leaking Caffe2 thread-pool after fork. (function pthreadpool)\n",
      "[W pthreadpool-cpp.cc:90] Warning: Leaking Caffe2 thread-pool after fork. (function pthreadpool)\n"
     ]
    },
    {
     "name": "stdout",
     "output_type": "stream",
     "text": [
      "Epoch: [3][0/1709] Elapsed 0m 0s (remain 10m 24s) Loss: 0.4866(0.4866) Grad: 168164.1875  LR: 0.00001707  \n",
      "Epoch: [3][100/1709] Elapsed 0m 15s (remain 4m 4s) Loss: 0.5562(0.5290) Grad: 101134.6484  LR: 0.00001691  \n",
      "Epoch: [3][200/1709] Elapsed 0m 30s (remain 3m 46s) Loss: 0.5229(0.5314) Grad: 111211.7812  LR: 0.00001674  \n",
      "Epoch: [3][300/1709] Elapsed 0m 45s (remain 3m 31s) Loss: 0.5032(0.5320) Grad: 35487.8477  LR: 0.00001657  \n",
      "Epoch: [3][400/1709] Elapsed 1m 0s (remain 3m 16s) Loss: 0.5827(0.5325) Grad: 23856.2871  LR: 0.00001639  \n",
      "Epoch: [3][500/1709] Elapsed 1m 15s (remain 3m 0s) Loss: 0.4695(0.5327) Grad: 69481.3281  LR: 0.00001621  \n",
      "Epoch: [3][600/1709] Elapsed 1m 29s (remain 2m 45s) Loss: 0.5039(0.5351) Grad: 33414.0156  LR: 0.00001603  \n",
      "Epoch: [3][700/1709] Elapsed 1m 44s (remain 2m 30s) Loss: 0.5560(0.5351) Grad: 110018.4766  LR: 0.00001585  \n",
      "Epoch: [3][800/1709] Elapsed 1m 59s (remain 2m 15s) Loss: 0.6160(0.5348) Grad: 47221.3984  LR: 0.00001566  \n",
      "Epoch: [3][900/1709] Elapsed 2m 14s (remain 2m 0s) Loss: 0.5958(0.5349) Grad: 44532.0391  LR: 0.00001547  \n",
      "Epoch: [3][1000/1709] Elapsed 2m 29s (remain 1m 45s) Loss: 0.5993(0.5347) Grad: 29345.5703  LR: 0.00001528  \n",
      "Epoch: [3][1100/1709] Elapsed 2m 44s (remain 1m 30s) Loss: 0.5301(0.5353) Grad: 31955.0352  LR: 0.00001508  \n",
      "Epoch: [3][1200/1709] Elapsed 2m 59s (remain 1m 15s) Loss: 0.5025(0.5359) Grad: 30521.1426  LR: 0.00001488  \n",
      "Epoch: [3][1300/1709] Elapsed 3m 14s (remain 1m 0s) Loss: 0.7032(0.5369) Grad: 313050.4688  LR: 0.00001468  \n",
      "Epoch: [3][1400/1709] Elapsed 3m 29s (remain 0m 46s) Loss: 0.5788(0.5368) Grad: 55927.2656  LR: 0.00001447  \n",
      "Epoch: [3][1500/1709] Elapsed 3m 44s (remain 0m 31s) Loss: 0.5807(0.5372) Grad: 81528.5469  LR: 0.00001427  \n",
      "Epoch: [3][1600/1709] Elapsed 3m 59s (remain 0m 16s) Loss: 0.4417(0.5371) Grad: 42460.7383  LR: 0.00001406  \n",
      "Epoch: [3][1700/1709] Elapsed 4m 14s (remain 0m 1s) Loss: 0.4817(0.5368) Grad: 63312.5156  LR: 0.00001385  \n"
     ]
    },
    {
     "name": "stderr",
     "output_type": "stream",
     "text": [
      "[W pthreadpool-cpp.cc:90] Warning: Leaking Caffe2 thread-pool after fork. (function pthreadpool)\n"
     ]
    },
    {
     "name": "stdout",
     "output_type": "stream",
     "text": [
      "Epoch: [3][1708/1709] Elapsed 4m 15s (remain 0m 0s) Loss: 0.5913(0.5370) Grad: 32017.4121  LR: 0.00001383  \n"
     ]
    },
    {
     "name": "stderr",
     "output_type": "stream",
     "text": [
      "[W pthreadpool-cpp.cc:90] Warning: Leaking Caffe2 thread-pool after fork. (function pthreadpool)\n",
      "[W pthreadpool-cpp.cc:90] Warning: Leaking Caffe2 thread-pool after fork. (function pthreadpool)\n"
     ]
    },
    {
     "name": "stdout",
     "output_type": "stream",
     "text": [
      "EVAL: [0/570] Elapsed 0m 0s (remain 1m 36s) Loss: 0.5806(0.5806) \n"
     ]
    },
    {
     "name": "stderr",
     "output_type": "stream",
     "text": [
      "[W pthreadpool-cpp.cc:90] Warning: Leaking Caffe2 thread-pool after fork. (function pthreadpool)\n",
      "[W pthreadpool-cpp.cc:90] Warning: Leaking Caffe2 thread-pool after fork. (function pthreadpool)\n"
     ]
    },
    {
     "name": "stdout",
     "output_type": "stream",
     "text": [
      "EVAL: [100/570] Elapsed 0m 4s (remain 0m 23s) Loss: 0.6274(0.5561) \n",
      "EVAL: [200/570] Elapsed 0m 9s (remain 0m 17s) Loss: 0.5744(0.5695) \n",
      "EVAL: [300/570] Elapsed 0m 14s (remain 0m 13s) Loss: 0.4246(0.5699) \n",
      "EVAL: [400/570] Elapsed 0m 19s (remain 0m 8s) Loss: 0.4645(0.5708) \n",
      "EVAL: [500/570] Elapsed 0m 24s (remain 0m 3s) Loss: 0.4691(0.5682) \n"
     ]
    },
    {
     "name": "stderr",
     "output_type": "stream",
     "text": [
      "Epoch 3 - avg_train_loss: 0.5370  avg_val_loss: 0.5673  time: 283s\n",
      "Epoch 3 - Score: 0.7884\n",
      "Epoch 3 - Save Best Score: 0.7884 Model\n"
     ]
    },
    {
     "name": "stdout",
     "output_type": "stream",
     "text": [
      "EVAL: [569/570] Elapsed 0m 27s (remain 0m 0s) Loss: 0.4864(0.5673) \n"
     ]
    },
    {
     "name": "stderr",
     "output_type": "stream",
     "text": [
      "[W pthreadpool-cpp.cc:90] Warning: Leaking Caffe2 thread-pool after fork. (function pthreadpool)\n",
      "[W pthreadpool-cpp.cc:90] Warning: Leaking Caffe2 thread-pool after fork. (function pthreadpool)\n",
      "[W pthreadpool-cpp.cc:90] Warning: Leaking Caffe2 thread-pool after fork. (function pthreadpool)\n",
      "[W pthreadpool-cpp.cc:90] Warning: Leaking Caffe2 thread-pool after fork. (function pthreadpool)\n"
     ]
    },
    {
     "name": "stdout",
     "output_type": "stream",
     "text": [
      "Epoch: [4][0/1709] Elapsed 0m 0s (remain 7m 2s) Loss: 0.5083(0.5083) Grad: 105821.9609  LR: 0.00001383  \n",
      "Epoch: [4][100/1709] Elapsed 0m 15s (remain 4m 1s) Loss: 0.4604(0.5125) Grad: 42418.8984  LR: 0.00001362  \n",
      "Epoch: [4][200/1709] Elapsed 0m 30s (remain 3m 45s) Loss: 0.4713(0.5114) Grad: 106700.1875  LR: 0.00001340  \n",
      "Epoch: [4][300/1709] Elapsed 0m 45s (remain 3m 30s) Loss: 0.5069(0.5119) Grad: 78632.6016  LR: 0.00001318  \n",
      "Epoch: [4][400/1709] Elapsed 0m 59s (remain 3m 15s) Loss: 0.5761(0.5142) Grad: 93093.1016  LR: 0.00001296  \n",
      "Epoch: [4][500/1709] Elapsed 1m 14s (remain 3m 0s) Loss: 0.5194(0.5143) Grad: 149472.9062  LR: 0.00001274  \n",
      "Epoch: [4][600/1709] Elapsed 1m 29s (remain 2m 45s) Loss: 0.4964(0.5129) Grad: 147356.3906  LR: 0.00001252  \n",
      "Epoch: [4][700/1709] Elapsed 1m 44s (remain 2m 30s) Loss: 0.5951(0.5138) Grad: 126639.3828  LR: 0.00001230  \n",
      "Epoch: [4][800/1709] Elapsed 1m 59s (remain 2m 15s) Loss: 0.5507(0.5128) Grad: 177261.4844  LR: 0.00001208  \n",
      "Epoch: [4][900/1709] Elapsed 2m 14s (remain 2m 0s) Loss: 0.5075(0.5140) Grad: 228532.3750  LR: 0.00001185  \n",
      "Epoch: [4][1000/1709] Elapsed 2m 29s (remain 1m 45s) Loss: 0.3393(0.5141) Grad: 30847.3184  LR: 0.00001162  \n",
      "Epoch: [4][1100/1709] Elapsed 2m 44s (remain 1m 30s) Loss: 0.4852(0.5158) Grad: 59118.4531  LR: 0.00001140  \n",
      "Epoch: [4][1200/1709] Elapsed 2m 59s (remain 1m 15s) Loss: 0.5989(0.5162) Grad: 49573.1992  LR: 0.00001117  \n",
      "Epoch: [4][1300/1709] Elapsed 3m 14s (remain 1m 0s) Loss: 0.5032(0.5156) Grad: 51604.3828  LR: 0.00001094  \n",
      "Epoch: [4][1400/1709] Elapsed 3m 29s (remain 0m 46s) Loss: 0.6276(0.5166) Grad: 35881.6680  LR: 0.00001071  \n",
      "Epoch: [4][1500/1709] Elapsed 3m 44s (remain 0m 31s) Loss: 0.5012(0.5170) Grad: 54831.1328  LR: 0.00001048  \n",
      "Epoch: [4][1600/1709] Elapsed 3m 59s (remain 0m 16s) Loss: 0.5406(0.5177) Grad: 24277.0859  LR: 0.00001025  \n",
      "Epoch: [4][1700/1709] Elapsed 4m 14s (remain 0m 1s) Loss: 0.4431(0.5188) Grad: 28469.8867  LR: 0.00001002  \n"
     ]
    },
    {
     "name": "stderr",
     "output_type": "stream",
     "text": [
      "[W pthreadpool-cpp.cc:90] Warning: Leaking Caffe2 thread-pool after fork. (function pthreadpool)\n"
     ]
    },
    {
     "name": "stdout",
     "output_type": "stream",
     "text": [
      "Epoch: [4][1708/1709] Elapsed 4m 15s (remain 0m 0s) Loss: 0.5113(0.5188) Grad: 87473.9531  LR: 0.00001001  \n"
     ]
    },
    {
     "name": "stderr",
     "output_type": "stream",
     "text": [
      "[W pthreadpool-cpp.cc:90] Warning: Leaking Caffe2 thread-pool after fork. (function pthreadpool)\n",
      "[W pthreadpool-cpp.cc:90] Warning: Leaking Caffe2 thread-pool after fork. (function pthreadpool)\n",
      "[W pthreadpool-cpp.cc:90] Warning: Leaking Caffe2 thread-pool after fork. (function pthreadpool)\n",
      "[W pthreadpool-cpp.cc:90] Warning: Leaking Caffe2 thread-pool after fork. (function pthreadpool)\n"
     ]
    },
    {
     "name": "stdout",
     "output_type": "stream",
     "text": [
      "EVAL: [0/570] Elapsed 0m 0s (remain 1m 36s) Loss: 0.5486(0.5486) \n",
      "EVAL: [100/570] Elapsed 0m 4s (remain 0m 23s) Loss: 0.5449(0.5448) \n",
      "EVAL: [200/570] Elapsed 0m 9s (remain 0m 17s) Loss: 0.5692(0.5579) \n",
      "EVAL: [300/570] Elapsed 0m 14s (remain 0m 13s) Loss: 0.4328(0.5572) \n",
      "EVAL: [400/570] Elapsed 0m 19s (remain 0m 8s) Loss: 0.4594(0.5580) \n",
      "EVAL: [500/570] Elapsed 0m 24s (remain 0m 3s) Loss: 0.4546(0.5562) \n"
     ]
    },
    {
     "name": "stderr",
     "output_type": "stream",
     "text": [
      "Epoch 4 - avg_train_loss: 0.5188  avg_val_loss: 0.5554  time: 283s\n",
      "Epoch 4 - Score: 0.8028\n",
      "Epoch 4 - Save Best Score: 0.8028 Model\n"
     ]
    },
    {
     "name": "stdout",
     "output_type": "stream",
     "text": [
      "EVAL: [569/570] Elapsed 0m 27s (remain 0m 0s) Loss: 0.4550(0.5554) \n"
     ]
    },
    {
     "name": "stderr",
     "output_type": "stream",
     "text": [
      "[W pthreadpool-cpp.cc:90] Warning: Leaking Caffe2 thread-pool after fork. (function pthreadpool)\n",
      "[W pthreadpool-cpp.cc:90] Warning: Leaking Caffe2 thread-pool after fork. (function pthreadpool)\n",
      "[W pthreadpool-cpp.cc:90] Warning: Leaking Caffe2 thread-pool after fork. (function pthreadpool)\n",
      "[W pthreadpool-cpp.cc:90] Warning: Leaking Caffe2 thread-pool after fork. (function pthreadpool)\n"
     ]
    },
    {
     "name": "stdout",
     "output_type": "stream",
     "text": [
      "Epoch: [5][0/1709] Elapsed 0m 0s (remain 10m 44s) Loss: 0.5729(0.5729) Grad: 56174.0625  LR: 0.00001000  \n",
      "Epoch: [5][100/1709] Elapsed 0m 15s (remain 4m 4s) Loss: 0.5347(0.5204) Grad: 91534.0156  LR: 0.00000977  \n",
      "Epoch: [5][200/1709] Elapsed 0m 30s (remain 3m 47s) Loss: 0.5384(0.5164) Grad: 115567.5234  LR: 0.00000954  \n",
      "Epoch: [5][300/1709] Elapsed 0m 45s (remain 3m 31s) Loss: 0.5106(0.5161) Grad: 128364.4766  LR: 0.00000931  \n",
      "Epoch: [5][400/1709] Elapsed 1m 0s (remain 3m 16s) Loss: 0.5320(0.5128) Grad: 312997.8750  LR: 0.00000909  \n",
      "Epoch: [5][500/1709] Elapsed 1m 15s (remain 3m 1s) Loss: 0.6328(0.5155) Grad: 73985.0391  LR: 0.00000886  \n",
      "Epoch: [5][600/1709] Elapsed 1m 30s (remain 2m 45s) Loss: 0.4730(0.5144) Grad: 174628.8125  LR: 0.00000863  \n",
      "Epoch: [5][700/1709] Elapsed 1m 44s (remain 2m 30s) Loss: 0.5967(0.5143) Grad: 119343.5469  LR: 0.00000840  \n",
      "Epoch: [5][800/1709] Elapsed 1m 59s (remain 2m 15s) Loss: 0.5143(0.5146) Grad: 345941.0938  LR: 0.00000818  \n",
      "Epoch: [5][900/1709] Elapsed 2m 14s (remain 2m 0s) Loss: 0.5562(0.5145) Grad: 40832.3906  LR: 0.00000795  \n",
      "Epoch: [5][1000/1709] Elapsed 2m 29s (remain 1m 45s) Loss: 0.5833(0.5139) Grad: 33985.7539  LR: 0.00000773  \n",
      "Epoch: [5][1100/1709] Elapsed 2m 44s (remain 1m 30s) Loss: 0.6353(0.5134) Grad: 83742.3516  LR: 0.00000750  \n",
      "Epoch: [5][1200/1709] Elapsed 2m 59s (remain 1m 15s) Loss: 0.3088(0.5125) Grad: 27138.0703  LR: 0.00000728  \n",
      "Epoch: [5][1300/1709] Elapsed 3m 14s (remain 1m 0s) Loss: 0.4360(0.5123) Grad: 29114.6738  LR: 0.00000706  \n",
      "Epoch: [5][1400/1709] Elapsed 3m 29s (remain 0m 46s) Loss: 0.6104(0.5118) Grad: 35187.4180  LR: 0.00000684  \n",
      "Epoch: [5][1500/1709] Elapsed 3m 44s (remain 0m 31s) Loss: 0.4685(0.5113) Grad: 25476.0957  LR: 0.00000663  \n",
      "Epoch: [5][1600/1709] Elapsed 3m 59s (remain 0m 16s) Loss: 0.5779(0.5115) Grad: 43450.0977  LR: 0.00000641  \n",
      "Epoch: [5][1700/1709] Elapsed 4m 14s (remain 0m 1s) Loss: 0.4729(0.5109) Grad: 56671.7969  LR: 0.00000620  \n",
      "Epoch: [5][1708/1709] Elapsed 4m 15s (remain 0m 0s) Loss: 0.6297(0.5109) Grad: 137357.4375  LR: 0.00000618  \n"
     ]
    },
    {
     "name": "stderr",
     "output_type": "stream",
     "text": [
      "[W pthreadpool-cpp.cc:90] Warning: Leaking Caffe2 thread-pool after fork. (function pthreadpool)\n",
      "[W pthreadpool-cpp.cc:90] Warning: Leaking Caffe2 thread-pool after fork. (function pthreadpool)\n"
     ]
    },
    {
     "name": "stdout",
     "output_type": "stream",
     "text": [
      "EVAL: [0/570] Elapsed 0m 0s (remain 1m 35s) Loss: 0.5435(0.5435) \n"
     ]
    },
    {
     "name": "stderr",
     "output_type": "stream",
     "text": [
      "[W pthreadpool-cpp.cc:90] Warning: Leaking Caffe2 thread-pool after fork. (function pthreadpool)\n",
      "[W pthreadpool-cpp.cc:90] Warning: Leaking Caffe2 thread-pool after fork. (function pthreadpool)\n"
     ]
    },
    {
     "name": "stdout",
     "output_type": "stream",
     "text": [
      "EVAL: [100/570] Elapsed 0m 4s (remain 0m 23s) Loss: 0.5537(0.5559) \n",
      "EVAL: [200/570] Elapsed 0m 9s (remain 0m 17s) Loss: 0.5640(0.5741) \n",
      "EVAL: [300/570] Elapsed 0m 14s (remain 0m 13s) Loss: 0.4146(0.5709) \n",
      "EVAL: [400/570] Elapsed 0m 19s (remain 0m 8s) Loss: 0.4646(0.5693) \n",
      "EVAL: [500/570] Elapsed 0m 24s (remain 0m 3s) Loss: 0.4513(0.5676) \n"
     ]
    },
    {
     "name": "stderr",
     "output_type": "stream",
     "text": [
      "Epoch 5 - avg_train_loss: 0.5109  avg_val_loss: 0.5664  time: 283s\n",
      "Epoch 5 - Score: 0.8062\n",
      "Epoch 5 - Save Best Score: 0.8062 Model\n"
     ]
    },
    {
     "name": "stdout",
     "output_type": "stream",
     "text": [
      "EVAL: [569/570] Elapsed 0m 27s (remain 0m 0s) Loss: 0.4626(0.5664) \n"
     ]
    },
    {
     "name": "stderr",
     "output_type": "stream",
     "text": [
      "[W pthreadpool-cpp.cc:90] Warning: Leaking Caffe2 thread-pool after fork. (function pthreadpool)\n",
      "[W pthreadpool-cpp.cc:90] Warning: Leaking Caffe2 thread-pool after fork. (function pthreadpool)\n",
      "[W pthreadpool-cpp.cc:90] Warning: Leaking Caffe2 thread-pool after fork. (function pthreadpool)\n",
      "[W pthreadpool-cpp.cc:90] Warning: Leaking Caffe2 thread-pool after fork. (function pthreadpool)\n"
     ]
    },
    {
     "name": "stdout",
     "output_type": "stream",
     "text": [
      "Epoch: [6][0/1709] Elapsed 0m 0s (remain 7m 4s) Loss: 0.5945(0.5945) Grad: 54170.3828  LR: 0.00000618  \n",
      "Epoch: [6][100/1709] Elapsed 0m 15s (remain 4m 1s) Loss: 0.4635(0.5113) Grad: 328146.3125  LR: 0.00000597  \n",
      "Epoch: [6][200/1709] Elapsed 0m 30s (remain 3m 45s) Loss: 0.4350(0.5045) Grad: 92095.7031  LR: 0.00000576  \n",
      "Epoch: [6][300/1709] Elapsed 0m 45s (remain 3m 30s) Loss: 0.4812(0.5007) Grad: 80482.2656  LR: 0.00000555  \n",
      "Epoch: [6][400/1709] Elapsed 0m 59s (remain 3m 15s) Loss: 0.4773(0.4991) Grad: 29642.2969  LR: 0.00000535  \n",
      "Epoch: [6][500/1709] Elapsed 1m 14s (remain 3m 0s) Loss: 0.5143(0.5008) Grad: 27475.2754  LR: 0.00000514  \n",
      "Epoch: [6][600/1709] Elapsed 1m 29s (remain 2m 45s) Loss: 0.4049(0.5017) Grad: 36179.5664  LR: 0.00000494  \n",
      "Epoch: [6][700/1709] Elapsed 1m 44s (remain 2m 30s) Loss: 0.5299(0.5013) Grad: 33542.8984  LR: 0.00000475  \n",
      "Epoch: [6][800/1709] Elapsed 1m 59s (remain 2m 15s) Loss: 0.5132(0.5021) Grad: 19244.0762  LR: 0.00000455  \n",
      "Epoch: [6][900/1709] Elapsed 2m 14s (remain 2m 0s) Loss: 0.5500(0.5037) Grad: 30749.3477  LR: 0.00000436  \n",
      "Epoch: [6][1000/1709] Elapsed 2m 29s (remain 1m 45s) Loss: 0.5032(0.5028) Grad: 40114.4492  LR: 0.00000417  \n",
      "Epoch: [6][1100/1709] Elapsed 2m 44s (remain 1m 30s) Loss: 0.5477(0.5030) Grad: 47175.0156  LR: 0.00000399  \n",
      "Epoch: [6][1200/1709] Elapsed 2m 59s (remain 1m 15s) Loss: 0.4794(0.5032) Grad: 52949.4219  LR: 0.00000381  \n",
      "Epoch: [6][1300/1709] Elapsed 3m 14s (remain 1m 0s) Loss: 0.4099(0.5037) Grad: 16356.4951  LR: 0.00000363  \n",
      "Epoch: [6][1400/1709] Elapsed 3m 29s (remain 0m 45s) Loss: 0.4261(0.5039) Grad: 151046.4531  LR: 0.00000345  \n",
      "Epoch: [6][1500/1709] Elapsed 3m 44s (remain 0m 31s) Loss: 0.4987(0.5044) Grad: 30903.5781  LR: 0.00000328  \n",
      "Epoch: [6][1600/1709] Elapsed 3m 59s (remain 0m 16s) Loss: 0.5230(0.5052) Grad: 33361.1445  LR: 0.00000311  \n",
      "Epoch: [6][1700/1709] Elapsed 4m 13s (remain 0m 1s) Loss: 0.5203(0.5050) Grad: 41763.7578  LR: 0.00000295  \n",
      "Epoch: [6][1708/1709] Elapsed 4m 15s (remain 0m 0s) Loss: 0.4652(0.5048) Grad: 56978.4414  LR: 0.00000294  \n"
     ]
    },
    {
     "name": "stderr",
     "output_type": "stream",
     "text": [
      "[W pthreadpool-cpp.cc:90] Warning: Leaking Caffe2 thread-pool after fork. (function pthreadpool)\n",
      "[W pthreadpool-cpp.cc:90] Warning: Leaking Caffe2 thread-pool after fork. (function pthreadpool)\n",
      "[W pthreadpool-cpp.cc:90] Warning: Leaking Caffe2 thread-pool after fork. (function pthreadpool)\n",
      "[W pthreadpool-cpp.cc:90] Warning: Leaking Caffe2 thread-pool after fork. (function pthreadpool)\n"
     ]
    },
    {
     "name": "stdout",
     "output_type": "stream",
     "text": [
      "EVAL: [0/570] Elapsed 0m 0s (remain 1m 36s) Loss: 0.5417(0.5417) \n",
      "EVAL: [100/570] Elapsed 0m 4s (remain 0m 23s) Loss: 0.5452(0.5586) \n",
      "EVAL: [200/570] Elapsed 0m 9s (remain 0m 18s) Loss: 0.5678(0.5744) \n",
      "EVAL: [300/570] Elapsed 0m 14s (remain 0m 13s) Loss: 0.4216(0.5723) \n",
      "EVAL: [400/570] Elapsed 0m 19s (remain 0m 8s) Loss: 0.4690(0.5706) \n",
      "EVAL: [500/570] Elapsed 0m 24s (remain 0m 3s) Loss: 0.4532(0.5684) \n"
     ]
    },
    {
     "name": "stderr",
     "output_type": "stream",
     "text": [
      "Epoch 6 - avg_train_loss: 0.5048  avg_val_loss: 0.5675  time: 283s\n",
      "Epoch 6 - Score: 0.8097\n",
      "Epoch 6 - Save Best Score: 0.8097 Model\n"
     ]
    },
    {
     "name": "stdout",
     "output_type": "stream",
     "text": [
      "EVAL: [569/570] Elapsed 0m 27s (remain 0m 0s) Loss: 0.4553(0.5675) \n"
     ]
    },
    {
     "name": "stderr",
     "output_type": "stream",
     "text": [
      "[W pthreadpool-cpp.cc:90] Warning: Leaking Caffe2 thread-pool after fork. (function pthreadpool)\n",
      "[W pthreadpool-cpp.cc:90] Warning: Leaking Caffe2 thread-pool after fork. (function pthreadpool)\n",
      "[W pthreadpool-cpp.cc:90] Warning: Leaking Caffe2 thread-pool after fork. (function pthreadpool)\n",
      "[W pthreadpool-cpp.cc:90] Warning: Leaking Caffe2 thread-pool after fork. (function pthreadpool)\n"
     ]
    },
    {
     "name": "stdout",
     "output_type": "stream",
     "text": [
      "Epoch: [7][0/1709] Elapsed 0m 0s (remain 7m 15s) Loss: 0.5480(0.5480) Grad: 313598.3750  LR: 0.00000293  \n",
      "Epoch: [7][100/1709] Elapsed 0m 15s (remain 4m 1s) Loss: 0.6177(0.5037) Grad: 131669.2500  LR: 0.00000277  \n",
      "Epoch: [7][200/1709] Elapsed 0m 30s (remain 3m 45s) Loss: 0.4639(0.5044) Grad: 32925.5234  LR: 0.00000262  \n",
      "Epoch: [7][300/1709] Elapsed 0m 44s (remain 3m 30s) Loss: 0.4629(0.5040) Grad: 45543.8008  LR: 0.00000246  \n",
      "Epoch: [7][400/1709] Elapsed 0m 59s (remain 3m 15s) Loss: 0.3963(0.5035) Grad: 29589.1152  LR: 0.00000231  \n",
      "Epoch: [7][500/1709] Elapsed 1m 14s (remain 3m 0s) Loss: 0.4450(0.5026) Grad: 28777.1113  LR: 0.00000217  \n",
      "Epoch: [7][600/1709] Elapsed 1m 29s (remain 2m 45s) Loss: 0.5155(0.5042) Grad: 15065.8691  LR: 0.00000203  \n",
      "Epoch: [7][700/1709] Elapsed 1m 44s (remain 2m 30s) Loss: 0.4583(0.5023) Grad: 10328.8525  LR: 0.00000189  \n",
      "Epoch: [7][800/1709] Elapsed 1m 59s (remain 2m 15s) Loss: 0.4205(0.5032) Grad: 44011.6758  LR: 0.00000176  \n",
      "Epoch: [7][900/1709] Elapsed 2m 14s (remain 2m 0s) Loss: 0.4405(0.5030) Grad: 16960.5625  LR: 0.00000163  \n",
      "Epoch: [7][1000/1709] Elapsed 2m 29s (remain 1m 45s) Loss: 0.4993(0.5035) Grad: 13763.0537  LR: 0.00000151  \n",
      "Epoch: [7][1100/1709] Elapsed 2m 44s (remain 1m 30s) Loss: 0.4957(0.5028) Grad: 64176.0781  LR: 0.00000139  \n",
      "Epoch: [7][1200/1709] Elapsed 2m 59s (remain 1m 15s) Loss: 0.5832(0.5017) Grad: 12532.5732  LR: 0.00000127  \n",
      "Epoch: [7][1300/1709] Elapsed 3m 14s (remain 1m 0s) Loss: 0.5852(0.5020) Grad: 16029.3877  LR: 0.00000116  \n",
      "Epoch: [7][1400/1709] Elapsed 3m 29s (remain 0m 45s) Loss: 0.5049(0.5023) Grad: 30082.0938  LR: 0.00000106  \n",
      "Epoch: [7][1500/1709] Elapsed 3m 44s (remain 0m 31s) Loss: 0.3815(0.5014) Grad: 29379.8281  LR: 0.00000096  \n",
      "Epoch: [7][1600/1709] Elapsed 3m 58s (remain 0m 16s) Loss: 0.5104(0.5012) Grad: 10886.3125  LR: 0.00000086  \n",
      "Epoch: [7][1700/1709] Elapsed 4m 13s (remain 0m 1s) Loss: 0.4139(0.5008) Grad: 37610.0469  LR: 0.00000077  \n",
      "Epoch: [7][1708/1709] Elapsed 4m 15s (remain 0m 0s) Loss: 0.5180(0.5008) Grad: 10594.7461  LR: 0.00000077  \n"
     ]
    },
    {
     "name": "stderr",
     "output_type": "stream",
     "text": [
      "[W pthreadpool-cpp.cc:90] Warning: Leaking Caffe2 thread-pool after fork. (function pthreadpool)\n",
      "[W pthreadpool-cpp.cc:90] Warning: Leaking Caffe2 thread-pool after fork. (function pthreadpool)\n",
      "[W pthreadpool-cpp.cc:90] Warning: Leaking Caffe2 thread-pool after fork. (function pthreadpool)\n",
      "[W pthreadpool-cpp.cc:90] Warning: Leaking Caffe2 thread-pool after fork. (function pthreadpool)\n"
     ]
    },
    {
     "name": "stdout",
     "output_type": "stream",
     "text": [
      "EVAL: [0/570] Elapsed 0m 0s (remain 1m 37s) Loss: 0.5451(0.5451) \n",
      "EVAL: [100/570] Elapsed 0m 4s (remain 0m 23s) Loss: 0.5430(0.5619) \n",
      "EVAL: [200/570] Elapsed 0m 9s (remain 0m 18s) Loss: 0.5636(0.5780) \n",
      "EVAL: [300/570] Elapsed 0m 14s (remain 0m 13s) Loss: 0.4753(0.5752) \n",
      "EVAL: [400/570] Elapsed 0m 19s (remain 0m 8s) Loss: 0.4778(0.5729) \n",
      "EVAL: [500/570] Elapsed 0m 24s (remain 0m 3s) Loss: 0.4523(0.5702) \n"
     ]
    },
    {
     "name": "stderr",
     "output_type": "stream",
     "text": [
      "Epoch 7 - avg_train_loss: 0.5008  avg_val_loss: 0.5696  time: 283s\n",
      "Epoch 7 - Score: 0.8107\n",
      "Epoch 7 - Save Best Score: 0.8107 Model\n"
     ]
    },
    {
     "name": "stdout",
     "output_type": "stream",
     "text": [
      "EVAL: [569/570] Elapsed 0m 27s (remain 0m 0s) Loss: 0.4595(0.5696) \n"
     ]
    },
    {
     "name": "stderr",
     "output_type": "stream",
     "text": [
      "[W pthreadpool-cpp.cc:90] Warning: Leaking Caffe2 thread-pool after fork. (function pthreadpool)\n",
      "[W pthreadpool-cpp.cc:90] Warning: Leaking Caffe2 thread-pool after fork. (function pthreadpool)\n",
      "[W pthreadpool-cpp.cc:90] Warning: Leaking Caffe2 thread-pool after fork. (function pthreadpool)\n",
      "[W pthreadpool-cpp.cc:90] Warning: Leaking Caffe2 thread-pool after fork. (function pthreadpool)\n"
     ]
    },
    {
     "name": "stdout",
     "output_type": "stream",
     "text": [
      "Epoch: [8][0/1709] Elapsed 0m 0s (remain 10m 18s) Loss: 0.5285(0.5285) Grad: 133313.7500  LR: 0.00000076  \n",
      "Epoch: [8][100/1709] Elapsed 0m 15s (remain 4m 3s) Loss: 0.5315(0.4952) Grad: 214810.7031  LR: 0.00000068  \n",
      "Epoch: [8][200/1709] Elapsed 0m 30s (remain 3m 46s) Loss: 0.3064(0.4974) Grad: 71961.3594  LR: 0.00000060  \n",
      "Epoch: [8][300/1709] Elapsed 0m 45s (remain 3m 31s) Loss: 0.4168(0.4986) Grad: 109867.6953  LR: 0.00000052  \n",
      "Epoch: [8][400/1709] Elapsed 1m 0s (remain 3m 15s) Loss: 0.5732(0.4987) Grad: 96008.0547  LR: 0.00000045  \n",
      "Epoch: [8][500/1709] Elapsed 1m 14s (remain 3m 0s) Loss: 0.4278(0.4956) Grad: 53364.6328  LR: 0.00000039  \n",
      "Epoch: [8][600/1709] Elapsed 1m 29s (remain 2m 45s) Loss: 0.4019(0.4972) Grad: 31413.6406  LR: 0.00000033  \n",
      "Epoch: [8][700/1709] Elapsed 1m 44s (remain 2m 30s) Loss: 0.4474(0.4957) Grad: 36191.6172  LR: 0.00000027  \n",
      "Epoch: [8][800/1709] Elapsed 1m 59s (remain 2m 15s) Loss: 0.5295(0.4952) Grad: 16912.0273  LR: 0.00000022  \n",
      "Epoch: [8][900/1709] Elapsed 2m 14s (remain 2m 0s) Loss: 0.5211(0.4963) Grad: 140563.3906  LR: 0.00000017  \n",
      "Epoch: [8][1000/1709] Elapsed 2m 29s (remain 1m 45s) Loss: 0.4459(0.4956) Grad: 70259.0469  LR: 0.00000013  \n",
      "Epoch: [8][1100/1709] Elapsed 2m 44s (remain 1m 30s) Loss: 0.6475(0.4969) Grad: 112708.8828  LR: 0.00000010  \n",
      "Epoch: [8][1200/1709] Elapsed 2m 59s (remain 1m 15s) Loss: 0.4732(0.4970) Grad: 84538.6797  LR: 0.00000007  \n",
      "Epoch: [8][1300/1709] Elapsed 3m 14s (remain 1m 0s) Loss: 0.5613(0.4979) Grad: 21341.1934  LR: 0.00000004  \n",
      "Epoch: [8][1400/1709] Elapsed 3m 29s (remain 0m 46s) Loss: 0.4583(0.4984) Grad: 35348.4062  LR: 0.00000003  \n",
      "Epoch: [8][1500/1709] Elapsed 3m 44s (remain 0m 31s) Loss: 0.4790(0.4982) Grad: 40487.5586  LR: 0.00000001  \n",
      "Epoch: [8][1600/1709] Elapsed 3m 59s (remain 0m 16s) Loss: 0.6222(0.4980) Grad: 253316.9844  LR: 0.00000000  \n",
      "Epoch: [8][1700/1709] Elapsed 4m 14s (remain 0m 1s) Loss: 0.4838(0.4981) Grad: 115027.8594  LR: 0.00000000  \n",
      "Epoch: [8][1708/1709] Elapsed 4m 15s (remain 0m 0s) Loss: 0.4490(0.4982) Grad: 25914.7090  LR: 0.00000000  \n"
     ]
    },
    {
     "name": "stderr",
     "output_type": "stream",
     "text": [
      "[W pthreadpool-cpp.cc:90] Warning: Leaking Caffe2 thread-pool after fork. (function pthreadpool)\n",
      "[W pthreadpool-cpp.cc:90] Warning: Leaking Caffe2 thread-pool after fork. (function pthreadpool)\n"
     ]
    },
    {
     "name": "stdout",
     "output_type": "stream",
     "text": [
      "EVAL: [0/570] Elapsed 0m 0s (remain 1m 34s) Loss: 0.5454(0.5454) \n"
     ]
    },
    {
     "name": "stderr",
     "output_type": "stream",
     "text": [
      "[W pthreadpool-cpp.cc:90] Warning: Leaking Caffe2 thread-pool after fork. (function pthreadpool)\n",
      "[W pthreadpool-cpp.cc:90] Warning: Leaking Caffe2 thread-pool after fork. (function pthreadpool)\n"
     ]
    },
    {
     "name": "stdout",
     "output_type": "stream",
     "text": [
      "EVAL: [100/570] Elapsed 0m 4s (remain 0m 23s) Loss: 0.5439(0.5628) \n",
      "EVAL: [200/570] Elapsed 0m 9s (remain 0m 17s) Loss: 0.5652(0.5789) \n",
      "EVAL: [300/570] Elapsed 0m 14s (remain 0m 13s) Loss: 0.4756(0.5760) \n",
      "EVAL: [400/570] Elapsed 0m 19s (remain 0m 8s) Loss: 0.4776(0.5738) \n",
      "EVAL: [500/570] Elapsed 0m 24s (remain 0m 3s) Loss: 0.4539(0.5713) \n"
     ]
    },
    {
     "name": "stderr",
     "output_type": "stream",
     "text": [
      "Epoch 8 - avg_train_loss: 0.4982  avg_val_loss: 0.5706  time: 283s\n",
      "Epoch 8 - Score: 0.8103\n"
     ]
    },
    {
     "name": "stdout",
     "output_type": "stream",
     "text": [
      "EVAL: [569/570] Elapsed 0m 27s (remain 0m 0s) Loss: 0.4579(0.5706) \n"
     ]
    },
    {
     "name": "stderr",
     "output_type": "stream",
     "text": [
      "========== fold: 2 result ==========\n",
      "Score: 0.8107\n",
      "========== fold: 3 training ==========\n"
     ]
    },
    {
     "name": "stdout",
     "output_type": "stream",
     "text": [
      "\u001b[38;5;40m========== fold: 3 training ==========\u001b[0m\n"
     ]
    },
    {
     "name": "stderr",
     "output_type": "stream",
     "text": [
      "Some weights of the model checkpoint at bert-base-uncased were not used when initializing BertModel: ['cls.predictions.bias', 'cls.seq_relationship.bias', 'cls.predictions.transform.dense.weight', 'cls.seq_relationship.weight', 'cls.predictions.transform.dense.bias', 'cls.predictions.transform.LayerNorm.weight', 'cls.predictions.transform.LayerNorm.bias', 'cls.predictions.decoder.weight']\n",
      "- This IS expected if you are initializing BertModel from the checkpoint of a model trained on another task or with another architecture (e.g. initializing a BertForSequenceClassification model from a BertForPreTraining model).\n",
      "- This IS NOT expected if you are initializing BertModel from the checkpoint of a model that you expect to be exactly identical (initializing a BertForSequenceClassification model from a BertForSequenceClassification model).\n",
      "[W pthreadpool-cpp.cc:90] Warning: Leaking Caffe2 thread-pool after fork. (function pthreadpool)\n",
      "[W pthreadpool-cpp.cc:90] Warning: Leaking Caffe2 thread-pool after fork. (function pthreadpool)\n",
      "[W pthreadpool-cpp.cc:90] Warning: Leaking Caffe2 thread-pool after fork. (function pthreadpool)\n",
      "[W pthreadpool-cpp.cc:90] Warning: Leaking Caffe2 thread-pool after fork. (function pthreadpool)\n"
     ]
    },
    {
     "name": "stdout",
     "output_type": "stream",
     "text": [
      "Epoch: [1][0/1709] Elapsed 0m 0s (remain 12m 44s) Loss: 0.7025(0.7025) Grad: 84245.3750  LR: 0.00002000  \n",
      "Epoch: [1][100/1709] Elapsed 0m 15s (remain 4m 4s) Loss: 0.5926(0.6560) Grad: 29614.1172  LR: 0.00002000  \n",
      "Epoch: [1][200/1709] Elapsed 0m 30s (remain 3m 47s) Loss: 0.5813(0.6436) Grad: 44404.9648  LR: 0.00001999  \n",
      "Epoch: [1][300/1709] Elapsed 0m 45s (remain 3m 31s) Loss: 0.5644(0.6339) Grad: 77605.7891  LR: 0.00001998  \n",
      "Epoch: [1][400/1709] Elapsed 1m 0s (remain 3m 16s) Loss: 0.6313(0.6286) Grad: 43099.6406  LR: 0.00001996  \n",
      "Epoch: [1][500/1709] Elapsed 1m 15s (remain 3m 0s) Loss: 0.5447(0.6242) Grad: 59106.1055  LR: 0.00001993  \n",
      "Epoch: [1][600/1709] Elapsed 1m 29s (remain 2m 45s) Loss: 0.6038(0.6196) Grad: 48831.3906  LR: 0.00001990  \n",
      "Epoch: [1][700/1709] Elapsed 1m 44s (remain 2m 30s) Loss: 0.6537(0.6150) Grad: 50017.7734  LR: 0.00001987  \n",
      "Epoch: [1][800/1709] Elapsed 1m 59s (remain 2m 15s) Loss: 0.6053(0.6130) Grad: 51047.6836  LR: 0.00001983  \n",
      "Epoch: [1][900/1709] Elapsed 2m 14s (remain 2m 0s) Loss: 0.6003(0.6101) Grad: 58649.3164  LR: 0.00001979  \n",
      "Epoch: [1][1000/1709] Elapsed 2m 29s (remain 1m 45s) Loss: 0.6780(0.6064) Grad: 118142.1875  LR: 0.00001974  \n",
      "Epoch: [1][1100/1709] Elapsed 2m 44s (remain 1m 30s) Loss: 0.5672(0.6043) Grad: 79492.3750  LR: 0.00001968  \n",
      "Epoch: [1][1200/1709] Elapsed 2m 59s (remain 1m 15s) Loss: 0.7599(0.6035) Grad: 172938.7969  LR: 0.00001962  \n",
      "Epoch: [1][1300/1709] Elapsed 3m 14s (remain 1m 0s) Loss: 0.6504(0.6020) Grad: 21784.2363  LR: 0.00001956  \n",
      "Epoch: [1][1400/1709] Elapsed 3m 29s (remain 0m 46s) Loss: 0.6393(0.6006) Grad: 15892.6641  LR: 0.00001949  \n",
      "Epoch: [1][1500/1709] Elapsed 3m 44s (remain 0m 31s) Loss: 0.5598(0.5988) Grad: 25860.2441  LR: 0.00001941  \n",
      "Epoch: [1][1600/1709] Elapsed 3m 59s (remain 0m 16s) Loss: 0.5459(0.5974) Grad: 40405.3867  LR: 0.00001933  \n",
      "Epoch: [1][1700/1709] Elapsed 4m 14s (remain 0m 1s) Loss: 0.5980(0.5964) Grad: 18183.4980  LR: 0.00001925  \n"
     ]
    },
    {
     "name": "stderr",
     "output_type": "stream",
     "text": [
      "[W pthreadpool-cpp.cc:90] Warning: Leaking Caffe2 thread-pool after fork. (function pthreadpool)\n"
     ]
    },
    {
     "name": "stdout",
     "output_type": "stream",
     "text": [
      "Epoch: [1][1708/1709] Elapsed 4m 15s (remain 0m 0s) Loss: 0.5243(0.5961) Grad: 33958.7500  LR: 0.00001924  \n"
     ]
    },
    {
     "name": "stderr",
     "output_type": "stream",
     "text": [
      "[W pthreadpool-cpp.cc:90] Warning: Leaking Caffe2 thread-pool after fork. (function pthreadpool)\n",
      "[W pthreadpool-cpp.cc:90] Warning: Leaking Caffe2 thread-pool after fork. (function pthreadpool)\n",
      "[W pthreadpool-cpp.cc:90] Warning: Leaking Caffe2 thread-pool after fork. (function pthreadpool)\n",
      "[W pthreadpool-cpp.cc:90] Warning: Leaking Caffe2 thread-pool after fork. (function pthreadpool)\n"
     ]
    },
    {
     "name": "stdout",
     "output_type": "stream",
     "text": [
      "EVAL: [0/570] Elapsed 0m 0s (remain 1m 38s) Loss: 0.6280(0.6280) \n",
      "EVAL: [100/570] Elapsed 0m 4s (remain 0m 23s) Loss: 0.7609(0.5778) \n",
      "EVAL: [200/570] Elapsed 0m 9s (remain 0m 18s) Loss: 0.5048(0.5785) \n",
      "EVAL: [300/570] Elapsed 0m 14s (remain 0m 13s) Loss: 0.6933(0.5758) \n",
      "EVAL: [400/570] Elapsed 0m 19s (remain 0m 8s) Loss: 0.5780(0.5748) \n",
      "EVAL: [500/570] Elapsed 0m 24s (remain 0m 3s) Loss: 0.6206(0.5766) \n"
     ]
    },
    {
     "name": "stderr",
     "output_type": "stream",
     "text": [
      "Epoch 1 - avg_train_loss: 0.5961  avg_val_loss: 0.5772  time: 283s\n",
      "Epoch 1 - Score: 0.7407\n",
      "Epoch 1 - Save Best Score: 0.7407 Model\n"
     ]
    },
    {
     "name": "stdout",
     "output_type": "stream",
     "text": [
      "EVAL: [569/570] Elapsed 0m 27s (remain 0m 0s) Loss: 0.4768(0.5772) \n"
     ]
    },
    {
     "name": "stderr",
     "output_type": "stream",
     "text": [
      "[W pthreadpool-cpp.cc:90] Warning: Leaking Caffe2 thread-pool after fork. (function pthreadpool)\n",
      "[W pthreadpool-cpp.cc:90] Warning: Leaking Caffe2 thread-pool after fork. (function pthreadpool)\n",
      "[W pthreadpool-cpp.cc:90] Warning: Leaking Caffe2 thread-pool after fork. (function pthreadpool)\n",
      "[W pthreadpool-cpp.cc:90] Warning: Leaking Caffe2 thread-pool after fork. (function pthreadpool)\n"
     ]
    },
    {
     "name": "stdout",
     "output_type": "stream",
     "text": [
      "Epoch: [2][0/1709] Elapsed 0m 0s (remain 7m 18s) Loss: 0.3945(0.3945) Grad: 87982.9375  LR: 0.00001924  \n",
      "Epoch: [2][100/1709] Elapsed 0m 15s (remain 4m 1s) Loss: 0.5259(0.5620) Grad: 89946.4609  LR: 0.00001915  \n",
      "Epoch: [2][200/1709] Elapsed 0m 30s (remain 3m 45s) Loss: 0.6364(0.5636) Grad: 199705.4062  LR: 0.00001905  \n",
      "Epoch: [2][300/1709] Elapsed 0m 45s (remain 3m 30s) Loss: 0.5702(0.5623) Grad: 57012.3984  LR: 0.00001895  \n",
      "Epoch: [2][400/1709] Elapsed 0m 59s (remain 3m 15s) Loss: 0.5079(0.5579) Grad: 80760.6875  LR: 0.00001885  \n",
      "Epoch: [2][500/1709] Elapsed 1m 14s (remain 3m 0s) Loss: 0.5634(0.5551) Grad: 57924.6953  LR: 0.00001874  \n",
      "Epoch: [2][600/1709] Elapsed 1m 29s (remain 2m 45s) Loss: 0.4953(0.5545) Grad: 55936.4297  LR: 0.00001863  \n",
      "Epoch: [2][700/1709] Elapsed 1m 44s (remain 2m 30s) Loss: 0.5389(0.5538) Grad: 28641.9961  LR: 0.00001851  \n",
      "Epoch: [2][800/1709] Elapsed 1m 59s (remain 2m 15s) Loss: 0.5206(0.5538) Grad: 41417.2031  LR: 0.00001838  \n",
      "Epoch: [2][900/1709] Elapsed 2m 14s (remain 2m 0s) Loss: 0.5927(0.5532) Grad: 57830.2891  LR: 0.00001826  \n",
      "Epoch: [2][1000/1709] Elapsed 2m 29s (remain 1m 45s) Loss: 0.4940(0.5525) Grad: 94474.3750  LR: 0.00001812  \n",
      "Epoch: [2][1100/1709] Elapsed 2m 44s (remain 1m 30s) Loss: 0.5894(0.5524) Grad: 28287.9023  LR: 0.00001799  \n",
      "Epoch: [2][1200/1709] Elapsed 2m 59s (remain 1m 15s) Loss: 0.6133(0.5524) Grad: 31490.0312  LR: 0.00001785  \n",
      "Epoch: [2][1300/1709] Elapsed 3m 14s (remain 1m 0s) Loss: 0.3986(0.5525) Grad: 59537.7656  LR: 0.00001770  \n",
      "Epoch: [2][1400/1709] Elapsed 3m 29s (remain 0m 46s) Loss: 0.4723(0.5531) Grad: 38990.7031  LR: 0.00001756  \n",
      "Epoch: [2][1500/1709] Elapsed 3m 44s (remain 0m 31s) Loss: 0.6078(0.5533) Grad: 53205.0781  LR: 0.00001740  \n",
      "Epoch: [2][1600/1709] Elapsed 3m 59s (remain 0m 16s) Loss: 0.4001(0.5529) Grad: 16686.2441  LR: 0.00001725  \n",
      "Epoch: [2][1700/1709] Elapsed 4m 14s (remain 0m 1s) Loss: 0.5543(0.5523) Grad: 46052.5820  LR: 0.00001709  \n"
     ]
    },
    {
     "name": "stderr",
     "output_type": "stream",
     "text": [
      "[W pthreadpool-cpp.cc:90] Warning: Leaking Caffe2 thread-pool after fork. (function pthreadpool)\n"
     ]
    },
    {
     "name": "stdout",
     "output_type": "stream",
     "text": [
      "Epoch: [2][1708/1709] Elapsed 4m 15s (remain 0m 0s) Loss: 0.5819(0.5523) Grad: 33864.9297  LR: 0.00001707  \n"
     ]
    },
    {
     "name": "stderr",
     "output_type": "stream",
     "text": [
      "[W pthreadpool-cpp.cc:90] Warning: Leaking Caffe2 thread-pool after fork. (function pthreadpool)\n",
      "[W pthreadpool-cpp.cc:90] Warning: Leaking Caffe2 thread-pool after fork. (function pthreadpool)\n",
      "[W pthreadpool-cpp.cc:90] Warning: Leaking Caffe2 thread-pool after fork. (function pthreadpool)\n",
      "[W pthreadpool-cpp.cc:90] Warning: Leaking Caffe2 thread-pool after fork. (function pthreadpool)\n"
     ]
    },
    {
     "name": "stdout",
     "output_type": "stream",
     "text": [
      "EVAL: [0/570] Elapsed 0m 0s (remain 1m 53s) Loss: 0.6000(0.6000) \n",
      "EVAL: [100/570] Elapsed 0m 5s (remain 0m 23s) Loss: 0.7539(0.5631) \n",
      "EVAL: [200/570] Elapsed 0m 9s (remain 0m 18s) Loss: 0.4692(0.5615) \n",
      "EVAL: [300/570] Elapsed 0m 14s (remain 0m 13s) Loss: 0.6979(0.5580) \n",
      "EVAL: [400/570] Elapsed 0m 19s (remain 0m 8s) Loss: 0.5368(0.5570) \n",
      "EVAL: [500/570] Elapsed 0m 24s (remain 0m 3s) Loss: 0.5880(0.5576) \n"
     ]
    },
    {
     "name": "stderr",
     "output_type": "stream",
     "text": [
      "Epoch 2 - avg_train_loss: 0.5523  avg_val_loss: 0.5579  time: 283s\n",
      "Epoch 2 - Score: 0.7786\n",
      "Epoch 2 - Save Best Score: 0.7786 Model\n"
     ]
    },
    {
     "name": "stdout",
     "output_type": "stream",
     "text": [
      "EVAL: [569/570] Elapsed 0m 27s (remain 0m 0s) Loss: 0.4733(0.5579) \n"
     ]
    },
    {
     "name": "stderr",
     "output_type": "stream",
     "text": [
      "[W pthreadpool-cpp.cc:90] Warning: Leaking Caffe2 thread-pool after fork. (function pthreadpool)\n",
      "[W pthreadpool-cpp.cc:90] Warning: Leaking Caffe2 thread-pool after fork. (function pthreadpool)\n",
      "[W pthreadpool-cpp.cc:90] Warning: Leaking Caffe2 thread-pool after fork. (function pthreadpool)\n",
      "[W pthreadpool-cpp.cc:90] Warning: Leaking Caffe2 thread-pool after fork. (function pthreadpool)\n"
     ]
    },
    {
     "name": "stdout",
     "output_type": "stream",
     "text": [
      "Epoch: [3][0/1709] Elapsed 0m 0s (remain 10m 39s) Loss: 0.4962(0.4962) Grad: 54625.2773  LR: 0.00001707  \n",
      "Epoch: [3][100/1709] Elapsed 0m 15s (remain 4m 3s) Loss: 0.5157(0.5270) Grad: 80526.8359  LR: 0.00001691  \n",
      "Epoch: [3][200/1709] Elapsed 0m 30s (remain 3m 46s) Loss: 0.5511(0.5288) Grad: 115956.6953  LR: 0.00001674  \n",
      "Epoch: [3][300/1709] Elapsed 0m 45s (remain 3m 31s) Loss: 0.6437(0.5288) Grad: 130570.5625  LR: 0.00001657  \n",
      "Epoch: [3][400/1709] Elapsed 1m 0s (remain 3m 16s) Loss: 0.6164(0.5303) Grad: 55292.4961  LR: 0.00001639  \n",
      "Epoch: [3][500/1709] Elapsed 1m 15s (remain 3m 0s) Loss: 0.6941(0.5299) Grad: 371200.5625  LR: 0.00001621  \n",
      "Epoch: [3][600/1709] Elapsed 1m 29s (remain 2m 45s) Loss: 0.4642(0.5274) Grad: 100144.1250  LR: 0.00001603  \n",
      "Epoch: [3][700/1709] Elapsed 1m 44s (remain 2m 30s) Loss: 0.5923(0.5280) Grad: 110824.0859  LR: 0.00001585  \n",
      "Epoch: [3][800/1709] Elapsed 1m 59s (remain 2m 15s) Loss: 0.6255(0.5292) Grad: 105238.3984  LR: 0.00001566  \n",
      "Epoch: [3][900/1709] Elapsed 2m 14s (remain 2m 0s) Loss: 0.5409(0.5299) Grad: 69983.4062  LR: 0.00001547  \n",
      "Epoch: [3][1000/1709] Elapsed 2m 29s (remain 1m 45s) Loss: 0.5563(0.5300) Grad: 127386.5000  LR: 0.00001528  \n",
      "Epoch: [3][1100/1709] Elapsed 2m 44s (remain 1m 30s) Loss: 0.7324(0.5303) Grad: 874033.3125  LR: 0.00001508  \n",
      "Epoch: [3][1200/1709] Elapsed 2m 59s (remain 1m 15s) Loss: 0.5626(0.5305) Grad: 160122.5312  LR: 0.00001488  \n",
      "Epoch: [3][1300/1709] Elapsed 3m 14s (remain 1m 1s) Loss: 0.4896(0.5307) Grad: 39391.9727  LR: 0.00001468  \n",
      "Epoch: [3][1400/1709] Elapsed 3m 29s (remain 0m 46s) Loss: 0.3253(0.5306) Grad: 208360.2031  LR: 0.00001447  \n",
      "Epoch: [3][1500/1709] Elapsed 3m 44s (remain 0m 31s) Loss: 0.5007(0.5305) Grad: 743715.7500  LR: 0.00001427  \n",
      "Epoch: [3][1600/1709] Elapsed 3m 59s (remain 0m 16s) Loss: 0.5369(0.5310) Grad: 30037.1934  LR: 0.00001406  \n",
      "Epoch: [3][1700/1709] Elapsed 4m 14s (remain 0m 1s) Loss: 0.4898(0.5308) Grad: 94094.5391  LR: 0.00001385  \n",
      "Epoch: [3][1708/1709] Elapsed 4m 15s (remain 0m 0s) Loss: 0.5345(0.5308) Grad: 354356.5000  LR: 0.00001383  \n"
     ]
    },
    {
     "name": "stderr",
     "output_type": "stream",
     "text": [
      "[W pthreadpool-cpp.cc:90] Warning: Leaking Caffe2 thread-pool after fork. (function pthreadpool)\n",
      "[W pthreadpool-cpp.cc:90] Warning: Leaking Caffe2 thread-pool after fork. (function pthreadpool)\n",
      "[W pthreadpool-cpp.cc:90] Warning: Leaking Caffe2 thread-pool after fork. (function pthreadpool)\n",
      "[W pthreadpool-cpp.cc:90] Warning: Leaking Caffe2 thread-pool after fork. (function pthreadpool)\n"
     ]
    },
    {
     "name": "stdout",
     "output_type": "stream",
     "text": [
      "EVAL: [0/570] Elapsed 0m 0s (remain 1m 41s) Loss: 0.6008(0.6008) \n",
      "EVAL: [100/570] Elapsed 0m 4s (remain 0m 23s) Loss: 0.7445(0.5734) \n",
      "EVAL: [200/570] Elapsed 0m 9s (remain 0m 18s) Loss: 0.4730(0.5687) \n",
      "EVAL: [300/570] Elapsed 0m 14s (remain 0m 13s) Loss: 0.6509(0.5645) \n",
      "EVAL: [400/570] Elapsed 0m 19s (remain 0m 8s) Loss: 0.5972(0.5624) \n",
      "EVAL: [500/570] Elapsed 0m 24s (remain 0m 3s) Loss: 0.5839(0.5642) \n"
     ]
    },
    {
     "name": "stderr",
     "output_type": "stream",
     "text": [
      "Epoch 3 - avg_train_loss: 0.5308  avg_val_loss: 0.5647  time: 283s\n",
      "Epoch 3 - Score: 0.7886\n",
      "Epoch 3 - Save Best Score: 0.7886 Model\n"
     ]
    },
    {
     "name": "stdout",
     "output_type": "stream",
     "text": [
      "EVAL: [569/570] Elapsed 0m 27s (remain 0m 0s) Loss: 0.4928(0.5647) \n"
     ]
    },
    {
     "name": "stderr",
     "output_type": "stream",
     "text": [
      "[W pthreadpool-cpp.cc:90] Warning: Leaking Caffe2 thread-pool after fork. (function pthreadpool)\n",
      "[W pthreadpool-cpp.cc:90] Warning: Leaking Caffe2 thread-pool after fork. (function pthreadpool)\n",
      "[W pthreadpool-cpp.cc:90] Warning: Leaking Caffe2 thread-pool after fork. (function pthreadpool)\n",
      "[W pthreadpool-cpp.cc:90] Warning: Leaking Caffe2 thread-pool after fork. (function pthreadpool)\n"
     ]
    },
    {
     "name": "stdout",
     "output_type": "stream",
     "text": [
      "Epoch: [4][0/1709] Elapsed 0m 0s (remain 10m 55s) Loss: 0.4039(0.4039) Grad: 32876.0703  LR: 0.00001383  \n",
      "Epoch: [4][100/1709] Elapsed 0m 15s (remain 4m 4s) Loss: 0.5514(0.5106) Grad: 65963.5625  LR: 0.00001362  \n",
      "Epoch: [4][200/1709] Elapsed 0m 30s (remain 3m 47s) Loss: 0.5919(0.5203) Grad: 245700.7188  LR: 0.00001340  \n",
      "Epoch: [4][300/1709] Elapsed 0m 45s (remain 3m 31s) Loss: 0.5452(0.5253) Grad: 29928.1777  LR: 0.00001318  \n",
      "Epoch: [4][400/1709] Elapsed 1m 0s (remain 3m 16s) Loss: 0.5802(0.5237) Grad: 64672.9609  LR: 0.00001296  \n",
      "Epoch: [4][500/1709] Elapsed 1m 15s (remain 3m 1s) Loss: 0.5294(0.5225) Grad: 84211.0234  LR: 0.00001274  \n",
      "Epoch: [4][600/1709] Elapsed 1m 30s (remain 2m 45s) Loss: 0.5515(0.5227) Grad: 217140.8125  LR: 0.00001252  \n",
      "Epoch: [4][700/1709] Elapsed 1m 44s (remain 2m 30s) Loss: 0.4656(0.5214) Grad: 101471.5469  LR: 0.00001230  \n",
      "Epoch: [4][800/1709] Elapsed 1m 59s (remain 2m 15s) Loss: 0.5593(0.5215) Grad: 128269.3281  LR: 0.00001208  \n",
      "Epoch: [4][900/1709] Elapsed 2m 14s (remain 2m 0s) Loss: 0.4660(0.5203) Grad: 82932.3516  LR: 0.00001185  \n",
      "Epoch: [4][1000/1709] Elapsed 2m 29s (remain 1m 45s) Loss: 0.5632(0.5211) Grad: 34876.9453  LR: 0.00001162  \n",
      "Epoch: [4][1100/1709] Elapsed 2m 44s (remain 1m 30s) Loss: 0.5368(0.5211) Grad: 82703.8984  LR: 0.00001140  \n",
      "Epoch: [4][1200/1709] Elapsed 2m 59s (remain 1m 15s) Loss: 0.3689(0.5205) Grad: 59119.0742  LR: 0.00001117  \n",
      "Epoch: [4][1300/1709] Elapsed 3m 14s (remain 1m 1s) Loss: 0.4778(0.5204) Grad: 227482.7969  LR: 0.00001094  \n",
      "Epoch: [4][1400/1709] Elapsed 3m 29s (remain 0m 46s) Loss: 0.4618(0.5206) Grad: 63165.6172  LR: 0.00001071  \n",
      "Epoch: [4][1500/1709] Elapsed 3m 44s (remain 0m 31s) Loss: 0.5227(0.5207) Grad: 48591.4648  LR: 0.00001048  \n",
      "Epoch: [4][1600/1709] Elapsed 3m 59s (remain 0m 16s) Loss: 0.4858(0.5203) Grad: 46872.9805  LR: 0.00001025  \n",
      "Epoch: [4][1700/1709] Elapsed 4m 14s (remain 0m 1s) Loss: 0.4140(0.5203) Grad: 115562.3906  LR: 0.00001002  \n"
     ]
    },
    {
     "name": "stderr",
     "output_type": "stream",
     "text": [
      "[W pthreadpool-cpp.cc:90] Warning: Leaking Caffe2 thread-pool after fork. (function pthreadpool)\n"
     ]
    },
    {
     "name": "stdout",
     "output_type": "stream",
     "text": [
      "Epoch: [4][1708/1709] Elapsed 4m 15s (remain 0m 0s) Loss: 0.5067(0.5205) Grad: 121619.9219  LR: 0.00001001  \n"
     ]
    },
    {
     "name": "stderr",
     "output_type": "stream",
     "text": [
      "[W pthreadpool-cpp.cc:90] Warning: Leaking Caffe2 thread-pool after fork. (function pthreadpool)\n",
      "[W pthreadpool-cpp.cc:90] Warning: Leaking Caffe2 thread-pool after fork. (function pthreadpool)\n",
      "[W pthreadpool-cpp.cc:90] Warning: Leaking Caffe2 thread-pool after fork. (function pthreadpool)\n",
      "[W pthreadpool-cpp.cc:90] Warning: Leaking Caffe2 thread-pool after fork. (function pthreadpool)\n"
     ]
    },
    {
     "name": "stdout",
     "output_type": "stream",
     "text": [
      "EVAL: [0/570] Elapsed 0m 0s (remain 1m 38s) Loss: 0.5789(0.5789) \n",
      "EVAL: [100/570] Elapsed 0m 4s (remain 0m 23s) Loss: 0.7067(0.5706) \n",
      "EVAL: [200/570] Elapsed 0m 9s (remain 0m 18s) Loss: 0.4984(0.5662) \n",
      "EVAL: [300/570] Elapsed 0m 14s (remain 0m 13s) Loss: 0.6475(0.5616) \n",
      "EVAL: [400/570] Elapsed 0m 19s (remain 0m 8s) Loss: 0.5374(0.5591) \n",
      "EVAL: [500/570] Elapsed 0m 24s (remain 0m 3s) Loss: 0.5734(0.5605) \n"
     ]
    },
    {
     "name": "stderr",
     "output_type": "stream",
     "text": [
      "Epoch 4 - avg_train_loss: 0.5205  avg_val_loss: 0.5614  time: 283s\n",
      "Epoch 4 - Score: 0.7952\n",
      "Epoch 4 - Save Best Score: 0.7952 Model\n"
     ]
    },
    {
     "name": "stdout",
     "output_type": "stream",
     "text": [
      "EVAL: [569/570] Elapsed 0m 27s (remain 0m 0s) Loss: 0.4950(0.5614) \n"
     ]
    },
    {
     "name": "stderr",
     "output_type": "stream",
     "text": [
      "[W pthreadpool-cpp.cc:90] Warning: Leaking Caffe2 thread-pool after fork. (function pthreadpool)\n",
      "[W pthreadpool-cpp.cc:90] Warning: Leaking Caffe2 thread-pool after fork. (function pthreadpool)\n",
      "[W pthreadpool-cpp.cc:90] Warning: Leaking Caffe2 thread-pool after fork. (function pthreadpool)\n",
      "[W pthreadpool-cpp.cc:90] Warning: Leaking Caffe2 thread-pool after fork. (function pthreadpool)\n"
     ]
    },
    {
     "name": "stdout",
     "output_type": "stream",
     "text": [
      "Epoch: [5][0/1709] Elapsed 0m 0s (remain 10m 36s) Loss: 0.5120(0.5120) Grad: 146740.3594  LR: 0.00001000  \n",
      "Epoch: [5][100/1709] Elapsed 0m 15s (remain 4m 4s) Loss: 0.5084(0.5192) Grad: 67245.4766  LR: 0.00000977  \n",
      "Epoch: [5][200/1709] Elapsed 0m 30s (remain 3m 47s) Loss: 0.4862(0.5165) Grad: 20875.8887  LR: 0.00000954  \n",
      "Epoch: [5][300/1709] Elapsed 0m 45s (remain 3m 31s) Loss: 0.4894(0.5108) Grad: 91330.6016  LR: 0.00000931  \n",
      "Epoch: [5][400/1709] Elapsed 1m 0s (remain 3m 16s) Loss: 0.5036(0.5121) Grad: 120580.2031  LR: 0.00000909  \n",
      "Epoch: [5][500/1709] Elapsed 1m 15s (remain 3m 1s) Loss: 0.4568(0.5132) Grad: 61605.8438  LR: 0.00000886  \n",
      "Epoch: [5][600/1709] Elapsed 1m 29s (remain 2m 45s) Loss: 0.4342(0.5118) Grad: 29394.4883  LR: 0.00000863  \n",
      "Epoch: [5][700/1709] Elapsed 1m 44s (remain 2m 30s) Loss: 0.5263(0.5121) Grad: 24440.8750  LR: 0.00000840  \n",
      "Epoch: [5][800/1709] Elapsed 1m 59s (remain 2m 15s) Loss: 0.3668(0.5120) Grad: 16711.4609  LR: 0.00000818  \n",
      "Epoch: [5][900/1709] Elapsed 2m 14s (remain 2m 0s) Loss: 0.6477(0.5125) Grad: 109615.2656  LR: 0.00000795  \n",
      "Epoch: [5][1000/1709] Elapsed 2m 29s (remain 1m 45s) Loss: 0.6236(0.5129) Grad: 57426.4453  LR: 0.00000773  \n",
      "Epoch: [5][1100/1709] Elapsed 2m 44s (remain 1m 30s) Loss: 0.4031(0.5127) Grad: 29420.2676  LR: 0.00000750  \n",
      "Epoch: [5][1200/1709] Elapsed 2m 59s (remain 1m 15s) Loss: 0.5544(0.5130) Grad: 27086.3340  LR: 0.00000728  \n",
      "Epoch: [5][1300/1709] Elapsed 3m 14s (remain 1m 0s) Loss: 0.5460(0.5128) Grad: 50615.8086  LR: 0.00000706  \n",
      "Epoch: [5][1400/1709] Elapsed 3m 29s (remain 0m 46s) Loss: 0.5314(0.5132) Grad: 74180.8672  LR: 0.00000684  \n",
      "Epoch: [5][1500/1709] Elapsed 3m 44s (remain 0m 31s) Loss: 0.5936(0.5133) Grad: 36247.6055  LR: 0.00000663  \n",
      "Epoch: [5][1600/1709] Elapsed 3m 59s (remain 0m 16s) Loss: 0.4604(0.5130) Grad: 23665.4883  LR: 0.00000641  \n",
      "Epoch: [5][1700/1709] Elapsed 4m 14s (remain 0m 1s) Loss: 0.5594(0.5131) Grad: 24585.3770  LR: 0.00000620  \n",
      "Epoch: [5][1708/1709] Elapsed 4m 15s (remain 0m 0s) Loss: 0.5613(0.5132) Grad: 34205.0977  LR: 0.00000618  \n"
     ]
    },
    {
     "name": "stderr",
     "output_type": "stream",
     "text": [
      "[W pthreadpool-cpp.cc:90] Warning: Leaking Caffe2 thread-pool after fork. (function pthreadpool)\n",
      "[W pthreadpool-cpp.cc:90] Warning: Leaking Caffe2 thread-pool after fork. (function pthreadpool)\n",
      "[W pthreadpool-cpp.cc:90] Warning: Leaking Caffe2 thread-pool after fork. (function pthreadpool)\n",
      "[W pthreadpool-cpp.cc:90] Warning: Leaking Caffe2 thread-pool after fork. (function pthreadpool)\n"
     ]
    },
    {
     "name": "stdout",
     "output_type": "stream",
     "text": [
      "EVAL: [0/570] Elapsed 0m 0s (remain 1m 39s) Loss: 0.6191(0.6191) \n",
      "EVAL: [100/570] Elapsed 0m 4s (remain 0m 23s) Loss: 0.7098(0.5715) \n",
      "EVAL: [200/570] Elapsed 0m 9s (remain 0m 18s) Loss: 0.4533(0.5683) \n",
      "EVAL: [300/570] Elapsed 0m 14s (remain 0m 13s) Loss: 0.6409(0.5643) \n",
      "EVAL: [400/570] Elapsed 0m 19s (remain 0m 8s) Loss: 0.5035(0.5648) \n",
      "EVAL: [500/570] Elapsed 0m 24s (remain 0m 3s) Loss: 0.5882(0.5665) \n"
     ]
    },
    {
     "name": "stderr",
     "output_type": "stream",
     "text": [
      "Epoch 5 - avg_train_loss: 0.5132  avg_val_loss: 0.5666  time: 283s\n",
      "Epoch 5 - Score: 0.8005\n",
      "Epoch 5 - Save Best Score: 0.8005 Model\n"
     ]
    },
    {
     "name": "stdout",
     "output_type": "stream",
     "text": [
      "EVAL: [569/570] Elapsed 0m 27s (remain 0m 0s) Loss: 0.4837(0.5666) \n"
     ]
    },
    {
     "name": "stderr",
     "output_type": "stream",
     "text": [
      "[W pthreadpool-cpp.cc:90] Warning: Leaking Caffe2 thread-pool after fork. (function pthreadpool)\n",
      "[W pthreadpool-cpp.cc:90] Warning: Leaking Caffe2 thread-pool after fork. (function pthreadpool)\n",
      "[W pthreadpool-cpp.cc:90] Warning: Leaking Caffe2 thread-pool after fork. (function pthreadpool)\n",
      "[W pthreadpool-cpp.cc:90] Warning: Leaking Caffe2 thread-pool after fork. (function pthreadpool)\n"
     ]
    },
    {
     "name": "stdout",
     "output_type": "stream",
     "text": [
      "Epoch: [6][0/1709] Elapsed 0m 0s (remain 7m 17s) Loss: 0.4532(0.4532) Grad: 277676.1562  LR: 0.00000618  \n",
      "Epoch: [6][100/1709] Elapsed 0m 15s (remain 4m 1s) Loss: 0.4372(0.5003) Grad: 56468.5625  LR: 0.00000597  \n",
      "Epoch: [6][200/1709] Elapsed 0m 30s (remain 3m 45s) Loss: 0.6043(0.5046) Grad: 59178.9180  LR: 0.00000576  \n",
      "Epoch: [6][300/1709] Elapsed 0m 45s (remain 3m 30s) Loss: 0.5362(0.5005) Grad: 53585.7188  LR: 0.00000555  \n",
      "Epoch: [6][400/1709] Elapsed 0m 59s (remain 3m 15s) Loss: 0.5036(0.5016) Grad: 1206316.3750  LR: 0.00000535  \n",
      "Epoch: [6][500/1709] Elapsed 1m 14s (remain 3m 0s) Loss: 0.4772(0.5011) Grad: 51950.0703  LR: 0.00000514  \n",
      "Epoch: [6][600/1709] Elapsed 1m 29s (remain 2m 45s) Loss: 0.5363(0.5033) Grad: 16969.9746  LR: 0.00000494  \n",
      "Epoch: [6][700/1709] Elapsed 1m 44s (remain 2m 30s) Loss: 0.4326(0.5021) Grad: 58411.4258  LR: 0.00000475  \n",
      "Epoch: [6][800/1709] Elapsed 1m 59s (remain 2m 15s) Loss: 0.5604(0.5024) Grad: 245943.4062  LR: 0.00000455  \n",
      "Epoch: [6][900/1709] Elapsed 2m 14s (remain 2m 0s) Loss: 0.4938(0.5028) Grad: 73274.3516  LR: 0.00000436  \n",
      "Epoch: [6][1000/1709] Elapsed 2m 29s (remain 1m 45s) Loss: 0.5346(0.5036) Grad: 127095.7891  LR: 0.00000417  \n",
      "Epoch: [6][1100/1709] Elapsed 2m 44s (remain 1m 30s) Loss: 0.5545(0.5046) Grad: 29008.5391  LR: 0.00000399  \n",
      "Epoch: [6][1200/1709] Elapsed 2m 59s (remain 1m 15s) Loss: 0.4765(0.5049) Grad: 21584.7773  LR: 0.00000381  \n",
      "Epoch: [6][1300/1709] Elapsed 3m 14s (remain 1m 0s) Loss: 0.5822(0.5056) Grad: 114317.6406  LR: 0.00000363  \n",
      "Epoch: [6][1400/1709] Elapsed 3m 29s (remain 0m 46s) Loss: 0.4203(0.5050) Grad: 41404.2656  LR: 0.00000345  \n",
      "Epoch: [6][1500/1709] Elapsed 3m 44s (remain 0m 31s) Loss: 0.4166(0.5057) Grad: 17234.8965  LR: 0.00000328  \n",
      "Epoch: [6][1600/1709] Elapsed 3m 59s (remain 0m 16s) Loss: 0.5254(0.5061) Grad: 75551.2969  LR: 0.00000311  \n",
      "Epoch: [6][1700/1709] Elapsed 4m 14s (remain 0m 1s) Loss: 0.5625(0.5062) Grad: 26988.3047  LR: 0.00000295  \n",
      "Epoch: [6][1708/1709] Elapsed 4m 15s (remain 0m 0s) Loss: 0.5829(0.5063) Grad: 25225.5898  LR: 0.00000294  \n"
     ]
    },
    {
     "name": "stderr",
     "output_type": "stream",
     "text": [
      "[W pthreadpool-cpp.cc:90] Warning: Leaking Caffe2 thread-pool after fork. (function pthreadpool)\n",
      "[W pthreadpool-cpp.cc:90] Warning: Leaking Caffe2 thread-pool after fork. (function pthreadpool)\n",
      "[W pthreadpool-cpp.cc:90] Warning: Leaking Caffe2 thread-pool after fork. (function pthreadpool)\n",
      "[W pthreadpool-cpp.cc:90] Warning: Leaking Caffe2 thread-pool after fork. (function pthreadpool)\n"
     ]
    },
    {
     "name": "stdout",
     "output_type": "stream",
     "text": [
      "EVAL: [0/570] Elapsed 0m 0s (remain 1m 38s) Loss: 0.5828(0.5828) \n",
      "EVAL: [100/570] Elapsed 0m 4s (remain 0m 23s) Loss: 0.7053(0.5712) \n",
      "EVAL: [200/570] Elapsed 0m 9s (remain 0m 18s) Loss: 0.4504(0.5671) \n",
      "EVAL: [300/570] Elapsed 0m 14s (remain 0m 13s) Loss: 0.6297(0.5631) \n",
      "EVAL: [400/570] Elapsed 0m 19s (remain 0m 8s) Loss: 0.5231(0.5621) \n",
      "EVAL: [500/570] Elapsed 0m 24s (remain 0m 3s) Loss: 0.5857(0.5644) \n"
     ]
    },
    {
     "name": "stderr",
     "output_type": "stream",
     "text": [
      "Epoch 6 - avg_train_loss: 0.5063  avg_val_loss: 0.5640  time: 283s\n",
      "Epoch 6 - Score: 0.8053\n",
      "Epoch 6 - Save Best Score: 0.8053 Model\n"
     ]
    },
    {
     "name": "stdout",
     "output_type": "stream",
     "text": [
      "EVAL: [569/570] Elapsed 0m 27s (remain 0m 0s) Loss: 0.4889(0.5640) \n"
     ]
    },
    {
     "name": "stderr",
     "output_type": "stream",
     "text": [
      "[W pthreadpool-cpp.cc:90] Warning: Leaking Caffe2 thread-pool after fork. (function pthreadpool)\n",
      "[W pthreadpool-cpp.cc:90] Warning: Leaking Caffe2 thread-pool after fork. (function pthreadpool)\n",
      "[W pthreadpool-cpp.cc:90] Warning: Leaking Caffe2 thread-pool after fork. (function pthreadpool)\n",
      "[W pthreadpool-cpp.cc:90] Warning: Leaking Caffe2 thread-pool after fork. (function pthreadpool)\n"
     ]
    },
    {
     "name": "stdout",
     "output_type": "stream",
     "text": [
      "Epoch: [7][0/1709] Elapsed 0m 0s (remain 10m 49s) Loss: 0.4780(0.4780) Grad: 188594.8438  LR: 0.00000293  \n",
      "Epoch: [7][100/1709] Elapsed 0m 15s (remain 4m 3s) Loss: 0.5726(0.4982) Grad: 33061.4883  LR: 0.00000277  \n",
      "Epoch: [7][200/1709] Elapsed 0m 30s (remain 3m 46s) Loss: 0.5436(0.4978) Grad: 50875.4805  LR: 0.00000262  \n",
      "Epoch: [7][300/1709] Elapsed 0m 45s (remain 3m 31s) Loss: 0.5428(0.5001) Grad: 17418.7441  LR: 0.00000246  \n",
      "Epoch: [7][400/1709] Elapsed 1m 0s (remain 3m 16s) Loss: 0.5754(0.4972) Grad: 55674.8750  LR: 0.00000231  \n",
      "Epoch: [7][500/1709] Elapsed 1m 15s (remain 3m 0s) Loss: 0.4207(0.4963) Grad: 29191.3809  LR: 0.00000217  \n",
      "Epoch: [7][600/1709] Elapsed 1m 29s (remain 2m 45s) Loss: 0.5111(0.4958) Grad: 72464.2031  LR: 0.00000203  \n",
      "Epoch: [7][700/1709] Elapsed 1m 44s (remain 2m 30s) Loss: 0.3975(0.4974) Grad: 15052.3887  LR: 0.00000189  \n",
      "Epoch: [7][800/1709] Elapsed 1m 59s (remain 2m 15s) Loss: 0.3499(0.4979) Grad: 27013.7832  LR: 0.00000176  \n",
      "Epoch: [7][900/1709] Elapsed 2m 14s (remain 2m 0s) Loss: 0.4085(0.4996) Grad: 26896.3770  LR: 0.00000163  \n",
      "Epoch: [7][1000/1709] Elapsed 2m 29s (remain 1m 45s) Loss: 0.4882(0.5009) Grad: 42231.8477  LR: 0.00000151  \n",
      "Epoch: [7][1100/1709] Elapsed 2m 44s (remain 1m 30s) Loss: 0.3575(0.5014) Grad: 71114.0625  LR: 0.00000139  \n",
      "Epoch: [7][1200/1709] Elapsed 2m 59s (remain 1m 15s) Loss: 0.4183(0.5023) Grad: 19279.1758  LR: 0.00000127  \n",
      "Epoch: [7][1300/1709] Elapsed 3m 14s (remain 1m 0s) Loss: 0.5842(0.5028) Grad: 26333.0742  LR: 0.00000116  \n",
      "Epoch: [7][1400/1709] Elapsed 3m 29s (remain 0m 46s) Loss: 0.3840(0.5025) Grad: 27968.9727  LR: 0.00000106  \n",
      "Epoch: [7][1500/1709] Elapsed 3m 44s (remain 0m 31s) Loss: 0.5404(0.5032) Grad: 71802.1953  LR: 0.00000096  \n",
      "Epoch: [7][1600/1709] Elapsed 3m 59s (remain 0m 16s) Loss: 0.4788(0.5023) Grad: 59720.0195  LR: 0.00000086  \n",
      "Epoch: [7][1700/1709] Elapsed 4m 14s (remain 0m 1s) Loss: 0.5339(0.5021) Grad: 35741.4961  LR: 0.00000077  \n",
      "Epoch: [7][1708/1709] Elapsed 4m 15s (remain 0m 0s) Loss: 0.5962(0.5022) Grad: 37746.5312  LR: 0.00000077  \n"
     ]
    },
    {
     "name": "stderr",
     "output_type": "stream",
     "text": [
      "[W pthreadpool-cpp.cc:90] Warning: Leaking Caffe2 thread-pool after fork. (function pthreadpool)\n",
      "[W pthreadpool-cpp.cc:90] Warning: Leaking Caffe2 thread-pool after fork. (function pthreadpool)\n",
      "[W pthreadpool-cpp.cc:90] Warning: Leaking Caffe2 thread-pool after fork. (function pthreadpool)\n",
      "[W pthreadpool-cpp.cc:90] Warning: Leaking Caffe2 thread-pool after fork. (function pthreadpool)\n"
     ]
    },
    {
     "name": "stdout",
     "output_type": "stream",
     "text": [
      "EVAL: [0/570] Elapsed 0m 0s (remain 1m 39s) Loss: 0.5960(0.5960) \n",
      "EVAL: [100/570] Elapsed 0m 4s (remain 0m 23s) Loss: 0.7049(0.5773) \n",
      "EVAL: [200/570] Elapsed 0m 9s (remain 0m 18s) Loss: 0.4498(0.5718) \n",
      "EVAL: [300/570] Elapsed 0m 14s (remain 0m 13s) Loss: 0.6323(0.5671) \n",
      "EVAL: [400/570] Elapsed 0m 19s (remain 0m 8s) Loss: 0.5062(0.5658) \n",
      "EVAL: [500/570] Elapsed 0m 24s (remain 0m 3s) Loss: 0.5825(0.5677) \n"
     ]
    },
    {
     "name": "stderr",
     "output_type": "stream",
     "text": [
      "Epoch 7 - avg_train_loss: 0.5022  avg_val_loss: 0.5673  time: 283s\n",
      "Epoch 7 - Score: 0.8044\n"
     ]
    },
    {
     "name": "stdout",
     "output_type": "stream",
     "text": [
      "EVAL: [569/570] Elapsed 0m 27s (remain 0m 0s) Loss: 0.4906(0.5673) \n"
     ]
    },
    {
     "name": "stderr",
     "output_type": "stream",
     "text": [
      "[W pthreadpool-cpp.cc:90] Warning: Leaking Caffe2 thread-pool after fork. (function pthreadpool)\n",
      "[W pthreadpool-cpp.cc:90] Warning: Leaking Caffe2 thread-pool after fork. (function pthreadpool)\n",
      "[W pthreadpool-cpp.cc:90] Warning: Leaking Caffe2 thread-pool after fork. (function pthreadpool)\n",
      "[W pthreadpool-cpp.cc:90] Warning: Leaking Caffe2 thread-pool after fork. (function pthreadpool)\n"
     ]
    },
    {
     "name": "stdout",
     "output_type": "stream",
     "text": [
      "Epoch: [8][0/1709] Elapsed 0m 0s (remain 7m 11s) Loss: 0.5617(0.5617) Grad: 33410.7422  LR: 0.00000076  \n",
      "Epoch: [8][100/1709] Elapsed 0m 15s (remain 4m 1s) Loss: 0.3634(0.4968) Grad: 57663.6445  LR: 0.00000068  \n",
      "Epoch: [8][200/1709] Elapsed 0m 30s (remain 3m 46s) Loss: 0.4609(0.4946) Grad: 98527.8203  LR: 0.00000060  \n",
      "Epoch: [8][300/1709] Elapsed 0m 45s (remain 3m 30s) Loss: 0.3937(0.4994) Grad: 95763.8828  LR: 0.00000052  \n",
      "Epoch: [8][400/1709] Elapsed 0m 59s (remain 3m 15s) Loss: 0.3570(0.4980) Grad: 62435.6445  LR: 0.00000045  \n",
      "Epoch: [8][500/1709] Elapsed 1m 14s (remain 3m 0s) Loss: 0.5840(0.4973) Grad: 54990.6367  LR: 0.00000039  \n",
      "Epoch: [8][600/1709] Elapsed 1m 29s (remain 2m 45s) Loss: 0.4725(0.4988) Grad: 24529.7227  LR: 0.00000033  \n",
      "Epoch: [8][700/1709] Elapsed 1m 44s (remain 2m 30s) Loss: 0.4378(0.4994) Grad: 28317.5156  LR: 0.00000027  \n",
      "Epoch: [8][800/1709] Elapsed 1m 59s (remain 2m 15s) Loss: 0.4341(0.4990) Grad: 17376.3125  LR: 0.00000022  \n",
      "Epoch: [8][900/1709] Elapsed 2m 14s (remain 2m 0s) Loss: 0.5183(0.4977) Grad: 49256.7227  LR: 0.00000017  \n",
      "Epoch: [8][1000/1709] Elapsed 2m 29s (remain 1m 45s) Loss: 0.4777(0.4989) Grad: 68141.2969  LR: 0.00000013  \n",
      "Epoch: [8][1100/1709] Elapsed 2m 44s (remain 1m 30s) Loss: 0.4634(0.4992) Grad: 34670.3242  LR: 0.00000010  \n",
      "Epoch: [8][1200/1709] Elapsed 2m 59s (remain 1m 15s) Loss: 0.4858(0.4996) Grad: 118206.4609  LR: 0.00000007  \n",
      "Epoch: [8][1300/1709] Elapsed 3m 14s (remain 1m 0s) Loss: 0.5148(0.5008) Grad: 113908.9141  LR: 0.00000004  \n",
      "Epoch: [8][1400/1709] Elapsed 3m 29s (remain 0m 46s) Loss: 0.4906(0.5010) Grad: 33366.0898  LR: 0.00000003  \n",
      "Epoch: [8][1500/1709] Elapsed 3m 44s (remain 0m 31s) Loss: 0.5462(0.5010) Grad: 30104.1895  LR: 0.00000001  \n",
      "Epoch: [8][1600/1709] Elapsed 3m 59s (remain 0m 16s) Loss: 0.5022(0.5003) Grad: 47351.0391  LR: 0.00000000  \n",
      "Epoch: [8][1700/1709] Elapsed 4m 14s (remain 0m 1s) Loss: 0.5091(0.5000) Grad: 55263.1211  LR: 0.00000000  \n"
     ]
    },
    {
     "name": "stderr",
     "output_type": "stream",
     "text": [
      "[W pthreadpool-cpp.cc:90] Warning: Leaking Caffe2 thread-pool after fork. (function pthreadpool)\n",
      "[W pthreadpool-cpp.cc:90] Warning: Leaking Caffe2 thread-pool after fork. (function pthreadpool)\n"
     ]
    },
    {
     "name": "stdout",
     "output_type": "stream",
     "text": [
      "Epoch: [8][1708/1709] Elapsed 4m 15s (remain 0m 0s) Loss: 0.5742(0.5002) Grad: 22123.8438  LR: 0.00000000  \n"
     ]
    },
    {
     "name": "stderr",
     "output_type": "stream",
     "text": [
      "[W pthreadpool-cpp.cc:90] Warning: Leaking Caffe2 thread-pool after fork. (function pthreadpool)\n",
      "[W pthreadpool-cpp.cc:90] Warning: Leaking Caffe2 thread-pool after fork. (function pthreadpool)\n",
      "[W pthreadpool-cpp.cc:90] Warning: Leaking Caffe2 thread-pool after fork. (function pthreadpool)\n",
      "[W pthreadpool-cpp.cc:90] Warning: Leaking Caffe2 thread-pool after fork. (function pthreadpool)\n"
     ]
    },
    {
     "name": "stdout",
     "output_type": "stream",
     "text": [
      "EVAL: [0/570] Elapsed 0m 0s (remain 1m 40s) Loss: 0.5928(0.5928) \n",
      "EVAL: [100/570] Elapsed 0m 4s (remain 0m 23s) Loss: 0.7047(0.5769) \n",
      "EVAL: [200/570] Elapsed 0m 9s (remain 0m 18s) Loss: 0.4501(0.5718) \n",
      "EVAL: [300/570] Elapsed 0m 14s (remain 0m 13s) Loss: 0.6370(0.5668) \n",
      "EVAL: [400/570] Elapsed 0m 19s (remain 0m 8s) Loss: 0.5218(0.5654) \n",
      "EVAL: [500/570] Elapsed 0m 24s (remain 0m 3s) Loss: 0.5847(0.5674) \n"
     ]
    },
    {
     "name": "stderr",
     "output_type": "stream",
     "text": [
      "Epoch 8 - avg_train_loss: 0.5002  avg_val_loss: 0.5671  time: 283s\n",
      "Epoch 8 - Score: 0.8037\n"
     ]
    },
    {
     "name": "stdout",
     "output_type": "stream",
     "text": [
      "EVAL: [569/570] Elapsed 0m 27s (remain 0m 0s) Loss: 0.4914(0.5671) \n"
     ]
    },
    {
     "name": "stderr",
     "output_type": "stream",
     "text": [
      "========== fold: 3 result ==========\n",
      "Score: 0.8053\n",
      "========== CV ==========\n",
      "Score: 0.8072\n"
     ]
    }
   ],
   "source": [
    "if __name__ == '__main__':\n",
    "    \n",
    "    def get_result(oof_df):\n",
    "        labels = oof_df['score'].values\n",
    "        preds = oof_df['pred'].values\n",
    "        score = get_score(labels, preds)\n",
    "        LOGGER.info(f'Score: {score:<.4f}')\n",
    "    \n",
    "    if CFG.train:\n",
    "        oof_df = pd.DataFrame()\n",
    "        for fold in range(CFG.n_fold):\n",
    "            # if fold in [0,1,2]:\n",
    "                #continue\n",
    "               # print（f”￥０r３３［３８；５；４０m＝＝＝＝＝＝＝＝＝＝ this fold is pass ￥ontinue\n",
    "            LOGGER.info(f\"========== fold: {fold} training ==========\")\n",
    "            print(f\"\\033[38;5;40m========== fold: {fold} training ==========\\033[0m\");\n",
    "            if fold in CFG.trn_fold:\n",
    "                # ====================================================\n",
    "                # loader\n",
    "                # ====================================================\n",
    "                folds = train\n",
    "                train_folds = folds[folds['fold'] != fold].reset_index(drop=True)\n",
    "                valid_folds = folds[folds['fold'] == fold].reset_index(drop=True)\n",
    "                valid_labels = valid_folds['score'].values\n",
    "\n",
    "                train_dataset = TrainDataset(CFG, train_folds)\n",
    "                valid_dataset = TrainDataset(CFG, valid_folds)\n",
    "\n",
    "                train_loader = DataLoader(train_dataset,\n",
    "                                          batch_size=CFG.batch_size,\n",
    "                                          shuffle=True,\n",
    "                                          num_workers=CFG.num_workers, pin_memory=True, drop_last=True)\n",
    "                valid_loader = DataLoader(valid_dataset,\n",
    "                                          batch_size=CFG.batch_size,\n",
    "                                          shuffle=False,\n",
    "                                          num_workers=CFG.num_workers, pin_memory=True, drop_last=False)\n",
    "\n",
    "#                 _oof_df = train_loop(train, fold)\n",
    "                _oof_df = train_loop(train_loader, valid_loader)\n",
    "                oof_df = pd.concat([oof_df, _oof_df])\n",
    "                LOGGER.info(f\"========== fold: {fold} result ==========\")\n",
    "                get_result(_oof_df)\n",
    "        oof_df = oof_df.reset_index(drop=True)\n",
    "        LOGGER.info(f\"========== CV ==========\")\n",
    "        get_result(oof_df)\n",
    "        oof_df.to_pickle(OUTPUT_DIR+'oof_df.pkl')\n",
    "        \n",
    "    if CFG.wandb:\n",
    "        wandb.finish()"
   ]
  },
  {
   "cell_type": "code",
   "execution_count": 28,
   "id": "6b65b21c",
   "metadata": {},
   "outputs": [
    {
     "name": "stdout",
     "output_type": "stream",
     "text": [
      "9133.613079071045 hour\n"
     ]
    }
   ],
   "source": [
    "print(f'{time.time()-start} hour')"
   ]
  },
  {
   "cell_type": "code",
   "execution_count": 29,
   "id": "5c638e57",
   "metadata": {},
   "outputs": [],
   "source": [
    "!touch trained_list/bert-large.txt"
   ]
  },
  {
   "cell_type": "code",
   "execution_count": 30,
   "id": "10743e3c-5bff-46c5-8e9d-0f4b3f051a79",
   "metadata": {},
   "outputs": [
    {
     "name": "stderr",
     "output_type": "stream",
     "text": [
      "max_len: 125\n"
     ]
    }
   ],
   "source": [
    "LOGGER.info(f\"max_len: {CFG.max_len}\")"
   ]
  },
  {
   "cell_type": "code",
   "execution_count": null,
   "id": "5ffc0430-37d5-4e3c-937c-a24c6c5c96dc",
   "metadata": {},
   "outputs": [],
   "source": []
  },
  {
   "cell_type": "code",
   "execution_count": null,
   "id": "2e30d85c-df17-4211-ab0f-3886dd942276",
   "metadata": {},
   "outputs": [],
   "source": []
  },
  {
   "cell_type": "code",
   "execution_count": null,
   "id": "060989e4-10a2-4eeb-b39e-1451aab2e77c",
   "metadata": {},
   "outputs": [],
   "source": []
  },
  {
   "cell_type": "code",
   "execution_count": null,
   "id": "2f2cb436-b039-4232-9e65-cbf3b509e79b",
   "metadata": {},
   "outputs": [],
   "source": []
  },
  {
   "cell_type": "code",
   "execution_count": null,
   "id": "cd2afeb9-6924-47cc-a138-3af2a28fe70b",
   "metadata": {},
   "outputs": [],
   "source": []
  }
 ],
 "metadata": {
  "kernelspec": {
   "display_name": "Python 3 (ipykernel)",
   "language": "python",
   "name": "python3"
  },
  "language_info": {
   "codemirror_mode": {
    "name": "ipython",
    "version": 3
   },
   "file_extension": ".py",
   "mimetype": "text/x-python",
   "name": "python",
   "nbconvert_exporter": "python",
   "pygments_lexer": "ipython3",
   "version": "3.7.12"
  },
  "papermill": {
   "default_parameters": {},
   "duration": 30329.017674,
   "end_time": "2022-03-22T18:05:22.040486",
   "environment_variables": {},
   "exception": null,
   "input_path": "__notebook__.ipynb",
   "output_path": "__notebook__.ipynb",
   "parameters": {},
   "start_time": "2022-03-22T09:39:53.022812",
   "version": "2.3.3"
  },
  "widgets": {
   "application/vnd.jupyter.widget-state+json": {
    "state": {
     "126a1e5f24e44838a03204815209c5dc": {
      "model_module": "@jupyter-widgets/controls",
      "model_module_version": "1.5.0",
      "model_name": "ProgressStyleModel",
      "state": {
       "_model_module": "@jupyter-widgets/controls",
       "_model_module_version": "1.5.0",
       "_model_name": "ProgressStyleModel",
       "_view_count": null,
       "_view_module": "@jupyter-widgets/base",
       "_view_module_version": "1.2.0",
       "_view_name": "StyleView",
       "bar_color": null,
       "description_width": ""
      }
     },
     "12d0d3a78caf4f8c93da02229f2185df": {
      "model_module": "@jupyter-widgets/base",
      "model_module_version": "1.2.0",
      "model_name": "LayoutModel",
      "state": {
       "_model_module": "@jupyter-widgets/base",
       "_model_module_version": "1.2.0",
       "_model_name": "LayoutModel",
       "_view_count": null,
       "_view_module": "@jupyter-widgets/base",
       "_view_module_version": "1.2.0",
       "_view_name": "LayoutView",
       "align_content": null,
       "align_items": null,
       "align_self": null,
       "border": null,
       "bottom": null,
       "display": null,
       "flex": null,
       "flex_flow": null,
       "grid_area": null,
       "grid_auto_columns": null,
       "grid_auto_flow": null,
       "grid_auto_rows": null,
       "grid_column": null,
       "grid_gap": null,
       "grid_row": null,
       "grid_template_areas": null,
       "grid_template_columns": null,
       "grid_template_rows": null,
       "height": null,
       "justify_content": null,
       "justify_items": null,
       "left": null,
       "margin": null,
       "max_height": null,
       "max_width": null,
       "min_height": null,
       "min_width": null,
       "object_fit": null,
       "object_position": null,
       "order": null,
       "overflow": null,
       "overflow_x": null,
       "overflow_y": null,
       "padding": null,
       "right": null,
       "top": null,
       "visibility": null,
       "width": null
      }
     },
     "14972cafd36646939e742a987e1d0ec7": {
      "model_module": "@jupyter-widgets/base",
      "model_module_version": "1.2.0",
      "model_name": "LayoutModel",
      "state": {
       "_model_module": "@jupyter-widgets/base",
       "_model_module_version": "1.2.0",
       "_model_name": "LayoutModel",
       "_view_count": null,
       "_view_module": "@jupyter-widgets/base",
       "_view_module_version": "1.2.0",
       "_view_name": "LayoutView",
       "align_content": null,
       "align_items": null,
       "align_self": null,
       "border": null,
       "bottom": null,
       "display": null,
       "flex": null,
       "flex_flow": null,
       "grid_area": null,
       "grid_auto_columns": null,
       "grid_auto_flow": null,
       "grid_auto_rows": null,
       "grid_column": null,
       "grid_gap": null,
       "grid_row": null,
       "grid_template_areas": null,
       "grid_template_columns": null,
       "grid_template_rows": null,
       "height": null,
       "justify_content": null,
       "justify_items": null,
       "left": null,
       "margin": null,
       "max_height": null,
       "max_width": null,
       "min_height": null,
       "min_width": null,
       "object_fit": null,
       "object_position": null,
       "order": null,
       "overflow": null,
       "overflow_x": null,
       "overflow_y": null,
       "padding": null,
       "right": null,
       "top": null,
       "visibility": null,
       "width": null
      }
     },
     "181ebde2d0064fb99b8ec32e9dc76836": {
      "model_module": "@jupyter-widgets/controls",
      "model_module_version": "1.5.0",
      "model_name": "HTMLModel",
      "state": {
       "_dom_classes": [],
       "_model_module": "@jupyter-widgets/controls",
       "_model_module_version": "1.5.0",
       "_model_name": "HTMLModel",
       "_view_count": null,
       "_view_module": "@jupyter-widgets/controls",
       "_view_module_version": "1.5.0",
       "_view_name": "HTMLView",
       "description": "",
       "description_tooltip": null,
       "layout": "IPY_MODEL_c1e8e53062324cf38fbd75eab01e066a",
       "placeholder": "​",
       "style": "IPY_MODEL_3feaf01a7f7b43ed923effab61b93ac4",
       "value": " 36473/36473 [00:03&lt;00:00, 12012.58it/s]"
      }
     },
     "1c5d07635bff4f7999e3e8486f648aaf": {
      "model_module": "@jupyter-widgets/controls",
      "model_module_version": "1.5.0",
      "model_name": "FloatProgressModel",
      "state": {
       "_dom_classes": [],
       "_model_module": "@jupyter-widgets/controls",
       "_model_module_version": "1.5.0",
       "_model_name": "FloatProgressModel",
       "_view_count": null,
       "_view_module": "@jupyter-widgets/controls",
       "_view_module_version": "1.5.0",
       "_view_name": "ProgressView",
       "bar_style": "success",
       "description": "",
       "description_tooltip": null,
       "layout": "IPY_MODEL_87214ce12c1f422481a0fe3caf5a3ce8",
       "max": 2464616,
       "min": 0,
       "orientation": "horizontal",
       "style": "IPY_MODEL_d9f0d96d140a4115aadfdfc9ce5ba608",
       "value": 2464616
      }
     },
     "1d83ae8940534922833de4d1fdd71216": {
      "model_module": "@jupyter-widgets/base",
      "model_module_version": "1.2.0",
      "model_name": "LayoutModel",
      "state": {
       "_model_module": "@jupyter-widgets/base",
       "_model_module_version": "1.2.0",
       "_model_name": "LayoutModel",
       "_view_count": null,
       "_view_module": "@jupyter-widgets/base",
       "_view_module_version": "1.2.0",
       "_view_name": "LayoutView",
       "align_content": null,
       "align_items": null,
       "align_self": null,
       "border": null,
       "bottom": null,
       "display": null,
       "flex": null,
       "flex_flow": null,
       "grid_area": null,
       "grid_auto_columns": null,
       "grid_auto_flow": null,
       "grid_auto_rows": null,
       "grid_column": null,
       "grid_gap": null,
       "grid_row": null,
       "grid_template_areas": null,
       "grid_template_columns": null,
       "grid_template_rows": null,
       "height": null,
       "justify_content": null,
       "justify_items": null,
       "left": null,
       "margin": null,
       "max_height": null,
       "max_width": null,
       "min_height": null,
       "min_width": null,
       "object_fit": null,
       "object_position": null,
       "order": null,
       "overflow": null,
       "overflow_x": null,
       "overflow_y": null,
       "padding": null,
       "right": null,
       "top": null,
       "visibility": null,
       "width": null
      }
     },
     "2373dbe30aca4d64b94b5bb64216151e": {
      "model_module": "@jupyter-widgets/base",
      "model_module_version": "1.2.0",
      "model_name": "LayoutModel",
      "state": {
       "_model_module": "@jupyter-widgets/base",
       "_model_module_version": "1.2.0",
       "_model_name": "LayoutModel",
       "_view_count": null,
       "_view_module": "@jupyter-widgets/base",
       "_view_module_version": "1.2.0",
       "_view_name": "LayoutView",
       "align_content": null,
       "align_items": null,
       "align_self": null,
       "border": null,
       "bottom": null,
       "display": null,
       "flex": null,
       "flex_flow": null,
       "grid_area": null,
       "grid_auto_columns": null,
       "grid_auto_flow": null,
       "grid_auto_rows": null,
       "grid_column": null,
       "grid_gap": null,
       "grid_row": null,
       "grid_template_areas": null,
       "grid_template_columns": null,
       "grid_template_rows": null,
       "height": null,
       "justify_content": null,
       "justify_items": null,
       "left": null,
       "margin": null,
       "max_height": null,
       "max_width": null,
       "min_height": null,
       "min_width": null,
       "object_fit": null,
       "object_position": null,
       "order": null,
       "overflow": null,
       "overflow_x": null,
       "overflow_y": null,
       "padding": null,
       "right": null,
       "top": null,
       "visibility": null,
       "width": null
      }
     },
     "251e902150c543d2a2212b4250931617": {
      "model_module": "@jupyter-widgets/controls",
      "model_module_version": "1.5.0",
      "model_name": "HBoxModel",
      "state": {
       "_dom_classes": [],
       "_model_module": "@jupyter-widgets/controls",
       "_model_module_version": "1.5.0",
       "_model_name": "HBoxModel",
       "_view_count": null,
       "_view_module": "@jupyter-widgets/controls",
       "_view_module_version": "1.5.0",
       "_view_name": "HBoxView",
       "box_style": "",
       "children": [
        "IPY_MODEL_7d211c0746b64a0b935fa964ad7bd858",
        "IPY_MODEL_432a848a161c4a0888dad1ac9c5408c3",
        "IPY_MODEL_181ebde2d0064fb99b8ec32e9dc76836"
       ],
       "layout": "IPY_MODEL_5d82f1a2cf554609ba65dfb95dc152e5"
      }
     },
     "2866d577bb3049b283da7c969f175d91": {
      "model_module": "@jupyter-widgets/controls",
      "model_module_version": "1.5.0",
      "model_name": "HBoxModel",
      "state": {
       "_dom_classes": [],
       "_model_module": "@jupyter-widgets/controls",
       "_model_module_version": "1.5.0",
       "_model_name": "HBoxModel",
       "_view_count": null,
       "_view_module": "@jupyter-widgets/controls",
       "_view_module_version": "1.5.0",
       "_view_name": "HBoxView",
       "box_style": "",
       "children": [
        "IPY_MODEL_673fb48e7dca47f4a3754d06af7dcf1f",
        "IPY_MODEL_bba517b096dd460cb764ccd71b57f148",
        "IPY_MODEL_362ef79e65894ea9aaae390562257f58"
       ],
       "layout": "IPY_MODEL_9d403276e05f4c368e46f353070b9d9a"
      }
     },
     "291ab6d32ec345ee8adaa6f354bfcfb4": {
      "model_module": "@jupyter-widgets/controls",
      "model_module_version": "1.5.0",
      "model_name": "HTMLModel",
      "state": {
       "_dom_classes": [],
       "_model_module": "@jupyter-widgets/controls",
       "_model_module_version": "1.5.0",
       "_model_name": "HTMLModel",
       "_view_count": null,
       "_view_module": "@jupyter-widgets/controls",
       "_view_module_version": "1.5.0",
       "_view_name": "HTMLView",
       "description": "",
       "description_tooltip": null,
       "layout": "IPY_MODEL_12d0d3a78caf4f8c93da02229f2185df",
       "placeholder": "​",
       "style": "IPY_MODEL_de3e60ed24f04a7ab49a05b98b7cf0f0",
       "value": " 36473/36473 [00:03&lt;00:00, 7261.90it/s]"
      }
     },
     "341389680b6a43d8b6b3de95dffca671": {
      "model_module": "@jupyter-widgets/base",
      "model_module_version": "1.2.0",
      "model_name": "LayoutModel",
      "state": {
       "_model_module": "@jupyter-widgets/base",
       "_model_module_version": "1.2.0",
       "_model_name": "LayoutModel",
       "_view_count": null,
       "_view_module": "@jupyter-widgets/base",
       "_view_module_version": "1.2.0",
       "_view_name": "LayoutView",
       "align_content": null,
       "align_items": null,
       "align_self": null,
       "border": null,
       "bottom": null,
       "display": null,
       "flex": null,
       "flex_flow": null,
       "grid_area": null,
       "grid_auto_columns": null,
       "grid_auto_flow": null,
       "grid_auto_rows": null,
       "grid_column": null,
       "grid_gap": null,
       "grid_row": null,
       "grid_template_areas": null,
       "grid_template_columns": null,
       "grid_template_rows": null,
       "height": null,
       "justify_content": null,
       "justify_items": null,
       "left": null,
       "margin": null,
       "max_height": null,
       "max_width": null,
       "min_height": null,
       "min_width": null,
       "object_fit": null,
       "object_position": null,
       "order": null,
       "overflow": null,
       "overflow_x": null,
       "overflow_y": null,
       "padding": null,
       "right": null,
       "top": null,
       "visibility": null,
       "width": null
      }
     },
     "349e43c8d4114c36823434cef63fc567": {
      "model_module": "@jupyter-widgets/controls",
      "model_module_version": "1.5.0",
      "model_name": "ProgressStyleModel",
      "state": {
       "_model_module": "@jupyter-widgets/controls",
       "_model_module_version": "1.5.0",
       "_model_name": "ProgressStyleModel",
       "_view_count": null,
       "_view_module": "@jupyter-widgets/base",
       "_view_module_version": "1.2.0",
       "_view_name": "StyleView",
       "bar_color": null,
       "description_width": ""
      }
     },
     "35cb92ba1b2d4932bc3a0b0640f71b0c": {
      "model_module": "@jupyter-widgets/controls",
      "model_module_version": "1.5.0",
      "model_name": "DescriptionStyleModel",
      "state": {
       "_model_module": "@jupyter-widgets/controls",
       "_model_module_version": "1.5.0",
       "_model_name": "DescriptionStyleModel",
       "_view_count": null,
       "_view_module": "@jupyter-widgets/base",
       "_view_module_version": "1.2.0",
       "_view_name": "StyleView",
       "description_width": ""
      }
     },
     "360314d0f3254b66818b8a62223c2b0b": {
      "model_module": "@jupyter-widgets/base",
      "model_module_version": "1.2.0",
      "model_name": "LayoutModel",
      "state": {
       "_model_module": "@jupyter-widgets/base",
       "_model_module_version": "1.2.0",
       "_model_name": "LayoutModel",
       "_view_count": null,
       "_view_module": "@jupyter-widgets/base",
       "_view_module_version": "1.2.0",
       "_view_name": "LayoutView",
       "align_content": null,
       "align_items": null,
       "align_self": null,
       "border": null,
       "bottom": null,
       "display": null,
       "flex": null,
       "flex_flow": null,
       "grid_area": null,
       "grid_auto_columns": null,
       "grid_auto_flow": null,
       "grid_auto_rows": null,
       "grid_column": null,
       "grid_gap": null,
       "grid_row": null,
       "grid_template_areas": null,
       "grid_template_columns": null,
       "grid_template_rows": null,
       "height": null,
       "justify_content": null,
       "justify_items": null,
       "left": null,
       "margin": null,
       "max_height": null,
       "max_width": null,
       "min_height": null,
       "min_width": null,
       "object_fit": null,
       "object_position": null,
       "order": null,
       "overflow": null,
       "overflow_x": null,
       "overflow_y": null,
       "padding": null,
       "right": null,
       "top": null,
       "visibility": null,
       "width": null
      }
     },
     "362ef79e65894ea9aaae390562257f58": {
      "model_module": "@jupyter-widgets/controls",
      "model_module_version": "1.5.0",
      "model_name": "HTMLModel",
      "state": {
       "_dom_classes": [],
       "_model_module": "@jupyter-widgets/controls",
       "_model_module_version": "1.5.0",
       "_model_name": "HTMLModel",
       "_view_count": null,
       "_view_module": "@jupyter-widgets/controls",
       "_view_module_version": "1.5.0",
       "_view_name": "HTMLView",
       "description": "",
       "description_tooltip": null,
       "layout": "IPY_MODEL_4e94a902a0d44b1eacfaeee99cd470d2",
       "placeholder": "​",
       "style": "IPY_MODEL_ad6386dafce545c48eac271bb2a3c0dd",
       "value": " 136/136 [00:00&lt;00:00, 2149.45it/s]"
      }
     },
     "39512e7ede884ec1b6fe92f794e1d74d": {
      "model_module": "@jupyter-widgets/base",
      "model_module_version": "1.2.0",
      "model_name": "LayoutModel",
      "state": {
       "_model_module": "@jupyter-widgets/base",
       "_model_module_version": "1.2.0",
       "_model_name": "LayoutModel",
       "_view_count": null,
       "_view_module": "@jupyter-widgets/base",
       "_view_module_version": "1.2.0",
       "_view_name": "LayoutView",
       "align_content": null,
       "align_items": null,
       "align_self": null,
       "border": null,
       "bottom": null,
       "display": null,
       "flex": null,
       "flex_flow": null,
       "grid_area": null,
       "grid_auto_columns": null,
       "grid_auto_flow": null,
       "grid_auto_rows": null,
       "grid_column": null,
       "grid_gap": null,
       "grid_row": null,
       "grid_template_areas": null,
       "grid_template_columns": null,
       "grid_template_rows": null,
       "height": null,
       "justify_content": null,
       "justify_items": null,
       "left": null,
       "margin": null,
       "max_height": null,
       "max_width": null,
       "min_height": null,
       "min_width": null,
       "object_fit": null,
       "object_position": null,
       "order": null,
       "overflow": null,
       "overflow_x": null,
       "overflow_y": null,
       "padding": null,
       "right": null,
       "top": null,
       "visibility": null,
       "width": null
      }
     },
     "3b0ebe22bd154b01bcb4d6b2ab2dec83": {
      "model_module": "@jupyter-widgets/controls",
      "model_module_version": "1.5.0",
      "model_name": "HTMLModel",
      "state": {
       "_dom_classes": [],
       "_model_module": "@jupyter-widgets/controls",
       "_model_module_version": "1.5.0",
       "_model_name": "HTMLModel",
       "_view_count": null,
       "_view_module": "@jupyter-widgets/controls",
       "_view_module_version": "1.5.0",
       "_view_name": "HTMLView",
       "description": "",
       "description_tooltip": null,
       "layout": "IPY_MODEL_ad4745f1eca942009bdf6cf12913f34a",
       "placeholder": "​",
       "style": "IPY_MODEL_d3b6e4a4aac943b79ba51bbacd77907e",
       "value": " 2.35M/2.35M [00:00&lt;00:00, 4.49MB/s]"
      }
     },
     "3e601d15c9ef4bd1b05e70f9267e1dfe": {
      "model_module": "@jupyter-widgets/controls",
      "model_module_version": "1.5.0",
      "model_name": "DescriptionStyleModel",
      "state": {
       "_model_module": "@jupyter-widgets/controls",
       "_model_module_version": "1.5.0",
       "_model_name": "DescriptionStyleModel",
       "_view_count": null,
       "_view_module": "@jupyter-widgets/base",
       "_view_module_version": "1.2.0",
       "_view_name": "StyleView",
       "description_width": ""
      }
     },
     "3feaf01a7f7b43ed923effab61b93ac4": {
      "model_module": "@jupyter-widgets/controls",
      "model_module_version": "1.5.0",
      "model_name": "DescriptionStyleModel",
      "state": {
       "_model_module": "@jupyter-widgets/controls",
       "_model_module_version": "1.5.0",
       "_model_name": "DescriptionStyleModel",
       "_view_count": null,
       "_view_module": "@jupyter-widgets/base",
       "_view_module_version": "1.2.0",
       "_view_name": "StyleView",
       "description_width": ""
      }
     },
     "4133e3e34f97426c9bebda989ec7e167": {
      "model_module": "@jupyter-widgets/controls",
      "model_module_version": "1.5.0",
      "model_name": "HBoxModel",
      "state": {
       "_dom_classes": [],
       "_model_module": "@jupyter-widgets/controls",
       "_model_module_version": "1.5.0",
       "_model_name": "HBoxModel",
       "_view_count": null,
       "_view_module": "@jupyter-widgets/controls",
       "_view_module_version": "1.5.0",
       "_view_name": "HBoxView",
       "box_style": "",
       "children": [
        "IPY_MODEL_48b36757767f4ff39f262dd63e844057",
        "IPY_MODEL_a03e24ff8fc54bccaa69e36839b36bab",
        "IPY_MODEL_e3e17f880bab4d47a1531bebac861fda"
       ],
       "layout": "IPY_MODEL_da88817e8aed48399b1948f8e004ee97"
      }
     },
     "43014906a0084e288ab06cb3ebf57538": {
      "model_module": "@jupyter-widgets/controls",
      "model_module_version": "1.5.0",
      "model_name": "HTMLModel",
      "state": {
       "_dom_classes": [],
       "_model_module": "@jupyter-widgets/controls",
       "_model_module_version": "1.5.0",
       "_model_name": "HTMLModel",
       "_view_count": null,
       "_view_module": "@jupyter-widgets/controls",
       "_view_module_version": "1.5.0",
       "_view_name": "HTMLView",
       "description": "",
       "description_tooltip": null,
       "layout": "IPY_MODEL_968e2989cea6490d9ee08b6700291242",
       "placeholder": "​",
       "style": "IPY_MODEL_929108014ee94c9092394cf7ef09134f",
       "value": "Downloading: 100%"
      }
     },
     "432a848a161c4a0888dad1ac9c5408c3": {
      "model_module": "@jupyter-widgets/controls",
      "model_module_version": "1.5.0",
      "model_name": "FloatProgressModel",
      "state": {
       "_dom_classes": [],
       "_model_module": "@jupyter-widgets/controls",
       "_model_module_version": "1.5.0",
       "_model_name": "FloatProgressModel",
       "_view_count": null,
       "_view_module": "@jupyter-widgets/controls",
       "_view_module_version": "1.5.0",
       "_view_name": "ProgressView",
       "bar_style": "success",
       "description": "",
       "description_tooltip": null,
       "layout": "IPY_MODEL_39512e7ede884ec1b6fe92f794e1d74d",
       "max": 36473,
       "min": 0,
       "orientation": "horizontal",
       "style": "IPY_MODEL_466a744f951d433da986e75bc9fd3b69",
       "value": 36473
      }
     },
     "466a744f951d433da986e75bc9fd3b69": {
      "model_module": "@jupyter-widgets/controls",
      "model_module_version": "1.5.0",
      "model_name": "ProgressStyleModel",
      "state": {
       "_model_module": "@jupyter-widgets/controls",
       "_model_module_version": "1.5.0",
       "_model_name": "ProgressStyleModel",
       "_view_count": null,
       "_view_module": "@jupyter-widgets/base",
       "_view_module_version": "1.2.0",
       "_view_name": "StyleView",
       "bar_color": null,
       "description_width": ""
      }
     },
     "46ab7441760642718f381e7f430e16a0": {
      "model_module": "@jupyter-widgets/controls",
      "model_module_version": "1.5.0",
      "model_name": "DescriptionStyleModel",
      "state": {
       "_model_module": "@jupyter-widgets/controls",
       "_model_module_version": "1.5.0",
       "_model_name": "DescriptionStyleModel",
       "_view_count": null,
       "_view_module": "@jupyter-widgets/base",
       "_view_module_version": "1.2.0",
       "_view_name": "StyleView",
       "description_width": ""
      }
     },
     "48b36757767f4ff39f262dd63e844057": {
      "model_module": "@jupyter-widgets/controls",
      "model_module_version": "1.5.0",
      "model_name": "HTMLModel",
      "state": {
       "_dom_classes": [],
       "_model_module": "@jupyter-widgets/controls",
       "_model_module_version": "1.5.0",
       "_model_name": "HTMLModel",
       "_view_count": null,
       "_view_module": "@jupyter-widgets/controls",
       "_view_module_version": "1.5.0",
       "_view_name": "HTMLView",
       "description": "",
       "description_tooltip": null,
       "layout": "IPY_MODEL_14972cafd36646939e742a987e1d0ec7",
       "placeholder": "​",
       "style": "IPY_MODEL_3e601d15c9ef4bd1b05e70f9267e1dfe",
       "value": "Downloading: 100%"
      }
     },
     "4c514a00a080445da009d272716b3577": {
      "model_module": "@jupyter-widgets/controls",
      "model_module_version": "1.5.0",
      "model_name": "HTMLModel",
      "state": {
       "_dom_classes": [],
       "_model_module": "@jupyter-widgets/controls",
       "_model_module_version": "1.5.0",
       "_model_name": "HTMLModel",
       "_view_count": null,
       "_view_module": "@jupyter-widgets/controls",
       "_view_module_version": "1.5.0",
       "_view_name": "HTMLView",
       "description": "",
       "description_tooltip": null,
       "layout": "IPY_MODEL_81b1213eb9dc4aa083951352d9f6beaf",
       "placeholder": "​",
       "style": "IPY_MODEL_7603cb9268524ed3821b4f307f74d15e",
       "value": "Downloading: 100%"
      }
     },
     "4e94a902a0d44b1eacfaeee99cd470d2": {
      "model_module": "@jupyter-widgets/base",
      "model_module_version": "1.2.0",
      "model_name": "LayoutModel",
      "state": {
       "_model_module": "@jupyter-widgets/base",
       "_model_module_version": "1.2.0",
       "_model_name": "LayoutModel",
       "_view_count": null,
       "_view_module": "@jupyter-widgets/base",
       "_view_module_version": "1.2.0",
       "_view_name": "LayoutView",
       "align_content": null,
       "align_items": null,
       "align_self": null,
       "border": null,
       "bottom": null,
       "display": null,
       "flex": null,
       "flex_flow": null,
       "grid_area": null,
       "grid_auto_columns": null,
       "grid_auto_flow": null,
       "grid_auto_rows": null,
       "grid_column": null,
       "grid_gap": null,
       "grid_row": null,
       "grid_template_areas": null,
       "grid_template_columns": null,
       "grid_template_rows": null,
       "height": null,
       "justify_content": null,
       "justify_items": null,
       "left": null,
       "margin": null,
       "max_height": null,
       "max_width": null,
       "min_height": null,
       "min_width": null,
       "object_fit": null,
       "object_position": null,
       "order": null,
       "overflow": null,
       "overflow_x": null,
       "overflow_y": null,
       "padding": null,
       "right": null,
       "top": null,
       "visibility": null,
       "width": null
      }
     },
     "5235854cc7964193afec8b3316b36ef7": {
      "model_module": "@jupyter-widgets/controls",
      "model_module_version": "1.5.0",
      "model_name": "HBoxModel",
      "state": {
       "_dom_classes": [],
       "_model_module": "@jupyter-widgets/controls",
       "_model_module_version": "1.5.0",
       "_model_name": "HBoxModel",
       "_view_count": null,
       "_view_module": "@jupyter-widgets/controls",
       "_view_module_version": "1.5.0",
       "_view_name": "HBoxView",
       "box_style": "",
       "children": [
        "IPY_MODEL_58c973b1ea8a446e9993f32d3612c8b9",
        "IPY_MODEL_b849e52bd84942e583de4b9325c96afe",
        "IPY_MODEL_291ab6d32ec345ee8adaa6f354bfcfb4"
       ],
       "layout": "IPY_MODEL_fb6b7fc69b2549ab9d80d71017422178"
      }
     },
     "58c973b1ea8a446e9993f32d3612c8b9": {
      "model_module": "@jupyter-widgets/controls",
      "model_module_version": "1.5.0",
      "model_name": "HTMLModel",
      "state": {
       "_dom_classes": [],
       "_model_module": "@jupyter-widgets/controls",
       "_model_module_version": "1.5.0",
       "_model_name": "HTMLModel",
       "_view_count": null,
       "_view_module": "@jupyter-widgets/controls",
       "_view_module_version": "1.5.0",
       "_view_name": "HTMLView",
       "description": "",
       "description_tooltip": null,
       "layout": "IPY_MODEL_360314d0f3254b66818b8a62223c2b0b",
       "placeholder": "​",
       "style": "IPY_MODEL_c5de80b22af543edb57e65780298069e",
       "value": "100%"
      }
     },
     "5a2b3274110a42159fcfb2e01ceea10a": {
      "model_module": "@jupyter-widgets/controls",
      "model_module_version": "1.5.0",
      "model_name": "HBoxModel",
      "state": {
       "_dom_classes": [],
       "_model_module": "@jupyter-widgets/controls",
       "_model_module_version": "1.5.0",
       "_model_name": "HBoxModel",
       "_view_count": null,
       "_view_module": "@jupyter-widgets/controls",
       "_view_module_version": "1.5.0",
       "_view_name": "HBoxView",
       "box_style": "",
       "children": [
        "IPY_MODEL_43014906a0084e288ab06cb3ebf57538",
        "IPY_MODEL_1c5d07635bff4f7999e3e8486f648aaf",
        "IPY_MODEL_3b0ebe22bd154b01bcb4d6b2ab2dec83"
       ],
       "layout": "IPY_MODEL_2373dbe30aca4d64b94b5bb64216151e"
      }
     },
     "5d82f1a2cf554609ba65dfb95dc152e5": {
      "model_module": "@jupyter-widgets/base",
      "model_module_version": "1.2.0",
      "model_name": "LayoutModel",
      "state": {
       "_model_module": "@jupyter-widgets/base",
       "_model_module_version": "1.2.0",
       "_model_name": "LayoutModel",
       "_view_count": null,
       "_view_module": "@jupyter-widgets/base",
       "_view_module_version": "1.2.0",
       "_view_name": "LayoutView",
       "align_content": null,
       "align_items": null,
       "align_self": null,
       "border": null,
       "bottom": null,
       "display": null,
       "flex": null,
       "flex_flow": null,
       "grid_area": null,
       "grid_auto_columns": null,
       "grid_auto_flow": null,
       "grid_auto_rows": null,
       "grid_column": null,
       "grid_gap": null,
       "grid_row": null,
       "grid_template_areas": null,
       "grid_template_columns": null,
       "grid_template_rows": null,
       "height": null,
       "justify_content": null,
       "justify_items": null,
       "left": null,
       "margin": null,
       "max_height": null,
       "max_width": null,
       "min_height": null,
       "min_width": null,
       "object_fit": null,
       "object_position": null,
       "order": null,
       "overflow": null,
       "overflow_x": null,
       "overflow_y": null,
       "padding": null,
       "right": null,
       "top": null,
       "visibility": null,
       "width": null
      }
     },
     "5ffb53b010e948a0918366a7721dd7a9": {
      "model_module": "@jupyter-widgets/controls",
      "model_module_version": "1.5.0",
      "model_name": "LabelModel",
      "state": {
       "_dom_classes": [],
       "_model_module": "@jupyter-widgets/controls",
       "_model_module_version": "1.5.0",
       "_model_name": "LabelModel",
       "_view_count": null,
       "_view_module": "@jupyter-widgets/controls",
       "_view_module_version": "1.5.0",
       "_view_name": "LabelView",
       "description": "",
       "description_tooltip": null,
       "layout": "IPY_MODEL_aaf4c8e1ae794178bd2db64c5c27edcd",
       "placeholder": "​",
       "style": "IPY_MODEL_ff0d93c0f2a54cae8698028db31d1454",
       "value": "0.065 MB of 0.065 MB uploaded (0.000 MB deduped)\r"
      }
     },
     "65f9dfd885184f818373dcaf8b820da7": {
      "model_module": "@jupyter-widgets/base",
      "model_module_version": "1.2.0",
      "model_name": "LayoutModel",
      "state": {
       "_model_module": "@jupyter-widgets/base",
       "_model_module_version": "1.2.0",
       "_model_name": "LayoutModel",
       "_view_count": null,
       "_view_module": "@jupyter-widgets/base",
       "_view_module_version": "1.2.0",
       "_view_name": "LayoutView",
       "align_content": null,
       "align_items": null,
       "align_self": null,
       "border": null,
       "bottom": null,
       "display": null,
       "flex": null,
       "flex_flow": null,
       "grid_area": null,
       "grid_auto_columns": null,
       "grid_auto_flow": null,
       "grid_auto_rows": null,
       "grid_column": null,
       "grid_gap": null,
       "grid_row": null,
       "grid_template_areas": null,
       "grid_template_columns": null,
       "grid_template_rows": null,
       "height": null,
       "justify_content": null,
       "justify_items": null,
       "left": null,
       "margin": null,
       "max_height": null,
       "max_width": null,
       "min_height": null,
       "min_width": null,
       "object_fit": null,
       "object_position": null,
       "order": null,
       "overflow": null,
       "overflow_x": null,
       "overflow_y": null,
       "padding": null,
       "right": null,
       "top": null,
       "visibility": null,
       "width": null
      }
     },
     "673fb48e7dca47f4a3754d06af7dcf1f": {
      "model_module": "@jupyter-widgets/controls",
      "model_module_version": "1.5.0",
      "model_name": "HTMLModel",
      "state": {
       "_dom_classes": [],
       "_model_module": "@jupyter-widgets/controls",
       "_model_module_version": "1.5.0",
       "_model_name": "HTMLModel",
       "_view_count": null,
       "_view_module": "@jupyter-widgets/controls",
       "_view_module_version": "1.5.0",
       "_view_name": "HTMLView",
       "description": "",
       "description_tooltip": null,
       "layout": "IPY_MODEL_749c407f4aa34689954d06117f699f3c",
       "placeholder": "​",
       "style": "IPY_MODEL_bb944cd3fb694105a4d535f4e9c333a8",
       "value": "100%"
      }
     },
     "6947506e822e46d99b4dd82a8a4209cd": {
      "model_module": "@jupyter-widgets/base",
      "model_module_version": "1.2.0",
      "model_name": "LayoutModel",
      "state": {
       "_model_module": "@jupyter-widgets/base",
       "_model_module_version": "1.2.0",
       "_model_name": "LayoutModel",
       "_view_count": null,
       "_view_module": "@jupyter-widgets/base",
       "_view_module_version": "1.2.0",
       "_view_name": "LayoutView",
       "align_content": null,
       "align_items": null,
       "align_self": null,
       "border": null,
       "bottom": null,
       "display": null,
       "flex": null,
       "flex_flow": null,
       "grid_area": null,
       "grid_auto_columns": null,
       "grid_auto_flow": null,
       "grid_auto_rows": null,
       "grid_column": null,
       "grid_gap": null,
       "grid_row": null,
       "grid_template_areas": null,
       "grid_template_columns": null,
       "grid_template_rows": null,
       "height": null,
       "justify_content": null,
       "justify_items": null,
       "left": null,
       "margin": null,
       "max_height": null,
       "max_width": null,
       "min_height": null,
       "min_width": null,
       "object_fit": null,
       "object_position": null,
       "order": null,
       "overflow": null,
       "overflow_x": null,
       "overflow_y": null,
       "padding": null,
       "right": null,
       "top": null,
       "visibility": null,
       "width": null
      }
     },
     "749c407f4aa34689954d06117f699f3c": {
      "model_module": "@jupyter-widgets/base",
      "model_module_version": "1.2.0",
      "model_name": "LayoutModel",
      "state": {
       "_model_module": "@jupyter-widgets/base",
       "_model_module_version": "1.2.0",
       "_model_name": "LayoutModel",
       "_view_count": null,
       "_view_module": "@jupyter-widgets/base",
       "_view_module_version": "1.2.0",
       "_view_name": "LayoutView",
       "align_content": null,
       "align_items": null,
       "align_self": null,
       "border": null,
       "bottom": null,
       "display": null,
       "flex": null,
       "flex_flow": null,
       "grid_area": null,
       "grid_auto_columns": null,
       "grid_auto_flow": null,
       "grid_auto_rows": null,
       "grid_column": null,
       "grid_gap": null,
       "grid_row": null,
       "grid_template_areas": null,
       "grid_template_columns": null,
       "grid_template_rows": null,
       "height": null,
       "justify_content": null,
       "justify_items": null,
       "left": null,
       "margin": null,
       "max_height": null,
       "max_width": null,
       "min_height": null,
       "min_width": null,
       "object_fit": null,
       "object_position": null,
       "order": null,
       "overflow": null,
       "overflow_x": null,
       "overflow_y": null,
       "padding": null,
       "right": null,
       "top": null,
       "visibility": null,
       "width": null
      }
     },
     "7603cb9268524ed3821b4f307f74d15e": {
      "model_module": "@jupyter-widgets/controls",
      "model_module_version": "1.5.0",
      "model_name": "DescriptionStyleModel",
      "state": {
       "_model_module": "@jupyter-widgets/controls",
       "_model_module_version": "1.5.0",
       "_model_name": "DescriptionStyleModel",
       "_view_count": null,
       "_view_module": "@jupyter-widgets/base",
       "_view_module_version": "1.2.0",
       "_view_name": "StyleView",
       "description_width": ""
      }
     },
     "7d211c0746b64a0b935fa964ad7bd858": {
      "model_module": "@jupyter-widgets/controls",
      "model_module_version": "1.5.0",
      "model_name": "HTMLModel",
      "state": {
       "_dom_classes": [],
       "_model_module": "@jupyter-widgets/controls",
       "_model_module_version": "1.5.0",
       "_model_name": "HTMLModel",
       "_view_count": null,
       "_view_module": "@jupyter-widgets/controls",
       "_view_module_version": "1.5.0",
       "_view_name": "HTMLView",
       "description": "",
       "description_tooltip": null,
       "layout": "IPY_MODEL_f836cfd56e0d4d7188f1b263a5845bff",
       "placeholder": "​",
       "style": "IPY_MODEL_a87f939ae9cb44bf8d9eed523f5cb995",
       "value": "100%"
      }
     },
     "7fb6ee0e688440bab23c07808e5cef8b": {
      "model_module": "@jupyter-widgets/controls",
      "model_module_version": "1.5.0",
      "model_name": "FloatProgressModel",
      "state": {
       "_dom_classes": [],
       "_model_module": "@jupyter-widgets/controls",
       "_model_module_version": "1.5.0",
       "_model_name": "FloatProgressModel",
       "_view_count": null,
       "_view_module": "@jupyter-widgets/controls",
       "_view_module_version": "1.5.0",
       "_view_name": "ProgressView",
       "bar_style": "success",
       "description": "",
       "description_tooltip": null,
       "layout": "IPY_MODEL_c0dcc3eeec934d289bf99c7d14bab090",
       "max": 873673253,
       "min": 0,
       "orientation": "horizontal",
       "style": "IPY_MODEL_c4ff773d63e34e0c93e23aa455a97958",
       "value": 873673253
      }
     },
     "80f827d24b2e421bbe84d92c8dcc002b": {
      "model_module": "@jupyter-widgets/base",
      "model_module_version": "1.2.0",
      "model_name": "LayoutModel",
      "state": {
       "_model_module": "@jupyter-widgets/base",
       "_model_module_version": "1.2.0",
       "_model_name": "LayoutModel",
       "_view_count": null,
       "_view_module": "@jupyter-widgets/base",
       "_view_module_version": "1.2.0",
       "_view_name": "LayoutView",
       "align_content": null,
       "align_items": null,
       "align_self": null,
       "border": null,
       "bottom": null,
       "display": null,
       "flex": null,
       "flex_flow": null,
       "grid_area": null,
       "grid_auto_columns": null,
       "grid_auto_flow": null,
       "grid_auto_rows": null,
       "grid_column": null,
       "grid_gap": null,
       "grid_row": null,
       "grid_template_areas": null,
       "grid_template_columns": null,
       "grid_template_rows": null,
       "height": null,
       "justify_content": null,
       "justify_items": null,
       "left": null,
       "margin": null,
       "max_height": null,
       "max_width": null,
       "min_height": null,
       "min_width": null,
       "object_fit": null,
       "object_position": null,
       "order": null,
       "overflow": null,
       "overflow_x": null,
       "overflow_y": null,
       "padding": null,
       "right": null,
       "top": null,
       "visibility": null,
       "width": null
      }
     },
     "81b1213eb9dc4aa083951352d9f6beaf": {
      "model_module": "@jupyter-widgets/base",
      "model_module_version": "1.2.0",
      "model_name": "LayoutModel",
      "state": {
       "_model_module": "@jupyter-widgets/base",
       "_model_module_version": "1.2.0",
       "_model_name": "LayoutModel",
       "_view_count": null,
       "_view_module": "@jupyter-widgets/base",
       "_view_module_version": "1.2.0",
       "_view_name": "LayoutView",
       "align_content": null,
       "align_items": null,
       "align_self": null,
       "border": null,
       "bottom": null,
       "display": null,
       "flex": null,
       "flex_flow": null,
       "grid_area": null,
       "grid_auto_columns": null,
       "grid_auto_flow": null,
       "grid_auto_rows": null,
       "grid_column": null,
       "grid_gap": null,
       "grid_row": null,
       "grid_template_areas": null,
       "grid_template_columns": null,
       "grid_template_rows": null,
       "height": null,
       "justify_content": null,
       "justify_items": null,
       "left": null,
       "margin": null,
       "max_height": null,
       "max_width": null,
       "min_height": null,
       "min_width": null,
       "object_fit": null,
       "object_position": null,
       "order": null,
       "overflow": null,
       "overflow_x": null,
       "overflow_y": null,
       "padding": null,
       "right": null,
       "top": null,
       "visibility": null,
       "width": null
      }
     },
     "82f268442b1349268246323595e0f371": {
      "model_module": "@jupyter-widgets/controls",
      "model_module_version": "1.5.0",
      "model_name": "HBoxModel",
      "state": {
       "_dom_classes": [],
       "_model_module": "@jupyter-widgets/controls",
       "_model_module_version": "1.5.0",
       "_model_name": "HBoxModel",
       "_view_count": null,
       "_view_module": "@jupyter-widgets/controls",
       "_view_module_version": "1.5.0",
       "_view_name": "HBoxView",
       "box_style": "",
       "children": [
        "IPY_MODEL_4c514a00a080445da009d272716b3577",
        "IPY_MODEL_b4e52efc58b54c81a39fa8e5fc26eedd",
        "IPY_MODEL_a1cafe17bdf945aa8a33875d0590f7a2"
       ],
       "layout": "IPY_MODEL_65f9dfd885184f818373dcaf8b820da7"
      }
     },
     "842a840396ab4cefb93cc2733bf00cf7": {
      "model_module": "@jupyter-widgets/controls",
      "model_module_version": "1.5.0",
      "model_name": "DescriptionStyleModel",
      "state": {
       "_model_module": "@jupyter-widgets/controls",
       "_model_module_version": "1.5.0",
       "_model_name": "DescriptionStyleModel",
       "_view_count": null,
       "_view_module": "@jupyter-widgets/base",
       "_view_module_version": "1.2.0",
       "_view_name": "StyleView",
       "description_width": ""
      }
     },
     "86af7db3cea442beb67da28063f15ed6": {
      "model_module": "@jupyter-widgets/controls",
      "model_module_version": "1.5.0",
      "model_name": "FloatProgressModel",
      "state": {
       "_dom_classes": [],
       "_model_module": "@jupyter-widgets/controls",
       "_model_module_version": "1.5.0",
       "_model_name": "FloatProgressModel",
       "_view_count": null,
       "_view_module": "@jupyter-widgets/controls",
       "_view_module_version": "1.5.0",
       "_view_name": "ProgressView",
       "bar_style": "",
       "description": "",
       "description_tooltip": null,
       "layout": "IPY_MODEL_be8bbaca794c4ab0b387c44fc3d2637f",
       "max": 1,
       "min": 0,
       "orientation": "horizontal",
       "style": "IPY_MODEL_126a1e5f24e44838a03204815209c5dc",
       "value": 1
      }
     },
     "87214ce12c1f422481a0fe3caf5a3ce8": {
      "model_module": "@jupyter-widgets/base",
      "model_module_version": "1.2.0",
      "model_name": "LayoutModel",
      "state": {
       "_model_module": "@jupyter-widgets/base",
       "_model_module_version": "1.2.0",
       "_model_name": "LayoutModel",
       "_view_count": null,
       "_view_module": "@jupyter-widgets/base",
       "_view_module_version": "1.2.0",
       "_view_name": "LayoutView",
       "align_content": null,
       "align_items": null,
       "align_self": null,
       "border": null,
       "bottom": null,
       "display": null,
       "flex": null,
       "flex_flow": null,
       "grid_area": null,
       "grid_auto_columns": null,
       "grid_auto_flow": null,
       "grid_auto_rows": null,
       "grid_column": null,
       "grid_gap": null,
       "grid_row": null,
       "grid_template_areas": null,
       "grid_template_columns": null,
       "grid_template_rows": null,
       "height": null,
       "justify_content": null,
       "justify_items": null,
       "left": null,
       "margin": null,
       "max_height": null,
       "max_width": null,
       "min_height": null,
       "min_width": null,
       "object_fit": null,
       "object_position": null,
       "order": null,
       "overflow": null,
       "overflow_x": null,
       "overflow_y": null,
       "padding": null,
       "right": null,
       "top": null,
       "visibility": null,
       "width": null
      }
     },
     "874dcbcfa5c94b938abebb1c7d00007c": {
      "model_module": "@jupyter-widgets/controls",
      "model_module_version": "1.5.0",
      "model_name": "ProgressStyleModel",
      "state": {
       "_model_module": "@jupyter-widgets/controls",
       "_model_module_version": "1.5.0",
       "_model_name": "ProgressStyleModel",
       "_view_count": null,
       "_view_module": "@jupyter-widgets/base",
       "_view_module_version": "1.2.0",
       "_view_name": "StyleView",
       "bar_color": null,
       "description_width": ""
      }
     },
     "8ae7b72a5b9f4533a2076af3fb7786bd": {
      "model_module": "@jupyter-widgets/controls",
      "model_module_version": "1.5.0",
      "model_name": "DescriptionStyleModel",
      "state": {
       "_model_module": "@jupyter-widgets/controls",
       "_model_module_version": "1.5.0",
       "_model_name": "DescriptionStyleModel",
       "_view_count": null,
       "_view_module": "@jupyter-widgets/base",
       "_view_module_version": "1.2.0",
       "_view_name": "StyleView",
       "description_width": ""
      }
     },
     "929108014ee94c9092394cf7ef09134f": {
      "model_module": "@jupyter-widgets/controls",
      "model_module_version": "1.5.0",
      "model_name": "DescriptionStyleModel",
      "state": {
       "_model_module": "@jupyter-widgets/controls",
       "_model_module_version": "1.5.0",
       "_model_name": "DescriptionStyleModel",
       "_view_count": null,
       "_view_module": "@jupyter-widgets/base",
       "_view_module_version": "1.2.0",
       "_view_name": "StyleView",
       "description_width": ""
      }
     },
     "968e2989cea6490d9ee08b6700291242": {
      "model_module": "@jupyter-widgets/base",
      "model_module_version": "1.2.0",
      "model_name": "LayoutModel",
      "state": {
       "_model_module": "@jupyter-widgets/base",
       "_model_module_version": "1.2.0",
       "_model_name": "LayoutModel",
       "_view_count": null,
       "_view_module": "@jupyter-widgets/base",
       "_view_module_version": "1.2.0",
       "_view_name": "LayoutView",
       "align_content": null,
       "align_items": null,
       "align_self": null,
       "border": null,
       "bottom": null,
       "display": null,
       "flex": null,
       "flex_flow": null,
       "grid_area": null,
       "grid_auto_columns": null,
       "grid_auto_flow": null,
       "grid_auto_rows": null,
       "grid_column": null,
       "grid_gap": null,
       "grid_row": null,
       "grid_template_areas": null,
       "grid_template_columns": null,
       "grid_template_rows": null,
       "height": null,
       "justify_content": null,
       "justify_items": null,
       "left": null,
       "margin": null,
       "max_height": null,
       "max_width": null,
       "min_height": null,
       "min_width": null,
       "object_fit": null,
       "object_position": null,
       "order": null,
       "overflow": null,
       "overflow_x": null,
       "overflow_y": null,
       "padding": null,
       "right": null,
       "top": null,
       "visibility": null,
       "width": null
      }
     },
     "9901f18e7e5841b8bfcb918c432ef718": {
      "model_module": "@jupyter-widgets/base",
      "model_module_version": "1.2.0",
      "model_name": "LayoutModel",
      "state": {
       "_model_module": "@jupyter-widgets/base",
       "_model_module_version": "1.2.0",
       "_model_name": "LayoutModel",
       "_view_count": null,
       "_view_module": "@jupyter-widgets/base",
       "_view_module_version": "1.2.0",
       "_view_name": "LayoutView",
       "align_content": null,
       "align_items": null,
       "align_self": null,
       "border": null,
       "bottom": null,
       "display": null,
       "flex": null,
       "flex_flow": null,
       "grid_area": null,
       "grid_auto_columns": null,
       "grid_auto_flow": null,
       "grid_auto_rows": null,
       "grid_column": null,
       "grid_gap": null,
       "grid_row": null,
       "grid_template_areas": null,
       "grid_template_columns": null,
       "grid_template_rows": null,
       "height": null,
       "justify_content": null,
       "justify_items": null,
       "left": null,
       "margin": null,
       "max_height": null,
       "max_width": null,
       "min_height": null,
       "min_width": null,
       "object_fit": null,
       "object_position": null,
       "order": null,
       "overflow": null,
       "overflow_x": null,
       "overflow_y": null,
       "padding": null,
       "right": null,
       "top": null,
       "visibility": null,
       "width": null
      }
     },
     "9d403276e05f4c368e46f353070b9d9a": {
      "model_module": "@jupyter-widgets/base",
      "model_module_version": "1.2.0",
      "model_name": "LayoutModel",
      "state": {
       "_model_module": "@jupyter-widgets/base",
       "_model_module_version": "1.2.0",
       "_model_name": "LayoutModel",
       "_view_count": null,
       "_view_module": "@jupyter-widgets/base",
       "_view_module_version": "1.2.0",
       "_view_name": "LayoutView",
       "align_content": null,
       "align_items": null,
       "align_self": null,
       "border": null,
       "bottom": null,
       "display": null,
       "flex": null,
       "flex_flow": null,
       "grid_area": null,
       "grid_auto_columns": null,
       "grid_auto_flow": null,
       "grid_auto_rows": null,
       "grid_column": null,
       "grid_gap": null,
       "grid_row": null,
       "grid_template_areas": null,
       "grid_template_columns": null,
       "grid_template_rows": null,
       "height": null,
       "justify_content": null,
       "justify_items": null,
       "left": null,
       "margin": null,
       "max_height": null,
       "max_width": null,
       "min_height": null,
       "min_width": null,
       "object_fit": null,
       "object_position": null,
       "order": null,
       "overflow": null,
       "overflow_x": null,
       "overflow_y": null,
       "padding": null,
       "right": null,
       "top": null,
       "visibility": null,
       "width": null
      }
     },
     "a03e24ff8fc54bccaa69e36839b36bab": {
      "model_module": "@jupyter-widgets/controls",
      "model_module_version": "1.5.0",
      "model_name": "FloatProgressModel",
      "state": {
       "_dom_classes": [],
       "_model_module": "@jupyter-widgets/controls",
       "_model_module_version": "1.5.0",
       "_model_name": "FloatProgressModel",
       "_view_count": null,
       "_view_module": "@jupyter-widgets/controls",
       "_view_module_version": "1.5.0",
       "_view_name": "ProgressView",
       "bar_style": "success",
       "description": "",
       "description_tooltip": null,
       "layout": "IPY_MODEL_80f827d24b2e421bbe84d92c8dcc002b",
       "max": 580,
       "min": 0,
       "orientation": "horizontal",
       "style": "IPY_MODEL_349e43c8d4114c36823434cef63fc567",
       "value": 580
      }
     },
     "a1cafe17bdf945aa8a33875d0590f7a2": {
      "model_module": "@jupyter-widgets/controls",
      "model_module_version": "1.5.0",
      "model_name": "HTMLModel",
      "state": {
       "_dom_classes": [],
       "_model_module": "@jupyter-widgets/controls",
       "_model_module_version": "1.5.0",
       "_model_name": "HTMLModel",
       "_view_count": null,
       "_view_module": "@jupyter-widgets/controls",
       "_view_module_version": "1.5.0",
       "_view_name": "HTMLView",
       "description": "",
       "description_tooltip": null,
       "layout": "IPY_MODEL_dd68281fe7ea499882e5d23a5bbfb9f0",
       "placeholder": "​",
       "style": "IPY_MODEL_8ae7b72a5b9f4533a2076af3fb7786bd",
       "value": " 52.0/52.0 [00:00&lt;00:00, 2.03kB/s]"
      }
     },
     "a3f3db4032b54ac49421d5cbd31a9533": {
      "model_module": "@jupyter-widgets/base",
      "model_module_version": "1.2.0",
      "model_name": "LayoutModel",
      "state": {
       "_model_module": "@jupyter-widgets/base",
       "_model_module_version": "1.2.0",
       "_model_name": "LayoutModel",
       "_view_count": null,
       "_view_module": "@jupyter-widgets/base",
       "_view_module_version": "1.2.0",
       "_view_name": "LayoutView",
       "align_content": null,
       "align_items": null,
       "align_self": null,
       "border": null,
       "bottom": null,
       "display": null,
       "flex": null,
       "flex_flow": null,
       "grid_area": null,
       "grid_auto_columns": null,
       "grid_auto_flow": null,
       "grid_auto_rows": null,
       "grid_column": null,
       "grid_gap": null,
       "grid_row": null,
       "grid_template_areas": null,
       "grid_template_columns": null,
       "grid_template_rows": null,
       "height": null,
       "justify_content": null,
       "justify_items": null,
       "left": null,
       "margin": null,
       "max_height": null,
       "max_width": null,
       "min_height": null,
       "min_width": null,
       "object_fit": null,
       "object_position": null,
       "order": null,
       "overflow": null,
       "overflow_x": null,
       "overflow_y": null,
       "padding": null,
       "right": null,
       "top": null,
       "visibility": null,
       "width": null
      }
     },
     "a87f939ae9cb44bf8d9eed523f5cb995": {
      "model_module": "@jupyter-widgets/controls",
      "model_module_version": "1.5.0",
      "model_name": "DescriptionStyleModel",
      "state": {
       "_model_module": "@jupyter-widgets/controls",
       "_model_module_version": "1.5.0",
       "_model_name": "DescriptionStyleModel",
       "_view_count": null,
       "_view_module": "@jupyter-widgets/base",
       "_view_module_version": "1.2.0",
       "_view_name": "StyleView",
       "description_width": ""
      }
     },
     "aaf4c8e1ae794178bd2db64c5c27edcd": {
      "model_module": "@jupyter-widgets/base",
      "model_module_version": "1.2.0",
      "model_name": "LayoutModel",
      "state": {
       "_model_module": "@jupyter-widgets/base",
       "_model_module_version": "1.2.0",
       "_model_name": "LayoutModel",
       "_view_count": null,
       "_view_module": "@jupyter-widgets/base",
       "_view_module_version": "1.2.0",
       "_view_name": "LayoutView",
       "align_content": null,
       "align_items": null,
       "align_self": null,
       "border": null,
       "bottom": null,
       "display": null,
       "flex": null,
       "flex_flow": null,
       "grid_area": null,
       "grid_auto_columns": null,
       "grid_auto_flow": null,
       "grid_auto_rows": null,
       "grid_column": null,
       "grid_gap": null,
       "grid_row": null,
       "grid_template_areas": null,
       "grid_template_columns": null,
       "grid_template_rows": null,
       "height": null,
       "justify_content": null,
       "justify_items": null,
       "left": null,
       "margin": null,
       "max_height": null,
       "max_width": null,
       "min_height": null,
       "min_width": null,
       "object_fit": null,
       "object_position": null,
       "order": null,
       "overflow": null,
       "overflow_x": null,
       "overflow_y": null,
       "padding": null,
       "right": null,
       "top": null,
       "visibility": null,
       "width": null
      }
     },
     "ab615699cb634117a739e8673396b52d": {
      "model_module": "@jupyter-widgets/controls",
      "model_module_version": "1.5.0",
      "model_name": "ProgressStyleModel",
      "state": {
       "_model_module": "@jupyter-widgets/controls",
       "_model_module_version": "1.5.0",
       "_model_name": "ProgressStyleModel",
       "_view_count": null,
       "_view_module": "@jupyter-widgets/base",
       "_view_module_version": "1.2.0",
       "_view_name": "StyleView",
       "bar_color": null,
       "description_width": ""
      }
     },
     "ad4745f1eca942009bdf6cf12913f34a": {
      "model_module": "@jupyter-widgets/base",
      "model_module_version": "1.2.0",
      "model_name": "LayoutModel",
      "state": {
       "_model_module": "@jupyter-widgets/base",
       "_model_module_version": "1.2.0",
       "_model_name": "LayoutModel",
       "_view_count": null,
       "_view_module": "@jupyter-widgets/base",
       "_view_module_version": "1.2.0",
       "_view_name": "LayoutView",
       "align_content": null,
       "align_items": null,
       "align_self": null,
       "border": null,
       "bottom": null,
       "display": null,
       "flex": null,
       "flex_flow": null,
       "grid_area": null,
       "grid_auto_columns": null,
       "grid_auto_flow": null,
       "grid_auto_rows": null,
       "grid_column": null,
       "grid_gap": null,
       "grid_row": null,
       "grid_template_areas": null,
       "grid_template_columns": null,
       "grid_template_rows": null,
       "height": null,
       "justify_content": null,
       "justify_items": null,
       "left": null,
       "margin": null,
       "max_height": null,
       "max_width": null,
       "min_height": null,
       "min_width": null,
       "object_fit": null,
       "object_position": null,
       "order": null,
       "overflow": null,
       "overflow_x": null,
       "overflow_y": null,
       "padding": null,
       "right": null,
       "top": null,
       "visibility": null,
       "width": null
      }
     },
     "ad6386dafce545c48eac271bb2a3c0dd": {
      "model_module": "@jupyter-widgets/controls",
      "model_module_version": "1.5.0",
      "model_name": "DescriptionStyleModel",
      "state": {
       "_model_module": "@jupyter-widgets/controls",
       "_model_module_version": "1.5.0",
       "_model_name": "DescriptionStyleModel",
       "_view_count": null,
       "_view_module": "@jupyter-widgets/base",
       "_view_module_version": "1.2.0",
       "_view_name": "StyleView",
       "description_width": ""
      }
     },
     "b4e52efc58b54c81a39fa8e5fc26eedd": {
      "model_module": "@jupyter-widgets/controls",
      "model_module_version": "1.5.0",
      "model_name": "FloatProgressModel",
      "state": {
       "_dom_classes": [],
       "_model_module": "@jupyter-widgets/controls",
       "_model_module_version": "1.5.0",
       "_model_name": "FloatProgressModel",
       "_view_count": null,
       "_view_module": "@jupyter-widgets/controls",
       "_view_module_version": "1.5.0",
       "_view_name": "ProgressView",
       "bar_style": "success",
       "description": "",
       "description_tooltip": null,
       "layout": "IPY_MODEL_6947506e822e46d99b4dd82a8a4209cd",
       "max": 52,
       "min": 0,
       "orientation": "horizontal",
       "style": "IPY_MODEL_874dcbcfa5c94b938abebb1c7d00007c",
       "value": 52
      }
     },
     "b6f3605957844ac0b026ef0593befbae": {
      "model_module": "@jupyter-widgets/base",
      "model_module_version": "1.2.0",
      "model_name": "LayoutModel",
      "state": {
       "_model_module": "@jupyter-widgets/base",
       "_model_module_version": "1.2.0",
       "_model_name": "LayoutModel",
       "_view_count": null,
       "_view_module": "@jupyter-widgets/base",
       "_view_module_version": "1.2.0",
       "_view_name": "LayoutView",
       "align_content": null,
       "align_items": null,
       "align_self": null,
       "border": null,
       "bottom": null,
       "display": null,
       "flex": null,
       "flex_flow": null,
       "grid_area": null,
       "grid_auto_columns": null,
       "grid_auto_flow": null,
       "grid_auto_rows": null,
       "grid_column": null,
       "grid_gap": null,
       "grid_row": null,
       "grid_template_areas": null,
       "grid_template_columns": null,
       "grid_template_rows": null,
       "height": null,
       "justify_content": null,
       "justify_items": null,
       "left": null,
       "margin": null,
       "max_height": null,
       "max_width": null,
       "min_height": null,
       "min_width": null,
       "object_fit": null,
       "object_position": null,
       "order": null,
       "overflow": null,
       "overflow_x": null,
       "overflow_y": null,
       "padding": null,
       "right": null,
       "top": null,
       "visibility": null,
       "width": null
      }
     },
     "b849e52bd84942e583de4b9325c96afe": {
      "model_module": "@jupyter-widgets/controls",
      "model_module_version": "1.5.0",
      "model_name": "FloatProgressModel",
      "state": {
       "_dom_classes": [],
       "_model_module": "@jupyter-widgets/controls",
       "_model_module_version": "1.5.0",
       "_model_name": "FloatProgressModel",
       "_view_count": null,
       "_view_module": "@jupyter-widgets/controls",
       "_view_module_version": "1.5.0",
       "_view_name": "ProgressView",
       "bar_style": "success",
       "description": "",
       "description_tooltip": null,
       "layout": "IPY_MODEL_341389680b6a43d8b6b3de95dffca671",
       "max": 36473,
       "min": 0,
       "orientation": "horizontal",
       "style": "IPY_MODEL_ab615699cb634117a739e8673396b52d",
       "value": 36473
      }
     },
     "ba8f6b6e291a4d6faae41e5e6921f4aa": {
      "model_module": "@jupyter-widgets/base",
      "model_module_version": "1.2.0",
      "model_name": "LayoutModel",
      "state": {
       "_model_module": "@jupyter-widgets/base",
       "_model_module_version": "1.2.0",
       "_model_name": "LayoutModel",
       "_view_count": null,
       "_view_module": "@jupyter-widgets/base",
       "_view_module_version": "1.2.0",
       "_view_name": "LayoutView",
       "align_content": null,
       "align_items": null,
       "align_self": null,
       "border": null,
       "bottom": null,
       "display": null,
       "flex": null,
       "flex_flow": null,
       "grid_area": null,
       "grid_auto_columns": null,
       "grid_auto_flow": null,
       "grid_auto_rows": null,
       "grid_column": null,
       "grid_gap": null,
       "grid_row": null,
       "grid_template_areas": null,
       "grid_template_columns": null,
       "grid_template_rows": null,
       "height": null,
       "justify_content": null,
       "justify_items": null,
       "left": null,
       "margin": null,
       "max_height": null,
       "max_width": null,
       "min_height": null,
       "min_width": null,
       "object_fit": null,
       "object_position": null,
       "order": null,
       "overflow": null,
       "overflow_x": null,
       "overflow_y": null,
       "padding": null,
       "right": null,
       "top": null,
       "visibility": null,
       "width": null
      }
     },
     "bb944cd3fb694105a4d535f4e9c333a8": {
      "model_module": "@jupyter-widgets/controls",
      "model_module_version": "1.5.0",
      "model_name": "DescriptionStyleModel",
      "state": {
       "_model_module": "@jupyter-widgets/controls",
       "_model_module_version": "1.5.0",
       "_model_name": "DescriptionStyleModel",
       "_view_count": null,
       "_view_module": "@jupyter-widgets/base",
       "_view_module_version": "1.2.0",
       "_view_name": "StyleView",
       "description_width": ""
      }
     },
     "bba517b096dd460cb764ccd71b57f148": {
      "model_module": "@jupyter-widgets/controls",
      "model_module_version": "1.5.0",
      "model_name": "FloatProgressModel",
      "state": {
       "_dom_classes": [],
       "_model_module": "@jupyter-widgets/controls",
       "_model_module_version": "1.5.0",
       "_model_name": "FloatProgressModel",
       "_view_count": null,
       "_view_module": "@jupyter-widgets/controls",
       "_view_module_version": "1.5.0",
       "_view_name": "ProgressView",
       "bar_style": "success",
       "description": "",
       "description_tooltip": null,
       "layout": "IPY_MODEL_ba8f6b6e291a4d6faae41e5e6921f4aa",
       "max": 136,
       "min": 0,
       "orientation": "horizontal",
       "style": "IPY_MODEL_ec381745899e4ce7900c973c72d2ff3b",
       "value": 136
      }
     },
     "be8bbaca794c4ab0b387c44fc3d2637f": {
      "model_module": "@jupyter-widgets/base",
      "model_module_version": "1.2.0",
      "model_name": "LayoutModel",
      "state": {
       "_model_module": "@jupyter-widgets/base",
       "_model_module_version": "1.2.0",
       "_model_name": "LayoutModel",
       "_view_count": null,
       "_view_module": "@jupyter-widgets/base",
       "_view_module_version": "1.2.0",
       "_view_name": "LayoutView",
       "align_content": null,
       "align_items": null,
       "align_self": null,
       "border": null,
       "bottom": null,
       "display": null,
       "flex": null,
       "flex_flow": null,
       "grid_area": null,
       "grid_auto_columns": null,
       "grid_auto_flow": null,
       "grid_auto_rows": null,
       "grid_column": null,
       "grid_gap": null,
       "grid_row": null,
       "grid_template_areas": null,
       "grid_template_columns": null,
       "grid_template_rows": null,
       "height": null,
       "justify_content": null,
       "justify_items": null,
       "left": null,
       "margin": null,
       "max_height": null,
       "max_width": null,
       "min_height": null,
       "min_width": null,
       "object_fit": null,
       "object_position": null,
       "order": null,
       "overflow": null,
       "overflow_x": null,
       "overflow_y": null,
       "padding": null,
       "right": null,
       "top": null,
       "visibility": null,
       "width": null
      }
     },
     "c0dcc3eeec934d289bf99c7d14bab090": {
      "model_module": "@jupyter-widgets/base",
      "model_module_version": "1.2.0",
      "model_name": "LayoutModel",
      "state": {
       "_model_module": "@jupyter-widgets/base",
       "_model_module_version": "1.2.0",
       "_model_name": "LayoutModel",
       "_view_count": null,
       "_view_module": "@jupyter-widgets/base",
       "_view_module_version": "1.2.0",
       "_view_name": "LayoutView",
       "align_content": null,
       "align_items": null,
       "align_self": null,
       "border": null,
       "bottom": null,
       "display": null,
       "flex": null,
       "flex_flow": null,
       "grid_area": null,
       "grid_auto_columns": null,
       "grid_auto_flow": null,
       "grid_auto_rows": null,
       "grid_column": null,
       "grid_gap": null,
       "grid_row": null,
       "grid_template_areas": null,
       "grid_template_columns": null,
       "grid_template_rows": null,
       "height": null,
       "justify_content": null,
       "justify_items": null,
       "left": null,
       "margin": null,
       "max_height": null,
       "max_width": null,
       "min_height": null,
       "min_width": null,
       "object_fit": null,
       "object_position": null,
       "order": null,
       "overflow": null,
       "overflow_x": null,
       "overflow_y": null,
       "padding": null,
       "right": null,
       "top": null,
       "visibility": null,
       "width": null
      }
     },
     "c1e8e53062324cf38fbd75eab01e066a": {
      "model_module": "@jupyter-widgets/base",
      "model_module_version": "1.2.0",
      "model_name": "LayoutModel",
      "state": {
       "_model_module": "@jupyter-widgets/base",
       "_model_module_version": "1.2.0",
       "_model_name": "LayoutModel",
       "_view_count": null,
       "_view_module": "@jupyter-widgets/base",
       "_view_module_version": "1.2.0",
       "_view_name": "LayoutView",
       "align_content": null,
       "align_items": null,
       "align_self": null,
       "border": null,
       "bottom": null,
       "display": null,
       "flex": null,
       "flex_flow": null,
       "grid_area": null,
       "grid_auto_columns": null,
       "grid_auto_flow": null,
       "grid_auto_rows": null,
       "grid_column": null,
       "grid_gap": null,
       "grid_row": null,
       "grid_template_areas": null,
       "grid_template_columns": null,
       "grid_template_rows": null,
       "height": null,
       "justify_content": null,
       "justify_items": null,
       "left": null,
       "margin": null,
       "max_height": null,
       "max_width": null,
       "min_height": null,
       "min_width": null,
       "object_fit": null,
       "object_position": null,
       "order": null,
       "overflow": null,
       "overflow_x": null,
       "overflow_y": null,
       "padding": null,
       "right": null,
       "top": null,
       "visibility": null,
       "width": null
      }
     },
     "c4ff773d63e34e0c93e23aa455a97958": {
      "model_module": "@jupyter-widgets/controls",
      "model_module_version": "1.5.0",
      "model_name": "ProgressStyleModel",
      "state": {
       "_model_module": "@jupyter-widgets/controls",
       "_model_module_version": "1.5.0",
       "_model_name": "ProgressStyleModel",
       "_view_count": null,
       "_view_module": "@jupyter-widgets/base",
       "_view_module_version": "1.2.0",
       "_view_name": "StyleView",
       "bar_color": null,
       "description_width": ""
      }
     },
     "c5de80b22af543edb57e65780298069e": {
      "model_module": "@jupyter-widgets/controls",
      "model_module_version": "1.5.0",
      "model_name": "DescriptionStyleModel",
      "state": {
       "_model_module": "@jupyter-widgets/controls",
       "_model_module_version": "1.5.0",
       "_model_name": "DescriptionStyleModel",
       "_view_count": null,
       "_view_module": "@jupyter-widgets/base",
       "_view_module_version": "1.2.0",
       "_view_name": "StyleView",
       "description_width": ""
      }
     },
     "d21724e187b94518ad3cc61f1daa73cf": {
      "model_module": "@jupyter-widgets/controls",
      "model_module_version": "1.5.0",
      "model_name": "HBoxModel",
      "state": {
       "_dom_classes": [],
       "_model_module": "@jupyter-widgets/controls",
       "_model_module_version": "1.5.0",
       "_model_name": "HBoxModel",
       "_view_count": null,
       "_view_module": "@jupyter-widgets/controls",
       "_view_module_version": "1.5.0",
       "_view_name": "HBoxView",
       "box_style": "",
       "children": [
        "IPY_MODEL_e13e1ad96b5648588ba7a5b2e3771179",
        "IPY_MODEL_7fb6ee0e688440bab23c07808e5cef8b",
        "IPY_MODEL_f9081778edc6436c9d1bc9a886ac922c"
       ],
       "layout": "IPY_MODEL_9901f18e7e5841b8bfcb918c432ef718"
      }
     },
     "d3b6e4a4aac943b79ba51bbacd77907e": {
      "model_module": "@jupyter-widgets/controls",
      "model_module_version": "1.5.0",
      "model_name": "DescriptionStyleModel",
      "state": {
       "_model_module": "@jupyter-widgets/controls",
       "_model_module_version": "1.5.0",
       "_model_name": "DescriptionStyleModel",
       "_view_count": null,
       "_view_module": "@jupyter-widgets/base",
       "_view_module_version": "1.2.0",
       "_view_name": "StyleView",
       "description_width": ""
      }
     },
     "d9f0d96d140a4115aadfdfc9ce5ba608": {
      "model_module": "@jupyter-widgets/controls",
      "model_module_version": "1.5.0",
      "model_name": "ProgressStyleModel",
      "state": {
       "_model_module": "@jupyter-widgets/controls",
       "_model_module_version": "1.5.0",
       "_model_name": "ProgressStyleModel",
       "_view_count": null,
       "_view_module": "@jupyter-widgets/base",
       "_view_module_version": "1.2.0",
       "_view_name": "StyleView",
       "bar_color": null,
       "description_width": ""
      }
     },
     "da88817e8aed48399b1948f8e004ee97": {
      "model_module": "@jupyter-widgets/base",
      "model_module_version": "1.2.0",
      "model_name": "LayoutModel",
      "state": {
       "_model_module": "@jupyter-widgets/base",
       "_model_module_version": "1.2.0",
       "_model_name": "LayoutModel",
       "_view_count": null,
       "_view_module": "@jupyter-widgets/base",
       "_view_module_version": "1.2.0",
       "_view_name": "LayoutView",
       "align_content": null,
       "align_items": null,
       "align_self": null,
       "border": null,
       "bottom": null,
       "display": null,
       "flex": null,
       "flex_flow": null,
       "grid_area": null,
       "grid_auto_columns": null,
       "grid_auto_flow": null,
       "grid_auto_rows": null,
       "grid_column": null,
       "grid_gap": null,
       "grid_row": null,
       "grid_template_areas": null,
       "grid_template_columns": null,
       "grid_template_rows": null,
       "height": null,
       "justify_content": null,
       "justify_items": null,
       "left": null,
       "margin": null,
       "max_height": null,
       "max_width": null,
       "min_height": null,
       "min_width": null,
       "object_fit": null,
       "object_position": null,
       "order": null,
       "overflow": null,
       "overflow_x": null,
       "overflow_y": null,
       "padding": null,
       "right": null,
       "top": null,
       "visibility": null,
       "width": null
      }
     },
     "dd68281fe7ea499882e5d23a5bbfb9f0": {
      "model_module": "@jupyter-widgets/base",
      "model_module_version": "1.2.0",
      "model_name": "LayoutModel",
      "state": {
       "_model_module": "@jupyter-widgets/base",
       "_model_module_version": "1.2.0",
       "_model_name": "LayoutModel",
       "_view_count": null,
       "_view_module": "@jupyter-widgets/base",
       "_view_module_version": "1.2.0",
       "_view_name": "LayoutView",
       "align_content": null,
       "align_items": null,
       "align_self": null,
       "border": null,
       "bottom": null,
       "display": null,
       "flex": null,
       "flex_flow": null,
       "grid_area": null,
       "grid_auto_columns": null,
       "grid_auto_flow": null,
       "grid_auto_rows": null,
       "grid_column": null,
       "grid_gap": null,
       "grid_row": null,
       "grid_template_areas": null,
       "grid_template_columns": null,
       "grid_template_rows": null,
       "height": null,
       "justify_content": null,
       "justify_items": null,
       "left": null,
       "margin": null,
       "max_height": null,
       "max_width": null,
       "min_height": null,
       "min_width": null,
       "object_fit": null,
       "object_position": null,
       "order": null,
       "overflow": null,
       "overflow_x": null,
       "overflow_y": null,
       "padding": null,
       "right": null,
       "top": null,
       "visibility": null,
       "width": null
      }
     },
     "de3e60ed24f04a7ab49a05b98b7cf0f0": {
      "model_module": "@jupyter-widgets/controls",
      "model_module_version": "1.5.0",
      "model_name": "DescriptionStyleModel",
      "state": {
       "_model_module": "@jupyter-widgets/controls",
       "_model_module_version": "1.5.0",
       "_model_name": "DescriptionStyleModel",
       "_view_count": null,
       "_view_module": "@jupyter-widgets/base",
       "_view_module_version": "1.2.0",
       "_view_name": "StyleView",
       "description_width": ""
      }
     },
     "e13e1ad96b5648588ba7a5b2e3771179": {
      "model_module": "@jupyter-widgets/controls",
      "model_module_version": "1.5.0",
      "model_name": "HTMLModel",
      "state": {
       "_dom_classes": [],
       "_model_module": "@jupyter-widgets/controls",
       "_model_module_version": "1.5.0",
       "_model_name": "HTMLModel",
       "_view_count": null,
       "_view_module": "@jupyter-widgets/controls",
       "_view_module_version": "1.5.0",
       "_view_name": "HTMLView",
       "description": "",
       "description_tooltip": null,
       "layout": "IPY_MODEL_1d83ae8940534922833de4d1fdd71216",
       "placeholder": "​",
       "style": "IPY_MODEL_46ab7441760642718f381e7f430e16a0",
       "value": "Downloading: 100%"
      }
     },
     "e3e17f880bab4d47a1531bebac861fda": {
      "model_module": "@jupyter-widgets/controls",
      "model_module_version": "1.5.0",
      "model_name": "HTMLModel",
      "state": {
       "_dom_classes": [],
       "_model_module": "@jupyter-widgets/controls",
       "_model_module_version": "1.5.0",
       "_model_name": "HTMLModel",
       "_view_count": null,
       "_view_module": "@jupyter-widgets/controls",
       "_view_module_version": "1.5.0",
       "_view_name": "HTMLView",
       "description": "",
       "description_tooltip": null,
       "layout": "IPY_MODEL_a3f3db4032b54ac49421d5cbd31a9533",
       "placeholder": "​",
       "style": "IPY_MODEL_35cb92ba1b2d4932bc3a0b0640f71b0c",
       "value": " 580/580 [00:00&lt;00:00, 23.1kB/s]"
      }
     },
     "ec381745899e4ce7900c973c72d2ff3b": {
      "model_module": "@jupyter-widgets/controls",
      "model_module_version": "1.5.0",
      "model_name": "ProgressStyleModel",
      "state": {
       "_model_module": "@jupyter-widgets/controls",
       "_model_module_version": "1.5.0",
       "_model_name": "ProgressStyleModel",
       "_view_count": null,
       "_view_module": "@jupyter-widgets/base",
       "_view_module_version": "1.2.0",
       "_view_name": "StyleView",
       "bar_color": null,
       "description_width": ""
      }
     },
     "f3e6058e180d40b8bc25ff82940789f1": {
      "model_module": "@jupyter-widgets/base",
      "model_module_version": "1.2.0",
      "model_name": "LayoutModel",
      "state": {
       "_model_module": "@jupyter-widgets/base",
       "_model_module_version": "1.2.0",
       "_model_name": "LayoutModel",
       "_view_count": null,
       "_view_module": "@jupyter-widgets/base",
       "_view_module_version": "1.2.0",
       "_view_name": "LayoutView",
       "align_content": null,
       "align_items": null,
       "align_self": null,
       "border": null,
       "bottom": null,
       "display": null,
       "flex": null,
       "flex_flow": null,
       "grid_area": null,
       "grid_auto_columns": null,
       "grid_auto_flow": null,
       "grid_auto_rows": null,
       "grid_column": null,
       "grid_gap": null,
       "grid_row": null,
       "grid_template_areas": null,
       "grid_template_columns": null,
       "grid_template_rows": null,
       "height": null,
       "justify_content": null,
       "justify_items": null,
       "left": null,
       "margin": null,
       "max_height": null,
       "max_width": null,
       "min_height": null,
       "min_width": null,
       "object_fit": null,
       "object_position": null,
       "order": null,
       "overflow": null,
       "overflow_x": null,
       "overflow_y": null,
       "padding": null,
       "right": null,
       "top": null,
       "visibility": null,
       "width": null
      }
     },
     "f7cdf444f3c041cda9b6bd5a47ca87c5": {
      "model_module": "@jupyter-widgets/controls",
      "model_module_version": "1.5.0",
      "model_name": "VBoxModel",
      "state": {
       "_dom_classes": [],
       "_model_module": "@jupyter-widgets/controls",
       "_model_module_version": "1.5.0",
       "_model_name": "VBoxModel",
       "_view_count": null,
       "_view_module": "@jupyter-widgets/controls",
       "_view_module_version": "1.5.0",
       "_view_name": "VBoxView",
       "box_style": "",
       "children": [
        "IPY_MODEL_5ffb53b010e948a0918366a7721dd7a9",
        "IPY_MODEL_86af7db3cea442beb67da28063f15ed6"
       ],
       "layout": "IPY_MODEL_b6f3605957844ac0b026ef0593befbae"
      }
     },
     "f836cfd56e0d4d7188f1b263a5845bff": {
      "model_module": "@jupyter-widgets/base",
      "model_module_version": "1.2.0",
      "model_name": "LayoutModel",
      "state": {
       "_model_module": "@jupyter-widgets/base",
       "_model_module_version": "1.2.0",
       "_model_name": "LayoutModel",
       "_view_count": null,
       "_view_module": "@jupyter-widgets/base",
       "_view_module_version": "1.2.0",
       "_view_name": "LayoutView",
       "align_content": null,
       "align_items": null,
       "align_self": null,
       "border": null,
       "bottom": null,
       "display": null,
       "flex": null,
       "flex_flow": null,
       "grid_area": null,
       "grid_auto_columns": null,
       "grid_auto_flow": null,
       "grid_auto_rows": null,
       "grid_column": null,
       "grid_gap": null,
       "grid_row": null,
       "grid_template_areas": null,
       "grid_template_columns": null,
       "grid_template_rows": null,
       "height": null,
       "justify_content": null,
       "justify_items": null,
       "left": null,
       "margin": null,
       "max_height": null,
       "max_width": null,
       "min_height": null,
       "min_width": null,
       "object_fit": null,
       "object_position": null,
       "order": null,
       "overflow": null,
       "overflow_x": null,
       "overflow_y": null,
       "padding": null,
       "right": null,
       "top": null,
       "visibility": null,
       "width": null
      }
     },
     "f9081778edc6436c9d1bc9a886ac922c": {
      "model_module": "@jupyter-widgets/controls",
      "model_module_version": "1.5.0",
      "model_name": "HTMLModel",
      "state": {
       "_dom_classes": [],
       "_model_module": "@jupyter-widgets/controls",
       "_model_module_version": "1.5.0",
       "_model_name": "HTMLModel",
       "_view_count": null,
       "_view_module": "@jupyter-widgets/controls",
       "_view_module_version": "1.5.0",
       "_view_name": "HTMLView",
       "description": "",
       "description_tooltip": null,
       "layout": "IPY_MODEL_f3e6058e180d40b8bc25ff82940789f1",
       "placeholder": "​",
       "style": "IPY_MODEL_842a840396ab4cefb93cc2733bf00cf7",
       "value": " 833M/833M [00:19&lt;00:00, 43.1MB/s]"
      }
     },
     "fb6b7fc69b2549ab9d80d71017422178": {
      "model_module": "@jupyter-widgets/base",
      "model_module_version": "1.2.0",
      "model_name": "LayoutModel",
      "state": {
       "_model_module": "@jupyter-widgets/base",
       "_model_module_version": "1.2.0",
       "_model_name": "LayoutModel",
       "_view_count": null,
       "_view_module": "@jupyter-widgets/base",
       "_view_module_version": "1.2.0",
       "_view_name": "LayoutView",
       "align_content": null,
       "align_items": null,
       "align_self": null,
       "border": null,
       "bottom": null,
       "display": null,
       "flex": null,
       "flex_flow": null,
       "grid_area": null,
       "grid_auto_columns": null,
       "grid_auto_flow": null,
       "grid_auto_rows": null,
       "grid_column": null,
       "grid_gap": null,
       "grid_row": null,
       "grid_template_areas": null,
       "grid_template_columns": null,
       "grid_template_rows": null,
       "height": null,
       "justify_content": null,
       "justify_items": null,
       "left": null,
       "margin": null,
       "max_height": null,
       "max_width": null,
       "min_height": null,
       "min_width": null,
       "object_fit": null,
       "object_position": null,
       "order": null,
       "overflow": null,
       "overflow_x": null,
       "overflow_y": null,
       "padding": null,
       "right": null,
       "top": null,
       "visibility": null,
       "width": null
      }
     },
     "ff0d93c0f2a54cae8698028db31d1454": {
      "model_module": "@jupyter-widgets/controls",
      "model_module_version": "1.5.0",
      "model_name": "DescriptionStyleModel",
      "state": {
       "_model_module": "@jupyter-widgets/controls",
       "_model_module_version": "1.5.0",
       "_model_name": "DescriptionStyleModel",
       "_view_count": null,
       "_view_module": "@jupyter-widgets/base",
       "_view_module_version": "1.2.0",
       "_view_name": "StyleView",
       "description_width": ""
      }
     }
    },
    "version_major": 2,
    "version_minor": 0
   }
  }
 },
 "nbformat": 4,
 "nbformat_minor": 5
}
