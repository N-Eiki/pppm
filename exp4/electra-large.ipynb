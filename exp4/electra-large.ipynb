{
 "cells": [
  {
   "cell_type": "markdown",
   "id": "70f90ffb",
   "metadata": {
    "id": "e460cbb5",
    "papermill": {
     "duration": 0.027808,
     "end_time": "2022-03-22T09:40:01.410751",
     "exception": false,
     "start_time": "2022-03-22T09:40:01.382943",
     "status": "completed"
    },
    "tags": []
   },
   "source": [
    "# About this notebook\n",
    "- Deberta-v3-large starter code\n",
    "- pip wheels is [here](https://www.kaggle.com/code/yasufuminakama/pppm-pip-wheels)\n",
    "- Inference notebook is [here](https://www.kaggle.com/code/yasufuminakama/pppm-deberta-v3-large-baseline-inference)\n",
    "\n",
    "If this notebook is helpful, feel free to upvote :)"
   ]
  },
  {
   "cell_type": "code",
   "execution_count": 1,
   "id": "4b6835d2-9fc4-4e64-8eb9-1f8eebb143bf",
   "metadata": {},
   "outputs": [
    {
     "name": "stdout",
     "output_type": "stream",
     "text": [
      "sleep 0 h\n",
      "sleep 1 h\n",
      "sleep 2 h\n",
      "sleep 3 h\n"
     ]
    }
   ],
   "source": [
    "import os\n",
    "import time\n",
    "wait_to_make = \"trained_list/bert-large.txt\"\n",
    "count = 0\n",
    "while 1:\n",
    "    if os.path.exists(wait_to_make):\n",
    "        break\n",
    "    print(f'sleep {count} h')\n",
    "    time.sleep(3600)\n",
    "    count+=1\n",
    "    \n",
    "local = True"
   ]
  },
  {
   "cell_type": "code",
   "execution_count": 2,
   "id": "7df63313-5526-4691-94ae-12ea4bf25bde",
   "metadata": {},
   "outputs": [],
   "source": [
    "EXP_NAME = \"google/electra-large-discriminator\".replace(\"/\",\"-\")\n"
   ]
  },
  {
   "cell_type": "code",
   "execution_count": 3,
   "id": "d14ce8ab",
   "metadata": {},
   "outputs": [],
   "source": [
    "# !nvidia-smi"
   ]
  },
  {
   "cell_type": "code",
   "execution_count": 4,
   "id": "7d511eeb",
   "metadata": {},
   "outputs": [],
   "source": [
    "# ! pip install torch==1.9.0+cu111 torchvision==0.10.0+cu111 torchaudio===0.9.0 -f https://download.pytorch.org/whl/torch_stable.html"
   ]
  },
  {
   "cell_type": "code",
   "execution_count": 5,
   "id": "c13809d2",
   "metadata": {},
   "outputs": [
    {
     "name": "stdout",
     "output_type": "stream",
     "text": [
      "1.9.0+cu111\n",
      "True\n"
     ]
    }
   ],
   "source": [
    "import torch\n",
    "print(torch.__version__)\n",
    "print(torch.cuda.is_available())"
   ]
  },
  {
   "cell_type": "markdown",
   "id": "263c913e",
   "metadata": {
    "papermill": {
     "duration": 0.024515,
     "end_time": "2022-03-22T09:40:01.460332",
     "exception": false,
     "start_time": "2022-03-22T09:40:01.435817",
     "status": "completed"
    },
    "tags": []
   },
   "source": [
    "# Directory settings"
   ]
  },
  {
   "cell_type": "code",
   "execution_count": 6,
   "id": "46d8c76e",
   "metadata": {
    "id": "fa3b873b",
    "papermill": {
     "duration": 0.041313,
     "end_time": "2022-03-22T09:40:01.526545",
     "exception": false,
     "start_time": "2022-03-22T09:40:01.485232",
     "status": "completed"
    },
    "tags": []
   },
   "outputs": [],
   "source": [
    "# ====================================================\n",
    "# Directory settings\n",
    "# ====================================================\n",
    "\n",
    "import os\n",
    "import datetime\n",
    "if local:\n",
    "    INPUT_DIR = '../../data/us-patent-phrase-to-phrase-matching/'\n",
    "else:\n",
    "    INPUT_DIR = '../../data/us-patent-phrase-to-phrase-matching/'\n",
    "\n",
    "OUTPUT_DIR = f'./output/{EXP_NAME}/'\n",
    "# if not os.path.exists(OUTPUT_DIR):\n",
    "os.makedirs(OUTPUT_DIR, exist_ok=True)\n"
   ]
  },
  {
   "cell_type": "markdown",
   "id": "c75f6918",
   "metadata": {
    "id": "1d0c4430",
    "papermill": {
     "duration": 0.024609,
     "end_time": "2022-03-22T09:40:01.576366",
     "exception": false,
     "start_time": "2022-03-22T09:40:01.551757",
     "status": "completed"
    },
    "tags": []
   },
   "source": [
    "# CFG"
   ]
  },
  {
   "cell_type": "code",
   "execution_count": 7,
   "id": "80d58afe",
   "metadata": {
    "id": "48dd82bb",
    "papermill": {
     "duration": 0.033949,
     "end_time": "2022-03-22T09:40:01.634977",
     "exception": false,
     "start_time": "2022-03-22T09:40:01.601028",
     "status": "completed"
    },
    "tags": []
   },
   "outputs": [],
   "source": [
    "# ====================================================\n",
    "# CFG\n",
    "# ====================================================\n",
    "class CFG:\n",
    "    wandb=False\n",
    "    competition='PPPM'\n",
    "    _wandb_kernel='nakama'\n",
    "    debug=False\n",
    "    apex=True\n",
    "    print_freq=100\n",
    "    num_workers=4\n",
    "    # model=\"microsoft/deberta-v3-large\"\n",
    "    model = \"google/electra-large-discriminator\"\n",
    "    # size = \"large\n",
    "    # model = f\"{model}-{size}\"\n",
    "    if \"small\" in model:\n",
    "        hidden_state = hiddden_state_fix = 512\n",
    "    elif \"base\" in model or \"medium\" in model:\n",
    "        hidden_state = hiddden_state_fix = 768\n",
    "    elif \"large\" in model:\n",
    "        hidden_state = hiddden_state_fix = 1024\n",
    "    elif \"xlarge\" in model:\n",
    "        hidden_state =  1536\n",
    "        \n",
    "    scheduler='cosine' # ['linear', 'cosine']\n",
    "    batch_scheduler=True\n",
    "    num_cycles=0.5\n",
    "    num_warmup_steps=0\n",
    "    epochs=4\n",
    "    encoder_lr=2e-5\n",
    "    decoder_lr=2e-5\n",
    "    min_lr=1e-6\n",
    "    eps=1e-6\n",
    "    betas=(0.9, 0.999)\n",
    "    \n",
    "    batch_size=8\n",
    "    \n",
    "    fc_dropout=0.2\n",
    "    target_size=1\n",
    "    max_len=512\n",
    "    weight_decay=0.01\n",
    "    gradient_accumulation_steps=1\n",
    "    max_grad_norm=1000\n",
    "    seed=42\n",
    "    n_fold=4\n",
    "    trn_fold=[i for i in range(n_fold)]\n",
    "    train=True\n",
    "    \n",
    "if CFG.debug:\n",
    "    CFG.epochs = 2\n",
    "    CFG.trn_fold = [0]"
   ]
  },
  {
   "cell_type": "code",
   "execution_count": 8,
   "id": "b7de2887",
   "metadata": {
    "id": "b88c983e",
    "papermill": {
     "duration": 8.873453,
     "end_time": "2022-03-22T09:40:10.532922",
     "exception": false,
     "start_time": "2022-03-22T09:40:01.659469",
     "status": "completed"
    },
    "tags": []
   },
   "outputs": [],
   "source": [
    "# ====================================================\n",
    "# wandb\n",
    "# ====================================================\n",
    "if CFG.wandb:\n",
    "    \n",
    "    import wandb\n",
    "\n",
    "    try:\n",
    "        from kaggle_secrets import UserSecretsClient\n",
    "        user_secrets = UserSecretsClient()\n",
    "        secret_value_0 = user_secrets.get_secret(\"wandb_api\")\n",
    "        wandb.login(key=secret_value_0)\n",
    "        anony = None\n",
    "    except:\n",
    "        anony = \"must\"\n",
    "        print('If you want to use your W&B account, go to Add-ons -> Secrets and provide your W&B access token. Use the Label name as wandb_api. \\nGet your W&B access token from here: https://wandb.ai/authorize')\n",
    "\n",
    "\n",
    "    def class2dict(f):\n",
    "        return dict((name, getattr(f, name)) for name in dir(f) if not name.startswith('__'))\n",
    "\n",
    "    run = wandb.init(project='PPPM-Public', \n",
    "                     name=CFG.model,\n",
    "                     config=class2dict(CFG),\n",
    "                     group=CFG.model,\n",
    "                     job_type=\"train\",\n",
    "                     anonymous=anony)"
   ]
  },
  {
   "cell_type": "code",
   "execution_count": 9,
   "id": "9f7d6f8c",
   "metadata": {},
   "outputs": [],
   "source": [
    "# !pip install transformers==4.16.2\n",
    "# !pip install tokenizers==0.11.0"
   ]
  },
  {
   "cell_type": "markdown",
   "id": "5ed638be",
   "metadata": {
    "id": "f2ed8ef2",
    "papermill": {
     "duration": 0.038261,
     "end_time": "2022-03-22T09:40:10.626926",
     "exception": false,
     "start_time": "2022-03-22T09:40:10.588665",
     "status": "completed"
    },
    "tags": []
   },
   "source": [
    "# Library"
   ]
  },
  {
   "cell_type": "code",
   "execution_count": 10,
   "id": "ebee5bbe",
   "metadata": {
    "executionInfo": {
     "elapsed": 20123,
     "status": "ok",
     "timestamp": 1644920080956,
     "user": {
      "displayName": "Yasufumi Nakama",
      "photoUrl": "https://lh3.googleusercontent.com/a/default-user=s64",
      "userId": "17486303986134302670"
     },
     "user_tz": -540
    },
    "id": "35916341",
    "outputId": "06fa0ab8-a380-4f54-a98d-b7015b79d9e2",
    "papermill": {
     "duration": 26.143536,
     "end_time": "2022-03-22T09:40:36.798853",
     "exception": false,
     "start_time": "2022-03-22T09:40:10.655317",
     "status": "completed"
    },
    "tags": []
   },
   "outputs": [
    {
     "name": "stdout",
     "output_type": "stream",
     "text": [
      "torch.__version__: 1.9.0+cu111\n",
      "tokenizers.__version__: 0.11.0\n",
      "transformers.__version__: 4.16.2\n",
      "env: TOKENIZERS_PARALLELISM=true\n",
      "cuda\n"
     ]
    }
   ],
   "source": [
    "# ====================================================\n",
    "# Library\n",
    "# ====================================================\n",
    "import os\n",
    "import gc\n",
    "import re\n",
    "import ast\n",
    "import sys\n",
    "import copy\n",
    "import json\n",
    "import time\n",
    "import math\n",
    "import shutil\n",
    "import string\n",
    "import pickle\n",
    "import random\n",
    "import joblib\n",
    "import itertools\n",
    "from pathlib import Path\n",
    "import warnings\n",
    "warnings.filterwarnings(\"ignore\")\n",
    "\n",
    "import scipy as sp\n",
    "import numpy as np\n",
    "import pandas as pd\n",
    "pd.set_option('display.max_rows', 500)\n",
    "pd.set_option('display.max_columns', 500)\n",
    "pd.set_option('display.width', 1000)\n",
    "from tqdm.auto import tqdm\n",
    "from sklearn.metrics import f1_score\n",
    "from sklearn.model_selection import StratifiedKFold, GroupKFold, KFold\n",
    "\n",
    "import torch\n",
    "print(f\"torch.__version__: {torch.__version__}\")\n",
    "import torch.nn as nn\n",
    "from torch.nn import Parameter\n",
    "import torch.nn.functional as F\n",
    "from torch.optim import Adam, SGD, AdamW\n",
    "from torch.utils.data import DataLoader, Dataset\n",
    "\n",
    "import tokenizers\n",
    "import transformers\n",
    "print(f\"tokenizers.__version__: {tokenizers.__version__}\")\n",
    "print(f\"transformers.__version__: {transformers.__version__}\")\n",
    "from transformers import AutoTokenizer, AutoModel, AutoConfig\n",
    "from transformers import get_linear_schedule_with_warmup, get_cosine_schedule_with_warmup\n",
    "%env TOKENIZERS_PARALLELISM=true\n",
    "\n",
    "device = torch.device('cuda' if torch.cuda.is_available() else 'cpu')\n",
    "\n",
    "# device = torch.device('cpu')\n",
    "print(device)\n",
    "\n",
    "start = time.time()"
   ]
  },
  {
   "cell_type": "markdown",
   "id": "dcc0106a",
   "metadata": {
    "id": "fd586614",
    "papermill": {
     "duration": 0.032888,
     "end_time": "2022-03-22T09:40:36.865209",
     "exception": false,
     "start_time": "2022-03-22T09:40:36.832321",
     "status": "completed"
    },
    "tags": []
   },
   "source": [
    "# Utils"
   ]
  },
  {
   "cell_type": "code",
   "execution_count": 11,
   "id": "540df385",
   "metadata": {
    "id": "d5c0ccc6",
    "papermill": {
     "duration": 0.21551,
     "end_time": "2022-03-22T09:40:37.116848",
     "exception": false,
     "start_time": "2022-03-22T09:40:36.901338",
     "status": "completed"
    },
    "tags": []
   },
   "outputs": [],
   "source": [
    "# ====================================================\n",
    "# Utils\n",
    "# ====================================================\n",
    "def get_score(y_true, y_pred):\n",
    "    score = sp.stats.pearsonr(y_true, y_pred)[0]\n",
    "    return score\n",
    "\n",
    "\n",
    "def get_logger(filename=OUTPUT_DIR+'train'):\n",
    "    from logging import getLogger, INFO, StreamHandler, FileHandler, Formatter\n",
    "    logger = getLogger(__name__)\n",
    "    logger.setLevel(INFO)\n",
    "    handler1 = StreamHandler()\n",
    "    handler1.setFormatter(Formatter(\"%(message)s\"))\n",
    "    handler2 = FileHandler(filename=f\"{filename}.log\")\n",
    "    handler2.setFormatter(Formatter(\"%(message)s\"))\n",
    "    logger.addHandler(handler1)\n",
    "    logger.addHandler(handler2)\n",
    "    return logger\n",
    "\n",
    "LOGGER = get_logger()\n",
    "\n",
    "def seed_everything(seed=42):\n",
    "    random.seed(seed)\n",
    "    os.environ['PYTHONHASHSEED'] = str(seed)\n",
    "    np.random.seed(seed)\n",
    "    torch.manual_seed(seed)\n",
    "    torch.cuda.manual_seed(seed)\n",
    "    torch.backends.cudnn.deterministic = True\n",
    "    \n",
    "seed_everything(seed=42)"
   ]
  },
  {
   "cell_type": "markdown",
   "id": "32170fde",
   "metadata": {
    "id": "cb3d8e1e",
    "papermill": {
     "duration": 0.032614,
     "end_time": "2022-03-22T09:40:37.184739",
     "exception": false,
     "start_time": "2022-03-22T09:40:37.152125",
     "status": "completed"
    },
    "tags": []
   },
   "source": [
    "# Data Loading"
   ]
  },
  {
   "cell_type": "code",
   "execution_count": 12,
   "id": "a903a50f",
   "metadata": {
    "executionInfo": {
     "elapsed": 2627,
     "status": "ok",
     "timestamp": 1644920084001,
     "user": {
      "displayName": "Yasufumi Nakama",
      "photoUrl": "https://lh3.googleusercontent.com/a/default-user=s64",
      "userId": "17486303986134302670"
     },
     "user_tz": -540
    },
    "id": "bef012d3",
    "outputId": "d4d60dbc-510c-4f34-8d64-dd1d88c4808c",
    "papermill": {
     "duration": 0.154829,
     "end_time": "2022-03-22T09:40:37.374453",
     "exception": false,
     "start_time": "2022-03-22T09:40:37.219624",
     "status": "completed"
    },
    "tags": []
   },
   "outputs": [
    {
     "name": "stdout",
     "output_type": "stream",
     "text": [
      "train.shape: (36473, 5)\n",
      "test.shape: (36, 4)\n",
      "submission.shape: (36, 2)\n"
     ]
    },
    {
     "data": {
      "text/html": [
       "<div>\n",
       "<style scoped>\n",
       "    .dataframe tbody tr th:only-of-type {\n",
       "        vertical-align: middle;\n",
       "    }\n",
       "\n",
       "    .dataframe tbody tr th {\n",
       "        vertical-align: top;\n",
       "    }\n",
       "\n",
       "    .dataframe thead th {\n",
       "        text-align: right;\n",
       "    }\n",
       "</style>\n",
       "<table border=\"1\" class=\"dataframe\">\n",
       "  <thead>\n",
       "    <tr style=\"text-align: right;\">\n",
       "      <th></th>\n",
       "      <th>id</th>\n",
       "      <th>anchor</th>\n",
       "      <th>target</th>\n",
       "      <th>context</th>\n",
       "      <th>score</th>\n",
       "    </tr>\n",
       "  </thead>\n",
       "  <tbody>\n",
       "    <tr>\n",
       "      <th>0</th>\n",
       "      <td>37d61fd2272659b1</td>\n",
       "      <td>abatement</td>\n",
       "      <td>abatement of pollution</td>\n",
       "      <td>A47</td>\n",
       "      <td>0.50</td>\n",
       "    </tr>\n",
       "    <tr>\n",
       "      <th>1</th>\n",
       "      <td>7b9652b17b68b7a4</td>\n",
       "      <td>abatement</td>\n",
       "      <td>act of abating</td>\n",
       "      <td>A47</td>\n",
       "      <td>0.75</td>\n",
       "    </tr>\n",
       "    <tr>\n",
       "      <th>2</th>\n",
       "      <td>36d72442aefd8232</td>\n",
       "      <td>abatement</td>\n",
       "      <td>active catalyst</td>\n",
       "      <td>A47</td>\n",
       "      <td>0.25</td>\n",
       "    </tr>\n",
       "    <tr>\n",
       "      <th>3</th>\n",
       "      <td>5296b0c19e1ce60e</td>\n",
       "      <td>abatement</td>\n",
       "      <td>eliminating process</td>\n",
       "      <td>A47</td>\n",
       "      <td>0.50</td>\n",
       "    </tr>\n",
       "    <tr>\n",
       "      <th>4</th>\n",
       "      <td>54c1e3b9184cb5b6</td>\n",
       "      <td>abatement</td>\n",
       "      <td>forest region</td>\n",
       "      <td>A47</td>\n",
       "      <td>0.00</td>\n",
       "    </tr>\n",
       "  </tbody>\n",
       "</table>\n",
       "</div>"
      ],
      "text/plain": [
       "                 id     anchor                  target context  score\n",
       "0  37d61fd2272659b1  abatement  abatement of pollution     A47   0.50\n",
       "1  7b9652b17b68b7a4  abatement          act of abating     A47   0.75\n",
       "2  36d72442aefd8232  abatement         active catalyst     A47   0.25\n",
       "3  5296b0c19e1ce60e  abatement     eliminating process     A47   0.50\n",
       "4  54c1e3b9184cb5b6  abatement           forest region     A47   0.00"
      ]
     },
     "metadata": {},
     "output_type": "display_data"
    },
    {
     "data": {
      "text/html": [
       "<div>\n",
       "<style scoped>\n",
       "    .dataframe tbody tr th:only-of-type {\n",
       "        vertical-align: middle;\n",
       "    }\n",
       "\n",
       "    .dataframe tbody tr th {\n",
       "        vertical-align: top;\n",
       "    }\n",
       "\n",
       "    .dataframe thead th {\n",
       "        text-align: right;\n",
       "    }\n",
       "</style>\n",
       "<table border=\"1\" class=\"dataframe\">\n",
       "  <thead>\n",
       "    <tr style=\"text-align: right;\">\n",
       "      <th></th>\n",
       "      <th>id</th>\n",
       "      <th>anchor</th>\n",
       "      <th>target</th>\n",
       "      <th>context</th>\n",
       "    </tr>\n",
       "  </thead>\n",
       "  <tbody>\n",
       "    <tr>\n",
       "      <th>0</th>\n",
       "      <td>4112d61851461f60</td>\n",
       "      <td>opc drum</td>\n",
       "      <td>inorganic photoconductor drum</td>\n",
       "      <td>G02</td>\n",
       "    </tr>\n",
       "    <tr>\n",
       "      <th>1</th>\n",
       "      <td>09e418c93a776564</td>\n",
       "      <td>adjust gas flow</td>\n",
       "      <td>altering gas flow</td>\n",
       "      <td>F23</td>\n",
       "    </tr>\n",
       "    <tr>\n",
       "      <th>2</th>\n",
       "      <td>36baf228038e314b</td>\n",
       "      <td>lower trunnion</td>\n",
       "      <td>lower locating</td>\n",
       "      <td>B60</td>\n",
       "    </tr>\n",
       "    <tr>\n",
       "      <th>3</th>\n",
       "      <td>1f37ead645e7f0c8</td>\n",
       "      <td>cap component</td>\n",
       "      <td>upper portion</td>\n",
       "      <td>D06</td>\n",
       "    </tr>\n",
       "    <tr>\n",
       "      <th>4</th>\n",
       "      <td>71a5b6ad068d531f</td>\n",
       "      <td>neural stimulation</td>\n",
       "      <td>artificial neural network</td>\n",
       "      <td>H04</td>\n",
       "    </tr>\n",
       "  </tbody>\n",
       "</table>\n",
       "</div>"
      ],
      "text/plain": [
       "                 id              anchor                         target context\n",
       "0  4112d61851461f60            opc drum  inorganic photoconductor drum     G02\n",
       "1  09e418c93a776564     adjust gas flow              altering gas flow     F23\n",
       "2  36baf228038e314b      lower trunnion                 lower locating     B60\n",
       "3  1f37ead645e7f0c8       cap component                  upper portion     D06\n",
       "4  71a5b6ad068d531f  neural stimulation      artificial neural network     H04"
      ]
     },
     "metadata": {},
     "output_type": "display_data"
    },
    {
     "data": {
      "text/html": [
       "<div>\n",
       "<style scoped>\n",
       "    .dataframe tbody tr th:only-of-type {\n",
       "        vertical-align: middle;\n",
       "    }\n",
       "\n",
       "    .dataframe tbody tr th {\n",
       "        vertical-align: top;\n",
       "    }\n",
       "\n",
       "    .dataframe thead th {\n",
       "        text-align: right;\n",
       "    }\n",
       "</style>\n",
       "<table border=\"1\" class=\"dataframe\">\n",
       "  <thead>\n",
       "    <tr style=\"text-align: right;\">\n",
       "      <th></th>\n",
       "      <th>id</th>\n",
       "      <th>score</th>\n",
       "    </tr>\n",
       "  </thead>\n",
       "  <tbody>\n",
       "    <tr>\n",
       "      <th>0</th>\n",
       "      <td>4112d61851461f60</td>\n",
       "      <td>0</td>\n",
       "    </tr>\n",
       "    <tr>\n",
       "      <th>1</th>\n",
       "      <td>09e418c93a776564</td>\n",
       "      <td>0</td>\n",
       "    </tr>\n",
       "    <tr>\n",
       "      <th>2</th>\n",
       "      <td>36baf228038e314b</td>\n",
       "      <td>0</td>\n",
       "    </tr>\n",
       "    <tr>\n",
       "      <th>3</th>\n",
       "      <td>1f37ead645e7f0c8</td>\n",
       "      <td>0</td>\n",
       "    </tr>\n",
       "    <tr>\n",
       "      <th>4</th>\n",
       "      <td>71a5b6ad068d531f</td>\n",
       "      <td>0</td>\n",
       "    </tr>\n",
       "  </tbody>\n",
       "</table>\n",
       "</div>"
      ],
      "text/plain": [
       "                 id  score\n",
       "0  4112d61851461f60      0\n",
       "1  09e418c93a776564      0\n",
       "2  36baf228038e314b      0\n",
       "3  1f37ead645e7f0c8      0\n",
       "4  71a5b6ad068d531f      0"
      ]
     },
     "metadata": {},
     "output_type": "display_data"
    }
   ],
   "source": [
    "# ====================================================\n",
    "# Data Loading\n",
    "# ====================================================\n",
    "train = pd.read_csv(INPUT_DIR+'train.csv')\n",
    "test = pd.read_csv(INPUT_DIR+'test.csv')\n",
    "submission = pd.read_csv(INPUT_DIR+'sample_submission.csv')\n",
    "print(f\"train.shape: {train.shape}\")\n",
    "print(f\"test.shape: {test.shape}\")\n",
    "print(f\"submission.shape: {submission.shape}\")\n",
    "display(train.head())\n",
    "display(test.head())\n",
    "display(submission.head())"
   ]
  },
  {
   "cell_type": "code",
   "execution_count": 13,
   "id": "fa85ac77",
   "metadata": {
    "papermill": {
     "duration": 0.848818,
     "end_time": "2022-03-22T09:40:38.260255",
     "exception": false,
     "start_time": "2022-03-22T09:40:37.411437",
     "status": "completed"
    },
    "tags": []
   },
   "outputs": [
    {
     "data": {
      "text/html": [
       "<div>\n",
       "<style scoped>\n",
       "    .dataframe tbody tr th:only-of-type {\n",
       "        vertical-align: middle;\n",
       "    }\n",
       "\n",
       "    .dataframe tbody tr th {\n",
       "        vertical-align: top;\n",
       "    }\n",
       "\n",
       "    .dataframe thead th {\n",
       "        text-align: right;\n",
       "    }\n",
       "</style>\n",
       "<table border=\"1\" class=\"dataframe\">\n",
       "  <thead>\n",
       "    <tr style=\"text-align: right;\">\n",
       "      <th></th>\n",
       "      <th>id</th>\n",
       "      <th>anchor</th>\n",
       "      <th>target</th>\n",
       "      <th>context</th>\n",
       "      <th>score</th>\n",
       "      <th>context_text</th>\n",
       "    </tr>\n",
       "  </thead>\n",
       "  <tbody>\n",
       "    <tr>\n",
       "      <th>0</th>\n",
       "      <td>37d61fd2272659b1</td>\n",
       "      <td>abatement</td>\n",
       "      <td>abatement of pollution</td>\n",
       "      <td>A47</td>\n",
       "      <td>0.50</td>\n",
       "      <td>HUMAN NECESSITIES. FURNITURE; DOMESTIC ARTICLE...</td>\n",
       "    </tr>\n",
       "    <tr>\n",
       "      <th>1</th>\n",
       "      <td>7b9652b17b68b7a4</td>\n",
       "      <td>abatement</td>\n",
       "      <td>act of abating</td>\n",
       "      <td>A47</td>\n",
       "      <td>0.75</td>\n",
       "      <td>HUMAN NECESSITIES. FURNITURE; DOMESTIC ARTICLE...</td>\n",
       "    </tr>\n",
       "    <tr>\n",
       "      <th>2</th>\n",
       "      <td>36d72442aefd8232</td>\n",
       "      <td>abatement</td>\n",
       "      <td>active catalyst</td>\n",
       "      <td>A47</td>\n",
       "      <td>0.25</td>\n",
       "      <td>HUMAN NECESSITIES. FURNITURE; DOMESTIC ARTICLE...</td>\n",
       "    </tr>\n",
       "    <tr>\n",
       "      <th>3</th>\n",
       "      <td>5296b0c19e1ce60e</td>\n",
       "      <td>abatement</td>\n",
       "      <td>eliminating process</td>\n",
       "      <td>A47</td>\n",
       "      <td>0.50</td>\n",
       "      <td>HUMAN NECESSITIES. FURNITURE; DOMESTIC ARTICLE...</td>\n",
       "    </tr>\n",
       "    <tr>\n",
       "      <th>4</th>\n",
       "      <td>54c1e3b9184cb5b6</td>\n",
       "      <td>abatement</td>\n",
       "      <td>forest region</td>\n",
       "      <td>A47</td>\n",
       "      <td>0.00</td>\n",
       "      <td>HUMAN NECESSITIES. FURNITURE; DOMESTIC ARTICLE...</td>\n",
       "    </tr>\n",
       "  </tbody>\n",
       "</table>\n",
       "</div>"
      ],
      "text/plain": [
       "                 id     anchor                  target context  score                                       context_text\n",
       "0  37d61fd2272659b1  abatement  abatement of pollution     A47   0.50  HUMAN NECESSITIES. FURNITURE; DOMESTIC ARTICLE...\n",
       "1  7b9652b17b68b7a4  abatement          act of abating     A47   0.75  HUMAN NECESSITIES. FURNITURE; DOMESTIC ARTICLE...\n",
       "2  36d72442aefd8232  abatement         active catalyst     A47   0.25  HUMAN NECESSITIES. FURNITURE; DOMESTIC ARTICLE...\n",
       "3  5296b0c19e1ce60e  abatement     eliminating process     A47   0.50  HUMAN NECESSITIES. FURNITURE; DOMESTIC ARTICLE...\n",
       "4  54c1e3b9184cb5b6  abatement           forest region     A47   0.00  HUMAN NECESSITIES. FURNITURE; DOMESTIC ARTICLE..."
      ]
     },
     "metadata": {},
     "output_type": "display_data"
    },
    {
     "data": {
      "text/html": [
       "<div>\n",
       "<style scoped>\n",
       "    .dataframe tbody tr th:only-of-type {\n",
       "        vertical-align: middle;\n",
       "    }\n",
       "\n",
       "    .dataframe tbody tr th {\n",
       "        vertical-align: top;\n",
       "    }\n",
       "\n",
       "    .dataframe thead th {\n",
       "        text-align: right;\n",
       "    }\n",
       "</style>\n",
       "<table border=\"1\" class=\"dataframe\">\n",
       "  <thead>\n",
       "    <tr style=\"text-align: right;\">\n",
       "      <th></th>\n",
       "      <th>id</th>\n",
       "      <th>anchor</th>\n",
       "      <th>target</th>\n",
       "      <th>context</th>\n",
       "      <th>context_text</th>\n",
       "    </tr>\n",
       "  </thead>\n",
       "  <tbody>\n",
       "    <tr>\n",
       "      <th>0</th>\n",
       "      <td>4112d61851461f60</td>\n",
       "      <td>opc drum</td>\n",
       "      <td>inorganic photoconductor drum</td>\n",
       "      <td>G02</td>\n",
       "      <td>PHYSICS. OPTICS</td>\n",
       "    </tr>\n",
       "    <tr>\n",
       "      <th>1</th>\n",
       "      <td>09e418c93a776564</td>\n",
       "      <td>adjust gas flow</td>\n",
       "      <td>altering gas flow</td>\n",
       "      <td>F23</td>\n",
       "      <td>MECHANICAL ENGINEERING; LIGHTING; HEATING; WEA...</td>\n",
       "    </tr>\n",
       "    <tr>\n",
       "      <th>2</th>\n",
       "      <td>36baf228038e314b</td>\n",
       "      <td>lower trunnion</td>\n",
       "      <td>lower locating</td>\n",
       "      <td>B60</td>\n",
       "      <td>PERFORMING OPERATIONS; TRANSPORTING. VEHICLES ...</td>\n",
       "    </tr>\n",
       "    <tr>\n",
       "      <th>3</th>\n",
       "      <td>1f37ead645e7f0c8</td>\n",
       "      <td>cap component</td>\n",
       "      <td>upper portion</td>\n",
       "      <td>D06</td>\n",
       "      <td>TEXTILES; PAPER. TREATMENT OF TEXTILES OR THE ...</td>\n",
       "    </tr>\n",
       "    <tr>\n",
       "      <th>4</th>\n",
       "      <td>71a5b6ad068d531f</td>\n",
       "      <td>neural stimulation</td>\n",
       "      <td>artificial neural network</td>\n",
       "      <td>H04</td>\n",
       "      <td>ELECTRICITY. ELECTRIC COMMUNICATION TECHNIQUE</td>\n",
       "    </tr>\n",
       "  </tbody>\n",
       "</table>\n",
       "</div>"
      ],
      "text/plain": [
       "                 id              anchor                         target context                                       context_text\n",
       "0  4112d61851461f60            opc drum  inorganic photoconductor drum     G02                                    PHYSICS. OPTICS\n",
       "1  09e418c93a776564     adjust gas flow              altering gas flow     F23  MECHANICAL ENGINEERING; LIGHTING; HEATING; WEA...\n",
       "2  36baf228038e314b      lower trunnion                 lower locating     B60  PERFORMING OPERATIONS; TRANSPORTING. VEHICLES ...\n",
       "3  1f37ead645e7f0c8       cap component                  upper portion     D06  TEXTILES; PAPER. TREATMENT OF TEXTILES OR THE ...\n",
       "4  71a5b6ad068d531f  neural stimulation      artificial neural network     H04      ELECTRICITY. ELECTRIC COMMUNICATION TECHNIQUE"
      ]
     },
     "metadata": {},
     "output_type": "display_data"
    }
   ],
   "source": [
    "# ====================================================\n",
    "# CPC Data\n",
    "# ====================================================\n",
    "def get_cpc_texts():\n",
    "    contexts = []\n",
    "    pattern = '[A-Z]\\d+'\n",
    "    for file_name in os.listdir(INPUT_DIR+'CPCSchemeXML202105'):\n",
    "        result = re.findall(pattern, file_name)\n",
    "        if result:\n",
    "            contexts.append(result)\n",
    "    contexts = sorted(set(sum(contexts, [])))\n",
    "    results = {}\n",
    "    for cpc in ['A', 'B', 'C', 'D', 'E', 'F', 'G', 'H', 'Y']:\n",
    "        with open(f'{INPUT_DIR}CPCTitleList202202/cpc-section-{cpc}_20220201.txt') as f:\n",
    "            s = f.read()\n",
    "        pattern = f'{cpc}\\t\\t.+'\n",
    "        result = re.findall(pattern, s)\n",
    "        cpc_result = result[0].lstrip(pattern)\n",
    "        for context in [c for c in contexts if c[0] == cpc]:\n",
    "            pattern = f'{context}\\t\\t.+'\n",
    "            result = re.findall(pattern, s)\n",
    "            results[context] = cpc_result + \". \" + result[0].lstrip(pattern)\n",
    "    return results\n",
    "\n",
    "\n",
    "# cpc_texts = get_cpc_texts()\n",
    "# torch.save(cpc_texts, OUTPUT_DIR+\"cpc_texts.pth\")\n",
    "cpc_texts = torch.load(INPUT_DIR+\"cpc_texts.pth\")\n",
    "train['context_text'] = train['context'].map(cpc_texts)\n",
    "test['context_text'] = test['context'].map(cpc_texts)\n",
    "display(train.head())\n",
    "display(test.head())"
   ]
  },
  {
   "cell_type": "code",
   "execution_count": 14,
   "id": "7bb73eb6",
   "metadata": {
    "papermill": {
     "duration": 0.084831,
     "end_time": "2022-03-22T09:40:38.384239",
     "exception": false,
     "start_time": "2022-03-22T09:40:38.299408",
     "status": "completed"
    },
    "tags": []
   },
   "outputs": [
    {
     "data": {
      "text/html": [
       "<div>\n",
       "<style scoped>\n",
       "    .dataframe tbody tr th:only-of-type {\n",
       "        vertical-align: middle;\n",
       "    }\n",
       "\n",
       "    .dataframe tbody tr th {\n",
       "        vertical-align: top;\n",
       "    }\n",
       "\n",
       "    .dataframe thead th {\n",
       "        text-align: right;\n",
       "    }\n",
       "</style>\n",
       "<table border=\"1\" class=\"dataframe\">\n",
       "  <thead>\n",
       "    <tr style=\"text-align: right;\">\n",
       "      <th></th>\n",
       "      <th>id</th>\n",
       "      <th>anchor</th>\n",
       "      <th>target</th>\n",
       "      <th>context</th>\n",
       "      <th>score</th>\n",
       "      <th>context_text</th>\n",
       "      <th>text</th>\n",
       "    </tr>\n",
       "  </thead>\n",
       "  <tbody>\n",
       "    <tr>\n",
       "      <th>0</th>\n",
       "      <td>37d61fd2272659b1</td>\n",
       "      <td>abatement</td>\n",
       "      <td>abatement of pollution</td>\n",
       "      <td>A47</td>\n",
       "      <td>0.50</td>\n",
       "      <td>HUMAN NECESSITIES. FURNITURE; DOMESTIC ARTICLE...</td>\n",
       "      <td>abatement[SEP]abatement of pollution[SEP]HUMAN...</td>\n",
       "    </tr>\n",
       "    <tr>\n",
       "      <th>1</th>\n",
       "      <td>7b9652b17b68b7a4</td>\n",
       "      <td>abatement</td>\n",
       "      <td>act of abating</td>\n",
       "      <td>A47</td>\n",
       "      <td>0.75</td>\n",
       "      <td>HUMAN NECESSITIES. FURNITURE; DOMESTIC ARTICLE...</td>\n",
       "      <td>abatement[SEP]act of abating[SEP]HUMAN NECESSI...</td>\n",
       "    </tr>\n",
       "    <tr>\n",
       "      <th>2</th>\n",
       "      <td>36d72442aefd8232</td>\n",
       "      <td>abatement</td>\n",
       "      <td>active catalyst</td>\n",
       "      <td>A47</td>\n",
       "      <td>0.25</td>\n",
       "      <td>HUMAN NECESSITIES. FURNITURE; DOMESTIC ARTICLE...</td>\n",
       "      <td>abatement[SEP]active catalyst[SEP]HUMAN NECESS...</td>\n",
       "    </tr>\n",
       "    <tr>\n",
       "      <th>3</th>\n",
       "      <td>5296b0c19e1ce60e</td>\n",
       "      <td>abatement</td>\n",
       "      <td>eliminating process</td>\n",
       "      <td>A47</td>\n",
       "      <td>0.50</td>\n",
       "      <td>HUMAN NECESSITIES. FURNITURE; DOMESTIC ARTICLE...</td>\n",
       "      <td>abatement[SEP]eliminating process[SEP]HUMAN NE...</td>\n",
       "    </tr>\n",
       "    <tr>\n",
       "      <th>4</th>\n",
       "      <td>54c1e3b9184cb5b6</td>\n",
       "      <td>abatement</td>\n",
       "      <td>forest region</td>\n",
       "      <td>A47</td>\n",
       "      <td>0.00</td>\n",
       "      <td>HUMAN NECESSITIES. FURNITURE; DOMESTIC ARTICLE...</td>\n",
       "      <td>abatement[SEP]forest region[SEP]HUMAN NECESSIT...</td>\n",
       "    </tr>\n",
       "  </tbody>\n",
       "</table>\n",
       "</div>"
      ],
      "text/plain": [
       "                 id     anchor                  target context  score                                       context_text                                               text\n",
       "0  37d61fd2272659b1  abatement  abatement of pollution     A47   0.50  HUMAN NECESSITIES. FURNITURE; DOMESTIC ARTICLE...  abatement[SEP]abatement of pollution[SEP]HUMAN...\n",
       "1  7b9652b17b68b7a4  abatement          act of abating     A47   0.75  HUMAN NECESSITIES. FURNITURE; DOMESTIC ARTICLE...  abatement[SEP]act of abating[SEP]HUMAN NECESSI...\n",
       "2  36d72442aefd8232  abatement         active catalyst     A47   0.25  HUMAN NECESSITIES. FURNITURE; DOMESTIC ARTICLE...  abatement[SEP]active catalyst[SEP]HUMAN NECESS...\n",
       "3  5296b0c19e1ce60e  abatement     eliminating process     A47   0.50  HUMAN NECESSITIES. FURNITURE; DOMESTIC ARTICLE...  abatement[SEP]eliminating process[SEP]HUMAN NE...\n",
       "4  54c1e3b9184cb5b6  abatement           forest region     A47   0.00  HUMAN NECESSITIES. FURNITURE; DOMESTIC ARTICLE...  abatement[SEP]forest region[SEP]HUMAN NECESSIT..."
      ]
     },
     "metadata": {},
     "output_type": "display_data"
    },
    {
     "data": {
      "text/html": [
       "<div>\n",
       "<style scoped>\n",
       "    .dataframe tbody tr th:only-of-type {\n",
       "        vertical-align: middle;\n",
       "    }\n",
       "\n",
       "    .dataframe tbody tr th {\n",
       "        vertical-align: top;\n",
       "    }\n",
       "\n",
       "    .dataframe thead th {\n",
       "        text-align: right;\n",
       "    }\n",
       "</style>\n",
       "<table border=\"1\" class=\"dataframe\">\n",
       "  <thead>\n",
       "    <tr style=\"text-align: right;\">\n",
       "      <th></th>\n",
       "      <th>id</th>\n",
       "      <th>anchor</th>\n",
       "      <th>target</th>\n",
       "      <th>context</th>\n",
       "      <th>context_text</th>\n",
       "      <th>text</th>\n",
       "    </tr>\n",
       "  </thead>\n",
       "  <tbody>\n",
       "    <tr>\n",
       "      <th>0</th>\n",
       "      <td>4112d61851461f60</td>\n",
       "      <td>opc drum</td>\n",
       "      <td>inorganic photoconductor drum</td>\n",
       "      <td>G02</td>\n",
       "      <td>PHYSICS. OPTICS</td>\n",
       "      <td>opc drum[SEP]inorganic photoconductor drum[SEP...</td>\n",
       "    </tr>\n",
       "    <tr>\n",
       "      <th>1</th>\n",
       "      <td>09e418c93a776564</td>\n",
       "      <td>adjust gas flow</td>\n",
       "      <td>altering gas flow</td>\n",
       "      <td>F23</td>\n",
       "      <td>MECHANICAL ENGINEERING; LIGHTING; HEATING; WEA...</td>\n",
       "      <td>adjust gas flow[SEP]altering gas flow[SEP]MECH...</td>\n",
       "    </tr>\n",
       "    <tr>\n",
       "      <th>2</th>\n",
       "      <td>36baf228038e314b</td>\n",
       "      <td>lower trunnion</td>\n",
       "      <td>lower locating</td>\n",
       "      <td>B60</td>\n",
       "      <td>PERFORMING OPERATIONS; TRANSPORTING. VEHICLES ...</td>\n",
       "      <td>lower trunnion[SEP]lower locating[SEP]PERFORMI...</td>\n",
       "    </tr>\n",
       "    <tr>\n",
       "      <th>3</th>\n",
       "      <td>1f37ead645e7f0c8</td>\n",
       "      <td>cap component</td>\n",
       "      <td>upper portion</td>\n",
       "      <td>D06</td>\n",
       "      <td>TEXTILES; PAPER. TREATMENT OF TEXTILES OR THE ...</td>\n",
       "      <td>cap component[SEP]upper portion[SEP]TEXTILES; ...</td>\n",
       "    </tr>\n",
       "    <tr>\n",
       "      <th>4</th>\n",
       "      <td>71a5b6ad068d531f</td>\n",
       "      <td>neural stimulation</td>\n",
       "      <td>artificial neural network</td>\n",
       "      <td>H04</td>\n",
       "      <td>ELECTRICITY. ELECTRIC COMMUNICATION TECHNIQUE</td>\n",
       "      <td>neural stimulation[SEP]artificial neural netwo...</td>\n",
       "    </tr>\n",
       "  </tbody>\n",
       "</table>\n",
       "</div>"
      ],
      "text/plain": [
       "                 id              anchor                         target context                                       context_text                                               text\n",
       "0  4112d61851461f60            opc drum  inorganic photoconductor drum     G02                                    PHYSICS. OPTICS  opc drum[SEP]inorganic photoconductor drum[SEP...\n",
       "1  09e418c93a776564     adjust gas flow              altering gas flow     F23  MECHANICAL ENGINEERING; LIGHTING; HEATING; WEA...  adjust gas flow[SEP]altering gas flow[SEP]MECH...\n",
       "2  36baf228038e314b      lower trunnion                 lower locating     B60  PERFORMING OPERATIONS; TRANSPORTING. VEHICLES ...  lower trunnion[SEP]lower locating[SEP]PERFORMI...\n",
       "3  1f37ead645e7f0c8       cap component                  upper portion     D06  TEXTILES; PAPER. TREATMENT OF TEXTILES OR THE ...  cap component[SEP]upper portion[SEP]TEXTILES; ...\n",
       "4  71a5b6ad068d531f  neural stimulation      artificial neural network     H04      ELECTRICITY. ELECTRIC COMMUNICATION TECHNIQUE  neural stimulation[SEP]artificial neural netwo..."
      ]
     },
     "metadata": {},
     "output_type": "display_data"
    }
   ],
   "source": [
    "pad = \"[SEP]\"\n",
    "train['text'] = train['anchor'] + pad + train['target'] +pad  + train['context_text']\n",
    "test['text'] = test['anchor'] + pad + test['target'] +pad  + test['context_text']\n",
    "display(train.head())\n",
    "display(test.head())"
   ]
  },
  {
   "cell_type": "markdown",
   "id": "b01d622c",
   "metadata": {
    "papermill": {
     "duration": 0.040462,
     "end_time": "2022-03-22T09:40:38.462517",
     "exception": false,
     "start_time": "2022-03-22T09:40:38.422055",
     "status": "completed"
    },
    "tags": []
   },
   "source": [
    "# EDA"
   ]
  },
  {
   "cell_type": "code",
   "execution_count": 15,
   "id": "560906cd",
   "metadata": {
    "papermill": {
     "duration": 0.298955,
     "end_time": "2022-03-22T09:40:38.799273",
     "exception": false,
     "start_time": "2022-03-22T09:40:38.500318",
     "status": "completed"
    },
    "tags": []
   },
   "outputs": [
    {
     "data": {
      "text/plain": [
       "<AxesSubplot:>"
      ]
     },
     "execution_count": 15,
     "metadata": {},
     "output_type": "execute_result"
    },
    {
     "data": {
      "image/png": "[encoded data removed]",
      "text/plain": [
       "<Figure size 432x288 with 1 Axes>"
      ]
     },
     "metadata": {
      "needs_background": "light"
     },
     "output_type": "display_data"
    }
   ],
   "source": [
    "train['score'].hist()"
   ]
  },
  {
   "cell_type": "code",
   "execution_count": 16,
   "id": "bb2122ec",
   "metadata": {
    "papermill": {
     "duration": 0.072329,
     "end_time": "2022-03-22T09:40:38.914779",
     "exception": false,
     "start_time": "2022-03-22T09:40:38.842450",
     "status": "completed"
    },
    "tags": []
   },
   "outputs": [
    {
     "data": {
      "text/plain": [
       "B    8019\n",
       "H    6195\n",
       "G    6013\n",
       "C    5288\n",
       "A    4094\n",
       "F    4054\n",
       "E    1531\n",
       "D    1279\n",
       "Name: context, dtype: int64"
      ]
     },
     "metadata": {},
     "output_type": "display_data"
    }
   ],
   "source": [
    "display(train['context'].apply(lambda x: x[0]).value_counts())"
   ]
  },
  {
   "cell_type": "markdown",
   "id": "fdc1e4e5",
   "metadata": {
    "papermill": {
     "duration": 0.040834,
     "end_time": "2022-03-22T09:40:38.997435",
     "exception": false,
     "start_time": "2022-03-22T09:40:38.956601",
     "status": "completed"
    },
    "tags": []
   },
   "source": [
    "- Y is not in training data, but may be in test data?"
   ]
  },
  {
   "cell_type": "markdown",
   "id": "9249864a",
   "metadata": {
    "id": "9e05b6c4",
    "papermill": {
     "duration": 0.041734,
     "end_time": "2022-03-22T09:40:39.084284",
     "exception": false,
     "start_time": "2022-03-22T09:40:39.042550",
     "status": "completed"
    },
    "tags": []
   },
   "source": [
    "# CV split"
   ]
  },
  {
   "cell_type": "code",
   "execution_count": 17,
   "id": "44a41536",
   "metadata": {
    "executionInfo": {
     "elapsed": 12,
     "status": "ok",
     "timestamp": 1644920084528,
     "user": {
      "displayName": "Yasufumi Nakama",
      "photoUrl": "https://lh3.googleusercontent.com/a/default-user=s64",
      "userId": "17486303986134302670"
     },
     "user_tz": -540
    },
    "id": "3ba287c4",
    "outputId": "307dc0e2-17d6-4bfe-9e95-fdd9b6303974",
    "papermill": {
     "duration": 0.074115,
     "end_time": "2022-03-22T09:40:39.201383",
     "exception": false,
     "start_time": "2022-03-22T09:40:39.127268",
     "status": "completed"
    },
    "tags": []
   },
   "outputs": [
    {
     "data": {
      "text/plain": [
       "fold\n",
       "0    9119\n",
       "1    9118\n",
       "2    9118\n",
       "3    9118\n",
       "dtype: int64"
      ]
     },
     "metadata": {},
     "output_type": "display_data"
    }
   ],
   "source": [
    "# ====================================================\n",
    "# CV split\n",
    "# ====================================================\n",
    "train['score_map'] = train['score'].map({0.00: 0, 0.25: 1, 0.50: 2, 0.75: 3, 1.00: 4})\n",
    "Fold = StratifiedKFold(n_splits=CFG.n_fold, shuffle=True, random_state=CFG.seed)\n",
    "for n, (train_index, val_index) in enumerate(Fold.split(train, train['score_map'])):\n",
    "    train.loc[val_index, 'fold'] = int(n)\n",
    "train['fold'] = train['fold'].astype(int)\n",
    "display(train.groupby('fold').size())"
   ]
  },
  {
   "cell_type": "code",
   "execution_count": 18,
   "id": "bb9ce665",
   "metadata": {
    "id": "4c3ce877",
    "papermill": {
     "duration": 0.049441,
     "end_time": "2022-03-22T09:40:39.291307",
     "exception": false,
     "start_time": "2022-03-22T09:40:39.241866",
     "status": "completed"
    },
    "tags": []
   },
   "outputs": [],
   "source": [
    "if CFG.debug:\n",
    "    display(train.groupby('fold').size())\n",
    "    train = train.sample(n=1000, random_state=0).reset_index(drop=True)\n",
    "    display(train.groupby('fold').size())"
   ]
  },
  {
   "cell_type": "markdown",
   "id": "a7adea75",
   "metadata": {
    "id": "918a28aa",
    "papermill": {
     "duration": 0.039494,
     "end_time": "2022-03-22T09:40:39.374931",
     "exception": false,
     "start_time": "2022-03-22T09:40:39.335437",
     "status": "completed"
    },
    "tags": []
   },
   "source": [
    "# tokenizer"
   ]
  },
  {
   "cell_type": "code",
   "execution_count": 19,
   "id": "4efc387f",
   "metadata": {},
   "outputs": [],
   "source": [
    "# !pip install --no-cache-dir sentencepiece"
   ]
  },
  {
   "cell_type": "code",
   "execution_count": 20,
   "id": "54f8891e",
   "metadata": {
    "papermill": {
     "duration": 5.198604,
     "end_time": "2022-03-22T09:40:44.612849",
     "exception": false,
     "start_time": "2022-03-22T09:40:39.414245",
     "status": "completed"
    },
    "tags": []
   },
   "outputs": [],
   "source": [
    "# ====================================================\n",
    "# tokenizer\n",
    "# ====================================================\n",
    "# tokenizer = AutoTokenizer.from_pretrained(CFG.model,use_fast=False)\n",
    "tokenizer = AutoTokenizer.from_pretrained(CFG.model,use_fast=False)\n",
    "tokenizer.add_special_tokens({'pad_token': '[SEP]'})\n",
    "tokenizer.save_pretrained(OUTPUT_DIR+'tokenizer/')\n",
    "CFG.tokenizer = tokenizer\n",
    "\n"
   ]
  },
  {
   "cell_type": "code",
   "execution_count": null,
   "id": "7cf880ca-b3fb-4603-9194-fc20c0f93e59",
   "metadata": {},
   "outputs": [],
   "source": []
  },
  {
   "cell_type": "markdown",
   "id": "d9fca227",
   "metadata": {
    "id": "14da40cf",
    "papermill": {
     "duration": 0.04897,
     "end_time": "2022-03-22T09:40:44.706931",
     "exception": false,
     "start_time": "2022-03-22T09:40:44.657961",
     "status": "completed"
    },
    "tags": []
   },
   "source": [
    "# Dataset"
   ]
  },
  {
   "cell_type": "code",
   "execution_count": 21,
   "id": "2671471a",
   "metadata": {
    "executionInfo": {
     "elapsed": 32827,
     "status": "ok",
     "timestamp": 1644920122500,
     "user": {
      "displayName": "Yasufumi Nakama",
      "photoUrl": "https://lh3.googleusercontent.com/a/default-user=s64",
      "userId": "17486303986134302670"
     },
     "user_tz": -540
    },
    "id": "c00327b0",
    "outputId": "26e947da-b73a-494d-e776-906b037ac08a",
    "papermill": {
     "duration": 7.208379,
     "end_time": "2022-03-22T09:40:51.959343",
     "exception": false,
     "start_time": "2022-03-22T09:40:44.750964",
     "status": "completed"
    },
    "tags": []
   },
   "outputs": [
    {
     "data": {
      "application/vnd.jupyter.widget-view+json": {
       "model_id": "bddf663dc11447858bcb10665d03488a",
       "version_major": 2,
       "version_minor": 0
      },
      "text/plain": [
       "  0%|          | 0/136 [00:00<?, ?it/s]"
      ]
     },
     "metadata": {},
     "output_type": "display_data"
    },
    {
     "data": {
      "application/vnd.jupyter.widget-view+json": {
       "model_id": "02ee1c114bd34a4f8938c597b7a3ae5e",
       "version_major": 2,
       "version_minor": 0
      },
      "text/plain": [
       "  0%|          | 0/36473 [00:00<?, ?it/s]"
      ]
     },
     "metadata": {},
     "output_type": "display_data"
    },
    {
     "data": {
      "application/vnd.jupyter.widget-view+json": {
       "model_id": "ea1f8fadd0af46aca620a99ae08cf8f1",
       "version_major": 2,
       "version_minor": 0
      },
      "text/plain": [
       "  0%|          | 0/36473 [00:00<?, ?it/s]"
      ]
     },
     "metadata": {},
     "output_type": "display_data"
    },
    {
     "name": "stderr",
     "output_type": "stream",
     "text": [
      "max_len: 125\n"
     ]
    }
   ],
   "source": [
    "# ====================================================\n",
    "# Define max_len\n",
    "# ====================================================\n",
    "lengths_dict = {}\n",
    "\n",
    "lengths = []\n",
    "tk0 = tqdm(cpc_texts.values(), total=len(cpc_texts))\n",
    "for text in tk0:\n",
    "    length = len(tokenizer(text, add_special_tokens=False)['input_ids'])\n",
    "    lengths.append(length)\n",
    "lengths_dict['context_text'] = lengths\n",
    "\n",
    "for text_col in ['anchor', 'target']:\n",
    "    lengths = []\n",
    "    tk0 = tqdm(train[text_col].fillna(\"\").values, total=len(train))\n",
    "    for text in tk0:\n",
    "        length = len(tokenizer(text, add_special_tokens=False)['input_ids'])\n",
    "        lengths.append(length)\n",
    "    lengths_dict[text_col] = lengths\n",
    "    \n",
    "CFG.max_len = max(lengths_dict['anchor']) + max(lengths_dict['target'])\\\n",
    "                + max(lengths_dict['context_text']) + 4 # CLS + SEP + SEP + SEP\n",
    "LOGGER.info(f\"max_len: {CFG.max_len}\")"
   ]
  },
  {
   "cell_type": "code",
   "execution_count": 22,
   "id": "49be5a92",
   "metadata": {
    "id": "9f791a19",
    "papermill": {
     "duration": 0.055528,
     "end_time": "2022-03-22T09:40:52.072178",
     "exception": false,
     "start_time": "2022-03-22T09:40:52.016650",
     "status": "completed"
    },
    "tags": []
   },
   "outputs": [
    {
     "name": "stdout",
     "output_type": "stream",
     "text": [
      "torch.__version__: 1.9.0+cu111\n"
     ]
    }
   ],
   "source": [
    "# ====================================================\n",
    "# Dataset\n",
    "# ====================================================\n",
    "def prepare_input(cfg, text):\n",
    "    inputs = cfg.tokenizer(text,\n",
    "                           add_special_tokens=True,\n",
    "                           max_length=cfg.max_len,\n",
    "                           padding=\"max_length\",\n",
    "                           return_offsets_mapping=False)\n",
    "    for k, v in inputs.items():\n",
    "        inputs[k] = torch.tensor(v, dtype=torch.long)\n",
    "    return inputs\n",
    "\n",
    "sys.path.append('../dataset')\n",
    "from dataset import TrainDataset"
   ]
  },
  {
   "cell_type": "code",
   "execution_count": 23,
   "id": "a459997d",
   "metadata": {
    "executionInfo": {
     "elapsed": 8,
     "status": "ok",
     "timestamp": 1644920122808,
     "user": {
      "displayName": "Yasufumi Nakama",
      "photoUrl": "https://lh3.googleusercontent.com/a/default-user=s64",
      "userId": "17486303986134302670"
     },
     "user_tz": -540
    },
    "id": "a200bd5b",
    "outputId": "a30fde2b-86f9-4ebd-ae81-33f467b69836",
    "papermill": {
     "duration": 0.05166,
     "end_time": "2022-03-22T09:40:52.171272",
     "exception": false,
     "start_time": "2022-03-22T09:40:52.119612",
     "status": "completed"
    },
    "tags": []
   },
   "outputs": [
    {
     "data": {
      "text/plain": [
       "'\\ntrain_dataset = TrainDataset(CFG, train)\\ninputs, label = train_dataset[0]\\nprint(inputs)\\nprint(label)\\n'"
      ]
     },
     "execution_count": 23,
     "metadata": {},
     "output_type": "execute_result"
    }
   ],
   "source": [
    "\"\"\"\n",
    "train_dataset = TrainDataset(CFG, train)\n",
    "inputs, label = train_dataset[0]\n",
    "print(inputs)\n",
    "print(label)\n",
    "\"\"\""
   ]
  },
  {
   "cell_type": "markdown",
   "id": "44d28ba3",
   "metadata": {
    "id": "e04d6363",
    "papermill": {
     "duration": 0.044161,
     "end_time": "2022-03-22T09:40:52.262022",
     "exception": false,
     "start_time": "2022-03-22T09:40:52.217861",
     "status": "completed"
    },
    "tags": []
   },
   "source": [
    "# Model"
   ]
  },
  {
   "cell_type": "code",
   "execution_count": 24,
   "id": "872e6567",
   "metadata": {
    "id": "4c5bab44",
    "papermill": {
     "duration": 0.066203,
     "end_time": "2022-03-22T09:40:52.372030",
     "exception": false,
     "start_time": "2022-03-22T09:40:52.305827",
     "status": "completed"
    },
    "tags": []
   },
   "outputs": [],
   "source": [
    "# ====================================================\n",
    "# Model\n",
    "# ====================================================\n",
    "class CustomModel(nn.Module):\n",
    "    def __init__(self, cfg, config_path=None, pretrained=False):\n",
    "        super().__init__()\n",
    "        self.cfg = cfg\n",
    "        if config_path is None:\n",
    "            self.config = AutoConfig.from_pretrained(cfg.model, output_hidden_states=True)\n",
    "        else:\n",
    "            self.config = torch.load(config_path)\n",
    "        if pretrained:\n",
    "            self.model = AutoModel.from_pretrained(cfg.model, config=self.config)\n",
    "        else:\n",
    "            self.model = AutoModel.from_config(self.config)\n",
    "        self.fc_dropout = nn.Dropout(cfg.fc_dropout)\n",
    "        self.fc = nn.Linear(self.config.hidden_size, self.cfg.target_size)\n",
    "        self._init_weights(self.fc)\n",
    "        self.attention = nn.Sequential(\n",
    "            nn.Linear(self.config.hidden_size, 512),\n",
    "            nn.Tanh(),\n",
    "            nn.Linear(512, 1),\n",
    "            nn.Softmax(dim=1)\n",
    "        )\n",
    "        self._init_weights(self.attention)\n",
    "        \n",
    "    def _init_weights(self, module):\n",
    "        try:\n",
    "                if isinstance(module, nn.Linear):\n",
    "                    module.weight.data.normal_(mean=0.0, std=self.config.initializer_range)\n",
    "                    if module.bias is not None:\n",
    "                        module.bias.data.zero_()\n",
    "                elif isinstance(module, nn.Embedding):\n",
    "                    module.weight.data.normal_(mean=0.0, std=self.config.initializer_range)\n",
    "                    if module.padding_idx is not None:\n",
    "                        module.weight.data[module.padding_idx].zero_()\n",
    "                elif isinstance(module, nn.LayerNorm):\n",
    "                    module.bias.data.zero_()\n",
    "                    module.weight.data.fill_(1.0)\n",
    "        except:\n",
    "            if isinstance(module, nn.Linear):\n",
    "                module.weight.data.normal_(mean=0.0, std=0.02)\n",
    "                if module.bias is not None:\n",
    "                    module.bias.data.zero_()\n",
    "            elif isinstance(module, nn.Embedding):\n",
    "                module.weight.data.normal_(mean=0.0, std=0.02)\n",
    "                if module.padding_idx is not None:\n",
    "                    module.weight.data[module.padding_idx].zero_()\n",
    "            elif isinstance(module, nn.LayerNorm):\n",
    "                module.bias.data.zero_()\n",
    "                module.weight.data.fill_(1.0)\n",
    "\n",
    "    def feature(self, inputs):\n",
    "        outputs = self.model(**inputs)\n",
    "        last_hidden_states = outputs[0]\n",
    "        # feature = torch.mean(last_hidden_states, 1)\n",
    "        weights = self.attention(last_hidden_states)\n",
    "        feature = torch.sum(weights * last_hidden_states, dim=1)\n",
    "        return feature\n",
    "\n",
    "    def forward(self, inputs):\n",
    "        feature = self.feature(inputs)\n",
    "        output = self.fc(self.fc_dropout(feature))\n",
    "        return output\n",
    "    \n"
   ]
  },
  {
   "cell_type": "markdown",
   "id": "d58eee04",
   "metadata": {
    "id": "deee9675",
    "papermill": {
     "duration": 0.044158,
     "end_time": "2022-03-22T09:40:52.460401",
     "exception": false,
     "start_time": "2022-03-22T09:40:52.416243",
     "status": "completed"
    },
    "tags": []
   },
   "source": [
    "# Helpler functions"
   ]
  },
  {
   "cell_type": "code",
   "execution_count": 25,
   "id": "53d5903c",
   "metadata": {
    "id": "c8263b0c",
    "papermill": {
     "duration": 0.078567,
     "end_time": "2022-03-22T09:40:52.582474",
     "exception": false,
     "start_time": "2022-03-22T09:40:52.503907",
     "status": "completed"
    },
    "tags": []
   },
   "outputs": [],
   "source": [
    "# ====================================================\n",
    "# Helper functions\n",
    "# ====================================================\n",
    "class AverageMeter(object):\n",
    "    \"\"\"Computes and stores the average and current value\"\"\"\n",
    "    def __init__(self):\n",
    "        self.reset()\n",
    "\n",
    "    def reset(self):\n",
    "        self.val = 0\n",
    "        self.avg = 0\n",
    "        self.sum = 0\n",
    "        self.count = 0\n",
    "\n",
    "    def update(self, val, n=1):\n",
    "        self.val = val\n",
    "        self.sum += val * n\n",
    "        self.count += n\n",
    "        self.avg = self.sum / self.count\n",
    "\n",
    "\n",
    "def asMinutes(s):\n",
    "    m = math.floor(s / 60)\n",
    "    s -= m * 60\n",
    "    return '%dm %ds' % (m, s)\n",
    "\n",
    "\n",
    "def timeSince(since, percent):\n",
    "    now = time.time()\n",
    "    s = now - since\n",
    "    es = s / (percent)\n",
    "    rs = es - s\n",
    "    return '%s (remain %s)' % (asMinutes(s), asMinutes(rs))\n",
    "\n",
    "\n",
    "def train_fn(fold, train_loader, model, criterion, optimizer, epoch, scheduler, device):\n",
    "    model.train()\n",
    "    scaler = torch.cuda.amp.GradScaler(enabled=CFG.apex)\n",
    "    losses = AverageMeter()\n",
    "    start = end = time.time()\n",
    "    global_step = 0\n",
    "    for step, (inputs, labels) in enumerate(train_loader):\n",
    "        for k, v in inputs.items():\n",
    "            inputs[k] = v.to(device)\n",
    "        labels = labels.to(device)\n",
    "        batch_size = labels.size(0)\n",
    "        with torch.cuda.amp.autocast(enabled=CFG.apex):\n",
    "            y_preds = model(inputs)\n",
    "        loss = criterion(y_preds.view(-1, 1), labels.view(-1, 1))\n",
    "        if CFG.gradient_accumulation_steps > 1:\n",
    "            loss = loss / CFG.gradient_accumulation_steps\n",
    "        losses.update(loss.item(), batch_size)\n",
    "        scaler.scale(loss).backward()\n",
    "        grad_norm = torch.nn.utils.clip_grad_norm_(model.parameters(), CFG.max_grad_norm)\n",
    "        if (step + 1) % CFG.gradient_accumulation_steps == 0:\n",
    "            scaler.step(optimizer)\n",
    "            scaler.update()\n",
    "            optimizer.zero_grad()\n",
    "            global_step += 1\n",
    "            if CFG.batch_scheduler:\n",
    "                scheduler.step()\n",
    "        end = time.time()\n",
    "        if step % CFG.print_freq == 0 or step == (len(train_loader)-1):\n",
    "            print('Epoch: [{0}][{1}/{2}] '\n",
    "                  'Elapsed {remain:s} '\n",
    "                  'Loss: {loss.val:.4f}({loss.avg:.4f}) '\n",
    "                  'Grad: {grad_norm:.4f}  '\n",
    "                  'LR: {lr:.8f}  '\n",
    "                  .format(epoch+1, step, len(train_loader), \n",
    "                          remain=timeSince(start, float(step+1)/len(train_loader)),\n",
    "                          loss=losses,\n",
    "                          grad_norm=grad_norm,\n",
    "                          lr=scheduler.get_lr()[0]))\n",
    "        if CFG.wandb:\n",
    "            wandb.log({f\"[fold{fold}] loss\": losses.val,\n",
    "                       f\"[fold{fold}] lr\": scheduler.get_lr()[0]})\n",
    "    return losses.avg\n",
    "\n",
    "\n",
    "def valid_fn(valid_loader, model, criterion, device):\n",
    "    losses = AverageMeter()\n",
    "    model.eval()\n",
    "    preds = []\n",
    "    start = end = time.time()\n",
    "    for step, (inputs, labels) in enumerate(valid_loader):\n",
    "        for k, v in inputs.items():\n",
    "            inputs[k] = v.to(device)\n",
    "        labels = labels.to(device)\n",
    "        batch_size = labels.size(0)\n",
    "        with torch.no_grad():\n",
    "            y_preds = model(inputs)\n",
    "        loss = criterion(y_preds.view(-1, 1), labels.view(-1, 1))\n",
    "        if CFG.gradient_accumulation_steps > 1:\n",
    "            loss = loss / CFG.gradient_accumulation_steps\n",
    "        losses.update(loss.item(), batch_size)\n",
    "        preds.append(y_preds.sigmoid().to('cpu').numpy())\n",
    "        end = time.time()\n",
    "        if step % CFG.print_freq == 0 or step == (len(valid_loader)-1):\n",
    "            print('EVAL: [{0}/{1}] '\n",
    "                  'Elapsed {remain:s} '\n",
    "                  'Loss: {loss.val:.4f}({loss.avg:.4f}) '\n",
    "                  .format(step, len(valid_loader),\n",
    "                          loss=losses,\n",
    "                          remain=timeSince(start, float(step+1)/len(valid_loader))))\n",
    "    predictions = np.concatenate(preds)\n",
    "    predictions = np.concatenate(predictions)\n",
    "    return losses.avg, predictions\n",
    "\n",
    "\n",
    "def inference_fn(test_loader, model, device):\n",
    "    preds = []\n",
    "    model.eval()\n",
    "    model.to(device)\n",
    "    tk0 = tqdm(test_loader, total=len(test_loader))\n",
    "    for inputs in tk0:\n",
    "        for k, v in inputs.items():\n",
    "            inputs[k] = v.to(device)\n",
    "        with torch.no_grad():\n",
    "            y_preds = model(inputs)\n",
    "        preds.append(y_preds.sigmoid().to('cpu').numpy())\n",
    "    predictions = np.concatenate(preds)\n",
    "    return predictions"
   ]
  },
  {
   "cell_type": "code",
   "execution_count": 26,
   "id": "e3e9d570",
   "metadata": {
    "id": "bed940e1",
    "papermill": {
     "duration": 0.071348,
     "end_time": "2022-03-22T09:40:52.697940",
     "exception": false,
     "start_time": "2022-03-22T09:40:52.626592",
     "status": "completed"
    },
    "tags": []
   },
   "outputs": [],
   "source": [
    "# ====================================================\n",
    "# train loop\n",
    "# ====================================================\n",
    "# def train_loop(folds, fold):\n",
    "def train_loop(train_loader, valid_loader):\n",
    "#     LOGGER.info(f\"========== fold: {fold} training ==========\")\n",
    "\n",
    "#     # ====================================================\n",
    "#     # loader\n",
    "#     # ====================================================\n",
    "#     train_folds = folds[folds['fold'] != fold].reset_index(drop=True)\n",
    "#     valid_folds = folds[folds['fold'] == fold].reset_index(drop=True)\n",
    "#     valid_labels = valid_folds['score'].values\n",
    "    \n",
    "#     train_dataset = TrainDataset(CFG, train_folds)\n",
    "#     valid_dataset = TrainDataset(CFG, valid_folds)\n",
    "\n",
    "#     train_loader = DataLoader(train_dataset,\n",
    "#                               batch_size=CFG.batch_size,\n",
    "#                               shuffle=True,\n",
    "#                               num_workers=CFG.num_workers, pin_memory=True, drop_last=True)\n",
    "#     valid_loader = DataLoader(valid_dataset,\n",
    "#                               batch_size=CFG.batch_size,\n",
    "#                               shuffle=False,\n",
    "#                               num_workers=CFG.num_workers, pin_memory=True, drop_last=False)\n",
    "\n",
    "    # ====================================================\n",
    "    # model & optimizer\n",
    "    # ====================================================\n",
    "    model = CustomModel(CFG, config_path=None, pretrained=True)\n",
    "    torch.save(model.config, OUTPUT_DIR+'config.pth')\n",
    "    model.to(device)\n",
    "    \n",
    "    def get_optimizer_params(model, encoder_lr, decoder_lr, weight_decay=0.0):\n",
    "        param_optimizer = list(model.named_parameters())\n",
    "        no_decay = [\"bias\", \"LayerNorm.bias\", \"LayerNorm.weight\"]\n",
    "        optimizer_parameters = [\n",
    "            {'params': [p for n, p in model.model.named_parameters() if not any(nd in n for nd in no_decay)],\n",
    "             'lr': encoder_lr, 'weight_decay': weight_decay},\n",
    "            {'params': [p for n, p in model.model.named_parameters() if any(nd in n for nd in no_decay)],\n",
    "             'lr': encoder_lr, 'weight_decay': 0.0},\n",
    "            {'params': [p for n, p in model.named_parameters() if \"model\" not in n],\n",
    "             'lr': decoder_lr, 'weight_decay': 0.0}\n",
    "        ]\n",
    "        return optimizer_parameters\n",
    "\n",
    "    optimizer_parameters = get_optimizer_params(model,\n",
    "                                                encoder_lr=CFG.encoder_lr, \n",
    "                                                decoder_lr=CFG.decoder_lr,\n",
    "                                                weight_decay=CFG.weight_decay)\n",
    "    optimizer = AdamW(optimizer_parameters, lr=CFG.encoder_lr, eps=CFG.eps, betas=CFG.betas)\n",
    "    \n",
    "    # ====================================================\n",
    "    # scheduler\n",
    "    # ====================================================\n",
    "    def get_scheduler(cfg, optimizer, num_train_steps):\n",
    "        if cfg.scheduler == 'linear':\n",
    "            scheduler = get_linear_schedule_with_warmup(\n",
    "                optimizer, num_warmup_steps=cfg.num_warmup_steps, num_training_steps=num_train_steps\n",
    "            )\n",
    "        elif cfg.scheduler == 'cosine':\n",
    "            scheduler = get_cosine_schedule_with_warmup(\n",
    "                optimizer, num_warmup_steps=cfg.num_warmup_steps, num_training_steps=num_train_steps, num_cycles=cfg.num_cycles\n",
    "            )\n",
    "        return scheduler\n",
    "    \n",
    "    num_train_steps = int(len(train_folds) / CFG.batch_size * CFG.epochs)\n",
    "    scheduler = get_scheduler(CFG, optimizer, num_train_steps)\n",
    "\n",
    "    # ====================================================\n",
    "    # loop\n",
    "    # ====================================================\n",
    "    criterion = nn.BCEWithLogitsLoss(reduction=\"mean\")\n",
    "    \n",
    "    best_score = 0.\n",
    "\n",
    "    for epoch in range(CFG.epochs):\n",
    "        start_time = time.time()\n",
    "\n",
    "        # train\n",
    "        avg_loss = train_fn(fold, train_loader, model, criterion, optimizer, epoch, scheduler, device)\n",
    "\n",
    "        # eval\n",
    "        avg_val_loss, predictions = valid_fn(valid_loader, model, criterion, device)\n",
    "        \n",
    "        # scoring\n",
    "        score = get_score(valid_labels, predictions)\n",
    "\n",
    "        elapsed = time.time() - start_time\n",
    "\n",
    "        LOGGER.info(f'Epoch {epoch+1} - avg_train_loss: {avg_loss:.4f}  avg_val_loss: {avg_val_loss:.4f}  time: {elapsed:.0f}s')\n",
    "        LOGGER.info(f'Epoch {epoch+1} - Score: {score:.4f}')\n",
    "        if CFG.wandb:\n",
    "            wandb.log({f\"[fold{fold}] epoch\": epoch+1, \n",
    "                       f\"[fold{fold}] avg_train_loss\": avg_loss, \n",
    "                       f\"[fold{fold}] avg_val_loss\": avg_val_loss,\n",
    "                       f\"[fold{fold}] score\": score})\n",
    "        \n",
    "        if best_score < score:\n",
    "            best_score = score\n",
    "            LOGGER.info(f'Epoch {epoch+1} - Save Best Score: {best_score:.4f} Model')\n",
    "            torch.save({'model': model.state_dict(),\n",
    "                        'predictions': predictions},\n",
    "                        OUTPUT_DIR+f\"{CFG.model.replace('/', '-')}_fold{fold}_best.pth\")\n",
    "\n",
    "    predictions = torch.load(OUTPUT_DIR+f\"{CFG.model.replace('/', '-')}_fold{fold}_best.pth\", \n",
    "                             map_location=torch.device('cpu'))['predictions']\n",
    "    valid_folds['pred'] = predictions\n",
    "\n",
    "    torch.cuda.empty_cache()\n",
    "    gc.collect()\n",
    "    \n",
    "    return valid_folds"
   ]
  },
  {
   "cell_type": "code",
   "execution_count": null,
   "id": "13eeaf68",
   "metadata": {
    "id": "6cc76b1e",
    "papermill": {
     "duration": 30265.411984,
     "end_time": "2022-03-22T18:05:18.155447",
     "exception": false,
     "start_time": "2022-03-22T09:40:52.743463",
     "status": "completed"
    },
    "scrolled": true,
    "tags": []
   },
   "outputs": [
    {
     "name": "stderr",
     "output_type": "stream",
     "text": [
      "========== fold: 0 training ==========\n"
     ]
    },
    {
     "name": "stdout",
     "output_type": "stream",
     "text": [
      "\u001b[38;5;40m========== fold: 0 training ==========\u001b[0m\n"
     ]
    },
    {
     "name": "stderr",
     "output_type": "stream",
     "text": [
      "Some weights of the model checkpoint at google/electra-large-discriminator were not used when initializing ElectraModel: ['discriminator_predictions.dense_prediction.bias', 'discriminator_predictions.dense_prediction.weight', 'discriminator_predictions.dense.weight', 'discriminator_predictions.dense.bias']\n",
      "- This IS expected if you are initializing ElectraModel from the checkpoint of a model trained on another task or with another architecture (e.g. initializing a BertForSequenceClassification model from a BertForPreTraining model).\n",
      "- This IS NOT expected if you are initializing ElectraModel from the checkpoint of a model that you expect to be exactly identical (initializing a BertForSequenceClassification model from a BertForSequenceClassification model).\n"
     ]
    },
    {
     "name": "stdout",
     "output_type": "stream",
     "text": [
      "Epoch: [1][0/3419] Elapsed 0m 2s (remain 117m 16s) Loss: 0.6865(0.6865) Grad: 396214.9062  LR: 0.00002000  \n",
      "Epoch: [1][100/3419] Elapsed 0m 36s (remain 20m 0s) Loss: 0.6302(0.6529) Grad: 5918.8540  LR: 0.00002000  \n",
      "Epoch: [1][200/3419] Elapsed 1m 6s (remain 17m 46s) Loss: 0.6387(0.6491) Grad: 844.5046  LR: 0.00001999  \n",
      "Epoch: [1][300/3419] Elapsed 1m 36s (remain 16m 40s) Loss: 0.6670(0.6559) Grad: 108.3915  LR: 0.00001998  \n",
      "Epoch: [1][400/3419] Elapsed 2m 6s (remain 15m 52s) Loss: 0.5258(0.6555) Grad: 191.7083  LR: 0.00001996  \n",
      "Epoch: [1][500/3419] Elapsed 2m 36s (remain 15m 11s) Loss: 0.6275(0.6544) Grad: 42.3739  LR: 0.00001993  \n",
      "Epoch: [1][600/3419] Elapsed 3m 6s (remain 14m 34s) Loss: 0.6390(0.6555) Grad: 44.5181  LR: 0.00001990  \n",
      "Epoch: [1][700/3419] Elapsed 3m 36s (remain 13m 59s) Loss: 0.6462(0.6560) Grad: 62.5935  LR: 0.00001987  \n",
      "Epoch: [1][800/3419] Elapsed 4m 6s (remain 13m 26s) Loss: 0.6706(0.6551) Grad: 109.9939  LR: 0.00001983  \n",
      "Epoch: [1][900/3419] Elapsed 4m 36s (remain 12m 53s) Loss: 0.5471(0.6558) Grad: 215.1631  LR: 0.00001979  \n",
      "Epoch: [1][1000/3419] Elapsed 5m 6s (remain 12m 20s) Loss: 0.6719(0.6553) Grad: 81.3986  LR: 0.00001974  \n",
      "Epoch: [1][1100/3419] Elapsed 5m 36s (remain 11m 48s) Loss: 0.7070(0.6561) Grad: 139.1626  LR: 0.00001968  \n",
      "Epoch: [1][1200/3419] Elapsed 6m 6s (remain 11m 17s) Loss: 0.5796(0.6564) Grad: 242.6658  LR: 0.00001962  \n",
      "Epoch: [1][1300/3419] Elapsed 6m 36s (remain 10m 45s) Loss: 0.6748(0.6569) Grad: 71.1562  LR: 0.00001956  \n",
      "Epoch: [1][1400/3419] Elapsed 7m 6s (remain 10m 14s) Loss: 0.5944(0.6571) Grad: 103.5488  LR: 0.00001949  \n",
      "Epoch: [1][1500/3419] Elapsed 7m 36s (remain 9m 43s) Loss: 0.6512(0.6564) Grad: 64.3702  LR: 0.00001941  \n",
      "Epoch: [1][1600/3419] Elapsed 8m 6s (remain 9m 12s) Loss: 0.6831(0.6564) Grad: 61.0618  LR: 0.00001933  \n",
      "Epoch: [1][1700/3419] Elapsed 8m 36s (remain 8m 42s) Loss: 0.6862(0.6566) Grad: 135.7076  LR: 0.00001925  \n",
      "Epoch: [1][1800/3419] Elapsed 9m 6s (remain 8m 11s) Loss: 0.5589(0.6568) Grad: 162.6489  LR: 0.00001916  \n",
      "Epoch: [1][1900/3419] Elapsed 9m 37s (remain 7m 40s) Loss: 0.6188(0.6567) Grad: 116.0131  LR: 0.00001906  \n",
      "Epoch: [1][2000/3419] Elapsed 10m 7s (remain 7m 10s) Loss: 0.6704(0.6564) Grad: 54.5828  LR: 0.00001896  \n",
      "Epoch: [1][2100/3419] Elapsed 10m 37s (remain 6m 39s) Loss: 0.7400(0.6571) Grad: 227.6911  LR: 0.00001886  \n",
      "Epoch: [1][2200/3419] Elapsed 11m 7s (remain 6m 9s) Loss: 0.6282(0.6567) Grad: 151.4644  LR: 0.00001875  \n",
      "Epoch: [1][2300/3419] Elapsed 11m 37s (remain 5m 38s) Loss: 0.6801(0.6569) Grad: 92.6000  LR: 0.00001864  \n",
      "Epoch: [1][2400/3419] Elapsed 12m 7s (remain 5m 8s) Loss: 0.6588(0.6568) Grad: 143.8220  LR: 0.00001852  \n",
      "Epoch: [1][2500/3419] Elapsed 12m 37s (remain 4m 37s) Loss: 0.6273(0.6570) Grad: 279.8503  LR: 0.00001839  \n",
      "Epoch: [1][2600/3419] Elapsed 13m 7s (remain 4m 7s) Loss: 0.5977(0.6570) Grad: 297.0937  LR: 0.00001827  \n",
      "Epoch: [1][2700/3419] Elapsed 13m 37s (remain 3m 37s) Loss: 0.5715(0.6571) Grad: 356.1725  LR: 0.00001814  \n",
      "Epoch: [1][2800/3419] Elapsed 14m 7s (remain 3m 6s) Loss: 0.7001(0.6573) Grad: 207.2806  LR: 0.00001800  \n",
      "Epoch: [1][2900/3419] Elapsed 14m 37s (remain 2m 36s) Loss: 0.6844(0.6572) Grad: 115.0496  LR: 0.00001786  \n",
      "Epoch: [1][3000/3419] Elapsed 15m 7s (remain 2m 6s) Loss: 0.6627(0.6571) Grad: 113.8712  LR: 0.00001772  \n",
      "Epoch: [1][3100/3419] Elapsed 15m 37s (remain 1m 36s) Loss: 0.6974(0.6570) Grad: 234.0348  LR: 0.00001757  \n",
      "Epoch: [1][3200/3419] Elapsed 16m 7s (remain 1m 5s) Loss: 0.6870(0.6570) Grad: 214.2963  LR: 0.00001742  \n",
      "Epoch: [1][3300/3419] Elapsed 16m 37s (remain 0m 35s) Loss: 0.6303(0.6566) Grad: 152.1473  LR: 0.00001726  \n",
      "Epoch: [1][3400/3419] Elapsed 17m 7s (remain 0m 5s) Loss: 0.6806(0.6564) Grad: 167.8792  LR: 0.00001710  \n",
      "Epoch: [1][3418/3419] Elapsed 17m 12s (remain 0m 0s) Loss: 0.6930(0.6563) Grad: 222.1800  LR: 0.00001707  \n"
     ]
    },
    {
     "name": "stderr",
     "output_type": "stream",
     "text": [
      "[W pthreadpool-cpp.cc:90] Warning: Leaking Caffe2 thread-pool after fork. (function pthreadpool)\n",
      "[W pthreadpool-cpp.cc:90] Warning: Leaking Caffe2 thread-pool after fork. (function pthreadpool)\n",
      "[W pthreadpool-cpp.cc:90] Warning: Leaking Caffe2 thread-pool after fork. (function pthreadpool)\n",
      "[W pthreadpool-cpp.cc:90] Warning: Leaking Caffe2 thread-pool after fork. (function pthreadpool)\n"
     ]
    },
    {
     "name": "stdout",
     "output_type": "stream",
     "text": [
      "EVAL: [0/1140] Elapsed 0m 0s (remain 4m 11s) Loss: 0.5973(0.5973) \n",
      "EVAL: [100/1140] Elapsed 0m 8s (remain 1m 24s) Loss: 0.6212(0.6537) \n",
      "EVAL: [200/1140] Elapsed 0m 16s (remain 1m 15s) Loss: 0.5258(0.6565) \n",
      "EVAL: [300/1140] Elapsed 0m 24s (remain 1m 7s) Loss: 0.8119(0.6570) \n",
      "EVAL: [400/1140] Elapsed 0m 32s (remain 0m 59s) Loss: 0.7642(0.6610) \n",
      "EVAL: [500/1140] Elapsed 0m 40s (remain 0m 51s) Loss: 0.6450(0.6595) \n",
      "EVAL: [600/1140] Elapsed 0m 48s (remain 0m 43s) Loss: 0.6450(0.6566) \n",
      "EVAL: [700/1140] Elapsed 0m 56s (remain 0m 35s) Loss: 0.6688(0.6564) \n",
      "EVAL: [800/1140] Elapsed 1m 4s (remain 0m 27s) Loss: 0.6688(0.6553) \n",
      "EVAL: [900/1140] Elapsed 1m 12s (remain 0m 19s) Loss: 0.5735(0.6566) \n",
      "EVAL: [1000/1140] Elapsed 1m 20s (remain 0m 11s) Loss: 0.6927(0.6579) \n",
      "EVAL: [1100/1140] Elapsed 1m 28s (remain 0m 3s) Loss: 0.6927(0.6587) \n"
     ]
    },
    {
     "name": "stderr",
     "output_type": "stream",
     "text": [
      "Epoch 1 - avg_train_loss: 0.6563  avg_val_loss: 0.6590  time: 1125s\n",
      "Epoch 1 - Score: 0.0141\n",
      "Epoch 1 - Save Best Score: 0.0141 Model\n"
     ]
    },
    {
     "name": "stdout",
     "output_type": "stream",
     "text": [
      "EVAL: [1139/1140] Elapsed 1m 31s (remain 0m 0s) Loss: 0.8459(0.6590) \n"
     ]
    },
    {
     "name": "stderr",
     "output_type": "stream",
     "text": [
      "[W pthreadpool-cpp.cc:90] Warning: Leaking Caffe2 thread-pool after fork. (function pthreadpool)\n",
      "[W pthreadpool-cpp.cc:90] Warning: Leaking Caffe2 thread-pool after fork. (function pthreadpool)\n",
      "[W pthreadpool-cpp.cc:90] Warning: Leaking Caffe2 thread-pool after fork. (function pthreadpool)\n",
      "[W pthreadpool-cpp.cc:90] Warning: Leaking Caffe2 thread-pool after fork. (function pthreadpool)\n"
     ]
    },
    {
     "name": "stdout",
     "output_type": "stream",
     "text": [
      "Epoch: [2][0/3419] Elapsed 0m 0s (remain 34m 45s) Loss: 0.7311(0.7311) Grad: 87111.3594  LR: 0.00001707  \n",
      "Epoch: [2][100/3419] Elapsed 0m 31s (remain 17m 12s) Loss: 0.7993(0.6640) Grad: 140510.6875  LR: 0.00001691  \n",
      "Epoch: [2][200/3419] Elapsed 1m 2s (remain 16m 37s) Loss: 0.7914(0.6588) Grad: 126511.7031  LR: 0.00001674  \n",
      "Epoch: [2][300/3419] Elapsed 1m 33s (remain 16m 5s) Loss: 0.7388(0.6606) Grad: 86946.1406  LR: 0.00001657  \n",
      "Epoch: [2][400/3419] Elapsed 2m 4s (remain 15m 33s) Loss: 0.7045(0.6599) Grad: 65588.3594  LR: 0.00001639  \n",
      "Epoch: [2][500/3419] Elapsed 2m 34s (remain 15m 2s) Loss: 0.7067(0.6582) Grad: 61698.2188  LR: 0.00001621  \n",
      "Epoch: [2][600/3419] Elapsed 3m 5s (remain 14m 31s) Loss: 0.8704(0.6587) Grad: 191436.7031  LR: 0.00001603  \n",
      "Epoch: [2][700/3419] Elapsed 3m 36s (remain 13m 59s) Loss: 0.5975(0.6585) Grad: 40343.6250  LR: 0.00001585  \n",
      "Epoch: [2][800/3419] Elapsed 4m 7s (remain 13m 28s) Loss: 0.6720(0.6570) Grad: 35158.6992  LR: 0.00001566  \n",
      "Epoch: [2][900/3419] Elapsed 4m 38s (remain 12m 57s) Loss: 0.6489(0.6568) Grad: 13495.2871  LR: 0.00001547  \n",
      "Epoch: [2][1000/3419] Elapsed 5m 9s (remain 12m 27s) Loss: 0.6194(0.6567) Grad: 33205.1133  LR: 0.00001527  \n",
      "Epoch: [2][1100/3419] Elapsed 5m 40s (remain 11m 56s) Loss: 0.5759(0.6569) Grad: 85208.1328  LR: 0.00001508  \n",
      "Epoch: [2][1200/3419] Elapsed 6m 10s (remain 11m 25s) Loss: 0.5880(0.6566) Grad: 69477.6484  LR: 0.00001488  \n",
      "Epoch: [2][1300/3419] Elapsed 6m 41s (remain 10m 54s) Loss: 0.6968(0.6561) Grad: 60117.7266  LR: 0.00001468  \n",
      "Epoch: [2][1400/3419] Elapsed 7m 12s (remain 10m 23s) Loss: 0.6881(0.6564) Grad: 48261.3398  LR: 0.00001447  \n",
      "Epoch: [2][1500/3419] Elapsed 7m 43s (remain 9m 52s) Loss: 0.6833(0.6564) Grad: 44686.4609  LR: 0.00001427  \n",
      "Epoch: [2][1600/3419] Elapsed 8m 14s (remain 9m 21s) Loss: 0.5369(0.6563) Grad: 117654.8125  LR: 0.00001406  \n",
      "Epoch: [2][1700/3419] Elapsed 8m 45s (remain 8m 50s) Loss: 0.6479(0.6561) Grad: 33842.0117  LR: 0.00001385  \n",
      "Epoch: [2][1800/3419] Elapsed 9m 16s (remain 8m 19s) Loss: 0.6546(0.6562) Grad: 24031.4258  LR: 0.00001363  \n",
      "Epoch: [2][1900/3419] Elapsed 9m 47s (remain 7m 48s) Loss: 0.7977(0.6562) Grad: 140574.4062  LR: 0.00001342  \n",
      "Epoch: [2][2000/3419] Elapsed 10m 17s (remain 7m 17s) Loss: 0.6859(0.6564) Grad: 84245.7891  LR: 0.00001320  \n",
      "Epoch: [2][2100/3419] Elapsed 10m 48s (remain 6m 47s) Loss: 0.6255(0.6566) Grad: 76893.3281  LR: 0.00001298  \n",
      "Epoch: [2][2200/3419] Elapsed 11m 19s (remain 6m 16s) Loss: 0.5997(0.6565) Grad: 91040.4531  LR: 0.00001276  \n",
      "Epoch: [2][2300/3419] Elapsed 11m 50s (remain 5m 45s) Loss: 0.6101(0.6566) Grad: 108351.7109  LR: 0.00001254  \n",
      "Epoch: [2][2400/3419] Elapsed 12m 21s (remain 5m 14s) Loss: 0.6978(0.6566) Grad: 95382.2422  LR: 0.00001232  \n",
      "Epoch: [2][2500/3419] Elapsed 12m 52s (remain 4m 43s) Loss: 0.6752(0.6565) Grad: 51378.3984  LR: 0.00001209  \n",
      "Epoch: [2][2600/3419] Elapsed 13m 23s (remain 4m 12s) Loss: 0.6991(0.6565) Grad: 92952.2500  LR: 0.00001187  \n",
      "Epoch: [2][2700/3419] Elapsed 13m 54s (remain 3m 41s) Loss: 0.6313(0.6562) Grad: 81521.8047  LR: 0.00001164  \n",
      "Epoch: [2][2800/3419] Elapsed 14m 25s (remain 3m 10s) Loss: 0.6294(0.6563) Grad: 82658.3047  LR: 0.00001142  \n",
      "Epoch: [2][2900/3419] Elapsed 14m 55s (remain 2m 39s) Loss: 0.6152(0.6564) Grad: 109816.3125  LR: 0.00001119  \n",
      "Epoch: [2][3000/3419] Elapsed 15m 26s (remain 2m 9s) Loss: 0.6632(0.6563) Grad: 43225.1602  LR: 0.00001096  \n",
      "Epoch: [2][3100/3419] Elapsed 15m 57s (remain 1m 38s) Loss: 0.6122(0.6559) Grad: 89590.4375  LR: 0.00001073  \n",
      "Epoch: [2][3200/3419] Elapsed 16m 28s (remain 1m 7s) Loss: 0.6737(0.6559) Grad: 65972.8750  LR: 0.00001050  \n",
      "Epoch: [2][3300/3419] Elapsed 16m 59s (remain 0m 36s) Loss: 0.7304(0.6559) Grad: 176286.0000  LR: 0.00001027  \n",
      "Epoch: [2][3400/3419] Elapsed 17m 30s (remain 0m 5s) Loss: 0.6788(0.6559) Grad: 68981.4531  LR: 0.00001004  \n",
      "Epoch: [2][3418/3419] Elapsed 17m 35s (remain 0m 0s) Loss: 0.6885(0.6559) Grad: 89188.8281  LR: 0.00001000  \n"
     ]
    },
    {
     "name": "stderr",
     "output_type": "stream",
     "text": [
      "[W pthreadpool-cpp.cc:90] Warning: Leaking Caffe2 thread-pool after fork. (function pthreadpool)\n",
      "[W pthreadpool-cpp.cc:90] Warning: Leaking Caffe2 thread-pool after fork. (function pthreadpool)\n",
      "[W pthreadpool-cpp.cc:90] Warning: Leaking Caffe2 thread-pool after fork. (function pthreadpool)\n",
      "[W pthreadpool-cpp.cc:90] Warning: Leaking Caffe2 thread-pool after fork. (function pthreadpool)\n"
     ]
    },
    {
     "name": "stdout",
     "output_type": "stream",
     "text": [
      "EVAL: [0/1140] Elapsed 0m 0s (remain 4m 10s) Loss: 0.6059(0.6059) \n",
      "EVAL: [100/1140] Elapsed 0m 8s (remain 1m 24s) Loss: 0.6248(0.6506) \n",
      "EVAL: [200/1140] Elapsed 0m 16s (remain 1m 15s) Loss: 0.5492(0.6528) \n",
      "EVAL: [300/1140] Elapsed 0m 24s (remain 1m 7s) Loss: 0.7760(0.6532) \n",
      "EVAL: [400/1140] Elapsed 0m 32s (remain 0m 59s) Loss: 0.7382(0.6564) \n",
      "EVAL: [500/1140] Elapsed 0m 40s (remain 0m 51s) Loss: 0.6437(0.6552) \n",
      "EVAL: [600/1140] Elapsed 0m 48s (remain 0m 43s) Loss: 0.6437(0.6529) \n",
      "EVAL: [700/1140] Elapsed 0m 56s (remain 0m 35s) Loss: 0.6626(0.6527) \n",
      "EVAL: [800/1140] Elapsed 1m 4s (remain 0m 27s) Loss: 0.6626(0.6518) \n",
      "EVAL: [900/1140] Elapsed 1m 12s (remain 0m 19s) Loss: 0.5870(0.6529) \n",
      "EVAL: [1000/1140] Elapsed 1m 20s (remain 0m 11s) Loss: 0.6815(0.6539) \n",
      "EVAL: [1100/1140] Elapsed 1m 28s (remain 0m 3s) Loss: 0.6815(0.6546) \n"
     ]
    },
    {
     "name": "stderr",
     "output_type": "stream",
     "text": [
      "Epoch 2 - avg_train_loss: 0.6559  avg_val_loss: 0.6548  time: 1147s\n",
      "Epoch 2 - Score: -0.0040\n"
     ]
    },
    {
     "name": "stdout",
     "output_type": "stream",
     "text": [
      "EVAL: [1139/1140] Elapsed 1m 31s (remain 0m 0s) Loss: 0.8029(0.6548) \n"
     ]
    },
    {
     "name": "stderr",
     "output_type": "stream",
     "text": [
      "[W pthreadpool-cpp.cc:90] Warning: Leaking Caffe2 thread-pool after fork. (function pthreadpool)\n",
      "[W pthreadpool-cpp.cc:90] Warning: Leaking Caffe2 thread-pool after fork. (function pthreadpool)\n",
      "[W pthreadpool-cpp.cc:90] Warning: Leaking Caffe2 thread-pool after fork. (function pthreadpool)\n",
      "[W pthreadpool-cpp.cc:90] Warning: Leaking Caffe2 thread-pool after fork. (function pthreadpool)\n"
     ]
    },
    {
     "name": "stdout",
     "output_type": "stream",
     "text": [
      "Epoch: [3][0/3419] Elapsed 0m 0s (remain 21m 40s) Loss: 0.6427(0.6427) Grad: 26984.5566  LR: 0.00001000  \n",
      "Epoch: [3][100/3419] Elapsed 0m 31s (remain 17m 7s) Loss: 0.6406(0.6439) Grad: 26292.3301  LR: 0.00000977  \n",
      "Epoch: [3][200/3419] Elapsed 1m 2s (remain 16m 35s) Loss: 0.6855(0.6515) Grad: 40523.3867  LR: 0.00000954  \n",
      "Epoch: [3][300/3419] Elapsed 1m 35s (remain 16m 27s) Loss: 0.6889(0.6523) Grad: 43856.3320  LR: 0.00000931  \n",
      "Epoch: [3][400/3419] Elapsed 2m 6s (remain 15m 50s) Loss: 0.6408(0.6517) Grad: 18950.9902  LR: 0.00000908  \n",
      "Epoch: [3][500/3419] Elapsed 2m 37s (remain 15m 15s) Loss: 0.5593(0.6520) Grad: 102621.3672  LR: 0.00000885  \n",
      "Epoch: [3][600/3419] Elapsed 3m 8s (remain 14m 41s) Loss: 0.6296(0.6527) Grad: 36754.4102  LR: 0.00000863  \n",
      "Epoch: [3][700/3419] Elapsed 3m 38s (remain 14m 8s) Loss: 0.6103(0.6543) Grad: 53567.8555  LR: 0.00000840  \n",
      "Epoch: [3][800/3419] Elapsed 4m 9s (remain 13m 36s) Loss: 0.6322(0.6540) Grad: 33740.5977  LR: 0.00000817  \n",
      "Epoch: [3][900/3419] Elapsed 4m 40s (remain 13m 4s) Loss: 0.6897(0.6553) Grad: 36087.5273  LR: 0.00000795  \n",
      "Epoch: [3][1000/3419] Elapsed 5m 11s (remain 12m 32s) Loss: 0.5452(0.6550) Grad: 127176.7422  LR: 0.00000772  \n",
      "Epoch: [3][1100/3419] Elapsed 5m 42s (remain 12m 0s) Loss: 0.7550(0.6553) Grad: 103955.1875  LR: 0.00000750  \n",
      "Epoch: [3][1200/3419] Elapsed 6m 13s (remain 11m 29s) Loss: 0.6073(0.6556) Grad: 49120.5781  LR: 0.00000728  \n",
      "Epoch: [3][1300/3419] Elapsed 6m 44s (remain 10m 58s) Loss: 0.6669(0.6554) Grad: 27454.1484  LR: 0.00000706  \n",
      "Epoch: [3][1400/3419] Elapsed 7m 15s (remain 10m 26s) Loss: 0.7156(0.6557) Grad: 66051.8438  LR: 0.00000684  \n",
      "Epoch: [3][1500/3419] Elapsed 7m 46s (remain 9m 55s) Loss: 0.5372(0.6556) Grad: 119981.1250  LR: 0.00000662  \n",
      "Epoch: [3][1600/3419] Elapsed 8m 16s (remain 9m 24s) Loss: 0.7058(0.6556) Grad: 54166.1289  LR: 0.00000641  \n",
      "Epoch: [3][1700/3419] Elapsed 8m 47s (remain 8m 53s) Loss: 0.6925(0.6555) Grad: 43734.0625  LR: 0.00000619  \n",
      "Epoch: [3][1800/3419] Elapsed 9m 18s (remain 8m 22s) Loss: 0.6266(0.6558) Grad: 34426.2070  LR: 0.00000598  \n",
      "Epoch: [3][1900/3419] Elapsed 9m 49s (remain 7m 50s) Loss: 0.7406(0.6561) Grad: 95328.6562  LR: 0.00000577  \n",
      "Epoch: [3][2000/3419] Elapsed 10m 20s (remain 7m 19s) Loss: 0.6437(0.6558) Grad: 42533.5312  LR: 0.00000556  \n",
      "Epoch: [3][2100/3419] Elapsed 10m 51s (remain 6m 48s) Loss: 0.5677(0.6556) Grad: 155497.4219  LR: 0.00000536  \n",
      "Epoch: [3][2200/3419] Elapsed 11m 22s (remain 6m 17s) Loss: 0.5892(0.6553) Grad: 116658.2109  LR: 0.00000516  \n",
      "Epoch: [3][2300/3419] Elapsed 11m 53s (remain 5m 46s) Loss: 0.6467(0.6553) Grad: 52045.7969  LR: 0.00000496  \n",
      "Epoch: [3][2400/3419] Elapsed 12m 24s (remain 5m 15s) Loss: 0.5282(0.6551) Grad: 229161.1250  LR: 0.00000476  \n",
      "Epoch: [3][2500/3419] Elapsed 12m 55s (remain 4m 44s) Loss: 0.6106(0.6545) Grad: 85496.8516  LR: 0.00000457  \n",
      "Epoch: [3][2600/3419] Elapsed 13m 25s (remain 4m 13s) Loss: 0.7566(0.6543) Grad: 212542.7969  LR: 0.00000438  \n",
      "Epoch: [3][2700/3419] Elapsed 13m 56s (remain 3m 42s) Loss: 0.7292(0.6545) Grad: 150468.5469  LR: 0.00000419  \n",
      "Epoch: [3][2800/3419] Elapsed 14m 27s (remain 3m 11s) Loss: 0.6268(0.6545) Grad: 60839.0859  LR: 0.00000400  \n",
      "Epoch: [3][2900/3419] Elapsed 14m 58s (remain 2m 40s) Loss: 0.7293(0.6544) Grad: 146879.6719  LR: 0.00000382  \n",
      "Epoch: [3][3000/3419] Elapsed 15m 29s (remain 2m 9s) Loss: 0.6682(0.6545) Grad: 44923.8984  LR: 0.00000364  \n",
      "Epoch: [3][3100/3419] Elapsed 16m 0s (remain 1m 38s) Loss: 0.5947(0.6545) Grad: 109480.4844  LR: 0.00000347  \n",
      "Epoch: [3][3200/3419] Elapsed 16m 31s (remain 1m 7s) Loss: 0.6987(0.6545) Grad: 104154.6094  LR: 0.00000329  \n",
      "Epoch: [3][3300/3419] Elapsed 17m 2s (remain 0m 36s) Loss: 0.7105(0.6549) Grad: 127480.1250  LR: 0.00000312  \n",
      "Epoch: [3][3400/3419] Elapsed 17m 33s (remain 0m 5s) Loss: 0.6816(0.6550) Grad: 70656.7969  LR: 0.00000296  \n"
     ]
    },
    {
     "name": "stderr",
     "output_type": "stream",
     "text": [
      "[W pthreadpool-cpp.cc:90] Warning: Leaking Caffe2 thread-pool after fork. (function pthreadpool)\n"
     ]
    },
    {
     "name": "stdout",
     "output_type": "stream",
     "text": [
      "Epoch: [3][3418/3419] Elapsed 17m 38s (remain 0m 0s) Loss: 0.6659(0.6551) Grad: 52013.9961  LR: 0.00000293  \n"
     ]
    },
    {
     "name": "stderr",
     "output_type": "stream",
     "text": [
      "[W pthreadpool-cpp.cc:90] Warning: Leaking Caffe2 thread-pool after fork. (function pthreadpool)\n",
      "[W pthreadpool-cpp.cc:90] Warning: Leaking Caffe2 thread-pool after fork. (function pthreadpool)\n",
      "[W pthreadpool-cpp.cc:90] Warning: Leaking Caffe2 thread-pool after fork. (function pthreadpool)\n",
      "[W pthreadpool-cpp.cc:90] Warning: Leaking Caffe2 thread-pool after fork. (function pthreadpool)\n"
     ]
    },
    {
     "name": "stdout",
     "output_type": "stream",
     "text": [
      "EVAL: [0/1140] Elapsed 0m 0s (remain 4m 16s) Loss: 0.6059(0.6059) \n",
      "EVAL: [100/1140] Elapsed 0m 8s (remain 1m 24s) Loss: 0.6248(0.6506) \n",
      "EVAL: [200/1140] Elapsed 0m 16s (remain 1m 15s) Loss: 0.5491(0.6528) \n",
      "EVAL: [300/1140] Elapsed 0m 24s (remain 1m 7s) Loss: 0.7761(0.6532) \n",
      "EVAL: [400/1140] Elapsed 0m 32s (remain 0m 59s) Loss: 0.7383(0.6564) \n",
      "EVAL: [500/1140] Elapsed 0m 40s (remain 0m 51s) Loss: 0.6437(0.6552) \n",
      "EVAL: [600/1140] Elapsed 0m 48s (remain 0m 43s) Loss: 0.6437(0.6529) \n",
      "EVAL: [700/1140] Elapsed 0m 56s (remain 0m 35s) Loss: 0.6626(0.6527) \n",
      "EVAL: [800/1140] Elapsed 1m 4s (remain 0m 27s) Loss: 0.6626(0.6518) \n",
      "EVAL: [900/1140] Elapsed 1m 12s (remain 0m 19s) Loss: 0.5869(0.6529) \n",
      "EVAL: [1000/1140] Elapsed 1m 20s (remain 0m 11s) Loss: 0.6815(0.6539) \n",
      "EVAL: [1100/1140] Elapsed 1m 28s (remain 0m 3s) Loss: 0.6815(0.6546) \n"
     ]
    },
    {
     "name": "stderr",
     "output_type": "stream",
     "text": [
      "Epoch 3 - avg_train_loss: 0.6551  avg_val_loss: 0.6548  time: 1150s\n",
      "Epoch 3 - Score: 0.0307\n",
      "Epoch 3 - Save Best Score: 0.0307 Model\n"
     ]
    },
    {
     "name": "stdout",
     "output_type": "stream",
     "text": [
      "EVAL: [1139/1140] Elapsed 1m 31s (remain 0m 0s) Loss: 0.8031(0.6548) \n"
     ]
    },
    {
     "name": "stderr",
     "output_type": "stream",
     "text": [
      "[W pthreadpool-cpp.cc:90] Warning: Leaking Caffe2 thread-pool after fork. (function pthreadpool)\n",
      "[W pthreadpool-cpp.cc:90] Warning: Leaking Caffe2 thread-pool after fork. (function pthreadpool)\n",
      "[W pthreadpool-cpp.cc:90] Warning: Leaking Caffe2 thread-pool after fork. (function pthreadpool)\n",
      "[W pthreadpool-cpp.cc:90] Warning: Leaking Caffe2 thread-pool after fork. (function pthreadpool)\n"
     ]
    },
    {
     "name": "stdout",
     "output_type": "stream",
     "text": [
      "Epoch: [4][0/3419] Elapsed 0m 0s (remain 31m 0s) Loss: 0.6538(0.6538) Grad: 21193.7891  LR: 0.00000293  \n",
      "Epoch: [4][100/3419] Elapsed 0m 31s (remain 17m 12s) Loss: 0.6975(0.6557) Grad: 47431.7266  LR: 0.00000277  \n",
      "Epoch: [4][200/3419] Elapsed 1m 2s (remain 16m 37s) Loss: 0.7128(0.6541) Grad: 62305.9180  LR: 0.00000261  \n",
      "Epoch: [4][300/3419] Elapsed 1m 33s (remain 16m 5s) Loss: 0.6071(0.6550) Grad: 53300.8164  LR: 0.00000246  \n",
      "Epoch: [4][400/3419] Elapsed 2m 4s (remain 15m 33s) Loss: 0.6458(0.6551) Grad: 22724.9902  LR: 0.00000231  \n",
      "Epoch: [4][500/3419] Elapsed 2m 34s (remain 15m 2s) Loss: 0.6446(0.6553) Grad: 25735.7090  LR: 0.00000216  \n",
      "Epoch: [4][600/3419] Elapsed 3m 5s (remain 14m 31s) Loss: 0.6223(0.6541) Grad: 35532.5664  LR: 0.00000202  \n",
      "Epoch: [4][700/3419] Elapsed 3m 36s (remain 14m 0s) Loss: 0.5430(0.6555) Grad: 95053.8672  LR: 0.00000189  \n",
      "Epoch: [4][800/3419] Elapsed 4m 7s (remain 13m 29s) Loss: 0.6233(0.6560) Grad: 32689.2344  LR: 0.00000176  \n",
      "Epoch: [4][900/3419] Elapsed 4m 38s (remain 12m 58s) Loss: 0.7276(0.6550) Grad: 74487.3984  LR: 0.00000163  \n",
      "Epoch: [4][1000/3419] Elapsed 5m 9s (remain 12m 27s) Loss: 0.7049(0.6557) Grad: 64208.8203  LR: 0.00000150  \n",
      "Epoch: [4][1100/3419] Elapsed 5m 40s (remain 11m 56s) Loss: 0.6007(0.6551) Grad: 52656.9805  LR: 0.00000139  \n",
      "Epoch: [4][1200/3419] Elapsed 6m 11s (remain 11m 25s) Loss: 0.6790(0.6549) Grad: 27558.6816  LR: 0.00000127  \n",
      "Epoch: [4][1300/3419] Elapsed 6m 42s (remain 10m 54s) Loss: 0.6646(0.6546) Grad: 31888.2773  LR: 0.00000116  \n",
      "Epoch: [4][1400/3419] Elapsed 7m 12s (remain 10m 23s) Loss: 0.6106(0.6554) Grad: 48003.1797  LR: 0.00000106  \n",
      "Epoch: [4][1500/3419] Elapsed 7m 43s (remain 9m 52s) Loss: 0.6151(0.6560) Grad: 49413.3438  LR: 0.00000096  \n",
      "Epoch: [4][1600/3419] Elapsed 8m 14s (remain 9m 21s) Loss: 0.6248(0.6559) Grad: 27200.2051  LR: 0.00000086  \n",
      "Epoch: [4][1700/3419] Elapsed 8m 45s (remain 8m 50s) Loss: 0.6379(0.6563) Grad: 25873.2910  LR: 0.00000077  \n",
      "Epoch: [4][1800/3419] Elapsed 9m 16s (remain 8m 19s) Loss: 0.6019(0.6559) Grad: 47842.1094  LR: 0.00000068  \n",
      "Epoch: [4][1900/3419] Elapsed 9m 47s (remain 7m 49s) Loss: 0.6789(0.6555) Grad: 34229.5859  LR: 0.00000060  \n",
      "Epoch: [4][2000/3419] Elapsed 10m 18s (remain 7m 18s) Loss: 0.7400(0.6556) Grad: 169228.9531  LR: 0.00000053  \n",
      "Epoch: [4][2100/3419] Elapsed 10m 49s (remain 6m 47s) Loss: 0.5364(0.6557) Grad: 238768.4062  LR: 0.00000046  \n",
      "Epoch: [4][2200/3419] Elapsed 11m 20s (remain 6m 16s) Loss: 0.6924(0.6555) Grad: 81512.6875  LR: 0.00000039  \n",
      "Epoch: [4][2300/3419] Elapsed 11m 50s (remain 5m 45s) Loss: 0.6299(0.6555) Grad: 78180.3047  LR: 0.00000033  \n",
      "Epoch: [4][2400/3419] Elapsed 12m 21s (remain 5m 14s) Loss: 0.5890(0.6554) Grad: 60696.3398  LR: 0.00000027  \n",
      "Epoch: [4][2500/3419] Elapsed 12m 52s (remain 4m 43s) Loss: 0.6426(0.6550) Grad: 21210.1973  LR: 0.00000022  \n",
      "Epoch: [4][2600/3419] Elapsed 13m 23s (remain 4m 12s) Loss: 0.6763(0.6551) Grad: 37693.5000  LR: 0.00000018  \n",
      "Epoch: [4][2700/3419] Elapsed 13m 54s (remain 3m 41s) Loss: 0.5907(0.6551) Grad: 64886.5117  LR: 0.00000014  \n",
      "Epoch: [4][2800/3419] Elapsed 14m 25s (remain 3m 10s) Loss: 0.6078(0.6551) Grad: 50443.3984  LR: 0.00000010  \n",
      "Epoch: [4][2900/3419] Elapsed 14m 56s (remain 2m 40s) Loss: 0.6851(0.6552) Grad: 35019.2695  LR: 0.00000007  \n",
      "Epoch: [4][3000/3419] Elapsed 15m 27s (remain 2m 9s) Loss: 0.5871(0.6553) Grad: 62742.6328  LR: 0.00000005  \n",
      "Epoch: [4][3100/3419] Elapsed 15m 58s (remain 1m 38s) Loss: 0.7152(0.6553) Grad: 60054.1172  LR: 0.00000003  \n",
      "Epoch: [4][3200/3419] Elapsed 16m 28s (remain 1m 7s) Loss: 0.6588(0.6556) Grad: 34656.6562  LR: 0.00000001  \n",
      "Epoch: [4][3300/3419] Elapsed 16m 59s (remain 0m 36s) Loss: 0.6910(0.6555) Grad: 35138.9453  LR: 0.00000000  \n",
      "Epoch: [4][3400/3419] Elapsed 17m 30s (remain 0m 5s) Loss: 0.7028(0.6552) Grad: 52570.6797  LR: 0.00000000  \n"
     ]
    },
    {
     "name": "stderr",
     "output_type": "stream",
     "text": [
      "[W pthreadpool-cpp.cc:90] Warning: Leaking Caffe2 thread-pool after fork. (function pthreadpool)\n"
     ]
    },
    {
     "name": "stdout",
     "output_type": "stream",
     "text": [
      "Epoch: [4][3418/3419] Elapsed 17m 36s (remain 0m 0s) Loss: 0.6015(0.6551) Grad: 70218.9766  LR: 0.00000000  \n"
     ]
    },
    {
     "name": "stderr",
     "output_type": "stream",
     "text": [
      "[W pthreadpool-cpp.cc:90] Warning: Leaking Caffe2 thread-pool after fork. (function pthreadpool)\n",
      "[W pthreadpool-cpp.cc:90] Warning: Leaking Caffe2 thread-pool after fork. (function pthreadpool)\n",
      "[W pthreadpool-cpp.cc:90] Warning: Leaking Caffe2 thread-pool after fork. (function pthreadpool)\n",
      "[W pthreadpool-cpp.cc:90] Warning: Leaking Caffe2 thread-pool after fork. (function pthreadpool)\n"
     ]
    },
    {
     "name": "stdout",
     "output_type": "stream",
     "text": [
      "EVAL: [0/1140] Elapsed 0m 0s (remain 4m 16s) Loss: 0.6052(0.6052) \n",
      "EVAL: [100/1140] Elapsed 0m 8s (remain 1m 24s) Loss: 0.6244(0.6506) \n",
      "EVAL: [200/1140] Elapsed 0m 16s (remain 1m 15s) Loss: 0.5476(0.6529) \n",
      "EVAL: [300/1140] Elapsed 0m 24s (remain 1m 7s) Loss: 0.7780(0.6532) \n",
      "EVAL: [400/1140] Elapsed 0m 32s (remain 0m 59s) Loss: 0.7396(0.6565) \n",
      "EVAL: [500/1140] Elapsed 0m 40s (remain 0m 51s) Loss: 0.6436(0.6553) \n",
      "EVAL: [600/1140] Elapsed 0m 48s (remain 0m 43s) Loss: 0.6436(0.6530) \n",
      "EVAL: [700/1140] Elapsed 0m 56s (remain 0m 35s) Loss: 0.6628(0.6528) \n",
      "EVAL: [800/1140] Elapsed 1m 4s (remain 0m 27s) Loss: 0.6628(0.6519) \n",
      "EVAL: [900/1140] Elapsed 1m 12s (remain 0m 19s) Loss: 0.5860(0.6530) \n",
      "EVAL: [1000/1140] Elapsed 1m 20s (remain 0m 11s) Loss: 0.6820(0.6540) \n",
      "EVAL: [1100/1140] Elapsed 1m 28s (remain 0m 3s) Loss: 0.6820(0.6547) \n"
     ]
    },
    {
     "name": "stderr",
     "output_type": "stream",
     "text": [
      "Epoch 4 - avg_train_loss: 0.6551  avg_val_loss: 0.6549  time: 1148s\n",
      "Epoch 4 - Score: -0.0005\n"
     ]
    },
    {
     "name": "stdout",
     "output_type": "stream",
     "text": [
      "EVAL: [1139/1140] Elapsed 1m 31s (remain 0m 0s) Loss: 0.8055(0.6549) \n"
     ]
    },
    {
     "name": "stderr",
     "output_type": "stream",
     "text": [
      "========== fold: 0 result ==========\n",
      "Score: 0.0307\n",
      "========== fold: 1 training ==========\n"
     ]
    },
    {
     "name": "stdout",
     "output_type": "stream",
     "text": [
      "\u001b[38;5;40m========== fold: 1 training ==========\u001b[0m\n"
     ]
    },
    {
     "name": "stderr",
     "output_type": "stream",
     "text": [
      "Some weights of the model checkpoint at google/electra-large-discriminator were not used when initializing ElectraModel: ['discriminator_predictions.dense_prediction.bias', 'discriminator_predictions.dense_prediction.weight', 'discriminator_predictions.dense.weight', 'discriminator_predictions.dense.bias']\n",
      "- This IS expected if you are initializing ElectraModel from the checkpoint of a model trained on another task or with another architecture (e.g. initializing a BertForSequenceClassification model from a BertForPreTraining model).\n",
      "- This IS NOT expected if you are initializing ElectraModel from the checkpoint of a model that you expect to be exactly identical (initializing a BertForSequenceClassification model from a BertForSequenceClassification model).\n",
      "[W pthreadpool-cpp.cc:90] Warning: Leaking Caffe2 thread-pool after fork. (function pthreadpool)\n",
      "[W pthreadpool-cpp.cc:90] Warning: Leaking Caffe2 thread-pool after fork. (function pthreadpool)\n",
      "[W pthreadpool-cpp.cc:90] Warning: Leaking Caffe2 thread-pool after fork. (function pthreadpool)\n",
      "[W pthreadpool-cpp.cc:90] Warning: Leaking Caffe2 thread-pool after fork. (function pthreadpool)\n"
     ]
    },
    {
     "name": "stdout",
     "output_type": "stream",
     "text": [
      "Epoch: [1][0/3419] Elapsed 0m 0s (remain 22m 23s) Loss: 0.6830(0.6830) Grad: inf  LR: 0.00002000  \n",
      "Epoch: [1][100/3419] Elapsed 0m 33s (remain 18m 33s) Loss: 0.6650(0.6594) Grad: 429.7178  LR: 0.00002000  \n",
      "Epoch: [1][200/3419] Elapsed 1m 4s (remain 17m 5s) Loss: 0.7994(0.6655) Grad: 1137.1238  LR: 0.00001999  \n",
      "Epoch: [1][300/3419] Elapsed 1m 34s (remain 16m 14s) Loss: 0.4838(0.6623) Grad: 1167.3691  LR: 0.00001998  \n",
      "Epoch: [1][400/3419] Elapsed 2m 4s (remain 15m 34s) Loss: 0.6437(0.6621) Grad: 139.7793  LR: 0.00001996  \n",
      "Epoch: [1][500/3419] Elapsed 2m 34s (remain 14m 58s) Loss: 0.6432(0.6607) Grad: 444.9750  LR: 0.00001993  \n",
      "Epoch: [1][600/3419] Elapsed 3m 4s (remain 14m 24s) Loss: 0.7658(0.6606) Grad: 618.6287  LR: 0.00001990  \n",
      "Epoch: [1][700/3419] Elapsed 3m 34s (remain 13m 51s) Loss: 0.6343(0.6601) Grad: 302.3323  LR: 0.00001987  \n",
      "Epoch: [1][800/3419] Elapsed 4m 4s (remain 13m 19s) Loss: 0.6795(0.6600) Grad: 215.3342  LR: 0.00001983  \n",
      "Epoch: [1][900/3419] Elapsed 4m 34s (remain 12m 47s) Loss: 0.6813(0.6592) Grad: 183.2422  LR: 0.00001979  \n",
      "Epoch: [1][1000/3419] Elapsed 5m 4s (remain 12m 15s) Loss: 0.5805(0.6593) Grad: 577.3799  LR: 0.00001974  \n",
      "Epoch: [1][1100/3419] Elapsed 5m 34s (remain 11m 44s) Loss: 0.6756(0.6587) Grad: 195.1208  LR: 0.00001968  \n",
      "Epoch: [1][1200/3419] Elapsed 6m 4s (remain 11m 13s) Loss: 0.6659(0.6592) Grad: 142.4353  LR: 0.00001962  \n",
      "Epoch: [1][1300/3419] Elapsed 6m 35s (remain 10m 43s) Loss: 0.6446(0.6588) Grad: 320.9105  LR: 0.00001956  \n",
      "Epoch: [1][1400/3419] Elapsed 7m 5s (remain 10m 12s) Loss: 0.6825(0.6582) Grad: 247.1220  LR: 0.00001949  \n",
      "Epoch: [1][1500/3419] Elapsed 7m 35s (remain 9m 41s) Loss: 0.6670(0.6575) Grad: 142.1170  LR: 0.00001941  \n",
      "Epoch: [1][1600/3419] Elapsed 8m 5s (remain 9m 11s) Loss: 0.7007(0.6578) Grad: 241.5259  LR: 0.00001933  \n",
      "Epoch: [1][1700/3419] Elapsed 8m 35s (remain 8m 40s) Loss: 0.6792(0.6579) Grad: 181.6529  LR: 0.00001925  \n",
      "Epoch: [1][1800/3419] Elapsed 9m 5s (remain 8m 10s) Loss: 0.6053(0.6575) Grad: 260.1260  LR: 0.00001916  \n",
      "Epoch: [1][1900/3419] Elapsed 9m 35s (remain 7m 39s) Loss: 0.6811(0.6572) Grad: 228.4095  LR: 0.00001906  \n",
      "Epoch: [1][2000/3419] Elapsed 10m 6s (remain 7m 9s) Loss: 0.6436(0.6574) Grad: 174.5664  LR: 0.00001896  \n",
      "Epoch: [1][2100/3419] Elapsed 10m 36s (remain 6m 39s) Loss: 0.6464(0.6571) Grad: 244.7522  LR: 0.00001886  \n",
      "Epoch: [1][2200/3419] Elapsed 11m 6s (remain 6m 8s) Loss: 0.6807(0.6569) Grad: 472.8167  LR: 0.00001875  \n",
      "Epoch: [1][2300/3419] Elapsed 11m 36s (remain 5m 38s) Loss: 0.6491(0.6569) Grad: 346.8217  LR: 0.00001864  \n",
      "Epoch: [1][2400/3419] Elapsed 12m 7s (remain 5m 8s) Loss: 0.6127(0.6568) Grad: 698.0361  LR: 0.00001852  \n",
      "Epoch: [1][2500/3419] Elapsed 12m 37s (remain 4m 37s) Loss: 0.7472(0.6568) Grad: 941.8824  LR: 0.00001839  \n",
      "Epoch: [1][2600/3419] Elapsed 13m 7s (remain 4m 7s) Loss: 0.5815(0.6566) Grad: 690.2303  LR: 0.00001827  \n",
      "Epoch: [1][2700/3419] Elapsed 13m 37s (remain 3m 37s) Loss: 0.6626(0.6566) Grad: 262.6397  LR: 0.00001814  \n",
      "Epoch: [1][2800/3419] Elapsed 14m 8s (remain 3m 7s) Loss: 0.6343(0.6562) Grad: 309.7786  LR: 0.00001800  \n",
      "Epoch: [1][2900/3419] Elapsed 14m 38s (remain 2m 36s) Loss: 0.6919(0.6566) Grad: 445.8460  LR: 0.00001786  \n",
      "Epoch: [1][3000/3419] Elapsed 15m 8s (remain 2m 6s) Loss: 0.6043(0.6566) Grad: 1157.9684  LR: 0.00001772  \n",
      "Epoch: [1][3100/3419] Elapsed 15m 38s (remain 1m 36s) Loss: 0.6652(0.6563) Grad: 370.5722  LR: 0.00001757  \n",
      "Epoch: [1][3200/3419] Elapsed 16m 8s (remain 1m 5s) Loss: 0.6252(0.6561) Grad: 281.3062  LR: 0.00001742  \n",
      "Epoch: [1][3300/3419] Elapsed 16m 39s (remain 0m 35s) Loss: 0.6497(0.6562) Grad: 368.4209  LR: 0.00001726  \n",
      "Epoch: [1][3400/3419] Elapsed 17m 9s (remain 0m 5s) Loss: 0.5608(0.6561) Grad: 810.2294  LR: 0.00001710  \n",
      "Epoch: [1][3418/3419] Elapsed 17m 14s (remain 0m 0s) Loss: 0.6836(0.6560) Grad: 463.8561  LR: 0.00001707  \n"
     ]
    },
    {
     "name": "stderr",
     "output_type": "stream",
     "text": [
      "[W pthreadpool-cpp.cc:90] Warning: Leaking Caffe2 thread-pool after fork. (function pthreadpool)\n",
      "[W pthreadpool-cpp.cc:90] Warning: Leaking Caffe2 thread-pool after fork. (function pthreadpool)\n",
      "[W pthreadpool-cpp.cc:90] Warning: Leaking Caffe2 thread-pool after fork. (function pthreadpool)\n",
      "[W pthreadpool-cpp.cc:90] Warning: Leaking Caffe2 thread-pool after fork. (function pthreadpool)\n"
     ]
    },
    {
     "name": "stdout",
     "output_type": "stream",
     "text": [
      "EVAL: [0/1140] Elapsed 0m 0s (remain 5m 9s) Loss: 0.6435(0.6435) \n",
      "EVAL: [100/1140] Elapsed 0m 8s (remain 1m 25s) Loss: 0.6435(0.6497) \n",
      "EVAL: [200/1140] Elapsed 0m 16s (remain 1m 15s) Loss: 0.6031(0.6508) \n",
      "EVAL: [300/1140] Elapsed 0m 24s (remain 1m 7s) Loss: 0.6233(0.6505) \n",
      "EVAL: [400/1140] Elapsed 0m 32s (remain 0m 59s) Loss: 0.5627(0.6533) \n",
      "EVAL: [500/1140] Elapsed 0m 40s (remain 0m 51s) Loss: 0.7445(0.6539) \n",
      "EVAL: [600/1140] Elapsed 0m 48s (remain 0m 43s) Loss: 0.7647(0.6534) \n",
      "EVAL: [700/1140] Elapsed 0m 56s (remain 0m 35s) Loss: 0.7243(0.6521) \n",
      "EVAL: [800/1140] Elapsed 1m 4s (remain 0m 27s) Loss: 0.6637(0.6530) \n",
      "EVAL: [900/1140] Elapsed 1m 12s (remain 0m 19s) Loss: 0.7647(0.6543) \n",
      "EVAL: [1000/1140] Elapsed 1m 20s (remain 0m 11s) Loss: 0.6435(0.6547) \n",
      "EVAL: [1100/1140] Elapsed 1m 28s (remain 0m 3s) Loss: 0.7041(0.6552) \n"
     ]
    },
    {
     "name": "stderr",
     "output_type": "stream",
     "text": [
      "Epoch 1 - avg_train_loss: 0.6560  avg_val_loss: 0.6553  time: 1127s\n",
      "Epoch 1 - Score: -0.0065\n"
     ]
    },
    {
     "name": "stdout",
     "output_type": "stream",
     "text": [
      "EVAL: [1139/1140] Elapsed 1m 31s (remain 0m 0s) Loss: 0.6637(0.6553) \n"
     ]
    },
    {
     "name": "stderr",
     "output_type": "stream",
     "text": [
      "[W pthreadpool-cpp.cc:90] Warning: Leaking Caffe2 thread-pool after fork. (function pthreadpool)\n",
      "[W pthreadpool-cpp.cc:90] Warning: Leaking Caffe2 thread-pool after fork. (function pthreadpool)\n",
      "[W pthreadpool-cpp.cc:90] Warning: Leaking Caffe2 thread-pool after fork. (function pthreadpool)\n",
      "[W pthreadpool-cpp.cc:90] Warning: Leaking Caffe2 thread-pool after fork. (function pthreadpool)\n"
     ]
    },
    {
     "name": "stdout",
     "output_type": "stream",
     "text": [
      "Epoch: [2][0/3419] Elapsed 0m 0s (remain 23m 44s) Loss: 0.6659(0.6659) Grad: 12386.8867  LR: 0.00001707  \n",
      "Epoch: [2][100/3419] Elapsed 0m 31s (remain 17m 10s) Loss: 0.6826(0.6468) Grad: 24735.3945  LR: 0.00001691  \n",
      "Epoch: [2][200/3419] Elapsed 1m 2s (remain 16m 37s) Loss: 0.6008(0.6492) Grad: 30626.3691  LR: 0.00001674  \n",
      "Epoch: [2][300/3419] Elapsed 1m 33s (remain 16m 6s) Loss: 0.6669(0.6512) Grad: 16853.2559  LR: 0.00001657  \n",
      "Epoch: [2][400/3419] Elapsed 2m 4s (remain 15m 37s) Loss: 0.6356(0.6516) Grad: 19835.9492  LR: 0.00001639  \n",
      "Epoch: [2][500/3419] Elapsed 2m 35s (remain 15m 5s) Loss: 0.6226(0.6503) Grad: 21624.1582  LR: 0.00001621  \n",
      "Epoch: [2][600/3419] Elapsed 3m 6s (remain 14m 34s) Loss: 0.6480(0.6516) Grad: 15046.1787  LR: 0.00001603  \n",
      "Epoch: [2][700/3419] Elapsed 3m 37s (remain 14m 3s) Loss: 0.5907(0.6522) Grad: 33367.6953  LR: 0.00001585  \n",
      "Epoch: [2][800/3419] Elapsed 4m 8s (remain 13m 31s) Loss: 0.6249(0.6527) Grad: 20152.2637  LR: 0.00001566  \n",
      "Epoch: [2][900/3419] Elapsed 4m 39s (remain 13m 0s) Loss: 0.6825(0.6538) Grad: 26530.3789  LR: 0.00001547  \n",
      "Epoch: [2][1000/3419] Elapsed 5m 10s (remain 12m 29s) Loss: 0.6069(0.6533) Grad: 34320.3867  LR: 0.00001527  \n",
      "Epoch: [2][1100/3419] Elapsed 5m 41s (remain 11m 58s) Loss: 0.6708(0.6547) Grad: 29421.8203  LR: 0.00001508  \n",
      "Epoch: [2][1200/3419] Elapsed 6m 12s (remain 11m 27s) Loss: 0.4793(0.6553) Grad: 114054.1406  LR: 0.00001488  \n",
      "Epoch: [2][1300/3419] Elapsed 6m 43s (remain 10m 56s) Loss: 0.6408(0.6557) Grad: 18417.8105  LR: 0.00001468  \n",
      "Epoch: [2][1400/3419] Elapsed 7m 14s (remain 10m 25s) Loss: 0.6610(0.6555) Grad: 10168.8604  LR: 0.00001447  \n",
      "Epoch: [2][1500/3419] Elapsed 7m 44s (remain 9m 54s) Loss: 0.6922(0.6554) Grad: 32181.0547  LR: 0.00001427  \n",
      "Epoch: [2][1600/3419] Elapsed 8m 17s (remain 9m 24s) Loss: 0.6767(0.6557) Grad: 24403.0625  LR: 0.00001406  \n",
      "Epoch: [2][1700/3419] Elapsed 8m 48s (remain 8m 53s) Loss: 0.6881(0.6554) Grad: 30152.7441  LR: 0.00001385  \n",
      "Epoch: [2][1800/3419] Elapsed 9m 19s (remain 8m 22s) Loss: 0.6819(0.6558) Grad: 24260.3066  LR: 0.00001363  \n",
      "Epoch: [2][1900/3419] Elapsed 9m 50s (remain 7m 51s) Loss: 0.6546(0.6553) Grad: 23596.7754  LR: 0.00001342  \n",
      "Epoch: [2][2000/3419] Elapsed 10m 21s (remain 7m 20s) Loss: 0.5836(0.6552) Grad: 90059.7969  LR: 0.00001320  \n",
      "Epoch: [2][2100/3419] Elapsed 10m 52s (remain 6m 49s) Loss: 0.5828(0.6548) Grad: 95454.1094  LR: 0.00001298  \n",
      "Epoch: [2][2200/3419] Elapsed 11m 23s (remain 6m 18s) Loss: 0.6613(0.6550) Grad: 38238.8633  LR: 0.00001276  \n",
      "Epoch: [2][2300/3419] Elapsed 11m 54s (remain 5m 46s) Loss: 0.6425(0.6552) Grad: 21735.2344  LR: 0.00001254  \n",
      "Epoch: [2][2400/3419] Elapsed 12m 25s (remain 5m 15s) Loss: 0.5899(0.6548) Grad: 42216.1992  LR: 0.00001232  \n",
      "Epoch: [2][2500/3419] Elapsed 12m 55s (remain 4m 44s) Loss: 0.6616(0.6548) Grad: 15627.5723  LR: 0.00001209  \n",
      "Epoch: [2][2600/3419] Elapsed 13m 27s (remain 4m 13s) Loss: 0.7220(0.6547) Grad: 49452.3359  LR: 0.00001187  \n",
      "Epoch: [2][2700/3419] Elapsed 13m 58s (remain 3m 42s) Loss: 0.7152(0.6549) Grad: 42948.3281  LR: 0.00001164  \n",
      "Epoch: [2][2800/3419] Elapsed 14m 29s (remain 3m 11s) Loss: 0.6227(0.6551) Grad: 27436.8828  LR: 0.00001142  \n",
      "Epoch: [2][2900/3419] Elapsed 15m 0s (remain 2m 40s) Loss: 0.6660(0.6554) Grad: 14078.0234  LR: 0.00001119  \n",
      "Epoch: [2][3000/3419] Elapsed 15m 31s (remain 2m 9s) Loss: 0.6456(0.6554) Grad: 21576.2559  LR: 0.00001096  \n",
      "Epoch: [2][3100/3419] Elapsed 16m 2s (remain 1m 38s) Loss: 0.6890(0.6555) Grad: 29099.2754  LR: 0.00001073  \n",
      "Epoch: [2][3200/3419] Elapsed 16m 33s (remain 1m 7s) Loss: 0.6693(0.6551) Grad: 22368.0859  LR: 0.00001050  \n",
      "Epoch: [2][3300/3419] Elapsed 17m 4s (remain 0m 36s) Loss: 0.5856(0.6549) Grad: 43273.3516  LR: 0.00001027  \n",
      "Epoch: [2][3400/3419] Elapsed 17m 35s (remain 0m 5s) Loss: 0.6453(0.6547) Grad: 9439.5771  LR: 0.00001004  \n"
     ]
    },
    {
     "name": "stderr",
     "output_type": "stream",
     "text": [
      "[W pthreadpool-cpp.cc:90] Warning: Leaking Caffe2 thread-pool after fork. (function pthreadpool)\n"
     ]
    },
    {
     "name": "stdout",
     "output_type": "stream",
     "text": [
      "Epoch: [2][3418/3419] Elapsed 17m 40s (remain 0m 0s) Loss: 0.7056(0.6548) Grad: 38514.0312  LR: 0.00001000  \n"
     ]
    },
    {
     "name": "stderr",
     "output_type": "stream",
     "text": [
      "[W pthreadpool-cpp.cc:90] Warning: Leaking Caffe2 thread-pool after fork. (function pthreadpool)\n",
      "[W pthreadpool-cpp.cc:90] Warning: Leaking Caffe2 thread-pool after fork. (function pthreadpool)\n",
      "[W pthreadpool-cpp.cc:90] Warning: Leaking Caffe2 thread-pool after fork. (function pthreadpool)\n",
      "[W pthreadpool-cpp.cc:90] Warning: Leaking Caffe2 thread-pool after fork. (function pthreadpool)\n"
     ]
    },
    {
     "name": "stdout",
     "output_type": "stream",
     "text": [
      "EVAL: [0/1140] Elapsed 0m 0s (remain 5m 0s) Loss: 0.6435(0.6435) \n",
      "EVAL: [100/1140] Elapsed 0m 8s (remain 1m 25s) Loss: 0.6435(0.6496) \n",
      "EVAL: [200/1140] Elapsed 0m 16s (remain 1m 16s) Loss: 0.6041(0.6507) \n",
      "EVAL: [300/1140] Elapsed 0m 24s (remain 1m 7s) Loss: 0.6238(0.6504) \n",
      "EVAL: [400/1140] Elapsed 0m 32s (remain 0m 59s) Loss: 0.5647(0.6531) \n",
      "EVAL: [500/1140] Elapsed 0m 40s (remain 0m 51s) Loss: 0.7421(0.6537) \n",
      "EVAL: [600/1140] Elapsed 0m 48s (remain 0m 43s) Loss: 0.7618(0.6532) \n",
      "EVAL: [700/1140] Elapsed 0m 56s (remain 0m 35s) Loss: 0.7224(0.6519) \n",
      "EVAL: [800/1140] Elapsed 1m 4s (remain 0m 27s) Loss: 0.6632(0.6528) \n",
      "EVAL: [900/1140] Elapsed 1m 12s (remain 0m 19s) Loss: 0.7618(0.6541) \n",
      "EVAL: [1000/1140] Elapsed 1m 20s (remain 0m 11s) Loss: 0.6435(0.6544) \n",
      "EVAL: [1100/1140] Elapsed 1m 28s (remain 0m 3s) Loss: 0.7027(0.6549) \n"
     ]
    },
    {
     "name": "stderr",
     "output_type": "stream",
     "text": [
      "Epoch 2 - avg_train_loss: 0.6548  avg_val_loss: 0.6550  time: 1153s\n",
      "Epoch 2 - Score: 0.0057\n",
      "Epoch 2 - Save Best Score: 0.0057 Model\n"
     ]
    },
    {
     "name": "stdout",
     "output_type": "stream",
     "text": [
      "EVAL: [1139/1140] Elapsed 1m 31s (remain 0m 0s) Loss: 0.6632(0.6550) \n"
     ]
    },
    {
     "name": "stderr",
     "output_type": "stream",
     "text": [
      "[W pthreadpool-cpp.cc:90] Warning: Leaking Caffe2 thread-pool after fork. (function pthreadpool)\n",
      "[W pthreadpool-cpp.cc:90] Warning: Leaking Caffe2 thread-pool after fork. (function pthreadpool)\n",
      "[W pthreadpool-cpp.cc:90] Warning: Leaking Caffe2 thread-pool after fork. (function pthreadpool)\n",
      "[W pthreadpool-cpp.cc:90] Warning: Leaking Caffe2 thread-pool after fork. (function pthreadpool)\n"
     ]
    },
    {
     "name": "stdout",
     "output_type": "stream",
     "text": [
      "Epoch: [3][0/3419] Elapsed 0m 0s (remain 38m 7s) Loss: 0.6064(0.6064) Grad: 29486.3398  LR: 0.00001000  \n",
      "Epoch: [3][100/3419] Elapsed 0m 31s (remain 17m 18s) Loss: 0.6213(0.6557) Grad: 22816.4883  LR: 0.00000977  \n",
      "Epoch: [3][200/3419] Elapsed 1m 2s (remain 16m 41s) Loss: 0.6604(0.6578) Grad: 12867.2305  LR: 0.00000954  \n",
      "Epoch: [3][300/3419] Elapsed 1m 33s (remain 16m 8s) Loss: 0.6967(0.6535) Grad: 35425.4336  LR: 0.00000931  \n",
      "Epoch: [3][400/3419] Elapsed 2m 4s (remain 15m 36s) Loss: 0.6273(0.6535) Grad: 24737.4434  LR: 0.00000908  \n",
      "Epoch: [3][500/3419] Elapsed 2m 35s (remain 15m 5s) Loss: 0.7573(0.6534) Grad: 69974.8750  LR: 0.00000885  \n",
      "Epoch: [3][600/3419] Elapsed 3m 6s (remain 14m 33s) Loss: 0.6398(0.6530) Grad: 15627.4229  LR: 0.00000863  \n",
      "Epoch: [3][700/3419] Elapsed 3m 37s (remain 14m 2s) Loss: 0.6828(0.6541) Grad: 22416.6816  LR: 0.00000840  \n",
      "Epoch: [3][800/3419] Elapsed 4m 8s (remain 13m 31s) Loss: 0.6296(0.6552) Grad: 25523.8047  LR: 0.00000817  \n",
      "Epoch: [3][900/3419] Elapsed 4m 39s (remain 13m 0s) Loss: 0.6433(0.6555) Grad: 14635.7383  LR: 0.00000795  \n",
      "Epoch: [3][1000/3419] Elapsed 5m 10s (remain 12m 29s) Loss: 0.5900(0.6551) Grad: 47531.5625  LR: 0.00000772  \n",
      "Epoch: [3][1100/3419] Elapsed 5m 41s (remain 11m 58s) Loss: 0.5417(0.6542) Grad: 66684.2578  LR: 0.00000750  \n",
      "Epoch: [3][1200/3419] Elapsed 6m 12s (remain 11m 27s) Loss: 0.6924(0.6545) Grad: 32570.2070  LR: 0.00000728  \n",
      "Epoch: [3][1300/3419] Elapsed 6m 43s (remain 10m 56s) Loss: 0.6870(0.6545) Grad: 27442.5820  LR: 0.00000706  \n",
      "Epoch: [3][1400/3419] Elapsed 7m 13s (remain 10m 25s) Loss: 0.5727(0.6543) Grad: 63632.1836  LR: 0.00000684  \n",
      "Epoch: [3][1500/3419] Elapsed 7m 44s (remain 9m 54s) Loss: 0.7488(0.6544) Grad: 67968.9531  LR: 0.00000662  \n",
      "Epoch: [3][1600/3419] Elapsed 8m 15s (remain 9m 23s) Loss: 0.6031(0.6540) Grad: 31172.2246  LR: 0.00000641  \n",
      "Epoch: [3][1700/3419] Elapsed 8m 46s (remain 8m 52s) Loss: 0.7165(0.6540) Grad: 47788.0195  LR: 0.00000619  \n",
      "Epoch: [3][1800/3419] Elapsed 9m 17s (remain 8m 21s) Loss: 0.7031(0.6540) Grad: 35817.3789  LR: 0.00000598  \n",
      "Epoch: [3][1900/3419] Elapsed 9m 48s (remain 7m 50s) Loss: 0.6194(0.6543) Grad: 26129.6172  LR: 0.00000577  \n",
      "Epoch: [3][2000/3419] Elapsed 10m 19s (remain 7m 19s) Loss: 0.5993(0.6548) Grad: 90708.0547  LR: 0.00000556  \n",
      "Epoch: [3][2100/3419] Elapsed 10m 50s (remain 6m 48s) Loss: 0.6726(0.6549) Grad: 25592.7715  LR: 0.00000536  \n",
      "Epoch: [3][2200/3419] Elapsed 11m 21s (remain 6m 17s) Loss: 0.6587(0.6548) Grad: 16958.2637  LR: 0.00000516  \n",
      "Epoch: [3][2300/3419] Elapsed 11m 52s (remain 5m 46s) Loss: 0.5649(0.6546) Grad: 53208.1914  LR: 0.00000496  \n",
      "Epoch: [3][2400/3419] Elapsed 12m 23s (remain 5m 15s) Loss: 0.5587(0.6548) Grad: 67620.0156  LR: 0.00000476  \n",
      "Epoch: [3][2500/3419] Elapsed 12m 54s (remain 4m 44s) Loss: 0.6780(0.6547) Grad: 21546.7520  LR: 0.00000457  \n",
      "Epoch: [3][2600/3419] Elapsed 13m 25s (remain 4m 13s) Loss: 0.6469(0.6548) Grad: 19772.5801  LR: 0.00000438  \n",
      "Epoch: [3][2700/3419] Elapsed 13m 56s (remain 3m 42s) Loss: 0.7164(0.6546) Grad: 45182.8242  LR: 0.00000419  \n",
      "Epoch: [3][2800/3419] Elapsed 14m 27s (remain 3m 11s) Loss: 0.5902(0.6546) Grad: 44578.2656  LR: 0.00000400  \n",
      "Epoch: [3][2900/3419] Elapsed 14m 58s (remain 2m 40s) Loss: 0.6440(0.6548) Grad: 17644.8477  LR: 0.00000382  \n",
      "Epoch: [3][3000/3419] Elapsed 15m 29s (remain 2m 9s) Loss: 0.6408(0.6546) Grad: 13984.2080  LR: 0.00000364  \n",
      "Epoch: [3][3100/3419] Elapsed 16m 0s (remain 1m 38s) Loss: 0.6287(0.6548) Grad: 23377.6094  LR: 0.00000347  \n",
      "Epoch: [3][3200/3419] Elapsed 16m 31s (remain 1m 7s) Loss: 0.6690(0.6547) Grad: 18453.5898  LR: 0.00000329  \n",
      "Epoch: [3][3300/3419] Elapsed 17m 2s (remain 0m 36s) Loss: 0.6616(0.6547) Grad: 19208.2793  LR: 0.00000312  \n",
      "Epoch: [3][3400/3419] Elapsed 17m 33s (remain 0m 5s) Loss: 0.6127(0.6549) Grad: 34754.0078  LR: 0.00000296  \n",
      "Epoch: [3][3418/3419] Elapsed 17m 38s (remain 0m 0s) Loss: 0.7107(0.6549) Grad: 43874.6836  LR: 0.00000293  \n"
     ]
    },
    {
     "name": "stderr",
     "output_type": "stream",
     "text": [
      "[W pthreadpool-cpp.cc:90] Warning: Leaking Caffe2 thread-pool after fork. (function pthreadpool)\n",
      "[W pthreadpool-cpp.cc:90] Warning: Leaking Caffe2 thread-pool after fork. (function pthreadpool)\n",
      "[W pthreadpool-cpp.cc:90] Warning: Leaking Caffe2 thread-pool after fork. (function pthreadpool)\n",
      "[W pthreadpool-cpp.cc:90] Warning: Leaking Caffe2 thread-pool after fork. (function pthreadpool)\n"
     ]
    },
    {
     "name": "stdout",
     "output_type": "stream",
     "text": [
      "EVAL: [0/1140] Elapsed 0m 1s (remain 23m 33s) Loss: 0.6440(0.6440) \n",
      "EVAL: [100/1140] Elapsed 0m 9s (remain 1m 35s) Loss: 0.6440(0.6496) \n",
      "EVAL: [200/1140] Elapsed 0m 17s (remain 1m 20s) Loss: 0.6078(0.6506) \n",
      "EVAL: [300/1140] Elapsed 0m 25s (remain 1m 10s) Loss: 0.6259(0.6503) \n",
      "EVAL: [400/1140] Elapsed 0m 33s (remain 1m 1s) Loss: 0.5716(0.6528) \n",
      "EVAL: [500/1140] Elapsed 0m 41s (remain 0m 52s) Loss: 0.7345(0.6533) \n",
      "EVAL: [600/1140] Elapsed 0m 49s (remain 0m 44s) Loss: 0.7526(0.6529) \n",
      "EVAL: [700/1140] Elapsed 0m 57s (remain 0m 35s) Loss: 0.7164(0.6517) \n",
      "EVAL: [800/1140] Elapsed 1m 5s (remain 0m 27s) Loss: 0.6621(0.6525) \n",
      "EVAL: [900/1140] Elapsed 1m 13s (remain 0m 19s) Loss: 0.7526(0.6537) \n",
      "EVAL: [1000/1140] Elapsed 1m 21s (remain 0m 11s) Loss: 0.6440(0.6540) \n",
      "EVAL: [1100/1140] Elapsed 1m 29s (remain 0m 3s) Loss: 0.6983(0.6545) \n"
     ]
    },
    {
     "name": "stderr",
     "output_type": "stream",
     "text": [
      "Epoch 3 - avg_train_loss: 0.6549  avg_val_loss: 0.6546  time: 1151s\n",
      "Epoch 3 - Score: -0.0025\n"
     ]
    },
    {
     "name": "stdout",
     "output_type": "stream",
     "text": [
      "EVAL: [1139/1140] Elapsed 1m 32s (remain 0m 0s) Loss: 0.6621(0.6546) \n"
     ]
    },
    {
     "name": "stderr",
     "output_type": "stream",
     "text": [
      "[W pthreadpool-cpp.cc:90] Warning: Leaking Caffe2 thread-pool after fork. (function pthreadpool)\n",
      "[W pthreadpool-cpp.cc:90] Warning: Leaking Caffe2 thread-pool after fork. (function pthreadpool)\n",
      "[W pthreadpool-cpp.cc:90] Warning: Leaking Caffe2 thread-pool after fork. (function pthreadpool)\n",
      "[W pthreadpool-cpp.cc:90] Warning: Leaking Caffe2 thread-pool after fork. (function pthreadpool)\n"
     ]
    },
    {
     "name": "stdout",
     "output_type": "stream",
     "text": [
      "Epoch: [4][0/3419] Elapsed 0m 0s (remain 24m 44s) Loss: 0.5579(0.5579) Grad: 66707.2266  LR: 0.00000293  \n",
      "Epoch: [4][100/3419] Elapsed 0m 31s (remain 17m 13s) Loss: 0.6784(0.6554) Grad: 25290.3984  LR: 0.00000277  \n",
      "Epoch: [4][200/3419] Elapsed 1m 2s (remain 16m 40s) Loss: 0.6651(0.6602) Grad: 13901.1348  LR: 0.00000261  \n",
      "Epoch: [4][300/3419] Elapsed 1m 33s (remain 16m 8s) Loss: 0.6743(0.6564) Grad: 19027.1523  LR: 0.00000246  \n",
      "Epoch: [4][400/3419] Elapsed 2m 4s (remain 15m 37s) Loss: 0.6419(0.6584) Grad: 16234.7256  LR: 0.00000231  \n",
      "Epoch: [4][500/3419] Elapsed 2m 35s (remain 15m 6s) Loss: 0.7102(0.6585) Grad: 43553.2969  LR: 0.00000216  \n",
      "Epoch: [4][600/3419] Elapsed 3m 6s (remain 14m 34s) Loss: 0.6260(0.6586) Grad: 23809.8301  LR: 0.00000202  \n",
      "Epoch: [4][700/3419] Elapsed 3m 37s (remain 14m 3s) Loss: 0.6075(0.6585) Grad: 35201.2461  LR: 0.00000189  \n",
      "Epoch: [4][800/3419] Elapsed 4m 8s (remain 13m 32s) Loss: 0.7122(0.6579) Grad: 42143.7539  LR: 0.00000176  \n",
      "Epoch: [4][900/3419] Elapsed 4m 39s (remain 13m 0s) Loss: 0.6623(0.6573) Grad: 17534.6660  LR: 0.00000163  \n",
      "Epoch: [4][1000/3419] Elapsed 5m 10s (remain 12m 29s) Loss: 0.8163(0.6569) Grad: 108203.3594  LR: 0.00000150  \n",
      "Epoch: [4][1100/3419] Elapsed 5m 41s (remain 11m 58s) Loss: 0.5904(0.6567) Grad: 42757.9023  LR: 0.00000139  \n",
      "Epoch: [4][1200/3419] Elapsed 6m 12s (remain 11m 27s) Loss: 0.6595(0.6569) Grad: 11547.0791  LR: 0.00000127  \n",
      "Epoch: [4][1300/3419] Elapsed 6m 43s (remain 10m 56s) Loss: 0.6780(0.6571) Grad: 21275.6641  LR: 0.00000116  \n",
      "Epoch: [4][1400/3419] Elapsed 7m 14s (remain 10m 25s) Loss: 0.6825(0.6570) Grad: 23085.8066  LR: 0.00000106  \n",
      "Epoch: [4][1500/3419] Elapsed 7m 45s (remain 9m 54s) Loss: 0.6966(0.6571) Grad: 28717.4199  LR: 0.00000096  \n",
      "Epoch: [4][1600/3419] Elapsed 8m 16s (remain 9m 23s) Loss: 0.5577(0.6573) Grad: 66306.5703  LR: 0.00000086  \n",
      "Epoch: [4][1700/3419] Elapsed 8m 47s (remain 8m 52s) Loss: 0.6230(0.6571) Grad: 24903.2695  LR: 0.00000077  \n",
      "Epoch: [4][1800/3419] Elapsed 9m 18s (remain 8m 21s) Loss: 0.6627(0.6570) Grad: 12526.4463  LR: 0.00000068  \n",
      "Epoch: [4][1900/3419] Elapsed 9m 49s (remain 7m 50s) Loss: 0.6278(0.6565) Grad: 29999.0039  LR: 0.00000060  \n",
      "Epoch: [4][2000/3419] Elapsed 10m 20s (remain 7m 19s) Loss: 0.6409(0.6565) Grad: 28076.4355  LR: 0.00000053  \n",
      "Epoch: [4][2100/3419] Elapsed 10m 51s (remain 6m 48s) Loss: 0.7004(0.6563) Grad: 57449.2109  LR: 0.00000046  \n",
      "Epoch: [4][2200/3419] Elapsed 11m 21s (remain 6m 17s) Loss: 0.5758(0.6559) Grad: 115451.6953  LR: 0.00000039  \n",
      "Epoch: [4][2300/3419] Elapsed 11m 52s (remain 5m 46s) Loss: 0.6673(0.6556) Grad: 37045.2539  LR: 0.00000033  \n",
      "Epoch: [4][2400/3419] Elapsed 12m 23s (remain 5m 15s) Loss: 0.6423(0.6558) Grad: 20559.1484  LR: 0.00000027  \n",
      "Epoch: [4][2500/3419] Elapsed 12m 54s (remain 4m 44s) Loss: 0.7016(0.6558) Grad: 34768.0625  LR: 0.00000022  \n",
      "Epoch: [4][2600/3419] Elapsed 13m 25s (remain 4m 13s) Loss: 0.7136(0.6553) Grad: 41857.1719  LR: 0.00000018  \n",
      "Epoch: [4][2700/3419] Elapsed 13m 56s (remain 3m 42s) Loss: 0.6284(0.6555) Grad: 24693.6934  LR: 0.00000014  \n",
      "Epoch: [4][2800/3419] Elapsed 14m 27s (remain 3m 11s) Loss: 0.6611(0.6554) Grad: 8529.0400  LR: 0.00000010  \n",
      "Epoch: [4][2900/3419] Elapsed 14m 58s (remain 2m 40s) Loss: 0.6117(0.6553) Grad: 35987.3086  LR: 0.00000007  \n",
      "Epoch: [4][3000/3419] Elapsed 15m 29s (remain 2m 9s) Loss: 0.6374(0.6555) Grad: 18595.7266  LR: 0.00000005  \n",
      "Epoch: [4][3100/3419] Elapsed 16m 0s (remain 1m 38s) Loss: 0.6283(0.6553) Grad: 20586.9395  LR: 0.00000003  \n",
      "Epoch: [4][3200/3419] Elapsed 16m 31s (remain 1m 7s) Loss: 0.6113(0.6551) Grad: 34970.6289  LR: 0.00000001  \n",
      "Epoch: [4][3300/3419] Elapsed 17m 2s (remain 0m 36s) Loss: 0.5908(0.6549) Grad: 42142.4844  LR: 0.00000000  \n",
      "Epoch: [4][3400/3419] Elapsed 17m 33s (remain 0m 5s) Loss: 0.6274(0.6548) Grad: 23751.1445  LR: 0.00000000  \n",
      "Epoch: [4][3418/3419] Elapsed 17m 38s (remain 0m 0s) Loss: 0.6266(0.6548) Grad: 19660.1582  LR: 0.00000000  \n"
     ]
    },
    {
     "name": "stderr",
     "output_type": "stream",
     "text": [
      "[W pthreadpool-cpp.cc:90] Warning: Leaking Caffe2 thread-pool after fork. (function pthreadpool)\n",
      "[W pthreadpool-cpp.cc:90] Warning: Leaking Caffe2 thread-pool after fork. (function pthreadpool)\n",
      "[W pthreadpool-cpp.cc:90] Warning: Leaking Caffe2 thread-pool after fork. (function pthreadpool)\n",
      "[W pthreadpool-cpp.cc:90] Warning: Leaking Caffe2 thread-pool after fork. (function pthreadpool)\n"
     ]
    },
    {
     "name": "stdout",
     "output_type": "stream",
     "text": [
      "EVAL: [0/1140] Elapsed 0m 0s (remain 5m 14s) Loss: 0.6439(0.6439) \n",
      "EVAL: [100/1140] Elapsed 0m 8s (remain 1m 25s) Loss: 0.6439(0.6495) \n",
      "EVAL: [200/1140] Elapsed 0m 16s (remain 1m 16s) Loss: 0.6070(0.6506) \n",
      "EVAL: [300/1140] Elapsed 0m 24s (remain 1m 7s) Loss: 0.6254(0.6503) \n",
      "EVAL: [400/1140] Elapsed 0m 32s (remain 0m 59s) Loss: 0.5701(0.6528) \n",
      "EVAL: [500/1140] Elapsed 0m 40s (remain 0m 51s) Loss: 0.7361(0.6534) \n",
      "EVAL: [600/1140] Elapsed 0m 48s (remain 0m 43s) Loss: 0.7545(0.6529) \n",
      "EVAL: [700/1140] Elapsed 0m 56s (remain 0m 35s) Loss: 0.7176(0.6517) \n",
      "EVAL: [800/1140] Elapsed 1m 4s (remain 0m 27s) Loss: 0.6623(0.6525) \n",
      "EVAL: [900/1140] Elapsed 1m 12s (remain 0m 19s) Loss: 0.7545(0.6537) \n",
      "EVAL: [1000/1140] Elapsed 1m 20s (remain 0m 11s) Loss: 0.6439(0.6540) \n",
      "EVAL: [1100/1140] Elapsed 1m 28s (remain 0m 3s) Loss: 0.6992(0.6545) \n"
     ]
    },
    {
     "name": "stderr",
     "output_type": "stream",
     "text": [
      "Epoch 4 - avg_train_loss: 0.6548  avg_val_loss: 0.6546  time: 1151s\n",
      "Epoch 4 - Score: -0.0043\n"
     ]
    },
    {
     "name": "stdout",
     "output_type": "stream",
     "text": [
      "EVAL: [1139/1140] Elapsed 1m 31s (remain 0m 0s) Loss: 0.6623(0.6546) \n"
     ]
    },
    {
     "name": "stderr",
     "output_type": "stream",
     "text": [
      "========== fold: 1 result ==========\n",
      "Score: 0.0057\n",
      "========== fold: 2 training ==========\n"
     ]
    },
    {
     "name": "stdout",
     "output_type": "stream",
     "text": [
      "\u001b[38;5;40m========== fold: 2 training ==========\u001b[0m\n"
     ]
    },
    {
     "name": "stderr",
     "output_type": "stream",
     "text": [
      "Some weights of the model checkpoint at google/electra-large-discriminator were not used when initializing ElectraModel: ['discriminator_predictions.dense_prediction.bias', 'discriminator_predictions.dense_prediction.weight', 'discriminator_predictions.dense.weight', 'discriminator_predictions.dense.bias']\n",
      "- This IS expected if you are initializing ElectraModel from the checkpoint of a model trained on another task or with another architecture (e.g. initializing a BertForSequenceClassification model from a BertForPreTraining model).\n",
      "- This IS NOT expected if you are initializing ElectraModel from the checkpoint of a model that you expect to be exactly identical (initializing a BertForSequenceClassification model from a BertForSequenceClassification model).\n",
      "[W pthreadpool-cpp.cc:90] Warning: Leaking Caffe2 thread-pool after fork. (function pthreadpool)\n",
      "[W pthreadpool-cpp.cc:90] Warning: Leaking Caffe2 thread-pool after fork. (function pthreadpool)\n",
      "[W pthreadpool-cpp.cc:90] Warning: Leaking Caffe2 thread-pool after fork. (function pthreadpool)\n",
      "[W pthreadpool-cpp.cc:90] Warning: Leaking Caffe2 thread-pool after fork. (function pthreadpool)\n"
     ]
    },
    {
     "name": "stdout",
     "output_type": "stream",
     "text": [
      "Epoch: [1][0/3419] Elapsed 0m 0s (remain 22m 30s) Loss: 0.7277(0.7277) Grad: nan  LR: 0.00002000  \n",
      "Epoch: [1][100/3419] Elapsed 0m 31s (remain 17m 14s) Loss: 0.7806(0.6697) Grad: 1231.1213  LR: 0.00002000  \n",
      "Epoch: [1][200/3419] Elapsed 1m 1s (remain 16m 26s) Loss: 0.6608(0.6653) Grad: 466.3427  LR: 0.00001999  \n",
      "Epoch: [1][300/3419] Elapsed 1m 31s (remain 15m 50s) Loss: 0.6474(0.6614) Grad: 261.3877  LR: 0.00001998  \n",
      "Epoch: [1][400/3419] Elapsed 2m 1s (remain 15m 17s) Loss: 0.6973(0.6594) Grad: 460.6434  LR: 0.00001996  \n",
      "Epoch: [1][500/3419] Elapsed 2m 32s (remain 14m 45s) Loss: 0.6253(0.6590) Grad: 287.6349  LR: 0.00001993  \n",
      "Epoch: [1][600/3419] Elapsed 3m 2s (remain 14m 14s) Loss: 0.6918(0.6580) Grad: 360.6165  LR: 0.00001990  \n",
      "Epoch: [1][700/3419] Elapsed 3m 32s (remain 13m 43s) Loss: 0.6666(0.6589) Grad: 158.8717  LR: 0.00001987  \n",
      "Epoch: [1][800/3419] Elapsed 4m 2s (remain 13m 12s) Loss: 0.6296(0.6581) Grad: 299.9543  LR: 0.00001983  \n",
      "Epoch: [1][900/3419] Elapsed 4m 32s (remain 12m 42s) Loss: 0.6311(0.6575) Grad: 205.3748  LR: 0.00001979  \n",
      "Epoch: [1][1000/3419] Elapsed 5m 2s (remain 12m 11s) Loss: 0.6027(0.6566) Grad: 268.1111  LR: 0.00001974  \n",
      "Epoch: [1][1100/3419] Elapsed 5m 32s (remain 11m 41s) Loss: 0.6134(0.6571) Grad: 407.1356  LR: 0.00001968  \n",
      "Epoch: [1][1200/3419] Elapsed 6m 3s (remain 11m 10s) Loss: 0.6960(0.6578) Grad: 297.7547  LR: 0.00001962  \n",
      "Epoch: [1][1300/3419] Elapsed 6m 33s (remain 10m 40s) Loss: 0.6483(0.6580) Grad: 200.8024  LR: 0.00001956  \n",
      "Epoch: [1][1400/3419] Elapsed 7m 3s (remain 10m 9s) Loss: 0.6714(0.6585) Grad: 226.3758  LR: 0.00001949  \n",
      "Epoch: [1][1500/3419] Elapsed 7m 33s (remain 9m 39s) Loss: 0.6886(0.6573) Grad: 283.5498  LR: 0.00001941  \n",
      "Epoch: [1][1600/3419] Elapsed 8m 3s (remain 9m 9s) Loss: 0.6895(0.6574) Grad: 301.1577  LR: 0.00001933  \n",
      "Epoch: [1][1700/3419] Elapsed 8m 33s (remain 8m 38s) Loss: 0.6326(0.6572) Grad: 261.7915  LR: 0.00001925  \n",
      "Epoch: [1][1800/3419] Elapsed 9m 3s (remain 8m 8s) Loss: 0.6673(0.6568) Grad: 133.4124  LR: 0.00001916  \n",
      "Epoch: [1][1900/3419] Elapsed 9m 34s (remain 7m 38s) Loss: 0.6313(0.6573) Grad: 334.8066  LR: 0.00001906  \n",
      "Epoch: [1][2000/3419] Elapsed 10m 4s (remain 7m 8s) Loss: 0.7336(0.6570) Grad: 499.4201  LR: 0.00001896  \n",
      "Epoch: [1][2100/3419] Elapsed 10m 34s (remain 6m 38s) Loss: 0.5278(0.6572) Grad: 1410.4717  LR: 0.00001886  \n",
      "Epoch: [1][2200/3419] Elapsed 11m 4s (remain 6m 7s) Loss: 0.5351(0.6568) Grad: 1426.4709  LR: 0.00001875  \n",
      "Epoch: [1][2300/3419] Elapsed 11m 35s (remain 5m 37s) Loss: 0.6305(0.6567) Grad: 500.9505  LR: 0.00001864  \n",
      "Epoch: [1][2400/3419] Elapsed 12m 5s (remain 5m 7s) Loss: 0.6955(0.6566) Grad: 456.8311  LR: 0.00001852  \n",
      "Epoch: [1][2500/3419] Elapsed 12m 35s (remain 4m 37s) Loss: 0.6675(0.6565) Grad: 248.2946  LR: 0.00001839  \n",
      "Epoch: [1][2600/3419] Elapsed 13m 5s (remain 4m 7s) Loss: 0.7655(0.6566) Grad: 1234.9510  LR: 0.00001827  \n",
      "Epoch: [1][2700/3419] Elapsed 13m 36s (remain 3m 36s) Loss: 0.6868(0.6566) Grad: 509.7897  LR: 0.00001814  \n",
      "Epoch: [1][2800/3419] Elapsed 14m 6s (remain 3m 6s) Loss: 0.6507(0.6563) Grad: 325.2745  LR: 0.00001800  \n",
      "Epoch: [1][2900/3419] Elapsed 14m 36s (remain 2m 36s) Loss: 0.6169(0.6563) Grad: 608.7612  LR: 0.00001786  \n",
      "Epoch: [1][3000/3419] Elapsed 15m 6s (remain 2m 6s) Loss: 0.6963(0.6565) Grad: 558.6609  LR: 0.00001772  \n",
      "Epoch: [1][3100/3419] Elapsed 15m 36s (remain 1m 36s) Loss: 0.5847(0.6562) Grad: 689.9068  LR: 0.00001757  \n",
      "Epoch: [1][3200/3419] Elapsed 16m 7s (remain 1m 5s) Loss: 0.6908(0.6563) Grad: 488.1052  LR: 0.00001742  \n",
      "Epoch: [1][3300/3419] Elapsed 16m 37s (remain 0m 35s) Loss: 0.6995(0.6563) Grad: 555.4640  LR: 0.00001726  \n",
      "Epoch: [1][3400/3419] Elapsed 17m 7s (remain 0m 5s) Loss: 0.5698(0.6562) Grad: 804.7346  LR: 0.00001710  \n"
     ]
    },
    {
     "name": "stderr",
     "output_type": "stream",
     "text": [
      "[W pthreadpool-cpp.cc:90] Warning: Leaking Caffe2 thread-pool after fork. (function pthreadpool)\n"
     ]
    },
    {
     "name": "stdout",
     "output_type": "stream",
     "text": [
      "Epoch: [1][3418/3419] Elapsed 17m 12s (remain 0m 0s) Loss: 0.6651(0.6562) Grad: 315.6607  LR: 0.00001707  \n"
     ]
    },
    {
     "name": "stderr",
     "output_type": "stream",
     "text": [
      "[W pthreadpool-cpp.cc:90] Warning: Leaking Caffe2 thread-pool after fork. (function pthreadpool)\n",
      "[W pthreadpool-cpp.cc:90] Warning: Leaking Caffe2 thread-pool after fork. (function pthreadpool)\n",
      "[W pthreadpool-cpp.cc:90] Warning: Leaking Caffe2 thread-pool after fork. (function pthreadpool)\n",
      "[W pthreadpool-cpp.cc:90] Warning: Leaking Caffe2 thread-pool after fork. (function pthreadpool)\n"
     ]
    },
    {
     "name": "stdout",
     "output_type": "stream",
     "text": [
      "EVAL: [0/1140] Elapsed 0m 0s (remain 17m 48s) Loss: 0.6241(0.6241) \n",
      "EVAL: [100/1140] Elapsed 0m 8s (remain 1m 31s) Loss: 0.7019(0.6586) \n",
      "EVAL: [200/1140] Elapsed 0m 16s (remain 1m 19s) Loss: 0.6436(0.6519) \n",
      "EVAL: [300/1140] Elapsed 0m 24s (remain 1m 9s) Loss: 0.7992(0.6536) \n",
      "EVAL: [400/1140] Elapsed 0m 32s (remain 1m 0s) Loss: 0.6825(0.6579) \n",
      "EVAL: [500/1140] Elapsed 0m 40s (remain 0m 52s) Loss: 0.6630(0.6528) \n",
      "EVAL: [600/1140] Elapsed 0m 48s (remain 0m 43s) Loss: 0.6825(0.6529) \n",
      "EVAL: [700/1140] Elapsed 0m 57s (remain 0m 35s) Loss: 0.6241(0.6536) \n",
      "EVAL: [800/1140] Elapsed 1m 5s (remain 0m 27s) Loss: 0.6046(0.6533) \n",
      "EVAL: [900/1140] Elapsed 1m 13s (remain 0m 19s) Loss: 0.6436(0.6535) \n",
      "EVAL: [1000/1140] Elapsed 1m 21s (remain 0m 11s) Loss: 0.6241(0.6548) \n",
      "EVAL: [1100/1140] Elapsed 1m 29s (remain 0m 3s) Loss: 0.7603(0.6549) \n"
     ]
    },
    {
     "name": "stderr",
     "output_type": "stream",
     "text": [
      "Epoch 1 - avg_train_loss: 0.6562  avg_val_loss: 0.6549  time: 1126s\n",
      "Epoch 1 - Score: -0.0054\n"
     ]
    },
    {
     "name": "stdout",
     "output_type": "stream",
     "text": [
      "EVAL: [1139/1140] Elapsed 1m 32s (remain 0m 0s) Loss: 0.7668(0.6549) \n"
     ]
    },
    {
     "name": "stderr",
     "output_type": "stream",
     "text": [
      "[W pthreadpool-cpp.cc:90] Warning: Leaking Caffe2 thread-pool after fork. (function pthreadpool)\n",
      "[W pthreadpool-cpp.cc:90] Warning: Leaking Caffe2 thread-pool after fork. (function pthreadpool)\n",
      "[W pthreadpool-cpp.cc:90] Warning: Leaking Caffe2 thread-pool after fork. (function pthreadpool)\n",
      "[W pthreadpool-cpp.cc:90] Warning: Leaking Caffe2 thread-pool after fork. (function pthreadpool)\n"
     ]
    },
    {
     "name": "stdout",
     "output_type": "stream",
     "text": [
      "Epoch: [2][0/3419] Elapsed 0m 0s (remain 24m 53s) Loss: 0.6407(0.6407) Grad: 15452.2559  LR: 0.00001707  \n",
      "Epoch: [2][100/3419] Elapsed 0m 31s (remain 17m 13s) Loss: 0.6424(0.6543) Grad: 16529.4414  LR: 0.00001691  \n",
      "Epoch: [2][200/3419] Elapsed 1m 2s (remain 16m 40s) Loss: 0.5897(0.6562) Grad: 47463.4570  LR: 0.00001674  \n",
      "Epoch: [2][300/3419] Elapsed 1m 33s (remain 16m 8s) Loss: 0.5921(0.6567) Grad: 50216.1055  LR: 0.00001657  \n",
      "Epoch: [2][400/3419] Elapsed 2m 4s (remain 15m 37s) Loss: 0.5952(0.6546) Grad: 46165.3594  LR: 0.00001639  \n",
      "Epoch: [2][500/3419] Elapsed 2m 35s (remain 15m 6s) Loss: 0.7229(0.6539) Grad: 60178.0273  LR: 0.00001621  \n",
      "Epoch: [2][600/3419] Elapsed 3m 6s (remain 14m 34s) Loss: 0.5726(0.6545) Grad: 56459.6445  LR: 0.00001603  \n",
      "Epoch: [2][700/3419] Elapsed 3m 37s (remain 14m 3s) Loss: 0.7146(0.6542) Grad: 44875.0781  LR: 0.00001585  \n",
      "Epoch: [2][800/3419] Elapsed 4m 8s (remain 13m 32s) Loss: 0.7575(0.6540) Grad: 73806.0625  LR: 0.00001566  \n",
      "Epoch: [2][900/3419] Elapsed 4m 39s (remain 13m 1s) Loss: 0.5850(0.6534) Grad: 43754.6055  LR: 0.00001547  \n",
      "Epoch: [2][1000/3419] Elapsed 5m 10s (remain 12m 30s) Loss: 0.6908(0.6539) Grad: 40230.0547  LR: 0.00001527  \n",
      "Epoch: [2][1100/3419] Elapsed 5m 41s (remain 11m 59s) Loss: 0.7000(0.6537) Grad: 37540.6562  LR: 0.00001508  \n",
      "Epoch: [2][1200/3419] Elapsed 6m 12s (remain 11m 28s) Loss: 0.6110(0.6531) Grad: 37097.2734  LR: 0.00001488  \n",
      "Epoch: [2][1300/3419] Elapsed 6m 43s (remain 10m 57s) Loss: 0.6754(0.6534) Grad: 24684.2441  LR: 0.00001468  \n",
      "Epoch: [2][1400/3419] Elapsed 7m 14s (remain 10m 26s) Loss: 0.6836(0.6537) Grad: 23750.3027  LR: 0.00001447  \n",
      "Epoch: [2][1500/3419] Elapsed 7m 45s (remain 9m 55s) Loss: 0.7400(0.6536) Grad: 58561.9219  LR: 0.00001427  \n",
      "Epoch: [2][1600/3419] Elapsed 8m 16s (remain 9m 24s) Loss: 0.7293(0.6538) Grad: 60858.7891  LR: 0.00001406  \n",
      "Epoch: [2][1700/3419] Elapsed 8m 47s (remain 8m 52s) Loss: 0.6747(0.6541) Grad: 24597.4453  LR: 0.00001385  \n",
      "Epoch: [2][1800/3419] Elapsed 9m 18s (remain 8m 21s) Loss: 0.7018(0.6533) Grad: 34168.3867  LR: 0.00001363  \n",
      "Epoch: [2][1900/3419] Elapsed 9m 49s (remain 7m 50s) Loss: 0.6260(0.6538) Grad: 20953.8945  LR: 0.00001342  \n",
      "Epoch: [2][2000/3419] Elapsed 10m 20s (remain 7m 19s) Loss: 0.6280(0.6537) Grad: 48110.6250  LR: 0.00001320  \n",
      "Epoch: [2][2100/3419] Elapsed 10m 51s (remain 6m 48s) Loss: 0.6850(0.6538) Grad: 60568.5000  LR: 0.00001298  \n",
      "Epoch: [2][2200/3419] Elapsed 11m 22s (remain 6m 17s) Loss: 0.6439(0.6542) Grad: 18789.7207  LR: 0.00001276  \n",
      "Epoch: [2][2300/3419] Elapsed 11m 53s (remain 5m 46s) Loss: 0.6309(0.6542) Grad: 27296.0430  LR: 0.00001254  \n",
      "Epoch: [2][2400/3419] Elapsed 12m 24s (remain 5m 15s) Loss: 0.6693(0.6542) Grad: 25371.9590  LR: 0.00001232  \n",
      "Epoch: [2][2500/3419] Elapsed 12m 55s (remain 4m 44s) Loss: 0.5722(0.6541) Grad: 55508.3477  LR: 0.00001209  \n",
      "Epoch: [2][2600/3419] Elapsed 13m 26s (remain 4m 13s) Loss: 0.5897(0.6542) Grad: 42967.7266  LR: 0.00001187  \n",
      "Epoch: [2][2700/3419] Elapsed 13m 57s (remain 3m 42s) Loss: 0.7322(0.6543) Grad: 57338.4102  LR: 0.00001164  \n",
      "Epoch: [2][2800/3419] Elapsed 14m 28s (remain 3m 11s) Loss: 0.5987(0.6541) Grad: 32986.5625  LR: 0.00001142  \n",
      "Epoch: [2][2900/3419] Elapsed 14m 59s (remain 2m 40s) Loss: 0.7306(0.6542) Grad: 56144.4062  LR: 0.00001119  \n",
      "Epoch: [2][3000/3419] Elapsed 15m 30s (remain 2m 9s) Loss: 0.7905(0.6545) Grad: 92657.7734  LR: 0.00001096  \n",
      "Epoch: [2][3100/3419] Elapsed 16m 1s (remain 1m 38s) Loss: 0.7147(0.6548) Grad: 44693.6523  LR: 0.00001073  \n",
      "Epoch: [2][3200/3419] Elapsed 16m 32s (remain 1m 7s) Loss: 0.6615(0.6549) Grad: 21661.4238  LR: 0.00001050  \n",
      "Epoch: [2][3300/3419] Elapsed 17m 3s (remain 0m 36s) Loss: 0.6307(0.6548) Grad: 25020.3262  LR: 0.00001027  \n",
      "Epoch: [2][3400/3419] Elapsed 17m 34s (remain 0m 5s) Loss: 0.7113(0.6550) Grad: 42539.8281  LR: 0.00001004  \n"
     ]
    },
    {
     "name": "stderr",
     "output_type": "stream",
     "text": [
      "[W pthreadpool-cpp.cc:90] Warning: Leaking Caffe2 thread-pool after fork. (function pthreadpool)\n"
     ]
    },
    {
     "name": "stdout",
     "output_type": "stream",
     "text": [
      "Epoch: [2][3418/3419] Elapsed 17m 40s (remain 0m 0s) Loss: 0.6944(0.6549) Grad: 34013.6406  LR: 0.00001000  \n"
     ]
    },
    {
     "name": "stderr",
     "output_type": "stream",
     "text": [
      "[W pthreadpool-cpp.cc:90] Warning: Leaking Caffe2 thread-pool after fork. (function pthreadpool)\n",
      "[W pthreadpool-cpp.cc:90] Warning: Leaking Caffe2 thread-pool after fork. (function pthreadpool)\n",
      "[W pthreadpool-cpp.cc:90] Warning: Leaking Caffe2 thread-pool after fork. (function pthreadpool)\n",
      "[W pthreadpool-cpp.cc:90] Warning: Leaking Caffe2 thread-pool after fork. (function pthreadpool)\n"
     ]
    },
    {
     "name": "stdout",
     "output_type": "stream",
     "text": [
      "EVAL: [0/1140] Elapsed 0m 0s (remain 5m 26s) Loss: 0.6252(0.6252) \n",
      "EVAL: [100/1140] Elapsed 0m 8s (remain 1m 25s) Loss: 0.6996(0.6582) \n",
      "EVAL: [200/1140] Elapsed 0m 16s (remain 1m 16s) Loss: 0.6438(0.6517) \n",
      "EVAL: [300/1140] Elapsed 0m 24s (remain 1m 7s) Loss: 0.7926(0.6534) \n",
      "EVAL: [400/1140] Elapsed 0m 32s (remain 0m 59s) Loss: 0.6810(0.6575) \n",
      "EVAL: [500/1140] Elapsed 0m 40s (remain 0m 51s) Loss: 0.6624(0.6527) \n",
      "EVAL: [600/1140] Elapsed 0m 48s (remain 0m 43s) Loss: 0.6810(0.6528) \n",
      "EVAL: [700/1140] Elapsed 0m 56s (remain 0m 35s) Loss: 0.6252(0.6534) \n",
      "EVAL: [800/1140] Elapsed 1m 4s (remain 0m 27s) Loss: 0.6066(0.6531) \n",
      "EVAL: [900/1140] Elapsed 1m 12s (remain 0m 19s) Loss: 0.6438(0.6533) \n",
      "EVAL: [1000/1140] Elapsed 1m 20s (remain 0m 11s) Loss: 0.6252(0.6545) \n",
      "EVAL: [1100/1140] Elapsed 1m 28s (remain 0m 3s) Loss: 0.7554(0.6547) \n"
     ]
    },
    {
     "name": "stderr",
     "output_type": "stream",
     "text": [
      "Epoch 2 - avg_train_loss: 0.6549  avg_val_loss: 0.6547  time: 1153s\n",
      "Epoch 2 - Score: 0.0071\n",
      "Epoch 2 - Save Best Score: 0.0071 Model\n"
     ]
    },
    {
     "name": "stdout",
     "output_type": "stream",
     "text": [
      "EVAL: [1139/1140] Elapsed 1m 31s (remain 0m 0s) Loss: 0.7616(0.6547) \n"
     ]
    },
    {
     "name": "stderr",
     "output_type": "stream",
     "text": [
      "[W pthreadpool-cpp.cc:90] Warning: Leaking Caffe2 thread-pool after fork. (function pthreadpool)\n",
      "[W pthreadpool-cpp.cc:90] Warning: Leaking Caffe2 thread-pool after fork. (function pthreadpool)\n",
      "[W pthreadpool-cpp.cc:90] Warning: Leaking Caffe2 thread-pool after fork. (function pthreadpool)\n",
      "[W pthreadpool-cpp.cc:90] Warning: Leaking Caffe2 thread-pool after fork. (function pthreadpool)\n"
     ]
    },
    {
     "name": "stdout",
     "output_type": "stream",
     "text": [
      "Epoch: [3][0/3419] Elapsed 0m 0s (remain 33m 35s) Loss: 0.5760(0.5760) Grad: 62271.6328  LR: 0.00001000  \n",
      "Epoch: [3][100/3419] Elapsed 0m 31s (remain 17m 16s) Loss: 0.6576(0.6481) Grad: 17129.3027  LR: 0.00000977  \n",
      "Epoch: [3][200/3419] Elapsed 1m 2s (remain 16m 40s) Loss: 0.6610(0.6509) Grad: 14862.4014  LR: 0.00000954  \n",
      "Epoch: [3][300/3419] Elapsed 1m 33s (remain 16m 8s) Loss: 0.5316(0.6521) Grad: 77171.1328  LR: 0.00000931  \n",
      "Epoch: [3][400/3419] Elapsed 2m 4s (remain 15m 36s) Loss: 0.6618(0.6527) Grad: 20145.0918  LR: 0.00000908  \n",
      "Epoch: [3][500/3419] Elapsed 2m 35s (remain 15m 4s) Loss: 0.6252(0.6511) Grad: 18299.8750  LR: 0.00000885  \n",
      "Epoch: [3][600/3419] Elapsed 3m 6s (remain 14m 33s) Loss: 0.6963(0.6515) Grad: 36360.6602  LR: 0.00000863  \n",
      "Epoch: [3][700/3419] Elapsed 3m 37s (remain 14m 2s) Loss: 0.5856(0.6522) Grad: 44306.6719  LR: 0.00000840  \n",
      "Epoch: [3][800/3419] Elapsed 4m 8s (remain 13m 31s) Loss: 0.7369(0.6526) Grad: 58334.0977  LR: 0.00000817  \n",
      "Epoch: [3][900/3419] Elapsed 4m 39s (remain 13m 0s) Loss: 0.7547(0.6534) Grad: 74007.3672  LR: 0.00000795  \n",
      "Epoch: [3][1000/3419] Elapsed 5m 10s (remain 12m 29s) Loss: 0.6587(0.6548) Grad: 14479.7305  LR: 0.00000772  \n",
      "Epoch: [3][1100/3419] Elapsed 5m 41s (remain 11m 58s) Loss: 0.6252(0.6540) Grad: 21307.7227  LR: 0.00000750  \n",
      "Epoch: [3][1200/3419] Elapsed 6m 12s (remain 11m 27s) Loss: 0.6979(0.6539) Grad: 34495.8164  LR: 0.00000728  \n",
      "Epoch: [3][1300/3419] Elapsed 6m 43s (remain 10m 56s) Loss: 0.5910(0.6540) Grad: 45303.0586  LR: 0.00000706  \n",
      "Epoch: [3][1400/3419] Elapsed 7m 14s (remain 10m 25s) Loss: 0.6485(0.6537) Grad: 21925.4199  LR: 0.00000684  \n",
      "Epoch: [3][1500/3419] Elapsed 7m 45s (remain 9m 54s) Loss: 0.5634(0.6532) Grad: 55158.5742  LR: 0.00000662  \n",
      "Epoch: [3][1600/3419] Elapsed 8m 15s (remain 9m 23s) Loss: 0.6388(0.6542) Grad: 21981.6133  LR: 0.00000641  \n",
      "Epoch: [3][1700/3419] Elapsed 8m 46s (remain 8m 52s) Loss: 0.5926(0.6546) Grad: 48406.3750  LR: 0.00000619  \n",
      "Epoch: [3][1800/3419] Elapsed 9m 17s (remain 8m 21s) Loss: 0.7069(0.6546) Grad: 45123.3047  LR: 0.00000598  \n",
      "Epoch: [3][1900/3419] Elapsed 9m 48s (remain 7m 50s) Loss: 0.6959(0.6548) Grad: 33830.1992  LR: 0.00000577  \n",
      "Epoch: [3][2000/3419] Elapsed 10m 19s (remain 7m 19s) Loss: 0.6225(0.6550) Grad: 47765.7930  LR: 0.00000556  \n",
      "Epoch: [3][2100/3419] Elapsed 10m 50s (remain 6m 48s) Loss: 0.7292(0.6546) Grad: 106759.5938  LR: 0.00000536  \n",
      "Epoch: [3][2200/3419] Elapsed 11m 21s (remain 6m 17s) Loss: 0.6766(0.6546) Grad: 49969.3125  LR: 0.00000516  \n",
      "Epoch: [3][2300/3419] Elapsed 11m 52s (remain 5m 46s) Loss: 0.6911(0.6546) Grad: 67596.9531  LR: 0.00000496  \n",
      "Epoch: [3][2400/3419] Elapsed 12m 23s (remain 5m 15s) Loss: 0.6823(0.6548) Grad: 50474.8516  LR: 0.00000476  \n",
      "Epoch: [3][2500/3419] Elapsed 12m 54s (remain 4m 44s) Loss: 0.6935(0.6542) Grad: 69798.2109  LR: 0.00000457  \n",
      "Epoch: [3][2600/3419] Elapsed 13m 25s (remain 4m 13s) Loss: 0.6418(0.6543) Grad: 29965.0586  LR: 0.00000438  \n",
      "Epoch: [3][2700/3419] Elapsed 13m 56s (remain 3m 42s) Loss: 0.5665(0.6544) Grad: 114490.1484  LR: 0.00000419  \n",
      "Epoch: [3][2800/3419] Elapsed 14m 27s (remain 3m 11s) Loss: 0.6117(0.6545) Grad: 59192.2578  LR: 0.00000400  \n",
      "Epoch: [3][2900/3419] Elapsed 14m 58s (remain 2m 40s) Loss: 0.6408(0.6546) Grad: 45837.2969  LR: 0.00000382  \n",
      "Epoch: [3][3000/3419] Elapsed 15m 29s (remain 2m 9s) Loss: 0.6655(0.6548) Grad: 18185.7324  LR: 0.00000364  \n",
      "Epoch: [3][3100/3419] Elapsed 16m 0s (remain 1m 38s) Loss: 0.6843(0.6549) Grad: 22070.3477  LR: 0.00000347  \n",
      "Epoch: [3][3200/3419] Elapsed 16m 31s (remain 1m 7s) Loss: 0.5914(0.6550) Grad: 39888.3086  LR: 0.00000329  \n",
      "Epoch: [3][3300/3419] Elapsed 17m 2s (remain 0m 36s) Loss: 0.6991(0.6551) Grad: 35337.4062  LR: 0.00000312  \n",
      "Epoch: [3][3400/3419] Elapsed 17m 33s (remain 0m 5s) Loss: 0.6738(0.6551) Grad: 19794.2695  LR: 0.00000296  \n"
     ]
    },
    {
     "name": "stderr",
     "output_type": "stream",
     "text": [
      "[W pthreadpool-cpp.cc:90] Warning: Leaking Caffe2 thread-pool after fork. (function pthreadpool)\n"
     ]
    },
    {
     "name": "stdout",
     "output_type": "stream",
     "text": [
      "Epoch: [3][3418/3419] Elapsed 17m 38s (remain 0m 0s) Loss: 0.6272(0.6550) Grad: 24129.3789  LR: 0.00000293  \n"
     ]
    },
    {
     "name": "stderr",
     "output_type": "stream",
     "text": [
      "[W pthreadpool-cpp.cc:90] Warning: Leaking Caffe2 thread-pool after fork. (function pthreadpool)\n",
      "[W pthreadpool-cpp.cc:90] Warning: Leaking Caffe2 thread-pool after fork. (function pthreadpool)\n",
      "[W pthreadpool-cpp.cc:90] Warning: Leaking Caffe2 thread-pool after fork. (function pthreadpool)\n",
      "[W pthreadpool-cpp.cc:90] Warning: Leaking Caffe2 thread-pool after fork. (function pthreadpool)\n"
     ]
    },
    {
     "name": "stdout",
     "output_type": "stream",
     "text": [
      "EVAL: [0/1140] Elapsed 0m 2s (remain 55m 6s) Loss: 0.6245(0.6245) \n",
      "EVAL: [100/1140] Elapsed 0m 10s (remain 1m 52s) Loss: 0.7010(0.6584) \n",
      "EVAL: [200/1140] Elapsed 0m 18s (remain 1m 28s) Loss: 0.6436(0.6518) \n",
      "EVAL: [300/1140] Elapsed 0m 27s (remain 1m 16s) Loss: 0.7966(0.6535) \n",
      "EVAL: [400/1140] Elapsed 0m 35s (remain 1m 5s) Loss: 0.6819(0.6577) \n",
      "EVAL: [500/1140] Elapsed 0m 43s (remain 0m 55s) Loss: 0.6627(0.6527) \n",
      "EVAL: [600/1140] Elapsed 0m 51s (remain 0m 46s) Loss: 0.6819(0.6529) \n",
      "EVAL: [700/1140] Elapsed 0m 59s (remain 0m 37s) Loss: 0.6245(0.6535) \n",
      "EVAL: [800/1140] Elapsed 1m 7s (remain 0m 28s) Loss: 0.6054(0.6532) \n",
      "EVAL: [900/1140] Elapsed 1m 15s (remain 0m 20s) Loss: 0.6436(0.6534) \n",
      "EVAL: [1000/1140] Elapsed 1m 23s (remain 0m 11s) Loss: 0.6245(0.6547) \n",
      "EVAL: [1100/1140] Elapsed 1m 31s (remain 0m 3s) Loss: 0.7583(0.6548) \n"
     ]
    },
    {
     "name": "stderr",
     "output_type": "stream",
     "text": [
      "Epoch 3 - avg_train_loss: 0.6550  avg_val_loss: 0.6548  time: 1154s\n",
      "Epoch 3 - Score: -0.0075\n"
     ]
    },
    {
     "name": "stdout",
     "output_type": "stream",
     "text": [
      "EVAL: [1139/1140] Elapsed 1m 35s (remain 0m 0s) Loss: 0.7647(0.6548) \n"
     ]
    },
    {
     "name": "stderr",
     "output_type": "stream",
     "text": [
      "[W pthreadpool-cpp.cc:90] Warning: Leaking Caffe2 thread-pool after fork. (function pthreadpool)\n",
      "[W pthreadpool-cpp.cc:90] Warning: Leaking Caffe2 thread-pool after fork. (function pthreadpool)\n",
      "[W pthreadpool-cpp.cc:90] Warning: Leaking Caffe2 thread-pool after fork. (function pthreadpool)\n",
      "[W pthreadpool-cpp.cc:90] Warning: Leaking Caffe2 thread-pool after fork. (function pthreadpool)\n"
     ]
    },
    {
     "name": "stdout",
     "output_type": "stream",
     "text": [
      "Epoch: [4][0/3419] Elapsed 0m 0s (remain 24m 46s) Loss: 0.6826(0.6826) Grad: 29878.1406  LR: 0.00000293  \n",
      "Epoch: [4][100/3419] Elapsed 0m 31s (remain 17m 13s) Loss: 0.6227(0.6604) Grad: 26091.9160  LR: 0.00000277  \n",
      "Epoch: [4][200/3419] Elapsed 1m 2s (remain 16m 40s) Loss: 0.6321(0.6562) Grad: 22255.3730  LR: 0.00000261  \n",
      "Epoch: [4][300/3419] Elapsed 1m 33s (remain 16m 8s) Loss: 0.6470(0.6533) Grad: 17454.1816  LR: 0.00000246  \n",
      "Epoch: [4][400/3419] Elapsed 2m 4s (remain 15m 37s) Loss: 0.7284(0.6524) Grad: 50475.2383  LR: 0.00000231  \n",
      "Epoch: [4][500/3419] Elapsed 2m 35s (remain 15m 6s) Loss: 0.6608(0.6523) Grad: 22280.0410  LR: 0.00000216  \n",
      "Epoch: [4][600/3419] Elapsed 3m 6s (remain 14m 34s) Loss: 0.5690(0.6536) Grad: 52354.7422  LR: 0.00000202  \n",
      "Epoch: [4][700/3419] Elapsed 3m 37s (remain 14m 3s) Loss: 0.6077(0.6546) Grad: 31798.5059  LR: 0.00000189  \n",
      "Epoch: [4][800/3419] Elapsed 4m 8s (remain 13m 32s) Loss: 0.5522(0.6538) Grad: 66509.7969  LR: 0.00000176  \n",
      "Epoch: [4][900/3419] Elapsed 4m 39s (remain 13m 1s) Loss: 0.6437(0.6534) Grad: 12130.4639  LR: 0.00000163  \n",
      "Epoch: [4][1000/3419] Elapsed 5m 10s (remain 12m 30s) Loss: 0.6881(0.6533) Grad: 26045.1660  LR: 0.00000150  \n",
      "Epoch: [4][1100/3419] Elapsed 5m 41s (remain 11m 59s) Loss: 0.7019(0.6527) Grad: 31362.6953  LR: 0.00000139  \n",
      "Epoch: [4][1200/3419] Elapsed 6m 12s (remain 11m 28s) Loss: 0.7188(0.6528) Grad: 46077.6250  LR: 0.00000127  \n",
      "Epoch: [4][1300/3419] Elapsed 6m 43s (remain 10m 57s) Loss: 0.6845(0.6531) Grad: 27719.1152  LR: 0.00000116  \n",
      "Epoch: [4][1400/3419] Elapsed 7m 14s (remain 10m 26s) Loss: 0.6410(0.6530) Grad: 8456.7676  LR: 0.00000106  \n",
      "Epoch: [4][1500/3419] Elapsed 7m 45s (remain 9m 55s) Loss: 0.6240(0.6532) Grad: 24753.1738  LR: 0.00000096  \n",
      "Epoch: [4][1600/3419] Elapsed 8m 16s (remain 9m 24s) Loss: 0.6301(0.6538) Grad: 22427.9551  LR: 0.00000086  \n",
      "Epoch: [4][1700/3419] Elapsed 8m 47s (remain 8m 53s) Loss: 0.5909(0.6538) Grad: 45264.7852  LR: 0.00000077  \n",
      "Epoch: [4][1800/3419] Elapsed 9m 18s (remain 8m 22s) Loss: 0.8005(0.6546) Grad: 99417.5703  LR: 0.00000068  \n",
      "Epoch: [4][1900/3419] Elapsed 9m 49s (remain 7m 51s) Loss: 0.6510(0.6546) Grad: 22699.6934  LR: 0.00000060  \n",
      "Epoch: [4][2000/3419] Elapsed 10m 20s (remain 7m 20s) Loss: 0.6313(0.6544) Grad: 55864.0469  LR: 0.00000053  \n",
      "Epoch: [4][2100/3419] Elapsed 10m 51s (remain 6m 48s) Loss: 0.6952(0.6545) Grad: 31887.3848  LR: 0.00000046  \n",
      "Epoch: [4][2200/3419] Elapsed 11m 22s (remain 6m 17s) Loss: 0.6591(0.6544) Grad: 17423.4688  LR: 0.00000039  \n",
      "Epoch: [4][2300/3419] Elapsed 11m 53s (remain 5m 46s) Loss: 0.6595(0.6549) Grad: 16181.3350  LR: 0.00000033  \n",
      "Epoch: [4][2400/3419] Elapsed 12m 24s (remain 5m 15s) Loss: 0.6171(0.6549) Grad: 23281.2773  LR: 0.00000027  \n",
      "Epoch: [4][2500/3419] Elapsed 12m 55s (remain 4m 44s) Loss: 0.5497(0.6549) Grad: 66066.7969  LR: 0.00000022  \n",
      "Epoch: [4][2600/3419] Elapsed 13m 26s (remain 4m 13s) Loss: 0.6265(0.6549) Grad: 25422.2148  LR: 0.00000018  \n",
      "Epoch: [4][2700/3419] Elapsed 13m 57s (remain 3m 42s) Loss: 0.6201(0.6551) Grad: 29129.4492  LR: 0.00000014  \n",
      "Epoch: [4][2800/3419] Elapsed 14m 29s (remain 3m 11s) Loss: 0.5956(0.6553) Grad: 46164.9609  LR: 0.00000010  \n",
      "Epoch: [4][2900/3419] Elapsed 15m 0s (remain 2m 40s) Loss: 0.6490(0.6554) Grad: 18246.6113  LR: 0.00000007  \n",
      "Epoch: [4][3000/3419] Elapsed 15m 31s (remain 2m 9s) Loss: 0.7184(0.6553) Grad: 43808.9297  LR: 0.00000005  \n",
      "Epoch: [4][3100/3419] Elapsed 16m 2s (remain 1m 38s) Loss: 0.6995(0.6552) Grad: 36864.6016  LR: 0.00000003  \n",
      "Epoch: [4][3200/3419] Elapsed 16m 33s (remain 1m 7s) Loss: 0.6754(0.6552) Grad: 18518.0996  LR: 0.00000001  \n",
      "Epoch: [4][3300/3419] Elapsed 17m 4s (remain 0m 36s) Loss: 0.7153(0.6552) Grad: 40755.7617  LR: 0.00000000  \n",
      "Epoch: [4][3400/3419] Elapsed 17m 35s (remain 0m 5s) Loss: 0.5875(0.6550) Grad: 43326.2305  LR: 0.00000000  \n"
     ]
    },
    {
     "name": "stderr",
     "output_type": "stream",
     "text": [
      "[W pthreadpool-cpp.cc:90] Warning: Leaking Caffe2 thread-pool after fork. (function pthreadpool)\n",
      "[W pthreadpool-cpp.cc:90] Warning: Leaking Caffe2 thread-pool after fork. (function pthreadpool)\n"
     ]
    },
    {
     "name": "stdout",
     "output_type": "stream",
     "text": [
      "Epoch: [4][3418/3419] Elapsed 17m 40s (remain 0m 0s) Loss: 0.6401(0.6550) Grad: 15506.8613  LR: 0.00000000  \n"
     ]
    },
    {
     "name": "stderr",
     "output_type": "stream",
     "text": [
      "[W pthreadpool-cpp.cc:90] Warning: Leaking Caffe2 thread-pool after fork. (function pthreadpool)\n",
      "[W pthreadpool-cpp.cc:90] Warning: Leaking Caffe2 thread-pool after fork. (function pthreadpool)\n",
      "[W pthreadpool-cpp.cc:90] Warning: Leaking Caffe2 thread-pool after fork. (function pthreadpool)\n",
      "[W pthreadpool-cpp.cc:90] Warning: Leaking Caffe2 thread-pool after fork. (function pthreadpool)\n"
     ]
    },
    {
     "name": "stdout",
     "output_type": "stream",
     "text": [
      "EVAL: [0/1140] Elapsed 0m 0s (remain 5m 18s) Loss: 0.6249(0.6249) \n",
      "EVAL: [100/1140] Elapsed 0m 8s (remain 1m 25s) Loss: 0.7002(0.6583) \n",
      "EVAL: [200/1140] Elapsed 0m 16s (remain 1m 16s) Loss: 0.6437(0.6518) \n",
      "EVAL: [300/1140] Elapsed 0m 24s (remain 1m 7s) Loss: 0.7943(0.6534) \n",
      "EVAL: [400/1140] Elapsed 0m 32s (remain 0m 59s) Loss: 0.6814(0.6576) \n",
      "EVAL: [500/1140] Elapsed 0m 40s (remain 0m 51s) Loss: 0.6625(0.6527) \n",
      "EVAL: [600/1140] Elapsed 0m 48s (remain 0m 43s) Loss: 0.6814(0.6528) \n",
      "EVAL: [700/1140] Elapsed 0m 56s (remain 0m 35s) Loss: 0.6249(0.6535) \n",
      "EVAL: [800/1140] Elapsed 1m 4s (remain 0m 27s) Loss: 0.6061(0.6531) \n",
      "EVAL: [900/1140] Elapsed 1m 12s (remain 0m 19s) Loss: 0.6437(0.6533) \n",
      "EVAL: [1000/1140] Elapsed 1m 20s (remain 0m 11s) Loss: 0.6249(0.6546) \n",
      "EVAL: [1100/1140] Elapsed 1m 28s (remain 0m 3s) Loss: 0.7567(0.6547) \n"
     ]
    },
    {
     "name": "stderr",
     "output_type": "stream",
     "text": [
      "[W pthreadpool-cpp.cc:90] Warning: Leaking Caffe2 thread-pool after fork. (function pthreadpool)\n",
      "Epoch 4 - avg_train_loss: 0.6550  avg_val_loss: 0.6547  time: 1153s\n",
      "Epoch 4 - Score: -0.0073\n"
     ]
    },
    {
     "name": "stdout",
     "output_type": "stream",
     "text": [
      "EVAL: [1139/1140] Elapsed 1m 31s (remain 0m 0s) Loss: 0.7629(0.6547) \n"
     ]
    },
    {
     "name": "stderr",
     "output_type": "stream",
     "text": [
      "========== fold: 2 result ==========\n",
      "Score: 0.0071\n",
      "========== fold: 3 training ==========\n"
     ]
    },
    {
     "name": "stdout",
     "output_type": "stream",
     "text": [
      "\u001b[38;5;40m========== fold: 3 training ==========\u001b[0m\n"
     ]
    },
    {
     "name": "stderr",
     "output_type": "stream",
     "text": [
      "Some weights of the model checkpoint at google/electra-large-discriminator were not used when initializing ElectraModel: ['discriminator_predictions.dense_prediction.bias', 'discriminator_predictions.dense_prediction.weight', 'discriminator_predictions.dense.weight', 'discriminator_predictions.dense.bias']\n",
      "- This IS expected if you are initializing ElectraModel from the checkpoint of a model trained on another task or with another architecture (e.g. initializing a BertForSequenceClassification model from a BertForPreTraining model).\n",
      "- This IS NOT expected if you are initializing ElectraModel from the checkpoint of a model that you expect to be exactly identical (initializing a BertForSequenceClassification model from a BertForSequenceClassification model).\n",
      "[W pthreadpool-cpp.cc:90] Warning: Leaking Caffe2 thread-pool after fork. (function pthreadpool)\n",
      "[W pthreadpool-cpp.cc:90] Warning: Leaking Caffe2 thread-pool after fork. (function pthreadpool)\n",
      "[W pthreadpool-cpp.cc:90] Warning: Leaking Caffe2 thread-pool after fork. (function pthreadpool)\n",
      "[W pthreadpool-cpp.cc:90] Warning: Leaking Caffe2 thread-pool after fork. (function pthreadpool)\n"
     ]
    },
    {
     "name": "stdout",
     "output_type": "stream",
     "text": [
      "Epoch: [1][0/3419] Elapsed 0m 0s (remain 23m 2s) Loss: 0.6221(0.6221) Grad: inf  LR: 0.00002000  \n",
      "Epoch: [1][100/3419] Elapsed 1m 25s (remain 46m 38s) Loss: 0.7331(0.6753) Grad: 2336.4431  LR: 0.00002000  \n",
      "Epoch: [1][200/3419] Elapsed 1m 55s (remain 30m 52s) Loss: 0.6290(0.6680) Grad: 378.0578  LR: 0.00001999  \n",
      "Epoch: [1][300/3419] Elapsed 2m 26s (remain 25m 14s) Loss: 0.6212(0.6623) Grad: 704.3948  LR: 0.00001998  \n",
      "Epoch: [1][400/3419] Elapsed 2m 56s (remain 22m 9s) Loss: 0.6369(0.6602) Grad: 1308.7499  LR: 0.00001996  \n",
      "Epoch: [1][500/3419] Elapsed 3m 27s (remain 20m 5s) Loss: 0.7243(0.6596) Grad: 1477.6963  LR: 0.00001993  \n",
      "Epoch: [1][600/3419] Elapsed 3m 57s (remain 18m 33s) Loss: 0.6297(0.6596) Grad: 693.7866  LR: 0.00001990  \n",
      "Epoch: [1][700/3419] Elapsed 4m 27s (remain 17m 18s) Loss: 0.5416(0.6595) Grad: 1912.8192  LR: 0.00001987  \n",
      "Epoch: [1][800/3419] Elapsed 4m 58s (remain 16m 14s) Loss: 0.6095(0.6580) Grad: 745.0331  LR: 0.00001983  \n",
      "Epoch: [1][900/3419] Elapsed 6m 1s (remain 16m 49s) Loss: 0.6941(0.6573) Grad: 672.1817  LR: 0.00001979  \n",
      "Epoch: [1][1000/3419] Elapsed 6m 33s (remain 15m 51s) Loss: 0.6642(0.6571) Grad: 468.3529  LR: 0.00001974  \n",
      "Epoch: [1][1100/3419] Elapsed 7m 6s (remain 14m 58s) Loss: 0.6078(0.6575) Grad: 1305.6343  LR: 0.00001968  \n",
      "Epoch: [1][1200/3419] Elapsed 7m 38s (remain 14m 7s) Loss: 0.5555(0.6572) Grad: 1063.4407  LR: 0.00001962  \n",
      "Epoch: [1][1300/3419] Elapsed 8m 9s (remain 13m 17s) Loss: 0.6335(0.6567) Grad: 446.8268  LR: 0.00001956  \n",
      "Epoch: [1][1400/3419] Elapsed 8m 44s (remain 12m 35s) Loss: 0.6785(0.6562) Grad: 456.4628  LR: 0.00001949  \n",
      "Epoch: [1][1500/3419] Elapsed 9m 23s (remain 12m 0s) Loss: 0.6500(0.6562) Grad: 412.6412  LR: 0.00001941  \n",
      "Epoch: [1][1600/3419] Elapsed 9m 56s (remain 11m 17s) Loss: 0.6399(0.6563) Grad: 582.0836  LR: 0.00001933  \n",
      "Epoch: [1][1700/3419] Elapsed 10m 27s (remain 10m 33s) Loss: 0.6544(0.6559) Grad: 528.9542  LR: 0.00001925  \n",
      "Epoch: [1][1800/3419] Elapsed 10m 58s (remain 9m 52s) Loss: 0.6941(0.6559) Grad: 633.9125  LR: 0.00001916  \n",
      "Epoch: [1][1900/3419] Elapsed 11m 29s (remain 9m 10s) Loss: 0.6464(0.6564) Grad: 500.5144  LR: 0.00001906  \n",
      "Epoch: [1][2000/3419] Elapsed 12m 2s (remain 8m 32s) Loss: 0.6042(0.6565) Grad: 1237.6793  LR: 0.00001896  \n",
      "Epoch: [1][2100/3419] Elapsed 12m 39s (remain 7m 56s) Loss: 0.6806(0.6565) Grad: 665.6744  LR: 0.00001886  \n",
      "Epoch: [1][2200/3419] Elapsed 13m 10s (remain 7m 17s) Loss: 0.6347(0.6568) Grad: 1336.9237  LR: 0.00001875  \n",
      "Epoch: [1][2300/3419] Elapsed 13m 41s (remain 6m 39s) Loss: 0.7023(0.6567) Grad: 1373.8859  LR: 0.00001864  \n",
      "Epoch: [1][2400/3419] Elapsed 14m 12s (remain 6m 1s) Loss: 0.6224(0.6566) Grad: 933.5834  LR: 0.00001852  \n",
      "Epoch: [1][2500/3419] Elapsed 14m 43s (remain 5m 24s) Loss: 0.6132(0.6564) Grad: 1198.3706  LR: 0.00001839  \n",
      "Epoch: [1][2600/3419] Elapsed 15m 13s (remain 4m 47s) Loss: 0.5989(0.6563) Grad: 1293.1689  LR: 0.00001827  \n",
      "Epoch: [1][2700/3419] Elapsed 15m 44s (remain 4m 11s) Loss: 0.6275(0.6562) Grad: 1159.2960  LR: 0.00001814  \n",
      "Epoch: [1][2800/3419] Elapsed 16m 15s (remain 3m 35s) Loss: 0.7560(0.6562) Grad: 2501.9285  LR: 0.00001800  \n",
      "Epoch: [1][2900/3419] Elapsed 16m 45s (remain 2m 59s) Loss: 0.7368(0.6563) Grad: 2073.7717  LR: 0.00001786  \n",
      "Epoch: [1][3000/3419] Elapsed 17m 16s (remain 2m 24s) Loss: 0.5828(0.6561) Grad: 1442.6432  LR: 0.00001772  \n",
      "Epoch: [1][3100/3419] Elapsed 17m 47s (remain 1m 49s) Loss: 0.6992(0.6562) Grad: 1317.2700  LR: 0.00001757  \n",
      "Epoch: [1][3200/3419] Elapsed 18m 17s (remain 1m 14s) Loss: 0.6483(0.6565) Grad: 949.9200  LR: 0.00001742  \n",
      "Epoch: [1][3300/3419] Elapsed 18m 48s (remain 0m 40s) Loss: 0.6819(0.6564) Grad: 833.1671  LR: 0.00001726  \n",
      "Epoch: [1][3400/3419] Elapsed 19m 19s (remain 0m 6s) Loss: 0.6563(0.6564) Grad: 670.0720  LR: 0.00001710  \n"
     ]
    },
    {
     "name": "stderr",
     "output_type": "stream",
     "text": [
      "[W pthreadpool-cpp.cc:90] Warning: Leaking Caffe2 thread-pool after fork. (function pthreadpool)\n"
     ]
    },
    {
     "name": "stdout",
     "output_type": "stream",
     "text": [
      "Epoch: [1][3418/3419] Elapsed 19m 24s (remain 0m 0s) Loss: 0.6141(0.6565) Grad: 1604.1934  LR: 0.00001707  \n"
     ]
    },
    {
     "name": "stderr",
     "output_type": "stream",
     "text": [
      "[W pthreadpool-cpp.cc:90] Warning: Leaking Caffe2 thread-pool after fork. (function pthreadpool)\n",
      "[W pthreadpool-cpp.cc:90] Warning: Leaking Caffe2 thread-pool after fork. (function pthreadpool)\n",
      "[W pthreadpool-cpp.cc:90] Warning: Leaking Caffe2 thread-pool after fork. (function pthreadpool)\n",
      "[W pthreadpool-cpp.cc:90] Warning: Leaking Caffe2 thread-pool after fork. (function pthreadpool)\n"
     ]
    },
    {
     "name": "stdout",
     "output_type": "stream",
     "text": [
      "EVAL: [0/1140] Elapsed 0m 0s (remain 5m 48s) Loss: 0.6618(0.6618) \n",
      "EVAL: [100/1140] Elapsed 0m 8s (remain 1m 25s) Loss: 0.6792(0.6444) \n",
      "EVAL: [200/1140] Elapsed 0m 16s (remain 1m 16s) Loss: 0.7139(0.6539) \n",
      "EVAL: [300/1140] Elapsed 0m 24s (remain 1m 7s) Loss: 0.5576(0.6511) \n",
      "EVAL: [400/1140] Elapsed 0m 32s (remain 0m 59s) Loss: 0.6444(0.6536) \n",
      "EVAL: [500/1140] Elapsed 0m 40s (remain 0m 51s) Loss: 0.6618(0.6533) \n",
      "EVAL: [600/1140] Elapsed 0m 48s (remain 0m 43s) Loss: 0.7486(0.6541) \n",
      "EVAL: [700/1140] Elapsed 0m 56s (remain 0m 35s) Loss: 0.6097(0.6541) \n",
      "EVAL: [800/1140] Elapsed 1m 4s (remain 0m 27s) Loss: 0.6444(0.6532) \n",
      "EVAL: [900/1140] Elapsed 1m 12s (remain 0m 19s) Loss: 0.6792(0.6534) \n",
      "EVAL: [1000/1140] Elapsed 1m 20s (remain 0m 11s) Loss: 0.6097(0.6544) \n",
      "EVAL: [1100/1140] Elapsed 1m 28s (remain 0m 3s) Loss: 0.6965(0.6543) \n"
     ]
    },
    {
     "name": "stderr",
     "output_type": "stream",
     "text": [
      "Epoch 1 - avg_train_loss: 0.6565  avg_val_loss: 0.6546  time: 1257s\n",
      "Epoch 1 - Score: -0.0091\n"
     ]
    },
    {
     "name": "stdout",
     "output_type": "stream",
     "text": [
      "EVAL: [1139/1140] Elapsed 1m 32s (remain 0m 0s) Loss: 0.7312(0.6546) \n"
     ]
    },
    {
     "name": "stderr",
     "output_type": "stream",
     "text": [
      "[W pthreadpool-cpp.cc:90] Warning: Leaking Caffe2 thread-pool after fork. (function pthreadpool)\n",
      "[W pthreadpool-cpp.cc:90] Warning: Leaking Caffe2 thread-pool after fork. (function pthreadpool)\n",
      "[W pthreadpool-cpp.cc:90] Warning: Leaking Caffe2 thread-pool after fork. (function pthreadpool)\n",
      "[W pthreadpool-cpp.cc:90] Warning: Leaking Caffe2 thread-pool after fork. (function pthreadpool)\n"
     ]
    },
    {
     "name": "stdout",
     "output_type": "stream",
     "text": [
      "Epoch: [2][0/3419] Elapsed 0m 0s (remain 25m 37s) Loss: 0.6287(0.6287) Grad: 31658.3633  LR: 0.00001707  \n",
      "Epoch: [2][100/3419] Elapsed 0m 31s (remain 17m 16s) Loss: 0.5650(0.6642) Grad: 87582.4141  LR: 0.00001691  \n",
      "Epoch: [2][200/3419] Elapsed 1m 5s (remain 17m 23s) Loss: 0.6165(0.6611) Grad: 45242.3984  LR: 0.00001674  \n",
      "Epoch: [2][300/3419] Elapsed 1m 36s (remain 16m 43s) Loss: 0.6787(0.6601) Grad: 20582.5059  LR: 0.00001657  \n",
      "Epoch: [2][400/3419] Elapsed 2m 9s (remain 16m 14s) Loss: 0.6338(0.6606) Grad: 31541.4766  LR: 0.00001639  \n",
      "Epoch: [2][500/3419] Elapsed 2m 42s (remain 15m 46s) Loss: 0.6953(0.6602) Grad: 33632.9492  LR: 0.00001621  \n",
      "Epoch: [2][600/3419] Elapsed 3m 15s (remain 15m 14s) Loss: 0.6679(0.6610) Grad: 22534.7168  LR: 0.00001603  \n",
      "Epoch: [2][700/3419] Elapsed 3m 48s (remain 14m 47s) Loss: 0.7061(0.6592) Grad: 39647.9531  LR: 0.00001585  \n",
      "Epoch: [2][800/3419] Elapsed 4m 22s (remain 14m 18s) Loss: 0.6468(0.6585) Grad: 18753.4160  LR: 0.00001566  \n",
      "Epoch: [2][900/3419] Elapsed 4m 55s (remain 13m 46s) Loss: 0.6626(0.6580) Grad: 21935.1484  LR: 0.00001547  \n",
      "Epoch: [2][1000/3419] Elapsed 5m 28s (remain 13m 14s) Loss: 0.7193(0.6571) Grad: 58049.0195  LR: 0.00001527  \n",
      "Epoch: [2][1100/3419] Elapsed 6m 0s (remain 12m 38s) Loss: 0.6236(0.6562) Grad: 30855.4902  LR: 0.00001508  \n",
      "Epoch: [2][1200/3419] Elapsed 6m 32s (remain 12m 4s) Loss: 0.6041(0.6557) Grad: 37011.0352  LR: 0.00001488  \n",
      "Epoch: [2][1300/3419] Elapsed 7m 9s (remain 11m 39s) Loss: 0.5869(0.6555) Grad: 52241.3203  LR: 0.00001468  \n",
      "Epoch: [2][1400/3419] Elapsed 7m 45s (remain 11m 10s) Loss: 0.5868(0.6556) Grad: 53329.4727  LR: 0.00001447  \n",
      "Epoch: [2][1500/3419] Elapsed 8m 18s (remain 10m 36s) Loss: 0.7148(0.6559) Grad: 57935.9609  LR: 0.00001427  \n",
      "Epoch: [2][1600/3419] Elapsed 8m 51s (remain 10m 3s) Loss: 0.6648(0.6557) Grad: 14133.6641  LR: 0.00001406  \n",
      "Epoch: [2][1700/3419] Elapsed 9m 27s (remain 9m 33s) Loss: 0.6470(0.6553) Grad: 18589.9219  LR: 0.00001385  \n"
     ]
    }
   ],
   "source": [
    "if __name__ == '__main__':\n",
    "    \n",
    "    def get_result(oof_df):\n",
    "        labels = oof_df['score'].values\n",
    "        preds = oof_df['pred'].values\n",
    "        score = get_score(labels, preds)\n",
    "        LOGGER.info(f'Score: {score:<.4f}')\n",
    "    \n",
    "    if CFG.train:\n",
    "        oof_df = pd.DataFrame()\n",
    "        for fold in range(CFG.n_fold):\n",
    "            # if fold in [0,1,2]:\n",
    "                #continue\n",
    "               # print（f”￥０r３３［３８；５；４０m＝＝＝＝＝＝＝＝＝＝ this fold is pass ￥ontinue\n",
    "            LOGGER.info(f\"========== fold: {fold} training ==========\")\n",
    "            print(f\"\\033[38;5;40m========== fold: {fold} training ==========\\033[0m\");\n",
    "            if fold in CFG.trn_fold:\n",
    "                # ====================================================\n",
    "                # loader\n",
    "                # ====================================================\n",
    "                folds = train\n",
    "                train_folds = folds[folds['fold'] != fold].reset_index(drop=True)\n",
    "                valid_folds = folds[folds['fold'] == fold].reset_index(drop=True)\n",
    "                valid_labels = valid_folds['score'].values\n",
    "\n",
    "                train_dataset = TrainDataset(CFG, train_folds)\n",
    "                valid_dataset = TrainDataset(CFG, valid_folds)\n",
    "\n",
    "                train_loader = DataLoader(train_dataset,\n",
    "                                          batch_size=CFG.batch_size,\n",
    "                                          shuffle=True,\n",
    "                                          num_workers=CFG.num_workers, pin_memory=True, drop_last=True)\n",
    "                valid_loader = DataLoader(valid_dataset,\n",
    "                                          batch_size=CFG.batch_size,\n",
    "                                          shuffle=False,\n",
    "                                          num_workers=CFG.num_workers, pin_memory=True, drop_last=False)\n",
    "\n",
    "#                 _oof_df = train_loop(train, fold)\n",
    "                _oof_df = train_loop(train_loader, valid_loader)\n",
    "                oof_df = pd.concat([oof_df, _oof_df])\n",
    "                LOGGER.info(f\"========== fold: {fold} result ==========\")\n",
    "                get_result(_oof_df)\n",
    "        oof_df = oof_df.reset_index(drop=True)\n",
    "        LOGGER.info(f\"========== CV ==========\")\n",
    "        get_result(oof_df)\n",
    "        oof_df.to_pickle(OUTPUT_DIR+'oof_df.pkl')\n",
    "        \n",
    "    if CFG.wandb:\n",
    "        wandb.finish()"
   ]
  },
  {
   "cell_type": "code",
   "execution_count": null,
   "id": "6b65b21c",
   "metadata": {},
   "outputs": [],
   "source": [
    "print(f'{time.time()-start} hour')"
   ]
  },
  {
   "cell_type": "code",
   "execution_count": null,
   "id": "5c638e57",
   "metadata": {},
   "outputs": [],
   "source": [
    "!touch trained_list/electra-large.txt"
   ]
  },
  {
   "cell_type": "code",
   "execution_count": null,
   "id": "9343b101-0c9b-456d-b0c8-cc5e8b8b1317",
   "metadata": {},
   "outputs": [],
   "source": []
  },
  {
   "cell_type": "code",
   "execution_count": null,
   "id": "10743e3c-5bff-46c5-8e9d-0f4b3f051a79",
   "metadata": {},
   "outputs": [],
   "source": [
    "LOGGER.info(f\"max_len: {CFG.max_len}\")"
   ]
  },
  {
   "cell_type": "code",
   "execution_count": null,
   "id": "5ffc0430-37d5-4e3c-937c-a24c6c5c96dc",
   "metadata": {},
   "outputs": [],
   "source": []
  },
  {
   "cell_type": "code",
   "execution_count": null,
   "id": "2e30d85c-df17-4211-ab0f-3886dd942276",
   "metadata": {},
   "outputs": [],
   "source": []
  },
  {
   "cell_type": "code",
   "execution_count": null,
   "id": "060989e4-10a2-4eeb-b39e-1451aab2e77c",
   "metadata": {},
   "outputs": [],
   "source": []
  },
  {
   "cell_type": "code",
   "execution_count": null,
   "id": "2f2cb436-b039-4232-9e65-cbf3b509e79b",
   "metadata": {},
   "outputs": [],
   "source": []
  },
  {
   "cell_type": "code",
   "execution_count": null,
   "id": "cd2afeb9-6924-47cc-a138-3af2a28fe70b",
   "metadata": {},
   "outputs": [],
   "source": []
  }
 ],
 "metadata": {
  "kernelspec": {
   "display_name": "Python 3 (ipykernel)",
   "language": "python",
   "name": "python3"
  },
  "language_info": {
   "codemirror_mode": {
    "name": "ipython",
    "version": 3
   },
   "file_extension": ".py",
   "mimetype": "text/x-python",
   "name": "python",
   "nbconvert_exporter": "python",
   "pygments_lexer": "ipython3",
   "version": "3.7.12"
  },
  "papermill": {
   "default_parameters": {},
   "duration": 30329.017674,
   "end_time": "2022-03-22T18:05:22.040486",
   "environment_variables": {},
   "exception": null,
   "input_path": "__notebook__.ipynb",
   "output_path": "__notebook__.ipynb",
   "parameters": {},
   "start_time": "2022-03-22T09:39:53.022812",
   "version": "2.3.3"
  },
  "widgets": {
   "application/vnd.jupyter.widget-state+json": {
    "state": {
     "126a1e5f24e44838a03204815209c5dc": {
      "model_module": "@jupyter-widgets/controls",
      "model_module_version": "1.5.0",
      "model_name": "ProgressStyleModel",
      "state": {
       "_model_module": "@jupyter-widgets/controls",
       "_model_module_version": "1.5.0",
       "_model_name": "ProgressStyleModel",
       "_view_count": null,
       "_view_module": "@jupyter-widgets/base",
       "_view_module_version": "1.2.0",
       "_view_name": "StyleView",
       "bar_color": null,
       "description_width": ""
      }
     },
     "12d0d3a78caf4f8c93da02229f2185df": {
      "model_module": "@jupyter-widgets/base",
      "model_module_version": "1.2.0",
      "model_name": "LayoutModel",
      "state": {
       "_model_module": "@jupyter-widgets/base",
       "_model_module_version": "1.2.0",
       "_model_name": "LayoutModel",
       "_view_count": null,
       "_view_module": "@jupyter-widgets/base",
       "_view_module_version": "1.2.0",
       "_view_name": "LayoutView",
       "align_content": null,
       "align_items": null,
       "align_self": null,
       "border": null,
       "bottom": null,
       "display": null,
       "flex": null,
       "flex_flow": null,
       "grid_area": null,
       "grid_auto_columns": null,
       "grid_auto_flow": null,
       "grid_auto_rows": null,
       "grid_column": null,
       "grid_gap": null,
       "grid_row": null,
       "grid_template_areas": null,
       "grid_template_columns": null,
       "grid_template_rows": null,
       "height": null,
       "justify_content": null,
       "justify_items": null,
       "left": null,
       "margin": null,
       "max_height": null,
       "max_width": null,
       "min_height": null,
       "min_width": null,
       "object_fit": null,
       "object_position": null,
       "order": null,
       "overflow": null,
       "overflow_x": null,
       "overflow_y": null,
       "padding": null,
       "right": null,
       "top": null,
       "visibility": null,
       "width": null
      }
     },
     "14972cafd36646939e742a987e1d0ec7": {
      "model_module": "@jupyter-widgets/base",
      "model_module_version": "1.2.0",
      "model_name": "LayoutModel",
      "state": {
       "_model_module": "@jupyter-widgets/base",
       "_model_module_version": "1.2.0",
       "_model_name": "LayoutModel",
       "_view_count": null,
       "_view_module": "@jupyter-widgets/base",
       "_view_module_version": "1.2.0",
       "_view_name": "LayoutView",
       "align_content": null,
       "align_items": null,
       "align_self": null,
       "border": null,
       "bottom": null,
       "display": null,
       "flex": null,
       "flex_flow": null,
       "grid_area": null,
       "grid_auto_columns": null,
       "grid_auto_flow": null,
       "grid_auto_rows": null,
       "grid_column": null,
       "grid_gap": null,
       "grid_row": null,
       "grid_template_areas": null,
       "grid_template_columns": null,
       "grid_template_rows": null,
       "height": null,
       "justify_content": null,
       "justify_items": null,
       "left": null,
       "margin": null,
       "max_height": null,
       "max_width": null,
       "min_height": null,
       "min_width": null,
       "object_fit": null,
       "object_position": null,
       "order": null,
       "overflow": null,
       "overflow_x": null,
       "overflow_y": null,
       "padding": null,
       "right": null,
       "top": null,
       "visibility": null,
       "width": null
      }
     },
     "181ebde2d0064fb99b8ec32e9dc76836": {
      "model_module": "@jupyter-widgets/controls",
      "model_module_version": "1.5.0",
      "model_name": "HTMLModel",
      "state": {
       "_dom_classes": [],
       "_model_module": "@jupyter-widgets/controls",
       "_model_module_version": "1.5.0",
       "_model_name": "HTMLModel",
       "_view_count": null,
       "_view_module": "@jupyter-widgets/controls",
       "_view_module_version": "1.5.0",
       "_view_name": "HTMLView",
       "description": "",
       "description_tooltip": null,
       "layout": "IPY_MODEL_c1e8e53062324cf38fbd75eab01e066a",
       "placeholder": "​",
       "style": "IPY_MODEL_3feaf01a7f7b43ed923effab61b93ac4",
       "value": " 36473/36473 [00:03&lt;00:00, 12012.58it/s]"
      }
     },
     "1c5d07635bff4f7999e3e8486f648aaf": {
      "model_module": "@jupyter-widgets/controls",
      "model_module_version": "1.5.0",
      "model_name": "FloatProgressModel",
      "state": {
       "_dom_classes": [],
       "_model_module": "@jupyter-widgets/controls",
       "_model_module_version": "1.5.0",
       "_model_name": "FloatProgressModel",
       "_view_count": null,
       "_view_module": "@jupyter-widgets/controls",
       "_view_module_version": "1.5.0",
       "_view_name": "ProgressView",
       "bar_style": "success",
       "description": "",
       "description_tooltip": null,
       "layout": "IPY_MODEL_87214ce12c1f422481a0fe3caf5a3ce8",
       "max": 2464616,
       "min": 0,
       "orientation": "horizontal",
       "style": "IPY_MODEL_d9f0d96d140a4115aadfdfc9ce5ba608",
       "value": 2464616
      }
     },
     "1d83ae8940534922833de4d1fdd71216": {
      "model_module": "@jupyter-widgets/base",
      "model_module_version": "1.2.0",
      "model_name": "LayoutModel",
      "state": {
       "_model_module": "@jupyter-widgets/base",
       "_model_module_version": "1.2.0",
       "_model_name": "LayoutModel",
       "_view_count": null,
       "_view_module": "@jupyter-widgets/base",
       "_view_module_version": "1.2.0",
       "_view_name": "LayoutView",
       "align_content": null,
       "align_items": null,
       "align_self": null,
       "border": null,
       "bottom": null,
       "display": null,
       "flex": null,
       "flex_flow": null,
       "grid_area": null,
       "grid_auto_columns": null,
       "grid_auto_flow": null,
       "grid_auto_rows": null,
       "grid_column": null,
       "grid_gap": null,
       "grid_row": null,
       "grid_template_areas": null,
       "grid_template_columns": null,
       "grid_template_rows": null,
       "height": null,
       "justify_content": null,
       "justify_items": null,
       "left": null,
       "margin": null,
       "max_height": null,
       "max_width": null,
       "min_height": null,
       "min_width": null,
       "object_fit": null,
       "object_position": null,
       "order": null,
       "overflow": null,
       "overflow_x": null,
       "overflow_y": null,
       "padding": null,
       "right": null,
       "top": null,
       "visibility": null,
       "width": null
      }
     },
     "2373dbe30aca4d64b94b5bb64216151e": {
      "model_module": "@jupyter-widgets/base",
      "model_module_version": "1.2.0",
      "model_name": "LayoutModel",
      "state": {
       "_model_module": "@jupyter-widgets/base",
       "_model_module_version": "1.2.0",
       "_model_name": "LayoutModel",
       "_view_count": null,
       "_view_module": "@jupyter-widgets/base",
       "_view_module_version": "1.2.0",
       "_view_name": "LayoutView",
       "align_content": null,
       "align_items": null,
       "align_self": null,
       "border": null,
       "bottom": null,
       "display": null,
       "flex": null,
       "flex_flow": null,
       "grid_area": null,
       "grid_auto_columns": null,
       "grid_auto_flow": null,
       "grid_auto_rows": null,
       "grid_column": null,
       "grid_gap": null,
       "grid_row": null,
       "grid_template_areas": null,
       "grid_template_columns": null,
       "grid_template_rows": null,
       "height": null,
       "justify_content": null,
       "justify_items": null,
       "left": null,
       "margin": null,
       "max_height": null,
       "max_width": null,
       "min_height": null,
       "min_width": null,
       "object_fit": null,
       "object_position": null,
       "order": null,
       "overflow": null,
       "overflow_x": null,
       "overflow_y": null,
       "padding": null,
       "right": null,
       "top": null,
       "visibility": null,
       "width": null
      }
     },
     "251e902150c543d2a2212b4250931617": {
      "model_module": "@jupyter-widgets/controls",
      "model_module_version": "1.5.0",
      "model_name": "HBoxModel",
      "state": {
       "_dom_classes": [],
       "_model_module": "@jupyter-widgets/controls",
       "_model_module_version": "1.5.0",
       "_model_name": "HBoxModel",
       "_view_count": null,
       "_view_module": "@jupyter-widgets/controls",
       "_view_module_version": "1.5.0",
       "_view_name": "HBoxView",
       "box_style": "",
       "children": [
        "IPY_MODEL_7d211c0746b64a0b935fa964ad7bd858",
        "IPY_MODEL_432a848a161c4a0888dad1ac9c5408c3",
        "IPY_MODEL_181ebde2d0064fb99b8ec32e9dc76836"
       ],
       "layout": "IPY_MODEL_5d82f1a2cf554609ba65dfb95dc152e5"
      }
     },
     "2866d577bb3049b283da7c969f175d91": {
      "model_module": "@jupyter-widgets/controls",
      "model_module_version": "1.5.0",
      "model_name": "HBoxModel",
      "state": {
       "_dom_classes": [],
       "_model_module": "@jupyter-widgets/controls",
       "_model_module_version": "1.5.0",
       "_model_name": "HBoxModel",
       "_view_count": null,
       "_view_module": "@jupyter-widgets/controls",
       "_view_module_version": "1.5.0",
       "_view_name": "HBoxView",
       "box_style": "",
       "children": [
        "IPY_MODEL_673fb48e7dca47f4a3754d06af7dcf1f",
        "IPY_MODEL_bba517b096dd460cb764ccd71b57f148",
        "IPY_MODEL_362ef79e65894ea9aaae390562257f58"
       ],
       "layout": "IPY_MODEL_9d403276e05f4c368e46f353070b9d9a"
      }
     },
     "291ab6d32ec345ee8adaa6f354bfcfb4": {
      "model_module": "@jupyter-widgets/controls",
      "model_module_version": "1.5.0",
      "model_name": "HTMLModel",
      "state": {
       "_dom_classes": [],
       "_model_module": "@jupyter-widgets/controls",
       "_model_module_version": "1.5.0",
       "_model_name": "HTMLModel",
       "_view_count": null,
       "_view_module": "@jupyter-widgets/controls",
       "_view_module_version": "1.5.0",
       "_view_name": "HTMLView",
       "description": "",
       "description_tooltip": null,
       "layout": "IPY_MODEL_12d0d3a78caf4f8c93da02229f2185df",
       "placeholder": "​",
       "style": "IPY_MODEL_de3e60ed24f04a7ab49a05b98b7cf0f0",
       "value": " 36473/36473 [00:03&lt;00:00, 7261.90it/s]"
      }
     },
     "341389680b6a43d8b6b3de95dffca671": {
      "model_module": "@jupyter-widgets/base",
      "model_module_version": "1.2.0",
      "model_name": "LayoutModel",
      "state": {
       "_model_module": "@jupyter-widgets/base",
       "_model_module_version": "1.2.0",
       "_model_name": "LayoutModel",
       "_view_count": null,
       "_view_module": "@jupyter-widgets/base",
       "_view_module_version": "1.2.0",
       "_view_name": "LayoutView",
       "align_content": null,
       "align_items": null,
       "align_self": null,
       "border": null,
       "bottom": null,
       "display": null,
       "flex": null,
       "flex_flow": null,
       "grid_area": null,
       "grid_auto_columns": null,
       "grid_auto_flow": null,
       "grid_auto_rows": null,
       "grid_column": null,
       "grid_gap": null,
       "grid_row": null,
       "grid_template_areas": null,
       "grid_template_columns": null,
       "grid_template_rows": null,
       "height": null,
       "justify_content": null,
       "justify_items": null,
       "left": null,
       "margin": null,
       "max_height": null,
       "max_width": null,
       "min_height": null,
       "min_width": null,
       "object_fit": null,
       "object_position": null,
       "order": null,
       "overflow": null,
       "overflow_x": null,
       "overflow_y": null,
       "padding": null,
       "right": null,
       "top": null,
       "visibility": null,
       "width": null
      }
     },
     "349e43c8d4114c36823434cef63fc567": {
      "model_module": "@jupyter-widgets/controls",
      "model_module_version": "1.5.0",
      "model_name": "ProgressStyleModel",
      "state": {
       "_model_module": "@jupyter-widgets/controls",
       "_model_module_version": "1.5.0",
       "_model_name": "ProgressStyleModel",
       "_view_count": null,
       "_view_module": "@jupyter-widgets/base",
       "_view_module_version": "1.2.0",
       "_view_name": "StyleView",
       "bar_color": null,
       "description_width": ""
      }
     },
     "35cb92ba1b2d4932bc3a0b0640f71b0c": {
      "model_module": "@jupyter-widgets/controls",
      "model_module_version": "1.5.0",
      "model_name": "DescriptionStyleModel",
      "state": {
       "_model_module": "@jupyter-widgets/controls",
       "_model_module_version": "1.5.0",
       "_model_name": "DescriptionStyleModel",
       "_view_count": null,
       "_view_module": "@jupyter-widgets/base",
       "_view_module_version": "1.2.0",
       "_view_name": "StyleView",
       "description_width": ""
      }
     },
     "360314d0f3254b66818b8a62223c2b0b": {
      "model_module": "@jupyter-widgets/base",
      "model_module_version": "1.2.0",
      "model_name": "LayoutModel",
      "state": {
       "_model_module": "@jupyter-widgets/base",
       "_model_module_version": "1.2.0",
       "_model_name": "LayoutModel",
       "_view_count": null,
       "_view_module": "@jupyter-widgets/base",
       "_view_module_version": "1.2.0",
       "_view_name": "LayoutView",
       "align_content": null,
       "align_items": null,
       "align_self": null,
       "border": null,
       "bottom": null,
       "display": null,
       "flex": null,
       "flex_flow": null,
       "grid_area": null,
       "grid_auto_columns": null,
       "grid_auto_flow": null,
       "grid_auto_rows": null,
       "grid_column": null,
       "grid_gap": null,
       "grid_row": null,
       "grid_template_areas": null,
       "grid_template_columns": null,
       "grid_template_rows": null,
       "height": null,
       "justify_content": null,
       "justify_items": null,
       "left": null,
       "margin": null,
       "max_height": null,
       "max_width": null,
       "min_height": null,
       "min_width": null,
       "object_fit": null,
       "object_position": null,
       "order": null,
       "overflow": null,
       "overflow_x": null,
       "overflow_y": null,
       "padding": null,
       "right": null,
       "top": null,
       "visibility": null,
       "width": null
      }
     },
     "362ef79e65894ea9aaae390562257f58": {
      "model_module": "@jupyter-widgets/controls",
      "model_module_version": "1.5.0",
      "model_name": "HTMLModel",
      "state": {
       "_dom_classes": [],
       "_model_module": "@jupyter-widgets/controls",
       "_model_module_version": "1.5.0",
       "_model_name": "HTMLModel",
       "_view_count": null,
       "_view_module": "@jupyter-widgets/controls",
       "_view_module_version": "1.5.0",
       "_view_name": "HTMLView",
       "description": "",
       "description_tooltip": null,
       "layout": "IPY_MODEL_4e94a902a0d44b1eacfaeee99cd470d2",
       "placeholder": "​",
       "style": "IPY_MODEL_ad6386dafce545c48eac271bb2a3c0dd",
       "value": " 136/136 [00:00&lt;00:00, 2149.45it/s]"
      }
     },
     "39512e7ede884ec1b6fe92f794e1d74d": {
      "model_module": "@jupyter-widgets/base",
      "model_module_version": "1.2.0",
      "model_name": "LayoutModel",
      "state": {
       "_model_module": "@jupyter-widgets/base",
       "_model_module_version": "1.2.0",
       "_model_name": "LayoutModel",
       "_view_count": null,
       "_view_module": "@jupyter-widgets/base",
       "_view_module_version": "1.2.0",
       "_view_name": "LayoutView",
       "align_content": null,
       "align_items": null,
       "align_self": null,
       "border": null,
       "bottom": null,
       "display": null,
       "flex": null,
       "flex_flow": null,
       "grid_area": null,
       "grid_auto_columns": null,
       "grid_auto_flow": null,
       "grid_auto_rows": null,
       "grid_column": null,
       "grid_gap": null,
       "grid_row": null,
       "grid_template_areas": null,
       "grid_template_columns": null,
       "grid_template_rows": null,
       "height": null,
       "justify_content": null,
       "justify_items": null,
       "left": null,
       "margin": null,
       "max_height": null,
       "max_width": null,
       "min_height": null,
       "min_width": null,
       "object_fit": null,
       "object_position": null,
       "order": null,
       "overflow": null,
       "overflow_x": null,
       "overflow_y": null,
       "padding": null,
       "right": null,
       "top": null,
       "visibility": null,
       "width": null
      }
     },
     "3b0ebe22bd154b01bcb4d6b2ab2dec83": {
      "model_module": "@jupyter-widgets/controls",
      "model_module_version": "1.5.0",
      "model_name": "HTMLModel",
      "state": {
       "_dom_classes": [],
       "_model_module": "@jupyter-widgets/controls",
       "_model_module_version": "1.5.0",
       "_model_name": "HTMLModel",
       "_view_count": null,
       "_view_module": "@jupyter-widgets/controls",
       "_view_module_version": "1.5.0",
       "_view_name": "HTMLView",
       "description": "",
       "description_tooltip": null,
       "layout": "IPY_MODEL_ad4745f1eca942009bdf6cf12913f34a",
       "placeholder": "​",
       "style": "IPY_MODEL_d3b6e4a4aac943b79ba51bbacd77907e",
       "value": " 2.35M/2.35M [00:00&lt;00:00, 4.49MB/s]"
      }
     },
     "3e601d15c9ef4bd1b05e70f9267e1dfe": {
      "model_module": "@jupyter-widgets/controls",
      "model_module_version": "1.5.0",
      "model_name": "DescriptionStyleModel",
      "state": {
       "_model_module": "@jupyter-widgets/controls",
       "_model_module_version": "1.5.0",
       "_model_name": "DescriptionStyleModel",
       "_view_count": null,
       "_view_module": "@jupyter-widgets/base",
       "_view_module_version": "1.2.0",
       "_view_name": "StyleView",
       "description_width": ""
      }
     },
     "3feaf01a7f7b43ed923effab61b93ac4": {
      "model_module": "@jupyter-widgets/controls",
      "model_module_version": "1.5.0",
      "model_name": "DescriptionStyleModel",
      "state": {
       "_model_module": "@jupyter-widgets/controls",
       "_model_module_version": "1.5.0",
       "_model_name": "DescriptionStyleModel",
       "_view_count": null,
       "_view_module": "@jupyter-widgets/base",
       "_view_module_version": "1.2.0",
       "_view_name": "StyleView",
       "description_width": ""
      }
     },
     "4133e3e34f97426c9bebda989ec7e167": {
      "model_module": "@jupyter-widgets/controls",
      "model_module_version": "1.5.0",
      "model_name": "HBoxModel",
      "state": {
       "_dom_classes": [],
       "_model_module": "@jupyter-widgets/controls",
       "_model_module_version": "1.5.0",
       "_model_name": "HBoxModel",
       "_view_count": null,
       "_view_module": "@jupyter-widgets/controls",
       "_view_module_version": "1.5.0",
       "_view_name": "HBoxView",
       "box_style": "",
       "children": [
        "IPY_MODEL_48b36757767f4ff39f262dd63e844057",
        "IPY_MODEL_a03e24ff8fc54bccaa69e36839b36bab",
        "IPY_MODEL_e3e17f880bab4d47a1531bebac861fda"
       ],
       "layout": "IPY_MODEL_da88817e8aed48399b1948f8e004ee97"
      }
     },
     "43014906a0084e288ab06cb3ebf57538": {
      "model_module": "@jupyter-widgets/controls",
      "model_module_version": "1.5.0",
      "model_name": "HTMLModel",
      "state": {
       "_dom_classes": [],
       "_model_module": "@jupyter-widgets/controls",
       "_model_module_version": "1.5.0",
       "_model_name": "HTMLModel",
       "_view_count": null,
       "_view_module": "@jupyter-widgets/controls",
       "_view_module_version": "1.5.0",
       "_view_name": "HTMLView",
       "description": "",
       "description_tooltip": null,
       "layout": "IPY_MODEL_968e2989cea6490d9ee08b6700291242",
       "placeholder": "​",
       "style": "IPY_MODEL_929108014ee94c9092394cf7ef09134f",
       "value": "Downloading: 100%"
      }
     },
     "432a848a161c4a0888dad1ac9c5408c3": {
      "model_module": "@jupyter-widgets/controls",
      "model_module_version": "1.5.0",
      "model_name": "FloatProgressModel",
      "state": {
       "_dom_classes": [],
       "_model_module": "@jupyter-widgets/controls",
       "_model_module_version": "1.5.0",
       "_model_name": "FloatProgressModel",
       "_view_count": null,
       "_view_module": "@jupyter-widgets/controls",
       "_view_module_version": "1.5.0",
       "_view_name": "ProgressView",
       "bar_style": "success",
       "description": "",
       "description_tooltip": null,
       "layout": "IPY_MODEL_39512e7ede884ec1b6fe92f794e1d74d",
       "max": 36473,
       "min": 0,
       "orientation": "horizontal",
       "style": "IPY_MODEL_466a744f951d433da986e75bc9fd3b69",
       "value": 36473
      }
     },
     "466a744f951d433da986e75bc9fd3b69": {
      "model_module": "@jupyter-widgets/controls",
      "model_module_version": "1.5.0",
      "model_name": "ProgressStyleModel",
      "state": {
       "_model_module": "@jupyter-widgets/controls",
       "_model_module_version": "1.5.0",
       "_model_name": "ProgressStyleModel",
       "_view_count": null,
       "_view_module": "@jupyter-widgets/base",
       "_view_module_version": "1.2.0",
       "_view_name": "StyleView",
       "bar_color": null,
       "description_width": ""
      }
     },
     "46ab7441760642718f381e7f430e16a0": {
      "model_module": "@jupyter-widgets/controls",
      "model_module_version": "1.5.0",
      "model_name": "DescriptionStyleModel",
      "state": {
       "_model_module": "@jupyter-widgets/controls",
       "_model_module_version": "1.5.0",
       "_model_name": "DescriptionStyleModel",
       "_view_count": null,
       "_view_module": "@jupyter-widgets/base",
       "_view_module_version": "1.2.0",
       "_view_name": "StyleView",
       "description_width": ""
      }
     },
     "48b36757767f4ff39f262dd63e844057": {
      "model_module": "@jupyter-widgets/controls",
      "model_module_version": "1.5.0",
      "model_name": "HTMLModel",
      "state": {
       "_dom_classes": [],
       "_model_module": "@jupyter-widgets/controls",
       "_model_module_version": "1.5.0",
       "_model_name": "HTMLModel",
       "_view_count": null,
       "_view_module": "@jupyter-widgets/controls",
       "_view_module_version": "1.5.0",
       "_view_name": "HTMLView",
       "description": "",
       "description_tooltip": null,
       "layout": "IPY_MODEL_14972cafd36646939e742a987e1d0ec7",
       "placeholder": "​",
       "style": "IPY_MODEL_3e601d15c9ef4bd1b05e70f9267e1dfe",
       "value": "Downloading: 100%"
      }
     },
     "4c514a00a080445da009d272716b3577": {
      "model_module": "@jupyter-widgets/controls",
      "model_module_version": "1.5.0",
      "model_name": "HTMLModel",
      "state": {
       "_dom_classes": [],
       "_model_module": "@jupyter-widgets/controls",
       "_model_module_version": "1.5.0",
       "_model_name": "HTMLModel",
       "_view_count": null,
       "_view_module": "@jupyter-widgets/controls",
       "_view_module_version": "1.5.0",
       "_view_name": "HTMLView",
       "description": "",
       "description_tooltip": null,
       "layout": "IPY_MODEL_81b1213eb9dc4aa083951352d9f6beaf",
       "placeholder": "​",
       "style": "IPY_MODEL_7603cb9268524ed3821b4f307f74d15e",
       "value": "Downloading: 100%"
      }
     },
     "4e94a902a0d44b1eacfaeee99cd470d2": {
      "model_module": "@jupyter-widgets/base",
      "model_module_version": "1.2.0",
      "model_name": "LayoutModel",
      "state": {
       "_model_module": "@jupyter-widgets/base",
       "_model_module_version": "1.2.0",
       "_model_name": "LayoutModel",
       "_view_count": null,
       "_view_module": "@jupyter-widgets/base",
       "_view_module_version": "1.2.0",
       "_view_name": "LayoutView",
       "align_content": null,
       "align_items": null,
       "align_self": null,
       "border": null,
       "bottom": null,
       "display": null,
       "flex": null,
       "flex_flow": null,
       "grid_area": null,
       "grid_auto_columns": null,
       "grid_auto_flow": null,
       "grid_auto_rows": null,
       "grid_column": null,
       "grid_gap": null,
       "grid_row": null,
       "grid_template_areas": null,
       "grid_template_columns": null,
       "grid_template_rows": null,
       "height": null,
       "justify_content": null,
       "justify_items": null,
       "left": null,
       "margin": null,
       "max_height": null,
       "max_width": null,
       "min_height": null,
       "min_width": null,
       "object_fit": null,
       "object_position": null,
       "order": null,
       "overflow": null,
       "overflow_x": null,
       "overflow_y": null,
       "padding": null,
       "right": null,
       "top": null,
       "visibility": null,
       "width": null
      }
     },
     "5235854cc7964193afec8b3316b36ef7": {
      "model_module": "@jupyter-widgets/controls",
      "model_module_version": "1.5.0",
      "model_name": "HBoxModel",
      "state": {
       "_dom_classes": [],
       "_model_module": "@jupyter-widgets/controls",
       "_model_module_version": "1.5.0",
       "_model_name": "HBoxModel",
       "_view_count": null,
       "_view_module": "@jupyter-widgets/controls",
       "_view_module_version": "1.5.0",
       "_view_name": "HBoxView",
       "box_style": "",
       "children": [
        "IPY_MODEL_58c973b1ea8a446e9993f32d3612c8b9",
        "IPY_MODEL_b849e52bd84942e583de4b9325c96afe",
        "IPY_MODEL_291ab6d32ec345ee8adaa6f354bfcfb4"
       ],
       "layout": "IPY_MODEL_fb6b7fc69b2549ab9d80d71017422178"
      }
     },
     "58c973b1ea8a446e9993f32d3612c8b9": {
      "model_module": "@jupyter-widgets/controls",
      "model_module_version": "1.5.0",
      "model_name": "HTMLModel",
      "state": {
       "_dom_classes": [],
       "_model_module": "@jupyter-widgets/controls",
       "_model_module_version": "1.5.0",
       "_model_name": "HTMLModel",
       "_view_count": null,
       "_view_module": "@jupyter-widgets/controls",
       "_view_module_version": "1.5.0",
       "_view_name": "HTMLView",
       "description": "",
       "description_tooltip": null,
       "layout": "IPY_MODEL_360314d0f3254b66818b8a62223c2b0b",
       "placeholder": "​",
       "style": "IPY_MODEL_c5de80b22af543edb57e65780298069e",
       "value": "100%"
      }
     },
     "5a2b3274110a42159fcfb2e01ceea10a": {
      "model_module": "@jupyter-widgets/controls",
      "model_module_version": "1.5.0",
      "model_name": "HBoxModel",
      "state": {
       "_dom_classes": [],
       "_model_module": "@jupyter-widgets/controls",
       "_model_module_version": "1.5.0",
       "_model_name": "HBoxModel",
       "_view_count": null,
       "_view_module": "@jupyter-widgets/controls",
       "_view_module_version": "1.5.0",
       "_view_name": "HBoxView",
       "box_style": "",
       "children": [
        "IPY_MODEL_43014906a0084e288ab06cb3ebf57538",
        "IPY_MODEL_1c5d07635bff4f7999e3e8486f648aaf",
        "IPY_MODEL_3b0ebe22bd154b01bcb4d6b2ab2dec83"
       ],
       "layout": "IPY_MODEL_2373dbe30aca4d64b94b5bb64216151e"
      }
     },
     "5d82f1a2cf554609ba65dfb95dc152e5": {
      "model_module": "@jupyter-widgets/base",
      "model_module_version": "1.2.0",
      "model_name": "LayoutModel",
      "state": {
       "_model_module": "@jupyter-widgets/base",
       "_model_module_version": "1.2.0",
       "_model_name": "LayoutModel",
       "_view_count": null,
       "_view_module": "@jupyter-widgets/base",
       "_view_module_version": "1.2.0",
       "_view_name": "LayoutView",
       "align_content": null,
       "align_items": null,
       "align_self": null,
       "border": null,
       "bottom": null,
       "display": null,
       "flex": null,
       "flex_flow": null,
       "grid_area": null,
       "grid_auto_columns": null,
       "grid_auto_flow": null,
       "grid_auto_rows": null,
       "grid_column": null,
       "grid_gap": null,
       "grid_row": null,
       "grid_template_areas": null,
       "grid_template_columns": null,
       "grid_template_rows": null,
       "height": null,
       "justify_content": null,
       "justify_items": null,
       "left": null,
       "margin": null,
       "max_height": null,
       "max_width": null,
       "min_height": null,
       "min_width": null,
       "object_fit": null,
       "object_position": null,
       "order": null,
       "overflow": null,
       "overflow_x": null,
       "overflow_y": null,
       "padding": null,
       "right": null,
       "top": null,
       "visibility": null,
       "width": null
      }
     },
     "5ffb53b010e948a0918366a7721dd7a9": {
      "model_module": "@jupyter-widgets/controls",
      "model_module_version": "1.5.0",
      "model_name": "LabelModel",
      "state": {
       "_dom_classes": [],
       "_model_module": "@jupyter-widgets/controls",
       "_model_module_version": "1.5.0",
       "_model_name": "LabelModel",
       "_view_count": null,
       "_view_module": "@jupyter-widgets/controls",
       "_view_module_version": "1.5.0",
       "_view_name": "LabelView",
       "description": "",
       "description_tooltip": null,
       "layout": "IPY_MODEL_aaf4c8e1ae794178bd2db64c5c27edcd",
       "placeholder": "​",
       "style": "IPY_MODEL_ff0d93c0f2a54cae8698028db31d1454",
       "value": "0.065 MB of 0.065 MB uploaded (0.000 MB deduped)\r"
      }
     },
     "65f9dfd885184f818373dcaf8b820da7": {
      "model_module": "@jupyter-widgets/base",
      "model_module_version": "1.2.0",
      "model_name": "LayoutModel",
      "state": {
       "_model_module": "@jupyter-widgets/base",
       "_model_module_version": "1.2.0",
       "_model_name": "LayoutModel",
       "_view_count": null,
       "_view_module": "@jupyter-widgets/base",
       "_view_module_version": "1.2.0",
       "_view_name": "LayoutView",
       "align_content": null,
       "align_items": null,
       "align_self": null,
       "border": null,
       "bottom": null,
       "display": null,
       "flex": null,
       "flex_flow": null,
       "grid_area": null,
       "grid_auto_columns": null,
       "grid_auto_flow": null,
       "grid_auto_rows": null,
       "grid_column": null,
       "grid_gap": null,
       "grid_row": null,
       "grid_template_areas": null,
       "grid_template_columns": null,
       "grid_template_rows": null,
       "height": null,
       "justify_content": null,
       "justify_items": null,
       "left": null,
       "margin": null,
       "max_height": null,
       "max_width": null,
       "min_height": null,
       "min_width": null,
       "object_fit": null,
       "object_position": null,
       "order": null,
       "overflow": null,
       "overflow_x": null,
       "overflow_y": null,
       "padding": null,
       "right": null,
       "top": null,
       "visibility": null,
       "width": null
      }
     },
     "673fb48e7dca47f4a3754d06af7dcf1f": {
      "model_module": "@jupyter-widgets/controls",
      "model_module_version": "1.5.0",
      "model_name": "HTMLModel",
      "state": {
       "_dom_classes": [],
       "_model_module": "@jupyter-widgets/controls",
       "_model_module_version": "1.5.0",
       "_model_name": "HTMLModel",
       "_view_count": null,
       "_view_module": "@jupyter-widgets/controls",
       "_view_module_version": "1.5.0",
       "_view_name": "HTMLView",
       "description": "",
       "description_tooltip": null,
       "layout": "IPY_MODEL_749c407f4aa34689954d06117f699f3c",
       "placeholder": "​",
       "style": "IPY_MODEL_bb944cd3fb694105a4d535f4e9c333a8",
       "value": "100%"
      }
     },
     "6947506e822e46d99b4dd82a8a4209cd": {
      "model_module": "@jupyter-widgets/base",
      "model_module_version": "1.2.0",
      "model_name": "LayoutModel",
      "state": {
       "_model_module": "@jupyter-widgets/base",
       "_model_module_version": "1.2.0",
       "_model_name": "LayoutModel",
       "_view_count": null,
       "_view_module": "@jupyter-widgets/base",
       "_view_module_version": "1.2.0",
       "_view_name": "LayoutView",
       "align_content": null,
       "align_items": null,
       "align_self": null,
       "border": null,
       "bottom": null,
       "display": null,
       "flex": null,
       "flex_flow": null,
       "grid_area": null,
       "grid_auto_columns": null,
       "grid_auto_flow": null,
       "grid_auto_rows": null,
       "grid_column": null,
       "grid_gap": null,
       "grid_row": null,
       "grid_template_areas": null,
       "grid_template_columns": null,
       "grid_template_rows": null,
       "height": null,
       "justify_content": null,
       "justify_items": null,
       "left": null,
       "margin": null,
       "max_height": null,
       "max_width": null,
       "min_height": null,
       "min_width": null,
       "object_fit": null,
       "object_position": null,
       "order": null,
       "overflow": null,
       "overflow_x": null,
       "overflow_y": null,
       "padding": null,
       "right": null,
       "top": null,
       "visibility": null,
       "width": null
      }
     },
     "749c407f4aa34689954d06117f699f3c": {
      "model_module": "@jupyter-widgets/base",
      "model_module_version": "1.2.0",
      "model_name": "LayoutModel",
      "state": {
       "_model_module": "@jupyter-widgets/base",
       "_model_module_version": "1.2.0",
       "_model_name": "LayoutModel",
       "_view_count": null,
       "_view_module": "@jupyter-widgets/base",
       "_view_module_version": "1.2.0",
       "_view_name": "LayoutView",
       "align_content": null,
       "align_items": null,
       "align_self": null,
       "border": null,
       "bottom": null,
       "display": null,
       "flex": null,
       "flex_flow": null,
       "grid_area": null,
       "grid_auto_columns": null,
       "grid_auto_flow": null,
       "grid_auto_rows": null,
       "grid_column": null,
       "grid_gap": null,
       "grid_row": null,
       "grid_template_areas": null,
       "grid_template_columns": null,
       "grid_template_rows": null,
       "height": null,
       "justify_content": null,
       "justify_items": null,
       "left": null,
       "margin": null,
       "max_height": null,
       "max_width": null,
       "min_height": null,
       "min_width": null,
       "object_fit": null,
       "object_position": null,
       "order": null,
       "overflow": null,
       "overflow_x": null,
       "overflow_y": null,
       "padding": null,
       "right": null,
       "top": null,
       "visibility": null,
       "width": null
      }
     },
     "7603cb9268524ed3821b4f307f74d15e": {
      "model_module": "@jupyter-widgets/controls",
      "model_module_version": "1.5.0",
      "model_name": "DescriptionStyleModel",
      "state": {
       "_model_module": "@jupyter-widgets/controls",
       "_model_module_version": "1.5.0",
       "_model_name": "DescriptionStyleModel",
       "_view_count": null,
       "_view_module": "@jupyter-widgets/base",
       "_view_module_version": "1.2.0",
       "_view_name": "StyleView",
       "description_width": ""
      }
     },
     "7d211c0746b64a0b935fa964ad7bd858": {
      "model_module": "@jupyter-widgets/controls",
      "model_module_version": "1.5.0",
      "model_name": "HTMLModel",
      "state": {
       "_dom_classes": [],
       "_model_module": "@jupyter-widgets/controls",
       "_model_module_version": "1.5.0",
       "_model_name": "HTMLModel",
       "_view_count": null,
       "_view_module": "@jupyter-widgets/controls",
       "_view_module_version": "1.5.0",
       "_view_name": "HTMLView",
       "description": "",
       "description_tooltip": null,
       "layout": "IPY_MODEL_f836cfd56e0d4d7188f1b263a5845bff",
       "placeholder": "​",
       "style": "IPY_MODEL_a87f939ae9cb44bf8d9eed523f5cb995",
       "value": "100%"
      }
     },
     "7fb6ee0e688440bab23c07808e5cef8b": {
      "model_module": "@jupyter-widgets/controls",
      "model_module_version": "1.5.0",
      "model_name": "FloatProgressModel",
      "state": {
       "_dom_classes": [],
       "_model_module": "@jupyter-widgets/controls",
       "_model_module_version": "1.5.0",
       "_model_name": "FloatProgressModel",
       "_view_count": null,
       "_view_module": "@jupyter-widgets/controls",
       "_view_module_version": "1.5.0",
       "_view_name": "ProgressView",
       "bar_style": "success",
       "description": "",
       "description_tooltip": null,
       "layout": "IPY_MODEL_c0dcc3eeec934d289bf99c7d14bab090",
       "max": 873673253,
       "min": 0,
       "orientation": "horizontal",
       "style": "IPY_MODEL_c4ff773d63e34e0c93e23aa455a97958",
       "value": 873673253
      }
     },
     "80f827d24b2e421bbe84d92c8dcc002b": {
      "model_module": "@jupyter-widgets/base",
      "model_module_version": "1.2.0",
      "model_name": "LayoutModel",
      "state": {
       "_model_module": "@jupyter-widgets/base",
       "_model_module_version": "1.2.0",
       "_model_name": "LayoutModel",
       "_view_count": null,
       "_view_module": "@jupyter-widgets/base",
       "_view_module_version": "1.2.0",
       "_view_name": "LayoutView",
       "align_content": null,
       "align_items": null,
       "align_self": null,
       "border": null,
       "bottom": null,
       "display": null,
       "flex": null,
       "flex_flow": null,
       "grid_area": null,
       "grid_auto_columns": null,
       "grid_auto_flow": null,
       "grid_auto_rows": null,
       "grid_column": null,
       "grid_gap": null,
       "grid_row": null,
       "grid_template_areas": null,
       "grid_template_columns": null,
       "grid_template_rows": null,
       "height": null,
       "justify_content": null,
       "justify_items": null,
       "left": null,
       "margin": null,
       "max_height": null,
       "max_width": null,
       "min_height": null,
       "min_width": null,
       "object_fit": null,
       "object_position": null,
       "order": null,
       "overflow": null,
       "overflow_x": null,
       "overflow_y": null,
       "padding": null,
       "right": null,
       "top": null,
       "visibility": null,
       "width": null
      }
     },
     "81b1213eb9dc4aa083951352d9f6beaf": {
      "model_module": "@jupyter-widgets/base",
      "model_module_version": "1.2.0",
      "model_name": "LayoutModel",
      "state": {
       "_model_module": "@jupyter-widgets/base",
       "_model_module_version": "1.2.0",
       "_model_name": "LayoutModel",
       "_view_count": null,
       "_view_module": "@jupyter-widgets/base",
       "_view_module_version": "1.2.0",
       "_view_name": "LayoutView",
       "align_content": null,
       "align_items": null,
       "align_self": null,
       "border": null,
       "bottom": null,
       "display": null,
       "flex": null,
       "flex_flow": null,
       "grid_area": null,
       "grid_auto_columns": null,
       "grid_auto_flow": null,
       "grid_auto_rows": null,
       "grid_column": null,
       "grid_gap": null,
       "grid_row": null,
       "grid_template_areas": null,
       "grid_template_columns": null,
       "grid_template_rows": null,
       "height": null,
       "justify_content": null,
       "justify_items": null,
       "left": null,
       "margin": null,
       "max_height": null,
       "max_width": null,
       "min_height": null,
       "min_width": null,
       "object_fit": null,
       "object_position": null,
       "order": null,
       "overflow": null,
       "overflow_x": null,
       "overflow_y": null,
       "padding": null,
       "right": null,
       "top": null,
       "visibility": null,
       "width": null
      }
     },
     "82f268442b1349268246323595e0f371": {
      "model_module": "@jupyter-widgets/controls",
      "model_module_version": "1.5.0",
      "model_name": "HBoxModel",
      "state": {
       "_dom_classes": [],
       "_model_module": "@jupyter-widgets/controls",
       "_model_module_version": "1.5.0",
       "_model_name": "HBoxModel",
       "_view_count": null,
       "_view_module": "@jupyter-widgets/controls",
       "_view_module_version": "1.5.0",
       "_view_name": "HBoxView",
       "box_style": "",
       "children": [
        "IPY_MODEL_4c514a00a080445da009d272716b3577",
        "IPY_MODEL_b4e52efc58b54c81a39fa8e5fc26eedd",
        "IPY_MODEL_a1cafe17bdf945aa8a33875d0590f7a2"
       ],
       "layout": "IPY_MODEL_65f9dfd885184f818373dcaf8b820da7"
      }
     },
     "842a840396ab4cefb93cc2733bf00cf7": {
      "model_module": "@jupyter-widgets/controls",
      "model_module_version": "1.5.0",
      "model_name": "DescriptionStyleModel",
      "state": {
       "_model_module": "@jupyter-widgets/controls",
       "_model_module_version": "1.5.0",
       "_model_name": "DescriptionStyleModel",
       "_view_count": null,
       "_view_module": "@jupyter-widgets/base",
       "_view_module_version": "1.2.0",
       "_view_name": "StyleView",
       "description_width": ""
      }
     },
     "86af7db3cea442beb67da28063f15ed6": {
      "model_module": "@jupyter-widgets/controls",
      "model_module_version": "1.5.0",
      "model_name": "FloatProgressModel",
      "state": {
       "_dom_classes": [],
       "_model_module": "@jupyter-widgets/controls",
       "_model_module_version": "1.5.0",
       "_model_name": "FloatProgressModel",
       "_view_count": null,
       "_view_module": "@jupyter-widgets/controls",
       "_view_module_version": "1.5.0",
       "_view_name": "ProgressView",
       "bar_style": "",
       "description": "",
       "description_tooltip": null,
       "layout": "IPY_MODEL_be8bbaca794c4ab0b387c44fc3d2637f",
       "max": 1,
       "min": 0,
       "orientation": "horizontal",
       "style": "IPY_MODEL_126a1e5f24e44838a03204815209c5dc",
       "value": 1
      }
     },
     "87214ce12c1f422481a0fe3caf5a3ce8": {
      "model_module": "@jupyter-widgets/base",
      "model_module_version": "1.2.0",
      "model_name": "LayoutModel",
      "state": {
       "_model_module": "@jupyter-widgets/base",
       "_model_module_version": "1.2.0",
       "_model_name": "LayoutModel",
       "_view_count": null,
       "_view_module": "@jupyter-widgets/base",
       "_view_module_version": "1.2.0",
       "_view_name": "LayoutView",
       "align_content": null,
       "align_items": null,
       "align_self": null,
       "border": null,
       "bottom": null,
       "display": null,
       "flex": null,
       "flex_flow": null,
       "grid_area": null,
       "grid_auto_columns": null,
       "grid_auto_flow": null,
       "grid_auto_rows": null,
       "grid_column": null,
       "grid_gap": null,
       "grid_row": null,
       "grid_template_areas": null,
       "grid_template_columns": null,
       "grid_template_rows": null,
       "height": null,
       "justify_content": null,
       "justify_items": null,
       "left": null,
       "margin": null,
       "max_height": null,
       "max_width": null,
       "min_height": null,
       "min_width": null,
       "object_fit": null,
       "object_position": null,
       "order": null,
       "overflow": null,
       "overflow_x": null,
       "overflow_y": null,
       "padding": null,
       "right": null,
       "top": null,
       "visibility": null,
       "width": null
      }
     },
     "874dcbcfa5c94b938abebb1c7d00007c": {
      "model_module": "@jupyter-widgets/controls",
      "model_module_version": "1.5.0",
      "model_name": "ProgressStyleModel",
      "state": {
       "_model_module": "@jupyter-widgets/controls",
       "_model_module_version": "1.5.0",
       "_model_name": "ProgressStyleModel",
       "_view_count": null,
       "_view_module": "@jupyter-widgets/base",
       "_view_module_version": "1.2.0",
       "_view_name": "StyleView",
       "bar_color": null,
       "description_width": ""
      }
     },
     "8ae7b72a5b9f4533a2076af3fb7786bd": {
      "model_module": "@jupyter-widgets/controls",
      "model_module_version": "1.5.0",
      "model_name": "DescriptionStyleModel",
      "state": {
       "_model_module": "@jupyter-widgets/controls",
       "_model_module_version": "1.5.0",
       "_model_name": "DescriptionStyleModel",
       "_view_count": null,
       "_view_module": "@jupyter-widgets/base",
       "_view_module_version": "1.2.0",
       "_view_name": "StyleView",
       "description_width": ""
      }
     },
     "929108014ee94c9092394cf7ef09134f": {
      "model_module": "@jupyter-widgets/controls",
      "model_module_version": "1.5.0",
      "model_name": "DescriptionStyleModel",
      "state": {
       "_model_module": "@jupyter-widgets/controls",
       "_model_module_version": "1.5.0",
       "_model_name": "DescriptionStyleModel",
       "_view_count": null,
       "_view_module": "@jupyter-widgets/base",
       "_view_module_version": "1.2.0",
       "_view_name": "StyleView",
       "description_width": ""
      }
     },
     "968e2989cea6490d9ee08b6700291242": {
      "model_module": "@jupyter-widgets/base",
      "model_module_version": "1.2.0",
      "model_name": "LayoutModel",
      "state": {
       "_model_module": "@jupyter-widgets/base",
       "_model_module_version": "1.2.0",
       "_model_name": "LayoutModel",
       "_view_count": null,
       "_view_module": "@jupyter-widgets/base",
       "_view_module_version": "1.2.0",
       "_view_name": "LayoutView",
       "align_content": null,
       "align_items": null,
       "align_self": null,
       "border": null,
       "bottom": null,
       "display": null,
       "flex": null,
       "flex_flow": null,
       "grid_area": null,
       "grid_auto_columns": null,
       "grid_auto_flow": null,
       "grid_auto_rows": null,
       "grid_column": null,
       "grid_gap": null,
       "grid_row": null,
       "grid_template_areas": null,
       "grid_template_columns": null,
       "grid_template_rows": null,
       "height": null,
       "justify_content": null,
       "justify_items": null,
       "left": null,
       "margin": null,
       "max_height": null,
       "max_width": null,
       "min_height": null,
       "min_width": null,
       "object_fit": null,
       "object_position": null,
       "order": null,
       "overflow": null,
       "overflow_x": null,
       "overflow_y": null,
       "padding": null,
       "right": null,
       "top": null,
       "visibility": null,
       "width": null
      }
     },
     "9901f18e7e5841b8bfcb918c432ef718": {
      "model_module": "@jupyter-widgets/base",
      "model_module_version": "1.2.0",
      "model_name": "LayoutModel",
      "state": {
       "_model_module": "@jupyter-widgets/base",
       "_model_module_version": "1.2.0",
       "_model_name": "LayoutModel",
       "_view_count": null,
       "_view_module": "@jupyter-widgets/base",
       "_view_module_version": "1.2.0",
       "_view_name": "LayoutView",
       "align_content": null,
       "align_items": null,
       "align_self": null,
       "border": null,
       "bottom": null,
       "display": null,
       "flex": null,
       "flex_flow": null,
       "grid_area": null,
       "grid_auto_columns": null,
       "grid_auto_flow": null,
       "grid_auto_rows": null,
       "grid_column": null,
       "grid_gap": null,
       "grid_row": null,
       "grid_template_areas": null,
       "grid_template_columns": null,
       "grid_template_rows": null,
       "height": null,
       "justify_content": null,
       "justify_items": null,
       "left": null,
       "margin": null,
       "max_height": null,
       "max_width": null,
       "min_height": null,
       "min_width": null,
       "object_fit": null,
       "object_position": null,
       "order": null,
       "overflow": null,
       "overflow_x": null,
       "overflow_y": null,
       "padding": null,
       "right": null,
       "top": null,
       "visibility": null,
       "width": null
      }
     },
     "9d403276e05f4c368e46f353070b9d9a": {
      "model_module": "@jupyter-widgets/base",
      "model_module_version": "1.2.0",
      "model_name": "LayoutModel",
      "state": {
       "_model_module": "@jupyter-widgets/base",
       "_model_module_version": "1.2.0",
       "_model_name": "LayoutModel",
       "_view_count": null,
       "_view_module": "@jupyter-widgets/base",
       "_view_module_version": "1.2.0",
       "_view_name": "LayoutView",
       "align_content": null,
       "align_items": null,
       "align_self": null,
       "border": null,
       "bottom": null,
       "display": null,
       "flex": null,
       "flex_flow": null,
       "grid_area": null,
       "grid_auto_columns": null,
       "grid_auto_flow": null,
       "grid_auto_rows": null,
       "grid_column": null,
       "grid_gap": null,
       "grid_row": null,
       "grid_template_areas": null,
       "grid_template_columns": null,
       "grid_template_rows": null,
       "height": null,
       "justify_content": null,
       "justify_items": null,
       "left": null,
       "margin": null,
       "max_height": null,
       "max_width": null,
       "min_height": null,
       "min_width": null,
       "object_fit": null,
       "object_position": null,
       "order": null,
       "overflow": null,
       "overflow_x": null,
       "overflow_y": null,
       "padding": null,
       "right": null,
       "top": null,
       "visibility": null,
       "width": null
      }
     },
     "a03e24ff8fc54bccaa69e36839b36bab": {
      "model_module": "@jupyter-widgets/controls",
      "model_module_version": "1.5.0",
      "model_name": "FloatProgressModel",
      "state": {
       "_dom_classes": [],
       "_model_module": "@jupyter-widgets/controls",
       "_model_module_version": "1.5.0",
       "_model_name": "FloatProgressModel",
       "_view_count": null,
       "_view_module": "@jupyter-widgets/controls",
       "_view_module_version": "1.5.0",
       "_view_name": "ProgressView",
       "bar_style": "success",
       "description": "",
       "description_tooltip": null,
       "layout": "IPY_MODEL_80f827d24b2e421bbe84d92c8dcc002b",
       "max": 580,
       "min": 0,
       "orientation": "horizontal",
       "style": "IPY_MODEL_349e43c8d4114c36823434cef63fc567",
       "value": 580
      }
     },
     "a1cafe17bdf945aa8a33875d0590f7a2": {
      "model_module": "@jupyter-widgets/controls",
      "model_module_version": "1.5.0",
      "model_name": "HTMLModel",
      "state": {
       "_dom_classes": [],
       "_model_module": "@jupyter-widgets/controls",
       "_model_module_version": "1.5.0",
       "_model_name": "HTMLModel",
       "_view_count": null,
       "_view_module": "@jupyter-widgets/controls",
       "_view_module_version": "1.5.0",
       "_view_name": "HTMLView",
       "description": "",
       "description_tooltip": null,
       "layout": "IPY_MODEL_dd68281fe7ea499882e5d23a5bbfb9f0",
       "placeholder": "​",
       "style": "IPY_MODEL_8ae7b72a5b9f4533a2076af3fb7786bd",
       "value": " 52.0/52.0 [00:00&lt;00:00, 2.03kB/s]"
      }
     },
     "a3f3db4032b54ac49421d5cbd31a9533": {
      "model_module": "@jupyter-widgets/base",
      "model_module_version": "1.2.0",
      "model_name": "LayoutModel",
      "state": {
       "_model_module": "@jupyter-widgets/base",
       "_model_module_version": "1.2.0",
       "_model_name": "LayoutModel",
       "_view_count": null,
       "_view_module": "@jupyter-widgets/base",
       "_view_module_version": "1.2.0",
       "_view_name": "LayoutView",
       "align_content": null,
       "align_items": null,
       "align_self": null,
       "border": null,
       "bottom": null,
       "display": null,
       "flex": null,
       "flex_flow": null,
       "grid_area": null,
       "grid_auto_columns": null,
       "grid_auto_flow": null,
       "grid_auto_rows": null,
       "grid_column": null,
       "grid_gap": null,
       "grid_row": null,
       "grid_template_areas": null,
       "grid_template_columns": null,
       "grid_template_rows": null,
       "height": null,
       "justify_content": null,
       "justify_items": null,
       "left": null,
       "margin": null,
       "max_height": null,
       "max_width": null,
       "min_height": null,
       "min_width": null,
       "object_fit": null,
       "object_position": null,
       "order": null,
       "overflow": null,
       "overflow_x": null,
       "overflow_y": null,
       "padding": null,
       "right": null,
       "top": null,
       "visibility": null,
       "width": null
      }
     },
     "a87f939ae9cb44bf8d9eed523f5cb995": {
      "model_module": "@jupyter-widgets/controls",
      "model_module_version": "1.5.0",
      "model_name": "DescriptionStyleModel",
      "state": {
       "_model_module": "@jupyter-widgets/controls",
       "_model_module_version": "1.5.0",
       "_model_name": "DescriptionStyleModel",
       "_view_count": null,
       "_view_module": "@jupyter-widgets/base",
       "_view_module_version": "1.2.0",
       "_view_name": "StyleView",
       "description_width": ""
      }
     },
     "aaf4c8e1ae794178bd2db64c5c27edcd": {
      "model_module": "@jupyter-widgets/base",
      "model_module_version": "1.2.0",
      "model_name": "LayoutModel",
      "state": {
       "_model_module": "@jupyter-widgets/base",
       "_model_module_version": "1.2.0",
       "_model_name": "LayoutModel",
       "_view_count": null,
       "_view_module": "@jupyter-widgets/base",
       "_view_module_version": "1.2.0",
       "_view_name": "LayoutView",
       "align_content": null,
       "align_items": null,
       "align_self": null,
       "border": null,
       "bottom": null,
       "display": null,
       "flex": null,
       "flex_flow": null,
       "grid_area": null,
       "grid_auto_columns": null,
       "grid_auto_flow": null,
       "grid_auto_rows": null,
       "grid_column": null,
       "grid_gap": null,
       "grid_row": null,
       "grid_template_areas": null,
       "grid_template_columns": null,
       "grid_template_rows": null,
       "height": null,
       "justify_content": null,
       "justify_items": null,
       "left": null,
       "margin": null,
       "max_height": null,
       "max_width": null,
       "min_height": null,
       "min_width": null,
       "object_fit": null,
       "object_position": null,
       "order": null,
       "overflow": null,
       "overflow_x": null,
       "overflow_y": null,
       "padding": null,
       "right": null,
       "top": null,
       "visibility": null,
       "width": null
      }
     },
     "ab615699cb634117a739e8673396b52d": {
      "model_module": "@jupyter-widgets/controls",
      "model_module_version": "1.5.0",
      "model_name": "ProgressStyleModel",
      "state": {
       "_model_module": "@jupyter-widgets/controls",
       "_model_module_version": "1.5.0",
       "_model_name": "ProgressStyleModel",
       "_view_count": null,
       "_view_module": "@jupyter-widgets/base",
       "_view_module_version": "1.2.0",
       "_view_name": "StyleView",
       "bar_color": null,
       "description_width": ""
      }
     },
     "ad4745f1eca942009bdf6cf12913f34a": {
      "model_module": "@jupyter-widgets/base",
      "model_module_version": "1.2.0",
      "model_name": "LayoutModel",
      "state": {
       "_model_module": "@jupyter-widgets/base",
       "_model_module_version": "1.2.0",
       "_model_name": "LayoutModel",
       "_view_count": null,
       "_view_module": "@jupyter-widgets/base",
       "_view_module_version": "1.2.0",
       "_view_name": "LayoutView",
       "align_content": null,
       "align_items": null,
       "align_self": null,
       "border": null,
       "bottom": null,
       "display": null,
       "flex": null,
       "flex_flow": null,
       "grid_area": null,
       "grid_auto_columns": null,
       "grid_auto_flow": null,
       "grid_auto_rows": null,
       "grid_column": null,
       "grid_gap": null,
       "grid_row": null,
       "grid_template_areas": null,
       "grid_template_columns": null,
       "grid_template_rows": null,
       "height": null,
       "justify_content": null,
       "justify_items": null,
       "left": null,
       "margin": null,
       "max_height": null,
       "max_width": null,
       "min_height": null,
       "min_width": null,
       "object_fit": null,
       "object_position": null,
       "order": null,
       "overflow": null,
       "overflow_x": null,
       "overflow_y": null,
       "padding": null,
       "right": null,
       "top": null,
       "visibility": null,
       "width": null
      }
     },
     "ad6386dafce545c48eac271bb2a3c0dd": {
      "model_module": "@jupyter-widgets/controls",
      "model_module_version": "1.5.0",
      "model_name": "DescriptionStyleModel",
      "state": {
       "_model_module": "@jupyter-widgets/controls",
       "_model_module_version": "1.5.0",
       "_model_name": "DescriptionStyleModel",
       "_view_count": null,
       "_view_module": "@jupyter-widgets/base",
       "_view_module_version": "1.2.0",
       "_view_name": "StyleView",
       "description_width": ""
      }
     },
     "b4e52efc58b54c81a39fa8e5fc26eedd": {
      "model_module": "@jupyter-widgets/controls",
      "model_module_version": "1.5.0",
      "model_name": "FloatProgressModel",
      "state": {
       "_dom_classes": [],
       "_model_module": "@jupyter-widgets/controls",
       "_model_module_version": "1.5.0",
       "_model_name": "FloatProgressModel",
       "_view_count": null,
       "_view_module": "@jupyter-widgets/controls",
       "_view_module_version": "1.5.0",
       "_view_name": "ProgressView",
       "bar_style": "success",
       "description": "",
       "description_tooltip": null,
       "layout": "IPY_MODEL_6947506e822e46d99b4dd82a8a4209cd",
       "max": 52,
       "min": 0,
       "orientation": "horizontal",
       "style": "IPY_MODEL_874dcbcfa5c94b938abebb1c7d00007c",
       "value": 52
      }
     },
     "b6f3605957844ac0b026ef0593befbae": {
      "model_module": "@jupyter-widgets/base",
      "model_module_version": "1.2.0",
      "model_name": "LayoutModel",
      "state": {
       "_model_module": "@jupyter-widgets/base",
       "_model_module_version": "1.2.0",
       "_model_name": "LayoutModel",
       "_view_count": null,
       "_view_module": "@jupyter-widgets/base",
       "_view_module_version": "1.2.0",
       "_view_name": "LayoutView",
       "align_content": null,
       "align_items": null,
       "align_self": null,
       "border": null,
       "bottom": null,
       "display": null,
       "flex": null,
       "flex_flow": null,
       "grid_area": null,
       "grid_auto_columns": null,
       "grid_auto_flow": null,
       "grid_auto_rows": null,
       "grid_column": null,
       "grid_gap": null,
       "grid_row": null,
       "grid_template_areas": null,
       "grid_template_columns": null,
       "grid_template_rows": null,
       "height": null,
       "justify_content": null,
       "justify_items": null,
       "left": null,
       "margin": null,
       "max_height": null,
       "max_width": null,
       "min_height": null,
       "min_width": null,
       "object_fit": null,
       "object_position": null,
       "order": null,
       "overflow": null,
       "overflow_x": null,
       "overflow_y": null,
       "padding": null,
       "right": null,
       "top": null,
       "visibility": null,
       "width": null
      }
     },
     "b849e52bd84942e583de4b9325c96afe": {
      "model_module": "@jupyter-widgets/controls",
      "model_module_version": "1.5.0",
      "model_name": "FloatProgressModel",
      "state": {
       "_dom_classes": [],
       "_model_module": "@jupyter-widgets/controls",
       "_model_module_version": "1.5.0",
       "_model_name": "FloatProgressModel",
       "_view_count": null,
       "_view_module": "@jupyter-widgets/controls",
       "_view_module_version": "1.5.0",
       "_view_name": "ProgressView",
       "bar_style": "success",
       "description": "",
       "description_tooltip": null,
       "layout": "IPY_MODEL_341389680b6a43d8b6b3de95dffca671",
       "max": 36473,
       "min": 0,
       "orientation": "horizontal",
       "style": "IPY_MODEL_ab615699cb634117a739e8673396b52d",
       "value": 36473
      }
     },
     "ba8f6b6e291a4d6faae41e5e6921f4aa": {
      "model_module": "@jupyter-widgets/base",
      "model_module_version": "1.2.0",
      "model_name": "LayoutModel",
      "state": {
       "_model_module": "@jupyter-widgets/base",
       "_model_module_version": "1.2.0",
       "_model_name": "LayoutModel",
       "_view_count": null,
       "_view_module": "@jupyter-widgets/base",
       "_view_module_version": "1.2.0",
       "_view_name": "LayoutView",
       "align_content": null,
       "align_items": null,
       "align_self": null,
       "border": null,
       "bottom": null,
       "display": null,
       "flex": null,
       "flex_flow": null,
       "grid_area": null,
       "grid_auto_columns": null,
       "grid_auto_flow": null,
       "grid_auto_rows": null,
       "grid_column": null,
       "grid_gap": null,
       "grid_row": null,
       "grid_template_areas": null,
       "grid_template_columns": null,
       "grid_template_rows": null,
       "height": null,
       "justify_content": null,
       "justify_items": null,
       "left": null,
       "margin": null,
       "max_height": null,
       "max_width": null,
       "min_height": null,
       "min_width": null,
       "object_fit": null,
       "object_position": null,
       "order": null,
       "overflow": null,
       "overflow_x": null,
       "overflow_y": null,
       "padding": null,
       "right": null,
       "top": null,
       "visibility": null,
       "width": null
      }
     },
     "bb944cd3fb694105a4d535f4e9c333a8": {
      "model_module": "@jupyter-widgets/controls",
      "model_module_version": "1.5.0",
      "model_name": "DescriptionStyleModel",
      "state": {
       "_model_module": "@jupyter-widgets/controls",
       "_model_module_version": "1.5.0",
       "_model_name": "DescriptionStyleModel",
       "_view_count": null,
       "_view_module": "@jupyter-widgets/base",
       "_view_module_version": "1.2.0",
       "_view_name": "StyleView",
       "description_width": ""
      }
     },
     "bba517b096dd460cb764ccd71b57f148": {
      "model_module": "@jupyter-widgets/controls",
      "model_module_version": "1.5.0",
      "model_name": "FloatProgressModel",
      "state": {
       "_dom_classes": [],
       "_model_module": "@jupyter-widgets/controls",
       "_model_module_version": "1.5.0",
       "_model_name": "FloatProgressModel",
       "_view_count": null,
       "_view_module": "@jupyter-widgets/controls",
       "_view_module_version": "1.5.0",
       "_view_name": "ProgressView",
       "bar_style": "success",
       "description": "",
       "description_tooltip": null,
       "layout": "IPY_MODEL_ba8f6b6e291a4d6faae41e5e6921f4aa",
       "max": 136,
       "min": 0,
       "orientation": "horizontal",
       "style": "IPY_MODEL_ec381745899e4ce7900c973c72d2ff3b",
       "value": 136
      }
     },
     "be8bbaca794c4ab0b387c44fc3d2637f": {
      "model_module": "@jupyter-widgets/base",
      "model_module_version": "1.2.0",
      "model_name": "LayoutModel",
      "state": {
       "_model_module": "@jupyter-widgets/base",
       "_model_module_version": "1.2.0",
       "_model_name": "LayoutModel",
       "_view_count": null,
       "_view_module": "@jupyter-widgets/base",
       "_view_module_version": "1.2.0",
       "_view_name": "LayoutView",
       "align_content": null,
       "align_items": null,
       "align_self": null,
       "border": null,
       "bottom": null,
       "display": null,
       "flex": null,
       "flex_flow": null,
       "grid_area": null,
       "grid_auto_columns": null,
       "grid_auto_flow": null,
       "grid_auto_rows": null,
       "grid_column": null,
       "grid_gap": null,
       "grid_row": null,
       "grid_template_areas": null,
       "grid_template_columns": null,
       "grid_template_rows": null,
       "height": null,
       "justify_content": null,
       "justify_items": null,
       "left": null,
       "margin": null,
       "max_height": null,
       "max_width": null,
       "min_height": null,
       "min_width": null,
       "object_fit": null,
       "object_position": null,
       "order": null,
       "overflow": null,
       "overflow_x": null,
       "overflow_y": null,
       "padding": null,
       "right": null,
       "top": null,
       "visibility": null,
       "width": null
      }
     },
     "c0dcc3eeec934d289bf99c7d14bab090": {
      "model_module": "@jupyter-widgets/base",
      "model_module_version": "1.2.0",
      "model_name": "LayoutModel",
      "state": {
       "_model_module": "@jupyter-widgets/base",
       "_model_module_version": "1.2.0",
       "_model_name": "LayoutModel",
       "_view_count": null,
       "_view_module": "@jupyter-widgets/base",
       "_view_module_version": "1.2.0",
       "_view_name": "LayoutView",
       "align_content": null,
       "align_items": null,
       "align_self": null,
       "border": null,
       "bottom": null,
       "display": null,
       "flex": null,
       "flex_flow": null,
       "grid_area": null,
       "grid_auto_columns": null,
       "grid_auto_flow": null,
       "grid_auto_rows": null,
       "grid_column": null,
       "grid_gap": null,
       "grid_row": null,
       "grid_template_areas": null,
       "grid_template_columns": null,
       "grid_template_rows": null,
       "height": null,
       "justify_content": null,
       "justify_items": null,
       "left": null,
       "margin": null,
       "max_height": null,
       "max_width": null,
       "min_height": null,
       "min_width": null,
       "object_fit": null,
       "object_position": null,
       "order": null,
       "overflow": null,
       "overflow_x": null,
       "overflow_y": null,
       "padding": null,
       "right": null,
       "top": null,
       "visibility": null,
       "width": null
      }
     },
     "c1e8e53062324cf38fbd75eab01e066a": {
      "model_module": "@jupyter-widgets/base",
      "model_module_version": "1.2.0",
      "model_name": "LayoutModel",
      "state": {
       "_model_module": "@jupyter-widgets/base",
       "_model_module_version": "1.2.0",
       "_model_name": "LayoutModel",
       "_view_count": null,
       "_view_module": "@jupyter-widgets/base",
       "_view_module_version": "1.2.0",
       "_view_name": "LayoutView",
       "align_content": null,
       "align_items": null,
       "align_self": null,
       "border": null,
       "bottom": null,
       "display": null,
       "flex": null,
       "flex_flow": null,
       "grid_area": null,
       "grid_auto_columns": null,
       "grid_auto_flow": null,
       "grid_auto_rows": null,
       "grid_column": null,
       "grid_gap": null,
       "grid_row": null,
       "grid_template_areas": null,
       "grid_template_columns": null,
       "grid_template_rows": null,
       "height": null,
       "justify_content": null,
       "justify_items": null,
       "left": null,
       "margin": null,
       "max_height": null,
       "max_width": null,
       "min_height": null,
       "min_width": null,
       "object_fit": null,
       "object_position": null,
       "order": null,
       "overflow": null,
       "overflow_x": null,
       "overflow_y": null,
       "padding": null,
       "right": null,
       "top": null,
       "visibility": null,
       "width": null
      }
     },
     "c4ff773d63e34e0c93e23aa455a97958": {
      "model_module": "@jupyter-widgets/controls",
      "model_module_version": "1.5.0",
      "model_name": "ProgressStyleModel",
      "state": {
       "_model_module": "@jupyter-widgets/controls",
       "_model_module_version": "1.5.0",
       "_model_name": "ProgressStyleModel",
       "_view_count": null,
       "_view_module": "@jupyter-widgets/base",
       "_view_module_version": "1.2.0",
       "_view_name": "StyleView",
       "bar_color": null,
       "description_width": ""
      }
     },
     "c5de80b22af543edb57e65780298069e": {
      "model_module": "@jupyter-widgets/controls",
      "model_module_version": "1.5.0",
      "model_name": "DescriptionStyleModel",
      "state": {
       "_model_module": "@jupyter-widgets/controls",
       "_model_module_version": "1.5.0",
       "_model_name": "DescriptionStyleModel",
       "_view_count": null,
       "_view_module": "@jupyter-widgets/base",
       "_view_module_version": "1.2.0",
       "_view_name": "StyleView",
       "description_width": ""
      }
     },
     "d21724e187b94518ad3cc61f1daa73cf": {
      "model_module": "@jupyter-widgets/controls",
      "model_module_version": "1.5.0",
      "model_name": "HBoxModel",
      "state": {
       "_dom_classes": [],
       "_model_module": "@jupyter-widgets/controls",
       "_model_module_version": "1.5.0",
       "_model_name": "HBoxModel",
       "_view_count": null,
       "_view_module": "@jupyter-widgets/controls",
       "_view_module_version": "1.5.0",
       "_view_name": "HBoxView",
       "box_style": "",
       "children": [
        "IPY_MODEL_e13e1ad96b5648588ba7a5b2e3771179",
        "IPY_MODEL_7fb6ee0e688440bab23c07808e5cef8b",
        "IPY_MODEL_f9081778edc6436c9d1bc9a886ac922c"
       ],
       "layout": "IPY_MODEL_9901f18e7e5841b8bfcb918c432ef718"
      }
     },
     "d3b6e4a4aac943b79ba51bbacd77907e": {
      "model_module": "@jupyter-widgets/controls",
      "model_module_version": "1.5.0",
      "model_name": "DescriptionStyleModel",
      "state": {
       "_model_module": "@jupyter-widgets/controls",
       "_model_module_version": "1.5.0",
       "_model_name": "DescriptionStyleModel",
       "_view_count": null,
       "_view_module": "@jupyter-widgets/base",
       "_view_module_version": "1.2.0",
       "_view_name": "StyleView",
       "description_width": ""
      }
     },
     "d9f0d96d140a4115aadfdfc9ce5ba608": {
      "model_module": "@jupyter-widgets/controls",
      "model_module_version": "1.5.0",
      "model_name": "ProgressStyleModel",
      "state": {
       "_model_module": "@jupyter-widgets/controls",
       "_model_module_version": "1.5.0",
       "_model_name": "ProgressStyleModel",
       "_view_count": null,
       "_view_module": "@jupyter-widgets/base",
       "_view_module_version": "1.2.0",
       "_view_name": "StyleView",
       "bar_color": null,
       "description_width": ""
      }
     },
     "da88817e8aed48399b1948f8e004ee97": {
      "model_module": "@jupyter-widgets/base",
      "model_module_version": "1.2.0",
      "model_name": "LayoutModel",
      "state": {
       "_model_module": "@jupyter-widgets/base",
       "_model_module_version": "1.2.0",
       "_model_name": "LayoutModel",
       "_view_count": null,
       "_view_module": "@jupyter-widgets/base",
       "_view_module_version": "1.2.0",
       "_view_name": "LayoutView",
       "align_content": null,
       "align_items": null,
       "align_self": null,
       "border": null,
       "bottom": null,
       "display": null,
       "flex": null,
       "flex_flow": null,
       "grid_area": null,
       "grid_auto_columns": null,
       "grid_auto_flow": null,
       "grid_auto_rows": null,
       "grid_column": null,
       "grid_gap": null,
       "grid_row": null,
       "grid_template_areas": null,
       "grid_template_columns": null,
       "grid_template_rows": null,
       "height": null,
       "justify_content": null,
       "justify_items": null,
       "left": null,
       "margin": null,
       "max_height": null,
       "max_width": null,
       "min_height": null,
       "min_width": null,
       "object_fit": null,
       "object_position": null,
       "order": null,
       "overflow": null,
       "overflow_x": null,
       "overflow_y": null,
       "padding": null,
       "right": null,
       "top": null,
       "visibility": null,
       "width": null
      }
     },
     "dd68281fe7ea499882e5d23a5bbfb9f0": {
      "model_module": "@jupyter-widgets/base",
      "model_module_version": "1.2.0",
      "model_name": "LayoutModel",
      "state": {
       "_model_module": "@jupyter-widgets/base",
       "_model_module_version": "1.2.0",
       "_model_name": "LayoutModel",
       "_view_count": null,
       "_view_module": "@jupyter-widgets/base",
       "_view_module_version": "1.2.0",
       "_view_name": "LayoutView",
       "align_content": null,
       "align_items": null,
       "align_self": null,
       "border": null,
       "bottom": null,
       "display": null,
       "flex": null,
       "flex_flow": null,
       "grid_area": null,
       "grid_auto_columns": null,
       "grid_auto_flow": null,
       "grid_auto_rows": null,
       "grid_column": null,
       "grid_gap": null,
       "grid_row": null,
       "grid_template_areas": null,
       "grid_template_columns": null,
       "grid_template_rows": null,
       "height": null,
       "justify_content": null,
       "justify_items": null,
       "left": null,
       "margin": null,
       "max_height": null,
       "max_width": null,
       "min_height": null,
       "min_width": null,
       "object_fit": null,
       "object_position": null,
       "order": null,
       "overflow": null,
       "overflow_x": null,
       "overflow_y": null,
       "padding": null,
       "right": null,
       "top": null,
       "visibility": null,
       "width": null
      }
     },
     "de3e60ed24f04a7ab49a05b98b7cf0f0": {
      "model_module": "@jupyter-widgets/controls",
      "model_module_version": "1.5.0",
      "model_name": "DescriptionStyleModel",
      "state": {
       "_model_module": "@jupyter-widgets/controls",
       "_model_module_version": "1.5.0",
       "_model_name": "DescriptionStyleModel",
       "_view_count": null,
       "_view_module": "@jupyter-widgets/base",
       "_view_module_version": "1.2.0",
       "_view_name": "StyleView",
       "description_width": ""
      }
     },
     "e13e1ad96b5648588ba7a5b2e3771179": {
      "model_module": "@jupyter-widgets/controls",
      "model_module_version": "1.5.0",
      "model_name": "HTMLModel",
      "state": {
       "_dom_classes": [],
       "_model_module": "@jupyter-widgets/controls",
       "_model_module_version": "1.5.0",
       "_model_name": "HTMLModel",
       "_view_count": null,
       "_view_module": "@jupyter-widgets/controls",
       "_view_module_version": "1.5.0",
       "_view_name": "HTMLView",
       "description": "",
       "description_tooltip": null,
       "layout": "IPY_MODEL_1d83ae8940534922833de4d1fdd71216",
       "placeholder": "​",
       "style": "IPY_MODEL_46ab7441760642718f381e7f430e16a0",
       "value": "Downloading: 100%"
      }
     },
     "e3e17f880bab4d47a1531bebac861fda": {
      "model_module": "@jupyter-widgets/controls",
      "model_module_version": "1.5.0",
      "model_name": "HTMLModel",
      "state": {
       "_dom_classes": [],
       "_model_module": "@jupyter-widgets/controls",
       "_model_module_version": "1.5.0",
       "_model_name": "HTMLModel",
       "_view_count": null,
       "_view_module": "@jupyter-widgets/controls",
       "_view_module_version": "1.5.0",
       "_view_name": "HTMLView",
       "description": "",
       "description_tooltip": null,
       "layout": "IPY_MODEL_a3f3db4032b54ac49421d5cbd31a9533",
       "placeholder": "​",
       "style": "IPY_MODEL_35cb92ba1b2d4932bc3a0b0640f71b0c",
       "value": " 580/580 [00:00&lt;00:00, 23.1kB/s]"
      }
     },
     "ec381745899e4ce7900c973c72d2ff3b": {
      "model_module": "@jupyter-widgets/controls",
      "model_module_version": "1.5.0",
      "model_name": "ProgressStyleModel",
      "state": {
       "_model_module": "@jupyter-widgets/controls",
       "_model_module_version": "1.5.0",
       "_model_name": "ProgressStyleModel",
       "_view_count": null,
       "_view_module": "@jupyter-widgets/base",
       "_view_module_version": "1.2.0",
       "_view_name": "StyleView",
       "bar_color": null,
       "description_width": ""
      }
     },
     "f3e6058e180d40b8bc25ff82940789f1": {
      "model_module": "@jupyter-widgets/base",
      "model_module_version": "1.2.0",
      "model_name": "LayoutModel",
      "state": {
       "_model_module": "@jupyter-widgets/base",
       "_model_module_version": "1.2.0",
       "_model_name": "LayoutModel",
       "_view_count": null,
       "_view_module": "@jupyter-widgets/base",
       "_view_module_version": "1.2.0",
       "_view_name": "LayoutView",
       "align_content": null,
       "align_items": null,
       "align_self": null,
       "border": null,
       "bottom": null,
       "display": null,
       "flex": null,
       "flex_flow": null,
       "grid_area": null,
       "grid_auto_columns": null,
       "grid_auto_flow": null,
       "grid_auto_rows": null,
       "grid_column": null,
       "grid_gap": null,
       "grid_row": null,
       "grid_template_areas": null,
       "grid_template_columns": null,
       "grid_template_rows": null,
       "height": null,
       "justify_content": null,
       "justify_items": null,
       "left": null,
       "margin": null,
       "max_height": null,
       "max_width": null,
       "min_height": null,
       "min_width": null,
       "object_fit": null,
       "object_position": null,
       "order": null,
       "overflow": null,
       "overflow_x": null,
       "overflow_y": null,
       "padding": null,
       "right": null,
       "top": null,
       "visibility": null,
       "width": null
      }
     },
     "f7cdf444f3c041cda9b6bd5a47ca87c5": {
      "model_module": "@jupyter-widgets/controls",
      "model_module_version": "1.5.0",
      "model_name": "VBoxModel",
      "state": {
       "_dom_classes": [],
       "_model_module": "@jupyter-widgets/controls",
       "_model_module_version": "1.5.0",
       "_model_name": "VBoxModel",
       "_view_count": null,
       "_view_module": "@jupyter-widgets/controls",
       "_view_module_version": "1.5.0",
       "_view_name": "VBoxView",
       "box_style": "",
       "children": [
        "IPY_MODEL_5ffb53b010e948a0918366a7721dd7a9",
        "IPY_MODEL_86af7db3cea442beb67da28063f15ed6"
       ],
       "layout": "IPY_MODEL_b6f3605957844ac0b026ef0593befbae"
      }
     },
     "f836cfd56e0d4d7188f1b263a5845bff": {
      "model_module": "@jupyter-widgets/base",
      "model_module_version": "1.2.0",
      "model_name": "LayoutModel",
      "state": {
       "_model_module": "@jupyter-widgets/base",
       "_model_module_version": "1.2.0",
       "_model_name": "LayoutModel",
       "_view_count": null,
       "_view_module": "@jupyter-widgets/base",
       "_view_module_version": "1.2.0",
       "_view_name": "LayoutView",
       "align_content": null,
       "align_items": null,
       "align_self": null,
       "border": null,
       "bottom": null,
       "display": null,
       "flex": null,
       "flex_flow": null,
       "grid_area": null,
       "grid_auto_columns": null,
       "grid_auto_flow": null,
       "grid_auto_rows": null,
       "grid_column": null,
       "grid_gap": null,
       "grid_row": null,
       "grid_template_areas": null,
       "grid_template_columns": null,
       "grid_template_rows": null,
       "height": null,
       "justify_content": null,
       "justify_items": null,
       "left": null,
       "margin": null,
       "max_height": null,
       "max_width": null,
       "min_height": null,
       "min_width": null,
       "object_fit": null,
       "object_position": null,
       "order": null,
       "overflow": null,
       "overflow_x": null,
       "overflow_y": null,
       "padding": null,
       "right": null,
       "top": null,
       "visibility": null,
       "width": null
      }
     },
     "f9081778edc6436c9d1bc9a886ac922c": {
      "model_module": "@jupyter-widgets/controls",
      "model_module_version": "1.5.0",
      "model_name": "HTMLModel",
      "state": {
       "_dom_classes": [],
       "_model_module": "@jupyter-widgets/controls",
       "_model_module_version": "1.5.0",
       "_model_name": "HTMLModel",
       "_view_count": null,
       "_view_module": "@jupyter-widgets/controls",
       "_view_module_version": "1.5.0",
       "_view_name": "HTMLView",
       "description": "",
       "description_tooltip": null,
       "layout": "IPY_MODEL_f3e6058e180d40b8bc25ff82940789f1",
       "placeholder": "​",
       "style": "IPY_MODEL_842a840396ab4cefb93cc2733bf00cf7",
       "value": " 833M/833M [00:19&lt;00:00, 43.1MB/s]"
      }
     },
     "fb6b7fc69b2549ab9d80d71017422178": {
      "model_module": "@jupyter-widgets/base",
      "model_module_version": "1.2.0",
      "model_name": "LayoutModel",
      "state": {
       "_model_module": "@jupyter-widgets/base",
       "_model_module_version": "1.2.0",
       "_model_name": "LayoutModel",
       "_view_count": null,
       "_view_module": "@jupyter-widgets/base",
       "_view_module_version": "1.2.0",
       "_view_name": "LayoutView",
       "align_content": null,
       "align_items": null,
       "align_self": null,
       "border": null,
       "bottom": null,
       "display": null,
       "flex": null,
       "flex_flow": null,
       "grid_area": null,
       "grid_auto_columns": null,
       "grid_auto_flow": null,
       "grid_auto_rows": null,
       "grid_column": null,
       "grid_gap": null,
       "grid_row": null,
       "grid_template_areas": null,
       "grid_template_columns": null,
       "grid_template_rows": null,
       "height": null,
       "justify_content": null,
       "justify_items": null,
       "left": null,
       "margin": null,
       "max_height": null,
       "max_width": null,
       "min_height": null,
       "min_width": null,
       "object_fit": null,
       "object_position": null,
       "order": null,
       "overflow": null,
       "overflow_x": null,
       "overflow_y": null,
       "padding": null,
       "right": null,
       "top": null,
       "visibility": null,
       "width": null
      }
     },
     "ff0d93c0f2a54cae8698028db31d1454": {
      "model_module": "@jupyter-widgets/controls",
      "model_module_version": "1.5.0",
      "model_name": "DescriptionStyleModel",
      "state": {
       "_model_module": "@jupyter-widgets/controls",
       "_model_module_version": "1.5.0",
       "_model_name": "DescriptionStyleModel",
       "_view_count": null,
       "_view_module": "@jupyter-widgets/base",
       "_view_module_version": "1.2.0",
       "_view_name": "StyleView",
       "description_width": ""
      }
     }
    },
    "version_major": 2,
    "version_minor": 0
   }
  }
 },
 "nbformat": 4,
 "nbformat_minor": 5
}
