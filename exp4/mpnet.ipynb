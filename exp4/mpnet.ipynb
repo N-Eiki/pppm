{
 "cells": [
  {
   "cell_type": "markdown",
   "id": "70f90ffb",
   "metadata": {
    "id": "e460cbb5",
    "papermill": {
     "duration": 0.027808,
     "end_time": "2022-03-22T09:40:01.410751",
     "exception": false,
     "start_time": "2022-03-22T09:40:01.382943",
     "status": "completed"
    },
    "tags": []
   },
   "source": [
    "# About this notebook\n",
    "- Deberta-v3-large starter code\n",
    "- pip wheels is [here](https://www.kaggle.com/code/yasufuminakama/pppm-pip-wheels)\n",
    "- Inference notebook is [here](https://www.kaggle.com/code/yasufuminakama/pppm-deberta-v3-large-baseline-inference)\n",
    "\n",
    "If this notebook is helpful, feel free to upvote :)"
   ]
  },
  {
   "cell_type": "code",
   "execution_count": 1,
   "id": "4b6835d2-9fc4-4e64-8eb9-1f8eebb143bf",
   "metadata": {},
   "outputs": [],
   "source": [
    "import os\n",
    "import time\n",
    "\n",
    "wait_to_make = \"trained_list/roberta-large.txt\"\n",
    "count = 0\n",
    "while 1:\n",
    "    if os.path.exists(wait_to_make):\n",
    "        break\n",
    "    print(f'sleep {count} h')\n",
    "    time.sleep(3600)\n",
    "    count+=1\n",
    "    \n"
   ]
  },
  {
   "cell_type": "code",
   "execution_count": 2,
   "id": "7df63313-5526-4691-94ae-12ea4bf25bde",
   "metadata": {},
   "outputs": [],
   "source": [
    "EXP_NAME = \"microsoft-mpnet-base-attention2\"\n"
   ]
  },
  {
   "cell_type": "code",
   "execution_count": 3,
   "id": "d14ce8ab",
   "metadata": {},
   "outputs": [],
   "source": [
    "# !nvidia-smi"
   ]
  },
  {
   "cell_type": "code",
   "execution_count": 4,
   "id": "7d511eeb",
   "metadata": {},
   "outputs": [],
   "source": [
    "# ! pip install torch==1.9.0+cu111 torchvision==0.10.0+cu111 torchaudio===0.9.0 -f https://download.pytorch.org/whl/torch_stable.html"
   ]
  },
  {
   "cell_type": "code",
   "execution_count": 5,
   "id": "c13809d2",
   "metadata": {},
   "outputs": [
    {
     "name": "stdout",
     "output_type": "stream",
     "text": [
      "1.9.0+cu111\n",
      "True\n"
     ]
    }
   ],
   "source": [
    "import torch\n",
    "print(torch.__version__)\n",
    "print(torch.cuda.is_available())"
   ]
  },
  {
   "cell_type": "markdown",
   "id": "263c913e",
   "metadata": {
    "papermill": {
     "duration": 0.024515,
     "end_time": "2022-03-22T09:40:01.460332",
     "exception": false,
     "start_time": "2022-03-22T09:40:01.435817",
     "status": "completed"
    },
    "tags": []
   },
   "source": [
    "# Directory settings"
   ]
  },
  {
   "cell_type": "code",
   "execution_count": 6,
   "id": "46d8c76e",
   "metadata": {
    "id": "fa3b873b",
    "papermill": {
     "duration": 0.041313,
     "end_time": "2022-03-22T09:40:01.526545",
     "exception": false,
     "start_time": "2022-03-22T09:40:01.485232",
     "status": "completed"
    },
    "tags": []
   },
   "outputs": [],
   "source": [
    "# ====================================================\n",
    "# Directory settings\n",
    "# ====================================================\n",
    "\n",
    "import os\n",
    "import datetime\n",
    "\n",
    "INPUT_DIR = '../../data/us-patent-phrase-to-phrase-matching/'\n",
    "\n",
    "OUTPUT_DIR = f'./output/{EXP_NAME}/'\n",
    "# if not os.path.exists(OUTPUT_DIR):\n",
    "os.makedirs(OUTPUT_DIR, exist_ok=True)\n"
   ]
  },
  {
   "cell_type": "markdown",
   "id": "c75f6918",
   "metadata": {
    "id": "1d0c4430",
    "papermill": {
     "duration": 0.024609,
     "end_time": "2022-03-22T09:40:01.576366",
     "exception": false,
     "start_time": "2022-03-22T09:40:01.551757",
     "status": "completed"
    },
    "tags": []
   },
   "source": [
    "# CFG"
   ]
  },
  {
   "cell_type": "code",
   "execution_count": 7,
   "id": "80d58afe",
   "metadata": {
    "id": "48dd82bb",
    "papermill": {
     "duration": 0.033949,
     "end_time": "2022-03-22T09:40:01.634977",
     "exception": false,
     "start_time": "2022-03-22T09:40:01.601028",
     "status": "completed"
    },
    "tags": []
   },
   "outputs": [],
   "source": [
    "# ====================================================\n",
    "# CFG\n",
    "# ====================================================\n",
    "class CFG:\n",
    "    wandb=False\n",
    "    competition='PPPM'\n",
    "    _wandb_kernel='nakama'\n",
    "    debug=False\n",
    "    apex=True\n",
    "    print_freq=100\n",
    "    num_workers=4\n",
    "    # model=\"microsoft/deberta-v3-large\"\n",
    "    model = \"microsoft/mpnet-base\"\n",
    "    # size = \"large\n",
    "    # model = f\"{model}-{size}\"\n",
    "    if \"small\" in model:\n",
    "        hidden_state = hiddden_state_fix = 512\n",
    "    elif \"base\" in model:\n",
    "        hidden_state = hiddden_state_fix = 768\n",
    "    elif \"large\" in model:\n",
    "        hidden_state = hiddden_state_fix = 1024\n",
    "    elif \"xlarge\" in model:\n",
    "        hidden_state =  1536\n",
    "        \n",
    "    scheduler='cosine' # ['linear', 'cosine']\n",
    "    batch_scheduler=True\n",
    "    num_cycles=0.5\n",
    "    num_warmup_steps=0\n",
    "    epochs=8\n",
    "    encoder_lr=2e-5\n",
    "    decoder_lr=2e-5\n",
    "    min_lr=1e-6\n",
    "    eps=1e-6\n",
    "    betas=(0.9, 0.999)\n",
    "    \n",
    "    batch_size=8\n",
    "    \n",
    "    fc_dropout=0.2\n",
    "    target_size=1\n",
    "    max_len=512\n",
    "    weight_decay=0.01\n",
    "    gradient_accumulation_steps=1\n",
    "    max_grad_norm=1000\n",
    "    seed=42\n",
    "    n_fold=4\n",
    "    trn_fold=[i for i in range(n_fold)]\n",
    "    train=True\n",
    "    pass_fold = [0]\n",
    "    \n",
    "if CFG.debug:\n",
    "    CFG.epochs = 2\n",
    "    CFG.trn_fold = [0]"
   ]
  },
  {
   "cell_type": "code",
   "execution_count": 8,
   "id": "b7de2887",
   "metadata": {
    "id": "b88c983e",
    "papermill": {
     "duration": 8.873453,
     "end_time": "2022-03-22T09:40:10.532922",
     "exception": false,
     "start_time": "2022-03-22T09:40:01.659469",
     "status": "completed"
    },
    "tags": []
   },
   "outputs": [],
   "source": [
    "# ====================================================\n",
    "# wandb\n",
    "# ====================================================\n",
    "if CFG.wandb:\n",
    "    \n",
    "    import wandb\n",
    "\n",
    "    try:\n",
    "        from kaggle_secrets import UserSecretsClient\n",
    "        user_secrets = UserSecretsClient()\n",
    "        secret_value_0 = user_secrets.get_secret(\"wandb_api\")\n",
    "        wandb.login(key=secret_value_0)\n",
    "        anony = None\n",
    "    except:\n",
    "        anony = \"must\"\n",
    "        print('If you want to use your W&B account, go to Add-ons -> Secrets and provide your W&B access token. Use the Label name as wandb_api. \\nGet your W&B access token from here: https://wandb.ai/authorize')\n",
    "\n",
    "\n",
    "    def class2dict(f):\n",
    "        return dict((name, getattr(f, name)) for name in dir(f) if not name.startswith('__'))\n",
    "\n",
    "    run = wandb.init(project='PPPM-Public', \n",
    "                     name=CFG.model,\n",
    "                     config=class2dict(CFG),\n",
    "                     group=CFG.model,\n",
    "                     job_type=\"train\",\n",
    "                     anonymous=anony)"
   ]
  },
  {
   "cell_type": "code",
   "execution_count": 9,
   "id": "9f7d6f8c",
   "metadata": {},
   "outputs": [],
   "source": [
    "# !pip install transformers==4.16.2\n",
    "# !pip install tokenizers==0.11.0"
   ]
  },
  {
   "cell_type": "markdown",
   "id": "5ed638be",
   "metadata": {
    "id": "f2ed8ef2",
    "papermill": {
     "duration": 0.038261,
     "end_time": "2022-03-22T09:40:10.626926",
     "exception": false,
     "start_time": "2022-03-22T09:40:10.588665",
     "status": "completed"
    },
    "tags": []
   },
   "source": [
    "# Library"
   ]
  },
  {
   "cell_type": "code",
   "execution_count": 10,
   "id": "ebee5bbe",
   "metadata": {
    "executionInfo": {
     "elapsed": 20123,
     "status": "ok",
     "timestamp": 1644920080956,
     "user": {
      "displayName": "Yasufumi Nakama",
      "photoUrl": "https://lh3.googleusercontent.com/a/default-user=s64",
      "userId": "17486303986134302670"
     },
     "user_tz": -540
    },
    "id": "35916341",
    "outputId": "06fa0ab8-a380-4f54-a98d-b7015b79d9e2",
    "papermill": {
     "duration": 26.143536,
     "end_time": "2022-03-22T09:40:36.798853",
     "exception": false,
     "start_time": "2022-03-22T09:40:10.655317",
     "status": "completed"
    },
    "tags": []
   },
   "outputs": [
    {
     "name": "stdout",
     "output_type": "stream",
     "text": [
      "torch.__version__: 1.9.0+cu111\n",
      "tokenizers.__version__: 0.11.6\n",
      "transformers.__version__: 4.17.0\n",
      "env: TOKENIZERS_PARALLELISM=true\n",
      "cuda\n"
     ]
    }
   ],
   "source": [
    "# ====================================================\n",
    "# Library\n",
    "# ====================================================\n",
    "import os\n",
    "import gc\n",
    "import re\n",
    "import ast\n",
    "import sys\n",
    "import copy\n",
    "import json\n",
    "import time\n",
    "import math\n",
    "import shutil\n",
    "import string\n",
    "import pickle\n",
    "import random\n",
    "import joblib\n",
    "import itertools\n",
    "from pathlib import Path\n",
    "import warnings\n",
    "warnings.filterwarnings(\"ignore\")\n",
    "\n",
    "import scipy as sp\n",
    "import numpy as np\n",
    "import pandas as pd\n",
    "pd.set_option('display.max_rows', 500)\n",
    "pd.set_option('display.max_columns', 500)\n",
    "pd.set_option('display.width', 1000)\n",
    "from tqdm.auto import tqdm\n",
    "from sklearn.metrics import f1_score\n",
    "from sklearn.model_selection import StratifiedKFold, GroupKFold, KFold\n",
    "\n",
    "import torch\n",
    "print(f\"torch.__version__: {torch.__version__}\")\n",
    "import torch.nn as nn\n",
    "from torch.nn import Parameter\n",
    "import torch.nn.functional as F\n",
    "from torch.optim import Adam, SGD, AdamW\n",
    "from torch.utils.data import DataLoader, Dataset\n",
    "\n",
    "import tokenizers\n",
    "import transformers\n",
    "print(f\"tokenizers.__version__: {tokenizers.__version__}\")\n",
    "print(f\"transformers.__version__: {transformers.__version__}\")\n",
    "from transformers import AutoTokenizer, AutoModel, AutoConfig\n",
    "from transformers import get_linear_schedule_with_warmup, get_cosine_schedule_with_warmup\n",
    "%env TOKENIZERS_PARALLELISM=true\n",
    "\n",
    "device = torch.device('cuda' if torch.cuda.is_available() else 'cpu')\n",
    "# device = torch.device('cpu')\n",
    "print(device)\n",
    "\n",
    "start = time.time()"
   ]
  },
  {
   "cell_type": "markdown",
   "id": "dcc0106a",
   "metadata": {
    "id": "fd586614",
    "papermill": {
     "duration": 0.032888,
     "end_time": "2022-03-22T09:40:36.865209",
     "exception": false,
     "start_time": "2022-03-22T09:40:36.832321",
     "status": "completed"
    },
    "tags": []
   },
   "source": [
    "# Utils"
   ]
  },
  {
   "cell_type": "code",
   "execution_count": 11,
   "id": "540df385",
   "metadata": {
    "id": "d5c0ccc6",
    "papermill": {
     "duration": 0.21551,
     "end_time": "2022-03-22T09:40:37.116848",
     "exception": false,
     "start_time": "2022-03-22T09:40:36.901338",
     "status": "completed"
    },
    "tags": []
   },
   "outputs": [],
   "source": [
    "# ====================================================\n",
    "# Utils\n",
    "# ====================================================\n",
    "def get_score(y_true, y_pred):\n",
    "    score = sp.stats.pearsonr(y_true, y_pred)[0]\n",
    "    return score\n",
    "\n",
    "\n",
    "def get_logger(filename=OUTPUT_DIR+'train'):\n",
    "    from logging import getLogger, INFO, StreamHandler, FileHandler, Formatter\n",
    "    logger = getLogger(__name__)\n",
    "    logger.setLevel(INFO)\n",
    "    handler1 = StreamHandler()\n",
    "    handler1.setFormatter(Formatter(\"%(message)s\"))\n",
    "    handler2 = FileHandler(filename=f\"{filename}.log\")\n",
    "    handler2.setFormatter(Formatter(\"%(message)s\"))\n",
    "    logger.addHandler(handler1)\n",
    "    logger.addHandler(handler2)\n",
    "    return logger\n",
    "\n",
    "LOGGER = get_logger()\n",
    "\n",
    "def seed_everything(seed=42):\n",
    "    random.seed(seed)\n",
    "    os.environ['PYTHONHASHSEED'] = str(seed)\n",
    "    np.random.seed(seed)\n",
    "    torch.manual_seed(seed)\n",
    "    torch.cuda.manual_seed(seed)\n",
    "    torch.backends.cudnn.deterministic = True\n",
    "    \n",
    "seed_everything(seed=42)"
   ]
  },
  {
   "cell_type": "markdown",
   "id": "32170fde",
   "metadata": {
    "id": "cb3d8e1e",
    "papermill": {
     "duration": 0.032614,
     "end_time": "2022-03-22T09:40:37.184739",
     "exception": false,
     "start_time": "2022-03-22T09:40:37.152125",
     "status": "completed"
    },
    "tags": []
   },
   "source": [
    "# Data Loading"
   ]
  },
  {
   "cell_type": "code",
   "execution_count": 12,
   "id": "a903a50f",
   "metadata": {
    "executionInfo": {
     "elapsed": 2627,
     "status": "ok",
     "timestamp": 1644920084001,
     "user": {
      "displayName": "Yasufumi Nakama",
      "photoUrl": "https://lh3.googleusercontent.com/a/default-user=s64",
      "userId": "17486303986134302670"
     },
     "user_tz": -540
    },
    "id": "bef012d3",
    "outputId": "d4d60dbc-510c-4f34-8d64-dd1d88c4808c",
    "papermill": {
     "duration": 0.154829,
     "end_time": "2022-03-22T09:40:37.374453",
     "exception": false,
     "start_time": "2022-03-22T09:40:37.219624",
     "status": "completed"
    },
    "tags": []
   },
   "outputs": [
    {
     "name": "stdout",
     "output_type": "stream",
     "text": [
      "train.shape: (36473, 5)\n",
      "test.shape: (36, 4)\n",
      "submission.shape: (36, 2)\n"
     ]
    },
    {
     "data": {
      "text/html": [
       "<div>\n",
       "<style scoped>\n",
       "    .dataframe tbody tr th:only-of-type {\n",
       "        vertical-align: middle;\n",
       "    }\n",
       "\n",
       "    .dataframe tbody tr th {\n",
       "        vertical-align: top;\n",
       "    }\n",
       "\n",
       "    .dataframe thead th {\n",
       "        text-align: right;\n",
       "    }\n",
       "</style>\n",
       "<table border=\"1\" class=\"dataframe\">\n",
       "  <thead>\n",
       "    <tr style=\"text-align: right;\">\n",
       "      <th></th>\n",
       "      <th>id</th>\n",
       "      <th>anchor</th>\n",
       "      <th>target</th>\n",
       "      <th>context</th>\n",
       "      <th>score</th>\n",
       "    </tr>\n",
       "  </thead>\n",
       "  <tbody>\n",
       "    <tr>\n",
       "      <th>0</th>\n",
       "      <td>37d61fd2272659b1</td>\n",
       "      <td>abatement</td>\n",
       "      <td>abatement of pollution</td>\n",
       "      <td>A47</td>\n",
       "      <td>0.50</td>\n",
       "    </tr>\n",
       "    <tr>\n",
       "      <th>1</th>\n",
       "      <td>7b9652b17b68b7a4</td>\n",
       "      <td>abatement</td>\n",
       "      <td>act of abating</td>\n",
       "      <td>A47</td>\n",
       "      <td>0.75</td>\n",
       "    </tr>\n",
       "    <tr>\n",
       "      <th>2</th>\n",
       "      <td>36d72442aefd8232</td>\n",
       "      <td>abatement</td>\n",
       "      <td>active catalyst</td>\n",
       "      <td>A47</td>\n",
       "      <td>0.25</td>\n",
       "    </tr>\n",
       "    <tr>\n",
       "      <th>3</th>\n",
       "      <td>5296b0c19e1ce60e</td>\n",
       "      <td>abatement</td>\n",
       "      <td>eliminating process</td>\n",
       "      <td>A47</td>\n",
       "      <td>0.50</td>\n",
       "    </tr>\n",
       "    <tr>\n",
       "      <th>4</th>\n",
       "      <td>54c1e3b9184cb5b6</td>\n",
       "      <td>abatement</td>\n",
       "      <td>forest region</td>\n",
       "      <td>A47</td>\n",
       "      <td>0.00</td>\n",
       "    </tr>\n",
       "  </tbody>\n",
       "</table>\n",
       "</div>"
      ],
      "text/plain": [
       "                 id     anchor                  target context  score\n",
       "0  37d61fd2272659b1  abatement  abatement of pollution     A47   0.50\n",
       "1  7b9652b17b68b7a4  abatement          act of abating     A47   0.75\n",
       "2  36d72442aefd8232  abatement         active catalyst     A47   0.25\n",
       "3  5296b0c19e1ce60e  abatement     eliminating process     A47   0.50\n",
       "4  54c1e3b9184cb5b6  abatement           forest region     A47   0.00"
      ]
     },
     "metadata": {},
     "output_type": "display_data"
    },
    {
     "data": {
      "text/html": [
       "<div>\n",
       "<style scoped>\n",
       "    .dataframe tbody tr th:only-of-type {\n",
       "        vertical-align: middle;\n",
       "    }\n",
       "\n",
       "    .dataframe tbody tr th {\n",
       "        vertical-align: top;\n",
       "    }\n",
       "\n",
       "    .dataframe thead th {\n",
       "        text-align: right;\n",
       "    }\n",
       "</style>\n",
       "<table border=\"1\" class=\"dataframe\">\n",
       "  <thead>\n",
       "    <tr style=\"text-align: right;\">\n",
       "      <th></th>\n",
       "      <th>id</th>\n",
       "      <th>anchor</th>\n",
       "      <th>target</th>\n",
       "      <th>context</th>\n",
       "    </tr>\n",
       "  </thead>\n",
       "  <tbody>\n",
       "    <tr>\n",
       "      <th>0</th>\n",
       "      <td>4112d61851461f60</td>\n",
       "      <td>opc drum</td>\n",
       "      <td>inorganic photoconductor drum</td>\n",
       "      <td>G02</td>\n",
       "    </tr>\n",
       "    <tr>\n",
       "      <th>1</th>\n",
       "      <td>09e418c93a776564</td>\n",
       "      <td>adjust gas flow</td>\n",
       "      <td>altering gas flow</td>\n",
       "      <td>F23</td>\n",
       "    </tr>\n",
       "    <tr>\n",
       "      <th>2</th>\n",
       "      <td>36baf228038e314b</td>\n",
       "      <td>lower trunnion</td>\n",
       "      <td>lower locating</td>\n",
       "      <td>B60</td>\n",
       "    </tr>\n",
       "    <tr>\n",
       "      <th>3</th>\n",
       "      <td>1f37ead645e7f0c8</td>\n",
       "      <td>cap component</td>\n",
       "      <td>upper portion</td>\n",
       "      <td>D06</td>\n",
       "    </tr>\n",
       "    <tr>\n",
       "      <th>4</th>\n",
       "      <td>71a5b6ad068d531f</td>\n",
       "      <td>neural stimulation</td>\n",
       "      <td>artificial neural network</td>\n",
       "      <td>H04</td>\n",
       "    </tr>\n",
       "  </tbody>\n",
       "</table>\n",
       "</div>"
      ],
      "text/plain": [
       "                 id              anchor                         target context\n",
       "0  4112d61851461f60            opc drum  inorganic photoconductor drum     G02\n",
       "1  09e418c93a776564     adjust gas flow              altering gas flow     F23\n",
       "2  36baf228038e314b      lower trunnion                 lower locating     B60\n",
       "3  1f37ead645e7f0c8       cap component                  upper portion     D06\n",
       "4  71a5b6ad068d531f  neural stimulation      artificial neural network     H04"
      ]
     },
     "metadata": {},
     "output_type": "display_data"
    },
    {
     "data": {
      "text/html": [
       "<div>\n",
       "<style scoped>\n",
       "    .dataframe tbody tr th:only-of-type {\n",
       "        vertical-align: middle;\n",
       "    }\n",
       "\n",
       "    .dataframe tbody tr th {\n",
       "        vertical-align: top;\n",
       "    }\n",
       "\n",
       "    .dataframe thead th {\n",
       "        text-align: right;\n",
       "    }\n",
       "</style>\n",
       "<table border=\"1\" class=\"dataframe\">\n",
       "  <thead>\n",
       "    <tr style=\"text-align: right;\">\n",
       "      <th></th>\n",
       "      <th>id</th>\n",
       "      <th>score</th>\n",
       "    </tr>\n",
       "  </thead>\n",
       "  <tbody>\n",
       "    <tr>\n",
       "      <th>0</th>\n",
       "      <td>4112d61851461f60</td>\n",
       "      <td>0</td>\n",
       "    </tr>\n",
       "    <tr>\n",
       "      <th>1</th>\n",
       "      <td>09e418c93a776564</td>\n",
       "      <td>0</td>\n",
       "    </tr>\n",
       "    <tr>\n",
       "      <th>2</th>\n",
       "      <td>36baf228038e314b</td>\n",
       "      <td>0</td>\n",
       "    </tr>\n",
       "    <tr>\n",
       "      <th>3</th>\n",
       "      <td>1f37ead645e7f0c8</td>\n",
       "      <td>0</td>\n",
       "    </tr>\n",
       "    <tr>\n",
       "      <th>4</th>\n",
       "      <td>71a5b6ad068d531f</td>\n",
       "      <td>0</td>\n",
       "    </tr>\n",
       "  </tbody>\n",
       "</table>\n",
       "</div>"
      ],
      "text/plain": [
       "                 id  score\n",
       "0  4112d61851461f60      0\n",
       "1  09e418c93a776564      0\n",
       "2  36baf228038e314b      0\n",
       "3  1f37ead645e7f0c8      0\n",
       "4  71a5b6ad068d531f      0"
      ]
     },
     "metadata": {},
     "output_type": "display_data"
    }
   ],
   "source": [
    "# ====================================================\n",
    "# Data Loading\n",
    "# ====================================================\n",
    "train = pd.read_csv(INPUT_DIR+'train.csv')\n",
    "test = pd.read_csv(INPUT_DIR+'test.csv')\n",
    "submission = pd.read_csv(INPUT_DIR+'sample_submission.csv')\n",
    "print(f\"train.shape: {train.shape}\")\n",
    "print(f\"test.shape: {test.shape}\")\n",
    "print(f\"submission.shape: {submission.shape}\")\n",
    "display(train.head())\n",
    "display(test.head())\n",
    "display(submission.head())"
   ]
  },
  {
   "cell_type": "code",
   "execution_count": 13,
   "id": "fa85ac77",
   "metadata": {
    "papermill": {
     "duration": 0.848818,
     "end_time": "2022-03-22T09:40:38.260255",
     "exception": false,
     "start_time": "2022-03-22T09:40:37.411437",
     "status": "completed"
    },
    "tags": []
   },
   "outputs": [
    {
     "data": {
      "text/html": [
       "<div>\n",
       "<style scoped>\n",
       "    .dataframe tbody tr th:only-of-type {\n",
       "        vertical-align: middle;\n",
       "    }\n",
       "\n",
       "    .dataframe tbody tr th {\n",
       "        vertical-align: top;\n",
       "    }\n",
       "\n",
       "    .dataframe thead th {\n",
       "        text-align: right;\n",
       "    }\n",
       "</style>\n",
       "<table border=\"1\" class=\"dataframe\">\n",
       "  <thead>\n",
       "    <tr style=\"text-align: right;\">\n",
       "      <th></th>\n",
       "      <th>id</th>\n",
       "      <th>anchor</th>\n",
       "      <th>target</th>\n",
       "      <th>context</th>\n",
       "      <th>score</th>\n",
       "      <th>context_text</th>\n",
       "    </tr>\n",
       "  </thead>\n",
       "  <tbody>\n",
       "    <tr>\n",
       "      <th>0</th>\n",
       "      <td>37d61fd2272659b1</td>\n",
       "      <td>abatement</td>\n",
       "      <td>abatement of pollution</td>\n",
       "      <td>A47</td>\n",
       "      <td>0.50</td>\n",
       "      <td>HUMAN NECESSITIES. FURNITURE; DOMESTIC ARTICLE...</td>\n",
       "    </tr>\n",
       "    <tr>\n",
       "      <th>1</th>\n",
       "      <td>7b9652b17b68b7a4</td>\n",
       "      <td>abatement</td>\n",
       "      <td>act of abating</td>\n",
       "      <td>A47</td>\n",
       "      <td>0.75</td>\n",
       "      <td>HUMAN NECESSITIES. FURNITURE; DOMESTIC ARTICLE...</td>\n",
       "    </tr>\n",
       "    <tr>\n",
       "      <th>2</th>\n",
       "      <td>36d72442aefd8232</td>\n",
       "      <td>abatement</td>\n",
       "      <td>active catalyst</td>\n",
       "      <td>A47</td>\n",
       "      <td>0.25</td>\n",
       "      <td>HUMAN NECESSITIES. FURNITURE; DOMESTIC ARTICLE...</td>\n",
       "    </tr>\n",
       "    <tr>\n",
       "      <th>3</th>\n",
       "      <td>5296b0c19e1ce60e</td>\n",
       "      <td>abatement</td>\n",
       "      <td>eliminating process</td>\n",
       "      <td>A47</td>\n",
       "      <td>0.50</td>\n",
       "      <td>HUMAN NECESSITIES. FURNITURE; DOMESTIC ARTICLE...</td>\n",
       "    </tr>\n",
       "    <tr>\n",
       "      <th>4</th>\n",
       "      <td>54c1e3b9184cb5b6</td>\n",
       "      <td>abatement</td>\n",
       "      <td>forest region</td>\n",
       "      <td>A47</td>\n",
       "      <td>0.00</td>\n",
       "      <td>HUMAN NECESSITIES. FURNITURE; DOMESTIC ARTICLE...</td>\n",
       "    </tr>\n",
       "  </tbody>\n",
       "</table>\n",
       "</div>"
      ],
      "text/plain": [
       "                 id     anchor                  target context  score                                       context_text\n",
       "0  37d61fd2272659b1  abatement  abatement of pollution     A47   0.50  HUMAN NECESSITIES. FURNITURE; DOMESTIC ARTICLE...\n",
       "1  7b9652b17b68b7a4  abatement          act of abating     A47   0.75  HUMAN NECESSITIES. FURNITURE; DOMESTIC ARTICLE...\n",
       "2  36d72442aefd8232  abatement         active catalyst     A47   0.25  HUMAN NECESSITIES. FURNITURE; DOMESTIC ARTICLE...\n",
       "3  5296b0c19e1ce60e  abatement     eliminating process     A47   0.50  HUMAN NECESSITIES. FURNITURE; DOMESTIC ARTICLE...\n",
       "4  54c1e3b9184cb5b6  abatement           forest region     A47   0.00  HUMAN NECESSITIES. FURNITURE; DOMESTIC ARTICLE..."
      ]
     },
     "metadata": {},
     "output_type": "display_data"
    },
    {
     "data": {
      "text/html": [
       "<div>\n",
       "<style scoped>\n",
       "    .dataframe tbody tr th:only-of-type {\n",
       "        vertical-align: middle;\n",
       "    }\n",
       "\n",
       "    .dataframe tbody tr th {\n",
       "        vertical-align: top;\n",
       "    }\n",
       "\n",
       "    .dataframe thead th {\n",
       "        text-align: right;\n",
       "    }\n",
       "</style>\n",
       "<table border=\"1\" class=\"dataframe\">\n",
       "  <thead>\n",
       "    <tr style=\"text-align: right;\">\n",
       "      <th></th>\n",
       "      <th>id</th>\n",
       "      <th>anchor</th>\n",
       "      <th>target</th>\n",
       "      <th>context</th>\n",
       "      <th>context_text</th>\n",
       "    </tr>\n",
       "  </thead>\n",
       "  <tbody>\n",
       "    <tr>\n",
       "      <th>0</th>\n",
       "      <td>4112d61851461f60</td>\n",
       "      <td>opc drum</td>\n",
       "      <td>inorganic photoconductor drum</td>\n",
       "      <td>G02</td>\n",
       "      <td>PHYSICS. OPTICS</td>\n",
       "    </tr>\n",
       "    <tr>\n",
       "      <th>1</th>\n",
       "      <td>09e418c93a776564</td>\n",
       "      <td>adjust gas flow</td>\n",
       "      <td>altering gas flow</td>\n",
       "      <td>F23</td>\n",
       "      <td>MECHANICAL ENGINEERING; LIGHTING; HEATING; WEA...</td>\n",
       "    </tr>\n",
       "    <tr>\n",
       "      <th>2</th>\n",
       "      <td>36baf228038e314b</td>\n",
       "      <td>lower trunnion</td>\n",
       "      <td>lower locating</td>\n",
       "      <td>B60</td>\n",
       "      <td>PERFORMING OPERATIONS; TRANSPORTING. VEHICLES ...</td>\n",
       "    </tr>\n",
       "    <tr>\n",
       "      <th>3</th>\n",
       "      <td>1f37ead645e7f0c8</td>\n",
       "      <td>cap component</td>\n",
       "      <td>upper portion</td>\n",
       "      <td>D06</td>\n",
       "      <td>TEXTILES; PAPER. TREATMENT OF TEXTILES OR THE ...</td>\n",
       "    </tr>\n",
       "    <tr>\n",
       "      <th>4</th>\n",
       "      <td>71a5b6ad068d531f</td>\n",
       "      <td>neural stimulation</td>\n",
       "      <td>artificial neural network</td>\n",
       "      <td>H04</td>\n",
       "      <td>ELECTRICITY. ELECTRIC COMMUNICATION TECHNIQUE</td>\n",
       "    </tr>\n",
       "  </tbody>\n",
       "</table>\n",
       "</div>"
      ],
      "text/plain": [
       "                 id              anchor                         target context                                       context_text\n",
       "0  4112d61851461f60            opc drum  inorganic photoconductor drum     G02                                    PHYSICS. OPTICS\n",
       "1  09e418c93a776564     adjust gas flow              altering gas flow     F23  MECHANICAL ENGINEERING; LIGHTING; HEATING; WEA...\n",
       "2  36baf228038e314b      lower trunnion                 lower locating     B60  PERFORMING OPERATIONS; TRANSPORTING. VEHICLES ...\n",
       "3  1f37ead645e7f0c8       cap component                  upper portion     D06  TEXTILES; PAPER. TREATMENT OF TEXTILES OR THE ...\n",
       "4  71a5b6ad068d531f  neural stimulation      artificial neural network     H04      ELECTRICITY. ELECTRIC COMMUNICATION TECHNIQUE"
      ]
     },
     "metadata": {},
     "output_type": "display_data"
    }
   ],
   "source": [
    "# ====================================================\n",
    "# CPC Data\n",
    "# ====================================================\n",
    "def get_cpc_texts():\n",
    "    contexts = []\n",
    "    pattern = '[A-Z]\\d+'\n",
    "    for file_name in os.listdir(INPUT_DIR+'CPCSchemeXML202105'):\n",
    "        result = re.findall(pattern, file_name)\n",
    "        if result:\n",
    "            contexts.append(result)\n",
    "    contexts = sorted(set(sum(contexts, [])))\n",
    "    results = {}\n",
    "    for cpc in ['A', 'B', 'C', 'D', 'E', 'F', 'G', 'H', 'Y']:\n",
    "        with open(f'{INPUT_DIR}CPCTitleList202202/cpc-section-{cpc}_20220201.txt') as f:\n",
    "            s = f.read()\n",
    "        pattern = f'{cpc}\\t\\t.+'\n",
    "        result = re.findall(pattern, s)\n",
    "        cpc_result = result[0].lstrip(pattern)\n",
    "        for context in [c for c in contexts if c[0] == cpc]:\n",
    "            pattern = f'{context}\\t\\t.+'\n",
    "            result = re.findall(pattern, s)\n",
    "            results[context] = cpc_result + \". \" + result[0].lstrip(pattern)\n",
    "    return results\n",
    "\n",
    "\n",
    "# cpc_texts = get_cpc_texts()\n",
    "# torch.save(cpc_texts, OUTPUT_DIR+\"cpc_texts.pth\")\n",
    "cpc_texts = torch.load(INPUT_DIR+\"cpc_texts.pth\")\n",
    "train['context_text'] = train['context'].map(cpc_texts)\n",
    "test['context_text'] = test['context'].map(cpc_texts)\n",
    "display(train.head())\n",
    "display(test.head())"
   ]
  },
  {
   "cell_type": "code",
   "execution_count": 14,
   "id": "7bb73eb6",
   "metadata": {
    "papermill": {
     "duration": 0.084831,
     "end_time": "2022-03-22T09:40:38.384239",
     "exception": false,
     "start_time": "2022-03-22T09:40:38.299408",
     "status": "completed"
    },
    "tags": []
   },
   "outputs": [
    {
     "data": {
      "text/html": [
       "<div>\n",
       "<style scoped>\n",
       "    .dataframe tbody tr th:only-of-type {\n",
       "        vertical-align: middle;\n",
       "    }\n",
       "\n",
       "    .dataframe tbody tr th {\n",
       "        vertical-align: top;\n",
       "    }\n",
       "\n",
       "    .dataframe thead th {\n",
       "        text-align: right;\n",
       "    }\n",
       "</style>\n",
       "<table border=\"1\" class=\"dataframe\">\n",
       "  <thead>\n",
       "    <tr style=\"text-align: right;\">\n",
       "      <th></th>\n",
       "      <th>id</th>\n",
       "      <th>anchor</th>\n",
       "      <th>target</th>\n",
       "      <th>context</th>\n",
       "      <th>score</th>\n",
       "      <th>context_text</th>\n",
       "      <th>text</th>\n",
       "    </tr>\n",
       "  </thead>\n",
       "  <tbody>\n",
       "    <tr>\n",
       "      <th>0</th>\n",
       "      <td>37d61fd2272659b1</td>\n",
       "      <td>abatement</td>\n",
       "      <td>abatement of pollution</td>\n",
       "      <td>A47</td>\n",
       "      <td>0.50</td>\n",
       "      <td>HUMAN NECESSITIES. FURNITURE; DOMESTIC ARTICLE...</td>\n",
       "      <td>abatement[SEP]abatement of pollution[SEP]HUMAN...</td>\n",
       "    </tr>\n",
       "    <tr>\n",
       "      <th>1</th>\n",
       "      <td>7b9652b17b68b7a4</td>\n",
       "      <td>abatement</td>\n",
       "      <td>act of abating</td>\n",
       "      <td>A47</td>\n",
       "      <td>0.75</td>\n",
       "      <td>HUMAN NECESSITIES. FURNITURE; DOMESTIC ARTICLE...</td>\n",
       "      <td>abatement[SEP]act of abating[SEP]HUMAN NECESSI...</td>\n",
       "    </tr>\n",
       "    <tr>\n",
       "      <th>2</th>\n",
       "      <td>36d72442aefd8232</td>\n",
       "      <td>abatement</td>\n",
       "      <td>active catalyst</td>\n",
       "      <td>A47</td>\n",
       "      <td>0.25</td>\n",
       "      <td>HUMAN NECESSITIES. FURNITURE; DOMESTIC ARTICLE...</td>\n",
       "      <td>abatement[SEP]active catalyst[SEP]HUMAN NECESS...</td>\n",
       "    </tr>\n",
       "    <tr>\n",
       "      <th>3</th>\n",
       "      <td>5296b0c19e1ce60e</td>\n",
       "      <td>abatement</td>\n",
       "      <td>eliminating process</td>\n",
       "      <td>A47</td>\n",
       "      <td>0.50</td>\n",
       "      <td>HUMAN NECESSITIES. FURNITURE; DOMESTIC ARTICLE...</td>\n",
       "      <td>abatement[SEP]eliminating process[SEP]HUMAN NE...</td>\n",
       "    </tr>\n",
       "    <tr>\n",
       "      <th>4</th>\n",
       "      <td>54c1e3b9184cb5b6</td>\n",
       "      <td>abatement</td>\n",
       "      <td>forest region</td>\n",
       "      <td>A47</td>\n",
       "      <td>0.00</td>\n",
       "      <td>HUMAN NECESSITIES. FURNITURE; DOMESTIC ARTICLE...</td>\n",
       "      <td>abatement[SEP]forest region[SEP]HUMAN NECESSIT...</td>\n",
       "    </tr>\n",
       "  </tbody>\n",
       "</table>\n",
       "</div>"
      ],
      "text/plain": [
       "                 id     anchor                  target context  score                                       context_text                                               text\n",
       "0  37d61fd2272659b1  abatement  abatement of pollution     A47   0.50  HUMAN NECESSITIES. FURNITURE; DOMESTIC ARTICLE...  abatement[SEP]abatement of pollution[SEP]HUMAN...\n",
       "1  7b9652b17b68b7a4  abatement          act of abating     A47   0.75  HUMAN NECESSITIES. FURNITURE; DOMESTIC ARTICLE...  abatement[SEP]act of abating[SEP]HUMAN NECESSI...\n",
       "2  36d72442aefd8232  abatement         active catalyst     A47   0.25  HUMAN NECESSITIES. FURNITURE; DOMESTIC ARTICLE...  abatement[SEP]active catalyst[SEP]HUMAN NECESS...\n",
       "3  5296b0c19e1ce60e  abatement     eliminating process     A47   0.50  HUMAN NECESSITIES. FURNITURE; DOMESTIC ARTICLE...  abatement[SEP]eliminating process[SEP]HUMAN NE...\n",
       "4  54c1e3b9184cb5b6  abatement           forest region     A47   0.00  HUMAN NECESSITIES. FURNITURE; DOMESTIC ARTICLE...  abatement[SEP]forest region[SEP]HUMAN NECESSIT..."
      ]
     },
     "metadata": {},
     "output_type": "display_data"
    },
    {
     "data": {
      "text/html": [
       "<div>\n",
       "<style scoped>\n",
       "    .dataframe tbody tr th:only-of-type {\n",
       "        vertical-align: middle;\n",
       "    }\n",
       "\n",
       "    .dataframe tbody tr th {\n",
       "        vertical-align: top;\n",
       "    }\n",
       "\n",
       "    .dataframe thead th {\n",
       "        text-align: right;\n",
       "    }\n",
       "</style>\n",
       "<table border=\"1\" class=\"dataframe\">\n",
       "  <thead>\n",
       "    <tr style=\"text-align: right;\">\n",
       "      <th></th>\n",
       "      <th>id</th>\n",
       "      <th>anchor</th>\n",
       "      <th>target</th>\n",
       "      <th>context</th>\n",
       "      <th>context_text</th>\n",
       "      <th>text</th>\n",
       "    </tr>\n",
       "  </thead>\n",
       "  <tbody>\n",
       "    <tr>\n",
       "      <th>0</th>\n",
       "      <td>4112d61851461f60</td>\n",
       "      <td>opc drum</td>\n",
       "      <td>inorganic photoconductor drum</td>\n",
       "      <td>G02</td>\n",
       "      <td>PHYSICS. OPTICS</td>\n",
       "      <td>opc drum[SEP]inorganic photoconductor drum[SEP...</td>\n",
       "    </tr>\n",
       "    <tr>\n",
       "      <th>1</th>\n",
       "      <td>09e418c93a776564</td>\n",
       "      <td>adjust gas flow</td>\n",
       "      <td>altering gas flow</td>\n",
       "      <td>F23</td>\n",
       "      <td>MECHANICAL ENGINEERING; LIGHTING; HEATING; WEA...</td>\n",
       "      <td>adjust gas flow[SEP]altering gas flow[SEP]MECH...</td>\n",
       "    </tr>\n",
       "    <tr>\n",
       "      <th>2</th>\n",
       "      <td>36baf228038e314b</td>\n",
       "      <td>lower trunnion</td>\n",
       "      <td>lower locating</td>\n",
       "      <td>B60</td>\n",
       "      <td>PERFORMING OPERATIONS; TRANSPORTING. VEHICLES ...</td>\n",
       "      <td>lower trunnion[SEP]lower locating[SEP]PERFORMI...</td>\n",
       "    </tr>\n",
       "    <tr>\n",
       "      <th>3</th>\n",
       "      <td>1f37ead645e7f0c8</td>\n",
       "      <td>cap component</td>\n",
       "      <td>upper portion</td>\n",
       "      <td>D06</td>\n",
       "      <td>TEXTILES; PAPER. TREATMENT OF TEXTILES OR THE ...</td>\n",
       "      <td>cap component[SEP]upper portion[SEP]TEXTILES; ...</td>\n",
       "    </tr>\n",
       "    <tr>\n",
       "      <th>4</th>\n",
       "      <td>71a5b6ad068d531f</td>\n",
       "      <td>neural stimulation</td>\n",
       "      <td>artificial neural network</td>\n",
       "      <td>H04</td>\n",
       "      <td>ELECTRICITY. ELECTRIC COMMUNICATION TECHNIQUE</td>\n",
       "      <td>neural stimulation[SEP]artificial neural netwo...</td>\n",
       "    </tr>\n",
       "  </tbody>\n",
       "</table>\n",
       "</div>"
      ],
      "text/plain": [
       "                 id              anchor                         target context                                       context_text                                               text\n",
       "0  4112d61851461f60            opc drum  inorganic photoconductor drum     G02                                    PHYSICS. OPTICS  opc drum[SEP]inorganic photoconductor drum[SEP...\n",
       "1  09e418c93a776564     adjust gas flow              altering gas flow     F23  MECHANICAL ENGINEERING; LIGHTING; HEATING; WEA...  adjust gas flow[SEP]altering gas flow[SEP]MECH...\n",
       "2  36baf228038e314b      lower trunnion                 lower locating     B60  PERFORMING OPERATIONS; TRANSPORTING. VEHICLES ...  lower trunnion[SEP]lower locating[SEP]PERFORMI...\n",
       "3  1f37ead645e7f0c8       cap component                  upper portion     D06  TEXTILES; PAPER. TREATMENT OF TEXTILES OR THE ...  cap component[SEP]upper portion[SEP]TEXTILES; ...\n",
       "4  71a5b6ad068d531f  neural stimulation      artificial neural network     H04      ELECTRICITY. ELECTRIC COMMUNICATION TECHNIQUE  neural stimulation[SEP]artificial neural netwo..."
      ]
     },
     "metadata": {},
     "output_type": "display_data"
    }
   ],
   "source": [
    "pad = \"[SEP]\"\n",
    "train['text'] = train['anchor'] + pad + train['target'] +pad  + train['context_text']\n",
    "test['text'] = test['anchor'] + pad + test['target'] +pad  + test['context_text']\n",
    "display(train.head())\n",
    "display(test.head())"
   ]
  },
  {
   "cell_type": "markdown",
   "id": "b01d622c",
   "metadata": {
    "papermill": {
     "duration": 0.040462,
     "end_time": "2022-03-22T09:40:38.462517",
     "exception": false,
     "start_time": "2022-03-22T09:40:38.422055",
     "status": "completed"
    },
    "tags": []
   },
   "source": [
    "# EDA"
   ]
  },
  {
   "cell_type": "code",
   "execution_count": 15,
   "id": "560906cd",
   "metadata": {
    "papermill": {
     "duration": 0.298955,
     "end_time": "2022-03-22T09:40:38.799273",
     "exception": false,
     "start_time": "2022-03-22T09:40:38.500318",
     "status": "completed"
    },
    "tags": []
   },
   "outputs": [
    {
     "data": {
      "text/plain": [
       "<AxesSubplot:>"
      ]
     },
     "execution_count": 15,
     "metadata": {},
     "output_type": "execute_result"
    },
    {
     "data": {
      "image/png": "[encoded data removed]",
      "text/plain": [
       "<Figure size 432x288 with 1 Axes>"
      ]
     },
     "metadata": {
      "needs_background": "light"
     },
     "output_type": "display_data"
    }
   ],
   "source": [
    "train['score'].hist()"
   ]
  },
  {
   "cell_type": "code",
   "execution_count": 16,
   "id": "bb2122ec",
   "metadata": {
    "papermill": {
     "duration": 0.072329,
     "end_time": "2022-03-22T09:40:38.914779",
     "exception": false,
     "start_time": "2022-03-22T09:40:38.842450",
     "status": "completed"
    },
    "tags": []
   },
   "outputs": [
    {
     "data": {
      "text/plain": [
       "B    8019\n",
       "H    6195\n",
       "G    6013\n",
       "C    5288\n",
       "A    4094\n",
       "F    4054\n",
       "E    1531\n",
       "D    1279\n",
       "Name: context, dtype: int64"
      ]
     },
     "metadata": {},
     "output_type": "display_data"
    }
   ],
   "source": [
    "display(train['context'].apply(lambda x: x[0]).value_counts())"
   ]
  },
  {
   "cell_type": "markdown",
   "id": "fdc1e4e5",
   "metadata": {
    "papermill": {
     "duration": 0.040834,
     "end_time": "2022-03-22T09:40:38.997435",
     "exception": false,
     "start_time": "2022-03-22T09:40:38.956601",
     "status": "completed"
    },
    "tags": []
   },
   "source": [
    "- Y is not in training data, but may be in test data?"
   ]
  },
  {
   "cell_type": "markdown",
   "id": "9249864a",
   "metadata": {
    "id": "9e05b6c4",
    "papermill": {
     "duration": 0.041734,
     "end_time": "2022-03-22T09:40:39.084284",
     "exception": false,
     "start_time": "2022-03-22T09:40:39.042550",
     "status": "completed"
    },
    "tags": []
   },
   "source": [
    "# CV split"
   ]
  },
  {
   "cell_type": "code",
   "execution_count": 17,
   "id": "44a41536",
   "metadata": {
    "executionInfo": {
     "elapsed": 12,
     "status": "ok",
     "timestamp": 1644920084528,
     "user": {
      "displayName": "Yasufumi Nakama",
      "photoUrl": "https://lh3.googleusercontent.com/a/default-user=s64",
      "userId": "17486303986134302670"
     },
     "user_tz": -540
    },
    "id": "3ba287c4",
    "outputId": "307dc0e2-17d6-4bfe-9e95-fdd9b6303974",
    "papermill": {
     "duration": 0.074115,
     "end_time": "2022-03-22T09:40:39.201383",
     "exception": false,
     "start_time": "2022-03-22T09:40:39.127268",
     "status": "completed"
    },
    "tags": []
   },
   "outputs": [
    {
     "data": {
      "text/plain": [
       "fold\n",
       "0    9119\n",
       "1    9118\n",
       "2    9118\n",
       "3    9118\n",
       "dtype: int64"
      ]
     },
     "metadata": {},
     "output_type": "display_data"
    }
   ],
   "source": [
    "# ====================================================\n",
    "# CV split\n",
    "# ====================================================\n",
    "train['score_map'] = train['score'].map({0.00: 0, 0.25: 1, 0.50: 2, 0.75: 3, 1.00: 4})\n",
    "Fold = StratifiedKFold(n_splits=CFG.n_fold, shuffle=True, random_state=CFG.seed)\n",
    "for n, (train_index, val_index) in enumerate(Fold.split(train, train['score_map'])):\n",
    "    train.loc[val_index, 'fold'] = int(n)\n",
    "train['fold'] = train['fold'].astype(int)\n",
    "display(train.groupby('fold').size())"
   ]
  },
  {
   "cell_type": "code",
   "execution_count": 18,
   "id": "bb9ce665",
   "metadata": {
    "id": "4c3ce877",
    "papermill": {
     "duration": 0.049441,
     "end_time": "2022-03-22T09:40:39.291307",
     "exception": false,
     "start_time": "2022-03-22T09:40:39.241866",
     "status": "completed"
    },
    "tags": []
   },
   "outputs": [],
   "source": [
    "if CFG.debug:\n",
    "    display(train.groupby('fold').size())\n",
    "    train = train.sample(n=1000, random_state=0).reset_index(drop=True)\n",
    "    display(train.groupby('fold').size())"
   ]
  },
  {
   "cell_type": "markdown",
   "id": "a7adea75",
   "metadata": {
    "id": "918a28aa",
    "papermill": {
     "duration": 0.039494,
     "end_time": "2022-03-22T09:40:39.374931",
     "exception": false,
     "start_time": "2022-03-22T09:40:39.335437",
     "status": "completed"
    },
    "tags": []
   },
   "source": [
    "# tokenizer"
   ]
  },
  {
   "cell_type": "code",
   "execution_count": 19,
   "id": "4efc387f",
   "metadata": {},
   "outputs": [],
   "source": [
    "# !pip install --no-cache-dir sentencepiece"
   ]
  },
  {
   "cell_type": "code",
   "execution_count": 20,
   "id": "54f8891e",
   "metadata": {
    "papermill": {
     "duration": 5.198604,
     "end_time": "2022-03-22T09:40:44.612849",
     "exception": false,
     "start_time": "2022-03-22T09:40:39.414245",
     "status": "completed"
    },
    "tags": []
   },
   "outputs": [],
   "source": [
    "# ====================================================\n",
    "# tokenizer\n",
    "# ====================================================\n",
    "# tokenizer = AutoTokenizer.from_pretrained(CFG.model,use_fast=False)\n",
    "tokenizer = AutoTokenizer.from_pretrained(CFG.model,use_fast=False)\n",
    "tokenizer.save_pretrained(OUTPUT_DIR+'tokenizer/')\n",
    "CFG.tokenizer = tokenizer\n",
    "\n"
   ]
  },
  {
   "cell_type": "code",
   "execution_count": 21,
   "id": "7cf880ca-b3fb-4603-9194-fc20c0f93e59",
   "metadata": {},
   "outputs": [
    {
     "data": {
      "text/plain": [
       "PreTrainedTokenizerFast(name_or_path='./output/microsoft-mpnet-base-attention2/tokenizer/', vocab_size=30527, model_max_len=512, is_fast=True, padding_side='right', truncation_side='right', special_tokens={'bos_token': AddedToken(\"<s>\", rstrip=False, lstrip=False, single_word=False, normalized=True), 'eos_token': AddedToken(\"</s>\", rstrip=False, lstrip=False, single_word=False, normalized=True), 'unk_token': AddedToken(\"[UNK]\", rstrip=False, lstrip=False, single_word=False, normalized=True), 'sep_token': AddedToken(\"</s>\", rstrip=False, lstrip=False, single_word=False, normalized=True), 'pad_token': AddedToken(\"<pad>\", rstrip=False, lstrip=False, single_word=False, normalized=True), 'cls_token': AddedToken(\"<s>\", rstrip=False, lstrip=False, single_word=False, normalized=True), 'mask_token': AddedToken(\"<mask>\", rstrip=False, lstrip=True, single_word=False, normalized=True)})"
      ]
     },
     "execution_count": 21,
     "metadata": {},
     "output_type": "execute_result"
    }
   ],
   "source": [
    "# CFG.tokenizer = AutoTokenizer.from_pretrained(OUTPUT_DIR+'tokenizer/')\n",
    "# CFG.tokenizer\n",
    "AutoTokenizer.from_pretrained(OUTPUT_DIR+'tokenizer/')"
   ]
  },
  {
   "cell_type": "markdown",
   "id": "d9fca227",
   "metadata": {
    "id": "14da40cf",
    "papermill": {
     "duration": 0.04897,
     "end_time": "2022-03-22T09:40:44.706931",
     "exception": false,
     "start_time": "2022-03-22T09:40:44.657961",
     "status": "completed"
    },
    "tags": []
   },
   "source": [
    "# Dataset"
   ]
  },
  {
   "cell_type": "code",
   "execution_count": 22,
   "id": "2671471a",
   "metadata": {
    "executionInfo": {
     "elapsed": 32827,
     "status": "ok",
     "timestamp": 1644920122500,
     "user": {
      "displayName": "Yasufumi Nakama",
      "photoUrl": "https://lh3.googleusercontent.com/a/default-user=s64",
      "userId": "17486303986134302670"
     },
     "user_tz": -540
    },
    "id": "c00327b0",
    "outputId": "26e947da-b73a-494d-e776-906b037ac08a",
    "papermill": {
     "duration": 7.208379,
     "end_time": "2022-03-22T09:40:51.959343",
     "exception": false,
     "start_time": "2022-03-22T09:40:44.750964",
     "status": "completed"
    },
    "tags": []
   },
   "outputs": [
    {
     "data": {
      "application/vnd.jupyter.widget-view+json": {
       "model_id": "24bd768a4d0d4b6a8eaba8f533cf31c4",
       "version_major": 2,
       "version_minor": 0
      },
      "text/plain": [
       "  0%|          | 0/136 [00:00<?, ?it/s]"
      ]
     },
     "metadata": {},
     "output_type": "display_data"
    },
    {
     "data": {
      "application/vnd.jupyter.widget-view+json": {
       "model_id": "e31347997d084b3090345d2e51a95aeb",
       "version_major": 2,
       "version_minor": 0
      },
      "text/plain": [
       "  0%|          | 0/36473 [00:00<?, ?it/s]"
      ]
     },
     "metadata": {},
     "output_type": "display_data"
    },
    {
     "data": {
      "application/vnd.jupyter.widget-view+json": {
       "model_id": "e51172555e7d4fd8b8ed28113fc89447",
       "version_major": 2,
       "version_minor": 0
      },
      "text/plain": [
       "  0%|          | 0/36473 [00:00<?, ?it/s]"
      ]
     },
     "metadata": {},
     "output_type": "display_data"
    },
    {
     "name": "stderr",
     "output_type": "stream",
     "text": [
      "max_len: 125\n"
     ]
    }
   ],
   "source": [
    "# ====================================================\n",
    "# Define max_len\n",
    "# ====================================================\n",
    "lengths_dict = {}\n",
    "\n",
    "lengths = []\n",
    "tk0 = tqdm(cpc_texts.values(), total=len(cpc_texts))\n",
    "for text in tk0:\n",
    "    length = len(tokenizer(text, add_special_tokens=False)['input_ids'])\n",
    "    lengths.append(length)\n",
    "lengths_dict['context_text'] = lengths\n",
    "\n",
    "for text_col in ['anchor', 'target']:\n",
    "    lengths = []\n",
    "    tk0 = tqdm(train[text_col].fillna(\"\").values, total=len(train))\n",
    "    for text in tk0:\n",
    "        length = len(tokenizer(text, add_special_tokens=False)['input_ids'])\n",
    "        lengths.append(length)\n",
    "    lengths_dict[text_col] = lengths\n",
    "    \n",
    "CFG.max_len = max(lengths_dict['anchor']) + max(lengths_dict['target'])\\\n",
    "                + max(lengths_dict['context_text']) + 4 # CLS + SEP + SEP + SEP\n",
    "LOGGER.info(f\"max_len: {CFG.max_len}\")"
   ]
  },
  {
   "cell_type": "code",
   "execution_count": 23,
   "id": "49be5a92",
   "metadata": {
    "id": "9f791a19",
    "papermill": {
     "duration": 0.055528,
     "end_time": "2022-03-22T09:40:52.072178",
     "exception": false,
     "start_time": "2022-03-22T09:40:52.016650",
     "status": "completed"
    },
    "tags": []
   },
   "outputs": [
    {
     "name": "stdout",
     "output_type": "stream",
     "text": [
      "torch.__version__: 1.9.0+cu111\n"
     ]
    }
   ],
   "source": [
    "# ====================================================\n",
    "# Dataset\n",
    "# ====================================================\n",
    "def prepare_input(cfg, text):\n",
    "    inputs = cfg.tokenizer(text,\n",
    "                           add_special_tokens=True,\n",
    "                           max_length=cfg.max_len,\n",
    "                           padding=\"max_length\",\n",
    "                           return_offsets_mapping=False)\n",
    "    for k, v in inputs.items():\n",
    "        inputs[k] = torch.tensor(v, dtype=torch.long)\n",
    "    return inputs\n",
    "\n",
    "sys.path.append('../dataset')\n",
    "from dataset import TrainDataset"
   ]
  },
  {
   "cell_type": "code",
   "execution_count": 24,
   "id": "a459997d",
   "metadata": {
    "executionInfo": {
     "elapsed": 8,
     "status": "ok",
     "timestamp": 1644920122808,
     "user": {
      "displayName": "Yasufumi Nakama",
      "photoUrl": "https://lh3.googleusercontent.com/a/default-user=s64",
      "userId": "17486303986134302670"
     },
     "user_tz": -540
    },
    "id": "a200bd5b",
    "outputId": "a30fde2b-86f9-4ebd-ae81-33f467b69836",
    "papermill": {
     "duration": 0.05166,
     "end_time": "2022-03-22T09:40:52.171272",
     "exception": false,
     "start_time": "2022-03-22T09:40:52.119612",
     "status": "completed"
    },
    "tags": []
   },
   "outputs": [
    {
     "data": {
      "text/plain": [
       "'\\ntrain_dataset = TrainDataset(CFG, train)\\ninputs, label = train_dataset[0]\\nprint(inputs)\\nprint(label)\\n'"
      ]
     },
     "execution_count": 24,
     "metadata": {},
     "output_type": "execute_result"
    }
   ],
   "source": [
    "\"\"\"\n",
    "train_dataset = TrainDataset(CFG, train)\n",
    "inputs, label = train_dataset[0]\n",
    "print(inputs)\n",
    "print(label)\n",
    "\"\"\""
   ]
  },
  {
   "cell_type": "markdown",
   "id": "44d28ba3",
   "metadata": {
    "id": "e04d6363",
    "papermill": {
     "duration": 0.044161,
     "end_time": "2022-03-22T09:40:52.262022",
     "exception": false,
     "start_time": "2022-03-22T09:40:52.217861",
     "status": "completed"
    },
    "tags": []
   },
   "source": [
    "# Model"
   ]
  },
  {
   "cell_type": "code",
   "execution_count": 25,
   "id": "872e6567",
   "metadata": {
    "id": "4c5bab44",
    "papermill": {
     "duration": 0.066203,
     "end_time": "2022-03-22T09:40:52.372030",
     "exception": false,
     "start_time": "2022-03-22T09:40:52.305827",
     "status": "completed"
    },
    "tags": []
   },
   "outputs": [],
   "source": [
    "# # ====================================================\n",
    "# # Model\n",
    "# # ====================================================\n",
    "# class CustomModel(nn.Module):\n",
    "#     def __init__(self, cfg, config_path=None, pretrained=False):\n",
    "#         super().__init__()\n",
    "#         self.cfg = cfg\n",
    "#         if config_path is None:\n",
    "#             self.config = AutoConfig.from_pretrained(cfg.model, output_hidden_states=True)\n",
    "#         else:\n",
    "#             self.config = torch.load(config_path)\n",
    "#         if pretrained:\n",
    "#             self.model = AutoModel.from_pretrained(cfg.model, config=self.config)\n",
    "#         else:\n",
    "#             self.model = AutoModel.from_config(self.config)\n",
    "#         self.fc_dropout = nn.Dropout(cfg.fc_dropout)\n",
    "#         self.fc = nn.Linear(self.config.hidden_size, self.cfg.target_size)\n",
    "#         self._init_weights(self.fc)\n",
    "#         self.attention = nn.Sequential(\n",
    "#             nn.Linear(self.config.hidden_size, 512),\n",
    "#             nn.Tanh(),\n",
    "#             nn.Linear(512, 1),\n",
    "#             nn.Softmax(dim=1)\n",
    "#         )\n",
    "#         self._init_weights(self.attention)\n",
    "        \n",
    "#     def _init_weights(self, module):\n",
    "#         if isinstance(module, nn.Linear):\n",
    "#             module.weight.data.normal_(mean=0.0, std=self.config.initializer_range)\n",
    "#             if module.bias is not None:\n",
    "#                 module.bias.data.zero_()\n",
    "#         elif isinstance(module, nn.Embedding):\n",
    "#             module.weight.data.normal_(mean=0.0, std=self.config.initializer_range)\n",
    "#             if module.padding_idx is not None:\n",
    "#                 module.weight.data[module.padding_idx].zero_()\n",
    "#         elif isinstance(module, nn.LayerNorm):\n",
    "#             module.bias.data.zero_()\n",
    "#             module.weight.data.fill_(1.0)\n",
    "        \n",
    "#     def feature(self, inputs):\n",
    "#         outputs = self.model(**inputs)\n",
    "#         last_hidden_states = outputs[0]\n",
    "#         # feature = torch.mean(last_hidden_states, 1)\n",
    "#         weights = self.attention(last_hidden_states)\n",
    "#         feature = torch.sum(weights * last_hidden_states, dim=1)\n",
    "#         return feature\n",
    "\n",
    "#     def forward(self, inputs):\n",
    "#         feature = self.feature(inputs)\n",
    "#         output = self.fc(self.fc_dropout(feature))\n",
    "#         return output\n",
    "    \n"
   ]
  },
  {
   "cell_type": "code",
   "execution_count": 26,
   "id": "c710a8fd-cedd-4c11-bbb3-37a7ea484d64",
   "metadata": {},
   "outputs": [],
   "source": [
    "class CustomModel2(nn.Module):\n",
    "    def __init__(self, cfg, config_path=None, pretrained=False):\n",
    "        super().__init__()\n",
    "        self.cfg = cfg\n",
    "        if config_path is None:\n",
    "            self.config = AutoConfig.from_pretrained(cfg.model, output_hidden_states=True)\n",
    "        else:\n",
    "            self.config = torch.load(config_path)\n",
    "        if pretrained:\n",
    "            self.model = AutoModel.from_pretrained(cfg.model, config=self.config)\n",
    "            token_embeddings_size = len(CFG.tokenizer)\n",
    "            self.model.resize_token_embeddings(token_embeddings_size)\n",
    "        else:\n",
    "            self.model = AutoModel.from_config(self.config)\n",
    "\n",
    "        self.fc_dropout1 = nn.Dropout(0.1)\n",
    "        self.fc_dropout2 = nn.Dropout(0.2)\n",
    "        self.fc_dropout3 = nn.Dropout(0.3)\n",
    "        self.fc_dropout4 = nn.Dropout(0.4)\n",
    "        self.fc_dropout5 = nn.Dropout(0.5)\n",
    "\n",
    "        self.fc = nn.Linear(self.config.hidden_size, self.cfg.target_size)\n",
    "        self._init_weights(self.fc)\n",
    "        # これがいわゆるattention pool\n",
    "        # https://www.kaggle.com/competitions/us-patent-phrase-to-phrase-matching/discussion/324330\n",
    "        self.attention = nn.Sequential(\n",
    "            nn.Linear(self.config.hidden_size, self.config.hidden_size),\n",
    "            nn.LayerNorm(self.config.hidden_size),\n",
    "            nn.GELU(),\n",
    "            nn.Linear(self.config.hidden_size, 1),\n",
    "            nn.Softmax(dim=1)\n",
    "        )\n",
    "        self._init_weights(self.attention)\n",
    "        \n",
    "    def _init_weights(self, module):\n",
    "        if isinstance(module, nn.Linear):\n",
    "            module.weight.data.normal_(mean=0.0, std=self.config.initializer_range)\n",
    "            if module.bias is not None:\n",
    "                module.bias.data.zero_()\n",
    "        elif isinstance(module, nn.Embedding):\n",
    "            module.weight.data.normal_(mean=0.0, std=self.config.initializer_range)\n",
    "            if module.padding_idx is not None:\n",
    "                module.weight.data[module.padding_idx].zero_()\n",
    "        elif isinstance(module, nn.LayerNorm):\n",
    "            module.bias.data.zero_()\n",
    "            module.weight.data.fill_(1.0)\n",
    "        \n",
    "    def feature(self, inputs):\n",
    "        outputs = self.model(**inputs)\n",
    "        last_hidden_states = outputs[0]\n",
    "        # feature = torch.mean(last_hidden_states, 1)\n",
    "        weights = self.attention(last_hidden_states)\n",
    "        feature = torch.sum(weights * last_hidden_states, dim=1)\n",
    "        return feature\n",
    "\n",
    "    def forward(self, inputs):\n",
    "        feature = self.feature(inputs)\n",
    "\n",
    "        feature1 = self.fc_dropout1(feature)\n",
    "        feature2 = self.fc_dropout2(feature)\n",
    "        feature3 = self.fc_dropout3(feature)\n",
    "        feature4 = self.fc_dropout4(feature)\n",
    "        feature5 = self.fc_dropout5(feature)\n",
    "\n",
    "        feature_all = (feature1+feature2+feature3+feature4+feature5)/5\n",
    "        output = self.fc(feature_all)\n",
    "        \n",
    "        return output"
   ]
  },
  {
   "cell_type": "markdown",
   "id": "d58eee04",
   "metadata": {
    "id": "deee9675",
    "papermill": {
     "duration": 0.044158,
     "end_time": "2022-03-22T09:40:52.460401",
     "exception": false,
     "start_time": "2022-03-22T09:40:52.416243",
     "status": "completed"
    },
    "tags": []
   },
   "source": [
    "# Helpler functions"
   ]
  },
  {
   "cell_type": "code",
   "execution_count": 27,
   "id": "53d5903c",
   "metadata": {
    "id": "c8263b0c",
    "papermill": {
     "duration": 0.078567,
     "end_time": "2022-03-22T09:40:52.582474",
     "exception": false,
     "start_time": "2022-03-22T09:40:52.503907",
     "status": "completed"
    },
    "tags": []
   },
   "outputs": [],
   "source": [
    "# ====================================================\n",
    "# Helper functions\n",
    "# ====================================================\n",
    "class AverageMeter(object):\n",
    "    \"\"\"Computes and stores the average and current value\"\"\"\n",
    "    def __init__(self):\n",
    "        self.reset()\n",
    "\n",
    "    def reset(self):\n",
    "        self.val = 0\n",
    "        self.avg = 0\n",
    "        self.sum = 0\n",
    "        self.count = 0\n",
    "\n",
    "    def update(self, val, n=1):\n",
    "        self.val = val\n",
    "        self.sum += val * n\n",
    "        self.count += n\n",
    "        self.avg = self.sum / self.count\n",
    "\n",
    "\n",
    "def asMinutes(s):\n",
    "    m = math.floor(s / 60)\n",
    "    s -= m * 60\n",
    "    return '%dm %ds' % (m, s)\n",
    "\n",
    "\n",
    "def timeSince(since, percent):\n",
    "    now = time.time()\n",
    "    s = now - since\n",
    "    es = s / (percent)\n",
    "    rs = es - s\n",
    "    return '%s (remain %s)' % (asMinutes(s), asMinutes(rs))\n",
    "\n",
    "\n",
    "def train_fn(fold, train_loader, model, criterion, optimizer, epoch, scheduler, device):\n",
    "    model.train()\n",
    "    scaler = torch.cuda.amp.GradScaler(enabled=CFG.apex)\n",
    "    losses = AverageMeter()\n",
    "    start = end = time.time()\n",
    "    global_step = 0\n",
    "    for step, (inputs, labels) in enumerate(train_loader):\n",
    "        for k, v in inputs.items():\n",
    "            inputs[k] = v.to(device)\n",
    "        labels = labels.to(device)\n",
    "        batch_size = labels.size(0)\n",
    "        with torch.cuda.amp.autocast(enabled=CFG.apex):\n",
    "            y_preds = model(inputs)\n",
    "        loss = criterion(y_preds.view(-1, 1), labels.view(-1, 1))\n",
    "        if CFG.gradient_accumulation_steps > 1:\n",
    "            loss = loss / CFG.gradient_accumulation_steps\n",
    "        losses.update(loss.item(), batch_size)\n",
    "        scaler.scale(loss).backward()\n",
    "        grad_norm = torch.nn.utils.clip_grad_norm_(model.parameters(), CFG.max_grad_norm)\n",
    "        if (step + 1) % CFG.gradient_accumulation_steps == 0:\n",
    "            scaler.step(optimizer)\n",
    "            scaler.update()\n",
    "            optimizer.zero_grad()\n",
    "            global_step += 1\n",
    "            if CFG.batch_scheduler:\n",
    "                scheduler.step()\n",
    "        end = time.time()\n",
    "        if step % CFG.print_freq == 0 or step == (len(train_loader)-1):\n",
    "            print('Epoch: [{0}][{1}/{2}] '\n",
    "                  'Elapsed {remain:s} '\n",
    "                  'Loss: {loss.val:.4f}({loss.avg:.4f}) '\n",
    "                  'Grad: {grad_norm:.4f}  '\n",
    "                  'LR: {lr:.8f}  '\n",
    "                  .format(epoch+1, step, len(train_loader), \n",
    "                          remain=timeSince(start, float(step+1)/len(train_loader)),\n",
    "                          loss=losses,\n",
    "                          grad_norm=grad_norm,\n",
    "                          lr=scheduler.get_lr()[0]))\n",
    "        if CFG.wandb:\n",
    "            wandb.log({f\"[fold{fold}] loss\": losses.val,\n",
    "                       f\"[fold{fold}] lr\": scheduler.get_lr()[0]})\n",
    "    return losses.avg\n",
    "\n",
    "\n",
    "def valid_fn(valid_loader, model, criterion, device):\n",
    "    losses = AverageMeter()\n",
    "    model.eval()\n",
    "    preds = []\n",
    "    start = end = time.time()\n",
    "    for step, (inputs, labels) in enumerate(valid_loader):\n",
    "        for k, v in inputs.items():\n",
    "            inputs[k] = v.to(device)\n",
    "        labels = labels.to(device)\n",
    "        batch_size = labels.size(0)\n",
    "        with torch.no_grad():\n",
    "            y_preds = model(inputs)\n",
    "        loss = criterion(y_preds.view(-1, 1), labels.view(-1, 1))\n",
    "        if CFG.gradient_accumulation_steps > 1:\n",
    "            loss = loss / CFG.gradient_accumulation_steps\n",
    "        losses.update(loss.item(), batch_size)\n",
    "        preds.append(y_preds.sigmoid().to('cpu').numpy())\n",
    "        end = time.time()\n",
    "        if step % CFG.print_freq == 0 or step == (len(valid_loader)-1):\n",
    "            print('EVAL: [{0}/{1}] '\n",
    "                  'Elapsed {remain:s} '\n",
    "                  'Loss: {loss.val:.4f}({loss.avg:.4f}) '\n",
    "                  .format(step, len(valid_loader),\n",
    "                          loss=losses,\n",
    "                          remain=timeSince(start, float(step+1)/len(valid_loader))))\n",
    "    predictions = np.concatenate(preds)\n",
    "    predictions = np.concatenate(predictions)\n",
    "    return losses.avg, predictions\n",
    "\n",
    "\n",
    "def inference_fn(test_loader, model, device):\n",
    "    preds = []\n",
    "    model.eval()\n",
    "    model.to(device)\n",
    "    tk0 = tqdm(test_loader, total=len(test_loader))\n",
    "    for inputs in tk0:\n",
    "        for k, v in inputs.items():\n",
    "            inputs[k] = v.to(device)\n",
    "        with torch.no_grad():\n",
    "            y_preds = model(inputs)\n",
    "        preds.append(y_preds.sigmoid().to('cpu').numpy())\n",
    "    predictions = np.concatenate(preds)\n",
    "    return predictions"
   ]
  },
  {
   "cell_type": "code",
   "execution_count": 28,
   "id": "e3e9d570",
   "metadata": {
    "id": "bed940e1",
    "papermill": {
     "duration": 0.071348,
     "end_time": "2022-03-22T09:40:52.697940",
     "exception": false,
     "start_time": "2022-03-22T09:40:52.626592",
     "status": "completed"
    },
    "tags": []
   },
   "outputs": [],
   "source": [
    "# ====================================================\n",
    "# train loop\n",
    "# ====================================================\n",
    "# def train_loop(folds, fold):\n",
    "def train_loop(train_loader, valid_loader):\n",
    "#     LOGGER.info(f\"========== fold: {fold} training ==========\")\n",
    "\n",
    "#     # ====================================================\n",
    "#     # loader\n",
    "#     # ====================================================\n",
    "#     train_folds = folds[folds['fold'] != fold].reset_index(drop=True)\n",
    "#     valid_folds = folds[folds['fold'] == fold].reset_index(drop=True)\n",
    "#     valid_labels = valid_folds['score'].values\n",
    "    \n",
    "#     train_dataset = TrainDataset(CFG, train_folds)\n",
    "#     valid_dataset = TrainDataset(CFG, valid_folds)\n",
    "\n",
    "#     train_loader = DataLoader(train_dataset,\n",
    "#                               batch_size=CFG.batch_size,\n",
    "#                               shuffle=True,\n",
    "#                               num_workers=CFG.num_workers, pin_memory=True, drop_last=True)\n",
    "#     valid_loader = DataLoader(valid_dataset,\n",
    "#                               batch_size=CFG.batch_size,\n",
    "#                               shuffle=False,\n",
    "#                               num_workers=CFG.num_workers, pin_memory=True, drop_last=False)\n",
    "\n",
    "    # ====================================================\n",
    "    # model & optimizer\n",
    "    # ====================================================\n",
    "    model = CustomModel2(CFG, config_path=None, pretrained=True)\n",
    "    torch.save(model.config, OUTPUT_DIR+'config.pth')\n",
    "    model.to(device)\n",
    "    \n",
    "    def get_optimizer_params(model, encoder_lr, decoder_lr, weight_decay=0.0):\n",
    "        param_optimizer = list(model.named_parameters())\n",
    "        no_decay = [\"bias\", \"LayerNorm.bias\", \"LayerNorm.weight\"]\n",
    "        optimizer_parameters = [\n",
    "            {'params': [p for n, p in model.model.named_parameters() if not any(nd in n for nd in no_decay)],\n",
    "             'lr': encoder_lr, 'weight_decay': weight_decay},\n",
    "            {'params': [p for n, p in model.model.named_parameters() if any(nd in n for nd in no_decay)],\n",
    "             'lr': encoder_lr, 'weight_decay': 0.0},\n",
    "            {'params': [p for n, p in model.named_parameters() if \"model\" not in n],\n",
    "             'lr': decoder_lr, 'weight_decay': 0.0}\n",
    "        ]\n",
    "        return optimizer_parameters\n",
    "\n",
    "    optimizer_parameters = get_optimizer_params(model,\n",
    "                                                encoder_lr=CFG.encoder_lr, \n",
    "                                                decoder_lr=CFG.decoder_lr,\n",
    "                                                weight_decay=CFG.weight_decay)\n",
    "    optimizer = AdamW(optimizer_parameters, lr=CFG.encoder_lr, eps=CFG.eps, betas=CFG.betas)\n",
    "    \n",
    "    # ====================================================\n",
    "    # scheduler\n",
    "    # ====================================================\n",
    "    def get_scheduler(cfg, optimizer, num_train_steps):\n",
    "        if cfg.scheduler == 'linear':\n",
    "            scheduler = get_linear_schedule_with_warmup(\n",
    "                optimizer, num_warmup_steps=cfg.num_warmup_steps, num_training_steps=num_train_steps\n",
    "            )\n",
    "        elif cfg.scheduler == 'cosine':\n",
    "            scheduler = get_cosine_schedule_with_warmup(\n",
    "                optimizer, num_warmup_steps=cfg.num_warmup_steps, num_training_steps=num_train_steps, num_cycles=cfg.num_cycles\n",
    "            )\n",
    "        return scheduler\n",
    "    \n",
    "    num_train_steps = int(len(train_folds) / CFG.batch_size * CFG.epochs)\n",
    "    scheduler = get_scheduler(CFG, optimizer, num_train_steps)\n",
    "\n",
    "    # ====================================================\n",
    "    # loop\n",
    "    # ====================================================\n",
    "    criterion = nn.BCEWithLogitsLoss(reduction=\"mean\")\n",
    "    \n",
    "    best_score = 0.\n",
    "\n",
    "    for epoch in range(CFG.epochs):\n",
    "        start_time = time.time()\n",
    "\n",
    "        # train\n",
    "        avg_loss = train_fn(fold, train_loader, model, criterion, optimizer, epoch, scheduler, device)\n",
    "\n",
    "        # eval\n",
    "        avg_val_loss, predictions = valid_fn(valid_loader, model, criterion, device)\n",
    "        \n",
    "        # scoring\n",
    "        score = get_score(valid_labels, predictions)\n",
    "\n",
    "        elapsed = time.time() - start_time\n",
    "\n",
    "        LOGGER.info(f'Epoch {epoch+1} - avg_train_loss: {avg_loss:.4f}  avg_val_loss: {avg_val_loss:.4f}  time: {elapsed:.0f}s')\n",
    "        LOGGER.info(f'Epoch {epoch+1} - Score: {score:.4f}')\n",
    "        if CFG.wandb:\n",
    "            wandb.log({f\"[fold{fold}] epoch\": epoch+1, \n",
    "                       f\"[fold{fold}] avg_train_loss\": avg_loss, \n",
    "                       f\"[fold{fold}] avg_val_loss\": avg_val_loss,\n",
    "                       f\"[fold{fold}] score\": score})\n",
    "        \n",
    "        if best_score < score:\n",
    "            best_score = score\n",
    "            LOGGER.info(f'Epoch {epoch+1} - Save Best Score: {best_score:.4f} Model')\n",
    "            torch.save({'model': model.state_dict(),\n",
    "                        'predictions': predictions},\n",
    "                        OUTPUT_DIR+f\"{CFG.model.replace('/', '-')}_fold{fold}_best.pth\")\n",
    "\n",
    "    predictions = torch.load(OUTPUT_DIR+f\"{CFG.model.replace('/', '-')}_fold{fold}_best.pth\", \n",
    "                             map_location=torch.device('cpu'))['predictions']\n",
    "    valid_folds['pred'] = predictions\n",
    "\n",
    "    torch.cuda.empty_cache()\n",
    "    gc.collect()\n",
    "    \n",
    "    return valid_folds"
   ]
  },
  {
   "cell_type": "code",
   "execution_count": 29,
   "id": "13eeaf68",
   "metadata": {
    "id": "6cc76b1e",
    "papermill": {
     "duration": 30265.411984,
     "end_time": "2022-03-22T18:05:18.155447",
     "exception": false,
     "start_time": "2022-03-22T09:40:52.743463",
     "status": "completed"
    },
    "scrolled": true,
    "tags": []
   },
   "outputs": [
    {
     "name": "stderr",
     "output_type": "stream",
     "text": [
      "========== fold: 0 training ==========\n"
     ]
    },
    {
     "name": "stdout",
     "output_type": "stream",
     "text": [
      "\u001b[38;5;40m========== fold: 0 training ==========\u001b[0m\n"
     ]
    },
    {
     "name": "stderr",
     "output_type": "stream",
     "text": [
      "Some weights of the model checkpoint at microsoft/mpnet-base were not used when initializing MPNetModel: ['lm_head.decoder.weight', 'lm_head.layer_norm.bias', 'lm_head.layer_norm.weight', 'lm_head.dense.bias', 'lm_head.dense.weight', 'lm_head.bias', 'lm_head.decoder.bias']\n",
      "- This IS expected if you are initializing MPNetModel from the checkpoint of a model trained on another task or with another architecture (e.g. initializing a BertForSequenceClassification model from a BertForPreTraining model).\n",
      "- This IS NOT expected if you are initializing MPNetModel from the checkpoint of a model that you expect to be exactly identical (initializing a BertForSequenceClassification model from a BertForSequenceClassification model).\n",
      "Some weights of MPNetModel were not initialized from the model checkpoint at microsoft/mpnet-base and are newly initialized: ['mpnet.pooler.dense.bias', 'mpnet.pooler.dense.weight']\n",
      "You should probably TRAIN this model on a down-stream task to be able to use it for predictions and inference.\n"
     ]
    },
    {
     "name": "stdout",
     "output_type": "stream",
     "text": [
      "Epoch: [1][0/3419] Elapsed 0m 0s (remain 49m 13s) Loss: 0.7010(0.7010) Grad: 46722.9570  LR: 0.00002000  \n",
      "Epoch: [1][100/3419] Elapsed 0m 12s (remain 6m 45s) Loss: 0.6893(0.6608) Grad: 16552.1035  LR: 0.00002000  \n",
      "Epoch: [1][200/3419] Elapsed 0m 23s (remain 6m 21s) Loss: 0.5358(0.6385) Grad: 33124.3398  LR: 0.00002000  \n",
      "Epoch: [1][300/3419] Elapsed 0m 35s (remain 6m 9s) Loss: 0.7036(0.6296) Grad: 24704.6660  LR: 0.00001999  \n",
      "Epoch: [1][400/3419] Elapsed 0m 47s (remain 5m 54s) Loss: 0.6383(0.6239) Grad: 40122.3555  LR: 0.00001999  \n",
      "Epoch: [1][500/3419] Elapsed 0m 58s (remain 5m 41s) Loss: 0.5984(0.6192) Grad: 15346.1602  LR: 0.00001998  \n",
      "Epoch: [1][600/3419] Elapsed 1m 10s (remain 5m 28s) Loss: 0.6679(0.6172) Grad: 31337.5918  LR: 0.00001998  \n",
      "Epoch: [1][700/3419] Elapsed 1m 21s (remain 5m 16s) Loss: 0.4808(0.6151) Grad: 24542.0254  LR: 0.00001997  \n",
      "Epoch: [1][800/3419] Elapsed 1m 33s (remain 5m 4s) Loss: 0.6392(0.6129) Grad: 29155.2188  LR: 0.00001996  \n",
      "Epoch: [1][900/3419] Elapsed 1m 45s (remain 4m 56s) Loss: 0.6296(0.6096) Grad: 50573.2539  LR: 0.00001995  \n",
      "Epoch: [1][1000/3419] Elapsed 1m 58s (remain 4m 45s) Loss: 0.6749(0.6074) Grad: 39949.9453  LR: 0.00001993  \n",
      "Epoch: [1][1100/3419] Elapsed 2m 10s (remain 4m 34s) Loss: 0.6452(0.6057) Grad: 54567.9727  LR: 0.00001992  \n",
      "Epoch: [1][1200/3419] Elapsed 2m 22s (remain 4m 23s) Loss: 0.6077(0.6031) Grad: 16436.8438  LR: 0.00001991  \n",
      "Epoch: [1][1300/3419] Elapsed 2m 34s (remain 4m 10s) Loss: 0.4725(0.6017) Grad: 59110.7461  LR: 0.00001989  \n",
      "Epoch: [1][1400/3419] Elapsed 2m 52s (remain 4m 8s) Loss: 0.5468(0.6004) Grad: 16330.2080  LR: 0.00001987  \n",
      "Epoch: [1][1500/3419] Elapsed 3m 4s (remain 3m 55s) Loss: 0.4716(0.5991) Grad: 38961.1914  LR: 0.00001985  \n",
      "Epoch: [1][1600/3419] Elapsed 3m 15s (remain 3m 42s) Loss: 0.6419(0.5978) Grad: 15136.8994  LR: 0.00001983  \n",
      "Epoch: [1][1700/3419] Elapsed 3m 27s (remain 3m 29s) Loss: 0.4911(0.5971) Grad: 65425.3945  LR: 0.00001981  \n",
      "Epoch: [1][1800/3419] Elapsed 3m 39s (remain 3m 17s) Loss: 0.6676(0.5961) Grad: 10896.7383  LR: 0.00001979  \n",
      "Epoch: [1][1900/3419] Elapsed 3m 51s (remain 3m 4s) Loss: 0.4977(0.5944) Grad: 16313.3916  LR: 0.00001976  \n",
      "Epoch: [1][2000/3419] Elapsed 4m 2s (remain 2m 52s) Loss: 0.5724(0.5933) Grad: 29228.2227  LR: 0.00001974  \n",
      "Epoch: [1][2100/3419] Elapsed 4m 14s (remain 2m 39s) Loss: 0.4507(0.5921) Grad: 72527.0156  LR: 0.00001971  \n",
      "Epoch: [1][2200/3419] Elapsed 4m 25s (remain 2m 27s) Loss: 0.6190(0.5915) Grad: 81288.6172  LR: 0.00001968  \n",
      "Epoch: [1][2300/3419] Elapsed 4m 38s (remain 2m 15s) Loss: 0.8059(0.5904) Grad: 57063.6641  LR: 0.00001965  \n",
      "Epoch: [1][2400/3419] Elapsed 4m 49s (remain 2m 2s) Loss: 0.5099(0.5900) Grad: 62277.0664  LR: 0.00001962  \n",
      "Epoch: [1][2500/3419] Elapsed 5m 1s (remain 1m 50s) Loss: 0.5669(0.5891) Grad: 110282.7188  LR: 0.00001959  \n",
      "Epoch: [1][2600/3419] Elapsed 5m 13s (remain 1m 38s) Loss: 0.4715(0.5880) Grad: 70846.2656  LR: 0.00001956  \n",
      "Epoch: [1][2700/3419] Elapsed 5m 24s (remain 1m 26s) Loss: 0.4904(0.5874) Grad: 146051.7656  LR: 0.00001952  \n",
      "Epoch: [1][2800/3419] Elapsed 5m 36s (remain 1m 14s) Loss: 0.7864(0.5862) Grad: 202658.7344  LR: 0.00001949  \n",
      "Epoch: [1][2900/3419] Elapsed 5m 47s (remain 1m 2s) Loss: 0.6936(0.5859) Grad: 110588.7891  LR: 0.00001945  \n",
      "Epoch: [1][3000/3419] Elapsed 5m 59s (remain 0m 50s) Loss: 0.5748(0.5853) Grad: 80882.0781  LR: 0.00001941  \n",
      "Epoch: [1][3100/3419] Elapsed 6m 10s (remain 0m 38s) Loss: 0.5406(0.5850) Grad: 30712.2734  LR: 0.00001937  \n",
      "Epoch: [1][3200/3419] Elapsed 6m 23s (remain 0m 26s) Loss: 0.5613(0.5849) Grad: 114263.5234  LR: 0.00001933  \n",
      "Epoch: [1][3300/3419] Elapsed 6m 34s (remain 0m 14s) Loss: 0.5607(0.5843) Grad: 39294.0000  LR: 0.00001929  \n",
      "Epoch: [1][3400/3419] Elapsed 6m 46s (remain 0m 2s) Loss: 0.5160(0.5841) Grad: 42368.8828  LR: 0.00001925  \n",
      "Epoch: [1][3418/3419] Elapsed 6m 48s (remain 0m 0s) Loss: 0.3226(0.5840) Grad: 56352.3477  LR: 0.00001924  \n"
     ]
    },
    {
     "name": "stderr",
     "output_type": "stream",
     "text": [
      "[W pthreadpool-cpp.cc:90] Warning: Leaking Caffe2 thread-pool after fork. (function pthreadpool)\n",
      "[W pthreadpool-cpp.cc:90] Warning: Leaking Caffe2 thread-pool after fork. (function pthreadpool)\n"
     ]
    },
    {
     "name": "stdout",
     "output_type": "stream",
     "text": [
      "EVAL: [0/1140] Elapsed 0m 0s (remain 2m 59s) Loss: 0.5649(0.5649) \n"
     ]
    },
    {
     "name": "stderr",
     "output_type": "stream",
     "text": [
      "[W pthreadpool-cpp.cc:90] Warning: Leaking Caffe2 thread-pool after fork. (function pthreadpool)\n",
      "[W pthreadpool-cpp.cc:90] Warning: Leaking Caffe2 thread-pool after fork. (function pthreadpool)\n"
     ]
    },
    {
     "name": "stdout",
     "output_type": "stream",
     "text": [
      "EVAL: [100/1140] Elapsed 0m 2s (remain 0m 29s) Loss: 0.5717(0.5511) \n",
      "EVAL: [200/1140] Elapsed 0m 5s (remain 0m 26s) Loss: 0.4466(0.5532) \n",
      "EVAL: [300/1140] Elapsed 0m 8s (remain 0m 23s) Loss: 0.7650(0.5534) \n",
      "EVAL: [400/1140] Elapsed 0m 10s (remain 0m 20s) Loss: 0.4941(0.5540) \n",
      "EVAL: [500/1140] Elapsed 0m 13s (remain 0m 17s) Loss: 0.5931(0.5596) \n",
      "EVAL: [600/1140] Elapsed 0m 16s (remain 0m 14s) Loss: 0.5508(0.5588) \n",
      "EVAL: [700/1140] Elapsed 0m 18s (remain 0m 11s) Loss: 0.6467(0.5597) \n",
      "EVAL: [800/1140] Elapsed 0m 21s (remain 0m 9s) Loss: 0.6676(0.5585) \n",
      "EVAL: [900/1140] Elapsed 0m 24s (remain 0m 6s) Loss: 0.4460(0.5573) \n",
      "EVAL: [1000/1140] Elapsed 0m 27s (remain 0m 3s) Loss: 0.5484(0.5587) \n",
      "EVAL: [1100/1140] Elapsed 0m 29s (remain 0m 1s) Loss: 0.6012(0.5587) \n"
     ]
    },
    {
     "name": "stderr",
     "output_type": "stream",
     "text": [
      "Epoch 1 - avg_train_loss: 0.5840  avg_val_loss: 0.5582  time: 439s\n",
      "Epoch 1 - Score: 0.7844\n",
      "Epoch 1 - Save Best Score: 0.7844 Model\n"
     ]
    },
    {
     "name": "stdout",
     "output_type": "stream",
     "text": [
      "EVAL: [1139/1140] Elapsed 0m 30s (remain 0m 0s) Loss: 0.6191(0.5582) \n"
     ]
    },
    {
     "name": "stderr",
     "output_type": "stream",
     "text": [
      "[W pthreadpool-cpp.cc:90] Warning: Leaking Caffe2 thread-pool after fork. (function pthreadpool)\n",
      "[W pthreadpool-cpp.cc:90] Warning: Leaking Caffe2 thread-pool after fork. (function pthreadpool)\n",
      "[W pthreadpool-cpp.cc:90] Warning: Leaking Caffe2 thread-pool after fork. (function pthreadpool)\n",
      "[W pthreadpool-cpp.cc:90] Warning: Leaking Caffe2 thread-pool after fork. (function pthreadpool)\n"
     ]
    },
    {
     "name": "stdout",
     "output_type": "stream",
     "text": [
      "Epoch: [2][0/3419] Elapsed 0m 0s (remain 19m 13s) Loss: 0.4994(0.4994) Grad: 43704.1211  LR: 0.00001924  \n",
      "Epoch: [2][100/3419] Elapsed 0m 11s (remain 6m 17s) Loss: 0.4119(0.5430) Grad: 35575.1211  LR: 0.00001919  \n",
      "Epoch: [2][200/3419] Elapsed 0m 24s (remain 6m 24s) Loss: 0.6923(0.5556) Grad: 41070.1016  LR: 0.00001915  \n",
      "Epoch: [2][300/3419] Elapsed 0m 35s (remain 6m 4s) Loss: 0.5053(0.5526) Grad: 56140.1875  LR: 0.00001910  \n",
      "Epoch: [2][400/3419] Elapsed 0m 46s (remain 5m 48s) Loss: 0.5625(0.5569) Grad: 99907.3750  LR: 0.00001905  \n",
      "Epoch: [2][500/3419] Elapsed 0m 57s (remain 5m 34s) Loss: 0.4121(0.5562) Grad: 27818.6719  LR: 0.00001900  \n",
      "Epoch: [2][600/3419] Elapsed 1m 8s (remain 5m 21s) Loss: 0.5093(0.5572) Grad: 83445.5000  LR: 0.00001895  \n",
      "Epoch: [2][700/3419] Elapsed 1m 19s (remain 5m 9s) Loss: 0.6562(0.5573) Grad: 163460.6406  LR: 0.00001890  \n",
      "Epoch: [2][800/3419] Elapsed 1m 30s (remain 4m 57s) Loss: 0.5493(0.5559) Grad: 88863.4219  LR: 0.00001885  \n",
      "Epoch: [2][900/3419] Elapsed 1m 42s (remain 4m 46s) Loss: 0.4497(0.5560) Grad: 84149.6562  LR: 0.00001879  \n",
      "Epoch: [2][1000/3419] Elapsed 1m 54s (remain 4m 37s) Loss: 0.3784(0.5549) Grad: 77467.1953  LR: 0.00001874  \n",
      "Epoch: [2][1100/3419] Elapsed 2m 6s (remain 4m 26s) Loss: 0.4648(0.5538) Grad: 56486.4727  LR: 0.00001868  \n",
      "Epoch: [2][1200/3419] Elapsed 2m 18s (remain 4m 15s) Loss: 0.5295(0.5540) Grad: 17152.3223  LR: 0.00001863  \n",
      "Epoch: [2][1300/3419] Elapsed 2m 30s (remain 4m 4s) Loss: 0.5404(0.5549) Grad: 98342.9844  LR: 0.00001857  \n",
      "Epoch: [2][1400/3419] Elapsed 2m 41s (remain 3m 53s) Loss: 0.3875(0.5540) Grad: 15810.1494  LR: 0.00001851  \n",
      "Epoch: [2][1500/3419] Elapsed 2m 53s (remain 3m 42s) Loss: 0.4902(0.5549) Grad: 28679.6113  LR: 0.00001845  \n",
      "Epoch: [2][1600/3419] Elapsed 3m 5s (remain 3m 30s) Loss: 0.5189(0.5547) Grad: 23718.3574  LR: 0.00001838  \n",
      "Epoch: [2][1700/3419] Elapsed 3m 17s (remain 3m 19s) Loss: 0.5968(0.5550) Grad: 35072.4844  LR: 0.00001832  \n",
      "Epoch: [2][1800/3419] Elapsed 3m 29s (remain 3m 8s) Loss: 0.5967(0.5556) Grad: 12735.5186  LR: 0.00001826  \n",
      "Epoch: [2][1900/3419] Elapsed 3m 41s (remain 2m 57s) Loss: 0.3887(0.5553) Grad: 34958.2969  LR: 0.00001819  \n",
      "Epoch: [2][2000/3419] Elapsed 3m 53s (remain 2m 45s) Loss: 0.6911(0.5547) Grad: 28452.2148  LR: 0.00001812  \n",
      "Epoch: [2][2100/3419] Elapsed 4m 5s (remain 2m 34s) Loss: 0.2880(0.5535) Grad: 14663.2881  LR: 0.00001806  \n",
      "Epoch: [2][2200/3419] Elapsed 4m 17s (remain 2m 22s) Loss: 0.6029(0.5534) Grad: 16005.9834  LR: 0.00001799  \n",
      "Epoch: [2][2300/3419] Elapsed 4m 28s (remain 2m 10s) Loss: 0.5898(0.5536) Grad: 31490.6562  LR: 0.00001792  \n",
      "Epoch: [2][2400/3419] Elapsed 4m 40s (remain 1m 58s) Loss: 0.5417(0.5537) Grad: 15183.0039  LR: 0.00001785  \n",
      "Epoch: [2][2500/3419] Elapsed 4m 52s (remain 1m 47s) Loss: 0.7748(0.5539) Grad: 12177.4297  LR: 0.00001778  \n",
      "Epoch: [2][2600/3419] Elapsed 5m 4s (remain 1m 35s) Loss: 0.8663(0.5543) Grad: 32144.5566  LR: 0.00001770  \n",
      "Epoch: [2][2700/3419] Elapsed 5m 16s (remain 1m 24s) Loss: 0.6321(0.5541) Grad: 33583.1758  LR: 0.00001763  \n",
      "Epoch: [2][2800/3419] Elapsed 5m 28s (remain 1m 12s) Loss: 0.5570(0.5549) Grad: 103301.7109  LR: 0.00001756  \n",
      "Epoch: [2][2900/3419] Elapsed 5m 40s (remain 1m 0s) Loss: 0.5629(0.5551) Grad: 17604.8340  LR: 0.00001748  \n",
      "Epoch: [2][3000/3419] Elapsed 5m 52s (remain 0m 49s) Loss: 0.6197(0.5553) Grad: 24219.5273  LR: 0.00001740  \n",
      "Epoch: [2][3100/3419] Elapsed 6m 4s (remain 0m 37s) Loss: 0.5160(0.5550) Grad: 31210.6211  LR: 0.00001732  \n",
      "Epoch: [2][3200/3419] Elapsed 6m 16s (remain 0m 25s) Loss: 0.4520(0.5551) Grad: 28871.1855  LR: 0.00001725  \n",
      "Epoch: [2][3300/3419] Elapsed 6m 27s (remain 0m 13s) Loss: 0.5809(0.5545) Grad: 44648.8281  LR: 0.00001717  \n",
      "Epoch: [2][3400/3419] Elapsed 6m 39s (remain 0m 2s) Loss: 0.6207(0.5544) Grad: 27503.3066  LR: 0.00001709  \n"
     ]
    },
    {
     "name": "stderr",
     "output_type": "stream",
     "text": [
      "[W pthreadpool-cpp.cc:90] Warning: Leaking Caffe2 thread-pool after fork. (function pthreadpool)\n",
      "[W pthreadpool-cpp.cc:90] Warning: Leaking Caffe2 thread-pool after fork. (function pthreadpool)\n"
     ]
    },
    {
     "name": "stdout",
     "output_type": "stream",
     "text": [
      "Epoch: [2][3418/3419] Elapsed 6m 41s (remain 0m 0s) Loss: 0.3431(0.5543) Grad: 8561.6152  LR: 0.00001707  \n"
     ]
    },
    {
     "name": "stderr",
     "output_type": "stream",
     "text": [
      "[W pthreadpool-cpp.cc:90] Warning: Leaking Caffe2 thread-pool after fork. (function pthreadpool)\n",
      "[W pthreadpool-cpp.cc:90] Warning: Leaking Caffe2 thread-pool after fork. (function pthreadpool)\n"
     ]
    },
    {
     "name": "stdout",
     "output_type": "stream",
     "text": [
      "EVAL: [0/1140] Elapsed 0m 0s (remain 2m 56s) Loss: 0.5779(0.5779) \n"
     ]
    },
    {
     "name": "stderr",
     "output_type": "stream",
     "text": [
      "[W pthreadpool-cpp.cc:90] Warning: Leaking Caffe2 thread-pool after fork. (function pthreadpool)\n",
      "[W pthreadpool-cpp.cc:90] Warning: Leaking Caffe2 thread-pool after fork. (function pthreadpool)\n"
     ]
    },
    {
     "name": "stdout",
     "output_type": "stream",
     "text": [
      "EVAL: [100/1140] Elapsed 0m 3s (remain 0m 31s) Loss: 0.5466(0.5539) \n",
      "EVAL: [200/1140] Elapsed 0m 5s (remain 0m 27s) Loss: 0.4686(0.5567) \n",
      "EVAL: [300/1140] Elapsed 0m 8s (remain 0m 24s) Loss: 0.7631(0.5574) \n",
      "EVAL: [400/1140] Elapsed 0m 11s (remain 0m 21s) Loss: 0.5047(0.5579) \n",
      "EVAL: [500/1140] Elapsed 0m 14s (remain 0m 18s) Loss: 0.5980(0.5638) \n",
      "EVAL: [600/1140] Elapsed 0m 17s (remain 0m 15s) Loss: 0.5794(0.5619) \n",
      "EVAL: [700/1140] Elapsed 0m 20s (remain 0m 12s) Loss: 0.6557(0.5630) \n",
      "EVAL: [800/1140] Elapsed 0m 23s (remain 0m 9s) Loss: 0.6783(0.5623) \n",
      "EVAL: [900/1140] Elapsed 0m 26s (remain 0m 6s) Loss: 0.4201(0.5610) \n",
      "EVAL: [1000/1140] Elapsed 0m 29s (remain 0m 4s) Loss: 0.5418(0.5624) \n",
      "EVAL: [1100/1140] Elapsed 0m 32s (remain 0m 1s) Loss: 0.5091(0.5616) \n"
     ]
    },
    {
     "name": "stderr",
     "output_type": "stream",
     "text": [
      "Epoch 2 - avg_train_loss: 0.5543  avg_val_loss: 0.5613  time: 435s\n",
      "Epoch 2 - Score: 0.7865\n",
      "Epoch 2 - Save Best Score: 0.7865 Model\n"
     ]
    },
    {
     "name": "stdout",
     "output_type": "stream",
     "text": [
      "EVAL: [1139/1140] Elapsed 0m 33s (remain 0m 0s) Loss: 0.6177(0.5613) \n"
     ]
    },
    {
     "name": "stderr",
     "output_type": "stream",
     "text": [
      "[W pthreadpool-cpp.cc:90] Warning: Leaking Caffe2 thread-pool after fork. (function pthreadpool)\n",
      "[W pthreadpool-cpp.cc:90] Warning: Leaking Caffe2 thread-pool after fork. (function pthreadpool)\n",
      "[W pthreadpool-cpp.cc:90] Warning: Leaking Caffe2 thread-pool after fork. (function pthreadpool)\n",
      "[W pthreadpool-cpp.cc:90] Warning: Leaking Caffe2 thread-pool after fork. (function pthreadpool)\n"
     ]
    },
    {
     "name": "stdout",
     "output_type": "stream",
     "text": [
      "Epoch: [3][0/3419] Elapsed 0m 0s (remain 19m 35s) Loss: 0.5698(0.5698) Grad: 27960.3125  LR: 0.00001707  \n",
      "Epoch: [3][100/3419] Elapsed 0m 12s (remain 6m 43s) Loss: 0.4732(0.5460) Grad: 20881.4766  LR: 0.00001699  \n",
      "Epoch: [3][200/3419] Elapsed 0m 24s (remain 6m 28s) Loss: 0.4909(0.5420) Grad: 51819.8398  LR: 0.00001691  \n",
      "Epoch: [3][300/3419] Elapsed 0m 36s (remain 6m 15s) Loss: 0.4702(0.5384) Grad: 122644.5234  LR: 0.00001682  \n",
      "Epoch: [3][400/3419] Elapsed 0m 48s (remain 6m 2s) Loss: 0.5804(0.5387) Grad: 52030.0781  LR: 0.00001674  \n",
      "Epoch: [3][500/3419] Elapsed 0m 59s (remain 5m 48s) Loss: 0.7213(0.5429) Grad: 77228.0156  LR: 0.00001665  \n",
      "Epoch: [3][600/3419] Elapsed 1m 11s (remain 5m 33s) Loss: 0.5357(0.5436) Grad: 29091.5625  LR: 0.00001657  \n",
      "Epoch: [3][700/3419] Elapsed 1m 23s (remain 5m 22s) Loss: 0.6492(0.5423) Grad: 11278.7734  LR: 0.00001648  \n",
      "Epoch: [3][800/3419] Elapsed 1m 35s (remain 5m 11s) Loss: 0.5135(0.5425) Grad: 10963.2207  LR: 0.00001639  \n",
      "Epoch: [3][900/3419] Elapsed 1m 47s (remain 4m 59s) Loss: 0.5096(0.5419) Grad: 33787.1680  LR: 0.00001630  \n",
      "Epoch: [3][1000/3419] Elapsed 1m 59s (remain 4m 47s) Loss: 0.7354(0.5410) Grad: 302167.2188  LR: 0.00001621  \n",
      "Epoch: [3][1100/3419] Elapsed 2m 11s (remain 4m 35s) Loss: 0.6350(0.5389) Grad: 153865.4688  LR: 0.00001612  \n",
      "Epoch: [3][1200/3419] Elapsed 2m 23s (remain 4m 24s) Loss: 0.5170(0.5393) Grad: 35919.3438  LR: 0.00001603  \n",
      "Epoch: [3][1300/3419] Elapsed 2m 34s (remain 4m 12s) Loss: 0.6270(0.5377) Grad: 10069.6748  LR: 0.00001594  \n",
      "Epoch: [3][1400/3419] Elapsed 2m 46s (remain 4m 0s) Loss: 0.6034(0.5376) Grad: 20771.6133  LR: 0.00001585  \n",
      "Epoch: [3][1500/3419] Elapsed 2m 58s (remain 3m 48s) Loss: 0.6172(0.5375) Grad: 38425.9023  LR: 0.00001575  \n",
      "Epoch: [3][1600/3419] Elapsed 3m 10s (remain 3m 36s) Loss: 0.6316(0.5381) Grad: 12631.1113  LR: 0.00001566  \n",
      "Epoch: [3][1700/3419] Elapsed 3m 22s (remain 3m 24s) Loss: 0.5699(0.5381) Grad: 211523.7031  LR: 0.00001556  \n",
      "Epoch: [3][1800/3419] Elapsed 3m 34s (remain 3m 12s) Loss: 0.4240(0.5386) Grad: 6015.0444  LR: 0.00001547  \n",
      "Epoch: [3][1900/3419] Elapsed 3m 46s (remain 3m 0s) Loss: 0.5651(0.5389) Grad: 40344.8711  LR: 0.00001537  \n",
      "Epoch: [3][2000/3419] Elapsed 3m 58s (remain 2m 49s) Loss: 0.4940(0.5392) Grad: 12175.5752  LR: 0.00001527  \n",
      "Epoch: [3][2100/3419] Elapsed 4m 10s (remain 2m 37s) Loss: 0.5009(0.5393) Grad: 71597.2734  LR: 0.00001518  \n",
      "Epoch: [3][2200/3419] Elapsed 4m 22s (remain 2m 25s) Loss: 0.8317(0.5389) Grad: 236008.8125  LR: 0.00001508  \n",
      "Epoch: [3][2300/3419] Elapsed 4m 34s (remain 2m 13s) Loss: 0.3719(0.5386) Grad: 19891.3594  LR: 0.00001498  \n",
      "Epoch: [3][2400/3419] Elapsed 4m 46s (remain 2m 1s) Loss: 0.5587(0.5388) Grad: 15256.6455  LR: 0.00001488  \n",
      "Epoch: [3][2500/3419] Elapsed 4m 57s (remain 1m 49s) Loss: 0.4272(0.5387) Grad: 23708.5566  LR: 0.00001478  \n",
      "Epoch: [3][2600/3419] Elapsed 5m 8s (remain 1m 37s) Loss: 0.4609(0.5382) Grad: 11814.6406  LR: 0.00001468  \n",
      "Epoch: [3][2700/3419] Elapsed 5m 20s (remain 1m 25s) Loss: 0.5557(0.5387) Grad: 33946.2812  LR: 0.00001458  \n",
      "Epoch: [3][2800/3419] Elapsed 5m 31s (remain 1m 13s) Loss: 0.6479(0.5388) Grad: 416307.3750  LR: 0.00001447  \n",
      "Epoch: [3][2900/3419] Elapsed 5m 43s (remain 1m 1s) Loss: 0.5815(0.5383) Grad: 20054.4141  LR: 0.00001437  \n",
      "Epoch: [3][3000/3419] Elapsed 5m 54s (remain 0m 49s) Loss: 0.6790(0.5385) Grad: 178898.2969  LR: 0.00001427  \n",
      "Epoch: [3][3100/3419] Elapsed 6m 6s (remain 0m 37s) Loss: 0.6680(0.5384) Grad: 14506.8262  LR: 0.00001416  \n",
      "Epoch: [3][3200/3419] Elapsed 6m 17s (remain 0m 25s) Loss: 0.6130(0.5381) Grad: 39368.0820  LR: 0.00001406  \n",
      "Epoch: [3][3300/3419] Elapsed 6m 28s (remain 0m 13s) Loss: 0.4202(0.5383) Grad: 66289.5781  LR: 0.00001395  \n",
      "Epoch: [3][3400/3419] Elapsed 6m 39s (remain 0m 2s) Loss: 0.5388(0.5381) Grad: 19129.8379  LR: 0.00001385  \n",
      "Epoch: [3][3418/3419] Elapsed 6m 41s (remain 0m 0s) Loss: 0.5560(0.5382) Grad: 13358.5791  LR: 0.00001383  \n"
     ]
    },
    {
     "name": "stderr",
     "output_type": "stream",
     "text": [
      "[W pthreadpool-cpp.cc:90] Warning: Leaking Caffe2 thread-pool after fork. (function pthreadpool)\n",
      "[W pthreadpool-cpp.cc:90] Warning: Leaking Caffe2 thread-pool after fork. (function pthreadpool)\n"
     ]
    },
    {
     "name": "stdout",
     "output_type": "stream",
     "text": [
      "EVAL: [0/1140] Elapsed 0m 0s (remain 2m 56s) Loss: 0.6069(0.6069) \n"
     ]
    },
    {
     "name": "stderr",
     "output_type": "stream",
     "text": [
      "[W pthreadpool-cpp.cc:90] Warning: Leaking Caffe2 thread-pool after fork. (function pthreadpool)\n",
      "[W pthreadpool-cpp.cc:90] Warning: Leaking Caffe2 thread-pool after fork. (function pthreadpool)\n"
     ]
    },
    {
     "name": "stdout",
     "output_type": "stream",
     "text": [
      "EVAL: [100/1140] Elapsed 0m 2s (remain 0m 29s) Loss: 0.6353(0.5525) \n",
      "EVAL: [200/1140] Elapsed 0m 5s (remain 0m 26s) Loss: 0.4477(0.5550) \n",
      "EVAL: [300/1140] Elapsed 0m 8s (remain 0m 23s) Loss: 0.7972(0.5521) \n",
      "EVAL: [400/1140] Elapsed 0m 11s (remain 0m 20s) Loss: 0.4931(0.5519) \n",
      "EVAL: [500/1140] Elapsed 0m 13s (remain 0m 17s) Loss: 0.5762(0.5568) \n",
      "EVAL: [600/1140] Elapsed 0m 16s (remain 0m 14s) Loss: 0.5678(0.5558) \n",
      "EVAL: [700/1140] Elapsed 0m 19s (remain 0m 12s) Loss: 0.6347(0.5563) \n",
      "EVAL: [800/1140] Elapsed 0m 22s (remain 0m 9s) Loss: 0.6846(0.5547) \n",
      "EVAL: [900/1140] Elapsed 0m 24s (remain 0m 6s) Loss: 0.4367(0.5538) \n",
      "EVAL: [1000/1140] Elapsed 0m 27s (remain 0m 3s) Loss: 0.5508(0.5547) \n",
      "EVAL: [1100/1140] Elapsed 0m 30s (remain 0m 1s) Loss: 0.5125(0.5541) \n"
     ]
    },
    {
     "name": "stderr",
     "output_type": "stream",
     "text": [
      "Epoch 3 - avg_train_loss: 0.5382  avg_val_loss: 0.5539  time: 433s\n",
      "Epoch 3 - Score: 0.8093\n",
      "Epoch 3 - Save Best Score: 0.8093 Model\n"
     ]
    },
    {
     "name": "stdout",
     "output_type": "stream",
     "text": [
      "EVAL: [1139/1140] Elapsed 0m 31s (remain 0m 0s) Loss: 0.6103(0.5539) \n"
     ]
    },
    {
     "name": "stderr",
     "output_type": "stream",
     "text": [
      "[W pthreadpool-cpp.cc:90] Warning: Leaking Caffe2 thread-pool after fork. (function pthreadpool)\n",
      "[W pthreadpool-cpp.cc:90] Warning: Leaking Caffe2 thread-pool after fork. (function pthreadpool)\n",
      "[W pthreadpool-cpp.cc:90] Warning: Leaking Caffe2 thread-pool after fork. (function pthreadpool)\n",
      "[W pthreadpool-cpp.cc:90] Warning: Leaking Caffe2 thread-pool after fork. (function pthreadpool)\n"
     ]
    },
    {
     "name": "stdout",
     "output_type": "stream",
     "text": [
      "Epoch: [4][0/3419] Elapsed 0m 0s (remain 26m 20s) Loss: 0.5485(0.5485) Grad: 66531.4766  LR: 0.00001383  \n",
      "Epoch: [4][100/3419] Elapsed 0m 11s (remain 6m 24s) Loss: 0.5100(0.5165) Grad: 53896.4453  LR: 0.00001372  \n",
      "Epoch: [4][200/3419] Elapsed 0m 22s (remain 6m 7s) Loss: 0.3752(0.5121) Grad: 31751.2637  LR: 0.00001361  \n",
      "Epoch: [4][300/3419] Elapsed 0m 34s (remain 5m 56s) Loss: 0.5894(0.5198) Grad: 15917.5547  LR: 0.00001351  \n",
      "Epoch: [4][400/3419] Elapsed 0m 45s (remain 5m 43s) Loss: 0.5952(0.5170) Grad: 74974.0781  LR: 0.00001340  \n",
      "Epoch: [4][500/3419] Elapsed 0m 56s (remain 5m 30s) Loss: 0.4925(0.5189) Grad: 30209.7617  LR: 0.00001329  \n",
      "Epoch: [4][600/3419] Elapsed 1m 8s (remain 5m 20s) Loss: 0.8671(0.5179) Grad: 31474.0938  LR: 0.00001318  \n",
      "Epoch: [4][700/3419] Elapsed 1m 19s (remain 5m 9s) Loss: 0.5831(0.5196) Grad: 10481.5049  LR: 0.00001307  \n",
      "Epoch: [4][800/3419] Elapsed 1m 31s (remain 4m 58s) Loss: 0.5050(0.5199) Grad: 63293.3594  LR: 0.00001296  \n",
      "Epoch: [4][900/3419] Elapsed 1m 42s (remain 4m 46s) Loss: 0.5228(0.5198) Grad: 49856.7734  LR: 0.00001285  \n",
      "Epoch: [4][1000/3419] Elapsed 2m 5s (remain 5m 2s) Loss: 0.3352(0.5200) Grad: 82133.5156  LR: 0.00001274  \n",
      "Epoch: [4][1100/3419] Elapsed 2m 16s (remain 4m 47s) Loss: 0.4739(0.5207) Grad: 13461.0869  LR: 0.00001263  \n",
      "Epoch: [4][1200/3419] Elapsed 2m 28s (remain 4m 33s) Loss: 0.5656(0.5208) Grad: 27156.7402  LR: 0.00001252  \n",
      "Epoch: [4][1300/3419] Elapsed 2m 39s (remain 4m 19s) Loss: 0.4955(0.5223) Grad: 12200.7480  LR: 0.00001241  \n",
      "Epoch: [4][1400/3419] Elapsed 2m 50s (remain 4m 6s) Loss: 0.4988(0.5230) Grad: 17449.4883  LR: 0.00001230  \n",
      "Epoch: [4][1500/3419] Elapsed 3m 2s (remain 3m 52s) Loss: 0.5714(0.5235) Grad: 32311.6836  LR: 0.00001219  \n",
      "Epoch: [4][1600/3419] Elapsed 3m 14s (remain 3m 40s) Loss: 0.6184(0.5239) Grad: 13697.6055  LR: 0.00001207  \n",
      "Epoch: [4][1700/3419] Elapsed 3m 25s (remain 3m 27s) Loss: 0.3517(0.5236) Grad: 13304.5107  LR: 0.00001196  \n",
      "Epoch: [4][1800/3419] Elapsed 3m 36s (remain 3m 14s) Loss: 0.4893(0.5240) Grad: 10444.9902  LR: 0.00001185  \n",
      "Epoch: [4][1900/3419] Elapsed 3m 47s (remain 3m 2s) Loss: 0.5684(0.5239) Grad: 23460.8926  LR: 0.00001174  \n",
      "Epoch: [4][2000/3419] Elapsed 3m 59s (remain 2m 49s) Loss: 0.3623(0.5238) Grad: 155621.2031  LR: 0.00001162  \n",
      "Epoch: [4][2100/3419] Elapsed 4m 10s (remain 2m 37s) Loss: 0.6238(0.5249) Grad: 14001.7686  LR: 0.00001151  \n",
      "Epoch: [4][2200/3419] Elapsed 4m 22s (remain 2m 25s) Loss: 0.4631(0.5253) Grad: 11456.9785  LR: 0.00001140  \n",
      "Epoch: [4][2300/3419] Elapsed 4m 34s (remain 2m 13s) Loss: 0.4227(0.5253) Grad: 102633.5547  LR: 0.00001128  \n",
      "Epoch: [4][2400/3419] Elapsed 4m 45s (remain 2m 1s) Loss: 0.6079(0.5253) Grad: 42644.5820  LR: 0.00001117  \n",
      "Epoch: [4][2500/3419] Elapsed 4m 57s (remain 1m 49s) Loss: 0.5913(0.5253) Grad: 23833.5195  LR: 0.00001105  \n",
      "Epoch: [4][2600/3419] Elapsed 5m 8s (remain 1m 36s) Loss: 0.3625(0.5256) Grad: 68370.1875  LR: 0.00001094  \n",
      "Epoch: [4][2700/3419] Elapsed 5m 19s (remain 1m 24s) Loss: 0.4242(0.5254) Grad: 49545.7500  LR: 0.00001082  \n",
      "Epoch: [4][2800/3419] Elapsed 5m 31s (remain 1m 13s) Loss: 0.4264(0.5247) Grad: 20097.2441  LR: 0.00001071  \n",
      "Epoch: [4][2900/3419] Elapsed 5m 42s (remain 1m 1s) Loss: 0.6726(0.5242) Grad: 42966.2891  LR: 0.00001060  \n",
      "Epoch: [4][3000/3419] Elapsed 5m 53s (remain 0m 49s) Loss: 0.5568(0.5242) Grad: 59176.9727  LR: 0.00001048  \n",
      "Epoch: [4][3100/3419] Elapsed 6m 5s (remain 0m 37s) Loss: 0.5834(0.5240) Grad: 22569.0449  LR: 0.00001037  \n",
      "Epoch: [4][3200/3419] Elapsed 6m 16s (remain 0m 25s) Loss: 0.4463(0.5238) Grad: 73912.6953  LR: 0.00001025  \n",
      "Epoch: [4][3300/3419] Elapsed 6m 27s (remain 0m 13s) Loss: 0.4668(0.5242) Grad: 9961.8857  LR: 0.00001014  \n",
      "Epoch: [4][3400/3419] Elapsed 6m 39s (remain 0m 2s) Loss: 0.4968(0.5244) Grad: 11208.5195  LR: 0.00001002  \n"
     ]
    },
    {
     "name": "stderr",
     "output_type": "stream",
     "text": [
      "[W pthreadpool-cpp.cc:90] Warning: Leaking Caffe2 thread-pool after fork. (function pthreadpool)\n"
     ]
    },
    {
     "name": "stdout",
     "output_type": "stream",
     "text": [
      "Epoch: [4][3418/3419] Elapsed 6m 41s (remain 0m 0s) Loss: 0.6532(0.5243) Grad: 22775.8320  LR: 0.00001000  \n"
     ]
    },
    {
     "name": "stderr",
     "output_type": "stream",
     "text": [
      "[W pthreadpool-cpp.cc:90] Warning: Leaking Caffe2 thread-pool after fork. (function pthreadpool)\n",
      "[W pthreadpool-cpp.cc:90] Warning: Leaking Caffe2 thread-pool after fork. (function pthreadpool)\n"
     ]
    },
    {
     "name": "stdout",
     "output_type": "stream",
     "text": [
      "EVAL: [0/1140] Elapsed 0m 0s (remain 2m 56s) Loss: 0.4880(0.4880) \n"
     ]
    },
    {
     "name": "stderr",
     "output_type": "stream",
     "text": [
      "[W pthreadpool-cpp.cc:90] Warning: Leaking Caffe2 thread-pool after fork. (function pthreadpool)\n",
      "[W pthreadpool-cpp.cc:90] Warning: Leaking Caffe2 thread-pool after fork. (function pthreadpool)\n"
     ]
    },
    {
     "name": "stdout",
     "output_type": "stream",
     "text": [
      "EVAL: [100/1140] Elapsed 0m 3s (remain 0m 34s) Loss: 0.5809(0.5478) \n",
      "EVAL: [200/1140] Elapsed 0m 6s (remain 0m 28s) Loss: 0.4266(0.5487) \n",
      "EVAL: [300/1140] Elapsed 0m 8s (remain 0m 24s) Loss: 0.8717(0.5476) \n",
      "EVAL: [400/1140] Elapsed 0m 11s (remain 0m 21s) Loss: 0.5103(0.5482) \n",
      "EVAL: [500/1140] Elapsed 0m 14s (remain 0m 18s) Loss: 0.5686(0.5537) \n",
      "EVAL: [600/1140] Elapsed 0m 17s (remain 0m 15s) Loss: 0.5705(0.5519) \n",
      "EVAL: [700/1140] Elapsed 0m 19s (remain 0m 12s) Loss: 0.6480(0.5530) \n",
      "EVAL: [800/1140] Elapsed 0m 22s (remain 0m 9s) Loss: 0.7468(0.5520) \n",
      "EVAL: [900/1140] Elapsed 0m 25s (remain 0m 6s) Loss: 0.4108(0.5509) \n",
      "EVAL: [1000/1140] Elapsed 0m 28s (remain 0m 3s) Loss: 0.5434(0.5521) \n",
      "EVAL: [1100/1140] Elapsed 0m 31s (remain 0m 1s) Loss: 0.5179(0.5510) \n"
     ]
    },
    {
     "name": "stderr",
     "output_type": "stream",
     "text": [
      "Epoch 4 - avg_train_loss: 0.5243  avg_val_loss: 0.5508  time: 434s\n",
      "Epoch 4 - Score: 0.8187\n",
      "Epoch 4 - Save Best Score: 0.8187 Model\n"
     ]
    },
    {
     "name": "stdout",
     "output_type": "stream",
     "text": [
      "EVAL: [1139/1140] Elapsed 0m 32s (remain 0m 0s) Loss: 0.6215(0.5508) \n"
     ]
    },
    {
     "name": "stderr",
     "output_type": "stream",
     "text": [
      "[W pthreadpool-cpp.cc:90] Warning: Leaking Caffe2 thread-pool after fork. (function pthreadpool)\n",
      "[W pthreadpool-cpp.cc:90] Warning: Leaking Caffe2 thread-pool after fork. (function pthreadpool)\n",
      "[W pthreadpool-cpp.cc:90] Warning: Leaking Caffe2 thread-pool after fork. (function pthreadpool)\n",
      "[W pthreadpool-cpp.cc:90] Warning: Leaking Caffe2 thread-pool after fork. (function pthreadpool)\n"
     ]
    },
    {
     "name": "stdout",
     "output_type": "stream",
     "text": [
      "Epoch: [5][0/3419] Elapsed 0m 0s (remain 31m 2s) Loss: 0.7024(0.7024) Grad: 149468.1406  LR: 0.00001000  \n",
      "Epoch: [5][100/3419] Elapsed 0m 11s (remain 6m 26s) Loss: 0.6923(0.5142) Grad: 20252.4453  LR: 0.00000989  \n",
      "Epoch: [5][200/3419] Elapsed 0m 23s (remain 6m 8s) Loss: 0.5014(0.5152) Grad: 48544.8242  LR: 0.00000977  \n",
      "Epoch: [5][300/3419] Elapsed 0m 34s (remain 5m 55s) Loss: 0.3437(0.5179) Grad: 68510.0859  LR: 0.00000966  \n",
      "Epoch: [5][400/3419] Elapsed 0m 45s (remain 5m 42s) Loss: 0.4079(0.5166) Grad: 76380.5859  LR: 0.00000954  \n",
      "Epoch: [5][500/3419] Elapsed 0m 56s (remain 5m 30s) Loss: 0.3295(0.5170) Grad: 9360.6045  LR: 0.00000943  \n",
      "Epoch: [5][600/3419] Elapsed 1m 8s (remain 5m 18s) Loss: 0.5508(0.5184) Grad: 7283.2231  LR: 0.00000931  \n",
      "Epoch: [5][700/3419] Elapsed 1m 19s (remain 5m 7s) Loss: 0.3959(0.5159) Grad: 1916.1466  LR: 0.00000920  \n",
      "Epoch: [5][800/3419] Elapsed 1m 30s (remain 4m 55s) Loss: 0.5140(0.5176) Grad: 16784.0918  LR: 0.00000908  \n",
      "Epoch: [5][900/3419] Elapsed 1m 41s (remain 4m 44s) Loss: 0.5376(0.5171) Grad: 7498.9971  LR: 0.00000897  \n",
      "Epoch: [5][1000/3419] Elapsed 1m 53s (remain 4m 33s) Loss: 0.4985(0.5170) Grad: 6149.0005  LR: 0.00000885  \n",
      "Epoch: [5][1100/3419] Elapsed 2m 4s (remain 4m 21s) Loss: 0.4715(0.5189) Grad: 25943.3652  LR: 0.00000874  \n",
      "Epoch: [5][1200/3419] Elapsed 2m 16s (remain 4m 11s) Loss: 0.8106(0.5192) Grad: 151642.6562  LR: 0.00000863  \n",
      "Epoch: [5][1300/3419] Elapsed 2m 27s (remain 3m 59s) Loss: 0.5628(0.5176) Grad: 2081.5593  LR: 0.00000851  \n",
      "Epoch: [5][1400/3419] Elapsed 2m 38s (remain 3m 48s) Loss: 0.5527(0.5191) Grad: 5218.3511  LR: 0.00000840  \n",
      "Epoch: [5][1500/3419] Elapsed 2m 49s (remain 3m 36s) Loss: 0.2748(0.5179) Grad: 5397.8735  LR: 0.00000829  \n",
      "Epoch: [5][1600/3419] Elapsed 3m 1s (remain 3m 25s) Loss: 0.6095(0.5177) Grad: 573.4992  LR: 0.00000817  \n",
      "Epoch: [5][1700/3419] Elapsed 3m 12s (remain 3m 14s) Loss: 0.4612(0.5180) Grad: 1853.2491  LR: 0.00000806  \n",
      "Epoch: [5][1800/3419] Elapsed 3m 23s (remain 3m 3s) Loss: 0.5934(0.5169) Grad: 8940.3516  LR: 0.00000795  \n",
      "Epoch: [5][1900/3419] Elapsed 3m 35s (remain 2m 51s) Loss: 0.5339(0.5163) Grad: 6771.5708  LR: 0.00000784  \n",
      "Epoch: [5][2000/3419] Elapsed 3m 46s (remain 2m 40s) Loss: 0.4667(0.5165) Grad: 14625.2490  LR: 0.00000772  \n",
      "Epoch: [5][2100/3419] Elapsed 3m 57s (remain 2m 28s) Loss: 0.3643(0.5167) Grad: 7563.1323  LR: 0.00000761  \n",
      "Epoch: [5][2200/3419] Elapsed 4m 8s (remain 2m 17s) Loss: 0.6725(0.5170) Grad: 3220.7102  LR: 0.00000750  \n",
      "Epoch: [5][2300/3419] Elapsed 4m 19s (remain 2m 6s) Loss: 0.4434(0.5173) Grad: 39477.3555  LR: 0.00000739  \n",
      "Epoch: [5][2400/3419] Elapsed 4m 31s (remain 1m 55s) Loss: 0.5702(0.5176) Grad: 3658.8472  LR: 0.00000728  \n",
      "Epoch: [5][2500/3419] Elapsed 4m 42s (remain 1m 43s) Loss: 0.5725(0.5180) Grad: 3913.0496  LR: 0.00000717  \n",
      "Epoch: [5][2600/3419] Elapsed 4m 54s (remain 1m 32s) Loss: 0.5065(0.5184) Grad: 25920.6055  LR: 0.00000706  \n",
      "Epoch: [5][2700/3419] Elapsed 5m 6s (remain 1m 21s) Loss: 0.3923(0.5186) Grad: 9468.1533  LR: 0.00000695  \n",
      "Epoch: [5][2800/3419] Elapsed 5m 17s (remain 1m 10s) Loss: 0.6481(0.5184) Grad: 3826.6909  LR: 0.00000684  \n",
      "Epoch: [5][2900/3419] Elapsed 5m 29s (remain 0m 58s) Loss: 0.6940(0.5187) Grad: 4997.1538  LR: 0.00000673  \n",
      "Epoch: [5][3000/3419] Elapsed 5m 40s (remain 0m 47s) Loss: 0.5110(0.5192) Grad: 4132.6426  LR: 0.00000662  \n",
      "Epoch: [5][3100/3419] Elapsed 5m 52s (remain 0m 36s) Loss: 0.6471(0.5194) Grad: 4792.6084  LR: 0.00000651  \n",
      "Epoch: [5][3200/3419] Elapsed 6m 3s (remain 0m 24s) Loss: 0.3496(0.5194) Grad: 3618.0962  LR: 0.00000641  \n",
      "Epoch: [5][3300/3419] Elapsed 6m 15s (remain 0m 13s) Loss: 0.5519(0.5194) Grad: 2693.1426  LR: 0.00000630  \n",
      "Epoch: [5][3400/3419] Elapsed 6m 26s (remain 0m 2s) Loss: 0.3970(0.5192) Grad: 14957.6963  LR: 0.00000619  \n",
      "Epoch: [5][3418/3419] Elapsed 6m 28s (remain 0m 0s) Loss: 0.4266(0.5191) Grad: 7619.0527  LR: 0.00000617  \n"
     ]
    },
    {
     "name": "stderr",
     "output_type": "stream",
     "text": [
      "[W pthreadpool-cpp.cc:90] Warning: Leaking Caffe2 thread-pool after fork. (function pthreadpool)\n",
      "[W pthreadpool-cpp.cc:90] Warning: Leaking Caffe2 thread-pool after fork. (function pthreadpool)\n"
     ]
    },
    {
     "name": "stdout",
     "output_type": "stream",
     "text": [
      "EVAL: [0/1140] Elapsed 0m 0s (remain 3m 0s) Loss: 0.5188(0.5188) \n"
     ]
    },
    {
     "name": "stderr",
     "output_type": "stream",
     "text": [
      "[W pthreadpool-cpp.cc:90] Warning: Leaking Caffe2 thread-pool after fork. (function pthreadpool)\n",
      "[W pthreadpool-cpp.cc:90] Warning: Leaking Caffe2 thread-pool after fork. (function pthreadpool)\n"
     ]
    },
    {
     "name": "stdout",
     "output_type": "stream",
     "text": [
      "EVAL: [100/1140] Elapsed 0m 2s (remain 0m 30s) Loss: 0.5488(0.5447) \n",
      "EVAL: [200/1140] Elapsed 0m 5s (remain 0m 26s) Loss: 0.4249(0.5570) \n",
      "EVAL: [300/1140] Elapsed 0m 8s (remain 0m 23s) Loss: 0.7484(0.5518) \n",
      "EVAL: [400/1140] Elapsed 0m 11s (remain 0m 20s) Loss: 0.4884(0.5522) \n",
      "EVAL: [500/1140] Elapsed 0m 14s (remain 0m 17s) Loss: 0.5638(0.5569) \n",
      "EVAL: [600/1140] Elapsed 0m 16s (remain 0m 15s) Loss: 0.5314(0.5540) \n",
      "EVAL: [700/1140] Elapsed 0m 19s (remain 0m 12s) Loss: 0.6410(0.5554) \n",
      "EVAL: [800/1140] Elapsed 0m 22s (remain 0m 9s) Loss: 0.8311(0.5549) \n",
      "EVAL: [900/1140] Elapsed 0m 25s (remain 0m 6s) Loss: 0.4063(0.5535) \n",
      "EVAL: [1000/1140] Elapsed 0m 27s (remain 0m 3s) Loss: 0.4818(0.5550) \n",
      "EVAL: [1100/1140] Elapsed 0m 30s (remain 0m 1s) Loss: 0.5131(0.5535) \n"
     ]
    },
    {
     "name": "stderr",
     "output_type": "stream",
     "text": [
      "Epoch 5 - avg_train_loss: 0.5191  avg_val_loss: 0.5530  time: 420s\n",
      "Epoch 5 - Score: 0.8244\n",
      "Epoch 5 - Save Best Score: 0.8244 Model\n"
     ]
    },
    {
     "name": "stdout",
     "output_type": "stream",
     "text": [
      "EVAL: [1139/1140] Elapsed 0m 31s (remain 0m 0s) Loss: 0.6035(0.5530) \n"
     ]
    },
    {
     "name": "stderr",
     "output_type": "stream",
     "text": [
      "[W pthreadpool-cpp.cc:90] Warning: Leaking Caffe2 thread-pool after fork. (function pthreadpool)\n",
      "[W pthreadpool-cpp.cc:90] Warning: Leaking Caffe2 thread-pool after fork. (function pthreadpool)\n",
      "[W pthreadpool-cpp.cc:90] Warning: Leaking Caffe2 thread-pool after fork. (function pthreadpool)\n",
      "[W pthreadpool-cpp.cc:90] Warning: Leaking Caffe2 thread-pool after fork. (function pthreadpool)\n"
     ]
    },
    {
     "name": "stdout",
     "output_type": "stream",
     "text": [
      "Epoch: [6][0/3419] Elapsed 0m 0s (remain 25m 56s) Loss: 0.2791(0.2791) Grad: 46527.8086  LR: 0.00000617  \n",
      "Epoch: [6][100/3419] Elapsed 0m 11s (remain 6m 30s) Loss: 0.5449(0.5279) Grad: 7231.3613  LR: 0.00000607  \n",
      "Epoch: [6][200/3419] Elapsed 0m 23s (remain 6m 13s) Loss: 0.4148(0.5147) Grad: 37713.5156  LR: 0.00000596  \n",
      "Epoch: [6][300/3419] Elapsed 0m 34s (remain 5m 59s) Loss: 0.5871(0.5142) Grad: 17138.8945  LR: 0.00000586  \n",
      "Epoch: [6][400/3419] Elapsed 0m 46s (remain 5m 47s) Loss: 0.5343(0.5130) Grad: 21677.8477  LR: 0.00000575  \n",
      "Epoch: [6][500/3419] Elapsed 0m 57s (remain 5m 35s) Loss: 0.5167(0.5113) Grad: 12080.1738  LR: 0.00000565  \n",
      "Epoch: [6][600/3419] Elapsed 1m 9s (remain 5m 23s) Loss: 0.5565(0.5116) Grad: 13265.5010  LR: 0.00000555  \n",
      "Epoch: [6][700/3419] Elapsed 1m 20s (remain 5m 12s) Loss: 0.5593(0.5131) Grad: 20715.6133  LR: 0.00000544  \n",
      "Epoch: [6][800/3419] Elapsed 1m 31s (remain 5m 0s) Loss: 0.5635(0.5133) Grad: 11573.6846  LR: 0.00000534  \n",
      "Epoch: [6][900/3419] Elapsed 1m 43s (remain 4m 48s) Loss: 0.5496(0.5123) Grad: 9362.9717  LR: 0.00000524  \n",
      "Epoch: [6][1000/3419] Elapsed 1m 55s (remain 4m 38s) Loss: 0.6824(0.5109) Grad: 50982.3906  LR: 0.00000514  \n",
      "Epoch: [6][1100/3419] Elapsed 2m 6s (remain 4m 26s) Loss: 0.5859(0.5101) Grad: 7091.9478  LR: 0.00000504  \n",
      "Epoch: [6][1200/3419] Elapsed 2m 18s (remain 4m 14s) Loss: 0.5058(0.5095) Grad: 2049.3281  LR: 0.00000494  \n",
      "Epoch: [6][1300/3419] Elapsed 2m 29s (remain 4m 3s) Loss: 0.5647(0.5105) Grad: 16832.9980  LR: 0.00000484  \n",
      "Epoch: [6][1400/3419] Elapsed 2m 40s (remain 3m 51s) Loss: 0.4109(0.5101) Grad: 4674.5078  LR: 0.00000474  \n",
      "Epoch: [6][1500/3419] Elapsed 2m 52s (remain 3m 40s) Loss: 0.3842(0.5094) Grad: 10378.2969  LR: 0.00000465  \n",
      "Epoch: [6][1600/3419] Elapsed 3m 3s (remain 3m 28s) Loss: 0.5060(0.5096) Grad: 2195.1252  LR: 0.00000455  \n",
      "Epoch: [6][1700/3419] Elapsed 3m 15s (remain 3m 17s) Loss: 0.4768(0.5099) Grad: 1454.6646  LR: 0.00000445  \n",
      "Epoch: [6][1800/3419] Elapsed 3m 26s (remain 3m 5s) Loss: 0.6067(0.5114) Grad: 7692.3018  LR: 0.00000436  \n",
      "Epoch: [6][1900/3419] Elapsed 3m 38s (remain 2m 54s) Loss: 0.5623(0.5114) Grad: 1593.6368  LR: 0.00000426  \n",
      "Epoch: [6][2000/3419] Elapsed 3m 49s (remain 2m 42s) Loss: 0.4320(0.5113) Grad: 3938.8035  LR: 0.00000417  \n",
      "Epoch: [6][2100/3419] Elapsed 4m 0s (remain 2m 31s) Loss: 0.3259(0.5114) Grad: 6499.7383  LR: 0.00000408  \n",
      "Epoch: [6][2200/3419] Elapsed 4m 12s (remain 2m 19s) Loss: 0.4746(0.5118) Grad: 306.9564  LR: 0.00000399  \n",
      "Epoch: [6][2300/3419] Elapsed 4m 23s (remain 2m 8s) Loss: 0.5308(0.5109) Grad: 12343.5508  LR: 0.00000389  \n",
      "Epoch: [6][2400/3419] Elapsed 4m 35s (remain 1m 56s) Loss: 0.4348(0.5111) Grad: 3590.1399  LR: 0.00000380  \n",
      "Epoch: [6][2500/3419] Elapsed 4m 46s (remain 1m 45s) Loss: 0.4057(0.5113) Grad: 3627.7380  LR: 0.00000371  \n",
      "Epoch: [6][2600/3419] Elapsed 4m 58s (remain 1m 33s) Loss: 0.6076(0.5116) Grad: 4243.2295  LR: 0.00000362  \n",
      "Epoch: [6][2700/3419] Elapsed 5m 9s (remain 1m 22s) Loss: 0.4757(0.5112) Grad: 1248.9628  LR: 0.00000354  \n",
      "Epoch: [6][2800/3419] Elapsed 5m 20s (remain 1m 10s) Loss: 0.3763(0.5107) Grad: 4593.6987  LR: 0.00000345  \n",
      "Epoch: [6][2900/3419] Elapsed 5m 32s (remain 0m 59s) Loss: 0.6289(0.5107) Grad: 57352.8906  LR: 0.00000336  \n",
      "Epoch: [6][3000/3419] Elapsed 5m 43s (remain 0m 47s) Loss: 0.4825(0.5109) Grad: 9464.6895  LR: 0.00000328  \n",
      "Epoch: [6][3100/3419] Elapsed 5m 55s (remain 0m 36s) Loss: 0.3458(0.5107) Grad: 37486.2148  LR: 0.00000319  \n",
      "Epoch: [6][3200/3419] Elapsed 6m 6s (remain 0m 24s) Loss: 0.4568(0.5103) Grad: 34244.2148  LR: 0.00000311  \n",
      "Epoch: [6][3300/3419] Elapsed 6m 18s (remain 0m 13s) Loss: 0.6135(0.5098) Grad: 1754.5154  LR: 0.00000303  \n",
      "Epoch: [6][3400/3419] Elapsed 6m 29s (remain 0m 2s) Loss: 0.4132(0.5098) Grad: 544133.0000  LR: 0.00000294  \n",
      "Epoch: [6][3418/3419] Elapsed 6m 31s (remain 0m 0s) Loss: 0.5864(0.5098) Grad: 6492.4175  LR: 0.00000293  \n"
     ]
    },
    {
     "name": "stderr",
     "output_type": "stream",
     "text": [
      "[W pthreadpool-cpp.cc:90] Warning: Leaking Caffe2 thread-pool after fork. (function pthreadpool)\n",
      "[W pthreadpool-cpp.cc:90] Warning: Leaking Caffe2 thread-pool after fork. (function pthreadpool)\n"
     ]
    },
    {
     "name": "stdout",
     "output_type": "stream",
     "text": [
      "EVAL: [0/1140] Elapsed 0m 0s (remain 3m 2s) Loss: 0.5089(0.5089) \n"
     ]
    },
    {
     "name": "stderr",
     "output_type": "stream",
     "text": [
      "[W pthreadpool-cpp.cc:90] Warning: Leaking Caffe2 thread-pool after fork. (function pthreadpool)\n",
      "[W pthreadpool-cpp.cc:90] Warning: Leaking Caffe2 thread-pool after fork. (function pthreadpool)\n"
     ]
    },
    {
     "name": "stdout",
     "output_type": "stream",
     "text": [
      "EVAL: [100/1140] Elapsed 0m 2s (remain 0m 30s) Loss: 0.5605(0.5459) \n",
      "EVAL: [200/1140] Elapsed 0m 5s (remain 0m 26s) Loss: 0.4225(0.5521) \n",
      "EVAL: [300/1140] Elapsed 0m 8s (remain 0m 23s) Loss: 0.7563(0.5459) \n",
      "EVAL: [400/1140] Elapsed 0m 11s (remain 0m 20s) Loss: 0.4935(0.5469) \n",
      "EVAL: [500/1140] Elapsed 0m 14s (remain 0m 18s) Loss: 0.5646(0.5521) \n",
      "EVAL: [600/1140] Elapsed 0m 17s (remain 0m 15s) Loss: 0.5296(0.5508) \n",
      "EVAL: [700/1140] Elapsed 0m 19s (remain 0m 12s) Loss: 0.6271(0.5527) \n",
      "EVAL: [800/1140] Elapsed 0m 22s (remain 0m 9s) Loss: 0.7157(0.5515) \n",
      "EVAL: [900/1140] Elapsed 0m 25s (remain 0m 6s) Loss: 0.4047(0.5503) \n",
      "EVAL: [1000/1140] Elapsed 0m 28s (remain 0m 3s) Loss: 0.5130(0.5519) \n",
      "EVAL: [1100/1140] Elapsed 0m 31s (remain 0m 1s) Loss: 0.4797(0.5502) \n"
     ]
    },
    {
     "name": "stderr",
     "output_type": "stream",
     "text": [
      "[W pthreadpool-cpp.cc:90] Warning: Leaking Caffe2 thread-pool after fork. (function pthreadpool)\n",
      "Epoch 6 - avg_train_loss: 0.5098  avg_val_loss: 0.5499  time: 424s\n",
      "Epoch 6 - Score: 0.8298\n",
      "Epoch 6 - Save Best Score: 0.8298 Model\n"
     ]
    },
    {
     "name": "stdout",
     "output_type": "stream",
     "text": [
      "EVAL: [1139/1140] Elapsed 0m 32s (remain 0m 0s) Loss: 0.6019(0.5499) \n"
     ]
    },
    {
     "name": "stderr",
     "output_type": "stream",
     "text": [
      "[W pthreadpool-cpp.cc:90] Warning: Leaking Caffe2 thread-pool after fork. (function pthreadpool)\n",
      "[W pthreadpool-cpp.cc:90] Warning: Leaking Caffe2 thread-pool after fork. (function pthreadpool)\n",
      "[W pthreadpool-cpp.cc:90] Warning: Leaking Caffe2 thread-pool after fork. (function pthreadpool)\n",
      "[W pthreadpool-cpp.cc:90] Warning: Leaking Caffe2 thread-pool after fork. (function pthreadpool)\n"
     ]
    },
    {
     "name": "stdout",
     "output_type": "stream",
     "text": [
      "Epoch: [7][0/3419] Elapsed 0m 0s (remain 23m 32s) Loss: 0.5016(0.5016) Grad: 58075.9688  LR: 0.00000293  \n",
      "Epoch: [7][100/3419] Elapsed 0m 11s (remain 6m 28s) Loss: 0.4550(0.5080) Grad: 394050.9062  LR: 0.00000285  \n",
      "Epoch: [7][200/3419] Elapsed 0m 23s (remain 6m 15s) Loss: 0.4909(0.4988) Grad: 9954.2705  LR: 0.00000277  \n",
      "Epoch: [7][300/3419] Elapsed 0m 35s (remain 6m 3s) Loss: 0.5836(0.4962) Grad: 84751.1406  LR: 0.00000269  \n",
      "Epoch: [7][400/3419] Elapsed 0m 46s (remain 5m 52s) Loss: 0.4794(0.4963) Grad: 31809.8457  LR: 0.00000261  \n",
      "Epoch: [7][500/3419] Elapsed 0m 58s (remain 5m 39s) Loss: 0.5623(0.4968) Grad: 11014.0586  LR: 0.00000254  \n",
      "Epoch: [7][600/3419] Elapsed 1m 9s (remain 5m 27s) Loss: 0.4998(0.5006) Grad: 43819.5234  LR: 0.00000246  \n",
      "Epoch: [7][700/3419] Elapsed 1m 21s (remain 5m 14s) Loss: 0.6233(0.5002) Grad: 33710.2305  LR: 0.00000238  \n",
      "Epoch: [7][800/3419] Elapsed 1m 32s (remain 5m 2s) Loss: 0.5389(0.4991) Grad: 16596.6152  LR: 0.00000231  \n",
      "Epoch: [7][900/3419] Elapsed 1m 44s (remain 4m 50s) Loss: 0.5859(0.5002) Grad: 34737.7188  LR: 0.00000224  \n",
      "Epoch: [7][1000/3419] Elapsed 1m 55s (remain 4m 39s) Loss: 0.5017(0.5016) Grad: 33392.8320  LR: 0.00000217  \n",
      "Epoch: [7][1100/3419] Elapsed 2m 7s (remain 4m 27s) Loss: 0.4592(0.5021) Grad: 2172.3892  LR: 0.00000209  \n",
      "Epoch: [7][1200/3419] Elapsed 2m 19s (remain 4m 17s) Loss: 0.1525(0.5006) Grad: 63493.6484  LR: 0.00000202  \n",
      "Epoch: [7][1300/3419] Elapsed 2m 30s (remain 4m 5s) Loss: 0.4537(0.5004) Grad: 19531.9707  LR: 0.00000196  \n",
      "Epoch: [7][1400/3419] Elapsed 2m 42s (remain 3m 53s) Loss: 0.6676(0.5011) Grad: 7486.6309  LR: 0.00000189  \n",
      "Epoch: [7][1500/3419] Elapsed 2m 53s (remain 3m 42s) Loss: 0.4923(0.5014) Grad: 5461.4414  LR: 0.00000182  \n",
      "Epoch: [7][1600/3419] Elapsed 3m 5s (remain 3m 30s) Loss: 0.4862(0.5011) Grad: 50274.8164  LR: 0.00000176  \n",
      "Epoch: [7][1700/3419] Elapsed 3m 17s (remain 3m 19s) Loss: 0.4205(0.5012) Grad: 124090.1641  LR: 0.00000169  \n",
      "Epoch: [7][1800/3419] Elapsed 3m 28s (remain 3m 7s) Loss: 0.5482(0.5016) Grad: 14269.6611  LR: 0.00000163  \n",
      "Epoch: [7][1900/3419] Elapsed 3m 39s (remain 2m 55s) Loss: 0.4802(0.5024) Grad: 6384.1675  LR: 0.00000157  \n",
      "Epoch: [7][2000/3419] Elapsed 3m 51s (remain 2m 44s) Loss: 0.6936(0.5025) Grad: 107263.9844  LR: 0.00000150  \n",
      "Epoch: [7][2100/3419] Elapsed 4m 2s (remain 2m 32s) Loss: 0.5053(0.5032) Grad: 346837.2812  LR: 0.00000144  \n",
      "Epoch: [7][2200/3419] Elapsed 4m 14s (remain 2m 20s) Loss: 0.4286(0.5033) Grad: 43599.5938  LR: 0.00000139  \n",
      "Epoch: [7][2300/3419] Elapsed 4m 25s (remain 2m 9s) Loss: 0.5149(0.5031) Grad: 16659.2031  LR: 0.00000133  \n",
      "Epoch: [7][2400/3419] Elapsed 4m 37s (remain 1m 57s) Loss: 0.4404(0.5037) Grad: 91894.9766  LR: 0.00000127  \n",
      "Epoch: [7][2500/3419] Elapsed 4m 48s (remain 1m 45s) Loss: 0.5636(0.5039) Grad: 38935.4219  LR: 0.00000122  \n",
      "Epoch: [7][2600/3419] Elapsed 5m 0s (remain 1m 34s) Loss: 0.6567(0.5035) Grad: 559943.9375  LR: 0.00000116  \n",
      "Epoch: [7][2700/3419] Elapsed 5m 11s (remain 1m 22s) Loss: 0.5119(0.5040) Grad: 281915.3438  LR: 0.00000111  \n",
      "Epoch: [7][2800/3419] Elapsed 5m 22s (remain 1m 11s) Loss: 0.3885(0.5043) Grad: 137394.0625  LR: 0.00000106  \n",
      "Epoch: [7][2900/3419] Elapsed 5m 34s (remain 0m 59s) Loss: 0.3364(0.5042) Grad: 9606.2568  LR: 0.00000101  \n",
      "Epoch: [7][3000/3419] Elapsed 5m 45s (remain 0m 48s) Loss: 0.5776(0.5047) Grad: 19991.9414  LR: 0.00000096  \n",
      "Epoch: [7][3100/3419] Elapsed 5m 57s (remain 0m 36s) Loss: 0.6713(0.5050) Grad: 16825.2617  LR: 0.00000091  \n",
      "Epoch: [7][3200/3419] Elapsed 6m 9s (remain 0m 25s) Loss: 0.6207(0.5053) Grad: 10076.2910  LR: 0.00000086  \n",
      "Epoch: [7][3300/3419] Elapsed 6m 20s (remain 0m 13s) Loss: 0.5256(0.5053) Grad: 40937.3633  LR: 0.00000081  \n",
      "Epoch: [7][3400/3419] Elapsed 6m 32s (remain 0m 2s) Loss: 0.4337(0.5050) Grad: 122274.6328  LR: 0.00000077  \n",
      "Epoch: [7][3418/3419] Elapsed 6m 34s (remain 0m 0s) Loss: 0.4548(0.5048) Grad: 54988.3398  LR: 0.00000076  \n"
     ]
    },
    {
     "name": "stderr",
     "output_type": "stream",
     "text": [
      "[W pthreadpool-cpp.cc:90] Warning: Leaking Caffe2 thread-pool after fork. (function pthreadpool)\n",
      "[W pthreadpool-cpp.cc:90] Warning: Leaking Caffe2 thread-pool after fork. (function pthreadpool)\n"
     ]
    },
    {
     "name": "stdout",
     "output_type": "stream",
     "text": [
      "EVAL: [0/1140] Elapsed 0m 0s (remain 3m 0s) Loss: 0.5128(0.5128) \n"
     ]
    },
    {
     "name": "stderr",
     "output_type": "stream",
     "text": [
      "[W pthreadpool-cpp.cc:90] Warning: Leaking Caffe2 thread-pool after fork. (function pthreadpool)\n",
      "[W pthreadpool-cpp.cc:90] Warning: Leaking Caffe2 thread-pool after fork. (function pthreadpool)\n"
     ]
    },
    {
     "name": "stdout",
     "output_type": "stream",
     "text": [
      "EVAL: [100/1140] Elapsed 0m 2s (remain 0m 30s) Loss: 0.5558(0.5458) \n",
      "EVAL: [200/1140] Elapsed 0m 5s (remain 0m 26s) Loss: 0.4244(0.5525) \n",
      "EVAL: [300/1140] Elapsed 0m 8s (remain 0m 23s) Loss: 0.7605(0.5466) \n",
      "EVAL: [400/1140] Elapsed 0m 11s (remain 0m 20s) Loss: 0.4969(0.5475) \n",
      "EVAL: [500/1140] Elapsed 0m 14s (remain 0m 17s) Loss: 0.5645(0.5533) \n",
      "EVAL: [600/1140] Elapsed 0m 16s (remain 0m 15s) Loss: 0.5295(0.5516) \n",
      "EVAL: [700/1140] Elapsed 0m 19s (remain 0m 12s) Loss: 0.6234(0.5535) \n",
      "EVAL: [800/1140] Elapsed 0m 22s (remain 0m 9s) Loss: 0.7371(0.5523) \n",
      "EVAL: [900/1140] Elapsed 0m 25s (remain 0m 6s) Loss: 0.4044(0.5511) \n",
      "EVAL: [1000/1140] Elapsed 0m 27s (remain 0m 3s) Loss: 0.5056(0.5526) \n",
      "EVAL: [1100/1140] Elapsed 0m 30s (remain 0m 1s) Loss: 0.4797(0.5512) \n"
     ]
    },
    {
     "name": "stderr",
     "output_type": "stream",
     "text": [
      "Epoch 7 - avg_train_loss: 0.5048  avg_val_loss: 0.5509  time: 426s\n",
      "Epoch 7 - Score: 0.8298\n"
     ]
    },
    {
     "name": "stdout",
     "output_type": "stream",
     "text": [
      "EVAL: [1139/1140] Elapsed 0m 31s (remain 0m 0s) Loss: 0.6008(0.5509) \n"
     ]
    },
    {
     "name": "stderr",
     "output_type": "stream",
     "text": [
      "[W pthreadpool-cpp.cc:90] Warning: Leaking Caffe2 thread-pool after fork. (function pthreadpool)\n",
      "[W pthreadpool-cpp.cc:90] Warning: Leaking Caffe2 thread-pool after fork. (function pthreadpool)\n",
      "[W pthreadpool-cpp.cc:90] Warning: Leaking Caffe2 thread-pool after fork. (function pthreadpool)\n",
      "[W pthreadpool-cpp.cc:90] Warning: Leaking Caffe2 thread-pool after fork. (function pthreadpool)\n"
     ]
    },
    {
     "name": "stdout",
     "output_type": "stream",
     "text": [
      "Epoch: [8][0/3419] Elapsed 0m 0s (remain 12m 50s) Loss: 0.4962(0.4962) Grad: 73787.3516  LR: 0.00000076  \n",
      "Epoch: [8][100/3419] Elapsed 0m 11s (remain 6m 24s) Loss: 0.6462(0.4973) Grad: 23971.8496  LR: 0.00000072  \n",
      "Epoch: [8][200/3419] Elapsed 0m 23s (remain 6m 10s) Loss: 0.5831(0.5030) Grad: 38437.2344  LR: 0.00000068  \n",
      "Epoch: [8][300/3419] Elapsed 0m 35s (remain 6m 5s) Loss: 0.5609(0.5024) Grad: 9067.7354  LR: 0.00000064  \n",
      "Epoch: [8][400/3419] Elapsed 0m 46s (remain 5m 51s) Loss: 0.4648(0.5014) Grad: 40874.8477  LR: 0.00000060  \n",
      "Epoch: [8][500/3419] Elapsed 0m 58s (remain 5m 42s) Loss: 0.5527(0.5007) Grad: 55776.5547  LR: 0.00000056  \n",
      "Epoch: [8][600/3419] Elapsed 1m 10s (remain 5m 28s) Loss: 0.5050(0.4997) Grad: 31134.3965  LR: 0.00000052  \n",
      "Epoch: [8][700/3419] Elapsed 1m 21s (remain 5m 16s) Loss: 0.4107(0.4967) Grad: 22230.5918  LR: 0.00000048  \n",
      "Epoch: [8][800/3419] Elapsed 1m 32s (remain 5m 3s) Loss: 0.5682(0.4983) Grad: 16187.8662  LR: 0.00000045  \n",
      "Epoch: [8][900/3419] Elapsed 1m 44s (remain 4m 51s) Loss: 0.4739(0.5026) Grad: 2713.7095  LR: 0.00000042  \n",
      "Epoch: [8][1000/3419] Elapsed 1m 55s (remain 4m 39s) Loss: 0.5667(0.5023) Grad: 48999.7344  LR: 0.00000038  \n",
      "Epoch: [8][1100/3419] Elapsed 2m 7s (remain 4m 27s) Loss: 0.3770(0.5028) Grad: 15860.7666  LR: 0.00000035  \n",
      "Epoch: [8][1200/3419] Elapsed 2m 18s (remain 4m 15s) Loss: 0.6336(0.5034) Grad: 4878.8706  LR: 0.00000032  \n",
      "Epoch: [8][1300/3419] Elapsed 2m 29s (remain 4m 4s) Loss: 0.5046(0.5035) Grad: 11213.1943  LR: 0.00000029  \n",
      "Epoch: [8][1400/3419] Elapsed 2m 41s (remain 3m 52s) Loss: 0.5022(0.5041) Grad: 41687.2227  LR: 0.00000027  \n",
      "Epoch: [8][1500/3419] Elapsed 2m 53s (remain 3m 41s) Loss: 0.6177(0.5046) Grad: 75344.4297  LR: 0.00000024  \n",
      "Epoch: [8][1600/3419] Elapsed 3m 4s (remain 3m 29s) Loss: 0.2760(0.5043) Grad: 10394.4570  LR: 0.00000022  \n",
      "Epoch: [8][1700/3419] Elapsed 3m 16s (remain 3m 18s) Loss: 0.4796(0.5040) Grad: 44374.9648  LR: 0.00000019  \n",
      "Epoch: [8][1800/3419] Elapsed 3m 27s (remain 3m 6s) Loss: 0.4581(0.5042) Grad: 5334.9287  LR: 0.00000017  \n",
      "Epoch: [8][1900/3419] Elapsed 3m 38s (remain 2m 54s) Loss: 0.4769(0.5043) Grad: 24530.0664  LR: 0.00000015  \n",
      "Epoch: [8][2000/3419] Elapsed 3m 50s (remain 2m 43s) Loss: 0.4299(0.5026) Grad: 34328.6289  LR: 0.00000013  \n",
      "Epoch: [8][2100/3419] Elapsed 4m 1s (remain 2m 31s) Loss: 0.4431(0.5022) Grad: 14038.9951  LR: 0.00000011  \n",
      "Epoch: [8][2200/3419] Elapsed 4m 13s (remain 2m 20s) Loss: 0.5776(0.5021) Grad: 4278.0869  LR: 0.00000010  \n",
      "Epoch: [8][2300/3419] Elapsed 4m 24s (remain 2m 8s) Loss: 0.4648(0.5019) Grad: 7845.3550  LR: 0.00000008  \n",
      "Epoch: [8][2400/3419] Elapsed 4m 36s (remain 1m 57s) Loss: 0.5165(0.5018) Grad: 11337.8662  LR: 0.00000007  \n",
      "Epoch: [8][2500/3419] Elapsed 4m 47s (remain 1m 45s) Loss: 0.4084(0.5023) Grad: 3171.6584  LR: 0.00000006  \n",
      "Epoch: [8][2600/3419] Elapsed 4m 58s (remain 1m 33s) Loss: 0.6679(0.5023) Grad: 10800.8389  LR: 0.00000004  \n",
      "Epoch: [8][2700/3419] Elapsed 5m 10s (remain 1m 22s) Loss: 0.4931(0.5024) Grad: 2718.0356  LR: 0.00000003  \n",
      "Epoch: [8][2800/3419] Elapsed 5m 21s (remain 1m 10s) Loss: 0.5253(0.5026) Grad: 6127.1519  LR: 0.00000003  \n",
      "Epoch: [8][2900/3419] Elapsed 5m 33s (remain 0m 59s) Loss: 0.5792(0.5027) Grad: 3030.1604  LR: 0.00000002  \n",
      "Epoch: [8][3000/3419] Elapsed 5m 44s (remain 0m 48s) Loss: 0.5266(0.5029) Grad: 22079.3418  LR: 0.00000001  \n",
      "Epoch: [8][3100/3419] Elapsed 5m 56s (remain 0m 36s) Loss: 0.3704(0.5034) Grad: 36425.8594  LR: 0.00000001  \n",
      "Epoch: [8][3200/3419] Elapsed 6m 7s (remain 0m 25s) Loss: 0.5999(0.5036) Grad: 12818.6465  LR: 0.00000000  \n",
      "Epoch: [8][3300/3419] Elapsed 6m 19s (remain 0m 13s) Loss: 0.6312(0.5039) Grad: 268068.2188  LR: 0.00000000  \n",
      "Epoch: [8][3400/3419] Elapsed 6m 30s (remain 0m 2s) Loss: 0.5079(0.5037) Grad: 20364.7930  LR: 0.00000000  \n"
     ]
    },
    {
     "name": "stderr",
     "output_type": "stream",
     "text": [
      "[W pthreadpool-cpp.cc:90] Warning: Leaking Caffe2 thread-pool after fork. (function pthreadpool)\n",
      "[W pthreadpool-cpp.cc:90] Warning: Leaking Caffe2 thread-pool after fork. (function pthreadpool)\n"
     ]
    },
    {
     "name": "stdout",
     "output_type": "stream",
     "text": [
      "Epoch: [8][3418/3419] Elapsed 6m 32s (remain 0m 0s) Loss: 0.4000(0.5039) Grad: 52456.2891  LR: 0.00000000  \n"
     ]
    },
    {
     "name": "stderr",
     "output_type": "stream",
     "text": [
      "[W pthreadpool-cpp.cc:90] Warning: Leaking Caffe2 thread-pool after fork. (function pthreadpool)\n",
      "[W pthreadpool-cpp.cc:90] Warning: Leaking Caffe2 thread-pool after fork. (function pthreadpool)\n"
     ]
    },
    {
     "name": "stdout",
     "output_type": "stream",
     "text": [
      "EVAL: [0/1140] Elapsed 0m 0s (remain 3m 4s) Loss: 0.5131(0.5131) \n"
     ]
    },
    {
     "name": "stderr",
     "output_type": "stream",
     "text": [
      "[W pthreadpool-cpp.cc:90] Warning: Leaking Caffe2 thread-pool after fork. (function pthreadpool)\n",
      "[W pthreadpool-cpp.cc:90] Warning: Leaking Caffe2 thread-pool after fork. (function pthreadpool)\n"
     ]
    },
    {
     "name": "stdout",
     "output_type": "stream",
     "text": [
      "EVAL: [100/1140] Elapsed 0m 2s (remain 0m 30s) Loss: 0.5628(0.5469) \n",
      "EVAL: [200/1140] Elapsed 0m 5s (remain 0m 26s) Loss: 0.4235(0.5519) \n",
      "EVAL: [300/1140] Elapsed 0m 8s (remain 0m 23s) Loss: 0.7689(0.5456) \n",
      "EVAL: [400/1140] Elapsed 0m 11s (remain 0m 20s) Loss: 0.5008(0.5466) \n",
      "EVAL: [500/1140] Elapsed 0m 14s (remain 0m 17s) Loss: 0.5641(0.5526) \n",
      "EVAL: [600/1140] Elapsed 0m 16s (remain 0m 15s) Loss: 0.5307(0.5515) \n",
      "EVAL: [700/1140] Elapsed 0m 19s (remain 0m 12s) Loss: 0.6220(0.5533) \n",
      "EVAL: [800/1140] Elapsed 0m 22s (remain 0m 9s) Loss: 0.7267(0.5522) \n",
      "EVAL: [900/1140] Elapsed 0m 25s (remain 0m 6s) Loss: 0.4044(0.5512) \n",
      "EVAL: [1000/1140] Elapsed 0m 28s (remain 0m 3s) Loss: 0.5226(0.5526) \n",
      "EVAL: [1100/1140] Elapsed 0m 30s (remain 0m 1s) Loss: 0.4787(0.5510) \n"
     ]
    },
    {
     "name": "stderr",
     "output_type": "stream",
     "text": [
      "Epoch 8 - avg_train_loss: 0.5039  avg_val_loss: 0.5508  time: 425s\n",
      "Epoch 8 - Score: 0.8299\n",
      "Epoch 8 - Save Best Score: 0.8299 Model\n"
     ]
    },
    {
     "name": "stdout",
     "output_type": "stream",
     "text": [
      "EVAL: [1139/1140] Elapsed 0m 31s (remain 0m 0s) Loss: 0.6010(0.5508) \n"
     ]
    },
    {
     "name": "stderr",
     "output_type": "stream",
     "text": [
      "========== fold: 0 result ==========\n",
      "Score: 0.8299\n",
      "========== fold: 1 training ==========\n"
     ]
    },
    {
     "name": "stdout",
     "output_type": "stream",
     "text": [
      "\u001b[38;5;40m========== fold: 1 training ==========\u001b[0m\n"
     ]
    },
    {
     "name": "stderr",
     "output_type": "stream",
     "text": [
      "Some weights of the model checkpoint at microsoft/mpnet-base were not used when initializing MPNetModel: ['lm_head.decoder.weight', 'lm_head.layer_norm.bias', 'lm_head.layer_norm.weight', 'lm_head.dense.bias', 'lm_head.dense.weight', 'lm_head.bias', 'lm_head.decoder.bias']\n",
      "- This IS expected if you are initializing MPNetModel from the checkpoint of a model trained on another task or with another architecture (e.g. initializing a BertForSequenceClassification model from a BertForPreTraining model).\n",
      "- This IS NOT expected if you are initializing MPNetModel from the checkpoint of a model that you expect to be exactly identical (initializing a BertForSequenceClassification model from a BertForSequenceClassification model).\n",
      "Some weights of MPNetModel were not initialized from the model checkpoint at microsoft/mpnet-base and are newly initialized: ['mpnet.pooler.dense.bias', 'mpnet.pooler.dense.weight']\n",
      "You should probably TRAIN this model on a down-stream task to be able to use it for predictions and inference.\n",
      "[W pthreadpool-cpp.cc:90] Warning: Leaking Caffe2 thread-pool after fork. (function pthreadpool)\n",
      "[W pthreadpool-cpp.cc:90] Warning: Leaking Caffe2 thread-pool after fork. (function pthreadpool)\n",
      "[W pthreadpool-cpp.cc:90] Warning: Leaking Caffe2 thread-pool after fork. (function pthreadpool)\n",
      "[W pthreadpool-cpp.cc:90] Warning: Leaking Caffe2 thread-pool after fork. (function pthreadpool)\n"
     ]
    },
    {
     "name": "stdout",
     "output_type": "stream",
     "text": [
      "Epoch: [1][0/3419] Elapsed 0m 0s (remain 12m 59s) Loss: 0.6607(0.6607) Grad: inf  LR: 0.00002000  \n",
      "Epoch: [1][100/3419] Elapsed 0m 12s (remain 6m 52s) Loss: 0.7133(0.6594) Grad: 27116.3613  LR: 0.00002000  \n",
      "Epoch: [1][200/3419] Elapsed 0m 23s (remain 6m 22s) Loss: 0.6660(0.6444) Grad: 19283.9707  LR: 0.00002000  \n",
      "Epoch: [1][300/3419] Elapsed 0m 35s (remain 6m 3s) Loss: 0.7172(0.6331) Grad: 31420.5449  LR: 0.00001999  \n",
      "Epoch: [1][400/3419] Elapsed 0m 46s (remain 5m 47s) Loss: 0.6843(0.6309) Grad: 30209.7871  LR: 0.00001999  \n",
      "Epoch: [1][500/3419] Elapsed 0m 57s (remain 5m 35s) Loss: 0.5111(0.6279) Grad: 25176.8711  LR: 0.00001998  \n",
      "Epoch: [1][600/3419] Elapsed 1m 8s (remain 5m 22s) Loss: 0.6661(0.6246) Grad: 29793.6953  LR: 0.00001998  \n",
      "Epoch: [1][700/3419] Elapsed 1m 19s (remain 5m 9s) Loss: 0.6828(0.6211) Grad: 39161.9688  LR: 0.00001997  \n",
      "Epoch: [1][800/3419] Elapsed 1m 30s (remain 4m 57s) Loss: 0.5506(0.6176) Grad: 15145.4961  LR: 0.00001996  \n",
      "Epoch: [1][900/3419] Elapsed 1m 42s (remain 4m 45s) Loss: 0.5424(0.6133) Grad: 24434.0820  LR: 0.00001995  \n",
      "Epoch: [1][1000/3419] Elapsed 1m 53s (remain 4m 33s) Loss: 0.5313(0.6106) Grad: 7627.3589  LR: 0.00001993  \n",
      "Epoch: [1][1100/3419] Elapsed 2m 4s (remain 4m 21s) Loss: 0.5976(0.6084) Grad: 27170.8887  LR: 0.00001992  \n",
      "Epoch: [1][1200/3419] Elapsed 2m 15s (remain 4m 10s) Loss: 0.7556(0.6058) Grad: 77324.3828  LR: 0.00001991  \n",
      "Epoch: [1][1300/3419] Elapsed 2m 26s (remain 3m 58s) Loss: 0.6450(0.6032) Grad: 144161.8906  LR: 0.00001989  \n",
      "Epoch: [1][1400/3419] Elapsed 2m 37s (remain 3m 47s) Loss: 0.4867(0.6006) Grad: 32307.1934  LR: 0.00001987  \n",
      "Epoch: [1][1500/3419] Elapsed 2m 48s (remain 3m 35s) Loss: 0.6810(0.5987) Grad: 50551.8867  LR: 0.00001985  \n",
      "Epoch: [1][1600/3419] Elapsed 3m 0s (remain 3m 24s) Loss: 0.3924(0.5974) Grad: 22086.2266  LR: 0.00001983  \n",
      "Epoch: [1][1700/3419] Elapsed 3m 12s (remain 3m 13s) Loss: 0.4879(0.5964) Grad: 57063.1484  LR: 0.00001981  \n",
      "Epoch: [1][1800/3419] Elapsed 3m 23s (remain 3m 2s) Loss: 0.4690(0.5955) Grad: 30458.9043  LR: 0.00001979  \n",
      "Epoch: [1][1900/3419] Elapsed 3m 34s (remain 2m 51s) Loss: 0.6560(0.5948) Grad: 46791.5547  LR: 0.00001976  \n",
      "Epoch: [1][2000/3419] Elapsed 3m 46s (remain 2m 40s) Loss: 0.4819(0.5937) Grad: 31643.2402  LR: 0.00001974  \n",
      "Epoch: [1][2100/3419] Elapsed 3m 57s (remain 2m 29s) Loss: 0.6065(0.5927) Grad: 58440.7656  LR: 0.00001971  \n",
      "Epoch: [1][2200/3419] Elapsed 4m 9s (remain 2m 17s) Loss: 0.4758(0.5915) Grad: 42376.1562  LR: 0.00001968  \n",
      "Epoch: [1][2300/3419] Elapsed 4m 20s (remain 2m 6s) Loss: 0.6256(0.5910) Grad: 44628.8008  LR: 0.00001965  \n",
      "Epoch: [1][2400/3419] Elapsed 4m 32s (remain 1m 55s) Loss: 0.6448(0.5903) Grad: 171036.2656  LR: 0.00001962  \n",
      "Epoch: [1][2500/3419] Elapsed 4m 43s (remain 1m 44s) Loss: 0.7252(0.5896) Grad: 85339.6406  LR: 0.00001959  \n",
      "Epoch: [1][2600/3419] Elapsed 4m 54s (remain 1m 32s) Loss: 0.5083(0.5888) Grad: 92026.8125  LR: 0.00001956  \n",
      "Epoch: [1][2700/3419] Elapsed 5m 6s (remain 1m 21s) Loss: 0.5995(0.5888) Grad: 130223.1641  LR: 0.00001952  \n",
      "Epoch: [1][2800/3419] Elapsed 5m 18s (remain 1m 10s) Loss: 0.5819(0.5880) Grad: 121110.5703  LR: 0.00001949  \n",
      "Epoch: [1][2900/3419] Elapsed 5m 29s (remain 0m 58s) Loss: 0.5499(0.5873) Grad: 59751.4180  LR: 0.00001945  \n",
      "Epoch: [1][3000/3419] Elapsed 5m 41s (remain 0m 47s) Loss: 0.6433(0.5863) Grad: 100208.2422  LR: 0.00001941  \n",
      "Epoch: [1][3100/3419] Elapsed 5m 52s (remain 0m 36s) Loss: 0.5799(0.5855) Grad: 37167.5508  LR: 0.00001937  \n",
      "Epoch: [1][3200/3419] Elapsed 6m 4s (remain 0m 24s) Loss: 0.6121(0.5845) Grad: 168684.3750  LR: 0.00001933  \n",
      "Epoch: [1][3300/3419] Elapsed 6m 15s (remain 0m 13s) Loss: 0.5340(0.5837) Grad: 181522.2969  LR: 0.00001929  \n",
      "Epoch: [1][3400/3419] Elapsed 6m 27s (remain 0m 2s) Loss: 0.5117(0.5835) Grad: 42178.0820  LR: 0.00001925  \n",
      "Epoch: [1][3418/3419] Elapsed 6m 29s (remain 0m 0s) Loss: 0.6498(0.5834) Grad: 69821.6172  LR: 0.00001924  \n"
     ]
    },
    {
     "name": "stderr",
     "output_type": "stream",
     "text": [
      "[W pthreadpool-cpp.cc:90] Warning: Leaking Caffe2 thread-pool after fork. (function pthreadpool)\n",
      "[W pthreadpool-cpp.cc:90] Warning: Leaking Caffe2 thread-pool after fork. (function pthreadpool)\n",
      "[W pthreadpool-cpp.cc:90] Warning: Leaking Caffe2 thread-pool after fork. (function pthreadpool)\n",
      "[W pthreadpool-cpp.cc:90] Warning: Leaking Caffe2 thread-pool after fork. (function pthreadpool)\n"
     ]
    },
    {
     "name": "stdout",
     "output_type": "stream",
     "text": [
      "EVAL: [0/1140] Elapsed 0m 0s (remain 3m 8s) Loss: 0.5644(0.5644) \n",
      "EVAL: [100/1140] Elapsed 0m 2s (remain 0m 30s) Loss: 0.5451(0.5444) \n",
      "EVAL: [200/1140] Elapsed 0m 5s (remain 0m 26s) Loss: 0.5159(0.5508) \n",
      "EVAL: [300/1140] Elapsed 0m 8s (remain 0m 23s) Loss: 0.6126(0.5537) \n",
      "EVAL: [400/1140] Elapsed 0m 11s (remain 0m 20s) Loss: 0.3823(0.5566) \n",
      "EVAL: [500/1140] Elapsed 0m 14s (remain 0m 17s) Loss: 0.6677(0.5599) \n",
      "EVAL: [600/1140] Elapsed 0m 16s (remain 0m 15s) Loss: 0.5977(0.5604) \n",
      "EVAL: [700/1140] Elapsed 0m 19s (remain 0m 12s) Loss: 0.7326(0.5594) \n",
      "EVAL: [800/1140] Elapsed 0m 22s (remain 0m 9s) Loss: 0.5905(0.5608) \n",
      "EVAL: [900/1140] Elapsed 0m 25s (remain 0m 6s) Loss: 0.5462(0.5594) \n",
      "EVAL: [1000/1140] Elapsed 0m 27s (remain 0m 3s) Loss: 0.5270(0.5588) \n",
      "EVAL: [1100/1140] Elapsed 0m 30s (remain 0m 1s) Loss: 0.4126(0.5578) \n"
     ]
    },
    {
     "name": "stderr",
     "output_type": "stream",
     "text": [
      "Epoch 1 - avg_train_loss: 0.5834  avg_val_loss: 0.5581  time: 421s\n",
      "Epoch 1 - Score: 0.7780\n",
      "Epoch 1 - Save Best Score: 0.7780 Model\n"
     ]
    },
    {
     "name": "stdout",
     "output_type": "stream",
     "text": [
      "EVAL: [1139/1140] Elapsed 0m 31s (remain 0m 0s) Loss: 0.6550(0.5581) \n"
     ]
    },
    {
     "name": "stderr",
     "output_type": "stream",
     "text": [
      "[W pthreadpool-cpp.cc:90] Warning: Leaking Caffe2 thread-pool after fork. (function pthreadpool)\n",
      "[W pthreadpool-cpp.cc:90] Warning: Leaking Caffe2 thread-pool after fork. (function pthreadpool)\n",
      "[W pthreadpool-cpp.cc:90] Warning: Leaking Caffe2 thread-pool after fork. (function pthreadpool)\n",
      "[W pthreadpool-cpp.cc:90] Warning: Leaking Caffe2 thread-pool after fork. (function pthreadpool)\n"
     ]
    },
    {
     "name": "stdout",
     "output_type": "stream",
     "text": [
      "Epoch: [2][0/3419] Elapsed 0m 0s (remain 20m 37s) Loss: 0.4726(0.4726) Grad: 87024.1172  LR: 0.00001924  \n",
      "Epoch: [2][100/3419] Elapsed 0m 11s (remain 6m 26s) Loss: 0.6618(0.5567) Grad: 64115.8164  LR: 0.00001919  \n",
      "Epoch: [2][200/3419] Elapsed 0m 23s (remain 6m 11s) Loss: 0.3906(0.5503) Grad: 95562.5234  LR: 0.00001915  \n",
      "Epoch: [2][300/3419] Elapsed 0m 34s (remain 5m 58s) Loss: 0.4926(0.5601) Grad: 51135.4375  LR: 0.00001910  \n",
      "Epoch: [2][400/3419] Elapsed 0m 46s (remain 5m 46s) Loss: 0.5667(0.5588) Grad: 86661.0625  LR: 0.00001905  \n",
      "Epoch: [2][500/3419] Elapsed 0m 57s (remain 5m 35s) Loss: 0.6536(0.5598) Grad: 135822.8906  LR: 0.00001900  \n",
      "Epoch: [2][600/3419] Elapsed 1m 8s (remain 5m 23s) Loss: 0.5157(0.5596) Grad: 11497.5459  LR: 0.00001895  \n",
      "Epoch: [2][700/3419] Elapsed 1m 20s (remain 5m 11s) Loss: 0.5026(0.5607) Grad: 13096.8623  LR: 0.00001890  \n",
      "Epoch: [2][800/3419] Elapsed 1m 31s (remain 5m 0s) Loss: 0.6195(0.5594) Grad: 37101.3125  LR: 0.00001885  \n",
      "Epoch: [2][900/3419] Elapsed 1m 43s (remain 4m 48s) Loss: 0.5107(0.5588) Grad: 26208.6074  LR: 0.00001879  \n",
      "Epoch: [2][1000/3419] Elapsed 1m 54s (remain 4m 37s) Loss: 0.4769(0.5579) Grad: 23662.6562  LR: 0.00001874  \n",
      "Epoch: [2][1100/3419] Elapsed 2m 6s (remain 4m 27s) Loss: 0.6880(0.5573) Grad: 23908.9121  LR: 0.00001868  \n",
      "Epoch: [2][1200/3419] Elapsed 2m 18s (remain 4m 15s) Loss: 0.4708(0.5571) Grad: 49567.8906  LR: 0.00001863  \n",
      "Epoch: [2][1300/3419] Elapsed 2m 29s (remain 4m 3s) Loss: 0.5211(0.5575) Grad: 25235.6602  LR: 0.00001857  \n",
      "Epoch: [2][1400/3419] Elapsed 2m 41s (remain 3m 52s) Loss: 0.6736(0.5576) Grad: 46546.8594  LR: 0.00001851  \n",
      "Epoch: [2][1500/3419] Elapsed 2m 52s (remain 3m 40s) Loss: 0.4445(0.5570) Grad: 24328.1445  LR: 0.00001845  \n",
      "Epoch: [2][1600/3419] Elapsed 3m 4s (remain 3m 28s) Loss: 0.6057(0.5555) Grad: 14314.1426  LR: 0.00001838  \n",
      "Epoch: [2][1700/3419] Elapsed 3m 15s (remain 3m 17s) Loss: 0.5570(0.5563) Grad: 75130.8125  LR: 0.00001832  \n",
      "Epoch: [2][1800/3419] Elapsed 3m 26s (remain 3m 5s) Loss: 0.4530(0.5563) Grad: 23930.4629  LR: 0.00001826  \n",
      "Epoch: [2][1900/3419] Elapsed 3m 38s (remain 2m 54s) Loss: 0.5296(0.5561) Grad: 39719.1406  LR: 0.00001819  \n",
      "Epoch: [2][2000/3419] Elapsed 3m 49s (remain 2m 42s) Loss: 0.6291(0.5558) Grad: 42050.1758  LR: 0.00001812  \n",
      "Epoch: [2][2100/3419] Elapsed 4m 1s (remain 2m 31s) Loss: 0.5249(0.5554) Grad: 138139.0469  LR: 0.00001806  \n",
      "Epoch: [2][2200/3419] Elapsed 4m 13s (remain 2m 20s) Loss: 0.7257(0.5551) Grad: 20341.5156  LR: 0.00001799  \n",
      "Epoch: [2][2300/3419] Elapsed 4m 24s (remain 2m 8s) Loss: 0.6097(0.5549) Grad: 23254.9824  LR: 0.00001792  \n",
      "Epoch: [2][2400/3419] Elapsed 4m 36s (remain 1m 57s) Loss: 0.4921(0.5549) Grad: 22541.5273  LR: 0.00001785  \n",
      "Epoch: [2][2500/3419] Elapsed 4m 47s (remain 1m 45s) Loss: 0.4151(0.5551) Grad: 36200.5898  LR: 0.00001778  \n",
      "Epoch: [2][2600/3419] Elapsed 4m 58s (remain 1m 34s) Loss: 0.6366(0.5552) Grad: 70344.2656  LR: 0.00001770  \n",
      "Epoch: [2][2700/3419] Elapsed 5m 10s (remain 1m 22s) Loss: 0.6188(0.5551) Grad: 29280.7930  LR: 0.00001763  \n",
      "Epoch: [2][2800/3419] Elapsed 5m 21s (remain 1m 11s) Loss: 0.5800(0.5546) Grad: 229793.7031  LR: 0.00001756  \n",
      "Epoch: [2][2900/3419] Elapsed 5m 33s (remain 0m 59s) Loss: 0.6130(0.5537) Grad: 56194.0508  LR: 0.00001748  \n",
      "Epoch: [2][3000/3419] Elapsed 5m 44s (remain 0m 48s) Loss: 0.5254(0.5535) Grad: 13773.0420  LR: 0.00001740  \n",
      "Epoch: [2][3100/3419] Elapsed 5m 56s (remain 0m 36s) Loss: 0.6219(0.5535) Grad: 204243.0625  LR: 0.00001733  \n",
      "Epoch: [2][3200/3419] Elapsed 6m 7s (remain 0m 25s) Loss: 0.6953(0.5527) Grad: 35802.9102  LR: 0.00001725  \n",
      "Epoch: [2][3300/3419] Elapsed 6m 19s (remain 0m 13s) Loss: 0.6391(0.5529) Grad: 307864.1875  LR: 0.00001717  \n",
      "Epoch: [2][3400/3419] Elapsed 6m 30s (remain 0m 2s) Loss: 0.5751(0.5527) Grad: 33087.8711  LR: 0.00001709  \n"
     ]
    },
    {
     "name": "stderr",
     "output_type": "stream",
     "text": [
      "[W pthreadpool-cpp.cc:90] Warning: Leaking Caffe2 thread-pool after fork. (function pthreadpool)\n"
     ]
    },
    {
     "name": "stdout",
     "output_type": "stream",
     "text": [
      "Epoch: [2][3418/3419] Elapsed 6m 32s (remain 0m 0s) Loss: 0.7186(0.5528) Grad: 243059.9062  LR: 0.00001707  \n"
     ]
    },
    {
     "name": "stderr",
     "output_type": "stream",
     "text": [
      "[W pthreadpool-cpp.cc:90] Warning: Leaking Caffe2 thread-pool after fork. (function pthreadpool)\n",
      "[W pthreadpool-cpp.cc:90] Warning: Leaking Caffe2 thread-pool after fork. (function pthreadpool)\n",
      "[W pthreadpool-cpp.cc:90] Warning: Leaking Caffe2 thread-pool after fork. (function pthreadpool)\n",
      "[W pthreadpool-cpp.cc:90] Warning: Leaking Caffe2 thread-pool after fork. (function pthreadpool)\n"
     ]
    },
    {
     "name": "stdout",
     "output_type": "stream",
     "text": [
      "EVAL: [0/1140] Elapsed 0m 0s (remain 3m 11s) Loss: 0.4899(0.4899) \n",
      "EVAL: [100/1140] Elapsed 0m 2s (remain 0m 30s) Loss: 0.5713(0.5407) \n",
      "EVAL: [200/1140] Elapsed 0m 5s (remain 0m 26s) Loss: 0.5258(0.5458) \n",
      "EVAL: [300/1140] Elapsed 0m 8s (remain 0m 23s) Loss: 0.6077(0.5498) \n",
      "EVAL: [400/1140] Elapsed 0m 11s (remain 0m 20s) Loss: 0.3648(0.5511) \n",
      "EVAL: [500/1140] Elapsed 0m 14s (remain 0m 17s) Loss: 0.6614(0.5541) \n",
      "EVAL: [600/1140] Elapsed 0m 16s (remain 0m 15s) Loss: 0.5507(0.5541) \n",
      "EVAL: [700/1140] Elapsed 0m 19s (remain 0m 12s) Loss: 0.6857(0.5528) \n",
      "EVAL: [800/1140] Elapsed 0m 22s (remain 0m 9s) Loss: 0.5947(0.5535) \n",
      "EVAL: [900/1140] Elapsed 0m 25s (remain 0m 6s) Loss: 0.5050(0.5523) \n",
      "EVAL: [1000/1140] Elapsed 0m 28s (remain 0m 3s) Loss: 0.5469(0.5515) \n",
      "EVAL: [1100/1140] Elapsed 0m 30s (remain 0m 1s) Loss: 0.4505(0.5498) \n"
     ]
    },
    {
     "name": "stderr",
     "output_type": "stream",
     "text": [
      "Epoch 2 - avg_train_loss: 0.5528  avg_val_loss: 0.5504  time: 425s\n",
      "Epoch 2 - Score: 0.8125\n",
      "Epoch 2 - Save Best Score: 0.8125 Model\n"
     ]
    },
    {
     "name": "stdout",
     "output_type": "stream",
     "text": [
      "EVAL: [1139/1140] Elapsed 0m 31s (remain 0m 0s) Loss: 0.7257(0.5504) \n"
     ]
    },
    {
     "name": "stderr",
     "output_type": "stream",
     "text": [
      "[W pthreadpool-cpp.cc:90] Warning: Leaking Caffe2 thread-pool after fork. (function pthreadpool)\n",
      "[W pthreadpool-cpp.cc:90] Warning: Leaking Caffe2 thread-pool after fork. (function pthreadpool)\n",
      "[W pthreadpool-cpp.cc:90] Warning: Leaking Caffe2 thread-pool after fork. (function pthreadpool)\n",
      "[W pthreadpool-cpp.cc:90] Warning: Leaking Caffe2 thread-pool after fork. (function pthreadpool)\n"
     ]
    },
    {
     "name": "stdout",
     "output_type": "stream",
     "text": [
      "Epoch: [3][0/3419] Elapsed 0m 0s (remain 28m 35s) Loss: 0.4477(0.4477) Grad: 65060.0469  LR: 0.00001707  \n",
      "Epoch: [3][100/3419] Elapsed 0m 11s (remain 6m 31s) Loss: 0.5062(0.5348) Grad: 33271.2422  LR: 0.00001699  \n",
      "Epoch: [3][200/3419] Elapsed 0m 23s (remain 6m 13s) Loss: 0.6105(0.5283) Grad: 125108.5234  LR: 0.00001691  \n",
      "Epoch: [3][300/3419] Elapsed 0m 34s (remain 5m 59s) Loss: 0.5981(0.5274) Grad: 13269.2178  LR: 0.00001682  \n",
      "Epoch: [3][400/3419] Elapsed 0m 46s (remain 5m 47s) Loss: 0.4666(0.5287) Grad: 44585.2734  LR: 0.00001674  \n",
      "Epoch: [3][500/3419] Elapsed 0m 57s (remain 5m 35s) Loss: 0.6412(0.5288) Grad: 6335.7993  LR: 0.00001665  \n",
      "Epoch: [3][600/3419] Elapsed 1m 9s (remain 5m 24s) Loss: 0.6365(0.5307) Grad: 29245.5352  LR: 0.00001657  \n",
      "Epoch: [3][700/3419] Elapsed 1m 20s (remain 5m 13s) Loss: 0.5290(0.5334) Grad: 59249.6641  LR: 0.00001648  \n",
      "Epoch: [3][800/3419] Elapsed 1m 31s (remain 5m 0s) Loss: 0.5923(0.5347) Grad: 24698.1836  LR: 0.00001639  \n",
      "Epoch: [3][900/3419] Elapsed 1m 43s (remain 4m 48s) Loss: 0.6003(0.5367) Grad: 16917.6016  LR: 0.00001630  \n",
      "Epoch: [3][1000/3419] Elapsed 1m 54s (remain 4m 35s) Loss: 0.6012(0.5382) Grad: 20206.3320  LR: 0.00001621  \n",
      "Epoch: [3][1100/3419] Elapsed 2m 5s (remain 4m 24s) Loss: 0.4612(0.5396) Grad: 28834.6250  LR: 0.00001612  \n",
      "Epoch: [3][1200/3419] Elapsed 2m 16s (remain 4m 12s) Loss: 0.4882(0.5394) Grad: 382849.8438  LR: 0.00001603  \n",
      "Epoch: [3][1300/3419] Elapsed 2m 28s (remain 4m 1s) Loss: 0.5706(0.5390) Grad: 16038.2500  LR: 0.00001594  \n",
      "Epoch: [3][1400/3419] Elapsed 2m 40s (remain 3m 50s) Loss: 0.6209(0.5387) Grad: 8236.4971  LR: 0.00001585  \n",
      "Epoch: [3][1500/3419] Elapsed 2m 51s (remain 3m 39s) Loss: 0.5417(0.5400) Grad: 15475.4707  LR: 0.00001575  \n",
      "Epoch: [3][1600/3419] Elapsed 3m 3s (remain 3m 27s) Loss: 0.4961(0.5407) Grad: 11810.6729  LR: 0.00001566  \n",
      "Epoch: [3][1700/3419] Elapsed 3m 17s (remain 3m 19s) Loss: 0.6195(0.5405) Grad: 9232.3369  LR: 0.00001556  \n",
      "Epoch: [3][1800/3419] Elapsed 3m 28s (remain 3m 7s) Loss: 0.5933(0.5408) Grad: 6451.0522  LR: 0.00001547  \n",
      "Epoch: [3][1900/3419] Elapsed 3m 40s (remain 2m 55s) Loss: 0.4747(0.5412) Grad: 30097.6230  LR: 0.00001537  \n",
      "Epoch: [3][2000/3419] Elapsed 3m 51s (remain 2m 44s) Loss: 0.5237(0.5410) Grad: 12201.9766  LR: 0.00001528  \n",
      "Epoch: [3][2100/3419] Elapsed 4m 2s (remain 2m 32s) Loss: 0.5831(0.5404) Grad: 7389.8389  LR: 0.00001518  \n",
      "Epoch: [3][2200/3419] Elapsed 4m 14s (remain 2m 20s) Loss: 0.3560(0.5406) Grad: 9512.9902  LR: 0.00001508  \n",
      "Epoch: [3][2300/3419] Elapsed 4m 25s (remain 2m 9s) Loss: 0.5982(0.5407) Grad: 9760.5645  LR: 0.00001498  \n",
      "Epoch: [3][2400/3419] Elapsed 4m 36s (remain 1m 57s) Loss: 0.4868(0.5403) Grad: 6870.7319  LR: 0.00001488  \n",
      "Epoch: [3][2500/3419] Elapsed 4m 48s (remain 1m 46s) Loss: 0.3556(0.5400) Grad: 5328.7856  LR: 0.00001478  \n",
      "Epoch: [3][2600/3419] Elapsed 5m 0s (remain 1m 34s) Loss: 0.6174(0.5398) Grad: 8954.9463  LR: 0.00001468  \n",
      "Epoch: [3][2700/3419] Elapsed 5m 11s (remain 1m 22s) Loss: 0.4673(0.5401) Grad: 5617.6230  LR: 0.00001458  \n",
      "Epoch: [3][2800/3419] Elapsed 5m 22s (remain 1m 11s) Loss: 0.5851(0.5402) Grad: 4114.5952  LR: 0.00001447  \n",
      "Epoch: [3][2900/3419] Elapsed 5m 34s (remain 0m 59s) Loss: 0.5324(0.5405) Grad: 16443.9688  LR: 0.00001437  \n",
      "Epoch: [3][3000/3419] Elapsed 5m 45s (remain 0m 48s) Loss: 0.5667(0.5406) Grad: 31888.6504  LR: 0.00001427  \n",
      "Epoch: [3][3100/3419] Elapsed 5m 57s (remain 0m 36s) Loss: 0.6150(0.5410) Grad: 7771.7407  LR: 0.00001416  \n",
      "Epoch: [3][3200/3419] Elapsed 6m 8s (remain 0m 25s) Loss: 0.5219(0.5416) Grad: 3240.8396  LR: 0.00001406  \n",
      "Epoch: [3][3300/3419] Elapsed 6m 19s (remain 0m 13s) Loss: 0.5882(0.5413) Grad: 11036.1982  LR: 0.00001395  \n",
      "Epoch: [3][3400/3419] Elapsed 6m 31s (remain 0m 2s) Loss: 0.6314(0.5410) Grad: 30642.5488  LR: 0.00001385  \n",
      "Epoch: [3][3418/3419] Elapsed 6m 33s (remain 0m 0s) Loss: 0.7692(0.5413) Grad: 10072.0830  LR: 0.00001383  \n"
     ]
    },
    {
     "name": "stderr",
     "output_type": "stream",
     "text": [
      "[W pthreadpool-cpp.cc:90] Warning: Leaking Caffe2 thread-pool after fork. (function pthreadpool)\n",
      "[W pthreadpool-cpp.cc:90] Warning: Leaking Caffe2 thread-pool after fork. (function pthreadpool)\n",
      "[W pthreadpool-cpp.cc:90] Warning: Leaking Caffe2 thread-pool after fork. (function pthreadpool)\n",
      "[W pthreadpool-cpp.cc:90] Warning: Leaking Caffe2 thread-pool after fork. (function pthreadpool)\n"
     ]
    },
    {
     "name": "stdout",
     "output_type": "stream",
     "text": [
      "EVAL: [0/1140] Elapsed 0m 0s (remain 3m 9s) Loss: 0.6633(0.6633) \n",
      "EVAL: [100/1140] Elapsed 0m 2s (remain 0m 30s) Loss: 0.5906(0.5452) \n",
      "EVAL: [200/1140] Elapsed 0m 5s (remain 0m 26s) Loss: 0.5217(0.5501) \n",
      "EVAL: [300/1140] Elapsed 0m 8s (remain 0m 23s) Loss: 0.6180(0.5522) \n",
      "EVAL: [400/1140] Elapsed 0m 11s (remain 0m 20s) Loss: 0.3467(0.5553) \n",
      "EVAL: [500/1140] Elapsed 0m 13s (remain 0m 17s) Loss: 0.7015(0.5582) \n",
      "EVAL: [600/1140] Elapsed 0m 16s (remain 0m 15s) Loss: 0.5444(0.5578) \n",
      "EVAL: [700/1140] Elapsed 0m 19s (remain 0m 12s) Loss: 0.6983(0.5571) \n",
      "EVAL: [800/1140] Elapsed 0m 22s (remain 0m 9s) Loss: 0.5836(0.5581) \n",
      "EVAL: [900/1140] Elapsed 0m 25s (remain 0m 6s) Loss: 0.4846(0.5566) \n",
      "EVAL: [1000/1140] Elapsed 0m 27s (remain 0m 3s) Loss: 0.5354(0.5563) \n",
      "EVAL: [1100/1140] Elapsed 0m 30s (remain 0m 1s) Loss: 0.3919(0.5547) \n"
     ]
    },
    {
     "name": "stderr",
     "output_type": "stream",
     "text": [
      "Epoch 3 - avg_train_loss: 0.5413  avg_val_loss: 0.5558  time: 425s\n",
      "Epoch 3 - Score: 0.8054\n"
     ]
    },
    {
     "name": "stdout",
     "output_type": "stream",
     "text": [
      "EVAL: [1139/1140] Elapsed 0m 31s (remain 0m 0s) Loss: 0.7912(0.5558) \n"
     ]
    },
    {
     "name": "stderr",
     "output_type": "stream",
     "text": [
      "[W pthreadpool-cpp.cc:90] Warning: Leaking Caffe2 thread-pool after fork. (function pthreadpool)\n",
      "[W pthreadpool-cpp.cc:90] Warning: Leaking Caffe2 thread-pool after fork. (function pthreadpool)\n",
      "[W pthreadpool-cpp.cc:90] Warning: Leaking Caffe2 thread-pool after fork. (function pthreadpool)\n",
      "[W pthreadpool-cpp.cc:90] Warning: Leaking Caffe2 thread-pool after fork. (function pthreadpool)\n"
     ]
    },
    {
     "name": "stdout",
     "output_type": "stream",
     "text": [
      "Epoch: [4][0/3419] Elapsed 0m 0s (remain 13m 0s) Loss: 0.5452(0.5452) Grad: 259671.1562  LR: 0.00001383  \n",
      "Epoch: [4][100/3419] Elapsed 0m 11s (remain 6m 18s) Loss: 0.5767(0.5357) Grad: 36525.8320  LR: 0.00001372  \n",
      "Epoch: [4][200/3419] Elapsed 0m 22s (remain 6m 6s) Loss: 0.4895(0.5260) Grad: 32860.4727  LR: 0.00001361  \n",
      "Epoch: [4][300/3419] Elapsed 0m 34s (remain 6m 1s) Loss: 0.4246(0.5229) Grad: 41950.7109  LR: 0.00001351  \n",
      "Epoch: [4][400/3419] Elapsed 0m 46s (remain 5m 47s) Loss: 0.4377(0.5234) Grad: 20286.2129  LR: 0.00001340  \n",
      "Epoch: [4][500/3419] Elapsed 0m 57s (remain 5m 35s) Loss: 0.6592(0.5233) Grad: 12865.1807  LR: 0.00001329  \n",
      "Epoch: [4][600/3419] Elapsed 1m 8s (remain 5m 23s) Loss: 0.5349(0.5223) Grad: 10312.7148  LR: 0.00001318  \n",
      "Epoch: [4][700/3419] Elapsed 1m 20s (remain 5m 11s) Loss: 0.4285(0.5234) Grad: 7566.8965  LR: 0.00001307  \n",
      "Epoch: [4][800/3419] Elapsed 1m 31s (remain 4m 59s) Loss: 0.5579(0.5240) Grad: 13226.5674  LR: 0.00001296  \n",
      "Epoch: [4][900/3419] Elapsed 1m 43s (remain 4m 47s) Loss: 0.7090(0.5242) Grad: 31633.8379  LR: 0.00001285  \n",
      "Epoch: [4][1000/3419] Elapsed 1m 54s (remain 4m 36s) Loss: 0.6283(0.5229) Grad: 35002.9883  LR: 0.00001274  \n",
      "Epoch: [4][1100/3419] Elapsed 2m 5s (remain 4m 24s) Loss: 0.4191(0.5233) Grad: 7142.8340  LR: 0.00001263  \n",
      "Epoch: [4][1200/3419] Elapsed 2m 17s (remain 4m 13s) Loss: 0.6443(0.5233) Grad: 86015.6562  LR: 0.00001252  \n",
      "Epoch: [4][1300/3419] Elapsed 2m 28s (remain 4m 1s) Loss: 0.6306(0.5235) Grad: 8256.7637  LR: 0.00001241  \n",
      "Epoch: [4][1400/3419] Elapsed 2m 39s (remain 3m 50s) Loss: 0.6610(0.5241) Grad: 21780.7266  LR: 0.00001230  \n",
      "Epoch: [4][1500/3419] Elapsed 2m 51s (remain 3m 38s) Loss: 0.5958(0.5249) Grad: 25965.0996  LR: 0.00001219  \n",
      "Epoch: [4][1600/3419] Elapsed 3m 3s (remain 3m 27s) Loss: 0.6499(0.5248) Grad: 54878.4180  LR: 0.00001207  \n",
      "Epoch: [4][1700/3419] Elapsed 3m 14s (remain 3m 16s) Loss: 0.5798(0.5249) Grad: 3392.6021  LR: 0.00001196  \n",
      "Epoch: [4][1800/3419] Elapsed 3m 25s (remain 3m 4s) Loss: 0.5257(0.5251) Grad: 27805.7129  LR: 0.00001185  \n",
      "Epoch: [4][1900/3419] Elapsed 3m 37s (remain 2m 53s) Loss: 0.5981(0.5255) Grad: 71724.0078  LR: 0.00001174  \n",
      "Epoch: [4][2000/3419] Elapsed 3m 48s (remain 2m 41s) Loss: 0.5951(0.5255) Grad: 16775.1797  LR: 0.00001162  \n",
      "Epoch: [4][2100/3419] Elapsed 3m 59s (remain 2m 30s) Loss: 0.6955(0.5251) Grad: 161457.3125  LR: 0.00001151  \n",
      "Epoch: [4][2200/3419] Elapsed 4m 11s (remain 2m 19s) Loss: 0.7464(0.5250) Grad: 95491.6797  LR: 0.00001140  \n",
      "Epoch: [4][2300/3419] Elapsed 4m 22s (remain 2m 7s) Loss: 0.6075(0.5252) Grad: 35010.7422  LR: 0.00001128  \n",
      "Epoch: [4][2400/3419] Elapsed 4m 34s (remain 1m 56s) Loss: 0.5272(0.5249) Grad: 21071.8633  LR: 0.00001117  \n",
      "Epoch: [4][2500/3419] Elapsed 4m 45s (remain 1m 44s) Loss: 0.5423(0.5247) Grad: 13241.2256  LR: 0.00001105  \n",
      "Epoch: [4][2600/3419] Elapsed 4m 56s (remain 1m 33s) Loss: 0.4832(0.5247) Grad: 59043.7891  LR: 0.00001094  \n",
      "Epoch: [4][2700/3419] Elapsed 5m 8s (remain 1m 22s) Loss: 0.6934(0.5252) Grad: 22426.9492  LR: 0.00001083  \n",
      "Epoch: [4][2800/3419] Elapsed 5m 20s (remain 1m 10s) Loss: 0.6618(0.5246) Grad: 9182.0420  LR: 0.00001071  \n",
      "Epoch: [4][2900/3419] Elapsed 5m 31s (remain 0m 59s) Loss: 0.3694(0.5239) Grad: 14128.0430  LR: 0.00001060  \n",
      "Epoch: [4][3000/3419] Elapsed 5m 42s (remain 0m 47s) Loss: 0.5529(0.5239) Grad: 9868.7559  LR: 0.00001048  \n",
      "Epoch: [4][3100/3419] Elapsed 5m 54s (remain 0m 36s) Loss: 0.4678(0.5239) Grad: 3530.2778  LR: 0.00001037  \n",
      "Epoch: [4][3200/3419] Elapsed 6m 6s (remain 0m 24s) Loss: 0.5628(0.5242) Grad: 8072.9424  LR: 0.00001025  \n",
      "Epoch: [4][3300/3419] Elapsed 6m 17s (remain 0m 13s) Loss: 0.4748(0.5244) Grad: 35305.8398  LR: 0.00001014  \n",
      "Epoch: [4][3400/3419] Elapsed 6m 28s (remain 0m 2s) Loss: 0.4878(0.5240) Grad: 3601.6865  LR: 0.00001002  \n"
     ]
    },
    {
     "name": "stderr",
     "output_type": "stream",
     "text": [
      "[W pthreadpool-cpp.cc:90] Warning: Leaking Caffe2 thread-pool after fork. (function pthreadpool)\n"
     ]
    },
    {
     "name": "stdout",
     "output_type": "stream",
     "text": [
      "Epoch: [4][3418/3419] Elapsed 6m 30s (remain 0m 0s) Loss: 0.6166(0.5241) Grad: 7493.3682  LR: 0.00001000  \n"
     ]
    },
    {
     "name": "stderr",
     "output_type": "stream",
     "text": [
      "[W pthreadpool-cpp.cc:90] Warning: Leaking Caffe2 thread-pool after fork. (function pthreadpool)\n",
      "[W pthreadpool-cpp.cc:90] Warning: Leaking Caffe2 thread-pool after fork. (function pthreadpool)\n",
      "[W pthreadpool-cpp.cc:90] Warning: Leaking Caffe2 thread-pool after fork. (function pthreadpool)\n",
      "[W pthreadpool-cpp.cc:90] Warning: Leaking Caffe2 thread-pool after fork. (function pthreadpool)\n"
     ]
    },
    {
     "name": "stdout",
     "output_type": "stream",
     "text": [
      "EVAL: [0/1140] Elapsed 0m 0s (remain 3m 12s) Loss: 0.4908(0.4908) \n",
      "EVAL: [100/1140] Elapsed 0m 2s (remain 0m 30s) Loss: 0.5926(0.5427) \n",
      "EVAL: [200/1140] Elapsed 0m 5s (remain 0m 26s) Loss: 0.5497(0.5456) \n",
      "EVAL: [300/1140] Elapsed 0m 8s (remain 0m 23s) Loss: 0.6121(0.5478) \n",
      "EVAL: [400/1140] Elapsed 0m 11s (remain 0m 20s) Loss: 0.3559(0.5503) \n",
      "EVAL: [500/1140] Elapsed 0m 13s (remain 0m 17s) Loss: 0.7269(0.5534) \n",
      "EVAL: [600/1140] Elapsed 0m 16s (remain 0m 15s) Loss: 0.5307(0.5531) \n",
      "EVAL: [700/1140] Elapsed 0m 19s (remain 0m 12s) Loss: 0.7729(0.5518) \n",
      "EVAL: [800/1140] Elapsed 0m 22s (remain 0m 9s) Loss: 0.5835(0.5530) \n",
      "EVAL: [900/1140] Elapsed 0m 25s (remain 0m 6s) Loss: 0.5395(0.5511) \n",
      "EVAL: [1000/1140] Elapsed 0m 27s (remain 0m 3s) Loss: 0.5538(0.5510) \n",
      "EVAL: [1100/1140] Elapsed 0m 30s (remain 0m 1s) Loss: 0.4128(0.5492) \n"
     ]
    },
    {
     "name": "stderr",
     "output_type": "stream",
     "text": [
      "Epoch 4 - avg_train_loss: 0.5241  avg_val_loss: 0.5500  time: 423s\n",
      "Epoch 4 - Score: 0.8187\n",
      "Epoch 4 - Save Best Score: 0.8187 Model\n"
     ]
    },
    {
     "name": "stdout",
     "output_type": "stream",
     "text": [
      "EVAL: [1139/1140] Elapsed 0m 31s (remain 0m 0s) Loss: 0.8042(0.5500) \n"
     ]
    },
    {
     "name": "stderr",
     "output_type": "stream",
     "text": [
      "[W pthreadpool-cpp.cc:90] Warning: Leaking Caffe2 thread-pool after fork. (function pthreadpool)\n",
      "[W pthreadpool-cpp.cc:90] Warning: Leaking Caffe2 thread-pool after fork. (function pthreadpool)\n",
      "[W pthreadpool-cpp.cc:90] Warning: Leaking Caffe2 thread-pool after fork. (function pthreadpool)\n",
      "[W pthreadpool-cpp.cc:90] Warning: Leaking Caffe2 thread-pool after fork. (function pthreadpool)\n"
     ]
    },
    {
     "name": "stdout",
     "output_type": "stream",
     "text": [
      "Epoch: [5][0/3419] Elapsed 0m 0s (remain 24m 27s) Loss: 0.5345(0.5345) Grad: 43457.0117  LR: 0.00001000  \n",
      "Epoch: [5][100/3419] Elapsed 0m 11s (remain 6m 25s) Loss: 0.5808(0.5107) Grad: 62646.9297  LR: 0.00000989  \n",
      "Epoch: [5][200/3419] Elapsed 0m 23s (remain 6m 9s) Loss: 0.3519(0.5091) Grad: 28797.0391  LR: 0.00000977  \n",
      "Epoch: [5][300/3419] Elapsed 0m 34s (remain 5m 56s) Loss: 0.5553(0.5148) Grad: 20210.0254  LR: 0.00000966  \n",
      "Epoch: [5][400/3419] Elapsed 0m 45s (remain 5m 44s) Loss: 0.2422(0.5114) Grad: 11123.7158  LR: 0.00000954  \n",
      "Epoch: [5][500/3419] Elapsed 0m 57s (remain 5m 33s) Loss: 0.5231(0.5137) Grad: 39726.6914  LR: 0.00000943  \n",
      "Epoch: [5][600/3419] Elapsed 1m 8s (remain 5m 21s) Loss: 0.4715(0.5156) Grad: 112794.1328  LR: 0.00000931  \n",
      "Epoch: [5][700/3419] Elapsed 1m 19s (remain 5m 9s) Loss: 0.6191(0.5149) Grad: 27964.4023  LR: 0.00000920  \n",
      "Epoch: [5][800/3419] Elapsed 1m 31s (remain 4m 58s) Loss: 0.5907(0.5143) Grad: 25683.6914  LR: 0.00000908  \n",
      "Epoch: [5][900/3419] Elapsed 1m 42s (remain 4m 46s) Loss: 0.6208(0.5142) Grad: 6535.7363  LR: 0.00000897  \n",
      "Epoch: [5][1000/3419] Elapsed 1m 53s (remain 4m 35s) Loss: 0.5595(0.5157) Grad: 82128.2812  LR: 0.00000885  \n",
      "Epoch: [5][1100/3419] Elapsed 2m 5s (remain 4m 23s) Loss: 0.5985(0.5168) Grad: 426948.5938  LR: 0.00000874  \n",
      "Epoch: [5][1200/3419] Elapsed 2m 16s (remain 4m 12s) Loss: 0.3786(0.5180) Grad: 5168.1050  LR: 0.00000863  \n",
      "Epoch: [5][1300/3419] Elapsed 2m 28s (remain 4m 1s) Loss: 0.5630(0.5156) Grad: 17913.9121  LR: 0.00000851  \n",
      "Epoch: [5][1400/3419] Elapsed 2m 39s (remain 3m 50s) Loss: 0.6076(0.5152) Grad: 16328.0371  LR: 0.00000840  \n",
      "Epoch: [5][1500/3419] Elapsed 2m 51s (remain 3m 38s) Loss: 0.5281(0.5151) Grad: 33030.8086  LR: 0.00000829  \n",
      "Epoch: [5][1600/3419] Elapsed 3m 2s (remain 3m 27s) Loss: 0.5913(0.5153) Grad: 65191.5469  LR: 0.00000817  \n",
      "Epoch: [5][1700/3419] Elapsed 3m 13s (remain 3m 15s) Loss: 0.5953(0.5156) Grad: 13155.5273  LR: 0.00000806  \n",
      "Epoch: [5][1800/3419] Elapsed 3m 25s (remain 3m 4s) Loss: 0.4946(0.5161) Grad: 13370.7578  LR: 0.00000795  \n",
      "Epoch: [5][1900/3419] Elapsed 3m 36s (remain 2m 52s) Loss: 0.4985(0.5170) Grad: 12143.5273  LR: 0.00000784  \n",
      "Epoch: [5][2000/3419] Elapsed 3m 47s (remain 2m 41s) Loss: 0.8002(0.5164) Grad: 27116.6602  LR: 0.00000772  \n",
      "Epoch: [5][2100/3419] Elapsed 3m 59s (remain 2m 30s) Loss: 0.4677(0.5163) Grad: 82658.7031  LR: 0.00000761  \n",
      "Epoch: [5][2200/3419] Elapsed 4m 10s (remain 2m 18s) Loss: 0.4979(0.5158) Grad: 5303.6807  LR: 0.00000750  \n",
      "Epoch: [5][2300/3419] Elapsed 4m 21s (remain 2m 7s) Loss: 0.4926(0.5151) Grad: 2276.9219  LR: 0.00000739  \n",
      "Epoch: [5][2400/3419] Elapsed 4m 33s (remain 1m 55s) Loss: 0.5110(0.5158) Grad: 13494.1680  LR: 0.00000728  \n",
      "Epoch: [5][2500/3419] Elapsed 4m 44s (remain 1m 44s) Loss: 0.4559(0.5156) Grad: 114195.1250  LR: 0.00000717  \n",
      "Epoch: [5][2600/3419] Elapsed 4m 56s (remain 1m 33s) Loss: 0.4698(0.5162) Grad: 11358.3574  LR: 0.00000706  \n",
      "Epoch: [5][2700/3419] Elapsed 5m 7s (remain 1m 21s) Loss: 0.5663(0.5158) Grad: 15493.7480  LR: 0.00000695  \n",
      "Epoch: [5][2800/3419] Elapsed 5m 18s (remain 1m 10s) Loss: 0.5828(0.5156) Grad: 65478.1680  LR: 0.00000684  \n",
      "Epoch: [5][2900/3419] Elapsed 5m 30s (remain 0m 58s) Loss: 0.5518(0.5155) Grad: 46344.2773  LR: 0.00000673  \n",
      "Epoch: [5][3000/3419] Elapsed 5m 41s (remain 0m 47s) Loss: 0.5638(0.5155) Grad: 109028.6328  LR: 0.00000662  \n",
      "Epoch: [5][3100/3419] Elapsed 5m 52s (remain 0m 36s) Loss: 0.4368(0.5159) Grad: 43643.0820  LR: 0.00000652  \n",
      "Epoch: [5][3200/3419] Elapsed 6m 4s (remain 0m 24s) Loss: 0.4917(0.5160) Grad: 31358.7949  LR: 0.00000641  \n",
      "Epoch: [5][3300/3419] Elapsed 6m 16s (remain 0m 13s) Loss: 0.4283(0.5165) Grad: 26035.6797  LR: 0.00000630  \n",
      "Epoch: [5][3400/3419] Elapsed 6m 27s (remain 0m 2s) Loss: 0.5521(0.5158) Grad: 140596.9219  LR: 0.00000619  \n",
      "Epoch: [5][3418/3419] Elapsed 6m 29s (remain 0m 0s) Loss: 0.5081(0.5159) Grad: 53165.8125  LR: 0.00000618  \n"
     ]
    },
    {
     "name": "stderr",
     "output_type": "stream",
     "text": [
      "[W pthreadpool-cpp.cc:90] Warning: Leaking Caffe2 thread-pool after fork. (function pthreadpool)\n",
      "[W pthreadpool-cpp.cc:90] Warning: Leaking Caffe2 thread-pool after fork. (function pthreadpool)\n",
      "[W pthreadpool-cpp.cc:90] Warning: Leaking Caffe2 thread-pool after fork. (function pthreadpool)\n",
      "[W pthreadpool-cpp.cc:90] Warning: Leaking Caffe2 thread-pool after fork. (function pthreadpool)\n"
     ]
    },
    {
     "name": "stdout",
     "output_type": "stream",
     "text": [
      "EVAL: [0/1140] Elapsed 0m 0s (remain 3m 9s) Loss: 0.5272(0.5272) \n",
      "EVAL: [100/1140] Elapsed 0m 2s (remain 0m 30s) Loss: 0.5450(0.5397) \n",
      "EVAL: [200/1140] Elapsed 0m 5s (remain 0m 26s) Loss: 0.5328(0.5461) \n",
      "EVAL: [300/1140] Elapsed 0m 8s (remain 0m 23s) Loss: 0.6081(0.5475) \n",
      "EVAL: [400/1140] Elapsed 0m 11s (remain 0m 20s) Loss: 0.3630(0.5503) \n",
      "EVAL: [500/1140] Elapsed 0m 13s (remain 0m 17s) Loss: 0.7835(0.5530) \n",
      "EVAL: [600/1140] Elapsed 0m 16s (remain 0m 14s) Loss: 0.5336(0.5527) \n",
      "EVAL: [700/1140] Elapsed 0m 19s (remain 0m 12s) Loss: 0.7768(0.5526) \n",
      "EVAL: [800/1140] Elapsed 0m 22s (remain 0m 9s) Loss: 0.5997(0.5539) \n",
      "EVAL: [900/1140] Elapsed 0m 25s (remain 0m 6s) Loss: 0.5205(0.5521) \n",
      "EVAL: [1000/1140] Elapsed 0m 27s (remain 0m 3s) Loss: 0.5533(0.5523) \n",
      "EVAL: [1100/1140] Elapsed 0m 30s (remain 0m 1s) Loss: 0.4376(0.5503) \n"
     ]
    },
    {
     "name": "stderr",
     "output_type": "stream",
     "text": [
      "Epoch 5 - avg_train_loss: 0.5159  avg_val_loss: 0.5512  time: 422s\n",
      "Epoch 5 - Score: 0.8267\n",
      "Epoch 5 - Save Best Score: 0.8267 Model\n"
     ]
    },
    {
     "name": "stdout",
     "output_type": "stream",
     "text": [
      "EVAL: [1139/1140] Elapsed 0m 31s (remain 0m 0s) Loss: 0.7829(0.5512) \n"
     ]
    },
    {
     "name": "stderr",
     "output_type": "stream",
     "text": [
      "[W pthreadpool-cpp.cc:90] Warning: Leaking Caffe2 thread-pool after fork. (function pthreadpool)\n",
      "[W pthreadpool-cpp.cc:90] Warning: Leaking Caffe2 thread-pool after fork. (function pthreadpool)\n",
      "[W pthreadpool-cpp.cc:90] Warning: Leaking Caffe2 thread-pool after fork. (function pthreadpool)\n",
      "[W pthreadpool-cpp.cc:90] Warning: Leaking Caffe2 thread-pool after fork. (function pthreadpool)\n"
     ]
    },
    {
     "name": "stdout",
     "output_type": "stream",
     "text": [
      "Epoch: [6][0/3419] Elapsed 0m 0s (remain 25m 36s) Loss: 0.5097(0.5097) Grad: 56794.7773  LR: 0.00000617  \n",
      "Epoch: [6][100/3419] Elapsed 0m 11s (remain 6m 27s) Loss: 0.6395(0.5091) Grad: 76968.7031  LR: 0.00000607  \n",
      "Epoch: [6][200/3419] Elapsed 0m 23s (remain 6m 10s) Loss: 0.6591(0.5156) Grad: 26918.2832  LR: 0.00000596  \n",
      "Epoch: [6][300/3419] Elapsed 0m 34s (remain 5m 57s) Loss: 0.4473(0.5112) Grad: 179867.9844  LR: 0.00000586  \n",
      "Epoch: [6][400/3419] Elapsed 0m 45s (remain 5m 44s) Loss: 0.3788(0.5119) Grad: 4622.6670  LR: 0.00000575  \n",
      "Epoch: [6][500/3419] Elapsed 0m 57s (remain 5m 33s) Loss: 0.4598(0.5118) Grad: 43591.1016  LR: 0.00000565  \n",
      "Epoch: [6][600/3419] Elapsed 1m 8s (remain 5m 21s) Loss: 0.4550(0.5105) Grad: 22319.0605  LR: 0.00000555  \n",
      "Epoch: [6][700/3419] Elapsed 1m 19s (remain 5m 10s) Loss: 0.4445(0.5111) Grad: 17352.6797  LR: 0.00000544  \n",
      "Epoch: [6][800/3419] Elapsed 1m 31s (remain 4m 58s) Loss: 0.4246(0.5109) Grad: 129898.5625  LR: 0.00000534  \n",
      "Epoch: [6][900/3419] Elapsed 1m 42s (remain 4m 47s) Loss: 0.4085(0.5116) Grad: 5247.8271  LR: 0.00000524  \n",
      "Epoch: [6][1000/3419] Elapsed 1m 54s (remain 4m 35s) Loss: 0.5231(0.5129) Grad: 6512.2891  LR: 0.00000514  \n",
      "Epoch: [6][1100/3419] Elapsed 2m 5s (remain 4m 24s) Loss: 0.4414(0.5109) Grad: 22610.6660  LR: 0.00000504  \n",
      "Epoch: [6][1200/3419] Elapsed 2m 17s (remain 4m 13s) Loss: 0.4175(0.5118) Grad: 240091.4375  LR: 0.00000494  \n",
      "Epoch: [6][1300/3419] Elapsed 2m 29s (remain 4m 3s) Loss: 0.8670(0.5120) Grad: 310891.5312  LR: 0.00000484  \n",
      "Epoch: [6][1400/3419] Elapsed 2m 40s (remain 3m 51s) Loss: 0.5670(0.5132) Grad: 10525.7979  LR: 0.00000474  \n",
      "Epoch: [6][1500/3419] Elapsed 2m 52s (remain 3m 39s) Loss: 0.4236(0.5133) Grad: 6124.0981  LR: 0.00000465  \n",
      "Epoch: [6][1600/3419] Elapsed 3m 3s (remain 3m 28s) Loss: 0.4401(0.5131) Grad: 14178.2744  LR: 0.00000455  \n",
      "Epoch: [6][1700/3419] Elapsed 3m 14s (remain 3m 16s) Loss: 0.5441(0.5128) Grad: 3670.6047  LR: 0.00000445  \n",
      "Epoch: [6][1800/3419] Elapsed 3m 26s (remain 3m 5s) Loss: 0.6122(0.5138) Grad: 7818.1963  LR: 0.00000436  \n",
      "Epoch: [6][1900/3419] Elapsed 3m 37s (remain 2m 53s) Loss: 0.6890(0.5136) Grad: 15170.5195  LR: 0.00000426  \n",
      "Epoch: [6][2000/3419] Elapsed 3m 48s (remain 2m 42s) Loss: 0.5089(0.5136) Grad: 5828.0547  LR: 0.00000417  \n",
      "Epoch: [6][2100/3419] Elapsed 4m 0s (remain 2m 30s) Loss: 0.4643(0.5139) Grad: 121342.6875  LR: 0.00000408  \n",
      "Epoch: [6][2200/3419] Elapsed 4m 11s (remain 2m 19s) Loss: 0.6308(0.5136) Grad: 33309.4336  LR: 0.00000399  \n",
      "Epoch: [6][2300/3419] Elapsed 4m 22s (remain 2m 7s) Loss: 0.4419(0.5134) Grad: 71621.0938  LR: 0.00000389  \n",
      "Epoch: [6][2400/3419] Elapsed 4m 34s (remain 1m 56s) Loss: 0.4266(0.5129) Grad: 54568.1016  LR: 0.00000380  \n",
      "Epoch: [6][2500/3419] Elapsed 4m 45s (remain 1m 44s) Loss: 0.6119(0.5122) Grad: 34996.8633  LR: 0.00000371  \n",
      "Epoch: [6][2600/3419] Elapsed 4m 57s (remain 1m 33s) Loss: 0.4196(0.5123) Grad: 33313.1562  LR: 0.00000363  \n",
      "Epoch: [6][2700/3419] Elapsed 5m 8s (remain 1m 22s) Loss: 0.5284(0.5122) Grad: 3626.3604  LR: 0.00000354  \n",
      "Epoch: [6][2800/3419] Elapsed 5m 20s (remain 1m 10s) Loss: 0.4259(0.5125) Grad: 22139.6699  LR: 0.00000345  \n",
      "Epoch: [6][2900/3419] Elapsed 5m 31s (remain 0m 59s) Loss: 0.3602(0.5124) Grad: 7099.3584  LR: 0.00000336  \n",
      "Epoch: [6][3000/3419] Elapsed 5m 42s (remain 0m 47s) Loss: 0.4949(0.5123) Grad: 30076.9043  LR: 0.00000328  \n",
      "Epoch: [6][3100/3419] Elapsed 5m 54s (remain 0m 36s) Loss: 0.5514(0.5114) Grad: 6673.8164  LR: 0.00000319  \n",
      "Epoch: [6][3200/3419] Elapsed 6m 5s (remain 0m 24s) Loss: 0.5327(0.5112) Grad: 20596.7285  LR: 0.00000311  \n",
      "Epoch: [6][3300/3419] Elapsed 6m 16s (remain 0m 13s) Loss: 0.3265(0.5104) Grad: 14364.2705  LR: 0.00000303  \n",
      "Epoch: [6][3400/3419] Elapsed 6m 28s (remain 0m 2s) Loss: 0.2517(0.5105) Grad: 4597.0479  LR: 0.00000295  \n",
      "Epoch: [6][3418/3419] Elapsed 6m 30s (remain 0m 0s) Loss: 0.4381(0.5107) Grad: 101229.4922  LR: 0.00000293  \n"
     ]
    },
    {
     "name": "stderr",
     "output_type": "stream",
     "text": [
      "[W pthreadpool-cpp.cc:90] Warning: Leaking Caffe2 thread-pool after fork. (function pthreadpool)\n",
      "[W pthreadpool-cpp.cc:90] Warning: Leaking Caffe2 thread-pool after fork. (function pthreadpool)\n",
      "[W pthreadpool-cpp.cc:90] Warning: Leaking Caffe2 thread-pool after fork. (function pthreadpool)\n",
      "[W pthreadpool-cpp.cc:90] Warning: Leaking Caffe2 thread-pool after fork. (function pthreadpool)\n"
     ]
    },
    {
     "name": "stdout",
     "output_type": "stream",
     "text": [
      "EVAL: [0/1140] Elapsed 0m 0s (remain 3m 14s) Loss: 0.5163(0.5163) \n",
      "EVAL: [100/1140] Elapsed 0m 2s (remain 0m 30s) Loss: 0.5852(0.5450) \n",
      "EVAL: [200/1140] Elapsed 0m 5s (remain 0m 26s) Loss: 0.5321(0.5505) \n",
      "EVAL: [300/1140] Elapsed 0m 8s (remain 0m 23s) Loss: 0.6174(0.5519) \n",
      "EVAL: [400/1140] Elapsed 0m 11s (remain 0m 20s) Loss: 0.3622(0.5539) \n",
      "EVAL: [500/1140] Elapsed 0m 13s (remain 0m 17s) Loss: 0.7564(0.5561) \n",
      "EVAL: [600/1140] Elapsed 0m 16s (remain 0m 15s) Loss: 0.5276(0.5552) \n",
      "EVAL: [700/1140] Elapsed 0m 19s (remain 0m 12s) Loss: 0.7924(0.5547) \n",
      "EVAL: [800/1140] Elapsed 0m 22s (remain 0m 9s) Loss: 0.5842(0.5564) \n",
      "EVAL: [900/1140] Elapsed 0m 25s (remain 0m 6s) Loss: 0.5068(0.5543) \n",
      "EVAL: [1000/1140] Elapsed 0m 27s (remain 0m 3s) Loss: 0.5621(0.5543) \n",
      "EVAL: [1100/1140] Elapsed 0m 30s (remain 0m 1s) Loss: 0.4415(0.5522) \n"
     ]
    },
    {
     "name": "stderr",
     "output_type": "stream",
     "text": [
      "Epoch 6 - avg_train_loss: 0.5107  avg_val_loss: 0.5532  time: 422s\n",
      "Epoch 6 - Score: 0.8284\n",
      "Epoch 6 - Save Best Score: 0.8284 Model\n"
     ]
    },
    {
     "name": "stdout",
     "output_type": "stream",
     "text": [
      "EVAL: [1139/1140] Elapsed 0m 31s (remain 0m 0s) Loss: 0.8354(0.5532) \n"
     ]
    },
    {
     "name": "stderr",
     "output_type": "stream",
     "text": [
      "[W pthreadpool-cpp.cc:90] Warning: Leaking Caffe2 thread-pool after fork. (function pthreadpool)\n",
      "[W pthreadpool-cpp.cc:90] Warning: Leaking Caffe2 thread-pool after fork. (function pthreadpool)\n",
      "[W pthreadpool-cpp.cc:90] Warning: Leaking Caffe2 thread-pool after fork. (function pthreadpool)\n",
      "[W pthreadpool-cpp.cc:90] Warning: Leaking Caffe2 thread-pool after fork. (function pthreadpool)\n"
     ]
    },
    {
     "name": "stdout",
     "output_type": "stream",
     "text": [
      "Epoch: [7][0/3419] Elapsed 0m 0s (remain 24m 6s) Loss: 0.5294(0.5294) Grad: 145352.9375  LR: 0.00000293  \n",
      "Epoch: [7][100/3419] Elapsed 0m 11s (remain 6m 23s) Loss: 0.6389(0.5037) Grad: 46104.2031  LR: 0.00000285  \n",
      "Epoch: [7][200/3419] Elapsed 0m 23s (remain 6m 8s) Loss: 0.6331(0.5093) Grad: 28304.9062  LR: 0.00000277  \n",
      "Epoch: [7][300/3419] Elapsed 0m 34s (remain 5m 56s) Loss: 0.6353(0.5105) Grad: 35591.6797  LR: 0.00000269  \n",
      "Epoch: [7][400/3419] Elapsed 0m 45s (remain 5m 44s) Loss: 0.4941(0.5089) Grad: 15190.3037  LR: 0.00000261  \n",
      "Epoch: [7][500/3419] Elapsed 0m 57s (remain 5m 32s) Loss: 0.4898(0.5045) Grad: 20065.3984  LR: 0.00000254  \n",
      "Epoch: [7][600/3419] Elapsed 1m 8s (remain 5m 20s) Loss: 0.4598(0.5037) Grad: 5709.5962  LR: 0.00000246  \n",
      "Epoch: [7][700/3419] Elapsed 1m 19s (remain 5m 9s) Loss: 0.3306(0.5026) Grad: 12045.5439  LR: 0.00000238  \n",
      "Epoch: [7][800/3419] Elapsed 1m 31s (remain 4m 57s) Loss: 0.6251(0.5038) Grad: 34119.5742  LR: 0.00000231  \n",
      "Epoch: [7][900/3419] Elapsed 1m 42s (remain 4m 46s) Loss: 0.6589(0.5031) Grad: 11608.1816  LR: 0.00000224  \n",
      "Epoch: [7][1000/3419] Elapsed 1m 55s (remain 4m 38s) Loss: 0.4388(0.5033) Grad: 20603.7695  LR: 0.00000217  \n",
      "Epoch: [7][1100/3419] Elapsed 2m 6s (remain 4m 26s) Loss: 0.3268(0.5031) Grad: 9812.2959  LR: 0.00000210  \n",
      "Epoch: [7][1200/3419] Elapsed 2m 18s (remain 4m 15s) Loss: 0.5731(0.5046) Grad: 9396.1533  LR: 0.00000203  \n",
      "Epoch: [7][1300/3419] Elapsed 2m 29s (remain 4m 3s) Loss: 0.4782(0.5057) Grad: 4678.7974  LR: 0.00000196  \n",
      "Epoch: [7][1400/3419] Elapsed 2m 40s (remain 3m 51s) Loss: 0.4789(0.5056) Grad: 10428.3574  LR: 0.00000189  \n",
      "Epoch: [7][1500/3419] Elapsed 2m 52s (remain 3m 40s) Loss: 0.5588(0.5051) Grad: 2193.4802  LR: 0.00000182  \n",
      "Epoch: [7][1600/3419] Elapsed 3m 3s (remain 3m 28s) Loss: 0.5075(0.5048) Grad: 30725.9863  LR: 0.00000176  \n",
      "Epoch: [7][1700/3419] Elapsed 3m 15s (remain 3m 17s) Loss: 0.3804(0.5046) Grad: 9268.5566  LR: 0.00000169  \n",
      "Epoch: [7][1800/3419] Elapsed 3m 26s (remain 3m 5s) Loss: 0.5724(0.5046) Grad: 10733.2803  LR: 0.00000163  \n",
      "Epoch: [7][1900/3419] Elapsed 3m 37s (remain 2m 53s) Loss: 0.2837(0.5050) Grad: 61446.8086  LR: 0.00000157  \n",
      "Epoch: [7][2000/3419] Elapsed 3m 48s (remain 2m 42s) Loss: 0.4503(0.5054) Grad: 6705.4043  LR: 0.00000151  \n",
      "Epoch: [7][2100/3419] Elapsed 3m 59s (remain 2m 30s) Loss: 0.4129(0.5053) Grad: 5423.0488  LR: 0.00000145  \n",
      "Epoch: [7][2200/3419] Elapsed 4m 11s (remain 2m 18s) Loss: 0.5507(0.5059) Grad: 5437.3945  LR: 0.00000139  \n",
      "Epoch: [7][2300/3419] Elapsed 4m 22s (remain 2m 7s) Loss: 0.5162(0.5051) Grad: 10330.9102  LR: 0.00000133  \n",
      "Epoch: [7][2400/3419] Elapsed 4m 33s (remain 1m 55s) Loss: 0.4080(0.5052) Grad: 4920.8345  LR: 0.00000127  \n",
      "Epoch: [7][2500/3419] Elapsed 4m 44s (remain 1m 44s) Loss: 0.6087(0.5051) Grad: 18182.3359  LR: 0.00000122  \n",
      "Epoch: [7][2600/3419] Elapsed 4m 56s (remain 1m 33s) Loss: 0.5874(0.5055) Grad: 2603.4102  LR: 0.00000116  \n",
      "Epoch: [7][2700/3419] Elapsed 5m 7s (remain 1m 21s) Loss: 0.4915(0.5058) Grad: 1596.4818  LR: 0.00000111  \n",
      "Epoch: [7][2800/3419] Elapsed 5m 19s (remain 1m 10s) Loss: 0.5304(0.5058) Grad: 7799.6802  LR: 0.00000106  \n",
      "Epoch: [7][2900/3419] Elapsed 5m 30s (remain 0m 59s) Loss: 0.5111(0.5060) Grad: 4999.3979  LR: 0.00000101  \n",
      "Epoch: [7][3000/3419] Elapsed 5m 41s (remain 0m 47s) Loss: 0.5798(0.5057) Grad: 4402.0898  LR: 0.00000096  \n",
      "Epoch: [7][3100/3419] Elapsed 5m 53s (remain 0m 36s) Loss: 0.7683(0.5060) Grad: 13997.2539  LR: 0.00000091  \n",
      "Epoch: [7][3200/3419] Elapsed 6m 4s (remain 0m 24s) Loss: 0.5116(0.5060) Grad: 11906.0879  LR: 0.00000086  \n",
      "Epoch: [7][3300/3419] Elapsed 6m 15s (remain 0m 13s) Loss: 0.5637(0.5061) Grad: 16509.5059  LR: 0.00000082  \n",
      "Epoch: [7][3400/3419] Elapsed 6m 27s (remain 0m 2s) Loss: 0.3906(0.5061) Grad: 713.2375  LR: 0.00000077  \n",
      "Epoch: [7][3418/3419] Elapsed 6m 29s (remain 0m 0s) Loss: 0.5155(0.5063) Grad: 3270.2822  LR: 0.00000076  \n"
     ]
    },
    {
     "name": "stderr",
     "output_type": "stream",
     "text": [
      "[W pthreadpool-cpp.cc:90] Warning: Leaking Caffe2 thread-pool after fork. (function pthreadpool)\n",
      "[W pthreadpool-cpp.cc:90] Warning: Leaking Caffe2 thread-pool after fork. (function pthreadpool)\n",
      "[W pthreadpool-cpp.cc:90] Warning: Leaking Caffe2 thread-pool after fork. (function pthreadpool)\n",
      "[W pthreadpool-cpp.cc:90] Warning: Leaking Caffe2 thread-pool after fork. (function pthreadpool)\n"
     ]
    },
    {
     "name": "stdout",
     "output_type": "stream",
     "text": [
      "EVAL: [0/1140] Elapsed 0m 0s (remain 3m 16s) Loss: 0.4908(0.4908) \n",
      "EVAL: [100/1140] Elapsed 0m 2s (remain 0m 30s) Loss: 0.5445(0.5356) \n",
      "EVAL: [200/1140] Elapsed 0m 6s (remain 0m 28s) Loss: 0.5344(0.5420) \n",
      "EVAL: [300/1140] Elapsed 0m 8s (remain 0m 24s) Loss: 0.6157(0.5453) \n",
      "EVAL: [400/1140] Elapsed 0m 11s (remain 0m 21s) Loss: 0.3632(0.5485) \n",
      "EVAL: [500/1140] Elapsed 0m 14s (remain 0m 18s) Loss: 0.7672(0.5506) \n",
      "EVAL: [600/1140] Elapsed 0m 17s (remain 0m 15s) Loss: 0.5284(0.5498) \n",
      "EVAL: [700/1140] Elapsed 0m 19s (remain 0m 12s) Loss: 0.7858(0.5501) \n",
      "EVAL: [800/1140] Elapsed 0m 22s (remain 0m 9s) Loss: 0.5876(0.5517) \n",
      "EVAL: [900/1140] Elapsed 0m 25s (remain 0m 6s) Loss: 0.4962(0.5500) \n",
      "EVAL: [1000/1140] Elapsed 0m 28s (remain 0m 3s) Loss: 0.5888(0.5501) \n",
      "EVAL: [1100/1140] Elapsed 0m 30s (remain 0m 1s) Loss: 0.4771(0.5480) \n"
     ]
    },
    {
     "name": "stderr",
     "output_type": "stream",
     "text": [
      "Epoch 7 - avg_train_loss: 0.5063  avg_val_loss: 0.5489  time: 422s\n",
      "Epoch 7 - Score: 0.8311\n",
      "Epoch 7 - Save Best Score: 0.8311 Model\n"
     ]
    },
    {
     "name": "stdout",
     "output_type": "stream",
     "text": [
      "EVAL: [1139/1140] Elapsed 0m 32s (remain 0m 0s) Loss: 0.8195(0.5489) \n"
     ]
    },
    {
     "name": "stderr",
     "output_type": "stream",
     "text": [
      "[W pthreadpool-cpp.cc:90] Warning: Leaking Caffe2 thread-pool after fork. (function pthreadpool)\n",
      "[W pthreadpool-cpp.cc:90] Warning: Leaking Caffe2 thread-pool after fork. (function pthreadpool)\n",
      "[W pthreadpool-cpp.cc:90] Warning: Leaking Caffe2 thread-pool after fork. (function pthreadpool)\n",
      "[W pthreadpool-cpp.cc:90] Warning: Leaking Caffe2 thread-pool after fork. (function pthreadpool)\n"
     ]
    },
    {
     "name": "stdout",
     "output_type": "stream",
     "text": [
      "Epoch: [8][0/3419] Elapsed 0m 0s (remain 30m 46s) Loss: 0.4760(0.4760) Grad: 35467.4883  LR: 0.00000076  \n",
      "Epoch: [8][100/3419] Elapsed 0m 11s (remain 6m 30s) Loss: 0.4023(0.5076) Grad: 66694.4922  LR: 0.00000072  \n",
      "Epoch: [8][200/3419] Elapsed 0m 23s (remain 6m 11s) Loss: 0.5664(0.5082) Grad: 299595.8750  LR: 0.00000068  \n",
      "Epoch: [8][300/3419] Elapsed 0m 34s (remain 5m 58s) Loss: 0.6412(0.5121) Grad: inf  LR: 0.00000064  \n",
      "Epoch: [8][400/3419] Elapsed 0m 45s (remain 5m 45s) Loss: 0.4875(0.5127) Grad: 162653.8281  LR: 0.00000060  \n",
      "Epoch: [8][500/3419] Elapsed 0m 57s (remain 5m 35s) Loss: 0.2872(0.5099) Grad: 60254.2656  LR: 0.00000056  \n",
      "Epoch: [8][600/3419] Elapsed 1m 8s (remain 5m 23s) Loss: 0.4843(0.5061) Grad: 214062.5625  LR: 0.00000052  \n",
      "Epoch: [8][700/3419] Elapsed 1m 20s (remain 5m 11s) Loss: 0.4441(0.5032) Grad: 28482.5371  LR: 0.00000048  \n",
      "Epoch: [8][800/3419] Elapsed 1m 31s (remain 4m 59s) Loss: 0.6529(0.5044) Grad: 13545.3311  LR: 0.00000045  \n",
      "Epoch: [8][900/3419] Elapsed 1m 43s (remain 4m 47s) Loss: 0.6144(0.5030) Grad: 6245.3037  LR: 0.00000042  \n",
      "Epoch: [8][1000/3419] Elapsed 1m 54s (remain 4m 36s) Loss: 0.5643(0.5057) Grad: 28374.7715  LR: 0.00000038  \n",
      "Epoch: [8][1100/3419] Elapsed 2m 5s (remain 4m 24s) Loss: 0.6228(0.5057) Grad: 31088.4980  LR: 0.00000035  \n",
      "Epoch: [8][1200/3419] Elapsed 2m 17s (remain 4m 13s) Loss: 0.4227(0.5058) Grad: 1996.2100  LR: 0.00000032  \n",
      "Epoch: [8][1300/3419] Elapsed 2m 28s (remain 4m 1s) Loss: 0.5041(0.5044) Grad: 20983.9336  LR: 0.00000030  \n",
      "Epoch: [8][1400/3419] Elapsed 2m 39s (remain 3m 50s) Loss: 0.5410(0.5037) Grad: 13326.1504  LR: 0.00000027  \n",
      "Epoch: [8][1500/3419] Elapsed 2m 51s (remain 3m 38s) Loss: 0.5488(0.5033) Grad: 13877.8828  LR: 0.00000024  \n",
      "Epoch: [8][1600/3419] Elapsed 3m 2s (remain 3m 27s) Loss: 0.5018(0.5043) Grad: 14644.6357  LR: 0.00000022  \n",
      "Epoch: [8][1700/3419] Elapsed 3m 13s (remain 3m 15s) Loss: 0.3214(0.5046) Grad: 5608.5117  LR: 0.00000019  \n",
      "Epoch: [8][1800/3419] Elapsed 3m 25s (remain 3m 4s) Loss: 0.4614(0.5042) Grad: 9042.6973  LR: 0.00000017  \n",
      "Epoch: [8][1900/3419] Elapsed 3m 36s (remain 2m 53s) Loss: 0.5946(0.5038) Grad: 12033.7725  LR: 0.00000015  \n",
      "Epoch: [8][2000/3419] Elapsed 3m 48s (remain 2m 41s) Loss: 0.6397(0.5031) Grad: 9674.7148  LR: 0.00000013  \n",
      "Epoch: [8][2100/3419] Elapsed 3m 59s (remain 2m 30s) Loss: 0.5931(0.5024) Grad: 19120.7930  LR: 0.00000011  \n",
      "Epoch: [8][2200/3419] Elapsed 4m 10s (remain 2m 18s) Loss: 0.6141(0.5030) Grad: 109352.7109  LR: 0.00000010  \n",
      "Epoch: [8][2300/3419] Elapsed 4m 22s (remain 2m 7s) Loss: 0.5036(0.5031) Grad: 36927.2305  LR: 0.00000008  \n",
      "Epoch: [8][2400/3419] Elapsed 4m 33s (remain 1m 55s) Loss: 0.5612(0.5027) Grad: 90836.2109  LR: 0.00000007  \n",
      "Epoch: [8][2500/3419] Elapsed 4m 44s (remain 1m 44s) Loss: 0.4989(0.5030) Grad: 61180.0703  LR: 0.00000006  \n",
      "Epoch: [8][2600/3419] Elapsed 4m 56s (remain 1m 33s) Loss: 0.4770(0.5030) Grad: 21097.6504  LR: 0.00000004  \n",
      "Epoch: [8][2700/3419] Elapsed 5m 7s (remain 1m 21s) Loss: 0.4346(0.5033) Grad: 39973.4375  LR: 0.00000003  \n",
      "Epoch: [8][2800/3419] Elapsed 5m 19s (remain 1m 10s) Loss: 0.4790(0.5038) Grad: 16869.9824  LR: 0.00000003  \n",
      "Epoch: [8][2900/3419] Elapsed 5m 30s (remain 0m 59s) Loss: 0.7581(0.5043) Grad: 79545.8828  LR: 0.00000002  \n",
      "Epoch: [8][3000/3419] Elapsed 5m 42s (remain 0m 47s) Loss: 0.3630(0.5046) Grad: 11248.4277  LR: 0.00000001  \n",
      "Epoch: [8][3100/3419] Elapsed 5m 53s (remain 0m 36s) Loss: 0.3827(0.5045) Grad: 10659.0283  LR: 0.00000001  \n",
      "Epoch: [8][3200/3419] Elapsed 6m 4s (remain 0m 24s) Loss: 0.4262(0.5043) Grad: 8154.3364  LR: 0.00000000  \n",
      "Epoch: [8][3300/3419] Elapsed 6m 16s (remain 0m 13s) Loss: 0.1891(0.5036) Grad: 20937.7539  LR: 0.00000000  \n",
      "Epoch: [8][3400/3419] Elapsed 6m 28s (remain 0m 2s) Loss: 0.6332(0.5035) Grad: 8917.2402  LR: 0.00000000  \n",
      "Epoch: [8][3418/3419] Elapsed 6m 30s (remain 0m 0s) Loss: 0.4702(0.5034) Grad: 160979.1875  LR: 0.00000000  \n"
     ]
    },
    {
     "name": "stderr",
     "output_type": "stream",
     "text": [
      "[W pthreadpool-cpp.cc:90] Warning: Leaking Caffe2 thread-pool after fork. (function pthreadpool)\n",
      "[W pthreadpool-cpp.cc:90] Warning: Leaking Caffe2 thread-pool after fork. (function pthreadpool)\n",
      "[W pthreadpool-cpp.cc:90] Warning: Leaking Caffe2 thread-pool after fork. (function pthreadpool)\n",
      "[W pthreadpool-cpp.cc:90] Warning: Leaking Caffe2 thread-pool after fork. (function pthreadpool)\n"
     ]
    },
    {
     "name": "stdout",
     "output_type": "stream",
     "text": [
      "EVAL: [0/1140] Elapsed 0m 0s (remain 3m 9s) Loss: 0.4877(0.4877) \n",
      "EVAL: [100/1140] Elapsed 0m 2s (remain 0m 30s) Loss: 0.5795(0.5389) \n",
      "EVAL: [200/1140] Elapsed 0m 5s (remain 0m 26s) Loss: 0.5358(0.5447) \n",
      "EVAL: [300/1140] Elapsed 0m 8s (remain 0m 23s) Loss: 0.6187(0.5478) \n",
      "EVAL: [400/1140] Elapsed 0m 11s (remain 0m 20s) Loss: 0.3648(0.5508) \n",
      "EVAL: [500/1140] Elapsed 0m 13s (remain 0m 17s) Loss: 0.7740(0.5525) \n",
      "EVAL: [600/1140] Elapsed 0m 16s (remain 0m 15s) Loss: 0.5285(0.5518) \n",
      "EVAL: [700/1140] Elapsed 0m 19s (remain 0m 12s) Loss: 0.7896(0.5521) \n",
      "EVAL: [800/1140] Elapsed 0m 22s (remain 0m 9s) Loss: 0.5902(0.5540) \n",
      "EVAL: [900/1140] Elapsed 0m 25s (remain 0m 6s) Loss: 0.4986(0.5522) \n",
      "EVAL: [1000/1140] Elapsed 0m 27s (remain 0m 3s) Loss: 0.5900(0.5523) \n",
      "EVAL: [1100/1140] Elapsed 0m 30s (remain 0m 1s) Loss: 0.4742(0.5503) \n"
     ]
    },
    {
     "name": "stderr",
     "output_type": "stream",
     "text": [
      "Epoch 8 - avg_train_loss: 0.5034  avg_val_loss: 0.5512  time: 422s\n",
      "Epoch 8 - Score: 0.8299\n"
     ]
    },
    {
     "name": "stdout",
     "output_type": "stream",
     "text": [
      "EVAL: [1139/1140] Elapsed 0m 31s (remain 0m 0s) Loss: 0.8373(0.5512) \n"
     ]
    },
    {
     "name": "stderr",
     "output_type": "stream",
     "text": [
      "========== fold: 1 result ==========\n",
      "Score: 0.8311\n",
      "========== fold: 2 training ==========\n"
     ]
    },
    {
     "name": "stdout",
     "output_type": "stream",
     "text": [
      "\u001b[38;5;40m========== fold: 2 training ==========\u001b[0m\n"
     ]
    },
    {
     "name": "stderr",
     "output_type": "stream",
     "text": [
      "Some weights of the model checkpoint at microsoft/mpnet-base were not used when initializing MPNetModel: ['lm_head.decoder.weight', 'lm_head.layer_norm.bias', 'lm_head.layer_norm.weight', 'lm_head.dense.bias', 'lm_head.dense.weight', 'lm_head.bias', 'lm_head.decoder.bias']\n",
      "- This IS expected if you are initializing MPNetModel from the checkpoint of a model trained on another task or with another architecture (e.g. initializing a BertForSequenceClassification model from a BertForPreTraining model).\n",
      "- This IS NOT expected if you are initializing MPNetModel from the checkpoint of a model that you expect to be exactly identical (initializing a BertForSequenceClassification model from a BertForSequenceClassification model).\n",
      "Some weights of MPNetModel were not initialized from the model checkpoint at microsoft/mpnet-base and are newly initialized: ['mpnet.pooler.dense.bias', 'mpnet.pooler.dense.weight']\n",
      "You should probably TRAIN this model on a down-stream task to be able to use it for predictions and inference.\n",
      "[W pthreadpool-cpp.cc:90] Warning: Leaking Caffe2 thread-pool after fork. (function pthreadpool)\n",
      "[W pthreadpool-cpp.cc:90] Warning: Leaking Caffe2 thread-pool after fork. (function pthreadpool)\n",
      "[W pthreadpool-cpp.cc:90] Warning: Leaking Caffe2 thread-pool after fork. (function pthreadpool)\n",
      "[W pthreadpool-cpp.cc:90] Warning: Leaking Caffe2 thread-pool after fork. (function pthreadpool)\n"
     ]
    },
    {
     "name": "stdout",
     "output_type": "stream",
     "text": [
      "Epoch: [1][0/3419] Elapsed 0m 23s (remain 1329m 20s) Loss: 0.6743(0.6743) Grad: 66293.5547  LR: 0.00002000  \n",
      "Epoch: [1][100/3419] Elapsed 0m 34s (remain 18m 58s) Loss: 0.7110(0.6597) Grad: 16625.8691  LR: 0.00002000  \n",
      "Epoch: [1][200/3419] Elapsed 0m 45s (remain 12m 15s) Loss: 0.7143(0.6469) Grad: 17576.7363  LR: 0.00002000  \n",
      "Epoch: [1][300/3419] Elapsed 0m 57s (remain 9m 53s) Loss: 0.6652(0.6419) Grad: 27088.4766  LR: 0.00001999  \n",
      "Epoch: [1][400/3419] Elapsed 1m 8s (remain 8m 36s) Loss: 0.5043(0.6345) Grad: 52201.4805  LR: 0.00001999  \n",
      "Epoch: [1][500/3419] Elapsed 1m 19s (remain 7m 45s) Loss: 0.6693(0.6303) Grad: 20607.4570  LR: 0.00001998  \n",
      "Epoch: [1][600/3419] Elapsed 1m 31s (remain 7m 8s) Loss: 0.5680(0.6268) Grad: 52190.4688  LR: 0.00001998  \n",
      "Epoch: [1][700/3419] Elapsed 1m 42s (remain 6m 38s) Loss: 0.5339(0.6230) Grad: 11523.4648  LR: 0.00001997  \n",
      "Epoch: [1][800/3419] Elapsed 1m 54s (remain 6m 12s) Loss: 0.5441(0.6191) Grad: 20810.1074  LR: 0.00001996  \n",
      "Epoch: [1][900/3419] Elapsed 2m 5s (remain 5m 50s) Loss: 0.5629(0.6173) Grad: 15198.8076  LR: 0.00001995  \n",
      "Epoch: [1][1000/3419] Elapsed 2m 21s (remain 5m 40s) Loss: 0.6398(0.6153) Grad: 45369.0273  LR: 0.00001993  \n",
      "Epoch: [1][1100/3419] Elapsed 2m 32s (remain 5m 20s) Loss: 0.5480(0.6119) Grad: 34404.6562  LR: 0.00001992  \n",
      "Epoch: [1][1200/3419] Elapsed 2m 44s (remain 5m 3s) Loss: 0.6390(0.6109) Grad: 55927.1172  LR: 0.00001991  \n",
      "Epoch: [1][1300/3419] Elapsed 2m 55s (remain 4m 45s) Loss: 0.4904(0.6089) Grad: 32380.3398  LR: 0.00001989  \n",
      "Epoch: [1][1400/3419] Elapsed 3m 6s (remain 4m 29s) Loss: 0.5493(0.6070) Grad: 24857.2676  LR: 0.00001987  \n",
      "Epoch: [1][1500/3419] Elapsed 3m 18s (remain 4m 13s) Loss: 0.6322(0.6060) Grad: 32220.7188  LR: 0.00001985  \n",
      "Epoch: [1][1600/3419] Elapsed 3m 29s (remain 3m 58s) Loss: 0.4846(0.6037) Grad: 32992.1602  LR: 0.00001983  \n",
      "Epoch: [1][1700/3419] Elapsed 3m 41s (remain 3m 43s) Loss: 0.7420(0.6026) Grad: 30413.9961  LR: 0.00001981  \n",
      "Epoch: [1][1800/3419] Elapsed 3m 52s (remain 3m 28s) Loss: 0.6984(0.6020) Grad: 11238.8066  LR: 0.00001979  \n",
      "Epoch: [1][1900/3419] Elapsed 4m 3s (remain 3m 14s) Loss: 0.5783(0.6006) Grad: 61250.9688  LR: 0.00001976  \n",
      "Epoch: [1][2000/3419] Elapsed 4m 15s (remain 3m 1s) Loss: 0.4145(0.5991) Grad: 33435.5352  LR: 0.00001974  \n",
      "Epoch: [1][2100/3419] Elapsed 4m 26s (remain 2m 47s) Loss: 0.5907(0.5981) Grad: 122636.4219  LR: 0.00001971  \n",
      "Epoch: [1][2200/3419] Elapsed 4m 38s (remain 2m 33s) Loss: 0.5134(0.5968) Grad: 14162.3564  LR: 0.00001968  \n",
      "Epoch: [1][2300/3419] Elapsed 4m 50s (remain 2m 20s) Loss: 0.5556(0.5950) Grad: 112307.3203  LR: 0.00001965  \n",
      "Epoch: [1][2400/3419] Elapsed 5m 1s (remain 2m 7s) Loss: 0.6870(0.5935) Grad: 45584.5234  LR: 0.00001962  \n",
      "Epoch: [1][2500/3419] Elapsed 5m 12s (remain 1m 54s) Loss: 0.5746(0.5930) Grad: 60036.5195  LR: 0.00001959  \n",
      "Epoch: [1][2600/3419] Elapsed 5m 24s (remain 1m 42s) Loss: 0.5224(0.5924) Grad: 77048.9766  LR: 0.00001956  \n",
      "Epoch: [1][2700/3419] Elapsed 5m 36s (remain 1m 29s) Loss: 0.5696(0.5913) Grad: 32771.2383  LR: 0.00001952  \n",
      "Epoch: [1][2800/3419] Elapsed 5m 47s (remain 1m 16s) Loss: 0.6608(0.5908) Grad: 16055.9326  LR: 0.00001949  \n",
      "Epoch: [1][2900/3419] Elapsed 5m 58s (remain 1m 4s) Loss: 0.4722(0.5900) Grad: 24435.9453  LR: 0.00001945  \n",
      "Epoch: [1][3000/3419] Elapsed 6m 10s (remain 0m 51s) Loss: 0.6799(0.5894) Grad: 15927.7969  LR: 0.00001941  \n",
      "Epoch: [1][3100/3419] Elapsed 6m 22s (remain 0m 39s) Loss: 0.5577(0.5887) Grad: 16405.6523  LR: 0.00001937  \n",
      "Epoch: [1][3200/3419] Elapsed 6m 34s (remain 0m 26s) Loss: 0.6875(0.5884) Grad: 15235.5977  LR: 0.00001933  \n",
      "Epoch: [1][3300/3419] Elapsed 6m 45s (remain 0m 14s) Loss: 0.4993(0.5877) Grad: 66093.6406  LR: 0.00001929  \n",
      "Epoch: [1][3400/3419] Elapsed 6m 56s (remain 0m 2s) Loss: 0.5640(0.5868) Grad: 16422.5430  LR: 0.00001925  \n",
      "Epoch: [1][3418/3419] Elapsed 6m 58s (remain 0m 0s) Loss: 0.5892(0.5866) Grad: 18113.8672  LR: 0.00001924  \n"
     ]
    },
    {
     "name": "stderr",
     "output_type": "stream",
     "text": [
      "[W pthreadpool-cpp.cc:90] Warning: Leaking Caffe2 thread-pool after fork. (function pthreadpool)\n",
      "[W pthreadpool-cpp.cc:90] Warning: Leaking Caffe2 thread-pool after fork. (function pthreadpool)\n",
      "[W pthreadpool-cpp.cc:90] Warning: Leaking Caffe2 thread-pool after fork. (function pthreadpool)\n",
      "[W pthreadpool-cpp.cc:90] Warning: Leaking Caffe2 thread-pool after fork. (function pthreadpool)\n"
     ]
    },
    {
     "name": "stdout",
     "output_type": "stream",
     "text": [
      "EVAL: [0/1140] Elapsed 0m 0s (remain 3m 24s) Loss: 0.5119(0.5119) \n",
      "EVAL: [100/1140] Elapsed 0m 2s (remain 0m 29s) Loss: 0.7221(0.5782) \n",
      "EVAL: [200/1140] Elapsed 0m 5s (remain 0m 26s) Loss: 0.6598(0.5753) \n",
      "EVAL: [300/1140] Elapsed 0m 8s (remain 0m 23s) Loss: 0.6260(0.5830) \n",
      "EVAL: [400/1140] Elapsed 0m 11s (remain 0m 20s) Loss: 0.5326(0.5855) \n",
      "EVAL: [500/1140] Elapsed 0m 13s (remain 0m 17s) Loss: 0.4860(0.5835) \n",
      "EVAL: [600/1140] Elapsed 0m 16s (remain 0m 14s) Loss: 0.3599(0.5837) \n",
      "EVAL: [700/1140] Elapsed 0m 19s (remain 0m 11s) Loss: 0.6397(0.5837) \n",
      "EVAL: [800/1140] Elapsed 0m 21s (remain 0m 9s) Loss: 0.2918(0.5854) \n",
      "EVAL: [900/1140] Elapsed 0m 24s (remain 0m 6s) Loss: 0.7496(0.5840) \n",
      "EVAL: [1000/1140] Elapsed 0m 27s (remain 0m 3s) Loss: 0.5084(0.5827) \n",
      "EVAL: [1100/1140] Elapsed 0m 30s (remain 0m 1s) Loss: 0.6377(0.5802) \n"
     ]
    },
    {
     "name": "stderr",
     "output_type": "stream",
     "text": [
      "Epoch 1 - avg_train_loss: 0.5866  avg_val_loss: 0.5803  time: 450s\n",
      "Epoch 1 - Score: 0.7508\n",
      "Epoch 1 - Save Best Score: 0.7508 Model\n"
     ]
    },
    {
     "name": "stdout",
     "output_type": "stream",
     "text": [
      "EVAL: [1139/1140] Elapsed 0m 31s (remain 0m 0s) Loss: 0.4601(0.5803) \n"
     ]
    },
    {
     "name": "stderr",
     "output_type": "stream",
     "text": [
      "[W pthreadpool-cpp.cc:90] Warning: Leaking Caffe2 thread-pool after fork. (function pthreadpool)\n",
      "[W pthreadpool-cpp.cc:90] Warning: Leaking Caffe2 thread-pool after fork. (function pthreadpool)\n",
      "[W pthreadpool-cpp.cc:90] Warning: Leaking Caffe2 thread-pool after fork. (function pthreadpool)\n",
      "[W pthreadpool-cpp.cc:90] Warning: Leaking Caffe2 thread-pool after fork. (function pthreadpool)\n"
     ]
    },
    {
     "name": "stdout",
     "output_type": "stream",
     "text": [
      "Epoch: [2][0/3419] Elapsed 0m 0s (remain 22m 19s) Loss: 0.5191(0.5191) Grad: 85221.6406  LR: 0.00001924  \n",
      "Epoch: [2][100/3419] Elapsed 0m 11s (remain 6m 19s) Loss: 0.6501(0.5596) Grad: 254974.2344  LR: 0.00001919  \n",
      "Epoch: [2][200/3419] Elapsed 0m 22s (remain 6m 3s) Loss: 0.6283(0.5592) Grad: 36448.9727  LR: 0.00001915  \n",
      "Epoch: [2][300/3419] Elapsed 0m 33s (remain 5m 50s) Loss: 0.7086(0.5580) Grad: 45396.0078  LR: 0.00001910  \n",
      "Epoch: [2][400/3419] Elapsed 0m 45s (remain 5m 41s) Loss: 0.3974(0.5537) Grad: 47097.5469  LR: 0.00001905  \n",
      "Epoch: [2][500/3419] Elapsed 0m 56s (remain 5m 28s) Loss: 0.3953(0.5538) Grad: 71606.1641  LR: 0.00001900  \n",
      "Epoch: [2][600/3419] Elapsed 1m 7s (remain 5m 16s) Loss: 0.5308(0.5534) Grad: 136185.2188  LR: 0.00001895  \n",
      "Epoch: [2][700/3419] Elapsed 1m 18s (remain 5m 5s) Loss: 0.5636(0.5537) Grad: 40895.1641  LR: 0.00001890  \n",
      "Epoch: [2][800/3419] Elapsed 1m 29s (remain 4m 53s) Loss: 0.5537(0.5525) Grad: 152200.8125  LR: 0.00001885  \n",
      "Epoch: [2][900/3419] Elapsed 1m 40s (remain 4m 42s) Loss: 0.5179(0.5538) Grad: 25541.5918  LR: 0.00001879  \n",
      "Epoch: [2][1000/3419] Elapsed 1m 52s (remain 4m 30s) Loss: 0.4493(0.5533) Grad: 57455.5508  LR: 0.00001874  \n",
      "Epoch: [2][1100/3419] Elapsed 2m 3s (remain 4m 19s) Loss: 0.5611(0.5537) Grad: 36819.1445  LR: 0.00001868  \n",
      "Epoch: [2][1200/3419] Elapsed 2m 14s (remain 4m 8s) Loss: 0.5874(0.5524) Grad: 28074.9961  LR: 0.00001863  \n",
      "Epoch: [2][1300/3419] Elapsed 2m 26s (remain 3m 59s) Loss: 0.5592(0.5528) Grad: 41257.2344  LR: 0.00001857  \n",
      "Epoch: [2][1400/3419] Elapsed 2m 38s (remain 3m 47s) Loss: 0.5933(0.5531) Grad: 101860.7109  LR: 0.00001851  \n",
      "Epoch: [2][1500/3419] Elapsed 2m 49s (remain 3m 36s) Loss: 0.4308(0.5532) Grad: 11463.1768  LR: 0.00001845  \n",
      "Epoch: [2][1600/3419] Elapsed 3m 0s (remain 3m 25s) Loss: 0.5568(0.5540) Grad: 313210.0312  LR: 0.00001838  \n",
      "Epoch: [2][1700/3419] Elapsed 3m 12s (remain 3m 14s) Loss: 0.3852(0.5541) Grad: 54838.3633  LR: 0.00001832  \n",
      "Epoch: [2][1800/3419] Elapsed 3m 27s (remain 3m 6s) Loss: 0.7040(0.5540) Grad: 33572.4062  LR: 0.00001826  \n",
      "Epoch: [2][1900/3419] Elapsed 3m 38s (remain 2m 54s) Loss: 0.5343(0.5548) Grad: 81141.2812  LR: 0.00001819  \n",
      "Epoch: [2][2000/3419] Elapsed 3m 49s (remain 2m 42s) Loss: 0.4422(0.5547) Grad: 12548.7305  LR: 0.00001812  \n",
      "Epoch: [2][2100/3419] Elapsed 4m 0s (remain 2m 31s) Loss: 0.5429(0.5545) Grad: 44443.2422  LR: 0.00001806  \n",
      "Epoch: [2][2200/3419] Elapsed 4m 14s (remain 2m 20s) Loss: 0.5577(0.5546) Grad: 19901.5039  LR: 0.00001799  \n",
      "Epoch: [2][2300/3419] Elapsed 4m 25s (remain 2m 8s) Loss: 0.4740(0.5544) Grad: 35269.4609  LR: 0.00001792  \n",
      "Epoch: [2][2400/3419] Elapsed 4m 36s (remain 1m 57s) Loss: 0.5370(0.5539) Grad: 12315.8516  LR: 0.00001785  \n",
      "Epoch: [2][2500/3419] Elapsed 4m 47s (remain 1m 45s) Loss: 0.5670(0.5533) Grad: 11698.4570  LR: 0.00001778  \n",
      "Epoch: [2][2600/3419] Elapsed 4m 59s (remain 1m 34s) Loss: 0.5983(0.5534) Grad: 44052.9570  LR: 0.00001770  \n",
      "Epoch: [2][2700/3419] Elapsed 5m 10s (remain 1m 22s) Loss: 0.4343(0.5534) Grad: 17068.3555  LR: 0.00001763  \n",
      "Epoch: [2][2800/3419] Elapsed 5m 21s (remain 1m 10s) Loss: 0.4246(0.5535) Grad: 34555.0000  LR: 0.00001756  \n",
      "Epoch: [2][2900/3419] Elapsed 5m 32s (remain 0m 59s) Loss: 0.6429(0.5537) Grad: 10666.4795  LR: 0.00001748  \n",
      "Epoch: [2][3000/3419] Elapsed 5m 43s (remain 0m 47s) Loss: 0.4594(0.5537) Grad: 27704.3359  LR: 0.00001740  \n",
      "Epoch: [2][3100/3419] Elapsed 5m 54s (remain 0m 36s) Loss: 0.4863(0.5537) Grad: 11443.0605  LR: 0.00001733  \n",
      "Epoch: [2][3200/3419] Elapsed 6m 5s (remain 0m 24s) Loss: 0.5338(0.5542) Grad: 2505.1917  LR: 0.00001725  \n",
      "Epoch: [2][3300/3419] Elapsed 6m 16s (remain 0m 13s) Loss: 0.5965(0.5538) Grad: 20460.3438  LR: 0.00001717  \n",
      "Epoch: [2][3400/3419] Elapsed 6m 28s (remain 0m 2s) Loss: 0.4675(0.5541) Grad: 13261.0762  LR: 0.00001709  \n",
      "Epoch: [2][3418/3419] Elapsed 6m 30s (remain 0m 0s) Loss: 0.6645(0.5540) Grad: 20767.2598  LR: 0.00001707  \n"
     ]
    },
    {
     "name": "stderr",
     "output_type": "stream",
     "text": [
      "[W pthreadpool-cpp.cc:90] Warning: Leaking Caffe2 thread-pool after fork. (function pthreadpool)\n",
      "[W pthreadpool-cpp.cc:90] Warning: Leaking Caffe2 thread-pool after fork. (function pthreadpool)\n",
      "[W pthreadpool-cpp.cc:90] Warning: Leaking Caffe2 thread-pool after fork. (function pthreadpool)\n",
      "[W pthreadpool-cpp.cc:90] Warning: Leaking Caffe2 thread-pool after fork. (function pthreadpool)\n"
     ]
    },
    {
     "name": "stdout",
     "output_type": "stream",
     "text": [
      "EVAL: [0/1140] Elapsed 0m 0s (remain 3m 18s) Loss: 0.4960(0.4960) \n",
      "EVAL: [100/1140] Elapsed 0m 2s (remain 0m 29s) Loss: 0.7108(0.5648) \n",
      "EVAL: [200/1140] Elapsed 0m 5s (remain 0m 26s) Loss: 0.5986(0.5572) \n",
      "EVAL: [300/1140] Elapsed 0m 8s (remain 0m 23s) Loss: 0.5922(0.5663) \n",
      "EVAL: [400/1140] Elapsed 0m 11s (remain 0m 21s) Loss: 0.5507(0.5736) \n",
      "EVAL: [500/1140] Elapsed 0m 14s (remain 0m 18s) Loss: 0.4688(0.5703) \n",
      "EVAL: [600/1140] Elapsed 0m 17s (remain 0m 15s) Loss: 0.3112(0.5709) \n",
      "EVAL: [700/1140] Elapsed 0m 19s (remain 0m 12s) Loss: 0.6362(0.5702) \n",
      "EVAL: [800/1140] Elapsed 0m 22s (remain 0m 9s) Loss: 0.2751(0.5713) \n",
      "EVAL: [900/1140] Elapsed 0m 25s (remain 0m 6s) Loss: 0.7617(0.5704) \n",
      "EVAL: [1000/1140] Elapsed 0m 27s (remain 0m 3s) Loss: 0.4693(0.5698) \n",
      "EVAL: [1100/1140] Elapsed 0m 30s (remain 0m 1s) Loss: 0.6595(0.5677) \n"
     ]
    },
    {
     "name": "stderr",
     "output_type": "stream",
     "text": [
      "Epoch 2 - avg_train_loss: 0.5540  avg_val_loss: 0.5684  time: 422s\n",
      "Epoch 2 - Score: 0.7722\n",
      "Epoch 2 - Save Best Score: 0.7722 Model\n"
     ]
    },
    {
     "name": "stdout",
     "output_type": "stream",
     "text": [
      "EVAL: [1139/1140] Elapsed 0m 31s (remain 0m 0s) Loss: 0.4608(0.5684) \n"
     ]
    },
    {
     "name": "stderr",
     "output_type": "stream",
     "text": [
      "[W pthreadpool-cpp.cc:90] Warning: Leaking Caffe2 thread-pool after fork. (function pthreadpool)\n",
      "[W pthreadpool-cpp.cc:90] Warning: Leaking Caffe2 thread-pool after fork. (function pthreadpool)\n",
      "[W pthreadpool-cpp.cc:90] Warning: Leaking Caffe2 thread-pool after fork. (function pthreadpool)\n",
      "[W pthreadpool-cpp.cc:90] Warning: Leaking Caffe2 thread-pool after fork. (function pthreadpool)\n"
     ]
    },
    {
     "name": "stdout",
     "output_type": "stream",
     "text": [
      "Epoch: [3][0/3419] Elapsed 0m 0s (remain 29m 8s) Loss: 0.5920(0.5920) Grad: 67128.3594  LR: 0.00001707  \n",
      "Epoch: [3][100/3419] Elapsed 0m 11s (remain 6m 22s) Loss: 0.4771(0.5332) Grad: 51845.5391  LR: 0.00001699  \n",
      "Epoch: [3][200/3419] Elapsed 0m 22s (remain 6m 4s) Loss: 0.5855(0.5341) Grad: 47627.4648  LR: 0.00001691  \n",
      "Epoch: [3][300/3419] Elapsed 0m 34s (remain 5m 54s) Loss: 0.5408(0.5368) Grad: 50743.9805  LR: 0.00001682  \n",
      "Epoch: [3][400/3419] Elapsed 0m 45s (remain 5m 41s) Loss: 0.5082(0.5363) Grad: 39515.9102  LR: 0.00001674  \n",
      "Epoch: [3][500/3419] Elapsed 0m 56s (remain 5m 28s) Loss: 0.4430(0.5390) Grad: 36678.0625  LR: 0.00001665  \n",
      "Epoch: [3][600/3419] Elapsed 1m 7s (remain 5m 17s) Loss: 0.6076(0.5388) Grad: 17068.0605  LR: 0.00001657  \n",
      "Epoch: [3][700/3419] Elapsed 1m 18s (remain 5m 5s) Loss: 0.4725(0.5397) Grad: 20045.7930  LR: 0.00001648  \n",
      "Epoch: [3][800/3419] Elapsed 1m 29s (remain 4m 53s) Loss: 0.7385(0.5423) Grad: 621588.5000  LR: 0.00001639  \n",
      "Epoch: [3][900/3419] Elapsed 1m 41s (remain 4m 42s) Loss: 0.5096(0.5411) Grad: 13374.0537  LR: 0.00001630  \n",
      "Epoch: [3][1000/3419] Elapsed 1m 52s (remain 4m 31s) Loss: 0.4366(0.5398) Grad: 30154.2637  LR: 0.00001621  \n",
      "Epoch: [3][1100/3419] Elapsed 2m 3s (remain 4m 19s) Loss: 0.5307(0.5397) Grad: 34689.0352  LR: 0.00001612  \n",
      "Epoch: [3][1200/3419] Elapsed 2m 14s (remain 4m 8s) Loss: 0.6355(0.5395) Grad: 39906.2500  LR: 0.00001603  \n",
      "Epoch: [3][1300/3419] Elapsed 2m 25s (remain 3m 57s) Loss: 0.4845(0.5384) Grad: 7165.6245  LR: 0.00001594  \n",
      "Epoch: [3][1400/3419] Elapsed 2m 37s (remain 3m 46s) Loss: 0.5572(0.5385) Grad: 7471.9810  LR: 0.00001585  \n",
      "Epoch: [3][1500/3419] Elapsed 2m 48s (remain 3m 35s) Loss: 0.5106(0.5374) Grad: 24729.9121  LR: 0.00001575  \n",
      "Epoch: [3][1600/3419] Elapsed 2m 59s (remain 3m 23s) Loss: 0.5206(0.5378) Grad: 43899.4453  LR: 0.00001566  \n",
      "Epoch: [3][1700/3419] Elapsed 3m 10s (remain 3m 12s) Loss: 0.5647(0.5377) Grad: 2944.7080  LR: 0.00001556  \n",
      "Epoch: [3][1800/3419] Elapsed 3m 21s (remain 3m 1s) Loss: 0.6464(0.5382) Grad: 9325.1943  LR: 0.00001547  \n",
      "Epoch: [3][1900/3419] Elapsed 3m 33s (remain 2m 50s) Loss: 0.4690(0.5384) Grad: 33125.0625  LR: 0.00001537  \n",
      "Epoch: [3][2000/3419] Elapsed 3m 44s (remain 2m 39s) Loss: 0.5097(0.5386) Grad: 57663.6133  LR: 0.00001528  \n",
      "Epoch: [3][2100/3419] Elapsed 3m 55s (remain 2m 27s) Loss: 0.5912(0.5382) Grad: 9336.6758  LR: 0.00001518  \n",
      "Epoch: [3][2200/3419] Elapsed 4m 6s (remain 2m 16s) Loss: 0.5486(0.5378) Grad: 17939.5801  LR: 0.00001508  \n",
      "Epoch: [3][2300/3419] Elapsed 4m 17s (remain 2m 5s) Loss: 0.5560(0.5387) Grad: 9218.3232  LR: 0.00001498  \n",
      "Epoch: [3][2400/3419] Elapsed 4m 29s (remain 1m 54s) Loss: 0.6486(0.5390) Grad: 18639.2832  LR: 0.00001488  \n",
      "Epoch: [3][2500/3419] Elapsed 4m 40s (remain 1m 42s) Loss: 0.5427(0.5386) Grad: 10440.4531  LR: 0.00001478  \n",
      "Epoch: [3][2600/3419] Elapsed 4m 51s (remain 1m 31s) Loss: 0.5299(0.5385) Grad: 21860.3105  LR: 0.00001468  \n",
      "Epoch: [3][2700/3419] Elapsed 5m 2s (remain 1m 20s) Loss: 0.4019(0.5390) Grad: 20168.0195  LR: 0.00001458  \n",
      "Epoch: [3][2800/3419] Elapsed 5m 13s (remain 1m 9s) Loss: 0.5778(0.5392) Grad: 114567.9297  LR: 0.00001447  \n",
      "Epoch: [3][2900/3419] Elapsed 5m 24s (remain 0m 57s) Loss: 0.5565(0.5386) Grad: 51076.1016  LR: 0.00001437  \n",
      "Epoch: [3][3000/3419] Elapsed 5m 36s (remain 0m 46s) Loss: 0.5851(0.5386) Grad: 16952.0391  LR: 0.00001427  \n",
      "Epoch: [3][3100/3419] Elapsed 5m 47s (remain 0m 35s) Loss: 0.5650(0.5382) Grad: 50563.2461  LR: 0.00001416  \n",
      "Epoch: [3][3200/3419] Elapsed 5m 58s (remain 0m 24s) Loss: 0.5004(0.5382) Grad: 11016.5117  LR: 0.00001406  \n",
      "Epoch: [3][3300/3419] Elapsed 6m 9s (remain 0m 13s) Loss: 0.4696(0.5377) Grad: 44384.2969  LR: 0.00001395  \n",
      "Epoch: [3][3400/3419] Elapsed 6m 20s (remain 0m 2s) Loss: 0.6990(0.5374) Grad: 17918.1914  LR: 0.00001385  \n",
      "Epoch: [3][3418/3419] Elapsed 6m 22s (remain 0m 0s) Loss: 0.4462(0.5374) Grad: 88116.5625  LR: 0.00001383  \n"
     ]
    },
    {
     "name": "stderr",
     "output_type": "stream",
     "text": [
      "[W pthreadpool-cpp.cc:90] Warning: Leaking Caffe2 thread-pool after fork. (function pthreadpool)\n",
      "[W pthreadpool-cpp.cc:90] Warning: Leaking Caffe2 thread-pool after fork. (function pthreadpool)\n",
      "[W pthreadpool-cpp.cc:90] Warning: Leaking Caffe2 thread-pool after fork. (function pthreadpool)\n",
      "[W pthreadpool-cpp.cc:90] Warning: Leaking Caffe2 thread-pool after fork. (function pthreadpool)\n"
     ]
    },
    {
     "name": "stdout",
     "output_type": "stream",
     "text": [
      "EVAL: [0/1140] Elapsed 0m 0s (remain 3m 16s) Loss: 0.4658(0.4658) \n",
      "EVAL: [100/1140] Elapsed 0m 2s (remain 0m 29s) Loss: 0.6943(0.5547) \n",
      "EVAL: [200/1140] Elapsed 0m 5s (remain 0m 25s) Loss: 0.6300(0.5456) \n",
      "EVAL: [300/1140] Elapsed 0m 8s (remain 0m 22s) Loss: 0.5474(0.5543) \n",
      "EVAL: [400/1140] Elapsed 0m 10s (remain 0m 20s) Loss: 0.4944(0.5594) \n",
      "EVAL: [500/1140] Elapsed 0m 13s (remain 0m 17s) Loss: 0.4637(0.5565) \n",
      "EVAL: [600/1140] Elapsed 0m 16s (remain 0m 14s) Loss: 0.2781(0.5581) \n",
      "EVAL: [700/1140] Elapsed 0m 19s (remain 0m 11s) Loss: 0.6552(0.5576) \n",
      "EVAL: [800/1140] Elapsed 0m 21s (remain 0m 9s) Loss: 0.2585(0.5586) \n",
      "EVAL: [900/1140] Elapsed 0m 24s (remain 0m 6s) Loss: 0.6919(0.5573) \n",
      "EVAL: [1000/1140] Elapsed 0m 27s (remain 0m 3s) Loss: 0.4753(0.5557) \n",
      "EVAL: [1100/1140] Elapsed 0m 29s (remain 0m 1s) Loss: 0.6251(0.5541) \n"
     ]
    },
    {
     "name": "stderr",
     "output_type": "stream",
     "text": [
      "Epoch 3 - avg_train_loss: 0.5374  avg_val_loss: 0.5546  time: 414s\n",
      "Epoch 3 - Score: 0.8062\n",
      "Epoch 3 - Save Best Score: 0.8062 Model\n"
     ]
    },
    {
     "name": "stdout",
     "output_type": "stream",
     "text": [
      "EVAL: [1139/1140] Elapsed 0m 30s (remain 0m 0s) Loss: 0.4631(0.5546) \n"
     ]
    },
    {
     "name": "stderr",
     "output_type": "stream",
     "text": [
      "[W pthreadpool-cpp.cc:90] Warning: Leaking Caffe2 thread-pool after fork. (function pthreadpool)\n",
      "[W pthreadpool-cpp.cc:90] Warning: Leaking Caffe2 thread-pool after fork. (function pthreadpool)\n",
      "[W pthreadpool-cpp.cc:90] Warning: Leaking Caffe2 thread-pool after fork. (function pthreadpool)\n",
      "[W pthreadpool-cpp.cc:90] Warning: Leaking Caffe2 thread-pool after fork. (function pthreadpool)\n"
     ]
    },
    {
     "name": "stdout",
     "output_type": "stream",
     "text": [
      "Epoch: [4][0/3419] Elapsed 0m 0s (remain 26m 11s) Loss: 0.5375(0.5375) Grad: 26536.9199  LR: 0.00001383  \n",
      "Epoch: [4][100/3419] Elapsed 0m 11s (remain 6m 19s) Loss: 0.5256(0.5293) Grad: 37189.4453  LR: 0.00001372  \n",
      "Epoch: [4][200/3419] Elapsed 0m 22s (remain 6m 2s) Loss: 0.5031(0.5260) Grad: 106123.1875  LR: 0.00001361  \n",
      "Epoch: [4][300/3419] Elapsed 0m 34s (remain 5m 54s) Loss: 0.5191(0.5319) Grad: 31774.7793  LR: 0.00001351  \n",
      "Epoch: [4][400/3419] Elapsed 0m 45s (remain 5m 40s) Loss: 0.6209(0.5318) Grad: 14603.8359  LR: 0.00001340  \n",
      "Epoch: [4][500/3419] Elapsed 0m 56s (remain 5m 28s) Loss: 0.3485(0.5314) Grad: 5946.7534  LR: 0.00001329  \n",
      "Epoch: [4][600/3419] Elapsed 1m 7s (remain 5m 16s) Loss: 0.6218(0.5305) Grad: 20096.7988  LR: 0.00001318  \n",
      "Epoch: [4][700/3419] Elapsed 1m 18s (remain 5m 4s) Loss: 0.5280(0.5297) Grad: 5501.4639  LR: 0.00001307  \n",
      "Epoch: [4][800/3419] Elapsed 1m 29s (remain 4m 53s) Loss: 0.3426(0.5299) Grad: 1143.4822  LR: 0.00001296  \n",
      "Epoch: [4][900/3419] Elapsed 1m 40s (remain 4m 41s) Loss: 0.6596(0.5299) Grad: 49253.5000  LR: 0.00001285  \n",
      "Epoch: [4][1000/3419] Elapsed 1m 51s (remain 4m 30s) Loss: 0.5674(0.5319) Grad: 2770.7026  LR: 0.00001274  \n",
      "Epoch: [4][1100/3419] Elapsed 2m 3s (remain 4m 19s) Loss: 0.5318(0.5310) Grad: 15644.1260  LR: 0.00001263  \n",
      "Epoch: [4][1200/3419] Elapsed 2m 14s (remain 4m 7s) Loss: 0.5242(0.5293) Grad: 26700.1094  LR: 0.00001252  \n",
      "Epoch: [4][1300/3419] Elapsed 2m 25s (remain 3m 57s) Loss: 0.5671(0.5297) Grad: 10291.1768  LR: 0.00001241  \n",
      "Epoch: [4][1400/3419] Elapsed 2m 36s (remain 3m 45s) Loss: 0.6439(0.5306) Grad: 5233.5356  LR: 0.00001230  \n",
      "Epoch: [4][1500/3419] Elapsed 2m 47s (remain 3m 34s) Loss: 0.5721(0.5317) Grad: 9296.8652  LR: 0.00001219  \n",
      "Epoch: [4][1600/3419] Elapsed 2m 58s (remain 3m 23s) Loss: 0.5305(0.5313) Grad: 7224.5659  LR: 0.00001207  \n",
      "Epoch: [4][1700/3419] Elapsed 3m 10s (remain 3m 11s) Loss: 0.4812(0.5312) Grad: 4541.5957  LR: 0.00001196  \n",
      "Epoch: [4][1800/3419] Elapsed 3m 21s (remain 3m 1s) Loss: 0.4759(0.5312) Grad: 2990.5825  LR: 0.00001185  \n",
      "Epoch: [4][1900/3419] Elapsed 3m 33s (remain 2m 50s) Loss: 0.4798(0.5314) Grad: 2926.5225  LR: 0.00001174  \n",
      "Epoch: [4][2000/3419] Elapsed 3m 44s (remain 2m 39s) Loss: 0.5093(0.5307) Grad: 8136.0508  LR: 0.00001162  \n",
      "Epoch: [4][2100/3419] Elapsed 3m 55s (remain 2m 27s) Loss: 0.5646(0.5303) Grad: 18359.9258  LR: 0.00001151  \n",
      "Epoch: [4][2200/3419] Elapsed 4m 6s (remain 2m 16s) Loss: 0.6374(0.5296) Grad: 17743.6367  LR: 0.00001140  \n",
      "Epoch: [4][2300/3419] Elapsed 4m 17s (remain 2m 5s) Loss: 0.6876(0.5300) Grad: 3030.4866  LR: 0.00001128  \n",
      "Epoch: [4][2400/3419] Elapsed 4m 29s (remain 1m 54s) Loss: 0.6300(0.5303) Grad: 2430.8308  LR: 0.00001117  \n",
      "Epoch: [4][2500/3419] Elapsed 4m 40s (remain 1m 42s) Loss: 0.3855(0.5300) Grad: 806.2534  LR: 0.00001105  \n",
      "Epoch: [4][2600/3419] Elapsed 4m 51s (remain 1m 31s) Loss: 0.4734(0.5302) Grad: 5788.1035  LR: 0.00001094  \n",
      "Epoch: [4][2700/3419] Elapsed 5m 2s (remain 1m 20s) Loss: 0.3584(0.5311) Grad: 2763.1382  LR: 0.00001083  \n",
      "Epoch: [4][2800/3419] Elapsed 5m 13s (remain 1m 9s) Loss: 0.5021(0.5311) Grad: 13968.2471  LR: 0.00001071  \n",
      "Epoch: [4][2900/3419] Elapsed 5m 24s (remain 0m 57s) Loss: 0.5889(0.5312) Grad: 30146.7129  LR: 0.00001060  \n",
      "Epoch: [4][3000/3419] Elapsed 5m 35s (remain 0m 46s) Loss: 0.5774(0.5310) Grad: 1604.0259  LR: 0.00001048  \n",
      "Epoch: [4][3100/3419] Elapsed 5m 46s (remain 0m 35s) Loss: 0.4459(0.5310) Grad: 1086.6433  LR: 0.00001037  \n",
      "Epoch: [4][3200/3419] Elapsed 5m 57s (remain 0m 24s) Loss: 0.4732(0.5313) Grad: 4209.7979  LR: 0.00001025  \n",
      "Epoch: [4][3300/3419] Elapsed 6m 9s (remain 0m 13s) Loss: 0.5305(0.5309) Grad: 9009.4043  LR: 0.00001014  \n",
      "Epoch: [4][3400/3419] Elapsed 6m 20s (remain 0m 2s) Loss: 0.4856(0.5303) Grad: 15771.8662  LR: 0.00001002  \n",
      "Epoch: [4][3418/3419] Elapsed 6m 22s (remain 0m 0s) Loss: 0.7966(0.5306) Grad: 201728.8125  LR: 0.00001000  \n"
     ]
    },
    {
     "name": "stderr",
     "output_type": "stream",
     "text": [
      "[W pthreadpool-cpp.cc:90] Warning: Leaking Caffe2 thread-pool after fork. (function pthreadpool)\n",
      "[W pthreadpool-cpp.cc:90] Warning: Leaking Caffe2 thread-pool after fork. (function pthreadpool)\n",
      "[W pthreadpool-cpp.cc:90] Warning: Leaking Caffe2 thread-pool after fork. (function pthreadpool)\n",
      "[W pthreadpool-cpp.cc:90] Warning: Leaking Caffe2 thread-pool after fork. (function pthreadpool)\n"
     ]
    },
    {
     "name": "stdout",
     "output_type": "stream",
     "text": [
      "EVAL: [0/1140] Elapsed 0m 0s (remain 3m 16s) Loss: 0.4444(0.4444) \n",
      "EVAL: [100/1140] Elapsed 0m 2s (remain 0m 29s) Loss: 0.7024(0.5579) \n",
      "EVAL: [200/1140] Elapsed 0m 5s (remain 0m 25s) Loss: 0.6319(0.5511) \n",
      "EVAL: [300/1140] Elapsed 0m 8s (remain 0m 23s) Loss: 0.5815(0.5575) \n",
      "EVAL: [400/1140] Elapsed 0m 10s (remain 0m 20s) Loss: 0.5025(0.5628) \n",
      "EVAL: [500/1140] Elapsed 0m 13s (remain 0m 17s) Loss: 0.4610(0.5606) \n",
      "EVAL: [600/1140] Elapsed 0m 16s (remain 0m 14s) Loss: 0.2787(0.5636) \n",
      "EVAL: [700/1140] Elapsed 0m 19s (remain 0m 11s) Loss: 0.5670(0.5631) \n",
      "EVAL: [800/1140] Elapsed 0m 21s (remain 0m 9s) Loss: 0.2560(0.5641) \n",
      "EVAL: [900/1140] Elapsed 0m 24s (remain 0m 6s) Loss: 0.6025(0.5631) \n",
      "EVAL: [1000/1140] Elapsed 0m 27s (remain 0m 3s) Loss: 0.4788(0.5619) \n",
      "EVAL: [1100/1140] Elapsed 0m 29s (remain 0m 1s) Loss: 0.6255(0.5595) \n"
     ]
    },
    {
     "name": "stderr",
     "output_type": "stream",
     "text": [
      "Epoch 4 - avg_train_loss: 0.5306  avg_val_loss: 0.5598  time: 414s\n",
      "Epoch 4 - Score: 0.8082\n",
      "Epoch 4 - Save Best Score: 0.8082 Model\n"
     ]
    },
    {
     "name": "stdout",
     "output_type": "stream",
     "text": [
      "EVAL: [1139/1140] Elapsed 0m 30s (remain 0m 0s) Loss: 0.4710(0.5598) \n"
     ]
    },
    {
     "name": "stderr",
     "output_type": "stream",
     "text": [
      "[W pthreadpool-cpp.cc:90] Warning: Leaking Caffe2 thread-pool after fork. (function pthreadpool)\n",
      "[W pthreadpool-cpp.cc:90] Warning: Leaking Caffe2 thread-pool after fork. (function pthreadpool)\n",
      "[W pthreadpool-cpp.cc:90] Warning: Leaking Caffe2 thread-pool after fork. (function pthreadpool)\n",
      "[W pthreadpool-cpp.cc:90] Warning: Leaking Caffe2 thread-pool after fork. (function pthreadpool)\n"
     ]
    },
    {
     "name": "stdout",
     "output_type": "stream",
     "text": [
      "Epoch: [5][0/3419] Elapsed 0m 0s (remain 29m 3s) Loss: 0.6150(0.6150) Grad: 78875.6094  LR: 0.00001000  \n",
      "Epoch: [5][100/3419] Elapsed 0m 11s (remain 6m 21s) Loss: 0.4838(0.5213) Grad: 170254.9531  LR: 0.00000989  \n",
      "Epoch: [5][200/3419] Elapsed 0m 23s (remain 6m 16s) Loss: 0.5891(0.5164) Grad: 105744.7109  LR: 0.00000977  \n",
      "Epoch: [5][300/3419] Elapsed 0m 34s (remain 5m 58s) Loss: 0.4062(0.5234) Grad: 25778.3184  LR: 0.00000966  \n",
      "Epoch: [5][400/3419] Elapsed 0m 45s (remain 5m 43s) Loss: 0.5331(0.5215) Grad: 136033.7188  LR: 0.00000954  \n",
      "Epoch: [5][500/3419] Elapsed 0m 56s (remain 5m 30s) Loss: 0.4416(0.5208) Grad: 77214.0703  LR: 0.00000943  \n",
      "Epoch: [5][600/3419] Elapsed 1m 7s (remain 5m 18s) Loss: 0.6018(0.5175) Grad: 201715.5156  LR: 0.00000931  \n",
      "Epoch: [5][700/3419] Elapsed 1m 19s (remain 5m 6s) Loss: 0.5769(0.5166) Grad: 13622.7617  LR: 0.00000920  \n",
      "Epoch: [5][800/3419] Elapsed 1m 30s (remain 4m 55s) Loss: 0.4066(0.5161) Grad: 11544.3633  LR: 0.00000908  \n",
      "Epoch: [5][900/3419] Elapsed 1m 41s (remain 4m 43s) Loss: 0.5906(0.5158) Grad: 10570.7002  LR: 0.00000897  \n",
      "Epoch: [5][1000/3419] Elapsed 1m 53s (remain 4m 33s) Loss: 0.3760(0.5157) Grad: 28935.9902  LR: 0.00000885  \n",
      "Epoch: [5][1100/3419] Elapsed 2m 4s (remain 4m 21s) Loss: 0.5586(0.5162) Grad: 25831.8359  LR: 0.00000874  \n",
      "Epoch: [5][1200/3419] Elapsed 2m 15s (remain 4m 9s) Loss: 0.6167(0.5169) Grad: 13384.1963  LR: 0.00000863  \n",
      "Epoch: [5][1300/3419] Elapsed 2m 26s (remain 3m 58s) Loss: 0.3661(0.5171) Grad: 11203.2822  LR: 0.00000851  \n",
      "Epoch: [5][1400/3419] Elapsed 2m 37s (remain 3m 46s) Loss: 0.5175(0.5173) Grad: 5229.9082  LR: 0.00000840  \n",
      "Epoch: [5][1500/3419] Elapsed 2m 48s (remain 3m 35s) Loss: 0.4832(0.5163) Grad: 5226.7446  LR: 0.00000829  \n",
      "Epoch: [5][1600/3419] Elapsed 2m 59s (remain 3m 24s) Loss: 0.4451(0.5166) Grad: 17737.4238  LR: 0.00000817  \n",
      "Epoch: [5][1700/3419] Elapsed 3m 10s (remain 3m 12s) Loss: 0.5976(0.5172) Grad: 5384.6914  LR: 0.00000806  \n",
      "Epoch: [5][1800/3419] Elapsed 3m 21s (remain 3m 1s) Loss: 0.5451(0.5166) Grad: 3132.4558  LR: 0.00000795  \n",
      "Epoch: [5][1900/3419] Elapsed 3m 33s (remain 2m 50s) Loss: 0.5280(0.5152) Grad: 6880.1763  LR: 0.00000784  \n",
      "Epoch: [5][2000/3419] Elapsed 3m 44s (remain 2m 38s) Loss: 0.4723(0.5152) Grad: 12219.1670  LR: 0.00000772  \n",
      "Epoch: [5][2100/3419] Elapsed 3m 55s (remain 2m 27s) Loss: 0.4872(0.5153) Grad: 3903.1196  LR: 0.00000761  \n",
      "Epoch: [5][2200/3419] Elapsed 4m 6s (remain 2m 16s) Loss: 0.5845(0.5151) Grad: 8036.3701  LR: 0.00000750  \n",
      "Epoch: [5][2300/3419] Elapsed 4m 17s (remain 2m 5s) Loss: 0.6574(0.5148) Grad: 7174.1357  LR: 0.00000739  \n",
      "Epoch: [5][2400/3419] Elapsed 4m 28s (remain 1m 53s) Loss: 0.4887(0.5153) Grad: 47142.5352  LR: 0.00000728  \n",
      "Epoch: [5][2500/3419] Elapsed 4m 39s (remain 1m 42s) Loss: 0.6353(0.5155) Grad: 4212.8193  LR: 0.00000717  \n",
      "Epoch: [5][2600/3419] Elapsed 4m 51s (remain 1m 31s) Loss: 0.5939(0.5159) Grad: 10566.5225  LR: 0.00000706  \n",
      "Epoch: [5][2700/3419] Elapsed 5m 2s (remain 1m 20s) Loss: 0.7033(0.5157) Grad: 14765.9229  LR: 0.00000695  \n",
      "Epoch: [5][2800/3419] Elapsed 5m 13s (remain 1m 9s) Loss: 0.4969(0.5159) Grad: 2886.7188  LR: 0.00000684  \n",
      "Epoch: [5][2900/3419] Elapsed 5m 24s (remain 0m 57s) Loss: 0.6008(0.5162) Grad: 2835.1453  LR: 0.00000673  \n",
      "Epoch: [5][3000/3419] Elapsed 5m 35s (remain 0m 46s) Loss: 0.5630(0.5167) Grad: 15396.3701  LR: 0.00000662  \n",
      "Epoch: [5][3100/3419] Elapsed 5m 46s (remain 0m 35s) Loss: 0.3990(0.5169) Grad: 12987.8955  LR: 0.00000652  \n",
      "Epoch: [5][3200/3419] Elapsed 5m 57s (remain 0m 24s) Loss: 0.6500(0.5168) Grad: 32778.1562  LR: 0.00000641  \n",
      "Epoch: [5][3300/3419] Elapsed 6m 8s (remain 0m 13s) Loss: 0.5795(0.5164) Grad: 5979.9492  LR: 0.00000630  \n",
      "Epoch: [5][3400/3419] Elapsed 6m 19s (remain 0m 2s) Loss: 0.4745(0.5160) Grad: 18856.9297  LR: 0.00000619  \n",
      "Epoch: [5][3418/3419] Elapsed 6m 21s (remain 0m 0s) Loss: 0.4599(0.5161) Grad: 129281.5938  LR: 0.00000618  \n"
     ]
    },
    {
     "name": "stderr",
     "output_type": "stream",
     "text": [
      "[W pthreadpool-cpp.cc:90] Warning: Leaking Caffe2 thread-pool after fork. (function pthreadpool)\n",
      "[W pthreadpool-cpp.cc:90] Warning: Leaking Caffe2 thread-pool after fork. (function pthreadpool)\n",
      "[W pthreadpool-cpp.cc:90] Warning: Leaking Caffe2 thread-pool after fork. (function pthreadpool)\n",
      "[W pthreadpool-cpp.cc:90] Warning: Leaking Caffe2 thread-pool after fork. (function pthreadpool)\n"
     ]
    },
    {
     "name": "stdout",
     "output_type": "stream",
     "text": [
      "EVAL: [0/1140] Elapsed 0m 0s (remain 3m 18s) Loss: 0.4407(0.4407) \n",
      "EVAL: [100/1140] Elapsed 0m 7s (remain 1m 16s) Loss: 0.6960(0.5573) \n",
      "EVAL: [200/1140] Elapsed 0m 10s (remain 0m 47s) Loss: 0.6194(0.5496) \n",
      "EVAL: [300/1140] Elapsed 0m 12s (remain 0m 35s) Loss: 0.5343(0.5542) \n",
      "EVAL: [400/1140] Elapsed 0m 15s (remain 0m 28s) Loss: 0.4914(0.5584) \n",
      "EVAL: [500/1140] Elapsed 0m 18s (remain 0m 23s) Loss: 0.4597(0.5550) \n",
      "EVAL: [600/1140] Elapsed 0m 20s (remain 0m 18s) Loss: 0.2572(0.5565) \n",
      "EVAL: [700/1140] Elapsed 0m 23s (remain 0m 14s) Loss: 0.5651(0.5558) \n",
      "EVAL: [800/1140] Elapsed 0m 26s (remain 0m 11s) Loss: 0.2521(0.5561) \n",
      "EVAL: [900/1140] Elapsed 0m 28s (remain 0m 7s) Loss: 0.5885(0.5557) \n",
      "EVAL: [1000/1140] Elapsed 0m 31s (remain 0m 4s) Loss: 0.4628(0.5546) \n",
      "EVAL: [1100/1140] Elapsed 0m 34s (remain 0m 1s) Loss: 0.6790(0.5524) \n"
     ]
    },
    {
     "name": "stderr",
     "output_type": "stream",
     "text": [
      "Epoch 5 - avg_train_loss: 0.5161  avg_val_loss: 0.5526  time: 417s\n",
      "Epoch 5 - Score: 0.8210\n",
      "Epoch 5 - Save Best Score: 0.8210 Model\n"
     ]
    },
    {
     "name": "stdout",
     "output_type": "stream",
     "text": [
      "EVAL: [1139/1140] Elapsed 0m 35s (remain 0m 0s) Loss: 0.4643(0.5526) \n"
     ]
    },
    {
     "name": "stderr",
     "output_type": "stream",
     "text": [
      "[W pthreadpool-cpp.cc:90] Warning: Leaking Caffe2 thread-pool after fork. (function pthreadpool)\n",
      "[W pthreadpool-cpp.cc:90] Warning: Leaking Caffe2 thread-pool after fork. (function pthreadpool)\n",
      "[W pthreadpool-cpp.cc:90] Warning: Leaking Caffe2 thread-pool after fork. (function pthreadpool)\n",
      "[W pthreadpool-cpp.cc:90] Warning: Leaking Caffe2 thread-pool after fork. (function pthreadpool)\n"
     ]
    },
    {
     "name": "stdout",
     "output_type": "stream",
     "text": [
      "Epoch: [6][0/3419] Elapsed 0m 0s (remain 33m 0s) Loss: 0.4637(0.4637) Grad: 352425.5000  LR: 0.00000617  \n",
      "Epoch: [6][100/3419] Elapsed 0m 11s (remain 6m 22s) Loss: 0.6882(0.5047) Grad: 51166.6328  LR: 0.00000607  \n",
      "Epoch: [6][200/3419] Elapsed 0m 22s (remain 6m 4s) Loss: 0.4973(0.5006) Grad: 19171.7598  LR: 0.00000596  \n",
      "Epoch: [6][300/3419] Elapsed 0m 33s (remain 5m 50s) Loss: 0.4493(0.5057) Grad: 44770.2500  LR: 0.00000586  \n",
      "Epoch: [6][400/3419] Elapsed 0m 44s (remain 5m 38s) Loss: 0.6295(0.5073) Grad: 52787.2188  LR: 0.00000575  \n",
      "Epoch: [6][500/3419] Elapsed 0m 56s (remain 5m 26s) Loss: 0.3613(0.5052) Grad: 30915.4395  LR: 0.00000565  \n",
      "Epoch: [6][600/3419] Elapsed 1m 7s (remain 5m 14s) Loss: 0.3473(0.5051) Grad: 13183.1641  LR: 0.00000555  \n",
      "Epoch: [6][700/3419] Elapsed 1m 18s (remain 5m 3s) Loss: 0.4526(0.5068) Grad: 19056.6816  LR: 0.00000544  \n",
      "Epoch: [6][800/3419] Elapsed 1m 29s (remain 4m 52s) Loss: 0.3465(0.5098) Grad: 87440.0703  LR: 0.00000534  \n",
      "Epoch: [6][900/3419] Elapsed 1m 40s (remain 4m 41s) Loss: 0.3206(0.5082) Grad: 44581.1758  LR: 0.00000524  \n",
      "Epoch: [6][1000/3419] Elapsed 1m 51s (remain 4m 29s) Loss: 0.6272(0.5080) Grad: 35714.1445  LR: 0.00000514  \n",
      "Epoch: [6][1100/3419] Elapsed 2m 2s (remain 4m 18s) Loss: 0.4028(0.5081) Grad: 25303.1855  LR: 0.00000504  \n",
      "Epoch: [6][1200/3419] Elapsed 2m 13s (remain 4m 7s) Loss: 0.5279(0.5085) Grad: 11710.8525  LR: 0.00000494  \n",
      "Epoch: [6][1300/3419] Elapsed 2m 25s (remain 3m 56s) Loss: 0.3147(0.5084) Grad: 11246.8340  LR: 0.00000484  \n",
      "Epoch: [6][1400/3419] Elapsed 2m 36s (remain 3m 44s) Loss: 0.6164(0.5081) Grad: 13184.3584  LR: 0.00000474  \n",
      "Epoch: [6][1500/3419] Elapsed 2m 47s (remain 3m 33s) Loss: 0.5438(0.5090) Grad: 11550.4346  LR: 0.00000465  \n",
      "Epoch: [6][1600/3419] Elapsed 2m 58s (remain 3m 22s) Loss: 0.5901(0.5087) Grad: 27795.8828  LR: 0.00000455  \n",
      "Epoch: [6][1700/3419] Elapsed 3m 9s (remain 3m 11s) Loss: 0.4395(0.5093) Grad: 8338.5498  LR: 0.00000445  \n",
      "Epoch: [6][1800/3419] Elapsed 3m 20s (remain 3m 0s) Loss: 0.4250(0.5100) Grad: 5019.4307  LR: 0.00000436  \n",
      "Epoch: [6][1900/3419] Elapsed 3m 31s (remain 2m 49s) Loss: 0.3967(0.5101) Grad: 68838.1953  LR: 0.00000426  \n",
      "Epoch: [6][2000/3419] Elapsed 3m 43s (remain 2m 38s) Loss: 0.5391(0.5109) Grad: 69940.7500  LR: 0.00000417  \n",
      "Epoch: [6][2100/3419] Elapsed 3m 54s (remain 2m 27s) Loss: 0.5432(0.5105) Grad: 8643.9043  LR: 0.00000408  \n",
      "Epoch: [6][2200/3419] Elapsed 4m 5s (remain 2m 15s) Loss: 0.4902(0.5107) Grad: 60642.6758  LR: 0.00000399  \n",
      "Epoch: [6][2300/3419] Elapsed 4m 16s (remain 2m 4s) Loss: 0.4941(0.5099) Grad: 10348.9180  LR: 0.00000389  \n",
      "Epoch: [6][2400/3419] Elapsed 4m 27s (remain 1m 53s) Loss: 0.3869(0.5095) Grad: 43863.7812  LR: 0.00000380  \n",
      "Epoch: [6][2500/3419] Elapsed 4m 39s (remain 1m 42s) Loss: 0.5740(0.5092) Grad: 35583.0703  LR: 0.00000371  \n",
      "Epoch: [6][2600/3419] Elapsed 4m 50s (remain 1m 31s) Loss: 0.5762(0.5090) Grad: 33051.3984  LR: 0.00000363  \n",
      "Epoch: [6][2700/3419] Elapsed 5m 1s (remain 1m 20s) Loss: 0.6231(0.5091) Grad: 29094.1426  LR: 0.00000354  \n",
      "Epoch: [6][2800/3419] Elapsed 5m 12s (remain 1m 8s) Loss: 0.5274(0.5094) Grad: 6753.4546  LR: 0.00000345  \n",
      "Epoch: [6][2900/3419] Elapsed 5m 23s (remain 0m 57s) Loss: 0.3588(0.5095) Grad: 23900.7383  LR: 0.00000336  \n",
      "Epoch: [6][3000/3419] Elapsed 5m 34s (remain 0m 46s) Loss: 0.4768(0.5094) Grad: 12816.0703  LR: 0.00000328  \n",
      "Epoch: [6][3100/3419] Elapsed 5m 45s (remain 0m 35s) Loss: 0.6511(0.5093) Grad: 187749.3281  LR: 0.00000319  \n",
      "Epoch: [6][3200/3419] Elapsed 5m 56s (remain 0m 24s) Loss: 0.4233(0.5096) Grad: 74839.8281  LR: 0.00000311  \n",
      "Epoch: [6][3300/3419] Elapsed 6m 7s (remain 0m 13s) Loss: 0.6099(0.5094) Grad: 21530.4062  LR: 0.00000303  \n",
      "Epoch: [6][3400/3419] Elapsed 6m 18s (remain 0m 2s) Loss: 0.5073(0.5094) Grad: 10200.7910  LR: 0.00000295  \n",
      "Epoch: [6][3418/3419] Elapsed 6m 20s (remain 0m 0s) Loss: 0.5520(0.5094) Grad: 17720.4922  LR: 0.00000293  \n"
     ]
    },
    {
     "name": "stderr",
     "output_type": "stream",
     "text": [
      "[W pthreadpool-cpp.cc:90] Warning: Leaking Caffe2 thread-pool after fork. (function pthreadpool)\n",
      "[W pthreadpool-cpp.cc:90] Warning: Leaking Caffe2 thread-pool after fork. (function pthreadpool)\n",
      "[W pthreadpool-cpp.cc:90] Warning: Leaking Caffe2 thread-pool after fork. (function pthreadpool)\n",
      "[W pthreadpool-cpp.cc:90] Warning: Leaking Caffe2 thread-pool after fork. (function pthreadpool)\n"
     ]
    },
    {
     "name": "stdout",
     "output_type": "stream",
     "text": [
      "EVAL: [0/1140] Elapsed 0m 0s (remain 3m 22s) Loss: 0.4400(0.4400) \n",
      "EVAL: [100/1140] Elapsed 0m 2s (remain 0m 29s) Loss: 0.6884(0.5516) \n",
      "EVAL: [200/1140] Elapsed 0m 5s (remain 0m 26s) Loss: 0.6179(0.5463) \n",
      "EVAL: [300/1140] Elapsed 0m 8s (remain 0m 23s) Loss: 0.5289(0.5505) \n",
      "EVAL: [400/1140] Elapsed 0m 10s (remain 0m 20s) Loss: 0.4891(0.5563) \n",
      "EVAL: [500/1140] Elapsed 0m 13s (remain 0m 17s) Loss: 0.4589(0.5526) \n",
      "EVAL: [600/1140] Elapsed 0m 16s (remain 0m 14s) Loss: 0.2556(0.5546) \n",
      "EVAL: [700/1140] Elapsed 0m 19s (remain 0m 11s) Loss: 0.5969(0.5539) \n",
      "EVAL: [800/1140] Elapsed 0m 21s (remain 0m 9s) Loss: 0.2578(0.5545) \n",
      "EVAL: [900/1140] Elapsed 0m 24s (remain 0m 6s) Loss: 0.5713(0.5539) \n",
      "EVAL: [1000/1140] Elapsed 0m 27s (remain 0m 3s) Loss: 0.4619(0.5530) \n",
      "EVAL: [1100/1140] Elapsed 0m 29s (remain 0m 1s) Loss: 0.6587(0.5508) \n"
     ]
    },
    {
     "name": "stderr",
     "output_type": "stream",
     "text": [
      "Epoch 6 - avg_train_loss: 0.5094  avg_val_loss: 0.5511  time: 412s\n",
      "Epoch 6 - Score: 0.8240\n",
      "Epoch 6 - Save Best Score: 0.8240 Model\n"
     ]
    },
    {
     "name": "stdout",
     "output_type": "stream",
     "text": [
      "EVAL: [1139/1140] Elapsed 0m 30s (remain 0m 0s) Loss: 0.4768(0.5511) \n"
     ]
    },
    {
     "name": "stderr",
     "output_type": "stream",
     "text": [
      "[W pthreadpool-cpp.cc:90] Warning: Leaking Caffe2 thread-pool after fork. (function pthreadpool)\n",
      "[W pthreadpool-cpp.cc:90] Warning: Leaking Caffe2 thread-pool after fork. (function pthreadpool)\n",
      "[W pthreadpool-cpp.cc:90] Warning: Leaking Caffe2 thread-pool after fork. (function pthreadpool)\n",
      "[W pthreadpool-cpp.cc:90] Warning: Leaking Caffe2 thread-pool after fork. (function pthreadpool)\n"
     ]
    },
    {
     "name": "stdout",
     "output_type": "stream",
     "text": [
      "Epoch: [7][0/3419] Elapsed 0m 0s (remain 26m 51s) Loss: 0.4748(0.4748) Grad: 4299.4395  LR: 0.00000293  \n",
      "Epoch: [7][100/3419] Elapsed 0m 11s (remain 6m 21s) Loss: 0.5417(0.5185) Grad: 85083.7734  LR: 0.00000285  \n",
      "Epoch: [7][200/3419] Elapsed 0m 22s (remain 6m 3s) Loss: 0.4764(0.5117) Grad: 3155.3159  LR: 0.00000277  \n",
      "Epoch: [7][300/3419] Elapsed 0m 33s (remain 5m 50s) Loss: 0.4257(0.5087) Grad: 112756.4297  LR: 0.00000269  \n",
      "Epoch: [7][400/3419] Elapsed 0m 44s (remain 5m 38s) Loss: 0.5711(0.5055) Grad: 52339.5312  LR: 0.00000261  \n",
      "Epoch: [7][500/3419] Elapsed 0m 56s (remain 5m 26s) Loss: 0.5869(0.5036) Grad: 24277.7480  LR: 0.00000254  \n",
      "Epoch: [7][600/3419] Elapsed 1m 7s (remain 5m 14s) Loss: 0.6130(0.5034) Grad: 31854.8906  LR: 0.00000246  \n",
      "Epoch: [7][700/3419] Elapsed 1m 18s (remain 5m 3s) Loss: 0.5961(0.5030) Grad: 6054.5361  LR: 0.00000238  \n",
      "Epoch: [7][800/3419] Elapsed 1m 29s (remain 4m 52s) Loss: 0.5352(0.5054) Grad: 19257.2285  LR: 0.00000231  \n",
      "Epoch: [7][900/3419] Elapsed 1m 40s (remain 4m 40s) Loss: 0.6241(0.5064) Grad: 12336.0645  LR: 0.00000224  \n",
      "Epoch: [7][1000/3419] Elapsed 1m 51s (remain 4m 29s) Loss: 0.4962(0.5063) Grad: 53593.8398  LR: 0.00000217  \n",
      "Epoch: [7][1100/3419] Elapsed 2m 2s (remain 4m 18s) Loss: 0.4270(0.5045) Grad: 4603.0654  LR: 0.00000210  \n",
      "Epoch: [7][1200/3419] Elapsed 2m 13s (remain 4m 7s) Loss: 0.5276(0.5055) Grad: 397.8293  LR: 0.00000203  \n",
      "Epoch: [7][1300/3419] Elapsed 2m 24s (remain 3m 55s) Loss: 0.5045(0.5059) Grad: 15029.0156  LR: 0.00000196  \n",
      "Epoch: [7][1400/3419] Elapsed 2m 35s (remain 3m 44s) Loss: 0.6055(0.5073) Grad: 59745.8828  LR: 0.00000189  \n",
      "Epoch: [7][1500/3419] Elapsed 2m 47s (remain 3m 33s) Loss: 0.4229(0.5077) Grad: 9065.6553  LR: 0.00000182  \n",
      "Epoch: [7][1600/3419] Elapsed 2m 58s (remain 3m 22s) Loss: 0.3392(0.5073) Grad: 11889.9648  LR: 0.00000176  \n",
      "Epoch: [7][1700/3419] Elapsed 3m 10s (remain 3m 12s) Loss: 0.6867(0.5065) Grad: 9066.0869  LR: 0.00000169  \n",
      "Epoch: [7][1800/3419] Elapsed 3m 23s (remain 3m 2s) Loss: 0.6053(0.5068) Grad: 8324.7588  LR: 0.00000163  \n",
      "Epoch: [7][1900/3419] Elapsed 3m 35s (remain 2m 51s) Loss: 0.4851(0.5061) Grad: 5111.4419  LR: 0.00000157  \n",
      "Epoch: [7][2000/3419] Elapsed 3m 46s (remain 2m 40s) Loss: 0.5987(0.5065) Grad: 7375.9429  LR: 0.00000151  \n",
      "Epoch: [7][2100/3419] Elapsed 3m 57s (remain 2m 28s) Loss: 0.4936(0.5064) Grad: 5066.6001  LR: 0.00000145  \n",
      "Epoch: [7][2200/3419] Elapsed 4m 8s (remain 2m 17s) Loss: 0.4869(0.5060) Grad: 8793.1729  LR: 0.00000139  \n",
      "Epoch: [7][2300/3419] Elapsed 4m 19s (remain 2m 6s) Loss: 0.4144(0.5053) Grad: 9698.7031  LR: 0.00000133  \n",
      "Epoch: [7][2400/3419] Elapsed 4m 30s (remain 1m 54s) Loss: 0.4535(0.5051) Grad: 42816.5234  LR: 0.00000127  \n",
      "Epoch: [7][2500/3419] Elapsed 4m 41s (remain 1m 43s) Loss: 0.5409(0.5052) Grad: 8812.5479  LR: 0.00000122  \n",
      "Epoch: [7][2600/3419] Elapsed 4m 53s (remain 1m 32s) Loss: 0.4249(0.5048) Grad: 4898.1064  LR: 0.00000116  \n",
      "Epoch: [7][2700/3419] Elapsed 5m 4s (remain 1m 20s) Loss: 0.4661(0.5048) Grad: 6072.4673  LR: 0.00000111  \n",
      "Epoch: [7][2800/3419] Elapsed 5m 15s (remain 1m 9s) Loss: 0.5162(0.5052) Grad: 17929.4434  LR: 0.00000106  \n",
      "Epoch: [7][2900/3419] Elapsed 5m 26s (remain 0m 58s) Loss: 0.5715(0.5055) Grad: 87128.9531  LR: 0.00000101  \n",
      "Epoch: [7][3000/3419] Elapsed 5m 37s (remain 0m 47s) Loss: 0.5559(0.5054) Grad: 3315.6372  LR: 0.00000096  \n",
      "Epoch: [7][3100/3419] Elapsed 5m 48s (remain 0m 35s) Loss: 0.5246(0.5053) Grad: 13309.0439  LR: 0.00000091  \n",
      "Epoch: [7][3200/3419] Elapsed 6m 0s (remain 0m 24s) Loss: 0.4997(0.5056) Grad: 31198.4219  LR: 0.00000086  \n",
      "Epoch: [7][3300/3419] Elapsed 6m 11s (remain 0m 13s) Loss: 0.4854(0.5058) Grad: 8668.7109  LR: 0.00000082  \n",
      "Epoch: [7][3400/3419] Elapsed 6m 22s (remain 0m 2s) Loss: 0.4877(0.5059) Grad: 10139.1689  LR: 0.00000077  \n"
     ]
    },
    {
     "name": "stderr",
     "output_type": "stream",
     "text": [
      "[W pthreadpool-cpp.cc:90] Warning: Leaking Caffe2 thread-pool after fork. (function pthreadpool)\n",
      "[W pthreadpool-cpp.cc:90] Warning: Leaking Caffe2 thread-pool after fork. (function pthreadpool)\n"
     ]
    },
    {
     "name": "stdout",
     "output_type": "stream",
     "text": [
      "Epoch: [7][3418/3419] Elapsed 6m 24s (remain 0m 0s) Loss: 0.3933(0.5058) Grad: 16503.9727  LR: 0.00000076  \n"
     ]
    },
    {
     "name": "stderr",
     "output_type": "stream",
     "text": [
      "[W pthreadpool-cpp.cc:90] Warning: Leaking Caffe2 thread-pool after fork. (function pthreadpool)\n",
      "[W pthreadpool-cpp.cc:90] Warning: Leaking Caffe2 thread-pool after fork. (function pthreadpool)\n",
      "[W pthreadpool-cpp.cc:90] Warning: Leaking Caffe2 thread-pool after fork. (function pthreadpool)\n",
      "[W pthreadpool-cpp.cc:90] Warning: Leaking Caffe2 thread-pool after fork. (function pthreadpool)\n"
     ]
    },
    {
     "name": "stdout",
     "output_type": "stream",
     "text": [
      "EVAL: [0/1140] Elapsed 0m 0s (remain 3m 20s) Loss: 0.4394(0.4394) \n",
      "EVAL: [100/1140] Elapsed 0m 2s (remain 0m 29s) Loss: 0.6923(0.5541) \n",
      "EVAL: [200/1140] Elapsed 0m 5s (remain 0m 26s) Loss: 0.6206(0.5488) \n",
      "EVAL: [300/1140] Elapsed 0m 8s (remain 0m 23s) Loss: 0.5290(0.5527) \n",
      "EVAL: [400/1140] Elapsed 0m 10s (remain 0m 20s) Loss: 0.4884(0.5584) \n",
      "EVAL: [500/1140] Elapsed 0m 13s (remain 0m 17s) Loss: 0.4585(0.5543) \n",
      "EVAL: [600/1140] Elapsed 0m 16s (remain 0m 14s) Loss: 0.2561(0.5567) \n",
      "EVAL: [700/1140] Elapsed 0m 19s (remain 0m 11s) Loss: 0.5911(0.5556) \n",
      "EVAL: [800/1140] Elapsed 0m 21s (remain 0m 9s) Loss: 0.2551(0.5560) \n",
      "EVAL: [900/1140] Elapsed 0m 24s (remain 0m 6s) Loss: 0.5719(0.5555) \n",
      "EVAL: [1000/1140] Elapsed 0m 27s (remain 0m 3s) Loss: 0.4688(0.5546) \n",
      "EVAL: [1100/1140] Elapsed 0m 29s (remain 0m 1s) Loss: 0.6818(0.5525) \n"
     ]
    },
    {
     "name": "stderr",
     "output_type": "stream",
     "text": [
      "Epoch 7 - avg_train_loss: 0.5058  avg_val_loss: 0.5528  time: 416s\n",
      "Epoch 7 - Score: 0.8240\n",
      "Epoch 7 - Save Best Score: 0.8240 Model\n"
     ]
    },
    {
     "name": "stdout",
     "output_type": "stream",
     "text": [
      "EVAL: [1139/1140] Elapsed 0m 31s (remain 0m 0s) Loss: 0.4798(0.5528) \n"
     ]
    },
    {
     "name": "stderr",
     "output_type": "stream",
     "text": [
      "[W pthreadpool-cpp.cc:90] Warning: Leaking Caffe2 thread-pool after fork. (function pthreadpool)\n",
      "[W pthreadpool-cpp.cc:90] Warning: Leaking Caffe2 thread-pool after fork. (function pthreadpool)\n",
      "[W pthreadpool-cpp.cc:90] Warning: Leaking Caffe2 thread-pool after fork. (function pthreadpool)\n",
      "[W pthreadpool-cpp.cc:90] Warning: Leaking Caffe2 thread-pool after fork. (function pthreadpool)\n"
     ]
    },
    {
     "name": "stdout",
     "output_type": "stream",
     "text": [
      "Epoch: [8][0/3419] Elapsed 0m 0s (remain 31m 44s) Loss: 0.5353(0.5353) Grad: 65770.3438  LR: 0.00000076  \n",
      "Epoch: [8][100/3419] Elapsed 0m 11s (remain 6m 23s) Loss: 0.5467(0.4871) Grad: 15616.0664  LR: 0.00000072  \n",
      "Epoch: [8][200/3419] Elapsed 0m 22s (remain 6m 4s) Loss: 0.6594(0.5027) Grad: 22894.8672  LR: 0.00000068  \n",
      "Epoch: [8][300/3419] Elapsed 0m 33s (remain 5m 51s) Loss: 0.4850(0.5001) Grad: 6521.0474  LR: 0.00000064  \n",
      "Epoch: [8][400/3419] Elapsed 0m 45s (remain 5m 39s) Loss: 0.6139(0.5023) Grad: 34943.8516  LR: 0.00000060  \n",
      "Epoch: [8][500/3419] Elapsed 0m 56s (remain 5m 27s) Loss: 0.5401(0.5041) Grad: 9895.8672  LR: 0.00000056  \n",
      "Epoch: [8][600/3419] Elapsed 1m 7s (remain 5m 15s) Loss: 0.4574(0.5042) Grad: 21615.9785  LR: 0.00000052  \n",
      "Epoch: [8][700/3419] Elapsed 1m 18s (remain 5m 4s) Loss: 0.4268(0.5045) Grad: 27202.2637  LR: 0.00000048  \n",
      "Epoch: [8][800/3419] Elapsed 1m 29s (remain 4m 53s) Loss: 0.5513(0.5038) Grad: 18331.3145  LR: 0.00000045  \n",
      "Epoch: [8][900/3419] Elapsed 1m 40s (remain 4m 41s) Loss: 0.5337(0.5036) Grad: 21469.9863  LR: 0.00000042  \n",
      "Epoch: [8][1000/3419] Elapsed 1m 51s (remain 4m 30s) Loss: 0.4620(0.5036) Grad: 7918.7085  LR: 0.00000038  \n",
      "Epoch: [8][1100/3419] Elapsed 2m 3s (remain 4m 19s) Loss: 0.5790(0.5033) Grad: 9001.0449  LR: 0.00000035  \n",
      "Epoch: [8][1200/3419] Elapsed 2m 14s (remain 4m 7s) Loss: 0.4861(0.5042) Grad: 15865.4785  LR: 0.00000032  \n",
      "Epoch: [8][1300/3419] Elapsed 2m 25s (remain 3m 56s) Loss: 0.4678(0.5048) Grad: 93246.9766  LR: 0.00000030  \n",
      "Epoch: [8][1400/3419] Elapsed 2m 36s (remain 3m 45s) Loss: 0.5536(0.5047) Grad: 15092.0674  LR: 0.00000027  \n",
      "Epoch: [8][1500/3419] Elapsed 2m 47s (remain 3m 34s) Loss: 0.3339(0.5045) Grad: 16270.2998  LR: 0.00000024  \n",
      "Epoch: [8][1600/3419] Elapsed 2m 58s (remain 3m 23s) Loss: 0.4676(0.5044) Grad: 142208.4844  LR: 0.00000022  \n",
      "Epoch: [8][1700/3419] Elapsed 3m 9s (remain 3m 11s) Loss: 0.3676(0.5030) Grad: 8703.4658  LR: 0.00000019  \n",
      "Epoch: [8][1800/3419] Elapsed 3m 21s (remain 3m 0s) Loss: 0.6433(0.5031) Grad: 28961.4082  LR: 0.00000017  \n",
      "Epoch: [8][1900/3419] Elapsed 3m 32s (remain 2m 49s) Loss: 0.2513(0.5044) Grad: 1619.6995  LR: 0.00000015  \n",
      "Epoch: [8][2000/3419] Elapsed 3m 43s (remain 2m 38s) Loss: 0.5606(0.5041) Grad: 4331.4824  LR: 0.00000013  \n",
      "Epoch: [8][2100/3419] Elapsed 3m 54s (remain 2m 27s) Loss: 0.6263(0.5043) Grad: 15360.2646  LR: 0.00000011  \n",
      "Epoch: [8][2200/3419] Elapsed 4m 5s (remain 2m 16s) Loss: 0.6768(0.5040) Grad: 26829.0605  LR: 0.00000010  \n",
      "Epoch: [8][2300/3419] Elapsed 4m 17s (remain 2m 4s) Loss: 0.4761(0.5048) Grad: 3859.2053  LR: 0.00000008  \n",
      "Epoch: [8][2400/3419] Elapsed 4m 28s (remain 1m 53s) Loss: 0.4417(0.5042) Grad: 212650.0938  LR: 0.00000007  \n",
      "Epoch: [8][2500/3419] Elapsed 4m 39s (remain 1m 42s) Loss: 0.5078(0.5042) Grad: 3780.6929  LR: 0.00000006  \n",
      "Epoch: [8][2600/3419] Elapsed 4m 50s (remain 1m 31s) Loss: 0.5470(0.5039) Grad: 22255.0938  LR: 0.00000004  \n",
      "Epoch: [8][2700/3419] Elapsed 5m 1s (remain 1m 20s) Loss: 0.4958(0.5043) Grad: 15378.4619  LR: 0.00000003  \n",
      "Epoch: [8][2800/3419] Elapsed 5m 12s (remain 1m 9s) Loss: 0.5408(0.5048) Grad: 15109.0605  LR: 0.00000003  \n",
      "Epoch: [8][2900/3419] Elapsed 5m 24s (remain 0m 57s) Loss: 0.6317(0.5042) Grad: 8929.8057  LR: 0.00000002  \n",
      "Epoch: [8][3000/3419] Elapsed 5m 35s (remain 0m 46s) Loss: 0.4587(0.5041) Grad: 60234.8047  LR: 0.00000001  \n",
      "Epoch: [8][3100/3419] Elapsed 5m 46s (remain 0m 35s) Loss: 0.5140(0.5039) Grad: 8249.5303  LR: 0.00000001  \n",
      "Epoch: [8][3200/3419] Elapsed 5m 57s (remain 0m 24s) Loss: 0.6859(0.5042) Grad: 96980.3438  LR: 0.00000000  \n",
      "Epoch: [8][3300/3419] Elapsed 6m 8s (remain 0m 13s) Loss: 0.6016(0.5039) Grad: 9059.5420  LR: 0.00000000  \n",
      "Epoch: [8][3400/3419] Elapsed 6m 20s (remain 0m 2s) Loss: 0.5747(0.5041) Grad: 6630.0645  LR: 0.00000000  \n",
      "Epoch: [8][3418/3419] Elapsed 6m 22s (remain 0m 0s) Loss: 0.5124(0.5042) Grad: 54239.8164  LR: 0.00000000  \n"
     ]
    },
    {
     "name": "stderr",
     "output_type": "stream",
     "text": [
      "[W pthreadpool-cpp.cc:90] Warning: Leaking Caffe2 thread-pool after fork. (function pthreadpool)\n",
      "[W pthreadpool-cpp.cc:90] Warning: Leaking Caffe2 thread-pool after fork. (function pthreadpool)\n",
      "[W pthreadpool-cpp.cc:90] Warning: Leaking Caffe2 thread-pool after fork. (function pthreadpool)\n",
      "[W pthreadpool-cpp.cc:90] Warning: Leaking Caffe2 thread-pool after fork. (function pthreadpool)\n"
     ]
    },
    {
     "name": "stdout",
     "output_type": "stream",
     "text": [
      "EVAL: [0/1140] Elapsed 0m 0s (remain 3m 25s) Loss: 0.4391(0.4391) \n",
      "EVAL: [100/1140] Elapsed 0m 2s (remain 0m 30s) Loss: 0.6922(0.5556) \n",
      "EVAL: [200/1140] Elapsed 0m 5s (remain 0m 26s) Loss: 0.6208(0.5503) \n",
      "EVAL: [300/1140] Elapsed 0m 8s (remain 0m 23s) Loss: 0.5291(0.5539) \n",
      "EVAL: [400/1140] Elapsed 0m 11s (remain 0m 20s) Loss: 0.4893(0.5594) \n",
      "EVAL: [500/1140] Elapsed 0m 13s (remain 0m 17s) Loss: 0.4585(0.5554) \n",
      "EVAL: [600/1140] Elapsed 0m 16s (remain 0m 14s) Loss: 0.2557(0.5579) \n",
      "EVAL: [700/1140] Elapsed 0m 19s (remain 0m 12s) Loss: 0.5901(0.5569) \n",
      "EVAL: [800/1140] Elapsed 0m 21s (remain 0m 9s) Loss: 0.2543(0.5573) \n",
      "EVAL: [900/1140] Elapsed 0m 24s (remain 0m 6s) Loss: 0.5721(0.5567) \n",
      "EVAL: [1000/1140] Elapsed 0m 27s (remain 0m 3s) Loss: 0.4706(0.5558) \n",
      "EVAL: [1100/1140] Elapsed 0m 30s (remain 0m 1s) Loss: 0.6821(0.5536) \n"
     ]
    },
    {
     "name": "stderr",
     "output_type": "stream",
     "text": [
      "Epoch 8 - avg_train_loss: 0.5042  avg_val_loss: 0.5540  time: 414s\n",
      "Epoch 8 - Score: 0.8229\n"
     ]
    },
    {
     "name": "stdout",
     "output_type": "stream",
     "text": [
      "EVAL: [1139/1140] Elapsed 0m 31s (remain 0m 0s) Loss: 0.4803(0.5540) \n"
     ]
    },
    {
     "name": "stderr",
     "output_type": "stream",
     "text": [
      "========== fold: 2 result ==========\n",
      "Score: 0.8240\n",
      "========== fold: 3 training ==========\n"
     ]
    },
    {
     "name": "stdout",
     "output_type": "stream",
     "text": [
      "\u001b[38;5;40m========== fold: 3 training ==========\u001b[0m\n"
     ]
    },
    {
     "name": "stderr",
     "output_type": "stream",
     "text": [
      "Some weights of the model checkpoint at microsoft/mpnet-base were not used when initializing MPNetModel: ['lm_head.decoder.weight', 'lm_head.layer_norm.bias', 'lm_head.layer_norm.weight', 'lm_head.dense.bias', 'lm_head.dense.weight', 'lm_head.bias', 'lm_head.decoder.bias']\n",
      "- This IS expected if you are initializing MPNetModel from the checkpoint of a model trained on another task or with another architecture (e.g. initializing a BertForSequenceClassification model from a BertForPreTraining model).\n",
      "- This IS NOT expected if you are initializing MPNetModel from the checkpoint of a model that you expect to be exactly identical (initializing a BertForSequenceClassification model from a BertForSequenceClassification model).\n",
      "Some weights of MPNetModel were not initialized from the model checkpoint at microsoft/mpnet-base and are newly initialized: ['mpnet.pooler.dense.bias', 'mpnet.pooler.dense.weight']\n",
      "You should probably TRAIN this model on a down-stream task to be able to use it for predictions and inference.\n",
      "[W pthreadpool-cpp.cc:90] Warning: Leaking Caffe2 thread-pool after fork. (function pthreadpool)\n",
      "[W pthreadpool-cpp.cc:90] Warning: Leaking Caffe2 thread-pool after fork. (function pthreadpool)\n",
      "[W pthreadpool-cpp.cc:90] Warning: Leaking Caffe2 thread-pool after fork. (function pthreadpool)\n",
      "[W pthreadpool-cpp.cc:90] Warning: Leaking Caffe2 thread-pool after fork. (function pthreadpool)\n"
     ]
    },
    {
     "name": "stdout",
     "output_type": "stream",
     "text": [
      "Epoch: [1][0/3419] Elapsed 0m 1s (remain 105m 48s) Loss: 0.7010(0.7010) Grad: 93569.9609  LR: 0.00002000  \n",
      "Epoch: [1][100/3419] Elapsed 0m 13s (remain 7m 10s) Loss: 0.6213(0.6540) Grad: 51891.3789  LR: 0.00002000  \n",
      "Epoch: [1][200/3419] Elapsed 0m 24s (remain 6m 27s) Loss: 0.6400(0.6388) Grad: 38092.2773  LR: 0.00002000  \n",
      "Epoch: [1][300/3419] Elapsed 0m 35s (remain 6m 5s) Loss: 0.6772(0.6334) Grad: 75389.9844  LR: 0.00001999  \n",
      "Epoch: [1][400/3419] Elapsed 0m 47s (remain 5m 59s) Loss: 0.5427(0.6259) Grad: 29564.2168  LR: 0.00001999  \n",
      "Epoch: [1][500/3419] Elapsed 0m 58s (remain 5m 43s) Loss: 0.5740(0.6222) Grad: 76999.2422  LR: 0.00001998  \n",
      "Epoch: [1][600/3419] Elapsed 1m 10s (remain 5m 30s) Loss: 0.6500(0.6189) Grad: 44227.7383  LR: 0.00001998  \n",
      "Epoch: [1][700/3419] Elapsed 1m 21s (remain 5m 16s) Loss: 0.6020(0.6148) Grad: 153077.3438  LR: 0.00001997  \n",
      "Epoch: [1][800/3419] Elapsed 1m 32s (remain 5m 2s) Loss: 0.6331(0.6128) Grad: 43281.1094  LR: 0.00001996  \n",
      "Epoch: [1][900/3419] Elapsed 1m 43s (remain 4m 49s) Loss: 0.5206(0.6111) Grad: 93281.3594  LR: 0.00001995  \n",
      "Epoch: [1][1000/3419] Elapsed 1m 54s (remain 4m 37s) Loss: 0.5517(0.6101) Grad: 68000.3828  LR: 0.00001993  \n",
      "Epoch: [1][1100/3419] Elapsed 2m 6s (remain 4m 26s) Loss: 0.6718(0.6069) Grad: 80092.1016  LR: 0.00001992  \n",
      "Epoch: [1][1200/3419] Elapsed 2m 17s (remain 4m 14s) Loss: 0.4480(0.6050) Grad: 50180.5508  LR: 0.00001991  \n",
      "Epoch: [1][1300/3419] Elapsed 2m 28s (remain 4m 2s) Loss: 0.6306(0.6027) Grad: 79388.8828  LR: 0.00001989  \n",
      "Epoch: [1][1400/3419] Elapsed 2m 40s (remain 3m 50s) Loss: 0.5065(0.6020) Grad: 48087.4258  LR: 0.00001987  \n",
      "Epoch: [1][1500/3419] Elapsed 2m 51s (remain 3m 38s) Loss: 0.5674(0.6002) Grad: 96896.5312  LR: 0.00001985  \n",
      "Epoch: [1][1600/3419] Elapsed 3m 2s (remain 3m 26s) Loss: 0.4055(0.5992) Grad: 196708.6250  LR: 0.00001983  \n",
      "Epoch: [1][1700/3419] Elapsed 3m 13s (remain 3m 15s) Loss: 0.5661(0.5981) Grad: 59247.1016  LR: 0.00001981  \n",
      "Epoch: [1][1800/3419] Elapsed 3m 24s (remain 3m 3s) Loss: 0.6709(0.5977) Grad: 74414.5781  LR: 0.00001979  \n",
      "Epoch: [1][1900/3419] Elapsed 3m 35s (remain 2m 52s) Loss: 0.6798(0.5958) Grad: 24256.1816  LR: 0.00001976  \n",
      "Epoch: [1][2000/3419] Elapsed 3m 46s (remain 2m 40s) Loss: 0.5313(0.5943) Grad: 57433.9805  LR: 0.00001974  \n",
      "Epoch: [1][2100/3419] Elapsed 3m 58s (remain 2m 29s) Loss: 0.6048(0.5933) Grad: 66362.5078  LR: 0.00001971  \n",
      "Epoch: [1][2200/3419] Elapsed 4m 9s (remain 2m 18s) Loss: 0.6668(0.5922) Grad: 148185.3438  LR: 0.00001968  \n",
      "Epoch: [1][2300/3419] Elapsed 4m 21s (remain 2m 7s) Loss: 0.6025(0.5917) Grad: 37926.6289  LR: 0.00001965  \n",
      "Epoch: [1][2400/3419] Elapsed 4m 32s (remain 1m 55s) Loss: 0.5012(0.5911) Grad: 25445.0605  LR: 0.00001962  \n",
      "Epoch: [1][2500/3419] Elapsed 4m 43s (remain 1m 44s) Loss: 0.5304(0.5905) Grad: 39156.5508  LR: 0.00001959  \n",
      "Epoch: [1][2600/3419] Elapsed 4m 55s (remain 1m 32s) Loss: 0.6126(0.5896) Grad: 72408.2578  LR: 0.00001956  \n",
      "Epoch: [1][2700/3419] Elapsed 5m 6s (remain 1m 21s) Loss: 0.4478(0.5893) Grad: 36798.4688  LR: 0.00001952  \n",
      "Epoch: [1][2800/3419] Elapsed 5m 18s (remain 1m 10s) Loss: 0.5070(0.5882) Grad: 50687.2227  LR: 0.00001949  \n",
      "Epoch: [1][2900/3419] Elapsed 5m 29s (remain 0m 58s) Loss: 0.6882(0.5876) Grad: 29406.5156  LR: 0.00001945  \n",
      "Epoch: [1][3000/3419] Elapsed 5m 40s (remain 0m 47s) Loss: 0.5429(0.5868) Grad: 15925.8252  LR: 0.00001941  \n",
      "Epoch: [1][3100/3419] Elapsed 5m 51s (remain 0m 36s) Loss: 0.5235(0.5858) Grad: 39471.4062  LR: 0.00001937  \n",
      "Epoch: [1][3200/3419] Elapsed 6m 2s (remain 0m 24s) Loss: 0.6734(0.5852) Grad: 90173.5391  LR: 0.00001933  \n",
      "Epoch: [1][3300/3419] Elapsed 6m 13s (remain 0m 13s) Loss: 0.6669(0.5850) Grad: 17259.7051  LR: 0.00001929  \n",
      "Epoch: [1][3400/3419] Elapsed 6m 24s (remain 0m 2s) Loss: 0.6065(0.5845) Grad: 43021.6367  LR: 0.00001925  \n"
     ]
    },
    {
     "name": "stderr",
     "output_type": "stream",
     "text": [
      "[W pthreadpool-cpp.cc:90] Warning: Leaking Caffe2 thread-pool after fork. (function pthreadpool)\n",
      "[W pthreadpool-cpp.cc:90] Warning: Leaking Caffe2 thread-pool after fork. (function pthreadpool)\n"
     ]
    },
    {
     "name": "stdout",
     "output_type": "stream",
     "text": [
      "Epoch: [1][3418/3419] Elapsed 6m 26s (remain 0m 0s) Loss: 0.5442(0.5843) Grad: 38948.7383  LR: 0.00001924  \n"
     ]
    },
    {
     "name": "stderr",
     "output_type": "stream",
     "text": [
      "[W pthreadpool-cpp.cc:90] Warning: Leaking Caffe2 thread-pool after fork. (function pthreadpool)\n",
      "[W pthreadpool-cpp.cc:90] Warning: Leaking Caffe2 thread-pool after fork. (function pthreadpool)\n",
      "[W pthreadpool-cpp.cc:90] Warning: Leaking Caffe2 thread-pool after fork. (function pthreadpool)\n",
      "[W pthreadpool-cpp.cc:90] Warning: Leaking Caffe2 thread-pool after fork. (function pthreadpool)\n"
     ]
    },
    {
     "name": "stdout",
     "output_type": "stream",
     "text": [
      "EVAL: [0/1140] Elapsed 0m 0s (remain 3m 15s) Loss: 0.7106(0.7106) \n",
      "EVAL: [100/1140] Elapsed 0m 2s (remain 0m 29s) Loss: 0.8231(0.5769) \n",
      "EVAL: [200/1140] Elapsed 0m 5s (remain 0m 26s) Loss: 0.7239(0.5821) \n",
      "EVAL: [300/1140] Elapsed 0m 8s (remain 0m 23s) Loss: 0.6186(0.5812) \n",
      "EVAL: [400/1140] Elapsed 0m 10s (remain 0m 20s) Loss: 0.6188(0.5827) \n",
      "EVAL: [500/1140] Elapsed 0m 13s (remain 0m 17s) Loss: 0.7059(0.5808) \n",
      "EVAL: [600/1140] Elapsed 0m 16s (remain 0m 14s) Loss: 0.6870(0.5804) \n",
      "EVAL: [700/1140] Elapsed 0m 19s (remain 0m 11s) Loss: 0.6178(0.5793) \n",
      "EVAL: [800/1140] Elapsed 0m 21s (remain 0m 9s) Loss: 0.6876(0.5781) \n",
      "EVAL: [900/1140] Elapsed 0m 24s (remain 0m 6s) Loss: 0.7437(0.5788) \n",
      "EVAL: [1000/1140] Elapsed 0m 27s (remain 0m 3s) Loss: 0.4944(0.5782) \n",
      "EVAL: [1100/1140] Elapsed 0m 29s (remain 0m 1s) Loss: 0.6782(0.5790) \n"
     ]
    },
    {
     "name": "stderr",
     "output_type": "stream",
     "text": [
      "Epoch 1 - avg_train_loss: 0.5843  avg_val_loss: 0.5802  time: 418s\n",
      "Epoch 1 - Score: 0.7565\n",
      "Epoch 1 - Save Best Score: 0.7565 Model\n"
     ]
    },
    {
     "name": "stdout",
     "output_type": "stream",
     "text": [
      "EVAL: [1139/1140] Elapsed 0m 31s (remain 0m 0s) Loss: 0.5881(0.5802) \n"
     ]
    },
    {
     "name": "stderr",
     "output_type": "stream",
     "text": [
      "[W pthreadpool-cpp.cc:90] Warning: Leaking Caffe2 thread-pool after fork. (function pthreadpool)\n",
      "[W pthreadpool-cpp.cc:90] Warning: Leaking Caffe2 thread-pool after fork. (function pthreadpool)\n",
      "[W pthreadpool-cpp.cc:90] Warning: Leaking Caffe2 thread-pool after fork. (function pthreadpool)\n",
      "[W pthreadpool-cpp.cc:90] Warning: Leaking Caffe2 thread-pool after fork. (function pthreadpool)\n"
     ]
    },
    {
     "name": "stdout",
     "output_type": "stream",
     "text": [
      "Epoch: [2][0/3419] Elapsed 0m 0s (remain 20m 31s) Loss: 0.5286(0.5286) Grad: 123037.9531  LR: 0.00001924  \n",
      "Epoch: [2][100/3419] Elapsed 0m 11s (remain 6m 15s) Loss: 0.4860(0.5613) Grad: 30969.1660  LR: 0.00001919  \n",
      "Epoch: [2][200/3419] Elapsed 0m 22s (remain 6m 3s) Loss: 0.6530(0.5627) Grad: 30400.1582  LR: 0.00001915  \n",
      "Epoch: [2][300/3419] Elapsed 0m 33s (remain 5m 49s) Loss: 0.5877(0.5593) Grad: 23219.9902  LR: 0.00001910  \n",
      "Epoch: [2][400/3419] Elapsed 0m 44s (remain 5m 38s) Loss: 0.6198(0.5554) Grad: 141222.5938  LR: 0.00001905  \n",
      "Epoch: [2][500/3419] Elapsed 0m 56s (remain 5m 26s) Loss: 0.4823(0.5558) Grad: 35469.0469  LR: 0.00001900  \n",
      "Epoch: [2][600/3419] Elapsed 1m 7s (remain 5m 14s) Loss: 0.8400(0.5528) Grad: 79784.1953  LR: 0.00001895  \n",
      "Epoch: [2][700/3419] Elapsed 1m 18s (remain 5m 3s) Loss: 0.6331(0.5540) Grad: 34965.1445  LR: 0.00001890  \n",
      "Epoch: [2][800/3419] Elapsed 1m 29s (remain 4m 52s) Loss: 0.5014(0.5537) Grad: 12890.8008  LR: 0.00001885  \n",
      "Epoch: [2][900/3419] Elapsed 1m 40s (remain 4m 40s) Loss: 0.7064(0.5537) Grad: 18239.3652  LR: 0.00001879  \n",
      "Epoch: [2][1000/3419] Elapsed 1m 51s (remain 4m 29s) Loss: 0.4586(0.5540) Grad: 16771.1270  LR: 0.00001874  \n",
      "Epoch: [2][1100/3419] Elapsed 2m 2s (remain 4m 18s) Loss: 0.5723(0.5548) Grad: 6427.2617  LR: 0.00001868  \n",
      "Epoch: [2][1200/3419] Elapsed 2m 13s (remain 4m 7s) Loss: 0.4292(0.5561) Grad: 17844.6191  LR: 0.00001863  \n",
      "Epoch: [2][1300/3419] Elapsed 2m 25s (remain 3m 56s) Loss: 0.4651(0.5553) Grad: 5692.1470  LR: 0.00001857  \n",
      "Epoch: [2][1400/3419] Elapsed 2m 36s (remain 3m 45s) Loss: 0.3312(0.5554) Grad: 32407.7285  LR: 0.00001851  \n",
      "Epoch: [2][1500/3419] Elapsed 2m 47s (remain 3m 34s) Loss: 0.4444(0.5555) Grad: 31439.2266  LR: 0.00001845  \n",
      "Epoch: [2][1600/3419] Elapsed 2m 59s (remain 3m 23s) Loss: 0.4994(0.5549) Grad: 21546.6660  LR: 0.00001838  \n",
      "Epoch: [2][1700/3419] Elapsed 3m 10s (remain 3m 12s) Loss: 0.4720(0.5556) Grad: 10734.6846  LR: 0.00001832  \n",
      "Epoch: [2][1800/3419] Elapsed 3m 21s (remain 3m 0s) Loss: 0.6645(0.5555) Grad: 8852.6270  LR: 0.00001826  \n",
      "Epoch: [2][1900/3419] Elapsed 3m 33s (remain 2m 50s) Loss: 0.5721(0.5559) Grad: 31085.5566  LR: 0.00001819  \n",
      "Epoch: [2][2000/3419] Elapsed 3m 44s (remain 2m 39s) Loss: 0.4620(0.5553) Grad: 21616.1523  LR: 0.00001812  \n",
      "Epoch: [2][2100/3419] Elapsed 3m 56s (remain 2m 28s) Loss: 0.7442(0.5554) Grad: 138492.6250  LR: 0.00001806  \n",
      "Epoch: [2][2200/3419] Elapsed 4m 7s (remain 2m 16s) Loss: 0.4989(0.5552) Grad: 7274.7778  LR: 0.00001799  \n",
      "Epoch: [2][2300/3419] Elapsed 4m 18s (remain 2m 5s) Loss: 0.6202(0.5548) Grad: 16819.1289  LR: 0.00001792  \n",
      "Epoch: [2][2400/3419] Elapsed 4m 29s (remain 1m 54s) Loss: 0.5700(0.5549) Grad: 11634.2197  LR: 0.00001785  \n",
      "Epoch: [2][2500/3419] Elapsed 4m 41s (remain 1m 43s) Loss: 0.5854(0.5543) Grad: 16447.8145  LR: 0.00001778  \n",
      "Epoch: [2][2600/3419] Elapsed 4m 52s (remain 1m 31s) Loss: 0.6291(0.5543) Grad: 25676.7715  LR: 0.00001770  \n",
      "Epoch: [2][2700/3419] Elapsed 5m 4s (remain 1m 20s) Loss: 0.6464(0.5545) Grad: 81531.8359  LR: 0.00001763  \n",
      "Epoch: [2][2800/3419] Elapsed 5m 15s (remain 1m 9s) Loss: 0.5384(0.5550) Grad: 16150.3916  LR: 0.00001756  \n",
      "Epoch: [2][2900/3419] Elapsed 5m 26s (remain 0m 58s) Loss: 0.6325(0.5556) Grad: 20333.1719  LR: 0.00001748  \n",
      "Epoch: [2][3000/3419] Elapsed 5m 37s (remain 0m 47s) Loss: 0.5422(0.5553) Grad: 13288.2285  LR: 0.00001740  \n",
      "Epoch: [2][3100/3419] Elapsed 5m 48s (remain 0m 35s) Loss: 0.6036(0.5552) Grad: 24046.8574  LR: 0.00001733  \n",
      "Epoch: [2][3200/3419] Elapsed 5m 59s (remain 0m 24s) Loss: 0.5918(0.5551) Grad: 52156.6602  LR: 0.00001725  \n",
      "Epoch: [2][3300/3419] Elapsed 6m 10s (remain 0m 13s) Loss: 0.6293(0.5549) Grad: 29904.0234  LR: 0.00001717  \n",
      "Epoch: [2][3400/3419] Elapsed 6m 22s (remain 0m 2s) Loss: 0.6079(0.5546) Grad: 21882.6543  LR: 0.00001709  \n"
     ]
    },
    {
     "name": "stderr",
     "output_type": "stream",
     "text": [
      "[W pthreadpool-cpp.cc:90] Warning: Leaking Caffe2 thread-pool after fork. (function pthreadpool)\n"
     ]
    },
    {
     "name": "stdout",
     "output_type": "stream",
     "text": [
      "Epoch: [2][3418/3419] Elapsed 6m 24s (remain 0m 0s) Loss: 0.6075(0.5545) Grad: 12719.2998  LR: 0.00001707  \n"
     ]
    },
    {
     "name": "stderr",
     "output_type": "stream",
     "text": [
      "[W pthreadpool-cpp.cc:90] Warning: Leaking Caffe2 thread-pool after fork. (function pthreadpool)\n",
      "[W pthreadpool-cpp.cc:90] Warning: Leaking Caffe2 thread-pool after fork. (function pthreadpool)\n",
      "[W pthreadpool-cpp.cc:90] Warning: Leaking Caffe2 thread-pool after fork. (function pthreadpool)\n",
      "[W pthreadpool-cpp.cc:90] Warning: Leaking Caffe2 thread-pool after fork. (function pthreadpool)\n"
     ]
    },
    {
     "name": "stdout",
     "output_type": "stream",
     "text": [
      "EVAL: [0/1140] Elapsed 0m 0s (remain 3m 29s) Loss: 0.7086(0.7086) \n",
      "EVAL: [100/1140] Elapsed 0m 2s (remain 0m 29s) Loss: 0.7370(0.5532) \n",
      "EVAL: [200/1140] Elapsed 0m 5s (remain 0m 26s) Loss: 0.7031(0.5641) \n",
      "EVAL: [300/1140] Elapsed 0m 8s (remain 0m 23s) Loss: 0.5823(0.5594) \n",
      "EVAL: [400/1140] Elapsed 0m 10s (remain 0m 20s) Loss: 0.6179(0.5608) \n",
      "EVAL: [500/1140] Elapsed 0m 13s (remain 0m 17s) Loss: 0.6603(0.5575) \n",
      "EVAL: [600/1140] Elapsed 0m 16s (remain 0m 14s) Loss: 0.7271(0.5577) \n",
      "EVAL: [700/1140] Elapsed 0m 19s (remain 0m 11s) Loss: 0.5915(0.5574) \n",
      "EVAL: [800/1140] Elapsed 0m 21s (remain 0m 9s) Loss: 0.6341(0.5569) \n",
      "EVAL: [900/1140] Elapsed 0m 24s (remain 0m 6s) Loss: 0.9399(0.5572) \n",
      "EVAL: [1000/1140] Elapsed 0m 27s (remain 0m 3s) Loss: 0.4741(0.5568) \n",
      "EVAL: [1100/1140] Elapsed 0m 29s (remain 0m 1s) Loss: 0.6676(0.5576) \n"
     ]
    },
    {
     "name": "stderr",
     "output_type": "stream",
     "text": [
      "Epoch 2 - avg_train_loss: 0.5545  avg_val_loss: 0.5584  time: 415s\n",
      "Epoch 2 - Score: 0.7986\n",
      "Epoch 2 - Save Best Score: 0.7986 Model\n"
     ]
    },
    {
     "name": "stdout",
     "output_type": "stream",
     "text": [
      "EVAL: [1139/1140] Elapsed 0m 30s (remain 0m 0s) Loss: 0.5366(0.5584) \n"
     ]
    },
    {
     "name": "stderr",
     "output_type": "stream",
     "text": [
      "[W pthreadpool-cpp.cc:90] Warning: Leaking Caffe2 thread-pool after fork. (function pthreadpool)\n",
      "[W pthreadpool-cpp.cc:90] Warning: Leaking Caffe2 thread-pool after fork. (function pthreadpool)\n",
      "[W pthreadpool-cpp.cc:90] Warning: Leaking Caffe2 thread-pool after fork. (function pthreadpool)\n",
      "[W pthreadpool-cpp.cc:90] Warning: Leaking Caffe2 thread-pool after fork. (function pthreadpool)\n"
     ]
    },
    {
     "name": "stdout",
     "output_type": "stream",
     "text": [
      "Epoch: [3][0/3419] Elapsed 0m 0s (remain 18m 44s) Loss: 0.6243(0.6243) Grad: nan  LR: 0.00001707  \n",
      "Epoch: [3][100/3419] Elapsed 0m 11s (remain 6m 17s) Loss: 0.4531(0.5194) Grad: 30922.1777  LR: 0.00001699  \n",
      "Epoch: [3][200/3419] Elapsed 0m 22s (remain 6m 2s) Loss: 0.5093(0.5159) Grad: 18350.1367  LR: 0.00001691  \n",
      "Epoch: [3][300/3419] Elapsed 0m 33s (remain 5m 49s) Loss: 0.5731(0.5240) Grad: 13859.9521  LR: 0.00001682  \n",
      "Epoch: [3][400/3419] Elapsed 0m 44s (remain 5m 37s) Loss: 0.5418(0.5248) Grad: 59049.2266  LR: 0.00001674  \n",
      "Epoch: [3][500/3419] Elapsed 0m 55s (remain 5m 26s) Loss: 0.5310(0.5216) Grad: 17025.1270  LR: 0.00001665  \n",
      "Epoch: [3][600/3419] Elapsed 1m 7s (remain 5m 14s) Loss: 0.4566(0.5211) Grad: 32918.6484  LR: 0.00001657  \n",
      "Epoch: [3][700/3419] Elapsed 1m 18s (remain 5m 3s) Loss: 0.5968(0.5230) Grad: 25930.1953  LR: 0.00001648  \n",
      "Epoch: [3][800/3419] Elapsed 1m 29s (remain 4m 53s) Loss: 0.5277(0.5230) Grad: 111711.9766  LR: 0.00001639  \n",
      "Epoch: [3][900/3419] Elapsed 1m 40s (remain 4m 42s) Loss: 0.5760(0.5262) Grad: 18910.1699  LR: 0.00001630  \n",
      "Epoch: [3][1000/3419] Elapsed 1m 52s (remain 4m 30s) Loss: 0.5221(0.5267) Grad: 13832.7129  LR: 0.00001621  \n",
      "Epoch: [3][1100/3419] Elapsed 2m 3s (remain 4m 19s) Loss: 0.4725(0.5253) Grad: 5032.7808  LR: 0.00001612  \n",
      "Epoch: [3][1200/3419] Elapsed 2m 14s (remain 4m 8s) Loss: 0.4241(0.5258) Grad: 15996.4258  LR: 0.00001603  \n",
      "Epoch: [3][1300/3419] Elapsed 2m 25s (remain 3m 56s) Loss: 0.6794(0.5270) Grad: 15784.0303  LR: 0.00001594  \n",
      "Epoch: [3][1400/3419] Elapsed 2m 36s (remain 3m 45s) Loss: 0.5810(0.5276) Grad: 9432.6484  LR: 0.00001585  \n",
      "Epoch: [3][1500/3419] Elapsed 2m 47s (remain 3m 34s) Loss: 0.5743(0.5282) Grad: 9784.8047  LR: 0.00001575  \n",
      "Epoch: [3][1600/3419] Elapsed 2m 58s (remain 3m 23s) Loss: 0.3931(0.5284) Grad: 21680.8828  LR: 0.00001566  \n",
      "Epoch: [3][1700/3419] Elapsed 3m 10s (remain 3m 11s) Loss: 0.5575(0.5297) Grad: 24238.5234  LR: 0.00001556  \n",
      "Epoch: [3][1800/3419] Elapsed 3m 21s (remain 3m 0s) Loss: 0.5669(0.5305) Grad: 32395.7266  LR: 0.00001547  \n",
      "Epoch: [3][1900/3419] Elapsed 3m 32s (remain 2m 49s) Loss: 0.5791(0.5308) Grad: 36715.4375  LR: 0.00001537  \n",
      "Epoch: [3][2000/3419] Elapsed 3m 43s (remain 2m 38s) Loss: 0.4569(0.5316) Grad: 119991.8906  LR: 0.00001528  \n",
      "Epoch: [3][2100/3419] Elapsed 3m 54s (remain 2m 27s) Loss: 0.5953(0.5319) Grad: 14394.9229  LR: 0.00001518  \n",
      "Epoch: [3][2200/3419] Elapsed 4m 5s (remain 2m 15s) Loss: 0.5794(0.5320) Grad: 41191.8008  LR: 0.00001508  \n",
      "Epoch: [3][2300/3419] Elapsed 4m 17s (remain 2m 5s) Loss: 0.5656(0.5317) Grad: 11607.8096  LR: 0.00001498  \n",
      "Epoch: [3][2400/3419] Elapsed 4m 28s (remain 1m 53s) Loss: 0.3710(0.5320) Grad: 84340.6328  LR: 0.00001488  \n",
      "Epoch: [3][2500/3419] Elapsed 4m 39s (remain 1m 42s) Loss: 0.3258(0.5317) Grad: 33575.6055  LR: 0.00001478  \n",
      "Epoch: [3][2600/3419] Elapsed 4m 50s (remain 1m 31s) Loss: 0.5749(0.5319) Grad: 16167.6055  LR: 0.00001468  \n",
      "Epoch: [3][2700/3419] Elapsed 5m 2s (remain 1m 20s) Loss: 0.4178(0.5322) Grad: 118579.0000  LR: 0.00001458  \n",
      "Epoch: [3][2800/3419] Elapsed 5m 13s (remain 1m 9s) Loss: 0.4598(0.5320) Grad: 83189.5781  LR: 0.00001447  \n",
      "Epoch: [3][2900/3419] Elapsed 5m 24s (remain 0m 57s) Loss: 0.6758(0.5317) Grad: 34416.6367  LR: 0.00001437  \n",
      "Epoch: [3][3000/3419] Elapsed 5m 35s (remain 0m 46s) Loss: 0.5922(0.5321) Grad: 95566.3359  LR: 0.00001427  \n",
      "Epoch: [3][3100/3419] Elapsed 5m 47s (remain 0m 35s) Loss: 0.5111(0.5322) Grad: 36843.6172  LR: 0.00001416  \n",
      "Epoch: [3][3200/3419] Elapsed 5m 58s (remain 0m 24s) Loss: 0.5219(0.5325) Grad: 144392.3438  LR: 0.00001406  \n",
      "Epoch: [3][3300/3419] Elapsed 6m 10s (remain 0m 13s) Loss: 0.6109(0.5331) Grad: 20568.4434  LR: 0.00001395  \n",
      "Epoch: [3][3400/3419] Elapsed 6m 21s (remain 0m 2s) Loss: 0.2820(0.5327) Grad: 19639.9727  LR: 0.00001385  \n"
     ]
    },
    {
     "name": "stderr",
     "output_type": "stream",
     "text": [
      "[W pthreadpool-cpp.cc:90] Warning: Leaking Caffe2 thread-pool after fork. (function pthreadpool)\n"
     ]
    },
    {
     "name": "stdout",
     "output_type": "stream",
     "text": [
      "Epoch: [3][3418/3419] Elapsed 6m 23s (remain 0m 0s) Loss: 0.6751(0.5329) Grad: 16175.2998  LR: 0.00001383  \n"
     ]
    },
    {
     "name": "stderr",
     "output_type": "stream",
     "text": [
      "[W pthreadpool-cpp.cc:90] Warning: Leaking Caffe2 thread-pool after fork. (function pthreadpool)\n",
      "[W pthreadpool-cpp.cc:90] Warning: Leaking Caffe2 thread-pool after fork. (function pthreadpool)\n",
      "[W pthreadpool-cpp.cc:90] Warning: Leaking Caffe2 thread-pool after fork. (function pthreadpool)\n",
      "[W pthreadpool-cpp.cc:90] Warning: Leaking Caffe2 thread-pool after fork. (function pthreadpool)\n"
     ]
    },
    {
     "name": "stdout",
     "output_type": "stream",
     "text": [
      "EVAL: [0/1140] Elapsed 0m 0s (remain 3m 17s) Loss: 0.5938(0.5938) \n",
      "EVAL: [100/1140] Elapsed 0m 2s (remain 0m 30s) Loss: 0.6829(0.5423) \n",
      "EVAL: [200/1140] Elapsed 0m 5s (remain 0m 27s) Loss: 0.6988(0.5535) \n",
      "EVAL: [300/1140] Elapsed 0m 8s (remain 0m 23s) Loss: 0.5291(0.5504) \n",
      "EVAL: [400/1140] Elapsed 0m 11s (remain 0m 20s) Loss: 0.5847(0.5522) \n",
      "EVAL: [500/1140] Elapsed 0m 13s (remain 0m 17s) Loss: 0.6583(0.5503) \n",
      "EVAL: [600/1140] Elapsed 0m 16s (remain 0m 14s) Loss: 0.7094(0.5497) \n",
      "EVAL: [700/1140] Elapsed 0m 19s (remain 0m 12s) Loss: 0.5915(0.5493) \n",
      "EVAL: [800/1140] Elapsed 0m 22s (remain 0m 9s) Loss: 0.6606(0.5477) \n",
      "EVAL: [900/1140] Elapsed 0m 24s (remain 0m 6s) Loss: 0.8073(0.5485) \n",
      "EVAL: [1000/1140] Elapsed 0m 27s (remain 0m 3s) Loss: 0.4987(0.5489) \n",
      "EVAL: [1100/1140] Elapsed 0m 30s (remain 0m 1s) Loss: 0.6463(0.5499) \n"
     ]
    },
    {
     "name": "stderr",
     "output_type": "stream",
     "text": [
      "Epoch 3 - avg_train_loss: 0.5329  avg_val_loss: 0.5510  time: 414s\n"
     ]
    },
    {
     "name": "stdout",
     "output_type": "stream",
     "text": [
      "EVAL: [1139/1140] Elapsed 0m 31s (remain 0m 0s) Loss: 0.5292(0.5510) \n"
     ]
    },
    {
     "name": "stderr",
     "output_type": "stream",
     "text": [
      "Epoch 3 - Score: 0.8064\n",
      "Epoch 3 - Save Best Score: 0.8064 Model\n",
      "[W pthreadpool-cpp.cc:90] Warning: Leaking Caffe2 thread-pool after fork. (function pthreadpool)\n",
      "[W pthreadpool-cpp.cc:90] Warning: Leaking Caffe2 thread-pool after fork. (function pthreadpool)\n",
      "[W pthreadpool-cpp.cc:90] Warning: Leaking Caffe2 thread-pool after fork. (function pthreadpool)\n",
      "[W pthreadpool-cpp.cc:90] Warning: Leaking Caffe2 thread-pool after fork. (function pthreadpool)\n"
     ]
    },
    {
     "name": "stdout",
     "output_type": "stream",
     "text": [
      "Epoch: [4][0/3419] Elapsed 0m 0s (remain 21m 25s) Loss: 0.5376(0.5376) Grad: 50829.8789  LR: 0.00001383  \n",
      "Epoch: [4][100/3419] Elapsed 0m 11s (remain 6m 19s) Loss: 0.5547(0.5167) Grad: 124736.8828  LR: 0.00001372  \n",
      "Epoch: [4][200/3419] Elapsed 0m 22s (remain 6m 2s) Loss: 0.2493(0.5157) Grad: 50381.8320  LR: 0.00001361  \n",
      "Epoch: [4][300/3419] Elapsed 0m 33s (remain 5m 49s) Loss: 0.5127(0.5192) Grad: 78207.4219  LR: 0.00001351  \n",
      "Epoch: [4][400/3419] Elapsed 0m 44s (remain 5m 37s) Loss: 0.6533(0.5173) Grad: 18491.5176  LR: 0.00001340  \n",
      "Epoch: [4][500/3419] Elapsed 0m 55s (remain 5m 26s) Loss: 0.5640(0.5176) Grad: 62916.4805  LR: 0.00001329  \n",
      "Epoch: [4][600/3419] Elapsed 1m 7s (remain 5m 14s) Loss: 0.3338(0.5167) Grad: 48568.1992  LR: 0.00001318  \n",
      "Epoch: [4][700/3419] Elapsed 1m 18s (remain 5m 3s) Loss: 0.6316(0.5198) Grad: 14093.4951  LR: 0.00001307  \n",
      "Epoch: [4][800/3419] Elapsed 1m 29s (remain 4m 52s) Loss: 0.3447(0.5201) Grad: 18364.6953  LR: 0.00001296  \n",
      "Epoch: [4][900/3419] Elapsed 1m 40s (remain 4m 41s) Loss: 0.7181(0.5219) Grad: 19360.6934  LR: 0.00001285  \n",
      "Epoch: [4][1000/3419] Elapsed 1m 51s (remain 4m 30s) Loss: 0.6250(0.5227) Grad: 32855.7734  LR: 0.00001274  \n",
      "Epoch: [4][1100/3419] Elapsed 2m 3s (remain 4m 18s) Loss: 0.5966(0.5224) Grad: 25980.3867  LR: 0.00001263  \n",
      "Epoch: [4][1200/3419] Elapsed 2m 14s (remain 4m 7s) Loss: 0.3253(0.5224) Grad: 48551.7852  LR: 0.00001252  \n",
      "Epoch: [4][1300/3419] Elapsed 2m 25s (remain 3m 57s) Loss: 0.6537(0.5240) Grad: 13454.1113  LR: 0.00001241  \n",
      "Epoch: [4][1400/3419] Elapsed 2m 36s (remain 3m 46s) Loss: 0.5959(0.5237) Grad: 13570.3174  LR: 0.00001230  \n",
      "Epoch: [4][1500/3419] Elapsed 2m 48s (remain 3m 34s) Loss: 0.6610(0.5236) Grad: 12546.3506  LR: 0.00001219  \n",
      "Epoch: [4][1600/3419] Elapsed 2m 59s (remain 3m 23s) Loss: 0.3616(0.5225) Grad: 178763.9688  LR: 0.00001207  \n",
      "Epoch: [4][1700/3419] Elapsed 3m 10s (remain 3m 12s) Loss: 0.6496(0.5226) Grad: 36905.3906  LR: 0.00001196  \n",
      "Epoch: [4][1800/3419] Elapsed 3m 21s (remain 3m 1s) Loss: 0.5167(0.5235) Grad: 29674.1973  LR: 0.00001185  \n",
      "Epoch: [4][1900/3419] Elapsed 3m 33s (remain 2m 50s) Loss: 0.6369(0.5236) Grad: 17217.7207  LR: 0.00001174  \n",
      "Epoch: [4][2000/3419] Elapsed 3m 44s (remain 2m 39s) Loss: 0.6435(0.5241) Grad: 10831.9238  LR: 0.00001162  \n",
      "Epoch: [4][2100/3419] Elapsed 3m 55s (remain 2m 27s) Loss: 0.4856(0.5246) Grad: 10267.7754  LR: 0.00001151  \n",
      "Epoch: [4][2200/3419] Elapsed 4m 6s (remain 2m 16s) Loss: 0.6521(0.5251) Grad: 25556.7188  LR: 0.00001140  \n",
      "Epoch: [4][2300/3419] Elapsed 4m 17s (remain 2m 5s) Loss: 0.5604(0.5249) Grad: 105899.6641  LR: 0.00001128  \n",
      "Epoch: [4][2400/3419] Elapsed 4m 29s (remain 1m 54s) Loss: 0.4915(0.5251) Grad: 37304.1914  LR: 0.00001117  \n",
      "Epoch: [4][2500/3419] Elapsed 4m 40s (remain 1m 43s) Loss: 0.5470(0.5251) Grad: 165621.8438  LR: 0.00001105  \n",
      "Epoch: [4][2600/3419] Elapsed 4m 51s (remain 1m 31s) Loss: 0.4483(0.5245) Grad: 85216.1641  LR: 0.00001094  \n",
      "Epoch: [4][2700/3419] Elapsed 5m 2s (remain 1m 20s) Loss: 0.4444(0.5243) Grad: 2352.0955  LR: 0.00001083  \n",
      "Epoch: [4][2800/3419] Elapsed 5m 14s (remain 1m 9s) Loss: 0.5843(0.5238) Grad: 184734.9062  LR: 0.00001071  \n",
      "Epoch: [4][2900/3419] Elapsed 5m 25s (remain 0m 58s) Loss: 0.3414(0.5237) Grad: 10906.8730  LR: 0.00001060  \n",
      "Epoch: [4][3000/3419] Elapsed 5m 36s (remain 0m 46s) Loss: 0.5547(0.5239) Grad: 15651.0859  LR: 0.00001048  \n",
      "Epoch: [4][3100/3419] Elapsed 5m 47s (remain 0m 35s) Loss: 0.5314(0.5239) Grad: 7320.7095  LR: 0.00001037  \n",
      "Epoch: [4][3200/3419] Elapsed 5m 58s (remain 0m 24s) Loss: 0.6517(0.5240) Grad: 12579.7803  LR: 0.00001025  \n",
      "Epoch: [4][3300/3419] Elapsed 6m 9s (remain 0m 13s) Loss: 0.4263(0.5243) Grad: 18572.7676  LR: 0.00001014  \n",
      "Epoch: [4][3400/3419] Elapsed 6m 21s (remain 0m 2s) Loss: 0.4890(0.5240) Grad: 33626.4258  LR: 0.00001002  \n",
      "Epoch: [4][3418/3419] Elapsed 6m 23s (remain 0m 0s) Loss: 0.3899(0.5240) Grad: 26000.2480  LR: 0.00001000  \n"
     ]
    },
    {
     "name": "stderr",
     "output_type": "stream",
     "text": [
      "[W pthreadpool-cpp.cc:90] Warning: Leaking Caffe2 thread-pool after fork. (function pthreadpool)\n",
      "[W pthreadpool-cpp.cc:90] Warning: Leaking Caffe2 thread-pool after fork. (function pthreadpool)\n",
      "[W pthreadpool-cpp.cc:90] Warning: Leaking Caffe2 thread-pool after fork. (function pthreadpool)\n",
      "[W pthreadpool-cpp.cc:90] Warning: Leaking Caffe2 thread-pool after fork. (function pthreadpool)\n"
     ]
    },
    {
     "name": "stdout",
     "output_type": "stream",
     "text": [
      "EVAL: [0/1140] Elapsed 0m 0s (remain 3m 24s) Loss: 0.7681(0.7681) \n",
      "EVAL: [100/1140] Elapsed 0m 2s (remain 0m 29s) Loss: 0.7090(0.5444) \n",
      "EVAL: [200/1140] Elapsed 0m 5s (remain 0m 26s) Loss: 0.6954(0.5604) \n",
      "EVAL: [300/1140] Elapsed 0m 8s (remain 0m 23s) Loss: 0.5026(0.5553) \n",
      "EVAL: [400/1140] Elapsed 0m 10s (remain 0m 20s) Loss: 0.5993(0.5567) \n",
      "EVAL: [500/1140] Elapsed 0m 13s (remain 0m 17s) Loss: 0.6678(0.5526) \n",
      "EVAL: [600/1140] Elapsed 0m 16s (remain 0m 14s) Loss: 0.8654(0.5530) \n",
      "EVAL: [700/1140] Elapsed 0m 19s (remain 0m 11s) Loss: 0.5943(0.5526) \n",
      "EVAL: [800/1140] Elapsed 0m 21s (remain 0m 9s) Loss: 0.6136(0.5531) \n",
      "EVAL: [900/1140] Elapsed 0m 24s (remain 0m 6s) Loss: 0.8857(0.5537) \n",
      "EVAL: [1000/1140] Elapsed 0m 27s (remain 0m 3s) Loss: 0.5333(0.5532) \n",
      "EVAL: [1100/1140] Elapsed 0m 29s (remain 0m 1s) Loss: 0.6616(0.5539) \n"
     ]
    },
    {
     "name": "stderr",
     "output_type": "stream",
     "text": [
      "Epoch 4 - avg_train_loss: 0.5240  avg_val_loss: 0.5547  time: 414s\n",
      "Epoch 4 - Score: 0.8154\n",
      "Epoch 4 - Save Best Score: 0.8154 Model\n"
     ]
    },
    {
     "name": "stdout",
     "output_type": "stream",
     "text": [
      "EVAL: [1139/1140] Elapsed 0m 30s (remain 0m 0s) Loss: 0.4963(0.5547) \n"
     ]
    },
    {
     "name": "stderr",
     "output_type": "stream",
     "text": [
      "[W pthreadpool-cpp.cc:90] Warning: Leaking Caffe2 thread-pool after fork. (function pthreadpool)\n",
      "[W pthreadpool-cpp.cc:90] Warning: Leaking Caffe2 thread-pool after fork. (function pthreadpool)\n",
      "[W pthreadpool-cpp.cc:90] Warning: Leaking Caffe2 thread-pool after fork. (function pthreadpool)\n",
      "[W pthreadpool-cpp.cc:90] Warning: Leaking Caffe2 thread-pool after fork. (function pthreadpool)\n"
     ]
    },
    {
     "name": "stdout",
     "output_type": "stream",
     "text": [
      "Epoch: [5][0/3419] Elapsed 0m 0s (remain 19m 59s) Loss: 0.4201(0.4201) Grad: 321529.9375  LR: 0.00001000  \n",
      "Epoch: [5][100/3419] Elapsed 0m 11s (remain 6m 16s) Loss: 0.6443(0.5185) Grad: 22794.4531  LR: 0.00000989  \n",
      "Epoch: [5][200/3419] Elapsed 0m 22s (remain 6m 1s) Loss: 0.5233(0.5145) Grad: 7457.7168  LR: 0.00000977  \n",
      "Epoch: [5][300/3419] Elapsed 0m 33s (remain 5m 48s) Loss: 0.4996(0.5207) Grad: 18799.0000  LR: 0.00000966  \n",
      "Epoch: [5][400/3419] Elapsed 0m 44s (remain 5m 36s) Loss: 0.4172(0.5162) Grad: 17483.8105  LR: 0.00000954  \n",
      "Epoch: [5][500/3419] Elapsed 0m 55s (remain 5m 25s) Loss: 0.5516(0.5188) Grad: 23576.0996  LR: 0.00000943  \n",
      "Epoch: [5][600/3419] Elapsed 1m 6s (remain 5m 14s) Loss: 0.6147(0.5193) Grad: 6995.7280  LR: 0.00000931  \n",
      "Epoch: [5][700/3419] Elapsed 1m 18s (remain 5m 2s) Loss: 0.4115(0.5177) Grad: 5922.7178  LR: 0.00000920  \n",
      "Epoch: [5][800/3419] Elapsed 1m 29s (remain 4m 51s) Loss: 0.2548(0.5166) Grad: 39349.1914  LR: 0.00000908  \n",
      "Epoch: [5][900/3419] Elapsed 1m 40s (remain 4m 40s) Loss: 0.4607(0.5172) Grad: 6606.4277  LR: 0.00000897  \n",
      "Epoch: [5][1000/3419] Elapsed 1m 51s (remain 4m 29s) Loss: 0.4942(0.5150) Grad: 5904.3394  LR: 0.00000885  \n",
      "Epoch: [5][1100/3419] Elapsed 2m 2s (remain 4m 17s) Loss: 0.5211(0.5157) Grad: 14585.3682  LR: 0.00000874  \n",
      "Epoch: [5][1200/3419] Elapsed 2m 13s (remain 4m 6s) Loss: 0.4891(0.5159) Grad: 6789.5825  LR: 0.00000863  \n",
      "Epoch: [5][1300/3419] Elapsed 2m 24s (remain 3m 55s) Loss: 0.5109(0.5151) Grad: 93741.3672  LR: 0.00000851  \n",
      "Epoch: [5][1400/3419] Elapsed 2m 36s (remain 3m 45s) Loss: 0.5765(0.5155) Grad: 16249.9463  LR: 0.00000840  \n",
      "Epoch: [5][1500/3419] Elapsed 2m 47s (remain 3m 34s) Loss: 0.4699(0.5154) Grad: 12761.2666  LR: 0.00000829  \n",
      "Epoch: [5][1600/3419] Elapsed 2m 58s (remain 3m 22s) Loss: 0.5712(0.5155) Grad: 16836.3008  LR: 0.00000817  \n",
      "Epoch: [5][1700/3419] Elapsed 3m 9s (remain 3m 11s) Loss: 0.5201(0.5156) Grad: 24893.5723  LR: 0.00000806  \n",
      "Epoch: [5][1800/3419] Elapsed 3m 21s (remain 3m 0s) Loss: 0.5330(0.5150) Grad: 22865.5879  LR: 0.00000795  \n",
      "Epoch: [5][1900/3419] Elapsed 3m 32s (remain 2m 49s) Loss: 0.5169(0.5147) Grad: 38108.5977  LR: 0.00000784  \n",
      "Epoch: [5][2000/3419] Elapsed 3m 43s (remain 2m 38s) Loss: 0.4990(0.5144) Grad: 23923.5430  LR: 0.00000772  \n",
      "Epoch: [5][2100/3419] Elapsed 3m 54s (remain 2m 27s) Loss: 0.3284(0.5138) Grad: 20430.5332  LR: 0.00000761  \n",
      "Epoch: [5][2200/3419] Elapsed 4m 5s (remain 2m 15s) Loss: 0.5710(0.5133) Grad: 16729.1094  LR: 0.00000750  \n",
      "Epoch: [5][2300/3419] Elapsed 4m 16s (remain 2m 4s) Loss: 0.4749(0.5134) Grad: 4638.0127  LR: 0.00000739  \n",
      "Epoch: [5][2400/3419] Elapsed 4m 27s (remain 1m 53s) Loss: 0.3957(0.5136) Grad: 6867.5225  LR: 0.00000728  \n",
      "Epoch: [5][2500/3419] Elapsed 4m 38s (remain 1m 42s) Loss: 0.4197(0.5137) Grad: 6138.5605  LR: 0.00000717  \n",
      "Epoch: [5][2600/3419] Elapsed 4m 50s (remain 1m 31s) Loss: 0.6357(0.5141) Grad: 7575.0161  LR: 0.00000706  \n",
      "Epoch: [5][2700/3419] Elapsed 5m 1s (remain 1m 20s) Loss: 0.5103(0.5146) Grad: 65345.3672  LR: 0.00000695  \n",
      "Epoch: [5][2800/3419] Elapsed 5m 12s (remain 1m 9s) Loss: 0.4254(0.5150) Grad: 1701.5118  LR: 0.00000684  \n",
      "Epoch: [5][2900/3419] Elapsed 5m 24s (remain 0m 57s) Loss: 0.5532(0.5155) Grad: 5270.7485  LR: 0.00000673  \n",
      "Epoch: [5][3000/3419] Elapsed 5m 35s (remain 0m 46s) Loss: 0.4082(0.5152) Grad: 5528.8765  LR: 0.00000662  \n",
      "Epoch: [5][3100/3419] Elapsed 5m 46s (remain 0m 35s) Loss: 0.5920(0.5155) Grad: 20209.0742  LR: 0.00000652  \n",
      "Epoch: [5][3200/3419] Elapsed 5m 57s (remain 0m 24s) Loss: 0.5034(0.5161) Grad: 9624.7549  LR: 0.00000641  \n",
      "Epoch: [5][3300/3419] Elapsed 6m 8s (remain 0m 13s) Loss: 0.7846(0.5161) Grad: 6027.5796  LR: 0.00000630  \n",
      "Epoch: [5][3400/3419] Elapsed 6m 19s (remain 0m 2s) Loss: 0.5953(0.5160) Grad: 42942.8477  LR: 0.00000619  \n",
      "Epoch: [5][3418/3419] Elapsed 6m 21s (remain 0m 0s) Loss: 0.4496(0.5158) Grad: 4889.2490  LR: 0.00000618  \n"
     ]
    },
    {
     "name": "stderr",
     "output_type": "stream",
     "text": [
      "[W pthreadpool-cpp.cc:90] Warning: Leaking Caffe2 thread-pool after fork. (function pthreadpool)\n",
      "[W pthreadpool-cpp.cc:90] Warning: Leaking Caffe2 thread-pool after fork. (function pthreadpool)\n",
      "[W pthreadpool-cpp.cc:90] Warning: Leaking Caffe2 thread-pool after fork. (function pthreadpool)\n",
      "[W pthreadpool-cpp.cc:90] Warning: Leaking Caffe2 thread-pool after fork. (function pthreadpool)\n"
     ]
    },
    {
     "name": "stdout",
     "output_type": "stream",
     "text": [
      "EVAL: [0/1140] Elapsed 0m 0s (remain 3m 26s) Loss: 0.7920(0.7920) \n",
      "EVAL: [100/1140] Elapsed 0m 2s (remain 0m 29s) Loss: 0.6856(0.5469) \n",
      "EVAL: [200/1140] Elapsed 0m 5s (remain 0m 26s) Loss: 0.7009(0.5695) \n",
      "EVAL: [300/1140] Elapsed 0m 8s (remain 0m 23s) Loss: 0.5492(0.5602) \n",
      "EVAL: [400/1140] Elapsed 0m 10s (remain 0m 20s) Loss: 0.6106(0.5617) \n",
      "EVAL: [500/1140] Elapsed 0m 13s (remain 0m 17s) Loss: 0.6528(0.5593) \n",
      "EVAL: [600/1140] Elapsed 0m 16s (remain 0m 14s) Loss: 0.6687(0.5592) \n",
      "EVAL: [700/1140] Elapsed 0m 19s (remain 0m 11s) Loss: 0.5069(0.5595) \n",
      "EVAL: [800/1140] Elapsed 0m 21s (remain 0m 9s) Loss: 0.6174(0.5613) \n",
      "EVAL: [900/1140] Elapsed 0m 24s (remain 0m 6s) Loss: 1.1931(0.5617) \n",
      "EVAL: [1000/1140] Elapsed 0m 27s (remain 0m 3s) Loss: 0.5768(0.5614) \n",
      "EVAL: [1100/1140] Elapsed 0m 29s (remain 0m 1s) Loss: 0.6490(0.5618) \n"
     ]
    },
    {
     "name": "stderr",
     "output_type": "stream",
     "text": [
      "Epoch 5 - avg_train_loss: 0.5158  avg_val_loss: 0.5624  time: 413s\n",
      "Epoch 5 - Score: 0.8139\n"
     ]
    },
    {
     "name": "stdout",
     "output_type": "stream",
     "text": [
      "EVAL: [1139/1140] Elapsed 0m 30s (remain 0m 0s) Loss: 0.4954(0.5624) \n"
     ]
    },
    {
     "name": "stderr",
     "output_type": "stream",
     "text": [
      "[W pthreadpool-cpp.cc:90] Warning: Leaking Caffe2 thread-pool after fork. (function pthreadpool)\n",
      "[W pthreadpool-cpp.cc:90] Warning: Leaking Caffe2 thread-pool after fork. (function pthreadpool)\n",
      "[W pthreadpool-cpp.cc:90] Warning: Leaking Caffe2 thread-pool after fork. (function pthreadpool)\n",
      "[W pthreadpool-cpp.cc:90] Warning: Leaking Caffe2 thread-pool after fork. (function pthreadpool)\n"
     ]
    },
    {
     "name": "stdout",
     "output_type": "stream",
     "text": [
      "Epoch: [6][0/3419] Elapsed 0m 0s (remain 13m 45s) Loss: 0.6384(0.6384) Grad: 85433.6875  LR: 0.00000617  \n",
      "Epoch: [6][100/3419] Elapsed 0m 11s (remain 6m 11s) Loss: 0.4064(0.5150) Grad: 25988.5625  LR: 0.00000607  \n",
      "Epoch: [6][200/3419] Elapsed 0m 22s (remain 5m 59s) Loss: 0.5448(0.5097) Grad: 21050.1641  LR: 0.00000596  \n",
      "Epoch: [6][300/3419] Elapsed 0m 33s (remain 5m 47s) Loss: 0.6053(0.5104) Grad: 29549.4121  LR: 0.00000586  \n",
      "Epoch: [6][400/3419] Elapsed 0m 44s (remain 5m 36s) Loss: 0.4646(0.5088) Grad: 7514.2153  LR: 0.00000575  \n",
      "Epoch: [6][500/3419] Elapsed 0m 55s (remain 5m 25s) Loss: 0.5212(0.5090) Grad: 19361.8750  LR: 0.00000565  \n",
      "Epoch: [6][600/3419] Elapsed 1m 6s (remain 5m 13s) Loss: 0.5217(0.5094) Grad: 21669.4824  LR: 0.00000555  \n",
      "Epoch: [6][700/3419] Elapsed 1m 18s (remain 5m 2s) Loss: 0.6073(0.5100) Grad: 27641.1387  LR: 0.00000544  \n",
      "Epoch: [6][800/3419] Elapsed 1m 29s (remain 4m 51s) Loss: 0.4168(0.5080) Grad: 7166.8613  LR: 0.00000534  \n",
      "Epoch: [6][900/3419] Elapsed 1m 40s (remain 4m 42s) Loss: 0.5514(0.5080) Grad: 22600.4785  LR: 0.00000524  \n",
      "Epoch: [6][1000/3419] Elapsed 1m 52s (remain 4m 30s) Loss: 0.5616(0.5090) Grad: 6410.0659  LR: 0.00000514  \n",
      "Epoch: [6][1100/3419] Elapsed 2m 3s (remain 4m 19s) Loss: 0.4532(0.5085) Grad: 14494.0273  LR: 0.00000504  \n",
      "Epoch: [6][1200/3419] Elapsed 2m 14s (remain 4m 7s) Loss: 0.6666(0.5087) Grad: 14420.2246  LR: 0.00000494  \n",
      "Epoch: [6][1300/3419] Elapsed 2m 25s (remain 3m 56s) Loss: 0.4698(0.5088) Grad: 17319.7637  LR: 0.00000484  \n",
      "Epoch: [6][1400/3419] Elapsed 2m 36s (remain 3m 45s) Loss: 0.5994(0.5090) Grad: 15492.2246  LR: 0.00000474  \n",
      "Epoch: [6][1500/3419] Elapsed 2m 47s (remain 3m 34s) Loss: 0.5502(0.5088) Grad: 24647.1113  LR: 0.00000465  \n",
      "Epoch: [6][1600/3419] Elapsed 2m 58s (remain 3m 22s) Loss: 0.4543(0.5090) Grad: 118950.2031  LR: 0.00000455  \n",
      "Epoch: [6][1700/3419] Elapsed 3m 9s (remain 3m 11s) Loss: 0.5132(0.5090) Grad: 23232.1484  LR: 0.00000445  \n",
      "Epoch: [6][1800/3419] Elapsed 3m 20s (remain 3m 0s) Loss: 0.5107(0.5095) Grad: 17073.7578  LR: 0.00000436  \n",
      "Epoch: [6][1900/3419] Elapsed 3m 32s (remain 2m 49s) Loss: 0.4423(0.5088) Grad: 32918.2930  LR: 0.00000426  \n",
      "Epoch: [6][2000/3419] Elapsed 3m 43s (remain 2m 38s) Loss: 0.5701(0.5087) Grad: 11919.5654  LR: 0.00000417  \n",
      "Epoch: [6][2100/3419] Elapsed 3m 54s (remain 2m 26s) Loss: 0.4070(0.5090) Grad: 6021.6006  LR: 0.00000408  \n",
      "Epoch: [6][2200/3419] Elapsed 4m 5s (remain 2m 15s) Loss: 0.4608(0.5085) Grad: 10195.6123  LR: 0.00000399  \n",
      "Epoch: [6][2300/3419] Elapsed 4m 16s (remain 2m 4s) Loss: 0.3428(0.5082) Grad: 25731.4727  LR: 0.00000389  \n",
      "Epoch: [6][2400/3419] Elapsed 4m 28s (remain 1m 53s) Loss: 0.5632(0.5080) Grad: 13824.5928  LR: 0.00000380  \n",
      "Epoch: [6][2500/3419] Elapsed 4m 39s (remain 1m 42s) Loss: 0.3917(0.5077) Grad: 11859.3203  LR: 0.00000371  \n",
      "Epoch: [6][2600/3419] Elapsed 4m 50s (remain 1m 31s) Loss: 0.4296(0.5081) Grad: 171594.6406  LR: 0.00000363  \n",
      "Epoch: [6][2700/3419] Elapsed 5m 1s (remain 1m 20s) Loss: 0.5875(0.5083) Grad: 26094.2773  LR: 0.00000354  \n",
      "Epoch: [6][2800/3419] Elapsed 5m 12s (remain 1m 8s) Loss: 0.5390(0.5080) Grad: 19833.0938  LR: 0.00000345  \n",
      "Epoch: [6][2900/3419] Elapsed 5m 23s (remain 0m 57s) Loss: 0.5693(0.5084) Grad: 40502.1094  LR: 0.00000336  \n",
      "Epoch: [6][3000/3419] Elapsed 5m 34s (remain 0m 46s) Loss: 0.4861(0.5084) Grad: 12241.7979  LR: 0.00000328  \n",
      "Epoch: [6][3100/3419] Elapsed 5m 45s (remain 0m 35s) Loss: 0.6566(0.5090) Grad: 4969.2983  LR: 0.00000319  \n",
      "Epoch: [6][3200/3419] Elapsed 5m 56s (remain 0m 24s) Loss: 0.3593(0.5096) Grad: 31034.9043  LR: 0.00000311  \n",
      "Epoch: [6][3300/3419] Elapsed 6m 8s (remain 0m 13s) Loss: 0.4082(0.5093) Grad: 19684.6953  LR: 0.00000303  \n",
      "Epoch: [6][3400/3419] Elapsed 6m 19s (remain 0m 2s) Loss: 0.5263(0.5088) Grad: 59925.2773  LR: 0.00000295  \n"
     ]
    },
    {
     "name": "stderr",
     "output_type": "stream",
     "text": [
      "[W pthreadpool-cpp.cc:90] Warning: Leaking Caffe2 thread-pool after fork. (function pthreadpool)\n"
     ]
    },
    {
     "name": "stdout",
     "output_type": "stream",
     "text": [
      "Epoch: [6][3418/3419] Elapsed 6m 21s (remain 0m 0s) Loss: 0.4821(0.5087) Grad: 12348.2510  LR: 0.00000293  \n"
     ]
    },
    {
     "name": "stderr",
     "output_type": "stream",
     "text": [
      "[W pthreadpool-cpp.cc:90] Warning: Leaking Caffe2 thread-pool after fork. (function pthreadpool)\n",
      "[W pthreadpool-cpp.cc:90] Warning: Leaking Caffe2 thread-pool after fork. (function pthreadpool)\n",
      "[W pthreadpool-cpp.cc:90] Warning: Leaking Caffe2 thread-pool after fork. (function pthreadpool)\n",
      "[W pthreadpool-cpp.cc:90] Warning: Leaking Caffe2 thread-pool after fork. (function pthreadpool)\n"
     ]
    },
    {
     "name": "stdout",
     "output_type": "stream",
     "text": [
      "EVAL: [0/1140] Elapsed 0m 0s (remain 3m 16s) Loss: 0.7951(0.7951) \n",
      "EVAL: [100/1140] Elapsed 0m 2s (remain 0m 29s) Loss: 0.6862(0.5419) \n",
      "EVAL: [200/1140] Elapsed 0m 5s (remain 0m 25s) Loss: 0.6981(0.5577) \n",
      "EVAL: [300/1140] Elapsed 0m 8s (remain 0m 23s) Loss: 0.4948(0.5520) \n",
      "EVAL: [400/1140] Elapsed 0m 10s (remain 0m 20s) Loss: 0.6714(0.5547) \n",
      "EVAL: [500/1140] Elapsed 0m 13s (remain 0m 17s) Loss: 0.6499(0.5511) \n",
      "EVAL: [600/1140] Elapsed 0m 16s (remain 0m 14s) Loss: 0.7351(0.5515) \n",
      "EVAL: [700/1140] Elapsed 0m 19s (remain 0m 11s) Loss: 0.5764(0.5508) \n",
      "EVAL: [800/1140] Elapsed 0m 21s (remain 0m 9s) Loss: 0.6124(0.5511) \n",
      "EVAL: [900/1140] Elapsed 0m 24s (remain 0m 6s) Loss: 0.8101(0.5517) \n",
      "EVAL: [1000/1140] Elapsed 0m 27s (remain 0m 3s) Loss: 0.5833(0.5517) \n",
      "EVAL: [1100/1140] Elapsed 0m 29s (remain 0m 1s) Loss: 0.6512(0.5521) \n"
     ]
    },
    {
     "name": "stderr",
     "output_type": "stream",
     "text": [
      "Epoch 6 - avg_train_loss: 0.5087  avg_val_loss: 0.5527  time: 412s\n",
      "Epoch 6 - Score: 0.8225\n",
      "Epoch 6 - Save Best Score: 0.8225 Model\n"
     ]
    },
    {
     "name": "stdout",
     "output_type": "stream",
     "text": [
      "EVAL: [1139/1140] Elapsed 0m 30s (remain 0m 0s) Loss: 0.5023(0.5527) \n"
     ]
    },
    {
     "name": "stderr",
     "output_type": "stream",
     "text": [
      "[W pthreadpool-cpp.cc:90] Warning: Leaking Caffe2 thread-pool after fork. (function pthreadpool)\n",
      "[W pthreadpool-cpp.cc:90] Warning: Leaking Caffe2 thread-pool after fork. (function pthreadpool)\n",
      "[W pthreadpool-cpp.cc:90] Warning: Leaking Caffe2 thread-pool after fork. (function pthreadpool)\n",
      "[W pthreadpool-cpp.cc:90] Warning: Leaking Caffe2 thread-pool after fork. (function pthreadpool)\n"
     ]
    },
    {
     "name": "stdout",
     "output_type": "stream",
     "text": [
      "Epoch: [7][0/3419] Elapsed 0m 0s (remain 20m 49s) Loss: 0.5580(0.5580) Grad: 160868.9531  LR: 0.00000293  \n",
      "Epoch: [7][100/3419] Elapsed 0m 11s (remain 6m 15s) Loss: 0.5141(0.5060) Grad: 10544.5225  LR: 0.00000285  \n",
      "Epoch: [7][200/3419] Elapsed 0m 22s (remain 6m 0s) Loss: 0.4428(0.5002) Grad: 31654.1660  LR: 0.00000277  \n",
      "Epoch: [7][300/3419] Elapsed 0m 33s (remain 5m 48s) Loss: 0.4287(0.5027) Grad: 12950.2822  LR: 0.00000269  \n",
      "Epoch: [7][400/3419] Elapsed 0m 44s (remain 5m 36s) Loss: 0.4105(0.5028) Grad: 23244.9160  LR: 0.00000261  \n",
      "Epoch: [7][500/3419] Elapsed 0m 55s (remain 5m 25s) Loss: 0.3355(0.5015) Grad: 302039.4062  LR: 0.00000254  \n",
      "Epoch: [7][600/3419] Elapsed 1m 7s (remain 5m 16s) Loss: 0.3732(0.5015) Grad: 3491.5947  LR: 0.00000246  \n",
      "Epoch: [7][700/3419] Elapsed 1m 18s (remain 5m 4s) Loss: 0.3475(0.5027) Grad: 32705.9961  LR: 0.00000238  \n",
      "Epoch: [7][800/3419] Elapsed 1m 29s (remain 4m 53s) Loss: 0.4756(0.5026) Grad: 3321.7441  LR: 0.00000231  \n",
      "Epoch: [7][900/3419] Elapsed 1m 40s (remain 4m 41s) Loss: 0.5152(0.5040) Grad: 81535.5391  LR: 0.00000224  \n",
      "Epoch: [7][1000/3419] Elapsed 1m 52s (remain 4m 30s) Loss: 0.4332(0.5038) Grad: 12682.1689  LR: 0.00000217  \n",
      "Epoch: [7][1100/3419] Elapsed 2m 3s (remain 4m 19s) Loss: 0.5812(0.5055) Grad: 17675.2852  LR: 0.00000210  \n",
      "Epoch: [7][1200/3419] Elapsed 2m 14s (remain 4m 7s) Loss: 0.4801(0.5050) Grad: 55146.4961  LR: 0.00000203  \n",
      "Epoch: [7][1300/3419] Elapsed 2m 25s (remain 3m 56s) Loss: 0.5379(0.5061) Grad: 9090.7930  LR: 0.00000196  \n",
      "Epoch: [7][1400/3419] Elapsed 2m 36s (remain 3m 45s) Loss: 0.5732(0.5061) Grad: 22532.4980  LR: 0.00000189  \n",
      "Epoch: [7][1500/3419] Elapsed 2m 47s (remain 3m 34s) Loss: 0.5629(0.5064) Grad: 74715.3906  LR: 0.00000182  \n",
      "Epoch: [7][1600/3419] Elapsed 2m 58s (remain 3m 22s) Loss: 0.4460(0.5058) Grad: 12634.9795  LR: 0.00000176  \n",
      "Epoch: [7][1700/3419] Elapsed 3m 9s (remain 3m 11s) Loss: 0.5281(0.5049) Grad: 21623.9824  LR: 0.00000169  \n",
      "Epoch: [7][1800/3419] Elapsed 3m 21s (remain 3m 0s) Loss: 0.5038(0.5055) Grad: 9158.5742  LR: 0.00000163  \n",
      "Epoch: [7][1900/3419] Elapsed 3m 32s (remain 2m 49s) Loss: 0.4598(0.5050) Grad: 7348.8682  LR: 0.00000157  \n",
      "Epoch: [7][2000/3419] Elapsed 3m 43s (remain 2m 38s) Loss: 0.5362(0.5044) Grad: 24768.0391  LR: 0.00000151  \n",
      "Epoch: [7][2100/3419] Elapsed 3m 54s (remain 2m 27s) Loss: 0.4166(0.5040) Grad: 96563.9766  LR: 0.00000145  \n",
      "Epoch: [7][2200/3419] Elapsed 4m 5s (remain 2m 15s) Loss: 0.7416(0.5038) Grad: 114357.7109  LR: 0.00000139  \n",
      "Epoch: [7][2300/3419] Elapsed 4m 16s (remain 2m 4s) Loss: 0.4913(0.5038) Grad: 27950.2910  LR: 0.00000133  \n",
      "Epoch: [7][2400/3419] Elapsed 4m 27s (remain 1m 53s) Loss: 0.6197(0.5036) Grad: 28820.1660  LR: 0.00000127  \n",
      "Epoch: [7][2500/3419] Elapsed 4m 38s (remain 1m 42s) Loss: 0.6460(0.5036) Grad: 22174.9414  LR: 0.00000122  \n",
      "Epoch: [7][2600/3419] Elapsed 4m 50s (remain 1m 31s) Loss: 0.5783(0.5042) Grad: 12897.1465  LR: 0.00000116  \n",
      "Epoch: [7][2700/3419] Elapsed 5m 1s (remain 1m 20s) Loss: 0.5745(0.5045) Grad: 4795.4600  LR: 0.00000111  \n",
      "Epoch: [7][2800/3419] Elapsed 5m 12s (remain 1m 8s) Loss: 0.5262(0.5047) Grad: 13852.9092  LR: 0.00000106  \n",
      "Epoch: [7][2900/3419] Elapsed 5m 23s (remain 0m 57s) Loss: 0.7186(0.5045) Grad: 51106.2930  LR: 0.00000101  \n",
      "Epoch: [7][3000/3419] Elapsed 5m 34s (remain 0m 46s) Loss: 0.5653(0.5046) Grad: 23812.2559  LR: 0.00000096  \n",
      "Epoch: [7][3100/3419] Elapsed 5m 45s (remain 0m 35s) Loss: 0.5526(0.5043) Grad: 15021.1934  LR: 0.00000091  \n",
      "Epoch: [7][3200/3419] Elapsed 5m 57s (remain 0m 24s) Loss: 0.5199(0.5043) Grad: 20048.1914  LR: 0.00000086  \n",
      "Epoch: [7][3300/3419] Elapsed 6m 8s (remain 0m 13s) Loss: 0.4739(0.5043) Grad: 446.1628  LR: 0.00000082  \n",
      "Epoch: [7][3400/3419] Elapsed 6m 19s (remain 0m 2s) Loss: 0.5028(0.5049) Grad: 12843.9492  LR: 0.00000077  \n"
     ]
    },
    {
     "name": "stderr",
     "output_type": "stream",
     "text": [
      "[W pthreadpool-cpp.cc:90] Warning: Leaking Caffe2 thread-pool after fork. (function pthreadpool)\n"
     ]
    },
    {
     "name": "stdout",
     "output_type": "stream",
     "text": [
      "Epoch: [7][3418/3419] Elapsed 6m 21s (remain 0m 0s) Loss: 0.6736(0.5048) Grad: 12833.7568  LR: 0.00000076  \n"
     ]
    },
    {
     "name": "stderr",
     "output_type": "stream",
     "text": [
      "[W pthreadpool-cpp.cc:90] Warning: Leaking Caffe2 thread-pool after fork. (function pthreadpool)\n",
      "[W pthreadpool-cpp.cc:90] Warning: Leaking Caffe2 thread-pool after fork. (function pthreadpool)\n",
      "[W pthreadpool-cpp.cc:90] Warning: Leaking Caffe2 thread-pool after fork. (function pthreadpool)\n",
      "[W pthreadpool-cpp.cc:90] Warning: Leaking Caffe2 thread-pool after fork. (function pthreadpool)\n"
     ]
    },
    {
     "name": "stdout",
     "output_type": "stream",
     "text": [
      "EVAL: [0/1140] Elapsed 0m 0s (remain 3m 19s) Loss: 0.7962(0.7962) \n",
      "EVAL: [100/1140] Elapsed 0m 2s (remain 0m 29s) Loss: 0.6912(0.5425) \n",
      "EVAL: [200/1140] Elapsed 0m 5s (remain 0m 26s) Loss: 0.7034(0.5577) \n",
      "EVAL: [300/1140] Elapsed 0m 8s (remain 0m 23s) Loss: 0.4850(0.5519) \n",
      "EVAL: [400/1140] Elapsed 0m 10s (remain 0m 20s) Loss: 0.6362(0.5539) \n",
      "EVAL: [500/1140] Elapsed 0m 13s (remain 0m 17s) Loss: 0.6538(0.5505) \n",
      "EVAL: [600/1140] Elapsed 0m 16s (remain 0m 14s) Loss: 0.7415(0.5512) \n",
      "EVAL: [700/1140] Elapsed 0m 19s (remain 0m 11s) Loss: 0.5563(0.5504) \n",
      "EVAL: [800/1140] Elapsed 0m 21s (remain 0m 9s) Loss: 0.6120(0.5507) \n",
      "EVAL: [900/1140] Elapsed 0m 24s (remain 0m 6s) Loss: 0.8111(0.5513) \n",
      "EVAL: [1000/1140] Elapsed 0m 27s (remain 0m 3s) Loss: 0.5864(0.5512) \n",
      "EVAL: [1100/1140] Elapsed 0m 29s (remain 0m 1s) Loss: 0.6516(0.5514) \n"
     ]
    },
    {
     "name": "stderr",
     "output_type": "stream",
     "text": [
      "Epoch 7 - avg_train_loss: 0.5048  avg_val_loss: 0.5521  time: 413s\n",
      "Epoch 7 - Score: 0.8258\n",
      "Epoch 7 - Save Best Score: 0.8258 Model\n"
     ]
    },
    {
     "name": "stdout",
     "output_type": "stream",
     "text": [
      "EVAL: [1139/1140] Elapsed 0m 30s (remain 0m 0s) Loss: 0.5044(0.5521) \n"
     ]
    },
    {
     "name": "stderr",
     "output_type": "stream",
     "text": [
      "[W pthreadpool-cpp.cc:90] Warning: Leaking Caffe2 thread-pool after fork. (function pthreadpool)\n",
      "[W pthreadpool-cpp.cc:90] Warning: Leaking Caffe2 thread-pool after fork. (function pthreadpool)\n",
      "[W pthreadpool-cpp.cc:90] Warning: Leaking Caffe2 thread-pool after fork. (function pthreadpool)\n",
      "[W pthreadpool-cpp.cc:90] Warning: Leaking Caffe2 thread-pool after fork. (function pthreadpool)\n"
     ]
    },
    {
     "name": "stdout",
     "output_type": "stream",
     "text": [
      "Epoch: [8][0/3419] Elapsed 0m 0s (remain 13m 39s) Loss: 0.5007(0.5007) Grad: 376996.2500  LR: 0.00000076  \n",
      "Epoch: [8][100/3419] Elapsed 0m 11s (remain 6m 13s) Loss: 0.4071(0.4869) Grad: 41206.0430  LR: 0.00000072  \n",
      "Epoch: [8][200/3419] Elapsed 0m 22s (remain 5m 59s) Loss: 0.2343(0.4947) Grad: 1631.8994  LR: 0.00000068  \n",
      "Epoch: [8][300/3419] Elapsed 0m 33s (remain 5m 47s) Loss: 0.3182(0.5001) Grad: 29854.3828  LR: 0.00000064  \n",
      "Epoch: [8][400/3419] Elapsed 0m 44s (remain 5m 36s) Loss: 0.5186(0.4993) Grad: 18968.2207  LR: 0.00000060  \n",
      "Epoch: [8][500/3419] Elapsed 0m 56s (remain 5m 26s) Loss: 0.4703(0.4968) Grad: 28594.5137  LR: 0.00000056  \n",
      "Epoch: [8][600/3419] Elapsed 1m 7s (remain 5m 15s) Loss: 0.5465(0.4975) Grad: 22874.0723  LR: 0.00000052  \n",
      "Epoch: [8][700/3419] Elapsed 1m 18s (remain 5m 4s) Loss: 0.3755(0.4974) Grad: 15994.8555  LR: 0.00000048  \n",
      "Epoch: [8][800/3419] Elapsed 1m 29s (remain 4m 52s) Loss: 0.5086(0.4985) Grad: 13309.5342  LR: 0.00000045  \n",
      "Epoch: [8][900/3419] Elapsed 1m 40s (remain 4m 41s) Loss: 0.3002(0.4995) Grad: 171208.2344  LR: 0.00000042  \n",
      "Epoch: [8][1000/3419] Elapsed 1m 51s (remain 4m 29s) Loss: 0.6122(0.5011) Grad: 1634.3679  LR: 0.00000038  \n",
      "Epoch: [8][1100/3419] Elapsed 2m 3s (remain 4m 19s) Loss: 0.4496(0.5012) Grad: 20556.0566  LR: 0.00000035  \n",
      "Epoch: [8][1200/3419] Elapsed 2m 14s (remain 4m 8s) Loss: 0.4087(0.5004) Grad: 16547.5391  LR: 0.00000032  \n",
      "Epoch: [8][1300/3419] Elapsed 2m 25s (remain 3m 56s) Loss: 0.4966(0.5004) Grad: 16863.1348  LR: 0.00000030  \n",
      "Epoch: [8][1400/3419] Elapsed 2m 36s (remain 3m 45s) Loss: 0.4543(0.5003) Grad: 14770.3662  LR: 0.00000027  \n",
      "Epoch: [8][1500/3419] Elapsed 2m 47s (remain 3m 34s) Loss: 0.5418(0.5003) Grad: 15438.3828  LR: 0.00000024  \n",
      "Epoch: [8][1600/3419] Elapsed 2m 59s (remain 3m 23s) Loss: 0.5038(0.4998) Grad: 14002.2148  LR: 0.00000022  \n",
      "Epoch: [8][1700/3419] Elapsed 3m 10s (remain 3m 12s) Loss: 0.4751(0.5003) Grad: 8078.7930  LR: 0.00000019  \n",
      "Epoch: [8][1800/3419] Elapsed 3m 21s (remain 3m 0s) Loss: 0.3251(0.5007) Grad: 9603.7939  LR: 0.00000017  \n",
      "Epoch: [8][1900/3419] Elapsed 3m 32s (remain 2m 49s) Loss: 0.4911(0.5005) Grad: 2210.2766  LR: 0.00000015  \n",
      "Epoch: [8][2000/3419] Elapsed 3m 43s (remain 2m 38s) Loss: 0.4539(0.5005) Grad: 10846.8184  LR: 0.00000013  \n",
      "Epoch: [8][2100/3419] Elapsed 3m 54s (remain 2m 27s) Loss: 0.6017(0.5006) Grad: 33309.3711  LR: 0.00000011  \n",
      "Epoch: [8][2200/3419] Elapsed 4m 5s (remain 2m 16s) Loss: 0.4750(0.5011) Grad: 19972.7793  LR: 0.00000010  \n",
      "Epoch: [8][2300/3419] Elapsed 4m 16s (remain 2m 4s) Loss: 0.5823(0.5014) Grad: 8316.5635  LR: 0.00000008  \n",
      "Epoch: [8][2400/3419] Elapsed 4m 28s (remain 1m 53s) Loss: 0.4794(0.5012) Grad: 21840.4199  LR: 0.00000007  \n",
      "Epoch: [8][2500/3419] Elapsed 4m 39s (remain 1m 42s) Loss: 0.4942(0.5012) Grad: 7006.1421  LR: 0.00000006  \n",
      "Epoch: [8][2600/3419] Elapsed 4m 50s (remain 1m 31s) Loss: 0.6437(0.5018) Grad: 907443.6250  LR: 0.00000004  \n",
      "Epoch: [8][2700/3419] Elapsed 5m 1s (remain 1m 20s) Loss: 0.5160(0.5021) Grad: 14606.6045  LR: 0.00000003  \n",
      "Epoch: [8][2800/3419] Elapsed 5m 12s (remain 1m 8s) Loss: 0.4424(0.5025) Grad: 1989.8915  LR: 0.00000003  \n",
      "Epoch: [8][2900/3419] Elapsed 5m 23s (remain 0m 57s) Loss: 0.4594(0.5025) Grad: 4230.0752  LR: 0.00000002  \n",
      "Epoch: [8][3000/3419] Elapsed 5m 34s (remain 0m 46s) Loss: 0.4850(0.5029) Grad: 64689.7031  LR: 0.00000001  \n",
      "Epoch: [8][3100/3419] Elapsed 5m 45s (remain 0m 35s) Loss: 0.4830(0.5027) Grad: 42303.7930  LR: 0.00000001  \n",
      "Epoch: [8][3200/3419] Elapsed 5m 56s (remain 0m 24s) Loss: 0.4596(0.5026) Grad: 9260.8857  LR: 0.00000000  \n",
      "Epoch: [8][3300/3419] Elapsed 6m 8s (remain 0m 13s) Loss: 0.7755(0.5026) Grad: 29210.2305  LR: 0.00000000  \n",
      "Epoch: [8][3400/3419] Elapsed 6m 19s (remain 0m 2s) Loss: 0.5055(0.5030) Grad: 8991.0674  LR: 0.00000000  \n",
      "Epoch: [8][3418/3419] Elapsed 6m 21s (remain 0m 0s) Loss: 0.4117(0.5027) Grad: 14132.4863  LR: 0.00000000  \n"
     ]
    },
    {
     "name": "stderr",
     "output_type": "stream",
     "text": [
      "[W pthreadpool-cpp.cc:90] Warning: Leaking Caffe2 thread-pool after fork. (function pthreadpool)\n",
      "[W pthreadpool-cpp.cc:90] Warning: Leaking Caffe2 thread-pool after fork. (function pthreadpool)\n",
      "[W pthreadpool-cpp.cc:90] Warning: Leaking Caffe2 thread-pool after fork. (function pthreadpool)\n",
      "[W pthreadpool-cpp.cc:90] Warning: Leaking Caffe2 thread-pool after fork. (function pthreadpool)\n"
     ]
    },
    {
     "name": "stdout",
     "output_type": "stream",
     "text": [
      "EVAL: [0/1140] Elapsed 0m 0s (remain 3m 24s) Loss: 0.7958(0.7958) \n",
      "EVAL: [100/1140] Elapsed 0m 2s (remain 0m 29s) Loss: 0.6937(0.5443) \n",
      "EVAL: [200/1140] Elapsed 0m 5s (remain 0m 25s) Loss: 0.7015(0.5599) \n",
      "EVAL: [300/1140] Elapsed 0m 8s (remain 0m 23s) Loss: 0.4875(0.5541) \n",
      "EVAL: [400/1140] Elapsed 0m 11s (remain 0m 20s) Loss: 0.6556(0.5561) \n",
      "EVAL: [500/1140] Elapsed 0m 13s (remain 0m 17s) Loss: 0.6500(0.5525) \n",
      "EVAL: [600/1140] Elapsed 0m 16s (remain 0m 14s) Loss: 0.7472(0.5530) \n",
      "EVAL: [700/1140] Elapsed 0m 19s (remain 0m 11s) Loss: 0.5599(0.5521) \n",
      "EVAL: [800/1140] Elapsed 0m 21s (remain 0m 9s) Loss: 0.6116(0.5525) \n",
      "EVAL: [900/1140] Elapsed 0m 24s (remain 0m 6s) Loss: 0.8150(0.5532) \n",
      "EVAL: [1000/1140] Elapsed 0m 27s (remain 0m 3s) Loss: 0.5890(0.5532) \n",
      "EVAL: [1100/1140] Elapsed 0m 29s (remain 0m 1s) Loss: 0.6500(0.5535) \n"
     ]
    },
    {
     "name": "stderr",
     "output_type": "stream",
     "text": [
      "Epoch 8 - avg_train_loss: 0.5027  avg_val_loss: 0.5541  time: 412s\n",
      "Epoch 8 - Score: 0.8240\n"
     ]
    },
    {
     "name": "stdout",
     "output_type": "stream",
     "text": [
      "EVAL: [1139/1140] Elapsed 0m 31s (remain 0m 0s) Loss: 0.5048(0.5541) \n"
     ]
    },
    {
     "name": "stderr",
     "output_type": "stream",
     "text": [
      "========== fold: 3 result ==========\n",
      "Score: 0.8258\n",
      "========== CV ==========\n",
      "Score: 0.8276\n"
     ]
    }
   ],
   "source": [
    "if __name__ == '__main__':\n",
    "    \n",
    "    def get_result(oof_df):\n",
    "        labels = oof_df['score'].values\n",
    "        preds = oof_df['pred'].values\n",
    "        score = get_score(labels, preds)\n",
    "        LOGGER.info(f'Score: {score:<.4f}')\n",
    "    \n",
    "    if CFG.train:\n",
    "        oof_df = pd.DataFrame()\n",
    "        for fold in range(CFG.n_fold):\n",
    "            # if fold in CFG.pass_fold:\n",
    "            #     continue\n",
    "            LOGGER.info(f\"========== fold: {fold} training ==========\")\n",
    "            print(f\"\\033[38;5;40m========== fold: {fold} training ==========\\033[0m\");\n",
    "            if fold in CFG.trn_fold:\n",
    "                # ====================================================\n",
    "                # loader\n",
    "                # ====================================================\n",
    "                folds = train\n",
    "                train_folds = folds[folds['fold'] != fold].reset_index(drop=True)\n",
    "                valid_folds = folds[folds['fold'] == fold].reset_index(drop=True)\n",
    "                valid_labels = valid_folds['score'].values\n",
    "\n",
    "                train_dataset = TrainDataset(CFG, train_folds)\n",
    "                valid_dataset = TrainDataset(CFG, valid_folds)\n",
    "\n",
    "                train_loader = DataLoader(train_dataset,\n",
    "                                          batch_size=CFG.batch_size,\n",
    "                                          shuffle=True,\n",
    "                                          num_workers=CFG.num_workers, pin_memory=True, drop_last=True)\n",
    "                valid_loader = DataLoader(valid_dataset,\n",
    "                                          batch_size=CFG.batch_size,\n",
    "                                          shuffle=False,\n",
    "                                          num_workers=CFG.num_workers, pin_memory=True, drop_last=False)\n",
    "\n",
    "#                 _oof_df = train_loop(train, fold)\n",
    "                _oof_df = train_loop(train_loader, valid_loader)\n",
    "                oof_df = pd.concat([oof_df, _oof_df])\n",
    "                LOGGER.info(f\"========== fold: {fold} result ==========\")\n",
    "                get_result(_oof_df)\n",
    "        oof_df = oof_df.reset_index(drop=True)\n",
    "        LOGGER.info(f\"========== CV ==========\")\n",
    "        get_result(oof_df)\n",
    "        oof_df.to_pickle(OUTPUT_DIR+'oof_df.pkl')\n",
    "        \n",
    "    if CFG.wandb:\n",
    "        wandb.finish()"
   ]
  },
  {
   "cell_type": "code",
   "execution_count": 30,
   "id": "6b65b21c",
   "metadata": {},
   "outputs": [
    {
     "name": "stdout",
     "output_type": "stream",
     "text": [
      "14116.103031158447 hour\n"
     ]
    }
   ],
   "source": [
    "print(f'{time.time()-start} hour')"
   ]
  },
  {
   "cell_type": "code",
   "execution_count": 31,
   "id": "5c638e57",
   "metadata": {},
   "outputs": [],
   "source": [
    "!touch trained_list/mpnet.txt"
   ]
  },
  {
   "cell_type": "code",
   "execution_count": 32,
   "id": "9343b101-0c9b-456d-b0c8-cc5e8b8b1317",
   "metadata": {},
   "outputs": [
    {
     "name": "stderr",
     "output_type": "stream",
     "text": [
      "max_len: 125\n"
     ]
    }
   ],
   "source": [
    "LOGGER.info(f\"max_len: {CFG.max_len}\")"
   ]
  },
  {
   "cell_type": "code",
   "execution_count": 33,
   "id": "10743e3c-5bff-46c5-8e9d-0f4b3f051a79",
   "metadata": {},
   "outputs": [],
   "source": [
    "#simple Score: 0.8159"
   ]
  },
  {
   "cell_type": "code",
   "execution_count": null,
   "id": "5ffc0430-37d5-4e3c-937c-a24c6c5c96dc",
   "metadata": {},
   "outputs": [],
   "source": []
  },
  {
   "cell_type": "code",
   "execution_count": null,
   "id": "2e30d85c-df17-4211-ab0f-3886dd942276",
   "metadata": {},
   "outputs": [],
   "source": []
  },
  {
   "cell_type": "code",
   "execution_count": null,
   "id": "060989e4-10a2-4eeb-b39e-1451aab2e77c",
   "metadata": {},
   "outputs": [],
   "source": []
  },
  {
   "cell_type": "code",
   "execution_count": null,
   "id": "2f2cb436-b039-4232-9e65-cbf3b509e79b",
   "metadata": {},
   "outputs": [],
   "source": []
  }
 ],
 "metadata": {
  "kernelspec": {
   "display_name": "Python 3 (ipykernel)",
   "language": "python",
   "name": "python3"
  },
  "language_info": {
   "codemirror_mode": {
    "name": "ipython",
    "version": 3
   },
   "file_extension": ".py",
   "mimetype": "text/x-python",
   "name": "python",
   "nbconvert_exporter": "python",
   "pygments_lexer": "ipython3",
   "version": "3.7.12"
  },
  "papermill": {
   "default_parameters": {},
   "duration": 30329.017674,
   "end_time": "2022-03-22T18:05:22.040486",
   "environment_variables": {},
   "exception": null,
   "input_path": "__notebook__.ipynb",
   "output_path": "__notebook__.ipynb",
   "parameters": {},
   "start_time": "2022-03-22T09:39:53.022812",
   "version": "2.3.3"
  },
  "widgets": {
   "application/vnd.jupyter.widget-state+json": {
    "state": {
     "126a1e5f24e44838a03204815209c5dc": {
      "model_module": "@jupyter-widgets/controls",
      "model_module_version": "1.5.0",
      "model_name": "ProgressStyleModel",
      "state": {
       "_model_module": "@jupyter-widgets/controls",
       "_model_module_version": "1.5.0",
       "_model_name": "ProgressStyleModel",
       "_view_count": null,
       "_view_module": "@jupyter-widgets/base",
       "_view_module_version": "1.2.0",
       "_view_name": "StyleView",
       "bar_color": null,
       "description_width": ""
      }
     },
     "12d0d3a78caf4f8c93da02229f2185df": {
      "model_module": "@jupyter-widgets/base",
      "model_module_version": "1.2.0",
      "model_name": "LayoutModel",
      "state": {
       "_model_module": "@jupyter-widgets/base",
       "_model_module_version": "1.2.0",
       "_model_name": "LayoutModel",
       "_view_count": null,
       "_view_module": "@jupyter-widgets/base",
       "_view_module_version": "1.2.0",
       "_view_name": "LayoutView",
       "align_content": null,
       "align_items": null,
       "align_self": null,
       "border": null,
       "bottom": null,
       "display": null,
       "flex": null,
       "flex_flow": null,
       "grid_area": null,
       "grid_auto_columns": null,
       "grid_auto_flow": null,
       "grid_auto_rows": null,
       "grid_column": null,
       "grid_gap": null,
       "grid_row": null,
       "grid_template_areas": null,
       "grid_template_columns": null,
       "grid_template_rows": null,
       "height": null,
       "justify_content": null,
       "justify_items": null,
       "left": null,
       "margin": null,
       "max_height": null,
       "max_width": null,
       "min_height": null,
       "min_width": null,
       "object_fit": null,
       "object_position": null,
       "order": null,
       "overflow": null,
       "overflow_x": null,
       "overflow_y": null,
       "padding": null,
       "right": null,
       "top": null,
       "visibility": null,
       "width": null
      }
     },
     "14972cafd36646939e742a987e1d0ec7": {
      "model_module": "@jupyter-widgets/base",
      "model_module_version": "1.2.0",
      "model_name": "LayoutModel",
      "state": {
       "_model_module": "@jupyter-widgets/base",
       "_model_module_version": "1.2.0",
       "_model_name": "LayoutModel",
       "_view_count": null,
       "_view_module": "@jupyter-widgets/base",
       "_view_module_version": "1.2.0",
       "_view_name": "LayoutView",
       "align_content": null,
       "align_items": null,
       "align_self": null,
       "border": null,
       "bottom": null,
       "display": null,
       "flex": null,
       "flex_flow": null,
       "grid_area": null,
       "grid_auto_columns": null,
       "grid_auto_flow": null,
       "grid_auto_rows": null,
       "grid_column": null,
       "grid_gap": null,
       "grid_row": null,
       "grid_template_areas": null,
       "grid_template_columns": null,
       "grid_template_rows": null,
       "height": null,
       "justify_content": null,
       "justify_items": null,
       "left": null,
       "margin": null,
       "max_height": null,
       "max_width": null,
       "min_height": null,
       "min_width": null,
       "object_fit": null,
       "object_position": null,
       "order": null,
       "overflow": null,
       "overflow_x": null,
       "overflow_y": null,
       "padding": null,
       "right": null,
       "top": null,
       "visibility": null,
       "width": null
      }
     },
     "181ebde2d0064fb99b8ec32e9dc76836": {
      "model_module": "@jupyter-widgets/controls",
      "model_module_version": "1.5.0",
      "model_name": "HTMLModel",
      "state": {
       "_dom_classes": [],
       "_model_module": "@jupyter-widgets/controls",
       "_model_module_version": "1.5.0",
       "_model_name": "HTMLModel",
       "_view_count": null,
       "_view_module": "@jupyter-widgets/controls",
       "_view_module_version": "1.5.0",
       "_view_name": "HTMLView",
       "description": "",
       "description_tooltip": null,
       "layout": "IPY_MODEL_c1e8e53062324cf38fbd75eab01e066a",
       "placeholder": "​",
       "style": "IPY_MODEL_3feaf01a7f7b43ed923effab61b93ac4",
       "value": " 36473/36473 [00:03&lt;00:00, 12012.58it/s]"
      }
     },
     "1c5d07635bff4f7999e3e8486f648aaf": {
      "model_module": "@jupyter-widgets/controls",
      "model_module_version": "1.5.0",
      "model_name": "FloatProgressModel",
      "state": {
       "_dom_classes": [],
       "_model_module": "@jupyter-widgets/controls",
       "_model_module_version": "1.5.0",
       "_model_name": "FloatProgressModel",
       "_view_count": null,
       "_view_module": "@jupyter-widgets/controls",
       "_view_module_version": "1.5.0",
       "_view_name": "ProgressView",
       "bar_style": "success",
       "description": "",
       "description_tooltip": null,
       "layout": "IPY_MODEL_87214ce12c1f422481a0fe3caf5a3ce8",
       "max": 2464616,
       "min": 0,
       "orientation": "horizontal",
       "style": "IPY_MODEL_d9f0d96d140a4115aadfdfc9ce5ba608",
       "value": 2464616
      }
     },
     "1d83ae8940534922833de4d1fdd71216": {
      "model_module": "@jupyter-widgets/base",
      "model_module_version": "1.2.0",
      "model_name": "LayoutModel",
      "state": {
       "_model_module": "@jupyter-widgets/base",
       "_model_module_version": "1.2.0",
       "_model_name": "LayoutModel",
       "_view_count": null,
       "_view_module": "@jupyter-widgets/base",
       "_view_module_version": "1.2.0",
       "_view_name": "LayoutView",
       "align_content": null,
       "align_items": null,
       "align_self": null,
       "border": null,
       "bottom": null,
       "display": null,
       "flex": null,
       "flex_flow": null,
       "grid_area": null,
       "grid_auto_columns": null,
       "grid_auto_flow": null,
       "grid_auto_rows": null,
       "grid_column": null,
       "grid_gap": null,
       "grid_row": null,
       "grid_template_areas": null,
       "grid_template_columns": null,
       "grid_template_rows": null,
       "height": null,
       "justify_content": null,
       "justify_items": null,
       "left": null,
       "margin": null,
       "max_height": null,
       "max_width": null,
       "min_height": null,
       "min_width": null,
       "object_fit": null,
       "object_position": null,
       "order": null,
       "overflow": null,
       "overflow_x": null,
       "overflow_y": null,
       "padding": null,
       "right": null,
       "top": null,
       "visibility": null,
       "width": null
      }
     },
     "2373dbe30aca4d64b94b5bb64216151e": {
      "model_module": "@jupyter-widgets/base",
      "model_module_version": "1.2.0",
      "model_name": "LayoutModel",
      "state": {
       "_model_module": "@jupyter-widgets/base",
       "_model_module_version": "1.2.0",
       "_model_name": "LayoutModel",
       "_view_count": null,
       "_view_module": "@jupyter-widgets/base",
       "_view_module_version": "1.2.0",
       "_view_name": "LayoutView",
       "align_content": null,
       "align_items": null,
       "align_self": null,
       "border": null,
       "bottom": null,
       "display": null,
       "flex": null,
       "flex_flow": null,
       "grid_area": null,
       "grid_auto_columns": null,
       "grid_auto_flow": null,
       "grid_auto_rows": null,
       "grid_column": null,
       "grid_gap": null,
       "grid_row": null,
       "grid_template_areas": null,
       "grid_template_columns": null,
       "grid_template_rows": null,
       "height": null,
       "justify_content": null,
       "justify_items": null,
       "left": null,
       "margin": null,
       "max_height": null,
       "max_width": null,
       "min_height": null,
       "min_width": null,
       "object_fit": null,
       "object_position": null,
       "order": null,
       "overflow": null,
       "overflow_x": null,
       "overflow_y": null,
       "padding": null,
       "right": null,
       "top": null,
       "visibility": null,
       "width": null
      }
     },
     "251e902150c543d2a2212b4250931617": {
      "model_module": "@jupyter-widgets/controls",
      "model_module_version": "1.5.0",
      "model_name": "HBoxModel",
      "state": {
       "_dom_classes": [],
       "_model_module": "@jupyter-widgets/controls",
       "_model_module_version": "1.5.0",
       "_model_name": "HBoxModel",
       "_view_count": null,
       "_view_module": "@jupyter-widgets/controls",
       "_view_module_version": "1.5.0",
       "_view_name": "HBoxView",
       "box_style": "",
       "children": [
        "IPY_MODEL_7d211c0746b64a0b935fa964ad7bd858",
        "IPY_MODEL_432a848a161c4a0888dad1ac9c5408c3",
        "IPY_MODEL_181ebde2d0064fb99b8ec32e9dc76836"
       ],
       "layout": "IPY_MODEL_5d82f1a2cf554609ba65dfb95dc152e5"
      }
     },
     "2866d577bb3049b283da7c969f175d91": {
      "model_module": "@jupyter-widgets/controls",
      "model_module_version": "1.5.0",
      "model_name": "HBoxModel",
      "state": {
       "_dom_classes": [],
       "_model_module": "@jupyter-widgets/controls",
       "_model_module_version": "1.5.0",
       "_model_name": "HBoxModel",
       "_view_count": null,
       "_view_module": "@jupyter-widgets/controls",
       "_view_module_version": "1.5.0",
       "_view_name": "HBoxView",
       "box_style": "",
       "children": [
        "IPY_MODEL_673fb48e7dca47f4a3754d06af7dcf1f",
        "IPY_MODEL_bba517b096dd460cb764ccd71b57f148",
        "IPY_MODEL_362ef79e65894ea9aaae390562257f58"
       ],
       "layout": "IPY_MODEL_9d403276e05f4c368e46f353070b9d9a"
      }
     },
     "291ab6d32ec345ee8adaa6f354bfcfb4": {
      "model_module": "@jupyter-widgets/controls",
      "model_module_version": "1.5.0",
      "model_name": "HTMLModel",
      "state": {
       "_dom_classes": [],
       "_model_module": "@jupyter-widgets/controls",
       "_model_module_version": "1.5.0",
       "_model_name": "HTMLModel",
       "_view_count": null,
       "_view_module": "@jupyter-widgets/controls",
       "_view_module_version": "1.5.0",
       "_view_name": "HTMLView",
       "description": "",
       "description_tooltip": null,
       "layout": "IPY_MODEL_12d0d3a78caf4f8c93da02229f2185df",
       "placeholder": "​",
       "style": "IPY_MODEL_de3e60ed24f04a7ab49a05b98b7cf0f0",
       "value": " 36473/36473 [00:03&lt;00:00, 7261.90it/s]"
      }
     },
     "341389680b6a43d8b6b3de95dffca671": {
      "model_module": "@jupyter-widgets/base",
      "model_module_version": "1.2.0",
      "model_name": "LayoutModel",
      "state": {
       "_model_module": "@jupyter-widgets/base",
       "_model_module_version": "1.2.0",
       "_model_name": "LayoutModel",
       "_view_count": null,
       "_view_module": "@jupyter-widgets/base",
       "_view_module_version": "1.2.0",
       "_view_name": "LayoutView",
       "align_content": null,
       "align_items": null,
       "align_self": null,
       "border": null,
       "bottom": null,
       "display": null,
       "flex": null,
       "flex_flow": null,
       "grid_area": null,
       "grid_auto_columns": null,
       "grid_auto_flow": null,
       "grid_auto_rows": null,
       "grid_column": null,
       "grid_gap": null,
       "grid_row": null,
       "grid_template_areas": null,
       "grid_template_columns": null,
       "grid_template_rows": null,
       "height": null,
       "justify_content": null,
       "justify_items": null,
       "left": null,
       "margin": null,
       "max_height": null,
       "max_width": null,
       "min_height": null,
       "min_width": null,
       "object_fit": null,
       "object_position": null,
       "order": null,
       "overflow": null,
       "overflow_x": null,
       "overflow_y": null,
       "padding": null,
       "right": null,
       "top": null,
       "visibility": null,
       "width": null
      }
     },
     "349e43c8d4114c36823434cef63fc567": {
      "model_module": "@jupyter-widgets/controls",
      "model_module_version": "1.5.0",
      "model_name": "ProgressStyleModel",
      "state": {
       "_model_module": "@jupyter-widgets/controls",
       "_model_module_version": "1.5.0",
       "_model_name": "ProgressStyleModel",
       "_view_count": null,
       "_view_module": "@jupyter-widgets/base",
       "_view_module_version": "1.2.0",
       "_view_name": "StyleView",
       "bar_color": null,
       "description_width": ""
      }
     },
     "35cb92ba1b2d4932bc3a0b0640f71b0c": {
      "model_module": "@jupyter-widgets/controls",
      "model_module_version": "1.5.0",
      "model_name": "DescriptionStyleModel",
      "state": {
       "_model_module": "@jupyter-widgets/controls",
       "_model_module_version": "1.5.0",
       "_model_name": "DescriptionStyleModel",
       "_view_count": null,
       "_view_module": "@jupyter-widgets/base",
       "_view_module_version": "1.2.0",
       "_view_name": "StyleView",
       "description_width": ""
      }
     },
     "360314d0f3254b66818b8a62223c2b0b": {
      "model_module": "@jupyter-widgets/base",
      "model_module_version": "1.2.0",
      "model_name": "LayoutModel",
      "state": {
       "_model_module": "@jupyter-widgets/base",
       "_model_module_version": "1.2.0",
       "_model_name": "LayoutModel",
       "_view_count": null,
       "_view_module": "@jupyter-widgets/base",
       "_view_module_version": "1.2.0",
       "_view_name": "LayoutView",
       "align_content": null,
       "align_items": null,
       "align_self": null,
       "border": null,
       "bottom": null,
       "display": null,
       "flex": null,
       "flex_flow": null,
       "grid_area": null,
       "grid_auto_columns": null,
       "grid_auto_flow": null,
       "grid_auto_rows": null,
       "grid_column": null,
       "grid_gap": null,
       "grid_row": null,
       "grid_template_areas": null,
       "grid_template_columns": null,
       "grid_template_rows": null,
       "height": null,
       "justify_content": null,
       "justify_items": null,
       "left": null,
       "margin": null,
       "max_height": null,
       "max_width": null,
       "min_height": null,
       "min_width": null,
       "object_fit": null,
       "object_position": null,
       "order": null,
       "overflow": null,
       "overflow_x": null,
       "overflow_y": null,
       "padding": null,
       "right": null,
       "top": null,
       "visibility": null,
       "width": null
      }
     },
     "362ef79e65894ea9aaae390562257f58": {
      "model_module": "@jupyter-widgets/controls",
      "model_module_version": "1.5.0",
      "model_name": "HTMLModel",
      "state": {
       "_dom_classes": [],
       "_model_module": "@jupyter-widgets/controls",
       "_model_module_version": "1.5.0",
       "_model_name": "HTMLModel",
       "_view_count": null,
       "_view_module": "@jupyter-widgets/controls",
       "_view_module_version": "1.5.0",
       "_view_name": "HTMLView",
       "description": "",
       "description_tooltip": null,
       "layout": "IPY_MODEL_4e94a902a0d44b1eacfaeee99cd470d2",
       "placeholder": "​",
       "style": "IPY_MODEL_ad6386dafce545c48eac271bb2a3c0dd",
       "value": " 136/136 [00:00&lt;00:00, 2149.45it/s]"
      }
     },
     "39512e7ede884ec1b6fe92f794e1d74d": {
      "model_module": "@jupyter-widgets/base",
      "model_module_version": "1.2.0",
      "model_name": "LayoutModel",
      "state": {
       "_model_module": "@jupyter-widgets/base",
       "_model_module_version": "1.2.0",
       "_model_name": "LayoutModel",
       "_view_count": null,
       "_view_module": "@jupyter-widgets/base",
       "_view_module_version": "1.2.0",
       "_view_name": "LayoutView",
       "align_content": null,
       "align_items": null,
       "align_self": null,
       "border": null,
       "bottom": null,
       "display": null,
       "flex": null,
       "flex_flow": null,
       "grid_area": null,
       "grid_auto_columns": null,
       "grid_auto_flow": null,
       "grid_auto_rows": null,
       "grid_column": null,
       "grid_gap": null,
       "grid_row": null,
       "grid_template_areas": null,
       "grid_template_columns": null,
       "grid_template_rows": null,
       "height": null,
       "justify_content": null,
       "justify_items": null,
       "left": null,
       "margin": null,
       "max_height": null,
       "max_width": null,
       "min_height": null,
       "min_width": null,
       "object_fit": null,
       "object_position": null,
       "order": null,
       "overflow": null,
       "overflow_x": null,
       "overflow_y": null,
       "padding": null,
       "right": null,
       "top": null,
       "visibility": null,
       "width": null
      }
     },
     "3b0ebe22bd154b01bcb4d6b2ab2dec83": {
      "model_module": "@jupyter-widgets/controls",
      "model_module_version": "1.5.0",
      "model_name": "HTMLModel",
      "state": {
       "_dom_classes": [],
       "_model_module": "@jupyter-widgets/controls",
       "_model_module_version": "1.5.0",
       "_model_name": "HTMLModel",
       "_view_count": null,
       "_view_module": "@jupyter-widgets/controls",
       "_view_module_version": "1.5.0",
       "_view_name": "HTMLView",
       "description": "",
       "description_tooltip": null,
       "layout": "IPY_MODEL_ad4745f1eca942009bdf6cf12913f34a",
       "placeholder": "​",
       "style": "IPY_MODEL_d3b6e4a4aac943b79ba51bbacd77907e",
       "value": " 2.35M/2.35M [00:00&lt;00:00, 4.49MB/s]"
      }
     },
     "3e601d15c9ef4bd1b05e70f9267e1dfe": {
      "model_module": "@jupyter-widgets/controls",
      "model_module_version": "1.5.0",
      "model_name": "DescriptionStyleModel",
      "state": {
       "_model_module": "@jupyter-widgets/controls",
       "_model_module_version": "1.5.0",
       "_model_name": "DescriptionStyleModel",
       "_view_count": null,
       "_view_module": "@jupyter-widgets/base",
       "_view_module_version": "1.2.0",
       "_view_name": "StyleView",
       "description_width": ""
      }
     },
     "3feaf01a7f7b43ed923effab61b93ac4": {
      "model_module": "@jupyter-widgets/controls",
      "model_module_version": "1.5.0",
      "model_name": "DescriptionStyleModel",
      "state": {
       "_model_module": "@jupyter-widgets/controls",
       "_model_module_version": "1.5.0",
       "_model_name": "DescriptionStyleModel",
       "_view_count": null,
       "_view_module": "@jupyter-widgets/base",
       "_view_module_version": "1.2.0",
       "_view_name": "StyleView",
       "description_width": ""
      }
     },
     "4133e3e34f97426c9bebda989ec7e167": {
      "model_module": "@jupyter-widgets/controls",
      "model_module_version": "1.5.0",
      "model_name": "HBoxModel",
      "state": {
       "_dom_classes": [],
       "_model_module": "@jupyter-widgets/controls",
       "_model_module_version": "1.5.0",
       "_model_name": "HBoxModel",
       "_view_count": null,
       "_view_module": "@jupyter-widgets/controls",
       "_view_module_version": "1.5.0",
       "_view_name": "HBoxView",
       "box_style": "",
       "children": [
        "IPY_MODEL_48b36757767f4ff39f262dd63e844057",
        "IPY_MODEL_a03e24ff8fc54bccaa69e36839b36bab",
        "IPY_MODEL_e3e17f880bab4d47a1531bebac861fda"
       ],
       "layout": "IPY_MODEL_da88817e8aed48399b1948f8e004ee97"
      }
     },
     "43014906a0084e288ab06cb3ebf57538": {
      "model_module": "@jupyter-widgets/controls",
      "model_module_version": "1.5.0",
      "model_name": "HTMLModel",
      "state": {
       "_dom_classes": [],
       "_model_module": "@jupyter-widgets/controls",
       "_model_module_version": "1.5.0",
       "_model_name": "HTMLModel",
       "_view_count": null,
       "_view_module": "@jupyter-widgets/controls",
       "_view_module_version": "1.5.0",
       "_view_name": "HTMLView",
       "description": "",
       "description_tooltip": null,
       "layout": "IPY_MODEL_968e2989cea6490d9ee08b6700291242",
       "placeholder": "​",
       "style": "IPY_MODEL_929108014ee94c9092394cf7ef09134f",
       "value": "Downloading: 100%"
      }
     },
     "432a848a161c4a0888dad1ac9c5408c3": {
      "model_module": "@jupyter-widgets/controls",
      "model_module_version": "1.5.0",
      "model_name": "FloatProgressModel",
      "state": {
       "_dom_classes": [],
       "_model_module": "@jupyter-widgets/controls",
       "_model_module_version": "1.5.0",
       "_model_name": "FloatProgressModel",
       "_view_count": null,
       "_view_module": "@jupyter-widgets/controls",
       "_view_module_version": "1.5.0",
       "_view_name": "ProgressView",
       "bar_style": "success",
       "description": "",
       "description_tooltip": null,
       "layout": "IPY_MODEL_39512e7ede884ec1b6fe92f794e1d74d",
       "max": 36473,
       "min": 0,
       "orientation": "horizontal",
       "style": "IPY_MODEL_466a744f951d433da986e75bc9fd3b69",
       "value": 36473
      }
     },
     "466a744f951d433da986e75bc9fd3b69": {
      "model_module": "@jupyter-widgets/controls",
      "model_module_version": "1.5.0",
      "model_name": "ProgressStyleModel",
      "state": {
       "_model_module": "@jupyter-widgets/controls",
       "_model_module_version": "1.5.0",
       "_model_name": "ProgressStyleModel",
       "_view_count": null,
       "_view_module": "@jupyter-widgets/base",
       "_view_module_version": "1.2.0",
       "_view_name": "StyleView",
       "bar_color": null,
       "description_width": ""
      }
     },
     "46ab7441760642718f381e7f430e16a0": {
      "model_module": "@jupyter-widgets/controls",
      "model_module_version": "1.5.0",
      "model_name": "DescriptionStyleModel",
      "state": {
       "_model_module": "@jupyter-widgets/controls",
       "_model_module_version": "1.5.0",
       "_model_name": "DescriptionStyleModel",
       "_view_count": null,
       "_view_module": "@jupyter-widgets/base",
       "_view_module_version": "1.2.0",
       "_view_name": "StyleView",
       "description_width": ""
      }
     },
     "48b36757767f4ff39f262dd63e844057": {
      "model_module": "@jupyter-widgets/controls",
      "model_module_version": "1.5.0",
      "model_name": "HTMLModel",
      "state": {
       "_dom_classes": [],
       "_model_module": "@jupyter-widgets/controls",
       "_model_module_version": "1.5.0",
       "_model_name": "HTMLModel",
       "_view_count": null,
       "_view_module": "@jupyter-widgets/controls",
       "_view_module_version": "1.5.0",
       "_view_name": "HTMLView",
       "description": "",
       "description_tooltip": null,
       "layout": "IPY_MODEL_14972cafd36646939e742a987e1d0ec7",
       "placeholder": "​",
       "style": "IPY_MODEL_3e601d15c9ef4bd1b05e70f9267e1dfe",
       "value": "Downloading: 100%"
      }
     },
     "4c514a00a080445da009d272716b3577": {
      "model_module": "@jupyter-widgets/controls",
      "model_module_version": "1.5.0",
      "model_name": "HTMLModel",
      "state": {
       "_dom_classes": [],
       "_model_module": "@jupyter-widgets/controls",
       "_model_module_version": "1.5.0",
       "_model_name": "HTMLModel",
       "_view_count": null,
       "_view_module": "@jupyter-widgets/controls",
       "_view_module_version": "1.5.0",
       "_view_name": "HTMLView",
       "description": "",
       "description_tooltip": null,
       "layout": "IPY_MODEL_81b1213eb9dc4aa083951352d9f6beaf",
       "placeholder": "​",
       "style": "IPY_MODEL_7603cb9268524ed3821b4f307f74d15e",
       "value": "Downloading: 100%"
      }
     },
     "4e94a902a0d44b1eacfaeee99cd470d2": {
      "model_module": "@jupyter-widgets/base",
      "model_module_version": "1.2.0",
      "model_name": "LayoutModel",
      "state": {
       "_model_module": "@jupyter-widgets/base",
       "_model_module_version": "1.2.0",
       "_model_name": "LayoutModel",
       "_view_count": null,
       "_view_module": "@jupyter-widgets/base",
       "_view_module_version": "1.2.0",
       "_view_name": "LayoutView",
       "align_content": null,
       "align_items": null,
       "align_self": null,
       "border": null,
       "bottom": null,
       "display": null,
       "flex": null,
       "flex_flow": null,
       "grid_area": null,
       "grid_auto_columns": null,
       "grid_auto_flow": null,
       "grid_auto_rows": null,
       "grid_column": null,
       "grid_gap": null,
       "grid_row": null,
       "grid_template_areas": null,
       "grid_template_columns": null,
       "grid_template_rows": null,
       "height": null,
       "justify_content": null,
       "justify_items": null,
       "left": null,
       "margin": null,
       "max_height": null,
       "max_width": null,
       "min_height": null,
       "min_width": null,
       "object_fit": null,
       "object_position": null,
       "order": null,
       "overflow": null,
       "overflow_x": null,
       "overflow_y": null,
       "padding": null,
       "right": null,
       "top": null,
       "visibility": null,
       "width": null
      }
     },
     "5235854cc7964193afec8b3316b36ef7": {
      "model_module": "@jupyter-widgets/controls",
      "model_module_version": "1.5.0",
      "model_name": "HBoxModel",
      "state": {
       "_dom_classes": [],
       "_model_module": "@jupyter-widgets/controls",
       "_model_module_version": "1.5.0",
       "_model_name": "HBoxModel",
       "_view_count": null,
       "_view_module": "@jupyter-widgets/controls",
       "_view_module_version": "1.5.0",
       "_view_name": "HBoxView",
       "box_style": "",
       "children": [
        "IPY_MODEL_58c973b1ea8a446e9993f32d3612c8b9",
        "IPY_MODEL_b849e52bd84942e583de4b9325c96afe",
        "IPY_MODEL_291ab6d32ec345ee8adaa6f354bfcfb4"
       ],
       "layout": "IPY_MODEL_fb6b7fc69b2549ab9d80d71017422178"
      }
     },
     "58c973b1ea8a446e9993f32d3612c8b9": {
      "model_module": "@jupyter-widgets/controls",
      "model_module_version": "1.5.0",
      "model_name": "HTMLModel",
      "state": {
       "_dom_classes": [],
       "_model_module": "@jupyter-widgets/controls",
       "_model_module_version": "1.5.0",
       "_model_name": "HTMLModel",
       "_view_count": null,
       "_view_module": "@jupyter-widgets/controls",
       "_view_module_version": "1.5.0",
       "_view_name": "HTMLView",
       "description": "",
       "description_tooltip": null,
       "layout": "IPY_MODEL_360314d0f3254b66818b8a62223c2b0b",
       "placeholder": "​",
       "style": "IPY_MODEL_c5de80b22af543edb57e65780298069e",
       "value": "100%"
      }
     },
     "5a2b3274110a42159fcfb2e01ceea10a": {
      "model_module": "@jupyter-widgets/controls",
      "model_module_version": "1.5.0",
      "model_name": "HBoxModel",
      "state": {
       "_dom_classes": [],
       "_model_module": "@jupyter-widgets/controls",
       "_model_module_version": "1.5.0",
       "_model_name": "HBoxModel",
       "_view_count": null,
       "_view_module": "@jupyter-widgets/controls",
       "_view_module_version": "1.5.0",
       "_view_name": "HBoxView",
       "box_style": "",
       "children": [
        "IPY_MODEL_43014906a0084e288ab06cb3ebf57538",
        "IPY_MODEL_1c5d07635bff4f7999e3e8486f648aaf",
        "IPY_MODEL_3b0ebe22bd154b01bcb4d6b2ab2dec83"
       ],
       "layout": "IPY_MODEL_2373dbe30aca4d64b94b5bb64216151e"
      }
     },
     "5d82f1a2cf554609ba65dfb95dc152e5": {
      "model_module": "@jupyter-widgets/base",
      "model_module_version": "1.2.0",
      "model_name": "LayoutModel",
      "state": {
       "_model_module": "@jupyter-widgets/base",
       "_model_module_version": "1.2.0",
       "_model_name": "LayoutModel",
       "_view_count": null,
       "_view_module": "@jupyter-widgets/base",
       "_view_module_version": "1.2.0",
       "_view_name": "LayoutView",
       "align_content": null,
       "align_items": null,
       "align_self": null,
       "border": null,
       "bottom": null,
       "display": null,
       "flex": null,
       "flex_flow": null,
       "grid_area": null,
       "grid_auto_columns": null,
       "grid_auto_flow": null,
       "grid_auto_rows": null,
       "grid_column": null,
       "grid_gap": null,
       "grid_row": null,
       "grid_template_areas": null,
       "grid_template_columns": null,
       "grid_template_rows": null,
       "height": null,
       "justify_content": null,
       "justify_items": null,
       "left": null,
       "margin": null,
       "max_height": null,
       "max_width": null,
       "min_height": null,
       "min_width": null,
       "object_fit": null,
       "object_position": null,
       "order": null,
       "overflow": null,
       "overflow_x": null,
       "overflow_y": null,
       "padding": null,
       "right": null,
       "top": null,
       "visibility": null,
       "width": null
      }
     },
     "5ffb53b010e948a0918366a7721dd7a9": {
      "model_module": "@jupyter-widgets/controls",
      "model_module_version": "1.5.0",
      "model_name": "LabelModel",
      "state": {
       "_dom_classes": [],
       "_model_module": "@jupyter-widgets/controls",
       "_model_module_version": "1.5.0",
       "_model_name": "LabelModel",
       "_view_count": null,
       "_view_module": "@jupyter-widgets/controls",
       "_view_module_version": "1.5.0",
       "_view_name": "LabelView",
       "description": "",
       "description_tooltip": null,
       "layout": "IPY_MODEL_aaf4c8e1ae794178bd2db64c5c27edcd",
       "placeholder": "​",
       "style": "IPY_MODEL_ff0d93c0f2a54cae8698028db31d1454",
       "value": "0.065 MB of 0.065 MB uploaded (0.000 MB deduped)\r"
      }
     },
     "65f9dfd885184f818373dcaf8b820da7": {
      "model_module": "@jupyter-widgets/base",
      "model_module_version": "1.2.0",
      "model_name": "LayoutModel",
      "state": {
       "_model_module": "@jupyter-widgets/base",
       "_model_module_version": "1.2.0",
       "_model_name": "LayoutModel",
       "_view_count": null,
       "_view_module": "@jupyter-widgets/base",
       "_view_module_version": "1.2.0",
       "_view_name": "LayoutView",
       "align_content": null,
       "align_items": null,
       "align_self": null,
       "border": null,
       "bottom": null,
       "display": null,
       "flex": null,
       "flex_flow": null,
       "grid_area": null,
       "grid_auto_columns": null,
       "grid_auto_flow": null,
       "grid_auto_rows": null,
       "grid_column": null,
       "grid_gap": null,
       "grid_row": null,
       "grid_template_areas": null,
       "grid_template_columns": null,
       "grid_template_rows": null,
       "height": null,
       "justify_content": null,
       "justify_items": null,
       "left": null,
       "margin": null,
       "max_height": null,
       "max_width": null,
       "min_height": null,
       "min_width": null,
       "object_fit": null,
       "object_position": null,
       "order": null,
       "overflow": null,
       "overflow_x": null,
       "overflow_y": null,
       "padding": null,
       "right": null,
       "top": null,
       "visibility": null,
       "width": null
      }
     },
     "673fb48e7dca47f4a3754d06af7dcf1f": {
      "model_module": "@jupyter-widgets/controls",
      "model_module_version": "1.5.0",
      "model_name": "HTMLModel",
      "state": {
       "_dom_classes": [],
       "_model_module": "@jupyter-widgets/controls",
       "_model_module_version": "1.5.0",
       "_model_name": "HTMLModel",
       "_view_count": null,
       "_view_module": "@jupyter-widgets/controls",
       "_view_module_version": "1.5.0",
       "_view_name": "HTMLView",
       "description": "",
       "description_tooltip": null,
       "layout": "IPY_MODEL_749c407f4aa34689954d06117f699f3c",
       "placeholder": "​",
       "style": "IPY_MODEL_bb944cd3fb694105a4d535f4e9c333a8",
       "value": "100%"
      }
     },
     "6947506e822e46d99b4dd82a8a4209cd": {
      "model_module": "@jupyter-widgets/base",
      "model_module_version": "1.2.0",
      "model_name": "LayoutModel",
      "state": {
       "_model_module": "@jupyter-widgets/base",
       "_model_module_version": "1.2.0",
       "_model_name": "LayoutModel",
       "_view_count": null,
       "_view_module": "@jupyter-widgets/base",
       "_view_module_version": "1.2.0",
       "_view_name": "LayoutView",
       "align_content": null,
       "align_items": null,
       "align_self": null,
       "border": null,
       "bottom": null,
       "display": null,
       "flex": null,
       "flex_flow": null,
       "grid_area": null,
       "grid_auto_columns": null,
       "grid_auto_flow": null,
       "grid_auto_rows": null,
       "grid_column": null,
       "grid_gap": null,
       "grid_row": null,
       "grid_template_areas": null,
       "grid_template_columns": null,
       "grid_template_rows": null,
       "height": null,
       "justify_content": null,
       "justify_items": null,
       "left": null,
       "margin": null,
       "max_height": null,
       "max_width": null,
       "min_height": null,
       "min_width": null,
       "object_fit": null,
       "object_position": null,
       "order": null,
       "overflow": null,
       "overflow_x": null,
       "overflow_y": null,
       "padding": null,
       "right": null,
       "top": null,
       "visibility": null,
       "width": null
      }
     },
     "749c407f4aa34689954d06117f699f3c": {
      "model_module": "@jupyter-widgets/base",
      "model_module_version": "1.2.0",
      "model_name": "LayoutModel",
      "state": {
       "_model_module": "@jupyter-widgets/base",
       "_model_module_version": "1.2.0",
       "_model_name": "LayoutModel",
       "_view_count": null,
       "_view_module": "@jupyter-widgets/base",
       "_view_module_version": "1.2.0",
       "_view_name": "LayoutView",
       "align_content": null,
       "align_items": null,
       "align_self": null,
       "border": null,
       "bottom": null,
       "display": null,
       "flex": null,
       "flex_flow": null,
       "grid_area": null,
       "grid_auto_columns": null,
       "grid_auto_flow": null,
       "grid_auto_rows": null,
       "grid_column": null,
       "grid_gap": null,
       "grid_row": null,
       "grid_template_areas": null,
       "grid_template_columns": null,
       "grid_template_rows": null,
       "height": null,
       "justify_content": null,
       "justify_items": null,
       "left": null,
       "margin": null,
       "max_height": null,
       "max_width": null,
       "min_height": null,
       "min_width": null,
       "object_fit": null,
       "object_position": null,
       "order": null,
       "overflow": null,
       "overflow_x": null,
       "overflow_y": null,
       "padding": null,
       "right": null,
       "top": null,
       "visibility": null,
       "width": null
      }
     },
     "7603cb9268524ed3821b4f307f74d15e": {
      "model_module": "@jupyter-widgets/controls",
      "model_module_version": "1.5.0",
      "model_name": "DescriptionStyleModel",
      "state": {
       "_model_module": "@jupyter-widgets/controls",
       "_model_module_version": "1.5.0",
       "_model_name": "DescriptionStyleModel",
       "_view_count": null,
       "_view_module": "@jupyter-widgets/base",
       "_view_module_version": "1.2.0",
       "_view_name": "StyleView",
       "description_width": ""
      }
     },
     "7d211c0746b64a0b935fa964ad7bd858": {
      "model_module": "@jupyter-widgets/controls",
      "model_module_version": "1.5.0",
      "model_name": "HTMLModel",
      "state": {
       "_dom_classes": [],
       "_model_module": "@jupyter-widgets/controls",
       "_model_module_version": "1.5.0",
       "_model_name": "HTMLModel",
       "_view_count": null,
       "_view_module": "@jupyter-widgets/controls",
       "_view_module_version": "1.5.0",
       "_view_name": "HTMLView",
       "description": "",
       "description_tooltip": null,
       "layout": "IPY_MODEL_f836cfd56e0d4d7188f1b263a5845bff",
       "placeholder": "​",
       "style": "IPY_MODEL_a87f939ae9cb44bf8d9eed523f5cb995",
       "value": "100%"
      }
     },
     "7fb6ee0e688440bab23c07808e5cef8b": {
      "model_module": "@jupyter-widgets/controls",
      "model_module_version": "1.5.0",
      "model_name": "FloatProgressModel",
      "state": {
       "_dom_classes": [],
       "_model_module": "@jupyter-widgets/controls",
       "_model_module_version": "1.5.0",
       "_model_name": "FloatProgressModel",
       "_view_count": null,
       "_view_module": "@jupyter-widgets/controls",
       "_view_module_version": "1.5.0",
       "_view_name": "ProgressView",
       "bar_style": "success",
       "description": "",
       "description_tooltip": null,
       "layout": "IPY_MODEL_c0dcc3eeec934d289bf99c7d14bab090",
       "max": 873673253,
       "min": 0,
       "orientation": "horizontal",
       "style": "IPY_MODEL_c4ff773d63e34e0c93e23aa455a97958",
       "value": 873673253
      }
     },
     "80f827d24b2e421bbe84d92c8dcc002b": {
      "model_module": "@jupyter-widgets/base",
      "model_module_version": "1.2.0",
      "model_name": "LayoutModel",
      "state": {
       "_model_module": "@jupyter-widgets/base",
       "_model_module_version": "1.2.0",
       "_model_name": "LayoutModel",
       "_view_count": null,
       "_view_module": "@jupyter-widgets/base",
       "_view_module_version": "1.2.0",
       "_view_name": "LayoutView",
       "align_content": null,
       "align_items": null,
       "align_self": null,
       "border": null,
       "bottom": null,
       "display": null,
       "flex": null,
       "flex_flow": null,
       "grid_area": null,
       "grid_auto_columns": null,
       "grid_auto_flow": null,
       "grid_auto_rows": null,
       "grid_column": null,
       "grid_gap": null,
       "grid_row": null,
       "grid_template_areas": null,
       "grid_template_columns": null,
       "grid_template_rows": null,
       "height": null,
       "justify_content": null,
       "justify_items": null,
       "left": null,
       "margin": null,
       "max_height": null,
       "max_width": null,
       "min_height": null,
       "min_width": null,
       "object_fit": null,
       "object_position": null,
       "order": null,
       "overflow": null,
       "overflow_x": null,
       "overflow_y": null,
       "padding": null,
       "right": null,
       "top": null,
       "visibility": null,
       "width": null
      }
     },
     "81b1213eb9dc4aa083951352d9f6beaf": {
      "model_module": "@jupyter-widgets/base",
      "model_module_version": "1.2.0",
      "model_name": "LayoutModel",
      "state": {
       "_model_module": "@jupyter-widgets/base",
       "_model_module_version": "1.2.0",
       "_model_name": "LayoutModel",
       "_view_count": null,
       "_view_module": "@jupyter-widgets/base",
       "_view_module_version": "1.2.0",
       "_view_name": "LayoutView",
       "align_content": null,
       "align_items": null,
       "align_self": null,
       "border": null,
       "bottom": null,
       "display": null,
       "flex": null,
       "flex_flow": null,
       "grid_area": null,
       "grid_auto_columns": null,
       "grid_auto_flow": null,
       "grid_auto_rows": null,
       "grid_column": null,
       "grid_gap": null,
       "grid_row": null,
       "grid_template_areas": null,
       "grid_template_columns": null,
       "grid_template_rows": null,
       "height": null,
       "justify_content": null,
       "justify_items": null,
       "left": null,
       "margin": null,
       "max_height": null,
       "max_width": null,
       "min_height": null,
       "min_width": null,
       "object_fit": null,
       "object_position": null,
       "order": null,
       "overflow": null,
       "overflow_x": null,
       "overflow_y": null,
       "padding": null,
       "right": null,
       "top": null,
       "visibility": null,
       "width": null
      }
     },
     "82f268442b1349268246323595e0f371": {
      "model_module": "@jupyter-widgets/controls",
      "model_module_version": "1.5.0",
      "model_name": "HBoxModel",
      "state": {
       "_dom_classes": [],
       "_model_module": "@jupyter-widgets/controls",
       "_model_module_version": "1.5.0",
       "_model_name": "HBoxModel",
       "_view_count": null,
       "_view_module": "@jupyter-widgets/controls",
       "_view_module_version": "1.5.0",
       "_view_name": "HBoxView",
       "box_style": "",
       "children": [
        "IPY_MODEL_4c514a00a080445da009d272716b3577",
        "IPY_MODEL_b4e52efc58b54c81a39fa8e5fc26eedd",
        "IPY_MODEL_a1cafe17bdf945aa8a33875d0590f7a2"
       ],
       "layout": "IPY_MODEL_65f9dfd885184f818373dcaf8b820da7"
      }
     },
     "842a840396ab4cefb93cc2733bf00cf7": {
      "model_module": "@jupyter-widgets/controls",
      "model_module_version": "1.5.0",
      "model_name": "DescriptionStyleModel",
      "state": {
       "_model_module": "@jupyter-widgets/controls",
       "_model_module_version": "1.5.0",
       "_model_name": "DescriptionStyleModel",
       "_view_count": null,
       "_view_module": "@jupyter-widgets/base",
       "_view_module_version": "1.2.0",
       "_view_name": "StyleView",
       "description_width": ""
      }
     },
     "86af7db3cea442beb67da28063f15ed6": {
      "model_module": "@jupyter-widgets/controls",
      "model_module_version": "1.5.0",
      "model_name": "FloatProgressModel",
      "state": {
       "_dom_classes": [],
       "_model_module": "@jupyter-widgets/controls",
       "_model_module_version": "1.5.0",
       "_model_name": "FloatProgressModel",
       "_view_count": null,
       "_view_module": "@jupyter-widgets/controls",
       "_view_module_version": "1.5.0",
       "_view_name": "ProgressView",
       "bar_style": "",
       "description": "",
       "description_tooltip": null,
       "layout": "IPY_MODEL_be8bbaca794c4ab0b387c44fc3d2637f",
       "max": 1,
       "min": 0,
       "orientation": "horizontal",
       "style": "IPY_MODEL_126a1e5f24e44838a03204815209c5dc",
       "value": 1
      }
     },
     "87214ce12c1f422481a0fe3caf5a3ce8": {
      "model_module": "@jupyter-widgets/base",
      "model_module_version": "1.2.0",
      "model_name": "LayoutModel",
      "state": {
       "_model_module": "@jupyter-widgets/base",
       "_model_module_version": "1.2.0",
       "_model_name": "LayoutModel",
       "_view_count": null,
       "_view_module": "@jupyter-widgets/base",
       "_view_module_version": "1.2.0",
       "_view_name": "LayoutView",
       "align_content": null,
       "align_items": null,
       "align_self": null,
       "border": null,
       "bottom": null,
       "display": null,
       "flex": null,
       "flex_flow": null,
       "grid_area": null,
       "grid_auto_columns": null,
       "grid_auto_flow": null,
       "grid_auto_rows": null,
       "grid_column": null,
       "grid_gap": null,
       "grid_row": null,
       "grid_template_areas": null,
       "grid_template_columns": null,
       "grid_template_rows": null,
       "height": null,
       "justify_content": null,
       "justify_items": null,
       "left": null,
       "margin": null,
       "max_height": null,
       "max_width": null,
       "min_height": null,
       "min_width": null,
       "object_fit": null,
       "object_position": null,
       "order": null,
       "overflow": null,
       "overflow_x": null,
       "overflow_y": null,
       "padding": null,
       "right": null,
       "top": null,
       "visibility": null,
       "width": null
      }
     },
     "874dcbcfa5c94b938abebb1c7d00007c": {
      "model_module": "@jupyter-widgets/controls",
      "model_module_version": "1.5.0",
      "model_name": "ProgressStyleModel",
      "state": {
       "_model_module": "@jupyter-widgets/controls",
       "_model_module_version": "1.5.0",
       "_model_name": "ProgressStyleModel",
       "_view_count": null,
       "_view_module": "@jupyter-widgets/base",
       "_view_module_version": "1.2.0",
       "_view_name": "StyleView",
       "bar_color": null,
       "description_width": ""
      }
     },
     "8ae7b72a5b9f4533a2076af3fb7786bd": {
      "model_module": "@jupyter-widgets/controls",
      "model_module_version": "1.5.0",
      "model_name": "DescriptionStyleModel",
      "state": {
       "_model_module": "@jupyter-widgets/controls",
       "_model_module_version": "1.5.0",
       "_model_name": "DescriptionStyleModel",
       "_view_count": null,
       "_view_module": "@jupyter-widgets/base",
       "_view_module_version": "1.2.0",
       "_view_name": "StyleView",
       "description_width": ""
      }
     },
     "929108014ee94c9092394cf7ef09134f": {
      "model_module": "@jupyter-widgets/controls",
      "model_module_version": "1.5.0",
      "model_name": "DescriptionStyleModel",
      "state": {
       "_model_module": "@jupyter-widgets/controls",
       "_model_module_version": "1.5.0",
       "_model_name": "DescriptionStyleModel",
       "_view_count": null,
       "_view_module": "@jupyter-widgets/base",
       "_view_module_version": "1.2.0",
       "_view_name": "StyleView",
       "description_width": ""
      }
     },
     "968e2989cea6490d9ee08b6700291242": {
      "model_module": "@jupyter-widgets/base",
      "model_module_version": "1.2.0",
      "model_name": "LayoutModel",
      "state": {
       "_model_module": "@jupyter-widgets/base",
       "_model_module_version": "1.2.0",
       "_model_name": "LayoutModel",
       "_view_count": null,
       "_view_module": "@jupyter-widgets/base",
       "_view_module_version": "1.2.0",
       "_view_name": "LayoutView",
       "align_content": null,
       "align_items": null,
       "align_self": null,
       "border": null,
       "bottom": null,
       "display": null,
       "flex": null,
       "flex_flow": null,
       "grid_area": null,
       "grid_auto_columns": null,
       "grid_auto_flow": null,
       "grid_auto_rows": null,
       "grid_column": null,
       "grid_gap": null,
       "grid_row": null,
       "grid_template_areas": null,
       "grid_template_columns": null,
       "grid_template_rows": null,
       "height": null,
       "justify_content": null,
       "justify_items": null,
       "left": null,
       "margin": null,
       "max_height": null,
       "max_width": null,
       "min_height": null,
       "min_width": null,
       "object_fit": null,
       "object_position": null,
       "order": null,
       "overflow": null,
       "overflow_x": null,
       "overflow_y": null,
       "padding": null,
       "right": null,
       "top": null,
       "visibility": null,
       "width": null
      }
     },
     "9901f18e7e5841b8bfcb918c432ef718": {
      "model_module": "@jupyter-widgets/base",
      "model_module_version": "1.2.0",
      "model_name": "LayoutModel",
      "state": {
       "_model_module": "@jupyter-widgets/base",
       "_model_module_version": "1.2.0",
       "_model_name": "LayoutModel",
       "_view_count": null,
       "_view_module": "@jupyter-widgets/base",
       "_view_module_version": "1.2.0",
       "_view_name": "LayoutView",
       "align_content": null,
       "align_items": null,
       "align_self": null,
       "border": null,
       "bottom": null,
       "display": null,
       "flex": null,
       "flex_flow": null,
       "grid_area": null,
       "grid_auto_columns": null,
       "grid_auto_flow": null,
       "grid_auto_rows": null,
       "grid_column": null,
       "grid_gap": null,
       "grid_row": null,
       "grid_template_areas": null,
       "grid_template_columns": null,
       "grid_template_rows": null,
       "height": null,
       "justify_content": null,
       "justify_items": null,
       "left": null,
       "margin": null,
       "max_height": null,
       "max_width": null,
       "min_height": null,
       "min_width": null,
       "object_fit": null,
       "object_position": null,
       "order": null,
       "overflow": null,
       "overflow_x": null,
       "overflow_y": null,
       "padding": null,
       "right": null,
       "top": null,
       "visibility": null,
       "width": null
      }
     },
     "9d403276e05f4c368e46f353070b9d9a": {
      "model_module": "@jupyter-widgets/base",
      "model_module_version": "1.2.0",
      "model_name": "LayoutModel",
      "state": {
       "_model_module": "@jupyter-widgets/base",
       "_model_module_version": "1.2.0",
       "_model_name": "LayoutModel",
       "_view_count": null,
       "_view_module": "@jupyter-widgets/base",
       "_view_module_version": "1.2.0",
       "_view_name": "LayoutView",
       "align_content": null,
       "align_items": null,
       "align_self": null,
       "border": null,
       "bottom": null,
       "display": null,
       "flex": null,
       "flex_flow": null,
       "grid_area": null,
       "grid_auto_columns": null,
       "grid_auto_flow": null,
       "grid_auto_rows": null,
       "grid_column": null,
       "grid_gap": null,
       "grid_row": null,
       "grid_template_areas": null,
       "grid_template_columns": null,
       "grid_template_rows": null,
       "height": null,
       "justify_content": null,
       "justify_items": null,
       "left": null,
       "margin": null,
       "max_height": null,
       "max_width": null,
       "min_height": null,
       "min_width": null,
       "object_fit": null,
       "object_position": null,
       "order": null,
       "overflow": null,
       "overflow_x": null,
       "overflow_y": null,
       "padding": null,
       "right": null,
       "top": null,
       "visibility": null,
       "width": null
      }
     },
     "a03e24ff8fc54bccaa69e36839b36bab": {
      "model_module": "@jupyter-widgets/controls",
      "model_module_version": "1.5.0",
      "model_name": "FloatProgressModel",
      "state": {
       "_dom_classes": [],
       "_model_module": "@jupyter-widgets/controls",
       "_model_module_version": "1.5.0",
       "_model_name": "FloatProgressModel",
       "_view_count": null,
       "_view_module": "@jupyter-widgets/controls",
       "_view_module_version": "1.5.0",
       "_view_name": "ProgressView",
       "bar_style": "success",
       "description": "",
       "description_tooltip": null,
       "layout": "IPY_MODEL_80f827d24b2e421bbe84d92c8dcc002b",
       "max": 580,
       "min": 0,
       "orientation": "horizontal",
       "style": "IPY_MODEL_349e43c8d4114c36823434cef63fc567",
       "value": 580
      }
     },
     "a1cafe17bdf945aa8a33875d0590f7a2": {
      "model_module": "@jupyter-widgets/controls",
      "model_module_version": "1.5.0",
      "model_name": "HTMLModel",
      "state": {
       "_dom_classes": [],
       "_model_module": "@jupyter-widgets/controls",
       "_model_module_version": "1.5.0",
       "_model_name": "HTMLModel",
       "_view_count": null,
       "_view_module": "@jupyter-widgets/controls",
       "_view_module_version": "1.5.0",
       "_view_name": "HTMLView",
       "description": "",
       "description_tooltip": null,
       "layout": "IPY_MODEL_dd68281fe7ea499882e5d23a5bbfb9f0",
       "placeholder": "​",
       "style": "IPY_MODEL_8ae7b72a5b9f4533a2076af3fb7786bd",
       "value": " 52.0/52.0 [00:00&lt;00:00, 2.03kB/s]"
      }
     },
     "a3f3db4032b54ac49421d5cbd31a9533": {
      "model_module": "@jupyter-widgets/base",
      "model_module_version": "1.2.0",
      "model_name": "LayoutModel",
      "state": {
       "_model_module": "@jupyter-widgets/base",
       "_model_module_version": "1.2.0",
       "_model_name": "LayoutModel",
       "_view_count": null,
       "_view_module": "@jupyter-widgets/base",
       "_view_module_version": "1.2.0",
       "_view_name": "LayoutView",
       "align_content": null,
       "align_items": null,
       "align_self": null,
       "border": null,
       "bottom": null,
       "display": null,
       "flex": null,
       "flex_flow": null,
       "grid_area": null,
       "grid_auto_columns": null,
       "grid_auto_flow": null,
       "grid_auto_rows": null,
       "grid_column": null,
       "grid_gap": null,
       "grid_row": null,
       "grid_template_areas": null,
       "grid_template_columns": null,
       "grid_template_rows": null,
       "height": null,
       "justify_content": null,
       "justify_items": null,
       "left": null,
       "margin": null,
       "max_height": null,
       "max_width": null,
       "min_height": null,
       "min_width": null,
       "object_fit": null,
       "object_position": null,
       "order": null,
       "overflow": null,
       "overflow_x": null,
       "overflow_y": null,
       "padding": null,
       "right": null,
       "top": null,
       "visibility": null,
       "width": null
      }
     },
     "a87f939ae9cb44bf8d9eed523f5cb995": {
      "model_module": "@jupyter-widgets/controls",
      "model_module_version": "1.5.0",
      "model_name": "DescriptionStyleModel",
      "state": {
       "_model_module": "@jupyter-widgets/controls",
       "_model_module_version": "1.5.0",
       "_model_name": "DescriptionStyleModel",
       "_view_count": null,
       "_view_module": "@jupyter-widgets/base",
       "_view_module_version": "1.2.0",
       "_view_name": "StyleView",
       "description_width": ""
      }
     },
     "aaf4c8e1ae794178bd2db64c5c27edcd": {
      "model_module": "@jupyter-widgets/base",
      "model_module_version": "1.2.0",
      "model_name": "LayoutModel",
      "state": {
       "_model_module": "@jupyter-widgets/base",
       "_model_module_version": "1.2.0",
       "_model_name": "LayoutModel",
       "_view_count": null,
       "_view_module": "@jupyter-widgets/base",
       "_view_module_version": "1.2.0",
       "_view_name": "LayoutView",
       "align_content": null,
       "align_items": null,
       "align_self": null,
       "border": null,
       "bottom": null,
       "display": null,
       "flex": null,
       "flex_flow": null,
       "grid_area": null,
       "grid_auto_columns": null,
       "grid_auto_flow": null,
       "grid_auto_rows": null,
       "grid_column": null,
       "grid_gap": null,
       "grid_row": null,
       "grid_template_areas": null,
       "grid_template_columns": null,
       "grid_template_rows": null,
       "height": null,
       "justify_content": null,
       "justify_items": null,
       "left": null,
       "margin": null,
       "max_height": null,
       "max_width": null,
       "min_height": null,
       "min_width": null,
       "object_fit": null,
       "object_position": null,
       "order": null,
       "overflow": null,
       "overflow_x": null,
       "overflow_y": null,
       "padding": null,
       "right": null,
       "top": null,
       "visibility": null,
       "width": null
      }
     },
     "ab615699cb634117a739e8673396b52d": {
      "model_module": "@jupyter-widgets/controls",
      "model_module_version": "1.5.0",
      "model_name": "ProgressStyleModel",
      "state": {
       "_model_module": "@jupyter-widgets/controls",
       "_model_module_version": "1.5.0",
       "_model_name": "ProgressStyleModel",
       "_view_count": null,
       "_view_module": "@jupyter-widgets/base",
       "_view_module_version": "1.2.0",
       "_view_name": "StyleView",
       "bar_color": null,
       "description_width": ""
      }
     },
     "ad4745f1eca942009bdf6cf12913f34a": {
      "model_module": "@jupyter-widgets/base",
      "model_module_version": "1.2.0",
      "model_name": "LayoutModel",
      "state": {
       "_model_module": "@jupyter-widgets/base",
       "_model_module_version": "1.2.0",
       "_model_name": "LayoutModel",
       "_view_count": null,
       "_view_module": "@jupyter-widgets/base",
       "_view_module_version": "1.2.0",
       "_view_name": "LayoutView",
       "align_content": null,
       "align_items": null,
       "align_self": null,
       "border": null,
       "bottom": null,
       "display": null,
       "flex": null,
       "flex_flow": null,
       "grid_area": null,
       "grid_auto_columns": null,
       "grid_auto_flow": null,
       "grid_auto_rows": null,
       "grid_column": null,
       "grid_gap": null,
       "grid_row": null,
       "grid_template_areas": null,
       "grid_template_columns": null,
       "grid_template_rows": null,
       "height": null,
       "justify_content": null,
       "justify_items": null,
       "left": null,
       "margin": null,
       "max_height": null,
       "max_width": null,
       "min_height": null,
       "min_width": null,
       "object_fit": null,
       "object_position": null,
       "order": null,
       "overflow": null,
       "overflow_x": null,
       "overflow_y": null,
       "padding": null,
       "right": null,
       "top": null,
       "visibility": null,
       "width": null
      }
     },
     "ad6386dafce545c48eac271bb2a3c0dd": {
      "model_module": "@jupyter-widgets/controls",
      "model_module_version": "1.5.0",
      "model_name": "DescriptionStyleModel",
      "state": {
       "_model_module": "@jupyter-widgets/controls",
       "_model_module_version": "1.5.0",
       "_model_name": "DescriptionStyleModel",
       "_view_count": null,
       "_view_module": "@jupyter-widgets/base",
       "_view_module_version": "1.2.0",
       "_view_name": "StyleView",
       "description_width": ""
      }
     },
     "b4e52efc58b54c81a39fa8e5fc26eedd": {
      "model_module": "@jupyter-widgets/controls",
      "model_module_version": "1.5.0",
      "model_name": "FloatProgressModel",
      "state": {
       "_dom_classes": [],
       "_model_module": "@jupyter-widgets/controls",
       "_model_module_version": "1.5.0",
       "_model_name": "FloatProgressModel",
       "_view_count": null,
       "_view_module": "@jupyter-widgets/controls",
       "_view_module_version": "1.5.0",
       "_view_name": "ProgressView",
       "bar_style": "success",
       "description": "",
       "description_tooltip": null,
       "layout": "IPY_MODEL_6947506e822e46d99b4dd82a8a4209cd",
       "max": 52,
       "min": 0,
       "orientation": "horizontal",
       "style": "IPY_MODEL_874dcbcfa5c94b938abebb1c7d00007c",
       "value": 52
      }
     },
     "b6f3605957844ac0b026ef0593befbae": {
      "model_module": "@jupyter-widgets/base",
      "model_module_version": "1.2.0",
      "model_name": "LayoutModel",
      "state": {
       "_model_module": "@jupyter-widgets/base",
       "_model_module_version": "1.2.0",
       "_model_name": "LayoutModel",
       "_view_count": null,
       "_view_module": "@jupyter-widgets/base",
       "_view_module_version": "1.2.0",
       "_view_name": "LayoutView",
       "align_content": null,
       "align_items": null,
       "align_self": null,
       "border": null,
       "bottom": null,
       "display": null,
       "flex": null,
       "flex_flow": null,
       "grid_area": null,
       "grid_auto_columns": null,
       "grid_auto_flow": null,
       "grid_auto_rows": null,
       "grid_column": null,
       "grid_gap": null,
       "grid_row": null,
       "grid_template_areas": null,
       "grid_template_columns": null,
       "grid_template_rows": null,
       "height": null,
       "justify_content": null,
       "justify_items": null,
       "left": null,
       "margin": null,
       "max_height": null,
       "max_width": null,
       "min_height": null,
       "min_width": null,
       "object_fit": null,
       "object_position": null,
       "order": null,
       "overflow": null,
       "overflow_x": null,
       "overflow_y": null,
       "padding": null,
       "right": null,
       "top": null,
       "visibility": null,
       "width": null
      }
     },
     "b849e52bd84942e583de4b9325c96afe": {
      "model_module": "@jupyter-widgets/controls",
      "model_module_version": "1.5.0",
      "model_name": "FloatProgressModel",
      "state": {
       "_dom_classes": [],
       "_model_module": "@jupyter-widgets/controls",
       "_model_module_version": "1.5.0",
       "_model_name": "FloatProgressModel",
       "_view_count": null,
       "_view_module": "@jupyter-widgets/controls",
       "_view_module_version": "1.5.0",
       "_view_name": "ProgressView",
       "bar_style": "success",
       "description": "",
       "description_tooltip": null,
       "layout": "IPY_MODEL_341389680b6a43d8b6b3de95dffca671",
       "max": 36473,
       "min": 0,
       "orientation": "horizontal",
       "style": "IPY_MODEL_ab615699cb634117a739e8673396b52d",
       "value": 36473
      }
     },
     "ba8f6b6e291a4d6faae41e5e6921f4aa": {
      "model_module": "@jupyter-widgets/base",
      "model_module_version": "1.2.0",
      "model_name": "LayoutModel",
      "state": {
       "_model_module": "@jupyter-widgets/base",
       "_model_module_version": "1.2.0",
       "_model_name": "LayoutModel",
       "_view_count": null,
       "_view_module": "@jupyter-widgets/base",
       "_view_module_version": "1.2.0",
       "_view_name": "LayoutView",
       "align_content": null,
       "align_items": null,
       "align_self": null,
       "border": null,
       "bottom": null,
       "display": null,
       "flex": null,
       "flex_flow": null,
       "grid_area": null,
       "grid_auto_columns": null,
       "grid_auto_flow": null,
       "grid_auto_rows": null,
       "grid_column": null,
       "grid_gap": null,
       "grid_row": null,
       "grid_template_areas": null,
       "grid_template_columns": null,
       "grid_template_rows": null,
       "height": null,
       "justify_content": null,
       "justify_items": null,
       "left": null,
       "margin": null,
       "max_height": null,
       "max_width": null,
       "min_height": null,
       "min_width": null,
       "object_fit": null,
       "object_position": null,
       "order": null,
       "overflow": null,
       "overflow_x": null,
       "overflow_y": null,
       "padding": null,
       "right": null,
       "top": null,
       "visibility": null,
       "width": null
      }
     },
     "bb944cd3fb694105a4d535f4e9c333a8": {
      "model_module": "@jupyter-widgets/controls",
      "model_module_version": "1.5.0",
      "model_name": "DescriptionStyleModel",
      "state": {
       "_model_module": "@jupyter-widgets/controls",
       "_model_module_version": "1.5.0",
       "_model_name": "DescriptionStyleModel",
       "_view_count": null,
       "_view_module": "@jupyter-widgets/base",
       "_view_module_version": "1.2.0",
       "_view_name": "StyleView",
       "description_width": ""
      }
     },
     "bba517b096dd460cb764ccd71b57f148": {
      "model_module": "@jupyter-widgets/controls",
      "model_module_version": "1.5.0",
      "model_name": "FloatProgressModel",
      "state": {
       "_dom_classes": [],
       "_model_module": "@jupyter-widgets/controls",
       "_model_module_version": "1.5.0",
       "_model_name": "FloatProgressModel",
       "_view_count": null,
       "_view_module": "@jupyter-widgets/controls",
       "_view_module_version": "1.5.0",
       "_view_name": "ProgressView",
       "bar_style": "success",
       "description": "",
       "description_tooltip": null,
       "layout": "IPY_MODEL_ba8f6b6e291a4d6faae41e5e6921f4aa",
       "max": 136,
       "min": 0,
       "orientation": "horizontal",
       "style": "IPY_MODEL_ec381745899e4ce7900c973c72d2ff3b",
       "value": 136
      }
     },
     "be8bbaca794c4ab0b387c44fc3d2637f": {
      "model_module": "@jupyter-widgets/base",
      "model_module_version": "1.2.0",
      "model_name": "LayoutModel",
      "state": {
       "_model_module": "@jupyter-widgets/base",
       "_model_module_version": "1.2.0",
       "_model_name": "LayoutModel",
       "_view_count": null,
       "_view_module": "@jupyter-widgets/base",
       "_view_module_version": "1.2.0",
       "_view_name": "LayoutView",
       "align_content": null,
       "align_items": null,
       "align_self": null,
       "border": null,
       "bottom": null,
       "display": null,
       "flex": null,
       "flex_flow": null,
       "grid_area": null,
       "grid_auto_columns": null,
       "grid_auto_flow": null,
       "grid_auto_rows": null,
       "grid_column": null,
       "grid_gap": null,
       "grid_row": null,
       "grid_template_areas": null,
       "grid_template_columns": null,
       "grid_template_rows": null,
       "height": null,
       "justify_content": null,
       "justify_items": null,
       "left": null,
       "margin": null,
       "max_height": null,
       "max_width": null,
       "min_height": null,
       "min_width": null,
       "object_fit": null,
       "object_position": null,
       "order": null,
       "overflow": null,
       "overflow_x": null,
       "overflow_y": null,
       "padding": null,
       "right": null,
       "top": null,
       "visibility": null,
       "width": null
      }
     },
     "c0dcc3eeec934d289bf99c7d14bab090": {
      "model_module": "@jupyter-widgets/base",
      "model_module_version": "1.2.0",
      "model_name": "LayoutModel",
      "state": {
       "_model_module": "@jupyter-widgets/base",
       "_model_module_version": "1.2.0",
       "_model_name": "LayoutModel",
       "_view_count": null,
       "_view_module": "@jupyter-widgets/base",
       "_view_module_version": "1.2.0",
       "_view_name": "LayoutView",
       "align_content": null,
       "align_items": null,
       "align_self": null,
       "border": null,
       "bottom": null,
       "display": null,
       "flex": null,
       "flex_flow": null,
       "grid_area": null,
       "grid_auto_columns": null,
       "grid_auto_flow": null,
       "grid_auto_rows": null,
       "grid_column": null,
       "grid_gap": null,
       "grid_row": null,
       "grid_template_areas": null,
       "grid_template_columns": null,
       "grid_template_rows": null,
       "height": null,
       "justify_content": null,
       "justify_items": null,
       "left": null,
       "margin": null,
       "max_height": null,
       "max_width": null,
       "min_height": null,
       "min_width": null,
       "object_fit": null,
       "object_position": null,
       "order": null,
       "overflow": null,
       "overflow_x": null,
       "overflow_y": null,
       "padding": null,
       "right": null,
       "top": null,
       "visibility": null,
       "width": null
      }
     },
     "c1e8e53062324cf38fbd75eab01e066a": {
      "model_module": "@jupyter-widgets/base",
      "model_module_version": "1.2.0",
      "model_name": "LayoutModel",
      "state": {
       "_model_module": "@jupyter-widgets/base",
       "_model_module_version": "1.2.0",
       "_model_name": "LayoutModel",
       "_view_count": null,
       "_view_module": "@jupyter-widgets/base",
       "_view_module_version": "1.2.0",
       "_view_name": "LayoutView",
       "align_content": null,
       "align_items": null,
       "align_self": null,
       "border": null,
       "bottom": null,
       "display": null,
       "flex": null,
       "flex_flow": null,
       "grid_area": null,
       "grid_auto_columns": null,
       "grid_auto_flow": null,
       "grid_auto_rows": null,
       "grid_column": null,
       "grid_gap": null,
       "grid_row": null,
       "grid_template_areas": null,
       "grid_template_columns": null,
       "grid_template_rows": null,
       "height": null,
       "justify_content": null,
       "justify_items": null,
       "left": null,
       "margin": null,
       "max_height": null,
       "max_width": null,
       "min_height": null,
       "min_width": null,
       "object_fit": null,
       "object_position": null,
       "order": null,
       "overflow": null,
       "overflow_x": null,
       "overflow_y": null,
       "padding": null,
       "right": null,
       "top": null,
       "visibility": null,
       "width": null
      }
     },
     "c4ff773d63e34e0c93e23aa455a97958": {
      "model_module": "@jupyter-widgets/controls",
      "model_module_version": "1.5.0",
      "model_name": "ProgressStyleModel",
      "state": {
       "_model_module": "@jupyter-widgets/controls",
       "_model_module_version": "1.5.0",
       "_model_name": "ProgressStyleModel",
       "_view_count": null,
       "_view_module": "@jupyter-widgets/base",
       "_view_module_version": "1.2.0",
       "_view_name": "StyleView",
       "bar_color": null,
       "description_width": ""
      }
     },
     "c5de80b22af543edb57e65780298069e": {
      "model_module": "@jupyter-widgets/controls",
      "model_module_version": "1.5.0",
      "model_name": "DescriptionStyleModel",
      "state": {
       "_model_module": "@jupyter-widgets/controls",
       "_model_module_version": "1.5.0",
       "_model_name": "DescriptionStyleModel",
       "_view_count": null,
       "_view_module": "@jupyter-widgets/base",
       "_view_module_version": "1.2.0",
       "_view_name": "StyleView",
       "description_width": ""
      }
     },
     "d21724e187b94518ad3cc61f1daa73cf": {
      "model_module": "@jupyter-widgets/controls",
      "model_module_version": "1.5.0",
      "model_name": "HBoxModel",
      "state": {
       "_dom_classes": [],
       "_model_module": "@jupyter-widgets/controls",
       "_model_module_version": "1.5.0",
       "_model_name": "HBoxModel",
       "_view_count": null,
       "_view_module": "@jupyter-widgets/controls",
       "_view_module_version": "1.5.0",
       "_view_name": "HBoxView",
       "box_style": "",
       "children": [
        "IPY_MODEL_e13e1ad96b5648588ba7a5b2e3771179",
        "IPY_MODEL_7fb6ee0e688440bab23c07808e5cef8b",
        "IPY_MODEL_f9081778edc6436c9d1bc9a886ac922c"
       ],
       "layout": "IPY_MODEL_9901f18e7e5841b8bfcb918c432ef718"
      }
     },
     "d3b6e4a4aac943b79ba51bbacd77907e": {
      "model_module": "@jupyter-widgets/controls",
      "model_module_version": "1.5.0",
      "model_name": "DescriptionStyleModel",
      "state": {
       "_model_module": "@jupyter-widgets/controls",
       "_model_module_version": "1.5.0",
       "_model_name": "DescriptionStyleModel",
       "_view_count": null,
       "_view_module": "@jupyter-widgets/base",
       "_view_module_version": "1.2.0",
       "_view_name": "StyleView",
       "description_width": ""
      }
     },
     "d9f0d96d140a4115aadfdfc9ce5ba608": {
      "model_module": "@jupyter-widgets/controls",
      "model_module_version": "1.5.0",
      "model_name": "ProgressStyleModel",
      "state": {
       "_model_module": "@jupyter-widgets/controls",
       "_model_module_version": "1.5.0",
       "_model_name": "ProgressStyleModel",
       "_view_count": null,
       "_view_module": "@jupyter-widgets/base",
       "_view_module_version": "1.2.0",
       "_view_name": "StyleView",
       "bar_color": null,
       "description_width": ""
      }
     },
     "da88817e8aed48399b1948f8e004ee97": {
      "model_module": "@jupyter-widgets/base",
      "model_module_version": "1.2.0",
      "model_name": "LayoutModel",
      "state": {
       "_model_module": "@jupyter-widgets/base",
       "_model_module_version": "1.2.0",
       "_model_name": "LayoutModel",
       "_view_count": null,
       "_view_module": "@jupyter-widgets/base",
       "_view_module_version": "1.2.0",
       "_view_name": "LayoutView",
       "align_content": null,
       "align_items": null,
       "align_self": null,
       "border": null,
       "bottom": null,
       "display": null,
       "flex": null,
       "flex_flow": null,
       "grid_area": null,
       "grid_auto_columns": null,
       "grid_auto_flow": null,
       "grid_auto_rows": null,
       "grid_column": null,
       "grid_gap": null,
       "grid_row": null,
       "grid_template_areas": null,
       "grid_template_columns": null,
       "grid_template_rows": null,
       "height": null,
       "justify_content": null,
       "justify_items": null,
       "left": null,
       "margin": null,
       "max_height": null,
       "max_width": null,
       "min_height": null,
       "min_width": null,
       "object_fit": null,
       "object_position": null,
       "order": null,
       "overflow": null,
       "overflow_x": null,
       "overflow_y": null,
       "padding": null,
       "right": null,
       "top": null,
       "visibility": null,
       "width": null
      }
     },
     "dd68281fe7ea499882e5d23a5bbfb9f0": {
      "model_module": "@jupyter-widgets/base",
      "model_module_version": "1.2.0",
      "model_name": "LayoutModel",
      "state": {
       "_model_module": "@jupyter-widgets/base",
       "_model_module_version": "1.2.0",
       "_model_name": "LayoutModel",
       "_view_count": null,
       "_view_module": "@jupyter-widgets/base",
       "_view_module_version": "1.2.0",
       "_view_name": "LayoutView",
       "align_content": null,
       "align_items": null,
       "align_self": null,
       "border": null,
       "bottom": null,
       "display": null,
       "flex": null,
       "flex_flow": null,
       "grid_area": null,
       "grid_auto_columns": null,
       "grid_auto_flow": null,
       "grid_auto_rows": null,
       "grid_column": null,
       "grid_gap": null,
       "grid_row": null,
       "grid_template_areas": null,
       "grid_template_columns": null,
       "grid_template_rows": null,
       "height": null,
       "justify_content": null,
       "justify_items": null,
       "left": null,
       "margin": null,
       "max_height": null,
       "max_width": null,
       "min_height": null,
       "min_width": null,
       "object_fit": null,
       "object_position": null,
       "order": null,
       "overflow": null,
       "overflow_x": null,
       "overflow_y": null,
       "padding": null,
       "right": null,
       "top": null,
       "visibility": null,
       "width": null
      }
     },
     "de3e60ed24f04a7ab49a05b98b7cf0f0": {
      "model_module": "@jupyter-widgets/controls",
      "model_module_version": "1.5.0",
      "model_name": "DescriptionStyleModel",
      "state": {
       "_model_module": "@jupyter-widgets/controls",
       "_model_module_version": "1.5.0",
       "_model_name": "DescriptionStyleModel",
       "_view_count": null,
       "_view_module": "@jupyter-widgets/base",
       "_view_module_version": "1.2.0",
       "_view_name": "StyleView",
       "description_width": ""
      }
     },
     "e13e1ad96b5648588ba7a5b2e3771179": {
      "model_module": "@jupyter-widgets/controls",
      "model_module_version": "1.5.0",
      "model_name": "HTMLModel",
      "state": {
       "_dom_classes": [],
       "_model_module": "@jupyter-widgets/controls",
       "_model_module_version": "1.5.0",
       "_model_name": "HTMLModel",
       "_view_count": null,
       "_view_module": "@jupyter-widgets/controls",
       "_view_module_version": "1.5.0",
       "_view_name": "HTMLView",
       "description": "",
       "description_tooltip": null,
       "layout": "IPY_MODEL_1d83ae8940534922833de4d1fdd71216",
       "placeholder": "​",
       "style": "IPY_MODEL_46ab7441760642718f381e7f430e16a0",
       "value": "Downloading: 100%"
      }
     },
     "e3e17f880bab4d47a1531bebac861fda": {
      "model_module": "@jupyter-widgets/controls",
      "model_module_version": "1.5.0",
      "model_name": "HTMLModel",
      "state": {
       "_dom_classes": [],
       "_model_module": "@jupyter-widgets/controls",
       "_model_module_version": "1.5.0",
       "_model_name": "HTMLModel",
       "_view_count": null,
       "_view_module": "@jupyter-widgets/controls",
       "_view_module_version": "1.5.0",
       "_view_name": "HTMLView",
       "description": "",
       "description_tooltip": null,
       "layout": "IPY_MODEL_a3f3db4032b54ac49421d5cbd31a9533",
       "placeholder": "​",
       "style": "IPY_MODEL_35cb92ba1b2d4932bc3a0b0640f71b0c",
       "value": " 580/580 [00:00&lt;00:00, 23.1kB/s]"
      }
     },
     "ec381745899e4ce7900c973c72d2ff3b": {
      "model_module": "@jupyter-widgets/controls",
      "model_module_version": "1.5.0",
      "model_name": "ProgressStyleModel",
      "state": {
       "_model_module": "@jupyter-widgets/controls",
       "_model_module_version": "1.5.0",
       "_model_name": "ProgressStyleModel",
       "_view_count": null,
       "_view_module": "@jupyter-widgets/base",
       "_view_module_version": "1.2.0",
       "_view_name": "StyleView",
       "bar_color": null,
       "description_width": ""
      }
     },
     "f3e6058e180d40b8bc25ff82940789f1": {
      "model_module": "@jupyter-widgets/base",
      "model_module_version": "1.2.0",
      "model_name": "LayoutModel",
      "state": {
       "_model_module": "@jupyter-widgets/base",
       "_model_module_version": "1.2.0",
       "_model_name": "LayoutModel",
       "_view_count": null,
       "_view_module": "@jupyter-widgets/base",
       "_view_module_version": "1.2.0",
       "_view_name": "LayoutView",
       "align_content": null,
       "align_items": null,
       "align_self": null,
       "border": null,
       "bottom": null,
       "display": null,
       "flex": null,
       "flex_flow": null,
       "grid_area": null,
       "grid_auto_columns": null,
       "grid_auto_flow": null,
       "grid_auto_rows": null,
       "grid_column": null,
       "grid_gap": null,
       "grid_row": null,
       "grid_template_areas": null,
       "grid_template_columns": null,
       "grid_template_rows": null,
       "height": null,
       "justify_content": null,
       "justify_items": null,
       "left": null,
       "margin": null,
       "max_height": null,
       "max_width": null,
       "min_height": null,
       "min_width": null,
       "object_fit": null,
       "object_position": null,
       "order": null,
       "overflow": null,
       "overflow_x": null,
       "overflow_y": null,
       "padding": null,
       "right": null,
       "top": null,
       "visibility": null,
       "width": null
      }
     },
     "f7cdf444f3c041cda9b6bd5a47ca87c5": {
      "model_module": "@jupyter-widgets/controls",
      "model_module_version": "1.5.0",
      "model_name": "VBoxModel",
      "state": {
       "_dom_classes": [],
       "_model_module": "@jupyter-widgets/controls",
       "_model_module_version": "1.5.0",
       "_model_name": "VBoxModel",
       "_view_count": null,
       "_view_module": "@jupyter-widgets/controls",
       "_view_module_version": "1.5.0",
       "_view_name": "VBoxView",
       "box_style": "",
       "children": [
        "IPY_MODEL_5ffb53b010e948a0918366a7721dd7a9",
        "IPY_MODEL_86af7db3cea442beb67da28063f15ed6"
       ],
       "layout": "IPY_MODEL_b6f3605957844ac0b026ef0593befbae"
      }
     },
     "f836cfd56e0d4d7188f1b263a5845bff": {
      "model_module": "@jupyter-widgets/base",
      "model_module_version": "1.2.0",
      "model_name": "LayoutModel",
      "state": {
       "_model_module": "@jupyter-widgets/base",
       "_model_module_version": "1.2.0",
       "_model_name": "LayoutModel",
       "_view_count": null,
       "_view_module": "@jupyter-widgets/base",
       "_view_module_version": "1.2.0",
       "_view_name": "LayoutView",
       "align_content": null,
       "align_items": null,
       "align_self": null,
       "border": null,
       "bottom": null,
       "display": null,
       "flex": null,
       "flex_flow": null,
       "grid_area": null,
       "grid_auto_columns": null,
       "grid_auto_flow": null,
       "grid_auto_rows": null,
       "grid_column": null,
       "grid_gap": null,
       "grid_row": null,
       "grid_template_areas": null,
       "grid_template_columns": null,
       "grid_template_rows": null,
       "height": null,
       "justify_content": null,
       "justify_items": null,
       "left": null,
       "margin": null,
       "max_height": null,
       "max_width": null,
       "min_height": null,
       "min_width": null,
       "object_fit": null,
       "object_position": null,
       "order": null,
       "overflow": null,
       "overflow_x": null,
       "overflow_y": null,
       "padding": null,
       "right": null,
       "top": null,
       "visibility": null,
       "width": null
      }
     },
     "f9081778edc6436c9d1bc9a886ac922c": {
      "model_module": "@jupyter-widgets/controls",
      "model_module_version": "1.5.0",
      "model_name": "HTMLModel",
      "state": {
       "_dom_classes": [],
       "_model_module": "@jupyter-widgets/controls",
       "_model_module_version": "1.5.0",
       "_model_name": "HTMLModel",
       "_view_count": null,
       "_view_module": "@jupyter-widgets/controls",
       "_view_module_version": "1.5.0",
       "_view_name": "HTMLView",
       "description": "",
       "description_tooltip": null,
       "layout": "IPY_MODEL_f3e6058e180d40b8bc25ff82940789f1",
       "placeholder": "​",
       "style": "IPY_MODEL_842a840396ab4cefb93cc2733bf00cf7",
       "value": " 833M/833M [00:19&lt;00:00, 43.1MB/s]"
      }
     },
     "fb6b7fc69b2549ab9d80d71017422178": {
      "model_module": "@jupyter-widgets/base",
      "model_module_version": "1.2.0",
      "model_name": "LayoutModel",
      "state": {
       "_model_module": "@jupyter-widgets/base",
       "_model_module_version": "1.2.0",
       "_model_name": "LayoutModel",
       "_view_count": null,
       "_view_module": "@jupyter-widgets/base",
       "_view_module_version": "1.2.0",
       "_view_name": "LayoutView",
       "align_content": null,
       "align_items": null,
       "align_self": null,
       "border": null,
       "bottom": null,
       "display": null,
       "flex": null,
       "flex_flow": null,
       "grid_area": null,
       "grid_auto_columns": null,
       "grid_auto_flow": null,
       "grid_auto_rows": null,
       "grid_column": null,
       "grid_gap": null,
       "grid_row": null,
       "grid_template_areas": null,
       "grid_template_columns": null,
       "grid_template_rows": null,
       "height": null,
       "justify_content": null,
       "justify_items": null,
       "left": null,
       "margin": null,
       "max_height": null,
       "max_width": null,
       "min_height": null,
       "min_width": null,
       "object_fit": null,
       "object_position": null,
       "order": null,
       "overflow": null,
       "overflow_x": null,
       "overflow_y": null,
       "padding": null,
       "right": null,
       "top": null,
       "visibility": null,
       "width": null
      }
     },
     "ff0d93c0f2a54cae8698028db31d1454": {
      "model_module": "@jupyter-widgets/controls",
      "model_module_version": "1.5.0",
      "model_name": "DescriptionStyleModel",
      "state": {
       "_model_module": "@jupyter-widgets/controls",
       "_model_module_version": "1.5.0",
       "_model_name": "DescriptionStyleModel",
       "_view_count": null,
       "_view_module": "@jupyter-widgets/base",
       "_view_module_version": "1.2.0",
       "_view_name": "StyleView",
       "description_width": ""
      }
     }
    },
    "version_major": 2,
    "version_minor": 0
   }
  }
 },
 "nbformat": 4,
 "nbformat_minor": 5
}
