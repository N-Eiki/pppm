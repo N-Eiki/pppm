{
 "cells": [
  {
   "cell_type": "markdown",
   "id": "70f90ffb",
   "metadata": {
    "id": "e460cbb5",
    "papermill": {
     "duration": 0.027808,
     "end_time": "2022-03-22T09:40:01.410751",
     "exception": false,
     "start_time": "2022-03-22T09:40:01.382943",
     "status": "completed"
    },
    "tags": []
   },
   "source": [
    "# About this notebook\n",
    "- Deberta-v3-large starter code\n",
    "- pip wheels is [here](https://www.kaggle.com/code/yasufuminakama/pppm-pip-wheels)\n",
    "- Inference notebook is [here](https://www.kaggle.com/code/yasufuminakama/pppm-deberta-v3-large-baseline-inference)\n",
    "\n",
    "If this notebook is helpful, feel free to upvote :)"
   ]
  },
  {
   "cell_type": "code",
   "execution_count": 1,
   "id": "4b6835d2-9fc4-4e64-8eb9-1f8eebb143bf",
   "metadata": {},
   "outputs": [
    {
     "name": "stdout",
     "output_type": "stream",
     "text": [
      "sleep 0 h\n",
      "sleep 1 h\n",
      "sleep 2 h\n",
      "sleep 3 h\n",
      "sleep 4 h\n"
     ]
    }
   ],
   "source": [
    "import os\n",
    "import time\n",
    "wait_to_make = \"trained_list/roberta-large-test.txt\"\n",
    "count = 0\n",
    "while 1:\n",
    "    if os.path.exists(wait_to_make):\n",
    "        break\n",
    "    print(f'sleep {count} h')\n",
    "    time.sleep(3600)\n",
    "    count+=1\n",
    "    \n",
    "local = True"
   ]
  },
  {
   "cell_type": "code",
   "execution_count": 2,
   "id": "7df63313-5526-4691-94ae-12ea4bf25bde",
   "metadata": {},
   "outputs": [],
   "source": [
    "EXP_NAME = \"bert-large-uncased-whole-word-masking-finetuned-squad\"\n",
    "# \"bert-base-uncased\"\n"
   ]
  },
  {
   "cell_type": "code",
   "execution_count": 3,
   "id": "d14ce8ab",
   "metadata": {},
   "outputs": [],
   "source": [
    "# !nvidia-smi"
   ]
  },
  {
   "cell_type": "code",
   "execution_count": 4,
   "id": "7d511eeb",
   "metadata": {},
   "outputs": [],
   "source": [
    "# ! pip install torch==1.9.0+cu111 torchvision==0.10.0+cu111 torchaudio===0.9.0 -f https://download.pytorch.org/whl/torch_stable.html"
   ]
  },
  {
   "cell_type": "code",
   "execution_count": 5,
   "id": "c13809d2",
   "metadata": {},
   "outputs": [
    {
     "name": "stdout",
     "output_type": "stream",
     "text": [
      "1.9.0+cu111\n",
      "True\n"
     ]
    }
   ],
   "source": [
    "import torch\n",
    "print(torch.__version__)\n",
    "print(torch.cuda.is_available())"
   ]
  },
  {
   "cell_type": "markdown",
   "id": "263c913e",
   "metadata": {
    "papermill": {
     "duration": 0.024515,
     "end_time": "2022-03-22T09:40:01.460332",
     "exception": false,
     "start_time": "2022-03-22T09:40:01.435817",
     "status": "completed"
    },
    "tags": []
   },
   "source": [
    "# Directory settings"
   ]
  },
  {
   "cell_type": "code",
   "execution_count": 6,
   "id": "46d8c76e",
   "metadata": {
    "id": "fa3b873b",
    "papermill": {
     "duration": 0.041313,
     "end_time": "2022-03-22T09:40:01.526545",
     "exception": false,
     "start_time": "2022-03-22T09:40:01.485232",
     "status": "completed"
    },
    "tags": []
   },
   "outputs": [],
   "source": [
    "# ====================================================\n",
    "# Directory settings\n",
    "# ====================================================\n",
    "\n",
    "import os\n",
    "import datetime\n",
    "if local:\n",
    "    INPUT_DIR = '../../data/us-patent-phrase-to-phrase-matching/'\n",
    "else:\n",
    "    INPUT_DIR = '../../data/us-patent-phrase-to-phrase-matching/'\n",
    "\n",
    "OUTPUT_DIR = f'./output/{EXP_NAME}/'\n",
    "# if not os.path.exists(OUTPUT_DIR):\n",
    "os.makedirs(OUTPUT_DIR, exist_ok=True)\n"
   ]
  },
  {
   "cell_type": "markdown",
   "id": "c75f6918",
   "metadata": {
    "id": "1d0c4430",
    "papermill": {
     "duration": 0.024609,
     "end_time": "2022-03-22T09:40:01.576366",
     "exception": false,
     "start_time": "2022-03-22T09:40:01.551757",
     "status": "completed"
    },
    "tags": []
   },
   "source": [
    "# CFG"
   ]
  },
  {
   "cell_type": "code",
   "execution_count": 7,
   "id": "80d58afe",
   "metadata": {
    "id": "48dd82bb",
    "papermill": {
     "duration": 0.033949,
     "end_time": "2022-03-22T09:40:01.634977",
     "exception": false,
     "start_time": "2022-03-22T09:40:01.601028",
     "status": "completed"
    },
    "tags": []
   },
   "outputs": [],
   "source": [
    "# ====================================================\n",
    "# CFG\n",
    "# ====================================================\n",
    "class CFG:\n",
    "    wandb=False\n",
    "    competition='PPPM'\n",
    "    _wandb_kernel='nakama'\n",
    "    debug=False\n",
    "    apex=True\n",
    "    print_freq=100\n",
    "    num_workers=4\n",
    "    # model=\"microsoft/deberta-v3-large\"\n",
    "    # model = \"bert-base-uncased\"\n",
    "    model = \"bert-large-uncased-whole-word-masking-finetuned-squad\"\n",
    "    # size = \"large\n",
    "    # model = f\"{model}-{size}\"\n",
    "    if \"small\" in model:\n",
    "        hidden_state = hiddden_state_fix = 512\n",
    "    elif \"base\" in model or \"medium\" in model:\n",
    "        hidden_state = hiddden_state_fix = 768\n",
    "    elif \"large\" in model:\n",
    "        hidden_state = hiddden_state_fix = 1024\n",
    "    elif \"xlarge\" in model:\n",
    "        hidden_state =  1536\n",
    "        \n",
    "    scheduler='cosine' # ['linear', 'cosine']\n",
    "    batch_scheduler=True\n",
    "    num_cycles=0.5\n",
    "    num_warmup_steps=0\n",
    "    epochs=8\n",
    "    encoder_lr=2e-5\n",
    "    decoder_lr=2e-5\n",
    "    min_lr=1e-6\n",
    "    eps=1e-6\n",
    "    betas=(0.9, 0.999)\n",
    "    \n",
    "    batch_size=16\n",
    "    \n",
    "    \n",
    "    fc_dropout=0.2\n",
    "    target_size=1\n",
    "    max_len=512\n",
    "    weight_decay=0.01\n",
    "    gradient_accumulation_steps=1\n",
    "    max_grad_norm=1000\n",
    "    seed=42\n",
    "    n_fold=4\n",
    "    trn_fold=[i for i in range(n_fold)]\n",
    "    train=True\n",
    "    \n",
    "if CFG.debug:\n",
    "    CFG.epochs = 2\n",
    "    CFG.trn_fold = [0]"
   ]
  },
  {
   "cell_type": "code",
   "execution_count": 8,
   "id": "b7de2887",
   "metadata": {
    "id": "b88c983e",
    "papermill": {
     "duration": 8.873453,
     "end_time": "2022-03-22T09:40:10.532922",
     "exception": false,
     "start_time": "2022-03-22T09:40:01.659469",
     "status": "completed"
    },
    "tags": []
   },
   "outputs": [],
   "source": [
    "# ====================================================\n",
    "# wandb\n",
    "# ====================================================\n",
    "if CFG.wandb:\n",
    "    \n",
    "    import wandb\n",
    "\n",
    "    try:\n",
    "        from kaggle_secrets import UserSecretsClient\n",
    "        user_secrets = UserSecretsClient()\n",
    "        secret_value_0 = user_secrets.get_secret(\"wandb_api\")\n",
    "        wandb.login(key=secret_value_0)\n",
    "        anony = None\n",
    "    except:\n",
    "        anony = \"must\"\n",
    "        print('If you want to use your W&B account, go to Add-ons -> Secrets and provide your W&B access token. Use the Label name as wandb_api. \\nGet your W&B access token from here: https://wandb.ai/authorize')\n",
    "\n",
    "\n",
    "    def class2dict(f):\n",
    "        return dict((name, getattr(f, name)) for name in dir(f) if not name.startswith('__'))\n",
    "\n",
    "    run = wandb.init(project='PPPM-Public', \n",
    "                     name=CFG.model,\n",
    "                     config=class2dict(CFG),\n",
    "                     group=CFG.model,\n",
    "                     job_type=\"train\",\n",
    "                     anonymous=anony)"
   ]
  },
  {
   "cell_type": "code",
   "execution_count": 9,
   "id": "9f7d6f8c",
   "metadata": {},
   "outputs": [],
   "source": [
    "# !pip install transformers==4.16.2\n",
    "# !pip install tokenizers==0.11.0"
   ]
  },
  {
   "cell_type": "markdown",
   "id": "5ed638be",
   "metadata": {
    "id": "f2ed8ef2",
    "papermill": {
     "duration": 0.038261,
     "end_time": "2022-03-22T09:40:10.626926",
     "exception": false,
     "start_time": "2022-03-22T09:40:10.588665",
     "status": "completed"
    },
    "tags": []
   },
   "source": [
    "# Library"
   ]
  },
  {
   "cell_type": "code",
   "execution_count": 10,
   "id": "ebee5bbe",
   "metadata": {
    "executionInfo": {
     "elapsed": 20123,
     "status": "ok",
     "timestamp": 1644920080956,
     "user": {
      "displayName": "Yasufumi Nakama",
      "photoUrl": "https://lh3.googleusercontent.com/a/default-user=s64",
      "userId": "17486303986134302670"
     },
     "user_tz": -540
    },
    "id": "35916341",
    "outputId": "06fa0ab8-a380-4f54-a98d-b7015b79d9e2",
    "papermill": {
     "duration": 26.143536,
     "end_time": "2022-03-22T09:40:36.798853",
     "exception": false,
     "start_time": "2022-03-22T09:40:10.655317",
     "status": "completed"
    },
    "tags": []
   },
   "outputs": [
    {
     "name": "stdout",
     "output_type": "stream",
     "text": [
      "torch.__version__: 1.9.0+cu111\n",
      "tokenizers.__version__: 0.11.6\n",
      "transformers.__version__: 4.17.0\n",
      "env: TOKENIZERS_PARALLELISM=true\n",
      "cuda\n"
     ]
    }
   ],
   "source": [
    "# ====================================================\n",
    "# Library\n",
    "# ====================================================\n",
    "import os\n",
    "import gc\n",
    "import re\n",
    "import ast\n",
    "import sys\n",
    "import copy\n",
    "import json\n",
    "import time\n",
    "import math\n",
    "import shutil\n",
    "import string\n",
    "import pickle\n",
    "import random\n",
    "import joblib\n",
    "import itertools\n",
    "from pathlib import Path\n",
    "import warnings\n",
    "warnings.filterwarnings(\"ignore\")\n",
    "\n",
    "import scipy as sp\n",
    "import numpy as np\n",
    "import pandas as pd\n",
    "pd.set_option('display.max_rows', 500)\n",
    "pd.set_option('display.max_columns', 500)\n",
    "pd.set_option('display.width', 1000)\n",
    "from tqdm.auto import tqdm\n",
    "from sklearn.metrics import f1_score\n",
    "from sklearn.model_selection import StratifiedKFold, GroupKFold, KFold\n",
    "\n",
    "import torch\n",
    "print(f\"torch.__version__: {torch.__version__}\")\n",
    "import torch.nn as nn\n",
    "from torch.nn import Parameter\n",
    "import torch.nn.functional as F\n",
    "from torch.optim import Adam, SGD, AdamW\n",
    "from torch.utils.data import DataLoader, Dataset\n",
    "\n",
    "import tokenizers\n",
    "import transformers\n",
    "print(f\"tokenizers.__version__: {tokenizers.__version__}\")\n",
    "print(f\"transformers.__version__: {transformers.__version__}\")\n",
    "from transformers import AutoTokenizer, AutoModel, AutoConfig\n",
    "from transformers import get_linear_schedule_with_warmup, get_cosine_schedule_with_warmup\n",
    "%env TOKENIZERS_PARALLELISM=true\n",
    "\n",
    "device = torch.device('cuda' if torch.cuda.is_available() else 'cpu')\n",
    "\n",
    "# device = torch.device('cpu')\n",
    "print(device)\n",
    "\n",
    "start = time.time()"
   ]
  },
  {
   "cell_type": "markdown",
   "id": "dcc0106a",
   "metadata": {
    "id": "fd586614",
    "papermill": {
     "duration": 0.032888,
     "end_time": "2022-03-22T09:40:36.865209",
     "exception": false,
     "start_time": "2022-03-22T09:40:36.832321",
     "status": "completed"
    },
    "tags": []
   },
   "source": [
    "# Utils"
   ]
  },
  {
   "cell_type": "code",
   "execution_count": 11,
   "id": "540df385",
   "metadata": {
    "id": "d5c0ccc6",
    "papermill": {
     "duration": 0.21551,
     "end_time": "2022-03-22T09:40:37.116848",
     "exception": false,
     "start_time": "2022-03-22T09:40:36.901338",
     "status": "completed"
    },
    "tags": []
   },
   "outputs": [],
   "source": [
    "# ====================================================\n",
    "# Utils\n",
    "# ====================================================\n",
    "def get_score(y_true, y_pred):\n",
    "    score = sp.stats.pearsonr(y_true, y_pred)[0]\n",
    "    return score\n",
    "\n",
    "\n",
    "def get_logger(filename=OUTPUT_DIR+'train'):\n",
    "    from logging import getLogger, INFO, StreamHandler, FileHandler, Formatter\n",
    "    logger = getLogger(__name__)\n",
    "    logger.setLevel(INFO)\n",
    "    handler1 = StreamHandler()\n",
    "    handler1.setFormatter(Formatter(\"%(message)s\"))\n",
    "    handler2 = FileHandler(filename=f\"{filename}.log\")\n",
    "    handler2.setFormatter(Formatter(\"%(message)s\"))\n",
    "    logger.addHandler(handler1)\n",
    "    logger.addHandler(handler2)\n",
    "    return logger\n",
    "\n",
    "LOGGER = get_logger()\n",
    "\n",
    "def seed_everything(seed=42):\n",
    "    random.seed(seed)\n",
    "    os.environ['PYTHONHASHSEED'] = str(seed)\n",
    "    np.random.seed(seed)\n",
    "    torch.manual_seed(seed)\n",
    "    torch.cuda.manual_seed(seed)\n",
    "    torch.backends.cudnn.deterministic = True\n",
    "    \n",
    "seed_everything(seed=42)"
   ]
  },
  {
   "cell_type": "markdown",
   "id": "32170fde",
   "metadata": {
    "id": "cb3d8e1e",
    "papermill": {
     "duration": 0.032614,
     "end_time": "2022-03-22T09:40:37.184739",
     "exception": false,
     "start_time": "2022-03-22T09:40:37.152125",
     "status": "completed"
    },
    "tags": []
   },
   "source": [
    "# Data Loading"
   ]
  },
  {
   "cell_type": "code",
   "execution_count": 12,
   "id": "a903a50f",
   "metadata": {
    "executionInfo": {
     "elapsed": 2627,
     "status": "ok",
     "timestamp": 1644920084001,
     "user": {
      "displayName": "Yasufumi Nakama",
      "photoUrl": "https://lh3.googleusercontent.com/a/default-user=s64",
      "userId": "17486303986134302670"
     },
     "user_tz": -540
    },
    "id": "bef012d3",
    "outputId": "d4d60dbc-510c-4f34-8d64-dd1d88c4808c",
    "papermill": {
     "duration": 0.154829,
     "end_time": "2022-03-22T09:40:37.374453",
     "exception": false,
     "start_time": "2022-03-22T09:40:37.219624",
     "status": "completed"
    },
    "tags": []
   },
   "outputs": [
    {
     "name": "stdout",
     "output_type": "stream",
     "text": [
      "train.shape: (36473, 5)\n",
      "test.shape: (36, 4)\n",
      "submission.shape: (36, 2)\n"
     ]
    },
    {
     "data": {
      "text/html": [
       "<div>\n",
       "<style scoped>\n",
       "    .dataframe tbody tr th:only-of-type {\n",
       "        vertical-align: middle;\n",
       "    }\n",
       "\n",
       "    .dataframe tbody tr th {\n",
       "        vertical-align: top;\n",
       "    }\n",
       "\n",
       "    .dataframe thead th {\n",
       "        text-align: right;\n",
       "    }\n",
       "</style>\n",
       "<table border=\"1\" class=\"dataframe\">\n",
       "  <thead>\n",
       "    <tr style=\"text-align: right;\">\n",
       "      <th></th>\n",
       "      <th>id</th>\n",
       "      <th>anchor</th>\n",
       "      <th>target</th>\n",
       "      <th>context</th>\n",
       "      <th>score</th>\n",
       "    </tr>\n",
       "  </thead>\n",
       "  <tbody>\n",
       "    <tr>\n",
       "      <th>0</th>\n",
       "      <td>37d61fd2272659b1</td>\n",
       "      <td>abatement</td>\n",
       "      <td>abatement of pollution</td>\n",
       "      <td>A47</td>\n",
       "      <td>0.50</td>\n",
       "    </tr>\n",
       "    <tr>\n",
       "      <th>1</th>\n",
       "      <td>7b9652b17b68b7a4</td>\n",
       "      <td>abatement</td>\n",
       "      <td>act of abating</td>\n",
       "      <td>A47</td>\n",
       "      <td>0.75</td>\n",
       "    </tr>\n",
       "    <tr>\n",
       "      <th>2</th>\n",
       "      <td>36d72442aefd8232</td>\n",
       "      <td>abatement</td>\n",
       "      <td>active catalyst</td>\n",
       "      <td>A47</td>\n",
       "      <td>0.25</td>\n",
       "    </tr>\n",
       "    <tr>\n",
       "      <th>3</th>\n",
       "      <td>5296b0c19e1ce60e</td>\n",
       "      <td>abatement</td>\n",
       "      <td>eliminating process</td>\n",
       "      <td>A47</td>\n",
       "      <td>0.50</td>\n",
       "    </tr>\n",
       "    <tr>\n",
       "      <th>4</th>\n",
       "      <td>54c1e3b9184cb5b6</td>\n",
       "      <td>abatement</td>\n",
       "      <td>forest region</td>\n",
       "      <td>A47</td>\n",
       "      <td>0.00</td>\n",
       "    </tr>\n",
       "  </tbody>\n",
       "</table>\n",
       "</div>"
      ],
      "text/plain": [
       "                 id     anchor                  target context  score\n",
       "0  37d61fd2272659b1  abatement  abatement of pollution     A47   0.50\n",
       "1  7b9652b17b68b7a4  abatement          act of abating     A47   0.75\n",
       "2  36d72442aefd8232  abatement         active catalyst     A47   0.25\n",
       "3  5296b0c19e1ce60e  abatement     eliminating process     A47   0.50\n",
       "4  54c1e3b9184cb5b6  abatement           forest region     A47   0.00"
      ]
     },
     "metadata": {},
     "output_type": "display_data"
    },
    {
     "data": {
      "text/html": [
       "<div>\n",
       "<style scoped>\n",
       "    .dataframe tbody tr th:only-of-type {\n",
       "        vertical-align: middle;\n",
       "    }\n",
       "\n",
       "    .dataframe tbody tr th {\n",
       "        vertical-align: top;\n",
       "    }\n",
       "\n",
       "    .dataframe thead th {\n",
       "        text-align: right;\n",
       "    }\n",
       "</style>\n",
       "<table border=\"1\" class=\"dataframe\">\n",
       "  <thead>\n",
       "    <tr style=\"text-align: right;\">\n",
       "      <th></th>\n",
       "      <th>id</th>\n",
       "      <th>anchor</th>\n",
       "      <th>target</th>\n",
       "      <th>context</th>\n",
       "    </tr>\n",
       "  </thead>\n",
       "  <tbody>\n",
       "    <tr>\n",
       "      <th>0</th>\n",
       "      <td>4112d61851461f60</td>\n",
       "      <td>opc drum</td>\n",
       "      <td>inorganic photoconductor drum</td>\n",
       "      <td>G02</td>\n",
       "    </tr>\n",
       "    <tr>\n",
       "      <th>1</th>\n",
       "      <td>09e418c93a776564</td>\n",
       "      <td>adjust gas flow</td>\n",
       "      <td>altering gas flow</td>\n",
       "      <td>F23</td>\n",
       "    </tr>\n",
       "    <tr>\n",
       "      <th>2</th>\n",
       "      <td>36baf228038e314b</td>\n",
       "      <td>lower trunnion</td>\n",
       "      <td>lower locating</td>\n",
       "      <td>B60</td>\n",
       "    </tr>\n",
       "    <tr>\n",
       "      <th>3</th>\n",
       "      <td>1f37ead645e7f0c8</td>\n",
       "      <td>cap component</td>\n",
       "      <td>upper portion</td>\n",
       "      <td>D06</td>\n",
       "    </tr>\n",
       "    <tr>\n",
       "      <th>4</th>\n",
       "      <td>71a5b6ad068d531f</td>\n",
       "      <td>neural stimulation</td>\n",
       "      <td>artificial neural network</td>\n",
       "      <td>H04</td>\n",
       "    </tr>\n",
       "  </tbody>\n",
       "</table>\n",
       "</div>"
      ],
      "text/plain": [
       "                 id              anchor                         target context\n",
       "0  4112d61851461f60            opc drum  inorganic photoconductor drum     G02\n",
       "1  09e418c93a776564     adjust gas flow              altering gas flow     F23\n",
       "2  36baf228038e314b      lower trunnion                 lower locating     B60\n",
       "3  1f37ead645e7f0c8       cap component                  upper portion     D06\n",
       "4  71a5b6ad068d531f  neural stimulation      artificial neural network     H04"
      ]
     },
     "metadata": {},
     "output_type": "display_data"
    },
    {
     "data": {
      "text/html": [
       "<div>\n",
       "<style scoped>\n",
       "    .dataframe tbody tr th:only-of-type {\n",
       "        vertical-align: middle;\n",
       "    }\n",
       "\n",
       "    .dataframe tbody tr th {\n",
       "        vertical-align: top;\n",
       "    }\n",
       "\n",
       "    .dataframe thead th {\n",
       "        text-align: right;\n",
       "    }\n",
       "</style>\n",
       "<table border=\"1\" class=\"dataframe\">\n",
       "  <thead>\n",
       "    <tr style=\"text-align: right;\">\n",
       "      <th></th>\n",
       "      <th>id</th>\n",
       "      <th>score</th>\n",
       "    </tr>\n",
       "  </thead>\n",
       "  <tbody>\n",
       "    <tr>\n",
       "      <th>0</th>\n",
       "      <td>4112d61851461f60</td>\n",
       "      <td>0</td>\n",
       "    </tr>\n",
       "    <tr>\n",
       "      <th>1</th>\n",
       "      <td>09e418c93a776564</td>\n",
       "      <td>0</td>\n",
       "    </tr>\n",
       "    <tr>\n",
       "      <th>2</th>\n",
       "      <td>36baf228038e314b</td>\n",
       "      <td>0</td>\n",
       "    </tr>\n",
       "    <tr>\n",
       "      <th>3</th>\n",
       "      <td>1f37ead645e7f0c8</td>\n",
       "      <td>0</td>\n",
       "    </tr>\n",
       "    <tr>\n",
       "      <th>4</th>\n",
       "      <td>71a5b6ad068d531f</td>\n",
       "      <td>0</td>\n",
       "    </tr>\n",
       "  </tbody>\n",
       "</table>\n",
       "</div>"
      ],
      "text/plain": [
       "                 id  score\n",
       "0  4112d61851461f60      0\n",
       "1  09e418c93a776564      0\n",
       "2  36baf228038e314b      0\n",
       "3  1f37ead645e7f0c8      0\n",
       "4  71a5b6ad068d531f      0"
      ]
     },
     "metadata": {},
     "output_type": "display_data"
    }
   ],
   "source": [
    "# ====================================================\n",
    "# Data Loading\n",
    "# ====================================================\n",
    "train = pd.read_csv(INPUT_DIR+'train.csv')\n",
    "test = pd.read_csv(INPUT_DIR+'test.csv')\n",
    "submission = pd.read_csv(INPUT_DIR+'sample_submission.csv')\n",
    "print(f\"train.shape: {train.shape}\")\n",
    "print(f\"test.shape: {test.shape}\")\n",
    "print(f\"submission.shape: {submission.shape}\")\n",
    "display(train.head())\n",
    "display(test.head())\n",
    "display(submission.head())"
   ]
  },
  {
   "cell_type": "code",
   "execution_count": 13,
   "id": "fa85ac77",
   "metadata": {
    "papermill": {
     "duration": 0.848818,
     "end_time": "2022-03-22T09:40:38.260255",
     "exception": false,
     "start_time": "2022-03-22T09:40:37.411437",
     "status": "completed"
    },
    "tags": []
   },
   "outputs": [
    {
     "data": {
      "text/html": [
       "<div>\n",
       "<style scoped>\n",
       "    .dataframe tbody tr th:only-of-type {\n",
       "        vertical-align: middle;\n",
       "    }\n",
       "\n",
       "    .dataframe tbody tr th {\n",
       "        vertical-align: top;\n",
       "    }\n",
       "\n",
       "    .dataframe thead th {\n",
       "        text-align: right;\n",
       "    }\n",
       "</style>\n",
       "<table border=\"1\" class=\"dataframe\">\n",
       "  <thead>\n",
       "    <tr style=\"text-align: right;\">\n",
       "      <th></th>\n",
       "      <th>id</th>\n",
       "      <th>anchor</th>\n",
       "      <th>target</th>\n",
       "      <th>context</th>\n",
       "      <th>score</th>\n",
       "      <th>context_text</th>\n",
       "    </tr>\n",
       "  </thead>\n",
       "  <tbody>\n",
       "    <tr>\n",
       "      <th>0</th>\n",
       "      <td>37d61fd2272659b1</td>\n",
       "      <td>abatement</td>\n",
       "      <td>abatement of pollution</td>\n",
       "      <td>A47</td>\n",
       "      <td>0.50</td>\n",
       "      <td>HUMAN NECESSITIES. FURNITURE; DOMESTIC ARTICLE...</td>\n",
       "    </tr>\n",
       "    <tr>\n",
       "      <th>1</th>\n",
       "      <td>7b9652b17b68b7a4</td>\n",
       "      <td>abatement</td>\n",
       "      <td>act of abating</td>\n",
       "      <td>A47</td>\n",
       "      <td>0.75</td>\n",
       "      <td>HUMAN NECESSITIES. FURNITURE; DOMESTIC ARTICLE...</td>\n",
       "    </tr>\n",
       "    <tr>\n",
       "      <th>2</th>\n",
       "      <td>36d72442aefd8232</td>\n",
       "      <td>abatement</td>\n",
       "      <td>active catalyst</td>\n",
       "      <td>A47</td>\n",
       "      <td>0.25</td>\n",
       "      <td>HUMAN NECESSITIES. FURNITURE; DOMESTIC ARTICLE...</td>\n",
       "    </tr>\n",
       "    <tr>\n",
       "      <th>3</th>\n",
       "      <td>5296b0c19e1ce60e</td>\n",
       "      <td>abatement</td>\n",
       "      <td>eliminating process</td>\n",
       "      <td>A47</td>\n",
       "      <td>0.50</td>\n",
       "      <td>HUMAN NECESSITIES. FURNITURE; DOMESTIC ARTICLE...</td>\n",
       "    </tr>\n",
       "    <tr>\n",
       "      <th>4</th>\n",
       "      <td>54c1e3b9184cb5b6</td>\n",
       "      <td>abatement</td>\n",
       "      <td>forest region</td>\n",
       "      <td>A47</td>\n",
       "      <td>0.00</td>\n",
       "      <td>HUMAN NECESSITIES. FURNITURE; DOMESTIC ARTICLE...</td>\n",
       "    </tr>\n",
       "  </tbody>\n",
       "</table>\n",
       "</div>"
      ],
      "text/plain": [
       "                 id     anchor                  target context  score                                       context_text\n",
       "0  37d61fd2272659b1  abatement  abatement of pollution     A47   0.50  HUMAN NECESSITIES. FURNITURE; DOMESTIC ARTICLE...\n",
       "1  7b9652b17b68b7a4  abatement          act of abating     A47   0.75  HUMAN NECESSITIES. FURNITURE; DOMESTIC ARTICLE...\n",
       "2  36d72442aefd8232  abatement         active catalyst     A47   0.25  HUMAN NECESSITIES. FURNITURE; DOMESTIC ARTICLE...\n",
       "3  5296b0c19e1ce60e  abatement     eliminating process     A47   0.50  HUMAN NECESSITIES. FURNITURE; DOMESTIC ARTICLE...\n",
       "4  54c1e3b9184cb5b6  abatement           forest region     A47   0.00  HUMAN NECESSITIES. FURNITURE; DOMESTIC ARTICLE..."
      ]
     },
     "metadata": {},
     "output_type": "display_data"
    },
    {
     "data": {
      "text/html": [
       "<div>\n",
       "<style scoped>\n",
       "    .dataframe tbody tr th:only-of-type {\n",
       "        vertical-align: middle;\n",
       "    }\n",
       "\n",
       "    .dataframe tbody tr th {\n",
       "        vertical-align: top;\n",
       "    }\n",
       "\n",
       "    .dataframe thead th {\n",
       "        text-align: right;\n",
       "    }\n",
       "</style>\n",
       "<table border=\"1\" class=\"dataframe\">\n",
       "  <thead>\n",
       "    <tr style=\"text-align: right;\">\n",
       "      <th></th>\n",
       "      <th>id</th>\n",
       "      <th>anchor</th>\n",
       "      <th>target</th>\n",
       "      <th>context</th>\n",
       "      <th>context_text</th>\n",
       "    </tr>\n",
       "  </thead>\n",
       "  <tbody>\n",
       "    <tr>\n",
       "      <th>0</th>\n",
       "      <td>4112d61851461f60</td>\n",
       "      <td>opc drum</td>\n",
       "      <td>inorganic photoconductor drum</td>\n",
       "      <td>G02</td>\n",
       "      <td>PHYSICS. OPTICS</td>\n",
       "    </tr>\n",
       "    <tr>\n",
       "      <th>1</th>\n",
       "      <td>09e418c93a776564</td>\n",
       "      <td>adjust gas flow</td>\n",
       "      <td>altering gas flow</td>\n",
       "      <td>F23</td>\n",
       "      <td>MECHANICAL ENGINEERING; LIGHTING; HEATING; WEA...</td>\n",
       "    </tr>\n",
       "    <tr>\n",
       "      <th>2</th>\n",
       "      <td>36baf228038e314b</td>\n",
       "      <td>lower trunnion</td>\n",
       "      <td>lower locating</td>\n",
       "      <td>B60</td>\n",
       "      <td>PERFORMING OPERATIONS; TRANSPORTING. VEHICLES ...</td>\n",
       "    </tr>\n",
       "    <tr>\n",
       "      <th>3</th>\n",
       "      <td>1f37ead645e7f0c8</td>\n",
       "      <td>cap component</td>\n",
       "      <td>upper portion</td>\n",
       "      <td>D06</td>\n",
       "      <td>TEXTILES; PAPER. TREATMENT OF TEXTILES OR THE ...</td>\n",
       "    </tr>\n",
       "    <tr>\n",
       "      <th>4</th>\n",
       "      <td>71a5b6ad068d531f</td>\n",
       "      <td>neural stimulation</td>\n",
       "      <td>artificial neural network</td>\n",
       "      <td>H04</td>\n",
       "      <td>ELECTRICITY. ELECTRIC COMMUNICATION TECHNIQUE</td>\n",
       "    </tr>\n",
       "  </tbody>\n",
       "</table>\n",
       "</div>"
      ],
      "text/plain": [
       "                 id              anchor                         target context                                       context_text\n",
       "0  4112d61851461f60            opc drum  inorganic photoconductor drum     G02                                    PHYSICS. OPTICS\n",
       "1  09e418c93a776564     adjust gas flow              altering gas flow     F23  MECHANICAL ENGINEERING; LIGHTING; HEATING; WEA...\n",
       "2  36baf228038e314b      lower trunnion                 lower locating     B60  PERFORMING OPERATIONS; TRANSPORTING. VEHICLES ...\n",
       "3  1f37ead645e7f0c8       cap component                  upper portion     D06  TEXTILES; PAPER. TREATMENT OF TEXTILES OR THE ...\n",
       "4  71a5b6ad068d531f  neural stimulation      artificial neural network     H04      ELECTRICITY. ELECTRIC COMMUNICATION TECHNIQUE"
      ]
     },
     "metadata": {},
     "output_type": "display_data"
    }
   ],
   "source": [
    "# ====================================================\n",
    "# CPC Data\n",
    "# ====================================================\n",
    "def get_cpc_texts():\n",
    "    contexts = []\n",
    "    pattern = '[A-Z]\\d+'\n",
    "    for file_name in os.listdir(INPUT_DIR+'CPCSchemeXML202105'):\n",
    "        result = re.findall(pattern, file_name)\n",
    "        if result:\n",
    "            contexts.append(result)\n",
    "    contexts = sorted(set(sum(contexts, [])))\n",
    "    results = {}\n",
    "    for cpc in ['A', 'B', 'C', 'D', 'E', 'F', 'G', 'H', 'Y']:\n",
    "        with open(f'{INPUT_DIR}CPCTitleList202202/cpc-section-{cpc}_20220201.txt') as f:\n",
    "            s = f.read()\n",
    "        pattern = f'{cpc}\\t\\t.+'\n",
    "        result = re.findall(pattern, s)\n",
    "        cpc_result = result[0].lstrip(pattern)\n",
    "        for context in [c for c in contexts if c[0] == cpc]:\n",
    "            pattern = f'{context}\\t\\t.+'\n",
    "            result = re.findall(pattern, s)\n",
    "            results[context] = cpc_result + \". \" + result[0].lstrip(pattern)\n",
    "    return results\n",
    "\n",
    "\n",
    "# cpc_texts = get_cpc_texts()\n",
    "# torch.save(cpc_texts, OUTPUT_DIR+\"cpc_texts.pth\")\n",
    "cpc_texts = torch.load(INPUT_DIR+\"cpc_texts.pth\")\n",
    "train['context_text'] = train['context'].map(cpc_texts)\n",
    "test['context_text'] = test['context'].map(cpc_texts)\n",
    "display(train.head())\n",
    "display(test.head())"
   ]
  },
  {
   "cell_type": "code",
   "execution_count": 14,
   "id": "7bb73eb6",
   "metadata": {
    "papermill": {
     "duration": 0.084831,
     "end_time": "2022-03-22T09:40:38.384239",
     "exception": false,
     "start_time": "2022-03-22T09:40:38.299408",
     "status": "completed"
    },
    "tags": []
   },
   "outputs": [
    {
     "data": {
      "text/html": [
       "<div>\n",
       "<style scoped>\n",
       "    .dataframe tbody tr th:only-of-type {\n",
       "        vertical-align: middle;\n",
       "    }\n",
       "\n",
       "    .dataframe tbody tr th {\n",
       "        vertical-align: top;\n",
       "    }\n",
       "\n",
       "    .dataframe thead th {\n",
       "        text-align: right;\n",
       "    }\n",
       "</style>\n",
       "<table border=\"1\" class=\"dataframe\">\n",
       "  <thead>\n",
       "    <tr style=\"text-align: right;\">\n",
       "      <th></th>\n",
       "      <th>id</th>\n",
       "      <th>anchor</th>\n",
       "      <th>target</th>\n",
       "      <th>context</th>\n",
       "      <th>score</th>\n",
       "      <th>context_text</th>\n",
       "      <th>text</th>\n",
       "    </tr>\n",
       "  </thead>\n",
       "  <tbody>\n",
       "    <tr>\n",
       "      <th>0</th>\n",
       "      <td>37d61fd2272659b1</td>\n",
       "      <td>abatement</td>\n",
       "      <td>abatement of pollution</td>\n",
       "      <td>A47</td>\n",
       "      <td>0.50</td>\n",
       "      <td>HUMAN NECESSITIES. FURNITURE; DOMESTIC ARTICLE...</td>\n",
       "      <td>abatement[SEP]abatement of pollution[SEP]HUMAN...</td>\n",
       "    </tr>\n",
       "    <tr>\n",
       "      <th>1</th>\n",
       "      <td>7b9652b17b68b7a4</td>\n",
       "      <td>abatement</td>\n",
       "      <td>act of abating</td>\n",
       "      <td>A47</td>\n",
       "      <td>0.75</td>\n",
       "      <td>HUMAN NECESSITIES. FURNITURE; DOMESTIC ARTICLE...</td>\n",
       "      <td>abatement[SEP]act of abating[SEP]HUMAN NECESSI...</td>\n",
       "    </tr>\n",
       "    <tr>\n",
       "      <th>2</th>\n",
       "      <td>36d72442aefd8232</td>\n",
       "      <td>abatement</td>\n",
       "      <td>active catalyst</td>\n",
       "      <td>A47</td>\n",
       "      <td>0.25</td>\n",
       "      <td>HUMAN NECESSITIES. FURNITURE; DOMESTIC ARTICLE...</td>\n",
       "      <td>abatement[SEP]active catalyst[SEP]HUMAN NECESS...</td>\n",
       "    </tr>\n",
       "    <tr>\n",
       "      <th>3</th>\n",
       "      <td>5296b0c19e1ce60e</td>\n",
       "      <td>abatement</td>\n",
       "      <td>eliminating process</td>\n",
       "      <td>A47</td>\n",
       "      <td>0.50</td>\n",
       "      <td>HUMAN NECESSITIES. FURNITURE; DOMESTIC ARTICLE...</td>\n",
       "      <td>abatement[SEP]eliminating process[SEP]HUMAN NE...</td>\n",
       "    </tr>\n",
       "    <tr>\n",
       "      <th>4</th>\n",
       "      <td>54c1e3b9184cb5b6</td>\n",
       "      <td>abatement</td>\n",
       "      <td>forest region</td>\n",
       "      <td>A47</td>\n",
       "      <td>0.00</td>\n",
       "      <td>HUMAN NECESSITIES. FURNITURE; DOMESTIC ARTICLE...</td>\n",
       "      <td>abatement[SEP]forest region[SEP]HUMAN NECESSIT...</td>\n",
       "    </tr>\n",
       "  </tbody>\n",
       "</table>\n",
       "</div>"
      ],
      "text/plain": [
       "                 id     anchor                  target context  score                                       context_text                                               text\n",
       "0  37d61fd2272659b1  abatement  abatement of pollution     A47   0.50  HUMAN NECESSITIES. FURNITURE; DOMESTIC ARTICLE...  abatement[SEP]abatement of pollution[SEP]HUMAN...\n",
       "1  7b9652b17b68b7a4  abatement          act of abating     A47   0.75  HUMAN NECESSITIES. FURNITURE; DOMESTIC ARTICLE...  abatement[SEP]act of abating[SEP]HUMAN NECESSI...\n",
       "2  36d72442aefd8232  abatement         active catalyst     A47   0.25  HUMAN NECESSITIES. FURNITURE; DOMESTIC ARTICLE...  abatement[SEP]active catalyst[SEP]HUMAN NECESS...\n",
       "3  5296b0c19e1ce60e  abatement     eliminating process     A47   0.50  HUMAN NECESSITIES. FURNITURE; DOMESTIC ARTICLE...  abatement[SEP]eliminating process[SEP]HUMAN NE...\n",
       "4  54c1e3b9184cb5b6  abatement           forest region     A47   0.00  HUMAN NECESSITIES. FURNITURE; DOMESTIC ARTICLE...  abatement[SEP]forest region[SEP]HUMAN NECESSIT..."
      ]
     },
     "metadata": {},
     "output_type": "display_data"
    },
    {
     "data": {
      "text/html": [
       "<div>\n",
       "<style scoped>\n",
       "    .dataframe tbody tr th:only-of-type {\n",
       "        vertical-align: middle;\n",
       "    }\n",
       "\n",
       "    .dataframe tbody tr th {\n",
       "        vertical-align: top;\n",
       "    }\n",
       "\n",
       "    .dataframe thead th {\n",
       "        text-align: right;\n",
       "    }\n",
       "</style>\n",
       "<table border=\"1\" class=\"dataframe\">\n",
       "  <thead>\n",
       "    <tr style=\"text-align: right;\">\n",
       "      <th></th>\n",
       "      <th>id</th>\n",
       "      <th>anchor</th>\n",
       "      <th>target</th>\n",
       "      <th>context</th>\n",
       "      <th>context_text</th>\n",
       "      <th>text</th>\n",
       "    </tr>\n",
       "  </thead>\n",
       "  <tbody>\n",
       "    <tr>\n",
       "      <th>0</th>\n",
       "      <td>4112d61851461f60</td>\n",
       "      <td>opc drum</td>\n",
       "      <td>inorganic photoconductor drum</td>\n",
       "      <td>G02</td>\n",
       "      <td>PHYSICS. OPTICS</td>\n",
       "      <td>opc drum[SEP]inorganic photoconductor drum[SEP...</td>\n",
       "    </tr>\n",
       "    <tr>\n",
       "      <th>1</th>\n",
       "      <td>09e418c93a776564</td>\n",
       "      <td>adjust gas flow</td>\n",
       "      <td>altering gas flow</td>\n",
       "      <td>F23</td>\n",
       "      <td>MECHANICAL ENGINEERING; LIGHTING; HEATING; WEA...</td>\n",
       "      <td>adjust gas flow[SEP]altering gas flow[SEP]MECH...</td>\n",
       "    </tr>\n",
       "    <tr>\n",
       "      <th>2</th>\n",
       "      <td>36baf228038e314b</td>\n",
       "      <td>lower trunnion</td>\n",
       "      <td>lower locating</td>\n",
       "      <td>B60</td>\n",
       "      <td>PERFORMING OPERATIONS; TRANSPORTING. VEHICLES ...</td>\n",
       "      <td>lower trunnion[SEP]lower locating[SEP]PERFORMI...</td>\n",
       "    </tr>\n",
       "    <tr>\n",
       "      <th>3</th>\n",
       "      <td>1f37ead645e7f0c8</td>\n",
       "      <td>cap component</td>\n",
       "      <td>upper portion</td>\n",
       "      <td>D06</td>\n",
       "      <td>TEXTILES; PAPER. TREATMENT OF TEXTILES OR THE ...</td>\n",
       "      <td>cap component[SEP]upper portion[SEP]TEXTILES; ...</td>\n",
       "    </tr>\n",
       "    <tr>\n",
       "      <th>4</th>\n",
       "      <td>71a5b6ad068d531f</td>\n",
       "      <td>neural stimulation</td>\n",
       "      <td>artificial neural network</td>\n",
       "      <td>H04</td>\n",
       "      <td>ELECTRICITY. ELECTRIC COMMUNICATION TECHNIQUE</td>\n",
       "      <td>neural stimulation[SEP]artificial neural netwo...</td>\n",
       "    </tr>\n",
       "  </tbody>\n",
       "</table>\n",
       "</div>"
      ],
      "text/plain": [
       "                 id              anchor                         target context                                       context_text                                               text\n",
       "0  4112d61851461f60            opc drum  inorganic photoconductor drum     G02                                    PHYSICS. OPTICS  opc drum[SEP]inorganic photoconductor drum[SEP...\n",
       "1  09e418c93a776564     adjust gas flow              altering gas flow     F23  MECHANICAL ENGINEERING; LIGHTING; HEATING; WEA...  adjust gas flow[SEP]altering gas flow[SEP]MECH...\n",
       "2  36baf228038e314b      lower trunnion                 lower locating     B60  PERFORMING OPERATIONS; TRANSPORTING. VEHICLES ...  lower trunnion[SEP]lower locating[SEP]PERFORMI...\n",
       "3  1f37ead645e7f0c8       cap component                  upper portion     D06  TEXTILES; PAPER. TREATMENT OF TEXTILES OR THE ...  cap component[SEP]upper portion[SEP]TEXTILES; ...\n",
       "4  71a5b6ad068d531f  neural stimulation      artificial neural network     H04      ELECTRICITY. ELECTRIC COMMUNICATION TECHNIQUE  neural stimulation[SEP]artificial neural netwo..."
      ]
     },
     "metadata": {},
     "output_type": "display_data"
    }
   ],
   "source": [
    "pad = \"[SEP]\"\n",
    "train['text'] = train['anchor'] + pad + train['target'] +pad  + train['context_text']\n",
    "test['text'] = test['anchor'] + pad + test['target'] +pad  + test['context_text']\n",
    "display(train.head())\n",
    "display(test.head())"
   ]
  },
  {
   "cell_type": "markdown",
   "id": "b01d622c",
   "metadata": {
    "papermill": {
     "duration": 0.040462,
     "end_time": "2022-03-22T09:40:38.462517",
     "exception": false,
     "start_time": "2022-03-22T09:40:38.422055",
     "status": "completed"
    },
    "tags": []
   },
   "source": [
    "# EDA"
   ]
  },
  {
   "cell_type": "code",
   "execution_count": 15,
   "id": "560906cd",
   "metadata": {
    "papermill": {
     "duration": 0.298955,
     "end_time": "2022-03-22T09:40:38.799273",
     "exception": false,
     "start_time": "2022-03-22T09:40:38.500318",
     "status": "completed"
    },
    "tags": []
   },
   "outputs": [
    {
     "data": {
      "text/plain": [
       "<AxesSubplot:>"
      ]
     },
     "execution_count": 15,
     "metadata": {},
     "output_type": "execute_result"
    },
    {
     "data": {
      "image/png": "[encoded data removed]",
      "text/plain": [
       "<Figure size 432x288 with 1 Axes>"
      ]
     },
     "metadata": {
      "needs_background": "light"
     },
     "output_type": "display_data"
    }
   ],
   "source": [
    "train['score'].hist()"
   ]
  },
  {
   "cell_type": "code",
   "execution_count": 16,
   "id": "bb2122ec",
   "metadata": {
    "papermill": {
     "duration": 0.072329,
     "end_time": "2022-03-22T09:40:38.914779",
     "exception": false,
     "start_time": "2022-03-22T09:40:38.842450",
     "status": "completed"
    },
    "tags": []
   },
   "outputs": [
    {
     "data": {
      "text/plain": [
       "B    8019\n",
       "H    6195\n",
       "G    6013\n",
       "C    5288\n",
       "A    4094\n",
       "F    4054\n",
       "E    1531\n",
       "D    1279\n",
       "Name: context, dtype: int64"
      ]
     },
     "metadata": {},
     "output_type": "display_data"
    }
   ],
   "source": [
    "display(train['context'].apply(lambda x: x[0]).value_counts())"
   ]
  },
  {
   "cell_type": "markdown",
   "id": "fdc1e4e5",
   "metadata": {
    "papermill": {
     "duration": 0.040834,
     "end_time": "2022-03-22T09:40:38.997435",
     "exception": false,
     "start_time": "2022-03-22T09:40:38.956601",
     "status": "completed"
    },
    "tags": []
   },
   "source": [
    "- Y is not in training data, but may be in test data?"
   ]
  },
  {
   "cell_type": "markdown",
   "id": "9249864a",
   "metadata": {
    "id": "9e05b6c4",
    "papermill": {
     "duration": 0.041734,
     "end_time": "2022-03-22T09:40:39.084284",
     "exception": false,
     "start_time": "2022-03-22T09:40:39.042550",
     "status": "completed"
    },
    "tags": []
   },
   "source": [
    "# CV split"
   ]
  },
  {
   "cell_type": "code",
   "execution_count": 17,
   "id": "44a41536",
   "metadata": {
    "executionInfo": {
     "elapsed": 12,
     "status": "ok",
     "timestamp": 1644920084528,
     "user": {
      "displayName": "Yasufumi Nakama",
      "photoUrl": "https://lh3.googleusercontent.com/a/default-user=s64",
      "userId": "17486303986134302670"
     },
     "user_tz": -540
    },
    "id": "3ba287c4",
    "outputId": "307dc0e2-17d6-4bfe-9e95-fdd9b6303974",
    "papermill": {
     "duration": 0.074115,
     "end_time": "2022-03-22T09:40:39.201383",
     "exception": false,
     "start_time": "2022-03-22T09:40:39.127268",
     "status": "completed"
    },
    "tags": []
   },
   "outputs": [
    {
     "data": {
      "text/plain": [
       "fold\n",
       "0    9119\n",
       "1    9118\n",
       "2    9118\n",
       "3    9118\n",
       "dtype: int64"
      ]
     },
     "metadata": {},
     "output_type": "display_data"
    }
   ],
   "source": [
    "# ====================================================\n",
    "# CV split\n",
    "# ====================================================\n",
    "train['score_map'] = train['score'].map({0.00: 0, 0.25: 1, 0.50: 2, 0.75: 3, 1.00: 4})\n",
    "Fold = StratifiedKFold(n_splits=CFG.n_fold, shuffle=True, random_state=CFG.seed)\n",
    "for n, (train_index, val_index) in enumerate(Fold.split(train, train['score_map'])):\n",
    "    train.loc[val_index, 'fold'] = int(n)\n",
    "train['fold'] = train['fold'].astype(int)\n",
    "display(train.groupby('fold').size())"
   ]
  },
  {
   "cell_type": "code",
   "execution_count": 18,
   "id": "bb9ce665",
   "metadata": {
    "id": "4c3ce877",
    "papermill": {
     "duration": 0.049441,
     "end_time": "2022-03-22T09:40:39.291307",
     "exception": false,
     "start_time": "2022-03-22T09:40:39.241866",
     "status": "completed"
    },
    "tags": []
   },
   "outputs": [],
   "source": [
    "if CFG.debug:\n",
    "    display(train.groupby('fold').size())\n",
    "    train = train.sample(n=1000, random_state=0).reset_index(drop=True)\n",
    "    display(train.groupby('fold').size())"
   ]
  },
  {
   "cell_type": "markdown",
   "id": "a7adea75",
   "metadata": {
    "id": "918a28aa",
    "papermill": {
     "duration": 0.039494,
     "end_time": "2022-03-22T09:40:39.374931",
     "exception": false,
     "start_time": "2022-03-22T09:40:39.335437",
     "status": "completed"
    },
    "tags": []
   },
   "source": [
    "# tokenizer"
   ]
  },
  {
   "cell_type": "code",
   "execution_count": 19,
   "id": "4efc387f",
   "metadata": {},
   "outputs": [],
   "source": [
    "# !pip install --no-cache-dir sentencepiece"
   ]
  },
  {
   "cell_type": "code",
   "execution_count": 20,
   "id": "54f8891e",
   "metadata": {
    "papermill": {
     "duration": 5.198604,
     "end_time": "2022-03-22T09:40:44.612849",
     "exception": false,
     "start_time": "2022-03-22T09:40:39.414245",
     "status": "completed"
    },
    "tags": []
   },
   "outputs": [],
   "source": [
    "# ====================================================\n",
    "# tokenizer\n",
    "# ====================================================\n",
    "# tokenizer = AutoTokenizer.from_pretrained(CFG.model,use_fast=False)\n",
    "tokenizer = AutoTokenizer.from_pretrained(CFG.model,use_fast=False)\n",
    "tokenizer.save_pretrained(OUTPUT_DIR+'tokenizer/')\n",
    "CFG.tokenizer = tokenizer\n",
    "\n"
   ]
  },
  {
   "cell_type": "code",
   "execution_count": null,
   "id": "7cf880ca-b3fb-4603-9194-fc20c0f93e59",
   "metadata": {},
   "outputs": [],
   "source": []
  },
  {
   "cell_type": "markdown",
   "id": "d9fca227",
   "metadata": {
    "id": "14da40cf",
    "papermill": {
     "duration": 0.04897,
     "end_time": "2022-03-22T09:40:44.706931",
     "exception": false,
     "start_time": "2022-03-22T09:40:44.657961",
     "status": "completed"
    },
    "tags": []
   },
   "source": [
    "# Dataset"
   ]
  },
  {
   "cell_type": "code",
   "execution_count": 21,
   "id": "2671471a",
   "metadata": {
    "executionInfo": {
     "elapsed": 32827,
     "status": "ok",
     "timestamp": 1644920122500,
     "user": {
      "displayName": "Yasufumi Nakama",
      "photoUrl": "https://lh3.googleusercontent.com/a/default-user=s64",
      "userId": "17486303986134302670"
     },
     "user_tz": -540
    },
    "id": "c00327b0",
    "outputId": "26e947da-b73a-494d-e776-906b037ac08a",
    "papermill": {
     "duration": 7.208379,
     "end_time": "2022-03-22T09:40:51.959343",
     "exception": false,
     "start_time": "2022-03-22T09:40:44.750964",
     "status": "completed"
    },
    "tags": []
   },
   "outputs": [
    {
     "data": {
      "application/vnd.jupyter.widget-view+json": {
       "model_id": "ecd7899d777a4b0caccf8628028d8c06",
       "version_major": 2,
       "version_minor": 0
      },
      "text/plain": [
       "  0%|          | 0/136 [00:00<?, ?it/s]"
      ]
     },
     "metadata": {},
     "output_type": "display_data"
    },
    {
     "data": {
      "application/vnd.jupyter.widget-view+json": {
       "model_id": "0190085c5f1c4b4b97673128afb74f6d",
       "version_major": 2,
       "version_minor": 0
      },
      "text/plain": [
       "  0%|          | 0/36473 [00:00<?, ?it/s]"
      ]
     },
     "metadata": {},
     "output_type": "display_data"
    },
    {
     "data": {
      "application/vnd.jupyter.widget-view+json": {
       "model_id": "aaa3ce2649784d5cb8ba600935c2fe74",
       "version_major": 2,
       "version_minor": 0
      },
      "text/plain": [
       "  0%|          | 0/36473 [00:00<?, ?it/s]"
      ]
     },
     "metadata": {},
     "output_type": "display_data"
    },
    {
     "name": "stderr",
     "output_type": "stream",
     "text": [
      "max_len: 125\n"
     ]
    }
   ],
   "source": [
    "# ====================================================\n",
    "# Define max_len\n",
    "# ====================================================\n",
    "lengths_dict = {}\n",
    "\n",
    "lengths = []\n",
    "tk0 = tqdm(cpc_texts.values(), total=len(cpc_texts))\n",
    "for text in tk0:\n",
    "    length = len(tokenizer(text, add_special_tokens=False)['input_ids'])\n",
    "    lengths.append(length)\n",
    "lengths_dict['context_text'] = lengths\n",
    "\n",
    "for text_col in ['anchor', 'target']:\n",
    "    lengths = []\n",
    "    tk0 = tqdm(train[text_col].fillna(\"\").values, total=len(train))\n",
    "    for text in tk0:\n",
    "        length = len(tokenizer(text, add_special_tokens=False)['input_ids'])\n",
    "        lengths.append(length)\n",
    "    lengths_dict[text_col] = lengths\n",
    "    \n",
    "CFG.max_len = max(lengths_dict['anchor']) + max(lengths_dict['target'])\\\n",
    "                + max(lengths_dict['context_text']) + 4 # CLS + SEP + SEP + SEP\n",
    "LOGGER.info(f\"max_len: {CFG.max_len}\")"
   ]
  },
  {
   "cell_type": "code",
   "execution_count": 22,
   "id": "49be5a92",
   "metadata": {
    "id": "9f791a19",
    "papermill": {
     "duration": 0.055528,
     "end_time": "2022-03-22T09:40:52.072178",
     "exception": false,
     "start_time": "2022-03-22T09:40:52.016650",
     "status": "completed"
    },
    "tags": []
   },
   "outputs": [
    {
     "name": "stdout",
     "output_type": "stream",
     "text": [
      "torch.__version__: 1.9.0+cu111\n"
     ]
    }
   ],
   "source": [
    "# ====================================================\n",
    "# Dataset\n",
    "# ====================================================\n",
    "def prepare_input(cfg, text):\n",
    "    inputs = cfg.tokenizer(text,\n",
    "                           add_special_tokens=True,\n",
    "                           max_length=cfg.max_len,\n",
    "                           padding=\"max_length\",\n",
    "                           return_offsets_mapping=False)\n",
    "    for k, v in inputs.items():\n",
    "        inputs[k] = torch.tensor(v, dtype=torch.long)\n",
    "    return inputs\n",
    "\n",
    "sys.path.append('../dataset')\n",
    "from dataset import TrainDataset"
   ]
  },
  {
   "cell_type": "code",
   "execution_count": 23,
   "id": "a459997d",
   "metadata": {
    "executionInfo": {
     "elapsed": 8,
     "status": "ok",
     "timestamp": 1644920122808,
     "user": {
      "displayName": "Yasufumi Nakama",
      "photoUrl": "https://lh3.googleusercontent.com/a/default-user=s64",
      "userId": "17486303986134302670"
     },
     "user_tz": -540
    },
    "id": "a200bd5b",
    "outputId": "a30fde2b-86f9-4ebd-ae81-33f467b69836",
    "papermill": {
     "duration": 0.05166,
     "end_time": "2022-03-22T09:40:52.171272",
     "exception": false,
     "start_time": "2022-03-22T09:40:52.119612",
     "status": "completed"
    },
    "tags": []
   },
   "outputs": [
    {
     "data": {
      "text/plain": [
       "'\\ntrain_dataset = TrainDataset(CFG, train)\\ninputs, label = train_dataset[0]\\nprint(inputs)\\nprint(label)\\n'"
      ]
     },
     "execution_count": 23,
     "metadata": {},
     "output_type": "execute_result"
    }
   ],
   "source": [
    "\"\"\"\n",
    "train_dataset = TrainDataset(CFG, train)\n",
    "inputs, label = train_dataset[0]\n",
    "print(inputs)\n",
    "print(label)\n",
    "\"\"\""
   ]
  },
  {
   "cell_type": "markdown",
   "id": "44d28ba3",
   "metadata": {
    "id": "e04d6363",
    "papermill": {
     "duration": 0.044161,
     "end_time": "2022-03-22T09:40:52.262022",
     "exception": false,
     "start_time": "2022-03-22T09:40:52.217861",
     "status": "completed"
    },
    "tags": []
   },
   "source": [
    "# Model"
   ]
  },
  {
   "cell_type": "code",
   "execution_count": 24,
   "id": "872e6567",
   "metadata": {
    "id": "4c5bab44",
    "papermill": {
     "duration": 0.066203,
     "end_time": "2022-03-22T09:40:52.372030",
     "exception": false,
     "start_time": "2022-03-22T09:40:52.305827",
     "status": "completed"
    },
    "tags": []
   },
   "outputs": [],
   "source": [
    "# ====================================================\n",
    "# Model\n",
    "# ====================================================\n",
    "class CustomModel(nn.Module):\n",
    "    def __init__(self, cfg, config_path=None, pretrained=False):\n",
    "        super().__init__()\n",
    "        self.cfg = cfg\n",
    "        if config_path is None:\n",
    "            self.config = AutoConfig.from_pretrained(cfg.model, output_hidden_states=True)\n",
    "        else:\n",
    "            self.config = torch.load(config_path)\n",
    "        if pretrained:\n",
    "            self.model = AutoModel.from_pretrained(cfg.model, config=self.config)\n",
    "        else:\n",
    "            self.model = AutoModel.from_config(self.config)\n",
    "        self.fc_dropout = nn.Dropout(cfg.fc_dropout)\n",
    "        self.fc = nn.Linear(self.config.hidden_size, self.cfg.target_size)\n",
    "        self._init_weights(self.fc)\n",
    "        self.attention = nn.Sequential(\n",
    "            nn.Linear(self.config.hidden_size, 512),\n",
    "            nn.Tanh(),\n",
    "            nn.Linear(512, 1),\n",
    "            nn.Softmax(dim=1)\n",
    "        )\n",
    "        self._init_weights(self.attention)\n",
    "        \n",
    "    def _init_weights(self, module):\n",
    "        try:\n",
    "                if isinstance(module, nn.Linear):\n",
    "                    module.weight.data.normal_(mean=0.0, std=self.config.initializer_range)\n",
    "                    if module.bias is not None:\n",
    "                        module.bias.data.zero_()\n",
    "                elif isinstance(module, nn.Embedding):\n",
    "                    module.weight.data.normal_(mean=0.0, std=self.config.initializer_range)\n",
    "                    if module.padding_idx is not None:\n",
    "                        module.weight.data[module.padding_idx].zero_()\n",
    "                elif isinstance(module, nn.LayerNorm):\n",
    "                    module.bias.data.zero_()\n",
    "                    module.weight.data.fill_(1.0)\n",
    "        except:\n",
    "            if isinstance(module, nn.Linear):\n",
    "                module.weight.data.normal_(mean=0.0, std=0.02)\n",
    "                if module.bias is not None:\n",
    "                    module.bias.data.zero_()\n",
    "            elif isinstance(module, nn.Embedding):\n",
    "                module.weight.data.normal_(mean=0.0, std=0.02)\n",
    "                if module.padding_idx is not None:\n",
    "                    module.weight.data[module.padding_idx].zero_()\n",
    "            elif isinstance(module, nn.LayerNorm):\n",
    "                module.bias.data.zero_()\n",
    "                module.weight.data.fill_(1.0)\n",
    "\n",
    "    def feature(self, inputs):\n",
    "        outputs = self.model(**inputs)\n",
    "        last_hidden_states = outputs[0]\n",
    "        # feature = torch.mean(last_hidden_states, 1)\n",
    "        weights = self.attention(last_hidden_states)\n",
    "        feature = torch.sum(weights * last_hidden_states, dim=1)\n",
    "        return feature\n",
    "\n",
    "    def forward(self, inputs):\n",
    "        feature = self.feature(inputs)\n",
    "        output = self.fc(self.fc_dropout(feature))\n",
    "        return output\n",
    "    \n"
   ]
  },
  {
   "cell_type": "markdown",
   "id": "d58eee04",
   "metadata": {
    "id": "deee9675",
    "papermill": {
     "duration": 0.044158,
     "end_time": "2022-03-22T09:40:52.460401",
     "exception": false,
     "start_time": "2022-03-22T09:40:52.416243",
     "status": "completed"
    },
    "tags": []
   },
   "source": [
    "# Helpler functions"
   ]
  },
  {
   "cell_type": "code",
   "execution_count": 25,
   "id": "53d5903c",
   "metadata": {
    "id": "c8263b0c",
    "papermill": {
     "duration": 0.078567,
     "end_time": "2022-03-22T09:40:52.582474",
     "exception": false,
     "start_time": "2022-03-22T09:40:52.503907",
     "status": "completed"
    },
    "tags": []
   },
   "outputs": [],
   "source": [
    "# ====================================================\n",
    "# Helper functions\n",
    "# ====================================================\n",
    "class AverageMeter(object):\n",
    "    \"\"\"Computes and stores the average and current value\"\"\"\n",
    "    def __init__(self):\n",
    "        self.reset()\n",
    "\n",
    "    def reset(self):\n",
    "        self.val = 0\n",
    "        self.avg = 0\n",
    "        self.sum = 0\n",
    "        self.count = 0\n",
    "\n",
    "    def update(self, val, n=1):\n",
    "        self.val = val\n",
    "        self.sum += val * n\n",
    "        self.count += n\n",
    "        self.avg = self.sum / self.count\n",
    "\n",
    "\n",
    "def asMinutes(s):\n",
    "    m = math.floor(s / 60)\n",
    "    s -= m * 60\n",
    "    return '%dm %ds' % (m, s)\n",
    "\n",
    "\n",
    "def timeSince(since, percent):\n",
    "    now = time.time()\n",
    "    s = now - since\n",
    "    es = s / (percent)\n",
    "    rs = es - s\n",
    "    return '%s (remain %s)' % (asMinutes(s), asMinutes(rs))\n",
    "\n",
    "\n",
    "def train_fn(fold, train_loader, model, criterion, optimizer, epoch, scheduler, device):\n",
    "    model.train()\n",
    "    scaler = torch.cuda.amp.GradScaler(enabled=CFG.apex)\n",
    "    losses = AverageMeter()\n",
    "    start = end = time.time()\n",
    "    global_step = 0\n",
    "    for step, (inputs, labels) in enumerate(train_loader):\n",
    "        for k, v in inputs.items():\n",
    "            inputs[k] = v.to(device)\n",
    "        labels = labels.to(device)\n",
    "        batch_size = labels.size(0)\n",
    "        with torch.cuda.amp.autocast(enabled=CFG.apex):\n",
    "            y_preds = model(inputs)\n",
    "        loss = criterion(y_preds.view(-1, 1), labels.view(-1, 1))\n",
    "        if CFG.gradient_accumulation_steps > 1:\n",
    "            loss = loss / CFG.gradient_accumulation_steps\n",
    "        losses.update(loss.item(), batch_size)\n",
    "        scaler.scale(loss).backward()\n",
    "        grad_norm = torch.nn.utils.clip_grad_norm_(model.parameters(), CFG.max_grad_norm)\n",
    "        if (step + 1) % CFG.gradient_accumulation_steps == 0:\n",
    "            scaler.step(optimizer)\n",
    "            scaler.update()\n",
    "            optimizer.zero_grad()\n",
    "            global_step += 1\n",
    "            if CFG.batch_scheduler:\n",
    "                scheduler.step()\n",
    "        end = time.time()\n",
    "        if step % CFG.print_freq == 0 or step == (len(train_loader)-1):\n",
    "            print('Epoch: [{0}][{1}/{2}] '\n",
    "                  'Elapsed {remain:s} '\n",
    "                  'Loss: {loss.val:.4f}({loss.avg:.4f}) '\n",
    "                  'Grad: {grad_norm:.4f}  '\n",
    "                  'LR: {lr:.8f}  '\n",
    "                  .format(epoch+1, step, len(train_loader), \n",
    "                          remain=timeSince(start, float(step+1)/len(train_loader)),\n",
    "                          loss=losses,\n",
    "                          grad_norm=grad_norm,\n",
    "                          lr=scheduler.get_lr()[0]))\n",
    "        if CFG.wandb:\n",
    "            wandb.log({f\"[fold{fold}] loss\": losses.val,\n",
    "                       f\"[fold{fold}] lr\": scheduler.get_lr()[0]})\n",
    "    return losses.avg\n",
    "\n",
    "\n",
    "def valid_fn(valid_loader, model, criterion, device):\n",
    "    losses = AverageMeter()\n",
    "    model.eval()\n",
    "    preds = []\n",
    "    start = end = time.time()\n",
    "    for step, (inputs, labels) in enumerate(valid_loader):\n",
    "        for k, v in inputs.items():\n",
    "            inputs[k] = v.to(device)\n",
    "        labels = labels.to(device)\n",
    "        batch_size = labels.size(0)\n",
    "        with torch.no_grad():\n",
    "            y_preds = model(inputs)\n",
    "        loss = criterion(y_preds.view(-1, 1), labels.view(-1, 1))\n",
    "        if CFG.gradient_accumulation_steps > 1:\n",
    "            loss = loss / CFG.gradient_accumulation_steps\n",
    "        losses.update(loss.item(), batch_size)\n",
    "        preds.append(y_preds.sigmoid().to('cpu').numpy())\n",
    "        end = time.time()\n",
    "        if step % CFG.print_freq == 0 or step == (len(valid_loader)-1):\n",
    "            print('EVAL: [{0}/{1}] '\n",
    "                  'Elapsed {remain:s} '\n",
    "                  'Loss: {loss.val:.4f}({loss.avg:.4f}) '\n",
    "                  .format(step, len(valid_loader),\n",
    "                          loss=losses,\n",
    "                          remain=timeSince(start, float(step+1)/len(valid_loader))))\n",
    "    predictions = np.concatenate(preds)\n",
    "    predictions = np.concatenate(predictions)\n",
    "    return losses.avg, predictions\n",
    "\n",
    "\n",
    "def inference_fn(test_loader, model, device):\n",
    "    preds = []\n",
    "    model.eval()\n",
    "    model.to(device)\n",
    "    tk0 = tqdm(test_loader, total=len(test_loader))\n",
    "    for inputs in tk0:\n",
    "        for k, v in inputs.items():\n",
    "            inputs[k] = v.to(device)\n",
    "        with torch.no_grad():\n",
    "            y_preds = model(inputs)\n",
    "        preds.append(y_preds.sigmoid().to('cpu').numpy())\n",
    "    predictions = np.concatenate(preds)\n",
    "    return predictions"
   ]
  },
  {
   "cell_type": "code",
   "execution_count": 26,
   "id": "e3e9d570",
   "metadata": {
    "id": "bed940e1",
    "papermill": {
     "duration": 0.071348,
     "end_time": "2022-03-22T09:40:52.697940",
     "exception": false,
     "start_time": "2022-03-22T09:40:52.626592",
     "status": "completed"
    },
    "tags": []
   },
   "outputs": [],
   "source": [
    "# ====================================================\n",
    "# train loop\n",
    "# ====================================================\n",
    "# def train_loop(folds, fold):\n",
    "def train_loop(train_loader, valid_loader):\n",
    "#     LOGGER.info(f\"========== fold: {fold} training ==========\")\n",
    "\n",
    "#     # ====================================================\n",
    "#     # loader\n",
    "#     # ====================================================\n",
    "#     train_folds = folds[folds['fold'] != fold].reset_index(drop=True)\n",
    "#     valid_folds = folds[folds['fold'] == fold].reset_index(drop=True)\n",
    "#     valid_labels = valid_folds['score'].values\n",
    "    \n",
    "#     train_dataset = TrainDataset(CFG, train_folds)\n",
    "#     valid_dataset = TrainDataset(CFG, valid_folds)\n",
    "\n",
    "#     train_loader = DataLoader(train_dataset,\n",
    "#                               batch_size=CFG.batch_size,\n",
    "#                               shuffle=True,\n",
    "#                               num_workers=CFG.num_workers, pin_memory=True, drop_last=True)\n",
    "#     valid_loader = DataLoader(valid_dataset,\n",
    "#                               batch_size=CFG.batch_size,\n",
    "#                               shuffle=False,\n",
    "#                               num_workers=CFG.num_workers, pin_memory=True, drop_last=False)\n",
    "\n",
    "    # ====================================================\n",
    "    # model & optimizer\n",
    "    # ====================================================\n",
    "    model = CustomModel(CFG, config_path=None, pretrained=True)\n",
    "    torch.save(model.config, OUTPUT_DIR+'config.pth')\n",
    "    model.to(device)\n",
    "    \n",
    "    def get_optimizer_params(model, encoder_lr, decoder_lr, weight_decay=0.0):\n",
    "        param_optimizer = list(model.named_parameters())\n",
    "        no_decay = [\"bias\", \"LayerNorm.bias\", \"LayerNorm.weight\"]\n",
    "        optimizer_parameters = [\n",
    "            {'params': [p for n, p in model.model.named_parameters() if not any(nd in n for nd in no_decay)],\n",
    "             'lr': encoder_lr, 'weight_decay': weight_decay},\n",
    "            {'params': [p for n, p in model.model.named_parameters() if any(nd in n for nd in no_decay)],\n",
    "             'lr': encoder_lr, 'weight_decay': 0.0},\n",
    "            {'params': [p for n, p in model.named_parameters() if \"model\" not in n],\n",
    "             'lr': decoder_lr, 'weight_decay': 0.0}\n",
    "        ]\n",
    "        return optimizer_parameters\n",
    "\n",
    "    optimizer_parameters = get_optimizer_params(model,\n",
    "                                                encoder_lr=CFG.encoder_lr, \n",
    "                                                decoder_lr=CFG.decoder_lr,\n",
    "                                                weight_decay=CFG.weight_decay)\n",
    "    optimizer = AdamW(optimizer_parameters, lr=CFG.encoder_lr, eps=CFG.eps, betas=CFG.betas)\n",
    "    \n",
    "    # ====================================================\n",
    "    # scheduler\n",
    "    # ====================================================\n",
    "    def get_scheduler(cfg, optimizer, num_train_steps):\n",
    "        if cfg.scheduler == 'linear':\n",
    "            scheduler = get_linear_schedule_with_warmup(\n",
    "                optimizer, num_warmup_steps=cfg.num_warmup_steps, num_training_steps=num_train_steps\n",
    "            )\n",
    "        elif cfg.scheduler == 'cosine':\n",
    "            scheduler = get_cosine_schedule_with_warmup(\n",
    "                optimizer, num_warmup_steps=cfg.num_warmup_steps, num_training_steps=num_train_steps, num_cycles=cfg.num_cycles\n",
    "            )\n",
    "        return scheduler\n",
    "    \n",
    "    num_train_steps = int(len(train_folds) / CFG.batch_size * CFG.epochs)\n",
    "    scheduler = get_scheduler(CFG, optimizer, num_train_steps)\n",
    "\n",
    "    # ====================================================\n",
    "    # loop\n",
    "    # ====================================================\n",
    "    criterion = nn.BCEWithLogitsLoss(reduction=\"mean\")\n",
    "    \n",
    "    best_score = 0.\n",
    "\n",
    "    for epoch in range(CFG.epochs):\n",
    "        start_time = time.time()\n",
    "\n",
    "        # train\n",
    "        avg_loss = train_fn(fold, train_loader, model, criterion, optimizer, epoch, scheduler, device)\n",
    "\n",
    "        # eval\n",
    "        avg_val_loss, predictions = valid_fn(valid_loader, model, criterion, device)\n",
    "        \n",
    "        # scoring\n",
    "        score = get_score(valid_labels, predictions)\n",
    "\n",
    "        elapsed = time.time() - start_time\n",
    "\n",
    "        LOGGER.info(f'Epoch {epoch+1} - avg_train_loss: {avg_loss:.4f}  avg_val_loss: {avg_val_loss:.4f}  time: {elapsed:.0f}s')\n",
    "        LOGGER.info(f'Epoch {epoch+1} - Score: {score:.4f}')\n",
    "        if CFG.wandb:\n",
    "            wandb.log({f\"[fold{fold}] epoch\": epoch+1, \n",
    "                       f\"[fold{fold}] avg_train_loss\": avg_loss, \n",
    "                       f\"[fold{fold}] avg_val_loss\": avg_val_loss,\n",
    "                       f\"[fold{fold}] score\": score})\n",
    "        \n",
    "        if best_score < score:\n",
    "            best_score = score\n",
    "            LOGGER.info(f'Epoch {epoch+1} - Save Best Score: {best_score:.4f} Model')\n",
    "            torch.save({'model': model.state_dict(),\n",
    "                        'predictions': predictions},\n",
    "                        OUTPUT_DIR+f\"{CFG.model.replace('/', '-')}_fold{fold}_best.pth\")\n",
    "\n",
    "    predictions = torch.load(OUTPUT_DIR+f\"{CFG.model.replace('/', '-')}_fold{fold}_best.pth\", \n",
    "                             map_location=torch.device('cpu'))['predictions']\n",
    "    valid_folds['pred'] = predictions\n",
    "\n",
    "    torch.cuda.empty_cache()\n",
    "    gc.collect()\n",
    "    \n",
    "    return valid_folds"
   ]
  },
  {
   "cell_type": "code",
   "execution_count": 27,
   "id": "13eeaf68",
   "metadata": {
    "id": "6cc76b1e",
    "papermill": {
     "duration": 30265.411984,
     "end_time": "2022-03-22T18:05:18.155447",
     "exception": false,
     "start_time": "2022-03-22T09:40:52.743463",
     "status": "completed"
    },
    "scrolled": true,
    "tags": []
   },
   "outputs": [
    {
     "name": "stderr",
     "output_type": "stream",
     "text": [
      "========== fold: 0 training ==========\n"
     ]
    },
    {
     "name": "stdout",
     "output_type": "stream",
     "text": [
      "\u001b[38;5;40m========== fold: 0 training ==========\u001b[0m\n"
     ]
    },
    {
     "name": "stderr",
     "output_type": "stream",
     "text": [
      "Some weights of the model checkpoint at bert-large-uncased-whole-word-masking-finetuned-squad were not used when initializing BertModel: ['qa_outputs.bias', 'qa_outputs.weight']\n",
      "- This IS expected if you are initializing BertModel from the checkpoint of a model trained on another task or with another architecture (e.g. initializing a BertForSequenceClassification model from a BertForPreTraining model).\n",
      "- This IS NOT expected if you are initializing BertModel from the checkpoint of a model that you expect to be exactly identical (initializing a BertForSequenceClassification model from a BertForSequenceClassification model).\n"
     ]
    },
    {
     "name": "stdout",
     "output_type": "stream",
     "text": [
      "Epoch: [1][0/1709] Elapsed 0m 0s (remain 23m 10s) Loss: 0.6651(0.6651) Grad: 186084.1250  LR: 0.00002000  \n",
      "Epoch: [1][100/1709] Elapsed 0m 44s (remain 11m 52s) Loss: 0.6401(0.6565) Grad: 36337.2109  LR: 0.00002000  \n",
      "Epoch: [1][200/1709] Elapsed 1m 28s (remain 11m 6s) Loss: 0.6611(0.6329) Grad: 61880.0312  LR: 0.00001999  \n",
      "Epoch: [1][300/1709] Elapsed 2m 13s (remain 10m 22s) Loss: 0.5669(0.6239) Grad: 48321.3945  LR: 0.00001998  \n",
      "Epoch: [1][400/1709] Elapsed 2m 57s (remain 9m 37s) Loss: 0.5417(0.6137) Grad: 59451.1719  LR: 0.00001996  \n",
      "Epoch: [1][500/1709] Elapsed 3m 41s (remain 8m 53s) Loss: 0.6090(0.6082) Grad: 107051.2969  LR: 0.00001993  \n",
      "Epoch: [1][600/1709] Elapsed 4m 25s (remain 8m 9s) Loss: 0.5344(0.6035) Grad: 65432.4180  LR: 0.00001990  \n",
      "Epoch: [1][700/1709] Elapsed 5m 9s (remain 7m 25s) Loss: 0.5632(0.5981) Grad: 35178.8906  LR: 0.00001987  \n",
      "Epoch: [1][800/1709] Elapsed 5m 54s (remain 6m 41s) Loss: 0.6410(0.5953) Grad: 90804.4766  LR: 0.00001983  \n",
      "Epoch: [1][900/1709] Elapsed 6m 38s (remain 5m 57s) Loss: 0.6022(0.5925) Grad: 21978.6406  LR: 0.00001979  \n",
      "Epoch: [1][1000/1709] Elapsed 7m 22s (remain 5m 13s) Loss: 0.5935(0.5899) Grad: 31286.6211  LR: 0.00001974  \n",
      "Epoch: [1][1100/1709] Elapsed 8m 7s (remain 4m 29s) Loss: 0.5695(0.5871) Grad: 18920.4922  LR: 0.00001968  \n",
      "Epoch: [1][1200/1709] Elapsed 8m 51s (remain 3m 44s) Loss: 0.5448(0.5845) Grad: 19812.4141  LR: 0.00001962  \n",
      "Epoch: [1][1300/1709] Elapsed 9m 36s (remain 3m 0s) Loss: 0.5561(0.5830) Grad: 53060.5703  LR: 0.00001956  \n",
      "Epoch: [1][1400/1709] Elapsed 10m 20s (remain 2m 16s) Loss: 0.6975(0.5819) Grad: 38387.9922  LR: 0.00001949  \n",
      "Epoch: [1][1500/1709] Elapsed 11m 4s (remain 1m 32s) Loss: 0.5467(0.5811) Grad: 112248.5625  LR: 0.00001941  \n",
      "Epoch: [1][1600/1709] Elapsed 11m 49s (remain 0m 47s) Loss: 0.7995(0.5794) Grad: 344457.0625  LR: 0.00001933  \n",
      "Epoch: [1][1700/1709] Elapsed 12m 33s (remain 0m 3s) Loss: 0.5777(0.5786) Grad: 22903.3438  LR: 0.00001925  \n",
      "Epoch: [1][1708/1709] Elapsed 12m 36s (remain 0m 0s) Loss: 0.5392(0.5784) Grad: 53723.1719  LR: 0.00001924  \n"
     ]
    },
    {
     "name": "stderr",
     "output_type": "stream",
     "text": [
      "[W pthreadpool-cpp.cc:90] Warning: Leaking Caffe2 thread-pool after fork. (function pthreadpool)\n",
      "[W pthreadpool-cpp.cc:90] Warning: Leaking Caffe2 thread-pool after fork. (function pthreadpool)\n",
      "[W pthreadpool-cpp.cc:90] Warning: Leaking Caffe2 thread-pool after fork. (function pthreadpool)\n",
      "[W pthreadpool-cpp.cc:90] Warning: Leaking Caffe2 thread-pool after fork. (function pthreadpool)\n"
     ]
    },
    {
     "name": "stdout",
     "output_type": "stream",
     "text": [
      "EVAL: [0/570] Elapsed 0m 0s (remain 2m 50s) Loss: 0.6135(0.6135) \n",
      "EVAL: [100/570] Elapsed 0m 15s (remain 1m 11s) Loss: 0.4823(0.5606) \n",
      "EVAL: [200/570] Elapsed 0m 30s (remain 0m 56s) Loss: 0.5740(0.5574) \n",
      "EVAL: [300/570] Elapsed 0m 45s (remain 0m 40s) Loss: 0.5886(0.5581) \n",
      "EVAL: [400/570] Elapsed 1m 0s (remain 0m 25s) Loss: 0.6722(0.5570) \n",
      "EVAL: [500/570] Elapsed 1m 15s (remain 0m 10s) Loss: 0.5747(0.5571) \n"
     ]
    },
    {
     "name": "stderr",
     "output_type": "stream",
     "text": [
      "[W pthreadpool-cpp.cc:90] Warning: Leaking Caffe2 thread-pool after fork. (function pthreadpool)\n",
      "Epoch 1 - avg_train_loss: 0.5784  avg_val_loss: 0.5558  time: 844s\n",
      "Epoch 1 - Score: 0.7951\n",
      "Epoch 1 - Save Best Score: 0.7951 Model\n"
     ]
    },
    {
     "name": "stdout",
     "output_type": "stream",
     "text": [
      "EVAL: [569/570] Elapsed 1m 26s (remain 0m 0s) Loss: 0.5165(0.5558) \n"
     ]
    },
    {
     "name": "stderr",
     "output_type": "stream",
     "text": [
      "[W pthreadpool-cpp.cc:90] Warning: Leaking Caffe2 thread-pool after fork. (function pthreadpool)\n",
      "[W pthreadpool-cpp.cc:90] Warning: Leaking Caffe2 thread-pool after fork. (function pthreadpool)\n",
      "[W pthreadpool-cpp.cc:90] Warning: Leaking Caffe2 thread-pool after fork. (function pthreadpool)\n",
      "[W pthreadpool-cpp.cc:90] Warning: Leaking Caffe2 thread-pool after fork. (function pthreadpool)\n"
     ]
    },
    {
     "name": "stdout",
     "output_type": "stream",
     "text": [
      "Epoch: [2][0/1709] Elapsed 0m 0s (remain 21m 27s) Loss: 0.5367(0.5367) Grad: inf  LR: 0.00001924  \n",
      "Epoch: [2][100/1709] Elapsed 0m 44s (remain 11m 55s) Loss: 0.5241(0.5306) Grad: 72075.3125  LR: 0.00001915  \n",
      "Epoch: [2][200/1709] Elapsed 1m 29s (remain 11m 10s) Loss: 0.6651(0.5321) Grad: 231474.7344  LR: 0.00001905  \n",
      "Epoch: [2][300/1709] Elapsed 2m 13s (remain 10m 25s) Loss: 0.5653(0.5326) Grad: 36195.4922  LR: 0.00001895  \n",
      "Epoch: [2][400/1709] Elapsed 2m 57s (remain 9m 40s) Loss: 0.5985(0.5348) Grad: 35036.9844  LR: 0.00001885  \n",
      "Epoch: [2][500/1709] Elapsed 3m 42s (remain 8m 55s) Loss: 0.4999(0.5356) Grad: 19062.6270  LR: 0.00001874  \n",
      "Epoch: [2][600/1709] Elapsed 4m 26s (remain 8m 11s) Loss: 0.5810(0.5360) Grad: 40239.3164  LR: 0.00001863  \n",
      "Epoch: [2][700/1709] Elapsed 5m 10s (remain 7m 27s) Loss: 0.5510(0.5357) Grad: 66751.8594  LR: 0.00001851  \n",
      "Epoch: [2][800/1709] Elapsed 5m 55s (remain 6m 42s) Loss: 0.6334(0.5363) Grad: 216245.6719  LR: 0.00001838  \n",
      "Epoch: [2][900/1709] Elapsed 6m 39s (remain 5m 58s) Loss: 0.5858(0.5358) Grad: 17260.4727  LR: 0.00001826  \n",
      "Epoch: [2][1000/1709] Elapsed 7m 24s (remain 5m 14s) Loss: 0.5798(0.5367) Grad: 61611.5039  LR: 0.00001812  \n",
      "Epoch: [2][1100/1709] Elapsed 8m 8s (remain 4m 29s) Loss: 0.3836(0.5369) Grad: 37974.8438  LR: 0.00001799  \n",
      "Epoch: [2][1200/1709] Elapsed 8m 52s (remain 3m 45s) Loss: 0.5486(0.5375) Grad: 23055.1680  LR: 0.00001785  \n",
      "Epoch: [2][1300/1709] Elapsed 9m 37s (remain 3m 0s) Loss: 0.5355(0.5375) Grad: 88900.5000  LR: 0.00001770  \n",
      "Epoch: [2][1400/1709] Elapsed 10m 21s (remain 2m 16s) Loss: 0.5369(0.5374) Grad: 46592.2109  LR: 0.00001756  \n",
      "Epoch: [2][1500/1709] Elapsed 11m 5s (remain 1m 32s) Loss: 0.5022(0.5377) Grad: 19099.4023  LR: 0.00001740  \n",
      "Epoch: [2][1600/1709] Elapsed 11m 50s (remain 0m 47s) Loss: 0.6746(0.5387) Grad: 96072.9844  LR: 0.00001725  \n",
      "Epoch: [2][1700/1709] Elapsed 12m 34s (remain 0m 3s) Loss: 0.6474(0.5395) Grad: 30334.2598  LR: 0.00001709  \n",
      "Epoch: [2][1708/1709] Elapsed 12m 37s (remain 0m 0s) Loss: 0.5856(0.5394) Grad: 89527.2812  LR: 0.00001707  \n"
     ]
    },
    {
     "name": "stderr",
     "output_type": "stream",
     "text": [
      "[W pthreadpool-cpp.cc:90] Warning: Leaking Caffe2 thread-pool after fork. (function pthreadpool)\n",
      "[W pthreadpool-cpp.cc:90] Warning: Leaking Caffe2 thread-pool after fork. (function pthreadpool)\n",
      "[W pthreadpool-cpp.cc:90] Warning: Leaking Caffe2 thread-pool after fork. (function pthreadpool)\n",
      "[W pthreadpool-cpp.cc:90] Warning: Leaking Caffe2 thread-pool after fork. (function pthreadpool)\n"
     ]
    },
    {
     "name": "stdout",
     "output_type": "stream",
     "text": [
      "EVAL: [0/570] Elapsed 0m 0s (remain 2m 50s) Loss: 0.6170(0.6170) \n",
      "EVAL: [100/570] Elapsed 0m 15s (remain 1m 11s) Loss: 0.5085(0.5842) \n",
      "EVAL: [200/570] Elapsed 0m 30s (remain 0m 56s) Loss: 0.6359(0.5796) \n",
      "EVAL: [300/570] Elapsed 0m 45s (remain 0m 40s) Loss: 0.7019(0.5764) \n",
      "EVAL: [400/570] Elapsed 1m 0s (remain 0m 25s) Loss: 0.6952(0.5744) \n",
      "EVAL: [500/570] Elapsed 1m 15s (remain 0m 10s) Loss: 0.5934(0.5765) \n"
     ]
    },
    {
     "name": "stderr",
     "output_type": "stream",
     "text": [
      "Epoch 2 - avg_train_loss: 0.5394  avg_val_loss: 0.5748  time: 844s\n",
      "Epoch 2 - Score: 0.7867\n"
     ]
    },
    {
     "name": "stdout",
     "output_type": "stream",
     "text": [
      "EVAL: [569/570] Elapsed 1m 26s (remain 0m 0s) Loss: 0.4741(0.5748) \n"
     ]
    },
    {
     "name": "stderr",
     "output_type": "stream",
     "text": [
      "[W pthreadpool-cpp.cc:90] Warning: Leaking Caffe2 thread-pool after fork. (function pthreadpool)\n",
      "[W pthreadpool-cpp.cc:90] Warning: Leaking Caffe2 thread-pool after fork. (function pthreadpool)\n",
      "[W pthreadpool-cpp.cc:90] Warning: Leaking Caffe2 thread-pool after fork. (function pthreadpool)\n",
      "[W pthreadpool-cpp.cc:90] Warning: Leaking Caffe2 thread-pool after fork. (function pthreadpool)\n"
     ]
    },
    {
     "name": "stdout",
     "output_type": "stream",
     "text": [
      "Epoch: [3][0/1709] Elapsed 0m 0s (remain 14m 25s) Loss: 0.5872(0.5872) Grad: 117832.0859  LR: 0.00001707  \n",
      "Epoch: [3][100/1709] Elapsed 0m 44s (remain 11m 51s) Loss: 0.4358(0.5189) Grad: 22290.5234  LR: 0.00001691  \n",
      "Epoch: [3][200/1709] Elapsed 1m 29s (remain 11m 8s) Loss: 0.5795(0.5266) Grad: 37158.2305  LR: 0.00001674  \n",
      "Epoch: [3][300/1709] Elapsed 2m 13s (remain 10m 24s) Loss: 0.3686(0.5227) Grad: 51023.4375  LR: 0.00001657  \n",
      "Epoch: [3][400/1709] Elapsed 2m 57s (remain 9m 40s) Loss: 0.4369(0.5225) Grad: 40966.3086  LR: 0.00001639  \n",
      "Epoch: [3][500/1709] Elapsed 3m 42s (remain 8m 55s) Loss: 0.5136(0.5217) Grad: 33303.3984  LR: 0.00001621  \n",
      "Epoch: [3][600/1709] Elapsed 4m 26s (remain 8m 11s) Loss: 0.4137(0.5202) Grad: 8042.3364  LR: 0.00001603  \n",
      "Epoch: [3][700/1709] Elapsed 5m 10s (remain 7m 27s) Loss: 0.5526(0.5181) Grad: 89511.6875  LR: 0.00001585  \n",
      "Epoch: [3][800/1709] Elapsed 5m 55s (remain 6m 42s) Loss: 0.5050(0.5185) Grad: 20860.3379  LR: 0.00001566  \n",
      "Epoch: [3][900/1709] Elapsed 6m 39s (remain 5m 58s) Loss: 0.4748(0.5182) Grad: 67312.2891  LR: 0.00001547  \n",
      "Epoch: [3][1000/1709] Elapsed 7m 24s (remain 5m 14s) Loss: 0.4535(0.5175) Grad: 95355.4844  LR: 0.00001528  \n",
      "Epoch: [3][1100/1709] Elapsed 8m 8s (remain 4m 29s) Loss: 0.4786(0.5174) Grad: 41533.8086  LR: 0.00001508  \n",
      "Epoch: [3][1200/1709] Elapsed 8m 52s (remain 3m 45s) Loss: 0.5267(0.5188) Grad: 29184.4883  LR: 0.00001488  \n",
      "Epoch: [3][1300/1709] Elapsed 9m 37s (remain 3m 0s) Loss: 0.4713(0.5184) Grad: 25711.8652  LR: 0.00001468  \n",
      "Epoch: [3][1400/1709] Elapsed 10m 21s (remain 2m 16s) Loss: 0.5365(0.5188) Grad: 14172.9121  LR: 0.00001447  \n",
      "Epoch: [3][1500/1709] Elapsed 11m 5s (remain 1m 32s) Loss: 0.5131(0.5192) Grad: 19407.2715  LR: 0.00001427  \n",
      "Epoch: [3][1600/1709] Elapsed 11m 50s (remain 0m 47s) Loss: 0.4427(0.5192) Grad: 14654.4434  LR: 0.00001406  \n",
      "Epoch: [3][1700/1709] Elapsed 12m 34s (remain 0m 3s) Loss: 0.4314(0.5190) Grad: 11821.8838  LR: 0.00001385  \n"
     ]
    },
    {
     "name": "stderr",
     "output_type": "stream",
     "text": [
      "[W pthreadpool-cpp.cc:90] Warning: Leaking Caffe2 thread-pool after fork. (function pthreadpool)\n"
     ]
    },
    {
     "name": "stdout",
     "output_type": "stream",
     "text": [
      "Epoch: [3][1708/1709] Elapsed 12m 38s (remain 0m 0s) Loss: 0.5400(0.5192) Grad: 28309.8652  LR: 0.00001383  \n"
     ]
    },
    {
     "name": "stderr",
     "output_type": "stream",
     "text": [
      "[W pthreadpool-cpp.cc:90] Warning: Leaking Caffe2 thread-pool after fork. (function pthreadpool)\n",
      "[W pthreadpool-cpp.cc:90] Warning: Leaking Caffe2 thread-pool after fork. (function pthreadpool)\n",
      "[W pthreadpool-cpp.cc:90] Warning: Leaking Caffe2 thread-pool after fork. (function pthreadpool)\n",
      "[W pthreadpool-cpp.cc:90] Warning: Leaking Caffe2 thread-pool after fork. (function pthreadpool)\n"
     ]
    },
    {
     "name": "stdout",
     "output_type": "stream",
     "text": [
      "EVAL: [0/570] Elapsed 0m 0s (remain 2m 47s) Loss: 0.5753(0.5753) \n",
      "EVAL: [100/570] Elapsed 0m 15s (remain 1m 11s) Loss: 0.4473(0.5625) \n",
      "EVAL: [200/570] Elapsed 0m 30s (remain 0m 56s) Loss: 0.5477(0.5579) \n",
      "EVAL: [300/570] Elapsed 0m 45s (remain 0m 40s) Loss: 0.5767(0.5594) \n",
      "EVAL: [400/570] Elapsed 1m 0s (remain 0m 25s) Loss: 0.8361(0.5595) \n",
      "EVAL: [500/570] Elapsed 1m 15s (remain 0m 10s) Loss: 0.5849(0.5597) \n"
     ]
    },
    {
     "name": "stderr",
     "output_type": "stream",
     "text": [
      "Epoch 3 - avg_train_loss: 0.5192  avg_val_loss: 0.5578  time: 845s\n",
      "Epoch 3 - Score: 0.8308\n",
      "Epoch 3 - Save Best Score: 0.8308 Model\n"
     ]
    },
    {
     "name": "stdout",
     "output_type": "stream",
     "text": [
      "EVAL: [569/570] Elapsed 1m 26s (remain 0m 0s) Loss: 0.4866(0.5578) \n"
     ]
    },
    {
     "name": "stderr",
     "output_type": "stream",
     "text": [
      "[W pthreadpool-cpp.cc:90] Warning: Leaking Caffe2 thread-pool after fork. (function pthreadpool)\n",
      "[W pthreadpool-cpp.cc:90] Warning: Leaking Caffe2 thread-pool after fork. (function pthreadpool)\n",
      "[W pthreadpool-cpp.cc:90] Warning: Leaking Caffe2 thread-pool after fork. (function pthreadpool)\n",
      "[W pthreadpool-cpp.cc:90] Warning: Leaking Caffe2 thread-pool after fork. (function pthreadpool)\n"
     ]
    },
    {
     "name": "stdout",
     "output_type": "stream",
     "text": [
      "Epoch: [4][0/1709] Elapsed 0m 0s (remain 19m 56s) Loss: 0.5556(0.5556) Grad: 298804.1562  LR: 0.00001383  \n",
      "Epoch: [4][100/1709] Elapsed 0m 44s (remain 11m 54s) Loss: 0.6003(0.5178) Grad: 21981.7891  LR: 0.00001362  \n",
      "Epoch: [4][200/1709] Elapsed 1m 30s (remain 11m 16s) Loss: 0.6453(0.5076) Grad: 138128.9375  LR: 0.00001340  \n",
      "Epoch: [4][300/1709] Elapsed 2m 14s (remain 10m 29s) Loss: 0.3888(0.5060) Grad: 12524.4092  LR: 0.00001318  \n",
      "Epoch: [4][400/1709] Elapsed 2m 58s (remain 9m 43s) Loss: 0.4825(0.5054) Grad: 139465.0156  LR: 0.00001296  \n",
      "Epoch: [4][500/1709] Elapsed 3m 43s (remain 8m 58s) Loss: 0.5317(0.5070) Grad: 97895.6719  LR: 0.00001274  \n",
      "Epoch: [4][600/1709] Elapsed 4m 27s (remain 8m 13s) Loss: 0.5204(0.5064) Grad: 65195.1016  LR: 0.00001252  \n",
      "Epoch: [4][700/1709] Elapsed 5m 11s (remain 7m 28s) Loss: 0.4309(0.5052) Grad: 197923.3281  LR: 0.00001230  \n",
      "Epoch: [4][800/1709] Elapsed 5m 56s (remain 6m 43s) Loss: 0.5352(0.5035) Grad: 102588.0938  LR: 0.00001208  \n",
      "Epoch: [4][900/1709] Elapsed 6m 40s (remain 5m 59s) Loss: 0.3999(0.5035) Grad: 29125.7012  LR: 0.00001185  \n",
      "Epoch: [4][1000/1709] Elapsed 7m 25s (remain 5m 14s) Loss: 0.5297(0.5024) Grad: 34793.8633  LR: 0.00001162  \n",
      "Epoch: [4][1100/1709] Elapsed 8m 9s (remain 4m 30s) Loss: 0.4550(0.5021) Grad: 27093.3301  LR: 0.00001140  \n",
      "Epoch: [4][1200/1709] Elapsed 8m 53s (remain 3m 45s) Loss: 0.4930(0.5017) Grad: 43775.2500  LR: 0.00001117  \n",
      "Epoch: [4][1300/1709] Elapsed 9m 38s (remain 3m 1s) Loss: 0.5430(0.5024) Grad: 28620.3105  LR: 0.00001094  \n",
      "Epoch: [4][1400/1709] Elapsed 10m 22s (remain 2m 16s) Loss: 0.5444(0.5024) Grad: 31113.0293  LR: 0.00001071  \n",
      "Epoch: [4][1500/1709] Elapsed 11m 6s (remain 1m 32s) Loss: 0.4853(0.5028) Grad: 34275.8398  LR: 0.00001048  \n",
      "Epoch: [4][1600/1709] Elapsed 11m 51s (remain 0m 47s) Loss: 0.5352(0.5029) Grad: 30627.7930  LR: 0.00001025  \n",
      "Epoch: [4][1700/1709] Elapsed 12m 35s (remain 0m 3s) Loss: 0.5387(0.5033) Grad: 77827.8047  LR: 0.00001002  \n"
     ]
    },
    {
     "name": "stderr",
     "output_type": "stream",
     "text": [
      "[W pthreadpool-cpp.cc:90] Warning: Leaking Caffe2 thread-pool after fork. (function pthreadpool)\n"
     ]
    },
    {
     "name": "stdout",
     "output_type": "stream",
     "text": [
      "Epoch: [4][1708/1709] Elapsed 12m 39s (remain 0m 0s) Loss: 0.5301(0.5035) Grad: 237519.3906  LR: 0.00001001  \n"
     ]
    },
    {
     "name": "stderr",
     "output_type": "stream",
     "text": [
      "[W pthreadpool-cpp.cc:90] Warning: Leaking Caffe2 thread-pool after fork. (function pthreadpool)\n",
      "[W pthreadpool-cpp.cc:90] Warning: Leaking Caffe2 thread-pool after fork. (function pthreadpool)\n",
      "[W pthreadpool-cpp.cc:90] Warning: Leaking Caffe2 thread-pool after fork. (function pthreadpool)\n",
      "[W pthreadpool-cpp.cc:90] Warning: Leaking Caffe2 thread-pool after fork. (function pthreadpool)\n"
     ]
    },
    {
     "name": "stdout",
     "output_type": "stream",
     "text": [
      "EVAL: [0/570] Elapsed 0m 0s (remain 2m 48s) Loss: 0.5644(0.5644) \n",
      "EVAL: [100/570] Elapsed 0m 15s (remain 1m 11s) Loss: 0.4507(0.5795) \n",
      "EVAL: [200/570] Elapsed 0m 30s (remain 0m 56s) Loss: 0.5899(0.5709) \n",
      "EVAL: [300/570] Elapsed 0m 45s (remain 0m 40s) Loss: 0.7695(0.5714) \n",
      "EVAL: [400/570] Elapsed 1m 0s (remain 0m 25s) Loss: 0.8309(0.5721) \n",
      "EVAL: [500/570] Elapsed 1m 15s (remain 0m 10s) Loss: 0.5747(0.5709) \n"
     ]
    },
    {
     "name": "stderr",
     "output_type": "stream",
     "text": [
      "[W pthreadpool-cpp.cc:90] Warning: Leaking Caffe2 thread-pool after fork. (function pthreadpool)\n",
      "Epoch 4 - avg_train_loss: 0.5035  avg_val_loss: 0.5691  time: 846s\n",
      "Epoch 4 - Score: 0.8378\n",
      "Epoch 4 - Save Best Score: 0.8378 Model\n"
     ]
    },
    {
     "name": "stdout",
     "output_type": "stream",
     "text": [
      "EVAL: [569/570] Elapsed 1m 26s (remain 0m 0s) Loss: 0.4648(0.5691) \n"
     ]
    },
    {
     "name": "stderr",
     "output_type": "stream",
     "text": [
      "[W pthreadpool-cpp.cc:90] Warning: Leaking Caffe2 thread-pool after fork. (function pthreadpool)\n",
      "[W pthreadpool-cpp.cc:90] Warning: Leaking Caffe2 thread-pool after fork. (function pthreadpool)\n",
      "[W pthreadpool-cpp.cc:90] Warning: Leaking Caffe2 thread-pool after fork. (function pthreadpool)\n",
      "[W pthreadpool-cpp.cc:90] Warning: Leaking Caffe2 thread-pool after fork. (function pthreadpool)\n"
     ]
    },
    {
     "name": "stdout",
     "output_type": "stream",
     "text": [
      "Epoch: [5][0/1709] Elapsed 0m 0s (remain 21m 7s) Loss: 0.4345(0.4345) Grad: 51778.3398  LR: 0.00001000  \n",
      "Epoch: [5][100/1709] Elapsed 0m 45s (remain 11m 57s) Loss: 0.5719(0.4913) Grad: 326656.1875  LR: 0.00000977  \n",
      "Epoch: [5][200/1709] Elapsed 1m 29s (remain 11m 9s) Loss: 0.5604(0.4934) Grad: 53342.2852  LR: 0.00000954  \n",
      "Epoch: [5][300/1709] Elapsed 2m 13s (remain 10m 25s) Loss: 0.3918(0.4967) Grad: 80364.9531  LR: 0.00000931  \n",
      "Epoch: [5][400/1709] Elapsed 2m 58s (remain 9m 40s) Loss: 0.5313(0.4962) Grad: 60751.5820  LR: 0.00000909  \n",
      "Epoch: [5][500/1709] Elapsed 3m 42s (remain 8m 56s) Loss: 0.5838(0.4958) Grad: 37869.4297  LR: 0.00000886  \n",
      "Epoch: [5][600/1709] Elapsed 4m 26s (remain 8m 11s) Loss: 0.5522(0.4957) Grad: 32516.4219  LR: 0.00000863  \n",
      "Epoch: [5][700/1709] Elapsed 5m 10s (remain 7m 27s) Loss: 0.4670(0.4945) Grad: 8741.9277  LR: 0.00000840  \n",
      "Epoch: [5][800/1709] Elapsed 5m 55s (remain 6m 42s) Loss: 0.4004(0.4934) Grad: 9911.7568  LR: 0.00000818  \n",
      "Epoch: [5][900/1709] Elapsed 6m 39s (remain 5m 58s) Loss: 0.5176(0.4941) Grad: 14282.5186  LR: 0.00000795  \n",
      "Epoch: [5][1000/1709] Elapsed 7m 23s (remain 5m 14s) Loss: 0.4585(0.4950) Grad: 41631.6602  LR: 0.00000773  \n",
      "Epoch: [5][1100/1709] Elapsed 8m 8s (remain 4m 29s) Loss: 0.4444(0.4955) Grad: 19410.2109  LR: 0.00000750  \n",
      "Epoch: [5][1200/1709] Elapsed 8m 52s (remain 3m 45s) Loss: 0.4023(0.4956) Grad: 35232.0781  LR: 0.00000728  \n",
      "Epoch: [5][1300/1709] Elapsed 9m 36s (remain 3m 0s) Loss: 0.5093(0.4956) Grad: 10186.5908  LR: 0.00000706  \n",
      "Epoch: [5][1400/1709] Elapsed 10m 21s (remain 2m 16s) Loss: 0.4705(0.4960) Grad: 13527.1592  LR: 0.00000684  \n",
      "Epoch: [5][1500/1709] Elapsed 11m 5s (remain 1m 32s) Loss: 0.4632(0.4973) Grad: 26361.5059  LR: 0.00000663  \n",
      "Epoch: [5][1600/1709] Elapsed 11m 49s (remain 0m 47s) Loss: 0.4359(0.4970) Grad: 7101.0723  LR: 0.00000641  \n",
      "Epoch: [5][1700/1709] Elapsed 12m 34s (remain 0m 3s) Loss: 0.4981(0.4962) Grad: 20490.6055  LR: 0.00000620  \n",
      "Epoch: [5][1708/1709] Elapsed 12m 37s (remain 0m 0s) Loss: 0.5001(0.4962) Grad: 291969.7812  LR: 0.00000618  \n"
     ]
    },
    {
     "name": "stderr",
     "output_type": "stream",
     "text": [
      "[W pthreadpool-cpp.cc:90] Warning: Leaking Caffe2 thread-pool after fork. (function pthreadpool)\n",
      "[W pthreadpool-cpp.cc:90] Warning: Leaking Caffe2 thread-pool after fork. (function pthreadpool)\n",
      "[W pthreadpool-cpp.cc:90] Warning: Leaking Caffe2 thread-pool after fork. (function pthreadpool)\n",
      "[W pthreadpool-cpp.cc:90] Warning: Leaking Caffe2 thread-pool after fork. (function pthreadpool)\n"
     ]
    },
    {
     "name": "stdout",
     "output_type": "stream",
     "text": [
      "EVAL: [0/570] Elapsed 0m 0s (remain 2m 45s) Loss: 0.5587(0.5587) \n",
      "EVAL: [100/570] Elapsed 0m 15s (remain 1m 11s) Loss: 0.4871(0.5775) \n",
      "EVAL: [200/570] Elapsed 0m 30s (remain 0m 55s) Loss: 0.5472(0.5702) \n",
      "EVAL: [300/570] Elapsed 0m 45s (remain 0m 40s) Loss: 0.6016(0.5729) \n",
      "EVAL: [400/570] Elapsed 1m 0s (remain 0m 25s) Loss: 0.7567(0.5714) \n",
      "EVAL: [500/570] Elapsed 1m 15s (remain 0m 10s) Loss: 0.5794(0.5710) \n"
     ]
    },
    {
     "name": "stderr",
     "output_type": "stream",
     "text": [
      "Epoch 5 - avg_train_loss: 0.4962  avg_val_loss: 0.5704  time: 844s\n",
      "Epoch 5 - Score: 0.8379\n",
      "Epoch 5 - Save Best Score: 0.8379 Model\n"
     ]
    },
    {
     "name": "stdout",
     "output_type": "stream",
     "text": [
      "EVAL: [569/570] Elapsed 1m 26s (remain 0m 0s) Loss: 0.4659(0.5704) \n"
     ]
    },
    {
     "name": "stderr",
     "output_type": "stream",
     "text": [
      "[W pthreadpool-cpp.cc:90] Warning: Leaking Caffe2 thread-pool after fork. (function pthreadpool)\n",
      "[W pthreadpool-cpp.cc:90] Warning: Leaking Caffe2 thread-pool after fork. (function pthreadpool)\n",
      "[W pthreadpool-cpp.cc:90] Warning: Leaking Caffe2 thread-pool after fork. (function pthreadpool)\n",
      "[W pthreadpool-cpp.cc:90] Warning: Leaking Caffe2 thread-pool after fork. (function pthreadpool)\n"
     ]
    },
    {
     "name": "stdout",
     "output_type": "stream",
     "text": [
      "Epoch: [6][0/1709] Elapsed 0m 0s (remain 19m 44s) Loss: 0.5513(0.5513) Grad: 13815.4893  LR: 0.00000618  \n",
      "Epoch: [6][100/1709] Elapsed 0m 44s (remain 11m 56s) Loss: 0.5682(0.4940) Grad: 56688.2812  LR: 0.00000597  \n",
      "Epoch: [6][200/1709] Elapsed 1m 29s (remain 11m 10s) Loss: 0.4561(0.4841) Grad: 28509.4277  LR: 0.00000576  \n",
      "Epoch: [6][300/1709] Elapsed 2m 13s (remain 10m 25s) Loss: 0.4615(0.4829) Grad: 161017.5000  LR: 0.00000555  \n",
      "Epoch: [6][400/1709] Elapsed 2m 57s (remain 9m 40s) Loss: 0.5492(0.4859) Grad: 25176.8574  LR: 0.00000535  \n",
      "Epoch: [6][500/1709] Elapsed 3m 42s (remain 8m 55s) Loss: 0.5210(0.4881) Grad: 20580.3008  LR: 0.00000514  \n",
      "Epoch: [6][600/1709] Elapsed 4m 26s (remain 8m 11s) Loss: 0.4062(0.4886) Grad: 30280.0879  LR: 0.00000494  \n",
      "Epoch: [6][700/1709] Elapsed 5m 10s (remain 7m 27s) Loss: 0.4765(0.4898) Grad: 29290.0742  LR: 0.00000475  \n",
      "Epoch: [6][800/1709] Elapsed 5m 55s (remain 6m 42s) Loss: 0.5373(0.4904) Grad: 20044.8594  LR: 0.00000455  \n",
      "Epoch: [6][900/1709] Elapsed 6m 39s (remain 5m 58s) Loss: 0.5594(0.4906) Grad: 26265.9492  LR: 0.00000436  \n",
      "Epoch: [6][1000/1709] Elapsed 7m 23s (remain 5m 14s) Loss: 0.5803(0.4905) Grad: 39961.1445  LR: 0.00000417  \n",
      "Epoch: [6][1100/1709] Elapsed 8m 8s (remain 4m 29s) Loss: 0.5425(0.4909) Grad: 23715.6172  LR: 0.00000399  \n",
      "Epoch: [6][1200/1709] Elapsed 8m 52s (remain 3m 45s) Loss: 0.4747(0.4910) Grad: 34851.5977  LR: 0.00000381  \n",
      "Epoch: [6][1300/1709] Elapsed 9m 36s (remain 3m 0s) Loss: 0.5214(0.4903) Grad: 270626.3438  LR: 0.00000363  \n",
      "Epoch: [6][1400/1709] Elapsed 10m 21s (remain 2m 16s) Loss: 0.4795(0.4904) Grad: 15576.4697  LR: 0.00000345  \n",
      "Epoch: [6][1500/1709] Elapsed 11m 5s (remain 1m 32s) Loss: 0.3205(0.4903) Grad: 96129.8672  LR: 0.00000328  \n",
      "Epoch: [6][1600/1709] Elapsed 11m 49s (remain 0m 47s) Loss: 0.4806(0.4902) Grad: 31484.3203  LR: 0.00000311  \n",
      "Epoch: [6][1700/1709] Elapsed 12m 34s (remain 0m 3s) Loss: 0.6384(0.4906) Grad: 103010.6406  LR: 0.00000295  \n",
      "Epoch: [6][1708/1709] Elapsed 12m 37s (remain 0m 0s) Loss: 0.5895(0.4905) Grad: 29709.0020  LR: 0.00000294  \n"
     ]
    },
    {
     "name": "stderr",
     "output_type": "stream",
     "text": [
      "[W pthreadpool-cpp.cc:90] Warning: Leaking Caffe2 thread-pool after fork. (function pthreadpool)\n",
      "[W pthreadpool-cpp.cc:90] Warning: Leaking Caffe2 thread-pool after fork. (function pthreadpool)\n",
      "[W pthreadpool-cpp.cc:90] Warning: Leaking Caffe2 thread-pool after fork. (function pthreadpool)\n",
      "[W pthreadpool-cpp.cc:90] Warning: Leaking Caffe2 thread-pool after fork. (function pthreadpool)\n"
     ]
    },
    {
     "name": "stdout",
     "output_type": "stream",
     "text": [
      "EVAL: [0/570] Elapsed 0m 0s (remain 2m 46s) Loss: 0.5482(0.5482) \n",
      "EVAL: [100/570] Elapsed 0m 15s (remain 1m 11s) Loss: 0.4478(0.5749) \n",
      "EVAL: [200/570] Elapsed 0m 30s (remain 0m 55s) Loss: 0.5557(0.5701) \n",
      "EVAL: [300/570] Elapsed 0m 45s (remain 0m 40s) Loss: 0.5956(0.5730) \n",
      "EVAL: [400/570] Elapsed 1m 0s (remain 0m 25s) Loss: 0.7460(0.5733) \n",
      "EVAL: [500/570] Elapsed 1m 15s (remain 0m 10s) Loss: 0.5801(0.5726) \n"
     ]
    },
    {
     "name": "stderr",
     "output_type": "stream",
     "text": [
      "Epoch 6 - avg_train_loss: 0.4905  avg_val_loss: 0.5717  time: 844s\n",
      "Epoch 6 - Score: 0.8432\n",
      "Epoch 6 - Save Best Score: 0.8432 Model\n"
     ]
    },
    {
     "name": "stdout",
     "output_type": "stream",
     "text": [
      "EVAL: [569/570] Elapsed 1m 26s (remain 0m 0s) Loss: 0.4668(0.5717) \n"
     ]
    },
    {
     "name": "stderr",
     "output_type": "stream",
     "text": [
      "[W pthreadpool-cpp.cc:90] Warning: Leaking Caffe2 thread-pool after fork. (function pthreadpool)\n",
      "[W pthreadpool-cpp.cc:90] Warning: Leaking Caffe2 thread-pool after fork. (function pthreadpool)\n",
      "[W pthreadpool-cpp.cc:90] Warning: Leaking Caffe2 thread-pool after fork. (function pthreadpool)\n",
      "[W pthreadpool-cpp.cc:90] Warning: Leaking Caffe2 thread-pool after fork. (function pthreadpool)\n"
     ]
    },
    {
     "name": "stdout",
     "output_type": "stream",
     "text": [
      "Epoch: [7][0/1709] Elapsed 0m 0s (remain 21m 45s) Loss: 0.6393(0.6393) Grad: 86852.6094  LR: 0.00000293  \n",
      "Epoch: [7][100/1709] Elapsed 0m 45s (remain 11m 57s) Loss: 0.4223(0.4965) Grad: 39108.1641  LR: 0.00000277  \n",
      "Epoch: [7][200/1709] Elapsed 1m 29s (remain 11m 9s) Loss: 0.5072(0.4862) Grad: 27609.5703  LR: 0.00000262  \n",
      "Epoch: [7][300/1709] Elapsed 2m 13s (remain 10m 24s) Loss: 0.5753(0.4893) Grad: 16183.0664  LR: 0.00000246  \n",
      "Epoch: [7][400/1709] Elapsed 2m 57s (remain 9m 40s) Loss: 0.3870(0.4866) Grad: 11998.3262  LR: 0.00000231  \n",
      "Epoch: [7][500/1709] Elapsed 3m 42s (remain 8m 55s) Loss: 0.4332(0.4874) Grad: 13592.7412  LR: 0.00000217  \n",
      "Epoch: [7][600/1709] Elapsed 4m 26s (remain 8m 11s) Loss: 0.4711(0.4888) Grad: 13201.5020  LR: 0.00000203  \n",
      "Epoch: [7][700/1709] Elapsed 5m 10s (remain 7m 27s) Loss: 0.4922(0.4864) Grad: 10880.3369  LR: 0.00000189  \n",
      "Epoch: [7][800/1709] Elapsed 5m 55s (remain 6m 42s) Loss: 0.4349(0.4871) Grad: 15060.6875  LR: 0.00000176  \n",
      "Epoch: [7][900/1709] Elapsed 6m 39s (remain 5m 58s) Loss: 0.3542(0.4866) Grad: 8476.9668  LR: 0.00000163  \n",
      "Epoch: [7][1000/1709] Elapsed 7m 23s (remain 5m 13s) Loss: 0.5112(0.4864) Grad: 20461.4512  LR: 0.00000151  \n",
      "Epoch: [7][1100/1709] Elapsed 8m 8s (remain 4m 29s) Loss: 0.5793(0.4872) Grad: 21687.4316  LR: 0.00000139  \n",
      "Epoch: [7][1200/1709] Elapsed 8m 52s (remain 3m 45s) Loss: 0.4151(0.4868) Grad: 13799.1826  LR: 0.00000127  \n",
      "Epoch: [7][1300/1709] Elapsed 9m 36s (remain 3m 0s) Loss: 0.6357(0.4870) Grad: 54619.2461  LR: 0.00000116  \n",
      "Epoch: [7][1400/1709] Elapsed 10m 21s (remain 2m 16s) Loss: 0.4375(0.4868) Grad: 17271.2598  LR: 0.00000106  \n",
      "Epoch: [7][1500/1709] Elapsed 11m 5s (remain 1m 32s) Loss: 0.4467(0.4874) Grad: 6074.7852  LR: 0.00000096  \n",
      "Epoch: [7][1600/1709] Elapsed 11m 49s (remain 0m 47s) Loss: 0.4117(0.4872) Grad: 14986.8438  LR: 0.00000086  \n",
      "Epoch: [7][1700/1709] Elapsed 12m 34s (remain 0m 3s) Loss: 0.5006(0.4867) Grad: 25138.6777  LR: 0.00000077  \n"
     ]
    },
    {
     "name": "stderr",
     "output_type": "stream",
     "text": [
      "[W pthreadpool-cpp.cc:90] Warning: Leaking Caffe2 thread-pool after fork. (function pthreadpool)\n"
     ]
    },
    {
     "name": "stdout",
     "output_type": "stream",
     "text": [
      "Epoch: [7][1708/1709] Elapsed 12m 37s (remain 0m 0s) Loss: 0.5833(0.4867) Grad: 16325.8896  LR: 0.00000077  \n"
     ]
    },
    {
     "name": "stderr",
     "output_type": "stream",
     "text": [
      "[W pthreadpool-cpp.cc:90] Warning: Leaking Caffe2 thread-pool after fork. (function pthreadpool)\n",
      "[W pthreadpool-cpp.cc:90] Warning: Leaking Caffe2 thread-pool after fork. (function pthreadpool)\n",
      "[W pthreadpool-cpp.cc:90] Warning: Leaking Caffe2 thread-pool after fork. (function pthreadpool)\n",
      "[W pthreadpool-cpp.cc:90] Warning: Leaking Caffe2 thread-pool after fork. (function pthreadpool)\n"
     ]
    },
    {
     "name": "stdout",
     "output_type": "stream",
     "text": [
      "EVAL: [0/570] Elapsed 0m 0s (remain 2m 48s) Loss: 0.5492(0.5492) \n",
      "EVAL: [100/570] Elapsed 0m 15s (remain 1m 11s) Loss: 0.4457(0.5784) \n",
      "EVAL: [200/570] Elapsed 0m 30s (remain 0m 55s) Loss: 0.5515(0.5712) \n",
      "EVAL: [300/570] Elapsed 0m 45s (remain 0m 40s) Loss: 0.6749(0.5758) \n",
      "EVAL: [400/570] Elapsed 1m 0s (remain 0m 25s) Loss: 0.7518(0.5749) \n",
      "EVAL: [500/570] Elapsed 1m 15s (remain 0m 10s) Loss: 0.5798(0.5741) \n"
     ]
    },
    {
     "name": "stderr",
     "output_type": "stream",
     "text": [
      "Epoch 7 - avg_train_loss: 0.4867  avg_val_loss: 0.5732  time: 844s\n",
      "Epoch 7 - Score: 0.8433\n",
      "Epoch 7 - Save Best Score: 0.8433 Model\n"
     ]
    },
    {
     "name": "stdout",
     "output_type": "stream",
     "text": [
      "EVAL: [569/570] Elapsed 1m 26s (remain 0m 0s) Loss: 0.4666(0.5732) \n"
     ]
    },
    {
     "name": "stderr",
     "output_type": "stream",
     "text": [
      "[W pthreadpool-cpp.cc:90] Warning: Leaking Caffe2 thread-pool after fork. (function pthreadpool)\n",
      "[W pthreadpool-cpp.cc:90] Warning: Leaking Caffe2 thread-pool after fork. (function pthreadpool)\n",
      "[W pthreadpool-cpp.cc:90] Warning: Leaking Caffe2 thread-pool after fork. (function pthreadpool)\n",
      "[W pthreadpool-cpp.cc:90] Warning: Leaking Caffe2 thread-pool after fork. (function pthreadpool)\n"
     ]
    },
    {
     "name": "stdout",
     "output_type": "stream",
     "text": [
      "Epoch: [8][0/1709] Elapsed 0m 0s (remain 22m 4s) Loss: 0.5284(0.5284) Grad: 102789.0547  LR: 0.00000076  \n",
      "Epoch: [8][100/1709] Elapsed 0m 45s (remain 11m 57s) Loss: 0.3962(0.4783) Grad: 37559.9141  LR: 0.00000068  \n",
      "Epoch: [8][200/1709] Elapsed 1m 29s (remain 11m 9s) Loss: 0.5334(0.4801) Grad: 24067.6348  LR: 0.00000060  \n",
      "Epoch: [8][300/1709] Elapsed 2m 13s (remain 10m 24s) Loss: 0.4063(0.4807) Grad: 33032.3594  LR: 0.00000052  \n",
      "Epoch: [8][400/1709] Elapsed 2m 57s (remain 9m 40s) Loss: 0.4128(0.4797) Grad: 38200.4688  LR: 0.00000045  \n",
      "Epoch: [8][500/1709] Elapsed 3m 42s (remain 8m 55s) Loss: 0.4649(0.4833) Grad: 12673.3623  LR: 0.00000039  \n",
      "Epoch: [8][600/1709] Elapsed 4m 26s (remain 8m 11s) Loss: 0.5762(0.4826) Grad: 19272.1289  LR: 0.00000033  \n",
      "Epoch: [8][700/1709] Elapsed 5m 10s (remain 7m 27s) Loss: 0.5704(0.4822) Grad: 14884.4990  LR: 0.00000027  \n",
      "Epoch: [8][800/1709] Elapsed 5m 55s (remain 6m 42s) Loss: 0.5365(0.4830) Grad: 25960.1855  LR: 0.00000022  \n",
      "Epoch: [8][900/1709] Elapsed 6m 39s (remain 5m 58s) Loss: 0.5566(0.4821) Grad: 151240.7500  LR: 0.00000017  \n",
      "Epoch: [8][1000/1709] Elapsed 7m 23s (remain 5m 13s) Loss: 0.4728(0.4825) Grad: 17860.1445  LR: 0.00000013  \n",
      "Epoch: [8][1100/1709] Elapsed 8m 8s (remain 4m 29s) Loss: 0.5661(0.4828) Grad: 22194.4512  LR: 0.00000010  \n",
      "Epoch: [8][1200/1709] Elapsed 8m 52s (remain 3m 45s) Loss: 0.5267(0.4842) Grad: 20303.6836  LR: 0.00000007  \n",
      "Epoch: [8][1300/1709] Elapsed 9m 36s (remain 3m 0s) Loss: 0.3693(0.4841) Grad: 39837.9648  LR: 0.00000004  \n",
      "Epoch: [8][1400/1709] Elapsed 10m 21s (remain 2m 16s) Loss: 0.3492(0.4839) Grad: 11096.7598  LR: 0.00000003  \n",
      "Epoch: [8][1500/1709] Elapsed 11m 5s (remain 1m 32s) Loss: 0.5414(0.4846) Grad: 158339.1719  LR: 0.00000001  \n",
      "Epoch: [8][1600/1709] Elapsed 11m 49s (remain 0m 47s) Loss: 0.4753(0.4848) Grad: 26800.8047  LR: 0.00000000  \n",
      "Epoch: [8][1700/1709] Elapsed 12m 34s (remain 0m 3s) Loss: 0.4419(0.4852) Grad: 37164.5938  LR: 0.00000000  \n",
      "Epoch: [8][1708/1709] Elapsed 12m 37s (remain 0m 0s) Loss: 0.4420(0.4852) Grad: 43455.0273  LR: 0.00000000  \n"
     ]
    },
    {
     "name": "stderr",
     "output_type": "stream",
     "text": [
      "[W pthreadpool-cpp.cc:90] Warning: Leaking Caffe2 thread-pool after fork. (function pthreadpool)\n",
      "[W pthreadpool-cpp.cc:90] Warning: Leaking Caffe2 thread-pool after fork. (function pthreadpool)\n",
      "[W pthreadpool-cpp.cc:90] Warning: Leaking Caffe2 thread-pool after fork. (function pthreadpool)\n",
      "[W pthreadpool-cpp.cc:90] Warning: Leaking Caffe2 thread-pool after fork. (function pthreadpool)\n"
     ]
    },
    {
     "name": "stdout",
     "output_type": "stream",
     "text": [
      "EVAL: [0/570] Elapsed 0m 0s (remain 2m 48s) Loss: 0.5464(0.5464) \n",
      "EVAL: [100/570] Elapsed 0m 15s (remain 1m 11s) Loss: 0.4457(0.5779) \n",
      "EVAL: [200/570] Elapsed 0m 30s (remain 0m 55s) Loss: 0.5531(0.5709) \n",
      "EVAL: [300/570] Elapsed 0m 45s (remain 0m 40s) Loss: 0.6864(0.5755) \n",
      "EVAL: [400/570] Elapsed 1m 0s (remain 0m 25s) Loss: 0.7525(0.5747) \n",
      "EVAL: [500/570] Elapsed 1m 15s (remain 0m 10s) Loss: 0.5811(0.5739) \n"
     ]
    },
    {
     "name": "stderr",
     "output_type": "stream",
     "text": [
      "[W pthreadpool-cpp.cc:90] Warning: Leaking Caffe2 thread-pool after fork. (function pthreadpool)\n",
      "[W pthreadpool-cpp.cc:90] Warning: Leaking Caffe2 thread-pool after fork. (function pthreadpool)\n",
      "[W pthreadpool-cpp.cc:90] Warning: Leaking Caffe2 thread-pool after fork. (function pthreadpool)\n",
      "Epoch 8 - avg_train_loss: 0.4852  avg_val_loss: 0.5730  time: 844s\n",
      "Epoch 8 - Score: 0.8432\n"
     ]
    },
    {
     "name": "stdout",
     "output_type": "stream",
     "text": [
      "EVAL: [569/570] Elapsed 1m 26s (remain 0m 0s) Loss: 0.4657(0.5730) \n"
     ]
    },
    {
     "name": "stderr",
     "output_type": "stream",
     "text": [
      "========== fold: 0 result ==========\n",
      "Score: 0.8433\n",
      "========== fold: 1 training ==========\n"
     ]
    },
    {
     "name": "stdout",
     "output_type": "stream",
     "text": [
      "\u001b[38;5;40m========== fold: 1 training ==========\u001b[0m\n"
     ]
    },
    {
     "name": "stderr",
     "output_type": "stream",
     "text": [
      "Some weights of the model checkpoint at bert-large-uncased-whole-word-masking-finetuned-squad were not used when initializing BertModel: ['qa_outputs.bias', 'qa_outputs.weight']\n",
      "- This IS expected if you are initializing BertModel from the checkpoint of a model trained on another task or with another architecture (e.g. initializing a BertForSequenceClassification model from a BertForPreTraining model).\n",
      "- This IS NOT expected if you are initializing BertModel from the checkpoint of a model that you expect to be exactly identical (initializing a BertForSequenceClassification model from a BertForSequenceClassification model).\n",
      "[W pthreadpool-cpp.cc:90] Warning: Leaking Caffe2 thread-pool after fork. (function pthreadpool)\n",
      "[W pthreadpool-cpp.cc:90] Warning: Leaking Caffe2 thread-pool after fork. (function pthreadpool)\n",
      "[W pthreadpool-cpp.cc:90] Warning: Leaking Caffe2 thread-pool after fork. (function pthreadpool)\n",
      "[W pthreadpool-cpp.cc:90] Warning: Leaking Caffe2 thread-pool after fork. (function pthreadpool)\n"
     ]
    },
    {
     "name": "stdout",
     "output_type": "stream",
     "text": [
      "Epoch: [1][0/1709] Elapsed 0m 0s (remain 16m 5s) Loss: 0.6794(0.6794) Grad: 260279.4844  LR: 0.00002000  \n",
      "Epoch: [1][100/1709] Elapsed 0m 44s (remain 11m 48s) Loss: 0.5847(0.6410) Grad: 78244.9375  LR: 0.00002000  \n",
      "Epoch: [1][200/1709] Elapsed 1m 28s (remain 11m 6s) Loss: 0.6337(0.6215) Grad: 65807.7812  LR: 0.00001999  \n",
      "Epoch: [1][300/1709] Elapsed 2m 13s (remain 10m 22s) Loss: 0.6480(0.6174) Grad: 31549.5742  LR: 0.00001998  \n",
      "Epoch: [1][400/1709] Elapsed 2m 57s (remain 9m 38s) Loss: 0.5353(0.6129) Grad: 9486.4131  LR: 0.00001996  \n",
      "Epoch: [1][500/1709] Elapsed 3m 41s (remain 8m 54s) Loss: 0.7109(0.6090) Grad: 17202.0723  LR: 0.00001993  \n",
      "Epoch: [1][600/1709] Elapsed 4m 26s (remain 8m 10s) Loss: 0.5585(0.6079) Grad: 10781.9482  LR: 0.00001990  \n",
      "Epoch: [1][700/1709] Elapsed 5m 10s (remain 7m 26s) Loss: 0.6137(0.6035) Grad: 26257.9844  LR: 0.00001987  \n",
      "Epoch: [1][800/1709] Elapsed 5m 54s (remain 6m 42s) Loss: 0.5427(0.5997) Grad: 8335.8193  LR: 0.00001983  \n",
      "Epoch: [1][900/1709] Elapsed 6m 39s (remain 5m 57s) Loss: 0.5134(0.5957) Grad: 10440.5039  LR: 0.00001979  \n",
      "Epoch: [1][1000/1709] Elapsed 7m 23s (remain 5m 13s) Loss: 0.5831(0.5933) Grad: 28865.8672  LR: 0.00001974  \n",
      "Epoch: [1][1100/1709] Elapsed 8m 7s (remain 4m 29s) Loss: 0.5621(0.5924) Grad: 7367.7207  LR: 0.00001968  \n",
      "Epoch: [1][1200/1709] Elapsed 8m 52s (remain 3m 45s) Loss: 0.5664(0.5912) Grad: 10880.8076  LR: 0.00001962  \n",
      "Epoch: [1][1300/1709] Elapsed 9m 36s (remain 3m 0s) Loss: 0.6753(0.5887) Grad: 15709.7188  LR: 0.00001956  \n",
      "Epoch: [1][1400/1709] Elapsed 10m 21s (remain 2m 16s) Loss: 0.6527(0.5872) Grad: 10149.2305  LR: 0.00001949  \n",
      "Epoch: [1][1500/1709] Elapsed 11m 5s (remain 1m 32s) Loss: 0.5931(0.5855) Grad: 7902.5879  LR: 0.00001941  \n",
      "Epoch: [1][1600/1709] Elapsed 11m 49s (remain 0m 47s) Loss: 0.5466(0.5835) Grad: 7880.1069  LR: 0.00001933  \n",
      "Epoch: [1][1700/1709] Elapsed 12m 34s (remain 0m 3s) Loss: 0.5612(0.5817) Grad: 4672.3540  LR: 0.00001925  \n",
      "Epoch: [1][1708/1709] Elapsed 12m 37s (remain 0m 0s) Loss: 0.5054(0.5817) Grad: 12781.5332  LR: 0.00001924  \n"
     ]
    },
    {
     "name": "stderr",
     "output_type": "stream",
     "text": [
      "[W pthreadpool-cpp.cc:90] Warning: Leaking Caffe2 thread-pool after fork. (function pthreadpool)\n",
      "[W pthreadpool-cpp.cc:90] Warning: Leaking Caffe2 thread-pool after fork. (function pthreadpool)\n",
      "[W pthreadpool-cpp.cc:90] Warning: Leaking Caffe2 thread-pool after fork. (function pthreadpool)\n",
      "[W pthreadpool-cpp.cc:90] Warning: Leaking Caffe2 thread-pool after fork. (function pthreadpool)\n"
     ]
    },
    {
     "name": "stdout",
     "output_type": "stream",
     "text": [
      "EVAL: [0/570] Elapsed 0m 0s (remain 2m 57s) Loss: 0.5532(0.5532) \n",
      "EVAL: [100/570] Elapsed 0m 15s (remain 1m 11s) Loss: 0.6512(0.5627) \n",
      "EVAL: [200/570] Elapsed 0m 30s (remain 0m 56s) Loss: 0.4458(0.5675) \n",
      "EVAL: [300/570] Elapsed 0m 45s (remain 0m 40s) Loss: 0.6435(0.5694) \n",
      "EVAL: [400/570] Elapsed 1m 0s (remain 0m 25s) Loss: 0.6111(0.5711) \n",
      "EVAL: [500/570] Elapsed 1m 15s (remain 0m 10s) Loss: 0.5023(0.5683) \n"
     ]
    },
    {
     "name": "stderr",
     "output_type": "stream",
     "text": [
      "Epoch 1 - avg_train_loss: 0.5817  avg_val_loss: 0.5676  time: 844s\n",
      "Epoch 1 - Score: 0.7925\n",
      "Epoch 1 - Save Best Score: 0.7925 Model\n"
     ]
    },
    {
     "name": "stdout",
     "output_type": "stream",
     "text": [
      "EVAL: [569/570] Elapsed 1m 26s (remain 0m 0s) Loss: 0.4472(0.5676) \n"
     ]
    },
    {
     "name": "stderr",
     "output_type": "stream",
     "text": [
      "[W pthreadpool-cpp.cc:90] Warning: Leaking Caffe2 thread-pool after fork. (function pthreadpool)\n",
      "[W pthreadpool-cpp.cc:90] Warning: Leaking Caffe2 thread-pool after fork. (function pthreadpool)\n",
      "[W pthreadpool-cpp.cc:90] Warning: Leaking Caffe2 thread-pool after fork. (function pthreadpool)\n",
      "[W pthreadpool-cpp.cc:90] Warning: Leaking Caffe2 thread-pool after fork. (function pthreadpool)\n"
     ]
    },
    {
     "name": "stdout",
     "output_type": "stream",
     "text": [
      "Epoch: [2][0/1709] Elapsed 0m 0s (remain 20m 11s) Loss: 0.5218(0.5218) Grad: 252707.7188  LR: 0.00001924  \n",
      "Epoch: [2][100/1709] Elapsed 0m 44s (remain 11m 54s) Loss: 0.5655(0.5421) Grad: 44318.9219  LR: 0.00001915  \n",
      "Epoch: [2][200/1709] Elapsed 1m 29s (remain 11m 9s) Loss: 0.6174(0.5350) Grad: 78430.4922  LR: 0.00001905  \n",
      "Epoch: [2][300/1709] Elapsed 2m 13s (remain 10m 24s) Loss: 0.5842(0.5371) Grad: 38170.9766  LR: 0.00001895  \n",
      "Epoch: [2][400/1709] Elapsed 2m 57s (remain 9m 40s) Loss: 0.4357(0.5365) Grad: 72071.7891  LR: 0.00001885  \n",
      "Epoch: [2][500/1709] Elapsed 3m 42s (remain 8m 55s) Loss: 0.5274(0.5354) Grad: 19744.0293  LR: 0.00001874  \n",
      "Epoch: [2][600/1709] Elapsed 4m 26s (remain 8m 11s) Loss: 0.5798(0.5336) Grad: 73547.6562  LR: 0.00001863  \n",
      "Epoch: [2][700/1709] Elapsed 5m 10s (remain 7m 27s) Loss: 0.3852(0.5323) Grad: 87763.3672  LR: 0.00001851  \n",
      "Epoch: [2][800/1709] Elapsed 5m 55s (remain 6m 42s) Loss: 0.5665(0.5315) Grad: 36466.4023  LR: 0.00001838  \n",
      "Epoch: [2][900/1709] Elapsed 6m 39s (remain 5m 58s) Loss: 0.6696(0.5323) Grad: 94277.6016  LR: 0.00001826  \n",
      "Epoch: [2][1000/1709] Elapsed 7m 23s (remain 5m 14s) Loss: 0.5242(0.5321) Grad: 50550.4922  LR: 0.00001812  \n",
      "Epoch: [2][1100/1709] Elapsed 8m 8s (remain 4m 29s) Loss: 0.5767(0.5323) Grad: 130432.3359  LR: 0.00001799  \n",
      "Epoch: [2][1200/1709] Elapsed 8m 52s (remain 3m 45s) Loss: 0.5922(0.5314) Grad: 35584.9961  LR: 0.00001785  \n",
      "Epoch: [2][1300/1709] Elapsed 9m 36s (remain 3m 0s) Loss: 0.5898(0.5316) Grad: 36212.9688  LR: 0.00001770  \n",
      "Epoch: [2][1400/1709] Elapsed 10m 21s (remain 2m 16s) Loss: 0.5053(0.5312) Grad: 43579.0586  LR: 0.00001756  \n",
      "Epoch: [2][1500/1709] Elapsed 11m 5s (remain 1m 32s) Loss: 0.5624(0.5305) Grad: 27996.7227  LR: 0.00001740  \n",
      "Epoch: [2][1600/1709] Elapsed 11m 49s (remain 0m 47s) Loss: 0.5161(0.5318) Grad: 12277.1328  LR: 0.00001725  \n",
      "Epoch: [2][1700/1709] Elapsed 12m 34s (remain 0m 3s) Loss: 0.3342(0.5319) Grad: 40643.4844  LR: 0.00001709  \n"
     ]
    },
    {
     "name": "stderr",
     "output_type": "stream",
     "text": [
      "[W pthreadpool-cpp.cc:90] Warning: Leaking Caffe2 thread-pool after fork. (function pthreadpool)\n",
      "[W pthreadpool-cpp.cc:90] Warning: Leaking Caffe2 thread-pool after fork. (function pthreadpool)\n"
     ]
    },
    {
     "name": "stdout",
     "output_type": "stream",
     "text": [
      "Epoch: [2][1708/1709] Elapsed 12m 37s (remain 0m 0s) Loss: 0.3737(0.5319) Grad: 9468.2734  LR: 0.00001707  \n"
     ]
    },
    {
     "name": "stderr",
     "output_type": "stream",
     "text": [
      "[W pthreadpool-cpp.cc:90] Warning: Leaking Caffe2 thread-pool after fork. (function pthreadpool)\n",
      "[W pthreadpool-cpp.cc:90] Warning: Leaking Caffe2 thread-pool after fork. (function pthreadpool)\n",
      "[W pthreadpool-cpp.cc:90] Warning: Leaking Caffe2 thread-pool after fork. (function pthreadpool)\n",
      "[W pthreadpool-cpp.cc:90] Warning: Leaking Caffe2 thread-pool after fork. (function pthreadpool)\n"
     ]
    },
    {
     "name": "stdout",
     "output_type": "stream",
     "text": [
      "EVAL: [0/570] Elapsed 0m 0s (remain 2m 56s) Loss: 0.5978(0.5978) \n",
      "EVAL: [100/570] Elapsed 0m 15s (remain 1m 11s) Loss: 0.6198(0.5684) \n",
      "EVAL: [200/570] Elapsed 0m 30s (remain 0m 55s) Loss: 0.4330(0.5735) \n",
      "EVAL: [300/570] Elapsed 0m 45s (remain 0m 40s) Loss: 0.5911(0.5739) \n",
      "EVAL: [400/570] Elapsed 1m 0s (remain 0m 25s) Loss: 0.5502(0.5763) \n",
      "EVAL: [500/570] Elapsed 1m 15s (remain 0m 10s) Loss: 0.4857(0.5732) \n"
     ]
    },
    {
     "name": "stderr",
     "output_type": "stream",
     "text": [
      "Epoch 2 - avg_train_loss: 0.5319  avg_val_loss: 0.5725  time: 844s\n",
      "Epoch 2 - Score: 0.7893\n"
     ]
    },
    {
     "name": "stdout",
     "output_type": "stream",
     "text": [
      "EVAL: [569/570] Elapsed 1m 26s (remain 0m 0s) Loss: 0.4991(0.5725) \n"
     ]
    },
    {
     "name": "stderr",
     "output_type": "stream",
     "text": [
      "[W pthreadpool-cpp.cc:90] Warning: Leaking Caffe2 thread-pool after fork. (function pthreadpool)\n",
      "[W pthreadpool-cpp.cc:90] Warning: Leaking Caffe2 thread-pool after fork. (function pthreadpool)\n",
      "[W pthreadpool-cpp.cc:90] Warning: Leaking Caffe2 thread-pool after fork. (function pthreadpool)\n",
      "[W pthreadpool-cpp.cc:90] Warning: Leaking Caffe2 thread-pool after fork. (function pthreadpool)\n"
     ]
    },
    {
     "name": "stdout",
     "output_type": "stream",
     "text": [
      "Epoch: [3][0/1709] Elapsed 0m 0s (remain 15m 0s) Loss: 0.4950(0.4950) Grad: 84598.4922  LR: 0.00001707  \n",
      "Epoch: [3][100/1709] Elapsed 0m 44s (remain 11m 51s) Loss: 0.5961(0.5233) Grad: 46019.8789  LR: 0.00001691  \n",
      "Epoch: [3][200/1709] Elapsed 1m 29s (remain 11m 7s) Loss: 0.6374(0.5226) Grad: 23742.1797  LR: 0.00001674  \n",
      "Epoch: [3][300/1709] Elapsed 2m 13s (remain 10m 23s) Loss: 0.5433(0.5254) Grad: 34377.8750  LR: 0.00001657  \n",
      "Epoch: [3][400/1709] Elapsed 2m 57s (remain 9m 39s) Loss: 0.5711(0.5271) Grad: 53831.4570  LR: 0.00001639  \n",
      "Epoch: [3][500/1709] Elapsed 3m 41s (remain 8m 55s) Loss: 0.5136(0.5246) Grad: 29343.8809  LR: 0.00001621  \n",
      "Epoch: [3][600/1709] Elapsed 4m 26s (remain 8m 10s) Loss: 0.5724(0.5240) Grad: 17358.0312  LR: 0.00001603  \n",
      "Epoch: [3][700/1709] Elapsed 5m 10s (remain 7m 26s) Loss: 0.4967(0.5236) Grad: 11586.8213  LR: 0.00001585  \n",
      "Epoch: [3][800/1709] Elapsed 5m 54s (remain 6m 42s) Loss: 0.6075(0.5207) Grad: 13637.0205  LR: 0.00001566  \n",
      "Epoch: [3][900/1709] Elapsed 6m 39s (remain 5m 58s) Loss: 0.5620(0.5218) Grad: 20011.9668  LR: 0.00001547  \n",
      "Epoch: [3][1000/1709] Elapsed 7m 23s (remain 5m 13s) Loss: 0.4968(0.5219) Grad: 26706.4258  LR: 0.00001528  \n",
      "Epoch: [3][1100/1709] Elapsed 8m 7s (remain 4m 29s) Loss: 0.5709(0.5221) Grad: 46968.0469  LR: 0.00001508  \n",
      "Epoch: [3][1200/1709] Elapsed 8m 52s (remain 3m 45s) Loss: 0.5597(0.5217) Grad: 16752.4707  LR: 0.00001488  \n",
      "Epoch: [3][1300/1709] Elapsed 9m 36s (remain 3m 0s) Loss: 0.4874(0.5219) Grad: 13188.6494  LR: 0.00001468  \n",
      "Epoch: [3][1400/1709] Elapsed 10m 20s (remain 2m 16s) Loss: 0.5186(0.5226) Grad: 4917.6006  LR: 0.00001447  \n",
      "Epoch: [3][1500/1709] Elapsed 11m 5s (remain 1m 32s) Loss: 0.5653(0.5231) Grad: 10073.0762  LR: 0.00001427  \n",
      "Epoch: [3][1600/1709] Elapsed 11m 49s (remain 0m 47s) Loss: 0.5159(0.5230) Grad: 10801.1309  LR: 0.00001406  \n",
      "Epoch: [3][1700/1709] Elapsed 12m 33s (remain 0m 3s) Loss: 0.5155(0.5229) Grad: 14262.1758  LR: 0.00001385  \n",
      "Epoch: [3][1708/1709] Elapsed 12m 37s (remain 0m 0s) Loss: 0.4480(0.5226) Grad: 15563.5547  LR: 0.00001383  \n"
     ]
    },
    {
     "name": "stderr",
     "output_type": "stream",
     "text": [
      "[W pthreadpool-cpp.cc:90] Warning: Leaking Caffe2 thread-pool after fork. (function pthreadpool)\n",
      "[W pthreadpool-cpp.cc:90] Warning: Leaking Caffe2 thread-pool after fork. (function pthreadpool)\n",
      "[W pthreadpool-cpp.cc:90] Warning: Leaking Caffe2 thread-pool after fork. (function pthreadpool)\n",
      "[W pthreadpool-cpp.cc:90] Warning: Leaking Caffe2 thread-pool after fork. (function pthreadpool)\n"
     ]
    },
    {
     "name": "stdout",
     "output_type": "stream",
     "text": [
      "EVAL: [0/570] Elapsed 0m 0s (remain 2m 55s) Loss: 0.4952(0.4952) \n",
      "EVAL: [100/570] Elapsed 0m 15s (remain 1m 11s) Loss: 0.6164(0.5488) \n",
      "EVAL: [200/570] Elapsed 0m 30s (remain 0m 55s) Loss: 0.3948(0.5538) \n",
      "EVAL: [300/570] Elapsed 0m 45s (remain 0m 40s) Loss: 0.6203(0.5580) \n",
      "EVAL: [400/570] Elapsed 1m 0s (remain 0m 25s) Loss: 0.5245(0.5596) \n",
      "EVAL: [500/570] Elapsed 1m 15s (remain 0m 10s) Loss: 0.4840(0.5594) \n"
     ]
    },
    {
     "name": "stderr",
     "output_type": "stream",
     "text": [
      "Epoch 3 - avg_train_loss: 0.5226  avg_val_loss: 0.5597  time: 844s\n",
      "Epoch 3 - Score: 0.8216\n",
      "Epoch 3 - Save Best Score: 0.8216 Model\n"
     ]
    },
    {
     "name": "stdout",
     "output_type": "stream",
     "text": [
      "EVAL: [569/570] Elapsed 1m 26s (remain 0m 0s) Loss: 0.5171(0.5597) \n"
     ]
    },
    {
     "name": "stderr",
     "output_type": "stream",
     "text": [
      "[W pthreadpool-cpp.cc:90] Warning: Leaking Caffe2 thread-pool after fork. (function pthreadpool)\n",
      "[W pthreadpool-cpp.cc:90] Warning: Leaking Caffe2 thread-pool after fork. (function pthreadpool)\n",
      "[W pthreadpool-cpp.cc:90] Warning: Leaking Caffe2 thread-pool after fork. (function pthreadpool)\n",
      "[W pthreadpool-cpp.cc:90] Warning: Leaking Caffe2 thread-pool after fork. (function pthreadpool)\n"
     ]
    },
    {
     "name": "stdout",
     "output_type": "stream",
     "text": [
      "Epoch: [4][0/1709] Elapsed 0m 0s (remain 20m 59s) Loss: 0.6037(0.6037) Grad: 112004.5000  LR: 0.00001383  \n",
      "Epoch: [4][100/1709] Elapsed 0m 44s (remain 11m 55s) Loss: 0.4225(0.4971) Grad: 36591.3203  LR: 0.00001362  \n",
      "Epoch: [4][200/1709] Elapsed 1m 29s (remain 11m 9s) Loss: 0.4364(0.5047) Grad: 42760.4727  LR: 0.00001340  \n",
      "Epoch: [4][300/1709] Elapsed 2m 13s (remain 10m 24s) Loss: 0.6378(0.5080) Grad: 104565.2969  LR: 0.00001318  \n",
      "Epoch: [4][400/1709] Elapsed 2m 57s (remain 9m 40s) Loss: 0.3795(0.5093) Grad: 70309.4922  LR: 0.00001296  \n",
      "Epoch: [4][500/1709] Elapsed 3m 42s (remain 8m 55s) Loss: 0.4744(0.5065) Grad: 146074.7188  LR: 0.00001274  \n",
      "Epoch: [4][600/1709] Elapsed 4m 26s (remain 8m 11s) Loss: 0.4872(0.5057) Grad: 18044.3027  LR: 0.00001252  \n",
      "Epoch: [4][700/1709] Elapsed 5m 10s (remain 7m 26s) Loss: 0.5742(0.5072) Grad: 14971.2998  LR: 0.00001230  \n",
      "Epoch: [4][800/1709] Elapsed 5m 55s (remain 6m 42s) Loss: 0.4485(0.5062) Grad: 29851.1523  LR: 0.00001208  \n",
      "Epoch: [4][900/1709] Elapsed 6m 39s (remain 5m 58s) Loss: 0.4874(0.5069) Grad: 6871.3369  LR: 0.00001185  \n",
      "Epoch: [4][1000/1709] Elapsed 7m 23s (remain 5m 13s) Loss: 0.4828(0.5067) Grad: 57935.7266  LR: 0.00001162  \n",
      "Epoch: [4][1100/1709] Elapsed 8m 8s (remain 4m 29s) Loss: 0.5489(0.5073) Grad: 11561.1650  LR: 0.00001140  \n",
      "Epoch: [4][1200/1709] Elapsed 8m 52s (remain 3m 45s) Loss: 0.4661(0.5076) Grad: 16128.6689  LR: 0.00001117  \n",
      "Epoch: [4][1300/1709] Elapsed 9m 36s (remain 3m 0s) Loss: 0.4835(0.5082) Grad: 66472.0234  LR: 0.00001094  \n",
      "Epoch: [4][1400/1709] Elapsed 10m 21s (remain 2m 16s) Loss: 0.5303(0.5085) Grad: 21652.0742  LR: 0.00001071  \n",
      "Epoch: [4][1500/1709] Elapsed 11m 5s (remain 1m 32s) Loss: 0.5590(0.5083) Grad: 24351.7617  LR: 0.00001048  \n",
      "Epoch: [4][1600/1709] Elapsed 11m 49s (remain 0m 47s) Loss: 0.4618(0.5074) Grad: 32019.6543  LR: 0.00001025  \n",
      "Epoch: [4][1700/1709] Elapsed 12m 34s (remain 0m 3s) Loss: 0.4520(0.5073) Grad: 14099.1113  LR: 0.00001002  \n"
     ]
    },
    {
     "name": "stderr",
     "output_type": "stream",
     "text": [
      "[W pthreadpool-cpp.cc:90] Warning: Leaking Caffe2 thread-pool after fork. (function pthreadpool)\n"
     ]
    },
    {
     "name": "stdout",
     "output_type": "stream",
     "text": [
      "Epoch: [4][1708/1709] Elapsed 12m 37s (remain 0m 0s) Loss: 0.3610(0.5072) Grad: 42700.2109  LR: 0.00001001  \n"
     ]
    },
    {
     "name": "stderr",
     "output_type": "stream",
     "text": [
      "[W pthreadpool-cpp.cc:90] Warning: Leaking Caffe2 thread-pool after fork. (function pthreadpool)\n",
      "[W pthreadpool-cpp.cc:90] Warning: Leaking Caffe2 thread-pool after fork. (function pthreadpool)\n",
      "[W pthreadpool-cpp.cc:90] Warning: Leaking Caffe2 thread-pool after fork. (function pthreadpool)\n",
      "[W pthreadpool-cpp.cc:90] Warning: Leaking Caffe2 thread-pool after fork. (function pthreadpool)\n"
     ]
    },
    {
     "name": "stdout",
     "output_type": "stream",
     "text": [
      "EVAL: [0/570] Elapsed 0m 0s (remain 3m 5s) Loss: 0.4966(0.4966) \n",
      "EVAL: [100/570] Elapsed 0m 15s (remain 1m 11s) Loss: 0.5833(0.5443) \n",
      "EVAL: [200/570] Elapsed 0m 30s (remain 0m 56s) Loss: 0.3787(0.5496) \n",
      "EVAL: [300/570] Elapsed 0m 45s (remain 0m 40s) Loss: 0.6122(0.5518) \n",
      "EVAL: [400/570] Elapsed 1m 0s (remain 0m 25s) Loss: 0.5284(0.5535) \n",
      "EVAL: [500/570] Elapsed 1m 15s (remain 0m 10s) Loss: 0.4768(0.5510) \n"
     ]
    },
    {
     "name": "stderr",
     "output_type": "stream",
     "text": [
      "Epoch 4 - avg_train_loss: 0.5072  avg_val_loss: 0.5496  time: 844s\n",
      "Epoch 4 - Score: 0.8327\n",
      "Epoch 4 - Save Best Score: 0.8327 Model\n"
     ]
    },
    {
     "name": "stdout",
     "output_type": "stream",
     "text": [
      "EVAL: [569/570] Elapsed 1m 26s (remain 0m 0s) Loss: 0.3896(0.5496) \n"
     ]
    },
    {
     "name": "stderr",
     "output_type": "stream",
     "text": [
      "[W pthreadpool-cpp.cc:90] Warning: Leaking Caffe2 thread-pool after fork. (function pthreadpool)\n",
      "[W pthreadpool-cpp.cc:90] Warning: Leaking Caffe2 thread-pool after fork. (function pthreadpool)\n",
      "[W pthreadpool-cpp.cc:90] Warning: Leaking Caffe2 thread-pool after fork. (function pthreadpool)\n",
      "[W pthreadpool-cpp.cc:90] Warning: Leaking Caffe2 thread-pool after fork. (function pthreadpool)\n"
     ]
    },
    {
     "name": "stdout",
     "output_type": "stream",
     "text": [
      "Epoch: [5][0/1709] Elapsed 0m 0s (remain 23m 5s) Loss: 0.4552(0.4552) Grad: 77645.8516  LR: 0.00001000  \n",
      "Epoch: [5][100/1709] Elapsed 0m 44s (remain 11m 56s) Loss: 0.3795(0.4922) Grad: 24678.9883  LR: 0.00000977  \n",
      "Epoch: [5][200/1709] Elapsed 1m 29s (remain 11m 9s) Loss: 0.3537(0.4919) Grad: 25963.0605  LR: 0.00000954  \n",
      "Epoch: [5][300/1709] Elapsed 2m 13s (remain 10m 24s) Loss: 0.4811(0.4926) Grad: 36303.8125  LR: 0.00000931  \n",
      "Epoch: [5][400/1709] Elapsed 2m 57s (remain 9m 40s) Loss: 0.5220(0.4956) Grad: 28427.9746  LR: 0.00000909  \n",
      "Epoch: [5][500/1709] Elapsed 3m 42s (remain 8m 55s) Loss: 0.4769(0.4957) Grad: 18050.2090  LR: 0.00000886  \n",
      "Epoch: [5][600/1709] Elapsed 4m 26s (remain 8m 11s) Loss: 0.5618(0.4967) Grad: 74174.1328  LR: 0.00000863  \n",
      "Epoch: [5][700/1709] Elapsed 5m 10s (remain 7m 26s) Loss: 0.4184(0.4969) Grad: 17149.6953  LR: 0.00000840  \n",
      "Epoch: [5][800/1709] Elapsed 5m 55s (remain 6m 42s) Loss: 0.4208(0.4962) Grad: 5454.4800  LR: 0.00000818  \n",
      "Epoch: [5][900/1709] Elapsed 6m 39s (remain 5m 58s) Loss: 0.4744(0.4980) Grad: 7599.0698  LR: 0.00000795  \n",
      "Epoch: [5][1000/1709] Elapsed 7m 23s (remain 5m 13s) Loss: 0.4961(0.4994) Grad: 46281.3438  LR: 0.00000773  \n",
      "Epoch: [5][1100/1709] Elapsed 8m 8s (remain 4m 29s) Loss: 0.5417(0.4991) Grad: 28504.8691  LR: 0.00000750  \n",
      "Epoch: [5][1200/1709] Elapsed 8m 52s (remain 3m 45s) Loss: 0.4771(0.4993) Grad: 15965.6436  LR: 0.00000728  \n",
      "Epoch: [5][1300/1709] Elapsed 9m 36s (remain 3m 0s) Loss: 0.5325(0.4990) Grad: 27657.7715  LR: 0.00000706  \n",
      "Epoch: [5][1400/1709] Elapsed 10m 21s (remain 2m 16s) Loss: 0.4623(0.4987) Grad: 15705.3936  LR: 0.00000684  \n",
      "Epoch: [5][1500/1709] Elapsed 11m 5s (remain 1m 32s) Loss: 0.5640(0.4989) Grad: 14688.8252  LR: 0.00000663  \n",
      "Epoch: [5][1600/1709] Elapsed 11m 49s (remain 0m 47s) Loss: 0.4859(0.4984) Grad: 11901.5117  LR: 0.00000641  \n",
      "Epoch: [5][1700/1709] Elapsed 12m 34s (remain 0m 3s) Loss: 0.6197(0.4988) Grad: 26529.9883  LR: 0.00000620  \n",
      "Epoch: [5][1708/1709] Elapsed 12m 37s (remain 0m 0s) Loss: 0.4170(0.4988) Grad: 169761.6250  LR: 0.00000618  \n"
     ]
    },
    {
     "name": "stderr",
     "output_type": "stream",
     "text": [
      "[W pthreadpool-cpp.cc:90] Warning: Leaking Caffe2 thread-pool after fork. (function pthreadpool)\n",
      "[W pthreadpool-cpp.cc:90] Warning: Leaking Caffe2 thread-pool after fork. (function pthreadpool)\n",
      "[W pthreadpool-cpp.cc:90] Warning: Leaking Caffe2 thread-pool after fork. (function pthreadpool)\n",
      "[W pthreadpool-cpp.cc:90] Warning: Leaking Caffe2 thread-pool after fork. (function pthreadpool)\n"
     ]
    },
    {
     "name": "stdout",
     "output_type": "stream",
     "text": [
      "EVAL: [0/570] Elapsed 0m 0s (remain 2m 55s) Loss: 0.5053(0.5053) \n",
      "EVAL: [100/570] Elapsed 0m 15s (remain 1m 11s) Loss: 0.5890(0.5573) \n",
      "EVAL: [200/570] Elapsed 0m 30s (remain 0m 55s) Loss: 0.3816(0.5609) \n",
      "EVAL: [300/570] Elapsed 0m 45s (remain 0m 40s) Loss: 0.6317(0.5650) \n",
      "EVAL: [400/570] Elapsed 1m 0s (remain 0m 25s) Loss: 0.5110(0.5672) \n",
      "EVAL: [500/570] Elapsed 1m 15s (remain 0m 10s) Loss: 0.4960(0.5639) \n"
     ]
    },
    {
     "name": "stderr",
     "output_type": "stream",
     "text": [
      "Epoch 5 - avg_train_loss: 0.4988  avg_val_loss: 0.5630  time: 844s\n",
      "Epoch 5 - Score: 0.8354\n",
      "Epoch 5 - Save Best Score: 0.8354 Model\n"
     ]
    },
    {
     "name": "stdout",
     "output_type": "stream",
     "text": [
      "EVAL: [569/570] Elapsed 1m 26s (remain 0m 0s) Loss: 0.4135(0.5630) \n"
     ]
    },
    {
     "name": "stderr",
     "output_type": "stream",
     "text": [
      "[W pthreadpool-cpp.cc:90] Warning: Leaking Caffe2 thread-pool after fork. (function pthreadpool)\n",
      "[W pthreadpool-cpp.cc:90] Warning: Leaking Caffe2 thread-pool after fork. (function pthreadpool)\n",
      "[W pthreadpool-cpp.cc:90] Warning: Leaking Caffe2 thread-pool after fork. (function pthreadpool)\n",
      "[W pthreadpool-cpp.cc:90] Warning: Leaking Caffe2 thread-pool after fork. (function pthreadpool)\n"
     ]
    },
    {
     "name": "stdout",
     "output_type": "stream",
     "text": [
      "Epoch: [6][0/1709] Elapsed 0m 0s (remain 22m 27s) Loss: 0.5044(0.5044) Grad: 105353.0469  LR: 0.00000618  \n",
      "Epoch: [6][100/1709] Elapsed 0m 45s (remain 11m 57s) Loss: 0.4785(0.5004) Grad: 425574.9688  LR: 0.00000597  \n",
      "Epoch: [6][200/1709] Elapsed 1m 29s (remain 11m 10s) Loss: 0.3990(0.4899) Grad: 66328.7109  LR: 0.00000576  \n",
      "Epoch: [6][300/1709] Elapsed 2m 13s (remain 10m 25s) Loss: 0.5333(0.4910) Grad: 164819.7500  LR: 0.00000555  \n",
      "Epoch: [6][400/1709] Elapsed 2m 58s (remain 9m 40s) Loss: 0.4557(0.4919) Grad: 31817.6934  LR: 0.00000535  \n",
      "Epoch: [6][500/1709] Elapsed 3m 42s (remain 8m 55s) Loss: 0.4377(0.4928) Grad: 81338.2578  LR: 0.00000514  \n",
      "Epoch: [6][600/1709] Elapsed 4m 26s (remain 8m 11s) Loss: 0.4931(0.4925) Grad: 14892.4434  LR: 0.00000494  \n",
      "Epoch: [6][700/1709] Elapsed 5m 10s (remain 7m 26s) Loss: 0.6228(0.4927) Grad: 8538.0811  LR: 0.00000475  \n",
      "Epoch: [6][800/1709] Elapsed 5m 55s (remain 6m 42s) Loss: 0.5703(0.4911) Grad: 12244.1670  LR: 0.00000455  \n",
      "Epoch: [6][900/1709] Elapsed 6m 39s (remain 5m 58s) Loss: 0.6313(0.4924) Grad: 19848.0957  LR: 0.00000436  \n",
      "Epoch: [6][1000/1709] Elapsed 7m 23s (remain 5m 13s) Loss: 0.5043(0.4934) Grad: 10361.9297  LR: 0.00000417  \n",
      "Epoch: [6][1100/1709] Elapsed 8m 8s (remain 4m 29s) Loss: 0.4815(0.4934) Grad: 40650.2305  LR: 0.00000399  \n",
      "Epoch: [6][1200/1709] Elapsed 8m 52s (remain 3m 45s) Loss: 0.4919(0.4922) Grad: 17428.3477  LR: 0.00000381  \n",
      "Epoch: [6][1300/1709] Elapsed 9m 36s (remain 3m 0s) Loss: 0.3777(0.4924) Grad: 10883.9570  LR: 0.00000363  \n",
      "Epoch: [6][1400/1709] Elapsed 10m 20s (remain 2m 16s) Loss: 0.5222(0.4923) Grad: 3468.8862  LR: 0.00000345  \n",
      "Epoch: [6][1500/1709] Elapsed 11m 5s (remain 1m 32s) Loss: 0.4409(0.4917) Grad: 11212.8418  LR: 0.00000328  \n",
      "Epoch: [6][1600/1709] Elapsed 11m 49s (remain 0m 47s) Loss: 0.5528(0.4922) Grad: 7376.0947  LR: 0.00000311  \n",
      "Epoch: [6][1700/1709] Elapsed 12m 33s (remain 0m 3s) Loss: 0.4470(0.4924) Grad: 12000.0088  LR: 0.00000295  \n",
      "Epoch: [6][1708/1709] Elapsed 12m 37s (remain 0m 0s) Loss: 0.3873(0.4922) Grad: 2438.6653  LR: 0.00000294  \n"
     ]
    },
    {
     "name": "stderr",
     "output_type": "stream",
     "text": [
      "[W pthreadpool-cpp.cc:90] Warning: Leaking Caffe2 thread-pool after fork. (function pthreadpool)\n",
      "[W pthreadpool-cpp.cc:90] Warning: Leaking Caffe2 thread-pool after fork. (function pthreadpool)\n",
      "[W pthreadpool-cpp.cc:90] Warning: Leaking Caffe2 thread-pool after fork. (function pthreadpool)\n",
      "[W pthreadpool-cpp.cc:90] Warning: Leaking Caffe2 thread-pool after fork. (function pthreadpool)\n"
     ]
    },
    {
     "name": "stdout",
     "output_type": "stream",
     "text": [
      "EVAL: [0/570] Elapsed 0m 0s (remain 2m 56s) Loss: 0.5062(0.5062) \n",
      "EVAL: [100/570] Elapsed 0m 15s (remain 1m 11s) Loss: 0.5883(0.5688) \n",
      "EVAL: [200/570] Elapsed 0m 30s (remain 0m 56s) Loss: 0.3742(0.5708) \n",
      "EVAL: [300/570] Elapsed 0m 45s (remain 0m 40s) Loss: 0.5934(0.5731) \n",
      "EVAL: [400/570] Elapsed 1m 0s (remain 0m 25s) Loss: 0.5300(0.5746) \n",
      "EVAL: [500/570] Elapsed 1m 15s (remain 0m 10s) Loss: 0.4828(0.5706) \n"
     ]
    },
    {
     "name": "stderr",
     "output_type": "stream",
     "text": [
      "[W pthreadpool-cpp.cc:90] Warning: Leaking Caffe2 thread-pool after fork. (function pthreadpool)\n",
      "Epoch 6 - avg_train_loss: 0.4922  avg_val_loss: 0.5710  time: 844s\n",
      "Epoch 6 - Score: 0.8367\n",
      "Epoch 6 - Save Best Score: 0.8367 Model\n"
     ]
    },
    {
     "name": "stdout",
     "output_type": "stream",
     "text": [
      "EVAL: [569/570] Elapsed 1m 26s (remain 0m 0s) Loss: 0.4298(0.5710) \n"
     ]
    },
    {
     "name": "stderr",
     "output_type": "stream",
     "text": [
      "[W pthreadpool-cpp.cc:90] Warning: Leaking Caffe2 thread-pool after fork. (function pthreadpool)\n",
      "[W pthreadpool-cpp.cc:90] Warning: Leaking Caffe2 thread-pool after fork. (function pthreadpool)\n",
      "[W pthreadpool-cpp.cc:90] Warning: Leaking Caffe2 thread-pool after fork. (function pthreadpool)\n",
      "[W pthreadpool-cpp.cc:90] Warning: Leaking Caffe2 thread-pool after fork. (function pthreadpool)\n"
     ]
    },
    {
     "name": "stdout",
     "output_type": "stream",
     "text": [
      "Epoch: [7][0/1709] Elapsed 0m 0s (remain 22m 41s) Loss: 0.4905(0.4905) Grad: 446348.5938  LR: 0.00000293  \n",
      "Epoch: [7][100/1709] Elapsed 0m 45s (remain 11m 57s) Loss: 0.5113(0.4817) Grad: 1255310.2500  LR: 0.00000277  \n",
      "Epoch: [7][200/1709] Elapsed 1m 29s (remain 11m 9s) Loss: 0.5078(0.4904) Grad: 43474.5508  LR: 0.00000262  \n",
      "Epoch: [7][300/1709] Elapsed 2m 13s (remain 10m 24s) Loss: 0.6001(0.4891) Grad: 31078.1484  LR: 0.00000246  \n",
      "Epoch: [7][400/1709] Elapsed 2m 57s (remain 9m 40s) Loss: 0.5330(0.4876) Grad: 1227054.6250  LR: 0.00000231  \n",
      "Epoch: [7][500/1709] Elapsed 3m 42s (remain 8m 55s) Loss: 0.3687(0.4843) Grad: 17453.4727  LR: 0.00000217  \n",
      "Epoch: [7][600/1709] Elapsed 4m 26s (remain 8m 11s) Loss: 0.4945(0.4849) Grad: 226341.7656  LR: 0.00000203  \n",
      "Epoch: [7][700/1709] Elapsed 5m 10s (remain 7m 26s) Loss: 0.4740(0.4850) Grad: 213115.5938  LR: 0.00000189  \n",
      "Epoch: [7][800/1709] Elapsed 5m 55s (remain 6m 42s) Loss: 0.4427(0.4858) Grad: 31522.2031  LR: 0.00000176  \n",
      "Epoch: [7][900/1709] Elapsed 6m 39s (remain 5m 58s) Loss: 0.4369(0.4848) Grad: 84326.9766  LR: 0.00000163  \n",
      "Epoch: [7][1000/1709] Elapsed 7m 23s (remain 5m 13s) Loss: 0.4426(0.4873) Grad: 26804.6152  LR: 0.00000151  \n",
      "Epoch: [7][1100/1709] Elapsed 8m 8s (remain 4m 29s) Loss: 0.4938(0.4876) Grad: 20278.5723  LR: 0.00000139  \n",
      "Epoch: [7][1200/1709] Elapsed 8m 52s (remain 3m 45s) Loss: 0.6010(0.4871) Grad: 17233.3027  LR: 0.00000127  \n",
      "Epoch: [7][1300/1709] Elapsed 9m 36s (remain 3m 0s) Loss: 0.6126(0.4876) Grad: 14599.0352  LR: 0.00000116  \n",
      "Epoch: [7][1400/1709] Elapsed 10m 20s (remain 2m 16s) Loss: 0.4125(0.4871) Grad: 15752.1494  LR: 0.00000106  \n",
      "Epoch: [7][1500/1709] Elapsed 11m 5s (remain 1m 32s) Loss: 0.5498(0.4874) Grad: 14285.6182  LR: 0.00000096  \n",
      "Epoch: [7][1600/1709] Elapsed 11m 49s (remain 0m 47s) Loss: 0.4698(0.4879) Grad: 13698.0264  LR: 0.00000086  \n",
      "Epoch: [7][1700/1709] Elapsed 12m 34s (remain 0m 3s) Loss: 0.3890(0.4880) Grad: 8421.2705  LR: 0.00000077  \n"
     ]
    },
    {
     "name": "stderr",
     "output_type": "stream",
     "text": [
      "[W pthreadpool-cpp.cc:90] Warning: Leaking Caffe2 thread-pool after fork. (function pthreadpool)\n"
     ]
    },
    {
     "name": "stdout",
     "output_type": "stream",
     "text": [
      "Epoch: [7][1708/1709] Elapsed 12m 37s (remain 0m 0s) Loss: 0.4627(0.4880) Grad: 18759.5176  LR: 0.00000077  \n"
     ]
    },
    {
     "name": "stderr",
     "output_type": "stream",
     "text": [
      "[W pthreadpool-cpp.cc:90] Warning: Leaking Caffe2 thread-pool after fork. (function pthreadpool)\n",
      "[W pthreadpool-cpp.cc:90] Warning: Leaking Caffe2 thread-pool after fork. (function pthreadpool)\n",
      "[W pthreadpool-cpp.cc:90] Warning: Leaking Caffe2 thread-pool after fork. (function pthreadpool)\n",
      "[W pthreadpool-cpp.cc:90] Warning: Leaking Caffe2 thread-pool after fork. (function pthreadpool)\n"
     ]
    },
    {
     "name": "stdout",
     "output_type": "stream",
     "text": [
      "EVAL: [0/570] Elapsed 0m 0s (remain 2m 58s) Loss: 0.4961(0.4961) \n",
      "EVAL: [100/570] Elapsed 0m 15s (remain 1m 11s) Loss: 0.5863(0.5643) \n",
      "EVAL: [200/570] Elapsed 0m 30s (remain 0m 56s) Loss: 0.3754(0.5694) \n",
      "EVAL: [300/570] Elapsed 0m 45s (remain 0m 40s) Loss: 0.5972(0.5715) \n",
      "EVAL: [400/570] Elapsed 1m 0s (remain 0m 25s) Loss: 0.5237(0.5733) \n",
      "EVAL: [500/570] Elapsed 1m 15s (remain 0m 10s) Loss: 0.4779(0.5693) \n"
     ]
    },
    {
     "name": "stderr",
     "output_type": "stream",
     "text": [
      "Epoch 7 - avg_train_loss: 0.4880  avg_val_loss: 0.5693  time: 845s\n",
      "Epoch 7 - Score: 0.8389\n",
      "Epoch 7 - Save Best Score: 0.8389 Model\n"
     ]
    },
    {
     "name": "stdout",
     "output_type": "stream",
     "text": [
      "EVAL: [569/570] Elapsed 1m 26s (remain 0m 0s) Loss: 0.4137(0.5693) \n"
     ]
    },
    {
     "name": "stderr",
     "output_type": "stream",
     "text": [
      "[W pthreadpool-cpp.cc:90] Warning: Leaking Caffe2 thread-pool after fork. (function pthreadpool)\n",
      "[W pthreadpool-cpp.cc:90] Warning: Leaking Caffe2 thread-pool after fork. (function pthreadpool)\n",
      "[W pthreadpool-cpp.cc:90] Warning: Leaking Caffe2 thread-pool after fork. (function pthreadpool)\n",
      "[W pthreadpool-cpp.cc:90] Warning: Leaking Caffe2 thread-pool after fork. (function pthreadpool)\n"
     ]
    },
    {
     "name": "stdout",
     "output_type": "stream",
     "text": [
      "Epoch: [8][0/1709] Elapsed 0m 0s (remain 22m 23s) Loss: 0.2948(0.2948) Grad: 200612.2656  LR: 0.00000076  \n",
      "Epoch: [8][100/1709] Elapsed 0m 45s (remain 11m 58s) Loss: 0.4663(0.4763) Grad: 35491.7930  LR: 0.00000068  \n",
      "Epoch: [8][200/1709] Elapsed 1m 29s (remain 11m 11s) Loss: 0.3869(0.4790) Grad: 67223.7500  LR: 0.00000060  \n",
      "Epoch: [8][300/1709] Elapsed 2m 13s (remain 10m 26s) Loss: 0.5316(0.4803) Grad: 20293.9590  LR: 0.00000052  \n",
      "Epoch: [8][400/1709] Elapsed 2m 58s (remain 9m 41s) Loss: 0.5362(0.4822) Grad: 28690.4648  LR: 0.00000045  \n",
      "Epoch: [8][500/1709] Elapsed 3m 42s (remain 8m 56s) Loss: 0.5512(0.4814) Grad: 14410.6738  LR: 0.00000039  \n",
      "Epoch: [8][600/1709] Elapsed 4m 27s (remain 8m 12s) Loss: 0.3547(0.4837) Grad: 55772.3906  LR: 0.00000033  \n",
      "Epoch: [8][700/1709] Elapsed 5m 11s (remain 7m 27s) Loss: 0.4866(0.4855) Grad: 10772.3643  LR: 0.00000027  \n",
      "Epoch: [8][800/1709] Elapsed 5m 55s (remain 6m 43s) Loss: 0.4849(0.4868) Grad: 9445.6455  LR: 0.00000022  \n",
      "Epoch: [8][900/1709] Elapsed 6m 40s (remain 5m 58s) Loss: 0.5846(0.4868) Grad: 4523.8535  LR: 0.00000017  \n",
      "Epoch: [8][1000/1709] Elapsed 7m 24s (remain 5m 14s) Loss: 0.4040(0.4861) Grad: 43397.4961  LR: 0.00000013  \n",
      "Epoch: [8][1100/1709] Elapsed 8m 8s (remain 4m 30s) Loss: 0.3947(0.4860) Grad: 6547.7900  LR: 0.00000010  \n",
      "Epoch: [8][1200/1709] Elapsed 8m 53s (remain 3m 45s) Loss: 0.5038(0.4860) Grad: 18327.1602  LR: 0.00000007  \n",
      "Epoch: [8][1300/1709] Elapsed 9m 37s (remain 3m 1s) Loss: 0.5694(0.4868) Grad: 6259.1372  LR: 0.00000004  \n",
      "Epoch: [8][1400/1709] Elapsed 10m 21s (remain 2m 16s) Loss: 0.5419(0.4865) Grad: 2201.9272  LR: 0.00000003  \n",
      "Epoch: [8][1500/1709] Elapsed 11m 6s (remain 1m 32s) Loss: 0.4726(0.4865) Grad: 6953.3921  LR: 0.00000001  \n",
      "Epoch: [8][1600/1709] Elapsed 11m 50s (remain 0m 47s) Loss: 0.5681(0.4868) Grad: 9884.5625  LR: 0.00000000  \n",
      "Epoch: [8][1700/1709] Elapsed 12m 34s (remain 0m 3s) Loss: 0.5576(0.4867) Grad: 16968.4121  LR: 0.00000000  \n",
      "Epoch: [8][1708/1709] Elapsed 12m 38s (remain 0m 0s) Loss: 0.4524(0.4865) Grad: 11606.2324  LR: 0.00000000  \n"
     ]
    },
    {
     "name": "stderr",
     "output_type": "stream",
     "text": [
      "[W pthreadpool-cpp.cc:90] Warning: Leaking Caffe2 thread-pool after fork. (function pthreadpool)\n",
      "[W pthreadpool-cpp.cc:90] Warning: Leaking Caffe2 thread-pool after fork. (function pthreadpool)\n",
      "[W pthreadpool-cpp.cc:90] Warning: Leaking Caffe2 thread-pool after fork. (function pthreadpool)\n",
      "[W pthreadpool-cpp.cc:90] Warning: Leaking Caffe2 thread-pool after fork. (function pthreadpool)\n"
     ]
    },
    {
     "name": "stdout",
     "output_type": "stream",
     "text": [
      "EVAL: [0/570] Elapsed 0m 0s (remain 2m 55s) Loss: 0.4936(0.4936) \n",
      "EVAL: [100/570] Elapsed 0m 15s (remain 1m 11s) Loss: 0.5886(0.5709) \n",
      "EVAL: [200/570] Elapsed 0m 30s (remain 0m 56s) Loss: 0.3739(0.5749) \n",
      "EVAL: [300/570] Elapsed 0m 45s (remain 0m 40s) Loss: 0.5946(0.5773) \n",
      "EVAL: [400/570] Elapsed 1m 0s (remain 0m 25s) Loss: 0.5242(0.5793) \n",
      "EVAL: [500/570] Elapsed 1m 15s (remain 0m 10s) Loss: 0.4809(0.5751) \n"
     ]
    },
    {
     "name": "stderr",
     "output_type": "stream",
     "text": [
      "Epoch 8 - avg_train_loss: 0.4865  avg_val_loss: 0.5752  time: 845s\n",
      "Epoch 8 - Score: 0.8374\n"
     ]
    },
    {
     "name": "stdout",
     "output_type": "stream",
     "text": [
      "EVAL: [569/570] Elapsed 1m 26s (remain 0m 0s) Loss: 0.4277(0.5752) \n"
     ]
    },
    {
     "name": "stderr",
     "output_type": "stream",
     "text": [
      "========== fold: 1 result ==========\n",
      "Score: 0.8389\n",
      "========== fold: 2 training ==========\n"
     ]
    },
    {
     "name": "stdout",
     "output_type": "stream",
     "text": [
      "\u001b[38;5;40m========== fold: 2 training ==========\u001b[0m\n"
     ]
    },
    {
     "name": "stderr",
     "output_type": "stream",
     "text": [
      "Some weights of the model checkpoint at bert-large-uncased-whole-word-masking-finetuned-squad were not used when initializing BertModel: ['qa_outputs.bias', 'qa_outputs.weight']\n",
      "- This IS expected if you are initializing BertModel from the checkpoint of a model trained on another task or with another architecture (e.g. initializing a BertForSequenceClassification model from a BertForPreTraining model).\n",
      "- This IS NOT expected if you are initializing BertModel from the checkpoint of a model that you expect to be exactly identical (initializing a BertForSequenceClassification model from a BertForSequenceClassification model).\n",
      "[W pthreadpool-cpp.cc:90] Warning: Leaking Caffe2 thread-pool after fork. (function pthreadpool)\n",
      "[W pthreadpool-cpp.cc:90] Warning: Leaking Caffe2 thread-pool after fork. (function pthreadpool)\n",
      "[W pthreadpool-cpp.cc:90] Warning: Leaking Caffe2 thread-pool after fork. (function pthreadpool)\n",
      "[W pthreadpool-cpp.cc:90] Warning: Leaking Caffe2 thread-pool after fork. (function pthreadpool)\n"
     ]
    },
    {
     "name": "stdout",
     "output_type": "stream",
     "text": [
      "Epoch: [1][0/1709] Elapsed 0m 0s (remain 15m 10s) Loss: 0.7356(0.7356) Grad: 620455.6250  LR: 0.00002000  \n",
      "Epoch: [1][100/1709] Elapsed 0m 44s (remain 11m 51s) Loss: 0.6330(0.6500) Grad: 116834.9141  LR: 0.00002000  \n",
      "Epoch: [1][200/1709] Elapsed 1m 28s (remain 11m 6s) Loss: 0.6116(0.6370) Grad: 46122.1055  LR: 0.00001999  \n",
      "Epoch: [1][300/1709] Elapsed 2m 13s (remain 10m 22s) Loss: 0.6155(0.6246) Grad: 41583.1094  LR: 0.00001998  \n",
      "Epoch: [1][400/1709] Elapsed 2m 57s (remain 9m 38s) Loss: 0.5625(0.6138) Grad: 86044.2656  LR: 0.00001996  \n",
      "Epoch: [1][500/1709] Elapsed 3m 41s (remain 8m 54s) Loss: 0.6181(0.6091) Grad: 184767.6875  LR: 0.00001993  \n",
      "Epoch: [1][600/1709] Elapsed 4m 26s (remain 8m 10s) Loss: 0.6373(0.6030) Grad: 158212.2969  LR: 0.00001990  \n",
      "Epoch: [1][700/1709] Elapsed 5m 10s (remain 7m 26s) Loss: 0.5107(0.5985) Grad: 26209.7207  LR: 0.00001987  \n",
      "Epoch: [1][800/1709] Elapsed 5m 54s (remain 6m 42s) Loss: 0.5041(0.5947) Grad: 50610.9531  LR: 0.00001983  \n",
      "Epoch: [1][900/1709] Elapsed 6m 39s (remain 5m 57s) Loss: 0.6952(0.5919) Grad: 157365.8906  LR: 0.00001979  \n",
      "Epoch: [1][1000/1709] Elapsed 7m 23s (remain 5m 13s) Loss: 0.6259(0.5901) Grad: 60634.9297  LR: 0.00001974  \n",
      "Epoch: [1][1100/1709] Elapsed 8m 7s (remain 4m 29s) Loss: 0.5967(0.5879) Grad: 27906.8711  LR: 0.00001968  \n",
      "Epoch: [1][1200/1709] Elapsed 8m 52s (remain 3m 45s) Loss: 0.6014(0.5862) Grad: 113176.2656  LR: 0.00001962  \n",
      "Epoch: [1][1300/1709] Elapsed 9m 36s (remain 3m 0s) Loss: 0.4557(0.5841) Grad: 34744.9219  LR: 0.00001956  \n",
      "Epoch: [1][1400/1709] Elapsed 10m 21s (remain 2m 16s) Loss: 0.5523(0.5835) Grad: 28130.5684  LR: 0.00001949  \n",
      "Epoch: [1][1500/1709] Elapsed 11m 5s (remain 1m 32s) Loss: 0.6201(0.5826) Grad: 76270.9297  LR: 0.00001941  \n",
      "Epoch: [1][1600/1709] Elapsed 11m 50s (remain 0m 47s) Loss: 0.5471(0.5816) Grad: 69990.7812  LR: 0.00001933  \n",
      "Epoch: [1][1700/1709] Elapsed 12m 34s (remain 0m 3s) Loss: 0.6040(0.5799) Grad: 23449.5820  LR: 0.00001925  \n"
     ]
    },
    {
     "name": "stderr",
     "output_type": "stream",
     "text": [
      "[W pthreadpool-cpp.cc:90] Warning: Leaking Caffe2 thread-pool after fork. (function pthreadpool)\n"
     ]
    },
    {
     "name": "stdout",
     "output_type": "stream",
     "text": [
      "Epoch: [1][1708/1709] Elapsed 12m 38s (remain 0m 0s) Loss: 0.6863(0.5798) Grad: 42510.5469  LR: 0.00001924  \n"
     ]
    },
    {
     "name": "stderr",
     "output_type": "stream",
     "text": [
      "[W pthreadpool-cpp.cc:90] Warning: Leaking Caffe2 thread-pool after fork. (function pthreadpool)\n",
      "[W pthreadpool-cpp.cc:90] Warning: Leaking Caffe2 thread-pool after fork. (function pthreadpool)\n",
      "[W pthreadpool-cpp.cc:90] Warning: Leaking Caffe2 thread-pool after fork. (function pthreadpool)\n",
      "[W pthreadpool-cpp.cc:90] Warning: Leaking Caffe2 thread-pool after fork. (function pthreadpool)\n"
     ]
    },
    {
     "name": "stdout",
     "output_type": "stream",
     "text": [
      "EVAL: [0/570] Elapsed 0m 0s (remain 3m 2s) Loss: 0.5983(0.5983) \n",
      "EVAL: [100/570] Elapsed 0m 15s (remain 1m 11s) Loss: 0.5799(0.5457) \n",
      "EVAL: [200/570] Elapsed 0m 30s (remain 0m 56s) Loss: 0.5733(0.5574) \n",
      "EVAL: [300/570] Elapsed 0m 45s (remain 0m 40s) Loss: 0.4213(0.5535) \n",
      "EVAL: [400/570] Elapsed 1m 0s (remain 0m 25s) Loss: 0.4630(0.5541) \n",
      "EVAL: [500/570] Elapsed 1m 15s (remain 0m 10s) Loss: 0.4371(0.5530) \n"
     ]
    },
    {
     "name": "stderr",
     "output_type": "stream",
     "text": [
      "Epoch 1 - avg_train_loss: 0.5798  avg_val_loss: 0.5517  time: 845s\n",
      "Epoch 1 - Score: 0.7982\n",
      "Epoch 1 - Save Best Score: 0.7982 Model\n"
     ]
    },
    {
     "name": "stdout",
     "output_type": "stream",
     "text": [
      "EVAL: [569/570] Elapsed 1m 26s (remain 0m 0s) Loss: 0.5059(0.5517) \n"
     ]
    },
    {
     "name": "stderr",
     "output_type": "stream",
     "text": [
      "[W pthreadpool-cpp.cc:90] Warning: Leaking Caffe2 thread-pool after fork. (function pthreadpool)\n",
      "[W pthreadpool-cpp.cc:90] Warning: Leaking Caffe2 thread-pool after fork. (function pthreadpool)\n",
      "[W pthreadpool-cpp.cc:90] Warning: Leaking Caffe2 thread-pool after fork. (function pthreadpool)\n",
      "[W pthreadpool-cpp.cc:90] Warning: Leaking Caffe2 thread-pool after fork. (function pthreadpool)\n"
     ]
    },
    {
     "name": "stdout",
     "output_type": "stream",
     "text": [
      "Epoch: [2][0/1709] Elapsed 0m 0s (remain 22m 33s) Loss: 0.4834(0.4834) Grad: 109581.7109  LR: 0.00001924  \n",
      "Epoch: [2][100/1709] Elapsed 0m 45s (remain 11m 56s) Loss: 0.5035(0.5435) Grad: 67558.0781  LR: 0.00001915  \n",
      "Epoch: [2][200/1709] Elapsed 1m 29s (remain 11m 10s) Loss: 0.5933(0.5432) Grad: 77435.6953  LR: 0.00001905  \n",
      "Epoch: [2][300/1709] Elapsed 2m 13s (remain 10m 25s) Loss: 0.6828(0.5379) Grad: 72093.9219  LR: 0.00001895  \n",
      "Epoch: [2][400/1709] Elapsed 2m 58s (remain 9m 41s) Loss: 0.5172(0.5346) Grad: 96598.0859  LR: 0.00001885  \n",
      "Epoch: [2][500/1709] Elapsed 3m 42s (remain 8m 56s) Loss: 0.5849(0.5370) Grad: 56861.8203  LR: 0.00001874  \n",
      "Epoch: [2][600/1709] Elapsed 4m 27s (remain 8m 12s) Loss: 0.5272(0.5348) Grad: 71109.7500  LR: 0.00001863  \n",
      "Epoch: [2][700/1709] Elapsed 5m 11s (remain 7m 28s) Loss: 0.4656(0.5351) Grad: 80478.9531  LR: 0.00001851  \n",
      "Epoch: [2][800/1709] Elapsed 5m 56s (remain 6m 43s) Loss: 0.6010(0.5349) Grad: 58332.5820  LR: 0.00001838  \n",
      "Epoch: [2][900/1709] Elapsed 6m 41s (remain 5m 59s) Loss: 0.5286(0.5345) Grad: 43677.7148  LR: 0.00001826  \n",
      "Epoch: [2][1000/1709] Elapsed 7m 25s (remain 5m 15s) Loss: 0.6229(0.5336) Grad: 82974.1250  LR: 0.00001812  \n",
      "Epoch: [2][1100/1709] Elapsed 8m 9s (remain 4m 30s) Loss: 0.6165(0.5339) Grad: 91639.8750  LR: 0.00001799  \n",
      "Epoch: [2][1200/1709] Elapsed 8m 54s (remain 3m 45s) Loss: 0.4438(0.5340) Grad: 56639.9492  LR: 0.00001785  \n",
      "Epoch: [2][1300/1709] Elapsed 9m 38s (remain 3m 1s) Loss: 0.6463(0.5342) Grad: 56837.0039  LR: 0.00001770  \n",
      "Epoch: [2][1400/1709] Elapsed 10m 22s (remain 2m 16s) Loss: 0.5736(0.5342) Grad: 25159.0566  LR: 0.00001756  \n",
      "Epoch: [2][1500/1709] Elapsed 11m 7s (remain 1m 32s) Loss: 0.5822(0.5343) Grad: 87794.4688  LR: 0.00001740  \n",
      "Epoch: [2][1600/1709] Elapsed 11m 51s (remain 0m 48s) Loss: 0.5660(0.5333) Grad: 175355.3594  LR: 0.00001725  \n",
      "Epoch: [2][1700/1709] Elapsed 12m 36s (remain 0m 3s) Loss: 0.5041(0.5326) Grad: 67606.8203  LR: 0.00001709  \n",
      "Epoch: [2][1708/1709] Elapsed 12m 39s (remain 0m 0s) Loss: 0.5213(0.5326) Grad: 40631.0977  LR: 0.00001707  \n"
     ]
    },
    {
     "name": "stderr",
     "output_type": "stream",
     "text": [
      "[W pthreadpool-cpp.cc:90] Warning: Leaking Caffe2 thread-pool after fork. (function pthreadpool)\n",
      "[W pthreadpool-cpp.cc:90] Warning: Leaking Caffe2 thread-pool after fork. (function pthreadpool)\n",
      "[W pthreadpool-cpp.cc:90] Warning: Leaking Caffe2 thread-pool after fork. (function pthreadpool)\n",
      "[W pthreadpool-cpp.cc:90] Warning: Leaking Caffe2 thread-pool after fork. (function pthreadpool)\n"
     ]
    },
    {
     "name": "stdout",
     "output_type": "stream",
     "text": [
      "EVAL: [0/570] Elapsed 0m 0s (remain 3m 6s) Loss: 0.5939(0.5939) \n",
      "EVAL: [100/570] Elapsed 0m 15s (remain 1m 11s) Loss: 0.5773(0.5338) \n",
      "EVAL: [200/570] Elapsed 0m 30s (remain 0m 56s) Loss: 0.5579(0.5477) \n",
      "EVAL: [300/570] Elapsed 0m 45s (remain 0m 40s) Loss: 0.4118(0.5453) \n",
      "EVAL: [400/570] Elapsed 1m 0s (remain 0m 25s) Loss: 0.4487(0.5450) \n",
      "EVAL: [500/570] Elapsed 1m 15s (remain 0m 10s) Loss: 0.4352(0.5446) \n"
     ]
    },
    {
     "name": "stderr",
     "output_type": "stream",
     "text": [
      "Epoch 2 - avg_train_loss: 0.5326  avg_val_loss: 0.5440  time: 846s\n",
      "Epoch 2 - Score: 0.8266\n",
      "Epoch 2 - Save Best Score: 0.8266 Model\n"
     ]
    },
    {
     "name": "stdout",
     "output_type": "stream",
     "text": [
      "EVAL: [569/570] Elapsed 1m 26s (remain 0m 0s) Loss: 0.4805(0.5440) \n"
     ]
    },
    {
     "name": "stderr",
     "output_type": "stream",
     "text": [
      "[W pthreadpool-cpp.cc:90] Warning: Leaking Caffe2 thread-pool after fork. (function pthreadpool)\n",
      "[W pthreadpool-cpp.cc:90] Warning: Leaking Caffe2 thread-pool after fork. (function pthreadpool)\n",
      "[W pthreadpool-cpp.cc:90] Warning: Leaking Caffe2 thread-pool after fork. (function pthreadpool)\n",
      "[W pthreadpool-cpp.cc:90] Warning: Leaking Caffe2 thread-pool after fork. (function pthreadpool)\n"
     ]
    },
    {
     "name": "stdout",
     "output_type": "stream",
     "text": [
      "Epoch: [3][0/1709] Elapsed 0m 0s (remain 20m 51s) Loss: 0.4113(0.4113) Grad: 217378.3125  LR: 0.00001707  \n",
      "Epoch: [3][100/1709] Elapsed 0m 45s (remain 11m 57s) Loss: 0.4738(0.5091) Grad: 58143.5820  LR: 0.00001691  \n",
      "Epoch: [3][200/1709] Elapsed 1m 29s (remain 11m 11s) Loss: 0.6213(0.5142) Grad: 85580.5234  LR: 0.00001674  \n",
      "Epoch: [3][300/1709] Elapsed 2m 13s (remain 10m 26s) Loss: 0.4194(0.5147) Grad: 70454.3047  LR: 0.00001657  \n",
      "Epoch: [3][400/1709] Elapsed 2m 58s (remain 9m 41s) Loss: 0.3711(0.5127) Grad: 75345.1250  LR: 0.00001639  \n",
      "Epoch: [3][500/1709] Elapsed 3m 42s (remain 8m 56s) Loss: 0.5148(0.5142) Grad: 33249.6289  LR: 0.00001621  \n",
      "Epoch: [3][600/1709] Elapsed 4m 26s (remain 8m 12s) Loss: 0.4577(0.5129) Grad: 268620.9688  LR: 0.00001603  \n",
      "Epoch: [3][700/1709] Elapsed 5m 11s (remain 7m 27s) Loss: 0.5310(0.5118) Grad: 38341.5273  LR: 0.00001585  \n",
      "Epoch: [3][800/1709] Elapsed 5m 55s (remain 6m 43s) Loss: 0.3858(0.5116) Grad: 34394.7891  LR: 0.00001566  \n",
      "Epoch: [3][900/1709] Elapsed 6m 40s (remain 5m 58s) Loss: 0.5463(0.5121) Grad: 31371.8340  LR: 0.00001547  \n",
      "Epoch: [3][1000/1709] Elapsed 7m 24s (remain 5m 14s) Loss: 0.5301(0.5126) Grad: 96000.1484  LR: 0.00001528  \n",
      "Epoch: [3][1100/1709] Elapsed 8m 8s (remain 4m 30s) Loss: 0.5363(0.5131) Grad: 40960.6016  LR: 0.00001508  \n",
      "Epoch: [3][1200/1709] Elapsed 8m 53s (remain 3m 45s) Loss: 0.4831(0.5129) Grad: 34469.9453  LR: 0.00001488  \n",
      "Epoch: [3][1300/1709] Elapsed 9m 37s (remain 3m 1s) Loss: 0.5531(0.5143) Grad: 33778.6172  LR: 0.00001468  \n",
      "Epoch: [3][1400/1709] Elapsed 10m 22s (remain 2m 16s) Loss: 0.3506(0.5149) Grad: 53819.8438  LR: 0.00001447  \n",
      "Epoch: [3][1500/1709] Elapsed 11m 6s (remain 1m 32s) Loss: 0.6538(0.5152) Grad: 59059.3828  LR: 0.00001427  \n",
      "Epoch: [3][1600/1709] Elapsed 11m 50s (remain 0m 47s) Loss: 0.6878(0.5154) Grad: 432014.9688  LR: 0.00001406  \n",
      "Epoch: [3][1700/1709] Elapsed 12m 35s (remain 0m 3s) Loss: 0.5019(0.5152) Grad: 53589.0703  LR: 0.00001385  \n"
     ]
    },
    {
     "name": "stderr",
     "output_type": "stream",
     "text": [
      "[W pthreadpool-cpp.cc:90] Warning: Leaking Caffe2 thread-pool after fork. (function pthreadpool)\n",
      "[W pthreadpool-cpp.cc:90] Warning: Leaking Caffe2 thread-pool after fork. (function pthreadpool)\n"
     ]
    },
    {
     "name": "stdout",
     "output_type": "stream",
     "text": [
      "Epoch: [3][1708/1709] Elapsed 12m 38s (remain 0m 0s) Loss: 0.5185(0.5152) Grad: 24836.2891  LR: 0.00001383  \n"
     ]
    },
    {
     "name": "stderr",
     "output_type": "stream",
     "text": [
      "[W pthreadpool-cpp.cc:90] Warning: Leaking Caffe2 thread-pool after fork. (function pthreadpool)\n",
      "[W pthreadpool-cpp.cc:90] Warning: Leaking Caffe2 thread-pool after fork. (function pthreadpool)\n",
      "[W pthreadpool-cpp.cc:90] Warning: Leaking Caffe2 thread-pool after fork. (function pthreadpool)\n",
      "[W pthreadpool-cpp.cc:90] Warning: Leaking Caffe2 thread-pool after fork. (function pthreadpool)\n"
     ]
    },
    {
     "name": "stdout",
     "output_type": "stream",
     "text": [
      "EVAL: [0/570] Elapsed 0m 0s (remain 3m 4s) Loss: 0.5873(0.5873) \n",
      "EVAL: [100/570] Elapsed 0m 15s (remain 1m 11s) Loss: 0.6033(0.5376) \n",
      "EVAL: [200/570] Elapsed 0m 30s (remain 0m 56s) Loss: 0.5512(0.5509) \n",
      "EVAL: [300/570] Elapsed 0m 45s (remain 0m 40s) Loss: 0.4171(0.5480) \n",
      "EVAL: [400/570] Elapsed 1m 0s (remain 0m 25s) Loss: 0.4368(0.5481) \n",
      "EVAL: [500/570] Elapsed 1m 15s (remain 0m 10s) Loss: 0.4280(0.5482) \n"
     ]
    },
    {
     "name": "stderr",
     "output_type": "stream",
     "text": [
      "[W pthreadpool-cpp.cc:90] Warning: Leaking Caffe2 thread-pool after fork. (function pthreadpool)\n",
      "Epoch 3 - avg_train_loss: 0.5152  avg_val_loss: 0.5469  time: 846s\n"
     ]
    },
    {
     "name": "stdout",
     "output_type": "stream",
     "text": [
      "EVAL: [569/570] Elapsed 1m 26s (remain 0m 0s) Loss: 0.4743(0.5469) \n"
     ]
    },
    {
     "name": "stderr",
     "output_type": "stream",
     "text": [
      "Epoch 3 - Score: 0.8320\n",
      "Epoch 3 - Save Best Score: 0.8320 Model\n",
      "[W pthreadpool-cpp.cc:90] Warning: Leaking Caffe2 thread-pool after fork. (function pthreadpool)\n",
      "[W pthreadpool-cpp.cc:90] Warning: Leaking Caffe2 thread-pool after fork. (function pthreadpool)\n",
      "[W pthreadpool-cpp.cc:90] Warning: Leaking Caffe2 thread-pool after fork. (function pthreadpool)\n",
      "[W pthreadpool-cpp.cc:90] Warning: Leaking Caffe2 thread-pool after fork. (function pthreadpool)\n"
     ]
    },
    {
     "name": "stdout",
     "output_type": "stream",
     "text": [
      "Epoch: [4][0/1709] Elapsed 0m 0s (remain 23m 51s) Loss: 0.5554(0.5554) Grad: 334429.0312  LR: 0.00001383  \n",
      "Epoch: [4][100/1709] Elapsed 0m 45s (remain 11m 58s) Loss: 0.4350(0.5068) Grad: 105026.6250  LR: 0.00001362  \n",
      "Epoch: [4][200/1709] Elapsed 1m 29s (remain 11m 11s) Loss: 0.5296(0.5028) Grad: 207362.4062  LR: 0.00001340  \n",
      "Epoch: [4][300/1709] Elapsed 2m 13s (remain 10m 26s) Loss: 0.4087(0.5030) Grad: 203683.0938  LR: 0.00001318  \n",
      "Epoch: [4][400/1709] Elapsed 2m 58s (remain 9m 41s) Loss: 0.4879(0.5029) Grad: 60300.6602  LR: 0.00001296  \n",
      "Epoch: [4][500/1709] Elapsed 3m 42s (remain 8m 57s) Loss: 0.5355(0.5028) Grad: 53741.3984  LR: 0.00001274  \n",
      "Epoch: [4][600/1709] Elapsed 4m 27s (remain 8m 12s) Loss: 0.4784(0.5041) Grad: 79421.0391  LR: 0.00001252  \n",
      "Epoch: [4][700/1709] Elapsed 5m 11s (remain 7m 27s) Loss: 0.5191(0.5037) Grad: 42197.2227  LR: 0.00001230  \n",
      "Epoch: [4][800/1709] Elapsed 5m 55s (remain 6m 43s) Loss: 0.5405(0.5057) Grad: 17023.8809  LR: 0.00001208  \n",
      "Epoch: [4][900/1709] Elapsed 6m 40s (remain 5m 58s) Loss: 0.5122(0.5045) Grad: 155254.0625  LR: 0.00001185  \n",
      "Epoch: [4][1000/1709] Elapsed 7m 24s (remain 5m 14s) Loss: 0.4345(0.5038) Grad: 27896.8418  LR: 0.00001162  \n",
      "Epoch: [4][1100/1709] Elapsed 8m 8s (remain 4m 30s) Loss: 0.5557(0.5043) Grad: 53100.3203  LR: 0.00001140  \n",
      "Epoch: [4][1200/1709] Elapsed 8m 53s (remain 3m 45s) Loss: 0.5418(0.5034) Grad: 30272.2852  LR: 0.00001117  \n",
      "Epoch: [4][1300/1709] Elapsed 9m 37s (remain 3m 1s) Loss: 0.3913(0.5032) Grad: 108806.7891  LR: 0.00001094  \n",
      "Epoch: [4][1400/1709] Elapsed 10m 22s (remain 2m 16s) Loss: 0.6181(0.5034) Grad: 35858.6641  LR: 0.00001071  \n",
      "Epoch: [4][1500/1709] Elapsed 11m 6s (remain 1m 32s) Loss: 0.4883(0.5029) Grad: 24342.7422  LR: 0.00001048  \n",
      "Epoch: [4][1600/1709] Elapsed 11m 50s (remain 0m 47s) Loss: 0.5738(0.5036) Grad: 426586.1562  LR: 0.00001025  \n",
      "Epoch: [4][1700/1709] Elapsed 12m 35s (remain 0m 3s) Loss: 0.5365(0.5037) Grad: 104386.6016  LR: 0.00001002  \n",
      "Epoch: [4][1708/1709] Elapsed 12m 38s (remain 0m 0s) Loss: 0.5264(0.5038) Grad: 53397.0273  LR: 0.00001001  \n"
     ]
    },
    {
     "name": "stderr",
     "output_type": "stream",
     "text": [
      "[W pthreadpool-cpp.cc:90] Warning: Leaking Caffe2 thread-pool after fork. (function pthreadpool)\n",
      "[W pthreadpool-cpp.cc:90] Warning: Leaking Caffe2 thread-pool after fork. (function pthreadpool)\n",
      "[W pthreadpool-cpp.cc:90] Warning: Leaking Caffe2 thread-pool after fork. (function pthreadpool)\n",
      "[W pthreadpool-cpp.cc:90] Warning: Leaking Caffe2 thread-pool after fork. (function pthreadpool)\n"
     ]
    },
    {
     "name": "stdout",
     "output_type": "stream",
     "text": [
      "EVAL: [0/570] Elapsed 0m 0s (remain 3m 5s) Loss: 0.5640(0.5640) \n",
      "EVAL: [100/570] Elapsed 0m 15s (remain 1m 11s) Loss: 0.5990(0.5472) \n",
      "EVAL: [200/570] Elapsed 0m 30s (remain 0m 56s) Loss: 0.5504(0.5595) \n",
      "EVAL: [300/570] Elapsed 0m 45s (remain 0m 40s) Loss: 0.4204(0.5535) \n",
      "EVAL: [400/570] Elapsed 1m 0s (remain 0m 25s) Loss: 0.4349(0.5533) \n",
      "EVAL: [500/570] Elapsed 1m 15s (remain 0m 10s) Loss: 0.4291(0.5532) \n"
     ]
    },
    {
     "name": "stderr",
     "output_type": "stream",
     "text": [
      "[W pthreadpool-cpp.cc:90] Warning: Leaking Caffe2 thread-pool after fork. (function pthreadpool)\n",
      "[W pthreadpool-cpp.cc:90] Warning: Leaking Caffe2 thread-pool after fork. (function pthreadpool)\n",
      "Epoch 4 - avg_train_loss: 0.5038  avg_val_loss: 0.5519  time: 846s\n",
      "Epoch 4 - Score: 0.8375\n",
      "Epoch 4 - Save Best Score: 0.8375 Model\n"
     ]
    },
    {
     "name": "stdout",
     "output_type": "stream",
     "text": [
      "EVAL: [569/570] Elapsed 1m 26s (remain 0m 0s) Loss: 0.5430(0.5519) \n"
     ]
    },
    {
     "name": "stderr",
     "output_type": "stream",
     "text": [
      "[W pthreadpool-cpp.cc:90] Warning: Leaking Caffe2 thread-pool after fork. (function pthreadpool)\n",
      "[W pthreadpool-cpp.cc:90] Warning: Leaking Caffe2 thread-pool after fork. (function pthreadpool)\n",
      "[W pthreadpool-cpp.cc:90] Warning: Leaking Caffe2 thread-pool after fork. (function pthreadpool)\n",
      "[W pthreadpool-cpp.cc:90] Warning: Leaking Caffe2 thread-pool after fork. (function pthreadpool)\n"
     ]
    },
    {
     "name": "stdout",
     "output_type": "stream",
     "text": [
      "Epoch: [5][0/1709] Elapsed 0m 0s (remain 20m 2s) Loss: 0.5253(0.5253) Grad: 35802.6523  LR: 0.00001000  \n",
      "Epoch: [5][100/1709] Elapsed 0m 45s (remain 12m 1s) Loss: 0.5180(0.4962) Grad: 58992.6875  LR: 0.00000977  \n",
      "Epoch: [5][200/1709] Elapsed 1m 30s (remain 11m 15s) Loss: 0.4237(0.4945) Grad: 63118.9453  LR: 0.00000954  \n",
      "Epoch: [5][300/1709] Elapsed 2m 14s (remain 10m 28s) Loss: 0.5076(0.4950) Grad: 16316.9658  LR: 0.00000931  \n",
      "Epoch: [5][400/1709] Elapsed 2m 58s (remain 9m 42s) Loss: 0.4916(0.4995) Grad: 50636.5039  LR: 0.00000909  \n",
      "Epoch: [5][500/1709] Elapsed 3m 43s (remain 8m 59s) Loss: 0.3910(0.4999) Grad: 23100.1895  LR: 0.00000886  \n",
      "Epoch: [5][600/1709] Elapsed 4m 27s (remain 8m 14s) Loss: 0.5023(0.4993) Grad: 24766.7520  LR: 0.00000863  \n",
      "Epoch: [5][700/1709] Elapsed 5m 13s (remain 7m 30s) Loss: 0.4820(0.4991) Grad: 90449.5000  LR: 0.00000840  \n",
      "Epoch: [5][800/1709] Elapsed 5m 57s (remain 6m 45s) Loss: 0.4423(0.4999) Grad: 5236.1948  LR: 0.00000818  \n",
      "Epoch: [5][900/1709] Elapsed 6m 41s (remain 6m 0s) Loss: 0.5587(0.4994) Grad: 20742.5898  LR: 0.00000795  \n",
      "Epoch: [5][1000/1709] Elapsed 7m 26s (remain 5m 15s) Loss: 0.4172(0.5001) Grad: 5627.2681  LR: 0.00000773  \n",
      "Epoch: [5][1100/1709] Elapsed 8m 10s (remain 4m 30s) Loss: 0.4299(0.4996) Grad: 23134.7695  LR: 0.00000750  \n",
      "Epoch: [5][1200/1709] Elapsed 8m 54s (remain 3m 46s) Loss: 0.5001(0.4998) Grad: 5958.4146  LR: 0.00000728  \n",
      "Epoch: [5][1300/1709] Elapsed 9m 39s (remain 3m 1s) Loss: 0.4347(0.4995) Grad: 6980.9248  LR: 0.00000706  \n",
      "Epoch: [5][1400/1709] Elapsed 10m 23s (remain 2m 17s) Loss: 0.4182(0.5000) Grad: 7577.2563  LR: 0.00000684  \n",
      "Epoch: [5][1500/1709] Elapsed 11m 7s (remain 1m 32s) Loss: 0.5231(0.4998) Grad: 7677.6089  LR: 0.00000663  \n",
      "Epoch: [5][1600/1709] Elapsed 11m 52s (remain 0m 48s) Loss: 0.4873(0.5004) Grad: 9407.1455  LR: 0.00000641  \n",
      "Epoch: [5][1700/1709] Elapsed 12m 36s (remain 0m 3s) Loss: 0.5061(0.5007) Grad: 11987.8809  LR: 0.00000620  \n"
     ]
    },
    {
     "name": "stderr",
     "output_type": "stream",
     "text": [
      "[W pthreadpool-cpp.cc:90] Warning: Leaking Caffe2 thread-pool after fork. (function pthreadpool)\n",
      "[W pthreadpool-cpp.cc:90] Warning: Leaking Caffe2 thread-pool after fork. (function pthreadpool)\n"
     ]
    },
    {
     "name": "stdout",
     "output_type": "stream",
     "text": [
      "Epoch: [5][1708/1709] Elapsed 12m 40s (remain 0m 0s) Loss: 0.6690(0.5010) Grad: 133160.9062  LR: 0.00000618  \n"
     ]
    },
    {
     "name": "stderr",
     "output_type": "stream",
     "text": [
      "[W pthreadpool-cpp.cc:90] Warning: Leaking Caffe2 thread-pool after fork. (function pthreadpool)\n",
      "[W pthreadpool-cpp.cc:90] Warning: Leaking Caffe2 thread-pool after fork. (function pthreadpool)\n",
      "[W pthreadpool-cpp.cc:90] Warning: Leaking Caffe2 thread-pool after fork. (function pthreadpool)\n",
      "[W pthreadpool-cpp.cc:90] Warning: Leaking Caffe2 thread-pool after fork. (function pthreadpool)\n"
     ]
    },
    {
     "name": "stdout",
     "output_type": "stream",
     "text": [
      "EVAL: [0/570] Elapsed 0m 0s (remain 3m 10s) Loss: 0.6278(0.6278) \n",
      "EVAL: [100/570] Elapsed 0m 15s (remain 1m 11s) Loss: 0.5971(0.5510) \n",
      "EVAL: [200/570] Elapsed 0m 30s (remain 0m 56s) Loss: 0.5533(0.5701) \n",
      "EVAL: [300/570] Elapsed 0m 45s (remain 0m 40s) Loss: 0.4126(0.5635) \n",
      "EVAL: [400/570] Elapsed 1m 0s (remain 0m 25s) Loss: 0.4259(0.5637) \n",
      "EVAL: [500/570] Elapsed 1m 15s (remain 0m 10s) Loss: 0.4308(0.5641) \n"
     ]
    },
    {
     "name": "stderr",
     "output_type": "stream",
     "text": [
      "Epoch 5 - avg_train_loss: 0.5010  avg_val_loss: 0.5632  time: 847s\n",
      "Epoch 5 - Score: 0.8313\n"
     ]
    },
    {
     "name": "stdout",
     "output_type": "stream",
     "text": [
      "EVAL: [569/570] Elapsed 1m 26s (remain 0m 0s) Loss: 0.5171(0.5632) \n"
     ]
    },
    {
     "name": "stderr",
     "output_type": "stream",
     "text": [
      "[W pthreadpool-cpp.cc:90] Warning: Leaking Caffe2 thread-pool after fork. (function pthreadpool)\n",
      "[W pthreadpool-cpp.cc:90] Warning: Leaking Caffe2 thread-pool after fork. (function pthreadpool)\n",
      "[W pthreadpool-cpp.cc:90] Warning: Leaking Caffe2 thread-pool after fork. (function pthreadpool)\n",
      "[W pthreadpool-cpp.cc:90] Warning: Leaking Caffe2 thread-pool after fork. (function pthreadpool)\n"
     ]
    },
    {
     "name": "stdout",
     "output_type": "stream",
     "text": [
      "Epoch: [6][0/1709] Elapsed 0m 0s (remain 15m 17s) Loss: 0.3702(0.3702) Grad: 246907.6875  LR: 0.00000618  \n",
      "Epoch: [6][100/1709] Elapsed 0m 44s (remain 11m 54s) Loss: 0.3848(0.4965) Grad: 18654.5781  LR: 0.00000597  \n",
      "Epoch: [6][200/1709] Elapsed 1m 29s (remain 11m 14s) Loss: 0.6043(0.4910) Grad: 109303.6719  LR: 0.00000576  \n",
      "Epoch: [6][300/1709] Elapsed 2m 14s (remain 10m 28s) Loss: 0.5829(0.4945) Grad: 58554.6328  LR: 0.00000555  \n",
      "Epoch: [6][400/1709] Elapsed 2m 58s (remain 9m 42s) Loss: 0.5800(0.4953) Grad: 60584.0000  LR: 0.00000535  \n",
      "Epoch: [6][500/1709] Elapsed 3m 43s (remain 8m 57s) Loss: 0.4309(0.4925) Grad: 22144.3418  LR: 0.00000514  \n",
      "Epoch: [6][600/1709] Elapsed 4m 27s (remain 8m 13s) Loss: 0.4119(0.4923) Grad: 29660.8008  LR: 0.00000494  \n",
      "Epoch: [6][700/1709] Elapsed 5m 12s (remain 7m 29s) Loss: 0.4864(0.4929) Grad: 439184.2188  LR: 0.00000475  \n",
      "Epoch: [6][800/1709] Elapsed 5m 56s (remain 6m 44s) Loss: 0.4331(0.4931) Grad: 18023.9688  LR: 0.00000455  \n",
      "Epoch: [6][900/1709] Elapsed 6m 41s (remain 5m 59s) Loss: 0.5736(0.4925) Grad: 27589.8164  LR: 0.00000436  \n",
      "Epoch: [6][1000/1709] Elapsed 7m 25s (remain 5m 15s) Loss: 0.4330(0.4931) Grad: 15494.9639  LR: 0.00000417  \n",
      "Epoch: [6][1100/1709] Elapsed 8m 9s (remain 4m 30s) Loss: 0.6296(0.4936) Grad: 34470.9609  LR: 0.00000399  \n",
      "Epoch: [6][1200/1709] Elapsed 8m 54s (remain 3m 45s) Loss: 0.4375(0.4934) Grad: 333579.1875  LR: 0.00000381  \n",
      "Epoch: [6][1300/1709] Elapsed 9m 39s (remain 3m 1s) Loss: 0.3622(0.4933) Grad: 27657.0176  LR: 0.00000363  \n",
      "Epoch: [6][1400/1709] Elapsed 10m 23s (remain 2m 17s) Loss: 0.4039(0.4934) Grad: 91234.7500  LR: 0.00000345  \n",
      "Epoch: [6][1500/1709] Elapsed 11m 7s (remain 1m 32s) Loss: 0.4432(0.4930) Grad: 23772.9141  LR: 0.00000328  \n",
      "Epoch: [6][1600/1709] Elapsed 11m 53s (remain 0m 48s) Loss: 0.4634(0.4927) Grad: 72660.1641  LR: 0.00000311  \n",
      "Epoch: [6][1700/1709] Elapsed 12m 37s (remain 0m 3s) Loss: 0.5487(0.4921) Grad: 246107.5000  LR: 0.00000295  \n"
     ]
    },
    {
     "name": "stderr",
     "output_type": "stream",
     "text": [
      "[W pthreadpool-cpp.cc:90] Warning: Leaking Caffe2 thread-pool after fork. (function pthreadpool)\n"
     ]
    },
    {
     "name": "stdout",
     "output_type": "stream",
     "text": [
      "Epoch: [6][1708/1709] Elapsed 12m 41s (remain 0m 0s) Loss: 0.4773(0.4921) Grad: 18851.6016  LR: 0.00000294  \n"
     ]
    },
    {
     "name": "stderr",
     "output_type": "stream",
     "text": [
      "[W pthreadpool-cpp.cc:90] Warning: Leaking Caffe2 thread-pool after fork. (function pthreadpool)\n",
      "[W pthreadpool-cpp.cc:90] Warning: Leaking Caffe2 thread-pool after fork. (function pthreadpool)\n",
      "[W pthreadpool-cpp.cc:90] Warning: Leaking Caffe2 thread-pool after fork. (function pthreadpool)\n",
      "[W pthreadpool-cpp.cc:90] Warning: Leaking Caffe2 thread-pool after fork. (function pthreadpool)\n"
     ]
    },
    {
     "name": "stdout",
     "output_type": "stream",
     "text": [
      "EVAL: [0/570] Elapsed 0m 0s (remain 3m 6s) Loss: 0.5823(0.5823) \n",
      "EVAL: [100/570] Elapsed 0m 15s (remain 1m 11s) Loss: 0.5787(0.5571) \n",
      "EVAL: [200/570] Elapsed 0m 30s (remain 0m 56s) Loss: 0.5628(0.5752) \n",
      "EVAL: [300/570] Elapsed 0m 45s (remain 0m 40s) Loss: 0.4136(0.5678) \n",
      "EVAL: [400/570] Elapsed 1m 0s (remain 0m 25s) Loss: 0.4237(0.5668) \n",
      "EVAL: [500/570] Elapsed 1m 16s (remain 0m 10s) Loss: 0.4340(0.5677) \n"
     ]
    },
    {
     "name": "stderr",
     "output_type": "stream",
     "text": [
      "Epoch 6 - avg_train_loss: 0.4921  avg_val_loss: 0.5665  time: 848s\n",
      "Epoch 6 - Score: 0.8372\n"
     ]
    },
    {
     "name": "stdout",
     "output_type": "stream",
     "text": [
      "EVAL: [569/570] Elapsed 1m 26s (remain 0m 0s) Loss: 0.6241(0.5665) \n"
     ]
    },
    {
     "name": "stderr",
     "output_type": "stream",
     "text": [
      "[W pthreadpool-cpp.cc:90] Warning: Leaking Caffe2 thread-pool after fork. (function pthreadpool)\n",
      "[W pthreadpool-cpp.cc:90] Warning: Leaking Caffe2 thread-pool after fork. (function pthreadpool)\n",
      "[W pthreadpool-cpp.cc:90] Warning: Leaking Caffe2 thread-pool after fork. (function pthreadpool)\n",
      "[W pthreadpool-cpp.cc:90] Warning: Leaking Caffe2 thread-pool after fork. (function pthreadpool)\n"
     ]
    },
    {
     "name": "stdout",
     "output_type": "stream",
     "text": [
      "Epoch: [7][0/1709] Elapsed 0m 0s (remain 15m 26s) Loss: 0.4744(0.4744) Grad: 28858.9121  LR: 0.00000293  \n",
      "Epoch: [7][100/1709] Elapsed 0m 44s (remain 11m 55s) Loss: 0.4637(0.4813) Grad: 11667.2441  LR: 0.00000277  \n",
      "Epoch: [7][200/1709] Elapsed 1m 29s (remain 11m 11s) Loss: 0.4443(0.4862) Grad: 130679.1875  LR: 0.00000262  \n",
      "Epoch: [7][300/1709] Elapsed 2m 13s (remain 10m 26s) Loss: 0.4358(0.4886) Grad: 45200.5117  LR: 0.00000246  \n",
      "Epoch: [7][400/1709] Elapsed 2m 58s (remain 9m 41s) Loss: 0.6004(0.4876) Grad: 39278.3750  LR: 0.00000231  \n",
      "Epoch: [7][500/1709] Elapsed 3m 42s (remain 8m 56s) Loss: 0.4387(0.4846) Grad: 165126.2188  LR: 0.00000217  \n",
      "Epoch: [7][600/1709] Elapsed 4m 26s (remain 8m 12s) Loss: 0.3229(0.4863) Grad: 18774.3281  LR: 0.00000203  \n",
      "Epoch: [7][700/1709] Elapsed 5m 11s (remain 7m 27s) Loss: 0.3672(0.4867) Grad: 11818.3887  LR: 0.00000189  \n",
      "Epoch: [7][800/1709] Elapsed 5m 55s (remain 6m 43s) Loss: 0.4358(0.4866) Grad: 10118.3516  LR: 0.00000176  \n",
      "Epoch: [7][900/1709] Elapsed 6m 40s (remain 5m 58s) Loss: 0.4954(0.4872) Grad: 5608.6514  LR: 0.00000163  \n",
      "Epoch: [7][1000/1709] Elapsed 7m 24s (remain 5m 14s) Loss: 0.5153(0.4888) Grad: 11718.6777  LR: 0.00000151  \n",
      "Epoch: [7][1100/1709] Elapsed 8m 8s (remain 4m 30s) Loss: 0.5180(0.4897) Grad: 27396.3750  LR: 0.00000139  \n",
      "Epoch: [7][1200/1709] Elapsed 8m 53s (remain 3m 45s) Loss: 0.4466(0.4898) Grad: 5798.7114  LR: 0.00000127  \n",
      "Epoch: [7][1300/1709] Elapsed 9m 37s (remain 3m 1s) Loss: 0.3395(0.4887) Grad: 15353.7139  LR: 0.00000116  \n",
      "Epoch: [7][1400/1709] Elapsed 10m 22s (remain 2m 16s) Loss: 0.5441(0.4884) Grad: 6120.8105  LR: 0.00000106  \n",
      "Epoch: [7][1500/1709] Elapsed 11m 6s (remain 1m 32s) Loss: 0.5213(0.4887) Grad: 9544.9814  LR: 0.00000096  \n",
      "Epoch: [7][1600/1709] Elapsed 11m 50s (remain 0m 47s) Loss: 0.4193(0.4886) Grad: 13993.9795  LR: 0.00000086  \n",
      "Epoch: [7][1700/1709] Elapsed 12m 35s (remain 0m 3s) Loss: 0.5484(0.4880) Grad: 20041.0547  LR: 0.00000077  \n"
     ]
    },
    {
     "name": "stderr",
     "output_type": "stream",
     "text": [
      "[W pthreadpool-cpp.cc:90] Warning: Leaking Caffe2 thread-pool after fork. (function pthreadpool)\n"
     ]
    },
    {
     "name": "stdout",
     "output_type": "stream",
     "text": [
      "Epoch: [7][1708/1709] Elapsed 12m 38s (remain 0m 0s) Loss: 0.4825(0.4880) Grad: 19743.8379  LR: 0.00000077  \n"
     ]
    },
    {
     "name": "stderr",
     "output_type": "stream",
     "text": [
      "[W pthreadpool-cpp.cc:90] Warning: Leaking Caffe2 thread-pool after fork. (function pthreadpool)\n",
      "[W pthreadpool-cpp.cc:90] Warning: Leaking Caffe2 thread-pool after fork. (function pthreadpool)\n",
      "[W pthreadpool-cpp.cc:90] Warning: Leaking Caffe2 thread-pool after fork. (function pthreadpool)\n",
      "[W pthreadpool-cpp.cc:90] Warning: Leaking Caffe2 thread-pool after fork. (function pthreadpool)\n"
     ]
    },
    {
     "name": "stdout",
     "output_type": "stream",
     "text": [
      "EVAL: [0/570] Elapsed 0m 0s (remain 3m 9s) Loss: 0.5837(0.5837) \n",
      "EVAL: [100/570] Elapsed 0m 15s (remain 1m 11s) Loss: 0.5661(0.5576) \n",
      "EVAL: [200/570] Elapsed 0m 30s (remain 0m 56s) Loss: 0.5679(0.5754) \n",
      "EVAL: [300/570] Elapsed 0m 45s (remain 0m 40s) Loss: 0.4200(0.5684) \n",
      "EVAL: [400/570] Elapsed 1m 0s (remain 0m 25s) Loss: 0.4237(0.5677) \n",
      "EVAL: [500/570] Elapsed 1m 16s (remain 0m 10s) Loss: 0.4340(0.5696) \n"
     ]
    },
    {
     "name": "stderr",
     "output_type": "stream",
     "text": [
      "Epoch 7 - avg_train_loss: 0.4880  avg_val_loss: 0.5679  time: 846s\n",
      "Epoch 7 - Score: 0.8367\n"
     ]
    },
    {
     "name": "stdout",
     "output_type": "stream",
     "text": [
      "EVAL: [569/570] Elapsed 1m 26s (remain 0m 0s) Loss: 0.6080(0.5679) \n"
     ]
    },
    {
     "name": "stderr",
     "output_type": "stream",
     "text": [
      "[W pthreadpool-cpp.cc:90] Warning: Leaking Caffe2 thread-pool after fork. (function pthreadpool)\n",
      "[W pthreadpool-cpp.cc:90] Warning: Leaking Caffe2 thread-pool after fork. (function pthreadpool)\n",
      "[W pthreadpool-cpp.cc:90] Warning: Leaking Caffe2 thread-pool after fork. (function pthreadpool)\n",
      "[W pthreadpool-cpp.cc:90] Warning: Leaking Caffe2 thread-pool after fork. (function pthreadpool)\n"
     ]
    },
    {
     "name": "stdout",
     "output_type": "stream",
     "text": [
      "Epoch: [8][0/1709] Elapsed 0m 0s (remain 15m 22s) Loss: 0.5101(0.5101) Grad: 89234.5938  LR: 0.00000076  \n",
      "Epoch: [8][100/1709] Elapsed 0m 45s (remain 11m 57s) Loss: 0.3265(0.4843) Grad: 26111.9805  LR: 0.00000068  \n",
      "Epoch: [8][200/1709] Elapsed 1m 29s (remain 11m 11s) Loss: 0.4244(0.4869) Grad: 66069.9375  LR: 0.00000060  \n",
      "Epoch: [8][300/1709] Elapsed 2m 13s (remain 10m 26s) Loss: 0.4953(0.4849) Grad: 64936.2227  LR: 0.00000052  \n",
      "Epoch: [8][400/1709] Elapsed 2m 58s (remain 9m 41s) Loss: 0.4386(0.4848) Grad: 421117.0000  LR: 0.00000045  \n",
      "Epoch: [8][500/1709] Elapsed 3m 42s (remain 8m 57s) Loss: 0.4888(0.4831) Grad: 19291.6914  LR: 0.00000039  \n",
      "Epoch: [8][600/1709] Elapsed 4m 27s (remain 8m 12s) Loss: 0.3622(0.4817) Grad: 29089.5703  LR: 0.00000033  \n",
      "Epoch: [8][700/1709] Elapsed 5m 11s (remain 7m 28s) Loss: 0.3341(0.4820) Grad: 49091.4609  LR: 0.00000027  \n",
      "Epoch: [8][800/1709] Elapsed 5m 56s (remain 6m 43s) Loss: 0.4793(0.4831) Grad: 92930.8516  LR: 0.00000022  \n",
      "Epoch: [8][900/1709] Elapsed 6m 40s (remain 5m 59s) Loss: 0.5482(0.4838) Grad: 53764.0664  LR: 0.00000017  \n",
      "Epoch: [8][1000/1709] Elapsed 7m 25s (remain 5m 14s) Loss: 0.4765(0.4847) Grad: 77090.4688  LR: 0.00000013  \n",
      "Epoch: [8][1100/1709] Elapsed 8m 9s (remain 4m 30s) Loss: 0.4660(0.4841) Grad: 32851.1211  LR: 0.00000010  \n",
      "Epoch: [8][1200/1709] Elapsed 8m 54s (remain 3m 45s) Loss: 0.4878(0.4845) Grad: 343562.2500  LR: 0.00000007  \n",
      "Epoch: [8][1300/1709] Elapsed 9m 38s (remain 3m 1s) Loss: 0.3130(0.4848) Grad: 34197.6172  LR: 0.00000004  \n",
      "Epoch: [8][1400/1709] Elapsed 10m 22s (remain 2m 16s) Loss: 0.4971(0.4849) Grad: 52213.8242  LR: 0.00000003  \n",
      "Epoch: [8][1500/1709] Elapsed 11m 7s (remain 1m 32s) Loss: 0.5022(0.4848) Grad: 20392.8066  LR: 0.00000001  \n",
      "Epoch: [8][1600/1709] Elapsed 11m 51s (remain 0m 48s) Loss: 0.4242(0.4855) Grad: 30795.0449  LR: 0.00000000  \n",
      "Epoch: [8][1700/1709] Elapsed 12m 37s (remain 0m 3s) Loss: 0.4869(0.4856) Grad: 17983.1035  LR: 0.00000000  \n",
      "Epoch: [8][1708/1709] Elapsed 12m 40s (remain 0m 0s) Loss: 0.5362(0.4857) Grad: 25608.0566  LR: 0.00000000  \n"
     ]
    },
    {
     "name": "stderr",
     "output_type": "stream",
     "text": [
      "[W pthreadpool-cpp.cc:90] Warning: Leaking Caffe2 thread-pool after fork. (function pthreadpool)\n",
      "[W pthreadpool-cpp.cc:90] Warning: Leaking Caffe2 thread-pool after fork. (function pthreadpool)\n",
      "[W pthreadpool-cpp.cc:90] Warning: Leaking Caffe2 thread-pool after fork. (function pthreadpool)\n",
      "[W pthreadpool-cpp.cc:90] Warning: Leaking Caffe2 thread-pool after fork. (function pthreadpool)\n"
     ]
    },
    {
     "name": "stdout",
     "output_type": "stream",
     "text": [
      "EVAL: [0/570] Elapsed 0m 0s (remain 3m 7s) Loss: 0.5797(0.5797) \n",
      "EVAL: [100/570] Elapsed 0m 15s (remain 1m 11s) Loss: 0.5650(0.5567) \n",
      "EVAL: [200/570] Elapsed 0m 30s (remain 0m 56s) Loss: 0.5642(0.5747) \n",
      "EVAL: [300/570] Elapsed 0m 45s (remain 0m 40s) Loss: 0.4166(0.5678) \n",
      "EVAL: [400/570] Elapsed 1m 0s (remain 0m 25s) Loss: 0.4235(0.5669) \n",
      "EVAL: [500/570] Elapsed 1m 16s (remain 0m 10s) Loss: 0.4317(0.5686) \n"
     ]
    },
    {
     "name": "stderr",
     "output_type": "stream",
     "text": [
      "Epoch 8 - avg_train_loss: 0.4857  avg_val_loss: 0.5670  time: 848s\n",
      "Epoch 8 - Score: 0.8373\n"
     ]
    },
    {
     "name": "stdout",
     "output_type": "stream",
     "text": [
      "EVAL: [569/570] Elapsed 1m 26s (remain 0m 0s) Loss: 0.6104(0.5670) \n"
     ]
    },
    {
     "name": "stderr",
     "output_type": "stream",
     "text": [
      "========== fold: 2 result ==========\n",
      "Score: 0.8375\n",
      "========== fold: 3 training ==========\n"
     ]
    },
    {
     "name": "stdout",
     "output_type": "stream",
     "text": [
      "\u001b[38;5;40m========== fold: 3 training ==========\u001b[0m\n"
     ]
    },
    {
     "name": "stderr",
     "output_type": "stream",
     "text": [
      "Some weights of the model checkpoint at bert-large-uncased-whole-word-masking-finetuned-squad were not used when initializing BertModel: ['qa_outputs.bias', 'qa_outputs.weight']\n",
      "- This IS expected if you are initializing BertModel from the checkpoint of a model trained on another task or with another architecture (e.g. initializing a BertForSequenceClassification model from a BertForPreTraining model).\n",
      "- This IS NOT expected if you are initializing BertModel from the checkpoint of a model that you expect to be exactly identical (initializing a BertForSequenceClassification model from a BertForSequenceClassification model).\n",
      "[W pthreadpool-cpp.cc:90] Warning: Leaking Caffe2 thread-pool after fork. (function pthreadpool)\n",
      "[W pthreadpool-cpp.cc:90] Warning: Leaking Caffe2 thread-pool after fork. (function pthreadpool)\n",
      "[W pthreadpool-cpp.cc:90] Warning: Leaking Caffe2 thread-pool after fork. (function pthreadpool)\n",
      "[W pthreadpool-cpp.cc:90] Warning: Leaking Caffe2 thread-pool after fork. (function pthreadpool)\n"
     ]
    },
    {
     "name": "stdout",
     "output_type": "stream",
     "text": [
      "Epoch: [1][0/1709] Elapsed 0m 0s (remain 17m 21s) Loss: 0.6001(0.6001) Grad: 450754.8750  LR: 0.00002000  \n",
      "Epoch: [1][100/1709] Elapsed 0m 44s (remain 11m 55s) Loss: 0.6865(0.6480) Grad: 35727.3281  LR: 0.00002000  \n",
      "Epoch: [1][200/1709] Elapsed 1m 29s (remain 11m 10s) Loss: 0.6557(0.6286) Grad: 53708.2070  LR: 0.00001999  \n",
      "Epoch: [1][300/1709] Elapsed 2m 13s (remain 10m 25s) Loss: 0.5839(0.6131) Grad: 60796.8672  LR: 0.00001998  \n",
      "Epoch: [1][400/1709] Elapsed 2m 58s (remain 9m 41s) Loss: 0.5836(0.6059) Grad: 43191.9492  LR: 0.00001996  \n",
      "Epoch: [1][500/1709] Elapsed 3m 42s (remain 8m 57s) Loss: 0.6234(0.6034) Grad: 18198.1602  LR: 0.00001993  \n",
      "Epoch: [1][600/1709] Elapsed 4m 28s (remain 8m 14s) Loss: 0.5481(0.5990) Grad: 69848.4844  LR: 0.00001990  \n",
      "Epoch: [1][700/1709] Elapsed 5m 12s (remain 7m 29s) Loss: 0.4933(0.5960) Grad: 20791.8164  LR: 0.00001987  \n",
      "Epoch: [1][800/1709] Elapsed 5m 56s (remain 6m 44s) Loss: 0.6044(0.5920) Grad: 32409.0371  LR: 0.00001983  \n",
      "Epoch: [1][900/1709] Elapsed 6m 41s (remain 5m 59s) Loss: 0.6455(0.5903) Grad: 13480.1289  LR: 0.00001979  \n",
      "Epoch: [1][1000/1709] Elapsed 7m 25s (remain 5m 15s) Loss: 0.4652(0.5885) Grad: 23542.3301  LR: 0.00001974  \n",
      "Epoch: [1][1100/1709] Elapsed 8m 10s (remain 4m 30s) Loss: 0.5068(0.5864) Grad: 23984.8574  LR: 0.00001968  \n",
      "Epoch: [1][1200/1709] Elapsed 8m 54s (remain 3m 46s) Loss: 0.4735(0.5851) Grad: 15983.5479  LR: 0.00001962  \n",
      "Epoch: [1][1300/1709] Elapsed 9m 38s (remain 3m 1s) Loss: 0.7088(0.5839) Grad: 120493.4375  LR: 0.00001956  \n",
      "Epoch: [1][1400/1709] Elapsed 10m 23s (remain 2m 17s) Loss: 0.5043(0.5824) Grad: 21045.9023  LR: 0.00001949  \n",
      "Epoch: [1][1500/1709] Elapsed 11m 7s (remain 1m 32s) Loss: 0.6561(0.5812) Grad: 42692.3203  LR: 0.00001941  \n",
      "Epoch: [1][1600/1709] Elapsed 11m 52s (remain 0m 48s) Loss: 0.5130(0.5802) Grad: 13966.3555  LR: 0.00001933  \n",
      "Epoch: [1][1700/1709] Elapsed 12m 36s (remain 0m 3s) Loss: 0.6081(0.5788) Grad: 30554.8555  LR: 0.00001925  \n",
      "Epoch: [1][1708/1709] Elapsed 12m 40s (remain 0m 0s) Loss: 0.6119(0.5787) Grad: 27416.1230  LR: 0.00001924  \n"
     ]
    },
    {
     "name": "stderr",
     "output_type": "stream",
     "text": [
      "[W pthreadpool-cpp.cc:90] Warning: Leaking Caffe2 thread-pool after fork. (function pthreadpool)\n",
      "[W pthreadpool-cpp.cc:90] Warning: Leaking Caffe2 thread-pool after fork. (function pthreadpool)\n",
      "[W pthreadpool-cpp.cc:90] Warning: Leaking Caffe2 thread-pool after fork. (function pthreadpool)\n",
      "[W pthreadpool-cpp.cc:90] Warning: Leaking Caffe2 thread-pool after fork. (function pthreadpool)\n"
     ]
    },
    {
     "name": "stdout",
     "output_type": "stream",
     "text": [
      "EVAL: [0/570] Elapsed 0m 0s (remain 3m 15s) Loss: 0.6406(0.6406) \n",
      "EVAL: [100/570] Elapsed 0m 15s (remain 1m 11s) Loss: 0.6896(0.5718) \n",
      "EVAL: [200/570] Elapsed 0m 30s (remain 0m 56s) Loss: 0.4631(0.5674) \n",
      "EVAL: [300/570] Elapsed 0m 45s (remain 0m 40s) Loss: 0.6113(0.5638) \n",
      "EVAL: [400/570] Elapsed 1m 1s (remain 0m 25s) Loss: 0.4988(0.5624) \n",
      "EVAL: [500/570] Elapsed 1m 16s (remain 0m 10s) Loss: 0.5868(0.5608) \n",
      "EVAL: [569/570] Elapsed 1m 26s (remain 0m 0s) Loss: 0.5139(0.5618) \n"
     ]
    },
    {
     "name": "stderr",
     "output_type": "stream",
     "text": [
      "Epoch 1 - avg_train_loss: 0.5787  avg_val_loss: 0.5618  time: 847s\n",
      "Epoch 1 - Score: 0.7870\n",
      "Epoch 1 - Save Best Score: 0.7870 Model\n",
      "[W pthreadpool-cpp.cc:90] Warning: Leaking Caffe2 thread-pool after fork. (function pthreadpool)\n",
      "[W pthreadpool-cpp.cc:90] Warning: Leaking Caffe2 thread-pool after fork. (function pthreadpool)\n",
      "[W pthreadpool-cpp.cc:90] Warning: Leaking Caffe2 thread-pool after fork. (function pthreadpool)\n",
      "[W pthreadpool-cpp.cc:90] Warning: Leaking Caffe2 thread-pool after fork. (function pthreadpool)\n"
     ]
    },
    {
     "name": "stdout",
     "output_type": "stream",
     "text": [
      "Epoch: [2][0/1709] Elapsed 0m 0s (remain 20m 11s) Loss: 0.5866(0.5866) Grad: 129018.0312  LR: 0.00001924  \n",
      "Epoch: [2][100/1709] Elapsed 0m 45s (remain 11m 57s) Loss: 0.5498(0.5447) Grad: 129174.4297  LR: 0.00001915  \n",
      "Epoch: [2][200/1709] Elapsed 1m 29s (remain 11m 11s) Loss: 0.6107(0.5417) Grad: 60952.7969  LR: 0.00001905  \n",
      "Epoch: [2][300/1709] Elapsed 2m 13s (remain 10m 26s) Loss: 0.4574(0.5375) Grad: 117278.3047  LR: 0.00001895  \n",
      "Epoch: [2][400/1709] Elapsed 2m 58s (remain 9m 41s) Loss: 0.5189(0.5336) Grad: 94594.7734  LR: 0.00001885  \n",
      "Epoch: [2][500/1709] Elapsed 3m 42s (remain 8m 57s) Loss: 0.5290(0.5320) Grad: 36986.5547  LR: 0.00001874  \n",
      "Epoch: [2][600/1709] Elapsed 4m 28s (remain 8m 14s) Loss: 0.3942(0.5327) Grad: 77881.4297  LR: 0.00001863  \n",
      "Epoch: [2][700/1709] Elapsed 5m 12s (remain 7m 29s) Loss: 0.5376(0.5328) Grad: 13209.9443  LR: 0.00001851  \n",
      "Epoch: [2][800/1709] Elapsed 5m 57s (remain 6m 45s) Loss: 0.4913(0.5339) Grad: 21402.6465  LR: 0.00001838  \n",
      "Epoch: [2][900/1709] Elapsed 6m 42s (remain 6m 0s) Loss: 0.5554(0.5336) Grad: 60582.0352  LR: 0.00001826  \n",
      "Epoch: [2][1000/1709] Elapsed 7m 26s (remain 5m 16s) Loss: 0.4209(0.5333) Grad: 19352.0410  LR: 0.00001812  \n",
      "Epoch: [2][1100/1709] Elapsed 8m 11s (remain 4m 31s) Loss: 0.5068(0.5341) Grad: 59921.1445  LR: 0.00001799  \n",
      "Epoch: [2][1200/1709] Elapsed 8m 55s (remain 3m 46s) Loss: 0.4913(0.5337) Grad: 16822.4277  LR: 0.00001785  \n",
      "Epoch: [2][1300/1709] Elapsed 9m 40s (remain 3m 1s) Loss: 0.5429(0.5343) Grad: 64526.0703  LR: 0.00001770  \n",
      "Epoch: [2][1400/1709] Elapsed 10m 24s (remain 2m 17s) Loss: 0.4991(0.5350) Grad: 12756.3506  LR: 0.00001756  \n",
      "Epoch: [2][1500/1709] Elapsed 11m 9s (remain 1m 32s) Loss: 0.5133(0.5354) Grad: 65576.9766  LR: 0.00001740  \n",
      "Epoch: [2][1600/1709] Elapsed 11m 54s (remain 0m 48s) Loss: 0.6171(0.5355) Grad: 12731.1475  LR: 0.00001725  \n",
      "Epoch: [2][1700/1709] Elapsed 12m 38s (remain 0m 3s) Loss: 0.5368(0.5360) Grad: 8700.3799  LR: 0.00001709  \n",
      "Epoch: [2][1708/1709] Elapsed 12m 42s (remain 0m 0s) Loss: 0.5730(0.5363) Grad: 9466.8691  LR: 0.00001707  \n"
     ]
    },
    {
     "name": "stderr",
     "output_type": "stream",
     "text": [
      "[W pthreadpool-cpp.cc:90] Warning: Leaking Caffe2 thread-pool after fork. (function pthreadpool)\n",
      "[W pthreadpool-cpp.cc:90] Warning: Leaking Caffe2 thread-pool after fork. (function pthreadpool)\n",
      "[W pthreadpool-cpp.cc:90] Warning: Leaking Caffe2 thread-pool after fork. (function pthreadpool)\n",
      "[W pthreadpool-cpp.cc:90] Warning: Leaking Caffe2 thread-pool after fork. (function pthreadpool)\n"
     ]
    },
    {
     "name": "stdout",
     "output_type": "stream",
     "text": [
      "EVAL: [0/570] Elapsed 0m 0s (remain 3m 14s) Loss: 0.6069(0.6069) \n",
      "EVAL: [100/570] Elapsed 0m 15s (remain 1m 12s) Loss: 0.6975(0.5547) \n",
      "EVAL: [200/570] Elapsed 0m 30s (remain 0m 56s) Loss: 0.4637(0.5502) \n",
      "EVAL: [300/570] Elapsed 0m 45s (remain 0m 40s) Loss: 0.6221(0.5490) \n",
      "EVAL: [400/570] Elapsed 1m 1s (remain 0m 25s) Loss: 0.4302(0.5488) \n",
      "EVAL: [500/570] Elapsed 1m 16s (remain 0m 10s) Loss: 0.5525(0.5474) \n",
      "EVAL: [569/570] Elapsed 1m 26s (remain 0m 0s) Loss: 0.4493(0.5482) \n"
     ]
    },
    {
     "name": "stderr",
     "output_type": "stream",
     "text": [
      "Epoch 2 - avg_train_loss: 0.5363  avg_val_loss: 0.5482  time: 849s\n",
      "Epoch 2 - Score: 0.8117\n",
      "Epoch 2 - Save Best Score: 0.8117 Model\n",
      "[W pthreadpool-cpp.cc:90] Warning: Leaking Caffe2 thread-pool after fork. (function pthreadpool)\n",
      "[W pthreadpool-cpp.cc:90] Warning: Leaking Caffe2 thread-pool after fork. (function pthreadpool)\n",
      "[W pthreadpool-cpp.cc:90] Warning: Leaking Caffe2 thread-pool after fork. (function pthreadpool)\n",
      "[W pthreadpool-cpp.cc:90] Warning: Leaking Caffe2 thread-pool after fork. (function pthreadpool)\n"
     ]
    },
    {
     "name": "stdout",
     "output_type": "stream",
     "text": [
      "Epoch: [3][0/1709] Elapsed 0m 0s (remain 24m 28s) Loss: 0.4673(0.4673) Grad: 82448.2500  LR: 0.00001707  \n",
      "Epoch: [3][100/1709] Elapsed 0m 45s (remain 12m 0s) Loss: 0.4395(0.5214) Grad: 103052.6016  LR: 0.00001691  \n",
      "Epoch: [3][200/1709] Elapsed 1m 29s (remain 11m 12s) Loss: 0.4400(0.5132) Grad: 273325.5312  LR: 0.00001674  \n",
      "Epoch: [3][300/1709] Elapsed 2m 14s (remain 10m 29s) Loss: 0.4449(0.5159) Grad: 63942.7617  LR: 0.00001657  \n",
      "Epoch: [3][400/1709] Elapsed 2m 59s (remain 9m 44s) Loss: 0.5295(0.5171) Grad: 68816.0781  LR: 0.00001639  \n",
      "Epoch: [3][500/1709] Elapsed 3m 43s (remain 8m 59s) Loss: 0.4292(0.5180) Grad: 78394.9141  LR: 0.00001621  \n",
      "Epoch: [3][600/1709] Elapsed 4m 28s (remain 8m 14s) Loss: 0.5300(0.5185) Grad: 105415.3750  LR: 0.00001603  \n",
      "Epoch: [3][700/1709] Elapsed 5m 12s (remain 7m 29s) Loss: 0.4362(0.5170) Grad: 70344.6875  LR: 0.00001585  \n",
      "Epoch: [3][800/1709] Elapsed 5m 57s (remain 6m 44s) Loss: 0.5824(0.5184) Grad: 101914.2109  LR: 0.00001566  \n",
      "Epoch: [3][900/1709] Elapsed 6m 41s (remain 6m 0s) Loss: 0.6035(0.5181) Grad: 203848.9375  LR: 0.00001547  \n",
      "Epoch: [3][1000/1709] Elapsed 7m 26s (remain 5m 15s) Loss: 0.5330(0.5183) Grad: 250497.7031  LR: 0.00001528  \n",
      "Epoch: [3][1100/1709] Elapsed 8m 10s (remain 4m 30s) Loss: 0.4705(0.5186) Grad: 119790.9844  LR: 0.00001508  \n",
      "Epoch: [3][1200/1709] Elapsed 8m 55s (remain 3m 46s) Loss: 0.4694(0.5180) Grad: 89956.7656  LR: 0.00001488  \n",
      "Epoch: [3][1300/1709] Elapsed 9m 39s (remain 3m 1s) Loss: 0.3502(0.5177) Grad: 320741.1875  LR: 0.00001468  \n",
      "Epoch: [3][1400/1709] Elapsed 10m 24s (remain 2m 17s) Loss: 0.4567(0.5172) Grad: 354971.5000  LR: 0.00001447  \n",
      "Epoch: [3][1500/1709] Elapsed 11m 8s (remain 1m 32s) Loss: 0.4334(0.5169) Grad: 283841.1562  LR: 0.00001427  \n",
      "Epoch: [3][1600/1709] Elapsed 11m 53s (remain 0m 48s) Loss: 0.5026(0.5166) Grad: 108398.8047  LR: 0.00001406  \n",
      "Epoch: [3][1700/1709] Elapsed 12m 37s (remain 0m 3s) Loss: 0.5509(0.5166) Grad: 73311.7578  LR: 0.00001385  \n",
      "Epoch: [3][1708/1709] Elapsed 12m 41s (remain 0m 0s) Loss: 0.5136(0.5164) Grad: 148854.6094  LR: 0.00001383  \n"
     ]
    },
    {
     "name": "stderr",
     "output_type": "stream",
     "text": [
      "[W pthreadpool-cpp.cc:90] Warning: Leaking Caffe2 thread-pool after fork. (function pthreadpool)\n",
      "[W pthreadpool-cpp.cc:90] Warning: Leaking Caffe2 thread-pool after fork. (function pthreadpool)\n",
      "[W pthreadpool-cpp.cc:90] Warning: Leaking Caffe2 thread-pool after fork. (function pthreadpool)\n",
      "[W pthreadpool-cpp.cc:90] Warning: Leaking Caffe2 thread-pool after fork. (function pthreadpool)\n"
     ]
    },
    {
     "name": "stdout",
     "output_type": "stream",
     "text": [
      "EVAL: [0/570] Elapsed 0m 0s (remain 3m 22s) Loss: 0.6118(0.6118) \n",
      "EVAL: [100/570] Elapsed 0m 15s (remain 1m 12s) Loss: 0.6834(0.5606) \n",
      "EVAL: [200/570] Elapsed 0m 30s (remain 0m 56s) Loss: 0.4562(0.5521) \n",
      "EVAL: [300/570] Elapsed 0m 45s (remain 0m 41s) Loss: 0.6018(0.5484) \n",
      "EVAL: [400/570] Elapsed 1m 1s (remain 0m 25s) Loss: 0.4285(0.5482) \n",
      "EVAL: [500/570] Elapsed 1m 16s (remain 0m 10s) Loss: 0.5504(0.5469) \n",
      "EVAL: [569/570] Elapsed 1m 26s (remain 0m 0s) Loss: 0.4809(0.5477) \n"
     ]
    },
    {
     "name": "stderr",
     "output_type": "stream",
     "text": [
      "Epoch 3 - avg_train_loss: 0.5164  avg_val_loss: 0.5477  time: 848s\n",
      "Epoch 3 - Score: 0.8329\n",
      "Epoch 3 - Save Best Score: 0.8329 Model\n",
      "[W pthreadpool-cpp.cc:90] Warning: Leaking Caffe2 thread-pool after fork. (function pthreadpool)\n",
      "[W pthreadpool-cpp.cc:90] Warning: Leaking Caffe2 thread-pool after fork. (function pthreadpool)\n",
      "[W pthreadpool-cpp.cc:90] Warning: Leaking Caffe2 thread-pool after fork. (function pthreadpool)\n",
      "[W pthreadpool-cpp.cc:90] Warning: Leaking Caffe2 thread-pool after fork. (function pthreadpool)\n"
     ]
    },
    {
     "name": "stdout",
     "output_type": "stream",
     "text": [
      "Epoch: [4][0/1709] Elapsed 0m 0s (remain 21m 1s) Loss: 0.5096(0.5096) Grad: 116484.8359  LR: 0.00001383  \n",
      "Epoch: [4][100/1709] Elapsed 0m 45s (remain 11m 58s) Loss: 0.3899(0.4970) Grad: 101009.8516  LR: 0.00001362  \n",
      "Epoch: [4][200/1709] Elapsed 1m 29s (remain 11m 11s) Loss: 0.5668(0.5006) Grad: 330379.2500  LR: 0.00001340  \n",
      "Epoch: [4][300/1709] Elapsed 2m 14s (remain 10m 26s) Loss: 0.5867(0.5068) Grad: 144829.8594  LR: 0.00001318  \n",
      "Epoch: [4][400/1709] Elapsed 2m 58s (remain 9m 41s) Loss: 0.3041(0.5049) Grad: 99001.4844  LR: 0.00001296  \n",
      "Epoch: [4][500/1709] Elapsed 3m 42s (remain 8m 57s) Loss: 0.5297(0.5086) Grad: 23213.3145  LR: 0.00001274  \n",
      "Epoch: [4][600/1709] Elapsed 4m 27s (remain 8m 12s) Loss: 0.5551(0.5103) Grad: 48172.8125  LR: 0.00001252  \n",
      "Epoch: [4][700/1709] Elapsed 5m 11s (remain 7m 28s) Loss: 0.5413(0.5094) Grad: 18667.5059  LR: 0.00001230  \n",
      "Epoch: [4][800/1709] Elapsed 5m 56s (remain 6m 43s) Loss: 0.5348(0.5083) Grad: 124057.3828  LR: 0.00001208  \n",
      "Epoch: [4][900/1709] Elapsed 6m 40s (remain 5m 59s) Loss: 0.5624(0.5077) Grad: 35910.6758  LR: 0.00001185  \n",
      "Epoch: [4][1000/1709] Elapsed 7m 25s (remain 5m 15s) Loss: 0.6057(0.5082) Grad: 106085.4141  LR: 0.00001162  \n",
      "Epoch: [4][1100/1709] Elapsed 8m 10s (remain 4m 30s) Loss: 0.5263(0.5085) Grad: 33043.8672  LR: 0.00001140  \n",
      "Epoch: [4][1200/1709] Elapsed 8m 54s (remain 3m 46s) Loss: 0.5344(0.5082) Grad: 100626.9453  LR: 0.00001117  \n",
      "Epoch: [4][1300/1709] Elapsed 9m 39s (remain 3m 1s) Loss: 0.4048(0.5082) Grad: 33510.3242  LR: 0.00001094  \n",
      "Epoch: [4][1400/1709] Elapsed 10m 23s (remain 2m 17s) Loss: 0.5489(0.5082) Grad: 43085.3477  LR: 0.00001071  \n",
      "Epoch: [4][1500/1709] Elapsed 11m 8s (remain 1m 32s) Loss: 0.4825(0.5081) Grad: 69862.6484  LR: 0.00001048  \n",
      "Epoch: [4][1600/1709] Elapsed 11m 52s (remain 0m 48s) Loss: 0.4602(0.5081) Grad: 63837.4062  LR: 0.00001025  \n",
      "Epoch: [4][1700/1709] Elapsed 12m 37s (remain 0m 3s) Loss: 0.3467(0.5080) Grad: 18140.8047  LR: 0.00001002  \n",
      "Epoch: [4][1708/1709] Elapsed 12m 41s (remain 0m 0s) Loss: 0.4227(0.5079) Grad: 56920.9180  LR: 0.00001001  \n"
     ]
    },
    {
     "name": "stderr",
     "output_type": "stream",
     "text": [
      "[W pthreadpool-cpp.cc:90] Warning: Leaking Caffe2 thread-pool after fork. (function pthreadpool)\n",
      "[W pthreadpool-cpp.cc:90] Warning: Leaking Caffe2 thread-pool after fork. (function pthreadpool)\n",
      "[W pthreadpool-cpp.cc:90] Warning: Leaking Caffe2 thread-pool after fork. (function pthreadpool)\n",
      "[W pthreadpool-cpp.cc:90] Warning: Leaking Caffe2 thread-pool after fork. (function pthreadpool)\n"
     ]
    },
    {
     "name": "stdout",
     "output_type": "stream",
     "text": [
      "EVAL: [0/570] Elapsed 0m 3s (remain 37m 47s) Loss: 0.6257(0.6257) \n",
      "EVAL: [100/570] Elapsed 0m 19s (remain 1m 28s) Loss: 0.6862(0.5653) \n",
      "EVAL: [200/570] Elapsed 0m 34s (remain 1m 2s) Loss: 0.4643(0.5595) \n",
      "EVAL: [300/570] Elapsed 0m 49s (remain 0m 44s) Loss: 0.5929(0.5575) \n",
      "EVAL: [400/570] Elapsed 1m 4s (remain 0m 27s) Loss: 0.4289(0.5557) \n",
      "EVAL: [500/570] Elapsed 1m 20s (remain 0m 11s) Loss: 0.5587(0.5548) \n",
      "EVAL: [569/570] Elapsed 1m 30s (remain 0m 0s) Loss: 0.4928(0.5558) \n"
     ]
    },
    {
     "name": "stderr",
     "output_type": "stream",
     "text": [
      "Epoch 4 - avg_train_loss: 0.5079  avg_val_loss: 0.5558  time: 852s\n",
      "Epoch 4 - Score: 0.8348\n",
      "Epoch 4 - Save Best Score: 0.8348 Model\n",
      "[W pthreadpool-cpp.cc:90] Warning: Leaking Caffe2 thread-pool after fork. (function pthreadpool)\n",
      "[W pthreadpool-cpp.cc:90] Warning: Leaking Caffe2 thread-pool after fork. (function pthreadpool)\n",
      "[W pthreadpool-cpp.cc:90] Warning: Leaking Caffe2 thread-pool after fork. (function pthreadpool)\n",
      "[W pthreadpool-cpp.cc:90] Warning: Leaking Caffe2 thread-pool after fork. (function pthreadpool)\n"
     ]
    },
    {
     "name": "stdout",
     "output_type": "stream",
     "text": [
      "Epoch: [5][0/1709] Elapsed 0m 0s (remain 21m 37s) Loss: 0.5294(0.5294) Grad: 88294.6094  LR: 0.00001000  \n",
      "Epoch: [5][100/1709] Elapsed 0m 45s (remain 12m 6s) Loss: 0.3946(0.5023) Grad: 84732.0625  LR: 0.00000977  \n",
      "Epoch: [5][200/1709] Elapsed 1m 31s (remain 11m 24s) Loss: 0.5320(0.5051) Grad: 109756.7969  LR: 0.00000954  \n",
      "Epoch: [5][300/1709] Elapsed 2m 16s (remain 10m 40s) Loss: 0.5555(0.5016) Grad: 121110.6328  LR: 0.00000931  \n",
      "Epoch: [5][400/1709] Elapsed 3m 2s (remain 9m 54s) Loss: 0.4403(0.4989) Grad: 305093.6250  LR: 0.00000909  \n",
      "Epoch: [5][500/1709] Elapsed 3m 48s (remain 9m 9s) Loss: 0.5369(0.4989) Grad: 141352.4688  LR: 0.00000886  \n",
      "Epoch: [5][600/1709] Elapsed 4m 33s (remain 8m 23s) Loss: 0.5976(0.4992) Grad: 34205.7305  LR: 0.00000863  \n",
      "Epoch: [5][700/1709] Elapsed 5m 21s (remain 7m 42s) Loss: 0.3731(0.4994) Grad: 51534.6445  LR: 0.00000840  \n",
      "Epoch: [5][800/1709] Elapsed 6m 9s (remain 6m 58s) Loss: 0.4187(0.4991) Grad: 39064.2031  LR: 0.00000818  \n",
      "Epoch: [5][900/1709] Elapsed 6m 55s (remain 6m 12s) Loss: 0.5924(0.5000) Grad: 170206.3906  LR: 0.00000795  \n",
      "Epoch: [5][1000/1709] Elapsed 7m 41s (remain 5m 26s) Loss: 0.4878(0.5005) Grad: 108423.0391  LR: 0.00000773  \n",
      "Epoch: [5][1100/1709] Elapsed 8m 31s (remain 4m 42s) Loss: 0.5938(0.5000) Grad: 66582.3828  LR: 0.00000750  \n",
      "Epoch: [5][1200/1709] Elapsed 9m 17s (remain 3m 55s) Loss: 0.5412(0.4991) Grad: 79787.2656  LR: 0.00000728  \n",
      "Epoch: [5][1300/1709] Elapsed 10m 2s (remain 3m 9s) Loss: 0.5688(0.4993) Grad: 133158.1875  LR: 0.00000706  \n",
      "Epoch: [5][1400/1709] Elapsed 10m 48s (remain 2m 22s) Loss: 0.5380(0.4999) Grad: 31858.5352  LR: 0.00000684  \n",
      "Epoch: [5][1500/1709] Elapsed 11m 34s (remain 1m 36s) Loss: 0.5962(0.4990) Grad: 73118.8203  LR: 0.00000663  \n",
      "Epoch: [5][1600/1709] Elapsed 12m 21s (remain 0m 50s) Loss: 0.5346(0.4988) Grad: 32601.1230  LR: 0.00000641  \n",
      "Epoch: [5][1700/1709] Elapsed 13m 6s (remain 0m 3s) Loss: 0.5695(0.4986) Grad: 12053.3379  LR: 0.00000620  \n",
      "Epoch: [5][1708/1709] Elapsed 13m 10s (remain 0m 0s) Loss: 0.4769(0.4987) Grad: 11327.1328  LR: 0.00000618  \n"
     ]
    },
    {
     "name": "stderr",
     "output_type": "stream",
     "text": [
      "[W pthreadpool-cpp.cc:90] Warning: Leaking Caffe2 thread-pool after fork. (function pthreadpool)\n",
      "[W pthreadpool-cpp.cc:90] Warning: Leaking Caffe2 thread-pool after fork. (function pthreadpool)\n",
      "[W pthreadpool-cpp.cc:90] Warning: Leaking Caffe2 thread-pool after fork. (function pthreadpool)\n",
      "[W pthreadpool-cpp.cc:90] Warning: Leaking Caffe2 thread-pool after fork. (function pthreadpool)\n"
     ]
    },
    {
     "name": "stdout",
     "output_type": "stream",
     "text": [
      "EVAL: [0/570] Elapsed 0m 0s (remain 3m 28s) Loss: 0.6548(0.6548) \n",
      "EVAL: [100/570] Elapsed 0m 15s (remain 1m 14s) Loss: 0.6877(0.5784) \n",
      "EVAL: [200/570] Elapsed 0m 31s (remain 0m 58s) Loss: 0.4580(0.5687) \n",
      "EVAL: [300/570] Elapsed 0m 47s (remain 0m 42s) Loss: 0.6492(0.5665) \n",
      "EVAL: [400/570] Elapsed 1m 3s (remain 0m 26s) Loss: 0.4286(0.5656) \n",
      "EVAL: [500/570] Elapsed 1m 18s (remain 0m 10s) Loss: 0.5584(0.5646) \n"
     ]
    },
    {
     "name": "stderr",
     "output_type": "stream",
     "text": [
      "[W pthreadpool-cpp.cc:90] Warning: Leaking Caffe2 thread-pool after fork. (function pthreadpool)\n"
     ]
    },
    {
     "name": "stdout",
     "output_type": "stream",
     "text": [
      "EVAL: [569/570] Elapsed 1m 29s (remain 0m 0s) Loss: 0.5003(0.5653) \n"
     ]
    },
    {
     "name": "stderr",
     "output_type": "stream",
     "text": [
      "Epoch 5 - avg_train_loss: 0.4987  avg_val_loss: 0.5653  time: 880s\n",
      "Epoch 5 - Score: 0.8332\n",
      "[W pthreadpool-cpp.cc:90] Warning: Leaking Caffe2 thread-pool after fork. (function pthreadpool)\n",
      "[W pthreadpool-cpp.cc:90] Warning: Leaking Caffe2 thread-pool after fork. (function pthreadpool)\n",
      "[W pthreadpool-cpp.cc:90] Warning: Leaking Caffe2 thread-pool after fork. (function pthreadpool)\n",
      "[W pthreadpool-cpp.cc:90] Warning: Leaking Caffe2 thread-pool after fork. (function pthreadpool)\n"
     ]
    },
    {
     "name": "stdout",
     "output_type": "stream",
     "text": [
      "Epoch: [6][0/1709] Elapsed 0m 2s (remain 84m 14s) Loss: 0.4215(0.4215) Grad: 28441.2852  LR: 0.00000618  \n",
      "Epoch: [6][100/1709] Elapsed 0m 49s (remain 13m 11s) Loss: 0.5533(0.4857) Grad: 499890.8125  LR: 0.00000597  \n",
      "Epoch: [6][200/1709] Elapsed 1m 37s (remain 12m 8s) Loss: 0.4604(0.4903) Grad: 52817.2422  LR: 0.00000576  \n",
      "Epoch: [6][300/1709] Elapsed 2m 23s (remain 11m 12s) Loss: 0.3854(0.4930) Grad: 29498.7363  LR: 0.00000555  \n",
      "Epoch: [6][400/1709] Elapsed 3m 9s (remain 10m 19s) Loss: 0.5249(0.4937) Grad: 80919.6484  LR: 0.00000535  \n",
      "Epoch: [6][500/1709] Elapsed 3m 56s (remain 9m 29s) Loss: 0.5226(0.4923) Grad: 36571.2734  LR: 0.00000514  \n",
      "Epoch: [6][600/1709] Elapsed 4m 42s (remain 8m 41s) Loss: 0.4502(0.4926) Grad: 24443.2344  LR: 0.00000494  \n",
      "Epoch: [6][700/1709] Elapsed 5m 29s (remain 7m 53s) Loss: 0.5586(0.4929) Grad: 24093.0977  LR: 0.00000475  \n",
      "Epoch: [6][800/1709] Elapsed 6m 15s (remain 7m 6s) Loss: 0.5280(0.4929) Grad: 29287.1875  LR: 0.00000455  \n",
      "Epoch: [6][900/1709] Elapsed 7m 1s (remain 6m 18s) Loss: 0.4881(0.4939) Grad: 17655.2285  LR: 0.00000436  \n",
      "Epoch: [6][1000/1709] Elapsed 7m 48s (remain 5m 31s) Loss: 0.3949(0.4939) Grad: 91739.1094  LR: 0.00000417  \n",
      "Epoch: [6][1100/1709] Elapsed 8m 36s (remain 4m 44s) Loss: 0.5129(0.4940) Grad: 24352.2227  LR: 0.00000399  \n",
      "Epoch: [6][1200/1709] Elapsed 9m 25s (remain 3m 59s) Loss: 0.6513(0.4939) Grad: 39115.4766  LR: 0.00000381  \n",
      "Epoch: [6][1300/1709] Elapsed 10m 12s (remain 3m 12s) Loss: 0.4811(0.4949) Grad: 50820.5938  LR: 0.00000363  \n",
      "Epoch: [6][1400/1709] Elapsed 10m 59s (remain 2m 24s) Loss: 0.4573(0.4942) Grad: 38067.7891  LR: 0.00000345  \n",
      "Epoch: [6][1500/1709] Elapsed 11m 45s (remain 1m 37s) Loss: 0.4535(0.4941) Grad: 76796.1250  LR: 0.00000328  \n",
      "Epoch: [6][1600/1709] Elapsed 12m 33s (remain 0m 50s) Loss: 0.5161(0.4939) Grad: 100181.0156  LR: 0.00000311  \n",
      "Epoch: [6][1700/1709] Elapsed 13m 19s (remain 0m 3s) Loss: 0.5205(0.4942) Grad: 34089.9453  LR: 0.00000295  \n"
     ]
    },
    {
     "name": "stderr",
     "output_type": "stream",
     "text": [
      "[W pthreadpool-cpp.cc:90] Warning: Leaking Caffe2 thread-pool after fork. (function pthreadpool)\n",
      "[W pthreadpool-cpp.cc:90] Warning: Leaking Caffe2 thread-pool after fork. (function pthreadpool)\n"
     ]
    },
    {
     "name": "stdout",
     "output_type": "stream",
     "text": [
      "Epoch: [6][1708/1709] Elapsed 13m 23s (remain 0m 0s) Loss: 0.4441(0.4942) Grad: 46463.2109  LR: 0.00000294  \n"
     ]
    },
    {
     "name": "stderr",
     "output_type": "stream",
     "text": [
      "[W pthreadpool-cpp.cc:90] Warning: Leaking Caffe2 thread-pool after fork. (function pthreadpool)\n",
      "[W pthreadpool-cpp.cc:90] Warning: Leaking Caffe2 thread-pool after fork. (function pthreadpool)\n",
      "[W pthreadpool-cpp.cc:90] Warning: Leaking Caffe2 thread-pool after fork. (function pthreadpool)\n",
      "[W pthreadpool-cpp.cc:90] Warning: Leaking Caffe2 thread-pool after fork. (function pthreadpool)\n"
     ]
    },
    {
     "name": "stdout",
     "output_type": "stream",
     "text": [
      "EVAL: [0/570] Elapsed 0m 0s (remain 3m 21s) Loss: 0.6510(0.6510) \n",
      "EVAL: [100/570] Elapsed 0m 16s (remain 1m 14s) Loss: 0.6855(0.5840) \n",
      "EVAL: [200/570] Elapsed 0m 31s (remain 0m 58s) Loss: 0.4560(0.5710) \n",
      "EVAL: [300/570] Elapsed 0m 47s (remain 0m 42s) Loss: 0.6436(0.5680) \n",
      "EVAL: [400/570] Elapsed 1m 3s (remain 0m 26s) Loss: 0.4234(0.5662) \n",
      "EVAL: [500/570] Elapsed 1m 18s (remain 0m 10s) Loss: 0.5343(0.5644) \n",
      "EVAL: [569/570] Elapsed 1m 29s (remain 0m 0s) Loss: 0.5089(0.5652) \n"
     ]
    },
    {
     "name": "stderr",
     "output_type": "stream",
     "text": [
      "Epoch 6 - avg_train_loss: 0.4942  avg_val_loss: 0.5652  time: 894s\n",
      "Epoch 6 - Score: 0.8409\n",
      "Epoch 6 - Save Best Score: 0.8409 Model\n",
      "[W pthreadpool-cpp.cc:90] Warning: Leaking Caffe2 thread-pool after fork. (function pthreadpool)\n",
      "[W pthreadpool-cpp.cc:90] Warning: Leaking Caffe2 thread-pool after fork. (function pthreadpool)\n",
      "[W pthreadpool-cpp.cc:90] Warning: Leaking Caffe2 thread-pool after fork. (function pthreadpool)\n",
      "[W pthreadpool-cpp.cc:90] Warning: Leaking Caffe2 thread-pool after fork. (function pthreadpool)\n"
     ]
    },
    {
     "name": "stdout",
     "output_type": "stream",
     "text": [
      "Epoch: [7][0/1709] Elapsed 0m 0s (remain 22m 22s) Loss: 0.5660(0.5660) Grad: 55053.2617  LR: 0.00000293  \n",
      "Epoch: [7][100/1709] Elapsed 0m 46s (remain 12m 20s) Loss: 0.5032(0.4980) Grad: 19541.0840  LR: 0.00000277  \n",
      "Epoch: [7][200/1709] Elapsed 1m 32s (remain 11m 33s) Loss: 0.4558(0.4981) Grad: 11056.4033  LR: 0.00000262  \n",
      "Epoch: [7][300/1709] Elapsed 2m 18s (remain 10m 47s) Loss: 0.5268(0.4957) Grad: 26955.1191  LR: 0.00000246  \n",
      "Epoch: [7][400/1709] Elapsed 3m 4s (remain 10m 1s) Loss: 0.5317(0.4946) Grad: 78947.5234  LR: 0.00000231  \n",
      "Epoch: [7][500/1709] Elapsed 3m 50s (remain 9m 15s) Loss: 0.4591(0.4940) Grad: 48913.8711  LR: 0.00000217  \n",
      "Epoch: [7][600/1709] Elapsed 4m 37s (remain 8m 31s) Loss: 0.5229(0.4922) Grad: 14237.0469  LR: 0.00000203  \n",
      "Epoch: [7][700/1709] Elapsed 5m 23s (remain 7m 45s) Loss: 0.5688(0.4913) Grad: 14050.9326  LR: 0.00000189  \n",
      "Epoch: [7][800/1709] Elapsed 6m 10s (remain 6m 59s) Loss: 0.5493(0.4907) Grad: 31090.3398  LR: 0.00000176  \n",
      "Epoch: [7][900/1709] Elapsed 6m 55s (remain 6m 13s) Loss: 0.4596(0.4907) Grad: 317014.6250  LR: 0.00000163  \n",
      "Epoch: [7][1000/1709] Elapsed 7m 41s (remain 5m 26s) Loss: 0.4831(0.4912) Grad: 117286.5156  LR: 0.00000151  \n",
      "Epoch: [7][1100/1709] Elapsed 8m 28s (remain 4m 40s) Loss: 0.5537(0.4915) Grad: 36976.4688  LR: 0.00000139  \n",
      "Epoch: [7][1200/1709] Elapsed 9m 14s (remain 3m 54s) Loss: 0.5240(0.4912) Grad: 19856.0605  LR: 0.00000127  \n",
      "Epoch: [7][1300/1709] Elapsed 10m 7s (remain 3m 10s) Loss: 0.3629(0.4912) Grad: 17724.9902  LR: 0.00000116  \n",
      "Epoch: [7][1400/1709] Elapsed 10m 53s (remain 2m 23s) Loss: 0.4966(0.4906) Grad: 35334.1641  LR: 0.00000106  \n",
      "Epoch: [7][1500/1709] Elapsed 11m 40s (remain 1m 37s) Loss: 0.3767(0.4903) Grad: 34762.7812  LR: 0.00000096  \n",
      "Epoch: [7][1600/1709] Elapsed 12m 26s (remain 0m 50s) Loss: 0.4642(0.4904) Grad: 75182.1797  LR: 0.00000086  \n",
      "Epoch: [7][1700/1709] Elapsed 13m 12s (remain 0m 3s) Loss: 0.5315(0.4907) Grad: 22389.0254  LR: 0.00000077  \n",
      "Epoch: [7][1708/1709] Elapsed 13m 16s (remain 0m 0s) Loss: 0.4696(0.4906) Grad: 20969.3418  LR: 0.00000077  \n"
     ]
    },
    {
     "name": "stderr",
     "output_type": "stream",
     "text": [
      "[W pthreadpool-cpp.cc:90] Warning: Leaking Caffe2 thread-pool after fork. (function pthreadpool)\n",
      "[W pthreadpool-cpp.cc:90] Warning: Leaking Caffe2 thread-pool after fork. (function pthreadpool)\n",
      "[W pthreadpool-cpp.cc:90] Warning: Leaking Caffe2 thread-pool after fork. (function pthreadpool)\n",
      "[W pthreadpool-cpp.cc:90] Warning: Leaking Caffe2 thread-pool after fork. (function pthreadpool)\n"
     ]
    },
    {
     "name": "stdout",
     "output_type": "stream",
     "text": [
      "EVAL: [0/570] Elapsed 0m 0s (remain 8m 5s) Loss: 0.6610(0.6610) \n",
      "EVAL: [100/570] Elapsed 0m 16s (remain 1m 17s) Loss: 0.6871(0.5872) \n",
      "EVAL: [200/570] Elapsed 0m 32s (remain 0m 59s) Loss: 0.4561(0.5744) \n",
      "EVAL: [300/570] Elapsed 0m 48s (remain 0m 43s) Loss: 0.6448(0.5712) \n",
      "EVAL: [400/570] Elapsed 1m 3s (remain 0m 26s) Loss: 0.4228(0.5694) \n",
      "EVAL: [500/570] Elapsed 1m 21s (remain 0m 11s) Loss: 0.5400(0.5679) \n",
      "EVAL: [569/570] Elapsed 1m 32s (remain 0m 0s) Loss: 0.5024(0.5689) \n"
     ]
    },
    {
     "name": "stderr",
     "output_type": "stream",
     "text": [
      "Epoch 7 - avg_train_loss: 0.4906  avg_val_loss: 0.5689  time: 890s\n",
      "Epoch 7 - Score: 0.8401\n",
      "[W pthreadpool-cpp.cc:90] Warning: Leaking Caffe2 thread-pool after fork. (function pthreadpool)\n",
      "[W pthreadpool-cpp.cc:90] Warning: Leaking Caffe2 thread-pool after fork. (function pthreadpool)\n",
      "[W pthreadpool-cpp.cc:90] Warning: Leaking Caffe2 thread-pool after fork. (function pthreadpool)\n",
      "[W pthreadpool-cpp.cc:90] Warning: Leaking Caffe2 thread-pool after fork. (function pthreadpool)\n"
     ]
    },
    {
     "name": "stdout",
     "output_type": "stream",
     "text": [
      "Epoch: [8][0/1709] Elapsed 0m 0s (remain 17m 34s) Loss: 0.5206(0.5206) Grad: 40603.0273  LR: 0.00000076  \n",
      "Epoch: [8][100/1709] Elapsed 0m 46s (remain 12m 27s) Loss: 0.4745(0.4957) Grad: 33996.0078  LR: 0.00000068  \n",
      "Epoch: [8][200/1709] Elapsed 1m 34s (remain 11m 52s) Loss: 0.5057(0.4927) Grad: 30852.5020  LR: 0.00000060  \n",
      "Epoch: [8][300/1709] Elapsed 2m 20s (remain 10m 59s) Loss: 0.5396(0.4888) Grad: 68474.8438  LR: 0.00000052  \n",
      "Epoch: [8][400/1709] Elapsed 3m 6s (remain 10m 9s) Loss: 0.4677(0.4885) Grad: 90570.5234  LR: 0.00000045  \n",
      "Epoch: [8][500/1709] Elapsed 3m 53s (remain 9m 22s) Loss: 0.4780(0.4888) Grad: 272707.9688  LR: 0.00000039  \n",
      "Epoch: [8][600/1709] Elapsed 4m 38s (remain 8m 34s) Loss: 0.4703(0.4893) Grad: 817389.0625  LR: 0.00000033  \n",
      "Epoch: [8][700/1709] Elapsed 5m 26s (remain 7m 49s) Loss: 0.5361(0.4897) Grad: 44086.6641  LR: 0.00000027  \n",
      "Epoch: [8][800/1709] Elapsed 6m 12s (remain 7m 2s) Loss: 0.6252(0.4908) Grad: 78093.7344  LR: 0.00000022  \n",
      "Epoch: [8][900/1709] Elapsed 6m 59s (remain 6m 16s) Loss: 0.5039(0.4908) Grad: 66406.7734  LR: 0.00000017  \n",
      "Epoch: [8][1000/1709] Elapsed 7m 48s (remain 5m 31s) Loss: 0.5203(0.4900) Grad: 41178.1211  LR: 0.00000013  \n",
      "Epoch: [8][1100/1709] Elapsed 8m 36s (remain 4m 45s) Loss: 0.5458(0.4897) Grad: 132884.9844  LR: 0.00000010  \n",
      "Epoch: [8][1200/1709] Elapsed 9m 25s (remain 3m 59s) Loss: 0.4884(0.4882) Grad: 29298.9492  LR: 0.00000007  \n",
      "Epoch: [8][1300/1709] Elapsed 10m 13s (remain 3m 12s) Loss: 0.5602(0.4879) Grad: 18010.4414  LR: 0.00000004  \n",
      "Epoch: [8][1400/1709] Elapsed 11m 2s (remain 2m 25s) Loss: 0.3941(0.4879) Grad: 52348.2109  LR: 0.00000003  \n",
      "Epoch: [8][1500/1709] Elapsed 11m 49s (remain 1m 38s) Loss: 0.4736(0.4879) Grad: 31874.0156  LR: 0.00000001  \n",
      "Epoch: [8][1600/1709] Elapsed 12m 36s (remain 0m 51s) Loss: 0.5729(0.4877) Grad: 35843.0000  LR: 0.00000000  \n",
      "Epoch: [8][1700/1709] Elapsed 13m 22s (remain 0m 3s) Loss: 0.4353(0.4879) Grad: 211862.8438  LR: 0.00000000  \n"
     ]
    },
    {
     "name": "stderr",
     "output_type": "stream",
     "text": [
      "[W pthreadpool-cpp.cc:90] Warning: Leaking Caffe2 thread-pool after fork. (function pthreadpool)\n"
     ]
    },
    {
     "name": "stdout",
     "output_type": "stream",
     "text": [
      "Epoch: [8][1708/1709] Elapsed 13m 26s (remain 0m 0s) Loss: 0.5447(0.4879) Grad: 48272.8203  LR: 0.00000000  \n"
     ]
    },
    {
     "name": "stderr",
     "output_type": "stream",
     "text": [
      "[W pthreadpool-cpp.cc:90] Warning: Leaking Caffe2 thread-pool after fork. (function pthreadpool)\n",
      "[W pthreadpool-cpp.cc:90] Warning: Leaking Caffe2 thread-pool after fork. (function pthreadpool)\n",
      "[W pthreadpool-cpp.cc:90] Warning: Leaking Caffe2 thread-pool after fork. (function pthreadpool)\n",
      "[W pthreadpool-cpp.cc:90] Warning: Leaking Caffe2 thread-pool after fork. (function pthreadpool)\n"
     ]
    },
    {
     "name": "stdout",
     "output_type": "stream",
     "text": [
      "EVAL: [0/570] Elapsed 0m 0s (remain 3m 27s) Loss: 0.6622(0.6622) \n",
      "EVAL: [100/570] Elapsed 0m 16s (remain 1m 15s) Loss: 0.6882(0.5890) \n",
      "EVAL: [200/570] Elapsed 0m 32s (remain 0m 59s) Loss: 0.4574(0.5757) \n",
      "EVAL: [300/570] Elapsed 0m 48s (remain 0m 42s) Loss: 0.6495(0.5724) \n",
      "EVAL: [400/570] Elapsed 1m 4s (remain 0m 26s) Loss: 0.4228(0.5707) \n",
      "EVAL: [500/570] Elapsed 1m 19s (remain 0m 11s) Loss: 0.5387(0.5691) \n",
      "EVAL: [569/570] Elapsed 1m 30s (remain 0m 0s) Loss: 0.5047(0.5701) \n"
     ]
    },
    {
     "name": "stderr",
     "output_type": "stream",
     "text": [
      "Epoch 8 - avg_train_loss: 0.4879  avg_val_loss: 0.5701  time: 898s\n",
      "Epoch 8 - Score: 0.8400\n",
      "========== fold: 3 result ==========\n",
      "Score: 0.8409\n",
      "========== CV ==========\n",
      "Score: 0.8399\n"
     ]
    }
   ],
   "source": [
    "if __name__ == '__main__':\n",
    "    \n",
    "    def get_result(oof_df):\n",
    "        labels = oof_df['score'].values\n",
    "        preds = oof_df['pred'].values\n",
    "        score = get_score(labels, preds)\n",
    "        LOGGER.info(f'Score: {score:<.4f}')\n",
    "    \n",
    "    if CFG.train:\n",
    "        oof_df = pd.DataFrame()\n",
    "        for fold in range(CFG.n_fold):\n",
    "            # if fold in [0,1,2]:\n",
    "                #continue\n",
    "               # print（f”￥０r３３［３８；５；４０m＝＝＝＝＝＝＝＝＝＝ this fold is pass ￥ontinue\n",
    "            LOGGER.info(f\"========== fold: {fold} training ==========\")\n",
    "            print(f\"\\033[38;5;40m========== fold: {fold} training ==========\\033[0m\");\n",
    "            if fold in CFG.trn_fold:\n",
    "                # ====================================================\n",
    "                # loader\n",
    "                # ====================================================\n",
    "                folds = train\n",
    "                train_folds = folds[folds['fold'] != fold].reset_index(drop=True)\n",
    "                valid_folds = folds[folds['fold'] == fold].reset_index(drop=True)\n",
    "                valid_labels = valid_folds['score'].values\n",
    "\n",
    "                train_dataset = TrainDataset(CFG, train_folds)\n",
    "                valid_dataset = TrainDataset(CFG, valid_folds)\n",
    "\n",
    "                train_loader = DataLoader(train_dataset,\n",
    "                                          batch_size=CFG.batch_size,\n",
    "                                          shuffle=True,\n",
    "                                          num_workers=CFG.num_workers, pin_memory=True, drop_last=True)\n",
    "                valid_loader = DataLoader(valid_dataset,\n",
    "                                          batch_size=CFG.batch_size,\n",
    "                                          shuffle=False,\n",
    "                                          num_workers=CFG.num_workers, pin_memory=True, drop_last=False)\n",
    "\n",
    "#                 _oof_df = train_loop(train, fold)\n",
    "                _oof_df = train_loop(train_loader, valid_loader)\n",
    "                oof_df = pd.concat([oof_df, _oof_df])\n",
    "                LOGGER.info(f\"========== fold: {fold} result ==========\")\n",
    "                get_result(_oof_df)\n",
    "        oof_df = oof_df.reset_index(drop=True)\n",
    "        LOGGER.info(f\"========== CV ==========\")\n",
    "        get_result(oof_df)\n",
    "        oof_df.to_pickle(OUTPUT_DIR+'oof_df.pkl')\n",
    "        \n",
    "    if CFG.wandb:\n",
    "        wandb.finish()"
   ]
  },
  {
   "cell_type": "code",
   "execution_count": 28,
   "id": "6b65b21c",
   "metadata": {},
   "outputs": [
    {
     "name": "stdout",
     "output_type": "stream",
     "text": [
      "27489.50811314583 hour\n"
     ]
    }
   ],
   "source": [
    "print(f'{time.time()-start} hour')"
   ]
  },
  {
   "cell_type": "code",
   "execution_count": 29,
   "id": "5c638e57",
   "metadata": {},
   "outputs": [],
   "source": [
    "!touch trained_list/bert-large.txt"
   ]
  },
  {
   "cell_type": "code",
   "execution_count": 30,
   "id": "10743e3c-5bff-46c5-8e9d-0f4b3f051a79",
   "metadata": {},
   "outputs": [
    {
     "name": "stderr",
     "output_type": "stream",
     "text": [
      "max_len: 125\n"
     ]
    }
   ],
   "source": [
    "LOGGER.info(f\"max_len: {CFG.max_len}\")"
   ]
  },
  {
   "cell_type": "code",
   "execution_count": null,
   "id": "5ffc0430-37d5-4e3c-937c-a24c6c5c96dc",
   "metadata": {},
   "outputs": [],
   "source": []
  },
  {
   "cell_type": "code",
   "execution_count": null,
   "id": "2e30d85c-df17-4211-ab0f-3886dd942276",
   "metadata": {},
   "outputs": [],
   "source": []
  },
  {
   "cell_type": "code",
   "execution_count": null,
   "id": "060989e4-10a2-4eeb-b39e-1451aab2e77c",
   "metadata": {},
   "outputs": [],
   "source": []
  },
  {
   "cell_type": "code",
   "execution_count": null,
   "id": "2f2cb436-b039-4232-9e65-cbf3b509e79b",
   "metadata": {},
   "outputs": [],
   "source": []
  },
  {
   "cell_type": "code",
   "execution_count": null,
   "id": "cd2afeb9-6924-47cc-a138-3af2a28fe70b",
   "metadata": {},
   "outputs": [],
   "source": []
  }
 ],
 "metadata": {
  "kernelspec": {
   "display_name": "Python 3 (ipykernel)",
   "language": "python",
   "name": "python3"
  },
  "language_info": {
   "codemirror_mode": {
    "name": "ipython",
    "version": 3
   },
   "file_extension": ".py",
   "mimetype": "text/x-python",
   "name": "python",
   "nbconvert_exporter": "python",
   "pygments_lexer": "ipython3",
   "version": "3.7.12"
  },
  "papermill": {
   "default_parameters": {},
   "duration": 30329.017674,
   "end_time": "2022-03-22T18:05:22.040486",
   "environment_variables": {},
   "exception": null,
   "input_path": "__notebook__.ipynb",
   "output_path": "__notebook__.ipynb",
   "parameters": {},
   "start_time": "2022-03-22T09:39:53.022812",
   "version": "2.3.3"
  },
  "widgets": {
   "application/vnd.jupyter.widget-state+json": {
    "state": {
     "126a1e5f24e44838a03204815209c5dc": {
      "model_module": "@jupyter-widgets/controls",
      "model_module_version": "1.5.0",
      "model_name": "ProgressStyleModel",
      "state": {
       "_model_module": "@jupyter-widgets/controls",
       "_model_module_version": "1.5.0",
       "_model_name": "ProgressStyleModel",
       "_view_count": null,
       "_view_module": "@jupyter-widgets/base",
       "_view_module_version": "1.2.0",
       "_view_name": "StyleView",
       "bar_color": null,
       "description_width": ""
      }
     },
     "12d0d3a78caf4f8c93da02229f2185df": {
      "model_module": "@jupyter-widgets/base",
      "model_module_version": "1.2.0",
      "model_name": "LayoutModel",
      "state": {
       "_model_module": "@jupyter-widgets/base",
       "_model_module_version": "1.2.0",
       "_model_name": "LayoutModel",
       "_view_count": null,
       "_view_module": "@jupyter-widgets/base",
       "_view_module_version": "1.2.0",
       "_view_name": "LayoutView",
       "align_content": null,
       "align_items": null,
       "align_self": null,
       "border": null,
       "bottom": null,
       "display": null,
       "flex": null,
       "flex_flow": null,
       "grid_area": null,
       "grid_auto_columns": null,
       "grid_auto_flow": null,
       "grid_auto_rows": null,
       "grid_column": null,
       "grid_gap": null,
       "grid_row": null,
       "grid_template_areas": null,
       "grid_template_columns": null,
       "grid_template_rows": null,
       "height": null,
       "justify_content": null,
       "justify_items": null,
       "left": null,
       "margin": null,
       "max_height": null,
       "max_width": null,
       "min_height": null,
       "min_width": null,
       "object_fit": null,
       "object_position": null,
       "order": null,
       "overflow": null,
       "overflow_x": null,
       "overflow_y": null,
       "padding": null,
       "right": null,
       "top": null,
       "visibility": null,
       "width": null
      }
     },
     "14972cafd36646939e742a987e1d0ec7": {
      "model_module": "@jupyter-widgets/base",
      "model_module_version": "1.2.0",
      "model_name": "LayoutModel",
      "state": {
       "_model_module": "@jupyter-widgets/base",
       "_model_module_version": "1.2.0",
       "_model_name": "LayoutModel",
       "_view_count": null,
       "_view_module": "@jupyter-widgets/base",
       "_view_module_version": "1.2.0",
       "_view_name": "LayoutView",
       "align_content": null,
       "align_items": null,
       "align_self": null,
       "border": null,
       "bottom": null,
       "display": null,
       "flex": null,
       "flex_flow": null,
       "grid_area": null,
       "grid_auto_columns": null,
       "grid_auto_flow": null,
       "grid_auto_rows": null,
       "grid_column": null,
       "grid_gap": null,
       "grid_row": null,
       "grid_template_areas": null,
       "grid_template_columns": null,
       "grid_template_rows": null,
       "height": null,
       "justify_content": null,
       "justify_items": null,
       "left": null,
       "margin": null,
       "max_height": null,
       "max_width": null,
       "min_height": null,
       "min_width": null,
       "object_fit": null,
       "object_position": null,
       "order": null,
       "overflow": null,
       "overflow_x": null,
       "overflow_y": null,
       "padding": null,
       "right": null,
       "top": null,
       "visibility": null,
       "width": null
      }
     },
     "181ebde2d0064fb99b8ec32e9dc76836": {
      "model_module": "@jupyter-widgets/controls",
      "model_module_version": "1.5.0",
      "model_name": "HTMLModel",
      "state": {
       "_dom_classes": [],
       "_model_module": "@jupyter-widgets/controls",
       "_model_module_version": "1.5.0",
       "_model_name": "HTMLModel",
       "_view_count": null,
       "_view_module": "@jupyter-widgets/controls",
       "_view_module_version": "1.5.0",
       "_view_name": "HTMLView",
       "description": "",
       "description_tooltip": null,
       "layout": "IPY_MODEL_c1e8e53062324cf38fbd75eab01e066a",
       "placeholder": "​",
       "style": "IPY_MODEL_3feaf01a7f7b43ed923effab61b93ac4",
       "value": " 36473/36473 [00:03&lt;00:00, 12012.58it/s]"
      }
     },
     "1c5d07635bff4f7999e3e8486f648aaf": {
      "model_module": "@jupyter-widgets/controls",
      "model_module_version": "1.5.0",
      "model_name": "FloatProgressModel",
      "state": {
       "_dom_classes": [],
       "_model_module": "@jupyter-widgets/controls",
       "_model_module_version": "1.5.0",
       "_model_name": "FloatProgressModel",
       "_view_count": null,
       "_view_module": "@jupyter-widgets/controls",
       "_view_module_version": "1.5.0",
       "_view_name": "ProgressView",
       "bar_style": "success",
       "description": "",
       "description_tooltip": null,
       "layout": "IPY_MODEL_87214ce12c1f422481a0fe3caf5a3ce8",
       "max": 2464616,
       "min": 0,
       "orientation": "horizontal",
       "style": "IPY_MODEL_d9f0d96d140a4115aadfdfc9ce5ba608",
       "value": 2464616
      }
     },
     "1d83ae8940534922833de4d1fdd71216": {
      "model_module": "@jupyter-widgets/base",
      "model_module_version": "1.2.0",
      "model_name": "LayoutModel",
      "state": {
       "_model_module": "@jupyter-widgets/base",
       "_model_module_version": "1.2.0",
       "_model_name": "LayoutModel",
       "_view_count": null,
       "_view_module": "@jupyter-widgets/base",
       "_view_module_version": "1.2.0",
       "_view_name": "LayoutView",
       "align_content": null,
       "align_items": null,
       "align_self": null,
       "border": null,
       "bottom": null,
       "display": null,
       "flex": null,
       "flex_flow": null,
       "grid_area": null,
       "grid_auto_columns": null,
       "grid_auto_flow": null,
       "grid_auto_rows": null,
       "grid_column": null,
       "grid_gap": null,
       "grid_row": null,
       "grid_template_areas": null,
       "grid_template_columns": null,
       "grid_template_rows": null,
       "height": null,
       "justify_content": null,
       "justify_items": null,
       "left": null,
       "margin": null,
       "max_height": null,
       "max_width": null,
       "min_height": null,
       "min_width": null,
       "object_fit": null,
       "object_position": null,
       "order": null,
       "overflow": null,
       "overflow_x": null,
       "overflow_y": null,
       "padding": null,
       "right": null,
       "top": null,
       "visibility": null,
       "width": null
      }
     },
     "2373dbe30aca4d64b94b5bb64216151e": {
      "model_module": "@jupyter-widgets/base",
      "model_module_version": "1.2.0",
      "model_name": "LayoutModel",
      "state": {
       "_model_module": "@jupyter-widgets/base",
       "_model_module_version": "1.2.0",
       "_model_name": "LayoutModel",
       "_view_count": null,
       "_view_module": "@jupyter-widgets/base",
       "_view_module_version": "1.2.0",
       "_view_name": "LayoutView",
       "align_content": null,
       "align_items": null,
       "align_self": null,
       "border": null,
       "bottom": null,
       "display": null,
       "flex": null,
       "flex_flow": null,
       "grid_area": null,
       "grid_auto_columns": null,
       "grid_auto_flow": null,
       "grid_auto_rows": null,
       "grid_column": null,
       "grid_gap": null,
       "grid_row": null,
       "grid_template_areas": null,
       "grid_template_columns": null,
       "grid_template_rows": null,
       "height": null,
       "justify_content": null,
       "justify_items": null,
       "left": null,
       "margin": null,
       "max_height": null,
       "max_width": null,
       "min_height": null,
       "min_width": null,
       "object_fit": null,
       "object_position": null,
       "order": null,
       "overflow": null,
       "overflow_x": null,
       "overflow_y": null,
       "padding": null,
       "right": null,
       "top": null,
       "visibility": null,
       "width": null
      }
     },
     "251e902150c543d2a2212b4250931617": {
      "model_module": "@jupyter-widgets/controls",
      "model_module_version": "1.5.0",
      "model_name": "HBoxModel",
      "state": {
       "_dom_classes": [],
       "_model_module": "@jupyter-widgets/controls",
       "_model_module_version": "1.5.0",
       "_model_name": "HBoxModel",
       "_view_count": null,
       "_view_module": "@jupyter-widgets/controls",
       "_view_module_version": "1.5.0",
       "_view_name": "HBoxView",
       "box_style": "",
       "children": [
        "IPY_MODEL_7d211c0746b64a0b935fa964ad7bd858",
        "IPY_MODEL_432a848a161c4a0888dad1ac9c5408c3",
        "IPY_MODEL_181ebde2d0064fb99b8ec32e9dc76836"
       ],
       "layout": "IPY_MODEL_5d82f1a2cf554609ba65dfb95dc152e5"
      }
     },
     "2866d577bb3049b283da7c969f175d91": {
      "model_module": "@jupyter-widgets/controls",
      "model_module_version": "1.5.0",
      "model_name": "HBoxModel",
      "state": {
       "_dom_classes": [],
       "_model_module": "@jupyter-widgets/controls",
       "_model_module_version": "1.5.0",
       "_model_name": "HBoxModel",
       "_view_count": null,
       "_view_module": "@jupyter-widgets/controls",
       "_view_module_version": "1.5.0",
       "_view_name": "HBoxView",
       "box_style": "",
       "children": [
        "IPY_MODEL_673fb48e7dca47f4a3754d06af7dcf1f",
        "IPY_MODEL_bba517b096dd460cb764ccd71b57f148",
        "IPY_MODEL_362ef79e65894ea9aaae390562257f58"
       ],
       "layout": "IPY_MODEL_9d403276e05f4c368e46f353070b9d9a"
      }
     },
     "291ab6d32ec345ee8adaa6f354bfcfb4": {
      "model_module": "@jupyter-widgets/controls",
      "model_module_version": "1.5.0",
      "model_name": "HTMLModel",
      "state": {
       "_dom_classes": [],
       "_model_module": "@jupyter-widgets/controls",
       "_model_module_version": "1.5.0",
       "_model_name": "HTMLModel",
       "_view_count": null,
       "_view_module": "@jupyter-widgets/controls",
       "_view_module_version": "1.5.0",
       "_view_name": "HTMLView",
       "description": "",
       "description_tooltip": null,
       "layout": "IPY_MODEL_12d0d3a78caf4f8c93da02229f2185df",
       "placeholder": "​",
       "style": "IPY_MODEL_de3e60ed24f04a7ab49a05b98b7cf0f0",
       "value": " 36473/36473 [00:03&lt;00:00, 7261.90it/s]"
      }
     },
     "341389680b6a43d8b6b3de95dffca671": {
      "model_module": "@jupyter-widgets/base",
      "model_module_version": "1.2.0",
      "model_name": "LayoutModel",
      "state": {
       "_model_module": "@jupyter-widgets/base",
       "_model_module_version": "1.2.0",
       "_model_name": "LayoutModel",
       "_view_count": null,
       "_view_module": "@jupyter-widgets/base",
       "_view_module_version": "1.2.0",
       "_view_name": "LayoutView",
       "align_content": null,
       "align_items": null,
       "align_self": null,
       "border": null,
       "bottom": null,
       "display": null,
       "flex": null,
       "flex_flow": null,
       "grid_area": null,
       "grid_auto_columns": null,
       "grid_auto_flow": null,
       "grid_auto_rows": null,
       "grid_column": null,
       "grid_gap": null,
       "grid_row": null,
       "grid_template_areas": null,
       "grid_template_columns": null,
       "grid_template_rows": null,
       "height": null,
       "justify_content": null,
       "justify_items": null,
       "left": null,
       "margin": null,
       "max_height": null,
       "max_width": null,
       "min_height": null,
       "min_width": null,
       "object_fit": null,
       "object_position": null,
       "order": null,
       "overflow": null,
       "overflow_x": null,
       "overflow_y": null,
       "padding": null,
       "right": null,
       "top": null,
       "visibility": null,
       "width": null
      }
     },
     "349e43c8d4114c36823434cef63fc567": {
      "model_module": "@jupyter-widgets/controls",
      "model_module_version": "1.5.0",
      "model_name": "ProgressStyleModel",
      "state": {
       "_model_module": "@jupyter-widgets/controls",
       "_model_module_version": "1.5.0",
       "_model_name": "ProgressStyleModel",
       "_view_count": null,
       "_view_module": "@jupyter-widgets/base",
       "_view_module_version": "1.2.0",
       "_view_name": "StyleView",
       "bar_color": null,
       "description_width": ""
      }
     },
     "35cb92ba1b2d4932bc3a0b0640f71b0c": {
      "model_module": "@jupyter-widgets/controls",
      "model_module_version": "1.5.0",
      "model_name": "DescriptionStyleModel",
      "state": {
       "_model_module": "@jupyter-widgets/controls",
       "_model_module_version": "1.5.0",
       "_model_name": "DescriptionStyleModel",
       "_view_count": null,
       "_view_module": "@jupyter-widgets/base",
       "_view_module_version": "1.2.0",
       "_view_name": "StyleView",
       "description_width": ""
      }
     },
     "360314d0f3254b66818b8a62223c2b0b": {
      "model_module": "@jupyter-widgets/base",
      "model_module_version": "1.2.0",
      "model_name": "LayoutModel",
      "state": {
       "_model_module": "@jupyter-widgets/base",
       "_model_module_version": "1.2.0",
       "_model_name": "LayoutModel",
       "_view_count": null,
       "_view_module": "@jupyter-widgets/base",
       "_view_module_version": "1.2.0",
       "_view_name": "LayoutView",
       "align_content": null,
       "align_items": null,
       "align_self": null,
       "border": null,
       "bottom": null,
       "display": null,
       "flex": null,
       "flex_flow": null,
       "grid_area": null,
       "grid_auto_columns": null,
       "grid_auto_flow": null,
       "grid_auto_rows": null,
       "grid_column": null,
       "grid_gap": null,
       "grid_row": null,
       "grid_template_areas": null,
       "grid_template_columns": null,
       "grid_template_rows": null,
       "height": null,
       "justify_content": null,
       "justify_items": null,
       "left": null,
       "margin": null,
       "max_height": null,
       "max_width": null,
       "min_height": null,
       "min_width": null,
       "object_fit": null,
       "object_position": null,
       "order": null,
       "overflow": null,
       "overflow_x": null,
       "overflow_y": null,
       "padding": null,
       "right": null,
       "top": null,
       "visibility": null,
       "width": null
      }
     },
     "362ef79e65894ea9aaae390562257f58": {
      "model_module": "@jupyter-widgets/controls",
      "model_module_version": "1.5.0",
      "model_name": "HTMLModel",
      "state": {
       "_dom_classes": [],
       "_model_module": "@jupyter-widgets/controls",
       "_model_module_version": "1.5.0",
       "_model_name": "HTMLModel",
       "_view_count": null,
       "_view_module": "@jupyter-widgets/controls",
       "_view_module_version": "1.5.0",
       "_view_name": "HTMLView",
       "description": "",
       "description_tooltip": null,
       "layout": "IPY_MODEL_4e94a902a0d44b1eacfaeee99cd470d2",
       "placeholder": "​",
       "style": "IPY_MODEL_ad6386dafce545c48eac271bb2a3c0dd",
       "value": " 136/136 [00:00&lt;00:00, 2149.45it/s]"
      }
     },
     "39512e7ede884ec1b6fe92f794e1d74d": {
      "model_module": "@jupyter-widgets/base",
      "model_module_version": "1.2.0",
      "model_name": "LayoutModel",
      "state": {
       "_model_module": "@jupyter-widgets/base",
       "_model_module_version": "1.2.0",
       "_model_name": "LayoutModel",
       "_view_count": null,
       "_view_module": "@jupyter-widgets/base",
       "_view_module_version": "1.2.0",
       "_view_name": "LayoutView",
       "align_content": null,
       "align_items": null,
       "align_self": null,
       "border": null,
       "bottom": null,
       "display": null,
       "flex": null,
       "flex_flow": null,
       "grid_area": null,
       "grid_auto_columns": null,
       "grid_auto_flow": null,
       "grid_auto_rows": null,
       "grid_column": null,
       "grid_gap": null,
       "grid_row": null,
       "grid_template_areas": null,
       "grid_template_columns": null,
       "grid_template_rows": null,
       "height": null,
       "justify_content": null,
       "justify_items": null,
       "left": null,
       "margin": null,
       "max_height": null,
       "max_width": null,
       "min_height": null,
       "min_width": null,
       "object_fit": null,
       "object_position": null,
       "order": null,
       "overflow": null,
       "overflow_x": null,
       "overflow_y": null,
       "padding": null,
       "right": null,
       "top": null,
       "visibility": null,
       "width": null
      }
     },
     "3b0ebe22bd154b01bcb4d6b2ab2dec83": {
      "model_module": "@jupyter-widgets/controls",
      "model_module_version": "1.5.0",
      "model_name": "HTMLModel",
      "state": {
       "_dom_classes": [],
       "_model_module": "@jupyter-widgets/controls",
       "_model_module_version": "1.5.0",
       "_model_name": "HTMLModel",
       "_view_count": null,
       "_view_module": "@jupyter-widgets/controls",
       "_view_module_version": "1.5.0",
       "_view_name": "HTMLView",
       "description": "",
       "description_tooltip": null,
       "layout": "IPY_MODEL_ad4745f1eca942009bdf6cf12913f34a",
       "placeholder": "​",
       "style": "IPY_MODEL_d3b6e4a4aac943b79ba51bbacd77907e",
       "value": " 2.35M/2.35M [00:00&lt;00:00, 4.49MB/s]"
      }
     },
     "3e601d15c9ef4bd1b05e70f9267e1dfe": {
      "model_module": "@jupyter-widgets/controls",
      "model_module_version": "1.5.0",
      "model_name": "DescriptionStyleModel",
      "state": {
       "_model_module": "@jupyter-widgets/controls",
       "_model_module_version": "1.5.0",
       "_model_name": "DescriptionStyleModel",
       "_view_count": null,
       "_view_module": "@jupyter-widgets/base",
       "_view_module_version": "1.2.0",
       "_view_name": "StyleView",
       "description_width": ""
      }
     },
     "3feaf01a7f7b43ed923effab61b93ac4": {
      "model_module": "@jupyter-widgets/controls",
      "model_module_version": "1.5.0",
      "model_name": "DescriptionStyleModel",
      "state": {
       "_model_module": "@jupyter-widgets/controls",
       "_model_module_version": "1.5.0",
       "_model_name": "DescriptionStyleModel",
       "_view_count": null,
       "_view_module": "@jupyter-widgets/base",
       "_view_module_version": "1.2.0",
       "_view_name": "StyleView",
       "description_width": ""
      }
     },
     "4133e3e34f97426c9bebda989ec7e167": {
      "model_module": "@jupyter-widgets/controls",
      "model_module_version": "1.5.0",
      "model_name": "HBoxModel",
      "state": {
       "_dom_classes": [],
       "_model_module": "@jupyter-widgets/controls",
       "_model_module_version": "1.5.0",
       "_model_name": "HBoxModel",
       "_view_count": null,
       "_view_module": "@jupyter-widgets/controls",
       "_view_module_version": "1.5.0",
       "_view_name": "HBoxView",
       "box_style": "",
       "children": [
        "IPY_MODEL_48b36757767f4ff39f262dd63e844057",
        "IPY_MODEL_a03e24ff8fc54bccaa69e36839b36bab",
        "IPY_MODEL_e3e17f880bab4d47a1531bebac861fda"
       ],
       "layout": "IPY_MODEL_da88817e8aed48399b1948f8e004ee97"
      }
     },
     "43014906a0084e288ab06cb3ebf57538": {
      "model_module": "@jupyter-widgets/controls",
      "model_module_version": "1.5.0",
      "model_name": "HTMLModel",
      "state": {
       "_dom_classes": [],
       "_model_module": "@jupyter-widgets/controls",
       "_model_module_version": "1.5.0",
       "_model_name": "HTMLModel",
       "_view_count": null,
       "_view_module": "@jupyter-widgets/controls",
       "_view_module_version": "1.5.0",
       "_view_name": "HTMLView",
       "description": "",
       "description_tooltip": null,
       "layout": "IPY_MODEL_968e2989cea6490d9ee08b6700291242",
       "placeholder": "​",
       "style": "IPY_MODEL_929108014ee94c9092394cf7ef09134f",
       "value": "Downloading: 100%"
      }
     },
     "432a848a161c4a0888dad1ac9c5408c3": {
      "model_module": "@jupyter-widgets/controls",
      "model_module_version": "1.5.0",
      "model_name": "FloatProgressModel",
      "state": {
       "_dom_classes": [],
       "_model_module": "@jupyter-widgets/controls",
       "_model_module_version": "1.5.0",
       "_model_name": "FloatProgressModel",
       "_view_count": null,
       "_view_module": "@jupyter-widgets/controls",
       "_view_module_version": "1.5.0",
       "_view_name": "ProgressView",
       "bar_style": "success",
       "description": "",
       "description_tooltip": null,
       "layout": "IPY_MODEL_39512e7ede884ec1b6fe92f794e1d74d",
       "max": 36473,
       "min": 0,
       "orientation": "horizontal",
       "style": "IPY_MODEL_466a744f951d433da986e75bc9fd3b69",
       "value": 36473
      }
     },
     "466a744f951d433da986e75bc9fd3b69": {
      "model_module": "@jupyter-widgets/controls",
      "model_module_version": "1.5.0",
      "model_name": "ProgressStyleModel",
      "state": {
       "_model_module": "@jupyter-widgets/controls",
       "_model_module_version": "1.5.0",
       "_model_name": "ProgressStyleModel",
       "_view_count": null,
       "_view_module": "@jupyter-widgets/base",
       "_view_module_version": "1.2.0",
       "_view_name": "StyleView",
       "bar_color": null,
       "description_width": ""
      }
     },
     "46ab7441760642718f381e7f430e16a0": {
      "model_module": "@jupyter-widgets/controls",
      "model_module_version": "1.5.0",
      "model_name": "DescriptionStyleModel",
      "state": {
       "_model_module": "@jupyter-widgets/controls",
       "_model_module_version": "1.5.0",
       "_model_name": "DescriptionStyleModel",
       "_view_count": null,
       "_view_module": "@jupyter-widgets/base",
       "_view_module_version": "1.2.0",
       "_view_name": "StyleView",
       "description_width": ""
      }
     },
     "48b36757767f4ff39f262dd63e844057": {
      "model_module": "@jupyter-widgets/controls",
      "model_module_version": "1.5.0",
      "model_name": "HTMLModel",
      "state": {
       "_dom_classes": [],
       "_model_module": "@jupyter-widgets/controls",
       "_model_module_version": "1.5.0",
       "_model_name": "HTMLModel",
       "_view_count": null,
       "_view_module": "@jupyter-widgets/controls",
       "_view_module_version": "1.5.0",
       "_view_name": "HTMLView",
       "description": "",
       "description_tooltip": null,
       "layout": "IPY_MODEL_14972cafd36646939e742a987e1d0ec7",
       "placeholder": "​",
       "style": "IPY_MODEL_3e601d15c9ef4bd1b05e70f9267e1dfe",
       "value": "Downloading: 100%"
      }
     },
     "4c514a00a080445da009d272716b3577": {
      "model_module": "@jupyter-widgets/controls",
      "model_module_version": "1.5.0",
      "model_name": "HTMLModel",
      "state": {
       "_dom_classes": [],
       "_model_module": "@jupyter-widgets/controls",
       "_model_module_version": "1.5.0",
       "_model_name": "HTMLModel",
       "_view_count": null,
       "_view_module": "@jupyter-widgets/controls",
       "_view_module_version": "1.5.0",
       "_view_name": "HTMLView",
       "description": "",
       "description_tooltip": null,
       "layout": "IPY_MODEL_81b1213eb9dc4aa083951352d9f6beaf",
       "placeholder": "​",
       "style": "IPY_MODEL_7603cb9268524ed3821b4f307f74d15e",
       "value": "Downloading: 100%"
      }
     },
     "4e94a902a0d44b1eacfaeee99cd470d2": {
      "model_module": "@jupyter-widgets/base",
      "model_module_version": "1.2.0",
      "model_name": "LayoutModel",
      "state": {
       "_model_module": "@jupyter-widgets/base",
       "_model_module_version": "1.2.0",
       "_model_name": "LayoutModel",
       "_view_count": null,
       "_view_module": "@jupyter-widgets/base",
       "_view_module_version": "1.2.0",
       "_view_name": "LayoutView",
       "align_content": null,
       "align_items": null,
       "align_self": null,
       "border": null,
       "bottom": null,
       "display": null,
       "flex": null,
       "flex_flow": null,
       "grid_area": null,
       "grid_auto_columns": null,
       "grid_auto_flow": null,
       "grid_auto_rows": null,
       "grid_column": null,
       "grid_gap": null,
       "grid_row": null,
       "grid_template_areas": null,
       "grid_template_columns": null,
       "grid_template_rows": null,
       "height": null,
       "justify_content": null,
       "justify_items": null,
       "left": null,
       "margin": null,
       "max_height": null,
       "max_width": null,
       "min_height": null,
       "min_width": null,
       "object_fit": null,
       "object_position": null,
       "order": null,
       "overflow": null,
       "overflow_x": null,
       "overflow_y": null,
       "padding": null,
       "right": null,
       "top": null,
       "visibility": null,
       "width": null
      }
     },
     "5235854cc7964193afec8b3316b36ef7": {
      "model_module": "@jupyter-widgets/controls",
      "model_module_version": "1.5.0",
      "model_name": "HBoxModel",
      "state": {
       "_dom_classes": [],
       "_model_module": "@jupyter-widgets/controls",
       "_model_module_version": "1.5.0",
       "_model_name": "HBoxModel",
       "_view_count": null,
       "_view_module": "@jupyter-widgets/controls",
       "_view_module_version": "1.5.0",
       "_view_name": "HBoxView",
       "box_style": "",
       "children": [
        "IPY_MODEL_58c973b1ea8a446e9993f32d3612c8b9",
        "IPY_MODEL_b849e52bd84942e583de4b9325c96afe",
        "IPY_MODEL_291ab6d32ec345ee8adaa6f354bfcfb4"
       ],
       "layout": "IPY_MODEL_fb6b7fc69b2549ab9d80d71017422178"
      }
     },
     "58c973b1ea8a446e9993f32d3612c8b9": {
      "model_module": "@jupyter-widgets/controls",
      "model_module_version": "1.5.0",
      "model_name": "HTMLModel",
      "state": {
       "_dom_classes": [],
       "_model_module": "@jupyter-widgets/controls",
       "_model_module_version": "1.5.0",
       "_model_name": "HTMLModel",
       "_view_count": null,
       "_view_module": "@jupyter-widgets/controls",
       "_view_module_version": "1.5.0",
       "_view_name": "HTMLView",
       "description": "",
       "description_tooltip": null,
       "layout": "IPY_MODEL_360314d0f3254b66818b8a62223c2b0b",
       "placeholder": "​",
       "style": "IPY_MODEL_c5de80b22af543edb57e65780298069e",
       "value": "100%"
      }
     },
     "5a2b3274110a42159fcfb2e01ceea10a": {
      "model_module": "@jupyter-widgets/controls",
      "model_module_version": "1.5.0",
      "model_name": "HBoxModel",
      "state": {
       "_dom_classes": [],
       "_model_module": "@jupyter-widgets/controls",
       "_model_module_version": "1.5.0",
       "_model_name": "HBoxModel",
       "_view_count": null,
       "_view_module": "@jupyter-widgets/controls",
       "_view_module_version": "1.5.0",
       "_view_name": "HBoxView",
       "box_style": "",
       "children": [
        "IPY_MODEL_43014906a0084e288ab06cb3ebf57538",
        "IPY_MODEL_1c5d07635bff4f7999e3e8486f648aaf",
        "IPY_MODEL_3b0ebe22bd154b01bcb4d6b2ab2dec83"
       ],
       "layout": "IPY_MODEL_2373dbe30aca4d64b94b5bb64216151e"
      }
     },
     "5d82f1a2cf554609ba65dfb95dc152e5": {
      "model_module": "@jupyter-widgets/base",
      "model_module_version": "1.2.0",
      "model_name": "LayoutModel",
      "state": {
       "_model_module": "@jupyter-widgets/base",
       "_model_module_version": "1.2.0",
       "_model_name": "LayoutModel",
       "_view_count": null,
       "_view_module": "@jupyter-widgets/base",
       "_view_module_version": "1.2.0",
       "_view_name": "LayoutView",
       "align_content": null,
       "align_items": null,
       "align_self": null,
       "border": null,
       "bottom": null,
       "display": null,
       "flex": null,
       "flex_flow": null,
       "grid_area": null,
       "grid_auto_columns": null,
       "grid_auto_flow": null,
       "grid_auto_rows": null,
       "grid_column": null,
       "grid_gap": null,
       "grid_row": null,
       "grid_template_areas": null,
       "grid_template_columns": null,
       "grid_template_rows": null,
       "height": null,
       "justify_content": null,
       "justify_items": null,
       "left": null,
       "margin": null,
       "max_height": null,
       "max_width": null,
       "min_height": null,
       "min_width": null,
       "object_fit": null,
       "object_position": null,
       "order": null,
       "overflow": null,
       "overflow_x": null,
       "overflow_y": null,
       "padding": null,
       "right": null,
       "top": null,
       "visibility": null,
       "width": null
      }
     },
     "5ffb53b010e948a0918366a7721dd7a9": {
      "model_module": "@jupyter-widgets/controls",
      "model_module_version": "1.5.0",
      "model_name": "LabelModel",
      "state": {
       "_dom_classes": [],
       "_model_module": "@jupyter-widgets/controls",
       "_model_module_version": "1.5.0",
       "_model_name": "LabelModel",
       "_view_count": null,
       "_view_module": "@jupyter-widgets/controls",
       "_view_module_version": "1.5.0",
       "_view_name": "LabelView",
       "description": "",
       "description_tooltip": null,
       "layout": "IPY_MODEL_aaf4c8e1ae794178bd2db64c5c27edcd",
       "placeholder": "​",
       "style": "IPY_MODEL_ff0d93c0f2a54cae8698028db31d1454",
       "value": "0.065 MB of 0.065 MB uploaded (0.000 MB deduped)\r"
      }
     },
     "65f9dfd885184f818373dcaf8b820da7": {
      "model_module": "@jupyter-widgets/base",
      "model_module_version": "1.2.0",
      "model_name": "LayoutModel",
      "state": {
       "_model_module": "@jupyter-widgets/base",
       "_model_module_version": "1.2.0",
       "_model_name": "LayoutModel",
       "_view_count": null,
       "_view_module": "@jupyter-widgets/base",
       "_view_module_version": "1.2.0",
       "_view_name": "LayoutView",
       "align_content": null,
       "align_items": null,
       "align_self": null,
       "border": null,
       "bottom": null,
       "display": null,
       "flex": null,
       "flex_flow": null,
       "grid_area": null,
       "grid_auto_columns": null,
       "grid_auto_flow": null,
       "grid_auto_rows": null,
       "grid_column": null,
       "grid_gap": null,
       "grid_row": null,
       "grid_template_areas": null,
       "grid_template_columns": null,
       "grid_template_rows": null,
       "height": null,
       "justify_content": null,
       "justify_items": null,
       "left": null,
       "margin": null,
       "max_height": null,
       "max_width": null,
       "min_height": null,
       "min_width": null,
       "object_fit": null,
       "object_position": null,
       "order": null,
       "overflow": null,
       "overflow_x": null,
       "overflow_y": null,
       "padding": null,
       "right": null,
       "top": null,
       "visibility": null,
       "width": null
      }
     },
     "673fb48e7dca47f4a3754d06af7dcf1f": {
      "model_module": "@jupyter-widgets/controls",
      "model_module_version": "1.5.0",
      "model_name": "HTMLModel",
      "state": {
       "_dom_classes": [],
       "_model_module": "@jupyter-widgets/controls",
       "_model_module_version": "1.5.0",
       "_model_name": "HTMLModel",
       "_view_count": null,
       "_view_module": "@jupyter-widgets/controls",
       "_view_module_version": "1.5.0",
       "_view_name": "HTMLView",
       "description": "",
       "description_tooltip": null,
       "layout": "IPY_MODEL_749c407f4aa34689954d06117f699f3c",
       "placeholder": "​",
       "style": "IPY_MODEL_bb944cd3fb694105a4d535f4e9c333a8",
       "value": "100%"
      }
     },
     "6947506e822e46d99b4dd82a8a4209cd": {
      "model_module": "@jupyter-widgets/base",
      "model_module_version": "1.2.0",
      "model_name": "LayoutModel",
      "state": {
       "_model_module": "@jupyter-widgets/base",
       "_model_module_version": "1.2.0",
       "_model_name": "LayoutModel",
       "_view_count": null,
       "_view_module": "@jupyter-widgets/base",
       "_view_module_version": "1.2.0",
       "_view_name": "LayoutView",
       "align_content": null,
       "align_items": null,
       "align_self": null,
       "border": null,
       "bottom": null,
       "display": null,
       "flex": null,
       "flex_flow": null,
       "grid_area": null,
       "grid_auto_columns": null,
       "grid_auto_flow": null,
       "grid_auto_rows": null,
       "grid_column": null,
       "grid_gap": null,
       "grid_row": null,
       "grid_template_areas": null,
       "grid_template_columns": null,
       "grid_template_rows": null,
       "height": null,
       "justify_content": null,
       "justify_items": null,
       "left": null,
       "margin": null,
       "max_height": null,
       "max_width": null,
       "min_height": null,
       "min_width": null,
       "object_fit": null,
       "object_position": null,
       "order": null,
       "overflow": null,
       "overflow_x": null,
       "overflow_y": null,
       "padding": null,
       "right": null,
       "top": null,
       "visibility": null,
       "width": null
      }
     },
     "749c407f4aa34689954d06117f699f3c": {
      "model_module": "@jupyter-widgets/base",
      "model_module_version": "1.2.0",
      "model_name": "LayoutModel",
      "state": {
       "_model_module": "@jupyter-widgets/base",
       "_model_module_version": "1.2.0",
       "_model_name": "LayoutModel",
       "_view_count": null,
       "_view_module": "@jupyter-widgets/base",
       "_view_module_version": "1.2.0",
       "_view_name": "LayoutView",
       "align_content": null,
       "align_items": null,
       "align_self": null,
       "border": null,
       "bottom": null,
       "display": null,
       "flex": null,
       "flex_flow": null,
       "grid_area": null,
       "grid_auto_columns": null,
       "grid_auto_flow": null,
       "grid_auto_rows": null,
       "grid_column": null,
       "grid_gap": null,
       "grid_row": null,
       "grid_template_areas": null,
       "grid_template_columns": null,
       "grid_template_rows": null,
       "height": null,
       "justify_content": null,
       "justify_items": null,
       "left": null,
       "margin": null,
       "max_height": null,
       "max_width": null,
       "min_height": null,
       "min_width": null,
       "object_fit": null,
       "object_position": null,
       "order": null,
       "overflow": null,
       "overflow_x": null,
       "overflow_y": null,
       "padding": null,
       "right": null,
       "top": null,
       "visibility": null,
       "width": null
      }
     },
     "7603cb9268524ed3821b4f307f74d15e": {
      "model_module": "@jupyter-widgets/controls",
      "model_module_version": "1.5.0",
      "model_name": "DescriptionStyleModel",
      "state": {
       "_model_module": "@jupyter-widgets/controls",
       "_model_module_version": "1.5.0",
       "_model_name": "DescriptionStyleModel",
       "_view_count": null,
       "_view_module": "@jupyter-widgets/base",
       "_view_module_version": "1.2.0",
       "_view_name": "StyleView",
       "description_width": ""
      }
     },
     "7d211c0746b64a0b935fa964ad7bd858": {
      "model_module": "@jupyter-widgets/controls",
      "model_module_version": "1.5.0",
      "model_name": "HTMLModel",
      "state": {
       "_dom_classes": [],
       "_model_module": "@jupyter-widgets/controls",
       "_model_module_version": "1.5.0",
       "_model_name": "HTMLModel",
       "_view_count": null,
       "_view_module": "@jupyter-widgets/controls",
       "_view_module_version": "1.5.0",
       "_view_name": "HTMLView",
       "description": "",
       "description_tooltip": null,
       "layout": "IPY_MODEL_f836cfd56e0d4d7188f1b263a5845bff",
       "placeholder": "​",
       "style": "IPY_MODEL_a87f939ae9cb44bf8d9eed523f5cb995",
       "value": "100%"
      }
     },
     "7fb6ee0e688440bab23c07808e5cef8b": {
      "model_module": "@jupyter-widgets/controls",
      "model_module_version": "1.5.0",
      "model_name": "FloatProgressModel",
      "state": {
       "_dom_classes": [],
       "_model_module": "@jupyter-widgets/controls",
       "_model_module_version": "1.5.0",
       "_model_name": "FloatProgressModel",
       "_view_count": null,
       "_view_module": "@jupyter-widgets/controls",
       "_view_module_version": "1.5.0",
       "_view_name": "ProgressView",
       "bar_style": "success",
       "description": "",
       "description_tooltip": null,
       "layout": "IPY_MODEL_c0dcc3eeec934d289bf99c7d14bab090",
       "max": 873673253,
       "min": 0,
       "orientation": "horizontal",
       "style": "IPY_MODEL_c4ff773d63e34e0c93e23aa455a97958",
       "value": 873673253
      }
     },
     "80f827d24b2e421bbe84d92c8dcc002b": {
      "model_module": "@jupyter-widgets/base",
      "model_module_version": "1.2.0",
      "model_name": "LayoutModel",
      "state": {
       "_model_module": "@jupyter-widgets/base",
       "_model_module_version": "1.2.0",
       "_model_name": "LayoutModel",
       "_view_count": null,
       "_view_module": "@jupyter-widgets/base",
       "_view_module_version": "1.2.0",
       "_view_name": "LayoutView",
       "align_content": null,
       "align_items": null,
       "align_self": null,
       "border": null,
       "bottom": null,
       "display": null,
       "flex": null,
       "flex_flow": null,
       "grid_area": null,
       "grid_auto_columns": null,
       "grid_auto_flow": null,
       "grid_auto_rows": null,
       "grid_column": null,
       "grid_gap": null,
       "grid_row": null,
       "grid_template_areas": null,
       "grid_template_columns": null,
       "grid_template_rows": null,
       "height": null,
       "justify_content": null,
       "justify_items": null,
       "left": null,
       "margin": null,
       "max_height": null,
       "max_width": null,
       "min_height": null,
       "min_width": null,
       "object_fit": null,
       "object_position": null,
       "order": null,
       "overflow": null,
       "overflow_x": null,
       "overflow_y": null,
       "padding": null,
       "right": null,
       "top": null,
       "visibility": null,
       "width": null
      }
     },
     "81b1213eb9dc4aa083951352d9f6beaf": {
      "model_module": "@jupyter-widgets/base",
      "model_module_version": "1.2.0",
      "model_name": "LayoutModel",
      "state": {
       "_model_module": "@jupyter-widgets/base",
       "_model_module_version": "1.2.0",
       "_model_name": "LayoutModel",
       "_view_count": null,
       "_view_module": "@jupyter-widgets/base",
       "_view_module_version": "1.2.0",
       "_view_name": "LayoutView",
       "align_content": null,
       "align_items": null,
       "align_self": null,
       "border": null,
       "bottom": null,
       "display": null,
       "flex": null,
       "flex_flow": null,
       "grid_area": null,
       "grid_auto_columns": null,
       "grid_auto_flow": null,
       "grid_auto_rows": null,
       "grid_column": null,
       "grid_gap": null,
       "grid_row": null,
       "grid_template_areas": null,
       "grid_template_columns": null,
       "grid_template_rows": null,
       "height": null,
       "justify_content": null,
       "justify_items": null,
       "left": null,
       "margin": null,
       "max_height": null,
       "max_width": null,
       "min_height": null,
       "min_width": null,
       "object_fit": null,
       "object_position": null,
       "order": null,
       "overflow": null,
       "overflow_x": null,
       "overflow_y": null,
       "padding": null,
       "right": null,
       "top": null,
       "visibility": null,
       "width": null
      }
     },
     "82f268442b1349268246323595e0f371": {
      "model_module": "@jupyter-widgets/controls",
      "model_module_version": "1.5.0",
      "model_name": "HBoxModel",
      "state": {
       "_dom_classes": [],
       "_model_module": "@jupyter-widgets/controls",
       "_model_module_version": "1.5.0",
       "_model_name": "HBoxModel",
       "_view_count": null,
       "_view_module": "@jupyter-widgets/controls",
       "_view_module_version": "1.5.0",
       "_view_name": "HBoxView",
       "box_style": "",
       "children": [
        "IPY_MODEL_4c514a00a080445da009d272716b3577",
        "IPY_MODEL_b4e52efc58b54c81a39fa8e5fc26eedd",
        "IPY_MODEL_a1cafe17bdf945aa8a33875d0590f7a2"
       ],
       "layout": "IPY_MODEL_65f9dfd885184f818373dcaf8b820da7"
      }
     },
     "842a840396ab4cefb93cc2733bf00cf7": {
      "model_module": "@jupyter-widgets/controls",
      "model_module_version": "1.5.0",
      "model_name": "DescriptionStyleModel",
      "state": {
       "_model_module": "@jupyter-widgets/controls",
       "_model_module_version": "1.5.0",
       "_model_name": "DescriptionStyleModel",
       "_view_count": null,
       "_view_module": "@jupyter-widgets/base",
       "_view_module_version": "1.2.0",
       "_view_name": "StyleView",
       "description_width": ""
      }
     },
     "86af7db3cea442beb67da28063f15ed6": {
      "model_module": "@jupyter-widgets/controls",
      "model_module_version": "1.5.0",
      "model_name": "FloatProgressModel",
      "state": {
       "_dom_classes": [],
       "_model_module": "@jupyter-widgets/controls",
       "_model_module_version": "1.5.0",
       "_model_name": "FloatProgressModel",
       "_view_count": null,
       "_view_module": "@jupyter-widgets/controls",
       "_view_module_version": "1.5.0",
       "_view_name": "ProgressView",
       "bar_style": "",
       "description": "",
       "description_tooltip": null,
       "layout": "IPY_MODEL_be8bbaca794c4ab0b387c44fc3d2637f",
       "max": 1,
       "min": 0,
       "orientation": "horizontal",
       "style": "IPY_MODEL_126a1e5f24e44838a03204815209c5dc",
       "value": 1
      }
     },
     "87214ce12c1f422481a0fe3caf5a3ce8": {
      "model_module": "@jupyter-widgets/base",
      "model_module_version": "1.2.0",
      "model_name": "LayoutModel",
      "state": {
       "_model_module": "@jupyter-widgets/base",
       "_model_module_version": "1.2.0",
       "_model_name": "LayoutModel",
       "_view_count": null,
       "_view_module": "@jupyter-widgets/base",
       "_view_module_version": "1.2.0",
       "_view_name": "LayoutView",
       "align_content": null,
       "align_items": null,
       "align_self": null,
       "border": null,
       "bottom": null,
       "display": null,
       "flex": null,
       "flex_flow": null,
       "grid_area": null,
       "grid_auto_columns": null,
       "grid_auto_flow": null,
       "grid_auto_rows": null,
       "grid_column": null,
       "grid_gap": null,
       "grid_row": null,
       "grid_template_areas": null,
       "grid_template_columns": null,
       "grid_template_rows": null,
       "height": null,
       "justify_content": null,
       "justify_items": null,
       "left": null,
       "margin": null,
       "max_height": null,
       "max_width": null,
       "min_height": null,
       "min_width": null,
       "object_fit": null,
       "object_position": null,
       "order": null,
       "overflow": null,
       "overflow_x": null,
       "overflow_y": null,
       "padding": null,
       "right": null,
       "top": null,
       "visibility": null,
       "width": null
      }
     },
     "874dcbcfa5c94b938abebb1c7d00007c": {
      "model_module": "@jupyter-widgets/controls",
      "model_module_version": "1.5.0",
      "model_name": "ProgressStyleModel",
      "state": {
       "_model_module": "@jupyter-widgets/controls",
       "_model_module_version": "1.5.0",
       "_model_name": "ProgressStyleModel",
       "_view_count": null,
       "_view_module": "@jupyter-widgets/base",
       "_view_module_version": "1.2.0",
       "_view_name": "StyleView",
       "bar_color": null,
       "description_width": ""
      }
     },
     "8ae7b72a5b9f4533a2076af3fb7786bd": {
      "model_module": "@jupyter-widgets/controls",
      "model_module_version": "1.5.0",
      "model_name": "DescriptionStyleModel",
      "state": {
       "_model_module": "@jupyter-widgets/controls",
       "_model_module_version": "1.5.0",
       "_model_name": "DescriptionStyleModel",
       "_view_count": null,
       "_view_module": "@jupyter-widgets/base",
       "_view_module_version": "1.2.0",
       "_view_name": "StyleView",
       "description_width": ""
      }
     },
     "929108014ee94c9092394cf7ef09134f": {
      "model_module": "@jupyter-widgets/controls",
      "model_module_version": "1.5.0",
      "model_name": "DescriptionStyleModel",
      "state": {
       "_model_module": "@jupyter-widgets/controls",
       "_model_module_version": "1.5.0",
       "_model_name": "DescriptionStyleModel",
       "_view_count": null,
       "_view_module": "@jupyter-widgets/base",
       "_view_module_version": "1.2.0",
       "_view_name": "StyleView",
       "description_width": ""
      }
     },
     "968e2989cea6490d9ee08b6700291242": {
      "model_module": "@jupyter-widgets/base",
      "model_module_version": "1.2.0",
      "model_name": "LayoutModel",
      "state": {
       "_model_module": "@jupyter-widgets/base",
       "_model_module_version": "1.2.0",
       "_model_name": "LayoutModel",
       "_view_count": null,
       "_view_module": "@jupyter-widgets/base",
       "_view_module_version": "1.2.0",
       "_view_name": "LayoutView",
       "align_content": null,
       "align_items": null,
       "align_self": null,
       "border": null,
       "bottom": null,
       "display": null,
       "flex": null,
       "flex_flow": null,
       "grid_area": null,
       "grid_auto_columns": null,
       "grid_auto_flow": null,
       "grid_auto_rows": null,
       "grid_column": null,
       "grid_gap": null,
       "grid_row": null,
       "grid_template_areas": null,
       "grid_template_columns": null,
       "grid_template_rows": null,
       "height": null,
       "justify_content": null,
       "justify_items": null,
       "left": null,
       "margin": null,
       "max_height": null,
       "max_width": null,
       "min_height": null,
       "min_width": null,
       "object_fit": null,
       "object_position": null,
       "order": null,
       "overflow": null,
       "overflow_x": null,
       "overflow_y": null,
       "padding": null,
       "right": null,
       "top": null,
       "visibility": null,
       "width": null
      }
     },
     "9901f18e7e5841b8bfcb918c432ef718": {
      "model_module": "@jupyter-widgets/base",
      "model_module_version": "1.2.0",
      "model_name": "LayoutModel",
      "state": {
       "_model_module": "@jupyter-widgets/base",
       "_model_module_version": "1.2.0",
       "_model_name": "LayoutModel",
       "_view_count": null,
       "_view_module": "@jupyter-widgets/base",
       "_view_module_version": "1.2.0",
       "_view_name": "LayoutView",
       "align_content": null,
       "align_items": null,
       "align_self": null,
       "border": null,
       "bottom": null,
       "display": null,
       "flex": null,
       "flex_flow": null,
       "grid_area": null,
       "grid_auto_columns": null,
       "grid_auto_flow": null,
       "grid_auto_rows": null,
       "grid_column": null,
       "grid_gap": null,
       "grid_row": null,
       "grid_template_areas": null,
       "grid_template_columns": null,
       "grid_template_rows": null,
       "height": null,
       "justify_content": null,
       "justify_items": null,
       "left": null,
       "margin": null,
       "max_height": null,
       "max_width": null,
       "min_height": null,
       "min_width": null,
       "object_fit": null,
       "object_position": null,
       "order": null,
       "overflow": null,
       "overflow_x": null,
       "overflow_y": null,
       "padding": null,
       "right": null,
       "top": null,
       "visibility": null,
       "width": null
      }
     },
     "9d403276e05f4c368e46f353070b9d9a": {
      "model_module": "@jupyter-widgets/base",
      "model_module_version": "1.2.0",
      "model_name": "LayoutModel",
      "state": {
       "_model_module": "@jupyter-widgets/base",
       "_model_module_version": "1.2.0",
       "_model_name": "LayoutModel",
       "_view_count": null,
       "_view_module": "@jupyter-widgets/base",
       "_view_module_version": "1.2.0",
       "_view_name": "LayoutView",
       "align_content": null,
       "align_items": null,
       "align_self": null,
       "border": null,
       "bottom": null,
       "display": null,
       "flex": null,
       "flex_flow": null,
       "grid_area": null,
       "grid_auto_columns": null,
       "grid_auto_flow": null,
       "grid_auto_rows": null,
       "grid_column": null,
       "grid_gap": null,
       "grid_row": null,
       "grid_template_areas": null,
       "grid_template_columns": null,
       "grid_template_rows": null,
       "height": null,
       "justify_content": null,
       "justify_items": null,
       "left": null,
       "margin": null,
       "max_height": null,
       "max_width": null,
       "min_height": null,
       "min_width": null,
       "object_fit": null,
       "object_position": null,
       "order": null,
       "overflow": null,
       "overflow_x": null,
       "overflow_y": null,
       "padding": null,
       "right": null,
       "top": null,
       "visibility": null,
       "width": null
      }
     },
     "a03e24ff8fc54bccaa69e36839b36bab": {
      "model_module": "@jupyter-widgets/controls",
      "model_module_version": "1.5.0",
      "model_name": "FloatProgressModel",
      "state": {
       "_dom_classes": [],
       "_model_module": "@jupyter-widgets/controls",
       "_model_module_version": "1.5.0",
       "_model_name": "FloatProgressModel",
       "_view_count": null,
       "_view_module": "@jupyter-widgets/controls",
       "_view_module_version": "1.5.0",
       "_view_name": "ProgressView",
       "bar_style": "success",
       "description": "",
       "description_tooltip": null,
       "layout": "IPY_MODEL_80f827d24b2e421bbe84d92c8dcc002b",
       "max": 580,
       "min": 0,
       "orientation": "horizontal",
       "style": "IPY_MODEL_349e43c8d4114c36823434cef63fc567",
       "value": 580
      }
     },
     "a1cafe17bdf945aa8a33875d0590f7a2": {
      "model_module": "@jupyter-widgets/controls",
      "model_module_version": "1.5.0",
      "model_name": "HTMLModel",
      "state": {
       "_dom_classes": [],
       "_model_module": "@jupyter-widgets/controls",
       "_model_module_version": "1.5.0",
       "_model_name": "HTMLModel",
       "_view_count": null,
       "_view_module": "@jupyter-widgets/controls",
       "_view_module_version": "1.5.0",
       "_view_name": "HTMLView",
       "description": "",
       "description_tooltip": null,
       "layout": "IPY_MODEL_dd68281fe7ea499882e5d23a5bbfb9f0",
       "placeholder": "​",
       "style": "IPY_MODEL_8ae7b72a5b9f4533a2076af3fb7786bd",
       "value": " 52.0/52.0 [00:00&lt;00:00, 2.03kB/s]"
      }
     },
     "a3f3db4032b54ac49421d5cbd31a9533": {
      "model_module": "@jupyter-widgets/base",
      "model_module_version": "1.2.0",
      "model_name": "LayoutModel",
      "state": {
       "_model_module": "@jupyter-widgets/base",
       "_model_module_version": "1.2.0",
       "_model_name": "LayoutModel",
       "_view_count": null,
       "_view_module": "@jupyter-widgets/base",
       "_view_module_version": "1.2.0",
       "_view_name": "LayoutView",
       "align_content": null,
       "align_items": null,
       "align_self": null,
       "border": null,
       "bottom": null,
       "display": null,
       "flex": null,
       "flex_flow": null,
       "grid_area": null,
       "grid_auto_columns": null,
       "grid_auto_flow": null,
       "grid_auto_rows": null,
       "grid_column": null,
       "grid_gap": null,
       "grid_row": null,
       "grid_template_areas": null,
       "grid_template_columns": null,
       "grid_template_rows": null,
       "height": null,
       "justify_content": null,
       "justify_items": null,
       "left": null,
       "margin": null,
       "max_height": null,
       "max_width": null,
       "min_height": null,
       "min_width": null,
       "object_fit": null,
       "object_position": null,
       "order": null,
       "overflow": null,
       "overflow_x": null,
       "overflow_y": null,
       "padding": null,
       "right": null,
       "top": null,
       "visibility": null,
       "width": null
      }
     },
     "a87f939ae9cb44bf8d9eed523f5cb995": {
      "model_module": "@jupyter-widgets/controls",
      "model_module_version": "1.5.0",
      "model_name": "DescriptionStyleModel",
      "state": {
       "_model_module": "@jupyter-widgets/controls",
       "_model_module_version": "1.5.0",
       "_model_name": "DescriptionStyleModel",
       "_view_count": null,
       "_view_module": "@jupyter-widgets/base",
       "_view_module_version": "1.2.0",
       "_view_name": "StyleView",
       "description_width": ""
      }
     },
     "aaf4c8e1ae794178bd2db64c5c27edcd": {
      "model_module": "@jupyter-widgets/base",
      "model_module_version": "1.2.0",
      "model_name": "LayoutModel",
      "state": {
       "_model_module": "@jupyter-widgets/base",
       "_model_module_version": "1.2.0",
       "_model_name": "LayoutModel",
       "_view_count": null,
       "_view_module": "@jupyter-widgets/base",
       "_view_module_version": "1.2.0",
       "_view_name": "LayoutView",
       "align_content": null,
       "align_items": null,
       "align_self": null,
       "border": null,
       "bottom": null,
       "display": null,
       "flex": null,
       "flex_flow": null,
       "grid_area": null,
       "grid_auto_columns": null,
       "grid_auto_flow": null,
       "grid_auto_rows": null,
       "grid_column": null,
       "grid_gap": null,
       "grid_row": null,
       "grid_template_areas": null,
       "grid_template_columns": null,
       "grid_template_rows": null,
       "height": null,
       "justify_content": null,
       "justify_items": null,
       "left": null,
       "margin": null,
       "max_height": null,
       "max_width": null,
       "min_height": null,
       "min_width": null,
       "object_fit": null,
       "object_position": null,
       "order": null,
       "overflow": null,
       "overflow_x": null,
       "overflow_y": null,
       "padding": null,
       "right": null,
       "top": null,
       "visibility": null,
       "width": null
      }
     },
     "ab615699cb634117a739e8673396b52d": {
      "model_module": "@jupyter-widgets/controls",
      "model_module_version": "1.5.0",
      "model_name": "ProgressStyleModel",
      "state": {
       "_model_module": "@jupyter-widgets/controls",
       "_model_module_version": "1.5.0",
       "_model_name": "ProgressStyleModel",
       "_view_count": null,
       "_view_module": "@jupyter-widgets/base",
       "_view_module_version": "1.2.0",
       "_view_name": "StyleView",
       "bar_color": null,
       "description_width": ""
      }
     },
     "ad4745f1eca942009bdf6cf12913f34a": {
      "model_module": "@jupyter-widgets/base",
      "model_module_version": "1.2.0",
      "model_name": "LayoutModel",
      "state": {
       "_model_module": "@jupyter-widgets/base",
       "_model_module_version": "1.2.0",
       "_model_name": "LayoutModel",
       "_view_count": null,
       "_view_module": "@jupyter-widgets/base",
       "_view_module_version": "1.2.0",
       "_view_name": "LayoutView",
       "align_content": null,
       "align_items": null,
       "align_self": null,
       "border": null,
       "bottom": null,
       "display": null,
       "flex": null,
       "flex_flow": null,
       "grid_area": null,
       "grid_auto_columns": null,
       "grid_auto_flow": null,
       "grid_auto_rows": null,
       "grid_column": null,
       "grid_gap": null,
       "grid_row": null,
       "grid_template_areas": null,
       "grid_template_columns": null,
       "grid_template_rows": null,
       "height": null,
       "justify_content": null,
       "justify_items": null,
       "left": null,
       "margin": null,
       "max_height": null,
       "max_width": null,
       "min_height": null,
       "min_width": null,
       "object_fit": null,
       "object_position": null,
       "order": null,
       "overflow": null,
       "overflow_x": null,
       "overflow_y": null,
       "padding": null,
       "right": null,
       "top": null,
       "visibility": null,
       "width": null
      }
     },
     "ad6386dafce545c48eac271bb2a3c0dd": {
      "model_module": "@jupyter-widgets/controls",
      "model_module_version": "1.5.0",
      "model_name": "DescriptionStyleModel",
      "state": {
       "_model_module": "@jupyter-widgets/controls",
       "_model_module_version": "1.5.0",
       "_model_name": "DescriptionStyleModel",
       "_view_count": null,
       "_view_module": "@jupyter-widgets/base",
       "_view_module_version": "1.2.0",
       "_view_name": "StyleView",
       "description_width": ""
      }
     },
     "b4e52efc58b54c81a39fa8e5fc26eedd": {
      "model_module": "@jupyter-widgets/controls",
      "model_module_version": "1.5.0",
      "model_name": "FloatProgressModel",
      "state": {
       "_dom_classes": [],
       "_model_module": "@jupyter-widgets/controls",
       "_model_module_version": "1.5.0",
       "_model_name": "FloatProgressModel",
       "_view_count": null,
       "_view_module": "@jupyter-widgets/controls",
       "_view_module_version": "1.5.0",
       "_view_name": "ProgressView",
       "bar_style": "success",
       "description": "",
       "description_tooltip": null,
       "layout": "IPY_MODEL_6947506e822e46d99b4dd82a8a4209cd",
       "max": 52,
       "min": 0,
       "orientation": "horizontal",
       "style": "IPY_MODEL_874dcbcfa5c94b938abebb1c7d00007c",
       "value": 52
      }
     },
     "b6f3605957844ac0b026ef0593befbae": {
      "model_module": "@jupyter-widgets/base",
      "model_module_version": "1.2.0",
      "model_name": "LayoutModel",
      "state": {
       "_model_module": "@jupyter-widgets/base",
       "_model_module_version": "1.2.0",
       "_model_name": "LayoutModel",
       "_view_count": null,
       "_view_module": "@jupyter-widgets/base",
       "_view_module_version": "1.2.0",
       "_view_name": "LayoutView",
       "align_content": null,
       "align_items": null,
       "align_self": null,
       "border": null,
       "bottom": null,
       "display": null,
       "flex": null,
       "flex_flow": null,
       "grid_area": null,
       "grid_auto_columns": null,
       "grid_auto_flow": null,
       "grid_auto_rows": null,
       "grid_column": null,
       "grid_gap": null,
       "grid_row": null,
       "grid_template_areas": null,
       "grid_template_columns": null,
       "grid_template_rows": null,
       "height": null,
       "justify_content": null,
       "justify_items": null,
       "left": null,
       "margin": null,
       "max_height": null,
       "max_width": null,
       "min_height": null,
       "min_width": null,
       "object_fit": null,
       "object_position": null,
       "order": null,
       "overflow": null,
       "overflow_x": null,
       "overflow_y": null,
       "padding": null,
       "right": null,
       "top": null,
       "visibility": null,
       "width": null
      }
     },
     "b849e52bd84942e583de4b9325c96afe": {
      "model_module": "@jupyter-widgets/controls",
      "model_module_version": "1.5.0",
      "model_name": "FloatProgressModel",
      "state": {
       "_dom_classes": [],
       "_model_module": "@jupyter-widgets/controls",
       "_model_module_version": "1.5.0",
       "_model_name": "FloatProgressModel",
       "_view_count": null,
       "_view_module": "@jupyter-widgets/controls",
       "_view_module_version": "1.5.0",
       "_view_name": "ProgressView",
       "bar_style": "success",
       "description": "",
       "description_tooltip": null,
       "layout": "IPY_MODEL_341389680b6a43d8b6b3de95dffca671",
       "max": 36473,
       "min": 0,
       "orientation": "horizontal",
       "style": "IPY_MODEL_ab615699cb634117a739e8673396b52d",
       "value": 36473
      }
     },
     "ba8f6b6e291a4d6faae41e5e6921f4aa": {
      "model_module": "@jupyter-widgets/base",
      "model_module_version": "1.2.0",
      "model_name": "LayoutModel",
      "state": {
       "_model_module": "@jupyter-widgets/base",
       "_model_module_version": "1.2.0",
       "_model_name": "LayoutModel",
       "_view_count": null,
       "_view_module": "@jupyter-widgets/base",
       "_view_module_version": "1.2.0",
       "_view_name": "LayoutView",
       "align_content": null,
       "align_items": null,
       "align_self": null,
       "border": null,
       "bottom": null,
       "display": null,
       "flex": null,
       "flex_flow": null,
       "grid_area": null,
       "grid_auto_columns": null,
       "grid_auto_flow": null,
       "grid_auto_rows": null,
       "grid_column": null,
       "grid_gap": null,
       "grid_row": null,
       "grid_template_areas": null,
       "grid_template_columns": null,
       "grid_template_rows": null,
       "height": null,
       "justify_content": null,
       "justify_items": null,
       "left": null,
       "margin": null,
       "max_height": null,
       "max_width": null,
       "min_height": null,
       "min_width": null,
       "object_fit": null,
       "object_position": null,
       "order": null,
       "overflow": null,
       "overflow_x": null,
       "overflow_y": null,
       "padding": null,
       "right": null,
       "top": null,
       "visibility": null,
       "width": null
      }
     },
     "bb944cd3fb694105a4d535f4e9c333a8": {
      "model_module": "@jupyter-widgets/controls",
      "model_module_version": "1.5.0",
      "model_name": "DescriptionStyleModel",
      "state": {
       "_model_module": "@jupyter-widgets/controls",
       "_model_module_version": "1.5.0",
       "_model_name": "DescriptionStyleModel",
       "_view_count": null,
       "_view_module": "@jupyter-widgets/base",
       "_view_module_version": "1.2.0",
       "_view_name": "StyleView",
       "description_width": ""
      }
     },
     "bba517b096dd460cb764ccd71b57f148": {
      "model_module": "@jupyter-widgets/controls",
      "model_module_version": "1.5.0",
      "model_name": "FloatProgressModel",
      "state": {
       "_dom_classes": [],
       "_model_module": "@jupyter-widgets/controls",
       "_model_module_version": "1.5.0",
       "_model_name": "FloatProgressModel",
       "_view_count": null,
       "_view_module": "@jupyter-widgets/controls",
       "_view_module_version": "1.5.0",
       "_view_name": "ProgressView",
       "bar_style": "success",
       "description": "",
       "description_tooltip": null,
       "layout": "IPY_MODEL_ba8f6b6e291a4d6faae41e5e6921f4aa",
       "max": 136,
       "min": 0,
       "orientation": "horizontal",
       "style": "IPY_MODEL_ec381745899e4ce7900c973c72d2ff3b",
       "value": 136
      }
     },
     "be8bbaca794c4ab0b387c44fc3d2637f": {
      "model_module": "@jupyter-widgets/base",
      "model_module_version": "1.2.0",
      "model_name": "LayoutModel",
      "state": {
       "_model_module": "@jupyter-widgets/base",
       "_model_module_version": "1.2.0",
       "_model_name": "LayoutModel",
       "_view_count": null,
       "_view_module": "@jupyter-widgets/base",
       "_view_module_version": "1.2.0",
       "_view_name": "LayoutView",
       "align_content": null,
       "align_items": null,
       "align_self": null,
       "border": null,
       "bottom": null,
       "display": null,
       "flex": null,
       "flex_flow": null,
       "grid_area": null,
       "grid_auto_columns": null,
       "grid_auto_flow": null,
       "grid_auto_rows": null,
       "grid_column": null,
       "grid_gap": null,
       "grid_row": null,
       "grid_template_areas": null,
       "grid_template_columns": null,
       "grid_template_rows": null,
       "height": null,
       "justify_content": null,
       "justify_items": null,
       "left": null,
       "margin": null,
       "max_height": null,
       "max_width": null,
       "min_height": null,
       "min_width": null,
       "object_fit": null,
       "object_position": null,
       "order": null,
       "overflow": null,
       "overflow_x": null,
       "overflow_y": null,
       "padding": null,
       "right": null,
       "top": null,
       "visibility": null,
       "width": null
      }
     },
     "c0dcc3eeec934d289bf99c7d14bab090": {
      "model_module": "@jupyter-widgets/base",
      "model_module_version": "1.2.0",
      "model_name": "LayoutModel",
      "state": {
       "_model_module": "@jupyter-widgets/base",
       "_model_module_version": "1.2.0",
       "_model_name": "LayoutModel",
       "_view_count": null,
       "_view_module": "@jupyter-widgets/base",
       "_view_module_version": "1.2.0",
       "_view_name": "LayoutView",
       "align_content": null,
       "align_items": null,
       "align_self": null,
       "border": null,
       "bottom": null,
       "display": null,
       "flex": null,
       "flex_flow": null,
       "grid_area": null,
       "grid_auto_columns": null,
       "grid_auto_flow": null,
       "grid_auto_rows": null,
       "grid_column": null,
       "grid_gap": null,
       "grid_row": null,
       "grid_template_areas": null,
       "grid_template_columns": null,
       "grid_template_rows": null,
       "height": null,
       "justify_content": null,
       "justify_items": null,
       "left": null,
       "margin": null,
       "max_height": null,
       "max_width": null,
       "min_height": null,
       "min_width": null,
       "object_fit": null,
       "object_position": null,
       "order": null,
       "overflow": null,
       "overflow_x": null,
       "overflow_y": null,
       "padding": null,
       "right": null,
       "top": null,
       "visibility": null,
       "width": null
      }
     },
     "c1e8e53062324cf38fbd75eab01e066a": {
      "model_module": "@jupyter-widgets/base",
      "model_module_version": "1.2.0",
      "model_name": "LayoutModel",
      "state": {
       "_model_module": "@jupyter-widgets/base",
       "_model_module_version": "1.2.0",
       "_model_name": "LayoutModel",
       "_view_count": null,
       "_view_module": "@jupyter-widgets/base",
       "_view_module_version": "1.2.0",
       "_view_name": "LayoutView",
       "align_content": null,
       "align_items": null,
       "align_self": null,
       "border": null,
       "bottom": null,
       "display": null,
       "flex": null,
       "flex_flow": null,
       "grid_area": null,
       "grid_auto_columns": null,
       "grid_auto_flow": null,
       "grid_auto_rows": null,
       "grid_column": null,
       "grid_gap": null,
       "grid_row": null,
       "grid_template_areas": null,
       "grid_template_columns": null,
       "grid_template_rows": null,
       "height": null,
       "justify_content": null,
       "justify_items": null,
       "left": null,
       "margin": null,
       "max_height": null,
       "max_width": null,
       "min_height": null,
       "min_width": null,
       "object_fit": null,
       "object_position": null,
       "order": null,
       "overflow": null,
       "overflow_x": null,
       "overflow_y": null,
       "padding": null,
       "right": null,
       "top": null,
       "visibility": null,
       "width": null
      }
     },
     "c4ff773d63e34e0c93e23aa455a97958": {
      "model_module": "@jupyter-widgets/controls",
      "model_module_version": "1.5.0",
      "model_name": "ProgressStyleModel",
      "state": {
       "_model_module": "@jupyter-widgets/controls",
       "_model_module_version": "1.5.0",
       "_model_name": "ProgressStyleModel",
       "_view_count": null,
       "_view_module": "@jupyter-widgets/base",
       "_view_module_version": "1.2.0",
       "_view_name": "StyleView",
       "bar_color": null,
       "description_width": ""
      }
     },
     "c5de80b22af543edb57e65780298069e": {
      "model_module": "@jupyter-widgets/controls",
      "model_module_version": "1.5.0",
      "model_name": "DescriptionStyleModel",
      "state": {
       "_model_module": "@jupyter-widgets/controls",
       "_model_module_version": "1.5.0",
       "_model_name": "DescriptionStyleModel",
       "_view_count": null,
       "_view_module": "@jupyter-widgets/base",
       "_view_module_version": "1.2.0",
       "_view_name": "StyleView",
       "description_width": ""
      }
     },
     "d21724e187b94518ad3cc61f1daa73cf": {
      "model_module": "@jupyter-widgets/controls",
      "model_module_version": "1.5.0",
      "model_name": "HBoxModel",
      "state": {
       "_dom_classes": [],
       "_model_module": "@jupyter-widgets/controls",
       "_model_module_version": "1.5.0",
       "_model_name": "HBoxModel",
       "_view_count": null,
       "_view_module": "@jupyter-widgets/controls",
       "_view_module_version": "1.5.0",
       "_view_name": "HBoxView",
       "box_style": "",
       "children": [
        "IPY_MODEL_e13e1ad96b5648588ba7a5b2e3771179",
        "IPY_MODEL_7fb6ee0e688440bab23c07808e5cef8b",
        "IPY_MODEL_f9081778edc6436c9d1bc9a886ac922c"
       ],
       "layout": "IPY_MODEL_9901f18e7e5841b8bfcb918c432ef718"
      }
     },
     "d3b6e4a4aac943b79ba51bbacd77907e": {
      "model_module": "@jupyter-widgets/controls",
      "model_module_version": "1.5.0",
      "model_name": "DescriptionStyleModel",
      "state": {
       "_model_module": "@jupyter-widgets/controls",
       "_model_module_version": "1.5.0",
       "_model_name": "DescriptionStyleModel",
       "_view_count": null,
       "_view_module": "@jupyter-widgets/base",
       "_view_module_version": "1.2.0",
       "_view_name": "StyleView",
       "description_width": ""
      }
     },
     "d9f0d96d140a4115aadfdfc9ce5ba608": {
      "model_module": "@jupyter-widgets/controls",
      "model_module_version": "1.5.0",
      "model_name": "ProgressStyleModel",
      "state": {
       "_model_module": "@jupyter-widgets/controls",
       "_model_module_version": "1.5.0",
       "_model_name": "ProgressStyleModel",
       "_view_count": null,
       "_view_module": "@jupyter-widgets/base",
       "_view_module_version": "1.2.0",
       "_view_name": "StyleView",
       "bar_color": null,
       "description_width": ""
      }
     },
     "da88817e8aed48399b1948f8e004ee97": {
      "model_module": "@jupyter-widgets/base",
      "model_module_version": "1.2.0",
      "model_name": "LayoutModel",
      "state": {
       "_model_module": "@jupyter-widgets/base",
       "_model_module_version": "1.2.0",
       "_model_name": "LayoutModel",
       "_view_count": null,
       "_view_module": "@jupyter-widgets/base",
       "_view_module_version": "1.2.0",
       "_view_name": "LayoutView",
       "align_content": null,
       "align_items": null,
       "align_self": null,
       "border": null,
       "bottom": null,
       "display": null,
       "flex": null,
       "flex_flow": null,
       "grid_area": null,
       "grid_auto_columns": null,
       "grid_auto_flow": null,
       "grid_auto_rows": null,
       "grid_column": null,
       "grid_gap": null,
       "grid_row": null,
       "grid_template_areas": null,
       "grid_template_columns": null,
       "grid_template_rows": null,
       "height": null,
       "justify_content": null,
       "justify_items": null,
       "left": null,
       "margin": null,
       "max_height": null,
       "max_width": null,
       "min_height": null,
       "min_width": null,
       "object_fit": null,
       "object_position": null,
       "order": null,
       "overflow": null,
       "overflow_x": null,
       "overflow_y": null,
       "padding": null,
       "right": null,
       "top": null,
       "visibility": null,
       "width": null
      }
     },
     "dd68281fe7ea499882e5d23a5bbfb9f0": {
      "model_module": "@jupyter-widgets/base",
      "model_module_version": "1.2.0",
      "model_name": "LayoutModel",
      "state": {
       "_model_module": "@jupyter-widgets/base",
       "_model_module_version": "1.2.0",
       "_model_name": "LayoutModel",
       "_view_count": null,
       "_view_module": "@jupyter-widgets/base",
       "_view_module_version": "1.2.0",
       "_view_name": "LayoutView",
       "align_content": null,
       "align_items": null,
       "align_self": null,
       "border": null,
       "bottom": null,
       "display": null,
       "flex": null,
       "flex_flow": null,
       "grid_area": null,
       "grid_auto_columns": null,
       "grid_auto_flow": null,
       "grid_auto_rows": null,
       "grid_column": null,
       "grid_gap": null,
       "grid_row": null,
       "grid_template_areas": null,
       "grid_template_columns": null,
       "grid_template_rows": null,
       "height": null,
       "justify_content": null,
       "justify_items": null,
       "left": null,
       "margin": null,
       "max_height": null,
       "max_width": null,
       "min_height": null,
       "min_width": null,
       "object_fit": null,
       "object_position": null,
       "order": null,
       "overflow": null,
       "overflow_x": null,
       "overflow_y": null,
       "padding": null,
       "right": null,
       "top": null,
       "visibility": null,
       "width": null
      }
     },
     "de3e60ed24f04a7ab49a05b98b7cf0f0": {
      "model_module": "@jupyter-widgets/controls",
      "model_module_version": "1.5.0",
      "model_name": "DescriptionStyleModel",
      "state": {
       "_model_module": "@jupyter-widgets/controls",
       "_model_module_version": "1.5.0",
       "_model_name": "DescriptionStyleModel",
       "_view_count": null,
       "_view_module": "@jupyter-widgets/base",
       "_view_module_version": "1.2.0",
       "_view_name": "StyleView",
       "description_width": ""
      }
     },
     "e13e1ad96b5648588ba7a5b2e3771179": {
      "model_module": "@jupyter-widgets/controls",
      "model_module_version": "1.5.0",
      "model_name": "HTMLModel",
      "state": {
       "_dom_classes": [],
       "_model_module": "@jupyter-widgets/controls",
       "_model_module_version": "1.5.0",
       "_model_name": "HTMLModel",
       "_view_count": null,
       "_view_module": "@jupyter-widgets/controls",
       "_view_module_version": "1.5.0",
       "_view_name": "HTMLView",
       "description": "",
       "description_tooltip": null,
       "layout": "IPY_MODEL_1d83ae8940534922833de4d1fdd71216",
       "placeholder": "​",
       "style": "IPY_MODEL_46ab7441760642718f381e7f430e16a0",
       "value": "Downloading: 100%"
      }
     },
     "e3e17f880bab4d47a1531bebac861fda": {
      "model_module": "@jupyter-widgets/controls",
      "model_module_version": "1.5.0",
      "model_name": "HTMLModel",
      "state": {
       "_dom_classes": [],
       "_model_module": "@jupyter-widgets/controls",
       "_model_module_version": "1.5.0",
       "_model_name": "HTMLModel",
       "_view_count": null,
       "_view_module": "@jupyter-widgets/controls",
       "_view_module_version": "1.5.0",
       "_view_name": "HTMLView",
       "description": "",
       "description_tooltip": null,
       "layout": "IPY_MODEL_a3f3db4032b54ac49421d5cbd31a9533",
       "placeholder": "​",
       "style": "IPY_MODEL_35cb92ba1b2d4932bc3a0b0640f71b0c",
       "value": " 580/580 [00:00&lt;00:00, 23.1kB/s]"
      }
     },
     "ec381745899e4ce7900c973c72d2ff3b": {
      "model_module": "@jupyter-widgets/controls",
      "model_module_version": "1.5.0",
      "model_name": "ProgressStyleModel",
      "state": {
       "_model_module": "@jupyter-widgets/controls",
       "_model_module_version": "1.5.0",
       "_model_name": "ProgressStyleModel",
       "_view_count": null,
       "_view_module": "@jupyter-widgets/base",
       "_view_module_version": "1.2.0",
       "_view_name": "StyleView",
       "bar_color": null,
       "description_width": ""
      }
     },
     "f3e6058e180d40b8bc25ff82940789f1": {
      "model_module": "@jupyter-widgets/base",
      "model_module_version": "1.2.0",
      "model_name": "LayoutModel",
      "state": {
       "_model_module": "@jupyter-widgets/base",
       "_model_module_version": "1.2.0",
       "_model_name": "LayoutModel",
       "_view_count": null,
       "_view_module": "@jupyter-widgets/base",
       "_view_module_version": "1.2.0",
       "_view_name": "LayoutView",
       "align_content": null,
       "align_items": null,
       "align_self": null,
       "border": null,
       "bottom": null,
       "display": null,
       "flex": null,
       "flex_flow": null,
       "grid_area": null,
       "grid_auto_columns": null,
       "grid_auto_flow": null,
       "grid_auto_rows": null,
       "grid_column": null,
       "grid_gap": null,
       "grid_row": null,
       "grid_template_areas": null,
       "grid_template_columns": null,
       "grid_template_rows": null,
       "height": null,
       "justify_content": null,
       "justify_items": null,
       "left": null,
       "margin": null,
       "max_height": null,
       "max_width": null,
       "min_height": null,
       "min_width": null,
       "object_fit": null,
       "object_position": null,
       "order": null,
       "overflow": null,
       "overflow_x": null,
       "overflow_y": null,
       "padding": null,
       "right": null,
       "top": null,
       "visibility": null,
       "width": null
      }
     },
     "f7cdf444f3c041cda9b6bd5a47ca87c5": {
      "model_module": "@jupyter-widgets/controls",
      "model_module_version": "1.5.0",
      "model_name": "VBoxModel",
      "state": {
       "_dom_classes": [],
       "_model_module": "@jupyter-widgets/controls",
       "_model_module_version": "1.5.0",
       "_model_name": "VBoxModel",
       "_view_count": null,
       "_view_module": "@jupyter-widgets/controls",
       "_view_module_version": "1.5.0",
       "_view_name": "VBoxView",
       "box_style": "",
       "children": [
        "IPY_MODEL_5ffb53b010e948a0918366a7721dd7a9",
        "IPY_MODEL_86af7db3cea442beb67da28063f15ed6"
       ],
       "layout": "IPY_MODEL_b6f3605957844ac0b026ef0593befbae"
      }
     },
     "f836cfd56e0d4d7188f1b263a5845bff": {
      "model_module": "@jupyter-widgets/base",
      "model_module_version": "1.2.0",
      "model_name": "LayoutModel",
      "state": {
       "_model_module": "@jupyter-widgets/base",
       "_model_module_version": "1.2.0",
       "_model_name": "LayoutModel",
       "_view_count": null,
       "_view_module": "@jupyter-widgets/base",
       "_view_module_version": "1.2.0",
       "_view_name": "LayoutView",
       "align_content": null,
       "align_items": null,
       "align_self": null,
       "border": null,
       "bottom": null,
       "display": null,
       "flex": null,
       "flex_flow": null,
       "grid_area": null,
       "grid_auto_columns": null,
       "grid_auto_flow": null,
       "grid_auto_rows": null,
       "grid_column": null,
       "grid_gap": null,
       "grid_row": null,
       "grid_template_areas": null,
       "grid_template_columns": null,
       "grid_template_rows": null,
       "height": null,
       "justify_content": null,
       "justify_items": null,
       "left": null,
       "margin": null,
       "max_height": null,
       "max_width": null,
       "min_height": null,
       "min_width": null,
       "object_fit": null,
       "object_position": null,
       "order": null,
       "overflow": null,
       "overflow_x": null,
       "overflow_y": null,
       "padding": null,
       "right": null,
       "top": null,
       "visibility": null,
       "width": null
      }
     },
     "f9081778edc6436c9d1bc9a886ac922c": {
      "model_module": "@jupyter-widgets/controls",
      "model_module_version": "1.5.0",
      "model_name": "HTMLModel",
      "state": {
       "_dom_classes": [],
       "_model_module": "@jupyter-widgets/controls",
       "_model_module_version": "1.5.0",
       "_model_name": "HTMLModel",
       "_view_count": null,
       "_view_module": "@jupyter-widgets/controls",
       "_view_module_version": "1.5.0",
       "_view_name": "HTMLView",
       "description": "",
       "description_tooltip": null,
       "layout": "IPY_MODEL_f3e6058e180d40b8bc25ff82940789f1",
       "placeholder": "​",
       "style": "IPY_MODEL_842a840396ab4cefb93cc2733bf00cf7",
       "value": " 833M/833M [00:19&lt;00:00, 43.1MB/s]"
      }
     },
     "fb6b7fc69b2549ab9d80d71017422178": {
      "model_module": "@jupyter-widgets/base",
      "model_module_version": "1.2.0",
      "model_name": "LayoutModel",
      "state": {
       "_model_module": "@jupyter-widgets/base",
       "_model_module_version": "1.2.0",
       "_model_name": "LayoutModel",
       "_view_count": null,
       "_view_module": "@jupyter-widgets/base",
       "_view_module_version": "1.2.0",
       "_view_name": "LayoutView",
       "align_content": null,
       "align_items": null,
       "align_self": null,
       "border": null,
       "bottom": null,
       "display": null,
       "flex": null,
       "flex_flow": null,
       "grid_area": null,
       "grid_auto_columns": null,
       "grid_auto_flow": null,
       "grid_auto_rows": null,
       "grid_column": null,
       "grid_gap": null,
       "grid_row": null,
       "grid_template_areas": null,
       "grid_template_columns": null,
       "grid_template_rows": null,
       "height": null,
       "justify_content": null,
       "justify_items": null,
       "left": null,
       "margin": null,
       "max_height": null,
       "max_width": null,
       "min_height": null,
       "min_width": null,
       "object_fit": null,
       "object_position": null,
       "order": null,
       "overflow": null,
       "overflow_x": null,
       "overflow_y": null,
       "padding": null,
       "right": null,
       "top": null,
       "visibility": null,
       "width": null
      }
     },
     "ff0d93c0f2a54cae8698028db31d1454": {
      "model_module": "@jupyter-widgets/controls",
      "model_module_version": "1.5.0",
      "model_name": "DescriptionStyleModel",
      "state": {
       "_model_module": "@jupyter-widgets/controls",
       "_model_module_version": "1.5.0",
       "_model_name": "DescriptionStyleModel",
       "_view_count": null,
       "_view_module": "@jupyter-widgets/base",
       "_view_module_version": "1.2.0",
       "_view_name": "StyleView",
       "description_width": ""
      }
     }
    },
    "version_major": 2,
    "version_minor": 0
   }
  }
 },
 "nbformat": 4,
 "nbformat_minor": 5
}
