{
 "cells": [
  {
   "cell_type": "markdown",
   "id": "70f90ffb",
   "metadata": {
    "id": "e460cbb5",
    "papermill": {
     "duration": 0.027808,
     "end_time": "2022-03-22T09:40:01.410751",
     "exception": false,
     "start_time": "2022-03-22T09:40:01.382943",
     "status": "completed"
    },
    "tags": []
   },
   "source": [
    "# About this notebook\n",
    "- Deberta-v3-large starter code\n",
    "- pip wheels is [here](https://www.kaggle.com/code/yasufuminakama/pppm-pip-wheels)\n",
    "- Inference notebook is [here](https://www.kaggle.com/code/yasufuminakama/pppm-deberta-v3-large-baseline-inference)\n",
    "\n",
    "If this notebook is helpful, feel free to upvote :)"
   ]
  },
  {
   "cell_type": "code",
   "execution_count": 1,
   "id": "4b6835d2-9fc4-4e64-8eb9-1f8eebb143bf",
   "metadata": {},
   "outputs": [],
   "source": [
    "import os\n",
    "import time\n",
    "wait_to_make = \"trained_list/gpt-net.txt\"\n",
    "count = 0\n",
    "while 1:\n",
    "    if os.path.exists(wait_to_make):\n",
    "        break\n",
    "    print(f'sleep {count} h')\n",
    "    time.sleep(3600)\n",
    "    count+=1\n",
    "    \n",
    "local = True"
   ]
  },
  {
   "cell_type": "code",
   "execution_count": 2,
   "id": "7df63313-5526-4691-94ae-12ea4bf25bde",
   "metadata": {},
   "outputs": [],
   "source": [
    "EXP_NAME = \"xlnet-base-cased\"\n"
   ]
  },
  {
   "cell_type": "code",
   "execution_count": 3,
   "id": "d14ce8ab",
   "metadata": {},
   "outputs": [],
   "source": [
    "# !nvidia-smi"
   ]
  },
  {
   "cell_type": "code",
   "execution_count": 4,
   "id": "7d511eeb",
   "metadata": {},
   "outputs": [],
   "source": [
    "# ! pip install torch==1.9.0+cu111 torchvision==0.10.0+cu111 torchaudio===0.9.0 -f https://download.pytorch.org/whl/torch_stable.html"
   ]
  },
  {
   "cell_type": "code",
   "execution_count": 5,
   "id": "c13809d2",
   "metadata": {},
   "outputs": [
    {
     "name": "stdout",
     "output_type": "stream",
     "text": [
      "1.9.0+cu111\n",
      "True\n"
     ]
    }
   ],
   "source": [
    "import torch\n",
    "print(torch.__version__)\n",
    "print(torch.cuda.is_available())"
   ]
  },
  {
   "cell_type": "markdown",
   "id": "263c913e",
   "metadata": {
    "papermill": {
     "duration": 0.024515,
     "end_time": "2022-03-22T09:40:01.460332",
     "exception": false,
     "start_time": "2022-03-22T09:40:01.435817",
     "status": "completed"
    },
    "tags": []
   },
   "source": [
    "# Directory settings"
   ]
  },
  {
   "cell_type": "code",
   "execution_count": 6,
   "id": "46d8c76e",
   "metadata": {
    "id": "fa3b873b",
    "papermill": {
     "duration": 0.041313,
     "end_time": "2022-03-22T09:40:01.526545",
     "exception": false,
     "start_time": "2022-03-22T09:40:01.485232",
     "status": "completed"
    },
    "tags": []
   },
   "outputs": [],
   "source": [
    "# ====================================================\n",
    "# Directory settings\n",
    "# ====================================================\n",
    "\n",
    "import os\n",
    "import datetime\n",
    "if local:\n",
    "    INPUT_DIR = '../../data/us-patent-phrase-to-phrase-matching/'\n",
    "else:\n",
    "    INPUT_DIR = '../../data/us-patent-phrase-to-phrase-matching/'\n",
    "\n",
    "OUTPUT_DIR = f'./output/{EXP_NAME}/'\n",
    "# if not os.path.exists(OUTPUT_DIR):\n",
    "os.makedirs(OUTPUT_DIR, exist_ok=True)\n"
   ]
  },
  {
   "cell_type": "markdown",
   "id": "c75f6918",
   "metadata": {
    "id": "1d0c4430",
    "papermill": {
     "duration": 0.024609,
     "end_time": "2022-03-22T09:40:01.576366",
     "exception": false,
     "start_time": "2022-03-22T09:40:01.551757",
     "status": "completed"
    },
    "tags": []
   },
   "source": [
    "# CFG"
   ]
  },
  {
   "cell_type": "code",
   "execution_count": 7,
   "id": "80d58afe",
   "metadata": {
    "id": "48dd82bb",
    "papermill": {
     "duration": 0.033949,
     "end_time": "2022-03-22T09:40:01.634977",
     "exception": false,
     "start_time": "2022-03-22T09:40:01.601028",
     "status": "completed"
    },
    "tags": []
   },
   "outputs": [],
   "source": [
    "# ====================================================\n",
    "# CFG\n",
    "# ====================================================\n",
    "class CFG:\n",
    "    wandb=False\n",
    "    competition='PPPM'\n",
    "    _wandb_kernel='nakama'\n",
    "    debug=False\n",
    "    apex=True\n",
    "    print_freq=100\n",
    "    num_workers=4\n",
    "    # model=\"microsoft/deberta-v3-large\"\n",
    "    model = \"xlnet-base-cased\"\n",
    "    # size = \"large\n",
    "    # model = f\"{model}-{size}\"\n",
    "    if \"small\" in model:\n",
    "        hidden_state = hiddden_state_fix = 512\n",
    "    elif \"base\" in model or \"medium\" in model:\n",
    "        hidden_state = hiddden_state_fix = 768\n",
    "    elif \"large\" in model:\n",
    "        hidden_state = hiddden_state_fix = 1024\n",
    "    elif \"xlarge\" in model:\n",
    "        hidden_state =  1536\n",
    "        \n",
    "    scheduler='cosine' # ['linear', 'cosine']\n",
    "    batch_scheduler=True\n",
    "    num_cycles=0.5\n",
    "    num_warmup_steps=0\n",
    "    epochs=4\n",
    "    encoder_lr=2e-5\n",
    "    decoder_lr=2e-5\n",
    "    min_lr=1e-6\n",
    "    eps=1e-6\n",
    "    betas=(0.9, 0.999)\n",
    "    \n",
    "    batch_size=8\n",
    "    \n",
    "    fc_dropout=0.2\n",
    "    target_size=1\n",
    "    max_len=512\n",
    "    weight_decay=0.01\n",
    "    gradient_accumulation_steps=1\n",
    "    max_grad_norm=1000\n",
    "    seed=42\n",
    "    n_fold=4\n",
    "    trn_fold=[i for i in range(n_fold)]\n",
    "    train=True\n",
    "    \n",
    "if CFG.debug:\n",
    "    CFG.epochs = 2\n",
    "    CFG.trn_fold = [0]"
   ]
  },
  {
   "cell_type": "code",
   "execution_count": 8,
   "id": "b7de2887",
   "metadata": {
    "id": "b88c983e",
    "papermill": {
     "duration": 8.873453,
     "end_time": "2022-03-22T09:40:10.532922",
     "exception": false,
     "start_time": "2022-03-22T09:40:01.659469",
     "status": "completed"
    },
    "tags": []
   },
   "outputs": [],
   "source": [
    "# ====================================================\n",
    "# wandb\n",
    "# ====================================================\n",
    "if CFG.wandb:\n",
    "    \n",
    "    import wandb\n",
    "\n",
    "    try:\n",
    "        from kaggle_secrets import UserSecretsClient\n",
    "        user_secrets = UserSecretsClient()\n",
    "        secret_value_0 = user_secrets.get_secret(\"wandb_api\")\n",
    "        wandb.login(key=secret_value_0)\n",
    "        anony = None\n",
    "    except:\n",
    "        anony = \"must\"\n",
    "        print('If you want to use your W&B account, go to Add-ons -> Secrets and provide your W&B access token. Use the Label name as wandb_api. \\nGet your W&B access token from here: https://wandb.ai/authorize')\n",
    "\n",
    "\n",
    "    def class2dict(f):\n",
    "        return dict((name, getattr(f, name)) for name in dir(f) if not name.startswith('__'))\n",
    "\n",
    "    run = wandb.init(project='PPPM-Public', \n",
    "                     name=CFG.model,\n",
    "                     config=class2dict(CFG),\n",
    "                     group=CFG.model,\n",
    "                     job_type=\"train\",\n",
    "                     anonymous=anony)"
   ]
  },
  {
   "cell_type": "code",
   "execution_count": 9,
   "id": "9f7d6f8c",
   "metadata": {},
   "outputs": [],
   "source": [
    "# !pip install transformers==4.16.2\n",
    "# !pip install tokenizers==0.11.0"
   ]
  },
  {
   "cell_type": "markdown",
   "id": "5ed638be",
   "metadata": {
    "id": "f2ed8ef2",
    "papermill": {
     "duration": 0.038261,
     "end_time": "2022-03-22T09:40:10.626926",
     "exception": false,
     "start_time": "2022-03-22T09:40:10.588665",
     "status": "completed"
    },
    "tags": []
   },
   "source": [
    "# Library"
   ]
  },
  {
   "cell_type": "code",
   "execution_count": 10,
   "id": "ebee5bbe",
   "metadata": {
    "executionInfo": {
     "elapsed": 20123,
     "status": "ok",
     "timestamp": 1644920080956,
     "user": {
      "displayName": "Yasufumi Nakama",
      "photoUrl": "https://lh3.googleusercontent.com/a/default-user=s64",
      "userId": "17486303986134302670"
     },
     "user_tz": -540
    },
    "id": "35916341",
    "outputId": "06fa0ab8-a380-4f54-a98d-b7015b79d9e2",
    "papermill": {
     "duration": 26.143536,
     "end_time": "2022-03-22T09:40:36.798853",
     "exception": false,
     "start_time": "2022-03-22T09:40:10.655317",
     "status": "completed"
    },
    "tags": []
   },
   "outputs": [
    {
     "name": "stdout",
     "output_type": "stream",
     "text": [
      "torch.__version__: 1.9.0+cu111\n",
      "tokenizers.__version__: 0.11.0\n",
      "transformers.__version__: 4.16.2\n",
      "env: TOKENIZERS_PARALLELISM=true\n",
      "cuda\n"
     ]
    }
   ],
   "source": [
    "# ====================================================\n",
    "# Library\n",
    "# ====================================================\n",
    "import os\n",
    "import gc\n",
    "import re\n",
    "import ast\n",
    "import sys\n",
    "import copy\n",
    "import json\n",
    "import time\n",
    "import math\n",
    "import shutil\n",
    "import string\n",
    "import pickle\n",
    "import random\n",
    "import joblib\n",
    "import itertools\n",
    "from pathlib import Path\n",
    "import warnings\n",
    "warnings.filterwarnings(\"ignore\")\n",
    "\n",
    "import scipy as sp\n",
    "import numpy as np\n",
    "import pandas as pd\n",
    "pd.set_option('display.max_rows', 500)\n",
    "pd.set_option('display.max_columns', 500)\n",
    "pd.set_option('display.width', 1000)\n",
    "from tqdm.auto import tqdm\n",
    "from sklearn.metrics import f1_score\n",
    "from sklearn.model_selection import StratifiedKFold, GroupKFold, KFold\n",
    "\n",
    "import torch\n",
    "print(f\"torch.__version__: {torch.__version__}\")\n",
    "import torch.nn as nn\n",
    "from torch.nn import Parameter\n",
    "import torch.nn.functional as F\n",
    "from torch.optim import Adam, SGD, AdamW\n",
    "from torch.utils.data import DataLoader, Dataset\n",
    "\n",
    "import tokenizers\n",
    "import transformers\n",
    "print(f\"tokenizers.__version__: {tokenizers.__version__}\")\n",
    "print(f\"transformers.__version__: {transformers.__version__}\")\n",
    "from transformers import AutoTokenizer, AutoModel, AutoConfig\n",
    "from transformers import get_linear_schedule_with_warmup, get_cosine_schedule_with_warmup\n",
    "%env TOKENIZERS_PARALLELISM=true\n",
    "\n",
    "device = torch.device('cuda' if torch.cuda.is_available() else 'cpu')\n",
    "\n",
    "# device = torch.device('cpu')\n",
    "print(device)\n",
    "\n",
    "start = time.time()"
   ]
  },
  {
   "cell_type": "markdown",
   "id": "dcc0106a",
   "metadata": {
    "id": "fd586614",
    "papermill": {
     "duration": 0.032888,
     "end_time": "2022-03-22T09:40:36.865209",
     "exception": false,
     "start_time": "2022-03-22T09:40:36.832321",
     "status": "completed"
    },
    "tags": []
   },
   "source": [
    "# Utils"
   ]
  },
  {
   "cell_type": "code",
   "execution_count": 11,
   "id": "540df385",
   "metadata": {
    "id": "d5c0ccc6",
    "papermill": {
     "duration": 0.21551,
     "end_time": "2022-03-22T09:40:37.116848",
     "exception": false,
     "start_time": "2022-03-22T09:40:36.901338",
     "status": "completed"
    },
    "tags": []
   },
   "outputs": [],
   "source": [
    "# ====================================================\n",
    "# Utils\n",
    "# ====================================================\n",
    "def get_score(y_true, y_pred):\n",
    "    score = sp.stats.pearsonr(y_true, y_pred)[0]\n",
    "    return score\n",
    "\n",
    "\n",
    "def get_logger(filename=OUTPUT_DIR+'train'):\n",
    "    from logging import getLogger, INFO, StreamHandler, FileHandler, Formatter\n",
    "    logger = getLogger(__name__)\n",
    "    logger.setLevel(INFO)\n",
    "    handler1 = StreamHandler()\n",
    "    handler1.setFormatter(Formatter(\"%(message)s\"))\n",
    "    handler2 = FileHandler(filename=f\"{filename}.log\")\n",
    "    handler2.setFormatter(Formatter(\"%(message)s\"))\n",
    "    logger.addHandler(handler1)\n",
    "    logger.addHandler(handler2)\n",
    "    return logger\n",
    "\n",
    "LOGGER = get_logger()\n",
    "\n",
    "def seed_everything(seed=42):\n",
    "    random.seed(seed)\n",
    "    os.environ['PYTHONHASHSEED'] = str(seed)\n",
    "    np.random.seed(seed)\n",
    "    torch.manual_seed(seed)\n",
    "    torch.cuda.manual_seed(seed)\n",
    "    torch.backends.cudnn.deterministic = True\n",
    "    \n",
    "seed_everything(seed=42)"
   ]
  },
  {
   "cell_type": "markdown",
   "id": "32170fde",
   "metadata": {
    "id": "cb3d8e1e",
    "papermill": {
     "duration": 0.032614,
     "end_time": "2022-03-22T09:40:37.184739",
     "exception": false,
     "start_time": "2022-03-22T09:40:37.152125",
     "status": "completed"
    },
    "tags": []
   },
   "source": [
    "# Data Loading"
   ]
  },
  {
   "cell_type": "code",
   "execution_count": 12,
   "id": "a903a50f",
   "metadata": {
    "executionInfo": {
     "elapsed": 2627,
     "status": "ok",
     "timestamp": 1644920084001,
     "user": {
      "displayName": "Yasufumi Nakama",
      "photoUrl": "https://lh3.googleusercontent.com/a/default-user=s64",
      "userId": "17486303986134302670"
     },
     "user_tz": -540
    },
    "id": "bef012d3",
    "outputId": "d4d60dbc-510c-4f34-8d64-dd1d88c4808c",
    "papermill": {
     "duration": 0.154829,
     "end_time": "2022-03-22T09:40:37.374453",
     "exception": false,
     "start_time": "2022-03-22T09:40:37.219624",
     "status": "completed"
    },
    "tags": []
   },
   "outputs": [
    {
     "name": "stdout",
     "output_type": "stream",
     "text": [
      "train.shape: (36473, 5)\n",
      "test.shape: (36, 4)\n",
      "submission.shape: (36, 2)\n"
     ]
    },
    {
     "data": {
      "text/html": [
       "<div>\n",
       "<style scoped>\n",
       "    .dataframe tbody tr th:only-of-type {\n",
       "        vertical-align: middle;\n",
       "    }\n",
       "\n",
       "    .dataframe tbody tr th {\n",
       "        vertical-align: top;\n",
       "    }\n",
       "\n",
       "    .dataframe thead th {\n",
       "        text-align: right;\n",
       "    }\n",
       "</style>\n",
       "<table border=\"1\" class=\"dataframe\">\n",
       "  <thead>\n",
       "    <tr style=\"text-align: right;\">\n",
       "      <th></th>\n",
       "      <th>id</th>\n",
       "      <th>anchor</th>\n",
       "      <th>target</th>\n",
       "      <th>context</th>\n",
       "      <th>score</th>\n",
       "    </tr>\n",
       "  </thead>\n",
       "  <tbody>\n",
       "    <tr>\n",
       "      <th>0</th>\n",
       "      <td>37d61fd2272659b1</td>\n",
       "      <td>abatement</td>\n",
       "      <td>abatement of pollution</td>\n",
       "      <td>A47</td>\n",
       "      <td>0.50</td>\n",
       "    </tr>\n",
       "    <tr>\n",
       "      <th>1</th>\n",
       "      <td>7b9652b17b68b7a4</td>\n",
       "      <td>abatement</td>\n",
       "      <td>act of abating</td>\n",
       "      <td>A47</td>\n",
       "      <td>0.75</td>\n",
       "    </tr>\n",
       "    <tr>\n",
       "      <th>2</th>\n",
       "      <td>36d72442aefd8232</td>\n",
       "      <td>abatement</td>\n",
       "      <td>active catalyst</td>\n",
       "      <td>A47</td>\n",
       "      <td>0.25</td>\n",
       "    </tr>\n",
       "    <tr>\n",
       "      <th>3</th>\n",
       "      <td>5296b0c19e1ce60e</td>\n",
       "      <td>abatement</td>\n",
       "      <td>eliminating process</td>\n",
       "      <td>A47</td>\n",
       "      <td>0.50</td>\n",
       "    </tr>\n",
       "    <tr>\n",
       "      <th>4</th>\n",
       "      <td>54c1e3b9184cb5b6</td>\n",
       "      <td>abatement</td>\n",
       "      <td>forest region</td>\n",
       "      <td>A47</td>\n",
       "      <td>0.00</td>\n",
       "    </tr>\n",
       "  </tbody>\n",
       "</table>\n",
       "</div>"
      ],
      "text/plain": [
       "                 id     anchor                  target context  score\n",
       "0  37d61fd2272659b1  abatement  abatement of pollution     A47   0.50\n",
       "1  7b9652b17b68b7a4  abatement          act of abating     A47   0.75\n",
       "2  36d72442aefd8232  abatement         active catalyst     A47   0.25\n",
       "3  5296b0c19e1ce60e  abatement     eliminating process     A47   0.50\n",
       "4  54c1e3b9184cb5b6  abatement           forest region     A47   0.00"
      ]
     },
     "metadata": {},
     "output_type": "display_data"
    },
    {
     "data": {
      "text/html": [
       "<div>\n",
       "<style scoped>\n",
       "    .dataframe tbody tr th:only-of-type {\n",
       "        vertical-align: middle;\n",
       "    }\n",
       "\n",
       "    .dataframe tbody tr th {\n",
       "        vertical-align: top;\n",
       "    }\n",
       "\n",
       "    .dataframe thead th {\n",
       "        text-align: right;\n",
       "    }\n",
       "</style>\n",
       "<table border=\"1\" class=\"dataframe\">\n",
       "  <thead>\n",
       "    <tr style=\"text-align: right;\">\n",
       "      <th></th>\n",
       "      <th>id</th>\n",
       "      <th>anchor</th>\n",
       "      <th>target</th>\n",
       "      <th>context</th>\n",
       "    </tr>\n",
       "  </thead>\n",
       "  <tbody>\n",
       "    <tr>\n",
       "      <th>0</th>\n",
       "      <td>4112d61851461f60</td>\n",
       "      <td>opc drum</td>\n",
       "      <td>inorganic photoconductor drum</td>\n",
       "      <td>G02</td>\n",
       "    </tr>\n",
       "    <tr>\n",
       "      <th>1</th>\n",
       "      <td>09e418c93a776564</td>\n",
       "      <td>adjust gas flow</td>\n",
       "      <td>altering gas flow</td>\n",
       "      <td>F23</td>\n",
       "    </tr>\n",
       "    <tr>\n",
       "      <th>2</th>\n",
       "      <td>36baf228038e314b</td>\n",
       "      <td>lower trunnion</td>\n",
       "      <td>lower locating</td>\n",
       "      <td>B60</td>\n",
       "    </tr>\n",
       "    <tr>\n",
       "      <th>3</th>\n",
       "      <td>1f37ead645e7f0c8</td>\n",
       "      <td>cap component</td>\n",
       "      <td>upper portion</td>\n",
       "      <td>D06</td>\n",
       "    </tr>\n",
       "    <tr>\n",
       "      <th>4</th>\n",
       "      <td>71a5b6ad068d531f</td>\n",
       "      <td>neural stimulation</td>\n",
       "      <td>artificial neural network</td>\n",
       "      <td>H04</td>\n",
       "    </tr>\n",
       "  </tbody>\n",
       "</table>\n",
       "</div>"
      ],
      "text/plain": [
       "                 id              anchor                         target context\n",
       "0  4112d61851461f60            opc drum  inorganic photoconductor drum     G02\n",
       "1  09e418c93a776564     adjust gas flow              altering gas flow     F23\n",
       "2  36baf228038e314b      lower trunnion                 lower locating     B60\n",
       "3  1f37ead645e7f0c8       cap component                  upper portion     D06\n",
       "4  71a5b6ad068d531f  neural stimulation      artificial neural network     H04"
      ]
     },
     "metadata": {},
     "output_type": "display_data"
    },
    {
     "data": {
      "text/html": [
       "<div>\n",
       "<style scoped>\n",
       "    .dataframe tbody tr th:only-of-type {\n",
       "        vertical-align: middle;\n",
       "    }\n",
       "\n",
       "    .dataframe tbody tr th {\n",
       "        vertical-align: top;\n",
       "    }\n",
       "\n",
       "    .dataframe thead th {\n",
       "        text-align: right;\n",
       "    }\n",
       "</style>\n",
       "<table border=\"1\" class=\"dataframe\">\n",
       "  <thead>\n",
       "    <tr style=\"text-align: right;\">\n",
       "      <th></th>\n",
       "      <th>id</th>\n",
       "      <th>score</th>\n",
       "    </tr>\n",
       "  </thead>\n",
       "  <tbody>\n",
       "    <tr>\n",
       "      <th>0</th>\n",
       "      <td>4112d61851461f60</td>\n",
       "      <td>0</td>\n",
       "    </tr>\n",
       "    <tr>\n",
       "      <th>1</th>\n",
       "      <td>09e418c93a776564</td>\n",
       "      <td>0</td>\n",
       "    </tr>\n",
       "    <tr>\n",
       "      <th>2</th>\n",
       "      <td>36baf228038e314b</td>\n",
       "      <td>0</td>\n",
       "    </tr>\n",
       "    <tr>\n",
       "      <th>3</th>\n",
       "      <td>1f37ead645e7f0c8</td>\n",
       "      <td>0</td>\n",
       "    </tr>\n",
       "    <tr>\n",
       "      <th>4</th>\n",
       "      <td>71a5b6ad068d531f</td>\n",
       "      <td>0</td>\n",
       "    </tr>\n",
       "  </tbody>\n",
       "</table>\n",
       "</div>"
      ],
      "text/plain": [
       "                 id  score\n",
       "0  4112d61851461f60      0\n",
       "1  09e418c93a776564      0\n",
       "2  36baf228038e314b      0\n",
       "3  1f37ead645e7f0c8      0\n",
       "4  71a5b6ad068d531f      0"
      ]
     },
     "metadata": {},
     "output_type": "display_data"
    }
   ],
   "source": [
    "# ====================================================\n",
    "# Data Loading\n",
    "# ====================================================\n",
    "train = pd.read_csv(INPUT_DIR+'train.csv')\n",
    "test = pd.read_csv(INPUT_DIR+'test.csv')\n",
    "submission = pd.read_csv(INPUT_DIR+'sample_submission.csv')\n",
    "print(f\"train.shape: {train.shape}\")\n",
    "print(f\"test.shape: {test.shape}\")\n",
    "print(f\"submission.shape: {submission.shape}\")\n",
    "display(train.head())\n",
    "display(test.head())\n",
    "display(submission.head())"
   ]
  },
  {
   "cell_type": "code",
   "execution_count": 13,
   "id": "fa85ac77",
   "metadata": {
    "papermill": {
     "duration": 0.848818,
     "end_time": "2022-03-22T09:40:38.260255",
     "exception": false,
     "start_time": "2022-03-22T09:40:37.411437",
     "status": "completed"
    },
    "tags": []
   },
   "outputs": [
    {
     "data": {
      "text/html": [
       "<div>\n",
       "<style scoped>\n",
       "    .dataframe tbody tr th:only-of-type {\n",
       "        vertical-align: middle;\n",
       "    }\n",
       "\n",
       "    .dataframe tbody tr th {\n",
       "        vertical-align: top;\n",
       "    }\n",
       "\n",
       "    .dataframe thead th {\n",
       "        text-align: right;\n",
       "    }\n",
       "</style>\n",
       "<table border=\"1\" class=\"dataframe\">\n",
       "  <thead>\n",
       "    <tr style=\"text-align: right;\">\n",
       "      <th></th>\n",
       "      <th>id</th>\n",
       "      <th>anchor</th>\n",
       "      <th>target</th>\n",
       "      <th>context</th>\n",
       "      <th>score</th>\n",
       "      <th>context_text</th>\n",
       "    </tr>\n",
       "  </thead>\n",
       "  <tbody>\n",
       "    <tr>\n",
       "      <th>0</th>\n",
       "      <td>37d61fd2272659b1</td>\n",
       "      <td>abatement</td>\n",
       "      <td>abatement of pollution</td>\n",
       "      <td>A47</td>\n",
       "      <td>0.50</td>\n",
       "      <td>HUMAN NECESSITIES. FURNITURE; DOMESTIC ARTICLE...</td>\n",
       "    </tr>\n",
       "    <tr>\n",
       "      <th>1</th>\n",
       "      <td>7b9652b17b68b7a4</td>\n",
       "      <td>abatement</td>\n",
       "      <td>act of abating</td>\n",
       "      <td>A47</td>\n",
       "      <td>0.75</td>\n",
       "      <td>HUMAN NECESSITIES. FURNITURE; DOMESTIC ARTICLE...</td>\n",
       "    </tr>\n",
       "    <tr>\n",
       "      <th>2</th>\n",
       "      <td>36d72442aefd8232</td>\n",
       "      <td>abatement</td>\n",
       "      <td>active catalyst</td>\n",
       "      <td>A47</td>\n",
       "      <td>0.25</td>\n",
       "      <td>HUMAN NECESSITIES. FURNITURE; DOMESTIC ARTICLE...</td>\n",
       "    </tr>\n",
       "    <tr>\n",
       "      <th>3</th>\n",
       "      <td>5296b0c19e1ce60e</td>\n",
       "      <td>abatement</td>\n",
       "      <td>eliminating process</td>\n",
       "      <td>A47</td>\n",
       "      <td>0.50</td>\n",
       "      <td>HUMAN NECESSITIES. FURNITURE; DOMESTIC ARTICLE...</td>\n",
       "    </tr>\n",
       "    <tr>\n",
       "      <th>4</th>\n",
       "      <td>54c1e3b9184cb5b6</td>\n",
       "      <td>abatement</td>\n",
       "      <td>forest region</td>\n",
       "      <td>A47</td>\n",
       "      <td>0.00</td>\n",
       "      <td>HUMAN NECESSITIES. FURNITURE; DOMESTIC ARTICLE...</td>\n",
       "    </tr>\n",
       "  </tbody>\n",
       "</table>\n",
       "</div>"
      ],
      "text/plain": [
       "                 id     anchor                  target context  score                                       context_text\n",
       "0  37d61fd2272659b1  abatement  abatement of pollution     A47   0.50  HUMAN NECESSITIES. FURNITURE; DOMESTIC ARTICLE...\n",
       "1  7b9652b17b68b7a4  abatement          act of abating     A47   0.75  HUMAN NECESSITIES. FURNITURE; DOMESTIC ARTICLE...\n",
       "2  36d72442aefd8232  abatement         active catalyst     A47   0.25  HUMAN NECESSITIES. FURNITURE; DOMESTIC ARTICLE...\n",
       "3  5296b0c19e1ce60e  abatement     eliminating process     A47   0.50  HUMAN NECESSITIES. FURNITURE; DOMESTIC ARTICLE...\n",
       "4  54c1e3b9184cb5b6  abatement           forest region     A47   0.00  HUMAN NECESSITIES. FURNITURE; DOMESTIC ARTICLE..."
      ]
     },
     "metadata": {},
     "output_type": "display_data"
    },
    {
     "data": {
      "text/html": [
       "<div>\n",
       "<style scoped>\n",
       "    .dataframe tbody tr th:only-of-type {\n",
       "        vertical-align: middle;\n",
       "    }\n",
       "\n",
       "    .dataframe tbody tr th {\n",
       "        vertical-align: top;\n",
       "    }\n",
       "\n",
       "    .dataframe thead th {\n",
       "        text-align: right;\n",
       "    }\n",
       "</style>\n",
       "<table border=\"1\" class=\"dataframe\">\n",
       "  <thead>\n",
       "    <tr style=\"text-align: right;\">\n",
       "      <th></th>\n",
       "      <th>id</th>\n",
       "      <th>anchor</th>\n",
       "      <th>target</th>\n",
       "      <th>context</th>\n",
       "      <th>context_text</th>\n",
       "    </tr>\n",
       "  </thead>\n",
       "  <tbody>\n",
       "    <tr>\n",
       "      <th>0</th>\n",
       "      <td>4112d61851461f60</td>\n",
       "      <td>opc drum</td>\n",
       "      <td>inorganic photoconductor drum</td>\n",
       "      <td>G02</td>\n",
       "      <td>PHYSICS. OPTICS</td>\n",
       "    </tr>\n",
       "    <tr>\n",
       "      <th>1</th>\n",
       "      <td>09e418c93a776564</td>\n",
       "      <td>adjust gas flow</td>\n",
       "      <td>altering gas flow</td>\n",
       "      <td>F23</td>\n",
       "      <td>MECHANICAL ENGINEERING; LIGHTING; HEATING; WEA...</td>\n",
       "    </tr>\n",
       "    <tr>\n",
       "      <th>2</th>\n",
       "      <td>36baf228038e314b</td>\n",
       "      <td>lower trunnion</td>\n",
       "      <td>lower locating</td>\n",
       "      <td>B60</td>\n",
       "      <td>PERFORMING OPERATIONS; TRANSPORTING. VEHICLES ...</td>\n",
       "    </tr>\n",
       "    <tr>\n",
       "      <th>3</th>\n",
       "      <td>1f37ead645e7f0c8</td>\n",
       "      <td>cap component</td>\n",
       "      <td>upper portion</td>\n",
       "      <td>D06</td>\n",
       "      <td>TEXTILES; PAPER. TREATMENT OF TEXTILES OR THE ...</td>\n",
       "    </tr>\n",
       "    <tr>\n",
       "      <th>4</th>\n",
       "      <td>71a5b6ad068d531f</td>\n",
       "      <td>neural stimulation</td>\n",
       "      <td>artificial neural network</td>\n",
       "      <td>H04</td>\n",
       "      <td>ELECTRICITY. ELECTRIC COMMUNICATION TECHNIQUE</td>\n",
       "    </tr>\n",
       "  </tbody>\n",
       "</table>\n",
       "</div>"
      ],
      "text/plain": [
       "                 id              anchor                         target context                                       context_text\n",
       "0  4112d61851461f60            opc drum  inorganic photoconductor drum     G02                                    PHYSICS. OPTICS\n",
       "1  09e418c93a776564     adjust gas flow              altering gas flow     F23  MECHANICAL ENGINEERING; LIGHTING; HEATING; WEA...\n",
       "2  36baf228038e314b      lower trunnion                 lower locating     B60  PERFORMING OPERATIONS; TRANSPORTING. VEHICLES ...\n",
       "3  1f37ead645e7f0c8       cap component                  upper portion     D06  TEXTILES; PAPER. TREATMENT OF TEXTILES OR THE ...\n",
       "4  71a5b6ad068d531f  neural stimulation      artificial neural network     H04      ELECTRICITY. ELECTRIC COMMUNICATION TECHNIQUE"
      ]
     },
     "metadata": {},
     "output_type": "display_data"
    }
   ],
   "source": [
    "# ====================================================\n",
    "# CPC Data\n",
    "# ====================================================\n",
    "def get_cpc_texts():\n",
    "    contexts = []\n",
    "    pattern = '[A-Z]\\d+'\n",
    "    for file_name in os.listdir(INPUT_DIR+'CPCSchemeXML202105'):\n",
    "        result = re.findall(pattern, file_name)\n",
    "        if result:\n",
    "            contexts.append(result)\n",
    "    contexts = sorted(set(sum(contexts, [])))\n",
    "    results = {}\n",
    "    for cpc in ['A', 'B', 'C', 'D', 'E', 'F', 'G', 'H', 'Y']:\n",
    "        with open(f'{INPUT_DIR}CPCTitleList202202/cpc-section-{cpc}_20220201.txt') as f:\n",
    "            s = f.read()\n",
    "        pattern = f'{cpc}\\t\\t.+'\n",
    "        result = re.findall(pattern, s)\n",
    "        cpc_result = result[0].lstrip(pattern)\n",
    "        for context in [c for c in contexts if c[0] == cpc]:\n",
    "            pattern = f'{context}\\t\\t.+'\n",
    "            result = re.findall(pattern, s)\n",
    "            results[context] = cpc_result + \". \" + result[0].lstrip(pattern)\n",
    "    return results\n",
    "\n",
    "\n",
    "# cpc_texts = get_cpc_texts()\n",
    "# torch.save(cpc_texts, OUTPUT_DIR+\"cpc_texts.pth\")\n",
    "cpc_texts = torch.load(INPUT_DIR+\"cpc_texts.pth\")\n",
    "train['context_text'] = train['context'].map(cpc_texts)\n",
    "test['context_text'] = test['context'].map(cpc_texts)\n",
    "display(train.head())\n",
    "display(test.head())"
   ]
  },
  {
   "cell_type": "code",
   "execution_count": 14,
   "id": "7bb73eb6",
   "metadata": {
    "papermill": {
     "duration": 0.084831,
     "end_time": "2022-03-22T09:40:38.384239",
     "exception": false,
     "start_time": "2022-03-22T09:40:38.299408",
     "status": "completed"
    },
    "tags": []
   },
   "outputs": [
    {
     "data": {
      "text/html": [
       "<div>\n",
       "<style scoped>\n",
       "    .dataframe tbody tr th:only-of-type {\n",
       "        vertical-align: middle;\n",
       "    }\n",
       "\n",
       "    .dataframe tbody tr th {\n",
       "        vertical-align: top;\n",
       "    }\n",
       "\n",
       "    .dataframe thead th {\n",
       "        text-align: right;\n",
       "    }\n",
       "</style>\n",
       "<table border=\"1\" class=\"dataframe\">\n",
       "  <thead>\n",
       "    <tr style=\"text-align: right;\">\n",
       "      <th></th>\n",
       "      <th>id</th>\n",
       "      <th>anchor</th>\n",
       "      <th>target</th>\n",
       "      <th>context</th>\n",
       "      <th>score</th>\n",
       "      <th>context_text</th>\n",
       "      <th>text</th>\n",
       "    </tr>\n",
       "  </thead>\n",
       "  <tbody>\n",
       "    <tr>\n",
       "      <th>0</th>\n",
       "      <td>37d61fd2272659b1</td>\n",
       "      <td>abatement</td>\n",
       "      <td>abatement of pollution</td>\n",
       "      <td>A47</td>\n",
       "      <td>0.50</td>\n",
       "      <td>HUMAN NECESSITIES. FURNITURE; DOMESTIC ARTICLE...</td>\n",
       "      <td>abatement[SEP]abatement of pollution[SEP]HUMAN...</td>\n",
       "    </tr>\n",
       "    <tr>\n",
       "      <th>1</th>\n",
       "      <td>7b9652b17b68b7a4</td>\n",
       "      <td>abatement</td>\n",
       "      <td>act of abating</td>\n",
       "      <td>A47</td>\n",
       "      <td>0.75</td>\n",
       "      <td>HUMAN NECESSITIES. FURNITURE; DOMESTIC ARTICLE...</td>\n",
       "      <td>abatement[SEP]act of abating[SEP]HUMAN NECESSI...</td>\n",
       "    </tr>\n",
       "    <tr>\n",
       "      <th>2</th>\n",
       "      <td>36d72442aefd8232</td>\n",
       "      <td>abatement</td>\n",
       "      <td>active catalyst</td>\n",
       "      <td>A47</td>\n",
       "      <td>0.25</td>\n",
       "      <td>HUMAN NECESSITIES. FURNITURE; DOMESTIC ARTICLE...</td>\n",
       "      <td>abatement[SEP]active catalyst[SEP]HUMAN NECESS...</td>\n",
       "    </tr>\n",
       "    <tr>\n",
       "      <th>3</th>\n",
       "      <td>5296b0c19e1ce60e</td>\n",
       "      <td>abatement</td>\n",
       "      <td>eliminating process</td>\n",
       "      <td>A47</td>\n",
       "      <td>0.50</td>\n",
       "      <td>HUMAN NECESSITIES. FURNITURE; DOMESTIC ARTICLE...</td>\n",
       "      <td>abatement[SEP]eliminating process[SEP]HUMAN NE...</td>\n",
       "    </tr>\n",
       "    <tr>\n",
       "      <th>4</th>\n",
       "      <td>54c1e3b9184cb5b6</td>\n",
       "      <td>abatement</td>\n",
       "      <td>forest region</td>\n",
       "      <td>A47</td>\n",
       "      <td>0.00</td>\n",
       "      <td>HUMAN NECESSITIES. FURNITURE; DOMESTIC ARTICLE...</td>\n",
       "      <td>abatement[SEP]forest region[SEP]HUMAN NECESSIT...</td>\n",
       "    </tr>\n",
       "  </tbody>\n",
       "</table>\n",
       "</div>"
      ],
      "text/plain": [
       "                 id     anchor                  target context  score                                       context_text                                               text\n",
       "0  37d61fd2272659b1  abatement  abatement of pollution     A47   0.50  HUMAN NECESSITIES. FURNITURE; DOMESTIC ARTICLE...  abatement[SEP]abatement of pollution[SEP]HUMAN...\n",
       "1  7b9652b17b68b7a4  abatement          act of abating     A47   0.75  HUMAN NECESSITIES. FURNITURE; DOMESTIC ARTICLE...  abatement[SEP]act of abating[SEP]HUMAN NECESSI...\n",
       "2  36d72442aefd8232  abatement         active catalyst     A47   0.25  HUMAN NECESSITIES. FURNITURE; DOMESTIC ARTICLE...  abatement[SEP]active catalyst[SEP]HUMAN NECESS...\n",
       "3  5296b0c19e1ce60e  abatement     eliminating process     A47   0.50  HUMAN NECESSITIES. FURNITURE; DOMESTIC ARTICLE...  abatement[SEP]eliminating process[SEP]HUMAN NE...\n",
       "4  54c1e3b9184cb5b6  abatement           forest region     A47   0.00  HUMAN NECESSITIES. FURNITURE; DOMESTIC ARTICLE...  abatement[SEP]forest region[SEP]HUMAN NECESSIT..."
      ]
     },
     "metadata": {},
     "output_type": "display_data"
    },
    {
     "data": {
      "text/html": [
       "<div>\n",
       "<style scoped>\n",
       "    .dataframe tbody tr th:only-of-type {\n",
       "        vertical-align: middle;\n",
       "    }\n",
       "\n",
       "    .dataframe tbody tr th {\n",
       "        vertical-align: top;\n",
       "    }\n",
       "\n",
       "    .dataframe thead th {\n",
       "        text-align: right;\n",
       "    }\n",
       "</style>\n",
       "<table border=\"1\" class=\"dataframe\">\n",
       "  <thead>\n",
       "    <tr style=\"text-align: right;\">\n",
       "      <th></th>\n",
       "      <th>id</th>\n",
       "      <th>anchor</th>\n",
       "      <th>target</th>\n",
       "      <th>context</th>\n",
       "      <th>context_text</th>\n",
       "      <th>text</th>\n",
       "    </tr>\n",
       "  </thead>\n",
       "  <tbody>\n",
       "    <tr>\n",
       "      <th>0</th>\n",
       "      <td>4112d61851461f60</td>\n",
       "      <td>opc drum</td>\n",
       "      <td>inorganic photoconductor drum</td>\n",
       "      <td>G02</td>\n",
       "      <td>PHYSICS. OPTICS</td>\n",
       "      <td>opc drum[SEP]inorganic photoconductor drum[SEP...</td>\n",
       "    </tr>\n",
       "    <tr>\n",
       "      <th>1</th>\n",
       "      <td>09e418c93a776564</td>\n",
       "      <td>adjust gas flow</td>\n",
       "      <td>altering gas flow</td>\n",
       "      <td>F23</td>\n",
       "      <td>MECHANICAL ENGINEERING; LIGHTING; HEATING; WEA...</td>\n",
       "      <td>adjust gas flow[SEP]altering gas flow[SEP]MECH...</td>\n",
       "    </tr>\n",
       "    <tr>\n",
       "      <th>2</th>\n",
       "      <td>36baf228038e314b</td>\n",
       "      <td>lower trunnion</td>\n",
       "      <td>lower locating</td>\n",
       "      <td>B60</td>\n",
       "      <td>PERFORMING OPERATIONS; TRANSPORTING. VEHICLES ...</td>\n",
       "      <td>lower trunnion[SEP]lower locating[SEP]PERFORMI...</td>\n",
       "    </tr>\n",
       "    <tr>\n",
       "      <th>3</th>\n",
       "      <td>1f37ead645e7f0c8</td>\n",
       "      <td>cap component</td>\n",
       "      <td>upper portion</td>\n",
       "      <td>D06</td>\n",
       "      <td>TEXTILES; PAPER. TREATMENT OF TEXTILES OR THE ...</td>\n",
       "      <td>cap component[SEP]upper portion[SEP]TEXTILES; ...</td>\n",
       "    </tr>\n",
       "    <tr>\n",
       "      <th>4</th>\n",
       "      <td>71a5b6ad068d531f</td>\n",
       "      <td>neural stimulation</td>\n",
       "      <td>artificial neural network</td>\n",
       "      <td>H04</td>\n",
       "      <td>ELECTRICITY. ELECTRIC COMMUNICATION TECHNIQUE</td>\n",
       "      <td>neural stimulation[SEP]artificial neural netwo...</td>\n",
       "    </tr>\n",
       "  </tbody>\n",
       "</table>\n",
       "</div>"
      ],
      "text/plain": [
       "                 id              anchor                         target context                                       context_text                                               text\n",
       "0  4112d61851461f60            opc drum  inorganic photoconductor drum     G02                                    PHYSICS. OPTICS  opc drum[SEP]inorganic photoconductor drum[SEP...\n",
       "1  09e418c93a776564     adjust gas flow              altering gas flow     F23  MECHANICAL ENGINEERING; LIGHTING; HEATING; WEA...  adjust gas flow[SEP]altering gas flow[SEP]MECH...\n",
       "2  36baf228038e314b      lower trunnion                 lower locating     B60  PERFORMING OPERATIONS; TRANSPORTING. VEHICLES ...  lower trunnion[SEP]lower locating[SEP]PERFORMI...\n",
       "3  1f37ead645e7f0c8       cap component                  upper portion     D06  TEXTILES; PAPER. TREATMENT OF TEXTILES OR THE ...  cap component[SEP]upper portion[SEP]TEXTILES; ...\n",
       "4  71a5b6ad068d531f  neural stimulation      artificial neural network     H04      ELECTRICITY. ELECTRIC COMMUNICATION TECHNIQUE  neural stimulation[SEP]artificial neural netwo..."
      ]
     },
     "metadata": {},
     "output_type": "display_data"
    }
   ],
   "source": [
    "pad = \"[SEP]\"\n",
    "train['text'] = train['anchor'] + pad + train['target'] +pad  + train['context_text']\n",
    "test['text'] = test['anchor'] + pad + test['target'] +pad  + test['context_text']\n",
    "display(train.head())\n",
    "display(test.head())"
   ]
  },
  {
   "cell_type": "markdown",
   "id": "b01d622c",
   "metadata": {
    "papermill": {
     "duration": 0.040462,
     "end_time": "2022-03-22T09:40:38.462517",
     "exception": false,
     "start_time": "2022-03-22T09:40:38.422055",
     "status": "completed"
    },
    "tags": []
   },
   "source": [
    "# EDA"
   ]
  },
  {
   "cell_type": "code",
   "execution_count": 15,
   "id": "560906cd",
   "metadata": {
    "papermill": {
     "duration": 0.298955,
     "end_time": "2022-03-22T09:40:38.799273",
     "exception": false,
     "start_time": "2022-03-22T09:40:38.500318",
     "status": "completed"
    },
    "tags": []
   },
   "outputs": [
    {
     "data": {
      "text/plain": [
       "<AxesSubplot:>"
      ]
     },
     "execution_count": 15,
     "metadata": {},
     "output_type": "execute_result"
    },
    {
     "data": {
      "image/png": "[encoded data removed]",
      "text/plain": [
       "<Figure size 432x288 with 1 Axes>"
      ]
     },
     "metadata": {
      "needs_background": "light"
     },
     "output_type": "display_data"
    }
   ],
   "source": [
    "train['score'].hist()"
   ]
  },
  {
   "cell_type": "code",
   "execution_count": 16,
   "id": "bb2122ec",
   "metadata": {
    "papermill": {
     "duration": 0.072329,
     "end_time": "2022-03-22T09:40:38.914779",
     "exception": false,
     "start_time": "2022-03-22T09:40:38.842450",
     "status": "completed"
    },
    "tags": []
   },
   "outputs": [
    {
     "data": {
      "text/plain": [
       "B    8019\n",
       "H    6195\n",
       "G    6013\n",
       "C    5288\n",
       "A    4094\n",
       "F    4054\n",
       "E    1531\n",
       "D    1279\n",
       "Name: context, dtype: int64"
      ]
     },
     "metadata": {},
     "output_type": "display_data"
    }
   ],
   "source": [
    "display(train['context'].apply(lambda x: x[0]).value_counts())"
   ]
  },
  {
   "cell_type": "markdown",
   "id": "fdc1e4e5",
   "metadata": {
    "papermill": {
     "duration": 0.040834,
     "end_time": "2022-03-22T09:40:38.997435",
     "exception": false,
     "start_time": "2022-03-22T09:40:38.956601",
     "status": "completed"
    },
    "tags": []
   },
   "source": [
    "- Y is not in training data, but may be in test data?"
   ]
  },
  {
   "cell_type": "markdown",
   "id": "9249864a",
   "metadata": {
    "id": "9e05b6c4",
    "papermill": {
     "duration": 0.041734,
     "end_time": "2022-03-22T09:40:39.084284",
     "exception": false,
     "start_time": "2022-03-22T09:40:39.042550",
     "status": "completed"
    },
    "tags": []
   },
   "source": [
    "# CV split"
   ]
  },
  {
   "cell_type": "code",
   "execution_count": 17,
   "id": "44a41536",
   "metadata": {
    "executionInfo": {
     "elapsed": 12,
     "status": "ok",
     "timestamp": 1644920084528,
     "user": {
      "displayName": "Yasufumi Nakama",
      "photoUrl": "https://lh3.googleusercontent.com/a/default-user=s64",
      "userId": "17486303986134302670"
     },
     "user_tz": -540
    },
    "id": "3ba287c4",
    "outputId": "307dc0e2-17d6-4bfe-9e95-fdd9b6303974",
    "papermill": {
     "duration": 0.074115,
     "end_time": "2022-03-22T09:40:39.201383",
     "exception": false,
     "start_time": "2022-03-22T09:40:39.127268",
     "status": "completed"
    },
    "tags": []
   },
   "outputs": [
    {
     "data": {
      "text/plain": [
       "fold\n",
       "0    9119\n",
       "1    9118\n",
       "2    9118\n",
       "3    9118\n",
       "dtype: int64"
      ]
     },
     "metadata": {},
     "output_type": "display_data"
    }
   ],
   "source": [
    "# ====================================================\n",
    "# CV split\n",
    "# ====================================================\n",
    "train['score_map'] = train['score'].map({0.00: 0, 0.25: 1, 0.50: 2, 0.75: 3, 1.00: 4})\n",
    "Fold = StratifiedKFold(n_splits=CFG.n_fold, shuffle=True, random_state=CFG.seed)\n",
    "for n, (train_index, val_index) in enumerate(Fold.split(train, train['score_map'])):\n",
    "    train.loc[val_index, 'fold'] = int(n)\n",
    "train['fold'] = train['fold'].astype(int)\n",
    "display(train.groupby('fold').size())"
   ]
  },
  {
   "cell_type": "code",
   "execution_count": 18,
   "id": "bb9ce665",
   "metadata": {
    "id": "4c3ce877",
    "papermill": {
     "duration": 0.049441,
     "end_time": "2022-03-22T09:40:39.291307",
     "exception": false,
     "start_time": "2022-03-22T09:40:39.241866",
     "status": "completed"
    },
    "tags": []
   },
   "outputs": [],
   "source": [
    "if CFG.debug:\n",
    "    display(train.groupby('fold').size())\n",
    "    train = train.sample(n=1000, random_state=0).reset_index(drop=True)\n",
    "    display(train.groupby('fold').size())"
   ]
  },
  {
   "cell_type": "markdown",
   "id": "a7adea75",
   "metadata": {
    "id": "918a28aa",
    "papermill": {
     "duration": 0.039494,
     "end_time": "2022-03-22T09:40:39.374931",
     "exception": false,
     "start_time": "2022-03-22T09:40:39.335437",
     "status": "completed"
    },
    "tags": []
   },
   "source": [
    "# tokenizer"
   ]
  },
  {
   "cell_type": "code",
   "execution_count": 19,
   "id": "4efc387f",
   "metadata": {},
   "outputs": [],
   "source": [
    "# !pip install --no-cache-dir sentencepiece"
   ]
  },
  {
   "cell_type": "code",
   "execution_count": 20,
   "id": "54f8891e",
   "metadata": {
    "papermill": {
     "duration": 5.198604,
     "end_time": "2022-03-22T09:40:44.612849",
     "exception": false,
     "start_time": "2022-03-22T09:40:39.414245",
     "status": "completed"
    },
    "tags": []
   },
   "outputs": [],
   "source": [
    "# ====================================================\n",
    "# tokenizer\n",
    "# ====================================================\n",
    "# tokenizer = AutoTokenizer.from_pretrained(CFG.model,use_fast=False)\n",
    "tokenizer = AutoTokenizer.from_pretrained(CFG.model,use_fast=False)\n",
    "tokenizer.save_pretrained(OUTPUT_DIR+'tokenizer/')\n",
    "CFG.tokenizer = tokenizer\n",
    "\n"
   ]
  },
  {
   "cell_type": "code",
   "execution_count": null,
   "id": "7cf880ca-b3fb-4603-9194-fc20c0f93e59",
   "metadata": {},
   "outputs": [],
   "source": []
  },
  {
   "cell_type": "markdown",
   "id": "d9fca227",
   "metadata": {
    "id": "14da40cf",
    "papermill": {
     "duration": 0.04897,
     "end_time": "2022-03-22T09:40:44.706931",
     "exception": false,
     "start_time": "2022-03-22T09:40:44.657961",
     "status": "completed"
    },
    "tags": []
   },
   "source": [
    "# Dataset"
   ]
  },
  {
   "cell_type": "code",
   "execution_count": 21,
   "id": "2671471a",
   "metadata": {
    "executionInfo": {
     "elapsed": 32827,
     "status": "ok",
     "timestamp": 1644920122500,
     "user": {
      "displayName": "Yasufumi Nakama",
      "photoUrl": "https://lh3.googleusercontent.com/a/default-user=s64",
      "userId": "17486303986134302670"
     },
     "user_tz": -540
    },
    "id": "c00327b0",
    "outputId": "26e947da-b73a-494d-e776-906b037ac08a",
    "papermill": {
     "duration": 7.208379,
     "end_time": "2022-03-22T09:40:51.959343",
     "exception": false,
     "start_time": "2022-03-22T09:40:44.750964",
     "status": "completed"
    },
    "tags": []
   },
   "outputs": [
    {
     "data": {
      "application/vnd.jupyter.widget-view+json": {
       "model_id": "85cf94a9c8c644719ea41b0631b2462f",
       "version_major": 2,
       "version_minor": 0
      },
      "text/plain": [
       "  0%|          | 0/136 [00:00<?, ?it/s]"
      ]
     },
     "metadata": {},
     "output_type": "display_data"
    },
    {
     "data": {
      "application/vnd.jupyter.widget-view+json": {
       "model_id": "79d072eba0654c8d988b30c28ddc55e2",
       "version_major": 2,
       "version_minor": 0
      },
      "text/plain": [
       "  0%|          | 0/36473 [00:00<?, ?it/s]"
      ]
     },
     "metadata": {},
     "output_type": "display_data"
    },
    {
     "data": {
      "application/vnd.jupyter.widget-view+json": {
       "model_id": "836906dd307847f29ee047209ab29ca4",
       "version_major": 2,
       "version_minor": 0
      },
      "text/plain": [
       "  0%|          | 0/36473 [00:00<?, ?it/s]"
      ]
     },
     "metadata": {},
     "output_type": "display_data"
    },
    {
     "name": "stderr",
     "output_type": "stream",
     "text": [
      "max_len: 197\n"
     ]
    }
   ],
   "source": [
    "# ====================================================\n",
    "# Define max_len\n",
    "# ====================================================\n",
    "lengths_dict = {}\n",
    "\n",
    "lengths = []\n",
    "tk0 = tqdm(cpc_texts.values(), total=len(cpc_texts))\n",
    "for text in tk0:\n",
    "    length = len(tokenizer(text, add_special_tokens=False)['input_ids'])\n",
    "    lengths.append(length)\n",
    "lengths_dict['context_text'] = lengths\n",
    "\n",
    "for text_col in ['anchor', 'target']:\n",
    "    lengths = []\n",
    "    tk0 = tqdm(train[text_col].fillna(\"\").values, total=len(train))\n",
    "    for text in tk0:\n",
    "        length = len(tokenizer(text, add_special_tokens=False)['input_ids'])\n",
    "        lengths.append(length)\n",
    "    lengths_dict[text_col] = lengths\n",
    "    \n",
    "CFG.max_len = max(lengths_dict['anchor']) + max(lengths_dict['target'])\\\n",
    "                + max(lengths_dict['context_text']) + 4 # CLS + SEP + SEP + SEP\n",
    "LOGGER.info(f\"max_len: {CFG.max_len}\")"
   ]
  },
  {
   "cell_type": "code",
   "execution_count": 22,
   "id": "49be5a92",
   "metadata": {
    "id": "9f791a19",
    "papermill": {
     "duration": 0.055528,
     "end_time": "2022-03-22T09:40:52.072178",
     "exception": false,
     "start_time": "2022-03-22T09:40:52.016650",
     "status": "completed"
    },
    "tags": []
   },
   "outputs": [
    {
     "name": "stdout",
     "output_type": "stream",
     "text": [
      "torch.__version__: 1.9.0+cu111\n"
     ]
    }
   ],
   "source": [
    "# ====================================================\n",
    "# Dataset\n",
    "# ====================================================\n",
    "def prepare_input(cfg, text):\n",
    "    inputs = cfg.tokenizer(text,\n",
    "                           add_special_tokens=True,\n",
    "                           max_length=cfg.max_len,\n",
    "                           padding=\"max_length\",\n",
    "                           return_offsets_mapping=False)\n",
    "    for k, v in inputs.items():\n",
    "        inputs[k] = torch.tensor(v, dtype=torch.long)\n",
    "    return inputs\n",
    "\n",
    "sys.path.append('../dataset')\n",
    "from dataset import TrainDataset"
   ]
  },
  {
   "cell_type": "code",
   "execution_count": 23,
   "id": "a459997d",
   "metadata": {
    "executionInfo": {
     "elapsed": 8,
     "status": "ok",
     "timestamp": 1644920122808,
     "user": {
      "displayName": "Yasufumi Nakama",
      "photoUrl": "https://lh3.googleusercontent.com/a/default-user=s64",
      "userId": "17486303986134302670"
     },
     "user_tz": -540
    },
    "id": "a200bd5b",
    "outputId": "a30fde2b-86f9-4ebd-ae81-33f467b69836",
    "papermill": {
     "duration": 0.05166,
     "end_time": "2022-03-22T09:40:52.171272",
     "exception": false,
     "start_time": "2022-03-22T09:40:52.119612",
     "status": "completed"
    },
    "tags": []
   },
   "outputs": [
    {
     "data": {
      "text/plain": [
       "'\\ntrain_dataset = TrainDataset(CFG, train)\\ninputs, label = train_dataset[0]\\nprint(inputs)\\nprint(label)\\n'"
      ]
     },
     "execution_count": 23,
     "metadata": {},
     "output_type": "execute_result"
    }
   ],
   "source": [
    "\"\"\"\n",
    "train_dataset = TrainDataset(CFG, train)\n",
    "inputs, label = train_dataset[0]\n",
    "print(inputs)\n",
    "print(label)\n",
    "\"\"\""
   ]
  },
  {
   "cell_type": "markdown",
   "id": "44d28ba3",
   "metadata": {
    "id": "e04d6363",
    "papermill": {
     "duration": 0.044161,
     "end_time": "2022-03-22T09:40:52.262022",
     "exception": false,
     "start_time": "2022-03-22T09:40:52.217861",
     "status": "completed"
    },
    "tags": []
   },
   "source": [
    "# Model"
   ]
  },
  {
   "cell_type": "code",
   "execution_count": 24,
   "id": "872e6567",
   "metadata": {
    "id": "4c5bab44",
    "papermill": {
     "duration": 0.066203,
     "end_time": "2022-03-22T09:40:52.372030",
     "exception": false,
     "start_time": "2022-03-22T09:40:52.305827",
     "status": "completed"
    },
    "tags": []
   },
   "outputs": [],
   "source": [
    "# ====================================================\n",
    "# Model\n",
    "# ====================================================\n",
    "class CustomModel(nn.Module):\n",
    "    def __init__(self, cfg, config_path=None, pretrained=False):\n",
    "        super().__init__()\n",
    "        self.cfg = cfg\n",
    "        if config_path is None:\n",
    "            self.config = AutoConfig.from_pretrained(cfg.model, output_hidden_states=True)\n",
    "        else:\n",
    "            self.config = torch.load(config_path)\n",
    "        if pretrained:\n",
    "            self.model = AutoModel.from_pretrained(cfg.model, config=self.config)\n",
    "        else:\n",
    "            self.model = AutoModel.from_config(self.config)\n",
    "        self.fc_dropout = nn.Dropout(cfg.fc_dropout)\n",
    "        self.fc = nn.Linear(self.config.hidden_size, self.cfg.target_size)\n",
    "        self._init_weights(self.fc)\n",
    "        self.attention = nn.Sequential(\n",
    "            nn.Linear(self.config.hidden_size, 512),\n",
    "            nn.Tanh(),\n",
    "            nn.Linear(512, 1),\n",
    "            nn.Softmax(dim=1)\n",
    "        )\n",
    "        self._init_weights(self.attention)\n",
    "        \n",
    "    def _init_weights(self, module):\n",
    "        if isinstance(module, nn.Linear):\n",
    "            module.weight.data.normal_(mean=0.0, std=self.config.initializer_range)\n",
    "            if module.bias is not None:\n",
    "                module.bias.data.zero_()\n",
    "        elif isinstance(module, nn.Embedding):\n",
    "            module.weight.data.normal_(mean=0.0, std=self.config.initializer_range)\n",
    "            if module.padding_idx is not None:\n",
    "                module.weight.data[module.padding_idx].zero_()\n",
    "        elif isinstance(module, nn.LayerNorm):\n",
    "            module.bias.data.zero_()\n",
    "            module.weight.data.fill_(1.0)\n",
    "        \n",
    "    def feature(self, inputs):\n",
    "        outputs = self.model(**inputs)\n",
    "        last_hidden_states = outputs[0]\n",
    "        # feature = torch.mean(last_hidden_states, 1)\n",
    "        weights = self.attention(last_hidden_states)\n",
    "        feature = torch.sum(weights * last_hidden_states, dim=1)\n",
    "        return feature\n",
    "\n",
    "    def forward(self, inputs):\n",
    "        feature = self.feature(inputs)\n",
    "        output = self.fc(self.fc_dropout(feature))\n",
    "        return output\n",
    "    \n"
   ]
  },
  {
   "cell_type": "markdown",
   "id": "d58eee04",
   "metadata": {
    "id": "deee9675",
    "papermill": {
     "duration": 0.044158,
     "end_time": "2022-03-22T09:40:52.460401",
     "exception": false,
     "start_time": "2022-03-22T09:40:52.416243",
     "status": "completed"
    },
    "tags": []
   },
   "source": [
    "# Helpler functions"
   ]
  },
  {
   "cell_type": "code",
   "execution_count": 25,
   "id": "53d5903c",
   "metadata": {
    "id": "c8263b0c",
    "papermill": {
     "duration": 0.078567,
     "end_time": "2022-03-22T09:40:52.582474",
     "exception": false,
     "start_time": "2022-03-22T09:40:52.503907",
     "status": "completed"
    },
    "tags": []
   },
   "outputs": [],
   "source": [
    "# ====================================================\n",
    "# Helper functions\n",
    "# ====================================================\n",
    "class AverageMeter(object):\n",
    "    \"\"\"Computes and stores the average and current value\"\"\"\n",
    "    def __init__(self):\n",
    "        self.reset()\n",
    "\n",
    "    def reset(self):\n",
    "        self.val = 0\n",
    "        self.avg = 0\n",
    "        self.sum = 0\n",
    "        self.count = 0\n",
    "\n",
    "    def update(self, val, n=1):\n",
    "        self.val = val\n",
    "        self.sum += val * n\n",
    "        self.count += n\n",
    "        self.avg = self.sum / self.count\n",
    "\n",
    "\n",
    "def asMinutes(s):\n",
    "    m = math.floor(s / 60)\n",
    "    s -= m * 60\n",
    "    return '%dm %ds' % (m, s)\n",
    "\n",
    "\n",
    "def timeSince(since, percent):\n",
    "    now = time.time()\n",
    "    s = now - since\n",
    "    es = s / (percent)\n",
    "    rs = es - s\n",
    "    return '%s (remain %s)' % (asMinutes(s), asMinutes(rs))\n",
    "\n",
    "\n",
    "def train_fn(fold, train_loader, model, criterion, optimizer, epoch, scheduler, device):\n",
    "    model.train()\n",
    "    scaler = torch.cuda.amp.GradScaler(enabled=CFG.apex)\n",
    "    losses = AverageMeter()\n",
    "    start = end = time.time()\n",
    "    global_step = 0\n",
    "    for step, (inputs, labels) in enumerate(train_loader):\n",
    "        for k, v in inputs.items():\n",
    "            inputs[k] = v.to(device)\n",
    "        labels = labels.to(device)\n",
    "        batch_size = labels.size(0)\n",
    "        with torch.cuda.amp.autocast(enabled=CFG.apex):\n",
    "            y_preds = model(inputs)\n",
    "        loss = criterion(y_preds.view(-1, 1), labels.view(-1, 1))\n",
    "        if CFG.gradient_accumulation_steps > 1:\n",
    "            loss = loss / CFG.gradient_accumulation_steps\n",
    "        losses.update(loss.item(), batch_size)\n",
    "        scaler.scale(loss).backward()\n",
    "        grad_norm = torch.nn.utils.clip_grad_norm_(model.parameters(), CFG.max_grad_norm)\n",
    "        if (step + 1) % CFG.gradient_accumulation_steps == 0:\n",
    "            scaler.step(optimizer)\n",
    "            scaler.update()\n",
    "            optimizer.zero_grad()\n",
    "            global_step += 1\n",
    "            if CFG.batch_scheduler:\n",
    "                scheduler.step()\n",
    "        end = time.time()\n",
    "        if step % CFG.print_freq == 0 or step == (len(train_loader)-1):\n",
    "            print('Epoch: [{0}][{1}/{2}] '\n",
    "                  'Elapsed {remain:s} '\n",
    "                  'Loss: {loss.val:.4f}({loss.avg:.4f}) '\n",
    "                  'Grad: {grad_norm:.4f}  '\n",
    "                  'LR: {lr:.8f}  '\n",
    "                  .format(epoch+1, step, len(train_loader), \n",
    "                          remain=timeSince(start, float(step+1)/len(train_loader)),\n",
    "                          loss=losses,\n",
    "                          grad_norm=grad_norm,\n",
    "                          lr=scheduler.get_lr()[0]))\n",
    "        if CFG.wandb:\n",
    "            wandb.log({f\"[fold{fold}] loss\": losses.val,\n",
    "                       f\"[fold{fold}] lr\": scheduler.get_lr()[0]})\n",
    "    return losses.avg\n",
    "\n",
    "\n",
    "def valid_fn(valid_loader, model, criterion, device):\n",
    "    losses = AverageMeter()\n",
    "    model.eval()\n",
    "    preds = []\n",
    "    start = end = time.time()\n",
    "    for step, (inputs, labels) in enumerate(valid_loader):\n",
    "        for k, v in inputs.items():\n",
    "            inputs[k] = v.to(device)\n",
    "        labels = labels.to(device)\n",
    "        batch_size = labels.size(0)\n",
    "        with torch.no_grad():\n",
    "            y_preds = model(inputs)\n",
    "        loss = criterion(y_preds.view(-1, 1), labels.view(-1, 1))\n",
    "        if CFG.gradient_accumulation_steps > 1:\n",
    "            loss = loss / CFG.gradient_accumulation_steps\n",
    "        losses.update(loss.item(), batch_size)\n",
    "        preds.append(y_preds.sigmoid().to('cpu').numpy())\n",
    "        end = time.time()\n",
    "        if step % CFG.print_freq == 0 or step == (len(valid_loader)-1):\n",
    "            print('EVAL: [{0}/{1}] '\n",
    "                  'Elapsed {remain:s} '\n",
    "                  'Loss: {loss.val:.4f}({loss.avg:.4f}) '\n",
    "                  .format(step, len(valid_loader),\n",
    "                          loss=losses,\n",
    "                          remain=timeSince(start, float(step+1)/len(valid_loader))))\n",
    "    predictions = np.concatenate(preds)\n",
    "    predictions = np.concatenate(predictions)\n",
    "    return losses.avg, predictions\n",
    "\n",
    "\n",
    "def inference_fn(test_loader, model, device):\n",
    "    preds = []\n",
    "    model.eval()\n",
    "    model.to(device)\n",
    "    tk0 = tqdm(test_loader, total=len(test_loader))\n",
    "    for inputs in tk0:\n",
    "        for k, v in inputs.items():\n",
    "            inputs[k] = v.to(device)\n",
    "        with torch.no_grad():\n",
    "            y_preds = model(inputs)\n",
    "        preds.append(y_preds.sigmoid().to('cpu').numpy())\n",
    "    predictions = np.concatenate(preds)\n",
    "    return predictions"
   ]
  },
  {
   "cell_type": "code",
   "execution_count": 26,
   "id": "e3e9d570",
   "metadata": {
    "id": "bed940e1",
    "papermill": {
     "duration": 0.071348,
     "end_time": "2022-03-22T09:40:52.697940",
     "exception": false,
     "start_time": "2022-03-22T09:40:52.626592",
     "status": "completed"
    },
    "tags": []
   },
   "outputs": [],
   "source": [
    "# ====================================================\n",
    "# train loop\n",
    "# ====================================================\n",
    "# def train_loop(folds, fold):\n",
    "def train_loop(train_loader, valid_loader):\n",
    "#     LOGGER.info(f\"========== fold: {fold} training ==========\")\n",
    "\n",
    "#     # ====================================================\n",
    "#     # loader\n",
    "#     # ====================================================\n",
    "#     train_folds = folds[folds['fold'] != fold].reset_index(drop=True)\n",
    "#     valid_folds = folds[folds['fold'] == fold].reset_index(drop=True)\n",
    "#     valid_labels = valid_folds['score'].values\n",
    "    \n",
    "#     train_dataset = TrainDataset(CFG, train_folds)\n",
    "#     valid_dataset = TrainDataset(CFG, valid_folds)\n",
    "\n",
    "#     train_loader = DataLoader(train_dataset,\n",
    "#                               batch_size=CFG.batch_size,\n",
    "#                               shuffle=True,\n",
    "#                               num_workers=CFG.num_workers, pin_memory=True, drop_last=True)\n",
    "#     valid_loader = DataLoader(valid_dataset,\n",
    "#                               batch_size=CFG.batch_size,\n",
    "#                               shuffle=False,\n",
    "#                               num_workers=CFG.num_workers, pin_memory=True, drop_last=False)\n",
    "\n",
    "    # ====================================================\n",
    "    # model & optimizer\n",
    "    # ====================================================\n",
    "    model = CustomModel(CFG, config_path=None, pretrained=True)\n",
    "    torch.save(model.config, OUTPUT_DIR+'config.pth')\n",
    "    model.to(device)\n",
    "    \n",
    "    def get_optimizer_params(model, encoder_lr, decoder_lr, weight_decay=0.0):\n",
    "        param_optimizer = list(model.named_parameters())\n",
    "        no_decay = [\"bias\", \"LayerNorm.bias\", \"LayerNorm.weight\"]\n",
    "        optimizer_parameters = [\n",
    "            {'params': [p for n, p in model.model.named_parameters() if not any(nd in n for nd in no_decay)],\n",
    "             'lr': encoder_lr, 'weight_decay': weight_decay},\n",
    "            {'params': [p for n, p in model.model.named_parameters() if any(nd in n for nd in no_decay)],\n",
    "             'lr': encoder_lr, 'weight_decay': 0.0},\n",
    "            {'params': [p for n, p in model.named_parameters() if \"model\" not in n],\n",
    "             'lr': decoder_lr, 'weight_decay': 0.0}\n",
    "        ]\n",
    "        return optimizer_parameters\n",
    "\n",
    "    optimizer_parameters = get_optimizer_params(model,\n",
    "                                                encoder_lr=CFG.encoder_lr, \n",
    "                                                decoder_lr=CFG.decoder_lr,\n",
    "                                                weight_decay=CFG.weight_decay)\n",
    "    optimizer = AdamW(optimizer_parameters, lr=CFG.encoder_lr, eps=CFG.eps, betas=CFG.betas)\n",
    "    \n",
    "    # ====================================================\n",
    "    # scheduler\n",
    "    # ====================================================\n",
    "    def get_scheduler(cfg, optimizer, num_train_steps):\n",
    "        if cfg.scheduler == 'linear':\n",
    "            scheduler = get_linear_schedule_with_warmup(\n",
    "                optimizer, num_warmup_steps=cfg.num_warmup_steps, num_training_steps=num_train_steps\n",
    "            )\n",
    "        elif cfg.scheduler == 'cosine':\n",
    "            scheduler = get_cosine_schedule_with_warmup(\n",
    "                optimizer, num_warmup_steps=cfg.num_warmup_steps, num_training_steps=num_train_steps, num_cycles=cfg.num_cycles\n",
    "            )\n",
    "        return scheduler\n",
    "    \n",
    "    num_train_steps = int(len(train_folds) / CFG.batch_size * CFG.epochs)\n",
    "    scheduler = get_scheduler(CFG, optimizer, num_train_steps)\n",
    "\n",
    "    # ====================================================\n",
    "    # loop\n",
    "    # ====================================================\n",
    "    criterion = nn.BCEWithLogitsLoss(reduction=\"mean\")\n",
    "    \n",
    "    best_score = 0.\n",
    "\n",
    "    for epoch in range(CFG.epochs):\n",
    "        start_time = time.time()\n",
    "\n",
    "        # train\n",
    "        avg_loss = train_fn(fold, train_loader, model, criterion, optimizer, epoch, scheduler, device)\n",
    "\n",
    "        # eval\n",
    "        avg_val_loss, predictions = valid_fn(valid_loader, model, criterion, device)\n",
    "        \n",
    "        # scoring\n",
    "        score = get_score(valid_labels, predictions)\n",
    "\n",
    "        elapsed = time.time() - start_time\n",
    "\n",
    "        LOGGER.info(f'Epoch {epoch+1} - avg_train_loss: {avg_loss:.4f}  avg_val_loss: {avg_val_loss:.4f}  time: {elapsed:.0f}s')\n",
    "        LOGGER.info(f'Epoch {epoch+1} - Score: {score:.4f}')\n",
    "        if CFG.wandb:\n",
    "            wandb.log({f\"[fold{fold}] epoch\": epoch+1, \n",
    "                       f\"[fold{fold}] avg_train_loss\": avg_loss, \n",
    "                       f\"[fold{fold}] avg_val_loss\": avg_val_loss,\n",
    "                       f\"[fold{fold}] score\": score})\n",
    "        \n",
    "        if best_score < score:\n",
    "            best_score = score\n",
    "            LOGGER.info(f'Epoch {epoch+1} - Save Best Score: {best_score:.4f} Model')\n",
    "            torch.save({'model': model.state_dict(),\n",
    "                        'predictions': predictions},\n",
    "                        OUTPUT_DIR+f\"{CFG.model.replace('/', '-')}_fold{fold}_best.pth\")\n",
    "\n",
    "    predictions = torch.load(OUTPUT_DIR+f\"{CFG.model.replace('/', '-')}_fold{fold}_best.pth\", \n",
    "                             map_location=torch.device('cpu'))['predictions']\n",
    "    valid_folds['pred'] = predictions\n",
    "\n",
    "    torch.cuda.empty_cache()\n",
    "    gc.collect()\n",
    "    \n",
    "    return valid_folds"
   ]
  },
  {
   "cell_type": "code",
   "execution_count": 27,
   "id": "13eeaf68",
   "metadata": {
    "id": "6cc76b1e",
    "papermill": {
     "duration": 30265.411984,
     "end_time": "2022-03-22T18:05:18.155447",
     "exception": false,
     "start_time": "2022-03-22T09:40:52.743463",
     "status": "completed"
    },
    "scrolled": true,
    "tags": []
   },
   "outputs": [
    {
     "name": "stderr",
     "output_type": "stream",
     "text": [
      "========== fold: 0 training ==========\n"
     ]
    },
    {
     "name": "stdout",
     "output_type": "stream",
     "text": [
      "\u001b[38;5;40m========== fold: 0 training ==========\u001b[0m\n"
     ]
    },
    {
     "name": "stderr",
     "output_type": "stream",
     "text": [
      "Some weights of the model checkpoint at xlnet-base-cased were not used when initializing XLNetModel: ['lm_loss.bias', 'lm_loss.weight']\n",
      "- This IS expected if you are initializing XLNetModel from the checkpoint of a model trained on another task or with another architecture (e.g. initializing a BertForSequenceClassification model from a BertForPreTraining model).\n",
      "- This IS NOT expected if you are initializing XLNetModel from the checkpoint of a model that you expect to be exactly identical (initializing a BertForSequenceClassification model from a BertForSequenceClassification model).\n"
     ]
    },
    {
     "name": "stdout",
     "output_type": "stream",
     "text": [
      "Epoch: [1][0/3419] Elapsed 0m 1s (remain 99m 20s) Loss: 0.6643(0.6643) Grad: inf  LR: 0.00002000  \n",
      "Epoch: [1][100/3419] Elapsed 0m 30s (remain 16m 54s) Loss: 0.7689(0.7005) Grad: 13688.4023  LR: 0.00002000  \n",
      "Epoch: [1][200/3419] Elapsed 0m 50s (remain 13m 30s) Loss: 0.6141(0.6726) Grad: 23835.1250  LR: 0.00001999  \n",
      "Epoch: [1][300/3419] Elapsed 1m 10s (remain 12m 9s) Loss: 0.6244(0.6611) Grad: 5188.5967  LR: 0.00001998  \n",
      "Epoch: [1][400/3419] Elapsed 1m 30s (remain 11m 18s) Loss: 0.6526(0.6501) Grad: 10845.9102  LR: 0.00001996  \n",
      "Epoch: [1][500/3419] Elapsed 1m 49s (remain 10m 40s) Loss: 0.6137(0.6469) Grad: 5963.7812  LR: 0.00001993  \n",
      "Epoch: [1][600/3419] Elapsed 2m 9s (remain 10m 8s) Loss: 0.5829(0.6424) Grad: 5688.8071  LR: 0.00001990  \n",
      "Epoch: [1][700/3419] Elapsed 2m 29s (remain 9m 39s) Loss: 0.4634(0.6364) Grad: 8533.5205  LR: 0.00001987  \n",
      "Epoch: [1][800/3419] Elapsed 2m 49s (remain 9m 13s) Loss: 0.6686(0.6325) Grad: 9134.2061  LR: 0.00001983  \n",
      "Epoch: [1][900/3419] Elapsed 3m 9s (remain 8m 48s) Loss: 0.6371(0.6291) Grad: 7469.5415  LR: 0.00001979  \n",
      "Epoch: [1][1000/3419] Elapsed 3m 28s (remain 8m 24s) Loss: 0.6071(0.6261) Grad: 5441.9810  LR: 0.00001974  \n",
      "Epoch: [1][1100/3419] Elapsed 3m 48s (remain 8m 1s) Loss: 0.6899(0.6235) Grad: 4965.0654  LR: 0.00001968  \n",
      "Epoch: [1][1200/3419] Elapsed 4m 8s (remain 7m 38s) Loss: 0.5494(0.6210) Grad: 6842.6924  LR: 0.00001962  \n",
      "Epoch: [1][1300/3419] Elapsed 4m 28s (remain 7m 16s) Loss: 0.6113(0.6183) Grad: 5164.4512  LR: 0.00001956  \n",
      "Epoch: [1][1400/3419] Elapsed 4m 47s (remain 6m 54s) Loss: 0.6200(0.6167) Grad: 6983.6616  LR: 0.00001949  \n",
      "Epoch: [1][1500/3419] Elapsed 5m 7s (remain 6m 33s) Loss: 0.5606(0.6155) Grad: 8034.2886  LR: 0.00001941  \n",
      "Epoch: [1][1600/3419] Elapsed 5m 27s (remain 6m 11s) Loss: 0.6126(0.6139) Grad: 3920.1213  LR: 0.00001933  \n",
      "Epoch: [1][1700/3419] Elapsed 5m 47s (remain 5m 50s) Loss: 0.6595(0.6126) Grad: 10566.5586  LR: 0.00001925  \n",
      "Epoch: [1][1800/3419] Elapsed 6m 6s (remain 5m 29s) Loss: 0.6329(0.6119) Grad: 8112.7627  LR: 0.00001916  \n",
      "Epoch: [1][1900/3419] Elapsed 6m 26s (remain 5m 8s) Loss: 0.6127(0.6105) Grad: 5632.4321  LR: 0.00001906  \n",
      "Epoch: [1][2000/3419] Elapsed 6m 46s (remain 4m 48s) Loss: 0.5408(0.6093) Grad: 2276.5479  LR: 0.00001896  \n",
      "Epoch: [1][2100/3419] Elapsed 7m 6s (remain 4m 27s) Loss: 0.6559(0.6079) Grad: 19575.3203  LR: 0.00001886  \n",
      "Epoch: [1][2200/3419] Elapsed 7m 26s (remain 4m 6s) Loss: 0.6247(0.6071) Grad: 8624.7246  LR: 0.00001875  \n",
      "Epoch: [1][2300/3419] Elapsed 7m 45s (remain 3m 46s) Loss: 0.4448(0.6060) Grad: 8947.3223  LR: 0.00001864  \n",
      "Epoch: [1][2400/3419] Elapsed 8m 5s (remain 3m 25s) Loss: 0.2569(0.6037) Grad: 19487.7832  LR: 0.00001852  \n",
      "Epoch: [1][2500/3419] Elapsed 8m 25s (remain 3m 5s) Loss: 0.6269(0.6032) Grad: 11463.9082  LR: 0.00001839  \n",
      "Epoch: [1][2600/3419] Elapsed 8m 45s (remain 2m 45s) Loss: 0.4580(0.6018) Grad: 8247.9111  LR: 0.00001827  \n",
      "Epoch: [1][2700/3419] Elapsed 9m 4s (remain 2m 24s) Loss: 0.5410(0.6013) Grad: 9087.9238  LR: 0.00001814  \n",
      "Epoch: [1][2800/3419] Elapsed 9m 24s (remain 2m 4s) Loss: 0.5524(0.6008) Grad: 18656.8242  LR: 0.00001800  \n",
      "Epoch: [1][2900/3419] Elapsed 9m 44s (remain 1m 44s) Loss: 0.4355(0.6004) Grad: 11614.3223  LR: 0.00001786  \n",
      "Epoch: [1][3000/3419] Elapsed 10m 4s (remain 1m 24s) Loss: 0.7293(0.5998) Grad: 23332.2578  LR: 0.00001772  \n",
      "Epoch: [1][3100/3419] Elapsed 10m 23s (remain 1m 3s) Loss: 0.5167(0.5994) Grad: 14193.3838  LR: 0.00001757  \n",
      "Epoch: [1][3200/3419] Elapsed 10m 43s (remain 0m 43s) Loss: 0.4737(0.5987) Grad: 18511.7930  LR: 0.00001742  \n",
      "Epoch: [1][3300/3419] Elapsed 11m 3s (remain 0m 23s) Loss: 0.5517(0.5983) Grad: 15031.0957  LR: 0.00001726  \n",
      "Epoch: [1][3400/3419] Elapsed 11m 23s (remain 0m 3s) Loss: 0.5297(0.5980) Grad: 26132.4902  LR: 0.00001710  \n",
      "Epoch: [1][3418/3419] Elapsed 11m 26s (remain 0m 0s) Loss: 0.6450(0.5977) Grad: 27275.3945  LR: 0.00001707  \n"
     ]
    },
    {
     "name": "stderr",
     "output_type": "stream",
     "text": [
      "[W pthreadpool-cpp.cc:90] Warning: Leaking Caffe2 thread-pool after fork. (function pthreadpool)\n",
      "[W pthreadpool-cpp.cc:90] Warning: Leaking Caffe2 thread-pool after fork. (function pthreadpool)\n",
      "[W pthreadpool-cpp.cc:90] Warning: Leaking Caffe2 thread-pool after fork. (function pthreadpool)\n",
      "[W pthreadpool-cpp.cc:90] Warning: Leaking Caffe2 thread-pool after fork. (function pthreadpool)\n"
     ]
    },
    {
     "name": "stdout",
     "output_type": "stream",
     "text": [
      "EVAL: [0/1140] Elapsed 0m 0s (remain 4m 54s) Loss: 0.5972(0.5972) \n",
      "EVAL: [100/1140] Elapsed 0m 8s (remain 1m 31s) Loss: 0.6253(0.5658) \n",
      "EVAL: [200/1140] Elapsed 0m 17s (remain 1m 21s) Loss: 0.4007(0.5765) \n",
      "EVAL: [300/1140] Elapsed 0m 26s (remain 1m 12s) Loss: 0.9550(0.5743) \n",
      "EVAL: [400/1140] Elapsed 0m 34s (remain 1m 4s) Loss: 0.5095(0.5720) \n",
      "EVAL: [500/1140] Elapsed 0m 43s (remain 0m 55s) Loss: 0.5754(0.5764) \n",
      "EVAL: [600/1140] Elapsed 0m 52s (remain 0m 46s) Loss: 0.5558(0.5754) \n",
      "EVAL: [700/1140] Elapsed 1m 0s (remain 0m 38s) Loss: 0.6558(0.5774) \n",
      "EVAL: [800/1140] Elapsed 1m 9s (remain 0m 29s) Loss: 0.7750(0.5762) \n",
      "EVAL: [900/1140] Elapsed 1m 17s (remain 0m 20s) Loss: 0.5448(0.5770) \n",
      "EVAL: [1000/1140] Elapsed 1m 26s (remain 0m 12s) Loss: 0.5667(0.5783) \n",
      "EVAL: [1100/1140] Elapsed 1m 35s (remain 0m 3s) Loss: 0.6419(0.5787) \n"
     ]
    },
    {
     "name": "stderr",
     "output_type": "stream",
     "text": [
      "Epoch 1 - avg_train_loss: 0.5977  avg_val_loss: 0.5778  time: 786s\n",
      "Epoch 1 - Score: 0.7486\n",
      "Epoch 1 - Save Best Score: 0.7486 Model\n"
     ]
    },
    {
     "name": "stdout",
     "output_type": "stream",
     "text": [
      "EVAL: [1139/1140] Elapsed 1m 38s (remain 0m 0s) Loss: 0.6349(0.5778) \n"
     ]
    },
    {
     "name": "stderr",
     "output_type": "stream",
     "text": [
      "[W pthreadpool-cpp.cc:90] Warning: Leaking Caffe2 thread-pool after fork. (function pthreadpool)\n",
      "[W pthreadpool-cpp.cc:90] Warning: Leaking Caffe2 thread-pool after fork. (function pthreadpool)\n",
      "[W pthreadpool-cpp.cc:90] Warning: Leaking Caffe2 thread-pool after fork. (function pthreadpool)\n",
      "[W pthreadpool-cpp.cc:90] Warning: Leaking Caffe2 thread-pool after fork. (function pthreadpool)\n"
     ]
    },
    {
     "name": "stdout",
     "output_type": "stream",
     "text": [
      "Epoch: [2][0/3419] Elapsed 0m 0s (remain 30m 35s) Loss: 0.4512(0.4512) Grad: 126060.5156  LR: 0.00001707  \n",
      "Epoch: [2][100/3419] Elapsed 0m 20s (remain 11m 3s) Loss: 0.5529(0.5744) Grad: 57229.9414  LR: 0.00001691  \n",
      "Epoch: [2][200/3419] Elapsed 0m 39s (remain 10m 39s) Loss: 0.5245(0.5620) Grad: 13074.0771  LR: 0.00001674  \n",
      "Epoch: [2][300/3419] Elapsed 0m 59s (remain 10m 18s) Loss: 0.4454(0.5618) Grad: 13095.4463  LR: 0.00001657  \n",
      "Epoch: [2][400/3419] Elapsed 1m 19s (remain 9m 58s) Loss: 0.5474(0.5618) Grad: 10096.0205  LR: 0.00001639  \n",
      "Epoch: [2][500/3419] Elapsed 1m 39s (remain 9m 38s) Loss: 0.4459(0.5594) Grad: 12102.0078  LR: 0.00001621  \n",
      "Epoch: [2][600/3419] Elapsed 1m 59s (remain 9m 21s) Loss: 0.2904(0.5592) Grad: 5205.0522  LR: 0.00001603  \n",
      "Epoch: [2][700/3419] Elapsed 2m 19s (remain 9m 0s) Loss: 0.6436(0.5590) Grad: 15465.6553  LR: 0.00001585  \n",
      "Epoch: [2][800/3419] Elapsed 2m 39s (remain 8m 40s) Loss: 0.4806(0.5593) Grad: 24210.6523  LR: 0.00001566  \n",
      "Epoch: [2][900/3419] Elapsed 2m 59s (remain 8m 20s) Loss: 0.3984(0.5587) Grad: 13471.8916  LR: 0.00001547  \n",
      "Epoch: [2][1000/3419] Elapsed 3m 18s (remain 8m 0s) Loss: 0.6227(0.5591) Grad: 58902.5859  LR: 0.00001527  \n",
      "Epoch: [2][1100/3419] Elapsed 3m 38s (remain 7m 40s) Loss: 0.5934(0.5587) Grad: 36182.4375  LR: 0.00001508  \n",
      "Epoch: [2][1200/3419] Elapsed 3m 58s (remain 7m 20s) Loss: 0.6188(0.5582) Grad: 7306.9175  LR: 0.00001488  \n",
      "Epoch: [2][1300/3419] Elapsed 4m 18s (remain 7m 0s) Loss: 0.4934(0.5575) Grad: 8102.2373  LR: 0.00001468  \n",
      "Epoch: [2][1400/3419] Elapsed 4m 37s (remain 6m 40s) Loss: 0.5737(0.5585) Grad: 7809.3247  LR: 0.00001447  \n",
      "Epoch: [2][1500/3419] Elapsed 4m 57s (remain 6m 20s) Loss: 0.5811(0.5591) Grad: 14600.8545  LR: 0.00001427  \n",
      "Epoch: [2][1600/3419] Elapsed 5m 17s (remain 6m 0s) Loss: 0.5545(0.5586) Grad: 12802.1221  LR: 0.00001406  \n",
      "Epoch: [2][1700/3419] Elapsed 5m 37s (remain 5m 40s) Loss: 0.5332(0.5581) Grad: 19315.0254  LR: 0.00001385  \n",
      "Epoch: [2][1800/3419] Elapsed 5m 57s (remain 5m 20s) Loss: 0.6665(0.5585) Grad: 7481.2446  LR: 0.00001363  \n",
      "Epoch: [2][1900/3419] Elapsed 6m 16s (remain 5m 0s) Loss: 0.4192(0.5583) Grad: 8236.4609  LR: 0.00001342  \n",
      "Epoch: [2][2000/3419] Elapsed 6m 36s (remain 4m 41s) Loss: 0.6988(0.5580) Grad: 49297.3125  LR: 0.00001320  \n",
      "Epoch: [2][2100/3419] Elapsed 6m 56s (remain 4m 21s) Loss: 0.7044(0.5586) Grad: 15987.1230  LR: 0.00001298  \n",
      "Epoch: [2][2200/3419] Elapsed 7m 16s (remain 4m 1s) Loss: 0.5843(0.5586) Grad: 24738.3457  LR: 0.00001276  \n",
      "Epoch: [2][2300/3419] Elapsed 7m 36s (remain 3m 41s) Loss: 0.5608(0.5592) Grad: 16552.2012  LR: 0.00001254  \n",
      "Epoch: [2][2400/3419] Elapsed 7m 55s (remain 3m 21s) Loss: 0.6383(0.5586) Grad: 7641.1211  LR: 0.00001232  \n",
      "Epoch: [2][2500/3419] Elapsed 8m 15s (remain 3m 1s) Loss: 0.5357(0.5588) Grad: 15661.3311  LR: 0.00001209  \n",
      "Epoch: [2][2600/3419] Elapsed 8m 35s (remain 2m 42s) Loss: 0.4028(0.5590) Grad: 6502.2964  LR: 0.00001187  \n",
      "Epoch: [2][2700/3419] Elapsed 8m 55s (remain 2m 22s) Loss: 0.5193(0.5588) Grad: 6241.4644  LR: 0.00001164  \n",
      "Epoch: [2][2800/3419] Elapsed 9m 14s (remain 2m 2s) Loss: 0.5130(0.5583) Grad: 14495.9541  LR: 0.00001142  \n",
      "Epoch: [2][2900/3419] Elapsed 9m 34s (remain 1m 42s) Loss: 0.3798(0.5576) Grad: 9825.4053  LR: 0.00001119  \n",
      "Epoch: [2][3000/3419] Elapsed 9m 54s (remain 1m 22s) Loss: 0.4879(0.5574) Grad: 20500.4883  LR: 0.00001096  \n",
      "Epoch: [2][3100/3419] Elapsed 10m 14s (remain 1m 2s) Loss: 1.0219(0.5575) Grad: 49989.2305  LR: 0.00001073  \n",
      "Epoch: [2][3200/3419] Elapsed 10m 34s (remain 0m 43s) Loss: 0.4456(0.5569) Grad: 32006.1621  LR: 0.00001050  \n",
      "Epoch: [2][3300/3419] Elapsed 10m 53s (remain 0m 23s) Loss: 0.5379(0.5569) Grad: 12273.5840  LR: 0.00001027  \n",
      "Epoch: [2][3400/3419] Elapsed 11m 13s (remain 0m 3s) Loss: 0.4503(0.5569) Grad: 8471.8555  LR: 0.00001004  \n"
     ]
    },
    {
     "name": "stderr",
     "output_type": "stream",
     "text": [
      "[W pthreadpool-cpp.cc:90] Warning: Leaking Caffe2 thread-pool after fork. (function pthreadpool)\n"
     ]
    },
    {
     "name": "stdout",
     "output_type": "stream",
     "text": [
      "Epoch: [2][3418/3419] Elapsed 11m 17s (remain 0m 0s) Loss: 0.6144(0.5570) Grad: 10863.5010  LR: 0.00001000  \n"
     ]
    },
    {
     "name": "stderr",
     "output_type": "stream",
     "text": [
      "[W pthreadpool-cpp.cc:90] Warning: Leaking Caffe2 thread-pool after fork. (function pthreadpool)\n",
      "[W pthreadpool-cpp.cc:90] Warning: Leaking Caffe2 thread-pool after fork. (function pthreadpool)\n",
      "[W pthreadpool-cpp.cc:90] Warning: Leaking Caffe2 thread-pool after fork. (function pthreadpool)\n",
      "[W pthreadpool-cpp.cc:90] Warning: Leaking Caffe2 thread-pool after fork. (function pthreadpool)\n"
     ]
    },
    {
     "name": "stdout",
     "output_type": "stream",
     "text": [
      "EVAL: [0/1140] Elapsed 0m 0s (remain 4m 43s) Loss: 0.6097(0.6097) \n",
      "EVAL: [100/1140] Elapsed 0m 8s (remain 1m 31s) Loss: 0.5618(0.5781) \n",
      "EVAL: [200/1140] Elapsed 0m 17s (remain 1m 21s) Loss: 0.4388(0.5762) \n",
      "EVAL: [300/1140] Elapsed 0m 26s (remain 1m 12s) Loss: 0.7118(0.5721) \n",
      "EVAL: [400/1140] Elapsed 0m 34s (remain 1m 3s) Loss: 0.5647(0.5693) \n",
      "EVAL: [500/1140] Elapsed 0m 43s (remain 0m 55s) Loss: 0.5686(0.5741) \n",
      "EVAL: [600/1140] Elapsed 0m 51s (remain 0m 46s) Loss: 0.5762(0.5705) \n",
      "EVAL: [700/1140] Elapsed 1m 0s (remain 0m 37s) Loss: 0.6226(0.5714) \n",
      "EVAL: [800/1140] Elapsed 1m 9s (remain 0m 29s) Loss: 0.7757(0.5703) \n",
      "EVAL: [900/1140] Elapsed 1m 17s (remain 0m 20s) Loss: 0.5126(0.5710) \n",
      "EVAL: [1000/1140] Elapsed 1m 26s (remain 0m 12s) Loss: 0.5732(0.5729) \n",
      "EVAL: [1100/1140] Elapsed 1m 35s (remain 0m 3s) Loss: 0.5046(0.5730) \n"
     ]
    },
    {
     "name": "stderr",
     "output_type": "stream",
     "text": [
      "Epoch 2 - avg_train_loss: 0.5570  avg_val_loss: 0.5722  time: 776s\n",
      "Epoch 2 - Score: 0.7799\n",
      "Epoch 2 - Save Best Score: 0.7799 Model\n"
     ]
    },
    {
     "name": "stdout",
     "output_type": "stream",
     "text": [
      "EVAL: [1139/1140] Elapsed 1m 38s (remain 0m 0s) Loss: 0.6143(0.5722) \n"
     ]
    },
    {
     "name": "stderr",
     "output_type": "stream",
     "text": [
      "[W pthreadpool-cpp.cc:90] Warning: Leaking Caffe2 thread-pool after fork. (function pthreadpool)\n",
      "[W pthreadpool-cpp.cc:90] Warning: Leaking Caffe2 thread-pool after fork. (function pthreadpool)\n",
      "[W pthreadpool-cpp.cc:90] Warning: Leaking Caffe2 thread-pool after fork. (function pthreadpool)\n",
      "[W pthreadpool-cpp.cc:90] Warning: Leaking Caffe2 thread-pool after fork. (function pthreadpool)\n"
     ]
    },
    {
     "name": "stdout",
     "output_type": "stream",
     "text": [
      "Epoch: [3][0/3419] Elapsed 0m 0s (remain 31m 59s) Loss: 0.6269(0.6269) Grad: 88231.1641  LR: 0.00001000  \n",
      "Epoch: [3][100/3419] Elapsed 0m 20s (remain 11m 5s) Loss: 0.5203(0.5289) Grad: 20829.2754  LR: 0.00000977  \n",
      "Epoch: [3][200/3419] Elapsed 0m 40s (remain 10m 40s) Loss: 0.4386(0.5379) Grad: 39858.8164  LR: 0.00000954  \n",
      "Epoch: [3][300/3419] Elapsed 0m 59s (remain 10m 19s) Loss: 0.6893(0.5360) Grad: 17826.3945  LR: 0.00000931  \n",
      "Epoch: [3][400/3419] Elapsed 1m 19s (remain 9m 59s) Loss: 0.5301(0.5373) Grad: 13509.9141  LR: 0.00000908  \n",
      "Epoch: [3][500/3419] Elapsed 1m 39s (remain 9m 38s) Loss: 0.6204(0.5365) Grad: 2976.7488  LR: 0.00000885  \n",
      "Epoch: [3][600/3419] Elapsed 1m 59s (remain 9m 18s) Loss: 0.4732(0.5372) Grad: 6638.4580  LR: 0.00000863  \n",
      "Epoch: [3][700/3419] Elapsed 2m 18s (remain 8m 58s) Loss: 0.5939(0.5373) Grad: 21345.3047  LR: 0.00000840  \n",
      "Epoch: [3][800/3419] Elapsed 2m 38s (remain 8m 38s) Loss: 0.5652(0.5364) Grad: 2403.8784  LR: 0.00000817  \n",
      "Epoch: [3][900/3419] Elapsed 2m 58s (remain 8m 18s) Loss: 0.5560(0.5372) Grad: 5142.8135  LR: 0.00000795  \n",
      "Epoch: [3][1000/3419] Elapsed 3m 18s (remain 7m 58s) Loss: 0.5570(0.5368) Grad: 7215.6196  LR: 0.00000772  \n",
      "Epoch: [3][1100/3419] Elapsed 3m 37s (remain 7m 38s) Loss: 0.4529(0.5368) Grad: 88082.7344  LR: 0.00000750  \n",
      "Epoch: [3][1200/3419] Elapsed 3m 57s (remain 7m 19s) Loss: 0.6065(0.5354) Grad: 9515.3174  LR: 0.00000728  \n",
      "Epoch: [3][1300/3419] Elapsed 4m 17s (remain 6m 59s) Loss: 0.4835(0.5366) Grad: 4599.8359  LR: 0.00000706  \n",
      "Epoch: [3][1400/3419] Elapsed 4m 37s (remain 6m 39s) Loss: 0.3888(0.5379) Grad: 9130.8271  LR: 0.00000684  \n",
      "Epoch: [3][1500/3419] Elapsed 4m 57s (remain 6m 19s) Loss: 0.6500(0.5383) Grad: 4206.2153  LR: 0.00000662  \n",
      "Epoch: [3][1600/3419] Elapsed 5m 16s (remain 5m 59s) Loss: 0.8790(0.5376) Grad: 46817.6250  LR: 0.00000641  \n",
      "Epoch: [3][1700/3419] Elapsed 5m 36s (remain 5m 39s) Loss: 0.6061(0.5359) Grad: 8153.0376  LR: 0.00000619  \n",
      "Epoch: [3][1800/3419] Elapsed 5m 56s (remain 5m 20s) Loss: 0.5591(0.5362) Grad: 28163.5957  LR: 0.00000598  \n",
      "Epoch: [3][1900/3419] Elapsed 6m 16s (remain 5m 0s) Loss: 0.6123(0.5362) Grad: 36471.5820  LR: 0.00000577  \n",
      "Epoch: [3][2000/3419] Elapsed 6m 35s (remain 4m 40s) Loss: 0.5380(0.5362) Grad: 25282.6172  LR: 0.00000556  \n",
      "Epoch: [3][2100/3419] Elapsed 6m 55s (remain 4m 20s) Loss: 0.5937(0.5358) Grad: 51993.4883  LR: 0.00000536  \n",
      "Epoch: [3][2200/3419] Elapsed 7m 15s (remain 4m 0s) Loss: 0.6563(0.5359) Grad: 14836.2666  LR: 0.00000516  \n",
      "Epoch: [3][2300/3419] Elapsed 7m 35s (remain 3m 41s) Loss: 0.7147(0.5357) Grad: 22242.5723  LR: 0.00000496  \n",
      "Epoch: [3][2400/3419] Elapsed 7m 54s (remain 3m 21s) Loss: 0.5617(0.5355) Grad: 4494.3320  LR: 0.00000476  \n",
      "Epoch: [3][2500/3419] Elapsed 8m 14s (remain 3m 1s) Loss: 0.5454(0.5355) Grad: 9734.0010  LR: 0.00000457  \n",
      "Epoch: [3][2600/3419] Elapsed 8m 34s (remain 2m 41s) Loss: 0.4825(0.5356) Grad: 12610.2031  LR: 0.00000438  \n",
      "Epoch: [3][2700/3419] Elapsed 8m 54s (remain 2m 21s) Loss: 0.5305(0.5348) Grad: 7531.4961  LR: 0.00000419  \n",
      "Epoch: [3][2800/3419] Elapsed 9m 13s (remain 2m 2s) Loss: 0.5416(0.5351) Grad: 17640.2559  LR: 0.00000400  \n",
      "Epoch: [3][2900/3419] Elapsed 9m 33s (remain 1m 42s) Loss: 0.4272(0.5352) Grad: 16901.7656  LR: 0.00000382  \n",
      "Epoch: [3][3000/3419] Elapsed 9m 53s (remain 1m 22s) Loss: 0.5378(0.5358) Grad: 30642.0195  LR: 0.00000364  \n",
      "Epoch: [3][3100/3419] Elapsed 10m 13s (remain 1m 2s) Loss: 0.5669(0.5357) Grad: 6673.0405  LR: 0.00000347  \n",
      "Epoch: [3][3200/3419] Elapsed 10m 32s (remain 0m 43s) Loss: 0.4094(0.5357) Grad: 5479.5933  LR: 0.00000329  \n",
      "Epoch: [3][3300/3419] Elapsed 10m 52s (remain 0m 23s) Loss: 0.5556(0.5362) Grad: 14326.9355  LR: 0.00000312  \n",
      "Epoch: [3][3400/3419] Elapsed 11m 12s (remain 0m 3s) Loss: 0.6724(0.5360) Grad: 4913.3003  LR: 0.00000296  \n",
      "Epoch: [3][3418/3419] Elapsed 11m 15s (remain 0m 0s) Loss: 0.2845(0.5360) Grad: 5076.0811  LR: 0.00000293  \n"
     ]
    },
    {
     "name": "stderr",
     "output_type": "stream",
     "text": [
      "[W pthreadpool-cpp.cc:90] Warning: Leaking Caffe2 thread-pool after fork. (function pthreadpool)\n",
      "[W pthreadpool-cpp.cc:90] Warning: Leaking Caffe2 thread-pool after fork. (function pthreadpool)\n",
      "[W pthreadpool-cpp.cc:90] Warning: Leaking Caffe2 thread-pool after fork. (function pthreadpool)\n",
      "[W pthreadpool-cpp.cc:90] Warning: Leaking Caffe2 thread-pool after fork. (function pthreadpool)\n"
     ]
    },
    {
     "name": "stdout",
     "output_type": "stream",
     "text": [
      "EVAL: [0/1140] Elapsed 0m 0s (remain 4m 40s) Loss: 0.5871(0.5871) \n",
      "EVAL: [100/1140] Elapsed 0m 8s (remain 1m 30s) Loss: 0.5456(0.5877) \n",
      "EVAL: [200/1140] Elapsed 0m 17s (remain 1m 21s) Loss: 0.4230(0.5866) \n",
      "EVAL: [300/1140] Elapsed 0m 26s (remain 1m 12s) Loss: 0.7913(0.5806) \n",
      "EVAL: [400/1140] Elapsed 0m 34s (remain 1m 3s) Loss: 0.5272(0.5770) \n",
      "EVAL: [500/1140] Elapsed 0m 43s (remain 0m 55s) Loss: 0.5636(0.5810) \n",
      "EVAL: [600/1140] Elapsed 0m 51s (remain 0m 46s) Loss: 0.6258(0.5789) \n",
      "EVAL: [700/1140] Elapsed 1m 0s (remain 0m 37s) Loss: 0.6290(0.5789) \n",
      "EVAL: [800/1140] Elapsed 1m 9s (remain 0m 29s) Loss: 0.8004(0.5761) \n",
      "EVAL: [900/1140] Elapsed 1m 17s (remain 0m 20s) Loss: 0.5531(0.5756) \n",
      "EVAL: [1000/1140] Elapsed 1m 26s (remain 0m 11s) Loss: 0.5725(0.5770) \n",
      "EVAL: [1100/1140] Elapsed 1m 34s (remain 0m 3s) Loss: 0.5026(0.5769) \n"
     ]
    },
    {
     "name": "stderr",
     "output_type": "stream",
     "text": [
      "Epoch 3 - avg_train_loss: 0.5360  avg_val_loss: 0.5763  time: 774s\n",
      "Epoch 3 - Score: 0.7963\n",
      "Epoch 3 - Save Best Score: 0.7963 Model\n"
     ]
    },
    {
     "name": "stdout",
     "output_type": "stream",
     "text": [
      "EVAL: [1139/1140] Elapsed 1m 38s (remain 0m 0s) Loss: 0.6140(0.5763) \n"
     ]
    },
    {
     "name": "stderr",
     "output_type": "stream",
     "text": [
      "[W pthreadpool-cpp.cc:90] Warning: Leaking Caffe2 thread-pool after fork. (function pthreadpool)\n",
      "[W pthreadpool-cpp.cc:90] Warning: Leaking Caffe2 thread-pool after fork. (function pthreadpool)\n",
      "[W pthreadpool-cpp.cc:90] Warning: Leaking Caffe2 thread-pool after fork. (function pthreadpool)\n",
      "[W pthreadpool-cpp.cc:90] Warning: Leaking Caffe2 thread-pool after fork. (function pthreadpool)\n"
     ]
    },
    {
     "name": "stdout",
     "output_type": "stream",
     "text": [
      "Epoch: [4][0/3419] Elapsed 0m 0s (remain 38m 15s) Loss: 0.4156(0.4156) Grad: 64547.5312  LR: 0.00000293  \n",
      "Epoch: [4][100/3419] Elapsed 0m 20s (remain 11m 6s) Loss: 0.6270(0.5321) Grad: 27986.6426  LR: 0.00000277  \n",
      "Epoch: [4][200/3419] Elapsed 0m 39s (remain 10m 39s) Loss: 0.5219(0.5289) Grad: 10750.6240  LR: 0.00000261  \n",
      "Epoch: [4][300/3419] Elapsed 0m 59s (remain 10m 18s) Loss: 0.5495(0.5275) Grad: 11804.6348  LR: 0.00000246  \n",
      "Epoch: [4][400/3419] Elapsed 1m 19s (remain 9m 57s) Loss: 0.3481(0.5268) Grad: 10757.1445  LR: 0.00000231  \n",
      "Epoch: [4][500/3419] Elapsed 1m 39s (remain 9m 37s) Loss: 0.5708(0.5263) Grad: 48168.5977  LR: 0.00000216  \n",
      "Epoch: [4][600/3419] Elapsed 1m 58s (remain 9m 17s) Loss: 0.5077(0.5268) Grad: 11200.8125  LR: 0.00000202  \n",
      "Epoch: [4][700/3419] Elapsed 2m 18s (remain 8m 57s) Loss: 0.4908(0.5261) Grad: 12105.8164  LR: 0.00000189  \n",
      "Epoch: [4][800/3419] Elapsed 2m 38s (remain 8m 37s) Loss: 0.4956(0.5247) Grad: 19089.4512  LR: 0.00000176  \n",
      "Epoch: [4][900/3419] Elapsed 2m 58s (remain 8m 17s) Loss: 0.5207(0.5253) Grad: 33351.8047  LR: 0.00000163  \n",
      "Epoch: [4][1000/3419] Elapsed 3m 17s (remain 7m 57s) Loss: 0.4876(0.5248) Grad: 7003.2847  LR: 0.00000150  \n",
      "Epoch: [4][1100/3419] Elapsed 3m 37s (remain 7m 37s) Loss: 0.5587(0.5248) Grad: 25450.9453  LR: 0.00000139  \n",
      "Epoch: [4][1200/3419] Elapsed 3m 57s (remain 7m 18s) Loss: 0.4603(0.5233) Grad: 27780.0117  LR: 0.00000127  \n",
      "Epoch: [4][1300/3419] Elapsed 4m 16s (remain 6m 58s) Loss: 0.5555(0.5231) Grad: 15224.9609  LR: 0.00000116  \n",
      "Epoch: [4][1400/3419] Elapsed 4m 36s (remain 6m 38s) Loss: 0.5093(0.5232) Grad: 60158.9141  LR: 0.00000106  \n",
      "Epoch: [4][1500/3419] Elapsed 4m 56s (remain 6m 18s) Loss: 0.3948(0.5240) Grad: 4603.7964  LR: 0.00000096  \n",
      "Epoch: [4][1600/3419] Elapsed 5m 16s (remain 5m 58s) Loss: 0.5781(0.5247) Grad: 29338.0645  LR: 0.00000086  \n",
      "Epoch: [4][1700/3419] Elapsed 5m 35s (remain 5m 39s) Loss: 0.5830(0.5242) Grad: 8546.5088  LR: 0.00000077  \n",
      "Epoch: [4][1800/3419] Elapsed 5m 55s (remain 5m 19s) Loss: 0.6357(0.5249) Grad: 19938.1934  LR: 0.00000068  \n",
      "Epoch: [4][1900/3419] Elapsed 6m 15s (remain 4m 59s) Loss: 0.5906(0.5248) Grad: 6720.7607  LR: 0.00000060  \n",
      "Epoch: [4][2000/3419] Elapsed 6m 34s (remain 4m 39s) Loss: 0.4532(0.5251) Grad: 5013.8691  LR: 0.00000053  \n",
      "Epoch: [4][2100/3419] Elapsed 6m 54s (remain 4m 20s) Loss: 0.5243(0.5246) Grad: 3201.3130  LR: 0.00000046  \n",
      "Epoch: [4][2200/3419] Elapsed 7m 14s (remain 4m 0s) Loss: 0.5700(0.5247) Grad: 41069.3047  LR: 0.00000039  \n",
      "Epoch: [4][2300/3419] Elapsed 7m 34s (remain 3m 40s) Loss: 0.4950(0.5250) Grad: 10312.0029  LR: 0.00000033  \n",
      "Epoch: [4][2400/3419] Elapsed 7m 53s (remain 3m 20s) Loss: 0.5562(0.5243) Grad: 6283.1255  LR: 0.00000027  \n",
      "Epoch: [4][2500/3419] Elapsed 8m 13s (remain 3m 1s) Loss: 0.5071(0.5245) Grad: 10940.9492  LR: 0.00000022  \n",
      "Epoch: [4][2600/3419] Elapsed 8m 33s (remain 2m 41s) Loss: 0.6521(0.5235) Grad: 7889.3462  LR: 0.00000018  \n",
      "Epoch: [4][2700/3419] Elapsed 8m 53s (remain 2m 21s) Loss: 0.5144(0.5240) Grad: 17071.1230  LR: 0.00000014  \n",
      "Epoch: [4][2800/3419] Elapsed 9m 12s (remain 2m 1s) Loss: 0.6602(0.5240) Grad: 8547.7793  LR: 0.00000010  \n",
      "Epoch: [4][2900/3419] Elapsed 9m 32s (remain 1m 42s) Loss: 0.5626(0.5243) Grad: 9334.5898  LR: 0.00000007  \n",
      "Epoch: [4][3000/3419] Elapsed 9m 52s (remain 1m 22s) Loss: 0.5991(0.5238) Grad: 12710.4551  LR: 0.00000005  \n",
      "Epoch: [4][3100/3419] Elapsed 10m 12s (remain 1m 2s) Loss: 0.3888(0.5239) Grad: 6528.5449  LR: 0.00000003  \n",
      "Epoch: [4][3200/3419] Elapsed 10m 32s (remain 0m 43s) Loss: 0.5700(0.5237) Grad: 38782.5820  LR: 0.00000001  \n",
      "Epoch: [4][3300/3419] Elapsed 10m 51s (remain 0m 23s) Loss: 0.4934(0.5237) Grad: 4928.0093  LR: 0.00000000  \n",
      "Epoch: [4][3400/3419] Elapsed 11m 11s (remain 0m 3s) Loss: 0.4887(0.5235) Grad: 8615.0645  LR: 0.00000000  \n"
     ]
    },
    {
     "name": "stderr",
     "output_type": "stream",
     "text": [
      "[W pthreadpool-cpp.cc:90] Warning: Leaking Caffe2 thread-pool after fork. (function pthreadpool)\n"
     ]
    },
    {
     "name": "stdout",
     "output_type": "stream",
     "text": [
      "Epoch: [4][3418/3419] Elapsed 11m 15s (remain 0m 0s) Loss: 0.6532(0.5236) Grad: 7976.4351  LR: 0.00000000  \n"
     ]
    },
    {
     "name": "stderr",
     "output_type": "stream",
     "text": [
      "[W pthreadpool-cpp.cc:90] Warning: Leaking Caffe2 thread-pool after fork. (function pthreadpool)\n",
      "[W pthreadpool-cpp.cc:90] Warning: Leaking Caffe2 thread-pool after fork. (function pthreadpool)\n",
      "[W pthreadpool-cpp.cc:90] Warning: Leaking Caffe2 thread-pool after fork. (function pthreadpool)\n",
      "[W pthreadpool-cpp.cc:90] Warning: Leaking Caffe2 thread-pool after fork. (function pthreadpool)\n"
     ]
    },
    {
     "name": "stdout",
     "output_type": "stream",
     "text": [
      "EVAL: [0/1140] Elapsed 0m 0s (remain 16m 17s) Loss: 0.5797(0.5797) \n",
      "EVAL: [100/1140] Elapsed 0m 9s (remain 1m 37s) Loss: 0.5432(0.5939) \n",
      "EVAL: [200/1140] Elapsed 0m 18s (remain 1m 24s) Loss: 0.4230(0.5963) \n",
      "EVAL: [300/1140] Elapsed 0m 26s (remain 1m 14s) Loss: 0.8169(0.5887) \n",
      "EVAL: [400/1140] Elapsed 0m 35s (remain 1m 5s) Loss: 0.5119(0.5841) \n",
      "EVAL: [500/1140] Elapsed 0m 44s (remain 0m 56s) Loss: 0.5621(0.5883) \n",
      "EVAL: [600/1140] Elapsed 0m 53s (remain 0m 48s) Loss: 0.6438(0.5855) \n",
      "EVAL: [700/1140] Elapsed 1m 2s (remain 0m 39s) Loss: 0.6459(0.5862) \n",
      "EVAL: [800/1140] Elapsed 1m 11s (remain 0m 30s) Loss: 0.8545(0.5831) \n",
      "EVAL: [900/1140] Elapsed 1m 19s (remain 0m 21s) Loss: 0.4827(0.5830) \n",
      "EVAL: [1000/1140] Elapsed 1m 28s (remain 0m 12s) Loss: 0.5637(0.5851) \n",
      "EVAL: [1100/1140] Elapsed 1m 37s (remain 0m 3s) Loss: 0.5069(0.5855) \n"
     ]
    },
    {
     "name": "stderr",
     "output_type": "stream",
     "text": [
      "Epoch 4 - avg_train_loss: 0.5236  avg_val_loss: 0.5848  time: 776s\n",
      "Epoch 4 - Score: 0.8014\n",
      "Epoch 4 - Save Best Score: 0.8014 Model\n"
     ]
    },
    {
     "name": "stdout",
     "output_type": "stream",
     "text": [
      "EVAL: [1139/1140] Elapsed 1m 40s (remain 0m 0s) Loss: 0.6090(0.5848) \n"
     ]
    },
    {
     "name": "stderr",
     "output_type": "stream",
     "text": [
      "========== fold: 0 result ==========\n",
      "Score: 0.8014\n",
      "========== fold: 1 training ==========\n"
     ]
    },
    {
     "name": "stdout",
     "output_type": "stream",
     "text": [
      "\u001b[38;5;40m========== fold: 1 training ==========\u001b[0m\n"
     ]
    },
    {
     "name": "stderr",
     "output_type": "stream",
     "text": [
      "Some weights of the model checkpoint at xlnet-base-cased were not used when initializing XLNetModel: ['lm_loss.bias', 'lm_loss.weight']\n",
      "- This IS expected if you are initializing XLNetModel from the checkpoint of a model trained on another task or with another architecture (e.g. initializing a BertForSequenceClassification model from a BertForPreTraining model).\n",
      "- This IS NOT expected if you are initializing XLNetModel from the checkpoint of a model that you expect to be exactly identical (initializing a BertForSequenceClassification model from a BertForSequenceClassification model).\n",
      "[W pthreadpool-cpp.cc:90] Warning: Leaking Caffe2 thread-pool after fork. (function pthreadpool)\n",
      "[W pthreadpool-cpp.cc:90] Warning: Leaking Caffe2 thread-pool after fork. (function pthreadpool)\n",
      "[W pthreadpool-cpp.cc:90] Warning: Leaking Caffe2 thread-pool after fork. (function pthreadpool)\n",
      "[W pthreadpool-cpp.cc:90] Warning: Leaking Caffe2 thread-pool after fork. (function pthreadpool)\n"
     ]
    },
    {
     "name": "stdout",
     "output_type": "stream",
     "text": [
      "Epoch: [1][0/3419] Elapsed 0m 0s (remain 35m 41s) Loss: 1.1331(1.1331) Grad: inf  LR: 0.00002000  \n",
      "Epoch: [1][100/3419] Elapsed 0m 20s (remain 11m 5s) Loss: 0.6936(0.6888) Grad: 16005.6475  LR: 0.00002000  \n",
      "Epoch: [1][200/3419] Elapsed 0m 39s (remain 10m 40s) Loss: 0.7281(0.6666) Grad: 66732.8984  LR: 0.00001999  \n",
      "Epoch: [1][300/3419] Elapsed 0m 59s (remain 10m 19s) Loss: 0.5681(0.6526) Grad: 13128.1973  LR: 0.00001998  \n",
      "Epoch: [1][400/3419] Elapsed 1m 19s (remain 9m 58s) Loss: 0.6100(0.6421) Grad: 13261.4014  LR: 0.00001996  \n",
      "Epoch: [1][500/3419] Elapsed 1m 39s (remain 9m 38s) Loss: 0.5958(0.6366) Grad: 16681.9668  LR: 0.00001993  \n",
      "Epoch: [1][600/3419] Elapsed 1m 59s (remain 9m 18s) Loss: 0.5736(0.6329) Grad: 9668.4902  LR: 0.00001990  \n",
      "Epoch: [1][700/3419] Elapsed 2m 18s (remain 8m 58s) Loss: 0.6878(0.6286) Grad: 16973.9004  LR: 0.00001987  \n",
      "Epoch: [1][800/3419] Elapsed 2m 38s (remain 8m 38s) Loss: 0.5533(0.6251) Grad: 10863.0078  LR: 0.00001983  \n",
      "Epoch: [1][900/3419] Elapsed 2m 58s (remain 8m 19s) Loss: 0.5574(0.6204) Grad: 11415.4131  LR: 0.00001979  \n",
      "Epoch: [1][1000/3419] Elapsed 3m 18s (remain 7m 59s) Loss: 0.5821(0.6189) Grad: 20453.8613  LR: 0.00001974  \n",
      "Epoch: [1][1100/3419] Elapsed 3m 38s (remain 7m 39s) Loss: 0.6308(0.6172) Grad: 6495.7378  LR: 0.00001968  \n",
      "Epoch: [1][1200/3419] Elapsed 3m 57s (remain 7m 19s) Loss: 0.5275(0.6162) Grad: 9612.0752  LR: 0.00001962  \n",
      "Epoch: [1][1300/3419] Elapsed 4m 17s (remain 6m 59s) Loss: 0.5950(0.6155) Grad: 31547.9824  LR: 0.00001956  \n",
      "Epoch: [1][1400/3419] Elapsed 4m 37s (remain 6m 39s) Loss: 0.4483(0.6122) Grad: 10796.3057  LR: 0.00001949  \n",
      "Epoch: [1][1500/3419] Elapsed 4m 57s (remain 6m 20s) Loss: 0.6738(0.6115) Grad: 15795.2334  LR: 0.00001941  \n",
      "Epoch: [1][1600/3419] Elapsed 5m 17s (remain 6m 0s) Loss: 0.5727(0.6106) Grad: 14655.6426  LR: 0.00001933  \n",
      "Epoch: [1][1700/3419] Elapsed 5m 36s (remain 5m 40s) Loss: 0.5416(0.6094) Grad: 16508.4961  LR: 0.00001925  \n",
      "Epoch: [1][1800/3419] Elapsed 5m 56s (remain 5m 20s) Loss: 0.5581(0.6083) Grad: 4344.0786  LR: 0.00001916  \n",
      "Epoch: [1][1900/3419] Elapsed 6m 16s (remain 5m 0s) Loss: 0.3742(0.6075) Grad: 10763.0439  LR: 0.00001906  \n",
      "Epoch: [1][2000/3419] Elapsed 6m 36s (remain 4m 40s) Loss: 0.5802(0.6063) Grad: 9808.5703  LR: 0.00001896  \n",
      "Epoch: [1][2100/3419] Elapsed 6m 56s (remain 4m 21s) Loss: 0.6513(0.6056) Grad: 12995.1562  LR: 0.00001886  \n",
      "Epoch: [1][2200/3419] Elapsed 7m 15s (remain 4m 1s) Loss: 0.6671(0.6045) Grad: 15168.1992  LR: 0.00001875  \n",
      "Epoch: [1][2300/3419] Elapsed 7m 35s (remain 3m 41s) Loss: 0.4604(0.6036) Grad: 53076.2930  LR: 0.00001864  \n",
      "Epoch: [1][2400/3419] Elapsed 7m 55s (remain 3m 21s) Loss: 0.5977(0.6024) Grad: 17106.5957  LR: 0.00001852  \n",
      "Epoch: [1][2500/3419] Elapsed 8m 15s (remain 3m 1s) Loss: 0.7157(0.6013) Grad: 62747.0469  LR: 0.00001839  \n",
      "Epoch: [1][2600/3419] Elapsed 8m 35s (remain 2m 41s) Loss: 0.5066(0.6005) Grad: 27915.5117  LR: 0.00001827  \n",
      "Epoch: [1][2700/3419] Elapsed 8m 54s (remain 2m 22s) Loss: 0.5005(0.5998) Grad: 4890.8657  LR: 0.00001814  \n",
      "Epoch: [1][2800/3419] Elapsed 9m 14s (remain 2m 2s) Loss: 0.7308(0.5986) Grad: 18871.6055  LR: 0.00001800  \n",
      "Epoch: [1][2900/3419] Elapsed 9m 34s (remain 1m 42s) Loss: 0.5760(0.5986) Grad: 15694.2373  LR: 0.00001786  \n",
      "Epoch: [1][3000/3419] Elapsed 9m 54s (remain 1m 22s) Loss: 0.5067(0.5976) Grad: 49247.6914  LR: 0.00001772  \n",
      "Epoch: [1][3100/3419] Elapsed 10m 14s (remain 1m 2s) Loss: 0.4978(0.5969) Grad: 10657.3096  LR: 0.00001757  \n",
      "Epoch: [1][3200/3419] Elapsed 10m 33s (remain 0m 43s) Loss: 0.5902(0.5966) Grad: 17929.7520  LR: 0.00001742  \n",
      "Epoch: [1][3300/3419] Elapsed 10m 53s (remain 0m 23s) Loss: 0.7574(0.5956) Grad: 94555.7812  LR: 0.00001726  \n",
      "Epoch: [1][3400/3419] Elapsed 11m 13s (remain 0m 3s) Loss: 0.7056(0.5950) Grad: 25036.5039  LR: 0.00001710  \n"
     ]
    },
    {
     "name": "stderr",
     "output_type": "stream",
     "text": [
      "[W pthreadpool-cpp.cc:90] Warning: Leaking Caffe2 thread-pool after fork. (function pthreadpool)\n"
     ]
    },
    {
     "name": "stdout",
     "output_type": "stream",
     "text": [
      "Epoch: [1][3418/3419] Elapsed 11m 16s (remain 0m 0s) Loss: 0.5711(0.5948) Grad: 35403.9258  LR: 0.00001707  \n"
     ]
    },
    {
     "name": "stderr",
     "output_type": "stream",
     "text": [
      "[W pthreadpool-cpp.cc:90] Warning: Leaking Caffe2 thread-pool after fork. (function pthreadpool)\n",
      "[W pthreadpool-cpp.cc:90] Warning: Leaking Caffe2 thread-pool after fork. (function pthreadpool)\n",
      "[W pthreadpool-cpp.cc:90] Warning: Leaking Caffe2 thread-pool after fork. (function pthreadpool)\n",
      "[W pthreadpool-cpp.cc:90] Warning: Leaking Caffe2 thread-pool after fork. (function pthreadpool)\n"
     ]
    },
    {
     "name": "stdout",
     "output_type": "stream",
     "text": [
      "EVAL: [0/1140] Elapsed 0m 0s (remain 5m 19s) Loss: 0.5436(0.5436) \n",
      "EVAL: [100/1140] Elapsed 0m 8s (remain 1m 31s) Loss: 0.5204(0.5466) \n",
      "EVAL: [200/1140] Elapsed 0m 17s (remain 1m 21s) Loss: 0.5375(0.5583) \n",
      "EVAL: [300/1140] Elapsed 0m 26s (remain 1m 12s) Loss: 0.6275(0.5592) \n",
      "EVAL: [400/1140] Elapsed 0m 34s (remain 1m 4s) Loss: 0.3673(0.5620) \n",
      "EVAL: [500/1140] Elapsed 0m 43s (remain 0m 55s) Loss: 0.5978(0.5636) \n",
      "EVAL: [600/1140] Elapsed 0m 51s (remain 0m 46s) Loss: 0.5858(0.5632) \n",
      "EVAL: [700/1140] Elapsed 1m 0s (remain 0m 37s) Loss: 0.7005(0.5638) \n",
      "EVAL: [800/1140] Elapsed 1m 9s (remain 0m 29s) Loss: 0.6007(0.5645) \n",
      "EVAL: [900/1140] Elapsed 1m 17s (remain 0m 20s) Loss: 0.5111(0.5624) \n",
      "EVAL: [1000/1140] Elapsed 1m 26s (remain 0m 12s) Loss: 0.5463(0.5608) \n",
      "EVAL: [1100/1140] Elapsed 1m 35s (remain 0m 3s) Loss: 0.5058(0.5603) \n"
     ]
    },
    {
     "name": "stderr",
     "output_type": "stream",
     "text": [
      "Epoch 1 - avg_train_loss: 0.5948  avg_val_loss: 0.5609  time: 775s\n",
      "Epoch 1 - Score: 0.7733\n",
      "Epoch 1 - Save Best Score: 0.7733 Model\n"
     ]
    },
    {
     "name": "stdout",
     "output_type": "stream",
     "text": [
      "EVAL: [1139/1140] Elapsed 1m 38s (remain 0m 0s) Loss: 1.0966(0.5609) \n"
     ]
    },
    {
     "name": "stderr",
     "output_type": "stream",
     "text": [
      "[W pthreadpool-cpp.cc:90] Warning: Leaking Caffe2 thread-pool after fork. (function pthreadpool)\n",
      "[W pthreadpool-cpp.cc:90] Warning: Leaking Caffe2 thread-pool after fork. (function pthreadpool)\n",
      "[W pthreadpool-cpp.cc:90] Warning: Leaking Caffe2 thread-pool after fork. (function pthreadpool)\n",
      "[W pthreadpool-cpp.cc:90] Warning: Leaking Caffe2 thread-pool after fork. (function pthreadpool)\n"
     ]
    },
    {
     "name": "stdout",
     "output_type": "stream",
     "text": [
      "Epoch: [2][0/3419] Elapsed 0m 0s (remain 27m 4s) Loss: 0.4339(0.4339) Grad: 110548.6250  LR: 0.00001707  \n",
      "Epoch: [2][100/3419] Elapsed 0m 20s (remain 11m 3s) Loss: 0.6338(0.5510) Grad: 66010.0078  LR: 0.00001691  \n",
      "Epoch: [2][200/3419] Elapsed 0m 39s (remain 10m 39s) Loss: 0.6104(0.5560) Grad: 22164.1094  LR: 0.00001674  \n",
      "Epoch: [2][300/3419] Elapsed 0m 59s (remain 10m 17s) Loss: 0.6656(0.5595) Grad: 34547.6016  LR: 0.00001657  \n",
      "Epoch: [2][400/3419] Elapsed 1m 19s (remain 9m 57s) Loss: 0.4885(0.5594) Grad: 15639.4150  LR: 0.00001639  \n",
      "Epoch: [2][500/3419] Elapsed 1m 39s (remain 9m 37s) Loss: 0.5064(0.5594) Grad: 34078.4453  LR: 0.00001621  \n",
      "Epoch: [2][600/3419] Elapsed 1m 58s (remain 9m 17s) Loss: 0.5467(0.5580) Grad: 32981.2031  LR: 0.00001603  \n",
      "Epoch: [2][700/3419] Elapsed 2m 18s (remain 8m 57s) Loss: 0.5797(0.5587) Grad: 24291.4062  LR: 0.00001585  \n",
      "Epoch: [2][800/3419] Elapsed 2m 38s (remain 8m 37s) Loss: 0.5142(0.5580) Grad: 28867.1699  LR: 0.00001566  \n",
      "Epoch: [2][900/3419] Elapsed 2m 58s (remain 8m 18s) Loss: 0.5705(0.5586) Grad: 13675.5381  LR: 0.00001547  \n",
      "Epoch: [2][1000/3419] Elapsed 3m 17s (remain 7m 58s) Loss: 0.5982(0.5598) Grad: 11007.0781  LR: 0.00001527  \n",
      "Epoch: [2][1100/3419] Elapsed 3m 37s (remain 7m 38s) Loss: 0.4538(0.5587) Grad: 20622.7891  LR: 0.00001508  \n",
      "Epoch: [2][1200/3419] Elapsed 3m 57s (remain 7m 18s) Loss: 0.6426(0.5586) Grad: 44794.4102  LR: 0.00001488  \n",
      "Epoch: [2][1300/3419] Elapsed 4m 17s (remain 6m 58s) Loss: 0.5433(0.5587) Grad: 27743.4863  LR: 0.00001468  \n",
      "Epoch: [2][1400/3419] Elapsed 4m 36s (remain 6m 38s) Loss: 0.5243(0.5580) Grad: 27597.0938  LR: 0.00001447  \n",
      "Epoch: [2][1500/3419] Elapsed 4m 56s (remain 6m 19s) Loss: 0.4954(0.5580) Grad: 25061.0918  LR: 0.00001427  \n",
      "Epoch: [2][1600/3419] Elapsed 5m 16s (remain 5m 59s) Loss: 0.5341(0.5592) Grad: 10203.9082  LR: 0.00001406  \n",
      "Epoch: [2][1700/3419] Elapsed 5m 36s (remain 5m 39s) Loss: 0.6466(0.5582) Grad: 16466.5098  LR: 0.00001385  \n",
      "Epoch: [2][1800/3419] Elapsed 5m 55s (remain 5m 19s) Loss: 0.6623(0.5577) Grad: 30727.9922  LR: 0.00001363  \n",
      "Epoch: [2][1900/3419] Elapsed 6m 15s (remain 4m 59s) Loss: 0.6969(0.5578) Grad: 30911.1992  LR: 0.00001342  \n",
      "Epoch: [2][2000/3419] Elapsed 6m 35s (remain 4m 40s) Loss: 0.6149(0.5584) Grad: 19078.5273  LR: 0.00001320  \n",
      "Epoch: [2][2100/3419] Elapsed 6m 55s (remain 4m 20s) Loss: 0.6536(0.5586) Grad: 12497.5693  LR: 0.00001298  \n",
      "Epoch: [2][2200/3419] Elapsed 7m 14s (remain 4m 0s) Loss: 0.3783(0.5580) Grad: 3872.9744  LR: 0.00001276  \n",
      "Epoch: [2][2300/3419] Elapsed 7m 34s (remain 3m 40s) Loss: 0.5179(0.5575) Grad: 16280.4004  LR: 0.00001254  \n",
      "Epoch: [2][2400/3419] Elapsed 7m 54s (remain 3m 21s) Loss: 0.5598(0.5574) Grad: 40123.6523  LR: 0.00001232  \n",
      "Epoch: [2][2500/3419] Elapsed 8m 14s (remain 3m 1s) Loss: 0.5576(0.5575) Grad: 42976.5312  LR: 0.00001209  \n",
      "Epoch: [2][2600/3419] Elapsed 8m 33s (remain 2m 41s) Loss: 0.5644(0.5573) Grad: 32066.2773  LR: 0.00001187  \n",
      "Epoch: [2][2700/3419] Elapsed 8m 53s (remain 2m 21s) Loss: 0.5364(0.5572) Grad: 13293.8691  LR: 0.00001164  \n",
      "Epoch: [2][2800/3419] Elapsed 9m 13s (remain 2m 2s) Loss: 0.5502(0.5574) Grad: 36966.4609  LR: 0.00001142  \n",
      "Epoch: [2][2900/3419] Elapsed 9m 33s (remain 1m 42s) Loss: 0.5974(0.5573) Grad: 15683.5371  LR: 0.00001119  \n",
      "Epoch: [2][3000/3419] Elapsed 9m 52s (remain 1m 22s) Loss: 0.5479(0.5569) Grad: 37221.2539  LR: 0.00001096  \n",
      "Epoch: [2][3100/3419] Elapsed 10m 12s (remain 1m 2s) Loss: 0.6089(0.5564) Grad: 24617.8789  LR: 0.00001073  \n",
      "Epoch: [2][3200/3419] Elapsed 10m 32s (remain 0m 43s) Loss: 0.4729(0.5559) Grad: 51885.7891  LR: 0.00001050  \n",
      "Epoch: [2][3300/3419] Elapsed 10m 52s (remain 0m 23s) Loss: 0.4621(0.5557) Grad: 20598.0039  LR: 0.00001027  \n",
      "Epoch: [2][3400/3419] Elapsed 11m 11s (remain 0m 3s) Loss: 0.6218(0.5556) Grad: 41254.3086  LR: 0.00001004  \n",
      "Epoch: [2][3418/3419] Elapsed 11m 15s (remain 0m 0s) Loss: 0.4731(0.5556) Grad: 59278.5820  LR: 0.00001000  \n"
     ]
    },
    {
     "name": "stderr",
     "output_type": "stream",
     "text": [
      "[W pthreadpool-cpp.cc:90] Warning: Leaking Caffe2 thread-pool after fork. (function pthreadpool)\n",
      "[W pthreadpool-cpp.cc:90] Warning: Leaking Caffe2 thread-pool after fork. (function pthreadpool)\n",
      "[W pthreadpool-cpp.cc:90] Warning: Leaking Caffe2 thread-pool after fork. (function pthreadpool)\n",
      "[W pthreadpool-cpp.cc:90] Warning: Leaking Caffe2 thread-pool after fork. (function pthreadpool)\n"
     ]
    },
    {
     "name": "stdout",
     "output_type": "stream",
     "text": [
      "EVAL: [0/1140] Elapsed 0m 0s (remain 5m 4s) Loss: 0.7295(0.7295) \n",
      "EVAL: [100/1140] Elapsed 0m 8s (remain 1m 31s) Loss: 0.5459(0.5580) \n",
      "EVAL: [200/1140] Elapsed 0m 17s (remain 1m 21s) Loss: 0.5166(0.5644) \n",
      "EVAL: [300/1140] Elapsed 0m 26s (remain 1m 12s) Loss: 0.6111(0.5649) \n",
      "EVAL: [400/1140] Elapsed 0m 34s (remain 1m 4s) Loss: 0.3585(0.5697) \n",
      "EVAL: [500/1140] Elapsed 0m 43s (remain 0m 55s) Loss: 0.8023(0.5715) \n",
      "EVAL: [600/1140] Elapsed 0m 52s (remain 0m 46s) Loss: 0.5643(0.5718) \n",
      "EVAL: [700/1140] Elapsed 1m 0s (remain 0m 37s) Loss: 0.8064(0.5729) \n",
      "EVAL: [800/1140] Elapsed 1m 9s (remain 0m 29s) Loss: 0.6083(0.5729) \n",
      "EVAL: [900/1140] Elapsed 1m 17s (remain 0m 20s) Loss: 0.5317(0.5706) \n",
      "EVAL: [1000/1140] Elapsed 1m 26s (remain 0m 12s) Loss: 0.5748(0.5691) \n",
      "EVAL: [1100/1140] Elapsed 1m 35s (remain 0m 3s) Loss: 0.4435(0.5680) \n"
     ]
    },
    {
     "name": "stderr",
     "output_type": "stream",
     "text": [
      "Epoch 2 - avg_train_loss: 0.5556  avg_val_loss: 0.5691  time: 774s\n",
      "Epoch 2 - Score: 0.7879\n",
      "Epoch 2 - Save Best Score: 0.7879 Model\n"
     ]
    },
    {
     "name": "stdout",
     "output_type": "stream",
     "text": [
      "EVAL: [1139/1140] Elapsed 1m 38s (remain 0m 0s) Loss: 1.2111(0.5691) \n"
     ]
    },
    {
     "name": "stderr",
     "output_type": "stream",
     "text": [
      "[W pthreadpool-cpp.cc:90] Warning: Leaking Caffe2 thread-pool after fork. (function pthreadpool)\n",
      "[W pthreadpool-cpp.cc:90] Warning: Leaking Caffe2 thread-pool after fork. (function pthreadpool)\n",
      "[W pthreadpool-cpp.cc:90] Warning: Leaking Caffe2 thread-pool after fork. (function pthreadpool)\n",
      "[W pthreadpool-cpp.cc:90] Warning: Leaking Caffe2 thread-pool after fork. (function pthreadpool)\n"
     ]
    },
    {
     "name": "stdout",
     "output_type": "stream",
     "text": [
      "Epoch: [3][0/3419] Elapsed 0m 0s (remain 30m 37s) Loss: 0.4405(0.4405) Grad: 158793.0469  LR: 0.00001000  \n",
      "Epoch: [3][100/3419] Elapsed 0m 20s (remain 11m 6s) Loss: 0.5365(0.5207) Grad: 101597.0703  LR: 0.00000977  \n",
      "Epoch: [3][200/3419] Elapsed 0m 40s (remain 10m 40s) Loss: 0.5813(0.5304) Grad: 27564.1973  LR: 0.00000954  \n",
      "Epoch: [3][300/3419] Elapsed 0m 59s (remain 10m 19s) Loss: 0.3433(0.5337) Grad: 62255.2617  LR: 0.00000931  \n",
      "Epoch: [3][400/3419] Elapsed 1m 19s (remain 9m 58s) Loss: 0.5632(0.5396) Grad: 19568.8086  LR: 0.00000908  \n",
      "Epoch: [3][500/3419] Elapsed 1m 39s (remain 9m 38s) Loss: 0.3974(0.5339) Grad: 15677.8965  LR: 0.00000885  \n",
      "Epoch: [3][600/3419] Elapsed 1m 59s (remain 9m 18s) Loss: 0.5905(0.5364) Grad: 179569.0000  LR: 0.00000863  \n",
      "Epoch: [3][700/3419] Elapsed 2m 18s (remain 8m 58s) Loss: 0.3594(0.5360) Grad: 61089.6484  LR: 0.00000840  \n",
      "Epoch: [3][800/3419] Elapsed 2m 38s (remain 8m 38s) Loss: 0.3705(0.5361) Grad: 22799.5859  LR: 0.00000817  \n",
      "Epoch: [3][900/3419] Elapsed 2m 58s (remain 8m 18s) Loss: 0.6540(0.5380) Grad: 72376.2266  LR: 0.00000795  \n",
      "Epoch: [3][1000/3419] Elapsed 3m 18s (remain 7m 58s) Loss: 0.5206(0.5380) Grad: 57147.5039  LR: 0.00000772  \n",
      "Epoch: [3][1100/3419] Elapsed 3m 37s (remain 7m 38s) Loss: 0.6429(0.5383) Grad: 34864.4805  LR: 0.00000750  \n",
      "Epoch: [3][1200/3419] Elapsed 3m 57s (remain 7m 18s) Loss: 0.4374(0.5374) Grad: 19144.3672  LR: 0.00000728  \n",
      "Epoch: [3][1300/3419] Elapsed 4m 17s (remain 6m 58s) Loss: 0.6069(0.5372) Grad: 66060.3203  LR: 0.00000706  \n",
      "Epoch: [3][1400/3419] Elapsed 4m 37s (remain 6m 39s) Loss: 0.5773(0.5376) Grad: 249868.3594  LR: 0.00000684  \n",
      "Epoch: [3][1500/3419] Elapsed 4m 56s (remain 6m 19s) Loss: 0.4578(0.5373) Grad: 59008.0156  LR: 0.00000662  \n",
      "Epoch: [3][1600/3419] Elapsed 5m 16s (remain 5m 59s) Loss: 0.5493(0.5367) Grad: 30622.9219  LR: 0.00000641  \n",
      "Epoch: [3][1700/3419] Elapsed 5m 36s (remain 5m 39s) Loss: 0.5866(0.5365) Grad: 14253.7207  LR: 0.00000619  \n",
      "Epoch: [3][1800/3419] Elapsed 5m 56s (remain 5m 19s) Loss: 0.6010(0.5360) Grad: 18253.9980  LR: 0.00000598  \n",
      "Epoch: [3][1900/3419] Elapsed 6m 15s (remain 5m 0s) Loss: 0.5138(0.5356) Grad: 39673.8398  LR: 0.00000577  \n",
      "Epoch: [3][2000/3419] Elapsed 6m 35s (remain 4m 40s) Loss: 0.4652(0.5352) Grad: 20104.8652  LR: 0.00000556  \n",
      "Epoch: [3][2100/3419] Elapsed 6m 55s (remain 4m 20s) Loss: 0.5686(0.5360) Grad: 129756.7656  LR: 0.00000536  \n",
      "Epoch: [3][2200/3419] Elapsed 7m 15s (remain 4m 0s) Loss: 0.4442(0.5364) Grad: 132776.6406  LR: 0.00000516  \n",
      "Epoch: [3][2300/3419] Elapsed 7m 34s (remain 3m 41s) Loss: 0.5907(0.5364) Grad: 110361.9531  LR: 0.00000496  \n",
      "Epoch: [3][2400/3419] Elapsed 7m 54s (remain 3m 21s) Loss: 0.5856(0.5361) Grad: 31158.9238  LR: 0.00000476  \n",
      "Epoch: [3][2500/3419] Elapsed 8m 14s (remain 3m 1s) Loss: 0.4735(0.5362) Grad: 45537.7539  LR: 0.00000457  \n",
      "Epoch: [3][2600/3419] Elapsed 8m 34s (remain 2m 41s) Loss: 0.7865(0.5362) Grad: 245318.8594  LR: 0.00000438  \n",
      "Epoch: [3][2700/3419] Elapsed 8m 53s (remain 2m 21s) Loss: 0.6376(0.5353) Grad: 65437.2070  LR: 0.00000419  \n",
      "Epoch: [3][2800/3419] Elapsed 9m 13s (remain 2m 2s) Loss: 0.6630(0.5356) Grad: 39140.7852  LR: 0.00000400  \n",
      "Epoch: [3][2900/3419] Elapsed 9m 33s (remain 1m 42s) Loss: 0.6059(0.5356) Grad: 80984.2734  LR: 0.00000382  \n",
      "Epoch: [3][3000/3419] Elapsed 9m 53s (remain 1m 22s) Loss: 0.5431(0.5352) Grad: 17450.6562  LR: 0.00000364  \n",
      "Epoch: [3][3100/3419] Elapsed 10m 12s (remain 1m 2s) Loss: 0.6053(0.5355) Grad: 24293.4453  LR: 0.00000347  \n",
      "Epoch: [3][3200/3419] Elapsed 10m 32s (remain 0m 43s) Loss: 0.5803(0.5351) Grad: 39885.9688  LR: 0.00000329  \n",
      "Epoch: [3][3300/3419] Elapsed 10m 52s (remain 0m 23s) Loss: 0.3163(0.5351) Grad: 42804.7891  LR: 0.00000312  \n",
      "Epoch: [3][3400/3419] Elapsed 11m 12s (remain 0m 3s) Loss: 0.4143(0.5356) Grad: 50421.5117  LR: 0.00000296  \n",
      "Epoch: [3][3418/3419] Elapsed 11m 15s (remain 0m 0s) Loss: 0.5523(0.5357) Grad: 18699.1426  LR: 0.00000293  \n"
     ]
    },
    {
     "name": "stderr",
     "output_type": "stream",
     "text": [
      "[W pthreadpool-cpp.cc:90] Warning: Leaking Caffe2 thread-pool after fork. (function pthreadpool)\n",
      "[W pthreadpool-cpp.cc:90] Warning: Leaking Caffe2 thread-pool after fork. (function pthreadpool)\n",
      "[W pthreadpool-cpp.cc:90] Warning: Leaking Caffe2 thread-pool after fork. (function pthreadpool)\n",
      "[W pthreadpool-cpp.cc:90] Warning: Leaking Caffe2 thread-pool after fork. (function pthreadpool)\n"
     ]
    },
    {
     "name": "stdout",
     "output_type": "stream",
     "text": [
      "EVAL: [0/1140] Elapsed 0m 0s (remain 5m 4s) Loss: 0.7795(0.7795) \n",
      "EVAL: [100/1140] Elapsed 0m 8s (remain 1m 31s) Loss: 0.5687(0.5686) \n",
      "EVAL: [200/1140] Elapsed 0m 17s (remain 1m 21s) Loss: 0.5213(0.5716) \n",
      "EVAL: [300/1140] Elapsed 0m 26s (remain 1m 12s) Loss: 0.6046(0.5713) \n",
      "EVAL: [400/1140] Elapsed 0m 34s (remain 1m 3s) Loss: 0.3442(0.5771) \n",
      "EVAL: [500/1140] Elapsed 0m 43s (remain 0m 55s) Loss: 0.8806(0.5773) \n",
      "EVAL: [600/1140] Elapsed 0m 51s (remain 0m 46s) Loss: 0.5667(0.5798) \n",
      "EVAL: [700/1140] Elapsed 1m 0s (remain 0m 37s) Loss: 0.8783(0.5816) \n",
      "EVAL: [800/1140] Elapsed 1m 9s (remain 0m 29s) Loss: 0.5981(0.5805) \n",
      "EVAL: [900/1140] Elapsed 1m 17s (remain 0m 20s) Loss: 0.5799(0.5767) \n",
      "EVAL: [1000/1140] Elapsed 1m 26s (remain 0m 11s) Loss: 0.5846(0.5748) \n",
      "EVAL: [1100/1140] Elapsed 1m 34s (remain 0m 3s) Loss: 0.5545(0.5746) \n"
     ]
    },
    {
     "name": "stderr",
     "output_type": "stream",
     "text": [
      "Epoch 3 - avg_train_loss: 0.5357  avg_val_loss: 0.5752  time: 774s\n",
      "Epoch 3 - Score: 0.8035\n",
      "Epoch 3 - Save Best Score: 0.8035 Model\n"
     ]
    },
    {
     "name": "stdout",
     "output_type": "stream",
     "text": [
      "EVAL: [1139/1140] Elapsed 1m 38s (remain 0m 0s) Loss: 1.6183(0.5752) \n"
     ]
    },
    {
     "name": "stderr",
     "output_type": "stream",
     "text": [
      "[W pthreadpool-cpp.cc:90] Warning: Leaking Caffe2 thread-pool after fork. (function pthreadpool)\n",
      "[W pthreadpool-cpp.cc:90] Warning: Leaking Caffe2 thread-pool after fork. (function pthreadpool)\n",
      "[W pthreadpool-cpp.cc:90] Warning: Leaking Caffe2 thread-pool after fork. (function pthreadpool)\n",
      "[W pthreadpool-cpp.cc:90] Warning: Leaking Caffe2 thread-pool after fork. (function pthreadpool)\n"
     ]
    },
    {
     "name": "stdout",
     "output_type": "stream",
     "text": [
      "Epoch: [4][0/3419] Elapsed 0m 0s (remain 29m 41s) Loss: 0.5186(0.5186) Grad: 294620.4062  LR: 0.00000293  \n",
      "Epoch: [4][100/3419] Elapsed 0m 20s (remain 11m 4s) Loss: 0.4282(0.5188) Grad: 43415.8594  LR: 0.00000277  \n",
      "Epoch: [4][200/3419] Elapsed 0m 39s (remain 10m 39s) Loss: 0.6556(0.5252) Grad: 40805.0391  LR: 0.00000261  \n",
      "Epoch: [4][300/3419] Elapsed 0m 59s (remain 10m 18s) Loss: 0.6851(0.5310) Grad: 94864.4922  LR: 0.00000246  \n",
      "Epoch: [4][400/3419] Elapsed 1m 19s (remain 9m 57s) Loss: 0.6418(0.5334) Grad: 15432.1787  LR: 0.00000231  \n",
      "Epoch: [4][500/3419] Elapsed 1m 39s (remain 9m 37s) Loss: 0.5708(0.5357) Grad: 21327.0977  LR: 0.00000216  \n",
      "Epoch: [4][600/3419] Elapsed 1m 58s (remain 9m 17s) Loss: 0.3758(0.5310) Grad: 27117.5273  LR: 0.00000202  \n",
      "Epoch: [4][700/3419] Elapsed 2m 18s (remain 8m 57s) Loss: 0.6298(0.5305) Grad: 21795.3711  LR: 0.00000189  \n",
      "Epoch: [4][800/3419] Elapsed 2m 38s (remain 8m 37s) Loss: 0.4942(0.5290) Grad: 34487.5430  LR: 0.00000176  \n",
      "Epoch: [4][900/3419] Elapsed 2m 58s (remain 8m 17s) Loss: 0.5789(0.5293) Grad: 18190.2988  LR: 0.00000163  \n",
      "Epoch: [4][1000/3419] Elapsed 3m 17s (remain 7m 57s) Loss: 0.2893(0.5280) Grad: 38827.8047  LR: 0.00000150  \n",
      "Epoch: [4][1100/3419] Elapsed 3m 37s (remain 7m 38s) Loss: 0.3387(0.5256) Grad: 17495.4805  LR: 0.00000139  \n",
      "Epoch: [4][1200/3419] Elapsed 3m 57s (remain 7m 18s) Loss: 0.4567(0.5251) Grad: 115378.8516  LR: 0.00000127  \n",
      "Epoch: [4][1300/3419] Elapsed 4m 17s (remain 6m 58s) Loss: 0.6152(0.5252) Grad: 56475.1836  LR: 0.00000116  \n",
      "Epoch: [4][1400/3419] Elapsed 4m 36s (remain 6m 38s) Loss: 0.7200(0.5265) Grad: 146388.2344  LR: 0.00000106  \n",
      "Epoch: [4][1500/3419] Elapsed 4m 56s (remain 6m 18s) Loss: 0.4369(0.5267) Grad: 60329.3789  LR: 0.00000096  \n",
      "Epoch: [4][1600/3419] Elapsed 5m 16s (remain 5m 59s) Loss: 0.5456(0.5271) Grad: 65481.5117  LR: 0.00000086  \n",
      "Epoch: [4][1700/3419] Elapsed 5m 36s (remain 5m 39s) Loss: 0.3219(0.5264) Grad: 13591.8018  LR: 0.00000077  \n",
      "Epoch: [4][1800/3419] Elapsed 5m 55s (remain 5m 19s) Loss: 0.5128(0.5261) Grad: 23349.5820  LR: 0.00000068  \n",
      "Epoch: [4][1900/3419] Elapsed 6m 15s (remain 4m 59s) Loss: 0.3714(0.5251) Grad: 50776.4375  LR: 0.00000060  \n",
      "Epoch: [4][2000/3419] Elapsed 6m 35s (remain 4m 40s) Loss: 0.7211(0.5260) Grad: 121429.5156  LR: 0.00000053  \n",
      "Epoch: [4][2100/3419] Elapsed 6m 54s (remain 4m 20s) Loss: 0.5500(0.5258) Grad: 22246.1641  LR: 0.00000046  \n",
      "Epoch: [4][2200/3419] Elapsed 7m 14s (remain 4m 0s) Loss: 0.5627(0.5252) Grad: 81727.9453  LR: 0.00000039  \n",
      "Epoch: [4][2300/3419] Elapsed 7m 34s (remain 3m 40s) Loss: 0.5264(0.5251) Grad: 48228.5273  LR: 0.00000033  \n",
      "Epoch: [4][2400/3419] Elapsed 7m 54s (remain 3m 21s) Loss: 0.6161(0.5256) Grad: 45838.5664  LR: 0.00000027  \n",
      "Epoch: [4][2500/3419] Elapsed 8m 13s (remain 3m 1s) Loss: 0.5508(0.5253) Grad: 27447.6406  LR: 0.00000022  \n",
      "Epoch: [4][2600/3419] Elapsed 8m 33s (remain 2m 41s) Loss: 0.4616(0.5247) Grad: 14450.8594  LR: 0.00000018  \n",
      "Epoch: [4][2700/3419] Elapsed 8m 53s (remain 2m 21s) Loss: 0.5725(0.5246) Grad: 24448.2051  LR: 0.00000014  \n",
      "Epoch: [4][2800/3419] Elapsed 9m 13s (remain 2m 2s) Loss: 0.5174(0.5245) Grad: 28194.2480  LR: 0.00000010  \n",
      "Epoch: [4][2900/3419] Elapsed 9m 32s (remain 1m 42s) Loss: 0.5694(0.5234) Grad: 70347.5859  LR: 0.00000007  \n",
      "Epoch: [4][3000/3419] Elapsed 9m 52s (remain 1m 22s) Loss: 0.2224(0.5239) Grad: 11855.8203  LR: 0.00000005  \n",
      "Epoch: [4][3100/3419] Elapsed 10m 12s (remain 1m 2s) Loss: 0.3359(0.5242) Grad: 16609.3828  LR: 0.00000003  \n",
      "Epoch: [4][3200/3419] Elapsed 10m 32s (remain 0m 43s) Loss: 0.5507(0.5244) Grad: 12917.5791  LR: 0.00000001  \n",
      "Epoch: [4][3300/3419] Elapsed 10m 51s (remain 0m 23s) Loss: 0.6605(0.5241) Grad: 37253.4062  LR: 0.00000000  \n",
      "Epoch: [4][3400/3419] Elapsed 11m 11s (remain 0m 3s) Loss: 0.4887(0.5244) Grad: 14221.9570  LR: 0.00000000  \n",
      "Epoch: [4][3418/3419] Elapsed 11m 15s (remain 0m 0s) Loss: 0.6003(0.5242) Grad: 40835.3086  LR: 0.00000000  \n"
     ]
    },
    {
     "name": "stderr",
     "output_type": "stream",
     "text": [
      "[W pthreadpool-cpp.cc:90] Warning: Leaking Caffe2 thread-pool after fork. (function pthreadpool)\n",
      "[W pthreadpool-cpp.cc:90] Warning: Leaking Caffe2 thread-pool after fork. (function pthreadpool)\n",
      "[W pthreadpool-cpp.cc:90] Warning: Leaking Caffe2 thread-pool after fork. (function pthreadpool)\n",
      "[W pthreadpool-cpp.cc:90] Warning: Leaking Caffe2 thread-pool after fork. (function pthreadpool)\n"
     ]
    },
    {
     "name": "stdout",
     "output_type": "stream",
     "text": [
      "EVAL: [0/1140] Elapsed 0m 0s (remain 5m 1s) Loss: 0.7626(0.7626) \n",
      "EVAL: [100/1140] Elapsed 0m 8s (remain 1m 31s) Loss: 0.5891(0.5772) \n",
      "EVAL: [200/1140] Elapsed 0m 17s (remain 1m 21s) Loss: 0.5202(0.5792) \n",
      "EVAL: [300/1140] Elapsed 0m 26s (remain 1m 12s) Loss: 0.6034(0.5783) \n",
      "EVAL: [400/1140] Elapsed 0m 34s (remain 1m 3s) Loss: 0.3394(0.5826) \n",
      "EVAL: [500/1140] Elapsed 0m 43s (remain 0m 55s) Loss: 0.8840(0.5834) \n",
      "EVAL: [600/1140] Elapsed 0m 51s (remain 0m 46s) Loss: 0.5663(0.5849) \n",
      "EVAL: [700/1140] Elapsed 1m 0s (remain 0m 37s) Loss: 0.8825(0.5874) \n",
      "EVAL: [800/1140] Elapsed 1m 9s (remain 0m 29s) Loss: 0.5914(0.5861) \n",
      "EVAL: [900/1140] Elapsed 1m 17s (remain 0m 20s) Loss: 0.5890(0.5820) \n",
      "EVAL: [1000/1140] Elapsed 1m 26s (remain 0m 12s) Loss: 0.5878(0.5797) \n",
      "EVAL: [1100/1140] Elapsed 1m 35s (remain 0m 3s) Loss: 0.5871(0.5793) \n"
     ]
    },
    {
     "name": "stderr",
     "output_type": "stream",
     "text": [
      "Epoch 4 - avg_train_loss: 0.5242  avg_val_loss: 0.5798  time: 774s\n",
      "Epoch 4 - Score: 0.8048\n",
      "Epoch 4 - Save Best Score: 0.8048 Model\n"
     ]
    },
    {
     "name": "stdout",
     "output_type": "stream",
     "text": [
      "EVAL: [1139/1140] Elapsed 1m 38s (remain 0m 0s) Loss: 1.7521(0.5798) \n"
     ]
    },
    {
     "name": "stderr",
     "output_type": "stream",
     "text": [
      "========== fold: 1 result ==========\n",
      "Score: 0.8048\n",
      "========== fold: 2 training ==========\n"
     ]
    },
    {
     "name": "stdout",
     "output_type": "stream",
     "text": [
      "\u001b[38;5;40m========== fold: 2 training ==========\u001b[0m\n"
     ]
    },
    {
     "name": "stderr",
     "output_type": "stream",
     "text": [
      "Some weights of the model checkpoint at xlnet-base-cased were not used when initializing XLNetModel: ['lm_loss.bias', 'lm_loss.weight']\n",
      "- This IS expected if you are initializing XLNetModel from the checkpoint of a model trained on another task or with another architecture (e.g. initializing a BertForSequenceClassification model from a BertForPreTraining model).\n",
      "- This IS NOT expected if you are initializing XLNetModel from the checkpoint of a model that you expect to be exactly identical (initializing a BertForSequenceClassification model from a BertForSequenceClassification model).\n",
      "[W pthreadpool-cpp.cc:90] Warning: Leaking Caffe2 thread-pool after fork. (function pthreadpool)\n",
      "[W pthreadpool-cpp.cc:90] Warning: Leaking Caffe2 thread-pool after fork. (function pthreadpool)\n",
      "[W pthreadpool-cpp.cc:90] Warning: Leaking Caffe2 thread-pool after fork. (function pthreadpool)\n",
      "[W pthreadpool-cpp.cc:90] Warning: Leaking Caffe2 thread-pool after fork. (function pthreadpool)\n"
     ]
    },
    {
     "name": "stdout",
     "output_type": "stream",
     "text": [
      "Epoch: [1][0/3419] Elapsed 0m 0s (remain 28m 21s) Loss: 0.6401(0.6401) Grad: inf  LR: 0.00002000  \n",
      "Epoch: [1][100/3419] Elapsed 0m 20s (remain 10m 59s) Loss: 0.6975(0.6844) Grad: 9999.4131  LR: 0.00002000  \n",
      "Epoch: [1][200/3419] Elapsed 0m 39s (remain 10m 37s) Loss: 0.7207(0.6704) Grad: 9797.4648  LR: 0.00001999  \n",
      "Epoch: [1][300/3419] Elapsed 0m 59s (remain 10m 16s) Loss: 0.6291(0.6632) Grad: 2128.0974  LR: 0.00001998  \n",
      "Epoch: [1][400/3419] Elapsed 1m 19s (remain 9m 56s) Loss: 0.6897(0.6634) Grad: 3639.1543  LR: 0.00001996  \n",
      "Epoch: [1][500/3419] Elapsed 1m 38s (remain 9m 36s) Loss: 0.6910(0.6620) Grad: 3432.6140  LR: 0.00001993  \n",
      "Epoch: [1][600/3419] Elapsed 1m 58s (remain 9m 16s) Loss: 0.6431(0.6599) Grad: 9834.0645  LR: 0.00001990  \n",
      "Epoch: [1][700/3419] Elapsed 2m 18s (remain 8m 56s) Loss: 0.5840(0.6569) Grad: 2960.0029  LR: 0.00001987  \n",
      "Epoch: [1][800/3419] Elapsed 2m 38s (remain 8m 36s) Loss: 0.6028(0.6532) Grad: 1289.1930  LR: 0.00001983  \n",
      "Epoch: [1][900/3419] Elapsed 2m 57s (remain 8m 17s) Loss: 0.5376(0.6494) Grad: 3404.0061  LR: 0.00001979  \n",
      "Epoch: [1][1000/3419] Elapsed 3m 17s (remain 7m 57s) Loss: 0.7275(0.6457) Grad: 6100.2305  LR: 0.00001974  \n",
      "Epoch: [1][1100/3419] Elapsed 3m 37s (remain 7m 37s) Loss: 0.6862(0.6414) Grad: 2598.1548  LR: 0.00001968  \n",
      "Epoch: [1][1200/3419] Elapsed 3m 57s (remain 7m 17s) Loss: 0.5854(0.6386) Grad: 4583.0991  LR: 0.00001962  \n",
      "Epoch: [1][1300/3419] Elapsed 4m 16s (remain 6m 58s) Loss: 0.6560(0.6354) Grad: 2245.9185  LR: 0.00001956  \n",
      "Epoch: [1][1400/3419] Elapsed 4m 36s (remain 6m 38s) Loss: 0.5741(0.6328) Grad: 5026.8306  LR: 0.00001949  \n",
      "Epoch: [1][1500/3419] Elapsed 4m 56s (remain 6m 18s) Loss: 0.7116(0.6308) Grad: 3578.1658  LR: 0.00001941  \n",
      "Epoch: [1][1600/3419] Elapsed 5m 15s (remain 5m 58s) Loss: 0.5355(0.6285) Grad: 3499.8049  LR: 0.00001933  \n",
      "Epoch: [1][1700/3419] Elapsed 5m 35s (remain 5m 39s) Loss: 0.5118(0.6263) Grad: 3144.2329  LR: 0.00001925  \n",
      "Epoch: [1][1800/3419] Elapsed 5m 55s (remain 5m 19s) Loss: 0.6480(0.6246) Grad: 1412.4449  LR: 0.00001916  \n",
      "Epoch: [1][1900/3419] Elapsed 6m 15s (remain 4m 59s) Loss: 0.6614(0.6227) Grad: 3440.5342  LR: 0.00001906  \n",
      "Epoch: [1][2000/3419] Elapsed 6m 34s (remain 4m 39s) Loss: 0.5724(0.6200) Grad: 1599.2195  LR: 0.00001896  \n",
      "Epoch: [1][2100/3419] Elapsed 6m 54s (remain 4m 20s) Loss: 0.5957(0.6188) Grad: 4611.3340  LR: 0.00001886  \n",
      "Epoch: [1][2200/3419] Elapsed 7m 14s (remain 4m 0s) Loss: 0.5098(0.6178) Grad: 4921.2358  LR: 0.00001875  \n",
      "Epoch: [1][2300/3419] Elapsed 7m 34s (remain 3m 40s) Loss: 0.6646(0.6170) Grad: 26418.5195  LR: 0.00001864  \n",
      "Epoch: [1][2400/3419] Elapsed 7m 54s (remain 3m 21s) Loss: 0.6085(0.6161) Grad: 7074.7568  LR: 0.00001852  \n",
      "Epoch: [1][2500/3419] Elapsed 8m 14s (remain 3m 1s) Loss: 0.6922(0.6145) Grad: 7987.4458  LR: 0.00001839  \n",
      "Epoch: [1][2600/3419] Elapsed 8m 33s (remain 2m 41s) Loss: 0.4672(0.6128) Grad: 3249.4702  LR: 0.00001827  \n",
      "Epoch: [1][2700/3419] Elapsed 8m 53s (remain 2m 21s) Loss: 0.4792(0.6113) Grad: 10962.3584  LR: 0.00001814  \n",
      "Epoch: [1][2800/3419] Elapsed 9m 13s (remain 2m 2s) Loss: 0.3583(0.6102) Grad: 2874.3860  LR: 0.00001800  \n",
      "Epoch: [1][2900/3419] Elapsed 9m 33s (remain 1m 42s) Loss: 0.5378(0.6088) Grad: 2106.5059  LR: 0.00001786  \n",
      "Epoch: [1][3000/3419] Elapsed 9m 52s (remain 1m 22s) Loss: 0.6118(0.6077) Grad: 3259.1401  LR: 0.00001772  \n",
      "Epoch: [1][3100/3419] Elapsed 10m 12s (remain 1m 2s) Loss: 0.5924(0.6070) Grad: 7367.2231  LR: 0.00001757  \n",
      "Epoch: [1][3200/3419] Elapsed 10m 32s (remain 0m 43s) Loss: 0.6338(0.6059) Grad: 22655.2305  LR: 0.00001742  \n",
      "Epoch: [1][3300/3419] Elapsed 10m 52s (remain 0m 23s) Loss: 0.5798(0.6053) Grad: 4772.7358  LR: 0.00001726  \n",
      "Epoch: [1][3400/3419] Elapsed 11m 12s (remain 0m 3s) Loss: 0.5849(0.6044) Grad: 5274.5288  LR: 0.00001710  \n"
     ]
    },
    {
     "name": "stderr",
     "output_type": "stream",
     "text": [
      "[W pthreadpool-cpp.cc:90] Warning: Leaking Caffe2 thread-pool after fork. (function pthreadpool)\n",
      "[W pthreadpool-cpp.cc:90] Warning: Leaking Caffe2 thread-pool after fork. (function pthreadpool)\n"
     ]
    },
    {
     "name": "stdout",
     "output_type": "stream",
     "text": [
      "Epoch: [1][3418/3419] Elapsed 11m 15s (remain 0m 0s) Loss: 0.4942(0.6043) Grad: 7802.2788  LR: 0.00001707  \n"
     ]
    },
    {
     "name": "stderr",
     "output_type": "stream",
     "text": [
      "[W pthreadpool-cpp.cc:90] Warning: Leaking Caffe2 thread-pool after fork. (function pthreadpool)\n",
      "[W pthreadpool-cpp.cc:90] Warning: Leaking Caffe2 thread-pool after fork. (function pthreadpool)\n",
      "[W pthreadpool-cpp.cc:90] Warning: Leaking Caffe2 thread-pool after fork. (function pthreadpool)\n",
      "[W pthreadpool-cpp.cc:90] Warning: Leaking Caffe2 thread-pool after fork. (function pthreadpool)\n"
     ]
    },
    {
     "name": "stdout",
     "output_type": "stream",
     "text": [
      "EVAL: [0/1140] Elapsed 0m 0s (remain 5m 16s) Loss: 0.5311(0.5311) \n",
      "EVAL: [100/1140] Elapsed 0m 8s (remain 1m 31s) Loss: 0.8624(0.5836) \n",
      "EVAL: [200/1140] Elapsed 0m 17s (remain 1m 22s) Loss: 0.6711(0.5844) \n",
      "EVAL: [300/1140] Elapsed 0m 26s (remain 1m 13s) Loss: 0.6584(0.5896) \n",
      "EVAL: [400/1140] Elapsed 0m 34s (remain 1m 4s) Loss: 0.4944(0.5935) \n",
      "EVAL: [500/1140] Elapsed 0m 43s (remain 0m 55s) Loss: 0.4627(0.5896) \n",
      "EVAL: [600/1140] Elapsed 0m 52s (remain 0m 46s) Loss: 0.3590(0.5931) \n",
      "EVAL: [700/1140] Elapsed 1m 0s (remain 0m 38s) Loss: 0.6483(0.5934) \n",
      "EVAL: [800/1140] Elapsed 1m 9s (remain 0m 29s) Loss: 0.2747(0.5958) \n",
      "EVAL: [900/1140] Elapsed 1m 17s (remain 0m 20s) Loss: 0.6042(0.5963) \n",
      "EVAL: [1000/1140] Elapsed 1m 26s (remain 0m 12s) Loss: 0.5593(0.5937) \n",
      "EVAL: [1100/1140] Elapsed 1m 35s (remain 0m 3s) Loss: 0.6462(0.5911) \n"
     ]
    },
    {
     "name": "stderr",
     "output_type": "stream",
     "text": [
      "Epoch 1 - avg_train_loss: 0.6043  avg_val_loss: 0.5907  time: 774s\n",
      "Epoch 1 - Score: 0.7421\n",
      "Epoch 1 - Save Best Score: 0.7421 Model\n"
     ]
    },
    {
     "name": "stdout",
     "output_type": "stream",
     "text": [
      "EVAL: [1139/1140] Elapsed 1m 38s (remain 0m 0s) Loss: 0.4378(0.5907) \n"
     ]
    },
    {
     "name": "stderr",
     "output_type": "stream",
     "text": [
      "[W pthreadpool-cpp.cc:90] Warning: Leaking Caffe2 thread-pool after fork. (function pthreadpool)\n",
      "[W pthreadpool-cpp.cc:90] Warning: Leaking Caffe2 thread-pool after fork. (function pthreadpool)\n",
      "[W pthreadpool-cpp.cc:90] Warning: Leaking Caffe2 thread-pool after fork. (function pthreadpool)\n",
      "[W pthreadpool-cpp.cc:90] Warning: Leaking Caffe2 thread-pool after fork. (function pthreadpool)\n"
     ]
    },
    {
     "name": "stdout",
     "output_type": "stream",
     "text": [
      "Epoch: [2][0/3419] Elapsed 0m 0s (remain 30m 10s) Loss: 0.4613(0.4613) Grad: 109840.3984  LR: 0.00001707  \n",
      "Epoch: [2][100/3419] Elapsed 0m 20s (remain 11m 6s) Loss: 0.5432(0.5700) Grad: 100660.8125  LR: 0.00001691  \n",
      "Epoch: [2][200/3419] Elapsed 0m 40s (remain 10m 41s) Loss: 0.6326(0.5663) Grad: 93675.5625  LR: 0.00001674  \n",
      "Epoch: [2][300/3419] Elapsed 0m 59s (remain 10m 19s) Loss: 0.6148(0.5614) Grad: 45008.1172  LR: 0.00001657  \n",
      "Epoch: [2][400/3419] Elapsed 1m 19s (remain 9m 59s) Loss: 0.5952(0.5583) Grad: 48389.1133  LR: 0.00001639  \n",
      "Epoch: [2][500/3419] Elapsed 1m 39s (remain 9m 39s) Loss: 0.6852(0.5609) Grad: 128412.3828  LR: 0.00001621  \n",
      "Epoch: [2][600/3419] Elapsed 1m 59s (remain 9m 18s) Loss: 0.5593(0.5587) Grad: 59272.4805  LR: 0.00001603  \n",
      "Epoch: [2][700/3419] Elapsed 2m 18s (remain 8m 58s) Loss: 0.6348(0.5585) Grad: 22800.1621  LR: 0.00001585  \n",
      "Epoch: [2][800/3419] Elapsed 2m 38s (remain 8m 38s) Loss: 0.5218(0.5589) Grad: 59907.1055  LR: 0.00001566  \n",
      "Epoch: [2][900/3419] Elapsed 2m 58s (remain 8m 19s) Loss: 0.5737(0.5577) Grad: 98649.6406  LR: 0.00001547  \n",
      "Epoch: [2][1000/3419] Elapsed 3m 18s (remain 7m 59s) Loss: 0.5199(0.5567) Grad: 44630.8164  LR: 0.00001527  \n",
      "Epoch: [2][1100/3419] Elapsed 3m 38s (remain 7m 39s) Loss: 0.4611(0.5563) Grad: 51071.6992  LR: 0.00001508  \n",
      "Epoch: [2][1200/3419] Elapsed 3m 57s (remain 7m 19s) Loss: 0.6859(0.5570) Grad: 39760.7148  LR: 0.00001488  \n",
      "Epoch: [2][1300/3419] Elapsed 4m 17s (remain 6m 59s) Loss: 0.4799(0.5566) Grad: 8733.0449  LR: 0.00001468  \n",
      "Epoch: [2][1400/3419] Elapsed 4m 37s (remain 6m 39s) Loss: 0.6179(0.5573) Grad: 20377.8340  LR: 0.00001447  \n",
      "Epoch: [2][1500/3419] Elapsed 4m 57s (remain 6m 19s) Loss: 0.5095(0.5569) Grad: 42955.0312  LR: 0.00001427  \n",
      "Epoch: [2][1600/3419] Elapsed 5m 17s (remain 5m 59s) Loss: 0.4941(0.5574) Grad: 34742.2344  LR: 0.00001406  \n",
      "Epoch: [2][1700/3419] Elapsed 5m 36s (remain 5m 40s) Loss: 0.4638(0.5569) Grad: 24230.1445  LR: 0.00001385  \n",
      "Epoch: [2][1800/3419] Elapsed 5m 56s (remain 5m 20s) Loss: 0.4198(0.5564) Grad: 61139.5664  LR: 0.00001363  \n",
      "Epoch: [2][1900/3419] Elapsed 6m 16s (remain 5m 0s) Loss: 0.6603(0.5557) Grad: 43361.7734  LR: 0.00001342  \n",
      "Epoch: [2][2000/3419] Elapsed 6m 36s (remain 4m 40s) Loss: 0.5864(0.5550) Grad: 30504.6348  LR: 0.00001320  \n",
      "Epoch: [2][2100/3419] Elapsed 6m 55s (remain 4m 20s) Loss: 0.5137(0.5551) Grad: 30628.9492  LR: 0.00001298  \n",
      "Epoch: [2][2200/3419] Elapsed 7m 15s (remain 4m 1s) Loss: 0.3106(0.5546) Grad: 186307.6562  LR: 0.00001276  \n",
      "Epoch: [2][2300/3419] Elapsed 7m 35s (remain 3m 41s) Loss: 0.5647(0.5549) Grad: 93836.3438  LR: 0.00001254  \n",
      "Epoch: [2][2400/3419] Elapsed 7m 55s (remain 3m 21s) Loss: 0.4645(0.5550) Grad: 82395.1250  LR: 0.00001232  \n",
      "Epoch: [2][2500/3419] Elapsed 8m 14s (remain 3m 1s) Loss: 0.4565(0.5550) Grad: 75259.9688  LR: 0.00001209  \n",
      "Epoch: [2][2600/3419] Elapsed 8m 34s (remain 2m 41s) Loss: 0.5445(0.5550) Grad: 33667.0156  LR: 0.00001187  \n",
      "Epoch: [2][2700/3419] Elapsed 8m 54s (remain 2m 22s) Loss: 0.6411(0.5552) Grad: 79359.8516  LR: 0.00001164  \n",
      "Epoch: [2][2800/3419] Elapsed 9m 14s (remain 2m 2s) Loss: 0.5570(0.5555) Grad: 18886.1797  LR: 0.00001142  \n",
      "Epoch: [2][2900/3419] Elapsed 9m 33s (remain 1m 42s) Loss: 0.5800(0.5551) Grad: 84366.3047  LR: 0.00001119  \n",
      "Epoch: [2][3000/3419] Elapsed 9m 53s (remain 1m 22s) Loss: 0.5603(0.5545) Grad: 25756.0488  LR: 0.00001096  \n",
      "Epoch: [2][3100/3419] Elapsed 10m 13s (remain 1m 2s) Loss: 0.4775(0.5539) Grad: 12972.4023  LR: 0.00001073  \n",
      "Epoch: [2][3200/3419] Elapsed 10m 32s (remain 0m 43s) Loss: 0.5163(0.5534) Grad: 24559.2734  LR: 0.00001050  \n",
      "Epoch: [2][3300/3419] Elapsed 10m 52s (remain 0m 23s) Loss: 0.6463(0.5534) Grad: 42103.3750  LR: 0.00001027  \n",
      "Epoch: [2][3400/3419] Elapsed 11m 12s (remain 0m 3s) Loss: 0.5645(0.5532) Grad: 98589.6328  LR: 0.00001004  \n",
      "Epoch: [2][3418/3419] Elapsed 11m 16s (remain 0m 0s) Loss: 0.4384(0.5530) Grad: 67196.8984  LR: 0.00001000  \n"
     ]
    },
    {
     "name": "stderr",
     "output_type": "stream",
     "text": [
      "[W pthreadpool-cpp.cc:90] Warning: Leaking Caffe2 thread-pool after fork. (function pthreadpool)\n",
      "[W pthreadpool-cpp.cc:90] Warning: Leaking Caffe2 thread-pool after fork. (function pthreadpool)\n",
      "[W pthreadpool-cpp.cc:90] Warning: Leaking Caffe2 thread-pool after fork. (function pthreadpool)\n",
      "[W pthreadpool-cpp.cc:90] Warning: Leaking Caffe2 thread-pool after fork. (function pthreadpool)\n"
     ]
    },
    {
     "name": "stdout",
     "output_type": "stream",
     "text": [
      "EVAL: [0/1140] Elapsed 0m 0s (remain 5m 7s) Loss: 0.4956(0.4956) \n",
      "EVAL: [100/1140] Elapsed 0m 8s (remain 1m 31s) Loss: 0.9406(0.5748) \n",
      "EVAL: [200/1140] Elapsed 0m 17s (remain 1m 21s) Loss: 0.6398(0.5691) \n",
      "EVAL: [300/1140] Elapsed 0m 26s (remain 1m 12s) Loss: 0.6303(0.5760) \n",
      "EVAL: [400/1140] Elapsed 0m 34s (remain 1m 4s) Loss: 0.4869(0.5827) \n",
      "EVAL: [500/1140] Elapsed 0m 43s (remain 0m 55s) Loss: 0.4607(0.5780) \n",
      "EVAL: [600/1140] Elapsed 0m 51s (remain 0m 46s) Loss: 0.3932(0.5831) \n",
      "EVAL: [700/1140] Elapsed 1m 0s (remain 0m 37s) Loss: 0.6616(0.5826) \n",
      "EVAL: [800/1140] Elapsed 1m 9s (remain 0m 29s) Loss: 0.2693(0.5836) \n",
      "EVAL: [900/1140] Elapsed 1m 17s (remain 0m 20s) Loss: 0.5664(0.5826) \n",
      "EVAL: [1000/1140] Elapsed 1m 26s (remain 0m 11s) Loss: 0.4952(0.5817) \n",
      "EVAL: [1100/1140] Elapsed 1m 35s (remain 0m 3s) Loss: 0.6818(0.5802) \n"
     ]
    },
    {
     "name": "stderr",
     "output_type": "stream",
     "text": [
      "Epoch 2 - avg_train_loss: 0.5530  avg_val_loss: 0.5805  time: 775s\n",
      "Epoch 2 - Score: 0.7753\n",
      "Epoch 2 - Save Best Score: 0.7753 Model\n"
     ]
    },
    {
     "name": "stdout",
     "output_type": "stream",
     "text": [
      "EVAL: [1139/1140] Elapsed 1m 38s (remain 0m 0s) Loss: 0.5284(0.5805) \n"
     ]
    },
    {
     "name": "stderr",
     "output_type": "stream",
     "text": [
      "[W pthreadpool-cpp.cc:90] Warning: Leaking Caffe2 thread-pool after fork. (function pthreadpool)\n",
      "[W pthreadpool-cpp.cc:90] Warning: Leaking Caffe2 thread-pool after fork. (function pthreadpool)\n",
      "[W pthreadpool-cpp.cc:90] Warning: Leaking Caffe2 thread-pool after fork. (function pthreadpool)\n",
      "[W pthreadpool-cpp.cc:90] Warning: Leaking Caffe2 thread-pool after fork. (function pthreadpool)\n"
     ]
    },
    {
     "name": "stdout",
     "output_type": "stream",
     "text": [
      "Epoch: [3][0/3419] Elapsed 0m 0s (remain 28m 24s) Loss: 0.4447(0.4447) Grad: 139686.5938  LR: 0.00001000  \n",
      "Epoch: [3][100/3419] Elapsed 0m 20s (remain 11m 3s) Loss: 0.5384(0.5468) Grad: 60976.3594  LR: 0.00000977  \n",
      "Epoch: [3][200/3419] Elapsed 0m 39s (remain 10m 38s) Loss: 0.5943(0.5484) Grad: 26911.9062  LR: 0.00000954  \n",
      "Epoch: [3][300/3419] Elapsed 0m 59s (remain 10m 17s) Loss: 0.6400(0.5393) Grad: 31217.8379  LR: 0.00000931  \n",
      "Epoch: [3][400/3419] Elapsed 1m 19s (remain 9m 57s) Loss: 0.7123(0.5406) Grad: 38352.2188  LR: 0.00000908  \n",
      "Epoch: [3][500/3419] Elapsed 1m 39s (remain 9m 37s) Loss: 0.4961(0.5433) Grad: 20556.3906  LR: 0.00000885  \n",
      "Epoch: [3][600/3419] Elapsed 1m 58s (remain 9m 17s) Loss: 0.5411(0.5422) Grad: 13747.8506  LR: 0.00000863  \n",
      "Epoch: [3][700/3419] Elapsed 2m 18s (remain 8m 57s) Loss: 0.3805(0.5394) Grad: 27866.2324  LR: 0.00000840  \n",
      "Epoch: [3][800/3419] Elapsed 2m 38s (remain 8m 37s) Loss: 0.3029(0.5413) Grad: 81126.3359  LR: 0.00000817  \n",
      "Epoch: [3][900/3419] Elapsed 2m 58s (remain 8m 17s) Loss: 0.6106(0.5416) Grad: 103393.5469  LR: 0.00000795  \n",
      "Epoch: [3][1000/3419] Elapsed 3m 17s (remain 7m 57s) Loss: 0.6631(0.5436) Grad: 48211.0039  LR: 0.00000772  \n",
      "Epoch: [3][1100/3419] Elapsed 3m 37s (remain 7m 37s) Loss: 0.5430(0.5451) Grad: 32631.2578  LR: 0.00000750  \n",
      "Epoch: [3][1200/3419] Elapsed 3m 57s (remain 7m 18s) Loss: 0.6286(0.5448) Grad: 61238.7617  LR: 0.00000728  \n",
      "Epoch: [3][1300/3419] Elapsed 4m 16s (remain 6m 58s) Loss: 0.4895(0.5449) Grad: 23641.4980  LR: 0.00000706  \n",
      "Epoch: [3][1400/3419] Elapsed 4m 36s (remain 6m 38s) Loss: 0.4331(0.5459) Grad: 22158.9941  LR: 0.00000684  \n",
      "Epoch: [3][1500/3419] Elapsed 4m 56s (remain 6m 18s) Loss: 0.6077(0.5457) Grad: 66655.2266  LR: 0.00000662  \n",
      "Epoch: [3][1600/3419] Elapsed 5m 16s (remain 5m 59s) Loss: 0.6133(0.5453) Grad: 59672.6250  LR: 0.00000641  \n",
      "Epoch: [3][1700/3419] Elapsed 5m 35s (remain 5m 39s) Loss: 0.6375(0.5455) Grad: 50233.4453  LR: 0.00000619  \n",
      "Epoch: [3][1800/3419] Elapsed 5m 55s (remain 5m 19s) Loss: 0.5454(0.5450) Grad: 167761.5469  LR: 0.00000598  \n",
      "Epoch: [3][1900/3419] Elapsed 6m 15s (remain 4m 59s) Loss: 0.4738(0.5454) Grad: 51766.0820  LR: 0.00000577  \n",
      "Epoch: [3][2000/3419] Elapsed 6m 35s (remain 4m 40s) Loss: 0.5583(0.5461) Grad: 18238.7246  LR: 0.00000556  \n",
      "Epoch: [3][2100/3419] Elapsed 6m 54s (remain 4m 20s) Loss: 0.4590(0.5462) Grad: 63509.6523  LR: 0.00000536  \n",
      "Epoch: [3][2200/3419] Elapsed 7m 14s (remain 4m 0s) Loss: 0.5989(0.5458) Grad: 25608.0898  LR: 0.00000516  \n",
      "Epoch: [3][2300/3419] Elapsed 7m 34s (remain 3m 40s) Loss: 0.4776(0.5456) Grad: 5914.8013  LR: 0.00000496  \n",
      "Epoch: [3][2400/3419] Elapsed 7m 54s (remain 3m 21s) Loss: 0.5662(0.5457) Grad: 6255.5762  LR: 0.00000476  \n",
      "Epoch: [3][2500/3419] Elapsed 8m 13s (remain 3m 1s) Loss: 0.5708(0.5455) Grad: 24859.4355  LR: 0.00000457  \n",
      "Epoch: [3][2600/3419] Elapsed 8m 33s (remain 2m 41s) Loss: 0.4731(0.5454) Grad: 9030.4795  LR: 0.00000438  \n",
      "Epoch: [3][2700/3419] Elapsed 8m 53s (remain 2m 21s) Loss: 0.5328(0.5449) Grad: 15403.3330  LR: 0.00000419  \n",
      "Epoch: [3][2800/3419] Elapsed 9m 13s (remain 2m 2s) Loss: 0.3907(0.5447) Grad: 60453.4492  LR: 0.00000400  \n",
      "Epoch: [3][2900/3419] Elapsed 9m 32s (remain 1m 42s) Loss: 0.4530(0.5453) Grad: 45088.1680  LR: 0.00000382  \n",
      "Epoch: [3][3000/3419] Elapsed 9m 52s (remain 1m 22s) Loss: 0.3325(0.5448) Grad: 163480.7812  LR: 0.00000364  \n",
      "Epoch: [3][3100/3419] Elapsed 10m 12s (remain 1m 2s) Loss: 0.5217(0.5453) Grad: 14688.5771  LR: 0.00000347  \n",
      "Epoch: [3][3200/3419] Elapsed 10m 32s (remain 0m 43s) Loss: 0.4624(0.5449) Grad: 41406.1875  LR: 0.00000329  \n",
      "Epoch: [3][3300/3419] Elapsed 10m 51s (remain 0m 23s) Loss: 0.7004(0.5450) Grad: 36650.7812  LR: 0.00000312  \n",
      "Epoch: [3][3400/3419] Elapsed 11m 11s (remain 0m 3s) Loss: 0.4534(0.5449) Grad: 39779.1875  LR: 0.00000296  \n",
      "Epoch: [3][3418/3419] Elapsed 11m 15s (remain 0m 0s) Loss: 0.7153(0.5450) Grad: 48567.6797  LR: 0.00000293  \n"
     ]
    },
    {
     "name": "stderr",
     "output_type": "stream",
     "text": [
      "[W pthreadpool-cpp.cc:90] Warning: Leaking Caffe2 thread-pool after fork. (function pthreadpool)\n",
      "[W pthreadpool-cpp.cc:90] Warning: Leaking Caffe2 thread-pool after fork. (function pthreadpool)\n",
      "[W pthreadpool-cpp.cc:90] Warning: Leaking Caffe2 thread-pool after fork. (function pthreadpool)\n",
      "[W pthreadpool-cpp.cc:90] Warning: Leaking Caffe2 thread-pool after fork. (function pthreadpool)\n"
     ]
    },
    {
     "name": "stdout",
     "output_type": "stream",
     "text": [
      "EVAL: [0/1140] Elapsed 0m 0s (remain 5m 7s) Loss: 0.5211(0.5211) \n",
      "EVAL: [100/1140] Elapsed 0m 8s (remain 1m 31s) Loss: 0.7148(0.5612) \n",
      "EVAL: [200/1140] Elapsed 0m 17s (remain 1m 21s) Loss: 0.6426(0.5545) \n",
      "EVAL: [300/1140] Elapsed 0m 26s (remain 1m 12s) Loss: 0.5666(0.5613) \n",
      "EVAL: [400/1140] Elapsed 0m 34s (remain 1m 3s) Loss: 0.4831(0.5661) \n",
      "EVAL: [500/1140] Elapsed 0m 43s (remain 0m 55s) Loss: 0.4676(0.5612) \n",
      "EVAL: [600/1140] Elapsed 0m 51s (remain 0m 46s) Loss: 0.2554(0.5662) \n",
      "EVAL: [700/1140] Elapsed 1m 0s (remain 0m 37s) Loss: 0.6305(0.5668) \n",
      "EVAL: [800/1140] Elapsed 1m 9s (remain 0m 29s) Loss: 0.2591(0.5677) \n",
      "EVAL: [900/1140] Elapsed 1m 17s (remain 0m 20s) Loss: 0.5805(0.5663) \n",
      "EVAL: [1000/1140] Elapsed 1m 26s (remain 0m 11s) Loss: 0.4890(0.5650) \n",
      "EVAL: [1100/1140] Elapsed 1m 34s (remain 0m 3s) Loss: 0.6316(0.5634) \n"
     ]
    },
    {
     "name": "stderr",
     "output_type": "stream",
     "text": [
      "Epoch 3 - avg_train_loss: 0.5450  avg_val_loss: 0.5635  time: 773s\n",
      "Epoch 3 - Score: 0.7945\n",
      "Epoch 3 - Save Best Score: 0.7945 Model\n"
     ]
    },
    {
     "name": "stdout",
     "output_type": "stream",
     "text": [
      "EVAL: [1139/1140] Elapsed 1m 38s (remain 0m 0s) Loss: 0.4899(0.5635) \n"
     ]
    },
    {
     "name": "stderr",
     "output_type": "stream",
     "text": [
      "[W pthreadpool-cpp.cc:90] Warning: Leaking Caffe2 thread-pool after fork. (function pthreadpool)\n",
      "[W pthreadpool-cpp.cc:90] Warning: Leaking Caffe2 thread-pool after fork. (function pthreadpool)\n",
      "[W pthreadpool-cpp.cc:90] Warning: Leaking Caffe2 thread-pool after fork. (function pthreadpool)\n",
      "[W pthreadpool-cpp.cc:90] Warning: Leaking Caffe2 thread-pool after fork. (function pthreadpool)\n"
     ]
    },
    {
     "name": "stdout",
     "output_type": "stream",
     "text": [
      "Epoch: [4][0/3419] Elapsed 0m 0s (remain 26m 50s) Loss: 0.6236(0.6236) Grad: 77610.0000  LR: 0.00000293  \n",
      "Epoch: [4][100/3419] Elapsed 0m 20s (remain 11m 3s) Loss: 0.6372(0.5313) Grad: 27311.2500  LR: 0.00000277  \n",
      "Epoch: [4][200/3419] Elapsed 0m 39s (remain 10m 39s) Loss: 0.4577(0.5306) Grad: 90855.1875  LR: 0.00000261  \n",
      "Epoch: [4][300/3419] Elapsed 0m 59s (remain 10m 18s) Loss: 0.4853(0.5299) Grad: 67906.0234  LR: 0.00000246  \n",
      "Epoch: [4][400/3419] Elapsed 1m 19s (remain 9m 57s) Loss: 0.5639(0.5285) Grad: 85229.8594  LR: 0.00000231  \n",
      "Epoch: [4][500/3419] Elapsed 1m 39s (remain 9m 37s) Loss: 0.3404(0.5299) Grad: 35212.4766  LR: 0.00000216  \n",
      "Epoch: [4][600/3419] Elapsed 1m 58s (remain 9m 17s) Loss: 0.6019(0.5291) Grad: 32911.8320  LR: 0.00000202  \n",
      "Epoch: [4][700/3419] Elapsed 2m 18s (remain 8m 57s) Loss: 0.4468(0.5300) Grad: 97524.2812  LR: 0.00000189  \n",
      "Epoch: [4][800/3419] Elapsed 2m 38s (remain 8m 37s) Loss: 0.6463(0.5318) Grad: 25548.5117  LR: 0.00000176  \n",
      "Epoch: [4][900/3419] Elapsed 2m 58s (remain 8m 17s) Loss: 0.4967(0.5315) Grad: 12167.1279  LR: 0.00000163  \n",
      "Epoch: [4][1000/3419] Elapsed 3m 17s (remain 7m 57s) Loss: 0.5773(0.5302) Grad: 13030.9541  LR: 0.00000150  \n",
      "Epoch: [4][1100/3419] Elapsed 3m 37s (remain 7m 38s) Loss: 0.3718(0.5316) Grad: 28797.3379  LR: 0.00000139  \n",
      "Epoch: [4][1200/3419] Elapsed 3m 57s (remain 7m 18s) Loss: 0.5492(0.5317) Grad: 52880.3359  LR: 0.00000127  \n",
      "Epoch: [4][1300/3419] Elapsed 4m 17s (remain 6m 58s) Loss: 0.6090(0.5320) Grad: 17883.1367  LR: 0.00000116  \n",
      "Epoch: [4][1400/3419] Elapsed 4m 36s (remain 6m 38s) Loss: 0.4088(0.5303) Grad: 17867.3262  LR: 0.00000106  \n",
      "Epoch: [4][1500/3419] Elapsed 4m 56s (remain 6m 18s) Loss: 0.4176(0.5309) Grad: 28358.5098  LR: 0.00000096  \n",
      "Epoch: [4][1600/3419] Elapsed 5m 16s (remain 5m 59s) Loss: 0.6759(0.5314) Grad: 397000.4062  LR: 0.00000086  \n",
      "Epoch: [4][1700/3419] Elapsed 5m 36s (remain 5m 39s) Loss: 0.4015(0.5326) Grad: 89143.5469  LR: 0.00000077  \n",
      "Epoch: [4][1800/3419] Elapsed 5m 55s (remain 5m 19s) Loss: 0.2261(0.5335) Grad: 22148.9199  LR: 0.00000068  \n",
      "Epoch: [4][1900/3419] Elapsed 6m 15s (remain 4m 59s) Loss: 0.6501(0.5331) Grad: 8580.8477  LR: 0.00000060  \n",
      "Epoch: [4][2000/3419] Elapsed 6m 35s (remain 4m 40s) Loss: 0.4718(0.5334) Grad: 36162.4102  LR: 0.00000053  \n",
      "Epoch: [4][2100/3419] Elapsed 6m 54s (remain 4m 20s) Loss: 0.4685(0.5334) Grad: 92450.4531  LR: 0.00000046  \n",
      "Epoch: [4][2200/3419] Elapsed 7m 14s (remain 4m 0s) Loss: 0.5674(0.5340) Grad: 27028.3887  LR: 0.00000039  \n",
      "Epoch: [4][2300/3419] Elapsed 7m 34s (remain 3m 40s) Loss: 0.3457(0.5334) Grad: 78817.0859  LR: 0.00000033  \n",
      "Epoch: [4][2400/3419] Elapsed 7m 54s (remain 3m 21s) Loss: 0.5523(0.5335) Grad: 59876.9492  LR: 0.00000027  \n",
      "Epoch: [4][2500/3419] Elapsed 8m 13s (remain 3m 1s) Loss: 0.5103(0.5344) Grad: 25709.2930  LR: 0.00000022  \n",
      "Epoch: [4][2600/3419] Elapsed 8m 33s (remain 2m 41s) Loss: 0.4463(0.5348) Grad: 65760.2109  LR: 0.00000018  \n",
      "Epoch: [4][2700/3419] Elapsed 8m 53s (remain 2m 21s) Loss: 0.4541(0.5344) Grad: 64241.3906  LR: 0.00000014  \n",
      "Epoch: [4][2800/3419] Elapsed 9m 13s (remain 2m 2s) Loss: 0.4513(0.5339) Grad: 31917.4629  LR: 0.00000010  \n",
      "Epoch: [4][2900/3419] Elapsed 9m 32s (remain 1m 42s) Loss: 0.6092(0.5340) Grad: 83461.6797  LR: 0.00000007  \n",
      "Epoch: [4][3000/3419] Elapsed 9m 52s (remain 1m 22s) Loss: 0.6784(0.5339) Grad: 24814.0098  LR: 0.00000005  \n",
      "Epoch: [4][3100/3419] Elapsed 10m 12s (remain 1m 2s) Loss: 0.6478(0.5341) Grad: 120850.9766  LR: 0.00000003  \n",
      "Epoch: [4][3200/3419] Elapsed 10m 31s (remain 0m 43s) Loss: 0.4970(0.5334) Grad: 25990.9473  LR: 0.00000001  \n",
      "Epoch: [4][3300/3419] Elapsed 10m 51s (remain 0m 23s) Loss: 0.6416(0.5332) Grad: 20603.4395  LR: 0.00000000  \n",
      "Epoch: [4][3400/3419] Elapsed 11m 11s (remain 0m 3s) Loss: 0.6734(0.5329) Grad: 48383.5859  LR: 0.00000000  \n"
     ]
    },
    {
     "name": "stderr",
     "output_type": "stream",
     "text": [
      "[W pthreadpool-cpp.cc:90] Warning: Leaking Caffe2 thread-pool after fork. (function pthreadpool)\n"
     ]
    },
    {
     "name": "stdout",
     "output_type": "stream",
     "text": [
      "Epoch: [4][3418/3419] Elapsed 11m 15s (remain 0m 0s) Loss: 0.5424(0.5329) Grad: 58567.3398  LR: 0.00000000  \n"
     ]
    },
    {
     "name": "stderr",
     "output_type": "stream",
     "text": [
      "[W pthreadpool-cpp.cc:90] Warning: Leaking Caffe2 thread-pool after fork. (function pthreadpool)\n",
      "[W pthreadpool-cpp.cc:90] Warning: Leaking Caffe2 thread-pool after fork. (function pthreadpool)\n",
      "[W pthreadpool-cpp.cc:90] Warning: Leaking Caffe2 thread-pool after fork. (function pthreadpool)\n",
      "[W pthreadpool-cpp.cc:90] Warning: Leaking Caffe2 thread-pool after fork. (function pthreadpool)\n"
     ]
    },
    {
     "name": "stdout",
     "output_type": "stream",
     "text": [
      "EVAL: [0/1140] Elapsed 0m 0s (remain 5m 4s) Loss: 0.4954(0.4954) \n",
      "EVAL: [100/1140] Elapsed 0m 8s (remain 1m 31s) Loss: 0.8381(0.5740) \n",
      "EVAL: [200/1140] Elapsed 0m 17s (remain 1m 21s) Loss: 0.6389(0.5681) \n",
      "EVAL: [300/1140] Elapsed 0m 26s (remain 1m 12s) Loss: 0.5771(0.5739) \n",
      "EVAL: [400/1140] Elapsed 0m 34s (remain 1m 4s) Loss: 0.4801(0.5786) \n",
      "EVAL: [500/1140] Elapsed 0m 43s (remain 0m 55s) Loss: 0.4633(0.5737) \n",
      "EVAL: [600/1140] Elapsed 0m 51s (remain 0m 46s) Loss: 0.2751(0.5800) \n",
      "EVAL: [700/1140] Elapsed 1m 0s (remain 0m 37s) Loss: 0.6558(0.5804) \n",
      "EVAL: [800/1140] Elapsed 1m 9s (remain 0m 29s) Loss: 0.2698(0.5805) \n",
      "EVAL: [900/1140] Elapsed 1m 17s (remain 0m 20s) Loss: 0.5709(0.5790) \n",
      "EVAL: [1000/1140] Elapsed 1m 26s (remain 0m 12s) Loss: 0.4693(0.5775) \n",
      "EVAL: [1100/1140] Elapsed 1m 35s (remain 0m 3s) Loss: 0.6373(0.5753) \n"
     ]
    },
    {
     "name": "stderr",
     "output_type": "stream",
     "text": [
      "Epoch 4 - avg_train_loss: 0.5329  avg_val_loss: 0.5754  time: 774s\n",
      "Epoch 4 - Score: 0.7931\n"
     ]
    },
    {
     "name": "stdout",
     "output_type": "stream",
     "text": [
      "EVAL: [1139/1140] Elapsed 1m 38s (remain 0m 0s) Loss: 0.5007(0.5754) \n"
     ]
    },
    {
     "name": "stderr",
     "output_type": "stream",
     "text": [
      "========== fold: 2 result ==========\n",
      "Score: 0.7945\n",
      "========== fold: 3 training ==========\n"
     ]
    },
    {
     "name": "stdout",
     "output_type": "stream",
     "text": [
      "\u001b[38;5;40m========== fold: 3 training ==========\u001b[0m\n"
     ]
    },
    {
     "name": "stderr",
     "output_type": "stream",
     "text": [
      "Some weights of the model checkpoint at xlnet-base-cased were not used when initializing XLNetModel: ['lm_loss.bias', 'lm_loss.weight']\n",
      "- This IS expected if you are initializing XLNetModel from the checkpoint of a model trained on another task or with another architecture (e.g. initializing a BertForSequenceClassification model from a BertForPreTraining model).\n",
      "- This IS NOT expected if you are initializing XLNetModel from the checkpoint of a model that you expect to be exactly identical (initializing a BertForSequenceClassification model from a BertForSequenceClassification model).\n",
      "[W pthreadpool-cpp.cc:90] Warning: Leaking Caffe2 thread-pool after fork. (function pthreadpool)\n",
      "[W pthreadpool-cpp.cc:90] Warning: Leaking Caffe2 thread-pool after fork. (function pthreadpool)\n",
      "[W pthreadpool-cpp.cc:90] Warning: Leaking Caffe2 thread-pool after fork. (function pthreadpool)\n",
      "[W pthreadpool-cpp.cc:90] Warning: Leaking Caffe2 thread-pool after fork. (function pthreadpool)\n"
     ]
    },
    {
     "name": "stdout",
     "output_type": "stream",
     "text": [
      "Epoch: [1][0/3419] Elapsed 0m 0s (remain 35m 22s) Loss: 0.7367(0.7367) Grad: inf  LR: 0.00002000  \n",
      "Epoch: [1][100/3419] Elapsed 0m 20s (remain 11m 3s) Loss: 0.5635(0.7135) Grad: 7726.0938  LR: 0.00002000  \n",
      "Epoch: [1][200/3419] Elapsed 0m 39s (remain 10m 39s) Loss: 0.6421(0.6823) Grad: 3361.9790  LR: 0.00001999  \n",
      "Epoch: [1][300/3419] Elapsed 0m 59s (remain 10m 18s) Loss: 0.5431(0.6622) Grad: 2914.3655  LR: 0.00001998  \n",
      "Epoch: [1][400/3419] Elapsed 1m 19s (remain 9m 57s) Loss: 0.7230(0.6510) Grad: 5227.0610  LR: 0.00001996  \n",
      "Epoch: [1][500/3419] Elapsed 1m 39s (remain 9m 37s) Loss: 0.5202(0.6444) Grad: 1978.8740  LR: 0.00001993  \n",
      "Epoch: [1][600/3419] Elapsed 1m 58s (remain 9m 17s) Loss: 0.6124(0.6400) Grad: 3554.8914  LR: 0.00001990  \n",
      "Epoch: [1][700/3419] Elapsed 2m 18s (remain 8m 57s) Loss: 0.5740(0.6353) Grad: 2988.0386  LR: 0.00001987  \n",
      "Epoch: [1][800/3419] Elapsed 2m 38s (remain 8m 37s) Loss: 0.7386(0.6317) Grad: 6961.4229  LR: 0.00001983  \n",
      "Epoch: [1][900/3419] Elapsed 2m 58s (remain 8m 18s) Loss: 0.5295(0.6293) Grad: 2585.7729  LR: 0.00001979  \n",
      "Epoch: [1][1000/3419] Elapsed 3m 17s (remain 7m 58s) Loss: 0.7001(0.6261) Grad: 3700.3228  LR: 0.00001974  \n",
      "Epoch: [1][1100/3419] Elapsed 3m 37s (remain 7m 38s) Loss: 0.5453(0.6231) Grad: 3699.6636  LR: 0.00001968  \n",
      "Epoch: [1][1200/3419] Elapsed 3m 57s (remain 7m 18s) Loss: 0.4810(0.6211) Grad: 3892.3906  LR: 0.00001962  \n",
      "Epoch: [1][1300/3419] Elapsed 4m 17s (remain 6m 58s) Loss: 0.5173(0.6178) Grad: 3111.0928  LR: 0.00001956  \n",
      "Epoch: [1][1400/3419] Elapsed 4m 38s (remain 6m 40s) Loss: 0.6003(0.6168) Grad: 1157.2323  LR: 0.00001949  \n",
      "Epoch: [1][1500/3419] Elapsed 4m 58s (remain 6m 21s) Loss: 0.4763(0.6153) Grad: 3773.1926  LR: 0.00001941  \n",
      "Epoch: [1][1600/3419] Elapsed 5m 19s (remain 6m 2s) Loss: 0.4832(0.6143) Grad: 2462.4600  LR: 0.00001933  \n",
      "Epoch: [1][1700/3419] Elapsed 5m 39s (remain 5m 43s) Loss: 0.6044(0.6126) Grad: 3136.8713  LR: 0.00001925  \n",
      "Epoch: [1][1800/3419] Elapsed 5m 59s (remain 5m 23s) Loss: 0.7531(0.6106) Grad: 13427.8838  LR: 0.00001916  \n",
      "Epoch: [1][1900/3419] Elapsed 6m 19s (remain 5m 3s) Loss: 0.5892(0.6096) Grad: 5274.7568  LR: 0.00001906  \n",
      "Epoch: [1][2000/3419] Elapsed 6m 39s (remain 4m 43s) Loss: 0.7217(0.6084) Grad: 6724.9355  LR: 0.00001896  \n",
      "Epoch: [1][2100/3419] Elapsed 6m 59s (remain 4m 22s) Loss: 0.5790(0.6067) Grad: 7477.6421  LR: 0.00001886  \n",
      "Epoch: [1][2200/3419] Elapsed 7m 19s (remain 4m 2s) Loss: 0.5321(0.6062) Grad: 2030.2196  LR: 0.00001875  \n",
      "Epoch: [1][2300/3419] Elapsed 7m 38s (remain 3m 42s) Loss: 0.5694(0.6051) Grad: 18204.8594  LR: 0.00001864  \n",
      "Epoch: [1][2400/3419] Elapsed 7m 58s (remain 3m 22s) Loss: 0.5865(0.6043) Grad: 13506.1807  LR: 0.00001852  \n",
      "Epoch: [1][2500/3419] Elapsed 8m 18s (remain 3m 2s) Loss: 0.6735(0.6030) Grad: 4851.7231  LR: 0.00001839  \n",
      "Epoch: [1][2600/3419] Elapsed 8m 38s (remain 2m 42s) Loss: 0.6275(0.6018) Grad: 5065.1948  LR: 0.00001827  \n",
      "Epoch: [1][2700/3419] Elapsed 8m 58s (remain 2m 23s) Loss: 0.5769(0.6011) Grad: 6454.1694  LR: 0.00001814  \n",
      "Epoch: [1][2800/3419] Elapsed 9m 17s (remain 2m 3s) Loss: 0.4539(0.6000) Grad: 5518.3394  LR: 0.00001800  \n",
      "Epoch: [1][2900/3419] Elapsed 9m 37s (remain 1m 43s) Loss: 0.6547(0.5986) Grad: 18864.8496  LR: 0.00001786  \n",
      "Epoch: [1][3000/3419] Elapsed 9m 57s (remain 1m 23s) Loss: 0.5046(0.5984) Grad: 5801.3813  LR: 0.00001772  \n",
      "Epoch: [1][3100/3419] Elapsed 10m 17s (remain 1m 3s) Loss: 0.6430(0.5977) Grad: 29550.9609  LR: 0.00001757  \n",
      "Epoch: [1][3200/3419] Elapsed 10m 37s (remain 0m 43s) Loss: 0.6180(0.5968) Grad: 12370.5303  LR: 0.00001742  \n",
      "Epoch: [1][3300/3419] Elapsed 10m 57s (remain 0m 23s) Loss: 0.7083(0.5965) Grad: 5385.0835  LR: 0.00001726  \n",
      "Epoch: [1][3400/3419] Elapsed 11m 17s (remain 0m 3s) Loss: 0.4858(0.5959) Grad: 2833.2698  LR: 0.00001710  \n",
      "Epoch: [1][3418/3419] Elapsed 11m 20s (remain 0m 0s) Loss: 0.6082(0.5960) Grad: 3839.5691  LR: 0.00001707  \n"
     ]
    },
    {
     "name": "stderr",
     "output_type": "stream",
     "text": [
      "[W pthreadpool-cpp.cc:90] Warning: Leaking Caffe2 thread-pool after fork. (function pthreadpool)\n",
      "[W pthreadpool-cpp.cc:90] Warning: Leaking Caffe2 thread-pool after fork. (function pthreadpool)\n",
      "[W pthreadpool-cpp.cc:90] Warning: Leaking Caffe2 thread-pool after fork. (function pthreadpool)\n",
      "[W pthreadpool-cpp.cc:90] Warning: Leaking Caffe2 thread-pool after fork. (function pthreadpool)\n"
     ]
    },
    {
     "name": "stdout",
     "output_type": "stream",
     "text": [
      "EVAL: [0/1140] Elapsed 0m 0s (remain 5m 14s) Loss: 0.6811(0.6811) \n",
      "EVAL: [100/1140] Elapsed 0m 8s (remain 1m 32s) Loss: 0.7452(0.5821) \n",
      "EVAL: [200/1140] Elapsed 0m 17s (remain 1m 22s) Loss: 0.7075(0.5857) \n",
      "EVAL: [300/1140] Elapsed 0m 26s (remain 1m 13s) Loss: 0.6297(0.5851) \n",
      "EVAL: [400/1140] Elapsed 0m 34s (remain 1m 4s) Loss: 0.6237(0.5856) \n",
      "EVAL: [500/1140] Elapsed 0m 43s (remain 0m 55s) Loss: 0.6783(0.5821) \n",
      "EVAL: [600/1140] Elapsed 0m 52s (remain 0m 46s) Loss: 0.8177(0.5805) \n",
      "EVAL: [700/1140] Elapsed 1m 0s (remain 0m 38s) Loss: 0.7067(0.5814) \n",
      "EVAL: [800/1140] Elapsed 1m 9s (remain 0m 29s) Loss: 0.6348(0.5809) \n",
      "EVAL: [900/1140] Elapsed 1m 18s (remain 0m 20s) Loss: 0.8686(0.5809) \n",
      "EVAL: [1000/1140] Elapsed 1m 26s (remain 0m 12s) Loss: 0.5538(0.5794) \n",
      "EVAL: [1100/1140] Elapsed 1m 35s (remain 0m 3s) Loss: 0.6621(0.5798) \n"
     ]
    },
    {
     "name": "stderr",
     "output_type": "stream",
     "text": [
      "Epoch 1 - avg_train_loss: 0.5960  avg_val_loss: 0.5804  time: 780s\n",
      "Epoch 1 - Score: 0.7510\n",
      "Epoch 1 - Save Best Score: 0.7510 Model\n"
     ]
    },
    {
     "name": "stdout",
     "output_type": "stream",
     "text": [
      "EVAL: [1139/1140] Elapsed 1m 38s (remain 0m 0s) Loss: 0.5185(0.5804) \n"
     ]
    },
    {
     "name": "stderr",
     "output_type": "stream",
     "text": [
      "[W pthreadpool-cpp.cc:90] Warning: Leaking Caffe2 thread-pool after fork. (function pthreadpool)\n",
      "[W pthreadpool-cpp.cc:90] Warning: Leaking Caffe2 thread-pool after fork. (function pthreadpool)\n",
      "[W pthreadpool-cpp.cc:90] Warning: Leaking Caffe2 thread-pool after fork. (function pthreadpool)\n",
      "[W pthreadpool-cpp.cc:90] Warning: Leaking Caffe2 thread-pool after fork. (function pthreadpool)\n"
     ]
    },
    {
     "name": "stdout",
     "output_type": "stream",
     "text": [
      "Epoch: [2][0/3419] Elapsed 0m 0s (remain 28m 54s) Loss: 0.5675(0.5675) Grad: 91017.2109  LR: 0.00001707  \n",
      "Epoch: [2][100/3419] Elapsed 0m 20s (remain 11m 7s) Loss: 0.5061(0.5516) Grad: 142159.9844  LR: 0.00001691  \n",
      "Epoch: [2][200/3419] Elapsed 0m 40s (remain 10m 41s) Loss: 0.6626(0.5619) Grad: 27448.2969  LR: 0.00001674  \n",
      "Epoch: [2][300/3419] Elapsed 0m 59s (remain 10m 20s) Loss: 0.5192(0.5611) Grad: 145477.8281  LR: 0.00001657  \n",
      "Epoch: [2][400/3419] Elapsed 1m 19s (remain 9m 59s) Loss: 0.4830(0.5580) Grad: 77825.0625  LR: 0.00001639  \n",
      "Epoch: [2][500/3419] Elapsed 1m 39s (remain 9m 39s) Loss: 0.6318(0.5572) Grad: 89446.2266  LR: 0.00001621  \n",
      "Epoch: [2][600/3419] Elapsed 1m 59s (remain 9m 19s) Loss: 0.5316(0.5553) Grad: 92648.2422  LR: 0.00001603  \n",
      "Epoch: [2][700/3419] Elapsed 2m 18s (remain 8m 58s) Loss: 0.5771(0.5556) Grad: 60417.2031  LR: 0.00001585  \n",
      "Epoch: [2][800/3419] Elapsed 2m 38s (remain 8m 38s) Loss: 0.4483(0.5564) Grad: 55792.1289  LR: 0.00001566  \n",
      "Epoch: [2][900/3419] Elapsed 2m 58s (remain 8m 19s) Loss: 0.5587(0.5567) Grad: 12195.5586  LR: 0.00001547  \n",
      "Epoch: [2][1000/3419] Elapsed 3m 18s (remain 7m 59s) Loss: 0.4111(0.5559) Grad: 35450.5820  LR: 0.00001527  \n",
      "Epoch: [2][1100/3419] Elapsed 3m 38s (remain 7m 39s) Loss: 0.6076(0.5546) Grad: 32158.9707  LR: 0.00001508  \n",
      "Epoch: [2][1200/3419] Elapsed 3m 57s (remain 7m 19s) Loss: 0.4834(0.5548) Grad: 28532.9102  LR: 0.00001488  \n",
      "Epoch: [2][1300/3419] Elapsed 4m 17s (remain 6m 59s) Loss: 0.5557(0.5549) Grad: 51309.6836  LR: 0.00001468  \n",
      "Epoch: [2][1400/3419] Elapsed 4m 38s (remain 6m 40s) Loss: 0.5051(0.5536) Grad: 23024.4863  LR: 0.00001447  \n",
      "Epoch: [2][1500/3419] Elapsed 4m 59s (remain 6m 22s) Loss: 0.5886(0.5535) Grad: 9395.3584  LR: 0.00001427  \n",
      "Epoch: [2][1600/3419] Elapsed 5m 19s (remain 6m 2s) Loss: 0.4964(0.5536) Grad: 25977.0215  LR: 0.00001406  \n",
      "Epoch: [2][1700/3419] Elapsed 5m 39s (remain 5m 42s) Loss: 0.3977(0.5537) Grad: 47327.7422  LR: 0.00001385  \n",
      "Epoch: [2][1800/3419] Elapsed 5m 59s (remain 5m 22s) Loss: 0.5924(0.5528) Grad: 14617.2041  LR: 0.00001363  \n",
      "Epoch: [2][1900/3419] Elapsed 6m 18s (remain 5m 2s) Loss: 0.5371(0.5529) Grad: 23398.9883  LR: 0.00001342  \n",
      "Epoch: [2][2000/3419] Elapsed 6m 38s (remain 4m 42s) Loss: 0.7129(0.5530) Grad: 17140.1660  LR: 0.00001320  \n",
      "Epoch: [2][2100/3419] Elapsed 6m 58s (remain 4m 22s) Loss: 0.7150(0.5529) Grad: 30166.4238  LR: 0.00001298  \n",
      "Epoch: [2][2200/3419] Elapsed 7m 18s (remain 4m 2s) Loss: 0.6507(0.5540) Grad: 206158.2188  LR: 0.00001276  \n",
      "Epoch: [2][2300/3419] Elapsed 7m 38s (remain 3m 42s) Loss: 0.4336(0.5535) Grad: 12606.9883  LR: 0.00001254  \n",
      "Epoch: [2][2400/3419] Elapsed 7m 57s (remain 3m 22s) Loss: 0.4690(0.5531) Grad: 18918.8809  LR: 0.00001232  \n",
      "Epoch: [2][2500/3419] Elapsed 8m 17s (remain 3m 2s) Loss: 0.5135(0.5528) Grad: 13502.6758  LR: 0.00001209  \n",
      "Epoch: [2][2600/3419] Elapsed 8m 37s (remain 2m 42s) Loss: 0.4757(0.5523) Grad: 59028.4375  LR: 0.00001187  \n",
      "Epoch: [2][2700/3419] Elapsed 8m 57s (remain 2m 22s) Loss: 0.4153(0.5523) Grad: 29510.8125  LR: 0.00001164  \n",
      "Epoch: [2][2800/3419] Elapsed 9m 17s (remain 2m 2s) Loss: 0.4076(0.5523) Grad: 20603.5469  LR: 0.00001142  \n",
      "Epoch: [2][2900/3419] Elapsed 9m 36s (remain 1m 43s) Loss: 0.6893(0.5521) Grad: 73230.4062  LR: 0.00001119  \n",
      "Epoch: [2][3000/3419] Elapsed 9m 56s (remain 1m 23s) Loss: 0.5871(0.5518) Grad: 64946.7383  LR: 0.00001096  \n",
      "Epoch: [2][3100/3419] Elapsed 10m 16s (remain 1m 3s) Loss: 0.5435(0.5520) Grad: 84959.4609  LR: 0.00001073  \n",
      "Epoch: [2][3200/3419] Elapsed 10m 36s (remain 0m 43s) Loss: 0.6250(0.5517) Grad: 166366.0000  LR: 0.00001050  \n",
      "Epoch: [2][3300/3419] Elapsed 10m 56s (remain 0m 23s) Loss: 0.6228(0.5515) Grad: 95597.2812  LR: 0.00001027  \n",
      "Epoch: [2][3400/3419] Elapsed 11m 15s (remain 0m 3s) Loss: 0.5983(0.5510) Grad: 74321.2109  LR: 0.00001004  \n",
      "Epoch: [2][3418/3419] Elapsed 11m 19s (remain 0m 0s) Loss: 0.4166(0.5509) Grad: 16738.8125  LR: 0.00001000  \n"
     ]
    },
    {
     "name": "stderr",
     "output_type": "stream",
     "text": [
      "[W pthreadpool-cpp.cc:90] Warning: Leaking Caffe2 thread-pool after fork. (function pthreadpool)\n",
      "[W pthreadpool-cpp.cc:90] Warning: Leaking Caffe2 thread-pool after fork. (function pthreadpool)\n",
      "[W pthreadpool-cpp.cc:90] Warning: Leaking Caffe2 thread-pool after fork. (function pthreadpool)\n",
      "[W pthreadpool-cpp.cc:90] Warning: Leaking Caffe2 thread-pool after fork. (function pthreadpool)\n"
     ]
    },
    {
     "name": "stdout",
     "output_type": "stream",
     "text": [
      "EVAL: [0/1140] Elapsed 0m 0s (remain 5m 19s) Loss: 0.6955(0.6955) \n",
      "EVAL: [100/1140] Elapsed 0m 8s (remain 1m 31s) Loss: 0.7311(0.5829) \n",
      "EVAL: [200/1140] Elapsed 0m 17s (remain 1m 22s) Loss: 0.6841(0.5856) \n",
      "EVAL: [300/1140] Elapsed 0m 26s (remain 1m 13s) Loss: 0.5490(0.5798) \n",
      "EVAL: [400/1140] Elapsed 0m 34s (remain 1m 4s) Loss: 0.5911(0.5807) \n",
      "EVAL: [500/1140] Elapsed 0m 43s (remain 0m 55s) Loss: 0.6631(0.5770) \n",
      "EVAL: [600/1140] Elapsed 0m 52s (remain 0m 46s) Loss: 0.7534(0.5780) \n",
      "EVAL: [700/1140] Elapsed 1m 0s (remain 0m 38s) Loss: 0.6471(0.5770) \n",
      "EVAL: [800/1140] Elapsed 1m 9s (remain 0m 29s) Loss: 0.6169(0.5785) \n",
      "EVAL: [900/1140] Elapsed 1m 18s (remain 0m 20s) Loss: 0.8823(0.5789) \n",
      "EVAL: [1000/1140] Elapsed 1m 26s (remain 0m 12s) Loss: 0.5237(0.5774) \n",
      "EVAL: [1100/1140] Elapsed 1m 35s (remain 0m 3s) Loss: 0.6583(0.5783) \n"
     ]
    },
    {
     "name": "stderr",
     "output_type": "stream",
     "text": [
      "Epoch 2 - avg_train_loss: 0.5509  avg_val_loss: 0.5785  time: 778s\n",
      "Epoch 2 - Score: 0.7859\n",
      "Epoch 2 - Save Best Score: 0.7859 Model\n"
     ]
    },
    {
     "name": "stdout",
     "output_type": "stream",
     "text": [
      "EVAL: [1139/1140] Elapsed 1m 38s (remain 0m 0s) Loss: 0.5663(0.5785) \n"
     ]
    },
    {
     "name": "stderr",
     "output_type": "stream",
     "text": [
      "[W pthreadpool-cpp.cc:90] Warning: Leaking Caffe2 thread-pool after fork. (function pthreadpool)\n",
      "[W pthreadpool-cpp.cc:90] Warning: Leaking Caffe2 thread-pool after fork. (function pthreadpool)\n",
      "[W pthreadpool-cpp.cc:90] Warning: Leaking Caffe2 thread-pool after fork. (function pthreadpool)\n",
      "[W pthreadpool-cpp.cc:90] Warning: Leaking Caffe2 thread-pool after fork. (function pthreadpool)\n"
     ]
    },
    {
     "name": "stdout",
     "output_type": "stream",
     "text": [
      "Epoch: [3][0/3419] Elapsed 0m 0s (remain 29m 55s) Loss: 0.4604(0.4604) Grad: 33095.4414  LR: 0.00001000  \n",
      "Epoch: [3][100/3419] Elapsed 0m 20s (remain 11m 6s) Loss: 0.6368(0.5384) Grad: 35580.2188  LR: 0.00000977  \n",
      "Epoch: [3][200/3419] Elapsed 0m 40s (remain 10m 41s) Loss: 0.6704(0.5443) Grad: 51869.7539  LR: 0.00000954  \n",
      "Epoch: [3][300/3419] Elapsed 0m 59s (remain 10m 20s) Loss: 0.5261(0.5411) Grad: 68641.6484  LR: 0.00000931  \n",
      "Epoch: [3][400/3419] Elapsed 1m 19s (remain 9m 59s) Loss: 1.0013(0.5450) Grad: nan  LR: 0.00000908  \n",
      "Epoch: [3][500/3419] Elapsed 1m 39s (remain 9m 39s) Loss: 0.4819(0.5433) Grad: 113182.0469  LR: 0.00000885  \n",
      "Epoch: [3][600/3419] Elapsed 1m 59s (remain 9m 19s) Loss: 0.6183(0.5439) Grad: 25625.7109  LR: 0.00000863  \n",
      "Epoch: [3][700/3419] Elapsed 2m 19s (remain 8m 59s) Loss: 0.4960(0.5438) Grad: 37868.1758  LR: 0.00000840  \n",
      "Epoch: [3][800/3419] Elapsed 2m 38s (remain 8m 39s) Loss: 0.3087(0.5427) Grad: 9642.4229  LR: 0.00000817  \n",
      "Epoch: [3][900/3419] Elapsed 2m 58s (remain 8m 19s) Loss: 0.4633(0.5437) Grad: 33530.6211  LR: 0.00000795  \n",
      "Epoch: [3][1000/3419] Elapsed 3m 18s (remain 7m 59s) Loss: 0.6370(0.5436) Grad: 29769.9395  LR: 0.00000772  \n",
      "Epoch: [3][1100/3419] Elapsed 3m 38s (remain 7m 39s) Loss: 0.6081(0.5438) Grad: 10399.0850  LR: 0.00000750  \n",
      "Epoch: [3][1200/3419] Elapsed 3m 57s (remain 7m 19s) Loss: 0.4168(0.5434) Grad: 23916.4434  LR: 0.00000728  \n",
      "Epoch: [3][1300/3419] Elapsed 4m 17s (remain 6m 59s) Loss: 0.5171(0.5433) Grad: 25122.4336  LR: 0.00000706  \n",
      "Epoch: [3][1400/3419] Elapsed 4m 37s (remain 6m 39s) Loss: 0.3480(0.5424) Grad: 32286.7754  LR: 0.00000684  \n",
      "Epoch: [3][1500/3419] Elapsed 4m 57s (remain 6m 19s) Loss: 0.6753(0.5414) Grad: 33135.3984  LR: 0.00000662  \n",
      "Epoch: [3][1600/3419] Elapsed 5m 16s (remain 5m 59s) Loss: 0.6579(0.5416) Grad: 9661.7842  LR: 0.00000641  \n",
      "Epoch: [3][1700/3419] Elapsed 5m 36s (remain 5m 39s) Loss: 0.4648(0.5408) Grad: 36473.9062  LR: 0.00000619  \n",
      "Epoch: [3][1800/3419] Elapsed 5m 56s (remain 5m 20s) Loss: 0.2425(0.5407) Grad: 12203.7520  LR: 0.00000598  \n",
      "Epoch: [3][1900/3419] Elapsed 6m 16s (remain 5m 0s) Loss: 0.5929(0.5411) Grad: 11460.2197  LR: 0.00000577  \n",
      "Epoch: [3][2000/3419] Elapsed 6m 35s (remain 4m 40s) Loss: 0.4534(0.5410) Grad: 15819.9824  LR: 0.00000556  \n",
      "Epoch: [3][2100/3419] Elapsed 6m 55s (remain 4m 20s) Loss: 0.6117(0.5412) Grad: 15259.8398  LR: 0.00000536  \n",
      "Epoch: [3][2200/3419] Elapsed 7m 15s (remain 4m 0s) Loss: 0.6630(0.5418) Grad: 41543.6562  LR: 0.00000516  \n",
      "Epoch: [3][2300/3419] Elapsed 7m 35s (remain 3m 41s) Loss: 0.4631(0.5417) Grad: 18202.1680  LR: 0.00000496  \n",
      "Epoch: [3][2400/3419] Elapsed 7m 54s (remain 3m 21s) Loss: 0.4922(0.5422) Grad: 12938.5127  LR: 0.00000476  \n",
      "Epoch: [3][2500/3419] Elapsed 8m 14s (remain 3m 1s) Loss: 0.4605(0.5414) Grad: 7059.9189  LR: 0.00000457  \n",
      "Epoch: [3][2600/3419] Elapsed 8m 34s (remain 2m 41s) Loss: 0.4972(0.5410) Grad: 162191.4375  LR: 0.00000438  \n",
      "Epoch: [3][2700/3419] Elapsed 8m 54s (remain 2m 21s) Loss: 0.5869(0.5406) Grad: 131047.3516  LR: 0.00000419  \n",
      "Epoch: [3][2800/3419] Elapsed 9m 13s (remain 2m 2s) Loss: 0.6854(0.5409) Grad: 45522.9297  LR: 0.00000400  \n",
      "Epoch: [3][2900/3419] Elapsed 9m 33s (remain 1m 42s) Loss: 0.4387(0.5409) Grad: 19522.7773  LR: 0.00000382  \n",
      "Epoch: [3][3000/3419] Elapsed 9m 53s (remain 1m 22s) Loss: 0.8462(0.5411) Grad: 260149.4844  LR: 0.00000364  \n",
      "Epoch: [3][3100/3419] Elapsed 10m 13s (remain 1m 2s) Loss: 0.6359(0.5411) Grad: 190489.2656  LR: 0.00000347  \n",
      "Epoch: [3][3200/3419] Elapsed 10m 32s (remain 0m 43s) Loss: 0.5382(0.5408) Grad: 69682.0000  LR: 0.00000329  \n",
      "Epoch: [3][3300/3419] Elapsed 10m 52s (remain 0m 23s) Loss: 0.4528(0.5409) Grad: 47680.9648  LR: 0.00000312  \n",
      "Epoch: [3][3400/3419] Elapsed 11m 12s (remain 0m 3s) Loss: 0.3794(0.5407) Grad: 68519.0312  LR: 0.00000296  \n"
     ]
    },
    {
     "name": "stderr",
     "output_type": "stream",
     "text": [
      "[W pthreadpool-cpp.cc:90] Warning: Leaking Caffe2 thread-pool after fork. (function pthreadpool)\n",
      "[W pthreadpool-cpp.cc:90] Warning: Leaking Caffe2 thread-pool after fork. (function pthreadpool)\n"
     ]
    },
    {
     "name": "stdout",
     "output_type": "stream",
     "text": [
      "Epoch: [3][3418/3419] Elapsed 11m 15s (remain 0m 0s) Loss: 0.5715(0.5406) Grad: 14484.4502  LR: 0.00000293  \n"
     ]
    },
    {
     "name": "stderr",
     "output_type": "stream",
     "text": [
      "[W pthreadpool-cpp.cc:90] Warning: Leaking Caffe2 thread-pool after fork. (function pthreadpool)\n",
      "[W pthreadpool-cpp.cc:90] Warning: Leaking Caffe2 thread-pool after fork. (function pthreadpool)\n",
      "[W pthreadpool-cpp.cc:90] Warning: Leaking Caffe2 thread-pool after fork. (function pthreadpool)\n",
      "[W pthreadpool-cpp.cc:90] Warning: Leaking Caffe2 thread-pool after fork. (function pthreadpool)\n"
     ]
    },
    {
     "name": "stdout",
     "output_type": "stream",
     "text": [
      "EVAL: [0/1140] Elapsed 0m 0s (remain 5m 20s) Loss: 0.7931(0.7931) \n",
      "EVAL: [100/1140] Elapsed 0m 8s (remain 1m 31s) Loss: 0.7441(0.5739) \n",
      "EVAL: [200/1140] Elapsed 0m 17s (remain 1m 21s) Loss: 0.6797(0.5788) \n",
      "EVAL: [300/1140] Elapsed 0m 26s (remain 1m 12s) Loss: 0.4927(0.5721) \n",
      "EVAL: [400/1140] Elapsed 0m 34s (remain 1m 4s) Loss: 0.6557(0.5729) \n",
      "EVAL: [500/1140] Elapsed 0m 43s (remain 0m 55s) Loss: 0.6765(0.5689) \n",
      "EVAL: [600/1140] Elapsed 0m 52s (remain 0m 46s) Loss: 0.8290(0.5709) \n",
      "EVAL: [700/1140] Elapsed 1m 0s (remain 0m 37s) Loss: 0.6246(0.5705) \n",
      "EVAL: [800/1140] Elapsed 1m 9s (remain 0m 29s) Loss: 0.6142(0.5711) \n",
      "EVAL: [900/1140] Elapsed 1m 17s (remain 0m 20s) Loss: 1.1142(0.5722) \n",
      "EVAL: [1000/1140] Elapsed 1m 26s (remain 0m 12s) Loss: 0.5052(0.5698) \n",
      "EVAL: [1100/1140] Elapsed 1m 35s (remain 0m 3s) Loss: 0.6448(0.5712) \n"
     ]
    },
    {
     "name": "stderr",
     "output_type": "stream",
     "text": [
      "Epoch 3 - avg_train_loss: 0.5406  avg_val_loss: 0.5715  time: 774s\n",
      "Epoch 3 - Score: 0.7918\n",
      "Epoch 3 - Save Best Score: 0.7918 Model\n"
     ]
    },
    {
     "name": "stdout",
     "output_type": "stream",
     "text": [
      "EVAL: [1139/1140] Elapsed 1m 38s (remain 0m 0s) Loss: 0.5582(0.5715) \n"
     ]
    },
    {
     "name": "stderr",
     "output_type": "stream",
     "text": [
      "[W pthreadpool-cpp.cc:90] Warning: Leaking Caffe2 thread-pool after fork. (function pthreadpool)\n",
      "[W pthreadpool-cpp.cc:90] Warning: Leaking Caffe2 thread-pool after fork. (function pthreadpool)\n",
      "[W pthreadpool-cpp.cc:90] Warning: Leaking Caffe2 thread-pool after fork. (function pthreadpool)\n",
      "[W pthreadpool-cpp.cc:90] Warning: Leaking Caffe2 thread-pool after fork. (function pthreadpool)\n"
     ]
    },
    {
     "name": "stdout",
     "output_type": "stream",
     "text": [
      "Epoch: [4][0/3419] Elapsed 0m 0s (remain 30m 26s) Loss: 0.6345(0.6345) Grad: 261738.1250  LR: 0.00000293  \n",
      "Epoch: [4][100/3419] Elapsed 0m 20s (remain 11m 6s) Loss: 0.6578(0.5322) Grad: 292190.8125  LR: 0.00000277  \n",
      "Epoch: [4][200/3419] Elapsed 0m 40s (remain 10m 40s) Loss: 0.6301(0.5243) Grad: 54586.9102  LR: 0.00000261  \n",
      "Epoch: [4][300/3419] Elapsed 0m 59s (remain 10m 19s) Loss: 0.4494(0.5233) Grad: 45081.1680  LR: 0.00000246  \n",
      "Epoch: [4][400/3419] Elapsed 1m 19s (remain 9m 58s) Loss: 0.3258(0.5240) Grad: 39640.0156  LR: 0.00000231  \n",
      "Epoch: [4][500/3419] Elapsed 1m 39s (remain 9m 38s) Loss: 0.5664(0.5232) Grad: 35698.9023  LR: 0.00000216  \n",
      "Epoch: [4][600/3419] Elapsed 1m 59s (remain 9m 18s) Loss: 0.5487(0.5230) Grad: 73434.7500  LR: 0.00000202  \n",
      "Epoch: [4][700/3419] Elapsed 2m 18s (remain 8m 57s) Loss: 0.4265(0.5235) Grad: 124186.8203  LR: 0.00000189  \n",
      "Epoch: [4][800/3419] Elapsed 2m 38s (remain 8m 37s) Loss: 0.4338(0.5244) Grad: 35794.9805  LR: 0.00000176  \n",
      "Epoch: [4][900/3419] Elapsed 2m 58s (remain 8m 17s) Loss: 0.2544(0.5252) Grad: 43805.3906  LR: 0.00000163  \n",
      "Epoch: [4][1000/3419] Elapsed 3m 17s (remain 7m 58s) Loss: 0.4288(0.5244) Grad: 29776.7910  LR: 0.00000150  \n",
      "Epoch: [4][1100/3419] Elapsed 3m 37s (remain 7m 38s) Loss: 0.5853(0.5239) Grad: 56600.5000  LR: 0.00000139  \n",
      "Epoch: [4][1200/3419] Elapsed 3m 57s (remain 7m 18s) Loss: 0.4613(0.5239) Grad: 86817.2500  LR: 0.00000127  \n",
      "Epoch: [4][1300/3419] Elapsed 4m 17s (remain 6m 58s) Loss: 0.6980(0.5237) Grad: 87878.8672  LR: 0.00000116  \n",
      "Epoch: [4][1400/3419] Elapsed 4m 36s (remain 6m 38s) Loss: 0.4019(0.5248) Grad: 10954.8828  LR: 0.00000106  \n",
      "Epoch: [4][1500/3419] Elapsed 4m 56s (remain 6m 19s) Loss: 0.6117(0.5251) Grad: 24866.4121  LR: 0.00000096  \n",
      "Epoch: [4][1600/3419] Elapsed 5m 16s (remain 5m 59s) Loss: 0.4402(0.5258) Grad: 52686.2344  LR: 0.00000086  \n",
      "Epoch: [4][1700/3419] Elapsed 5m 36s (remain 5m 39s) Loss: 0.5771(0.5260) Grad: 67258.1562  LR: 0.00000077  \n",
      "Epoch: [4][1800/3419] Elapsed 5m 56s (remain 5m 19s) Loss: 0.4900(0.5260) Grad: 51454.6484  LR: 0.00000068  \n",
      "Epoch: [4][1900/3419] Elapsed 6m 15s (remain 5m 0s) Loss: 0.6421(0.5261) Grad: 25017.6055  LR: 0.00000060  \n",
      "Epoch: [4][2000/3419] Elapsed 6m 35s (remain 4m 40s) Loss: 0.4904(0.5263) Grad: 167192.6094  LR: 0.00000053  \n",
      "Epoch: [4][2100/3419] Elapsed 6m 55s (remain 4m 20s) Loss: 0.6885(0.5269) Grad: 65040.7188  LR: 0.00000046  \n",
      "Epoch: [4][2200/3419] Elapsed 7m 14s (remain 4m 0s) Loss: 0.6929(0.5268) Grad: 107078.4844  LR: 0.00000039  \n",
      "Epoch: [4][2300/3419] Elapsed 7m 34s (remain 3m 40s) Loss: 0.4241(0.5271) Grad: 6082.2393  LR: 0.00000033  \n",
      "Epoch: [4][2400/3419] Elapsed 7m 54s (remain 3m 21s) Loss: 0.6399(0.5279) Grad: 15834.1680  LR: 0.00000027  \n",
      "Epoch: [4][2500/3419] Elapsed 8m 14s (remain 3m 1s) Loss: 0.5290(0.5284) Grad: 20661.2559  LR: 0.00000022  \n",
      "Epoch: [4][2600/3419] Elapsed 8m 33s (remain 2m 41s) Loss: 0.4416(0.5281) Grad: 10603.7129  LR: 0.00000018  \n",
      "Epoch: [4][2700/3419] Elapsed 8m 53s (remain 2m 21s) Loss: 0.6405(0.5278) Grad: 42934.8086  LR: 0.00000014  \n",
      "Epoch: [4][2800/3419] Elapsed 9m 13s (remain 2m 2s) Loss: 0.4924(0.5276) Grad: 33198.9258  LR: 0.00000010  \n",
      "Epoch: [4][2900/3419] Elapsed 9m 33s (remain 1m 42s) Loss: 0.5574(0.5273) Grad: 26319.3789  LR: 0.00000007  \n",
      "Epoch: [4][3000/3419] Elapsed 9m 52s (remain 1m 22s) Loss: 0.5528(0.5273) Grad: 61978.9766  LR: 0.00000005  \n",
      "Epoch: [4][3100/3419] Elapsed 10m 12s (remain 1m 2s) Loss: 0.5358(0.5278) Grad: 8863.3408  LR: 0.00000003  \n",
      "Epoch: [4][3200/3419] Elapsed 10m 32s (remain 0m 43s) Loss: 0.5344(0.5276) Grad: 29831.9473  LR: 0.00000001  \n",
      "Epoch: [4][3300/3419] Elapsed 10m 52s (remain 0m 23s) Loss: 0.4497(0.5282) Grad: 51371.2227  LR: 0.00000000  \n",
      "Epoch: [4][3400/3419] Elapsed 11m 11s (remain 0m 3s) Loss: 0.6339(0.5285) Grad: 36472.8867  LR: 0.00000000  \n",
      "Epoch: [4][3418/3419] Elapsed 11m 15s (remain 0m 0s) Loss: 0.4304(0.5287) Grad: 19620.1992  LR: 0.00000000  \n"
     ]
    },
    {
     "name": "stderr",
     "output_type": "stream",
     "text": [
      "[W pthreadpool-cpp.cc:90] Warning: Leaking Caffe2 thread-pool after fork. (function pthreadpool)\n",
      "[W pthreadpool-cpp.cc:90] Warning: Leaking Caffe2 thread-pool after fork. (function pthreadpool)\n",
      "[W pthreadpool-cpp.cc:90] Warning: Leaking Caffe2 thread-pool after fork. (function pthreadpool)\n",
      "[W pthreadpool-cpp.cc:90] Warning: Leaking Caffe2 thread-pool after fork. (function pthreadpool)\n"
     ]
    },
    {
     "name": "stdout",
     "output_type": "stream",
     "text": [
      "EVAL: [0/1140] Elapsed 0m 0s (remain 5m 11s) Loss: 0.8281(0.8281) \n",
      "EVAL: [100/1140] Elapsed 0m 8s (remain 1m 31s) Loss: 0.7521(0.5817) \n",
      "EVAL: [200/1140] Elapsed 0m 17s (remain 1m 21s) Loss: 0.6802(0.5867) \n",
      "EVAL: [300/1140] Elapsed 0m 26s (remain 1m 12s) Loss: 0.5067(0.5797) \n",
      "EVAL: [400/1140] Elapsed 0m 34s (remain 1m 3s) Loss: 0.6055(0.5799) \n",
      "EVAL: [500/1140] Elapsed 0m 43s (remain 0m 55s) Loss: 0.6767(0.5757) \n",
      "EVAL: [600/1140] Elapsed 0m 51s (remain 0m 46s) Loss: 0.8448(0.5783) \n",
      "EVAL: [700/1140] Elapsed 1m 0s (remain 0m 37s) Loss: 0.6378(0.5779) \n",
      "EVAL: [800/1140] Elapsed 1m 9s (remain 0m 29s) Loss: 0.6138(0.5793) \n",
      "EVAL: [900/1140] Elapsed 1m 17s (remain 0m 20s) Loss: 1.2410(0.5810) \n",
      "EVAL: [1000/1140] Elapsed 1m 26s (remain 0m 12s) Loss: 0.4955(0.5780) \n",
      "EVAL: [1100/1140] Elapsed 1m 35s (remain 0m 3s) Loss: 0.6447(0.5798) \n"
     ]
    },
    {
     "name": "stderr",
     "output_type": "stream",
     "text": [
      "Epoch 4 - avg_train_loss: 0.5287  avg_val_loss: 0.5801  time: 774s\n",
      "Epoch 4 - Score: 0.7933\n",
      "Epoch 4 - Save Best Score: 0.7933 Model\n"
     ]
    },
    {
     "name": "stdout",
     "output_type": "stream",
     "text": [
      "EVAL: [1139/1140] Elapsed 1m 38s (remain 0m 0s) Loss: 0.5648(0.5801) \n"
     ]
    },
    {
     "name": "stderr",
     "output_type": "stream",
     "text": [
      "========== fold: 3 result ==========\n",
      "Score: 0.7933\n",
      "========== CV ==========\n",
      "Score: 0.7967\n"
     ]
    }
   ],
   "source": [
    "if __name__ == '__main__':\n",
    "    \n",
    "    def get_result(oof_df):\n",
    "        labels = oof_df['score'].values\n",
    "        preds = oof_df['pred'].values\n",
    "        score = get_score(labels, preds)\n",
    "        LOGGER.info(f'Score: {score:<.4f}')\n",
    "    \n",
    "    if CFG.train:\n",
    "        oof_df = pd.DataFrame()\n",
    "        for fold in range(CFG.n_fold):\n",
    "            # if fold in [0,1,2]:\n",
    "                #continue\n",
    "               # print（f”￥０r３３［３８；５；４０m＝＝＝＝＝＝＝＝＝＝ this fold is pass ￥ontinue\n",
    "            LOGGER.info(f\"========== fold: {fold} training ==========\")\n",
    "            print(f\"\\033[38;5;40m========== fold: {fold} training ==========\\033[0m\");\n",
    "            if fold in CFG.trn_fold:\n",
    "                # ====================================================\n",
    "                # loader\n",
    "                # ====================================================\n",
    "                folds = train\n",
    "                train_folds = folds[folds['fold'] != fold].reset_index(drop=True)\n",
    "                valid_folds = folds[folds['fold'] == fold].reset_index(drop=True)\n",
    "                valid_labels = valid_folds['score'].values\n",
    "\n",
    "                train_dataset = TrainDataset(CFG, train_folds)\n",
    "                valid_dataset = TrainDataset(CFG, valid_folds)\n",
    "\n",
    "                train_loader = DataLoader(train_dataset,\n",
    "                                          batch_size=CFG.batch_size,\n",
    "                                          shuffle=True,\n",
    "                                          num_workers=CFG.num_workers, pin_memory=True, drop_last=True)\n",
    "                valid_loader = DataLoader(valid_dataset,\n",
    "                                          batch_size=CFG.batch_size,\n",
    "                                          shuffle=False,\n",
    "                                          num_workers=CFG.num_workers, pin_memory=True, drop_last=False)\n",
    "\n",
    "#                 _oof_df = train_loop(train, fold)\n",
    "                _oof_df = train_loop(train_loader, valid_loader)\n",
    "                oof_df = pd.concat([oof_df, _oof_df])\n",
    "                LOGGER.info(f\"========== fold: {fold} result ==========\")\n",
    "                get_result(_oof_df)\n",
    "        oof_df = oof_df.reset_index(drop=True)\n",
    "        LOGGER.info(f\"========== CV ==========\")\n",
    "        get_result(oof_df)\n",
    "        oof_df.to_pickle(OUTPUT_DIR+'oof_df.pkl')\n",
    "        \n",
    "    if CFG.wandb:\n",
    "        wandb.finish()"
   ]
  },
  {
   "cell_type": "code",
   "execution_count": 28,
   "id": "6b65b21c",
   "metadata": {},
   "outputs": [
    {
     "name": "stdout",
     "output_type": "stream",
     "text": [
      "12536.737255096436 hour\n"
     ]
    }
   ],
   "source": [
    "print(f'{time.time()-start} hour')"
   ]
  },
  {
   "cell_type": "code",
   "execution_count": 29,
   "id": "5c638e57",
   "metadata": {},
   "outputs": [],
   "source": [
    "!touch trained_list/xlnet.txt"
   ]
  },
  {
   "cell_type": "code",
   "execution_count": 30,
   "id": "9343b101-0c9b-456d-b0c8-cc5e8b8b1317",
   "metadata": {},
   "outputs": [],
   "source": [
    "#roberta のふぉｌｄ１は雑魚"
   ]
  },
  {
   "cell_type": "code",
   "execution_count": 31,
   "id": "10743e3c-5bff-46c5-8e9d-0f4b3f051a79",
   "metadata": {},
   "outputs": [
    {
     "name": "stderr",
     "output_type": "stream",
     "text": [
      "max_len: 197\n"
     ]
    }
   ],
   "source": [
    "LOGGER.info(f\"max_len: {CFG.max_len}\")"
   ]
  },
  {
   "cell_type": "code",
   "execution_count": null,
   "id": "5ffc0430-37d5-4e3c-937c-a24c6c5c96dc",
   "metadata": {},
   "outputs": [],
   "source": []
  },
  {
   "cell_type": "code",
   "execution_count": null,
   "id": "2e30d85c-df17-4211-ab0f-3886dd942276",
   "metadata": {},
   "outputs": [],
   "source": []
  },
  {
   "cell_type": "code",
   "execution_count": null,
   "id": "060989e4-10a2-4eeb-b39e-1451aab2e77c",
   "metadata": {},
   "outputs": [],
   "source": []
  },
  {
   "cell_type": "code",
   "execution_count": null,
   "id": "2f2cb436-b039-4232-9e65-cbf3b509e79b",
   "metadata": {},
   "outputs": [],
   "source": []
  },
  {
   "cell_type": "code",
   "execution_count": null,
   "id": "cd2afeb9-6924-47cc-a138-3af2a28fe70b",
   "metadata": {},
   "outputs": [],
   "source": []
  }
 ],
 "metadata": {
  "kernelspec": {
   "display_name": "Python 3 (ipykernel)",
   "language": "python",
   "name": "python3"
  },
  "language_info": {
   "codemirror_mode": {
    "name": "ipython",
    "version": 3
   },
   "file_extension": ".py",
   "mimetype": "text/x-python",
   "name": "python",
   "nbconvert_exporter": "python",
   "pygments_lexer": "ipython3",
   "version": "3.7.12"
  },
  "papermill": {
   "default_parameters": {},
   "duration": 30329.017674,
   "end_time": "2022-03-22T18:05:22.040486",
   "environment_variables": {},
   "exception": null,
   "input_path": "__notebook__.ipynb",
   "output_path": "__notebook__.ipynb",
   "parameters": {},
   "start_time": "2022-03-22T09:39:53.022812",
   "version": "2.3.3"
  },
  "widgets": {
   "application/vnd.jupyter.widget-state+json": {
    "state": {
     "126a1e5f24e44838a03204815209c5dc": {
      "model_module": "@jupyter-widgets/controls",
      "model_module_version": "1.5.0",
      "model_name": "ProgressStyleModel",
      "state": {
       "_model_module": "@jupyter-widgets/controls",
       "_model_module_version": "1.5.0",
       "_model_name": "ProgressStyleModel",
       "_view_count": null,
       "_view_module": "@jupyter-widgets/base",
       "_view_module_version": "1.2.0",
       "_view_name": "StyleView",
       "bar_color": null,
       "description_width": ""
      }
     },
     "12d0d3a78caf4f8c93da02229f2185df": {
      "model_module": "@jupyter-widgets/base",
      "model_module_version": "1.2.0",
      "model_name": "LayoutModel",
      "state": {
       "_model_module": "@jupyter-widgets/base",
       "_model_module_version": "1.2.0",
       "_model_name": "LayoutModel",
       "_view_count": null,
       "_view_module": "@jupyter-widgets/base",
       "_view_module_version": "1.2.0",
       "_view_name": "LayoutView",
       "align_content": null,
       "align_items": null,
       "align_self": null,
       "border": null,
       "bottom": null,
       "display": null,
       "flex": null,
       "flex_flow": null,
       "grid_area": null,
       "grid_auto_columns": null,
       "grid_auto_flow": null,
       "grid_auto_rows": null,
       "grid_column": null,
       "grid_gap": null,
       "grid_row": null,
       "grid_template_areas": null,
       "grid_template_columns": null,
       "grid_template_rows": null,
       "height": null,
       "justify_content": null,
       "justify_items": null,
       "left": null,
       "margin": null,
       "max_height": null,
       "max_width": null,
       "min_height": null,
       "min_width": null,
       "object_fit": null,
       "object_position": null,
       "order": null,
       "overflow": null,
       "overflow_x": null,
       "overflow_y": null,
       "padding": null,
       "right": null,
       "top": null,
       "visibility": null,
       "width": null
      }
     },
     "14972cafd36646939e742a987e1d0ec7": {
      "model_module": "@jupyter-widgets/base",
      "model_module_version": "1.2.0",
      "model_name": "LayoutModel",
      "state": {
       "_model_module": "@jupyter-widgets/base",
       "_model_module_version": "1.2.0",
       "_model_name": "LayoutModel",
       "_view_count": null,
       "_view_module": "@jupyter-widgets/base",
       "_view_module_version": "1.2.0",
       "_view_name": "LayoutView",
       "align_content": null,
       "align_items": null,
       "align_self": null,
       "border": null,
       "bottom": null,
       "display": null,
       "flex": null,
       "flex_flow": null,
       "grid_area": null,
       "grid_auto_columns": null,
       "grid_auto_flow": null,
       "grid_auto_rows": null,
       "grid_column": null,
       "grid_gap": null,
       "grid_row": null,
       "grid_template_areas": null,
       "grid_template_columns": null,
       "grid_template_rows": null,
       "height": null,
       "justify_content": null,
       "justify_items": null,
       "left": null,
       "margin": null,
       "max_height": null,
       "max_width": null,
       "min_height": null,
       "min_width": null,
       "object_fit": null,
       "object_position": null,
       "order": null,
       "overflow": null,
       "overflow_x": null,
       "overflow_y": null,
       "padding": null,
       "right": null,
       "top": null,
       "visibility": null,
       "width": null
      }
     },
     "181ebde2d0064fb99b8ec32e9dc76836": {
      "model_module": "@jupyter-widgets/controls",
      "model_module_version": "1.5.0",
      "model_name": "HTMLModel",
      "state": {
       "_dom_classes": [],
       "_model_module": "@jupyter-widgets/controls",
       "_model_module_version": "1.5.0",
       "_model_name": "HTMLModel",
       "_view_count": null,
       "_view_module": "@jupyter-widgets/controls",
       "_view_module_version": "1.5.0",
       "_view_name": "HTMLView",
       "description": "",
       "description_tooltip": null,
       "layout": "IPY_MODEL_c1e8e53062324cf38fbd75eab01e066a",
       "placeholder": "​",
       "style": "IPY_MODEL_3feaf01a7f7b43ed923effab61b93ac4",
       "value": " 36473/36473 [00:03&lt;00:00, 12012.58it/s]"
      }
     },
     "1c5d07635bff4f7999e3e8486f648aaf": {
      "model_module": "@jupyter-widgets/controls",
      "model_module_version": "1.5.0",
      "model_name": "FloatProgressModel",
      "state": {
       "_dom_classes": [],
       "_model_module": "@jupyter-widgets/controls",
       "_model_module_version": "1.5.0",
       "_model_name": "FloatProgressModel",
       "_view_count": null,
       "_view_module": "@jupyter-widgets/controls",
       "_view_module_version": "1.5.0",
       "_view_name": "ProgressView",
       "bar_style": "success",
       "description": "",
       "description_tooltip": null,
       "layout": "IPY_MODEL_87214ce12c1f422481a0fe3caf5a3ce8",
       "max": 2464616,
       "min": 0,
       "orientation": "horizontal",
       "style": "IPY_MODEL_d9f0d96d140a4115aadfdfc9ce5ba608",
       "value": 2464616
      }
     },
     "1d83ae8940534922833de4d1fdd71216": {
      "model_module": "@jupyter-widgets/base",
      "model_module_version": "1.2.0",
      "model_name": "LayoutModel",
      "state": {
       "_model_module": "@jupyter-widgets/base",
       "_model_module_version": "1.2.0",
       "_model_name": "LayoutModel",
       "_view_count": null,
       "_view_module": "@jupyter-widgets/base",
       "_view_module_version": "1.2.0",
       "_view_name": "LayoutView",
       "align_content": null,
       "align_items": null,
       "align_self": null,
       "border": null,
       "bottom": null,
       "display": null,
       "flex": null,
       "flex_flow": null,
       "grid_area": null,
       "grid_auto_columns": null,
       "grid_auto_flow": null,
       "grid_auto_rows": null,
       "grid_column": null,
       "grid_gap": null,
       "grid_row": null,
       "grid_template_areas": null,
       "grid_template_columns": null,
       "grid_template_rows": null,
       "height": null,
       "justify_content": null,
       "justify_items": null,
       "left": null,
       "margin": null,
       "max_height": null,
       "max_width": null,
       "min_height": null,
       "min_width": null,
       "object_fit": null,
       "object_position": null,
       "order": null,
       "overflow": null,
       "overflow_x": null,
       "overflow_y": null,
       "padding": null,
       "right": null,
       "top": null,
       "visibility": null,
       "width": null
      }
     },
     "2373dbe30aca4d64b94b5bb64216151e": {
      "model_module": "@jupyter-widgets/base",
      "model_module_version": "1.2.0",
      "model_name": "LayoutModel",
      "state": {
       "_model_module": "@jupyter-widgets/base",
       "_model_module_version": "1.2.0",
       "_model_name": "LayoutModel",
       "_view_count": null,
       "_view_module": "@jupyter-widgets/base",
       "_view_module_version": "1.2.0",
       "_view_name": "LayoutView",
       "align_content": null,
       "align_items": null,
       "align_self": null,
       "border": null,
       "bottom": null,
       "display": null,
       "flex": null,
       "flex_flow": null,
       "grid_area": null,
       "grid_auto_columns": null,
       "grid_auto_flow": null,
       "grid_auto_rows": null,
       "grid_column": null,
       "grid_gap": null,
       "grid_row": null,
       "grid_template_areas": null,
       "grid_template_columns": null,
       "grid_template_rows": null,
       "height": null,
       "justify_content": null,
       "justify_items": null,
       "left": null,
       "margin": null,
       "max_height": null,
       "max_width": null,
       "min_height": null,
       "min_width": null,
       "object_fit": null,
       "object_position": null,
       "order": null,
       "overflow": null,
       "overflow_x": null,
       "overflow_y": null,
       "padding": null,
       "right": null,
       "top": null,
       "visibility": null,
       "width": null
      }
     },
     "251e902150c543d2a2212b4250931617": {
      "model_module": "@jupyter-widgets/controls",
      "model_module_version": "1.5.0",
      "model_name": "HBoxModel",
      "state": {
       "_dom_classes": [],
       "_model_module": "@jupyter-widgets/controls",
       "_model_module_version": "1.5.0",
       "_model_name": "HBoxModel",
       "_view_count": null,
       "_view_module": "@jupyter-widgets/controls",
       "_view_module_version": "1.5.0",
       "_view_name": "HBoxView",
       "box_style": "",
       "children": [
        "IPY_MODEL_7d211c0746b64a0b935fa964ad7bd858",
        "IPY_MODEL_432a848a161c4a0888dad1ac9c5408c3",
        "IPY_MODEL_181ebde2d0064fb99b8ec32e9dc76836"
       ],
       "layout": "IPY_MODEL_5d82f1a2cf554609ba65dfb95dc152e5"
      }
     },
     "2866d577bb3049b283da7c969f175d91": {
      "model_module": "@jupyter-widgets/controls",
      "model_module_version": "1.5.0",
      "model_name": "HBoxModel",
      "state": {
       "_dom_classes": [],
       "_model_module": "@jupyter-widgets/controls",
       "_model_module_version": "1.5.0",
       "_model_name": "HBoxModel",
       "_view_count": null,
       "_view_module": "@jupyter-widgets/controls",
       "_view_module_version": "1.5.0",
       "_view_name": "HBoxView",
       "box_style": "",
       "children": [
        "IPY_MODEL_673fb48e7dca47f4a3754d06af7dcf1f",
        "IPY_MODEL_bba517b096dd460cb764ccd71b57f148",
        "IPY_MODEL_362ef79e65894ea9aaae390562257f58"
       ],
       "layout": "IPY_MODEL_9d403276e05f4c368e46f353070b9d9a"
      }
     },
     "291ab6d32ec345ee8adaa6f354bfcfb4": {
      "model_module": "@jupyter-widgets/controls",
      "model_module_version": "1.5.0",
      "model_name": "HTMLModel",
      "state": {
       "_dom_classes": [],
       "_model_module": "@jupyter-widgets/controls",
       "_model_module_version": "1.5.0",
       "_model_name": "HTMLModel",
       "_view_count": null,
       "_view_module": "@jupyter-widgets/controls",
       "_view_module_version": "1.5.0",
       "_view_name": "HTMLView",
       "description": "",
       "description_tooltip": null,
       "layout": "IPY_MODEL_12d0d3a78caf4f8c93da02229f2185df",
       "placeholder": "​",
       "style": "IPY_MODEL_de3e60ed24f04a7ab49a05b98b7cf0f0",
       "value": " 36473/36473 [00:03&lt;00:00, 7261.90it/s]"
      }
     },
     "341389680b6a43d8b6b3de95dffca671": {
      "model_module": "@jupyter-widgets/base",
      "model_module_version": "1.2.0",
      "model_name": "LayoutModel",
      "state": {
       "_model_module": "@jupyter-widgets/base",
       "_model_module_version": "1.2.0",
       "_model_name": "LayoutModel",
       "_view_count": null,
       "_view_module": "@jupyter-widgets/base",
       "_view_module_version": "1.2.0",
       "_view_name": "LayoutView",
       "align_content": null,
       "align_items": null,
       "align_self": null,
       "border": null,
       "bottom": null,
       "display": null,
       "flex": null,
       "flex_flow": null,
       "grid_area": null,
       "grid_auto_columns": null,
       "grid_auto_flow": null,
       "grid_auto_rows": null,
       "grid_column": null,
       "grid_gap": null,
       "grid_row": null,
       "grid_template_areas": null,
       "grid_template_columns": null,
       "grid_template_rows": null,
       "height": null,
       "justify_content": null,
       "justify_items": null,
       "left": null,
       "margin": null,
       "max_height": null,
       "max_width": null,
       "min_height": null,
       "min_width": null,
       "object_fit": null,
       "object_position": null,
       "order": null,
       "overflow": null,
       "overflow_x": null,
       "overflow_y": null,
       "padding": null,
       "right": null,
       "top": null,
       "visibility": null,
       "width": null
      }
     },
     "349e43c8d4114c36823434cef63fc567": {
      "model_module": "@jupyter-widgets/controls",
      "model_module_version": "1.5.0",
      "model_name": "ProgressStyleModel",
      "state": {
       "_model_module": "@jupyter-widgets/controls",
       "_model_module_version": "1.5.0",
       "_model_name": "ProgressStyleModel",
       "_view_count": null,
       "_view_module": "@jupyter-widgets/base",
       "_view_module_version": "1.2.0",
       "_view_name": "StyleView",
       "bar_color": null,
       "description_width": ""
      }
     },
     "35cb92ba1b2d4932bc3a0b0640f71b0c": {
      "model_module": "@jupyter-widgets/controls",
      "model_module_version": "1.5.0",
      "model_name": "DescriptionStyleModel",
      "state": {
       "_model_module": "@jupyter-widgets/controls",
       "_model_module_version": "1.5.0",
       "_model_name": "DescriptionStyleModel",
       "_view_count": null,
       "_view_module": "@jupyter-widgets/base",
       "_view_module_version": "1.2.0",
       "_view_name": "StyleView",
       "description_width": ""
      }
     },
     "360314d0f3254b66818b8a62223c2b0b": {
      "model_module": "@jupyter-widgets/base",
      "model_module_version": "1.2.0",
      "model_name": "LayoutModel",
      "state": {
       "_model_module": "@jupyter-widgets/base",
       "_model_module_version": "1.2.0",
       "_model_name": "LayoutModel",
       "_view_count": null,
       "_view_module": "@jupyter-widgets/base",
       "_view_module_version": "1.2.0",
       "_view_name": "LayoutView",
       "align_content": null,
       "align_items": null,
       "align_self": null,
       "border": null,
       "bottom": null,
       "display": null,
       "flex": null,
       "flex_flow": null,
       "grid_area": null,
       "grid_auto_columns": null,
       "grid_auto_flow": null,
       "grid_auto_rows": null,
       "grid_column": null,
       "grid_gap": null,
       "grid_row": null,
       "grid_template_areas": null,
       "grid_template_columns": null,
       "grid_template_rows": null,
       "height": null,
       "justify_content": null,
       "justify_items": null,
       "left": null,
       "margin": null,
       "max_height": null,
       "max_width": null,
       "min_height": null,
       "min_width": null,
       "object_fit": null,
       "object_position": null,
       "order": null,
       "overflow": null,
       "overflow_x": null,
       "overflow_y": null,
       "padding": null,
       "right": null,
       "top": null,
       "visibility": null,
       "width": null
      }
     },
     "362ef79e65894ea9aaae390562257f58": {
      "model_module": "@jupyter-widgets/controls",
      "model_module_version": "1.5.0",
      "model_name": "HTMLModel",
      "state": {
       "_dom_classes": [],
       "_model_module": "@jupyter-widgets/controls",
       "_model_module_version": "1.5.0",
       "_model_name": "HTMLModel",
       "_view_count": null,
       "_view_module": "@jupyter-widgets/controls",
       "_view_module_version": "1.5.0",
       "_view_name": "HTMLView",
       "description": "",
       "description_tooltip": null,
       "layout": "IPY_MODEL_4e94a902a0d44b1eacfaeee99cd470d2",
       "placeholder": "​",
       "style": "IPY_MODEL_ad6386dafce545c48eac271bb2a3c0dd",
       "value": " 136/136 [00:00&lt;00:00, 2149.45it/s]"
      }
     },
     "39512e7ede884ec1b6fe92f794e1d74d": {
      "model_module": "@jupyter-widgets/base",
      "model_module_version": "1.2.0",
      "model_name": "LayoutModel",
      "state": {
       "_model_module": "@jupyter-widgets/base",
       "_model_module_version": "1.2.0",
       "_model_name": "LayoutModel",
       "_view_count": null,
       "_view_module": "@jupyter-widgets/base",
       "_view_module_version": "1.2.0",
       "_view_name": "LayoutView",
       "align_content": null,
       "align_items": null,
       "align_self": null,
       "border": null,
       "bottom": null,
       "display": null,
       "flex": null,
       "flex_flow": null,
       "grid_area": null,
       "grid_auto_columns": null,
       "grid_auto_flow": null,
       "grid_auto_rows": null,
       "grid_column": null,
       "grid_gap": null,
       "grid_row": null,
       "grid_template_areas": null,
       "grid_template_columns": null,
       "grid_template_rows": null,
       "height": null,
       "justify_content": null,
       "justify_items": null,
       "left": null,
       "margin": null,
       "max_height": null,
       "max_width": null,
       "min_height": null,
       "min_width": null,
       "object_fit": null,
       "object_position": null,
       "order": null,
       "overflow": null,
       "overflow_x": null,
       "overflow_y": null,
       "padding": null,
       "right": null,
       "top": null,
       "visibility": null,
       "width": null
      }
     },
     "3b0ebe22bd154b01bcb4d6b2ab2dec83": {
      "model_module": "@jupyter-widgets/controls",
      "model_module_version": "1.5.0",
      "model_name": "HTMLModel",
      "state": {
       "_dom_classes": [],
       "_model_module": "@jupyter-widgets/controls",
       "_model_module_version": "1.5.0",
       "_model_name": "HTMLModel",
       "_view_count": null,
       "_view_module": "@jupyter-widgets/controls",
       "_view_module_version": "1.5.0",
       "_view_name": "HTMLView",
       "description": "",
       "description_tooltip": null,
       "layout": "IPY_MODEL_ad4745f1eca942009bdf6cf12913f34a",
       "placeholder": "​",
       "style": "IPY_MODEL_d3b6e4a4aac943b79ba51bbacd77907e",
       "value": " 2.35M/2.35M [00:00&lt;00:00, 4.49MB/s]"
      }
     },
     "3e601d15c9ef4bd1b05e70f9267e1dfe": {
      "model_module": "@jupyter-widgets/controls",
      "model_module_version": "1.5.0",
      "model_name": "DescriptionStyleModel",
      "state": {
       "_model_module": "@jupyter-widgets/controls",
       "_model_module_version": "1.5.0",
       "_model_name": "DescriptionStyleModel",
       "_view_count": null,
       "_view_module": "@jupyter-widgets/base",
       "_view_module_version": "1.2.0",
       "_view_name": "StyleView",
       "description_width": ""
      }
     },
     "3feaf01a7f7b43ed923effab61b93ac4": {
      "model_module": "@jupyter-widgets/controls",
      "model_module_version": "1.5.0",
      "model_name": "DescriptionStyleModel",
      "state": {
       "_model_module": "@jupyter-widgets/controls",
       "_model_module_version": "1.5.0",
       "_model_name": "DescriptionStyleModel",
       "_view_count": null,
       "_view_module": "@jupyter-widgets/base",
       "_view_module_version": "1.2.0",
       "_view_name": "StyleView",
       "description_width": ""
      }
     },
     "4133e3e34f97426c9bebda989ec7e167": {
      "model_module": "@jupyter-widgets/controls",
      "model_module_version": "1.5.0",
      "model_name": "HBoxModel",
      "state": {
       "_dom_classes": [],
       "_model_module": "@jupyter-widgets/controls",
       "_model_module_version": "1.5.0",
       "_model_name": "HBoxModel",
       "_view_count": null,
       "_view_module": "@jupyter-widgets/controls",
       "_view_module_version": "1.5.0",
       "_view_name": "HBoxView",
       "box_style": "",
       "children": [
        "IPY_MODEL_48b36757767f4ff39f262dd63e844057",
        "IPY_MODEL_a03e24ff8fc54bccaa69e36839b36bab",
        "IPY_MODEL_e3e17f880bab4d47a1531bebac861fda"
       ],
       "layout": "IPY_MODEL_da88817e8aed48399b1948f8e004ee97"
      }
     },
     "43014906a0084e288ab06cb3ebf57538": {
      "model_module": "@jupyter-widgets/controls",
      "model_module_version": "1.5.0",
      "model_name": "HTMLModel",
      "state": {
       "_dom_classes": [],
       "_model_module": "@jupyter-widgets/controls",
       "_model_module_version": "1.5.0",
       "_model_name": "HTMLModel",
       "_view_count": null,
       "_view_module": "@jupyter-widgets/controls",
       "_view_module_version": "1.5.0",
       "_view_name": "HTMLView",
       "description": "",
       "description_tooltip": null,
       "layout": "IPY_MODEL_968e2989cea6490d9ee08b6700291242",
       "placeholder": "​",
       "style": "IPY_MODEL_929108014ee94c9092394cf7ef09134f",
       "value": "Downloading: 100%"
      }
     },
     "432a848a161c4a0888dad1ac9c5408c3": {
      "model_module": "@jupyter-widgets/controls",
      "model_module_version": "1.5.0",
      "model_name": "FloatProgressModel",
      "state": {
       "_dom_classes": [],
       "_model_module": "@jupyter-widgets/controls",
       "_model_module_version": "1.5.0",
       "_model_name": "FloatProgressModel",
       "_view_count": null,
       "_view_module": "@jupyter-widgets/controls",
       "_view_module_version": "1.5.0",
       "_view_name": "ProgressView",
       "bar_style": "success",
       "description": "",
       "description_tooltip": null,
       "layout": "IPY_MODEL_39512e7ede884ec1b6fe92f794e1d74d",
       "max": 36473,
       "min": 0,
       "orientation": "horizontal",
       "style": "IPY_MODEL_466a744f951d433da986e75bc9fd3b69",
       "value": 36473
      }
     },
     "466a744f951d433da986e75bc9fd3b69": {
      "model_module": "@jupyter-widgets/controls",
      "model_module_version": "1.5.0",
      "model_name": "ProgressStyleModel",
      "state": {
       "_model_module": "@jupyter-widgets/controls",
       "_model_module_version": "1.5.0",
       "_model_name": "ProgressStyleModel",
       "_view_count": null,
       "_view_module": "@jupyter-widgets/base",
       "_view_module_version": "1.2.0",
       "_view_name": "StyleView",
       "bar_color": null,
       "description_width": ""
      }
     },
     "46ab7441760642718f381e7f430e16a0": {
      "model_module": "@jupyter-widgets/controls",
      "model_module_version": "1.5.0",
      "model_name": "DescriptionStyleModel",
      "state": {
       "_model_module": "@jupyter-widgets/controls",
       "_model_module_version": "1.5.0",
       "_model_name": "DescriptionStyleModel",
       "_view_count": null,
       "_view_module": "@jupyter-widgets/base",
       "_view_module_version": "1.2.0",
       "_view_name": "StyleView",
       "description_width": ""
      }
     },
     "48b36757767f4ff39f262dd63e844057": {
      "model_module": "@jupyter-widgets/controls",
      "model_module_version": "1.5.0",
      "model_name": "HTMLModel",
      "state": {
       "_dom_classes": [],
       "_model_module": "@jupyter-widgets/controls",
       "_model_module_version": "1.5.0",
       "_model_name": "HTMLModel",
       "_view_count": null,
       "_view_module": "@jupyter-widgets/controls",
       "_view_module_version": "1.5.0",
       "_view_name": "HTMLView",
       "description": "",
       "description_tooltip": null,
       "layout": "IPY_MODEL_14972cafd36646939e742a987e1d0ec7",
       "placeholder": "​",
       "style": "IPY_MODEL_3e601d15c9ef4bd1b05e70f9267e1dfe",
       "value": "Downloading: 100%"
      }
     },
     "4c514a00a080445da009d272716b3577": {
      "model_module": "@jupyter-widgets/controls",
      "model_module_version": "1.5.0",
      "model_name": "HTMLModel",
      "state": {
       "_dom_classes": [],
       "_model_module": "@jupyter-widgets/controls",
       "_model_module_version": "1.5.0",
       "_model_name": "HTMLModel",
       "_view_count": null,
       "_view_module": "@jupyter-widgets/controls",
       "_view_module_version": "1.5.0",
       "_view_name": "HTMLView",
       "description": "",
       "description_tooltip": null,
       "layout": "IPY_MODEL_81b1213eb9dc4aa083951352d9f6beaf",
       "placeholder": "​",
       "style": "IPY_MODEL_7603cb9268524ed3821b4f307f74d15e",
       "value": "Downloading: 100%"
      }
     },
     "4e94a902a0d44b1eacfaeee99cd470d2": {
      "model_module": "@jupyter-widgets/base",
      "model_module_version": "1.2.0",
      "model_name": "LayoutModel",
      "state": {
       "_model_module": "@jupyter-widgets/base",
       "_model_module_version": "1.2.0",
       "_model_name": "LayoutModel",
       "_view_count": null,
       "_view_module": "@jupyter-widgets/base",
       "_view_module_version": "1.2.0",
       "_view_name": "LayoutView",
       "align_content": null,
       "align_items": null,
       "align_self": null,
       "border": null,
       "bottom": null,
       "display": null,
       "flex": null,
       "flex_flow": null,
       "grid_area": null,
       "grid_auto_columns": null,
       "grid_auto_flow": null,
       "grid_auto_rows": null,
       "grid_column": null,
       "grid_gap": null,
       "grid_row": null,
       "grid_template_areas": null,
       "grid_template_columns": null,
       "grid_template_rows": null,
       "height": null,
       "justify_content": null,
       "justify_items": null,
       "left": null,
       "margin": null,
       "max_height": null,
       "max_width": null,
       "min_height": null,
       "min_width": null,
       "object_fit": null,
       "object_position": null,
       "order": null,
       "overflow": null,
       "overflow_x": null,
       "overflow_y": null,
       "padding": null,
       "right": null,
       "top": null,
       "visibility": null,
       "width": null
      }
     },
     "5235854cc7964193afec8b3316b36ef7": {
      "model_module": "@jupyter-widgets/controls",
      "model_module_version": "1.5.0",
      "model_name": "HBoxModel",
      "state": {
       "_dom_classes": [],
       "_model_module": "@jupyter-widgets/controls",
       "_model_module_version": "1.5.0",
       "_model_name": "HBoxModel",
       "_view_count": null,
       "_view_module": "@jupyter-widgets/controls",
       "_view_module_version": "1.5.0",
       "_view_name": "HBoxView",
       "box_style": "",
       "children": [
        "IPY_MODEL_58c973b1ea8a446e9993f32d3612c8b9",
        "IPY_MODEL_b849e52bd84942e583de4b9325c96afe",
        "IPY_MODEL_291ab6d32ec345ee8adaa6f354bfcfb4"
       ],
       "layout": "IPY_MODEL_fb6b7fc69b2549ab9d80d71017422178"
      }
     },
     "58c973b1ea8a446e9993f32d3612c8b9": {
      "model_module": "@jupyter-widgets/controls",
      "model_module_version": "1.5.0",
      "model_name": "HTMLModel",
      "state": {
       "_dom_classes": [],
       "_model_module": "@jupyter-widgets/controls",
       "_model_module_version": "1.5.0",
       "_model_name": "HTMLModel",
       "_view_count": null,
       "_view_module": "@jupyter-widgets/controls",
       "_view_module_version": "1.5.0",
       "_view_name": "HTMLView",
       "description": "",
       "description_tooltip": null,
       "layout": "IPY_MODEL_360314d0f3254b66818b8a62223c2b0b",
       "placeholder": "​",
       "style": "IPY_MODEL_c5de80b22af543edb57e65780298069e",
       "value": "100%"
      }
     },
     "5a2b3274110a42159fcfb2e01ceea10a": {
      "model_module": "@jupyter-widgets/controls",
      "model_module_version": "1.5.0",
      "model_name": "HBoxModel",
      "state": {
       "_dom_classes": [],
       "_model_module": "@jupyter-widgets/controls",
       "_model_module_version": "1.5.0",
       "_model_name": "HBoxModel",
       "_view_count": null,
       "_view_module": "@jupyter-widgets/controls",
       "_view_module_version": "1.5.0",
       "_view_name": "HBoxView",
       "box_style": "",
       "children": [
        "IPY_MODEL_43014906a0084e288ab06cb3ebf57538",
        "IPY_MODEL_1c5d07635bff4f7999e3e8486f648aaf",
        "IPY_MODEL_3b0ebe22bd154b01bcb4d6b2ab2dec83"
       ],
       "layout": "IPY_MODEL_2373dbe30aca4d64b94b5bb64216151e"
      }
     },
     "5d82f1a2cf554609ba65dfb95dc152e5": {
      "model_module": "@jupyter-widgets/base",
      "model_module_version": "1.2.0",
      "model_name": "LayoutModel",
      "state": {
       "_model_module": "@jupyter-widgets/base",
       "_model_module_version": "1.2.0",
       "_model_name": "LayoutModel",
       "_view_count": null,
       "_view_module": "@jupyter-widgets/base",
       "_view_module_version": "1.2.0",
       "_view_name": "LayoutView",
       "align_content": null,
       "align_items": null,
       "align_self": null,
       "border": null,
       "bottom": null,
       "display": null,
       "flex": null,
       "flex_flow": null,
       "grid_area": null,
       "grid_auto_columns": null,
       "grid_auto_flow": null,
       "grid_auto_rows": null,
       "grid_column": null,
       "grid_gap": null,
       "grid_row": null,
       "grid_template_areas": null,
       "grid_template_columns": null,
       "grid_template_rows": null,
       "height": null,
       "justify_content": null,
       "justify_items": null,
       "left": null,
       "margin": null,
       "max_height": null,
       "max_width": null,
       "min_height": null,
       "min_width": null,
       "object_fit": null,
       "object_position": null,
       "order": null,
       "overflow": null,
       "overflow_x": null,
       "overflow_y": null,
       "padding": null,
       "right": null,
       "top": null,
       "visibility": null,
       "width": null
      }
     },
     "5ffb53b010e948a0918366a7721dd7a9": {
      "model_module": "@jupyter-widgets/controls",
      "model_module_version": "1.5.0",
      "model_name": "LabelModel",
      "state": {
       "_dom_classes": [],
       "_model_module": "@jupyter-widgets/controls",
       "_model_module_version": "1.5.0",
       "_model_name": "LabelModel",
       "_view_count": null,
       "_view_module": "@jupyter-widgets/controls",
       "_view_module_version": "1.5.0",
       "_view_name": "LabelView",
       "description": "",
       "description_tooltip": null,
       "layout": "IPY_MODEL_aaf4c8e1ae794178bd2db64c5c27edcd",
       "placeholder": "​",
       "style": "IPY_MODEL_ff0d93c0f2a54cae8698028db31d1454",
       "value": "0.065 MB of 0.065 MB uploaded (0.000 MB deduped)\r"
      }
     },
     "65f9dfd885184f818373dcaf8b820da7": {
      "model_module": "@jupyter-widgets/base",
      "model_module_version": "1.2.0",
      "model_name": "LayoutModel",
      "state": {
       "_model_module": "@jupyter-widgets/base",
       "_model_module_version": "1.2.0",
       "_model_name": "LayoutModel",
       "_view_count": null,
       "_view_module": "@jupyter-widgets/base",
       "_view_module_version": "1.2.0",
       "_view_name": "LayoutView",
       "align_content": null,
       "align_items": null,
       "align_self": null,
       "border": null,
       "bottom": null,
       "display": null,
       "flex": null,
       "flex_flow": null,
       "grid_area": null,
       "grid_auto_columns": null,
       "grid_auto_flow": null,
       "grid_auto_rows": null,
       "grid_column": null,
       "grid_gap": null,
       "grid_row": null,
       "grid_template_areas": null,
       "grid_template_columns": null,
       "grid_template_rows": null,
       "height": null,
       "justify_content": null,
       "justify_items": null,
       "left": null,
       "margin": null,
       "max_height": null,
       "max_width": null,
       "min_height": null,
       "min_width": null,
       "object_fit": null,
       "object_position": null,
       "order": null,
       "overflow": null,
       "overflow_x": null,
       "overflow_y": null,
       "padding": null,
       "right": null,
       "top": null,
       "visibility": null,
       "width": null
      }
     },
     "673fb48e7dca47f4a3754d06af7dcf1f": {
      "model_module": "@jupyter-widgets/controls",
      "model_module_version": "1.5.0",
      "model_name": "HTMLModel",
      "state": {
       "_dom_classes": [],
       "_model_module": "@jupyter-widgets/controls",
       "_model_module_version": "1.5.0",
       "_model_name": "HTMLModel",
       "_view_count": null,
       "_view_module": "@jupyter-widgets/controls",
       "_view_module_version": "1.5.0",
       "_view_name": "HTMLView",
       "description": "",
       "description_tooltip": null,
       "layout": "IPY_MODEL_749c407f4aa34689954d06117f699f3c",
       "placeholder": "​",
       "style": "IPY_MODEL_bb944cd3fb694105a4d535f4e9c333a8",
       "value": "100%"
      }
     },
     "6947506e822e46d99b4dd82a8a4209cd": {
      "model_module": "@jupyter-widgets/base",
      "model_module_version": "1.2.0",
      "model_name": "LayoutModel",
      "state": {
       "_model_module": "@jupyter-widgets/base",
       "_model_module_version": "1.2.0",
       "_model_name": "LayoutModel",
       "_view_count": null,
       "_view_module": "@jupyter-widgets/base",
       "_view_module_version": "1.2.0",
       "_view_name": "LayoutView",
       "align_content": null,
       "align_items": null,
       "align_self": null,
       "border": null,
       "bottom": null,
       "display": null,
       "flex": null,
       "flex_flow": null,
       "grid_area": null,
       "grid_auto_columns": null,
       "grid_auto_flow": null,
       "grid_auto_rows": null,
       "grid_column": null,
       "grid_gap": null,
       "grid_row": null,
       "grid_template_areas": null,
       "grid_template_columns": null,
       "grid_template_rows": null,
       "height": null,
       "justify_content": null,
       "justify_items": null,
       "left": null,
       "margin": null,
       "max_height": null,
       "max_width": null,
       "min_height": null,
       "min_width": null,
       "object_fit": null,
       "object_position": null,
       "order": null,
       "overflow": null,
       "overflow_x": null,
       "overflow_y": null,
       "padding": null,
       "right": null,
       "top": null,
       "visibility": null,
       "width": null
      }
     },
     "749c407f4aa34689954d06117f699f3c": {
      "model_module": "@jupyter-widgets/base",
      "model_module_version": "1.2.0",
      "model_name": "LayoutModel",
      "state": {
       "_model_module": "@jupyter-widgets/base",
       "_model_module_version": "1.2.0",
       "_model_name": "LayoutModel",
       "_view_count": null,
       "_view_module": "@jupyter-widgets/base",
       "_view_module_version": "1.2.0",
       "_view_name": "LayoutView",
       "align_content": null,
       "align_items": null,
       "align_self": null,
       "border": null,
       "bottom": null,
       "display": null,
       "flex": null,
       "flex_flow": null,
       "grid_area": null,
       "grid_auto_columns": null,
       "grid_auto_flow": null,
       "grid_auto_rows": null,
       "grid_column": null,
       "grid_gap": null,
       "grid_row": null,
       "grid_template_areas": null,
       "grid_template_columns": null,
       "grid_template_rows": null,
       "height": null,
       "justify_content": null,
       "justify_items": null,
       "left": null,
       "margin": null,
       "max_height": null,
       "max_width": null,
       "min_height": null,
       "min_width": null,
       "object_fit": null,
       "object_position": null,
       "order": null,
       "overflow": null,
       "overflow_x": null,
       "overflow_y": null,
       "padding": null,
       "right": null,
       "top": null,
       "visibility": null,
       "width": null
      }
     },
     "7603cb9268524ed3821b4f307f74d15e": {
      "model_module": "@jupyter-widgets/controls",
      "model_module_version": "1.5.0",
      "model_name": "DescriptionStyleModel",
      "state": {
       "_model_module": "@jupyter-widgets/controls",
       "_model_module_version": "1.5.0",
       "_model_name": "DescriptionStyleModel",
       "_view_count": null,
       "_view_module": "@jupyter-widgets/base",
       "_view_module_version": "1.2.0",
       "_view_name": "StyleView",
       "description_width": ""
      }
     },
     "7d211c0746b64a0b935fa964ad7bd858": {
      "model_module": "@jupyter-widgets/controls",
      "model_module_version": "1.5.0",
      "model_name": "HTMLModel",
      "state": {
       "_dom_classes": [],
       "_model_module": "@jupyter-widgets/controls",
       "_model_module_version": "1.5.0",
       "_model_name": "HTMLModel",
       "_view_count": null,
       "_view_module": "@jupyter-widgets/controls",
       "_view_module_version": "1.5.0",
       "_view_name": "HTMLView",
       "description": "",
       "description_tooltip": null,
       "layout": "IPY_MODEL_f836cfd56e0d4d7188f1b263a5845bff",
       "placeholder": "​",
       "style": "IPY_MODEL_a87f939ae9cb44bf8d9eed523f5cb995",
       "value": "100%"
      }
     },
     "7fb6ee0e688440bab23c07808e5cef8b": {
      "model_module": "@jupyter-widgets/controls",
      "model_module_version": "1.5.0",
      "model_name": "FloatProgressModel",
      "state": {
       "_dom_classes": [],
       "_model_module": "@jupyter-widgets/controls",
       "_model_module_version": "1.5.0",
       "_model_name": "FloatProgressModel",
       "_view_count": null,
       "_view_module": "@jupyter-widgets/controls",
       "_view_module_version": "1.5.0",
       "_view_name": "ProgressView",
       "bar_style": "success",
       "description": "",
       "description_tooltip": null,
       "layout": "IPY_MODEL_c0dcc3eeec934d289bf99c7d14bab090",
       "max": 873673253,
       "min": 0,
       "orientation": "horizontal",
       "style": "IPY_MODEL_c4ff773d63e34e0c93e23aa455a97958",
       "value": 873673253
      }
     },
     "80f827d24b2e421bbe84d92c8dcc002b": {
      "model_module": "@jupyter-widgets/base",
      "model_module_version": "1.2.0",
      "model_name": "LayoutModel",
      "state": {
       "_model_module": "@jupyter-widgets/base",
       "_model_module_version": "1.2.0",
       "_model_name": "LayoutModel",
       "_view_count": null,
       "_view_module": "@jupyter-widgets/base",
       "_view_module_version": "1.2.0",
       "_view_name": "LayoutView",
       "align_content": null,
       "align_items": null,
       "align_self": null,
       "border": null,
       "bottom": null,
       "display": null,
       "flex": null,
       "flex_flow": null,
       "grid_area": null,
       "grid_auto_columns": null,
       "grid_auto_flow": null,
       "grid_auto_rows": null,
       "grid_column": null,
       "grid_gap": null,
       "grid_row": null,
       "grid_template_areas": null,
       "grid_template_columns": null,
       "grid_template_rows": null,
       "height": null,
       "justify_content": null,
       "justify_items": null,
       "left": null,
       "margin": null,
       "max_height": null,
       "max_width": null,
       "min_height": null,
       "min_width": null,
       "object_fit": null,
       "object_position": null,
       "order": null,
       "overflow": null,
       "overflow_x": null,
       "overflow_y": null,
       "padding": null,
       "right": null,
       "top": null,
       "visibility": null,
       "width": null
      }
     },
     "81b1213eb9dc4aa083951352d9f6beaf": {
      "model_module": "@jupyter-widgets/base",
      "model_module_version": "1.2.0",
      "model_name": "LayoutModel",
      "state": {
       "_model_module": "@jupyter-widgets/base",
       "_model_module_version": "1.2.0",
       "_model_name": "LayoutModel",
       "_view_count": null,
       "_view_module": "@jupyter-widgets/base",
       "_view_module_version": "1.2.0",
       "_view_name": "LayoutView",
       "align_content": null,
       "align_items": null,
       "align_self": null,
       "border": null,
       "bottom": null,
       "display": null,
       "flex": null,
       "flex_flow": null,
       "grid_area": null,
       "grid_auto_columns": null,
       "grid_auto_flow": null,
       "grid_auto_rows": null,
       "grid_column": null,
       "grid_gap": null,
       "grid_row": null,
       "grid_template_areas": null,
       "grid_template_columns": null,
       "grid_template_rows": null,
       "height": null,
       "justify_content": null,
       "justify_items": null,
       "left": null,
       "margin": null,
       "max_height": null,
       "max_width": null,
       "min_height": null,
       "min_width": null,
       "object_fit": null,
       "object_position": null,
       "order": null,
       "overflow": null,
       "overflow_x": null,
       "overflow_y": null,
       "padding": null,
       "right": null,
       "top": null,
       "visibility": null,
       "width": null
      }
     },
     "82f268442b1349268246323595e0f371": {
      "model_module": "@jupyter-widgets/controls",
      "model_module_version": "1.5.0",
      "model_name": "HBoxModel",
      "state": {
       "_dom_classes": [],
       "_model_module": "@jupyter-widgets/controls",
       "_model_module_version": "1.5.0",
       "_model_name": "HBoxModel",
       "_view_count": null,
       "_view_module": "@jupyter-widgets/controls",
       "_view_module_version": "1.5.0",
       "_view_name": "HBoxView",
       "box_style": "",
       "children": [
        "IPY_MODEL_4c514a00a080445da009d272716b3577",
        "IPY_MODEL_b4e52efc58b54c81a39fa8e5fc26eedd",
        "IPY_MODEL_a1cafe17bdf945aa8a33875d0590f7a2"
       ],
       "layout": "IPY_MODEL_65f9dfd885184f818373dcaf8b820da7"
      }
     },
     "842a840396ab4cefb93cc2733bf00cf7": {
      "model_module": "@jupyter-widgets/controls",
      "model_module_version": "1.5.0",
      "model_name": "DescriptionStyleModel",
      "state": {
       "_model_module": "@jupyter-widgets/controls",
       "_model_module_version": "1.5.0",
       "_model_name": "DescriptionStyleModel",
       "_view_count": null,
       "_view_module": "@jupyter-widgets/base",
       "_view_module_version": "1.2.0",
       "_view_name": "StyleView",
       "description_width": ""
      }
     },
     "86af7db3cea442beb67da28063f15ed6": {
      "model_module": "@jupyter-widgets/controls",
      "model_module_version": "1.5.0",
      "model_name": "FloatProgressModel",
      "state": {
       "_dom_classes": [],
       "_model_module": "@jupyter-widgets/controls",
       "_model_module_version": "1.5.0",
       "_model_name": "FloatProgressModel",
       "_view_count": null,
       "_view_module": "@jupyter-widgets/controls",
       "_view_module_version": "1.5.0",
       "_view_name": "ProgressView",
       "bar_style": "",
       "description": "",
       "description_tooltip": null,
       "layout": "IPY_MODEL_be8bbaca794c4ab0b387c44fc3d2637f",
       "max": 1,
       "min": 0,
       "orientation": "horizontal",
       "style": "IPY_MODEL_126a1e5f24e44838a03204815209c5dc",
       "value": 1
      }
     },
     "87214ce12c1f422481a0fe3caf5a3ce8": {
      "model_module": "@jupyter-widgets/base",
      "model_module_version": "1.2.0",
      "model_name": "LayoutModel",
      "state": {
       "_model_module": "@jupyter-widgets/base",
       "_model_module_version": "1.2.0",
       "_model_name": "LayoutModel",
       "_view_count": null,
       "_view_module": "@jupyter-widgets/base",
       "_view_module_version": "1.2.0",
       "_view_name": "LayoutView",
       "align_content": null,
       "align_items": null,
       "align_self": null,
       "border": null,
       "bottom": null,
       "display": null,
       "flex": null,
       "flex_flow": null,
       "grid_area": null,
       "grid_auto_columns": null,
       "grid_auto_flow": null,
       "grid_auto_rows": null,
       "grid_column": null,
       "grid_gap": null,
       "grid_row": null,
       "grid_template_areas": null,
       "grid_template_columns": null,
       "grid_template_rows": null,
       "height": null,
       "justify_content": null,
       "justify_items": null,
       "left": null,
       "margin": null,
       "max_height": null,
       "max_width": null,
       "min_height": null,
       "min_width": null,
       "object_fit": null,
       "object_position": null,
       "order": null,
       "overflow": null,
       "overflow_x": null,
       "overflow_y": null,
       "padding": null,
       "right": null,
       "top": null,
       "visibility": null,
       "width": null
      }
     },
     "874dcbcfa5c94b938abebb1c7d00007c": {
      "model_module": "@jupyter-widgets/controls",
      "model_module_version": "1.5.0",
      "model_name": "ProgressStyleModel",
      "state": {
       "_model_module": "@jupyter-widgets/controls",
       "_model_module_version": "1.5.0",
       "_model_name": "ProgressStyleModel",
       "_view_count": null,
       "_view_module": "@jupyter-widgets/base",
       "_view_module_version": "1.2.0",
       "_view_name": "StyleView",
       "bar_color": null,
       "description_width": ""
      }
     },
     "8ae7b72a5b9f4533a2076af3fb7786bd": {
      "model_module": "@jupyter-widgets/controls",
      "model_module_version": "1.5.0",
      "model_name": "DescriptionStyleModel",
      "state": {
       "_model_module": "@jupyter-widgets/controls",
       "_model_module_version": "1.5.0",
       "_model_name": "DescriptionStyleModel",
       "_view_count": null,
       "_view_module": "@jupyter-widgets/base",
       "_view_module_version": "1.2.0",
       "_view_name": "StyleView",
       "description_width": ""
      }
     },
     "929108014ee94c9092394cf7ef09134f": {
      "model_module": "@jupyter-widgets/controls",
      "model_module_version": "1.5.0",
      "model_name": "DescriptionStyleModel",
      "state": {
       "_model_module": "@jupyter-widgets/controls",
       "_model_module_version": "1.5.0",
       "_model_name": "DescriptionStyleModel",
       "_view_count": null,
       "_view_module": "@jupyter-widgets/base",
       "_view_module_version": "1.2.0",
       "_view_name": "StyleView",
       "description_width": ""
      }
     },
     "968e2989cea6490d9ee08b6700291242": {
      "model_module": "@jupyter-widgets/base",
      "model_module_version": "1.2.0",
      "model_name": "LayoutModel",
      "state": {
       "_model_module": "@jupyter-widgets/base",
       "_model_module_version": "1.2.0",
       "_model_name": "LayoutModel",
       "_view_count": null,
       "_view_module": "@jupyter-widgets/base",
       "_view_module_version": "1.2.0",
       "_view_name": "LayoutView",
       "align_content": null,
       "align_items": null,
       "align_self": null,
       "border": null,
       "bottom": null,
       "display": null,
       "flex": null,
       "flex_flow": null,
       "grid_area": null,
       "grid_auto_columns": null,
       "grid_auto_flow": null,
       "grid_auto_rows": null,
       "grid_column": null,
       "grid_gap": null,
       "grid_row": null,
       "grid_template_areas": null,
       "grid_template_columns": null,
       "grid_template_rows": null,
       "height": null,
       "justify_content": null,
       "justify_items": null,
       "left": null,
       "margin": null,
       "max_height": null,
       "max_width": null,
       "min_height": null,
       "min_width": null,
       "object_fit": null,
       "object_position": null,
       "order": null,
       "overflow": null,
       "overflow_x": null,
       "overflow_y": null,
       "padding": null,
       "right": null,
       "top": null,
       "visibility": null,
       "width": null
      }
     },
     "9901f18e7e5841b8bfcb918c432ef718": {
      "model_module": "@jupyter-widgets/base",
      "model_module_version": "1.2.0",
      "model_name": "LayoutModel",
      "state": {
       "_model_module": "@jupyter-widgets/base",
       "_model_module_version": "1.2.0",
       "_model_name": "LayoutModel",
       "_view_count": null,
       "_view_module": "@jupyter-widgets/base",
       "_view_module_version": "1.2.0",
       "_view_name": "LayoutView",
       "align_content": null,
       "align_items": null,
       "align_self": null,
       "border": null,
       "bottom": null,
       "display": null,
       "flex": null,
       "flex_flow": null,
       "grid_area": null,
       "grid_auto_columns": null,
       "grid_auto_flow": null,
       "grid_auto_rows": null,
       "grid_column": null,
       "grid_gap": null,
       "grid_row": null,
       "grid_template_areas": null,
       "grid_template_columns": null,
       "grid_template_rows": null,
       "height": null,
       "justify_content": null,
       "justify_items": null,
       "left": null,
       "margin": null,
       "max_height": null,
       "max_width": null,
       "min_height": null,
       "min_width": null,
       "object_fit": null,
       "object_position": null,
       "order": null,
       "overflow": null,
       "overflow_x": null,
       "overflow_y": null,
       "padding": null,
       "right": null,
       "top": null,
       "visibility": null,
       "width": null
      }
     },
     "9d403276e05f4c368e46f353070b9d9a": {
      "model_module": "@jupyter-widgets/base",
      "model_module_version": "1.2.0",
      "model_name": "LayoutModel",
      "state": {
       "_model_module": "@jupyter-widgets/base",
       "_model_module_version": "1.2.0",
       "_model_name": "LayoutModel",
       "_view_count": null,
       "_view_module": "@jupyter-widgets/base",
       "_view_module_version": "1.2.0",
       "_view_name": "LayoutView",
       "align_content": null,
       "align_items": null,
       "align_self": null,
       "border": null,
       "bottom": null,
       "display": null,
       "flex": null,
       "flex_flow": null,
       "grid_area": null,
       "grid_auto_columns": null,
       "grid_auto_flow": null,
       "grid_auto_rows": null,
       "grid_column": null,
       "grid_gap": null,
       "grid_row": null,
       "grid_template_areas": null,
       "grid_template_columns": null,
       "grid_template_rows": null,
       "height": null,
       "justify_content": null,
       "justify_items": null,
       "left": null,
       "margin": null,
       "max_height": null,
       "max_width": null,
       "min_height": null,
       "min_width": null,
       "object_fit": null,
       "object_position": null,
       "order": null,
       "overflow": null,
       "overflow_x": null,
       "overflow_y": null,
       "padding": null,
       "right": null,
       "top": null,
       "visibility": null,
       "width": null
      }
     },
     "a03e24ff8fc54bccaa69e36839b36bab": {
      "model_module": "@jupyter-widgets/controls",
      "model_module_version": "1.5.0",
      "model_name": "FloatProgressModel",
      "state": {
       "_dom_classes": [],
       "_model_module": "@jupyter-widgets/controls",
       "_model_module_version": "1.5.0",
       "_model_name": "FloatProgressModel",
       "_view_count": null,
       "_view_module": "@jupyter-widgets/controls",
       "_view_module_version": "1.5.0",
       "_view_name": "ProgressView",
       "bar_style": "success",
       "description": "",
       "description_tooltip": null,
       "layout": "IPY_MODEL_80f827d24b2e421bbe84d92c8dcc002b",
       "max": 580,
       "min": 0,
       "orientation": "horizontal",
       "style": "IPY_MODEL_349e43c8d4114c36823434cef63fc567",
       "value": 580
      }
     },
     "a1cafe17bdf945aa8a33875d0590f7a2": {
      "model_module": "@jupyter-widgets/controls",
      "model_module_version": "1.5.0",
      "model_name": "HTMLModel",
      "state": {
       "_dom_classes": [],
       "_model_module": "@jupyter-widgets/controls",
       "_model_module_version": "1.5.0",
       "_model_name": "HTMLModel",
       "_view_count": null,
       "_view_module": "@jupyter-widgets/controls",
       "_view_module_version": "1.5.0",
       "_view_name": "HTMLView",
       "description": "",
       "description_tooltip": null,
       "layout": "IPY_MODEL_dd68281fe7ea499882e5d23a5bbfb9f0",
       "placeholder": "​",
       "style": "IPY_MODEL_8ae7b72a5b9f4533a2076af3fb7786bd",
       "value": " 52.0/52.0 [00:00&lt;00:00, 2.03kB/s]"
      }
     },
     "a3f3db4032b54ac49421d5cbd31a9533": {
      "model_module": "@jupyter-widgets/base",
      "model_module_version": "1.2.0",
      "model_name": "LayoutModel",
      "state": {
       "_model_module": "@jupyter-widgets/base",
       "_model_module_version": "1.2.0",
       "_model_name": "LayoutModel",
       "_view_count": null,
       "_view_module": "@jupyter-widgets/base",
       "_view_module_version": "1.2.0",
       "_view_name": "LayoutView",
       "align_content": null,
       "align_items": null,
       "align_self": null,
       "border": null,
       "bottom": null,
       "display": null,
       "flex": null,
       "flex_flow": null,
       "grid_area": null,
       "grid_auto_columns": null,
       "grid_auto_flow": null,
       "grid_auto_rows": null,
       "grid_column": null,
       "grid_gap": null,
       "grid_row": null,
       "grid_template_areas": null,
       "grid_template_columns": null,
       "grid_template_rows": null,
       "height": null,
       "justify_content": null,
       "justify_items": null,
       "left": null,
       "margin": null,
       "max_height": null,
       "max_width": null,
       "min_height": null,
       "min_width": null,
       "object_fit": null,
       "object_position": null,
       "order": null,
       "overflow": null,
       "overflow_x": null,
       "overflow_y": null,
       "padding": null,
       "right": null,
       "top": null,
       "visibility": null,
       "width": null
      }
     },
     "a87f939ae9cb44bf8d9eed523f5cb995": {
      "model_module": "@jupyter-widgets/controls",
      "model_module_version": "1.5.0",
      "model_name": "DescriptionStyleModel",
      "state": {
       "_model_module": "@jupyter-widgets/controls",
       "_model_module_version": "1.5.0",
       "_model_name": "DescriptionStyleModel",
       "_view_count": null,
       "_view_module": "@jupyter-widgets/base",
       "_view_module_version": "1.2.0",
       "_view_name": "StyleView",
       "description_width": ""
      }
     },
     "aaf4c8e1ae794178bd2db64c5c27edcd": {
      "model_module": "@jupyter-widgets/base",
      "model_module_version": "1.2.0",
      "model_name": "LayoutModel",
      "state": {
       "_model_module": "@jupyter-widgets/base",
       "_model_module_version": "1.2.0",
       "_model_name": "LayoutModel",
       "_view_count": null,
       "_view_module": "@jupyter-widgets/base",
       "_view_module_version": "1.2.0",
       "_view_name": "LayoutView",
       "align_content": null,
       "align_items": null,
       "align_self": null,
       "border": null,
       "bottom": null,
       "display": null,
       "flex": null,
       "flex_flow": null,
       "grid_area": null,
       "grid_auto_columns": null,
       "grid_auto_flow": null,
       "grid_auto_rows": null,
       "grid_column": null,
       "grid_gap": null,
       "grid_row": null,
       "grid_template_areas": null,
       "grid_template_columns": null,
       "grid_template_rows": null,
       "height": null,
       "justify_content": null,
       "justify_items": null,
       "left": null,
       "margin": null,
       "max_height": null,
       "max_width": null,
       "min_height": null,
       "min_width": null,
       "object_fit": null,
       "object_position": null,
       "order": null,
       "overflow": null,
       "overflow_x": null,
       "overflow_y": null,
       "padding": null,
       "right": null,
       "top": null,
       "visibility": null,
       "width": null
      }
     },
     "ab615699cb634117a739e8673396b52d": {
      "model_module": "@jupyter-widgets/controls",
      "model_module_version": "1.5.0",
      "model_name": "ProgressStyleModel",
      "state": {
       "_model_module": "@jupyter-widgets/controls",
       "_model_module_version": "1.5.0",
       "_model_name": "ProgressStyleModel",
       "_view_count": null,
       "_view_module": "@jupyter-widgets/base",
       "_view_module_version": "1.2.0",
       "_view_name": "StyleView",
       "bar_color": null,
       "description_width": ""
      }
     },
     "ad4745f1eca942009bdf6cf12913f34a": {
      "model_module": "@jupyter-widgets/base",
      "model_module_version": "1.2.0",
      "model_name": "LayoutModel",
      "state": {
       "_model_module": "@jupyter-widgets/base",
       "_model_module_version": "1.2.0",
       "_model_name": "LayoutModel",
       "_view_count": null,
       "_view_module": "@jupyter-widgets/base",
       "_view_module_version": "1.2.0",
       "_view_name": "LayoutView",
       "align_content": null,
       "align_items": null,
       "align_self": null,
       "border": null,
       "bottom": null,
       "display": null,
       "flex": null,
       "flex_flow": null,
       "grid_area": null,
       "grid_auto_columns": null,
       "grid_auto_flow": null,
       "grid_auto_rows": null,
       "grid_column": null,
       "grid_gap": null,
       "grid_row": null,
       "grid_template_areas": null,
       "grid_template_columns": null,
       "grid_template_rows": null,
       "height": null,
       "justify_content": null,
       "justify_items": null,
       "left": null,
       "margin": null,
       "max_height": null,
       "max_width": null,
       "min_height": null,
       "min_width": null,
       "object_fit": null,
       "object_position": null,
       "order": null,
       "overflow": null,
       "overflow_x": null,
       "overflow_y": null,
       "padding": null,
       "right": null,
       "top": null,
       "visibility": null,
       "width": null
      }
     },
     "ad6386dafce545c48eac271bb2a3c0dd": {
      "model_module": "@jupyter-widgets/controls",
      "model_module_version": "1.5.0",
      "model_name": "DescriptionStyleModel",
      "state": {
       "_model_module": "@jupyter-widgets/controls",
       "_model_module_version": "1.5.0",
       "_model_name": "DescriptionStyleModel",
       "_view_count": null,
       "_view_module": "@jupyter-widgets/base",
       "_view_module_version": "1.2.0",
       "_view_name": "StyleView",
       "description_width": ""
      }
     },
     "b4e52efc58b54c81a39fa8e5fc26eedd": {
      "model_module": "@jupyter-widgets/controls",
      "model_module_version": "1.5.0",
      "model_name": "FloatProgressModel",
      "state": {
       "_dom_classes": [],
       "_model_module": "@jupyter-widgets/controls",
       "_model_module_version": "1.5.0",
       "_model_name": "FloatProgressModel",
       "_view_count": null,
       "_view_module": "@jupyter-widgets/controls",
       "_view_module_version": "1.5.0",
       "_view_name": "ProgressView",
       "bar_style": "success",
       "description": "",
       "description_tooltip": null,
       "layout": "IPY_MODEL_6947506e822e46d99b4dd82a8a4209cd",
       "max": 52,
       "min": 0,
       "orientation": "horizontal",
       "style": "IPY_MODEL_874dcbcfa5c94b938abebb1c7d00007c",
       "value": 52
      }
     },
     "b6f3605957844ac0b026ef0593befbae": {
      "model_module": "@jupyter-widgets/base",
      "model_module_version": "1.2.0",
      "model_name": "LayoutModel",
      "state": {
       "_model_module": "@jupyter-widgets/base",
       "_model_module_version": "1.2.0",
       "_model_name": "LayoutModel",
       "_view_count": null,
       "_view_module": "@jupyter-widgets/base",
       "_view_module_version": "1.2.0",
       "_view_name": "LayoutView",
       "align_content": null,
       "align_items": null,
       "align_self": null,
       "border": null,
       "bottom": null,
       "display": null,
       "flex": null,
       "flex_flow": null,
       "grid_area": null,
       "grid_auto_columns": null,
       "grid_auto_flow": null,
       "grid_auto_rows": null,
       "grid_column": null,
       "grid_gap": null,
       "grid_row": null,
       "grid_template_areas": null,
       "grid_template_columns": null,
       "grid_template_rows": null,
       "height": null,
       "justify_content": null,
       "justify_items": null,
       "left": null,
       "margin": null,
       "max_height": null,
       "max_width": null,
       "min_height": null,
       "min_width": null,
       "object_fit": null,
       "object_position": null,
       "order": null,
       "overflow": null,
       "overflow_x": null,
       "overflow_y": null,
       "padding": null,
       "right": null,
       "top": null,
       "visibility": null,
       "width": null
      }
     },
     "b849e52bd84942e583de4b9325c96afe": {
      "model_module": "@jupyter-widgets/controls",
      "model_module_version": "1.5.0",
      "model_name": "FloatProgressModel",
      "state": {
       "_dom_classes": [],
       "_model_module": "@jupyter-widgets/controls",
       "_model_module_version": "1.5.0",
       "_model_name": "FloatProgressModel",
       "_view_count": null,
       "_view_module": "@jupyter-widgets/controls",
       "_view_module_version": "1.5.0",
       "_view_name": "ProgressView",
       "bar_style": "success",
       "description": "",
       "description_tooltip": null,
       "layout": "IPY_MODEL_341389680b6a43d8b6b3de95dffca671",
       "max": 36473,
       "min": 0,
       "orientation": "horizontal",
       "style": "IPY_MODEL_ab615699cb634117a739e8673396b52d",
       "value": 36473
      }
     },
     "ba8f6b6e291a4d6faae41e5e6921f4aa": {
      "model_module": "@jupyter-widgets/base",
      "model_module_version": "1.2.0",
      "model_name": "LayoutModel",
      "state": {
       "_model_module": "@jupyter-widgets/base",
       "_model_module_version": "1.2.0",
       "_model_name": "LayoutModel",
       "_view_count": null,
       "_view_module": "@jupyter-widgets/base",
       "_view_module_version": "1.2.0",
       "_view_name": "LayoutView",
       "align_content": null,
       "align_items": null,
       "align_self": null,
       "border": null,
       "bottom": null,
       "display": null,
       "flex": null,
       "flex_flow": null,
       "grid_area": null,
       "grid_auto_columns": null,
       "grid_auto_flow": null,
       "grid_auto_rows": null,
       "grid_column": null,
       "grid_gap": null,
       "grid_row": null,
       "grid_template_areas": null,
       "grid_template_columns": null,
       "grid_template_rows": null,
       "height": null,
       "justify_content": null,
       "justify_items": null,
       "left": null,
       "margin": null,
       "max_height": null,
       "max_width": null,
       "min_height": null,
       "min_width": null,
       "object_fit": null,
       "object_position": null,
       "order": null,
       "overflow": null,
       "overflow_x": null,
       "overflow_y": null,
       "padding": null,
       "right": null,
       "top": null,
       "visibility": null,
       "width": null
      }
     },
     "bb944cd3fb694105a4d535f4e9c333a8": {
      "model_module": "@jupyter-widgets/controls",
      "model_module_version": "1.5.0",
      "model_name": "DescriptionStyleModel",
      "state": {
       "_model_module": "@jupyter-widgets/controls",
       "_model_module_version": "1.5.0",
       "_model_name": "DescriptionStyleModel",
       "_view_count": null,
       "_view_module": "@jupyter-widgets/base",
       "_view_module_version": "1.2.0",
       "_view_name": "StyleView",
       "description_width": ""
      }
     },
     "bba517b096dd460cb764ccd71b57f148": {
      "model_module": "@jupyter-widgets/controls",
      "model_module_version": "1.5.0",
      "model_name": "FloatProgressModel",
      "state": {
       "_dom_classes": [],
       "_model_module": "@jupyter-widgets/controls",
       "_model_module_version": "1.5.0",
       "_model_name": "FloatProgressModel",
       "_view_count": null,
       "_view_module": "@jupyter-widgets/controls",
       "_view_module_version": "1.5.0",
       "_view_name": "ProgressView",
       "bar_style": "success",
       "description": "",
       "description_tooltip": null,
       "layout": "IPY_MODEL_ba8f6b6e291a4d6faae41e5e6921f4aa",
       "max": 136,
       "min": 0,
       "orientation": "horizontal",
       "style": "IPY_MODEL_ec381745899e4ce7900c973c72d2ff3b",
       "value": 136
      }
     },
     "be8bbaca794c4ab0b387c44fc3d2637f": {
      "model_module": "@jupyter-widgets/base",
      "model_module_version": "1.2.0",
      "model_name": "LayoutModel",
      "state": {
       "_model_module": "@jupyter-widgets/base",
       "_model_module_version": "1.2.0",
       "_model_name": "LayoutModel",
       "_view_count": null,
       "_view_module": "@jupyter-widgets/base",
       "_view_module_version": "1.2.0",
       "_view_name": "LayoutView",
       "align_content": null,
       "align_items": null,
       "align_self": null,
       "border": null,
       "bottom": null,
       "display": null,
       "flex": null,
       "flex_flow": null,
       "grid_area": null,
       "grid_auto_columns": null,
       "grid_auto_flow": null,
       "grid_auto_rows": null,
       "grid_column": null,
       "grid_gap": null,
       "grid_row": null,
       "grid_template_areas": null,
       "grid_template_columns": null,
       "grid_template_rows": null,
       "height": null,
       "justify_content": null,
       "justify_items": null,
       "left": null,
       "margin": null,
       "max_height": null,
       "max_width": null,
       "min_height": null,
       "min_width": null,
       "object_fit": null,
       "object_position": null,
       "order": null,
       "overflow": null,
       "overflow_x": null,
       "overflow_y": null,
       "padding": null,
       "right": null,
       "top": null,
       "visibility": null,
       "width": null
      }
     },
     "c0dcc3eeec934d289bf99c7d14bab090": {
      "model_module": "@jupyter-widgets/base",
      "model_module_version": "1.2.0",
      "model_name": "LayoutModel",
      "state": {
       "_model_module": "@jupyter-widgets/base",
       "_model_module_version": "1.2.0",
       "_model_name": "LayoutModel",
       "_view_count": null,
       "_view_module": "@jupyter-widgets/base",
       "_view_module_version": "1.2.0",
       "_view_name": "LayoutView",
       "align_content": null,
       "align_items": null,
       "align_self": null,
       "border": null,
       "bottom": null,
       "display": null,
       "flex": null,
       "flex_flow": null,
       "grid_area": null,
       "grid_auto_columns": null,
       "grid_auto_flow": null,
       "grid_auto_rows": null,
       "grid_column": null,
       "grid_gap": null,
       "grid_row": null,
       "grid_template_areas": null,
       "grid_template_columns": null,
       "grid_template_rows": null,
       "height": null,
       "justify_content": null,
       "justify_items": null,
       "left": null,
       "margin": null,
       "max_height": null,
       "max_width": null,
       "min_height": null,
       "min_width": null,
       "object_fit": null,
       "object_position": null,
       "order": null,
       "overflow": null,
       "overflow_x": null,
       "overflow_y": null,
       "padding": null,
       "right": null,
       "top": null,
       "visibility": null,
       "width": null
      }
     },
     "c1e8e53062324cf38fbd75eab01e066a": {
      "model_module": "@jupyter-widgets/base",
      "model_module_version": "1.2.0",
      "model_name": "LayoutModel",
      "state": {
       "_model_module": "@jupyter-widgets/base",
       "_model_module_version": "1.2.0",
       "_model_name": "LayoutModel",
       "_view_count": null,
       "_view_module": "@jupyter-widgets/base",
       "_view_module_version": "1.2.0",
       "_view_name": "LayoutView",
       "align_content": null,
       "align_items": null,
       "align_self": null,
       "border": null,
       "bottom": null,
       "display": null,
       "flex": null,
       "flex_flow": null,
       "grid_area": null,
       "grid_auto_columns": null,
       "grid_auto_flow": null,
       "grid_auto_rows": null,
       "grid_column": null,
       "grid_gap": null,
       "grid_row": null,
       "grid_template_areas": null,
       "grid_template_columns": null,
       "grid_template_rows": null,
       "height": null,
       "justify_content": null,
       "justify_items": null,
       "left": null,
       "margin": null,
       "max_height": null,
       "max_width": null,
       "min_height": null,
       "min_width": null,
       "object_fit": null,
       "object_position": null,
       "order": null,
       "overflow": null,
       "overflow_x": null,
       "overflow_y": null,
       "padding": null,
       "right": null,
       "top": null,
       "visibility": null,
       "width": null
      }
     },
     "c4ff773d63e34e0c93e23aa455a97958": {
      "model_module": "@jupyter-widgets/controls",
      "model_module_version": "1.5.0",
      "model_name": "ProgressStyleModel",
      "state": {
       "_model_module": "@jupyter-widgets/controls",
       "_model_module_version": "1.5.0",
       "_model_name": "ProgressStyleModel",
       "_view_count": null,
       "_view_module": "@jupyter-widgets/base",
       "_view_module_version": "1.2.0",
       "_view_name": "StyleView",
       "bar_color": null,
       "description_width": ""
      }
     },
     "c5de80b22af543edb57e65780298069e": {
      "model_module": "@jupyter-widgets/controls",
      "model_module_version": "1.5.0",
      "model_name": "DescriptionStyleModel",
      "state": {
       "_model_module": "@jupyter-widgets/controls",
       "_model_module_version": "1.5.0",
       "_model_name": "DescriptionStyleModel",
       "_view_count": null,
       "_view_module": "@jupyter-widgets/base",
       "_view_module_version": "1.2.0",
       "_view_name": "StyleView",
       "description_width": ""
      }
     },
     "d21724e187b94518ad3cc61f1daa73cf": {
      "model_module": "@jupyter-widgets/controls",
      "model_module_version": "1.5.0",
      "model_name": "HBoxModel",
      "state": {
       "_dom_classes": [],
       "_model_module": "@jupyter-widgets/controls",
       "_model_module_version": "1.5.0",
       "_model_name": "HBoxModel",
       "_view_count": null,
       "_view_module": "@jupyter-widgets/controls",
       "_view_module_version": "1.5.0",
       "_view_name": "HBoxView",
       "box_style": "",
       "children": [
        "IPY_MODEL_e13e1ad96b5648588ba7a5b2e3771179",
        "IPY_MODEL_7fb6ee0e688440bab23c07808e5cef8b",
        "IPY_MODEL_f9081778edc6436c9d1bc9a886ac922c"
       ],
       "layout": "IPY_MODEL_9901f18e7e5841b8bfcb918c432ef718"
      }
     },
     "d3b6e4a4aac943b79ba51bbacd77907e": {
      "model_module": "@jupyter-widgets/controls",
      "model_module_version": "1.5.0",
      "model_name": "DescriptionStyleModel",
      "state": {
       "_model_module": "@jupyter-widgets/controls",
       "_model_module_version": "1.5.0",
       "_model_name": "DescriptionStyleModel",
       "_view_count": null,
       "_view_module": "@jupyter-widgets/base",
       "_view_module_version": "1.2.0",
       "_view_name": "StyleView",
       "description_width": ""
      }
     },
     "d9f0d96d140a4115aadfdfc9ce5ba608": {
      "model_module": "@jupyter-widgets/controls",
      "model_module_version": "1.5.0",
      "model_name": "ProgressStyleModel",
      "state": {
       "_model_module": "@jupyter-widgets/controls",
       "_model_module_version": "1.5.0",
       "_model_name": "ProgressStyleModel",
       "_view_count": null,
       "_view_module": "@jupyter-widgets/base",
       "_view_module_version": "1.2.0",
       "_view_name": "StyleView",
       "bar_color": null,
       "description_width": ""
      }
     },
     "da88817e8aed48399b1948f8e004ee97": {
      "model_module": "@jupyter-widgets/base",
      "model_module_version": "1.2.0",
      "model_name": "LayoutModel",
      "state": {
       "_model_module": "@jupyter-widgets/base",
       "_model_module_version": "1.2.0",
       "_model_name": "LayoutModel",
       "_view_count": null,
       "_view_module": "@jupyter-widgets/base",
       "_view_module_version": "1.2.0",
       "_view_name": "LayoutView",
       "align_content": null,
       "align_items": null,
       "align_self": null,
       "border": null,
       "bottom": null,
       "display": null,
       "flex": null,
       "flex_flow": null,
       "grid_area": null,
       "grid_auto_columns": null,
       "grid_auto_flow": null,
       "grid_auto_rows": null,
       "grid_column": null,
       "grid_gap": null,
       "grid_row": null,
       "grid_template_areas": null,
       "grid_template_columns": null,
       "grid_template_rows": null,
       "height": null,
       "justify_content": null,
       "justify_items": null,
       "left": null,
       "margin": null,
       "max_height": null,
       "max_width": null,
       "min_height": null,
       "min_width": null,
       "object_fit": null,
       "object_position": null,
       "order": null,
       "overflow": null,
       "overflow_x": null,
       "overflow_y": null,
       "padding": null,
       "right": null,
       "top": null,
       "visibility": null,
       "width": null
      }
     },
     "dd68281fe7ea499882e5d23a5bbfb9f0": {
      "model_module": "@jupyter-widgets/base",
      "model_module_version": "1.2.0",
      "model_name": "LayoutModel",
      "state": {
       "_model_module": "@jupyter-widgets/base",
       "_model_module_version": "1.2.0",
       "_model_name": "LayoutModel",
       "_view_count": null,
       "_view_module": "@jupyter-widgets/base",
       "_view_module_version": "1.2.0",
       "_view_name": "LayoutView",
       "align_content": null,
       "align_items": null,
       "align_self": null,
       "border": null,
       "bottom": null,
       "display": null,
       "flex": null,
       "flex_flow": null,
       "grid_area": null,
       "grid_auto_columns": null,
       "grid_auto_flow": null,
       "grid_auto_rows": null,
       "grid_column": null,
       "grid_gap": null,
       "grid_row": null,
       "grid_template_areas": null,
       "grid_template_columns": null,
       "grid_template_rows": null,
       "height": null,
       "justify_content": null,
       "justify_items": null,
       "left": null,
       "margin": null,
       "max_height": null,
       "max_width": null,
       "min_height": null,
       "min_width": null,
       "object_fit": null,
       "object_position": null,
       "order": null,
       "overflow": null,
       "overflow_x": null,
       "overflow_y": null,
       "padding": null,
       "right": null,
       "top": null,
       "visibility": null,
       "width": null
      }
     },
     "de3e60ed24f04a7ab49a05b98b7cf0f0": {
      "model_module": "@jupyter-widgets/controls",
      "model_module_version": "1.5.0",
      "model_name": "DescriptionStyleModel",
      "state": {
       "_model_module": "@jupyter-widgets/controls",
       "_model_module_version": "1.5.0",
       "_model_name": "DescriptionStyleModel",
       "_view_count": null,
       "_view_module": "@jupyter-widgets/base",
       "_view_module_version": "1.2.0",
       "_view_name": "StyleView",
       "description_width": ""
      }
     },
     "e13e1ad96b5648588ba7a5b2e3771179": {
      "model_module": "@jupyter-widgets/controls",
      "model_module_version": "1.5.0",
      "model_name": "HTMLModel",
      "state": {
       "_dom_classes": [],
       "_model_module": "@jupyter-widgets/controls",
       "_model_module_version": "1.5.0",
       "_model_name": "HTMLModel",
       "_view_count": null,
       "_view_module": "@jupyter-widgets/controls",
       "_view_module_version": "1.5.0",
       "_view_name": "HTMLView",
       "description": "",
       "description_tooltip": null,
       "layout": "IPY_MODEL_1d83ae8940534922833de4d1fdd71216",
       "placeholder": "​",
       "style": "IPY_MODEL_46ab7441760642718f381e7f430e16a0",
       "value": "Downloading: 100%"
      }
     },
     "e3e17f880bab4d47a1531bebac861fda": {
      "model_module": "@jupyter-widgets/controls",
      "model_module_version": "1.5.0",
      "model_name": "HTMLModel",
      "state": {
       "_dom_classes": [],
       "_model_module": "@jupyter-widgets/controls",
       "_model_module_version": "1.5.0",
       "_model_name": "HTMLModel",
       "_view_count": null,
       "_view_module": "@jupyter-widgets/controls",
       "_view_module_version": "1.5.0",
       "_view_name": "HTMLView",
       "description": "",
       "description_tooltip": null,
       "layout": "IPY_MODEL_a3f3db4032b54ac49421d5cbd31a9533",
       "placeholder": "​",
       "style": "IPY_MODEL_35cb92ba1b2d4932bc3a0b0640f71b0c",
       "value": " 580/580 [00:00&lt;00:00, 23.1kB/s]"
      }
     },
     "ec381745899e4ce7900c973c72d2ff3b": {
      "model_module": "@jupyter-widgets/controls",
      "model_module_version": "1.5.0",
      "model_name": "ProgressStyleModel",
      "state": {
       "_model_module": "@jupyter-widgets/controls",
       "_model_module_version": "1.5.0",
       "_model_name": "ProgressStyleModel",
       "_view_count": null,
       "_view_module": "@jupyter-widgets/base",
       "_view_module_version": "1.2.0",
       "_view_name": "StyleView",
       "bar_color": null,
       "description_width": ""
      }
     },
     "f3e6058e180d40b8bc25ff82940789f1": {
      "model_module": "@jupyter-widgets/base",
      "model_module_version": "1.2.0",
      "model_name": "LayoutModel",
      "state": {
       "_model_module": "@jupyter-widgets/base",
       "_model_module_version": "1.2.0",
       "_model_name": "LayoutModel",
       "_view_count": null,
       "_view_module": "@jupyter-widgets/base",
       "_view_module_version": "1.2.0",
       "_view_name": "LayoutView",
       "align_content": null,
       "align_items": null,
       "align_self": null,
       "border": null,
       "bottom": null,
       "display": null,
       "flex": null,
       "flex_flow": null,
       "grid_area": null,
       "grid_auto_columns": null,
       "grid_auto_flow": null,
       "grid_auto_rows": null,
       "grid_column": null,
       "grid_gap": null,
       "grid_row": null,
       "grid_template_areas": null,
       "grid_template_columns": null,
       "grid_template_rows": null,
       "height": null,
       "justify_content": null,
       "justify_items": null,
       "left": null,
       "margin": null,
       "max_height": null,
       "max_width": null,
       "min_height": null,
       "min_width": null,
       "object_fit": null,
       "object_position": null,
       "order": null,
       "overflow": null,
       "overflow_x": null,
       "overflow_y": null,
       "padding": null,
       "right": null,
       "top": null,
       "visibility": null,
       "width": null
      }
     },
     "f7cdf444f3c041cda9b6bd5a47ca87c5": {
      "model_module": "@jupyter-widgets/controls",
      "model_module_version": "1.5.0",
      "model_name": "VBoxModel",
      "state": {
       "_dom_classes": [],
       "_model_module": "@jupyter-widgets/controls",
       "_model_module_version": "1.5.0",
       "_model_name": "VBoxModel",
       "_view_count": null,
       "_view_module": "@jupyter-widgets/controls",
       "_view_module_version": "1.5.0",
       "_view_name": "VBoxView",
       "box_style": "",
       "children": [
        "IPY_MODEL_5ffb53b010e948a0918366a7721dd7a9",
        "IPY_MODEL_86af7db3cea442beb67da28063f15ed6"
       ],
       "layout": "IPY_MODEL_b6f3605957844ac0b026ef0593befbae"
      }
     },
     "f836cfd56e0d4d7188f1b263a5845bff": {
      "model_module": "@jupyter-widgets/base",
      "model_module_version": "1.2.0",
      "model_name": "LayoutModel",
      "state": {
       "_model_module": "@jupyter-widgets/base",
       "_model_module_version": "1.2.0",
       "_model_name": "LayoutModel",
       "_view_count": null,
       "_view_module": "@jupyter-widgets/base",
       "_view_module_version": "1.2.0",
       "_view_name": "LayoutView",
       "align_content": null,
       "align_items": null,
       "align_self": null,
       "border": null,
       "bottom": null,
       "display": null,
       "flex": null,
       "flex_flow": null,
       "grid_area": null,
       "grid_auto_columns": null,
       "grid_auto_flow": null,
       "grid_auto_rows": null,
       "grid_column": null,
       "grid_gap": null,
       "grid_row": null,
       "grid_template_areas": null,
       "grid_template_columns": null,
       "grid_template_rows": null,
       "height": null,
       "justify_content": null,
       "justify_items": null,
       "left": null,
       "margin": null,
       "max_height": null,
       "max_width": null,
       "min_height": null,
       "min_width": null,
       "object_fit": null,
       "object_position": null,
       "order": null,
       "overflow": null,
       "overflow_x": null,
       "overflow_y": null,
       "padding": null,
       "right": null,
       "top": null,
       "visibility": null,
       "width": null
      }
     },
     "f9081778edc6436c9d1bc9a886ac922c": {
      "model_module": "@jupyter-widgets/controls",
      "model_module_version": "1.5.0",
      "model_name": "HTMLModel",
      "state": {
       "_dom_classes": [],
       "_model_module": "@jupyter-widgets/controls",
       "_model_module_version": "1.5.0",
       "_model_name": "HTMLModel",
       "_view_count": null,
       "_view_module": "@jupyter-widgets/controls",
       "_view_module_version": "1.5.0",
       "_view_name": "HTMLView",
       "description": "",
       "description_tooltip": null,
       "layout": "IPY_MODEL_f3e6058e180d40b8bc25ff82940789f1",
       "placeholder": "​",
       "style": "IPY_MODEL_842a840396ab4cefb93cc2733bf00cf7",
       "value": " 833M/833M [00:19&lt;00:00, 43.1MB/s]"
      }
     },
     "fb6b7fc69b2549ab9d80d71017422178": {
      "model_module": "@jupyter-widgets/base",
      "model_module_version": "1.2.0",
      "model_name": "LayoutModel",
      "state": {
       "_model_module": "@jupyter-widgets/base",
       "_model_module_version": "1.2.0",
       "_model_name": "LayoutModel",
       "_view_count": null,
       "_view_module": "@jupyter-widgets/base",
       "_view_module_version": "1.2.0",
       "_view_name": "LayoutView",
       "align_content": null,
       "align_items": null,
       "align_self": null,
       "border": null,
       "bottom": null,
       "display": null,
       "flex": null,
       "flex_flow": null,
       "grid_area": null,
       "grid_auto_columns": null,
       "grid_auto_flow": null,
       "grid_auto_rows": null,
       "grid_column": null,
       "grid_gap": null,
       "grid_row": null,
       "grid_template_areas": null,
       "grid_template_columns": null,
       "grid_template_rows": null,
       "height": null,
       "justify_content": null,
       "justify_items": null,
       "left": null,
       "margin": null,
       "max_height": null,
       "max_width": null,
       "min_height": null,
       "min_width": null,
       "object_fit": null,
       "object_position": null,
       "order": null,
       "overflow": null,
       "overflow_x": null,
       "overflow_y": null,
       "padding": null,
       "right": null,
       "top": null,
       "visibility": null,
       "width": null
      }
     },
     "ff0d93c0f2a54cae8698028db31d1454": {
      "model_module": "@jupyter-widgets/controls",
      "model_module_version": "1.5.0",
      "model_name": "DescriptionStyleModel",
      "state": {
       "_model_module": "@jupyter-widgets/controls",
       "_model_module_version": "1.5.0",
       "_model_name": "DescriptionStyleModel",
       "_view_count": null,
       "_view_module": "@jupyter-widgets/base",
       "_view_module_version": "1.2.0",
       "_view_name": "StyleView",
       "description_width": ""
      }
     }
    },
    "version_major": 2,
    "version_minor": 0
   }
  }
 },
 "nbformat": 4,
 "nbformat_minor": 5
}
